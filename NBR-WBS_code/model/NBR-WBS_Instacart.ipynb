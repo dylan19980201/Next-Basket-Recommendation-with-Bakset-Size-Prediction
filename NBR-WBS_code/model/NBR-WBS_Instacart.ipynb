{
 "cells": [
  {
   "cell_type": "markdown",
   "id": "a246ddd9",
   "metadata": {},
   "source": [
    "# 下載套件"
   ]
  },
  {
   "cell_type": "code",
   "execution_count": 1,
   "id": "72209793",
   "metadata": {},
   "outputs": [],
   "source": [
    "import torch\n",
    "import torch.nn as nn\n",
    "from torch import nn, matmul, softmax\n",
    "from torch.nn.init import xavier_uniform_\n",
    "import torch.nn.functional as F\n",
    "import torch.nn.utils.rnn as rnn_utils\n",
    "from torch.autograd import Variable\n",
    "\n",
    "import numpy as np\n",
    "import pandas as pd\n",
    "import gensim\n",
    "from gensim.models import KeyedVectors\n",
    "import pickle\n",
    "import gzip \n",
    "import gc\n",
    "import os\n",
    "import random"
   ]
  },
  {
   "cell_type": "code",
   "execution_count": 2,
   "id": "e3db86c1",
   "metadata": {},
   "outputs": [],
   "source": [
    "from torch.utils.data import DataLoader, Dataset\n",
    "from torch.utils.data.dataset import random_split\n",
    "\n",
    "from tqdm import tqdm\n",
    "from collections import Counter\n",
    "\n",
    "import math"
   ]
  },
  {
   "cell_type": "markdown",
   "id": "d32d7025",
   "metadata": {},
   "source": [
    "# 參數設置"
   ]
  },
  {
   "cell_type": "code",
   "execution_count": 3,
   "id": "6da217e0",
   "metadata": {},
   "outputs": [],
   "source": [
    "# 超參數\n",
    "EPOCHS = 15\n",
    "LEARNING_RATE = 0.001                  # Learning_rate\n",
    "BATCH_SIZE = 8\n",
    "ALPHA = 0.01 \n",
    "BETA = 0.001 \n",
    "EMBEDDING_DIMENSION = 32               # 嵌入維度\n",
    "MODEL_DIMENSION = EMBEDDING_DIMENSION  # 模型維度\n",
    "HIDDEN_DIMENSION = 128                 # MLP 隱藏層維度\n",
    "HIDDEN_SIZE = 16                       # LSTM 隱藏層維度\n",
    "NUM_HEAD = 2\n",
    "NUM_LAYER = 4\n",
    "\n",
    "isMC = 1\n",
    "isI2V = 1"
   ]
  },
  {
   "cell_type": "markdown",
   "id": "4283cbc8",
   "metadata": {},
   "source": [
    "# 匯入檔案\n",
    "- item2Vec_TaFeng.32d.model\n",
    "- TaFeng_user_cart_itemid_list.gz\n",
    "- Ta_feng_clean.csv"
   ]
  },
  {
   "cell_type": "code",
   "execution_count": 4,
   "id": "3715f2a4",
   "metadata": {},
   "outputs": [],
   "source": [
    "# 資料集\n",
    "# DATASET_NAME = \"TaFeng\"     # 讀取TaFeng資料\n",
    "# DATASET_NAME = \"Dunnhumby\"  # 讀取Dunnhumby資料\n",
    "DATASET_NAME = \"Instacart\"  # 讀取Instacart資料"
   ]
  },
  {
   "cell_type": "code",
   "execution_count": 5,
   "id": "32520298",
   "metadata": {},
   "outputs": [
    {
     "data": {
      "text/plain": [
       "torch.Size([27095, 32])"
      ]
     },
     "execution_count": 5,
     "metadata": {},
     "output_type": "execute_result"
    }
   ],
   "source": [
    "# load word2Vec pre_train model\n",
    "model_filename = f\"../preprocessing-data/item2vec_models/item2vec_{DATASET_NAME}.{EMBEDDING_DIMENSION}d.model\"\n",
    "# {DATASET}\n",
    "with open(model_filename, \"rb\") as fp:\n",
    "    model = pickle.load(fp)\n",
    "weights = torch.FloatTensor(model.wv.vectors)\n",
    "weights.shape"
   ]
  },
  {
   "cell_type": "code",
   "execution_count": 6,
   "id": "bbe80d00",
   "metadata": {
    "scrolled": true
   },
   "outputs": [
    {
     "data": {
      "text/plain": [
       "[(1,\n",
       "  [[0, 1, 2, 3, 4],\n",
       "   [0, 5, 2, 6, 3, 7],\n",
       "   [0, 2, 5, 8, 9],\n",
       "   [0, 2, 5, 8, 4],\n",
       "   [0, 2, 5, 8, 10, 11, 12, 6],\n",
       "   [0, 2, 5, 8],\n",
       "   [0, 5, 2, 8, 7],\n",
       "   [2, 0, 5, 8, 13, 14],\n",
       "   [14, 13, 8, 0, 5, 2],\n",
       "   [0, 13, 15, 16, 8, 5, 17, 7, 2],\n",
       "   [0, 8, 16, 4, 15, 5, 7, 3, 18, 14, 13]],\n",
       "  [5, 6, 5, 5, 8, 4, 5, 6, 6, 9, 11]),\n",
       " (2,\n",
       "  [[19, 20, 21, 22, 23, 24, 25, 26, 27, 28, 29, 6, 30],\n",
       "   [31, 32, 33, 20, 34, 35],\n",
       "   [20, 19, 21, 36, 37],\n",
       "   [38, 19, 39, 40, 41, 42, 43, 44, 45, 46, 47, 48, 49],\n",
       "   [50, 51, 52, 53, 54, 55, 56, 57, 58, 59, 60, 61, 20],\n",
       "   [19,\n",
       "    22,\n",
       "    48,\n",
       "    39,\n",
       "    62,\n",
       "    27,\n",
       "    44,\n",
       "    30,\n",
       "    29,\n",
       "    45,\n",
       "    41,\n",
       "    63,\n",
       "    64,\n",
       "    65,\n",
       "    66,\n",
       "    67,\n",
       "    68,\n",
       "    69,\n",
       "    12,\n",
       "    34,\n",
       "    46],\n",
       "   [19, 22, 25, 62, 34, 39, 45, 44, 70, 71, 72, 30, 12, 40],\n",
       "   [19, 73, 44, 40, 23, 45, 62, 72, 71, 70, 74, 75, 76, 77, 78, 79],\n",
       "   [19,\n",
       "    44,\n",
       "    22,\n",
       "    54,\n",
       "    77,\n",
       "    36,\n",
       "    80,\n",
       "    81,\n",
       "    82,\n",
       "    64,\n",
       "    59,\n",
       "    60,\n",
       "    61,\n",
       "    83,\n",
       "    66,\n",
       "    65,\n",
       "    84,\n",
       "    24,\n",
       "    85,\n",
       "    86,\n",
       "    87,\n",
       "    47,\n",
       "    88,\n",
       "    89,\n",
       "    90,\n",
       "    91],\n",
       "   [44, 22, 45, 65, 66, 61, 60, 77, 92],\n",
       "   [19, 93, 34, 60, 66, 61, 59, 64, 24, 25, 39, 94, 45, 77, 95],\n",
       "   [19,\n",
       "    45,\n",
       "    59,\n",
       "    60,\n",
       "    61,\n",
       "    83,\n",
       "    96,\n",
       "    97,\n",
       "    98,\n",
       "    99,\n",
       "    100,\n",
       "    66,\n",
       "    41,\n",
       "    74,\n",
       "    64,\n",
       "    25,\n",
       "    101,\n",
       "    102,\n",
       "    103],\n",
       "   [104, 105, 106, 107, 108, 109, 110, 111, 112],\n",
       "   [44, 25, 61, 60, 66, 113, 114, 64, 98, 45, 36, 92, 115, 116, 117, 118],\n",
       "   [74,\n",
       "    118,\n",
       "    25,\n",
       "    19,\n",
       "    12,\n",
       "    113,\n",
       "    119,\n",
       "    44,\n",
       "    30,\n",
       "    120,\n",
       "    84,\n",
       "    121,\n",
       "    122,\n",
       "    123,\n",
       "    124,\n",
       "    125,\n",
       "    89,\n",
       "    47,\n",
       "    126,\n",
       "    127,\n",
       "    90,\n",
       "    128,\n",
       "    129,\n",
       "    130,\n",
       "    131,\n",
       "    132,\n",
       "    133,\n",
       "    134,\n",
       "    135,\n",
       "    136,\n",
       "    137]],\n",
       "  [13, 6, 5, 13, 13, 21, 14, 16, 26, 9, 15, 19, 9, 16, 31])]"
      ]
     },
     "execution_count": 6,
     "metadata": {},
     "output_type": "execute_result"
    }
   ],
   "source": [
    "# {DATASET} user_cart_itemid_list 用戶id, 購物籃時間差(不會使用到), 此用戶的購物籃串列(每個串列包含多項目)。\n",
    "with gzip.open(f\"../preprocessing-data/{DATASET_NAME}_user_cart_itemid_list.gz\", \"rb\") as fp:\n",
    "    user_cart_itemid_list = pickle.load(fp)\n",
    "user_cart_itemid_list[:2]"
   ]
  },
  {
   "cell_type": "code",
   "execution_count": 7,
   "id": "361c43d7",
   "metadata": {},
   "outputs": [],
   "source": [
    "# Load {DATASET} confidences_Matrix\n",
    "with gzip.open(f\"../preprocessing-data/confidences/{DATASET_NAME}_confidences_array.gz\", \"rb\") as fp:\n",
    "    confidences = pickle.load(fp)"
   ]
  },
  {
   "cell_type": "code",
   "execution_count": 8,
   "id": "b83d2fe8",
   "metadata": {},
   "outputs": [
    {
     "name": "stdout",
     "output_type": "stream",
     "text": [
      "100\n"
     ]
    },
    {
     "data": {
      "text/html": [
       "<div>\n",
       "<style scoped>\n",
       "    .dataframe tbody tr th:only-of-type {\n",
       "        vertical-align: middle;\n",
       "    }\n",
       "\n",
       "    .dataframe tbody tr th {\n",
       "        vertical-align: top;\n",
       "    }\n",
       "\n",
       "    .dataframe thead th {\n",
       "        text-align: right;\n",
       "    }\n",
       "</style>\n",
       "<table border=\"1\" class=\"dataframe\">\n",
       "  <thead>\n",
       "    <tr style=\"text-align: right;\">\n",
       "      <th></th>\n",
       "      <th>CUSTOMER_ID</th>\n",
       "      <th>ORDER_NUMBER</th>\n",
       "      <th>PRODUCT_ID</th>\n",
       "      <th>CART_ID</th>\n",
       "      <th>NEW_ITEM_ID</th>\n",
       "    </tr>\n",
       "  </thead>\n",
       "  <tbody>\n",
       "    <tr>\n",
       "      <th>0</th>\n",
       "      <td>1</td>\n",
       "      <td>1</td>\n",
       "      <td>196</td>\n",
       "      <td>0</td>\n",
       "      <td>0</td>\n",
       "    </tr>\n",
       "    <tr>\n",
       "      <th>1</th>\n",
       "      <td>1</td>\n",
       "      <td>1</td>\n",
       "      <td>14084</td>\n",
       "      <td>0</td>\n",
       "      <td>1</td>\n",
       "    </tr>\n",
       "    <tr>\n",
       "      <th>2</th>\n",
       "      <td>1</td>\n",
       "      <td>1</td>\n",
       "      <td>12427</td>\n",
       "      <td>0</td>\n",
       "      <td>2</td>\n",
       "    </tr>\n",
       "    <tr>\n",
       "      <th>3</th>\n",
       "      <td>1</td>\n",
       "      <td>1</td>\n",
       "      <td>26088</td>\n",
       "      <td>0</td>\n",
       "      <td>3</td>\n",
       "    </tr>\n",
       "    <tr>\n",
       "      <th>4</th>\n",
       "      <td>1</td>\n",
       "      <td>1</td>\n",
       "      <td>26405</td>\n",
       "      <td>0</td>\n",
       "      <td>4</td>\n",
       "    </tr>\n",
       "    <tr>\n",
       "      <th>...</th>\n",
       "      <td>...</td>\n",
       "      <td>...</td>\n",
       "      <td>...</td>\n",
       "      <td>...</td>\n",
       "      <td>...</td>\n",
       "    </tr>\n",
       "    <tr>\n",
       "      <th>3252971</th>\n",
       "      <td>20620</td>\n",
       "      <td>5</td>\n",
       "      <td>22963</td>\n",
       "      <td>295153</td>\n",
       "      <td>74</td>\n",
       "    </tr>\n",
       "    <tr>\n",
       "      <th>3252972</th>\n",
       "      <td>20620</td>\n",
       "      <td>5</td>\n",
       "      <td>12204</td>\n",
       "      <td>295153</td>\n",
       "      <td>1604</td>\n",
       "    </tr>\n",
       "    <tr>\n",
       "      <th>3252973</th>\n",
       "      <td>20620</td>\n",
       "      <td>5</td>\n",
       "      <td>21543</td>\n",
       "      <td>295153</td>\n",
       "      <td>3295</td>\n",
       "    </tr>\n",
       "    <tr>\n",
       "      <th>3252974</th>\n",
       "      <td>20620</td>\n",
       "      <td>5</td>\n",
       "      <td>23541</td>\n",
       "      <td>295153</td>\n",
       "      <td>417</td>\n",
       "    </tr>\n",
       "    <tr>\n",
       "      <th>3252975</th>\n",
       "      <td>20620</td>\n",
       "      <td>5</td>\n",
       "      <td>45106</td>\n",
       "      <td>295153</td>\n",
       "      <td>2494</td>\n",
       "    </tr>\n",
       "  </tbody>\n",
       "</table>\n",
       "<p>3252976 rows × 5 columns</p>\n",
       "</div>"
      ],
      "text/plain": [
       "         CUSTOMER_ID  ORDER_NUMBER  PRODUCT_ID  CART_ID  NEW_ITEM_ID\n",
       "0                  1             1         196        0            0\n",
       "1                  1             1       14084        0            1\n",
       "2                  1             1       12427        0            2\n",
       "3                  1             1       26088        0            3\n",
       "4                  1             1       26405        0            4\n",
       "...              ...           ...         ...      ...          ...\n",
       "3252971        20620             5       22963   295153           74\n",
       "3252972        20620             5       12204   295153         1604\n",
       "3252973        20620             5       21543   295153         3295\n",
       "3252974        20620             5       23541   295153          417\n",
       "3252975        20620             5       45106   295153         2494\n",
       "\n",
       "[3252976 rows x 5 columns]"
      ]
     },
     "execution_count": 8,
     "metadata": {},
     "output_type": "execute_result"
    }
   ],
   "source": [
    "dataset = pd.read_csv(f\"../cleaned_dataset/{DATASET_NAME}_clean.csv\")\n",
    "\n",
    "# 最多購物籃\n",
    "max_cart_count = dataset.groupby(\"CUSTOMER_ID\")[\"CART_ID\"].nunique().max()\n",
    "print(max_cart_count)\n",
    "\n",
    "dataset"
   ]
  },
  {
   "cell_type": "markdown",
   "id": "a0877d82",
   "metadata": {},
   "source": [
    "# 切分資料集\n",
    "- 分成輸入資料與標籤資料\n",
    "- 訓練集:驗證集:測試集 = 7:1:2"
   ]
  },
  {
   "cell_type": "code",
   "execution_count": 9,
   "id": "73e9cf41",
   "metadata": {},
   "outputs": [],
   "source": [
    "# 切分資料集\n",
    "# train_set_size = int(len(user_cart_itemid_list) * 0.8)\n",
    "# valid_set_size = int(len(user_cart_itemid_list) * 0.1)\n",
    "# test_set_size = len(user_cart_itemid_list)-train_set_size-valid_set_size\n",
    "# train_set, valid_set, test_set = random_split(user_cart_itemid_list, [train_set_size, valid_set_size, test_set_size])\n",
    "# print(len(train_set))\n",
    "# print(len(valid_set))\n",
    "# print(len(test_set))"
   ]
  },
  {
   "cell_type": "code",
   "execution_count": 10,
   "id": "5edaa93d",
   "metadata": {},
   "outputs": [],
   "source": [
    "# 將切割好的資料集暫存起來\n",
    "\n",
    "# # 訓練集\n",
    "# filepath = \"../preprocessing-data/TaFeng_dataset/train_set.pkl\"\n",
    "# with open(filepath, \"wb\") as f:\n",
    "#     pickle.dump(train_set, f)\n",
    "# # 驗證集\n",
    "# filepath = \"../preprocessing-data/TaFeng_dataset/valid_set.pkl\"\n",
    "# with open(filepath, \"wb\") as f:\n",
    "#     pickle.dump(valid_set, f)\n",
    "# # 測試集\n",
    "# filepath = \"../preprocessing-data/TaFeng_dataset/test_set.pkl\"\n",
    "# with open(filepath, \"wb\") as f:\n",
    "#     pickle.dump(test_set, f)"
   ]
  },
  {
   "cell_type": "code",
   "execution_count": 11,
   "id": "b203d0c9",
   "metadata": {},
   "outputs": [],
   "source": [
    "# 讀取之前暫存的資料集\n",
    "\n",
    "# 載入訓練、驗證、測試集\n",
    "with open(f\"../preprocessing-data/{DATASET_NAME}_dataset/train_set.pkl\", \"rb\") as fp:\n",
    "    train_set = pickle.load(fp)\n",
    "with open(f\"../preprocessing-data/{DATASET_NAME}_dataset/valid_set.pkl\", \"rb\") as fp:\n",
    "    valid_set = pickle.load(fp)\n",
    "with open(f\"../preprocessing-data/{DATASET_NAME}_dataset/test_set.pkl\", \"rb\") as fp:\n",
    "    test_set = pickle.load(fp)"
   ]
  },
  {
   "cell_type": "markdown",
   "id": "c9585447",
   "metadata": {},
   "source": [
    "# Batch"
   ]
  },
  {
   "cell_type": "code",
   "execution_count": 12,
   "id": "a209539b",
   "metadata": {
    "scrolled": true
   },
   "outputs": [
    {
     "data": {
      "text/plain": [
       "device(type='cuda')"
      ]
     },
     "execution_count": 12,
     "metadata": {},
     "output_type": "execute_result"
    }
   ],
   "source": [
    "device = torch.device(\"cuda\" if torch.cuda.is_available() else \"cpu\")\n",
    "device"
   ]
  },
  {
   "cell_type": "code",
   "execution_count": 13,
   "id": "b348e2b5",
   "metadata": {},
   "outputs": [],
   "source": [
    "# 定義資料轉換函數(於collate_batch函式中使用)\n",
    "item_index_pipeline = lambda x : [[model.wv.key_to_index[j] for j in i] for i in x] # 取得購物籃中，項目的索引值(只有使用Item2Vec時會需要)\n",
    "item_label_pipeline = lambda x : [model.wv.key_to_index[j] for j in x]"
   ]
  },
  {
   "cell_type": "code",
   "execution_count": 14,
   "id": "92fb3dee",
   "metadata": {},
   "outputs": [],
   "source": [
    "class TensorDataset(Dataset):\n",
    "    # TensorDataset繼承Dataset, 重載__init__, __getitem__, __len__\n",
    "    # 實現將一組Tensor數據封裝成Tensor數據集\n",
    "    # 能夠通過Index得到數據集的數據，能夠通過len，得到數據集大小\n",
    "    def __init__(self, data_tensor):\n",
    "        self.data_tensor = data_tensor\n",
    "    def __getitem__(self, index):\n",
    "        return self.data_tensor[index]\n",
    "    def __len__(self):\n",
    "        return len(self.data_tensor)\n",
    "\n",
    "# 輸出userID, input_list跟label(最後一個購物籃)\n",
    "def collate_batch(batch):\n",
    "    # 使用ID、時間差、訓練的購物籃項目、預測的購物籃項目\n",
    "    userID, input_item_list, label_item_list, input_size_list, label_size_list = [], [], [], [], []\n",
    "    for _user in batch:\n",
    "        #　userID\n",
    "        userID.append(_user[0])\n",
    "        # 所有購物籃的項目ID串列中的最後一個購物籃項目ID\n",
    "#         label_item_list.append(torch.tensor(_user[1][-1]))\n",
    "        label_size_list.append(torch.tensor(_user[2][-1]))\n",
    "        \n",
    "        # 不使用Item2Vec進行項目嵌入\n",
    "        if isI2V == 0:\n",
    "            train_list = _user[1][0:-1]\n",
    "            label_list = torch.tensor(_user[1][-1])\n",
    "        # 使用Item2Vec進行項目嵌入\n",
    "        else:\n",
    "            train_list = item_index_pipeline(_user[1][0:-1])\n",
    "            label_list = torch.tensor(item_label_pipeline(_user[1][-1]))\n",
    "        input_size_list.append(_user[2][0:-1])\n",
    "        \n",
    "        input_item_list.append(train_list) #　所有購物籃的項目ID串列(除了最後一個購物籃)\n",
    "        label_item_list.append(label_list)\n",
    "    \n",
    "    return userID, input_item_list, label_item_list, input_size_list, label_size_list"
   ]
  },
  {
   "cell_type": "code",
   "execution_count": 15,
   "id": "f442f66a",
   "metadata": {},
   "outputs": [],
   "source": [
    "# 轉成 Dataset\n",
    "split_train_ = TensorDataset(train_set)\n",
    "split_valid_ = TensorDataset(valid_set)\n",
    "split_test_ = TensorDataset(test_set)"
   ]
  },
  {
   "cell_type": "code",
   "execution_count": 16,
   "id": "54fe7bc6",
   "metadata": {},
   "outputs": [],
   "source": [
    "# DataLoader \n",
    "train_dataloader = DataLoader(split_train_, batch_size=BATCH_SIZE, shuffle=True, collate_fn=collate_batch, drop_last=True)\n",
    "valid_dataloader = DataLoader(split_valid_, batch_size=BATCH_SIZE, shuffle=True, collate_fn=collate_batch, drop_last=True)\n",
    "test_dataloader = DataLoader(split_test_, batch_size=BATCH_SIZE, shuffle=True, collate_fn=collate_batch, drop_last=True)"
   ]
  },
  {
   "cell_type": "markdown",
   "id": "637657be",
   "metadata": {},
   "source": [
    "# Self-Attention"
   ]
  },
  {
   "cell_type": "code",
   "execution_count": 17,
   "id": "a96171ad",
   "metadata": {},
   "outputs": [],
   "source": [
    "# 使用nn.MultiheadAttention\n",
    "# 輸入一個用戶的一個購物籃，輸出購物籃嵌入\n",
    "class SelfAttention(nn.Module):\n",
    "    def __init__(self, embed_dim, model_dim): #項目向量維度，輸出模型的維度\n",
    "        super(SelfAttention, self).__init__()\n",
    "        self.embed_dim = embed_dim\n",
    "        self.model_dim = model_dim\n",
    "        \n",
    "        # 初始化Q, K, V 矩陣\n",
    "        self.query_matrix = nn.Linear(embed_dim, model_dim)\n",
    "        xavier_uniform_(self.query_matrix.weight)\n",
    "        self.key_matrix = nn.Linear(embed_dim, model_dim)\n",
    "        xavier_uniform_(self.key_matrix.weight)\n",
    "        self.value_matrix = nn.Linear(embed_dim, model_dim)\n",
    "        xavier_uniform_(self.value_matrix.weight)\n",
    "        self.multihead_attn = nn.MultiheadAttention(embed_dim, num_heads=1)\n",
    "        \n",
    "    def forward(self, inputs, attention_mask):\n",
    "        \n",
    "        # 輸入一個項目向量，透過三個可學習的參數矩陣，得到計算所需要的 q,k,v\n",
    "        q = self.query_matrix(inputs)\n",
    "        k = self.key_matrix(inputs)\n",
    "        v = self.value_matrix(inputs)\n",
    "        \n",
    "        attn_output, attn_output_weight = self.multihead_attn(q, k, v, key_padding_mask=attention_mask.transpose(0,1))\n",
    "        \n",
    "        output_mean = torch.tensor([[0 for _ in range(MODEL_DIMENSION)] for _ in range(len(attention_mask))], dtype=torch.float).to(device)\n",
    "        for i, cart in enumerate(attention_mask):\n",
    "            for j, mask in enumerate(cart):\n",
    "                if mask == False:\n",
    "                    output_mean[i] = attn_output[i][j] # 使用最後一個項目作為輸出\n",
    "        basket_embedding = output_mean\n",
    "        \n",
    "        return basket_embedding"
   ]
  },
  {
   "cell_type": "markdown",
   "id": "a3043def",
   "metadata": {},
   "source": [
    "   # LSTM"
   ]
  },
  {
   "cell_type": "code",
   "execution_count": 18,
   "id": "3b8530b2",
   "metadata": {},
   "outputs": [],
   "source": [
    "class LSTM(nn.Module):\n",
    "    def __init__(self, input_size, output_size, hiddenlayer1 = 512, hiddenlayer2 = 256, hiddenlayer3 = 128):\n",
    "        super(LSTM, self).__init__()\n",
    "        self.lstm = torch.nn.LSTM(input_size, HIDDEN_SIZE, 2)\n",
    "        self.hiddenlayer1 = torch.nn.Linear(max_cart_count * HIDDEN_SIZE, hiddenlayer1)\n",
    "        self.hiddenlayer2 = torch.nn.Linear(hiddenlayer1, hiddenlayer1)\n",
    "        self.hiddenlayer3 = torch.nn.Linear(hiddenlayer1, hiddenlayer2)\n",
    "        self.hiddenlayer4 = torch.nn.Linear(hiddenlayer2, hiddenlayer3)\n",
    "        self.embed = torch.nn.Linear(hiddenlayer3, EMBEDDING_DIMENSION)\n",
    "        self.leakyrelu = torch.nn.LeakyReLU()\n",
    "    \n",
    "    def forward(self, inputs):\n",
    "        output, (h,c) = self.lstm(inputs)\n",
    "        hidden1 = self.hiddenlayer1(output.view(max_cart_count * HIDDEN_SIZE))\n",
    "        hidden2 = self.hiddenlayer2(hidden1)\n",
    "        hidden3 = self.hiddenlayer3(hidden2)\n",
    "        hidden4 = self.hiddenlayer4(hidden3)\n",
    "        output = self.embed(hidden4)\n",
    "        return output"
   ]
  },
  {
   "cell_type": "markdown",
   "id": "00cd99b7",
   "metadata": {},
   "source": [
    "# Transformer"
   ]
  },
  {
   "cell_type": "code",
   "execution_count": 19,
   "id": "bc0ed90c",
   "metadata": {},
   "outputs": [],
   "source": [
    "class PositionalEncoding(nn.Module):\n",
    "    def __init__(self, d_model:int, dropout, maxlen:int=500):\n",
    "        super(PositionalEncoding, self).__init__()\n",
    "        # den 是把10000^(2i/d_model)取log_e，前面加負號是求倒數\n",
    "        den = torch.exp(-torch.arange(0, d_model, 2) * math.log(10000) / d_model)\n",
    "        pos = torch.arange(0, maxlen).reshape(maxlen, 1)\n",
    "        pos_embedding = torch.zeros(maxlen, d_model)#.to(device)\n",
    "        pos_embedding[:, 0::2] = torch.sin(pos*den)\n",
    "        pos_embedding[:, 1::2] = torch.cos(pos*den)\n",
    "        \n",
    "        pos_embedding = pos_embedding.unsqueeze(0)\n",
    "        \n",
    "        self.dropout = nn.Dropout(dropout)\n",
    "        self.register_buffer(\"pos_embedding\", pos_embedding)\n",
    "        \n",
    "    def forward(self, token_embedding):\n",
    "        return self.dropout(token_embedding+ self.pos_embedding[:, :token_embedding.size(1), :])\n",
    "    \n",
    "class TransformerEncoder(nn.Module):\n",
    "    def __init__(self, d_model, num_heads=8, num_layers=6):\n",
    "        super(TransformerEncoder, self).__init__()\n",
    "        self.pe = PositionalEncoding(d_model=d_model, dropout=0.5, maxlen=max_cart_count*2)\n",
    "        # 創建 Transformer 模型\n",
    "        self.transformer = nn.TransformerEncoder(\n",
    "            nn.TransformerEncoderLayer(d_model=d_model, nhead=num_heads),\n",
    "            num_layers=num_layers\n",
    "        )\n",
    "    \n",
    "    def forward(self, baskets_embedding):\n",
    "        baskets_embedding_pe = self.pe(baskets_embedding)\n",
    "        \n",
    "        # 購物籃padding的遮罩\n",
    "        padding_mask = ~baskets_embedding.sum(dim=-1).ne(0).transpose(0,1)\n",
    "        \n",
    "        output = self.transformer(baskets_embedding_pe.to(torch.float32), src_key_padding_mask=padding_mask.to(torch.float32))\n",
    "        return output"
   ]
  },
  {
   "cell_type": "markdown",
   "id": "9cdd237c",
   "metadata": {},
   "source": [
    "# MLP層"
   ]
  },
  {
   "cell_type": "code",
   "execution_count": 20,
   "id": "e8fb5303",
   "metadata": {},
   "outputs": [],
   "source": [
    "class MLPforItem(nn.Module):\n",
    "    def __init__(self, embed_dim, hidden_dim, items_dim):\n",
    "        super(MLPforItem, self).__init__()\n",
    "        # hidden layer\n",
    "        self.hidden = nn.Linear(embed_dim, hidden_dim)\n",
    "        xavier_uniform_(self.hidden.weight)\n",
    "        self.norm = nn.BatchNorm1d(hidden_dim, momentum=0.03)\n",
    "        self.relu = nn.ReLU()\n",
    "        # output layer\n",
    "        self.output = nn.Linear(hidden_dim, items_dim)\n",
    "        self.softmax = nn.Softmax(dim=0)\n",
    "    def forward(self, inputs):\n",
    "        y = self.relu(self.norm(self.hidden(inputs)))\n",
    "        return self.output(y)\n",
    "#         return self.softmax(self.output(y))"
   ]
  },
  {
   "cell_type": "code",
   "execution_count": 21,
   "id": "b52aa95b",
   "metadata": {},
   "outputs": [],
   "source": [
    "class MLPforSize(nn.Module):\n",
    "    def __init__(self, embed_dim):\n",
    "        super(MLPforSize, self).__init__()\n",
    "        # predict layer\n",
    "        self.predict = nn.Linear(embed_dim, 1)\n",
    "        self.relu = nn.ReLU()\n",
    "    def forward(self, inputs):\n",
    "        output = self.relu(self.predict(inputs))\n",
    "        return output"
   ]
  },
  {
   "cell_type": "markdown",
   "id": "9afdd949",
   "metadata": {},
   "source": [
    "# 損失函數"
   ]
  },
  {
   "cell_type": "code",
   "execution_count": 22,
   "id": "9b8084b8",
   "metadata": {},
   "outputs": [],
   "source": [
    "# MSE\n",
    "def mean_square_error(prediction, target):\n",
    "    predictions = prediction[0]\n",
    "    targets = torch.tensor([target[0]], dtype=torch.float).to(device)\n",
    "    loss = F.mse_loss(predictions, targets)\n",
    "    for i in range(1, len(prediction)):\n",
    "        predictions = prediction[i]\n",
    "        targets= torch.tensor([target[i]], dtype=torch.float).to(device)\n",
    "        loss += F.mse_loss(predictions, targets)\n",
    "    return loss"
   ]
  },
  {
   "cell_type": "code",
   "execution_count": 23,
   "id": "578a7e8b",
   "metadata": {},
   "outputs": [],
   "source": [
    "# cross_entropy_loss\n",
    "def cross_entropy_loss(predictions, targets):\n",
    "    # 創建稀疏張量的索引和值\n",
    "    indices = []\n",
    "    values = []\n",
    "    for i, t in enumerate(targets):\n",
    "        for v in t:\n",
    "            indices.append([i, v])\n",
    "            values.append(1)\n",
    "            \n",
    "    # 創建稀疏張量\n",
    "    sparse_targets = torch.sparse_coo_tensor(indices=torch.tensor(indices).t(),\n",
    "                                             values=torch.tensor(values, dtype=torch.float32),\n",
    "                                             size=(len(targets), items_count), device=device)\n",
    "    sparse_targets = sparse_targets.to_dense()\n",
    "    \n",
    "    loss = F.binary_cross_entropy_with_logits(predictions, sparse_targets)\n",
    "    return loss"
   ]
  },
  {
   "cell_type": "markdown",
   "id": "08aefe4a",
   "metadata": {},
   "source": [
    "# 評估指標"
   ]
  },
  {
   "cell_type": "code",
   "execution_count": 24,
   "id": "02891cdd",
   "metadata": {},
   "outputs": [],
   "source": [
    "def format_metric(result_dict):\n",
    "    assert type(result_dict) == dict\n",
    "    format_str = []\n",
    "    metrics = np.unique([k for k in result_dict.keys()])\n",
    "    for metric in metrics:\n",
    "        name = '{}'.format(metric)\n",
    "        m = result_dict[name]\n",
    "        if type(m) is float or type(m) is np.float32 or type(m) is np.float64:\n",
    "            format_str.append(\"{}: {:<.4f}\".format(name, m))\n",
    "        elif type(m) is int or type(m) is np.int32 or type(m) is np.int64:\n",
    "            format_str.append(\"{}: {}\".format(name, m))\n",
    "    return \", \".join(format_str)"
   ]
  },
  {
   "cell_type": "markdown",
   "id": "fa92db9d",
   "metadata": {},
   "source": [
    "## F1-score"
   ]
  },
  {
   "cell_type": "code",
   "execution_count": 25,
   "id": "f7cca32b",
   "metadata": {},
   "outputs": [],
   "source": [
    "def calculate_f1_score(predictions, targets, k_list):\n",
    "    \"\"\"\n",
    "    計算 F1-score@K。\n",
    "\n",
    "    Args:\n",
    "        predictions: 二維的預測機率矩陣，大小為 [num_users, num_items]。\n",
    "        targets: 一個包含每個用戶真實標籤的列表，其中每個列表的大小不同。\n",
    "        k_list: 用預測出的K值，計算F1-score@K\n",
    "\n",
    "    Returns:\n",
    "        F1-score@K 分數。\n",
    "    \"\"\"\n",
    "    # 將預測機率矩陣值轉換為 Pytorch 張量\n",
    "    predictions = torch.from_numpy(np.array(predictions, dtype=np.float32))\n",
    "    num_users = len(targets)\n",
    "    f1_score_eval = dict()\n",
    "    \n",
    "    precision_sum = 0.0\n",
    "    recall_sum = 0.0\n",
    "    f1_score_sum = 0.0\n",
    "    for i in range(num_users):\n",
    "        \n",
    "        # 將用戶 i 的真實標籤轉換為 PyTorch 張量。\n",
    "        labels = torch.from_numpy(np.array(targets[i], dtype=np.int64))\n",
    "        # 計算用戶 i 在預測機率矩陣中機率最高的 K 個項目索引\n",
    "        top_k_item_labels = torch.topk(predictions[i], k_list[i])[1]\n",
    "        # 計算用戶 i 的真實標籤和預測標籤的交集 (TP)\n",
    "        true_positives = torch.sum(torch.sum(torch.eq(top_k_item_labels, labels.unsqueeze(1)).to(torch.float32), dim=1)).item()\n",
    "        # 計算用戶 i 的真實標籤和預測標籤的聯集\n",
    "        predicted_positives = k_list[i] # TP+FP\n",
    "        actual_positives = len(labels)  # TP+FN\n",
    "        # 預防 K 預測為0導致 precision 分母為0\n",
    "        if predicted_positives == 0:\n",
    "            precision = 0.0\n",
    "        else:\n",
    "            precision = true_positives / predicted_positives\n",
    "        # 預防實際 K 為0導致 recall 分母為0\n",
    "        if actual_positives == 0:\n",
    "            recall = 0.0\n",
    "        else:\n",
    "            recall = true_positives / actual_positives\n",
    "        # 計算F1-score\n",
    "        if precision + recall == 0:\n",
    "            f1_score = 0.0\n",
    "        else:\n",
    "            f1_score = 2 * precision * recall / (precision + recall)\n",
    "        precision_sum += precision\n",
    "        recall_sum += recall\n",
    "        f1_score_sum += f1_score\n",
    "        \n",
    "    # 計算平均分數\n",
    "    precision = precision_sum / float(num_users)\n",
    "    recall = recall_sum / float(num_users)\n",
    "    f1_score = f1_score_sum / float(num_users)\n",
    "    # 儲存到dict\n",
    "    key = \"{}\".format(\"Recall\")\n",
    "    f1_score_eval[key] = recall\n",
    "    key = \"{}\".format(\"Precision\")\n",
    "    f1_score_eval[key] = precision\n",
    "    key = \"{}\".format(\"F1-score\")\n",
    "    f1_score_eval[key] = f1_score\n",
    "    \n",
    "    return f1_score_eval"
   ]
  },
  {
   "cell_type": "markdown",
   "id": "506ff404",
   "metadata": {},
   "source": [
    "## NDCG"
   ]
  },
  {
   "cell_type": "code",
   "execution_count": 26,
   "id": "4c566188",
   "metadata": {},
   "outputs": [],
   "source": [
    "def calculate_ndcg(basket_predictions, basket_targets, size_predictions, size_targets):\n",
    "    \"\"\"\n",
    "    計算 NDCG@K。\n",
    "\n",
    "    Args:\n",
    "        basket_predictions: 預測購物籃項目\n",
    "        bakset_targets: 實際購物籃項目\n",
    "        size_predictions: 預測購物籃大小\n",
    "        size_targets: 實際購物籃大小  \n",
    "\n",
    "    Returns:\n",
    "        NDCG@K 分數。\n",
    "    \"\"\"\n",
    "    # 將預測機率矩陣轉換為 PyTorch 張量\n",
    "    predictions = torch.from_numpy(np.array(basket_predictions, dtype=np.float32))\n",
    "    num_users = len(basket_targets)\n",
    "    ndcg_eval = dict()\n",
    "    \n",
    "    ndcg_sum = 0.0\n",
    "    for i in range(num_users):\n",
    "        # 將用戶 i 的真實標籤轉換為 PyTorch 張量\n",
    "        labels = torch.from_numpy(np.array(basket_targets[i], dtype=np.int64))\n",
    "        # 計算用戶 i 在預測機率矩陣中機率最高的 K 個項目的索引=標籤\n",
    "        top_k_item_labels = torch.topk(basket_predictions[i], size_predictions[i])[1]\n",
    "        # 計算 DCG@K\n",
    "        dcg_at_k = torch.sum(torch.nan_to_num(torch.div(1.0, torch.log2(torch.arange(size_predictions[i], dtype=torch.float32) +2))) * (torch.eq(top_k_item_labels, labels.unsqueeze(1)).to(torch.float32)))\n",
    "        # 計算 IDCG@K\n",
    "        idcg_at_k = torch.sum(torch.div(1.0, torch.log2(torch.arange(len(labels), dtype=torch.float32) + 2)))\n",
    "        # 計算 NDCG@K * Penalty weight\n",
    "        if torch.eq(idcg_at_k, 0):\n",
    "            ndcg_at_k = idcg_at_k\n",
    "        else:\n",
    "            ndcg_at_k = (dcg_at_k / idcg_at_k) * (size_targets[i] / (size_targets[i] + abs(size_targets[i] - size_predictions[i])))\n",
    "        ndcg_sum += ndcg_at_k.item()\n",
    "    #　計算平均　NDCG@K 分數\n",
    "    ndcg = ndcg_sum / float(num_users)\n",
    "    key = \"{}\".format(\"NDCG\")\n",
    "    ndcg_eval[key] = ndcg\n",
    "\n",
    "    return ndcg_eval"
   ]
  },
  {
   "cell_type": "code",
   "execution_count": 27,
   "id": "4b4fe7dc",
   "metadata": {},
   "outputs": [],
   "source": [
    "def calculate_mae(size_predictions, size_targets):\n",
    "    sum = 0\n",
    "    num_users = len(size_targets)\n",
    "    mae_eval = dict()\n",
    "    for i in range(num_users):\n",
    "        sum += abs(size_predictions[i] - (size_targets[i]).item())\n",
    "    key = \"{}\".format(\"MAE\")\n",
    "    mae_eval[key] = sum / num_users\n",
    "    return mae_eval"
   ]
  },
  {
   "cell_type": "markdown",
   "id": "213301db",
   "metadata": {},
   "source": [
    "# 訓練&測試"
   ]
  },
  {
   "cell_type": "code",
   "execution_count": 28,
   "id": "5d503206",
   "metadata": {},
   "outputs": [],
   "source": [
    "# 訓練模型\n",
    "def train_model():\n",
    "    my_model.train()\n",
    "    loss_list = []\n",
    "    \n",
    "    for batch_idx, (userID, basket_input, basket_label, size_input, size_label) in enumerate(tqdm(train_dataloader)):\n",
    "        optimizer.zero_grad()\n",
    "        basket_output, size_output = my_model(basket_input, size_input)\n",
    "        # 計算損失\n",
    "        loss = ALPHA * mean_square_error(size_output, size_label) + (1 - ALPHA) * cross_entropy_loss(basket_output, basket_label)\n",
    "        loss_list.append(loss.item())\n",
    "        loss.backward()\n",
    "        optimizer.step()\n",
    "        \n",
    "        if (batch_idx%100 == 0) or (batch_idx == len(train_dataloader)-1):\n",
    "            precentage = (100 * batch_idx/len(train_dataloader))\n",
    "            print(f\"Epoch {epoch}: {precentage:.0f}%, loss: {loss.item():.6f}\")\n",
    "            \n",
    "        with torch.no_grad():\n",
    "            basket_output = torch.from_numpy(np.array(basket_output.cpu(), dtype=np.float32))\n",
    "            size_output = np.round(np.squeeze(np.array([_.cpu() for _ in size_output], dtype=np.float32))).astype(int).tolist()\n",
    "            if batch_idx == 0:\n",
    "                basket_outputs = basket_output\n",
    "                basket_labels = basket_label\n",
    "                size_outputs = size_output\n",
    "                size_labels = size_label\n",
    "            else:\n",
    "                basket_outputs = torch.cat( (basket_outputs, basket_output),-2 )\n",
    "                basket_labels = basket_labels + basket_label\n",
    "                size_outputs = size_outputs + size_output\n",
    "                size_labels = size_labels + size_label\n",
    "                \n",
    "    with torch.no_grad():\n",
    "        evaluations = calculate_f1_score(basket_outputs, basket_labels, size_outputs) \n",
    "        res_str = '(' + format_metric(evaluations) + ')'\n",
    "        print(f\"                      {res_str}\\n\")\n",
    "\n",
    "        evaluations = calculate_ndcg(basket_outputs, basket_labels, size_outputs, size_labels) \n",
    "        res_str = '(' + format_metric(evaluations) + ')'\n",
    "        print(f\"                      {res_str}\\n\")\n",
    "\n",
    "        evaluations = calculate_mae(size_outputs, size_labels)\n",
    "        res_str = '(' + format_metric(evaluations) + ')'\n",
    "        print(f\"                      {res_str}\\n\")\n",
    "        \n",
    "    return torch.mean(torch.tensor(loss_list))"
   ]
  },
  {
   "cell_type": "code",
   "execution_count": 29,
   "id": "b0799869",
   "metadata": {},
   "outputs": [],
   "source": [
    "# 驗證模型\n",
    "def evaluate_model():\n",
    "    my_model.eval()\n",
    "    loss_list = []\n",
    "    for batch_idx, (userID, basket_input, basket_label, size_input, size_label) in enumerate(tqdm(valid_dataloader)):\n",
    "        basket_output, size_output= my_model(basket_input, size_input)\n",
    "        # 計算損失\n",
    "        loss = ALPHA * mean_square_error(size_output, size_label) + (1 - ALPHA) * cross_entropy_loss(basket_output, basket_label)\n",
    "        loss_list.append(loss.item())\n",
    "        \n",
    "        with torch.no_grad():\n",
    "            basket_output = torch.from_numpy(np.array(basket_output.cpu(), dtype=np.float32))\n",
    "            size_output = np.round(np.squeeze(np.array([_.cpu() for _ in size_output], dtype=np.float32))).astype(int).tolist()\n",
    "            if batch_idx == 0:\n",
    "                basket_outputs = basket_output\n",
    "                basket_labels = basket_label\n",
    "                size_outputs = size_output\n",
    "                size_labels = size_label\n",
    "            else:\n",
    "                basket_outputs = torch.cat( (basket_outputs, basket_output),-2 )\n",
    "                basket_labels = basket_labels + basket_label\n",
    "                size_outputs = size_outputs + size_output\n",
    "                size_labels = size_labels + size_label\n",
    "        \n",
    "    with torch.no_grad():\n",
    "        evaluations = calculate_f1_score(basket_outputs, basket_labels, size_outputs) \n",
    "        res_str = '(' + format_metric(evaluations) + ')'\n",
    "        print(f\"                      {res_str}\\n\")\n",
    "\n",
    "        evaluations = calculate_ndcg(basket_outputs, basket_labels, size_outputs, size_labels) \n",
    "        res_str = '(' + format_metric(evaluations) + ')'\n",
    "        print(f\"                      {res_str}\\n\")\n",
    "\n",
    "        evaluations = calculate_mae(size_outputs, size_labels)\n",
    "        res_str = '(' + format_metric(evaluations) + ')'\n",
    "        print(f\"                      {res_str}\\n\")\n",
    "        \n",
    "    return torch.mean(torch.tensor(loss_list))"
   ]
  },
  {
   "cell_type": "code",
   "execution_count": 30,
   "id": "5e8d7319",
   "metadata": {},
   "outputs": [],
   "source": [
    "# 測試模型\n",
    "def test_model():\n",
    "    my_model.eval()\n",
    "    loss_list = []\n",
    "    for batch_idx, (userID, basket_input, basket_label, size_input, size_label) in enumerate(tqdm(test_dataloader)):\n",
    "        basket_output, size_output = my_model(basket_input, size_input)\n",
    "        # 計算損失\n",
    "        loss = ALPHA * mean_square_error(size_output, size_label) + (1 - ALPHA) * cross_entropy_loss(basket_output, basket_label)\n",
    "        loss_list.append(loss.item())\n",
    "        \n",
    "        with torch.no_grad():\n",
    "            basket_output = torch.from_numpy(np.array(basket_output.cpu(), dtype=np.float32))\n",
    "            size_output = np.round(np.squeeze(np.array([_.cpu() for _ in size_output], dtype=np.float32))).astype(int).tolist()\n",
    "            if batch_idx == 0:\n",
    "                basket_outputs = basket_output\n",
    "                basket_labels = basket_label\n",
    "                size_outputs = size_output\n",
    "                size_labels = size_label\n",
    "            else:\n",
    "                basket_outputs = torch.cat( (basket_outputs, basket_output),-2 )\n",
    "                basket_labels = basket_labels + basket_label\n",
    "                size_outputs = size_outputs + size_output\n",
    "                size_labels = size_labels + size_label\n",
    "    \n",
    "    with torch.no_grad():\n",
    "        f1_evaluations = calculate_f1_score(basket_outputs, basket_labels, size_outputs)\n",
    "        precision_list = [f1_evaluations[\"Precision\"]]\n",
    "        recall_list =  [f1_evaluations[\"Recall\"]]\n",
    "        f1_list = [f1_evaluations[\"F1-score\"]]\n",
    "        res_str = '(' + format_metric(f1_evaluations) + ')'\n",
    "        print(f\"                      {res_str}\\n\")\n",
    "        \n",
    "        ndcg_evaluations = calculate_ndcg(basket_outputs, basket_labels, size_outputs, size_labels) \n",
    "        ndcg_list = [ndcg_evaluations[\"NDCG\"]]\n",
    "        res_str = '(' + format_metric(ndcg_evaluations) + ')'\n",
    "        print(f\"                      {res_str}\\n\")\n",
    "        \n",
    "        mae_evaluations = calculate_mae(size_outputs, size_labels)\n",
    "        mae_list = [mae_evaluations[\"MAE\"]]\n",
    "        res_str = '(' + format_metric(mae_evaluations) + ')'\n",
    "        print(f\"                      {res_str}\\n\")\n",
    "        \n",
    "    return torch.mean(torch.tensor(loss_list)), recall_list, precision_list, f1_list, ndcg_list, mae_list"
   ]
  },
  {
   "cell_type": "markdown",
   "id": "b1b6c6a9",
   "metadata": {},
   "source": [
    "# MC"
   ]
  },
  {
   "cell_type": "code",
   "execution_count": 31,
   "id": "830b8f17",
   "metadata": {},
   "outputs": [],
   "source": [
    "def create_transition_matrix(baskets, items):\n",
    "    # 統計所有項目在前一個購物籃和下一個購物籃中出現的次數，\n",
    "    # 以及在前一個購物籃中出現的總次數\n",
    "    cooccur_counts = {}\n",
    "    prev_basket_counts = {}\n",
    "    for user_baskets in baskets:\n",
    "        for i in range(1, len(user_baskets)):\n",
    "            prev_basket = user_baskets[i-1]\n",
    "            cur_basket = user_baskets[i]\n",
    "            for item1 in prev_basket:\n",
    "                if item1 not in prev_basket_counts:\n",
    "                    prev_basket_counts[item1] = 0\n",
    "                prev_basket_counts[item1] += 1\n",
    "                for item2 in cur_basket:\n",
    "                    if item2 not in cooccur_counts:\n",
    "                        cooccur_counts[item2] = {}\n",
    "                    if item1 not in cooccur_counts[item2]:\n",
    "                        cooccur_counts[item2][item1] = 0\n",
    "                    cooccur_counts[item2][item1] += 1\n",
    "\n",
    "    # 將統計數據轉換為轉移矩陣\n",
    "    # items = sorted(list(prev_basket_counts.keys()))\n",
    "    num_items = len(items)\n",
    "    transition_matrix = np.zeros((num_items, num_items))\n",
    "    for i, item1 in tqdm(enumerate(items)):\n",
    "        for j, item2 in enumerate(items):\n",
    "            if item2 in cooccur_counts and item1 in cooccur_counts[item2]:\n",
    "                cooccur_count = cooccur_counts[item2][item1]\n",
    "                prev_basket_count = prev_basket_counts[item1]\n",
    "                transition_matrix[i, j] = cooccur_count / prev_basket_count\n",
    "    return transition_matrix"
   ]
  },
  {
   "cell_type": "code",
   "execution_count": 32,
   "id": "41ad02ea",
   "metadata": {},
   "outputs": [],
   "source": [
    "def predict_next_basket(users_baskets, transition_matrix, items, top_n=50):\n",
    "    num_users = len(users_baskets)\n",
    "    num_items = len(items)\n",
    "    predictions = []\n",
    "    pred_label = []\n",
    "    for i in range(num_users):\n",
    "        last_basket = users_baskets[i][-1] # 第i個用戶的最後一個購物籃\n",
    "        cur_prediction = np.zeros(num_items)\n",
    "        prev_item_idx = np.array([prev_item for prev_item in last_basket])\n",
    "        for j in range(num_items):\n",
    "            prob = np.sum(transition_matrix[prev_item_idx, j])\n",
    "            cur_prediction[j] = prob * (1/len(last_basket))\n",
    "        predictions.append(cur_prediction)\n",
    "    return predictions"
   ]
  },
  {
   "cell_type": "code",
   "execution_count": 33,
   "id": "36cd123d",
   "metadata": {},
   "outputs": [],
   "source": [
    "mc_item = dataset[\"NEW_ITEM_ID\"].unique() # 所有項目"
   ]
  },
  {
   "cell_type": "code",
   "execution_count": 34,
   "id": "a7fd9194",
   "metadata": {},
   "outputs": [],
   "source": [
    "train_list = []\n",
    "for batch_idx, (userID, basket_input, basket_label, size_input, size_label) in enumerate(train_dataloader):\n",
    "    for i in basket_input:\n",
    "        train_list.append(i)"
   ]
  },
  {
   "cell_type": "code",
   "execution_count": 35,
   "id": "4073c2c3",
   "metadata": {},
   "outputs": [
    {
     "name": "stderr",
     "output_type": "stream",
     "text": [
      "27095it [04:21, 103.72it/s]\n"
     ]
    },
    {
     "name": "stdout",
     "output_type": "stream",
     "text": [
      "transition_matrix=tensor([[0.5876, 0.0289, 0.1019,  ..., 0.0000, 0.0000, 0.0000],\n",
      "        [0.0358, 0.5531, 0.1494,  ..., 0.0000, 0.0000, 0.0000],\n",
      "        [0.1761, 0.2094, 0.4203,  ..., 0.0000, 0.0000, 0.0000],\n",
      "        ...,\n",
      "        [0.0000, 0.0000, 0.0000,  ..., 0.0000, 0.0000, 0.0000],\n",
      "        [0.0000, 0.0000, 0.0000,  ..., 0.0000, 0.0000, 0.0000],\n",
      "        [0.0000, 0.0000, 0.0000,  ..., 0.0000, 0.0000, 0.0000]],\n",
      "       device='cuda:0', dtype=torch.float64)\n"
     ]
    }
   ],
   "source": [
    "# 建立所有用戶共用的轉移矩陣\n",
    "transition_matrix= create_transition_matrix(train_list, mc_item)\n",
    "transition_array = torch.tensor(transition_matrix, dtype=torch.float64).to(device)\n",
    "print(f\"transition_matrix={transition_array}\")"
   ]
  },
  {
   "cell_type": "markdown",
   "id": "1abc8fbc",
   "metadata": {},
   "source": [
    "# 完整模型"
   ]
  },
  {
   "cell_type": "code",
   "execution_count": 36,
   "id": "5ad81bac",
   "metadata": {},
   "outputs": [
    {
     "name": "stdout",
     "output_type": "stream",
     "text": [
      "items_count= 27095\n",
      "tensor([0.1097, 0.0556, 0.0193,  ..., 0.0001, 0.0002, 0.0002], device='cuda:0',\n",
      "       dtype=torch.float64)\n"
     ]
    }
   ],
   "source": [
    "# 項目總數\n",
    "items_count = confidences.shape[0]\n",
    "print(\"items_count=\", items_count)\n",
    "# 項目出現次數\n",
    "items_freq = Counter(dataset[\"NEW_ITEM_ID\"])\n",
    "# 計算每個項目出現的比例: items_frq/items_count\n",
    "item_weight = torch.tensor(np.array(list(items_freq.values()))/items_count).to(device)\n",
    "# 按照new_item_id順序排列\n",
    "print(item_weight)"
   ]
  },
  {
   "cell_type": "markdown",
   "id": "975d9e58",
   "metadata": {},
   "source": [
    "## 加上信賴度矩陣"
   ]
  },
  {
   "cell_type": "code",
   "execution_count": 37,
   "id": "5d571c57",
   "metadata": {},
   "outputs": [
    {
     "data": {
      "text/plain": [
       "tensor([[0.0000, 0.0022, 0.1153,  ..., 0.0000, 0.0000, 0.0000],\n",
       "        [0.0028, 0.0000, 0.1653,  ..., 0.0000, 0.0000, 0.0000],\n",
       "        [0.2023, 0.2322, 0.0000,  ..., 0.0000, 0.0000, 0.0000],\n",
       "        ...,\n",
       "        [0.0000, 0.0000, 0.0000,  ..., 0.0000, 0.0000, 0.0000],\n",
       "        [0.0000, 0.0000, 0.0000,  ..., 0.0000, 0.0000, 0.0000],\n",
       "        [0.0000, 0.0000, 0.0000,  ..., 0.0000, 0.0000, 0.0000]],\n",
       "       device='cuda:0', dtype=torch.float64)"
      ]
     },
     "execution_count": 37,
     "metadata": {},
     "output_type": "execute_result"
    }
   ],
   "source": [
    "# 信賴度矩陣\n",
    "confidences_array = torch.tensor(confidences, dtype=torch.float64).to(device)\n",
    "confidences_array"
   ]
  },
  {
   "cell_type": "code",
   "execution_count": 38,
   "id": "926dfc91",
   "metadata": {},
   "outputs": [],
   "source": [
    "def Interleave(tensor1, tensor2):\n",
    "    tensor2 = tensor2.repeat(tensor1.shape[0], 1)\n",
    "    result = torch.stack((tensor1, tensor2), dim=1)\n",
    "    Interleave_tensor = torch.reshape(result, (-1, MODEL_DIMENSION))\n",
    "\n",
    "    return (Interleave_tensor)"
   ]
  },
  {
   "cell_type": "code",
   "execution_count": 39,
   "id": "b00066a0",
   "metadata": {},
   "outputs": [],
   "source": [
    "class MyModel01(nn.Module):\n",
    "    def __init__(self, embed_dim, model_dim, hidden_dim, items_count):\n",
    "        super(MyModel01, self).__init__()\n",
    "        self.model_dim = model_dim\n",
    "        self.embedding = nn.Embedding.from_pretrained(weights, freeze=False)\n",
    "        self.embedding.requires_grad=True\n",
    "        self.basket_embed = SelfAttention(embed_dim=embed_dim, model_dim=model_dim)\n",
    "        self.size_embed = LSTM(1,1)\n",
    "        self.model_encoder = TransformerEncoder(d_model=model_dim, num_heads=NUM_HEAD, num_layers=NUM_LAYER)\n",
    "        # 嵌入維度、隱藏層維度、總項目數量\n",
    "        self.basket_mlp = MLPforItem(model_dim, hidden_dim, items_count)\n",
    "        self.size_mlp = MLPforSize(model_dim)\n",
    "        self.relu = nn.ReLU()\n",
    "        \n",
    "    def forward(self, basket_input, size_input):\n",
    "        \n",
    "        basket_list, size_list, attention_mask, k_list = [], [], [], []\n",
    "        output_list = []\n",
    "        \n",
    "        # 為每個用戶的購物籃加上 padding跟 mask\n",
    "        for user in basket_input:\n",
    "            # 將購物籃項目 ID 轉換為嵌入向量\n",
    "            batch_features = [ self.embedding(torch.tensor(cart).to(device)) for cart in user ]\n",
    "            # 進行 padding\n",
    "            batch_features = rnn_utils.pad_sequence(batch_features, batch_first=True, padding_value=0)\n",
    "            # 購物籃中項目的遮罩\n",
    "            mask = ~batch_features.sum(dim=-1).ne(0)\n",
    "            basket_list.append(batch_features)\n",
    "            attention_mask.append(mask)\n",
    "        \n",
    "        # 預測size_tensor\n",
    "        sizes_input = [torch.tensor(size).to(device) for size in size_input]\n",
    "        tmp_tensor = torch.zeros(max_cart_count)\n",
    "        size_list.append(tmp_tensor)\n",
    "        for size in sizes_input:\n",
    "            size_list.append(size)\n",
    "        size_list = rnn_utils.pad_sequence(size_list, batch_first=True, padding_value=0)[1:]\n",
    "            \n",
    "        # 進入自注意力，輸出形狀(BATCH_SIZE, basket_size, embed_dim)\n",
    "        basket_embedding_list = []\n",
    "        for i,user_inputs in enumerate(basket_list):\n",
    "            basketEmbed = self.basket_embed(user_inputs, attention_mask[i])\n",
    "            sizeEmbed = self.size_embed(torch.tensor([[float(_)] for _ in size_list[i]]).to(device))\n",
    "            \n",
    "            basket_embedding = torch.cat((basketEmbed, sizeEmbed.reshape(1,-1)), 0)\n",
    "            \n",
    "            k_list.append(sizeEmbed)\n",
    "            basket_embedding_list.append(basket_embedding)\n",
    "            \n",
    "        \n",
    "        # 進行購物籃的 padding\n",
    "        input_seq = rnn_utils.pad_sequence(basket_embedding_list, batch_first=True, padding_value=0)\n",
    "        #print(input_seq.size())\n",
    "        \n",
    "        \n",
    "        # 進入Transformer\n",
    "        basket_embed = self.model_encoder(input_seq.to(device))\n",
    "        \n",
    "        B_s_list = []\n",
    "        K_s_list = []\n",
    "        for i, b in enumerate(basket_embed):\n",
    "            basket_size = len(attention_mask[i])\n",
    "            B_s = b[basket_size-1]  # 取得最後一個購物籃向量\n",
    "            B_s_list.append(B_s)\n",
    "            K_s_list.append(B_s+k_list[i])\n",
    "            \n",
    "        # 進入basket MLP層\n",
    "        p = self.basket_mlp(torch.stack(B_s_list, dim=0))\n",
    "        predictions = predict_next_basket(basket_input, transition_matrix, list(mc_item), 10)\n",
    "        mc_predictions = torch.tensor(np.array(predictions), dtype=torch.float64).to(device)\n",
    "        pc = (self.relu(p.to(torch.float64))+1e-8) @ confidences_array\n",
    "        pw = torch.mul( p, item_weight )\n",
    "        \n",
    "        # z-score for mc_predictions\n",
    "        mc_mean = mc_predictions.mean(dim=1, keepdim = True)\n",
    "        mc_std = mc_predictions.std(dim=1, keepdim =True)\n",
    "        mc_z_score = (mc_predictions - mc_mean) / mc_std\n",
    "        \n",
    "        # z-score for mc_predictions\n",
    "        tr_predictions = torch.add(pc, pw) + p.to(torch.float64)\n",
    "        tr_mean = tr_predictions.mean(dim=1, keepdim = True)\n",
    "        tr_std = tr_predictions.std(dim=1, keepdim =True)\n",
    "        tr_z_score = (tr_predictions - tr_mean) / tr_std\n",
    "        \n",
    "        p_ = torch.mul(BETA, tr_predictions) + torch.mul((1-BETA), mc_z_score + tr_z_score)\n",
    "        \n",
    "        # 進入size MLP層\n",
    "        k = self.size_mlp(torch.stack(K_s_list, dim=0))\n",
    "        \n",
    "        return p_, k"
   ]
  },
  {
   "cell_type": "code",
   "execution_count": 40,
   "id": "88bf8d6f",
   "metadata": {},
   "outputs": [
    {
     "data": {
      "text/plain": [
       "MyModel01(\n",
       "  (embedding): Embedding(27095, 32)\n",
       "  (basket_embed): SelfAttention(\n",
       "    (query_matrix): Linear(in_features=32, out_features=32, bias=True)\n",
       "    (key_matrix): Linear(in_features=32, out_features=32, bias=True)\n",
       "    (value_matrix): Linear(in_features=32, out_features=32, bias=True)\n",
       "    (multihead_attn): MultiheadAttention(\n",
       "      (out_proj): NonDynamicallyQuantizableLinear(in_features=32, out_features=32, bias=True)\n",
       "    )\n",
       "  )\n",
       "  (size_embed): LSTM(\n",
       "    (lstm): LSTM(1, 16, num_layers=2)\n",
       "    (hiddenlayer1): Linear(in_features=1600, out_features=512, bias=True)\n",
       "    (hiddenlayer2): Linear(in_features=512, out_features=512, bias=True)\n",
       "    (hiddenlayer3): Linear(in_features=512, out_features=256, bias=True)\n",
       "    (hiddenlayer4): Linear(in_features=256, out_features=128, bias=True)\n",
       "    (embed): Linear(in_features=128, out_features=32, bias=True)\n",
       "    (leakyrelu): LeakyReLU(negative_slope=0.01)\n",
       "  )\n",
       "  (model_encoder): TransformerEncoder(\n",
       "    (pe): PositionalEncoding(\n",
       "      (dropout): Dropout(p=0.5, inplace=False)\n",
       "    )\n",
       "    (transformer): TransformerEncoder(\n",
       "      (layers): ModuleList(\n",
       "        (0-3): 4 x TransformerEncoderLayer(\n",
       "          (self_attn): MultiheadAttention(\n",
       "            (out_proj): NonDynamicallyQuantizableLinear(in_features=32, out_features=32, bias=True)\n",
       "          )\n",
       "          (linear1): Linear(in_features=32, out_features=2048, bias=True)\n",
       "          (dropout): Dropout(p=0.1, inplace=False)\n",
       "          (linear2): Linear(in_features=2048, out_features=32, bias=True)\n",
       "          (norm1): LayerNorm((32,), eps=1e-05, elementwise_affine=True)\n",
       "          (norm2): LayerNorm((32,), eps=1e-05, elementwise_affine=True)\n",
       "          (dropout1): Dropout(p=0.1, inplace=False)\n",
       "          (dropout2): Dropout(p=0.1, inplace=False)\n",
       "        )\n",
       "      )\n",
       "    )\n",
       "  )\n",
       "  (basket_mlp): MLPforItem(\n",
       "    (hidden): Linear(in_features=32, out_features=128, bias=True)\n",
       "    (norm): BatchNorm1d(128, eps=1e-05, momentum=0.03, affine=True, track_running_stats=True)\n",
       "    (relu): ReLU()\n",
       "    (output): Linear(in_features=128, out_features=27095, bias=True)\n",
       "    (softmax): Softmax(dim=0)\n",
       "  )\n",
       "  (size_mlp): MLPforSize(\n",
       "    (predict): Linear(in_features=32, out_features=1, bias=True)\n",
       "    (relu): ReLU()\n",
       "  )\n",
       "  (relu): ReLU()\n",
       ")"
      ]
     },
     "execution_count": 40,
     "metadata": {},
     "output_type": "execute_result"
    }
   ],
   "source": [
    "my_model = MyModel01(embed_dim=EMBEDDING_DIMENSION, model_dim=MODEL_DIMENSION, hidden_dim=HIDDEN_DIMENSION, items_count=items_count).to(device)\n",
    "optimizer = torch.optim.Adam(my_model.parameters(), lr=LEARNING_RATE)\n",
    "my_model.train()"
   ]
  },
  {
   "cell_type": "code",
   "execution_count": 41,
   "id": "dc547691",
   "metadata": {
    "scrolled": false
   },
   "outputs": [
    {
     "name": "stderr",
     "output_type": "stream",
     "text": [
      "  0%|          | 1/1948 [00:01<47:54,  1.48s/it]"
     ]
    },
    {
     "name": "stdout",
     "output_type": "stream",
     "text": [
      "Epoch 1: 0%, loss: 18.055773\n"
     ]
    },
    {
     "name": "stderr",
     "output_type": "stream",
     "text": [
      "  5%|▌         | 101/1948 [01:40<31:58,  1.04s/it]"
     ]
    },
    {
     "name": "stdout",
     "output_type": "stream",
     "text": [
      "Epoch 1: 5%, loss: 6.579185\n"
     ]
    },
    {
     "name": "stderr",
     "output_type": "stream",
     "text": [
      " 10%|█         | 201/1948 [03:23<28:52,  1.01it/s]"
     ]
    },
    {
     "name": "stdout",
     "output_type": "stream",
     "text": [
      "Epoch 1: 10%, loss: 1.068977\n"
     ]
    },
    {
     "name": "stderr",
     "output_type": "stream",
     "text": [
      " 15%|█▌        | 301/1948 [05:08<30:26,  1.11s/it]"
     ]
    },
    {
     "name": "stdout",
     "output_type": "stream",
     "text": [
      "Epoch 1: 15%, loss: 2.569223\n"
     ]
    },
    {
     "name": "stderr",
     "output_type": "stream",
     "text": [
      " 21%|██        | 401/1948 [06:55<25:51,  1.00s/it]"
     ]
    },
    {
     "name": "stdout",
     "output_type": "stream",
     "text": [
      "Epoch 1: 21%, loss: 4.262393\n"
     ]
    },
    {
     "name": "stderr",
     "output_type": "stream",
     "text": [
      " 26%|██▌       | 501/1948 [08:42<24:18,  1.01s/it]"
     ]
    },
    {
     "name": "stdout",
     "output_type": "stream",
     "text": [
      "Epoch 1: 26%, loss: 3.145597\n"
     ]
    },
    {
     "name": "stderr",
     "output_type": "stream",
     "text": [
      " 31%|███       | 601/1948 [10:25<22:02,  1.02it/s]"
     ]
    },
    {
     "name": "stdout",
     "output_type": "stream",
     "text": [
      "Epoch 1: 31%, loss: 2.649641\n"
     ]
    },
    {
     "name": "stderr",
     "output_type": "stream",
     "text": [
      " 36%|███▌      | 701/1948 [11:55<18:25,  1.13it/s]"
     ]
    },
    {
     "name": "stdout",
     "output_type": "stream",
     "text": [
      "Epoch 1: 36%, loss: 5.386117\n"
     ]
    },
    {
     "name": "stderr",
     "output_type": "stream",
     "text": [
      " 41%|████      | 801/1948 [13:25<16:49,  1.14it/s]"
     ]
    },
    {
     "name": "stdout",
     "output_type": "stream",
     "text": [
      "Epoch 1: 41%, loss: 1.514445\n"
     ]
    },
    {
     "name": "stderr",
     "output_type": "stream",
     "text": [
      " 46%|████▋     | 901/1948 [14:55<15:42,  1.11it/s]"
     ]
    },
    {
     "name": "stdout",
     "output_type": "stream",
     "text": [
      "Epoch 1: 46%, loss: 1.217920\n"
     ]
    },
    {
     "name": "stderr",
     "output_type": "stream",
     "text": [
      " 51%|█████▏    | 1001/1948 [16:29<15:52,  1.01s/it]"
     ]
    },
    {
     "name": "stdout",
     "output_type": "stream",
     "text": [
      "Epoch 1: 51%, loss: 3.910640\n"
     ]
    },
    {
     "name": "stderr",
     "output_type": "stream",
     "text": [
      " 57%|█████▋    | 1101/1948 [18:03<12:45,  1.11it/s]"
     ]
    },
    {
     "name": "stdout",
     "output_type": "stream",
     "text": [
      "Epoch 1: 56%, loss: 1.239094\n"
     ]
    },
    {
     "name": "stderr",
     "output_type": "stream",
     "text": [
      " 62%|██████▏   | 1201/1948 [19:38<11:38,  1.07it/s]"
     ]
    },
    {
     "name": "stdout",
     "output_type": "stream",
     "text": [
      "Epoch 1: 62%, loss: 0.935907\n"
     ]
    },
    {
     "name": "stderr",
     "output_type": "stream",
     "text": [
      " 67%|██████▋   | 1301/1948 [21:13<10:31,  1.02it/s]"
     ]
    },
    {
     "name": "stdout",
     "output_type": "stream",
     "text": [
      "Epoch 1: 67%, loss: 1.479129\n"
     ]
    },
    {
     "name": "stderr",
     "output_type": "stream",
     "text": [
      " 72%|███████▏  | 1401/1948 [22:48<08:41,  1.05it/s]"
     ]
    },
    {
     "name": "stdout",
     "output_type": "stream",
     "text": [
      "Epoch 1: 72%, loss: 4.932911\n"
     ]
    },
    {
     "name": "stderr",
     "output_type": "stream",
     "text": [
      " 77%|███████▋  | 1501/1948 [24:26<06:59,  1.07it/s]"
     ]
    },
    {
     "name": "stdout",
     "output_type": "stream",
     "text": [
      "Epoch 1: 77%, loss: 2.452629\n"
     ]
    },
    {
     "name": "stderr",
     "output_type": "stream",
     "text": [
      " 82%|████████▏ | 1601/1948 [26:02<05:44,  1.01it/s]"
     ]
    },
    {
     "name": "stdout",
     "output_type": "stream",
     "text": [
      "Epoch 1: 82%, loss: 4.980140\n"
     ]
    },
    {
     "name": "stderr",
     "output_type": "stream",
     "text": [
      " 87%|████████▋ | 1701/1948 [27:40<04:00,  1.03it/s]"
     ]
    },
    {
     "name": "stdout",
     "output_type": "stream",
     "text": [
      "Epoch 1: 87%, loss: 4.197628\n"
     ]
    },
    {
     "name": "stderr",
     "output_type": "stream",
     "text": [
      " 92%|█████████▏| 1801/1948 [29:20<02:22,  1.03it/s]"
     ]
    },
    {
     "name": "stdout",
     "output_type": "stream",
     "text": [
      "Epoch 1: 92%, loss: 14.530275\n"
     ]
    },
    {
     "name": "stderr",
     "output_type": "stream",
     "text": [
      " 98%|█████████▊| 1901/1948 [31:00<00:48,  1.03s/it]"
     ]
    },
    {
     "name": "stdout",
     "output_type": "stream",
     "text": [
      "Epoch 1: 98%, loss: 1.210831\n"
     ]
    },
    {
     "name": "stderr",
     "output_type": "stream",
     "text": [
      "100%|██████████| 1948/1948 [31:46<00:00,  1.02it/s]"
     ]
    },
    {
     "name": "stdout",
     "output_type": "stream",
     "text": [
      "Epoch 1: 100%, loss: 1.765448\n"
     ]
    },
    {
     "name": "stderr",
     "output_type": "stream",
     "text": [
      "\n"
     ]
    },
    {
     "name": "stdout",
     "output_type": "stream",
     "text": [
      "                      (F1-score: 0.2036, Precision: 0.2084, Recall: 0.2233)\n",
      "\n",
      "                      (NDCG: 0.1582)\n",
      "\n",
      "                      (MAE: 4.4020)\n",
      "\n",
      "train_loss= tensor(3.7097)\n",
      "--------------------\n"
     ]
    },
    {
     "name": "stderr",
     "output_type": "stream",
     "text": [
      "100%|██████████| 243/243 [03:10<00:00,  1.28it/s]\n"
     ]
    },
    {
     "name": "stdout",
     "output_type": "stream",
     "text": [
      "                      (F1-score: 0.1881, Precision: 0.1962, Recall: 0.1987)\n",
      "\n",
      "                      (NDCG: 0.1490)\n",
      "\n",
      "                      (MAE: 4.0257)\n",
      "\n",
      "val_loss= tensor(3.4304)\n",
      "--------------------\n"
     ]
    },
    {
     "name": "stderr",
     "output_type": "stream",
     "text": [
      "100%|██████████| 243/243 [03:10<00:00,  1.27it/s]\n"
     ]
    },
    {
     "name": "stdout",
     "output_type": "stream",
     "text": [
      "                      (F1-score: 0.1804, Precision: 0.1911, Recall: 0.1876)\n",
      "\n",
      "                      (NDCG: 0.1457)\n",
      "\n",
      "                      (MAE: 4.0293)\n",
      "\n",
      "--------------------\n",
      "[[1, 0.1875991175455632, 0.19108291666747096, 0.18043854934274806, 0.1457448609637043, 4.029320987654321, 3.6180145740509033]]\n",
      "-----------------------------------------------------------------------------------------\n"
     ]
    },
    {
     "name": "stderr",
     "output_type": "stream",
     "text": [
      "  0%|          | 1/1948 [00:01<35:22,  1.09s/it]"
     ]
    },
    {
     "name": "stdout",
     "output_type": "stream",
     "text": [
      "Epoch 2: 0%, loss: 5.494425\n"
     ]
    },
    {
     "name": "stderr",
     "output_type": "stream",
     "text": [
      "  5%|▌         | 101/1948 [01:25<26:03,  1.18it/s]"
     ]
    },
    {
     "name": "stdout",
     "output_type": "stream",
     "text": [
      "Epoch 2: 5%, loss: 1.404056\n"
     ]
    },
    {
     "name": "stderr",
     "output_type": "stream",
     "text": [
      " 10%|█         | 201/1948 [02:51<24:33,  1.19it/s]"
     ]
    },
    {
     "name": "stdout",
     "output_type": "stream",
     "text": [
      "Epoch 2: 10%, loss: 2.562513\n"
     ]
    },
    {
     "name": "stderr",
     "output_type": "stream",
     "text": [
      " 15%|█▌        | 301/1948 [04:16<23:55,  1.15it/s]"
     ]
    },
    {
     "name": "stdout",
     "output_type": "stream",
     "text": [
      "Epoch 2: 15%, loss: 2.599204\n"
     ]
    },
    {
     "name": "stderr",
     "output_type": "stream",
     "text": [
      " 21%|██        | 401/1948 [05:41<20:46,  1.24it/s]"
     ]
    },
    {
     "name": "stdout",
     "output_type": "stream",
     "text": [
      "Epoch 2: 21%, loss: 1.438624\n"
     ]
    },
    {
     "name": "stderr",
     "output_type": "stream",
     "text": [
      " 26%|██▌       | 501/1948 [07:08<21:08,  1.14it/s]"
     ]
    },
    {
     "name": "stdout",
     "output_type": "stream",
     "text": [
      "Epoch 2: 26%, loss: 5.813138\n"
     ]
    },
    {
     "name": "stderr",
     "output_type": "stream",
     "text": [
      " 31%|███       | 601/1948 [08:36<19:13,  1.17it/s]"
     ]
    },
    {
     "name": "stdout",
     "output_type": "stream",
     "text": [
      "Epoch 2: 31%, loss: 6.235107\n"
     ]
    },
    {
     "name": "stderr",
     "output_type": "stream",
     "text": [
      " 36%|███▌      | 701/1948 [10:03<17:25,  1.19it/s]"
     ]
    },
    {
     "name": "stdout",
     "output_type": "stream",
     "text": [
      "Epoch 2: 36%, loss: 1.096532\n"
     ]
    },
    {
     "name": "stderr",
     "output_type": "stream",
     "text": [
      " 41%|████      | 801/1948 [11:34<16:35,  1.15it/s]"
     ]
    },
    {
     "name": "stdout",
     "output_type": "stream",
     "text": [
      "Epoch 2: 41%, loss: 3.253993\n"
     ]
    },
    {
     "name": "stderr",
     "output_type": "stream",
     "text": [
      " 46%|████▋     | 901/1948 [13:06<15:11,  1.15it/s]"
     ]
    },
    {
     "name": "stdout",
     "output_type": "stream",
     "text": [
      "Epoch 2: 46%, loss: 2.233943\n"
     ]
    },
    {
     "name": "stderr",
     "output_type": "stream",
     "text": [
      " 51%|█████▏    | 1001/1948 [14:39<14:47,  1.07it/s]"
     ]
    },
    {
     "name": "stdout",
     "output_type": "stream",
     "text": [
      "Epoch 2: 51%, loss: 4.906546\n"
     ]
    },
    {
     "name": "stderr",
     "output_type": "stream",
     "text": [
      " 57%|█████▋    | 1101/1948 [16:12<13:13,  1.07it/s]"
     ]
    },
    {
     "name": "stdout",
     "output_type": "stream",
     "text": [
      "Epoch 2: 56%, loss: 2.347905\n"
     ]
    },
    {
     "name": "stderr",
     "output_type": "stream",
     "text": [
      " 62%|██████▏   | 1201/1948 [17:46<12:28,  1.00s/it]"
     ]
    },
    {
     "name": "stdout",
     "output_type": "stream",
     "text": [
      "Epoch 2: 62%, loss: 6.690230\n"
     ]
    },
    {
     "name": "stderr",
     "output_type": "stream",
     "text": [
      " 67%|██████▋   | 1301/1948 [19:21<10:42,  1.01it/s]"
     ]
    },
    {
     "name": "stdout",
     "output_type": "stream",
     "text": [
      "Epoch 2: 67%, loss: 3.456963\n"
     ]
    },
    {
     "name": "stderr",
     "output_type": "stream",
     "text": [
      " 72%|███████▏  | 1401/1948 [20:56<08:37,  1.06it/s]"
     ]
    },
    {
     "name": "stdout",
     "output_type": "stream",
     "text": [
      "Epoch 2: 72%, loss: 1.384476\n"
     ]
    },
    {
     "name": "stderr",
     "output_type": "stream",
     "text": [
      " 77%|███████▋  | 1501/1948 [22:32<06:44,  1.10it/s]"
     ]
    },
    {
     "name": "stdout",
     "output_type": "stream",
     "text": [
      "Epoch 2: 77%, loss: 1.214208\n"
     ]
    },
    {
     "name": "stderr",
     "output_type": "stream",
     "text": [
      " 82%|████████▏ | 1601/1948 [24:09<05:40,  1.02it/s]"
     ]
    },
    {
     "name": "stdout",
     "output_type": "stream",
     "text": [
      "Epoch 2: 82%, loss: 3.573838\n"
     ]
    },
    {
     "name": "stderr",
     "output_type": "stream",
     "text": [
      " 87%|████████▋ | 1701/1948 [25:48<04:09,  1.01s/it]"
     ]
    },
    {
     "name": "stdout",
     "output_type": "stream",
     "text": [
      "Epoch 2: 87%, loss: 1.373572\n"
     ]
    },
    {
     "name": "stderr",
     "output_type": "stream",
     "text": [
      " 92%|█████████▏| 1801/1948 [27:26<02:19,  1.05it/s]"
     ]
    },
    {
     "name": "stdout",
     "output_type": "stream",
     "text": [
      "Epoch 2: 92%, loss: 3.513085\n"
     ]
    },
    {
     "name": "stderr",
     "output_type": "stream",
     "text": [
      " 98%|█████████▊| 1901/1948 [29:07<00:49,  1.06s/it]"
     ]
    },
    {
     "name": "stdout",
     "output_type": "stream",
     "text": [
      "Epoch 2: 98%, loss: 3.184691\n"
     ]
    },
    {
     "name": "stderr",
     "output_type": "stream",
     "text": [
      "100%|██████████| 1948/1948 [29:55<00:00,  1.08it/s]"
     ]
    },
    {
     "name": "stdout",
     "output_type": "stream",
     "text": [
      "Epoch 2: 100%, loss: 3.058647\n"
     ]
    },
    {
     "name": "stderr",
     "output_type": "stream",
     "text": [
      "\n"
     ]
    },
    {
     "name": "stdout",
     "output_type": "stream",
     "text": [
      "                      (F1-score: 0.2224, Precision: 0.2262, Recall: 0.2421)\n",
      "\n",
      "                      (NDCG: 0.1771)\n",
      "\n",
      "                      (MAE: 4.1279)\n",
      "\n",
      "train_loss= tensor(3.3556)\n",
      "--------------------\n"
     ]
    },
    {
     "name": "stderr",
     "output_type": "stream",
     "text": [
      "100%|██████████| 243/243 [03:10<00:00,  1.27it/s]\n"
     ]
    },
    {
     "name": "stdout",
     "output_type": "stream",
     "text": [
      "                      (F1-score: 0.1877, Precision: 0.1817, Recall: 0.2158)\n",
      "\n",
      "                      (NDCG: 0.1505)\n",
      "\n",
      "                      (MAE: 4.2690)\n",
      "\n",
      "val_loss= tensor(3.3468)\n",
      "--------------------\n"
     ]
    },
    {
     "name": "stderr",
     "output_type": "stream",
     "text": [
      "100%|██████████| 243/243 [03:10<00:00,  1.27it/s]\n"
     ]
    },
    {
     "name": "stdout",
     "output_type": "stream",
     "text": [
      "                      (F1-score: 0.1801, Precision: 0.1756, Recall: 0.2054)\n",
      "\n",
      "                      (NDCG: 0.1471)\n",
      "\n",
      "                      (MAE: 4.2623)\n",
      "\n",
      "--------------------\n",
      "[[1, 0.1875991175455632, 0.19108291666747096, 0.18043854934274806, 0.1457448609637043, 4.029320987654321, 3.6180145740509033], [2, 0.20539651857809835, 0.17557436896824768, 0.1800687695120412, 0.1471341559835882, 4.262345679012346, 3.475299119949341]]\n",
      "-----------------------------------------------------------------------------------------\n"
     ]
    },
    {
     "name": "stderr",
     "output_type": "stream",
     "text": [
      "  0%|          | 1/1948 [00:01<34:46,  1.07s/it]"
     ]
    },
    {
     "name": "stdout",
     "output_type": "stream",
     "text": [
      "Epoch 3: 0%, loss: 3.654720\n"
     ]
    },
    {
     "name": "stderr",
     "output_type": "stream",
     "text": [
      "  5%|▌         | 101/1948 [01:23<25:15,  1.22it/s]"
     ]
    },
    {
     "name": "stdout",
     "output_type": "stream",
     "text": [
      "Epoch 3: 5%, loss: 6.258453\n"
     ]
    },
    {
     "name": "stderr",
     "output_type": "stream",
     "text": [
      " 10%|█         | 201/1948 [02:49<25:19,  1.15it/s]"
     ]
    },
    {
     "name": "stdout",
     "output_type": "stream",
     "text": [
      "Epoch 3: 10%, loss: 6.002108\n"
     ]
    },
    {
     "name": "stderr",
     "output_type": "stream",
     "text": [
      " 15%|█▌        | 301/1948 [04:14<22:34,  1.22it/s]"
     ]
    },
    {
     "name": "stdout",
     "output_type": "stream",
     "text": [
      "Epoch 3: 15%, loss: 1.860936\n"
     ]
    },
    {
     "name": "stderr",
     "output_type": "stream",
     "text": [
      " 21%|██        | 401/1948 [05:40<21:21,  1.21it/s]"
     ]
    },
    {
     "name": "stdout",
     "output_type": "stream",
     "text": [
      "Epoch 3: 21%, loss: 3.886189\n"
     ]
    },
    {
     "name": "stderr",
     "output_type": "stream",
     "text": [
      " 26%|██▌       | 501/1948 [07:09<22:46,  1.06it/s]"
     ]
    },
    {
     "name": "stdout",
     "output_type": "stream",
     "text": [
      "Epoch 3: 26%, loss: 3.122414\n"
     ]
    },
    {
     "name": "stderr",
     "output_type": "stream",
     "text": [
      " 31%|███       | 601/1948 [08:37<21:08,  1.06it/s]"
     ]
    },
    {
     "name": "stdout",
     "output_type": "stream",
     "text": [
      "Epoch 3: 31%, loss: 6.116323\n"
     ]
    },
    {
     "name": "stderr",
     "output_type": "stream",
     "text": [
      " 36%|███▌      | 701/1948 [10:07<18:26,  1.13it/s]"
     ]
    },
    {
     "name": "stdout",
     "output_type": "stream",
     "text": [
      "Epoch 3: 36%, loss: 3.265341\n"
     ]
    },
    {
     "name": "stderr",
     "output_type": "stream",
     "text": [
      " 41%|████      | 801/1948 [11:37<17:34,  1.09it/s]"
     ]
    },
    {
     "name": "stdout",
     "output_type": "stream",
     "text": [
      "Epoch 3: 41%, loss: 2.594277\n"
     ]
    },
    {
     "name": "stderr",
     "output_type": "stream",
     "text": [
      " 46%|████▋     | 901/1948 [13:07<16:18,  1.07it/s]"
     ]
    },
    {
     "name": "stdout",
     "output_type": "stream",
     "text": [
      "Epoch 3: 46%, loss: 2.216551\n"
     ]
    },
    {
     "name": "stderr",
     "output_type": "stream",
     "text": [
      " 51%|█████▏    | 1001/1948 [14:42<14:30,  1.09it/s]"
     ]
    },
    {
     "name": "stdout",
     "output_type": "stream",
     "text": [
      "Epoch 3: 51%, loss: 3.475594\n"
     ]
    },
    {
     "name": "stderr",
     "output_type": "stream",
     "text": [
      " 57%|█████▋    | 1101/1948 [16:15<13:42,  1.03it/s]"
     ]
    },
    {
     "name": "stdout",
     "output_type": "stream",
     "text": [
      "Epoch 3: 56%, loss: 3.267082\n"
     ]
    },
    {
     "name": "stderr",
     "output_type": "stream",
     "text": [
      " 62%|██████▏   | 1201/1948 [17:48<11:45,  1.06it/s]"
     ]
    },
    {
     "name": "stdout",
     "output_type": "stream",
     "text": [
      "Epoch 3: 62%, loss: 1.931352\n"
     ]
    },
    {
     "name": "stderr",
     "output_type": "stream",
     "text": [
      " 67%|██████▋   | 1301/1948 [19:23<10:22,  1.04it/s]"
     ]
    },
    {
     "name": "stdout",
     "output_type": "stream",
     "text": [
      "Epoch 3: 67%, loss: 2.068694\n"
     ]
    },
    {
     "name": "stderr",
     "output_type": "stream",
     "text": [
      " 72%|███████▏  | 1401/1948 [21:00<08:54,  1.02it/s]"
     ]
    },
    {
     "name": "stdout",
     "output_type": "stream",
     "text": [
      "Epoch 3: 72%, loss: 1.297359\n"
     ]
    },
    {
     "name": "stderr",
     "output_type": "stream",
     "text": [
      " 77%|███████▋  | 1501/1948 [22:35<07:00,  1.06it/s]"
     ]
    },
    {
     "name": "stdout",
     "output_type": "stream",
     "text": [
      "Epoch 3: 77%, loss: 3.360493\n"
     ]
    },
    {
     "name": "stderr",
     "output_type": "stream",
     "text": [
      " 82%|████████▏ | 1601/1948 [24:13<05:36,  1.03it/s]"
     ]
    },
    {
     "name": "stdout",
     "output_type": "stream",
     "text": [
      "Epoch 3: 82%, loss: 1.188643\n"
     ]
    },
    {
     "name": "stderr",
     "output_type": "stream",
     "text": [
      " 87%|████████▋ | 1701/1948 [25:51<03:50,  1.07it/s]"
     ]
    },
    {
     "name": "stdout",
     "output_type": "stream",
     "text": [
      "Epoch 3: 87%, loss: 2.420548\n"
     ]
    },
    {
     "name": "stderr",
     "output_type": "stream",
     "text": [
      " 92%|█████████▏| 1801/1948 [27:32<02:26,  1.00it/s]"
     ]
    },
    {
     "name": "stdout",
     "output_type": "stream",
     "text": [
      "Epoch 3: 92%, loss: 1.376422\n"
     ]
    },
    {
     "name": "stderr",
     "output_type": "stream",
     "text": [
      " 98%|█████████▊| 1901/1948 [29:12<00:45,  1.04it/s]"
     ]
    },
    {
     "name": "stdout",
     "output_type": "stream",
     "text": [
      "Epoch 3: 98%, loss: 3.058126\n"
     ]
    },
    {
     "name": "stderr",
     "output_type": "stream",
     "text": [
      "100%|██████████| 1948/1948 [30:00<00:00,  1.08it/s]"
     ]
    },
    {
     "name": "stdout",
     "output_type": "stream",
     "text": [
      "Epoch 3: 100%, loss: 1.294754\n"
     ]
    },
    {
     "name": "stderr",
     "output_type": "stream",
     "text": [
      "\n"
     ]
    },
    {
     "name": "stdout",
     "output_type": "stream",
     "text": [
      "                      (F1-score: 0.2042, Precision: 0.2064, Recall: 0.2232)\n",
      "\n",
      "                      (NDCG: 0.1654)\n",
      "\n",
      "                      (MAE: 4.0909)\n",
      "\n",
      "train_loss= tensor(3.2377)\n",
      "--------------------\n"
     ]
    },
    {
     "name": "stderr",
     "output_type": "stream",
     "text": [
      "100%|██████████| 243/243 [03:10<00:00,  1.27it/s]\n"
     ]
    },
    {
     "name": "stdout",
     "output_type": "stream",
     "text": [
      "                      (F1-score: 0.1786, Precision: 0.1767, Recall: 0.1984)\n",
      "\n",
      "                      (NDCG: 0.1468)\n",
      "\n",
      "                      (MAE: 4.2464)\n",
      "\n",
      "val_loss= tensor(3.3061)\n",
      "--------------------\n"
     ]
    },
    {
     "name": "stderr",
     "output_type": "stream",
     "text": [
      "100%|██████████| 243/243 [03:10<00:00,  1.27it/s]\n"
     ]
    },
    {
     "name": "stdout",
     "output_type": "stream",
     "text": [
      "                      (F1-score: 0.1698, Precision: 0.1694, Recall: 0.1876)\n",
      "\n",
      "                      (NDCG: 0.1412)\n",
      "\n",
      "                      (MAE: 4.2942)\n",
      "\n",
      "--------------------\n",
      "[[1, 0.1875991175455632, 0.19108291666747096, 0.18043854934274806, 0.1457448609637043, 4.029320987654321, 3.6180145740509033], [2, 0.20539651857809835, 0.17557436896824768, 0.1800687695120412, 0.1471341559835882, 4.262345679012346, 3.475299119949341], [3, 0.18758900651202198, 0.16941856153482818, 0.16979553941254444, 0.14120907373889255, 4.294238683127572, 3.451737403869629]]\n",
      "-----------------------------------------------------------------------------------------\n"
     ]
    },
    {
     "name": "stderr",
     "output_type": "stream",
     "text": [
      "  0%|          | 1/1948 [00:01<32:50,  1.01s/it]"
     ]
    },
    {
     "name": "stdout",
     "output_type": "stream",
     "text": [
      "Epoch 4: 0%, loss: 4.142903\n"
     ]
    },
    {
     "name": "stderr",
     "output_type": "stream",
     "text": [
      "  5%|▌         | 101/1948 [01:25<24:52,  1.24it/s]"
     ]
    },
    {
     "name": "stdout",
     "output_type": "stream",
     "text": [
      "Epoch 4: 5%, loss: 2.124221\n"
     ]
    },
    {
     "name": "stderr",
     "output_type": "stream",
     "text": [
      " 10%|█         | 201/1948 [02:49<23:39,  1.23it/s]"
     ]
    },
    {
     "name": "stdout",
     "output_type": "stream",
     "text": [
      "Epoch 4: 10%, loss: 2.338491\n"
     ]
    },
    {
     "name": "stderr",
     "output_type": "stream",
     "text": [
      " 15%|█▌        | 301/1948 [04:15<24:16,  1.13it/s]"
     ]
    },
    {
     "name": "stdout",
     "output_type": "stream",
     "text": [
      "Epoch 4: 15%, loss: 2.497803\n"
     ]
    },
    {
     "name": "stderr",
     "output_type": "stream",
     "text": [
      " 21%|██        | 401/1948 [05:41<21:47,  1.18it/s]"
     ]
    },
    {
     "name": "stdout",
     "output_type": "stream",
     "text": [
      "Epoch 4: 21%, loss: 1.640665\n"
     ]
    },
    {
     "name": "stderr",
     "output_type": "stream",
     "text": [
      " 26%|██▌       | 501/1948 [07:09<21:40,  1.11it/s]"
     ]
    },
    {
     "name": "stdout",
     "output_type": "stream",
     "text": [
      "Epoch 4: 26%, loss: 1.075484\n"
     ]
    },
    {
     "name": "stderr",
     "output_type": "stream",
     "text": [
      " 31%|███       | 601/1948 [08:37<20:02,  1.12it/s]"
     ]
    },
    {
     "name": "stdout",
     "output_type": "stream",
     "text": [
      "Epoch 4: 31%, loss: 1.582581\n"
     ]
    },
    {
     "name": "stderr",
     "output_type": "stream",
     "text": [
      " 36%|███▌      | 701/1948 [10:08<18:52,  1.10it/s]"
     ]
    },
    {
     "name": "stdout",
     "output_type": "stream",
     "text": [
      "Epoch 4: 36%, loss: 3.246083\n"
     ]
    },
    {
     "name": "stderr",
     "output_type": "stream",
     "text": [
      " 41%|████      | 801/1948 [11:40<18:56,  1.01it/s]"
     ]
    },
    {
     "name": "stdout",
     "output_type": "stream",
     "text": [
      "Epoch 4: 41%, loss: 1.658163\n"
     ]
    },
    {
     "name": "stderr",
     "output_type": "stream",
     "text": [
      " 46%|████▋     | 901/1948 [13:10<15:10,  1.15it/s]"
     ]
    },
    {
     "name": "stdout",
     "output_type": "stream",
     "text": [
      "Epoch 4: 46%, loss: 3.517742\n"
     ]
    },
    {
     "name": "stderr",
     "output_type": "stream",
     "text": [
      " 51%|█████▏    | 1001/1948 [14:43<14:19,  1.10it/s]"
     ]
    },
    {
     "name": "stdout",
     "output_type": "stream",
     "text": [
      "Epoch 4: 51%, loss: 1.898760\n"
     ]
    },
    {
     "name": "stderr",
     "output_type": "stream",
     "text": [
      " 57%|█████▋    | 1101/1948 [16:14<13:43,  1.03it/s]"
     ]
    },
    {
     "name": "stdout",
     "output_type": "stream",
     "text": [
      "Epoch 4: 56%, loss: 7.383889\n"
     ]
    },
    {
     "name": "stderr",
     "output_type": "stream",
     "text": [
      " 62%|██████▏   | 1201/1948 [17:47<12:21,  1.01it/s]"
     ]
    },
    {
     "name": "stdout",
     "output_type": "stream",
     "text": [
      "Epoch 4: 62%, loss: 2.121251\n"
     ]
    },
    {
     "name": "stderr",
     "output_type": "stream",
     "text": [
      " 67%|██████▋   | 1301/1948 [19:21<09:58,  1.08it/s]"
     ]
    },
    {
     "name": "stdout",
     "output_type": "stream",
     "text": [
      "Epoch 4: 67%, loss: 4.577354\n"
     ]
    },
    {
     "name": "stderr",
     "output_type": "stream",
     "text": [
      " 72%|███████▏  | 1401/1948 [20:57<08:39,  1.05it/s]"
     ]
    },
    {
     "name": "stdout",
     "output_type": "stream",
     "text": [
      "Epoch 4: 72%, loss: 1.094512\n"
     ]
    },
    {
     "name": "stderr",
     "output_type": "stream",
     "text": [
      " 77%|███████▋  | 1501/1948 [22:33<07:42,  1.03s/it]"
     ]
    },
    {
     "name": "stdout",
     "output_type": "stream",
     "text": [
      "Epoch 4: 77%, loss: 2.112152\n"
     ]
    },
    {
     "name": "stderr",
     "output_type": "stream",
     "text": [
      " 82%|████████▏ | 1601/1948 [24:10<05:48,  1.00s/it]"
     ]
    },
    {
     "name": "stdout",
     "output_type": "stream",
     "text": [
      "Epoch 4: 82%, loss: 1.027689\n"
     ]
    },
    {
     "name": "stderr",
     "output_type": "stream",
     "text": [
      " 87%|████████▋ | 1701/1948 [25:50<03:57,  1.04it/s]"
     ]
    },
    {
     "name": "stdout",
     "output_type": "stream",
     "text": [
      "Epoch 4: 87%, loss: 6.350690\n"
     ]
    },
    {
     "name": "stderr",
     "output_type": "stream",
     "text": [
      " 92%|█████████▏| 1801/1948 [27:30<02:23,  1.02it/s]"
     ]
    },
    {
     "name": "stdout",
     "output_type": "stream",
     "text": [
      "Epoch 4: 92%, loss: 2.456062\n"
     ]
    },
    {
     "name": "stderr",
     "output_type": "stream",
     "text": [
      " 98%|█████████▊| 1901/1948 [29:09<00:46,  1.00it/s]"
     ]
    },
    {
     "name": "stdout",
     "output_type": "stream",
     "text": [
      "Epoch 4: 98%, loss: 2.001908\n"
     ]
    },
    {
     "name": "stderr",
     "output_type": "stream",
     "text": [
      "100%|██████████| 1948/1948 [29:56<00:00,  1.08it/s]"
     ]
    },
    {
     "name": "stdout",
     "output_type": "stream",
     "text": [
      "Epoch 4: 100%, loss: 4.693933\n"
     ]
    },
    {
     "name": "stderr",
     "output_type": "stream",
     "text": [
      "\n"
     ]
    },
    {
     "name": "stdout",
     "output_type": "stream",
     "text": [
      "                      (F1-score: 0.2188, Precision: 0.2215, Recall: 0.2387)\n",
      "\n",
      "                      (NDCG: 0.1771)\n",
      "\n",
      "                      (MAE: 4.0781)\n",
      "\n",
      "train_loss= tensor(2.9312)\n",
      "--------------------\n"
     ]
    },
    {
     "name": "stderr",
     "output_type": "stream",
     "text": [
      "100%|██████████| 243/243 [03:09<00:00,  1.28it/s]\n"
     ]
    },
    {
     "name": "stdout",
     "output_type": "stream",
     "text": [
      "                      (F1-score: 0.1867, Precision: 0.1909, Recall: 0.2006)\n",
      "\n",
      "                      (NDCG: 0.1541)\n",
      "\n",
      "                      (MAE: 4.0082)\n",
      "\n",
      "val_loss= tensor(2.8281)\n",
      "--------------------\n"
     ]
    },
    {
     "name": "stderr",
     "output_type": "stream",
     "text": [
      "100%|██████████| 243/243 [03:10<00:00,  1.27it/s]\n"
     ]
    },
    {
     "name": "stdout",
     "output_type": "stream",
     "text": [
      "                      (F1-score: 0.1797, Precision: 0.1858, Recall: 0.1909)\n",
      "\n",
      "                      (NDCG: 0.1503)\n",
      "\n",
      "                      (MAE: 3.9902)\n",
      "\n",
      "--------------------\n",
      "[[1, 0.1875991175455632, 0.19108291666747096, 0.18043854934274806, 0.1457448609637043, 4.029320987654321, 3.6180145740509033], [2, 0.20539651857809835, 0.17557436896824768, 0.1800687695120412, 0.1471341559835882, 4.262345679012346, 3.475299119949341], [3, 0.18758900651202198, 0.16941856153482818, 0.16979553941254444, 0.14120907373889255, 4.294238683127572, 3.451737403869629], [4, 0.1909076314574276, 0.1858205367875703, 0.17968947492653034, 0.1503059285517529, 3.9902263374485596, 2.970322847366333]]\n",
      "-----------------------------------------------------------------------------------------\n"
     ]
    },
    {
     "name": "stderr",
     "output_type": "stream",
     "text": [
      "  0%|          | 1/1948 [00:00<30:34,  1.06it/s]"
     ]
    },
    {
     "name": "stdout",
     "output_type": "stream",
     "text": [
      "Epoch 5: 0%, loss: 4.430682\n"
     ]
    },
    {
     "name": "stderr",
     "output_type": "stream",
     "text": [
      "  5%|▌         | 101/1948 [01:26<26:30,  1.16it/s]"
     ]
    },
    {
     "name": "stdout",
     "output_type": "stream",
     "text": [
      "Epoch 5: 5%, loss: 1.084381\n"
     ]
    },
    {
     "name": "stderr",
     "output_type": "stream",
     "text": [
      " 10%|█         | 201/1948 [02:50<24:13,  1.20it/s]"
     ]
    },
    {
     "name": "stdout",
     "output_type": "stream",
     "text": [
      "Epoch 5: 10%, loss: 4.086814\n"
     ]
    },
    {
     "name": "stderr",
     "output_type": "stream",
     "text": [
      " 15%|█▌        | 301/1948 [04:16<24:18,  1.13it/s]"
     ]
    },
    {
     "name": "stdout",
     "output_type": "stream",
     "text": [
      "Epoch 5: 15%, loss: 1.556570\n"
     ]
    },
    {
     "name": "stderr",
     "output_type": "stream",
     "text": [
      " 21%|██        | 401/1948 [05:42<23:33,  1.09it/s]"
     ]
    },
    {
     "name": "stdout",
     "output_type": "stream",
     "text": [
      "Epoch 5: 21%, loss: 1.479677\n"
     ]
    },
    {
     "name": "stderr",
     "output_type": "stream",
     "text": [
      " 26%|██▌       | 501/1948 [07:09<19:53,  1.21it/s]"
     ]
    },
    {
     "name": "stdout",
     "output_type": "stream",
     "text": [
      "Epoch 5: 26%, loss: 1.290962\n"
     ]
    },
    {
     "name": "stderr",
     "output_type": "stream",
     "text": [
      " 31%|███       | 601/1948 [08:36<21:27,  1.05it/s]"
     ]
    },
    {
     "name": "stdout",
     "output_type": "stream",
     "text": [
      "Epoch 5: 31%, loss: 1.539761\n"
     ]
    },
    {
     "name": "stderr",
     "output_type": "stream",
     "text": [
      " 36%|███▌      | 701/1948 [10:07<18:26,  1.13it/s]"
     ]
    },
    {
     "name": "stdout",
     "output_type": "stream",
     "text": [
      "Epoch 5: 36%, loss: 7.183591\n"
     ]
    },
    {
     "name": "stderr",
     "output_type": "stream",
     "text": [
      " 41%|████      | 801/1948 [11:37<16:55,  1.13it/s]"
     ]
    },
    {
     "name": "stdout",
     "output_type": "stream",
     "text": [
      "Epoch 5: 41%, loss: 4.124732\n"
     ]
    },
    {
     "name": "stderr",
     "output_type": "stream",
     "text": [
      " 46%|████▋     | 901/1948 [13:09<17:33,  1.01s/it]"
     ]
    },
    {
     "name": "stdout",
     "output_type": "stream",
     "text": [
      "Epoch 5: 46%, loss: 3.445392\n"
     ]
    },
    {
     "name": "stderr",
     "output_type": "stream",
     "text": [
      " 51%|█████▏    | 1001/1948 [14:41<14:44,  1.07it/s]"
     ]
    },
    {
     "name": "stdout",
     "output_type": "stream",
     "text": [
      "Epoch 5: 51%, loss: 2.813119\n"
     ]
    },
    {
     "name": "stderr",
     "output_type": "stream",
     "text": [
      " 57%|█████▋    | 1101/1948 [16:15<12:44,  1.11it/s]"
     ]
    },
    {
     "name": "stdout",
     "output_type": "stream",
     "text": [
      "Epoch 5: 56%, loss: 1.122020\n"
     ]
    },
    {
     "name": "stderr",
     "output_type": "stream",
     "text": [
      " 62%|██████▏   | 1201/1948 [17:49<11:58,  1.04it/s]"
     ]
    },
    {
     "name": "stdout",
     "output_type": "stream",
     "text": [
      "Epoch 5: 62%, loss: 1.184725\n"
     ]
    },
    {
     "name": "stderr",
     "output_type": "stream",
     "text": [
      " 67%|██████▋   | 1301/1948 [19:23<11:00,  1.02s/it]"
     ]
    },
    {
     "name": "stdout",
     "output_type": "stream",
     "text": [
      "Epoch 5: 67%, loss: 1.427044\n"
     ]
    },
    {
     "name": "stderr",
     "output_type": "stream",
     "text": [
      " 72%|███████▏  | 1401/1948 [20:59<08:32,  1.07it/s]"
     ]
    },
    {
     "name": "stdout",
     "output_type": "stream",
     "text": [
      "Epoch 5: 72%, loss: 0.331816\n"
     ]
    },
    {
     "name": "stderr",
     "output_type": "stream",
     "text": [
      " 77%|███████▋  | 1501/1948 [22:36<07:05,  1.05it/s]"
     ]
    },
    {
     "name": "stdout",
     "output_type": "stream",
     "text": [
      "Epoch 5: 77%, loss: 3.292505\n"
     ]
    },
    {
     "name": "stderr",
     "output_type": "stream",
     "text": [
      " 82%|████████▏ | 1601/1948 [24:12<05:33,  1.04it/s]"
     ]
    },
    {
     "name": "stdout",
     "output_type": "stream",
     "text": [
      "Epoch 5: 82%, loss: 5.055947\n"
     ]
    },
    {
     "name": "stderr",
     "output_type": "stream",
     "text": [
      " 87%|████████▋ | 1701/1948 [25:50<04:01,  1.02it/s]"
     ]
    },
    {
     "name": "stdout",
     "output_type": "stream",
     "text": [
      "Epoch 5: 87%, loss: 2.602267\n"
     ]
    },
    {
     "name": "stderr",
     "output_type": "stream",
     "text": [
      " 92%|█████████▏| 1801/1948 [27:30<02:16,  1.08it/s]"
     ]
    },
    {
     "name": "stdout",
     "output_type": "stream",
     "text": [
      "Epoch 5: 92%, loss: 3.143920\n"
     ]
    },
    {
     "name": "stderr",
     "output_type": "stream",
     "text": [
      " 98%|█████████▊| 1901/1948 [29:10<00:48,  1.02s/it]"
     ]
    },
    {
     "name": "stdout",
     "output_type": "stream",
     "text": [
      "Epoch 5: 98%, loss: 3.098241\n"
     ]
    },
    {
     "name": "stderr",
     "output_type": "stream",
     "text": [
      "100%|██████████| 1948/1948 [29:56<00:00,  1.02s/it]"
     ]
    },
    {
     "name": "stdout",
     "output_type": "stream",
     "text": [
      "Epoch 5: 100%, loss: 2.401522\n"
     ]
    },
    {
     "name": "stderr",
     "output_type": "stream",
     "text": [
      "100%|██████████| 1948/1948 [29:56<00:00,  1.08it/s]\n"
     ]
    },
    {
     "name": "stdout",
     "output_type": "stream",
     "text": [
      "                      (F1-score: 0.2242, Precision: 0.2265, Recall: 0.2444)\n",
      "\n",
      "                      (NDCG: 0.2004)\n",
      "\n",
      "                      (MAE: 4.0361)\n",
      "\n",
      "train_loss= tensor(2.6953)\n",
      "--------------------\n"
     ]
    },
    {
     "name": "stderr",
     "output_type": "stream",
     "text": [
      "100%|██████████| 243/243 [03:11<00:00,  1.27it/s]\n"
     ]
    },
    {
     "name": "stdout",
     "output_type": "stream",
     "text": [
      "                      (F1-score: 0.1884, Precision: 0.1811, Recall: 0.2184)\n",
      "\n",
      "                      (NDCG: 0.1706)\n",
      "\n",
      "                      (MAE: 4.2865)\n",
      "\n",
      "val_loss= tensor(2.7394)\n",
      "--------------------\n"
     ]
    },
    {
     "name": "stderr",
     "output_type": "stream",
     "text": [
      "100%|██████████| 243/243 [03:11<00:00,  1.27it/s]\n"
     ]
    },
    {
     "name": "stdout",
     "output_type": "stream",
     "text": [
      "                      (F1-score: 0.1822, Precision: 0.1766, Recall: 0.2092)\n",
      "\n",
      "                      (NDCG: 0.1668)\n",
      "\n",
      "                      (MAE: 4.2906)\n",
      "\n",
      "--------------------\n",
      "[[1, 0.1875991175455632, 0.19108291666747096, 0.18043854934274806, 0.1457448609637043, 4.029320987654321, 3.6180145740509033], [2, 0.20539651857809835, 0.17557436896824768, 0.1800687695120412, 0.1471341559835882, 4.262345679012346, 3.475299119949341], [3, 0.18758900651202198, 0.16941856153482818, 0.16979553941254444, 0.14120907373889255, 4.294238683127572, 3.451737403869629], [4, 0.1909076314574276, 0.1858205367875703, 0.17968947492653034, 0.1503059285517529, 3.9902263374485596, 2.970322847366333], [5, 0.20918898828584626, 0.1765620068271424, 0.1822218291935278, 0.16676721420453347, 4.290637860082304, 2.8762545585632324]]\n",
      "-----------------------------------------------------------------------------------------\n"
     ]
    },
    {
     "name": "stderr",
     "output_type": "stream",
     "text": [
      "  0%|          | 1/1948 [00:01<35:14,  1.09s/it]"
     ]
    },
    {
     "name": "stdout",
     "output_type": "stream",
     "text": [
      "Epoch 6: 0%, loss: 0.942018\n"
     ]
    },
    {
     "name": "stderr",
     "output_type": "stream",
     "text": [
      "  5%|▌         | 101/1948 [01:25<25:48,  1.19it/s]"
     ]
    },
    {
     "name": "stdout",
     "output_type": "stream",
     "text": [
      "Epoch 6: 5%, loss: 2.948494\n"
     ]
    },
    {
     "name": "stderr",
     "output_type": "stream",
     "text": [
      " 10%|█         | 201/1948 [02:49<25:33,  1.14it/s]"
     ]
    },
    {
     "name": "stdout",
     "output_type": "stream",
     "text": [
      "Epoch 6: 10%, loss: 4.330523\n"
     ]
    },
    {
     "name": "stderr",
     "output_type": "stream",
     "text": [
      " 15%|█▌        | 301/1948 [04:14<22:07,  1.24it/s]"
     ]
    },
    {
     "name": "stdout",
     "output_type": "stream",
     "text": [
      "Epoch 6: 15%, loss: 0.440469\n"
     ]
    },
    {
     "name": "stderr",
     "output_type": "stream",
     "text": [
      " 21%|██        | 401/1948 [05:40<21:32,  1.20it/s]"
     ]
    },
    {
     "name": "stdout",
     "output_type": "stream",
     "text": [
      "Epoch 6: 21%, loss: 1.008240\n"
     ]
    },
    {
     "name": "stderr",
     "output_type": "stream",
     "text": [
      " 26%|██▌       | 501/1948 [07:08<21:02,  1.15it/s]"
     ]
    },
    {
     "name": "stdout",
     "output_type": "stream",
     "text": [
      "Epoch 6: 26%, loss: 3.461499\n"
     ]
    },
    {
     "name": "stderr",
     "output_type": "stream",
     "text": [
      " 31%|███       | 601/1948 [08:36<19:45,  1.14it/s]"
     ]
    },
    {
     "name": "stdout",
     "output_type": "stream",
     "text": [
      "Epoch 6: 31%, loss: 1.246677\n"
     ]
    },
    {
     "name": "stderr",
     "output_type": "stream",
     "text": [
      " 36%|███▌      | 701/1948 [10:05<18:08,  1.15it/s]"
     ]
    },
    {
     "name": "stdout",
     "output_type": "stream",
     "text": [
      "Epoch 6: 36%, loss: 2.248639\n"
     ]
    },
    {
     "name": "stderr",
     "output_type": "stream",
     "text": [
      " 41%|████      | 801/1948 [11:37<16:36,  1.15it/s]"
     ]
    },
    {
     "name": "stdout",
     "output_type": "stream",
     "text": [
      "Epoch 6: 41%, loss: 0.694289\n"
     ]
    },
    {
     "name": "stderr",
     "output_type": "stream",
     "text": [
      " 46%|████▋     | 901/1948 [13:08<15:47,  1.11it/s]"
     ]
    },
    {
     "name": "stdout",
     "output_type": "stream",
     "text": [
      "Epoch 6: 46%, loss: 0.787022\n"
     ]
    },
    {
     "name": "stderr",
     "output_type": "stream",
     "text": [
      " 51%|█████▏    | 1001/1948 [14:41<14:59,  1.05it/s]"
     ]
    },
    {
     "name": "stdout",
     "output_type": "stream",
     "text": [
      "Epoch 6: 51%, loss: 6.676085\n"
     ]
    },
    {
     "name": "stderr",
     "output_type": "stream",
     "text": [
      " 57%|█████▋    | 1101/1948 [16:14<13:26,  1.05it/s]"
     ]
    },
    {
     "name": "stdout",
     "output_type": "stream",
     "text": [
      "Epoch 6: 56%, loss: 5.821616\n"
     ]
    },
    {
     "name": "stderr",
     "output_type": "stream",
     "text": [
      " 62%|██████▏   | 1201/1948 [17:49<11:52,  1.05it/s]"
     ]
    },
    {
     "name": "stdout",
     "output_type": "stream",
     "text": [
      "Epoch 6: 62%, loss: 1.335361\n"
     ]
    },
    {
     "name": "stderr",
     "output_type": "stream",
     "text": [
      " 67%|██████▋   | 1301/1948 [19:23<10:28,  1.03it/s]"
     ]
    },
    {
     "name": "stdout",
     "output_type": "stream",
     "text": [
      "Epoch 6: 67%, loss: 1.213901\n"
     ]
    },
    {
     "name": "stderr",
     "output_type": "stream",
     "text": [
      " 72%|███████▏  | 1401/1948 [20:58<09:06,  1.00it/s]"
     ]
    },
    {
     "name": "stdout",
     "output_type": "stream",
     "text": [
      "Epoch 6: 72%, loss: 13.898061\n"
     ]
    },
    {
     "name": "stderr",
     "output_type": "stream",
     "text": [
      " 77%|███████▋  | 1501/1948 [22:36<07:26,  1.00it/s]"
     ]
    },
    {
     "name": "stdout",
     "output_type": "stream",
     "text": [
      "Epoch 6: 77%, loss: 1.566362\n"
     ]
    },
    {
     "name": "stderr",
     "output_type": "stream",
     "text": [
      " 82%|████████▏ | 1601/1948 [24:13<05:43,  1.01it/s]"
     ]
    },
    {
     "name": "stdout",
     "output_type": "stream",
     "text": [
      "Epoch 6: 82%, loss: 2.308131\n"
     ]
    },
    {
     "name": "stderr",
     "output_type": "stream",
     "text": [
      " 87%|████████▋ | 1701/1948 [25:51<04:05,  1.01it/s]"
     ]
    },
    {
     "name": "stdout",
     "output_type": "stream",
     "text": [
      "Epoch 6: 87%, loss: 3.695974\n"
     ]
    },
    {
     "name": "stderr",
     "output_type": "stream",
     "text": [
      " 92%|█████████▏| 1801/1948 [27:31<02:37,  1.07s/it]"
     ]
    },
    {
     "name": "stdout",
     "output_type": "stream",
     "text": [
      "Epoch 6: 92%, loss: 2.031510\n"
     ]
    },
    {
     "name": "stderr",
     "output_type": "stream",
     "text": [
      " 98%|█████████▊| 1901/1948 [29:12<00:45,  1.03it/s]"
     ]
    },
    {
     "name": "stdout",
     "output_type": "stream",
     "text": [
      "Epoch 6: 98%, loss: 1.630185\n"
     ]
    },
    {
     "name": "stderr",
     "output_type": "stream",
     "text": [
      "100%|██████████| 1948/1948 [29:59<00:00,  1.07s/it]"
     ]
    },
    {
     "name": "stdout",
     "output_type": "stream",
     "text": [
      "Epoch 6: 100%, loss: 4.279233\n"
     ]
    },
    {
     "name": "stderr",
     "output_type": "stream",
     "text": [
      "100%|██████████| 1948/1948 [29:59<00:00,  1.08it/s]\n"
     ]
    },
    {
     "name": "stdout",
     "output_type": "stream",
     "text": [
      "                      (F1-score: 0.2277, Precision: 0.2299, Recall: 0.2483)\n",
      "\n",
      "                      (NDCG: 0.2075)\n",
      "\n",
      "                      (MAE: 4.0411)\n",
      "\n",
      "train_loss= tensor(2.6341)\n",
      "--------------------\n"
     ]
    },
    {
     "name": "stderr",
     "output_type": "stream",
     "text": [
      "100%|██████████| 243/243 [03:10<00:00,  1.27it/s]\n"
     ]
    },
    {
     "name": "stdout",
     "output_type": "stream",
     "text": [
      "                      (F1-score: 0.1929, Precision: 0.1869, Recall: 0.2197)\n",
      "\n",
      "                      (NDCG: 0.1753)\n",
      "\n",
      "                      (MAE: 4.1656)\n",
      "\n",
      "val_loss= tensor(2.6632)\n",
      "--------------------\n"
     ]
    },
    {
     "name": "stderr",
     "output_type": "stream",
     "text": [
      "100%|██████████| 243/243 [03:10<00:00,  1.27it/s]\n"
     ]
    },
    {
     "name": "stdout",
     "output_type": "stream",
     "text": [
      "                      (F1-score: 0.1857, Precision: 0.1816, Recall: 0.2094)\n",
      "\n",
      "                      (NDCG: 0.1706)\n",
      "\n",
      "                      (MAE: 4.1615)\n",
      "\n",
      "--------------------\n",
      "[[1, 0.1875991175455632, 0.19108291666747096, 0.18043854934274806, 0.1457448609637043, 4.029320987654321, 3.6180145740509033], [2, 0.20539651857809835, 0.17557436896824768, 0.1800687695120412, 0.1471341559835882, 4.262345679012346, 3.475299119949341], [3, 0.18758900651202198, 0.16941856153482818, 0.16979553941254444, 0.14120907373889255, 4.294238683127572, 3.451737403869629], [4, 0.1909076314574276, 0.1858205367875703, 0.17968947492653034, 0.1503059285517529, 3.9902263374485596, 2.970322847366333], [5, 0.20918898828584626, 0.1765620068271424, 0.1822218291935278, 0.16676721420453347, 4.290637860082304, 2.8762545585632324], [6, 0.2094318462531283, 0.18161840783927125, 0.18569726459028094, 0.17061337337200624, 4.161522633744856, 2.780850410461426]]\n",
      "-----------------------------------------------------------------------------------------\n"
     ]
    },
    {
     "name": "stderr",
     "output_type": "stream",
     "text": [
      "  0%|          | 1/1948 [00:00<31:15,  1.04it/s]"
     ]
    },
    {
     "name": "stdout",
     "output_type": "stream",
     "text": [
      "Epoch 7: 0%, loss: 4.881810\n"
     ]
    },
    {
     "name": "stderr",
     "output_type": "stream",
     "text": [
      "  5%|▌         | 101/1948 [01:25<24:52,  1.24it/s]"
     ]
    },
    {
     "name": "stdout",
     "output_type": "stream",
     "text": [
      "Epoch 7: 5%, loss: 1.668133\n"
     ]
    },
    {
     "name": "stderr",
     "output_type": "stream",
     "text": [
      " 10%|█         | 201/1948 [02:50<24:53,  1.17it/s]"
     ]
    },
    {
     "name": "stdout",
     "output_type": "stream",
     "text": [
      "Epoch 7: 10%, loss: 3.362197\n"
     ]
    },
    {
     "name": "stderr",
     "output_type": "stream",
     "text": [
      " 15%|█▌        | 301/1948 [04:16<24:08,  1.14it/s]"
     ]
    },
    {
     "name": "stdout",
     "output_type": "stream",
     "text": [
      "Epoch 7: 15%, loss: 1.803219\n"
     ]
    },
    {
     "name": "stderr",
     "output_type": "stream",
     "text": [
      " 21%|██        | 401/1948 [05:41<21:12,  1.22it/s]"
     ]
    },
    {
     "name": "stdout",
     "output_type": "stream",
     "text": [
      "Epoch 7: 21%, loss: 0.464681\n"
     ]
    },
    {
     "name": "stderr",
     "output_type": "stream",
     "text": [
      " 26%|██▌       | 501/1948 [07:09<22:08,  1.09it/s]"
     ]
    },
    {
     "name": "stdout",
     "output_type": "stream",
     "text": [
      "Epoch 7: 26%, loss: 1.431739\n"
     ]
    },
    {
     "name": "stderr",
     "output_type": "stream",
     "text": [
      " 31%|███       | 601/1948 [08:39<20:38,  1.09it/s]"
     ]
    },
    {
     "name": "stdout",
     "output_type": "stream",
     "text": [
      "Epoch 7: 31%, loss: 2.652886\n"
     ]
    },
    {
     "name": "stderr",
     "output_type": "stream",
     "text": [
      " 36%|███▌      | 701/1948 [10:07<18:29,  1.12it/s]"
     ]
    },
    {
     "name": "stdout",
     "output_type": "stream",
     "text": [
      "Epoch 7: 36%, loss: 1.820973\n"
     ]
    },
    {
     "name": "stderr",
     "output_type": "stream",
     "text": [
      " 41%|████      | 801/1948 [11:38<16:30,  1.16it/s]"
     ]
    },
    {
     "name": "stdout",
     "output_type": "stream",
     "text": [
      "Epoch 7: 41%, loss: 3.814170\n"
     ]
    },
    {
     "name": "stderr",
     "output_type": "stream",
     "text": [
      " 46%|████▋     | 901/1948 [13:09<17:20,  1.01it/s]"
     ]
    },
    {
     "name": "stdout",
     "output_type": "stream",
     "text": [
      "Epoch 7: 46%, loss: 0.952225\n"
     ]
    },
    {
     "name": "stderr",
     "output_type": "stream",
     "text": [
      " 51%|█████▏    | 1001/1948 [14:41<14:12,  1.11it/s]"
     ]
    },
    {
     "name": "stdout",
     "output_type": "stream",
     "text": [
      "Epoch 7: 51%, loss: 2.148776\n"
     ]
    },
    {
     "name": "stderr",
     "output_type": "stream",
     "text": [
      " 57%|█████▋    | 1101/1948 [16:14<13:44,  1.03it/s]"
     ]
    },
    {
     "name": "stdout",
     "output_type": "stream",
     "text": [
      "Epoch 7: 56%, loss: 2.115502\n"
     ]
    },
    {
     "name": "stderr",
     "output_type": "stream",
     "text": [
      " 62%|██████▏   | 1201/1948 [17:50<11:43,  1.06it/s]"
     ]
    },
    {
     "name": "stdout",
     "output_type": "stream",
     "text": [
      "Epoch 7: 62%, loss: 2.972706\n"
     ]
    },
    {
     "name": "stderr",
     "output_type": "stream",
     "text": [
      " 67%|██████▋   | 1301/1948 [19:25<10:05,  1.07it/s]"
     ]
    },
    {
     "name": "stdout",
     "output_type": "stream",
     "text": [
      "Epoch 7: 67%, loss: 0.610222\n"
     ]
    },
    {
     "name": "stderr",
     "output_type": "stream",
     "text": [
      " 72%|███████▏  | 1401/1948 [21:00<08:08,  1.12it/s]"
     ]
    },
    {
     "name": "stdout",
     "output_type": "stream",
     "text": [
      "Epoch 7: 72%, loss: 0.669576\n"
     ]
    },
    {
     "name": "stderr",
     "output_type": "stream",
     "text": [
      " 77%|███████▋  | 1501/1948 [22:36<07:19,  1.02it/s]"
     ]
    },
    {
     "name": "stdout",
     "output_type": "stream",
     "text": [
      "Epoch 7: 77%, loss: 7.711646\n"
     ]
    },
    {
     "name": "stderr",
     "output_type": "stream",
     "text": [
      " 82%|████████▏ | 1601/1948 [24:14<05:49,  1.01s/it]"
     ]
    },
    {
     "name": "stdout",
     "output_type": "stream",
     "text": [
      "Epoch 7: 82%, loss: 1.632320\n"
     ]
    },
    {
     "name": "stderr",
     "output_type": "stream",
     "text": [
      " 87%|████████▋ | 1701/1948 [25:53<04:00,  1.03it/s]"
     ]
    },
    {
     "name": "stdout",
     "output_type": "stream",
     "text": [
      "Epoch 7: 87%, loss: 1.620147\n"
     ]
    },
    {
     "name": "stderr",
     "output_type": "stream",
     "text": [
      " 92%|█████████▏| 1801/1948 [27:31<02:24,  1.02it/s]"
     ]
    },
    {
     "name": "stdout",
     "output_type": "stream",
     "text": [
      "Epoch 7: 92%, loss: 4.844822\n"
     ]
    },
    {
     "name": "stderr",
     "output_type": "stream",
     "text": [
      " 98%|█████████▊| 1901/1948 [29:10<00:45,  1.03it/s]"
     ]
    },
    {
     "name": "stdout",
     "output_type": "stream",
     "text": [
      "Epoch 7: 98%, loss: 1.867021\n"
     ]
    },
    {
     "name": "stderr",
     "output_type": "stream",
     "text": [
      "100%|██████████| 1948/1948 [29:59<00:00,  1.13s/it]"
     ]
    },
    {
     "name": "stdout",
     "output_type": "stream",
     "text": [
      "Epoch 7: 100%, loss: 2.096011\n"
     ]
    },
    {
     "name": "stderr",
     "output_type": "stream",
     "text": [
      "100%|██████████| 1948/1948 [29:59<00:00,  1.08it/s]\n"
     ]
    },
    {
     "name": "stdout",
     "output_type": "stream",
     "text": [
      "                      (F1-score: 0.2307, Precision: 0.2326, Recall: 0.2516)\n",
      "\n",
      "                      (NDCG: 0.2100)\n",
      "\n",
      "                      (MAE: 4.0134)\n",
      "\n",
      "train_loss= tensor(2.5446)\n",
      "--------------------\n"
     ]
    },
    {
     "name": "stderr",
     "output_type": "stream",
     "text": [
      "100%|██████████| 243/243 [03:10<00:00,  1.27it/s]\n"
     ]
    },
    {
     "name": "stdout",
     "output_type": "stream",
     "text": [
      "                      (F1-score: 0.1953, Precision: 0.1911, Recall: 0.2192)\n",
      "\n",
      "                      (NDCG: 0.1785)\n",
      "\n",
      "                      (MAE: 4.1157)\n",
      "\n",
      "val_loss= tensor(2.6200)\n",
      "--------------------\n"
     ]
    },
    {
     "name": "stderr",
     "output_type": "stream",
     "text": [
      "100%|██████████| 243/243 [03:10<00:00,  1.27it/s]\n"
     ]
    },
    {
     "name": "stdout",
     "output_type": "stream",
     "text": [
      "                      (F1-score: 0.1882, Precision: 0.1855, Recall: 0.2103)\n",
      "\n",
      "                      (NDCG: 0.1732)\n",
      "\n",
      "                      (MAE: 4.1137)\n",
      "\n",
      "--------------------\n",
      "[[1, 0.1875991175455632, 0.19108291666747096, 0.18043854934274806, 0.1457448609637043, 4.029320987654321, 3.6180145740509033], [2, 0.20539651857809835, 0.17557436896824768, 0.1800687695120412, 0.1471341559835882, 4.262345679012346, 3.475299119949341], [3, 0.18758900651202198, 0.16941856153482818, 0.16979553941254444, 0.14120907373889255, 4.294238683127572, 3.451737403869629], [4, 0.1909076314574276, 0.1858205367875703, 0.17968947492653034, 0.1503059285517529, 3.9902263374485596, 2.970322847366333], [5, 0.20918898828584626, 0.1765620068271424, 0.1822218291935278, 0.16676721420453347, 4.290637860082304, 2.8762545585632324], [6, 0.2094318462531283, 0.18161840783927125, 0.18569726459028094, 0.17061337337200624, 4.161522633744856, 2.780850410461426], [7, 0.21033745664572803, 0.18550087494313844, 0.18818766645239998, 0.1731567924603659, 4.113683127572016, 2.7444424629211426]]\n",
      "-----------------------------------------------------------------------------------------\n"
     ]
    },
    {
     "name": "stderr",
     "output_type": "stream",
     "text": [
      "  0%|          | 1/1948 [00:00<32:08,  1.01it/s]"
     ]
    },
    {
     "name": "stdout",
     "output_type": "stream",
     "text": [
      "Epoch 8: 0%, loss: 1.344792\n"
     ]
    },
    {
     "name": "stderr",
     "output_type": "stream",
     "text": [
      "  5%|▌         | 101/1948 [01:25<25:22,  1.21it/s]"
     ]
    },
    {
     "name": "stdout",
     "output_type": "stream",
     "text": [
      "Epoch 8: 5%, loss: 3.234063\n"
     ]
    },
    {
     "name": "stderr",
     "output_type": "stream",
     "text": [
      " 10%|█         | 201/1948 [02:50<24:56,  1.17it/s]"
     ]
    },
    {
     "name": "stdout",
     "output_type": "stream",
     "text": [
      "Epoch 8: 10%, loss: 8.044876\n"
     ]
    },
    {
     "name": "stderr",
     "output_type": "stream",
     "text": [
      " 15%|█▌        | 301/1948 [04:15<24:05,  1.14it/s]"
     ]
    },
    {
     "name": "stdout",
     "output_type": "stream",
     "text": [
      "Epoch 8: 15%, loss: 0.772741\n"
     ]
    },
    {
     "name": "stderr",
     "output_type": "stream",
     "text": [
      " 21%|██        | 401/1948 [05:41<22:57,  1.12it/s]"
     ]
    },
    {
     "name": "stdout",
     "output_type": "stream",
     "text": [
      "Epoch 8: 21%, loss: 2.539430\n"
     ]
    },
    {
     "name": "stderr",
     "output_type": "stream",
     "text": [
      " 26%|██▌       | 501/1948 [07:08<21:07,  1.14it/s]"
     ]
    },
    {
     "name": "stdout",
     "output_type": "stream",
     "text": [
      "Epoch 8: 26%, loss: 1.056105\n"
     ]
    },
    {
     "name": "stderr",
     "output_type": "stream",
     "text": [
      " 31%|███       | 601/1948 [08:37<19:27,  1.15it/s]"
     ]
    },
    {
     "name": "stdout",
     "output_type": "stream",
     "text": [
      "Epoch 8: 31%, loss: 1.850354\n"
     ]
    },
    {
     "name": "stderr",
     "output_type": "stream",
     "text": [
      " 36%|███▌      | 701/1948 [10:07<18:02,  1.15it/s]"
     ]
    },
    {
     "name": "stdout",
     "output_type": "stream",
     "text": [
      "Epoch 8: 36%, loss: 1.184127\n"
     ]
    },
    {
     "name": "stderr",
     "output_type": "stream",
     "text": [
      " 41%|████      | 801/1948 [11:37<18:06,  1.06it/s]"
     ]
    },
    {
     "name": "stdout",
     "output_type": "stream",
     "text": [
      "Epoch 8: 41%, loss: 0.778764\n"
     ]
    },
    {
     "name": "stderr",
     "output_type": "stream",
     "text": [
      " 46%|████▋     | 901/1948 [13:10<16:08,  1.08it/s]"
     ]
    },
    {
     "name": "stdout",
     "output_type": "stream",
     "text": [
      "Epoch 8: 46%, loss: 1.334508\n"
     ]
    },
    {
     "name": "stderr",
     "output_type": "stream",
     "text": [
      " 51%|█████▏    | 1001/1948 [14:44<14:56,  1.06it/s]"
     ]
    },
    {
     "name": "stdout",
     "output_type": "stream",
     "text": [
      "Epoch 8: 51%, loss: 1.657146\n"
     ]
    },
    {
     "name": "stderr",
     "output_type": "stream",
     "text": [
      " 57%|█████▋    | 1101/1948 [16:18<12:50,  1.10it/s]"
     ]
    },
    {
     "name": "stdout",
     "output_type": "stream",
     "text": [
      "Epoch 8: 56%, loss: 0.607186\n"
     ]
    },
    {
     "name": "stderr",
     "output_type": "stream",
     "text": [
      " 62%|██████▏   | 1201/1948 [17:52<11:20,  1.10it/s]"
     ]
    },
    {
     "name": "stdout",
     "output_type": "stream",
     "text": [
      "Epoch 8: 62%, loss: 0.709265\n"
     ]
    },
    {
     "name": "stderr",
     "output_type": "stream",
     "text": [
      " 67%|██████▋   | 1301/1948 [19:26<10:12,  1.06it/s]"
     ]
    },
    {
     "name": "stdout",
     "output_type": "stream",
     "text": [
      "Epoch 8: 67%, loss: 1.318740\n"
     ]
    },
    {
     "name": "stderr",
     "output_type": "stream",
     "text": [
      " 72%|███████▏  | 1401/1948 [21:02<08:33,  1.06it/s]"
     ]
    },
    {
     "name": "stdout",
     "output_type": "stream",
     "text": [
      "Epoch 8: 72%, loss: 2.397191\n"
     ]
    },
    {
     "name": "stderr",
     "output_type": "stream",
     "text": [
      " 77%|███████▋  | 1501/1948 [22:38<07:08,  1.04it/s]"
     ]
    },
    {
     "name": "stdout",
     "output_type": "stream",
     "text": [
      "Epoch 8: 77%, loss: 0.933632\n"
     ]
    },
    {
     "name": "stderr",
     "output_type": "stream",
     "text": [
      " 82%|████████▏ | 1601/1948 [24:15<05:50,  1.01s/it]"
     ]
    },
    {
     "name": "stdout",
     "output_type": "stream",
     "text": [
      "Epoch 8: 82%, loss: 4.013509\n"
     ]
    },
    {
     "name": "stderr",
     "output_type": "stream",
     "text": [
      " 87%|████████▋ | 1701/1948 [25:54<04:09,  1.01s/it]"
     ]
    },
    {
     "name": "stdout",
     "output_type": "stream",
     "text": [
      "Epoch 8: 87%, loss: 0.792446\n"
     ]
    },
    {
     "name": "stderr",
     "output_type": "stream",
     "text": [
      " 92%|█████████▏| 1801/1948 [27:33<02:34,  1.05s/it]"
     ]
    },
    {
     "name": "stdout",
     "output_type": "stream",
     "text": [
      "Epoch 8: 92%, loss: 1.856552\n"
     ]
    },
    {
     "name": "stderr",
     "output_type": "stream",
     "text": [
      " 98%|█████████▊| 1901/1948 [29:12<00:46,  1.02it/s]"
     ]
    },
    {
     "name": "stdout",
     "output_type": "stream",
     "text": [
      "Epoch 8: 98%, loss: 2.741694\n"
     ]
    },
    {
     "name": "stderr",
     "output_type": "stream",
     "text": [
      "100%|██████████| 1948/1948 [29:59<00:00,  1.07s/it]"
     ]
    },
    {
     "name": "stdout",
     "output_type": "stream",
     "text": [
      "Epoch 8: 100%, loss: 1.419500\n"
     ]
    },
    {
     "name": "stderr",
     "output_type": "stream",
     "text": [
      "100%|██████████| 1948/1948 [29:59<00:00,  1.08it/s]\n"
     ]
    },
    {
     "name": "stdout",
     "output_type": "stream",
     "text": [
      "                      (F1-score: 0.2320, Precision: 0.2344, Recall: 0.2525)\n",
      "\n",
      "                      (NDCG: 0.2110)\n",
      "\n",
      "                      (MAE: 4.0182)\n",
      "\n",
      "train_loss= tensor(2.5268)\n",
      "--------------------\n"
     ]
    },
    {
     "name": "stderr",
     "output_type": "stream",
     "text": [
      "100%|██████████| 243/243 [03:10<00:00,  1.27it/s]\n"
     ]
    },
    {
     "name": "stdout",
     "output_type": "stream",
     "text": [
      "                      (F1-score: 0.1945, Precision: 0.1939, Recall: 0.2164)\n",
      "\n",
      "                      (NDCG: 0.1741)\n",
      "\n",
      "                      (MAE: 4.1502)\n",
      "\n",
      "val_loss= tensor(2.6768)\n",
      "--------------------\n"
     ]
    },
    {
     "name": "stderr",
     "output_type": "stream",
     "text": [
      "100%|██████████| 243/243 [03:10<00:00,  1.28it/s]\n"
     ]
    },
    {
     "name": "stdout",
     "output_type": "stream",
     "text": [
      "                      (F1-score: 0.1878, Precision: 0.1887, Recall: 0.2070)\n",
      "\n",
      "                      (NDCG: 0.1714)\n",
      "\n",
      "                      (MAE: 4.1193)\n",
      "\n",
      "--------------------\n",
      "[[1, 0.1875991175455632, 0.19108291666747096, 0.18043854934274806, 0.1457448609637043, 4.029320987654321, 3.6180145740509033], [2, 0.20539651857809835, 0.17557436896824768, 0.1800687695120412, 0.1471341559835882, 4.262345679012346, 3.475299119949341], [3, 0.18758900651202198, 0.16941856153482818, 0.16979553941254444, 0.14120907373889255, 4.294238683127572, 3.451737403869629], [4, 0.1909076314574276, 0.1858205367875703, 0.17968947492653034, 0.1503059285517529, 3.9902263374485596, 2.970322847366333], [5, 0.20918898828584626, 0.1765620068271424, 0.1822218291935278, 0.16676721420453347, 4.290637860082304, 2.8762545585632324], [6, 0.2094318462531283, 0.18161840783927125, 0.18569726459028094, 0.17061337337200624, 4.161522633744856, 2.780850410461426], [7, 0.21033745664572803, 0.18550087494313844, 0.18818766645239998, 0.1731567924603659, 4.113683127572016, 2.7444424629211426], [8, 0.20700515266087519, 0.1887381208495488, 0.1877676075405694, 0.17143316942730866, 4.1193415637860085, 2.825495958328247]]\n",
      "-----------------------------------------------------------------------------------------\n"
     ]
    },
    {
     "name": "stderr",
     "output_type": "stream",
     "text": [
      "  0%|          | 1/1948 [00:01<36:17,  1.12s/it]"
     ]
    },
    {
     "name": "stdout",
     "output_type": "stream",
     "text": [
      "Epoch 9: 0%, loss: 8.733897\n"
     ]
    },
    {
     "name": "stderr",
     "output_type": "stream",
     "text": [
      "  5%|▌         | 101/1948 [01:26<25:55,  1.19it/s]"
     ]
    },
    {
     "name": "stdout",
     "output_type": "stream",
     "text": [
      "Epoch 9: 5%, loss: 2.356452\n"
     ]
    },
    {
     "name": "stderr",
     "output_type": "stream",
     "text": [
      " 10%|█         | 201/1948 [02:51<25:43,  1.13it/s]"
     ]
    },
    {
     "name": "stdout",
     "output_type": "stream",
     "text": [
      "Epoch 9: 10%, loss: 1.665252\n"
     ]
    },
    {
     "name": "stderr",
     "output_type": "stream",
     "text": [
      " 15%|█▌        | 301/1948 [04:15<23:25,  1.17it/s]"
     ]
    },
    {
     "name": "stdout",
     "output_type": "stream",
     "text": [
      "Epoch 9: 15%, loss: 1.966958\n"
     ]
    },
    {
     "name": "stderr",
     "output_type": "stream",
     "text": [
      " 21%|██        | 401/1948 [05:41<22:14,  1.16it/s]"
     ]
    },
    {
     "name": "stdout",
     "output_type": "stream",
     "text": [
      "Epoch 9: 21%, loss: 2.209916\n"
     ]
    },
    {
     "name": "stderr",
     "output_type": "stream",
     "text": [
      " 26%|██▌       | 501/1948 [07:09<21:45,  1.11it/s]"
     ]
    },
    {
     "name": "stdout",
     "output_type": "stream",
     "text": [
      "Epoch 9: 26%, loss: 0.962201\n"
     ]
    },
    {
     "name": "stderr",
     "output_type": "stream",
     "text": [
      " 31%|███       | 601/1948 [08:38<19:34,  1.15it/s]"
     ]
    },
    {
     "name": "stdout",
     "output_type": "stream",
     "text": [
      "Epoch 9: 31%, loss: 2.522043\n"
     ]
    },
    {
     "name": "stderr",
     "output_type": "stream",
     "text": [
      " 36%|███▌      | 701/1948 [10:08<19:17,  1.08it/s]"
     ]
    },
    {
     "name": "stdout",
     "output_type": "stream",
     "text": [
      "Epoch 9: 36%, loss: 1.527685\n"
     ]
    },
    {
     "name": "stderr",
     "output_type": "stream",
     "text": [
      " 41%|████      | 801/1948 [11:38<18:44,  1.02it/s]"
     ]
    },
    {
     "name": "stdout",
     "output_type": "stream",
     "text": [
      "Epoch 9: 41%, loss: 6.732318\n"
     ]
    },
    {
     "name": "stderr",
     "output_type": "stream",
     "text": [
      " 46%|████▋     | 901/1948 [13:10<16:09,  1.08it/s]"
     ]
    },
    {
     "name": "stdout",
     "output_type": "stream",
     "text": [
      "Epoch 9: 46%, loss: 2.066521\n"
     ]
    },
    {
     "name": "stderr",
     "output_type": "stream",
     "text": [
      " 51%|█████▏    | 1001/1948 [14:40<14:04,  1.12it/s]"
     ]
    },
    {
     "name": "stdout",
     "output_type": "stream",
     "text": [
      "Epoch 9: 51%, loss: 1.762496\n"
     ]
    },
    {
     "name": "stderr",
     "output_type": "stream",
     "text": [
      " 57%|█████▋    | 1101/1948 [16:13<12:34,  1.12it/s]"
     ]
    },
    {
     "name": "stdout",
     "output_type": "stream",
     "text": [
      "Epoch 9: 56%, loss: 1.787533\n"
     ]
    },
    {
     "name": "stderr",
     "output_type": "stream",
     "text": [
      " 62%|██████▏   | 1201/1948 [17:47<11:18,  1.10it/s]"
     ]
    },
    {
     "name": "stdout",
     "output_type": "stream",
     "text": [
      "Epoch 9: 62%, loss: 1.672261\n"
     ]
    },
    {
     "name": "stderr",
     "output_type": "stream",
     "text": [
      " 67%|██████▋   | 1301/1948 [19:23<10:32,  1.02it/s]"
     ]
    },
    {
     "name": "stdout",
     "output_type": "stream",
     "text": [
      "Epoch 9: 67%, loss: 6.996110\n"
     ]
    },
    {
     "name": "stderr",
     "output_type": "stream",
     "text": [
      " 72%|███████▏  | 1401/1948 [20:58<08:47,  1.04it/s]"
     ]
    },
    {
     "name": "stdout",
     "output_type": "stream",
     "text": [
      "Epoch 9: 72%, loss: 1.488413\n"
     ]
    },
    {
     "name": "stderr",
     "output_type": "stream",
     "text": [
      " 77%|███████▋  | 1501/1948 [22:35<06:59,  1.07it/s]"
     ]
    },
    {
     "name": "stdout",
     "output_type": "stream",
     "text": [
      "Epoch 9: 77%, loss: 1.924123\n"
     ]
    },
    {
     "name": "stderr",
     "output_type": "stream",
     "text": [
      " 82%|████████▏ | 1601/1948 [24:12<05:22,  1.07it/s]"
     ]
    },
    {
     "name": "stdout",
     "output_type": "stream",
     "text": [
      "Epoch 9: 82%, loss: 1.126904\n"
     ]
    },
    {
     "name": "stderr",
     "output_type": "stream",
     "text": [
      " 87%|████████▋ | 1701/1948 [25:51<04:25,  1.07s/it]"
     ]
    },
    {
     "name": "stdout",
     "output_type": "stream",
     "text": [
      "Epoch 9: 87%, loss: 2.756566\n"
     ]
    },
    {
     "name": "stderr",
     "output_type": "stream",
     "text": [
      " 92%|█████████▏| 1801/1948 [27:30<02:19,  1.05it/s]"
     ]
    },
    {
     "name": "stdout",
     "output_type": "stream",
     "text": [
      "Epoch 9: 92%, loss: 0.346307\n"
     ]
    },
    {
     "name": "stderr",
     "output_type": "stream",
     "text": [
      " 98%|█████████▊| 1901/1948 [29:11<00:45,  1.04it/s]"
     ]
    },
    {
     "name": "stdout",
     "output_type": "stream",
     "text": [
      "Epoch 9: 98%, loss: 3.076062\n"
     ]
    },
    {
     "name": "stderr",
     "output_type": "stream",
     "text": [
      "100%|██████████| 1948/1948 [29:58<00:00,  1.08it/s]"
     ]
    },
    {
     "name": "stdout",
     "output_type": "stream",
     "text": [
      "Epoch 9: 100%, loss: 0.651067\n"
     ]
    },
    {
     "name": "stderr",
     "output_type": "stream",
     "text": [
      "\n"
     ]
    },
    {
     "name": "stdout",
     "output_type": "stream",
     "text": [
      "                      (F1-score: 0.2328, Precision: 0.2349, Recall: 0.2535)\n",
      "\n",
      "                      (NDCG: 0.2115)\n",
      "\n",
      "                      (MAE: 4.0268)\n",
      "\n",
      "train_loss= tensor(2.5177)\n",
      "--------------------\n"
     ]
    },
    {
     "name": "stderr",
     "output_type": "stream",
     "text": [
      "100%|██████████| 243/243 [03:11<00:00,  1.27it/s]\n"
     ]
    },
    {
     "name": "stdout",
     "output_type": "stream",
     "text": [
      "                      (F1-score: 0.1991, Precision: 0.2000, Recall: 0.2167)\n",
      "\n",
      "                      (NDCG: 0.1817)\n",
      "\n",
      "                      (MAE: 3.9794)\n",
      "\n",
      "val_loss= tensor(2.5479)\n",
      "--------------------\n"
     ]
    },
    {
     "name": "stderr",
     "output_type": "stream",
     "text": [
      "100%|██████████| 243/243 [03:10<00:00,  1.27it/s]\n"
     ]
    },
    {
     "name": "stdout",
     "output_type": "stream",
     "text": [
      "                      (F1-score: 0.1903, Precision: 0.1920, Recall: 0.2065)\n",
      "\n",
      "                      (NDCG: 0.1752)\n",
      "\n",
      "                      (MAE: 3.9779)\n",
      "\n",
      "--------------------\n",
      "[[1, 0.1875991175455632, 0.19108291666747096, 0.18043854934274806, 0.1457448609637043, 4.029320987654321, 3.6180145740509033], [2, 0.20539651857809835, 0.17557436896824768, 0.1800687695120412, 0.1471341559835882, 4.262345679012346, 3.475299119949341], [3, 0.18758900651202198, 0.16941856153482818, 0.16979553941254444, 0.14120907373889255, 4.294238683127572, 3.451737403869629], [4, 0.1909076314574276, 0.1858205367875703, 0.17968947492653034, 0.1503059285517529, 3.9902263374485596, 2.970322847366333], [5, 0.20918898828584626, 0.1765620068271424, 0.1822218291935278, 0.16676721420453347, 4.290637860082304, 2.8762545585632324], [6, 0.2094318462531283, 0.18161840783927125, 0.18569726459028094, 0.17061337337200624, 4.161522633744856, 2.780850410461426], [7, 0.21033745664572803, 0.18550087494313844, 0.18818766645239998, 0.1731567924603659, 4.113683127572016, 2.7444424629211426], [8, 0.20700515266087519, 0.1887381208495488, 0.1877676075405694, 0.17143316942730866, 4.1193415637860085, 2.825495958328247], [9, 0.20645306149446593, 0.1920168541861338, 0.1902984942301677, 0.17516634903691033, 3.977880658436214, 2.6835014820098877]]\n",
      "-----------------------------------------------------------------------------------------\n"
     ]
    },
    {
     "name": "stderr",
     "output_type": "stream",
     "text": [
      "  0%|          | 1/1948 [00:01<38:10,  1.18s/it]"
     ]
    },
    {
     "name": "stdout",
     "output_type": "stream",
     "text": [
      "Epoch 10: 0%, loss: 2.538219\n"
     ]
    },
    {
     "name": "stderr",
     "output_type": "stream",
     "text": [
      "  5%|▌         | 101/1948 [01:25<25:50,  1.19it/s]"
     ]
    },
    {
     "name": "stdout",
     "output_type": "stream",
     "text": [
      "Epoch 10: 5%, loss: 1.287744\n"
     ]
    },
    {
     "name": "stderr",
     "output_type": "stream",
     "text": [
      " 10%|█         | 201/1948 [02:50<27:25,  1.06it/s]"
     ]
    },
    {
     "name": "stdout",
     "output_type": "stream",
     "text": [
      "Epoch 10: 10%, loss: 2.330609\n"
     ]
    },
    {
     "name": "stderr",
     "output_type": "stream",
     "text": [
      " 15%|█▌        | 301/1948 [04:14<23:03,  1.19it/s]"
     ]
    },
    {
     "name": "stdout",
     "output_type": "stream",
     "text": [
      "Epoch 10: 15%, loss: 1.731741\n"
     ]
    },
    {
     "name": "stderr",
     "output_type": "stream",
     "text": [
      " 21%|██        | 401/1948 [05:41<20:52,  1.24it/s]"
     ]
    },
    {
     "name": "stdout",
     "output_type": "stream",
     "text": [
      "Epoch 10: 21%, loss: 1.181152\n"
     ]
    },
    {
     "name": "stderr",
     "output_type": "stream",
     "text": [
      " 26%|██▌       | 501/1948 [07:08<21:57,  1.10it/s]"
     ]
    },
    {
     "name": "stdout",
     "output_type": "stream",
     "text": [
      "Epoch 10: 26%, loss: 2.452080\n"
     ]
    },
    {
     "name": "stderr",
     "output_type": "stream",
     "text": [
      " 31%|███       | 601/1948 [08:37<20:12,  1.11it/s]"
     ]
    },
    {
     "name": "stdout",
     "output_type": "stream",
     "text": [
      "Epoch 10: 31%, loss: 2.443566\n"
     ]
    },
    {
     "name": "stderr",
     "output_type": "stream",
     "text": [
      " 36%|███▌      | 701/1948 [10:06<18:59,  1.09it/s]"
     ]
    },
    {
     "name": "stdout",
     "output_type": "stream",
     "text": [
      "Epoch 10: 36%, loss: 1.707344\n"
     ]
    },
    {
     "name": "stderr",
     "output_type": "stream",
     "text": [
      " 41%|████      | 801/1948 [11:35<17:03,  1.12it/s]"
     ]
    },
    {
     "name": "stdout",
     "output_type": "stream",
     "text": [
      "Epoch 10: 41%, loss: 1.454139\n"
     ]
    },
    {
     "name": "stderr",
     "output_type": "stream",
     "text": [
      " 46%|████▋     | 901/1948 [13:07<16:04,  1.09it/s]"
     ]
    },
    {
     "name": "stdout",
     "output_type": "stream",
     "text": [
      "Epoch 10: 46%, loss: 2.564507\n"
     ]
    },
    {
     "name": "stderr",
     "output_type": "stream",
     "text": [
      " 51%|█████▏    | 1001/1948 [14:40<14:16,  1.11it/s]"
     ]
    },
    {
     "name": "stdout",
     "output_type": "stream",
     "text": [
      "Epoch 10: 51%, loss: 4.250332\n"
     ]
    },
    {
     "name": "stderr",
     "output_type": "stream",
     "text": [
      " 57%|█████▋    | 1101/1948 [16:13<12:58,  1.09it/s]"
     ]
    },
    {
     "name": "stdout",
     "output_type": "stream",
     "text": [
      "Epoch 10: 56%, loss: 0.620497\n"
     ]
    },
    {
     "name": "stderr",
     "output_type": "stream",
     "text": [
      " 62%|██████▏   | 1201/1948 [17:48<11:48,  1.05it/s]"
     ]
    },
    {
     "name": "stdout",
     "output_type": "stream",
     "text": [
      "Epoch 10: 62%, loss: 2.116866\n"
     ]
    },
    {
     "name": "stderr",
     "output_type": "stream",
     "text": [
      " 67%|██████▋   | 1301/1948 [19:22<10:06,  1.07it/s]"
     ]
    },
    {
     "name": "stdout",
     "output_type": "stream",
     "text": [
      "Epoch 10: 67%, loss: 0.711840\n"
     ]
    },
    {
     "name": "stderr",
     "output_type": "stream",
     "text": [
      " 72%|███████▏  | 1401/1948 [20:58<08:28,  1.08it/s]"
     ]
    },
    {
     "name": "stdout",
     "output_type": "stream",
     "text": [
      "Epoch 10: 72%, loss: 1.793310\n"
     ]
    },
    {
     "name": "stderr",
     "output_type": "stream",
     "text": [
      " 77%|███████▋  | 1501/1948 [22:34<06:54,  1.08it/s]"
     ]
    },
    {
     "name": "stdout",
     "output_type": "stream",
     "text": [
      "Epoch 10: 77%, loss: 0.455279\n"
     ]
    },
    {
     "name": "stderr",
     "output_type": "stream",
     "text": [
      " 82%|████████▏ | 1601/1948 [24:13<05:52,  1.02s/it]"
     ]
    },
    {
     "name": "stdout",
     "output_type": "stream",
     "text": [
      "Epoch 10: 82%, loss: 4.026770\n"
     ]
    },
    {
     "name": "stderr",
     "output_type": "stream",
     "text": [
      " 87%|████████▋ | 1701/1948 [25:52<04:06,  1.00it/s]"
     ]
    },
    {
     "name": "stdout",
     "output_type": "stream",
     "text": [
      "Epoch 10: 87%, loss: 6.275651\n"
     ]
    },
    {
     "name": "stderr",
     "output_type": "stream",
     "text": [
      " 92%|█████████▏| 1801/1948 [27:31<02:29,  1.02s/it]"
     ]
    },
    {
     "name": "stdout",
     "output_type": "stream",
     "text": [
      "Epoch 10: 92%, loss: 5.449416\n"
     ]
    },
    {
     "name": "stderr",
     "output_type": "stream",
     "text": [
      " 98%|█████████▊| 1901/1948 [29:11<00:47,  1.02s/it]"
     ]
    },
    {
     "name": "stdout",
     "output_type": "stream",
     "text": [
      "Epoch 10: 98%, loss: 3.014418\n"
     ]
    },
    {
     "name": "stderr",
     "output_type": "stream",
     "text": [
      "100%|██████████| 1948/1948 [29:59<00:00,  1.08it/s]"
     ]
    },
    {
     "name": "stdout",
     "output_type": "stream",
     "text": [
      "Epoch 10: 100%, loss: 2.027371\n"
     ]
    },
    {
     "name": "stderr",
     "output_type": "stream",
     "text": [
      "\n"
     ]
    },
    {
     "name": "stdout",
     "output_type": "stream",
     "text": [
      "                      (F1-score: 0.2328, Precision: 0.2351, Recall: 0.2534)\n",
      "\n",
      "                      (NDCG: 0.2115)\n",
      "\n",
      "                      (MAE: 3.9996)\n",
      "\n",
      "train_loss= tensor(2.4791)\n",
      "--------------------\n"
     ]
    },
    {
     "name": "stderr",
     "output_type": "stream",
     "text": [
      "100%|██████████| 243/243 [03:10<00:00,  1.27it/s]\n"
     ]
    },
    {
     "name": "stdout",
     "output_type": "stream",
     "text": [
      "                      (F1-score: 0.2001, Precision: 0.2090, Recall: 0.2109)\n",
      "\n",
      "                      (NDCG: 0.1812)\n",
      "\n",
      "                      (MAE: 4.0386)\n",
      "\n",
      "val_loss= tensor(2.6147)\n",
      "--------------------\n"
     ]
    },
    {
     "name": "stderr",
     "output_type": "stream",
     "text": [
      "100%|██████████| 243/243 [03:10<00:00,  1.27it/s]\n"
     ]
    },
    {
     "name": "stdout",
     "output_type": "stream",
     "text": [
      "                      (F1-score: 0.1912, Precision: 0.1991, Recall: 0.2020)\n",
      "\n",
      "                      (NDCG: 0.1758)\n",
      "\n",
      "                      (MAE: 4.0195)\n",
      "\n",
      "--------------------\n",
      "[[1, 0.1875991175455632, 0.19108291666747096, 0.18043854934274806, 0.1457448609637043, 4.029320987654321, 3.6180145740509033], [2, 0.20539651857809835, 0.17557436896824768, 0.1800687695120412, 0.1471341559835882, 4.262345679012346, 3.475299119949341], [3, 0.18758900651202198, 0.16941856153482818, 0.16979553941254444, 0.14120907373889255, 4.294238683127572, 3.451737403869629], [4, 0.1909076314574276, 0.1858205367875703, 0.17968947492653034, 0.1503059285517529, 3.9902263374485596, 2.970322847366333], [5, 0.20918898828584626, 0.1765620068271424, 0.1822218291935278, 0.16676721420453347, 4.290637860082304, 2.8762545585632324], [6, 0.2094318462531283, 0.18161840783927125, 0.18569726459028094, 0.17061337337200624, 4.161522633744856, 2.780850410461426], [7, 0.21033745664572803, 0.18550087494313844, 0.18818766645239998, 0.1731567924603659, 4.113683127572016, 2.7444424629211426], [8, 0.20700515266087519, 0.1887381208495488, 0.1877676075405694, 0.17143316942730866, 4.1193415637860085, 2.825495958328247], [9, 0.20645306149446593, 0.1920168541861338, 0.1902984942301677, 0.17516634903691033, 3.977880658436214, 2.6835014820098877], [10, 0.20195738211229766, 0.1991413703063526, 0.1911724783710096, 0.17575602708940122, 4.019547325102881, 2.7130160331726074]]\n",
      "-----------------------------------------------------------------------------------------\n"
     ]
    },
    {
     "name": "stderr",
     "output_type": "stream",
     "text": [
      "  0%|          | 1/1948 [00:01<36:36,  1.13s/it]"
     ]
    },
    {
     "name": "stdout",
     "output_type": "stream",
     "text": [
      "Epoch 11: 0%, loss: 7.391014\n"
     ]
    },
    {
     "name": "stderr",
     "output_type": "stream",
     "text": [
      "  5%|▌         | 101/1948 [01:26<24:57,  1.23it/s]"
     ]
    },
    {
     "name": "stdout",
     "output_type": "stream",
     "text": [
      "Epoch 11: 5%, loss: 1.131003\n"
     ]
    },
    {
     "name": "stderr",
     "output_type": "stream",
     "text": [
      " 10%|█         | 201/1948 [02:54<24:32,  1.19it/s]"
     ]
    },
    {
     "name": "stdout",
     "output_type": "stream",
     "text": [
      "Epoch 11: 10%, loss: 4.380780\n"
     ]
    },
    {
     "name": "stderr",
     "output_type": "stream",
     "text": [
      " 15%|█▌        | 301/1948 [04:18<24:18,  1.13it/s]"
     ]
    },
    {
     "name": "stdout",
     "output_type": "stream",
     "text": [
      "Epoch 11: 15%, loss: 1.901279\n"
     ]
    },
    {
     "name": "stderr",
     "output_type": "stream",
     "text": [
      " 21%|██        | 401/1948 [05:45<21:00,  1.23it/s]"
     ]
    },
    {
     "name": "stdout",
     "output_type": "stream",
     "text": [
      "Epoch 11: 21%, loss: 3.420165\n"
     ]
    },
    {
     "name": "stderr",
     "output_type": "stream",
     "text": [
      " 26%|██▌       | 501/1948 [07:11<22:42,  1.06it/s]"
     ]
    },
    {
     "name": "stdout",
     "output_type": "stream",
     "text": [
      "Epoch 11: 26%, loss: 0.889251\n"
     ]
    },
    {
     "name": "stderr",
     "output_type": "stream",
     "text": [
      " 31%|███       | 601/1948 [08:38<18:56,  1.19it/s]"
     ]
    },
    {
     "name": "stdout",
     "output_type": "stream",
     "text": [
      "Epoch 11: 31%, loss: 0.703859\n"
     ]
    },
    {
     "name": "stderr",
     "output_type": "stream",
     "text": [
      " 36%|███▌      | 701/1948 [10:07<17:28,  1.19it/s]"
     ]
    },
    {
     "name": "stdout",
     "output_type": "stream",
     "text": [
      "Epoch 11: 36%, loss: 1.831292\n"
     ]
    },
    {
     "name": "stderr",
     "output_type": "stream",
     "text": [
      " 41%|████      | 801/1948 [11:39<18:14,  1.05it/s]"
     ]
    },
    {
     "name": "stdout",
     "output_type": "stream",
     "text": [
      "Epoch 11: 41%, loss: 1.982057\n"
     ]
    },
    {
     "name": "stderr",
     "output_type": "stream",
     "text": [
      " 46%|████▋     | 901/1948 [13:10<16:09,  1.08it/s]"
     ]
    },
    {
     "name": "stdout",
     "output_type": "stream",
     "text": [
      "Epoch 11: 46%, loss: 0.418595\n"
     ]
    },
    {
     "name": "stderr",
     "output_type": "stream",
     "text": [
      " 51%|█████▏    | 1001/1948 [14:42<13:26,  1.17it/s]"
     ]
    },
    {
     "name": "stdout",
     "output_type": "stream",
     "text": [
      "Epoch 11: 51%, loss: 1.278593\n"
     ]
    },
    {
     "name": "stderr",
     "output_type": "stream",
     "text": [
      " 57%|█████▋    | 1101/1948 [16:17<13:08,  1.07it/s]"
     ]
    },
    {
     "name": "stdout",
     "output_type": "stream",
     "text": [
      "Epoch 11: 56%, loss: 4.305181\n"
     ]
    },
    {
     "name": "stderr",
     "output_type": "stream",
     "text": [
      " 62%|██████▏   | 1201/1948 [17:51<10:59,  1.13it/s]"
     ]
    },
    {
     "name": "stdout",
     "output_type": "stream",
     "text": [
      "Epoch 11: 62%, loss: 1.850474\n"
     ]
    },
    {
     "name": "stderr",
     "output_type": "stream",
     "text": [
      " 67%|██████▋   | 1301/1948 [19:26<10:30,  1.03it/s]"
     ]
    },
    {
     "name": "stdout",
     "output_type": "stream",
     "text": [
      "Epoch 11: 67%, loss: 3.518544\n"
     ]
    },
    {
     "name": "stderr",
     "output_type": "stream",
     "text": [
      " 72%|███████▏  | 1401/1948 [21:02<08:40,  1.05it/s]"
     ]
    },
    {
     "name": "stdout",
     "output_type": "stream",
     "text": [
      "Epoch 11: 72%, loss: 0.450769\n"
     ]
    },
    {
     "name": "stderr",
     "output_type": "stream",
     "text": [
      " 77%|███████▋  | 1501/1948 [22:39<07:17,  1.02it/s]"
     ]
    },
    {
     "name": "stdout",
     "output_type": "stream",
     "text": [
      "Epoch 11: 77%, loss: 2.330693\n"
     ]
    },
    {
     "name": "stderr",
     "output_type": "stream",
     "text": [
      " 82%|████████▏ | 1601/1948 [24:16<05:34,  1.04it/s]"
     ]
    },
    {
     "name": "stdout",
     "output_type": "stream",
     "text": [
      "Epoch 11: 82%, loss: 1.876491\n"
     ]
    },
    {
     "name": "stderr",
     "output_type": "stream",
     "text": [
      " 87%|████████▋ | 1701/1948 [25:56<04:07,  1.00s/it]"
     ]
    },
    {
     "name": "stdout",
     "output_type": "stream",
     "text": [
      "Epoch 11: 87%, loss: 0.652922\n"
     ]
    },
    {
     "name": "stderr",
     "output_type": "stream",
     "text": [
      " 92%|█████████▏| 1801/1948 [27:36<02:22,  1.03it/s]"
     ]
    },
    {
     "name": "stdout",
     "output_type": "stream",
     "text": [
      "Epoch 11: 92%, loss: 2.062245\n"
     ]
    },
    {
     "name": "stderr",
     "output_type": "stream",
     "text": [
      " 98%|█████████▊| 1901/1948 [29:17<00:48,  1.03s/it]"
     ]
    },
    {
     "name": "stdout",
     "output_type": "stream",
     "text": [
      "Epoch 11: 98%, loss: 3.696251\n"
     ]
    },
    {
     "name": "stderr",
     "output_type": "stream",
     "text": [
      "100%|██████████| 1948/1948 [30:05<00:00,  1.08s/it]"
     ]
    },
    {
     "name": "stdout",
     "output_type": "stream",
     "text": [
      "Epoch 11: 100%, loss: 2.709167\n"
     ]
    },
    {
     "name": "stderr",
     "output_type": "stream",
     "text": [
      "100%|██████████| 1948/1948 [30:05<00:00,  1.08it/s]\n"
     ]
    },
    {
     "name": "stdout",
     "output_type": "stream",
     "text": [
      "                      (F1-score: 0.2329, Precision: 0.2349, Recall: 0.2535)\n",
      "\n",
      "                      (NDCG: 0.2119)\n",
      "\n",
      "                      (MAE: 4.0022)\n",
      "\n",
      "train_loss= tensor(2.4769)\n",
      "--------------------\n"
     ]
    },
    {
     "name": "stderr",
     "output_type": "stream",
     "text": [
      "100%|██████████| 243/243 [03:10<00:00,  1.28it/s]\n"
     ]
    },
    {
     "name": "stdout",
     "output_type": "stream",
     "text": [
      "                      (F1-score: 0.1958, Precision: 0.1954, Recall: 0.2172)\n",
      "\n",
      "                      (NDCG: 0.1756)\n",
      "\n",
      "                      (MAE: 4.1260)\n",
      "\n",
      "val_loss= tensor(2.6634)\n",
      "--------------------\n"
     ]
    },
    {
     "name": "stderr",
     "output_type": "stream",
     "text": [
      "100%|██████████| 243/243 [03:10<00:00,  1.28it/s]\n"
     ]
    },
    {
     "name": "stdout",
     "output_type": "stream",
     "text": [
      "                      (F1-score: 0.1890, Precision: 0.1899, Recall: 0.2076)\n",
      "\n",
      "                      (NDCG: 0.1730)\n",
      "\n",
      "                      (MAE: 4.0782)\n",
      "\n",
      "--------------------\n",
      "[[1, 0.1875991175455632, 0.19108291666747096, 0.18043854934274806, 0.1457448609637043, 4.029320987654321, 3.6180145740509033], [2, 0.20539651857809835, 0.17557436896824768, 0.1800687695120412, 0.1471341559835882, 4.262345679012346, 3.475299119949341], [3, 0.18758900651202198, 0.16941856153482818, 0.16979553941254444, 0.14120907373889255, 4.294238683127572, 3.451737403869629], [4, 0.1909076314574276, 0.1858205367875703, 0.17968947492653034, 0.1503059285517529, 3.9902263374485596, 2.970322847366333], [5, 0.20918898828584626, 0.1765620068271424, 0.1822218291935278, 0.16676721420453347, 4.290637860082304, 2.8762545585632324], [6, 0.2094318462531283, 0.18161840783927125, 0.18569726459028094, 0.17061337337200624, 4.161522633744856, 2.780850410461426], [7, 0.21033745664572803, 0.18550087494313844, 0.18818766645239998, 0.1731567924603659, 4.113683127572016, 2.7444424629211426], [8, 0.20700515266087519, 0.1887381208495488, 0.1877676075405694, 0.17143316942730866, 4.1193415637860085, 2.825495958328247], [9, 0.20645306149446593, 0.1920168541861338, 0.1902984942301677, 0.17516634903691033, 3.977880658436214, 2.6835014820098877], [10, 0.20195738211229766, 0.1991413703063526, 0.1911724783710096, 0.17575602708940122, 4.019547325102881, 2.7130160331726074], [11, 0.20758813073423102, 0.1899403844717589, 0.1890028959034751, 0.17297182654590182, 4.078189300411522, 2.802133083343506]]\n",
      "-----------------------------------------------------------------------------------------\n"
     ]
    },
    {
     "name": "stderr",
     "output_type": "stream",
     "text": [
      "  0%|          | 1/1948 [00:00<30:19,  1.07it/s]"
     ]
    },
    {
     "name": "stdout",
     "output_type": "stream",
     "text": [
      "Epoch 12: 0%, loss: 1.778079\n"
     ]
    },
    {
     "name": "stderr",
     "output_type": "stream",
     "text": [
      "  5%|▌         | 101/1948 [01:25<26:12,  1.17it/s]"
     ]
    },
    {
     "name": "stdout",
     "output_type": "stream",
     "text": [
      "Epoch 12: 5%, loss: 2.307033\n"
     ]
    },
    {
     "name": "stderr",
     "output_type": "stream",
     "text": [
      " 10%|█         | 201/1948 [02:49<24:22,  1.19it/s]"
     ]
    },
    {
     "name": "stdout",
     "output_type": "stream",
     "text": [
      "Epoch 12: 10%, loss: 0.918319\n"
     ]
    },
    {
     "name": "stderr",
     "output_type": "stream",
     "text": [
      " 15%|█▌        | 301/1948 [04:14<23:52,  1.15it/s]"
     ]
    },
    {
     "name": "stdout",
     "output_type": "stream",
     "text": [
      "Epoch 12: 15%, loss: 0.823910\n"
     ]
    },
    {
     "name": "stderr",
     "output_type": "stream",
     "text": [
      " 21%|██        | 401/1948 [05:41<21:24,  1.20it/s]"
     ]
    },
    {
     "name": "stdout",
     "output_type": "stream",
     "text": [
      "Epoch 12: 21%, loss: 1.928855\n"
     ]
    },
    {
     "name": "stderr",
     "output_type": "stream",
     "text": [
      " 26%|██▌       | 501/1948 [07:09<22:31,  1.07it/s]"
     ]
    },
    {
     "name": "stdout",
     "output_type": "stream",
     "text": [
      "Epoch 12: 26%, loss: 1.047767\n"
     ]
    },
    {
     "name": "stderr",
     "output_type": "stream",
     "text": [
      " 31%|███       | 601/1948 [08:38<18:56,  1.19it/s]"
     ]
    },
    {
     "name": "stdout",
     "output_type": "stream",
     "text": [
      "Epoch 12: 31%, loss: 0.905761\n"
     ]
    },
    {
     "name": "stderr",
     "output_type": "stream",
     "text": [
      " 36%|███▌      | 701/1948 [10:07<18:23,  1.13it/s]"
     ]
    },
    {
     "name": "stdout",
     "output_type": "stream",
     "text": [
      "Epoch 12: 36%, loss: 1.617684\n"
     ]
    },
    {
     "name": "stderr",
     "output_type": "stream",
     "text": [
      " 41%|████      | 801/1948 [11:37<18:22,  1.04it/s]"
     ]
    },
    {
     "name": "stdout",
     "output_type": "stream",
     "text": [
      "Epoch 12: 41%, loss: 2.544160\n"
     ]
    },
    {
     "name": "stderr",
     "output_type": "stream",
     "text": [
      " 46%|████▋     | 901/1948 [13:09<16:05,  1.08it/s]"
     ]
    },
    {
     "name": "stdout",
     "output_type": "stream",
     "text": [
      "Epoch 12: 46%, loss: 7.464422\n"
     ]
    },
    {
     "name": "stderr",
     "output_type": "stream",
     "text": [
      " 51%|█████▏    | 1001/1948 [14:41<14:12,  1.11it/s]"
     ]
    },
    {
     "name": "stdout",
     "output_type": "stream",
     "text": [
      "Epoch 12: 51%, loss: 5.072278\n"
     ]
    },
    {
     "name": "stderr",
     "output_type": "stream",
     "text": [
      " 57%|█████▋    | 1101/1948 [16:13<12:58,  1.09it/s]"
     ]
    },
    {
     "name": "stdout",
     "output_type": "stream",
     "text": [
      "Epoch 12: 56%, loss: 0.972900\n"
     ]
    },
    {
     "name": "stderr",
     "output_type": "stream",
     "text": [
      " 62%|██████▏   | 1201/1948 [17:47<11:08,  1.12it/s]"
     ]
    },
    {
     "name": "stdout",
     "output_type": "stream",
     "text": [
      "Epoch 12: 62%, loss: 2.070086\n"
     ]
    },
    {
     "name": "stderr",
     "output_type": "stream",
     "text": [
      " 67%|██████▋   | 1301/1948 [19:23<10:25,  1.03it/s]"
     ]
    },
    {
     "name": "stdout",
     "output_type": "stream",
     "text": [
      "Epoch 12: 67%, loss: 1.824324\n"
     ]
    },
    {
     "name": "stderr",
     "output_type": "stream",
     "text": [
      " 72%|███████▏  | 1401/1948 [20:57<08:26,  1.08it/s]"
     ]
    },
    {
     "name": "stdout",
     "output_type": "stream",
     "text": [
      "Epoch 12: 72%, loss: 1.302934\n"
     ]
    },
    {
     "name": "stderr",
     "output_type": "stream",
     "text": [
      " 77%|███████▋  | 1501/1948 [22:33<07:01,  1.06it/s]"
     ]
    },
    {
     "name": "stdout",
     "output_type": "stream",
     "text": [
      "Epoch 12: 77%, loss: 1.585874\n"
     ]
    },
    {
     "name": "stderr",
     "output_type": "stream",
     "text": [
      " 82%|████████▏ | 1601/1948 [24:12<05:46,  1.00it/s]"
     ]
    },
    {
     "name": "stdout",
     "output_type": "stream",
     "text": [
      "Epoch 12: 82%, loss: 4.750494\n"
     ]
    },
    {
     "name": "stderr",
     "output_type": "stream",
     "text": [
      " 87%|████████▋ | 1701/1948 [25:51<04:16,  1.04s/it]"
     ]
    },
    {
     "name": "stdout",
     "output_type": "stream",
     "text": [
      "Epoch 12: 87%, loss: 1.523036\n"
     ]
    },
    {
     "name": "stderr",
     "output_type": "stream",
     "text": [
      " 92%|█████████▏| 1801/1948 [27:30<02:19,  1.05it/s]"
     ]
    },
    {
     "name": "stdout",
     "output_type": "stream",
     "text": [
      "Epoch 12: 92%, loss: 2.420827\n"
     ]
    },
    {
     "name": "stderr",
     "output_type": "stream",
     "text": [
      " 98%|█████████▊| 1901/1948 [29:14<00:48,  1.04s/it]"
     ]
    },
    {
     "name": "stdout",
     "output_type": "stream",
     "text": [
      "Epoch 12: 98%, loss: 0.910491\n"
     ]
    },
    {
     "name": "stderr",
     "output_type": "stream",
     "text": [
      "100%|██████████| 1948/1948 [30:03<00:00,  1.02s/it]"
     ]
    },
    {
     "name": "stdout",
     "output_type": "stream",
     "text": [
      "Epoch 12: 100%, loss: 0.676127\n"
     ]
    },
    {
     "name": "stderr",
     "output_type": "stream",
     "text": [
      "100%|██████████| 1948/1948 [30:03<00:00,  1.08it/s]\n"
     ]
    },
    {
     "name": "stdout",
     "output_type": "stream",
     "text": [
      "                      (F1-score: 0.2332, Precision: 0.2351, Recall: 0.2535)\n",
      "\n",
      "                      (NDCG: 0.2126)\n",
      "\n",
      "                      (MAE: 3.9838)\n",
      "\n",
      "train_loss= tensor(2.4522)\n",
      "--------------------\n"
     ]
    },
    {
     "name": "stderr",
     "output_type": "stream",
     "text": [
      "100%|██████████| 243/243 [03:09<00:00,  1.28it/s]\n"
     ]
    },
    {
     "name": "stdout",
     "output_type": "stream",
     "text": [
      "                      (F1-score: 0.1942, Precision: 0.1917, Recall: 0.2188)\n",
      "\n",
      "                      (NDCG: 0.1739)\n",
      "\n",
      "                      (MAE: 4.2274)\n",
      "\n",
      "val_loss= tensor(2.7144)\n",
      "--------------------\n"
     ]
    },
    {
     "name": "stderr",
     "output_type": "stream",
     "text": [
      "100%|██████████| 243/243 [03:09<00:00,  1.28it/s]\n"
     ]
    },
    {
     "name": "stdout",
     "output_type": "stream",
     "text": [
      "                      (F1-score: 0.1872, Precision: 0.1865, Recall: 0.2091)\n",
      "\n",
      "                      (NDCG: 0.1705)\n",
      "\n",
      "                      (MAE: 4.2197)\n",
      "\n",
      "--------------------\n",
      "[[1, 0.1875991175455632, 0.19108291666747096, 0.18043854934274806, 0.1457448609637043, 4.029320987654321, 3.6180145740509033], [2, 0.20539651857809835, 0.17557436896824768, 0.1800687695120412, 0.1471341559835882, 4.262345679012346, 3.475299119949341], [3, 0.18758900651202198, 0.16941856153482818, 0.16979553941254444, 0.14120907373889255, 4.294238683127572, 3.451737403869629], [4, 0.1909076314574276, 0.1858205367875703, 0.17968947492653034, 0.1503059285517529, 3.9902263374485596, 2.970322847366333], [5, 0.20918898828584626, 0.1765620068271424, 0.1822218291935278, 0.16676721420453347, 4.290637860082304, 2.8762545585632324], [6, 0.2094318462531283, 0.18161840783927125, 0.18569726459028094, 0.17061337337200624, 4.161522633744856, 2.780850410461426], [7, 0.21033745664572803, 0.18550087494313844, 0.18818766645239998, 0.1731567924603659, 4.113683127572016, 2.7444424629211426], [8, 0.20700515266087519, 0.1887381208495488, 0.1877676075405694, 0.17143316942730866, 4.1193415637860085, 2.825495958328247], [9, 0.20645306149446593, 0.1920168541861338, 0.1902984942301677, 0.17516634903691033, 3.977880658436214, 2.6835014820098877], [10, 0.20195738211229766, 0.1991413703063526, 0.1911724783710096, 0.17575602708940122, 4.019547325102881, 2.7130160331726074], [11, 0.20758813073423102, 0.1899403844717589, 0.1890028959034751, 0.17297182654590182, 4.078189300411522, 2.802133083343506], [12, 0.20908474123397933, 0.18645539362289146, 0.18724701233975447, 0.17046699230415446, 4.219650205761317, 2.887197494506836]]\n",
      "-----------------------------------------------------------------------------------------\n"
     ]
    },
    {
     "name": "stderr",
     "output_type": "stream",
     "text": [
      "  0%|          | 1/1948 [00:01<32:39,  1.01s/it]"
     ]
    },
    {
     "name": "stdout",
     "output_type": "stream",
     "text": [
      "Epoch 13: 0%, loss: 1.670382\n"
     ]
    },
    {
     "name": "stderr",
     "output_type": "stream",
     "text": [
      "  5%|▌         | 101/1948 [01:24<27:25,  1.12it/s]"
     ]
    },
    {
     "name": "stdout",
     "output_type": "stream",
     "text": [
      "Epoch 13: 5%, loss: 0.979100\n"
     ]
    },
    {
     "name": "stderr",
     "output_type": "stream",
     "text": [
      " 10%|█         | 201/1948 [02:50<27:19,  1.07it/s]"
     ]
    },
    {
     "name": "stdout",
     "output_type": "stream",
     "text": [
      "Epoch 13: 10%, loss: 1.899177\n"
     ]
    },
    {
     "name": "stderr",
     "output_type": "stream",
     "text": [
      " 15%|█▌        | 301/1948 [04:15<23:37,  1.16it/s]"
     ]
    },
    {
     "name": "stdout",
     "output_type": "stream",
     "text": [
      "Epoch 13: 15%, loss: 4.372600\n"
     ]
    },
    {
     "name": "stderr",
     "output_type": "stream",
     "text": [
      " 21%|██        | 401/1948 [05:41<21:17,  1.21it/s]"
     ]
    },
    {
     "name": "stdout",
     "output_type": "stream",
     "text": [
      "Epoch 13: 21%, loss: 1.609871\n"
     ]
    },
    {
     "name": "stderr",
     "output_type": "stream",
     "text": [
      " 26%|██▌       | 501/1948 [07:07<22:29,  1.07it/s]"
     ]
    },
    {
     "name": "stdout",
     "output_type": "stream",
     "text": [
      "Epoch 13: 26%, loss: 3.999751\n"
     ]
    },
    {
     "name": "stderr",
     "output_type": "stream",
     "text": [
      " 31%|███       | 601/1948 [08:37<21:10,  1.06it/s]"
     ]
    },
    {
     "name": "stdout",
     "output_type": "stream",
     "text": [
      "Epoch 13: 31%, loss: 3.961298\n"
     ]
    },
    {
     "name": "stderr",
     "output_type": "stream",
     "text": [
      " 36%|███▌      | 701/1948 [10:08<18:16,  1.14it/s]"
     ]
    },
    {
     "name": "stdout",
     "output_type": "stream",
     "text": [
      "Epoch 13: 36%, loss: 1.615157\n"
     ]
    },
    {
     "name": "stderr",
     "output_type": "stream",
     "text": [
      " 41%|████      | 801/1948 [11:38<18:12,  1.05it/s]"
     ]
    },
    {
     "name": "stdout",
     "output_type": "stream",
     "text": [
      "Epoch 13: 41%, loss: 1.098034\n"
     ]
    },
    {
     "name": "stderr",
     "output_type": "stream",
     "text": [
      " 46%|████▋     | 901/1948 [13:09<15:12,  1.15it/s]"
     ]
    },
    {
     "name": "stdout",
     "output_type": "stream",
     "text": [
      "Epoch 13: 46%, loss: 1.674134\n"
     ]
    },
    {
     "name": "stderr",
     "output_type": "stream",
     "text": [
      " 51%|█████▏    | 1001/1948 [14:41<15:01,  1.05it/s]"
     ]
    },
    {
     "name": "stdout",
     "output_type": "stream",
     "text": [
      "Epoch 13: 51%, loss: 5.815579\n"
     ]
    },
    {
     "name": "stderr",
     "output_type": "stream",
     "text": [
      " 57%|█████▋    | 1101/1948 [16:13<13:00,  1.09it/s]"
     ]
    },
    {
     "name": "stdout",
     "output_type": "stream",
     "text": [
      "Epoch 13: 56%, loss: 2.847265\n"
     ]
    },
    {
     "name": "stderr",
     "output_type": "stream",
     "text": [
      " 62%|██████▏   | 1201/1948 [17:46<11:48,  1.05it/s]"
     ]
    },
    {
     "name": "stdout",
     "output_type": "stream",
     "text": [
      "Epoch 13: 62%, loss: 4.928561\n"
     ]
    },
    {
     "name": "stderr",
     "output_type": "stream",
     "text": [
      " 67%|██████▋   | 1301/1948 [19:21<10:07,  1.06it/s]"
     ]
    },
    {
     "name": "stdout",
     "output_type": "stream",
     "text": [
      "Epoch 13: 67%, loss: 1.390857\n"
     ]
    },
    {
     "name": "stderr",
     "output_type": "stream",
     "text": [
      " 72%|███████▏  | 1401/1948 [20:58<08:53,  1.02it/s]"
     ]
    },
    {
     "name": "stdout",
     "output_type": "stream",
     "text": [
      "Epoch 13: 72%, loss: 3.577391\n"
     ]
    },
    {
     "name": "stderr",
     "output_type": "stream",
     "text": [
      " 77%|███████▋  | 1501/1948 [22:33<07:03,  1.06it/s]"
     ]
    },
    {
     "name": "stdout",
     "output_type": "stream",
     "text": [
      "Epoch 13: 77%, loss: 0.670412\n"
     ]
    },
    {
     "name": "stderr",
     "output_type": "stream",
     "text": [
      " 82%|████████▏ | 1601/1948 [24:10<05:31,  1.05it/s]"
     ]
    },
    {
     "name": "stdout",
     "output_type": "stream",
     "text": [
      "Epoch 13: 82%, loss: 3.522184\n"
     ]
    },
    {
     "name": "stderr",
     "output_type": "stream",
     "text": [
      " 87%|████████▋ | 1701/1948 [25:48<04:01,  1.02it/s]"
     ]
    },
    {
     "name": "stdout",
     "output_type": "stream",
     "text": [
      "Epoch 13: 87%, loss: 2.561420\n"
     ]
    },
    {
     "name": "stderr",
     "output_type": "stream",
     "text": [
      " 92%|█████████▏| 1801/1948 [27:29<02:32,  1.03s/it]"
     ]
    },
    {
     "name": "stdout",
     "output_type": "stream",
     "text": [
      "Epoch 13: 92%, loss: 4.453245\n"
     ]
    },
    {
     "name": "stderr",
     "output_type": "stream",
     "text": [
      " 98%|█████████▊| 1900/1948 [29:10<00:49,  1.03s/it]"
     ]
    },
    {
     "name": "stdout",
     "output_type": "stream",
     "text": [
      "Epoch 13: 98%, loss: 2.388292\n"
     ]
    },
    {
     "name": "stderr",
     "output_type": "stream",
     "text": [
      "100%|██████████| 1948/1948 [30:01<00:00,  1.13s/it]"
     ]
    },
    {
     "name": "stdout",
     "output_type": "stream",
     "text": [
      "Epoch 13: 100%, loss: 5.579617\n"
     ]
    },
    {
     "name": "stderr",
     "output_type": "stream",
     "text": [
      "100%|██████████| 1948/1948 [30:01<00:00,  1.08it/s]\n"
     ]
    },
    {
     "name": "stdout",
     "output_type": "stream",
     "text": [
      "                      (F1-score: 0.2327, Precision: 0.2350, Recall: 0.2533)\n",
      "\n",
      "                      (NDCG: 0.2117)\n",
      "\n",
      "                      (MAE: 3.9901)\n",
      "\n",
      "train_loss= tensor(2.4570)\n",
      "--------------------\n"
     ]
    },
    {
     "name": "stderr",
     "output_type": "stream",
     "text": [
      "100%|██████████| 243/243 [03:10<00:00,  1.28it/s]\n"
     ]
    },
    {
     "name": "stdout",
     "output_type": "stream",
     "text": [
      "                      (F1-score: 0.1963, Precision: 0.1956, Recall: 0.2167)\n",
      "\n",
      "                      (NDCG: 0.1779)\n",
      "\n",
      "                      (MAE: 4.0607)\n",
      "\n",
      "val_loss= tensor(2.5977)\n",
      "--------------------\n"
     ]
    },
    {
     "name": "stderr",
     "output_type": "stream",
     "text": [
      "100%|██████████| 243/243 [03:09<00:00,  1.28it/s]\n"
     ]
    },
    {
     "name": "stdout",
     "output_type": "stream",
     "text": [
      "                      (F1-score: 0.1880, Precision: 0.1890, Recall: 0.2058)\n",
      "\n",
      "                      (NDCG: 0.1726)\n",
      "\n",
      "                      (MAE: 4.0422)\n",
      "\n",
      "--------------------\n",
      "[[1, 0.1875991175455632, 0.19108291666747096, 0.18043854934274806, 0.1457448609637043, 4.029320987654321, 3.6180145740509033], [2, 0.20539651857809835, 0.17557436896824768, 0.1800687695120412, 0.1471341559835882, 4.262345679012346, 3.475299119949341], [3, 0.18758900651202198, 0.16941856153482818, 0.16979553941254444, 0.14120907373889255, 4.294238683127572, 3.451737403869629], [4, 0.1909076314574276, 0.1858205367875703, 0.17968947492653034, 0.1503059285517529, 3.9902263374485596, 2.970322847366333], [5, 0.20918898828584626, 0.1765620068271424, 0.1822218291935278, 0.16676721420453347, 4.290637860082304, 2.8762545585632324], [6, 0.2094318462531283, 0.18161840783927125, 0.18569726459028094, 0.17061337337200624, 4.161522633744856, 2.780850410461426], [7, 0.21033745664572803, 0.18550087494313844, 0.18818766645239998, 0.1731567924603659, 4.113683127572016, 2.7444424629211426], [8, 0.20700515266087519, 0.1887381208495488, 0.1877676075405694, 0.17143316942730866, 4.1193415637860085, 2.825495958328247], [9, 0.20645306149446593, 0.1920168541861338, 0.1902984942301677, 0.17516634903691033, 3.977880658436214, 2.6835014820098877], [10, 0.20195738211229766, 0.1991413703063526, 0.1911724783710096, 0.17575602708940122, 4.019547325102881, 2.7130160331726074], [11, 0.20758813073423102, 0.1899403844717589, 0.1890028959034751, 0.17297182654590182, 4.078189300411522, 2.802133083343506], [12, 0.20908474123397933, 0.18645539362289146, 0.18724701233975447, 0.17046699230415446, 4.219650205761317, 2.887197494506836], [13, 0.205789404707765, 0.18898135202448624, 0.18801003625733126, 0.17258416166061483, 4.042181069958848, 2.7497639656066895]]\n",
      "-----------------------------------------------------------------------------------------\n"
     ]
    },
    {
     "name": "stderr",
     "output_type": "stream",
     "text": [
      "  0%|          | 1/1948 [00:00<29:45,  1.09it/s]"
     ]
    },
    {
     "name": "stdout",
     "output_type": "stream",
     "text": [
      "Epoch 14: 0%, loss: 0.383798\n"
     ]
    },
    {
     "name": "stderr",
     "output_type": "stream",
     "text": [
      "  5%|▌         | 101/1948 [01:24<24:54,  1.24it/s]"
     ]
    },
    {
     "name": "stdout",
     "output_type": "stream",
     "text": [
      "Epoch 14: 5%, loss: 0.561615\n"
     ]
    },
    {
     "name": "stderr",
     "output_type": "stream",
     "text": [
      " 10%|█         | 201/1948 [02:49<24:04,  1.21it/s]"
     ]
    },
    {
     "name": "stdout",
     "output_type": "stream",
     "text": [
      "Epoch 14: 10%, loss: 0.861595\n"
     ]
    },
    {
     "name": "stderr",
     "output_type": "stream",
     "text": [
      " 15%|█▌        | 301/1948 [04:14<23:08,  1.19it/s]"
     ]
    },
    {
     "name": "stdout",
     "output_type": "stream",
     "text": [
      "Epoch 14: 15%, loss: 2.013937\n"
     ]
    },
    {
     "name": "stderr",
     "output_type": "stream",
     "text": [
      " 21%|██        | 401/1948 [05:40<22:07,  1.17it/s]"
     ]
    },
    {
     "name": "stdout",
     "output_type": "stream",
     "text": [
      "Epoch 14: 21%, loss: 1.619189\n"
     ]
    },
    {
     "name": "stderr",
     "output_type": "stream",
     "text": [
      " 26%|██▌       | 501/1948 [07:08<21:36,  1.12it/s]"
     ]
    },
    {
     "name": "stdout",
     "output_type": "stream",
     "text": [
      "Epoch 14: 26%, loss: 3.478444\n"
     ]
    },
    {
     "name": "stderr",
     "output_type": "stream",
     "text": [
      " 31%|███       | 601/1948 [08:35<20:07,  1.12it/s]"
     ]
    },
    {
     "name": "stdout",
     "output_type": "stream",
     "text": [
      "Epoch 14: 31%, loss: 3.093240\n"
     ]
    },
    {
     "name": "stderr",
     "output_type": "stream",
     "text": [
      " 36%|███▌      | 701/1948 [10:05<19:33,  1.06it/s]"
     ]
    },
    {
     "name": "stdout",
     "output_type": "stream",
     "text": [
      "Epoch 14: 36%, loss: 0.925905\n"
     ]
    },
    {
     "name": "stderr",
     "output_type": "stream",
     "text": [
      " 41%|████      | 801/1948 [11:36<17:46,  1.08it/s]"
     ]
    },
    {
     "name": "stdout",
     "output_type": "stream",
     "text": [
      "Epoch 14: 41%, loss: 2.137473\n"
     ]
    },
    {
     "name": "stderr",
     "output_type": "stream",
     "text": [
      " 46%|████▋     | 901/1948 [13:08<15:51,  1.10it/s]"
     ]
    },
    {
     "name": "stdout",
     "output_type": "stream",
     "text": [
      "Epoch 14: 46%, loss: 5.381129\n"
     ]
    },
    {
     "name": "stderr",
     "output_type": "stream",
     "text": [
      " 51%|█████▏    | 1001/1948 [14:40<13:36,  1.16it/s]"
     ]
    },
    {
     "name": "stdout",
     "output_type": "stream",
     "text": [
      "Epoch 14: 51%, loss: 6.922068\n"
     ]
    },
    {
     "name": "stderr",
     "output_type": "stream",
     "text": [
      " 57%|█████▋    | 1101/1948 [16:15<12:29,  1.13it/s]"
     ]
    },
    {
     "name": "stdout",
     "output_type": "stream",
     "text": [
      "Epoch 14: 56%, loss: 0.980635\n"
     ]
    },
    {
     "name": "stderr",
     "output_type": "stream",
     "text": [
      " 62%|██████▏   | 1201/1948 [17:49<11:22,  1.10it/s]"
     ]
    },
    {
     "name": "stdout",
     "output_type": "stream",
     "text": [
      "Epoch 14: 62%, loss: 0.419699\n"
     ]
    },
    {
     "name": "stderr",
     "output_type": "stream",
     "text": [
      " 67%|██████▋   | 1301/1948 [19:22<10:04,  1.07it/s]"
     ]
    },
    {
     "name": "stdout",
     "output_type": "stream",
     "text": [
      "Epoch 14: 67%, loss: 3.068705\n"
     ]
    },
    {
     "name": "stderr",
     "output_type": "stream",
     "text": [
      " 72%|███████▏  | 1401/1948 [20:58<09:28,  1.04s/it]"
     ]
    },
    {
     "name": "stdout",
     "output_type": "stream",
     "text": [
      "Epoch 14: 72%, loss: 1.219986\n"
     ]
    },
    {
     "name": "stderr",
     "output_type": "stream",
     "text": [
      " 77%|███████▋  | 1501/1948 [22:35<07:20,  1.01it/s]"
     ]
    },
    {
     "name": "stdout",
     "output_type": "stream",
     "text": [
      "Epoch 14: 77%, loss: 1.167436\n"
     ]
    },
    {
     "name": "stderr",
     "output_type": "stream",
     "text": [
      " 82%|████████▏ | 1601/1948 [24:14<05:24,  1.07it/s]"
     ]
    },
    {
     "name": "stdout",
     "output_type": "stream",
     "text": [
      "Epoch 14: 82%, loss: 1.712885\n"
     ]
    },
    {
     "name": "stderr",
     "output_type": "stream",
     "text": [
      " 87%|████████▋ | 1701/1948 [25:52<03:59,  1.03it/s]"
     ]
    },
    {
     "name": "stdout",
     "output_type": "stream",
     "text": [
      "Epoch 14: 87%, loss: 3.072042\n"
     ]
    },
    {
     "name": "stderr",
     "output_type": "stream",
     "text": [
      " 92%|█████████▏| 1801/1948 [27:33<02:32,  1.04s/it]"
     ]
    },
    {
     "name": "stdout",
     "output_type": "stream",
     "text": [
      "Epoch 14: 92%, loss: 0.914865\n"
     ]
    },
    {
     "name": "stderr",
     "output_type": "stream",
     "text": [
      " 98%|█████████▊| 1900/1948 [29:13<00:48,  1.02s/it]"
     ]
    },
    {
     "name": "stdout",
     "output_type": "stream",
     "text": [
      "Epoch 14: 98%, loss: 3.881068\n"
     ]
    },
    {
     "name": "stderr",
     "output_type": "stream",
     "text": [
      "100%|██████████| 1948/1948 [30:02<00:00,  1.01it/s]"
     ]
    },
    {
     "name": "stdout",
     "output_type": "stream",
     "text": [
      "Epoch 14: 100%, loss: 1.992133\n"
     ]
    },
    {
     "name": "stderr",
     "output_type": "stream",
     "text": [
      "100%|██████████| 1948/1948 [30:02<00:00,  1.08it/s]\n"
     ]
    },
    {
     "name": "stdout",
     "output_type": "stream",
     "text": [
      "                      (F1-score: 0.2327, Precision: 0.2346, Recall: 0.2531)\n",
      "\n",
      "                      (NDCG: 0.2123)\n",
      "\n",
      "                      (MAE: 3.9626)\n",
      "\n",
      "train_loss= tensor(2.4245)\n",
      "--------------------\n"
     ]
    },
    {
     "name": "stderr",
     "output_type": "stream",
     "text": [
      "100%|██████████| 243/243 [03:10<00:00,  1.28it/s]\n"
     ]
    },
    {
     "name": "stdout",
     "output_type": "stream",
     "text": [
      "                      (F1-score: 0.1973, Precision: 0.1973, Recall: 0.2158)\n",
      "\n",
      "                      (NDCG: 0.1808)\n",
      "\n",
      "                      (MAE: 3.9799)\n",
      "\n",
      "val_loss= tensor(2.5362)\n",
      "--------------------\n"
     ]
    },
    {
     "name": "stderr",
     "output_type": "stream",
     "text": [
      "100%|██████████| 243/243 [03:10<00:00,  1.28it/s]\n"
     ]
    },
    {
     "name": "stdout",
     "output_type": "stream",
     "text": [
      "                      (F1-score: 0.1902, Precision: 0.1912, Recall: 0.2067)\n",
      "\n",
      "                      (NDCG: 0.1754)\n",
      "\n",
      "                      (MAE: 3.9650)\n",
      "\n",
      "--------------------\n",
      "[[1, 0.1875991175455632, 0.19108291666747096, 0.18043854934274806, 0.1457448609637043, 4.029320987654321, 3.6180145740509033], [2, 0.20539651857809835, 0.17557436896824768, 0.1800687695120412, 0.1471341559835882, 4.262345679012346, 3.475299119949341], [3, 0.18758900651202198, 0.16941856153482818, 0.16979553941254444, 0.14120907373889255, 4.294238683127572, 3.451737403869629], [4, 0.1909076314574276, 0.1858205367875703, 0.17968947492653034, 0.1503059285517529, 3.9902263374485596, 2.970322847366333], [5, 0.20918898828584626, 0.1765620068271424, 0.1822218291935278, 0.16676721420453347, 4.290637860082304, 2.8762545585632324], [6, 0.2094318462531283, 0.18161840783927125, 0.18569726459028094, 0.17061337337200624, 4.161522633744856, 2.780850410461426], [7, 0.21033745664572803, 0.18550087494313844, 0.18818766645239998, 0.1731567924603659, 4.113683127572016, 2.7444424629211426], [8, 0.20700515266087519, 0.1887381208495488, 0.1877676075405694, 0.17143316942730866, 4.1193415637860085, 2.825495958328247], [9, 0.20645306149446593, 0.1920168541861338, 0.1902984942301677, 0.17516634903691033, 3.977880658436214, 2.6835014820098877], [10, 0.20195738211229766, 0.1991413703063526, 0.1911724783710096, 0.17575602708940122, 4.019547325102881, 2.7130160331726074], [11, 0.20758813073423102, 0.1899403844717589, 0.1890028959034751, 0.17297182654590182, 4.078189300411522, 2.802133083343506], [12, 0.20908474123397933, 0.18645539362289146, 0.18724701233975447, 0.17046699230415446, 4.219650205761317, 2.887197494506836], [13, 0.205789404707765, 0.18898135202448624, 0.18801003625733126, 0.17258416166061483, 4.042181069958848, 2.7497639656066895], [14, 0.20665677054797602, 0.1911832322145331, 0.1901973681752874, 0.17538736778246278, 3.9650205761316872, 2.648311138153076]]\n",
      "-----------------------------------------------------------------------------------------\n"
     ]
    },
    {
     "name": "stderr",
     "output_type": "stream",
     "text": [
      "  0%|          | 1/1948 [00:00<32:03,  1.01it/s]"
     ]
    },
    {
     "name": "stdout",
     "output_type": "stream",
     "text": [
      "Epoch 15: 0%, loss: 0.422621\n"
     ]
    },
    {
     "name": "stderr",
     "output_type": "stream",
     "text": [
      "  5%|▌         | 101/1948 [01:25<25:42,  1.20it/s]"
     ]
    },
    {
     "name": "stdout",
     "output_type": "stream",
     "text": [
      "Epoch 15: 5%, loss: 7.396237\n"
     ]
    },
    {
     "name": "stderr",
     "output_type": "stream",
     "text": [
      " 10%|█         | 201/1948 [02:50<24:46,  1.18it/s]"
     ]
    },
    {
     "name": "stdout",
     "output_type": "stream",
     "text": [
      "Epoch 15: 10%, loss: 1.044183\n"
     ]
    },
    {
     "name": "stderr",
     "output_type": "stream",
     "text": [
      " 15%|█▌        | 301/1948 [04:15<22:49,  1.20it/s]"
     ]
    },
    {
     "name": "stdout",
     "output_type": "stream",
     "text": [
      "Epoch 15: 15%, loss: 1.603780\n"
     ]
    },
    {
     "name": "stderr",
     "output_type": "stream",
     "text": [
      " 21%|██        | 401/1948 [05:42<22:44,  1.13it/s]"
     ]
    },
    {
     "name": "stdout",
     "output_type": "stream",
     "text": [
      "Epoch 15: 21%, loss: 1.272243\n"
     ]
    },
    {
     "name": "stderr",
     "output_type": "stream",
     "text": [
      " 26%|██▌       | 501/1948 [07:09<21:56,  1.10it/s]"
     ]
    },
    {
     "name": "stdout",
     "output_type": "stream",
     "text": [
      "Epoch 15: 26%, loss: 1.853412\n"
     ]
    },
    {
     "name": "stderr",
     "output_type": "stream",
     "text": [
      " 31%|███       | 601/1948 [08:38<19:04,  1.18it/s]"
     ]
    },
    {
     "name": "stdout",
     "output_type": "stream",
     "text": [
      "Epoch 15: 31%, loss: 7.517475\n"
     ]
    },
    {
     "name": "stderr",
     "output_type": "stream",
     "text": [
      " 36%|███▌      | 701/1948 [10:07<17:38,  1.18it/s]"
     ]
    },
    {
     "name": "stdout",
     "output_type": "stream",
     "text": [
      "Epoch 15: 36%, loss: 4.020673\n"
     ]
    },
    {
     "name": "stderr",
     "output_type": "stream",
     "text": [
      " 41%|████      | 801/1948 [11:38<17:13,  1.11it/s]"
     ]
    },
    {
     "name": "stdout",
     "output_type": "stream",
     "text": [
      "Epoch 15: 41%, loss: 21.125383\n"
     ]
    },
    {
     "name": "stderr",
     "output_type": "stream",
     "text": [
      " 46%|████▋     | 901/1948 [13:09<15:14,  1.15it/s]"
     ]
    },
    {
     "name": "stdout",
     "output_type": "stream",
     "text": [
      "Epoch 15: 46%, loss: 2.543674\n"
     ]
    },
    {
     "name": "stderr",
     "output_type": "stream",
     "text": [
      " 51%|█████▏    | 1001/1948 [14:41<14:15,  1.11it/s]"
     ]
    },
    {
     "name": "stdout",
     "output_type": "stream",
     "text": [
      "Epoch 15: 51%, loss: 3.817813\n"
     ]
    },
    {
     "name": "stderr",
     "output_type": "stream",
     "text": [
      " 57%|█████▋    | 1101/1948 [16:14<12:50,  1.10it/s]"
     ]
    },
    {
     "name": "stdout",
     "output_type": "stream",
     "text": [
      "Epoch 15: 56%, loss: 0.670191\n"
     ]
    },
    {
     "name": "stderr",
     "output_type": "stream",
     "text": [
      " 62%|██████▏   | 1201/1948 [17:48<11:49,  1.05it/s]"
     ]
    },
    {
     "name": "stdout",
     "output_type": "stream",
     "text": [
      "Epoch 15: 62%, loss: 1.762655\n"
     ]
    },
    {
     "name": "stderr",
     "output_type": "stream",
     "text": [
      " 67%|██████▋   | 1301/1948 [19:23<09:56,  1.08it/s]"
     ]
    },
    {
     "name": "stdout",
     "output_type": "stream",
     "text": [
      "Epoch 15: 67%, loss: 2.464758\n"
     ]
    },
    {
     "name": "stderr",
     "output_type": "stream",
     "text": [
      " 72%|███████▏  | 1401/1948 [20:57<08:54,  1.02it/s]"
     ]
    },
    {
     "name": "stdout",
     "output_type": "stream",
     "text": [
      "Epoch 15: 72%, loss: 2.602056\n"
     ]
    },
    {
     "name": "stderr",
     "output_type": "stream",
     "text": [
      " 77%|███████▋  | 1501/1948 [22:34<06:45,  1.10it/s]"
     ]
    },
    {
     "name": "stdout",
     "output_type": "stream",
     "text": [
      "Epoch 15: 77%, loss: 0.973227\n"
     ]
    },
    {
     "name": "stderr",
     "output_type": "stream",
     "text": [
      " 82%|████████▏ | 1601/1948 [24:10<05:48,  1.01s/it]"
     ]
    },
    {
     "name": "stdout",
     "output_type": "stream",
     "text": [
      "Epoch 15: 82%, loss: 8.527262\n"
     ]
    },
    {
     "name": "stderr",
     "output_type": "stream",
     "text": [
      " 87%|████████▋ | 1701/1948 [25:50<04:06,  1.00it/s]"
     ]
    },
    {
     "name": "stdout",
     "output_type": "stream",
     "text": [
      "Epoch 15: 87%, loss: 2.571869\n"
     ]
    },
    {
     "name": "stderr",
     "output_type": "stream",
     "text": [
      " 92%|█████████▏| 1801/1948 [27:31<02:39,  1.09s/it]"
     ]
    },
    {
     "name": "stdout",
     "output_type": "stream",
     "text": [
      "Epoch 15: 92%, loss: 2.294618\n"
     ]
    },
    {
     "name": "stderr",
     "output_type": "stream",
     "text": [
      " 98%|█████████▊| 1901/1948 [29:16<00:47,  1.02s/it]"
     ]
    },
    {
     "name": "stdout",
     "output_type": "stream",
     "text": [
      "Epoch 15: 98%, loss: 3.543595\n"
     ]
    },
    {
     "name": "stderr",
     "output_type": "stream",
     "text": [
      "100%|██████████| 1948/1948 [30:05<00:00,  1.01s/it]"
     ]
    },
    {
     "name": "stdout",
     "output_type": "stream",
     "text": [
      "Epoch 15: 100%, loss: 2.692174\n"
     ]
    },
    {
     "name": "stderr",
     "output_type": "stream",
     "text": [
      "100%|██████████| 1948/1948 [30:05<00:00,  1.08it/s]\n"
     ]
    },
    {
     "name": "stdout",
     "output_type": "stream",
     "text": [
      "                      (F1-score: 0.2323, Precision: 0.2343, Recall: 0.2526)\n",
      "\n",
      "                      (NDCG: 0.2122)\n",
      "\n",
      "                      (MAE: 3.9528)\n",
      "\n",
      "train_loss= tensor(2.4249)\n",
      "--------------------\n"
     ]
    },
    {
     "name": "stderr",
     "output_type": "stream",
     "text": [
      "100%|██████████| 243/243 [03:09<00:00,  1.28it/s]\n"
     ]
    },
    {
     "name": "stdout",
     "output_type": "stream",
     "text": [
      "                      (F1-score: 0.1906, Precision: 0.1858, Recall: 0.2204)\n",
      "\n",
      "                      (NDCG: 0.1693)\n",
      "\n",
      "                      (MAE: 4.4177)\n",
      "\n",
      "val_loss= tensor(2.8008)\n",
      "--------------------\n"
     ]
    },
    {
     "name": "stderr",
     "output_type": "stream",
     "text": [
      "100%|██████████| 243/243 [03:10<00:00,  1.28it/s]\n"
     ]
    },
    {
     "name": "stdout",
     "output_type": "stream",
     "text": [
      "                      (F1-score: 0.1847, Precision: 0.1817, Recall: 0.2106)\n",
      "\n",
      "                      (NDCG: 0.1671)\n",
      "\n",
      "                      (MAE: 4.3282)\n",
      "\n",
      "--------------------\n",
      "[[1, 0.1875991175455632, 0.19108291666747096, 0.18043854934274806, 0.1457448609637043, 4.029320987654321, 3.6180145740509033], [2, 0.20539651857809835, 0.17557436896824768, 0.1800687695120412, 0.1471341559835882, 4.262345679012346, 3.475299119949341], [3, 0.18758900651202198, 0.16941856153482818, 0.16979553941254444, 0.14120907373889255, 4.294238683127572, 3.451737403869629], [4, 0.1909076314574276, 0.1858205367875703, 0.17968947492653034, 0.1503059285517529, 3.9902263374485596, 2.970322847366333], [5, 0.20918898828584626, 0.1765620068271424, 0.1822218291935278, 0.16676721420453347, 4.290637860082304, 2.8762545585632324], [6, 0.2094318462531283, 0.18161840783927125, 0.18569726459028094, 0.17061337337200624, 4.161522633744856, 2.780850410461426], [7, 0.21033745664572803, 0.18550087494313844, 0.18818766645239998, 0.1731567924603659, 4.113683127572016, 2.7444424629211426], [8, 0.20700515266087519, 0.1887381208495488, 0.1877676075405694, 0.17143316942730866, 4.1193415637860085, 2.825495958328247], [9, 0.20645306149446593, 0.1920168541861338, 0.1902984942301677, 0.17516634903691033, 3.977880658436214, 2.6835014820098877], [10, 0.20195738211229766, 0.1991413703063526, 0.1911724783710096, 0.17575602708940122, 4.019547325102881, 2.7130160331726074], [11, 0.20758813073423102, 0.1899403844717589, 0.1890028959034751, 0.17297182654590182, 4.078189300411522, 2.802133083343506], [12, 0.20908474123397933, 0.18645539362289146, 0.18724701233975447, 0.17046699230415446, 4.219650205761317, 2.887197494506836], [13, 0.205789404707765, 0.18898135202448624, 0.18801003625733126, 0.17258416166061483, 4.042181069958848, 2.7497639656066895], [14, 0.20665677054797602, 0.1911832322145331, 0.1901973681752874, 0.17538736778246278, 3.9650205761316872, 2.648311138153076], [15, 0.21060108422035584, 0.18165014564285145, 0.18472868981813192, 0.16712284863039223, 4.328189300411522, 2.9476168155670166]]\n",
      "-----------------------------------------------------------------------------------------\n"
     ]
    },
    {
     "data": {
      "text/html": [
       "<div>\n",
       "<style scoped>\n",
       "    .dataframe tbody tr th:only-of-type {\n",
       "        vertical-align: middle;\n",
       "    }\n",
       "\n",
       "    .dataframe tbody tr th {\n",
       "        vertical-align: top;\n",
       "    }\n",
       "\n",
       "    .dataframe thead th {\n",
       "        text-align: right;\n",
       "    }\n",
       "</style>\n",
       "<table border=\"1\" class=\"dataframe\">\n",
       "  <thead>\n",
       "    <tr style=\"text-align: right;\">\n",
       "      <th></th>\n",
       "      <th>Epoch</th>\n",
       "      <th>Recall</th>\n",
       "      <th>Precision</th>\n",
       "      <th>F1-score</th>\n",
       "      <th>NDCG</th>\n",
       "      <th>MAE</th>\n",
       "      <th>Loss</th>\n",
       "    </tr>\n",
       "  </thead>\n",
       "  <tbody>\n",
       "    <tr>\n",
       "      <th>0</th>\n",
       "      <td>1</td>\n",
       "      <td>0.187599</td>\n",
       "      <td>0.191083</td>\n",
       "      <td>0.180439</td>\n",
       "      <td>0.145745</td>\n",
       "      <td>4.029321</td>\n",
       "      <td>3.618015</td>\n",
       "    </tr>\n",
       "    <tr>\n",
       "      <th>1</th>\n",
       "      <td>2</td>\n",
       "      <td>0.205397</td>\n",
       "      <td>0.175574</td>\n",
       "      <td>0.180069</td>\n",
       "      <td>0.147134</td>\n",
       "      <td>4.262346</td>\n",
       "      <td>3.475299</td>\n",
       "    </tr>\n",
       "    <tr>\n",
       "      <th>2</th>\n",
       "      <td>3</td>\n",
       "      <td>0.187589</td>\n",
       "      <td>0.169419</td>\n",
       "      <td>0.169796</td>\n",
       "      <td>0.141209</td>\n",
       "      <td>4.294239</td>\n",
       "      <td>3.451737</td>\n",
       "    </tr>\n",
       "    <tr>\n",
       "      <th>3</th>\n",
       "      <td>4</td>\n",
       "      <td>0.190908</td>\n",
       "      <td>0.185821</td>\n",
       "      <td>0.179689</td>\n",
       "      <td>0.150306</td>\n",
       "      <td>3.990226</td>\n",
       "      <td>2.970323</td>\n",
       "    </tr>\n",
       "    <tr>\n",
       "      <th>4</th>\n",
       "      <td>5</td>\n",
       "      <td>0.209189</td>\n",
       "      <td>0.176562</td>\n",
       "      <td>0.182222</td>\n",
       "      <td>0.166767</td>\n",
       "      <td>4.290638</td>\n",
       "      <td>2.876255</td>\n",
       "    </tr>\n",
       "    <tr>\n",
       "      <th>5</th>\n",
       "      <td>6</td>\n",
       "      <td>0.209432</td>\n",
       "      <td>0.181618</td>\n",
       "      <td>0.185697</td>\n",
       "      <td>0.170613</td>\n",
       "      <td>4.161523</td>\n",
       "      <td>2.780850</td>\n",
       "    </tr>\n",
       "    <tr>\n",
       "      <th>6</th>\n",
       "      <td>7</td>\n",
       "      <td>0.210337</td>\n",
       "      <td>0.185501</td>\n",
       "      <td>0.188188</td>\n",
       "      <td>0.173157</td>\n",
       "      <td>4.113683</td>\n",
       "      <td>2.744442</td>\n",
       "    </tr>\n",
       "    <tr>\n",
       "      <th>7</th>\n",
       "      <td>8</td>\n",
       "      <td>0.207005</td>\n",
       "      <td>0.188738</td>\n",
       "      <td>0.187768</td>\n",
       "      <td>0.171433</td>\n",
       "      <td>4.119342</td>\n",
       "      <td>2.825496</td>\n",
       "    </tr>\n",
       "    <tr>\n",
       "      <th>8</th>\n",
       "      <td>9</td>\n",
       "      <td>0.206453</td>\n",
       "      <td>0.192017</td>\n",
       "      <td>0.190298</td>\n",
       "      <td>0.175166</td>\n",
       "      <td>3.977881</td>\n",
       "      <td>2.683501</td>\n",
       "    </tr>\n",
       "    <tr>\n",
       "      <th>9</th>\n",
       "      <td>10</td>\n",
       "      <td>0.201957</td>\n",
       "      <td>0.199141</td>\n",
       "      <td>0.191172</td>\n",
       "      <td>0.175756</td>\n",
       "      <td>4.019547</td>\n",
       "      <td>2.713016</td>\n",
       "    </tr>\n",
       "    <tr>\n",
       "      <th>10</th>\n",
       "      <td>11</td>\n",
       "      <td>0.207588</td>\n",
       "      <td>0.189940</td>\n",
       "      <td>0.189003</td>\n",
       "      <td>0.172972</td>\n",
       "      <td>4.078189</td>\n",
       "      <td>2.802133</td>\n",
       "    </tr>\n",
       "    <tr>\n",
       "      <th>11</th>\n",
       "      <td>12</td>\n",
       "      <td>0.209085</td>\n",
       "      <td>0.186455</td>\n",
       "      <td>0.187247</td>\n",
       "      <td>0.170467</td>\n",
       "      <td>4.219650</td>\n",
       "      <td>2.887197</td>\n",
       "    </tr>\n",
       "    <tr>\n",
       "      <th>12</th>\n",
       "      <td>13</td>\n",
       "      <td>0.205789</td>\n",
       "      <td>0.188981</td>\n",
       "      <td>0.188010</td>\n",
       "      <td>0.172584</td>\n",
       "      <td>4.042181</td>\n",
       "      <td>2.749764</td>\n",
       "    </tr>\n",
       "    <tr>\n",
       "      <th>13</th>\n",
       "      <td>14</td>\n",
       "      <td>0.206657</td>\n",
       "      <td>0.191183</td>\n",
       "      <td>0.190197</td>\n",
       "      <td>0.175387</td>\n",
       "      <td>3.965021</td>\n",
       "      <td>2.648311</td>\n",
       "    </tr>\n",
       "    <tr>\n",
       "      <th>14</th>\n",
       "      <td>15</td>\n",
       "      <td>0.210601</td>\n",
       "      <td>0.181650</td>\n",
       "      <td>0.184729</td>\n",
       "      <td>0.167123</td>\n",
       "      <td>4.328189</td>\n",
       "      <td>2.947617</td>\n",
       "    </tr>\n",
       "  </tbody>\n",
       "</table>\n",
       "</div>"
      ],
      "text/plain": [
       "    Epoch    Recall  Precision  F1-score      NDCG       MAE      Loss\n",
       "0       1  0.187599   0.191083  0.180439  0.145745  4.029321  3.618015\n",
       "1       2  0.205397   0.175574  0.180069  0.147134  4.262346  3.475299\n",
       "2       3  0.187589   0.169419  0.169796  0.141209  4.294239  3.451737\n",
       "3       4  0.190908   0.185821  0.179689  0.150306  3.990226  2.970323\n",
       "4       5  0.209189   0.176562  0.182222  0.166767  4.290638  2.876255\n",
       "5       6  0.209432   0.181618  0.185697  0.170613  4.161523  2.780850\n",
       "6       7  0.210337   0.185501  0.188188  0.173157  4.113683  2.744442\n",
       "7       8  0.207005   0.188738  0.187768  0.171433  4.119342  2.825496\n",
       "8       9  0.206453   0.192017  0.190298  0.175166  3.977881  2.683501\n",
       "9      10  0.201957   0.199141  0.191172  0.175756  4.019547  2.713016\n",
       "10     11  0.207588   0.189940  0.189003  0.172972  4.078189  2.802133\n",
       "11     12  0.209085   0.186455  0.187247  0.170467  4.219650  2.887197\n",
       "12     13  0.205789   0.188981  0.188010  0.172584  4.042181  2.749764\n",
       "13     14  0.206657   0.191183  0.190197  0.175387  3.965021  2.648311\n",
       "14     15  0.210601   0.181650  0.184729  0.167123  4.328189  2.947617"
      ]
     },
     "execution_count": 41,
     "metadata": {},
     "output_type": "execute_result"
    }
   ],
   "source": [
    "results = []\n",
    "\n",
    "for epoch in range(1, EPOCHS + 1):\n",
    "    train_loss = train_model()\n",
    "    print(\"train_loss=\", train_loss)\n",
    "    print(\"-\"*20)\n",
    "    val_loss = evaluate_model()\n",
    "    print(\"val_loss=\", val_loss)\n",
    "    print(\"-\"*20)\n",
    "    test_loss, recall_list, precision_list, f1_list, ndcg_list, mae_list = test_model()\n",
    "    print(\"-\"*20)\n",
    "    result = [epoch] + recall_list + precision_list + f1_list + ndcg_list + mae_list + [test_loss.item()]\n",
    "    results.append(result)\n",
    "    print(results)\n",
    "    print(\"-\"*89)\n",
    "    \n",
    "    collected = gc.collect()\n",
    "    torch.cuda.empty_cache()\n",
    "    \n",
    "record_df = pd.DataFrame(results, columns=[\"Epoch\", \"Recall\", \"Precision\", \"F1-score\", \"NDCG\", \"MAE\", \"Loss\"])\n",
    "\n",
    "result_folder = \"../result\"\n",
    "if not os.path.exists(result_folder):\n",
    "    os.mkdir(result_folder)\n",
    "record_df.to_csv(result_folder+f\"/{DATASET_NAME}_output.csv\", index=False)\n",
    "\n",
    "record_df\n"
   ]
  }
 ],
 "metadata": {
  "kernelspec": {
   "display_name": "Python 3 (ipykernel)",
   "language": "python",
   "name": "python3"
  },
  "language_info": {
   "codemirror_mode": {
    "name": "ipython",
    "version": 3
   },
   "file_extension": ".py",
   "mimetype": "text/x-python",
   "name": "python",
   "nbconvert_exporter": "python",
   "pygments_lexer": "ipython3",
   "version": "3.11.5"
  }
 },
 "nbformat": 4,
 "nbformat_minor": 5
}
