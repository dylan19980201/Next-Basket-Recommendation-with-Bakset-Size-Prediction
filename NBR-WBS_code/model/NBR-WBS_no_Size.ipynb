{
 "cells": [
  {
   "cell_type": "markdown",
   "id": "93f6a871",
   "metadata": {},
   "source": [
    "# 下載套件"
   ]
  },
  {
   "cell_type": "code",
   "execution_count": 1,
   "id": "307637fb",
   "metadata": {},
   "outputs": [],
   "source": [
    "import torch\n",
    "import torch.nn as nn\n",
    "from torch import nn, matmul, softmax\n",
    "from torch.nn.init import xavier_uniform_\n",
    "import torch.nn.functional as F\n",
    "import torch.nn.utils.rnn as rnn_utils\n",
    "from torch.autograd import Variable\n",
    "\n",
    "import os\n",
    "import numpy as np\n",
    "import pandas as pd\n",
    "import gensim\n",
    "from gensim.models import KeyedVectors\n",
    "import pickle\n",
    "import gzip\n",
    "import gc\n",
    "import random"
   ]
  },
  {
   "cell_type": "code",
   "execution_count": 2,
   "id": "ddf51a79",
   "metadata": {},
   "outputs": [],
   "source": [
    "from torch.utils.data import DataLoader, Dataset\n",
    "from torch.utils.data.dataset import random_split\n",
    "\n",
    "from tqdm import tqdm\n",
    "from collections import Counter\n",
    "\n",
    "import math"
   ]
  },
  {
   "cell_type": "markdown",
   "id": "ffd5bc55",
   "metadata": {},
   "source": [
    "# 參數設置"
   ]
  },
  {
   "cell_type": "code",
   "execution_count": 3,
   "id": "0e5878e7",
   "metadata": {},
   "outputs": [],
   "source": [
    "# 超參數\n",
    "EPOCHS = 15\n",
    "LEARNING_RATE = 0.00001                # Learning_rate\n",
    "BATCH_SIZE = 8                         # \n",
    "ALPHA = 0.01 \n",
    "BETA = 0.001                           #\n",
    "EMBEDDING_DIMENSION = 32               # 嵌入維度\n",
    "MODEL_DIMENSION = EMBEDDING_DIMENSION  # 模型維度\n",
    "HIDDEN_DIMENSION = 128                 # MLP 隱藏層維度\n",
    "HIDDEN_SIZE = 16                       # LSTM 隱藏層維度\n",
    "NUM_HEAD = 4                           # \n",
    "NUM_LAYER = 4\n",
    "\n",
    "isMC = 1\n",
    "isI2V = 1"
   ]
  },
  {
   "cell_type": "code",
   "execution_count": 4,
   "id": "25a38a53",
   "metadata": {},
   "outputs": [],
   "source": [
    "# 資料集\n",
    "# DATASET_NAME = \"TaFeng\"     # 讀取TaFeng資料\n",
    "DATASET_NAME = \"Dunnhumby\"  # 讀取Dunnhumby資料\n",
    "# DATASET_NAME = \"Instacart\"  # 讀取Instacart資料"
   ]
  },
  {
   "cell_type": "markdown",
   "id": "7f60362b",
   "metadata": {},
   "source": [
    "# 匯入檔案\n",
    "- item2Vec_{dataset}.32d.model\n",
    "- user_cart_itemid_list.gz\n",
    "- {dataset}_clean.csv"
   ]
  },
  {
   "cell_type": "code",
   "execution_count": 5,
   "id": "6b38e8a4",
   "metadata": {},
   "outputs": [
    {
     "data": {
      "text/plain": [
       "torch.Size([3977, 32])"
      ]
     },
     "execution_count": 5,
     "metadata": {},
     "output_type": "execute_result"
    }
   ],
   "source": [
    "# load word2Vec pre_train model\n",
    "model_filename = f\"../preprocessing-data/item2vec_models/item2vec_{DATASET_NAME}.{EMBEDDING_DIMENSION}d.model\"\n",
    "# {DATASET}\n",
    "with open(model_filename, \"rb\") as fp:\n",
    "    model = pickle.load(fp)\n",
    "weights = torch.FloatTensor(model.wv.vectors)\n",
    "weights.shape"
   ]
  },
  {
   "cell_type": "code",
   "execution_count": 6,
   "id": "80368ec5",
   "metadata": {},
   "outputs": [
    {
     "data": {
      "text/plain": [
       "[('CUST0000000031',\n",
       "  [[0, 1, 2, 3, 4, 5, 6, 7, 8, 9, 10, 11],\n",
       "   [12, 13, 14, 15],\n",
       "   [16, 17, 18, 19, 4, 20, 21],\n",
       "   [22, 23, 24],\n",
       "   [1, 25, 26, 6, 27, 28, 29, 30],\n",
       "   [31, 2, 32, 13, 33, 6, 10, 34, 21],\n",
       "   [35, 36, 37],\n",
       "   [38, 25, 39, 40, 41, 32, 42, 20, 43, 29, 44]],\n",
       "  [12, 4, 7, 3, 8, 9, 3, 11]),\n",
       " ('CUST0000000068',\n",
       "  [[45, 46, 47, 48],\n",
       "   [49, 50, 51, 52],\n",
       "   [53, 50, 54, 55, 56],\n",
       "   [57, 58, 59, 60, 61, 62, 63, 64, 54, 65, 47, 66, 67, 68],\n",
       "   [57, 60, 50, 69, 13, 47, 70, 71, 72, 68, 73],\n",
       "   [74, 50, 75],\n",
       "   [76, 77, 78, 59, 79, 80, 45, 54, 81, 82, 13, 47, 83, 84, 85, 68],\n",
       "   [63, 54, 86, 13, 87],\n",
       "   [88, 89, 77, 78, 90, 91, 81, 92, 65, 47, 66, 93, 94, 68],\n",
       "   [90, 95, 96],\n",
       "   [97, 88, 98, 99, 78, 100, 50, 54, 101, 102, 47, 103, 104, 105],\n",
       "   [106,\n",
       "    107,\n",
       "    88,\n",
       "    108,\n",
       "    45,\n",
       "    64,\n",
       "    50,\n",
       "    54,\n",
       "    109,\n",
       "    110,\n",
       "    111,\n",
       "    65,\n",
       "    112,\n",
       "    47,\n",
       "    84,\n",
       "    113,\n",
       "    85,\n",
       "    68],\n",
       "   [114, 59, 115, 116, 117, 118, 85, 119]],\n",
       "  [4, 4, 5, 14, 11, 3, 16, 5, 14, 3, 14, 18, 8])]"
      ]
     },
     "execution_count": 6,
     "metadata": {},
     "output_type": "execute_result"
    }
   ],
   "source": [
    "# {DATASET} user_cart_itemid_list 用戶id, 購物籃時間差(不會使用到), 此用戶的購物籃串列(每個串列包含多項目)。\n",
    "with gzip.open(f\"../preprocessing-data/{DATASET_NAME}_user_cart_itemid_list.gz\", \"rb\") as fp:\n",
    "    user_cart_itemid_list = pickle.load(fp)\n",
    "user_cart_itemid_list[:2]"
   ]
  },
  {
   "cell_type": "code",
   "execution_count": 7,
   "id": "1322afac",
   "metadata": {},
   "outputs": [],
   "source": [
    "# Load {DATASET} confidences_Matrix\n",
    "with gzip.open(f\"../preprocessing-data/confidences/{DATASET_NAME}_confidences_array.gz\", \"rb\") as fp:\n",
    "    confidences = pickle.load(fp)"
   ]
  },
  {
   "cell_type": "code",
   "execution_count": 8,
   "id": "4b34ae99",
   "metadata": {},
   "outputs": [
    {
     "name": "stdout",
     "output_type": "stream",
     "text": [
      "44\n"
     ]
    },
    {
     "data": {
      "text/html": [
       "<div>\n",
       "<style scoped>\n",
       "    .dataframe tbody tr th:only-of-type {\n",
       "        vertical-align: middle;\n",
       "    }\n",
       "\n",
       "    .dataframe tbody tr th {\n",
       "        vertical-align: top;\n",
       "    }\n",
       "\n",
       "    .dataframe thead th {\n",
       "        text-align: right;\n",
       "    }\n",
       "</style>\n",
       "<table border=\"1\" class=\"dataframe\">\n",
       "  <thead>\n",
       "    <tr style=\"text-align: right;\">\n",
       "      <th></th>\n",
       "      <th>TRANSACTION_DT</th>\n",
       "      <th>PRODUCT_ID</th>\n",
       "      <th>CUSTOMER_ID</th>\n",
       "      <th>CART_ID</th>\n",
       "      <th>NEW_ITEM_ID</th>\n",
       "    </tr>\n",
       "  </thead>\n",
       "  <tbody>\n",
       "    <tr>\n",
       "      <th>0</th>\n",
       "      <td>20060416</td>\n",
       "      <td>PRD0900173</td>\n",
       "      <td>CUST0000000031</td>\n",
       "      <td>0</td>\n",
       "      <td>0</td>\n",
       "    </tr>\n",
       "    <tr>\n",
       "      <th>1</th>\n",
       "      <td>20060416</td>\n",
       "      <td>PRD0900199</td>\n",
       "      <td>CUST0000000031</td>\n",
       "      <td>0</td>\n",
       "      <td>1</td>\n",
       "    </tr>\n",
       "    <tr>\n",
       "      <th>2</th>\n",
       "      <td>20060416</td>\n",
       "      <td>PRD0900867</td>\n",
       "      <td>CUST0000000031</td>\n",
       "      <td>0</td>\n",
       "      <td>2</td>\n",
       "    </tr>\n",
       "    <tr>\n",
       "      <th>3</th>\n",
       "      <td>20060416</td>\n",
       "      <td>PRD0901294</td>\n",
       "      <td>CUST0000000031</td>\n",
       "      <td>0</td>\n",
       "      <td>3</td>\n",
       "    </tr>\n",
       "    <tr>\n",
       "      <th>4</th>\n",
       "      <td>20060416</td>\n",
       "      <td>PRD0901986</td>\n",
       "      <td>CUST0000000031</td>\n",
       "      <td>0</td>\n",
       "      <td>4</td>\n",
       "    </tr>\n",
       "    <tr>\n",
       "      <th>...</th>\n",
       "      <td>...</td>\n",
       "      <td>...</td>\n",
       "      <td>...</td>\n",
       "      <td>...</td>\n",
       "      <td>...</td>\n",
       "    </tr>\n",
       "    <tr>\n",
       "      <th>1486181</th>\n",
       "      <td>20060604</td>\n",
       "      <td>PRD0901722</td>\n",
       "      <td>CUST0000999976</td>\n",
       "      <td>147357</td>\n",
       "      <td>222</td>\n",
       "    </tr>\n",
       "    <tr>\n",
       "      <th>1486182</th>\n",
       "      <td>20060604</td>\n",
       "      <td>PRD0901732</td>\n",
       "      <td>CUST0000999976</td>\n",
       "      <td>147357</td>\n",
       "      <td>2457</td>\n",
       "    </tr>\n",
       "    <tr>\n",
       "      <th>1486183</th>\n",
       "      <td>20060604</td>\n",
       "      <td>PRD0902897</td>\n",
       "      <td>CUST0000999976</td>\n",
       "      <td>147357</td>\n",
       "      <td>1904</td>\n",
       "    </tr>\n",
       "    <tr>\n",
       "      <th>1486184</th>\n",
       "      <td>20060604</td>\n",
       "      <td>PRD0903032</td>\n",
       "      <td>CUST0000999976</td>\n",
       "      <td>147357</td>\n",
       "      <td>223</td>\n",
       "    </tr>\n",
       "    <tr>\n",
       "      <th>1486185</th>\n",
       "      <td>20060604</td>\n",
       "      <td>PRD0904092</td>\n",
       "      <td>CUST0000999976</td>\n",
       "      <td>147357</td>\n",
       "      <td>2608</td>\n",
       "    </tr>\n",
       "  </tbody>\n",
       "</table>\n",
       "<p>1486186 rows × 5 columns</p>\n",
       "</div>"
      ],
      "text/plain": [
       "         TRANSACTION_DT  PRODUCT_ID     CUSTOMER_ID  CART_ID  NEW_ITEM_ID\n",
       "0              20060416  PRD0900173  CUST0000000031        0            0\n",
       "1              20060416  PRD0900199  CUST0000000031        0            1\n",
       "2              20060416  PRD0900867  CUST0000000031        0            2\n",
       "3              20060416  PRD0901294  CUST0000000031        0            3\n",
       "4              20060416  PRD0901986  CUST0000000031        0            4\n",
       "...                 ...         ...             ...      ...          ...\n",
       "1486181        20060604  PRD0901722  CUST0000999976   147357          222\n",
       "1486182        20060604  PRD0901732  CUST0000999976   147357         2457\n",
       "1486183        20060604  PRD0902897  CUST0000999976   147357         1904\n",
       "1486184        20060604  PRD0903032  CUST0000999976   147357          223\n",
       "1486185        20060604  PRD0904092  CUST0000999976   147357         2608\n",
       "\n",
       "[1486186 rows x 5 columns]"
      ]
     },
     "execution_count": 8,
     "metadata": {},
     "output_type": "execute_result"
    }
   ],
   "source": [
    "dataset = pd.read_csv(f\"../cleaned_dataset/{DATASET_NAME}_clean.csv\")\n",
    "\n",
    "# 最多購物籃\n",
    "max_cart_count = dataset.groupby(\"CUSTOMER_ID\")[\"CART_ID\"].nunique().max()\n",
    "print(max_cart_count)\n",
    "\n",
    "dataset"
   ]
  },
  {
   "cell_type": "markdown",
   "id": "1949cff4",
   "metadata": {},
   "source": [
    "# 切分資料集\n",
    "- 分成輸入資料與標籤資料\n",
    "- 訓練集:驗證集:測試集 = 8:1:1"
   ]
  },
  {
   "cell_type": "code",
   "execution_count": 9,
   "id": "6a483ddf",
   "metadata": {},
   "outputs": [],
   "source": [
    "# 切分資料集\n",
    "# train_set_size = int(len(user_cart_itemid_list) * 0.8)\n",
    "# valid_set_size = int(len(user_cart_itemid_list) * 0.1)\n",
    "# test_set_size = len(user_cart_itemid_list)-train_set_size-valid_set_size\n",
    "# train_set, valid_set, test_set = random_split(user_cart_itemid_list, [train_set_size, valid_set_size, test_set_size])\n",
    "# print(len(train_set))\n",
    "# print(len(valid_set))\n",
    "# print(len(test_set))"
   ]
  },
  {
   "cell_type": "code",
   "execution_count": 10,
   "id": "075d2f84",
   "metadata": {},
   "outputs": [],
   "source": [
    "# 將切割好的資料暫存起來\n",
    "# dataset_folder = f\"../preprocessing-data/{DATASET_NAME}_dataset\"\n",
    "# if not os.path.exists(dataset_folder):\n",
    "#     os.mkdir(dataset_folder)\n",
    "\n",
    "# # 訓練集\n",
    "# filepath = f\"../preprocessing-data/{DATASET_NAME}_dataset/train_set.pkl\"\n",
    "# with open(filepath, \"wb\") as f:\n",
    "#     pickle.dump(train_set, f)\n",
    "# # 驗證集\n",
    "# filepath = f\"../preprocessing-data/{DATASET_NAME}_dataset/valid_set.pkl\"\n",
    "# with open(filepath, \"wb\") as f:\n",
    "#     pickle.dump(valid_set, f)\n",
    "# # 測試集\n",
    "# filepath = f\"../preprocessing-data/{DATASET_NAME}_dataset/test_set.pkl\"\n",
    "# with open(filepath, \"wb\") as f:\n",
    "#     pickle.dump(test_set, f)"
   ]
  },
  {
   "cell_type": "code",
   "execution_count": 11,
   "id": "da0fd537",
   "metadata": {},
   "outputs": [],
   "source": [
    "# 讀取之前暫存的資料集\n",
    "\n",
    "# 載入訓練、驗證、測試集\n",
    "with open(f\"../preprocessing-data/{DATASET_NAME}_dataset/train_set.pkl\", \"rb\") as fp:\n",
    "    train_set = pickle.load(fp)\n",
    "with open(f\"../preprocessing-data/{DATASET_NAME}_dataset/valid_set.pkl\", \"rb\") as fp:\n",
    "    valid_set = pickle.load(fp)\n",
    "with open(f\"../preprocessing-data/{DATASET_NAME}_dataset/test_set.pkl\", \"rb\") as fp:\n",
    "    test_set = pickle.load(fp)"
   ]
  },
  {
   "cell_type": "markdown",
   "id": "3ab36128",
   "metadata": {},
   "source": [
    "# BATCH"
   ]
  },
  {
   "cell_type": "code",
   "execution_count": 12,
   "id": "a98a672c",
   "metadata": {},
   "outputs": [
    {
     "data": {
      "text/plain": [
       "device(type='cuda')"
      ]
     },
     "execution_count": 12,
     "metadata": {},
     "output_type": "execute_result"
    }
   ],
   "source": [
    "device = torch.device(\"cuda\" if torch.cuda.is_available() else \"cpu\")\n",
    "device"
   ]
  },
  {
   "cell_type": "code",
   "execution_count": 13,
   "id": "5a943efb",
   "metadata": {},
   "outputs": [],
   "source": [
    "# 定義資料轉換函數(於collate_batch函式中使用)\n",
    "item_index_pipeline = lambda x : [[model.wv.key_to_index[j] for j in i] for i in x] # 取得購物籃中，項目的索引值(只有使用Item2Vec時會需要)\n",
    "item_label_pipeline = lambda x : [model.wv.key_to_index[j] for j in x]"
   ]
  },
  {
   "cell_type": "code",
   "execution_count": 14,
   "id": "7137d8b4",
   "metadata": {},
   "outputs": [],
   "source": [
    "class TensorDataset(Dataset):\n",
    "    # TensorDataset繼承Dataset, 重載__init__, __getitem__, __len__\n",
    "    # 實現將一組Tensor數據封裝成Tensor數據集\n",
    "    # 能夠通過Index得到數據集的數據，能夠通過len，得到數據集大小\n",
    "    def __init__(self, data_tensor):\n",
    "        self.data_tensor = data_tensor\n",
    "    def __getitem__(self, index):\n",
    "        return self.data_tensor[index]\n",
    "    def __len__(self):\n",
    "        return len(self.data_tensor)\n",
    "\n",
    "# 輸出userID, input_list跟label(最後一個購物籃)\n",
    "def collate_batch(batch):\n",
    "    # 使用ID、時間差、訓練的購物籃項目、預測的購物籃項目\n",
    "    userID, input_item_list, label_item_list, input_size_list, label_size_list = [], [], [], [], []\n",
    "    for _user in batch:\n",
    "        #　userID\n",
    "        userID.append(_user[0])\n",
    "        # 所有購物籃的項目ID串列中的最後一個購物籃項目ID\n",
    "#         label_item_list.append(torch.tensor(_user[1][-1]))\n",
    "        label_size_list.append(torch.tensor(_user[2][-1]))\n",
    "        \n",
    "        # 不使用Item2Vec進行項目嵌入\n",
    "        if isI2V == 0:\n",
    "            train_list = _user[1][0:-1]\n",
    "            label_list = torch.tensor(_user[1][-1])\n",
    "        # 使用Item2Vec進行項目嵌入\n",
    "        else:\n",
    "            train_list = item_index_pipeline(_user[1][0:-1])\n",
    "            label_list = torch.tensor(item_label_pipeline(_user[1][-1]))\n",
    "        input_size_list.append(_user[2][0:-1])\n",
    "        \n",
    "        input_item_list.append(train_list) #　所有購物籃的項目ID串列(除了最後一個購物籃)\n",
    "        label_item_list.append(label_list)\n",
    "    \n",
    "    return userID, input_item_list, label_item_list, input_size_list, label_size_list"
   ]
  },
  {
   "cell_type": "code",
   "execution_count": 15,
   "id": "d17716b8",
   "metadata": {},
   "outputs": [],
   "source": [
    "# 轉成 Dataset\n",
    "split_train_ = TensorDataset(train_set)\n",
    "split_valid_ = TensorDataset(valid_set)\n",
    "split_test_ = TensorDataset(test_set)"
   ]
  },
  {
   "cell_type": "code",
   "execution_count": 16,
   "id": "d4faf82c",
   "metadata": {},
   "outputs": [],
   "source": [
    "# DataLoader\n",
    "train_dataloader = DataLoader(split_train_, batch_size=BATCH_SIZE, shuffle=True, collate_fn=collate_batch, drop_last=True)\n",
    "valid_dataloader = DataLoader(split_valid_, batch_size=BATCH_SIZE, shuffle=True, collate_fn=collate_batch, drop_last=True)\n",
    "test_dataloader = DataLoader(split_test_, batch_size=BATCH_SIZE, shuffle=True, collate_fn=collate_batch, drop_last=True)"
   ]
  },
  {
   "cell_type": "markdown",
   "id": "41e8f08b",
   "metadata": {},
   "source": [
    "# Self-Attention"
   ]
  },
  {
   "cell_type": "code",
   "execution_count": 17,
   "id": "ab28e701",
   "metadata": {},
   "outputs": [],
   "source": [
    "# 使用nn.MultiheadAttention\n",
    "# 輸入一個用戶的購物籃，輸出購物籃嵌入\n",
    "class SelfAttention(nn.Module):\n",
    "    #　項目向量維度，輸出模型維度\n",
    "    def __init__(self, embed_dim, model_dim):\n",
    "        super(SelfAttention, self).__init__()\n",
    "        self.embed_dim = embed_dim\n",
    "        self.model_dim = model_dim\n",
    "    \n",
    "        # 初始化Q, K, V 矩陣\n",
    "        self.query_matrix = nn.Linear(embed_dim, model_dim)\n",
    "        xavier_uniform_(self.query_matrix.weight)\n",
    "        self.key_matrix = nn.Linear(embed_dim, model_dim)\n",
    "        xavier_uniform_(self.key_matrix.weight)\n",
    "        self.value_matrix = nn.Linear(embed_dim, model_dim)\n",
    "        xavier_uniform_(self.value_matrix.weight)\n",
    "        self.multihead_attn = nn.MultiheadAttention(embed_dim, num_heads=1)\n",
    "    \n",
    "    def forward(self, inputs, attention_mask):\n",
    "        \n",
    "        # 輸入一個項目向量，透過三個可學習的參數矩陣，得到計算所需要的q, k, v\n",
    "        q = self.query_matrix(inputs)\n",
    "        k = self.key_matrix(inputs)\n",
    "        v = self.value_matrix(inputs)\n",
    "        \n",
    "        attn_output, attn_output_weight = self.multihead_attn(q, k, v, key_padding_mask=attention_mask.transpose(0,1))\n",
    "        \n",
    "        output_mean = torch.tensor([[0 for _ in range(MODEL_DIMENSION)] for _ in range(len(attention_mask))], dtype=torch.float).to(device)\n",
    "        for i, cart in enumerate(attention_mask):\n",
    "            for j, mask in enumerate(cart):\n",
    "                if mask == False:\n",
    "                    # 使用最後一個項目最作為輸出\n",
    "                    output_mean[i] = attn_output[i][j]\n",
    "        basket_embedding = output_mean\n",
    "        \n",
    "        return basket_embedding"
   ]
  },
  {
   "cell_type": "markdown",
   "id": "e81dcd9b",
   "metadata": {},
   "source": [
    "# LSTM"
   ]
  },
  {
   "cell_type": "code",
   "execution_count": 18,
   "id": "9e4204a4",
   "metadata": {},
   "outputs": [],
   "source": [
    "class LSTM(nn.Module):\n",
    "    def __init__(self, input_size, output_size, hiddenlayer1 = 512, hiddenlayer2 = 256, hiddenlayer3 = 128):\n",
    "        super(LSTM, self).__init__()\n",
    "        self.lstm = torch.nn.LSTM(input_size, HIDDEN_SIZE, 2)\n",
    "        self.hiddenlayer1 = torch.nn.Linear(max_cart_count * HIDDEN_SIZE, hiddenlayer1)\n",
    "        self.hiddenlayer2 = torch.nn.Linear(hiddenlayer1, hiddenlayer1)\n",
    "        self.hiddenlayer3 = torch.nn.Linear(hiddenlayer1, hiddenlayer2)\n",
    "        self.hiddenlayer4 = torch.nn.Linear(hiddenlayer2, hiddenlayer3)\n",
    "        self.embed = torch.nn.Linear(hiddenlayer3, EMBEDDING_DIMENSION)\n",
    "        self.leakyrelu = torch.nn.LeakyReLU()\n",
    "    \n",
    "    def forward(self, inputs):\n",
    "        output, (h,c) = self.lstm(inputs)\n",
    "        hidden1 = self.hiddenlayer1(output.view(max_cart_count * HIDDEN_SIZE))\n",
    "        hidden2 = self.hiddenlayer2(hidden1)\n",
    "        hidden3 = self.hiddenlayer3(hidden2)\n",
    "        hidden4 = self.hiddenlayer4(hidden3)\n",
    "        output = self.embed(hidden4)\n",
    "        return output"
   ]
  },
  {
   "cell_type": "markdown",
   "id": "f200f312",
   "metadata": {},
   "source": [
    "# Transformer"
   ]
  },
  {
   "cell_type": "code",
   "execution_count": 19,
   "id": "80a2c0d2",
   "metadata": {},
   "outputs": [],
   "source": [
    "class PositionalEncoding(nn.Module):\n",
    "    def __init__(self, d_model:int, dropout, maxlen:int=500):\n",
    "        super(PositionalEncoding, self).__init__()\n",
    "        # den 是把10000^(2i/d_model)取log_e，前面加負號是求倒數\n",
    "        den = torch.exp(-torch.arange(0, d_model, 2) * math.log(10000) / d_model)\n",
    "        pos = torch.arange(0, maxlen).reshape(maxlen, 1)\n",
    "        pos_embedding = torch.zeros(maxlen, d_model)\n",
    "        pos_embedding[:, 0::2] = torch.sin(pos*den)\n",
    "        pos_embedding[:, 1::2] = torch.cos(pos*den)\n",
    "        \n",
    "        pos_embedding = pos_embedding.unsqueeze(0)\n",
    "        \n",
    "        self.dropout = nn.Dropout(dropout)\n",
    "        self.register_buffer(\"pos_embedding\", pos_embedding)\n",
    "        \n",
    "    def forward(self, token_embedding):\n",
    "        return self.dropout(token_embedding + self.pos_embedding[:, :token_embedding.size(1), :])\n",
    "    \n",
    "class TransformerEncoder(nn.Module):\n",
    "    def __init__(self, d_model, num_heads=8, num_layers=6):\n",
    "        super(TransformerEncoder, self).__init__()\n",
    "        self.pe = PositionalEncoding(d_model=d_model, dropout=0.5, maxlen=max_cart_count)\n",
    "        #　創建Transformer模型\n",
    "        self.transformer = nn.TransformerEncoder(\n",
    "            nn.TransformerEncoderLayer(d_model=d_model, nhead=num_heads),\n",
    "            num_layers=num_layers\n",
    "        )\n",
    "        \n",
    "    def forward(self, baskets_embedding):\n",
    "        baskets_embedding_pe = self.pe(baskets_embedding)\n",
    "        \n",
    "        # 購物籃padding的遮罩\n",
    "        padding_mask = ~baskets_embedding.sum(dim=-1).ne(0).transpose(0,1)\n",
    "        \n",
    "        output = self.transformer(baskets_embedding_pe.to(torch.float32), src_key_padding_mask=padding_mask.to(torch.float32))\n",
    "        return output"
   ]
  },
  {
   "cell_type": "markdown",
   "id": "3e6b9342",
   "metadata": {},
   "source": [
    "# MLP"
   ]
  },
  {
   "cell_type": "code",
   "execution_count": 20,
   "id": "96db71ce",
   "metadata": {},
   "outputs": [],
   "source": [
    "class MLPforItem(nn.Module):\n",
    "    def __init__(self, embed_dim, hidden_dim, items_dim):\n",
    "        super(MLPforItem, self).__init__()\n",
    "        # hidden layer\n",
    "        self.hidden = nn.Linear(embed_dim, hidden_dim)\n",
    "        xavier_uniform_(self.hidden.weight)\n",
    "        self.norm = nn.BatchNorm1d(hidden_dim, momentum=0.03)\n",
    "        self.relu = nn.ReLU()\n",
    "        # output layer\n",
    "        self.output = nn.Linear(hidden_dim, items_dim)\n",
    "        self.softmax = nn.Softmax(dim=0)\n",
    "    def forward(self, inputs):\n",
    "        y = self.relu(self.norm(self.hidden(inputs)))\n",
    "        return self.output(y)\n",
    "#         return self.softmax(self.output(y))"
   ]
  },
  {
   "cell_type": "code",
   "execution_count": 21,
   "id": "3295318a",
   "metadata": {},
   "outputs": [],
   "source": [
    "class MLPforSize(nn.Module):\n",
    "    def __init__(self, embed_dim):\n",
    "        super(MLPforSize, self).__init__()\n",
    "        # predict layer\n",
    "        self.predict = nn.Linear(embed_dim, 1)\n",
    "        self.leakyrelu = torch.nn.LeakyReLU()\n",
    "    def forward(self, inputs):\n",
    "        output = self.leakyrelu(self.predict(inputs))\n",
    "        return output"
   ]
  },
  {
   "cell_type": "markdown",
   "id": "1dab9aad",
   "metadata": {},
   "source": [
    "# 損失函數"
   ]
  },
  {
   "cell_type": "code",
   "execution_count": 22,
   "id": "061ed2cb",
   "metadata": {},
   "outputs": [],
   "source": [
    "# MSE\n",
    "def mean_square_error(prediction, target):\n",
    "    predictions = prediction[0]\n",
    "    targets = torch.tensor([target[0]], dtype=torch.float).to(device)\n",
    "    loss = F.mse_loss(predictions, targets)\n",
    "    for i in range(1, len(prediction)):\n",
    "        predictions = prediction[i]\n",
    "        targets= torch.tensor([target[i]], dtype=torch.float).to(device)\n",
    "        loss += F.mse_loss(predictions, targets)\n",
    "    return loss"
   ]
  },
  {
   "cell_type": "code",
   "execution_count": 23,
   "id": "28cea6c6",
   "metadata": {},
   "outputs": [],
   "source": [
    "# cross_entropy_loss\n",
    "def cross_entropy_loss(predictions, targets):\n",
    "    # 創建稀疏張量的索引和值\n",
    "    indices = []\n",
    "    values = []\n",
    "    for i, t in enumerate(targets):\n",
    "        for v in t:\n",
    "            indices.append([i, v])\n",
    "            values.append(1)\n",
    "            \n",
    "    # 創建稀疏張量\n",
    "    sparse_targets = torch.sparse_coo_tensor(indices=torch.tensor(indices).t(),\n",
    "                                             values=torch.tensor(values, dtype=torch.float32),\n",
    "                                             size=(len(targets), items_count), device=device)\n",
    "    sparse_targets = sparse_targets.to_dense()\n",
    "    \n",
    "    loss = F.binary_cross_entropy_with_logits(predictions, sparse_targets)\n",
    "    return loss"
   ]
  },
  {
   "cell_type": "markdown",
   "id": "e5590d08",
   "metadata": {},
   "source": [
    "# 評估指標"
   ]
  },
  {
   "cell_type": "code",
   "execution_count": 24,
   "id": "a7cc05c3",
   "metadata": {},
   "outputs": [],
   "source": [
    "def format_metric(result_dict):\n",
    "    assert type(result_dict) == dict\n",
    "    format_str = []\n",
    "    metrics = np.unique([k.split('@')[0] for k in result_dict.keys()])\n",
    "    topks = np.unique([int(k.split('@')[1]) for k in result_dict.keys()])\n",
    "    for topk in np.sort(topks):\n",
    "        for metric in np.sort(metrics):\n",
    "            name = '{}@{}'.format(metric, topk)\n",
    "            m = result_dict[name]\n",
    "            if type(m) is float or type(m) is float or type(m) is np.float32 or type(m) is np.float64:\n",
    "                format_str.append('{}: {:<.4f}'.format(name, m))\n",
    "            elif type(m) is int or type(m) is int or type(m) is np.int32 or type(m) is np.int64:\n",
    "                format_str.append('{}: {}'.format(name, m))\n",
    "    return ', '.join(format_str)"
   ]
  },
  {
   "cell_type": "markdown",
   "id": "e4a2e5e0",
   "metadata": {},
   "source": [
    "# F1-score"
   ]
  },
  {
   "cell_type": "code",
   "execution_count": 25,
   "id": "f0a89445",
   "metadata": {},
   "outputs": [],
   "source": [
    "def calculate_f1_score_at_k(predictions, labels_list, k_list):\n",
    "    \"\"\"\n",
    "    計算 F1-score@K。\n",
    "\n",
    "    Args:\n",
    "        predictions: 二維的預測機率矩陣，大小為 [num_users, num_items]。\n",
    "        labels_list: 一個包含每個用戶真實標籤的列表，其中每個列表的大小不同。\n",
    "        k: 計算 F1-score@K 的 K 值。\n",
    "\n",
    "    Returns:\n",
    "        F1-score@K 分數。\n",
    "    \"\"\"\n",
    "    # 將預測機率矩陣轉換為 PyTorch 張量。\n",
    "    predictions = torch.from_numpy(np.array(predictions, dtype=np.float32))#.to('cuda')\n",
    "    num_users = len(labels_list)\n",
    "    f1_score_at_k_eval = dict()\n",
    "    recall_at_k_eval = dict()\n",
    "    precision_at_k_eval = dict()\n",
    "    \n",
    "    for k in k_list:\n",
    "        f1_score_sum = 0.0\n",
    "        recall_sum = 0.0\n",
    "        precision_sum = 0.0\n",
    "        for i in range(num_users):\n",
    "                # 將用戶 i 的真實標籤轉換為 PyTorch 張量。\n",
    "                labels = torch.from_numpy(np.array(labels_list[i], dtype=np.int64))#.to('cuda')\n",
    "                # 計算用戶 i 在預測機率矩陣中機率最高的 K 個項目的索引。\n",
    "                top_k_item_labels = torch.topk(predictions[i], k)[1]\n",
    "                # 計算用戶 i 的真實標籤和預測標籤的交集。 # TP\n",
    "                true_positives = torch.sum(torch.sum(torch.eq(top_k_item_labels, labels.unsqueeze(1)).to(torch.float32), dim=1)).item()\n",
    "                # 計算用戶 i 的真實標籤和預測標籤的並集。\n",
    "                predicted_positives = k # TP+FP\n",
    "                actual_positives = len(labels) # TP+FN\n",
    "                if actual_positives == 0:\n",
    "                    precision = 0.0\n",
    "                    recall = 0.0\n",
    "                else:\n",
    "                    precision = true_positives / predicted_positives\n",
    "                    recall = true_positives / actual_positives\n",
    "                # 計算 F1-score。\n",
    "                if precision + recall == 0:\n",
    "                    f1_score = 0.0\n",
    "                else:\n",
    "                    f1_score = 2 * precision * recall / (precision + recall)\n",
    "                f1_score_sum += f1_score\n",
    "                recall_sum += recall\n",
    "                precision_sum += precision\n",
    "        # 計算平均 F1-score@K 分數。\n",
    "        f1_score_at_k = f1_score_sum / float(num_users)\n",
    "        key = '{}@{}'.format('F1-score',k)\n",
    "        f1_score_at_k_eval[key]=f1_score_at_k\n",
    "        \n",
    "        recall_at_k = recall_sum / float(num_users)\n",
    "        key = '{}@{}'.format('Recall',k)\n",
    "        recall_at_k_eval[key]=recall_at_k\n",
    "        \n",
    "        precision_at_k = precision_sum / float(num_users)\n",
    "        key = '{}@{}'.format('Precision',k)\n",
    "        precision_at_k_eval[key]=precision_at_k\n",
    "        \n",
    "    return f1_score_at_k_eval, recall_at_k_eval, precision_at_k_eval"
   ]
  },
  {
   "cell_type": "markdown",
   "id": "7a62e151",
   "metadata": {},
   "source": [
    "# NDCG"
   ]
  },
  {
   "cell_type": "code",
   "execution_count": 26,
   "id": "655e6035",
   "metadata": {},
   "outputs": [],
   "source": [
    "# NDCG@K\n",
    "def calculate_ndcg_at_k(predictions, labels_list, k_list, k_labels_list):\n",
    "    # 將預測機率矩陣轉換為 PyTorch 張量。\n",
    "    predictions = torch.from_numpy(np.array(predictions, dtype=np.float32))\n",
    "    num_users = len(labels_list)\n",
    "    ndcg_at_k_eval = dict()\n",
    "    \n",
    "    for k in k_list:\n",
    "        ndcg_sum = 0.0\n",
    "        for i in range(num_users):\n",
    "            # 將用戶 i 的真實標籤轉換為 PyTorch 張量。\n",
    "            labels = torch.from_numpy(np.array(labels_list[i], dtype=np.int64))\n",
    "            # 計算用戶 i 在預測機率矩陣中機率最高的 K 個項目的索引=標籤。\n",
    "            top_k_item_labels = torch.topk(predictions[i], k)[1]\n",
    "            # 計算 DCG@K。\n",
    "            dcg_at_k = torch.sum(torch.div(1.0, torch.log2(torch.arange(k, dtype=torch.float32) + 2)) * (torch.eq(top_k_item_labels, labels.unsqueeze(1)).to(torch.float32) ))\n",
    "            # 計算 IDCG@K。\n",
    "            idcg_at_k = torch.sum(torch.div(1.0, torch.log2(torch.arange(len(labels), dtype=torch.float32) + 2)))\n",
    "            #idcg_at_k = torch.sum(torch.div(1.0, torch.log2(torch.arange(min(k, len(labels)), dtype=torch.float32) + 2)))\n",
    "            # 計算 NDCG@K。\n",
    "            ndcg_at_k = (dcg_at_k / idcg_at_k) * (k_labels_list[i] / (k_labels_list[i]+abs(k_labels_list[i]-k)))\n",
    "            ndcg_sum += ndcg_at_k.item()\n",
    "        # 計算平均 NDCG@K 分數。\n",
    "        ndcg_at_k = ndcg_sum / float(num_users)\n",
    "        key = '{}@{}'.format('NDCG',k)\n",
    "        ndcg_at_k_eval[key]=ndcg_at_k\n",
    "        \n",
    "\n",
    "    return ndcg_at_k_eval"
   ]
  },
  {
   "cell_type": "markdown",
   "id": "0427fec7",
   "metadata": {},
   "source": [
    "# MAE"
   ]
  },
  {
   "cell_type": "code",
   "execution_count": 27,
   "id": "24ed1c84",
   "metadata": {},
   "outputs": [],
   "source": [
    "def calculate_mae_at_k(k_list, size_targets):\n",
    "    num_users = len(size_targets)\n",
    "    mae_eval = dict()\n",
    "    for k in k_list:\n",
    "        mae_sum = 0.0\n",
    "        for i in range(num_users):\n",
    "            mae_sum += abs(k - size_targets[i].item())\n",
    "        key = \"{}@{}\".format(\"MAE\", k)\n",
    "        mae_eval[key] = mae_sum / float(num_users)\n",
    "        \n",
    "    return mae_eval"
   ]
  },
  {
   "cell_type": "markdown",
   "id": "67977dc5",
   "metadata": {},
   "source": [
    "# 訓練&測試"
   ]
  },
  {
   "cell_type": "code",
   "execution_count": 28,
   "id": "90ea96e4",
   "metadata": {},
   "outputs": [],
   "source": [
    "# 訓練模型\n",
    "def train_model():\n",
    "    my_model.train()\n",
    "    loss_list = []\n",
    "    \n",
    "    for batch_idx, (userID, basket_input, basket_label, size_input, size_label) in enumerate(tqdm(train_dataloader)):\n",
    "        optimizer.zero_grad()\n",
    "        basket_output = my_model(basket_input, size_input)\n",
    "        # 計算損失\n",
    "        loss = cross_entropy_loss(basket_output, basket_label)\n",
    "        loss_list.append(loss.item())\n",
    "        loss.backward()\n",
    "        optimizer.step()\n",
    "        \n",
    "        if (batch_idx%100 == 0) or (batch_idx == len(train_dataloader)-1):\n",
    "            precentage = (100 * batch_idx/len(train_dataloader))\n",
    "            print(f\"Epoch {epoch}: {precentage:.0f}%, loss: {loss.item():.6f}\")\n",
    "            \n",
    "        with torch.no_grad():\n",
    "            basket_output = torch.from_numpy(np.array(basket_output.cpu(), dtype=np.float32))\n",
    "            if batch_idx == 0:\n",
    "                basket_outputs = basket_output\n",
    "                basket_labels = basket_label\n",
    "                size_labels_list = size_label\n",
    "            else:\n",
    "                basket_outputs = torch.cat( (basket_outputs, basket_output),-2 )\n",
    "                basket_labels = basket_labels + basket_label\n",
    "                size_labels_list = size_labels_list + size_label\n",
    "                \n",
    "    with torch.no_grad():\n",
    "        f1, recall, precision  = calculate_f1_score_at_k(basket_outputs, basket_labels, [5,10,20,40]) \n",
    "        res_str = '(' + format_metric(recall) + ')'\n",
    "        print(f\"                      {res_str}\\n\")\n",
    "        res_str = '(' + format_metric(precision) + ')'\n",
    "        print(f\"                      {res_str}\\n\")\n",
    "        res_str = '(' + format_metric(f1) + ')'\n",
    "        print(f\"                      {res_str}\\n\")\n",
    "\n",
    "        evaluations = calculate_ndcg_at_k(basket_outputs, basket_labels, [5,10,20,40], size_labels_list) \n",
    "        res_str = '(' + format_metric(evaluations) + ')'\n",
    "        print(f\"                      {res_str}\\n\")\n",
    "\n",
    "        evaluations = calculate_mae_at_k([5,10,20,40], size_labels_list)\n",
    "        res_str = '(' + format_metric(evaluations) + ')'\n",
    "        print(f\"                      {res_str}\\n\")\n",
    "        \n",
    "    return torch.mean(torch.tensor(loss_list))"
   ]
  },
  {
   "cell_type": "code",
   "execution_count": 29,
   "id": "4a21f208",
   "metadata": {},
   "outputs": [],
   "source": [
    "# 驗證模型\n",
    "def evaluate_model():\n",
    "    my_model.eval()\n",
    "    loss_list = []\n",
    "    for batch_idx, (userID, basket_input, basket_label, size_input, size_label) in enumerate(tqdm(valid_dataloader)):\n",
    "        basket_output = my_model(basket_input, size_input)\n",
    "        # 計算損失\n",
    "        loss = cross_entropy_loss(basket_output, basket_label)\n",
    "        loss_list.append(loss.item())\n",
    "        \n",
    "        with torch.no_grad():\n",
    "            basket_output = torch.from_numpy(np.array(basket_output.cpu(), dtype=np.float32))\n",
    "            if batch_idx == 0:\n",
    "                basket_outputs = basket_output\n",
    "                basket_labels = basket_label\n",
    "                size_labels_list = size_label\n",
    "            else:\n",
    "                basket_outputs = torch.cat( (basket_outputs, basket_output),-2 )\n",
    "                basket_labels = basket_labels + basket_label\n",
    "                size_labels_list = size_labels_list + size_label\n",
    "        \n",
    "    with torch.no_grad():\n",
    "        f1, recall, precision = calculate_f1_score_at_k(basket_outputs, basket_labels, [5,10,20,40]) \n",
    "        res_str = '(' + format_metric(recall) + ')'\n",
    "        print(f\"                      {res_str}\\n\")\n",
    "        res_str = '(' + format_metric(precision) + ')'\n",
    "        print(f\"                      {res_str}\\n\")\n",
    "        res_str = '(' + format_metric(f1) + ')'\n",
    "        print(f\"                      {res_str}\\n\")\n",
    "\n",
    "        evaluations = calculate_ndcg_at_k(basket_outputs, basket_labels, [5,10,20,40], size_labels_list) \n",
    "        res_str = '(' + format_metric(evaluations) + ')'\n",
    "        print(f\"                      {res_str}\\n\")\n",
    "\n",
    "        evaluations = calculate_mae_at_k([5,10,20,40], size_labels_list)\n",
    "        print(evaluations)\n",
    "        res_str = '(' + format_metric(evaluations) + ')'\n",
    "        print(f\"                      {res_str}\\n\")\n",
    "        \n",
    "    return torch.mean(torch.tensor(loss_list))"
   ]
  },
  {
   "cell_type": "code",
   "execution_count": 30,
   "id": "84ebc77b",
   "metadata": {},
   "outputs": [],
   "source": [
    "# 測試模型\n",
    "def test_model():\n",
    "    my_model.eval()\n",
    "    loss_list = []\n",
    "    for batch_idx, (userID, basket_input, basket_label, size_input, size_label) in enumerate(tqdm(test_dataloader)):\n",
    "        basket_output = my_model(basket_input, size_input)\n",
    "        # 計算損失\n",
    "        loss = cross_entropy_loss(basket_output, basket_label)\n",
    "        loss_list.append(loss.item())\n",
    "        \n",
    "        with torch.no_grad():\n",
    "            basket_output = torch.from_numpy(np.array(basket_output.cpu(), dtype=np.float32))\n",
    "            if batch_idx == 0:\n",
    "                basket_outputs = basket_output\n",
    "                basket_labels = basket_label\n",
    "                size_labels_list = size_label\n",
    "            else:\n",
    "                basket_outputs = torch.cat( (basket_outputs, basket_output),-2 )\n",
    "                basket_labels = basket_labels + basket_label\n",
    "                size_labels_list = size_labels_list + size_label\n",
    "    \n",
    "    with torch.no_grad():\n",
    "        f1, recall, precision = calculate_f1_score_at_k(basket_outputs, basket_labels, [5,10,20,40])\n",
    "        res_str = '(' + format_metric(recall) + ')'\n",
    "        print(f\"                      {res_str}\\n\")\n",
    "        res_str = '(' + format_metric(precision) + ')'\n",
    "        print(f\"                      {res_str}\\n\")\n",
    "        res_str = '(' + format_metric(f1) + ')'\n",
    "        print(f\"                      {res_str}\\n\")\n",
    "        \n",
    "        ndcg = calculate_ndcg_at_k(basket_outputs, basket_labels, [5,10,20,40], size_labels_list)\n",
    "        res_str = '(' + format_metric(ndcg) + ')'\n",
    "        print(f\"                      {res_str}\\n\")\n",
    "        \n",
    "        mae = calculate_mae_at_k([5,10,20,40], size_labels_list)\n",
    "        res_str = '(' + format_metric(mae) + ')'\n",
    "        print(f\"                      {res_str}\\n\")\n",
    "        \n",
    "    return torch.mean(torch.tensor(loss_list)), recall, precision, f1, ndcg, mae"
   ]
  },
  {
   "cell_type": "markdown",
   "id": "cb840be7",
   "metadata": {},
   "source": [
    "## MC"
   ]
  },
  {
   "cell_type": "code",
   "execution_count": 31,
   "id": "5f7d4dbf",
   "metadata": {},
   "outputs": [],
   "source": [
    "def create_transition_matrix(baskets, items):\n",
    "    # 統計所有項目在前一個購物籃和下一個購物籃中出現的次數，\n",
    "    # 以及在前一個購物籃中出現的總次數\n",
    "    cooccur_counts = {}\n",
    "    prev_basket_counts = {}\n",
    "    for user_baskets in baskets:\n",
    "        for i in range(1, len(user_baskets)):\n",
    "            prev_basket = user_baskets[i-1]\n",
    "            cur_basket = user_baskets[i]\n",
    "            for item1 in prev_basket:\n",
    "                if item1 not in prev_basket_counts:\n",
    "                    prev_basket_counts[item1] = 0\n",
    "                prev_basket_counts[item1] += 1\n",
    "                for item2 in cur_basket:\n",
    "                    if item2 not in cooccur_counts:\n",
    "                        cooccur_counts[item2] = {}\n",
    "                    if item1 not in cooccur_counts[item2]:\n",
    "                        cooccur_counts[item2][item1] = 0\n",
    "                    cooccur_counts[item2][item1] += 1\n",
    "\n",
    "    # 將統計數據轉換為轉移矩陣\n",
    "    # items = sorted(list(prev_basket_counts.keys()))\n",
    "    num_items = len(items)\n",
    "    transition_matrix = np.zeros((num_items, num_items))\n",
    "    for i, item1 in tqdm(enumerate(items)):\n",
    "        for j, item2 in enumerate(items):\n",
    "            if item2 in cooccur_counts and item1 in cooccur_counts[item2]:\n",
    "                cooccur_count = cooccur_counts[item2][item1]\n",
    "                prev_basket_count = prev_basket_counts[item1]\n",
    "                transition_matrix[i, j] = cooccur_count / prev_basket_count\n",
    "    return transition_matrix"
   ]
  },
  {
   "cell_type": "code",
   "execution_count": 32,
   "id": "adf1a62e",
   "metadata": {},
   "outputs": [],
   "source": [
    "def predict_next_basket(users_baskets, transition_matrix, items, top_n=50):\n",
    "    num_users = len(users_baskets)\n",
    "    num_items = len(items)\n",
    "    predictions = []\n",
    "    pred_label = []\n",
    "    for i in range(num_users):\n",
    "        last_basket = users_baskets[i][-1] # 第i個用戶的最後一個購物籃\n",
    "        cur_prediction = np.zeros(num_items)\n",
    "        prev_item_idx = np.array([prev_item for prev_item in last_basket])\n",
    "        for j in range(num_items):\n",
    "            prob = np.sum(transition_matrix[prev_item_idx, j])\n",
    "            cur_prediction[j] = prob * (1/len(last_basket))\n",
    "        predictions.append(cur_prediction)\n",
    "    return predictions"
   ]
  },
  {
   "cell_type": "code",
   "execution_count": 33,
   "id": "16f09b67",
   "metadata": {},
   "outputs": [],
   "source": [
    "mc_item = dataset[\"NEW_ITEM_ID\"].unique() # 所有項目"
   ]
  },
  {
   "cell_type": "code",
   "execution_count": 34,
   "id": "ac07b932",
   "metadata": {},
   "outputs": [],
   "source": [
    "train_list = []\n",
    "for batch_idx, (userID, basket_input, basket_label, size_input, size_label) in enumerate(train_dataloader):\n",
    "    for i in basket_input:\n",
    "        train_list.append(i)"
   ]
  },
  {
   "cell_type": "code",
   "execution_count": 35,
   "id": "93d80812",
   "metadata": {
    "scrolled": false
   },
   "outputs": [
    {
     "name": "stderr",
     "output_type": "stream",
     "text": [
      "3977it [00:08, 460.09it/s]\n"
     ]
    },
    {
     "name": "stdout",
     "output_type": "stream",
     "text": [
      "transition_matrix_size=tensor([[4.9331e-01, 1.7596e-01, 1.4860e-01,  ..., 0.0000e+00, 0.0000e+00,\n",
      "         0.0000e+00],\n",
      "        [3.0044e-01, 5.3527e-01, 1.1185e-01,  ..., 7.2727e-05, 0.0000e+00,\n",
      "         0.0000e+00],\n",
      "        [2.9196e-01, 1.2664e-01, 4.9520e-01,  ..., 0.0000e+00, 0.0000e+00,\n",
      "         8.3535e-05],\n",
      "        ...,\n",
      "        [0.0000e+00, 0.0000e+00, 0.0000e+00,  ..., 0.0000e+00, 0.0000e+00,\n",
      "         0.0000e+00],\n",
      "        [3.3333e-01, 3.3333e-01, 3.3333e-01,  ..., 0.0000e+00, 0.0000e+00,\n",
      "         0.0000e+00],\n",
      "        [0.0000e+00, 0.0000e+00, 0.0000e+00,  ..., 0.0000e+00, 0.0000e+00,\n",
      "         0.0000e+00]], device='cuda:0', dtype=torch.float64)\n"
     ]
    }
   ],
   "source": [
    "# 建立所有用戶共用的轉移矩陣\n",
    "\n",
    "transition_matrix= create_transition_matrix(train_list, mc_item)\n",
    "transition_array = torch.tensor(transition_matrix, dtype=torch.float64).to(device)\n",
    "print(f\"transition_matrix_size={transition_array}\")"
   ]
  },
  {
   "cell_type": "markdown",
   "id": "412698b2",
   "metadata": {},
   "source": [
    "# 完整模型"
   ]
  },
  {
   "cell_type": "code",
   "execution_count": 36,
   "id": "bfd2fd08",
   "metadata": {},
   "outputs": [
    {
     "name": "stdout",
     "output_type": "stream",
     "text": [
      "items_count= 3977\n",
      "tensor([1.8808e+00, 2.1423e-01, 4.4003e-01,  ..., 1.5087e-03, 2.0116e-03,\n",
      "        2.2630e-03], device='cuda:0', dtype=torch.float64)\n"
     ]
    }
   ],
   "source": [
    "# 項目總數\n",
    "items_count = confidences.shape[0]\n",
    "print(\"items_count=\", items_count)\n",
    "# 項目出現次數\n",
    "items_freq = Counter(dataset[\"NEW_ITEM_ID\"])\n",
    "# 計算每個項目出現的比例: items_frq/items_count\n",
    "item_weight = torch.tensor(np.array(list(items_freq.values()))/items_count).to(device)\n",
    "# 按照new_item_id順序排列\n",
    "print(item_weight)"
   ]
  },
  {
   "cell_type": "markdown",
   "id": "cf3508db",
   "metadata": {},
   "source": [
    "# 加上信賴度矩陣"
   ]
  },
  {
   "cell_type": "code",
   "execution_count": 37,
   "id": "90d93488",
   "metadata": {},
   "outputs": [
    {
     "data": {
      "text/plain": [
       "tensor([[0.0000e+00, 1.8799e-01, 1.5731e-01,  ..., 0.0000e+00, 2.5994e-05,\n",
       "         2.5994e-05],\n",
       "        [3.2452e-01, 0.0000e+00, 5.6406e-02,  ..., 4.4873e-05, 8.9746e-05,\n",
       "         0.0000e+00],\n",
       "        [3.1283e-01, 6.4975e-02, 0.0000e+00,  ..., 1.0338e-04, 5.1690e-05,\n",
       "         0.0000e+00],\n",
       "        ...,\n",
       "        [0.0000e+00, 2.5000e-01, 5.0000e-01,  ..., 0.0000e+00, 0.0000e+00,\n",
       "         0.0000e+00],\n",
       "        [2.5000e-01, 5.0000e-01, 2.5000e-01,  ..., 0.0000e+00, 0.0000e+00,\n",
       "         0.0000e+00],\n",
       "        [2.5000e-01, 0.0000e+00, 0.0000e+00,  ..., 0.0000e+00, 0.0000e+00,\n",
       "         0.0000e+00]], device='cuda:0', dtype=torch.float64)"
      ]
     },
     "execution_count": 37,
     "metadata": {},
     "output_type": "execute_result"
    }
   ],
   "source": [
    "# 信賴度矩陣\n",
    "confidences_array = torch.tensor(confidences, dtype=torch.float64).to(device)\n",
    "confidences_array"
   ]
  },
  {
   "cell_type": "code",
   "execution_count": 38,
   "id": "df3b55d7",
   "metadata": {},
   "outputs": [],
   "source": [
    "# 消融實驗 w/o size\n",
    "class MyModel02(nn.Module):\n",
    "    def __init__(self, embed_dim, model_dim, hidden_dim, items_count):\n",
    "        super(MyModel02, self).__init__()\n",
    "        self.model_dim = model_dim\n",
    "        self.embedding = nn.Embedding.from_pretrained(weights, freeze=False)\n",
    "        self.embedding.requires_grad=True\n",
    "        self.basket_embed = SelfAttention(embed_dim=embed_dim, model_dim=model_dim)\n",
    "        self.model_encoder = TransformerEncoder(d_model=model_dim, num_heads=NUM_HEAD, num_layers=NUM_LAYER)\n",
    "        # 嵌入維度、隱藏層維度、總項目數量\n",
    "        self.basket_mlp = MLPforItem(model_dim, hidden_dim, items_count)\n",
    "        self.relu = nn.ReLU()\n",
    "        \n",
    "    def forward(self, basket_input, size_input):\n",
    "        basket_list, size_list, attention_mask, k_list = [], [], [], []\n",
    "        output_list = []\n",
    "        \n",
    "        # 為每個用戶的購物籃加上 padding跟 mask\n",
    "        for user in basket_input:\n",
    "            # 將購物籃項目 ID 轉換為嵌入向量\n",
    "            batch_features = [ self.embedding(torch.tensor(cart).to(device)) for cart in user ]\n",
    "            # 進行 padding\n",
    "            batch_features = rnn_utils.pad_sequence(batch_features, batch_first=True, padding_value=0)\n",
    "            # 購物籃中項目的遮罩\n",
    "            mask = ~batch_features.sum(dim=-1).ne(0)\n",
    "            basket_list.append(batch_features)\n",
    "            attention_mask.append(mask)\n",
    "        \n",
    "            \n",
    "        # 進入自注意力，輸出形狀(BATCH_SIZE, basket_size, embed_dim)\n",
    "        basket_embedding_list = []\n",
    "        for i, user_inputs in enumerate(basket_list):\n",
    "            basket_embedding_list.append(self.basket_embed(user_inputs, attention_mask[i]))\n",
    "        \n",
    "        # 進行購物籃的 padding\n",
    "        input_seq = rnn_utils.pad_sequence(basket_embedding_list, batch_first=True, padding_value=0)\n",
    "        \n",
    "        # 進入Transformer\n",
    "        basket_embed = self.model_encoder(input_seq.to(device))\n",
    "        \n",
    "        B_s_list = []\n",
    "        \n",
    "        for i, b in enumerate(basket_embed):\n",
    "            basket_size = len(attention_mask[i])\n",
    "            B_s = b[basket_size-1]  # 取得最後一個購物籃向量\n",
    "            B_s_list.append(B_s)\n",
    "        \n",
    "        # 進入basket MLP層\n",
    "        p = self.basket_mlp(torch.stack(B_s_list, dim=0))\n",
    "        predictions = predict_next_basket(basket_input, transition_matrix, list(mc_item), 10)\n",
    "        mc_predictions = torch.tensor(np.array(predictions), dtype=torch.float64).to(device)\n",
    "        pc = (self.relu(p.to(torch.float64))+1e-8) @ confidences_array\n",
    "        pw = torch.mul( p, item_weight )\n",
    "        \n",
    "        # z-score for mc_predictions\n",
    "        mc_mean = mc_predictions.mean(dim=1, keepdim = True)\n",
    "        mc_std = mc_predictions.std(dim=1, keepdim =True)\n",
    "        mc_z_score = (mc_predictions - mc_mean) / mc_std\n",
    "        \n",
    "        # z-score for mc_predictions\n",
    "        tr_predictions = torch.add(pc, pw) + p.to(torch.float64)\n",
    "        tr_mean = tr_predictions.mean(dim=1, keepdim = True)\n",
    "        tr_std = tr_predictions.std(dim=1, keepdim =True)\n",
    "        tr_z_score = (tr_predictions - tr_mean) / tr_std\n",
    "        \n",
    "        p_ = torch.mul(BETA, tr_predictions) + torch.mul((1-BETA), mc_z_score + tr_z_score)\n",
    "        \n",
    "        return p_"
   ]
  },
  {
   "cell_type": "code",
   "execution_count": 39,
   "id": "d5922dc5",
   "metadata": {},
   "outputs": [
    {
     "data": {
      "text/plain": [
       "MyModel02(\n",
       "  (embedding): Embedding(3977, 32)\n",
       "  (basket_embed): SelfAttention(\n",
       "    (query_matrix): Linear(in_features=32, out_features=32, bias=True)\n",
       "    (key_matrix): Linear(in_features=32, out_features=32, bias=True)\n",
       "    (value_matrix): Linear(in_features=32, out_features=32, bias=True)\n",
       "    (multihead_attn): MultiheadAttention(\n",
       "      (out_proj): NonDynamicallyQuantizableLinear(in_features=32, out_features=32, bias=True)\n",
       "    )\n",
       "  )\n",
       "  (model_encoder): TransformerEncoder(\n",
       "    (pe): PositionalEncoding(\n",
       "      (dropout): Dropout(p=0.5, inplace=False)\n",
       "    )\n",
       "    (transformer): TransformerEncoder(\n",
       "      (layers): ModuleList(\n",
       "        (0-3): 4 x TransformerEncoderLayer(\n",
       "          (self_attn): MultiheadAttention(\n",
       "            (out_proj): NonDynamicallyQuantizableLinear(in_features=32, out_features=32, bias=True)\n",
       "          )\n",
       "          (linear1): Linear(in_features=32, out_features=2048, bias=True)\n",
       "          (dropout): Dropout(p=0.1, inplace=False)\n",
       "          (linear2): Linear(in_features=2048, out_features=32, bias=True)\n",
       "          (norm1): LayerNorm((32,), eps=1e-05, elementwise_affine=True)\n",
       "          (norm2): LayerNorm((32,), eps=1e-05, elementwise_affine=True)\n",
       "          (dropout1): Dropout(p=0.1, inplace=False)\n",
       "          (dropout2): Dropout(p=0.1, inplace=False)\n",
       "        )\n",
       "      )\n",
       "    )\n",
       "  )\n",
       "  (basket_mlp): MLPforItem(\n",
       "    (hidden): Linear(in_features=32, out_features=128, bias=True)\n",
       "    (norm): BatchNorm1d(128, eps=1e-05, momentum=0.03, affine=True, track_running_stats=True)\n",
       "    (relu): ReLU()\n",
       "    (output): Linear(in_features=128, out_features=3977, bias=True)\n",
       "    (softmax): Softmax(dim=0)\n",
       "  )\n",
       "  (relu): ReLU()\n",
       ")"
      ]
     },
     "execution_count": 39,
     "metadata": {},
     "output_type": "execute_result"
    }
   ],
   "source": [
    "my_model = MyModel02(embed_dim=EMBEDDING_DIMENSION, model_dim=MODEL_DIMENSION, hidden_dim=HIDDEN_DIMENSION, items_count=items_count).to(device)\n",
    "optimizer = torch.optim.Adam(my_model.parameters(), lr=LEARNING_RATE)\n",
    "my_model.train()"
   ]
  },
  {
   "cell_type": "code",
   "execution_count": 40,
   "id": "f3ea8f62",
   "metadata": {
    "scrolled": false
   },
   "outputs": [
    {
     "name": "stderr",
     "output_type": "stream",
     "text": [
      "  0%|          | 1/1913 [00:01<42:28,  1.33s/it]"
     ]
    },
    {
     "name": "stdout",
     "output_type": "stream",
     "text": [
      "Epoch 1: 0%, loss: 0.811081\n"
     ]
    },
    {
     "name": "stderr",
     "output_type": "stream",
     "text": [
      "  5%|▌         | 101/1913 [00:56<17:58,  1.68it/s]"
     ]
    },
    {
     "name": "stdout",
     "output_type": "stream",
     "text": [
      "Epoch 1: 5%, loss: 0.806153\n"
     ]
    },
    {
     "name": "stderr",
     "output_type": "stream",
     "text": [
      " 11%|█         | 201/1913 [01:57<18:47,  1.52it/s]"
     ]
    },
    {
     "name": "stdout",
     "output_type": "stream",
     "text": [
      "Epoch 1: 10%, loss: 0.808966\n"
     ]
    },
    {
     "name": "stderr",
     "output_type": "stream",
     "text": [
      " 16%|█▌        | 301/1913 [02:59<18:12,  1.47it/s]"
     ]
    },
    {
     "name": "stdout",
     "output_type": "stream",
     "text": [
      "Epoch 1: 16%, loss: 0.807159\n"
     ]
    },
    {
     "name": "stderr",
     "output_type": "stream",
     "text": [
      " 21%|██        | 401/1913 [04:01<15:41,  1.61it/s]"
     ]
    },
    {
     "name": "stdout",
     "output_type": "stream",
     "text": [
      "Epoch 1: 21%, loss: 0.806481\n"
     ]
    },
    {
     "name": "stderr",
     "output_type": "stream",
     "text": [
      " 26%|██▌       | 501/1913 [05:07<17:22,  1.35it/s]"
     ]
    },
    {
     "name": "stdout",
     "output_type": "stream",
     "text": [
      "Epoch 1: 26%, loss: 0.801363\n"
     ]
    },
    {
     "name": "stderr",
     "output_type": "stream",
     "text": [
      " 31%|███▏      | 601/1913 [06:11<12:42,  1.72it/s]"
     ]
    },
    {
     "name": "stdout",
     "output_type": "stream",
     "text": [
      "Epoch 1: 31%, loss: 0.792108\n"
     ]
    },
    {
     "name": "stderr",
     "output_type": "stream",
     "text": [
      " 37%|███▋      | 701/1913 [07:16<14:01,  1.44it/s]"
     ]
    },
    {
     "name": "stdout",
     "output_type": "stream",
     "text": [
      "Epoch 1: 37%, loss: 0.801377\n"
     ]
    },
    {
     "name": "stderr",
     "output_type": "stream",
     "text": [
      " 42%|████▏     | 801/1913 [08:24<13:14,  1.40it/s]"
     ]
    },
    {
     "name": "stdout",
     "output_type": "stream",
     "text": [
      "Epoch 1: 42%, loss: 0.790699\n"
     ]
    },
    {
     "name": "stderr",
     "output_type": "stream",
     "text": [
      " 47%|████▋     | 901/1913 [09:31<11:30,  1.47it/s]"
     ]
    },
    {
     "name": "stdout",
     "output_type": "stream",
     "text": [
      "Epoch 1: 47%, loss: 0.785913\n"
     ]
    },
    {
     "name": "stderr",
     "output_type": "stream",
     "text": [
      " 52%|█████▏    | 1001/1913 [10:37<11:22,  1.34it/s]"
     ]
    },
    {
     "name": "stdout",
     "output_type": "stream",
     "text": [
      "Epoch 1: 52%, loss: 0.772090\n"
     ]
    },
    {
     "name": "stderr",
     "output_type": "stream",
     "text": [
      " 58%|█████▊    | 1101/1913 [11:40<08:18,  1.63it/s]"
     ]
    },
    {
     "name": "stdout",
     "output_type": "stream",
     "text": [
      "Epoch 1: 58%, loss: 0.765734\n"
     ]
    },
    {
     "name": "stderr",
     "output_type": "stream",
     "text": [
      " 63%|██████▎   | 1201/1913 [12:42<07:29,  1.59it/s]"
     ]
    },
    {
     "name": "stdout",
     "output_type": "stream",
     "text": [
      "Epoch 1: 63%, loss: 0.747860\n"
     ]
    },
    {
     "name": "stderr",
     "output_type": "stream",
     "text": [
      " 68%|██████▊   | 1301/1913 [13:48<07:08,  1.43it/s]"
     ]
    },
    {
     "name": "stdout",
     "output_type": "stream",
     "text": [
      "Epoch 1: 68%, loss: 0.749637\n"
     ]
    },
    {
     "name": "stderr",
     "output_type": "stream",
     "text": [
      " 73%|███████▎  | 1401/1913 [14:54<05:17,  1.61it/s]"
     ]
    },
    {
     "name": "stdout",
     "output_type": "stream",
     "text": [
      "Epoch 1: 73%, loss: 0.733231\n"
     ]
    },
    {
     "name": "stderr",
     "output_type": "stream",
     "text": [
      " 78%|███████▊  | 1501/1913 [16:00<04:22,  1.57it/s]"
     ]
    },
    {
     "name": "stdout",
     "output_type": "stream",
     "text": [
      "Epoch 1: 78%, loss: 0.735594\n"
     ]
    },
    {
     "name": "stderr",
     "output_type": "stream",
     "text": [
      " 84%|████████▎ | 1601/1913 [17:08<03:38,  1.43it/s]"
     ]
    },
    {
     "name": "stdout",
     "output_type": "stream",
     "text": [
      "Epoch 1: 84%, loss: 0.738273\n"
     ]
    },
    {
     "name": "stderr",
     "output_type": "stream",
     "text": [
      " 89%|████████▉ | 1701/1913 [18:17<02:18,  1.53it/s]"
     ]
    },
    {
     "name": "stdout",
     "output_type": "stream",
     "text": [
      "Epoch 1: 89%, loss: 0.725760\n"
     ]
    },
    {
     "name": "stderr",
     "output_type": "stream",
     "text": [
      " 94%|█████████▍| 1801/1913 [19:26<01:14,  1.50it/s]"
     ]
    },
    {
     "name": "stdout",
     "output_type": "stream",
     "text": [
      "Epoch 1: 94%, loss: 0.795110\n"
     ]
    },
    {
     "name": "stderr",
     "output_type": "stream",
     "text": [
      " 99%|█████████▉| 1901/1913 [20:35<00:07,  1.52it/s]"
     ]
    },
    {
     "name": "stdout",
     "output_type": "stream",
     "text": [
      "Epoch 1: 99%, loss: 0.724874\n"
     ]
    },
    {
     "name": "stderr",
     "output_type": "stream",
     "text": [
      "100%|██████████| 1913/1913 [20:43<00:00,  1.54it/s]"
     ]
    },
    {
     "name": "stdout",
     "output_type": "stream",
     "text": [
      "Epoch 1: 100%, loss: 0.723497\n"
     ]
    },
    {
     "name": "stderr",
     "output_type": "stream",
     "text": [
      "\n"
     ]
    },
    {
     "name": "stdout",
     "output_type": "stream",
     "text": [
      "                      (Recall@5: 0.0719, Recall@10: 0.1063, Recall@20: 0.1547, Recall@40: 0.2214)\n",
      "\n",
      "                      (Precision@5: 0.1327, Precision@10: 0.1011, Precision@20: 0.0745, Precision@40: 0.0550)\n",
      "\n",
      "                      (F1-score@5: 0.0842, F1-score@10: 0.0928, F1-score@20: 0.0913, F1-score@40: 0.0819)\n",
      "\n",
      "                      (NDCG@5: 0.0684, NDCG@10: 0.0799, NDCG@20: 0.0734, NDCG@40: 0.0501)\n",
      "\n",
      "                      (MAE@5: 6.2710, MAE@10: 5.8468, MAE@20: 11.0292, MAE@40: 29.5385)\n",
      "\n",
      "train_loss= tensor(0.7714)\n",
      "--------------------\n"
     ]
    },
    {
     "name": "stderr",
     "output_type": "stream",
     "text": [
      "100%|██████████| 239/239 [02:05<00:00,  1.91it/s]\n"
     ]
    },
    {
     "name": "stdout",
     "output_type": "stream",
     "text": [
      "                      (Recall@5: 0.0764, Recall@10: 0.1194, Recall@20: 0.1848, Recall@40: 0.2533)\n",
      "\n",
      "                      (Precision@5: 0.1340, Precision@10: 0.1057, Precision@20: 0.0842, Precision@40: 0.0626)\n",
      "\n",
      "                      (F1-score@5: 0.0879, F1-score@10: 0.1000, F1-score@20: 0.1048, F1-score@40: 0.0933)\n",
      "\n",
      "                      (NDCG@5: 0.0603, NDCG@10: 0.0706, NDCG@20: 0.0700, NDCG@40: 0.0498)\n",
      "\n",
      "{'MAE@5': 6.01673640167364, 'MAE@10': 5.843096234309623, 'MAE@20': 11.091004184100418, 'MAE@40': 29.77510460251046}\n",
      "                      (MAE@5: 6.0167, MAE@10: 5.8431, MAE@20: 11.0910, MAE@40: 29.7751)\n",
      "\n",
      "val_loss= tensor(0.7228)\n",
      "--------------------\n"
     ]
    },
    {
     "name": "stderr",
     "output_type": "stream",
     "text": [
      "100%|██████████| 239/239 [02:00<00:00,  1.99it/s]\n"
     ]
    },
    {
     "name": "stdout",
     "output_type": "stream",
     "text": [
      "                      (Recall@5: 0.0748, Recall@10: 0.1149, Recall@20: 0.1818, Recall@40: 0.2529)\n",
      "\n",
      "                      (Precision@5: 0.1378, Precision@10: 0.1076, Precision@20: 0.0870, Precision@40: 0.0641)\n",
      "\n",
      "                      (F1-score@5: 0.0879, F1-score@10: 0.0999, F1-score@20: 0.1073, F1-score@40: 0.0954)\n",
      "\n",
      "                      (NDCG@5: 0.0586, NDCG@10: 0.0723, NDCG@20: 0.0734, NDCG@40: 0.0512)\n",
      "\n",
      "                      (MAE@5: 6.2735, MAE@10: 5.7777, MAE@20: 10.7641, MAE@40: 29.4367)\n",
      "\n",
      "--------------------\n",
      "[[1, 0.15607632917366082, 0.09910760983263528, 0.09764014896938174, 0.0638703563560271, 13.0630230125523, 0.722453773021698]]\n",
      "-----------------------------------------------------------------------------------------\n"
     ]
    },
    {
     "name": "stderr",
     "output_type": "stream",
     "text": [
      "  0%|          | 1/1913 [00:00<18:32,  1.72it/s]"
     ]
    },
    {
     "name": "stdout",
     "output_type": "stream",
     "text": [
      "Epoch 2: 0%, loss: 0.722221\n"
     ]
    },
    {
     "name": "stderr",
     "output_type": "stream",
     "text": [
      "  5%|▌         | 101/1913 [01:01<18:49,  1.60it/s]"
     ]
    },
    {
     "name": "stdout",
     "output_type": "stream",
     "text": [
      "Epoch 2: 5%, loss: 0.727437\n"
     ]
    },
    {
     "name": "stderr",
     "output_type": "stream",
     "text": [
      " 11%|█         | 201/1913 [02:02<16:33,  1.72it/s]"
     ]
    },
    {
     "name": "stdout",
     "output_type": "stream",
     "text": [
      "Epoch 2: 10%, loss: 0.723592\n"
     ]
    },
    {
     "name": "stderr",
     "output_type": "stream",
     "text": [
      " 16%|█▌        | 301/1913 [03:05<15:43,  1.71it/s]"
     ]
    },
    {
     "name": "stdout",
     "output_type": "stream",
     "text": [
      "Epoch 2: 16%, loss: 0.724398\n"
     ]
    },
    {
     "name": "stderr",
     "output_type": "stream",
     "text": [
      " 21%|██        | 401/1913 [04:11<18:25,  1.37it/s]"
     ]
    },
    {
     "name": "stdout",
     "output_type": "stream",
     "text": [
      "Epoch 2: 21%, loss: 0.724299\n"
     ]
    },
    {
     "name": "stderr",
     "output_type": "stream",
     "text": [
      " 26%|██▌       | 501/1913 [05:15<17:39,  1.33it/s]"
     ]
    },
    {
     "name": "stdout",
     "output_type": "stream",
     "text": [
      "Epoch 2: 26%, loss: 0.723394\n"
     ]
    },
    {
     "name": "stderr",
     "output_type": "stream",
     "text": [
      " 31%|███▏      | 601/1913 [06:20<14:09,  1.54it/s]"
     ]
    },
    {
     "name": "stdout",
     "output_type": "stream",
     "text": [
      "Epoch 2: 31%, loss: 0.721946\n"
     ]
    },
    {
     "name": "stderr",
     "output_type": "stream",
     "text": [
      " 37%|███▋      | 701/1913 [07:26<11:35,  1.74it/s]"
     ]
    },
    {
     "name": "stdout",
     "output_type": "stream",
     "text": [
      "Epoch 2: 37%, loss: 0.719007\n"
     ]
    },
    {
     "name": "stderr",
     "output_type": "stream",
     "text": [
      " 42%|████▏     | 801/1913 [08:32<10:46,  1.72it/s]"
     ]
    },
    {
     "name": "stdout",
     "output_type": "stream",
     "text": [
      "Epoch 2: 42%, loss: 0.719854\n"
     ]
    },
    {
     "name": "stderr",
     "output_type": "stream",
     "text": [
      " 47%|████▋     | 901/1913 [09:36<10:32,  1.60it/s]"
     ]
    },
    {
     "name": "stdout",
     "output_type": "stream",
     "text": [
      "Epoch 2: 47%, loss: 0.717234\n"
     ]
    },
    {
     "name": "stderr",
     "output_type": "stream",
     "text": [
      " 52%|█████▏    | 1001/1913 [10:40<08:47,  1.73it/s]"
     ]
    },
    {
     "name": "stdout",
     "output_type": "stream",
     "text": [
      "Epoch 2: 52%, loss: 0.714385\n"
     ]
    },
    {
     "name": "stderr",
     "output_type": "stream",
     "text": [
      " 58%|█████▊    | 1101/1913 [11:44<08:18,  1.63it/s]"
     ]
    },
    {
     "name": "stdout",
     "output_type": "stream",
     "text": [
      "Epoch 2: 58%, loss: 0.718033\n"
     ]
    },
    {
     "name": "stderr",
     "output_type": "stream",
     "text": [
      " 63%|██████▎   | 1201/1913 [12:48<07:46,  1.53it/s]"
     ]
    },
    {
     "name": "stdout",
     "output_type": "stream",
     "text": [
      "Epoch 2: 63%, loss: 0.732052\n"
     ]
    },
    {
     "name": "stderr",
     "output_type": "stream",
     "text": [
      " 68%|██████▊   | 1301/1913 [13:51<06:24,  1.59it/s]"
     ]
    },
    {
     "name": "stdout",
     "output_type": "stream",
     "text": [
      "Epoch 2: 68%, loss: 0.717410\n"
     ]
    },
    {
     "name": "stderr",
     "output_type": "stream",
     "text": [
      " 73%|███████▎  | 1401/1913 [14:58<05:32,  1.54it/s]"
     ]
    },
    {
     "name": "stdout",
     "output_type": "stream",
     "text": [
      "Epoch 2: 73%, loss: 0.715130\n"
     ]
    },
    {
     "name": "stderr",
     "output_type": "stream",
     "text": [
      " 78%|███████▊  | 1501/1913 [16:05<05:09,  1.33it/s]"
     ]
    },
    {
     "name": "stdout",
     "output_type": "stream",
     "text": [
      "Epoch 2: 78%, loss: 0.720312\n"
     ]
    },
    {
     "name": "stderr",
     "output_type": "stream",
     "text": [
      " 84%|████████▎ | 1601/1913 [17:12<03:36,  1.44it/s]"
     ]
    },
    {
     "name": "stdout",
     "output_type": "stream",
     "text": [
      "Epoch 2: 84%, loss: 0.713966\n"
     ]
    },
    {
     "name": "stderr",
     "output_type": "stream",
     "text": [
      " 89%|████████▉ | 1701/1913 [18:23<02:16,  1.55it/s]"
     ]
    },
    {
     "name": "stdout",
     "output_type": "stream",
     "text": [
      "Epoch 2: 89%, loss: 0.718843\n"
     ]
    },
    {
     "name": "stderr",
     "output_type": "stream",
     "text": [
      " 94%|█████████▍| 1801/1913 [19:32<01:22,  1.36it/s]"
     ]
    },
    {
     "name": "stdout",
     "output_type": "stream",
     "text": [
      "Epoch 2: 94%, loss: 0.714011\n"
     ]
    },
    {
     "name": "stderr",
     "output_type": "stream",
     "text": [
      " 99%|█████████▉| 1901/1913 [20:42<00:08,  1.49it/s]"
     ]
    },
    {
     "name": "stdout",
     "output_type": "stream",
     "text": [
      "Epoch 2: 99%, loss: 0.711477\n"
     ]
    },
    {
     "name": "stderr",
     "output_type": "stream",
     "text": [
      "100%|██████████| 1913/1913 [20:49<00:00,  1.53it/s]"
     ]
    },
    {
     "name": "stdout",
     "output_type": "stream",
     "text": [
      "Epoch 2: 100%, loss: 0.709894\n"
     ]
    },
    {
     "name": "stderr",
     "output_type": "stream",
     "text": [
      "\n"
     ]
    },
    {
     "name": "stdout",
     "output_type": "stream",
     "text": [
      "                      (Recall@5: 0.0751, Recall@10: 0.1228, Recall@20: 0.1988, Recall@40: 0.2628)\n",
      "\n",
      "                      (Precision@5: 0.1360, Precision@10: 0.1129, Precision@20: 0.0965, Precision@40: 0.0679)\n",
      "\n",
      "                      (F1-score@5: 0.0872, F1-score@10: 0.1054, F1-score@20: 0.1181, F1-score@40: 0.1003)\n",
      "\n",
      "                      (NDCG@5: 0.0573, NDCG@10: 0.0741, NDCG@20: 0.0776, NDCG@40: 0.0539)\n",
      "\n",
      "                      (MAE@5: 6.2718, MAE@10: 5.8469, MAE@20: 11.0282, MAE@40: 29.5374)\n",
      "\n",
      "train_loss= tensor(0.7204)\n",
      "--------------------\n"
     ]
    },
    {
     "name": "stderr",
     "output_type": "stream",
     "text": [
      "100%|██████████| 239/239 [02:04<00:00,  1.92it/s]\n"
     ]
    },
    {
     "name": "stdout",
     "output_type": "stream",
     "text": [
      "                      (Recall@5: 0.0817, Recall@10: 0.1345, Recall@20: 0.2081, Recall@40: 0.2593)\n",
      "\n",
      "                      (Precision@5: 0.1401, Precision@10: 0.1172, Precision@20: 0.0996, Precision@40: 0.0649)\n",
      "\n",
      "                      (F1-score@5: 0.0931, F1-score@10: 0.1120, F1-score@20: 0.1222, F1-score@40: 0.0965)\n",
      "\n",
      "                      (NDCG@5: 0.0620, NDCG@10: 0.0758, NDCG@20: 0.0795, NDCG@40: 0.0523)\n",
      "\n",
      "{'MAE@5': 6.010460251046025, 'MAE@10': 5.836820083682008, 'MAE@20': 11.091004184100418, 'MAE@40': 29.781380753138077}\n",
      "                      (MAE@5: 6.0105, MAE@10: 5.8368, MAE@20: 11.0910, MAE@40: 29.7814)\n",
      "\n",
      "val_loss= tensor(0.7143)\n",
      "--------------------\n"
     ]
    },
    {
     "name": "stderr",
     "output_type": "stream",
     "text": [
      "100%|██████████| 239/239 [02:03<00:00,  1.93it/s]\n"
     ]
    },
    {
     "name": "stdout",
     "output_type": "stream",
     "text": [
      "                      (Recall@5: 0.0792, Recall@10: 0.1296, Recall@20: 0.2066, Recall@40: 0.2561)\n",
      "\n",
      "                      (Precision@5: 0.1436, Precision@10: 0.1194, Precision@20: 0.1020, Precision@40: 0.0665)\n",
      "\n",
      "                      (F1-score@5: 0.0924, F1-score@10: 0.1118, F1-score@20: 0.1245, F1-score@40: 0.0984)\n",
      "\n",
      "                      (NDCG@5: 0.0602, NDCG@10: 0.0775, NDCG@20: 0.0825, NDCG@40: 0.0541)\n",
      "\n",
      "                      (MAE@5: 6.2803, MAE@10: 5.7835, MAE@20: 10.7573, MAE@40: 29.4299)\n",
      "\n",
      "--------------------\n",
      "[[1, 0.15607632917366082, 0.09910760983263528, 0.09764014896938174, 0.0638703563560271, 13.0630230125523, 0.722453773021698], [2, 0.16787797646857172, 0.10788441422594079, 0.10677618527523439, 0.06858135951873134, 13.062761506276152, 0.7140420079231262]]\n",
      "-----------------------------------------------------------------------------------------\n"
     ]
    },
    {
     "name": "stderr",
     "output_type": "stream",
     "text": [
      "  0%|          | 1/1913 [00:00<21:42,  1.47it/s]"
     ]
    },
    {
     "name": "stdout",
     "output_type": "stream",
     "text": [
      "Epoch 3: 0%, loss: 0.707706\n"
     ]
    },
    {
     "name": "stderr",
     "output_type": "stream",
     "text": [
      "  5%|▌         | 101/1913 [01:00<19:19,  1.56it/s]"
     ]
    },
    {
     "name": "stdout",
     "output_type": "stream",
     "text": [
      "Epoch 3: 5%, loss: 0.714247\n"
     ]
    },
    {
     "name": "stderr",
     "output_type": "stream",
     "text": [
      " 11%|█         | 201/1913 [02:03<17:49,  1.60it/s]"
     ]
    },
    {
     "name": "stdout",
     "output_type": "stream",
     "text": [
      "Epoch 3: 10%, loss: 0.713739\n"
     ]
    },
    {
     "name": "stderr",
     "output_type": "stream",
     "text": [
      " 16%|█▌        | 301/1913 [03:07<18:15,  1.47it/s]"
     ]
    },
    {
     "name": "stdout",
     "output_type": "stream",
     "text": [
      "Epoch 3: 16%, loss: 0.713698\n"
     ]
    },
    {
     "name": "stderr",
     "output_type": "stream",
     "text": [
      " 21%|██        | 401/1913 [04:13<18:31,  1.36it/s]"
     ]
    },
    {
     "name": "stdout",
     "output_type": "stream",
     "text": [
      "Epoch 3: 21%, loss: 0.713684\n"
     ]
    },
    {
     "name": "stderr",
     "output_type": "stream",
     "text": [
      " 26%|██▌       | 501/1913 [05:19<15:26,  1.52it/s]"
     ]
    },
    {
     "name": "stdout",
     "output_type": "stream",
     "text": [
      "Epoch 3: 26%, loss: 0.713650\n"
     ]
    },
    {
     "name": "stderr",
     "output_type": "stream",
     "text": [
      " 31%|███▏      | 601/1913 [06:24<16:04,  1.36it/s]"
     ]
    },
    {
     "name": "stdout",
     "output_type": "stream",
     "text": [
      "Epoch 3: 31%, loss: 0.716256\n"
     ]
    },
    {
     "name": "stderr",
     "output_type": "stream",
     "text": [
      " 37%|███▋      | 701/1913 [07:26<11:39,  1.73it/s]"
     ]
    },
    {
     "name": "stdout",
     "output_type": "stream",
     "text": [
      "Epoch 3: 37%, loss: 0.715418\n"
     ]
    },
    {
     "name": "stderr",
     "output_type": "stream",
     "text": [
      " 42%|████▏     | 801/1913 [08:27<11:43,  1.58it/s]"
     ]
    },
    {
     "name": "stdout",
     "output_type": "stream",
     "text": [
      "Epoch 3: 42%, loss: 0.715070\n"
     ]
    },
    {
     "name": "stderr",
     "output_type": "stream",
     "text": [
      " 47%|████▋     | 901/1913 [09:30<10:21,  1.63it/s]"
     ]
    },
    {
     "name": "stdout",
     "output_type": "stream",
     "text": [
      "Epoch 3: 47%, loss: 0.713155\n"
     ]
    },
    {
     "name": "stderr",
     "output_type": "stream",
     "text": [
      " 52%|█████▏    | 1001/1913 [10:32<09:16,  1.64it/s]"
     ]
    },
    {
     "name": "stdout",
     "output_type": "stream",
     "text": [
      "Epoch 3: 52%, loss: 0.714013\n"
     ]
    },
    {
     "name": "stderr",
     "output_type": "stream",
     "text": [
      " 58%|█████▊    | 1101/1913 [11:38<08:26,  1.60it/s]"
     ]
    },
    {
     "name": "stdout",
     "output_type": "stream",
     "text": [
      "Epoch 3: 58%, loss: 0.716901\n"
     ]
    },
    {
     "name": "stderr",
     "output_type": "stream",
     "text": [
      " 63%|██████▎   | 1201/1913 [12:43<06:54,  1.72it/s]"
     ]
    },
    {
     "name": "stdout",
     "output_type": "stream",
     "text": [
      "Epoch 3: 63%, loss: 0.711176\n"
     ]
    },
    {
     "name": "stderr",
     "output_type": "stream",
     "text": [
      " 68%|██████▊   | 1301/1913 [13:51<08:06,  1.26it/s]"
     ]
    },
    {
     "name": "stdout",
     "output_type": "stream",
     "text": [
      "Epoch 3: 68%, loss: 0.710689\n"
     ]
    },
    {
     "name": "stderr",
     "output_type": "stream",
     "text": [
      " 73%|███████▎  | 1401/1913 [14:57<05:56,  1.44it/s]"
     ]
    },
    {
     "name": "stdout",
     "output_type": "stream",
     "text": [
      "Epoch 3: 73%, loss: 0.711098\n"
     ]
    },
    {
     "name": "stderr",
     "output_type": "stream",
     "text": [
      " 78%|███████▊  | 1501/1913 [16:07<04:30,  1.52it/s]"
     ]
    },
    {
     "name": "stdout",
     "output_type": "stream",
     "text": [
      "Epoch 3: 78%, loss: 0.708878\n"
     ]
    },
    {
     "name": "stderr",
     "output_type": "stream",
     "text": [
      " 84%|████████▎ | 1601/1913 [17:15<03:46,  1.38it/s]"
     ]
    },
    {
     "name": "stdout",
     "output_type": "stream",
     "text": [
      "Epoch 3: 84%, loss: 0.719428\n"
     ]
    },
    {
     "name": "stderr",
     "output_type": "stream",
     "text": [
      " 89%|████████▉ | 1701/1913 [18:25<02:36,  1.36it/s]"
     ]
    },
    {
     "name": "stdout",
     "output_type": "stream",
     "text": [
      "Epoch 3: 89%, loss: 0.714313\n"
     ]
    },
    {
     "name": "stderr",
     "output_type": "stream",
     "text": [
      " 94%|█████████▍| 1801/1913 [19:31<01:09,  1.61it/s]"
     ]
    },
    {
     "name": "stdout",
     "output_type": "stream",
     "text": [
      "Epoch 3: 94%, loss: 0.708477\n"
     ]
    },
    {
     "name": "stderr",
     "output_type": "stream",
     "text": [
      " 99%|█████████▉| 1901/1913 [20:37<00:07,  1.51it/s]"
     ]
    },
    {
     "name": "stdout",
     "output_type": "stream",
     "text": [
      "Epoch 3: 99%, loss: 0.718271\n"
     ]
    },
    {
     "name": "stderr",
     "output_type": "stream",
     "text": [
      "100%|██████████| 1913/1913 [20:45<00:00,  1.54it/s]"
     ]
    },
    {
     "name": "stdout",
     "output_type": "stream",
     "text": [
      "Epoch 3: 100%, loss: 0.711769\n"
     ]
    },
    {
     "name": "stderr",
     "output_type": "stream",
     "text": [
      "\n"
     ]
    },
    {
     "name": "stdout",
     "output_type": "stream",
     "text": [
      "                      (Recall@5: 0.0803, Recall@10: 0.1398, Recall@20: 0.2135, Recall@40: 0.2621)\n",
      "\n",
      "                      (Precision@5: 0.1431, Precision@10: 0.1288, Precision@20: 0.1063, Precision@40: 0.0682)\n",
      "\n",
      "                      (F1-score@5: 0.0927, F1-score@10: 0.1203, F1-score@20: 0.1289, F1-score@40: 0.1006)\n",
      "\n",
      "                      (NDCG@5: 0.0597, NDCG@10: 0.0814, NDCG@20: 0.0844, NDCG@40: 0.0555)\n",
      "\n",
      "                      (MAE@5: 6.2718, MAE@10: 5.8471, MAE@20: 11.0284, MAE@40: 29.5376)\n",
      "\n",
      "train_loss= tensor(0.7146)\n",
      "--------------------\n"
     ]
    },
    {
     "name": "stderr",
     "output_type": "stream",
     "text": [
      "100%|██████████| 239/239 [02:07<00:00,  1.87it/s]\n"
     ]
    },
    {
     "name": "stdout",
     "output_type": "stream",
     "text": [
      "                      (Recall@5: 0.0880, Recall@10: 0.1475, Recall@20: 0.2115, Recall@40: 0.2542)\n",
      "\n",
      "                      (Precision@5: 0.1483, Precision@10: 0.1314, Precision@20: 0.1032, Precision@40: 0.0639)\n",
      "\n",
      "                      (F1-score@5: 0.0995, F1-score@10: 0.1244, F1-score@20: 0.1258, F1-score@40: 0.0950)\n",
      "\n",
      "                      (NDCG@5: 0.0652, NDCG@10: 0.0828, NDCG@20: 0.0834, NDCG@40: 0.0530)\n",
      "\n",
      "{'MAE@5': 6.017259414225942, 'MAE@10': 5.843619246861925, 'MAE@20': 11.090481171548117, 'MAE@40': 29.77458158995816}\n",
      "                      (MAE@5: 6.0173, MAE@10: 5.8436, MAE@20: 11.0905, MAE@40: 29.7746)\n",
      "\n",
      "val_loss= tensor(0.7112)\n",
      "--------------------\n"
     ]
    },
    {
     "name": "stderr",
     "output_type": "stream",
     "text": [
      "100%|██████████| 239/239 [02:06<00:00,  1.89it/s]\n"
     ]
    },
    {
     "name": "stdout",
     "output_type": "stream",
     "text": [
      "                      (Recall@5: 0.0848, Recall@10: 0.1449, Recall@20: 0.2099, Recall@40: 0.2529)\n",
      "\n",
      "                      (Precision@5: 0.1504, Precision@10: 0.1365, Precision@20: 0.1053, Precision@40: 0.0661)\n",
      "\n",
      "                      (F1-score@5: 0.0982, F1-score@10: 0.1266, F1-score@20: 0.1277, F1-score@40: 0.0976)\n",
      "\n",
      "                      (NDCG@5: 0.0633, NDCG@10: 0.0855, NDCG@20: 0.0861, NDCG@40: 0.0550)\n",
      "\n",
      "                      (MAE@5: 6.2782, MAE@10: 5.7814, MAE@20: 10.7594, MAE@40: 29.4320)\n",
      "\n",
      "--------------------\n",
      "[[1, 0.15607632917366082, 0.09910760983263528, 0.09764014896938174, 0.0638703563560271, 13.0630230125523, 0.722453773021698], [2, 0.16787797646857172, 0.10788441422594079, 0.10677618527523439, 0.06858135951873134, 13.062761506276152, 0.7140420079231262], [3, 0.17311625337155057, 0.11456589958158932, 0.11251312024943701, 0.07248660706736929, 13.06276150627615, 0.7109320163726807]]\n",
      "-----------------------------------------------------------------------------------------\n"
     ]
    },
    {
     "name": "stderr",
     "output_type": "stream",
     "text": [
      "  0%|          | 1/1913 [00:00<19:19,  1.65it/s]"
     ]
    },
    {
     "name": "stdout",
     "output_type": "stream",
     "text": [
      "Epoch 4: 0%, loss: 0.710931\n"
     ]
    },
    {
     "name": "stderr",
     "output_type": "stream",
     "text": [
      "  5%|▌         | 101/1913 [01:02<20:27,  1.48it/s]"
     ]
    },
    {
     "name": "stdout",
     "output_type": "stream",
     "text": [
      "Epoch 4: 5%, loss: 0.712069\n"
     ]
    },
    {
     "name": "stderr",
     "output_type": "stream",
     "text": [
      " 11%|█         | 201/1913 [02:06<19:37,  1.45it/s]"
     ]
    },
    {
     "name": "stdout",
     "output_type": "stream",
     "text": [
      "Epoch 4: 10%, loss: 0.706453\n"
     ]
    },
    {
     "name": "stderr",
     "output_type": "stream",
     "text": [
      " 16%|█▌        | 301/1913 [03:11<18:55,  1.42it/s]"
     ]
    },
    {
     "name": "stdout",
     "output_type": "stream",
     "text": [
      "Epoch 4: 16%, loss: 0.715908\n"
     ]
    },
    {
     "name": "stderr",
     "output_type": "stream",
     "text": [
      " 21%|██        | 401/1913 [04:17<18:26,  1.37it/s]"
     ]
    },
    {
     "name": "stdout",
     "output_type": "stream",
     "text": [
      "Epoch 4: 21%, loss: 0.721577\n"
     ]
    },
    {
     "name": "stderr",
     "output_type": "stream",
     "text": [
      " 26%|██▌       | 501/1913 [05:18<13:35,  1.73it/s]"
     ]
    },
    {
     "name": "stdout",
     "output_type": "stream",
     "text": [
      "Epoch 4: 26%, loss: 0.710428\n"
     ]
    },
    {
     "name": "stderr",
     "output_type": "stream",
     "text": [
      " 31%|███▏      | 601/1913 [06:20<13:12,  1.66it/s]"
     ]
    },
    {
     "name": "stdout",
     "output_type": "stream",
     "text": [
      "Epoch 4: 31%, loss: 0.708028\n"
     ]
    },
    {
     "name": "stderr",
     "output_type": "stream",
     "text": [
      " 37%|███▋      | 701/1913 [07:20<13:21,  1.51it/s]"
     ]
    },
    {
     "name": "stdout",
     "output_type": "stream",
     "text": [
      "Epoch 4: 37%, loss: 0.708222\n"
     ]
    },
    {
     "name": "stderr",
     "output_type": "stream",
     "text": [
      " 42%|████▏     | 801/1913 [08:25<11:51,  1.56it/s]"
     ]
    },
    {
     "name": "stdout",
     "output_type": "stream",
     "text": [
      "Epoch 4: 42%, loss: 0.709554\n"
     ]
    },
    {
     "name": "stderr",
     "output_type": "stream",
     "text": [
      " 47%|████▋     | 901/1913 [09:29<10:17,  1.64it/s]"
     ]
    },
    {
     "name": "stdout",
     "output_type": "stream",
     "text": [
      "Epoch 4: 47%, loss: 0.716654\n"
     ]
    },
    {
     "name": "stderr",
     "output_type": "stream",
     "text": [
      " 52%|█████▏    | 1001/1913 [10:33<09:52,  1.54it/s]"
     ]
    },
    {
     "name": "stdout",
     "output_type": "stream",
     "text": [
      "Epoch 4: 52%, loss: 0.713288\n"
     ]
    },
    {
     "name": "stderr",
     "output_type": "stream",
     "text": [
      " 58%|█████▊    | 1101/1913 [11:40<09:38,  1.40it/s]"
     ]
    },
    {
     "name": "stdout",
     "output_type": "stream",
     "text": [
      "Epoch 4: 58%, loss: 0.709455\n"
     ]
    },
    {
     "name": "stderr",
     "output_type": "stream",
     "text": [
      " 63%|██████▎   | 1201/1913 [12:46<09:10,  1.29it/s]"
     ]
    },
    {
     "name": "stdout",
     "output_type": "stream",
     "text": [
      "Epoch 4: 63%, loss: 0.707799\n"
     ]
    },
    {
     "name": "stderr",
     "output_type": "stream",
     "text": [
      " 68%|██████▊   | 1301/1913 [13:53<06:38,  1.53it/s]"
     ]
    },
    {
     "name": "stdout",
     "output_type": "stream",
     "text": [
      "Epoch 4: 68%, loss: 0.712986\n"
     ]
    },
    {
     "name": "stderr",
     "output_type": "stream",
     "text": [
      " 73%|███████▎  | 1401/1913 [15:02<05:57,  1.43it/s]"
     ]
    },
    {
     "name": "stdout",
     "output_type": "stream",
     "text": [
      "Epoch 4: 73%, loss: 0.714467\n"
     ]
    },
    {
     "name": "stderr",
     "output_type": "stream",
     "text": [
      " 78%|███████▊  | 1501/1913 [16:11<04:40,  1.47it/s]"
     ]
    },
    {
     "name": "stdout",
     "output_type": "stream",
     "text": [
      "Epoch 4: 78%, loss: 0.713072\n"
     ]
    },
    {
     "name": "stderr",
     "output_type": "stream",
     "text": [
      " 84%|████████▎ | 1601/1913 [17:16<03:01,  1.72it/s]"
     ]
    },
    {
     "name": "stdout",
     "output_type": "stream",
     "text": [
      "Epoch 4: 84%, loss: 0.709159\n"
     ]
    },
    {
     "name": "stderr",
     "output_type": "stream",
     "text": [
      " 89%|████████▉ | 1701/1913 [18:20<01:57,  1.80it/s]"
     ]
    },
    {
     "name": "stdout",
     "output_type": "stream",
     "text": [
      "Epoch 4: 89%, loss: 0.709370\n"
     ]
    },
    {
     "name": "stderr",
     "output_type": "stream",
     "text": [
      " 94%|█████████▍| 1801/1913 [19:27<01:16,  1.45it/s]"
     ]
    },
    {
     "name": "stdout",
     "output_type": "stream",
     "text": [
      "Epoch 4: 94%, loss: 0.706708\n"
     ]
    },
    {
     "name": "stderr",
     "output_type": "stream",
     "text": [
      " 99%|█████████▉| 1901/1913 [20:34<00:07,  1.63it/s]"
     ]
    },
    {
     "name": "stdout",
     "output_type": "stream",
     "text": [
      "Epoch 4: 99%, loss: 0.705006\n"
     ]
    },
    {
     "name": "stderr",
     "output_type": "stream",
     "text": [
      "100%|██████████| 1913/1913 [20:42<00:00,  1.54it/s]"
     ]
    },
    {
     "name": "stdout",
     "output_type": "stream",
     "text": [
      "Epoch 4: 100%, loss: 0.709616\n"
     ]
    },
    {
     "name": "stderr",
     "output_type": "stream",
     "text": [
      "\n"
     ]
    },
    {
     "name": "stdout",
     "output_type": "stream",
     "text": [
      "                      (Recall@5: 0.0890, Recall@10: 0.1537, Recall@20: 0.2137, Recall@40: 0.2568)\n",
      "\n",
      "                      (Precision@5: 0.1570, Precision@10: 0.1432, Precision@20: 0.1075, Precision@40: 0.0670)\n",
      "\n",
      "                      (F1-score@5: 0.1024, F1-score@10: 0.1330, F1-score@20: 0.1298, F1-score@40: 0.0987)\n",
      "\n",
      "                      (NDCG@5: 0.0645, NDCG@10: 0.0891, NDCG@20: 0.0871, NDCG@40: 0.0560)\n",
      "\n",
      "                      (MAE@5: 6.2719, MAE@10: 5.8470, MAE@20: 11.0283, MAE@40: 29.5376)\n",
      "\n",
      "train_loss= tensor(0.7117)\n",
      "--------------------\n"
     ]
    },
    {
     "name": "stderr",
     "output_type": "stream",
     "text": [
      "100%|██████████| 239/239 [02:09<00:00,  1.85it/s]\n"
     ]
    },
    {
     "name": "stdout",
     "output_type": "stream",
     "text": [
      "                      (Recall@5: 0.0978, Recall@10: 0.1585, Recall@20: 0.2086, Recall@40: 0.2466)\n",
      "\n",
      "                      (Precision@5: 0.1651, Precision@10: 0.1447, Precision@20: 0.1023, Precision@40: 0.0620)\n",
      "\n",
      "                      (F1-score@5: 0.1107, F1-score@10: 0.1355, F1-score@20: 0.1245, F1-score@40: 0.0921)\n",
      "\n",
      "                      (NDCG@5: 0.0707, NDCG@10: 0.0900, NDCG@20: 0.0852, NDCG@40: 0.0531)\n",
      "\n",
      "{'MAE@5': 6.020397489539749, 'MAE@10': 5.84152719665272, 'MAE@20': 11.085251046025105, 'MAE@40': 29.769351464435147}\n",
      "                      (MAE@5: 6.0204, MAE@10: 5.8415, MAE@20: 11.0853, MAE@40: 29.7694)\n",
      "\n",
      "val_loss= tensor(0.7088)\n",
      "--------------------\n"
     ]
    },
    {
     "name": "stderr",
     "output_type": "stream",
     "text": [
      "100%|██████████| 239/239 [02:08<00:00,  1.85it/s]\n"
     ]
    },
    {
     "name": "stdout",
     "output_type": "stream",
     "text": [
      "                      (Recall@5: 0.0950, Recall@10: 0.1562, Recall@20: 0.2086, Recall@40: 0.2467)\n",
      "\n",
      "                      (Precision@5: 0.1697, Precision@10: 0.1483, Precision@20: 0.1053, Precision@40: 0.0644)\n",
      "\n",
      "                      (F1-score@5: 0.1104, F1-score@10: 0.1370, F1-score@20: 0.1274, F1-score@40: 0.0952)\n",
      "\n",
      "                      (NDCG@5: 0.0691, NDCG@10: 0.0922, NDCG@20: 0.0881, NDCG@40: 0.0553)\n",
      "\n",
      "                      (MAE@5: 6.2772, MAE@10: 5.7762, MAE@20: 10.7594, MAE@40: 29.4320)\n",
      "\n",
      "--------------------\n",
      "[[1, 0.15607632917366082, 0.09910760983263528, 0.09764014896938174, 0.0638703563560271, 13.0630230125523, 0.722453773021698], [2, 0.16787797646857172, 0.10788441422594079, 0.10677618527523439, 0.06858135951873134, 13.062761506276152, 0.7140420079231262], [3, 0.17311625337155057, 0.11456589958158932, 0.11251312024943701, 0.07248660706736929, 13.06276150627615, 0.7109320163726807], [4, 0.17665908129858643, 0.12194364539748882, 0.11748848642513324, 0.0761851370148312, 13.061192468619247, 0.7086025476455688]]\n",
      "-----------------------------------------------------------------------------------------\n"
     ]
    },
    {
     "name": "stderr",
     "output_type": "stream",
     "text": [
      "  0%|          | 1/1913 [00:00<16:40,  1.91it/s]"
     ]
    },
    {
     "name": "stdout",
     "output_type": "stream",
     "text": [
      "Epoch 5: 0%, loss: 0.713148\n"
     ]
    },
    {
     "name": "stderr",
     "output_type": "stream",
     "text": [
      "  5%|▌         | 101/1913 [01:02<20:04,  1.50it/s]"
     ]
    },
    {
     "name": "stdout",
     "output_type": "stream",
     "text": [
      "Epoch 5: 5%, loss: 0.716180\n"
     ]
    },
    {
     "name": "stderr",
     "output_type": "stream",
     "text": [
      " 11%|█         | 201/1913 [02:05<18:55,  1.51it/s]"
     ]
    },
    {
     "name": "stdout",
     "output_type": "stream",
     "text": [
      "Epoch 5: 10%, loss: 0.716661\n"
     ]
    },
    {
     "name": "stderr",
     "output_type": "stream",
     "text": [
      " 16%|█▌        | 301/1913 [03:06<17:11,  1.56it/s]"
     ]
    },
    {
     "name": "stdout",
     "output_type": "stream",
     "text": [
      "Epoch 5: 16%, loss: 0.707645\n"
     ]
    },
    {
     "name": "stderr",
     "output_type": "stream",
     "text": [
      " 21%|██        | 401/1913 [04:07<14:52,  1.69it/s]"
     ]
    },
    {
     "name": "stdout",
     "output_type": "stream",
     "text": [
      "Epoch 5: 21%, loss: 0.706783\n"
     ]
    },
    {
     "name": "stderr",
     "output_type": "stream",
     "text": [
      " 26%|██▌       | 501/1913 [05:10<15:38,  1.50it/s]"
     ]
    },
    {
     "name": "stdout",
     "output_type": "stream",
     "text": [
      "Epoch 5: 26%, loss: 0.710059\n"
     ]
    },
    {
     "name": "stderr",
     "output_type": "stream",
     "text": [
      " 31%|███▏      | 601/1913 [06:13<13:42,  1.59it/s]"
     ]
    },
    {
     "name": "stdout",
     "output_type": "stream",
     "text": [
      "Epoch 5: 31%, loss: 0.707785\n"
     ]
    },
    {
     "name": "stderr",
     "output_type": "stream",
     "text": [
      " 37%|███▋      | 701/1913 [07:17<13:11,  1.53it/s]"
     ]
    },
    {
     "name": "stdout",
     "output_type": "stream",
     "text": [
      "Epoch 5: 37%, loss: 0.713600\n"
     ]
    },
    {
     "name": "stderr",
     "output_type": "stream",
     "text": [
      " 42%|████▏     | 801/1913 [08:21<11:08,  1.66it/s]"
     ]
    },
    {
     "name": "stdout",
     "output_type": "stream",
     "text": [
      "Epoch 5: 42%, loss: 0.712262\n"
     ]
    },
    {
     "name": "stderr",
     "output_type": "stream",
     "text": [
      " 47%|████▋     | 901/1913 [09:25<11:02,  1.53it/s]"
     ]
    },
    {
     "name": "stdout",
     "output_type": "stream",
     "text": [
      "Epoch 5: 47%, loss: 0.709374\n"
     ]
    },
    {
     "name": "stderr",
     "output_type": "stream",
     "text": [
      " 52%|█████▏    | 1001/1913 [10:29<09:46,  1.55it/s]"
     ]
    },
    {
     "name": "stdout",
     "output_type": "stream",
     "text": [
      "Epoch 5: 52%, loss: 0.709088\n"
     ]
    },
    {
     "name": "stderr",
     "output_type": "stream",
     "text": [
      " 58%|█████▊    | 1101/1913 [11:36<08:09,  1.66it/s]"
     ]
    },
    {
     "name": "stdout",
     "output_type": "stream",
     "text": [
      "Epoch 5: 58%, loss: 0.706093\n"
     ]
    },
    {
     "name": "stderr",
     "output_type": "stream",
     "text": [
      " 63%|██████▎   | 1201/1913 [12:43<07:54,  1.50it/s]"
     ]
    },
    {
     "name": "stdout",
     "output_type": "stream",
     "text": [
      "Epoch 5: 63%, loss: 0.703252\n"
     ]
    },
    {
     "name": "stderr",
     "output_type": "stream",
     "text": [
      " 68%|██████▊   | 1301/1913 [13:50<07:15,  1.41it/s]"
     ]
    },
    {
     "name": "stdout",
     "output_type": "stream",
     "text": [
      "Epoch 5: 68%, loss: 0.712383\n"
     ]
    },
    {
     "name": "stderr",
     "output_type": "stream",
     "text": [
      " 73%|███████▎  | 1401/1913 [14:57<05:38,  1.51it/s]"
     ]
    },
    {
     "name": "stdout",
     "output_type": "stream",
     "text": [
      "Epoch 5: 73%, loss: 0.709247\n"
     ]
    },
    {
     "name": "stderr",
     "output_type": "stream",
     "text": [
      " 78%|███████▊  | 1501/1913 [16:02<04:07,  1.66it/s]"
     ]
    },
    {
     "name": "stdout",
     "output_type": "stream",
     "text": [
      "Epoch 5: 78%, loss: 0.711132\n"
     ]
    },
    {
     "name": "stderr",
     "output_type": "stream",
     "text": [
      " 84%|████████▎ | 1601/1913 [17:08<03:12,  1.62it/s]"
     ]
    },
    {
     "name": "stdout",
     "output_type": "stream",
     "text": [
      "Epoch 5: 84%, loss: 0.710642\n"
     ]
    },
    {
     "name": "stderr",
     "output_type": "stream",
     "text": [
      " 89%|████████▉ | 1701/1913 [18:15<02:19,  1.52it/s]"
     ]
    },
    {
     "name": "stdout",
     "output_type": "stream",
     "text": [
      "Epoch 5: 89%, loss: 0.706853\n"
     ]
    },
    {
     "name": "stderr",
     "output_type": "stream",
     "text": [
      " 94%|█████████▍| 1801/1913 [19:21<01:09,  1.60it/s]"
     ]
    },
    {
     "name": "stdout",
     "output_type": "stream",
     "text": [
      "Epoch 5: 94%, loss: 0.705358\n"
     ]
    },
    {
     "name": "stderr",
     "output_type": "stream",
     "text": [
      " 99%|█████████▉| 1901/1913 [20:26<00:07,  1.61it/s]"
     ]
    },
    {
     "name": "stdout",
     "output_type": "stream",
     "text": [
      "Epoch 5: 99%, loss: 0.707126\n"
     ]
    },
    {
     "name": "stderr",
     "output_type": "stream",
     "text": [
      "100%|██████████| 1913/1913 [20:34<00:00,  1.55it/s]"
     ]
    },
    {
     "name": "stdout",
     "output_type": "stream",
     "text": [
      "Epoch 5: 100%, loss: 0.703377\n"
     ]
    },
    {
     "name": "stderr",
     "output_type": "stream",
     "text": [
      "\n"
     ]
    },
    {
     "name": "stdout",
     "output_type": "stream",
     "text": [
      "                      (Recall@5: 0.0983, Recall@10: 0.1618, Recall@20: 0.2106, Recall@40: 0.2509)\n",
      "\n",
      "                      (Precision@5: 0.1764, Precision@10: 0.1545, Precision@20: 0.1067, Precision@40: 0.0656)\n",
      "\n",
      "                      (F1-score@5: 0.1140, F1-score@10: 0.1419, F1-score@20: 0.1284, F1-score@40: 0.0966)\n",
      "\n",
      "                      (NDCG@5: 0.0704, NDCG@10: 0.0952, NDCG@20: 0.0888, NDCG@40: 0.0565)\n",
      "\n",
      "                      (MAE@5: 6.2718, MAE@10: 5.8469, MAE@20: 11.0282, MAE@40: 29.5374)\n",
      "\n",
      "train_loss= tensor(0.7096)\n",
      "--------------------\n"
     ]
    },
    {
     "name": "stderr",
     "output_type": "stream",
     "text": [
      "100%|██████████| 239/239 [02:10<00:00,  1.83it/s]\n"
     ]
    },
    {
     "name": "stdout",
     "output_type": "stream",
     "text": [
      "                      (Recall@5: 0.1044, Recall@10: 0.1612, Recall@20: 0.2042, Recall@40: 0.2388)\n",
      "\n",
      "                      (Precision@5: 0.1791, Precision@10: 0.1507, Precision@20: 0.1009, Precision@40: 0.0601)\n",
      "\n",
      "                      (F1-score@5: 0.1189, F1-score@10: 0.1397, F1-score@20: 0.1225, F1-score@40: 0.0893)\n",
      "\n",
      "                      (NDCG@5: 0.0752, NDCG@10: 0.0935, NDCG@20: 0.0860, NDCG@40: 0.0529)\n",
      "\n",
      "{'MAE@5': 6.020397489539749, 'MAE@10': 5.843619246861925, 'MAE@20': 11.08734309623431, 'MAE@40': 29.77144351464435}\n",
      "                      (MAE@5: 6.0204, MAE@10: 5.8436, MAE@20: 11.0873, MAE@40: 29.7714)\n",
      "\n",
      "val_loss= tensor(0.7070)\n",
      "--------------------\n"
     ]
    },
    {
     "name": "stderr",
     "output_type": "stream",
     "text": [
      "100%|██████████| 239/239 [02:12<00:00,  1.80it/s]\n"
     ]
    },
    {
     "name": "stdout",
     "output_type": "stream",
     "text": [
      "                      (Recall@5: 0.0984, Recall@10: 0.1581, Recall@20: 0.2024, Recall@40: 0.2366)\n",
      "\n",
      "                      (Precision@5: 0.1806, Precision@10: 0.1531, Precision@20: 0.1033, Precision@40: 0.0620)\n",
      "\n",
      "                      (F1-score@5: 0.1154, F1-score@10: 0.1402, F1-score@20: 0.1244, F1-score@40: 0.0915)\n",
      "\n",
      "                      (NDCG@5: 0.0720, NDCG@10: 0.0953, NDCG@20: 0.0884, NDCG@40: 0.0548)\n",
      "\n",
      "                      (MAE@5: 6.2746, MAE@10: 5.7735, MAE@20: 10.7568, MAE@40: 29.4336)\n",
      "\n",
      "--------------------\n",
      "[[1, 0.15607632917366082, 0.09910760983263528, 0.09764014896938174, 0.0638703563560271, 13.0630230125523, 0.722453773021698], [2, 0.16787797646857172, 0.10788441422594079, 0.10677618527523439, 0.06858135951873134, 13.062761506276152, 0.7140420079231262], [3, 0.17311625337155057, 0.11456589958158932, 0.11251312024943701, 0.07248660706736929, 13.06276150627615, 0.7109320163726807], [4, 0.17665908129858643, 0.12194364539748882, 0.11748848642513324, 0.0761851370148312, 13.061192468619247, 0.7086025476455688], [5, 0.17387489095716846, 0.1247679131799157, 0.11785644154090623, 0.07759623447660587, 13.059623430962343, 0.7067774534225464]]\n",
      "-----------------------------------------------------------------------------------------\n"
     ]
    },
    {
     "name": "stderr",
     "output_type": "stream",
     "text": [
      "  0%|          | 1/1913 [00:00<16:30,  1.93it/s]"
     ]
    },
    {
     "name": "stdout",
     "output_type": "stream",
     "text": [
      "Epoch 6: 0%, loss: 0.712610\n"
     ]
    },
    {
     "name": "stderr",
     "output_type": "stream",
     "text": [
      "  5%|▌         | 101/1913 [01:02<18:02,  1.67it/s]"
     ]
    },
    {
     "name": "stdout",
     "output_type": "stream",
     "text": [
      "Epoch 6: 5%, loss: 0.707378\n"
     ]
    },
    {
     "name": "stderr",
     "output_type": "stream",
     "text": [
      " 11%|█         | 201/1913 [02:00<15:36,  1.83it/s]"
     ]
    },
    {
     "name": "stdout",
     "output_type": "stream",
     "text": [
      "Epoch 6: 10%, loss: 0.703992\n"
     ]
    },
    {
     "name": "stderr",
     "output_type": "stream",
     "text": [
      " 16%|█▌        | 301/1913 [02:58<14:24,  1.86it/s]"
     ]
    },
    {
     "name": "stdout",
     "output_type": "stream",
     "text": [
      "Epoch 6: 16%, loss: 0.709835\n"
     ]
    },
    {
     "name": "stderr",
     "output_type": "stream",
     "text": [
      " 21%|██        | 401/1913 [03:59<15:42,  1.60it/s]"
     ]
    },
    {
     "name": "stdout",
     "output_type": "stream",
     "text": [
      "Epoch 6: 21%, loss: 0.707567\n"
     ]
    },
    {
     "name": "stderr",
     "output_type": "stream",
     "text": [
      " 26%|██▌       | 501/1913 [05:01<15:42,  1.50it/s]"
     ]
    },
    {
     "name": "stdout",
     "output_type": "stream",
     "text": [
      "Epoch 6: 26%, loss: 0.706268\n"
     ]
    },
    {
     "name": "stderr",
     "output_type": "stream",
     "text": [
      " 31%|███▏      | 601/1913 [06:04<14:14,  1.54it/s]"
     ]
    },
    {
     "name": "stdout",
     "output_type": "stream",
     "text": [
      "Epoch 6: 31%, loss: 0.705868\n"
     ]
    },
    {
     "name": "stderr",
     "output_type": "stream",
     "text": [
      " 37%|███▋      | 701/1913 [07:10<14:14,  1.42it/s]"
     ]
    },
    {
     "name": "stdout",
     "output_type": "stream",
     "text": [
      "Epoch 6: 37%, loss: 0.709915\n"
     ]
    },
    {
     "name": "stderr",
     "output_type": "stream",
     "text": [
      " 42%|████▏     | 801/1913 [08:15<11:52,  1.56it/s]"
     ]
    },
    {
     "name": "stdout",
     "output_type": "stream",
     "text": [
      "Epoch 6: 42%, loss: 0.705862\n"
     ]
    },
    {
     "name": "stderr",
     "output_type": "stream",
     "text": [
      " 47%|████▋     | 901/1913 [09:20<10:46,  1.57it/s]"
     ]
    },
    {
     "name": "stdout",
     "output_type": "stream",
     "text": [
      "Epoch 6: 47%, loss: 0.708428\n"
     ]
    },
    {
     "name": "stderr",
     "output_type": "stream",
     "text": [
      " 52%|█████▏    | 1001/1913 [10:27<09:33,  1.59it/s]"
     ]
    },
    {
     "name": "stdout",
     "output_type": "stream",
     "text": [
      "Epoch 6: 52%, loss: 0.708472\n"
     ]
    },
    {
     "name": "stderr",
     "output_type": "stream",
     "text": [
      " 58%|█████▊    | 1101/1913 [11:36<09:12,  1.47it/s]"
     ]
    },
    {
     "name": "stdout",
     "output_type": "stream",
     "text": [
      "Epoch 6: 58%, loss: 0.704927\n"
     ]
    },
    {
     "name": "stderr",
     "output_type": "stream",
     "text": [
      " 63%|██████▎   | 1201/1913 [12:44<07:11,  1.65it/s]"
     ]
    },
    {
     "name": "stdout",
     "output_type": "stream",
     "text": [
      "Epoch 6: 63%, loss: 0.707798\n"
     ]
    },
    {
     "name": "stderr",
     "output_type": "stream",
     "text": [
      " 68%|██████▊   | 1301/1913 [13:49<06:28,  1.57it/s]"
     ]
    },
    {
     "name": "stdout",
     "output_type": "stream",
     "text": [
      "Epoch 6: 68%, loss: 0.707629\n"
     ]
    },
    {
     "name": "stderr",
     "output_type": "stream",
     "text": [
      " 73%|███████▎  | 1401/1913 [14:52<05:37,  1.52it/s]"
     ]
    },
    {
     "name": "stdout",
     "output_type": "stream",
     "text": [
      "Epoch 6: 73%, loss: 0.709668\n"
     ]
    },
    {
     "name": "stderr",
     "output_type": "stream",
     "text": [
      " 78%|███████▊  | 1501/1913 [15:57<04:22,  1.57it/s]"
     ]
    },
    {
     "name": "stdout",
     "output_type": "stream",
     "text": [
      "Epoch 6: 78%, loss: 0.707103\n"
     ]
    },
    {
     "name": "stderr",
     "output_type": "stream",
     "text": [
      " 84%|████████▎ | 1601/1913 [17:04<03:11,  1.63it/s]"
     ]
    },
    {
     "name": "stdout",
     "output_type": "stream",
     "text": [
      "Epoch 6: 84%, loss: 0.707477\n"
     ]
    },
    {
     "name": "stderr",
     "output_type": "stream",
     "text": [
      " 89%|████████▉ | 1701/1913 [18:11<02:22,  1.49it/s]"
     ]
    },
    {
     "name": "stdout",
     "output_type": "stream",
     "text": [
      "Epoch 6: 89%, loss: 0.704186\n"
     ]
    },
    {
     "name": "stderr",
     "output_type": "stream",
     "text": [
      " 94%|█████████▍| 1801/1913 [19:17<01:14,  1.49it/s]"
     ]
    },
    {
     "name": "stdout",
     "output_type": "stream",
     "text": [
      "Epoch 6: 94%, loss: 0.704933\n"
     ]
    },
    {
     "name": "stderr",
     "output_type": "stream",
     "text": [
      " 99%|█████████▉| 1901/1913 [20:25<00:07,  1.54it/s]"
     ]
    },
    {
     "name": "stdout",
     "output_type": "stream",
     "text": [
      "Epoch 6: 99%, loss: 0.711863\n"
     ]
    },
    {
     "name": "stderr",
     "output_type": "stream",
     "text": [
      "100%|██████████| 1913/1913 [20:33<00:00,  1.55it/s]"
     ]
    },
    {
     "name": "stdout",
     "output_type": "stream",
     "text": [
      "Epoch 6: 100%, loss: 0.710854\n"
     ]
    },
    {
     "name": "stderr",
     "output_type": "stream",
     "text": [
      "\n"
     ]
    },
    {
     "name": "stdout",
     "output_type": "stream",
     "text": [
      "                      (Recall@5: 0.1020, Recall@10: 0.1605, Recall@20: 0.2064, Recall@40: 0.2443)\n",
      "\n",
      "                      (Precision@5: 0.1861, Precision@10: 0.1550, Precision@20: 0.1053, Precision@40: 0.0641)\n",
      "\n",
      "                      (F1-score@5: 0.1191, F1-score@10: 0.1415, F1-score@20: 0.1264, F1-score@40: 0.0942)\n",
      "\n",
      "                      (NDCG@5: 0.0737, NDCG@10: 0.0965, NDCG@20: 0.0891, NDCG@40: 0.0563)\n",
      "\n",
      "                      (MAE@5: 6.2717, MAE@10: 5.8472, MAE@20: 11.0285, MAE@40: 29.5378)\n",
      "\n",
      "train_loss= tensor(0.7077)\n",
      "--------------------\n"
     ]
    },
    {
     "name": "stderr",
     "output_type": "stream",
     "text": [
      "100%|██████████| 239/239 [02:13<00:00,  1.79it/s]\n"
     ]
    },
    {
     "name": "stdout",
     "output_type": "stream",
     "text": [
      "                      (Recall@5: 0.1067, Recall@10: 0.1597, Recall@20: 0.1989, Recall@40: 0.2323)\n",
      "\n",
      "                      (Precision@5: 0.1853, Precision@10: 0.1507, Precision@20: 0.0987, Precision@40: 0.0587)\n",
      "\n",
      "                      (F1-score@5: 0.1220, F1-score@10: 0.1390, F1-score@20: 0.1196, F1-score@40: 0.0871)\n",
      "\n",
      "                      (NDCG@5: 0.0777, NDCG@10: 0.0943, NDCG@20: 0.0856, NDCG@40: 0.0525)\n",
      "\n",
      "{'MAE@5': 6.02092050209205, 'MAE@10': 5.843096234309623, 'MAE@20': 11.086820083682008, 'MAE@40': 29.77092050209205}\n",
      "                      (MAE@5: 6.0209, MAE@10: 5.8431, MAE@20: 11.0868, MAE@40: 29.7709)\n",
      "\n",
      "val_loss= tensor(0.7049)\n",
      "--------------------\n"
     ]
    },
    {
     "name": "stderr",
     "output_type": "stream",
     "text": [
      "100%|██████████| 239/239 [02:08<00:00,  1.86it/s]\n"
     ]
    },
    {
     "name": "stdout",
     "output_type": "stream",
     "text": [
      "                      (Recall@5: 0.1009, Recall@10: 0.1566, Recall@20: 0.1981, Recall@40: 0.2312)\n",
      "\n",
      "                      (Precision@5: 0.1865, Precision@10: 0.1529, Precision@20: 0.1016, Precision@40: 0.0609)\n",
      "\n",
      "                      (F1-score@5: 0.1186, F1-score@10: 0.1393, F1-score@20: 0.1222, F1-score@40: 0.0897)\n",
      "\n",
      "                      (NDCG@5: 0.0751, NDCG@10: 0.0962, NDCG@20: 0.0884, NDCG@40: 0.0547)\n",
      "\n",
      "                      (MAE@5: 6.2762, MAE@10: 5.7803, MAE@20: 10.7615, MAE@40: 29.4341)\n",
      "\n",
      "--------------------\n",
      "[[1, 0.15607632917366082, 0.09910760983263528, 0.09764014896938174, 0.0638703563560271, 13.0630230125523, 0.722453773021698], [2, 0.16787797646857172, 0.10788441422594079, 0.10677618527523439, 0.06858135951873134, 13.062761506276152, 0.7140420079231262], [3, 0.17311625337155057, 0.11456589958158932, 0.11251312024943701, 0.07248660706736929, 13.06276150627615, 0.7109320163726807], [4, 0.17665908129858643, 0.12194364539748882, 0.11748848642513324, 0.0761851370148312, 13.061192468619247, 0.7086025476455688], [5, 0.17387489095716846, 0.1247679131799157, 0.11785644154090623, 0.07759623447660587, 13.059623430962343, 0.7067774534225464], [6, 0.1717058875268331, 0.12548705543932992, 0.11744587706867395, 0.07858212239247314, 13.063023012552302, 0.7047101855278015]]\n",
      "-----------------------------------------------------------------------------------------\n"
     ]
    },
    {
     "name": "stderr",
     "output_type": "stream",
     "text": [
      "  0%|          | 1/1913 [00:00<18:34,  1.72it/s]"
     ]
    },
    {
     "name": "stdout",
     "output_type": "stream",
     "text": [
      "Epoch 7: 0%, loss: 0.705383\n"
     ]
    },
    {
     "name": "stderr",
     "output_type": "stream",
     "text": [
      "  5%|▌         | 101/1913 [00:58<17:59,  1.68it/s]"
     ]
    },
    {
     "name": "stdout",
     "output_type": "stream",
     "text": [
      "Epoch 7: 5%, loss: 0.704945\n"
     ]
    },
    {
     "name": "stderr",
     "output_type": "stream",
     "text": [
      " 11%|█         | 201/1913 [01:59<16:50,  1.69it/s]"
     ]
    },
    {
     "name": "stdout",
     "output_type": "stream",
     "text": [
      "Epoch 7: 10%, loss: 0.707502\n"
     ]
    },
    {
     "name": "stderr",
     "output_type": "stream",
     "text": [
      " 16%|█▌        | 301/1913 [02:59<16:24,  1.64it/s]"
     ]
    },
    {
     "name": "stdout",
     "output_type": "stream",
     "text": [
      "Epoch 7: 16%, loss: 0.703481\n"
     ]
    },
    {
     "name": "stderr",
     "output_type": "stream",
     "text": [
      " 21%|██        | 401/1913 [04:00<17:12,  1.46it/s]"
     ]
    },
    {
     "name": "stdout",
     "output_type": "stream",
     "text": [
      "Epoch 7: 21%, loss: 0.708625\n"
     ]
    },
    {
     "name": "stderr",
     "output_type": "stream",
     "text": [
      " 26%|██▌       | 501/1913 [05:04<15:17,  1.54it/s]"
     ]
    },
    {
     "name": "stdout",
     "output_type": "stream",
     "text": [
      "Epoch 7: 26%, loss: 0.708481\n"
     ]
    },
    {
     "name": "stderr",
     "output_type": "stream",
     "text": [
      " 31%|███▏      | 601/1913 [06:09<14:19,  1.53it/s]"
     ]
    },
    {
     "name": "stdout",
     "output_type": "stream",
     "text": [
      "Epoch 7: 31%, loss: 0.707488\n"
     ]
    },
    {
     "name": "stderr",
     "output_type": "stream",
     "text": [
      " 37%|███▋      | 701/1913 [07:12<12:49,  1.57it/s]"
     ]
    },
    {
     "name": "stdout",
     "output_type": "stream",
     "text": [
      "Epoch 7: 37%, loss: 0.705603\n"
     ]
    },
    {
     "name": "stderr",
     "output_type": "stream",
     "text": [
      " 42%|████▏     | 801/1913 [08:19<13:20,  1.39it/s]"
     ]
    },
    {
     "name": "stdout",
     "output_type": "stream",
     "text": [
      "Epoch 7: 42%, loss: 0.704783\n"
     ]
    },
    {
     "name": "stderr",
     "output_type": "stream",
     "text": [
      " 47%|████▋     | 901/1913 [09:26<12:08,  1.39it/s]"
     ]
    },
    {
     "name": "stdout",
     "output_type": "stream",
     "text": [
      "Epoch 7: 47%, loss: 0.701626\n"
     ]
    },
    {
     "name": "stderr",
     "output_type": "stream",
     "text": [
      " 52%|█████▏    | 1001/1913 [10:34<11:19,  1.34it/s]"
     ]
    },
    {
     "name": "stdout",
     "output_type": "stream",
     "text": [
      "Epoch 7: 52%, loss: 0.701908\n"
     ]
    },
    {
     "name": "stderr",
     "output_type": "stream",
     "text": [
      " 58%|█████▊    | 1101/1913 [11:36<07:56,  1.70it/s]"
     ]
    },
    {
     "name": "stdout",
     "output_type": "stream",
     "text": [
      "Epoch 7: 58%, loss: 0.702816\n"
     ]
    },
    {
     "name": "stderr",
     "output_type": "stream",
     "text": [
      " 63%|██████▎   | 1201/1913 [12:40<07:51,  1.51it/s]"
     ]
    },
    {
     "name": "stdout",
     "output_type": "stream",
     "text": [
      "Epoch 7: 63%, loss: 0.703369\n"
     ]
    },
    {
     "name": "stderr",
     "output_type": "stream",
     "text": [
      " 68%|██████▊   | 1301/1913 [13:43<06:06,  1.67it/s]"
     ]
    },
    {
     "name": "stdout",
     "output_type": "stream",
     "text": [
      "Epoch 7: 68%, loss: 0.702926\n"
     ]
    },
    {
     "name": "stderr",
     "output_type": "stream",
     "text": [
      " 73%|███████▎  | 1401/1913 [14:46<04:52,  1.75it/s]"
     ]
    },
    {
     "name": "stdout",
     "output_type": "stream",
     "text": [
      "Epoch 7: 73%, loss: 0.709944\n"
     ]
    },
    {
     "name": "stderr",
     "output_type": "stream",
     "text": [
      " 78%|███████▊  | 1501/1913 [15:52<04:19,  1.59it/s]"
     ]
    },
    {
     "name": "stdout",
     "output_type": "stream",
     "text": [
      "Epoch 7: 78%, loss: 0.699349\n"
     ]
    },
    {
     "name": "stderr",
     "output_type": "stream",
     "text": [
      " 84%|████████▎ | 1601/1913 [16:59<03:30,  1.48it/s]"
     ]
    },
    {
     "name": "stdout",
     "output_type": "stream",
     "text": [
      "Epoch 7: 84%, loss: 0.704739\n"
     ]
    },
    {
     "name": "stderr",
     "output_type": "stream",
     "text": [
      " 89%|████████▉ | 1701/1913 [18:07<02:27,  1.44it/s]"
     ]
    },
    {
     "name": "stdout",
     "output_type": "stream",
     "text": [
      "Epoch 7: 89%, loss: 0.705591\n"
     ]
    },
    {
     "name": "stderr",
     "output_type": "stream",
     "text": [
      " 94%|█████████▍| 1801/1913 [19:14<01:17,  1.45it/s]"
     ]
    },
    {
     "name": "stdout",
     "output_type": "stream",
     "text": [
      "Epoch 7: 94%, loss: 0.699583\n"
     ]
    },
    {
     "name": "stderr",
     "output_type": "stream",
     "text": [
      " 99%|█████████▉| 1901/1913 [20:23<00:07,  1.66it/s]"
     ]
    },
    {
     "name": "stdout",
     "output_type": "stream",
     "text": [
      "Epoch 7: 99%, loss: 0.704402\n"
     ]
    },
    {
     "name": "stderr",
     "output_type": "stream",
     "text": [
      "100%|██████████| 1913/1913 [20:32<00:00,  1.55it/s]"
     ]
    },
    {
     "name": "stdout",
     "output_type": "stream",
     "text": [
      "Epoch 7: 100%, loss: 0.701255\n"
     ]
    },
    {
     "name": "stderr",
     "output_type": "stream",
     "text": [
      "\n"
     ]
    },
    {
     "name": "stdout",
     "output_type": "stream",
     "text": [
      "                      (Recall@5: 0.1047, Recall@10: 0.1554, Recall@20: 0.1974, Recall@40: 0.2340)\n",
      "\n",
      "                      (Precision@5: 0.1918, Precision@10: 0.1516, Precision@20: 0.1016, Precision@40: 0.0618)\n",
      "\n",
      "                      (F1-score@5: 0.1225, F1-score@10: 0.1378, F1-score@20: 0.1216, F1-score@40: 0.0907)\n",
      "\n",
      "                      (NDCG@5: 0.0780, NDCG@10: 0.0972, NDCG@20: 0.0886, NDCG@40: 0.0557)\n",
      "\n",
      "                      (MAE@5: 6.2718, MAE@10: 5.8472, MAE@20: 11.0284, MAE@40: 29.5377)\n",
      "\n",
      "train_loss= tensor(0.7049)\n",
      "--------------------\n"
     ]
    },
    {
     "name": "stderr",
     "output_type": "stream",
     "text": [
      "100%|██████████| 239/239 [02:11<00:00,  1.82it/s]\n"
     ]
    },
    {
     "name": "stdout",
     "output_type": "stream",
     "text": [
      "                      (Recall@5: 0.0980, Recall@10: 0.1408, Recall@20: 0.1773, Recall@40: 0.2086)\n",
      "\n",
      "                      (Precision@5: 0.1771, Precision@10: 0.1370, Precision@20: 0.0894, Precision@40: 0.0536)\n",
      "\n",
      "                      (F1-score@5: 0.1139, F1-score@10: 0.1246, F1-score@20: 0.1079, F1-score@40: 0.0793)\n",
      "\n",
      "                      (NDCG@5: 0.0795, NDCG@10: 0.0918, NDCG@20: 0.0825, NDCG@40: 0.0504)\n",
      "\n",
      "{'MAE@5': 6.016213389121339, 'MAE@10': 5.8425732217573225, 'MAE@20': 11.09152719665272, 'MAE@40': 29.77562761506276}\n",
      "                      (MAE@5: 6.0162, MAE@10: 5.8426, MAE@20: 11.0915, MAE@40: 29.7756)\n",
      "\n",
      "val_loss= tensor(0.7010)\n",
      "--------------------\n"
     ]
    },
    {
     "name": "stderr",
     "output_type": "stream",
     "text": [
      "100%|██████████| 239/239 [01:56<00:00,  2.05it/s]\n"
     ]
    },
    {
     "name": "stdout",
     "output_type": "stream",
     "text": [
      "                      (Recall@5: 0.0969, Recall@10: 0.1404, Recall@20: 0.1774, Recall@40: 0.2074)\n",
      "\n",
      "                      (Precision@5: 0.1800, Precision@10: 0.1394, Precision@20: 0.0924, Precision@40: 0.0555)\n",
      "\n",
      "                      (F1-score@5: 0.1141, F1-score@10: 0.1259, F1-score@20: 0.1104, F1-score@40: 0.0814)\n",
      "\n",
      "                      (NDCG@5: 0.0786, NDCG@10: 0.0938, NDCG@20: 0.0848, NDCG@40: 0.0523)\n",
      "\n",
      "                      (MAE@5: 6.2850, MAE@10: 5.7798, MAE@20: 10.7526, MAE@40: 29.4252)\n",
      "\n",
      "--------------------\n",
      "[[1, 0.15607632917366082, 0.09910760983263528, 0.09764014896938174, 0.0638703563560271, 13.0630230125523, 0.722453773021698], [2, 0.16787797646857172, 0.10788441422594079, 0.10677618527523439, 0.06858135951873134, 13.062761506276152, 0.7140420079231262], [3, 0.17311625337155057, 0.11456589958158932, 0.11251312024943701, 0.07248660706736929, 13.06276150627615, 0.7109320163726807], [4, 0.17665908129858643, 0.12194364539748882, 0.11748848642513324, 0.0761851370148312, 13.061192468619247, 0.7086025476455688], [5, 0.17387489095716846, 0.1247679131799157, 0.11785644154090623, 0.07759623447660587, 13.059623430962343, 0.7067774534225464], [6, 0.1717058875268331, 0.12548705543932992, 0.11744587706867395, 0.07858212239247314, 13.063023012552302, 0.7047101855278015], [7, 0.15551982385116792, 0.1168115847280328, 0.10796715501672832, 0.07736995541972838, 13.060669456066947, 0.7007943391799927]]\n",
      "-----------------------------------------------------------------------------------------\n"
     ]
    },
    {
     "name": "stderr",
     "output_type": "stream",
     "text": [
      "  0%|          | 1/1913 [00:00<16:19,  1.95it/s]"
     ]
    },
    {
     "name": "stdout",
     "output_type": "stream",
     "text": [
      "Epoch 8: 0%, loss: 0.700520\n"
     ]
    },
    {
     "name": "stderr",
     "output_type": "stream",
     "text": [
      "  5%|▌         | 101/1913 [00:49<13:36,  2.22it/s]"
     ]
    },
    {
     "name": "stdout",
     "output_type": "stream",
     "text": [
      "Epoch 8: 5%, loss: 0.709983\n"
     ]
    },
    {
     "name": "stderr",
     "output_type": "stream",
     "text": [
      " 11%|█         | 201/1913 [01:39<15:21,  1.86it/s]"
     ]
    },
    {
     "name": "stdout",
     "output_type": "stream",
     "text": [
      "Epoch 8: 10%, loss: 0.699744\n"
     ]
    },
    {
     "name": "stderr",
     "output_type": "stream",
     "text": [
      " 16%|█▌        | 301/1913 [02:28<12:31,  2.15it/s]"
     ]
    },
    {
     "name": "stdout",
     "output_type": "stream",
     "text": [
      "Epoch 8: 16%, loss: 0.702054\n"
     ]
    },
    {
     "name": "stderr",
     "output_type": "stream",
     "text": [
      " 21%|██        | 401/1913 [03:18<11:43,  2.15it/s]"
     ]
    },
    {
     "name": "stdout",
     "output_type": "stream",
     "text": [
      "Epoch 8: 21%, loss: 0.702009\n"
     ]
    },
    {
     "name": "stderr",
     "output_type": "stream",
     "text": [
      " 26%|██▌       | 501/1913 [04:10<12:53,  1.83it/s]"
     ]
    },
    {
     "name": "stdout",
     "output_type": "stream",
     "text": [
      "Epoch 8: 26%, loss: 0.699704\n"
     ]
    },
    {
     "name": "stderr",
     "output_type": "stream",
     "text": [
      " 31%|███▏      | 601/1913 [05:05<11:49,  1.85it/s]"
     ]
    },
    {
     "name": "stdout",
     "output_type": "stream",
     "text": [
      "Epoch 8: 31%, loss: 0.699159\n"
     ]
    },
    {
     "name": "stderr",
     "output_type": "stream",
     "text": [
      " 37%|███▋      | 701/1913 [05:59<11:06,  1.82it/s]"
     ]
    },
    {
     "name": "stdout",
     "output_type": "stream",
     "text": [
      "Epoch 8: 37%, loss: 0.704481\n"
     ]
    },
    {
     "name": "stderr",
     "output_type": "stream",
     "text": [
      " 42%|████▏     | 801/1913 [06:52<09:32,  1.94it/s]"
     ]
    },
    {
     "name": "stdout",
     "output_type": "stream",
     "text": [
      "Epoch 8: 42%, loss: 0.700862\n"
     ]
    },
    {
     "name": "stderr",
     "output_type": "stream",
     "text": [
      " 47%|████▋     | 901/1913 [07:46<09:00,  1.87it/s]"
     ]
    },
    {
     "name": "stdout",
     "output_type": "stream",
     "text": [
      "Epoch 8: 47%, loss: 0.698351\n"
     ]
    },
    {
     "name": "stderr",
     "output_type": "stream",
     "text": [
      " 52%|█████▏    | 1001/1913 [08:41<08:55,  1.70it/s]"
     ]
    },
    {
     "name": "stdout",
     "output_type": "stream",
     "text": [
      "Epoch 8: 52%, loss: 0.696805\n"
     ]
    },
    {
     "name": "stderr",
     "output_type": "stream",
     "text": [
      " 58%|█████▊    | 1101/1913 [09:37<07:38,  1.77it/s]"
     ]
    },
    {
     "name": "stdout",
     "output_type": "stream",
     "text": [
      "Epoch 8: 58%, loss: 0.700837\n"
     ]
    },
    {
     "name": "stderr",
     "output_type": "stream",
     "text": [
      " 63%|██████▎   | 1201/1913 [10:31<06:16,  1.89it/s]"
     ]
    },
    {
     "name": "stdout",
     "output_type": "stream",
     "text": [
      "Epoch 8: 63%, loss: 0.700344\n"
     ]
    },
    {
     "name": "stderr",
     "output_type": "stream",
     "text": [
      " 68%|██████▊   | 1301/1913 [11:26<05:38,  1.81it/s]"
     ]
    },
    {
     "name": "stdout",
     "output_type": "stream",
     "text": [
      "Epoch 8: 68%, loss: 0.699491\n"
     ]
    },
    {
     "name": "stderr",
     "output_type": "stream",
     "text": [
      " 73%|███████▎  | 1401/1913 [12:22<05:00,  1.70it/s]"
     ]
    },
    {
     "name": "stdout",
     "output_type": "stream",
     "text": [
      "Epoch 8: 73%, loss: 0.697725\n"
     ]
    },
    {
     "name": "stderr",
     "output_type": "stream",
     "text": [
      " 78%|███████▊  | 1501/1913 [13:16<03:47,  1.81it/s]"
     ]
    },
    {
     "name": "stdout",
     "output_type": "stream",
     "text": [
      "Epoch 8: 78%, loss: 0.700818\n"
     ]
    },
    {
     "name": "stderr",
     "output_type": "stream",
     "text": [
      " 84%|████████▎ | 1601/1913 [14:12<02:50,  1.84it/s]"
     ]
    },
    {
     "name": "stdout",
     "output_type": "stream",
     "text": [
      "Epoch 8: 84%, loss: 0.700597\n"
     ]
    },
    {
     "name": "stderr",
     "output_type": "stream",
     "text": [
      " 89%|████████▉ | 1701/1913 [15:08<01:51,  1.90it/s]"
     ]
    },
    {
     "name": "stdout",
     "output_type": "stream",
     "text": [
      "Epoch 8: 89%, loss: 0.702203\n"
     ]
    },
    {
     "name": "stderr",
     "output_type": "stream",
     "text": [
      " 94%|█████████▍| 1801/1913 [16:05<01:10,  1.58it/s]"
     ]
    },
    {
     "name": "stdout",
     "output_type": "stream",
     "text": [
      "Epoch 8: 94%, loss: 0.698442\n"
     ]
    },
    {
     "name": "stderr",
     "output_type": "stream",
     "text": [
      " 99%|█████████▉| 1901/1913 [17:02<00:07,  1.64it/s]"
     ]
    },
    {
     "name": "stdout",
     "output_type": "stream",
     "text": [
      "Epoch 8: 99%, loss: 0.702004\n"
     ]
    },
    {
     "name": "stderr",
     "output_type": "stream",
     "text": [
      "100%|██████████| 1913/1913 [17:09<00:00,  1.86it/s]"
     ]
    },
    {
     "name": "stdout",
     "output_type": "stream",
     "text": [
      "Epoch 8: 100%, loss: 0.699465\n"
     ]
    },
    {
     "name": "stderr",
     "output_type": "stream",
     "text": [
      "\n"
     ]
    },
    {
     "name": "stdout",
     "output_type": "stream",
     "text": [
      "                      (Recall@5: 0.1046, Recall@10: 0.1438, Recall@20: 0.1817, Recall@40: 0.2179)\n",
      "\n",
      "                      (Precision@5: 0.1963, Precision@10: 0.1431, Precision@20: 0.0946, Precision@40: 0.0580)\n",
      "\n",
      "                      (F1-score@5: 0.1236, F1-score@10: 0.1288, F1-score@20: 0.1128, F1-score@40: 0.0850)\n",
      "\n",
      "                      (NDCG@5: 0.0970, NDCG@10: 0.1097, NDCG@20: 0.0963, NDCG@40: 0.0597)\n",
      "\n",
      "                      (MAE@5: 6.2719, MAE@10: 5.8470, MAE@20: 11.0283, MAE@40: 29.5376)\n",
      "\n",
      "train_loss= tensor(0.7013)\n",
      "--------------------\n"
     ]
    },
    {
     "name": "stderr",
     "output_type": "stream",
     "text": [
      "100%|██████████| 239/239 [01:41<00:00,  2.34it/s]\n"
     ]
    },
    {
     "name": "stdout",
     "output_type": "stream",
     "text": [
      "                      (Recall@5: 0.1030, Recall@10: 0.1370, Recall@20: 0.1716, Recall@40: 0.2044)\n",
      "\n",
      "                      (Precision@5: 0.1870, Precision@10: 0.1340, Precision@20: 0.0869, Precision@40: 0.0527)\n",
      "\n",
      "                      (F1-score@5: 0.1200, F1-score@10: 0.1215, F1-score@20: 0.1047, F1-score@40: 0.0779)\n",
      "\n",
      "                      (NDCG@5: 0.0966, NDCG@10: 0.1041, NDCG@20: 0.0912, NDCG@40: 0.0554)\n",
      "\n",
      "{'MAE@5': 6.020397489539749, 'MAE@10': 5.84152719665272, 'MAE@20': 11.085251046025105, 'MAE@40': 29.769351464435147}\n",
      "                      (MAE@5: 6.0204, MAE@10: 5.8415, MAE@20: 11.0853, MAE@40: 29.7694)\n",
      "\n",
      "val_loss= tensor(0.7000)\n",
      "--------------------\n"
     ]
    },
    {
     "name": "stderr",
     "output_type": "stream",
     "text": [
      "100%|██████████| 239/239 [01:43<00:00,  2.31it/s]\n"
     ]
    },
    {
     "name": "stdout",
     "output_type": "stream",
     "text": [
      "                      (Recall@5: 0.0997, Recall@10: 0.1378, Recall@20: 0.1728, Recall@40: 0.2057)\n",
      "\n",
      "                      (Precision@5: 0.1877, Precision@10: 0.1370, Precision@20: 0.0896, Precision@40: 0.0548)\n",
      "\n",
      "                      (F1-score@5: 0.1180, F1-score@10: 0.1236, F1-score@20: 0.1072, F1-score@40: 0.0805)\n",
      "\n",
      "                      (NDCG@5: 0.0944, NDCG@10: 0.1061, NDCG@20: 0.0932, NDCG@40: 0.0574)\n",
      "\n",
      "                      (MAE@5: 6.2782, MAE@10: 5.7824, MAE@20: 10.7594, MAE@40: 29.4320)\n",
      "\n",
      "--------------------\n",
      "[[1, 0.15607632917366082, 0.09910760983263528, 0.09764014896938174, 0.0638703563560271, 13.0630230125523, 0.722453773021698], [2, 0.16787797646857172, 0.10788441422594079, 0.10677618527523439, 0.06858135951873134, 13.062761506276152, 0.7140420079231262], [3, 0.17311625337155057, 0.11456589958158932, 0.11251312024943701, 0.07248660706736929, 13.06276150627615, 0.7109320163726807], [4, 0.17665908129858643, 0.12194364539748882, 0.11748848642513324, 0.0761851370148312, 13.061192468619247, 0.7086025476455688], [5, 0.17387489095716846, 0.1247679131799157, 0.11785644154090623, 0.07759623447660587, 13.059623430962343, 0.7067774534225464], [6, 0.1717058875268331, 0.12548705543932992, 0.11744587706867395, 0.07858212239247314, 13.063023012552302, 0.7047101855278015], [7, 0.15551982385116792, 0.1168115847280328, 0.10796715501672832, 0.07736995541972838, 13.060669456066947, 0.7007943391799927], [8, 0.1540172436796225, 0.11727902719665198, 0.10734365254583328, 0.08778588321464474, 13.0630230125523, 0.6998544335365295]]\n",
      "-----------------------------------------------------------------------------------------\n"
     ]
    },
    {
     "name": "stderr",
     "output_type": "stream",
     "text": [
      "  0%|          | 1/1913 [00:00<20:43,  1.54it/s]"
     ]
    },
    {
     "name": "stdout",
     "output_type": "stream",
     "text": [
      "Epoch 9: 0%, loss: 0.698718\n"
     ]
    },
    {
     "name": "stderr",
     "output_type": "stream",
     "text": [
      "  5%|▌         | 101/1913 [00:51<14:02,  2.15it/s]"
     ]
    },
    {
     "name": "stdout",
     "output_type": "stream",
     "text": [
      "Epoch 9: 5%, loss: 0.699467\n"
     ]
    },
    {
     "name": "stderr",
     "output_type": "stream",
     "text": [
      " 11%|█         | 201/1913 [01:41<13:23,  2.13it/s]"
     ]
    },
    {
     "name": "stdout",
     "output_type": "stream",
     "text": [
      "Epoch 9: 10%, loss: 0.703009\n"
     ]
    },
    {
     "name": "stderr",
     "output_type": "stream",
     "text": [
      " 16%|█▌        | 301/1913 [02:32<13:22,  2.01it/s]"
     ]
    },
    {
     "name": "stdout",
     "output_type": "stream",
     "text": [
      "Epoch 9: 16%, loss: 0.702683\n"
     ]
    },
    {
     "name": "stderr",
     "output_type": "stream",
     "text": [
      " 21%|██        | 401/1913 [03:22<12:33,  2.01it/s]"
     ]
    },
    {
     "name": "stdout",
     "output_type": "stream",
     "text": [
      "Epoch 9: 21%, loss: 0.703365\n"
     ]
    },
    {
     "name": "stderr",
     "output_type": "stream",
     "text": [
      " 26%|██▌       | 501/1913 [04:14<11:36,  2.03it/s]"
     ]
    },
    {
     "name": "stdout",
     "output_type": "stream",
     "text": [
      "Epoch 9: 26%, loss: 0.702973\n"
     ]
    },
    {
     "name": "stderr",
     "output_type": "stream",
     "text": [
      " 31%|███▏      | 601/1913 [05:07<12:51,  1.70it/s]"
     ]
    },
    {
     "name": "stdout",
     "output_type": "stream",
     "text": [
      "Epoch 9: 31%, loss: 0.700998\n"
     ]
    },
    {
     "name": "stderr",
     "output_type": "stream",
     "text": [
      " 37%|███▋      | 701/1913 [06:01<11:46,  1.72it/s]"
     ]
    },
    {
     "name": "stdout",
     "output_type": "stream",
     "text": [
      "Epoch 9: 37%, loss: 0.699699\n"
     ]
    },
    {
     "name": "stderr",
     "output_type": "stream",
     "text": [
      " 42%|████▏     | 801/1913 [06:56<10:03,  1.84it/s]"
     ]
    },
    {
     "name": "stdout",
     "output_type": "stream",
     "text": [
      "Epoch 9: 42%, loss: 0.703957\n"
     ]
    },
    {
     "name": "stderr",
     "output_type": "stream",
     "text": [
      " 47%|████▋     | 901/1913 [07:50<08:23,  2.01it/s]"
     ]
    },
    {
     "name": "stdout",
     "output_type": "stream",
     "text": [
      "Epoch 9: 47%, loss: 0.703897\n"
     ]
    },
    {
     "name": "stderr",
     "output_type": "stream",
     "text": [
      " 52%|█████▏    | 1001/1913 [08:45<08:57,  1.70it/s]"
     ]
    },
    {
     "name": "stdout",
     "output_type": "stream",
     "text": [
      "Epoch 9: 52%, loss: 0.697034\n"
     ]
    },
    {
     "name": "stderr",
     "output_type": "stream",
     "text": [
      " 58%|█████▊    | 1101/1913 [09:40<07:13,  1.87it/s]"
     ]
    },
    {
     "name": "stdout",
     "output_type": "stream",
     "text": [
      "Epoch 9: 58%, loss: 0.700353\n"
     ]
    },
    {
     "name": "stderr",
     "output_type": "stream",
     "text": [
      " 63%|██████▎   | 1201/1913 [10:35<06:26,  1.84it/s]"
     ]
    },
    {
     "name": "stdout",
     "output_type": "stream",
     "text": [
      "Epoch 9: 63%, loss: 0.699975\n"
     ]
    },
    {
     "name": "stderr",
     "output_type": "stream",
     "text": [
      " 68%|██████▊   | 1301/1913 [11:30<05:43,  1.78it/s]"
     ]
    },
    {
     "name": "stdout",
     "output_type": "stream",
     "text": [
      "Epoch 9: 68%, loss: 0.701451\n"
     ]
    },
    {
     "name": "stderr",
     "output_type": "stream",
     "text": [
      " 73%|███████▎  | 1401/1913 [12:26<04:55,  1.73it/s]"
     ]
    },
    {
     "name": "stdout",
     "output_type": "stream",
     "text": [
      "Epoch 9: 73%, loss: 0.699669\n"
     ]
    },
    {
     "name": "stderr",
     "output_type": "stream",
     "text": [
      " 78%|███████▊  | 1501/1913 [13:21<03:55,  1.75it/s]"
     ]
    },
    {
     "name": "stdout",
     "output_type": "stream",
     "text": [
      "Epoch 9: 78%, loss: 0.705292\n"
     ]
    },
    {
     "name": "stderr",
     "output_type": "stream",
     "text": [
      " 84%|████████▎ | 1601/1913 [14:17<02:47,  1.86it/s]"
     ]
    },
    {
     "name": "stdout",
     "output_type": "stream",
     "text": [
      "Epoch 9: 84%, loss: 0.698840\n"
     ]
    },
    {
     "name": "stderr",
     "output_type": "stream",
     "text": [
      " 89%|████████▉ | 1701/1913 [15:13<01:59,  1.78it/s]"
     ]
    },
    {
     "name": "stdout",
     "output_type": "stream",
     "text": [
      "Epoch 9: 89%, loss: 0.700515\n"
     ]
    },
    {
     "name": "stderr",
     "output_type": "stream",
     "text": [
      " 94%|█████████▍| 1801/1913 [16:08<01:06,  1.69it/s]"
     ]
    },
    {
     "name": "stdout",
     "output_type": "stream",
     "text": [
      "Epoch 9: 94%, loss: 0.696758\n"
     ]
    },
    {
     "name": "stderr",
     "output_type": "stream",
     "text": [
      " 99%|█████████▉| 1901/1913 [17:06<00:07,  1.63it/s]"
     ]
    },
    {
     "name": "stdout",
     "output_type": "stream",
     "text": [
      "Epoch 9: 99%, loss: 0.700093\n"
     ]
    },
    {
     "name": "stderr",
     "output_type": "stream",
     "text": [
      "100%|██████████| 1913/1913 [17:12<00:00,  1.85it/s]"
     ]
    },
    {
     "name": "stdout",
     "output_type": "stream",
     "text": [
      "Epoch 9: 100%, loss: 0.701263\n"
     ]
    },
    {
     "name": "stderr",
     "output_type": "stream",
     "text": [
      "\n"
     ]
    },
    {
     "name": "stdout",
     "output_type": "stream",
     "text": [
      "                      (Recall@5: 0.1055, Recall@10: 0.1438, Recall@20: 0.1814, Recall@40: 0.2177)\n",
      "\n",
      "                      (Precision@5: 0.1978, Precision@10: 0.1432, Precision@20: 0.0944, Precision@40: 0.0581)\n",
      "\n",
      "                      (F1-score@5: 0.1247, F1-score@10: 0.1288, F1-score@20: 0.1126, F1-score@40: 0.0850)\n",
      "\n",
      "                      (NDCG@5: 0.0993, NDCG@10: 0.1115, NDCG@20: 0.0976, NDCG@40: 0.0605)\n",
      "\n",
      "                      (MAE@5: 6.2710, MAE@10: 5.8468, MAE@20: 11.0292, MAE@40: 29.5385)\n",
      "\n",
      "train_loss= tensor(0.7007)\n",
      "--------------------\n"
     ]
    },
    {
     "name": "stderr",
     "output_type": "stream",
     "text": [
      "100%|██████████| 239/239 [01:42<00:00,  2.33it/s]\n"
     ]
    },
    {
     "name": "stdout",
     "output_type": "stream",
     "text": [
      "                      (Recall@5: 0.1022, Recall@10: 0.1365, Recall@20: 0.1719, Recall@40: 0.2053)\n",
      "\n",
      "                      (Precision@5: 0.1856, Precision@10: 0.1335, Precision@20: 0.0865, Precision@40: 0.0527)\n",
      "\n",
      "                      (F1-score@5: 0.1190, F1-score@10: 0.1211, F1-score@20: 0.1044, F1-score@40: 0.0779)\n",
      "\n",
      "                      (NDCG@5: 0.0959, NDCG@10: 0.1036, NDCG@20: 0.0907, NDCG@40: 0.0552)\n",
      "\n",
      "{'MAE@5': 6.0177824267782425, 'MAE@10': 5.844142259414226, 'MAE@20': 11.089958158995817, 'MAE@40': 29.774058577405857}\n",
      "                      (MAE@5: 6.0178, MAE@10: 5.8441, MAE@20: 11.0900, MAE@40: 29.7741)\n",
      "\n",
      "val_loss= tensor(0.7000)\n",
      "--------------------\n"
     ]
    },
    {
     "name": "stderr",
     "output_type": "stream",
     "text": [
      "100%|██████████| 239/239 [01:44<00:00,  2.29it/s]\n"
     ]
    },
    {
     "name": "stdout",
     "output_type": "stream",
     "text": [
      "                      (Recall@5: 0.1002, Recall@10: 0.1374, Recall@20: 0.1726, Recall@40: 0.2072)\n",
      "\n",
      "                      (Precision@5: 0.1879, Precision@10: 0.1365, Precision@20: 0.0897, Precision@40: 0.0550)\n",
      "\n",
      "                      (F1-score@5: 0.1185, F1-score@10: 0.1232, F1-score@20: 0.1072, F1-score@40: 0.0808)\n",
      "\n",
      "                      (NDCG@5: 0.0945, NDCG@10: 0.1059, NDCG@20: 0.0931, NDCG@40: 0.0573)\n",
      "\n",
      "                      (MAE@5: 6.2803, MAE@10: 5.7803, MAE@20: 10.7573, MAE@40: 29.4299)\n",
      "\n",
      "--------------------\n",
      "[[1, 0.15607632917366082, 0.09910760983263528, 0.09764014896938174, 0.0638703563560271, 13.0630230125523, 0.722453773021698], [2, 0.16787797646857172, 0.10788441422594079, 0.10677618527523439, 0.06858135951873134, 13.062761506276152, 0.7140420079231262], [3, 0.17311625337155057, 0.11456589958158932, 0.11251312024943701, 0.07248660706736929, 13.06276150627615, 0.7109320163726807], [4, 0.17665908129858643, 0.12194364539748882, 0.11748848642513324, 0.0761851370148312, 13.061192468619247, 0.7086025476455688], [5, 0.17387489095716846, 0.1247679131799157, 0.11785644154090623, 0.07759623447660587, 13.059623430962343, 0.7067774534225464], [6, 0.1717058875268331, 0.12548705543932992, 0.11744587706867395, 0.07858212239247314, 13.063023012552302, 0.7047101855278015], [7, 0.15551982385116792, 0.1168115847280328, 0.10796715501672832, 0.07736995541972838, 13.060669456066947, 0.7007943391799927], [8, 0.1540172436796225, 0.11727902719665198, 0.10734365254583328, 0.08778588321464474, 13.0630230125523, 0.6998544335365295], [9, 0.15436463996383565, 0.11724307008368133, 0.10744083975563636, 0.08771828992435247, 13.0619769874477, 0.6997537016868591]]\n",
      "-----------------------------------------------------------------------------------------\n"
     ]
    },
    {
     "name": "stderr",
     "output_type": "stream",
     "text": [
      "  0%|          | 1/1913 [00:00<23:51,  1.34it/s]"
     ]
    },
    {
     "name": "stdout",
     "output_type": "stream",
     "text": [
      "Epoch 10: 0%, loss: 0.701996\n"
     ]
    },
    {
     "name": "stderr",
     "output_type": "stream",
     "text": [
      "  5%|▌         | 101/1913 [00:52<14:25,  2.09it/s]"
     ]
    },
    {
     "name": "stdout",
     "output_type": "stream",
     "text": [
      "Epoch 10: 5%, loss: 0.699658\n"
     ]
    },
    {
     "name": "stderr",
     "output_type": "stream",
     "text": [
      " 11%|█         | 201/1913 [01:42<13:04,  2.18it/s]"
     ]
    },
    {
     "name": "stdout",
     "output_type": "stream",
     "text": [
      "Epoch 10: 10%, loss: 0.708461\n"
     ]
    },
    {
     "name": "stderr",
     "output_type": "stream",
     "text": [
      " 16%|█▌        | 301/1913 [02:31<13:34,  1.98it/s]"
     ]
    },
    {
     "name": "stdout",
     "output_type": "stream",
     "text": [
      "Epoch 10: 16%, loss: 0.699781\n"
     ]
    },
    {
     "name": "stderr",
     "output_type": "stream",
     "text": [
      " 21%|██        | 401/1913 [03:21<12:46,  1.97it/s]"
     ]
    },
    {
     "name": "stdout",
     "output_type": "stream",
     "text": [
      "Epoch 10: 21%, loss: 0.698227\n"
     ]
    },
    {
     "name": "stderr",
     "output_type": "stream",
     "text": [
      " 26%|██▌       | 501/1913 [04:12<13:37,  1.73it/s]"
     ]
    },
    {
     "name": "stdout",
     "output_type": "stream",
     "text": [
      "Epoch 10: 26%, loss: 0.702198\n"
     ]
    },
    {
     "name": "stderr",
     "output_type": "stream",
     "text": [
      " 31%|███▏      | 601/1913 [05:06<12:35,  1.74it/s]"
     ]
    },
    {
     "name": "stdout",
     "output_type": "stream",
     "text": [
      "Epoch 10: 31%, loss: 0.702952\n"
     ]
    },
    {
     "name": "stderr",
     "output_type": "stream",
     "text": [
      " 37%|███▋      | 701/1913 [05:59<10:02,  2.01it/s]"
     ]
    },
    {
     "name": "stdout",
     "output_type": "stream",
     "text": [
      "Epoch 10: 37%, loss: 0.706185\n"
     ]
    },
    {
     "name": "stderr",
     "output_type": "stream",
     "text": [
      " 42%|████▏     | 801/1913 [06:52<09:41,  1.91it/s]"
     ]
    },
    {
     "name": "stdout",
     "output_type": "stream",
     "text": [
      "Epoch 10: 42%, loss: 0.698380\n"
     ]
    },
    {
     "name": "stderr",
     "output_type": "stream",
     "text": [
      " 47%|████▋     | 901/1913 [07:45<09:21,  1.80it/s]"
     ]
    },
    {
     "name": "stdout",
     "output_type": "stream",
     "text": [
      "Epoch 10: 47%, loss: 0.695874\n"
     ]
    },
    {
     "name": "stderr",
     "output_type": "stream",
     "text": [
      " 52%|█████▏    | 1001/1913 [08:38<08:09,  1.86it/s]"
     ]
    },
    {
     "name": "stdout",
     "output_type": "stream",
     "text": [
      "Epoch 10: 52%, loss: 0.695906\n"
     ]
    },
    {
     "name": "stderr",
     "output_type": "stream",
     "text": [
      " 58%|█████▊    | 1101/1913 [09:31<08:16,  1.63it/s]"
     ]
    },
    {
     "name": "stdout",
     "output_type": "stream",
     "text": [
      "Epoch 10: 58%, loss: 0.698546\n"
     ]
    },
    {
     "name": "stderr",
     "output_type": "stream",
     "text": [
      " 63%|██████▎   | 1201/1913 [10:26<07:09,  1.66it/s]"
     ]
    },
    {
     "name": "stdout",
     "output_type": "stream",
     "text": [
      "Epoch 10: 63%, loss: 0.699529\n"
     ]
    },
    {
     "name": "stderr",
     "output_type": "stream",
     "text": [
      " 68%|██████▊   | 1301/1913 [11:20<05:40,  1.80it/s]"
     ]
    },
    {
     "name": "stdout",
     "output_type": "stream",
     "text": [
      "Epoch 10: 68%, loss: 0.700454\n"
     ]
    },
    {
     "name": "stderr",
     "output_type": "stream",
     "text": [
      " 73%|███████▎  | 1401/1913 [12:15<04:43,  1.81it/s]"
     ]
    },
    {
     "name": "stdout",
     "output_type": "stream",
     "text": [
      "Epoch 10: 73%, loss: 0.702878\n"
     ]
    },
    {
     "name": "stderr",
     "output_type": "stream",
     "text": [
      " 78%|███████▊  | 1501/1913 [13:11<04:09,  1.65it/s]"
     ]
    },
    {
     "name": "stdout",
     "output_type": "stream",
     "text": [
      "Epoch 10: 78%, loss: 0.703232\n"
     ]
    },
    {
     "name": "stderr",
     "output_type": "stream",
     "text": [
      " 84%|████████▎ | 1601/1913 [14:06<02:47,  1.87it/s]"
     ]
    },
    {
     "name": "stdout",
     "output_type": "stream",
     "text": [
      "Epoch 10: 84%, loss: 0.697343\n"
     ]
    },
    {
     "name": "stderr",
     "output_type": "stream",
     "text": [
      " 89%|████████▉ | 1701/1913 [15:03<01:59,  1.77it/s]"
     ]
    },
    {
     "name": "stdout",
     "output_type": "stream",
     "text": [
      "Epoch 10: 89%, loss: 0.698290\n"
     ]
    },
    {
     "name": "stderr",
     "output_type": "stream",
     "text": [
      " 94%|█████████▍| 1801/1913 [15:59<00:56,  1.98it/s]"
     ]
    },
    {
     "name": "stdout",
     "output_type": "stream",
     "text": [
      "Epoch 10: 94%, loss: 0.699906\n"
     ]
    },
    {
     "name": "stderr",
     "output_type": "stream",
     "text": [
      " 99%|█████████▉| 1901/1913 [16:55<00:07,  1.65it/s]"
     ]
    },
    {
     "name": "stdout",
     "output_type": "stream",
     "text": [
      "Epoch 10: 99%, loss: 0.698732\n"
     ]
    },
    {
     "name": "stderr",
     "output_type": "stream",
     "text": [
      "100%|██████████| 1913/1913 [17:03<00:00,  1.87it/s]"
     ]
    },
    {
     "name": "stdout",
     "output_type": "stream",
     "text": [
      "Epoch 10: 100%, loss: 0.704185\n"
     ]
    },
    {
     "name": "stderr",
     "output_type": "stream",
     "text": [
      "\n"
     ]
    },
    {
     "name": "stdout",
     "output_type": "stream",
     "text": [
      "                      (Recall@5: 0.1053, Recall@10: 0.1434, Recall@20: 0.1812, Recall@40: 0.2176)\n",
      "\n",
      "                      (Precision@5: 0.1978, Precision@10: 0.1428, Precision@20: 0.0945, Precision@40: 0.0581)\n",
      "\n",
      "                      (F1-score@5: 0.1244, F1-score@10: 0.1285, F1-score@20: 0.1126, F1-score@40: 0.0851)\n",
      "\n",
      "                      (NDCG@5: 0.0992, NDCG@10: 0.1115, NDCG@20: 0.0977, NDCG@40: 0.0606)\n",
      "\n",
      "                      (MAE@5: 6.2718, MAE@10: 5.8470, MAE@20: 11.0282, MAE@40: 29.5375)\n",
      "\n",
      "train_loss= tensor(0.7010)\n",
      "--------------------\n"
     ]
    },
    {
     "name": "stderr",
     "output_type": "stream",
     "text": [
      "100%|██████████| 239/239 [01:41<00:00,  2.35it/s]\n"
     ]
    },
    {
     "name": "stdout",
     "output_type": "stream",
     "text": [
      "                      (Recall@5: 0.1026, Recall@10: 0.1365, Recall@20: 0.1726, Recall@40: 0.2049)\n",
      "\n",
      "                      (Precision@5: 0.1859, Precision@10: 0.1336, Precision@20: 0.0871, Precision@40: 0.0527)\n",
      "\n",
      "                      (F1-score@5: 0.1194, F1-score@10: 0.1211, F1-score@20: 0.1051, F1-score@40: 0.0780)\n",
      "\n",
      "                      (NDCG@5: 0.0963, NDCG@10: 0.1038, NDCG@20: 0.0912, NDCG@40: 0.0553)\n",
      "\n",
      "{'MAE@5': 6.019351464435147, 'MAE@10': 5.8446652719665275, 'MAE@20': 11.088389121338912, 'MAE@40': 29.772489539748953}\n",
      "                      (MAE@5: 6.0194, MAE@10: 5.8447, MAE@20: 11.0884, MAE@40: 29.7725)\n",
      "\n",
      "val_loss= tensor(0.7000)\n",
      "--------------------\n"
     ]
    },
    {
     "name": "stderr",
     "output_type": "stream",
     "text": [
      "100%|██████████| 239/239 [01:44<00:00,  2.30it/s]\n"
     ]
    },
    {
     "name": "stdout",
     "output_type": "stream",
     "text": [
      "                      (Recall@5: 0.1006, Recall@10: 0.1373, Recall@20: 0.1724, Recall@40: 0.2067)\n",
      "\n",
      "                      (Precision@5: 0.1890, Precision@10: 0.1369, Precision@20: 0.0898, Precision@40: 0.0549)\n",
      "\n",
      "                      (F1-score@5: 0.1190, F1-score@10: 0.1234, F1-score@20: 0.1073, F1-score@40: 0.0807)\n",
      "\n",
      "                      (NDCG@5: 0.0947, NDCG@10: 0.1061, NDCG@20: 0.0933, NDCG@40: 0.0574)\n",
      "\n",
      "                      (MAE@5: 6.2814, MAE@10: 5.7803, MAE@20: 10.7542, MAE@40: 29.4268)\n",
      "\n",
      "--------------------\n",
      "[[1, 0.15607632917366082, 0.09910760983263528, 0.09764014896938174, 0.0638703563560271, 13.0630230125523, 0.722453773021698], [2, 0.16787797646857172, 0.10788441422594079, 0.10677618527523439, 0.06858135951873134, 13.062761506276152, 0.7140420079231262], [3, 0.17311625337155057, 0.11456589958158932, 0.11251312024943701, 0.07248660706736929, 13.06276150627615, 0.7109320163726807], [4, 0.17665908129858643, 0.12194364539748882, 0.11748848642513324, 0.0761851370148312, 13.061192468619247, 0.7086025476455688], [5, 0.17387489095716846, 0.1247679131799157, 0.11785644154090623, 0.07759623447660587, 13.059623430962343, 0.7067774534225464], [6, 0.1717058875268331, 0.12548705543932992, 0.11744587706867395, 0.07858212239247314, 13.063023012552302, 0.7047101855278015], [7, 0.15551982385116792, 0.1168115847280328, 0.10796715501672832, 0.07736995541972838, 13.060669456066947, 0.7007943391799927], [8, 0.1540172436796225, 0.11727902719665198, 0.10734365254583328, 0.08778588321464474, 13.0630230125523, 0.6998544335365295], [9, 0.15436463996383565, 0.11724307008368133, 0.10744083975563636, 0.08771828992435247, 13.0619769874477, 0.6997537016868591], [10, 0.15422489024496833, 0.11765167364016668, 0.10760333208764669, 0.0879031712307802, 13.060669456066945, 0.6997384428977966]]\n",
      "-----------------------------------------------------------------------------------------\n"
     ]
    },
    {
     "name": "stderr",
     "output_type": "stream",
     "text": [
      "  0%|          | 1/1913 [00:00<20:24,  1.56it/s]"
     ]
    },
    {
     "name": "stdout",
     "output_type": "stream",
     "text": [
      "Epoch 11: 0%, loss: 0.696995\n"
     ]
    },
    {
     "name": "stderr",
     "output_type": "stream",
     "text": [
      "  5%|▌         | 101/1913 [00:54<14:59,  2.02it/s]"
     ]
    },
    {
     "name": "stdout",
     "output_type": "stream",
     "text": [
      "Epoch 11: 5%, loss: 0.698798\n"
     ]
    },
    {
     "name": "stderr",
     "output_type": "stream",
     "text": [
      " 11%|█         | 201/1913 [01:43<13:48,  2.07it/s]"
     ]
    },
    {
     "name": "stdout",
     "output_type": "stream",
     "text": [
      "Epoch 11: 10%, loss: 0.705208\n"
     ]
    },
    {
     "name": "stderr",
     "output_type": "stream",
     "text": [
      " 16%|█▌        | 301/1913 [02:32<12:49,  2.10it/s]"
     ]
    },
    {
     "name": "stdout",
     "output_type": "stream",
     "text": [
      "Epoch 11: 16%, loss: 0.703093\n"
     ]
    },
    {
     "name": "stderr",
     "output_type": "stream",
     "text": [
      " 21%|██        | 401/1913 [03:22<11:31,  2.19it/s]"
     ]
    },
    {
     "name": "stdout",
     "output_type": "stream",
     "text": [
      "Epoch 11: 21%, loss: 0.698473\n"
     ]
    },
    {
     "name": "stderr",
     "output_type": "stream",
     "text": [
      " 26%|██▌       | 501/1913 [04:13<11:20,  2.07it/s]"
     ]
    },
    {
     "name": "stdout",
     "output_type": "stream",
     "text": [
      "Epoch 11: 26%, loss: 0.700101\n"
     ]
    },
    {
     "name": "stderr",
     "output_type": "stream",
     "text": [
      " 31%|███▏      | 601/1913 [05:04<11:54,  1.84it/s]"
     ]
    },
    {
     "name": "stdout",
     "output_type": "stream",
     "text": [
      "Epoch 11: 31%, loss: 0.703542\n"
     ]
    },
    {
     "name": "stderr",
     "output_type": "stream",
     "text": [
      " 37%|███▋      | 701/1913 [05:58<09:59,  2.02it/s]"
     ]
    },
    {
     "name": "stdout",
     "output_type": "stream",
     "text": [
      "Epoch 11: 37%, loss: 0.699379\n"
     ]
    },
    {
     "name": "stderr",
     "output_type": "stream",
     "text": [
      " 42%|████▏     | 801/1913 [06:52<10:27,  1.77it/s]"
     ]
    },
    {
     "name": "stdout",
     "output_type": "stream",
     "text": [
      "Epoch 11: 42%, loss: 0.698067\n"
     ]
    },
    {
     "name": "stderr",
     "output_type": "stream",
     "text": [
      " 47%|████▋     | 901/1913 [07:45<08:59,  1.88it/s]"
     ]
    },
    {
     "name": "stdout",
     "output_type": "stream",
     "text": [
      "Epoch 11: 47%, loss: 0.702415\n"
     ]
    },
    {
     "name": "stderr",
     "output_type": "stream",
     "text": [
      " 52%|█████▏    | 1001/1913 [08:40<07:54,  1.92it/s]"
     ]
    },
    {
     "name": "stdout",
     "output_type": "stream",
     "text": [
      "Epoch 11: 52%, loss: 0.697031\n"
     ]
    },
    {
     "name": "stderr",
     "output_type": "stream",
     "text": [
      " 58%|█████▊    | 1101/1913 [09:35<08:03,  1.68it/s]"
     ]
    },
    {
     "name": "stdout",
     "output_type": "stream",
     "text": [
      "Epoch 11: 58%, loss: 0.702914\n"
     ]
    },
    {
     "name": "stderr",
     "output_type": "stream",
     "text": [
      " 63%|██████▎   | 1201/1913 [10:29<06:32,  1.81it/s]"
     ]
    },
    {
     "name": "stdout",
     "output_type": "stream",
     "text": [
      "Epoch 11: 63%, loss: 0.698647\n"
     ]
    },
    {
     "name": "stderr",
     "output_type": "stream",
     "text": [
      " 68%|██████▊   | 1301/1913 [11:23<05:48,  1.75it/s]"
     ]
    },
    {
     "name": "stdout",
     "output_type": "stream",
     "text": [
      "Epoch 11: 68%, loss: 0.699328\n"
     ]
    },
    {
     "name": "stderr",
     "output_type": "stream",
     "text": [
      " 73%|███████▎  | 1401/1913 [12:18<05:02,  1.69it/s]"
     ]
    },
    {
     "name": "stdout",
     "output_type": "stream",
     "text": [
      "Epoch 11: 73%, loss: 0.698661\n"
     ]
    },
    {
     "name": "stderr",
     "output_type": "stream",
     "text": [
      " 78%|███████▊  | 1501/1913 [13:13<03:57,  1.74it/s]"
     ]
    },
    {
     "name": "stdout",
     "output_type": "stream",
     "text": [
      "Epoch 11: 78%, loss: 0.700937\n"
     ]
    },
    {
     "name": "stderr",
     "output_type": "stream",
     "text": [
      " 84%|████████▎ | 1601/1913 [14:09<02:48,  1.86it/s]"
     ]
    },
    {
     "name": "stdout",
     "output_type": "stream",
     "text": [
      "Epoch 11: 84%, loss: 0.708589\n"
     ]
    },
    {
     "name": "stderr",
     "output_type": "stream",
     "text": [
      " 89%|████████▉ | 1701/1913 [15:04<01:49,  1.94it/s]"
     ]
    },
    {
     "name": "stdout",
     "output_type": "stream",
     "text": [
      "Epoch 11: 89%, loss: 0.700089\n"
     ]
    },
    {
     "name": "stderr",
     "output_type": "stream",
     "text": [
      " 94%|█████████▍| 1801/1913 [16:00<01:06,  1.69it/s]"
     ]
    },
    {
     "name": "stdout",
     "output_type": "stream",
     "text": [
      "Epoch 11: 94%, loss: 0.701732\n"
     ]
    },
    {
     "name": "stderr",
     "output_type": "stream",
     "text": [
      " 99%|█████████▉| 1901/1913 [16:55<00:06,  1.75it/s]"
     ]
    },
    {
     "name": "stdout",
     "output_type": "stream",
     "text": [
      "Epoch 11: 99%, loss: 0.701764\n"
     ]
    },
    {
     "name": "stderr",
     "output_type": "stream",
     "text": [
      "100%|██████████| 1913/1913 [17:01<00:00,  1.87it/s]"
     ]
    },
    {
     "name": "stdout",
     "output_type": "stream",
     "text": [
      "Epoch 11: 100%, loss: 0.697574\n"
     ]
    },
    {
     "name": "stderr",
     "output_type": "stream",
     "text": [
      "\n"
     ]
    },
    {
     "name": "stdout",
     "output_type": "stream",
     "text": [
      "                      (Recall@5: 0.1055, Recall@10: 0.1434, Recall@20: 0.1813, Recall@40: 0.2182)\n",
      "\n",
      "                      (Precision@5: 0.1981, Precision@10: 0.1430, Precision@20: 0.0945, Precision@40: 0.0582)\n",
      "\n",
      "                      (F1-score@5: 0.1247, F1-score@10: 0.1286, F1-score@20: 0.1126, F1-score@40: 0.0852)\n",
      "\n",
      "                      (NDCG@5: 0.0994, NDCG@10: 0.1115, NDCG@20: 0.0977, NDCG@40: 0.0606)\n",
      "\n",
      "                      (MAE@5: 6.2716, MAE@10: 5.8473, MAE@20: 11.0286, MAE@40: 29.5378)\n",
      "\n",
      "train_loss= tensor(0.7010)\n",
      "--------------------\n"
     ]
    },
    {
     "name": "stderr",
     "output_type": "stream",
     "text": [
      "100%|██████████| 239/239 [01:42<00:00,  2.33it/s]\n"
     ]
    },
    {
     "name": "stdout",
     "output_type": "stream",
     "text": [
      "                      (Recall@5: 0.1029, Recall@10: 0.1364, Recall@20: 0.1724, Recall@40: 0.2051)\n",
      "\n",
      "                      (Precision@5: 0.1866, Precision@10: 0.1336, Precision@20: 0.0870, Precision@40: 0.0527)\n",
      "\n",
      "                      (F1-score@5: 0.1198, F1-score@10: 0.1210, F1-score@20: 0.1049, F1-score@40: 0.0779)\n",
      "\n",
      "                      (NDCG@5: 0.0962, NDCG@10: 0.1036, NDCG@20: 0.0910, NDCG@40: 0.0552)\n",
      "\n",
      "{'MAE@5': 6.0177824267782425, 'MAE@10': 5.844142259414226, 'MAE@20': 11.089958158995817, 'MAE@40': 29.774058577405857}\n",
      "                      (MAE@5: 6.0178, MAE@10: 5.8441, MAE@20: 11.0900, MAE@40: 29.7741)\n",
      "\n",
      "val_loss= tensor(0.6999)\n",
      "--------------------\n"
     ]
    },
    {
     "name": "stderr",
     "output_type": "stream",
     "text": [
      "100%|██████████| 239/239 [01:45<00:00,  2.26it/s]\n"
     ]
    },
    {
     "name": "stdout",
     "output_type": "stream",
     "text": [
      "                      (Recall@5: 0.1002, Recall@10: 0.1376, Recall@20: 0.1724, Recall@40: 0.2071)\n",
      "\n",
      "                      (Precision@5: 0.1888, Precision@10: 0.1371, Precision@20: 0.0896, Precision@40: 0.0550)\n",
      "\n",
      "                      (F1-score@5: 0.1187, F1-score@10: 0.1236, F1-score@20: 0.1072, F1-score@40: 0.0808)\n",
      "\n",
      "                      (NDCG@5: 0.0946, NDCG@10: 0.1061, NDCG@20: 0.0932, NDCG@40: 0.0574)\n",
      "\n",
      "                      (MAE@5: 6.2751, MAE@10: 5.7793, MAE@20: 10.7626, MAE@40: 29.4351)\n",
      "\n",
      "--------------------\n",
      "[[1, 0.15607632917366082, 0.09910760983263528, 0.09764014896938174, 0.0638703563560271, 13.0630230125523, 0.722453773021698], [2, 0.16787797646857172, 0.10788441422594079, 0.10677618527523439, 0.06858135951873134, 13.062761506276152, 0.7140420079231262], [3, 0.17311625337155057, 0.11456589958158932, 0.11251312024943701, 0.07248660706736929, 13.06276150627615, 0.7109320163726807], [4, 0.17665908129858643, 0.12194364539748882, 0.11748848642513324, 0.0761851370148312, 13.061192468619247, 0.7086025476455688], [5, 0.17387489095716846, 0.1247679131799157, 0.11785644154090623, 0.07759623447660587, 13.059623430962343, 0.7067774534225464], [6, 0.1717058875268331, 0.12548705543932992, 0.11744587706867395, 0.07858212239247314, 13.063023012552302, 0.7047101855278015], [7, 0.15551982385116792, 0.1168115847280328, 0.10796715501672832, 0.07736995541972838, 13.060669456066947, 0.7007943391799927], [8, 0.1540172436796225, 0.11727902719665198, 0.10734365254583328, 0.08778588321464474, 13.0630230125523, 0.6998544335365295], [9, 0.15436463996383565, 0.11724307008368133, 0.10744083975563636, 0.08771828992435247, 13.0619769874477, 0.6997537016868591], [10, 0.15422489024496833, 0.11765167364016668, 0.10760333208764669, 0.0879031712307802, 13.060669456066945, 0.6997384428977966], [11, 0.15434217211837145, 0.11762225418409977, 0.10755442729968667, 0.08782620548722908, 13.0630230125523, 0.6997179985046387]]\n",
      "-----------------------------------------------------------------------------------------\n"
     ]
    },
    {
     "name": "stderr",
     "output_type": "stream",
     "text": [
      "  0%|          | 1/1913 [00:00<15:35,  2.04it/s]"
     ]
    },
    {
     "name": "stdout",
     "output_type": "stream",
     "text": [
      "Epoch 12: 0%, loss: 0.700117\n"
     ]
    },
    {
     "name": "stderr",
     "output_type": "stream",
     "text": [
      "  5%|▌         | 101/1913 [00:54<16:51,  1.79it/s]"
     ]
    },
    {
     "name": "stdout",
     "output_type": "stream",
     "text": [
      "Epoch 12: 5%, loss: 0.699497\n"
     ]
    },
    {
     "name": "stderr",
     "output_type": "stream",
     "text": [
      " 11%|█         | 201/1913 [01:46<13:56,  2.05it/s]"
     ]
    },
    {
     "name": "stdout",
     "output_type": "stream",
     "text": [
      "Epoch 12: 10%, loss: 0.698317\n"
     ]
    },
    {
     "name": "stderr",
     "output_type": "stream",
     "text": [
      " 16%|█▌        | 301/1913 [02:36<13:43,  1.96it/s]"
     ]
    },
    {
     "name": "stdout",
     "output_type": "stream",
     "text": [
      "Epoch 12: 16%, loss: 0.699368\n"
     ]
    },
    {
     "name": "stderr",
     "output_type": "stream",
     "text": [
      " 21%|██        | 401/1913 [03:26<13:14,  1.90it/s]"
     ]
    },
    {
     "name": "stdout",
     "output_type": "stream",
     "text": [
      "Epoch 12: 21%, loss: 0.696929\n"
     ]
    },
    {
     "name": "stderr",
     "output_type": "stream",
     "text": [
      " 26%|██▌       | 501/1913 [04:16<10:35,  2.22it/s]"
     ]
    },
    {
     "name": "stdout",
     "output_type": "stream",
     "text": [
      "Epoch 12: 26%, loss: 0.701831\n"
     ]
    },
    {
     "name": "stderr",
     "output_type": "stream",
     "text": [
      " 31%|███▏      | 601/1913 [05:08<11:22,  1.92it/s]"
     ]
    },
    {
     "name": "stdout",
     "output_type": "stream",
     "text": [
      "Epoch 12: 31%, loss: 0.705735\n"
     ]
    },
    {
     "name": "stderr",
     "output_type": "stream",
     "text": [
      " 37%|███▋      | 701/1913 [06:02<11:43,  1.72it/s]"
     ]
    },
    {
     "name": "stdout",
     "output_type": "stream",
     "text": [
      "Epoch 12: 37%, loss: 0.703728\n"
     ]
    },
    {
     "name": "stderr",
     "output_type": "stream",
     "text": [
      " 42%|████▏     | 801/1913 [06:57<08:53,  2.08it/s]"
     ]
    },
    {
     "name": "stdout",
     "output_type": "stream",
     "text": [
      "Epoch 12: 42%, loss: 0.698345\n"
     ]
    },
    {
     "name": "stderr",
     "output_type": "stream",
     "text": [
      " 47%|████▋     | 901/1913 [07:51<09:44,  1.73it/s]"
     ]
    },
    {
     "name": "stdout",
     "output_type": "stream",
     "text": [
      "Epoch 12: 47%, loss: 0.698260\n"
     ]
    },
    {
     "name": "stderr",
     "output_type": "stream",
     "text": [
      " 52%|█████▏    | 1001/1913 [08:46<08:39,  1.76it/s]"
     ]
    },
    {
     "name": "stdout",
     "output_type": "stream",
     "text": [
      "Epoch 12: 52%, loss: 0.700819\n"
     ]
    },
    {
     "name": "stderr",
     "output_type": "stream",
     "text": [
      " 58%|█████▊    | 1101/1913 [09:38<06:38,  2.04it/s]"
     ]
    },
    {
     "name": "stdout",
     "output_type": "stream",
     "text": [
      "Epoch 12: 58%, loss: 0.699715\n"
     ]
    },
    {
     "name": "stderr",
     "output_type": "stream",
     "text": [
      " 63%|██████▎   | 1201/1913 [10:35<06:26,  1.84it/s]"
     ]
    },
    {
     "name": "stdout",
     "output_type": "stream",
     "text": [
      "Epoch 12: 63%, loss: 0.701151\n"
     ]
    },
    {
     "name": "stderr",
     "output_type": "stream",
     "text": [
      " 68%|██████▊   | 1301/1913 [11:31<06:07,  1.66it/s]"
     ]
    },
    {
     "name": "stdout",
     "output_type": "stream",
     "text": [
      "Epoch 12: 68%, loss: 0.702398\n"
     ]
    },
    {
     "name": "stderr",
     "output_type": "stream",
     "text": [
      " 73%|███████▎  | 1401/1913 [12:28<04:36,  1.85it/s]"
     ]
    },
    {
     "name": "stdout",
     "output_type": "stream",
     "text": [
      "Epoch 12: 73%, loss: 0.697795\n"
     ]
    },
    {
     "name": "stderr",
     "output_type": "stream",
     "text": [
      " 78%|███████▊  | 1501/1913 [13:23<03:33,  1.93it/s]"
     ]
    },
    {
     "name": "stdout",
     "output_type": "stream",
     "text": [
      "Epoch 12: 78%, loss: 0.704834\n"
     ]
    },
    {
     "name": "stderr",
     "output_type": "stream",
     "text": [
      " 84%|████████▎ | 1601/1913 [14:19<02:59,  1.74it/s]"
     ]
    },
    {
     "name": "stdout",
     "output_type": "stream",
     "text": [
      "Epoch 12: 84%, loss: 0.699364\n"
     ]
    },
    {
     "name": "stderr",
     "output_type": "stream",
     "text": [
      " 89%|████████▉ | 1701/1913 [15:15<02:01,  1.75it/s]"
     ]
    },
    {
     "name": "stdout",
     "output_type": "stream",
     "text": [
      "Epoch 12: 89%, loss: 0.699020\n"
     ]
    },
    {
     "name": "stderr",
     "output_type": "stream",
     "text": [
      " 94%|█████████▍| 1801/1913 [16:12<01:02,  1.80it/s]"
     ]
    },
    {
     "name": "stdout",
     "output_type": "stream",
     "text": [
      "Epoch 12: 94%, loss: 0.702653\n"
     ]
    },
    {
     "name": "stderr",
     "output_type": "stream",
     "text": [
      " 99%|█████████▉| 1901/1913 [17:08<00:06,  1.75it/s]"
     ]
    },
    {
     "name": "stdout",
     "output_type": "stream",
     "text": [
      "Epoch 12: 99%, loss: 0.699430\n"
     ]
    },
    {
     "name": "stderr",
     "output_type": "stream",
     "text": [
      "100%|██████████| 1913/1913 [17:15<00:00,  1.85it/s]"
     ]
    },
    {
     "name": "stdout",
     "output_type": "stream",
     "text": [
      "Epoch 12: 100%, loss: 0.702536\n"
     ]
    },
    {
     "name": "stderr",
     "output_type": "stream",
     "text": [
      "\n"
     ]
    },
    {
     "name": "stdout",
     "output_type": "stream",
     "text": [
      "                      (Recall@5: 0.1055, Recall@10: 0.1437, Recall@20: 0.1817, Recall@40: 0.2174)\n",
      "\n",
      "                      (Precision@5: 0.1982, Precision@10: 0.1431, Precision@20: 0.0946, Precision@40: 0.0580)\n",
      "\n",
      "                      (F1-score@5: 0.1247, F1-score@10: 0.1287, F1-score@20: 0.1128, F1-score@40: 0.0850)\n",
      "\n",
      "                      (NDCG@5: 0.0994, NDCG@10: 0.1115, NDCG@20: 0.0978, NDCG@40: 0.0605)\n",
      "\n",
      "                      (MAE@5: 6.2718, MAE@10: 5.8470, MAE@20: 11.0282, MAE@40: 29.5375)\n",
      "\n",
      "train_loss= tensor(0.7007)\n",
      "--------------------\n"
     ]
    },
    {
     "name": "stderr",
     "output_type": "stream",
     "text": [
      "100%|██████████| 239/239 [01:42<00:00,  2.33it/s]\n"
     ]
    },
    {
     "name": "stdout",
     "output_type": "stream",
     "text": [
      "                      (Recall@5: 0.1023, Recall@10: 0.1364, Recall@20: 0.1723, Recall@40: 0.2046)\n",
      "\n",
      "                      (Precision@5: 0.1853, Precision@10: 0.1336, Precision@20: 0.0869, Precision@40: 0.0525)\n",
      "\n",
      "                      (F1-score@5: 0.1191, F1-score@10: 0.1210, F1-score@20: 0.1049, F1-score@40: 0.0777)\n",
      "\n",
      "                      (NDCG@5: 0.0958, NDCG@10: 0.1034, NDCG@20: 0.0909, NDCG@40: 0.0551)\n",
      "\n",
      "{'MAE@5': 6.016213389121339, 'MAE@10': 5.8425732217573225, 'MAE@20': 11.09152719665272, 'MAE@40': 29.77562761506276}\n",
      "                      (MAE@5: 6.0162, MAE@10: 5.8426, MAE@20: 11.0915, MAE@40: 29.7756)\n",
      "\n",
      "val_loss= tensor(0.6999)\n",
      "--------------------\n"
     ]
    },
    {
     "name": "stderr",
     "output_type": "stream",
     "text": [
      "100%|██████████| 239/239 [01:44<00:00,  2.28it/s]\n"
     ]
    },
    {
     "name": "stdout",
     "output_type": "stream",
     "text": [
      "                      (Recall@5: 0.0998, Recall@10: 0.1379, Recall@20: 0.1719, Recall@40: 0.2062)\n",
      "\n",
      "                      (Precision@5: 0.1883, Precision@10: 0.1374, Precision@20: 0.0896, Precision@40: 0.0550)\n",
      "\n",
      "                      (F1-score@5: 0.1183, F1-score@10: 0.1239, F1-score@20: 0.1070, F1-score@40: 0.0808)\n",
      "\n",
      "                      (NDCG@5: 0.0942, NDCG@10: 0.1062, NDCG@20: 0.0932, NDCG@40: 0.0574)\n",
      "\n",
      "                      (MAE@5: 6.2835, MAE@10: 5.7814, MAE@20: 10.7542, MAE@40: 29.4268)\n",
      "\n",
      "--------------------\n",
      "[[1, 0.15607632917366082, 0.09910760983263528, 0.09764014896938174, 0.0638703563560271, 13.0630230125523, 0.722453773021698], [2, 0.16787797646857172, 0.10788441422594079, 0.10677618527523439, 0.06858135951873134, 13.062761506276152, 0.7140420079231262], [3, 0.17311625337155057, 0.11456589958158932, 0.11251312024943701, 0.07248660706736929, 13.06276150627615, 0.7109320163726807], [4, 0.17665908129858643, 0.12194364539748882, 0.11748848642513324, 0.0761851370148312, 13.061192468619247, 0.7086025476455688], [5, 0.17387489095716846, 0.1247679131799157, 0.11785644154090623, 0.07759623447660587, 13.059623430962343, 0.7067774534225464], [6, 0.1717058875268331, 0.12548705543932992, 0.11744587706867395, 0.07858212239247314, 13.063023012552302, 0.7047101855278015], [7, 0.15551982385116792, 0.1168115847280328, 0.10796715501672832, 0.07736995541972838, 13.060669456066947, 0.7007943391799927], [8, 0.1540172436796225, 0.11727902719665198, 0.10734365254583328, 0.08778588321464474, 13.0630230125523, 0.6998544335365295], [9, 0.15436463996383565, 0.11724307008368133, 0.10744083975563636, 0.08771828992435247, 13.0619769874477, 0.6997537016868591], [10, 0.15422489024496833, 0.11765167364016668, 0.10760333208764669, 0.0879031712307802, 13.060669456066945, 0.6997384428977966], [11, 0.15434217211837145, 0.11762225418409977, 0.10755442729968667, 0.08782620548722908, 13.0630230125523, 0.6997179985046387], [12, 0.153939105950888, 0.11756341527196579, 0.1075010125321616, 0.08776856399713343, 13.061453974895397, 0.6997074484825134]]\n",
      "-----------------------------------------------------------------------------------------\n"
     ]
    },
    {
     "name": "stderr",
     "output_type": "stream",
     "text": [
      "  0%|          | 1/1913 [00:00<19:49,  1.61it/s]"
     ]
    },
    {
     "name": "stdout",
     "output_type": "stream",
     "text": [
      "Epoch 13: 0%, loss: 0.699521\n"
     ]
    },
    {
     "name": "stderr",
     "output_type": "stream",
     "text": [
      "  5%|▌         | 101/1913 [00:55<17:04,  1.77it/s]"
     ]
    },
    {
     "name": "stdout",
     "output_type": "stream",
     "text": [
      "Epoch 13: 5%, loss: 0.697506\n"
     ]
    },
    {
     "name": "stderr",
     "output_type": "stream",
     "text": [
      " 11%|█         | 201/1913 [01:48<15:28,  1.84it/s]"
     ]
    },
    {
     "name": "stdout",
     "output_type": "stream",
     "text": [
      "Epoch 13: 10%, loss: 0.699713\n"
     ]
    },
    {
     "name": "stderr",
     "output_type": "stream",
     "text": [
      " 16%|█▌        | 301/1913 [02:38<13:55,  1.93it/s]"
     ]
    },
    {
     "name": "stdout",
     "output_type": "stream",
     "text": [
      "Epoch 13: 16%, loss: 0.700753\n"
     ]
    },
    {
     "name": "stderr",
     "output_type": "stream",
     "text": [
      " 21%|██        | 401/1913 [03:28<13:49,  1.82it/s]"
     ]
    },
    {
     "name": "stdout",
     "output_type": "stream",
     "text": [
      "Epoch 13: 21%, loss: 0.699415\n"
     ]
    },
    {
     "name": "stderr",
     "output_type": "stream",
     "text": [
      " 26%|██▌       | 501/1913 [04:19<10:59,  2.14it/s]"
     ]
    },
    {
     "name": "stdout",
     "output_type": "stream",
     "text": [
      "Epoch 13: 26%, loss: 0.700991\n"
     ]
    },
    {
     "name": "stderr",
     "output_type": "stream",
     "text": [
      " 31%|███▏      | 601/1913 [05:10<10:33,  2.07it/s]"
     ]
    },
    {
     "name": "stdout",
     "output_type": "stream",
     "text": [
      "Epoch 13: 31%, loss: 0.702523\n"
     ]
    },
    {
     "name": "stderr",
     "output_type": "stream",
     "text": [
      " 37%|███▋      | 701/1913 [06:04<11:05,  1.82it/s]"
     ]
    },
    {
     "name": "stdout",
     "output_type": "stream",
     "text": [
      "Epoch 13: 37%, loss: 0.700247\n"
     ]
    },
    {
     "name": "stderr",
     "output_type": "stream",
     "text": [
      " 42%|████▏     | 801/1913 [06:57<08:44,  2.12it/s]"
     ]
    },
    {
     "name": "stdout",
     "output_type": "stream",
     "text": [
      "Epoch 13: 42%, loss: 0.698299\n"
     ]
    },
    {
     "name": "stderr",
     "output_type": "stream",
     "text": [
      " 47%|████▋     | 901/1913 [07:51<09:02,  1.86it/s]"
     ]
    },
    {
     "name": "stdout",
     "output_type": "stream",
     "text": [
      "Epoch 13: 47%, loss: 0.699254\n"
     ]
    },
    {
     "name": "stderr",
     "output_type": "stream",
     "text": [
      " 52%|█████▏    | 1001/1913 [08:46<07:23,  2.06it/s]"
     ]
    },
    {
     "name": "stdout",
     "output_type": "stream",
     "text": [
      "Epoch 13: 52%, loss: 0.702289\n"
     ]
    },
    {
     "name": "stderr",
     "output_type": "stream",
     "text": [
      " 58%|█████▊    | 1101/1913 [09:39<06:50,  1.98it/s]"
     ]
    },
    {
     "name": "stdout",
     "output_type": "stream",
     "text": [
      "Epoch 13: 58%, loss: 0.699978\n"
     ]
    },
    {
     "name": "stderr",
     "output_type": "stream",
     "text": [
      " 63%|██████▎   | 1201/1913 [10:34<07:05,  1.67it/s]"
     ]
    },
    {
     "name": "stdout",
     "output_type": "stream",
     "text": [
      "Epoch 13: 63%, loss: 0.698716\n"
     ]
    },
    {
     "name": "stderr",
     "output_type": "stream",
     "text": [
      " 68%|██████▊   | 1301/1913 [11:30<05:44,  1.78it/s]"
     ]
    },
    {
     "name": "stdout",
     "output_type": "stream",
     "text": [
      "Epoch 13: 68%, loss: 0.703963\n"
     ]
    },
    {
     "name": "stderr",
     "output_type": "stream",
     "text": [
      " 73%|███████▎  | 1401/1913 [12:27<04:54,  1.74it/s]"
     ]
    },
    {
     "name": "stdout",
     "output_type": "stream",
     "text": [
      "Epoch 13: 73%, loss: 0.696256\n"
     ]
    },
    {
     "name": "stderr",
     "output_type": "stream",
     "text": [
      " 78%|███████▊  | 1501/1913 [13:23<03:35,  1.91it/s]"
     ]
    },
    {
     "name": "stdout",
     "output_type": "stream",
     "text": [
      "Epoch 13: 78%, loss: 0.699625\n"
     ]
    },
    {
     "name": "stderr",
     "output_type": "stream",
     "text": [
      " 84%|████████▎ | 1601/1913 [14:20<02:58,  1.74it/s]"
     ]
    },
    {
     "name": "stdout",
     "output_type": "stream",
     "text": [
      "Epoch 13: 84%, loss: 0.703740\n"
     ]
    },
    {
     "name": "stderr",
     "output_type": "stream",
     "text": [
      " 89%|████████▉ | 1701/1913 [15:16<01:55,  1.84it/s]"
     ]
    },
    {
     "name": "stdout",
     "output_type": "stream",
     "text": [
      "Epoch 13: 89%, loss: 0.701317\n"
     ]
    },
    {
     "name": "stderr",
     "output_type": "stream",
     "text": [
      " 94%|█████████▍| 1801/1913 [16:14<01:08,  1.64it/s]"
     ]
    },
    {
     "name": "stdout",
     "output_type": "stream",
     "text": [
      "Epoch 13: 94%, loss: 0.698144\n"
     ]
    },
    {
     "name": "stderr",
     "output_type": "stream",
     "text": [
      " 99%|█████████▉| 1901/1913 [17:11<00:07,  1.67it/s]"
     ]
    },
    {
     "name": "stdout",
     "output_type": "stream",
     "text": [
      "Epoch 13: 99%, loss: 0.702192\n"
     ]
    },
    {
     "name": "stderr",
     "output_type": "stream",
     "text": [
      "100%|██████████| 1913/1913 [17:17<00:00,  1.84it/s]"
     ]
    },
    {
     "name": "stdout",
     "output_type": "stream",
     "text": [
      "Epoch 13: 100%, loss: 0.696678\n"
     ]
    },
    {
     "name": "stderr",
     "output_type": "stream",
     "text": [
      "\n"
     ]
    },
    {
     "name": "stdout",
     "output_type": "stream",
     "text": [
      "                      (Recall@5: 0.1054, Recall@10: 0.1436, Recall@20: 0.1815, Recall@40: 0.2178)\n",
      "\n",
      "                      (Precision@5: 0.1976, Precision@10: 0.1429, Precision@20: 0.0947, Precision@40: 0.0581)\n",
      "\n",
      "                      (F1-score@5: 0.1244, F1-score@10: 0.1286, F1-score@20: 0.1128, F1-score@40: 0.0852)\n",
      "\n",
      "                      (NDCG@5: 0.0992, NDCG@10: 0.1113, NDCG@20: 0.0977, NDCG@40: 0.0606)\n",
      "\n",
      "                      (MAE@5: 6.2712, MAE@10: 5.8470, MAE@20: 11.0289, MAE@40: 29.5382)\n",
      "\n",
      "train_loss= tensor(0.7006)\n",
      "--------------------\n"
     ]
    },
    {
     "name": "stderr",
     "output_type": "stream",
     "text": [
      "100%|██████████| 239/239 [01:43<00:00,  2.31it/s]\n"
     ]
    },
    {
     "name": "stdout",
     "output_type": "stream",
     "text": [
      "                      (Recall@5: 0.1020, Recall@10: 0.1364, Recall@20: 0.1722, Recall@40: 0.2048)\n",
      "\n",
      "                      (Precision@5: 0.1854, Precision@10: 0.1337, Precision@20: 0.0868, Precision@40: 0.0527)\n",
      "\n",
      "                      (F1-score@5: 0.1188, F1-score@10: 0.1211, F1-score@20: 0.1048, F1-score@40: 0.0779)\n",
      "\n",
      "                      (NDCG@5: 0.0957, NDCG@10: 0.1035, NDCG@20: 0.0908, NDCG@40: 0.0552)\n",
      "\n",
      "{'MAE@5': 6.020397489539749, 'MAE@10': 5.84152719665272, 'MAE@20': 11.085251046025105, 'MAE@40': 29.769351464435147}\n",
      "                      (MAE@5: 6.0204, MAE@10: 5.8415, MAE@20: 11.0853, MAE@40: 29.7694)\n",
      "\n",
      "val_loss= tensor(0.6999)\n",
      "--------------------\n"
     ]
    },
    {
     "name": "stderr",
     "output_type": "stream",
     "text": [
      "100%|██████████| 239/239 [01:45<00:00,  2.27it/s]\n"
     ]
    },
    {
     "name": "stdout",
     "output_type": "stream",
     "text": [
      "                      (Recall@5: 0.0997, Recall@10: 0.1373, Recall@20: 0.1718, Recall@40: 0.2069)\n",
      "\n",
      "                      (Precision@5: 0.1877, Precision@10: 0.1371, Precision@20: 0.0896, Precision@40: 0.0551)\n",
      "\n",
      "                      (F1-score@5: 0.1180, F1-score@10: 0.1235, F1-score@20: 0.1070, F1-score@40: 0.0809)\n",
      "\n",
      "                      (NDCG@5: 0.0942, NDCG@10: 0.1059, NDCG@20: 0.0931, NDCG@40: 0.0574)\n",
      "\n",
      "                      (MAE@5: 6.2824, MAE@10: 5.7814, MAE@20: 10.7552, MAE@40: 29.4278)\n",
      "\n",
      "--------------------\n",
      "[[1, 0.15607632917366082, 0.09910760983263528, 0.09764014896938174, 0.0638703563560271, 13.0630230125523, 0.722453773021698], [2, 0.16787797646857172, 0.10788441422594079, 0.10677618527523439, 0.06858135951873134, 13.062761506276152, 0.7140420079231262], [3, 0.17311625337155057, 0.11456589958158932, 0.11251312024943701, 0.07248660706736929, 13.06276150627615, 0.7109320163726807], [4, 0.17665908129858643, 0.12194364539748882, 0.11748848642513324, 0.0761851370148312, 13.061192468619247, 0.7086025476455688], [5, 0.17387489095716846, 0.1247679131799157, 0.11785644154090623, 0.07759623447660587, 13.059623430962343, 0.7067774534225464], [6, 0.1717058875268331, 0.12548705543932992, 0.11744587706867395, 0.07858212239247314, 13.063023012552302, 0.7047101855278015], [7, 0.15551982385116792, 0.1168115847280328, 0.10796715501672832, 0.07736995541972838, 13.060669456066947, 0.7007943391799927], [8, 0.1540172436796225, 0.11727902719665198, 0.10734365254583328, 0.08778588321464474, 13.0630230125523, 0.6998544335365295], [9, 0.15436463996383565, 0.11724307008368133, 0.10744083975563636, 0.08771828992435247, 13.0619769874477, 0.6997537016868591], [10, 0.15422489024496833, 0.11765167364016668, 0.10760333208764669, 0.0879031712307802, 13.060669456066945, 0.6997384428977966], [11, 0.15434217211837145, 0.11762225418409977, 0.10755442729968667, 0.08782620548722908, 13.0630230125523, 0.6997179985046387], [12, 0.153939105950888, 0.11756341527196579, 0.1075010125321616, 0.08776856399713343, 13.061453974895397, 0.6997074484825134], [13, 0.153929352039736, 0.11736728556485268, 0.10735859993906063, 0.08767256545002532, 13.061715481171548, 0.6997002363204956]]\n",
      "-----------------------------------------------------------------------------------------\n"
     ]
    },
    {
     "name": "stderr",
     "output_type": "stream",
     "text": [
      "  0%|          | 1/1913 [00:00<18:50,  1.69it/s]"
     ]
    },
    {
     "name": "stdout",
     "output_type": "stream",
     "text": [
      "Epoch 14: 0%, loss: 0.698098\n"
     ]
    },
    {
     "name": "stderr",
     "output_type": "stream",
     "text": [
      "  5%|▌         | 101/1913 [00:54<15:33,  1.94it/s]"
     ]
    },
    {
     "name": "stdout",
     "output_type": "stream",
     "text": [
      "Epoch 14: 5%, loss: 0.696748\n"
     ]
    },
    {
     "name": "stderr",
     "output_type": "stream",
     "text": [
      " 11%|█         | 201/1913 [01:48<15:24,  1.85it/s]"
     ]
    },
    {
     "name": "stdout",
     "output_type": "stream",
     "text": [
      "Epoch 14: 10%, loss: 0.702258\n"
     ]
    },
    {
     "name": "stderr",
     "output_type": "stream",
     "text": [
      " 16%|█▌        | 301/1913 [02:38<13:13,  2.03it/s]"
     ]
    },
    {
     "name": "stdout",
     "output_type": "stream",
     "text": [
      "Epoch 14: 16%, loss: 0.791298\n"
     ]
    },
    {
     "name": "stderr",
     "output_type": "stream",
     "text": [
      " 21%|██        | 401/1913 [03:29<12:32,  2.01it/s]"
     ]
    },
    {
     "name": "stdout",
     "output_type": "stream",
     "text": [
      "Epoch 14: 21%, loss: 0.696831\n"
     ]
    },
    {
     "name": "stderr",
     "output_type": "stream",
     "text": [
      " 26%|██▌       | 501/1913 [04:20<12:28,  1.89it/s]"
     ]
    },
    {
     "name": "stdout",
     "output_type": "stream",
     "text": [
      "Epoch 14: 26%, loss: 0.695445\n"
     ]
    },
    {
     "name": "stderr",
     "output_type": "stream",
     "text": [
      " 31%|███▏      | 601/1913 [05:10<10:51,  2.01it/s]"
     ]
    },
    {
     "name": "stdout",
     "output_type": "stream",
     "text": [
      "Epoch 14: 31%, loss: 0.699138\n"
     ]
    },
    {
     "name": "stderr",
     "output_type": "stream",
     "text": [
      " 37%|███▋      | 701/1913 [06:03<10:48,  1.87it/s]"
     ]
    },
    {
     "name": "stdout",
     "output_type": "stream",
     "text": [
      "Epoch 14: 37%, loss: 0.699952\n"
     ]
    },
    {
     "name": "stderr",
     "output_type": "stream",
     "text": [
      " 42%|████▏     | 801/1913 [06:56<09:54,  1.87it/s]"
     ]
    },
    {
     "name": "stdout",
     "output_type": "stream",
     "text": [
      "Epoch 14: 42%, loss: 0.701774\n"
     ]
    },
    {
     "name": "stderr",
     "output_type": "stream",
     "text": [
      " 47%|████▋     | 901/1913 [07:50<08:02,  2.10it/s]"
     ]
    },
    {
     "name": "stdout",
     "output_type": "stream",
     "text": [
      "Epoch 14: 47%, loss: 0.697237\n"
     ]
    },
    {
     "name": "stderr",
     "output_type": "stream",
     "text": [
      " 52%|█████▏    | 1001/1913 [08:44<08:38,  1.76it/s]"
     ]
    },
    {
     "name": "stdout",
     "output_type": "stream",
     "text": [
      "Epoch 14: 52%, loss: 0.697103\n"
     ]
    },
    {
     "name": "stderr",
     "output_type": "stream",
     "text": [
      " 58%|█████▊    | 1101/1913 [09:39<07:05,  1.91it/s]"
     ]
    },
    {
     "name": "stdout",
     "output_type": "stream",
     "text": [
      "Epoch 14: 58%, loss: 0.698955\n"
     ]
    },
    {
     "name": "stderr",
     "output_type": "stream",
     "text": [
      " 63%|██████▎   | 1201/1913 [10:34<06:38,  1.79it/s]"
     ]
    },
    {
     "name": "stdout",
     "output_type": "stream",
     "text": [
      "Epoch 14: 63%, loss: 0.702286\n"
     ]
    },
    {
     "name": "stderr",
     "output_type": "stream",
     "text": [
      " 68%|██████▊   | 1301/1913 [11:29<05:28,  1.87it/s]"
     ]
    },
    {
     "name": "stdout",
     "output_type": "stream",
     "text": [
      "Epoch 14: 68%, loss: 0.700418\n"
     ]
    },
    {
     "name": "stderr",
     "output_type": "stream",
     "text": [
      " 73%|███████▎  | 1401/1913 [12:25<05:29,  1.55it/s]"
     ]
    },
    {
     "name": "stdout",
     "output_type": "stream",
     "text": [
      "Epoch 14: 73%, loss: 0.701805\n"
     ]
    },
    {
     "name": "stderr",
     "output_type": "stream",
     "text": [
      " 78%|███████▊  | 1501/1913 [13:21<03:27,  1.99it/s]"
     ]
    },
    {
     "name": "stdout",
     "output_type": "stream",
     "text": [
      "Epoch 14: 78%, loss: 0.698075\n"
     ]
    },
    {
     "name": "stderr",
     "output_type": "stream",
     "text": [
      " 84%|████████▎ | 1601/1913 [14:18<02:54,  1.78it/s]"
     ]
    },
    {
     "name": "stdout",
     "output_type": "stream",
     "text": [
      "Epoch 14: 84%, loss: 0.698799\n"
     ]
    },
    {
     "name": "stderr",
     "output_type": "stream",
     "text": [
      " 89%|████████▉ | 1701/1913 [15:14<02:07,  1.66it/s]"
     ]
    },
    {
     "name": "stdout",
     "output_type": "stream",
     "text": [
      "Epoch 14: 89%, loss: 0.701357\n"
     ]
    },
    {
     "name": "stderr",
     "output_type": "stream",
     "text": [
      " 94%|█████████▍| 1801/1913 [16:11<01:06,  1.69it/s]"
     ]
    },
    {
     "name": "stdout",
     "output_type": "stream",
     "text": [
      "Epoch 14: 94%, loss: 0.697706\n"
     ]
    },
    {
     "name": "stderr",
     "output_type": "stream",
     "text": [
      " 99%|█████████▉| 1901/1913 [17:09<00:06,  1.77it/s]"
     ]
    },
    {
     "name": "stdout",
     "output_type": "stream",
     "text": [
      "Epoch 14: 99%, loss: 0.701230\n"
     ]
    },
    {
     "name": "stderr",
     "output_type": "stream",
     "text": [
      "100%|██████████| 1913/1913 [17:16<00:00,  1.85it/s]"
     ]
    },
    {
     "name": "stdout",
     "output_type": "stream",
     "text": [
      "Epoch 14: 100%, loss: 0.697178\n"
     ]
    },
    {
     "name": "stderr",
     "output_type": "stream",
     "text": [
      "\n"
     ]
    },
    {
     "name": "stdout",
     "output_type": "stream",
     "text": [
      "                      (Recall@5: 0.1053, Recall@10: 0.1437, Recall@20: 0.1816, Recall@40: 0.2184)\n",
      "\n",
      "                      (Precision@5: 0.1978, Precision@10: 0.1429, Precision@20: 0.0948, Precision@40: 0.0582)\n",
      "\n",
      "                      (F1-score@5: 0.1244, F1-score@10: 0.1286, F1-score@20: 0.1129, F1-score@40: 0.0853)\n",
      "\n",
      "                      (NDCG@5: 0.0992, NDCG@10: 0.1114, NDCG@20: 0.0978, NDCG@40: 0.0606)\n",
      "\n",
      "                      (MAE@5: 6.2717, MAE@10: 5.8472, MAE@20: 11.0285, MAE@40: 29.5378)\n",
      "\n",
      "train_loss= tensor(0.7006)\n",
      "--------------------\n"
     ]
    },
    {
     "name": "stderr",
     "output_type": "stream",
     "text": [
      "100%|██████████| 239/239 [01:42<00:00,  2.33it/s]\n"
     ]
    },
    {
     "name": "stdout",
     "output_type": "stream",
     "text": [
      "                      (Recall@5: 0.1024, Recall@10: 0.1366, Recall@20: 0.1720, Recall@40: 0.2050)\n",
      "\n",
      "                      (Precision@5: 0.1856, Precision@10: 0.1335, Precision@20: 0.0869, Precision@40: 0.0526)\n",
      "\n",
      "                      (F1-score@5: 0.1191, F1-score@10: 0.1211, F1-score@20: 0.1048, F1-score@40: 0.0779)\n",
      "\n",
      "                      (NDCG@5: 0.0962, NDCG@10: 0.1039, NDCG@20: 0.0911, NDCG@40: 0.0552)\n",
      "\n",
      "{'MAE@5': 6.010983263598327, 'MAE@10': 5.83734309623431, 'MAE@20': 11.09152719665272, 'MAE@40': 29.780857740585773}\n",
      "                      (MAE@5: 6.0110, MAE@10: 5.8373, MAE@20: 11.0915, MAE@40: 29.7809)\n",
      "\n",
      "val_loss= tensor(0.6999)\n",
      "--------------------\n"
     ]
    },
    {
     "name": "stderr",
     "output_type": "stream",
     "text": [
      "100%|██████████| 239/239 [01:45<00:00,  2.27it/s]\n"
     ]
    },
    {
     "name": "stdout",
     "output_type": "stream",
     "text": [
      "                      (Recall@5: 0.1001, Recall@10: 0.1380, Recall@20: 0.1722, Recall@40: 0.2066)\n",
      "\n",
      "                      (Precision@5: 0.1887, Precision@10: 0.1371, Precision@20: 0.0898, Precision@40: 0.0550)\n",
      "\n",
      "                      (F1-score@5: 0.1186, F1-score@10: 0.1238, F1-score@20: 0.1073, F1-score@40: 0.0808)\n",
      "\n",
      "                      (NDCG@5: 0.0945, NDCG@10: 0.1062, NDCG@20: 0.0933, NDCG@40: 0.0575)\n",
      "\n",
      "                      (MAE@5: 6.2762, MAE@10: 5.7793, MAE@20: 10.7615, MAE@40: 29.4341)\n",
      "\n",
      "--------------------\n",
      "[[1, 0.15607632917366082, 0.09910760983263528, 0.09764014896938174, 0.0638703563560271, 13.0630230125523, 0.722453773021698], [2, 0.16787797646857172, 0.10788441422594079, 0.10677618527523439, 0.06858135951873134, 13.062761506276152, 0.7140420079231262], [3, 0.17311625337155057, 0.11456589958158932, 0.11251312024943701, 0.07248660706736929, 13.06276150627615, 0.7109320163726807], [4, 0.17665908129858643, 0.12194364539748882, 0.11748848642513324, 0.0761851370148312, 13.061192468619247, 0.7086025476455688], [5, 0.17387489095716846, 0.1247679131799157, 0.11785644154090623, 0.07759623447660587, 13.059623430962343, 0.7067774534225464], [6, 0.1717058875268331, 0.12548705543932992, 0.11744587706867395, 0.07858212239247314, 13.063023012552302, 0.7047101855278015], [7, 0.15551982385116792, 0.1168115847280328, 0.10796715501672832, 0.07736995541972838, 13.060669456066947, 0.7007943391799927], [8, 0.1540172436796225, 0.11727902719665198, 0.10734365254583328, 0.08778588321464474, 13.0630230125523, 0.6998544335365295], [9, 0.15436463996383565, 0.11724307008368133, 0.10744083975563636, 0.08771828992435247, 13.0619769874477, 0.6997537016868591], [10, 0.15422489024496833, 0.11765167364016668, 0.10760333208764669, 0.0879031712307802, 13.060669456066945, 0.6997384428977966], [11, 0.15434217211837145, 0.11762225418409977, 0.10755442729968667, 0.08782620548722908, 13.0630230125523, 0.6997179985046387], [12, 0.153939105950888, 0.11756341527196579, 0.1075010125321616, 0.08776856399713343, 13.061453974895397, 0.6997074484825134], [13, 0.153929352039736, 0.11736728556485268, 0.10735859993906063, 0.08767256545002532, 13.061715481171548, 0.6997002363204956], [14, 0.15421421826733564, 0.11765494246861843, 0.10761272996791371, 0.08788058855283468, 13.06276150627615, 0.6996939778327942]]\n",
      "-----------------------------------------------------------------------------------------\n"
     ]
    },
    {
     "name": "stderr",
     "output_type": "stream",
     "text": [
      "  0%|          | 1/1913 [00:00<22:21,  1.43it/s]"
     ]
    },
    {
     "name": "stdout",
     "output_type": "stream",
     "text": [
      "Epoch 15: 0%, loss: 0.700988\n"
     ]
    },
    {
     "name": "stderr",
     "output_type": "stream",
     "text": [
      "  5%|▌         | 101/1913 [00:56<16:11,  1.87it/s]"
     ]
    },
    {
     "name": "stdout",
     "output_type": "stream",
     "text": [
      "Epoch 15: 5%, loss: 0.699757\n"
     ]
    },
    {
     "name": "stderr",
     "output_type": "stream",
     "text": [
      " 11%|█         | 201/1913 [01:50<16:16,  1.75it/s]"
     ]
    },
    {
     "name": "stdout",
     "output_type": "stream",
     "text": [
      "Epoch 15: 10%, loss: 0.699611\n"
     ]
    },
    {
     "name": "stderr",
     "output_type": "stream",
     "text": [
      " 16%|█▌        | 301/1913 [02:42<13:17,  2.02it/s]"
     ]
    },
    {
     "name": "stdout",
     "output_type": "stream",
     "text": [
      "Epoch 15: 16%, loss: 0.704311\n"
     ]
    },
    {
     "name": "stderr",
     "output_type": "stream",
     "text": [
      " 21%|██        | 401/1913 [03:33<12:36,  2.00it/s]"
     ]
    },
    {
     "name": "stdout",
     "output_type": "stream",
     "text": [
      "Epoch 15: 21%, loss: 0.698033\n"
     ]
    },
    {
     "name": "stderr",
     "output_type": "stream",
     "text": [
      " 26%|██▌       | 501/1913 [04:24<11:24,  2.06it/s]"
     ]
    },
    {
     "name": "stdout",
     "output_type": "stream",
     "text": [
      "Epoch 15: 26%, loss: 0.701410\n"
     ]
    },
    {
     "name": "stderr",
     "output_type": "stream",
     "text": [
      " 31%|███▏      | 601/1913 [05:15<11:10,  1.96it/s]"
     ]
    },
    {
     "name": "stdout",
     "output_type": "stream",
     "text": [
      "Epoch 15: 31%, loss: 0.701589\n"
     ]
    },
    {
     "name": "stderr",
     "output_type": "stream",
     "text": [
      " 37%|███▋      | 701/1913 [06:06<09:30,  2.12it/s]"
     ]
    },
    {
     "name": "stdout",
     "output_type": "stream",
     "text": [
      "Epoch 15: 37%, loss: 0.702917\n"
     ]
    },
    {
     "name": "stderr",
     "output_type": "stream",
     "text": [
      " 42%|████▏     | 801/1913 [07:00<11:09,  1.66it/s]"
     ]
    },
    {
     "name": "stdout",
     "output_type": "stream",
     "text": [
      "Epoch 15: 42%, loss: 0.697080\n"
     ]
    },
    {
     "name": "stderr",
     "output_type": "stream",
     "text": [
      " 47%|████▋     | 901/1913 [07:55<09:21,  1.80it/s]"
     ]
    },
    {
     "name": "stdout",
     "output_type": "stream",
     "text": [
      "Epoch 15: 47%, loss: 0.698614\n"
     ]
    },
    {
     "name": "stderr",
     "output_type": "stream",
     "text": [
      " 52%|█████▏    | 1001/1913 [08:50<08:22,  1.82it/s]"
     ]
    },
    {
     "name": "stdout",
     "output_type": "stream",
     "text": [
      "Epoch 15: 52%, loss: 0.700752\n"
     ]
    },
    {
     "name": "stderr",
     "output_type": "stream",
     "text": [
      " 58%|█████▊    | 1101/1913 [09:45<06:42,  2.02it/s]"
     ]
    },
    {
     "name": "stdout",
     "output_type": "stream",
     "text": [
      "Epoch 15: 58%, loss: 0.698335\n"
     ]
    },
    {
     "name": "stderr",
     "output_type": "stream",
     "text": [
      " 63%|██████▎   | 1201/1913 [10:40<06:22,  1.86it/s]"
     ]
    },
    {
     "name": "stdout",
     "output_type": "stream",
     "text": [
      "Epoch 15: 63%, loss: 0.700517\n"
     ]
    },
    {
     "name": "stderr",
     "output_type": "stream",
     "text": [
      " 68%|██████▊   | 1301/1913 [11:36<05:44,  1.78it/s]"
     ]
    },
    {
     "name": "stdout",
     "output_type": "stream",
     "text": [
      "Epoch 15: 68%, loss: 0.780238\n"
     ]
    },
    {
     "name": "stderr",
     "output_type": "stream",
     "text": [
      " 73%|███████▎  | 1401/1913 [12:31<04:36,  1.85it/s]"
     ]
    },
    {
     "name": "stdout",
     "output_type": "stream",
     "text": [
      "Epoch 15: 73%, loss: 0.702870\n"
     ]
    },
    {
     "name": "stderr",
     "output_type": "stream",
     "text": [
      " 78%|███████▊  | 1501/1913 [13:27<03:50,  1.79it/s]"
     ]
    },
    {
     "name": "stdout",
     "output_type": "stream",
     "text": [
      "Epoch 15: 78%, loss: 0.700103\n"
     ]
    },
    {
     "name": "stderr",
     "output_type": "stream",
     "text": [
      " 84%|████████▎ | 1601/1913 [14:24<02:58,  1.75it/s]"
     ]
    },
    {
     "name": "stdout",
     "output_type": "stream",
     "text": [
      "Epoch 15: 84%, loss: 0.701701\n"
     ]
    },
    {
     "name": "stderr",
     "output_type": "stream",
     "text": [
      " 89%|████████▉ | 1701/1913 [15:21<02:08,  1.65it/s]"
     ]
    },
    {
     "name": "stdout",
     "output_type": "stream",
     "text": [
      "Epoch 15: 89%, loss: 0.700415\n"
     ]
    },
    {
     "name": "stderr",
     "output_type": "stream",
     "text": [
      " 94%|█████████▍| 1801/1913 [16:18<01:04,  1.74it/s]"
     ]
    },
    {
     "name": "stdout",
     "output_type": "stream",
     "text": [
      "Epoch 15: 94%, loss: 0.698056\n"
     ]
    },
    {
     "name": "stderr",
     "output_type": "stream",
     "text": [
      " 99%|█████████▉| 1901/1913 [17:15<00:06,  1.83it/s]"
     ]
    },
    {
     "name": "stdout",
     "output_type": "stream",
     "text": [
      "Epoch 15: 99%, loss: 0.701999\n"
     ]
    },
    {
     "name": "stderr",
     "output_type": "stream",
     "text": [
      "100%|██████████| 1913/1913 [17:22<00:00,  1.83it/s]"
     ]
    },
    {
     "name": "stdout",
     "output_type": "stream",
     "text": [
      "Epoch 15: 100%, loss: 0.703004\n"
     ]
    },
    {
     "name": "stderr",
     "output_type": "stream",
     "text": [
      "\n"
     ]
    },
    {
     "name": "stdout",
     "output_type": "stream",
     "text": [
      "                      (Recall@5: 0.1055, Recall@10: 0.1432, Recall@20: 0.1816, Recall@40: 0.2178)\n",
      "\n",
      "                      (Precision@5: 0.1978, Precision@10: 0.1427, Precision@20: 0.0948, Precision@40: 0.0582)\n",
      "\n",
      "                      (F1-score@5: 0.1246, F1-score@10: 0.1283, F1-score@20: 0.1129, F1-score@40: 0.0853)\n",
      "\n",
      "                      (NDCG@5: 0.0993, NDCG@10: 0.1113, NDCG@20: 0.0978, NDCG@40: 0.0607)\n",
      "\n",
      "                      (MAE@5: 6.2716, MAE@10: 5.8474, MAE@20: 11.0286, MAE@40: 29.5379)\n",
      "\n",
      "train_loss= tensor(0.7003)\n",
      "--------------------\n"
     ]
    },
    {
     "name": "stderr",
     "output_type": "stream",
     "text": [
      "100%|██████████| 239/239 [01:42<00:00,  2.33it/s]\n"
     ]
    },
    {
     "name": "stdout",
     "output_type": "stream",
     "text": [
      "                      (Recall@5: 0.1026, Recall@10: 0.1363, Recall@20: 0.1717, Recall@40: 0.2051)\n",
      "\n",
      "                      (Precision@5: 0.1863, Precision@10: 0.1332, Precision@20: 0.0866, Precision@40: 0.0527)\n",
      "\n",
      "                      (F1-score@5: 0.1195, F1-score@10: 0.1209, F1-score@20: 0.1045, F1-score@40: 0.0780)\n",
      "\n",
      "                      (NDCG@5: 0.0960, NDCG@10: 0.1034, NDCG@20: 0.0908, NDCG@40: 0.0552)\n",
      "\n",
      "{'MAE@5': 6.019351464435147, 'MAE@10': 5.8446652719665275, 'MAE@20': 11.088389121338912, 'MAE@40': 29.772489539748953}\n",
      "                      (MAE@5: 6.0194, MAE@10: 5.8447, MAE@20: 11.0884, MAE@40: 29.7725)\n",
      "\n",
      "val_loss= tensor(0.6999)\n",
      "--------------------\n"
     ]
    },
    {
     "name": "stderr",
     "output_type": "stream",
     "text": [
      "100%|██████████| 239/239 [01:44<00:00,  2.29it/s]\n"
     ]
    },
    {
     "name": "stdout",
     "output_type": "stream",
     "text": [
      "                      (Recall@5: 0.1001, Recall@10: 0.1377, Recall@20: 0.1718, Recall@40: 0.2066)\n",
      "\n",
      "                      (Precision@5: 0.1877, Precision@10: 0.1372, Precision@20: 0.0897, Precision@40: 0.0551)\n",
      "\n",
      "                      (F1-score@5: 0.1184, F1-score@10: 0.1237, F1-score@20: 0.1071, F1-score@40: 0.0809)\n",
      "\n",
      "                      (NDCG@5: 0.0944, NDCG@10: 0.1061, NDCG@20: 0.0932, NDCG@40: 0.0575)\n",
      "\n",
      "                      (MAE@5: 6.2809, MAE@10: 5.7809, MAE@20: 10.7568, MAE@40: 29.4294)\n",
      "\n",
      "--------------------\n",
      "[[1, 0.15607632917366082, 0.09910760983263528, 0.09764014896938174, 0.0638703563560271, 13.0630230125523, 0.722453773021698], [2, 0.16787797646857172, 0.10788441422594079, 0.10677618527523439, 0.06858135951873134, 13.062761506276152, 0.7140420079231262], [3, 0.17311625337155057, 0.11456589958158932, 0.11251312024943701, 0.07248660706736929, 13.06276150627615, 0.7109320163726807], [4, 0.17665908129858643, 0.12194364539748882, 0.11748848642513324, 0.0761851370148312, 13.061192468619247, 0.7086025476455688], [5, 0.17387489095716846, 0.1247679131799157, 0.11785644154090623, 0.07759623447660587, 13.059623430962343, 0.7067774534225464], [6, 0.1717058875268331, 0.12548705543932992, 0.11744587706867395, 0.07858212239247314, 13.063023012552302, 0.7047101855278015], [7, 0.15551982385116792, 0.1168115847280328, 0.10796715501672832, 0.07736995541972838, 13.060669456066947, 0.7007943391799927], [8, 0.1540172436796225, 0.11727902719665198, 0.10734365254583328, 0.08778588321464474, 13.0630230125523, 0.6998544335365295], [9, 0.15436463996383565, 0.11724307008368133, 0.10744083975563636, 0.08771828992435247, 13.0619769874477, 0.6997537016868591], [10, 0.15422489024496833, 0.11765167364016668, 0.10760333208764669, 0.0879031712307802, 13.060669456066945, 0.6997384428977966], [11, 0.15434217211837145, 0.11762225418409977, 0.10755442729968667, 0.08782620548722908, 13.0630230125523, 0.6997179985046387], [12, 0.153939105950888, 0.11756341527196579, 0.1075010125321616, 0.08776856399713343, 13.061453974895397, 0.6997074484825134], [13, 0.153929352039736, 0.11736728556485268, 0.10735859993906063, 0.08767256545002532, 13.061715481171548, 0.6997002363204956], [14, 0.15421421826733564, 0.11765494246861843, 0.10761272996791371, 0.08788058855283468, 13.06276150627615, 0.6996939778327942], [15, 0.15403775042504955, 0.11742612447698667, 0.10751776025955759, 0.08779794151970735, 13.0619769874477, 0.6997007131576538]]\n",
      "-----------------------------------------------------------------------------------------\n"
     ]
    },
    {
     "data": {
      "text/html": [
       "<div>\n",
       "<style scoped>\n",
       "    .dataframe tbody tr th:only-of-type {\n",
       "        vertical-align: middle;\n",
       "    }\n",
       "\n",
       "    .dataframe tbody tr th {\n",
       "        vertical-align: top;\n",
       "    }\n",
       "\n",
       "    .dataframe thead th {\n",
       "        text-align: right;\n",
       "    }\n",
       "</style>\n",
       "<table border=\"1\" class=\"dataframe\">\n",
       "  <thead>\n",
       "    <tr style=\"text-align: right;\">\n",
       "      <th></th>\n",
       "      <th>Epoch</th>\n",
       "      <th>Recall</th>\n",
       "      <th>Precision</th>\n",
       "      <th>F1-score</th>\n",
       "      <th>NDCG</th>\n",
       "      <th>MAE</th>\n",
       "      <th>Loss</th>\n",
       "    </tr>\n",
       "  </thead>\n",
       "  <tbody>\n",
       "    <tr>\n",
       "      <th>0</th>\n",
       "      <td>1</td>\n",
       "      <td>0.156076</td>\n",
       "      <td>0.099108</td>\n",
       "      <td>0.097640</td>\n",
       "      <td>0.063870</td>\n",
       "      <td>13.063023</td>\n",
       "      <td>0.722454</td>\n",
       "    </tr>\n",
       "    <tr>\n",
       "      <th>1</th>\n",
       "      <td>2</td>\n",
       "      <td>0.167878</td>\n",
       "      <td>0.107884</td>\n",
       "      <td>0.106776</td>\n",
       "      <td>0.068581</td>\n",
       "      <td>13.062762</td>\n",
       "      <td>0.714042</td>\n",
       "    </tr>\n",
       "    <tr>\n",
       "      <th>2</th>\n",
       "      <td>3</td>\n",
       "      <td>0.173116</td>\n",
       "      <td>0.114566</td>\n",
       "      <td>0.112513</td>\n",
       "      <td>0.072487</td>\n",
       "      <td>13.062762</td>\n",
       "      <td>0.710932</td>\n",
       "    </tr>\n",
       "    <tr>\n",
       "      <th>3</th>\n",
       "      <td>4</td>\n",
       "      <td>0.176659</td>\n",
       "      <td>0.121944</td>\n",
       "      <td>0.117488</td>\n",
       "      <td>0.076185</td>\n",
       "      <td>13.061192</td>\n",
       "      <td>0.708603</td>\n",
       "    </tr>\n",
       "    <tr>\n",
       "      <th>4</th>\n",
       "      <td>5</td>\n",
       "      <td>0.173875</td>\n",
       "      <td>0.124768</td>\n",
       "      <td>0.117856</td>\n",
       "      <td>0.077596</td>\n",
       "      <td>13.059623</td>\n",
       "      <td>0.706777</td>\n",
       "    </tr>\n",
       "    <tr>\n",
       "      <th>5</th>\n",
       "      <td>6</td>\n",
       "      <td>0.171706</td>\n",
       "      <td>0.125487</td>\n",
       "      <td>0.117446</td>\n",
       "      <td>0.078582</td>\n",
       "      <td>13.063023</td>\n",
       "      <td>0.704710</td>\n",
       "    </tr>\n",
       "    <tr>\n",
       "      <th>6</th>\n",
       "      <td>7</td>\n",
       "      <td>0.155520</td>\n",
       "      <td>0.116812</td>\n",
       "      <td>0.107967</td>\n",
       "      <td>0.077370</td>\n",
       "      <td>13.060669</td>\n",
       "      <td>0.700794</td>\n",
       "    </tr>\n",
       "    <tr>\n",
       "      <th>7</th>\n",
       "      <td>8</td>\n",
       "      <td>0.154017</td>\n",
       "      <td>0.117279</td>\n",
       "      <td>0.107344</td>\n",
       "      <td>0.087786</td>\n",
       "      <td>13.063023</td>\n",
       "      <td>0.699854</td>\n",
       "    </tr>\n",
       "    <tr>\n",
       "      <th>8</th>\n",
       "      <td>9</td>\n",
       "      <td>0.154365</td>\n",
       "      <td>0.117243</td>\n",
       "      <td>0.107441</td>\n",
       "      <td>0.087718</td>\n",
       "      <td>13.061977</td>\n",
       "      <td>0.699754</td>\n",
       "    </tr>\n",
       "    <tr>\n",
       "      <th>9</th>\n",
       "      <td>10</td>\n",
       "      <td>0.154225</td>\n",
       "      <td>0.117652</td>\n",
       "      <td>0.107603</td>\n",
       "      <td>0.087903</td>\n",
       "      <td>13.060669</td>\n",
       "      <td>0.699738</td>\n",
       "    </tr>\n",
       "    <tr>\n",
       "      <th>10</th>\n",
       "      <td>11</td>\n",
       "      <td>0.154342</td>\n",
       "      <td>0.117622</td>\n",
       "      <td>0.107554</td>\n",
       "      <td>0.087826</td>\n",
       "      <td>13.063023</td>\n",
       "      <td>0.699718</td>\n",
       "    </tr>\n",
       "    <tr>\n",
       "      <th>11</th>\n",
       "      <td>12</td>\n",
       "      <td>0.153939</td>\n",
       "      <td>0.117563</td>\n",
       "      <td>0.107501</td>\n",
       "      <td>0.087769</td>\n",
       "      <td>13.061454</td>\n",
       "      <td>0.699707</td>\n",
       "    </tr>\n",
       "    <tr>\n",
       "      <th>12</th>\n",
       "      <td>13</td>\n",
       "      <td>0.153929</td>\n",
       "      <td>0.117367</td>\n",
       "      <td>0.107359</td>\n",
       "      <td>0.087673</td>\n",
       "      <td>13.061715</td>\n",
       "      <td>0.699700</td>\n",
       "    </tr>\n",
       "    <tr>\n",
       "      <th>13</th>\n",
       "      <td>14</td>\n",
       "      <td>0.154214</td>\n",
       "      <td>0.117655</td>\n",
       "      <td>0.107613</td>\n",
       "      <td>0.087881</td>\n",
       "      <td>13.062762</td>\n",
       "      <td>0.699694</td>\n",
       "    </tr>\n",
       "    <tr>\n",
       "      <th>14</th>\n",
       "      <td>15</td>\n",
       "      <td>0.154038</td>\n",
       "      <td>0.117426</td>\n",
       "      <td>0.107518</td>\n",
       "      <td>0.087798</td>\n",
       "      <td>13.061977</td>\n",
       "      <td>0.699701</td>\n",
       "    </tr>\n",
       "  </tbody>\n",
       "</table>\n",
       "</div>"
      ],
      "text/plain": [
       "    Epoch    Recall  Precision  F1-score      NDCG        MAE      Loss\n",
       "0       1  0.156076   0.099108  0.097640  0.063870  13.063023  0.722454\n",
       "1       2  0.167878   0.107884  0.106776  0.068581  13.062762  0.714042\n",
       "2       3  0.173116   0.114566  0.112513  0.072487  13.062762  0.710932\n",
       "3       4  0.176659   0.121944  0.117488  0.076185  13.061192  0.708603\n",
       "4       5  0.173875   0.124768  0.117856  0.077596  13.059623  0.706777\n",
       "5       6  0.171706   0.125487  0.117446  0.078582  13.063023  0.704710\n",
       "6       7  0.155520   0.116812  0.107967  0.077370  13.060669  0.700794\n",
       "7       8  0.154017   0.117279  0.107344  0.087786  13.063023  0.699854\n",
       "8       9  0.154365   0.117243  0.107441  0.087718  13.061977  0.699754\n",
       "9      10  0.154225   0.117652  0.107603  0.087903  13.060669  0.699738\n",
       "10     11  0.154342   0.117622  0.107554  0.087826  13.063023  0.699718\n",
       "11     12  0.153939   0.117563  0.107501  0.087769  13.061454  0.699707\n",
       "12     13  0.153929   0.117367  0.107359  0.087673  13.061715  0.699700\n",
       "13     14  0.154214   0.117655  0.107613  0.087881  13.062762  0.699694\n",
       "14     15  0.154038   0.117426  0.107518  0.087798  13.061977  0.699701"
      ]
     },
     "execution_count": 40,
     "metadata": {},
     "output_type": "execute_result"
    }
   ],
   "source": [
    "results = []\n",
    "\n",
    "for epoch in range(1, EPOCHS + 1):\n",
    "    train_loss = train_model()\n",
    "    print(\"train_loss=\", train_loss)\n",
    "    print(\"-\"*20)\n",
    "    val_loss = evaluate_model()\n",
    "    print(\"val_loss=\", val_loss)\n",
    "    print(\"-\"*20)\n",
    "    test_loss, recall, precision, f1, ndcg, mae = test_model()\n",
    "    f1_5 = f1['F1-score@5']\n",
    "    f1_10 = f1['F1-score@10']\n",
    "    f1_20 = f1['F1-score@20']\n",
    "    f1_40 = f1['F1-score@40']\n",
    "    f1_avg = (f1_5 + f1_10 + f1_20+ f1_40) / len(f1.keys())\n",
    "    \n",
    "    rec_5 = recall['Recall@5']\n",
    "    rec_10 = recall['Recall@10']\n",
    "    rec_20 = recall['Recall@20']\n",
    "    rec_40 = recall['Recall@40']\n",
    "    recall_avg = (rec_5 + rec_10 + rec_20+ rec_40) / len(recall.keys())\n",
    "    \n",
    "    pre_5 = precision['Precision@5']\n",
    "    pre_10 = precision['Precision@10']\n",
    "    pre_20 = precision['Precision@20']\n",
    "    pre_40 = precision['Precision@40']\n",
    "    precision_avg = (pre_5 + pre_10 + pre_20 + pre_40) / len(precision.keys())\n",
    "    \n",
    "    ndcg_5 = ndcg['NDCG@5']\n",
    "    ndcg_10 = ndcg['NDCG@10']\n",
    "    ndcg_20 = ndcg['NDCG@20']\n",
    "    ndcg_40 = ndcg['NDCG@40']\n",
    "    ndcg_avg = (ndcg_5 + ndcg_10 + ndcg_20 + ndcg_40) / len(ndcg.keys())\n",
    "    \n",
    "    mae_5 = mae['MAE@5']\n",
    "    mae_10 = mae['MAE@10']\n",
    "    mae_20 = mae['MAE@20']\n",
    "    mae_40 = mae['MAE@40']\n",
    "    mae_avg = (mae_5 + mae_10 + mae_20 + mae_40) / len(mae.keys())\n",
    "    \n",
    "    print(\"-\"*20)\n",
    "    result = [epoch] + [recall_avg] + [precision_avg] + [f1_avg] + [ndcg_avg] + [mae_avg] + [test_loss.item()]\n",
    "    results.append(result)\n",
    "    print(results)\n",
    "    print(\"-\"*89)\n",
    "    \n",
    "    collected = gc.collect()\n",
    "    torch.cuda.empty_cache()\n",
    "    \n",
    "record_df = pd.DataFrame(results, columns=[\"Epoch\", \"Recall\", \"Precision\", \"F1-score\", \"NDCG\", \"MAE\", \"Loss\"])\n",
    "\n",
    "result_folder = \"../result\"\n",
    "if not os.path.exists(result_folder):\n",
    "    os.mkdir(result_folder)\n",
    "folder_path = os.path.join(result_folder, f\"{DATASET_NAME}_output_without_size.csv\")\n",
    "record_df.to_csv(folder_path, index=False)\n",
    "\n",
    "record_df"
   ]
  },
  {
   "cell_type": "code",
   "execution_count": null,
   "id": "109b1ef0",
   "metadata": {},
   "outputs": [],
   "source": []
  }
 ],
 "metadata": {
  "kernelspec": {
   "display_name": "Python 3 (ipykernel)",
   "language": "python",
   "name": "python3"
  },
  "language_info": {
   "codemirror_mode": {
    "name": "ipython",
    "version": 3
   },
   "file_extension": ".py",
   "mimetype": "text/x-python",
   "name": "python",
   "nbconvert_exporter": "python",
   "pygments_lexer": "ipython3",
   "version": "3.11.5"
  }
 },
 "nbformat": 4,
 "nbformat_minor": 5
}
