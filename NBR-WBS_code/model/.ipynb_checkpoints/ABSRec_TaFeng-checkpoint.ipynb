{
 "cells": [
  {
   "cell_type": "markdown",
   "id": "a246ddd9",
   "metadata": {},
   "source": [
    "# 下載套件"
   ]
  },
  {
   "cell_type": "code",
   "execution_count": 1,
   "id": "72209793",
   "metadata": {},
   "outputs": [],
   "source": [
    "import torch\n",
    "import torch.nn as nn\n",
    "from torch import nn, matmul, softmax\n",
    "from torch.nn.init import xavier_uniform_\n",
    "import torch.nn.functional as F\n",
    "import torch.nn.utils.rnn as rnn_utils\n",
    "from torch.autograd import Variable\n",
    "\n",
    "import numpy as np\n",
    "import pandas as pd\n",
    "import gensim\n",
    "from gensim.models import KeyedVectors\n",
    "import pickle\n",
    "import gzip \n",
    "import gc\n",
    "import random"
   ]
  },
  {
   "cell_type": "code",
   "execution_count": 2,
   "id": "e3db86c1",
   "metadata": {},
   "outputs": [],
   "source": [
    "from torch.utils.data import DataLoader, Dataset\n",
    "from torch.utils.data.dataset import random_split\n",
    "\n",
    "from tqdm import tqdm\n",
    "from collections import Counter\n",
    "\n",
    "import math"
   ]
  },
  {
   "cell_type": "markdown",
   "id": "d32d7025",
   "metadata": {},
   "source": [
    "# 參數設置"
   ]
  },
  {
   "cell_type": "code",
   "execution_count": 3,
   "id": "6da217e0",
   "metadata": {},
   "outputs": [],
   "source": [
    "# 超參數\n",
    "EPOCHS = 25\n",
    "LEARNING_RATE = 0.000005\n",
    "BATCH_SIZE = 8\n",
    "BETA = 0.5\n",
    "EMBEDDING_DIMENSION = 32                      # 嵌入維度\n",
    "MODEL_DIMENSION = EMBEDDING_DIMENSION         # 模型維度\n",
    "HIDDEN_DIMENSION = 128                        # NLP 隱藏層維度\n",
    "NUM_HEAD = 4\n",
    "NUM_LAYER = 4\n",
    "\n",
    "isI2V = 1        #1:使用Item2Vec     #0:不使用Item2Vec"
   ]
  },
  {
   "cell_type": "code",
   "execution_count": 4,
   "id": "37dcbca4",
   "metadata": {},
   "outputs": [],
   "source": [
    "# 資料集\n",
    "DATASET_NAME = \"TaFeng\"     # 讀取TaFeng資料\n",
    "# DATASET_NAME = \"Dunnhumby\"  # 讀取Dunnhumby資料\n",
    "# DATASET_NAME = \"Instacart\"  # 讀取Instacart資料"
   ]
  },
  {
   "cell_type": "markdown",
   "id": "4283cbc8",
   "metadata": {},
   "source": [
    "# 匯入檔案\n",
    "- item2Vec_TaFeng.32d.model\n",
    "- TaFeng_user_cart_itemid_list.gz\n",
    "- Ta_feng_clean.csv"
   ]
  },
  {
   "cell_type": "code",
   "execution_count": 5,
   "id": "32520298",
   "metadata": {},
   "outputs": [
    {
     "data": {
      "text/plain": [
       "torch.Size([15764, 32])"
      ]
     },
     "execution_count": 5,
     "metadata": {},
     "output_type": "execute_result"
    }
   ],
   "source": [
    "# load word2Vec pre_train model\n",
    "model_filename = f\"../preprocessing-data/item2vec_models/item2vec_{DATASET_NAME}.{EMBEDDING_DIMENSION}d.model\"\n",
    "# {DATASET}\n",
    "with open(model_filename, \"rb\") as fp:\n",
    "    model = pickle.load(fp)\n",
    "weights = torch.FloatTensor(model.wv.vectors)\n",
    "weights.shape"
   ]
  },
  {
   "cell_type": "code",
   "execution_count": 6,
   "id": "bbe80d00",
   "metadata": {
    "scrolled": true
   },
   "outputs": [
    {
     "data": {
      "text/plain": [
       "[(1113,\n",
       "  [[0, 1, 2], [3, 4, 5, 6, 7, 8], [9, 10, 11, 12, 13, 14, 15]],\n",
       "  [3, 6, 7]),\n",
       " (5241,\n",
       "  [[16, 17, 18, 19, 20, 21],\n",
       "   [22, 23, 24, 25, 26, 27, 28, 29, 30, 31],\n",
       "   [32, 33, 34, 35, 36, 37, 38, 39, 40, 41, 42, 43, 44, 45, 46, 47],\n",
       "   [48, 49, 50, 51, 52]],\n",
       "  [6, 10, 16, 5])]"
      ]
     },
     "execution_count": 6,
     "metadata": {},
     "output_type": "execute_result"
    }
   ],
   "source": [
    "# {DATASET} user_cart_itemid_list 用戶id, 購物籃時間差(不會使用到), 此用戶的購物籃串列(每個串列包含多項目)。\n",
    "with gzip.open(f\"../preprocessing-data/{DATASET_NAME}_user_cart_itemid_list.gz\", \"rb\") as fp:\n",
    "    user_cart_itemid_list = pickle.load(fp)\n",
    "user_cart_itemid_list[:2]"
   ]
  },
  {
   "cell_type": "code",
   "execution_count": 7,
   "id": "361c43d7",
   "metadata": {},
   "outputs": [],
   "source": [
    "# Load {DATASET} confidences_Matrix\n",
    "with gzip.open(f\"../preprocessing-data/confidences/{DATASET_NAME}_confidences_array.gz\", \"rb\") as fp:\n",
    "    confidences = pickle.load(fp)"
   ]
  },
  {
   "cell_type": "code",
   "execution_count": 8,
   "id": "b83d2fe8",
   "metadata": {},
   "outputs": [
    {
     "name": "stdout",
     "output_type": "stream",
     "text": [
      "72\n"
     ]
    },
    {
     "data": {
      "text/html": [
       "<div>\n",
       "<style scoped>\n",
       "    .dataframe tbody tr th:only-of-type {\n",
       "        vertical-align: middle;\n",
       "    }\n",
       "\n",
       "    .dataframe tbody tr th {\n",
       "        vertical-align: top;\n",
       "    }\n",
       "\n",
       "    .dataframe thead th {\n",
       "        text-align: right;\n",
       "    }\n",
       "</style>\n",
       "<table border=\"1\" class=\"dataframe\">\n",
       "  <thead>\n",
       "    <tr style=\"text-align: right;\">\n",
       "      <th></th>\n",
       "      <th>CUSTOMER_ID</th>\n",
       "      <th>PRODUCT_ID</th>\n",
       "      <th>TRANSACTION_DT</th>\n",
       "      <th>CART_ID</th>\n",
       "      <th>NEW_ITEM_ID</th>\n",
       "    </tr>\n",
       "  </thead>\n",
       "  <tbody>\n",
       "    <tr>\n",
       "      <th>0</th>\n",
       "      <td>1113</td>\n",
       "      <td>4902105011621</td>\n",
       "      <td>2000-11-26</td>\n",
       "      <td>0</td>\n",
       "      <td>0</td>\n",
       "    </tr>\n",
       "    <tr>\n",
       "      <th>1</th>\n",
       "      <td>1113</td>\n",
       "      <td>7616100830794</td>\n",
       "      <td>2000-11-26</td>\n",
       "      <td>0</td>\n",
       "      <td>1</td>\n",
       "    </tr>\n",
       "    <tr>\n",
       "      <th>2</th>\n",
       "      <td>1113</td>\n",
       "      <td>4710892632017</td>\n",
       "      <td>2000-11-26</td>\n",
       "      <td>0</td>\n",
       "      <td>2</td>\n",
       "    </tr>\n",
       "    <tr>\n",
       "      <th>3</th>\n",
       "      <td>1113</td>\n",
       "      <td>4710905340113</td>\n",
       "      <td>2000-11-27</td>\n",
       "      <td>1</td>\n",
       "      <td>3</td>\n",
       "    </tr>\n",
       "    <tr>\n",
       "      <th>4</th>\n",
       "      <td>1113</td>\n",
       "      <td>4717362901277</td>\n",
       "      <td>2000-11-27</td>\n",
       "      <td>1</td>\n",
       "      <td>4</td>\n",
       "    </tr>\n",
       "    <tr>\n",
       "      <th>...</th>\n",
       "      <td>...</td>\n",
       "      <td>...</td>\n",
       "      <td>...</td>\n",
       "      <td>...</td>\n",
       "      <td>...</td>\n",
       "    </tr>\n",
       "    <tr>\n",
       "      <th>533054</th>\n",
       "      <td>20002000</td>\n",
       "      <td>4710339772139</td>\n",
       "      <td>2001-01-20</td>\n",
       "      <td>62360</td>\n",
       "      <td>4546</td>\n",
       "    </tr>\n",
       "    <tr>\n",
       "      <th>533055</th>\n",
       "      <td>20002000</td>\n",
       "      <td>20513184</td>\n",
       "      <td>2001-01-20</td>\n",
       "      <td>62360</td>\n",
       "      <td>1351</td>\n",
       "    </tr>\n",
       "    <tr>\n",
       "      <th>533056</th>\n",
       "      <td>20002000</td>\n",
       "      <td>4714800731229</td>\n",
       "      <td>2001-01-20</td>\n",
       "      <td>62360</td>\n",
       "      <td>2946</td>\n",
       "    </tr>\n",
       "    <tr>\n",
       "      <th>533057</th>\n",
       "      <td>20002000</td>\n",
       "      <td>4714541091071</td>\n",
       "      <td>2001-01-20</td>\n",
       "      <td>62360</td>\n",
       "      <td>7382</td>\n",
       "    </tr>\n",
       "    <tr>\n",
       "      <th>533058</th>\n",
       "      <td>20002000</td>\n",
       "      <td>4710018008634</td>\n",
       "      <td>2001-01-20</td>\n",
       "      <td>62360</td>\n",
       "      <td>2629</td>\n",
       "    </tr>\n",
       "  </tbody>\n",
       "</table>\n",
       "<p>533059 rows × 5 columns</p>\n",
       "</div>"
      ],
      "text/plain": [
       "        CUSTOMER_ID     PRODUCT_ID TRANSACTION_DT  CART_ID  NEW_ITEM_ID\n",
       "0              1113  4902105011621     2000-11-26        0            0\n",
       "1              1113  7616100830794     2000-11-26        0            1\n",
       "2              1113  4710892632017     2000-11-26        0            2\n",
       "3              1113  4710905340113     2000-11-27        1            3\n",
       "4              1113  4717362901277     2000-11-27        1            4\n",
       "...             ...            ...            ...      ...          ...\n",
       "533054     20002000  4710339772139     2001-01-20    62360         4546\n",
       "533055     20002000       20513184     2001-01-20    62360         1351\n",
       "533056     20002000  4714800731229     2001-01-20    62360         2946\n",
       "533057     20002000  4714541091071     2001-01-20    62360         7382\n",
       "533058     20002000  4710018008634     2001-01-20    62360         2629\n",
       "\n",
       "[533059 rows x 5 columns]"
      ]
     },
     "execution_count": 8,
     "metadata": {},
     "output_type": "execute_result"
    }
   ],
   "source": [
    "dataset = pd.read_csv(f\"../cleaned_dataset/{DATASET_NAME}_clean.csv\")\n",
    "\n",
    "# 最多購物籃\n",
    "max_cart_count = dataset.groupby(\"CUSTOMER_ID\")[\"CART_ID\"].nunique().max()\n",
    "print(max_cart_count)\n",
    "\n",
    "dataset"
   ]
  },
  {
   "cell_type": "markdown",
   "id": "a0877d82",
   "metadata": {},
   "source": [
    "# 切分資料集\n",
    "- 分成輸入資料與標籤資料\n",
    "- 訓練集:驗證集:測試集 = 7:1:2"
   ]
  },
  {
   "cell_type": "code",
   "execution_count": 9,
   "id": "73e9cf41",
   "metadata": {},
   "outputs": [],
   "source": [
    "# 切分資料集\n",
    "# train_set_size = int(len(user_cart_itemid_list) * 0.7)\n",
    "# valid_set_size = int(len(user_cart_itemid_list) * 0.1)\n",
    "# test_set_size = len(user_cart_itemid_list)-train_set_size-valid_set_size\n",
    "# train_set, valid_set, test_set = random_split(user_cart_itemid_list, [train_set_size, valid_set_size, test_set_size])\n",
    "# print(len(train_set))\n",
    "# print(len(valid_set))\n",
    "# print(len(test_set))"
   ]
  },
  {
   "cell_type": "code",
   "execution_count": 10,
   "id": "5edaa93d",
   "metadata": {},
   "outputs": [],
   "source": [
    "# 將切割好的資料集暫存起來\n",
    "\n",
    "# # 訓練集\n",
    "# filepath = \"../preprocessing-data/TaFeng_dataset/train_set.pkl\"\n",
    "# with open(filepath, \"wb\") as f:\n",
    "#     pickle.dump(train_set, f, pickle.HIGHEST_PROTOCOL)\n",
    "# # 驗證集\n",
    "# filepath = \"../preprocessing-data/TaFeng_dataset/valid_set.pkl\"\n",
    "# with open(filepath, \"wb\") as f:\n",
    "#     pickle.dump(valid_set, f, pickle.HIGHEST_PROTOCOL)\n",
    "# # 測試集\n",
    "# filepath = \"../preprocessing-data/TaFeng_dataset/test_set.pkl\"\n",
    "# with open(filepath, \"wb\") as f:\n",
    "#     pickle.dump(test_set, f, pickle.HIGHEST_PROTOCCOL)"
   ]
  },
  {
   "cell_type": "code",
   "execution_count": 11,
   "id": "b203d0c9",
   "metadata": {},
   "outputs": [],
   "source": [
    "# 讀取之前暫存的資料集\n",
    "\n",
    "# 載入訓練、驗證、測試集\n",
    "with open(f\"../preprocessing-data/{DATASET_NAME}_dataset/train_set.pkl\", \"rb\") as fp:\n",
    "    train_set = pickle.load(fp)\n",
    "with open(f\"../preprocessing-data/{DATASET_NAME}_dataset/valid_set.pkl\", \"rb\") as fp:\n",
    "    valid_set = pickle.load(fp)\n",
    "with open(f\"../preprocessing-data/{DATASET_NAME}_dataset/test_set.pkl\", \"rb\") as fp:\n",
    "    test_set = pickle.load(fp)"
   ]
  },
  {
   "cell_type": "markdown",
   "id": "c9585447",
   "metadata": {},
   "source": [
    "# Batch"
   ]
  },
  {
   "cell_type": "code",
   "execution_count": 12,
   "id": "a209539b",
   "metadata": {
    "scrolled": true
   },
   "outputs": [
    {
     "data": {
      "text/plain": [
       "device(type='cuda')"
      ]
     },
     "execution_count": 12,
     "metadata": {},
     "output_type": "execute_result"
    }
   ],
   "source": [
    "device = torch.device(\"cuda\" if torch.cuda.is_available() else \"cpu\")\n",
    "device"
   ]
  },
  {
   "cell_type": "code",
   "execution_count": 13,
   "id": "b348e2b5",
   "metadata": {},
   "outputs": [],
   "source": [
    "# 定義資料轉換函數(於collate_batch函式中使用)\n",
    "item_index_pipeline = lambda x:[[model.wv.key_to_index[j] for j in i]for i in x] # 取得購物籃中，項目的索引值(只有使用Item2Vec時會需要)"
   ]
  },
  {
   "cell_type": "code",
   "execution_count": 14,
   "id": "92fb3dee",
   "metadata": {},
   "outputs": [],
   "source": [
    "class TensorDataset(Dataset):\n",
    "    # TensorDataset繼承Dataset, 重載__init__, __getitem__, __len__\n",
    "    # 實現將一組Tensor數據封裝成Tensor數據集\n",
    "    # 能夠通過index得到數據集的數據，能夠通過len，得到數據集大小\n",
    "    def __init__(self, data_tensor):\n",
    "        self.data_tensor = data_tensor\n",
    "    def __getitem__(self, index):\n",
    "        return self.data_tensor[index]\n",
    "    def __len__(self):\n",
    "        return len(self.data_tensor)\n",
    "\n",
    "def collate_batch(batch): # 輸出userID, input_list跟label(最後一個購物籃)\n",
    "    # 使用ID、時間差、訓練的購物籃項目、預測的購物籃項目\n",
    "    userID, input_list, label_list, input_size_list, label_size_list, offsets = [], [], [], [], [], [0]\n",
    "    for _user in batch:\n",
    "        userID.append(_user[0]) # userID\n",
    "        label_list.append(torch.tensor(_user[1][-1])) # 所有購物籃的項目ID串列中的最後一個購物籃項目ID\n",
    "        label_size_list.append(torch.tensor(_user[2][-1]))\n",
    "        \n",
    "        if isI2V == 0: # 不使用Item2Vec進行項目嵌入\n",
    "            train_list = _user[1][0:-1]\n",
    "        else: #　使用Item2Vec進行項目嵌入\n",
    "            train_list = item_index_pipeline(_user[1][0:-1])\n",
    "        input_size_list.append(_user[2][0:-1])\n",
    "        \n",
    "        input_list.append(train_list) # 所有購物籃的項目ID串列(除了最後一個購物籃)\n",
    "        offsets.append(len(train_list))\n",
    "    \n",
    "    return userID, input_list, label_list, input_size_list, label_size_list, offsets"
   ]
  },
  {
   "cell_type": "code",
   "execution_count": 15,
   "id": "f442f66a",
   "metadata": {},
   "outputs": [],
   "source": [
    "# 轉成 Dataset\n",
    "split_train_ = TensorDataset(train_set)\n",
    "split_valid_ = TensorDataset(valid_set)\n",
    "split_test_ = TensorDataset(test_set)"
   ]
  },
  {
   "cell_type": "code",
   "execution_count": 16,
   "id": "54fe7bc6",
   "metadata": {},
   "outputs": [],
   "source": [
    "# DataLoader \n",
    "train_dataloader = DataLoader(split_train_, batch_size=BATCH_SIZE, shuffle=True, collate_fn=collate_batch, drop_last=True)\n",
    "valid_dataloader = DataLoader(split_valid_, batch_size=BATCH_SIZE, shuffle=True, collate_fn=collate_batch, drop_last=True)\n",
    "test_dataloader = DataLoader(split_test_, batch_size=BATCH_SIZE, shuffle=True, collate_fn=collate_batch, drop_last=True)"
   ]
  },
  {
   "cell_type": "markdown",
   "id": "637657be",
   "metadata": {},
   "source": [
    "# Self-Attention"
   ]
  },
  {
   "cell_type": "code",
   "execution_count": 17,
   "id": "a96171ad",
   "metadata": {},
   "outputs": [],
   "source": [
    "# 使用nn.MultiheadAttention\n",
    "# 輸入一個用戶的一個購物籃，輸出購物籃嵌入\n",
    "class SelfAttention(nn.Module):\n",
    "    def __init__(self, embed_dim, model_dim): #項目向量維度，輸出模型的維度\n",
    "        super(SelfAttention, self).__init__()\n",
    "        self.embed_dim = embed_dim\n",
    "        self.model_dim = model_dim\n",
    "        \n",
    "        # 初始化Q, K, V 矩陣\n",
    "        self.query_matrix = nn.Linear(embed_dim, model_dim)\n",
    "        xavier_uniform_(self.query_matrix.weight)\n",
    "        self.key_matrix = nn.Linear(embed_dim, model_dim)\n",
    "        xavier_uniform_(self.key_matrix.weight)\n",
    "        self.value_matrix = nn.Linear(embed_dim, model_dim)\n",
    "        xavier_uniform_(self.value_matrix.weight)\n",
    "        self.multihead_attn = nn.MultiheadAttention(embed_dim, num_heads=1)\n",
    "        \n",
    "    def forward(self, inputs, attention_mask):\n",
    "        \n",
    "        # 輸入一個項目向量，透過三個可學習的參數矩陣，得到計算所需要的 q,k,v\n",
    "        q = self.query_matrix(inputs)\n",
    "        k = self.key_matrix(inputs)\n",
    "        v = self.value_matrix(inputs)\n",
    "        \n",
    "        attn_output, attn_output_weight = self.multihead_attn(q, k, v, key_padding_mask=attention_mask.transpose(0,1))\n",
    "        \n",
    "        output_mean = torch.tensor([[0 for _ in range(MODEL_DIMENSION)] for _ in range(len(attention_mask))], dtype=torch.float).to(device)\n",
    "        for i, cart in enumerate(attention_mask):\n",
    "            for j, mask in enumerate(cart):\n",
    "                if mask == False:\n",
    "                    output_mean[i] = attn_output[i][j] # 使用最後一個項目作為輸出\n",
    "        basket_embedding = output_mean\n",
    "        \n",
    "        return basket_embedding"
   ]
  },
  {
   "cell_type": "markdown",
   "id": "a3043def",
   "metadata": {},
   "source": [
    "   # Basket Size Encoder"
   ]
  },
  {
   "cell_type": "code",
   "execution_count": 18,
   "id": "3b8530b2",
   "metadata": {},
   "outputs": [],
   "source": [
    "class LinearTransformation(nn.Module):\n",
    "    def __init__(self, input_dim, embed_dim):\n",
    "        super(LinearTransformation, self).__init__()\n",
    "        self.embed = torch.nn.Linear(input_dim, embed_dim)\n",
    "        \n",
    "    def forward(self, basket_size):\n",
    "        return self_embed(basket_size)"
   ]
  },
  {
   "cell_type": "markdown",
   "id": "00cd99b7",
   "metadata": {},
   "source": [
    "# Transformer"
   ]
  },
  {
   "cell_type": "code",
   "execution_count": 19,
   "id": "bc0ed90c",
   "metadata": {},
   "outputs": [],
   "source": [
    "class PositionalEncoding(nn.Module):\n",
    "    def __init__(self, d_model:int, dropout, maxlen:int=500):\n",
    "        super(PositionalEncoding, self).__init__()\n",
    "        # den 是把10000^(2i/d_model)取log_e，前面加負號是求倒數\n",
    "        den = torch.exp(-torch.arange(0, d_model, 2) * math.log(10000) / d_model)\n",
    "        pos = torch.arange(0, maxlen).reshape(maxlen, 1)\n",
    "        pos_embedding = torch.zeros(maxlen, d_model)#.to(device)\n",
    "        pos_embedding[:, 0::2] = torch.sin(pos*den)\n",
    "        pos_embedding[:, 1::2] = torch.cos(pos*den)\n",
    "        \n",
    "        pos_embedding = pos_embedding.unsqueeze(0)\n",
    "        \n",
    "        self.dropout = nn.Dropout(dropout)\n",
    "        self.register_buffer(\"pos_embedding\", pos_embedding)\n",
    "        \n",
    "    def forward(self, token_embedding):\n",
    "        #interleave(token_embedding, 1)\n",
    "        return self.dropout(token_embedding+ self.pos_embedding[:, :token_embedding.size(1), :])\n",
    "    \n",
    "class TransformerEncoder(nn.Module):\n",
    "    def __init__(self, d_model, num_heads=8, num_layers=6):\n",
    "        super(TransformerEncoder, self).__init__()\n",
    "        self.pe = PositionalEncoding(d_model=d_model, dropout=0.5, maxlen=max_cart_count)\n",
    "        # 創建 Transformer 模型\n",
    "        self.transformer = nn.TransformerEncoder(\n",
    "            nn.TransformerEncoderLayer(d_model=d_model, nhead=num_heads),\n",
    "            num_layers=num_layers\n",
    "        )\n",
    "    \n",
    "    def forward(self, baskets_embedding):\n",
    "        baskets_embedding_pe = self.pe(baskets_embedding)\n",
    "        \n",
    "        # 購物籃padding的遮罩\n",
    "        padding_mask = ~baskets_embedding.sum(dim=-1).ne(0).transpose(0,1)\n",
    "        \n",
    "        output = self.transformer(baskets_embedding_pe.to(torch.float32), src_key_padding_mask=padding_mask.to(torch.float32))\n",
    "        return output"
   ]
  },
  {
   "cell_type": "markdown",
   "id": "9cdd237c",
   "metadata": {},
   "source": [
    "# MLP層"
   ]
  },
  {
   "cell_type": "code",
   "execution_count": 20,
   "id": "e8fb5303",
   "metadata": {},
   "outputs": [],
   "source": [
    "class MLPLayer(nn.Module):\n",
    "    def __init__(self, embed_dim, hidden_dim, items_dim):\n",
    "        super(MLPLayer, self).__init__()\n",
    "        self.hidden = nn.Linear(embed_dim, hidden_dim) # 隱藏層\n",
    "        xavier_uniform_(self.hidden.weight)\n",
    "        self.norm = nn.BatchNorm1d(hidden_dim, momentum=0.03)\n",
    "        self.activate = nn.ReLU()\n",
    "        self.output = nn.Linear(hidden_dim, items_dim) # 輸出層\n",
    "        \n",
    "    def forward(self, inputs):\n",
    "        y = self.activate(self.norm(self.hidden(inputs)))\n",
    "        return self.output(y)"
   ]
  },
  {
   "cell_type": "markdown",
   "id": "9afdd949",
   "metadata": {},
   "source": [
    "# 損失函數"
   ]
  },
  {
   "cell_type": "code",
   "execution_count": 21,
   "id": "578a7e8b",
   "metadata": {},
   "outputs": [],
   "source": [
    "# cross_entropy_loss\n",
    "def cross_entropy_loss(predictions, targets):\n",
    "    # 創建稀疏張量的索引和值\n",
    "    indices = []\n",
    "    values = []\n",
    "    for i, t in enumerate(targets):\n",
    "        for v in t:\n",
    "            indices.append([i, v])\n",
    "            values.append(1)\n",
    "\n",
    "    # 創建稀疏張量\n",
    "    sparse_targets = torch.sparse_coo_tensor(indices=torch.tensor(indices).t(),\n",
    "                                             values=torch.tensor(values, dtype=torch.float16),\n",
    "                                             size=(len(targets), items_count), device=device)\n",
    "    sparse_targets = sparse_targets.to_dense()\n",
    "    \n",
    "    loss = F.binary_cross_entropy_with_logits(predictions, sparse_targets)\n",
    "    \n",
    "    return loss"
   ]
  },
  {
   "cell_type": "markdown",
   "id": "08aefe4a",
   "metadata": {},
   "source": [
    "# 評估指標"
   ]
  },
  {
   "cell_type": "code",
   "execution_count": 22,
   "id": "308ff8e9",
   "metadata": {},
   "outputs": [],
   "source": [
    "def format_metric(result_dict):\n",
    "    assert type(result_dict) == dict\n",
    "    format_str = []\n",
    "    metrics = np.unique([k.split('@')[0] for k in result_dict.keys()])\n",
    "    topks = np.unique([int(k.split('@')[1]) for k in result_dict.keys()])\n",
    "    for topk in np.sort(topks):\n",
    "        for metric in np.sort(metrics):\n",
    "            name = '{}@{}'.format(metric, topk)\n",
    "            m = result_dict[name]\n",
    "            if type(m) is float or type(m) is float or type(m) is np.float32 or type(m) is np.float64:\n",
    "                format_str.append('{}: {:<.4f}'.format(name, m))\n",
    "            elif type(m) is int or type(m) is int or type(m) is np.int32 or type(m) is np.int64:\n",
    "                format_str.append('{}: {}'.format(name, m))\n",
    "    return ', '.join(format_str)"
   ]
  },
  {
   "cell_type": "markdown",
   "id": "b96a4cfe",
   "metadata": {},
   "source": [
    "## HR@K"
   ]
  },
  {
   "cell_type": "code",
   "execution_count": 23,
   "id": "ced1b599",
   "metadata": {},
   "outputs": [],
   "source": [
    "def calculate_hr_at_k(predictions, labels_list, k_list):\n",
    "    # 將預測機率矩陣轉換為 PyTorch 張量。\n",
    "    predictions = torch.from_numpy(np.array(predictions, dtype=np.float32)).to(device)\n",
    "    num_users = len(labels_list)\n",
    "    evaluations = dict()\n",
    "    for k in k_list:\n",
    "        HR = []\n",
    "        for i in range(num_users):\n",
    "            # 將用戶 i 的真實標籤轉換為 PyTorch 張量。\n",
    "            labels = torch.from_numpy(np.array(labels_list[i], dtype=np.int64)).to(device)\n",
    "            # 計算用戶 i 在預測機率矩陣中機率最高的 K 個項目的索引。\n",
    "            top_k_item_indices = torch.topk(predictions[i], k)[1]\n",
    "            # 將用戶 i 在預測機率矩陣中機率最高的 K 個項目的索引和其真實標籤向量的交集，即為預測正確的項目數量。\n",
    "            correct_num = torch.sum(torch.sum(torch.eq(top_k_item_indices, labels.unsqueeze(1)), dim=1))\n",
    "            # 計算 HR。\n",
    "            HR.append( correct_num.cpu()/len(labels) )\n",
    "        # 計算 HR@K 分數。\n",
    "        hr_at_k = np.mean(HR)\n",
    "        key = '{}@{}'.format('HR',k)\n",
    "        evaluations[key]=hr_at_k\n",
    "    return evaluations"
   ]
  },
  {
   "cell_type": "markdown",
   "id": "fa92db9d",
   "metadata": {},
   "source": [
    "## F1-score"
   ]
  },
  {
   "cell_type": "code",
   "execution_count": 24,
   "id": "f7cca32b",
   "metadata": {},
   "outputs": [],
   "source": [
    "def calculate_f1_score_at_k(predictions, labels_list, k_list):\n",
    "    \"\"\"\n",
    "    計算 F1-score@K。\n",
    "\n",
    "    Args:\n",
    "        predictions: 二維的預測機率矩陣，大小為 [num_users, num_items]。\n",
    "        labels_list: 一個包含每個用戶真實標籤的列表，其中每個列表的大小不同。\n",
    "        k: 計算 F1-score@K 的 K 值。\n",
    "\n",
    "    Returns:\n",
    "        F1-score@K 分數。\n",
    "    \"\"\"\n",
    "    # 將預測機率矩陣轉換為 PyTorch 張量。\n",
    "    predictions = torch.from_numpy(np.array(predictions, dtype=np.float32))#.to('cuda')\n",
    "    num_users = len(labels_list)\n",
    "    f1_score_at_k_eval = dict()\n",
    "    recall_at_k_eval = dict()\n",
    "    precision_at_k_eval = dict()\n",
    "    \n",
    "    for k in k_list:\n",
    "        f1_score_sum = 0.0\n",
    "        recall_sum = 0.0\n",
    "        precision_sum = 0.0\n",
    "        for i in range(num_users):\n",
    "                # 將用戶 i 的真實標籤轉換為 PyTorch 張量。\n",
    "                labels = torch.from_numpy(np.array(labels_list[i], dtype=np.int64))#.to('cuda')\n",
    "                # 計算用戶 i 在預測機率矩陣中機率最高的 K 個項目的索引。\n",
    "                top_k_item_labels = torch.topk(predictions[i], k)[1]\n",
    "                # 計算用戶 i 的真實標籤和預測標籤的交集。 # TP\n",
    "                true_positives = torch.sum(torch.sum(torch.eq(top_k_item_labels, labels.unsqueeze(1)).to(torch.float32), dim=1)).item()\n",
    "                # 計算用戶 i 的真實標籤和預測標籤的並集。\n",
    "                predicted_positives = k # TP+FP\n",
    "                actual_positives = len(labels) # TP+FN\n",
    "                if actual_positives == 0:\n",
    "                    precision = 0.0\n",
    "                    recall = 0.0\n",
    "                else:\n",
    "                    precision = true_positives / predicted_positives\n",
    "                    recall = true_positives / actual_positives\n",
    "                # 計算 F1-score。\n",
    "                if precision + recall == 0:\n",
    "                    f1_score = 0.0\n",
    "                else:\n",
    "                    f1_score = 2 * precision * recall / (precision + recall)\n",
    "                f1_score_sum += f1_score\n",
    "                recall_sum += recall\n",
    "                precision_sum += precision\n",
    "        # 計算平均 F1-score@K 分數。\n",
    "        f1_score_at_k = f1_score_sum / float(num_users)\n",
    "        key = '{}@{}'.format('F1-score',k)\n",
    "        f1_score_at_k_eval[key]=f1_score_at_k\n",
    "        \n",
    "        # 計算平均 Recall@K 分數\n",
    "        recall_at_k = recall_sum / float(num_users)\n",
    "        key = '{}@{}'.format('Recall',k)\n",
    "        recall_at_k_eval[key]=recall_at_k\n",
    "        \n",
    "        # 計算平均 Precision@K 分數\n",
    "        precision_at_k = precision_sum/ float(num_users)\n",
    "        key = '{}@{}'.format('Precision',k)\n",
    "        precision_at_k_eval[key]=precision_at_k\n",
    "        \n",
    "    return f1_score_at_k_eval, recall_at_k_eval, precision_at_k_eval"
   ]
  },
  {
   "cell_type": "markdown",
   "id": "506ff404",
   "metadata": {},
   "source": [
    "## NDCG"
   ]
  },
  {
   "cell_type": "code",
   "execution_count": 25,
   "id": "4c566188",
   "metadata": {},
   "outputs": [],
   "source": [
    "# NDCG@K\n",
    "def calculate_ndcg_at_k(predictions, labels_list, k_list, k_labels_list):\n",
    "    # 將預測機率矩陣轉換為 PyTorch 張量。\n",
    "    predictions = torch.from_numpy(np.array(predictions, dtype=np.float32))\n",
    "    num_users = len(labels_list)\n",
    "    ndcg_at_k_eval = dict()\n",
    "    \n",
    "    for k in k_list:\n",
    "        ndcg_sum = 0.0\n",
    "        for i in range(num_users):\n",
    "            # 將用戶 i 的真實標籤轉換為 PyTorch 張量。\n",
    "            labels = torch.from_numpy(np.array(labels_list[i], dtype=np.int64))\n",
    "            # 計算用戶 i 在預測機率矩陣中機率最高的 K 個項目的索引=標籤。\n",
    "            top_k_item_labels = torch.topk(predictions[i], k)[1]\n",
    "            # 計算 DCG@K。\n",
    "            dcg_at_k = torch.sum(torch.div(1.0, torch.log2(torch.arange(k, dtype=torch.float32) + 2)) * (torch.eq(top_k_item_labels, labels.unsqueeze(1)).to(torch.float32) ))\n",
    "            # 計算 IDCG@K。\n",
    "            idcg_at_k = torch.sum(torch.div(1.0, torch.log2(torch.arange(len(labels), dtype=torch.float32) + 2)))\n",
    "            #idcg_at_k = torch.sum(torch.div(1.0, torch.log2(torch.arange(min(k, len(labels)), dtype=torch.float32) + 2)))\n",
    "            # 計算 NDCG@K。\n",
    "            ndcg_at_k = (dcg_at_k / idcg_at_k) * (k_labels_list[i] / (k_labels_list[i]+abs(k_labels_list[i]-k)))\n",
    "            ndcg_sum += ndcg_at_k.item()\n",
    "        # 計算平均 NDCG@K 分數。\n",
    "        ndcg_at_k = ndcg_sum / float(num_users)\n",
    "        key = '{}@{}'.format('NDCG',k)\n",
    "        ndcg_at_k_eval[key]=ndcg_at_k\n",
    "        \n",
    "\n",
    "    return ndcg_at_k_eval"
   ]
  },
  {
   "cell_type": "markdown",
   "id": "458759fa",
   "metadata": {},
   "source": [
    "## MPR"
   ]
  },
  {
   "cell_type": "code",
   "execution_count": 26,
   "id": "9160a9fa",
   "metadata": {},
   "outputs": [],
   "source": [
    "#MRR\n",
    "def calculate_MRR(predictions, labels_list):\n",
    "    reciprocal_ranks = []\n",
    "    # 將預測機率矩陣轉換為 numpy 數組。\n",
    "    predictions = np.array(predictions, dtype=np.float32)\n",
    "    # 預先排序預測結果（降序）\n",
    "    sorted_predictions = np.argsort(predictions)[:,::-1]\n",
    "    # 遍歷每個查詢的預測結果與目標結果\n",
    "    for pred, targets in zip(sorted_predictions, labels_list):\n",
    "        # 將目標結果轉換為集合\n",
    "        target_set = set(targets.numpy())\n",
    "        # 尋找目標的排名\n",
    "        rank = next((i + 1 for i, p in enumerate(pred) if p in target_set), 0)\n",
    "        # 計算倒數排名\n",
    "        reciprocal_rank = 1 / rank if rank > 0 else 0\n",
    "        reciprocal_ranks.append(reciprocal_rank)\n",
    "    # 計算 MRR\n",
    "    mrr_score = sum(reciprocal_ranks) / len(reciprocal_ranks)\n",
    "    return mrr_score"
   ]
  },
  {
   "cell_type": "markdown",
   "id": "be5f7b84",
   "metadata": {},
   "source": [
    "## MAP"
   ]
  },
  {
   "cell_type": "code",
   "execution_count": 27,
   "id": "074334ff",
   "metadata": {},
   "outputs": [],
   "source": [
    "#MAP\n",
    "def calculate_MAP(predictions, labels_list):\n",
    "    average_precisions = []\n",
    "    # 將預測機率矩陣轉換為 numpy 數組。\n",
    "    predictions = np.array(predictions, dtype=np.float32)\n",
    "    # 預先排序預測結果（降序）\n",
    "    sorted_predictions = np.argsort(predictions)[:,::-1]\n",
    "    # 遍歷每個查詢的預測結果與目標結果\n",
    "    for pred, targets in zip(sorted_predictions, labels_list):\n",
    "        # 將目標結果轉換為集合\n",
    "        target_set = set(targets.numpy())\n",
    "        # 計算查詢的精確度\n",
    "        precision = []\n",
    "        hits = 0\n",
    "        for i, p in enumerate(pred):\n",
    "            if p in target_set:\n",
    "                hits += 1\n",
    "                precision.append(hits / (i + 1))\n",
    "        # 計算平均精確度\n",
    "        if precision:\n",
    "            average_precision = sum(precision) / len(precision)\n",
    "            average_precisions.append(average_precision)\n",
    "    # 計算 MAP\n",
    "    map_score = sum(average_precisions) / len(average_precisions)\n",
    "    return map_score"
   ]
  },
  {
   "cell_type": "markdown",
   "id": "213301db",
   "metadata": {},
   "source": [
    "# 訓練&測試"
   ]
  },
  {
   "cell_type": "code",
   "execution_count": 28,
   "id": "5d503206",
   "metadata": {},
   "outputs": [],
   "source": [
    "# 訓練模型\n",
    "def train_model():\n",
    "    my_model.train()\n",
    "    loss_list = []\n",
    "    \n",
    "    for batch_idx, (userID, basket_input, basket_label, size_input, size_label, offsets) in enumerate(tqdm(train_dataloader)):\n",
    "        optimizer.zero_grad()\n",
    "        output, indices = my_model(basket_input, offsets[1:])\n",
    "        # 計算損失\n",
    "        loss = cross_entropy_loss(output ,basket_label)\n",
    "        loss_list.append(loss.item())\n",
    "        loss.backward()\n",
    "        optimizer.step()\n",
    "\n",
    "        if (batch_idx%100 == 0) or (batch_idx == len(train_dataloader)-1) :\n",
    "            percentage = (100. * batch_idx/len(train_dataloader))\n",
    "            print(f'Epoch {epoch}: {percentage:.0f}% , Loss: {loss.item():.6f}')\n",
    "\n",
    "        with torch.no_grad():\n",
    "            output = torch.from_numpy(np.array(output.cpu(), dtype=np.float32))\n",
    "            if batch_idx==0:\n",
    "                outputs = output\n",
    "                labels_list = basket_label\n",
    "                size_labels_list = size_label\n",
    "            else:\n",
    "                outputs = torch.cat( (outputs, output ),-2 )\n",
    "                labels_list = labels_list + basket_label\n",
    "                size_labels_list = size_labels_list + size_label\n",
    "\n",
    "    with torch.no_grad():\n",
    "        evaluations = calculate_hr_at_k(outputs, labels_list, [5,10,20,50])\n",
    "        res_str = '(' + format_metric(evaluations) + ')'\n",
    "        print(f\"                      {res_str}\\n\")\n",
    "\n",
    "        evaluations = calculate_f1_score_at_k(outputs, labels_list, [5,10,20,50])\n",
    "        res_str = '(' + format_metric(evaluations) + ')'\n",
    "        print(f\"                      {res_str}\\n\")\n",
    "\n",
    "        evaluations = calculate_ndcg_at_k(outputs, labels_list, [5,10,20,50], size_labels_list)\n",
    "        res_str = '(' + format_metric(evaluations) + ')'\n",
    "        print(f\"                      {res_str}\\n\")\n",
    "        \n",
    "        mrr_score = calculate_MRR( outputs, labels_list )\n",
    "        print(f'MRR: {mrr_score}')\n",
    "        map_score = calculate_MAP( outputs, labels_list )\n",
    "        print(f'MAP: {map_score}')\n",
    "\n",
    "    return torch.mean(torch.tensor(loss_list))"
   ]
  },
  {
   "cell_type": "code",
   "execution_count": 29,
   "id": "b0799869",
   "metadata": {},
   "outputs": [],
   "source": [
    "# 驗證模型\n",
    "def evaluate_model():\n",
    "    my_model.eval()\n",
    "    loss_list = []\n",
    "    \n",
    "    for batch_idx, (userID, basket_input, basket_label, size_input, size_label, offsets) in enumerate(tqdm(valid_dataloader)):\n",
    "        output, indices = my_model(basket_input, offsets[1:])\n",
    "        # 計算損失\n",
    "        loss = cross_entropy_loss( output ,basket_label) \n",
    "        loss_list.append(loss.item())\n",
    "        with torch.no_grad():\n",
    "            output = torch.from_numpy(np.array(output.cpu(), dtype=np.float32))\n",
    "            if batch_idx==0:\n",
    "                outputs = output\n",
    "                labels_list = basket_label\n",
    "                size_labels_list = size_label\n",
    "            else:\n",
    "                outputs = torch.cat( (outputs, output ),-2 )\n",
    "                labels_list = labels_list + basket_label\n",
    "                size_labels_list = size_labels_list + size_label\n",
    "\n",
    "    with torch.no_grad():\n",
    "        evaluations = calculate_hr_at_k(outputs, labels_list, [5,10,20,50])\n",
    "        hr_5_rec = evaluations['HR@5']\n",
    "        res_str = '(' + format_metric(evaluations) + ')'\n",
    "        print(f\"                      {res_str}\\n\")\n",
    "\n",
    "        evaluations = calculate_f1_score_at_k(outputs, labels_list, [5,10,20,50])\n",
    "        res_str = '(' + format_metric(evaluations) + ')'\n",
    "        print(f\"                      {res_str}\\n\")\n",
    "\n",
    "        evaluations = calculate_ndcg_at_k(outputs, labels_list, [5,10,20,50], size_labels_list)\n",
    "        res_str = '(' + format_metric(evaluations) + ')'\n",
    "        print(f\"                      {res_str}\\n\")\n",
    "        \n",
    "        mrr_score = calculate_MRR( outputs, labels_list )\n",
    "        print(f'MRR: {mrr_score}')\n",
    "        map_score = calculate_MAP( outputs, labels_list )\n",
    "        print(f'MAP: {map_score}')\n",
    "\n",
    "    return torch.mean(torch.tensor(loss_list)),hr_5_rec"
   ]
  },
  {
   "cell_type": "code",
   "execution_count": 30,
   "id": "5e8d7319",
   "metadata": {},
   "outputs": [],
   "source": [
    "# 測試模型\n",
    "def test_model():\n",
    "    my_model.eval()\n",
    "    loss_list = []\n",
    "    \n",
    "    for batch_idx, (userID, basket_input, basket_label, size_input, size_label, offsets) in enumerate(tqdm(test_dataloader)):\n",
    "        output, indices = my_model(basket_input, offsets[1:])\n",
    "        # 計算損失\n",
    "        loss = cross_entropy_loss( output ,basket_label)\n",
    "        loss_list.append(loss.item())\n",
    "        with torch.no_grad():\n",
    "            output = torch.from_numpy(np.array(output.cpu(), dtype=np.float32))\n",
    "            if batch_idx==0:\n",
    "                outputs = output\n",
    "                labels_list = basket_label\n",
    "                size_labels_list = size_label\n",
    "            else:\n",
    "                outputs = torch.cat( (outputs, output ),-2 )\n",
    "                labels_list = labels_list + basket_label\n",
    "                size_labels_list = size_labels_list + size_label\n",
    "\n",
    "    with torch.no_grad():\n",
    "        hr_evaluations = calculate_hr_at_k(outputs, labels_list, [5,10,20,50])\n",
    "        hr_5_rec = hr_evaluations['HR@5']\n",
    "        hr_10_rec = hr_evaluations['HR@10']\n",
    "        hr_20_rec = hr_evaluations['HR@20']\n",
    "        hr_50_rec = hr_evaluations['HR@50']\n",
    "        hr_list = [hr_5_rec, hr_10_rec, hr_20_rec, hr_50_rec]\n",
    "        res_str = '(' + format_metric(hr_evaluations) + ')'\n",
    "        print(f\"                      {res_str}\\n\")\n",
    "\n",
    "        f1_evaluations = calculate_f1_score_at_k(outputs, labels_list, [5,10,20,50])\n",
    "        f1_5_rec = f1_evaluations['F1-score@5']\n",
    "        f1_10_rec = f1_evaluations['F1-score@10']\n",
    "        f1_20_rec = f1_evaluations['F1-score@20']\n",
    "        f1_50_rec = f1_evaluations['F1-score@50']\n",
    "        f1_list = [f1_5_rec, f1_10_rec, f1_20_rec, f1_50_rec]\n",
    "        res_str = '(' + format_metric(f1_evaluations) + ')'\n",
    "        print(f\"                      {res_str}\\n\")\n",
    "\n",
    "        ndcg_evaluations = calculate_ndcg_at_k(outputs, labels_list, [5,10,20,50], size_labels_list)\n",
    "        ndcg_5_rec = ndcg_evaluations['NDCG@5']\n",
    "        ndcg_10_rec = ndcg_evaluations['NDCG@10']\n",
    "        ndcg_20_rec = ndcg_evaluations['NDCG@20']\n",
    "        ndcg_50_rec = ndcg_evaluations['NDCG@50']\n",
    "        ndcg_list = [ndcg_5_rec, ndcg_10_rec, ndcg_20_rec, ndcg_50_rec]\n",
    "        res_str = '(' + format_metric(ndcg_evaluations) + ')'\n",
    "        print(f\"                      {res_str}\\n\")\n",
    "        \n",
    "        mrr_score = calculate_MRR( outputs, labels_list )\n",
    "        print(f'MRR: {mrr_score}')\n",
    "        map_score = calculate_MAP( outputs, labels_list )\n",
    "        print(f'MAP: {map_score}')\n",
    "\n",
    "    return torch.mean(torch.tensor(loss_list)),hr_5_rec,hr_list,f1_list,ndcg_list, mrr_score, map_score"
   ]
  },
  {
   "cell_type": "markdown",
   "id": "1abc8fbc",
   "metadata": {},
   "source": [
    "# 完整模型"
   ]
  },
  {
   "cell_type": "code",
   "execution_count": 31,
   "id": "5ad81bac",
   "metadata": {},
   "outputs": [
    {
     "name": "stdout",
     "output_type": "stream",
     "text": [
      "items_count= 15764\n",
      "tensor([1.7128e-03, 1.1418e-03, 2.4169e-02,  ..., 6.3436e-05, 6.3436e-05,\n",
      "        6.3436e-05], device='cuda:0', dtype=torch.float64)\n"
     ]
    }
   ],
   "source": [
    "# 項目總數\n",
    "items_count = confidences.shape[0]\n",
    "print(\"items_count=\",items_count)\n",
    "# 項目出現次數\n",
    "items_frq = Counter(dataset[\"NEW_ITEM_ID\"])\n",
    "# 計算每個項目出現的比例: items_frq/items_count\n",
    "item_weight = torch.tensor( np.array( list(items_frq.values()) )/items_count ).to(device)\n",
    "print(item_weight) # 按照new_item_id順序排列"
   ]
  },
  {
   "cell_type": "markdown",
   "id": "975d9e58",
   "metadata": {},
   "source": [
    "## 加上信賴度矩陣"
   ]
  },
  {
   "cell_type": "code",
   "execution_count": 32,
   "id": "5d571c57",
   "metadata": {},
   "outputs": [
    {
     "data": {
      "text/plain": [
       "tensor([[0.0000, 0.0741, 0.0741,  ..., 0.0000, 0.0000, 0.0000],\n",
       "        [0.0000, 0.0000, 0.1111,  ..., 0.0000, 0.0000, 0.0000],\n",
       "        [0.0000, 0.0000, 0.0000,  ..., 0.0000, 0.0000, 0.0000],\n",
       "        ...,\n",
       "        [0.0000, 0.0000, 0.0000,  ..., 0.0000, 0.0000, 0.0000],\n",
       "        [0.0000, 0.0000, 0.0000,  ..., 0.0000, 0.0000, 0.0000],\n",
       "        [0.0000, 0.0000, 0.0000,  ..., 0.0000, 0.0000, 0.0000]],\n",
       "       device='cuda:0', dtype=torch.float64)"
      ]
     },
     "execution_count": 32,
     "metadata": {},
     "output_type": "execute_result"
    }
   ],
   "source": [
    "# 信賴度矩陣\n",
    "confidences_array = torch.tensor(confidences,dtype=torch.float64).to(device)\n",
    "confidences_array"
   ]
  },
  {
   "cell_type": "code",
   "execution_count": 33,
   "id": "b00066a0",
   "metadata": {},
   "outputs": [],
   "source": [
    "class MyModel01(nn.Module):\n",
    "    def __init__(self, embed_dim, model_dim, hidden_dim, items_count):\n",
    "        super(MyModel01, self).__init__()\n",
    "        self.model_dim = model_dim\n",
    "        self.embedding = nn.Embedding.from_pretrained(weights, freeze=False)\n",
    "        self.embedding.requires_grad = True\n",
    "        self.attn = SelfAttention(embed_dim=embed_dim ,model_dim=model_dim)\n",
    "        #self.linear_transformation = LinearTransformation(embed_dim=embed_dim)\n",
    "        self.model_encoder = TransformerEncoder(d_model=model_dim , num_heads=NUM_HEAD, num_layers=NUM_LAYER)\n",
    "        self.mlp = MLPLayer(model_dim, hidden_dim, items_count ) # 嵌入維度、隱藏層維度、總項目數量\n",
    "        self.relu = nn.ReLU()\n",
    "\n",
    "        \n",
    "    def forward(self, train_input, lengths):\n",
    "        \n",
    "        inputs, attention_mask = [], []\n",
    "\n",
    "        # 為每個用戶的購物籃加上 padding跟 mask\n",
    "        for user in train_input:\n",
    "            # 將購物籃項目 ID 轉換為嵌入向量\n",
    "            batch_features = [ self.embedding(torch.tensor(cart).to(device)) for cart in user ]\n",
    "            # 進行 padding\n",
    "            batch_features = rnn_utils.pad_sequence(batch_features, batch_first=True, padding_value=0)\n",
    "            # 購物籃中項目的遮罩\n",
    "            mask = ~batch_features.sum(dim=-1).ne(0)\n",
    "            inputs.append(batch_features)\n",
    "            attention_mask.append(mask)\n",
    "\n",
    "            \n",
    "        # 進入自注意力，輸出形狀為 (N, basket_size, embed_dim)\n",
    "        basket_embedding_list = []\n",
    "        for i,user_inputs in enumerate(inputs):\n",
    "            basket_embedding_list.append( self.attn(user_inputs,attention_mask[i]) )\n",
    "        \n",
    "        # 進行購物籃的 padding\n",
    "        input_seq = rnn_utils.pad_sequence(basket_embedding_list, batch_first=True, padding_value=0)\n",
    "        \n",
    "        # 進入Transformer\n",
    "        basket_embed = self.model_encoder(input_seq.to(device))\n",
    "        \n",
    "        B_s_list = []\n",
    "        for i, b in enumerate(basket_embed):\n",
    "            basket_size = len(attention_mask[i])\n",
    "            B_s = b[basket_size-1]  # 取得最後一個購物籃向量\n",
    "            B_s_list.append(B_s)\n",
    "\n",
    "        # 進入MLP層\n",
    "        p = self.mlp(torch.stack(B_s_list, dim=0))\n",
    "        pc = (self.relu(p.to(torch.float64))+1e-8) @ confidences_array\n",
    "        pw = torch.mul( p, item_weight )\n",
    "        \n",
    "        #z\n",
    "        tr_predictions = torch.add(pc, pw) + p.to(torch.float64)\n",
    "        tr_mean = tr_predictions.mean(dim=1, keepdim = True)\n",
    "        tr_std = tr_predictions.std(dim=1, keepdim =True)\n",
    "        tr_z_score = (tr_predictions - tr_mean) / tr_std\n",
    "        y = tr_z_score\n",
    "        #z\n",
    "        \n",
    "        # p_ = torch.mul(BETA, torch.add(pc,pw)) + torch.mul(1-BETA, p.to(torch.float64))\n",
    "        # y = p_\n",
    "        Y,indices = torch.topk(y, k=10)\n",
    "        return y,indices"
   ]
  },
  {
   "cell_type": "code",
   "execution_count": 34,
   "id": "88bf8d6f",
   "metadata": {},
   "outputs": [
    {
     "data": {
      "text/plain": [
       "MyModel01(\n",
       "  (embedding): Embedding(15764, 32)\n",
       "  (attn): SelfAttention(\n",
       "    (query_matrix): Linear(in_features=32, out_features=32, bias=True)\n",
       "    (key_matrix): Linear(in_features=32, out_features=32, bias=True)\n",
       "    (value_matrix): Linear(in_features=32, out_features=32, bias=True)\n",
       "    (multihead_attn): MultiheadAttention(\n",
       "      (out_proj): NonDynamicallyQuantizableLinear(in_features=32, out_features=32, bias=True)\n",
       "    )\n",
       "  )\n",
       "  (model_encoder): TransformerEncoder(\n",
       "    (pe): PositionalEncoding(\n",
       "      (dropout): Dropout(p=0.5, inplace=False)\n",
       "    )\n",
       "    (transformer): TransformerEncoder(\n",
       "      (layers): ModuleList(\n",
       "        (0-3): 4 x TransformerEncoderLayer(\n",
       "          (self_attn): MultiheadAttention(\n",
       "            (out_proj): NonDynamicallyQuantizableLinear(in_features=32, out_features=32, bias=True)\n",
       "          )\n",
       "          (linear1): Linear(in_features=32, out_features=2048, bias=True)\n",
       "          (dropout): Dropout(p=0.1, inplace=False)\n",
       "          (linear2): Linear(in_features=2048, out_features=32, bias=True)\n",
       "          (norm1): LayerNorm((32,), eps=1e-05, elementwise_affine=True)\n",
       "          (norm2): LayerNorm((32,), eps=1e-05, elementwise_affine=True)\n",
       "          (dropout1): Dropout(p=0.1, inplace=False)\n",
       "          (dropout2): Dropout(p=0.1, inplace=False)\n",
       "        )\n",
       "      )\n",
       "    )\n",
       "  )\n",
       "  (mlp): MLPLayer(\n",
       "    (hidden): Linear(in_features=32, out_features=128, bias=True)\n",
       "    (norm): BatchNorm1d(128, eps=1e-05, momentum=0.03, affine=True, track_running_stats=True)\n",
       "    (activate): ReLU()\n",
       "    (output): Linear(in_features=128, out_features=15764, bias=True)\n",
       "  )\n",
       "  (relu): ReLU()\n",
       ")"
      ]
     },
     "execution_count": 34,
     "metadata": {},
     "output_type": "execute_result"
    }
   ],
   "source": [
    "my_model = MyModel01(embed_dim=EMBEDDING_DIMENSION, model_dim=MODEL_DIMENSION,  hidden_dim=HIDDEN_DIMENSION,  items_count=items_count ).to(device)\n",
    "optimizer = torch.optim.Adam(my_model.parameters(),lr=LEARNING_RATE)\n",
    "my_model.train()"
   ]
  },
  {
   "cell_type": "code",
   "execution_count": 35,
   "id": "dc547691",
   "metadata": {},
   "outputs": [
    {
     "name": "stderr",
     "output_type": "stream",
     "text": [
      "  0%|          | 1/1065 [00:01<33:17,  1.88s/it]"
     ]
    },
    {
     "name": "stdout",
     "output_type": "stream",
     "text": [
      "Epoch 1: 0% , Loss: 0.756348\n"
     ]
    },
    {
     "name": "stderr",
     "output_type": "stream",
     "text": [
      "  9%|▉         | 101/1065 [00:31<05:33,  2.89it/s]"
     ]
    },
    {
     "name": "stdout",
     "output_type": "stream",
     "text": [
      "Epoch 1: 9% , Loss: 0.754883\n"
     ]
    },
    {
     "name": "stderr",
     "output_type": "stream",
     "text": [
      " 19%|█▉        | 201/1065 [01:03<04:35,  3.14it/s]"
     ]
    },
    {
     "name": "stdout",
     "output_type": "stream",
     "text": [
      "Epoch 1: 19% , Loss: 0.752930\n"
     ]
    },
    {
     "name": "stderr",
     "output_type": "stream",
     "text": [
      " 28%|██▊       | 302/1065 [01:26<02:47,  4.56it/s]"
     ]
    },
    {
     "name": "stdout",
     "output_type": "stream",
     "text": [
      "Epoch 1: 28% , Loss: 0.751465\n"
     ]
    },
    {
     "name": "stderr",
     "output_type": "stream",
     "text": [
      " 38%|███▊      | 401/1065 [01:52<03:13,  3.43it/s]"
     ]
    },
    {
     "name": "stdout",
     "output_type": "stream",
     "text": [
      "Epoch 1: 38% , Loss: 0.750000\n"
     ]
    },
    {
     "name": "stderr",
     "output_type": "stream",
     "text": [
      " 47%|████▋     | 501/1065 [02:19<02:22,  3.96it/s]"
     ]
    },
    {
     "name": "stdout",
     "output_type": "stream",
     "text": [
      "Epoch 1: 47% , Loss: 0.748535\n"
     ]
    },
    {
     "name": "stderr",
     "output_type": "stream",
     "text": [
      " 56%|█████▋    | 601/1065 [02:49<02:24,  3.21it/s]"
     ]
    },
    {
     "name": "stdout",
     "output_type": "stream",
     "text": [
      "Epoch 1: 56% , Loss: 0.747559\n"
     ]
    },
    {
     "name": "stderr",
     "output_type": "stream",
     "text": [
      " 66%|██████▌   | 701/1065 [03:21<01:40,  3.62it/s]"
     ]
    },
    {
     "name": "stdout",
     "output_type": "stream",
     "text": [
      "Epoch 1: 66% , Loss: 0.746582\n"
     ]
    },
    {
     "name": "stderr",
     "output_type": "stream",
     "text": [
      " 75%|███████▌  | 801/1065 [03:53<01:18,  3.38it/s]"
     ]
    },
    {
     "name": "stdout",
     "output_type": "stream",
     "text": [
      "Epoch 1: 75% , Loss: 0.744629\n"
     ]
    },
    {
     "name": "stderr",
     "output_type": "stream",
     "text": [
      " 85%|████████▍ | 901/1065 [04:26<00:54,  3.00it/s]"
     ]
    },
    {
     "name": "stdout",
     "output_type": "stream",
     "text": [
      "Epoch 1: 85% , Loss: 0.741699\n"
     ]
    },
    {
     "name": "stderr",
     "output_type": "stream",
     "text": [
      " 94%|█████████▍| 1001/1065 [05:02<00:36,  1.77it/s]"
     ]
    },
    {
     "name": "stdout",
     "output_type": "stream",
     "text": [
      "Epoch 1: 94% , Loss: 0.739746\n"
     ]
    },
    {
     "name": "stderr",
     "output_type": "stream",
     "text": [
      "100%|██████████| 1065/1065 [05:24<00:00,  3.28it/s]"
     ]
    },
    {
     "name": "stdout",
     "output_type": "stream",
     "text": [
      "Epoch 1: 100% , Loss: 0.739258\n"
     ]
    },
    {
     "name": "stderr",
     "output_type": "stream",
     "text": [
      "\n"
     ]
    },
    {
     "name": "stdout",
     "output_type": "stream",
     "text": [
      "                      (HR@5: 0.0316, HR@10: 0.0440, HR@20: 0.0570, HR@50: 0.0995)\n",
      "\n",
      "                      (F1-score@5: 0.0333, F1-score@10: 0.0327, F1-score@20: 0.0278, F1-score@50: 0.0244)\n",
      "\n",
      "                      (NDCG@5: 0.0346, NDCG@10: 0.0315, NDCG@20: 0.0224, NDCG@50: 0.0124)\n",
      "\n",
      "MRR: 0.1725695692963391\n",
      "MAP: 0.03556618886571154\n",
      "train_loss= tensor(0.7482)\n",
      "--------------------\n"
     ]
    },
    {
     "name": "stderr",
     "output_type": "stream",
     "text": [
      "100%|██████████| 133/133 [00:29<00:00,  4.57it/s]\n"
     ]
    },
    {
     "name": "stdout",
     "output_type": "stream",
     "text": [
      "                      (HR@5: 0.0294, HR@10: 0.0396, HR@20: 0.0511, HR@50: 0.0888)\n",
      "\n",
      "                      (F1-score@5: 0.0316, F1-score@10: 0.0297, F1-score@20: 0.0256, F1-score@50: 0.0227)\n",
      "\n",
      "                      (NDCG@5: 0.0323, NDCG@10: 0.0298, NDCG@20: 0.0213, NDCG@50: 0.0120)\n",
      "\n",
      "MRR: 0.16456610605624403\n",
      "MAP: 0.03246291892635694\n",
      "val_loss= tensor(0.7375)\n",
      "--------------------\n"
     ]
    },
    {
     "name": "stderr",
     "output_type": "stream",
     "text": [
      "100%|██████████| 133/133 [00:27<00:00,  4.76it/s]\n"
     ]
    },
    {
     "name": "stdout",
     "output_type": "stream",
     "text": [
      "                      (HR@5: 0.0347, HR@10: 0.0454, HR@20: 0.0610, HR@50: 0.0977)\n",
      "\n",
      "                      (F1-score@5: 0.0355, F1-score@10: 0.0329, F1-score@20: 0.0290, F1-score@50: 0.0240)\n",
      "\n",
      "                      (NDCG@5: 0.0374, NDCG@10: 0.0318, NDCG@20: 0.0223, NDCG@50: 0.0122)\n",
      "\n",
      "MRR: 0.1717572674970315\n",
      "MAP: 0.038195357361045575\n",
      "--------------------\n",
      "[[1, 0.03465425, 0.04536543, 0.060965173, 0.09765469, 0.03546227992572318, 0.032930403000051456, 0.029009450723162675, 0.024023476855959854, 0.03735033883468101, 0.0318496223045443, 0.0223121976381854, 0.012187458402337157, 0.1717572674970315, 0.038195357361045575, 0.737506628036499]]\n",
      "-----------------------------------------------------------------------------------------\n"
     ]
    },
    {
     "name": "stderr",
     "output_type": "stream",
     "text": [
      "  0%|          | 2/1065 [00:00<04:02,  4.38it/s]"
     ]
    },
    {
     "name": "stdout",
     "output_type": "stream",
     "text": [
      "Epoch 2: 0% , Loss: 0.739258\n"
     ]
    },
    {
     "name": "stderr",
     "output_type": "stream",
     "text": [
      " 10%|▉         | 102/1065 [00:25<03:29,  4.59it/s]"
     ]
    },
    {
     "name": "stdout",
     "output_type": "stream",
     "text": [
      "Epoch 2: 9% , Loss: 0.734863\n"
     ]
    },
    {
     "name": "stderr",
     "output_type": "stream",
     "text": [
      " 19%|█▉        | 202/1065 [00:48<02:43,  5.28it/s]"
     ]
    },
    {
     "name": "stdout",
     "output_type": "stream",
     "text": [
      "Epoch 2: 19% , Loss: 0.733398\n"
     ]
    },
    {
     "name": "stderr",
     "output_type": "stream",
     "text": [
      " 28%|██▊       | 302/1065 [01:13<03:00,  4.23it/s]"
     ]
    },
    {
     "name": "stdout",
     "output_type": "stream",
     "text": [
      "Epoch 2: 28% , Loss: 0.729004\n"
     ]
    },
    {
     "name": "stderr",
     "output_type": "stream",
     "text": [
      " 38%|███▊      | 401/1065 [01:43<04:20,  2.55it/s]"
     ]
    },
    {
     "name": "stdout",
     "output_type": "stream",
     "text": [
      "Epoch 2: 38% , Loss: 0.731445\n"
     ]
    },
    {
     "name": "stderr",
     "output_type": "stream",
     "text": [
      " 47%|████▋     | 501/1065 [02:15<02:40,  3.52it/s]"
     ]
    },
    {
     "name": "stdout",
     "output_type": "stream",
     "text": [
      "Epoch 2: 47% , Loss: 0.726562\n"
     ]
    },
    {
     "name": "stderr",
     "output_type": "stream",
     "text": [
      " 56%|█████▋    | 601/1065 [02:46<02:08,  3.61it/s]"
     ]
    },
    {
     "name": "stdout",
     "output_type": "stream",
     "text": [
      "Epoch 2: 56% , Loss: 0.725586\n"
     ]
    },
    {
     "name": "stderr",
     "output_type": "stream",
     "text": [
      " 66%|██████▌   | 701/1065 [03:18<01:48,  3.36it/s]"
     ]
    },
    {
     "name": "stdout",
     "output_type": "stream",
     "text": [
      "Epoch 2: 66% , Loss: 0.728027\n"
     ]
    },
    {
     "name": "stderr",
     "output_type": "stream",
     "text": [
      " 75%|███████▌  | 801/1065 [03:51<01:12,  3.66it/s]"
     ]
    },
    {
     "name": "stdout",
     "output_type": "stream",
     "text": [
      "Epoch 2: 75% , Loss: 0.719727\n"
     ]
    },
    {
     "name": "stderr",
     "output_type": "stream",
     "text": [
      " 85%|████████▍ | 901/1065 [04:25<01:01,  2.65it/s]"
     ]
    },
    {
     "name": "stdout",
     "output_type": "stream",
     "text": [
      "Epoch 2: 85% , Loss: 0.716797\n"
     ]
    },
    {
     "name": "stderr",
     "output_type": "stream",
     "text": [
      " 94%|█████████▍| 1001/1065 [05:01<00:22,  2.80it/s]"
     ]
    },
    {
     "name": "stdout",
     "output_type": "stream",
     "text": [
      "Epoch 2: 94% , Loss: 0.717285\n"
     ]
    },
    {
     "name": "stderr",
     "output_type": "stream",
     "text": [
      "100%|██████████| 1065/1065 [05:24<00:00,  3.28it/s]"
     ]
    },
    {
     "name": "stdout",
     "output_type": "stream",
     "text": [
      "Epoch 2: 100% , Loss: 0.715820\n"
     ]
    },
    {
     "name": "stderr",
     "output_type": "stream",
     "text": [
      "\n"
     ]
    },
    {
     "name": "stdout",
     "output_type": "stream",
     "text": [
      "                      (HR@5: 0.0334, HR@10: 0.0440, HR@20: 0.0639, HR@50: 0.1008)\n",
      "\n",
      "                      (F1-score@5: 0.0350, F1-score@10: 0.0326, F1-score@20: 0.0304, F1-score@50: 0.0245)\n",
      "\n",
      "                      (NDCG@5: 0.0356, NDCG@10: 0.0317, NDCG@20: 0.0232, NDCG@50: 0.0125)\n",
      "\n",
      "MRR: 0.17353478276437603\n",
      "MAP: 0.03627809183562323\n",
      "train_loss= tensor(0.7269)\n",
      "--------------------\n"
     ]
    },
    {
     "name": "stderr",
     "output_type": "stream",
     "text": [
      "100%|██████████| 133/133 [00:20<00:00,  6.53it/s]\n"
     ]
    },
    {
     "name": "stdout",
     "output_type": "stream",
     "text": [
      "                      (HR@5: 0.0307, HR@10: 0.0420, HR@20: 0.0597, HR@50: 0.0892)\n",
      "\n",
      "                      (F1-score@5: 0.0326, F1-score@10: 0.0316, F1-score@20: 0.0290, F1-score@50: 0.0231)\n",
      "\n",
      "                      (NDCG@5: 0.0328, NDCG@10: 0.0308, NDCG@20: 0.0225, NDCG@50: 0.0122)\n",
      "\n",
      "MRR: 0.166374590688981\n",
      "MAP: 0.03266230902120377\n",
      "val_loss= tensor(0.7148)\n",
      "--------------------\n"
     ]
    },
    {
     "name": "stderr",
     "output_type": "stream",
     "text": [
      "100%|██████████| 133/133 [00:21<00:00,  6.28it/s]\n"
     ]
    },
    {
     "name": "stdout",
     "output_type": "stream",
     "text": [
      "                      (HR@5: 0.0349, HR@10: 0.0495, HR@20: 0.0663, HR@50: 0.1038)\n",
      "\n",
      "                      (F1-score@5: 0.0361, F1-score@10: 0.0357, F1-score@20: 0.0311, F1-score@50: 0.0249)\n",
      "\n",
      "                      (NDCG@5: 0.0379, NDCG@10: 0.0332, NDCG@20: 0.0231, NDCG@50: 0.0124)\n",
      "\n",
      "MRR: 0.17281249482928276\n",
      "MAP: 0.03874251039192741\n",
      "--------------------\n",
      "[[1, 0.03465425, 0.04536543, 0.060965173, 0.09765469, 0.03546227992572318, 0.032930403000051456, 0.029009450723162675, 0.024023476855959854, 0.03735033883468101, 0.0318496223045443, 0.0223121976381854, 0.012187458402337157, 0.1717572674970315, 0.038195357361045575, 0.737506628036499], [2, 0.034920342, 0.049537707, 0.06630957, 0.10376751, 0.036090099508033456, 0.03569413702971639, 0.031115291575316086, 0.024863518480978855, 0.03791606810322046, 0.03317129893816615, 0.023067262956760544, 0.012365936020238647, 0.17281249482928276, 0.03874251039192741, 0.7148474454879761]]\n",
      "-----------------------------------------------------------------------------------------\n"
     ]
    },
    {
     "name": "stderr",
     "output_type": "stream",
     "text": [
      "  0%|          | 1/1065 [00:00<03:31,  5.03it/s]"
     ]
    },
    {
     "name": "stdout",
     "output_type": "stream",
     "text": [
      "Epoch 3: 0% , Loss: 0.718262\n"
     ]
    },
    {
     "name": "stderr",
     "output_type": "stream",
     "text": [
      "  9%|▉         | 101/1065 [00:26<03:58,  4.04it/s]"
     ]
    },
    {
     "name": "stdout",
     "output_type": "stream",
     "text": [
      "Epoch 3: 9% , Loss: 0.714844\n"
     ]
    },
    {
     "name": "stderr",
     "output_type": "stream",
     "text": [
      " 19%|█▉        | 201/1065 [00:54<03:09,  4.56it/s]"
     ]
    },
    {
     "name": "stdout",
     "output_type": "stream",
     "text": [
      "Epoch 3: 19% , Loss: 0.715332\n"
     ]
    },
    {
     "name": "stderr",
     "output_type": "stream",
     "text": [
      " 28%|██▊       | 301/1065 [01:22<03:47,  3.37it/s]"
     ]
    },
    {
     "name": "stdout",
     "output_type": "stream",
     "text": [
      "Epoch 3: 28% , Loss: 0.721680\n"
     ]
    },
    {
     "name": "stderr",
     "output_type": "stream",
     "text": [
      " 38%|███▊      | 401/1065 [01:52<03:01,  3.66it/s]"
     ]
    },
    {
     "name": "stdout",
     "output_type": "stream",
     "text": [
      "Epoch 3: 38% , Loss: 0.713867\n"
     ]
    },
    {
     "name": "stderr",
     "output_type": "stream",
     "text": [
      " 47%|████▋     | 501/1065 [02:22<02:31,  3.73it/s]"
     ]
    },
    {
     "name": "stdout",
     "output_type": "stream",
     "text": [
      "Epoch 3: 47% , Loss: 0.713867\n"
     ]
    },
    {
     "name": "stderr",
     "output_type": "stream",
     "text": [
      " 56%|█████▋    | 601/1065 [02:55<02:40,  2.89it/s]"
     ]
    },
    {
     "name": "stdout",
     "output_type": "stream",
     "text": [
      "Epoch 3: 56% , Loss: 0.711426\n"
     ]
    },
    {
     "name": "stderr",
     "output_type": "stream",
     "text": [
      " 66%|██████▌   | 701/1065 [03:29<02:21,  2.56it/s]"
     ]
    },
    {
     "name": "stdout",
     "output_type": "stream",
     "text": [
      "Epoch 3: 66% , Loss: 0.708984\n"
     ]
    },
    {
     "name": "stderr",
     "output_type": "stream",
     "text": [
      " 75%|███████▌  | 801/1065 [04:15<02:19,  1.89it/s]"
     ]
    },
    {
     "name": "stdout",
     "output_type": "stream",
     "text": [
      "Epoch 3: 75% , Loss: 0.708496\n"
     ]
    },
    {
     "name": "stderr",
     "output_type": "stream",
     "text": [
      " 85%|████████▍ | 901/1065 [05:04<01:10,  2.31it/s]"
     ]
    },
    {
     "name": "stdout",
     "output_type": "stream",
     "text": [
      "Epoch 3: 85% , Loss: 0.710449\n"
     ]
    },
    {
     "name": "stderr",
     "output_type": "stream",
     "text": [
      " 94%|█████████▍| 1001/1065 [05:55<00:32,  1.98it/s]"
     ]
    },
    {
     "name": "stdout",
     "output_type": "stream",
     "text": [
      "Epoch 3: 94% , Loss: 0.708008\n"
     ]
    },
    {
     "name": "stderr",
     "output_type": "stream",
     "text": [
      "100%|██████████| 1065/1065 [06:28<00:00,  2.74it/s]"
     ]
    },
    {
     "name": "stdout",
     "output_type": "stream",
     "text": [
      "Epoch 3: 100% , Loss: 0.711914\n"
     ]
    },
    {
     "name": "stderr",
     "output_type": "stream",
     "text": [
      "\n"
     ]
    },
    {
     "name": "stdout",
     "output_type": "stream",
     "text": [
      "                      (HR@5: 0.0334, HR@10: 0.0475, HR@20: 0.0653, HR@50: 0.1023)\n",
      "\n",
      "                      (F1-score@5: 0.0348, F1-score@10: 0.0348, F1-score@20: 0.0308, F1-score@50: 0.0246)\n",
      "\n",
      "                      (NDCG@5: 0.0355, NDCG@10: 0.0324, NDCG@20: 0.0233, NDCG@50: 0.0125)\n",
      "\n",
      "MRR: 0.17322685007577962\n",
      "MAP: 0.03604098084336122\n",
      "train_loss= tensor(0.7122)\n",
      "--------------------\n"
     ]
    },
    {
     "name": "stderr",
     "output_type": "stream",
     "text": [
      "100%|██████████| 133/133 [00:41<00:00,  3.23it/s]\n"
     ]
    },
    {
     "name": "stdout",
     "output_type": "stream",
     "text": [
      "                      (HR@5: 0.0323, HR@10: 0.0424, HR@20: 0.0607, HR@50: 0.0889)\n",
      "\n",
      "                      (F1-score@5: 0.0342, F1-score@10: 0.0315, F1-score@20: 0.0295, F1-score@50: 0.0228)\n",
      "\n",
      "                      (NDCG@5: 0.0336, NDCG@10: 0.0309, NDCG@20: 0.0227, NDCG@50: 0.0121)\n",
      "\n",
      "MRR: 0.16684243184577377\n",
      "MAP: 0.0321707369774711\n",
      "val_loss= tensor(0.7071)\n",
      "--------------------\n"
     ]
    },
    {
     "name": "stderr",
     "output_type": "stream",
     "text": [
      "100%|██████████| 133/133 [00:42<00:00,  3.12it/s]\n"
     ]
    },
    {
     "name": "stdout",
     "output_type": "stream",
     "text": [
      "                      (HR@5: 0.0389, HR@10: 0.0491, HR@20: 0.0667, HR@50: 0.1038)\n",
      "\n",
      "                      (F1-score@5: 0.0396, F1-score@10: 0.0356, F1-score@20: 0.0313, F1-score@50: 0.0247)\n",
      "\n",
      "                      (NDCG@5: 0.0398, NDCG@10: 0.0335, NDCG@20: 0.0232, NDCG@50: 0.0124)\n",
      "\n",
      "MRR: 0.1737748618881017\n",
      "MAP: 0.038488715112516746\n",
      "--------------------\n",
      "[[1, 0.03465425, 0.04536543, 0.060965173, 0.09765469, 0.03546227992572318, 0.032930403000051456, 0.029009450723162675, 0.024023476855959854, 0.03735033883468101, 0.0318496223045443, 0.0223121976381854, 0.012187458402337157, 0.1717572674970315, 0.038195357361045575, 0.737506628036499], [2, 0.034920342, 0.049537707, 0.06630957, 0.10376751, 0.036090099508033456, 0.03569413702971639, 0.031115291575316086, 0.024863518480978855, 0.03791606810322046, 0.03317129893816615, 0.023067262956760544, 0.012365936020238647, 0.17281249482928276, 0.03874251039192741, 0.7148474454879761], [3, 0.03885227, 0.049114645, 0.06668661, 0.10375823, 0.0395950206502221, 0.03564165216299002, 0.03125508788742816, 0.02472983703811252, 0.039751005920938644, 0.033499216083157105, 0.023218361380741112, 0.012373350616684533, 0.1737748618881017, 0.038488715112516746, 0.7070716619491577]]\n",
      "-----------------------------------------------------------------------------------------\n"
     ]
    },
    {
     "name": "stderr",
     "output_type": "stream",
     "text": [
      "  0%|          | 1/1065 [00:00<13:08,  1.35it/s]"
     ]
    },
    {
     "name": "stdout",
     "output_type": "stream",
     "text": [
      "Epoch 4: 0% , Loss: 0.706543\n"
     ]
    },
    {
     "name": "stderr",
     "output_type": "stream",
     "text": [
      "  9%|▉         | 101/1065 [00:42<05:25,  2.96it/s]"
     ]
    },
    {
     "name": "stdout",
     "output_type": "stream",
     "text": [
      "Epoch 4: 9% , Loss: 0.707031\n"
     ]
    },
    {
     "name": "stderr",
     "output_type": "stream",
     "text": [
      " 19%|█▉        | 201/1065 [01:20<03:48,  3.79it/s]"
     ]
    },
    {
     "name": "stdout",
     "output_type": "stream",
     "text": [
      "Epoch 4: 19% , Loss: 0.712402\n"
     ]
    },
    {
     "name": "stderr",
     "output_type": "stream",
     "text": [
      " 28%|██▊       | 301/1065 [01:49<03:42,  3.44it/s]"
     ]
    },
    {
     "name": "stdout",
     "output_type": "stream",
     "text": [
      "Epoch 4: 28% , Loss: 0.705078\n"
     ]
    },
    {
     "name": "stderr",
     "output_type": "stream",
     "text": [
      " 38%|███▊      | 401/1065 [02:21<04:18,  2.57it/s]"
     ]
    },
    {
     "name": "stdout",
     "output_type": "stream",
     "text": [
      "Epoch 4: 38% , Loss: 0.706055\n"
     ]
    },
    {
     "name": "stderr",
     "output_type": "stream",
     "text": [
      " 47%|████▋     | 501/1065 [03:02<03:21,  2.80it/s]"
     ]
    },
    {
     "name": "stdout",
     "output_type": "stream",
     "text": [
      "Epoch 4: 47% , Loss: 0.706055\n"
     ]
    },
    {
     "name": "stderr",
     "output_type": "stream",
     "text": [
      " 56%|█████▋    | 601/1065 [03:41<02:53,  2.67it/s]"
     ]
    },
    {
     "name": "stdout",
     "output_type": "stream",
     "text": [
      "Epoch 4: 56% , Loss: 0.704102\n"
     ]
    },
    {
     "name": "stderr",
     "output_type": "stream",
     "text": [
      " 66%|██████▌   | 701/1065 [04:23<04:35,  1.32it/s]"
     ]
    },
    {
     "name": "stdout",
     "output_type": "stream",
     "text": [
      "Epoch 4: 66% , Loss: 0.704590\n"
     ]
    },
    {
     "name": "stderr",
     "output_type": "stream",
     "text": [
      " 75%|███████▌  | 801/1065 [05:10<02:22,  1.85it/s]"
     ]
    },
    {
     "name": "stdout",
     "output_type": "stream",
     "text": [
      "Epoch 4: 75% , Loss: 0.706055\n"
     ]
    },
    {
     "name": "stderr",
     "output_type": "stream",
     "text": [
      " 85%|████████▍ | 901/1065 [06:01<01:18,  2.09it/s]"
     ]
    },
    {
     "name": "stdout",
     "output_type": "stream",
     "text": [
      "Epoch 4: 85% , Loss: 0.705566\n"
     ]
    },
    {
     "name": "stderr",
     "output_type": "stream",
     "text": [
      " 94%|█████████▍| 1001/1065 [06:50<00:43,  1.46it/s]"
     ]
    },
    {
     "name": "stdout",
     "output_type": "stream",
     "text": [
      "Epoch 4: 94% , Loss: 0.705078\n"
     ]
    },
    {
     "name": "stderr",
     "output_type": "stream",
     "text": [
      "100%|██████████| 1065/1065 [07:18<00:00,  2.43it/s]"
     ]
    },
    {
     "name": "stdout",
     "output_type": "stream",
     "text": [
      "Epoch 4: 100% , Loss: 0.704590\n"
     ]
    },
    {
     "name": "stderr",
     "output_type": "stream",
     "text": [
      "\n"
     ]
    },
    {
     "name": "stdout",
     "output_type": "stream",
     "text": [
      "                      (HR@5: 0.0348, HR@10: 0.0469, HR@20: 0.0654, HR@50: 0.1025)\n",
      "\n",
      "                      (F1-score@5: 0.0359, F1-score@10: 0.0341, F1-score@20: 0.0309, F1-score@50: 0.0245)\n",
      "\n",
      "                      (NDCG@5: 0.0361, NDCG@10: 0.0321, NDCG@20: 0.0233, NDCG@50: 0.0124)\n",
      "\n",
      "MRR: 0.1729721703420682\n",
      "MAP: 0.03548202235007164\n",
      "train_loss= tensor(0.7062)\n",
      "--------------------\n"
     ]
    },
    {
     "name": "stderr",
     "output_type": "stream",
     "text": [
      "100%|██████████| 133/133 [00:45<00:00,  2.93it/s]\n"
     ]
    },
    {
     "name": "stdout",
     "output_type": "stream",
     "text": [
      "                      (HR@5: 0.0319, HR@10: 0.0429, HR@20: 0.0571, HR@50: 0.0899)\n",
      "\n",
      "                      (F1-score@5: 0.0338, F1-score@10: 0.0320, F1-score@20: 0.0278, F1-score@50: 0.0228)\n",
      "\n",
      "                      (NDCG@5: 0.0331, NDCG@10: 0.0309, NDCG@20: 0.0220, NDCG@50: 0.0120)\n",
      "\n",
      "MRR: 0.16485572876091034\n",
      "MAP: 0.031112722492700064\n",
      "val_loss= tensor(0.7033)\n",
      "--------------------\n"
     ]
    },
    {
     "name": "stderr",
     "output_type": "stream",
     "text": [
      "100%|██████████| 133/133 [00:42<00:00,  3.11it/s]\n"
     ]
    },
    {
     "name": "stdout",
     "output_type": "stream",
     "text": [
      "                      (HR@5: 0.0385, HR@10: 0.0490, HR@20: 0.0641, HR@50: 0.1052)\n",
      "\n",
      "                      (F1-score@5: 0.0392, F1-score@10: 0.0353, F1-score@20: 0.0301, F1-score@50: 0.0246)\n",
      "\n",
      "                      (NDCG@5: 0.0396, NDCG@10: 0.0334, NDCG@20: 0.0227, NDCG@50: 0.0122)\n",
      "\n",
      "MRR: 0.1727280251381023\n",
      "MAP: 0.03775703204435945\n",
      "--------------------\n",
      "[[1, 0.03465425, 0.04536543, 0.060965173, 0.09765469, 0.03546227992572318, 0.032930403000051456, 0.029009450723162675, 0.024023476855959854, 0.03735033883468101, 0.0318496223045443, 0.0223121976381854, 0.012187458402337157, 0.1717572674970315, 0.038195357361045575, 0.737506628036499], [2, 0.034920342, 0.049537707, 0.06630957, 0.10376751, 0.036090099508033456, 0.03569413702971639, 0.031115291575316086, 0.024863518480978855, 0.03791606810322046, 0.03317129893816615, 0.023067262956760544, 0.012365936020238647, 0.17281249482928276, 0.03874251039192741, 0.7148474454879761], [3, 0.03885227, 0.049114645, 0.06668661, 0.10375823, 0.0395950206502221, 0.03564165216299002, 0.03125508788742816, 0.02472983703811252, 0.039751005920938644, 0.033499216083157105, 0.023218361380741112, 0.012373350616684533, 0.1737748618881017, 0.038488715112516746, 0.7070716619491577], [4, 0.038483042, 0.04900222, 0.0640814, 0.10516484, 0.039229523574198705, 0.035301578500518536, 0.03008911980334535, 0.0245585782795049, 0.039617270772184306, 0.0333939969270049, 0.022728360441856478, 0.01220824117457172, 0.1727280251381023, 0.03775703204435945, 0.703326940536499]]\n",
      "-----------------------------------------------------------------------------------------\n"
     ]
    },
    {
     "name": "stderr",
     "output_type": "stream",
     "text": [
      "  0%|          | 1/1065 [00:00<09:13,  1.92it/s]"
     ]
    },
    {
     "name": "stdout",
     "output_type": "stream",
     "text": [
      "Epoch 5: 0% , Loss: 0.702637\n"
     ]
    },
    {
     "name": "stderr",
     "output_type": "stream",
     "text": [
      "  9%|▉         | 101/1065 [00:42<07:41,  2.09it/s]"
     ]
    },
    {
     "name": "stdout",
     "output_type": "stream",
     "text": [
      "Epoch 5: 9% , Loss: 0.702148\n"
     ]
    },
    {
     "name": "stderr",
     "output_type": "stream",
     "text": [
      " 19%|█▉        | 201/1065 [01:19<04:24,  3.27it/s]"
     ]
    },
    {
     "name": "stdout",
     "output_type": "stream",
     "text": [
      "Epoch 5: 19% , Loss: 0.707520\n"
     ]
    },
    {
     "name": "stderr",
     "output_type": "stream",
     "text": [
      " 28%|██▊       | 301/1065 [01:50<03:29,  3.65it/s]"
     ]
    },
    {
     "name": "stdout",
     "output_type": "stream",
     "text": [
      "Epoch 5: 28% , Loss: 0.702637\n"
     ]
    },
    {
     "name": "stderr",
     "output_type": "stream",
     "text": [
      " 38%|███▊      | 401/1065 [02:23<03:18,  3.34it/s]"
     ]
    },
    {
     "name": "stdout",
     "output_type": "stream",
     "text": [
      "Epoch 5: 38% , Loss: 0.703613\n"
     ]
    },
    {
     "name": "stderr",
     "output_type": "stream",
     "text": [
      " 47%|████▋     | 501/1065 [03:05<04:02,  2.32it/s]"
     ]
    },
    {
     "name": "stdout",
     "output_type": "stream",
     "text": [
      "Epoch 5: 47% , Loss: 0.702637\n"
     ]
    },
    {
     "name": "stderr",
     "output_type": "stream",
     "text": [
      " 56%|█████▋    | 601/1065 [03:44<02:57,  2.62it/s]"
     ]
    },
    {
     "name": "stdout",
     "output_type": "stream",
     "text": [
      "Epoch 5: 56% , Loss: 0.703125\n"
     ]
    },
    {
     "name": "stderr",
     "output_type": "stream",
     "text": [
      " 66%|██████▌   | 701/1065 [04:24<02:24,  2.52it/s]"
     ]
    },
    {
     "name": "stdout",
     "output_type": "stream",
     "text": [
      "Epoch 5: 66% , Loss: 0.700684\n"
     ]
    },
    {
     "name": "stderr",
     "output_type": "stream",
     "text": [
      " 75%|███████▌  | 801/1065 [05:15<02:01,  2.18it/s]"
     ]
    },
    {
     "name": "stdout",
     "output_type": "stream",
     "text": [
      "Epoch 5: 75% , Loss: 0.702637\n"
     ]
    },
    {
     "name": "stderr",
     "output_type": "stream",
     "text": [
      " 85%|████████▍ | 901/1065 [06:00<01:18,  2.10it/s]"
     ]
    },
    {
     "name": "stdout",
     "output_type": "stream",
     "text": [
      "Epoch 5: 85% , Loss: 0.703613\n"
     ]
    },
    {
     "name": "stderr",
     "output_type": "stream",
     "text": [
      " 94%|█████████▍| 1001/1065 [06:42<00:30,  2.11it/s]"
     ]
    },
    {
     "name": "stdout",
     "output_type": "stream",
     "text": [
      "Epoch 5: 94% , Loss: 0.699707\n"
     ]
    },
    {
     "name": "stderr",
     "output_type": "stream",
     "text": [
      "100%|██████████| 1065/1065 [07:12<00:00,  2.46it/s]"
     ]
    },
    {
     "name": "stdout",
     "output_type": "stream",
     "text": [
      "Epoch 5: 100% , Loss: 0.700195\n"
     ]
    },
    {
     "name": "stderr",
     "output_type": "stream",
     "text": [
      "\n"
     ]
    },
    {
     "name": "stdout",
     "output_type": "stream",
     "text": [
      "                      (HR@5: 0.0339, HR@10: 0.0463, HR@20: 0.0641, HR@50: 0.1017)\n",
      "\n",
      "                      (F1-score@5: 0.0351, F1-score@10: 0.0335, F1-score@20: 0.0302, F1-score@50: 0.0241)\n",
      "\n",
      "                      (NDCG@5: 0.0358, NDCG@10: 0.0319, NDCG@20: 0.0229, NDCG@50: 0.0122)\n",
      "\n",
      "MRR: 0.17125848777719507\n",
      "MAP: 0.034715421069023644\n",
      "train_loss= tensor(0.7030)\n",
      "--------------------\n"
     ]
    },
    {
     "name": "stderr",
     "output_type": "stream",
     "text": [
      "100%|██████████| 133/133 [00:46<00:00,  2.86it/s]\n"
     ]
    },
    {
     "name": "stdout",
     "output_type": "stream",
     "text": [
      "                      (HR@5: 0.0310, HR@10: 0.0409, HR@20: 0.0544, HR@50: 0.0875)\n",
      "\n",
      "                      (F1-score@5: 0.0329, F1-score@10: 0.0306, F1-score@20: 0.0267, F1-score@50: 0.0219)\n",
      "\n",
      "                      (NDCG@5: 0.0326, NDCG@10: 0.0302, NDCG@20: 0.0215, NDCG@50: 0.0117)\n",
      "\n",
      "MRR: 0.16284963467602187\n",
      "MAP: 0.029791287298866063\n",
      "val_loss= tensor(0.7012)\n",
      "--------------------\n"
     ]
    },
    {
     "name": "stderr",
     "output_type": "stream",
     "text": [
      "100%|██████████| 133/133 [00:42<00:00,  3.13it/s]\n"
     ]
    },
    {
     "name": "stdout",
     "output_type": "stream",
     "text": [
      "                      (HR@5: 0.0369, HR@10: 0.0469, HR@20: 0.0627, HR@50: 0.1011)\n",
      "\n",
      "                      (F1-score@5: 0.0373, F1-score@10: 0.0339, F1-score@20: 0.0293, F1-score@50: 0.0236)\n",
      "\n",
      "                      (NDCG@5: 0.0383, NDCG@10: 0.0323, NDCG@20: 0.0221, NDCG@50: 0.0118)\n",
      "\n",
      "MRR: 0.16864992362950817\n",
      "MAP: 0.03614342670436087\n",
      "--------------------\n",
      "[[1, 0.03465425, 0.04536543, 0.060965173, 0.09765469, 0.03546227992572318, 0.032930403000051456, 0.029009450723162675, 0.024023476855959854, 0.03735033883468101, 0.0318496223045443, 0.0223121976381854, 0.012187458402337157, 0.1717572674970315, 0.038195357361045575, 0.737506628036499], [2, 0.034920342, 0.049537707, 0.06630957, 0.10376751, 0.036090099508033456, 0.03569413702971639, 0.031115291575316086, 0.024863518480978855, 0.03791606810322046, 0.03317129893816615, 0.023067262956760544, 0.012365936020238647, 0.17281249482928276, 0.03874251039192741, 0.7148474454879761], [3, 0.03885227, 0.049114645, 0.06668661, 0.10375823, 0.0395950206502221, 0.03564165216299002, 0.03125508788742816, 0.02472983703811252, 0.039751005920938644, 0.033499216083157105, 0.023218361380741112, 0.012373350616684533, 0.1737748618881017, 0.038488715112516746, 0.7070716619491577], [4, 0.038483042, 0.04900222, 0.0640814, 0.10516484, 0.039229523574198705, 0.035301578500518536, 0.03008911980334535, 0.0245585782795049, 0.039617270772184306, 0.0333939969270049, 0.022728360441856478, 0.01220824117457172, 0.1727280251381023, 0.03775703204435945, 0.703326940536499], [5, 0.03692979, 0.04693932, 0.06265045, 0.10107843, 0.03733291979352027, 0.033853338675597706, 0.029304826409967934, 0.023598067582014725, 0.0382539490763014, 0.03231336585687179, 0.022073252726157188, 0.011809149785912632, 0.16864992362950817, 0.03614342670436087, 0.701171875]]\n",
      "-----------------------------------------------------------------------------------------\n"
     ]
    },
    {
     "name": "stderr",
     "output_type": "stream",
     "text": [
      "  0%|          | 2/1065 [00:01<08:32,  2.07it/s]"
     ]
    },
    {
     "name": "stdout",
     "output_type": "stream",
     "text": [
      "Epoch 6: 0% , Loss: 0.702637\n"
     ]
    },
    {
     "name": "stderr",
     "output_type": "stream",
     "text": [
      "  9%|▉         | 101/1065 [00:46<05:54,  2.72it/s]"
     ]
    },
    {
     "name": "stdout",
     "output_type": "stream",
     "text": [
      "Epoch 6: 9% , Loss: 0.700195\n"
     ]
    },
    {
     "name": "stderr",
     "output_type": "stream",
     "text": [
      " 19%|█▉        | 201/1065 [01:23<05:23,  2.67it/s]"
     ]
    },
    {
     "name": "stdout",
     "output_type": "stream",
     "text": [
      "Epoch 6: 19% , Loss: 0.701660\n"
     ]
    },
    {
     "name": "stderr",
     "output_type": "stream",
     "text": [
      " 28%|██▊       | 301/1065 [01:55<04:06,  3.09it/s]"
     ]
    },
    {
     "name": "stdout",
     "output_type": "stream",
     "text": [
      "Epoch 6: 28% , Loss: 0.700684\n"
     ]
    },
    {
     "name": "stderr",
     "output_type": "stream",
     "text": [
      " 38%|███▊      | 401/1065 [02:27<03:50,  2.88it/s]"
     ]
    },
    {
     "name": "stdout",
     "output_type": "stream",
     "text": [
      "Epoch 6: 38% , Loss: 0.706055\n"
     ]
    },
    {
     "name": "stderr",
     "output_type": "stream",
     "text": [
      " 47%|████▋     | 501/1065 [03:08<04:00,  2.34it/s]"
     ]
    },
    {
     "name": "stdout",
     "output_type": "stream",
     "text": [
      "Epoch 6: 47% , Loss: 0.701172\n"
     ]
    },
    {
     "name": "stderr",
     "output_type": "stream",
     "text": [
      " 56%|█████▋    | 601/1065 [03:51<03:38,  2.12it/s]"
     ]
    },
    {
     "name": "stdout",
     "output_type": "stream",
     "text": [
      "Epoch 6: 56% , Loss: 0.699707\n"
     ]
    },
    {
     "name": "stderr",
     "output_type": "stream",
     "text": [
      " 66%|██████▌   | 701/1065 [04:25<01:33,  3.91it/s]"
     ]
    },
    {
     "name": "stdout",
     "output_type": "stream",
     "text": [
      "Epoch 6: 66% , Loss: 0.702148\n"
     ]
    },
    {
     "name": "stderr",
     "output_type": "stream",
     "text": [
      " 75%|███████▌  | 801/1065 [05:09<02:05,  2.11it/s]"
     ]
    },
    {
     "name": "stdout",
     "output_type": "stream",
     "text": [
      "Epoch 6: 75% , Loss: 0.701660\n"
     ]
    },
    {
     "name": "stderr",
     "output_type": "stream",
     "text": [
      " 85%|████████▍ | 901/1065 [05:53<01:00,  2.71it/s]"
     ]
    },
    {
     "name": "stdout",
     "output_type": "stream",
     "text": [
      "Epoch 6: 85% , Loss: 0.703613\n"
     ]
    },
    {
     "name": "stderr",
     "output_type": "stream",
     "text": [
      " 94%|█████████▍| 1001/1065 [06:40<00:31,  2.03it/s]"
     ]
    },
    {
     "name": "stdout",
     "output_type": "stream",
     "text": [
      "Epoch 6: 94% , Loss: 0.700684\n"
     ]
    },
    {
     "name": "stderr",
     "output_type": "stream",
     "text": [
      "100%|██████████| 1065/1065 [07:09<00:00,  2.48it/s]"
     ]
    },
    {
     "name": "stdout",
     "output_type": "stream",
     "text": [
      "Epoch 6: 100% , Loss: 0.699707\n"
     ]
    },
    {
     "name": "stderr",
     "output_type": "stream",
     "text": [
      "\n"
     ]
    },
    {
     "name": "stdout",
     "output_type": "stream",
     "text": [
      "                      (HR@5: 0.0345, HR@10: 0.0461, HR@20: 0.0622, HR@50: 0.0948)\n",
      "\n",
      "                      (F1-score@5: 0.0354, F1-score@10: 0.0334, F1-score@20: 0.0293, F1-score@50: 0.0222)\n",
      "\n",
      "                      (NDCG@5: 0.0359, NDCG@10: 0.0318, NDCG@20: 0.0225, NDCG@50: 0.0116)\n",
      "\n",
      "MRR: 0.16902499636450552\n",
      "MAP: 0.033707785119586914\n",
      "train_loss= tensor(0.7011)\n",
      "--------------------\n"
     ]
    },
    {
     "name": "stderr",
     "output_type": "stream",
     "text": [
      "100%|██████████| 133/133 [00:46<00:00,  2.84it/s]\n"
     ]
    },
    {
     "name": "stdout",
     "output_type": "stream",
     "text": [
      "                      (HR@5: 0.0317, HR@10: 0.0408, HR@20: 0.0527, HR@50: 0.0773)\n",
      "\n",
      "                      (F1-score@5: 0.0334, F1-score@10: 0.0305, F1-score@20: 0.0261, F1-score@50: 0.0192)\n",
      "\n",
      "                      (NDCG@5: 0.0327, NDCG@10: 0.0300, NDCG@20: 0.0212, NDCG@50: 0.0109)\n",
      "\n",
      "MRR: 0.16031261296127547\n",
      "MAP: 0.02868786211226893\n",
      "val_loss= tensor(0.6997)\n",
      "--------------------\n"
     ]
    },
    {
     "name": "stderr",
     "output_type": "stream",
     "text": [
      "100%|██████████| 133/133 [00:44<00:00,  2.99it/s]\n"
     ]
    },
    {
     "name": "stdout",
     "output_type": "stream",
     "text": [
      "                      (HR@5: 0.0383, HR@10: 0.0483, HR@20: 0.0604, HR@50: 0.0898)\n",
      "\n",
      "                      (F1-score@5: 0.0388, F1-score@10: 0.0347, F1-score@20: 0.0284, F1-score@50: 0.0207)\n",
      "\n",
      "                      (NDCG@5: 0.0392, NDCG@10: 0.0329, NDCG@20: 0.0219, NDCG@50: 0.0111)\n",
      "\n",
      "MRR: 0.1681212496695355\n",
      "MAP: 0.035511252517397215\n",
      "--------------------\n",
      "[[1, 0.03465425, 0.04536543, 0.060965173, 0.09765469, 0.03546227992572318, 0.032930403000051456, 0.029009450723162675, 0.024023476855959854, 0.03735033883468101, 0.0318496223045443, 0.0223121976381854, 0.012187458402337157, 0.1717572674970315, 0.038195357361045575, 0.737506628036499], [2, 0.034920342, 0.049537707, 0.06630957, 0.10376751, 0.036090099508033456, 0.03569413702971639, 0.031115291575316086, 0.024863518480978855, 0.03791606810322046, 0.03317129893816615, 0.023067262956760544, 0.012365936020238647, 0.17281249482928276, 0.03874251039192741, 0.7148474454879761], [3, 0.03885227, 0.049114645, 0.06668661, 0.10375823, 0.0395950206502221, 0.03564165216299002, 0.03125508788742816, 0.02472983703811252, 0.039751005920938644, 0.033499216083157105, 0.023218361380741112, 0.012373350616684533, 0.1737748618881017, 0.038488715112516746, 0.7070716619491577], [4, 0.038483042, 0.04900222, 0.0640814, 0.10516484, 0.039229523574198705, 0.035301578500518536, 0.03008911980334535, 0.0245585782795049, 0.039617270772184306, 0.0333939969270049, 0.022728360441856478, 0.01220824117457172, 0.1727280251381023, 0.03775703204435945, 0.703326940536499], [5, 0.03692979, 0.04693932, 0.06265045, 0.10107843, 0.03733291979352027, 0.033853338675597706, 0.029304826409967934, 0.023598067582014725, 0.0382539490763014, 0.03231336585687179, 0.022073252726157188, 0.011809149785912632, 0.16864992362950817, 0.03614342670436087, 0.701171875], [6, 0.03832389, 0.04826606, 0.060377385, 0.08977559, 0.03879739044253315, 0.03471991678206963, 0.02839345455253052, 0.020698862636109535, 0.039191465578006957, 0.03291920787668822, 0.021880947331778873, 0.011102645353351096, 0.1681212496695355, 0.035511252517397215, 0.6997437477111816]]\n",
      "-----------------------------------------------------------------------------------------\n"
     ]
    },
    {
     "name": "stderr",
     "output_type": "stream",
     "text": [
      "  0%|          | 1/1065 [00:00<05:14,  3.38it/s]"
     ]
    },
    {
     "name": "stdout",
     "output_type": "stream",
     "text": [
      "Epoch 7: 0% , Loss: 0.705078\n"
     ]
    },
    {
     "name": "stderr",
     "output_type": "stream",
     "text": [
      "  9%|▉         | 101/1065 [00:45<07:28,  2.15it/s]"
     ]
    },
    {
     "name": "stdout",
     "output_type": "stream",
     "text": [
      "Epoch 7: 9% , Loss: 0.699707\n"
     ]
    },
    {
     "name": "stderr",
     "output_type": "stream",
     "text": [
      " 19%|█▉        | 201/1065 [01:26<04:13,  3.41it/s]"
     ]
    },
    {
     "name": "stdout",
     "output_type": "stream",
     "text": [
      "Epoch 7: 19% , Loss: 0.699707\n"
     ]
    },
    {
     "name": "stderr",
     "output_type": "stream",
     "text": [
      " 28%|██▊       | 301/1065 [01:59<04:42,  2.71it/s]"
     ]
    },
    {
     "name": "stdout",
     "output_type": "stream",
     "text": [
      "Epoch 7: 28% , Loss: 0.703125\n"
     ]
    },
    {
     "name": "stderr",
     "output_type": "stream",
     "text": [
      " 38%|███▊      | 401/1065 [02:31<03:13,  3.44it/s]"
     ]
    },
    {
     "name": "stdout",
     "output_type": "stream",
     "text": [
      "Epoch 7: 38% , Loss: 0.700684\n"
     ]
    },
    {
     "name": "stderr",
     "output_type": "stream",
     "text": [
      " 47%|████▋     | 501/1065 [03:08<03:29,  2.69it/s]"
     ]
    },
    {
     "name": "stdout",
     "output_type": "stream",
     "text": [
      "Epoch 7: 47% , Loss: 0.699219\n"
     ]
    },
    {
     "name": "stderr",
     "output_type": "stream",
     "text": [
      " 56%|█████▋    | 601/1065 [03:42<02:44,  2.82it/s]"
     ]
    },
    {
     "name": "stdout",
     "output_type": "stream",
     "text": [
      "Epoch 7: 56% , Loss: 0.698242\n"
     ]
    },
    {
     "name": "stderr",
     "output_type": "stream",
     "text": [
      " 66%|██████▌   | 701/1065 [04:18<02:16,  2.66it/s]"
     ]
    },
    {
     "name": "stdout",
     "output_type": "stream",
     "text": [
      "Epoch 7: 66% , Loss: 0.699219\n"
     ]
    },
    {
     "name": "stderr",
     "output_type": "stream",
     "text": [
      " 75%|███████▌  | 801/1065 [05:01<01:57,  2.24it/s]"
     ]
    },
    {
     "name": "stdout",
     "output_type": "stream",
     "text": [
      "Epoch 7: 75% , Loss: 0.700195\n"
     ]
    },
    {
     "name": "stderr",
     "output_type": "stream",
     "text": [
      " 85%|████████▍ | 901/1065 [05:46<01:15,  2.16it/s]"
     ]
    },
    {
     "name": "stdout",
     "output_type": "stream",
     "text": [
      "Epoch 7: 85% , Loss: 0.699219\n"
     ]
    },
    {
     "name": "stderr",
     "output_type": "stream",
     "text": [
      " 94%|█████████▍| 1001/1065 [06:33<00:29,  2.15it/s]"
     ]
    },
    {
     "name": "stdout",
     "output_type": "stream",
     "text": [
      "Epoch 7: 94% , Loss: 0.696289\n"
     ]
    },
    {
     "name": "stderr",
     "output_type": "stream",
     "text": [
      "100%|██████████| 1065/1065 [07:05<00:00,  2.51it/s]"
     ]
    },
    {
     "name": "stdout",
     "output_type": "stream",
     "text": [
      "Epoch 7: 100% , Loss: 0.698242\n"
     ]
    },
    {
     "name": "stderr",
     "output_type": "stream",
     "text": [
      "\n"
     ]
    },
    {
     "name": "stdout",
     "output_type": "stream",
     "text": [
      "                      (HR@5: 0.0332, HR@10: 0.0464, HR@20: 0.0591, HR@50: 0.0835)\n",
      "\n",
      "                      (F1-score@5: 0.0341, F1-score@10: 0.0335, F1-score@20: 0.0278, F1-score@50: 0.0194)\n",
      "\n",
      "                      (NDCG@5: 0.0352, NDCG@10: 0.0317, NDCG@20: 0.0219, NDCG@50: 0.0108)\n",
      "\n",
      "MRR: 0.1661444521400926\n",
      "MAP: 0.032441841675694943\n",
      "train_loss= tensor(0.6999)\n",
      "--------------------\n"
     ]
    },
    {
     "name": "stderr",
     "output_type": "stream",
     "text": [
      "100%|██████████| 133/133 [00:46<00:00,  2.84it/s]\n"
     ]
    },
    {
     "name": "stdout",
     "output_type": "stream",
     "text": [
      "                      (HR@5: 0.0305, HR@10: 0.0407, HR@20: 0.0477, HR@50: 0.0628)\n",
      "\n",
      "                      (F1-score@5: 0.0320, F1-score@10: 0.0304, F1-score@20: 0.0235, F1-score@50: 0.0154)\n",
      "\n",
      "                      (NDCG@5: 0.0319, NDCG@10: 0.0298, NDCG@20: 0.0202, NDCG@50: 0.0097)\n",
      "\n",
      "MRR: 0.15685346868335623\n",
      "MAP: 0.027396690209423213\n",
      "val_loss= tensor(0.6988)\n",
      "--------------------\n"
     ]
    },
    {
     "name": "stderr",
     "output_type": "stream",
     "text": [
      "100%|██████████| 133/133 [00:45<00:00,  2.95it/s]\n"
     ]
    },
    {
     "name": "stdout",
     "output_type": "stream",
     "text": [
      "                      (HR@5: 0.0353, HR@10: 0.0467, HR@20: 0.0566, HR@50: 0.0721)\n",
      "\n",
      "                      (F1-score@5: 0.0359, F1-score@10: 0.0335, F1-score@20: 0.0264, F1-score@50: 0.0165)\n",
      "\n",
      "                      (NDCG@5: 0.0379, NDCG@10: 0.0321, NDCG@20: 0.0209, NDCG@50: 0.0098)\n",
      "\n",
      "MRR: 0.1636314666270846\n",
      "MAP: 0.03396130550940773\n",
      "--------------------\n",
      "[[1, 0.03465425, 0.04536543, 0.060965173, 0.09765469, 0.03546227992572318, 0.032930403000051456, 0.029009450723162675, 0.024023476855959854, 0.03735033883468101, 0.0318496223045443, 0.0223121976381854, 0.012187458402337157, 0.1717572674970315, 0.038195357361045575, 0.737506628036499], [2, 0.034920342, 0.049537707, 0.06630957, 0.10376751, 0.036090099508033456, 0.03569413702971639, 0.031115291575316086, 0.024863518480978855, 0.03791606810322046, 0.03317129893816615, 0.023067262956760544, 0.012365936020238647, 0.17281249482928276, 0.03874251039192741, 0.7148474454879761], [3, 0.03885227, 0.049114645, 0.06668661, 0.10375823, 0.0395950206502221, 0.03564165216299002, 0.03125508788742816, 0.02472983703811252, 0.039751005920938644, 0.033499216083157105, 0.023218361380741112, 0.012373350616684533, 0.1737748618881017, 0.038488715112516746, 0.7070716619491577], [4, 0.038483042, 0.04900222, 0.0640814, 0.10516484, 0.039229523574198705, 0.035301578500518536, 0.03008911980334535, 0.0245585782795049, 0.039617270772184306, 0.0333939969270049, 0.022728360441856478, 0.01220824117457172, 0.1727280251381023, 0.03775703204435945, 0.703326940536499], [5, 0.03692979, 0.04693932, 0.06265045, 0.10107843, 0.03733291979352027, 0.033853338675597706, 0.029304826409967934, 0.023598067582014725, 0.0382539490763014, 0.03231336585687179, 0.022073252726157188, 0.011809149785912632, 0.16864992362950817, 0.03614342670436087, 0.701171875], [6, 0.03832389, 0.04826606, 0.060377385, 0.08977559, 0.03879739044253315, 0.03471991678206963, 0.02839345455253052, 0.020698862636109535, 0.039191465578006957, 0.03291920787668822, 0.021880947331778873, 0.011102645353351096, 0.1681212496695355, 0.035511252517397215, 0.6997437477111816], [7, 0.035294183, 0.046654638, 0.056574225, 0.07207098, 0.035861279776745025, 0.033482979362027376, 0.026390112826904184, 0.016536219891109434, 0.03786072413493088, 0.03214345604559421, 0.02093510353356544, 0.009803151410717265, 0.1636314666270846, 0.03396130550940773, 0.6987671852111816]]\n",
      "-----------------------------------------------------------------------------------------\n"
     ]
    },
    {
     "name": "stderr",
     "output_type": "stream",
     "text": [
      "  0%|          | 1/1065 [00:00<05:18,  3.34it/s]"
     ]
    },
    {
     "name": "stdout",
     "output_type": "stream",
     "text": [
      "Epoch 8: 0% , Loss: 0.703613\n"
     ]
    },
    {
     "name": "stderr",
     "output_type": "stream",
     "text": [
      "  9%|▉         | 101/1065 [00:49<09:30,  1.69it/s]"
     ]
    },
    {
     "name": "stdout",
     "output_type": "stream",
     "text": [
      "Epoch 8: 9% , Loss: 0.699219\n"
     ]
    },
    {
     "name": "stderr",
     "output_type": "stream",
     "text": [
      " 19%|█▉        | 202/1065 [01:28<04:33,  3.16it/s]"
     ]
    },
    {
     "name": "stdout",
     "output_type": "stream",
     "text": [
      "Epoch 8: 19% , Loss: 0.699219\n"
     ]
    },
    {
     "name": "stderr",
     "output_type": "stream",
     "text": [
      " 28%|██▊       | 301/1065 [01:56<03:08,  4.04it/s]"
     ]
    },
    {
     "name": "stdout",
     "output_type": "stream",
     "text": [
      "Epoch 8: 28% , Loss: 0.698730\n"
     ]
    },
    {
     "name": "stderr",
     "output_type": "stream",
     "text": [
      " 38%|███▊      | 401/1065 [02:24<03:17,  3.36it/s]"
     ]
    },
    {
     "name": "stdout",
     "output_type": "stream",
     "text": [
      "Epoch 8: 38% , Loss: 0.699707\n"
     ]
    },
    {
     "name": "stderr",
     "output_type": "stream",
     "text": [
      " 47%|████▋     | 501/1065 [02:58<03:21,  2.81it/s]"
     ]
    },
    {
     "name": "stdout",
     "output_type": "stream",
     "text": [
      "Epoch 8: 47% , Loss: 0.698730\n"
     ]
    },
    {
     "name": "stderr",
     "output_type": "stream",
     "text": [
      " 56%|█████▋    | 601/1065 [03:33<04:07,  1.87it/s]"
     ]
    },
    {
     "name": "stdout",
     "output_type": "stream",
     "text": [
      "Epoch 8: 56% , Loss: 0.703125\n"
     ]
    },
    {
     "name": "stderr",
     "output_type": "stream",
     "text": [
      " 66%|██████▌   | 701/1065 [04:12<02:01,  2.99it/s]"
     ]
    },
    {
     "name": "stdout",
     "output_type": "stream",
     "text": [
      "Epoch 8: 66% , Loss: 0.698730\n"
     ]
    },
    {
     "name": "stderr",
     "output_type": "stream",
     "text": [
      " 75%|███████▌  | 801/1065 [04:54<02:21,  1.87it/s]"
     ]
    },
    {
     "name": "stdout",
     "output_type": "stream",
     "text": [
      "Epoch 8: 75% , Loss: 0.699707\n"
     ]
    },
    {
     "name": "stderr",
     "output_type": "stream",
     "text": [
      " 85%|████████▍ | 901/1065 [05:41<01:09,  2.37it/s]"
     ]
    },
    {
     "name": "stdout",
     "output_type": "stream",
     "text": [
      "Epoch 8: 85% , Loss: 0.698730\n"
     ]
    },
    {
     "name": "stderr",
     "output_type": "stream",
     "text": [
      " 94%|█████████▍| 1001/1065 [06:29<00:29,  2.20it/s]"
     ]
    },
    {
     "name": "stdout",
     "output_type": "stream",
     "text": [
      "Epoch 8: 94% , Loss: 0.699707\n"
     ]
    },
    {
     "name": "stderr",
     "output_type": "stream",
     "text": [
      "100%|██████████| 1065/1065 [07:00<00:00,  2.53it/s]"
     ]
    },
    {
     "name": "stdout",
     "output_type": "stream",
     "text": [
      "Epoch 8: 100% , Loss: 0.699219\n"
     ]
    },
    {
     "name": "stderr",
     "output_type": "stream",
     "text": [
      "\n"
     ]
    },
    {
     "name": "stdout",
     "output_type": "stream",
     "text": [
      "                      (HR@5: 0.0337, HR@10: 0.0451, HR@20: 0.0526, HR@50: 0.0656)\n",
      "\n",
      "                      (F1-score@5: 0.0347, F1-score@10: 0.0325, F1-score@20: 0.0245, F1-score@50: 0.0152)\n",
      "\n",
      "                      (NDCG@5: 0.0355, NDCG@10: 0.0313, NDCG@20: 0.0205, NDCG@50: 0.0095)\n",
      "\n",
      "MRR: 0.1624399135727628\n",
      "MAP: 0.031099734765207148\n",
      "train_loss= tensor(0.6990)\n",
      "--------------------\n"
     ]
    },
    {
     "name": "stderr",
     "output_type": "stream",
     "text": [
      "100%|██████████| 133/133 [00:47<00:00,  2.83it/s]\n"
     ]
    },
    {
     "name": "stdout",
     "output_type": "stream",
     "text": [
      "                      (HR@5: 0.0305, HR@10: 0.0366, HR@20: 0.0429, HR@50: 0.0490)\n",
      "\n",
      "                      (F1-score@5: 0.0320, F1-score@10: 0.0270, F1-score@20: 0.0206, F1-score@50: 0.0118)\n",
      "\n",
      "                      (NDCG@5: 0.0320, NDCG@10: 0.0281, NDCG@20: 0.0186, NDCG@50: 0.0084)\n",
      "\n",
      "MRR: 0.1517172497431042\n",
      "MAP: 0.02601094628526625\n",
      "val_loss= tensor(0.6983)\n",
      "--------------------\n"
     ]
    },
    {
     "name": "stderr",
     "output_type": "stream",
     "text": [
      "100%|██████████| 133/133 [00:45<00:00,  2.93it/s]\n"
     ]
    },
    {
     "name": "stdout",
     "output_type": "stream",
     "text": [
      "                      (HR@5: 0.0354, HR@10: 0.0438, HR@20: 0.0499, HR@50: 0.0574)\n",
      "\n",
      "                      (F1-score@5: 0.0360, F1-score@10: 0.0310, F1-score@20: 0.0226, F1-score@50: 0.0129)\n",
      "\n",
      "                      (NDCG@5: 0.0380, NDCG@10: 0.0308, NDCG@20: 0.0191, NDCG@50: 0.0085)\n",
      "\n",
      "MRR: 0.15816996251477264\n",
      "MAP: 0.03253562881831853\n",
      "--------------------\n",
      "[[1, 0.03465425, 0.04536543, 0.060965173, 0.09765469, 0.03546227992572318, 0.032930403000051456, 0.029009450723162675, 0.024023476855959854, 0.03735033883468101, 0.0318496223045443, 0.0223121976381854, 0.012187458402337157, 0.1717572674970315, 0.038195357361045575, 0.737506628036499], [2, 0.034920342, 0.049537707, 0.06630957, 0.10376751, 0.036090099508033456, 0.03569413702971639, 0.031115291575316086, 0.024863518480978855, 0.03791606810322046, 0.03317129893816615, 0.023067262956760544, 0.012365936020238647, 0.17281249482928276, 0.03874251039192741, 0.7148474454879761], [3, 0.03885227, 0.049114645, 0.06668661, 0.10375823, 0.0395950206502221, 0.03564165216299002, 0.03125508788742816, 0.02472983703811252, 0.039751005920938644, 0.033499216083157105, 0.023218361380741112, 0.012373350616684533, 0.1737748618881017, 0.038488715112516746, 0.7070716619491577], [4, 0.038483042, 0.04900222, 0.0640814, 0.10516484, 0.039229523574198705, 0.035301578500518536, 0.03008911980334535, 0.0245585782795049, 0.039617270772184306, 0.0333939969270049, 0.022728360441856478, 0.01220824117457172, 0.1727280251381023, 0.03775703204435945, 0.703326940536499], [5, 0.03692979, 0.04693932, 0.06265045, 0.10107843, 0.03733291979352027, 0.033853338675597706, 0.029304826409967934, 0.023598067582014725, 0.0382539490763014, 0.03231336585687179, 0.022073252726157188, 0.011809149785912632, 0.16864992362950817, 0.03614342670436087, 0.701171875], [6, 0.03832389, 0.04826606, 0.060377385, 0.08977559, 0.03879739044253315, 0.03471991678206963, 0.02839345455253052, 0.020698862636109535, 0.039191465578006957, 0.03291920787668822, 0.021880947331778873, 0.011102645353351096, 0.1681212496695355, 0.035511252517397215, 0.6997437477111816], [7, 0.035294183, 0.046654638, 0.056574225, 0.07207098, 0.035861279776745025, 0.033482979362027376, 0.026390112826904184, 0.016536219891109434, 0.03786072413493088, 0.03214345604559421, 0.02093510353356544, 0.009803151410717265, 0.1636314666270846, 0.03396130550940773, 0.6987671852111816], [8, 0.035379622, 0.043760803, 0.049878336, 0.057385672, 0.03597876097975253, 0.03100636717251084, 0.022573388757909874, 0.012856941967818888, 0.03801771558478082, 0.030771443852279475, 0.019061670360274445, 0.0085417394249707, 0.15816996251477264, 0.03253562881831853, 0.6982789039611816]]\n",
      "-----------------------------------------------------------------------------------------\n"
     ]
    },
    {
     "name": "stderr",
     "output_type": "stream",
     "text": [
      "  0%|          | 1/1065 [00:00<03:57,  4.47it/s]"
     ]
    },
    {
     "name": "stdout",
     "output_type": "stream",
     "text": [
      "Epoch 9: 0% , Loss: 0.697266\n"
     ]
    },
    {
     "name": "stderr",
     "output_type": "stream",
     "text": [
      "  9%|▉         | 101/1065 [00:46<06:20,  2.54it/s]"
     ]
    },
    {
     "name": "stdout",
     "output_type": "stream",
     "text": [
      "Epoch 9: 9% , Loss: 0.697266\n"
     ]
    },
    {
     "name": "stderr",
     "output_type": "stream",
     "text": [
      " 19%|█▉        | 201/1065 [01:20<05:08,  2.80it/s]"
     ]
    },
    {
     "name": "stdout",
     "output_type": "stream",
     "text": [
      "Epoch 9: 19% , Loss: 0.721191\n"
     ]
    },
    {
     "name": "stderr",
     "output_type": "stream",
     "text": [
      " 28%|██▊       | 301/1065 [01:47<03:53,  3.27it/s]"
     ]
    },
    {
     "name": "stdout",
     "output_type": "stream",
     "text": [
      "Epoch 9: 28% , Loss: 0.699219\n"
     ]
    },
    {
     "name": "stderr",
     "output_type": "stream",
     "text": [
      " 38%|███▊      | 401/1065 [02:13<03:13,  3.44it/s]"
     ]
    },
    {
     "name": "stdout",
     "output_type": "stream",
     "text": [
      "Epoch 9: 38% , Loss: 0.698242\n"
     ]
    },
    {
     "name": "stderr",
     "output_type": "stream",
     "text": [
      " 47%|████▋     | 501/1065 [02:49<03:16,  2.86it/s]"
     ]
    },
    {
     "name": "stdout",
     "output_type": "stream",
     "text": [
      "Epoch 9: 47% , Loss: 0.698730\n"
     ]
    },
    {
     "name": "stderr",
     "output_type": "stream",
     "text": [
      " 56%|█████▋    | 601/1065 [03:27<03:01,  2.55it/s]"
     ]
    },
    {
     "name": "stdout",
     "output_type": "stream",
     "text": [
      "Epoch 9: 56% , Loss: 0.701172\n"
     ]
    },
    {
     "name": "stderr",
     "output_type": "stream",
     "text": [
      " 66%|██████▌   | 701/1065 [04:07<01:57,  3.09it/s]"
     ]
    },
    {
     "name": "stdout",
     "output_type": "stream",
     "text": [
      "Epoch 9: 66% , Loss: 0.697266\n"
     ]
    },
    {
     "name": "stderr",
     "output_type": "stream",
     "text": [
      " 75%|███████▌  | 801/1065 [04:50<01:47,  2.45it/s]"
     ]
    },
    {
     "name": "stdout",
     "output_type": "stream",
     "text": [
      "Epoch 9: 75% , Loss: 0.697266\n"
     ]
    },
    {
     "name": "stderr",
     "output_type": "stream",
     "text": [
      " 85%|████████▍ | 901/1065 [05:41<01:04,  2.53it/s]"
     ]
    },
    {
     "name": "stdout",
     "output_type": "stream",
     "text": [
      "Epoch 9: 85% , Loss: 0.699219\n"
     ]
    },
    {
     "name": "stderr",
     "output_type": "stream",
     "text": [
      " 94%|█████████▍| 1001/1065 [06:28<00:30,  2.07it/s]"
     ]
    },
    {
     "name": "stdout",
     "output_type": "stream",
     "text": [
      "Epoch 9: 94% , Loss: 0.699219\n"
     ]
    },
    {
     "name": "stderr",
     "output_type": "stream",
     "text": [
      "100%|██████████| 1065/1065 [07:01<00:00,  2.53it/s]"
     ]
    },
    {
     "name": "stdout",
     "output_type": "stream",
     "text": [
      "Epoch 9: 100% , Loss: 0.698242\n"
     ]
    },
    {
     "name": "stderr",
     "output_type": "stream",
     "text": [
      "\n"
     ]
    },
    {
     "name": "stdout",
     "output_type": "stream",
     "text": [
      "                      (HR@5: 0.0323, HR@10: 0.0386, HR@20: 0.0457, HR@50: 0.0561)\n",
      "\n",
      "                      (F1-score@5: 0.0332, F1-score@10: 0.0275, F1-score@20: 0.0209, F1-score@50: 0.0127)\n",
      "\n",
      "                      (NDCG@5: 0.0347, NDCG@10: 0.0288, NDCG@20: 0.0187, NDCG@50: 0.0086)\n",
      "\n",
      "MRR: 0.1563597449344199\n",
      "MAP: 0.029748583882243145\n",
      "train_loss= tensor(0.6988)\n",
      "--------------------\n"
     ]
    },
    {
     "name": "stderr",
     "output_type": "stream",
     "text": [
      "100%|██████████| 133/133 [00:49<00:00,  2.68it/s]\n"
     ]
    },
    {
     "name": "stdout",
     "output_type": "stream",
     "text": [
      "                      (HR@5: 0.0271, HR@10: 0.0306, HR@20: 0.0353, HR@50: 0.0440)\n",
      "\n",
      "                      (F1-score@5: 0.0285, F1-score@10: 0.0224, F1-score@20: 0.0165, F1-score@50: 0.0104)\n",
      "\n",
      "                      (NDCG@5: 0.0305, NDCG@10: 0.0259, NDCG@20: 0.0165, NDCG@50: 0.0077)\n",
      "\n",
      "MRR: 0.14680665146003094\n",
      "MAP: 0.024927002440978167\n",
      "val_loss= tensor(0.6981)\n",
      "--------------------\n"
     ]
    },
    {
     "name": "stderr",
     "output_type": "stream",
     "text": [
      "100%|██████████| 133/133 [00:38<00:00,  3.50it/s]\n"
     ]
    },
    {
     "name": "stdout",
     "output_type": "stream",
     "text": [
      "                      (HR@5: 0.0327, HR@10: 0.0353, HR@20: 0.0425, HR@50: 0.0517)\n",
      "\n",
      "                      (F1-score@5: 0.0330, F1-score@10: 0.0247, F1-score@20: 0.0186, F1-score@50: 0.0112)\n",
      "\n",
      "                      (NDCG@5: 0.0366, NDCG@10: 0.0275, NDCG@20: 0.0169, NDCG@50: 0.0077)\n",
      "\n",
      "MRR: 0.15057565400575124\n",
      "MAP: 0.03125537800990395\n",
      "--------------------\n",
      "[[1, 0.03465425, 0.04536543, 0.060965173, 0.09765469, 0.03546227992572318, 0.032930403000051456, 0.029009450723162675, 0.024023476855959854, 0.03735033883468101, 0.0318496223045443, 0.0223121976381854, 0.012187458402337157, 0.1717572674970315, 0.038195357361045575, 0.737506628036499], [2, 0.034920342, 0.049537707, 0.06630957, 0.10376751, 0.036090099508033456, 0.03569413702971639, 0.031115291575316086, 0.024863518480978855, 0.03791606810322046, 0.03317129893816615, 0.023067262956760544, 0.012365936020238647, 0.17281249482928276, 0.03874251039192741, 0.7148474454879761], [3, 0.03885227, 0.049114645, 0.06668661, 0.10375823, 0.0395950206502221, 0.03564165216299002, 0.03125508788742816, 0.02472983703811252, 0.039751005920938644, 0.033499216083157105, 0.023218361380741112, 0.012373350616684533, 0.1737748618881017, 0.038488715112516746, 0.7070716619491577], [4, 0.038483042, 0.04900222, 0.0640814, 0.10516484, 0.039229523574198705, 0.035301578500518536, 0.03008911980334535, 0.0245585782795049, 0.039617270772184306, 0.0333939969270049, 0.022728360441856478, 0.01220824117457172, 0.1727280251381023, 0.03775703204435945, 0.703326940536499], [5, 0.03692979, 0.04693932, 0.06265045, 0.10107843, 0.03733291979352027, 0.033853338675597706, 0.029304826409967934, 0.023598067582014725, 0.0382539490763014, 0.03231336585687179, 0.022073252726157188, 0.011809149785912632, 0.16864992362950817, 0.03614342670436087, 0.701171875], [6, 0.03832389, 0.04826606, 0.060377385, 0.08977559, 0.03879739044253315, 0.03471991678206963, 0.02839345455253052, 0.020698862636109535, 0.039191465578006957, 0.03291920787668822, 0.021880947331778873, 0.011102645353351096, 0.1681212496695355, 0.035511252517397215, 0.6997437477111816], [7, 0.035294183, 0.046654638, 0.056574225, 0.07207098, 0.035861279776745025, 0.033482979362027376, 0.026390112826904184, 0.016536219891109434, 0.03786072413493088, 0.03214345604559421, 0.02093510353356544, 0.009803151410717265, 0.1636314666270846, 0.03396130550940773, 0.6987671852111816], [8, 0.035379622, 0.043760803, 0.049878336, 0.057385672, 0.03597876097975253, 0.03100636717251084, 0.022573388757909874, 0.012856941967818888, 0.03801771558478082, 0.030771443852279475, 0.019061670360274445, 0.0085417394249707, 0.15816996251477264, 0.03253562881831853, 0.6982789039611816], [9, 0.032719743, 0.035262145, 0.042486347, 0.051714934, 0.032984179507872954, 0.024670267770009767, 0.018582391177358715, 0.011173472350173663, 0.03658287044215415, 0.027470202510826346, 0.016902354046968476, 0.007676824102356778, 0.15057565400575124, 0.03125537800990395, 0.6981393694877625]]\n",
      "-----------------------------------------------------------------------------------------\n"
     ]
    },
    {
     "name": "stderr",
     "output_type": "stream",
     "text": [
      "  0%|          | 1/1065 [00:00<14:23,  1.23it/s]"
     ]
    },
    {
     "name": "stdout",
     "output_type": "stream",
     "text": [
      "Epoch 10: 0% , Loss: 0.697266\n"
     ]
    },
    {
     "name": "stderr",
     "output_type": "stream",
     "text": [
      "  9%|▉         | 101/1065 [00:41<04:54,  3.27it/s]"
     ]
    },
    {
     "name": "stdout",
     "output_type": "stream",
     "text": [
      "Epoch 10: 9% , Loss: 0.700684\n"
     ]
    },
    {
     "name": "stderr",
     "output_type": "stream",
     "text": [
      " 19%|█▉        | 201/1065 [01:17<04:44,  3.04it/s]"
     ]
    },
    {
     "name": "stdout",
     "output_type": "stream",
     "text": [
      "Epoch 10: 19% , Loss: 0.699219\n"
     ]
    },
    {
     "name": "stderr",
     "output_type": "stream",
     "text": [
      " 28%|██▊       | 301/1065 [01:47<03:06,  4.11it/s]"
     ]
    },
    {
     "name": "stdout",
     "output_type": "stream",
     "text": [
      "Epoch 10: 28% , Loss: 0.699707\n"
     ]
    },
    {
     "name": "stderr",
     "output_type": "stream",
     "text": [
      " 38%|███▊      | 401/1065 [02:16<03:07,  3.53it/s]"
     ]
    },
    {
     "name": "stdout",
     "output_type": "stream",
     "text": [
      "Epoch 10: 38% , Loss: 0.696777\n"
     ]
    },
    {
     "name": "stderr",
     "output_type": "stream",
     "text": [
      " 47%|████▋     | 501/1065 [02:53<03:27,  2.72it/s]"
     ]
    },
    {
     "name": "stdout",
     "output_type": "stream",
     "text": [
      "Epoch 10: 47% , Loss: 0.697266\n"
     ]
    },
    {
     "name": "stderr",
     "output_type": "stream",
     "text": [
      " 56%|█████▋    | 601/1065 [03:33<02:58,  2.60it/s]"
     ]
    },
    {
     "name": "stdout",
     "output_type": "stream",
     "text": [
      "Epoch 10: 56% , Loss: 0.699707\n"
     ]
    },
    {
     "name": "stderr",
     "output_type": "stream",
     "text": [
      " 66%|██████▌   | 701/1065 [04:13<02:19,  2.61it/s]"
     ]
    },
    {
     "name": "stdout",
     "output_type": "stream",
     "text": [
      "Epoch 10: 66% , Loss: 0.720215\n"
     ]
    },
    {
     "name": "stderr",
     "output_type": "stream",
     "text": [
      " 75%|███████▌  | 801/1065 [04:57<02:02,  2.15it/s]"
     ]
    },
    {
     "name": "stdout",
     "output_type": "stream",
     "text": [
      "Epoch 10: 75% , Loss: 0.699219\n"
     ]
    },
    {
     "name": "stderr",
     "output_type": "stream",
     "text": [
      " 85%|████████▍ | 901/1065 [05:43<01:19,  2.06it/s]"
     ]
    },
    {
     "name": "stdout",
     "output_type": "stream",
     "text": [
      "Epoch 10: 85% , Loss: 0.699219\n"
     ]
    },
    {
     "name": "stderr",
     "output_type": "stream",
     "text": [
      " 94%|█████████▍| 1001/1065 [06:34<00:28,  2.23it/s]"
     ]
    },
    {
     "name": "stdout",
     "output_type": "stream",
     "text": [
      "Epoch 10: 94% , Loss: 0.698730\n"
     ]
    },
    {
     "name": "stderr",
     "output_type": "stream",
     "text": [
      "100%|██████████| 1065/1065 [07:08<00:00,  2.49it/s]"
     ]
    },
    {
     "name": "stdout",
     "output_type": "stream",
     "text": [
      "Epoch 10: 100% , Loss: 0.698730\n"
     ]
    },
    {
     "name": "stderr",
     "output_type": "stream",
     "text": [
      "\n"
     ]
    },
    {
     "name": "stdout",
     "output_type": "stream",
     "text": [
      "                      (HR@5: 0.0275, HR@10: 0.0326, HR@20: 0.0382, HR@50: 0.0503)\n",
      "\n",
      "                      (F1-score@5: 0.0282, F1-score@10: 0.0233, F1-score@20: 0.0172, F1-score@50: 0.0111)\n",
      "\n",
      "                      (NDCG@5: 0.0318, NDCG@10: 0.0261, NDCG@20: 0.0165, NDCG@50: 0.0076)\n",
      "\n",
      "MRR: 0.14777620030497599\n",
      "MAP: 0.02764010569912159\n",
      "train_loss= tensor(0.6985)\n",
      "--------------------\n"
     ]
    },
    {
     "name": "stderr",
     "output_type": "stream",
     "text": [
      "100%|██████████| 133/133 [00:40<00:00,  3.30it/s]\n"
     ]
    },
    {
     "name": "stdout",
     "output_type": "stream",
     "text": [
      "                      (HR@5: 0.0203, HR@10: 0.0235, HR@20: 0.0301, HR@50: 0.0364)\n",
      "\n",
      "                      (F1-score@5: 0.0214, F1-score@10: 0.0174, F1-score@20: 0.0141, F1-score@50: 0.0084)\n",
      "\n",
      "                      (NDCG@5: 0.0257, NDCG@10: 0.0218, NDCG@20: 0.0142, NDCG@50: 0.0064)\n",
      "\n",
      "MRR: 0.13080607808323527\n",
      "MAP: 0.021835533791639897\n",
      "val_loss= tensor(0.6978)\n",
      "--------------------\n"
     ]
    },
    {
     "name": "stderr",
     "output_type": "stream",
     "text": [
      "100%|██████████| 133/133 [00:38<00:00,  3.43it/s]\n"
     ]
    },
    {
     "name": "stdout",
     "output_type": "stream",
     "text": [
      "                      (HR@5: 0.0253, HR@10: 0.0286, HR@20: 0.0348, HR@50: 0.0444)\n",
      "\n",
      "                      (F1-score@5: 0.0250, F1-score@10: 0.0197, F1-score@20: 0.0152, F1-score@50: 0.0092)\n",
      "\n",
      "                      (NDCG@5: 0.0309, NDCG@10: 0.0231, NDCG@20: 0.0142, NDCG@50: 0.0063)\n",
      "\n",
      "MRR: 0.13579057538487038\n",
      "MAP: 0.027068882874949945\n",
      "--------------------\n",
      "[[1, 0.03465425, 0.04536543, 0.060965173, 0.09765469, 0.03546227992572318, 0.032930403000051456, 0.029009450723162675, 0.024023476855959854, 0.03735033883468101, 0.0318496223045443, 0.0223121976381854, 0.012187458402337157, 0.1717572674970315, 0.038195357361045575, 0.737506628036499], [2, 0.034920342, 0.049537707, 0.06630957, 0.10376751, 0.036090099508033456, 0.03569413702971639, 0.031115291575316086, 0.024863518480978855, 0.03791606810322046, 0.03317129893816615, 0.023067262956760544, 0.012365936020238647, 0.17281249482928276, 0.03874251039192741, 0.7148474454879761], [3, 0.03885227, 0.049114645, 0.06668661, 0.10375823, 0.0395950206502221, 0.03564165216299002, 0.03125508788742816, 0.02472983703811252, 0.039751005920938644, 0.033499216083157105, 0.023218361380741112, 0.012373350616684533, 0.1737748618881017, 0.038488715112516746, 0.7070716619491577], [4, 0.038483042, 0.04900222, 0.0640814, 0.10516484, 0.039229523574198705, 0.035301578500518536, 0.03008911980334535, 0.0245585782795049, 0.039617270772184306, 0.0333939969270049, 0.022728360441856478, 0.01220824117457172, 0.1727280251381023, 0.03775703204435945, 0.703326940536499], [5, 0.03692979, 0.04693932, 0.06265045, 0.10107843, 0.03733291979352027, 0.033853338675597706, 0.029304826409967934, 0.023598067582014725, 0.0382539490763014, 0.03231336585687179, 0.022073252726157188, 0.011809149785912632, 0.16864992362950817, 0.03614342670436087, 0.701171875], [6, 0.03832389, 0.04826606, 0.060377385, 0.08977559, 0.03879739044253315, 0.03471991678206963, 0.02839345455253052, 0.020698862636109535, 0.039191465578006957, 0.03291920787668822, 0.021880947331778873, 0.011102645353351096, 0.1681212496695355, 0.035511252517397215, 0.6997437477111816], [7, 0.035294183, 0.046654638, 0.056574225, 0.07207098, 0.035861279776745025, 0.033482979362027376, 0.026390112826904184, 0.016536219891109434, 0.03786072413493088, 0.03214345604559421, 0.02093510353356544, 0.009803151410717265, 0.1636314666270846, 0.03396130550940773, 0.6987671852111816], [8, 0.035379622, 0.043760803, 0.049878336, 0.057385672, 0.03597876097975253, 0.03100636717251084, 0.022573388757909874, 0.012856941967818888, 0.03801771558478082, 0.030771443852279475, 0.019061670360274445, 0.0085417394249707, 0.15816996251477264, 0.03253562881831853, 0.6982789039611816], [9, 0.032719743, 0.035262145, 0.042486347, 0.051714934, 0.032984179507872954, 0.024670267770009767, 0.018582391177358715, 0.011173472350173663, 0.03658287044215415, 0.027470202510826346, 0.016902354046968476, 0.007676824102356778, 0.15057565400575124, 0.03125537800990395, 0.6981393694877625], [10, 0.025282232, 0.028555928, 0.03479781, 0.044350218, 0.02495019501603765, 0.019665450694784172, 0.01521044464494254, 0.009242460464551282, 0.030864491351509003, 0.02314207889839895, 0.01423300854000438, 0.006348447155564519, 0.13579057538487038, 0.027068882874949945, 0.6977906227111816]]\n",
      "-----------------------------------------------------------------------------------------\n"
     ]
    },
    {
     "name": "stderr",
     "output_type": "stream",
     "text": [
      "  0%|          | 1/1065 [00:00<05:27,  3.25it/s]"
     ]
    },
    {
     "name": "stdout",
     "output_type": "stream",
     "text": [
      "Epoch 11: 0% , Loss: 0.698242\n"
     ]
    },
    {
     "name": "stderr",
     "output_type": "stream",
     "text": [
      "  9%|▉         | 101/1065 [00:43<09:00,  1.78it/s]"
     ]
    },
    {
     "name": "stdout",
     "output_type": "stream",
     "text": [
      "Epoch 11: 9% , Loss: 0.698242\n"
     ]
    },
    {
     "name": "stderr",
     "output_type": "stream",
     "text": [
      " 19%|█▉        | 201/1065 [01:20<05:50,  2.46it/s]"
     ]
    },
    {
     "name": "stdout",
     "output_type": "stream",
     "text": [
      "Epoch 11: 19% , Loss: 0.697754\n"
     ]
    },
    {
     "name": "stderr",
     "output_type": "stream",
     "text": [
      " 28%|██▊       | 301/1065 [01:52<03:57,  3.21it/s]"
     ]
    },
    {
     "name": "stdout",
     "output_type": "stream",
     "text": [
      "Epoch 11: 28% , Loss: 0.698730\n"
     ]
    },
    {
     "name": "stderr",
     "output_type": "stream",
     "text": [
      " 38%|███▊      | 401/1065 [02:21<02:43,  4.06it/s]"
     ]
    },
    {
     "name": "stdout",
     "output_type": "stream",
     "text": [
      "Epoch 11: 38% , Loss: 0.698242\n"
     ]
    },
    {
     "name": "stderr",
     "output_type": "stream",
     "text": [
      " 47%|████▋     | 501/1065 [03:00<03:15,  2.89it/s]"
     ]
    },
    {
     "name": "stdout",
     "output_type": "stream",
     "text": [
      "Epoch 11: 47% , Loss: 0.697754\n"
     ]
    },
    {
     "name": "stderr",
     "output_type": "stream",
     "text": [
      " 56%|█████▋    | 601/1065 [03:40<03:42,  2.08it/s]"
     ]
    },
    {
     "name": "stdout",
     "output_type": "stream",
     "text": [
      "Epoch 11: 56% , Loss: 0.699219\n"
     ]
    },
    {
     "name": "stderr",
     "output_type": "stream",
     "text": [
      " 66%|██████▌   | 701/1065 [04:19<01:59,  3.05it/s]"
     ]
    },
    {
     "name": "stdout",
     "output_type": "stream",
     "text": [
      "Epoch 11: 66% , Loss: 0.697754\n"
     ]
    },
    {
     "name": "stderr",
     "output_type": "stream",
     "text": [
      " 75%|███████▌  | 801/1065 [05:04<01:57,  2.24it/s]"
     ]
    },
    {
     "name": "stdout",
     "output_type": "stream",
     "text": [
      "Epoch 11: 75% , Loss: 0.696777\n"
     ]
    },
    {
     "name": "stderr",
     "output_type": "stream",
     "text": [
      " 85%|████████▍ | 901/1065 [05:53<01:06,  2.46it/s]"
     ]
    },
    {
     "name": "stdout",
     "output_type": "stream",
     "text": [
      "Epoch 11: 85% , Loss: 0.698730\n"
     ]
    },
    {
     "name": "stderr",
     "output_type": "stream",
     "text": [
      " 94%|█████████▍| 1001/1065 [06:46<00:39,  1.62it/s]"
     ]
    },
    {
     "name": "stdout",
     "output_type": "stream",
     "text": [
      "Epoch 11: 94% , Loss: 0.699219\n"
     ]
    },
    {
     "name": "stderr",
     "output_type": "stream",
     "text": [
      "100%|██████████| 1065/1065 [07:19<00:00,  2.43it/s]"
     ]
    },
    {
     "name": "stdout",
     "output_type": "stream",
     "text": [
      "Epoch 11: 100% , Loss: 0.698730\n"
     ]
    },
    {
     "name": "stderr",
     "output_type": "stream",
     "text": [
      "\n"
     ]
    },
    {
     "name": "stdout",
     "output_type": "stream",
     "text": [
      "                      (HR@5: 0.0232, HR@10: 0.0268, HR@20: 0.0326, HR@50: 0.0413)\n",
      "\n",
      "                      (F1-score@5: 0.0237, F1-score@10: 0.0189, F1-score@20: 0.0146, F1-score@50: 0.0089)\n",
      "\n",
      "                      (NDCG@5: 0.0287, NDCG@10: 0.0230, NDCG@20: 0.0148, NDCG@50: 0.0066)\n",
      "\n",
      "MRR: 0.13892145545929988\n",
      "MAP: 0.025279242340113715\n",
      "train_loss= tensor(0.6981)\n",
      "--------------------\n"
     ]
    },
    {
     "name": "stderr",
     "output_type": "stream",
     "text": [
      "100%|██████████| 133/133 [00:43<00:00,  3.07it/s]\n"
     ]
    },
    {
     "name": "stdout",
     "output_type": "stream",
     "text": [
      "                      (HR@5: 0.0184, HR@10: 0.0205, HR@20: 0.0218, HR@50: 0.0307)\n",
      "\n",
      "                      (F1-score@5: 0.0193, F1-score@10: 0.0151, F1-score@20: 0.0103, F1-score@50: 0.0070)\n",
      "\n",
      "                      (NDCG@5: 0.0247, NDCG@10: 0.0206, NDCG@20: 0.0126, NDCG@50: 0.0058)\n",
      "\n",
      "MRR: 0.12651590000867943\n",
      "MAP: 0.02102688549434646\n",
      "val_loss= tensor(0.6978)\n",
      "--------------------\n"
     ]
    },
    {
     "name": "stderr",
     "output_type": "stream",
     "text": [
      "100%|██████████| 133/133 [00:42<00:00,  3.15it/s]\n"
     ]
    },
    {
     "name": "stdout",
     "output_type": "stream",
     "text": [
      "                      (HR@5: 0.0231, HR@10: 0.0254, HR@20: 0.0277, HR@50: 0.0359)\n",
      "\n",
      "                      (F1-score@5: 0.0227, F1-score@10: 0.0171, F1-score@20: 0.0116, F1-score@50: 0.0075)\n",
      "\n",
      "                      (NDCG@5: 0.0299, NDCG@10: 0.0218, NDCG@20: 0.0126, NDCG@50: 0.0058)\n",
      "\n",
      "MRR: 0.13309778063866226\n",
      "MAP: 0.02608141515691925\n",
      "--------------------\n",
      "[[1, 0.03465425, 0.04536543, 0.060965173, 0.09765469, 0.03546227992572318, 0.032930403000051456, 0.029009450723162675, 0.024023476855959854, 0.03735033883468101, 0.0318496223045443, 0.0223121976381854, 0.012187458402337157, 0.1717572674970315, 0.038195357361045575, 0.737506628036499], [2, 0.034920342, 0.049537707, 0.06630957, 0.10376751, 0.036090099508033456, 0.03569413702971639, 0.031115291575316086, 0.024863518480978855, 0.03791606810322046, 0.03317129893816615, 0.023067262956760544, 0.012365936020238647, 0.17281249482928276, 0.03874251039192741, 0.7148474454879761], [3, 0.03885227, 0.049114645, 0.06668661, 0.10375823, 0.0395950206502221, 0.03564165216299002, 0.03125508788742816, 0.02472983703811252, 0.039751005920938644, 0.033499216083157105, 0.023218361380741112, 0.012373350616684533, 0.1737748618881017, 0.038488715112516746, 0.7070716619491577], [4, 0.038483042, 0.04900222, 0.0640814, 0.10516484, 0.039229523574198705, 0.035301578500518536, 0.03008911980334535, 0.0245585782795049, 0.039617270772184306, 0.0333939969270049, 0.022728360441856478, 0.01220824117457172, 0.1727280251381023, 0.03775703204435945, 0.703326940536499], [5, 0.03692979, 0.04693932, 0.06265045, 0.10107843, 0.03733291979352027, 0.033853338675597706, 0.029304826409967934, 0.023598067582014725, 0.0382539490763014, 0.03231336585687179, 0.022073252726157188, 0.011809149785912632, 0.16864992362950817, 0.03614342670436087, 0.701171875], [6, 0.03832389, 0.04826606, 0.060377385, 0.08977559, 0.03879739044253315, 0.03471991678206963, 0.02839345455253052, 0.020698862636109535, 0.039191465578006957, 0.03291920787668822, 0.021880947331778873, 0.011102645353351096, 0.1681212496695355, 0.035511252517397215, 0.6997437477111816], [7, 0.035294183, 0.046654638, 0.056574225, 0.07207098, 0.035861279776745025, 0.033482979362027376, 0.026390112826904184, 0.016536219891109434, 0.03786072413493088, 0.03214345604559421, 0.02093510353356544, 0.009803151410717265, 0.1636314666270846, 0.03396130550940773, 0.6987671852111816], [8, 0.035379622, 0.043760803, 0.049878336, 0.057385672, 0.03597876097975253, 0.03100636717251084, 0.022573388757909874, 0.012856941967818888, 0.03801771558478082, 0.030771443852279475, 0.019061670360274445, 0.0085417394249707, 0.15816996251477264, 0.03253562881831853, 0.6982789039611816], [9, 0.032719743, 0.035262145, 0.042486347, 0.051714934, 0.032984179507872954, 0.024670267770009767, 0.018582391177358715, 0.011173472350173663, 0.03658287044215415, 0.027470202510826346, 0.016902354046968476, 0.007676824102356778, 0.15057565400575124, 0.03125537800990395, 0.6981393694877625], [10, 0.025282232, 0.028555928, 0.03479781, 0.044350218, 0.02495019501603765, 0.019665450694784172, 0.01521044464494254, 0.009242460464551282, 0.030864491351509003, 0.02314207889839895, 0.01423300854000438, 0.006348447155564519, 0.13579057538487038, 0.027068882874949945, 0.6977906227111816], [11, 0.023073662, 0.025416495, 0.027687829, 0.035904836, 0.022738868194952737, 0.017073660685435327, 0.011641721907997298, 0.007462914421941007, 0.029941274570931393, 0.02181954853957925, 0.012633770130070528, 0.005758055664784506, 0.13309778063866226, 0.02608141515691925, 0.6977906227111816]]\n",
      "-----------------------------------------------------------------------------------------\n"
     ]
    },
    {
     "name": "stderr",
     "output_type": "stream",
     "text": [
      "  0%|          | 1/1065 [00:00<04:41,  3.77it/s]"
     ]
    },
    {
     "name": "stdout",
     "output_type": "stream",
     "text": [
      "Epoch 12: 0% , Loss: 0.697754\n"
     ]
    },
    {
     "name": "stderr",
     "output_type": "stream",
     "text": [
      "  9%|▉         | 101/1065 [00:43<10:14,  1.57it/s]"
     ]
    },
    {
     "name": "stdout",
     "output_type": "stream",
     "text": [
      "Epoch 12: 9% , Loss: 0.698730\n"
     ]
    },
    {
     "name": "stderr",
     "output_type": "stream",
     "text": [
      " 19%|█▉        | 201/1065 [01:20<03:59,  3.61it/s]"
     ]
    },
    {
     "name": "stdout",
     "output_type": "stream",
     "text": [
      "Epoch 12: 19% , Loss: 0.699219\n"
     ]
    },
    {
     "name": "stderr",
     "output_type": "stream",
     "text": [
      " 28%|██▊       | 301/1065 [01:50<03:22,  3.78it/s]"
     ]
    },
    {
     "name": "stdout",
     "output_type": "stream",
     "text": [
      "Epoch 12: 28% , Loss: 0.698730\n"
     ]
    },
    {
     "name": "stderr",
     "output_type": "stream",
     "text": [
      " 38%|███▊      | 401/1065 [02:21<03:59,  2.77it/s]"
     ]
    },
    {
     "name": "stdout",
     "output_type": "stream",
     "text": [
      "Epoch 12: 38% , Loss: 0.697754\n"
     ]
    },
    {
     "name": "stderr",
     "output_type": "stream",
     "text": [
      " 47%|████▋     | 501/1065 [03:00<03:15,  2.88it/s]"
     ]
    },
    {
     "name": "stdout",
     "output_type": "stream",
     "text": [
      "Epoch 12: 47% , Loss: 0.697754\n"
     ]
    },
    {
     "name": "stderr",
     "output_type": "stream",
     "text": [
      " 56%|█████▋    | 601/1065 [03:39<03:29,  2.22it/s]"
     ]
    },
    {
     "name": "stdout",
     "output_type": "stream",
     "text": [
      "Epoch 12: 56% , Loss: 0.698730\n"
     ]
    },
    {
     "name": "stderr",
     "output_type": "stream",
     "text": [
      " 66%|██████▌   | 701/1065 [04:23<02:51,  2.13it/s]"
     ]
    },
    {
     "name": "stdout",
     "output_type": "stream",
     "text": [
      "Epoch 12: 66% , Loss: 0.698730\n"
     ]
    },
    {
     "name": "stderr",
     "output_type": "stream",
     "text": [
      " 75%|███████▌  | 801/1065 [05:09<02:00,  2.19it/s]"
     ]
    },
    {
     "name": "stdout",
     "output_type": "stream",
     "text": [
      "Epoch 12: 75% , Loss: 0.698730\n"
     ]
    },
    {
     "name": "stderr",
     "output_type": "stream",
     "text": [
      " 85%|████████▍ | 901/1065 [06:00<01:22,  1.98it/s]"
     ]
    },
    {
     "name": "stdout",
     "output_type": "stream",
     "text": [
      "Epoch 12: 85% , Loss: 0.697754\n"
     ]
    },
    {
     "name": "stderr",
     "output_type": "stream",
     "text": [
      " 94%|█████████▍| 1001/1065 [06:47<00:24,  2.60it/s]"
     ]
    },
    {
     "name": "stdout",
     "output_type": "stream",
     "text": [
      "Epoch 12: 94% , Loss: 0.696777\n"
     ]
    },
    {
     "name": "stderr",
     "output_type": "stream",
     "text": [
      "100%|██████████| 1065/1065 [07:15<00:00,  2.44it/s]"
     ]
    },
    {
     "name": "stdout",
     "output_type": "stream",
     "text": [
      "Epoch 12: 100% , Loss: 0.696777\n"
     ]
    },
    {
     "name": "stderr",
     "output_type": "stream",
     "text": [
      "\n"
     ]
    },
    {
     "name": "stdout",
     "output_type": "stream",
     "text": [
      "                      (HR@5: 0.0218, HR@10: 0.0233, HR@20: 0.0271, HR@50: 0.0366)\n",
      "\n",
      "                      (F1-score@5: 0.0223, F1-score@10: 0.0165, F1-score@20: 0.0120, F1-score@50: 0.0080)\n",
      "\n",
      "                      (NDCG@5: 0.0279, NDCG@10: 0.0217, NDCG@20: 0.0136, NDCG@50: 0.0062)\n",
      "\n",
      "MRR: 0.13537187192183084\n",
      "MAP: 0.024191926576313513\n",
      "train_loss= tensor(0.6980)\n",
      "--------------------\n"
     ]
    },
    {
     "name": "stderr",
     "output_type": "stream",
     "text": [
      "100%|██████████| 133/133 [00:45<00:00,  2.89it/s]\n"
     ]
    },
    {
     "name": "stdout",
     "output_type": "stream",
     "text": [
      "                      (HR@5: 0.0185, HR@10: 0.0185, HR@20: 0.0205, HR@50: 0.0287)\n",
      "\n",
      "                      (F1-score@5: 0.0194, F1-score@10: 0.0136, F1-score@20: 0.0097, F1-score@50: 0.0065)\n",
      "\n",
      "                      (NDCG@5: 0.0248, NDCG@10: 0.0199, NDCG@20: 0.0123, NDCG@50: 0.0056)\n",
      "\n",
      "MRR: 0.12487750530653666\n",
      "MAP: 0.020794570781048946\n",
      "val_loss= tensor(0.6978)\n",
      "--------------------\n"
     ]
    },
    {
     "name": "stderr",
     "output_type": "stream",
     "text": [
      "100%|██████████| 133/133 [00:43<00:00,  3.09it/s]\n"
     ]
    },
    {
     "name": "stdout",
     "output_type": "stream",
     "text": [
      "                      (HR@5: 0.0230, HR@10: 0.0230, HR@20: 0.0253, HR@50: 0.0334)\n",
      "\n",
      "                      (F1-score@5: 0.0226, F1-score@10: 0.0153, F1-score@20: 0.0105, F1-score@50: 0.0070)\n",
      "\n",
      "                      (NDCG@5: 0.0298, NDCG@10: 0.0209, NDCG@20: 0.0121, NDCG@50: 0.0055)\n",
      "\n",
      "MRR: 0.13078621128017012\n",
      "MAP: 0.025618333484917124\n",
      "--------------------\n",
      "[[1, 0.03465425, 0.04536543, 0.060965173, 0.09765469, 0.03546227992572318, 0.032930403000051456, 0.029009450723162675, 0.024023476855959854, 0.03735033883468101, 0.0318496223045443, 0.0223121976381854, 0.012187458402337157, 0.1717572674970315, 0.038195357361045575, 0.737506628036499], [2, 0.034920342, 0.049537707, 0.06630957, 0.10376751, 0.036090099508033456, 0.03569413702971639, 0.031115291575316086, 0.024863518480978855, 0.03791606810322046, 0.03317129893816615, 0.023067262956760544, 0.012365936020238647, 0.17281249482928276, 0.03874251039192741, 0.7148474454879761], [3, 0.03885227, 0.049114645, 0.06668661, 0.10375823, 0.0395950206502221, 0.03564165216299002, 0.03125508788742816, 0.02472983703811252, 0.039751005920938644, 0.033499216083157105, 0.023218361380741112, 0.012373350616684533, 0.1737748618881017, 0.038488715112516746, 0.7070716619491577], [4, 0.038483042, 0.04900222, 0.0640814, 0.10516484, 0.039229523574198705, 0.035301578500518536, 0.03008911980334535, 0.0245585782795049, 0.039617270772184306, 0.0333939969270049, 0.022728360441856478, 0.01220824117457172, 0.1727280251381023, 0.03775703204435945, 0.703326940536499], [5, 0.03692979, 0.04693932, 0.06265045, 0.10107843, 0.03733291979352027, 0.033853338675597706, 0.029304826409967934, 0.023598067582014725, 0.0382539490763014, 0.03231336585687179, 0.022073252726157188, 0.011809149785912632, 0.16864992362950817, 0.03614342670436087, 0.701171875], [6, 0.03832389, 0.04826606, 0.060377385, 0.08977559, 0.03879739044253315, 0.03471991678206963, 0.02839345455253052, 0.020698862636109535, 0.039191465578006957, 0.03291920787668822, 0.021880947331778873, 0.011102645353351096, 0.1681212496695355, 0.035511252517397215, 0.6997437477111816], [7, 0.035294183, 0.046654638, 0.056574225, 0.07207098, 0.035861279776745025, 0.033482979362027376, 0.026390112826904184, 0.016536219891109434, 0.03786072413493088, 0.03214345604559421, 0.02093510353356544, 0.009803151410717265, 0.1636314666270846, 0.03396130550940773, 0.6987671852111816], [8, 0.035379622, 0.043760803, 0.049878336, 0.057385672, 0.03597876097975253, 0.03100636717251084, 0.022573388757909874, 0.012856941967818888, 0.03801771558478082, 0.030771443852279475, 0.019061670360274445, 0.0085417394249707, 0.15816996251477264, 0.03253562881831853, 0.6982789039611816], [9, 0.032719743, 0.035262145, 0.042486347, 0.051714934, 0.032984179507872954, 0.024670267770009767, 0.018582391177358715, 0.011173472350173663, 0.03658287044215415, 0.027470202510826346, 0.016902354046968476, 0.007676824102356778, 0.15057565400575124, 0.03125537800990395, 0.6981393694877625], [10, 0.025282232, 0.028555928, 0.03479781, 0.044350218, 0.02495019501603765, 0.019665450694784172, 0.01521044464494254, 0.009242460464551282, 0.030864491351509003, 0.02314207889839895, 0.01423300854000438, 0.006348447155564519, 0.13579057538487038, 0.027068882874949945, 0.6977906227111816], [11, 0.023073662, 0.025416495, 0.027687829, 0.035904836, 0.022738868194952737, 0.017073660685435327, 0.011641721907997298, 0.007462914421941007, 0.029941274570931393, 0.02181954853957925, 0.012633770130070528, 0.005758055664784506, 0.13309778063866226, 0.02608141515691925, 0.6977906227111816], [12, 0.022979675, 0.022979675, 0.02532251, 0.03342353, 0.022613554911744722, 0.015336877045208875, 0.010477294139123796, 0.006959171987587562, 0.029803372446895765, 0.020908552792651535, 0.012087670074341665, 0.005497008966915729, 0.13078621128017012, 0.025618333484917124, 0.6977869272232056]]\n",
      "-----------------------------------------------------------------------------------------\n"
     ]
    },
    {
     "name": "stderr",
     "output_type": "stream",
     "text": [
      "  0%|          | 1/1065 [00:00<10:16,  1.73it/s]"
     ]
    },
    {
     "name": "stdout",
     "output_type": "stream",
     "text": [
      "Epoch 13: 0% , Loss: 0.699219\n"
     ]
    },
    {
     "name": "stderr",
     "output_type": "stream",
     "text": [
      "  9%|▉         | 101/1065 [00:47<04:29,  3.58it/s]"
     ]
    },
    {
     "name": "stdout",
     "output_type": "stream",
     "text": [
      "Epoch 13: 9% , Loss: 0.696777\n"
     ]
    },
    {
     "name": "stderr",
     "output_type": "stream",
     "text": [
      " 19%|█▉        | 201/1065 [01:21<05:01,  2.86it/s]"
     ]
    },
    {
     "name": "stdout",
     "output_type": "stream",
     "text": [
      "Epoch 13: 19% , Loss: 0.696777\n"
     ]
    },
    {
     "name": "stderr",
     "output_type": "stream",
     "text": [
      " 28%|██▊       | 301/1065 [01:50<03:24,  3.73it/s]"
     ]
    },
    {
     "name": "stdout",
     "output_type": "stream",
     "text": [
      "Epoch 13: 28% , Loss: 0.698242\n"
     ]
    },
    {
     "name": "stderr",
     "output_type": "stream",
     "text": [
      " 38%|███▊      | 401/1065 [02:21<04:00,  2.76it/s]"
     ]
    },
    {
     "name": "stdout",
     "output_type": "stream",
     "text": [
      "Epoch 13: 38% , Loss: 0.698730\n"
     ]
    },
    {
     "name": "stderr",
     "output_type": "stream",
     "text": [
      " 47%|████▋     | 501/1065 [03:04<05:56,  1.58it/s]"
     ]
    },
    {
     "name": "stdout",
     "output_type": "stream",
     "text": [
      "Epoch 13: 47% , Loss: 0.698730\n"
     ]
    },
    {
     "name": "stderr",
     "output_type": "stream",
     "text": [
      " 56%|█████▋    | 601/1065 [03:47<04:03,  1.90it/s]"
     ]
    },
    {
     "name": "stdout",
     "output_type": "stream",
     "text": [
      "Epoch 13: 56% , Loss: 0.696777\n"
     ]
    },
    {
     "name": "stderr",
     "output_type": "stream",
     "text": [
      " 66%|██████▌   | 701/1065 [04:31<03:25,  1.77it/s]"
     ]
    },
    {
     "name": "stdout",
     "output_type": "stream",
     "text": [
      "Epoch 13: 66% , Loss: 0.697754\n"
     ]
    },
    {
     "name": "stderr",
     "output_type": "stream",
     "text": [
      " 75%|███████▌  | 801/1065 [05:15<01:39,  2.64it/s]"
     ]
    },
    {
     "name": "stdout",
     "output_type": "stream",
     "text": [
      "Epoch 13: 75% , Loss: 0.696777\n"
     ]
    },
    {
     "name": "stderr",
     "output_type": "stream",
     "text": [
      " 85%|████████▍ | 901/1065 [05:58<01:17,  2.11it/s]"
     ]
    },
    {
     "name": "stdout",
     "output_type": "stream",
     "text": [
      "Epoch 13: 85% , Loss: 0.697754\n"
     ]
    },
    {
     "name": "stderr",
     "output_type": "stream",
     "text": [
      " 94%|█████████▍| 1001/1065 [06:39<00:24,  2.62it/s]"
     ]
    },
    {
     "name": "stdout",
     "output_type": "stream",
     "text": [
      "Epoch 13: 94% , Loss: 0.698730\n"
     ]
    },
    {
     "name": "stderr",
     "output_type": "stream",
     "text": [
      "100%|██████████| 1065/1065 [07:09<00:00,  2.48it/s]"
     ]
    },
    {
     "name": "stdout",
     "output_type": "stream",
     "text": [
      "Epoch 13: 100% , Loss: 0.696777\n"
     ]
    },
    {
     "name": "stderr",
     "output_type": "stream",
     "text": [
      "\n"
     ]
    },
    {
     "name": "stdout",
     "output_type": "stream",
     "text": [
      "                      (HR@5: 0.0218, HR@10: 0.0228, HR@20: 0.0255, HR@50: 0.0343)\n",
      "\n",
      "                      (F1-score@5: 0.0222, F1-score@10: 0.0161, F1-score@20: 0.0113, F1-score@50: 0.0074)\n",
      "\n",
      "                      (NDCG@5: 0.0278, NDCG@10: 0.0215, NDCG@20: 0.0133, NDCG@50: 0.0060)\n",
      "\n",
      "MRR: 0.13437480369257834\n",
      "MAP: 0.02397554672256442\n",
      "train_loss= tensor(0.6981)\n",
      "--------------------\n"
     ]
    },
    {
     "name": "stderr",
     "output_type": "stream",
     "text": [
      "100%|██████████| 133/133 [00:46<00:00,  2.88it/s]\n"
     ]
    },
    {
     "name": "stdout",
     "output_type": "stream",
     "text": [
      "                      (HR@5: 0.0185, HR@10: 0.0185, HR@20: 0.0189, HR@50: 0.0219)\n",
      "\n",
      "                      (F1-score@5: 0.0195, F1-score@10: 0.0136, F1-score@20: 0.0088, F1-score@50: 0.0050)\n",
      "\n",
      "                      (NDCG@5: 0.0248, NDCG@10: 0.0199, NDCG@20: 0.0120, NDCG@50: 0.0052)\n",
      "\n",
      "MRR: 0.1241658385988716\n",
      "MAP: 0.02067015426099018\n",
      "val_loss= tensor(0.6974)\n",
      "--------------------\n"
     ]
    },
    {
     "name": "stderr",
     "output_type": "stream",
     "text": [
      "100%|██████████| 133/133 [00:43<00:00,  3.05it/s]\n"
     ]
    },
    {
     "name": "stdout",
     "output_type": "stream",
     "text": [
      "                      (HR@5: 0.0231, HR@10: 0.0231, HR@20: 0.0234, HR@50: 0.0279)\n",
      "\n",
      "                      (F1-score@5: 0.0227, F1-score@10: 0.0154, F1-score@20: 0.0096, F1-score@50: 0.0055)\n",
      "\n",
      "                      (NDCG@5: 0.0299, NDCG@10: 0.0211, NDCG@20: 0.0119, NDCG@50: 0.0051)\n",
      "\n",
      "MRR: 0.13121599850476084\n",
      "MAP: 0.025550893626280866\n",
      "--------------------\n",
      "[[1, 0.03465425, 0.04536543, 0.060965173, 0.09765469, 0.03546227992572318, 0.032930403000051456, 0.029009450723162675, 0.024023476855959854, 0.03735033883468101, 0.0318496223045443, 0.0223121976381854, 0.012187458402337157, 0.1717572674970315, 0.038195357361045575, 0.737506628036499], [2, 0.034920342, 0.049537707, 0.06630957, 0.10376751, 0.036090099508033456, 0.03569413702971639, 0.031115291575316086, 0.024863518480978855, 0.03791606810322046, 0.03317129893816615, 0.023067262956760544, 0.012365936020238647, 0.17281249482928276, 0.03874251039192741, 0.7148474454879761], [3, 0.03885227, 0.049114645, 0.06668661, 0.10375823, 0.0395950206502221, 0.03564165216299002, 0.03125508788742816, 0.02472983703811252, 0.039751005920938644, 0.033499216083157105, 0.023218361380741112, 0.012373350616684533, 0.1737748618881017, 0.038488715112516746, 0.7070716619491577], [4, 0.038483042, 0.04900222, 0.0640814, 0.10516484, 0.039229523574198705, 0.035301578500518536, 0.03008911980334535, 0.0245585782795049, 0.039617270772184306, 0.0333939969270049, 0.022728360441856478, 0.01220824117457172, 0.1727280251381023, 0.03775703204435945, 0.703326940536499], [5, 0.03692979, 0.04693932, 0.06265045, 0.10107843, 0.03733291979352027, 0.033853338675597706, 0.029304826409967934, 0.023598067582014725, 0.0382539490763014, 0.03231336585687179, 0.022073252726157188, 0.011809149785912632, 0.16864992362950817, 0.03614342670436087, 0.701171875], [6, 0.03832389, 0.04826606, 0.060377385, 0.08977559, 0.03879739044253315, 0.03471991678206963, 0.02839345455253052, 0.020698862636109535, 0.039191465578006957, 0.03291920787668822, 0.021880947331778873, 0.011102645353351096, 0.1681212496695355, 0.035511252517397215, 0.6997437477111816], [7, 0.035294183, 0.046654638, 0.056574225, 0.07207098, 0.035861279776745025, 0.033482979362027376, 0.026390112826904184, 0.016536219891109434, 0.03786072413493088, 0.03214345604559421, 0.02093510353356544, 0.009803151410717265, 0.1636314666270846, 0.03396130550940773, 0.6987671852111816], [8, 0.035379622, 0.043760803, 0.049878336, 0.057385672, 0.03597876097975253, 0.03100636717251084, 0.022573388757909874, 0.012856941967818888, 0.03801771558478082, 0.030771443852279475, 0.019061670360274445, 0.0085417394249707, 0.15816996251477264, 0.03253562881831853, 0.6982789039611816], [9, 0.032719743, 0.035262145, 0.042486347, 0.051714934, 0.032984179507872954, 0.024670267770009767, 0.018582391177358715, 0.011173472350173663, 0.03658287044215415, 0.027470202510826346, 0.016902354046968476, 0.007676824102356778, 0.15057565400575124, 0.03125537800990395, 0.6981393694877625], [10, 0.025282232, 0.028555928, 0.03479781, 0.044350218, 0.02495019501603765, 0.019665450694784172, 0.01521044464494254, 0.009242460464551282, 0.030864491351509003, 0.02314207889839895, 0.01423300854000438, 0.006348447155564519, 0.13579057538487038, 0.027068882874949945, 0.6977906227111816], [11, 0.023073662, 0.025416495, 0.027687829, 0.035904836, 0.022738868194952737, 0.017073660685435327, 0.011641721907997298, 0.007462914421941007, 0.029941274570931393, 0.02181954853957925, 0.012633770130070528, 0.005758055664784506, 0.13309778063866226, 0.02608141515691925, 0.6977906227111816], [12, 0.022979675, 0.022979675, 0.02532251, 0.03342353, 0.022613554911744722, 0.015336877045208875, 0.010477294139123796, 0.006959171987587562, 0.029803372446895765, 0.020908552792651535, 0.012087670074341665, 0.005497008966915729, 0.13078621128017012, 0.025618333484917124, 0.6977869272232056], [13, 0.02307366, 0.02307366, 0.023360837, 0.027874121, 0.022738868194952744, 0.015430862007614888, 0.009628792744664178, 0.005508039360021215, 0.029941274570931393, 0.021115405964700126, 0.011873440288315365, 0.005141973286723592, 0.13121599850476084, 0.025550893626280866, 0.6974087953567505]]\n",
      "-----------------------------------------------------------------------------------------\n"
     ]
    },
    {
     "name": "stderr",
     "output_type": "stream",
     "text": [
      "  0%|          | 1/1065 [00:00<09:40,  1.83it/s]"
     ]
    },
    {
     "name": "stdout",
     "output_type": "stream",
     "text": [
      "Epoch 14: 0% , Loss: 0.698730\n"
     ]
    },
    {
     "name": "stderr",
     "output_type": "stream",
     "text": [
      "  9%|▉         | 101/1065 [00:43<07:21,  2.18it/s]"
     ]
    },
    {
     "name": "stdout",
     "output_type": "stream",
     "text": [
      "Epoch 14: 9% , Loss: 0.698730\n"
     ]
    },
    {
     "name": "stderr",
     "output_type": "stream",
     "text": [
      " 19%|█▉        | 201/1065 [01:22<04:00,  3.59it/s]"
     ]
    },
    {
     "name": "stdout",
     "output_type": "stream",
     "text": [
      "Epoch 14: 19% , Loss: 0.696777\n"
     ]
    },
    {
     "name": "stderr",
     "output_type": "stream",
     "text": [
      " 28%|██▊       | 301/1065 [01:53<04:01,  3.16it/s]"
     ]
    },
    {
     "name": "stdout",
     "output_type": "stream",
     "text": [
      "Epoch 14: 28% , Loss: 0.696777\n"
     ]
    },
    {
     "name": "stderr",
     "output_type": "stream",
     "text": [
      " 38%|███▊      | 401/1065 [02:23<04:28,  2.48it/s]"
     ]
    },
    {
     "name": "stdout",
     "output_type": "stream",
     "text": [
      "Epoch 14: 38% , Loss: 0.697754\n"
     ]
    },
    {
     "name": "stderr",
     "output_type": "stream",
     "text": [
      " 47%|████▋     | 501/1065 [03:06<04:19,  2.17it/s]"
     ]
    },
    {
     "name": "stdout",
     "output_type": "stream",
     "text": [
      "Epoch 14: 47% , Loss: 0.698730\n"
     ]
    },
    {
     "name": "stderr",
     "output_type": "stream",
     "text": [
      " 56%|█████▋    | 601/1065 [03:48<03:24,  2.27it/s]"
     ]
    },
    {
     "name": "stdout",
     "output_type": "stream",
     "text": [
      "Epoch 14: 56% , Loss: 0.698242\n"
     ]
    },
    {
     "name": "stderr",
     "output_type": "stream",
     "text": [
      " 66%|██████▌   | 701/1065 [04:23<02:59,  2.02it/s]"
     ]
    },
    {
     "name": "stdout",
     "output_type": "stream",
     "text": [
      "Epoch 14: 66% , Loss: 0.697754\n"
     ]
    },
    {
     "name": "stderr",
     "output_type": "stream",
     "text": [
      " 75%|███████▌  | 801/1065 [05:07<01:43,  2.56it/s]"
     ]
    },
    {
     "name": "stdout",
     "output_type": "stream",
     "text": [
      "Epoch 14: 75% , Loss: 0.698242\n"
     ]
    },
    {
     "name": "stderr",
     "output_type": "stream",
     "text": [
      " 85%|████████▍ | 901/1065 [05:50<01:05,  2.51it/s]"
     ]
    },
    {
     "name": "stdout",
     "output_type": "stream",
     "text": [
      "Epoch 14: 85% , Loss: 0.698730\n"
     ]
    },
    {
     "name": "stderr",
     "output_type": "stream",
     "text": [
      " 94%|█████████▍| 1001/1065 [06:38<00:29,  2.16it/s]"
     ]
    },
    {
     "name": "stdout",
     "output_type": "stream",
     "text": [
      "Epoch 14: 94% , Loss: 0.697266\n"
     ]
    },
    {
     "name": "stderr",
     "output_type": "stream",
     "text": [
      "100%|██████████| 1065/1065 [07:08<00:00,  2.48it/s]"
     ]
    },
    {
     "name": "stdout",
     "output_type": "stream",
     "text": [
      "Epoch 14: 100% , Loss: 0.698730\n"
     ]
    },
    {
     "name": "stderr",
     "output_type": "stream",
     "text": [
      "\n"
     ]
    },
    {
     "name": "stdout",
     "output_type": "stream",
     "text": [
      "                      (HR@5: 0.0215, HR@10: 0.0221, HR@20: 0.0238, HR@50: 0.0295)\n",
      "\n",
      "                      (F1-score@5: 0.0219, F1-score@10: 0.0156, F1-score@20: 0.0105, F1-score@50: 0.0063)\n",
      "\n",
      "                      (NDCG@5: 0.0277, NDCG@10: 0.0212, NDCG@20: 0.0130, NDCG@50: 0.0057)\n",
      "\n",
      "MRR: 0.13314379897068673\n",
      "MAP: 0.023656853418239584\n",
      "train_loss= tensor(0.6978)\n",
      "--------------------\n"
     ]
    },
    {
     "name": "stderr",
     "output_type": "stream",
     "text": [
      "100%|██████████| 133/133 [00:46<00:00,  2.86it/s]\n"
     ]
    },
    {
     "name": "stdout",
     "output_type": "stream",
     "text": [
      "                      (HR@5: 0.0185, HR@10: 0.0185, HR@20: 0.0185, HR@50: 0.0210)\n",
      "\n",
      "                      (F1-score@5: 0.0195, F1-score@10: 0.0136, F1-score@20: 0.0086, F1-score@50: 0.0048)\n",
      "\n",
      "                      (NDCG@5: 0.0248, NDCG@10: 0.0199, NDCG@20: 0.0119, NDCG@50: 0.0051)\n",
      "\n",
      "MRR: 0.12359907150139329\n",
      "MAP: 0.020604985839757835\n",
      "val_loss= tensor(0.6973)\n",
      "--------------------\n"
     ]
    },
    {
     "name": "stderr",
     "output_type": "stream",
     "text": [
      "100%|██████████| 133/133 [00:43<00:00,  3.03it/s]\n"
     ]
    },
    {
     "name": "stdout",
     "output_type": "stream",
     "text": [
      "                      (HR@5: 0.0229, HR@10: 0.0229, HR@20: 0.0229, HR@50: 0.0260)\n",
      "\n",
      "                      (F1-score@5: 0.0226, F1-score@10: 0.0153, F1-score@20: 0.0094, F1-score@50: 0.0051)\n",
      "\n",
      "                      (NDCG@5: 0.0297, NDCG@10: 0.0209, NDCG@20: 0.0117, NDCG@50: 0.0050)\n",
      "\n",
      "MRR: 0.12976520118865675\n",
      "MAP: 0.02528418072660605\n",
      "--------------------\n",
      "[[1, 0.03465425, 0.04536543, 0.060965173, 0.09765469, 0.03546227992572318, 0.032930403000051456, 0.029009450723162675, 0.024023476855959854, 0.03735033883468101, 0.0318496223045443, 0.0223121976381854, 0.012187458402337157, 0.1717572674970315, 0.038195357361045575, 0.737506628036499], [2, 0.034920342, 0.049537707, 0.06630957, 0.10376751, 0.036090099508033456, 0.03569413702971639, 0.031115291575316086, 0.024863518480978855, 0.03791606810322046, 0.03317129893816615, 0.023067262956760544, 0.012365936020238647, 0.17281249482928276, 0.03874251039192741, 0.7148474454879761], [3, 0.03885227, 0.049114645, 0.06668661, 0.10375823, 0.0395950206502221, 0.03564165216299002, 0.03125508788742816, 0.02472983703811252, 0.039751005920938644, 0.033499216083157105, 0.023218361380741112, 0.012373350616684533, 0.1737748618881017, 0.038488715112516746, 0.7070716619491577], [4, 0.038483042, 0.04900222, 0.0640814, 0.10516484, 0.039229523574198705, 0.035301578500518536, 0.03008911980334535, 0.0245585782795049, 0.039617270772184306, 0.0333939969270049, 0.022728360441856478, 0.01220824117457172, 0.1727280251381023, 0.03775703204435945, 0.703326940536499], [5, 0.03692979, 0.04693932, 0.06265045, 0.10107843, 0.03733291979352027, 0.033853338675597706, 0.029304826409967934, 0.023598067582014725, 0.0382539490763014, 0.03231336585687179, 0.022073252726157188, 0.011809149785912632, 0.16864992362950817, 0.03614342670436087, 0.701171875], [6, 0.03832389, 0.04826606, 0.060377385, 0.08977559, 0.03879739044253315, 0.03471991678206963, 0.02839345455253052, 0.020698862636109535, 0.039191465578006957, 0.03291920787668822, 0.021880947331778873, 0.011102645353351096, 0.1681212496695355, 0.035511252517397215, 0.6997437477111816], [7, 0.035294183, 0.046654638, 0.056574225, 0.07207098, 0.035861279776745025, 0.033482979362027376, 0.026390112826904184, 0.016536219891109434, 0.03786072413493088, 0.03214345604559421, 0.02093510353356544, 0.009803151410717265, 0.1636314666270846, 0.03396130550940773, 0.6987671852111816], [8, 0.035379622, 0.043760803, 0.049878336, 0.057385672, 0.03597876097975253, 0.03100636717251084, 0.022573388757909874, 0.012856941967818888, 0.03801771558478082, 0.030771443852279475, 0.019061670360274445, 0.0085417394249707, 0.15816996251477264, 0.03253562881831853, 0.6982789039611816], [9, 0.032719743, 0.035262145, 0.042486347, 0.051714934, 0.032984179507872954, 0.024670267770009767, 0.018582391177358715, 0.011173472350173663, 0.03658287044215415, 0.027470202510826346, 0.016902354046968476, 0.007676824102356778, 0.15057565400575124, 0.03125537800990395, 0.6981393694877625], [10, 0.025282232, 0.028555928, 0.03479781, 0.044350218, 0.02495019501603765, 0.019665450694784172, 0.01521044464494254, 0.009242460464551282, 0.030864491351509003, 0.02314207889839895, 0.01423300854000438, 0.006348447155564519, 0.13579057538487038, 0.027068882874949945, 0.6977906227111816], [11, 0.023073662, 0.025416495, 0.027687829, 0.035904836, 0.022738868194952737, 0.017073660685435327, 0.011641721907997298, 0.007462914421941007, 0.029941274570931393, 0.02181954853957925, 0.012633770130070528, 0.005758055664784506, 0.13309778063866226, 0.02608141515691925, 0.6977906227111816], [12, 0.022979675, 0.022979675, 0.02532251, 0.03342353, 0.022613554911744722, 0.015336877045208875, 0.010477294139123796, 0.006959171987587562, 0.029803372446895765, 0.020908552792651535, 0.012087670074341665, 0.005497008966915729, 0.13078621128017012, 0.025618333484917124, 0.6977869272232056], [13, 0.02307366, 0.02307366, 0.023360837, 0.027874121, 0.022738868194952744, 0.015430862007614888, 0.009628792744664178, 0.005508039360021215, 0.029941274570931393, 0.021115405964700126, 0.011873440288315365, 0.005141973286723592, 0.13121599850476084, 0.025550893626280866, 0.6974087953567505], [14, 0.02291702, 0.02291702, 0.02291702, 0.026014004, 0.02256798644512362, 0.01531338080460737, 0.00942871004804409, 0.005061149028485204, 0.029697502469573926, 0.02094476548534699, 0.011740784318347398, 0.004995634675172991, 0.12976520118865675, 0.02528418072660605, 0.6973023414611816]]\n",
      "-----------------------------------------------------------------------------------------\n"
     ]
    },
    {
     "name": "stderr",
     "output_type": "stream",
     "text": [
      "  0%|          | 1/1065 [00:00<11:49,  1.50it/s]"
     ]
    },
    {
     "name": "stdout",
     "output_type": "stream",
     "text": [
      "Epoch 15: 0% , Loss: 0.697266\n"
     ]
    },
    {
     "name": "stderr",
     "output_type": "stream",
     "text": [
      "  9%|▉         | 101/1065 [00:45<07:45,  2.07it/s]"
     ]
    },
    {
     "name": "stdout",
     "output_type": "stream",
     "text": [
      "Epoch 15: 9% , Loss: 0.697266\n"
     ]
    },
    {
     "name": "stderr",
     "output_type": "stream",
     "text": [
      " 19%|█▉        | 201/1065 [01:25<03:54,  3.69it/s]"
     ]
    },
    {
     "name": "stdout",
     "output_type": "stream",
     "text": [
      "Epoch 15: 19% , Loss: 0.697266\n"
     ]
    },
    {
     "name": "stderr",
     "output_type": "stream",
     "text": [
      " 28%|██▊       | 301/1065 [01:54<05:28,  2.33it/s]"
     ]
    },
    {
     "name": "stdout",
     "output_type": "stream",
     "text": [
      "Epoch 15: 28% , Loss: 0.697754\n"
     ]
    },
    {
     "name": "stderr",
     "output_type": "stream",
     "text": [
      " 38%|███▊      | 401/1065 [02:25<03:27,  3.20it/s]"
     ]
    },
    {
     "name": "stdout",
     "output_type": "stream",
     "text": [
      "Epoch 15: 38% , Loss: 0.696289\n"
     ]
    },
    {
     "name": "stderr",
     "output_type": "stream",
     "text": [
      " 47%|████▋     | 501/1065 [03:04<05:05,  1.84it/s]"
     ]
    },
    {
     "name": "stdout",
     "output_type": "stream",
     "text": [
      "Epoch 15: 47% , Loss: 0.696289\n"
     ]
    },
    {
     "name": "stderr",
     "output_type": "stream",
     "text": [
      " 56%|█████▋    | 601/1065 [03:37<02:21,  3.28it/s]"
     ]
    },
    {
     "name": "stdout",
     "output_type": "stream",
     "text": [
      "Epoch 15: 56% , Loss: 0.698730\n"
     ]
    },
    {
     "name": "stderr",
     "output_type": "stream",
     "text": [
      " 66%|██████▌   | 701/1065 [04:12<02:45,  2.21it/s]"
     ]
    },
    {
     "name": "stdout",
     "output_type": "stream",
     "text": [
      "Epoch 15: 66% , Loss: 0.694336\n"
     ]
    },
    {
     "name": "stderr",
     "output_type": "stream",
     "text": [
      " 75%|███████▌  | 801/1065 [04:58<02:06,  2.08it/s]"
     ]
    },
    {
     "name": "stdout",
     "output_type": "stream",
     "text": [
      "Epoch 15: 75% , Loss: 0.697266\n"
     ]
    },
    {
     "name": "stderr",
     "output_type": "stream",
     "text": [
      " 85%|████████▍ | 901/1065 [05:44<00:59,  2.75it/s]"
     ]
    },
    {
     "name": "stdout",
     "output_type": "stream",
     "text": [
      "Epoch 15: 85% , Loss: 0.697266\n"
     ]
    },
    {
     "name": "stderr",
     "output_type": "stream",
     "text": [
      " 94%|█████████▍| 1001/1065 [06:31<00:32,  1.97it/s]"
     ]
    },
    {
     "name": "stdout",
     "output_type": "stream",
     "text": [
      "Epoch 15: 94% , Loss: 0.697266\n"
     ]
    },
    {
     "name": "stderr",
     "output_type": "stream",
     "text": [
      "100%|██████████| 1065/1065 [07:02<00:00,  2.52it/s]"
     ]
    },
    {
     "name": "stdout",
     "output_type": "stream",
     "text": [
      "Epoch 15: 100% , Loss: 0.696289\n"
     ]
    },
    {
     "name": "stderr",
     "output_type": "stream",
     "text": [
      "\n"
     ]
    },
    {
     "name": "stdout",
     "output_type": "stream",
     "text": [
      "                      (HR@5: 0.0216, HR@10: 0.0224, HR@20: 0.0239, HR@50: 0.0285)\n",
      "\n",
      "                      (F1-score@5: 0.0220, F1-score@10: 0.0158, F1-score@20: 0.0106, F1-score@50: 0.0061)\n",
      "\n",
      "                      (NDCG@5: 0.0278, NDCG@10: 0.0214, NDCG@20: 0.0131, NDCG@50: 0.0057)\n",
      "\n",
      "MRR: 0.13333717246642843\n",
      "MAP: 0.023763878975887526\n",
      "train_loss= tensor(0.6977)\n",
      "--------------------\n"
     ]
    },
    {
     "name": "stderr",
     "output_type": "stream",
     "text": [
      "100%|██████████| 133/133 [00:48<00:00,  2.75it/s]\n"
     ]
    },
    {
     "name": "stdout",
     "output_type": "stream",
     "text": [
      "                      (HR@5: 0.0185, HR@10: 0.0185, HR@20: 0.0185, HR@50: 0.0210)\n",
      "\n",
      "                      (F1-score@5: 0.0195, F1-score@10: 0.0136, F1-score@20: 0.0086, F1-score@50: 0.0048)\n",
      "\n",
      "                      (NDCG@5: 0.0248, NDCG@10: 0.0199, NDCG@20: 0.0119, NDCG@50: 0.0051)\n",
      "\n",
      "MRR: 0.12337142119914687\n",
      "MAP: 0.0205601017714522\n",
      "val_loss= tensor(0.6973)\n",
      "--------------------\n"
     ]
    },
    {
     "name": "stderr",
     "output_type": "stream",
     "text": [
      "100%|██████████| 133/133 [00:44<00:00,  2.99it/s]\n"
     ]
    },
    {
     "name": "stdout",
     "output_type": "stream",
     "text": [
      "                      (HR@5: 0.0230, HR@10: 0.0230, HR@20: 0.0230, HR@50: 0.0261)\n",
      "\n",
      "                      (F1-score@5: 0.0226, F1-score@10: 0.0153, F1-score@20: 0.0094, F1-score@50: 0.0051)\n",
      "\n",
      "                      (NDCG@5: 0.0298, NDCG@10: 0.0209, NDCG@20: 0.0117, NDCG@50: 0.0050)\n",
      "\n",
      "MRR: 0.12960157264931532\n",
      "MAP: 0.025276829280197834\n",
      "--------------------\n",
      "[[1, 0.03465425, 0.04536543, 0.060965173, 0.09765469, 0.03546227992572318, 0.032930403000051456, 0.029009450723162675, 0.024023476855959854, 0.03735033883468101, 0.0318496223045443, 0.0223121976381854, 0.012187458402337157, 0.1717572674970315, 0.038195357361045575, 0.737506628036499], [2, 0.034920342, 0.049537707, 0.06630957, 0.10376751, 0.036090099508033456, 0.03569413702971639, 0.031115291575316086, 0.024863518480978855, 0.03791606810322046, 0.03317129893816615, 0.023067262956760544, 0.012365936020238647, 0.17281249482928276, 0.03874251039192741, 0.7148474454879761], [3, 0.03885227, 0.049114645, 0.06668661, 0.10375823, 0.0395950206502221, 0.03564165216299002, 0.03125508788742816, 0.02472983703811252, 0.039751005920938644, 0.033499216083157105, 0.023218361380741112, 0.012373350616684533, 0.1737748618881017, 0.038488715112516746, 0.7070716619491577], [4, 0.038483042, 0.04900222, 0.0640814, 0.10516484, 0.039229523574198705, 0.035301578500518536, 0.03008911980334535, 0.0245585782795049, 0.039617270772184306, 0.0333939969270049, 0.022728360441856478, 0.01220824117457172, 0.1727280251381023, 0.03775703204435945, 0.703326940536499], [5, 0.03692979, 0.04693932, 0.06265045, 0.10107843, 0.03733291979352027, 0.033853338675597706, 0.029304826409967934, 0.023598067582014725, 0.0382539490763014, 0.03231336585687179, 0.022073252726157188, 0.011809149785912632, 0.16864992362950817, 0.03614342670436087, 0.701171875], [6, 0.03832389, 0.04826606, 0.060377385, 0.08977559, 0.03879739044253315, 0.03471991678206963, 0.02839345455253052, 0.020698862636109535, 0.039191465578006957, 0.03291920787668822, 0.021880947331778873, 0.011102645353351096, 0.1681212496695355, 0.035511252517397215, 0.6997437477111816], [7, 0.035294183, 0.046654638, 0.056574225, 0.07207098, 0.035861279776745025, 0.033482979362027376, 0.026390112826904184, 0.016536219891109434, 0.03786072413493088, 0.03214345604559421, 0.02093510353356544, 0.009803151410717265, 0.1636314666270846, 0.03396130550940773, 0.6987671852111816], [8, 0.035379622, 0.043760803, 0.049878336, 0.057385672, 0.03597876097975253, 0.03100636717251084, 0.022573388757909874, 0.012856941967818888, 0.03801771558478082, 0.030771443852279475, 0.019061670360274445, 0.0085417394249707, 0.15816996251477264, 0.03253562881831853, 0.6982789039611816], [9, 0.032719743, 0.035262145, 0.042486347, 0.051714934, 0.032984179507872954, 0.024670267770009767, 0.018582391177358715, 0.011173472350173663, 0.03658287044215415, 0.027470202510826346, 0.016902354046968476, 0.007676824102356778, 0.15057565400575124, 0.03125537800990395, 0.6981393694877625], [10, 0.025282232, 0.028555928, 0.03479781, 0.044350218, 0.02495019501603765, 0.019665450694784172, 0.01521044464494254, 0.009242460464551282, 0.030864491351509003, 0.02314207889839895, 0.01423300854000438, 0.006348447155564519, 0.13579057538487038, 0.027068882874949945, 0.6977906227111816], [11, 0.023073662, 0.025416495, 0.027687829, 0.035904836, 0.022738868194952737, 0.017073660685435327, 0.011641721907997298, 0.007462914421941007, 0.029941274570931393, 0.02181954853957925, 0.012633770130070528, 0.005758055664784506, 0.13309778063866226, 0.02608141515691925, 0.6977906227111816], [12, 0.022979675, 0.022979675, 0.02532251, 0.03342353, 0.022613554911744722, 0.015336877045208875, 0.010477294139123796, 0.006959171987587562, 0.029803372446895765, 0.020908552792651535, 0.012087670074341665, 0.005497008966915729, 0.13078621128017012, 0.025618333484917124, 0.6977869272232056], [13, 0.02307366, 0.02307366, 0.023360837, 0.027874121, 0.022738868194952744, 0.015430862007614888, 0.009628792744664178, 0.005508039360021215, 0.029941274570931393, 0.021115405964700126, 0.011873440288315365, 0.005141973286723592, 0.13121599850476084, 0.025550893626280866, 0.6974087953567505], [14, 0.02291702, 0.02291702, 0.02291702, 0.026014004, 0.02256798644512362, 0.01531338080460737, 0.00942871004804409, 0.005061149028485204, 0.029697502469573926, 0.02094476548534699, 0.011740784318347398, 0.004995634675172991, 0.12976520118865675, 0.02528418072660605, 0.6973023414611816], [15, 0.022969233, 0.022969233, 0.022969233, 0.026066218, 0.022604603962944145, 0.015331930468240136, 0.00943618895751937, 0.005062855777197177, 0.029788338631755652, 0.020916589252174572, 0.01172669620176119, 0.00498464548062267, 0.12960157264931532, 0.025276829280197834, 0.6973023414611816]]\n",
      "-----------------------------------------------------------------------------------------\n"
     ]
    },
    {
     "name": "stderr",
     "output_type": "stream",
     "text": [
      "  0%|          | 1/1065 [00:01<22:44,  1.28s/it]"
     ]
    },
    {
     "name": "stdout",
     "output_type": "stream",
     "text": [
      "Epoch 16: 0% , Loss: 0.696777\n"
     ]
    },
    {
     "name": "stderr",
     "output_type": "stream",
     "text": [
      "  9%|▉         | 101/1065 [00:45<07:59,  2.01it/s]"
     ]
    },
    {
     "name": "stdout",
     "output_type": "stream",
     "text": [
      "Epoch 16: 9% , Loss: 0.696289\n"
     ]
    },
    {
     "name": "stderr",
     "output_type": "stream",
     "text": [
      " 19%|█▉        | 202/1065 [01:26<05:14,  2.75it/s]"
     ]
    },
    {
     "name": "stdout",
     "output_type": "stream",
     "text": [
      "Epoch 16: 19% , Loss: 0.697266\n"
     ]
    },
    {
     "name": "stderr",
     "output_type": "stream",
     "text": [
      " 28%|██▊       | 301/1065 [01:50<03:04,  4.13it/s]"
     ]
    },
    {
     "name": "stdout",
     "output_type": "stream",
     "text": [
      "Epoch 16: 28% , Loss: 0.698242\n"
     ]
    },
    {
     "name": "stderr",
     "output_type": "stream",
     "text": [
      " 38%|███▊      | 401/1065 [02:16<02:37,  4.22it/s]"
     ]
    },
    {
     "name": "stdout",
     "output_type": "stream",
     "text": [
      "Epoch 16: 38% , Loss: 0.699219\n"
     ]
    },
    {
     "name": "stderr",
     "output_type": "stream",
     "text": [
      " 47%|████▋     | 501/1065 [02:50<03:55,  2.40it/s]"
     ]
    },
    {
     "name": "stdout",
     "output_type": "stream",
     "text": [
      "Epoch 16: 47% , Loss: 0.698242\n"
     ]
    },
    {
     "name": "stderr",
     "output_type": "stream",
     "text": [
      " 56%|█████▋    | 601/1065 [03:26<02:52,  2.68it/s]"
     ]
    },
    {
     "name": "stdout",
     "output_type": "stream",
     "text": [
      "Epoch 16: 56% , Loss: 0.698242\n"
     ]
    },
    {
     "name": "stderr",
     "output_type": "stream",
     "text": [
      " 66%|██████▌   | 701/1065 [04:07<01:54,  3.19it/s]"
     ]
    },
    {
     "name": "stdout",
     "output_type": "stream",
     "text": [
      "Epoch 16: 66% , Loss: 0.698242\n"
     ]
    },
    {
     "name": "stderr",
     "output_type": "stream",
     "text": [
      " 75%|███████▌  | 801/1065 [04:51<01:51,  2.36it/s]"
     ]
    },
    {
     "name": "stdout",
     "output_type": "stream",
     "text": [
      "Epoch 16: 75% , Loss: 0.698242\n"
     ]
    },
    {
     "name": "stderr",
     "output_type": "stream",
     "text": [
      " 85%|████████▍ | 901/1065 [05:37<01:02,  2.60it/s]"
     ]
    },
    {
     "name": "stdout",
     "output_type": "stream",
     "text": [
      "Epoch 16: 85% , Loss: 0.698242\n"
     ]
    },
    {
     "name": "stderr",
     "output_type": "stream",
     "text": [
      " 94%|█████████▍| 1001/1065 [06:27<00:25,  2.52it/s]"
     ]
    },
    {
     "name": "stdout",
     "output_type": "stream",
     "text": [
      "Epoch 16: 94% , Loss: 0.697266\n"
     ]
    },
    {
     "name": "stderr",
     "output_type": "stream",
     "text": [
      "100%|██████████| 1065/1065 [06:57<00:00,  2.55it/s]"
     ]
    },
    {
     "name": "stdout",
     "output_type": "stream",
     "text": [
      "Epoch 16: 100% , Loss: 0.697754\n"
     ]
    },
    {
     "name": "stderr",
     "output_type": "stream",
     "text": [
      "\n"
     ]
    },
    {
     "name": "stdout",
     "output_type": "stream",
     "text": [
      "                      (HR@5: 0.0215, HR@10: 0.0220, HR@20: 0.0232, HR@50: 0.0265)\n",
      "\n",
      "                      (F1-score@5: 0.0219, F1-score@10: 0.0155, F1-score@20: 0.0102, F1-score@50: 0.0056)\n",
      "\n",
      "                      (NDCG@5: 0.0277, NDCG@10: 0.0212, NDCG@20: 0.0128, NDCG@50: 0.0055)\n",
      "\n",
      "MRR: 0.13264506843512386\n",
      "MAP: 0.023462476207997487\n",
      "train_loss= tensor(0.6976)\n",
      "--------------------\n"
     ]
    },
    {
     "name": "stderr",
     "output_type": "stream",
     "text": [
      "100%|██████████| 133/133 [00:48<00:00,  2.75it/s]\n"
     ]
    },
    {
     "name": "stdout",
     "output_type": "stream",
     "text": [
      "                      (HR@5: 0.0185, HR@10: 0.0185, HR@20: 0.0185, HR@50: 0.0192)\n",
      "\n",
      "                      (F1-score@5: 0.0195, F1-score@10: 0.0136, F1-score@20: 0.0086, F1-score@50: 0.0043)\n",
      "\n",
      "                      (NDCG@5: 0.0248, NDCG@10: 0.0199, NDCG@20: 0.0119, NDCG@50: 0.0050)\n",
      "\n",
      "MRR: 0.12321427584213679\n",
      "MAP: 0.020630044224107153\n",
      "val_loss= tensor(0.6973)\n",
      "--------------------\n"
     ]
    },
    {
     "name": "stderr",
     "output_type": "stream",
     "text": [
      "100%|██████████| 133/133 [00:45<00:00,  2.90it/s]\n"
     ]
    },
    {
     "name": "stdout",
     "output_type": "stream",
     "text": [
      "                      (HR@5: 0.0231, HR@10: 0.0231, HR@20: 0.0231, HR@50: 0.0241)\n",
      "\n",
      "                      (F1-score@5: 0.0227, F1-score@10: 0.0154, F1-score@20: 0.0095, F1-score@50: 0.0046)\n",
      "\n",
      "                      (NDCG@5: 0.0299, NDCG@10: 0.0211, NDCG@20: 0.0118, NDCG@50: 0.0049)\n",
      "\n",
      "MRR: 0.13037833732301973\n",
      "MAP: 0.025407797013777905\n",
      "--------------------\n",
      "[[1, 0.03465425, 0.04536543, 0.060965173, 0.09765469, 0.03546227992572318, 0.032930403000051456, 0.029009450723162675, 0.024023476855959854, 0.03735033883468101, 0.0318496223045443, 0.0223121976381854, 0.012187458402337157, 0.1717572674970315, 0.038195357361045575, 0.737506628036499], [2, 0.034920342, 0.049537707, 0.06630957, 0.10376751, 0.036090099508033456, 0.03569413702971639, 0.031115291575316086, 0.024863518480978855, 0.03791606810322046, 0.03317129893816615, 0.023067262956760544, 0.012365936020238647, 0.17281249482928276, 0.03874251039192741, 0.7148474454879761], [3, 0.03885227, 0.049114645, 0.06668661, 0.10375823, 0.0395950206502221, 0.03564165216299002, 0.03125508788742816, 0.02472983703811252, 0.039751005920938644, 0.033499216083157105, 0.023218361380741112, 0.012373350616684533, 0.1737748618881017, 0.038488715112516746, 0.7070716619491577], [4, 0.038483042, 0.04900222, 0.0640814, 0.10516484, 0.039229523574198705, 0.035301578500518536, 0.03008911980334535, 0.0245585782795049, 0.039617270772184306, 0.0333939969270049, 0.022728360441856478, 0.01220824117457172, 0.1727280251381023, 0.03775703204435945, 0.703326940536499], [5, 0.03692979, 0.04693932, 0.06265045, 0.10107843, 0.03733291979352027, 0.033853338675597706, 0.029304826409967934, 0.023598067582014725, 0.0382539490763014, 0.03231336585687179, 0.022073252726157188, 0.011809149785912632, 0.16864992362950817, 0.03614342670436087, 0.701171875], [6, 0.03832389, 0.04826606, 0.060377385, 0.08977559, 0.03879739044253315, 0.03471991678206963, 0.02839345455253052, 0.020698862636109535, 0.039191465578006957, 0.03291920787668822, 0.021880947331778873, 0.011102645353351096, 0.1681212496695355, 0.035511252517397215, 0.6997437477111816], [7, 0.035294183, 0.046654638, 0.056574225, 0.07207098, 0.035861279776745025, 0.033482979362027376, 0.026390112826904184, 0.016536219891109434, 0.03786072413493088, 0.03214345604559421, 0.02093510353356544, 0.009803151410717265, 0.1636314666270846, 0.03396130550940773, 0.6987671852111816], [8, 0.035379622, 0.043760803, 0.049878336, 0.057385672, 0.03597876097975253, 0.03100636717251084, 0.022573388757909874, 0.012856941967818888, 0.03801771558478082, 0.030771443852279475, 0.019061670360274445, 0.0085417394249707, 0.15816996251477264, 0.03253562881831853, 0.6982789039611816], [9, 0.032719743, 0.035262145, 0.042486347, 0.051714934, 0.032984179507872954, 0.024670267770009767, 0.018582391177358715, 0.011173472350173663, 0.03658287044215415, 0.027470202510826346, 0.016902354046968476, 0.007676824102356778, 0.15057565400575124, 0.03125537800990395, 0.6981393694877625], [10, 0.025282232, 0.028555928, 0.03479781, 0.044350218, 0.02495019501603765, 0.019665450694784172, 0.01521044464494254, 0.009242460464551282, 0.030864491351509003, 0.02314207889839895, 0.01423300854000438, 0.006348447155564519, 0.13579057538487038, 0.027068882874949945, 0.6977906227111816], [11, 0.023073662, 0.025416495, 0.027687829, 0.035904836, 0.022738868194952737, 0.017073660685435327, 0.011641721907997298, 0.007462914421941007, 0.029941274570931393, 0.02181954853957925, 0.012633770130070528, 0.005758055664784506, 0.13309778063866226, 0.02608141515691925, 0.6977906227111816], [12, 0.022979675, 0.022979675, 0.02532251, 0.03342353, 0.022613554911744722, 0.015336877045208875, 0.010477294139123796, 0.006959171987587562, 0.029803372446895765, 0.020908552792651535, 0.012087670074341665, 0.005497008966915729, 0.13078621128017012, 0.025618333484917124, 0.6977869272232056], [13, 0.02307366, 0.02307366, 0.023360837, 0.027874121, 0.022738868194952744, 0.015430862007614888, 0.009628792744664178, 0.005508039360021215, 0.029941274570931393, 0.021115405964700126, 0.011873440288315365, 0.005141973286723592, 0.13121599850476084, 0.025550893626280866, 0.6974087953567505], [14, 0.02291702, 0.02291702, 0.02291702, 0.026014004, 0.02256798644512362, 0.01531338080460737, 0.00942871004804409, 0.005061149028485204, 0.029697502469573926, 0.02094476548534699, 0.011740784318347398, 0.004995634675172991, 0.12976520118865675, 0.02528418072660605, 0.6973023414611816], [15, 0.022969233, 0.022969233, 0.022969233, 0.026066218, 0.022604603962944145, 0.015331930468240136, 0.00943618895751937, 0.005062855777197177, 0.029788338631755652, 0.020916589252174572, 0.01172669620176119, 0.00498464548062267, 0.12960157264931532, 0.025276829280197834, 0.6973023414611816], [16, 0.02307366, 0.02307366, 0.02307366, 0.024062771, 0.02273886819495273, 0.015430862007614888, 0.009501006172971789, 0.004625514569573308, 0.029941274570931393, 0.021115405964700126, 0.011826104558023968, 0.004915097494665673, 0.13037833732301973, 0.025407797013777905, 0.6973023414611816]]\n",
      "-----------------------------------------------------------------------------------------\n"
     ]
    },
    {
     "name": "stderr",
     "output_type": "stream",
     "text": [
      "  0%|          | 1/1065 [00:00<05:48,  3.05it/s]"
     ]
    },
    {
     "name": "stdout",
     "output_type": "stream",
     "text": [
      "Epoch 17: 0% , Loss: 0.698242\n"
     ]
    },
    {
     "name": "stderr",
     "output_type": "stream",
     "text": [
      "  9%|▉         | 101/1065 [00:39<06:28,  2.48it/s]"
     ]
    },
    {
     "name": "stdout",
     "output_type": "stream",
     "text": [
      "Epoch 17: 9% , Loss: 0.696289\n"
     ]
    },
    {
     "name": "stderr",
     "output_type": "stream",
     "text": [
      " 19%|█▉        | 201/1065 [01:13<04:43,  3.04it/s]"
     ]
    },
    {
     "name": "stdout",
     "output_type": "stream",
     "text": [
      "Epoch 17: 19% , Loss: 0.698242\n"
     ]
    },
    {
     "name": "stderr",
     "output_type": "stream",
     "text": [
      " 28%|██▊       | 301/1065 [01:42<03:11,  3.98it/s]"
     ]
    },
    {
     "name": "stdout",
     "output_type": "stream",
     "text": [
      "Epoch 17: 28% , Loss: 0.697266\n"
     ]
    },
    {
     "name": "stderr",
     "output_type": "stream",
     "text": [
      " 38%|███▊      | 401/1065 [02:10<02:55,  3.79it/s]"
     ]
    },
    {
     "name": "stdout",
     "output_type": "stream",
     "text": [
      "Epoch 17: 38% , Loss: 0.697266\n"
     ]
    },
    {
     "name": "stderr",
     "output_type": "stream",
     "text": [
      " 47%|████▋     | 501/1065 [02:46<03:02,  3.09it/s]"
     ]
    },
    {
     "name": "stdout",
     "output_type": "stream",
     "text": [
      "Epoch 17: 47% , Loss: 0.696289\n"
     ]
    },
    {
     "name": "stderr",
     "output_type": "stream",
     "text": [
      " 56%|█████▋    | 601/1065 [03:24<03:04,  2.52it/s]"
     ]
    },
    {
     "name": "stdout",
     "output_type": "stream",
     "text": [
      "Epoch 17: 56% , Loss: 0.697266\n"
     ]
    },
    {
     "name": "stderr",
     "output_type": "stream",
     "text": [
      " 66%|██████▌   | 701/1065 [04:04<01:54,  3.19it/s]"
     ]
    },
    {
     "name": "stdout",
     "output_type": "stream",
     "text": [
      "Epoch 17: 66% , Loss: 0.697266\n"
     ]
    },
    {
     "name": "stderr",
     "output_type": "stream",
     "text": [
      " 75%|███████▌  | 801/1065 [04:49<01:58,  2.23it/s]"
     ]
    },
    {
     "name": "stdout",
     "output_type": "stream",
     "text": [
      "Epoch 17: 75% , Loss: 0.697266\n"
     ]
    },
    {
     "name": "stderr",
     "output_type": "stream",
     "text": [
      " 85%|████████▍ | 901/1065 [05:37<01:08,  2.40it/s]"
     ]
    },
    {
     "name": "stdout",
     "output_type": "stream",
     "text": [
      "Epoch 17: 85% , Loss: 0.698242\n"
     ]
    },
    {
     "name": "stderr",
     "output_type": "stream",
     "text": [
      " 94%|█████████▍| 1001/1065 [06:25<00:27,  2.31it/s]"
     ]
    },
    {
     "name": "stdout",
     "output_type": "stream",
     "text": [
      "Epoch 17: 94% , Loss: 0.698242\n"
     ]
    },
    {
     "name": "stderr",
     "output_type": "stream",
     "text": [
      "100%|██████████| 1065/1065 [06:57<00:00,  2.55it/s]"
     ]
    },
    {
     "name": "stdout",
     "output_type": "stream",
     "text": [
      "Epoch 17: 100% , Loss: 0.696289\n"
     ]
    },
    {
     "name": "stderr",
     "output_type": "stream",
     "text": [
      "\n"
     ]
    },
    {
     "name": "stdout",
     "output_type": "stream",
     "text": [
      "                      (HR@5: 0.0212, HR@10: 0.0217, HR@20: 0.0225, HR@50: 0.0247)\n",
      "\n",
      "                      (F1-score@5: 0.0216, F1-score@10: 0.0153, F1-score@20: 0.0100, F1-score@50: 0.0052)\n",
      "\n",
      "                      (NDCG@5: 0.0275, NDCG@10: 0.0211, NDCG@20: 0.0127, NDCG@50: 0.0054)\n",
      "\n",
      "MRR: 0.13182304939491996\n",
      "MAP: 0.023254103313633687\n",
      "train_loss= tensor(0.6974)\n",
      "--------------------\n"
     ]
    },
    {
     "name": "stderr",
     "output_type": "stream",
     "text": [
      "100%|██████████| 133/133 [00:47<00:00,  2.79it/s]\n"
     ]
    },
    {
     "name": "stdout",
     "output_type": "stream",
     "text": [
      "                      (HR@5: 0.0185, HR@10: 0.0185, HR@20: 0.0185, HR@50: 0.0189)\n",
      "\n",
      "                      (F1-score@5: 0.0195, F1-score@10: 0.0136, F1-score@20: 0.0086, F1-score@50: 0.0042)\n",
      "\n",
      "                      (NDCG@5: 0.0249, NDCG@10: 0.0200, NDCG@20: 0.0119, NDCG@50: 0.0050)\n",
      "\n",
      "MRR: 0.12298522601053874\n",
      "MAP: 0.020579958963833026\n",
      "val_loss= tensor(0.6973)\n",
      "--------------------\n"
     ]
    },
    {
     "name": "stderr",
     "output_type": "stream",
     "text": [
      "100%|██████████| 133/133 [00:39<00:00,  3.37it/s]\n"
     ]
    },
    {
     "name": "stdout",
     "output_type": "stream",
     "text": [
      "                      (HR@5: 0.0231, HR@10: 0.0231, HR@20: 0.0231, HR@50: 0.0238)\n",
      "\n",
      "                      (F1-score@5: 0.0227, F1-score@10: 0.0154, F1-score@20: 0.0095, F1-score@50: 0.0046)\n",
      "\n",
      "                      (NDCG@5: 0.0299, NDCG@10: 0.0211, NDCG@20: 0.0118, NDCG@50: 0.0049)\n",
      "\n",
      "MRR: 0.1301842532581054\n",
      "MAP: 0.02532394919012996\n",
      "--------------------\n",
      "[[1, 0.03465425, 0.04536543, 0.060965173, 0.09765469, 0.03546227992572318, 0.032930403000051456, 0.029009450723162675, 0.024023476855959854, 0.03735033883468101, 0.0318496223045443, 0.0223121976381854, 0.012187458402337157, 0.1717572674970315, 0.038195357361045575, 0.737506628036499], [2, 0.034920342, 0.049537707, 0.06630957, 0.10376751, 0.036090099508033456, 0.03569413702971639, 0.031115291575316086, 0.024863518480978855, 0.03791606810322046, 0.03317129893816615, 0.023067262956760544, 0.012365936020238647, 0.17281249482928276, 0.03874251039192741, 0.7148474454879761], [3, 0.03885227, 0.049114645, 0.06668661, 0.10375823, 0.0395950206502221, 0.03564165216299002, 0.03125508788742816, 0.02472983703811252, 0.039751005920938644, 0.033499216083157105, 0.023218361380741112, 0.012373350616684533, 0.1737748618881017, 0.038488715112516746, 0.7070716619491577], [4, 0.038483042, 0.04900222, 0.0640814, 0.10516484, 0.039229523574198705, 0.035301578500518536, 0.03008911980334535, 0.0245585782795049, 0.039617270772184306, 0.0333939969270049, 0.022728360441856478, 0.01220824117457172, 0.1727280251381023, 0.03775703204435945, 0.703326940536499], [5, 0.03692979, 0.04693932, 0.06265045, 0.10107843, 0.03733291979352027, 0.033853338675597706, 0.029304826409967934, 0.023598067582014725, 0.0382539490763014, 0.03231336585687179, 0.022073252726157188, 0.011809149785912632, 0.16864992362950817, 0.03614342670436087, 0.701171875], [6, 0.03832389, 0.04826606, 0.060377385, 0.08977559, 0.03879739044253315, 0.03471991678206963, 0.02839345455253052, 0.020698862636109535, 0.039191465578006957, 0.03291920787668822, 0.021880947331778873, 0.011102645353351096, 0.1681212496695355, 0.035511252517397215, 0.6997437477111816], [7, 0.035294183, 0.046654638, 0.056574225, 0.07207098, 0.035861279776745025, 0.033482979362027376, 0.026390112826904184, 0.016536219891109434, 0.03786072413493088, 0.03214345604559421, 0.02093510353356544, 0.009803151410717265, 0.1636314666270846, 0.03396130550940773, 0.6987671852111816], [8, 0.035379622, 0.043760803, 0.049878336, 0.057385672, 0.03597876097975253, 0.03100636717251084, 0.022573388757909874, 0.012856941967818888, 0.03801771558478082, 0.030771443852279475, 0.019061670360274445, 0.0085417394249707, 0.15816996251477264, 0.03253562881831853, 0.6982789039611816], [9, 0.032719743, 0.035262145, 0.042486347, 0.051714934, 0.032984179507872954, 0.024670267770009767, 0.018582391177358715, 0.011173472350173663, 0.03658287044215415, 0.027470202510826346, 0.016902354046968476, 0.007676824102356778, 0.15057565400575124, 0.03125537800990395, 0.6981393694877625], [10, 0.025282232, 0.028555928, 0.03479781, 0.044350218, 0.02495019501603765, 0.019665450694784172, 0.01521044464494254, 0.009242460464551282, 0.030864491351509003, 0.02314207889839895, 0.01423300854000438, 0.006348447155564519, 0.13579057538487038, 0.027068882874949945, 0.6977906227111816], [11, 0.023073662, 0.025416495, 0.027687829, 0.035904836, 0.022738868194952737, 0.017073660685435327, 0.011641721907997298, 0.007462914421941007, 0.029941274570931393, 0.02181954853957925, 0.012633770130070528, 0.005758055664784506, 0.13309778063866226, 0.02608141515691925, 0.6977906227111816], [12, 0.022979675, 0.022979675, 0.02532251, 0.03342353, 0.022613554911744722, 0.015336877045208875, 0.010477294139123796, 0.006959171987587562, 0.029803372446895765, 0.020908552792651535, 0.012087670074341665, 0.005497008966915729, 0.13078621128017012, 0.025618333484917124, 0.6977869272232056], [13, 0.02307366, 0.02307366, 0.023360837, 0.027874121, 0.022738868194952744, 0.015430862007614888, 0.009628792744664178, 0.005508039360021215, 0.029941274570931393, 0.021115405964700126, 0.011873440288315365, 0.005141973286723592, 0.13121599850476084, 0.025550893626280866, 0.6974087953567505], [14, 0.02291702, 0.02291702, 0.02291702, 0.026014004, 0.02256798644512362, 0.01531338080460737, 0.00942871004804409, 0.005061149028485204, 0.029697502469573926, 0.02094476548534699, 0.011740784318347398, 0.004995634675172991, 0.12976520118865675, 0.02528418072660605, 0.6973023414611816], [15, 0.022969233, 0.022969233, 0.022969233, 0.026066218, 0.022604603962944145, 0.015331930468240136, 0.00943618895751937, 0.005062855777197177, 0.029788338631755652, 0.020916589252174572, 0.01172669620176119, 0.00498464548062267, 0.12960157264931532, 0.025276829280197834, 0.6973023414611816], [16, 0.02307366, 0.02307366, 0.02307366, 0.024062771, 0.02273886819495273, 0.015430862007614888, 0.009501006172971789, 0.004625514569573308, 0.029941274570931393, 0.021115405964700126, 0.011826104558023968, 0.004915097494665673, 0.13037833732301973, 0.025407797013777905, 0.6973023414611816], [17, 0.02307366, 0.02307366, 0.02307366, 0.02382781, 0.022738868194952737, 0.015430862007614888, 0.00950100617297179, 0.004590705324237746, 0.029941274570931393, 0.021115405964700126, 0.011826104558023968, 0.004909977400010186, 0.1301842532581054, 0.02532394919012996, 0.6973023414611816]]\n",
      "-----------------------------------------------------------------------------------------\n"
     ]
    },
    {
     "name": "stderr",
     "output_type": "stream",
     "text": [
      "  0%|          | 1/1065 [00:00<17:18,  1.02it/s]"
     ]
    },
    {
     "name": "stdout",
     "output_type": "stream",
     "text": [
      "Epoch 18: 0% , Loss: 0.698730\n"
     ]
    },
    {
     "name": "stderr",
     "output_type": "stream",
     "text": [
      "  9%|▉         | 101/1065 [00:40<05:04,  3.17it/s]"
     ]
    },
    {
     "name": "stdout",
     "output_type": "stream",
     "text": [
      "Epoch 18: 9% , Loss: 0.697266\n"
     ]
    },
    {
     "name": "stderr",
     "output_type": "stream",
     "text": [
      " 19%|█▉        | 201/1065 [01:17<04:54,  2.93it/s]"
     ]
    },
    {
     "name": "stdout",
     "output_type": "stream",
     "text": [
      "Epoch 18: 19% , Loss: 0.697266\n"
     ]
    },
    {
     "name": "stderr",
     "output_type": "stream",
     "text": [
      " 28%|██▊       | 301/1065 [01:46<02:59,  4.27it/s]"
     ]
    },
    {
     "name": "stdout",
     "output_type": "stream",
     "text": [
      "Epoch 18: 28% , Loss: 0.697266\n"
     ]
    },
    {
     "name": "stderr",
     "output_type": "stream",
     "text": [
      " 38%|███▊      | 401/1065 [02:16<03:46,  2.93it/s]"
     ]
    },
    {
     "name": "stdout",
     "output_type": "stream",
     "text": [
      "Epoch 18: 38% , Loss: 0.697266\n"
     ]
    },
    {
     "name": "stderr",
     "output_type": "stream",
     "text": [
      " 47%|████▋     | 501/1065 [02:54<03:09,  2.97it/s]"
     ]
    },
    {
     "name": "stdout",
     "output_type": "stream",
     "text": [
      "Epoch 18: 47% , Loss: 0.697266\n"
     ]
    },
    {
     "name": "stderr",
     "output_type": "stream",
     "text": [
      " 56%|█████▋    | 601/1065 [03:32<03:57,  1.95it/s]"
     ]
    },
    {
     "name": "stdout",
     "output_type": "stream",
     "text": [
      "Epoch 18: 56% , Loss: 0.698242\n"
     ]
    },
    {
     "name": "stderr",
     "output_type": "stream",
     "text": [
      " 66%|██████▌   | 701/1065 [04:12<02:25,  2.51it/s]"
     ]
    },
    {
     "name": "stdout",
     "output_type": "stream",
     "text": [
      "Epoch 18: 66% , Loss: 0.698242\n"
     ]
    },
    {
     "name": "stderr",
     "output_type": "stream",
     "text": [
      " 75%|███████▌  | 801/1065 [05:00<02:17,  1.93it/s]"
     ]
    },
    {
     "name": "stdout",
     "output_type": "stream",
     "text": [
      "Epoch 18: 75% , Loss: 0.697266\n"
     ]
    },
    {
     "name": "stderr",
     "output_type": "stream",
     "text": [
      " 85%|████████▍ | 901/1065 [05:46<01:13,  2.23it/s]"
     ]
    },
    {
     "name": "stdout",
     "output_type": "stream",
     "text": [
      "Epoch 18: 85% , Loss: 0.695801\n"
     ]
    },
    {
     "name": "stderr",
     "output_type": "stream",
     "text": [
      " 94%|█████████▍| 1001/1065 [06:35<00:38,  1.64it/s]"
     ]
    },
    {
     "name": "stdout",
     "output_type": "stream",
     "text": [
      "Epoch 18: 94% , Loss: 0.697266\n"
     ]
    },
    {
     "name": "stderr",
     "output_type": "stream",
     "text": [
      "100%|██████████| 1065/1065 [07:10<00:00,  2.47it/s]"
     ]
    },
    {
     "name": "stdout",
     "output_type": "stream",
     "text": [
      "Epoch 18: 100% , Loss: 0.697266\n"
     ]
    },
    {
     "name": "stderr",
     "output_type": "stream",
     "text": [
      "\n"
     ]
    },
    {
     "name": "stdout",
     "output_type": "stream",
     "text": [
      "                      (HR@5: 0.0214, HR@10: 0.0219, HR@20: 0.0227, HR@50: 0.0251)\n",
      "\n",
      "                      (F1-score@5: 0.0218, F1-score@10: 0.0155, F1-score@20: 0.0101, F1-score@50: 0.0054)\n",
      "\n",
      "                      (NDCG@5: 0.0276, NDCG@10: 0.0212, NDCG@20: 0.0128, NDCG@50: 0.0055)\n",
      "\n",
      "MRR: 0.13215879619858706\n",
      "MAP: 0.02331294742436349\n",
      "train_loss= tensor(0.6976)\n",
      "--------------------\n"
     ]
    },
    {
     "name": "stderr",
     "output_type": "stream",
     "text": [
      "100%|██████████| 133/133 [00:41<00:00,  3.22it/s]\n"
     ]
    },
    {
     "name": "stdout",
     "output_type": "stream",
     "text": [
      "                      (HR@5: 0.0185, HR@10: 0.0185, HR@20: 0.0185, HR@50: 0.0189)\n",
      "\n",
      "                      (F1-score@5: 0.0195, F1-score@10: 0.0136, F1-score@20: 0.0086, F1-score@50: 0.0042)\n",
      "\n",
      "                      (NDCG@5: 0.0249, NDCG@10: 0.0200, NDCG@20: 0.0119, NDCG@50: 0.0050)\n",
      "\n",
      "MRR: 0.12302249370408719\n",
      "MAP: 0.020634244551392792\n",
      "val_loss= tensor(0.6973)\n",
      "--------------------\n"
     ]
    },
    {
     "name": "stderr",
     "output_type": "stream",
     "text": [
      "100%|██████████| 133/133 [00:41<00:00,  3.21it/s]\n"
     ]
    },
    {
     "name": "stdout",
     "output_type": "stream",
     "text": [
      "                      (HR@5: 0.0229, HR@10: 0.0229, HR@20: 0.0229, HR@50: 0.0236)\n",
      "\n",
      "                      (F1-score@5: 0.0226, F1-score@10: 0.0153, F1-score@20: 0.0094, F1-score@50: 0.0046)\n",
      "\n",
      "                      (NDCG@5: 0.0296, NDCG@10: 0.0210, NDCG@20: 0.0117, NDCG@50: 0.0049)\n",
      "\n",
      "MRR: 0.12923175634495648\n",
      "MAP: 0.025185241164592788\n",
      "--------------------\n",
      "[[1, 0.03465425, 0.04536543, 0.060965173, 0.09765469, 0.03546227992572318, 0.032930403000051456, 0.029009450723162675, 0.024023476855959854, 0.03735033883468101, 0.0318496223045443, 0.0223121976381854, 0.012187458402337157, 0.1717572674970315, 0.038195357361045575, 0.737506628036499], [2, 0.034920342, 0.049537707, 0.06630957, 0.10376751, 0.036090099508033456, 0.03569413702971639, 0.031115291575316086, 0.024863518480978855, 0.03791606810322046, 0.03317129893816615, 0.023067262956760544, 0.012365936020238647, 0.17281249482928276, 0.03874251039192741, 0.7148474454879761], [3, 0.03885227, 0.049114645, 0.06668661, 0.10375823, 0.0395950206502221, 0.03564165216299002, 0.03125508788742816, 0.02472983703811252, 0.039751005920938644, 0.033499216083157105, 0.023218361380741112, 0.012373350616684533, 0.1737748618881017, 0.038488715112516746, 0.7070716619491577], [4, 0.038483042, 0.04900222, 0.0640814, 0.10516484, 0.039229523574198705, 0.035301578500518536, 0.03008911980334535, 0.0245585782795049, 0.039617270772184306, 0.0333939969270049, 0.022728360441856478, 0.01220824117457172, 0.1727280251381023, 0.03775703204435945, 0.703326940536499], [5, 0.03692979, 0.04693932, 0.06265045, 0.10107843, 0.03733291979352027, 0.033853338675597706, 0.029304826409967934, 0.023598067582014725, 0.0382539490763014, 0.03231336585687179, 0.022073252726157188, 0.011809149785912632, 0.16864992362950817, 0.03614342670436087, 0.701171875], [6, 0.03832389, 0.04826606, 0.060377385, 0.08977559, 0.03879739044253315, 0.03471991678206963, 0.02839345455253052, 0.020698862636109535, 0.039191465578006957, 0.03291920787668822, 0.021880947331778873, 0.011102645353351096, 0.1681212496695355, 0.035511252517397215, 0.6997437477111816], [7, 0.035294183, 0.046654638, 0.056574225, 0.07207098, 0.035861279776745025, 0.033482979362027376, 0.026390112826904184, 0.016536219891109434, 0.03786072413493088, 0.03214345604559421, 0.02093510353356544, 0.009803151410717265, 0.1636314666270846, 0.03396130550940773, 0.6987671852111816], [8, 0.035379622, 0.043760803, 0.049878336, 0.057385672, 0.03597876097975253, 0.03100636717251084, 0.022573388757909874, 0.012856941967818888, 0.03801771558478082, 0.030771443852279475, 0.019061670360274445, 0.0085417394249707, 0.15816996251477264, 0.03253562881831853, 0.6982789039611816], [9, 0.032719743, 0.035262145, 0.042486347, 0.051714934, 0.032984179507872954, 0.024670267770009767, 0.018582391177358715, 0.011173472350173663, 0.03658287044215415, 0.027470202510826346, 0.016902354046968476, 0.007676824102356778, 0.15057565400575124, 0.03125537800990395, 0.6981393694877625], [10, 0.025282232, 0.028555928, 0.03479781, 0.044350218, 0.02495019501603765, 0.019665450694784172, 0.01521044464494254, 0.009242460464551282, 0.030864491351509003, 0.02314207889839895, 0.01423300854000438, 0.006348447155564519, 0.13579057538487038, 0.027068882874949945, 0.6977906227111816], [11, 0.023073662, 0.025416495, 0.027687829, 0.035904836, 0.022738868194952737, 0.017073660685435327, 0.011641721907997298, 0.007462914421941007, 0.029941274570931393, 0.02181954853957925, 0.012633770130070528, 0.005758055664784506, 0.13309778063866226, 0.02608141515691925, 0.6977906227111816], [12, 0.022979675, 0.022979675, 0.02532251, 0.03342353, 0.022613554911744722, 0.015336877045208875, 0.010477294139123796, 0.006959171987587562, 0.029803372446895765, 0.020908552792651535, 0.012087670074341665, 0.005497008966915729, 0.13078621128017012, 0.025618333484917124, 0.6977869272232056], [13, 0.02307366, 0.02307366, 0.023360837, 0.027874121, 0.022738868194952744, 0.015430862007614888, 0.009628792744664178, 0.005508039360021215, 0.029941274570931393, 0.021115405964700126, 0.011873440288315365, 0.005141973286723592, 0.13121599850476084, 0.025550893626280866, 0.6974087953567505], [14, 0.02291702, 0.02291702, 0.02291702, 0.026014004, 0.02256798644512362, 0.01531338080460737, 0.00942871004804409, 0.005061149028485204, 0.029697502469573926, 0.02094476548534699, 0.011740784318347398, 0.004995634675172991, 0.12976520118865675, 0.02528418072660605, 0.6973023414611816], [15, 0.022969233, 0.022969233, 0.022969233, 0.026066218, 0.022604603962944145, 0.015331930468240136, 0.00943618895751937, 0.005062855777197177, 0.029788338631755652, 0.020916589252174572, 0.01172669620176119, 0.00498464548062267, 0.12960157264931532, 0.025276829280197834, 0.6973023414611816], [16, 0.02307366, 0.02307366, 0.02307366, 0.024062771, 0.02273886819495273, 0.015430862007614888, 0.009501006172971789, 0.004625514569573308, 0.029941274570931393, 0.021115405964700126, 0.011826104558023968, 0.004915097494665673, 0.13037833732301973, 0.025407797013777905, 0.6973023414611816], [17, 0.02307366, 0.02307366, 0.02307366, 0.02382781, 0.022738868194952737, 0.015430862007614888, 0.00950100617297179, 0.004590705324237746, 0.029941274570931393, 0.021115405964700126, 0.011826104558023968, 0.004909977400010186, 0.1301842532581054, 0.02532394919012996, 0.6973023414611816], [18, 0.022885691, 0.022885691, 0.022885691, 0.02363984, 0.02255089827014071, 0.015305548724406865, 0.009425818203046981, 0.004556528974271923, 0.029622514980768126, 0.020956026169618492, 0.011746414660483151, 0.00487821495433555, 0.12923175634495648, 0.025185241164592788, 0.6973023414611816]]\n",
      "-----------------------------------------------------------------------------------------\n"
     ]
    },
    {
     "name": "stderr",
     "output_type": "stream",
     "text": [
      "  0%|          | 1/1065 [00:00<05:52,  3.02it/s]"
     ]
    },
    {
     "name": "stdout",
     "output_type": "stream",
     "text": [
      "Epoch 19: 0% , Loss: 0.698242\n"
     ]
    },
    {
     "name": "stderr",
     "output_type": "stream",
     "text": [
      "  9%|▉         | 101/1065 [00:43<07:21,  2.18it/s]"
     ]
    },
    {
     "name": "stdout",
     "output_type": "stream",
     "text": [
      "Epoch 19: 9% , Loss: 0.696289\n"
     ]
    },
    {
     "name": "stderr",
     "output_type": "stream",
     "text": [
      " 19%|█▉        | 201/1065 [01:17<03:50,  3.75it/s]"
     ]
    },
    {
     "name": "stdout",
     "output_type": "stream",
     "text": [
      "Epoch 19: 19% , Loss: 0.697266\n"
     ]
    },
    {
     "name": "stderr",
     "output_type": "stream",
     "text": [
      " 28%|██▊       | 301/1065 [01:46<04:02,  3.16it/s]"
     ]
    },
    {
     "name": "stdout",
     "output_type": "stream",
     "text": [
      "Epoch 19: 28% , Loss: 0.695801\n"
     ]
    },
    {
     "name": "stderr",
     "output_type": "stream",
     "text": [
      " 38%|███▊      | 401/1065 [02:14<03:45,  2.94it/s]"
     ]
    },
    {
     "name": "stdout",
     "output_type": "stream",
     "text": [
      "Epoch 19: 38% , Loss: 0.697266\n"
     ]
    },
    {
     "name": "stderr",
     "output_type": "stream",
     "text": [
      " 47%|████▋     | 501/1065 [02:58<04:07,  2.27it/s]"
     ]
    },
    {
     "name": "stdout",
     "output_type": "stream",
     "text": [
      "Epoch 19: 47% , Loss: 0.697266\n"
     ]
    },
    {
     "name": "stderr",
     "output_type": "stream",
     "text": [
      " 56%|█████▋    | 601/1065 [03:38<03:10,  2.44it/s]"
     ]
    },
    {
     "name": "stdout",
     "output_type": "stream",
     "text": [
      "Epoch 19: 56% , Loss: 0.697266\n"
     ]
    },
    {
     "name": "stderr",
     "output_type": "stream",
     "text": [
      " 66%|██████▌   | 701/1065 [04:21<02:15,  2.68it/s]"
     ]
    },
    {
     "name": "stdout",
     "output_type": "stream",
     "text": [
      "Epoch 19: 66% , Loss: 0.697266\n"
     ]
    },
    {
     "name": "stderr",
     "output_type": "stream",
     "text": [
      " 75%|███████▌  | 801/1065 [05:10<02:29,  1.76it/s]"
     ]
    },
    {
     "name": "stdout",
     "output_type": "stream",
     "text": [
      "Epoch 19: 75% , Loss: 0.697266\n"
     ]
    },
    {
     "name": "stderr",
     "output_type": "stream",
     "text": [
      " 85%|████████▍ | 901/1065 [05:58<01:25,  1.93it/s]"
     ]
    },
    {
     "name": "stdout",
     "output_type": "stream",
     "text": [
      "Epoch 19: 85% , Loss: 0.697266\n"
     ]
    },
    {
     "name": "stderr",
     "output_type": "stream",
     "text": [
      " 94%|█████████▍| 1001/1065 [06:48<00:32,  1.94it/s]"
     ]
    },
    {
     "name": "stdout",
     "output_type": "stream",
     "text": [
      "Epoch 19: 94% , Loss: 0.695312\n"
     ]
    },
    {
     "name": "stderr",
     "output_type": "stream",
     "text": [
      "100%|██████████| 1065/1065 [07:21<00:00,  2.41it/s]"
     ]
    },
    {
     "name": "stdout",
     "output_type": "stream",
     "text": [
      "Epoch 19: 100% , Loss: 0.697266\n"
     ]
    },
    {
     "name": "stderr",
     "output_type": "stream",
     "text": [
      "\n"
     ]
    },
    {
     "name": "stdout",
     "output_type": "stream",
     "text": [
      "                      (HR@5: 0.0212, HR@10: 0.0218, HR@20: 0.0227, HR@50: 0.0245)\n",
      "\n",
      "                      (F1-score@5: 0.0216, F1-score@10: 0.0153, F1-score@20: 0.0101, F1-score@50: 0.0053)\n",
      "\n",
      "                      (NDCG@5: 0.0275, NDCG@10: 0.0211, NDCG@20: 0.0128, NDCG@50: 0.0054)\n",
      "\n",
      "MRR: 0.1318560232444553\n",
      "MAP: 0.02327968030657366\n",
      "train_loss= tensor(0.6975)\n",
      "--------------------\n"
     ]
    },
    {
     "name": "stderr",
     "output_type": "stream",
     "text": [
      "100%|██████████| 133/133 [00:45<00:00,  2.95it/s]\n"
     ]
    },
    {
     "name": "stdout",
     "output_type": "stream",
     "text": [
      "                      (HR@5: 0.0185, HR@10: 0.0185, HR@20: 0.0185, HR@50: 0.0189)\n",
      "\n",
      "                      (F1-score@5: 0.0195, F1-score@10: 0.0136, F1-score@20: 0.0086, F1-score@50: 0.0042)\n",
      "\n",
      "                      (NDCG@5: 0.0249, NDCG@10: 0.0200, NDCG@20: 0.0119, NDCG@50: 0.0050)\n",
      "\n",
      "MRR: 0.12302531707754552\n",
      "MAP: 0.020557009308904393\n",
      "val_loss= tensor(0.6973)\n",
      "--------------------\n"
     ]
    },
    {
     "name": "stderr",
     "output_type": "stream",
     "text": [
      "100%|██████████| 133/133 [00:43<00:00,  3.06it/s]\n"
     ]
    },
    {
     "name": "stdout",
     "output_type": "stream",
     "text": [
      "                      (HR@5: 0.0231, HR@10: 0.0231, HR@20: 0.0234, HR@50: 0.0238)\n",
      "\n",
      "                      (F1-score@5: 0.0227, F1-score@10: 0.0154, F1-score@20: 0.0096, F1-score@50: 0.0046)\n",
      "\n",
      "                      (NDCG@5: 0.0299, NDCG@10: 0.0211, NDCG@20: 0.0118, NDCG@50: 0.0049)\n",
      "\n",
      "MRR: 0.13002084769348116\n",
      "MAP: 0.025270669588593038\n",
      "--------------------\n",
      "[[1, 0.03465425, 0.04536543, 0.060965173, 0.09765469, 0.03546227992572318, 0.032930403000051456, 0.029009450723162675, 0.024023476855959854, 0.03735033883468101, 0.0318496223045443, 0.0223121976381854, 0.012187458402337157, 0.1717572674970315, 0.038195357361045575, 0.737506628036499], [2, 0.034920342, 0.049537707, 0.06630957, 0.10376751, 0.036090099508033456, 0.03569413702971639, 0.031115291575316086, 0.024863518480978855, 0.03791606810322046, 0.03317129893816615, 0.023067262956760544, 0.012365936020238647, 0.17281249482928276, 0.03874251039192741, 0.7148474454879761], [3, 0.03885227, 0.049114645, 0.06668661, 0.10375823, 0.0395950206502221, 0.03564165216299002, 0.03125508788742816, 0.02472983703811252, 0.039751005920938644, 0.033499216083157105, 0.023218361380741112, 0.012373350616684533, 0.1737748618881017, 0.038488715112516746, 0.7070716619491577], [4, 0.038483042, 0.04900222, 0.0640814, 0.10516484, 0.039229523574198705, 0.035301578500518536, 0.03008911980334535, 0.0245585782795049, 0.039617270772184306, 0.0333939969270049, 0.022728360441856478, 0.01220824117457172, 0.1727280251381023, 0.03775703204435945, 0.703326940536499], [5, 0.03692979, 0.04693932, 0.06265045, 0.10107843, 0.03733291979352027, 0.033853338675597706, 0.029304826409967934, 0.023598067582014725, 0.0382539490763014, 0.03231336585687179, 0.022073252726157188, 0.011809149785912632, 0.16864992362950817, 0.03614342670436087, 0.701171875], [6, 0.03832389, 0.04826606, 0.060377385, 0.08977559, 0.03879739044253315, 0.03471991678206963, 0.02839345455253052, 0.020698862636109535, 0.039191465578006957, 0.03291920787668822, 0.021880947331778873, 0.011102645353351096, 0.1681212496695355, 0.035511252517397215, 0.6997437477111816], [7, 0.035294183, 0.046654638, 0.056574225, 0.07207098, 0.035861279776745025, 0.033482979362027376, 0.026390112826904184, 0.016536219891109434, 0.03786072413493088, 0.03214345604559421, 0.02093510353356544, 0.009803151410717265, 0.1636314666270846, 0.03396130550940773, 0.6987671852111816], [8, 0.035379622, 0.043760803, 0.049878336, 0.057385672, 0.03597876097975253, 0.03100636717251084, 0.022573388757909874, 0.012856941967818888, 0.03801771558478082, 0.030771443852279475, 0.019061670360274445, 0.0085417394249707, 0.15816996251477264, 0.03253562881831853, 0.6982789039611816], [9, 0.032719743, 0.035262145, 0.042486347, 0.051714934, 0.032984179507872954, 0.024670267770009767, 0.018582391177358715, 0.011173472350173663, 0.03658287044215415, 0.027470202510826346, 0.016902354046968476, 0.007676824102356778, 0.15057565400575124, 0.03125537800990395, 0.6981393694877625], [10, 0.025282232, 0.028555928, 0.03479781, 0.044350218, 0.02495019501603765, 0.019665450694784172, 0.01521044464494254, 0.009242460464551282, 0.030864491351509003, 0.02314207889839895, 0.01423300854000438, 0.006348447155564519, 0.13579057538487038, 0.027068882874949945, 0.6977906227111816], [11, 0.023073662, 0.025416495, 0.027687829, 0.035904836, 0.022738868194952737, 0.017073660685435327, 0.011641721907997298, 0.007462914421941007, 0.029941274570931393, 0.02181954853957925, 0.012633770130070528, 0.005758055664784506, 0.13309778063866226, 0.02608141515691925, 0.6977906227111816], [12, 0.022979675, 0.022979675, 0.02532251, 0.03342353, 0.022613554911744722, 0.015336877045208875, 0.010477294139123796, 0.006959171987587562, 0.029803372446895765, 0.020908552792651535, 0.012087670074341665, 0.005497008966915729, 0.13078621128017012, 0.025618333484917124, 0.6977869272232056], [13, 0.02307366, 0.02307366, 0.023360837, 0.027874121, 0.022738868194952744, 0.015430862007614888, 0.009628792744664178, 0.005508039360021215, 0.029941274570931393, 0.021115405964700126, 0.011873440288315365, 0.005141973286723592, 0.13121599850476084, 0.025550893626280866, 0.6974087953567505], [14, 0.02291702, 0.02291702, 0.02291702, 0.026014004, 0.02256798644512362, 0.01531338080460737, 0.00942871004804409, 0.005061149028485204, 0.029697502469573926, 0.02094476548534699, 0.011740784318347398, 0.004995634675172991, 0.12976520118865675, 0.02528418072660605, 0.6973023414611816], [15, 0.022969233, 0.022969233, 0.022969233, 0.026066218, 0.022604603962944145, 0.015331930468240136, 0.00943618895751937, 0.005062855777197177, 0.029788338631755652, 0.020916589252174572, 0.01172669620176119, 0.00498464548062267, 0.12960157264931532, 0.025276829280197834, 0.6973023414611816], [16, 0.02307366, 0.02307366, 0.02307366, 0.024062771, 0.02273886819495273, 0.015430862007614888, 0.009501006172971789, 0.004625514569573308, 0.029941274570931393, 0.021115405964700126, 0.011826104558023968, 0.004915097494665673, 0.13037833732301973, 0.025407797013777905, 0.6973023414611816], [17, 0.02307366, 0.02307366, 0.02307366, 0.02382781, 0.022738868194952737, 0.015430862007614888, 0.00950100617297179, 0.004590705324237746, 0.029941274570931393, 0.021115405964700126, 0.011826104558023968, 0.004909977400010186, 0.1301842532581054, 0.02532394919012996, 0.6973023414611816], [18, 0.022885691, 0.022885691, 0.022885691, 0.02363984, 0.02255089827014071, 0.015305548724406865, 0.009425818203046981, 0.004556528974271923, 0.029622514980768126, 0.020956026169618492, 0.011746414660483151, 0.00487821495433555, 0.12923175634495648, 0.025185241164592788, 0.6973023414611816], [19, 0.02307366, 0.02307366, 0.023386944, 0.023827808, 0.022738868194952744, 0.015430862007614888, 0.009582732227237892, 0.0045907053242377465, 0.029941274570931393, 0.021115405964700126, 0.011841412006940385, 0.004910307563491222, 0.13002084769348116, 0.025270669588593038, 0.6973023414611816]]\n",
      "-----------------------------------------------------------------------------------------\n"
     ]
    },
    {
     "name": "stderr",
     "output_type": "stream",
     "text": [
      "  0%|          | 1/1065 [00:00<08:57,  1.98it/s]"
     ]
    },
    {
     "name": "stdout",
     "output_type": "stream",
     "text": [
      "Epoch 20: 0% , Loss: 0.696289\n"
     ]
    },
    {
     "name": "stderr",
     "output_type": "stream",
     "text": [
      "  9%|▉         | 101/1065 [00:41<07:37,  2.11it/s]"
     ]
    },
    {
     "name": "stdout",
     "output_type": "stream",
     "text": [
      "Epoch 20: 9% , Loss: 0.697266\n"
     ]
    },
    {
     "name": "stderr",
     "output_type": "stream",
     "text": [
      " 19%|█▉        | 201/1065 [01:14<04:40,  3.08it/s]"
     ]
    },
    {
     "name": "stdout",
     "output_type": "stream",
     "text": [
      "Epoch 20: 19% , Loss: 0.697266\n"
     ]
    },
    {
     "name": "stderr",
     "output_type": "stream",
     "text": [
      " 28%|██▊       | 301/1065 [01:44<03:58,  3.20it/s]"
     ]
    },
    {
     "name": "stdout",
     "output_type": "stream",
     "text": [
      "Epoch 20: 28% , Loss: 0.698242\n"
     ]
    },
    {
     "name": "stderr",
     "output_type": "stream",
     "text": [
      " 38%|███▊      | 401/1065 [02:17<04:17,  2.58it/s]"
     ]
    },
    {
     "name": "stdout",
     "output_type": "stream",
     "text": [
      "Epoch 20: 38% , Loss: 0.698242\n"
     ]
    },
    {
     "name": "stderr",
     "output_type": "stream",
     "text": [
      " 47%|████▋     | 501/1065 [02:59<02:44,  3.42it/s]"
     ]
    },
    {
     "name": "stdout",
     "output_type": "stream",
     "text": [
      "Epoch 20: 47% , Loss: 0.696289\n"
     ]
    },
    {
     "name": "stderr",
     "output_type": "stream",
     "text": [
      " 56%|█████▋    | 601/1065 [03:39<03:25,  2.25it/s]"
     ]
    },
    {
     "name": "stdout",
     "output_type": "stream",
     "text": [
      "Epoch 20: 56% , Loss: 0.697266\n"
     ]
    },
    {
     "name": "stderr",
     "output_type": "stream",
     "text": [
      " 66%|██████▌   | 701/1065 [04:23<02:38,  2.30it/s]"
     ]
    },
    {
     "name": "stdout",
     "output_type": "stream",
     "text": [
      "Epoch 20: 66% , Loss: 0.696289\n"
     ]
    },
    {
     "name": "stderr",
     "output_type": "stream",
     "text": [
      " 75%|███████▌  | 801/1065 [05:14<01:50,  2.38it/s]"
     ]
    },
    {
     "name": "stdout",
     "output_type": "stream",
     "text": [
      "Epoch 20: 75% , Loss: 0.697266\n"
     ]
    },
    {
     "name": "stderr",
     "output_type": "stream",
     "text": [
      " 85%|████████▍ | 901/1065 [06:01<01:04,  2.53it/s]"
     ]
    },
    {
     "name": "stdout",
     "output_type": "stream",
     "text": [
      "Epoch 20: 85% , Loss: 0.696289\n"
     ]
    },
    {
     "name": "stderr",
     "output_type": "stream",
     "text": [
      " 94%|█████████▍| 1001/1065 [06:47<00:32,  1.98it/s]"
     ]
    },
    {
     "name": "stdout",
     "output_type": "stream",
     "text": [
      "Epoch 20: 94% , Loss: 0.698242\n"
     ]
    },
    {
     "name": "stderr",
     "output_type": "stream",
     "text": [
      "100%|██████████| 1065/1065 [07:14<00:00,  2.45it/s]"
     ]
    },
    {
     "name": "stdout",
     "output_type": "stream",
     "text": [
      "Epoch 20: 100% , Loss: 0.695312\n"
     ]
    },
    {
     "name": "stderr",
     "output_type": "stream",
     "text": [
      "\n"
     ]
    },
    {
     "name": "stdout",
     "output_type": "stream",
     "text": [
      "                      (HR@5: 0.0214, HR@10: 0.0220, HR@20: 0.0228, HR@50: 0.0248)\n",
      "\n",
      "                      (F1-score@5: 0.0218, F1-score@10: 0.0154, F1-score@20: 0.0100, F1-score@50: 0.0052)\n",
      "\n",
      "                      (NDCG@5: 0.0276, NDCG@10: 0.0211, NDCG@20: 0.0127, NDCG@50: 0.0054)\n",
      "\n",
      "MRR: 0.13190042095782725\n",
      "MAP: 0.023367062206054404\n",
      "train_loss= tensor(0.6975)\n",
      "--------------------\n"
     ]
    },
    {
     "name": "stderr",
     "output_type": "stream",
     "text": [
      "100%|██████████| 133/133 [00:46<00:00,  2.89it/s]\n"
     ]
    },
    {
     "name": "stdout",
     "output_type": "stream",
     "text": [
      "                      (HR@5: 0.0185, HR@10: 0.0185, HR@20: 0.0185, HR@50: 0.0187)\n",
      "\n",
      "                      (F1-score@5: 0.0195, F1-score@10: 0.0136, F1-score@20: 0.0086, F1-score@50: 0.0042)\n",
      "\n",
      "                      (NDCG@5: 0.0249, NDCG@10: 0.0200, NDCG@20: 0.0119, NDCG@50: 0.0050)\n",
      "\n",
      "MRR: 0.1229628439717991\n",
      "MAP: 0.020555168562532394\n",
      "val_loss= tensor(0.6973)\n",
      "--------------------\n"
     ]
    },
    {
     "name": "stderr",
     "output_type": "stream",
     "text": [
      "100%|██████████| 133/133 [00:44<00:00,  2.99it/s]\n"
     ]
    },
    {
     "name": "stdout",
     "output_type": "stream",
     "text": [
      "                      (HR@5: 0.0228, HR@10: 0.0228, HR@20: 0.0231, HR@50: 0.0233)\n",
      "\n",
      "                      (F1-score@5: 0.0225, F1-score@10: 0.0152, F1-score@20: 0.0095, F1-score@50: 0.0045)\n",
      "\n",
      "                      (NDCG@5: 0.0295, NDCG@10: 0.0208, NDCG@20: 0.0116, NDCG@50: 0.0048)\n",
      "\n",
      "MRR: 0.12808470883364872\n",
      "MAP: 0.025001562161607597\n",
      "--------------------\n",
      "[[1, 0.03465425, 0.04536543, 0.060965173, 0.09765469, 0.03546227992572318, 0.032930403000051456, 0.029009450723162675, 0.024023476855959854, 0.03735033883468101, 0.0318496223045443, 0.0223121976381854, 0.012187458402337157, 0.1717572674970315, 0.038195357361045575, 0.737506628036499], [2, 0.034920342, 0.049537707, 0.06630957, 0.10376751, 0.036090099508033456, 0.03569413702971639, 0.031115291575316086, 0.024863518480978855, 0.03791606810322046, 0.03317129893816615, 0.023067262956760544, 0.012365936020238647, 0.17281249482928276, 0.03874251039192741, 0.7148474454879761], [3, 0.03885227, 0.049114645, 0.06668661, 0.10375823, 0.0395950206502221, 0.03564165216299002, 0.03125508788742816, 0.02472983703811252, 0.039751005920938644, 0.033499216083157105, 0.023218361380741112, 0.012373350616684533, 0.1737748618881017, 0.038488715112516746, 0.7070716619491577], [4, 0.038483042, 0.04900222, 0.0640814, 0.10516484, 0.039229523574198705, 0.035301578500518536, 0.03008911980334535, 0.0245585782795049, 0.039617270772184306, 0.0333939969270049, 0.022728360441856478, 0.01220824117457172, 0.1727280251381023, 0.03775703204435945, 0.703326940536499], [5, 0.03692979, 0.04693932, 0.06265045, 0.10107843, 0.03733291979352027, 0.033853338675597706, 0.029304826409967934, 0.023598067582014725, 0.0382539490763014, 0.03231336585687179, 0.022073252726157188, 0.011809149785912632, 0.16864992362950817, 0.03614342670436087, 0.701171875], [6, 0.03832389, 0.04826606, 0.060377385, 0.08977559, 0.03879739044253315, 0.03471991678206963, 0.02839345455253052, 0.020698862636109535, 0.039191465578006957, 0.03291920787668822, 0.021880947331778873, 0.011102645353351096, 0.1681212496695355, 0.035511252517397215, 0.6997437477111816], [7, 0.035294183, 0.046654638, 0.056574225, 0.07207098, 0.035861279776745025, 0.033482979362027376, 0.026390112826904184, 0.016536219891109434, 0.03786072413493088, 0.03214345604559421, 0.02093510353356544, 0.009803151410717265, 0.1636314666270846, 0.03396130550940773, 0.6987671852111816], [8, 0.035379622, 0.043760803, 0.049878336, 0.057385672, 0.03597876097975253, 0.03100636717251084, 0.022573388757909874, 0.012856941967818888, 0.03801771558478082, 0.030771443852279475, 0.019061670360274445, 0.0085417394249707, 0.15816996251477264, 0.03253562881831853, 0.6982789039611816], [9, 0.032719743, 0.035262145, 0.042486347, 0.051714934, 0.032984179507872954, 0.024670267770009767, 0.018582391177358715, 0.011173472350173663, 0.03658287044215415, 0.027470202510826346, 0.016902354046968476, 0.007676824102356778, 0.15057565400575124, 0.03125537800990395, 0.6981393694877625], [10, 0.025282232, 0.028555928, 0.03479781, 0.044350218, 0.02495019501603765, 0.019665450694784172, 0.01521044464494254, 0.009242460464551282, 0.030864491351509003, 0.02314207889839895, 0.01423300854000438, 0.006348447155564519, 0.13579057538487038, 0.027068882874949945, 0.6977906227111816], [11, 0.023073662, 0.025416495, 0.027687829, 0.035904836, 0.022738868194952737, 0.017073660685435327, 0.011641721907997298, 0.007462914421941007, 0.029941274570931393, 0.02181954853957925, 0.012633770130070528, 0.005758055664784506, 0.13309778063866226, 0.02608141515691925, 0.6977906227111816], [12, 0.022979675, 0.022979675, 0.02532251, 0.03342353, 0.022613554911744722, 0.015336877045208875, 0.010477294139123796, 0.006959171987587562, 0.029803372446895765, 0.020908552792651535, 0.012087670074341665, 0.005497008966915729, 0.13078621128017012, 0.025618333484917124, 0.6977869272232056], [13, 0.02307366, 0.02307366, 0.023360837, 0.027874121, 0.022738868194952744, 0.015430862007614888, 0.009628792744664178, 0.005508039360021215, 0.029941274570931393, 0.021115405964700126, 0.011873440288315365, 0.005141973286723592, 0.13121599850476084, 0.025550893626280866, 0.6974087953567505], [14, 0.02291702, 0.02291702, 0.02291702, 0.026014004, 0.02256798644512362, 0.01531338080460737, 0.00942871004804409, 0.005061149028485204, 0.029697502469573926, 0.02094476548534699, 0.011740784318347398, 0.004995634675172991, 0.12976520118865675, 0.02528418072660605, 0.6973023414611816], [15, 0.022969233, 0.022969233, 0.022969233, 0.026066218, 0.022604603962944145, 0.015331930468240136, 0.00943618895751937, 0.005062855777197177, 0.029788338631755652, 0.020916589252174572, 0.01172669620176119, 0.00498464548062267, 0.12960157264931532, 0.025276829280197834, 0.6973023414611816], [16, 0.02307366, 0.02307366, 0.02307366, 0.024062771, 0.02273886819495273, 0.015430862007614888, 0.009501006172971789, 0.004625514569573308, 0.029941274570931393, 0.021115405964700126, 0.011826104558023968, 0.004915097494665673, 0.13037833732301973, 0.025407797013777905, 0.6973023414611816], [17, 0.02307366, 0.02307366, 0.02307366, 0.02382781, 0.022738868194952737, 0.015430862007614888, 0.00950100617297179, 0.004590705324237746, 0.029941274570931393, 0.021115405964700126, 0.011826104558023968, 0.004909977400010186, 0.1301842532581054, 0.02532394919012996, 0.6973023414611816], [18, 0.022885691, 0.022885691, 0.022885691, 0.02363984, 0.02255089827014071, 0.015305548724406865, 0.009425818203046981, 0.004556528974271923, 0.029622514980768126, 0.020956026169618492, 0.011746414660483151, 0.00487821495433555, 0.12923175634495648, 0.025185241164592788, 0.6973023414611816], [19, 0.02307366, 0.02307366, 0.023386944, 0.023827808, 0.022738868194952744, 0.015430862007614888, 0.009582732227237892, 0.0045907053242377465, 0.029941274570931393, 0.021115405964700126, 0.011841412006940385, 0.004910307563491222, 0.13002084769348116, 0.025270669588593038, 0.6973023414611816], [20, 0.022818558, 0.022818558, 0.023131842, 0.023259424, 0.022451966730765955, 0.015227227922401854, 0.009452258985309539, 0.004491692649970603, 0.029520564015842694, 0.020825755484822326, 0.011644478498684956, 0.004826858911061085, 0.12808470883364872, 0.025001562161607597, 0.6973023414611816]]\n",
      "-----------------------------------------------------------------------------------------\n"
     ]
    },
    {
     "name": "stderr",
     "output_type": "stream",
     "text": [
      "  0%|          | 1/1065 [00:00<06:47,  2.61it/s]"
     ]
    },
    {
     "name": "stdout",
     "output_type": "stream",
     "text": [
      "Epoch 21: 0% , Loss: 0.695312\n"
     ]
    },
    {
     "name": "stderr",
     "output_type": "stream",
     "text": [
      " 10%|▉         | 102/1065 [00:44<05:29,  2.92it/s]"
     ]
    },
    {
     "name": "stdout",
     "output_type": "stream",
     "text": [
      "Epoch 21: 9% , Loss: 0.697266\n"
     ]
    },
    {
     "name": "stderr",
     "output_type": "stream",
     "text": [
      " 19%|█▉        | 201/1065 [01:16<03:32,  4.07it/s]"
     ]
    },
    {
     "name": "stdout",
     "output_type": "stream",
     "text": [
      "Epoch 21: 19% , Loss: 0.698242\n"
     ]
    },
    {
     "name": "stderr",
     "output_type": "stream",
     "text": [
      " 28%|██▊       | 301/1065 [01:46<03:33,  3.58it/s]"
     ]
    },
    {
     "name": "stdout",
     "output_type": "stream",
     "text": [
      "Epoch 21: 28% , Loss: 0.695312\n"
     ]
    },
    {
     "name": "stderr",
     "output_type": "stream",
     "text": [
      " 38%|███▊      | 401/1065 [02:23<05:02,  2.20it/s]"
     ]
    },
    {
     "name": "stdout",
     "output_type": "stream",
     "text": [
      "Epoch 21: 38% , Loss: 0.698242\n"
     ]
    },
    {
     "name": "stderr",
     "output_type": "stream",
     "text": [
      " 47%|████▋     | 501/1065 [03:03<03:26,  2.73it/s]"
     ]
    },
    {
     "name": "stdout",
     "output_type": "stream",
     "text": [
      "Epoch 21: 47% , Loss: 0.695312\n"
     ]
    },
    {
     "name": "stderr",
     "output_type": "stream",
     "text": [
      " 56%|█████▋    | 601/1065 [03:45<04:19,  1.79it/s]"
     ]
    },
    {
     "name": "stdout",
     "output_type": "stream",
     "text": [
      "Epoch 21: 56% , Loss: 0.696289\n"
     ]
    },
    {
     "name": "stderr",
     "output_type": "stream",
     "text": [
      " 66%|██████▌   | 701/1065 [04:25<02:24,  2.52it/s]"
     ]
    },
    {
     "name": "stdout",
     "output_type": "stream",
     "text": [
      "Epoch 21: 66% , Loss: 0.697266\n"
     ]
    },
    {
     "name": "stderr",
     "output_type": "stream",
     "text": [
      " 75%|███████▌  | 801/1065 [05:06<01:50,  2.39it/s]"
     ]
    },
    {
     "name": "stdout",
     "output_type": "stream",
     "text": [
      "Epoch 21: 75% , Loss: 0.697266\n"
     ]
    },
    {
     "name": "stderr",
     "output_type": "stream",
     "text": [
      " 85%|████████▍ | 901/1065 [05:49<01:38,  1.66it/s]"
     ]
    },
    {
     "name": "stdout",
     "output_type": "stream",
     "text": [
      "Epoch 21: 85% , Loss: 0.697266\n"
     ]
    },
    {
     "name": "stderr",
     "output_type": "stream",
     "text": [
      " 94%|█████████▍| 1001/1065 [06:36<00:28,  2.24it/s]"
     ]
    },
    {
     "name": "stdout",
     "output_type": "stream",
     "text": [
      "Epoch 21: 94% , Loss: 0.697266\n"
     ]
    },
    {
     "name": "stderr",
     "output_type": "stream",
     "text": [
      "100%|██████████| 1065/1065 [07:05<00:00,  2.50it/s]"
     ]
    },
    {
     "name": "stdout",
     "output_type": "stream",
     "text": [
      "Epoch 21: 100% , Loss: 0.695312\n"
     ]
    },
    {
     "name": "stderr",
     "output_type": "stream",
     "text": [
      "\n"
     ]
    },
    {
     "name": "stdout",
     "output_type": "stream",
     "text": [
      "                      (HR@5: 0.0213, HR@10: 0.0218, HR@20: 0.0224, HR@50: 0.0245)\n",
      "\n",
      "                      (F1-score@5: 0.0217, F1-score@10: 0.0153, F1-score@20: 0.0099, F1-score@50: 0.0052)\n",
      "\n",
      "                      (NDCG@5: 0.0276, NDCG@10: 0.0211, NDCG@20: 0.0127, NDCG@50: 0.0054)\n",
      "\n",
      "MRR: 0.13173526923668266\n",
      "MAP: 0.023263859275920416\n",
      "train_loss= tensor(0.6975)\n",
      "--------------------\n"
     ]
    },
    {
     "name": "stderr",
     "output_type": "stream",
     "text": [
      "100%|██████████| 133/133 [00:46<00:00,  2.88it/s]\n"
     ]
    },
    {
     "name": "stdout",
     "output_type": "stream",
     "text": [
      "                      (HR@5: 0.0183, HR@10: 0.0183, HR@20: 0.0183, HR@50: 0.0185)\n",
      "\n",
      "                      (F1-score@5: 0.0193, F1-score@10: 0.0135, F1-score@20: 0.0085, F1-score@50: 0.0042)\n",
      "\n",
      "                      (NDCG@5: 0.0246, NDCG@10: 0.0198, NDCG@20: 0.0118, NDCG@50: 0.0050)\n",
      "\n",
      "MRR: 0.12199482779989371\n",
      "MAP: 0.020375308260346246\n",
      "val_loss= tensor(0.6973)\n",
      "--------------------\n"
     ]
    },
    {
     "name": "stderr",
     "output_type": "stream",
     "text": [
      "100%|██████████| 133/133 [00:44<00:00,  3.00it/s]\n"
     ]
    },
    {
     "name": "stdout",
     "output_type": "stream",
     "text": [
      "                      (HR@5: 0.0229, HR@10: 0.0229, HR@20: 0.0232, HR@50: 0.0233)\n",
      "\n",
      "                      (F1-score@5: 0.0226, F1-score@10: 0.0153, F1-score@20: 0.0095, F1-score@50: 0.0045)\n",
      "\n",
      "                      (NDCG@5: 0.0296, NDCG@10: 0.0210, NDCG@20: 0.0118, NDCG@50: 0.0049)\n",
      "\n",
      "MRR: 0.12899635080474853\n",
      "MAP: 0.02514760453047173\n",
      "--------------------\n",
      "[[1, 0.03465425, 0.04536543, 0.060965173, 0.09765469, 0.03546227992572318, 0.032930403000051456, 0.029009450723162675, 0.024023476855959854, 0.03735033883468101, 0.0318496223045443, 0.0223121976381854, 0.012187458402337157, 0.1717572674970315, 0.038195357361045575, 0.737506628036499], [2, 0.034920342, 0.049537707, 0.06630957, 0.10376751, 0.036090099508033456, 0.03569413702971639, 0.031115291575316086, 0.024863518480978855, 0.03791606810322046, 0.03317129893816615, 0.023067262956760544, 0.012365936020238647, 0.17281249482928276, 0.03874251039192741, 0.7148474454879761], [3, 0.03885227, 0.049114645, 0.06668661, 0.10375823, 0.0395950206502221, 0.03564165216299002, 0.03125508788742816, 0.02472983703811252, 0.039751005920938644, 0.033499216083157105, 0.023218361380741112, 0.012373350616684533, 0.1737748618881017, 0.038488715112516746, 0.7070716619491577], [4, 0.038483042, 0.04900222, 0.0640814, 0.10516484, 0.039229523574198705, 0.035301578500518536, 0.03008911980334535, 0.0245585782795049, 0.039617270772184306, 0.0333939969270049, 0.022728360441856478, 0.01220824117457172, 0.1727280251381023, 0.03775703204435945, 0.703326940536499], [5, 0.03692979, 0.04693932, 0.06265045, 0.10107843, 0.03733291979352027, 0.033853338675597706, 0.029304826409967934, 0.023598067582014725, 0.0382539490763014, 0.03231336585687179, 0.022073252726157188, 0.011809149785912632, 0.16864992362950817, 0.03614342670436087, 0.701171875], [6, 0.03832389, 0.04826606, 0.060377385, 0.08977559, 0.03879739044253315, 0.03471991678206963, 0.02839345455253052, 0.020698862636109535, 0.039191465578006957, 0.03291920787668822, 0.021880947331778873, 0.011102645353351096, 0.1681212496695355, 0.035511252517397215, 0.6997437477111816], [7, 0.035294183, 0.046654638, 0.056574225, 0.07207098, 0.035861279776745025, 0.033482979362027376, 0.026390112826904184, 0.016536219891109434, 0.03786072413493088, 0.03214345604559421, 0.02093510353356544, 0.009803151410717265, 0.1636314666270846, 0.03396130550940773, 0.6987671852111816], [8, 0.035379622, 0.043760803, 0.049878336, 0.057385672, 0.03597876097975253, 0.03100636717251084, 0.022573388757909874, 0.012856941967818888, 0.03801771558478082, 0.030771443852279475, 0.019061670360274445, 0.0085417394249707, 0.15816996251477264, 0.03253562881831853, 0.6982789039611816], [9, 0.032719743, 0.035262145, 0.042486347, 0.051714934, 0.032984179507872954, 0.024670267770009767, 0.018582391177358715, 0.011173472350173663, 0.03658287044215415, 0.027470202510826346, 0.016902354046968476, 0.007676824102356778, 0.15057565400575124, 0.03125537800990395, 0.6981393694877625], [10, 0.025282232, 0.028555928, 0.03479781, 0.044350218, 0.02495019501603765, 0.019665450694784172, 0.01521044464494254, 0.009242460464551282, 0.030864491351509003, 0.02314207889839895, 0.01423300854000438, 0.006348447155564519, 0.13579057538487038, 0.027068882874949945, 0.6977906227111816], [11, 0.023073662, 0.025416495, 0.027687829, 0.035904836, 0.022738868194952737, 0.017073660685435327, 0.011641721907997298, 0.007462914421941007, 0.029941274570931393, 0.02181954853957925, 0.012633770130070528, 0.005758055664784506, 0.13309778063866226, 0.02608141515691925, 0.6977906227111816], [12, 0.022979675, 0.022979675, 0.02532251, 0.03342353, 0.022613554911744722, 0.015336877045208875, 0.010477294139123796, 0.006959171987587562, 0.029803372446895765, 0.020908552792651535, 0.012087670074341665, 0.005497008966915729, 0.13078621128017012, 0.025618333484917124, 0.6977869272232056], [13, 0.02307366, 0.02307366, 0.023360837, 0.027874121, 0.022738868194952744, 0.015430862007614888, 0.009628792744664178, 0.005508039360021215, 0.029941274570931393, 0.021115405964700126, 0.011873440288315365, 0.005141973286723592, 0.13121599850476084, 0.025550893626280866, 0.6974087953567505], [14, 0.02291702, 0.02291702, 0.02291702, 0.026014004, 0.02256798644512362, 0.01531338080460737, 0.00942871004804409, 0.005061149028485204, 0.029697502469573926, 0.02094476548534699, 0.011740784318347398, 0.004995634675172991, 0.12976520118865675, 0.02528418072660605, 0.6973023414611816], [15, 0.022969233, 0.022969233, 0.022969233, 0.026066218, 0.022604603962944145, 0.015331930468240136, 0.00943618895751937, 0.005062855777197177, 0.029788338631755652, 0.020916589252174572, 0.01172669620176119, 0.00498464548062267, 0.12960157264931532, 0.025276829280197834, 0.6973023414611816], [16, 0.02307366, 0.02307366, 0.02307366, 0.024062771, 0.02273886819495273, 0.015430862007614888, 0.009501006172971789, 0.004625514569573308, 0.029941274570931393, 0.021115405964700126, 0.011826104558023968, 0.004915097494665673, 0.13037833732301973, 0.025407797013777905, 0.6973023414611816], [17, 0.02307366, 0.02307366, 0.02307366, 0.02382781, 0.022738868194952737, 0.015430862007614888, 0.00950100617297179, 0.004590705324237746, 0.029941274570931393, 0.021115405964700126, 0.011826104558023968, 0.004909977400010186, 0.1301842532581054, 0.02532394919012996, 0.6973023414611816], [18, 0.022885691, 0.022885691, 0.022885691, 0.02363984, 0.02255089827014071, 0.015305548724406865, 0.009425818203046981, 0.004556528974271923, 0.029622514980768126, 0.020956026169618492, 0.011746414660483151, 0.00487821495433555, 0.12923175634495648, 0.025185241164592788, 0.6973023414611816], [19, 0.02307366, 0.02307366, 0.023386944, 0.023827808, 0.022738868194952744, 0.015430862007614888, 0.009582732227237892, 0.0045907053242377465, 0.029941274570931393, 0.021115405964700126, 0.011841412006940385, 0.004910307563491222, 0.13002084769348116, 0.025270669588593038, 0.6973023414611816], [20, 0.022818558, 0.022818558, 0.023131842, 0.023259424, 0.022451966730765955, 0.015227227922401854, 0.009452258985309539, 0.004491692649970603, 0.029520564015842694, 0.020825755484822326, 0.011644478498684956, 0.004826858911061085, 0.12808470883364872, 0.025001562161607597, 0.6973023414611816], [21, 0.022885691, 0.022885691, 0.023198973, 0.023326555, 0.022550898270140705, 0.015305548724406865, 0.00950754425731308, 0.0045210629507224835, 0.029622514980768126, 0.020956026169618492, 0.011761988775762624, 0.004873891069581802, 0.12899635080474853, 0.02514760453047173, 0.697309672832489]]\n",
      "-----------------------------------------------------------------------------------------\n"
     ]
    },
    {
     "name": "stderr",
     "output_type": "stream",
     "text": [
      "  0%|          | 1/1065 [00:00<12:04,  1.47it/s]"
     ]
    },
    {
     "name": "stdout",
     "output_type": "stream",
     "text": [
      "Epoch 22: 0% , Loss: 0.697266\n"
     ]
    },
    {
     "name": "stderr",
     "output_type": "stream",
     "text": [
      "  9%|▉         | 101/1065 [00:42<05:42,  2.82it/s]"
     ]
    },
    {
     "name": "stdout",
     "output_type": "stream",
     "text": [
      "Epoch 22: 9% , Loss: 0.698242\n"
     ]
    },
    {
     "name": "stderr",
     "output_type": "stream",
     "text": [
      " 19%|█▉        | 201/1065 [01:18<04:34,  3.15it/s]"
     ]
    },
    {
     "name": "stdout",
     "output_type": "stream",
     "text": [
      "Epoch 22: 19% , Loss: 0.697266\n"
     ]
    },
    {
     "name": "stderr",
     "output_type": "stream",
     "text": [
      " 28%|██▊       | 301/1065 [01:50<04:19,  2.95it/s]"
     ]
    },
    {
     "name": "stdout",
     "output_type": "stream",
     "text": [
      "Epoch 22: 28% , Loss: 0.696289\n"
     ]
    },
    {
     "name": "stderr",
     "output_type": "stream",
     "text": [
      " 38%|███▊      | 401/1065 [02:23<04:41,  2.36it/s]"
     ]
    },
    {
     "name": "stdout",
     "output_type": "stream",
     "text": [
      "Epoch 22: 38% , Loss: 0.697266\n"
     ]
    },
    {
     "name": "stderr",
     "output_type": "stream",
     "text": [
      " 47%|████▋     | 501/1065 [03:03<03:36,  2.60it/s]"
     ]
    },
    {
     "name": "stdout",
     "output_type": "stream",
     "text": [
      "Epoch 22: 47% , Loss: 0.698242\n"
     ]
    },
    {
     "name": "stderr",
     "output_type": "stream",
     "text": [
      " 56%|█████▋    | 601/1065 [03:40<02:54,  2.65it/s]"
     ]
    },
    {
     "name": "stdout",
     "output_type": "stream",
     "text": [
      "Epoch 22: 56% , Loss: 0.695801\n"
     ]
    },
    {
     "name": "stderr",
     "output_type": "stream",
     "text": [
      " 66%|██████▌   | 701/1065 [04:16<02:17,  2.64it/s]"
     ]
    },
    {
     "name": "stdout",
     "output_type": "stream",
     "text": [
      "Epoch 22: 66% , Loss: 0.698242\n"
     ]
    },
    {
     "name": "stderr",
     "output_type": "stream",
     "text": [
      " 75%|███████▌  | 801/1065 [04:55<02:11,  2.01it/s]"
     ]
    },
    {
     "name": "stdout",
     "output_type": "stream",
     "text": [
      "Epoch 22: 75% , Loss: 0.698242\n"
     ]
    },
    {
     "name": "stderr",
     "output_type": "stream",
     "text": [
      " 85%|████████▍ | 901/1065 [05:42<00:59,  2.78it/s]"
     ]
    },
    {
     "name": "stdout",
     "output_type": "stream",
     "text": [
      "Epoch 22: 85% , Loss: 0.698242\n"
     ]
    },
    {
     "name": "stderr",
     "output_type": "stream",
     "text": [
      " 94%|█████████▍| 1001/1065 [06:30<00:28,  2.22it/s]"
     ]
    },
    {
     "name": "stdout",
     "output_type": "stream",
     "text": [
      "Epoch 22: 94% , Loss: 0.698242\n"
     ]
    },
    {
     "name": "stderr",
     "output_type": "stream",
     "text": [
      "100%|██████████| 1065/1065 [07:03<00:00,  2.51it/s]"
     ]
    },
    {
     "name": "stdout",
     "output_type": "stream",
     "text": [
      "Epoch 22: 100% , Loss: 0.697266\n"
     ]
    },
    {
     "name": "stderr",
     "output_type": "stream",
     "text": [
      "\n"
     ]
    },
    {
     "name": "stdout",
     "output_type": "stream",
     "text": [
      "                      (HR@5: 0.0214, HR@10: 0.0219, HR@20: 0.0227, HR@50: 0.0245)\n",
      "\n",
      "                      (F1-score@5: 0.0218, F1-score@10: 0.0154, F1-score@20: 0.0100, F1-score@50: 0.0052)\n",
      "\n",
      "                      (NDCG@5: 0.0276, NDCG@10: 0.0211, NDCG@20: 0.0127, NDCG@50: 0.0054)\n",
      "\n",
      "MRR: 0.13168885030629227\n",
      "MAP: 0.023301778133626994\n",
      "train_loss= tensor(0.6974)\n",
      "--------------------\n"
     ]
    },
    {
     "name": "stderr",
     "output_type": "stream",
     "text": [
      "100%|██████████| 133/133 [00:46<00:00,  2.86it/s]\n"
     ]
    },
    {
     "name": "stdout",
     "output_type": "stream",
     "text": [
      "                      (HR@5: 0.0185, HR@10: 0.0185, HR@20: 0.0185, HR@50: 0.0187)\n",
      "\n",
      "                      (F1-score@5: 0.0194, F1-score@10: 0.0135, F1-score@20: 0.0086, F1-score@50: 0.0042)\n",
      "\n",
      "                      (NDCG@5: 0.0248, NDCG@10: 0.0199, NDCG@20: 0.0118, NDCG@50: 0.0050)\n",
      "\n",
      "MRR: 0.12188715627818508\n",
      "MAP: 0.020461300034871992\n",
      "val_loss= tensor(0.6973)\n",
      "--------------------\n"
     ]
    },
    {
     "name": "stderr",
     "output_type": "stream",
     "text": [
      "100%|██████████| 133/133 [00:45<00:00,  2.94it/s]\n"
     ]
    },
    {
     "name": "stdout",
     "output_type": "stream",
     "text": [
      "                      (HR@5: 0.0229, HR@10: 0.0229, HR@20: 0.0232, HR@50: 0.0233)\n",
      "\n",
      "                      (F1-score@5: 0.0226, F1-score@10: 0.0153, F1-score@20: 0.0095, F1-score@50: 0.0045)\n",
      "\n",
      "                      (NDCG@5: 0.0296, NDCG@10: 0.0210, NDCG@20: 0.0118, NDCG@50: 0.0049)\n",
      "\n",
      "MRR: 0.1289113033109981\n",
      "MAP: 0.025067513548317114\n",
      "--------------------\n",
      "[[1, 0.03465425, 0.04536543, 0.060965173, 0.09765469, 0.03546227992572318, 0.032930403000051456, 0.029009450723162675, 0.024023476855959854, 0.03735033883468101, 0.0318496223045443, 0.0223121976381854, 0.012187458402337157, 0.1717572674970315, 0.038195357361045575, 0.737506628036499], [2, 0.034920342, 0.049537707, 0.06630957, 0.10376751, 0.036090099508033456, 0.03569413702971639, 0.031115291575316086, 0.024863518480978855, 0.03791606810322046, 0.03317129893816615, 0.023067262956760544, 0.012365936020238647, 0.17281249482928276, 0.03874251039192741, 0.7148474454879761], [3, 0.03885227, 0.049114645, 0.06668661, 0.10375823, 0.0395950206502221, 0.03564165216299002, 0.03125508788742816, 0.02472983703811252, 0.039751005920938644, 0.033499216083157105, 0.023218361380741112, 0.012373350616684533, 0.1737748618881017, 0.038488715112516746, 0.7070716619491577], [4, 0.038483042, 0.04900222, 0.0640814, 0.10516484, 0.039229523574198705, 0.035301578500518536, 0.03008911980334535, 0.0245585782795049, 0.039617270772184306, 0.0333939969270049, 0.022728360441856478, 0.01220824117457172, 0.1727280251381023, 0.03775703204435945, 0.703326940536499], [5, 0.03692979, 0.04693932, 0.06265045, 0.10107843, 0.03733291979352027, 0.033853338675597706, 0.029304826409967934, 0.023598067582014725, 0.0382539490763014, 0.03231336585687179, 0.022073252726157188, 0.011809149785912632, 0.16864992362950817, 0.03614342670436087, 0.701171875], [6, 0.03832389, 0.04826606, 0.060377385, 0.08977559, 0.03879739044253315, 0.03471991678206963, 0.02839345455253052, 0.020698862636109535, 0.039191465578006957, 0.03291920787668822, 0.021880947331778873, 0.011102645353351096, 0.1681212496695355, 0.035511252517397215, 0.6997437477111816], [7, 0.035294183, 0.046654638, 0.056574225, 0.07207098, 0.035861279776745025, 0.033482979362027376, 0.026390112826904184, 0.016536219891109434, 0.03786072413493088, 0.03214345604559421, 0.02093510353356544, 0.009803151410717265, 0.1636314666270846, 0.03396130550940773, 0.6987671852111816], [8, 0.035379622, 0.043760803, 0.049878336, 0.057385672, 0.03597876097975253, 0.03100636717251084, 0.022573388757909874, 0.012856941967818888, 0.03801771558478082, 0.030771443852279475, 0.019061670360274445, 0.0085417394249707, 0.15816996251477264, 0.03253562881831853, 0.6982789039611816], [9, 0.032719743, 0.035262145, 0.042486347, 0.051714934, 0.032984179507872954, 0.024670267770009767, 0.018582391177358715, 0.011173472350173663, 0.03658287044215415, 0.027470202510826346, 0.016902354046968476, 0.007676824102356778, 0.15057565400575124, 0.03125537800990395, 0.6981393694877625], [10, 0.025282232, 0.028555928, 0.03479781, 0.044350218, 0.02495019501603765, 0.019665450694784172, 0.01521044464494254, 0.009242460464551282, 0.030864491351509003, 0.02314207889839895, 0.01423300854000438, 0.006348447155564519, 0.13579057538487038, 0.027068882874949945, 0.6977906227111816], [11, 0.023073662, 0.025416495, 0.027687829, 0.035904836, 0.022738868194952737, 0.017073660685435327, 0.011641721907997298, 0.007462914421941007, 0.029941274570931393, 0.02181954853957925, 0.012633770130070528, 0.005758055664784506, 0.13309778063866226, 0.02608141515691925, 0.6977906227111816], [12, 0.022979675, 0.022979675, 0.02532251, 0.03342353, 0.022613554911744722, 0.015336877045208875, 0.010477294139123796, 0.006959171987587562, 0.029803372446895765, 0.020908552792651535, 0.012087670074341665, 0.005497008966915729, 0.13078621128017012, 0.025618333484917124, 0.6977869272232056], [13, 0.02307366, 0.02307366, 0.023360837, 0.027874121, 0.022738868194952744, 0.015430862007614888, 0.009628792744664178, 0.005508039360021215, 0.029941274570931393, 0.021115405964700126, 0.011873440288315365, 0.005141973286723592, 0.13121599850476084, 0.025550893626280866, 0.6974087953567505], [14, 0.02291702, 0.02291702, 0.02291702, 0.026014004, 0.02256798644512362, 0.01531338080460737, 0.00942871004804409, 0.005061149028485204, 0.029697502469573926, 0.02094476548534699, 0.011740784318347398, 0.004995634675172991, 0.12976520118865675, 0.02528418072660605, 0.6973023414611816], [15, 0.022969233, 0.022969233, 0.022969233, 0.026066218, 0.022604603962944145, 0.015331930468240136, 0.00943618895751937, 0.005062855777197177, 0.029788338631755652, 0.020916589252174572, 0.01172669620176119, 0.00498464548062267, 0.12960157264931532, 0.025276829280197834, 0.6973023414611816], [16, 0.02307366, 0.02307366, 0.02307366, 0.024062771, 0.02273886819495273, 0.015430862007614888, 0.009501006172971789, 0.004625514569573308, 0.029941274570931393, 0.021115405964700126, 0.011826104558023968, 0.004915097494665673, 0.13037833732301973, 0.025407797013777905, 0.6973023414611816], [17, 0.02307366, 0.02307366, 0.02307366, 0.02382781, 0.022738868194952737, 0.015430862007614888, 0.00950100617297179, 0.004590705324237746, 0.029941274570931393, 0.021115405964700126, 0.011826104558023968, 0.004909977400010186, 0.1301842532581054, 0.02532394919012996, 0.6973023414611816], [18, 0.022885691, 0.022885691, 0.022885691, 0.02363984, 0.02255089827014071, 0.015305548724406865, 0.009425818203046981, 0.004556528974271923, 0.029622514980768126, 0.020956026169618492, 0.011746414660483151, 0.00487821495433555, 0.12923175634495648, 0.025185241164592788, 0.6973023414611816], [19, 0.02307366, 0.02307366, 0.023386944, 0.023827808, 0.022738868194952744, 0.015430862007614888, 0.009582732227237892, 0.0045907053242377465, 0.029941274570931393, 0.021115405964700126, 0.011841412006940385, 0.004910307563491222, 0.13002084769348116, 0.025270669588593038, 0.6973023414611816], [20, 0.022818558, 0.022818558, 0.023131842, 0.023259424, 0.022451966730765955, 0.015227227922401854, 0.009452258985309539, 0.004491692649970603, 0.029520564015842694, 0.020825755484822326, 0.011644478498684956, 0.004826858911061085, 0.12808470883364872, 0.025001562161607597, 0.6973023414611816], [21, 0.022885691, 0.022885691, 0.023198973, 0.023326555, 0.022550898270140705, 0.015305548724406865, 0.00950754425731308, 0.0045210629507224835, 0.029622514980768126, 0.020956026169618492, 0.011761988775762624, 0.004873891069581802, 0.12899635080474853, 0.02514760453047173, 0.697309672832489], [22, 0.022885691, 0.022885691, 0.023198973, 0.023326557, 0.022550898270140715, 0.015305548724406868, 0.00950754425731308, 0.004521062950722484, 0.029622514980768126, 0.020956026169618492, 0.011762280104667844, 0.004874223494846234, 0.1289113033109981, 0.025067513548317114, 0.697309672832489]]\n",
      "-----------------------------------------------------------------------------------------\n"
     ]
    },
    {
     "name": "stderr",
     "output_type": "stream",
     "text": [
      "  0%|          | 1/1065 [00:00<04:51,  3.65it/s]"
     ]
    },
    {
     "name": "stdout",
     "output_type": "stream",
     "text": [
      "Epoch 23: 0% , Loss: 0.697266\n"
     ]
    },
    {
     "name": "stderr",
     "output_type": "stream",
     "text": [
      "  9%|▉         | 101/1065 [00:44<06:51,  2.34it/s]"
     ]
    },
    {
     "name": "stdout",
     "output_type": "stream",
     "text": [
      "Epoch 23: 9% , Loss: 0.697266\n"
     ]
    },
    {
     "name": "stderr",
     "output_type": "stream",
     "text": [
      " 19%|█▉        | 201/1065 [01:20<05:56,  2.43it/s]"
     ]
    },
    {
     "name": "stdout",
     "output_type": "stream",
     "text": [
      "Epoch 23: 19% , Loss: 0.698242\n"
     ]
    },
    {
     "name": "stderr",
     "output_type": "stream",
     "text": [
      " 28%|██▊       | 301/1065 [01:52<05:47,  2.20it/s]"
     ]
    },
    {
     "name": "stdout",
     "output_type": "stream",
     "text": [
      "Epoch 23: 28% , Loss: 0.698242\n"
     ]
    },
    {
     "name": "stderr",
     "output_type": "stream",
     "text": [
      " 38%|███▊      | 401/1065 [02:19<03:37,  3.05it/s]"
     ]
    },
    {
     "name": "stdout",
     "output_type": "stream",
     "text": [
      "Epoch 23: 38% , Loss: 0.698242\n"
     ]
    },
    {
     "name": "stderr",
     "output_type": "stream",
     "text": [
      " 47%|████▋     | 501/1065 [02:55<03:17,  2.85it/s]"
     ]
    },
    {
     "name": "stdout",
     "output_type": "stream",
     "text": [
      "Epoch 23: 47% , Loss: 0.698242\n"
     ]
    },
    {
     "name": "stderr",
     "output_type": "stream",
     "text": [
      " 56%|█████▋    | 601/1065 [03:30<02:37,  2.94it/s]"
     ]
    },
    {
     "name": "stdout",
     "output_type": "stream",
     "text": [
      "Epoch 23: 56% , Loss: 0.695312\n"
     ]
    },
    {
     "name": "stderr",
     "output_type": "stream",
     "text": [
      " 66%|██████▌   | 701/1065 [04:11<02:32,  2.39it/s]"
     ]
    },
    {
     "name": "stdout",
     "output_type": "stream",
     "text": [
      "Epoch 23: 66% , Loss: 0.698242\n"
     ]
    },
    {
     "name": "stderr",
     "output_type": "stream",
     "text": [
      " 75%|███████▌  | 801/1065 [04:55<01:56,  2.26it/s]"
     ]
    },
    {
     "name": "stdout",
     "output_type": "stream",
     "text": [
      "Epoch 23: 75% , Loss: 0.697266\n"
     ]
    },
    {
     "name": "stderr",
     "output_type": "stream",
     "text": [
      " 85%|████████▍ | 901/1065 [05:40<01:15,  2.16it/s]"
     ]
    },
    {
     "name": "stdout",
     "output_type": "stream",
     "text": [
      "Epoch 23: 85% , Loss: 0.698242\n"
     ]
    },
    {
     "name": "stderr",
     "output_type": "stream",
     "text": [
      " 94%|█████████▍| 1001/1065 [06:26<00:30,  2.10it/s]"
     ]
    },
    {
     "name": "stdout",
     "output_type": "stream",
     "text": [
      "Epoch 23: 94% , Loss: 0.697266\n"
     ]
    },
    {
     "name": "stderr",
     "output_type": "stream",
     "text": [
      "100%|██████████| 1065/1065 [06:58<00:00,  2.54it/s]"
     ]
    },
    {
     "name": "stdout",
     "output_type": "stream",
     "text": [
      "Epoch 23: 100% , Loss: 0.696289\n"
     ]
    },
    {
     "name": "stderr",
     "output_type": "stream",
     "text": [
      "\n"
     ]
    },
    {
     "name": "stdout",
     "output_type": "stream",
     "text": [
      "                      (HR@5: 0.0212, HR@10: 0.0217, HR@20: 0.0222, HR@50: 0.0240)\n",
      "\n",
      "                      (F1-score@5: 0.0216, F1-score@10: 0.0153, F1-score@20: 0.0098, F1-score@50: 0.0051)\n",
      "\n",
      "                      (NDCG@5: 0.0275, NDCG@10: 0.0211, NDCG@20: 0.0127, NDCG@50: 0.0054)\n",
      "\n",
      "MRR: 0.13155676719730477\n",
      "MAP: 0.023161640379670285\n",
      "train_loss= tensor(0.6974)\n",
      "--------------------\n"
     ]
    },
    {
     "name": "stderr",
     "output_type": "stream",
     "text": [
      "100%|██████████| 133/133 [00:47<00:00,  2.79it/s]\n"
     ]
    },
    {
     "name": "stdout",
     "output_type": "stream",
     "text": [
      "                      (HR@5: 0.0184, HR@10: 0.0184, HR@20: 0.0184, HR@50: 0.0185)\n",
      "\n",
      "                      (F1-score@5: 0.0194, F1-score@10: 0.0135, F1-score@20: 0.0085, F1-score@50: 0.0041)\n",
      "\n",
      "                      (NDCG@5: 0.0247, NDCG@10: 0.0198, NDCG@20: 0.0118, NDCG@50: 0.0050)\n",
      "\n",
      "MRR: 0.12182222475184837\n",
      "MAP: 0.020374311819633277\n",
      "val_loss= tensor(0.6973)\n",
      "--------------------\n"
     ]
    },
    {
     "name": "stderr",
     "output_type": "stream",
     "text": [
      "100%|██████████| 133/133 [00:45<00:00,  2.94it/s]\n"
     ]
    },
    {
     "name": "stdout",
     "output_type": "stream",
     "text": [
      "                      (HR@5: 0.0231, HR@10: 0.0231, HR@20: 0.0234, HR@50: 0.0235)\n",
      "\n",
      "                      (F1-score@5: 0.0227, F1-score@10: 0.0154, F1-score@20: 0.0096, F1-score@50: 0.0046)\n",
      "\n",
      "                      (NDCG@5: 0.0299, NDCG@10: 0.0211, NDCG@20: 0.0118, NDCG@50: 0.0049)\n",
      "\n",
      "MRR: 0.1297949361606645\n",
      "MAP: 0.025208553826998013\n",
      "--------------------\n",
      "[[1, 0.03465425, 0.04536543, 0.060965173, 0.09765469, 0.03546227992572318, 0.032930403000051456, 0.029009450723162675, 0.024023476855959854, 0.03735033883468101, 0.0318496223045443, 0.0223121976381854, 0.012187458402337157, 0.1717572674970315, 0.038195357361045575, 0.737506628036499], [2, 0.034920342, 0.049537707, 0.06630957, 0.10376751, 0.036090099508033456, 0.03569413702971639, 0.031115291575316086, 0.024863518480978855, 0.03791606810322046, 0.03317129893816615, 0.023067262956760544, 0.012365936020238647, 0.17281249482928276, 0.03874251039192741, 0.7148474454879761], [3, 0.03885227, 0.049114645, 0.06668661, 0.10375823, 0.0395950206502221, 0.03564165216299002, 0.03125508788742816, 0.02472983703811252, 0.039751005920938644, 0.033499216083157105, 0.023218361380741112, 0.012373350616684533, 0.1737748618881017, 0.038488715112516746, 0.7070716619491577], [4, 0.038483042, 0.04900222, 0.0640814, 0.10516484, 0.039229523574198705, 0.035301578500518536, 0.03008911980334535, 0.0245585782795049, 0.039617270772184306, 0.0333939969270049, 0.022728360441856478, 0.01220824117457172, 0.1727280251381023, 0.03775703204435945, 0.703326940536499], [5, 0.03692979, 0.04693932, 0.06265045, 0.10107843, 0.03733291979352027, 0.033853338675597706, 0.029304826409967934, 0.023598067582014725, 0.0382539490763014, 0.03231336585687179, 0.022073252726157188, 0.011809149785912632, 0.16864992362950817, 0.03614342670436087, 0.701171875], [6, 0.03832389, 0.04826606, 0.060377385, 0.08977559, 0.03879739044253315, 0.03471991678206963, 0.02839345455253052, 0.020698862636109535, 0.039191465578006957, 0.03291920787668822, 0.021880947331778873, 0.011102645353351096, 0.1681212496695355, 0.035511252517397215, 0.6997437477111816], [7, 0.035294183, 0.046654638, 0.056574225, 0.07207098, 0.035861279776745025, 0.033482979362027376, 0.026390112826904184, 0.016536219891109434, 0.03786072413493088, 0.03214345604559421, 0.02093510353356544, 0.009803151410717265, 0.1636314666270846, 0.03396130550940773, 0.6987671852111816], [8, 0.035379622, 0.043760803, 0.049878336, 0.057385672, 0.03597876097975253, 0.03100636717251084, 0.022573388757909874, 0.012856941967818888, 0.03801771558478082, 0.030771443852279475, 0.019061670360274445, 0.0085417394249707, 0.15816996251477264, 0.03253562881831853, 0.6982789039611816], [9, 0.032719743, 0.035262145, 0.042486347, 0.051714934, 0.032984179507872954, 0.024670267770009767, 0.018582391177358715, 0.011173472350173663, 0.03658287044215415, 0.027470202510826346, 0.016902354046968476, 0.007676824102356778, 0.15057565400575124, 0.03125537800990395, 0.6981393694877625], [10, 0.025282232, 0.028555928, 0.03479781, 0.044350218, 0.02495019501603765, 0.019665450694784172, 0.01521044464494254, 0.009242460464551282, 0.030864491351509003, 0.02314207889839895, 0.01423300854000438, 0.006348447155564519, 0.13579057538487038, 0.027068882874949945, 0.6977906227111816], [11, 0.023073662, 0.025416495, 0.027687829, 0.035904836, 0.022738868194952737, 0.017073660685435327, 0.011641721907997298, 0.007462914421941007, 0.029941274570931393, 0.02181954853957925, 0.012633770130070528, 0.005758055664784506, 0.13309778063866226, 0.02608141515691925, 0.6977906227111816], [12, 0.022979675, 0.022979675, 0.02532251, 0.03342353, 0.022613554911744722, 0.015336877045208875, 0.010477294139123796, 0.006959171987587562, 0.029803372446895765, 0.020908552792651535, 0.012087670074341665, 0.005497008966915729, 0.13078621128017012, 0.025618333484917124, 0.6977869272232056], [13, 0.02307366, 0.02307366, 0.023360837, 0.027874121, 0.022738868194952744, 0.015430862007614888, 0.009628792744664178, 0.005508039360021215, 0.029941274570931393, 0.021115405964700126, 0.011873440288315365, 0.005141973286723592, 0.13121599850476084, 0.025550893626280866, 0.6974087953567505], [14, 0.02291702, 0.02291702, 0.02291702, 0.026014004, 0.02256798644512362, 0.01531338080460737, 0.00942871004804409, 0.005061149028485204, 0.029697502469573926, 0.02094476548534699, 0.011740784318347398, 0.004995634675172991, 0.12976520118865675, 0.02528418072660605, 0.6973023414611816], [15, 0.022969233, 0.022969233, 0.022969233, 0.026066218, 0.022604603962944145, 0.015331930468240136, 0.00943618895751937, 0.005062855777197177, 0.029788338631755652, 0.020916589252174572, 0.01172669620176119, 0.00498464548062267, 0.12960157264931532, 0.025276829280197834, 0.6973023414611816], [16, 0.02307366, 0.02307366, 0.02307366, 0.024062771, 0.02273886819495273, 0.015430862007614888, 0.009501006172971789, 0.004625514569573308, 0.029941274570931393, 0.021115405964700126, 0.011826104558023968, 0.004915097494665673, 0.13037833732301973, 0.025407797013777905, 0.6973023414611816], [17, 0.02307366, 0.02307366, 0.02307366, 0.02382781, 0.022738868194952737, 0.015430862007614888, 0.00950100617297179, 0.004590705324237746, 0.029941274570931393, 0.021115405964700126, 0.011826104558023968, 0.004909977400010186, 0.1301842532581054, 0.02532394919012996, 0.6973023414611816], [18, 0.022885691, 0.022885691, 0.022885691, 0.02363984, 0.02255089827014071, 0.015305548724406865, 0.009425818203046981, 0.004556528974271923, 0.029622514980768126, 0.020956026169618492, 0.011746414660483151, 0.00487821495433555, 0.12923175634495648, 0.025185241164592788, 0.6973023414611816], [19, 0.02307366, 0.02307366, 0.023386944, 0.023827808, 0.022738868194952744, 0.015430862007614888, 0.009582732227237892, 0.0045907053242377465, 0.029941274570931393, 0.021115405964700126, 0.011841412006940385, 0.004910307563491222, 0.13002084769348116, 0.025270669588593038, 0.6973023414611816], [20, 0.022818558, 0.022818558, 0.023131842, 0.023259424, 0.022451966730765955, 0.015227227922401854, 0.009452258985309539, 0.004491692649970603, 0.029520564015842694, 0.020825755484822326, 0.011644478498684956, 0.004826858911061085, 0.12808470883364872, 0.025001562161607597, 0.6973023414611816], [21, 0.022885691, 0.022885691, 0.023198973, 0.023326555, 0.022550898270140705, 0.015305548724406865, 0.00950754425731308, 0.0045210629507224835, 0.029622514980768126, 0.020956026169618492, 0.011761988775762624, 0.004873891069581802, 0.12899635080474853, 0.02514760453047173, 0.697309672832489], [22, 0.022885691, 0.022885691, 0.023198973, 0.023326557, 0.022550898270140715, 0.015305548724406868, 0.00950754425731308, 0.004521062950722484, 0.029622514980768126, 0.020956026169618492, 0.011762280104667844, 0.004874223494846234, 0.1289113033109981, 0.025067513548317114, 0.697309672832489], [23, 0.02307366, 0.02307366, 0.023386944, 0.023514526, 0.022738868194952733, 0.015430862007614881, 0.009582732227237895, 0.004555239300688306, 0.029941274570931393, 0.021115405964700126, 0.01184197000220866, 0.004906147614268488, 0.1297949361606645, 0.025208553826998013, 0.6972766518592834]]\n",
      "-----------------------------------------------------------------------------------------\n"
     ]
    },
    {
     "name": "stderr",
     "output_type": "stream",
     "text": [
      "  0%|          | 1/1065 [00:00<08:43,  2.03it/s]"
     ]
    },
    {
     "name": "stdout",
     "output_type": "stream",
     "text": [
      "Epoch 24: 0% , Loss: 0.698242\n"
     ]
    },
    {
     "name": "stderr",
     "output_type": "stream",
     "text": [
      "  9%|▉         | 101/1065 [00:46<05:48,  2.76it/s]"
     ]
    },
    {
     "name": "stdout",
     "output_type": "stream",
     "text": [
      "Epoch 24: 9% , Loss: 0.697266\n"
     ]
    },
    {
     "name": "stderr",
     "output_type": "stream",
     "text": [
      " 19%|█▉        | 201/1065 [01:18<04:01,  3.58it/s]"
     ]
    },
    {
     "name": "stdout",
     "output_type": "stream",
     "text": [
      "Epoch 24: 19% , Loss: 0.698242\n"
     ]
    },
    {
     "name": "stderr",
     "output_type": "stream",
     "text": [
      " 28%|██▊       | 301/1065 [01:45<02:54,  4.37it/s]"
     ]
    },
    {
     "name": "stdout",
     "output_type": "stream",
     "text": [
      "Epoch 24: 28% , Loss: 0.696289\n"
     ]
    },
    {
     "name": "stderr",
     "output_type": "stream",
     "text": [
      " 38%|███▊      | 401/1065 [02:11<04:03,  2.72it/s]"
     ]
    },
    {
     "name": "stdout",
     "output_type": "stream",
     "text": [
      "Epoch 24: 38% , Loss: 0.697266\n"
     ]
    },
    {
     "name": "stderr",
     "output_type": "stream",
     "text": [
      " 47%|████▋     | 501/1065 [02:49<03:55,  2.39it/s]"
     ]
    },
    {
     "name": "stdout",
     "output_type": "stream",
     "text": [
      "Epoch 24: 47% , Loss: 0.697266\n"
     ]
    },
    {
     "name": "stderr",
     "output_type": "stream",
     "text": [
      " 56%|█████▋    | 601/1065 [03:24<02:48,  2.76it/s]"
     ]
    },
    {
     "name": "stdout",
     "output_type": "stream",
     "text": [
      "Epoch 24: 56% , Loss: 0.695801\n"
     ]
    },
    {
     "name": "stderr",
     "output_type": "stream",
     "text": [
      " 66%|██████▌   | 701/1065 [04:02<02:38,  2.30it/s]"
     ]
    },
    {
     "name": "stdout",
     "output_type": "stream",
     "text": [
      "Epoch 24: 66% , Loss: 0.696289\n"
     ]
    },
    {
     "name": "stderr",
     "output_type": "stream",
     "text": [
      " 75%|███████▌  | 801/1065 [04:48<01:58,  2.22it/s]"
     ]
    },
    {
     "name": "stdout",
     "output_type": "stream",
     "text": [
      "Epoch 24: 75% , Loss: 0.697266\n"
     ]
    },
    {
     "name": "stderr",
     "output_type": "stream",
     "text": [
      " 85%|████████▍ | 901/1065 [05:32<01:05,  2.49it/s]"
     ]
    },
    {
     "name": "stdout",
     "output_type": "stream",
     "text": [
      "Epoch 24: 85% , Loss: 0.696289\n"
     ]
    },
    {
     "name": "stderr",
     "output_type": "stream",
     "text": [
      " 94%|█████████▍| 1001/1065 [06:25<00:35,  1.82it/s]"
     ]
    },
    {
     "name": "stdout",
     "output_type": "stream",
     "text": [
      "Epoch 24: 94% , Loss: 0.697266\n"
     ]
    },
    {
     "name": "stderr",
     "output_type": "stream",
     "text": [
      "100%|██████████| 1065/1065 [06:58<00:00,  2.54it/s]"
     ]
    },
    {
     "name": "stdout",
     "output_type": "stream",
     "text": [
      "Epoch 24: 100% , Loss: 0.698242\n"
     ]
    },
    {
     "name": "stderr",
     "output_type": "stream",
     "text": [
      "\n"
     ]
    },
    {
     "name": "stdout",
     "output_type": "stream",
     "text": [
      "                      (HR@5: 0.0212, HR@10: 0.0216, HR@20: 0.0224, HR@50: 0.0242)\n",
      "\n",
      "                      (F1-score@5: 0.0216, F1-score@10: 0.0152, F1-score@20: 0.0099, F1-score@50: 0.0052)\n",
      "\n",
      "                      (NDCG@5: 0.0275, NDCG@10: 0.0210, NDCG@20: 0.0127, NDCG@50: 0.0054)\n",
      "\n",
      "MRR: 0.1312617834624897\n",
      "MAP: 0.023190002477915417\n",
      "train_loss= tensor(0.6974)\n",
      "--------------------\n"
     ]
    },
    {
     "name": "stderr",
     "output_type": "stream",
     "text": [
      "100%|██████████| 133/133 [00:50<00:00,  2.66it/s]\n"
     ]
    },
    {
     "name": "stdout",
     "output_type": "stream",
     "text": [
      "                      (HR@5: 0.0184, HR@10: 0.0184, HR@20: 0.0184, HR@50: 0.0185)\n",
      "\n",
      "                      (F1-score@5: 0.0194, F1-score@10: 0.0135, F1-score@20: 0.0085, F1-score@50: 0.0041)\n",
      "\n",
      "                      (NDCG@5: 0.0247, NDCG@10: 0.0198, NDCG@20: 0.0118, NDCG@50: 0.0050)\n",
      "\n",
      "MRR: 0.12181985192651157\n",
      "MAP: 0.020433490904274116\n",
      "val_loss= tensor(0.6970)\n",
      "--------------------\n"
     ]
    },
    {
     "name": "stderr",
     "output_type": "stream",
     "text": [
      "100%|██████████| 133/133 [00:45<00:00,  2.90it/s]\n"
     ]
    },
    {
     "name": "stdout",
     "output_type": "stream",
     "text": [
      "                      (HR@5: 0.0231, HR@10: 0.0231, HR@20: 0.0234, HR@50: 0.0235)\n",
      "\n",
      "                      (F1-score@5: 0.0227, F1-score@10: 0.0154, F1-score@20: 0.0096, F1-score@50: 0.0046)\n",
      "\n",
      "                      (NDCG@5: 0.0299, NDCG@10: 0.0211, NDCG@20: 0.0118, NDCG@50: 0.0049)\n",
      "\n",
      "MRR: 0.12980267621291144\n",
      "MAP: 0.025240319871019438\n",
      "--------------------\n",
      "[[1, 0.03465425, 0.04536543, 0.060965173, 0.09765469, 0.03546227992572318, 0.032930403000051456, 0.029009450723162675, 0.024023476855959854, 0.03735033883468101, 0.0318496223045443, 0.0223121976381854, 0.012187458402337157, 0.1717572674970315, 0.038195357361045575, 0.737506628036499], [2, 0.034920342, 0.049537707, 0.06630957, 0.10376751, 0.036090099508033456, 0.03569413702971639, 0.031115291575316086, 0.024863518480978855, 0.03791606810322046, 0.03317129893816615, 0.023067262956760544, 0.012365936020238647, 0.17281249482928276, 0.03874251039192741, 0.7148474454879761], [3, 0.03885227, 0.049114645, 0.06668661, 0.10375823, 0.0395950206502221, 0.03564165216299002, 0.03125508788742816, 0.02472983703811252, 0.039751005920938644, 0.033499216083157105, 0.023218361380741112, 0.012373350616684533, 0.1737748618881017, 0.038488715112516746, 0.7070716619491577], [4, 0.038483042, 0.04900222, 0.0640814, 0.10516484, 0.039229523574198705, 0.035301578500518536, 0.03008911980334535, 0.0245585782795049, 0.039617270772184306, 0.0333939969270049, 0.022728360441856478, 0.01220824117457172, 0.1727280251381023, 0.03775703204435945, 0.703326940536499], [5, 0.03692979, 0.04693932, 0.06265045, 0.10107843, 0.03733291979352027, 0.033853338675597706, 0.029304826409967934, 0.023598067582014725, 0.0382539490763014, 0.03231336585687179, 0.022073252726157188, 0.011809149785912632, 0.16864992362950817, 0.03614342670436087, 0.701171875], [6, 0.03832389, 0.04826606, 0.060377385, 0.08977559, 0.03879739044253315, 0.03471991678206963, 0.02839345455253052, 0.020698862636109535, 0.039191465578006957, 0.03291920787668822, 0.021880947331778873, 0.011102645353351096, 0.1681212496695355, 0.035511252517397215, 0.6997437477111816], [7, 0.035294183, 0.046654638, 0.056574225, 0.07207098, 0.035861279776745025, 0.033482979362027376, 0.026390112826904184, 0.016536219891109434, 0.03786072413493088, 0.03214345604559421, 0.02093510353356544, 0.009803151410717265, 0.1636314666270846, 0.03396130550940773, 0.6987671852111816], [8, 0.035379622, 0.043760803, 0.049878336, 0.057385672, 0.03597876097975253, 0.03100636717251084, 0.022573388757909874, 0.012856941967818888, 0.03801771558478082, 0.030771443852279475, 0.019061670360274445, 0.0085417394249707, 0.15816996251477264, 0.03253562881831853, 0.6982789039611816], [9, 0.032719743, 0.035262145, 0.042486347, 0.051714934, 0.032984179507872954, 0.024670267770009767, 0.018582391177358715, 0.011173472350173663, 0.03658287044215415, 0.027470202510826346, 0.016902354046968476, 0.007676824102356778, 0.15057565400575124, 0.03125537800990395, 0.6981393694877625], [10, 0.025282232, 0.028555928, 0.03479781, 0.044350218, 0.02495019501603765, 0.019665450694784172, 0.01521044464494254, 0.009242460464551282, 0.030864491351509003, 0.02314207889839895, 0.01423300854000438, 0.006348447155564519, 0.13579057538487038, 0.027068882874949945, 0.6977906227111816], [11, 0.023073662, 0.025416495, 0.027687829, 0.035904836, 0.022738868194952737, 0.017073660685435327, 0.011641721907997298, 0.007462914421941007, 0.029941274570931393, 0.02181954853957925, 0.012633770130070528, 0.005758055664784506, 0.13309778063866226, 0.02608141515691925, 0.6977906227111816], [12, 0.022979675, 0.022979675, 0.02532251, 0.03342353, 0.022613554911744722, 0.015336877045208875, 0.010477294139123796, 0.006959171987587562, 0.029803372446895765, 0.020908552792651535, 0.012087670074341665, 0.005497008966915729, 0.13078621128017012, 0.025618333484917124, 0.6977869272232056], [13, 0.02307366, 0.02307366, 0.023360837, 0.027874121, 0.022738868194952744, 0.015430862007614888, 0.009628792744664178, 0.005508039360021215, 0.029941274570931393, 0.021115405964700126, 0.011873440288315365, 0.005141973286723592, 0.13121599850476084, 0.025550893626280866, 0.6974087953567505], [14, 0.02291702, 0.02291702, 0.02291702, 0.026014004, 0.02256798644512362, 0.01531338080460737, 0.00942871004804409, 0.005061149028485204, 0.029697502469573926, 0.02094476548534699, 0.011740784318347398, 0.004995634675172991, 0.12976520118865675, 0.02528418072660605, 0.6973023414611816], [15, 0.022969233, 0.022969233, 0.022969233, 0.026066218, 0.022604603962944145, 0.015331930468240136, 0.00943618895751937, 0.005062855777197177, 0.029788338631755652, 0.020916589252174572, 0.01172669620176119, 0.00498464548062267, 0.12960157264931532, 0.025276829280197834, 0.6973023414611816], [16, 0.02307366, 0.02307366, 0.02307366, 0.024062771, 0.02273886819495273, 0.015430862007614888, 0.009501006172971789, 0.004625514569573308, 0.029941274570931393, 0.021115405964700126, 0.011826104558023968, 0.004915097494665673, 0.13037833732301973, 0.025407797013777905, 0.6973023414611816], [17, 0.02307366, 0.02307366, 0.02307366, 0.02382781, 0.022738868194952737, 0.015430862007614888, 0.00950100617297179, 0.004590705324237746, 0.029941274570931393, 0.021115405964700126, 0.011826104558023968, 0.004909977400010186, 0.1301842532581054, 0.02532394919012996, 0.6973023414611816], [18, 0.022885691, 0.022885691, 0.022885691, 0.02363984, 0.02255089827014071, 0.015305548724406865, 0.009425818203046981, 0.004556528974271923, 0.029622514980768126, 0.020956026169618492, 0.011746414660483151, 0.00487821495433555, 0.12923175634495648, 0.025185241164592788, 0.6973023414611816], [19, 0.02307366, 0.02307366, 0.023386944, 0.023827808, 0.022738868194952744, 0.015430862007614888, 0.009582732227237892, 0.0045907053242377465, 0.029941274570931393, 0.021115405964700126, 0.011841412006940385, 0.004910307563491222, 0.13002084769348116, 0.025270669588593038, 0.6973023414611816], [20, 0.022818558, 0.022818558, 0.023131842, 0.023259424, 0.022451966730765955, 0.015227227922401854, 0.009452258985309539, 0.004491692649970603, 0.029520564015842694, 0.020825755484822326, 0.011644478498684956, 0.004826858911061085, 0.12808470883364872, 0.025001562161607597, 0.6973023414611816], [21, 0.022885691, 0.022885691, 0.023198973, 0.023326555, 0.022550898270140705, 0.015305548724406865, 0.00950754425731308, 0.0045210629507224835, 0.029622514980768126, 0.020956026169618492, 0.011761988775762624, 0.004873891069581802, 0.12899635080474853, 0.02514760453047173, 0.697309672832489], [22, 0.022885691, 0.022885691, 0.023198973, 0.023326557, 0.022550898270140715, 0.015305548724406868, 0.00950754425731308, 0.004521062950722484, 0.029622514980768126, 0.020956026169618492, 0.011762280104667844, 0.004874223494846234, 0.1289113033109981, 0.025067513548317114, 0.697309672832489], [23, 0.02307366, 0.02307366, 0.023386944, 0.023514526, 0.022738868194952733, 0.015430862007614881, 0.009582732227237895, 0.004555239300688306, 0.029941274570931393, 0.021115405964700126, 0.01184197000220866, 0.004906147614268488, 0.1297949361606645, 0.025208553826998013, 0.6972766518592834], [24, 0.023073662, 0.023073662, 0.023386944, 0.023514526, 0.02273886819495274, 0.015430862007614888, 0.009582732227237888, 0.004555239300688307, 0.029941274570931393, 0.021115405964700126, 0.01184197000220866, 0.004906222096441272, 0.12980267621291144, 0.025240319871019438, 0.697019636631012]]\n",
      "-----------------------------------------------------------------------------------------\n"
     ]
    },
    {
     "name": "stderr",
     "output_type": "stream",
     "text": [
      "  0%|          | 1/1065 [00:00<08:48,  2.01it/s]"
     ]
    },
    {
     "name": "stdout",
     "output_type": "stream",
     "text": [
      "Epoch 25: 0% , Loss: 0.696289\n"
     ]
    },
    {
     "name": "stderr",
     "output_type": "stream",
     "text": [
      "  9%|▉         | 101/1065 [00:39<06:08,  2.61it/s]"
     ]
    },
    {
     "name": "stdout",
     "output_type": "stream",
     "text": [
      "Epoch 25: 9% , Loss: 0.697266\n"
     ]
    },
    {
     "name": "stderr",
     "output_type": "stream",
     "text": [
      " 19%|█▉        | 201/1065 [01:11<03:39,  3.93it/s]"
     ]
    },
    {
     "name": "stdout",
     "output_type": "stream",
     "text": [
      "Epoch 25: 19% , Loss: 0.696777\n"
     ]
    },
    {
     "name": "stderr",
     "output_type": "stream",
     "text": [
      " 28%|██▊       | 301/1065 [01:38<03:32,  3.59it/s]"
     ]
    },
    {
     "name": "stdout",
     "output_type": "stream",
     "text": [
      "Epoch 25: 28% , Loss: 0.697266\n"
     ]
    },
    {
     "name": "stderr",
     "output_type": "stream",
     "text": [
      " 38%|███▊      | 401/1065 [02:06<04:04,  2.71it/s]"
     ]
    },
    {
     "name": "stdout",
     "output_type": "stream",
     "text": [
      "Epoch 25: 38% , Loss: 0.693848\n"
     ]
    },
    {
     "name": "stderr",
     "output_type": "stream",
     "text": [
      " 47%|████▋     | 501/1065 [02:43<03:16,  2.88it/s]"
     ]
    },
    {
     "name": "stdout",
     "output_type": "stream",
     "text": [
      "Epoch 25: 47% , Loss: 0.697754\n"
     ]
    },
    {
     "name": "stderr",
     "output_type": "stream",
     "text": [
      " 56%|█████▋    | 601/1065 [03:24<03:11,  2.43it/s]"
     ]
    },
    {
     "name": "stdout",
     "output_type": "stream",
     "text": [
      "Epoch 25: 56% , Loss: 0.694824\n"
     ]
    },
    {
     "name": "stderr",
     "output_type": "stream",
     "text": [
      " 66%|██████▌   | 701/1065 [04:04<02:14,  2.70it/s]"
     ]
    },
    {
     "name": "stdout",
     "output_type": "stream",
     "text": [
      "Epoch 25: 66% , Loss: 0.698242\n"
     ]
    },
    {
     "name": "stderr",
     "output_type": "stream",
     "text": [
      " 75%|███████▌  | 801/1065 [04:49<02:17,  1.92it/s]"
     ]
    },
    {
     "name": "stdout",
     "output_type": "stream",
     "text": [
      "Epoch 25: 75% , Loss: 0.697266\n"
     ]
    },
    {
     "name": "stderr",
     "output_type": "stream",
     "text": [
      " 85%|████████▍ | 901/1065 [05:37<01:35,  1.73it/s]"
     ]
    },
    {
     "name": "stdout",
     "output_type": "stream",
     "text": [
      "Epoch 25: 85% , Loss: 0.697266\n"
     ]
    },
    {
     "name": "stderr",
     "output_type": "stream",
     "text": [
      " 94%|█████████▍| 1001/1065 [06:29<01:08,  1.08s/it]"
     ]
    },
    {
     "name": "stdout",
     "output_type": "stream",
     "text": [
      "Epoch 25: 94% , Loss: 0.695801\n"
     ]
    },
    {
     "name": "stderr",
     "output_type": "stream",
     "text": [
      "100%|██████████| 1065/1065 [07:03<00:00,  2.51it/s]"
     ]
    },
    {
     "name": "stdout",
     "output_type": "stream",
     "text": [
      "Epoch 25: 100% , Loss: 0.698242\n"
     ]
    },
    {
     "name": "stderr",
     "output_type": "stream",
     "text": [
      "\n"
     ]
    },
    {
     "name": "stdout",
     "output_type": "stream",
     "text": [
      "                      (HR@5: 0.0213, HR@10: 0.0216, HR@20: 0.0219, HR@50: 0.0236)\n",
      "\n",
      "                      (F1-score@5: 0.0217, F1-score@10: 0.0152, F1-score@20: 0.0097, F1-score@50: 0.0050)\n",
      "\n",
      "                      (NDCG@5: 0.0276, NDCG@10: 0.0210, NDCG@20: 0.0126, NDCG@50: 0.0054)\n",
      "\n",
      "MRR: 0.13138220190878525\n",
      "MAP: 0.023166043886438312\n",
      "train_loss= tensor(0.6973)\n",
      "--------------------\n"
     ]
    },
    {
     "name": "stderr",
     "output_type": "stream",
     "text": [
      "100%|██████████| 133/133 [00:42<00:00,  3.17it/s]\n"
     ]
    },
    {
     "name": "stdout",
     "output_type": "stream",
     "text": [
      "                      (HR@5: 0.0185, HR@10: 0.0185, HR@20: 0.0185, HR@50: 0.0186)\n",
      "\n",
      "                      (F1-score@5: 0.0195, F1-score@10: 0.0136, F1-score@20: 0.0086, F1-score@50: 0.0042)\n",
      "\n",
      "                      (NDCG@5: 0.0249, NDCG@10: 0.0200, NDCG@20: 0.0119, NDCG@50: 0.0050)\n",
      "\n",
      "MRR: 0.12272493016245256\n",
      "MAP: 0.020529173614238068\n",
      "val_loss= tensor(0.6968)\n",
      "--------------------\n"
     ]
    },
    {
     "name": "stderr",
     "output_type": "stream",
     "text": [
      "100%|██████████| 133/133 [00:39<00:00,  3.39it/s]\n"
     ]
    },
    {
     "name": "stdout",
     "output_type": "stream",
     "text": [
      "                      (HR@5: 0.0228, HR@10: 0.0228, HR@20: 0.0231, HR@50: 0.0232)\n",
      "\n",
      "                      (F1-score@5: 0.0225, F1-score@10: 0.0153, F1-score@20: 0.0095, F1-score@50: 0.0045)\n",
      "\n",
      "                      (NDCG@5: 0.0297, NDCG@10: 0.0210, NDCG@20: 0.0118, NDCG@50: 0.0049)\n",
      "\n",
      "MRR: 0.12883986264163738\n",
      "MAP: 0.024905061352694293\n",
      "--------------------\n",
      "[[1, 0.03465425, 0.04536543, 0.060965173, 0.09765469, 0.03546227992572318, 0.032930403000051456, 0.029009450723162675, 0.024023476855959854, 0.03735033883468101, 0.0318496223045443, 0.0223121976381854, 0.012187458402337157, 0.1717572674970315, 0.038195357361045575, 0.737506628036499], [2, 0.034920342, 0.049537707, 0.06630957, 0.10376751, 0.036090099508033456, 0.03569413702971639, 0.031115291575316086, 0.024863518480978855, 0.03791606810322046, 0.03317129893816615, 0.023067262956760544, 0.012365936020238647, 0.17281249482928276, 0.03874251039192741, 0.7148474454879761], [3, 0.03885227, 0.049114645, 0.06668661, 0.10375823, 0.0395950206502221, 0.03564165216299002, 0.03125508788742816, 0.02472983703811252, 0.039751005920938644, 0.033499216083157105, 0.023218361380741112, 0.012373350616684533, 0.1737748618881017, 0.038488715112516746, 0.7070716619491577], [4, 0.038483042, 0.04900222, 0.0640814, 0.10516484, 0.039229523574198705, 0.035301578500518536, 0.03008911980334535, 0.0245585782795049, 0.039617270772184306, 0.0333939969270049, 0.022728360441856478, 0.01220824117457172, 0.1727280251381023, 0.03775703204435945, 0.703326940536499], [5, 0.03692979, 0.04693932, 0.06265045, 0.10107843, 0.03733291979352027, 0.033853338675597706, 0.029304826409967934, 0.023598067582014725, 0.0382539490763014, 0.03231336585687179, 0.022073252726157188, 0.011809149785912632, 0.16864992362950817, 0.03614342670436087, 0.701171875], [6, 0.03832389, 0.04826606, 0.060377385, 0.08977559, 0.03879739044253315, 0.03471991678206963, 0.02839345455253052, 0.020698862636109535, 0.039191465578006957, 0.03291920787668822, 0.021880947331778873, 0.011102645353351096, 0.1681212496695355, 0.035511252517397215, 0.6997437477111816], [7, 0.035294183, 0.046654638, 0.056574225, 0.07207098, 0.035861279776745025, 0.033482979362027376, 0.026390112826904184, 0.016536219891109434, 0.03786072413493088, 0.03214345604559421, 0.02093510353356544, 0.009803151410717265, 0.1636314666270846, 0.03396130550940773, 0.6987671852111816], [8, 0.035379622, 0.043760803, 0.049878336, 0.057385672, 0.03597876097975253, 0.03100636717251084, 0.022573388757909874, 0.012856941967818888, 0.03801771558478082, 0.030771443852279475, 0.019061670360274445, 0.0085417394249707, 0.15816996251477264, 0.03253562881831853, 0.6982789039611816], [9, 0.032719743, 0.035262145, 0.042486347, 0.051714934, 0.032984179507872954, 0.024670267770009767, 0.018582391177358715, 0.011173472350173663, 0.03658287044215415, 0.027470202510826346, 0.016902354046968476, 0.007676824102356778, 0.15057565400575124, 0.03125537800990395, 0.6981393694877625], [10, 0.025282232, 0.028555928, 0.03479781, 0.044350218, 0.02495019501603765, 0.019665450694784172, 0.01521044464494254, 0.009242460464551282, 0.030864491351509003, 0.02314207889839895, 0.01423300854000438, 0.006348447155564519, 0.13579057538487038, 0.027068882874949945, 0.6977906227111816], [11, 0.023073662, 0.025416495, 0.027687829, 0.035904836, 0.022738868194952737, 0.017073660685435327, 0.011641721907997298, 0.007462914421941007, 0.029941274570931393, 0.02181954853957925, 0.012633770130070528, 0.005758055664784506, 0.13309778063866226, 0.02608141515691925, 0.6977906227111816], [12, 0.022979675, 0.022979675, 0.02532251, 0.03342353, 0.022613554911744722, 0.015336877045208875, 0.010477294139123796, 0.006959171987587562, 0.029803372446895765, 0.020908552792651535, 0.012087670074341665, 0.005497008966915729, 0.13078621128017012, 0.025618333484917124, 0.6977869272232056], [13, 0.02307366, 0.02307366, 0.023360837, 0.027874121, 0.022738868194952744, 0.015430862007614888, 0.009628792744664178, 0.005508039360021215, 0.029941274570931393, 0.021115405964700126, 0.011873440288315365, 0.005141973286723592, 0.13121599850476084, 0.025550893626280866, 0.6974087953567505], [14, 0.02291702, 0.02291702, 0.02291702, 0.026014004, 0.02256798644512362, 0.01531338080460737, 0.00942871004804409, 0.005061149028485204, 0.029697502469573926, 0.02094476548534699, 0.011740784318347398, 0.004995634675172991, 0.12976520118865675, 0.02528418072660605, 0.6973023414611816], [15, 0.022969233, 0.022969233, 0.022969233, 0.026066218, 0.022604603962944145, 0.015331930468240136, 0.00943618895751937, 0.005062855777197177, 0.029788338631755652, 0.020916589252174572, 0.01172669620176119, 0.00498464548062267, 0.12960157264931532, 0.025276829280197834, 0.6973023414611816], [16, 0.02307366, 0.02307366, 0.02307366, 0.024062771, 0.02273886819495273, 0.015430862007614888, 0.009501006172971789, 0.004625514569573308, 0.029941274570931393, 0.021115405964700126, 0.011826104558023968, 0.004915097494665673, 0.13037833732301973, 0.025407797013777905, 0.6973023414611816], [17, 0.02307366, 0.02307366, 0.02307366, 0.02382781, 0.022738868194952737, 0.015430862007614888, 0.00950100617297179, 0.004590705324237746, 0.029941274570931393, 0.021115405964700126, 0.011826104558023968, 0.004909977400010186, 0.1301842532581054, 0.02532394919012996, 0.6973023414611816], [18, 0.022885691, 0.022885691, 0.022885691, 0.02363984, 0.02255089827014071, 0.015305548724406865, 0.009425818203046981, 0.004556528974271923, 0.029622514980768126, 0.020956026169618492, 0.011746414660483151, 0.00487821495433555, 0.12923175634495648, 0.025185241164592788, 0.6973023414611816], [19, 0.02307366, 0.02307366, 0.023386944, 0.023827808, 0.022738868194952744, 0.015430862007614888, 0.009582732227237892, 0.0045907053242377465, 0.029941274570931393, 0.021115405964700126, 0.011841412006940385, 0.004910307563491222, 0.13002084769348116, 0.025270669588593038, 0.6973023414611816], [20, 0.022818558, 0.022818558, 0.023131842, 0.023259424, 0.022451966730765955, 0.015227227922401854, 0.009452258985309539, 0.004491692649970603, 0.029520564015842694, 0.020825755484822326, 0.011644478498684956, 0.004826858911061085, 0.12808470883364872, 0.025001562161607597, 0.6973023414611816], [21, 0.022885691, 0.022885691, 0.023198973, 0.023326555, 0.022550898270140705, 0.015305548724406865, 0.00950754425731308, 0.0045210629507224835, 0.029622514980768126, 0.020956026169618492, 0.011761988775762624, 0.004873891069581802, 0.12899635080474853, 0.02514760453047173, 0.697309672832489], [22, 0.022885691, 0.022885691, 0.023198973, 0.023326557, 0.022550898270140715, 0.015305548724406868, 0.00950754425731308, 0.004521062950722484, 0.029622514980768126, 0.020956026169618492, 0.011762280104667844, 0.004874223494846234, 0.1289113033109981, 0.025067513548317114, 0.697309672832489], [23, 0.02307366, 0.02307366, 0.023386944, 0.023514526, 0.022738868194952733, 0.015430862007614881, 0.009582732227237895, 0.004555239300688306, 0.029941274570931393, 0.021115405964700126, 0.01184197000220866, 0.004906147614268488, 0.1297949361606645, 0.025208553826998013, 0.6972766518592834], [24, 0.023073662, 0.023073662, 0.023386944, 0.023514526, 0.02273886819495274, 0.015430862007614888, 0.009582732227237888, 0.004555239300688307, 0.029941274570931393, 0.021115405964700126, 0.01184197000220866, 0.004906222096441272, 0.12980267621291144, 0.025240319871019438, 0.697019636631012], [25, 0.022760376, 0.022760376, 0.023073662, 0.023201244, 0.022503905788937694, 0.015286269757759475, 0.009501006172971789, 0.004519773277138868, 0.02967664370089209, 0.020983090529680476, 0.011775812284698836, 0.004879700590653303, 0.12883986264163738, 0.024905061352694293, 0.6968140602111816]]\n",
      "-----------------------------------------------------------------------------------------\n"
     ]
    },
    {
     "data": {
      "text/html": [
       "<div>\n",
       "<style scoped>\n",
       "    .dataframe tbody tr th:only-of-type {\n",
       "        vertical-align: middle;\n",
       "    }\n",
       "\n",
       "    .dataframe tbody tr th {\n",
       "        vertical-align: top;\n",
       "    }\n",
       "\n",
       "    .dataframe thead th {\n",
       "        text-align: right;\n",
       "    }\n",
       "</style>\n",
       "<table border=\"1\" class=\"dataframe\">\n",
       "  <thead>\n",
       "    <tr style=\"text-align: right;\">\n",
       "      <th></th>\n",
       "      <th>Epoch</th>\n",
       "      <th>HR@5</th>\n",
       "      <th>HR@10</th>\n",
       "      <th>HR@20</th>\n",
       "      <th>HR@50</th>\n",
       "      <th>F1-score@5</th>\n",
       "      <th>F1-score@10</th>\n",
       "      <th>F1-score@20</th>\n",
       "      <th>F1-score@50</th>\n",
       "      <th>NDCG@5</th>\n",
       "      <th>NDCG@10</th>\n",
       "      <th>NDCG@20</th>\n",
       "      <th>NDCG@50</th>\n",
       "      <th>MRR</th>\n",
       "      <th>MAP</th>\n",
       "      <th>val_loss</th>\n",
       "    </tr>\n",
       "  </thead>\n",
       "  <tbody>\n",
       "    <tr>\n",
       "      <th>0</th>\n",
       "      <td>1</td>\n",
       "      <td>0.034654</td>\n",
       "      <td>0.045365</td>\n",
       "      <td>0.060965</td>\n",
       "      <td>0.097655</td>\n",
       "      <td>0.035462</td>\n",
       "      <td>0.032930</td>\n",
       "      <td>0.029009</td>\n",
       "      <td>0.024023</td>\n",
       "      <td>0.037350</td>\n",
       "      <td>0.031850</td>\n",
       "      <td>0.022312</td>\n",
       "      <td>0.012187</td>\n",
       "      <td>0.171757</td>\n",
       "      <td>0.038195</td>\n",
       "      <td>0.737507</td>\n",
       "    </tr>\n",
       "    <tr>\n",
       "      <th>1</th>\n",
       "      <td>2</td>\n",
       "      <td>0.034920</td>\n",
       "      <td>0.049538</td>\n",
       "      <td>0.066310</td>\n",
       "      <td>0.103768</td>\n",
       "      <td>0.036090</td>\n",
       "      <td>0.035694</td>\n",
       "      <td>0.031115</td>\n",
       "      <td>0.024864</td>\n",
       "      <td>0.037916</td>\n",
       "      <td>0.033171</td>\n",
       "      <td>0.023067</td>\n",
       "      <td>0.012366</td>\n",
       "      <td>0.172812</td>\n",
       "      <td>0.038743</td>\n",
       "      <td>0.714847</td>\n",
       "    </tr>\n",
       "    <tr>\n",
       "      <th>2</th>\n",
       "      <td>3</td>\n",
       "      <td>0.038852</td>\n",
       "      <td>0.049115</td>\n",
       "      <td>0.066687</td>\n",
       "      <td>0.103758</td>\n",
       "      <td>0.039595</td>\n",
       "      <td>0.035642</td>\n",
       "      <td>0.031255</td>\n",
       "      <td>0.024730</td>\n",
       "      <td>0.039751</td>\n",
       "      <td>0.033499</td>\n",
       "      <td>0.023218</td>\n",
       "      <td>0.012373</td>\n",
       "      <td>0.173775</td>\n",
       "      <td>0.038489</td>\n",
       "      <td>0.707072</td>\n",
       "    </tr>\n",
       "    <tr>\n",
       "      <th>3</th>\n",
       "      <td>4</td>\n",
       "      <td>0.038483</td>\n",
       "      <td>0.049002</td>\n",
       "      <td>0.064081</td>\n",
       "      <td>0.105165</td>\n",
       "      <td>0.039230</td>\n",
       "      <td>0.035302</td>\n",
       "      <td>0.030089</td>\n",
       "      <td>0.024559</td>\n",
       "      <td>0.039617</td>\n",
       "      <td>0.033394</td>\n",
       "      <td>0.022728</td>\n",
       "      <td>0.012208</td>\n",
       "      <td>0.172728</td>\n",
       "      <td>0.037757</td>\n",
       "      <td>0.703327</td>\n",
       "    </tr>\n",
       "    <tr>\n",
       "      <th>4</th>\n",
       "      <td>5</td>\n",
       "      <td>0.036930</td>\n",
       "      <td>0.046939</td>\n",
       "      <td>0.062650</td>\n",
       "      <td>0.101078</td>\n",
       "      <td>0.037333</td>\n",
       "      <td>0.033853</td>\n",
       "      <td>0.029305</td>\n",
       "      <td>0.023598</td>\n",
       "      <td>0.038254</td>\n",
       "      <td>0.032313</td>\n",
       "      <td>0.022073</td>\n",
       "      <td>0.011809</td>\n",
       "      <td>0.168650</td>\n",
       "      <td>0.036143</td>\n",
       "      <td>0.701172</td>\n",
       "    </tr>\n",
       "    <tr>\n",
       "      <th>5</th>\n",
       "      <td>6</td>\n",
       "      <td>0.038324</td>\n",
       "      <td>0.048266</td>\n",
       "      <td>0.060377</td>\n",
       "      <td>0.089776</td>\n",
       "      <td>0.038797</td>\n",
       "      <td>0.034720</td>\n",
       "      <td>0.028393</td>\n",
       "      <td>0.020699</td>\n",
       "      <td>0.039191</td>\n",
       "      <td>0.032919</td>\n",
       "      <td>0.021881</td>\n",
       "      <td>0.011103</td>\n",
       "      <td>0.168121</td>\n",
       "      <td>0.035511</td>\n",
       "      <td>0.699744</td>\n",
       "    </tr>\n",
       "    <tr>\n",
       "      <th>6</th>\n",
       "      <td>7</td>\n",
       "      <td>0.035294</td>\n",
       "      <td>0.046655</td>\n",
       "      <td>0.056574</td>\n",
       "      <td>0.072071</td>\n",
       "      <td>0.035861</td>\n",
       "      <td>0.033483</td>\n",
       "      <td>0.026390</td>\n",
       "      <td>0.016536</td>\n",
       "      <td>0.037861</td>\n",
       "      <td>0.032143</td>\n",
       "      <td>0.020935</td>\n",
       "      <td>0.009803</td>\n",
       "      <td>0.163631</td>\n",
       "      <td>0.033961</td>\n",
       "      <td>0.698767</td>\n",
       "    </tr>\n",
       "    <tr>\n",
       "      <th>7</th>\n",
       "      <td>8</td>\n",
       "      <td>0.035380</td>\n",
       "      <td>0.043761</td>\n",
       "      <td>0.049878</td>\n",
       "      <td>0.057386</td>\n",
       "      <td>0.035979</td>\n",
       "      <td>0.031006</td>\n",
       "      <td>0.022573</td>\n",
       "      <td>0.012857</td>\n",
       "      <td>0.038018</td>\n",
       "      <td>0.030771</td>\n",
       "      <td>0.019062</td>\n",
       "      <td>0.008542</td>\n",
       "      <td>0.158170</td>\n",
       "      <td>0.032536</td>\n",
       "      <td>0.698279</td>\n",
       "    </tr>\n",
       "    <tr>\n",
       "      <th>8</th>\n",
       "      <td>9</td>\n",
       "      <td>0.032720</td>\n",
       "      <td>0.035262</td>\n",
       "      <td>0.042486</td>\n",
       "      <td>0.051715</td>\n",
       "      <td>0.032984</td>\n",
       "      <td>0.024670</td>\n",
       "      <td>0.018582</td>\n",
       "      <td>0.011173</td>\n",
       "      <td>0.036583</td>\n",
       "      <td>0.027470</td>\n",
       "      <td>0.016902</td>\n",
       "      <td>0.007677</td>\n",
       "      <td>0.150576</td>\n",
       "      <td>0.031255</td>\n",
       "      <td>0.698139</td>\n",
       "    </tr>\n",
       "    <tr>\n",
       "      <th>9</th>\n",
       "      <td>10</td>\n",
       "      <td>0.025282</td>\n",
       "      <td>0.028556</td>\n",
       "      <td>0.034798</td>\n",
       "      <td>0.044350</td>\n",
       "      <td>0.024950</td>\n",
       "      <td>0.019665</td>\n",
       "      <td>0.015210</td>\n",
       "      <td>0.009242</td>\n",
       "      <td>0.030864</td>\n",
       "      <td>0.023142</td>\n",
       "      <td>0.014233</td>\n",
       "      <td>0.006348</td>\n",
       "      <td>0.135791</td>\n",
       "      <td>0.027069</td>\n",
       "      <td>0.697791</td>\n",
       "    </tr>\n",
       "    <tr>\n",
       "      <th>10</th>\n",
       "      <td>11</td>\n",
       "      <td>0.023074</td>\n",
       "      <td>0.025416</td>\n",
       "      <td>0.027688</td>\n",
       "      <td>0.035905</td>\n",
       "      <td>0.022739</td>\n",
       "      <td>0.017074</td>\n",
       "      <td>0.011642</td>\n",
       "      <td>0.007463</td>\n",
       "      <td>0.029941</td>\n",
       "      <td>0.021820</td>\n",
       "      <td>0.012634</td>\n",
       "      <td>0.005758</td>\n",
       "      <td>0.133098</td>\n",
       "      <td>0.026081</td>\n",
       "      <td>0.697791</td>\n",
       "    </tr>\n",
       "    <tr>\n",
       "      <th>11</th>\n",
       "      <td>12</td>\n",
       "      <td>0.022980</td>\n",
       "      <td>0.022980</td>\n",
       "      <td>0.025323</td>\n",
       "      <td>0.033424</td>\n",
       "      <td>0.022614</td>\n",
       "      <td>0.015337</td>\n",
       "      <td>0.010477</td>\n",
       "      <td>0.006959</td>\n",
       "      <td>0.029803</td>\n",
       "      <td>0.020909</td>\n",
       "      <td>0.012088</td>\n",
       "      <td>0.005497</td>\n",
       "      <td>0.130786</td>\n",
       "      <td>0.025618</td>\n",
       "      <td>0.697787</td>\n",
       "    </tr>\n",
       "    <tr>\n",
       "      <th>12</th>\n",
       "      <td>13</td>\n",
       "      <td>0.023074</td>\n",
       "      <td>0.023074</td>\n",
       "      <td>0.023361</td>\n",
       "      <td>0.027874</td>\n",
       "      <td>0.022739</td>\n",
       "      <td>0.015431</td>\n",
       "      <td>0.009629</td>\n",
       "      <td>0.005508</td>\n",
       "      <td>0.029941</td>\n",
       "      <td>0.021115</td>\n",
       "      <td>0.011873</td>\n",
       "      <td>0.005142</td>\n",
       "      <td>0.131216</td>\n",
       "      <td>0.025551</td>\n",
       "      <td>0.697409</td>\n",
       "    </tr>\n",
       "    <tr>\n",
       "      <th>13</th>\n",
       "      <td>14</td>\n",
       "      <td>0.022917</td>\n",
       "      <td>0.022917</td>\n",
       "      <td>0.022917</td>\n",
       "      <td>0.026014</td>\n",
       "      <td>0.022568</td>\n",
       "      <td>0.015313</td>\n",
       "      <td>0.009429</td>\n",
       "      <td>0.005061</td>\n",
       "      <td>0.029698</td>\n",
       "      <td>0.020945</td>\n",
       "      <td>0.011741</td>\n",
       "      <td>0.004996</td>\n",
       "      <td>0.129765</td>\n",
       "      <td>0.025284</td>\n",
       "      <td>0.697302</td>\n",
       "    </tr>\n",
       "    <tr>\n",
       "      <th>14</th>\n",
       "      <td>15</td>\n",
       "      <td>0.022969</td>\n",
       "      <td>0.022969</td>\n",
       "      <td>0.022969</td>\n",
       "      <td>0.026066</td>\n",
       "      <td>0.022605</td>\n",
       "      <td>0.015332</td>\n",
       "      <td>0.009436</td>\n",
       "      <td>0.005063</td>\n",
       "      <td>0.029788</td>\n",
       "      <td>0.020917</td>\n",
       "      <td>0.011727</td>\n",
       "      <td>0.004985</td>\n",
       "      <td>0.129602</td>\n",
       "      <td>0.025277</td>\n",
       "      <td>0.697302</td>\n",
       "    </tr>\n",
       "    <tr>\n",
       "      <th>15</th>\n",
       "      <td>16</td>\n",
       "      <td>0.023074</td>\n",
       "      <td>0.023074</td>\n",
       "      <td>0.023074</td>\n",
       "      <td>0.024063</td>\n",
       "      <td>0.022739</td>\n",
       "      <td>0.015431</td>\n",
       "      <td>0.009501</td>\n",
       "      <td>0.004626</td>\n",
       "      <td>0.029941</td>\n",
       "      <td>0.021115</td>\n",
       "      <td>0.011826</td>\n",
       "      <td>0.004915</td>\n",
       "      <td>0.130378</td>\n",
       "      <td>0.025408</td>\n",
       "      <td>0.697302</td>\n",
       "    </tr>\n",
       "    <tr>\n",
       "      <th>16</th>\n",
       "      <td>17</td>\n",
       "      <td>0.023074</td>\n",
       "      <td>0.023074</td>\n",
       "      <td>0.023074</td>\n",
       "      <td>0.023828</td>\n",
       "      <td>0.022739</td>\n",
       "      <td>0.015431</td>\n",
       "      <td>0.009501</td>\n",
       "      <td>0.004591</td>\n",
       "      <td>0.029941</td>\n",
       "      <td>0.021115</td>\n",
       "      <td>0.011826</td>\n",
       "      <td>0.004910</td>\n",
       "      <td>0.130184</td>\n",
       "      <td>0.025324</td>\n",
       "      <td>0.697302</td>\n",
       "    </tr>\n",
       "    <tr>\n",
       "      <th>17</th>\n",
       "      <td>18</td>\n",
       "      <td>0.022886</td>\n",
       "      <td>0.022886</td>\n",
       "      <td>0.022886</td>\n",
       "      <td>0.023640</td>\n",
       "      <td>0.022551</td>\n",
       "      <td>0.015306</td>\n",
       "      <td>0.009426</td>\n",
       "      <td>0.004557</td>\n",
       "      <td>0.029623</td>\n",
       "      <td>0.020956</td>\n",
       "      <td>0.011746</td>\n",
       "      <td>0.004878</td>\n",
       "      <td>0.129232</td>\n",
       "      <td>0.025185</td>\n",
       "      <td>0.697302</td>\n",
       "    </tr>\n",
       "    <tr>\n",
       "      <th>18</th>\n",
       "      <td>19</td>\n",
       "      <td>0.023074</td>\n",
       "      <td>0.023074</td>\n",
       "      <td>0.023387</td>\n",
       "      <td>0.023828</td>\n",
       "      <td>0.022739</td>\n",
       "      <td>0.015431</td>\n",
       "      <td>0.009583</td>\n",
       "      <td>0.004591</td>\n",
       "      <td>0.029941</td>\n",
       "      <td>0.021115</td>\n",
       "      <td>0.011841</td>\n",
       "      <td>0.004910</td>\n",
       "      <td>0.130021</td>\n",
       "      <td>0.025271</td>\n",
       "      <td>0.697302</td>\n",
       "    </tr>\n",
       "    <tr>\n",
       "      <th>19</th>\n",
       "      <td>20</td>\n",
       "      <td>0.022819</td>\n",
       "      <td>0.022819</td>\n",
       "      <td>0.023132</td>\n",
       "      <td>0.023259</td>\n",
       "      <td>0.022452</td>\n",
       "      <td>0.015227</td>\n",
       "      <td>0.009452</td>\n",
       "      <td>0.004492</td>\n",
       "      <td>0.029521</td>\n",
       "      <td>0.020826</td>\n",
       "      <td>0.011644</td>\n",
       "      <td>0.004827</td>\n",
       "      <td>0.128085</td>\n",
       "      <td>0.025002</td>\n",
       "      <td>0.697302</td>\n",
       "    </tr>\n",
       "    <tr>\n",
       "      <th>20</th>\n",
       "      <td>21</td>\n",
       "      <td>0.022886</td>\n",
       "      <td>0.022886</td>\n",
       "      <td>0.023199</td>\n",
       "      <td>0.023327</td>\n",
       "      <td>0.022551</td>\n",
       "      <td>0.015306</td>\n",
       "      <td>0.009508</td>\n",
       "      <td>0.004521</td>\n",
       "      <td>0.029623</td>\n",
       "      <td>0.020956</td>\n",
       "      <td>0.011762</td>\n",
       "      <td>0.004874</td>\n",
       "      <td>0.128996</td>\n",
       "      <td>0.025148</td>\n",
       "      <td>0.697310</td>\n",
       "    </tr>\n",
       "    <tr>\n",
       "      <th>21</th>\n",
       "      <td>22</td>\n",
       "      <td>0.022886</td>\n",
       "      <td>0.022886</td>\n",
       "      <td>0.023199</td>\n",
       "      <td>0.023327</td>\n",
       "      <td>0.022551</td>\n",
       "      <td>0.015306</td>\n",
       "      <td>0.009508</td>\n",
       "      <td>0.004521</td>\n",
       "      <td>0.029623</td>\n",
       "      <td>0.020956</td>\n",
       "      <td>0.011762</td>\n",
       "      <td>0.004874</td>\n",
       "      <td>0.128911</td>\n",
       "      <td>0.025068</td>\n",
       "      <td>0.697310</td>\n",
       "    </tr>\n",
       "    <tr>\n",
       "      <th>22</th>\n",
       "      <td>23</td>\n",
       "      <td>0.023074</td>\n",
       "      <td>0.023074</td>\n",
       "      <td>0.023387</td>\n",
       "      <td>0.023515</td>\n",
       "      <td>0.022739</td>\n",
       "      <td>0.015431</td>\n",
       "      <td>0.009583</td>\n",
       "      <td>0.004555</td>\n",
       "      <td>0.029941</td>\n",
       "      <td>0.021115</td>\n",
       "      <td>0.011842</td>\n",
       "      <td>0.004906</td>\n",
       "      <td>0.129795</td>\n",
       "      <td>0.025209</td>\n",
       "      <td>0.697277</td>\n",
       "    </tr>\n",
       "    <tr>\n",
       "      <th>23</th>\n",
       "      <td>24</td>\n",
       "      <td>0.023074</td>\n",
       "      <td>0.023074</td>\n",
       "      <td>0.023387</td>\n",
       "      <td>0.023515</td>\n",
       "      <td>0.022739</td>\n",
       "      <td>0.015431</td>\n",
       "      <td>0.009583</td>\n",
       "      <td>0.004555</td>\n",
       "      <td>0.029941</td>\n",
       "      <td>0.021115</td>\n",
       "      <td>0.011842</td>\n",
       "      <td>0.004906</td>\n",
       "      <td>0.129803</td>\n",
       "      <td>0.025240</td>\n",
       "      <td>0.697020</td>\n",
       "    </tr>\n",
       "    <tr>\n",
       "      <th>24</th>\n",
       "      <td>25</td>\n",
       "      <td>0.022760</td>\n",
       "      <td>0.022760</td>\n",
       "      <td>0.023074</td>\n",
       "      <td>0.023201</td>\n",
       "      <td>0.022504</td>\n",
       "      <td>0.015286</td>\n",
       "      <td>0.009501</td>\n",
       "      <td>0.004520</td>\n",
       "      <td>0.029677</td>\n",
       "      <td>0.020983</td>\n",
       "      <td>0.011776</td>\n",
       "      <td>0.004880</td>\n",
       "      <td>0.128840</td>\n",
       "      <td>0.024905</td>\n",
       "      <td>0.696814</td>\n",
       "    </tr>\n",
       "  </tbody>\n",
       "</table>\n",
       "</div>"
      ],
      "text/plain": [
       "    Epoch      HR@5     HR@10     HR@20     HR@50  F1-score@5  F1-score@10  \\\n",
       "0       1  0.034654  0.045365  0.060965  0.097655    0.035462     0.032930   \n",
       "1       2  0.034920  0.049538  0.066310  0.103768    0.036090     0.035694   \n",
       "2       3  0.038852  0.049115  0.066687  0.103758    0.039595     0.035642   \n",
       "3       4  0.038483  0.049002  0.064081  0.105165    0.039230     0.035302   \n",
       "4       5  0.036930  0.046939  0.062650  0.101078    0.037333     0.033853   \n",
       "5       6  0.038324  0.048266  0.060377  0.089776    0.038797     0.034720   \n",
       "6       7  0.035294  0.046655  0.056574  0.072071    0.035861     0.033483   \n",
       "7       8  0.035380  0.043761  0.049878  0.057386    0.035979     0.031006   \n",
       "8       9  0.032720  0.035262  0.042486  0.051715    0.032984     0.024670   \n",
       "9      10  0.025282  0.028556  0.034798  0.044350    0.024950     0.019665   \n",
       "10     11  0.023074  0.025416  0.027688  0.035905    0.022739     0.017074   \n",
       "11     12  0.022980  0.022980  0.025323  0.033424    0.022614     0.015337   \n",
       "12     13  0.023074  0.023074  0.023361  0.027874    0.022739     0.015431   \n",
       "13     14  0.022917  0.022917  0.022917  0.026014    0.022568     0.015313   \n",
       "14     15  0.022969  0.022969  0.022969  0.026066    0.022605     0.015332   \n",
       "15     16  0.023074  0.023074  0.023074  0.024063    0.022739     0.015431   \n",
       "16     17  0.023074  0.023074  0.023074  0.023828    0.022739     0.015431   \n",
       "17     18  0.022886  0.022886  0.022886  0.023640    0.022551     0.015306   \n",
       "18     19  0.023074  0.023074  0.023387  0.023828    0.022739     0.015431   \n",
       "19     20  0.022819  0.022819  0.023132  0.023259    0.022452     0.015227   \n",
       "20     21  0.022886  0.022886  0.023199  0.023327    0.022551     0.015306   \n",
       "21     22  0.022886  0.022886  0.023199  0.023327    0.022551     0.015306   \n",
       "22     23  0.023074  0.023074  0.023387  0.023515    0.022739     0.015431   \n",
       "23     24  0.023074  0.023074  0.023387  0.023515    0.022739     0.015431   \n",
       "24     25  0.022760  0.022760  0.023074  0.023201    0.022504     0.015286   \n",
       "\n",
       "    F1-score@20  F1-score@50    NDCG@5   NDCG@10   NDCG@20   NDCG@50  \\\n",
       "0      0.029009     0.024023  0.037350  0.031850  0.022312  0.012187   \n",
       "1      0.031115     0.024864  0.037916  0.033171  0.023067  0.012366   \n",
       "2      0.031255     0.024730  0.039751  0.033499  0.023218  0.012373   \n",
       "3      0.030089     0.024559  0.039617  0.033394  0.022728  0.012208   \n",
       "4      0.029305     0.023598  0.038254  0.032313  0.022073  0.011809   \n",
       "5      0.028393     0.020699  0.039191  0.032919  0.021881  0.011103   \n",
       "6      0.026390     0.016536  0.037861  0.032143  0.020935  0.009803   \n",
       "7      0.022573     0.012857  0.038018  0.030771  0.019062  0.008542   \n",
       "8      0.018582     0.011173  0.036583  0.027470  0.016902  0.007677   \n",
       "9      0.015210     0.009242  0.030864  0.023142  0.014233  0.006348   \n",
       "10     0.011642     0.007463  0.029941  0.021820  0.012634  0.005758   \n",
       "11     0.010477     0.006959  0.029803  0.020909  0.012088  0.005497   \n",
       "12     0.009629     0.005508  0.029941  0.021115  0.011873  0.005142   \n",
       "13     0.009429     0.005061  0.029698  0.020945  0.011741  0.004996   \n",
       "14     0.009436     0.005063  0.029788  0.020917  0.011727  0.004985   \n",
       "15     0.009501     0.004626  0.029941  0.021115  0.011826  0.004915   \n",
       "16     0.009501     0.004591  0.029941  0.021115  0.011826  0.004910   \n",
       "17     0.009426     0.004557  0.029623  0.020956  0.011746  0.004878   \n",
       "18     0.009583     0.004591  0.029941  0.021115  0.011841  0.004910   \n",
       "19     0.009452     0.004492  0.029521  0.020826  0.011644  0.004827   \n",
       "20     0.009508     0.004521  0.029623  0.020956  0.011762  0.004874   \n",
       "21     0.009508     0.004521  0.029623  0.020956  0.011762  0.004874   \n",
       "22     0.009583     0.004555  0.029941  0.021115  0.011842  0.004906   \n",
       "23     0.009583     0.004555  0.029941  0.021115  0.011842  0.004906   \n",
       "24     0.009501     0.004520  0.029677  0.020983  0.011776  0.004880   \n",
       "\n",
       "         MRR       MAP  val_loss  \n",
       "0   0.171757  0.038195  0.737507  \n",
       "1   0.172812  0.038743  0.714847  \n",
       "2   0.173775  0.038489  0.707072  \n",
       "3   0.172728  0.037757  0.703327  \n",
       "4   0.168650  0.036143  0.701172  \n",
       "5   0.168121  0.035511  0.699744  \n",
       "6   0.163631  0.033961  0.698767  \n",
       "7   0.158170  0.032536  0.698279  \n",
       "8   0.150576  0.031255  0.698139  \n",
       "9   0.135791  0.027069  0.697791  \n",
       "10  0.133098  0.026081  0.697791  \n",
       "11  0.130786  0.025618  0.697787  \n",
       "12  0.131216  0.025551  0.697409  \n",
       "13  0.129765  0.025284  0.697302  \n",
       "14  0.129602  0.025277  0.697302  \n",
       "15  0.130378  0.025408  0.697302  \n",
       "16  0.130184  0.025324  0.697302  \n",
       "17  0.129232  0.025185  0.697302  \n",
       "18  0.130021  0.025271  0.697302  \n",
       "19  0.128085  0.025002  0.697302  \n",
       "20  0.128996  0.025148  0.697310  \n",
       "21  0.128911  0.025068  0.697310  \n",
       "22  0.129795  0.025209  0.697277  \n",
       "23  0.129803  0.025240  0.697020  \n",
       "24  0.128840  0.024905  0.696814  "
      ]
     },
     "execution_count": 35,
     "metadata": {},
     "output_type": "execute_result"
    }
   ],
   "source": [
    "# 消融實驗 w/o Item2vec and Confidence\n",
    "# MyModel02\n",
    "# 固定參數: epochs35 Transformer_layer=4 batch_size=8 embedding_size=32 hidden_size=128 lr=0.0001 num_layer=4 num_head=4\n",
    "\n",
    "results = []\n",
    "\n",
    "for epoch in range( 1  , EPOCHS + 1 ):\n",
    "    train_loss = train_model()\n",
    "    print(\"train_loss=\",train_loss)\n",
    "    print('-'*20)\n",
    "    val_loss,hr_5_rec = evaluate_model()\n",
    "    print(\"val_loss=\",val_loss)\n",
    "    print('-' * 20)\n",
    "    test_loss,test_hr_5_rec,hr_list,f1_list,ndcg_list, mrr_score, map_score = test_model()\n",
    "    print('-' * 20)\n",
    "    result = [epoch] + hr_list + f1_list + ndcg_list + [mrr_score,map_score] + [val_loss.item()]\n",
    "    results.append(result)\n",
    "    print(results)\n",
    "    print('-' * 89)\n",
    "    \n",
    "    collected = gc.collect()\n",
    "    torch.cuda.empty_cache()\n",
    "\n",
    "\n",
    "record_df = pd.DataFrame(results,columns=['Epoch','HR@5', 'HR@10', 'HR@20', 'HR@50', 'F1-score@5', 'F1-score@10', 'F1-score@20', 'F1-score@50',\n",
    "                           'NDCG@5', 'NDCG@10', 'NDCG@20', 'NDCG@50','MRR','MAP','val_loss'])\n",
    "record_df"
   ]
  }
 ],
 "metadata": {
  "kernelspec": {
   "display_name": "Python 3 (ipykernel)",
   "language": "python",
   "name": "python3"
  },
  "language_info": {
   "codemirror_mode": {
    "name": "ipython",
    "version": 3
   },
   "file_extension": ".py",
   "mimetype": "text/x-python",
   "name": "python",
   "nbconvert_exporter": "python",
   "pygments_lexer": "ipython3",
   "version": "3.11.7"
  }
 },
 "nbformat": 4,
 "nbformat_minor": 5
}
