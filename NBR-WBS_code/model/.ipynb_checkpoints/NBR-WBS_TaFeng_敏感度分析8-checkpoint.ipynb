{
 "cells": [
  {
   "cell_type": "markdown",
   "id": "a246ddd9",
   "metadata": {},
   "source": [
    "# 下載套件"
   ]
  },
  {
   "cell_type": "code",
   "execution_count": 1,
   "id": "72209793",
   "metadata": {},
   "outputs": [],
   "source": [
    "import torch\n",
    "import torch.nn as nn\n",
    "from torch import nn, matmul, softmax\n",
    "from torch.nn.init import xavier_uniform_\n",
    "import torch.nn.functional as F\n",
    "import torch.nn.utils.rnn as rnn_utils\n",
    "from torch.autograd import Variable\n",
    "\n",
    "import numpy as np\n",
    "import pandas as pd\n",
    "import gensim\n",
    "from gensim.models import KeyedVectors\n",
    "import pickle\n",
    "import gzip \n",
    "import gc\n",
    "import os\n",
    "import random"
   ]
  },
  {
   "cell_type": "code",
   "execution_count": 2,
   "id": "e3db86c1",
   "metadata": {},
   "outputs": [],
   "source": [
    "from torch.utils.data import DataLoader, Dataset\n",
    "from torch.utils.data.dataset import random_split\n",
    "\n",
    "from tqdm import tqdm\n",
    "from collections import Counter\n",
    "\n",
    "import math"
   ]
  },
  {
   "cell_type": "markdown",
   "id": "d32d7025",
   "metadata": {},
   "source": [
    "# 參數設置"
   ]
  },
  {
   "cell_type": "code",
   "execution_count": 3,
   "id": "6da217e0",
   "metadata": {},
   "outputs": [],
   "source": [
    "# 超參數\n",
    "EPOCHS = 25\n",
    "LEARNING_RATE = 0.0001                # Learning_rate    TaFeng = 0.0001         Dunnhumby = 0.00001\n",
    "BATCH_SIZE = 16\n",
    "ALPHA = 0.1 \n",
    "BETA = 0.95                         # TaFeng = 0.95, Dunnhumby = 0.001\n",
    "EMBEDDING_DIMENSION = 32               # 嵌入維度   TaFeng = 32, Dunnhumby = 32\n",
    "MODEL_DIMENSION = EMBEDDING_DIMENSION  # 模型維度\n",
    "HIDDEN_DIMENSION = 128                 # MLP 隱藏層維度  128\n",
    "HIDDEN_SIZE = 16                       # LSTM 隱藏層維度  \n",
    "NUM_HEAD = 4\n",
    "NUM_LAYER = 4\n",
    "\n",
    "isMC = 1\n",
    "isI2V = 1"
   ]
  },
  {
   "cell_type": "markdown",
   "id": "4283cbc8",
   "metadata": {},
   "source": [
    "# 匯入檔案\n",
    "- item2Vec_TaFeng.32d.model\n",
    "- TaFeng_user_cart_itemid_list.gz\n",
    "- Ta_feng_clean.csv"
   ]
  },
  {
   "cell_type": "code",
   "execution_count": 4,
   "id": "3715f2a4",
   "metadata": {},
   "outputs": [],
   "source": [
    "# 資料集\n",
    "DATASET_NAME = \"TaFeng\"     # 讀取TaFeng資料\n",
    "# DATASET_NAME = \"Dunnhumby\"  # 讀取Dunnhumby資料\n",
    "# DATASET_NAME = \"Instacart\"  # 讀取Instacart資料"
   ]
  },
  {
   "cell_type": "code",
   "execution_count": 5,
   "id": "32520298",
   "metadata": {},
   "outputs": [
    {
     "data": {
      "text/plain": [
       "torch.Size([15764, 32])"
      ]
     },
     "execution_count": 5,
     "metadata": {},
     "output_type": "execute_result"
    }
   ],
   "source": [
    "# load word2Vec pre_train model\n",
    "model_filename = f\"../preprocessing-data/item2vec_models/item2vec_{DATASET_NAME}.{EMBEDDING_DIMENSION}d.model\"\n",
    "# {DATASET}\n",
    "with open(model_filename, \"rb\") as fp:\n",
    "    model = pickle.load(fp)\n",
    "weights = torch.FloatTensor(model.wv.vectors)\n",
    "weights.shape"
   ]
  },
  {
   "cell_type": "code",
   "execution_count": 6,
   "id": "bbe80d00",
   "metadata": {
    "scrolled": true
   },
   "outputs": [
    {
     "data": {
      "text/plain": [
       "[(1113,\n",
       "  [[0, 1, 2], [3, 4, 5, 6, 7, 8], [9, 10, 11, 12, 13, 14, 15]],\n",
       "  [3, 6, 7]),\n",
       " (5241,\n",
       "  [[16, 17, 18, 19, 20, 21],\n",
       "   [22, 23, 24, 25, 26, 27, 28, 29, 30, 31],\n",
       "   [32, 33, 34, 35, 36, 37, 38, 39, 40, 41, 42, 43, 44, 45, 46, 47],\n",
       "   [48, 49, 50, 51, 52]],\n",
       "  [6, 10, 16, 5])]"
      ]
     },
     "execution_count": 6,
     "metadata": {},
     "output_type": "execute_result"
    }
   ],
   "source": [
    "# {DATASET} user_cart_itemid_list 用戶id, 購物籃時間差(不會使用到), 此用戶的購物籃串列(每個串列包含多項目)。\n",
    "with gzip.open(f\"../preprocessing-data/{DATASET_NAME}_user_cart_itemid_list.gz\", \"rb\") as fp:\n",
    "    user_cart_itemid_list = pickle.load(fp)\n",
    "user_cart_itemid_list[:2]"
   ]
  },
  {
   "cell_type": "code",
   "execution_count": 7,
   "id": "361c43d7",
   "metadata": {},
   "outputs": [],
   "source": [
    "# Load {DATASET} confidences_Matrix\n",
    "with gzip.open(f\"../preprocessing-data/confidences/{DATASET_NAME}_confidences_array.gz\", \"rb\") as fp:\n",
    "    confidences = pickle.load(fp)"
   ]
  },
  {
   "cell_type": "code",
   "execution_count": 8,
   "id": "b83d2fe8",
   "metadata": {},
   "outputs": [
    {
     "name": "stdout",
     "output_type": "stream",
     "text": [
      "72\n"
     ]
    },
    {
     "data": {
      "text/html": [
       "<div>\n",
       "<style scoped>\n",
       "    .dataframe tbody tr th:only-of-type {\n",
       "        vertical-align: middle;\n",
       "    }\n",
       "\n",
       "    .dataframe tbody tr th {\n",
       "        vertical-align: top;\n",
       "    }\n",
       "\n",
       "    .dataframe thead th {\n",
       "        text-align: right;\n",
       "    }\n",
       "</style>\n",
       "<table border=\"1\" class=\"dataframe\">\n",
       "  <thead>\n",
       "    <tr style=\"text-align: right;\">\n",
       "      <th></th>\n",
       "      <th>CUSTOMER_ID</th>\n",
       "      <th>PRODUCT_ID</th>\n",
       "      <th>TRANSACTION_DT</th>\n",
       "      <th>CART_ID</th>\n",
       "      <th>NEW_ITEM_ID</th>\n",
       "    </tr>\n",
       "  </thead>\n",
       "  <tbody>\n",
       "    <tr>\n",
       "      <th>0</th>\n",
       "      <td>1113</td>\n",
       "      <td>4902105011621</td>\n",
       "      <td>2000-11-26</td>\n",
       "      <td>0</td>\n",
       "      <td>0</td>\n",
       "    </tr>\n",
       "    <tr>\n",
       "      <th>1</th>\n",
       "      <td>1113</td>\n",
       "      <td>7616100830794</td>\n",
       "      <td>2000-11-26</td>\n",
       "      <td>0</td>\n",
       "      <td>1</td>\n",
       "    </tr>\n",
       "    <tr>\n",
       "      <th>2</th>\n",
       "      <td>1113</td>\n",
       "      <td>4710892632017</td>\n",
       "      <td>2000-11-26</td>\n",
       "      <td>0</td>\n",
       "      <td>2</td>\n",
       "    </tr>\n",
       "    <tr>\n",
       "      <th>3</th>\n",
       "      <td>1113</td>\n",
       "      <td>4710905340113</td>\n",
       "      <td>2000-11-27</td>\n",
       "      <td>1</td>\n",
       "      <td>3</td>\n",
       "    </tr>\n",
       "    <tr>\n",
       "      <th>4</th>\n",
       "      <td>1113</td>\n",
       "      <td>4717362901277</td>\n",
       "      <td>2000-11-27</td>\n",
       "      <td>1</td>\n",
       "      <td>4</td>\n",
       "    </tr>\n",
       "    <tr>\n",
       "      <th>...</th>\n",
       "      <td>...</td>\n",
       "      <td>...</td>\n",
       "      <td>...</td>\n",
       "      <td>...</td>\n",
       "      <td>...</td>\n",
       "    </tr>\n",
       "    <tr>\n",
       "      <th>533054</th>\n",
       "      <td>20002000</td>\n",
       "      <td>4710339772139</td>\n",
       "      <td>2001-01-20</td>\n",
       "      <td>62360</td>\n",
       "      <td>4546</td>\n",
       "    </tr>\n",
       "    <tr>\n",
       "      <th>533055</th>\n",
       "      <td>20002000</td>\n",
       "      <td>20513184</td>\n",
       "      <td>2001-01-20</td>\n",
       "      <td>62360</td>\n",
       "      <td>1351</td>\n",
       "    </tr>\n",
       "    <tr>\n",
       "      <th>533056</th>\n",
       "      <td>20002000</td>\n",
       "      <td>4714800731229</td>\n",
       "      <td>2001-01-20</td>\n",
       "      <td>62360</td>\n",
       "      <td>2946</td>\n",
       "    </tr>\n",
       "    <tr>\n",
       "      <th>533057</th>\n",
       "      <td>20002000</td>\n",
       "      <td>4714541091071</td>\n",
       "      <td>2001-01-20</td>\n",
       "      <td>62360</td>\n",
       "      <td>7382</td>\n",
       "    </tr>\n",
       "    <tr>\n",
       "      <th>533058</th>\n",
       "      <td>20002000</td>\n",
       "      <td>4710018008634</td>\n",
       "      <td>2001-01-20</td>\n",
       "      <td>62360</td>\n",
       "      <td>2629</td>\n",
       "    </tr>\n",
       "  </tbody>\n",
       "</table>\n",
       "<p>533059 rows × 5 columns</p>\n",
       "</div>"
      ],
      "text/plain": [
       "        CUSTOMER_ID     PRODUCT_ID TRANSACTION_DT  CART_ID  NEW_ITEM_ID\n",
       "0              1113  4902105011621     2000-11-26        0            0\n",
       "1              1113  7616100830794     2000-11-26        0            1\n",
       "2              1113  4710892632017     2000-11-26        0            2\n",
       "3              1113  4710905340113     2000-11-27        1            3\n",
       "4              1113  4717362901277     2000-11-27        1            4\n",
       "...             ...            ...            ...      ...          ...\n",
       "533054     20002000  4710339772139     2001-01-20    62360         4546\n",
       "533055     20002000       20513184     2001-01-20    62360         1351\n",
       "533056     20002000  4714800731229     2001-01-20    62360         2946\n",
       "533057     20002000  4714541091071     2001-01-20    62360         7382\n",
       "533058     20002000  4710018008634     2001-01-20    62360         2629\n",
       "\n",
       "[533059 rows x 5 columns]"
      ]
     },
     "execution_count": 8,
     "metadata": {},
     "output_type": "execute_result"
    }
   ],
   "source": [
    "dataset = pd.read_csv(f\"../cleaned_dataset/{DATASET_NAME}_clean.csv\")\n",
    "\n",
    "# 最多購物籃\n",
    "max_cart_count = dataset.groupby(\"CUSTOMER_ID\")[\"CART_ID\"].nunique().max()\n",
    "print(max_cart_count)\n",
    "\n",
    "dataset"
   ]
  },
  {
   "cell_type": "markdown",
   "id": "a0877d82",
   "metadata": {},
   "source": [
    "# 切分資料集\n",
    "- 分成輸入資料與標籤資料\n",
    "- 訓練集:驗證集:測試集 = 7:1:2"
   ]
  },
  {
   "cell_type": "code",
   "execution_count": 9,
   "id": "73e9cf41",
   "metadata": {},
   "outputs": [],
   "source": [
    "# 切分資料集\n",
    "# train_set_size = int(len(user_cart_itemid_list) * 0.8)\n",
    "# valid_set_size = int(len(user_cart_itemid_list) * 0.1)\n",
    "# test_set_size = len(user_cart_itemid_list)-train_set_size-valid_set_size\n",
    "# train_set, valid_set, test_set = random_split(user_cart_itemid_list, [train_set_size, valid_set_size, test_set_size])\n",
    "# print(len(train_set))\n",
    "# print(len(valid_set))\n",
    "# print(len(test_set))"
   ]
  },
  {
   "cell_type": "code",
   "execution_count": 10,
   "id": "5edaa93d",
   "metadata": {},
   "outputs": [],
   "source": [
    "# 將切割好的資料集暫存起來\n",
    "\n",
    "# # 訓練集\n",
    "# filepath = \"../preprocessing-data/TaFeng_dataset/train_set.pkl\"\n",
    "# with open(filepath, \"wb\") as f:\n",
    "#     pickle.dump(train_set, f)\n",
    "# # 驗證集\n",
    "# filepath = \"../preprocessing-data/TaFeng_dataset/valid_set.pkl\"\n",
    "# with open(filepath, \"wb\") as f:\n",
    "#     pickle.dump(valid_set, f)\n",
    "# # 測試集\n",
    "# filepath = \"../preprocessing-data/TaFeng_dataset/test_set.pkl\"\n",
    "# with open(filepath, \"wb\") as f:\n",
    "#     pickle.dump(test_set, f)"
   ]
  },
  {
   "cell_type": "code",
   "execution_count": 11,
   "id": "b203d0c9",
   "metadata": {},
   "outputs": [],
   "source": [
    "# 讀取之前暫存的資料集\n",
    "\n",
    "# 載入訓練、驗證、測試集\n",
    "with open(f\"../preprocessing-data/{DATASET_NAME}_dataset/train_set.pkl\", \"rb\") as fp:\n",
    "    train_set = pickle.load(fp)\n",
    "with open(f\"../preprocessing-data/{DATASET_NAME}_dataset/valid_set.pkl\", \"rb\") as fp:\n",
    "    valid_set = pickle.load(fp)\n",
    "with open(f\"../preprocessing-data/{DATASET_NAME}_dataset/test_set.pkl\", \"rb\") as fp:\n",
    "    test_set = pickle.load(fp)"
   ]
  },
  {
   "cell_type": "markdown",
   "id": "c9585447",
   "metadata": {},
   "source": [
    "# Batch"
   ]
  },
  {
   "cell_type": "code",
   "execution_count": 12,
   "id": "a209539b",
   "metadata": {
    "scrolled": true
   },
   "outputs": [
    {
     "data": {
      "text/plain": [
       "device(type='cuda')"
      ]
     },
     "execution_count": 12,
     "metadata": {},
     "output_type": "execute_result"
    }
   ],
   "source": [
    "device = torch.device(\"cuda\" if torch.cuda.is_available() else \"cpu\")\n",
    "device"
   ]
  },
  {
   "cell_type": "code",
   "execution_count": 13,
   "id": "b348e2b5",
   "metadata": {},
   "outputs": [],
   "source": [
    "# 定義資料轉換函數(於collate_batch函式中使用)\n",
    "item_index_pipeline = lambda x : [[model.wv.key_to_index[j] for j in i] for i in x] # 取得購物籃中，項目的索引值(只有使用Item2Vec時會需要)\n",
    "item_label_pipeline = lambda x : [model.wv.key_to_index[j] for j in x]"
   ]
  },
  {
   "cell_type": "code",
   "execution_count": 14,
   "id": "92fb3dee",
   "metadata": {},
   "outputs": [],
   "source": [
    "class TensorDataset(Dataset):\n",
    "    # TensorDataset繼承Dataset, 重載__init__, __getitem__, __len__\n",
    "    # 實現將一組Tensor數據封裝成Tensor數據集\n",
    "    # 能夠通過Index得到數據集的數據，能夠通過len，得到數據集大小\n",
    "    def __init__(self, data_tensor):\n",
    "        self.data_tensor = data_tensor\n",
    "    def __getitem__(self, index):\n",
    "        return self.data_tensor[index]\n",
    "    def __len__(self):\n",
    "        return len(self.data_tensor)\n",
    "\n",
    "# 輸出userID, input_list跟label(最後一個購物籃)\n",
    "def collate_batch(batch):\n",
    "    # 使用ID、時間差、訓練的購物籃項目、預測的購物籃項目\n",
    "    userID, input_item_list, label_item_list, input_size_list, label_size_list = [], [], [], [], []\n",
    "    for _user in batch:\n",
    "        #　userID\n",
    "        userID.append(_user[0])\n",
    "        # 所有購物籃的項目ID串列中的最後一個購物籃項目ID\n",
    "#         label_item_list.append(torch.tensor(_user[1][-1]))\n",
    "        label_size_list.append(torch.tensor(_user[2][-1]))\n",
    "        \n",
    "        # 不使用Item2Vec進行項目嵌入\n",
    "        if isI2V == 0:\n",
    "            train_list = _user[1][0:-1]\n",
    "            label_list = torch.tensor(_user[1][-1])\n",
    "        # 使用Item2Vec進行項目嵌入\n",
    "        else:\n",
    "            train_list = item_index_pipeline(_user[1][0:-1])\n",
    "            label_list = torch.tensor(item_label_pipeline(_user[1][-1]))\n",
    "        input_size_list.append(_user[2][0:-1])\n",
    "        \n",
    "        input_item_list.append(train_list) #　所有購物籃的項目ID串列(除了最後一個購物籃)\n",
    "        label_item_list.append(label_list)\n",
    "    \n",
    "    return userID, input_item_list, label_item_list, input_size_list, label_size_list"
   ]
  },
  {
   "cell_type": "code",
   "execution_count": 15,
   "id": "f442f66a",
   "metadata": {},
   "outputs": [],
   "source": [
    "# 轉成 Dataset\n",
    "split_train_ = TensorDataset(train_set)\n",
    "split_valid_ = TensorDataset(valid_set)\n",
    "split_test_ = TensorDataset(test_set)"
   ]
  },
  {
   "cell_type": "code",
   "execution_count": 16,
   "id": "54fe7bc6",
   "metadata": {},
   "outputs": [],
   "source": [
    "# DataLoader \n",
    "train_dataloader = DataLoader(split_train_, batch_size=BATCH_SIZE, shuffle=True, collate_fn=collate_batch, drop_last=True)\n",
    "valid_dataloader = DataLoader(split_valid_, batch_size=BATCH_SIZE, shuffle=True, collate_fn=collate_batch, drop_last=True)\n",
    "test_dataloader = DataLoader(split_test_, batch_size=BATCH_SIZE, shuffle=True, collate_fn=collate_batch, drop_last=True)"
   ]
  },
  {
   "cell_type": "markdown",
   "id": "637657be",
   "metadata": {},
   "source": [
    "# Self-Attention"
   ]
  },
  {
   "cell_type": "code",
   "execution_count": 17,
   "id": "a96171ad",
   "metadata": {},
   "outputs": [],
   "source": [
    "# 使用nn.MultiheadAttention\n",
    "# 輸入一個用戶的一個購物籃，輸出購物籃嵌入\n",
    "class SelfAttention(nn.Module):\n",
    "    def __init__(self, embed_dim, model_dim): #項目向量維度，輸出模型的維度\n",
    "        super(SelfAttention, self).__init__()\n",
    "        self.embed_dim = embed_dim\n",
    "        self.model_dim = model_dim\n",
    "        \n",
    "        # 初始化Q, K, V 矩陣\n",
    "        self.query_matrix = nn.Linear(embed_dim, model_dim)\n",
    "        xavier_uniform_(self.query_matrix.weight)\n",
    "        self.key_matrix = nn.Linear(embed_dim, model_dim)\n",
    "        xavier_uniform_(self.key_matrix.weight)\n",
    "        self.value_matrix = nn.Linear(embed_dim, model_dim)\n",
    "        xavier_uniform_(self.value_matrix.weight)\n",
    "        self.multihead_attn = nn.MultiheadAttention(embed_dim, num_heads=1)\n",
    "        \n",
    "    def forward(self, inputs, attention_mask):\n",
    "        \n",
    "        # 輸入一個項目向量，透過三個可學習的參數矩陣，得到計算所需要的 q,k,v\n",
    "        q = self.query_matrix(inputs)\n",
    "        k = self.key_matrix(inputs)\n",
    "        v = self.value_matrix(inputs)\n",
    "        \n",
    "        attn_output, attn_output_weight = self.multihead_attn(q, k, v, key_padding_mask=attention_mask.transpose(0,1))\n",
    "        \n",
    "        output_mean = torch.tensor([[0 for _ in range(MODEL_DIMENSION)] for _ in range(len(attention_mask))], dtype=torch.float).to(device)\n",
    "        for i, cart in enumerate(attention_mask):\n",
    "            for j, mask in enumerate(cart):\n",
    "                if mask == False:\n",
    "                    output_mean[i] = attn_output[i][j] # 使用最後一個項目作為輸出\n",
    "        basket_embedding = output_mean\n",
    "        \n",
    "        return basket_embedding"
   ]
  },
  {
   "cell_type": "markdown",
   "id": "a3043def",
   "metadata": {},
   "source": [
    "   # LSTM"
   ]
  },
  {
   "cell_type": "code",
   "execution_count": 18,
   "id": "3b8530b2",
   "metadata": {},
   "outputs": [],
   "source": [
    "class LSTM(nn.Module):\n",
    "    def __init__(self, input_size, output_size):\n",
    "        super(LSTM, self).__init__()\n",
    "        self.lstm = torch.nn.LSTM(input_size, HIDDEN_SIZE, 2)\n",
    "        self.hiddenlayer1 = torch.nn.Linear(max_cart_count * HIDDEN_SIZE, 512)\n",
    "        self.hiddenlayer2 = torch.nn.Linear(512, 512)\n",
    "        self.hiddenlayer3 = torch.nn.Linear(512, 256)\n",
    "        self.hiddenlayer4 = torch.nn.Linear(256, 128)\n",
    "        self.embed = torch.nn.Linear(128, EMBEDDING_DIMENSION)\n",
    "        self.leakyrelu = torch.nn.LeakyReLU()\n",
    "    \n",
    "    def forward(self, inputs):\n",
    "        output, (h,c) = self.lstm(inputs)\n",
    "        hidden1 = self.hiddenlayer1(output.view(max_cart_count * HIDDEN_SIZE))\n",
    "        hidden2 = self.hiddenlayer2(hidden1)\n",
    "        hidden3 = self.hiddenlayer3(hidden2)\n",
    "        hidden4 = self.hiddenlayer4(hidden3)\n",
    "        output = self.embed(hidden4)\n",
    "        return output"
   ]
  },
  {
   "cell_type": "markdown",
   "id": "00cd99b7",
   "metadata": {},
   "source": [
    "# Transformer"
   ]
  },
  {
   "cell_type": "code",
   "execution_count": 19,
   "id": "bc0ed90c",
   "metadata": {},
   "outputs": [],
   "source": [
    "class PositionalEncoding(nn.Module):\n",
    "    def __init__(self, d_model:int, dropout, maxlen:int=500):\n",
    "        super(PositionalEncoding, self).__init__()\n",
    "        # den 是把10000^(2i/d_model)取log_e，前面加負號是求倒數\n",
    "        den = torch.exp(-torch.arange(0, d_model, 2) * math.log(10000) / d_model)\n",
    "        pos = torch.arange(0, maxlen).reshape(maxlen, 1)\n",
    "        pos_embedding = torch.zeros(maxlen, d_model)#.to(device)\n",
    "        pos_embedding[:, 0::2] = torch.sin(pos*den)\n",
    "        pos_embedding[:, 1::2] = torch.cos(pos*den)\n",
    "        \n",
    "        pos_embedding = pos_embedding.unsqueeze(0)\n",
    "        \n",
    "        self.dropout = nn.Dropout(dropout)\n",
    "        self.register_buffer(\"pos_embedding\", pos_embedding)\n",
    "        \n",
    "    def forward(self, token_embedding):\n",
    "        return self.dropout(token_embedding+ self.pos_embedding[:, :token_embedding.size(1), :])\n",
    "    \n",
    "class TransformerEncoder(nn.Module):\n",
    "    def __init__(self, d_model, num_heads=8, num_layers=6):\n",
    "        super(TransformerEncoder, self).__init__()\n",
    "        self.pe = PositionalEncoding(d_model=d_model, dropout=0.5, maxlen=max_cart_count*2)\n",
    "        # 創建 Transformer 模型\n",
    "        self.transformer = nn.TransformerEncoder(\n",
    "            nn.TransformerEncoderLayer(d_model=d_model, nhead=num_heads),\n",
    "            num_layers=num_layers\n",
    "        )\n",
    "    \n",
    "    def forward(self, baskets_embedding):\n",
    "        baskets_embedding_pe = self.pe(baskets_embedding)\n",
    "        \n",
    "        # 購物籃padding的遮罩\n",
    "        padding_mask = ~baskets_embedding.sum(dim=-1).ne(0).transpose(0,1)\n",
    "        \n",
    "        output = self.transformer(baskets_embedding_pe.to(torch.float32), src_key_padding_mask=padding_mask.to(torch.float32))\n",
    "        return output"
   ]
  },
  {
   "cell_type": "markdown",
   "id": "9cdd237c",
   "metadata": {},
   "source": [
    "# MLP層"
   ]
  },
  {
   "cell_type": "code",
   "execution_count": 20,
   "id": "e8fb5303",
   "metadata": {},
   "outputs": [],
   "source": [
    "class MLPforItem(nn.Module):\n",
    "    def __init__(self, embed_dim, hidden_dim, items_dim):\n",
    "        super(MLPforItem, self).__init__()\n",
    "        # hidden layer\n",
    "        self.hidden = nn.Linear(embed_dim, hidden_dim)\n",
    "        xavier_uniform_(self.hidden.weight)\n",
    "        self.norm = nn.BatchNorm1d(hidden_dim, momentum=0.03)\n",
    "        self.relu = nn.ReLU()\n",
    "        # output layer\n",
    "        self.output = nn.Linear(hidden_dim, items_dim)\n",
    "        self.softmax = nn.Softmax(dim=0)\n",
    "    def forward(self, inputs):\n",
    "        y = self.relu(self.norm(self.hidden(inputs)))\n",
    "        return self.output(y)\n",
    "#         return self.softmax(self.output(y))"
   ]
  },
  {
   "cell_type": "code",
   "execution_count": 21,
   "id": "b52aa95b",
   "metadata": {},
   "outputs": [],
   "source": [
    "class MLPforSize(nn.Module):\n",
    "    def __init__(self, embed_dim):\n",
    "        super(MLPforSize, self).__init__()\n",
    "        # predict layer\n",
    "        self.predict = nn.Linear(embed_dim, 1)\n",
    "        self.relu = nn.ReLU()\n",
    "    def forward(self, inputs):\n",
    "        output = self.relu(self.predict(inputs))\n",
    "        return output"
   ]
  },
  {
   "cell_type": "markdown",
   "id": "9afdd949",
   "metadata": {},
   "source": [
    "# 損失函數"
   ]
  },
  {
   "cell_type": "code",
   "execution_count": 22,
   "id": "9b8084b8",
   "metadata": {},
   "outputs": [],
   "source": [
    "# MSE\n",
    "def mean_square_error(prediction, target):\n",
    "    predictions = prediction[0]\n",
    "    targets = torch.tensor([target[0]], dtype=torch.float).to(device)\n",
    "    loss = F.mse_loss(predictions, targets)\n",
    "    for i in range(1, len(prediction)):\n",
    "        predictions = prediction[i]\n",
    "        targets= torch.tensor([target[i]], dtype=torch.float).to(device)\n",
    "        loss += F.mse_loss(predictions, targets)\n",
    "    return loss"
   ]
  },
  {
   "cell_type": "code",
   "execution_count": 23,
   "id": "578a7e8b",
   "metadata": {},
   "outputs": [],
   "source": [
    "# cross_entropy_loss\n",
    "def cross_entropy_loss(predictions, targets):\n",
    "    # 創建稀疏張量的索引和值\n",
    "    indices = []\n",
    "    values = []\n",
    "    for i, t in enumerate(targets):\n",
    "        for v in t:\n",
    "            indices.append([i, v])\n",
    "            values.append(1)\n",
    "            \n",
    "    # 創建稀疏張量\n",
    "    sparse_targets = torch.sparse_coo_tensor(indices=torch.tensor(indices).t(),\n",
    "                                             values=torch.tensor(values, dtype=torch.float32),\n",
    "                                             size=(len(targets), items_count), device=device)\n",
    "    sparse_targets = sparse_targets.to_dense()\n",
    "    \n",
    "    loss = F.binary_cross_entropy_with_logits(predictions, sparse_targets)\n",
    "    return loss"
   ]
  },
  {
   "cell_type": "markdown",
   "id": "08aefe4a",
   "metadata": {},
   "source": [
    "# 評估指標"
   ]
  },
  {
   "cell_type": "code",
   "execution_count": 24,
   "id": "02891cdd",
   "metadata": {},
   "outputs": [],
   "source": [
    "def format_metric(result_dict):\n",
    "    assert type(result_dict) == dict\n",
    "    format_str = []\n",
    "    metrics = np.unique([k for k in result_dict.keys()])\n",
    "    for metric in metrics:\n",
    "        name = '{}'.format(metric)\n",
    "        m = result_dict[name]\n",
    "        if type(m) is float or type(m) is np.float32 or type(m) is np.float64:\n",
    "            format_str.append(\"{}: {:<.4f}\".format(name, m))\n",
    "        elif type(m) is int or type(m) is np.int32 or type(m) is np.int64:\n",
    "            format_str.append(\"{}: {}\".format(name, m))\n",
    "    return \", \".join(format_str)"
   ]
  },
  {
   "cell_type": "markdown",
   "id": "fa92db9d",
   "metadata": {},
   "source": [
    "## F1-score"
   ]
  },
  {
   "cell_type": "code",
   "execution_count": 25,
   "id": "f7cca32b",
   "metadata": {},
   "outputs": [],
   "source": [
    "def calculate_f1_score(predictions, targets, k_list):\n",
    "    \"\"\"\n",
    "    計算 F1-score@K。\n",
    "\n",
    "    Args:\n",
    "        predictions: 二維的預測機率矩陣，大小為 [num_users, num_items]。\n",
    "        targets: 一個包含每個用戶真實標籤的列表，其中每個列表的大小不同。\n",
    "        k_list: 用預測出的K值，計算F1-score@K\n",
    "\n",
    "    Returns:\n",
    "        F1-score@K 分數。\n",
    "    \"\"\"\n",
    "    # 將預測機率矩陣值轉換為 Pytorch 張量\n",
    "    predictions = torch.from_numpy(np.array(predictions, dtype=np.float32))\n",
    "    num_users = len(targets)\n",
    "    f1_score_eval = dict()\n",
    "    \n",
    "    precision_sum = 0.0\n",
    "    recall_sum = 0.0\n",
    "    f1_score_sum = 0.0\n",
    "    for i in range(num_users):\n",
    "        \n",
    "        # 將用戶 i 的真實標籤轉換為 PyTorch 張量。\n",
    "        labels = torch.from_numpy(np.array(targets[i], dtype=np.int64))\n",
    "        # 計算用戶 i 在預測機率矩陣中機率最高的 K 個項目索引\n",
    "        top_k_item_labels = torch.topk(predictions[i], k_list[i])[1]\n",
    "        # 計算用戶 i 的真實標籤和預測標籤的交集 (TP)\n",
    "        true_positives = torch.sum(torch.sum(torch.eq(top_k_item_labels, labels.unsqueeze(1)).to(torch.float32), dim=1)).item()\n",
    "        # 計算用戶 i 的真實標籤和預測標籤的聯集\n",
    "        predicted_positives = k_list[i] # TP+FP\n",
    "        actual_positives = len(labels)  # TP+FN\n",
    "        # 預防 K 預測為0導致 precision 分母為0\n",
    "        if predicted_positives == 0:\n",
    "            precision = 0.0\n",
    "        else:\n",
    "            precision = true_positives / predicted_positives\n",
    "        # 預防實際 K 為0導致 recall 分母為0\n",
    "        if actual_positives == 0:\n",
    "            recall = 0.0\n",
    "        else:\n",
    "            recall = true_positives / actual_positives\n",
    "        # 計算F1-score\n",
    "        if precision + recall == 0:\n",
    "            f1_score = 0.0\n",
    "        else:\n",
    "            f1_score = 2 * precision * recall / (precision + recall)\n",
    "        precision_sum += precision\n",
    "        recall_sum += recall\n",
    "        f1_score_sum += f1_score\n",
    "        \n",
    "    # 計算平均分數\n",
    "    precision = precision_sum / float(num_users)\n",
    "    recall = recall_sum / float(num_users)\n",
    "    f1_score = f1_score_sum / float(num_users)\n",
    "    # 儲存到dict\n",
    "    key = \"{}\".format(\"Recall\")\n",
    "    f1_score_eval[key] = recall\n",
    "    key = \"{}\".format(\"Precision\")\n",
    "    f1_score_eval[key] = precision\n",
    "    key = \"{}\".format(\"F1-score\")\n",
    "    f1_score_eval[key] = f1_score\n",
    "    \n",
    "    return f1_score_eval"
   ]
  },
  {
   "cell_type": "markdown",
   "id": "506ff404",
   "metadata": {},
   "source": [
    "## NDCG"
   ]
  },
  {
   "cell_type": "code",
   "execution_count": 26,
   "id": "4c566188",
   "metadata": {},
   "outputs": [],
   "source": [
    "def calculate_ndcg(basket_predictions, basket_targets, size_predictions, size_targets):\n",
    "    \"\"\"\n",
    "    計算 NDCG@K。\n",
    "\n",
    "    Args:\n",
    "        basket_predictions: 預測購物籃項目\n",
    "        bakset_targets: 實際購物籃項目\n",
    "        size_predictions: 預測購物籃大小\n",
    "        size_targets: 實際購物籃大小  \n",
    "\n",
    "    Returns:\n",
    "        NDCG@K 分數。\n",
    "    \"\"\"\n",
    "    # 將預測機率矩陣轉換為 PyTorch 張量\n",
    "    predictions = torch.from_numpy(np.array(basket_predictions, dtype=np.float32))\n",
    "    num_users = len(basket_targets)\n",
    "    ndcg_eval = dict()\n",
    "    \n",
    "    ndcg_sum = 0.0\n",
    "    for i in range(num_users):\n",
    "        # 將用戶 i 的真實標籤轉換為 PyTorch 張量\n",
    "        labels = torch.from_numpy(np.array(basket_targets[i], dtype=np.int64))\n",
    "        # 計算用戶 i 在預測機率矩陣中機率最高的 K 個項目的索引=標籤\n",
    "        top_k_item_labels = torch.topk(basket_predictions[i], size_predictions[i])[1]\n",
    "        # 計算 DCG@K\n",
    "        dcg_at_k = torch.sum(torch.nan_to_num(torch.div(1.0, torch.log2(torch.arange(size_predictions[i], dtype=torch.float32) +2))) * (torch.eq(top_k_item_labels, labels.unsqueeze(1)).to(torch.float32)))\n",
    "        # 計算 IDCG@K\n",
    "        idcg_at_k = torch.sum(torch.div(1.0, torch.log2(torch.arange(len(labels), dtype=torch.float32) + 2)))\n",
    "        # 計算 NDCG@K * Penalty weight\n",
    "        if torch.eq(idcg_at_k, 0):\n",
    "            ndcg_at_k = idcg_at_k\n",
    "        else:\n",
    "            ndcg_at_k = (dcg_at_k / idcg_at_k) * (size_targets[i] / (size_targets[i] + abs(size_targets[i] - size_predictions[i])))\n",
    "        ndcg_sum += ndcg_at_k.item()\n",
    "    #　計算平均　NDCG@K 分數\n",
    "    ndcg = ndcg_sum / float(num_users)\n",
    "    key = \"{}\".format(\"NDCG\")\n",
    "    ndcg_eval[key] = ndcg\n",
    "\n",
    "    return ndcg_eval"
   ]
  },
  {
   "cell_type": "code",
   "execution_count": 27,
   "id": "4b4fe7dc",
   "metadata": {},
   "outputs": [],
   "source": [
    "def calculate_mae(size_predictions, size_targets):\n",
    "    sum = 0\n",
    "    num_users = len(size_targets)\n",
    "    mae_eval = dict()\n",
    "    for i in range(num_users):\n",
    "        sum += abs(size_predictions[i] - (size_targets[i]).item())\n",
    "    key = \"{}\".format(\"MAE\")\n",
    "    mae_eval[key] = sum / num_users\n",
    "    return mae_eval"
   ]
  },
  {
   "cell_type": "markdown",
   "id": "213301db",
   "metadata": {},
   "source": [
    "# 訓練&測試"
   ]
  },
  {
   "cell_type": "code",
   "execution_count": 28,
   "id": "5d503206",
   "metadata": {},
   "outputs": [],
   "source": [
    "# 訓練模型\n",
    "def train_model():\n",
    "    my_model.train()\n",
    "    loss_list = []\n",
    "    \n",
    "    for batch_idx, (userID, basket_input, basket_label, size_input, size_label) in enumerate(tqdm(train_dataloader)):\n",
    "        optimizer.zero_grad()\n",
    "        basket_output, size_output = my_model(basket_input, size_input)\n",
    "        # 計算損失\n",
    "        loss = ALPHA * mean_square_error(size_output, size_label) + (1 - ALPHA) * cross_entropy_loss(basket_output, basket_label)\n",
    "        loss_list.append(loss.item())\n",
    "        loss.backward()\n",
    "        optimizer.step()\n",
    "        \n",
    "        if (batch_idx%100 == 0) or (batch_idx == len(train_dataloader)-1):\n",
    "            precentage = (100 * batch_idx/len(train_dataloader))\n",
    "            print(f\"Epoch {epoch}: {precentage:.0f}%, loss: {loss.item():.6f}\")\n",
    "            \n",
    "        with torch.no_grad():\n",
    "            basket_output = torch.from_numpy(np.array(basket_output.cpu(), dtype=np.float32))\n",
    "            size_output = np.round(np.squeeze(np.array([_.cpu() for _ in size_output], dtype=np.float32))).astype(int).tolist()\n",
    "            if batch_idx == 0:\n",
    "                basket_outputs = basket_output\n",
    "                basket_labels = basket_label\n",
    "                size_outputs = size_output\n",
    "                size_labels = size_label\n",
    "            else:\n",
    "                basket_outputs = torch.cat( (basket_outputs, basket_output),-2 )\n",
    "                basket_labels = basket_labels + basket_label\n",
    "                size_outputs = size_outputs + size_output\n",
    "                size_labels = size_labels + size_label\n",
    "                \n",
    "    with torch.no_grad():\n",
    "        evaluations = calculate_f1_score(basket_outputs, basket_labels, size_outputs) \n",
    "        res_str = '(' + format_metric(evaluations) + ')'\n",
    "        print(f\"                      {res_str}\\n\")\n",
    "\n",
    "        evaluations = calculate_ndcg(basket_outputs, basket_labels, size_outputs, size_labels) \n",
    "        res_str = '(' + format_metric(evaluations) + ')'\n",
    "        print(f\"                      {res_str}\\n\")\n",
    "\n",
    "        evaluations = calculate_mae(size_outputs, size_labels)\n",
    "        res_str = '(' + format_metric(evaluations) + ')'\n",
    "        print(f\"                      {res_str}\\n\")\n",
    "        \n",
    "    return torch.mean(torch.tensor(loss_list))"
   ]
  },
  {
   "cell_type": "code",
   "execution_count": 29,
   "id": "b0799869",
   "metadata": {},
   "outputs": [],
   "source": [
    "# 驗證模型\n",
    "def evaluate_model():\n",
    "    my_model.eval()\n",
    "    loss_list = []\n",
    "    for batch_idx, (userID, basket_input, basket_label, size_input, size_label) in enumerate(tqdm(valid_dataloader)):\n",
    "        basket_output, size_output= my_model(basket_input, size_input)\n",
    "        # 計算損失\n",
    "        loss = ALPHA * mean_square_error(size_output, size_label) + (1 - ALPHA) * cross_entropy_loss(basket_output, basket_label)\n",
    "        loss_list.append(loss.item())\n",
    "        \n",
    "        with torch.no_grad():\n",
    "            basket_output = torch.from_numpy(np.array(basket_output.cpu(), dtype=np.float32))\n",
    "            size_output = np.round(np.squeeze(np.array([_.cpu() for _ in size_output], dtype=np.float32))).astype(int).tolist()\n",
    "            if batch_idx == 0:\n",
    "                basket_outputs = basket_output\n",
    "                basket_labels = basket_label\n",
    "                size_outputs = size_output\n",
    "                size_labels = size_label\n",
    "            else:\n",
    "                basket_outputs = torch.cat( (basket_outputs, basket_output),-2 )\n",
    "                basket_labels = basket_labels + basket_label\n",
    "                size_outputs = size_outputs + size_output\n",
    "                size_labels = size_labels + size_label\n",
    "        \n",
    "    with torch.no_grad():\n",
    "        evaluations = calculate_f1_score(basket_outputs, basket_labels, size_outputs) \n",
    "        res_str = '(' + format_metric(evaluations) + ')'\n",
    "        print(f\"                      {res_str}\\n\")\n",
    "\n",
    "        evaluations = calculate_ndcg(basket_outputs, basket_labels, size_outputs, size_labels) \n",
    "        res_str = '(' + format_metric(evaluations) + ')'\n",
    "        print(f\"                      {res_str}\\n\")\n",
    "\n",
    "        evaluations = calculate_mae(size_outputs, size_labels)\n",
    "        res_str = '(' + format_metric(evaluations) + ')'\n",
    "        print(f\"                      {res_str}\\n\")\n",
    "        \n",
    "    return torch.mean(torch.tensor(loss_list))"
   ]
  },
  {
   "cell_type": "code",
   "execution_count": 30,
   "id": "5e8d7319",
   "metadata": {},
   "outputs": [],
   "source": [
    "# 測試模型\n",
    "def test_model():\n",
    "    my_model.eval()\n",
    "    loss_list = []\n",
    "    for batch_idx, (userID, basket_input, basket_label, size_input, size_label) in enumerate(tqdm(test_dataloader)):\n",
    "        basket_output, size_output = my_model(basket_input, size_input)\n",
    "        # 計算損失\n",
    "        loss = ALPHA * mean_square_error(size_output, size_label) + (1 - ALPHA) * cross_entropy_loss(basket_output, basket_label)\n",
    "        loss_list.append(loss.item())\n",
    "        \n",
    "        with torch.no_grad():\n",
    "            basket_output = torch.from_numpy(np.array(basket_output.cpu(), dtype=np.float32))\n",
    "            size_output = np.round(np.squeeze(np.array([_.cpu() for _ in size_output], dtype=np.float32))).astype(int).tolist()\n",
    "            if batch_idx == 0:\n",
    "                basket_outputs = basket_output\n",
    "                basket_labels = basket_label\n",
    "                size_outputs = size_output\n",
    "                size_labels = size_label\n",
    "            else:\n",
    "                basket_outputs = torch.cat( (basket_outputs, basket_output),-2 )\n",
    "                basket_labels = basket_labels + basket_label\n",
    "                size_outputs = size_outputs + size_output\n",
    "                size_labels = size_labels + size_label\n",
    "    \n",
    "    with torch.no_grad():\n",
    "        f1_evaluations = calculate_f1_score(basket_outputs, basket_labels, size_outputs)\n",
    "        precision_list = [f1_evaluations[\"Precision\"]]\n",
    "        recall_list =  [f1_evaluations[\"Recall\"]]\n",
    "        f1_list = [f1_evaluations[\"F1-score\"]]\n",
    "        res_str = '(' + format_metric(f1_evaluations) + ')'\n",
    "        print(f\"                      {res_str}\\n\")\n",
    "        \n",
    "        ndcg_evaluations = calculate_ndcg(basket_outputs, basket_labels, size_outputs, size_labels) \n",
    "        ndcg_list = [ndcg_evaluations[\"NDCG\"]]\n",
    "        res_str = '(' + format_metric(ndcg_evaluations) + ')'\n",
    "        print(f\"                      {res_str}\\n\")\n",
    "        \n",
    "        mae_evaluations = calculate_mae(size_outputs, size_labels)\n",
    "        mae_list = [mae_evaluations[\"MAE\"]]\n",
    "        res_str = '(' + format_metric(mae_evaluations) + ')'\n",
    "        print(f\"                      {res_str}\\n\")\n",
    "        \n",
    "    return torch.mean(torch.tensor(loss_list)), recall_list, precision_list, f1_list, ndcg_list, mae_list"
   ]
  },
  {
   "cell_type": "markdown",
   "id": "b1b6c6a9",
   "metadata": {},
   "source": [
    "# MC"
   ]
  },
  {
   "cell_type": "code",
   "execution_count": 31,
   "id": "bd668a14",
   "metadata": {},
   "outputs": [],
   "source": [
    "def create_transition_matrix(baskets, items):\n",
    "    # 統計所有項目在前一個購物籃和下一個購物籃中出現的次數，\n",
    "    # 以及在前一個購物籃中出現的總次數\n",
    "    cooccur_counts = {}\n",
    "    prev_basket_counts = {}\n",
    "    for user_baskets in baskets:\n",
    "        for i in range(1, len(user_baskets)):\n",
    "            prev_basket = user_baskets[i-1]\n",
    "            cur_basket = user_baskets[i]\n",
    "            for item1 in prev_basket:\n",
    "                if item1 not in prev_basket_counts:\n",
    "                    prev_basket_counts[item1] = 0\n",
    "                prev_basket_counts[item1] += 1\n",
    "                for item2 in cur_basket:\n",
    "                    if item2 not in cooccur_counts:\n",
    "                        cooccur_counts[item2] = {}\n",
    "                    if item1 not in cooccur_counts[item2]:\n",
    "                        cooccur_counts[item2][item1] = 0\n",
    "                    cooccur_counts[item2][item1] += 1\n",
    "\n",
    "    # 將統計數據轉換為轉移矩陣\n",
    "    # items = sorted(list(prev_basket_counts.keys()))\n",
    "    num_items = len(items)\n",
    "    transition_matrix = np.zeros((num_items, num_items))\n",
    "    for i, item1 in tqdm(enumerate(items)):\n",
    "        for j, item2 in enumerate(items):\n",
    "            if item2 in cooccur_counts and item1 in cooccur_counts[item2]:\n",
    "                cooccur_count = cooccur_counts[item2][item1]\n",
    "                prev_basket_count = prev_basket_counts[item1]\n",
    "                transition_matrix[i, j] = cooccur_count / prev_basket_count\n",
    "    return transition_matrix"
   ]
  },
  {
   "cell_type": "code",
   "execution_count": 32,
   "id": "41ad02ea",
   "metadata": {},
   "outputs": [],
   "source": [
    "def predict_next_basket(users_baskets, transition_matrix, items, top_n=50):\n",
    "    num_users = len(users_baskets)\n",
    "    num_items = len(items)\n",
    "    predictions = []\n",
    "    pred_label = []\n",
    "    for i in range(num_users):\n",
    "        last_basket = users_baskets[i][-1] # 第i個用戶的最後一個購物籃\n",
    "        cur_prediction = np.zeros(num_items)\n",
    "        prev_item_idx = np.array([prev_item for prev_item in last_basket])\n",
    "        for j in range(num_items):\n",
    "            prob = np.sum(transition_matrix[prev_item_idx, j])\n",
    "            cur_prediction[j] = prob * (1/len(last_basket))\n",
    "        predictions.append(cur_prediction)\n",
    "    return predictions"
   ]
  },
  {
   "cell_type": "code",
   "execution_count": 33,
   "id": "36cd123d",
   "metadata": {},
   "outputs": [],
   "source": [
    "mc_item = dataset[\"NEW_ITEM_ID\"].unique() # 所有項目"
   ]
  },
  {
   "cell_type": "code",
   "execution_count": 34,
   "id": "a7fd9194",
   "metadata": {},
   "outputs": [],
   "source": [
    "train_list = []\n",
    "for batch_idx, (userID, basket_input, basket_label, size_input, size_label) in enumerate(train_dataloader):\n",
    "    for i in basket_input:\n",
    "        train_list.append(i)"
   ]
  },
  {
   "cell_type": "code",
   "execution_count": 35,
   "id": "4073c2c3",
   "metadata": {},
   "outputs": [
    {
     "name": "stderr",
     "output_type": "stream",
     "text": [
      "15764it [01:18, 202.08it/s]\n"
     ]
    },
    {
     "name": "stdout",
     "output_type": "stream",
     "text": [
      "transition_matrix=tensor([[1.1456e-01, 8.7631e-02, 3.3775e-02,  ..., 4.5641e-04, 0.0000e+00,\n",
      "         0.0000e+00],\n",
      "        [4.7967e-02, 6.9343e-02, 2.9197e-02,  ..., 0.0000e+00, 0.0000e+00,\n",
      "         0.0000e+00],\n",
      "        [7.2327e-02, 4.4025e-02, 1.9392e-01,  ..., 0.0000e+00, 0.0000e+00,\n",
      "         0.0000e+00],\n",
      "        ...,\n",
      "        [0.0000e+00, 0.0000e+00, 0.0000e+00,  ..., 0.0000e+00, 0.0000e+00,\n",
      "         0.0000e+00],\n",
      "        [0.0000e+00, 0.0000e+00, 0.0000e+00,  ..., 0.0000e+00, 0.0000e+00,\n",
      "         0.0000e+00],\n",
      "        [0.0000e+00, 1.0000e+00, 0.0000e+00,  ..., 0.0000e+00, 0.0000e+00,\n",
      "         0.0000e+00]], device='cuda:0', dtype=torch.float64)\n"
     ]
    }
   ],
   "source": [
    "# 建立所有用戶共用的轉移矩陣\n",
    "transition_matrix= create_transition_matrix(train_list, mc_item)\n",
    "transition_array = torch.tensor(transition_matrix, dtype=torch.float64).to(device)\n",
    "print(f\"transition_matrix={transition_array}\")"
   ]
  },
  {
   "cell_type": "markdown",
   "id": "1abc8fbc",
   "metadata": {},
   "source": [
    "# 完整模型"
   ]
  },
  {
   "cell_type": "code",
   "execution_count": 36,
   "id": "5ad81bac",
   "metadata": {},
   "outputs": [
    {
     "name": "stdout",
     "output_type": "stream",
     "text": [
      "items_count= 15764\n",
      "tensor([1.7128e-03, 1.1418e-03, 2.4169e-02,  ..., 6.3436e-05, 6.3436e-05,\n",
      "        6.3436e-05], device='cuda:0', dtype=torch.float64)\n"
     ]
    }
   ],
   "source": [
    "# 項目總數\n",
    "items_count = confidences.shape[0]\n",
    "print(\"items_count=\", items_count)\n",
    "# 項目出現次數\n",
    "items_freq = Counter(dataset[\"NEW_ITEM_ID\"])\n",
    "# 計算每個項目出現的比例: items_frq/items_count\n",
    "item_weight = torch.tensor(np.array(list(items_freq.values()))/items_count).to(device)\n",
    "# 按照new_item_id順序排列\n",
    "print(item_weight)"
   ]
  },
  {
   "cell_type": "markdown",
   "id": "975d9e58",
   "metadata": {},
   "source": [
    "## 加上信賴度矩陣"
   ]
  },
  {
   "cell_type": "code",
   "execution_count": 37,
   "id": "5d571c57",
   "metadata": {},
   "outputs": [
    {
     "data": {
      "text/plain": [
       "tensor([[0.0000e+00, 1.0137e-01, 3.7170e-02,  ..., 0.0000e+00, 0.0000e+00,\n",
       "         0.0000e+00],\n",
       "        [1.4002e-01, 0.0000e+00, 2.9755e-02,  ..., 0.0000e+00, 0.0000e+00,\n",
       "         2.9172e-04],\n",
       "        [1.0778e-01, 6.2462e-02, 0.0000e+00,  ..., 0.0000e+00, 0.0000e+00,\n",
       "         0.0000e+00],\n",
       "        ...,\n",
       "        [0.0000e+00, 0.0000e+00, 0.0000e+00,  ..., 0.0000e+00, 0.0000e+00,\n",
       "         0.0000e+00],\n",
       "        [0.0000e+00, 0.0000e+00, 0.0000e+00,  ..., 0.0000e+00, 0.0000e+00,\n",
       "         0.0000e+00],\n",
       "        [0.0000e+00, 1.0000e+00, 0.0000e+00,  ..., 0.0000e+00, 0.0000e+00,\n",
       "         0.0000e+00]], device='cuda:0', dtype=torch.float64)"
      ]
     },
     "execution_count": 37,
     "metadata": {},
     "output_type": "execute_result"
    }
   ],
   "source": [
    "# 信賴度矩陣\n",
    "confidences_array = torch.tensor(confidences, dtype=torch.float64).to(device)\n",
    "confidences_array"
   ]
  },
  {
   "cell_type": "code",
   "execution_count": 38,
   "id": "b00066a0",
   "metadata": {},
   "outputs": [],
   "source": [
    "class MyModel01(nn.Module):\n",
    "    def __init__(self, embed_dim, model_dim, hidden_dim, items_count):\n",
    "        super(MyModel01, self).__init__()\n",
    "        self.model_dim = model_dim\n",
    "        self.embedding = nn.Embedding.from_pretrained(weights, freeze=False)\n",
    "        self.embedding.requires_grad=True\n",
    "        self.basket_embed = SelfAttention(embed_dim=embed_dim, model_dim=model_dim)\n",
    "        self.size_embed = LSTM(1,1)\n",
    "        self.model_encoder = TransformerEncoder(d_model=model_dim, num_heads=NUM_HEAD, num_layers=NUM_LAYER)\n",
    "        # 嵌入維度、隱藏層維度、總項目數量\n",
    "        self.basket_mlp = MLPforItem(model_dim, hidden_dim, items_count)\n",
    "        self.size_mlp = MLPforSize(model_dim)\n",
    "        self.relu = nn.ReLU()\n",
    "        \n",
    "    def forward(self, basket_input, size_input):\n",
    "        \n",
    "        basket_list, size_list, attention_mask, k_list = [], [], [], []\n",
    "        output_list = []\n",
    "        \n",
    "        # 為每個用戶的購物籃加上 padding跟 mask\n",
    "        for user in basket_input:\n",
    "            # 將購物籃項目 ID 轉換為嵌入向量\n",
    "            batch_features = [ self.embedding(torch.tensor(cart).to(device)) for cart in user ]\n",
    "            # 進行 padding\n",
    "            batch_features = rnn_utils.pad_sequence(batch_features, batch_first=True, padding_value=0)\n",
    "            # 購物籃中項目的遮罩\n",
    "            mask = ~batch_features.sum(dim=-1).ne(0)\n",
    "            basket_list.append(batch_features)\n",
    "            attention_mask.append(mask)\n",
    "        \n",
    "        # 預測size_tensor\n",
    "        sizes_input = [torch.tensor(size).to(device) for size in size_input]\n",
    "        tmp_tensor = torch.zeros(max_cart_count)\n",
    "        size_list.append(tmp_tensor)\n",
    "        for size in sizes_input:\n",
    "            size_list.append(size)\n",
    "        size_list = rnn_utils.pad_sequence(size_list, batch_first=True, padding_value=0)[1:]\n",
    "            \n",
    "        # 進入自注意力，輸出形狀(BATCH_SIZE, basket_size, embed_dim)\n",
    "        basket_embedding_list = []\n",
    "        for i,user_inputs in enumerate(basket_list):\n",
    "            basketEmbed = self.basket_embed(user_inputs, attention_mask[i])\n",
    "            sizeEmbed = self.size_embed(torch.tensor([[float(_)] for _ in size_list[i]]).to(device))\n",
    "            \n",
    "            basket_embedding = torch.cat((basketEmbed, sizeEmbed.reshape(1,-1)), 0)\n",
    "            \n",
    "            k_list.append(sizeEmbed)\n",
    "            basket_embedding_list.append(basket_embedding)\n",
    "            \n",
    "        \n",
    "        # 進行購物籃的 padding\n",
    "        input_seq = rnn_utils.pad_sequence(basket_embedding_list, batch_first=True, padding_value=0)\n",
    "        #print(input_seq.size())\n",
    "        \n",
    "        \n",
    "        # 進入Transformer\n",
    "        basket_embed = self.model_encoder(input_seq.to(device))\n",
    "        \n",
    "        B_s_list = []\n",
    "        K_s_list = []\n",
    "        for i, b in enumerate(basket_embed):\n",
    "            basket_size = len(attention_mask[i])\n",
    "            B_s = b[basket_size-1]  # 取得最後一個購物籃向量\n",
    "            B_s_list.append(B_s)\n",
    "            K_s_list.append(B_s+k_list[i])\n",
    "            \n",
    "        # 進入basket MLP層\n",
    "        p = self.basket_mlp(torch.stack(B_s_list, dim=0))\n",
    "        predictions = predict_next_basket(basket_input, transition_matrix, list(mc_item), 10)\n",
    "        mc_predictions = torch.tensor(np.array(predictions), dtype=torch.float64).to(device)\n",
    "        pc = (self.relu(p.to(torch.float64))+1e-8) @ confidences_array\n",
    "        pw = torch.mul( p, item_weight )\n",
    "        \n",
    "        # z-score for mc_predictions\n",
    "        mc_mean = mc_predictions.mean(dim=1, keepdim = True)\n",
    "        mc_std = mc_predictions.std(dim=1, keepdim =True)\n",
    "        mc_z_score = (mc_predictions - mc_mean) / mc_std\n",
    "        \n",
    "        # z-score for mc_predictions\n",
    "        tr_predictions = torch.add(pc, pw) + p.to(torch.float64)\n",
    "        tr_mean = tr_predictions.mean(dim=1, keepdim = True)\n",
    "        tr_std = tr_predictions.std(dim=1, keepdim =True)\n",
    "        tr_z_score = (tr_predictions - tr_mean) / tr_std\n",
    "        \n",
    "        p_ = torch.mul(BETA, tr_predictions) + torch.mul((1-BETA), mc_z_score + tr_z_score)\n",
    "        \n",
    "        # 進入size MLP層\n",
    "        k = self.size_mlp(torch.stack(K_s_list, dim=0))\n",
    "        \n",
    "        return p_, k"
   ]
  },
  {
   "cell_type": "code",
   "execution_count": 39,
   "id": "88bf8d6f",
   "metadata": {
    "scrolled": true
   },
   "outputs": [
    {
     "data": {
      "text/plain": [
       "MyModel01(\n",
       "  (embedding): Embedding(15764, 32)\n",
       "  (basket_embed): SelfAttention(\n",
       "    (query_matrix): Linear(in_features=32, out_features=32, bias=True)\n",
       "    (key_matrix): Linear(in_features=32, out_features=32, bias=True)\n",
       "    (value_matrix): Linear(in_features=32, out_features=32, bias=True)\n",
       "    (multihead_attn): MultiheadAttention(\n",
       "      (out_proj): NonDynamicallyQuantizableLinear(in_features=32, out_features=32, bias=True)\n",
       "    )\n",
       "  )\n",
       "  (size_embed): LSTM(\n",
       "    (lstm): LSTM(1, 16, num_layers=2)\n",
       "    (hiddenlayer1): Linear(in_features=1152, out_features=512, bias=True)\n",
       "    (hiddenlayer2): Linear(in_features=512, out_features=512, bias=True)\n",
       "    (hiddenlayer3): Linear(in_features=512, out_features=256, bias=True)\n",
       "    (hiddenlayer4): Linear(in_features=256, out_features=128, bias=True)\n",
       "    (embed): Linear(in_features=128, out_features=32, bias=True)\n",
       "    (leakyrelu): LeakyReLU(negative_slope=0.01)\n",
       "  )\n",
       "  (model_encoder): TransformerEncoder(\n",
       "    (pe): PositionalEncoding(\n",
       "      (dropout): Dropout(p=0.5, inplace=False)\n",
       "    )\n",
       "    (transformer): TransformerEncoder(\n",
       "      (layers): ModuleList(\n",
       "        (0-7): 8 x TransformerEncoderLayer(\n",
       "          (self_attn): MultiheadAttention(\n",
       "            (out_proj): NonDynamicallyQuantizableLinear(in_features=32, out_features=32, bias=True)\n",
       "          )\n",
       "          (linear1): Linear(in_features=32, out_features=2048, bias=True)\n",
       "          (dropout): Dropout(p=0.1, inplace=False)\n",
       "          (linear2): Linear(in_features=2048, out_features=32, bias=True)\n",
       "          (norm1): LayerNorm((32,), eps=1e-05, elementwise_affine=True)\n",
       "          (norm2): LayerNorm((32,), eps=1e-05, elementwise_affine=True)\n",
       "          (dropout1): Dropout(p=0.1, inplace=False)\n",
       "          (dropout2): Dropout(p=0.1, inplace=False)\n",
       "        )\n",
       "      )\n",
       "    )\n",
       "  )\n",
       "  (basket_mlp): MLPforItem(\n",
       "    (hidden): Linear(in_features=32, out_features=128, bias=True)\n",
       "    (norm): BatchNorm1d(128, eps=1e-05, momentum=0.03, affine=True, track_running_stats=True)\n",
       "    (relu): ReLU()\n",
       "    (output): Linear(in_features=128, out_features=15764, bias=True)\n",
       "    (softmax): Softmax(dim=0)\n",
       "  )\n",
       "  (size_mlp): MLPforSize(\n",
       "    (predict): Linear(in_features=32, out_features=1, bias=True)\n",
       "    (relu): ReLU()\n",
       "  )\n",
       "  (relu): ReLU()\n",
       ")"
      ]
     },
     "execution_count": 39,
     "metadata": {},
     "output_type": "execute_result"
    }
   ],
   "source": [
    "my_model = MyModel01(embed_dim=EMBEDDING_DIMENSION, model_dim=MODEL_DIMENSION, hidden_dim=HIDDEN_DIMENSION, items_count=items_count).to(device)\n",
    "optimizer = torch.optim.Adam(my_model.parameters(), lr=LEARNING_RATE)\n",
    "my_model.train()"
   ]
  },
  {
   "cell_type": "code",
   "execution_count": 40,
   "id": "dc547691",
   "metadata": {
    "scrolled": true
   },
   "outputs": [
    {
     "name": "stderr",
     "output_type": "stream",
     "text": [
      "  0%|          | 1/1065 [00:01<19:26,  1.10s/it]"
     ]
    },
    {
     "name": "stdout",
     "output_type": "stream",
     "text": [
      "Epoch 1: 0%, loss: 34.478985\n"
     ]
    },
    {
     "name": "stderr",
     "output_type": "stream",
     "text": [
      "  9%|▉         | 101/1065 [01:07<10:11,  1.58it/s]"
     ]
    },
    {
     "name": "stdout",
     "output_type": "stream",
     "text": [
      "Epoch 1: 9%, loss: 10.107331\n"
     ]
    },
    {
     "name": "stderr",
     "output_type": "stream",
     "text": [
      " 19%|█▉        | 201/1065 [02:16<10:46,  1.34it/s]"
     ]
    },
    {
     "name": "stdout",
     "output_type": "stream",
     "text": [
      "Epoch 1: 19%, loss: 8.649318\n"
     ]
    },
    {
     "name": "stderr",
     "output_type": "stream",
     "text": [
      " 28%|██▊       | 301/1065 [03:24<09:01,  1.41it/s]"
     ]
    },
    {
     "name": "stdout",
     "output_type": "stream",
     "text": [
      "Epoch 1: 28%, loss: 11.824495\n"
     ]
    },
    {
     "name": "stderr",
     "output_type": "stream",
     "text": [
      " 38%|███▊      | 401/1065 [04:33<07:39,  1.45it/s]"
     ]
    },
    {
     "name": "stdout",
     "output_type": "stream",
     "text": [
      "Epoch 1: 38%, loss: 37.348648\n"
     ]
    },
    {
     "name": "stderr",
     "output_type": "stream",
     "text": [
      " 47%|████▋     | 501/1065 [05:43<07:10,  1.31it/s]"
     ]
    },
    {
     "name": "stdout",
     "output_type": "stream",
     "text": [
      "Epoch 1: 47%, loss: 29.851042\n"
     ]
    },
    {
     "name": "stderr",
     "output_type": "stream",
     "text": [
      " 56%|█████▋    | 601/1065 [06:53<05:06,  1.51it/s]"
     ]
    },
    {
     "name": "stdout",
     "output_type": "stream",
     "text": [
      "Epoch 1: 56%, loss: 9.621744\n"
     ]
    },
    {
     "name": "stderr",
     "output_type": "stream",
     "text": [
      " 66%|██████▌   | 701/1065 [08:06<04:38,  1.31it/s]"
     ]
    },
    {
     "name": "stdout",
     "output_type": "stream",
     "text": [
      "Epoch 1: 66%, loss: 81.247551\n"
     ]
    },
    {
     "name": "stderr",
     "output_type": "stream",
     "text": [
      " 75%|███████▌  | 801/1065 [09:17<03:08,  1.40it/s]"
     ]
    },
    {
     "name": "stdout",
     "output_type": "stream",
     "text": [
      "Epoch 1: 75%, loss: 50.658955\n"
     ]
    },
    {
     "name": "stderr",
     "output_type": "stream",
     "text": [
      " 85%|████████▍ | 901/1065 [10:29<02:04,  1.32it/s]"
     ]
    },
    {
     "name": "stdout",
     "output_type": "stream",
     "text": [
      "Epoch 1: 85%, loss: 80.204254\n"
     ]
    },
    {
     "name": "stderr",
     "output_type": "stream",
     "text": [
      " 94%|█████████▍| 1001/1065 [11:42<00:45,  1.40it/s]"
     ]
    },
    {
     "name": "stdout",
     "output_type": "stream",
     "text": [
      "Epoch 1: 94%, loss: 21.342972\n"
     ]
    },
    {
     "name": "stderr",
     "output_type": "stream",
     "text": [
      "100%|██████████| 1065/1065 [12:25<00:00,  1.43it/s]"
     ]
    },
    {
     "name": "stdout",
     "output_type": "stream",
     "text": [
      "Epoch 1: 100%, loss: 51.233295\n"
     ]
    },
    {
     "name": "stderr",
     "output_type": "stream",
     "text": [
      "\n"
     ]
    },
    {
     "name": "stdout",
     "output_type": "stream",
     "text": [
      "                      (F1-score: 0.0243, Precision: 0.0251, Recall: 0.0290)\n",
      "\n",
      "                      (NDCG: 0.0243)\n",
      "\n",
      "                      (MAE: 4.4378)\n",
      "\n",
      "train_loss= tensor(34.3248)\n",
      "--------------------\n"
     ]
    },
    {
     "name": "stderr",
     "output_type": "stream",
     "text": [
      "100%|██████████| 133/133 [01:04<00:00,  2.05it/s]\n"
     ]
    },
    {
     "name": "stdout",
     "output_type": "stream",
     "text": [
      "                      (F1-score: 0.0181, Precision: 0.0189, Recall: 0.0207)\n",
      "\n",
      "                      (NDCG: 0.0174)\n",
      "\n",
      "                      (MAE: 4.1598)\n",
      "\n",
      "val_loss= tensor(30.6526)\n",
      "--------------------\n"
     ]
    },
    {
     "name": "stderr",
     "output_type": "stream",
     "text": [
      "100%|██████████| 133/133 [01:10<00:00,  1.90it/s]\n"
     ]
    },
    {
     "name": "stdout",
     "output_type": "stream",
     "text": [
      "                      (F1-score: 0.0234, Precision: 0.0231, Recall: 0.0277)\n",
      "\n",
      "                      (NDCG: 0.0243)\n",
      "\n",
      "                      (MAE: 4.0038)\n",
      "\n",
      "--------------------\n",
      "[[1, 0.027684618760699196, 0.02308825022157065, 0.023407203724390736, 0.02425057101203479, 4.003759398496241, 29.16179084777832]]\n",
      "-----------------------------------------------------------------------------------------\n"
     ]
    },
    {
     "name": "stderr",
     "output_type": "stream",
     "text": [
      "  0%|          | 1/1065 [00:00<13:26,  1.32it/s]"
     ]
    },
    {
     "name": "stdout",
     "output_type": "stream",
     "text": [
      "Epoch 2: 0%, loss: 62.338982\n"
     ]
    },
    {
     "name": "stderr",
     "output_type": "stream",
     "text": [
      "  9%|▉         | 101/1065 [01:05<10:49,  1.49it/s]"
     ]
    },
    {
     "name": "stdout",
     "output_type": "stream",
     "text": [
      "Epoch 2: 9%, loss: 15.366469\n"
     ]
    },
    {
     "name": "stderr",
     "output_type": "stream",
     "text": [
      " 19%|█▉        | 201/1065 [02:13<09:31,  1.51it/s]"
     ]
    },
    {
     "name": "stdout",
     "output_type": "stream",
     "text": [
      "Epoch 2: 19%, loss: 48.135845\n"
     ]
    },
    {
     "name": "stderr",
     "output_type": "stream",
     "text": [
      " 28%|██▊       | 301/1065 [03:21<08:40,  1.47it/s]"
     ]
    },
    {
     "name": "stdout",
     "output_type": "stream",
     "text": [
      "Epoch 2: 28%, loss: 7.922267\n"
     ]
    },
    {
     "name": "stderr",
     "output_type": "stream",
     "text": [
      " 38%|███▊      | 401/1065 [04:29<07:23,  1.50it/s]"
     ]
    },
    {
     "name": "stdout",
     "output_type": "stream",
     "text": [
      "Epoch 2: 38%, loss: 3.097571\n"
     ]
    },
    {
     "name": "stderr",
     "output_type": "stream",
     "text": [
      " 47%|████▋     | 501/1065 [05:37<06:40,  1.41it/s]"
     ]
    },
    {
     "name": "stdout",
     "output_type": "stream",
     "text": [
      "Epoch 2: 47%, loss: 36.949493\n"
     ]
    },
    {
     "name": "stderr",
     "output_type": "stream",
     "text": [
      " 56%|█████▋    | 601/1065 [06:48<05:33,  1.39it/s]"
     ]
    },
    {
     "name": "stdout",
     "output_type": "stream",
     "text": [
      "Epoch 2: 56%, loss: 10.624592\n"
     ]
    },
    {
     "name": "stderr",
     "output_type": "stream",
     "text": [
      " 66%|██████▌   | 701/1065 [07:59<04:05,  1.48it/s]"
     ]
    },
    {
     "name": "stdout",
     "output_type": "stream",
     "text": [
      "Epoch 2: 66%, loss: 96.905617\n"
     ]
    },
    {
     "name": "stderr",
     "output_type": "stream",
     "text": [
      " 75%|███████▌  | 801/1065 [09:10<03:11,  1.38it/s]"
     ]
    },
    {
     "name": "stdout",
     "output_type": "stream",
     "text": [
      "Epoch 2: 75%, loss: 18.252380\n"
     ]
    },
    {
     "name": "stderr",
     "output_type": "stream",
     "text": [
      " 85%|████████▍ | 901/1065 [10:24<02:03,  1.33it/s]"
     ]
    },
    {
     "name": "stdout",
     "output_type": "stream",
     "text": [
      "Epoch 2: 85%, loss: 20.332546\n"
     ]
    },
    {
     "name": "stderr",
     "output_type": "stream",
     "text": [
      " 94%|█████████▍| 1001/1065 [11:39<00:48,  1.31it/s]"
     ]
    },
    {
     "name": "stdout",
     "output_type": "stream",
     "text": [
      "Epoch 2: 94%, loss: 6.727111\n"
     ]
    },
    {
     "name": "stderr",
     "output_type": "stream",
     "text": [
      "100%|██████████| 1065/1065 [12:23<00:00,  1.43it/s]"
     ]
    },
    {
     "name": "stdout",
     "output_type": "stream",
     "text": [
      "Epoch 2: 100%, loss: 54.985596\n"
     ]
    },
    {
     "name": "stderr",
     "output_type": "stream",
     "text": [
      "\n"
     ]
    },
    {
     "name": "stdout",
     "output_type": "stream",
     "text": [
      "                      (F1-score: 0.0062, Precision: 0.0061, Recall: 0.0072)\n",
      "\n",
      "                      (NDCG: 0.0063)\n",
      "\n",
      "                      (MAE: 4.0985)\n",
      "\n",
      "train_loss= tensor(29.2479)\n",
      "--------------------\n"
     ]
    },
    {
     "name": "stderr",
     "output_type": "stream",
     "text": [
      "100%|██████████| 133/133 [01:09<00:00,  1.90it/s]\n"
     ]
    },
    {
     "name": "stdout",
     "output_type": "stream",
     "text": [
      "                      (F1-score: 0.0177, Precision: 0.0166, Recall: 0.0223)\n",
      "\n",
      "                      (NDCG: 0.0188)\n",
      "\n",
      "                      (MAE: 4.3741)\n",
      "\n",
      "val_loss= tensor(30.3086)\n",
      "--------------------\n"
     ]
    },
    {
     "name": "stderr",
     "output_type": "stream",
     "text": [
      "100%|██████████| 133/133 [01:11<00:00,  1.87it/s]\n"
     ]
    },
    {
     "name": "stdout",
     "output_type": "stream",
     "text": [
      "                      (F1-score: 0.0232, Precision: 0.0215, Recall: 0.0298)\n",
      "\n",
      "                      (NDCG: 0.0240)\n",
      "\n",
      "                      (MAE: 4.4211)\n",
      "\n",
      "--------------------\n",
      "[[1, 0.027684618760699196, 0.02308825022157065, 0.023407203724390736, 0.02425057101203479, 4.003759398496241, 29.16179084777832], [2, 0.029753407291689394, 0.021515822479415667, 0.0232305488528067, 0.023993875229157004, 4.421052631578948, 30.407958984375]]\n",
      "-----------------------------------------------------------------------------------------\n"
     ]
    },
    {
     "name": "stderr",
     "output_type": "stream",
     "text": [
      "  0%|          | 1/1065 [00:00<08:25,  2.10it/s]"
     ]
    },
    {
     "name": "stdout",
     "output_type": "stream",
     "text": [
      "Epoch 3: 0%, loss: 14.059610\n"
     ]
    },
    {
     "name": "stderr",
     "output_type": "stream",
     "text": [
      "  9%|▉         | 101/1065 [01:06<10:35,  1.52it/s]"
     ]
    },
    {
     "name": "stdout",
     "output_type": "stream",
     "text": [
      "Epoch 3: 9%, loss: 16.517504\n"
     ]
    },
    {
     "name": "stderr",
     "output_type": "stream",
     "text": [
      " 19%|█▉        | 201/1065 [02:13<09:18,  1.55it/s]"
     ]
    },
    {
     "name": "stdout",
     "output_type": "stream",
     "text": [
      "Epoch 3: 19%, loss: 39.307129\n"
     ]
    },
    {
     "name": "stderr",
     "output_type": "stream",
     "text": [
      " 28%|██▊       | 301/1065 [03:21<08:43,  1.46it/s]"
     ]
    },
    {
     "name": "stdout",
     "output_type": "stream",
     "text": [
      "Epoch 3: 28%, loss: 11.589404\n"
     ]
    },
    {
     "name": "stderr",
     "output_type": "stream",
     "text": [
      " 38%|███▊      | 401/1065 [04:31<07:50,  1.41it/s]"
     ]
    },
    {
     "name": "stdout",
     "output_type": "stream",
     "text": [
      "Epoch 3: 38%, loss: 94.281555\n"
     ]
    },
    {
     "name": "stderr",
     "output_type": "stream",
     "text": [
      " 47%|████▋     | 501/1065 [05:40<06:44,  1.39it/s]"
     ]
    },
    {
     "name": "stdout",
     "output_type": "stream",
     "text": [
      "Epoch 3: 47%, loss: 23.302443\n"
     ]
    },
    {
     "name": "stderr",
     "output_type": "stream",
     "text": [
      " 56%|█████▋    | 601/1065 [06:52<05:17,  1.46it/s]"
     ]
    },
    {
     "name": "stdout",
     "output_type": "stream",
     "text": [
      "Epoch 3: 56%, loss: 137.214432\n"
     ]
    },
    {
     "name": "stderr",
     "output_type": "stream",
     "text": [
      " 66%|██████▌   | 701/1065 [08:01<03:53,  1.56it/s]"
     ]
    },
    {
     "name": "stdout",
     "output_type": "stream",
     "text": [
      "Epoch 3: 66%, loss: 6.338503\n"
     ]
    },
    {
     "name": "stderr",
     "output_type": "stream",
     "text": [
      " 75%|███████▌  | 801/1065 [09:12<03:00,  1.46it/s]"
     ]
    },
    {
     "name": "stdout",
     "output_type": "stream",
     "text": [
      "Epoch 3: 75%, loss: 39.703617\n"
     ]
    },
    {
     "name": "stderr",
     "output_type": "stream",
     "text": [
      " 85%|████████▍ | 901/1065 [10:26<02:11,  1.24it/s]"
     ]
    },
    {
     "name": "stdout",
     "output_type": "stream",
     "text": [
      "Epoch 3: 85%, loss: 9.565330\n"
     ]
    },
    {
     "name": "stderr",
     "output_type": "stream",
     "text": [
      " 94%|█████████▍| 1001/1065 [11:39<00:47,  1.35it/s]"
     ]
    },
    {
     "name": "stdout",
     "output_type": "stream",
     "text": [
      "Epoch 3: 94%, loss: 7.069399\n"
     ]
    },
    {
     "name": "stderr",
     "output_type": "stream",
     "text": [
      "100%|██████████| 1065/1065 [12:22<00:00,  1.44it/s]"
     ]
    },
    {
     "name": "stdout",
     "output_type": "stream",
     "text": [
      "Epoch 3: 100%, loss: 11.575210\n"
     ]
    },
    {
     "name": "stderr",
     "output_type": "stream",
     "text": [
      "\n"
     ]
    },
    {
     "name": "stdout",
     "output_type": "stream",
     "text": [
      "                      (F1-score: 0.0064, Precision: 0.0064, Recall: 0.0074)\n",
      "\n",
      "                      (NDCG: 0.0069)\n",
      "\n",
      "                      (MAE: 4.0599)\n",
      "\n",
      "train_loss= tensor(28.5752)\n",
      "--------------------\n"
     ]
    },
    {
     "name": "stderr",
     "output_type": "stream",
     "text": [
      "100%|██████████| 133/133 [01:10<00:00,  1.88it/s]\n"
     ]
    },
    {
     "name": "stdout",
     "output_type": "stream",
     "text": [
      "                      (F1-score: 0.0173, Precision: 0.0165, Recall: 0.0210)\n",
      "\n",
      "                      (NDCG: 0.0217)\n",
      "\n",
      "                      (MAE: 4.1917)\n",
      "\n",
      "val_loss= tensor(29.6654)\n",
      "--------------------\n"
     ]
    },
    {
     "name": "stderr",
     "output_type": "stream",
     "text": [
      "100%|██████████| 133/133 [01:11<00:00,  1.85it/s]\n"
     ]
    },
    {
     "name": "stdout",
     "output_type": "stream",
     "text": [
      "                      (F1-score: 0.0209, Precision: 0.0194, Recall: 0.0265)\n",
      "\n",
      "                      (NDCG: 0.0247)\n",
      "\n",
      "                      (MAE: 4.1372)\n",
      "\n",
      "--------------------\n",
      "[[1, 0.027684618760699196, 0.02308825022157065, 0.023407203724390736, 0.02425057101203479, 4.003759398496241, 29.16179084777832], [2, 0.029753407291689394, 0.021515822479415667, 0.0232305488528067, 0.023993875229157004, 4.421052631578948, 30.407958984375], [3, 0.026521754517610723, 0.01944572645160705, 0.02094783241188929, 0.024746779620269298, 4.137218045112782, 28.88351058959961]]\n",
      "-----------------------------------------------------------------------------------------\n"
     ]
    },
    {
     "name": "stderr",
     "output_type": "stream",
     "text": [
      "  0%|          | 1/1065 [00:00<08:52,  2.00it/s]"
     ]
    },
    {
     "name": "stdout",
     "output_type": "stream",
     "text": [
      "Epoch 4: 0%, loss: 17.955910\n"
     ]
    },
    {
     "name": "stderr",
     "output_type": "stream",
     "text": [
      "  9%|▉         | 101/1065 [01:05<10:46,  1.49it/s]"
     ]
    },
    {
     "name": "stdout",
     "output_type": "stream",
     "text": [
      "Epoch 4: 9%, loss: 101.544418\n"
     ]
    },
    {
     "name": "stderr",
     "output_type": "stream",
     "text": [
      " 19%|█▉        | 201/1065 [02:12<09:50,  1.46it/s]"
     ]
    },
    {
     "name": "stdout",
     "output_type": "stream",
     "text": [
      "Epoch 4: 19%, loss: 13.707952\n"
     ]
    },
    {
     "name": "stderr",
     "output_type": "stream",
     "text": [
      " 28%|██▊       | 301/1065 [03:21<08:31,  1.49it/s]"
     ]
    },
    {
     "name": "stdout",
     "output_type": "stream",
     "text": [
      "Epoch 4: 28%, loss: 59.487045\n"
     ]
    },
    {
     "name": "stderr",
     "output_type": "stream",
     "text": [
      " 38%|███▊      | 401/1065 [04:29<07:05,  1.56it/s]"
     ]
    },
    {
     "name": "stdout",
     "output_type": "stream",
     "text": [
      "Epoch 4: 38%, loss: 45.876343\n"
     ]
    },
    {
     "name": "stderr",
     "output_type": "stream",
     "text": [
      " 47%|████▋     | 501/1065 [05:38<06:26,  1.46it/s]"
     ]
    },
    {
     "name": "stdout",
     "output_type": "stream",
     "text": [
      "Epoch 4: 47%, loss: 21.214241\n"
     ]
    },
    {
     "name": "stderr",
     "output_type": "stream",
     "text": [
      " 56%|█████▋    | 601/1065 [06:48<05:23,  1.44it/s]"
     ]
    },
    {
     "name": "stdout",
     "output_type": "stream",
     "text": [
      "Epoch 4: 56%, loss: 31.015839\n"
     ]
    },
    {
     "name": "stderr",
     "output_type": "stream",
     "text": [
      " 66%|██████▌   | 701/1065 [08:00<04:31,  1.34it/s]"
     ]
    },
    {
     "name": "stdout",
     "output_type": "stream",
     "text": [
      "Epoch 4: 66%, loss: 12.651834\n"
     ]
    },
    {
     "name": "stderr",
     "output_type": "stream",
     "text": [
      " 75%|███████▌  | 801/1065 [09:13<03:14,  1.36it/s]"
     ]
    },
    {
     "name": "stdout",
     "output_type": "stream",
     "text": [
      "Epoch 4: 75%, loss: 41.500774\n"
     ]
    },
    {
     "name": "stderr",
     "output_type": "stream",
     "text": [
      " 85%|████████▍ | 901/1065 [10:27<02:01,  1.35it/s]"
     ]
    },
    {
     "name": "stdout",
     "output_type": "stream",
     "text": [
      "Epoch 4: 85%, loss: 21.267649\n"
     ]
    },
    {
     "name": "stderr",
     "output_type": "stream",
     "text": [
      " 94%|█████████▍| 1001/1065 [11:41<00:44,  1.44it/s]"
     ]
    },
    {
     "name": "stdout",
     "output_type": "stream",
     "text": [
      "Epoch 4: 94%, loss: 36.192200\n"
     ]
    },
    {
     "name": "stderr",
     "output_type": "stream",
     "text": [
      "100%|██████████| 1065/1065 [12:21<00:00,  1.44it/s]"
     ]
    },
    {
     "name": "stdout",
     "output_type": "stream",
     "text": [
      "Epoch 4: 100%, loss: 15.541870\n"
     ]
    },
    {
     "name": "stderr",
     "output_type": "stream",
     "text": [
      "\n"
     ]
    },
    {
     "name": "stdout",
     "output_type": "stream",
     "text": [
      "                      (F1-score: 0.0134, Precision: 0.0131, Recall: 0.0158)\n",
      "\n",
      "                      (NDCG: 0.0149)\n",
      "\n",
      "                      (MAE: 4.0331)\n",
      "\n",
      "train_loss= tensor(28.5533)\n",
      "--------------------\n"
     ]
    },
    {
     "name": "stderr",
     "output_type": "stream",
     "text": [
      "100%|██████████| 133/133 [01:09<00:00,  1.93it/s]\n"
     ]
    },
    {
     "name": "stdout",
     "output_type": "stream",
     "text": [
      "                      (F1-score: 0.0246, Precision: 0.0247, Recall: 0.0283)\n",
      "\n",
      "                      (NDCG: 0.0284)\n",
      "\n",
      "                      (MAE: 4.0611)\n",
      "\n",
      "val_loss= tensor(28.8870)\n",
      "--------------------\n"
     ]
    },
    {
     "name": "stderr",
     "output_type": "stream",
     "text": [
      "100%|██████████| 133/133 [01:11<00:00,  1.87it/s]\n"
     ]
    },
    {
     "name": "stdout",
     "output_type": "stream",
     "text": [
      "                      (F1-score: 0.0305, Precision: 0.0297, Recall: 0.0362)\n",
      "\n",
      "                      (NDCG: 0.0332)\n",
      "\n",
      "                      (MAE: 3.9586)\n",
      "\n",
      "--------------------\n",
      "[[1, 0.027684618760699196, 0.02308825022157065, 0.023407203724390736, 0.02425057101203479, 4.003759398496241, 29.16179084777832], [2, 0.029753407291689394, 0.021515822479415667, 0.0232305488528067, 0.023993875229157004, 4.421052631578948, 30.407958984375], [3, 0.026521754517610723, 0.01944572645160705, 0.02094783241188929, 0.024746779620269298, 4.137218045112782, 28.88351058959961], [4, 0.03624619405222976, 0.029654036711056195, 0.030453093470484346, 0.033177578982834084, 3.9586466165413534, 28.095319747924805]]\n",
      "-----------------------------------------------------------------------------------------\n"
     ]
    },
    {
     "name": "stderr",
     "output_type": "stream",
     "text": [
      "  0%|          | 1/1065 [00:00<08:20,  2.13it/s]"
     ]
    },
    {
     "name": "stdout",
     "output_type": "stream",
     "text": [
      "Epoch 5: 0%, loss: 9.695781\n"
     ]
    },
    {
     "name": "stderr",
     "output_type": "stream",
     "text": [
      "  9%|▉         | 101/1065 [01:04<08:48,  1.82it/s]"
     ]
    },
    {
     "name": "stdout",
     "output_type": "stream",
     "text": [
      "Epoch 5: 9%, loss: 12.875009\n"
     ]
    },
    {
     "name": "stderr",
     "output_type": "stream",
     "text": [
      " 19%|█▉        | 201/1065 [02:12<09:47,  1.47it/s]"
     ]
    },
    {
     "name": "stdout",
     "output_type": "stream",
     "text": [
      "Epoch 5: 19%, loss: 14.192548\n"
     ]
    },
    {
     "name": "stderr",
     "output_type": "stream",
     "text": [
      " 28%|██▊       | 301/1065 [03:20<08:40,  1.47it/s]"
     ]
    },
    {
     "name": "stdout",
     "output_type": "stream",
     "text": [
      "Epoch 5: 28%, loss: 15.330568\n"
     ]
    },
    {
     "name": "stderr",
     "output_type": "stream",
     "text": [
      " 38%|███▊      | 401/1065 [04:29<07:45,  1.43it/s]"
     ]
    },
    {
     "name": "stdout",
     "output_type": "stream",
     "text": [
      "Epoch 5: 38%, loss: 14.479499\n"
     ]
    },
    {
     "name": "stderr",
     "output_type": "stream",
     "text": [
      " 47%|████▋     | 501/1065 [05:38<06:18,  1.49it/s]"
     ]
    },
    {
     "name": "stdout",
     "output_type": "stream",
     "text": [
      "Epoch 5: 47%, loss: 19.430983\n"
     ]
    },
    {
     "name": "stderr",
     "output_type": "stream",
     "text": [
      " 56%|█████▋    | 601/1065 [06:49<05:38,  1.37it/s]"
     ]
    },
    {
     "name": "stdout",
     "output_type": "stream",
     "text": [
      "Epoch 5: 56%, loss: 16.834627\n"
     ]
    },
    {
     "name": "stderr",
     "output_type": "stream",
     "text": [
      " 66%|██████▌   | 701/1065 [08:00<04:03,  1.49it/s]"
     ]
    },
    {
     "name": "stdout",
     "output_type": "stream",
     "text": [
      "Epoch 5: 66%, loss: 30.083185\n"
     ]
    },
    {
     "name": "stderr",
     "output_type": "stream",
     "text": [
      " 75%|███████▌  | 801/1065 [09:11<02:52,  1.53it/s]"
     ]
    },
    {
     "name": "stdout",
     "output_type": "stream",
     "text": [
      "Epoch 5: 75%, loss: 12.538105\n"
     ]
    },
    {
     "name": "stderr",
     "output_type": "stream",
     "text": [
      " 85%|████████▍ | 901/1065 [10:24<01:57,  1.40it/s]"
     ]
    },
    {
     "name": "stdout",
     "output_type": "stream",
     "text": [
      "Epoch 5: 85%, loss: 37.448330\n"
     ]
    },
    {
     "name": "stderr",
     "output_type": "stream",
     "text": [
      " 94%|█████████▍| 1001/1065 [11:38<00:42,  1.49it/s]"
     ]
    },
    {
     "name": "stdout",
     "output_type": "stream",
     "text": [
      "Epoch 5: 94%, loss: 16.935003\n"
     ]
    },
    {
     "name": "stderr",
     "output_type": "stream",
     "text": [
      "100%|██████████| 1065/1065 [12:18<00:00,  1.44it/s]"
     ]
    },
    {
     "name": "stdout",
     "output_type": "stream",
     "text": [
      "Epoch 5: 100%, loss: 9.538665\n"
     ]
    },
    {
     "name": "stderr",
     "output_type": "stream",
     "text": [
      "\n"
     ]
    },
    {
     "name": "stdout",
     "output_type": "stream",
     "text": [
      "                      (F1-score: 0.0239, Precision: 0.0236, Recall: 0.0281)\n",
      "\n",
      "                      (NDCG: 0.0266)\n",
      "\n",
      "                      (MAE: 4.0207)\n",
      "\n",
      "train_loss= tensor(28.1836)\n",
      "--------------------\n"
     ]
    },
    {
     "name": "stderr",
     "output_type": "stream",
     "text": [
      "100%|██████████| 133/133 [01:07<00:00,  1.98it/s]\n"
     ]
    },
    {
     "name": "stdout",
     "output_type": "stream",
     "text": [
      "                      (F1-score: 0.0337, Precision: 0.0342, Recall: 0.0386)\n",
      "\n",
      "                      (NDCG: 0.0344)\n",
      "\n",
      "                      (MAE: 4.0555)\n",
      "\n",
      "val_loss= tensor(28.4474)\n",
      "--------------------\n"
     ]
    },
    {
     "name": "stderr",
     "output_type": "stream",
     "text": [
      "100%|██████████| 133/133 [01:12<00:00,  1.84it/s]\n"
     ]
    },
    {
     "name": "stdout",
     "output_type": "stream",
     "text": [
      "                      (F1-score: 0.0401, Precision: 0.0393, Recall: 0.0472)\n",
      "\n",
      "                      (NDCG: 0.0402)\n",
      "\n",
      "                      (MAE: 3.9859)\n",
      "\n",
      "--------------------\n",
      "[[1, 0.027684618760699196, 0.02308825022157065, 0.023407203724390736, 0.02425057101203479, 4.003759398496241, 29.16179084777832], [2, 0.029753407291689394, 0.021515822479415667, 0.0232305488528067, 0.023993875229157004, 4.421052631578948, 30.407958984375], [3, 0.026521754517610723, 0.01944572645160705, 0.02094783241188929, 0.024746779620269298, 4.137218045112782, 28.88351058959961], [4, 0.03624619405222976, 0.029654036711056195, 0.030453093470484346, 0.033177578982834084, 3.9586466165413534, 28.095319747924805], [5, 0.04717163886405594, 0.03934299183736815, 0.04008028821891348, 0.04018991429855893, 3.9859022556390977, 27.89865493774414]]\n",
      "-----------------------------------------------------------------------------------------\n"
     ]
    },
    {
     "name": "stderr",
     "output_type": "stream",
     "text": [
      "  0%|          | 1/1065 [00:00<08:07,  2.18it/s]"
     ]
    },
    {
     "name": "stdout",
     "output_type": "stream",
     "text": [
      "Epoch 6: 0%, loss: 113.941841\n"
     ]
    },
    {
     "name": "stderr",
     "output_type": "stream",
     "text": [
      "  9%|▉         | 101/1065 [01:06<11:03,  1.45it/s]"
     ]
    },
    {
     "name": "stdout",
     "output_type": "stream",
     "text": [
      "Epoch 6: 9%, loss: 71.536926\n"
     ]
    },
    {
     "name": "stderr",
     "output_type": "stream",
     "text": [
      " 19%|█▉        | 201/1065 [02:13<10:02,  1.43it/s]"
     ]
    },
    {
     "name": "stdout",
     "output_type": "stream",
     "text": [
      "Epoch 6: 19%, loss: 37.571571\n"
     ]
    },
    {
     "name": "stderr",
     "output_type": "stream",
     "text": [
      " 28%|██▊       | 301/1065 [03:21<08:45,  1.45it/s]"
     ]
    },
    {
     "name": "stdout",
     "output_type": "stream",
     "text": [
      "Epoch 6: 28%, loss: 43.569077\n"
     ]
    },
    {
     "name": "stderr",
     "output_type": "stream",
     "text": [
      " 38%|███▊      | 401/1065 [04:30<07:42,  1.44it/s]"
     ]
    },
    {
     "name": "stdout",
     "output_type": "stream",
     "text": [
      "Epoch 6: 38%, loss: 3.962194\n"
     ]
    },
    {
     "name": "stderr",
     "output_type": "stream",
     "text": [
      " 47%|████▋     | 501/1065 [05:38<06:36,  1.42it/s]"
     ]
    },
    {
     "name": "stdout",
     "output_type": "stream",
     "text": [
      "Epoch 6: 47%, loss: 44.296711\n"
     ]
    },
    {
     "name": "stderr",
     "output_type": "stream",
     "text": [
      " 56%|█████▋    | 601/1065 [06:49<05:18,  1.46it/s]"
     ]
    },
    {
     "name": "stdout",
     "output_type": "stream",
     "text": [
      "Epoch 6: 56%, loss: 8.163268\n"
     ]
    },
    {
     "name": "stderr",
     "output_type": "stream",
     "text": [
      " 66%|██████▌   | 701/1065 [07:58<04:14,  1.43it/s]"
     ]
    },
    {
     "name": "stdout",
     "output_type": "stream",
     "text": [
      "Epoch 6: 66%, loss: 8.550879\n"
     ]
    },
    {
     "name": "stderr",
     "output_type": "stream",
     "text": [
      " 75%|███████▌  | 801/1065 [09:11<02:58,  1.48it/s]"
     ]
    },
    {
     "name": "stdout",
     "output_type": "stream",
     "text": [
      "Epoch 6: 75%, loss: 131.791138\n"
     ]
    },
    {
     "name": "stderr",
     "output_type": "stream",
     "text": [
      " 85%|████████▍ | 901/1065 [10:24<02:04,  1.32it/s]"
     ]
    },
    {
     "name": "stdout",
     "output_type": "stream",
     "text": [
      "Epoch 6: 85%, loss: 10.496341\n"
     ]
    },
    {
     "name": "stderr",
     "output_type": "stream",
     "text": [
      " 94%|█████████▍| 1001/1065 [11:37<00:43,  1.46it/s]"
     ]
    },
    {
     "name": "stdout",
     "output_type": "stream",
     "text": [
      "Epoch 6: 94%, loss: 19.274416\n"
     ]
    },
    {
     "name": "stderr",
     "output_type": "stream",
     "text": [
      "100%|██████████| 1065/1065 [12:16<00:00,  1.45it/s]"
     ]
    },
    {
     "name": "stdout",
     "output_type": "stream",
     "text": [
      "Epoch 6: 100%, loss: 29.761185\n"
     ]
    },
    {
     "name": "stderr",
     "output_type": "stream",
     "text": [
      "\n"
     ]
    },
    {
     "name": "stdout",
     "output_type": "stream",
     "text": [
      "                      (F1-score: 0.0368, Precision: 0.0364, Recall: 0.0429)\n",
      "\n",
      "                      (NDCG: 0.0367)\n",
      "\n",
      "                      (MAE: 4.0211)\n",
      "\n",
      "train_loss= tensor(28.2970)\n",
      "--------------------\n"
     ]
    },
    {
     "name": "stderr",
     "output_type": "stream",
     "text": [
      "100%|██████████| 133/133 [01:10<00:00,  1.88it/s]\n"
     ]
    },
    {
     "name": "stdout",
     "output_type": "stream",
     "text": [
      "                      (F1-score: 0.0399, Precision: 0.0388, Recall: 0.0480)\n",
      "\n",
      "                      (NDCG: 0.0383)\n",
      "\n",
      "                      (MAE: 4.2857)\n",
      "\n",
      "val_loss= tensor(28.8355)\n",
      "--------------------\n"
     ]
    },
    {
     "name": "stderr",
     "output_type": "stream",
     "text": [
      "100%|██████████| 133/133 [01:09<00:00,  1.92it/s]\n"
     ]
    },
    {
     "name": "stdout",
     "output_type": "stream",
     "text": [
      "                      (F1-score: 0.0473, Precision: 0.0437, Recall: 0.0593)\n",
      "\n",
      "                      (NDCG: 0.0441)\n",
      "\n",
      "                      (MAE: 4.2914)\n",
      "\n",
      "--------------------\n",
      "[[1, 0.027684618760699196, 0.02308825022157065, 0.023407203724390736, 0.02425057101203479, 4.003759398496241, 29.16179084777832], [2, 0.029753407291689394, 0.021515822479415667, 0.0232305488528067, 0.023993875229157004, 4.421052631578948, 30.407958984375], [3, 0.026521754517610723, 0.01944572645160705, 0.02094783241188929, 0.024746779620269298, 4.137218045112782, 28.88351058959961], [4, 0.03624619405222976, 0.029654036711056195, 0.030453093470484346, 0.033177578982834084, 3.9586466165413534, 28.095319747924805], [5, 0.04717163886405594, 0.03934299183736815, 0.04008028821891348, 0.04018991429855893, 3.9859022556390977, 27.89865493774414], [6, 0.05929630975854816, 0.04367347102124021, 0.04727637263056405, 0.04411227062530115, 4.291353383458647, 28.584774017333984]]\n",
      "-----------------------------------------------------------------------------------------\n"
     ]
    },
    {
     "name": "stderr",
     "output_type": "stream",
     "text": [
      "  0%|          | 1/1065 [00:00<08:00,  2.21it/s]"
     ]
    },
    {
     "name": "stdout",
     "output_type": "stream",
     "text": [
      "Epoch 7: 0%, loss: 33.732632\n"
     ]
    },
    {
     "name": "stderr",
     "output_type": "stream",
     "text": [
      "  9%|▉         | 101/1065 [01:06<11:01,  1.46it/s]"
     ]
    },
    {
     "name": "stdout",
     "output_type": "stream",
     "text": [
      "Epoch 7: 9%, loss: 21.804943\n"
     ]
    },
    {
     "name": "stderr",
     "output_type": "stream",
     "text": [
      " 19%|█▉        | 201/1065 [02:13<10:02,  1.43it/s]"
     ]
    },
    {
     "name": "stdout",
     "output_type": "stream",
     "text": [
      "Epoch 7: 19%, loss: 22.506517\n"
     ]
    },
    {
     "name": "stderr",
     "output_type": "stream",
     "text": [
      " 28%|██▊       | 301/1065 [03:22<08:39,  1.47it/s]"
     ]
    },
    {
     "name": "stdout",
     "output_type": "stream",
     "text": [
      "Epoch 7: 28%, loss: 40.324535\n"
     ]
    },
    {
     "name": "stderr",
     "output_type": "stream",
     "text": [
      " 38%|███▊      | 401/1065 [04:30<07:18,  1.51it/s]"
     ]
    },
    {
     "name": "stdout",
     "output_type": "stream",
     "text": [
      "Epoch 7: 38%, loss: 5.469297\n"
     ]
    },
    {
     "name": "stderr",
     "output_type": "stream",
     "text": [
      " 47%|████▋     | 501/1065 [05:38<05:39,  1.66it/s]"
     ]
    },
    {
     "name": "stdout",
     "output_type": "stream",
     "text": [
      "Epoch 7: 47%, loss: 14.234263\n"
     ]
    },
    {
     "name": "stderr",
     "output_type": "stream",
     "text": [
      " 56%|█████▋    | 601/1065 [06:47<05:35,  1.38it/s]"
     ]
    },
    {
     "name": "stdout",
     "output_type": "stream",
     "text": [
      "Epoch 7: 56%, loss: 4.069401\n"
     ]
    },
    {
     "name": "stderr",
     "output_type": "stream",
     "text": [
      " 66%|██████▌   | 701/1065 [07:58<04:20,  1.40it/s]"
     ]
    },
    {
     "name": "stdout",
     "output_type": "stream",
     "text": [
      "Epoch 7: 66%, loss: 20.834696\n"
     ]
    },
    {
     "name": "stderr",
     "output_type": "stream",
     "text": [
      " 75%|███████▌  | 801/1065 [09:10<03:21,  1.31it/s]"
     ]
    },
    {
     "name": "stdout",
     "output_type": "stream",
     "text": [
      "Epoch 7: 75%, loss: 13.572617\n"
     ]
    },
    {
     "name": "stderr",
     "output_type": "stream",
     "text": [
      " 85%|████████▍ | 901/1065 [10:24<02:03,  1.33it/s]"
     ]
    },
    {
     "name": "stdout",
     "output_type": "stream",
     "text": [
      "Epoch 7: 85%, loss: 14.898796\n"
     ]
    },
    {
     "name": "stderr",
     "output_type": "stream",
     "text": [
      " 94%|█████████▍| 1001/1065 [11:37<00:41,  1.53it/s]"
     ]
    },
    {
     "name": "stdout",
     "output_type": "stream",
     "text": [
      "Epoch 7: 94%, loss: 227.414474\n"
     ]
    },
    {
     "name": "stderr",
     "output_type": "stream",
     "text": [
      "100%|██████████| 1065/1065 [12:17<00:00,  1.44it/s]"
     ]
    },
    {
     "name": "stdout",
     "output_type": "stream",
     "text": [
      "Epoch 7: 100%, loss: 40.929176\n"
     ]
    },
    {
     "name": "stderr",
     "output_type": "stream",
     "text": [
      "\n"
     ]
    },
    {
     "name": "stdout",
     "output_type": "stream",
     "text": [
      "                      (F1-score: 0.0423, Precision: 0.0418, Recall: 0.0492)\n",
      "\n",
      "                      (NDCG: 0.0407)\n",
      "\n",
      "                      (MAE: 3.9945)\n",
      "\n",
      "train_loss= tensor(27.8725)\n",
      "--------------------\n"
     ]
    },
    {
     "name": "stderr",
     "output_type": "stream",
     "text": [
      "100%|██████████| 133/133 [01:06<00:00,  2.00it/s]\n"
     ]
    },
    {
     "name": "stdout",
     "output_type": "stream",
     "text": [
      "                      (F1-score: 0.0404, Precision: 0.0405, Recall: 0.0465)\n",
      "\n",
      "                      (NDCG: 0.0390)\n",
      "\n",
      "                      (MAE: 4.0761)\n",
      "\n",
      "val_loss= tensor(28.1049)\n",
      "--------------------\n"
     ]
    },
    {
     "name": "stderr",
     "output_type": "stream",
     "text": [
      "100%|██████████| 133/133 [01:11<00:00,  1.86it/s]\n"
     ]
    },
    {
     "name": "stdout",
     "output_type": "stream",
     "text": [
      "                      (F1-score: 0.0492, Precision: 0.0473, Recall: 0.0590)\n",
      "\n",
      "                      (NDCG: 0.0458)\n",
      "\n",
      "                      (MAE: 4.0357)\n",
      "\n",
      "--------------------\n",
      "[[1, 0.027684618760699196, 0.02308825022157065, 0.023407203724390736, 0.02425057101203479, 4.003759398496241, 29.16179084777832], [2, 0.029753407291689394, 0.021515822479415667, 0.0232305488528067, 0.023993875229157004, 4.421052631578948, 30.407958984375], [3, 0.026521754517610723, 0.01944572645160705, 0.02094783241188929, 0.024746779620269298, 4.137218045112782, 28.88351058959961], [4, 0.03624619405222976, 0.029654036711056195, 0.030453093470484346, 0.033177578982834084, 3.9586466165413534, 28.095319747924805], [5, 0.04717163886405594, 0.03934299183736815, 0.04008028821891348, 0.04018991429855893, 3.9859022556390977, 27.89865493774414], [6, 0.05929630975854816, 0.04367347102124021, 0.04727637263056405, 0.04411227062530115, 4.291353383458647, 28.584774017333984], [7, 0.05896189022993655, 0.04731208483125295, 0.04924575375086795, 0.04581683718413815, 4.035714285714286, 27.885095596313477]]\n",
      "-----------------------------------------------------------------------------------------\n"
     ]
    },
    {
     "name": "stderr",
     "output_type": "stream",
     "text": [
      "  0%|          | 1/1065 [00:00<08:02,  2.21it/s]"
     ]
    },
    {
     "name": "stdout",
     "output_type": "stream",
     "text": [
      "Epoch 8: 0%, loss: 19.303431\n"
     ]
    },
    {
     "name": "stderr",
     "output_type": "stream",
     "text": [
      "  9%|▉         | 101/1065 [01:06<10:38,  1.51it/s]"
     ]
    },
    {
     "name": "stdout",
     "output_type": "stream",
     "text": [
      "Epoch 8: 9%, loss: 10.532774\n"
     ]
    },
    {
     "name": "stderr",
     "output_type": "stream",
     "text": [
      " 19%|█▉        | 201/1065 [02:13<09:40,  1.49it/s]"
     ]
    },
    {
     "name": "stdout",
     "output_type": "stream",
     "text": [
      "Epoch 8: 19%, loss: 20.777813\n"
     ]
    },
    {
     "name": "stderr",
     "output_type": "stream",
     "text": [
      " 28%|██▊       | 301/1065 [03:21<08:36,  1.48it/s]"
     ]
    },
    {
     "name": "stdout",
     "output_type": "stream",
     "text": [
      "Epoch 8: 28%, loss: 17.474766\n"
     ]
    },
    {
     "name": "stderr",
     "output_type": "stream",
     "text": [
      " 38%|███▊      | 401/1065 [04:29<06:56,  1.59it/s]"
     ]
    },
    {
     "name": "stdout",
     "output_type": "stream",
     "text": [
      "Epoch 8: 38%, loss: 55.384903\n"
     ]
    },
    {
     "name": "stderr",
     "output_type": "stream",
     "text": [
      " 47%|████▋     | 501/1065 [05:39<06:40,  1.41it/s]"
     ]
    },
    {
     "name": "stdout",
     "output_type": "stream",
     "text": [
      "Epoch 8: 47%, loss: 48.879501\n"
     ]
    },
    {
     "name": "stderr",
     "output_type": "stream",
     "text": [
      " 56%|█████▋    | 601/1065 [06:49<05:32,  1.40it/s]"
     ]
    },
    {
     "name": "stdout",
     "output_type": "stream",
     "text": [
      "Epoch 8: 56%, loss: 12.669524\n"
     ]
    },
    {
     "name": "stderr",
     "output_type": "stream",
     "text": [
      " 66%|██████▌   | 701/1065 [08:00<04:30,  1.34it/s]"
     ]
    },
    {
     "name": "stdout",
     "output_type": "stream",
     "text": [
      "Epoch 8: 66%, loss: 19.617161\n"
     ]
    },
    {
     "name": "stderr",
     "output_type": "stream",
     "text": [
      " 75%|███████▌  | 801/1065 [09:11<03:27,  1.27it/s]"
     ]
    },
    {
     "name": "stdout",
     "output_type": "stream",
     "text": [
      "Epoch 8: 75%, loss: 7.770417\n"
     ]
    },
    {
     "name": "stderr",
     "output_type": "stream",
     "text": [
      " 85%|████████▍ | 901/1065 [10:24<02:03,  1.33it/s]"
     ]
    },
    {
     "name": "stdout",
     "output_type": "stream",
     "text": [
      "Epoch 8: 85%, loss: 12.115859\n"
     ]
    },
    {
     "name": "stderr",
     "output_type": "stream",
     "text": [
      " 94%|█████████▍| 1001/1065 [11:39<00:45,  1.42it/s]"
     ]
    },
    {
     "name": "stdout",
     "output_type": "stream",
     "text": [
      "Epoch 8: 94%, loss: 5.988437\n"
     ]
    },
    {
     "name": "stderr",
     "output_type": "stream",
     "text": [
      "100%|██████████| 1065/1065 [12:17<00:00,  1.44it/s]"
     ]
    },
    {
     "name": "stdout",
     "output_type": "stream",
     "text": [
      "Epoch 8: 100%, loss: 36.363747\n"
     ]
    },
    {
     "name": "stderr",
     "output_type": "stream",
     "text": [
      "\n"
     ]
    },
    {
     "name": "stdout",
     "output_type": "stream",
     "text": [
      "                      (F1-score: 0.0425, Precision: 0.0420, Recall: 0.0495)\n",
      "\n",
      "                      (NDCG: 0.0405)\n",
      "\n",
      "                      (MAE: 3.9960)\n",
      "\n",
      "train_loss= tensor(28.0053)\n",
      "--------------------\n"
     ]
    },
    {
     "name": "stderr",
     "output_type": "stream",
     "text": [
      "100%|██████████| 133/133 [01:03<00:00,  2.09it/s]\n"
     ]
    },
    {
     "name": "stdout",
     "output_type": "stream",
     "text": [
      "                      (F1-score: 0.0397, Precision: 0.0427, Recall: 0.0428)\n",
      "\n",
      "                      (NDCG: 0.0388)\n",
      "\n",
      "                      (MAE: 3.9370)\n",
      "\n",
      "val_loss= tensor(29.2837)\n",
      "--------------------\n"
     ]
    },
    {
     "name": "stderr",
     "output_type": "stream",
     "text": [
      "100%|██████████| 133/133 [01:12<00:00,  1.83it/s]\n"
     ]
    },
    {
     "name": "stdout",
     "output_type": "stream",
     "text": [
      "                      (F1-score: 0.0488, Precision: 0.0499, Recall: 0.0546)\n",
      "\n",
      "                      (NDCG: 0.0463)\n",
      "\n",
      "                      (MAE: 3.7989)\n",
      "\n",
      "--------------------\n",
      "[[1, 0.027684618760699196, 0.02308825022157065, 0.023407203724390736, 0.02425057101203479, 4.003759398496241, 29.16179084777832], [2, 0.029753407291689394, 0.021515822479415667, 0.0232305488528067, 0.023993875229157004, 4.421052631578948, 30.407958984375], [3, 0.026521754517610723, 0.01944572645160705, 0.02094783241188929, 0.024746779620269298, 4.137218045112782, 28.88351058959961], [4, 0.03624619405222976, 0.029654036711056195, 0.030453093470484346, 0.033177578982834084, 3.9586466165413534, 28.095319747924805], [5, 0.04717163886405594, 0.03934299183736815, 0.04008028821891348, 0.04018991429855893, 3.9859022556390977, 27.89865493774414], [6, 0.05929630975854816, 0.04367347102124021, 0.04727637263056405, 0.04411227062530115, 4.291353383458647, 28.584774017333984], [7, 0.05896189022993655, 0.04731208483125295, 0.04924575375086795, 0.04581683718413815, 4.035714285714286, 27.885095596313477], [8, 0.05457957360726349, 0.04990089333132995, 0.04881475696398401, 0.046261296887650974, 3.7988721804511276, 28.231107711791992]]\n",
      "-----------------------------------------------------------------------------------------\n"
     ]
    },
    {
     "name": "stderr",
     "output_type": "stream",
     "text": [
      "  0%|          | 1/1065 [00:00<08:13,  2.16it/s]"
     ]
    },
    {
     "name": "stdout",
     "output_type": "stream",
     "text": [
      "Epoch 9: 0%, loss: 12.078396\n"
     ]
    },
    {
     "name": "stderr",
     "output_type": "stream",
     "text": [
      "  9%|▉         | 101/1065 [01:06<10:52,  1.48it/s]"
     ]
    },
    {
     "name": "stdout",
     "output_type": "stream",
     "text": [
      "Epoch 9: 9%, loss: 13.217045\n"
     ]
    },
    {
     "name": "stderr",
     "output_type": "stream",
     "text": [
      " 19%|█▉        | 201/1065 [02:12<09:02,  1.59it/s]"
     ]
    },
    {
     "name": "stdout",
     "output_type": "stream",
     "text": [
      "Epoch 9: 19%, loss: 12.544034\n"
     ]
    },
    {
     "name": "stderr",
     "output_type": "stream",
     "text": [
      " 28%|██▊       | 301/1065 [03:20<08:35,  1.48it/s]"
     ]
    },
    {
     "name": "stdout",
     "output_type": "stream",
     "text": [
      "Epoch 9: 28%, loss: 22.110931\n"
     ]
    },
    {
     "name": "stderr",
     "output_type": "stream",
     "text": [
      " 38%|███▊      | 401/1065 [04:29<07:42,  1.44it/s]"
     ]
    },
    {
     "name": "stdout",
     "output_type": "stream",
     "text": [
      "Epoch 9: 38%, loss: 88.587326\n"
     ]
    },
    {
     "name": "stderr",
     "output_type": "stream",
     "text": [
      " 47%|████▋     | 501/1065 [05:39<06:06,  1.54it/s]"
     ]
    },
    {
     "name": "stdout",
     "output_type": "stream",
     "text": [
      "Epoch 9: 47%, loss: 8.544518\n"
     ]
    },
    {
     "name": "stderr",
     "output_type": "stream",
     "text": [
      " 56%|█████▋    | 601/1065 [06:50<05:23,  1.43it/s]"
     ]
    },
    {
     "name": "stdout",
     "output_type": "stream",
     "text": [
      "Epoch 9: 56%, loss: 28.056957\n"
     ]
    },
    {
     "name": "stderr",
     "output_type": "stream",
     "text": [
      " 66%|██████▌   | 701/1065 [08:00<04:12,  1.44it/s]"
     ]
    },
    {
     "name": "stdout",
     "output_type": "stream",
     "text": [
      "Epoch 9: 66%, loss: 7.125781\n"
     ]
    },
    {
     "name": "stderr",
     "output_type": "stream",
     "text": [
      " 75%|███████▌  | 801/1065 [09:11<02:48,  1.56it/s]"
     ]
    },
    {
     "name": "stdout",
     "output_type": "stream",
     "text": [
      "Epoch 9: 75%, loss: 8.330501\n"
     ]
    },
    {
     "name": "stderr",
     "output_type": "stream",
     "text": [
      " 85%|████████▍ | 901/1065 [10:26<02:03,  1.33it/s]"
     ]
    },
    {
     "name": "stdout",
     "output_type": "stream",
     "text": [
      "Epoch 9: 85%, loss: 7.684307\n"
     ]
    },
    {
     "name": "stderr",
     "output_type": "stream",
     "text": [
      " 94%|█████████▍| 1001/1065 [11:37<00:43,  1.48it/s]"
     ]
    },
    {
     "name": "stdout",
     "output_type": "stream",
     "text": [
      "Epoch 9: 94%, loss: 17.410316\n"
     ]
    },
    {
     "name": "stderr",
     "output_type": "stream",
     "text": [
      "100%|██████████| 1065/1065 [12:16<00:00,  1.45it/s]"
     ]
    },
    {
     "name": "stdout",
     "output_type": "stream",
     "text": [
      "Epoch 9: 100%, loss: 304.677948\n"
     ]
    },
    {
     "name": "stderr",
     "output_type": "stream",
     "text": [
      "\n"
     ]
    },
    {
     "name": "stdout",
     "output_type": "stream",
     "text": [
      "                      (F1-score: 0.0432, Precision: 0.0427, Recall: 0.0503)\n",
      "\n",
      "                      (NDCG: 0.0410)\n",
      "\n",
      "                      (MAE: 3.9978)\n",
      "\n",
      "train_loss= tensor(27.9034)\n",
      "--------------------\n"
     ]
    },
    {
     "name": "stderr",
     "output_type": "stream",
     "text": [
      "100%|██████████| 133/133 [01:07<00:00,  1.98it/s]\n"
     ]
    },
    {
     "name": "stdout",
     "output_type": "stream",
     "text": [
      "                      (F1-score: 0.0391, Precision: 0.0378, Recall: 0.0474)\n",
      "\n",
      "                      (NDCG: 0.0381)\n",
      "\n",
      "                      (MAE: 4.2368)\n",
      "\n",
      "val_loss= tensor(28.2387)\n",
      "--------------------\n"
     ]
    },
    {
     "name": "stderr",
     "output_type": "stream",
     "text": [
      "100%|██████████| 133/133 [01:11<00:00,  1.85it/s]\n"
     ]
    },
    {
     "name": "stdout",
     "output_type": "stream",
     "text": [
      "                      (F1-score: 0.0497, Precision: 0.0465, Recall: 0.0615)\n",
      "\n",
      "                      (NDCG: 0.0457)\n",
      "\n",
      "                      (MAE: 4.2556)\n",
      "\n",
      "--------------------\n",
      "[[1, 0.027684618760699196, 0.02308825022157065, 0.023407203724390736, 0.02425057101203479, 4.003759398496241, 29.16179084777832], [2, 0.029753407291689394, 0.021515822479415667, 0.0232305488528067, 0.023993875229157004, 4.421052631578948, 30.407958984375], [3, 0.026521754517610723, 0.01944572645160705, 0.02094783241188929, 0.024746779620269298, 4.137218045112782, 28.88351058959961], [4, 0.03624619405222976, 0.029654036711056195, 0.030453093470484346, 0.033177578982834084, 3.9586466165413534, 28.095319747924805], [5, 0.04717163886405594, 0.03934299183736815, 0.04008028821891348, 0.04018991429855893, 3.9859022556390977, 27.89865493774414], [6, 0.05929630975854816, 0.04367347102124021, 0.04727637263056405, 0.04411227062530115, 4.291353383458647, 28.584774017333984], [7, 0.05896189022993655, 0.04731208483125295, 0.04924575375086795, 0.04581683718413815, 4.035714285714286, 27.885095596313477], [8, 0.05457957360726349, 0.04990089333132995, 0.04881475696398401, 0.046261296887650974, 3.7988721804511276, 28.231107711791992], [9, 0.06148796133980395, 0.046514208618438406, 0.04969687563141103, 0.04567730578828491, 4.2556390977443606, 29.051654815673828]]\n",
      "-----------------------------------------------------------------------------------------\n"
     ]
    },
    {
     "name": "stderr",
     "output_type": "stream",
     "text": [
      "  0%|          | 1/1065 [00:00<10:24,  1.70it/s]"
     ]
    },
    {
     "name": "stdout",
     "output_type": "stream",
     "text": [
      "Epoch 10: 0%, loss: 5.356200\n"
     ]
    },
    {
     "name": "stderr",
     "output_type": "stream",
     "text": [
      "  9%|▉         | 101/1065 [01:05<10:43,  1.50it/s]"
     ]
    },
    {
     "name": "stdout",
     "output_type": "stream",
     "text": [
      "Epoch 10: 9%, loss: 5.276382\n"
     ]
    },
    {
     "name": "stderr",
     "output_type": "stream",
     "text": [
      " 19%|█▉        | 201/1065 [02:13<09:40,  1.49it/s]"
     ]
    },
    {
     "name": "stdout",
     "output_type": "stream",
     "text": [
      "Epoch 10: 19%, loss: 34.720543\n"
     ]
    },
    {
     "name": "stderr",
     "output_type": "stream",
     "text": [
      " 28%|██▊       | 301/1065 [03:19<07:53,  1.61it/s]"
     ]
    },
    {
     "name": "stdout",
     "output_type": "stream",
     "text": [
      "Epoch 10: 28%, loss: 38.835365\n"
     ]
    },
    {
     "name": "stderr",
     "output_type": "stream",
     "text": [
      " 38%|███▊      | 401/1065 [04:28<07:50,  1.41it/s]"
     ]
    },
    {
     "name": "stdout",
     "output_type": "stream",
     "text": [
      "Epoch 10: 38%, loss: 80.494347\n"
     ]
    },
    {
     "name": "stderr",
     "output_type": "stream",
     "text": [
      " 47%|████▋     | 501/1065 [05:38<06:43,  1.40it/s]"
     ]
    },
    {
     "name": "stdout",
     "output_type": "stream",
     "text": [
      "Epoch 10: 47%, loss: 17.919088\n"
     ]
    },
    {
     "name": "stderr",
     "output_type": "stream",
     "text": [
      " 56%|█████▋    | 601/1065 [06:47<05:31,  1.40it/s]"
     ]
    },
    {
     "name": "stdout",
     "output_type": "stream",
     "text": [
      "Epoch 10: 56%, loss: 9.898085\n"
     ]
    },
    {
     "name": "stderr",
     "output_type": "stream",
     "text": [
      " 66%|██████▌   | 701/1065 [07:59<04:21,  1.39it/s]"
     ]
    },
    {
     "name": "stdout",
     "output_type": "stream",
     "text": [
      "Epoch 10: 66%, loss: 9.358663\n"
     ]
    },
    {
     "name": "stderr",
     "output_type": "stream",
     "text": [
      " 75%|███████▌  | 801/1065 [09:12<02:54,  1.51it/s]"
     ]
    },
    {
     "name": "stdout",
     "output_type": "stream",
     "text": [
      "Epoch 10: 75%, loss: 22.806187\n"
     ]
    },
    {
     "name": "stderr",
     "output_type": "stream",
     "text": [
      " 85%|████████▍ | 901/1065 [10:26<02:02,  1.33it/s]"
     ]
    },
    {
     "name": "stdout",
     "output_type": "stream",
     "text": [
      "Epoch 10: 85%, loss: 18.940800\n"
     ]
    },
    {
     "name": "stderr",
     "output_type": "stream",
     "text": [
      " 94%|█████████▍| 1001/1065 [11:37<00:44,  1.45it/s]"
     ]
    },
    {
     "name": "stdout",
     "output_type": "stream",
     "text": [
      "Epoch 10: 94%, loss: 35.141033\n"
     ]
    },
    {
     "name": "stderr",
     "output_type": "stream",
     "text": [
      "100%|██████████| 1065/1065 [12:16<00:00,  1.45it/s]"
     ]
    },
    {
     "name": "stdout",
     "output_type": "stream",
     "text": [
      "Epoch 10: 100%, loss: 7.656559\n"
     ]
    },
    {
     "name": "stderr",
     "output_type": "stream",
     "text": [
      "\n"
     ]
    },
    {
     "name": "stdout",
     "output_type": "stream",
     "text": [
      "                      (F1-score: 0.0438, Precision: 0.0434, Recall: 0.0510)\n",
      "\n",
      "                      (NDCG: 0.0415)\n",
      "\n",
      "                      (MAE: 3.9879)\n",
      "\n",
      "train_loss= tensor(27.7704)\n",
      "--------------------\n"
     ]
    },
    {
     "name": "stderr",
     "output_type": "stream",
     "text": [
      "100%|██████████| 133/133 [01:07<00:00,  1.97it/s]\n"
     ]
    },
    {
     "name": "stdout",
     "output_type": "stream",
     "text": [
      "                      (F1-score: 0.0398, Precision: 0.0429, Recall: 0.0426)\n",
      "\n",
      "                      (NDCG: 0.0385)\n",
      "\n",
      "                      (MAE: 3.9060)\n",
      "\n",
      "val_loss= tensor(29.2020)\n",
      "--------------------\n"
     ]
    },
    {
     "name": "stderr",
     "output_type": "stream",
     "text": [
      "100%|██████████| 133/133 [01:12<00:00,  1.85it/s]\n"
     ]
    },
    {
     "name": "stdout",
     "output_type": "stream",
     "text": [
      "                      (F1-score: 0.0488, Precision: 0.0508, Recall: 0.0533)\n",
      "\n",
      "                      (NDCG: 0.0463)\n",
      "\n",
      "                      (MAE: 3.7735)\n",
      "\n",
      "--------------------\n",
      "[[1, 0.027684618760699196, 0.02308825022157065, 0.023407203724390736, 0.02425057101203479, 4.003759398496241, 29.16179084777832], [2, 0.029753407291689394, 0.021515822479415667, 0.0232305488528067, 0.023993875229157004, 4.421052631578948, 30.407958984375], [3, 0.026521754517610723, 0.01944572645160705, 0.02094783241188929, 0.024746779620269298, 4.137218045112782, 28.88351058959961], [4, 0.03624619405222976, 0.029654036711056195, 0.030453093470484346, 0.033177578982834084, 3.9586466165413534, 28.095319747924805], [5, 0.04717163886405594, 0.03934299183736815, 0.04008028821891348, 0.04018991429855893, 3.9859022556390977, 27.89865493774414], [6, 0.05929630975854816, 0.04367347102124021, 0.04727637263056405, 0.04411227062530115, 4.291353383458647, 28.584774017333984], [7, 0.05896189022993655, 0.04731208483125295, 0.04924575375086795, 0.04581683718413815, 4.035714285714286, 27.885095596313477], [8, 0.05457957360726349, 0.04990089333132995, 0.04881475696398401, 0.046261296887650974, 3.7988721804511276, 28.231107711791992], [9, 0.06148796133980395, 0.046514208618438406, 0.04969687563141103, 0.04567730578828491, 4.2556390977443606, 29.051654815673828], [10, 0.053261378200554266, 0.05082864670941331, 0.04876580217154104, 0.046333942207843905, 3.773496240601504, 28.400859832763672]]\n",
      "-----------------------------------------------------------------------------------------\n"
     ]
    },
    {
     "name": "stderr",
     "output_type": "stream",
     "text": [
      "  0%|          | 1/1065 [00:00<07:56,  2.23it/s]"
     ]
    },
    {
     "name": "stdout",
     "output_type": "stream",
     "text": [
      "Epoch 11: 0%, loss: 7.997643\n"
     ]
    },
    {
     "name": "stderr",
     "output_type": "stream",
     "text": [
      "  9%|▉         | 101/1065 [01:05<10:56,  1.47it/s]"
     ]
    },
    {
     "name": "stdout",
     "output_type": "stream",
     "text": [
      "Epoch 11: 9%, loss: 17.194849\n"
     ]
    },
    {
     "name": "stderr",
     "output_type": "stream",
     "text": [
      " 19%|█▉        | 201/1065 [02:12<09:31,  1.51it/s]"
     ]
    },
    {
     "name": "stdout",
     "output_type": "stream",
     "text": [
      "Epoch 11: 19%, loss: 4.004925\n"
     ]
    },
    {
     "name": "stderr",
     "output_type": "stream",
     "text": [
      " 28%|██▊       | 301/1065 [03:20<08:36,  1.48it/s]"
     ]
    },
    {
     "name": "stdout",
     "output_type": "stream",
     "text": [
      "Epoch 11: 28%, loss: 6.734677\n"
     ]
    },
    {
     "name": "stderr",
     "output_type": "stream",
     "text": [
      " 38%|███▊      | 401/1065 [04:28<07:38,  1.45it/s]"
     ]
    },
    {
     "name": "stdout",
     "output_type": "stream",
     "text": [
      "Epoch 11: 38%, loss: 8.948693\n"
     ]
    },
    {
     "name": "stderr",
     "output_type": "stream",
     "text": [
      " 47%|████▋     | 501/1065 [05:36<06:21,  1.48it/s]"
     ]
    },
    {
     "name": "stdout",
     "output_type": "stream",
     "text": [
      "Epoch 11: 47%, loss: 14.717889\n"
     ]
    },
    {
     "name": "stderr",
     "output_type": "stream",
     "text": [
      " 56%|█████▋    | 601/1065 [06:46<05:34,  1.39it/s]"
     ]
    },
    {
     "name": "stdout",
     "output_type": "stream",
     "text": [
      "Epoch 11: 56%, loss: 4.388700\n"
     ]
    },
    {
     "name": "stderr",
     "output_type": "stream",
     "text": [
      " 66%|██████▌   | 701/1065 [08:00<04:30,  1.34it/s]"
     ]
    },
    {
     "name": "stdout",
     "output_type": "stream",
     "text": [
      "Epoch 11: 66%, loss: 6.839577\n"
     ]
    },
    {
     "name": "stderr",
     "output_type": "stream",
     "text": [
      " 75%|███████▌  | 801/1065 [09:10<03:19,  1.32it/s]"
     ]
    },
    {
     "name": "stdout",
     "output_type": "stream",
     "text": [
      "Epoch 11: 75%, loss: 6.488124\n"
     ]
    },
    {
     "name": "stderr",
     "output_type": "stream",
     "text": [
      " 85%|████████▍ | 901/1065 [10:25<02:02,  1.34it/s]"
     ]
    },
    {
     "name": "stdout",
     "output_type": "stream",
     "text": [
      "Epoch 11: 85%, loss: 39.762184\n"
     ]
    },
    {
     "name": "stderr",
     "output_type": "stream",
     "text": [
      " 94%|█████████▍| 1001/1065 [11:37<00:42,  1.52it/s]"
     ]
    },
    {
     "name": "stdout",
     "output_type": "stream",
     "text": [
      "Epoch 11: 94%, loss: 44.094364\n"
     ]
    },
    {
     "name": "stderr",
     "output_type": "stream",
     "text": [
      "100%|██████████| 1065/1065 [12:15<00:00,  1.45it/s]"
     ]
    },
    {
     "name": "stdout",
     "output_type": "stream",
     "text": [
      "Epoch 11: 100%, loss: 32.902420\n"
     ]
    },
    {
     "name": "stderr",
     "output_type": "stream",
     "text": [
      "\n"
     ]
    },
    {
     "name": "stdout",
     "output_type": "stream",
     "text": [
      "                      (F1-score: 0.0435, Precision: 0.0429, Recall: 0.0509)\n",
      "\n",
      "                      (NDCG: 0.0413)\n",
      "\n",
      "                      (MAE: 3.9746)\n",
      "\n",
      "train_loss= tensor(27.7055)\n",
      "--------------------\n"
     ]
    },
    {
     "name": "stderr",
     "output_type": "stream",
     "text": [
      "100%|██████████| 133/133 [01:07<00:00,  1.98it/s]\n"
     ]
    },
    {
     "name": "stdout",
     "output_type": "stream",
     "text": [
      "                      (F1-score: 0.0402, Precision: 0.0411, Recall: 0.0454)\n",
      "\n",
      "                      (NDCG: 0.0393)\n",
      "\n",
      "                      (MAE: 3.9483)\n",
      "\n",
      "val_loss= tensor(27.4169)\n",
      "--------------------\n"
     ]
    },
    {
     "name": "stderr",
     "output_type": "stream",
     "text": [
      "100%|██████████| 133/133 [01:15<00:00,  1.76it/s]\n"
     ]
    },
    {
     "name": "stdout",
     "output_type": "stream",
     "text": [
      "                      (F1-score: 0.0507, Precision: 0.0499, Recall: 0.0593)\n",
      "\n",
      "                      (NDCG: 0.0467)\n",
      "\n",
      "                      (MAE: 3.9323)\n",
      "\n",
      "--------------------\n",
      "[[1, 0.027684618760699196, 0.02308825022157065, 0.023407203724390736, 0.02425057101203479, 4.003759398496241, 29.16179084777832], [2, 0.029753407291689394, 0.021515822479415667, 0.0232305488528067, 0.023993875229157004, 4.421052631578948, 30.407958984375], [3, 0.026521754517610723, 0.01944572645160705, 0.02094783241188929, 0.024746779620269298, 4.137218045112782, 28.88351058959961], [4, 0.03624619405222976, 0.029654036711056195, 0.030453093470484346, 0.033177578982834084, 3.9586466165413534, 28.095319747924805], [5, 0.04717163886405594, 0.03934299183736815, 0.04008028821891348, 0.04018991429855893, 3.9859022556390977, 27.89865493774414], [6, 0.05929630975854816, 0.04367347102124021, 0.04727637263056405, 0.04411227062530115, 4.291353383458647, 28.584774017333984], [7, 0.05896189022993655, 0.04731208483125295, 0.04924575375086795, 0.04581683718413815, 4.035714285714286, 27.885095596313477], [8, 0.05457957360726349, 0.04990089333132995, 0.04881475696398401, 0.046261296887650974, 3.7988721804511276, 28.231107711791992], [9, 0.06148796133980395, 0.046514208618438406, 0.04969687563141103, 0.04567730578828491, 4.2556390977443606, 29.051654815673828], [10, 0.053261378200554266, 0.05082864670941331, 0.04876580217154104, 0.046333942207843905, 3.773496240601504, 28.400859832763672], [11, 0.05928358435797242, 0.04986174301965176, 0.050676462922228806, 0.04667627569585618, 3.9323308270676693, 27.414735794067383]]\n",
      "-----------------------------------------------------------------------------------------\n"
     ]
    },
    {
     "name": "stderr",
     "output_type": "stream",
     "text": [
      "  0%|          | 1/1065 [00:00<08:14,  2.15it/s]"
     ]
    },
    {
     "name": "stdout",
     "output_type": "stream",
     "text": [
      "Epoch 12: 0%, loss: 24.381592\n"
     ]
    },
    {
     "name": "stderr",
     "output_type": "stream",
     "text": [
      "  9%|▉         | 101/1065 [01:06<10:51,  1.48it/s]"
     ]
    },
    {
     "name": "stdout",
     "output_type": "stream",
     "text": [
      "Epoch 12: 9%, loss: 8.324469\n"
     ]
    },
    {
     "name": "stderr",
     "output_type": "stream",
     "text": [
      " 19%|█▉        | 201/1065 [02:13<09:54,  1.45it/s]"
     ]
    },
    {
     "name": "stdout",
     "output_type": "stream",
     "text": [
      "Epoch 12: 19%, loss: 2.985088\n"
     ]
    },
    {
     "name": "stderr",
     "output_type": "stream",
     "text": [
      " 28%|██▊       | 301/1065 [03:21<08:46,  1.45it/s]"
     ]
    },
    {
     "name": "stdout",
     "output_type": "stream",
     "text": [
      "Epoch 12: 28%, loss: 3.898829\n"
     ]
    },
    {
     "name": "stderr",
     "output_type": "stream",
     "text": [
      " 38%|███▊      | 401/1065 [04:30<07:53,  1.40it/s]"
     ]
    },
    {
     "name": "stdout",
     "output_type": "stream",
     "text": [
      "Epoch 12: 38%, loss: 17.114031\n"
     ]
    },
    {
     "name": "stderr",
     "output_type": "stream",
     "text": [
      " 47%|████▋     | 501/1065 [05:39<06:11,  1.52it/s]"
     ]
    },
    {
     "name": "stdout",
     "output_type": "stream",
     "text": [
      "Epoch 12: 47%, loss: 7.134420\n"
     ]
    },
    {
     "name": "stderr",
     "output_type": "stream",
     "text": [
      " 56%|█████▋    | 601/1065 [06:49<05:35,  1.38it/s]"
     ]
    },
    {
     "name": "stdout",
     "output_type": "stream",
     "text": [
      "Epoch 12: 56%, loss: 14.846366\n"
     ]
    },
    {
     "name": "stderr",
     "output_type": "stream",
     "text": [
      " 66%|██████▌   | 701/1065 [08:01<04:21,  1.39it/s]"
     ]
    },
    {
     "name": "stdout",
     "output_type": "stream",
     "text": [
      "Epoch 12: 66%, loss: 40.996002\n"
     ]
    },
    {
     "name": "stderr",
     "output_type": "stream",
     "text": [
      " 75%|███████▌  | 801/1065 [09:14<03:14,  1.36it/s]"
     ]
    },
    {
     "name": "stdout",
     "output_type": "stream",
     "text": [
      "Epoch 12: 75%, loss: 27.656178\n"
     ]
    },
    {
     "name": "stderr",
     "output_type": "stream",
     "text": [
      " 85%|████████▍ | 901/1065 [10:27<02:03,  1.33it/s]"
     ]
    },
    {
     "name": "stdout",
     "output_type": "stream",
     "text": [
      "Epoch 12: 85%, loss: 33.637302\n"
     ]
    },
    {
     "name": "stderr",
     "output_type": "stream",
     "text": [
      " 94%|█████████▍| 1001/1065 [11:38<00:42,  1.50it/s]"
     ]
    },
    {
     "name": "stdout",
     "output_type": "stream",
     "text": [
      "Epoch 12: 94%, loss: 19.370745\n"
     ]
    },
    {
     "name": "stderr",
     "output_type": "stream",
     "text": [
      "100%|██████████| 1065/1065 [12:16<00:00,  1.45it/s]"
     ]
    },
    {
     "name": "stdout",
     "output_type": "stream",
     "text": [
      "Epoch 12: 100%, loss: 43.134693\n"
     ]
    },
    {
     "name": "stderr",
     "output_type": "stream",
     "text": [
      "\n"
     ]
    },
    {
     "name": "stdout",
     "output_type": "stream",
     "text": [
      "                      (F1-score: 0.0446, Precision: 0.0441, Recall: 0.0520)\n",
      "\n",
      "                      (NDCG: 0.0422)\n",
      "\n",
      "                      (MAE: 3.9688)\n",
      "\n",
      "train_loss= tensor(27.6519)\n",
      "--------------------\n"
     ]
    },
    {
     "name": "stderr",
     "output_type": "stream",
     "text": [
      "100%|██████████| 133/133 [01:07<00:00,  1.97it/s]\n"
     ]
    },
    {
     "name": "stdout",
     "output_type": "stream",
     "text": [
      "                      (F1-score: 0.0403, Precision: 0.0402, Recall: 0.0469)\n",
      "\n",
      "                      (NDCG: 0.0390)\n",
      "\n",
      "                      (MAE: 4.0602)\n",
      "\n",
      "val_loss= tensor(27.3897)\n",
      "--------------------\n"
     ]
    },
    {
     "name": "stderr",
     "output_type": "stream",
     "text": [
      "100%|██████████| 133/133 [01:12<00:00,  1.84it/s]\n"
     ]
    },
    {
     "name": "stdout",
     "output_type": "stream",
     "text": [
      "                      (F1-score: 0.0513, Precision: 0.0494, Recall: 0.0617)\n",
      "\n",
      "                      (NDCG: 0.0467)\n",
      "\n",
      "                      (MAE: 4.0620)\n",
      "\n",
      "--------------------\n",
      "[[1, 0.027684618760699196, 0.02308825022157065, 0.023407203724390736, 0.02425057101203479, 4.003759398496241, 29.16179084777832], [2, 0.029753407291689394, 0.021515822479415667, 0.0232305488528067, 0.023993875229157004, 4.421052631578948, 30.407958984375], [3, 0.026521754517610723, 0.01944572645160705, 0.02094783241188929, 0.024746779620269298, 4.137218045112782, 28.88351058959961], [4, 0.03624619405222976, 0.029654036711056195, 0.030453093470484346, 0.033177578982834084, 3.9586466165413534, 28.095319747924805], [5, 0.04717163886405594, 0.03934299183736815, 0.04008028821891348, 0.04018991429855893, 3.9859022556390977, 27.89865493774414], [6, 0.05929630975854816, 0.04367347102124021, 0.04727637263056405, 0.04411227062530115, 4.291353383458647, 28.584774017333984], [7, 0.05896189022993655, 0.04731208483125295, 0.04924575375086795, 0.04581683718413815, 4.035714285714286, 27.885095596313477], [8, 0.05457957360726349, 0.04990089333132995, 0.04881475696398401, 0.046261296887650974, 3.7988721804511276, 28.231107711791992], [9, 0.06148796133980395, 0.046514208618438406, 0.04969687563141103, 0.04567730578828491, 4.2556390977443606, 29.051654815673828], [10, 0.053261378200554266, 0.05082864670941331, 0.04876580217154104, 0.046333942207843905, 3.773496240601504, 28.400859832763672], [11, 0.05928358435797242, 0.04986174301965176, 0.050676462922228806, 0.04667627569585618, 3.9323308270676693, 27.414735794067383], [12, 0.06169737766185816, 0.049383092654007914, 0.05129558626098652, 0.046674406773032605, 4.06203007518797, 27.78209114074707]]\n",
      "-----------------------------------------------------------------------------------------\n"
     ]
    },
    {
     "name": "stderr",
     "output_type": "stream",
     "text": [
      "  0%|          | 1/1065 [00:00<08:00,  2.21it/s]"
     ]
    },
    {
     "name": "stdout",
     "output_type": "stream",
     "text": [
      "Epoch 13: 0%, loss: 31.464489\n"
     ]
    },
    {
     "name": "stderr",
     "output_type": "stream",
     "text": [
      "  9%|▉         | 101/1065 [01:05<10:56,  1.47it/s]"
     ]
    },
    {
     "name": "stdout",
     "output_type": "stream",
     "text": [
      "Epoch 13: 9%, loss: 12.092755\n"
     ]
    },
    {
     "name": "stderr",
     "output_type": "stream",
     "text": [
      " 19%|█▉        | 201/1065 [02:12<10:04,  1.43it/s]"
     ]
    },
    {
     "name": "stdout",
     "output_type": "stream",
     "text": [
      "Epoch 13: 19%, loss: 7.160483\n"
     ]
    },
    {
     "name": "stderr",
     "output_type": "stream",
     "text": [
      " 28%|██▊       | 301/1065 [03:19<08:45,  1.45it/s]"
     ]
    },
    {
     "name": "stdout",
     "output_type": "stream",
     "text": [
      "Epoch 13: 28%, loss: 12.448009\n"
     ]
    },
    {
     "name": "stderr",
     "output_type": "stream",
     "text": [
      " 38%|███▊      | 401/1065 [04:28<07:06,  1.56it/s]"
     ]
    },
    {
     "name": "stdout",
     "output_type": "stream",
     "text": [
      "Epoch 13: 38%, loss: 9.314218\n"
     ]
    },
    {
     "name": "stderr",
     "output_type": "stream",
     "text": [
      " 47%|████▋     | 501/1065 [05:35<06:28,  1.45it/s]"
     ]
    },
    {
     "name": "stdout",
     "output_type": "stream",
     "text": [
      "Epoch 13: 47%, loss: 2.890846\n"
     ]
    },
    {
     "name": "stderr",
     "output_type": "stream",
     "text": [
      " 56%|█████▋    | 601/1065 [06:46<05:22,  1.44it/s]"
     ]
    },
    {
     "name": "stdout",
     "output_type": "stream",
     "text": [
      "Epoch 13: 56%, loss: 54.160767\n"
     ]
    },
    {
     "name": "stderr",
     "output_type": "stream",
     "text": [
      " 66%|██████▌   | 701/1065 [07:59<04:28,  1.35it/s]"
     ]
    },
    {
     "name": "stdout",
     "output_type": "stream",
     "text": [
      "Epoch 13: 66%, loss: 52.316532\n"
     ]
    },
    {
     "name": "stderr",
     "output_type": "stream",
     "text": [
      " 75%|███████▌  | 801/1065 [09:10<03:05,  1.43it/s]"
     ]
    },
    {
     "name": "stdout",
     "output_type": "stream",
     "text": [
      "Epoch 13: 75%, loss: 34.420460\n"
     ]
    },
    {
     "name": "stderr",
     "output_type": "stream",
     "text": [
      " 85%|████████▍ | 901/1065 [10:23<01:53,  1.45it/s]"
     ]
    },
    {
     "name": "stdout",
     "output_type": "stream",
     "text": [
      "Epoch 13: 85%, loss: 2.544934\n"
     ]
    },
    {
     "name": "stderr",
     "output_type": "stream",
     "text": [
      " 94%|█████████▍| 1001/1065 [11:33<00:43,  1.46it/s]"
     ]
    },
    {
     "name": "stdout",
     "output_type": "stream",
     "text": [
      "Epoch 13: 94%, loss: 50.747211\n"
     ]
    },
    {
     "name": "stderr",
     "output_type": "stream",
     "text": [
      "100%|██████████| 1065/1065 [12:12<00:00,  1.45it/s]"
     ]
    },
    {
     "name": "stdout",
     "output_type": "stream",
     "text": [
      "Epoch 13: 100%, loss: 46.887356\n"
     ]
    },
    {
     "name": "stderr",
     "output_type": "stream",
     "text": [
      "\n"
     ]
    },
    {
     "name": "stdout",
     "output_type": "stream",
     "text": [
      "                      (F1-score: 0.0441, Precision: 0.0435, Recall: 0.0513)\n",
      "\n",
      "                      (NDCG: 0.0421)\n",
      "\n",
      "                      (MAE: 3.9467)\n",
      "\n",
      "train_loss= tensor(27.3858)\n",
      "--------------------\n"
     ]
    },
    {
     "name": "stderr",
     "output_type": "stream",
     "text": [
      "100%|██████████| 133/133 [01:06<00:00,  1.99it/s]\n"
     ]
    },
    {
     "name": "stdout",
     "output_type": "stream",
     "text": [
      "                      (F1-score: 0.0393, Precision: 0.0419, Recall: 0.0425)\n",
      "\n",
      "                      (NDCG: 0.0383)\n",
      "\n",
      "                      (MAE: 3.9718)\n",
      "\n",
      "val_loss= tensor(30.4060)\n",
      "--------------------\n"
     ]
    },
    {
     "name": "stderr",
     "output_type": "stream",
     "text": [
      "100%|██████████| 133/133 [01:13<00:00,  1.81it/s]\n"
     ]
    },
    {
     "name": "stdout",
     "output_type": "stream",
     "text": [
      "                      (F1-score: 0.0490, Precision: 0.0497, Recall: 0.0550)\n",
      "\n",
      "                      (NDCG: 0.0462)\n",
      "\n",
      "                      (MAE: 3.8618)\n",
      "\n",
      "--------------------\n",
      "[[1, 0.027684618760699196, 0.02308825022157065, 0.023407203724390736, 0.02425057101203479, 4.003759398496241, 29.16179084777832], [2, 0.029753407291689394, 0.021515822479415667, 0.0232305488528067, 0.023993875229157004, 4.421052631578948, 30.407958984375], [3, 0.026521754517610723, 0.01944572645160705, 0.02094783241188929, 0.024746779620269298, 4.137218045112782, 28.88351058959961], [4, 0.03624619405222976, 0.029654036711056195, 0.030453093470484346, 0.033177578982834084, 3.9586466165413534, 28.095319747924805], [5, 0.04717163886405594, 0.03934299183736815, 0.04008028821891348, 0.04018991429855893, 3.9859022556390977, 27.89865493774414], [6, 0.05929630975854816, 0.04367347102124021, 0.04727637263056405, 0.04411227062530115, 4.291353383458647, 28.584774017333984], [7, 0.05896189022993655, 0.04731208483125295, 0.04924575375086795, 0.04581683718413815, 4.035714285714286, 27.885095596313477], [8, 0.05457957360726349, 0.04990089333132995, 0.04881475696398401, 0.046261296887650974, 3.7988721804511276, 28.231107711791992], [9, 0.06148796133980395, 0.046514208618438406, 0.04969687563141103, 0.04567730578828491, 4.2556390977443606, 29.051654815673828], [10, 0.053261378200554266, 0.05082864670941331, 0.04876580217154104, 0.046333942207843905, 3.773496240601504, 28.400859832763672], [11, 0.05928358435797242, 0.04986174301965176, 0.050676462922228806, 0.04667627569585618, 3.9323308270676693, 27.414735794067383], [12, 0.06169737766185816, 0.049383092654007914, 0.05129558626098652, 0.046674406773032605, 4.06203007518797, 27.78209114074707], [13, 0.05497976139174377, 0.04972947794140686, 0.04900616811986766, 0.046241711620311425, 3.861842105263158, 29.15024757385254]]\n",
      "-----------------------------------------------------------------------------------------\n"
     ]
    },
    {
     "name": "stderr",
     "output_type": "stream",
     "text": [
      "  0%|          | 1/1065 [00:00<08:40,  2.04it/s]"
     ]
    },
    {
     "name": "stdout",
     "output_type": "stream",
     "text": [
      "Epoch 14: 0%, loss: 15.900048\n"
     ]
    },
    {
     "name": "stderr",
     "output_type": "stream",
     "text": [
      "  9%|▉         | 101/1065 [01:06<10:43,  1.50it/s]"
     ]
    },
    {
     "name": "stdout",
     "output_type": "stream",
     "text": [
      "Epoch 14: 9%, loss: 20.493212\n"
     ]
    },
    {
     "name": "stderr",
     "output_type": "stream",
     "text": [
      " 19%|█▉        | 201/1065 [02:14<09:52,  1.46it/s]"
     ]
    },
    {
     "name": "stdout",
     "output_type": "stream",
     "text": [
      "Epoch 14: 19%, loss: 7.283506\n"
     ]
    },
    {
     "name": "stderr",
     "output_type": "stream",
     "text": [
      " 28%|██▊       | 301/1065 [03:22<08:31,  1.49it/s]"
     ]
    },
    {
     "name": "stdout",
     "output_type": "stream",
     "text": [
      "Epoch 14: 28%, loss: 47.322750\n"
     ]
    },
    {
     "name": "stderr",
     "output_type": "stream",
     "text": [
      " 38%|███▊      | 401/1065 [04:31<08:14,  1.34it/s]"
     ]
    },
    {
     "name": "stdout",
     "output_type": "stream",
     "text": [
      "Epoch 14: 38%, loss: 9.649019\n"
     ]
    },
    {
     "name": "stderr",
     "output_type": "stream",
     "text": [
      " 47%|████▋     | 501/1065 [05:40<06:26,  1.46it/s]"
     ]
    },
    {
     "name": "stdout",
     "output_type": "stream",
     "text": [
      "Epoch 14: 47%, loss: 14.524147\n"
     ]
    },
    {
     "name": "stderr",
     "output_type": "stream",
     "text": [
      " 56%|█████▋    | 601/1065 [06:49<05:27,  1.42it/s]"
     ]
    },
    {
     "name": "stdout",
     "output_type": "stream",
     "text": [
      "Epoch 14: 56%, loss: 13.870467\n"
     ]
    },
    {
     "name": "stderr",
     "output_type": "stream",
     "text": [
      " 66%|██████▌   | 701/1065 [07:59<04:13,  1.44it/s]"
     ]
    },
    {
     "name": "stdout",
     "output_type": "stream",
     "text": [
      "Epoch 14: 66%, loss: 7.961256\n"
     ]
    },
    {
     "name": "stderr",
     "output_type": "stream",
     "text": [
      " 75%|███████▌  | 801/1065 [09:10<03:25,  1.29it/s]"
     ]
    },
    {
     "name": "stdout",
     "output_type": "stream",
     "text": [
      "Epoch 14: 75%, loss: 43.380131\n"
     ]
    },
    {
     "name": "stderr",
     "output_type": "stream",
     "text": [
      " 85%|████████▍ | 901/1065 [10:23<01:54,  1.43it/s]"
     ]
    },
    {
     "name": "stdout",
     "output_type": "stream",
     "text": [
      "Epoch 14: 85%, loss: 8.140579\n"
     ]
    },
    {
     "name": "stderr",
     "output_type": "stream",
     "text": [
      " 94%|█████████▍| 1001/1065 [11:31<00:42,  1.51it/s]"
     ]
    },
    {
     "name": "stdout",
     "output_type": "stream",
     "text": [
      "Epoch 14: 94%, loss: 124.130898\n"
     ]
    },
    {
     "name": "stderr",
     "output_type": "stream",
     "text": [
      "100%|██████████| 1065/1065 [12:11<00:00,  1.46it/s]"
     ]
    },
    {
     "name": "stdout",
     "output_type": "stream",
     "text": [
      "Epoch 14: 100%, loss: 15.716278\n"
     ]
    },
    {
     "name": "stderr",
     "output_type": "stream",
     "text": [
      "\n"
     ]
    },
    {
     "name": "stdout",
     "output_type": "stream",
     "text": [
      "                      (F1-score: 0.0450, Precision: 0.0443, Recall: 0.0525)\n",
      "\n",
      "                      (NDCG: 0.0425)\n",
      "\n",
      "                      (MAE: 3.9771)\n",
      "\n",
      "train_loss= tensor(27.6403)\n",
      "--------------------\n"
     ]
    },
    {
     "name": "stderr",
     "output_type": "stream",
     "text": [
      "100%|██████████| 133/133 [01:08<00:00,  1.95it/s]\n"
     ]
    },
    {
     "name": "stdout",
     "output_type": "stream",
     "text": [
      "                      (F1-score: 0.0400, Precision: 0.0397, Recall: 0.0469)\n",
      "\n",
      "                      (NDCG: 0.0385)\n",
      "\n",
      "                      (MAE: 4.0836)\n",
      "\n",
      "val_loss= tensor(27.6872)\n",
      "--------------------\n"
     ]
    },
    {
     "name": "stderr",
     "output_type": "stream",
     "text": [
      "100%|██████████| 133/133 [01:13<00:00,  1.80it/s]\n"
     ]
    },
    {
     "name": "stdout",
     "output_type": "stream",
     "text": [
      "                      (F1-score: 0.0501, Precision: 0.0472, Recall: 0.0611)\n",
      "\n",
      "                      (NDCG: 0.0461)\n",
      "\n",
      "                      (MAE: 4.0799)\n",
      "\n",
      "--------------------\n",
      "[[1, 0.027684618760699196, 0.02308825022157065, 0.023407203724390736, 0.02425057101203479, 4.003759398496241, 29.16179084777832], [2, 0.029753407291689394, 0.021515822479415667, 0.0232305488528067, 0.023993875229157004, 4.421052631578948, 30.407958984375], [3, 0.026521754517610723, 0.01944572645160705, 0.02094783241188929, 0.024746779620269298, 4.137218045112782, 28.88351058959961], [4, 0.03624619405222976, 0.029654036711056195, 0.030453093470484346, 0.033177578982834084, 3.9586466165413534, 28.095319747924805], [5, 0.04717163886405594, 0.03934299183736815, 0.04008028821891348, 0.04018991429855893, 3.9859022556390977, 27.89865493774414], [6, 0.05929630975854816, 0.04367347102124021, 0.04727637263056405, 0.04411227062530115, 4.291353383458647, 28.584774017333984], [7, 0.05896189022993655, 0.04731208483125295, 0.04924575375086795, 0.04581683718413815, 4.035714285714286, 27.885095596313477], [8, 0.05457957360726349, 0.04990089333132995, 0.04881475696398401, 0.046261296887650974, 3.7988721804511276, 28.231107711791992], [9, 0.06148796133980395, 0.046514208618438406, 0.04969687563141103, 0.04567730578828491, 4.2556390977443606, 29.051654815673828], [10, 0.053261378200554266, 0.05082864670941331, 0.04876580217154104, 0.046333942207843905, 3.773496240601504, 28.400859832763672], [11, 0.05928358435797242, 0.04986174301965176, 0.050676462922228806, 0.04667627569585618, 3.9323308270676693, 27.414735794067383], [12, 0.06169737766185816, 0.049383092654007914, 0.05129558626098652, 0.046674406773032605, 4.06203007518797, 27.78209114074707], [13, 0.05497976139174377, 0.04972947794140686, 0.04900616811986766, 0.046241711620311425, 3.861842105263158, 29.15024757385254], [14, 0.061060844880469436, 0.04720448064498411, 0.050102109819482814, 0.046051683674629466, 4.079887218045113, 27.76575469970703]]\n",
      "-----------------------------------------------------------------------------------------\n"
     ]
    },
    {
     "name": "stderr",
     "output_type": "stream",
     "text": [
      "  0%|          | 1/1065 [00:00<08:13,  2.16it/s]"
     ]
    },
    {
     "name": "stdout",
     "output_type": "stream",
     "text": [
      "Epoch 15: 0%, loss: 19.096239\n"
     ]
    },
    {
     "name": "stderr",
     "output_type": "stream",
     "text": [
      "  9%|▉         | 101/1065 [01:06<10:53,  1.48it/s]"
     ]
    },
    {
     "name": "stdout",
     "output_type": "stream",
     "text": [
      "Epoch 15: 9%, loss: 10.978030\n"
     ]
    },
    {
     "name": "stderr",
     "output_type": "stream",
     "text": [
      " 19%|█▉        | 201/1065 [02:13<09:07,  1.58it/s]"
     ]
    },
    {
     "name": "stdout",
     "output_type": "stream",
     "text": [
      "Epoch 15: 19%, loss: 30.852549\n"
     ]
    },
    {
     "name": "stderr",
     "output_type": "stream",
     "text": [
      " 28%|██▊       | 301/1065 [03:22<08:47,  1.45it/s]"
     ]
    },
    {
     "name": "stdout",
     "output_type": "stream",
     "text": [
      "Epoch 15: 28%, loss: 27.460936\n"
     ]
    },
    {
     "name": "stderr",
     "output_type": "stream",
     "text": [
      " 38%|███▊      | 401/1065 [04:31<07:31,  1.47it/s]"
     ]
    },
    {
     "name": "stdout",
     "output_type": "stream",
     "text": [
      "Epoch 15: 38%, loss: 19.840788\n"
     ]
    },
    {
     "name": "stderr",
     "output_type": "stream",
     "text": [
      " 47%|████▋     | 501/1065 [05:41<06:45,  1.39it/s]"
     ]
    },
    {
     "name": "stdout",
     "output_type": "stream",
     "text": [
      "Epoch 15: 47%, loss: 8.541777\n"
     ]
    },
    {
     "name": "stderr",
     "output_type": "stream",
     "text": [
      " 56%|█████▋    | 601/1065 [06:53<05:43,  1.35it/s]"
     ]
    },
    {
     "name": "stdout",
     "output_type": "stream",
     "text": [
      "Epoch 15: 56%, loss: 24.231668\n"
     ]
    },
    {
     "name": "stderr",
     "output_type": "stream",
     "text": [
      " 66%|██████▌   | 701/1065 [08:06<04:05,  1.48it/s]"
     ]
    },
    {
     "name": "stdout",
     "output_type": "stream",
     "text": [
      "Epoch 15: 66%, loss: 39.589413\n"
     ]
    },
    {
     "name": "stderr",
     "output_type": "stream",
     "text": [
      " 75%|███████▌  | 801/1065 [09:16<03:11,  1.38it/s]"
     ]
    },
    {
     "name": "stdout",
     "output_type": "stream",
     "text": [
      "Epoch 15: 75%, loss: 40.300262\n"
     ]
    },
    {
     "name": "stderr",
     "output_type": "stream",
     "text": [
      " 85%|████████▍ | 901/1065 [10:30<01:51,  1.47it/s]"
     ]
    },
    {
     "name": "stdout",
     "output_type": "stream",
     "text": [
      "Epoch 15: 85%, loss: 75.162415\n"
     ]
    },
    {
     "name": "stderr",
     "output_type": "stream",
     "text": [
      " 94%|█████████▍| 1001/1065 [11:36<00:42,  1.52it/s]"
     ]
    },
    {
     "name": "stdout",
     "output_type": "stream",
     "text": [
      "Epoch 15: 94%, loss: 10.316442\n"
     ]
    },
    {
     "name": "stderr",
     "output_type": "stream",
     "text": [
      "100%|██████████| 1065/1065 [12:16<00:00,  1.45it/s]"
     ]
    },
    {
     "name": "stdout",
     "output_type": "stream",
     "text": [
      "Epoch 15: 100%, loss: 4.797655\n"
     ]
    },
    {
     "name": "stderr",
     "output_type": "stream",
     "text": [
      "\n"
     ]
    },
    {
     "name": "stdout",
     "output_type": "stream",
     "text": [
      "                      (F1-score: 0.0447, Precision: 0.0439, Recall: 0.0524)\n",
      "\n",
      "                      (NDCG: 0.0424)\n",
      "\n",
      "                      (MAE: 3.9638)\n",
      "\n",
      "train_loss= tensor(27.4938)\n",
      "--------------------\n"
     ]
    },
    {
     "name": "stderr",
     "output_type": "stream",
     "text": [
      "100%|██████████| 133/133 [01:08<00:00,  1.94it/s]\n"
     ]
    },
    {
     "name": "stdout",
     "output_type": "stream",
     "text": [
      "                      (F1-score: 0.0385, Precision: 0.0406, Recall: 0.0420)\n",
      "\n",
      "                      (NDCG: 0.0380)\n",
      "\n",
      "                      (MAE: 3.9135)\n",
      "\n",
      "val_loss= tensor(28.9594)\n",
      "--------------------\n"
     ]
    },
    {
     "name": "stderr",
     "output_type": "stream",
     "text": [
      "100%|██████████| 133/133 [01:13<00:00,  1.80it/s]\n"
     ]
    },
    {
     "name": "stdout",
     "output_type": "stream",
     "text": [
      "                      (F1-score: 0.0496, Precision: 0.0506, Recall: 0.0556)\n",
      "\n",
      "                      (NDCG: 0.0465)\n",
      "\n",
      "                      (MAE: 3.8346)\n",
      "\n",
      "--------------------\n",
      "[[1, 0.027684618760699196, 0.02308825022157065, 0.023407203724390736, 0.02425057101203479, 4.003759398496241, 29.16179084777832], [2, 0.029753407291689394, 0.021515822479415667, 0.0232305488528067, 0.023993875229157004, 4.421052631578948, 30.407958984375], [3, 0.026521754517610723, 0.01944572645160705, 0.02094783241188929, 0.024746779620269298, 4.137218045112782, 28.88351058959961], [4, 0.03624619405222976, 0.029654036711056195, 0.030453093470484346, 0.033177578982834084, 3.9586466165413534, 28.095319747924805], [5, 0.04717163886405594, 0.03934299183736815, 0.04008028821891348, 0.04018991429855893, 3.9859022556390977, 27.89865493774414], [6, 0.05929630975854816, 0.04367347102124021, 0.04727637263056405, 0.04411227062530115, 4.291353383458647, 28.584774017333984], [7, 0.05896189022993655, 0.04731208483125295, 0.04924575375086795, 0.04581683718413815, 4.035714285714286, 27.885095596313477], [8, 0.05457957360726349, 0.04990089333132995, 0.04881475696398401, 0.046261296887650974, 3.7988721804511276, 28.231107711791992], [9, 0.06148796133980395, 0.046514208618438406, 0.04969687563141103, 0.04567730578828491, 4.2556390977443606, 29.051654815673828], [10, 0.053261378200554266, 0.05082864670941331, 0.04876580217154104, 0.046333942207843905, 3.773496240601504, 28.400859832763672], [11, 0.05928358435797242, 0.04986174301965176, 0.050676462922228806, 0.04667627569585618, 3.9323308270676693, 27.414735794067383], [12, 0.06169737766185816, 0.049383092654007914, 0.05129558626098652, 0.046674406773032605, 4.06203007518797, 27.78209114074707], [13, 0.05497976139174377, 0.04972947794140686, 0.04900616811986766, 0.046241711620311425, 3.861842105263158, 29.15024757385254], [14, 0.061060844880469436, 0.04720448064498411, 0.050102109819482814, 0.046051683674629466, 4.079887218045113, 27.76575469970703], [15, 0.05559643567749788, 0.05057150505179447, 0.049620776433096564, 0.04654423603998091, 3.8345864661654137, 28.222253799438477]]\n",
      "-----------------------------------------------------------------------------------------\n"
     ]
    },
    {
     "name": "stderr",
     "output_type": "stream",
     "text": [
      "  0%|          | 1/1065 [00:00<07:57,  2.23it/s]"
     ]
    },
    {
     "name": "stdout",
     "output_type": "stream",
     "text": [
      "Epoch 16: 0%, loss: 32.574299\n"
     ]
    },
    {
     "name": "stderr",
     "output_type": "stream",
     "text": [
      "  9%|▉         | 101/1065 [01:06<11:18,  1.42it/s]"
     ]
    },
    {
     "name": "stdout",
     "output_type": "stream",
     "text": [
      "Epoch 16: 9%, loss: 14.564011\n"
     ]
    },
    {
     "name": "stderr",
     "output_type": "stream",
     "text": [
      " 19%|█▉        | 201/1065 [02:13<09:59,  1.44it/s]"
     ]
    },
    {
     "name": "stdout",
     "output_type": "stream",
     "text": [
      "Epoch 16: 19%, loss: 6.875521\n"
     ]
    },
    {
     "name": "stderr",
     "output_type": "stream",
     "text": [
      " 28%|██▊       | 301/1065 [03:22<08:13,  1.55it/s]"
     ]
    },
    {
     "name": "stdout",
     "output_type": "stream",
     "text": [
      "Epoch 16: 28%, loss: 24.553392\n"
     ]
    },
    {
     "name": "stderr",
     "output_type": "stream",
     "text": [
      " 38%|███▊      | 401/1065 [04:30<07:38,  1.45it/s]"
     ]
    },
    {
     "name": "stdout",
     "output_type": "stream",
     "text": [
      "Epoch 16: 38%, loss: 7.718621\n"
     ]
    },
    {
     "name": "stderr",
     "output_type": "stream",
     "text": [
      " 47%|████▋     | 501/1065 [05:40<06:34,  1.43it/s]"
     ]
    },
    {
     "name": "stdout",
     "output_type": "stream",
     "text": [
      "Epoch 16: 47%, loss: 15.544494\n"
     ]
    },
    {
     "name": "stderr",
     "output_type": "stream",
     "text": [
      " 56%|█████▋    | 601/1065 [06:49<05:24,  1.43it/s]"
     ]
    },
    {
     "name": "stdout",
     "output_type": "stream",
     "text": [
      "Epoch 16: 56%, loss: 25.614805\n"
     ]
    },
    {
     "name": "stderr",
     "output_type": "stream",
     "text": [
      " 66%|██████▌   | 701/1065 [08:01<04:13,  1.44it/s]"
     ]
    },
    {
     "name": "stdout",
     "output_type": "stream",
     "text": [
      "Epoch 16: 66%, loss: 19.180573\n"
     ]
    },
    {
     "name": "stderr",
     "output_type": "stream",
     "text": [
      " 75%|███████▌  | 801/1065 [09:13<03:14,  1.36it/s]"
     ]
    },
    {
     "name": "stdout",
     "output_type": "stream",
     "text": [
      "Epoch 16: 75%, loss: 20.961987\n"
     ]
    },
    {
     "name": "stderr",
     "output_type": "stream",
     "text": [
      " 85%|████████▍ | 901/1065 [10:25<01:42,  1.60it/s]"
     ]
    },
    {
     "name": "stdout",
     "output_type": "stream",
     "text": [
      "Epoch 16: 85%, loss: 13.665719\n"
     ]
    },
    {
     "name": "stderr",
     "output_type": "stream",
     "text": [
      " 94%|█████████▍| 1001/1065 [11:29<00:35,  1.83it/s]"
     ]
    },
    {
     "name": "stdout",
     "output_type": "stream",
     "text": [
      "Epoch 16: 94%, loss: 60.140472\n"
     ]
    },
    {
     "name": "stderr",
     "output_type": "stream",
     "text": [
      "100%|██████████| 1065/1065 [12:07<00:00,  1.46it/s]"
     ]
    },
    {
     "name": "stdout",
     "output_type": "stream",
     "text": [
      "Epoch 16: 100%, loss: 81.017799\n"
     ]
    },
    {
     "name": "stderr",
     "output_type": "stream",
     "text": [
      "\n"
     ]
    },
    {
     "name": "stdout",
     "output_type": "stream",
     "text": [
      "                      (F1-score: 0.0449, Precision: 0.0444, Recall: 0.0522)\n",
      "\n",
      "                      (NDCG: 0.0427)\n",
      "\n",
      "                      (MAE: 3.9553)\n",
      "\n",
      "train_loss= tensor(27.3928)\n",
      "--------------------\n"
     ]
    },
    {
     "name": "stderr",
     "output_type": "stream",
     "text": [
      "100%|██████████| 133/133 [01:10<00:00,  1.90it/s]\n"
     ]
    },
    {
     "name": "stdout",
     "output_type": "stream",
     "text": [
      "                      (F1-score: 0.0399, Precision: 0.0401, Recall: 0.0462)\n",
      "\n",
      "                      (NDCG: 0.0387)\n",
      "\n",
      "                      (MAE: 4.0132)\n",
      "\n",
      "val_loss= tensor(27.1819)\n",
      "--------------------\n"
     ]
    },
    {
     "name": "stderr",
     "output_type": "stream",
     "text": [
      "100%|██████████| 133/133 [01:12<00:00,  1.84it/s]\n"
     ]
    },
    {
     "name": "stdout",
     "output_type": "stream",
     "text": [
      "                      (F1-score: 0.0507, Precision: 0.0494, Recall: 0.0600)\n",
      "\n",
      "                      (NDCG: 0.0465)\n",
      "\n",
      "                      (MAE: 3.9746)\n",
      "\n",
      "--------------------\n",
      "[[1, 0.027684618760699196, 0.02308825022157065, 0.023407203724390736, 0.02425057101203479, 4.003759398496241, 29.16179084777832], [2, 0.029753407291689394, 0.021515822479415667, 0.0232305488528067, 0.023993875229157004, 4.421052631578948, 30.407958984375], [3, 0.026521754517610723, 0.01944572645160705, 0.02094783241188929, 0.024746779620269298, 4.137218045112782, 28.88351058959961], [4, 0.03624619405222976, 0.029654036711056195, 0.030453093470484346, 0.033177578982834084, 3.9586466165413534, 28.095319747924805], [5, 0.04717163886405594, 0.03934299183736815, 0.04008028821891348, 0.04018991429855893, 3.9859022556390977, 27.89865493774414], [6, 0.05929630975854816, 0.04367347102124021, 0.04727637263056405, 0.04411227062530115, 4.291353383458647, 28.584774017333984], [7, 0.05896189022993655, 0.04731208483125295, 0.04924575375086795, 0.04581683718413815, 4.035714285714286, 27.885095596313477], [8, 0.05457957360726349, 0.04990089333132995, 0.04881475696398401, 0.046261296887650974, 3.7988721804511276, 28.231107711791992], [9, 0.06148796133980395, 0.046514208618438406, 0.04969687563141103, 0.04567730578828491, 4.2556390977443606, 29.051654815673828], [10, 0.053261378200554266, 0.05082864670941331, 0.04876580217154104, 0.046333942207843905, 3.773496240601504, 28.400859832763672], [11, 0.05928358435797242, 0.04986174301965176, 0.050676462922228806, 0.04667627569585618, 3.9323308270676693, 27.414735794067383], [12, 0.06169737766185816, 0.049383092654007914, 0.05129558626098652, 0.046674406773032605, 4.06203007518797, 27.78209114074707], [13, 0.05497976139174377, 0.04972947794140686, 0.04900616811986766, 0.046241711620311425, 3.861842105263158, 29.15024757385254], [14, 0.061060844880469436, 0.04720448064498411, 0.050102109819482814, 0.046051683674629466, 4.079887218045113, 27.76575469970703], [15, 0.05559643567749788, 0.05057150505179447, 0.049620776433096564, 0.04654423603998091, 3.8345864661654137, 28.222253799438477], [16, 0.0599578422578772, 0.049378819864078556, 0.0506630026786888, 0.04653385648314834, 3.9746240601503757, 27.355199813842773]]\n",
      "-----------------------------------------------------------------------------------------\n"
     ]
    },
    {
     "name": "stderr",
     "output_type": "stream",
     "text": [
      "  0%|          | 1/1065 [00:00<08:03,  2.20it/s]"
     ]
    },
    {
     "name": "stdout",
     "output_type": "stream",
     "text": [
      "Epoch 17: 0%, loss: 47.108700\n"
     ]
    },
    {
     "name": "stderr",
     "output_type": "stream",
     "text": [
      "  9%|▉         | 101/1065 [01:06<10:19,  1.56it/s]"
     ]
    },
    {
     "name": "stdout",
     "output_type": "stream",
     "text": [
      "Epoch 17: 9%, loss: 26.602194\n"
     ]
    },
    {
     "name": "stderr",
     "output_type": "stream",
     "text": [
      " 19%|█▉        | 201/1065 [02:14<10:05,  1.43it/s]"
     ]
    },
    {
     "name": "stdout",
     "output_type": "stream",
     "text": [
      "Epoch 17: 19%, loss: 2.422667\n"
     ]
    },
    {
     "name": "stderr",
     "output_type": "stream",
     "text": [
      " 28%|██▊       | 301/1065 [03:23<09:05,  1.40it/s]"
     ]
    },
    {
     "name": "stdout",
     "output_type": "stream",
     "text": [
      "Epoch 17: 28%, loss: 43.649124\n"
     ]
    },
    {
     "name": "stderr",
     "output_type": "stream",
     "text": [
      " 38%|███▊      | 401/1065 [04:31<07:47,  1.42it/s]"
     ]
    },
    {
     "name": "stdout",
     "output_type": "stream",
     "text": [
      "Epoch 17: 38%, loss: 20.132450\n"
     ]
    },
    {
     "name": "stderr",
     "output_type": "stream",
     "text": [
      " 47%|████▋     | 501/1065 [05:42<06:26,  1.46it/s]"
     ]
    },
    {
     "name": "stdout",
     "output_type": "stream",
     "text": [
      "Epoch 17: 47%, loss: 27.457170\n"
     ]
    },
    {
     "name": "stderr",
     "output_type": "stream",
     "text": [
      " 56%|█████▋    | 601/1065 [06:54<05:25,  1.43it/s]"
     ]
    },
    {
     "name": "stdout",
     "output_type": "stream",
     "text": [
      "Epoch 17: 56%, loss: 13.448063\n"
     ]
    },
    {
     "name": "stderr",
     "output_type": "stream",
     "text": [
      " 66%|██████▌   | 701/1065 [08:05<04:18,  1.41it/s]"
     ]
    },
    {
     "name": "stdout",
     "output_type": "stream",
     "text": [
      "Epoch 17: 66%, loss: 23.862637\n"
     ]
    },
    {
     "name": "stderr",
     "output_type": "stream",
     "text": [
      " 75%|███████▌  | 801/1065 [09:18<03:06,  1.42it/s]"
     ]
    },
    {
     "name": "stdout",
     "output_type": "stream",
     "text": [
      "Epoch 17: 75%, loss: 7.310293\n"
     ]
    },
    {
     "name": "stderr",
     "output_type": "stream",
     "text": [
      " 85%|████████▍ | 901/1065 [10:29<01:44,  1.56it/s]"
     ]
    },
    {
     "name": "stdout",
     "output_type": "stream",
     "text": [
      "Epoch 17: 85%, loss: 50.929623\n"
     ]
    },
    {
     "name": "stderr",
     "output_type": "stream",
     "text": [
      " 94%|█████████▍| 1001/1065 [11:35<00:43,  1.48it/s]"
     ]
    },
    {
     "name": "stdout",
     "output_type": "stream",
     "text": [
      "Epoch 17: 94%, loss: 8.866950\n"
     ]
    },
    {
     "name": "stderr",
     "output_type": "stream",
     "text": [
      "100%|██████████| 1065/1065 [12:13<00:00,  1.45it/s]"
     ]
    },
    {
     "name": "stdout",
     "output_type": "stream",
     "text": [
      "Epoch 17: 100%, loss: 4.942668\n"
     ]
    },
    {
     "name": "stderr",
     "output_type": "stream",
     "text": [
      "\n"
     ]
    },
    {
     "name": "stdout",
     "output_type": "stream",
     "text": [
      "                      (F1-score: 0.0448, Precision: 0.0441, Recall: 0.0523)\n",
      "\n",
      "                      (NDCG: 0.0422)\n",
      "\n",
      "                      (MAE: 3.9660)\n",
      "\n",
      "train_loss= tensor(27.4797)\n",
      "--------------------\n"
     ]
    },
    {
     "name": "stderr",
     "output_type": "stream",
     "text": [
      "100%|██████████| 133/133 [01:08<00:00,  1.94it/s]\n"
     ]
    },
    {
     "name": "stdout",
     "output_type": "stream",
     "text": [
      "                      (F1-score: 0.0391, Precision: 0.0396, Recall: 0.0447)\n",
      "\n",
      "                      (NDCG: 0.0383)\n",
      "\n",
      "                      (MAE: 4.0113)\n",
      "\n",
      "val_loss= tensor(27.7200)\n",
      "--------------------\n"
     ]
    },
    {
     "name": "stderr",
     "output_type": "stream",
     "text": [
      "100%|██████████| 133/133 [01:12<00:00,  1.83it/s]\n"
     ]
    },
    {
     "name": "stdout",
     "output_type": "stream",
     "text": [
      "                      (F1-score: 0.0506, Precision: 0.0488, Recall: 0.0603)\n",
      "\n",
      "                      (NDCG: 0.0464)\n",
      "\n",
      "                      (MAE: 3.9727)\n",
      "\n",
      "--------------------\n",
      "[[1, 0.027684618760699196, 0.02308825022157065, 0.023407203724390736, 0.02425057101203479, 4.003759398496241, 29.16179084777832], [2, 0.029753407291689394, 0.021515822479415667, 0.0232305488528067, 0.023993875229157004, 4.421052631578948, 30.407958984375], [3, 0.026521754517610723, 0.01944572645160705, 0.02094783241188929, 0.024746779620269298, 4.137218045112782, 28.88351058959961], [4, 0.03624619405222976, 0.029654036711056195, 0.030453093470484346, 0.033177578982834084, 3.9586466165413534, 28.095319747924805], [5, 0.04717163886405594, 0.03934299183736815, 0.04008028821891348, 0.04018991429855893, 3.9859022556390977, 27.89865493774414], [6, 0.05929630975854816, 0.04367347102124021, 0.04727637263056405, 0.04411227062530115, 4.291353383458647, 28.584774017333984], [7, 0.05896189022993655, 0.04731208483125295, 0.04924575375086795, 0.04581683718413815, 4.035714285714286, 27.885095596313477], [8, 0.05457957360726349, 0.04990089333132995, 0.04881475696398401, 0.046261296887650974, 3.7988721804511276, 28.231107711791992], [9, 0.06148796133980395, 0.046514208618438406, 0.04969687563141103, 0.04567730578828491, 4.2556390977443606, 29.051654815673828], [10, 0.053261378200554266, 0.05082864670941331, 0.04876580217154104, 0.046333942207843905, 3.773496240601504, 28.400859832763672], [11, 0.05928358435797242, 0.04986174301965176, 0.050676462922228806, 0.04667627569585618, 3.9323308270676693, 27.414735794067383], [12, 0.06169737766185816, 0.049383092654007914, 0.05129558626098652, 0.046674406773032605, 4.06203007518797, 27.78209114074707], [13, 0.05497976139174377, 0.04972947794140686, 0.04900616811986766, 0.046241711620311425, 3.861842105263158, 29.15024757385254], [14, 0.061060844880469436, 0.04720448064498411, 0.050102109819482814, 0.046051683674629466, 4.079887218045113, 27.76575469970703], [15, 0.05559643567749788, 0.05057150505179447, 0.049620776433096564, 0.04654423603998091, 3.8345864661654137, 28.222253799438477], [16, 0.0599578422578772, 0.049378819864078556, 0.0506630026786888, 0.04653385648314834, 3.9746240601503757, 27.355199813842773], [17, 0.060267889147980376, 0.04879339803599689, 0.05058178900072928, 0.04636944224882899, 3.9727443609022557, 27.4354248046875]]\n",
      "-----------------------------------------------------------------------------------------\n"
     ]
    },
    {
     "name": "stderr",
     "output_type": "stream",
     "text": [
      "  0%|          | 1/1065 [00:00<10:49,  1.64it/s]"
     ]
    },
    {
     "name": "stdout",
     "output_type": "stream",
     "text": [
      "Epoch 18: 0%, loss: 37.511002\n"
     ]
    },
    {
     "name": "stderr",
     "output_type": "stream",
     "text": [
      "  9%|▉         | 101/1065 [01:06<10:59,  1.46it/s]"
     ]
    },
    {
     "name": "stdout",
     "output_type": "stream",
     "text": [
      "Epoch 18: 9%, loss: 7.058173\n"
     ]
    },
    {
     "name": "stderr",
     "output_type": "stream",
     "text": [
      " 19%|█▉        | 201/1065 [02:13<10:05,  1.43it/s]"
     ]
    },
    {
     "name": "stdout",
     "output_type": "stream",
     "text": [
      "Epoch 18: 19%, loss: 15.344142\n"
     ]
    },
    {
     "name": "stderr",
     "output_type": "stream",
     "text": [
      " 28%|██▊       | 301/1065 [03:20<08:42,  1.46it/s]"
     ]
    },
    {
     "name": "stdout",
     "output_type": "stream",
     "text": [
      "Epoch 18: 28%, loss: 24.598717\n"
     ]
    },
    {
     "name": "stderr",
     "output_type": "stream",
     "text": [
      " 38%|███▊      | 401/1065 [04:29<08:04,  1.37it/s]"
     ]
    },
    {
     "name": "stdout",
     "output_type": "stream",
     "text": [
      "Epoch 18: 38%, loss: 6.535067\n"
     ]
    },
    {
     "name": "stderr",
     "output_type": "stream",
     "text": [
      " 47%|████▋     | 501/1065 [05:39<06:28,  1.45it/s]"
     ]
    },
    {
     "name": "stdout",
     "output_type": "stream",
     "text": [
      "Epoch 18: 47%, loss: 6.940209\n"
     ]
    },
    {
     "name": "stderr",
     "output_type": "stream",
     "text": [
      " 56%|█████▋    | 601/1065 [06:51<05:42,  1.35it/s]"
     ]
    },
    {
     "name": "stdout",
     "output_type": "stream",
     "text": [
      "Epoch 18: 56%, loss: 43.175930\n"
     ]
    },
    {
     "name": "stderr",
     "output_type": "stream",
     "text": [
      " 66%|██████▌   | 701/1065 [08:03<04:14,  1.43it/s]"
     ]
    },
    {
     "name": "stdout",
     "output_type": "stream",
     "text": [
      "Epoch 18: 66%, loss: 14.320300\n"
     ]
    },
    {
     "name": "stderr",
     "output_type": "stream",
     "text": [
      " 75%|███████▌  | 801/1065 [09:14<03:20,  1.32it/s]"
     ]
    },
    {
     "name": "stdout",
     "output_type": "stream",
     "text": [
      "Epoch 18: 75%, loss: 15.219386\n"
     ]
    },
    {
     "name": "stderr",
     "output_type": "stream",
     "text": [
      " 85%|████████▍ | 901/1065 [10:23<01:40,  1.64it/s]"
     ]
    },
    {
     "name": "stdout",
     "output_type": "stream",
     "text": [
      "Epoch 18: 85%, loss: 9.196054\n"
     ]
    },
    {
     "name": "stderr",
     "output_type": "stream",
     "text": [
      " 94%|█████████▍| 1001/1065 [11:29<00:42,  1.50it/s]"
     ]
    },
    {
     "name": "stdout",
     "output_type": "stream",
     "text": [
      "Epoch 18: 94%, loss: 6.937110\n"
     ]
    },
    {
     "name": "stderr",
     "output_type": "stream",
     "text": [
      "100%|██████████| 1065/1065 [12:09<00:00,  1.46it/s]"
     ]
    },
    {
     "name": "stdout",
     "output_type": "stream",
     "text": [
      "Epoch 18: 100%, loss: 10.182931\n"
     ]
    },
    {
     "name": "stderr",
     "output_type": "stream",
     "text": [
      "\n"
     ]
    },
    {
     "name": "stdout",
     "output_type": "stream",
     "text": [
      "                      (F1-score: 0.0448, Precision: 0.0443, Recall: 0.0521)\n",
      "\n",
      "                      (NDCG: 0.0427)\n",
      "\n",
      "                      (MAE: 3.9533)\n",
      "\n",
      "train_loss= tensor(27.4457)\n",
      "--------------------\n"
     ]
    },
    {
     "name": "stderr",
     "output_type": "stream",
     "text": [
      "100%|██████████| 133/133 [01:11<00:00,  1.87it/s]\n"
     ]
    },
    {
     "name": "stdout",
     "output_type": "stream",
     "text": [
      "                      (F1-score: 0.0390, Precision: 0.0386, Recall: 0.0459)\n",
      "\n",
      "                      (NDCG: 0.0380)\n",
      "\n",
      "                      (MAE: 4.0620)\n",
      "\n",
      "val_loss= tensor(27.5283)\n",
      "--------------------\n"
     ]
    },
    {
     "name": "stderr",
     "output_type": "stream",
     "text": [
      "100%|██████████| 133/133 [01:12<00:00,  1.83it/s]\n"
     ]
    },
    {
     "name": "stdout",
     "output_type": "stream",
     "text": [
      "                      (F1-score: 0.0491, Precision: 0.0464, Recall: 0.0598)\n",
      "\n",
      "                      (NDCG: 0.0457)\n",
      "\n",
      "                      (MAE: 4.0705)\n",
      "\n",
      "--------------------\n",
      "[[1, 0.027684618760699196, 0.02308825022157065, 0.023407203724390736, 0.02425057101203479, 4.003759398496241, 29.16179084777832], [2, 0.029753407291689394, 0.021515822479415667, 0.0232305488528067, 0.023993875229157004, 4.421052631578948, 30.407958984375], [3, 0.026521754517610723, 0.01944572645160705, 0.02094783241188929, 0.024746779620269298, 4.137218045112782, 28.88351058959961], [4, 0.03624619405222976, 0.029654036711056195, 0.030453093470484346, 0.033177578982834084, 3.9586466165413534, 28.095319747924805], [5, 0.04717163886405594, 0.03934299183736815, 0.04008028821891348, 0.04018991429855893, 3.9859022556390977, 27.89865493774414], [6, 0.05929630975854816, 0.04367347102124021, 0.04727637263056405, 0.04411227062530115, 4.291353383458647, 28.584774017333984], [7, 0.05896189022993655, 0.04731208483125295, 0.04924575375086795, 0.04581683718413815, 4.035714285714286, 27.885095596313477], [8, 0.05457957360726349, 0.04990089333132995, 0.04881475696398401, 0.046261296887650974, 3.7988721804511276, 28.231107711791992], [9, 0.06148796133980395, 0.046514208618438406, 0.04969687563141103, 0.04567730578828491, 4.2556390977443606, 29.051654815673828], [10, 0.053261378200554266, 0.05082864670941331, 0.04876580217154104, 0.046333942207843905, 3.773496240601504, 28.400859832763672], [11, 0.05928358435797242, 0.04986174301965176, 0.050676462922228806, 0.04667627569585618, 3.9323308270676693, 27.414735794067383], [12, 0.06169737766185816, 0.049383092654007914, 0.05129558626098652, 0.046674406773032605, 4.06203007518797, 27.78209114074707], [13, 0.05497976139174377, 0.04972947794140686, 0.04900616811986766, 0.046241711620311425, 3.861842105263158, 29.15024757385254], [14, 0.061060844880469436, 0.04720448064498411, 0.050102109819482814, 0.046051683674629466, 4.079887218045113, 27.76575469970703], [15, 0.05559643567749788, 0.05057150505179447, 0.049620776433096564, 0.04654423603998091, 3.8345864661654137, 28.222253799438477], [16, 0.0599578422578772, 0.049378819864078556, 0.0506630026786888, 0.04653385648314834, 3.9746240601503757, 27.355199813842773], [17, 0.060267889147980376, 0.04879339803599689, 0.05058178900072928, 0.04636944224882899, 3.9727443609022557, 27.4354248046875], [18, 0.059799951051724115, 0.046385060966544295, 0.04907527383680481, 0.045650294689545616, 4.070488721804511, 27.634449005126953]]\n",
      "-----------------------------------------------------------------------------------------\n"
     ]
    },
    {
     "name": "stderr",
     "output_type": "stream",
     "text": [
      "  0%|          | 1/1065 [00:00<07:48,  2.27it/s]"
     ]
    },
    {
     "name": "stdout",
     "output_type": "stream",
     "text": [
      "Epoch 19: 0%, loss: 6.040117\n"
     ]
    },
    {
     "name": "stderr",
     "output_type": "stream",
     "text": [
      "  9%|▉         | 101/1065 [01:06<10:01,  1.60it/s]"
     ]
    },
    {
     "name": "stdout",
     "output_type": "stream",
     "text": [
      "Epoch 19: 9%, loss: 11.758433\n"
     ]
    },
    {
     "name": "stderr",
     "output_type": "stream",
     "text": [
      " 19%|█▉        | 201/1065 [02:14<09:44,  1.48it/s]"
     ]
    },
    {
     "name": "stdout",
     "output_type": "stream",
     "text": [
      "Epoch 19: 19%, loss: 34.307667\n"
     ]
    },
    {
     "name": "stderr",
     "output_type": "stream",
     "text": [
      " 28%|██▊       | 301/1065 [03:23<08:26,  1.51it/s]"
     ]
    },
    {
     "name": "stdout",
     "output_type": "stream",
     "text": [
      "Epoch 19: 28%, loss: 13.364343\n"
     ]
    },
    {
     "name": "stderr",
     "output_type": "stream",
     "text": [
      " 38%|███▊      | 401/1065 [04:32<08:01,  1.38it/s]"
     ]
    },
    {
     "name": "stdout",
     "output_type": "stream",
     "text": [
      "Epoch 19: 38%, loss: 11.060578\n"
     ]
    },
    {
     "name": "stderr",
     "output_type": "stream",
     "text": [
      " 47%|████▋     | 501/1065 [05:43<06:51,  1.37it/s]"
     ]
    },
    {
     "name": "stdout",
     "output_type": "stream",
     "text": [
      "Epoch 19: 47%, loss: 13.630562\n"
     ]
    },
    {
     "name": "stderr",
     "output_type": "stream",
     "text": [
      " 56%|█████▋    | 601/1065 [06:54<05:38,  1.37it/s]"
     ]
    },
    {
     "name": "stdout",
     "output_type": "stream",
     "text": [
      "Epoch 19: 56%, loss: 9.144519\n"
     ]
    },
    {
     "name": "stderr",
     "output_type": "stream",
     "text": [
      " 66%|██████▌   | 701/1065 [08:02<04:11,  1.45it/s]"
     ]
    },
    {
     "name": "stdout",
     "output_type": "stream",
     "text": [
      "Epoch 19: 66%, loss: 18.032700\n"
     ]
    },
    {
     "name": "stderr",
     "output_type": "stream",
     "text": [
      " 75%|███████▌  | 801/1065 [09:14<02:54,  1.51it/s]"
     ]
    },
    {
     "name": "stdout",
     "output_type": "stream",
     "text": [
      "Epoch 19: 75%, loss: 38.279964\n"
     ]
    },
    {
     "name": "stderr",
     "output_type": "stream",
     "text": [
      " 85%|████████▍ | 901/1065 [10:22<01:45,  1.55it/s]"
     ]
    },
    {
     "name": "stdout",
     "output_type": "stream",
     "text": [
      "Epoch 19: 85%, loss: 71.968277\n"
     ]
    },
    {
     "name": "stderr",
     "output_type": "stream",
     "text": [
      " 94%|█████████▍| 1001/1065 [11:27<00:43,  1.48it/s]"
     ]
    },
    {
     "name": "stdout",
     "output_type": "stream",
     "text": [
      "Epoch 19: 94%, loss: 25.123808\n"
     ]
    },
    {
     "name": "stderr",
     "output_type": "stream",
     "text": [
      "100%|██████████| 1065/1065 [12:07<00:00,  1.46it/s]"
     ]
    },
    {
     "name": "stdout",
     "output_type": "stream",
     "text": [
      "Epoch 19: 100%, loss: 48.939945\n"
     ]
    },
    {
     "name": "stderr",
     "output_type": "stream",
     "text": [
      "\n"
     ]
    },
    {
     "name": "stdout",
     "output_type": "stream",
     "text": [
      "                      (F1-score: 0.0451, Precision: 0.0444, Recall: 0.0528)\n",
      "\n",
      "                      (NDCG: 0.0426)\n",
      "\n",
      "                      (MAE: 3.9677)\n",
      "\n",
      "train_loss= tensor(27.3285)\n",
      "--------------------\n"
     ]
    },
    {
     "name": "stderr",
     "output_type": "stream",
     "text": [
      "100%|██████████| 133/133 [01:11<00:00,  1.85it/s]\n"
     ]
    },
    {
     "name": "stdout",
     "output_type": "stream",
     "text": [
      "                      (F1-score: 0.0388, Precision: 0.0401, Recall: 0.0433)\n",
      "\n",
      "                      (NDCG: 0.0388)\n",
      "\n",
      "                      (MAE: 3.8938)\n",
      "\n",
      "val_loss= tensor(27.3451)\n",
      "--------------------\n"
     ]
    },
    {
     "name": "stderr",
     "output_type": "stream",
     "text": [
      "100%|██████████| 133/133 [01:12<00:00,  1.83it/s]\n"
     ]
    },
    {
     "name": "stdout",
     "output_type": "stream",
     "text": [
      "                      (F1-score: 0.0500, Precision: 0.0496, Recall: 0.0578)\n",
      "\n",
      "                      (NDCG: 0.0465)\n",
      "\n",
      "                      (MAE: 3.8496)\n",
      "\n",
      "--------------------\n",
      "[[1, 0.027684618760699196, 0.02308825022157065, 0.023407203724390736, 0.02425057101203479, 4.003759398496241, 29.16179084777832], [2, 0.029753407291689394, 0.021515822479415667, 0.0232305488528067, 0.023993875229157004, 4.421052631578948, 30.407958984375], [3, 0.026521754517610723, 0.01944572645160705, 0.02094783241188929, 0.024746779620269298, 4.137218045112782, 28.88351058959961], [4, 0.03624619405222976, 0.029654036711056195, 0.030453093470484346, 0.033177578982834084, 3.9586466165413534, 28.095319747924805], [5, 0.04717163886405594, 0.03934299183736815, 0.04008028821891348, 0.04018991429855893, 3.9859022556390977, 27.89865493774414], [6, 0.05929630975854816, 0.04367347102124021, 0.04727637263056405, 0.04411227062530115, 4.291353383458647, 28.584774017333984], [7, 0.05896189022993655, 0.04731208483125295, 0.04924575375086795, 0.04581683718413815, 4.035714285714286, 27.885095596313477], [8, 0.05457957360726349, 0.04990089333132995, 0.04881475696398401, 0.046261296887650974, 3.7988721804511276, 28.231107711791992], [9, 0.06148796133980395, 0.046514208618438406, 0.04969687563141103, 0.04567730578828491, 4.2556390977443606, 29.051654815673828], [10, 0.053261378200554266, 0.05082864670941331, 0.04876580217154104, 0.046333942207843905, 3.773496240601504, 28.400859832763672], [11, 0.05928358435797242, 0.04986174301965176, 0.050676462922228806, 0.04667627569585618, 3.9323308270676693, 27.414735794067383], [12, 0.06169737766185816, 0.049383092654007914, 0.05129558626098652, 0.046674406773032605, 4.06203007518797, 27.78209114074707], [13, 0.05497976139174377, 0.04972947794140686, 0.04900616811986766, 0.046241711620311425, 3.861842105263158, 29.15024757385254], [14, 0.061060844880469436, 0.04720448064498411, 0.050102109819482814, 0.046051683674629466, 4.079887218045113, 27.76575469970703], [15, 0.05559643567749788, 0.05057150505179447, 0.049620776433096564, 0.04654423603998091, 3.8345864661654137, 28.222253799438477], [16, 0.0599578422578772, 0.049378819864078556, 0.0506630026786888, 0.04653385648314834, 3.9746240601503757, 27.355199813842773], [17, 0.060267889147980376, 0.04879339803599689, 0.05058178900072928, 0.04636944224882899, 3.9727443609022557, 27.4354248046875], [18, 0.059799951051724115, 0.046385060966544295, 0.04907527383680481, 0.045650294689545616, 4.070488721804511, 27.634449005126953], [19, 0.057780869110959976, 0.04955556445248626, 0.050033155088116524, 0.046485698506187056, 3.8496240601503757, 27.225648880004883]]\n",
      "-----------------------------------------------------------------------------------------\n"
     ]
    },
    {
     "name": "stderr",
     "output_type": "stream",
     "text": [
      "  0%|          | 1/1065 [00:00<07:52,  2.25it/s]"
     ]
    },
    {
     "name": "stdout",
     "output_type": "stream",
     "text": [
      "Epoch 20: 0%, loss: 8.175057\n"
     ]
    },
    {
     "name": "stderr",
     "output_type": "stream",
     "text": [
      "  9%|▉         | 101/1065 [01:06<10:58,  1.46it/s]"
     ]
    },
    {
     "name": "stdout",
     "output_type": "stream",
     "text": [
      "Epoch 20: 9%, loss: 5.098875\n"
     ]
    },
    {
     "name": "stderr",
     "output_type": "stream",
     "text": [
      " 19%|█▉        | 201/1065 [02:14<09:35,  1.50it/s]"
     ]
    },
    {
     "name": "stdout",
     "output_type": "stream",
     "text": [
      "Epoch 20: 19%, loss: 45.173626\n"
     ]
    },
    {
     "name": "stderr",
     "output_type": "stream",
     "text": [
      " 28%|██▊       | 301/1065 [03:22<08:52,  1.43it/s]"
     ]
    },
    {
     "name": "stdout",
     "output_type": "stream",
     "text": [
      "Epoch 20: 28%, loss: 41.243313\n"
     ]
    },
    {
     "name": "stderr",
     "output_type": "stream",
     "text": [
      " 38%|███▊      | 401/1065 [04:31<08:08,  1.36it/s]"
     ]
    },
    {
     "name": "stdout",
     "output_type": "stream",
     "text": [
      "Epoch 20: 38%, loss: 27.636448\n"
     ]
    },
    {
     "name": "stderr",
     "output_type": "stream",
     "text": [
      " 47%|████▋     | 501/1065 [05:43<06:42,  1.40it/s]"
     ]
    },
    {
     "name": "stdout",
     "output_type": "stream",
     "text": [
      "Epoch 20: 47%, loss: 9.690982\n"
     ]
    },
    {
     "name": "stderr",
     "output_type": "stream",
     "text": [
      " 56%|█████▋    | 601/1065 [06:53<05:47,  1.34it/s]"
     ]
    },
    {
     "name": "stdout",
     "output_type": "stream",
     "text": [
      "Epoch 20: 56%, loss: 46.564667\n"
     ]
    },
    {
     "name": "stderr",
     "output_type": "stream",
     "text": [
      " 66%|██████▌   | 701/1065 [08:04<04:18,  1.41it/s]"
     ]
    },
    {
     "name": "stdout",
     "output_type": "stream",
     "text": [
      "Epoch 20: 66%, loss: 11.664329\n"
     ]
    },
    {
     "name": "stderr",
     "output_type": "stream",
     "text": [
      " 75%|███████▌  | 801/1065 [09:16<02:55,  1.50it/s]"
     ]
    },
    {
     "name": "stdout",
     "output_type": "stream",
     "text": [
      "Epoch 20: 75%, loss: 15.081557\n"
     ]
    },
    {
     "name": "stderr",
     "output_type": "stream",
     "text": [
      " 85%|████████▍ | 901/1065 [10:20<01:47,  1.53it/s]"
     ]
    },
    {
     "name": "stdout",
     "output_type": "stream",
     "text": [
      "Epoch 20: 85%, loss: 4.677626\n"
     ]
    },
    {
     "name": "stderr",
     "output_type": "stream",
     "text": [
      " 94%|█████████▍| 1001/1065 [11:27<00:37,  1.73it/s]"
     ]
    },
    {
     "name": "stdout",
     "output_type": "stream",
     "text": [
      "Epoch 20: 94%, loss: 42.563324\n"
     ]
    },
    {
     "name": "stderr",
     "output_type": "stream",
     "text": [
      "100%|██████████| 1065/1065 [12:07<00:00,  1.46it/s]"
     ]
    },
    {
     "name": "stdout",
     "output_type": "stream",
     "text": [
      "Epoch 20: 100%, loss: 11.011174\n"
     ]
    },
    {
     "name": "stderr",
     "output_type": "stream",
     "text": [
      "\n"
     ]
    },
    {
     "name": "stdout",
     "output_type": "stream",
     "text": [
      "                      (F1-score: 0.0459, Precision: 0.0453, Recall: 0.0534)\n",
      "\n",
      "                      (NDCG: 0.0429)\n",
      "\n",
      "                      (MAE: 3.9542)\n",
      "\n",
      "train_loss= tensor(27.3224)\n",
      "--------------------\n"
     ]
    },
    {
     "name": "stderr",
     "output_type": "stream",
     "text": [
      "100%|██████████| 133/133 [01:10<00:00,  1.89it/s]\n"
     ]
    },
    {
     "name": "stdout",
     "output_type": "stream",
     "text": [
      "                      (F1-score: 0.0405, Precision: 0.0388, Recall: 0.0495)\n",
      "\n",
      "                      (NDCG: 0.0387)\n",
      "\n",
      "                      (MAE: 4.1927)\n",
      "\n",
      "val_loss= tensor(27.4764)\n",
      "--------------------\n"
     ]
    },
    {
     "name": "stderr",
     "output_type": "stream",
     "text": [
      "100%|██████████| 133/133 [01:13<00:00,  1.80it/s]\n"
     ]
    },
    {
     "name": "stdout",
     "output_type": "stream",
     "text": [
      "                      (F1-score: 0.0490, Precision: 0.0452, Recall: 0.0619)\n",
      "\n",
      "                      (NDCG: 0.0449)\n",
      "\n",
      "                      (MAE: 4.2867)\n",
      "\n",
      "--------------------\n",
      "[[1, 0.027684618760699196, 0.02308825022157065, 0.023407203724390736, 0.02425057101203479, 4.003759398496241, 29.16179084777832], [2, 0.029753407291689394, 0.021515822479415667, 0.0232305488528067, 0.023993875229157004, 4.421052631578948, 30.407958984375], [3, 0.026521754517610723, 0.01944572645160705, 0.02094783241188929, 0.024746779620269298, 4.137218045112782, 28.88351058959961], [4, 0.03624619405222976, 0.029654036711056195, 0.030453093470484346, 0.033177578982834084, 3.9586466165413534, 28.095319747924805], [5, 0.04717163886405594, 0.03934299183736815, 0.04008028821891348, 0.04018991429855893, 3.9859022556390977, 27.89865493774414], [6, 0.05929630975854816, 0.04367347102124021, 0.04727637263056405, 0.04411227062530115, 4.291353383458647, 28.584774017333984], [7, 0.05896189022993655, 0.04731208483125295, 0.04924575375086795, 0.04581683718413815, 4.035714285714286, 27.885095596313477], [8, 0.05457957360726349, 0.04990089333132995, 0.04881475696398401, 0.046261296887650974, 3.7988721804511276, 28.231107711791992], [9, 0.06148796133980395, 0.046514208618438406, 0.04969687563141103, 0.04567730578828491, 4.2556390977443606, 29.051654815673828], [10, 0.053261378200554266, 0.05082864670941331, 0.04876580217154104, 0.046333942207843905, 3.773496240601504, 28.400859832763672], [11, 0.05928358435797242, 0.04986174301965176, 0.050676462922228806, 0.04667627569585618, 3.9323308270676693, 27.414735794067383], [12, 0.06169737766185816, 0.049383092654007914, 0.05129558626098652, 0.046674406773032605, 4.06203007518797, 27.78209114074707], [13, 0.05497976139174377, 0.04972947794140686, 0.04900616811986766, 0.046241711620311425, 3.861842105263158, 29.15024757385254], [14, 0.061060844880469436, 0.04720448064498411, 0.050102109819482814, 0.046051683674629466, 4.079887218045113, 27.76575469970703], [15, 0.05559643567749788, 0.05057150505179447, 0.049620776433096564, 0.04654423603998091, 3.8345864661654137, 28.222253799438477], [16, 0.0599578422578772, 0.049378819864078556, 0.0506630026786888, 0.04653385648314834, 3.9746240601503757, 27.355199813842773], [17, 0.060267889147980376, 0.04879339803599689, 0.05058178900072928, 0.04636944224882899, 3.9727443609022557, 27.4354248046875], [18, 0.059799951051724115, 0.046385060966544295, 0.04907527383680481, 0.045650294689545616, 4.070488721804511, 27.634449005126953], [19, 0.057780869110959976, 0.04955556445248626, 0.050033155088116524, 0.046485698506187056, 3.8496240601503757, 27.225648880004883], [20, 0.061875421720027905, 0.045187689962809634, 0.04904443094953245, 0.0448606967194272, 4.286654135338346, 28.371280670166016]]\n",
      "-----------------------------------------------------------------------------------------\n"
     ]
    },
    {
     "name": "stderr",
     "output_type": "stream",
     "text": [
      "  0%|          | 1/1065 [00:00<08:29,  2.09it/s]"
     ]
    },
    {
     "name": "stdout",
     "output_type": "stream",
     "text": [
      "Epoch 21: 0%, loss: 45.678932\n"
     ]
    },
    {
     "name": "stderr",
     "output_type": "stream",
     "text": [
      "  9%|▉         | 101/1065 [01:06<10:37,  1.51it/s]"
     ]
    },
    {
     "name": "stdout",
     "output_type": "stream",
     "text": [
      "Epoch 21: 9%, loss: 10.689824\n"
     ]
    },
    {
     "name": "stderr",
     "output_type": "stream",
     "text": [
      " 19%|█▉        | 201/1065 [02:12<09:46,  1.47it/s]"
     ]
    },
    {
     "name": "stdout",
     "output_type": "stream",
     "text": [
      "Epoch 21: 19%, loss: 11.278139\n"
     ]
    },
    {
     "name": "stderr",
     "output_type": "stream",
     "text": [
      " 28%|██▊       | 301/1065 [03:21<08:15,  1.54it/s]"
     ]
    },
    {
     "name": "stdout",
     "output_type": "stream",
     "text": [
      "Epoch 21: 28%, loss: 9.679130\n"
     ]
    },
    {
     "name": "stderr",
     "output_type": "stream",
     "text": [
      " 38%|███▊      | 401/1065 [04:31<07:16,  1.52it/s]"
     ]
    },
    {
     "name": "stdout",
     "output_type": "stream",
     "text": [
      "Epoch 21: 38%, loss: 13.311994\n"
     ]
    },
    {
     "name": "stderr",
     "output_type": "stream",
     "text": [
      " 47%|████▋     | 501/1065 [05:41<06:49,  1.38it/s]"
     ]
    },
    {
     "name": "stdout",
     "output_type": "stream",
     "text": [
      "Epoch 21: 47%, loss: 9.331769\n"
     ]
    },
    {
     "name": "stderr",
     "output_type": "stream",
     "text": [
      " 56%|█████▋    | 601/1065 [06:53<05:27,  1.42it/s]"
     ]
    },
    {
     "name": "stdout",
     "output_type": "stream",
     "text": [
      "Epoch 21: 56%, loss: 12.692094\n"
     ]
    },
    {
     "name": "stderr",
     "output_type": "stream",
     "text": [
      " 66%|██████▌   | 701/1065 [08:05<04:24,  1.38it/s]"
     ]
    },
    {
     "name": "stdout",
     "output_type": "stream",
     "text": [
      "Epoch 21: 66%, loss: 11.512172\n"
     ]
    },
    {
     "name": "stderr",
     "output_type": "stream",
     "text": [
      " 75%|███████▌  | 801/1065 [09:14<02:55,  1.51it/s]"
     ]
    },
    {
     "name": "stdout",
     "output_type": "stream",
     "text": [
      "Epoch 21: 75%, loss: 8.767485\n"
     ]
    },
    {
     "name": "stderr",
     "output_type": "stream",
     "text": [
      " 85%|████████▍ | 901/1065 [10:20<01:47,  1.53it/s]"
     ]
    },
    {
     "name": "stdout",
     "output_type": "stream",
     "text": [
      "Epoch 21: 85%, loss: 72.365875\n"
     ]
    },
    {
     "name": "stderr",
     "output_type": "stream",
     "text": [
      " 94%|█████████▍| 1001/1065 [11:28<00:46,  1.37it/s]"
     ]
    },
    {
     "name": "stdout",
     "output_type": "stream",
     "text": [
      "Epoch 21: 94%, loss: 5.549965\n"
     ]
    },
    {
     "name": "stderr",
     "output_type": "stream",
     "text": [
      "100%|██████████| 1065/1065 [12:08<00:00,  1.46it/s]"
     ]
    },
    {
     "name": "stdout",
     "output_type": "stream",
     "text": [
      "Epoch 21: 100%, loss: 12.562562\n"
     ]
    },
    {
     "name": "stderr",
     "output_type": "stream",
     "text": [
      "\n"
     ]
    },
    {
     "name": "stdout",
     "output_type": "stream",
     "text": [
      "                      (F1-score: 0.0445, Precision: 0.0440, Recall: 0.0519)\n",
      "\n",
      "                      (NDCG: 0.0425)\n",
      "\n",
      "                      (MAE: 3.9423)\n",
      "\n",
      "train_loss= tensor(27.2798)\n",
      "--------------------\n"
     ]
    },
    {
     "name": "stderr",
     "output_type": "stream",
     "text": [
      "100%|██████████| 133/133 [01:11<00:00,  1.86it/s]\n"
     ]
    },
    {
     "name": "stdout",
     "output_type": "stream",
     "text": [
      "                      (F1-score: 0.0402, Precision: 0.0407, Recall: 0.0464)\n",
      "\n",
      "                      (NDCG: 0.0391)\n",
      "\n",
      "                      (MAE: 3.9944)\n",
      "\n",
      "val_loss= tensor(26.6594)\n",
      "--------------------\n"
     ]
    },
    {
     "name": "stderr",
     "output_type": "stream",
     "text": [
      "100%|██████████| 133/133 [01:13<00:00,  1.81it/s]\n"
     ]
    },
    {
     "name": "stdout",
     "output_type": "stream",
     "text": [
      "                      (F1-score: 0.0508, Precision: 0.0496, Recall: 0.0601)\n",
      "\n",
      "                      (NDCG: 0.0468)\n",
      "\n",
      "                      (MAE: 3.9737)\n",
      "\n",
      "--------------------\n",
      "[[1, 0.027684618760699196, 0.02308825022157065, 0.023407203724390736, 0.02425057101203479, 4.003759398496241, 29.16179084777832], [2, 0.029753407291689394, 0.021515822479415667, 0.0232305488528067, 0.023993875229157004, 4.421052631578948, 30.407958984375], [3, 0.026521754517610723, 0.01944572645160705, 0.02094783241188929, 0.024746779620269298, 4.137218045112782, 28.88351058959961], [4, 0.03624619405222976, 0.029654036711056195, 0.030453093470484346, 0.033177578982834084, 3.9586466165413534, 28.095319747924805], [5, 0.04717163886405594, 0.03934299183736815, 0.04008028821891348, 0.04018991429855893, 3.9859022556390977, 27.89865493774414], [6, 0.05929630975854816, 0.04367347102124021, 0.04727637263056405, 0.04411227062530115, 4.291353383458647, 28.584774017333984], [7, 0.05896189022993655, 0.04731208483125295, 0.04924575375086795, 0.04581683718413815, 4.035714285714286, 27.885095596313477], [8, 0.05457957360726349, 0.04990089333132995, 0.04881475696398401, 0.046261296887650974, 3.7988721804511276, 28.231107711791992], [9, 0.06148796133980395, 0.046514208618438406, 0.04969687563141103, 0.04567730578828491, 4.2556390977443606, 29.051654815673828], [10, 0.053261378200554266, 0.05082864670941331, 0.04876580217154104, 0.046333942207843905, 3.773496240601504, 28.400859832763672], [11, 0.05928358435797242, 0.04986174301965176, 0.050676462922228806, 0.04667627569585618, 3.9323308270676693, 27.414735794067383], [12, 0.06169737766185816, 0.049383092654007914, 0.05129558626098652, 0.046674406773032605, 4.06203007518797, 27.78209114074707], [13, 0.05497976139174377, 0.04972947794140686, 0.04900616811986766, 0.046241711620311425, 3.861842105263158, 29.15024757385254], [14, 0.061060844880469436, 0.04720448064498411, 0.050102109819482814, 0.046051683674629466, 4.079887218045113, 27.76575469970703], [15, 0.05559643567749788, 0.05057150505179447, 0.049620776433096564, 0.04654423603998091, 3.8345864661654137, 28.222253799438477], [16, 0.0599578422578772, 0.049378819864078556, 0.0506630026786888, 0.04653385648314834, 3.9746240601503757, 27.355199813842773], [17, 0.060267889147980376, 0.04879339803599689, 0.05058178900072928, 0.04636944224882899, 3.9727443609022557, 27.4354248046875], [18, 0.059799951051724115, 0.046385060966544295, 0.04907527383680481, 0.045650294689545616, 4.070488721804511, 27.634449005126953], [19, 0.057780869110959976, 0.04955556445248626, 0.050033155088116524, 0.046485698506187056, 3.8496240601503757, 27.225648880004883], [20, 0.061875421720027905, 0.045187689962809634, 0.04904443094953245, 0.0448606967194272, 4.286654135338346, 28.371280670166016], [21, 0.06008065635043886, 0.049571388253243746, 0.050830905090994985, 0.04675865290017756, 3.973684210526316, 27.323259353637695]]\n",
      "-----------------------------------------------------------------------------------------\n"
     ]
    },
    {
     "name": "stderr",
     "output_type": "stream",
     "text": [
      "  0%|          | 1/1065 [00:00<15:02,  1.18it/s]"
     ]
    },
    {
     "name": "stdout",
     "output_type": "stream",
     "text": [
      "Epoch 22: 0%, loss: 11.391768\n"
     ]
    },
    {
     "name": "stderr",
     "output_type": "stream",
     "text": [
      "  9%|▉         | 101/1065 [01:07<11:08,  1.44it/s]"
     ]
    },
    {
     "name": "stdout",
     "output_type": "stream",
     "text": [
      "Epoch 22: 9%, loss: 4.145889\n"
     ]
    },
    {
     "name": "stderr",
     "output_type": "stream",
     "text": [
      " 19%|█▉        | 201/1065 [02:15<09:52,  1.46it/s]"
     ]
    },
    {
     "name": "stdout",
     "output_type": "stream",
     "text": [
      "Epoch 22: 19%, loss: 37.854038\n"
     ]
    },
    {
     "name": "stderr",
     "output_type": "stream",
     "text": [
      " 28%|██▊       | 301/1065 [03:23<08:56,  1.42it/s]"
     ]
    },
    {
     "name": "stdout",
     "output_type": "stream",
     "text": [
      "Epoch 22: 28%, loss: 14.014498\n"
     ]
    },
    {
     "name": "stderr",
     "output_type": "stream",
     "text": [
      " 38%|███▊      | 401/1065 [04:32<08:04,  1.37it/s]"
     ]
    },
    {
     "name": "stdout",
     "output_type": "stream",
     "text": [
      "Epoch 22: 38%, loss: 6.919203\n"
     ]
    },
    {
     "name": "stderr",
     "output_type": "stream",
     "text": [
      " 47%|████▋     | 501/1065 [05:43<06:40,  1.41it/s]"
     ]
    },
    {
     "name": "stdout",
     "output_type": "stream",
     "text": [
      "Epoch 22: 47%, loss: 10.234230\n"
     ]
    },
    {
     "name": "stderr",
     "output_type": "stream",
     "text": [
      " 56%|█████▋    | 601/1065 [06:54<05:25,  1.43it/s]"
     ]
    },
    {
     "name": "stdout",
     "output_type": "stream",
     "text": [
      "Epoch 22: 56%, loss: 15.841294\n"
     ]
    },
    {
     "name": "stderr",
     "output_type": "stream",
     "text": [
      " 66%|██████▌   | 701/1065 [08:05<04:25,  1.37it/s]"
     ]
    },
    {
     "name": "stdout",
     "output_type": "stream",
     "text": [
      "Epoch 22: 66%, loss: 6.056147\n"
     ]
    },
    {
     "name": "stderr",
     "output_type": "stream",
     "text": [
      " 75%|███████▌  | 801/1065 [09:11<02:45,  1.60it/s]"
     ]
    },
    {
     "name": "stdout",
     "output_type": "stream",
     "text": [
      "Epoch 22: 75%, loss: 14.606869\n"
     ]
    },
    {
     "name": "stderr",
     "output_type": "stream",
     "text": [
      " 85%|████████▍ | 901/1065 [10:17<01:50,  1.49it/s]"
     ]
    },
    {
     "name": "stdout",
     "output_type": "stream",
     "text": [
      "Epoch 22: 85%, loss: 63.684162\n"
     ]
    },
    {
     "name": "stderr",
     "output_type": "stream",
     "text": [
      " 94%|█████████▍| 1001/1065 [11:25<00:42,  1.52it/s]"
     ]
    },
    {
     "name": "stdout",
     "output_type": "stream",
     "text": [
      "Epoch 22: 94%, loss: 22.569817\n"
     ]
    },
    {
     "name": "stderr",
     "output_type": "stream",
     "text": [
      "100%|██████████| 1065/1065 [12:05<00:00,  1.47it/s]"
     ]
    },
    {
     "name": "stdout",
     "output_type": "stream",
     "text": [
      "Epoch 22: 100%, loss: 6.149920\n"
     ]
    },
    {
     "name": "stderr",
     "output_type": "stream",
     "text": [
      "\n"
     ]
    },
    {
     "name": "stdout",
     "output_type": "stream",
     "text": [
      "                      (F1-score: 0.0452, Precision: 0.0446, Recall: 0.0525)\n",
      "\n",
      "                      (NDCG: 0.0428)\n",
      "\n",
      "                      (MAE: 3.9352)\n",
      "\n",
      "train_loss= tensor(27.3237)\n",
      "--------------------\n"
     ]
    },
    {
     "name": "stderr",
     "output_type": "stream",
     "text": [
      "100%|██████████| 133/133 [01:10<00:00,  1.89it/s]\n"
     ]
    },
    {
     "name": "stdout",
     "output_type": "stream",
     "text": [
      "                      (F1-score: 0.0388, Precision: 0.0398, Recall: 0.0435)\n",
      "\n",
      "                      (NDCG: 0.0382)\n",
      "\n",
      "                      (MAE: 4.0122)\n",
      "\n",
      "val_loss= tensor(29.6278)\n",
      "--------------------\n"
     ]
    },
    {
     "name": "stderr",
     "output_type": "stream",
     "text": [
      "100%|██████████| 133/133 [01:16<00:00,  1.74it/s]\n"
     ]
    },
    {
     "name": "stdout",
     "output_type": "stream",
     "text": [
      "                      (F1-score: 0.0509, Precision: 0.0501, Recall: 0.0592)\n",
      "\n",
      "                      (NDCG: 0.0471)\n",
      "\n",
      "                      (MAE: 3.9088)\n",
      "\n",
      "--------------------\n",
      "[[1, 0.027684618760699196, 0.02308825022157065, 0.023407203724390736, 0.02425057101203479, 4.003759398496241, 29.16179084777832], [2, 0.029753407291689394, 0.021515822479415667, 0.0232305488528067, 0.023993875229157004, 4.421052631578948, 30.407958984375], [3, 0.026521754517610723, 0.01944572645160705, 0.02094783241188929, 0.024746779620269298, 4.137218045112782, 28.88351058959961], [4, 0.03624619405222976, 0.029654036711056195, 0.030453093470484346, 0.033177578982834084, 3.9586466165413534, 28.095319747924805], [5, 0.04717163886405594, 0.03934299183736815, 0.04008028821891348, 0.04018991429855893, 3.9859022556390977, 27.89865493774414], [6, 0.05929630975854816, 0.04367347102124021, 0.04727637263056405, 0.04411227062530115, 4.291353383458647, 28.584774017333984], [7, 0.05896189022993655, 0.04731208483125295, 0.04924575375086795, 0.04581683718413815, 4.035714285714286, 27.885095596313477], [8, 0.05457957360726349, 0.04990089333132995, 0.04881475696398401, 0.046261296887650974, 3.7988721804511276, 28.231107711791992], [9, 0.06148796133980395, 0.046514208618438406, 0.04969687563141103, 0.04567730578828491, 4.2556390977443606, 29.051654815673828], [10, 0.053261378200554266, 0.05082864670941331, 0.04876580217154104, 0.046333942207843905, 3.773496240601504, 28.400859832763672], [11, 0.05928358435797242, 0.04986174301965176, 0.050676462922228806, 0.04667627569585618, 3.9323308270676693, 27.414735794067383], [12, 0.06169737766185816, 0.049383092654007914, 0.05129558626098652, 0.046674406773032605, 4.06203007518797, 27.78209114074707], [13, 0.05497976139174377, 0.04972947794140686, 0.04900616811986766, 0.046241711620311425, 3.861842105263158, 29.15024757385254], [14, 0.061060844880469436, 0.04720448064498411, 0.050102109819482814, 0.046051683674629466, 4.079887218045113, 27.76575469970703], [15, 0.05559643567749788, 0.05057150505179447, 0.049620776433096564, 0.04654423603998091, 3.8345864661654137, 28.222253799438477], [16, 0.0599578422578772, 0.049378819864078556, 0.0506630026786888, 0.04653385648314834, 3.9746240601503757, 27.355199813842773], [17, 0.060267889147980376, 0.04879339803599689, 0.05058178900072928, 0.04636944224882899, 3.9727443609022557, 27.4354248046875], [18, 0.059799951051724115, 0.046385060966544295, 0.04907527383680481, 0.045650294689545616, 4.070488721804511, 27.634449005126953], [19, 0.057780869110959976, 0.04955556445248626, 0.050033155088116524, 0.046485698506187056, 3.8496240601503757, 27.225648880004883], [20, 0.061875421720027905, 0.045187689962809634, 0.04904443094953245, 0.0448606967194272, 4.286654135338346, 28.371280670166016], [21, 0.06008065635043886, 0.049571388253243746, 0.050830905090994985, 0.04675865290017756, 3.973684210526316, 27.323259353637695], [22, 0.0591532955670303, 0.05009308241147037, 0.0509252768159624, 0.04709810293734746, 3.9088345864661656, 28.736085891723633]]\n",
      "-----------------------------------------------------------------------------------------\n"
     ]
    },
    {
     "name": "stderr",
     "output_type": "stream",
     "text": [
      "  0%|          | 1/1065 [00:00<08:03,  2.20it/s]"
     ]
    },
    {
     "name": "stdout",
     "output_type": "stream",
     "text": [
      "Epoch 23: 0%, loss: 10.106784\n"
     ]
    },
    {
     "name": "stderr",
     "output_type": "stream",
     "text": [
      "  9%|▉         | 101/1065 [01:07<10:41,  1.50it/s]"
     ]
    },
    {
     "name": "stdout",
     "output_type": "stream",
     "text": [
      "Epoch 23: 9%, loss: 35.676826\n"
     ]
    },
    {
     "name": "stderr",
     "output_type": "stream",
     "text": [
      " 19%|█▉        | 201/1065 [02:14<09:19,  1.54it/s]"
     ]
    },
    {
     "name": "stdout",
     "output_type": "stream",
     "text": [
      "Epoch 23: 19%, loss: 22.078445\n"
     ]
    },
    {
     "name": "stderr",
     "output_type": "stream",
     "text": [
      " 28%|██▊       | 301/1065 [03:22<08:59,  1.42it/s]"
     ]
    },
    {
     "name": "stdout",
     "output_type": "stream",
     "text": [
      "Epoch 23: 28%, loss: 12.950370\n"
     ]
    },
    {
     "name": "stderr",
     "output_type": "stream",
     "text": [
      " 38%|███▊      | 401/1065 [04:32<07:53,  1.40it/s]"
     ]
    },
    {
     "name": "stdout",
     "output_type": "stream",
     "text": [
      "Epoch 23: 38%, loss: 8.019579\n"
     ]
    },
    {
     "name": "stderr",
     "output_type": "stream",
     "text": [
      " 47%|████▋     | 501/1065 [05:43<06:27,  1.46it/s]"
     ]
    },
    {
     "name": "stdout",
     "output_type": "stream",
     "text": [
      "Epoch 23: 47%, loss: 8.862771\n"
     ]
    },
    {
     "name": "stderr",
     "output_type": "stream",
     "text": [
      " 56%|█████▋    | 601/1065 [06:55<05:56,  1.30it/s]"
     ]
    },
    {
     "name": "stdout",
     "output_type": "stream",
     "text": [
      "Epoch 23: 56%, loss: 7.006288\n"
     ]
    },
    {
     "name": "stderr",
     "output_type": "stream",
     "text": [
      " 66%|██████▌   | 701/1065 [08:05<04:05,  1.48it/s]"
     ]
    },
    {
     "name": "stdout",
     "output_type": "stream",
     "text": [
      "Epoch 23: 66%, loss: 29.534901\n"
     ]
    },
    {
     "name": "stderr",
     "output_type": "stream",
     "text": [
      " 75%|███████▌  | 801/1065 [09:11<02:57,  1.49it/s]"
     ]
    },
    {
     "name": "stdout",
     "output_type": "stream",
     "text": [
      "Epoch 23: 75%, loss: 10.960003\n"
     ]
    },
    {
     "name": "stderr",
     "output_type": "stream",
     "text": [
      " 85%|████████▍ | 901/1065 [10:18<01:49,  1.50it/s]"
     ]
    },
    {
     "name": "stdout",
     "output_type": "stream",
     "text": [
      "Epoch 23: 85%, loss: 28.079655\n"
     ]
    },
    {
     "name": "stderr",
     "output_type": "stream",
     "text": [
      " 94%|█████████▍| 1001/1065 [11:28<00:45,  1.40it/s]"
     ]
    },
    {
     "name": "stdout",
     "output_type": "stream",
     "text": [
      "Epoch 23: 94%, loss: 89.902214\n"
     ]
    },
    {
     "name": "stderr",
     "output_type": "stream",
     "text": [
      "100%|██████████| 1065/1065 [12:09<00:00,  1.46it/s]"
     ]
    },
    {
     "name": "stdout",
     "output_type": "stream",
     "text": [
      "Epoch 23: 100%, loss: 8.010784\n"
     ]
    },
    {
     "name": "stderr",
     "output_type": "stream",
     "text": [
      "\n"
     ]
    },
    {
     "name": "stdout",
     "output_type": "stream",
     "text": [
      "                      (F1-score: 0.0451, Precision: 0.0444, Recall: 0.0526)\n",
      "\n",
      "                      (NDCG: 0.0427)\n",
      "\n",
      "                      (MAE: 3.9408)\n",
      "\n",
      "train_loss= tensor(27.1911)\n",
      "--------------------\n"
     ]
    },
    {
     "name": "stderr",
     "output_type": "stream",
     "text": [
      "100%|██████████| 133/133 [01:13<00:00,  1.80it/s]\n"
     ]
    },
    {
     "name": "stdout",
     "output_type": "stream",
     "text": [
      "                      (F1-score: 0.0403, Precision: 0.0409, Recall: 0.0459)\n",
      "\n",
      "                      (NDCG: 0.0388)\n",
      "\n",
      "                      (MAE: 3.9370)\n",
      "\n",
      "val_loss= tensor(27.6562)\n",
      "--------------------\n"
     ]
    },
    {
     "name": "stderr",
     "output_type": "stream",
     "text": [
      "100%|██████████| 133/133 [01:13<00:00,  1.81it/s]\n"
     ]
    },
    {
     "name": "stdout",
     "output_type": "stream",
     "text": [
      "                      (F1-score: 0.0493, Precision: 0.0481, Recall: 0.0579)\n",
      "\n",
      "                      (NDCG: 0.0458)\n",
      "\n",
      "                      (MAE: 3.9135)\n",
      "\n",
      "--------------------\n",
      "[[1, 0.027684618760699196, 0.02308825022157065, 0.023407203724390736, 0.02425057101203479, 4.003759398496241, 29.16179084777832], [2, 0.029753407291689394, 0.021515822479415667, 0.0232305488528067, 0.023993875229157004, 4.421052631578948, 30.407958984375], [3, 0.026521754517610723, 0.01944572645160705, 0.02094783241188929, 0.024746779620269298, 4.137218045112782, 28.88351058959961], [4, 0.03624619405222976, 0.029654036711056195, 0.030453093470484346, 0.033177578982834084, 3.9586466165413534, 28.095319747924805], [5, 0.04717163886405594, 0.03934299183736815, 0.04008028821891348, 0.04018991429855893, 3.9859022556390977, 27.89865493774414], [6, 0.05929630975854816, 0.04367347102124021, 0.04727637263056405, 0.04411227062530115, 4.291353383458647, 28.584774017333984], [7, 0.05896189022993655, 0.04731208483125295, 0.04924575375086795, 0.04581683718413815, 4.035714285714286, 27.885095596313477], [8, 0.05457957360726349, 0.04990089333132995, 0.04881475696398401, 0.046261296887650974, 3.7988721804511276, 28.231107711791992], [9, 0.06148796133980395, 0.046514208618438406, 0.04969687563141103, 0.04567730578828491, 4.2556390977443606, 29.051654815673828], [10, 0.053261378200554266, 0.05082864670941331, 0.04876580217154104, 0.046333942207843905, 3.773496240601504, 28.400859832763672], [11, 0.05928358435797242, 0.04986174301965176, 0.050676462922228806, 0.04667627569585618, 3.9323308270676693, 27.414735794067383], [12, 0.06169737766185816, 0.049383092654007914, 0.05129558626098652, 0.046674406773032605, 4.06203007518797, 27.78209114074707], [13, 0.05497976139174377, 0.04972947794140686, 0.04900616811986766, 0.046241711620311425, 3.861842105263158, 29.15024757385254], [14, 0.061060844880469436, 0.04720448064498411, 0.050102109819482814, 0.046051683674629466, 4.079887218045113, 27.76575469970703], [15, 0.05559643567749788, 0.05057150505179447, 0.049620776433096564, 0.04654423603998091, 3.8345864661654137, 28.222253799438477], [16, 0.0599578422578772, 0.049378819864078556, 0.0506630026786888, 0.04653385648314834, 3.9746240601503757, 27.355199813842773], [17, 0.060267889147980376, 0.04879339803599689, 0.05058178900072928, 0.04636944224882899, 3.9727443609022557, 27.4354248046875], [18, 0.059799951051724115, 0.046385060966544295, 0.04907527383680481, 0.045650294689545616, 4.070488721804511, 27.634449005126953], [19, 0.057780869110959976, 0.04955556445248626, 0.050033155088116524, 0.046485698506187056, 3.8496240601503757, 27.225648880004883], [20, 0.061875421720027905, 0.045187689962809634, 0.04904443094953245, 0.0448606967194272, 4.286654135338346, 28.371280670166016], [21, 0.06008065635043886, 0.049571388253243746, 0.050830905090994985, 0.04675865290017756, 3.973684210526316, 27.323259353637695], [22, 0.0591532955670303, 0.05009308241147037, 0.0509252768159624, 0.04709810293734746, 3.9088345864661656, 28.736085891723633], [23, 0.057947423720984916, 0.04808945364563781, 0.04926630612793559, 0.045755308949479594, 3.9135338345864663, 27.66485595703125]]\n",
      "-----------------------------------------------------------------------------------------\n"
     ]
    },
    {
     "name": "stderr",
     "output_type": "stream",
     "text": [
      "  0%|          | 1/1065 [00:00<08:37,  2.06it/s]"
     ]
    },
    {
     "name": "stdout",
     "output_type": "stream",
     "text": [
      "Epoch 24: 0%, loss: 7.553067\n"
     ]
    },
    {
     "name": "stderr",
     "output_type": "stream",
     "text": [
      "  9%|▉         | 101/1065 [01:06<11:24,  1.41it/s]"
     ]
    },
    {
     "name": "stdout",
     "output_type": "stream",
     "text": [
      "Epoch 24: 9%, loss: 53.107849\n"
     ]
    },
    {
     "name": "stderr",
     "output_type": "stream",
     "text": [
      " 19%|█▉        | 201/1065 [02:14<09:47,  1.47it/s]"
     ]
    },
    {
     "name": "stdout",
     "output_type": "stream",
     "text": [
      "Epoch 24: 19%, loss: 11.007411\n"
     ]
    },
    {
     "name": "stderr",
     "output_type": "stream",
     "text": [
      " 28%|██▊       | 301/1065 [03:22<08:03,  1.58it/s]"
     ]
    },
    {
     "name": "stdout",
     "output_type": "stream",
     "text": [
      "Epoch 24: 28%, loss: 27.371895\n"
     ]
    },
    {
     "name": "stderr",
     "output_type": "stream",
     "text": [
      " 38%|███▊      | 401/1065 [04:33<07:48,  1.42it/s]"
     ]
    },
    {
     "name": "stdout",
     "output_type": "stream",
     "text": [
      "Epoch 24: 38%, loss: 21.501099\n"
     ]
    },
    {
     "name": "stderr",
     "output_type": "stream",
     "text": [
      " 47%|████▋     | 501/1065 [05:44<06:47,  1.38it/s]"
     ]
    },
    {
     "name": "stdout",
     "output_type": "stream",
     "text": [
      "Epoch 24: 47%, loss: 12.574355\n"
     ]
    },
    {
     "name": "stderr",
     "output_type": "stream",
     "text": [
      " 56%|█████▋    | 601/1065 [06:53<05:33,  1.39it/s]"
     ]
    },
    {
     "name": "stdout",
     "output_type": "stream",
     "text": [
      "Epoch 24: 56%, loss: 21.346651\n"
     ]
    },
    {
     "name": "stderr",
     "output_type": "stream",
     "text": [
      " 66%|██████▌   | 701/1065 [08:00<04:02,  1.50it/s]"
     ]
    },
    {
     "name": "stdout",
     "output_type": "stream",
     "text": [
      "Epoch 24: 66%, loss: 9.559916\n"
     ]
    },
    {
     "name": "stderr",
     "output_type": "stream",
     "text": [
      " 75%|███████▌  | 801/1065 [09:05<02:53,  1.52it/s]"
     ]
    },
    {
     "name": "stdout",
     "output_type": "stream",
     "text": [
      "Epoch 24: 75%, loss: 5.258944\n"
     ]
    },
    {
     "name": "stderr",
     "output_type": "stream",
     "text": [
      " 85%|████████▍ | 901/1065 [10:13<02:03,  1.32it/s]"
     ]
    },
    {
     "name": "stdout",
     "output_type": "stream",
     "text": [
      "Epoch 24: 85%, loss: 37.830971\n"
     ]
    },
    {
     "name": "stderr",
     "output_type": "stream",
     "text": [
      " 94%|█████████▍| 1001/1065 [11:23<00:46,  1.39it/s]"
     ]
    },
    {
     "name": "stdout",
     "output_type": "stream",
     "text": [
      "Epoch 24: 94%, loss: 27.029253\n"
     ]
    },
    {
     "name": "stderr",
     "output_type": "stream",
     "text": [
      "100%|██████████| 1065/1065 [12:04<00:00,  1.47it/s]"
     ]
    },
    {
     "name": "stdout",
     "output_type": "stream",
     "text": [
      "Epoch 24: 100%, loss: 74.667656\n"
     ]
    },
    {
     "name": "stderr",
     "output_type": "stream",
     "text": [
      "\n"
     ]
    },
    {
     "name": "stdout",
     "output_type": "stream",
     "text": [
      "                      (F1-score: 0.0460, Precision: 0.0454, Recall: 0.0535)\n",
      "\n",
      "                      (NDCG: 0.0433)\n",
      "\n",
      "                      (MAE: 3.9394)\n",
      "\n",
      "train_loss= tensor(27.1518)\n",
      "--------------------\n"
     ]
    },
    {
     "name": "stderr",
     "output_type": "stream",
     "text": [
      "100%|██████████| 133/133 [01:10<00:00,  1.88it/s]\n"
     ]
    },
    {
     "name": "stdout",
     "output_type": "stream",
     "text": [
      "                      (F1-score: 0.0399, Precision: 0.0408, Recall: 0.0451)\n",
      "\n",
      "                      (NDCG: 0.0392)\n",
      "\n",
      "                      (MAE: 3.9164)\n",
      "\n",
      "val_loss= tensor(27.2926)\n",
      "--------------------\n"
     ]
    },
    {
     "name": "stderr",
     "output_type": "stream",
     "text": [
      "100%|██████████| 133/133 [01:14<00:00,  1.79it/s]\n"
     ]
    },
    {
     "name": "stdout",
     "output_type": "stream",
     "text": [
      "                      (F1-score: 0.0506, Precision: 0.0497, Recall: 0.0588)\n",
      "\n",
      "                      (NDCG: 0.0470)\n",
      "\n",
      "                      (MAE: 3.8806)\n",
      "\n",
      "--------------------\n",
      "[[1, 0.027684618760699196, 0.02308825022157065, 0.023407203724390736, 0.02425057101203479, 4.003759398496241, 29.16179084777832], [2, 0.029753407291689394, 0.021515822479415667, 0.0232305488528067, 0.023993875229157004, 4.421052631578948, 30.407958984375], [3, 0.026521754517610723, 0.01944572645160705, 0.02094783241188929, 0.024746779620269298, 4.137218045112782, 28.88351058959961], [4, 0.03624619405222976, 0.029654036711056195, 0.030453093470484346, 0.033177578982834084, 3.9586466165413534, 28.095319747924805], [5, 0.04717163886405594, 0.03934299183736815, 0.04008028821891348, 0.04018991429855893, 3.9859022556390977, 27.89865493774414], [6, 0.05929630975854816, 0.04367347102124021, 0.04727637263056405, 0.04411227062530115, 4.291353383458647, 28.584774017333984], [7, 0.05896189022993655, 0.04731208483125295, 0.04924575375086795, 0.04581683718413815, 4.035714285714286, 27.885095596313477], [8, 0.05457957360726349, 0.04990089333132995, 0.04881475696398401, 0.046261296887650974, 3.7988721804511276, 28.231107711791992], [9, 0.06148796133980395, 0.046514208618438406, 0.04969687563141103, 0.04567730578828491, 4.2556390977443606, 29.051654815673828], [10, 0.053261378200554266, 0.05082864670941331, 0.04876580217154104, 0.046333942207843905, 3.773496240601504, 28.400859832763672], [11, 0.05928358435797242, 0.04986174301965176, 0.050676462922228806, 0.04667627569585618, 3.9323308270676693, 27.414735794067383], [12, 0.06169737766185816, 0.049383092654007914, 0.05129558626098652, 0.046674406773032605, 4.06203007518797, 27.78209114074707], [13, 0.05497976139174377, 0.04972947794140686, 0.04900616811986766, 0.046241711620311425, 3.861842105263158, 29.15024757385254], [14, 0.061060844880469436, 0.04720448064498411, 0.050102109819482814, 0.046051683674629466, 4.079887218045113, 27.76575469970703], [15, 0.05559643567749788, 0.05057150505179447, 0.049620776433096564, 0.04654423603998091, 3.8345864661654137, 28.222253799438477], [16, 0.0599578422578772, 0.049378819864078556, 0.0506630026786888, 0.04653385648314834, 3.9746240601503757, 27.355199813842773], [17, 0.060267889147980376, 0.04879339803599689, 0.05058178900072928, 0.04636944224882899, 3.9727443609022557, 27.4354248046875], [18, 0.059799951051724115, 0.046385060966544295, 0.04907527383680481, 0.045650294689545616, 4.070488721804511, 27.634449005126953], [19, 0.057780869110959976, 0.04955556445248626, 0.050033155088116524, 0.046485698506187056, 3.8496240601503757, 27.225648880004883], [20, 0.061875421720027905, 0.045187689962809634, 0.04904443094953245, 0.0448606967194272, 4.286654135338346, 28.371280670166016], [21, 0.06008065635043886, 0.049571388253243746, 0.050830905090994985, 0.04675865290017756, 3.973684210526316, 27.323259353637695], [22, 0.0591532955670303, 0.05009308241147037, 0.0509252768159624, 0.04709810293734746, 3.9088345864661656, 28.736085891723633], [23, 0.057947423720984916, 0.04808945364563781, 0.04926630612793559, 0.045755308949479594, 3.9135338345864663, 27.66485595703125], [24, 0.0588308914959, 0.04971319668783394, 0.05056968899941343, 0.04696536064147949, 3.880639097744361, 27.371002197265625]]\n",
      "-----------------------------------------------------------------------------------------\n"
     ]
    },
    {
     "name": "stderr",
     "output_type": "stream",
     "text": [
      "  0%|          | 1/1065 [00:00<08:38,  2.05it/s]"
     ]
    },
    {
     "name": "stdout",
     "output_type": "stream",
     "text": [
      "Epoch 25: 0%, loss: 13.319339\n"
     ]
    },
    {
     "name": "stderr",
     "output_type": "stream",
     "text": [
      "  9%|▉         | 101/1065 [01:06<11:10,  1.44it/s]"
     ]
    },
    {
     "name": "stdout",
     "output_type": "stream",
     "text": [
      "Epoch 25: 9%, loss: 13.797317\n"
     ]
    },
    {
     "name": "stderr",
     "output_type": "stream",
     "text": [
      " 19%|█▉        | 201/1065 [02:14<08:11,  1.76it/s]"
     ]
    },
    {
     "name": "stdout",
     "output_type": "stream",
     "text": [
      "Epoch 25: 19%, loss: 32.966782\n"
     ]
    },
    {
     "name": "stderr",
     "output_type": "stream",
     "text": [
      " 28%|██▊       | 301/1065 [03:23<09:05,  1.40it/s]"
     ]
    },
    {
     "name": "stdout",
     "output_type": "stream",
     "text": [
      "Epoch 25: 28%, loss: 62.988487\n"
     ]
    },
    {
     "name": "stderr",
     "output_type": "stream",
     "text": [
      " 38%|███▊      | 401/1065 [04:31<08:05,  1.37it/s]"
     ]
    },
    {
     "name": "stdout",
     "output_type": "stream",
     "text": [
      "Epoch 25: 38%, loss: 11.979376\n"
     ]
    },
    {
     "name": "stderr",
     "output_type": "stream",
     "text": [
      " 47%|████▋     | 501/1065 [05:41<05:42,  1.65it/s]"
     ]
    },
    {
     "name": "stdout",
     "output_type": "stream",
     "text": [
      "Epoch 25: 47%, loss: 28.794933\n"
     ]
    },
    {
     "name": "stderr",
     "output_type": "stream",
     "text": [
      " 56%|█████▋    | 601/1065 [06:52<04:59,  1.55it/s]"
     ]
    },
    {
     "name": "stdout",
     "output_type": "stream",
     "text": [
      "Epoch 25: 56%, loss: 24.049082\n"
     ]
    },
    {
     "name": "stderr",
     "output_type": "stream",
     "text": [
      " 66%|██████▌   | 701/1065 [07:57<03:57,  1.53it/s]"
     ]
    },
    {
     "name": "stdout",
     "output_type": "stream",
     "text": [
      "Epoch 25: 66%, loss: 7.005234\n"
     ]
    },
    {
     "name": "stderr",
     "output_type": "stream",
     "text": [
      " 75%|███████▌  | 801/1065 [09:03<03:09,  1.39it/s]"
     ]
    },
    {
     "name": "stdout",
     "output_type": "stream",
     "text": [
      "Epoch 25: 75%, loss: 32.540985\n"
     ]
    },
    {
     "name": "stderr",
     "output_type": "stream",
     "text": [
      " 85%|████████▍ | 901/1065 [10:05<01:44,  1.58it/s]"
     ]
    },
    {
     "name": "stdout",
     "output_type": "stream",
     "text": [
      "Epoch 25: 85%, loss: 69.915649\n"
     ]
    },
    {
     "name": "stderr",
     "output_type": "stream",
     "text": [
      " 94%|█████████▍| 1001/1065 [11:08<00:34,  1.86it/s]"
     ]
    },
    {
     "name": "stdout",
     "output_type": "stream",
     "text": [
      "Epoch 25: 94%, loss: 5.964073\n"
     ]
    },
    {
     "name": "stderr",
     "output_type": "stream",
     "text": [
      "100%|██████████| 1065/1065 [11:41<00:00,  1.52it/s]"
     ]
    },
    {
     "name": "stdout",
     "output_type": "stream",
     "text": [
      "Epoch 25: 100%, loss: 22.413301\n"
     ]
    },
    {
     "name": "stderr",
     "output_type": "stream",
     "text": [
      "\n"
     ]
    },
    {
     "name": "stdout",
     "output_type": "stream",
     "text": [
      "                      (F1-score: 0.0453, Precision: 0.0447, Recall: 0.0526)\n",
      "\n",
      "                      (NDCG: 0.0429)\n",
      "\n",
      "                      (MAE: 3.9379)\n",
      "\n",
      "train_loss= tensor(27.1045)\n",
      "--------------------\n"
     ]
    },
    {
     "name": "stderr",
     "output_type": "stream",
     "text": [
      "100%|██████████| 133/133 [01:02<00:00,  2.14it/s]\n"
     ]
    },
    {
     "name": "stdout",
     "output_type": "stream",
     "text": [
      "                      (F1-score: 0.0411, Precision: 0.0408, Recall: 0.0482)\n",
      "\n",
      "                      (NDCG: 0.0391)\n",
      "\n",
      "                      (MAE: 4.0395)\n",
      "\n",
      "val_loss= tensor(26.8427)\n",
      "--------------------\n"
     ]
    },
    {
     "name": "stderr",
     "output_type": "stream",
     "text": [
      "100%|██████████| 133/133 [00:59<00:00,  2.24it/s]\n"
     ]
    },
    {
     "name": "stdout",
     "output_type": "stream",
     "text": [
      "                      (F1-score: 0.0499, Precision: 0.0475, Recall: 0.0605)\n",
      "\n",
      "                      (NDCG: 0.0459)\n",
      "\n",
      "                      (MAE: 4.0414)\n",
      "\n",
      "--------------------\n",
      "[[1, 0.027684618760699196, 0.02308825022157065, 0.023407203724390736, 0.02425057101203479, 4.003759398496241, 29.16179084777832], [2, 0.029753407291689394, 0.021515822479415667, 0.0232305488528067, 0.023993875229157004, 4.421052631578948, 30.407958984375], [3, 0.026521754517610723, 0.01944572645160705, 0.02094783241188929, 0.024746779620269298, 4.137218045112782, 28.88351058959961], [4, 0.03624619405222976, 0.029654036711056195, 0.030453093470484346, 0.033177578982834084, 3.9586466165413534, 28.095319747924805], [5, 0.04717163886405594, 0.03934299183736815, 0.04008028821891348, 0.04018991429855893, 3.9859022556390977, 27.89865493774414], [6, 0.05929630975854816, 0.04367347102124021, 0.04727637263056405, 0.04411227062530115, 4.291353383458647, 28.584774017333984], [7, 0.05896189022993655, 0.04731208483125295, 0.04924575375086795, 0.04581683718413815, 4.035714285714286, 27.885095596313477], [8, 0.05457957360726349, 0.04990089333132995, 0.04881475696398401, 0.046261296887650974, 3.7988721804511276, 28.231107711791992], [9, 0.06148796133980395, 0.046514208618438406, 0.04969687563141103, 0.04567730578828491, 4.2556390977443606, 29.051654815673828], [10, 0.053261378200554266, 0.05082864670941331, 0.04876580217154104, 0.046333942207843905, 3.773496240601504, 28.400859832763672], [11, 0.05928358435797242, 0.04986174301965176, 0.050676462922228806, 0.04667627569585618, 3.9323308270676693, 27.414735794067383], [12, 0.06169737766185816, 0.049383092654007914, 0.05129558626098652, 0.046674406773032605, 4.06203007518797, 27.78209114074707], [13, 0.05497976139174377, 0.04972947794140686, 0.04900616811986766, 0.046241711620311425, 3.861842105263158, 29.15024757385254], [14, 0.061060844880469436, 0.04720448064498411, 0.050102109819482814, 0.046051683674629466, 4.079887218045113, 27.76575469970703], [15, 0.05559643567749788, 0.05057150505179447, 0.049620776433096564, 0.04654423603998091, 3.8345864661654137, 28.222253799438477], [16, 0.0599578422578772, 0.049378819864078556, 0.0506630026786888, 0.04653385648314834, 3.9746240601503757, 27.355199813842773], [17, 0.060267889147980376, 0.04879339803599689, 0.05058178900072928, 0.04636944224882899, 3.9727443609022557, 27.4354248046875], [18, 0.059799951051724115, 0.046385060966544295, 0.04907527383680481, 0.045650294689545616, 4.070488721804511, 27.634449005126953], [19, 0.057780869110959976, 0.04955556445248626, 0.050033155088116524, 0.046485698506187056, 3.8496240601503757, 27.225648880004883], [20, 0.061875421720027905, 0.045187689962809634, 0.04904443094953245, 0.0448606967194272, 4.286654135338346, 28.371280670166016], [21, 0.06008065635043886, 0.049571388253243746, 0.050830905090994985, 0.04675865290017756, 3.973684210526316, 27.323259353637695], [22, 0.0591532955670303, 0.05009308241147037, 0.0509252768159624, 0.04709810293734746, 3.9088345864661656, 28.736085891723633], [23, 0.057947423720984916, 0.04808945364563781, 0.04926630612793559, 0.045755308949479594, 3.9135338345864663, 27.66485595703125], [24, 0.0588308914959, 0.04971319668783394, 0.05056968899941343, 0.04696536064147949, 3.880639097744361, 27.371002197265625], [25, 0.060478028256931694, 0.04751555005151373, 0.04988070524222525, 0.04589575793002417, 4.041353383458647, 27.306625366210938]]\n",
      "-----------------------------------------------------------------------------------------\n"
     ]
    },
    {
     "data": {
      "text/html": [
       "<div>\n",
       "<style scoped>\n",
       "    .dataframe tbody tr th:only-of-type {\n",
       "        vertical-align: middle;\n",
       "    }\n",
       "\n",
       "    .dataframe tbody tr th {\n",
       "        vertical-align: top;\n",
       "    }\n",
       "\n",
       "    .dataframe thead th {\n",
       "        text-align: right;\n",
       "    }\n",
       "</style>\n",
       "<table border=\"1\" class=\"dataframe\">\n",
       "  <thead>\n",
       "    <tr style=\"text-align: right;\">\n",
       "      <th></th>\n",
       "      <th>Epoch</th>\n",
       "      <th>Recall</th>\n",
       "      <th>Precision</th>\n",
       "      <th>F1-score</th>\n",
       "      <th>NDCG</th>\n",
       "      <th>MAE</th>\n",
       "      <th>Loss</th>\n",
       "    </tr>\n",
       "  </thead>\n",
       "  <tbody>\n",
       "    <tr>\n",
       "      <th>0</th>\n",
       "      <td>1</td>\n",
       "      <td>0.027685</td>\n",
       "      <td>0.023088</td>\n",
       "      <td>0.023407</td>\n",
       "      <td>0.024251</td>\n",
       "      <td>4.003759</td>\n",
       "      <td>29.161791</td>\n",
       "    </tr>\n",
       "    <tr>\n",
       "      <th>1</th>\n",
       "      <td>2</td>\n",
       "      <td>0.029753</td>\n",
       "      <td>0.021516</td>\n",
       "      <td>0.023231</td>\n",
       "      <td>0.023994</td>\n",
       "      <td>4.421053</td>\n",
       "      <td>30.407959</td>\n",
       "    </tr>\n",
       "    <tr>\n",
       "      <th>2</th>\n",
       "      <td>3</td>\n",
       "      <td>0.026522</td>\n",
       "      <td>0.019446</td>\n",
       "      <td>0.020948</td>\n",
       "      <td>0.024747</td>\n",
       "      <td>4.137218</td>\n",
       "      <td>28.883511</td>\n",
       "    </tr>\n",
       "    <tr>\n",
       "      <th>3</th>\n",
       "      <td>4</td>\n",
       "      <td>0.036246</td>\n",
       "      <td>0.029654</td>\n",
       "      <td>0.030453</td>\n",
       "      <td>0.033178</td>\n",
       "      <td>3.958647</td>\n",
       "      <td>28.095320</td>\n",
       "    </tr>\n",
       "    <tr>\n",
       "      <th>4</th>\n",
       "      <td>5</td>\n",
       "      <td>0.047172</td>\n",
       "      <td>0.039343</td>\n",
       "      <td>0.040080</td>\n",
       "      <td>0.040190</td>\n",
       "      <td>3.985902</td>\n",
       "      <td>27.898655</td>\n",
       "    </tr>\n",
       "    <tr>\n",
       "      <th>5</th>\n",
       "      <td>6</td>\n",
       "      <td>0.059296</td>\n",
       "      <td>0.043673</td>\n",
       "      <td>0.047276</td>\n",
       "      <td>0.044112</td>\n",
       "      <td>4.291353</td>\n",
       "      <td>28.584774</td>\n",
       "    </tr>\n",
       "    <tr>\n",
       "      <th>6</th>\n",
       "      <td>7</td>\n",
       "      <td>0.058962</td>\n",
       "      <td>0.047312</td>\n",
       "      <td>0.049246</td>\n",
       "      <td>0.045817</td>\n",
       "      <td>4.035714</td>\n",
       "      <td>27.885096</td>\n",
       "    </tr>\n",
       "    <tr>\n",
       "      <th>7</th>\n",
       "      <td>8</td>\n",
       "      <td>0.054580</td>\n",
       "      <td>0.049901</td>\n",
       "      <td>0.048815</td>\n",
       "      <td>0.046261</td>\n",
       "      <td>3.798872</td>\n",
       "      <td>28.231108</td>\n",
       "    </tr>\n",
       "    <tr>\n",
       "      <th>8</th>\n",
       "      <td>9</td>\n",
       "      <td>0.061488</td>\n",
       "      <td>0.046514</td>\n",
       "      <td>0.049697</td>\n",
       "      <td>0.045677</td>\n",
       "      <td>4.255639</td>\n",
       "      <td>29.051655</td>\n",
       "    </tr>\n",
       "    <tr>\n",
       "      <th>9</th>\n",
       "      <td>10</td>\n",
       "      <td>0.053261</td>\n",
       "      <td>0.050829</td>\n",
       "      <td>0.048766</td>\n",
       "      <td>0.046334</td>\n",
       "      <td>3.773496</td>\n",
       "      <td>28.400860</td>\n",
       "    </tr>\n",
       "    <tr>\n",
       "      <th>10</th>\n",
       "      <td>11</td>\n",
       "      <td>0.059284</td>\n",
       "      <td>0.049862</td>\n",
       "      <td>0.050676</td>\n",
       "      <td>0.046676</td>\n",
       "      <td>3.932331</td>\n",
       "      <td>27.414736</td>\n",
       "    </tr>\n",
       "    <tr>\n",
       "      <th>11</th>\n",
       "      <td>12</td>\n",
       "      <td>0.061697</td>\n",
       "      <td>0.049383</td>\n",
       "      <td>0.051296</td>\n",
       "      <td>0.046674</td>\n",
       "      <td>4.062030</td>\n",
       "      <td>27.782091</td>\n",
       "    </tr>\n",
       "    <tr>\n",
       "      <th>12</th>\n",
       "      <td>13</td>\n",
       "      <td>0.054980</td>\n",
       "      <td>0.049729</td>\n",
       "      <td>0.049006</td>\n",
       "      <td>0.046242</td>\n",
       "      <td>3.861842</td>\n",
       "      <td>29.150248</td>\n",
       "    </tr>\n",
       "    <tr>\n",
       "      <th>13</th>\n",
       "      <td>14</td>\n",
       "      <td>0.061061</td>\n",
       "      <td>0.047204</td>\n",
       "      <td>0.050102</td>\n",
       "      <td>0.046052</td>\n",
       "      <td>4.079887</td>\n",
       "      <td>27.765755</td>\n",
       "    </tr>\n",
       "    <tr>\n",
       "      <th>14</th>\n",
       "      <td>15</td>\n",
       "      <td>0.055596</td>\n",
       "      <td>0.050572</td>\n",
       "      <td>0.049621</td>\n",
       "      <td>0.046544</td>\n",
       "      <td>3.834586</td>\n",
       "      <td>28.222254</td>\n",
       "    </tr>\n",
       "    <tr>\n",
       "      <th>15</th>\n",
       "      <td>16</td>\n",
       "      <td>0.059958</td>\n",
       "      <td>0.049379</td>\n",
       "      <td>0.050663</td>\n",
       "      <td>0.046534</td>\n",
       "      <td>3.974624</td>\n",
       "      <td>27.355200</td>\n",
       "    </tr>\n",
       "    <tr>\n",
       "      <th>16</th>\n",
       "      <td>17</td>\n",
       "      <td>0.060268</td>\n",
       "      <td>0.048793</td>\n",
       "      <td>0.050582</td>\n",
       "      <td>0.046369</td>\n",
       "      <td>3.972744</td>\n",
       "      <td>27.435425</td>\n",
       "    </tr>\n",
       "    <tr>\n",
       "      <th>17</th>\n",
       "      <td>18</td>\n",
       "      <td>0.059800</td>\n",
       "      <td>0.046385</td>\n",
       "      <td>0.049075</td>\n",
       "      <td>0.045650</td>\n",
       "      <td>4.070489</td>\n",
       "      <td>27.634449</td>\n",
       "    </tr>\n",
       "    <tr>\n",
       "      <th>18</th>\n",
       "      <td>19</td>\n",
       "      <td>0.057781</td>\n",
       "      <td>0.049556</td>\n",
       "      <td>0.050033</td>\n",
       "      <td>0.046486</td>\n",
       "      <td>3.849624</td>\n",
       "      <td>27.225649</td>\n",
       "    </tr>\n",
       "    <tr>\n",
       "      <th>19</th>\n",
       "      <td>20</td>\n",
       "      <td>0.061875</td>\n",
       "      <td>0.045188</td>\n",
       "      <td>0.049044</td>\n",
       "      <td>0.044861</td>\n",
       "      <td>4.286654</td>\n",
       "      <td>28.371281</td>\n",
       "    </tr>\n",
       "    <tr>\n",
       "      <th>20</th>\n",
       "      <td>21</td>\n",
       "      <td>0.060081</td>\n",
       "      <td>0.049571</td>\n",
       "      <td>0.050831</td>\n",
       "      <td>0.046759</td>\n",
       "      <td>3.973684</td>\n",
       "      <td>27.323259</td>\n",
       "    </tr>\n",
       "    <tr>\n",
       "      <th>21</th>\n",
       "      <td>22</td>\n",
       "      <td>0.059153</td>\n",
       "      <td>0.050093</td>\n",
       "      <td>0.050925</td>\n",
       "      <td>0.047098</td>\n",
       "      <td>3.908835</td>\n",
       "      <td>28.736086</td>\n",
       "    </tr>\n",
       "    <tr>\n",
       "      <th>22</th>\n",
       "      <td>23</td>\n",
       "      <td>0.057947</td>\n",
       "      <td>0.048089</td>\n",
       "      <td>0.049266</td>\n",
       "      <td>0.045755</td>\n",
       "      <td>3.913534</td>\n",
       "      <td>27.664856</td>\n",
       "    </tr>\n",
       "    <tr>\n",
       "      <th>23</th>\n",
       "      <td>24</td>\n",
       "      <td>0.058831</td>\n",
       "      <td>0.049713</td>\n",
       "      <td>0.050570</td>\n",
       "      <td>0.046965</td>\n",
       "      <td>3.880639</td>\n",
       "      <td>27.371002</td>\n",
       "    </tr>\n",
       "    <tr>\n",
       "      <th>24</th>\n",
       "      <td>25</td>\n",
       "      <td>0.060478</td>\n",
       "      <td>0.047516</td>\n",
       "      <td>0.049881</td>\n",
       "      <td>0.045896</td>\n",
       "      <td>4.041353</td>\n",
       "      <td>27.306625</td>\n",
       "    </tr>\n",
       "  </tbody>\n",
       "</table>\n",
       "</div>"
      ],
      "text/plain": [
       "    Epoch    Recall  Precision  F1-score      NDCG       MAE       Loss\n",
       "0       1  0.027685   0.023088  0.023407  0.024251  4.003759  29.161791\n",
       "1       2  0.029753   0.021516  0.023231  0.023994  4.421053  30.407959\n",
       "2       3  0.026522   0.019446  0.020948  0.024747  4.137218  28.883511\n",
       "3       4  0.036246   0.029654  0.030453  0.033178  3.958647  28.095320\n",
       "4       5  0.047172   0.039343  0.040080  0.040190  3.985902  27.898655\n",
       "5       6  0.059296   0.043673  0.047276  0.044112  4.291353  28.584774\n",
       "6       7  0.058962   0.047312  0.049246  0.045817  4.035714  27.885096\n",
       "7       8  0.054580   0.049901  0.048815  0.046261  3.798872  28.231108\n",
       "8       9  0.061488   0.046514  0.049697  0.045677  4.255639  29.051655\n",
       "9      10  0.053261   0.050829  0.048766  0.046334  3.773496  28.400860\n",
       "10     11  0.059284   0.049862  0.050676  0.046676  3.932331  27.414736\n",
       "11     12  0.061697   0.049383  0.051296  0.046674  4.062030  27.782091\n",
       "12     13  0.054980   0.049729  0.049006  0.046242  3.861842  29.150248\n",
       "13     14  0.061061   0.047204  0.050102  0.046052  4.079887  27.765755\n",
       "14     15  0.055596   0.050572  0.049621  0.046544  3.834586  28.222254\n",
       "15     16  0.059958   0.049379  0.050663  0.046534  3.974624  27.355200\n",
       "16     17  0.060268   0.048793  0.050582  0.046369  3.972744  27.435425\n",
       "17     18  0.059800   0.046385  0.049075  0.045650  4.070489  27.634449\n",
       "18     19  0.057781   0.049556  0.050033  0.046486  3.849624  27.225649\n",
       "19     20  0.061875   0.045188  0.049044  0.044861  4.286654  28.371281\n",
       "20     21  0.060081   0.049571  0.050831  0.046759  3.973684  27.323259\n",
       "21     22  0.059153   0.050093  0.050925  0.047098  3.908835  28.736086\n",
       "22     23  0.057947   0.048089  0.049266  0.045755  3.913534  27.664856\n",
       "23     24  0.058831   0.049713  0.050570  0.046965  3.880639  27.371002\n",
       "24     25  0.060478   0.047516  0.049881  0.045896  4.041353  27.306625"
      ]
     },
     "execution_count": 40,
     "metadata": {},
     "output_type": "execute_result"
    }
   ],
   "source": [
    "results = []\n",
    "\n",
    "for epoch in range(1, EPOCHS + 1):\n",
    "    train_loss = train_model()\n",
    "    print(\"train_loss=\", train_loss)\n",
    "    print(\"-\"*20)\n",
    "    val_loss = evaluate_model()\n",
    "    print(\"val_loss=\", val_loss)\n",
    "    print(\"-\"*20)\n",
    "    test_loss, recall_list, precision_list, f1_list, ndcg_list, mae_list = test_model()\n",
    "    print(\"-\"*20)\n",
    "    result = [epoch] + recall_list + precision_list + f1_list + ndcg_list + mae_list + [test_loss.item()]\n",
    "    results.append(result)\n",
    "    print(results)\n",
    "    print(\"-\"*89)\n",
    "    \n",
    "    collected = gc.collect()\n",
    "    torch.cuda.empty_cache()\n",
    "    \n",
    "record_df = pd.DataFrame(results, columns=[\"Epoch\", \"Recall\", \"Precision\", \"F1-score\", \"NDCG\", \"MAE\", \"Loss\"])\n",
    "\n",
    "result_folder = \"../result\"\n",
    "if not os.path.exists(result_folder):\n",
    "    os.mkdir(result_folder)\n",
    "record_df.to_csv(result_folder+f\"/{DATASET_NAME}_output_batchSize_{BATCH_SIZE}.csv\", index=False)\n",
    "\n",
    "record_df"
   ]
  }
 ],
 "metadata": {
  "kernelspec": {
   "display_name": "Python 3 (ipykernel)",
   "language": "python",
   "name": "python3"
  },
  "language_info": {
   "codemirror_mode": {
    "name": "ipython",
    "version": 3
   },
   "file_extension": ".py",
   "mimetype": "text/x-python",
   "name": "python",
   "nbconvert_exporter": "python",
   "pygments_lexer": "ipython3",
   "version": "3.11.5"
  }
 },
 "nbformat": 4,
 "nbformat_minor": 5
}
