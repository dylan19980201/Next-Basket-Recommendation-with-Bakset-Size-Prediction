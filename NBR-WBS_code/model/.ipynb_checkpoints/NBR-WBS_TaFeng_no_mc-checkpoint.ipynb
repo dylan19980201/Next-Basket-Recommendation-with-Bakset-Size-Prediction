{
 "cells": [
  {
   "cell_type": "markdown",
   "id": "a246ddd9",
   "metadata": {},
   "source": [
    "# 下載套件"
   ]
  },
  {
   "cell_type": "code",
   "execution_count": 1,
   "id": "72209793",
   "metadata": {},
   "outputs": [],
   "source": [
    "import torch\n",
    "import torch.nn as nn\n",
    "from torch import nn, matmul, softmax\n",
    "from torch.nn.init import xavier_uniform_\n",
    "import torch.nn.functional as F\n",
    "import torch.nn.utils.rnn as rnn_utils\n",
    "from torch.autograd import Variable\n",
    "\n",
    "import numpy as np\n",
    "import pandas as pd\n",
    "import gensim\n",
    "from gensim.models import KeyedVectors\n",
    "import pickle\n",
    "import gzip \n",
    "import gc\n",
    "import os\n",
    "import random"
   ]
  },
  {
   "cell_type": "code",
   "execution_count": 2,
   "id": "e3db86c1",
   "metadata": {},
   "outputs": [],
   "source": [
    "from torch.utils.data import DataLoader, Dataset\n",
    "from torch.utils.data.dataset import random_split\n",
    "\n",
    "from tqdm import tqdm\n",
    "from collections import Counter\n",
    "\n",
    "import math"
   ]
  },
  {
   "cell_type": "markdown",
   "id": "d32d7025",
   "metadata": {},
   "source": [
    "# 參數設置"
   ]
  },
  {
   "cell_type": "code",
   "execution_count": 3,
   "id": "6da217e0",
   "metadata": {},
   "outputs": [],
   "source": [
    "# 超參數\n",
    "EPOCHS = 25\n",
    "LEARNING_RATE = 0.0001                # Learning_rate    TaFeng = 0.01         Dunnhumby = 0.0001\n",
    "BATCH_SIZE = 8\n",
    "ALPHA = 0.1\n",
    "BETA = 0.95                         # TaFeng = 0.95, Dunnhumby = 0.001\n",
    "EMBEDDING_DIMENSION = 32               # 嵌入維度   TaFeng = 32, Dunnhumby = 32\n",
    "MODEL_DIMENSION = EMBEDDING_DIMENSION  # 模型維度\n",
    "HIDDEN_DIMENSION = 128                 # MLP 隱藏層維度\n",
    "HIDDEN_SIZE = 16                       # LSTM 隱藏層維度\n",
    "NUM_HEAD = 4\n",
    "NUM_LAYER = 4\n",
    "\n",
    "isMC = 1\n",
    "isI2V = 1"
   ]
  },
  {
   "cell_type": "markdown",
   "id": "4283cbc8",
   "metadata": {},
   "source": [
    "# 匯入檔案\n",
    "- item2Vec_TaFeng.32d.model\n",
    "- TaFeng_user_cart_itemid_list.gz\n",
    "- Ta_feng_clean.csv"
   ]
  },
  {
   "cell_type": "code",
   "execution_count": 4,
   "id": "3715f2a4",
   "metadata": {},
   "outputs": [],
   "source": [
    "# 資料集\n",
    "DATASET_NAME = \"TaFeng\"     # 讀取TaFeng資料\n",
    "# DATASET_NAME = \"Dunnhumby\"  # 讀取Dunnhumby資料\n",
    "# DATASET_NAME = \"Instacart\"  # 讀取Instacart資料"
   ]
  },
  {
   "cell_type": "code",
   "execution_count": 5,
   "id": "32520298",
   "metadata": {},
   "outputs": [
    {
     "data": {
      "text/plain": [
       "torch.Size([15764, 32])"
      ]
     },
     "execution_count": 5,
     "metadata": {},
     "output_type": "execute_result"
    }
   ],
   "source": [
    "# load word2Vec pre_train model\n",
    "model_filename = f\"../preprocessing-data/item2vec_models/item2vec_{DATASET_NAME}.{EMBEDDING_DIMENSION}d.model\"\n",
    "# {DATASET}\n",
    "with open(model_filename, \"rb\") as fp:\n",
    "    model = pickle.load(fp)\n",
    "weights = torch.FloatTensor(model.wv.vectors)\n",
    "weights.shape"
   ]
  },
  {
   "cell_type": "code",
   "execution_count": 6,
   "id": "bbe80d00",
   "metadata": {
    "scrolled": true
   },
   "outputs": [
    {
     "data": {
      "text/plain": [
       "[(1113,\n",
       "  [[0, 1, 2], [3, 4, 5, 6, 7, 8], [9, 10, 11, 12, 13, 14, 15]],\n",
       "  [3, 6, 7]),\n",
       " (5241,\n",
       "  [[16, 17, 18, 19, 20, 21],\n",
       "   [22, 23, 24, 25, 26, 27, 28, 29, 30, 31],\n",
       "   [32, 33, 34, 35, 36, 37, 38, 39, 40, 41, 42, 43, 44, 45, 46, 47],\n",
       "   [48, 49, 50, 51, 52]],\n",
       "  [6, 10, 16, 5])]"
      ]
     },
     "execution_count": 6,
     "metadata": {},
     "output_type": "execute_result"
    }
   ],
   "source": [
    "# {DATASET} user_cart_itemid_list 用戶id, 購物籃時間差(不會使用到), 此用戶的購物籃串列(每個串列包含多項目)。\n",
    "with gzip.open(f\"../preprocessing-data/{DATASET_NAME}_user_cart_itemid_list.gz\", \"rb\") as fp:\n",
    "    user_cart_itemid_list = pickle.load(fp)\n",
    "user_cart_itemid_list[:2]"
   ]
  },
  {
   "cell_type": "code",
   "execution_count": 7,
   "id": "361c43d7",
   "metadata": {},
   "outputs": [],
   "source": [
    "# Load {DATASET} confidences_Matrix\n",
    "with gzip.open(f\"../preprocessing-data/confidences/{DATASET_NAME}_confidences_array.gz\", \"rb\") as fp:\n",
    "    confidences = pickle.load(fp)"
   ]
  },
  {
   "cell_type": "code",
   "execution_count": 8,
   "id": "b83d2fe8",
   "metadata": {},
   "outputs": [
    {
     "name": "stdout",
     "output_type": "stream",
     "text": [
      "72\n"
     ]
    },
    {
     "data": {
      "text/html": [
       "<div>\n",
       "<style scoped>\n",
       "    .dataframe tbody tr th:only-of-type {\n",
       "        vertical-align: middle;\n",
       "    }\n",
       "\n",
       "    .dataframe tbody tr th {\n",
       "        vertical-align: top;\n",
       "    }\n",
       "\n",
       "    .dataframe thead th {\n",
       "        text-align: right;\n",
       "    }\n",
       "</style>\n",
       "<table border=\"1\" class=\"dataframe\">\n",
       "  <thead>\n",
       "    <tr style=\"text-align: right;\">\n",
       "      <th></th>\n",
       "      <th>CUSTOMER_ID</th>\n",
       "      <th>PRODUCT_ID</th>\n",
       "      <th>TRANSACTION_DT</th>\n",
       "      <th>CART_ID</th>\n",
       "      <th>NEW_ITEM_ID</th>\n",
       "    </tr>\n",
       "  </thead>\n",
       "  <tbody>\n",
       "    <tr>\n",
       "      <th>0</th>\n",
       "      <td>1113</td>\n",
       "      <td>4902105011621</td>\n",
       "      <td>2000-11-26</td>\n",
       "      <td>0</td>\n",
       "      <td>0</td>\n",
       "    </tr>\n",
       "    <tr>\n",
       "      <th>1</th>\n",
       "      <td>1113</td>\n",
       "      <td>7616100830794</td>\n",
       "      <td>2000-11-26</td>\n",
       "      <td>0</td>\n",
       "      <td>1</td>\n",
       "    </tr>\n",
       "    <tr>\n",
       "      <th>2</th>\n",
       "      <td>1113</td>\n",
       "      <td>4710892632017</td>\n",
       "      <td>2000-11-26</td>\n",
       "      <td>0</td>\n",
       "      <td>2</td>\n",
       "    </tr>\n",
       "    <tr>\n",
       "      <th>3</th>\n",
       "      <td>1113</td>\n",
       "      <td>4710905340113</td>\n",
       "      <td>2000-11-27</td>\n",
       "      <td>1</td>\n",
       "      <td>3</td>\n",
       "    </tr>\n",
       "    <tr>\n",
       "      <th>4</th>\n",
       "      <td>1113</td>\n",
       "      <td>4717362901277</td>\n",
       "      <td>2000-11-27</td>\n",
       "      <td>1</td>\n",
       "      <td>4</td>\n",
       "    </tr>\n",
       "    <tr>\n",
       "      <th>...</th>\n",
       "      <td>...</td>\n",
       "      <td>...</td>\n",
       "      <td>...</td>\n",
       "      <td>...</td>\n",
       "      <td>...</td>\n",
       "    </tr>\n",
       "    <tr>\n",
       "      <th>533054</th>\n",
       "      <td>20002000</td>\n",
       "      <td>4710339772139</td>\n",
       "      <td>2001-01-20</td>\n",
       "      <td>62360</td>\n",
       "      <td>4546</td>\n",
       "    </tr>\n",
       "    <tr>\n",
       "      <th>533055</th>\n",
       "      <td>20002000</td>\n",
       "      <td>20513184</td>\n",
       "      <td>2001-01-20</td>\n",
       "      <td>62360</td>\n",
       "      <td>1351</td>\n",
       "    </tr>\n",
       "    <tr>\n",
       "      <th>533056</th>\n",
       "      <td>20002000</td>\n",
       "      <td>4714800731229</td>\n",
       "      <td>2001-01-20</td>\n",
       "      <td>62360</td>\n",
       "      <td>2946</td>\n",
       "    </tr>\n",
       "    <tr>\n",
       "      <th>533057</th>\n",
       "      <td>20002000</td>\n",
       "      <td>4714541091071</td>\n",
       "      <td>2001-01-20</td>\n",
       "      <td>62360</td>\n",
       "      <td>7382</td>\n",
       "    </tr>\n",
       "    <tr>\n",
       "      <th>533058</th>\n",
       "      <td>20002000</td>\n",
       "      <td>4710018008634</td>\n",
       "      <td>2001-01-20</td>\n",
       "      <td>62360</td>\n",
       "      <td>2629</td>\n",
       "    </tr>\n",
       "  </tbody>\n",
       "</table>\n",
       "<p>533059 rows × 5 columns</p>\n",
       "</div>"
      ],
      "text/plain": [
       "        CUSTOMER_ID     PRODUCT_ID TRANSACTION_DT  CART_ID  NEW_ITEM_ID\n",
       "0              1113  4902105011621     2000-11-26        0            0\n",
       "1              1113  7616100830794     2000-11-26        0            1\n",
       "2              1113  4710892632017     2000-11-26        0            2\n",
       "3              1113  4710905340113     2000-11-27        1            3\n",
       "4              1113  4717362901277     2000-11-27        1            4\n",
       "...             ...            ...            ...      ...          ...\n",
       "533054     20002000  4710339772139     2001-01-20    62360         4546\n",
       "533055     20002000       20513184     2001-01-20    62360         1351\n",
       "533056     20002000  4714800731229     2001-01-20    62360         2946\n",
       "533057     20002000  4714541091071     2001-01-20    62360         7382\n",
       "533058     20002000  4710018008634     2001-01-20    62360         2629\n",
       "\n",
       "[533059 rows x 5 columns]"
      ]
     },
     "execution_count": 8,
     "metadata": {},
     "output_type": "execute_result"
    }
   ],
   "source": [
    "dataset = pd.read_csv(f\"../cleaned_dataset/{DATASET_NAME}_clean.csv\")\n",
    "\n",
    "# 最多購物籃\n",
    "max_cart_count = dataset.groupby(\"CUSTOMER_ID\")[\"CART_ID\"].nunique().max()\n",
    "print(max_cart_count)\n",
    "\n",
    "dataset"
   ]
  },
  {
   "cell_type": "markdown",
   "id": "a0877d82",
   "metadata": {},
   "source": [
    "# 切分資料集\n",
    "- 分成輸入資料與標籤資料\n",
    "- 訓練集:驗證集:測試集 = 7:1:2"
   ]
  },
  {
   "cell_type": "code",
   "execution_count": 9,
   "id": "73e9cf41",
   "metadata": {},
   "outputs": [],
   "source": [
    "# 切分資料集\n",
    "# train_set_size = int(len(user_cart_itemid_list) * 0.8)\n",
    "# valid_set_size = int(len(user_cart_itemid_list) * 0.1)\n",
    "# test_set_size = len(user_cart_itemid_list)-train_set_size-valid_set_size\n",
    "# train_set, valid_set, test_set = random_split(user_cart_itemid_list, [train_set_size, valid_set_size, test_set_size])\n",
    "# print(len(train_set))\n",
    "# print(len(valid_set))\n",
    "# print(len(test_set))"
   ]
  },
  {
   "cell_type": "code",
   "execution_count": 10,
   "id": "5edaa93d",
   "metadata": {},
   "outputs": [],
   "source": [
    "# 將切割好的資料集暫存起來\n",
    "\n",
    "# # 訓練集\n",
    "# filepath = \"../preprocessing-data/TaFeng_dataset/train_set.pkl\"\n",
    "# with open(filepath, \"wb\") as f:\n",
    "#     pickle.dump(train_set, f)\n",
    "# # 驗證集\n",
    "# filepath = \"../preprocessing-data/TaFeng_dataset/valid_set.pkl\"\n",
    "# with open(filepath, \"wb\") as f:\n",
    "#     pickle.dump(valid_set, f)\n",
    "# # 測試集\n",
    "# filepath = \"../preprocessing-data/TaFeng_dataset/test_set.pkl\"\n",
    "# with open(filepath, \"wb\") as f:\n",
    "#     pickle.dump(test_set, f)"
   ]
  },
  {
   "cell_type": "code",
   "execution_count": 11,
   "id": "b203d0c9",
   "metadata": {},
   "outputs": [],
   "source": [
    "# 讀取之前暫存的資料集\n",
    "\n",
    "# 載入訓練、驗證、測試集\n",
    "with open(f\"../preprocessing-data/{DATASET_NAME}_dataset/train_set.pkl\", \"rb\") as fp:\n",
    "    train_set = pickle.load(fp)\n",
    "with open(f\"../preprocessing-data/{DATASET_NAME}_dataset/valid_set.pkl\", \"rb\") as fp:\n",
    "    valid_set = pickle.load(fp)\n",
    "with open(f\"../preprocessing-data/{DATASET_NAME}_dataset/test_set.pkl\", \"rb\") as fp:\n",
    "    test_set = pickle.load(fp)"
   ]
  },
  {
   "cell_type": "markdown",
   "id": "c9585447",
   "metadata": {},
   "source": [
    "# Batch"
   ]
  },
  {
   "cell_type": "code",
   "execution_count": 12,
   "id": "a209539b",
   "metadata": {
    "scrolled": true
   },
   "outputs": [
    {
     "data": {
      "text/plain": [
       "device(type='cuda')"
      ]
     },
     "execution_count": 12,
     "metadata": {},
     "output_type": "execute_result"
    }
   ],
   "source": [
    "device = torch.device(\"cuda\" if torch.cuda.is_available() else \"cpu\")\n",
    "device"
   ]
  },
  {
   "cell_type": "code",
   "execution_count": 13,
   "id": "b348e2b5",
   "metadata": {},
   "outputs": [],
   "source": [
    "# 定義資料轉換函數(於collate_batch函式中使用)\n",
    "item_index_pipeline = lambda x : [[model.wv.key_to_index[j] for j in i] for i in x] # 取得購物籃中，項目的索引值(只有使用Item2Vec時會需要)\n",
    "item_label_pipeline = lambda x : [model.wv.key_to_index[j] for j in x]"
   ]
  },
  {
   "cell_type": "code",
   "execution_count": 14,
   "id": "92fb3dee",
   "metadata": {},
   "outputs": [],
   "source": [
    "class TensorDataset(Dataset):\n",
    "    # TensorDataset繼承Dataset, 重載__init__, __getitem__, __len__\n",
    "    # 實現將一組Tensor數據封裝成Tensor數據集\n",
    "    # 能夠通過Index得到數據集的數據，能夠通過len，得到數據集大小\n",
    "    def __init__(self, data_tensor):\n",
    "        self.data_tensor = data_tensor\n",
    "    def __getitem__(self, index):\n",
    "        return self.data_tensor[index]\n",
    "    def __len__(self):\n",
    "        return len(self.data_tensor)\n",
    "\n",
    "# 輸出userID, input_list跟label(最後一個購物籃)\n",
    "def collate_batch(batch):\n",
    "    # 使用ID、時間差、訓練的購物籃項目、預測的購物籃項目\n",
    "    userID, input_item_list, label_item_list, input_size_list, label_size_list = [], [], [], [], []\n",
    "    for _user in batch:\n",
    "        #　userID\n",
    "        userID.append(_user[0])\n",
    "        # 所有購物籃的項目ID串列中的最後一個購物籃項目ID\n",
    "#         label_item_list.append(torch.tensor(_user[1][-1]))\n",
    "        label_size_list.append(torch.tensor(_user[2][-1]))\n",
    "        \n",
    "        # 不使用Item2Vec進行項目嵌入\n",
    "        if isI2V == 0:\n",
    "            train_list = _user[1][0:-1]\n",
    "            label_list = torch.tensor(_user[1][-1])\n",
    "        # 使用Item2Vec進行項目嵌入\n",
    "        else:\n",
    "            train_list = item_index_pipeline(_user[1][0:-1])\n",
    "            label_list = torch.tensor(item_label_pipeline(_user[1][-1]))\n",
    "        input_size_list.append(_user[2][0:-1])\n",
    "        \n",
    "        input_item_list.append(train_list) #　所有購物籃的項目ID串列(除了最後一個購物籃)\n",
    "        label_item_list.append(label_list)\n",
    "    \n",
    "    return userID, input_item_list, label_item_list, input_size_list, label_size_list"
   ]
  },
  {
   "cell_type": "code",
   "execution_count": 15,
   "id": "f442f66a",
   "metadata": {},
   "outputs": [],
   "source": [
    "# 轉成 Dataset\n",
    "split_train_ = TensorDataset(train_set)\n",
    "split_valid_ = TensorDataset(valid_set)\n",
    "split_test_ = TensorDataset(test_set)"
   ]
  },
  {
   "cell_type": "code",
   "execution_count": 16,
   "id": "54fe7bc6",
   "metadata": {},
   "outputs": [],
   "source": [
    "# DataLoader \n",
    "train_dataloader = DataLoader(split_train_, batch_size=BATCH_SIZE, shuffle=True, collate_fn=collate_batch, drop_last=True)\n",
    "valid_dataloader = DataLoader(split_valid_, batch_size=BATCH_SIZE, shuffle=True, collate_fn=collate_batch, drop_last=True)\n",
    "test_dataloader = DataLoader(split_test_, batch_size=BATCH_SIZE, shuffle=True, collate_fn=collate_batch, drop_last=True)"
   ]
  },
  {
   "cell_type": "markdown",
   "id": "637657be",
   "metadata": {},
   "source": [
    "# Self-Attention"
   ]
  },
  {
   "cell_type": "code",
   "execution_count": 17,
   "id": "a96171ad",
   "metadata": {},
   "outputs": [],
   "source": [
    "# 使用nn.MultiheadAttention\n",
    "# 輸入一個用戶的一個購物籃，輸出購物籃嵌入\n",
    "class SelfAttention(nn.Module):\n",
    "    def __init__(self, embed_dim, model_dim): #項目向量維度，輸出模型的維度\n",
    "        super(SelfAttention, self).__init__()\n",
    "        self.embed_dim = embed_dim\n",
    "        self.model_dim = model_dim\n",
    "        \n",
    "        # 初始化Q, K, V 矩陣\n",
    "        self.query_matrix = nn.Linear(embed_dim, model_dim)\n",
    "        xavier_uniform_(self.query_matrix.weight)\n",
    "        self.key_matrix = nn.Linear(embed_dim, model_dim)\n",
    "        xavier_uniform_(self.key_matrix.weight)\n",
    "        self.value_matrix = nn.Linear(embed_dim, model_dim)\n",
    "        xavier_uniform_(self.value_matrix.weight)\n",
    "        self.multihead_attn = nn.MultiheadAttention(embed_dim, num_heads=1)\n",
    "        \n",
    "    def forward(self, inputs, attention_mask):\n",
    "        \n",
    "        # 輸入一個項目向量，透過三個可學習的參數矩陣，得到計算所需要的 q,k,v\n",
    "        q = self.query_matrix(inputs)\n",
    "        k = self.key_matrix(inputs)\n",
    "        v = self.value_matrix(inputs)\n",
    "        \n",
    "        attn_output, attn_output_weight = self.multihead_attn(q, k, v, key_padding_mask=attention_mask.transpose(0,1))\n",
    "        \n",
    "        output_mean = torch.tensor([[0 for _ in range(MODEL_DIMENSION)] for _ in range(len(attention_mask))], dtype=torch.float).to(device)\n",
    "        for i, cart in enumerate(attention_mask):\n",
    "            for j, mask in enumerate(cart):\n",
    "                if mask == False:\n",
    "                    output_mean[i] = attn_output[i][j] # 使用最後一個項目作為輸出\n",
    "        basket_embedding = output_mean\n",
    "        \n",
    "        return basket_embedding"
   ]
  },
  {
   "cell_type": "markdown",
   "id": "a3043def",
   "metadata": {},
   "source": [
    "   # LSTM"
   ]
  },
  {
   "cell_type": "code",
   "execution_count": 18,
   "id": "3b8530b2",
   "metadata": {},
   "outputs": [],
   "source": [
    "class LSTM(nn.Module):\n",
    "    def __init__(self, input_size, output_size):\n",
    "        super(LSTM, self).__init__()\n",
    "        self.lstm = torch.nn.LSTM(input_size, HIDDEN_SIZE, 2)\n",
    "        self.hiddenlayer1 = torch.nn.Linear(max_cart_count * HIDDEN_SIZE, 512)\n",
    "        self.hiddenlayer2 = torch.nn.Linear(512, 512)\n",
    "        self.hiddenlayer3 = torch.nn.Linear(512, 256)\n",
    "        self.hiddenlayer4 = torch.nn.Linear(256, 128)\n",
    "        self.embed = torch.nn.Linear(128, EMBEDDING_DIMENSION)\n",
    "        self.leakyrelu = torch.nn.LeakyReLU()\n",
    "    \n",
    "    def forward(self, inputs):\n",
    "        output, (h,c) = self.lstm(inputs)\n",
    "        hidden1 = self.hiddenlayer1(output.view(max_cart_count * HIDDEN_SIZE))\n",
    "        hidden2 = self.hiddenlayer2(hidden1)\n",
    "        hidden3 = self.hiddenlayer3(hidden2)\n",
    "        hidden4 = self.hiddenlayer4(hidden3)\n",
    "        output = self.embed(hidden4)\n",
    "        return output"
   ]
  },
  {
   "cell_type": "markdown",
   "id": "00cd99b7",
   "metadata": {},
   "source": [
    "# Transformer"
   ]
  },
  {
   "cell_type": "code",
   "execution_count": 19,
   "id": "bc0ed90c",
   "metadata": {},
   "outputs": [],
   "source": [
    "class PositionalEncoding(nn.Module):\n",
    "    def __init__(self, d_model:int, dropout, maxlen:int=500):\n",
    "        super(PositionalEncoding, self).__init__()\n",
    "        # den 是把10000^(2i/d_model)取log_e，前面加負號是求倒數\n",
    "        den = torch.exp(-torch.arange(0, d_model, 2) * math.log(10000) / d_model)\n",
    "        pos = torch.arange(0, maxlen).reshape(maxlen, 1)\n",
    "        pos_embedding = torch.zeros(maxlen, d_model)#.to(device)\n",
    "        pos_embedding[:, 0::2] = torch.sin(pos*den)\n",
    "        pos_embedding[:, 1::2] = torch.cos(pos*den)\n",
    "        \n",
    "        pos_embedding = pos_embedding.unsqueeze(0)\n",
    "        \n",
    "        self.dropout = nn.Dropout(dropout)\n",
    "        self.register_buffer(\"pos_embedding\", pos_embedding)\n",
    "        \n",
    "    def forward(self, token_embedding):\n",
    "        return self.dropout(token_embedding+ self.pos_embedding[:, :token_embedding.size(1), :])\n",
    "    \n",
    "class TransformerEncoder(nn.Module):\n",
    "    def __init__(self, d_model, num_heads=8, num_layers=6):\n",
    "        super(TransformerEncoder, self).__init__()\n",
    "        self.pe = PositionalEncoding(d_model=d_model, dropout=0.5, maxlen=max_cart_count*2)\n",
    "        # 創建 Transformer 模型\n",
    "        self.transformer = nn.TransformerEncoder(\n",
    "            nn.TransformerEncoderLayer(d_model=d_model, nhead=num_heads),\n",
    "            num_layers=num_layers\n",
    "        )\n",
    "    \n",
    "    def forward(self, baskets_embedding):\n",
    "        baskets_embedding_pe = self.pe(baskets_embedding)\n",
    "        \n",
    "        # 購物籃padding的遮罩\n",
    "        padding_mask = ~baskets_embedding.sum(dim=-1).ne(0).transpose(0,1)\n",
    "        \n",
    "        output = self.transformer(baskets_embedding_pe.to(torch.float32), src_key_padding_mask=padding_mask.to(torch.float32))\n",
    "        return output"
   ]
  },
  {
   "cell_type": "markdown",
   "id": "9cdd237c",
   "metadata": {},
   "source": [
    "# MLP層"
   ]
  },
  {
   "cell_type": "code",
   "execution_count": 20,
   "id": "e8fb5303",
   "metadata": {},
   "outputs": [],
   "source": [
    "class MLPforItem(nn.Module):\n",
    "    def __init__(self, embed_dim, hidden_dim, items_dim):\n",
    "        super(MLPforItem, self).__init__()\n",
    "        # hidden layer\n",
    "        self.hidden = nn.Linear(embed_dim, hidden_dim)\n",
    "        xavier_uniform_(self.hidden.weight)\n",
    "        self.norm = nn.BatchNorm1d(hidden_dim, momentum=0.03)\n",
    "        self.relu = nn.ReLU()\n",
    "        # output layer\n",
    "        self.output = nn.Linear(hidden_dim, items_dim)\n",
    "        self.softmax = nn.Softmax(dim=0)\n",
    "    def forward(self, inputs):\n",
    "        y = self.relu(self.norm(self.hidden(inputs)))\n",
    "        return self.output(y)\n",
    "#         return self.softmax(self.output(y))"
   ]
  },
  {
   "cell_type": "code",
   "execution_count": 21,
   "id": "b52aa95b",
   "metadata": {},
   "outputs": [],
   "source": [
    "class MLPforSize(nn.Module):\n",
    "    def __init__(self, embed_dim):\n",
    "        super(MLPforSize, self).__init__()\n",
    "        # predict layer\n",
    "        self.predict = nn.Linear(embed_dim, 1)\n",
    "        self.relu = nn.ReLU()\n",
    "    def forward(self, inputs):\n",
    "        output = self.relu(self.predict(inputs))\n",
    "        return output"
   ]
  },
  {
   "cell_type": "markdown",
   "id": "9afdd949",
   "metadata": {},
   "source": [
    "# 損失函數"
   ]
  },
  {
   "cell_type": "code",
   "execution_count": 22,
   "id": "9b8084b8",
   "metadata": {},
   "outputs": [],
   "source": [
    "# MSE\n",
    "def mean_square_error(prediction, target):\n",
    "    predictions = prediction[0]\n",
    "    targets = torch.tensor([target[0]], dtype=torch.float).to(device)\n",
    "    loss = F.mse_loss(predictions, targets)\n",
    "    for i in range(1, len(prediction)):\n",
    "        predictions = prediction[i]\n",
    "        targets= torch.tensor([target[i]], dtype=torch.float).to(device)\n",
    "        loss += F.mse_loss(predictions, targets)\n",
    "    return loss"
   ]
  },
  {
   "cell_type": "code",
   "execution_count": 23,
   "id": "578a7e8b",
   "metadata": {},
   "outputs": [],
   "source": [
    "# cross_entropy_loss\n",
    "def cross_entropy_loss(predictions, targets):\n",
    "    # 創建稀疏張量的索引和值\n",
    "    indices = []\n",
    "    values = []\n",
    "    for i, t in enumerate(targets):\n",
    "        for v in t:\n",
    "            indices.append([i, v])\n",
    "            values.append(1)\n",
    "            \n",
    "    # 創建稀疏張量\n",
    "    sparse_targets = torch.sparse_coo_tensor(indices=torch.tensor(indices).t(),\n",
    "                                             values=torch.tensor(values, dtype=torch.float32),\n",
    "                                             size=(len(targets), items_count), device=device)\n",
    "    sparse_targets = sparse_targets.to_dense()\n",
    "    \n",
    "    loss = F.binary_cross_entropy_with_logits(predictions, sparse_targets)\n",
    "    return loss"
   ]
  },
  {
   "cell_type": "markdown",
   "id": "08aefe4a",
   "metadata": {},
   "source": [
    "# 評估指標"
   ]
  },
  {
   "cell_type": "code",
   "execution_count": 24,
   "id": "02891cdd",
   "metadata": {},
   "outputs": [],
   "source": [
    "def format_metric(result_dict):\n",
    "    assert type(result_dict) == dict\n",
    "    format_str = []\n",
    "    metrics = np.unique([k for k in result_dict.keys()])\n",
    "    for metric in metrics:\n",
    "        name = '{}'.format(metric)\n",
    "        m = result_dict[name]\n",
    "        if type(m) is float or type(m) is np.float32 or type(m) is np.float64:\n",
    "            format_str.append(\"{}: {:<.4f}\".format(name, m))\n",
    "        elif type(m) is int or type(m) is np.int32 or type(m) is np.int64:\n",
    "            format_str.append(\"{}: {}\".format(name, m))\n",
    "    return \", \".join(format_str)"
   ]
  },
  {
   "cell_type": "markdown",
   "id": "fa92db9d",
   "metadata": {},
   "source": [
    "## F1-score"
   ]
  },
  {
   "cell_type": "code",
   "execution_count": 25,
   "id": "f7cca32b",
   "metadata": {},
   "outputs": [],
   "source": [
    "def calculate_f1_score(predictions, targets, k_list):\n",
    "    \"\"\"\n",
    "    計算 F1-score@K。\n",
    "\n",
    "    Args:\n",
    "        predictions: 二維的預測機率矩陣，大小為 [num_users, num_items]。\n",
    "        targets: 一個包含每個用戶真實標籤的列表，其中每個列表的大小不同。\n",
    "        k_list: 用預測出的K值，計算F1-score@K\n",
    "\n",
    "    Returns:\n",
    "        F1-score@K 分數。\n",
    "    \"\"\"\n",
    "    # 將預測機率矩陣值轉換為 Pytorch 張量\n",
    "    predictions = torch.from_numpy(np.array(predictions, dtype=np.float32))\n",
    "    num_users = len(targets)\n",
    "    f1_score_eval = dict()\n",
    "    \n",
    "    precision_sum = 0.0\n",
    "    recall_sum = 0.0\n",
    "    f1_score_sum = 0.0\n",
    "    for i in range(num_users):\n",
    "        \n",
    "        # 將用戶 i 的真實標籤轉換為 PyTorch 張量。\n",
    "        labels = torch.from_numpy(np.array(targets[i], dtype=np.int64))\n",
    "        # 計算用戶 i 在預測機率矩陣中機率最高的 K 個項目索引\n",
    "        top_k_item_labels = torch.topk(predictions[i], k_list[i])[1]\n",
    "        # 計算用戶 i 的真實標籤和預測標籤的交集 (TP)\n",
    "        true_positives = torch.sum(torch.sum(torch.eq(top_k_item_labels, labels.unsqueeze(1)).to(torch.float32), dim=1)).item()\n",
    "        # 計算用戶 i 的真實標籤和預測標籤的聯集\n",
    "        predicted_positives = k_list[i] # TP+FP\n",
    "        actual_positives = len(labels)  # TP+FN\n",
    "        # 預防 K 預測為0導致 precision 分母為0\n",
    "        if predicted_positives == 0:\n",
    "            precision = 0.0\n",
    "        else:\n",
    "            precision = true_positives / predicted_positives\n",
    "        # 預防實際 K 為0導致 recall 分母為0\n",
    "        if actual_positives == 0:\n",
    "            recall = 0.0\n",
    "        else:\n",
    "            recall = true_positives / actual_positives\n",
    "        # 計算F1-score\n",
    "        if precision + recall == 0:\n",
    "            f1_score = 0.0\n",
    "        else:\n",
    "            f1_score = 2 * precision * recall / (precision + recall)\n",
    "        precision_sum += precision\n",
    "        recall_sum += recall\n",
    "        f1_score_sum += f1_score\n",
    "        \n",
    "    # 計算平均分數\n",
    "    precision = precision_sum / float(num_users)\n",
    "    recall = recall_sum / float(num_users)\n",
    "    f1_score = f1_score_sum / float(num_users)\n",
    "    # 儲存到dict\n",
    "    key = \"{}\".format(\"Recall\")\n",
    "    f1_score_eval[key] = recall\n",
    "    key = \"{}\".format(\"Precision\")\n",
    "    f1_score_eval[key] = precision\n",
    "    key = \"{}\".format(\"F1-score\")\n",
    "    f1_score_eval[key] = f1_score\n",
    "    \n",
    "    return f1_score_eval"
   ]
  },
  {
   "cell_type": "markdown",
   "id": "506ff404",
   "metadata": {},
   "source": [
    "## NDCG"
   ]
  },
  {
   "cell_type": "code",
   "execution_count": 26,
   "id": "4c566188",
   "metadata": {},
   "outputs": [],
   "source": [
    "def calculate_ndcg(basket_predictions, basket_targets, size_predictions, size_targets):\n",
    "    \"\"\"\n",
    "    計算 NDCG@K。\n",
    "\n",
    "    Args:\n",
    "        basket_predictions: 預測購物籃項目\n",
    "        bakset_targets: 實際購物籃項目\n",
    "        size_predictions: 預測購物籃大小\n",
    "        size_targets: 實際購物籃大小  \n",
    "\n",
    "    Returns:\n",
    "        NDCG@K 分數。\n",
    "    \"\"\"\n",
    "    # 將預測機率矩陣轉換為 PyTorch 張量\n",
    "    predictions = torch.from_numpy(np.array(basket_predictions, dtype=np.float32))\n",
    "    num_users = len(basket_targets)\n",
    "    ndcg_eval = dict()\n",
    "    \n",
    "    ndcg_sum = 0.0\n",
    "    for i in range(num_users):\n",
    "        # 將用戶 i 的真實標籤轉換為 PyTorch 張量\n",
    "        labels = torch.from_numpy(np.array(basket_targets[i], dtype=np.int64))\n",
    "        # 計算用戶 i 在預測機率矩陣中機率最高的 K 個項目的索引=標籤\n",
    "        top_k_item_labels = torch.topk(basket_predictions[i], size_predictions[i])[1]\n",
    "        # 計算 DCG@K\n",
    "        dcg_at_k = torch.sum(torch.nan_to_num(torch.div(1.0, torch.log2(torch.arange(size_predictions[i], dtype=torch.float32) +2))) * (torch.eq(top_k_item_labels, labels.unsqueeze(1)).to(torch.float32)))\n",
    "        # 計算 IDCG@K\n",
    "        idcg_at_k = torch.sum(torch.div(1.0, torch.log2(torch.arange(len(labels), dtype=torch.float32) + 2)))\n",
    "        # 計算 NDCG@K * Penalty weight\n",
    "        if torch.eq(idcg_at_k, 0):\n",
    "            ndcg_at_k = idcg_at_k\n",
    "        else:\n",
    "            ndcg_at_k = (dcg_at_k / idcg_at_k) * (size_targets[i] / (size_targets[i] + abs(size_targets[i] - size_predictions[i])))\n",
    "        ndcg_sum += ndcg_at_k.item()\n",
    "    #　計算平均　NDCG@K 分數\n",
    "    ndcg = ndcg_sum / float(num_users)\n",
    "    key = \"{}\".format(\"NDCG\")\n",
    "    ndcg_eval[key] = ndcg\n",
    "\n",
    "    return ndcg_eval"
   ]
  },
  {
   "cell_type": "code",
   "execution_count": 27,
   "id": "4b4fe7dc",
   "metadata": {},
   "outputs": [],
   "source": [
    "def calculate_mae(size_predictions, size_targets):\n",
    "    sum = 0\n",
    "    num_users = len(size_targets)\n",
    "    mae_eval = dict()\n",
    "    for i in range(num_users):\n",
    "        sum += abs(size_predictions[i] - (size_targets[i]).item())\n",
    "    key = \"{}\".format(\"MAE\")\n",
    "    mae_eval[key] = sum / num_users\n",
    "    return mae_eval"
   ]
  },
  {
   "cell_type": "markdown",
   "id": "213301db",
   "metadata": {},
   "source": [
    "# 訓練&測試"
   ]
  },
  {
   "cell_type": "code",
   "execution_count": 28,
   "id": "5d503206",
   "metadata": {},
   "outputs": [],
   "source": [
    "# 訓練模型\n",
    "def train_model():\n",
    "    my_model.train()\n",
    "    loss_list = []\n",
    "    \n",
    "    for batch_idx, (userID, basket_input, basket_label, size_input, size_label) in enumerate(tqdm(train_dataloader)):\n",
    "        optimizer.zero_grad()\n",
    "        basket_output, size_output = my_model(basket_input, size_input)\n",
    "        # 計算損失\n",
    "        loss = ALPHA * mean_square_error(size_output, size_label) + (1 - ALPHA) * cross_entropy_loss(basket_output, basket_label)\n",
    "        loss_list.append(loss.item())\n",
    "        loss.backward()\n",
    "        optimizer.step()\n",
    "        \n",
    "        if (batch_idx%100 == 0) or (batch_idx == len(train_dataloader)-1):\n",
    "            precentage = (100 * batch_idx/len(train_dataloader))\n",
    "            print(f\"Epoch {epoch}: {precentage:.0f}%, loss: {loss.item():.6f}\")\n",
    "            \n",
    "        with torch.no_grad():\n",
    "            basket_output = torch.from_numpy(np.array(basket_output.cpu(), dtype=np.float32))\n",
    "            size_output = np.round(np.squeeze(np.array([_.cpu() for _ in size_output], dtype=np.float32))).astype(int).tolist()\n",
    "            if batch_idx == 0:\n",
    "                basket_outputs = basket_output\n",
    "                basket_labels = basket_label\n",
    "                size_outputs = size_output\n",
    "                size_labels = size_label\n",
    "            else:\n",
    "                basket_outputs = torch.cat( (basket_outputs, basket_output),-2 )\n",
    "                basket_labels = basket_labels + basket_label\n",
    "                size_outputs = size_outputs + size_output\n",
    "                size_labels = size_labels + size_label\n",
    "                \n",
    "    with torch.no_grad():\n",
    "        evaluations = calculate_f1_score(basket_outputs, basket_labels, size_outputs) \n",
    "        res_str = '(' + format_metric(evaluations) + ')'\n",
    "        print(f\"                      {res_str}\\n\")\n",
    "\n",
    "        evaluations = calculate_ndcg(basket_outputs, basket_labels, size_outputs, size_labels) \n",
    "        res_str = '(' + format_metric(evaluations) + ')'\n",
    "        print(f\"                      {res_str}\\n\")\n",
    "\n",
    "        evaluations = calculate_mae(size_outputs, size_labels)\n",
    "        res_str = '(' + format_metric(evaluations) + ')'\n",
    "        print(f\"                      {res_str}\\n\")\n",
    "        \n",
    "    return torch.mean(torch.tensor(loss_list))"
   ]
  },
  {
   "cell_type": "code",
   "execution_count": 29,
   "id": "b0799869",
   "metadata": {},
   "outputs": [],
   "source": [
    "# 驗證模型\n",
    "def evaluate_model():\n",
    "    my_model.eval()\n",
    "    loss_list = []\n",
    "    for batch_idx, (userID, basket_input, basket_label, size_input, size_label) in enumerate(tqdm(valid_dataloader)):\n",
    "        basket_output, size_output= my_model(basket_input, size_input)\n",
    "        # 計算損失\n",
    "        loss = ALPHA * mean_square_error(size_output, size_label) + (1 - ALPHA) * cross_entropy_loss(basket_output, basket_label)\n",
    "        loss_list.append(loss.item())\n",
    "        \n",
    "        with torch.no_grad():\n",
    "            basket_output = torch.from_numpy(np.array(basket_output.cpu(), dtype=np.float32))\n",
    "            size_output = np.round(np.squeeze(np.array([_.cpu() for _ in size_output], dtype=np.float32))).astype(int).tolist()\n",
    "            if batch_idx == 0:\n",
    "                basket_outputs = basket_output\n",
    "                basket_labels = basket_label\n",
    "                size_outputs = size_output\n",
    "                size_labels = size_label\n",
    "            else:\n",
    "                basket_outputs = torch.cat( (basket_outputs, basket_output),-2 )\n",
    "                basket_labels = basket_labels + basket_label\n",
    "                size_outputs = size_outputs + size_output\n",
    "                size_labels = size_labels + size_label\n",
    "        \n",
    "    with torch.no_grad():\n",
    "        evaluations = calculate_f1_score(basket_outputs, basket_labels, size_outputs) \n",
    "        res_str = '(' + format_metric(evaluations) + ')'\n",
    "        print(f\"                      {res_str}\\n\")\n",
    "\n",
    "        evaluations = calculate_ndcg(basket_outputs, basket_labels, size_outputs, size_labels) \n",
    "        res_str = '(' + format_metric(evaluations) + ')'\n",
    "        print(f\"                      {res_str}\\n\")\n",
    "\n",
    "        evaluations = calculate_mae(size_outputs, size_labels)\n",
    "        res_str = '(' + format_metric(evaluations) + ')'\n",
    "        print(f\"                      {res_str}\\n\")\n",
    "        \n",
    "    return torch.mean(torch.tensor(loss_list))"
   ]
  },
  {
   "cell_type": "code",
   "execution_count": 30,
   "id": "5e8d7319",
   "metadata": {},
   "outputs": [],
   "source": [
    "# 測試模型\n",
    "def test_model():\n",
    "    my_model.eval()\n",
    "    loss_list = []\n",
    "    for batch_idx, (userID, basket_input, basket_label, size_input, size_label) in enumerate(tqdm(test_dataloader)):\n",
    "        basket_output, size_output = my_model(basket_input, size_input)\n",
    "        # 計算損失\n",
    "        loss = ALPHA * mean_square_error(size_output, size_label) + (1 - ALPHA) * cross_entropy_loss(basket_output, basket_label)\n",
    "        loss_list.append(loss.item())\n",
    "        \n",
    "        with torch.no_grad():\n",
    "            basket_output = torch.from_numpy(np.array(basket_output.cpu(), dtype=np.float32))\n",
    "            size_output = np.round(np.squeeze(np.array([_.cpu() for _ in size_output], dtype=np.float32))).astype(int).tolist()\n",
    "            if batch_idx == 0:\n",
    "                basket_outputs = basket_output\n",
    "                basket_labels = basket_label\n",
    "                size_outputs = size_output\n",
    "                size_labels = size_label\n",
    "            else:\n",
    "                basket_outputs = torch.cat( (basket_outputs, basket_output),-2 )\n",
    "                basket_labels = basket_labels + basket_label\n",
    "                size_outputs = size_outputs + size_output\n",
    "                size_labels = size_labels + size_label\n",
    "    \n",
    "    with torch.no_grad():\n",
    "        f1_evaluations = calculate_f1_score(basket_outputs, basket_labels, size_outputs)\n",
    "        precision_list = [f1_evaluations[\"Precision\"]]\n",
    "        recall_list =  [f1_evaluations[\"Recall\"]]\n",
    "        f1_list = [f1_evaluations[\"F1-score\"]]\n",
    "        res_str = '(' + format_metric(f1_evaluations) + ')'\n",
    "        print(f\"                      {res_str}\\n\")\n",
    "        \n",
    "        ndcg_evaluations = calculate_ndcg(basket_outputs, basket_labels, size_outputs, size_labels) \n",
    "        ndcg_list = [ndcg_evaluations[\"NDCG\"]]\n",
    "        res_str = '(' + format_metric(ndcg_evaluations) + ')'\n",
    "        print(f\"                      {res_str}\\n\")\n",
    "        \n",
    "        mae_evaluations = calculate_mae(size_outputs, size_labels)\n",
    "        mae_list = [mae_evaluations[\"MAE\"]]\n",
    "        res_str = '(' + format_metric(mae_evaluations) + ')'\n",
    "        print(f\"                      {res_str}\\n\")\n",
    "        \n",
    "    return torch.mean(torch.tensor(loss_list)), recall_list, precision_list, f1_list, ndcg_list, mae_list"
   ]
  },
  {
   "cell_type": "markdown",
   "id": "1abc8fbc",
   "metadata": {},
   "source": [
    "# 完整模型"
   ]
  },
  {
   "cell_type": "code",
   "execution_count": 36,
   "id": "5ad81bac",
   "metadata": {},
   "outputs": [
    {
     "name": "stdout",
     "output_type": "stream",
     "text": [
      "items_count= 15764\n",
      "tensor([1.7128e-03, 1.1418e-03, 2.4169e-02,  ..., 6.3436e-05, 6.3436e-05,\n",
      "        6.3436e-05], device='cuda:0', dtype=torch.float64)\n"
     ]
    }
   ],
   "source": [
    "# 項目總數\n",
    "items_count = confidences.shape[0]\n",
    "print(\"items_count=\", items_count)\n",
    "# 項目出現次數\n",
    "items_freq = Counter(dataset[\"NEW_ITEM_ID\"])\n",
    "# 計算每個項目出現的比例: items_frq/items_count\n",
    "item_weight = torch.tensor(np.array(list(items_freq.values()))/items_count).to(device)\n",
    "# 按照new_item_id順序排列\n",
    "print(item_weight)"
   ]
  },
  {
   "cell_type": "markdown",
   "id": "975d9e58",
   "metadata": {},
   "source": [
    "## 加上信賴度矩陣"
   ]
  },
  {
   "cell_type": "code",
   "execution_count": 37,
   "id": "5d571c57",
   "metadata": {},
   "outputs": [
    {
     "data": {
      "text/plain": [
       "tensor([[0.0000e+00, 1.0137e-01, 3.7170e-02,  ..., 0.0000e+00, 0.0000e+00,\n",
       "         0.0000e+00],\n",
       "        [1.4002e-01, 0.0000e+00, 2.9755e-02,  ..., 0.0000e+00, 0.0000e+00,\n",
       "         2.9172e-04],\n",
       "        [1.0778e-01, 6.2462e-02, 0.0000e+00,  ..., 0.0000e+00, 0.0000e+00,\n",
       "         0.0000e+00],\n",
       "        ...,\n",
       "        [0.0000e+00, 0.0000e+00, 0.0000e+00,  ..., 0.0000e+00, 0.0000e+00,\n",
       "         0.0000e+00],\n",
       "        [0.0000e+00, 0.0000e+00, 0.0000e+00,  ..., 0.0000e+00, 0.0000e+00,\n",
       "         0.0000e+00],\n",
       "        [0.0000e+00, 1.0000e+00, 0.0000e+00,  ..., 0.0000e+00, 0.0000e+00,\n",
       "         0.0000e+00]], device='cuda:0', dtype=torch.float64)"
      ]
     },
     "execution_count": 37,
     "metadata": {},
     "output_type": "execute_result"
    }
   ],
   "source": [
    "# 信賴度矩陣\n",
    "confidences_array = torch.tensor(confidences, dtype=torch.float64).to(device)\n",
    "confidences_array"
   ]
  },
  {
   "cell_type": "code",
   "execution_count": 38,
   "id": "b00066a0",
   "metadata": {},
   "outputs": [],
   "source": [
    "class MyModel01(nn.Module):\n",
    "    def __init__(self, embed_dim, model_dim, hidden_dim, items_count):\n",
    "        super(MyModel01, self).__init__()\n",
    "        self.model_dim = model_dim\n",
    "        self.embedding = nn.Embedding.from_pretrained(weights, freeze=False)\n",
    "        self.embedding.requires_grad=True\n",
    "        self.basket_embed = SelfAttention(embed_dim=embed_dim, model_dim=model_dim)\n",
    "        self.size_embed = LSTM(1,1)\n",
    "        self.model_encoder = TransformerEncoder(d_model=model_dim, num_heads=NUM_HEAD, num_layers=NUM_LAYER)\n",
    "        # 嵌入維度、隱藏層維度、總項目數量\n",
    "        self.basket_mlp = MLPforItem(model_dim, hidden_dim, items_count)\n",
    "        self.size_mlp = MLPforSize(model_dim)\n",
    "        self.relu = nn.ReLU()\n",
    "        \n",
    "    def forward(self, basket_input, size_input):\n",
    "        \n",
    "        basket_list, size_list, attention_mask, k_list = [], [], [], []\n",
    "        output_list = []\n",
    "        \n",
    "        # 為每個用戶的購物籃加上 padding跟 mask\n",
    "        for user in basket_input:\n",
    "            # 將購物籃項目 ID 轉換為嵌入向量\n",
    "            batch_features = [ self.embedding(torch.tensor(cart).to(device)) for cart in user ]\n",
    "            # 進行 padding\n",
    "            batch_features = rnn_utils.pad_sequence(batch_features, batch_first=True, padding_value=0)\n",
    "            # 購物籃中項目的遮罩\n",
    "            mask = ~batch_features.sum(dim=-1).ne(0)\n",
    "            basket_list.append(batch_features)\n",
    "            attention_mask.append(mask)\n",
    "        \n",
    "        # 預測size_tensor\n",
    "        sizes_input = [torch.tensor(size).to(device) for size in size_input]\n",
    "        tmp_tensor = torch.zeros(max_cart_count)\n",
    "        size_list.append(tmp_tensor)\n",
    "        for size in sizes_input:\n",
    "            size_list.append(size)\n",
    "        size_list = rnn_utils.pad_sequence(size_list, batch_first=True, padding_value=0)[1:]\n",
    "            \n",
    "        # 進入自注意力，輸出形狀(BATCH_SIZE, basket_size, embed_dim)\n",
    "        basket_embedding_list = []\n",
    "        for i,user_inputs in enumerate(basket_list):\n",
    "            basketEmbed = self.basket_embed(user_inputs, attention_mask[i])\n",
    "            sizeEmbed = self.size_embed(torch.tensor([[float(_)] for _ in size_list[i]]).to(device))\n",
    "            \n",
    "            basket_embedding = torch.cat((basketEmbed, sizeEmbed.reshape(1,-1)), 0)\n",
    "            \n",
    "            k_list.append(sizeEmbed)\n",
    "            basket_embedding_list.append(basket_embedding)\n",
    "            \n",
    "        \n",
    "        # 進行購物籃的 padding\n",
    "        input_seq = rnn_utils.pad_sequence(basket_embedding_list, batch_first=True, padding_value=0)\n",
    "        #print(input_seq.size())\n",
    "        \n",
    "        \n",
    "        # 進入Transformer\n",
    "        basket_embed = self.model_encoder(input_seq.to(device))\n",
    "        \n",
    "        B_s_list = []\n",
    "        K_s_list = []\n",
    "        for i, b in enumerate(basket_embed):\n",
    "            basket_size = len(attention_mask[i])\n",
    "            B_s = b[basket_size-1]  # 取得最後一個購物籃向量\n",
    "            B_s_list.append(B_s)\n",
    "            K_s_list.append(B_s+k_list[i])\n",
    "            \n",
    "        # 進入basket MLP層\n",
    "        p = self.basket_mlp(torch.stack(B_s_list, dim=0))\n",
    "        pc = (self.relu(p.to(torch.float64))+1e-8) @ confidences_array\n",
    "        pw = torch.mul( p, item_weight )\n",
    "        \n",
    "        p_ = torch.add(pc, pw) + p.to(torch.float64)\n",
    "        \n",
    "        # 進入size MLP層\n",
    "        k = self.size_mlp(torch.stack(K_s_list, dim=0))\n",
    "        \n",
    "        return p_, k"
   ]
  },
  {
   "cell_type": "code",
   "execution_count": 39,
   "id": "88bf8d6f",
   "metadata": {},
   "outputs": [
    {
     "data": {
      "text/plain": [
       "MyModel01(\n",
       "  (embedding): Embedding(15764, 32)\n",
       "  (basket_embed): SelfAttention(\n",
       "    (query_matrix): Linear(in_features=32, out_features=32, bias=True)\n",
       "    (key_matrix): Linear(in_features=32, out_features=32, bias=True)\n",
       "    (value_matrix): Linear(in_features=32, out_features=32, bias=True)\n",
       "    (multihead_attn): MultiheadAttention(\n",
       "      (out_proj): NonDynamicallyQuantizableLinear(in_features=32, out_features=32, bias=True)\n",
       "    )\n",
       "  )\n",
       "  (size_embed): LSTM(\n",
       "    (lstm): LSTM(1, 16, num_layers=2)\n",
       "    (hiddenlayer1): Linear(in_features=1152, out_features=512, bias=True)\n",
       "    (hiddenlayer2): Linear(in_features=512, out_features=512, bias=True)\n",
       "    (hiddenlayer3): Linear(in_features=512, out_features=256, bias=True)\n",
       "    (hiddenlayer4): Linear(in_features=256, out_features=128, bias=True)\n",
       "    (embed): Linear(in_features=128, out_features=32, bias=True)\n",
       "    (leakyrelu): LeakyReLU(negative_slope=0.01)\n",
       "  )\n",
       "  (model_encoder): TransformerEncoder(\n",
       "    (pe): PositionalEncoding(\n",
       "      (dropout): Dropout(p=0.5, inplace=False)\n",
       "    )\n",
       "    (transformer): TransformerEncoder(\n",
       "      (layers): ModuleList(\n",
       "        (0-3): 4 x TransformerEncoderLayer(\n",
       "          (self_attn): MultiheadAttention(\n",
       "            (out_proj): NonDynamicallyQuantizableLinear(in_features=32, out_features=32, bias=True)\n",
       "          )\n",
       "          (linear1): Linear(in_features=32, out_features=2048, bias=True)\n",
       "          (dropout): Dropout(p=0.1, inplace=False)\n",
       "          (linear2): Linear(in_features=2048, out_features=32, bias=True)\n",
       "          (norm1): LayerNorm((32,), eps=1e-05, elementwise_affine=True)\n",
       "          (norm2): LayerNorm((32,), eps=1e-05, elementwise_affine=True)\n",
       "          (dropout1): Dropout(p=0.1, inplace=False)\n",
       "          (dropout2): Dropout(p=0.1, inplace=False)\n",
       "        )\n",
       "      )\n",
       "    )\n",
       "  )\n",
       "  (basket_mlp): MLPforItem(\n",
       "    (hidden): Linear(in_features=32, out_features=128, bias=True)\n",
       "    (norm): BatchNorm1d(128, eps=1e-05, momentum=0.03, affine=True, track_running_stats=True)\n",
       "    (relu): ReLU()\n",
       "    (output): Linear(in_features=128, out_features=15764, bias=True)\n",
       "    (softmax): Softmax(dim=0)\n",
       "  )\n",
       "  (size_mlp): MLPforSize(\n",
       "    (predict): Linear(in_features=32, out_features=1, bias=True)\n",
       "    (relu): ReLU()\n",
       "  )\n",
       "  (relu): ReLU()\n",
       ")"
      ]
     },
     "execution_count": 39,
     "metadata": {},
     "output_type": "execute_result"
    }
   ],
   "source": [
    "my_model = MyModel01(embed_dim=EMBEDDING_DIMENSION, model_dim=MODEL_DIMENSION, hidden_dim=HIDDEN_DIMENSION, items_count=items_count).to(device)\n",
    "optimizer = torch.optim.Adam(my_model.parameters(), lr=LEARNING_RATE)\n",
    "my_model.train()"
   ]
  },
  {
   "cell_type": "code",
   "execution_count": 40,
   "id": "dc547691",
   "metadata": {
    "scrolled": true
   },
   "outputs": [
    {
     "name": "stderr",
     "output_type": "stream",
     "text": [
      "  0%|          | 1/1065 [00:01<18:14,  1.03s/it]"
     ]
    },
    {
     "name": "stdout",
     "output_type": "stream",
     "text": [
      "Epoch 1: 0%, loss: 16.675583\n"
     ]
    },
    {
     "name": "stderr",
     "output_type": "stream",
     "text": [
      "  9%|▉         | 101/1065 [00:46<07:18,  2.20it/s]"
     ]
    },
    {
     "name": "stdout",
     "output_type": "stream",
     "text": [
      "Epoch 1: 9%, loss: 1.447344\n"
     ]
    },
    {
     "name": "stderr",
     "output_type": "stream",
     "text": [
      " 19%|█▉        | 201/1065 [01:31<06:26,  2.24it/s]"
     ]
    },
    {
     "name": "stdout",
     "output_type": "stream",
     "text": [
      "Epoch 1: 19%, loss: 2.180988\n"
     ]
    },
    {
     "name": "stderr",
     "output_type": "stream",
     "text": [
      " 28%|██▊       | 301/1065 [02:18<06:04,  2.10it/s]"
     ]
    },
    {
     "name": "stdout",
     "output_type": "stream",
     "text": [
      "Epoch 1: 28%, loss: 4.574713\n"
     ]
    },
    {
     "name": "stderr",
     "output_type": "stream",
     "text": [
      " 38%|███▊      | 401/1065 [03:05<05:22,  2.06it/s]"
     ]
    },
    {
     "name": "stdout",
     "output_type": "stream",
     "text": [
      "Epoch 1: 38%, loss: 20.439631\n"
     ]
    },
    {
     "name": "stderr",
     "output_type": "stream",
     "text": [
      " 47%|████▋     | 501/1065 [03:52<04:34,  2.06it/s]"
     ]
    },
    {
     "name": "stdout",
     "output_type": "stream",
     "text": [
      "Epoch 1: 47%, loss: 3.949424\n"
     ]
    },
    {
     "name": "stderr",
     "output_type": "stream",
     "text": [
      " 56%|█████▋    | 601/1065 [04:41<03:53,  1.98it/s]"
     ]
    },
    {
     "name": "stdout",
     "output_type": "stream",
     "text": [
      "Epoch 1: 56%, loss: 2.952570\n"
     ]
    },
    {
     "name": "stderr",
     "output_type": "stream",
     "text": [
      " 66%|██████▌   | 701/1065 [05:30<02:57,  2.05it/s]"
     ]
    },
    {
     "name": "stdout",
     "output_type": "stream",
     "text": [
      "Epoch 1: 66%, loss: 1.120083\n"
     ]
    },
    {
     "name": "stderr",
     "output_type": "stream",
     "text": [
      " 75%|███████▌  | 801/1065 [06:19<02:11,  2.00it/s]"
     ]
    },
    {
     "name": "stdout",
     "output_type": "stream",
     "text": [
      "Epoch 1: 75%, loss: 2.361641\n"
     ]
    },
    {
     "name": "stderr",
     "output_type": "stream",
     "text": [
      " 85%|████████▍ | 901/1065 [07:09<01:24,  1.95it/s]"
     ]
    },
    {
     "name": "stdout",
     "output_type": "stream",
     "text": [
      "Epoch 1: 85%, loss: 1.002898\n"
     ]
    },
    {
     "name": "stderr",
     "output_type": "stream",
     "text": [
      " 94%|█████████▍| 1001/1065 [08:00<00:31,  2.00it/s]"
     ]
    },
    {
     "name": "stdout",
     "output_type": "stream",
     "text": [
      "Epoch 1: 94%, loss: 6.187153\n"
     ]
    },
    {
     "name": "stderr",
     "output_type": "stream",
     "text": [
      "100%|██████████| 1065/1065 [08:33<00:00,  2.07it/s]"
     ]
    },
    {
     "name": "stdout",
     "output_type": "stream",
     "text": [
      "Epoch 1: 100%, loss: 1.227247\n"
     ]
    },
    {
     "name": "stderr",
     "output_type": "stream",
     "text": [
      "\n"
     ]
    },
    {
     "name": "stdout",
     "output_type": "stream",
     "text": [
      "                      (F1-score: 0.0212, Precision: 0.0220, Recall: 0.0255)\n",
      "\n",
      "                      (NDCG: 0.0212)\n",
      "\n",
      "                      (MAE: 4.4933)\n",
      "\n",
      "train_loss= tensor(3.9473)\n",
      "--------------------\n"
     ]
    },
    {
     "name": "stderr",
     "output_type": "stream",
     "text": [
      "100%|██████████| 133/133 [00:59<00:00,  2.22it/s]\n"
     ]
    },
    {
     "name": "stdout",
     "output_type": "stream",
     "text": [
      "                      (F1-score: 0.0069, Precision: 0.0069, Recall: 0.0080)\n",
      "\n",
      "                      (NDCG: 0.0075)\n",
      "\n",
      "                      (MAE: 4.1776)\n",
      "\n",
      "val_loss= tensor(3.2801)\n",
      "--------------------\n"
     ]
    },
    {
     "name": "stderr",
     "output_type": "stream",
     "text": [
      "100%|██████████| 133/133 [00:59<00:00,  2.24it/s]\n"
     ]
    },
    {
     "name": "stdout",
     "output_type": "stream",
     "text": [
      "                      (F1-score: 0.0118, Precision: 0.0119, Recall: 0.0141)\n",
      "\n",
      "                      (NDCG: 0.0118)\n",
      "\n",
      "                      (MAE: 4.0789)\n",
      "\n",
      "--------------------\n",
      "[[1, 0.014057011557940318, 0.01188785706283494, 0.011823946496057954, 0.01179059028373401, 4.078947368421052, 3.127652406692505]]\n",
      "-----------------------------------------------------------------------------------------\n"
     ]
    },
    {
     "name": "stderr",
     "output_type": "stream",
     "text": [
      "  0%|          | 1/1065 [00:00<14:41,  1.21it/s]"
     ]
    },
    {
     "name": "stdout",
     "output_type": "stream",
     "text": [
      "Epoch 2: 0%, loss: 1.999846\n"
     ]
    },
    {
     "name": "stderr",
     "output_type": "stream",
     "text": [
      "  9%|▉         | 101/1065 [00:45<07:17,  2.20it/s]"
     ]
    },
    {
     "name": "stdout",
     "output_type": "stream",
     "text": [
      "Epoch 2: 9%, loss: 1.579539\n"
     ]
    },
    {
     "name": "stderr",
     "output_type": "stream",
     "text": [
      " 19%|█▉        | 201/1065 [01:31<06:40,  2.16it/s]"
     ]
    },
    {
     "name": "stdout",
     "output_type": "stream",
     "text": [
      "Epoch 2: 19%, loss: 4.478610\n"
     ]
    },
    {
     "name": "stderr",
     "output_type": "stream",
     "text": [
      " 28%|██▊       | 301/1065 [02:17<06:06,  2.08it/s]"
     ]
    },
    {
     "name": "stdout",
     "output_type": "stream",
     "text": [
      "Epoch 2: 28%, loss: 3.421029\n"
     ]
    },
    {
     "name": "stderr",
     "output_type": "stream",
     "text": [
      " 38%|███▊      | 401/1065 [03:05<05:35,  1.98it/s]"
     ]
    },
    {
     "name": "stdout",
     "output_type": "stream",
     "text": [
      "Epoch 2: 38%, loss: 3.875805\n"
     ]
    },
    {
     "name": "stderr",
     "output_type": "stream",
     "text": [
      " 47%|████▋     | 501/1065 [03:53<04:29,  2.09it/s]"
     ]
    },
    {
     "name": "stdout",
     "output_type": "stream",
     "text": [
      "Epoch 2: 47%, loss: 5.853261\n"
     ]
    },
    {
     "name": "stderr",
     "output_type": "stream",
     "text": [
      " 56%|█████▋    | 601/1065 [04:41<03:46,  2.05it/s]"
     ]
    },
    {
     "name": "stdout",
     "output_type": "stream",
     "text": [
      "Epoch 2: 56%, loss: 4.259120\n"
     ]
    },
    {
     "name": "stderr",
     "output_type": "stream",
     "text": [
      " 66%|██████▌   | 701/1065 [05:30<02:57,  2.05it/s]"
     ]
    },
    {
     "name": "stdout",
     "output_type": "stream",
     "text": [
      "Epoch 2: 66%, loss: 0.576096\n"
     ]
    },
    {
     "name": "stderr",
     "output_type": "stream",
     "text": [
      " 75%|███████▌  | 801/1065 [06:20<02:13,  1.98it/s]"
     ]
    },
    {
     "name": "stdout",
     "output_type": "stream",
     "text": [
      "Epoch 2: 75%, loss: 1.058861\n"
     ]
    },
    {
     "name": "stderr",
     "output_type": "stream",
     "text": [
      " 85%|████████▍ | 901/1065 [07:11<01:23,  1.98it/s]"
     ]
    },
    {
     "name": "stdout",
     "output_type": "stream",
     "text": [
      "Epoch 2: 85%, loss: 4.781234\n"
     ]
    },
    {
     "name": "stderr",
     "output_type": "stream",
     "text": [
      " 94%|█████████▍| 1001/1065 [08:01<00:32,  1.99it/s]"
     ]
    },
    {
     "name": "stdout",
     "output_type": "stream",
     "text": [
      "Epoch 2: 94%, loss: 1.049218\n"
     ]
    },
    {
     "name": "stderr",
     "output_type": "stream",
     "text": [
      "100%|██████████| 1065/1065 [08:34<00:00,  2.07it/s]"
     ]
    },
    {
     "name": "stdout",
     "output_type": "stream",
     "text": [
      "Epoch 2: 100%, loss: 1.079638\n"
     ]
    },
    {
     "name": "stderr",
     "output_type": "stream",
     "text": [
      "\n"
     ]
    },
    {
     "name": "stdout",
     "output_type": "stream",
     "text": [
      "                      (F1-score: 0.0052, Precision: 0.0053, Recall: 0.0060)\n",
      "\n",
      "                      (NDCG: 0.0054)\n",
      "\n",
      "                      (MAE: 4.0826)\n",
      "\n",
      "train_loss= tensor(3.0585)\n",
      "--------------------\n"
     ]
    },
    {
     "name": "stderr",
     "output_type": "stream",
     "text": [
      "100%|██████████| 133/133 [00:59<00:00,  2.23it/s]\n"
     ]
    },
    {
     "name": "stdout",
     "output_type": "stream",
     "text": [
      "                      (F1-score: 0.0071, Precision: 0.0069, Recall: 0.0088)\n",
      "\n",
      "                      (NDCG: 0.0081)\n",
      "\n",
      "                      (MAE: 4.2848)\n",
      "\n",
      "val_loss= tensor(3.0597)\n",
      "--------------------\n"
     ]
    },
    {
     "name": "stderr",
     "output_type": "stream",
     "text": [
      "100%|██████████| 133/133 [00:59<00:00,  2.23it/s]\n"
     ]
    },
    {
     "name": "stdout",
     "output_type": "stream",
     "text": [
      "                      (F1-score: 0.0098, Precision: 0.0091, Recall: 0.0124)\n",
      "\n",
      "                      (NDCG: 0.0106)\n",
      "\n",
      "                      (MAE: 4.2773)\n",
      "\n",
      "--------------------\n",
      "[[1, 0.014057011557940318, 0.01188785706283494, 0.011823946496057954, 0.01179059028373401, 4.078947368421052, 3.127652406692505], [2, 0.012395469401375309, 0.009105865923231022, 0.00977901920204689, 0.010618062558604922, 4.277255639097745, 3.012655735015869]]\n",
      "-----------------------------------------------------------------------------------------\n"
     ]
    },
    {
     "name": "stderr",
     "output_type": "stream",
     "text": [
      "  0%|          | 1/1065 [00:00<09:02,  1.96it/s]"
     ]
    },
    {
     "name": "stdout",
     "output_type": "stream",
     "text": [
      "Epoch 3: 0%, loss: 0.770108\n"
     ]
    },
    {
     "name": "stderr",
     "output_type": "stream",
     "text": [
      "  9%|▉         | 101/1065 [00:45<07:15,  2.21it/s]"
     ]
    },
    {
     "name": "stdout",
     "output_type": "stream",
     "text": [
      "Epoch 3: 9%, loss: 18.115055\n"
     ]
    },
    {
     "name": "stderr",
     "output_type": "stream",
     "text": [
      " 19%|█▉        | 201/1065 [01:31<06:33,  2.20it/s]"
     ]
    },
    {
     "name": "stdout",
     "output_type": "stream",
     "text": [
      "Epoch 3: 19%, loss: 1.758808\n"
     ]
    },
    {
     "name": "stderr",
     "output_type": "stream",
     "text": [
      " 28%|██▊       | 301/1065 [02:17<05:53,  2.16it/s]"
     ]
    },
    {
     "name": "stdout",
     "output_type": "stream",
     "text": [
      "Epoch 3: 28%, loss: 0.987604\n"
     ]
    },
    {
     "name": "stderr",
     "output_type": "stream",
     "text": [
      " 38%|███▊      | 401/1065 [03:04<05:10,  2.14it/s]"
     ]
    },
    {
     "name": "stdout",
     "output_type": "stream",
     "text": [
      "Epoch 3: 38%, loss: 12.317702\n"
     ]
    },
    {
     "name": "stderr",
     "output_type": "stream",
     "text": [
      " 47%|████▋     | 501/1065 [03:51<04:26,  2.11it/s]"
     ]
    },
    {
     "name": "stdout",
     "output_type": "stream",
     "text": [
      "Epoch 3: 47%, loss: 2.863716\n"
     ]
    },
    {
     "name": "stderr",
     "output_type": "stream",
     "text": [
      " 56%|█████▋    | 601/1065 [04:39<03:47,  2.04it/s]"
     ]
    },
    {
     "name": "stdout",
     "output_type": "stream",
     "text": [
      "Epoch 3: 56%, loss: 1.463164\n"
     ]
    },
    {
     "name": "stderr",
     "output_type": "stream",
     "text": [
      " 66%|██████▌   | 701/1065 [05:28<02:58,  2.04it/s]"
     ]
    },
    {
     "name": "stdout",
     "output_type": "stream",
     "text": [
      "Epoch 3: 66%, loss: 0.689520\n"
     ]
    },
    {
     "name": "stderr",
     "output_type": "stream",
     "text": [
      " 75%|███████▌  | 801/1065 [06:18<02:12,  1.99it/s]"
     ]
    },
    {
     "name": "stdout",
     "output_type": "stream",
     "text": [
      "Epoch 3: 75%, loss: 13.022385\n"
     ]
    },
    {
     "name": "stderr",
     "output_type": "stream",
     "text": [
      " 85%|████████▍ | 901/1065 [07:09<01:21,  2.02it/s]"
     ]
    },
    {
     "name": "stdout",
     "output_type": "stream",
     "text": [
      "Epoch 3: 85%, loss: 3.103136\n"
     ]
    },
    {
     "name": "stderr",
     "output_type": "stream",
     "text": [
      " 94%|█████████▍| 1001/1065 [07:59<00:33,  1.93it/s]"
     ]
    },
    {
     "name": "stdout",
     "output_type": "stream",
     "text": [
      "Epoch 3: 94%, loss: 2.783394\n"
     ]
    },
    {
     "name": "stderr",
     "output_type": "stream",
     "text": [
      "100%|██████████| 1065/1065 [08:32<00:00,  2.08it/s]"
     ]
    },
    {
     "name": "stdout",
     "output_type": "stream",
     "text": [
      "Epoch 3: 100%, loss: 1.700572\n"
     ]
    },
    {
     "name": "stderr",
     "output_type": "stream",
     "text": [
      "\n"
     ]
    },
    {
     "name": "stdout",
     "output_type": "stream",
     "text": [
      "                      (F1-score: 0.0068, Precision: 0.0066, Recall: 0.0079)\n",
      "\n",
      "                      (NDCG: 0.0074)\n",
      "\n",
      "                      (MAE: 4.0707)\n",
      "\n",
      "train_loss= tensor(2.9487)\n",
      "--------------------\n"
     ]
    },
    {
     "name": "stderr",
     "output_type": "stream",
     "text": [
      "100%|██████████| 133/133 [00:59<00:00,  2.23it/s]\n"
     ]
    },
    {
     "name": "stdout",
     "output_type": "stream",
     "text": [
      "                      (F1-score: 0.0130, Precision: 0.0124, Recall: 0.0158)\n",
      "\n",
      "                      (NDCG: 0.0159)\n",
      "\n",
      "                      (MAE: 4.3590)\n",
      "\n",
      "val_loss= tensor(3.0169)\n",
      "--------------------\n"
     ]
    },
    {
     "name": "stderr",
     "output_type": "stream",
     "text": [
      "100%|██████████| 133/133 [00:59<00:00,  2.25it/s]\n"
     ]
    },
    {
     "name": "stdout",
     "output_type": "stream",
     "text": [
      "                      (F1-score: 0.0174, Precision: 0.0162, Recall: 0.0222)\n",
      "\n",
      "                      (NDCG: 0.0208)\n",
      "\n",
      "                      (MAE: 4.3487)\n",
      "\n",
      "--------------------\n",
      "[[1, 0.014057011557940318, 0.01188785706283494, 0.011823946496057954, 0.01179059028373401, 4.078947368421052, 3.127652406692505], [2, 0.012395469401375309, 0.009105865923231022, 0.00977901920204689, 0.010618062558604922, 4.277255639097745, 3.012655735015869], [3, 0.022246495218667492, 0.01619511702540867, 0.017449494024516916, 0.020838153247434394, 4.348684210526316, 3.027646064758301]]\n",
      "-----------------------------------------------------------------------------------------\n"
     ]
    },
    {
     "name": "stderr",
     "output_type": "stream",
     "text": [
      "  0%|          | 1/1065 [00:00<10:11,  1.74it/s]"
     ]
    },
    {
     "name": "stdout",
     "output_type": "stream",
     "text": [
      "Epoch 4: 0%, loss: 1.990443\n"
     ]
    },
    {
     "name": "stderr",
     "output_type": "stream",
     "text": [
      "  9%|▉         | 101/1065 [00:45<07:16,  2.21it/s]"
     ]
    },
    {
     "name": "stdout",
     "output_type": "stream",
     "text": [
      "Epoch 4: 9%, loss: 1.901938\n"
     ]
    },
    {
     "name": "stderr",
     "output_type": "stream",
     "text": [
      " 19%|█▉        | 201/1065 [01:31<06:30,  2.21it/s]"
     ]
    },
    {
     "name": "stdout",
     "output_type": "stream",
     "text": [
      "Epoch 4: 19%, loss: 1.957051\n"
     ]
    },
    {
     "name": "stderr",
     "output_type": "stream",
     "text": [
      " 28%|██▊       | 301/1065 [02:16<05:46,  2.21it/s]"
     ]
    },
    {
     "name": "stdout",
     "output_type": "stream",
     "text": [
      "Epoch 4: 28%, loss: 1.692462\n"
     ]
    },
    {
     "name": "stderr",
     "output_type": "stream",
     "text": [
      " 38%|███▊      | 401/1065 [03:03<05:15,  2.11it/s]"
     ]
    },
    {
     "name": "stdout",
     "output_type": "stream",
     "text": [
      "Epoch 4: 38%, loss: 1.262320\n"
     ]
    },
    {
     "name": "stderr",
     "output_type": "stream",
     "text": [
      " 47%|████▋     | 501/1065 [03:51<04:25,  2.12it/s]"
     ]
    },
    {
     "name": "stdout",
     "output_type": "stream",
     "text": [
      "Epoch 4: 47%, loss: 2.526837\n"
     ]
    },
    {
     "name": "stderr",
     "output_type": "stream",
     "text": [
      " 56%|█████▋    | 601/1065 [04:39<03:42,  2.08it/s]"
     ]
    },
    {
     "name": "stdout",
     "output_type": "stream",
     "text": [
      "Epoch 4: 56%, loss: 0.768555\n"
     ]
    },
    {
     "name": "stderr",
     "output_type": "stream",
     "text": [
      " 66%|██████▌   | 701/1065 [05:27<02:59,  2.03it/s]"
     ]
    },
    {
     "name": "stdout",
     "output_type": "stream",
     "text": [
      "Epoch 4: 66%, loss: 1.307719\n"
     ]
    },
    {
     "name": "stderr",
     "output_type": "stream",
     "text": [
      " 75%|███████▌  | 801/1065 [06:17<02:09,  2.04it/s]"
     ]
    },
    {
     "name": "stdout",
     "output_type": "stream",
     "text": [
      "Epoch 4: 75%, loss: 2.265627\n"
     ]
    },
    {
     "name": "stderr",
     "output_type": "stream",
     "text": [
      " 85%|████████▍ | 901/1065 [07:06<01:20,  2.04it/s]"
     ]
    },
    {
     "name": "stdout",
     "output_type": "stream",
     "text": [
      "Epoch 4: 85%, loss: 1.288998\n"
     ]
    },
    {
     "name": "stderr",
     "output_type": "stream",
     "text": [
      " 94%|█████████▍| 1001/1065 [07:57<00:32,  1.94it/s]"
     ]
    },
    {
     "name": "stdout",
     "output_type": "stream",
     "text": [
      "Epoch 4: 94%, loss: 1.815024\n"
     ]
    },
    {
     "name": "stderr",
     "output_type": "stream",
     "text": [
      "100%|██████████| 1065/1065 [08:30<00:00,  2.09it/s]"
     ]
    },
    {
     "name": "stdout",
     "output_type": "stream",
     "text": [
      "Epoch 4: 100%, loss: 1.517457\n"
     ]
    },
    {
     "name": "stderr",
     "output_type": "stream",
     "text": [
      "\n"
     ]
    },
    {
     "name": "stdout",
     "output_type": "stream",
     "text": [
      "                      (F1-score: 0.0141, Precision: 0.0136, Recall: 0.0166)\n",
      "\n",
      "                      (NDCG: 0.0159)\n",
      "\n",
      "                      (MAE: 4.0511)\n",
      "\n",
      "train_loss= tensor(2.8937)\n",
      "--------------------\n"
     ]
    },
    {
     "name": "stderr",
     "output_type": "stream",
     "text": [
      "100%|██████████| 133/133 [00:59<00:00,  2.24it/s]\n"
     ]
    },
    {
     "name": "stdout",
     "output_type": "stream",
     "text": [
      "                      (F1-score: 0.0181, Precision: 0.0183, Recall: 0.0207)\n",
      "\n",
      "                      (NDCG: 0.0227)\n",
      "\n",
      "                      (MAE: 4.0695)\n",
      "\n",
      "val_loss= tensor(3.0438)\n",
      "--------------------\n"
     ]
    },
    {
     "name": "stderr",
     "output_type": "stream",
     "text": [
      "100%|██████████| 133/133 [00:58<00:00,  2.26it/s]\n"
     ]
    },
    {
     "name": "stdout",
     "output_type": "stream",
     "text": [
      "                      (F1-score: 0.0223, Precision: 0.0216, Recall: 0.0267)\n",
      "\n",
      "                      (NDCG: 0.0272)\n",
      "\n",
      "                      (MAE: 3.9483)\n",
      "\n",
      "--------------------\n",
      "[[1, 0.014057011557940318, 0.01188785706283494, 0.011823946496057954, 0.01179059028373401, 4.078947368421052, 3.127652406692505], [2, 0.012395469401375309, 0.009105865923231022, 0.00977901920204689, 0.010618062558604922, 4.277255639097745, 3.012655735015869], [3, 0.022246495218667492, 0.01619511702540867, 0.017449494024516916, 0.020838153247434394, 4.348684210526316, 3.027646064758301], [4, 0.026692771779414103, 0.02158336819576314, 0.0223394388637506, 0.027247424719722142, 3.9483082706766917, 2.8979482650756836]]\n",
      "-----------------------------------------------------------------------------------------\n"
     ]
    },
    {
     "name": "stderr",
     "output_type": "stream",
     "text": [
      "  0%|          | 1/1065 [00:00<09:34,  1.85it/s]"
     ]
    },
    {
     "name": "stdout",
     "output_type": "stream",
     "text": [
      "Epoch 5: 0%, loss: 2.337930\n"
     ]
    },
    {
     "name": "stderr",
     "output_type": "stream",
     "text": [
      "  9%|▉         | 101/1065 [00:45<07:12,  2.23it/s]"
     ]
    },
    {
     "name": "stdout",
     "output_type": "stream",
     "text": [
      "Epoch 5: 9%, loss: 0.487227\n"
     ]
    },
    {
     "name": "stderr",
     "output_type": "stream",
     "text": [
      " 19%|█▉        | 201/1065 [01:30<06:37,  2.18it/s]"
     ]
    },
    {
     "name": "stdout",
     "output_type": "stream",
     "text": [
      "Epoch 5: 19%, loss: 1.545672\n"
     ]
    },
    {
     "name": "stderr",
     "output_type": "stream",
     "text": [
      " 28%|██▊       | 301/1065 [02:16<05:51,  2.18it/s]"
     ]
    },
    {
     "name": "stdout",
     "output_type": "stream",
     "text": [
      "Epoch 5: 28%, loss: 4.825045\n"
     ]
    },
    {
     "name": "stderr",
     "output_type": "stream",
     "text": [
      " 38%|███▊      | 401/1065 [03:02<05:17,  2.09it/s]"
     ]
    },
    {
     "name": "stdout",
     "output_type": "stream",
     "text": [
      "Epoch 5: 38%, loss: 0.914533\n"
     ]
    },
    {
     "name": "stderr",
     "output_type": "stream",
     "text": [
      " 47%|████▋     | 501/1065 [03:50<04:22,  2.15it/s]"
     ]
    },
    {
     "name": "stdout",
     "output_type": "stream",
     "text": [
      "Epoch 5: 47%, loss: 2.496771\n"
     ]
    },
    {
     "name": "stderr",
     "output_type": "stream",
     "text": [
      " 56%|█████▋    | 601/1065 [04:38<03:42,  2.08it/s]"
     ]
    },
    {
     "name": "stdout",
     "output_type": "stream",
     "text": [
      "Epoch 5: 56%, loss: 0.937667\n"
     ]
    },
    {
     "name": "stderr",
     "output_type": "stream",
     "text": [
      " 66%|██████▌   | 701/1065 [05:27<03:02,  1.99it/s]"
     ]
    },
    {
     "name": "stdout",
     "output_type": "stream",
     "text": [
      "Epoch 5: 66%, loss: 3.072670\n"
     ]
    },
    {
     "name": "stderr",
     "output_type": "stream",
     "text": [
      " 75%|███████▌  | 801/1065 [06:16<02:12,  1.99it/s]"
     ]
    },
    {
     "name": "stdout",
     "output_type": "stream",
     "text": [
      "Epoch 5: 75%, loss: 1.807594\n"
     ]
    },
    {
     "name": "stderr",
     "output_type": "stream",
     "text": [
      " 85%|████████▍ | 901/1065 [07:06<01:22,  1.99it/s]"
     ]
    },
    {
     "name": "stdout",
     "output_type": "stream",
     "text": [
      "Epoch 5: 85%, loss: 0.601705\n"
     ]
    },
    {
     "name": "stderr",
     "output_type": "stream",
     "text": [
      " 94%|█████████▍| 1001/1065 [07:56<00:31,  2.04it/s]"
     ]
    },
    {
     "name": "stdout",
     "output_type": "stream",
     "text": [
      "Epoch 5: 94%, loss: 1.694562\n"
     ]
    },
    {
     "name": "stderr",
     "output_type": "stream",
     "text": [
      "100%|██████████| 1065/1065 [08:29<00:00,  2.09it/s]"
     ]
    },
    {
     "name": "stdout",
     "output_type": "stream",
     "text": [
      "Epoch 5: 100%, loss: 1.542357\n"
     ]
    },
    {
     "name": "stderr",
     "output_type": "stream",
     "text": [
      "\n"
     ]
    },
    {
     "name": "stdout",
     "output_type": "stream",
     "text": [
      "                      (F1-score: 0.0244, Precision: 0.0241, Recall: 0.0286)\n",
      "\n",
      "                      (NDCG: 0.0272)\n",
      "\n",
      "                      (MAE: 4.0333)\n",
      "\n",
      "train_loss= tensor(2.8607)\n",
      "--------------------\n"
     ]
    },
    {
     "name": "stderr",
     "output_type": "stream",
     "text": [
      "100%|██████████| 133/133 [00:59<00:00,  2.24it/s]\n"
     ]
    },
    {
     "name": "stdout",
     "output_type": "stream",
     "text": [
      "                      (F1-score: 0.0295, Precision: 0.0281, Recall: 0.0363)\n",
      "\n",
      "                      (NDCG: 0.0314)\n",
      "\n",
      "                      (MAE: 4.2791)\n",
      "\n",
      "val_loss= tensor(2.9295)\n",
      "--------------------\n"
     ]
    },
    {
     "name": "stderr",
     "output_type": "stream",
     "text": [
      "100%|██████████| 133/133 [00:58<00:00,  2.26it/s]\n"
     ]
    },
    {
     "name": "stdout",
     "output_type": "stream",
     "text": [
      "                      (F1-score: 0.0357, Precision: 0.0331, Recall: 0.0451)\n",
      "\n",
      "                      (NDCG: 0.0359)\n",
      "\n",
      "                      (MAE: 4.3026)\n",
      "\n",
      "--------------------\n",
      "[[1, 0.014057011557940318, 0.01188785706283494, 0.011823946496057954, 0.01179059028373401, 4.078947368421052, 3.127652406692505], [2, 0.012395469401375309, 0.009105865923231022, 0.00977901920204689, 0.010618062558604922, 4.277255639097745, 3.012655735015869], [3, 0.022246495218667492, 0.01619511702540867, 0.017449494024516916, 0.020838153247434394, 4.348684210526316, 3.027646064758301], [4, 0.026692771779414103, 0.02158336819576314, 0.0223394388637506, 0.027247424719722142, 3.9483082706766917, 2.8979482650756836], [5, 0.04506514914615341, 0.03314819428784197, 0.03568033567884178, 0.03590964992124503, 4.302631578947368, 2.9078378677368164]]\n",
      "-----------------------------------------------------------------------------------------\n"
     ]
    },
    {
     "name": "stderr",
     "output_type": "stream",
     "text": [
      "  0%|          | 1/1065 [00:00<10:39,  1.66it/s]"
     ]
    },
    {
     "name": "stdout",
     "output_type": "stream",
     "text": [
      "Epoch 6: 0%, loss: 0.875947\n"
     ]
    },
    {
     "name": "stderr",
     "output_type": "stream",
     "text": [
      "  9%|▉         | 101/1065 [00:45<07:20,  2.19it/s]"
     ]
    },
    {
     "name": "stdout",
     "output_type": "stream",
     "text": [
      "Epoch 6: 9%, loss: 1.340183\n"
     ]
    },
    {
     "name": "stderr",
     "output_type": "stream",
     "text": [
      " 19%|█▉        | 201/1065 [01:30<06:36,  2.18it/s]"
     ]
    },
    {
     "name": "stdout",
     "output_type": "stream",
     "text": [
      "Epoch 6: 19%, loss: 0.664312\n"
     ]
    },
    {
     "name": "stderr",
     "output_type": "stream",
     "text": [
      " 28%|██▊       | 301/1065 [02:16<06:13,  2.05it/s]"
     ]
    },
    {
     "name": "stdout",
     "output_type": "stream",
     "text": [
      "Epoch 6: 28%, loss: 2.122414\n"
     ]
    },
    {
     "name": "stderr",
     "output_type": "stream",
     "text": [
      " 38%|███▊      | 401/1065 [03:02<05:10,  2.14it/s]"
     ]
    },
    {
     "name": "stdout",
     "output_type": "stream",
     "text": [
      "Epoch 6: 38%, loss: 0.698382\n"
     ]
    },
    {
     "name": "stderr",
     "output_type": "stream",
     "text": [
      " 47%|████▋     | 501/1065 [03:50<04:31,  2.08it/s]"
     ]
    },
    {
     "name": "stdout",
     "output_type": "stream",
     "text": [
      "Epoch 6: 47%, loss: 4.895580\n"
     ]
    },
    {
     "name": "stderr",
     "output_type": "stream",
     "text": [
      " 56%|█████▋    | 601/1065 [04:38<03:39,  2.12it/s]"
     ]
    },
    {
     "name": "stdout",
     "output_type": "stream",
     "text": [
      "Epoch 6: 56%, loss: 1.099626\n"
     ]
    },
    {
     "name": "stderr",
     "output_type": "stream",
     "text": [
      " 66%|██████▌   | 701/1065 [05:26<02:57,  2.05it/s]"
     ]
    },
    {
     "name": "stdout",
     "output_type": "stream",
     "text": [
      "Epoch 6: 66%, loss: 3.901867\n"
     ]
    },
    {
     "name": "stderr",
     "output_type": "stream",
     "text": [
      " 75%|███████▌  | 801/1065 [06:15<02:13,  1.98it/s]"
     ]
    },
    {
     "name": "stdout",
     "output_type": "stream",
     "text": [
      "Epoch 6: 75%, loss: 3.565671\n"
     ]
    },
    {
     "name": "stderr",
     "output_type": "stream",
     "text": [
      " 85%|████████▍ | 901/1065 [07:05<01:23,  1.97it/s]"
     ]
    },
    {
     "name": "stdout",
     "output_type": "stream",
     "text": [
      "Epoch 6: 85%, loss: 0.946985\n"
     ]
    },
    {
     "name": "stderr",
     "output_type": "stream",
     "text": [
      " 94%|█████████▍| 1001/1065 [07:55<00:32,  1.98it/s]"
     ]
    },
    {
     "name": "stdout",
     "output_type": "stream",
     "text": [
      "Epoch 6: 94%, loss: 4.406110\n"
     ]
    },
    {
     "name": "stderr",
     "output_type": "stream",
     "text": [
      "100%|██████████| 1065/1065 [08:28<00:00,  2.10it/s]"
     ]
    },
    {
     "name": "stdout",
     "output_type": "stream",
     "text": [
      "Epoch 6: 100%, loss: 2.966673\n"
     ]
    },
    {
     "name": "stderr",
     "output_type": "stream",
     "text": [
      "\n"
     ]
    },
    {
     "name": "stdout",
     "output_type": "stream",
     "text": [
      "                      (F1-score: 0.0364, Precision: 0.0360, Recall: 0.0426)\n",
      "\n",
      "                      (NDCG: 0.0365)\n",
      "\n",
      "                      (MAE: 4.0126)\n",
      "\n",
      "train_loss= tensor(2.8267)\n",
      "--------------------\n"
     ]
    },
    {
     "name": "stderr",
     "output_type": "stream",
     "text": [
      "100%|██████████| 133/133 [00:59<00:00,  2.25it/s]\n"
     ]
    },
    {
     "name": "stdout",
     "output_type": "stream",
     "text": [
      "                      (F1-score: 0.0370, Precision: 0.0383, Recall: 0.0412)\n",
      "\n",
      "                      (NDCG: 0.0370)\n",
      "\n",
      "                      (MAE: 3.9784)\n",
      "\n",
      "val_loss= tensor(2.9063)\n",
      "--------------------\n"
     ]
    },
    {
     "name": "stderr",
     "output_type": "stream",
     "text": [
      "100%|██████████| 133/133 [01:28<00:00,  1.50it/s]\n"
     ]
    },
    {
     "name": "stdout",
     "output_type": "stream",
     "text": [
      "                      (F1-score: 0.0469, Precision: 0.0468, Recall: 0.0539)\n",
      "\n",
      "                      (NDCG: 0.0443)\n",
      "\n",
      "                      (MAE: 3.9032)\n",
      "\n",
      "--------------------\n",
      "[[1, 0.014057011557940318, 0.01188785706283494, 0.011823946496057954, 0.01179059028373401, 4.078947368421052, 3.127652406692505], [2, 0.012395469401375309, 0.009105865923231022, 0.00977901920204689, 0.010618062558604922, 4.277255639097745, 3.012655735015869], [3, 0.022246495218667492, 0.01619511702540867, 0.017449494024516916, 0.020838153247434394, 4.348684210526316, 3.027646064758301], [4, 0.026692771779414103, 0.02158336819576314, 0.0223394388637506, 0.027247424719722142, 3.9483082706766917, 2.8979482650756836], [5, 0.04506514914615341, 0.03314819428784197, 0.03568033567884178, 0.03590964992124503, 4.302631578947368, 2.9078378677368164], [6, 0.053893801072998244, 0.0467627832103548, 0.046929541661401786, 0.04427988932439987, 3.9031954887218046, 2.815546989440918]]\n",
      "-----------------------------------------------------------------------------------------\n"
     ]
    },
    {
     "name": "stderr",
     "output_type": "stream",
     "text": [
      "  0%|          | 1/1065 [00:01<26:40,  1.50s/it]"
     ]
    },
    {
     "name": "stdout",
     "output_type": "stream",
     "text": [
      "Epoch 7: 0%, loss: 0.686644\n"
     ]
    },
    {
     "name": "stderr",
     "output_type": "stream",
     "text": [
      "  9%|▉         | 101/1065 [02:04<19:25,  1.21s/it]"
     ]
    },
    {
     "name": "stdout",
     "output_type": "stream",
     "text": [
      "Epoch 7: 9%, loss: 3.949333\n"
     ]
    },
    {
     "name": "stderr",
     "output_type": "stream",
     "text": [
      " 19%|█▉        | 201/1065 [04:08<18:13,  1.27s/it]"
     ]
    },
    {
     "name": "stdout",
     "output_type": "stream",
     "text": [
      "Epoch 7: 19%, loss: 1.825072\n"
     ]
    },
    {
     "name": "stderr",
     "output_type": "stream",
     "text": [
      " 28%|██▊       | 301/1065 [06:11<15:34,  1.22s/it]"
     ]
    },
    {
     "name": "stdout",
     "output_type": "stream",
     "text": [
      "Epoch 7: 28%, loss: 1.211113\n"
     ]
    },
    {
     "name": "stderr",
     "output_type": "stream",
     "text": [
      " 38%|███▊      | 401/1065 [08:16<13:53,  1.26s/it]"
     ]
    },
    {
     "name": "stdout",
     "output_type": "stream",
     "text": [
      "Epoch 7: 38%, loss: 0.852966\n"
     ]
    },
    {
     "name": "stderr",
     "output_type": "stream",
     "text": [
      " 47%|████▋     | 501/1065 [10:22<11:49,  1.26s/it]"
     ]
    },
    {
     "name": "stdout",
     "output_type": "stream",
     "text": [
      "Epoch 7: 47%, loss: 0.922452\n"
     ]
    },
    {
     "name": "stderr",
     "output_type": "stream",
     "text": [
      " 56%|█████▋    | 601/1065 [12:28<10:06,  1.31s/it]"
     ]
    },
    {
     "name": "stdout",
     "output_type": "stream",
     "text": [
      "Epoch 7: 56%, loss: 1.165497\n"
     ]
    },
    {
     "name": "stderr",
     "output_type": "stream",
     "text": [
      " 66%|██████▌   | 701/1065 [14:35<07:45,  1.28s/it]"
     ]
    },
    {
     "name": "stdout",
     "output_type": "stream",
     "text": [
      "Epoch 7: 66%, loss: 5.512225\n"
     ]
    },
    {
     "name": "stderr",
     "output_type": "stream",
     "text": [
      " 75%|███████▌  | 801/1065 [16:44<05:46,  1.31s/it]"
     ]
    },
    {
     "name": "stdout",
     "output_type": "stream",
     "text": [
      "Epoch 7: 75%, loss: 9.923727\n"
     ]
    },
    {
     "name": "stderr",
     "output_type": "stream",
     "text": [
      " 85%|████████▍ | 901/1065 [18:53<03:31,  1.29s/it]"
     ]
    },
    {
     "name": "stdout",
     "output_type": "stream",
     "text": [
      "Epoch 7: 85%, loss: 4.614787\n"
     ]
    },
    {
     "name": "stderr",
     "output_type": "stream",
     "text": [
      " 94%|█████████▍| 1001/1065 [21:03<01:24,  1.32s/it]"
     ]
    },
    {
     "name": "stdout",
     "output_type": "stream",
     "text": [
      "Epoch 7: 94%, loss: 5.881810\n"
     ]
    },
    {
     "name": "stderr",
     "output_type": "stream",
     "text": [
      "100%|██████████| 1065/1065 [22:26<00:00,  1.26s/it]"
     ]
    },
    {
     "name": "stdout",
     "output_type": "stream",
     "text": [
      "Epoch 7: 100%, loss: 2.500906\n"
     ]
    },
    {
     "name": "stderr",
     "output_type": "stream",
     "text": [
      "\n"
     ]
    },
    {
     "name": "stdout",
     "output_type": "stream",
     "text": [
      "                      (F1-score: 0.0420, Precision: 0.0417, Recall: 0.0488)\n",
      "\n",
      "                      (NDCG: 0.0405)\n",
      "\n",
      "                      (MAE: 3.9945)\n",
      "\n",
      "train_loss= tensor(2.7959)\n",
      "--------------------\n"
     ]
    },
    {
     "name": "stderr",
     "output_type": "stream",
     "text": [
      "100%|██████████| 133/133 [02:40<00:00,  1.21s/it]\n"
     ]
    },
    {
     "name": "stdout",
     "output_type": "stream",
     "text": [
      "                      (F1-score: 0.0388, Precision: 0.0394, Recall: 0.0439)\n",
      "\n",
      "                      (NDCG: 0.0380)\n",
      "\n",
      "                      (MAE: 3.9727)\n",
      "\n",
      "val_loss= tensor(2.8867)\n",
      "--------------------\n"
     ]
    },
    {
     "name": "stderr",
     "output_type": "stream",
     "text": [
      "100%|██████████| 133/133 [02:39<00:00,  1.20s/it]\n"
     ]
    },
    {
     "name": "stdout",
     "output_type": "stream",
     "text": [
      "                      (F1-score: 0.0483, Precision: 0.0477, Recall: 0.0562)\n",
      "\n",
      "                      (NDCG: 0.0448)\n",
      "\n",
      "                      (MAE: 3.9333)\n",
      "\n",
      "--------------------\n",
      "[[1, 0.014057011557940318, 0.01188785706283494, 0.011823946496057954, 0.01179059028373401, 4.078947368421052, 3.127652406692505], [2, 0.012395469401375309, 0.009105865923231022, 0.00977901920204689, 0.010618062558604922, 4.277255639097745, 3.012655735015869], [3, 0.022246495218667492, 0.01619511702540867, 0.017449494024516916, 0.020838153247434394, 4.348684210526316, 3.027646064758301], [4, 0.026692771779414103, 0.02158336819576314, 0.0223394388637506, 0.027247424719722142, 3.9483082706766917, 2.8979482650756836], [5, 0.04506514914615341, 0.03314819428784197, 0.03568033567884178, 0.03590964992124503, 4.302631578947368, 2.9078378677368164], [6, 0.053893801072998244, 0.0467627832103548, 0.046929541661401786, 0.04427988932439987, 3.9031954887218046, 2.815546989440918], [7, 0.05616548915759136, 0.04771199572262012, 0.048305158562770636, 0.044781315627970025, 3.933270676691729, 2.808995485305786]]\n",
      "-----------------------------------------------------------------------------------------\n"
     ]
    },
    {
     "name": "stderr",
     "output_type": "stream",
     "text": [
      "  0%|          | 1/1065 [00:01<25:16,  1.43s/it]"
     ]
    },
    {
     "name": "stdout",
     "output_type": "stream",
     "text": [
      "Epoch 8: 0%, loss: 1.514469\n"
     ]
    },
    {
     "name": "stderr",
     "output_type": "stream",
     "text": [
      "  9%|▉         | 101/1065 [02:03<19:48,  1.23s/it]"
     ]
    },
    {
     "name": "stdout",
     "output_type": "stream",
     "text": [
      "Epoch 8: 9%, loss: 2.182739\n"
     ]
    },
    {
     "name": "stderr",
     "output_type": "stream",
     "text": [
      " 19%|█▉        | 201/1065 [04:07<18:01,  1.25s/it]"
     ]
    },
    {
     "name": "stdout",
     "output_type": "stream",
     "text": [
      "Epoch 8: 19%, loss: 1.029211\n"
     ]
    },
    {
     "name": "stderr",
     "output_type": "stream",
     "text": [
      " 28%|██▊       | 301/1065 [06:11<15:48,  1.24s/it]"
     ]
    },
    {
     "name": "stdout",
     "output_type": "stream",
     "text": [
      "Epoch 8: 28%, loss: 0.584340\n"
     ]
    },
    {
     "name": "stderr",
     "output_type": "stream",
     "text": [
      " 38%|███▊      | 401/1065 [08:16<13:40,  1.24s/it]"
     ]
    },
    {
     "name": "stdout",
     "output_type": "stream",
     "text": [
      "Epoch 8: 38%, loss: 0.754274\n"
     ]
    },
    {
     "name": "stderr",
     "output_type": "stream",
     "text": [
      " 47%|████▋     | 501/1065 [10:21<12:15,  1.30s/it]"
     ]
    },
    {
     "name": "stdout",
     "output_type": "stream",
     "text": [
      "Epoch 8: 47%, loss: 1.963897\n"
     ]
    },
    {
     "name": "stderr",
     "output_type": "stream",
     "text": [
      " 56%|█████▋    | 601/1065 [12:28<09:48,  1.27s/it]"
     ]
    },
    {
     "name": "stdout",
     "output_type": "stream",
     "text": [
      "Epoch 8: 56%, loss: 0.713168\n"
     ]
    },
    {
     "name": "stderr",
     "output_type": "stream",
     "text": [
      " 66%|██████▌   | 701/1065 [14:35<07:46,  1.28s/it]"
     ]
    },
    {
     "name": "stdout",
     "output_type": "stream",
     "text": [
      "Epoch 8: 66%, loss: 1.806092\n"
     ]
    },
    {
     "name": "stderr",
     "output_type": "stream",
     "text": [
      " 75%|███████▌  | 801/1065 [16:43<05:43,  1.30s/it]"
     ]
    },
    {
     "name": "stdout",
     "output_type": "stream",
     "text": [
      "Epoch 8: 75%, loss: 3.388390\n"
     ]
    },
    {
     "name": "stderr",
     "output_type": "stream",
     "text": [
      " 85%|████████▍ | 901/1065 [18:52<03:30,  1.28s/it]"
     ]
    },
    {
     "name": "stdout",
     "output_type": "stream",
     "text": [
      "Epoch 8: 85%, loss: 1.553551\n"
     ]
    },
    {
     "name": "stderr",
     "output_type": "stream",
     "text": [
      " 94%|█████████▍| 1001/1065 [21:01<01:22,  1.29s/it]"
     ]
    },
    {
     "name": "stdout",
     "output_type": "stream",
     "text": [
      "Epoch 8: 94%, loss: 6.647616\n"
     ]
    },
    {
     "name": "stderr",
     "output_type": "stream",
     "text": [
      "100%|██████████| 1065/1065 [22:25<00:00,  1.26s/it]"
     ]
    },
    {
     "name": "stdout",
     "output_type": "stream",
     "text": [
      "Epoch 8: 100%, loss: 0.661170\n"
     ]
    },
    {
     "name": "stderr",
     "output_type": "stream",
     "text": [
      "\n"
     ]
    },
    {
     "name": "stdout",
     "output_type": "stream",
     "text": [
      "                      (F1-score: 0.0427, Precision: 0.0424, Recall: 0.0498)\n",
      "\n",
      "                      (NDCG: 0.0409)\n",
      "\n",
      "                      (MAE: 3.9933)\n",
      "\n",
      "train_loss= tensor(2.8048)\n",
      "--------------------\n"
     ]
    },
    {
     "name": "stderr",
     "output_type": "stream",
     "text": [
      "100%|██████████| 133/133 [02:40<00:00,  1.21s/it]\n"
     ]
    },
    {
     "name": "stdout",
     "output_type": "stream",
     "text": [
      "                      (F1-score: 0.0389, Precision: 0.0401, Recall: 0.0440)\n",
      "\n",
      "                      (NDCG: 0.0380)\n",
      "\n",
      "                      (MAE: 3.9427)\n",
      "\n",
      "val_loss= tensor(2.8647)\n",
      "--------------------\n"
     ]
    },
    {
     "name": "stderr",
     "output_type": "stream",
     "text": [
      "100%|██████████| 133/133 [02:39<00:00,  1.20s/it]\n"
     ]
    },
    {
     "name": "stdout",
     "output_type": "stream",
     "text": [
      "                      (F1-score: 0.0498, Precision: 0.0498, Recall: 0.0575)\n",
      "\n",
      "                      (NDCG: 0.0459)\n",
      "\n",
      "                      (MAE: 3.8778)\n",
      "\n",
      "--------------------\n",
      "[[1, 0.014057011557940318, 0.01188785706283494, 0.011823946496057954, 0.01179059028373401, 4.078947368421052, 3.127652406692505], [2, 0.012395469401375309, 0.009105865923231022, 0.00977901920204689, 0.010618062558604922, 4.277255639097745, 3.012655735015869], [3, 0.022246495218667492, 0.01619511702540867, 0.017449494024516916, 0.020838153247434394, 4.348684210526316, 3.027646064758301], [4, 0.026692771779414103, 0.02158336819576314, 0.0223394388637506, 0.027247424719722142, 3.9483082706766917, 2.8979482650756836], [5, 0.04506514914615341, 0.03314819428784197, 0.03568033567884178, 0.03590964992124503, 4.302631578947368, 2.9078378677368164], [6, 0.053893801072998244, 0.0467627832103548, 0.046929541661401786, 0.04427988932439987, 3.9031954887218046, 2.815546989440918], [7, 0.05616548915759136, 0.04771199572262012, 0.048305158562770636, 0.044781315627970025, 3.933270676691729, 2.808995485305786], [8, 0.05745805355945136, 0.04975830399311858, 0.04982252100961023, 0.04586496945256997, 3.8778195488721803, 2.7896313667297363]]\n",
      "-----------------------------------------------------------------------------------------\n"
     ]
    },
    {
     "name": "stderr",
     "output_type": "stream",
     "text": [
      "  0%|          | 1/1065 [00:01<26:26,  1.49s/it]"
     ]
    },
    {
     "name": "stdout",
     "output_type": "stream",
     "text": [
      "Epoch 9: 0%, loss: 8.451187\n"
     ]
    },
    {
     "name": "stderr",
     "output_type": "stream",
     "text": [
      "  9%|▉         | 101/1065 [02:04<19:28,  1.21s/it]"
     ]
    },
    {
     "name": "stdout",
     "output_type": "stream",
     "text": [
      "Epoch 9: 9%, loss: 0.356449\n"
     ]
    },
    {
     "name": "stderr",
     "output_type": "stream",
     "text": [
      " 19%|█▉        | 201/1065 [04:07<18:08,  1.26s/it]"
     ]
    },
    {
     "name": "stdout",
     "output_type": "stream",
     "text": [
      "Epoch 9: 19%, loss: 9.604351\n"
     ]
    },
    {
     "name": "stderr",
     "output_type": "stream",
     "text": [
      " 28%|██▊       | 301/1065 [06:11<15:30,  1.22s/it]"
     ]
    },
    {
     "name": "stdout",
     "output_type": "stream",
     "text": [
      "Epoch 9: 28%, loss: 1.702415\n"
     ]
    },
    {
     "name": "stderr",
     "output_type": "stream",
     "text": [
      " 38%|███▊      | 401/1065 [08:16<13:43,  1.24s/it]"
     ]
    },
    {
     "name": "stdout",
     "output_type": "stream",
     "text": [
      "Epoch 9: 38%, loss: 0.821676\n"
     ]
    },
    {
     "name": "stderr",
     "output_type": "stream",
     "text": [
      " 47%|████▋     | 501/1065 [10:22<12:12,  1.30s/it]"
     ]
    },
    {
     "name": "stdout",
     "output_type": "stream",
     "text": [
      "Epoch 9: 47%, loss: 0.698778\n"
     ]
    },
    {
     "name": "stderr",
     "output_type": "stream",
     "text": [
      " 56%|█████▋    | 601/1065 [12:28<09:50,  1.27s/it]"
     ]
    },
    {
     "name": "stdout",
     "output_type": "stream",
     "text": [
      "Epoch 9: 56%, loss: 3.013305\n"
     ]
    },
    {
     "name": "stderr",
     "output_type": "stream",
     "text": [
      " 66%|██████▌   | 701/1065 [14:35<07:41,  1.27s/it]"
     ]
    },
    {
     "name": "stdout",
     "output_type": "stream",
     "text": [
      "Epoch 9: 66%, loss: 1.178019\n"
     ]
    },
    {
     "name": "stderr",
     "output_type": "stream",
     "text": [
      " 75%|███████▌  | 801/1065 [16:43<05:38,  1.28s/it]"
     ]
    },
    {
     "name": "stdout",
     "output_type": "stream",
     "text": [
      "Epoch 9: 75%, loss: 1.448687\n"
     ]
    },
    {
     "name": "stderr",
     "output_type": "stream",
     "text": [
      " 85%|████████▍ | 901/1065 [18:51<03:29,  1.28s/it]"
     ]
    },
    {
     "name": "stdout",
     "output_type": "stream",
     "text": [
      "Epoch 9: 85%, loss: 2.610912\n"
     ]
    },
    {
     "name": "stderr",
     "output_type": "stream",
     "text": [
      " 94%|█████████▍| 1001/1065 [21:01<01:23,  1.31s/it]"
     ]
    },
    {
     "name": "stdout",
     "output_type": "stream",
     "text": [
      "Epoch 9: 94%, loss: 1.225251\n"
     ]
    },
    {
     "name": "stderr",
     "output_type": "stream",
     "text": [
      "100%|██████████| 1065/1065 [22:24<00:00,  1.26s/it]"
     ]
    },
    {
     "name": "stdout",
     "output_type": "stream",
     "text": [
      "Epoch 9: 100%, loss: 0.789517\n"
     ]
    },
    {
     "name": "stderr",
     "output_type": "stream",
     "text": [
      "\n"
     ]
    },
    {
     "name": "stdout",
     "output_type": "stream",
     "text": [
      "                      (F1-score: 0.0433, Precision: 0.0428, Recall: 0.0506)\n",
      "\n",
      "                      (NDCG: 0.0410)\n",
      "\n",
      "                      (MAE: 3.9904)\n",
      "\n",
      "train_loss= tensor(2.7812)\n",
      "--------------------\n"
     ]
    },
    {
     "name": "stderr",
     "output_type": "stream",
     "text": [
      "100%|██████████| 133/133 [02:40<00:00,  1.20s/it]\n"
     ]
    },
    {
     "name": "stdout",
     "output_type": "stream",
     "text": [
      "                      (F1-score: 0.0387, Precision: 0.0418, Recall: 0.0413)\n",
      "\n",
      "                      (NDCG: 0.0377)\n",
      "\n",
      "                      (MAE: 3.9972)\n",
      "\n",
      "val_loss= tensor(3.1410)\n",
      "--------------------\n"
     ]
    },
    {
     "name": "stderr",
     "output_type": "stream",
     "text": [
      "100%|██████████| 133/133 [02:40<00:00,  1.20s/it]\n"
     ]
    },
    {
     "name": "stdout",
     "output_type": "stream",
     "text": [
      "                      (F1-score: 0.0489, Precision: 0.0507, Recall: 0.0542)\n",
      "\n",
      "                      (NDCG: 0.0457)\n",
      "\n",
      "                      (MAE: 3.8167)\n",
      "\n",
      "--------------------\n",
      "[[1, 0.014057011557940318, 0.01188785706283494, 0.011823946496057954, 0.01179059028373401, 4.078947368421052, 3.127652406692505], [2, 0.012395469401375309, 0.009105865923231022, 0.00977901920204689, 0.010618062558604922, 4.277255639097745, 3.012655735015869], [3, 0.022246495218667492, 0.01619511702540867, 0.017449494024516916, 0.020838153247434394, 4.348684210526316, 3.027646064758301], [4, 0.026692771779414103, 0.02158336819576314, 0.0223394388637506, 0.027247424719722142, 3.9483082706766917, 2.8979482650756836], [5, 0.04506514914615341, 0.03314819428784197, 0.03568033567884178, 0.03590964992124503, 4.302631578947368, 2.9078378677368164], [6, 0.053893801072998244, 0.0467627832103548, 0.046929541661401786, 0.04427988932439987, 3.9031954887218046, 2.815546989440918], [7, 0.05616548915759136, 0.04771199572262012, 0.048305158562770636, 0.044781315627970025, 3.933270676691729, 2.808995485305786], [8, 0.05745805355945136, 0.04975830399311858, 0.04982252100961023, 0.04586496945256997, 3.8778195488721803, 2.7896313667297363], [9, 0.05423260471329658, 0.050656984034630516, 0.048928625610274765, 0.045732122892338814, 3.816729323308271, 2.960042953491211]]\n",
      "-----------------------------------------------------------------------------------------\n"
     ]
    },
    {
     "name": "stderr",
     "output_type": "stream",
     "text": [
      "  0%|          | 1/1065 [00:01<27:27,  1.55s/it]"
     ]
    },
    {
     "name": "stdout",
     "output_type": "stream",
     "text": [
      "Epoch 10: 0%, loss: 1.426459\n"
     ]
    },
    {
     "name": "stderr",
     "output_type": "stream",
     "text": [
      "  9%|▉         | 101/1065 [02:04<20:47,  1.29s/it]"
     ]
    },
    {
     "name": "stdout",
     "output_type": "stream",
     "text": [
      "Epoch 10: 9%, loss: 1.787364\n"
     ]
    },
    {
     "name": "stderr",
     "output_type": "stream",
     "text": [
      " 19%|█▉        | 201/1065 [04:07<17:31,  1.22s/it]"
     ]
    },
    {
     "name": "stdout",
     "output_type": "stream",
     "text": [
      "Epoch 10: 19%, loss: 0.523677\n"
     ]
    },
    {
     "name": "stderr",
     "output_type": "stream",
     "text": [
      " 28%|██▊       | 301/1065 [06:10<15:51,  1.24s/it]"
     ]
    },
    {
     "name": "stdout",
     "output_type": "stream",
     "text": [
      "Epoch 10: 28%, loss: 0.814901\n"
     ]
    },
    {
     "name": "stderr",
     "output_type": "stream",
     "text": [
      " 38%|███▊      | 401/1065 [08:15<13:52,  1.25s/it]"
     ]
    },
    {
     "name": "stdout",
     "output_type": "stream",
     "text": [
      "Epoch 10: 38%, loss: 1.525395\n"
     ]
    },
    {
     "name": "stderr",
     "output_type": "stream",
     "text": [
      " 47%|████▋     | 501/1065 [10:21<12:10,  1.30s/it]"
     ]
    },
    {
     "name": "stdout",
     "output_type": "stream",
     "text": [
      "Epoch 10: 47%, loss: 3.648890\n"
     ]
    },
    {
     "name": "stderr",
     "output_type": "stream",
     "text": [
      " 56%|█████▋    | 601/1065 [12:28<09:49,  1.27s/it]"
     ]
    },
    {
     "name": "stdout",
     "output_type": "stream",
     "text": [
      "Epoch 10: 56%, loss: 0.281192\n"
     ]
    },
    {
     "name": "stderr",
     "output_type": "stream",
     "text": [
      " 66%|██████▌   | 701/1065 [14:35<07:38,  1.26s/it]"
     ]
    },
    {
     "name": "stdout",
     "output_type": "stream",
     "text": [
      "Epoch 10: 66%, loss: 1.772392\n"
     ]
    },
    {
     "name": "stderr",
     "output_type": "stream",
     "text": [
      " 75%|███████▌  | 801/1065 [16:43<05:36,  1.28s/it]"
     ]
    },
    {
     "name": "stdout",
     "output_type": "stream",
     "text": [
      "Epoch 10: 75%, loss: 4.659904\n"
     ]
    },
    {
     "name": "stderr",
     "output_type": "stream",
     "text": [
      " 85%|████████▍ | 901/1065 [18:52<03:30,  1.28s/it]"
     ]
    },
    {
     "name": "stdout",
     "output_type": "stream",
     "text": [
      "Epoch 10: 85%, loss: 2.804925\n"
     ]
    },
    {
     "name": "stderr",
     "output_type": "stream",
     "text": [
      " 94%|█████████▍| 1001/1065 [21:03<01:23,  1.30s/it]"
     ]
    },
    {
     "name": "stdout",
     "output_type": "stream",
     "text": [
      "Epoch 10: 94%, loss: 1.506159\n"
     ]
    },
    {
     "name": "stderr",
     "output_type": "stream",
     "text": [
      "100%|██████████| 1065/1065 [22:26<00:00,  1.26s/it]"
     ]
    },
    {
     "name": "stdout",
     "output_type": "stream",
     "text": [
      "Epoch 10: 100%, loss: 2.750104\n"
     ]
    },
    {
     "name": "stderr",
     "output_type": "stream",
     "text": [
      "\n"
     ]
    },
    {
     "name": "stdout",
     "output_type": "stream",
     "text": [
      "                      (F1-score: 0.0426, Precision: 0.0424, Recall: 0.0496)\n",
      "\n",
      "                      (NDCG: 0.0408)\n",
      "\n",
      "                      (MAE: 3.9827)\n",
      "\n",
      "train_loss= tensor(2.7983)\n",
      "--------------------\n"
     ]
    },
    {
     "name": "stderr",
     "output_type": "stream",
     "text": [
      "100%|██████████| 133/133 [02:40<00:00,  1.21s/it]\n"
     ]
    },
    {
     "name": "stdout",
     "output_type": "stream",
     "text": [
      "                      (F1-score: 0.0389, Precision: 0.0401, Recall: 0.0436)\n",
      "\n",
      "                      (NDCG: 0.0380)\n",
      "\n",
      "                      (MAE: 3.9944)\n",
      "\n",
      "val_loss= tensor(2.9097)\n",
      "--------------------\n"
     ]
    },
    {
     "name": "stderr",
     "output_type": "stream",
     "text": [
      "100%|██████████| 133/133 [02:40<00:00,  1.21s/it]\n"
     ]
    },
    {
     "name": "stdout",
     "output_type": "stream",
     "text": [
      "                      (F1-score: 0.0495, Precision: 0.0495, Recall: 0.0571)\n",
      "\n",
      "                      (NDCG: 0.0459)\n",
      "\n",
      "                      (MAE: 3.8976)\n",
      "\n",
      "--------------------\n",
      "[[1, 0.014057011557940318, 0.01188785706283494, 0.011823946496057954, 0.01179059028373401, 4.078947368421052, 3.127652406692505], [2, 0.012395469401375309, 0.009105865923231022, 0.00977901920204689, 0.010618062558604922, 4.277255639097745, 3.012655735015869], [3, 0.022246495218667492, 0.01619511702540867, 0.017449494024516916, 0.020838153247434394, 4.348684210526316, 3.027646064758301], [4, 0.026692771779414103, 0.02158336819576314, 0.0223394388637506, 0.027247424719722142, 3.9483082706766917, 2.8979482650756836], [5, 0.04506514914615341, 0.03314819428784197, 0.03568033567884178, 0.03590964992124503, 4.302631578947368, 2.9078378677368164], [6, 0.053893801072998244, 0.0467627832103548, 0.046929541661401786, 0.04427988932439987, 3.9031954887218046, 2.815546989440918], [7, 0.05616548915759136, 0.04771199572262012, 0.048305158562770636, 0.044781315627970025, 3.933270676691729, 2.808995485305786], [8, 0.05745805355945136, 0.04975830399311858, 0.04982252100961023, 0.04586496945256997, 3.8778195488721803, 2.7896313667297363], [9, 0.05423260471329658, 0.050656984034630516, 0.048928625610274765, 0.045732122892338814, 3.816729323308271, 2.960042953491211], [10, 0.05709393810374558, 0.049515773334901515, 0.049531901981052846, 0.04588587948688327, 3.8975563909774436, 2.810199022293091]]\n",
      "-----------------------------------------------------------------------------------------\n"
     ]
    },
    {
     "name": "stderr",
     "output_type": "stream",
     "text": [
      "  0%|          | 1/1065 [00:01<24:25,  1.38s/it]"
     ]
    },
    {
     "name": "stdout",
     "output_type": "stream",
     "text": [
      "Epoch 11: 0%, loss: 7.052760\n"
     ]
    },
    {
     "name": "stderr",
     "output_type": "stream",
     "text": [
      "  9%|▉         | 101/1065 [02:02<19:30,  1.21s/it]"
     ]
    },
    {
     "name": "stdout",
     "output_type": "stream",
     "text": [
      "Epoch 11: 9%, loss: 2.582679\n"
     ]
    },
    {
     "name": "stderr",
     "output_type": "stream",
     "text": [
      " 19%|█▉        | 201/1065 [04:04<17:18,  1.20s/it]"
     ]
    },
    {
     "name": "stdout",
     "output_type": "stream",
     "text": [
      "Epoch 11: 19%, loss: 4.321563\n"
     ]
    },
    {
     "name": "stderr",
     "output_type": "stream",
     "text": [
      " 28%|██▊       | 301/1065 [06:08<16:35,  1.30s/it]"
     ]
    },
    {
     "name": "stdout",
     "output_type": "stream",
     "text": [
      "Epoch 11: 28%, loss: 4.188354\n"
     ]
    },
    {
     "name": "stderr",
     "output_type": "stream",
     "text": [
      " 38%|███▊      | 401/1065 [08:12<13:44,  1.24s/it]"
     ]
    },
    {
     "name": "stdout",
     "output_type": "stream",
     "text": [
      "Epoch 11: 38%, loss: 1.695763\n"
     ]
    },
    {
     "name": "stderr",
     "output_type": "stream",
     "text": [
      " 47%|████▋     | 501/1065 [10:17<11:41,  1.24s/it]"
     ]
    },
    {
     "name": "stdout",
     "output_type": "stream",
     "text": [
      "Epoch 11: 47%, loss: 1.187258\n"
     ]
    },
    {
     "name": "stderr",
     "output_type": "stream",
     "text": [
      " 56%|█████▋    | 601/1065 [12:23<09:35,  1.24s/it]"
     ]
    },
    {
     "name": "stdout",
     "output_type": "stream",
     "text": [
      "Epoch 11: 56%, loss: 6.239888\n"
     ]
    },
    {
     "name": "stderr",
     "output_type": "stream",
     "text": [
      " 66%|██████▌   | 701/1065 [14:30<07:35,  1.25s/it]"
     ]
    },
    {
     "name": "stdout",
     "output_type": "stream",
     "text": [
      "Epoch 11: 66%, loss: 4.080049\n"
     ]
    },
    {
     "name": "stderr",
     "output_type": "stream",
     "text": [
      " 75%|███████▌  | 801/1065 [16:37<05:40,  1.29s/it]"
     ]
    },
    {
     "name": "stdout",
     "output_type": "stream",
     "text": [
      "Epoch 11: 75%, loss: 1.627436\n"
     ]
    },
    {
     "name": "stderr",
     "output_type": "stream",
     "text": [
      " 85%|████████▍ | 901/1065 [18:45<03:27,  1.27s/it]"
     ]
    },
    {
     "name": "stdout",
     "output_type": "stream",
     "text": [
      "Epoch 11: 85%, loss: 1.106022\n"
     ]
    },
    {
     "name": "stderr",
     "output_type": "stream",
     "text": [
      " 94%|█████████▍| 1001/1065 [20:54<01:23,  1.31s/it]"
     ]
    },
    {
     "name": "stdout",
     "output_type": "stream",
     "text": [
      "Epoch 11: 94%, loss: 4.891160\n"
     ]
    },
    {
     "name": "stderr",
     "output_type": "stream",
     "text": [
      "100%|██████████| 1065/1065 [22:17<00:00,  1.26s/it]"
     ]
    },
    {
     "name": "stdout",
     "output_type": "stream",
     "text": [
      "Epoch 11: 100%, loss: 3.963436\n"
     ]
    },
    {
     "name": "stderr",
     "output_type": "stream",
     "text": [
      "\n"
     ]
    },
    {
     "name": "stdout",
     "output_type": "stream",
     "text": [
      "                      (F1-score: 0.0436, Precision: 0.0431, Recall: 0.0509)\n",
      "\n",
      "                      (NDCG: 0.0415)\n",
      "\n",
      "                      (MAE: 3.9732)\n",
      "\n",
      "train_loss= tensor(2.7624)\n",
      "--------------------\n"
     ]
    },
    {
     "name": "stderr",
     "output_type": "stream",
     "text": [
      "100%|██████████| 133/133 [02:39<00:00,  1.20s/it]\n"
     ]
    },
    {
     "name": "stdout",
     "output_type": "stream",
     "text": [
      "                      (F1-score: 0.0382, Precision: 0.0369, Recall: 0.0460)\n",
      "\n",
      "                      (NDCG: 0.0379)\n",
      "\n",
      "                      (MAE: 4.2265)\n",
      "\n",
      "val_loss= tensor(2.8487)\n",
      "--------------------\n"
     ]
    },
    {
     "name": "stderr",
     "output_type": "stream",
     "text": [
      "100%|██████████| 133/133 [02:39<00:00,  1.20s/it]\n"
     ]
    },
    {
     "name": "stdout",
     "output_type": "stream",
     "text": [
      "                      (F1-score: 0.0475, Precision: 0.0442, Recall: 0.0596)\n",
      "\n",
      "                      (NDCG: 0.0440)\n",
      "\n",
      "                      (MAE: 4.2650)\n",
      "\n",
      "--------------------\n",
      "[[1, 0.014057011557940318, 0.01188785706283494, 0.011823946496057954, 0.01179059028373401, 4.078947368421052, 3.127652406692505], [2, 0.012395469401375309, 0.009105865923231022, 0.00977901920204689, 0.010618062558604922, 4.277255639097745, 3.012655735015869], [3, 0.022246495218667492, 0.01619511702540867, 0.017449494024516916, 0.020838153247434394, 4.348684210526316, 3.027646064758301], [4, 0.026692771779414103, 0.02158336819576314, 0.0223394388637506, 0.027247424719722142, 3.9483082706766917, 2.8979482650756836], [5, 0.04506514914615341, 0.03314819428784197, 0.03568033567884178, 0.03590964992124503, 4.302631578947368, 2.9078378677368164], [6, 0.053893801072998244, 0.0467627832103548, 0.046929541661401786, 0.04427988932439987, 3.9031954887218046, 2.815546989440918], [7, 0.05616548915759136, 0.04771199572262012, 0.048305158562770636, 0.044781315627970025, 3.933270676691729, 2.808995485305786], [8, 0.05745805355945136, 0.04975830399311858, 0.04982252100961023, 0.04586496945256997, 3.8778195488721803, 2.7896313667297363], [9, 0.05423260471329658, 0.050656984034630516, 0.048928625610274765, 0.045732122892338814, 3.816729323308271, 2.960042953491211], [10, 0.05709393810374558, 0.049515773334901515, 0.049531901981052846, 0.04588587948688327, 3.8975563909774436, 2.810199022293091], [11, 0.059648740596383, 0.04416855712742466, 0.04753382714728831, 0.04399852613704909, 4.265037593984962, 2.859423875808716]]\n",
      "-----------------------------------------------------------------------------------------\n"
     ]
    },
    {
     "name": "stderr",
     "output_type": "stream",
     "text": [
      "  0%|          | 1/1065 [00:01<26:14,  1.48s/it]"
     ]
    },
    {
     "name": "stdout",
     "output_type": "stream",
     "text": [
      "Epoch 12: 0%, loss: 6.719433\n"
     ]
    },
    {
     "name": "stderr",
     "output_type": "stream",
     "text": [
      "  9%|▉         | 101/1065 [02:03<19:41,  1.23s/it]"
     ]
    },
    {
     "name": "stdout",
     "output_type": "stream",
     "text": [
      "Epoch 12: 9%, loss: 1.317362\n"
     ]
    },
    {
     "name": "stderr",
     "output_type": "stream",
     "text": [
      " 19%|█▉        | 201/1065 [04:08<17:57,  1.25s/it]"
     ]
    },
    {
     "name": "stdout",
     "output_type": "stream",
     "text": [
      "Epoch 12: 19%, loss: 0.998533\n"
     ]
    },
    {
     "name": "stderr",
     "output_type": "stream",
     "text": [
      " 28%|██▊       | 301/1065 [06:11<15:51,  1.25s/it]"
     ]
    },
    {
     "name": "stdout",
     "output_type": "stream",
     "text": [
      "Epoch 12: 28%, loss: 5.975726\n"
     ]
    },
    {
     "name": "stderr",
     "output_type": "stream",
     "text": [
      " 38%|███▊      | 401/1065 [08:16<13:55,  1.26s/it]"
     ]
    },
    {
     "name": "stdout",
     "output_type": "stream",
     "text": [
      "Epoch 12: 38%, loss: 0.794229\n"
     ]
    },
    {
     "name": "stderr",
     "output_type": "stream",
     "text": [
      " 47%|████▋     | 501/1065 [10:22<11:48,  1.26s/it]"
     ]
    },
    {
     "name": "stdout",
     "output_type": "stream",
     "text": [
      "Epoch 12: 47%, loss: 1.139809\n"
     ]
    },
    {
     "name": "stderr",
     "output_type": "stream",
     "text": [
      " 56%|█████▋    | 601/1065 [12:28<09:41,  1.25s/it]"
     ]
    },
    {
     "name": "stdout",
     "output_type": "stream",
     "text": [
      "Epoch 12: 56%, loss: 1.707185\n"
     ]
    },
    {
     "name": "stderr",
     "output_type": "stream",
     "text": [
      " 66%|██████▌   | 701/1065 [14:36<07:53,  1.30s/it]"
     ]
    },
    {
     "name": "stdout",
     "output_type": "stream",
     "text": [
      "Epoch 12: 66%, loss: 2.706596\n"
     ]
    },
    {
     "name": "stderr",
     "output_type": "stream",
     "text": [
      " 75%|███████▌  | 801/1065 [16:43<05:39,  1.29s/it]"
     ]
    },
    {
     "name": "stdout",
     "output_type": "stream",
     "text": [
      "Epoch 12: 75%, loss: 0.688427\n"
     ]
    },
    {
     "name": "stderr",
     "output_type": "stream",
     "text": [
      " 85%|████████▍ | 901/1065 [18:52<03:29,  1.28s/it]"
     ]
    },
    {
     "name": "stdout",
     "output_type": "stream",
     "text": [
      "Epoch 12: 85%, loss: 6.230494\n"
     ]
    },
    {
     "name": "stderr",
     "output_type": "stream",
     "text": [
      " 94%|█████████▍| 1001/1065 [21:01<01:20,  1.26s/it]"
     ]
    },
    {
     "name": "stdout",
     "output_type": "stream",
     "text": [
      "Epoch 12: 94%, loss: 1.333014\n"
     ]
    },
    {
     "name": "stderr",
     "output_type": "stream",
     "text": [
      "100%|██████████| 1065/1065 [22:24<00:00,  1.26s/it]"
     ]
    },
    {
     "name": "stdout",
     "output_type": "stream",
     "text": [
      "Epoch 12: 100%, loss: 1.083186\n"
     ]
    },
    {
     "name": "stderr",
     "output_type": "stream",
     "text": [
      "\n"
     ]
    },
    {
     "name": "stdout",
     "output_type": "stream",
     "text": [
      "                      (F1-score: 0.0433, Precision: 0.0429, Recall: 0.0504)\n",
      "\n",
      "                      (NDCG: 0.0413)\n",
      "\n",
      "                      (MAE: 3.9710)\n",
      "\n",
      "train_loss= tensor(2.7563)\n",
      "--------------------\n"
     ]
    },
    {
     "name": "stderr",
     "output_type": "stream",
     "text": [
      "100%|██████████| 133/133 [02:40<00:00,  1.21s/it]\n"
     ]
    },
    {
     "name": "stdout",
     "output_type": "stream",
     "text": [
      "                      (F1-score: 0.0386, Precision: 0.0407, Recall: 0.0423)\n",
      "\n",
      "                      (NDCG: 0.0384)\n",
      "\n",
      "                      (MAE: 3.9145)\n",
      "\n",
      "val_loss= tensor(2.8486)\n",
      "--------------------\n"
     ]
    },
    {
     "name": "stderr",
     "output_type": "stream",
     "text": [
      "100%|██████████| 133/133 [02:39<00:00,  1.20s/it]\n"
     ]
    },
    {
     "name": "stdout",
     "output_type": "stream",
     "text": [
      "                      (F1-score: 0.0496, Precision: 0.0498, Recall: 0.0569)\n",
      "\n",
      "                      (NDCG: 0.0461)\n",
      "\n",
      "                      (MAE: 3.8402)\n",
      "\n",
      "--------------------\n",
      "[[1, 0.014057011557940318, 0.01188785706283494, 0.011823946496057954, 0.01179059028373401, 4.078947368421052, 3.127652406692505], [2, 0.012395469401375309, 0.009105865923231022, 0.00977901920204689, 0.010618062558604922, 4.277255639097745, 3.012655735015869], [3, 0.022246495218667492, 0.01619511702540867, 0.017449494024516916, 0.020838153247434394, 4.348684210526316, 3.027646064758301], [4, 0.026692771779414103, 0.02158336819576314, 0.0223394388637506, 0.027247424719722142, 3.9483082706766917, 2.8979482650756836], [5, 0.04506514914615341, 0.03314819428784197, 0.03568033567884178, 0.03590964992124503, 4.302631578947368, 2.9078378677368164], [6, 0.053893801072998244, 0.0467627832103548, 0.046929541661401786, 0.04427988932439987, 3.9031954887218046, 2.815546989440918], [7, 0.05616548915759136, 0.04771199572262012, 0.048305158562770636, 0.044781315627970025, 3.933270676691729, 2.808995485305786], [8, 0.05745805355945136, 0.04975830399311858, 0.04982252100961023, 0.04586496945256997, 3.8778195488721803, 2.7896313667297363], [9, 0.05423260471329658, 0.050656984034630516, 0.048928625610274765, 0.045732122892338814, 3.816729323308271, 2.960042953491211], [10, 0.05709393810374558, 0.049515773334901515, 0.049531901981052846, 0.04588587948688327, 3.8975563909774436, 2.810199022293091], [11, 0.059648740596383, 0.04416855712742466, 0.04753382714728831, 0.04399852613704909, 4.265037593984962, 2.859423875808716], [12, 0.05686059493831192, 0.0497922618008767, 0.04963999029983107, 0.0460727807498516, 3.8402255639097747, 2.790591239929199]]\n",
      "-----------------------------------------------------------------------------------------\n"
     ]
    },
    {
     "name": "stderr",
     "output_type": "stream",
     "text": [
      "  0%|          | 1/1065 [00:01<25:57,  1.46s/it]"
     ]
    },
    {
     "name": "stdout",
     "output_type": "stream",
     "text": [
      "Epoch 13: 0%, loss: 0.608621\n"
     ]
    },
    {
     "name": "stderr",
     "output_type": "stream",
     "text": [
      "  9%|▉         | 101/1065 [02:04<20:19,  1.27s/it]"
     ]
    },
    {
     "name": "stdout",
     "output_type": "stream",
     "text": [
      "Epoch 13: 9%, loss: 1.959697\n"
     ]
    },
    {
     "name": "stderr",
     "output_type": "stream",
     "text": [
      " 19%|█▉        | 201/1065 [04:06<17:22,  1.21s/it]"
     ]
    },
    {
     "name": "stdout",
     "output_type": "stream",
     "text": [
      "Epoch 13: 19%, loss: 15.971293\n"
     ]
    },
    {
     "name": "stderr",
     "output_type": "stream",
     "text": [
      " 28%|██▊       | 301/1065 [06:09<15:37,  1.23s/it]"
     ]
    },
    {
     "name": "stdout",
     "output_type": "stream",
     "text": [
      "Epoch 13: 28%, loss: 1.042042\n"
     ]
    },
    {
     "name": "stderr",
     "output_type": "stream",
     "text": [
      " 38%|███▊      | 401/1065 [08:15<13:37,  1.23s/it]"
     ]
    },
    {
     "name": "stdout",
     "output_type": "stream",
     "text": [
      "Epoch 13: 38%, loss: 1.177838\n"
     ]
    },
    {
     "name": "stderr",
     "output_type": "stream",
     "text": [
      " 47%|████▋     | 501/1065 [10:21<12:32,  1.33s/it]"
     ]
    },
    {
     "name": "stdout",
     "output_type": "stream",
     "text": [
      "Epoch 13: 47%, loss: 19.706661\n"
     ]
    },
    {
     "name": "stderr",
     "output_type": "stream",
     "text": [
      " 56%|█████▋    | 601/1065 [12:27<09:48,  1.27s/it]"
     ]
    },
    {
     "name": "stdout",
     "output_type": "stream",
     "text": [
      "Epoch 13: 56%, loss: 1.634805\n"
     ]
    },
    {
     "name": "stderr",
     "output_type": "stream",
     "text": [
      " 66%|██████▌   | 701/1065 [14:34<07:48,  1.29s/it]"
     ]
    },
    {
     "name": "stdout",
     "output_type": "stream",
     "text": [
      "Epoch 13: 66%, loss: 6.584036\n"
     ]
    },
    {
     "name": "stderr",
     "output_type": "stream",
     "text": [
      " 75%|███████▌  | 801/1065 [16:42<05:35,  1.27s/it]"
     ]
    },
    {
     "name": "stdout",
     "output_type": "stream",
     "text": [
      "Epoch 13: 75%, loss: 0.149951\n"
     ]
    },
    {
     "name": "stderr",
     "output_type": "stream",
     "text": [
      " 85%|████████▍ | 901/1065 [18:50<03:31,  1.29s/it]"
     ]
    },
    {
     "name": "stdout",
     "output_type": "stream",
     "text": [
      "Epoch 13: 85%, loss: 3.541872\n"
     ]
    },
    {
     "name": "stderr",
     "output_type": "stream",
     "text": [
      " 94%|█████████▍| 1001/1065 [21:00<01:22,  1.28s/it]"
     ]
    },
    {
     "name": "stdout",
     "output_type": "stream",
     "text": [
      "Epoch 13: 94%, loss: 1.597105\n"
     ]
    },
    {
     "name": "stderr",
     "output_type": "stream",
     "text": [
      "100%|██████████| 1065/1065 [22:22<00:00,  1.26s/it]"
     ]
    },
    {
     "name": "stdout",
     "output_type": "stream",
     "text": [
      "Epoch 13: 100%, loss: 1.577231\n"
     ]
    },
    {
     "name": "stderr",
     "output_type": "stream",
     "text": [
      "\n"
     ]
    },
    {
     "name": "stdout",
     "output_type": "stream",
     "text": [
      "                      (F1-score: 0.0447, Precision: 0.0444, Recall: 0.0518)\n",
      "\n",
      "                      (NDCG: 0.0425)\n",
      "\n",
      "                      (MAE: 3.9447)\n",
      "\n",
      "train_loss= tensor(2.7351)\n",
      "--------------------\n"
     ]
    },
    {
     "name": "stderr",
     "output_type": "stream",
     "text": [
      "100%|██████████| 133/133 [02:40<00:00,  1.21s/it]\n"
     ]
    },
    {
     "name": "stdout",
     "output_type": "stream",
     "text": [
      "                      (F1-score: 0.0393, Precision: 0.0402, Recall: 0.0444)\n",
      "\n",
      "                      (NDCG: 0.0387)\n",
      "\n",
      "                      (MAE: 4.0244)\n",
      "\n",
      "val_loss= tensor(2.8012)\n",
      "--------------------\n"
     ]
    },
    {
     "name": "stderr",
     "output_type": "stream",
     "text": [
      "100%|██████████| 133/133 [02:39<00:00,  1.20s/it]\n"
     ]
    },
    {
     "name": "stdout",
     "output_type": "stream",
     "text": [
      "                      (F1-score: 0.0512, Precision: 0.0506, Recall: 0.0597)\n",
      "\n",
      "                      (NDCG: 0.0469)\n",
      "\n",
      "                      (MAE: 3.9906)\n",
      "\n",
      "--------------------\n",
      "[[1, 0.014057011557940318, 0.01188785706283494, 0.011823946496057954, 0.01179059028373401, 4.078947368421052, 3.127652406692505], [2, 0.012395469401375309, 0.009105865923231022, 0.00977901920204689, 0.010618062558604922, 4.277255639097745, 3.012655735015869], [3, 0.022246495218667492, 0.01619511702540867, 0.017449494024516916, 0.020838153247434394, 4.348684210526316, 3.027646064758301], [4, 0.026692771779414103, 0.02158336819576314, 0.0223394388637506, 0.027247424719722142, 3.9483082706766917, 2.8979482650756836], [5, 0.04506514914615341, 0.03314819428784197, 0.03568033567884178, 0.03590964992124503, 4.302631578947368, 2.9078378677368164], [6, 0.053893801072998244, 0.0467627832103548, 0.046929541661401786, 0.04427988932439987, 3.9031954887218046, 2.815546989440918], [7, 0.05616548915759136, 0.04771199572262012, 0.048305158562770636, 0.044781315627970025, 3.933270676691729, 2.808995485305786], [8, 0.05745805355945136, 0.04975830399311858, 0.04982252100961023, 0.04586496945256997, 3.8778195488721803, 2.7896313667297363], [9, 0.05423260471329658, 0.050656984034630516, 0.048928625610274765, 0.045732122892338814, 3.816729323308271, 2.960042953491211], [10, 0.05709393810374558, 0.049515773334901515, 0.049531901981052846, 0.04588587948688327, 3.8975563909774436, 2.810199022293091], [11, 0.059648740596383, 0.04416855712742466, 0.04753382714728831, 0.04399852613704909, 4.265037593984962, 2.859423875808716], [12, 0.05686059493831192, 0.0497922618008767, 0.04963999029983107, 0.0460727807498516, 3.8402255639097747, 2.790591239929199], [13, 0.05973176586726776, 0.05055683827373657, 0.051202158119456075, 0.046863126137847065, 3.9906015037593985, 2.772787094116211]]\n",
      "-----------------------------------------------------------------------------------------\n"
     ]
    },
    {
     "name": "stderr",
     "output_type": "stream",
     "text": [
      "  0%|          | 1/1065 [00:01<26:19,  1.48s/it]"
     ]
    },
    {
     "name": "stdout",
     "output_type": "stream",
     "text": [
      "Epoch 14: 0%, loss: 1.798097\n"
     ]
    },
    {
     "name": "stderr",
     "output_type": "stream",
     "text": [
      "  9%|▉         | 101/1065 [02:03<19:39,  1.22s/it]"
     ]
    },
    {
     "name": "stdout",
     "output_type": "stream",
     "text": [
      "Epoch 14: 9%, loss: 0.829433\n"
     ]
    },
    {
     "name": "stderr",
     "output_type": "stream",
     "text": [
      " 19%|█▉        | 201/1065 [04:06<17:36,  1.22s/it]"
     ]
    },
    {
     "name": "stdout",
     "output_type": "stream",
     "text": [
      "Epoch 14: 19%, loss: 1.072371\n"
     ]
    },
    {
     "name": "stderr",
     "output_type": "stream",
     "text": [
      " 28%|██▊       | 301/1065 [06:10<15:27,  1.21s/it]"
     ]
    },
    {
     "name": "stdout",
     "output_type": "stream",
     "text": [
      "Epoch 14: 28%, loss: 1.656935\n"
     ]
    },
    {
     "name": "stderr",
     "output_type": "stream",
     "text": [
      " 38%|███▊      | 401/1065 [08:14<13:39,  1.23s/it]"
     ]
    },
    {
     "name": "stdout",
     "output_type": "stream",
     "text": [
      "Epoch 14: 38%, loss: 0.871225\n"
     ]
    },
    {
     "name": "stderr",
     "output_type": "stream",
     "text": [
      " 47%|████▋     | 501/1065 [10:21<11:45,  1.25s/it]"
     ]
    },
    {
     "name": "stdout",
     "output_type": "stream",
     "text": [
      "Epoch 14: 47%, loss: 2.059302\n"
     ]
    },
    {
     "name": "stderr",
     "output_type": "stream",
     "text": [
      " 56%|█████▋    | 601/1065 [12:26<09:38,  1.25s/it]"
     ]
    },
    {
     "name": "stdout",
     "output_type": "stream",
     "text": [
      "Epoch 14: 56%, loss: 0.981981\n"
     ]
    },
    {
     "name": "stderr",
     "output_type": "stream",
     "text": [
      " 66%|██████▌   | 701/1065 [14:33<07:38,  1.26s/it]"
     ]
    },
    {
     "name": "stdout",
     "output_type": "stream",
     "text": [
      "Epoch 14: 66%, loss: 1.188250\n"
     ]
    },
    {
     "name": "stderr",
     "output_type": "stream",
     "text": [
      " 75%|███████▌  | 801/1065 [16:41<05:42,  1.30s/it]"
     ]
    },
    {
     "name": "stdout",
     "output_type": "stream",
     "text": [
      "Epoch 14: 75%, loss: 2.005229\n"
     ]
    },
    {
     "name": "stderr",
     "output_type": "stream",
     "text": [
      " 85%|████████▍ | 901/1065 [18:50<03:31,  1.29s/it]"
     ]
    },
    {
     "name": "stdout",
     "output_type": "stream",
     "text": [
      "Epoch 14: 85%, loss: 1.048299\n"
     ]
    },
    {
     "name": "stderr",
     "output_type": "stream",
     "text": [
      " 94%|█████████▍| 1001/1065 [20:59<01:22,  1.29s/it]"
     ]
    },
    {
     "name": "stdout",
     "output_type": "stream",
     "text": [
      "Epoch 14: 94%, loss: 4.371789\n"
     ]
    },
    {
     "name": "stderr",
     "output_type": "stream",
     "text": [
      "100%|██████████| 1065/1065 [22:22<00:00,  1.26s/it]"
     ]
    },
    {
     "name": "stdout",
     "output_type": "stream",
     "text": [
      "Epoch 14: 100%, loss: 1.274306\n"
     ]
    },
    {
     "name": "stderr",
     "output_type": "stream",
     "text": [
      "\n"
     ]
    },
    {
     "name": "stdout",
     "output_type": "stream",
     "text": [
      "                      (F1-score: 0.0445, Precision: 0.0441, Recall: 0.0515)\n",
      "\n",
      "                      (NDCG: 0.0426)\n",
      "\n",
      "                      (MAE: 3.9244)\n",
      "\n",
      "train_loss= tensor(2.7303)\n",
      "--------------------\n"
     ]
    },
    {
     "name": "stderr",
     "output_type": "stream",
     "text": [
      "100%|██████████| 133/133 [02:40<00:00,  1.21s/it]\n"
     ]
    },
    {
     "name": "stdout",
     "output_type": "stream",
     "text": [
      "                      (F1-score: 0.0409, Precision: 0.0446, Recall: 0.0432)\n",
      "\n",
      "                      (NDCG: 0.0391)\n",
      "\n",
      "                      (MAE: 3.9145)\n",
      "\n",
      "val_loss= tensor(2.9520)\n",
      "--------------------\n"
     ]
    },
    {
     "name": "stderr",
     "output_type": "stream",
     "text": [
      "100%|██████████| 133/133 [02:39<00:00,  1.20s/it]\n"
     ]
    },
    {
     "name": "stdout",
     "output_type": "stream",
     "text": [
      "                      (F1-score: 0.0491, Precision: 0.0512, Recall: 0.0538)\n",
      "\n",
      "                      (NDCG: 0.0460)\n",
      "\n",
      "                      (MAE: 3.8412)\n",
      "\n",
      "--------------------\n",
      "[[1, 0.014057011557940318, 0.01188785706283494, 0.011823946496057954, 0.01179059028373401, 4.078947368421052, 3.127652406692505], [2, 0.012395469401375309, 0.009105865923231022, 0.00977901920204689, 0.010618062558604922, 4.277255639097745, 3.012655735015869], [3, 0.022246495218667492, 0.01619511702540867, 0.017449494024516916, 0.020838153247434394, 4.348684210526316, 3.027646064758301], [4, 0.026692771779414103, 0.02158336819576314, 0.0223394388637506, 0.027247424719722142, 3.9483082706766917, 2.8979482650756836], [5, 0.04506514914615341, 0.03314819428784197, 0.03568033567884178, 0.03590964992124503, 4.302631578947368, 2.9078378677368164], [6, 0.053893801072998244, 0.0467627832103548, 0.046929541661401786, 0.04427988932439987, 3.9031954887218046, 2.815546989440918], [7, 0.05616548915759136, 0.04771199572262012, 0.048305158562770636, 0.044781315627970025, 3.933270676691729, 2.808995485305786], [8, 0.05745805355945136, 0.04975830399311858, 0.04982252100961023, 0.04586496945256997, 3.8778195488721803, 2.7896313667297363], [9, 0.05423260471329658, 0.050656984034630516, 0.048928625610274765, 0.045732122892338814, 3.816729323308271, 2.960042953491211], [10, 0.05709393810374558, 0.049515773334901515, 0.049531901981052846, 0.04588587948688327, 3.8975563909774436, 2.810199022293091], [11, 0.059648740596383, 0.04416855712742466, 0.04753382714728831, 0.04399852613704909, 4.265037593984962, 2.859423875808716], [12, 0.05686059493831192, 0.0497922618008767, 0.04963999029983107, 0.0460727807498516, 3.8402255639097747, 2.790591239929199], [13, 0.05973176586726776, 0.05055683827373657, 0.051202158119456075, 0.046863126137847065, 3.9906015037593985, 2.772787094116211], [14, 0.05378825012987865, 0.05122353787061715, 0.04905817882356818, 0.046044715171630834, 3.8411654135338344, 2.8724849224090576]]\n",
      "-----------------------------------------------------------------------------------------\n"
     ]
    },
    {
     "name": "stderr",
     "output_type": "stream",
     "text": [
      "  0%|          | 1/1065 [00:01<23:04,  1.30s/it]"
     ]
    },
    {
     "name": "stdout",
     "output_type": "stream",
     "text": [
      "Epoch 15: 0%, loss: 0.957289\n"
     ]
    },
    {
     "name": "stderr",
     "output_type": "stream",
     "text": [
      "  9%|▉         | 101/1065 [02:04<19:49,  1.23s/it]"
     ]
    },
    {
     "name": "stdout",
     "output_type": "stream",
     "text": [
      "Epoch 15: 9%, loss: 0.407696\n"
     ]
    },
    {
     "name": "stderr",
     "output_type": "stream",
     "text": [
      " 19%|█▉        | 201/1065 [04:07<17:58,  1.25s/it]"
     ]
    },
    {
     "name": "stdout",
     "output_type": "stream",
     "text": [
      "Epoch 15: 19%, loss: 0.828546\n"
     ]
    },
    {
     "name": "stderr",
     "output_type": "stream",
     "text": [
      " 28%|██▊       | 301/1065 [06:12<15:50,  1.24s/it]"
     ]
    },
    {
     "name": "stdout",
     "output_type": "stream",
     "text": [
      "Epoch 15: 28%, loss: 1.253192\n"
     ]
    },
    {
     "name": "stderr",
     "output_type": "stream",
     "text": [
      " 38%|███▊      | 401/1065 [08:16<13:39,  1.23s/it]"
     ]
    },
    {
     "name": "stdout",
     "output_type": "stream",
     "text": [
      "Epoch 15: 38%, loss: 3.935008\n"
     ]
    },
    {
     "name": "stderr",
     "output_type": "stream",
     "text": [
      " 47%|████▋     | 501/1065 [10:22<11:44,  1.25s/it]"
     ]
    },
    {
     "name": "stdout",
     "output_type": "stream",
     "text": [
      "Epoch 15: 47%, loss: 1.472639\n"
     ]
    },
    {
     "name": "stderr",
     "output_type": "stream",
     "text": [
      " 56%|█████▋    | 601/1065 [12:29<09:43,  1.26s/it]"
     ]
    },
    {
     "name": "stdout",
     "output_type": "stream",
     "text": [
      "Epoch 15: 56%, loss: 1.381518\n"
     ]
    },
    {
     "name": "stderr",
     "output_type": "stream",
     "text": [
      " 66%|██████▌   | 701/1065 [14:37<07:46,  1.28s/it]"
     ]
    },
    {
     "name": "stdout",
     "output_type": "stream",
     "text": [
      "Epoch 15: 66%, loss: 1.229166\n"
     ]
    },
    {
     "name": "stderr",
     "output_type": "stream",
     "text": [
      " 75%|███████▌  | 801/1065 [16:44<05:40,  1.29s/it]"
     ]
    },
    {
     "name": "stdout",
     "output_type": "stream",
     "text": [
      "Epoch 15: 75%, loss: 0.908020\n"
     ]
    },
    {
     "name": "stderr",
     "output_type": "stream",
     "text": [
      " 85%|████████▍ | 901/1065 [18:52<03:26,  1.26s/it]"
     ]
    },
    {
     "name": "stdout",
     "output_type": "stream",
     "text": [
      "Epoch 15: 85%, loss: 1.025280\n"
     ]
    },
    {
     "name": "stderr",
     "output_type": "stream",
     "text": [
      " 94%|█████████▍| 1001/1065 [21:02<01:23,  1.30s/it]"
     ]
    },
    {
     "name": "stdout",
     "output_type": "stream",
     "text": [
      "Epoch 15: 94%, loss: 1.089610\n"
     ]
    },
    {
     "name": "stderr",
     "output_type": "stream",
     "text": [
      "100%|██████████| 1065/1065 [22:25<00:00,  1.26s/it]"
     ]
    },
    {
     "name": "stdout",
     "output_type": "stream",
     "text": [
      "Epoch 15: 100%, loss: 0.507041\n"
     ]
    },
    {
     "name": "stderr",
     "output_type": "stream",
     "text": [
      "\n"
     ]
    },
    {
     "name": "stdout",
     "output_type": "stream",
     "text": [
      "                      (F1-score: 0.0445, Precision: 0.0443, Recall: 0.0513)\n",
      "\n",
      "                      (NDCG: 0.0425)\n",
      "\n",
      "                      (MAE: 3.9053)\n",
      "\n",
      "train_loss= tensor(2.7044)\n",
      "--------------------\n"
     ]
    },
    {
     "name": "stderr",
     "output_type": "stream",
     "text": [
      "100%|██████████| 133/133 [02:40<00:00,  1.20s/it]\n"
     ]
    },
    {
     "name": "stdout",
     "output_type": "stream",
     "text": [
      "                      (F1-score: 0.0409, Precision: 0.0427, Recall: 0.0455)\n",
      "\n",
      "                      (NDCG: 0.0392)\n",
      "\n",
      "                      (MAE: 4.0000)\n",
      "\n",
      "val_loss= tensor(2.7954)\n",
      "--------------------\n"
     ]
    },
    {
     "name": "stderr",
     "output_type": "stream",
     "text": [
      "100%|██████████| 133/133 [02:40<00:00,  1.20s/it]\n"
     ]
    },
    {
     "name": "stdout",
     "output_type": "stream",
     "text": [
      "                      (F1-score: 0.0504, Precision: 0.0505, Recall: 0.0583)\n",
      "\n",
      "                      (NDCG: 0.0466)\n",
      "\n",
      "                      (MAE: 3.9868)\n",
      "\n",
      "--------------------\n",
      "[[1, 0.014057011557940318, 0.01188785706283494, 0.011823946496057954, 0.01179059028373401, 4.078947368421052, 3.127652406692505], [2, 0.012395469401375309, 0.009105865923231022, 0.00977901920204689, 0.010618062558604922, 4.277255639097745, 3.012655735015869], [3, 0.022246495218667492, 0.01619511702540867, 0.017449494024516916, 0.020838153247434394, 4.348684210526316, 3.027646064758301], [4, 0.026692771779414103, 0.02158336819576314, 0.0223394388637506, 0.027247424719722142, 3.9483082706766917, 2.8979482650756836], [5, 0.04506514914615341, 0.03314819428784197, 0.03568033567884178, 0.03590964992124503, 4.302631578947368, 2.9078378677368164], [6, 0.053893801072998244, 0.0467627832103548, 0.046929541661401786, 0.04427988932439987, 3.9031954887218046, 2.815546989440918], [7, 0.05616548915759136, 0.04771199572262012, 0.048305158562770636, 0.044781315627970025, 3.933270676691729, 2.808995485305786], [8, 0.05745805355945136, 0.04975830399311858, 0.04982252100961023, 0.04586496945256997, 3.8778195488721803, 2.7896313667297363], [9, 0.05423260471329658, 0.050656984034630516, 0.048928625610274765, 0.045732122892338814, 3.816729323308271, 2.960042953491211], [10, 0.05709393810374558, 0.049515773334901515, 0.049531901981052846, 0.04588587948688327, 3.8975563909774436, 2.810199022293091], [11, 0.059648740596383, 0.04416855712742466, 0.04753382714728831, 0.04399852613704909, 4.265037593984962, 2.859423875808716], [12, 0.05686059493831192, 0.0497922618008767, 0.04963999029983107, 0.0460727807498516, 3.8402255639097747, 2.790591239929199], [13, 0.05973176586726776, 0.05055683827373657, 0.051202158119456075, 0.046863126137847065, 3.9906015037593985, 2.772787094116211], [14, 0.05378825012987865, 0.05122353787061715, 0.04905817882356818, 0.046044715171630834, 3.8411654135338344, 2.8724849224090576], [15, 0.05830704366674003, 0.05049485918720984, 0.05039352374359368, 0.04656124440077832, 3.986842105263158, 2.790656089782715]]\n",
      "-----------------------------------------------------------------------------------------\n"
     ]
    },
    {
     "name": "stderr",
     "output_type": "stream",
     "text": [
      "  0%|          | 1/1065 [00:01<25:04,  1.41s/it]"
     ]
    },
    {
     "name": "stdout",
     "output_type": "stream",
     "text": [
      "Epoch 16: 0%, loss: 1.378028\n"
     ]
    },
    {
     "name": "stderr",
     "output_type": "stream",
     "text": [
      "  9%|▉         | 101/1065 [02:04<19:25,  1.21s/it]"
     ]
    },
    {
     "name": "stdout",
     "output_type": "stream",
     "text": [
      "Epoch 16: 9%, loss: 3.775158\n"
     ]
    },
    {
     "name": "stderr",
     "output_type": "stream",
     "text": [
      " 19%|█▉        | 201/1065 [04:07<17:22,  1.21s/it]"
     ]
    },
    {
     "name": "stdout",
     "output_type": "stream",
     "text": [
      "Epoch 16: 19%, loss: 1.298550\n"
     ]
    },
    {
     "name": "stderr",
     "output_type": "stream",
     "text": [
      " 28%|██▊       | 301/1065 [06:11<15:33,  1.22s/it]"
     ]
    },
    {
     "name": "stdout",
     "output_type": "stream",
     "text": [
      "Epoch 16: 28%, loss: 0.952916\n"
     ]
    },
    {
     "name": "stderr",
     "output_type": "stream",
     "text": [
      " 38%|███▊      | 401/1065 [08:16<14:28,  1.31s/it]"
     ]
    },
    {
     "name": "stdout",
     "output_type": "stream",
     "text": [
      "Epoch 16: 38%, loss: 1.019816\n"
     ]
    },
    {
     "name": "stderr",
     "output_type": "stream",
     "text": [
      " 47%|████▋     | 501/1065 [10:22<12:04,  1.29s/it]"
     ]
    },
    {
     "name": "stdout",
     "output_type": "stream",
     "text": [
      "Epoch 16: 47%, loss: 1.019274\n"
     ]
    },
    {
     "name": "stderr",
     "output_type": "stream",
     "text": [
      " 56%|█████▋    | 601/1065 [12:29<09:47,  1.27s/it]"
     ]
    },
    {
     "name": "stdout",
     "output_type": "stream",
     "text": [
      "Epoch 16: 56%, loss: 1.026592\n"
     ]
    },
    {
     "name": "stderr",
     "output_type": "stream",
     "text": [
      " 66%|██████▌   | 701/1065 [14:36<07:44,  1.27s/it]"
     ]
    },
    {
     "name": "stdout",
     "output_type": "stream",
     "text": [
      "Epoch 16: 66%, loss: 1.184062\n"
     ]
    },
    {
     "name": "stderr",
     "output_type": "stream",
     "text": [
      " 75%|███████▌  | 801/1065 [16:43<05:41,  1.29s/it]"
     ]
    },
    {
     "name": "stdout",
     "output_type": "stream",
     "text": [
      "Epoch 16: 75%, loss: 5.257991\n"
     ]
    },
    {
     "name": "stderr",
     "output_type": "stream",
     "text": [
      " 85%|████████▍ | 901/1065 [18:51<03:31,  1.29s/it]"
     ]
    },
    {
     "name": "stdout",
     "output_type": "stream",
     "text": [
      "Epoch 16: 85%, loss: 4.441944\n"
     ]
    },
    {
     "name": "stderr",
     "output_type": "stream",
     "text": [
      " 94%|█████████▍| 1001/1065 [21:00<01:21,  1.27s/it]"
     ]
    },
    {
     "name": "stdout",
     "output_type": "stream",
     "text": [
      "Epoch 16: 94%, loss: 2.886239\n"
     ]
    },
    {
     "name": "stderr",
     "output_type": "stream",
     "text": [
      "100%|██████████| 1065/1065 [22:23<00:00,  1.26s/it]"
     ]
    },
    {
     "name": "stdout",
     "output_type": "stream",
     "text": [
      "Epoch 16: 100%, loss: 0.580100\n"
     ]
    },
    {
     "name": "stderr",
     "output_type": "stream",
     "text": [
      "\n"
     ]
    },
    {
     "name": "stdout",
     "output_type": "stream",
     "text": [
      "                      (F1-score: 0.0452, Precision: 0.0452, Recall: 0.0518)\n",
      "\n",
      "                      (NDCG: 0.0431)\n",
      "\n",
      "                      (MAE: 3.8847)\n",
      "\n",
      "train_loss= tensor(2.6801)\n",
      "--------------------\n"
     ]
    },
    {
     "name": "stderr",
     "output_type": "stream",
     "text": [
      "100%|██████████| 133/133 [02:40<00:00,  1.21s/it]\n"
     ]
    },
    {
     "name": "stdout",
     "output_type": "stream",
     "text": [
      "                      (F1-score: 0.0402, Precision: 0.0431, Recall: 0.0436)\n",
      "\n",
      "                      (NDCG: 0.0387)\n",
      "\n",
      "                      (MAE: 3.9699)\n",
      "\n",
      "val_loss= tensor(2.8357)\n",
      "--------------------\n"
     ]
    },
    {
     "name": "stderr",
     "output_type": "stream",
     "text": [
      "100%|██████████| 133/133 [02:39<00:00,  1.20s/it]\n"
     ]
    },
    {
     "name": "stdout",
     "output_type": "stream",
     "text": [
      "                      (F1-score: 0.0508, Precision: 0.0521, Recall: 0.0566)\n",
      "\n",
      "                      (NDCG: 0.0472)\n",
      "\n",
      "                      (MAE: 3.9088)\n",
      "\n",
      "--------------------\n",
      "[[1, 0.014057011557940318, 0.01188785706283494, 0.011823946496057954, 0.01179059028373401, 4.078947368421052, 3.127652406692505], [2, 0.012395469401375309, 0.009105865923231022, 0.00977901920204689, 0.010618062558604922, 4.277255639097745, 3.012655735015869], [3, 0.022246495218667492, 0.01619511702540867, 0.017449494024516916, 0.020838153247434394, 4.348684210526316, 3.027646064758301], [4, 0.026692771779414103, 0.02158336819576314, 0.0223394388637506, 0.027247424719722142, 3.9483082706766917, 2.8979482650756836], [5, 0.04506514914615341, 0.03314819428784197, 0.03568033567884178, 0.03590964992124503, 4.302631578947368, 2.9078378677368164], [6, 0.053893801072998244, 0.0467627832103548, 0.046929541661401786, 0.04427988932439987, 3.9031954887218046, 2.815546989440918], [7, 0.05616548915759136, 0.04771199572262012, 0.048305158562770636, 0.044781315627970025, 3.933270676691729, 2.808995485305786], [8, 0.05745805355945136, 0.04975830399311858, 0.04982252100961023, 0.04586496945256997, 3.8778195488721803, 2.7896313667297363], [9, 0.05423260471329658, 0.050656984034630516, 0.048928625610274765, 0.045732122892338814, 3.816729323308271, 2.960042953491211], [10, 0.05709393810374558, 0.049515773334901515, 0.049531901981052846, 0.04588587948688327, 3.8975563909774436, 2.810199022293091], [11, 0.059648740596383, 0.04416855712742466, 0.04753382714728831, 0.04399852613704909, 4.265037593984962, 2.859423875808716], [12, 0.05686059493831192, 0.0497922618008767, 0.04963999029983107, 0.0460727807498516, 3.8402255639097747, 2.790591239929199], [13, 0.05973176586726776, 0.05055683827373657, 0.051202158119456075, 0.046863126137847065, 3.9906015037593985, 2.772787094116211], [14, 0.05378825012987865, 0.05122353787061715, 0.04905817882356818, 0.046044715171630834, 3.8411654135338344, 2.8724849224090576], [15, 0.05830704366674003, 0.05049485918720984, 0.05039352374359368, 0.04656124440077832, 3.986842105263158, 2.790656089782715], [16, 0.05659572383098926, 0.05212217812213477, 0.05076396857046939, 0.04717301690243745, 3.9088345864661656, 2.7989583015441895]]\n",
      "-----------------------------------------------------------------------------------------\n"
     ]
    },
    {
     "name": "stderr",
     "output_type": "stream",
     "text": [
      "  0%|          | 1/1065 [00:01<23:49,  1.34s/it]"
     ]
    },
    {
     "name": "stdout",
     "output_type": "stream",
     "text": [
      "Epoch 17: 0%, loss: 0.500716\n"
     ]
    },
    {
     "name": "stderr",
     "output_type": "stream",
     "text": [
      "  9%|▉         | 101/1065 [02:03<19:44,  1.23s/it]"
     ]
    },
    {
     "name": "stdout",
     "output_type": "stream",
     "text": [
      "Epoch 17: 9%, loss: 2.667050\n"
     ]
    },
    {
     "name": "stderr",
     "output_type": "stream",
     "text": [
      " 19%|█▉        | 201/1065 [04:06<17:18,  1.20s/it]"
     ]
    },
    {
     "name": "stdout",
     "output_type": "stream",
     "text": [
      "Epoch 17: 19%, loss: 1.179928\n"
     ]
    },
    {
     "name": "stderr",
     "output_type": "stream",
     "text": [
      " 28%|██▊       | 301/1065 [06:10<15:44,  1.24s/it]"
     ]
    },
    {
     "name": "stdout",
     "output_type": "stream",
     "text": [
      "Epoch 17: 28%, loss: 2.522656\n"
     ]
    },
    {
     "name": "stderr",
     "output_type": "stream",
     "text": [
      " 38%|███▊      | 401/1065 [08:14<13:42,  1.24s/it]"
     ]
    },
    {
     "name": "stdout",
     "output_type": "stream",
     "text": [
      "Epoch 17: 38%, loss: 2.576978\n"
     ]
    },
    {
     "name": "stderr",
     "output_type": "stream",
     "text": [
      " 47%|████▋     | 501/1065 [10:20<11:47,  1.26s/it]"
     ]
    },
    {
     "name": "stdout",
     "output_type": "stream",
     "text": [
      "Epoch 17: 47%, loss: 0.780747\n"
     ]
    },
    {
     "name": "stderr",
     "output_type": "stream",
     "text": [
      " 56%|█████▋    | 601/1065 [12:26<09:46,  1.26s/it]"
     ]
    },
    {
     "name": "stdout",
     "output_type": "stream",
     "text": [
      "Epoch 17: 56%, loss: 3.918719\n"
     ]
    },
    {
     "name": "stderr",
     "output_type": "stream",
     "text": [
      " 66%|██████▌   | 701/1065 [14:34<07:45,  1.28s/it]"
     ]
    },
    {
     "name": "stdout",
     "output_type": "stream",
     "text": [
      "Epoch 17: 66%, loss: 3.916381\n"
     ]
    },
    {
     "name": "stderr",
     "output_type": "stream",
     "text": [
      " 75%|███████▌  | 801/1065 [16:42<05:41,  1.29s/it]"
     ]
    },
    {
     "name": "stdout",
     "output_type": "stream",
     "text": [
      "Epoch 17: 75%, loss: 1.515718\n"
     ]
    },
    {
     "name": "stderr",
     "output_type": "stream",
     "text": [
      " 85%|████████▍ | 901/1065 [18:50<03:28,  1.27s/it]"
     ]
    },
    {
     "name": "stdout",
     "output_type": "stream",
     "text": [
      "Epoch 17: 85%, loss: 2.166719\n"
     ]
    },
    {
     "name": "stderr",
     "output_type": "stream",
     "text": [
      " 94%|█████████▍| 1001/1065 [20:59<01:24,  1.32s/it]"
     ]
    },
    {
     "name": "stdout",
     "output_type": "stream",
     "text": [
      "Epoch 17: 94%, loss: 4.868767\n"
     ]
    },
    {
     "name": "stderr",
     "output_type": "stream",
     "text": [
      "100%|██████████| 1065/1065 [22:23<00:00,  1.26s/it]"
     ]
    },
    {
     "name": "stdout",
     "output_type": "stream",
     "text": [
      "Epoch 17: 100%, loss: 2.317985\n"
     ]
    },
    {
     "name": "stderr",
     "output_type": "stream",
     "text": [
      "\n"
     ]
    },
    {
     "name": "stdout",
     "output_type": "stream",
     "text": [
      "                      (F1-score: 0.0450, Precision: 0.0451, Recall: 0.0514)\n",
      "\n",
      "                      (NDCG: 0.0432)\n",
      "\n",
      "                      (MAE: 3.8404)\n",
      "\n",
      "train_loss= tensor(2.6145)\n",
      "--------------------\n"
     ]
    },
    {
     "name": "stderr",
     "output_type": "stream",
     "text": [
      "100%|██████████| 133/133 [02:40<00:00,  1.21s/it]\n"
     ]
    },
    {
     "name": "stdout",
     "output_type": "stream",
     "text": [
      "                      (F1-score: 0.0403, Precision: 0.0411, Recall: 0.0459)\n",
      "\n",
      "                      (NDCG: 0.0392)\n",
      "\n",
      "                      (MAE: 4.0714)\n",
      "\n",
      "val_loss= tensor(2.8250)\n",
      "--------------------\n"
     ]
    },
    {
     "name": "stderr",
     "output_type": "stream",
     "text": [
      "100%|██████████| 133/133 [02:39<00:00,  1.20s/it]\n"
     ]
    },
    {
     "name": "stdout",
     "output_type": "stream",
     "text": [
      "                      (F1-score: 0.0487, Precision: 0.0477, Recall: 0.0572)\n",
      "\n",
      "                      (NDCG: 0.0457)\n",
      "\n",
      "                      (MAE: 4.1128)\n",
      "\n",
      "--------------------\n",
      "[[1, 0.014057011557940318, 0.01188785706283494, 0.011823946496057954, 0.01179059028373401, 4.078947368421052, 3.127652406692505], [2, 0.012395469401375309, 0.009105865923231022, 0.00977901920204689, 0.010618062558604922, 4.277255639097745, 3.012655735015869], [3, 0.022246495218667492, 0.01619511702540867, 0.017449494024516916, 0.020838153247434394, 4.348684210526316, 3.027646064758301], [4, 0.026692771779414103, 0.02158336819576314, 0.0223394388637506, 0.027247424719722142, 3.9483082706766917, 2.8979482650756836], [5, 0.04506514914615341, 0.03314819428784197, 0.03568033567884178, 0.03590964992124503, 4.302631578947368, 2.9078378677368164], [6, 0.053893801072998244, 0.0467627832103548, 0.046929541661401786, 0.04427988932439987, 3.9031954887218046, 2.815546989440918], [7, 0.05616548915759136, 0.04771199572262012, 0.048305158562770636, 0.044781315627970025, 3.933270676691729, 2.808995485305786], [8, 0.05745805355945136, 0.04975830399311858, 0.04982252100961023, 0.04586496945256997, 3.8778195488721803, 2.7896313667297363], [9, 0.05423260471329658, 0.050656984034630516, 0.048928625610274765, 0.045732122892338814, 3.816729323308271, 2.960042953491211], [10, 0.05709393810374558, 0.049515773334901515, 0.049531901981052846, 0.04588587948688327, 3.8975563909774436, 2.810199022293091], [11, 0.059648740596383, 0.04416855712742466, 0.04753382714728831, 0.04399852613704909, 4.265037593984962, 2.859423875808716], [12, 0.05686059493831192, 0.0497922618008767, 0.04963999029983107, 0.0460727807498516, 3.8402255639097747, 2.790591239929199], [13, 0.05973176586726776, 0.05055683827373657, 0.051202158119456075, 0.046863126137847065, 3.9906015037593985, 2.772787094116211], [14, 0.05378825012987865, 0.05122353787061715, 0.04905817882356818, 0.046044715171630834, 3.8411654135338344, 2.8724849224090576], [15, 0.05830704366674003, 0.05049485918720984, 0.05039352374359368, 0.04656124440077832, 3.986842105263158, 2.790656089782715], [16, 0.05659572383098926, 0.05212217812213477, 0.05076396857046939, 0.04717301690243745, 3.9088345864661656, 2.7989583015441895], [17, 0.05720469749190894, 0.047654949676506075, 0.04867598266811978, 0.04569721706404133, 4.112781954887218, 2.8648223876953125]]\n",
      "-----------------------------------------------------------------------------------------\n"
     ]
    },
    {
     "name": "stderr",
     "output_type": "stream",
     "text": [
      "  0%|          | 1/1065 [00:01<26:39,  1.50s/it]"
     ]
    },
    {
     "name": "stdout",
     "output_type": "stream",
     "text": [
      "Epoch 18: 0%, loss: 1.391970\n"
     ]
    },
    {
     "name": "stderr",
     "output_type": "stream",
     "text": [
      "  9%|▉         | 101/1065 [02:03<19:59,  1.24s/it]"
     ]
    },
    {
     "name": "stdout",
     "output_type": "stream",
     "text": [
      "Epoch 18: 9%, loss: 6.506618\n"
     ]
    },
    {
     "name": "stderr",
     "output_type": "stream",
     "text": [
      " 19%|█▉        | 201/1065 [04:06<17:45,  1.23s/it]"
     ]
    },
    {
     "name": "stdout",
     "output_type": "stream",
     "text": [
      "Epoch 18: 19%, loss: 3.383381\n"
     ]
    },
    {
     "name": "stderr",
     "output_type": "stream",
     "text": [
      " 28%|██▊       | 301/1065 [06:10<15:53,  1.25s/it]"
     ]
    },
    {
     "name": "stdout",
     "output_type": "stream",
     "text": [
      "Epoch 18: 28%, loss: 13.475904\n"
     ]
    },
    {
     "name": "stderr",
     "output_type": "stream",
     "text": [
      " 38%|███▊      | 401/1065 [08:15<13:58,  1.26s/it]"
     ]
    },
    {
     "name": "stdout",
     "output_type": "stream",
     "text": [
      "Epoch 18: 38%, loss: 1.200320\n"
     ]
    },
    {
     "name": "stderr",
     "output_type": "stream",
     "text": [
      " 47%|████▋     | 501/1065 [10:21<11:49,  1.26s/it]"
     ]
    },
    {
     "name": "stdout",
     "output_type": "stream",
     "text": [
      "Epoch 18: 47%, loss: 5.582308\n"
     ]
    },
    {
     "name": "stderr",
     "output_type": "stream",
     "text": [
      " 56%|█████▋    | 601/1065 [12:29<09:56,  1.29s/it]"
     ]
    },
    {
     "name": "stdout",
     "output_type": "stream",
     "text": [
      "Epoch 18: 56%, loss: 2.920367\n"
     ]
    },
    {
     "name": "stderr",
     "output_type": "stream",
     "text": [
      " 66%|██████▌   | 701/1065 [14:36<07:45,  1.28s/it]"
     ]
    },
    {
     "name": "stdout",
     "output_type": "stream",
     "text": [
      "Epoch 18: 66%, loss: 2.077744\n"
     ]
    },
    {
     "name": "stderr",
     "output_type": "stream",
     "text": [
      " 75%|███████▌  | 801/1065 [16:44<05:41,  1.29s/it]"
     ]
    },
    {
     "name": "stdout",
     "output_type": "stream",
     "text": [
      "Epoch 18: 75%, loss: 2.558185\n"
     ]
    },
    {
     "name": "stderr",
     "output_type": "stream",
     "text": [
      " 85%|████████▍ | 901/1065 [18:52<03:28,  1.27s/it]"
     ]
    },
    {
     "name": "stdout",
     "output_type": "stream",
     "text": [
      "Epoch 18: 85%, loss: 2.872593\n"
     ]
    },
    {
     "name": "stderr",
     "output_type": "stream",
     "text": [
      " 94%|█████████▍| 1001/1065 [21:01<01:22,  1.29s/it]"
     ]
    },
    {
     "name": "stdout",
     "output_type": "stream",
     "text": [
      "Epoch 18: 94%, loss: 1.974306\n"
     ]
    },
    {
     "name": "stderr",
     "output_type": "stream",
     "text": [
      "100%|██████████| 1065/1065 [22:24<00:00,  1.26s/it]"
     ]
    },
    {
     "name": "stdout",
     "output_type": "stream",
     "text": [
      "Epoch 18: 100%, loss: 8.183610\n"
     ]
    },
    {
     "name": "stderr",
     "output_type": "stream",
     "text": [
      "\n"
     ]
    },
    {
     "name": "stdout",
     "output_type": "stream",
     "text": [
      "                      (F1-score: 0.0457, Precision: 0.0460, Recall: 0.0521)\n",
      "\n",
      "                      (NDCG: 0.0434)\n",
      "\n",
      "                      (MAE: 3.8080)\n",
      "\n",
      "train_loss= tensor(2.6125)\n",
      "--------------------\n"
     ]
    },
    {
     "name": "stderr",
     "output_type": "stream",
     "text": [
      "100%|██████████| 133/133 [02:40<00:00,  1.21s/it]\n"
     ]
    },
    {
     "name": "stdout",
     "output_type": "stream",
     "text": [
      "                      (F1-score: 0.0403, Precision: 0.0415, Recall: 0.0454)\n",
      "\n",
      "                      (NDCG: 0.0386)\n",
      "\n",
      "                      (MAE: 4.1222)\n",
      "\n",
      "val_loss= tensor(2.8464)\n",
      "--------------------\n"
     ]
    },
    {
     "name": "stderr",
     "output_type": "stream",
     "text": [
      "100%|██████████| 133/133 [02:40<00:00,  1.20s/it]\n"
     ]
    },
    {
     "name": "stdout",
     "output_type": "stream",
     "text": [
      "                      (F1-score: 0.0491, Precision: 0.0491, Recall: 0.0570)\n",
      "\n",
      "                      (NDCG: 0.0458)\n",
      "\n",
      "                      (MAE: 4.1269)\n",
      "\n",
      "--------------------\n",
      "[[1, 0.014057011557940318, 0.01188785706283494, 0.011823946496057954, 0.01179059028373401, 4.078947368421052, 3.127652406692505], [2, 0.012395469401375309, 0.009105865923231022, 0.00977901920204689, 0.010618062558604922, 4.277255639097745, 3.012655735015869], [3, 0.022246495218667492, 0.01619511702540867, 0.017449494024516916, 0.020838153247434394, 4.348684210526316, 3.027646064758301], [4, 0.026692771779414103, 0.02158336819576314, 0.0223394388637506, 0.027247424719722142, 3.9483082706766917, 2.8979482650756836], [5, 0.04506514914615341, 0.03314819428784197, 0.03568033567884178, 0.03590964992124503, 4.302631578947368, 2.9078378677368164], [6, 0.053893801072998244, 0.0467627832103548, 0.046929541661401786, 0.04427988932439987, 3.9031954887218046, 2.815546989440918], [7, 0.05616548915759136, 0.04771199572262012, 0.048305158562770636, 0.044781315627970025, 3.933270676691729, 2.808995485305786], [8, 0.05745805355945136, 0.04975830399311858, 0.04982252100961023, 0.04586496945256997, 3.8778195488721803, 2.7896313667297363], [9, 0.05423260471329658, 0.050656984034630516, 0.048928625610274765, 0.045732122892338814, 3.816729323308271, 2.960042953491211], [10, 0.05709393810374558, 0.049515773334901515, 0.049531901981052846, 0.04588587948688327, 3.8975563909774436, 2.810199022293091], [11, 0.059648740596383, 0.04416855712742466, 0.04753382714728831, 0.04399852613704909, 4.265037593984962, 2.859423875808716], [12, 0.05686059493831192, 0.0497922618008767, 0.04963999029983107, 0.0460727807498516, 3.8402255639097747, 2.790591239929199], [13, 0.05973176586726776, 0.05055683827373657, 0.051202158119456075, 0.046863126137847065, 3.9906015037593985, 2.772787094116211], [14, 0.05378825012987865, 0.05122353787061715, 0.04905817882356818, 0.046044715171630834, 3.8411654135338344, 2.8724849224090576], [15, 0.05830704366674003, 0.05049485918720984, 0.05039352374359368, 0.04656124440077832, 3.986842105263158, 2.790656089782715], [16, 0.05659572383098926, 0.05212217812213477, 0.05076396857046939, 0.04717301690243745, 3.9088345864661656, 2.7989583015441895], [17, 0.05720469749190894, 0.047654949676506075, 0.04867598266811978, 0.04569721706404133, 4.112781954887218, 2.8648223876953125], [18, 0.05697821679153377, 0.04907357847886148, 0.04913477366710371, 0.04577196732380504, 4.1268796992481205, 2.857515811920166]]\n",
      "-----------------------------------------------------------------------------------------\n"
     ]
    },
    {
     "name": "stderr",
     "output_type": "stream",
     "text": [
      "  0%|          | 1/1065 [00:01<23:50,  1.34s/it]"
     ]
    },
    {
     "name": "stdout",
     "output_type": "stream",
     "text": [
      "Epoch 19: 0%, loss: 0.793433\n"
     ]
    },
    {
     "name": "stderr",
     "output_type": "stream",
     "text": [
      "  9%|▉         | 101/1065 [02:04<19:31,  1.22s/it]"
     ]
    },
    {
     "name": "stdout",
     "output_type": "stream",
     "text": [
      "Epoch 19: 9%, loss: 4.752044\n"
     ]
    },
    {
     "name": "stderr",
     "output_type": "stream",
     "text": [
      " 19%|█▉        | 201/1065 [04:07<17:51,  1.24s/it]"
     ]
    },
    {
     "name": "stdout",
     "output_type": "stream",
     "text": [
      "Epoch 19: 19%, loss: 1.497357\n"
     ]
    },
    {
     "name": "stderr",
     "output_type": "stream",
     "text": [
      " 28%|██▊       | 301/1065 [06:11<16:15,  1.28s/it]"
     ]
    },
    {
     "name": "stdout",
     "output_type": "stream",
     "text": [
      "Epoch 19: 28%, loss: 1.343218\n"
     ]
    },
    {
     "name": "stderr",
     "output_type": "stream",
     "text": [
      " 38%|███▊      | 401/1065 [08:16<13:56,  1.26s/it]"
     ]
    },
    {
     "name": "stdout",
     "output_type": "stream",
     "text": [
      "Epoch 19: 38%, loss: 1.125834\n"
     ]
    },
    {
     "name": "stderr",
     "output_type": "stream",
     "text": [
      " 47%|████▋     | 501/1065 [10:21<11:33,  1.23s/it]"
     ]
    },
    {
     "name": "stdout",
     "output_type": "stream",
     "text": [
      "Epoch 19: 47%, loss: 0.356478\n"
     ]
    },
    {
     "name": "stderr",
     "output_type": "stream",
     "text": [
      " 56%|█████▋    | 601/1065 [12:27<09:50,  1.27s/it]"
     ]
    },
    {
     "name": "stdout",
     "output_type": "stream",
     "text": [
      "Epoch 19: 56%, loss: 2.964206\n"
     ]
    },
    {
     "name": "stderr",
     "output_type": "stream",
     "text": [
      " 66%|██████▌   | 701/1065 [14:35<07:48,  1.29s/it]"
     ]
    },
    {
     "name": "stdout",
     "output_type": "stream",
     "text": [
      "Epoch 19: 66%, loss: 6.314782\n"
     ]
    },
    {
     "name": "stderr",
     "output_type": "stream",
     "text": [
      " 75%|███████▌  | 801/1065 [16:43<05:35,  1.27s/it]"
     ]
    },
    {
     "name": "stdout",
     "output_type": "stream",
     "text": [
      "Epoch 19: 75%, loss: 1.768617\n"
     ]
    },
    {
     "name": "stderr",
     "output_type": "stream",
     "text": [
      " 85%|████████▍ | 901/1065 [18:52<03:30,  1.28s/it]"
     ]
    },
    {
     "name": "stdout",
     "output_type": "stream",
     "text": [
      "Epoch 19: 85%, loss: 2.677372\n"
     ]
    },
    {
     "name": "stderr",
     "output_type": "stream",
     "text": [
      " 94%|█████████▍| 1001/1065 [21:00<01:23,  1.31s/it]"
     ]
    },
    {
     "name": "stdout",
     "output_type": "stream",
     "text": [
      "Epoch 19: 94%, loss: 0.330531\n"
     ]
    },
    {
     "name": "stderr",
     "output_type": "stream",
     "text": [
      "100%|██████████| 1065/1065 [22:23<00:00,  1.26s/it]"
     ]
    },
    {
     "name": "stdout",
     "output_type": "stream",
     "text": [
      "Epoch 19: 100%, loss: 0.505336\n"
     ]
    },
    {
     "name": "stderr",
     "output_type": "stream",
     "text": [
      "\n"
     ]
    },
    {
     "name": "stdout",
     "output_type": "stream",
     "text": [
      "                      (F1-score: 0.0465, Precision: 0.0470, Recall: 0.0526)\n",
      "\n",
      "                      (NDCG: 0.0442)\n",
      "\n",
      "                      (MAE: 3.7538)\n",
      "\n",
      "train_loss= tensor(2.5551)\n",
      "--------------------\n"
     ]
    },
    {
     "name": "stderr",
     "output_type": "stream",
     "text": [
      "100%|██████████| 133/133 [02:40<00:00,  1.21s/it]\n"
     ]
    },
    {
     "name": "stdout",
     "output_type": "stream",
     "text": [
      "                      (F1-score: 0.0379, Precision: 0.0382, Recall: 0.0441)\n",
      "\n",
      "                      (NDCG: 0.0371)\n",
      "\n",
      "                      (MAE: 4.1852)\n",
      "\n",
      "val_loss= tensor(2.9480)\n",
      "--------------------\n"
     ]
    },
    {
     "name": "stderr",
     "output_type": "stream",
     "text": [
      "100%|██████████| 133/133 [02:40<00:00,  1.20s/it]\n"
     ]
    },
    {
     "name": "stdout",
     "output_type": "stream",
     "text": [
      "                      (F1-score: 0.0478, Precision: 0.0467, Recall: 0.0572)\n",
      "\n",
      "                      (NDCG: 0.0450)\n",
      "\n",
      "                      (MAE: 4.2820)\n",
      "\n",
      "--------------------\n",
      "[[1, 0.014057011557940318, 0.01188785706283494, 0.011823946496057954, 0.01179059028373401, 4.078947368421052, 3.127652406692505], [2, 0.012395469401375309, 0.009105865923231022, 0.00977901920204689, 0.010618062558604922, 4.277255639097745, 3.012655735015869], [3, 0.022246495218667492, 0.01619511702540867, 0.017449494024516916, 0.020838153247434394, 4.348684210526316, 3.027646064758301], [4, 0.026692771779414103, 0.02158336819576314, 0.0223394388637506, 0.027247424719722142, 3.9483082706766917, 2.8979482650756836], [5, 0.04506514914615341, 0.03314819428784197, 0.03568033567884178, 0.03590964992124503, 4.302631578947368, 2.9078378677368164], [6, 0.053893801072998244, 0.0467627832103548, 0.046929541661401786, 0.04427988932439987, 3.9031954887218046, 2.815546989440918], [7, 0.05616548915759136, 0.04771199572262012, 0.048305158562770636, 0.044781315627970025, 3.933270676691729, 2.808995485305786], [8, 0.05745805355945136, 0.04975830399311858, 0.04982252100961023, 0.04586496945256997, 3.8778195488721803, 2.7896313667297363], [9, 0.05423260471329658, 0.050656984034630516, 0.048928625610274765, 0.045732122892338814, 3.816729323308271, 2.960042953491211], [10, 0.05709393810374558, 0.049515773334901515, 0.049531901981052846, 0.04588587948688327, 3.8975563909774436, 2.810199022293091], [11, 0.059648740596383, 0.04416855712742466, 0.04753382714728831, 0.04399852613704909, 4.265037593984962, 2.859423875808716], [12, 0.05686059493831192, 0.0497922618008767, 0.04963999029983107, 0.0460727807498516, 3.8402255639097747, 2.790591239929199], [13, 0.05973176586726776, 0.05055683827373657, 0.051202158119456075, 0.046863126137847065, 3.9906015037593985, 2.772787094116211], [14, 0.05378825012987865, 0.05122353787061715, 0.04905817882356818, 0.046044715171630834, 3.8411654135338344, 2.8724849224090576], [15, 0.05830704366674003, 0.05049485918720984, 0.05039352374359368, 0.04656124440077832, 3.986842105263158, 2.790656089782715], [16, 0.05659572383098926, 0.05212217812213477, 0.05076396857046939, 0.04717301690243745, 3.9088345864661656, 2.7989583015441895], [17, 0.05720469749190894, 0.047654949676506075, 0.04867598266811978, 0.04569721706404133, 4.112781954887218, 2.8648223876953125], [18, 0.05697821679153377, 0.04907357847886148, 0.04913477366710371, 0.04577196732380504, 4.1268796992481205, 2.857515811920166], [19, 0.057151721402578404, 0.046725092535465265, 0.047836739503265106, 0.045011717447997035, 4.2819548872180455, 2.97591233253479]]\n",
      "-----------------------------------------------------------------------------------------\n"
     ]
    },
    {
     "name": "stderr",
     "output_type": "stream",
     "text": [
      "  0%|          | 1/1065 [00:01<25:40,  1.45s/it]"
     ]
    },
    {
     "name": "stdout",
     "output_type": "stream",
     "text": [
      "Epoch 20: 0%, loss: 2.648317\n"
     ]
    },
    {
     "name": "stderr",
     "output_type": "stream",
     "text": [
      "  9%|▉         | 101/1065 [02:03<19:39,  1.22s/it]"
     ]
    },
    {
     "name": "stdout",
     "output_type": "stream",
     "text": [
      "Epoch 20: 9%, loss: 3.477657\n"
     ]
    },
    {
     "name": "stderr",
     "output_type": "stream",
     "text": [
      " 19%|█▉        | 201/1065 [04:06<17:19,  1.20s/it]"
     ]
    },
    {
     "name": "stdout",
     "output_type": "stream",
     "text": [
      "Epoch 20: 19%, loss: 2.379705\n"
     ]
    },
    {
     "name": "stderr",
     "output_type": "stream",
     "text": [
      " 28%|██▊       | 301/1065 [06:11<16:03,  1.26s/it]"
     ]
    },
    {
     "name": "stdout",
     "output_type": "stream",
     "text": [
      "Epoch 20: 28%, loss: 1.995757\n"
     ]
    },
    {
     "name": "stderr",
     "output_type": "stream",
     "text": [
      " 38%|███▊      | 401/1065 [08:16<13:54,  1.26s/it]"
     ]
    },
    {
     "name": "stdout",
     "output_type": "stream",
     "text": [
      "Epoch 20: 38%, loss: 3.432716\n"
     ]
    },
    {
     "name": "stderr",
     "output_type": "stream",
     "text": [
      " 47%|████▋     | 501/1065 [10:22<11:47,  1.25s/it]"
     ]
    },
    {
     "name": "stdout",
     "output_type": "stream",
     "text": [
      "Epoch 20: 47%, loss: 1.985920\n"
     ]
    },
    {
     "name": "stderr",
     "output_type": "stream",
     "text": [
      " 56%|█████▋    | 601/1065 [12:27<09:42,  1.26s/it]"
     ]
    },
    {
     "name": "stdout",
     "output_type": "stream",
     "text": [
      "Epoch 20: 56%, loss: 1.952511\n"
     ]
    },
    {
     "name": "stderr",
     "output_type": "stream",
     "text": [
      " 66%|██████▌   | 701/1065 [14:34<07:53,  1.30s/it]"
     ]
    },
    {
     "name": "stdout",
     "output_type": "stream",
     "text": [
      "Epoch 20: 66%, loss: 1.344196\n"
     ]
    },
    {
     "name": "stderr",
     "output_type": "stream",
     "text": [
      " 75%|███████▌  | 801/1065 [16:41<05:37,  1.28s/it]"
     ]
    },
    {
     "name": "stdout",
     "output_type": "stream",
     "text": [
      "Epoch 20: 75%, loss: 1.945728\n"
     ]
    },
    {
     "name": "stderr",
     "output_type": "stream",
     "text": [
      " 85%|████████▍ | 901/1065 [18:50<03:27,  1.27s/it]"
     ]
    },
    {
     "name": "stdout",
     "output_type": "stream",
     "text": [
      "Epoch 20: 85%, loss: 1.590945\n"
     ]
    },
    {
     "name": "stderr",
     "output_type": "stream",
     "text": [
      " 94%|█████████▍| 1001/1065 [21:00<01:25,  1.33s/it]"
     ]
    },
    {
     "name": "stdout",
     "output_type": "stream",
     "text": [
      "Epoch 20: 94%, loss: 1.769368\n"
     ]
    },
    {
     "name": "stderr",
     "output_type": "stream",
     "text": [
      "100%|██████████| 1065/1065 [22:23<00:00,  1.26s/it]"
     ]
    },
    {
     "name": "stdout",
     "output_type": "stream",
     "text": [
      "Epoch 20: 100%, loss: 0.863528\n"
     ]
    },
    {
     "name": "stderr",
     "output_type": "stream",
     "text": [
      "\n"
     ]
    },
    {
     "name": "stdout",
     "output_type": "stream",
     "text": [
      "                      (F1-score: 0.0461, Precision: 0.0466, Recall: 0.0518)\n",
      "\n",
      "                      (NDCG: 0.0443)\n",
      "\n",
      "                      (MAE: 3.6808)\n",
      "\n",
      "train_loss= tensor(2.4838)\n",
      "--------------------\n"
     ]
    },
    {
     "name": "stderr",
     "output_type": "stream",
     "text": [
      "100%|██████████| 133/133 [02:40<00:00,  1.21s/it]\n"
     ]
    },
    {
     "name": "stdout",
     "output_type": "stream",
     "text": [
      "                      (F1-score: 0.0388, Precision: 0.0429, Recall: 0.0422)\n",
      "\n",
      "                      (NDCG: 0.0374)\n",
      "\n",
      "                      (MAE: 4.2049)\n",
      "\n",
      "val_loss= tensor(3.0134)\n",
      "--------------------\n"
     ]
    },
    {
     "name": "stderr",
     "output_type": "stream",
     "text": [
      "100%|██████████| 133/133 [02:39<00:00,  1.20s/it]\n"
     ]
    },
    {
     "name": "stdout",
     "output_type": "stream",
     "text": [
      "                      (F1-score: 0.0508, Precision: 0.0548, Recall: 0.0560)\n",
      "\n",
      "                      (NDCG: 0.0460)\n",
      "\n",
      "                      (MAE: 4.2434)\n",
      "\n",
      "--------------------\n",
      "[[1, 0.014057011557940318, 0.01188785706283494, 0.011823946496057954, 0.01179059028373401, 4.078947368421052, 3.127652406692505], [2, 0.012395469401375309, 0.009105865923231022, 0.00977901920204689, 0.010618062558604922, 4.277255639097745, 3.012655735015869], [3, 0.022246495218667492, 0.01619511702540867, 0.017449494024516916, 0.020838153247434394, 4.348684210526316, 3.027646064758301], [4, 0.026692771779414103, 0.02158336819576314, 0.0223394388637506, 0.027247424719722142, 3.9483082706766917, 2.8979482650756836], [5, 0.04506514914615341, 0.03314819428784197, 0.03568033567884178, 0.03590964992124503, 4.302631578947368, 2.9078378677368164], [6, 0.053893801072998244, 0.0467627832103548, 0.046929541661401786, 0.04427988932439987, 3.9031954887218046, 2.815546989440918], [7, 0.05616548915759136, 0.04771199572262012, 0.048305158562770636, 0.044781315627970025, 3.933270676691729, 2.808995485305786], [8, 0.05745805355945136, 0.04975830399311858, 0.04982252100961023, 0.04586496945256997, 3.8778195488721803, 2.7896313667297363], [9, 0.05423260471329658, 0.050656984034630516, 0.048928625610274765, 0.045732122892338814, 3.816729323308271, 2.960042953491211], [10, 0.05709393810374558, 0.049515773334901515, 0.049531901981052846, 0.04588587948688327, 3.8975563909774436, 2.810199022293091], [11, 0.059648740596383, 0.04416855712742466, 0.04753382714728831, 0.04399852613704909, 4.265037593984962, 2.859423875808716], [12, 0.05686059493831192, 0.0497922618008767, 0.04963999029983107, 0.0460727807498516, 3.8402255639097747, 2.790591239929199], [13, 0.05973176586726776, 0.05055683827373657, 0.051202158119456075, 0.046863126137847065, 3.9906015037593985, 2.772787094116211], [14, 0.05378825012987865, 0.05122353787061715, 0.04905817882356818, 0.046044715171630834, 3.8411654135338344, 2.8724849224090576], [15, 0.05830704366674003, 0.05049485918720984, 0.05039352374359368, 0.04656124440077832, 3.986842105263158, 2.790656089782715], [16, 0.05659572383098926, 0.05212217812213477, 0.05076396857046939, 0.04717301690243745, 3.9088345864661656, 2.7989583015441895], [17, 0.05720469749190894, 0.047654949676506075, 0.04867598266811978, 0.04569721706404133, 4.112781954887218, 2.8648223876953125], [18, 0.05697821679153377, 0.04907357847886148, 0.04913477366710371, 0.04577196732380504, 4.1268796992481205, 2.857515811920166], [19, 0.057151721402578404, 0.046725092535465265, 0.047836739503265106, 0.045011717447997035, 4.2819548872180455, 2.97591233253479], [20, 0.05603787811653539, 0.0547794554018222, 0.050848615961972495, 0.04595219468718913, 4.243421052631579, 3.038745164871216]]\n",
      "-----------------------------------------------------------------------------------------\n"
     ]
    },
    {
     "name": "stderr",
     "output_type": "stream",
     "text": [
      "  0%|          | 1/1065 [00:01<23:29,  1.32s/it]"
     ]
    },
    {
     "name": "stdout",
     "output_type": "stream",
     "text": [
      "Epoch 21: 0%, loss: 1.128238\n"
     ]
    },
    {
     "name": "stderr",
     "output_type": "stream",
     "text": [
      "  9%|▉         | 101/1065 [02:03<19:58,  1.24s/it]"
     ]
    },
    {
     "name": "stdout",
     "output_type": "stream",
     "text": [
      "Epoch 21: 9%, loss: 11.044716\n"
     ]
    },
    {
     "name": "stderr",
     "output_type": "stream",
     "text": [
      " 19%|█▉        | 201/1065 [04:08<18:08,  1.26s/it]"
     ]
    },
    {
     "name": "stdout",
     "output_type": "stream",
     "text": [
      "Epoch 21: 19%, loss: 3.320926\n"
     ]
    },
    {
     "name": "stderr",
     "output_type": "stream",
     "text": [
      " 28%|██▊       | 301/1065 [06:11<15:34,  1.22s/it]"
     ]
    },
    {
     "name": "stdout",
     "output_type": "stream",
     "text": [
      "Epoch 21: 28%, loss: 1.241415\n"
     ]
    },
    {
     "name": "stderr",
     "output_type": "stream",
     "text": [
      " 38%|███▊      | 401/1065 [08:17<13:59,  1.26s/it]"
     ]
    },
    {
     "name": "stdout",
     "output_type": "stream",
     "text": [
      "Epoch 21: 38%, loss: 5.701211\n"
     ]
    },
    {
     "name": "stderr",
     "output_type": "stream",
     "text": [
      " 47%|████▋     | 501/1065 [10:23<11:46,  1.25s/it]"
     ]
    },
    {
     "name": "stdout",
     "output_type": "stream",
     "text": [
      "Epoch 21: 47%, loss: 1.709454\n"
     ]
    },
    {
     "name": "stderr",
     "output_type": "stream",
     "text": [
      " 56%|█████▋    | 601/1065 [12:29<10:04,  1.30s/it]"
     ]
    },
    {
     "name": "stdout",
     "output_type": "stream",
     "text": [
      "Epoch 21: 56%, loss: 0.492871\n"
     ]
    },
    {
     "name": "stderr",
     "output_type": "stream",
     "text": [
      " 66%|██████▌   | 701/1065 [14:36<07:44,  1.28s/it]"
     ]
    },
    {
     "name": "stdout",
     "output_type": "stream",
     "text": [
      "Epoch 21: 66%, loss: 1.771116\n"
     ]
    },
    {
     "name": "stderr",
     "output_type": "stream",
     "text": [
      " 75%|███████▌  | 801/1065 [16:44<05:36,  1.27s/it]"
     ]
    },
    {
     "name": "stdout",
     "output_type": "stream",
     "text": [
      "Epoch 21: 75%, loss: 3.919523\n"
     ]
    },
    {
     "name": "stderr",
     "output_type": "stream",
     "text": [
      " 85%|████████▍ | 901/1065 [18:53<03:35,  1.31s/it]"
     ]
    },
    {
     "name": "stdout",
     "output_type": "stream",
     "text": [
      "Epoch 21: 85%, loss: 0.799879\n"
     ]
    },
    {
     "name": "stderr",
     "output_type": "stream",
     "text": [
      " 94%|█████████▍| 1001/1065 [21:02<01:23,  1.30s/it]"
     ]
    },
    {
     "name": "stdout",
     "output_type": "stream",
     "text": [
      "Epoch 21: 94%, loss: 1.951233\n"
     ]
    },
    {
     "name": "stderr",
     "output_type": "stream",
     "text": [
      "100%|██████████| 1065/1065 [22:25<00:00,  1.26s/it]"
     ]
    },
    {
     "name": "stdout",
     "output_type": "stream",
     "text": [
      "Epoch 21: 100%, loss: 0.758155\n"
     ]
    },
    {
     "name": "stderr",
     "output_type": "stream",
     "text": [
      "\n"
     ]
    },
    {
     "name": "stdout",
     "output_type": "stream",
     "text": [
      "                      (F1-score: 0.0463, Precision: 0.0472, Recall: 0.0516)\n",
      "\n",
      "                      (NDCG: 0.0445)\n",
      "\n",
      "                      (MAE: 3.6014)\n",
      "\n",
      "train_loss= tensor(2.4169)\n",
      "--------------------\n"
     ]
    },
    {
     "name": "stderr",
     "output_type": "stream",
     "text": [
      "100%|██████████| 133/133 [02:40<00:00,  1.21s/it]\n"
     ]
    },
    {
     "name": "stdout",
     "output_type": "stream",
     "text": [
      "                      (F1-score: 0.0387, Precision: 0.0396, Recall: 0.0448)\n",
      "\n",
      "                      (NDCG: 0.0376)\n",
      "\n",
      "                      (MAE: 4.3543)\n",
      "\n",
      "val_loss= tensor(3.0380)\n",
      "--------------------\n"
     ]
    },
    {
     "name": "stderr",
     "output_type": "stream",
     "text": [
      "100%|██████████| 133/133 [02:40<00:00,  1.21s/it]\n"
     ]
    },
    {
     "name": "stdout",
     "output_type": "stream",
     "text": [
      "                      (F1-score: 0.0503, Precision: 0.0491, Recall: 0.0603)\n",
      "\n",
      "                      (NDCG: 0.0461)\n",
      "\n",
      "                      (MAE: 4.4474)\n",
      "\n",
      "--------------------\n",
      "[[1, 0.014057011557940318, 0.01188785706283494, 0.011823946496057954, 0.01179059028373401, 4.078947368421052, 3.127652406692505], [2, 0.012395469401375309, 0.009105865923231022, 0.00977901920204689, 0.010618062558604922, 4.277255639097745, 3.012655735015869], [3, 0.022246495218667492, 0.01619511702540867, 0.017449494024516916, 0.020838153247434394, 4.348684210526316, 3.027646064758301], [4, 0.026692771779414103, 0.02158336819576314, 0.0223394388637506, 0.027247424719722142, 3.9483082706766917, 2.8979482650756836], [5, 0.04506514914615341, 0.03314819428784197, 0.03568033567884178, 0.03590964992124503, 4.302631578947368, 2.9078378677368164], [6, 0.053893801072998244, 0.0467627832103548, 0.046929541661401786, 0.04427988932439987, 3.9031954887218046, 2.815546989440918], [7, 0.05616548915759136, 0.04771199572262012, 0.048305158562770636, 0.044781315627970025, 3.933270676691729, 2.808995485305786], [8, 0.05745805355945136, 0.04975830399311858, 0.04982252100961023, 0.04586496945256997, 3.8778195488721803, 2.7896313667297363], [9, 0.05423260471329658, 0.050656984034630516, 0.048928625610274765, 0.045732122892338814, 3.816729323308271, 2.960042953491211], [10, 0.05709393810374558, 0.049515773334901515, 0.049531901981052846, 0.04588587948688327, 3.8975563909774436, 2.810199022293091], [11, 0.059648740596383, 0.04416855712742466, 0.04753382714728831, 0.04399852613704909, 4.265037593984962, 2.859423875808716], [12, 0.05686059493831192, 0.0497922618008767, 0.04963999029983107, 0.0460727807498516, 3.8402255639097747, 2.790591239929199], [13, 0.05973176586726776, 0.05055683827373657, 0.051202158119456075, 0.046863126137847065, 3.9906015037593985, 2.772787094116211], [14, 0.05378825012987865, 0.05122353787061715, 0.04905817882356818, 0.046044715171630834, 3.8411654135338344, 2.8724849224090576], [15, 0.05830704366674003, 0.05049485918720984, 0.05039352374359368, 0.04656124440077832, 3.986842105263158, 2.790656089782715], [16, 0.05659572383098926, 0.05212217812213477, 0.05076396857046939, 0.04717301690243745, 3.9088345864661656, 2.7989583015441895], [17, 0.05720469749190894, 0.047654949676506075, 0.04867598266811978, 0.04569721706404133, 4.112781954887218, 2.8648223876953125], [18, 0.05697821679153377, 0.04907357847886148, 0.04913477366710371, 0.04577196732380504, 4.1268796992481205, 2.857515811920166], [19, 0.057151721402578404, 0.046725092535465265, 0.047836739503265106, 0.045011717447997035, 4.2819548872180455, 2.97591233253479], [20, 0.05603787811653539, 0.0547794554018222, 0.050848615961972495, 0.04595219468718913, 4.243421052631579, 3.038745164871216], [21, 0.060325277106203765, 0.04913469531766176, 0.050296705808042456, 0.046074884248673356, 4.447368421052632, 3.116014003753662]]\n",
      "-----------------------------------------------------------------------------------------\n"
     ]
    },
    {
     "name": "stderr",
     "output_type": "stream",
     "text": [
      "  0%|          | 1/1065 [00:01<23:18,  1.31s/it]"
     ]
    },
    {
     "name": "stdout",
     "output_type": "stream",
     "text": [
      "Epoch 22: 0%, loss: 7.020099\n"
     ]
    },
    {
     "name": "stderr",
     "output_type": "stream",
     "text": [
      "  9%|▉         | 101/1065 [02:03<19:26,  1.21s/it]"
     ]
    },
    {
     "name": "stdout",
     "output_type": "stream",
     "text": [
      "Epoch 22: 9%, loss: 0.777558\n"
     ]
    },
    {
     "name": "stderr",
     "output_type": "stream",
     "text": [
      " 19%|█▉        | 201/1065 [04:06<17:45,  1.23s/it]"
     ]
    },
    {
     "name": "stdout",
     "output_type": "stream",
     "text": [
      "Epoch 22: 19%, loss: 0.884147\n"
     ]
    },
    {
     "name": "stderr",
     "output_type": "stream",
     "text": [
      " 28%|██▊       | 301/1065 [06:10<15:58,  1.25s/it]"
     ]
    },
    {
     "name": "stdout",
     "output_type": "stream",
     "text": [
      "Epoch 22: 28%, loss: 1.639199\n"
     ]
    },
    {
     "name": "stderr",
     "output_type": "stream",
     "text": [
      " 38%|███▊      | 401/1065 [08:15<13:56,  1.26s/it]"
     ]
    },
    {
     "name": "stdout",
     "output_type": "stream",
     "text": [
      "Epoch 22: 38%, loss: 0.847645\n"
     ]
    },
    {
     "name": "stderr",
     "output_type": "stream",
     "text": [
      " 47%|████▋     | 501/1065 [10:21<12:10,  1.29s/it]"
     ]
    },
    {
     "name": "stdout",
     "output_type": "stream",
     "text": [
      "Epoch 22: 47%, loss: 1.566321\n"
     ]
    },
    {
     "name": "stderr",
     "output_type": "stream",
     "text": [
      " 56%|█████▋    | 601/1065 [12:28<09:38,  1.25s/it]"
     ]
    },
    {
     "name": "stdout",
     "output_type": "stream",
     "text": [
      "Epoch 22: 56%, loss: 0.541197\n"
     ]
    },
    {
     "name": "stderr",
     "output_type": "stream",
     "text": [
      " 66%|██████▌   | 701/1065 [14:36<07:42,  1.27s/it]"
     ]
    },
    {
     "name": "stdout",
     "output_type": "stream",
     "text": [
      "Epoch 22: 66%, loss: 2.140468\n"
     ]
    },
    {
     "name": "stderr",
     "output_type": "stream",
     "text": [
      " 75%|███████▌  | 801/1065 [16:44<05:40,  1.29s/it]"
     ]
    },
    {
     "name": "stdout",
     "output_type": "stream",
     "text": [
      "Epoch 22: 75%, loss: 2.052838\n"
     ]
    },
    {
     "name": "stderr",
     "output_type": "stream",
     "text": [
      " 85%|████████▍ | 901/1065 [18:53<03:33,  1.30s/it]"
     ]
    },
    {
     "name": "stdout",
     "output_type": "stream",
     "text": [
      "Epoch 22: 85%, loss: 0.845127\n"
     ]
    },
    {
     "name": "stderr",
     "output_type": "stream",
     "text": [
      " 94%|█████████▍| 1001/1065 [21:02<01:23,  1.30s/it]"
     ]
    },
    {
     "name": "stdout",
     "output_type": "stream",
     "text": [
      "Epoch 22: 94%, loss: 0.827133\n"
     ]
    },
    {
     "name": "stderr",
     "output_type": "stream",
     "text": [
      "100%|██████████| 1065/1065 [22:26<00:00,  1.26s/it]"
     ]
    },
    {
     "name": "stdout",
     "output_type": "stream",
     "text": [
      "Epoch 22: 100%, loss: 1.009377\n"
     ]
    },
    {
     "name": "stderr",
     "output_type": "stream",
     "text": [
      "\n"
     ]
    },
    {
     "name": "stdout",
     "output_type": "stream",
     "text": [
      "                      (F1-score: 0.0460, Precision: 0.0470, Recall: 0.0512)\n",
      "\n",
      "                      (NDCG: 0.0449)\n",
      "\n",
      "                      (MAE: 3.5534)\n",
      "\n",
      "train_loss= tensor(2.3703)\n",
      "--------------------\n"
     ]
    },
    {
     "name": "stderr",
     "output_type": "stream",
     "text": [
      "100%|██████████| 133/133 [02:40<00:00,  1.21s/it]\n"
     ]
    },
    {
     "name": "stdout",
     "output_type": "stream",
     "text": [
      "                      (F1-score: 0.0389, Precision: 0.0395, Recall: 0.0452)\n",
      "\n",
      "                      (NDCG: 0.0375)\n",
      "\n",
      "                      (MAE: 4.4398)\n",
      "\n",
      "val_loss= tensor(3.0914)\n",
      "--------------------\n"
     ]
    },
    {
     "name": "stderr",
     "output_type": "stream",
     "text": [
      "100%|██████████| 133/133 [02:39<00:00,  1.20s/it]\n"
     ]
    },
    {
     "name": "stdout",
     "output_type": "stream",
     "text": [
      "                      (F1-score: 0.0483, Precision: 0.0470, Recall: 0.0585)\n",
      "\n",
      "                      (NDCG: 0.0444)\n",
      "\n",
      "                      (MAE: 4.5019)\n",
      "\n",
      "--------------------\n",
      "[[1, 0.014057011557940318, 0.01188785706283494, 0.011823946496057954, 0.01179059028373401, 4.078947368421052, 3.127652406692505], [2, 0.012395469401375309, 0.009105865923231022, 0.00977901920204689, 0.010618062558604922, 4.277255639097745, 3.012655735015869], [3, 0.022246495218667492, 0.01619511702540867, 0.017449494024516916, 0.020838153247434394, 4.348684210526316, 3.027646064758301], [4, 0.026692771779414103, 0.02158336819576314, 0.0223394388637506, 0.027247424719722142, 3.9483082706766917, 2.8979482650756836], [5, 0.04506514914615341, 0.03314819428784197, 0.03568033567884178, 0.03590964992124503, 4.302631578947368, 2.9078378677368164], [6, 0.053893801072998244, 0.0467627832103548, 0.046929541661401786, 0.04427988932439987, 3.9031954887218046, 2.815546989440918], [7, 0.05616548915759136, 0.04771199572262012, 0.048305158562770636, 0.044781315627970025, 3.933270676691729, 2.808995485305786], [8, 0.05745805355945136, 0.04975830399311858, 0.04982252100961023, 0.04586496945256997, 3.8778195488721803, 2.7896313667297363], [9, 0.05423260471329658, 0.050656984034630516, 0.048928625610274765, 0.045732122892338814, 3.816729323308271, 2.960042953491211], [10, 0.05709393810374558, 0.049515773334901515, 0.049531901981052846, 0.04588587948688327, 3.8975563909774436, 2.810199022293091], [11, 0.059648740596383, 0.04416855712742466, 0.04753382714728831, 0.04399852613704909, 4.265037593984962, 2.859423875808716], [12, 0.05686059493831192, 0.0497922618008767, 0.04963999029983107, 0.0460727807498516, 3.8402255639097747, 2.790591239929199], [13, 0.05973176586726776, 0.05055683827373657, 0.051202158119456075, 0.046863126137847065, 3.9906015037593985, 2.772787094116211], [14, 0.05378825012987865, 0.05122353787061715, 0.04905817882356818, 0.046044715171630834, 3.8411654135338344, 2.8724849224090576], [15, 0.05830704366674003, 0.05049485918720984, 0.05039352374359368, 0.04656124440077832, 3.986842105263158, 2.790656089782715], [16, 0.05659572383098926, 0.05212217812213477, 0.05076396857046939, 0.04717301690243745, 3.9088345864661656, 2.7989583015441895], [17, 0.05720469749190894, 0.047654949676506075, 0.04867598266811978, 0.04569721706404133, 4.112781954887218, 2.8648223876953125], [18, 0.05697821679153377, 0.04907357847886148, 0.04913477366710371, 0.04577196732380504, 4.1268796992481205, 2.857515811920166], [19, 0.057151721402578404, 0.046725092535465265, 0.047836739503265106, 0.045011717447997035, 4.2819548872180455, 2.97591233253479], [20, 0.05603787811653539, 0.0547794554018222, 0.050848615961972495, 0.04595219468718913, 4.243421052631579, 3.038745164871216], [21, 0.060325277106203765, 0.04913469531766176, 0.050296705808042456, 0.046074884248673356, 4.447368421052632, 3.116014003753662], [22, 0.05854614999551841, 0.04704346599527159, 0.04832109146713539, 0.04441787478780108, 4.5018796992481205, 3.166863441467285]]\n",
      "-----------------------------------------------------------------------------------------\n"
     ]
    },
    {
     "name": "stderr",
     "output_type": "stream",
     "text": [
      "  0%|          | 1/1065 [00:01<24:27,  1.38s/it]"
     ]
    },
    {
     "name": "stdout",
     "output_type": "stream",
     "text": [
      "Epoch 23: 0%, loss: 5.106957\n"
     ]
    },
    {
     "name": "stderr",
     "output_type": "stream",
     "text": [
      "  9%|▉         | 101/1065 [02:03<19:16,  1.20s/it]"
     ]
    },
    {
     "name": "stdout",
     "output_type": "stream",
     "text": [
      "Epoch 23: 9%, loss: 0.352782\n"
     ]
    },
    {
     "name": "stderr",
     "output_type": "stream",
     "text": [
      " 19%|█▉        | 201/1065 [04:07<17:57,  1.25s/it]"
     ]
    },
    {
     "name": "stdout",
     "output_type": "stream",
     "text": [
      "Epoch 23: 19%, loss: 0.846579\n"
     ]
    },
    {
     "name": "stderr",
     "output_type": "stream",
     "text": [
      " 28%|██▊       | 301/1065 [06:11<15:52,  1.25s/it]"
     ]
    },
    {
     "name": "stdout",
     "output_type": "stream",
     "text": [
      "Epoch 23: 28%, loss: 0.761498\n"
     ]
    },
    {
     "name": "stderr",
     "output_type": "stream",
     "text": [
      " 38%|███▊      | 401/1065 [08:18<13:48,  1.25s/it]"
     ]
    },
    {
     "name": "stdout",
     "output_type": "stream",
     "text": [
      "Epoch 23: 38%, loss: 1.289890\n"
     ]
    },
    {
     "name": "stderr",
     "output_type": "stream",
     "text": [
      " 47%|████▋     | 501/1065 [10:23<11:44,  1.25s/it]"
     ]
    },
    {
     "name": "stdout",
     "output_type": "stream",
     "text": [
      "Epoch 23: 47%, loss: 2.275146\n"
     ]
    },
    {
     "name": "stderr",
     "output_type": "stream",
     "text": [
      " 56%|█████▋    | 601/1065 [12:29<09:46,  1.26s/it]"
     ]
    },
    {
     "name": "stdout",
     "output_type": "stream",
     "text": [
      "Epoch 23: 56%, loss: 0.991593\n"
     ]
    },
    {
     "name": "stderr",
     "output_type": "stream",
     "text": [
      " 66%|██████▌   | 701/1065 [14:37<07:36,  1.25s/it]"
     ]
    },
    {
     "name": "stdout",
     "output_type": "stream",
     "text": [
      "Epoch 23: 66%, loss: 1.383576\n"
     ]
    },
    {
     "name": "stderr",
     "output_type": "stream",
     "text": [
      " 75%|███████▌  | 801/1065 [16:45<05:33,  1.26s/it]"
     ]
    },
    {
     "name": "stdout",
     "output_type": "stream",
     "text": [
      "Epoch 23: 75%, loss: 1.832380\n"
     ]
    },
    {
     "name": "stderr",
     "output_type": "stream",
     "text": [
      " 85%|████████▍ | 901/1065 [18:54<03:33,  1.30s/it]"
     ]
    },
    {
     "name": "stdout",
     "output_type": "stream",
     "text": [
      "Epoch 23: 85%, loss: 5.987157\n"
     ]
    },
    {
     "name": "stderr",
     "output_type": "stream",
     "text": [
      " 94%|█████████▍| 1001/1065 [21:04<01:22,  1.29s/it]"
     ]
    },
    {
     "name": "stdout",
     "output_type": "stream",
     "text": [
      "Epoch 23: 94%, loss: 1.679306\n"
     ]
    },
    {
     "name": "stderr",
     "output_type": "stream",
     "text": [
      "100%|██████████| 1065/1065 [22:28<00:00,  1.27s/it]"
     ]
    },
    {
     "name": "stdout",
     "output_type": "stream",
     "text": [
      "Epoch 23: 100%, loss: 0.853407\n"
     ]
    },
    {
     "name": "stderr",
     "output_type": "stream",
     "text": [
      "\n"
     ]
    },
    {
     "name": "stdout",
     "output_type": "stream",
     "text": [
      "                      (F1-score: 0.0459, Precision: 0.0467, Recall: 0.0510)\n",
      "\n",
      "                      (NDCG: 0.0450)\n",
      "\n",
      "                      (MAE: 3.4700)\n",
      "\n",
      "train_loss= tensor(2.3089)\n",
      "--------------------\n"
     ]
    },
    {
     "name": "stderr",
     "output_type": "stream",
     "text": [
      "100%|██████████| 133/133 [02:40<00:00,  1.21s/it]\n"
     ]
    },
    {
     "name": "stdout",
     "output_type": "stream",
     "text": [
      "                      (F1-score: 0.0389, Precision: 0.0402, Recall: 0.0454)\n",
      "\n",
      "                      (NDCG: 0.0373)\n",
      "\n",
      "                      (MAE: 4.3703)\n",
      "\n",
      "val_loss= tensor(3.0988)\n",
      "--------------------\n"
     ]
    },
    {
     "name": "stderr",
     "output_type": "stream",
     "text": [
      "100%|██████████| 133/133 [02:39<00:00,  1.20s/it]\n"
     ]
    },
    {
     "name": "stdout",
     "output_type": "stream",
     "text": [
      "                      (F1-score: 0.0485, Precision: 0.0480, Recall: 0.0574)\n",
      "\n",
      "                      (NDCG: 0.0445)\n",
      "\n",
      "                      (MAE: 4.4868)\n",
      "\n",
      "--------------------\n",
      "[[1, 0.014057011557940318, 0.01188785706283494, 0.011823946496057954, 0.01179059028373401, 4.078947368421052, 3.127652406692505], [2, 0.012395469401375309, 0.009105865923231022, 0.00977901920204689, 0.010618062558604922, 4.277255639097745, 3.012655735015869], [3, 0.022246495218667492, 0.01619511702540867, 0.017449494024516916, 0.020838153247434394, 4.348684210526316, 3.027646064758301], [4, 0.026692771779414103, 0.02158336819576314, 0.0223394388637506, 0.027247424719722142, 3.9483082706766917, 2.8979482650756836], [5, 0.04506514914615341, 0.03314819428784197, 0.03568033567884178, 0.03590964992124503, 4.302631578947368, 2.9078378677368164], [6, 0.053893801072998244, 0.0467627832103548, 0.046929541661401786, 0.04427988932439987, 3.9031954887218046, 2.815546989440918], [7, 0.05616548915759136, 0.04771199572262012, 0.048305158562770636, 0.044781315627970025, 3.933270676691729, 2.808995485305786], [8, 0.05745805355945136, 0.04975830399311858, 0.04982252100961023, 0.04586496945256997, 3.8778195488721803, 2.7896313667297363], [9, 0.05423260471329658, 0.050656984034630516, 0.048928625610274765, 0.045732122892338814, 3.816729323308271, 2.960042953491211], [10, 0.05709393810374558, 0.049515773334901515, 0.049531901981052846, 0.04588587948688327, 3.8975563909774436, 2.810199022293091], [11, 0.059648740596383, 0.04416855712742466, 0.04753382714728831, 0.04399852613704909, 4.265037593984962, 2.859423875808716], [12, 0.05686059493831192, 0.0497922618008767, 0.04963999029983107, 0.0460727807498516, 3.8402255639097747, 2.790591239929199], [13, 0.05973176586726776, 0.05055683827373657, 0.051202158119456075, 0.046863126137847065, 3.9906015037593985, 2.772787094116211], [14, 0.05378825012987865, 0.05122353787061715, 0.04905817882356818, 0.046044715171630834, 3.8411654135338344, 2.8724849224090576], [15, 0.05830704366674003, 0.05049485918720984, 0.05039352374359368, 0.04656124440077832, 3.986842105263158, 2.790656089782715], [16, 0.05659572383098926, 0.05212217812213477, 0.05076396857046939, 0.04717301690243745, 3.9088345864661656, 2.7989583015441895], [17, 0.05720469749190894, 0.047654949676506075, 0.04867598266811978, 0.04569721706404133, 4.112781954887218, 2.8648223876953125], [18, 0.05697821679153377, 0.04907357847886148, 0.04913477366710371, 0.04577196732380504, 4.1268796992481205, 2.857515811920166], [19, 0.057151721402578404, 0.046725092535465265, 0.047836739503265106, 0.045011717447997035, 4.2819548872180455, 2.97591233253479], [20, 0.05603787811653539, 0.0547794554018222, 0.050848615961972495, 0.04595219468718913, 4.243421052631579, 3.038745164871216], [21, 0.060325277106203765, 0.04913469531766176, 0.050296705808042456, 0.046074884248673356, 4.447368421052632, 3.116014003753662], [22, 0.05854614999551841, 0.04704346599527159, 0.04832109146713539, 0.04441787478780108, 4.5018796992481205, 3.166863441467285], [23, 0.05740410095761552, 0.04804138970689888, 0.048511100776210056, 0.04445901534106946, 4.4868421052631575, 3.180751323699951]]\n",
      "-----------------------------------------------------------------------------------------\n"
     ]
    },
    {
     "name": "stderr",
     "output_type": "stream",
     "text": [
      "  0%|          | 1/1065 [00:01<25:06,  1.42s/it]"
     ]
    },
    {
     "name": "stdout",
     "output_type": "stream",
     "text": [
      "Epoch 24: 0%, loss: 2.021998\n"
     ]
    },
    {
     "name": "stderr",
     "output_type": "stream",
     "text": [
      "  9%|▉         | 101/1065 [02:03<19:27,  1.21s/it]"
     ]
    },
    {
     "name": "stdout",
     "output_type": "stream",
     "text": [
      "Epoch 24: 9%, loss: 1.153866\n"
     ]
    },
    {
     "name": "stderr",
     "output_type": "stream",
     "text": [
      " 19%|█▉        | 201/1065 [04:06<17:41,  1.23s/it]"
     ]
    },
    {
     "name": "stdout",
     "output_type": "stream",
     "text": [
      "Epoch 24: 19%, loss: 0.308355\n"
     ]
    },
    {
     "name": "stderr",
     "output_type": "stream",
     "text": [
      " 28%|██▊       | 301/1065 [06:10<16:06,  1.27s/it]"
     ]
    },
    {
     "name": "stdout",
     "output_type": "stream",
     "text": [
      "Epoch 24: 28%, loss: 0.500006\n"
     ]
    },
    {
     "name": "stderr",
     "output_type": "stream",
     "text": [
      " 38%|███▊      | 401/1065 [08:14<13:19,  1.20s/it]"
     ]
    },
    {
     "name": "stdout",
     "output_type": "stream",
     "text": [
      "Epoch 24: 38%, loss: 1.336567\n"
     ]
    },
    {
     "name": "stderr",
     "output_type": "stream",
     "text": [
      " 47%|████▋     | 501/1065 [10:19<11:37,  1.24s/it]"
     ]
    },
    {
     "name": "stdout",
     "output_type": "stream",
     "text": [
      "Epoch 24: 47%, loss: 1.094696\n"
     ]
    },
    {
     "name": "stderr",
     "output_type": "stream",
     "text": [
      " 56%|█████▋    | 601/1065 [12:25<09:47,  1.27s/it]"
     ]
    },
    {
     "name": "stdout",
     "output_type": "stream",
     "text": [
      "Epoch 24: 56%, loss: 1.795258\n"
     ]
    },
    {
     "name": "stderr",
     "output_type": "stream",
     "text": [
      " 66%|██████▌   | 701/1065 [14:33<07:47,  1.28s/it]"
     ]
    },
    {
     "name": "stdout",
     "output_type": "stream",
     "text": [
      "Epoch 24: 66%, loss: 0.344104\n"
     ]
    },
    {
     "name": "stderr",
     "output_type": "stream",
     "text": [
      " 75%|███████▌  | 801/1065 [16:41<05:40,  1.29s/it]"
     ]
    },
    {
     "name": "stdout",
     "output_type": "stream",
     "text": [
      "Epoch 24: 75%, loss: 1.381344\n"
     ]
    },
    {
     "name": "stderr",
     "output_type": "stream",
     "text": [
      " 85%|████████▍ | 901/1065 [18:50<03:33,  1.30s/it]"
     ]
    },
    {
     "name": "stdout",
     "output_type": "stream",
     "text": [
      "Epoch 24: 85%, loss: 0.942833\n"
     ]
    },
    {
     "name": "stderr",
     "output_type": "stream",
     "text": [
      " 94%|█████████▍| 1001/1065 [20:59<01:22,  1.29s/it]"
     ]
    },
    {
     "name": "stdout",
     "output_type": "stream",
     "text": [
      "Epoch 24: 94%, loss: 0.615511\n"
     ]
    },
    {
     "name": "stderr",
     "output_type": "stream",
     "text": [
      "100%|██████████| 1065/1065 [22:21<00:00,  1.26s/it]"
     ]
    },
    {
     "name": "stdout",
     "output_type": "stream",
     "text": [
      "Epoch 24: 100%, loss: 2.782059\n"
     ]
    },
    {
     "name": "stderr",
     "output_type": "stream",
     "text": [
      "\n"
     ]
    },
    {
     "name": "stdout",
     "output_type": "stream",
     "text": [
      "                      (F1-score: 0.0464, Precision: 0.0474, Recall: 0.0511)\n",
      "\n",
      "                      (NDCG: 0.0456)\n",
      "\n",
      "                      (MAE: 3.4225)\n",
      "\n",
      "train_loss= tensor(2.2451)\n",
      "--------------------\n"
     ]
    },
    {
     "name": "stderr",
     "output_type": "stream",
     "text": [
      "100%|██████████| 133/133 [02:40<00:00,  1.20s/it]\n"
     ]
    },
    {
     "name": "stdout",
     "output_type": "stream",
     "text": [
      "                      (F1-score: 0.0389, Precision: 0.0414, Recall: 0.0445)\n",
      "\n",
      "                      (NDCG: 0.0370)\n",
      "\n",
      "                      (MAE: 4.4530)\n",
      "\n",
      "val_loss= tensor(3.1575)\n",
      "--------------------\n"
     ]
    },
    {
     "name": "stderr",
     "output_type": "stream",
     "text": [
      "100%|██████████| 133/133 [02:39<00:00,  1.20s/it]\n"
     ]
    },
    {
     "name": "stdout",
     "output_type": "stream",
     "text": [
      "                      (F1-score: 0.0490, Precision: 0.0496, Recall: 0.0575)\n",
      "\n",
      "                      (NDCG: 0.0444)\n",
      "\n",
      "                      (MAE: 4.5949)\n",
      "\n",
      "--------------------\n",
      "[[1, 0.014057011557940318, 0.01188785706283494, 0.011823946496057954, 0.01179059028373401, 4.078947368421052, 3.127652406692505], [2, 0.012395469401375309, 0.009105865923231022, 0.00977901920204689, 0.010618062558604922, 4.277255639097745, 3.012655735015869], [3, 0.022246495218667492, 0.01619511702540867, 0.017449494024516916, 0.020838153247434394, 4.348684210526316, 3.027646064758301], [4, 0.026692771779414103, 0.02158336819576314, 0.0223394388637506, 0.027247424719722142, 3.9483082706766917, 2.8979482650756836], [5, 0.04506514914615341, 0.03314819428784197, 0.03568033567884178, 0.03590964992124503, 4.302631578947368, 2.9078378677368164], [6, 0.053893801072998244, 0.0467627832103548, 0.046929541661401786, 0.04427988932439987, 3.9031954887218046, 2.815546989440918], [7, 0.05616548915759136, 0.04771199572262012, 0.048305158562770636, 0.044781315627970025, 3.933270676691729, 2.808995485305786], [8, 0.05745805355945136, 0.04975830399311858, 0.04982252100961023, 0.04586496945256997, 3.8778195488721803, 2.7896313667297363], [9, 0.05423260471329658, 0.050656984034630516, 0.048928625610274765, 0.045732122892338814, 3.816729323308271, 2.960042953491211], [10, 0.05709393810374558, 0.049515773334901515, 0.049531901981052846, 0.04588587948688327, 3.8975563909774436, 2.810199022293091], [11, 0.059648740596383, 0.04416855712742466, 0.04753382714728831, 0.04399852613704909, 4.265037593984962, 2.859423875808716], [12, 0.05686059493831192, 0.0497922618008767, 0.04963999029983107, 0.0460727807498516, 3.8402255639097747, 2.790591239929199], [13, 0.05973176586726776, 0.05055683827373657, 0.051202158119456075, 0.046863126137847065, 3.9906015037593985, 2.772787094116211], [14, 0.05378825012987865, 0.05122353787061715, 0.04905817882356818, 0.046044715171630834, 3.8411654135338344, 2.8724849224090576], [15, 0.05830704366674003, 0.05049485918720984, 0.05039352374359368, 0.04656124440077832, 3.986842105263158, 2.790656089782715], [16, 0.05659572383098926, 0.05212217812213477, 0.05076396857046939, 0.04717301690243745, 3.9088345864661656, 2.7989583015441895], [17, 0.05720469749190894, 0.047654949676506075, 0.04867598266811978, 0.04569721706404133, 4.112781954887218, 2.8648223876953125], [18, 0.05697821679153377, 0.04907357847886148, 0.04913477366710371, 0.04577196732380504, 4.1268796992481205, 2.857515811920166], [19, 0.057151721402578404, 0.046725092535465265, 0.047836739503265106, 0.045011717447997035, 4.2819548872180455, 2.97591233253479], [20, 0.05603787811653539, 0.0547794554018222, 0.050848615961972495, 0.04595219468718913, 4.243421052631579, 3.038745164871216], [21, 0.060325277106203765, 0.04913469531766176, 0.050296705808042456, 0.046074884248673356, 4.447368421052632, 3.116014003753662], [22, 0.05854614999551841, 0.04704346599527159, 0.04832109146713539, 0.04441787478780108, 4.5018796992481205, 3.166863441467285], [23, 0.05740410095761552, 0.04804138970689888, 0.048511100776210056, 0.04445901534106946, 4.4868421052631575, 3.180751323699951], [24, 0.057516352295257644, 0.049554028885062336, 0.048963111412021205, 0.044440603893796414, 4.594924812030075, 3.2804226875305176]]\n",
      "-----------------------------------------------------------------------------------------\n"
     ]
    },
    {
     "name": "stderr",
     "output_type": "stream",
     "text": [
      "  0%|          | 1/1065 [00:01<25:29,  1.44s/it]"
     ]
    },
    {
     "name": "stdout",
     "output_type": "stream",
     "text": [
      "Epoch 25: 0%, loss: 1.254641\n"
     ]
    },
    {
     "name": "stderr",
     "output_type": "stream",
     "text": [
      "  9%|▉         | 101/1065 [02:02<19:32,  1.22s/it]"
     ]
    },
    {
     "name": "stdout",
     "output_type": "stream",
     "text": [
      "Epoch 25: 9%, loss: 1.163148\n"
     ]
    },
    {
     "name": "stderr",
     "output_type": "stream",
     "text": [
      " 19%|█▉        | 201/1065 [04:05<17:58,  1.25s/it]"
     ]
    },
    {
     "name": "stdout",
     "output_type": "stream",
     "text": [
      "Epoch 25: 19%, loss: 4.671763\n"
     ]
    },
    {
     "name": "stderr",
     "output_type": "stream",
     "text": [
      " 28%|██▊       | 301/1065 [06:09<15:42,  1.23s/it]"
     ]
    },
    {
     "name": "stdout",
     "output_type": "stream",
     "text": [
      "Epoch 25: 28%, loss: 6.023083\n"
     ]
    },
    {
     "name": "stderr",
     "output_type": "stream",
     "text": [
      " 38%|███▊      | 401/1065 [08:12<13:48,  1.25s/it]"
     ]
    },
    {
     "name": "stdout",
     "output_type": "stream",
     "text": [
      "Epoch 25: 38%, loss: 1.565163\n"
     ]
    },
    {
     "name": "stderr",
     "output_type": "stream",
     "text": [
      " 47%|████▋     | 501/1065 [10:17<11:51,  1.26s/it]"
     ]
    },
    {
     "name": "stdout",
     "output_type": "stream",
     "text": [
      "Epoch 25: 47%, loss: 1.089501\n"
     ]
    },
    {
     "name": "stderr",
     "output_type": "stream",
     "text": [
      " 56%|█████▋    | 601/1065 [12:24<09:40,  1.25s/it]"
     ]
    },
    {
     "name": "stdout",
     "output_type": "stream",
     "text": [
      "Epoch 25: 56%, loss: 1.649359\n"
     ]
    },
    {
     "name": "stderr",
     "output_type": "stream",
     "text": [
      " 66%|██████▌   | 701/1065 [14:30<07:41,  1.27s/it]"
     ]
    },
    {
     "name": "stdout",
     "output_type": "stream",
     "text": [
      "Epoch 25: 66%, loss: 1.318863\n"
     ]
    },
    {
     "name": "stderr",
     "output_type": "stream",
     "text": [
      " 75%|███████▌  | 801/1065 [16:38<05:40,  1.29s/it]"
     ]
    },
    {
     "name": "stdout",
     "output_type": "stream",
     "text": [
      "Epoch 25: 75%, loss: 1.707574\n"
     ]
    },
    {
     "name": "stderr",
     "output_type": "stream",
     "text": [
      " 85%|████████▍ | 901/1065 [18:48<03:33,  1.30s/it]"
     ]
    },
    {
     "name": "stdout",
     "output_type": "stream",
     "text": [
      "Epoch 25: 85%, loss: 1.720693\n"
     ]
    },
    {
     "name": "stderr",
     "output_type": "stream",
     "text": [
      " 94%|█████████▍| 1001/1065 [20:56<01:23,  1.31s/it]"
     ]
    },
    {
     "name": "stdout",
     "output_type": "stream",
     "text": [
      "Epoch 25: 94%, loss: 1.878448\n"
     ]
    },
    {
     "name": "stderr",
     "output_type": "stream",
     "text": [
      "100%|██████████| 1065/1065 [22:20<00:00,  1.26s/it]"
     ]
    },
    {
     "name": "stdout",
     "output_type": "stream",
     "text": [
      "Epoch 25: 100%, loss: 0.753847\n"
     ]
    },
    {
     "name": "stderr",
     "output_type": "stream",
     "text": [
      "\n"
     ]
    },
    {
     "name": "stdout",
     "output_type": "stream",
     "text": [
      "                      (F1-score: 0.0470, Precision: 0.0482, Recall: 0.0518)\n",
      "\n",
      "                      (NDCG: 0.0458)\n",
      "\n",
      "                      (MAE: 3.3777)\n",
      "\n",
      "train_loss= tensor(2.2116)\n",
      "--------------------\n"
     ]
    },
    {
     "name": "stderr",
     "output_type": "stream",
     "text": [
      "100%|██████████| 133/133 [02:40<00:00,  1.21s/it]\n"
     ]
    },
    {
     "name": "stdout",
     "output_type": "stream",
     "text": [
      "                      (F1-score: 0.0385, Precision: 0.0458, Recall: 0.0403)\n",
      "\n",
      "                      (NDCG: 0.0367)\n",
      "\n",
      "                      (MAE: 4.4521)\n",
      "\n",
      "val_loss= tensor(3.4397)\n",
      "--------------------\n"
     ]
    },
    {
     "name": "stderr",
     "output_type": "stream",
     "text": [
      "100%|██████████| 133/133 [02:39<00:00,  1.20s/it]\n"
     ]
    },
    {
     "name": "stdout",
     "output_type": "stream",
     "text": [
      "                      (F1-score: 0.0500, Precision: 0.0573, Recall: 0.0525)\n",
      "\n",
      "                      (NDCG: 0.0443)\n",
      "\n",
      "                      (MAE: 4.5226)\n",
      "\n",
      "--------------------\n",
      "[[1, 0.014057011557940318, 0.01188785706283494, 0.011823946496057954, 0.01179059028373401, 4.078947368421052, 3.127652406692505], [2, 0.012395469401375309, 0.009105865923231022, 0.00977901920204689, 0.010618062558604922, 4.277255639097745, 3.012655735015869], [3, 0.022246495218667492, 0.01619511702540867, 0.017449494024516916, 0.020838153247434394, 4.348684210526316, 3.027646064758301], [4, 0.026692771779414103, 0.02158336819576314, 0.0223394388637506, 0.027247424719722142, 3.9483082706766917, 2.8979482650756836], [5, 0.04506514914615341, 0.03314819428784197, 0.03568033567884178, 0.03590964992124503, 4.302631578947368, 2.9078378677368164], [6, 0.053893801072998244, 0.0467627832103548, 0.046929541661401786, 0.04427988932439987, 3.9031954887218046, 2.815546989440918], [7, 0.05616548915759136, 0.04771199572262012, 0.048305158562770636, 0.044781315627970025, 3.933270676691729, 2.808995485305786], [8, 0.05745805355945136, 0.04975830399311858, 0.04982252100961023, 0.04586496945256997, 3.8778195488721803, 2.7896313667297363], [9, 0.05423260471329658, 0.050656984034630516, 0.048928625610274765, 0.045732122892338814, 3.816729323308271, 2.960042953491211], [10, 0.05709393810374558, 0.049515773334901515, 0.049531901981052846, 0.04588587948688327, 3.8975563909774436, 2.810199022293091], [11, 0.059648740596383, 0.04416855712742466, 0.04753382714728831, 0.04399852613704909, 4.265037593984962, 2.859423875808716], [12, 0.05686059493831192, 0.0497922618008767, 0.04963999029983107, 0.0460727807498516, 3.8402255639097747, 2.790591239929199], [13, 0.05973176586726776, 0.05055683827373657, 0.051202158119456075, 0.046863126137847065, 3.9906015037593985, 2.772787094116211], [14, 0.05378825012987865, 0.05122353787061715, 0.04905817882356818, 0.046044715171630834, 3.8411654135338344, 2.8724849224090576], [15, 0.05830704366674003, 0.05049485918720984, 0.05039352374359368, 0.04656124440077832, 3.986842105263158, 2.790656089782715], [16, 0.05659572383098926, 0.05212217812213477, 0.05076396857046939, 0.04717301690243745, 3.9088345864661656, 2.7989583015441895], [17, 0.05720469749190894, 0.047654949676506075, 0.04867598266811978, 0.04569721706404133, 4.112781954887218, 2.8648223876953125], [18, 0.05697821679153377, 0.04907357847886148, 0.04913477366710371, 0.04577196732380504, 4.1268796992481205, 2.857515811920166], [19, 0.057151721402578404, 0.046725092535465265, 0.047836739503265106, 0.045011717447997035, 4.2819548872180455, 2.97591233253479], [20, 0.05603787811653539, 0.0547794554018222, 0.050848615961972495, 0.04595219468718913, 4.243421052631579, 3.038745164871216], [21, 0.060325277106203765, 0.04913469531766176, 0.050296705808042456, 0.046074884248673356, 4.447368421052632, 3.116014003753662], [22, 0.05854614999551841, 0.04704346599527159, 0.04832109146713539, 0.04441787478780108, 4.5018796992481205, 3.166863441467285], [23, 0.05740410095761552, 0.04804138970689888, 0.048511100776210056, 0.04445901534106946, 4.4868421052631575, 3.180751323699951], [24, 0.057516352295257644, 0.049554028885062336, 0.048963111412021205, 0.044440603893796414, 4.594924812030075, 3.2804226875305176], [25, 0.052511345074977386, 0.057272227149180246, 0.050032100109745056, 0.044268529322103393, 4.522556390977444, 3.4392168521881104]]\n",
      "-----------------------------------------------------------------------------------------\n"
     ]
    },
    {
     "data": {
      "text/html": [
       "<div>\n",
       "<style scoped>\n",
       "    .dataframe tbody tr th:only-of-type {\n",
       "        vertical-align: middle;\n",
       "    }\n",
       "\n",
       "    .dataframe tbody tr th {\n",
       "        vertical-align: top;\n",
       "    }\n",
       "\n",
       "    .dataframe thead th {\n",
       "        text-align: right;\n",
       "    }\n",
       "</style>\n",
       "<table border=\"1\" class=\"dataframe\">\n",
       "  <thead>\n",
       "    <tr style=\"text-align: right;\">\n",
       "      <th></th>\n",
       "      <th>Epoch</th>\n",
       "      <th>Recall</th>\n",
       "      <th>Precision</th>\n",
       "      <th>F1-score</th>\n",
       "      <th>NDCG</th>\n",
       "      <th>MAE</th>\n",
       "      <th>Loss</th>\n",
       "    </tr>\n",
       "  </thead>\n",
       "  <tbody>\n",
       "    <tr>\n",
       "      <th>0</th>\n",
       "      <td>1</td>\n",
       "      <td>0.014057</td>\n",
       "      <td>0.011888</td>\n",
       "      <td>0.011824</td>\n",
       "      <td>0.011791</td>\n",
       "      <td>4.078947</td>\n",
       "      <td>3.127652</td>\n",
       "    </tr>\n",
       "    <tr>\n",
       "      <th>1</th>\n",
       "      <td>2</td>\n",
       "      <td>0.012395</td>\n",
       "      <td>0.009106</td>\n",
       "      <td>0.009779</td>\n",
       "      <td>0.010618</td>\n",
       "      <td>4.277256</td>\n",
       "      <td>3.012656</td>\n",
       "    </tr>\n",
       "    <tr>\n",
       "      <th>2</th>\n",
       "      <td>3</td>\n",
       "      <td>0.022246</td>\n",
       "      <td>0.016195</td>\n",
       "      <td>0.017449</td>\n",
       "      <td>0.020838</td>\n",
       "      <td>4.348684</td>\n",
       "      <td>3.027646</td>\n",
       "    </tr>\n",
       "    <tr>\n",
       "      <th>3</th>\n",
       "      <td>4</td>\n",
       "      <td>0.026693</td>\n",
       "      <td>0.021583</td>\n",
       "      <td>0.022339</td>\n",
       "      <td>0.027247</td>\n",
       "      <td>3.948308</td>\n",
       "      <td>2.897948</td>\n",
       "    </tr>\n",
       "    <tr>\n",
       "      <th>4</th>\n",
       "      <td>5</td>\n",
       "      <td>0.045065</td>\n",
       "      <td>0.033148</td>\n",
       "      <td>0.035680</td>\n",
       "      <td>0.035910</td>\n",
       "      <td>4.302632</td>\n",
       "      <td>2.907838</td>\n",
       "    </tr>\n",
       "    <tr>\n",
       "      <th>5</th>\n",
       "      <td>6</td>\n",
       "      <td>0.053894</td>\n",
       "      <td>0.046763</td>\n",
       "      <td>0.046930</td>\n",
       "      <td>0.044280</td>\n",
       "      <td>3.903195</td>\n",
       "      <td>2.815547</td>\n",
       "    </tr>\n",
       "    <tr>\n",
       "      <th>6</th>\n",
       "      <td>7</td>\n",
       "      <td>0.056165</td>\n",
       "      <td>0.047712</td>\n",
       "      <td>0.048305</td>\n",
       "      <td>0.044781</td>\n",
       "      <td>3.933271</td>\n",
       "      <td>2.808995</td>\n",
       "    </tr>\n",
       "    <tr>\n",
       "      <th>7</th>\n",
       "      <td>8</td>\n",
       "      <td>0.057458</td>\n",
       "      <td>0.049758</td>\n",
       "      <td>0.049823</td>\n",
       "      <td>0.045865</td>\n",
       "      <td>3.877820</td>\n",
       "      <td>2.789631</td>\n",
       "    </tr>\n",
       "    <tr>\n",
       "      <th>8</th>\n",
       "      <td>9</td>\n",
       "      <td>0.054233</td>\n",
       "      <td>0.050657</td>\n",
       "      <td>0.048929</td>\n",
       "      <td>0.045732</td>\n",
       "      <td>3.816729</td>\n",
       "      <td>2.960043</td>\n",
       "    </tr>\n",
       "    <tr>\n",
       "      <th>9</th>\n",
       "      <td>10</td>\n",
       "      <td>0.057094</td>\n",
       "      <td>0.049516</td>\n",
       "      <td>0.049532</td>\n",
       "      <td>0.045886</td>\n",
       "      <td>3.897556</td>\n",
       "      <td>2.810199</td>\n",
       "    </tr>\n",
       "    <tr>\n",
       "      <th>10</th>\n",
       "      <td>11</td>\n",
       "      <td>0.059649</td>\n",
       "      <td>0.044169</td>\n",
       "      <td>0.047534</td>\n",
       "      <td>0.043999</td>\n",
       "      <td>4.265038</td>\n",
       "      <td>2.859424</td>\n",
       "    </tr>\n",
       "    <tr>\n",
       "      <th>11</th>\n",
       "      <td>12</td>\n",
       "      <td>0.056861</td>\n",
       "      <td>0.049792</td>\n",
       "      <td>0.049640</td>\n",
       "      <td>0.046073</td>\n",
       "      <td>3.840226</td>\n",
       "      <td>2.790591</td>\n",
       "    </tr>\n",
       "    <tr>\n",
       "      <th>12</th>\n",
       "      <td>13</td>\n",
       "      <td>0.059732</td>\n",
       "      <td>0.050557</td>\n",
       "      <td>0.051202</td>\n",
       "      <td>0.046863</td>\n",
       "      <td>3.990602</td>\n",
       "      <td>2.772787</td>\n",
       "    </tr>\n",
       "    <tr>\n",
       "      <th>13</th>\n",
       "      <td>14</td>\n",
       "      <td>0.053788</td>\n",
       "      <td>0.051224</td>\n",
       "      <td>0.049058</td>\n",
       "      <td>0.046045</td>\n",
       "      <td>3.841165</td>\n",
       "      <td>2.872485</td>\n",
       "    </tr>\n",
       "    <tr>\n",
       "      <th>14</th>\n",
       "      <td>15</td>\n",
       "      <td>0.058307</td>\n",
       "      <td>0.050495</td>\n",
       "      <td>0.050394</td>\n",
       "      <td>0.046561</td>\n",
       "      <td>3.986842</td>\n",
       "      <td>2.790656</td>\n",
       "    </tr>\n",
       "    <tr>\n",
       "      <th>15</th>\n",
       "      <td>16</td>\n",
       "      <td>0.056596</td>\n",
       "      <td>0.052122</td>\n",
       "      <td>0.050764</td>\n",
       "      <td>0.047173</td>\n",
       "      <td>3.908835</td>\n",
       "      <td>2.798958</td>\n",
       "    </tr>\n",
       "    <tr>\n",
       "      <th>16</th>\n",
       "      <td>17</td>\n",
       "      <td>0.057205</td>\n",
       "      <td>0.047655</td>\n",
       "      <td>0.048676</td>\n",
       "      <td>0.045697</td>\n",
       "      <td>4.112782</td>\n",
       "      <td>2.864822</td>\n",
       "    </tr>\n",
       "    <tr>\n",
       "      <th>17</th>\n",
       "      <td>18</td>\n",
       "      <td>0.056978</td>\n",
       "      <td>0.049074</td>\n",
       "      <td>0.049135</td>\n",
       "      <td>0.045772</td>\n",
       "      <td>4.126880</td>\n",
       "      <td>2.857516</td>\n",
       "    </tr>\n",
       "    <tr>\n",
       "      <th>18</th>\n",
       "      <td>19</td>\n",
       "      <td>0.057152</td>\n",
       "      <td>0.046725</td>\n",
       "      <td>0.047837</td>\n",
       "      <td>0.045012</td>\n",
       "      <td>4.281955</td>\n",
       "      <td>2.975912</td>\n",
       "    </tr>\n",
       "    <tr>\n",
       "      <th>19</th>\n",
       "      <td>20</td>\n",
       "      <td>0.056038</td>\n",
       "      <td>0.054779</td>\n",
       "      <td>0.050849</td>\n",
       "      <td>0.045952</td>\n",
       "      <td>4.243421</td>\n",
       "      <td>3.038745</td>\n",
       "    </tr>\n",
       "    <tr>\n",
       "      <th>20</th>\n",
       "      <td>21</td>\n",
       "      <td>0.060325</td>\n",
       "      <td>0.049135</td>\n",
       "      <td>0.050297</td>\n",
       "      <td>0.046075</td>\n",
       "      <td>4.447368</td>\n",
       "      <td>3.116014</td>\n",
       "    </tr>\n",
       "    <tr>\n",
       "      <th>21</th>\n",
       "      <td>22</td>\n",
       "      <td>0.058546</td>\n",
       "      <td>0.047043</td>\n",
       "      <td>0.048321</td>\n",
       "      <td>0.044418</td>\n",
       "      <td>4.501880</td>\n",
       "      <td>3.166863</td>\n",
       "    </tr>\n",
       "    <tr>\n",
       "      <th>22</th>\n",
       "      <td>23</td>\n",
       "      <td>0.057404</td>\n",
       "      <td>0.048041</td>\n",
       "      <td>0.048511</td>\n",
       "      <td>0.044459</td>\n",
       "      <td>4.486842</td>\n",
       "      <td>3.180751</td>\n",
       "    </tr>\n",
       "    <tr>\n",
       "      <th>23</th>\n",
       "      <td>24</td>\n",
       "      <td>0.057516</td>\n",
       "      <td>0.049554</td>\n",
       "      <td>0.048963</td>\n",
       "      <td>0.044441</td>\n",
       "      <td>4.594925</td>\n",
       "      <td>3.280423</td>\n",
       "    </tr>\n",
       "    <tr>\n",
       "      <th>24</th>\n",
       "      <td>25</td>\n",
       "      <td>0.052511</td>\n",
       "      <td>0.057272</td>\n",
       "      <td>0.050032</td>\n",
       "      <td>0.044269</td>\n",
       "      <td>4.522556</td>\n",
       "      <td>3.439217</td>\n",
       "    </tr>\n",
       "  </tbody>\n",
       "</table>\n",
       "</div>"
      ],
      "text/plain": [
       "    Epoch    Recall  Precision  F1-score      NDCG       MAE      Loss\n",
       "0       1  0.014057   0.011888  0.011824  0.011791  4.078947  3.127652\n",
       "1       2  0.012395   0.009106  0.009779  0.010618  4.277256  3.012656\n",
       "2       3  0.022246   0.016195  0.017449  0.020838  4.348684  3.027646\n",
       "3       4  0.026693   0.021583  0.022339  0.027247  3.948308  2.897948\n",
       "4       5  0.045065   0.033148  0.035680  0.035910  4.302632  2.907838\n",
       "5       6  0.053894   0.046763  0.046930  0.044280  3.903195  2.815547\n",
       "6       7  0.056165   0.047712  0.048305  0.044781  3.933271  2.808995\n",
       "7       8  0.057458   0.049758  0.049823  0.045865  3.877820  2.789631\n",
       "8       9  0.054233   0.050657  0.048929  0.045732  3.816729  2.960043\n",
       "9      10  0.057094   0.049516  0.049532  0.045886  3.897556  2.810199\n",
       "10     11  0.059649   0.044169  0.047534  0.043999  4.265038  2.859424\n",
       "11     12  0.056861   0.049792  0.049640  0.046073  3.840226  2.790591\n",
       "12     13  0.059732   0.050557  0.051202  0.046863  3.990602  2.772787\n",
       "13     14  0.053788   0.051224  0.049058  0.046045  3.841165  2.872485\n",
       "14     15  0.058307   0.050495  0.050394  0.046561  3.986842  2.790656\n",
       "15     16  0.056596   0.052122  0.050764  0.047173  3.908835  2.798958\n",
       "16     17  0.057205   0.047655  0.048676  0.045697  4.112782  2.864822\n",
       "17     18  0.056978   0.049074  0.049135  0.045772  4.126880  2.857516\n",
       "18     19  0.057152   0.046725  0.047837  0.045012  4.281955  2.975912\n",
       "19     20  0.056038   0.054779  0.050849  0.045952  4.243421  3.038745\n",
       "20     21  0.060325   0.049135  0.050297  0.046075  4.447368  3.116014\n",
       "21     22  0.058546   0.047043  0.048321  0.044418  4.501880  3.166863\n",
       "22     23  0.057404   0.048041  0.048511  0.044459  4.486842  3.180751\n",
       "23     24  0.057516   0.049554  0.048963  0.044441  4.594925  3.280423\n",
       "24     25  0.052511   0.057272  0.050032  0.044269  4.522556  3.439217"
      ]
     },
     "execution_count": 40,
     "metadata": {},
     "output_type": "execute_result"
    }
   ],
   "source": [
    "results = []\n",
    "\n",
    "for epoch in range(1, EPOCHS + 1):\n",
    "    train_loss = train_model()\n",
    "    print(\"train_loss=\", train_loss)\n",
    "    print(\"-\"*20)\n",
    "    val_loss = evaluate_model()\n",
    "    print(\"val_loss=\", val_loss)\n",
    "    print(\"-\"*20)\n",
    "    test_loss, recall_list, precision_list, f1_list, ndcg_list, mae_list = test_model()\n",
    "    print(\"-\"*20)\n",
    "    result = [epoch] + recall_list + precision_list + f1_list + ndcg_list + mae_list + [test_loss.item()]\n",
    "    results.append(result)\n",
    "    print(results)\n",
    "    print(\"-\"*89)\n",
    "    \n",
    "    collected = gc.collect()\n",
    "    torch.cuda.empty_cache()\n",
    "    \n",
    "record_df = pd.DataFrame(results, columns=[\"Epoch\", \"Recall\", \"Precision\", \"F1-score\", \"NDCG\", \"MAE\", \"Loss\"])\n",
    "\n",
    "result_folder = \"../result\"\n",
    "if not os.path.exists(result_folder):\n",
    "    os.mkdir(result_folder)\n",
    "record_df.to_csv(result_folder+f\"/{DATASET_NAME}_output.csv\", index=False)\n",
    "\n",
    "record_df\n"
   ]
  },
  {
   "cell_type": "code",
   "execution_count": null,
   "id": "330f9229",
   "metadata": {},
   "outputs": [],
   "source": []
  }
 ],
 "metadata": {
  "kernelspec": {
   "display_name": "Python 3 (ipykernel)",
   "language": "python",
   "name": "python3"
  },
  "language_info": {
   "codemirror_mode": {
    "name": "ipython",
    "version": 3
   },
   "file_extension": ".py",
   "mimetype": "text/x-python",
   "name": "python",
   "nbconvert_exporter": "python",
   "pygments_lexer": "ipython3",
   "version": "3.11.5"
  }
 },
 "nbformat": 4,
 "nbformat_minor": 5
}
