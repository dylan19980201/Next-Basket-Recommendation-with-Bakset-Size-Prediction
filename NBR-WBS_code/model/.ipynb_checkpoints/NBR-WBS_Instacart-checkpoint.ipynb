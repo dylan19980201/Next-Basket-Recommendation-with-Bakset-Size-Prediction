{
 "cells": [
  {
   "cell_type": "markdown",
   "id": "a246ddd9",
   "metadata": {},
   "source": [
    "# 下載套件"
   ]
  },
  {
   "cell_type": "code",
   "execution_count": 1,
   "id": "72209793",
   "metadata": {},
   "outputs": [],
   "source": [
    "import torch\n",
    "import torch.nn as nn\n",
    "from torch import nn, matmul, softmax\n",
    "from torch.nn.init import xavier_uniform_\n",
    "import torch.nn.functional as F\n",
    "import torch.nn.utils.rnn as rnn_utils\n",
    "from torch.autograd import Variable\n",
    "\n",
    "import numpy as np\n",
    "import pandas as pd\n",
    "import gensim\n",
    "from gensim.models import KeyedVectors\n",
    "import pickle\n",
    "import gzip \n",
    "import gc\n",
    "import os\n",
    "import random"
   ]
  },
  {
   "cell_type": "code",
   "execution_count": 2,
   "id": "e3db86c1",
   "metadata": {},
   "outputs": [],
   "source": [
    "from torch.utils.data import DataLoader, Dataset\n",
    "from torch.utils.data.dataset import random_split\n",
    "\n",
    "from tqdm import tqdm\n",
    "from collections import Counter\n",
    "\n",
    "import math"
   ]
  },
  {
   "cell_type": "markdown",
   "id": "d32d7025",
   "metadata": {},
   "source": [
    "# 參數設置"
   ]
  },
  {
   "cell_type": "code",
   "execution_count": 3,
   "id": "6da217e0",
   "metadata": {},
   "outputs": [],
   "source": [
    "# 超參數\n",
    "EPOCHS = 15\n",
    "LEARNING_RATE = 0.001                  # Learning_rate\n",
    "BATCH_SIZE = 8\n",
    "ALPHA = 0.01 \n",
    "BETA = 0.001 \n",
    "EMBEDDING_DIMENSION = 32               # 嵌入維度\n",
    "MODEL_DIMENSION = EMBEDDING_DIMENSION  # 模型維度\n",
    "HIDDEN_DIMENSION = 128                 # MLP 隱藏層維度\n",
    "HIDDEN_SIZE = 16                       # LSTM 隱藏層維度\n",
    "NUM_HEAD = 2\n",
    "NUM_LAYER = 4\n",
    "\n",
    "isMC = 1\n",
    "isI2V = 1"
   ]
  },
  {
   "cell_type": "markdown",
   "id": "4283cbc8",
   "metadata": {},
   "source": [
    "# 匯入檔案\n",
    "- item2Vec_TaFeng.32d.model\n",
    "- TaFeng_user_cart_itemid_list.gz\n",
    "- Ta_feng_clean.csv"
   ]
  },
  {
   "cell_type": "code",
   "execution_count": 4,
   "id": "3715f2a4",
   "metadata": {},
   "outputs": [],
   "source": [
    "# 資料集\n",
    "# DATASET_NAME = \"TaFeng\"     # 讀取TaFeng資料\n",
    "# DATASET_NAME = \"Dunnhumby\"  # 讀取Dunnhumby資料\n",
    "DATASET_NAME = \"Instacart\"  # 讀取Instacart資料"
   ]
  },
  {
   "cell_type": "code",
   "execution_count": 5,
   "id": "32520298",
   "metadata": {},
   "outputs": [
    {
     "data": {
      "text/plain": [
       "torch.Size([27095, 32])"
      ]
     },
     "execution_count": 5,
     "metadata": {},
     "output_type": "execute_result"
    }
   ],
   "source": [
    "# load word2Vec pre_train model\n",
    "model_filename = f\"../preprocessing-data/item2vec_models/item2vec_{DATASET_NAME}.{EMBEDDING_DIMENSION}d.model\"\n",
    "# {DATASET}\n",
    "with open(model_filename, \"rb\") as fp:\n",
    "    model = pickle.load(fp)\n",
    "weights = torch.FloatTensor(model.wv.vectors)\n",
    "weights.shape"
   ]
  },
  {
   "cell_type": "code",
   "execution_count": 6,
   "id": "bbe80d00",
   "metadata": {
    "scrolled": true
   },
   "outputs": [
    {
     "data": {
      "text/plain": [
       "[(1,\n",
       "  [[0, 1, 2, 3, 4],\n",
       "   [0, 5, 2, 6, 3, 7],\n",
       "   [0, 2, 5, 8, 9],\n",
       "   [0, 2, 5, 8, 4],\n",
       "   [0, 2, 5, 8, 10, 11, 12, 6],\n",
       "   [0, 2, 5, 8],\n",
       "   [0, 5, 2, 8, 7],\n",
       "   [2, 0, 5, 8, 13, 14],\n",
       "   [14, 13, 8, 0, 5, 2],\n",
       "   [0, 13, 15, 16, 8, 5, 17, 7, 2],\n",
       "   [0, 8, 16, 4, 15, 5, 7, 3, 18, 14, 13]],\n",
       "  [5, 6, 5, 5, 8, 4, 5, 6, 6, 9, 11]),\n",
       " (2,\n",
       "  [[19, 20, 21, 22, 23, 24, 25, 26, 27, 28, 29, 6, 30],\n",
       "   [31, 32, 33, 20, 34, 35],\n",
       "   [20, 19, 21, 36, 37],\n",
       "   [38, 19, 39, 40, 41, 42, 43, 44, 45, 46, 47, 48, 49],\n",
       "   [50, 51, 52, 53, 54, 55, 56, 57, 58, 59, 60, 61, 20],\n",
       "   [19,\n",
       "    22,\n",
       "    48,\n",
       "    39,\n",
       "    62,\n",
       "    27,\n",
       "    44,\n",
       "    30,\n",
       "    29,\n",
       "    45,\n",
       "    41,\n",
       "    63,\n",
       "    64,\n",
       "    65,\n",
       "    66,\n",
       "    67,\n",
       "    68,\n",
       "    69,\n",
       "    12,\n",
       "    34,\n",
       "    46],\n",
       "   [19, 22, 25, 62, 34, 39, 45, 44, 70, 71, 72, 30, 12, 40],\n",
       "   [19, 73, 44, 40, 23, 45, 62, 72, 71, 70, 74, 75, 76, 77, 78, 79],\n",
       "   [19,\n",
       "    44,\n",
       "    22,\n",
       "    54,\n",
       "    77,\n",
       "    36,\n",
       "    80,\n",
       "    81,\n",
       "    82,\n",
       "    64,\n",
       "    59,\n",
       "    60,\n",
       "    61,\n",
       "    83,\n",
       "    66,\n",
       "    65,\n",
       "    84,\n",
       "    24,\n",
       "    85,\n",
       "    86,\n",
       "    87,\n",
       "    47,\n",
       "    88,\n",
       "    89,\n",
       "    90,\n",
       "    91],\n",
       "   [44, 22, 45, 65, 66, 61, 60, 77, 92],\n",
       "   [19, 93, 34, 60, 66, 61, 59, 64, 24, 25, 39, 94, 45, 77, 95],\n",
       "   [19,\n",
       "    45,\n",
       "    59,\n",
       "    60,\n",
       "    61,\n",
       "    83,\n",
       "    96,\n",
       "    97,\n",
       "    98,\n",
       "    99,\n",
       "    100,\n",
       "    66,\n",
       "    41,\n",
       "    74,\n",
       "    64,\n",
       "    25,\n",
       "    101,\n",
       "    102,\n",
       "    103],\n",
       "   [104, 105, 106, 107, 108, 109, 110, 111, 112],\n",
       "   [44, 25, 61, 60, 66, 113, 114, 64, 98, 45, 36, 92, 115, 116, 117, 118],\n",
       "   [74,\n",
       "    118,\n",
       "    25,\n",
       "    19,\n",
       "    12,\n",
       "    113,\n",
       "    119,\n",
       "    44,\n",
       "    30,\n",
       "    120,\n",
       "    84,\n",
       "    121,\n",
       "    122,\n",
       "    123,\n",
       "    124,\n",
       "    125,\n",
       "    89,\n",
       "    47,\n",
       "    126,\n",
       "    127,\n",
       "    90,\n",
       "    128,\n",
       "    129,\n",
       "    130,\n",
       "    131,\n",
       "    132,\n",
       "    133,\n",
       "    134,\n",
       "    135,\n",
       "    136,\n",
       "    137]],\n",
       "  [13, 6, 5, 13, 13, 21, 14, 16, 26, 9, 15, 19, 9, 16, 31])]"
      ]
     },
     "execution_count": 6,
     "metadata": {},
     "output_type": "execute_result"
    }
   ],
   "source": [
    "# {DATASET} user_cart_itemid_list 用戶id, 購物籃時間差(不會使用到), 此用戶的購物籃串列(每個串列包含多項目)。\n",
    "with gzip.open(f\"../preprocessing-data/{DATASET_NAME}_user_cart_itemid_list.gz\", \"rb\") as fp:\n",
    "    user_cart_itemid_list = pickle.load(fp)\n",
    "user_cart_itemid_list[:2]"
   ]
  },
  {
   "cell_type": "code",
   "execution_count": 7,
   "id": "361c43d7",
   "metadata": {},
   "outputs": [],
   "source": [
    "# Load {DATASET} confidences_Matrix\n",
    "with gzip.open(f\"../preprocessing-data/confidences/{DATASET_NAME}_confidences_array.gz\", \"rb\") as fp:\n",
    "    confidences = pickle.load(fp)"
   ]
  },
  {
   "cell_type": "code",
   "execution_count": 8,
   "id": "b83d2fe8",
   "metadata": {},
   "outputs": [
    {
     "name": "stdout",
     "output_type": "stream",
     "text": [
      "100\n"
     ]
    },
    {
     "data": {
      "text/html": [
       "<div>\n",
       "<style scoped>\n",
       "    .dataframe tbody tr th:only-of-type {\n",
       "        vertical-align: middle;\n",
       "    }\n",
       "\n",
       "    .dataframe tbody tr th {\n",
       "        vertical-align: top;\n",
       "    }\n",
       "\n",
       "    .dataframe thead th {\n",
       "        text-align: right;\n",
       "    }\n",
       "</style>\n",
       "<table border=\"1\" class=\"dataframe\">\n",
       "  <thead>\n",
       "    <tr style=\"text-align: right;\">\n",
       "      <th></th>\n",
       "      <th>CUSTOMER_ID</th>\n",
       "      <th>ORDER_NUMBER</th>\n",
       "      <th>PRODUCT_ID</th>\n",
       "      <th>CART_ID</th>\n",
       "      <th>NEW_ITEM_ID</th>\n",
       "    </tr>\n",
       "  </thead>\n",
       "  <tbody>\n",
       "    <tr>\n",
       "      <th>0</th>\n",
       "      <td>1</td>\n",
       "      <td>1</td>\n",
       "      <td>196</td>\n",
       "      <td>0</td>\n",
       "      <td>0</td>\n",
       "    </tr>\n",
       "    <tr>\n",
       "      <th>1</th>\n",
       "      <td>1</td>\n",
       "      <td>1</td>\n",
       "      <td>14084</td>\n",
       "      <td>0</td>\n",
       "      <td>1</td>\n",
       "    </tr>\n",
       "    <tr>\n",
       "      <th>2</th>\n",
       "      <td>1</td>\n",
       "      <td>1</td>\n",
       "      <td>12427</td>\n",
       "      <td>0</td>\n",
       "      <td>2</td>\n",
       "    </tr>\n",
       "    <tr>\n",
       "      <th>3</th>\n",
       "      <td>1</td>\n",
       "      <td>1</td>\n",
       "      <td>26088</td>\n",
       "      <td>0</td>\n",
       "      <td>3</td>\n",
       "    </tr>\n",
       "    <tr>\n",
       "      <th>4</th>\n",
       "      <td>1</td>\n",
       "      <td>1</td>\n",
       "      <td>26405</td>\n",
       "      <td>0</td>\n",
       "      <td>4</td>\n",
       "    </tr>\n",
       "    <tr>\n",
       "      <th>...</th>\n",
       "      <td>...</td>\n",
       "      <td>...</td>\n",
       "      <td>...</td>\n",
       "      <td>...</td>\n",
       "      <td>...</td>\n",
       "    </tr>\n",
       "    <tr>\n",
       "      <th>3252971</th>\n",
       "      <td>20620</td>\n",
       "      <td>5</td>\n",
       "      <td>22963</td>\n",
       "      <td>295153</td>\n",
       "      <td>74</td>\n",
       "    </tr>\n",
       "    <tr>\n",
       "      <th>3252972</th>\n",
       "      <td>20620</td>\n",
       "      <td>5</td>\n",
       "      <td>12204</td>\n",
       "      <td>295153</td>\n",
       "      <td>1604</td>\n",
       "    </tr>\n",
       "    <tr>\n",
       "      <th>3252973</th>\n",
       "      <td>20620</td>\n",
       "      <td>5</td>\n",
       "      <td>21543</td>\n",
       "      <td>295153</td>\n",
       "      <td>3295</td>\n",
       "    </tr>\n",
       "    <tr>\n",
       "      <th>3252974</th>\n",
       "      <td>20620</td>\n",
       "      <td>5</td>\n",
       "      <td>23541</td>\n",
       "      <td>295153</td>\n",
       "      <td>417</td>\n",
       "    </tr>\n",
       "    <tr>\n",
       "      <th>3252975</th>\n",
       "      <td>20620</td>\n",
       "      <td>5</td>\n",
       "      <td>45106</td>\n",
       "      <td>295153</td>\n",
       "      <td>2494</td>\n",
       "    </tr>\n",
       "  </tbody>\n",
       "</table>\n",
       "<p>3252976 rows × 5 columns</p>\n",
       "</div>"
      ],
      "text/plain": [
       "         CUSTOMER_ID  ORDER_NUMBER  PRODUCT_ID  CART_ID  NEW_ITEM_ID\n",
       "0                  1             1         196        0            0\n",
       "1                  1             1       14084        0            1\n",
       "2                  1             1       12427        0            2\n",
       "3                  1             1       26088        0            3\n",
       "4                  1             1       26405        0            4\n",
       "...              ...           ...         ...      ...          ...\n",
       "3252971        20620             5       22963   295153           74\n",
       "3252972        20620             5       12204   295153         1604\n",
       "3252973        20620             5       21543   295153         3295\n",
       "3252974        20620             5       23541   295153          417\n",
       "3252975        20620             5       45106   295153         2494\n",
       "\n",
       "[3252976 rows x 5 columns]"
      ]
     },
     "execution_count": 8,
     "metadata": {},
     "output_type": "execute_result"
    }
   ],
   "source": [
    "dataset = pd.read_csv(f\"../cleaned_dataset/{DATASET_NAME}_clean.csv\")\n",
    "\n",
    "# 最多購物籃\n",
    "max_cart_count = dataset.groupby(\"CUSTOMER_ID\")[\"CART_ID\"].nunique().max()\n",
    "print(max_cart_count)\n",
    "\n",
    "dataset"
   ]
  },
  {
   "cell_type": "markdown",
   "id": "a0877d82",
   "metadata": {},
   "source": [
    "# 切分資料集\n",
    "- 分成輸入資料與標籤資料\n",
    "- 訓練集:驗證集:測試集 = 7:1:2"
   ]
  },
  {
   "cell_type": "code",
   "execution_count": 9,
   "id": "73e9cf41",
   "metadata": {},
   "outputs": [],
   "source": [
    "# 切分資料集\n",
    "# train_set_size = int(len(user_cart_itemid_list) * 0.8)\n",
    "# valid_set_size = int(len(user_cart_itemid_list) * 0.1)\n",
    "# test_set_size = len(user_cart_itemid_list)-train_set_size-valid_set_size\n",
    "# train_set, valid_set, test_set = random_split(user_cart_itemid_list, [train_set_size, valid_set_size, test_set_size])\n",
    "# print(len(train_set))\n",
    "# print(len(valid_set))\n",
    "# print(len(test_set))"
   ]
  },
  {
   "cell_type": "code",
   "execution_count": 10,
   "id": "5edaa93d",
   "metadata": {},
   "outputs": [],
   "source": [
    "# 將切割好的資料集暫存起來\n",
    "\n",
    "# # 訓練集\n",
    "# filepath = \"../preprocessing-data/TaFeng_dataset/train_set.pkl\"\n",
    "# with open(filepath, \"wb\") as f:\n",
    "#     pickle.dump(train_set, f)\n",
    "# # 驗證集\n",
    "# filepath = \"../preprocessing-data/TaFeng_dataset/valid_set.pkl\"\n",
    "# with open(filepath, \"wb\") as f:\n",
    "#     pickle.dump(valid_set, f)\n",
    "# # 測試集\n",
    "# filepath = \"../preprocessing-data/TaFeng_dataset/test_set.pkl\"\n",
    "# with open(filepath, \"wb\") as f:\n",
    "#     pickle.dump(test_set, f)"
   ]
  },
  {
   "cell_type": "code",
   "execution_count": 11,
   "id": "b203d0c9",
   "metadata": {},
   "outputs": [],
   "source": [
    "# 讀取之前暫存的資料集\n",
    "\n",
    "# 載入訓練、驗證、測試集\n",
    "with open(f\"../preprocessing-data/{DATASET_NAME}_dataset/train_set.pkl\", \"rb\") as fp:\n",
    "    train_set = pickle.load(fp)\n",
    "with open(f\"../preprocessing-data/{DATASET_NAME}_dataset/valid_set.pkl\", \"rb\") as fp:\n",
    "    valid_set = pickle.load(fp)\n",
    "with open(f\"../preprocessing-data/{DATASET_NAME}_dataset/test_set.pkl\", \"rb\") as fp:\n",
    "    test_set = pickle.load(fp)"
   ]
  },
  {
   "cell_type": "markdown",
   "id": "c9585447",
   "metadata": {},
   "source": [
    "# Batch"
   ]
  },
  {
   "cell_type": "code",
   "execution_count": 12,
   "id": "a209539b",
   "metadata": {
    "scrolled": true
   },
   "outputs": [
    {
     "data": {
      "text/plain": [
       "device(type='cuda')"
      ]
     },
     "execution_count": 12,
     "metadata": {},
     "output_type": "execute_result"
    }
   ],
   "source": [
    "device = torch.device(\"cuda\" if torch.cuda.is_available() else \"cpu\")\n",
    "device"
   ]
  },
  {
   "cell_type": "code",
   "execution_count": 13,
   "id": "b348e2b5",
   "metadata": {},
   "outputs": [],
   "source": [
    "# 定義資料轉換函數(於collate_batch函式中使用)\n",
    "item_index_pipeline = lambda x : [[model.wv.key_to_index[j] for j in i] for i in x] # 取得購物籃中，項目的索引值(只有使用Item2Vec時會需要)\n",
    "item_label_pipeline = lambda x : [model.wv.key_to_index[j] for j in x]"
   ]
  },
  {
   "cell_type": "code",
   "execution_count": 14,
   "id": "92fb3dee",
   "metadata": {},
   "outputs": [],
   "source": [
    "class TensorDataset(Dataset):\n",
    "    # TensorDataset繼承Dataset, 重載__init__, __getitem__, __len__\n",
    "    # 實現將一組Tensor數據封裝成Tensor數據集\n",
    "    # 能夠通過Index得到數據集的數據，能夠通過len，得到數據集大小\n",
    "    def __init__(self, data_tensor):\n",
    "        self.data_tensor = data_tensor\n",
    "    def __getitem__(self, index):\n",
    "        return self.data_tensor[index]\n",
    "    def __len__(self):\n",
    "        return len(self.data_tensor)\n",
    "\n",
    "# 輸出userID, input_list跟label(最後一個購物籃)\n",
    "def collate_batch(batch):\n",
    "    # 使用ID、時間差、訓練的購物籃項目、預測的購物籃項目\n",
    "    userID, input_item_list, label_item_list, input_size_list, label_size_list = [], [], [], [], []\n",
    "    for _user in batch:\n",
    "        #　userID\n",
    "        userID.append(_user[0])\n",
    "        # 所有購物籃的項目ID串列中的最後一個購物籃項目ID\n",
    "#         label_item_list.append(torch.tensor(_user[1][-1]))\n",
    "        label_size_list.append(torch.tensor(_user[2][-1]))\n",
    "        \n",
    "        # 不使用Item2Vec進行項目嵌入\n",
    "        if isI2V == 0:\n",
    "            train_list = _user[1][0:-1]\n",
    "            label_list = torch.tensor(_user[1][-1])\n",
    "        # 使用Item2Vec進行項目嵌入\n",
    "        else:\n",
    "            train_list = item_index_pipeline(_user[1][0:-1])\n",
    "            label_list = torch.tensor(item_label_pipeline(_user[1][-1]))\n",
    "        input_size_list.append(_user[2][0:-1])\n",
    "        \n",
    "        input_item_list.append(train_list) #　所有購物籃的項目ID串列(除了最後一個購物籃)\n",
    "        label_item_list.append(label_list)\n",
    "    \n",
    "    return userID, input_item_list, label_item_list, input_size_list, label_size_list"
   ]
  },
  {
   "cell_type": "code",
   "execution_count": 15,
   "id": "f442f66a",
   "metadata": {},
   "outputs": [],
   "source": [
    "# 轉成 Dataset\n",
    "split_train_ = TensorDataset(train_set)\n",
    "split_valid_ = TensorDataset(valid_set)\n",
    "split_test_ = TensorDataset(test_set)"
   ]
  },
  {
   "cell_type": "code",
   "execution_count": 16,
   "id": "54fe7bc6",
   "metadata": {},
   "outputs": [],
   "source": [
    "# DataLoader \n",
    "train_dataloader = DataLoader(split_train_, batch_size=BATCH_SIZE, shuffle=True, collate_fn=collate_batch, drop_last=True)\n",
    "valid_dataloader = DataLoader(split_valid_, batch_size=BATCH_SIZE, shuffle=True, collate_fn=collate_batch, drop_last=True)\n",
    "test_dataloader = DataLoader(split_test_, batch_size=BATCH_SIZE, shuffle=True, collate_fn=collate_batch, drop_last=True)"
   ]
  },
  {
   "cell_type": "markdown",
   "id": "637657be",
   "metadata": {},
   "source": [
    "# Self-Attention"
   ]
  },
  {
   "cell_type": "code",
   "execution_count": 17,
   "id": "a96171ad",
   "metadata": {},
   "outputs": [],
   "source": [
    "# 使用nn.MultiheadAttention\n",
    "# 輸入一個用戶的一個購物籃，輸出購物籃嵌入\n",
    "class SelfAttention(nn.Module):\n",
    "    def __init__(self, embed_dim, model_dim): #項目向量維度，輸出模型的維度\n",
    "        super(SelfAttention, self).__init__()\n",
    "        self.embed_dim = embed_dim\n",
    "        self.model_dim = model_dim\n",
    "        \n",
    "        # 初始化Q, K, V 矩陣\n",
    "        self.query_matrix = nn.Linear(embed_dim, model_dim)\n",
    "        xavier_uniform_(self.query_matrix.weight)\n",
    "        self.key_matrix = nn.Linear(embed_dim, model_dim)\n",
    "        xavier_uniform_(self.key_matrix.weight)\n",
    "        self.value_matrix = nn.Linear(embed_dim, model_dim)\n",
    "        xavier_uniform_(self.value_matrix.weight)\n",
    "        self.multihead_attn = nn.MultiheadAttention(embed_dim, num_heads=1)\n",
    "        \n",
    "    def forward(self, inputs, attention_mask):\n",
    "        \n",
    "        # 輸入一個項目向量，透過三個可學習的參數矩陣，得到計算所需要的 q,k,v\n",
    "        q = self.query_matrix(inputs)\n",
    "        k = self.key_matrix(inputs)\n",
    "        v = self.value_matrix(inputs)\n",
    "        \n",
    "        attn_output, attn_output_weight = self.multihead_attn(q, k, v, key_padding_mask=attention_mask.transpose(0,1))\n",
    "        \n",
    "        output_mean = torch.tensor([[0 for _ in range(MODEL_DIMENSION)] for _ in range(len(attention_mask))], dtype=torch.float).to(device)\n",
    "        for i, cart in enumerate(attention_mask):\n",
    "            for j, mask in enumerate(cart):\n",
    "                if mask == False:\n",
    "                    output_mean[i] = attn_output[i][j] # 使用最後一個項目作為輸出\n",
    "        basket_embedding = output_mean\n",
    "        \n",
    "        return basket_embedding"
   ]
  },
  {
   "cell_type": "markdown",
   "id": "a3043def",
   "metadata": {},
   "source": [
    "   # LSTM"
   ]
  },
  {
   "cell_type": "code",
   "execution_count": 18,
   "id": "3b8530b2",
   "metadata": {},
   "outputs": [],
   "source": [
    "class LSTM(nn.Module):\n",
    "    def __init__(self, input_size, output_size, hiddenlayer1 = 512, hiddenlayer2 = 256, hiddenlayer3 = 128):\n",
    "        super(LSTM, self).__init__()\n",
    "        self.lstm = torch.nn.LSTM(input_size, HIDDEN_SIZE, 2)\n",
    "        self.hiddenlayer1 = torch.nn.Linear(max_cart_count * HIDDEN_SIZE, hiddenlayer1)\n",
    "        self.hiddenlayer2 = torch.nn.Linear(hiddenlayer1, hiddenlayer1)\n",
    "        self.hiddenlayer3 = torch.nn.Linear(hiddenlayer1, hiddenlayer2)\n",
    "        self.hiddenlayer4 = torch.nn.Linear(hiddenlayer2, hiddenlayer3)\n",
    "        self.embed = torch.nn.Linear(hiddenlayer3, EMBEDDING_DIMENSION)\n",
    "        self.leakyrelu = torch.nn.LeakyReLU()\n",
    "    \n",
    "    def forward(self, inputs):\n",
    "        output, (h,c) = self.lstm(inputs)\n",
    "        hidden1 = self.hiddenlayer1(output.view(max_cart_count * HIDDEN_SIZE))\n",
    "        hidden2 = self.hiddenlayer2(hidden1)\n",
    "        hidden3 = self.hiddenlayer3(hidden2)\n",
    "        hidden4 = self.hiddenlayer4(hidden3)\n",
    "        output = self.embed(hidden4)\n",
    "        return output"
   ]
  },
  {
   "cell_type": "markdown",
   "id": "00cd99b7",
   "metadata": {},
   "source": [
    "# Transformer"
   ]
  },
  {
   "cell_type": "code",
   "execution_count": 19,
   "id": "bc0ed90c",
   "metadata": {},
   "outputs": [],
   "source": [
    "class PositionalEncoding(nn.Module):\n",
    "    def __init__(self, d_model:int, dropout, maxlen:int=500):\n",
    "        super(PositionalEncoding, self).__init__()\n",
    "        # den 是把10000^(2i/d_model)取log_e，前面加負號是求倒數\n",
    "        den = torch.exp(-torch.arange(0, d_model, 2) * math.log(10000) / d_model)\n",
    "        pos = torch.arange(0, maxlen).reshape(maxlen, 1)\n",
    "        pos_embedding = torch.zeros(maxlen, d_model)#.to(device)\n",
    "        pos_embedding[:, 0::2] = torch.sin(pos*den)\n",
    "        pos_embedding[:, 1::2] = torch.cos(pos*den)\n",
    "        \n",
    "        pos_embedding = pos_embedding.unsqueeze(0)\n",
    "        \n",
    "        self.dropout = nn.Dropout(dropout)\n",
    "        self.register_buffer(\"pos_embedding\", pos_embedding)\n",
    "        \n",
    "    def forward(self, token_embedding):\n",
    "        return self.dropout(token_embedding+ self.pos_embedding[:, :token_embedding.size(1), :])\n",
    "    \n",
    "class TransformerEncoder(nn.Module):\n",
    "    def __init__(self, d_model, num_heads=8, num_layers=6):\n",
    "        super(TransformerEncoder, self).__init__()\n",
    "        self.pe = PositionalEncoding(d_model=d_model, dropout=0.5, maxlen=max_cart_count*2)\n",
    "        # 創建 Transformer 模型\n",
    "        self.transformer = nn.TransformerEncoder(\n",
    "            nn.TransformerEncoderLayer(d_model=d_model, nhead=num_heads),\n",
    "            num_layers=num_layers\n",
    "        )\n",
    "    \n",
    "    def forward(self, baskets_embedding):\n",
    "        baskets_embedding_pe = self.pe(baskets_embedding)\n",
    "        \n",
    "        # 購物籃padding的遮罩\n",
    "        padding_mask = ~baskets_embedding.sum(dim=-1).ne(0).transpose(0,1)\n",
    "        \n",
    "        output = self.transformer(baskets_embedding_pe.to(torch.float32), src_key_padding_mask=padding_mask.to(torch.float32))\n",
    "        return output"
   ]
  },
  {
   "cell_type": "markdown",
   "id": "9cdd237c",
   "metadata": {},
   "source": [
    "# MLP層"
   ]
  },
  {
   "cell_type": "code",
   "execution_count": 20,
   "id": "e8fb5303",
   "metadata": {},
   "outputs": [],
   "source": [
    "class MLPforItem(nn.Module):\n",
    "    def __init__(self, embed_dim, hidden_dim, items_dim):\n",
    "        super(MLPforItem, self).__init__()\n",
    "        # hidden layer\n",
    "        self.hidden = nn.Linear(embed_dim, hidden_dim)\n",
    "        xavier_uniform_(self.hidden.weight)\n",
    "        self.norm = nn.BatchNorm1d(hidden_dim, momentum=0.03)\n",
    "        self.relu = nn.ReLU()\n",
    "        # output layer\n",
    "        self.output = nn.Linear(hidden_dim, items_dim)\n",
    "        self.softmax = nn.Softmax(dim=0)\n",
    "    def forward(self, inputs):\n",
    "        y = self.relu(self.norm(self.hidden(inputs)))\n",
    "        return self.output(y)\n",
    "#         return self.softmax(self.output(y))"
   ]
  },
  {
   "cell_type": "code",
   "execution_count": 21,
   "id": "b52aa95b",
   "metadata": {},
   "outputs": [],
   "source": [
    "class MLPforSize(nn.Module):\n",
    "    def __init__(self, embed_dim):\n",
    "        super(MLPforSize, self).__init__()\n",
    "        # predict layer\n",
    "        self.predict = nn.Linear(embed_dim, 1)\n",
    "        self.relu = nn.ReLU()\n",
    "    def forward(self, inputs):\n",
    "        output = self.relu(self.predict(inputs))\n",
    "        return output"
   ]
  },
  {
   "cell_type": "markdown",
   "id": "9afdd949",
   "metadata": {},
   "source": [
    "# 損失函數"
   ]
  },
  {
   "cell_type": "code",
   "execution_count": 22,
   "id": "9b8084b8",
   "metadata": {},
   "outputs": [],
   "source": [
    "# MSE\n",
    "def mean_square_error(prediction, target):\n",
    "    predictions = prediction[0]\n",
    "    targets = torch.tensor([target[0]], dtype=torch.float).to(device)\n",
    "    loss = F.mse_loss(predictions, targets)\n",
    "    for i in range(1, len(prediction)):\n",
    "        predictions = prediction[i]\n",
    "        targets= torch.tensor([target[i]], dtype=torch.float).to(device)\n",
    "        loss += F.mse_loss(predictions, targets)\n",
    "    return loss"
   ]
  },
  {
   "cell_type": "code",
   "execution_count": 23,
   "id": "578a7e8b",
   "metadata": {},
   "outputs": [],
   "source": [
    "# cross_entropy_loss\n",
    "def cross_entropy_loss(predictions, targets):\n",
    "    # 創建稀疏張量的索引和值\n",
    "    indices = []\n",
    "    values = []\n",
    "    for i, t in enumerate(targets):\n",
    "        for v in t:\n",
    "            indices.append([i, v])\n",
    "            values.append(1)\n",
    "            \n",
    "    # 創建稀疏張量\n",
    "    sparse_targets = torch.sparse_coo_tensor(indices=torch.tensor(indices).t(),\n",
    "                                             values=torch.tensor(values, dtype=torch.float32),\n",
    "                                             size=(len(targets), items_count), device=device)\n",
    "    sparse_targets = sparse_targets.to_dense()\n",
    "    \n",
    "    loss = F.binary_cross_entropy_with_logits(predictions, sparse_targets)\n",
    "    return loss"
   ]
  },
  {
   "cell_type": "markdown",
   "id": "08aefe4a",
   "metadata": {},
   "source": [
    "# 評估指標"
   ]
  },
  {
   "cell_type": "code",
   "execution_count": 24,
   "id": "02891cdd",
   "metadata": {},
   "outputs": [],
   "source": [
    "def format_metric(result_dict):\n",
    "    assert type(result_dict) == dict\n",
    "    format_str = []\n",
    "    metrics = np.unique([k for k in result_dict.keys()])\n",
    "    for metric in metrics:\n",
    "        name = '{}'.format(metric)\n",
    "        m = result_dict[name]\n",
    "        if type(m) is float or type(m) is np.float32 or type(m) is np.float64:\n",
    "            format_str.append(\"{}: {:<.4f}\".format(name, m))\n",
    "        elif type(m) is int or type(m) is np.int32 or type(m) is np.int64:\n",
    "            format_str.append(\"{}: {}\".format(name, m))\n",
    "    return \", \".join(format_str)"
   ]
  },
  {
   "cell_type": "markdown",
   "id": "fa92db9d",
   "metadata": {},
   "source": [
    "## F1-score"
   ]
  },
  {
   "cell_type": "code",
   "execution_count": 25,
   "id": "f7cca32b",
   "metadata": {},
   "outputs": [],
   "source": [
    "def calculate_f1_score(predictions, targets, k_list):\n",
    "    \"\"\"\n",
    "    計算 F1-score@K。\n",
    "\n",
    "    Args:\n",
    "        predictions: 二維的預測機率矩陣，大小為 [num_users, num_items]。\n",
    "        targets: 一個包含每個用戶真實標籤的列表，其中每個列表的大小不同。\n",
    "        k_list: 用預測出的K值，計算F1-score@K\n",
    "\n",
    "    Returns:\n",
    "        F1-score@K 分數。\n",
    "    \"\"\"\n",
    "    # 將預測機率矩陣值轉換為 Pytorch 張量\n",
    "    predictions = torch.from_numpy(np.array(predictions, dtype=np.float32))\n",
    "    num_users = len(targets)\n",
    "    f1_score_eval = dict()\n",
    "    \n",
    "    precision_sum = 0.0\n",
    "    recall_sum = 0.0\n",
    "    f1_score_sum = 0.0\n",
    "    for i in range(num_users):\n",
    "        \n",
    "        # 將用戶 i 的真實標籤轉換為 PyTorch 張量。\n",
    "        labels = torch.from_numpy(np.array(targets[i], dtype=np.int64))\n",
    "        # 計算用戶 i 在預測機率矩陣中機率最高的 K 個項目索引\n",
    "        top_k_item_labels = torch.topk(predictions[i], k_list[i])[1]\n",
    "        # 計算用戶 i 的真實標籤和預測標籤的交集 (TP)\n",
    "        true_positives = torch.sum(torch.sum(torch.eq(top_k_item_labels, labels.unsqueeze(1)).to(torch.float32), dim=1)).item()\n",
    "        # 計算用戶 i 的真實標籤和預測標籤的聯集\n",
    "        predicted_positives = k_list[i] # TP+FP\n",
    "        actual_positives = len(labels)  # TP+FN\n",
    "        # 預防 K 預測為0導致 precision 分母為0\n",
    "        if predicted_positives == 0:\n",
    "            precision = 0.0\n",
    "        else:\n",
    "            precision = true_positives / predicted_positives\n",
    "        # 預防實際 K 為0導致 recall 分母為0\n",
    "        if actual_positives == 0:\n",
    "            recall = 0.0\n",
    "        else:\n",
    "            recall = true_positives / actual_positives\n",
    "        # 計算F1-score\n",
    "        if precision + recall == 0:\n",
    "            f1_score = 0.0\n",
    "        else:\n",
    "            f1_score = 2 * precision * recall / (precision + recall)\n",
    "        precision_sum += precision\n",
    "        recall_sum += recall\n",
    "        f1_score_sum += f1_score\n",
    "        \n",
    "    # 計算平均分數\n",
    "    precision = precision_sum / float(num_users)\n",
    "    recall = recall_sum / float(num_users)\n",
    "    f1_score = f1_score_sum / float(num_users)\n",
    "    # 儲存到dict\n",
    "    key = \"{}\".format(\"Recall\")\n",
    "    f1_score_eval[key] = recall\n",
    "    key = \"{}\".format(\"Precision\")\n",
    "    f1_score_eval[key] = precision\n",
    "    key = \"{}\".format(\"F1-score\")\n",
    "    f1_score_eval[key] = f1_score\n",
    "    \n",
    "    return f1_score_eval"
   ]
  },
  {
   "cell_type": "markdown",
   "id": "506ff404",
   "metadata": {},
   "source": [
    "## NDCG"
   ]
  },
  {
   "cell_type": "code",
   "execution_count": 26,
   "id": "4c566188",
   "metadata": {},
   "outputs": [],
   "source": [
    "def calculate_ndcg(basket_predictions, basket_targets, size_predictions, size_targets):\n",
    "    \"\"\"\n",
    "    計算 NDCG@K。\n",
    "\n",
    "    Args:\n",
    "        basket_predictions: 預測購物籃項目\n",
    "        bakset_targets: 實際購物籃項目\n",
    "        size_predictions: 預測購物籃大小\n",
    "        size_targets: 實際購物籃大小  \n",
    "\n",
    "    Returns:\n",
    "        NDCG@K 分數。\n",
    "    \"\"\"\n",
    "    # 將預測機率矩陣轉換為 PyTorch 張量\n",
    "    predictions = torch.from_numpy(np.array(basket_predictions, dtype=np.float32))\n",
    "    num_users = len(basket_targets)\n",
    "    ndcg_eval = dict()\n",
    "    \n",
    "    ndcg_sum = 0.0\n",
    "    for i in range(num_users):\n",
    "        # 將用戶 i 的真實標籤轉換為 PyTorch 張量\n",
    "        labels = torch.from_numpy(np.array(basket_targets[i], dtype=np.int64))\n",
    "        # 計算用戶 i 在預測機率矩陣中機率最高的 K 個項目的索引=標籤\n",
    "        top_k_item_labels = torch.topk(basket_predictions[i], size_predictions[i])[1]\n",
    "        # 計算 DCG@K\n",
    "        dcg_at_k = torch.sum(torch.nan_to_num(torch.div(1.0, torch.log2(torch.arange(size_predictions[i], dtype=torch.float32) +2))) * (torch.eq(top_k_item_labels, labels.unsqueeze(1)).to(torch.float32)))\n",
    "        # 計算 IDCG@K\n",
    "        idcg_at_k = torch.sum(torch.div(1.0, torch.log2(torch.arange(len(labels), dtype=torch.float32) + 2)))\n",
    "        # 計算 NDCG@K * Penalty weight\n",
    "        if torch.eq(idcg_at_k, 0):\n",
    "            ndcg_at_k = idcg_at_k\n",
    "        else:\n",
    "            ndcg_at_k = (dcg_at_k / idcg_at_k) * (size_targets[i] / (size_targets[i] + abs(size_targets[i] - size_predictions[i])))\n",
    "        ndcg_sum += ndcg_at_k.item()\n",
    "    #　計算平均　NDCG@K 分數\n",
    "    ndcg = ndcg_sum / float(num_users)\n",
    "    key = \"{}\".format(\"NDCG\")\n",
    "    ndcg_eval[key] = ndcg\n",
    "\n",
    "    return ndcg_eval"
   ]
  },
  {
   "cell_type": "code",
   "execution_count": 27,
   "id": "4b4fe7dc",
   "metadata": {},
   "outputs": [],
   "source": [
    "def calculate_mae(size_predictions, size_targets):\n",
    "    sum = 0\n",
    "    num_users = len(size_targets)\n",
    "    mae_eval = dict()\n",
    "    for i in range(num_users):\n",
    "        sum += abs(size_predictions[i] - (size_targets[i]).item())\n",
    "    key = \"{}\".format(\"MAE\")\n",
    "    mae_eval[key] = sum / num_users\n",
    "    return mae_eval"
   ]
  },
  {
   "cell_type": "markdown",
   "id": "213301db",
   "metadata": {},
   "source": [
    "# 訓練&測試"
   ]
  },
  {
   "cell_type": "code",
   "execution_count": 28,
   "id": "5d503206",
   "metadata": {},
   "outputs": [],
   "source": [
    "# 訓練模型\n",
    "def train_model():\n",
    "    my_model.train()\n",
    "    loss_list = []\n",
    "    \n",
    "    for batch_idx, (userID, basket_input, basket_label, size_input, size_label) in enumerate(tqdm(train_dataloader)):\n",
    "        optimizer.zero_grad()\n",
    "        basket_output, size_output = my_model(basket_input, size_input)\n",
    "        # 計算損失\n",
    "        loss = ALPHA * mean_square_error(size_output, size_label) + (1 - ALPHA) * cross_entropy_loss(basket_output, basket_label)\n",
    "        loss_list.append(loss.item())\n",
    "        loss.backward()\n",
    "        optimizer.step()\n",
    "        \n",
    "        if (batch_idx%100 == 0) or (batch_idx == len(train_dataloader)-1):\n",
    "            precentage = (100 * batch_idx/len(train_dataloader))\n",
    "            print(f\"Epoch {epoch}: {precentage:.0f}%, loss: {loss.item():.6f}\")\n",
    "            \n",
    "        with torch.no_grad():\n",
    "            basket_output = torch.from_numpy(np.array(basket_output.cpu(), dtype=np.float32))\n",
    "            size_output = np.round(np.squeeze(np.array([_.cpu() for _ in size_output], dtype=np.float32))).astype(int).tolist()\n",
    "            if batch_idx == 0:\n",
    "                basket_outputs = basket_output\n",
    "                basket_labels = basket_label\n",
    "                size_outputs = size_output\n",
    "                size_labels = size_label\n",
    "            else:\n",
    "                basket_outputs = torch.cat( (basket_outputs, basket_output),-2 )\n",
    "                basket_labels = basket_labels + basket_label\n",
    "                size_outputs = size_outputs + size_output\n",
    "                size_labels = size_labels + size_label\n",
    "                \n",
    "    with torch.no_grad():\n",
    "        evaluations = calculate_f1_score(basket_outputs, basket_labels, size_outputs) \n",
    "        res_str = '(' + format_metric(evaluations) + ')'\n",
    "        print(f\"                      {res_str}\\n\")\n",
    "\n",
    "        evaluations = calculate_ndcg(basket_outputs, basket_labels, size_outputs, size_labels) \n",
    "        res_str = '(' + format_metric(evaluations) + ')'\n",
    "        print(f\"                      {res_str}\\n\")\n",
    "\n",
    "        evaluations = calculate_mae(size_outputs, size_labels)\n",
    "        res_str = '(' + format_metric(evaluations) + ')'\n",
    "        print(f\"                      {res_str}\\n\")\n",
    "        \n",
    "    return torch.mean(torch.tensor(loss_list))"
   ]
  },
  {
   "cell_type": "code",
   "execution_count": 29,
   "id": "b0799869",
   "metadata": {},
   "outputs": [],
   "source": [
    "# 驗證模型\n",
    "def evaluate_model():\n",
    "    my_model.eval()\n",
    "    loss_list = []\n",
    "    for batch_idx, (userID, basket_input, basket_label, size_input, size_label) in enumerate(tqdm(valid_dataloader)):\n",
    "        basket_output, size_output= my_model(basket_input, size_input)\n",
    "        # 計算損失\n",
    "        loss = ALPHA * mean_square_error(size_output, size_label) + (1 - ALPHA) * cross_entropy_loss(basket_output, basket_label)\n",
    "        loss_list.append(loss.item())\n",
    "        \n",
    "        with torch.no_grad():\n",
    "            basket_output = torch.from_numpy(np.array(basket_output.cpu(), dtype=np.float32))\n",
    "            size_output = np.round(np.squeeze(np.array([_.cpu() for _ in size_output], dtype=np.float32))).astype(int).tolist()\n",
    "            if batch_idx == 0:\n",
    "                basket_outputs = basket_output\n",
    "                basket_labels = basket_label\n",
    "                size_outputs = size_output\n",
    "                size_labels = size_label\n",
    "            else:\n",
    "                basket_outputs = torch.cat( (basket_outputs, basket_output),-2 )\n",
    "                basket_labels = basket_labels + basket_label\n",
    "                size_outputs = size_outputs + size_output\n",
    "                size_labels = size_labels + size_label\n",
    "        \n",
    "    with torch.no_grad():\n",
    "        evaluations = calculate_f1_score(basket_outputs, basket_labels, size_outputs) \n",
    "        res_str = '(' + format_metric(evaluations) + ')'\n",
    "        print(f\"                      {res_str}\\n\")\n",
    "\n",
    "        evaluations = calculate_ndcg(basket_outputs, basket_labels, size_outputs, size_labels) \n",
    "        res_str = '(' + format_metric(evaluations) + ')'\n",
    "        print(f\"                      {res_str}\\n\")\n",
    "\n",
    "        evaluations = calculate_mae(size_outputs, size_labels)\n",
    "        res_str = '(' + format_metric(evaluations) + ')'\n",
    "        print(f\"                      {res_str}\\n\")\n",
    "        \n",
    "    return torch.mean(torch.tensor(loss_list))"
   ]
  },
  {
   "cell_type": "code",
   "execution_count": 30,
   "id": "5e8d7319",
   "metadata": {},
   "outputs": [],
   "source": [
    "# 測試模型\n",
    "def test_model():\n",
    "    my_model.eval()\n",
    "    loss_list = []\n",
    "    for batch_idx, (userID, basket_input, basket_label, size_input, size_label) in enumerate(tqdm(test_dataloader)):\n",
    "        basket_output, size_output = my_model(basket_input, size_input)\n",
    "        # 計算損失\n",
    "        loss = ALPHA * mean_square_error(size_output, size_label) + (1 - ALPHA) * cross_entropy_loss(basket_output, basket_label)\n",
    "        loss_list.append(loss.item())\n",
    "        \n",
    "        with torch.no_grad():\n",
    "            basket_output = torch.from_numpy(np.array(basket_output.cpu(), dtype=np.float32))\n",
    "            size_output = np.round(np.squeeze(np.array([_.cpu() for _ in size_output], dtype=np.float32))).astype(int).tolist()\n",
    "            if batch_idx == 0:\n",
    "                basket_outputs = basket_output\n",
    "                basket_labels = basket_label\n",
    "                size_outputs = size_output\n",
    "                size_labels = size_label\n",
    "            else:\n",
    "                basket_outputs = torch.cat( (basket_outputs, basket_output),-2 )\n",
    "                basket_labels = basket_labels + basket_label\n",
    "                size_outputs = size_outputs + size_output\n",
    "                size_labels = size_labels + size_label\n",
    "    \n",
    "    with torch.no_grad():\n",
    "        f1_evaluations = calculate_f1_score(basket_outputs, basket_labels, size_outputs)\n",
    "        precision_list = [f1_evaluations[\"Precision\"]]\n",
    "        recall_list =  [f1_evaluations[\"Recall\"]]\n",
    "        f1_list = [f1_evaluations[\"F1-score\"]]\n",
    "        res_str = '(' + format_metric(f1_evaluations) + ')'\n",
    "        print(f\"                      {res_str}\\n\")\n",
    "        \n",
    "        ndcg_evaluations = calculate_ndcg(basket_outputs, basket_labels, size_outputs, size_labels) \n",
    "        ndcg_list = [ndcg_evaluations[\"NDCG\"]]\n",
    "        res_str = '(' + format_metric(ndcg_evaluations) + ')'\n",
    "        print(f\"                      {res_str}\\n\")\n",
    "        \n",
    "        mae_evaluations = calculate_mae(size_outputs, size_labels)\n",
    "        mae_list = [mae_evaluations[\"MAE\"]]\n",
    "        res_str = '(' + format_metric(mae_evaluations) + ')'\n",
    "        print(f\"                      {res_str}\\n\")\n",
    "        \n",
    "    return torch.mean(torch.tensor(loss_list)), recall_list, precision_list, f1_list, ndcg_list, mae_list"
   ]
  },
  {
   "cell_type": "markdown",
   "id": "b1b6c6a9",
   "metadata": {},
   "source": [
    "# MC"
   ]
  },
  {
   "cell_type": "code",
   "execution_count": 31,
   "id": "830b8f17",
   "metadata": {},
   "outputs": [],
   "source": [
    "def create_transition_matrix(baskets, items):\n",
    "    # 統計所有項目在前一個購物籃和下一個購物籃中出現的次數，\n",
    "    # 以及在前一個購物籃中出現的總次數\n",
    "    cooccur_counts = {}\n",
    "    prev_basket_counts = {}\n",
    "    for user_baskets in baskets:\n",
    "        for i in range(1, len(user_baskets)):\n",
    "            prev_basket = user_baskets[i-1]\n",
    "            cur_basket = user_baskets[i]\n",
    "            for item1 in prev_basket:\n",
    "                if item1 not in prev_basket_counts:\n",
    "                    prev_basket_counts[item1] = 0\n",
    "                prev_basket_counts[item1] += 1\n",
    "                for item2 in cur_basket:\n",
    "                    if item2 not in cooccur_counts:\n",
    "                        cooccur_counts[item2] = {}\n",
    "                    if item1 not in cooccur_counts[item2]:\n",
    "                        cooccur_counts[item2][item1] = 0\n",
    "                    cooccur_counts[item2][item1] += 1\n",
    "\n",
    "    # 將統計數據轉換為轉移矩陣\n",
    "    # items = sorted(list(prev_basket_counts.keys()))\n",
    "    num_items = len(items)\n",
    "    transition_matrix = np.zeros((num_items, num_items))\n",
    "    for i, item1 in tqdm(enumerate(items)):\n",
    "        for j, item2 in enumerate(items):\n",
    "            if item2 in cooccur_counts and item1 in cooccur_counts[item2]:\n",
    "                cooccur_count = cooccur_counts[item2][item1]\n",
    "                prev_basket_count = prev_basket_counts[item1]\n",
    "                transition_matrix[i, j] = cooccur_count / prev_basket_count\n",
    "    return transition_matrix"
   ]
  },
  {
   "cell_type": "code",
   "execution_count": 32,
   "id": "41ad02ea",
   "metadata": {},
   "outputs": [],
   "source": [
    "def predict_next_basket(users_baskets, transition_matrix, items, top_n=50):\n",
    "    num_users = len(users_baskets)\n",
    "    num_items = len(items)\n",
    "    predictions = []\n",
    "    pred_label = []\n",
    "    for i in range(num_users):\n",
    "        last_basket = users_baskets[i][-1] # 第i個用戶的最後一個購物籃\n",
    "        cur_prediction = np.zeros(num_items)\n",
    "        prev_item_idx = np.array([prev_item for prev_item in last_basket])\n",
    "        for j in range(num_items):\n",
    "            prob = np.sum(transition_matrix[prev_item_idx, j])\n",
    "            cur_prediction[j] = prob * (1/len(last_basket))\n",
    "        predictions.append(cur_prediction)\n",
    "    return predictions"
   ]
  },
  {
   "cell_type": "code",
   "execution_count": 33,
   "id": "36cd123d",
   "metadata": {},
   "outputs": [],
   "source": [
    "mc_item = dataset[\"NEW_ITEM_ID\"].unique() # 所有項目"
   ]
  },
  {
   "cell_type": "code",
   "execution_count": 34,
   "id": "a7fd9194",
   "metadata": {},
   "outputs": [],
   "source": [
    "train_list = []\n",
    "for batch_idx, (userID, basket_input, basket_label, size_input, size_label) in enumerate(train_dataloader):\n",
    "    for i in basket_input:\n",
    "        train_list.append(i)"
   ]
  },
  {
   "cell_type": "code",
   "execution_count": 35,
   "id": "4073c2c3",
   "metadata": {},
   "outputs": [
    {
     "name": "stderr",
     "output_type": "stream",
     "text": [
      "27095it [06:53, 65.59it/s]\n"
     ]
    },
    {
     "name": "stdout",
     "output_type": "stream",
     "text": [
      "transition_matrix=tensor([[0.5875, 0.0289, 0.1018,  ..., 0.0000, 0.0000, 0.0000],\n",
      "        [0.0359, 0.5531, 0.1495,  ..., 0.0000, 0.0000, 0.0000],\n",
      "        [0.1763, 0.2095, 0.4200,  ..., 0.0000, 0.0000, 0.0000],\n",
      "        ...,\n",
      "        [0.0000, 0.0000, 0.0000,  ..., 0.0000, 0.0000, 0.0000],\n",
      "        [0.0000, 0.0000, 0.0000,  ..., 0.0000, 0.0000, 0.0000],\n",
      "        [0.0000, 0.0000, 0.0000,  ..., 0.0000, 0.0000, 0.0000]],\n",
      "       device='cuda:0', dtype=torch.float64)\n"
     ]
    }
   ],
   "source": [
    "# 建立所有用戶共用的轉移矩陣\n",
    "transition_matrix= create_transition_matrix(train_list, mc_item)\n",
    "transition_array = torch.tensor(transition_matrix, dtype=torch.float64).to(device)\n",
    "print(f\"transition_matrix={transition_array}\")"
   ]
  },
  {
   "cell_type": "markdown",
   "id": "1abc8fbc",
   "metadata": {},
   "source": [
    "# 完整模型"
   ]
  },
  {
   "cell_type": "code",
   "execution_count": 36,
   "id": "5ad81bac",
   "metadata": {},
   "outputs": [
    {
     "name": "stdout",
     "output_type": "stream",
     "text": [
      "items_count= 27095\n",
      "tensor([0.1097, 0.0556, 0.0193,  ..., 0.0001, 0.0002, 0.0002], device='cuda:0',\n",
      "       dtype=torch.float64)\n"
     ]
    }
   ],
   "source": [
    "# 項目總數\n",
    "items_count = confidences.shape[0]\n",
    "print(\"items_count=\", items_count)\n",
    "# 項目出現次數\n",
    "items_freq = Counter(dataset[\"NEW_ITEM_ID\"])\n",
    "# 計算每個項目出現的比例: items_frq/items_count\n",
    "item_weight = torch.tensor(np.array(list(items_freq.values()))/items_count).to(device)\n",
    "# 按照new_item_id順序排列\n",
    "print(item_weight)"
   ]
  },
  {
   "cell_type": "markdown",
   "id": "975d9e58",
   "metadata": {},
   "source": [
    "## 加上信賴度矩陣"
   ]
  },
  {
   "cell_type": "code",
   "execution_count": 37,
   "id": "5d571c57",
   "metadata": {},
   "outputs": [
    {
     "data": {
      "text/plain": [
       "tensor([[0.0000, 0.0022, 0.1153,  ..., 0.0000, 0.0000, 0.0000],\n",
       "        [0.0028, 0.0000, 0.1653,  ..., 0.0000, 0.0000, 0.0000],\n",
       "        [0.2023, 0.2322, 0.0000,  ..., 0.0000, 0.0000, 0.0000],\n",
       "        ...,\n",
       "        [0.0000, 0.0000, 0.0000,  ..., 0.0000, 0.0000, 0.0000],\n",
       "        [0.0000, 0.0000, 0.0000,  ..., 0.0000, 0.0000, 0.0000],\n",
       "        [0.0000, 0.0000, 0.0000,  ..., 0.0000, 0.0000, 0.0000]],\n",
       "       device='cuda:0', dtype=torch.float64)"
      ]
     },
     "execution_count": 37,
     "metadata": {},
     "output_type": "execute_result"
    }
   ],
   "source": [
    "# 信賴度矩陣\n",
    "confidences_array = torch.tensor(confidences, dtype=torch.float64).to(device)\n",
    "confidences_array"
   ]
  },
  {
   "cell_type": "code",
   "execution_count": 38,
   "id": "926dfc91",
   "metadata": {},
   "outputs": [],
   "source": [
    "def Interleave(tensor1, tensor2):\n",
    "    tensor2 = tensor2.repeat(tensor1.shape[0], 1)\n",
    "    result = torch.stack((tensor1, tensor2), dim=1)\n",
    "    Interleave_tensor = torch.reshape(result, (-1, MODEL_DIMENSION))\n",
    "\n",
    "    return (Interleave_tensor)"
   ]
  },
  {
   "cell_type": "code",
   "execution_count": 39,
   "id": "b00066a0",
   "metadata": {},
   "outputs": [],
   "source": [
    "class MyModel01(nn.Module):\n",
    "    def __init__(self, embed_dim, model_dim, hidden_dim, items_count):\n",
    "        super(MyModel01, self).__init__()\n",
    "        self.model_dim = model_dim\n",
    "        self.embedding = nn.Embedding.from_pretrained(weights, freeze=False)\n",
    "        self.embedding.requires_grad=True\n",
    "        self.basket_embed = SelfAttention(embed_dim=embed_dim, model_dim=model_dim)\n",
    "        self.size_embed = LSTM(1,1)\n",
    "        self.model_encoder = TransformerEncoder(d_model=model_dim, num_heads=NUM_HEAD, num_layers=NUM_LAYER)\n",
    "        # 嵌入維度、隱藏層維度、總項目數量\n",
    "        self.basket_mlp = MLPforItem(model_dim, hidden_dim, items_count)\n",
    "        self.size_mlp = MLPforSize(model_dim)\n",
    "        self.relu = nn.ReLU()\n",
    "        \n",
    "    def forward(self, basket_input, size_input):\n",
    "        \n",
    "        basket_list, size_list, attention_mask, k_list = [], [], [], []\n",
    "        output_list = []\n",
    "        \n",
    "        # 為每個用戶的購物籃加上 padding跟 mask\n",
    "        for user in basket_input:\n",
    "            # 將購物籃項目 ID 轉換為嵌入向量\n",
    "            batch_features = [ self.embedding(torch.tensor(cart).to(device)) for cart in user ]\n",
    "            # 進行 padding\n",
    "            batch_features = rnn_utils.pad_sequence(batch_features, batch_first=True, padding_value=0)\n",
    "            # 購物籃中項目的遮罩\n",
    "            mask = ~batch_features.sum(dim=-1).ne(0)\n",
    "            basket_list.append(batch_features)\n",
    "            attention_mask.append(mask)\n",
    "        \n",
    "        # 預測size_tensor\n",
    "        sizes_input = [torch.tensor(size).to(device) for size in size_input]\n",
    "        tmp_tensor = torch.zeros(max_cart_count)\n",
    "        size_list.append(tmp_tensor)\n",
    "        for size in sizes_input:\n",
    "            size_list.append(size)\n",
    "        size_list = rnn_utils.pad_sequence(size_list, batch_first=True, padding_value=0)[1:]\n",
    "            \n",
    "        # 進入自注意力，輸出形狀(BATCH_SIZE, basket_size, embed_dim)\n",
    "        basket_embedding_list = []\n",
    "        for i,user_inputs in enumerate(basket_list):\n",
    "            basketEmbed = self.basket_embed(user_inputs, attention_mask[i])\n",
    "            sizeEmbed = self.size_embed(torch.tensor([[float(_)] for _ in size_list[i]]).to(device))\n",
    "            \n",
    "            basket_embedding = torch.cat((basketEmbed, sizeEmbed.reshape(1,-1)), 0)\n",
    "            \n",
    "            k_list.append(sizeEmbed)\n",
    "            basket_embedding_list.append(basket_embedding)\n",
    "            \n",
    "        \n",
    "        # 進行購物籃的 padding\n",
    "        input_seq = rnn_utils.pad_sequence(basket_embedding_list, batch_first=True, padding_value=0)\n",
    "        #print(input_seq.size())\n",
    "        \n",
    "        \n",
    "        # 進入Transformer\n",
    "        basket_embed = self.model_encoder(input_seq.to(device))\n",
    "        \n",
    "        B_s_list = []\n",
    "        K_s_list = []\n",
    "        for i, b in enumerate(basket_embed):\n",
    "            basket_size = len(attention_mask[i])\n",
    "            B_s = b[basket_size-1]  # 取得最後一個購物籃向量\n",
    "            B_s_list.append(B_s)\n",
    "            K_s_list.append(B_s+k_list[i])\n",
    "            \n",
    "        # 進入basket MLP層\n",
    "        p = self.basket_mlp(torch.stack(B_s_list, dim=0))\n",
    "        predictions = predict_next_basket(basket_input, transition_matrix, list(mc_item), 10)\n",
    "        mc_predictions = torch.tensor(np.array(predictions), dtype=torch.float64).to(device)\n",
    "        pc = (self.relu(p.to(torch.float64))+1e-8) @ confidences_array\n",
    "        pw = torch.mul( p, item_weight )\n",
    "        \n",
    "        # z-score for mc_predictions\n",
    "        mc_mean = mc_predictions.mean(dim=1, keepdim = True)\n",
    "        mc_std = mc_predictions.std(dim=1, keepdim =True)\n",
    "        mc_z_score = (mc_predictions - mc_mean) / mc_std\n",
    "        \n",
    "        # z-score for mc_predictions\n",
    "        tr_predictions = torch.add(pc, pw) + p.to(torch.float64)\n",
    "        tr_mean = tr_predictions.mean(dim=1, keepdim = True)\n",
    "        tr_std = tr_predictions.std(dim=1, keepdim =True)\n",
    "        tr_z_score = (tr_predictions - tr_mean) / tr_std\n",
    "        \n",
    "        p_ = torch.mul(BETA, tr_predictions) + torch.mul((1-BETA), mc_z_score + tr_z_score)\n",
    "        \n",
    "        # 進入size MLP層\n",
    "        k = self.size_mlp(torch.stack(K_s_list, dim=0))\n",
    "        \n",
    "        return p_, k"
   ]
  },
  {
   "cell_type": "code",
   "execution_count": 40,
   "id": "88bf8d6f",
   "metadata": {},
   "outputs": [
    {
     "data": {
      "text/plain": [
       "MyModel01(\n",
       "  (embedding): Embedding(27095, 32)\n",
       "  (basket_embed): SelfAttention(\n",
       "    (query_matrix): Linear(in_features=32, out_features=32, bias=True)\n",
       "    (key_matrix): Linear(in_features=32, out_features=32, bias=True)\n",
       "    (value_matrix): Linear(in_features=32, out_features=32, bias=True)\n",
       "    (multihead_attn): MultiheadAttention(\n",
       "      (out_proj): NonDynamicallyQuantizableLinear(in_features=32, out_features=32, bias=True)\n",
       "    )\n",
       "  )\n",
       "  (size_embed): LSTM(\n",
       "    (lstm): LSTM(1, 16, num_layers=2)\n",
       "    (hiddenlayer1): Linear(in_features=1600, out_features=512, bias=True)\n",
       "    (hiddenlayer2): Linear(in_features=512, out_features=512, bias=True)\n",
       "    (hiddenlayer3): Linear(in_features=512, out_features=256, bias=True)\n",
       "    (hiddenlayer4): Linear(in_features=256, out_features=128, bias=True)\n",
       "    (embed): Linear(in_features=128, out_features=32, bias=True)\n",
       "    (leakyrelu): LeakyReLU(negative_slope=0.01)\n",
       "  )\n",
       "  (model_encoder): TransformerEncoder(\n",
       "    (pe): PositionalEncoding(\n",
       "      (dropout): Dropout(p=0.5, inplace=False)\n",
       "    )\n",
       "    (transformer): TransformerEncoder(\n",
       "      (layers): ModuleList(\n",
       "        (0-3): 4 x TransformerEncoderLayer(\n",
       "          (self_attn): MultiheadAttention(\n",
       "            (out_proj): NonDynamicallyQuantizableLinear(in_features=32, out_features=32, bias=True)\n",
       "          )\n",
       "          (linear1): Linear(in_features=32, out_features=2048, bias=True)\n",
       "          (dropout): Dropout(p=0.1, inplace=False)\n",
       "          (linear2): Linear(in_features=2048, out_features=32, bias=True)\n",
       "          (norm1): LayerNorm((32,), eps=1e-05, elementwise_affine=True)\n",
       "          (norm2): LayerNorm((32,), eps=1e-05, elementwise_affine=True)\n",
       "          (dropout1): Dropout(p=0.1, inplace=False)\n",
       "          (dropout2): Dropout(p=0.1, inplace=False)\n",
       "        )\n",
       "      )\n",
       "    )\n",
       "  )\n",
       "  (basket_mlp): MLPforItem(\n",
       "    (hidden): Linear(in_features=32, out_features=128, bias=True)\n",
       "    (norm): BatchNorm1d(128, eps=1e-05, momentum=0.03, affine=True, track_running_stats=True)\n",
       "    (relu): ReLU()\n",
       "    (output): Linear(in_features=128, out_features=27095, bias=True)\n",
       "    (softmax): Softmax(dim=0)\n",
       "  )\n",
       "  (size_mlp): MLPforSize(\n",
       "    (predict): Linear(in_features=32, out_features=1, bias=True)\n",
       "    (relu): ReLU()\n",
       "  )\n",
       "  (relu): ReLU()\n",
       ")"
      ]
     },
     "execution_count": 40,
     "metadata": {},
     "output_type": "execute_result"
    }
   ],
   "source": [
    "my_model = MyModel01(embed_dim=EMBEDDING_DIMENSION, model_dim=MODEL_DIMENSION, hidden_dim=HIDDEN_DIMENSION, items_count=items_count).to(device)\n",
    "optimizer = torch.optim.Adam(my_model.parameters(), lr=LEARNING_RATE)\n",
    "my_model.train()"
   ]
  },
  {
   "cell_type": "code",
   "execution_count": 41,
   "id": "dc547691",
   "metadata": {
    "scrolled": false
   },
   "outputs": [
    {
     "name": "stderr",
     "output_type": "stream",
     "text": [
      "  0%|          | 1/1948 [00:02<1:29:13,  2.75s/it]"
     ]
    },
    {
     "name": "stdout",
     "output_type": "stream",
     "text": [
      "Epoch 1: 0%, loss: 21.463192\n"
     ]
    },
    {
     "name": "stderr",
     "output_type": "stream",
     "text": [
      "  5%|▌         | 101/1948 [04:03<1:14:16,  2.41s/it]"
     ]
    },
    {
     "name": "stdout",
     "output_type": "stream",
     "text": [
      "Epoch 1: 5%, loss: 3.120220\n"
     ]
    },
    {
     "name": "stderr",
     "output_type": "stream",
     "text": [
      " 10%|█         | 201/1948 [08:08<1:10:12,  2.41s/it]"
     ]
    },
    {
     "name": "stdout",
     "output_type": "stream",
     "text": [
      "Epoch 1: 10%, loss: 7.700486\n"
     ]
    },
    {
     "name": "stderr",
     "output_type": "stream",
     "text": [
      " 15%|█▌        | 301/1948 [12:14<1:09:32,  2.53s/it]"
     ]
    },
    {
     "name": "stdout",
     "output_type": "stream",
     "text": [
      "Epoch 1: 15%, loss: 4.203933\n"
     ]
    },
    {
     "name": "stderr",
     "output_type": "stream",
     "text": [
      " 21%|██        | 401/1948 [16:20<1:01:27,  2.38s/it]"
     ]
    },
    {
     "name": "stdout",
     "output_type": "stream",
     "text": [
      "Epoch 1: 21%, loss: 4.930659\n"
     ]
    },
    {
     "name": "stderr",
     "output_type": "stream",
     "text": [
      " 26%|██▌       | 501/1948 [20:28<1:00:11,  2.50s/it]"
     ]
    },
    {
     "name": "stdout",
     "output_type": "stream",
     "text": [
      "Epoch 1: 26%, loss: 10.399050\n"
     ]
    },
    {
     "name": "stderr",
     "output_type": "stream",
     "text": [
      " 31%|███       | 601/1948 [24:38<56:02,  2.50s/it]  "
     ]
    },
    {
     "name": "stdout",
     "output_type": "stream",
     "text": [
      "Epoch 1: 31%, loss: 7.029126\n"
     ]
    },
    {
     "name": "stderr",
     "output_type": "stream",
     "text": [
      " 36%|███▌      | 701/1948 [28:47<51:23,  2.47s/it]"
     ]
    },
    {
     "name": "stdout",
     "output_type": "stream",
     "text": [
      "Epoch 1: 36%, loss: 2.079159\n"
     ]
    },
    {
     "name": "stderr",
     "output_type": "stream",
     "text": [
      " 41%|████      | 801/1948 [33:01<47:55,  2.51s/it]"
     ]
    },
    {
     "name": "stdout",
     "output_type": "stream",
     "text": [
      "Epoch 1: 41%, loss: 7.085708\n"
     ]
    },
    {
     "name": "stderr",
     "output_type": "stream",
     "text": [
      " 46%|████▋     | 901/1948 [37:10<42:46,  2.45s/it]"
     ]
    },
    {
     "name": "stdout",
     "output_type": "stream",
     "text": [
      "Epoch 1: 46%, loss: 2.909078\n"
     ]
    },
    {
     "name": "stderr",
     "output_type": "stream",
     "text": [
      " 51%|█████▏    | 1001/1948 [41:26<39:56,  2.53s/it]"
     ]
    },
    {
     "name": "stdout",
     "output_type": "stream",
     "text": [
      "Epoch 1: 51%, loss: 1.642464\n"
     ]
    },
    {
     "name": "stderr",
     "output_type": "stream",
     "text": [
      " 57%|█████▋    | 1101/1948 [45:40<36:43,  2.60s/it]"
     ]
    },
    {
     "name": "stdout",
     "output_type": "stream",
     "text": [
      "Epoch 1: 56%, loss: 3.769218\n"
     ]
    },
    {
     "name": "stderr",
     "output_type": "stream",
     "text": [
      " 62%|██████▏   | 1201/1948 [50:01<31:49,  2.56s/it]"
     ]
    },
    {
     "name": "stdout",
     "output_type": "stream",
     "text": [
      "Epoch 1: 62%, loss: 1.382661\n"
     ]
    },
    {
     "name": "stderr",
     "output_type": "stream",
     "text": [
      " 67%|██████▋   | 1301/1948 [54:21<27:30,  2.55s/it]"
     ]
    },
    {
     "name": "stdout",
     "output_type": "stream",
     "text": [
      "Epoch 1: 67%, loss: 2.034361\n"
     ]
    },
    {
     "name": "stderr",
     "output_type": "stream",
     "text": [
      " 72%|███████▏  | 1401/1948 [58:39<23:46,  2.61s/it]"
     ]
    },
    {
     "name": "stdout",
     "output_type": "stream",
     "text": [
      "Epoch 1: 72%, loss: 3.652934\n"
     ]
    },
    {
     "name": "stderr",
     "output_type": "stream",
     "text": [
      " 77%|███████▋  | 1501/1948 [1:03:00<19:31,  2.62s/it]"
     ]
    },
    {
     "name": "stdout",
     "output_type": "stream",
     "text": [
      "Epoch 1: 77%, loss: 3.051443\n"
     ]
    },
    {
     "name": "stderr",
     "output_type": "stream",
     "text": [
      " 82%|████████▏ | 1601/1948 [1:07:21<15:27,  2.67s/it]"
     ]
    },
    {
     "name": "stdout",
     "output_type": "stream",
     "text": [
      "Epoch 1: 82%, loss: 1.552657\n"
     ]
    },
    {
     "name": "stderr",
     "output_type": "stream",
     "text": [
      " 87%|████████▋ | 1701/1948 [1:11:47<10:30,  2.55s/it]"
     ]
    },
    {
     "name": "stdout",
     "output_type": "stream",
     "text": [
      "Epoch 1: 87%, loss: 3.125517\n"
     ]
    },
    {
     "name": "stderr",
     "output_type": "stream",
     "text": [
      " 92%|█████████▏| 1801/1948 [1:16:13<06:15,  2.55s/it]"
     ]
    },
    {
     "name": "stdout",
     "output_type": "stream",
     "text": [
      "Epoch 1: 92%, loss: 1.974216\n"
     ]
    },
    {
     "name": "stderr",
     "output_type": "stream",
     "text": [
      " 98%|█████████▊| 1900/1948 [1:20:37<02:13,  2.78s/it]"
     ]
    },
    {
     "name": "stdout",
     "output_type": "stream",
     "text": [
      "Epoch 1: 98%, loss: 5.685892\n"
     ]
    },
    {
     "name": "stderr",
     "output_type": "stream",
     "text": [
      "100%|█████████▉| 1947/1948 [1:22:44<00:02,  2.71s/it]"
     ]
    },
    {
     "name": "stdout",
     "output_type": "stream",
     "text": [
      "Epoch 1: 100%, loss: 4.838146\n"
     ]
    },
    {
     "name": "stderr",
     "output_type": "stream",
     "text": [
      "100%|██████████| 1948/1948 [1:22:47<00:00,  2.55s/it]\n"
     ]
    },
    {
     "name": "stdout",
     "output_type": "stream",
     "text": [
      "                      (F1-score: 0.1484, Precision: 0.1506, Recall: 0.1673)\n",
      "\n",
      "                      (NDCG: 0.1156)\n",
      "\n",
      "                      (MAE: 4.5612)\n",
      "\n",
      "train_loss= tensor(3.8462)\n",
      "--------------------\n"
     ]
    },
    {
     "name": "stderr",
     "output_type": "stream",
     "text": [
      "100%|██████████| 243/243 [09:12<00:00,  2.27s/it]\n"
     ]
    },
    {
     "name": "stdout",
     "output_type": "stream",
     "text": [
      "                      (F1-score: 0.1424, Precision: 0.1438, Recall: 0.1583)\n",
      "\n",
      "                      (NDCG: 0.1108)\n",
      "\n",
      "                      (MAE: 4.3138)\n",
      "\n",
      "val_loss= tensor(3.6448)\n",
      "--------------------\n"
     ]
    },
    {
     "name": "stderr",
     "output_type": "stream",
     "text": [
      "100%|██████████| 243/243 [09:13<00:00,  2.28s/it]\n"
     ]
    },
    {
     "name": "stdout",
     "output_type": "stream",
     "text": [
      "                      (F1-score: 0.1369, Precision: 0.1390, Recall: 0.1510)\n",
      "\n",
      "                      (NDCG: 0.1086)\n",
      "\n",
      "                      (MAE: 4.3318)\n",
      "\n",
      "--------------------\n",
      "[[1, 0.15102508494598663, 0.13901183503223896, 0.13685931463818005, 0.10857080521709726, 4.33179012345679, 3.7877731323242188]]\n",
      "-----------------------------------------------------------------------------------------\n"
     ]
    },
    {
     "name": "stderr",
     "output_type": "stream",
     "text": [
      "  0%|          | 1/1948 [00:02<1:19:46,  2.46s/it]"
     ]
    },
    {
     "name": "stdout",
     "output_type": "stream",
     "text": [
      "Epoch 2: 0%, loss: 2.076512\n"
     ]
    },
    {
     "name": "stderr",
     "output_type": "stream",
     "text": [
      "  5%|▌         | 101/1948 [04:05<1:13:39,  2.39s/it]"
     ]
    },
    {
     "name": "stdout",
     "output_type": "stream",
     "text": [
      "Epoch 2: 5%, loss: 4.221007\n"
     ]
    },
    {
     "name": "stderr",
     "output_type": "stream",
     "text": [
      " 10%|█         | 201/1948 [08:10<1:08:43,  2.36s/it]"
     ]
    },
    {
     "name": "stdout",
     "output_type": "stream",
     "text": [
      "Epoch 2: 10%, loss: 1.628406\n"
     ]
    },
    {
     "name": "stderr",
     "output_type": "stream",
     "text": [
      " 15%|█▌        | 301/1948 [12:17<1:11:32,  2.61s/it]"
     ]
    },
    {
     "name": "stdout",
     "output_type": "stream",
     "text": [
      "Epoch 2: 15%, loss: 5.201801\n"
     ]
    },
    {
     "name": "stderr",
     "output_type": "stream",
     "text": [
      " 21%|██        | 401/1948 [16:25<1:04:55,  2.52s/it]"
     ]
    },
    {
     "name": "stdout",
     "output_type": "stream",
     "text": [
      "Epoch 2: 21%, loss: 3.263134\n"
     ]
    },
    {
     "name": "stderr",
     "output_type": "stream",
     "text": [
      " 26%|██▌       | 501/1948 [20:35<59:48,  2.48s/it]  "
     ]
    },
    {
     "name": "stdout",
     "output_type": "stream",
     "text": [
      "Epoch 2: 26%, loss: 2.328754\n"
     ]
    },
    {
     "name": "stderr",
     "output_type": "stream",
     "text": [
      " 31%|███       | 601/1948 [24:42<54:35,  2.43s/it]  "
     ]
    },
    {
     "name": "stdout",
     "output_type": "stream",
     "text": [
      "Epoch 2: 31%, loss: 3.164021\n"
     ]
    },
    {
     "name": "stderr",
     "output_type": "stream",
     "text": [
      " 36%|███▌      | 701/1948 [28:53<55:15,  2.66s/it]"
     ]
    },
    {
     "name": "stdout",
     "output_type": "stream",
     "text": [
      "Epoch 2: 36%, loss: 2.813022\n"
     ]
    },
    {
     "name": "stderr",
     "output_type": "stream",
     "text": [
      " 41%|████      | 801/1948 [33:05<49:40,  2.60s/it]"
     ]
    },
    {
     "name": "stdout",
     "output_type": "stream",
     "text": [
      "Epoch 2: 41%, loss: 3.960108\n"
     ]
    },
    {
     "name": "stderr",
     "output_type": "stream",
     "text": [
      " 46%|████▋     | 901/1948 [37:21<44:46,  2.57s/it]"
     ]
    },
    {
     "name": "stdout",
     "output_type": "stream",
     "text": [
      "Epoch 2: 46%, loss: 2.293160\n"
     ]
    },
    {
     "name": "stderr",
     "output_type": "stream",
     "text": [
      " 51%|█████▏    | 1001/1948 [41:38<39:53,  2.53s/it]"
     ]
    },
    {
     "name": "stdout",
     "output_type": "stream",
     "text": [
      "Epoch 2: 51%, loss: 2.409875\n"
     ]
    },
    {
     "name": "stderr",
     "output_type": "stream",
     "text": [
      " 57%|█████▋    | 1101/1948 [45:52<36:36,  2.59s/it]"
     ]
    },
    {
     "name": "stdout",
     "output_type": "stream",
     "text": [
      "Epoch 2: 56%, loss: 4.652803\n"
     ]
    },
    {
     "name": "stderr",
     "output_type": "stream",
     "text": [
      " 62%|██████▏   | 1201/1948 [50:11<32:59,  2.65s/it]"
     ]
    },
    {
     "name": "stdout",
     "output_type": "stream",
     "text": [
      "Epoch 2: 62%, loss: 3.256729\n"
     ]
    },
    {
     "name": "stderr",
     "output_type": "stream",
     "text": [
      " 67%|██████▋   | 1301/1948 [54:28<26:42,  2.48s/it]"
     ]
    },
    {
     "name": "stdout",
     "output_type": "stream",
     "text": [
      "Epoch 2: 67%, loss: 2.311591\n"
     ]
    },
    {
     "name": "stderr",
     "output_type": "stream",
     "text": [
      " 72%|███████▏  | 1401/1948 [58:48<23:44,  2.60s/it]"
     ]
    },
    {
     "name": "stdout",
     "output_type": "stream",
     "text": [
      "Epoch 2: 72%, loss: 3.686224\n"
     ]
    },
    {
     "name": "stderr",
     "output_type": "stream",
     "text": [
      " 77%|███████▋  | 1501/1948 [1:03:10<19:07,  2.57s/it]"
     ]
    },
    {
     "name": "stdout",
     "output_type": "stream",
     "text": [
      "Epoch 2: 77%, loss: 7.845894\n"
     ]
    },
    {
     "name": "stderr",
     "output_type": "stream",
     "text": [
      " 82%|████████▏ | 1601/1948 [1:07:32<15:26,  2.67s/it]"
     ]
    },
    {
     "name": "stdout",
     "output_type": "stream",
     "text": [
      "Epoch 2: 82%, loss: 2.113746\n"
     ]
    },
    {
     "name": "stderr",
     "output_type": "stream",
     "text": [
      " 87%|████████▋ | 1701/1948 [1:11:55<11:02,  2.68s/it]"
     ]
    },
    {
     "name": "stdout",
     "output_type": "stream",
     "text": [
      "Epoch 2: 87%, loss: 3.800318\n"
     ]
    },
    {
     "name": "stderr",
     "output_type": "stream",
     "text": [
      " 92%|█████████▏| 1800/1948 [1:16:22<06:40,  2.71s/it]"
     ]
    },
    {
     "name": "stdout",
     "output_type": "stream",
     "text": [
      "Epoch 2: 92%, loss: 1.944402\n"
     ]
    },
    {
     "name": "stderr",
     "output_type": "stream",
     "text": [
      " 98%|█████████▊| 1900/1948 [1:20:46<02:01,  2.54s/it]"
     ]
    },
    {
     "name": "stdout",
     "output_type": "stream",
     "text": [
      "Epoch 2: 98%, loss: 4.335788\n"
     ]
    },
    {
     "name": "stderr",
     "output_type": "stream",
     "text": [
      "100%|█████████▉| 1947/1948 [1:22:51<00:02,  2.72s/it]"
     ]
    },
    {
     "name": "stdout",
     "output_type": "stream",
     "text": [
      "Epoch 2: 100%, loss: 1.241149\n"
     ]
    },
    {
     "name": "stderr",
     "output_type": "stream",
     "text": [
      "100%|██████████| 1948/1948 [1:22:54<00:00,  2.55s/it]\n"
     ]
    },
    {
     "name": "stdout",
     "output_type": "stream",
     "text": [
      "                      (F1-score: 0.1891, Precision: 0.1916, Recall: 0.2087)\n",
      "\n",
      "                      (NDCG: 0.1444)\n",
      "\n",
      "                      (MAE: 4.2338)\n",
      "\n",
      "train_loss= tensor(3.4291)\n",
      "--------------------\n"
     ]
    },
    {
     "name": "stderr",
     "output_type": "stream",
     "text": [
      "100%|██████████| 243/243 [09:13<00:00,  2.28s/it]\n"
     ]
    },
    {
     "name": "stdout",
     "output_type": "stream",
     "text": [
      "                      (F1-score: 0.1682, Precision: 0.1737, Recall: 0.1809)\n",
      "\n",
      "                      (NDCG: 0.1283)\n",
      "\n",
      "                      (MAE: 4.1528)\n",
      "\n",
      "val_loss= tensor(3.5279)\n",
      "--------------------\n"
     ]
    },
    {
     "name": "stderr",
     "output_type": "stream",
     "text": [
      "100%|██████████| 243/243 [09:12<00:00,  2.27s/it]\n"
     ]
    },
    {
     "name": "stdout",
     "output_type": "stream",
     "text": [
      "                      (F1-score: 0.1614, Precision: 0.1677, Recall: 0.1720)\n",
      "\n",
      "                      (NDCG: 0.1259)\n",
      "\n",
      "                      (MAE: 4.1548)\n",
      "\n",
      "--------------------\n",
      "[[1, 0.15102508494598663, 0.13901183503223896, 0.13685931463818005, 0.10857080521709726, 4.33179012345679, 3.7877731323242188], [2, 0.17197909126721891, 0.1677208317567045, 0.16141612701950495, 0.12588838700573018, 4.154835390946502, 3.695448875427246]]\n",
      "-----------------------------------------------------------------------------------------\n"
     ]
    },
    {
     "name": "stderr",
     "output_type": "stream",
     "text": [
      "  0%|          | 1/1948 [00:02<1:18:26,  2.42s/it]"
     ]
    },
    {
     "name": "stdout",
     "output_type": "stream",
     "text": [
      "Epoch 3: 0%, loss: 3.813404\n"
     ]
    },
    {
     "name": "stderr",
     "output_type": "stream",
     "text": [
      "  5%|▌         | 101/1948 [04:11<1:20:29,  2.61s/it]"
     ]
    },
    {
     "name": "stdout",
     "output_type": "stream",
     "text": [
      "Epoch 3: 5%, loss: 2.247921\n"
     ]
    },
    {
     "name": "stderr",
     "output_type": "stream",
     "text": [
      " 10%|█         | 201/1948 [08:18<1:13:12,  2.51s/it]"
     ]
    },
    {
     "name": "stdout",
     "output_type": "stream",
     "text": [
      "Epoch 3: 10%, loss: 8.493710\n"
     ]
    },
    {
     "name": "stderr",
     "output_type": "stream",
     "text": [
      " 15%|█▌        | 301/1948 [12:25<1:06:09,  2.41s/it]"
     ]
    },
    {
     "name": "stdout",
     "output_type": "stream",
     "text": [
      "Epoch 3: 15%, loss: 1.301361\n"
     ]
    },
    {
     "name": "stderr",
     "output_type": "stream",
     "text": [
      " 21%|██        | 401/1948 [16:36<1:04:57,  2.52s/it]"
     ]
    },
    {
     "name": "stdout",
     "output_type": "stream",
     "text": [
      "Epoch 3: 21%, loss: 3.260545\n"
     ]
    },
    {
     "name": "stderr",
     "output_type": "stream",
     "text": [
      " 26%|██▌       | 501/1948 [20:45<1:00:08,  2.49s/it]"
     ]
    },
    {
     "name": "stdout",
     "output_type": "stream",
     "text": [
      "Epoch 3: 26%, loss: 6.175303\n"
     ]
    },
    {
     "name": "stderr",
     "output_type": "stream",
     "text": [
      " 31%|███       | 601/1948 [24:57<57:42,  2.57s/it]  "
     ]
    },
    {
     "name": "stdout",
     "output_type": "stream",
     "text": [
      "Epoch 3: 31%, loss: 3.800974\n"
     ]
    },
    {
     "name": "stderr",
     "output_type": "stream",
     "text": [
      " 36%|███▌      | 701/1948 [29:08<52:53,  2.55s/it]"
     ]
    },
    {
     "name": "stdout",
     "output_type": "stream",
     "text": [
      "Epoch 3: 36%, loss: 1.529852\n"
     ]
    },
    {
     "name": "stderr",
     "output_type": "stream",
     "text": [
      " 41%|████      | 801/1948 [33:21<45:55,  2.40s/it]"
     ]
    },
    {
     "name": "stdout",
     "output_type": "stream",
     "text": [
      "Epoch 3: 41%, loss: 3.181620\n"
     ]
    },
    {
     "name": "stderr",
     "output_type": "stream",
     "text": [
      " 46%|████▋     | 901/1948 [37:35<45:34,  2.61s/it]"
     ]
    },
    {
     "name": "stdout",
     "output_type": "stream",
     "text": [
      "Epoch 3: 46%, loss: 2.483675\n"
     ]
    },
    {
     "name": "stderr",
     "output_type": "stream",
     "text": [
      " 51%|█████▏    | 1001/1948 [41:50<38:43,  2.45s/it]"
     ]
    },
    {
     "name": "stdout",
     "output_type": "stream",
     "text": [
      "Epoch 3: 51%, loss: 3.548147\n"
     ]
    },
    {
     "name": "stderr",
     "output_type": "stream",
     "text": [
      " 57%|█████▋    | 1101/1948 [46:10<37:29,  2.66s/it]"
     ]
    },
    {
     "name": "stdout",
     "output_type": "stream",
     "text": [
      "Epoch 3: 56%, loss: 1.538390\n"
     ]
    },
    {
     "name": "stderr",
     "output_type": "stream",
     "text": [
      " 62%|██████▏   | 1201/1948 [50:29<31:53,  2.56s/it]"
     ]
    },
    {
     "name": "stdout",
     "output_type": "stream",
     "text": [
      "Epoch 3: 62%, loss: 2.169048\n"
     ]
    },
    {
     "name": "stderr",
     "output_type": "stream",
     "text": [
      " 67%|██████▋   | 1301/1948 [54:50<28:50,  2.67s/it]"
     ]
    },
    {
     "name": "stdout",
     "output_type": "stream",
     "text": [
      "Epoch 3: 67%, loss: 1.605873\n"
     ]
    },
    {
     "name": "stderr",
     "output_type": "stream",
     "text": [
      " 72%|███████▏  | 1401/1948 [59:07<24:42,  2.71s/it]"
     ]
    },
    {
     "name": "stdout",
     "output_type": "stream",
     "text": [
      "Epoch 3: 72%, loss: 1.405732\n"
     ]
    },
    {
     "name": "stderr",
     "output_type": "stream",
     "text": [
      " 77%|███████▋  | 1501/1948 [1:03:28<19:06,  2.57s/it]"
     ]
    },
    {
     "name": "stdout",
     "output_type": "stream",
     "text": [
      "Epoch 3: 77%, loss: 5.535511\n"
     ]
    },
    {
     "name": "stderr",
     "output_type": "stream",
     "text": [
      " 82%|████████▏ | 1601/1948 [1:07:54<15:11,  2.63s/it]"
     ]
    },
    {
     "name": "stdout",
     "output_type": "stream",
     "text": [
      "Epoch 3: 82%, loss: 3.187688\n"
     ]
    },
    {
     "name": "stderr",
     "output_type": "stream",
     "text": [
      " 87%|████████▋ | 1701/1948 [1:12:19<10:32,  2.56s/it]"
     ]
    },
    {
     "name": "stdout",
     "output_type": "stream",
     "text": [
      "Epoch 3: 87%, loss: 3.436501\n"
     ]
    },
    {
     "name": "stderr",
     "output_type": "stream",
     "text": [
      " 92%|█████████▏| 1800/1948 [1:16:45<06:29,  2.63s/it]"
     ]
    },
    {
     "name": "stdout",
     "output_type": "stream",
     "text": [
      "Epoch 3: 92%, loss: 2.507526\n"
     ]
    },
    {
     "name": "stderr",
     "output_type": "stream",
     "text": [
      " 98%|█████████▊| 1900/1948 [1:21:16<02:05,  2.62s/it]"
     ]
    },
    {
     "name": "stdout",
     "output_type": "stream",
     "text": [
      "Epoch 3: 98%, loss: 3.063544\n"
     ]
    },
    {
     "name": "stderr",
     "output_type": "stream",
     "text": [
      "100%|█████████▉| 1947/1948 [1:23:22<00:02,  2.74s/it]"
     ]
    },
    {
     "name": "stdout",
     "output_type": "stream",
     "text": [
      "Epoch 3: 100%, loss: 2.579567\n"
     ]
    },
    {
     "name": "stderr",
     "output_type": "stream",
     "text": [
      "100%|██████████| 1948/1948 [1:23:25<00:00,  2.57s/it]\n"
     ]
    },
    {
     "name": "stdout",
     "output_type": "stream",
     "text": [
      "                      (F1-score: 0.2073, Precision: 0.2105, Recall: 0.2266)\n",
      "\n",
      "                      (NDCG: 0.1595)\n",
      "\n",
      "                      (MAE: 4.1206)\n",
      "\n",
      "train_loss= tensor(3.3253)\n",
      "--------------------\n"
     ]
    },
    {
     "name": "stderr",
     "output_type": "stream",
     "text": [
      "100%|██████████| 243/243 [09:16<00:00,  2.29s/it]\n"
     ]
    },
    {
     "name": "stdout",
     "output_type": "stream",
     "text": [
      "                      (F1-score: 0.1798, Precision: 0.1846, Recall: 0.1937)\n",
      "\n",
      "                      (NDCG: 0.1385)\n",
      "\n",
      "                      (MAE: 4.0792)\n",
      "\n",
      "val_loss= tensor(3.4134)\n",
      "--------------------\n"
     ]
    },
    {
     "name": "stderr",
     "output_type": "stream",
     "text": [
      "100%|██████████| 243/243 [09:18<00:00,  2.30s/it]\n"
     ]
    },
    {
     "name": "stdout",
     "output_type": "stream",
     "text": [
      "                      (F1-score: 0.1721, Precision: 0.1775, Recall: 0.1840)\n",
      "\n",
      "                      (NDCG: 0.1357)\n",
      "\n",
      "                      (MAE: 4.0689)\n",
      "\n",
      "--------------------\n",
      "[[1, 0.15102508494598663, 0.13901183503223896, 0.13685931463818005, 0.10857080521709726, 4.33179012345679, 3.7877731323242188], [2, 0.17197909126721891, 0.1677208317567045, 0.16141612701950495, 0.12588838700573018, 4.154835390946502, 3.695448875427246], [3, 0.18403894983959188, 0.1775252902257438, 0.17209818455548395, 0.13573104499670613, 4.068930041152264, 3.560631275177002]]\n",
      "-----------------------------------------------------------------------------------------\n"
     ]
    },
    {
     "name": "stderr",
     "output_type": "stream",
     "text": [
      "  0%|          | 1/1948 [00:02<1:15:57,  2.34s/it]"
     ]
    },
    {
     "name": "stdout",
     "output_type": "stream",
     "text": [
      "Epoch 4: 0%, loss: 1.339245\n"
     ]
    },
    {
     "name": "stderr",
     "output_type": "stream",
     "text": [
      "  5%|▌         | 101/1948 [04:09<1:13:28,  2.39s/it]"
     ]
    },
    {
     "name": "stdout",
     "output_type": "stream",
     "text": [
      "Epoch 4: 5%, loss: 1.313378\n"
     ]
    },
    {
     "name": "stderr",
     "output_type": "stream",
     "text": [
      " 10%|█         | 201/1948 [08:14<1:11:02,  2.44s/it]"
     ]
    },
    {
     "name": "stdout",
     "output_type": "stream",
     "text": [
      "Epoch 4: 10%, loss: 1.305181\n"
     ]
    },
    {
     "name": "stderr",
     "output_type": "stream",
     "text": [
      " 15%|█▌        | 301/1948 [12:23<1:09:50,  2.54s/it]"
     ]
    },
    {
     "name": "stdout",
     "output_type": "stream",
     "text": [
      "Epoch 4: 15%, loss: 1.318682\n"
     ]
    },
    {
     "name": "stderr",
     "output_type": "stream",
     "text": [
      " 21%|██        | 401/1948 [16:32<1:04:25,  2.50s/it]"
     ]
    },
    {
     "name": "stdout",
     "output_type": "stream",
     "text": [
      "Epoch 4: 21%, loss: 4.596145\n"
     ]
    },
    {
     "name": "stderr",
     "output_type": "stream",
     "text": [
      " 26%|██▌       | 501/1948 [20:40<1:00:35,  2.51s/it]"
     ]
    },
    {
     "name": "stdout",
     "output_type": "stream",
     "text": [
      "Epoch 4: 26%, loss: 2.047288\n"
     ]
    },
    {
     "name": "stderr",
     "output_type": "stream",
     "text": [
      " 31%|███       | 601/1948 [24:52<57:39,  2.57s/it]  "
     ]
    },
    {
     "name": "stdout",
     "output_type": "stream",
     "text": [
      "Epoch 4: 31%, loss: 2.214505\n"
     ]
    },
    {
     "name": "stderr",
     "output_type": "stream",
     "text": [
      " 36%|███▌      | 701/1948 [29:07<51:38,  2.48s/it]  "
     ]
    },
    {
     "name": "stdout",
     "output_type": "stream",
     "text": [
      "Epoch 4: 36%, loss: 2.314180\n"
     ]
    },
    {
     "name": "stderr",
     "output_type": "stream",
     "text": [
      " 41%|████      | 801/1948 [33:19<47:05,  2.46s/it]"
     ]
    },
    {
     "name": "stdout",
     "output_type": "stream",
     "text": [
      "Epoch 4: 41%, loss: 1.433059\n"
     ]
    },
    {
     "name": "stderr",
     "output_type": "stream",
     "text": [
      " 46%|████▋     | 901/1948 [37:34<45:02,  2.58s/it]"
     ]
    },
    {
     "name": "stdout",
     "output_type": "stream",
     "text": [
      "Epoch 4: 46%, loss: 3.727165\n"
     ]
    },
    {
     "name": "stderr",
     "output_type": "stream",
     "text": [
      " 51%|█████▏    | 1001/1948 [41:49<40:55,  2.59s/it]"
     ]
    },
    {
     "name": "stdout",
     "output_type": "stream",
     "text": [
      "Epoch 4: 51%, loss: 4.386812\n"
     ]
    },
    {
     "name": "stderr",
     "output_type": "stream",
     "text": [
      " 57%|█████▋    | 1101/1948 [46:07<36:13,  2.57s/it]"
     ]
    },
    {
     "name": "stdout",
     "output_type": "stream",
     "text": [
      "Epoch 4: 56%, loss: 2.449401\n"
     ]
    },
    {
     "name": "stderr",
     "output_type": "stream",
     "text": [
      " 62%|██████▏   | 1201/1948 [50:29<31:42,  2.55s/it]"
     ]
    },
    {
     "name": "stdout",
     "output_type": "stream",
     "text": [
      "Epoch 4: 62%, loss: 1.405272\n"
     ]
    },
    {
     "name": "stderr",
     "output_type": "stream",
     "text": [
      " 67%|██████▋   | 1301/1948 [54:52<28:05,  2.61s/it]"
     ]
    },
    {
     "name": "stdout",
     "output_type": "stream",
     "text": [
      "Epoch 4: 67%, loss: 0.804375\n"
     ]
    },
    {
     "name": "stderr",
     "output_type": "stream",
     "text": [
      " 72%|███████▏  | 1401/1948 [59:16<23:24,  2.57s/it]"
     ]
    },
    {
     "name": "stdout",
     "output_type": "stream",
     "text": [
      "Epoch 4: 72%, loss: 9.250777\n"
     ]
    },
    {
     "name": "stderr",
     "output_type": "stream",
     "text": [
      " 77%|███████▋  | 1501/1948 [1:03:37<19:23,  2.60s/it]"
     ]
    },
    {
     "name": "stdout",
     "output_type": "stream",
     "text": [
      "Epoch 4: 77%, loss: 2.932773\n"
     ]
    },
    {
     "name": "stderr",
     "output_type": "stream",
     "text": [
      " 82%|████████▏ | 1601/1948 [1:08:00<15:33,  2.69s/it]"
     ]
    },
    {
     "name": "stdout",
     "output_type": "stream",
     "text": [
      "Epoch 4: 82%, loss: 6.913486\n"
     ]
    },
    {
     "name": "stderr",
     "output_type": "stream",
     "text": [
      " 87%|████████▋ | 1701/1948 [1:12:24<11:27,  2.78s/it]"
     ]
    },
    {
     "name": "stdout",
     "output_type": "stream",
     "text": [
      "Epoch 4: 87%, loss: 3.857876\n"
     ]
    },
    {
     "name": "stderr",
     "output_type": "stream",
     "text": [
      " 92%|█████████▏| 1801/1948 [1:16:50<06:33,  2.68s/it]"
     ]
    },
    {
     "name": "stdout",
     "output_type": "stream",
     "text": [
      "Epoch 4: 92%, loss: 4.552854\n"
     ]
    },
    {
     "name": "stderr",
     "output_type": "stream",
     "text": [
      " 98%|█████████▊| 1900/1948 [1:21:14<02:07,  2.65s/it]"
     ]
    },
    {
     "name": "stdout",
     "output_type": "stream",
     "text": [
      "Epoch 4: 98%, loss: 5.609588\n"
     ]
    },
    {
     "name": "stderr",
     "output_type": "stream",
     "text": [
      "100%|█████████▉| 1947/1948 [1:23:21<00:02,  2.78s/it]"
     ]
    },
    {
     "name": "stdout",
     "output_type": "stream",
     "text": [
      "Epoch 4: 100%, loss: 3.104121\n"
     ]
    },
    {
     "name": "stderr",
     "output_type": "stream",
     "text": [
      "100%|██████████| 1948/1948 [1:23:24<00:00,  2.57s/it]\n"
     ]
    },
    {
     "name": "stdout",
     "output_type": "stream",
     "text": [
      "                      (F1-score: 0.2159, Precision: 0.2194, Recall: 0.2349)\n",
      "\n",
      "                      (NDCG: 0.1686)\n",
      "\n",
      "                      (MAE: 4.0685)\n",
      "\n",
      "train_loss= tensor(3.2733)\n",
      "--------------------\n"
     ]
    },
    {
     "name": "stderr",
     "output_type": "stream",
     "text": [
      "100%|██████████| 243/243 [09:16<00:00,  2.29s/it]\n"
     ]
    },
    {
     "name": "stdout",
     "output_type": "stream",
     "text": [
      "                      (F1-score: 0.1886, Precision: 0.1869, Recall: 0.2110)\n",
      "\n",
      "                      (NDCG: 0.1480)\n",
      "\n",
      "                      (MAE: 4.1718)\n",
      "\n",
      "val_loss= tensor(3.3696)\n",
      "--------------------\n"
     ]
    },
    {
     "name": "stderr",
     "output_type": "stream",
     "text": [
      "100%|██████████| 243/243 [09:16<00:00,  2.29s/it]\n"
     ]
    },
    {
     "name": "stdout",
     "output_type": "stream",
     "text": [
      "                      (F1-score: 0.1801, Precision: 0.1800, Recall: 0.1994)\n",
      "\n",
      "                      (NDCG: 0.1447)\n",
      "\n",
      "                      (MAE: 4.1677)\n",
      "\n",
      "--------------------\n",
      "[[1, 0.15102508494598663, 0.13901183503223896, 0.13685931463818005, 0.10857080521709726, 4.33179012345679, 3.7877731323242188], [2, 0.17197909126721891, 0.1677208317567045, 0.16141612701950495, 0.12588838700573018, 4.154835390946502, 3.695448875427246], [3, 0.18403894983959188, 0.1775252902257438, 0.17209818455548395, 0.13573104499670613, 4.068930041152264, 3.560631275177002], [4, 0.19935734535422858, 0.18003952682213079, 0.18008292574950455, 0.14469110961321266, 4.167695473251029, 3.544600486755371]]\n",
      "-----------------------------------------------------------------------------------------\n"
     ]
    },
    {
     "name": "stderr",
     "output_type": "stream",
     "text": [
      "  0%|          | 1/1948 [00:02<1:23:36,  2.58s/it]"
     ]
    },
    {
     "name": "stdout",
     "output_type": "stream",
     "text": [
      "Epoch 5: 0%, loss: 2.231897\n"
     ]
    },
    {
     "name": "stderr",
     "output_type": "stream",
     "text": [
      "  5%|▌         | 101/1948 [04:07<1:14:58,  2.44s/it]"
     ]
    },
    {
     "name": "stdout",
     "output_type": "stream",
     "text": [
      "Epoch 5: 5%, loss: 5.772372\n"
     ]
    },
    {
     "name": "stderr",
     "output_type": "stream",
     "text": [
      " 10%|█         | 201/1948 [08:11<1:10:06,  2.41s/it]"
     ]
    },
    {
     "name": "stdout",
     "output_type": "stream",
     "text": [
      "Epoch 5: 10%, loss: 7.699127\n"
     ]
    },
    {
     "name": "stderr",
     "output_type": "stream",
     "text": [
      " 15%|█▌        | 301/1948 [12:19<1:05:25,  2.38s/it]"
     ]
    },
    {
     "name": "stdout",
     "output_type": "stream",
     "text": [
      "Epoch 5: 15%, loss: 2.766089\n"
     ]
    },
    {
     "name": "stderr",
     "output_type": "stream",
     "text": [
      " 21%|██        | 401/1948 [16:29<1:03:53,  2.48s/it]"
     ]
    },
    {
     "name": "stdout",
     "output_type": "stream",
     "text": [
      "Epoch 5: 21%, loss: 1.604886\n"
     ]
    },
    {
     "name": "stderr",
     "output_type": "stream",
     "text": [
      " 26%|██▌       | 501/1948 [20:37<57:32,  2.39s/it]  "
     ]
    },
    {
     "name": "stdout",
     "output_type": "stream",
     "text": [
      "Epoch 5: 26%, loss: 1.664043\n"
     ]
    },
    {
     "name": "stderr",
     "output_type": "stream",
     "text": [
      " 31%|███       | 601/1948 [24:46<55:03,  2.45s/it]  "
     ]
    },
    {
     "name": "stdout",
     "output_type": "stream",
     "text": [
      "Epoch 5: 31%, loss: 4.943663\n"
     ]
    },
    {
     "name": "stderr",
     "output_type": "stream",
     "text": [
      " 36%|███▌      | 701/1948 [29:00<54:34,  2.63s/it]"
     ]
    },
    {
     "name": "stdout",
     "output_type": "stream",
     "text": [
      "Epoch 5: 36%, loss: 2.065814\n"
     ]
    },
    {
     "name": "stderr",
     "output_type": "stream",
     "text": [
      " 41%|████      | 801/1948 [33:11<45:52,  2.40s/it]"
     ]
    },
    {
     "name": "stdout",
     "output_type": "stream",
     "text": [
      "Epoch 5: 41%, loss: 0.889002\n"
     ]
    },
    {
     "name": "stderr",
     "output_type": "stream",
     "text": [
      " 46%|████▋     | 901/1948 [37:26<43:25,  2.49s/it]"
     ]
    },
    {
     "name": "stdout",
     "output_type": "stream",
     "text": [
      "Epoch 5: 46%, loss: 13.616989\n"
     ]
    },
    {
     "name": "stderr",
     "output_type": "stream",
     "text": [
      " 51%|█████▏    | 1001/1948 [41:43<41:03,  2.60s/it]"
     ]
    },
    {
     "name": "stdout",
     "output_type": "stream",
     "text": [
      "Epoch 5: 51%, loss: 2.436141\n"
     ]
    },
    {
     "name": "stderr",
     "output_type": "stream",
     "text": [
      " 57%|█████▋    | 1101/1948 [46:05<35:52,  2.54s/it]"
     ]
    },
    {
     "name": "stdout",
     "output_type": "stream",
     "text": [
      "Epoch 5: 56%, loss: 2.213418\n"
     ]
    },
    {
     "name": "stderr",
     "output_type": "stream",
     "text": [
      " 62%|██████▏   | 1201/1948 [50:26<34:25,  2.77s/it]"
     ]
    },
    {
     "name": "stdout",
     "output_type": "stream",
     "text": [
      "Epoch 5: 62%, loss: 4.213771\n"
     ]
    },
    {
     "name": "stderr",
     "output_type": "stream",
     "text": [
      " 67%|██████▋   | 1301/1948 [54:47<26:36,  2.47s/it]"
     ]
    },
    {
     "name": "stdout",
     "output_type": "stream",
     "text": [
      "Epoch 5: 67%, loss: 1.933882\n"
     ]
    },
    {
     "name": "stderr",
     "output_type": "stream",
     "text": [
      " 72%|███████▏  | 1401/1948 [59:09<23:09,  2.54s/it]"
     ]
    },
    {
     "name": "stdout",
     "output_type": "stream",
     "text": [
      "Epoch 5: 72%, loss: 4.655179\n"
     ]
    },
    {
     "name": "stderr",
     "output_type": "stream",
     "text": [
      " 77%|███████▋  | 1501/1948 [1:03:35<19:33,  2.63s/it]"
     ]
    },
    {
     "name": "stdout",
     "output_type": "stream",
     "text": [
      "Epoch 5: 77%, loss: 1.321998\n"
     ]
    },
    {
     "name": "stderr",
     "output_type": "stream",
     "text": [
      " 82%|████████▏ | 1601/1948 [1:08:00<15:14,  2.64s/it]"
     ]
    },
    {
     "name": "stdout",
     "output_type": "stream",
     "text": [
      "Epoch 5: 82%, loss: 3.279368\n"
     ]
    },
    {
     "name": "stderr",
     "output_type": "stream",
     "text": [
      " 87%|████████▋ | 1701/1948 [1:12:25<10:58,  2.67s/it]"
     ]
    },
    {
     "name": "stdout",
     "output_type": "stream",
     "text": [
      "Epoch 5: 87%, loss: 4.081981\n"
     ]
    },
    {
     "name": "stderr",
     "output_type": "stream",
     "text": [
      " 92%|█████████▏| 1800/1948 [1:16:48<06:25,  2.61s/it]"
     ]
    },
    {
     "name": "stdout",
     "output_type": "stream",
     "text": [
      "Epoch 5: 92%, loss: 4.317580\n"
     ]
    },
    {
     "name": "stderr",
     "output_type": "stream",
     "text": [
      " 98%|█████████▊| 1900/1948 [1:21:17<02:14,  2.79s/it]"
     ]
    },
    {
     "name": "stdout",
     "output_type": "stream",
     "text": [
      "Epoch 5: 98%, loss: 3.853356\n"
     ]
    },
    {
     "name": "stderr",
     "output_type": "stream",
     "text": [
      "100%|█████████▉| 1947/1948 [1:23:25<00:02,  2.70s/it]"
     ]
    },
    {
     "name": "stdout",
     "output_type": "stream",
     "text": [
      "Epoch 5: 100%, loss: 2.813210\n"
     ]
    },
    {
     "name": "stderr",
     "output_type": "stream",
     "text": [
      "100%|██████████| 1948/1948 [1:23:28<00:00,  2.57s/it]\n"
     ]
    },
    {
     "name": "stdout",
     "output_type": "stream",
     "text": [
      "                      (F1-score: 0.2223, Precision: 0.2253, Recall: 0.2417)\n",
      "\n",
      "                      (NDCG: 0.1765)\n",
      "\n",
      "                      (MAE: 4.0278)\n",
      "\n",
      "train_loss= tensor(3.2113)\n",
      "--------------------\n"
     ]
    },
    {
     "name": "stderr",
     "output_type": "stream",
     "text": [
      "100%|██████████| 243/243 [09:20<00:00,  2.31s/it]\n"
     ]
    },
    {
     "name": "stdout",
     "output_type": "stream",
     "text": [
      "                      (F1-score: 0.1911, Precision: 0.1856, Recall: 0.2169)\n",
      "\n",
      "                      (NDCG: 0.1536)\n",
      "\n",
      "                      (MAE: 4.1517)\n",
      "\n",
      "val_loss= tensor(3.3207)\n",
      "--------------------\n"
     ]
    },
    {
     "name": "stderr",
     "output_type": "stream",
     "text": [
      "100%|██████████| 243/243 [09:21<00:00,  2.31s/it]\n"
     ]
    },
    {
     "name": "stdout",
     "output_type": "stream",
     "text": [
      "                      (F1-score: 0.1821, Precision: 0.1780, Recall: 0.2050)\n",
      "\n",
      "                      (NDCG: 0.1494)\n",
      "\n",
      "                      (MAE: 4.1734)\n",
      "\n",
      "--------------------\n",
      "[[1, 0.15102508494598663, 0.13901183503223896, 0.13685931463818005, 0.10857080521709726, 4.33179012345679, 3.7877731323242188], [2, 0.17197909126721891, 0.1677208317567045, 0.16141612701950495, 0.12588838700573018, 4.154835390946502, 3.695448875427246], [3, 0.18403894983959188, 0.1775252902257438, 0.17209818455548395, 0.13573104499670613, 4.068930041152264, 3.560631275177002], [4, 0.19935734535422858, 0.18003952682213079, 0.18008292574950455, 0.14469110961321266, 4.167695473251029, 3.544600486755371], [5, 0.2050243005619127, 0.1780420862385157, 0.18210172856100093, 0.14937120064979978, 4.17335390946502, 3.462721586227417]]\n",
      "-----------------------------------------------------------------------------------------\n"
     ]
    },
    {
     "name": "stderr",
     "output_type": "stream",
     "text": [
      "  0%|          | 1/1948 [00:02<1:24:40,  2.61s/it]"
     ]
    },
    {
     "name": "stdout",
     "output_type": "stream",
     "text": [
      "Epoch 6: 0%, loss: 2.068535\n"
     ]
    },
    {
     "name": "stderr",
     "output_type": "stream",
     "text": [
      "  5%|▌         | 101/1948 [04:10<1:19:25,  2.58s/it]"
     ]
    },
    {
     "name": "stdout",
     "output_type": "stream",
     "text": [
      "Epoch 6: 5%, loss: 1.467120\n"
     ]
    },
    {
     "name": "stderr",
     "output_type": "stream",
     "text": [
      " 10%|█         | 201/1948 [08:19<1:13:15,  2.52s/it]"
     ]
    },
    {
     "name": "stdout",
     "output_type": "stream",
     "text": [
      "Epoch 6: 10%, loss: 21.251795\n"
     ]
    },
    {
     "name": "stderr",
     "output_type": "stream",
     "text": [
      " 15%|█▌        | 301/1948 [12:32<1:10:53,  2.58s/it]"
     ]
    },
    {
     "name": "stdout",
     "output_type": "stream",
     "text": [
      "Epoch 6: 15%, loss: 2.594599\n"
     ]
    },
    {
     "name": "stderr",
     "output_type": "stream",
     "text": [
      " 21%|██        | 401/1948 [16:44<1:05:23,  2.54s/it]"
     ]
    },
    {
     "name": "stdout",
     "output_type": "stream",
     "text": [
      "Epoch 6: 21%, loss: 3.172266\n"
     ]
    },
    {
     "name": "stderr",
     "output_type": "stream",
     "text": [
      " 26%|██▌       | 501/1948 [20:56<56:36,  2.35s/it]  "
     ]
    },
    {
     "name": "stdout",
     "output_type": "stream",
     "text": [
      "Epoch 6: 26%, loss: 5.351851\n"
     ]
    },
    {
     "name": "stderr",
     "output_type": "stream",
     "text": [
      " 31%|███       | 601/1948 [25:10<55:35,  2.48s/it]  "
     ]
    },
    {
     "name": "stdout",
     "output_type": "stream",
     "text": [
      "Epoch 6: 31%, loss: 2.438187\n"
     ]
    },
    {
     "name": "stderr",
     "output_type": "stream",
     "text": [
      " 36%|███▌      | 701/1948 [29:22<51:43,  2.49s/it]  "
     ]
    },
    {
     "name": "stdout",
     "output_type": "stream",
     "text": [
      "Epoch 6: 36%, loss: 3.023263\n"
     ]
    },
    {
     "name": "stderr",
     "output_type": "stream",
     "text": [
      " 41%|████      | 801/1948 [33:34<49:20,  2.58s/it]"
     ]
    },
    {
     "name": "stdout",
     "output_type": "stream",
     "text": [
      "Epoch 6: 41%, loss: 1.710389\n"
     ]
    },
    {
     "name": "stderr",
     "output_type": "stream",
     "text": [
      " 46%|████▋     | 901/1948 [37:48<45:29,  2.61s/it]"
     ]
    },
    {
     "name": "stdout",
     "output_type": "stream",
     "text": [
      "Epoch 6: 46%, loss: 1.101711\n"
     ]
    },
    {
     "name": "stderr",
     "output_type": "stream",
     "text": [
      " 51%|█████▏    | 1001/1948 [42:05<42:16,  2.68s/it]"
     ]
    },
    {
     "name": "stdout",
     "output_type": "stream",
     "text": [
      "Epoch 6: 51%, loss: 3.474792\n"
     ]
    },
    {
     "name": "stderr",
     "output_type": "stream",
     "text": [
      " 57%|█████▋    | 1101/1948 [46:24<37:53,  2.68s/it]"
     ]
    },
    {
     "name": "stdout",
     "output_type": "stream",
     "text": [
      "Epoch 6: 56%, loss: 8.634339\n"
     ]
    },
    {
     "name": "stderr",
     "output_type": "stream",
     "text": [
      " 62%|██████▏   | 1201/1948 [50:40<30:47,  2.47s/it]"
     ]
    },
    {
     "name": "stdout",
     "output_type": "stream",
     "text": [
      "Epoch 6: 62%, loss: 1.456387\n"
     ]
    },
    {
     "name": "stderr",
     "output_type": "stream",
     "text": [
      " 67%|██████▋   | 1301/1948 [55:00<28:35,  2.65s/it]"
     ]
    },
    {
     "name": "stdout",
     "output_type": "stream",
     "text": [
      "Epoch 6: 67%, loss: 1.637581\n"
     ]
    },
    {
     "name": "stderr",
     "output_type": "stream",
     "text": [
      " 72%|███████▏  | 1401/1948 [59:23<23:51,  2.62s/it]"
     ]
    },
    {
     "name": "stdout",
     "output_type": "stream",
     "text": [
      "Epoch 6: 72%, loss: 2.367525\n"
     ]
    },
    {
     "name": "stderr",
     "output_type": "stream",
     "text": [
      " 77%|███████▋  | 1501/1948 [1:03:50<18:53,  2.54s/it]"
     ]
    },
    {
     "name": "stdout",
     "output_type": "stream",
     "text": [
      "Epoch 6: 77%, loss: 3.233791\n"
     ]
    },
    {
     "name": "stderr",
     "output_type": "stream",
     "text": [
      " 82%|████████▏ | 1601/1948 [1:08:14<15:17,  2.64s/it]"
     ]
    },
    {
     "name": "stdout",
     "output_type": "stream",
     "text": [
      "Epoch 6: 82%, loss: 4.536602\n"
     ]
    },
    {
     "name": "stderr",
     "output_type": "stream",
     "text": [
      " 87%|████████▋ | 1701/1948 [1:12:40<10:31,  2.56s/it]"
     ]
    },
    {
     "name": "stdout",
     "output_type": "stream",
     "text": [
      "Epoch 6: 87%, loss: 2.720835\n"
     ]
    },
    {
     "name": "stderr",
     "output_type": "stream",
     "text": [
      " 92%|█████████▏| 1800/1948 [1:17:06<06:43,  2.73s/it]"
     ]
    },
    {
     "name": "stdout",
     "output_type": "stream",
     "text": [
      "Epoch 6: 92%, loss: 4.736439\n"
     ]
    },
    {
     "name": "stderr",
     "output_type": "stream",
     "text": [
      " 98%|█████████▊| 1900/1948 [1:21:31<02:08,  2.67s/it]"
     ]
    },
    {
     "name": "stdout",
     "output_type": "stream",
     "text": [
      "Epoch 6: 98%, loss: 2.214087\n"
     ]
    },
    {
     "name": "stderr",
     "output_type": "stream",
     "text": [
      "100%|█████████▉| 1947/1948 [1:23:36<00:02,  2.60s/it]"
     ]
    },
    {
     "name": "stdout",
     "output_type": "stream",
     "text": [
      "Epoch 6: 100%, loss: 4.164082\n"
     ]
    },
    {
     "name": "stderr",
     "output_type": "stream",
     "text": [
      "100%|██████████| 1948/1948 [1:23:39<00:00,  2.58s/it]\n"
     ]
    },
    {
     "name": "stdout",
     "output_type": "stream",
     "text": [
      "                      (F1-score: 0.2234, Precision: 0.2262, Recall: 0.2425)\n",
      "\n",
      "                      (NDCG: 0.1788)\n",
      "\n",
      "                      (MAE: 4.0055)\n",
      "\n",
      "train_loss= tensor(3.1935)\n",
      "--------------------\n"
     ]
    },
    {
     "name": "stderr",
     "output_type": "stream",
     "text": [
      "100%|██████████| 243/243 [09:16<00:00,  2.29s/it]\n"
     ]
    },
    {
     "name": "stdout",
     "output_type": "stream",
     "text": [
      "                      (F1-score: 0.1901, Precision: 0.1973, Recall: 0.2012)\n",
      "\n",
      "                      (NDCG: 0.1513)\n",
      "\n",
      "                      (MAE: 3.9753)\n",
      "\n",
      "val_loss= tensor(3.3645)\n",
      "--------------------\n"
     ]
    },
    {
     "name": "stderr",
     "output_type": "stream",
     "text": [
      "100%|██████████| 243/243 [09:15<00:00,  2.29s/it]\n"
     ]
    },
    {
     "name": "stdout",
     "output_type": "stream",
     "text": [
      "                      (F1-score: 0.1827, Precision: 0.1911, Recall: 0.1915)\n",
      "\n",
      "                      (NDCG: 0.1477)\n",
      "\n",
      "                      (MAE: 4.0041)\n",
      "\n",
      "--------------------\n",
      "[[1, 0.15102508494598663, 0.13901183503223896, 0.13685931463818005, 0.10857080521709726, 4.33179012345679, 3.7877731323242188], [2, 0.17197909126721891, 0.1677208317567045, 0.16141612701950495, 0.12588838700573018, 4.154835390946502, 3.695448875427246], [3, 0.18403894983959188, 0.1775252902257438, 0.17209818455548395, 0.13573104499670613, 4.068930041152264, 3.560631275177002], [4, 0.19935734535422858, 0.18003952682213079, 0.18008292574950455, 0.14469110961321266, 4.167695473251029, 3.544600486755371], [5, 0.2050243005619127, 0.1780420862385157, 0.18210172856100093, 0.14937120064979978, 4.17335390946502, 3.462721586227417], [6, 0.19149365541363422, 0.19109275876505344, 0.1826502735226269, 0.14768747289649714, 4.004115226337449, 3.5485246181488037]]\n",
      "-----------------------------------------------------------------------------------------\n"
     ]
    },
    {
     "name": "stderr",
     "output_type": "stream",
     "text": [
      "  0%|          | 1/1948 [00:02<1:17:20,  2.38s/it]"
     ]
    },
    {
     "name": "stdout",
     "output_type": "stream",
     "text": [
      "Epoch 7: 0%, loss: 4.144621\n"
     ]
    },
    {
     "name": "stderr",
     "output_type": "stream",
     "text": [
      "  5%|▌         | 101/1948 [04:06<1:16:22,  2.48s/it]"
     ]
    },
    {
     "name": "stdout",
     "output_type": "stream",
     "text": [
      "Epoch 7: 5%, loss: 2.428629\n"
     ]
    },
    {
     "name": "stderr",
     "output_type": "stream",
     "text": [
      " 10%|█         | 201/1948 [08:11<1:15:38,  2.60s/it]"
     ]
    },
    {
     "name": "stdout",
     "output_type": "stream",
     "text": [
      "Epoch 7: 10%, loss: 2.307298\n"
     ]
    },
    {
     "name": "stderr",
     "output_type": "stream",
     "text": [
      " 15%|█▌        | 301/1948 [12:18<1:09:25,  2.53s/it]"
     ]
    },
    {
     "name": "stdout",
     "output_type": "stream",
     "text": [
      "Epoch 7: 15%, loss: 4.948762\n"
     ]
    },
    {
     "name": "stderr",
     "output_type": "stream",
     "text": [
      " 21%|██        | 401/1948 [16:26<1:01:56,  2.40s/it]"
     ]
    },
    {
     "name": "stdout",
     "output_type": "stream",
     "text": [
      "Epoch 7: 21%, loss: 3.300894\n"
     ]
    },
    {
     "name": "stderr",
     "output_type": "stream",
     "text": [
      " 26%|██▌       | 501/1948 [20:39<1:01:42,  2.56s/it]"
     ]
    },
    {
     "name": "stdout",
     "output_type": "stream",
     "text": [
      "Epoch 7: 26%, loss: 4.604069\n"
     ]
    },
    {
     "name": "stderr",
     "output_type": "stream",
     "text": [
      " 31%|███       | 601/1948 [24:51<54:24,  2.42s/it]  "
     ]
    },
    {
     "name": "stdout",
     "output_type": "stream",
     "text": [
      "Epoch 7: 31%, loss: 2.410761\n"
     ]
    },
    {
     "name": "stderr",
     "output_type": "stream",
     "text": [
      " 36%|███▌      | 701/1948 [29:03<53:22,  2.57s/it]  "
     ]
    },
    {
     "name": "stdout",
     "output_type": "stream",
     "text": [
      "Epoch 7: 36%, loss: 3.895923\n"
     ]
    },
    {
     "name": "stderr",
     "output_type": "stream",
     "text": [
      " 41%|████      | 801/1948 [33:17<49:15,  2.58s/it]"
     ]
    },
    {
     "name": "stdout",
     "output_type": "stream",
     "text": [
      "Epoch 7: 41%, loss: 3.205754\n"
     ]
    },
    {
     "name": "stderr",
     "output_type": "stream",
     "text": [
      " 46%|████▋     | 901/1948 [37:32<43:31,  2.49s/it]"
     ]
    },
    {
     "name": "stdout",
     "output_type": "stream",
     "text": [
      "Epoch 7: 46%, loss: 2.883098\n"
     ]
    },
    {
     "name": "stderr",
     "output_type": "stream",
     "text": [
      " 51%|█████▏    | 1001/1948 [41:46<40:03,  2.54s/it]"
     ]
    },
    {
     "name": "stdout",
     "output_type": "stream",
     "text": [
      "Epoch 7: 51%, loss: 12.753831\n"
     ]
    },
    {
     "name": "stderr",
     "output_type": "stream",
     "text": [
      " 57%|█████▋    | 1101/1948 [46:00<34:14,  2.43s/it]"
     ]
    },
    {
     "name": "stdout",
     "output_type": "stream",
     "text": [
      "Epoch 7: 56%, loss: 1.298524\n"
     ]
    },
    {
     "name": "stderr",
     "output_type": "stream",
     "text": [
      " 62%|██████▏   | 1201/1948 [50:19<33:10,  2.67s/it]"
     ]
    },
    {
     "name": "stdout",
     "output_type": "stream",
     "text": [
      "Epoch 7: 62%, loss: 10.785186\n"
     ]
    },
    {
     "name": "stderr",
     "output_type": "stream",
     "text": [
      " 67%|██████▋   | 1301/1948 [54:37<28:04,  2.60s/it]"
     ]
    },
    {
     "name": "stdout",
     "output_type": "stream",
     "text": [
      "Epoch 7: 67%, loss: 1.890634\n"
     ]
    },
    {
     "name": "stderr",
     "output_type": "stream",
     "text": [
      " 72%|███████▏  | 1401/1948 [58:57<24:56,  2.74s/it]"
     ]
    },
    {
     "name": "stdout",
     "output_type": "stream",
     "text": [
      "Epoch 7: 72%, loss: 2.888699\n"
     ]
    },
    {
     "name": "stderr",
     "output_type": "stream",
     "text": [
      " 77%|███████▋  | 1501/1948 [1:03:19<18:56,  2.54s/it]"
     ]
    },
    {
     "name": "stdout",
     "output_type": "stream",
     "text": [
      "Epoch 7: 77%, loss: 2.035613\n"
     ]
    },
    {
     "name": "stderr",
     "output_type": "stream",
     "text": [
      " 82%|████████▏ | 1601/1948 [1:07:40<15:56,  2.76s/it]"
     ]
    },
    {
     "name": "stdout",
     "output_type": "stream",
     "text": [
      "Epoch 7: 82%, loss: 5.118807\n"
     ]
    },
    {
     "name": "stderr",
     "output_type": "stream",
     "text": [
      " 87%|████████▋ | 1700/1948 [1:12:00<10:38,  2.57s/it]"
     ]
    },
    {
     "name": "stdout",
     "output_type": "stream",
     "text": [
      "Epoch 7: 87%, loss: 2.987033\n"
     ]
    },
    {
     "name": "stderr",
     "output_type": "stream",
     "text": [
      " 92%|█████████▏| 1800/1948 [1:16:23<06:41,  2.71s/it]"
     ]
    },
    {
     "name": "stdout",
     "output_type": "stream",
     "text": [
      "Epoch 7: 92%, loss: 1.431716\n"
     ]
    },
    {
     "name": "stderr",
     "output_type": "stream",
     "text": [
      " 98%|█████████▊| 1900/1948 [1:20:48<02:08,  2.68s/it]"
     ]
    },
    {
     "name": "stdout",
     "output_type": "stream",
     "text": [
      "Epoch 7: 98%, loss: 4.203668\n"
     ]
    },
    {
     "name": "stderr",
     "output_type": "stream",
     "text": [
      "100%|█████████▉| 1947/1948 [1:22:53<00:02,  2.66s/it]"
     ]
    },
    {
     "name": "stdout",
     "output_type": "stream",
     "text": [
      "Epoch 7: 100%, loss: 4.467873\n"
     ]
    },
    {
     "name": "stderr",
     "output_type": "stream",
     "text": [
      "100%|██████████| 1948/1948 [1:22:56<00:00,  2.55s/it]\n"
     ]
    },
    {
     "name": "stdout",
     "output_type": "stream",
     "text": [
      "                      (F1-score: 0.2238, Precision: 0.2262, Recall: 0.2431)\n",
      "\n",
      "                      (NDCG: 0.1797)\n",
      "\n",
      "                      (MAE: 3.9798)\n",
      "\n",
      "train_loss= tensor(3.1747)\n",
      "--------------------\n"
     ]
    },
    {
     "name": "stderr",
     "output_type": "stream",
     "text": [
      "100%|██████████| 243/243 [09:12<00:00,  2.27s/it]\n"
     ]
    },
    {
     "name": "stdout",
     "output_type": "stream",
     "text": [
      "                      (F1-score: 0.1896, Precision: 0.1809, Recall: 0.2202)\n",
      "\n",
      "                      (NDCG: 0.1525)\n",
      "\n",
      "                      (MAE: 4.2865)\n",
      "\n",
      "val_loss= tensor(3.3318)\n",
      "--------------------\n"
     ]
    },
    {
     "name": "stderr",
     "output_type": "stream",
     "text": [
      "100%|██████████| 243/243 [09:13<00:00,  2.28s/it]\n"
     ]
    },
    {
     "name": "stdout",
     "output_type": "stream",
     "text": [
      "                      (F1-score: 0.1822, Precision: 0.1753, Recall: 0.2097)\n",
      "\n",
      "                      (NDCG: 0.1488)\n",
      "\n",
      "                      (MAE: 4.3045)\n",
      "\n",
      "--------------------\n",
      "[[1, 0.15102508494598663, 0.13901183503223896, 0.13685931463818005, 0.10857080521709726, 4.33179012345679, 3.7877731323242188], [2, 0.17197909126721891, 0.1677208317567045, 0.16141612701950495, 0.12588838700573018, 4.154835390946502, 3.695448875427246], [3, 0.18403894983959188, 0.1775252902257438, 0.17209818455548395, 0.13573104499670613, 4.068930041152264, 3.560631275177002], [4, 0.19935734535422858, 0.18003952682213079, 0.18008292574950455, 0.14469110961321266, 4.167695473251029, 3.544600486755371], [5, 0.2050243005619127, 0.1780420862385157, 0.18210172856100093, 0.14937120064979978, 4.17335390946502, 3.462721586227417], [6, 0.19149365541363422, 0.19109275876505344, 0.1826502735226269, 0.14768747289649714, 4.004115226337449, 3.5485246181488037], [7, 0.2097481944994838, 0.17531216869337582, 0.18219340661188196, 0.14883438410494215, 4.304526748971194, 3.4884655475616455]]\n",
      "-----------------------------------------------------------------------------------------\n"
     ]
    },
    {
     "name": "stderr",
     "output_type": "stream",
     "text": [
      "  0%|          | 1/1948 [00:02<1:28:55,  2.74s/it]"
     ]
    },
    {
     "name": "stdout",
     "output_type": "stream",
     "text": [
      "Epoch 8: 0%, loss: 5.987339\n"
     ]
    },
    {
     "name": "stderr",
     "output_type": "stream",
     "text": [
      "  5%|▌         | 101/1948 [04:05<1:13:31,  2.39s/it]"
     ]
    },
    {
     "name": "stdout",
     "output_type": "stream",
     "text": [
      "Epoch 8: 5%, loss: 2.466471\n"
     ]
    },
    {
     "name": "stderr",
     "output_type": "stream",
     "text": [
      " 10%|█         | 201/1948 [08:12<1:15:03,  2.58s/it]"
     ]
    },
    {
     "name": "stdout",
     "output_type": "stream",
     "text": [
      "Epoch 8: 10%, loss: 4.674823\n"
     ]
    },
    {
     "name": "stderr",
     "output_type": "stream",
     "text": [
      " 15%|█▌        | 301/1948 [12:16<1:05:36,  2.39s/it]"
     ]
    },
    {
     "name": "stdout",
     "output_type": "stream",
     "text": [
      "Epoch 8: 15%, loss: 3.038000\n"
     ]
    },
    {
     "name": "stderr",
     "output_type": "stream",
     "text": [
      " 21%|██        | 401/1948 [16:24<1:05:06,  2.53s/it]"
     ]
    },
    {
     "name": "stdout",
     "output_type": "stream",
     "text": [
      "Epoch 8: 21%, loss: 2.964874\n"
     ]
    },
    {
     "name": "stderr",
     "output_type": "stream",
     "text": [
      " 26%|██▌       | 501/1948 [20:36<58:23,  2.42s/it]  "
     ]
    },
    {
     "name": "stdout",
     "output_type": "stream",
     "text": [
      "Epoch 8: 26%, loss: 1.511279\n"
     ]
    },
    {
     "name": "stderr",
     "output_type": "stream",
     "text": [
      " 31%|███       | 601/1948 [24:47<58:04,  2.59s/it]  "
     ]
    },
    {
     "name": "stdout",
     "output_type": "stream",
     "text": [
      "Epoch 8: 31%, loss: 2.914744\n"
     ]
    },
    {
     "name": "stderr",
     "output_type": "stream",
     "text": [
      " 36%|███▌      | 701/1948 [28:56<51:17,  2.47s/it]"
     ]
    },
    {
     "name": "stdout",
     "output_type": "stream",
     "text": [
      "Epoch 8: 36%, loss: 2.885002\n"
     ]
    },
    {
     "name": "stderr",
     "output_type": "stream",
     "text": [
      " 41%|████      | 801/1948 [33:09<47:41,  2.50s/it]"
     ]
    },
    {
     "name": "stdout",
     "output_type": "stream",
     "text": [
      "Epoch 8: 41%, loss: 1.262931\n"
     ]
    },
    {
     "name": "stderr",
     "output_type": "stream",
     "text": [
      " 46%|████▋     | 901/1948 [37:23<42:37,  2.44s/it]"
     ]
    },
    {
     "name": "stdout",
     "output_type": "stream",
     "text": [
      "Epoch 8: 46%, loss: 3.074079\n"
     ]
    },
    {
     "name": "stderr",
     "output_type": "stream",
     "text": [
      " 51%|█████▏    | 1001/1948 [41:35<39:49,  2.52s/it]"
     ]
    },
    {
     "name": "stdout",
     "output_type": "stream",
     "text": [
      "Epoch 8: 51%, loss: 1.209055\n"
     ]
    },
    {
     "name": "stderr",
     "output_type": "stream",
     "text": [
      " 57%|█████▋    | 1101/1948 [45:50<35:56,  2.55s/it]"
     ]
    },
    {
     "name": "stdout",
     "output_type": "stream",
     "text": [
      "Epoch 8: 56%, loss: 6.648495\n"
     ]
    },
    {
     "name": "stderr",
     "output_type": "stream",
     "text": [
      " 62%|██████▏   | 1201/1948 [50:08<32:00,  2.57s/it]"
     ]
    },
    {
     "name": "stdout",
     "output_type": "stream",
     "text": [
      "Epoch 8: 62%, loss: 1.615969\n"
     ]
    },
    {
     "name": "stderr",
     "output_type": "stream",
     "text": [
      " 67%|██████▋   | 1301/1948 [54:27<27:30,  2.55s/it]"
     ]
    },
    {
     "name": "stdout",
     "output_type": "stream",
     "text": [
      "Epoch 8: 67%, loss: 1.758206\n"
     ]
    },
    {
     "name": "stderr",
     "output_type": "stream",
     "text": [
      " 72%|███████▏  | 1401/1948 [58:46<24:10,  2.65s/it]"
     ]
    },
    {
     "name": "stdout",
     "output_type": "stream",
     "text": [
      "Epoch 8: 72%, loss: 4.583507\n"
     ]
    },
    {
     "name": "stderr",
     "output_type": "stream",
     "text": [
      " 77%|███████▋  | 1501/1948 [1:03:08<18:46,  2.52s/it]"
     ]
    },
    {
     "name": "stdout",
     "output_type": "stream",
     "text": [
      "Epoch 8: 77%, loss: 3.438291\n"
     ]
    },
    {
     "name": "stderr",
     "output_type": "stream",
     "text": [
      " 82%|████████▏ | 1601/1948 [1:07:32<15:00,  2.59s/it]"
     ]
    },
    {
     "name": "stdout",
     "output_type": "stream",
     "text": [
      "Epoch 8: 82%, loss: 1.346819\n"
     ]
    },
    {
     "name": "stderr",
     "output_type": "stream",
     "text": [
      " 87%|████████▋ | 1701/1948 [1:11:55<11:02,  2.68s/it]"
     ]
    },
    {
     "name": "stdout",
     "output_type": "stream",
     "text": [
      "Epoch 8: 87%, loss: 1.953582\n"
     ]
    },
    {
     "name": "stderr",
     "output_type": "stream",
     "text": [
      " 92%|█████████▏| 1800/1948 [1:16:16<06:26,  2.61s/it]"
     ]
    },
    {
     "name": "stdout",
     "output_type": "stream",
     "text": [
      "Epoch 8: 92%, loss: 2.681052\n"
     ]
    },
    {
     "name": "stderr",
     "output_type": "stream",
     "text": [
      " 98%|█████████▊| 1900/1948 [1:20:44<02:11,  2.74s/it]"
     ]
    },
    {
     "name": "stdout",
     "output_type": "stream",
     "text": [
      "Epoch 8: 98%, loss: 3.504327\n"
     ]
    },
    {
     "name": "stderr",
     "output_type": "stream",
     "text": [
      "100%|█████████▉| 1947/1948 [1:22:49<00:02,  2.62s/it]"
     ]
    },
    {
     "name": "stdout",
     "output_type": "stream",
     "text": [
      "Epoch 8: 100%, loss: 1.859837\n"
     ]
    },
    {
     "name": "stderr",
     "output_type": "stream",
     "text": [
      "100%|██████████| 1948/1948 [1:22:52<00:00,  2.55s/it]\n"
     ]
    },
    {
     "name": "stdout",
     "output_type": "stream",
     "text": [
      "                      (F1-score: 0.2236, Precision: 0.2261, Recall: 0.2429)\n",
      "\n",
      "                      (NDCG: 0.1794)\n",
      "\n",
      "                      (MAE: 3.9739)\n",
      "\n",
      "train_loss= tensor(3.1598)\n",
      "--------------------\n"
     ]
    },
    {
     "name": "stderr",
     "output_type": "stream",
     "text": [
      "100%|██████████| 243/243 [09:12<00:00,  2.27s/it]\n"
     ]
    },
    {
     "name": "stdout",
     "output_type": "stream",
     "text": [
      "                      (F1-score: 0.1883, Precision: 0.1760, Recall: 0.2228)\n",
      "\n",
      "                      (NDCG: 0.1519)\n",
      "\n",
      "                      (MAE: 4.5885)\n",
      "\n",
      "val_loss= tensor(3.6842)\n",
      "--------------------\n"
     ]
    },
    {
     "name": "stderr",
     "output_type": "stream",
     "text": [
      "100%|██████████| 243/243 [09:11<00:00,  2.27s/it]\n"
     ]
    },
    {
     "name": "stdout",
     "output_type": "stream",
     "text": [
      "                      (F1-score: 0.1810, Precision: 0.1697, Recall: 0.2141)\n",
      "\n",
      "                      (NDCG: 0.1483)\n",
      "\n",
      "                      (MAE: 4.6019)\n",
      "\n",
      "--------------------\n",
      "[[1, 0.15102508494598663, 0.13901183503223896, 0.13685931463818005, 0.10857080521709726, 4.33179012345679, 3.7877731323242188], [2, 0.17197909126721891, 0.1677208317567045, 0.16141612701950495, 0.12588838700573018, 4.154835390946502, 3.695448875427246], [3, 0.18403894983959188, 0.1775252902257438, 0.17209818455548395, 0.13573104499670613, 4.068930041152264, 3.560631275177002], [4, 0.19935734535422858, 0.18003952682213079, 0.18008292574950455, 0.14469110961321266, 4.167695473251029, 3.544600486755371], [5, 0.2050243005619127, 0.1780420862385157, 0.18210172856100093, 0.14937120064979978, 4.17335390946502, 3.462721586227417], [6, 0.19149365541363422, 0.19109275876505344, 0.1826502735226269, 0.14768747289649714, 4.004115226337449, 3.5485246181488037], [7, 0.2097481944994838, 0.17531216869337582, 0.18219340661188196, 0.14883438410494215, 4.304526748971194, 3.4884655475616455], [8, 0.21414556181524244, 0.16974517390788688, 0.1809597059468153, 0.14828424960942058, 4.601851851851852, 3.836853265762329]]\n",
      "-----------------------------------------------------------------------------------------\n"
     ]
    },
    {
     "name": "stderr",
     "output_type": "stream",
     "text": [
      "  0%|          | 1/1948 [00:02<1:18:25,  2.42s/it]"
     ]
    },
    {
     "name": "stdout",
     "output_type": "stream",
     "text": [
      "Epoch 9: 0%, loss: 1.892593\n"
     ]
    },
    {
     "name": "stderr",
     "output_type": "stream",
     "text": [
      "  5%|▌         | 101/1948 [04:07<1:13:07,  2.38s/it]"
     ]
    },
    {
     "name": "stdout",
     "output_type": "stream",
     "text": [
      "Epoch 9: 5%, loss: 3.092988\n"
     ]
    },
    {
     "name": "stderr",
     "output_type": "stream",
     "text": [
      " 10%|█         | 201/1948 [08:12<1:13:32,  2.53s/it]"
     ]
    },
    {
     "name": "stdout",
     "output_type": "stream",
     "text": [
      "Epoch 9: 10%, loss: 3.940808\n"
     ]
    },
    {
     "name": "stderr",
     "output_type": "stream",
     "text": [
      " 15%|█▌        | 301/1948 [12:18<1:07:13,  2.45s/it]"
     ]
    },
    {
     "name": "stdout",
     "output_type": "stream",
     "text": [
      "Epoch 9: 15%, loss: 1.777043\n"
     ]
    },
    {
     "name": "stderr",
     "output_type": "stream",
     "text": [
      " 21%|██        | 401/1948 [16:30<1:06:12,  2.57s/it]"
     ]
    },
    {
     "name": "stdout",
     "output_type": "stream",
     "text": [
      "Epoch 9: 21%, loss: 2.466163\n"
     ]
    },
    {
     "name": "stderr",
     "output_type": "stream",
     "text": [
      " 26%|██▌       | 501/1948 [20:36<58:09,  2.41s/it]  "
     ]
    },
    {
     "name": "stdout",
     "output_type": "stream",
     "text": [
      "Epoch 9: 26%, loss: 1.310966\n"
     ]
    },
    {
     "name": "stderr",
     "output_type": "stream",
     "text": [
      " 31%|███       | 601/1948 [24:47<56:54,  2.53s/it]  "
     ]
    },
    {
     "name": "stdout",
     "output_type": "stream",
     "text": [
      "Epoch 9: 31%, loss: 1.417584\n"
     ]
    },
    {
     "name": "stderr",
     "output_type": "stream",
     "text": [
      " 36%|███▌      | 701/1948 [28:58<50:48,  2.44s/it]"
     ]
    },
    {
     "name": "stdout",
     "output_type": "stream",
     "text": [
      "Epoch 9: 36%, loss: 6.055806\n"
     ]
    },
    {
     "name": "stderr",
     "output_type": "stream",
     "text": [
      " 41%|████      | 801/1948 [33:11<47:44,  2.50s/it]"
     ]
    },
    {
     "name": "stdout",
     "output_type": "stream",
     "text": [
      "Epoch 9: 41%, loss: 1.749361\n"
     ]
    },
    {
     "name": "stderr",
     "output_type": "stream",
     "text": [
      " 46%|████▋     | 901/1948 [37:22<42:26,  2.43s/it]"
     ]
    },
    {
     "name": "stdout",
     "output_type": "stream",
     "text": [
      "Epoch 9: 46%, loss: 9.927672\n"
     ]
    },
    {
     "name": "stderr",
     "output_type": "stream",
     "text": [
      " 51%|█████▏    | 1001/1948 [41:36<39:39,  2.51s/it]"
     ]
    },
    {
     "name": "stdout",
     "output_type": "stream",
     "text": [
      "Epoch 9: 51%, loss: 5.051968\n"
     ]
    },
    {
     "name": "stderr",
     "output_type": "stream",
     "text": [
      " 57%|█████▋    | 1101/1948 [45:51<36:30,  2.59s/it]"
     ]
    },
    {
     "name": "stdout",
     "output_type": "stream",
     "text": [
      "Epoch 9: 56%, loss: 2.072712\n"
     ]
    },
    {
     "name": "stderr",
     "output_type": "stream",
     "text": [
      " 62%|██████▏   | 1201/1948 [50:09<31:51,  2.56s/it]"
     ]
    },
    {
     "name": "stdout",
     "output_type": "stream",
     "text": [
      "Epoch 9: 62%, loss: 2.114783\n"
     ]
    },
    {
     "name": "stderr",
     "output_type": "stream",
     "text": [
      " 67%|██████▋   | 1301/1948 [54:26<27:20,  2.54s/it]"
     ]
    },
    {
     "name": "stdout",
     "output_type": "stream",
     "text": [
      "Epoch 9: 67%, loss: 6.036636\n"
     ]
    },
    {
     "name": "stderr",
     "output_type": "stream",
     "text": [
      " 72%|███████▏  | 1401/1948 [58:49<25:08,  2.76s/it]"
     ]
    },
    {
     "name": "stdout",
     "output_type": "stream",
     "text": [
      "Epoch 9: 72%, loss: 2.394462\n"
     ]
    },
    {
     "name": "stderr",
     "output_type": "stream",
     "text": [
      " 77%|███████▋  | 1501/1948 [1:03:10<20:37,  2.77s/it]"
     ]
    },
    {
     "name": "stdout",
     "output_type": "stream",
     "text": [
      "Epoch 9: 77%, loss: 4.539028\n"
     ]
    },
    {
     "name": "stderr",
     "output_type": "stream",
     "text": [
      " 82%|████████▏ | 1601/1948 [1:07:32<14:46,  2.55s/it]"
     ]
    },
    {
     "name": "stdout",
     "output_type": "stream",
     "text": [
      "Epoch 9: 82%, loss: 4.372542\n"
     ]
    },
    {
     "name": "stderr",
     "output_type": "stream",
     "text": [
      " 87%|████████▋ | 1701/1948 [1:11:58<11:03,  2.69s/it]"
     ]
    },
    {
     "name": "stdout",
     "output_type": "stream",
     "text": [
      "Epoch 9: 87%, loss: 1.760277\n"
     ]
    },
    {
     "name": "stderr",
     "output_type": "stream",
     "text": [
      " 92%|█████████▏| 1800/1948 [1:16:18<06:32,  2.65s/it]"
     ]
    },
    {
     "name": "stdout",
     "output_type": "stream",
     "text": [
      "Epoch 9: 92%, loss: 1.424196\n"
     ]
    },
    {
     "name": "stderr",
     "output_type": "stream",
     "text": [
      " 98%|█████████▊| 1900/1948 [1:20:44<02:10,  2.71s/it]"
     ]
    },
    {
     "name": "stdout",
     "output_type": "stream",
     "text": [
      "Epoch 9: 98%, loss: 1.411108\n"
     ]
    },
    {
     "name": "stderr",
     "output_type": "stream",
     "text": [
      "100%|█████████▉| 1947/1948 [1:22:51<00:02,  2.78s/it]"
     ]
    },
    {
     "name": "stdout",
     "output_type": "stream",
     "text": [
      "Epoch 9: 100%, loss: 4.740823\n"
     ]
    },
    {
     "name": "stderr",
     "output_type": "stream",
     "text": [
      "100%|██████████| 1948/1948 [1:22:54<00:00,  2.55s/it]\n"
     ]
    },
    {
     "name": "stdout",
     "output_type": "stream",
     "text": [
      "                      (F1-score: 0.2231, Precision: 0.2255, Recall: 0.2425)\n",
      "\n",
      "                      (NDCG: 0.1792)\n",
      "\n",
      "                      (MAE: 3.9648)\n",
      "\n",
      "train_loss= tensor(3.1584)\n",
      "--------------------\n"
     ]
    },
    {
     "name": "stderr",
     "output_type": "stream",
     "text": [
      "100%|██████████| 243/243 [09:13<00:00,  2.28s/it]\n"
     ]
    },
    {
     "name": "stdout",
     "output_type": "stream",
     "text": [
      "                      (F1-score: 0.1894, Precision: 0.1830, Recall: 0.2161)\n",
      "\n",
      "                      (NDCG: 0.1531)\n",
      "\n",
      "                      (MAE: 4.1682)\n",
      "\n",
      "val_loss= tensor(3.3050)\n",
      "--------------------\n"
     ]
    },
    {
     "name": "stderr",
     "output_type": "stream",
     "text": [
      "100%|██████████| 243/243 [09:13<00:00,  2.28s/it]\n"
     ]
    },
    {
     "name": "stdout",
     "output_type": "stream",
     "text": [
      "                      (F1-score: 0.1811, Precision: 0.1760, Recall: 0.2053)\n",
      "\n",
      "                      (NDCG: 0.1490)\n",
      "\n",
      "                      (MAE: 4.1600)\n",
      "\n",
      "--------------------\n",
      "[[1, 0.15102508494598663, 0.13901183503223896, 0.13685931463818005, 0.10857080521709726, 4.33179012345679, 3.7877731323242188], [2, 0.17197909126721891, 0.1677208317567045, 0.16141612701950495, 0.12588838700573018, 4.154835390946502, 3.695448875427246], [3, 0.18403894983959188, 0.1775252902257438, 0.17209818455548395, 0.13573104499670613, 4.068930041152264, 3.560631275177002], [4, 0.19935734535422858, 0.18003952682213079, 0.18008292574950455, 0.14469110961321266, 4.167695473251029, 3.544600486755371], [5, 0.2050243005619127, 0.1780420862385157, 0.18210172856100093, 0.14937120064979978, 4.17335390946502, 3.462721586227417], [6, 0.19149365541363422, 0.19109275876505344, 0.1826502735226269, 0.14768747289649714, 4.004115226337449, 3.5485246181488037], [7, 0.2097481944994838, 0.17531216869337582, 0.18219340661188196, 0.14883438410494215, 4.304526748971194, 3.4884655475616455], [8, 0.21414556181524244, 0.16974517390788688, 0.1809597059468153, 0.14828424960942058, 4.601851851851852, 3.836853265762329], [9, 0.20529031247529914, 0.17597041469074787, 0.18106953407414228, 0.14899557413257383, 4.159979423868313, 3.4441349506378174]]\n",
      "-----------------------------------------------------------------------------------------\n"
     ]
    },
    {
     "name": "stderr",
     "output_type": "stream",
     "text": [
      "  0%|          | 1/1948 [00:02<1:19:40,  2.46s/it]"
     ]
    },
    {
     "name": "stdout",
     "output_type": "stream",
     "text": [
      "Epoch 10: 0%, loss: 2.647545\n"
     ]
    },
    {
     "name": "stderr",
     "output_type": "stream",
     "text": [
      "  5%|▌         | 101/1948 [04:06<1:10:46,  2.30s/it]"
     ]
    },
    {
     "name": "stdout",
     "output_type": "stream",
     "text": [
      "Epoch 10: 5%, loss: 4.823332\n"
     ]
    },
    {
     "name": "stderr",
     "output_type": "stream",
     "text": [
      " 10%|█         | 201/1948 [08:13<1:12:48,  2.50s/it]"
     ]
    },
    {
     "name": "stdout",
     "output_type": "stream",
     "text": [
      "Epoch 10: 10%, loss: 4.506196\n"
     ]
    },
    {
     "name": "stderr",
     "output_type": "stream",
     "text": [
      " 15%|█▌        | 301/1948 [12:19<1:09:02,  2.52s/it]"
     ]
    },
    {
     "name": "stdout",
     "output_type": "stream",
     "text": [
      "Epoch 10: 15%, loss: 1.416981\n"
     ]
    },
    {
     "name": "stderr",
     "output_type": "stream",
     "text": [
      " 21%|██        | 401/1948 [16:28<1:02:33,  2.43s/it]"
     ]
    },
    {
     "name": "stdout",
     "output_type": "stream",
     "text": [
      "Epoch 10: 21%, loss: 2.769563\n"
     ]
    },
    {
     "name": "stderr",
     "output_type": "stream",
     "text": [
      " 26%|██▌       | 501/1948 [20:38<1:01:06,  2.53s/it]"
     ]
    },
    {
     "name": "stdout",
     "output_type": "stream",
     "text": [
      "Epoch 10: 26%, loss: 3.966132\n"
     ]
    },
    {
     "name": "stderr",
     "output_type": "stream",
     "text": [
      " 31%|███       | 601/1948 [24:51<58:37,  2.61s/it]  "
     ]
    },
    {
     "name": "stdout",
     "output_type": "stream",
     "text": [
      "Epoch 10: 31%, loss: 7.051203\n"
     ]
    },
    {
     "name": "stderr",
     "output_type": "stream",
     "text": [
      " 36%|███▌      | 701/1948 [29:02<53:27,  2.57s/it]"
     ]
    },
    {
     "name": "stdout",
     "output_type": "stream",
     "text": [
      "Epoch 10: 36%, loss: 1.645988\n"
     ]
    },
    {
     "name": "stderr",
     "output_type": "stream",
     "text": [
      " 41%|████      | 801/1948 [33:16<46:57,  2.46s/it]"
     ]
    },
    {
     "name": "stdout",
     "output_type": "stream",
     "text": [
      "Epoch 10: 41%, loss: 2.338534\n"
     ]
    },
    {
     "name": "stderr",
     "output_type": "stream",
     "text": [
      " 46%|████▋     | 901/1948 [37:28<43:26,  2.49s/it]"
     ]
    },
    {
     "name": "stdout",
     "output_type": "stream",
     "text": [
      "Epoch 10: 46%, loss: 1.595141\n"
     ]
    },
    {
     "name": "stderr",
     "output_type": "stream",
     "text": [
      " 51%|█████▏    | 1001/1948 [41:41<39:06,  2.48s/it]"
     ]
    },
    {
     "name": "stdout",
     "output_type": "stream",
     "text": [
      "Epoch 10: 51%, loss: 2.445484\n"
     ]
    },
    {
     "name": "stderr",
     "output_type": "stream",
     "text": [
      " 57%|█████▋    | 1101/1948 [45:57<37:24,  2.65s/it]"
     ]
    },
    {
     "name": "stdout",
     "output_type": "stream",
     "text": [
      "Epoch 10: 56%, loss: 1.880774\n"
     ]
    },
    {
     "name": "stderr",
     "output_type": "stream",
     "text": [
      " 62%|██████▏   | 1201/1948 [50:13<32:56,  2.65s/it]"
     ]
    },
    {
     "name": "stdout",
     "output_type": "stream",
     "text": [
      "Epoch 10: 62%, loss: 2.746929\n"
     ]
    },
    {
     "name": "stderr",
     "output_type": "stream",
     "text": [
      " 67%|██████▋   | 1301/1948 [54:31<28:05,  2.60s/it]"
     ]
    },
    {
     "name": "stdout",
     "output_type": "stream",
     "text": [
      "Epoch 10: 67%, loss: 4.692913\n"
     ]
    },
    {
     "name": "stderr",
     "output_type": "stream",
     "text": [
      " 72%|███████▏  | 1401/1948 [58:52<24:44,  2.71s/it]"
     ]
    },
    {
     "name": "stdout",
     "output_type": "stream",
     "text": [
      "Epoch 10: 72%, loss: 3.535665\n"
     ]
    },
    {
     "name": "stderr",
     "output_type": "stream",
     "text": [
      " 77%|███████▋  | 1501/1948 [1:03:17<19:36,  2.63s/it]"
     ]
    },
    {
     "name": "stdout",
     "output_type": "stream",
     "text": [
      "Epoch 10: 77%, loss: 5.326248\n"
     ]
    },
    {
     "name": "stderr",
     "output_type": "stream",
     "text": [
      " 82%|████████▏ | 1601/1948 [1:07:41<14:46,  2.55s/it]"
     ]
    },
    {
     "name": "stdout",
     "output_type": "stream",
     "text": [
      "Epoch 10: 82%, loss: 2.861096\n"
     ]
    },
    {
     "name": "stderr",
     "output_type": "stream",
     "text": [
      " 87%|████████▋ | 1701/1948 [1:12:06<11:08,  2.71s/it]"
     ]
    },
    {
     "name": "stdout",
     "output_type": "stream",
     "text": [
      "Epoch 10: 87%, loss: 2.076136\n"
     ]
    },
    {
     "name": "stderr",
     "output_type": "stream",
     "text": [
      " 92%|█████████▏| 1800/1948 [1:16:28<06:35,  2.67s/it]"
     ]
    },
    {
     "name": "stdout",
     "output_type": "stream",
     "text": [
      "Epoch 10: 92%, loss: 1.958306\n"
     ]
    },
    {
     "name": "stderr",
     "output_type": "stream",
     "text": [
      " 98%|█████████▊| 1900/1948 [1:20:55<02:05,  2.62s/it]"
     ]
    },
    {
     "name": "stdout",
     "output_type": "stream",
     "text": [
      "Epoch 10: 98%, loss: 1.213365\n"
     ]
    },
    {
     "name": "stderr",
     "output_type": "stream",
     "text": [
      "100%|█████████▉| 1947/1948 [1:23:00<00:02,  2.67s/it]"
     ]
    },
    {
     "name": "stdout",
     "output_type": "stream",
     "text": [
      "Epoch 10: 100%, loss: 2.229744\n"
     ]
    },
    {
     "name": "stderr",
     "output_type": "stream",
     "text": [
      "100%|██████████| 1948/1948 [1:23:03<00:00,  2.56s/it]\n"
     ]
    },
    {
     "name": "stdout",
     "output_type": "stream",
     "text": [
      "                      (F1-score: 0.2242, Precision: 0.2263, Recall: 0.2436)\n",
      "\n",
      "                      (NDCG: 0.1801)\n",
      "\n",
      "                      (MAE: 3.9548)\n",
      "\n",
      "train_loss= tensor(3.1407)\n",
      "--------------------\n"
     ]
    },
    {
     "name": "stderr",
     "output_type": "stream",
     "text": [
      "100%|██████████| 243/243 [09:12<00:00,  2.28s/it]\n"
     ]
    },
    {
     "name": "stdout",
     "output_type": "stream",
     "text": [
      "                      (F1-score: 0.1904, Precision: 0.1897, Recall: 0.2096)\n",
      "\n",
      "                      (NDCG: 0.1537)\n",
      "\n",
      "                      (MAE: 4.0000)\n",
      "\n",
      "val_loss= tensor(3.2387)\n",
      "--------------------\n"
     ]
    },
    {
     "name": "stderr",
     "output_type": "stream",
     "text": [
      "100%|██████████| 243/243 [09:13<00:00,  2.28s/it]\n"
     ]
    },
    {
     "name": "stdout",
     "output_type": "stream",
     "text": [
      "                      (F1-score: 0.1819, Precision: 0.1823, Recall: 0.1993)\n",
      "\n",
      "                      (NDCG: 0.1490)\n",
      "\n",
      "                      (MAE: 4.0381)\n",
      "\n",
      "--------------------\n",
      "[[1, 0.15102508494598663, 0.13901183503223896, 0.13685931463818005, 0.10857080521709726, 4.33179012345679, 3.7877731323242188], [2, 0.17197909126721891, 0.1677208317567045, 0.16141612701950495, 0.12588838700573018, 4.154835390946502, 3.695448875427246], [3, 0.18403894983959188, 0.1775252902257438, 0.17209818455548395, 0.13573104499670613, 4.068930041152264, 3.560631275177002], [4, 0.19935734535422858, 0.18003952682213079, 0.18008292574950455, 0.14469110961321266, 4.167695473251029, 3.544600486755371], [5, 0.2050243005619127, 0.1780420862385157, 0.18210172856100093, 0.14937120064979978, 4.17335390946502, 3.462721586227417], [6, 0.19149365541363422, 0.19109275876505344, 0.1826502735226269, 0.14768747289649714, 4.004115226337449, 3.5485246181488037], [7, 0.2097481944994838, 0.17531216869337582, 0.18219340661188196, 0.14883438410494215, 4.304526748971194, 3.4884655475616455], [8, 0.21414556181524244, 0.16974517390788688, 0.1809597059468153, 0.14828424960942058, 4.601851851851852, 3.836853265762329], [9, 0.20529031247529914, 0.17597041469074787, 0.18106953407414228, 0.14899557413257383, 4.159979423868313, 3.4441349506378174], [10, 0.19928322330736079, 0.18231567833272536, 0.1818999364293109, 0.14904488848786754, 4.038065843621399, 3.4084980487823486]]\n",
      "-----------------------------------------------------------------------------------------\n"
     ]
    },
    {
     "name": "stderr",
     "output_type": "stream",
     "text": [
      "  0%|          | 1/1948 [00:02<1:24:19,  2.60s/it]"
     ]
    },
    {
     "name": "stdout",
     "output_type": "stream",
     "text": [
      "Epoch 11: 0%, loss: 3.429031\n"
     ]
    },
    {
     "name": "stderr",
     "output_type": "stream",
     "text": [
      "  5%|▌         | 101/1948 [04:06<1:14:01,  2.40s/it]"
     ]
    },
    {
     "name": "stdout",
     "output_type": "stream",
     "text": [
      "Epoch 11: 5%, loss: 1.460804\n"
     ]
    },
    {
     "name": "stderr",
     "output_type": "stream",
     "text": [
      " 10%|█         | 201/1948 [08:11<1:10:20,  2.42s/it]"
     ]
    },
    {
     "name": "stdout",
     "output_type": "stream",
     "text": [
      "Epoch 11: 10%, loss: 3.036924\n"
     ]
    },
    {
     "name": "stderr",
     "output_type": "stream",
     "text": [
      " 15%|█▌        | 301/1948 [12:21<1:11:03,  2.59s/it]"
     ]
    },
    {
     "name": "stdout",
     "output_type": "stream",
     "text": [
      "Epoch 11: 15%, loss: 1.492539\n"
     ]
    },
    {
     "name": "stderr",
     "output_type": "stream",
     "text": [
      " 21%|██        | 401/1948 [16:29<1:04:45,  2.51s/it]"
     ]
    },
    {
     "name": "stdout",
     "output_type": "stream",
     "text": [
      "Epoch 11: 21%, loss: 2.447059\n"
     ]
    },
    {
     "name": "stderr",
     "output_type": "stream",
     "text": [
      " 26%|██▌       | 501/1948 [20:38<59:45,  2.48s/it]  "
     ]
    },
    {
     "name": "stdout",
     "output_type": "stream",
     "text": [
      "Epoch 11: 26%, loss: 2.875626\n"
     ]
    },
    {
     "name": "stderr",
     "output_type": "stream",
     "text": [
      " 31%|███       | 601/1948 [24:49<56:58,  2.54s/it]  "
     ]
    },
    {
     "name": "stdout",
     "output_type": "stream",
     "text": [
      "Epoch 11: 31%, loss: 2.395772\n"
     ]
    },
    {
     "name": "stderr",
     "output_type": "stream",
     "text": [
      " 36%|███▌      | 701/1948 [29:00<53:05,  2.55s/it]"
     ]
    },
    {
     "name": "stdout",
     "output_type": "stream",
     "text": [
      "Epoch 11: 36%, loss: 7.391390\n"
     ]
    },
    {
     "name": "stderr",
     "output_type": "stream",
     "text": [
      " 41%|████      | 801/1948 [33:14<48:23,  2.53s/it]"
     ]
    },
    {
     "name": "stdout",
     "output_type": "stream",
     "text": [
      "Epoch 11: 41%, loss: 2.527884\n"
     ]
    },
    {
     "name": "stderr",
     "output_type": "stream",
     "text": [
      " 46%|████▋     | 901/1948 [37:32<45:04,  2.58s/it]"
     ]
    },
    {
     "name": "stdout",
     "output_type": "stream",
     "text": [
      "Epoch 11: 46%, loss: 1.163280\n"
     ]
    },
    {
     "name": "stderr",
     "output_type": "stream",
     "text": [
      " 51%|█████▏    | 1001/1948 [41:46<41:18,  2.62s/it]"
     ]
    },
    {
     "name": "stdout",
     "output_type": "stream",
     "text": [
      "Epoch 11: 51%, loss: 4.242967\n"
     ]
    },
    {
     "name": "stderr",
     "output_type": "stream",
     "text": [
      " 57%|█████▋    | 1101/1948 [46:02<36:36,  2.59s/it]"
     ]
    },
    {
     "name": "stdout",
     "output_type": "stream",
     "text": [
      "Epoch 11: 56%, loss: 2.552599\n"
     ]
    },
    {
     "name": "stderr",
     "output_type": "stream",
     "text": [
      " 62%|██████▏   | 1201/1948 [50:18<31:09,  2.50s/it]"
     ]
    },
    {
     "name": "stdout",
     "output_type": "stream",
     "text": [
      "Epoch 11: 62%, loss: 3.618219\n"
     ]
    },
    {
     "name": "stderr",
     "output_type": "stream",
     "text": [
      " 67%|██████▋   | 1301/1948 [54:35<26:30,  2.46s/it]"
     ]
    },
    {
     "name": "stdout",
     "output_type": "stream",
     "text": [
      "Epoch 11: 67%, loss: 2.355678\n"
     ]
    },
    {
     "name": "stderr",
     "output_type": "stream",
     "text": [
      " 72%|███████▏  | 1401/1948 [58:56<23:32,  2.58s/it]"
     ]
    },
    {
     "name": "stdout",
     "output_type": "stream",
     "text": [
      "Epoch 11: 72%, loss: 2.421462\n"
     ]
    },
    {
     "name": "stderr",
     "output_type": "stream",
     "text": [
      " 77%|███████▋  | 1501/1948 [1:03:18<19:56,  2.68s/it]"
     ]
    },
    {
     "name": "stdout",
     "output_type": "stream",
     "text": [
      "Epoch 11: 77%, loss: 1.944015\n"
     ]
    },
    {
     "name": "stderr",
     "output_type": "stream",
     "text": [
      " 82%|████████▏ | 1601/1948 [1:07:42<15:10,  2.62s/it]"
     ]
    },
    {
     "name": "stdout",
     "output_type": "stream",
     "text": [
      "Epoch 11: 82%, loss: 4.347186\n"
     ]
    },
    {
     "name": "stderr",
     "output_type": "stream",
     "text": [
      " 87%|████████▋ | 1701/1948 [1:12:08<11:01,  2.68s/it]"
     ]
    },
    {
     "name": "stdout",
     "output_type": "stream",
     "text": [
      "Epoch 11: 87%, loss: 9.485156\n"
     ]
    },
    {
     "name": "stderr",
     "output_type": "stream",
     "text": [
      " 92%|█████████▏| 1801/1948 [1:16:31<06:24,  2.62s/it]"
     ]
    },
    {
     "name": "stdout",
     "output_type": "stream",
     "text": [
      "Epoch 11: 92%, loss: 3.026978\n"
     ]
    },
    {
     "name": "stderr",
     "output_type": "stream",
     "text": [
      " 98%|█████████▊| 1900/1948 [1:20:57<02:13,  2.78s/it]"
     ]
    },
    {
     "name": "stdout",
     "output_type": "stream",
     "text": [
      "Epoch 11: 98%, loss: 2.060268\n"
     ]
    },
    {
     "name": "stderr",
     "output_type": "stream",
     "text": [
      "100%|█████████▉| 1947/1948 [1:23:01<00:02,  2.70s/it]"
     ]
    },
    {
     "name": "stdout",
     "output_type": "stream",
     "text": [
      "Epoch 11: 100%, loss: 0.931031\n"
     ]
    },
    {
     "name": "stderr",
     "output_type": "stream",
     "text": [
      "100%|██████████| 1948/1948 [1:23:04<00:00,  2.56s/it]\n"
     ]
    },
    {
     "name": "stdout",
     "output_type": "stream",
     "text": [
      "                      (F1-score: 0.2231, Precision: 0.2253, Recall: 0.2423)\n",
      "\n",
      "                      (NDCG: 0.1795)\n",
      "\n",
      "                      (MAE: 3.9405)\n",
      "\n",
      "train_loss= tensor(3.1313)\n",
      "--------------------\n"
     ]
    },
    {
     "name": "stderr",
     "output_type": "stream",
     "text": [
      "100%|██████████| 243/243 [09:12<00:00,  2.27s/it]\n"
     ]
    },
    {
     "name": "stdout",
     "output_type": "stream",
     "text": [
      "                      (F1-score: 0.1871, Precision: 0.1944, Recall: 0.1977)\n",
      "\n",
      "                      (NDCG: 0.1492)\n",
      "\n",
      "                      (MAE: 3.9748)\n",
      "\n",
      "val_loss= tensor(3.3546)\n",
      "--------------------\n"
     ]
    },
    {
     "name": "stderr",
     "output_type": "stream",
     "text": [
      "100%|██████████| 243/243 [09:13<00:00,  2.28s/it]\n"
     ]
    },
    {
     "name": "stdout",
     "output_type": "stream",
     "text": [
      "                      (F1-score: 0.1795, Precision: 0.1876, Recall: 0.1883)\n",
      "\n",
      "                      (NDCG: 0.1456)\n",
      "\n",
      "                      (MAE: 3.9825)\n",
      "\n",
      "--------------------\n",
      "[[1, 0.15102508494598663, 0.13901183503223896, 0.13685931463818005, 0.10857080521709726, 4.33179012345679, 3.7877731323242188], [2, 0.17197909126721891, 0.1677208317567045, 0.16141612701950495, 0.12588838700573018, 4.154835390946502, 3.695448875427246], [3, 0.18403894983959188, 0.1775252902257438, 0.17209818455548395, 0.13573104499670613, 4.068930041152264, 3.560631275177002], [4, 0.19935734535422858, 0.18003952682213079, 0.18008292574950455, 0.14469110961321266, 4.167695473251029, 3.544600486755371], [5, 0.2050243005619127, 0.1780420862385157, 0.18210172856100093, 0.14937120064979978, 4.17335390946502, 3.462721586227417], [6, 0.19149365541363422, 0.19109275876505344, 0.1826502735226269, 0.14768747289649714, 4.004115226337449, 3.5485246181488037], [7, 0.2097481944994838, 0.17531216869337582, 0.18219340661188196, 0.14883438410494215, 4.304526748971194, 3.4884655475616455], [8, 0.21414556181524244, 0.16974517390788688, 0.1809597059468153, 0.14828424960942058, 4.601851851851852, 3.836853265762329], [9, 0.20529031247529914, 0.17597041469074787, 0.18106953407414228, 0.14899557413257383, 4.159979423868313, 3.4441349506378174], [10, 0.19928322330736079, 0.18231567833272536, 0.1818999364293109, 0.14904488848786754, 4.038065843621399, 3.4084980487823486], [11, 0.18825337100158362, 0.18762868563365379, 0.17947363363626304, 0.14564942034658948, 3.9825102880658436, 3.5426061153411865]]\n",
      "-----------------------------------------------------------------------------------------\n"
     ]
    },
    {
     "name": "stderr",
     "output_type": "stream",
     "text": [
      "  0%|          | 1/1948 [00:02<1:14:34,  2.30s/it]"
     ]
    },
    {
     "name": "stdout",
     "output_type": "stream",
     "text": [
      "Epoch 12: 0%, loss: 1.557619\n"
     ]
    },
    {
     "name": "stderr",
     "output_type": "stream",
     "text": [
      "  5%|▌         | 101/1948 [04:06<1:16:23,  2.48s/it]"
     ]
    },
    {
     "name": "stdout",
     "output_type": "stream",
     "text": [
      "Epoch 12: 5%, loss: 4.496577\n"
     ]
    },
    {
     "name": "stderr",
     "output_type": "stream",
     "text": [
      " 10%|█         | 201/1948 [08:12<1:09:48,  2.40s/it]"
     ]
    },
    {
     "name": "stdout",
     "output_type": "stream",
     "text": [
      "Epoch 12: 10%, loss: 2.469630\n"
     ]
    },
    {
     "name": "stderr",
     "output_type": "stream",
     "text": [
      " 15%|█▌        | 301/1948 [12:18<1:08:02,  2.48s/it]"
     ]
    },
    {
     "name": "stdout",
     "output_type": "stream",
     "text": [
      "Epoch 12: 15%, loss: 1.847100\n"
     ]
    },
    {
     "name": "stderr",
     "output_type": "stream",
     "text": [
      " 21%|██        | 401/1948 [16:26<1:01:55,  2.40s/it]"
     ]
    },
    {
     "name": "stdout",
     "output_type": "stream",
     "text": [
      "Epoch 12: 21%, loss: 1.918596\n"
     ]
    },
    {
     "name": "stderr",
     "output_type": "stream",
     "text": [
      " 26%|██▌       | 501/1948 [20:36<58:18,  2.42s/it]  "
     ]
    },
    {
     "name": "stdout",
     "output_type": "stream",
     "text": [
      "Epoch 12: 26%, loss: 4.868956\n"
     ]
    },
    {
     "name": "stderr",
     "output_type": "stream",
     "text": [
      " 31%|███       | 601/1948 [24:47<55:15,  2.46s/it]  "
     ]
    },
    {
     "name": "stdout",
     "output_type": "stream",
     "text": [
      "Epoch 12: 31%, loss: 2.418098\n"
     ]
    },
    {
     "name": "stderr",
     "output_type": "stream",
     "text": [
      " 36%|███▌      | 701/1948 [28:59<53:53,  2.59s/it]"
     ]
    },
    {
     "name": "stdout",
     "output_type": "stream",
     "text": [
      "Epoch 12: 36%, loss: 2.273277\n"
     ]
    },
    {
     "name": "stderr",
     "output_type": "stream",
     "text": [
      " 41%|████      | 801/1948 [33:11<47:33,  2.49s/it]"
     ]
    },
    {
     "name": "stdout",
     "output_type": "stream",
     "text": [
      "Epoch 12: 41%, loss: 2.944837\n"
     ]
    },
    {
     "name": "stderr",
     "output_type": "stream",
     "text": [
      " 46%|████▋     | 901/1948 [37:27<42:50,  2.46s/it]"
     ]
    },
    {
     "name": "stdout",
     "output_type": "stream",
     "text": [
      "Epoch 12: 46%, loss: 4.611854\n"
     ]
    },
    {
     "name": "stderr",
     "output_type": "stream",
     "text": [
      " 51%|█████▏    | 1001/1948 [41:44<42:00,  2.66s/it]"
     ]
    },
    {
     "name": "stdout",
     "output_type": "stream",
     "text": [
      "Epoch 12: 51%, loss: 4.003748\n"
     ]
    },
    {
     "name": "stderr",
     "output_type": "stream",
     "text": [
      " 57%|█████▋    | 1101/1948 [46:00<37:53,  2.68s/it]"
     ]
    },
    {
     "name": "stdout",
     "output_type": "stream",
     "text": [
      "Epoch 12: 56%, loss: 1.694221\n"
     ]
    },
    {
     "name": "stderr",
     "output_type": "stream",
     "text": [
      " 62%|██████▏   | 1201/1948 [50:17<32:00,  2.57s/it]"
     ]
    },
    {
     "name": "stdout",
     "output_type": "stream",
     "text": [
      "Epoch 12: 62%, loss: 1.339097\n"
     ]
    },
    {
     "name": "stderr",
     "output_type": "stream",
     "text": [
      " 67%|██████▋   | 1301/1948 [54:37<27:32,  2.55s/it]"
     ]
    },
    {
     "name": "stdout",
     "output_type": "stream",
     "text": [
      "Epoch 12: 67%, loss: 4.354144\n"
     ]
    },
    {
     "name": "stderr",
     "output_type": "stream",
     "text": [
      " 72%|███████▏  | 1401/1948 [58:57<23:40,  2.60s/it]"
     ]
    },
    {
     "name": "stdout",
     "output_type": "stream",
     "text": [
      "Epoch 12: 72%, loss: 2.873043\n"
     ]
    },
    {
     "name": "stderr",
     "output_type": "stream",
     "text": [
      " 77%|███████▋  | 1501/1948 [1:03:16<19:13,  2.58s/it]"
     ]
    },
    {
     "name": "stdout",
     "output_type": "stream",
     "text": [
      "Epoch 12: 77%, loss: 3.210907\n"
     ]
    },
    {
     "name": "stderr",
     "output_type": "stream",
     "text": [
      " 82%|████████▏ | 1601/1948 [1:07:36<14:29,  2.51s/it]"
     ]
    },
    {
     "name": "stdout",
     "output_type": "stream",
     "text": [
      "Epoch 12: 82%, loss: 1.972978\n"
     ]
    },
    {
     "name": "stderr",
     "output_type": "stream",
     "text": [
      " 87%|████████▋ | 1701/1948 [1:11:59<10:57,  2.66s/it]"
     ]
    },
    {
     "name": "stdout",
     "output_type": "stream",
     "text": [
      "Epoch 12: 87%, loss: 2.121511\n"
     ]
    },
    {
     "name": "stderr",
     "output_type": "stream",
     "text": [
      " 92%|█████████▏| 1800/1948 [1:16:23<06:17,  2.55s/it]"
     ]
    },
    {
     "name": "stdout",
     "output_type": "stream",
     "text": [
      "Epoch 12: 92%, loss: 1.988332\n"
     ]
    },
    {
     "name": "stderr",
     "output_type": "stream",
     "text": [
      " 98%|█████████▊| 1900/1948 [1:20:46<02:02,  2.55s/it]"
     ]
    },
    {
     "name": "stdout",
     "output_type": "stream",
     "text": [
      "Epoch 12: 98%, loss: 3.413747\n"
     ]
    },
    {
     "name": "stderr",
     "output_type": "stream",
     "text": [
      "100%|█████████▉| 1947/1948 [1:22:52<00:02,  2.73s/it]"
     ]
    },
    {
     "name": "stdout",
     "output_type": "stream",
     "text": [
      "Epoch 12: 100%, loss: 6.409215\n"
     ]
    },
    {
     "name": "stderr",
     "output_type": "stream",
     "text": [
      "100%|██████████| 1948/1948 [1:22:55<00:00,  2.55s/it]\n"
     ]
    },
    {
     "name": "stdout",
     "output_type": "stream",
     "text": [
      "                      (F1-score: 0.2229, Precision: 0.2249, Recall: 0.2421)\n",
      "\n",
      "                      (NDCG: 0.1792)\n",
      "\n",
      "                      (MAE: 3.9342)\n",
      "\n",
      "train_loss= tensor(3.1200)\n",
      "--------------------\n"
     ]
    },
    {
     "name": "stderr",
     "output_type": "stream",
     "text": [
      "100%|██████████| 243/243 [09:12<00:00,  2.27s/it]\n"
     ]
    },
    {
     "name": "stdout",
     "output_type": "stream",
     "text": [
      "                      (F1-score: 0.1895, Precision: 0.1878, Recall: 0.2105)\n",
      "\n",
      "                      (NDCG: 0.1524)\n",
      "\n",
      "                      (MAE: 4.0458)\n",
      "\n",
      "val_loss= tensor(3.2594)\n",
      "--------------------\n"
     ]
    },
    {
     "name": "stderr",
     "output_type": "stream",
     "text": [
      "100%|██████████| 243/243 [09:13<00:00,  2.28s/it]\n"
     ]
    },
    {
     "name": "stdout",
     "output_type": "stream",
     "text": [
      "                      (F1-score: 0.1791, Precision: 0.1787, Recall: 0.1977)\n",
      "\n",
      "                      (NDCG: 0.1467)\n",
      "\n",
      "                      (MAE: 4.0844)\n",
      "\n",
      "--------------------\n",
      "[[1, 0.15102508494598663, 0.13901183503223896, 0.13685931463818005, 0.10857080521709726, 4.33179012345679, 3.7877731323242188], [2, 0.17197909126721891, 0.1677208317567045, 0.16141612701950495, 0.12588838700573018, 4.154835390946502, 3.695448875427246], [3, 0.18403894983959188, 0.1775252902257438, 0.17209818455548395, 0.13573104499670613, 4.068930041152264, 3.560631275177002], [4, 0.19935734535422858, 0.18003952682213079, 0.18008292574950455, 0.14469110961321266, 4.167695473251029, 3.544600486755371], [5, 0.2050243005619127, 0.1780420862385157, 0.18210172856100093, 0.14937120064979978, 4.17335390946502, 3.462721586227417], [6, 0.19149365541363422, 0.19109275876505344, 0.1826502735226269, 0.14768747289649714, 4.004115226337449, 3.5485246181488037], [7, 0.2097481944994838, 0.17531216869337582, 0.18219340661188196, 0.14883438410494215, 4.304526748971194, 3.4884655475616455], [8, 0.21414556181524244, 0.16974517390788688, 0.1809597059468153, 0.14828424960942058, 4.601851851851852, 3.836853265762329], [9, 0.20529031247529914, 0.17597041469074787, 0.18106953407414228, 0.14899557413257383, 4.159979423868313, 3.4441349506378174], [10, 0.19928322330736079, 0.18231567833272536, 0.1818999364293109, 0.14904488848786754, 4.038065843621399, 3.4084980487823486], [11, 0.18825337100158362, 0.18762868563365379, 0.17947363363626304, 0.14564942034658948, 3.9825102880658436, 3.5426061153411865], [12, 0.19770797519904132, 0.1786841306691568, 0.17908680622124892, 0.14666388782676418, 4.084362139917696, 3.4294281005859375]]\n",
      "-----------------------------------------------------------------------------------------\n"
     ]
    },
    {
     "name": "stderr",
     "output_type": "stream",
     "text": [
      "  0%|          | 1/1948 [00:02<1:17:34,  2.39s/it]"
     ]
    },
    {
     "name": "stdout",
     "output_type": "stream",
     "text": [
      "Epoch 13: 0%, loss: 6.119451\n"
     ]
    },
    {
     "name": "stderr",
     "output_type": "stream",
     "text": [
      "  5%|▌         | 101/1948 [04:05<1:15:42,  2.46s/it]"
     ]
    },
    {
     "name": "stdout",
     "output_type": "stream",
     "text": [
      "Epoch 13: 5%, loss: 1.775881\n"
     ]
    },
    {
     "name": "stderr",
     "output_type": "stream",
     "text": [
      " 10%|█         | 201/1948 [08:15<1:13:50,  2.54s/it]"
     ]
    },
    {
     "name": "stdout",
     "output_type": "stream",
     "text": [
      "Epoch 13: 10%, loss: 1.581454\n"
     ]
    },
    {
     "name": "stderr",
     "output_type": "stream",
     "text": [
      " 15%|█▌        | 301/1948 [12:20<1:11:35,  2.61s/it]"
     ]
    },
    {
     "name": "stdout",
     "output_type": "stream",
     "text": [
      "Epoch 13: 15%, loss: 3.296978\n"
     ]
    },
    {
     "name": "stderr",
     "output_type": "stream",
     "text": [
      " 21%|██        | 401/1948 [16:31<1:03:43,  2.47s/it]"
     ]
    },
    {
     "name": "stdout",
     "output_type": "stream",
     "text": [
      "Epoch 13: 21%, loss: 2.751649\n"
     ]
    },
    {
     "name": "stderr",
     "output_type": "stream",
     "text": [
      " 26%|██▌       | 501/1948 [20:40<58:09,  2.41s/it]  "
     ]
    },
    {
     "name": "stdout",
     "output_type": "stream",
     "text": [
      "Epoch 13: 26%, loss: 6.638875\n"
     ]
    },
    {
     "name": "stderr",
     "output_type": "stream",
     "text": [
      " 31%|███       | 601/1948 [24:52<1:01:11,  2.73s/it]"
     ]
    },
    {
     "name": "stdout",
     "output_type": "stream",
     "text": [
      "Epoch 13: 31%, loss: 12.753168\n"
     ]
    },
    {
     "name": "stderr",
     "output_type": "stream",
     "text": [
      " 36%|███▌      | 701/1948 [29:03<50:26,  2.43s/it]  "
     ]
    },
    {
     "name": "stdout",
     "output_type": "stream",
     "text": [
      "Epoch 13: 36%, loss: 2.893893\n"
     ]
    },
    {
     "name": "stderr",
     "output_type": "stream",
     "text": [
      " 41%|████      | 801/1948 [33:14<47:49,  2.50s/it]"
     ]
    },
    {
     "name": "stdout",
     "output_type": "stream",
     "text": [
      "Epoch 13: 41%, loss: 2.605746\n"
     ]
    },
    {
     "name": "stderr",
     "output_type": "stream",
     "text": [
      " 46%|████▋     | 901/1948 [37:30<44:45,  2.56s/it]"
     ]
    },
    {
     "name": "stdout",
     "output_type": "stream",
     "text": [
      "Epoch 13: 46%, loss: 1.264093\n"
     ]
    },
    {
     "name": "stderr",
     "output_type": "stream",
     "text": [
      " 51%|█████▏    | 1001/1948 [41:45<39:38,  2.51s/it]"
     ]
    },
    {
     "name": "stdout",
     "output_type": "stream",
     "text": [
      "Epoch 13: 51%, loss: 7.791699\n"
     ]
    },
    {
     "name": "stderr",
     "output_type": "stream",
     "text": [
      " 57%|█████▋    | 1101/1948 [46:05<35:18,  2.50s/it]"
     ]
    },
    {
     "name": "stdout",
     "output_type": "stream",
     "text": [
      "Epoch 13: 56%, loss: 6.740070\n"
     ]
    },
    {
     "name": "stderr",
     "output_type": "stream",
     "text": [
      " 62%|██████▏   | 1201/1948 [50:24<32:36,  2.62s/it]"
     ]
    },
    {
     "name": "stdout",
     "output_type": "stream",
     "text": [
      "Epoch 13: 62%, loss: 3.926587\n"
     ]
    },
    {
     "name": "stderr",
     "output_type": "stream",
     "text": [
      " 67%|██████▋   | 1301/1948 [54:40<27:46,  2.58s/it]"
     ]
    },
    {
     "name": "stdout",
     "output_type": "stream",
     "text": [
      "Epoch 13: 67%, loss: 4.032278\n"
     ]
    },
    {
     "name": "stderr",
     "output_type": "stream",
     "text": [
      " 72%|███████▏  | 1401/1948 [58:59<23:00,  2.52s/it]"
     ]
    },
    {
     "name": "stdout",
     "output_type": "stream",
     "text": [
      "Epoch 13: 72%, loss: 2.583336\n"
     ]
    },
    {
     "name": "stderr",
     "output_type": "stream",
     "text": [
      " 77%|███████▋  | 1501/1948 [1:03:18<18:54,  2.54s/it]"
     ]
    },
    {
     "name": "stdout",
     "output_type": "stream",
     "text": [
      "Epoch 13: 77%, loss: 2.550118\n"
     ]
    },
    {
     "name": "stderr",
     "output_type": "stream",
     "text": [
      " 82%|████████▏ | 1601/1948 [1:07:42<14:50,  2.56s/it]"
     ]
    },
    {
     "name": "stdout",
     "output_type": "stream",
     "text": [
      "Epoch 13: 82%, loss: 2.335430\n"
     ]
    },
    {
     "name": "stderr",
     "output_type": "stream",
     "text": [
      " 87%|████████▋ | 1701/1948 [1:12:04<10:37,  2.58s/it]"
     ]
    },
    {
     "name": "stdout",
     "output_type": "stream",
     "text": [
      "Epoch 13: 87%, loss: 4.851494\n"
     ]
    },
    {
     "name": "stderr",
     "output_type": "stream",
     "text": [
      " 92%|█████████▏| 1801/1948 [1:16:31<06:36,  2.70s/it]"
     ]
    },
    {
     "name": "stdout",
     "output_type": "stream",
     "text": [
      "Epoch 13: 92%, loss: 3.690365\n"
     ]
    },
    {
     "name": "stderr",
     "output_type": "stream",
     "text": [
      " 98%|█████████▊| 1900/1948 [1:20:54<02:03,  2.57s/it]"
     ]
    },
    {
     "name": "stdout",
     "output_type": "stream",
     "text": [
      "Epoch 13: 98%, loss: 1.079484\n"
     ]
    },
    {
     "name": "stderr",
     "output_type": "stream",
     "text": [
      "100%|█████████▉| 1947/1948 [1:23:00<00:02,  2.65s/it]"
     ]
    },
    {
     "name": "stdout",
     "output_type": "stream",
     "text": [
      "Epoch 13: 100%, loss: 1.397730\n"
     ]
    },
    {
     "name": "stderr",
     "output_type": "stream",
     "text": [
      "100%|██████████| 1948/1948 [1:23:02<00:00,  2.56s/it]\n"
     ]
    },
    {
     "name": "stdout",
     "output_type": "stream",
     "text": [
      "                      (F1-score: 0.2227, Precision: 0.2247, Recall: 0.2420)\n",
      "\n",
      "                      (NDCG: 0.1793)\n",
      "\n",
      "                      (MAE: 3.9228)\n",
      "\n",
      "train_loss= tensor(3.1140)\n",
      "--------------------\n"
     ]
    },
    {
     "name": "stderr",
     "output_type": "stream",
     "text": [
      "100%|██████████| 243/243 [09:11<00:00,  2.27s/it]\n"
     ]
    },
    {
     "name": "stdout",
     "output_type": "stream",
     "text": [
      "                      (F1-score: 0.1895, Precision: 0.1897, Recall: 0.2082)\n",
      "\n",
      "                      (NDCG: 0.1523)\n",
      "\n",
      "                      (MAE: 4.0499)\n",
      "\n",
      "val_loss= tensor(3.2662)\n",
      "--------------------\n"
     ]
    },
    {
     "name": "stderr",
     "output_type": "stream",
     "text": [
      "100%|██████████| 243/243 [09:13<00:00,  2.28s/it]\n"
     ]
    },
    {
     "name": "stdout",
     "output_type": "stream",
     "text": [
      "                      (F1-score: 0.1810, Precision: 0.1822, Recall: 0.1978)\n",
      "\n",
      "                      (NDCG: 0.1483)\n",
      "\n",
      "                      (MAE: 4.0525)\n",
      "\n",
      "--------------------\n",
      "[[1, 0.15102508494598663, 0.13901183503223896, 0.13685931463818005, 0.10857080521709726, 4.33179012345679, 3.7877731323242188], [2, 0.17197909126721891, 0.1677208317567045, 0.16141612701950495, 0.12588838700573018, 4.154835390946502, 3.695448875427246], [3, 0.18403894983959188, 0.1775252902257438, 0.17209818455548395, 0.13573104499670613, 4.068930041152264, 3.560631275177002], [4, 0.19935734535422858, 0.18003952682213079, 0.18008292574950455, 0.14469110961321266, 4.167695473251029, 3.544600486755371], [5, 0.2050243005619127, 0.1780420862385157, 0.18210172856100093, 0.14937120064979978, 4.17335390946502, 3.462721586227417], [6, 0.19149365541363422, 0.19109275876505344, 0.1826502735226269, 0.14768747289649714, 4.004115226337449, 3.5485246181488037], [7, 0.2097481944994838, 0.17531216869337582, 0.18219340661188196, 0.14883438410494215, 4.304526748971194, 3.4884655475616455], [8, 0.21414556181524244, 0.16974517390788688, 0.1809597059468153, 0.14828424960942058, 4.601851851851852, 3.836853265762329], [9, 0.20529031247529914, 0.17597041469074787, 0.18106953407414228, 0.14899557413257383, 4.159979423868313, 3.4441349506378174], [10, 0.19928322330736079, 0.18231567833272536, 0.1818999364293109, 0.14904488848786754, 4.038065843621399, 3.4084980487823486], [11, 0.18825337100158362, 0.18762868563365379, 0.17947363363626304, 0.14564942034658948, 3.9825102880658436, 3.5426061153411865], [12, 0.19770797519904132, 0.1786841306691568, 0.17908680622124892, 0.14666388782676418, 4.084362139917696, 3.4294281005859375], [13, 0.1977677221377213, 0.18215481762120164, 0.18098170099094998, 0.14828184976936185, 4.052469135802469, 3.4228475093841553]]\n",
      "-----------------------------------------------------------------------------------------\n"
     ]
    },
    {
     "name": "stderr",
     "output_type": "stream",
     "text": [
      "  0%|          | 1/1948 [00:03<1:47:47,  3.32s/it]"
     ]
    },
    {
     "name": "stdout",
     "output_type": "stream",
     "text": [
      "Epoch 14: 0%, loss: 3.506054\n"
     ]
    },
    {
     "name": "stderr",
     "output_type": "stream",
     "text": [
      "  5%|▌         | 101/1948 [04:06<1:14:16,  2.41s/it]"
     ]
    },
    {
     "name": "stdout",
     "output_type": "stream",
     "text": [
      "Epoch 14: 5%, loss: 2.328074\n"
     ]
    },
    {
     "name": "stderr",
     "output_type": "stream",
     "text": [
      " 10%|█         | 201/1948 [08:10<1:11:01,  2.44s/it]"
     ]
    },
    {
     "name": "stdout",
     "output_type": "stream",
     "text": [
      "Epoch 14: 10%, loss: 1.336069\n"
     ]
    },
    {
     "name": "stderr",
     "output_type": "stream",
     "text": [
      " 15%|█▌        | 301/1948 [12:18<1:07:24,  2.46s/it]"
     ]
    },
    {
     "name": "stdout",
     "output_type": "stream",
     "text": [
      "Epoch 14: 15%, loss: 1.739568\n"
     ]
    },
    {
     "name": "stderr",
     "output_type": "stream",
     "text": [
      " 21%|██        | 401/1948 [16:26<1:04:35,  2.51s/it]"
     ]
    },
    {
     "name": "stdout",
     "output_type": "stream",
     "text": [
      "Epoch 14: 21%, loss: 3.238401\n"
     ]
    },
    {
     "name": "stderr",
     "output_type": "stream",
     "text": [
      " 26%|██▌       | 501/1948 [20:36<1:01:48,  2.56s/it]"
     ]
    },
    {
     "name": "stdout",
     "output_type": "stream",
     "text": [
      "Epoch 14: 26%, loss: 3.945441\n"
     ]
    },
    {
     "name": "stderr",
     "output_type": "stream",
     "text": [
      " 31%|███       | 601/1948 [24:48<54:24,  2.42s/it]  "
     ]
    },
    {
     "name": "stdout",
     "output_type": "stream",
     "text": [
      "Epoch 14: 31%, loss: 3.502251\n"
     ]
    },
    {
     "name": "stderr",
     "output_type": "stream",
     "text": [
      " 36%|███▌      | 701/1948 [28:59<50:19,  2.42s/it]"
     ]
    },
    {
     "name": "stdout",
     "output_type": "stream",
     "text": [
      "Epoch 14: 36%, loss: 2.852398\n"
     ]
    },
    {
     "name": "stderr",
     "output_type": "stream",
     "text": [
      " 41%|████      | 801/1948 [33:14<47:24,  2.48s/it]"
     ]
    },
    {
     "name": "stdout",
     "output_type": "stream",
     "text": [
      "Epoch 14: 41%, loss: 2.389620\n"
     ]
    },
    {
     "name": "stderr",
     "output_type": "stream",
     "text": [
      " 46%|████▋     | 901/1948 [37:26<43:55,  2.52s/it]"
     ]
    },
    {
     "name": "stdout",
     "output_type": "stream",
     "text": [
      "Epoch 14: 46%, loss: 3.827045\n"
     ]
    },
    {
     "name": "stderr",
     "output_type": "stream",
     "text": [
      " 51%|█████▏    | 1001/1948 [41:40<39:17,  2.49s/it]"
     ]
    },
    {
     "name": "stdout",
     "output_type": "stream",
     "text": [
      "Epoch 14: 51%, loss: 2.371819\n"
     ]
    },
    {
     "name": "stderr",
     "output_type": "stream",
     "text": [
      " 57%|█████▋    | 1101/1948 [45:58<36:47,  2.61s/it]"
     ]
    },
    {
     "name": "stdout",
     "output_type": "stream",
     "text": [
      "Epoch 14: 56%, loss: 1.381276\n"
     ]
    },
    {
     "name": "stderr",
     "output_type": "stream",
     "text": [
      " 62%|██████▏   | 1201/1948 [50:15<33:02,  2.65s/it]"
     ]
    },
    {
     "name": "stdout",
     "output_type": "stream",
     "text": [
      "Epoch 14: 62%, loss: 2.521493\n"
     ]
    },
    {
     "name": "stderr",
     "output_type": "stream",
     "text": [
      " 67%|██████▋   | 1301/1948 [54:35<28:54,  2.68s/it]"
     ]
    },
    {
     "name": "stdout",
     "output_type": "stream",
     "text": [
      "Epoch 14: 67%, loss: 1.611849\n"
     ]
    },
    {
     "name": "stderr",
     "output_type": "stream",
     "text": [
      " 72%|███████▏  | 1401/1948 [58:53<23:48,  2.61s/it]"
     ]
    },
    {
     "name": "stdout",
     "output_type": "stream",
     "text": [
      "Epoch 14: 72%, loss: 4.288107\n"
     ]
    },
    {
     "name": "stderr",
     "output_type": "stream",
     "text": [
      " 77%|███████▋  | 1501/1948 [1:03:14<18:42,  2.51s/it]"
     ]
    },
    {
     "name": "stdout",
     "output_type": "stream",
     "text": [
      "Epoch 14: 77%, loss: 2.176888\n"
     ]
    },
    {
     "name": "stderr",
     "output_type": "stream",
     "text": [
      " 82%|████████▏ | 1601/1948 [1:07:38<15:31,  2.68s/it]"
     ]
    },
    {
     "name": "stdout",
     "output_type": "stream",
     "text": [
      "Epoch 14: 82%, loss: 1.744091\n"
     ]
    },
    {
     "name": "stderr",
     "output_type": "stream",
     "text": [
      " 87%|████████▋ | 1701/1948 [1:12:02<11:00,  2.68s/it]"
     ]
    },
    {
     "name": "stdout",
     "output_type": "stream",
     "text": [
      "Epoch 14: 87%, loss: 3.253563\n"
     ]
    },
    {
     "name": "stderr",
     "output_type": "stream",
     "text": [
      " 92%|█████████▏| 1800/1948 [1:16:22<06:21,  2.57s/it]"
     ]
    },
    {
     "name": "stdout",
     "output_type": "stream",
     "text": [
      "Epoch 14: 92%, loss: 1.169854\n"
     ]
    },
    {
     "name": "stderr",
     "output_type": "stream",
     "text": [
      " 98%|█████████▊| 1900/1948 [1:20:49<02:11,  2.74s/it]"
     ]
    },
    {
     "name": "stdout",
     "output_type": "stream",
     "text": [
      "Epoch 14: 98%, loss: 3.445868\n"
     ]
    },
    {
     "name": "stderr",
     "output_type": "stream",
     "text": [
      "100%|█████████▉| 1947/1948 [1:22:54<00:02,  2.66s/it]"
     ]
    },
    {
     "name": "stdout",
     "output_type": "stream",
     "text": [
      "Epoch 14: 100%, loss: 1.922527\n"
     ]
    },
    {
     "name": "stderr",
     "output_type": "stream",
     "text": [
      "100%|██████████| 1948/1948 [1:22:57<00:00,  2.56s/it]\n"
     ]
    },
    {
     "name": "stdout",
     "output_type": "stream",
     "text": [
      "                      (F1-score: 0.2228, Precision: 0.2252, Recall: 0.2416)\n",
      "\n",
      "                      (NDCG: 0.1795)\n",
      "\n",
      "                      (MAE: 3.8928)\n",
      "\n",
      "train_loss= tensor(3.0938)\n",
      "--------------------\n"
     ]
    },
    {
     "name": "stderr",
     "output_type": "stream",
     "text": [
      "100%|██████████| 243/243 [09:12<00:00,  2.27s/it]\n"
     ]
    },
    {
     "name": "stdout",
     "output_type": "stream",
     "text": [
      "                      (F1-score: 0.1875, Precision: 0.1902, Recall: 0.2032)\n",
      "\n",
      "                      (NDCG: 0.1505)\n",
      "\n",
      "                      (MAE: 4.0082)\n",
      "\n",
      "val_loss= tensor(3.2847)\n",
      "--------------------\n"
     ]
    },
    {
     "name": "stderr",
     "output_type": "stream",
     "text": [
      "100%|██████████| 243/243 [09:13<00:00,  2.28s/it]\n"
     ]
    },
    {
     "name": "stdout",
     "output_type": "stream",
     "text": [
      "                      (F1-score: 0.1804, Precision: 0.1836, Recall: 0.1951)\n",
      "\n",
      "                      (NDCG: 0.1471)\n",
      "\n",
      "                      (MAE: 4.0273)\n",
      "\n",
      "--------------------\n",
      "[[1, 0.15102508494598663, 0.13901183503223896, 0.13685931463818005, 0.10857080521709726, 4.33179012345679, 3.7877731323242188], [2, 0.17197909126721891, 0.1677208317567045, 0.16141612701950495, 0.12588838700573018, 4.154835390946502, 3.695448875427246], [3, 0.18403894983959188, 0.1775252902257438, 0.17209818455548395, 0.13573104499670613, 4.068930041152264, 3.560631275177002], [4, 0.19935734535422858, 0.18003952682213079, 0.18008292574950455, 0.14469110961321266, 4.167695473251029, 3.544600486755371], [5, 0.2050243005619127, 0.1780420862385157, 0.18210172856100093, 0.14937120064979978, 4.17335390946502, 3.462721586227417], [6, 0.19149365541363422, 0.19109275876505344, 0.1826502735226269, 0.14768747289649714, 4.004115226337449, 3.5485246181488037], [7, 0.2097481944994838, 0.17531216869337582, 0.18219340661188196, 0.14883438410494215, 4.304526748971194, 3.4884655475616455], [8, 0.21414556181524244, 0.16974517390788688, 0.1809597059468153, 0.14828424960942058, 4.601851851851852, 3.836853265762329], [9, 0.20529031247529914, 0.17597041469074787, 0.18106953407414228, 0.14899557413257383, 4.159979423868313, 3.4441349506378174], [10, 0.19928322330736079, 0.18231567833272536, 0.1818999364293109, 0.14904488848786754, 4.038065843621399, 3.4084980487823486], [11, 0.18825337100158362, 0.18762868563365379, 0.17947363363626304, 0.14564942034658948, 3.9825102880658436, 3.5426061153411865], [12, 0.19770797519904132, 0.1786841306691568, 0.17908680622124892, 0.14666388782676418, 4.084362139917696, 3.4294281005859375], [13, 0.1977677221377213, 0.18215481762120164, 0.18098170099094998, 0.14828184976936185, 4.052469135802469, 3.4228475093841553], [14, 0.19507071751377586, 0.1836352159997151, 0.18042706125734026, 0.14709650762973223, 4.027263374485597, 3.4469594955444336]]\n",
      "-----------------------------------------------------------------------------------------\n"
     ]
    },
    {
     "name": "stderr",
     "output_type": "stream",
     "text": [
      "  0%|          | 1/1948 [00:02<1:17:19,  2.38s/it]"
     ]
    },
    {
     "name": "stdout",
     "output_type": "stream",
     "text": [
      "Epoch 15: 0%, loss: 4.149680\n"
     ]
    },
    {
     "name": "stderr",
     "output_type": "stream",
     "text": [
      "  5%|▌         | 101/1948 [04:06<1:13:29,  2.39s/it]"
     ]
    },
    {
     "name": "stdout",
     "output_type": "stream",
     "text": [
      "Epoch 15: 5%, loss: 3.157259\n"
     ]
    },
    {
     "name": "stderr",
     "output_type": "stream",
     "text": [
      " 10%|█         | 201/1948 [08:13<1:12:25,  2.49s/it]"
     ]
    },
    {
     "name": "stdout",
     "output_type": "stream",
     "text": [
      "Epoch 15: 10%, loss: 1.217315\n"
     ]
    },
    {
     "name": "stderr",
     "output_type": "stream",
     "text": [
      " 15%|█▌        | 301/1948 [12:19<1:04:50,  2.36s/it]"
     ]
    },
    {
     "name": "stdout",
     "output_type": "stream",
     "text": [
      "Epoch 15: 15%, loss: 4.639096\n"
     ]
    },
    {
     "name": "stderr",
     "output_type": "stream",
     "text": [
      " 21%|██        | 401/1948 [16:25<1:08:06,  2.64s/it]"
     ]
    },
    {
     "name": "stdout",
     "output_type": "stream",
     "text": [
      "Epoch 15: 21%, loss: 3.135298\n"
     ]
    },
    {
     "name": "stderr",
     "output_type": "stream",
     "text": [
      " 26%|██▌       | 501/1948 [20:34<58:24,  2.42s/it]  "
     ]
    },
    {
     "name": "stdout",
     "output_type": "stream",
     "text": [
      "Epoch 15: 26%, loss: 2.144801\n"
     ]
    },
    {
     "name": "stderr",
     "output_type": "stream",
     "text": [
      " 31%|███       | 601/1948 [24:44<58:25,  2.60s/it]  "
     ]
    },
    {
     "name": "stdout",
     "output_type": "stream",
     "text": [
      "Epoch 15: 31%, loss: 6.318287\n"
     ]
    },
    {
     "name": "stderr",
     "output_type": "stream",
     "text": [
      " 36%|███▌      | 701/1948 [28:55<50:54,  2.45s/it]  "
     ]
    },
    {
     "name": "stdout",
     "output_type": "stream",
     "text": [
      "Epoch 15: 36%, loss: 1.676433\n"
     ]
    },
    {
     "name": "stderr",
     "output_type": "stream",
     "text": [
      " 41%|████      | 801/1948 [33:09<49:17,  2.58s/it]"
     ]
    },
    {
     "name": "stdout",
     "output_type": "stream",
     "text": [
      "Epoch 15: 41%, loss: 2.354587\n"
     ]
    },
    {
     "name": "stderr",
     "output_type": "stream",
     "text": [
      " 46%|████▋     | 901/1948 [37:22<44:02,  2.52s/it]"
     ]
    },
    {
     "name": "stdout",
     "output_type": "stream",
     "text": [
      "Epoch 15: 46%, loss: 2.236845\n"
     ]
    },
    {
     "name": "stderr",
     "output_type": "stream",
     "text": [
      " 51%|█████▏    | 1001/1948 [41:38<38:54,  2.47s/it]"
     ]
    },
    {
     "name": "stdout",
     "output_type": "stream",
     "text": [
      "Epoch 15: 51%, loss: 1.282597\n"
     ]
    },
    {
     "name": "stderr",
     "output_type": "stream",
     "text": [
      " 57%|█████▋    | 1101/1948 [45:56<34:40,  2.46s/it]"
     ]
    },
    {
     "name": "stdout",
     "output_type": "stream",
     "text": [
      "Epoch 15: 56%, loss: 6.002588\n"
     ]
    },
    {
     "name": "stderr",
     "output_type": "stream",
     "text": [
      " 62%|██████▏   | 1201/1948 [50:13<31:04,  2.50s/it]"
     ]
    },
    {
     "name": "stdout",
     "output_type": "stream",
     "text": [
      "Epoch 15: 62%, loss: 4.936363\n"
     ]
    },
    {
     "name": "stderr",
     "output_type": "stream",
     "text": [
      " 67%|██████▋   | 1301/1948 [54:33<28:10,  2.61s/it]"
     ]
    },
    {
     "name": "stdout",
     "output_type": "stream",
     "text": [
      "Epoch 15: 67%, loss: 1.943803\n"
     ]
    },
    {
     "name": "stderr",
     "output_type": "stream",
     "text": [
      " 72%|███████▏  | 1401/1948 [58:51<23:45,  2.61s/it]"
     ]
    },
    {
     "name": "stdout",
     "output_type": "stream",
     "text": [
      "Epoch 15: 72%, loss: 4.063075\n"
     ]
    },
    {
     "name": "stderr",
     "output_type": "stream",
     "text": [
      " 77%|███████▋  | 1501/1948 [1:03:15<20:30,  2.75s/it]"
     ]
    },
    {
     "name": "stdout",
     "output_type": "stream",
     "text": [
      "Epoch 15: 77%, loss: 3.064277\n"
     ]
    },
    {
     "name": "stderr",
     "output_type": "stream",
     "text": [
      " 82%|████████▏ | 1601/1948 [1:07:38<14:59,  2.59s/it]"
     ]
    },
    {
     "name": "stdout",
     "output_type": "stream",
     "text": [
      "Epoch 15: 82%, loss: 1.289795\n"
     ]
    },
    {
     "name": "stderr",
     "output_type": "stream",
     "text": [
      " 87%|████████▋ | 1701/1948 [1:12:02<10:48,  2.63s/it]"
     ]
    },
    {
     "name": "stdout",
     "output_type": "stream",
     "text": [
      "Epoch 15: 87%, loss: 1.655617\n"
     ]
    },
    {
     "name": "stderr",
     "output_type": "stream",
     "text": [
      " 92%|█████████▏| 1800/1948 [1:16:24<06:10,  2.50s/it]"
     ]
    },
    {
     "name": "stdout",
     "output_type": "stream",
     "text": [
      "Epoch 15: 92%, loss: 2.877936\n"
     ]
    },
    {
     "name": "stderr",
     "output_type": "stream",
     "text": [
      " 98%|█████████▊| 1900/1948 [1:20:49<02:10,  2.71s/it]"
     ]
    },
    {
     "name": "stdout",
     "output_type": "stream",
     "text": [
      "Epoch 15: 98%, loss: 1.690805\n"
     ]
    },
    {
     "name": "stderr",
     "output_type": "stream",
     "text": [
      "100%|█████████▉| 1947/1948 [1:22:55<00:02,  2.66s/it]"
     ]
    },
    {
     "name": "stdout",
     "output_type": "stream",
     "text": [
      "Epoch 15: 100%, loss: 3.338897\n"
     ]
    },
    {
     "name": "stderr",
     "output_type": "stream",
     "text": [
      "100%|██████████| 1948/1948 [1:22:58<00:00,  2.56s/it]\n"
     ]
    },
    {
     "name": "stdout",
     "output_type": "stream",
     "text": [
      "                      (F1-score: 0.2224, Precision: 0.2248, Recall: 0.2413)\n",
      "\n",
      "                      (NDCG: 0.1793)\n",
      "\n",
      "                      (MAE: 3.8890)\n",
      "\n",
      "train_loss= tensor(3.0835)\n",
      "--------------------\n"
     ]
    },
    {
     "name": "stderr",
     "output_type": "stream",
     "text": [
      "100%|██████████| 243/243 [09:15<00:00,  2.29s/it]\n"
     ]
    },
    {
     "name": "stdout",
     "output_type": "stream",
     "text": [
      "                      (F1-score: 0.1857, Precision: 0.1968, Recall: 0.1931)\n",
      "\n",
      "                      (NDCG: 0.1477)\n",
      "\n",
      "                      (MAE: 3.9954)\n",
      "\n",
      "val_loss= tensor(3.3585)\n",
      "--------------------\n"
     ]
    },
    {
     "name": "stderr",
     "output_type": "stream",
     "text": [
      "100%|██████████| 243/243 [09:13<00:00,  2.28s/it]\n"
     ]
    },
    {
     "name": "stdout",
     "output_type": "stream",
     "text": [
      "                      (F1-score: 0.1784, Precision: 0.1898, Recall: 0.1850)\n",
      "\n",
      "                      (NDCG: 0.1447)\n",
      "\n",
      "                      (MAE: 3.9830)\n",
      "\n",
      "--------------------\n",
      "[[1, 0.15102508494598663, 0.13901183503223896, 0.13685931463818005, 0.10857080521709726, 4.33179012345679, 3.7877731323242188], [2, 0.17197909126721891, 0.1677208317567045, 0.16141612701950495, 0.12588838700573018, 4.154835390946502, 3.695448875427246], [3, 0.18403894983959188, 0.1775252902257438, 0.17209818455548395, 0.13573104499670613, 4.068930041152264, 3.560631275177002], [4, 0.19935734535422858, 0.18003952682213079, 0.18008292574950455, 0.14469110961321266, 4.167695473251029, 3.544600486755371], [5, 0.2050243005619127, 0.1780420862385157, 0.18210172856100093, 0.14937120064979978, 4.17335390946502, 3.462721586227417], [6, 0.19149365541363422, 0.19109275876505344, 0.1826502735226269, 0.14768747289649714, 4.004115226337449, 3.5485246181488037], [7, 0.2097481944994838, 0.17531216869337582, 0.18219340661188196, 0.14883438410494215, 4.304526748971194, 3.4884655475616455], [8, 0.21414556181524244, 0.16974517390788688, 0.1809597059468153, 0.14828424960942058, 4.601851851851852, 3.836853265762329], [9, 0.20529031247529914, 0.17597041469074787, 0.18106953407414228, 0.14899557413257383, 4.159979423868313, 3.4441349506378174], [10, 0.19928322330736079, 0.18231567833272536, 0.1818999364293109, 0.14904488848786754, 4.038065843621399, 3.4084980487823486], [11, 0.18825337100158362, 0.18762868563365379, 0.17947363363626304, 0.14564942034658948, 3.9825102880658436, 3.5426061153411865], [12, 0.19770797519904132, 0.1786841306691568, 0.17908680622124892, 0.14666388782676418, 4.084362139917696, 3.4294281005859375], [13, 0.1977677221377213, 0.18215481762120164, 0.18098170099094998, 0.14828184976936185, 4.052469135802469, 3.4228475093841553], [14, 0.19507071751377586, 0.1836352159997151, 0.18042706125734026, 0.14709650762973223, 4.027263374485597, 3.4469594955444336], [15, 0.1849737723671411, 0.1898473942500204, 0.17843439078003512, 0.14469857718373952, 3.9830246913580245, 3.5043044090270996]]\n",
      "-----------------------------------------------------------------------------------------\n"
     ]
    },
    {
     "name": "stderr",
     "output_type": "stream",
     "text": [
      "  0%|          | 1/1948 [00:02<1:27:50,  2.71s/it]"
     ]
    },
    {
     "name": "stdout",
     "output_type": "stream",
     "text": [
      "Epoch 16: 0%, loss: 1.871250\n"
     ]
    },
    {
     "name": "stderr",
     "output_type": "stream",
     "text": [
      "  5%|▌         | 101/1948 [04:08<1:17:57,  2.53s/it]"
     ]
    },
    {
     "name": "stdout",
     "output_type": "stream",
     "text": [
      "Epoch 16: 5%, loss: 2.138402\n"
     ]
    },
    {
     "name": "stderr",
     "output_type": "stream",
     "text": [
      " 10%|█         | 201/1948 [08:13<1:11:11,  2.45s/it]"
     ]
    },
    {
     "name": "stdout",
     "output_type": "stream",
     "text": [
      "Epoch 16: 10%, loss: 4.405707\n"
     ]
    },
    {
     "name": "stderr",
     "output_type": "stream",
     "text": [
      " 15%|█▌        | 301/1948 [12:23<1:09:16,  2.52s/it]"
     ]
    },
    {
     "name": "stdout",
     "output_type": "stream",
     "text": [
      "Epoch 16: 15%, loss: 3.467497\n"
     ]
    },
    {
     "name": "stderr",
     "output_type": "stream",
     "text": [
      " 21%|██        | 401/1948 [16:33<1:06:55,  2.60s/it]"
     ]
    },
    {
     "name": "stdout",
     "output_type": "stream",
     "text": [
      "Epoch 16: 21%, loss: 5.630105\n"
     ]
    },
    {
     "name": "stderr",
     "output_type": "stream",
     "text": [
      " 26%|██▌       | 501/1948 [20:43<1:00:39,  2.52s/it]"
     ]
    },
    {
     "name": "stdout",
     "output_type": "stream",
     "text": [
      "Epoch 16: 26%, loss: 1.844620\n"
     ]
    },
    {
     "name": "stderr",
     "output_type": "stream",
     "text": [
      " 31%|███       | 601/1948 [24:55<55:51,  2.49s/it]  "
     ]
    },
    {
     "name": "stdout",
     "output_type": "stream",
     "text": [
      "Epoch 16: 31%, loss: 1.774446\n"
     ]
    },
    {
     "name": "stderr",
     "output_type": "stream",
     "text": [
      " 36%|███▌      | 701/1948 [29:09<52:04,  2.51s/it]  "
     ]
    },
    {
     "name": "stdout",
     "output_type": "stream",
     "text": [
      "Epoch 16: 36%, loss: 3.454567\n"
     ]
    },
    {
     "name": "stderr",
     "output_type": "stream",
     "text": [
      " 41%|████      | 801/1948 [33:22<48:54,  2.56s/it]"
     ]
    },
    {
     "name": "stdout",
     "output_type": "stream",
     "text": [
      "Epoch 16: 41%, loss: 5.200559\n"
     ]
    },
    {
     "name": "stderr",
     "output_type": "stream",
     "text": [
      " 46%|████▋     | 901/1948 [37:40<44:43,  2.56s/it]"
     ]
    },
    {
     "name": "stdout",
     "output_type": "stream",
     "text": [
      "Epoch 16: 46%, loss: 7.789355\n"
     ]
    },
    {
     "name": "stderr",
     "output_type": "stream",
     "text": [
      " 51%|█████▏    | 1001/1948 [41:57<39:57,  2.53s/it]"
     ]
    },
    {
     "name": "stdout",
     "output_type": "stream",
     "text": [
      "Epoch 16: 51%, loss: 3.029088\n"
     ]
    },
    {
     "name": "stderr",
     "output_type": "stream",
     "text": [
      " 57%|█████▋    | 1101/1948 [46:16<36:12,  2.56s/it]"
     ]
    },
    {
     "name": "stdout",
     "output_type": "stream",
     "text": [
      "Epoch 16: 56%, loss: 2.330606\n"
     ]
    },
    {
     "name": "stderr",
     "output_type": "stream",
     "text": [
      " 62%|██████▏   | 1201/1948 [50:35<32:42,  2.63s/it]"
     ]
    },
    {
     "name": "stdout",
     "output_type": "stream",
     "text": [
      "Epoch 16: 62%, loss: 8.036977\n"
     ]
    },
    {
     "name": "stderr",
     "output_type": "stream",
     "text": [
      " 67%|██████▋   | 1301/1948 [54:54<28:39,  2.66s/it]"
     ]
    },
    {
     "name": "stdout",
     "output_type": "stream",
     "text": [
      "Epoch 16: 67%, loss: 1.983510\n"
     ]
    },
    {
     "name": "stderr",
     "output_type": "stream",
     "text": [
      " 72%|███████▏  | 1401/1948 [59:15<23:19,  2.56s/it]"
     ]
    },
    {
     "name": "stdout",
     "output_type": "stream",
     "text": [
      "Epoch 16: 72%, loss: 3.767246\n"
     ]
    },
    {
     "name": "stderr",
     "output_type": "stream",
     "text": [
      " 77%|███████▋  | 1501/1948 [1:03:39<19:38,  2.64s/it]"
     ]
    },
    {
     "name": "stdout",
     "output_type": "stream",
     "text": [
      "Epoch 16: 77%, loss: 2.099913\n"
     ]
    },
    {
     "name": "stderr",
     "output_type": "stream",
     "text": [
      " 82%|████████▏ | 1601/1948 [1:08:03<15:30,  2.68s/it]"
     ]
    },
    {
     "name": "stdout",
     "output_type": "stream",
     "text": [
      "Epoch 16: 82%, loss: 2.709266\n"
     ]
    },
    {
     "name": "stderr",
     "output_type": "stream",
     "text": [
      " 87%|████████▋ | 1701/1948 [1:12:28<11:37,  2.82s/it]"
     ]
    },
    {
     "name": "stdout",
     "output_type": "stream",
     "text": [
      "Epoch 16: 87%, loss: 4.783372\n"
     ]
    },
    {
     "name": "stderr",
     "output_type": "stream",
     "text": [
      " 92%|█████████▏| 1800/1948 [1:16:53<06:59,  2.83s/it]"
     ]
    },
    {
     "name": "stdout",
     "output_type": "stream",
     "text": [
      "Epoch 16: 92%, loss: 1.883781\n"
     ]
    },
    {
     "name": "stderr",
     "output_type": "stream",
     "text": [
      " 98%|█████████▊| 1900/1948 [1:21:19<02:02,  2.56s/it]"
     ]
    },
    {
     "name": "stdout",
     "output_type": "stream",
     "text": [
      "Epoch 16: 98%, loss: 3.716220\n"
     ]
    },
    {
     "name": "stderr",
     "output_type": "stream",
     "text": [
      "100%|█████████▉| 1947/1948 [1:23:24<00:02,  2.61s/it]"
     ]
    },
    {
     "name": "stdout",
     "output_type": "stream",
     "text": [
      "Epoch 16: 100%, loss: 2.928651\n"
     ]
    },
    {
     "name": "stderr",
     "output_type": "stream",
     "text": [
      "100%|██████████| 1948/1948 [1:23:27<00:00,  2.57s/it]\n"
     ]
    },
    {
     "name": "stdout",
     "output_type": "stream",
     "text": [
      "                      (F1-score: 0.2221, Precision: 0.2246, Recall: 0.2405)\n",
      "\n",
      "                      (NDCG: 0.1792)\n",
      "\n",
      "                      (MAE: 3.8570)\n",
      "\n",
      "train_loss= tensor(3.0580)\n",
      "--------------------\n"
     ]
    },
    {
     "name": "stderr",
     "output_type": "stream",
     "text": [
      "100%|██████████| 243/243 [09:15<00:00,  2.29s/it]\n"
     ]
    },
    {
     "name": "stdout",
     "output_type": "stream",
     "text": [
      "                      (F1-score: 0.1873, Precision: 0.1892, Recall: 0.2049)\n",
      "\n",
      "                      (NDCG: 0.1505)\n",
      "\n",
      "                      (MAE: 4.0962)\n",
      "\n",
      "val_loss= tensor(3.3207)\n",
      "--------------------\n"
     ]
    },
    {
     "name": "stderr",
     "output_type": "stream",
     "text": [
      "100%|██████████| 243/243 [09:17<00:00,  2.29s/it]\n"
     ]
    },
    {
     "name": "stdout",
     "output_type": "stream",
     "text": [
      "                      (F1-score: 0.1794, Precision: 0.1814, Recall: 0.1964)\n",
      "\n",
      "                      (NDCG: 0.1471)\n",
      "\n",
      "                      (MAE: 4.1049)\n",
      "\n",
      "--------------------\n",
      "[[1, 0.15102508494598663, 0.13901183503223896, 0.13685931463818005, 0.10857080521709726, 4.33179012345679, 3.7877731323242188], [2, 0.17197909126721891, 0.1677208317567045, 0.16141612701950495, 0.12588838700573018, 4.154835390946502, 3.695448875427246], [3, 0.18403894983959188, 0.1775252902257438, 0.17209818455548395, 0.13573104499670613, 4.068930041152264, 3.560631275177002], [4, 0.19935734535422858, 0.18003952682213079, 0.18008292574950455, 0.14469110961321266, 4.167695473251029, 3.544600486755371], [5, 0.2050243005619127, 0.1780420862385157, 0.18210172856100093, 0.14937120064979978, 4.17335390946502, 3.462721586227417], [6, 0.19149365541363422, 0.19109275876505344, 0.1826502735226269, 0.14768747289649714, 4.004115226337449, 3.5485246181488037], [7, 0.2097481944994838, 0.17531216869337582, 0.18219340661188196, 0.14883438410494215, 4.304526748971194, 3.4884655475616455], [8, 0.21414556181524244, 0.16974517390788688, 0.1809597059468153, 0.14828424960942058, 4.601851851851852, 3.836853265762329], [9, 0.20529031247529914, 0.17597041469074787, 0.18106953407414228, 0.14899557413257383, 4.159979423868313, 3.4441349506378174], [10, 0.19928322330736079, 0.18231567833272536, 0.1818999364293109, 0.14904488848786754, 4.038065843621399, 3.4084980487823486], [11, 0.18825337100158362, 0.18762868563365379, 0.17947363363626304, 0.14564942034658948, 3.9825102880658436, 3.5426061153411865], [12, 0.19770797519904132, 0.1786841306691568, 0.17908680622124892, 0.14666388782676418, 4.084362139917696, 3.4294281005859375], [13, 0.1977677221377213, 0.18215481762120164, 0.18098170099094998, 0.14828184976936185, 4.052469135802469, 3.4228475093841553], [14, 0.19507071751377586, 0.1836352159997151, 0.18042706125734026, 0.14709650762973223, 4.027263374485597, 3.4469594955444336], [15, 0.1849737723671411, 0.1898473942500204, 0.17843439078003512, 0.14469857718373952, 3.9830246913580245, 3.5043044090270996], [16, 0.1963645057623334, 0.181410745406443, 0.17941896585279185, 0.1471052294426479, 4.104938271604938, 3.4702541828155518]]\n",
      "-----------------------------------------------------------------------------------------\n"
     ]
    },
    {
     "name": "stderr",
     "output_type": "stream",
     "text": [
      "  0%|          | 1/1948 [00:02<1:22:53,  2.55s/it]"
     ]
    },
    {
     "name": "stdout",
     "output_type": "stream",
     "text": [
      "Epoch 17: 0%, loss: 1.148236\n"
     ]
    },
    {
     "name": "stderr",
     "output_type": "stream",
     "text": [
      "  5%|▌         | 101/1948 [04:06<1:13:28,  2.39s/it]"
     ]
    },
    {
     "name": "stdout",
     "output_type": "stream",
     "text": [
      "Epoch 17: 5%, loss: 2.287903\n"
     ]
    },
    {
     "name": "stderr",
     "output_type": "stream",
     "text": [
      " 10%|█         | 201/1948 [08:16<1:15:23,  2.59s/it]"
     ]
    },
    {
     "name": "stdout",
     "output_type": "stream",
     "text": [
      "Epoch 17: 10%, loss: 2.200969\n"
     ]
    },
    {
     "name": "stderr",
     "output_type": "stream",
     "text": [
      " 15%|█▌        | 301/1948 [12:22<1:09:52,  2.55s/it]"
     ]
    },
    {
     "name": "stdout",
     "output_type": "stream",
     "text": [
      "Epoch 17: 15%, loss: 1.258740\n"
     ]
    },
    {
     "name": "stderr",
     "output_type": "stream",
     "text": [
      " 21%|██        | 401/1948 [16:32<1:03:47,  2.47s/it]"
     ]
    },
    {
     "name": "stdout",
     "output_type": "stream",
     "text": [
      "Epoch 17: 21%, loss: 3.818632\n"
     ]
    },
    {
     "name": "stderr",
     "output_type": "stream",
     "text": [
      " 26%|██▌       | 501/1948 [20:40<59:50,  2.48s/it]  "
     ]
    },
    {
     "name": "stdout",
     "output_type": "stream",
     "text": [
      "Epoch 17: 26%, loss: 1.405657\n"
     ]
    },
    {
     "name": "stderr",
     "output_type": "stream",
     "text": [
      " 31%|███       | 601/1948 [24:52<54:17,  2.42s/it]  "
     ]
    },
    {
     "name": "stdout",
     "output_type": "stream",
     "text": [
      "Epoch 17: 31%, loss: 1.524174\n"
     ]
    },
    {
     "name": "stderr",
     "output_type": "stream",
     "text": [
      " 36%|███▌      | 701/1948 [29:05<53:24,  2.57s/it]"
     ]
    },
    {
     "name": "stdout",
     "output_type": "stream",
     "text": [
      "Epoch 17: 36%, loss: 1.223693\n"
     ]
    },
    {
     "name": "stderr",
     "output_type": "stream",
     "text": [
      " 41%|████      | 801/1948 [33:21<49:03,  2.57s/it]"
     ]
    },
    {
     "name": "stdout",
     "output_type": "stream",
     "text": [
      "Epoch 17: 41%, loss: 2.847575\n"
     ]
    },
    {
     "name": "stderr",
     "output_type": "stream",
     "text": [
      " 46%|████▋     | 901/1948 [37:34<46:04,  2.64s/it]"
     ]
    },
    {
     "name": "stdout",
     "output_type": "stream",
     "text": [
      "Epoch 17: 46%, loss: 1.636353\n"
     ]
    },
    {
     "name": "stderr",
     "output_type": "stream",
     "text": [
      " 51%|█████▏    | 1001/1948 [41:52<41:37,  2.64s/it]"
     ]
    },
    {
     "name": "stdout",
     "output_type": "stream",
     "text": [
      "Epoch 17: 51%, loss: 2.646608\n"
     ]
    },
    {
     "name": "stderr",
     "output_type": "stream",
     "text": [
      " 57%|█████▋    | 1101/1948 [46:11<37:47,  2.68s/it]"
     ]
    },
    {
     "name": "stdout",
     "output_type": "stream",
     "text": [
      "Epoch 17: 56%, loss: 5.899649\n"
     ]
    },
    {
     "name": "stderr",
     "output_type": "stream",
     "text": [
      " 62%|██████▏   | 1201/1948 [50:29<30:58,  2.49s/it]"
     ]
    },
    {
     "name": "stdout",
     "output_type": "stream",
     "text": [
      "Epoch 17: 62%, loss: 1.862684\n"
     ]
    },
    {
     "name": "stderr",
     "output_type": "stream",
     "text": [
      " 67%|██████▋   | 1301/1948 [54:48<29:23,  2.73s/it]"
     ]
    },
    {
     "name": "stdout",
     "output_type": "stream",
     "text": [
      "Epoch 17: 67%, loss: 4.806944\n"
     ]
    },
    {
     "name": "stderr",
     "output_type": "stream",
     "text": [
      " 72%|███████▏  | 1401/1948 [59:10<23:35,  2.59s/it]"
     ]
    },
    {
     "name": "stdout",
     "output_type": "stream",
     "text": [
      "Epoch 17: 72%, loss: 2.466742\n"
     ]
    },
    {
     "name": "stderr",
     "output_type": "stream",
     "text": [
      " 77%|███████▋  | 1501/1948 [1:03:34<19:37,  2.63s/it]"
     ]
    },
    {
     "name": "stdout",
     "output_type": "stream",
     "text": [
      "Epoch 17: 77%, loss: 1.678912\n"
     ]
    },
    {
     "name": "stderr",
     "output_type": "stream",
     "text": [
      " 82%|████████▏ | 1601/1948 [1:07:56<15:24,  2.66s/it]"
     ]
    },
    {
     "name": "stdout",
     "output_type": "stream",
     "text": [
      "Epoch 17: 82%, loss: 3.127853\n"
     ]
    },
    {
     "name": "stderr",
     "output_type": "stream",
     "text": [
      " 87%|████████▋ | 1701/1948 [1:12:22<10:55,  2.65s/it]"
     ]
    },
    {
     "name": "stdout",
     "output_type": "stream",
     "text": [
      "Epoch 17: 87%, loss: 3.715199\n"
     ]
    },
    {
     "name": "stderr",
     "output_type": "stream",
     "text": [
      " 92%|█████████▏| 1800/1948 [1:16:45<06:14,  2.53s/it]"
     ]
    },
    {
     "name": "stdout",
     "output_type": "stream",
     "text": [
      "Epoch 17: 92%, loss: 1.353183\n"
     ]
    },
    {
     "name": "stderr",
     "output_type": "stream",
     "text": [
      " 98%|█████████▊| 1900/1948 [1:21:12<02:07,  2.65s/it]"
     ]
    },
    {
     "name": "stdout",
     "output_type": "stream",
     "text": [
      "Epoch 17: 98%, loss: 3.617257\n"
     ]
    },
    {
     "name": "stderr",
     "output_type": "stream",
     "text": [
      "100%|█████████▉| 1947/1948 [1:23:18<00:02,  2.65s/it]"
     ]
    },
    {
     "name": "stdout",
     "output_type": "stream",
     "text": [
      "Epoch 17: 100%, loss: 2.292625\n"
     ]
    },
    {
     "name": "stderr",
     "output_type": "stream",
     "text": [
      "100%|██████████| 1948/1948 [1:23:21<00:00,  2.57s/it]\n"
     ]
    },
    {
     "name": "stdout",
     "output_type": "stream",
     "text": [
      "                      (F1-score: 0.2220, Precision: 0.2245, Recall: 0.2404)\n",
      "\n",
      "                      (NDCG: 0.1794)\n",
      "\n",
      "                      (MAE: 3.8437)\n",
      "\n",
      "train_loss= tensor(3.0406)\n",
      "--------------------\n"
     ]
    },
    {
     "name": "stderr",
     "output_type": "stream",
     "text": [
      "100%|██████████| 243/243 [09:15<00:00,  2.28s/it]\n"
     ]
    },
    {
     "name": "stdout",
     "output_type": "stream",
     "text": [
      "                      (F1-score: 0.1864, Precision: 0.1917, Recall: 0.2014)\n",
      "\n",
      "                      (NDCG: 0.1485)\n",
      "\n",
      "                      (MAE: 4.1101)\n",
      "\n",
      "val_loss= tensor(3.3838)\n",
      "--------------------\n"
     ]
    },
    {
     "name": "stderr",
     "output_type": "stream",
     "text": [
      "100%|██████████| 243/243 [09:15<00:00,  2.29s/it]\n"
     ]
    },
    {
     "name": "stdout",
     "output_type": "stream",
     "text": [
      "                      (F1-score: 0.1782, Precision: 0.1837, Recall: 0.1918)\n",
      "\n",
      "                      (NDCG: 0.1452)\n",
      "\n",
      "                      (MAE: 4.1265)\n",
      "\n",
      "--------------------\n",
      "[[1, 0.15102508494598663, 0.13901183503223896, 0.13685931463818005, 0.10857080521709726, 4.33179012345679, 3.7877731323242188], [2, 0.17197909126721891, 0.1677208317567045, 0.16141612701950495, 0.12588838700573018, 4.154835390946502, 3.695448875427246], [3, 0.18403894983959188, 0.1775252902257438, 0.17209818455548395, 0.13573104499670613, 4.068930041152264, 3.560631275177002], [4, 0.19935734535422858, 0.18003952682213079, 0.18008292574950455, 0.14469110961321266, 4.167695473251029, 3.544600486755371], [5, 0.2050243005619127, 0.1780420862385157, 0.18210172856100093, 0.14937120064979978, 4.17335390946502, 3.462721586227417], [6, 0.19149365541363422, 0.19109275876505344, 0.1826502735226269, 0.14768747289649714, 4.004115226337449, 3.5485246181488037], [7, 0.2097481944994838, 0.17531216869337582, 0.18219340661188196, 0.14883438410494215, 4.304526748971194, 3.4884655475616455], [8, 0.21414556181524244, 0.16974517390788688, 0.1809597059468153, 0.14828424960942058, 4.601851851851852, 3.836853265762329], [9, 0.20529031247529914, 0.17597041469074787, 0.18106953407414228, 0.14899557413257383, 4.159979423868313, 3.4441349506378174], [10, 0.19928322330736079, 0.18231567833272536, 0.1818999364293109, 0.14904488848786754, 4.038065843621399, 3.4084980487823486], [11, 0.18825337100158362, 0.18762868563365379, 0.17947363363626304, 0.14564942034658948, 3.9825102880658436, 3.5426061153411865], [12, 0.19770797519904132, 0.1786841306691568, 0.17908680622124892, 0.14666388782676418, 4.084362139917696, 3.4294281005859375], [13, 0.1977677221377213, 0.18215481762120164, 0.18098170099094998, 0.14828184976936185, 4.052469135802469, 3.4228475093841553], [14, 0.19507071751377586, 0.1836352159997151, 0.18042706125734026, 0.14709650762973223, 4.027263374485597, 3.4469594955444336], [15, 0.1849737723671411, 0.1898473942500204, 0.17843439078003512, 0.14469857718373952, 3.9830246913580245, 3.5043044090270996], [16, 0.1963645057623334, 0.181410745406443, 0.17941896585279185, 0.1471052294426479, 4.104938271604938, 3.4702541828155518], [17, 0.1917625918988204, 0.18374455539710968, 0.17821571828836869, 0.14519491016772795, 4.1265432098765435, 3.556159257888794]]\n",
      "-----------------------------------------------------------------------------------------\n"
     ]
    },
    {
     "name": "stderr",
     "output_type": "stream",
     "text": [
      "  0%|          | 1/1948 [00:02<1:35:51,  2.95s/it]"
     ]
    },
    {
     "name": "stdout",
     "output_type": "stream",
     "text": [
      "Epoch 18: 0%, loss: 4.573013\n"
     ]
    },
    {
     "name": "stderr",
     "output_type": "stream",
     "text": [
      "  5%|▌         | 101/1948 [04:06<1:13:33,  2.39s/it]"
     ]
    },
    {
     "name": "stdout",
     "output_type": "stream",
     "text": [
      "Epoch 18: 5%, loss: 2.832258\n"
     ]
    },
    {
     "name": "stderr",
     "output_type": "stream",
     "text": [
      " 10%|█         | 201/1948 [08:13<1:10:36,  2.42s/it]"
     ]
    },
    {
     "name": "stdout",
     "output_type": "stream",
     "text": [
      "Epoch 18: 10%, loss: 2.840445\n"
     ]
    },
    {
     "name": "stderr",
     "output_type": "stream",
     "text": [
      " 15%|█▌        | 301/1948 [12:23<1:08:03,  2.48s/it]"
     ]
    },
    {
     "name": "stdout",
     "output_type": "stream",
     "text": [
      "Epoch 18: 15%, loss: 4.904266\n"
     ]
    },
    {
     "name": "stderr",
     "output_type": "stream",
     "text": [
      " 21%|██        | 401/1948 [16:35<1:04:03,  2.48s/it]"
     ]
    },
    {
     "name": "stdout",
     "output_type": "stream",
     "text": [
      "Epoch 18: 21%, loss: 1.730916\n"
     ]
    },
    {
     "name": "stderr",
     "output_type": "stream",
     "text": [
      " 26%|██▌       | 501/1948 [20:47<1:01:41,  2.56s/it]"
     ]
    },
    {
     "name": "stdout",
     "output_type": "stream",
     "text": [
      "Epoch 18: 26%, loss: 3.446608\n"
     ]
    },
    {
     "name": "stderr",
     "output_type": "stream",
     "text": [
      " 31%|███       | 601/1948 [24:57<55:12,  2.46s/it]  "
     ]
    },
    {
     "name": "stdout",
     "output_type": "stream",
     "text": [
      "Epoch 18: 31%, loss: 1.486803\n"
     ]
    },
    {
     "name": "stderr",
     "output_type": "stream",
     "text": [
      " 36%|███▌      | 701/1948 [29:09<52:10,  2.51s/it]  "
     ]
    },
    {
     "name": "stdout",
     "output_type": "stream",
     "text": [
      "Epoch 18: 36%, loss: 3.500279\n"
     ]
    },
    {
     "name": "stderr",
     "output_type": "stream",
     "text": [
      " 41%|████      | 801/1948 [33:23<49:08,  2.57s/it]"
     ]
    },
    {
     "name": "stdout",
     "output_type": "stream",
     "text": [
      "Epoch 18: 41%, loss: 1.631527\n"
     ]
    },
    {
     "name": "stderr",
     "output_type": "stream",
     "text": [
      " 46%|████▋     | 901/1948 [37:36<43:40,  2.50s/it]"
     ]
    },
    {
     "name": "stdout",
     "output_type": "stream",
     "text": [
      "Epoch 18: 46%, loss: 1.327873\n"
     ]
    },
    {
     "name": "stderr",
     "output_type": "stream",
     "text": [
      " 51%|█████▏    | 1001/1948 [41:52<42:11,  2.67s/it]"
     ]
    },
    {
     "name": "stdout",
     "output_type": "stream",
     "text": [
      "Epoch 18: 51%, loss: 1.698432\n"
     ]
    },
    {
     "name": "stderr",
     "output_type": "stream",
     "text": [
      " 57%|█████▋    | 1101/1948 [46:11<36:14,  2.57s/it]"
     ]
    },
    {
     "name": "stdout",
     "output_type": "stream",
     "text": [
      "Epoch 18: 56%, loss: 1.307953\n"
     ]
    },
    {
     "name": "stderr",
     "output_type": "stream",
     "text": [
      " 62%|██████▏   | 1201/1948 [50:28<31:30,  2.53s/it]"
     ]
    },
    {
     "name": "stdout",
     "output_type": "stream",
     "text": [
      "Epoch 18: 62%, loss: 2.859356\n"
     ]
    },
    {
     "name": "stderr",
     "output_type": "stream",
     "text": [
      " 67%|██████▋   | 1301/1948 [54:48<28:13,  2.62s/it]"
     ]
    },
    {
     "name": "stdout",
     "output_type": "stream",
     "text": [
      "Epoch 18: 67%, loss: 1.852621\n"
     ]
    },
    {
     "name": "stderr",
     "output_type": "stream",
     "text": [
      " 72%|███████▏  | 1401/1948 [59:09<24:09,  2.65s/it]"
     ]
    },
    {
     "name": "stdout",
     "output_type": "stream",
     "text": [
      "Epoch 18: 72%, loss: 5.654910\n"
     ]
    },
    {
     "name": "stderr",
     "output_type": "stream",
     "text": [
      " 77%|███████▋  | 1501/1948 [1:03:36<19:49,  2.66s/it]"
     ]
    },
    {
     "name": "stdout",
     "output_type": "stream",
     "text": [
      "Epoch 18: 77%, loss: 4.228259\n"
     ]
    },
    {
     "name": "stderr",
     "output_type": "stream",
     "text": [
      " 82%|████████▏ | 1601/1948 [1:08:02<15:02,  2.60s/it]"
     ]
    },
    {
     "name": "stdout",
     "output_type": "stream",
     "text": [
      "Epoch 18: 82%, loss: 1.582367\n"
     ]
    },
    {
     "name": "stderr",
     "output_type": "stream",
     "text": [
      " 87%|████████▋ | 1701/1948 [1:12:24<10:51,  2.64s/it]"
     ]
    },
    {
     "name": "stdout",
     "output_type": "stream",
     "text": [
      "Epoch 18: 87%, loss: 1.082781\n"
     ]
    },
    {
     "name": "stderr",
     "output_type": "stream",
     "text": [
      " 92%|█████████▏| 1800/1948 [1:16:51<06:51,  2.78s/it]"
     ]
    },
    {
     "name": "stdout",
     "output_type": "stream",
     "text": [
      "Epoch 18: 92%, loss: 4.894336\n"
     ]
    },
    {
     "name": "stderr",
     "output_type": "stream",
     "text": [
      " 98%|█████████▊| 1900/1948 [1:21:19<02:06,  2.64s/it]"
     ]
    },
    {
     "name": "stdout",
     "output_type": "stream",
     "text": [
      "Epoch 18: 98%, loss: 1.382663\n"
     ]
    },
    {
     "name": "stderr",
     "output_type": "stream",
     "text": [
      "100%|█████████▉| 1947/1948 [1:23:27<00:02,  2.66s/it]"
     ]
    },
    {
     "name": "stdout",
     "output_type": "stream",
     "text": [
      "Epoch 18: 100%, loss: 11.146078\n"
     ]
    },
    {
     "name": "stderr",
     "output_type": "stream",
     "text": [
      "100%|██████████| 1948/1948 [1:23:30<00:00,  2.57s/it]\n"
     ]
    },
    {
     "name": "stdout",
     "output_type": "stream",
     "text": [
      "                      (F1-score: 0.2219, Precision: 0.2243, Recall: 0.2401)\n",
      "\n",
      "                      (NDCG: 0.1798)\n",
      "\n",
      "                      (MAE: 3.8101)\n",
      "\n",
      "train_loss= tensor(3.0141)\n",
      "--------------------\n"
     ]
    },
    {
     "name": "stderr",
     "output_type": "stream",
     "text": [
      "100%|██████████| 243/243 [09:16<00:00,  2.29s/it]\n"
     ]
    },
    {
     "name": "stdout",
     "output_type": "stream",
     "text": [
      "                      (F1-score: 0.1854, Precision: 0.1896, Recall: 0.2012)\n",
      "\n",
      "                      (NDCG: 0.1476)\n",
      "\n",
      "                      (MAE: 4.1229)\n",
      "\n",
      "val_loss= tensor(3.3812)\n",
      "--------------------\n"
     ]
    },
    {
     "name": "stderr",
     "output_type": "stream",
     "text": [
      "100%|██████████| 243/243 [09:16<00:00,  2.29s/it]\n"
     ]
    },
    {
     "name": "stdout",
     "output_type": "stream",
     "text": [
      "                      (F1-score: 0.1788, Precision: 0.1829, Recall: 0.1933)\n",
      "\n",
      "                      (NDCG: 0.1459)\n",
      "\n",
      "                      (MAE: 4.1096)\n",
      "\n",
      "--------------------\n",
      "[[1, 0.15102508494598663, 0.13901183503223896, 0.13685931463818005, 0.10857080521709726, 4.33179012345679, 3.7877731323242188], [2, 0.17197909126721891, 0.1677208317567045, 0.16141612701950495, 0.12588838700573018, 4.154835390946502, 3.695448875427246], [3, 0.18403894983959188, 0.1775252902257438, 0.17209818455548395, 0.13573104499670613, 4.068930041152264, 3.560631275177002], [4, 0.19935734535422858, 0.18003952682213079, 0.18008292574950455, 0.14469110961321266, 4.167695473251029, 3.544600486755371], [5, 0.2050243005619127, 0.1780420862385157, 0.18210172856100093, 0.14937120064979978, 4.17335390946502, 3.462721586227417], [6, 0.19149365541363422, 0.19109275876505344, 0.1826502735226269, 0.14768747289649714, 4.004115226337449, 3.5485246181488037], [7, 0.2097481944994838, 0.17531216869337582, 0.18219340661188196, 0.14883438410494215, 4.304526748971194, 3.4884655475616455], [8, 0.21414556181524244, 0.16974517390788688, 0.1809597059468153, 0.14828424960942058, 4.601851851851852, 3.836853265762329], [9, 0.20529031247529914, 0.17597041469074787, 0.18106953407414228, 0.14899557413257383, 4.159979423868313, 3.4441349506378174], [10, 0.19928322330736079, 0.18231567833272536, 0.1818999364293109, 0.14904488848786754, 4.038065843621399, 3.4084980487823486], [11, 0.18825337100158362, 0.18762868563365379, 0.17947363363626304, 0.14564942034658948, 3.9825102880658436, 3.5426061153411865], [12, 0.19770797519904132, 0.1786841306691568, 0.17908680622124892, 0.14666388782676418, 4.084362139917696, 3.4294281005859375], [13, 0.1977677221377213, 0.18215481762120164, 0.18098170099094998, 0.14828184976936185, 4.052469135802469, 3.4228475093841553], [14, 0.19507071751377586, 0.1836352159997151, 0.18042706125734026, 0.14709650762973223, 4.027263374485597, 3.4469594955444336], [15, 0.1849737723671411, 0.1898473942500204, 0.17843439078003512, 0.14469857718373952, 3.9830246913580245, 3.5043044090270996], [16, 0.1963645057623334, 0.181410745406443, 0.17941896585279185, 0.1471052294426479, 4.104938271604938, 3.4702541828155518], [17, 0.1917625918988204, 0.18374455539710968, 0.17821571828836869, 0.14519491016772795, 4.1265432098765435, 3.556159257888794], [18, 0.1932783395177707, 0.1828965001147147, 0.17881645021206932, 0.14588332433136633, 4.109567901234568, 3.5350561141967773]]\n",
      "-----------------------------------------------------------------------------------------\n"
     ]
    },
    {
     "name": "stderr",
     "output_type": "stream",
     "text": [
      "  0%|          | 1/1948 [00:02<1:18:20,  2.41s/it]"
     ]
    },
    {
     "name": "stdout",
     "output_type": "stream",
     "text": [
      "Epoch 19: 0%, loss: 1.551203\n"
     ]
    },
    {
     "name": "stderr",
     "output_type": "stream",
     "text": [
      "  5%|▌         | 101/1948 [04:07<1:23:11,  2.70s/it]"
     ]
    },
    {
     "name": "stdout",
     "output_type": "stream",
     "text": [
      "Epoch 19: 5%, loss: 2.212701\n"
     ]
    },
    {
     "name": "stderr",
     "output_type": "stream",
     "text": [
      " 10%|█         | 201/1948 [08:12<1:09:58,  2.40s/it]"
     ]
    },
    {
     "name": "stdout",
     "output_type": "stream",
     "text": [
      "Epoch 19: 10%, loss: 6.428526\n"
     ]
    },
    {
     "name": "stderr",
     "output_type": "stream",
     "text": [
      " 15%|█▌        | 301/1948 [12:17<1:10:56,  2.58s/it]"
     ]
    },
    {
     "name": "stdout",
     "output_type": "stream",
     "text": [
      "Epoch 19: 15%, loss: 3.357763\n"
     ]
    },
    {
     "name": "stderr",
     "output_type": "stream",
     "text": [
      " 21%|██        | 401/1948 [16:30<1:02:50,  2.44s/it]"
     ]
    },
    {
     "name": "stdout",
     "output_type": "stream",
     "text": [
      "Epoch 19: 21%, loss: 3.455550\n"
     ]
    },
    {
     "name": "stderr",
     "output_type": "stream",
     "text": [
      " 26%|██▌       | 501/1948 [20:43<1:00:12,  2.50s/it]"
     ]
    },
    {
     "name": "stdout",
     "output_type": "stream",
     "text": [
      "Epoch 19: 26%, loss: 2.738413\n"
     ]
    },
    {
     "name": "stderr",
     "output_type": "stream",
     "text": [
      " 31%|███       | 601/1948 [24:52<53:13,  2.37s/it]  "
     ]
    },
    {
     "name": "stdout",
     "output_type": "stream",
     "text": [
      "Epoch 19: 31%, loss: 1.700887\n"
     ]
    },
    {
     "name": "stderr",
     "output_type": "stream",
     "text": [
      " 36%|███▌      | 701/1948 [29:07<52:29,  2.53s/it]"
     ]
    },
    {
     "name": "stdout",
     "output_type": "stream",
     "text": [
      "Epoch 19: 36%, loss: 1.934726\n"
     ]
    },
    {
     "name": "stderr",
     "output_type": "stream",
     "text": [
      " 41%|████      | 801/1948 [33:21<47:33,  2.49s/it]"
     ]
    },
    {
     "name": "stdout",
     "output_type": "stream",
     "text": [
      "Epoch 19: 41%, loss: 1.942188\n"
     ]
    },
    {
     "name": "stderr",
     "output_type": "stream",
     "text": [
      " 46%|████▋     | 901/1948 [37:36<43:54,  2.52s/it]"
     ]
    },
    {
     "name": "stdout",
     "output_type": "stream",
     "text": [
      "Epoch 19: 46%, loss: 3.149017\n"
     ]
    },
    {
     "name": "stderr",
     "output_type": "stream",
     "text": [
      " 51%|█████▏    | 1001/1948 [41:51<40:22,  2.56s/it]"
     ]
    },
    {
     "name": "stdout",
     "output_type": "stream",
     "text": [
      "Epoch 19: 51%, loss: 1.004117\n"
     ]
    },
    {
     "name": "stderr",
     "output_type": "stream",
     "text": [
      " 57%|█████▋    | 1101/1948 [46:09<35:31,  2.52s/it]"
     ]
    },
    {
     "name": "stdout",
     "output_type": "stream",
     "text": [
      "Epoch 19: 56%, loss: 4.022290\n"
     ]
    },
    {
     "name": "stderr",
     "output_type": "stream",
     "text": [
      " 62%|██████▏   | 1201/1948 [50:29<31:55,  2.56s/it]"
     ]
    },
    {
     "name": "stdout",
     "output_type": "stream",
     "text": [
      "Epoch 19: 62%, loss: 2.871748\n"
     ]
    },
    {
     "name": "stderr",
     "output_type": "stream",
     "text": [
      " 67%|██████▋   | 1301/1948 [54:50<28:07,  2.61s/it]"
     ]
    },
    {
     "name": "stdout",
     "output_type": "stream",
     "text": [
      "Epoch 19: 67%, loss: 1.167192\n"
     ]
    },
    {
     "name": "stderr",
     "output_type": "stream",
     "text": [
      " 72%|███████▏  | 1401/1948 [59:11<23:53,  2.62s/it]"
     ]
    },
    {
     "name": "stdout",
     "output_type": "stream",
     "text": [
      "Epoch 19: 72%, loss: 2.756850\n"
     ]
    },
    {
     "name": "stderr",
     "output_type": "stream",
     "text": [
      " 77%|███████▋  | 1501/1948 [1:03:35<18:38,  2.50s/it]"
     ]
    },
    {
     "name": "stdout",
     "output_type": "stream",
     "text": [
      "Epoch 19: 77%, loss: 2.598809\n"
     ]
    },
    {
     "name": "stderr",
     "output_type": "stream",
     "text": [
      " 82%|████████▏ | 1601/1948 [1:08:01<15:56,  2.76s/it]"
     ]
    },
    {
     "name": "stdout",
     "output_type": "stream",
     "text": [
      "Epoch 19: 82%, loss: 4.503303\n"
     ]
    },
    {
     "name": "stderr",
     "output_type": "stream",
     "text": [
      " 87%|████████▋ | 1700/1948 [1:12:25<11:21,  2.75s/it]"
     ]
    },
    {
     "name": "stdout",
     "output_type": "stream",
     "text": [
      "Epoch 19: 87%, loss: 2.472006\n"
     ]
    },
    {
     "name": "stderr",
     "output_type": "stream",
     "text": [
      " 92%|█████████▏| 1801/1948 [1:16:57<06:31,  2.66s/it]"
     ]
    },
    {
     "name": "stdout",
     "output_type": "stream",
     "text": [
      "Epoch 19: 92%, loss: 2.930320\n"
     ]
    },
    {
     "name": "stderr",
     "output_type": "stream",
     "text": [
      " 98%|█████████▊| 1900/1948 [1:21:26<02:11,  2.74s/it]"
     ]
    },
    {
     "name": "stdout",
     "output_type": "stream",
     "text": [
      "Epoch 19: 98%, loss: 1.831624\n"
     ]
    },
    {
     "name": "stderr",
     "output_type": "stream",
     "text": [
      "100%|█████████▉| 1947/1948 [1:23:34<00:02,  2.61s/it]"
     ]
    },
    {
     "name": "stdout",
     "output_type": "stream",
     "text": [
      "Epoch 19: 100%, loss: 1.280891\n"
     ]
    },
    {
     "name": "stderr",
     "output_type": "stream",
     "text": [
      "100%|██████████| 1948/1948 [1:23:37<00:00,  2.58s/it]\n"
     ]
    },
    {
     "name": "stdout",
     "output_type": "stream",
     "text": [
      "                      (F1-score: 0.2216, Precision: 0.2240, Recall: 0.2398)\n",
      "\n",
      "                      (NDCG: 0.1799)\n",
      "\n",
      "                      (MAE: 3.7852)\n",
      "\n",
      "train_loss= tensor(2.9921)\n",
      "--------------------\n"
     ]
    },
    {
     "name": "stderr",
     "output_type": "stream",
     "text": [
      "100%|██████████| 243/243 [09:21<00:00,  2.31s/it]\n"
     ]
    },
    {
     "name": "stdout",
     "output_type": "stream",
     "text": [
      "                      (F1-score: 0.1868, Precision: 0.1906, Recall: 0.2033)\n",
      "\n",
      "                      (NDCG: 0.1492)\n",
      "\n",
      "                      (MAE: 4.1317)\n",
      "\n",
      "val_loss= tensor(3.3544)\n",
      "--------------------\n"
     ]
    },
    {
     "name": "stderr",
     "output_type": "stream",
     "text": [
      "100%|██████████| 243/243 [09:20<00:00,  2.31s/it]\n"
     ]
    },
    {
     "name": "stdout",
     "output_type": "stream",
     "text": [
      "                      (F1-score: 0.1788, Precision: 0.1826, Recall: 0.1942)\n",
      "\n",
      "                      (NDCG: 0.1456)\n",
      "\n",
      "                      (MAE: 4.1235)\n",
      "\n",
      "--------------------\n",
      "[[1, 0.15102508494598663, 0.13901183503223896, 0.13685931463818005, 0.10857080521709726, 4.33179012345679, 3.7877731323242188], [2, 0.17197909126721891, 0.1677208317567045, 0.16141612701950495, 0.12588838700573018, 4.154835390946502, 3.695448875427246], [3, 0.18403894983959188, 0.1775252902257438, 0.17209818455548395, 0.13573104499670613, 4.068930041152264, 3.560631275177002], [4, 0.19935734535422858, 0.18003952682213079, 0.18008292574950455, 0.14469110961321266, 4.167695473251029, 3.544600486755371], [5, 0.2050243005619127, 0.1780420862385157, 0.18210172856100093, 0.14937120064979978, 4.17335390946502, 3.462721586227417], [6, 0.19149365541363422, 0.19109275876505344, 0.1826502735226269, 0.14768747289649714, 4.004115226337449, 3.5485246181488037], [7, 0.2097481944994838, 0.17531216869337582, 0.18219340661188196, 0.14883438410494215, 4.304526748971194, 3.4884655475616455], [8, 0.21414556181524244, 0.16974517390788688, 0.1809597059468153, 0.14828424960942058, 4.601851851851852, 3.836853265762329], [9, 0.20529031247529914, 0.17597041469074787, 0.18106953407414228, 0.14899557413257383, 4.159979423868313, 3.4441349506378174], [10, 0.19928322330736079, 0.18231567833272536, 0.1818999364293109, 0.14904488848786754, 4.038065843621399, 3.4084980487823486], [11, 0.18825337100158362, 0.18762868563365379, 0.17947363363626304, 0.14564942034658948, 3.9825102880658436, 3.5426061153411865], [12, 0.19770797519904132, 0.1786841306691568, 0.17908680622124892, 0.14666388782676418, 4.084362139917696, 3.4294281005859375], [13, 0.1977677221377213, 0.18215481762120164, 0.18098170099094998, 0.14828184976936185, 4.052469135802469, 3.4228475093841553], [14, 0.19507071751377586, 0.1836352159997151, 0.18042706125734026, 0.14709650762973223, 4.027263374485597, 3.4469594955444336], [15, 0.1849737723671411, 0.1898473942500204, 0.17843439078003512, 0.14469857718373952, 3.9830246913580245, 3.5043044090270996], [16, 0.1963645057623334, 0.181410745406443, 0.17941896585279185, 0.1471052294426479, 4.104938271604938, 3.4702541828155518], [17, 0.1917625918988204, 0.18374455539710968, 0.17821571828836869, 0.14519491016772795, 4.1265432098765435, 3.556159257888794], [18, 0.1932783395177707, 0.1828965001147147, 0.17881645021206932, 0.14588332433136633, 4.109567901234568, 3.5350561141967773], [19, 0.19416253854746846, 0.1825681343712584, 0.1787900303466306, 0.14562007231032284, 4.1234567901234565, 3.5212090015411377]]\n",
      "-----------------------------------------------------------------------------------------\n"
     ]
    },
    {
     "name": "stderr",
     "output_type": "stream",
     "text": [
      "  0%|          | 1/1948 [00:02<1:25:30,  2.64s/it]"
     ]
    },
    {
     "name": "stdout",
     "output_type": "stream",
     "text": [
      "Epoch 20: 0%, loss: 1.161170\n"
     ]
    },
    {
     "name": "stderr",
     "output_type": "stream",
     "text": [
      "  5%|▌         | 101/1948 [04:09<1:14:52,  2.43s/it]"
     ]
    },
    {
     "name": "stdout",
     "output_type": "stream",
     "text": [
      "Epoch 20: 5%, loss: 1.567744\n"
     ]
    },
    {
     "name": "stderr",
     "output_type": "stream",
     "text": [
      " 10%|█         | 201/1948 [08:14<1:11:26,  2.45s/it]"
     ]
    },
    {
     "name": "stdout",
     "output_type": "stream",
     "text": [
      "Epoch 20: 10%, loss: 1.313897\n"
     ]
    },
    {
     "name": "stderr",
     "output_type": "stream",
     "text": [
      " 15%|█▌        | 301/1948 [12:24<1:08:13,  2.49s/it]"
     ]
    },
    {
     "name": "stdout",
     "output_type": "stream",
     "text": [
      "Epoch 20: 15%, loss: 4.581925\n"
     ]
    },
    {
     "name": "stderr",
     "output_type": "stream",
     "text": [
      " 21%|██        | 401/1948 [16:33<1:02:47,  2.44s/it]"
     ]
    },
    {
     "name": "stdout",
     "output_type": "stream",
     "text": [
      "Epoch 20: 21%, loss: 1.775563\n"
     ]
    },
    {
     "name": "stderr",
     "output_type": "stream",
     "text": [
      " 26%|██▌       | 501/1948 [20:44<59:28,  2.47s/it]  "
     ]
    },
    {
     "name": "stdout",
     "output_type": "stream",
     "text": [
      "Epoch 20: 26%, loss: 7.049366\n"
     ]
    },
    {
     "name": "stderr",
     "output_type": "stream",
     "text": [
      " 31%|███       | 601/1948 [24:57<55:53,  2.49s/it]  "
     ]
    },
    {
     "name": "stdout",
     "output_type": "stream",
     "text": [
      "Epoch 20: 31%, loss: 2.160792\n"
     ]
    },
    {
     "name": "stderr",
     "output_type": "stream",
     "text": [
      " 36%|███▌      | 701/1948 [29:10<50:02,  2.41s/it]"
     ]
    },
    {
     "name": "stdout",
     "output_type": "stream",
     "text": [
      "Epoch 20: 36%, loss: 1.343405\n"
     ]
    },
    {
     "name": "stderr",
     "output_type": "stream",
     "text": [
      " 41%|████      | 801/1948 [33:28<47:54,  2.51s/it]"
     ]
    },
    {
     "name": "stdout",
     "output_type": "stream",
     "text": [
      "Epoch 20: 41%, loss: 4.375141\n"
     ]
    },
    {
     "name": "stderr",
     "output_type": "stream",
     "text": [
      " 46%|████▋     | 901/1948 [37:46<44:51,  2.57s/it]"
     ]
    },
    {
     "name": "stdout",
     "output_type": "stream",
     "text": [
      "Epoch 20: 46%, loss: 1.714050\n"
     ]
    },
    {
     "name": "stderr",
     "output_type": "stream",
     "text": [
      " 51%|█████▏    | 1001/1948 [42:05<40:32,  2.57s/it]"
     ]
    },
    {
     "name": "stdout",
     "output_type": "stream",
     "text": [
      "Epoch 20: 51%, loss: 2.825833\n"
     ]
    },
    {
     "name": "stderr",
     "output_type": "stream",
     "text": [
      " 57%|█████▋    | 1101/1948 [46:26<36:26,  2.58s/it]"
     ]
    },
    {
     "name": "stdout",
     "output_type": "stream",
     "text": [
      "Epoch 20: 56%, loss: 2.145349\n"
     ]
    },
    {
     "name": "stderr",
     "output_type": "stream",
     "text": [
      " 62%|██████▏   | 1201/1948 [50:50<33:34,  2.70s/it]"
     ]
    },
    {
     "name": "stdout",
     "output_type": "stream",
     "text": [
      "Epoch 20: 62%, loss: 1.825236\n"
     ]
    },
    {
     "name": "stderr",
     "output_type": "stream",
     "text": [
      " 67%|██████▋   | 1301/1948 [55:12<28:07,  2.61s/it]"
     ]
    },
    {
     "name": "stdout",
     "output_type": "stream",
     "text": [
      "Epoch 20: 67%, loss: 2.459691\n"
     ]
    },
    {
     "name": "stderr",
     "output_type": "stream",
     "text": [
      " 72%|███████▏  | 1401/1948 [59:36<23:26,  2.57s/it]"
     ]
    },
    {
     "name": "stdout",
     "output_type": "stream",
     "text": [
      "Epoch 20: 72%, loss: 3.287013\n"
     ]
    },
    {
     "name": "stderr",
     "output_type": "stream",
     "text": [
      " 77%|███████▋  | 1501/1948 [1:03:59<19:11,  2.58s/it]"
     ]
    },
    {
     "name": "stdout",
     "output_type": "stream",
     "text": [
      "Epoch 20: 77%, loss: 1.590960\n"
     ]
    },
    {
     "name": "stderr",
     "output_type": "stream",
     "text": [
      " 82%|████████▏ | 1601/1948 [1:08:26<15:10,  2.62s/it]"
     ]
    },
    {
     "name": "stdout",
     "output_type": "stream",
     "text": [
      "Epoch 20: 82%, loss: 1.905393\n"
     ]
    },
    {
     "name": "stderr",
     "output_type": "stream",
     "text": [
      " 87%|████████▋ | 1701/1948 [1:12:54<11:31,  2.80s/it]"
     ]
    },
    {
     "name": "stdout",
     "output_type": "stream",
     "text": [
      "Epoch 20: 87%, loss: 4.061818\n"
     ]
    },
    {
     "name": "stderr",
     "output_type": "stream",
     "text": [
      " 92%|█████████▏| 1801/1948 [1:17:22<06:43,  2.74s/it]"
     ]
    },
    {
     "name": "stdout",
     "output_type": "stream",
     "text": [
      "Epoch 20: 92%, loss: 3.111465\n"
     ]
    },
    {
     "name": "stderr",
     "output_type": "stream",
     "text": [
      " 98%|█████████▊| 1900/1948 [1:21:48<02:14,  2.79s/it]"
     ]
    },
    {
     "name": "stdout",
     "output_type": "stream",
     "text": [
      "Epoch 20: 98%, loss: 1.909097\n"
     ]
    },
    {
     "name": "stderr",
     "output_type": "stream",
     "text": [
      "100%|█████████▉| 1947/1948 [1:23:55<00:02,  2.62s/it]"
     ]
    },
    {
     "name": "stdout",
     "output_type": "stream",
     "text": [
      "Epoch 20: 100%, loss: 3.443325\n"
     ]
    },
    {
     "name": "stderr",
     "output_type": "stream",
     "text": [
      "100%|██████████| 1948/1948 [1:23:58<00:00,  2.59s/it]\n"
     ]
    },
    {
     "name": "stdout",
     "output_type": "stream",
     "text": [
      "                      (F1-score: 0.2211, Precision: 0.2237, Recall: 0.2390)\n",
      "\n",
      "                      (NDCG: 0.1796)\n",
      "\n",
      "                      (MAE: 3.7703)\n",
      "\n",
      "train_loss= tensor(2.9839)\n",
      "--------------------\n"
     ]
    },
    {
     "name": "stderr",
     "output_type": "stream",
     "text": [
      "100%|██████████| 243/243 [09:19<00:00,  2.30s/it]\n"
     ]
    },
    {
     "name": "stdout",
     "output_type": "stream",
     "text": [
      "                      (F1-score: 0.1853, Precision: 0.1851, Recall: 0.2059)\n",
      "\n",
      "                      (NDCG: 0.1483)\n",
      "\n",
      "                      (MAE: 4.1924)\n",
      "\n",
      "val_loss= tensor(3.3790)\n",
      "--------------------\n"
     ]
    },
    {
     "name": "stderr",
     "output_type": "stream",
     "text": [
      "100%|██████████| 243/243 [09:19<00:00,  2.30s/it]\n"
     ]
    },
    {
     "name": "stdout",
     "output_type": "stream",
     "text": [
      "                      (F1-score: 0.1787, Precision: 0.1788, Recall: 0.1980)\n",
      "\n",
      "                      (NDCG: 0.1461)\n",
      "\n",
      "                      (MAE: 4.1754)\n",
      "\n",
      "--------------------\n",
      "[[1, 0.15102508494598663, 0.13901183503223896, 0.13685931463818005, 0.10857080521709726, 4.33179012345679, 3.7877731323242188], [2, 0.17197909126721891, 0.1677208317567045, 0.16141612701950495, 0.12588838700573018, 4.154835390946502, 3.695448875427246], [3, 0.18403894983959188, 0.1775252902257438, 0.17209818455548395, 0.13573104499670613, 4.068930041152264, 3.560631275177002], [4, 0.19935734535422858, 0.18003952682213079, 0.18008292574950455, 0.14469110961321266, 4.167695473251029, 3.544600486755371], [5, 0.2050243005619127, 0.1780420862385157, 0.18210172856100093, 0.14937120064979978, 4.17335390946502, 3.462721586227417], [6, 0.19149365541363422, 0.19109275876505344, 0.1826502735226269, 0.14768747289649714, 4.004115226337449, 3.5485246181488037], [7, 0.2097481944994838, 0.17531216869337582, 0.18219340661188196, 0.14883438410494215, 4.304526748971194, 3.4884655475616455], [8, 0.21414556181524244, 0.16974517390788688, 0.1809597059468153, 0.14828424960942058, 4.601851851851852, 3.836853265762329], [9, 0.20529031247529914, 0.17597041469074787, 0.18106953407414228, 0.14899557413257383, 4.159979423868313, 3.4441349506378174], [10, 0.19928322330736079, 0.18231567833272536, 0.1818999364293109, 0.14904488848786754, 4.038065843621399, 3.4084980487823486], [11, 0.18825337100158362, 0.18762868563365379, 0.17947363363626304, 0.14564942034658948, 3.9825102880658436, 3.5426061153411865], [12, 0.19770797519904132, 0.1786841306691568, 0.17908680622124892, 0.14666388782676418, 4.084362139917696, 3.4294281005859375], [13, 0.1977677221377213, 0.18215481762120164, 0.18098170099094998, 0.14828184976936185, 4.052469135802469, 3.4228475093841553], [14, 0.19507071751377586, 0.1836352159997151, 0.18042706125734026, 0.14709650762973223, 4.027263374485597, 3.4469594955444336], [15, 0.1849737723671411, 0.1898473942500204, 0.17843439078003512, 0.14469857718373952, 3.9830246913580245, 3.5043044090270996], [16, 0.1963645057623334, 0.181410745406443, 0.17941896585279185, 0.1471052294426479, 4.104938271604938, 3.4702541828155518], [17, 0.1917625918988204, 0.18374455539710968, 0.17821571828836869, 0.14519491016772795, 4.1265432098765435, 3.556159257888794], [18, 0.1932783395177707, 0.1828965001147147, 0.17881645021206932, 0.14588332433136633, 4.109567901234568, 3.5350561141967773], [19, 0.19416253854746846, 0.1825681343712584, 0.1787900303466306, 0.14562007231032284, 4.1234567901234565, 3.5212090015411377], [20, 0.19799455382753123, 0.17883422720597336, 0.17865292417322884, 0.1460610647770143, 4.175411522633745, 3.5155677795410156]]\n",
      "-----------------------------------------------------------------------------------------\n"
     ]
    },
    {
     "name": "stderr",
     "output_type": "stream",
     "text": [
      "  0%|          | 1/1948 [00:02<1:15:07,  2.31s/it]"
     ]
    },
    {
     "name": "stdout",
     "output_type": "stream",
     "text": [
      "Epoch 21: 0%, loss: 2.306875\n"
     ]
    },
    {
     "name": "stderr",
     "output_type": "stream",
     "text": [
      "  5%|▌         | 101/1948 [04:09<1:16:34,  2.49s/it]"
     ]
    },
    {
     "name": "stdout",
     "output_type": "stream",
     "text": [
      "Epoch 21: 5%, loss: 1.764617\n"
     ]
    },
    {
     "name": "stderr",
     "output_type": "stream",
     "text": [
      " 10%|█         | 201/1948 [08:16<1:13:54,  2.54s/it]"
     ]
    },
    {
     "name": "stdout",
     "output_type": "stream",
     "text": [
      "Epoch 21: 10%, loss: 3.012916\n"
     ]
    },
    {
     "name": "stderr",
     "output_type": "stream",
     "text": [
      " 15%|█▌        | 301/1948 [12:29<1:11:10,  2.59s/it]"
     ]
    },
    {
     "name": "stdout",
     "output_type": "stream",
     "text": [
      "Epoch 21: 15%, loss: 2.253206\n"
     ]
    },
    {
     "name": "stderr",
     "output_type": "stream",
     "text": [
      " 21%|██        | 401/1948 [16:37<1:00:57,  2.36s/it]"
     ]
    },
    {
     "name": "stdout",
     "output_type": "stream",
     "text": [
      "Epoch 21: 21%, loss: 1.991511\n"
     ]
    },
    {
     "name": "stderr",
     "output_type": "stream",
     "text": [
      " 26%|██▌       | 501/1948 [20:47<1:00:12,  2.50s/it]"
     ]
    },
    {
     "name": "stdout",
     "output_type": "stream",
     "text": [
      "Epoch 21: 26%, loss: 5.356400\n"
     ]
    },
    {
     "name": "stderr",
     "output_type": "stream",
     "text": [
      " 31%|███       | 601/1948 [25:01<59:09,  2.64s/it]  "
     ]
    },
    {
     "name": "stdout",
     "output_type": "stream",
     "text": [
      "Epoch 21: 31%, loss: 1.466328\n"
     ]
    },
    {
     "name": "stderr",
     "output_type": "stream",
     "text": [
      " 36%|███▌      | 701/1948 [29:16<55:54,  2.69s/it]  "
     ]
    },
    {
     "name": "stdout",
     "output_type": "stream",
     "text": [
      "Epoch 21: 36%, loss: 3.856751\n"
     ]
    },
    {
     "name": "stderr",
     "output_type": "stream",
     "text": [
      " 41%|████      | 801/1948 [33:29<50:03,  2.62s/it]"
     ]
    },
    {
     "name": "stdout",
     "output_type": "stream",
     "text": [
      "Epoch 21: 41%, loss: 4.714967\n"
     ]
    },
    {
     "name": "stderr",
     "output_type": "stream",
     "text": [
      " 46%|████▋     | 901/1948 [37:46<46:17,  2.65s/it]"
     ]
    },
    {
     "name": "stdout",
     "output_type": "stream",
     "text": [
      "Epoch 21: 46%, loss: 1.936054\n"
     ]
    },
    {
     "name": "stderr",
     "output_type": "stream",
     "text": [
      " 51%|█████▏    | 1001/1948 [42:01<39:42,  2.52s/it]"
     ]
    },
    {
     "name": "stdout",
     "output_type": "stream",
     "text": [
      "Epoch 21: 51%, loss: 1.589146\n"
     ]
    },
    {
     "name": "stderr",
     "output_type": "stream",
     "text": [
      " 57%|█████▋    | 1101/1948 [46:19<38:35,  2.73s/it]"
     ]
    },
    {
     "name": "stdout",
     "output_type": "stream",
     "text": [
      "Epoch 21: 56%, loss: 4.337532\n"
     ]
    },
    {
     "name": "stderr",
     "output_type": "stream",
     "text": [
      " 62%|██████▏   | 1201/1948 [50:40<33:33,  2.70s/it]"
     ]
    },
    {
     "name": "stdout",
     "output_type": "stream",
     "text": [
      "Epoch 21: 62%, loss: 6.790013\n"
     ]
    },
    {
     "name": "stderr",
     "output_type": "stream",
     "text": [
      " 67%|██████▋   | 1301/1948 [55:02<28:45,  2.67s/it]"
     ]
    },
    {
     "name": "stdout",
     "output_type": "stream",
     "text": [
      "Epoch 21: 67%, loss: 10.466824\n"
     ]
    },
    {
     "name": "stderr",
     "output_type": "stream",
     "text": [
      " 72%|███████▏  | 1401/1948 [59:24<23:37,  2.59s/it]"
     ]
    },
    {
     "name": "stdout",
     "output_type": "stream",
     "text": [
      "Epoch 21: 72%, loss: 1.825233\n"
     ]
    },
    {
     "name": "stderr",
     "output_type": "stream",
     "text": [
      " 77%|███████▋  | 1501/1948 [1:03:47<19:36,  2.63s/it]"
     ]
    },
    {
     "name": "stdout",
     "output_type": "stream",
     "text": [
      "Epoch 21: 77%, loss: 9.019201\n"
     ]
    },
    {
     "name": "stderr",
     "output_type": "stream",
     "text": [
      " 82%|████████▏ | 1601/1948 [1:08:12<16:01,  2.77s/it]"
     ]
    },
    {
     "name": "stdout",
     "output_type": "stream",
     "text": [
      "Epoch 21: 82%, loss: 3.766824\n"
     ]
    },
    {
     "name": "stderr",
     "output_type": "stream",
     "text": [
      " 87%|████████▋ | 1701/1948 [1:12:37<10:42,  2.60s/it]"
     ]
    },
    {
     "name": "stdout",
     "output_type": "stream",
     "text": [
      "Epoch 21: 87%, loss: 2.226872\n"
     ]
    },
    {
     "name": "stderr",
     "output_type": "stream",
     "text": [
      " 92%|█████████▏| 1801/1948 [1:17:06<06:48,  2.78s/it]"
     ]
    },
    {
     "name": "stdout",
     "output_type": "stream",
     "text": [
      "Epoch 21: 92%, loss: 3.263342\n"
     ]
    },
    {
     "name": "stderr",
     "output_type": "stream",
     "text": [
      " 98%|█████████▊| 1900/1948 [1:21:36<02:13,  2.78s/it]"
     ]
    },
    {
     "name": "stdout",
     "output_type": "stream",
     "text": [
      "Epoch 21: 98%, loss: 4.215719\n"
     ]
    },
    {
     "name": "stderr",
     "output_type": "stream",
     "text": [
      "100%|█████████▉| 1947/1948 [1:23:43<00:02,  2.62s/it]"
     ]
    },
    {
     "name": "stdout",
     "output_type": "stream",
     "text": [
      "Epoch 21: 100%, loss: 1.005706\n"
     ]
    },
    {
     "name": "stderr",
     "output_type": "stream",
     "text": [
      "100%|██████████| 1948/1948 [1:23:45<00:00,  2.58s/it]\n"
     ]
    },
    {
     "name": "stdout",
     "output_type": "stream",
     "text": [
      "                      (F1-score: 0.2213, Precision: 0.2240, Recall: 0.2391)\n",
      "\n",
      "                      (NDCG: 0.1799)\n",
      "\n",
      "                      (MAE: 3.7399)\n",
      "\n",
      "train_loss= tensor(2.9510)\n",
      "--------------------\n"
     ]
    },
    {
     "name": "stderr",
     "output_type": "stream",
     "text": [
      "100%|██████████| 243/243 [09:19<00:00,  2.30s/it]\n"
     ]
    },
    {
     "name": "stdout",
     "output_type": "stream",
     "text": [
      "                      (F1-score: 0.1867, Precision: 0.1802, Recall: 0.2152)\n",
      "\n",
      "                      (NDCG: 0.1500)\n",
      "\n",
      "                      (MAE: 4.4120)\n",
      "\n",
      "val_loss= tensor(3.4901)\n",
      "--------------------\n"
     ]
    },
    {
     "name": "stderr",
     "output_type": "stream",
     "text": [
      "100%|██████████| 243/243 [09:19<00:00,  2.30s/it]\n"
     ]
    },
    {
     "name": "stdout",
     "output_type": "stream",
     "text": [
      "                      (F1-score: 0.1792, Precision: 0.1732, Recall: 0.2062)\n",
      "\n",
      "                      (NDCG: 0.1476)\n",
      "\n",
      "                      (MAE: 4.3915)\n",
      "\n",
      "--------------------\n",
      "[[1, 0.15102508494598663, 0.13901183503223896, 0.13685931463818005, 0.10857080521709726, 4.33179012345679, 3.7877731323242188], [2, 0.17197909126721891, 0.1677208317567045, 0.16141612701950495, 0.12588838700573018, 4.154835390946502, 3.695448875427246], [3, 0.18403894983959188, 0.1775252902257438, 0.17209818455548395, 0.13573104499670613, 4.068930041152264, 3.560631275177002], [4, 0.19935734535422858, 0.18003952682213079, 0.18008292574950455, 0.14469110961321266, 4.167695473251029, 3.544600486755371], [5, 0.2050243005619127, 0.1780420862385157, 0.18210172856100093, 0.14937120064979978, 4.17335390946502, 3.462721586227417], [6, 0.19149365541363422, 0.19109275876505344, 0.1826502735226269, 0.14768747289649714, 4.004115226337449, 3.5485246181488037], [7, 0.2097481944994838, 0.17531216869337582, 0.18219340661188196, 0.14883438410494215, 4.304526748971194, 3.4884655475616455], [8, 0.21414556181524244, 0.16974517390788688, 0.1809597059468153, 0.14828424960942058, 4.601851851851852, 3.836853265762329], [9, 0.20529031247529914, 0.17597041469074787, 0.18106953407414228, 0.14899557413257383, 4.159979423868313, 3.4441349506378174], [10, 0.19928322330736079, 0.18231567833272536, 0.1818999364293109, 0.14904488848786754, 4.038065843621399, 3.4084980487823486], [11, 0.18825337100158362, 0.18762868563365379, 0.17947363363626304, 0.14564942034658948, 3.9825102880658436, 3.5426061153411865], [12, 0.19770797519904132, 0.1786841306691568, 0.17908680622124892, 0.14666388782676418, 4.084362139917696, 3.4294281005859375], [13, 0.1977677221377213, 0.18215481762120164, 0.18098170099094998, 0.14828184976936185, 4.052469135802469, 3.4228475093841553], [14, 0.19507071751377586, 0.1836352159997151, 0.18042706125734026, 0.14709650762973223, 4.027263374485597, 3.4469594955444336], [15, 0.1849737723671411, 0.1898473942500204, 0.17843439078003512, 0.14469857718373952, 3.9830246913580245, 3.5043044090270996], [16, 0.1963645057623334, 0.181410745406443, 0.17941896585279185, 0.1471052294426479, 4.104938271604938, 3.4702541828155518], [17, 0.1917625918988204, 0.18374455539710968, 0.17821571828836869, 0.14519491016772795, 4.1265432098765435, 3.556159257888794], [18, 0.1932783395177707, 0.1828965001147147, 0.17881645021206932, 0.14588332433136633, 4.109567901234568, 3.5350561141967773], [19, 0.19416253854746846, 0.1825681343712584, 0.1787900303466306, 0.14562007231032284, 4.1234567901234565, 3.5212090015411377], [20, 0.19799455382753123, 0.17883422720597336, 0.17865292417322884, 0.1460610647770143, 4.175411522633745, 3.5155677795410156], [21, 0.2061854261486715, 0.1731699327122424, 0.17923187384212189, 0.14760305897194753, 4.391460905349795, 3.6343019008636475]]\n",
      "-----------------------------------------------------------------------------------------\n"
     ]
    },
    {
     "name": "stderr",
     "output_type": "stream",
     "text": [
      "  0%|          | 1/1948 [00:02<1:15:57,  2.34s/it]"
     ]
    },
    {
     "name": "stdout",
     "output_type": "stream",
     "text": [
      "Epoch 22: 0%, loss: 1.770589\n"
     ]
    },
    {
     "name": "stderr",
     "output_type": "stream",
     "text": [
      "  5%|▌         | 101/1948 [04:06<1:14:24,  2.42s/it]"
     ]
    },
    {
     "name": "stdout",
     "output_type": "stream",
     "text": [
      "Epoch 22: 5%, loss: 3.373232\n"
     ]
    },
    {
     "name": "stderr",
     "output_type": "stream",
     "text": [
      " 10%|█         | 201/1948 [08:11<1:10:53,  2.43s/it]"
     ]
    },
    {
     "name": "stdout",
     "output_type": "stream",
     "text": [
      "Epoch 22: 10%, loss: 7.957944\n"
     ]
    },
    {
     "name": "stderr",
     "output_type": "stream",
     "text": [
      " 15%|█▌        | 301/1948 [12:19<1:09:04,  2.52s/it]"
     ]
    },
    {
     "name": "stdout",
     "output_type": "stream",
     "text": [
      "Epoch 22: 15%, loss: 2.260578\n"
     ]
    },
    {
     "name": "stderr",
     "output_type": "stream",
     "text": [
      " 21%|██        | 401/1948 [16:29<1:06:43,  2.59s/it]"
     ]
    },
    {
     "name": "stdout",
     "output_type": "stream",
     "text": [
      "Epoch 22: 21%, loss: 3.380394\n"
     ]
    },
    {
     "name": "stderr",
     "output_type": "stream",
     "text": [
      " 26%|██▌       | 501/1948 [20:39<59:50,  2.48s/it]  "
     ]
    },
    {
     "name": "stdout",
     "output_type": "stream",
     "text": [
      "Epoch 22: 26%, loss: 3.769427\n"
     ]
    },
    {
     "name": "stderr",
     "output_type": "stream",
     "text": [
      " 31%|███       | 601/1948 [24:48<56:19,  2.51s/it]  "
     ]
    },
    {
     "name": "stdout",
     "output_type": "stream",
     "text": [
      "Epoch 22: 31%, loss: 3.673135\n"
     ]
    },
    {
     "name": "stderr",
     "output_type": "stream",
     "text": [
      " 36%|███▌      | 701/1948 [28:58<53:28,  2.57s/it]"
     ]
    },
    {
     "name": "stdout",
     "output_type": "stream",
     "text": [
      "Epoch 22: 36%, loss: 1.750251\n"
     ]
    },
    {
     "name": "stderr",
     "output_type": "stream",
     "text": [
      " 41%|████      | 801/1948 [33:12<48:51,  2.56s/it]"
     ]
    },
    {
     "name": "stdout",
     "output_type": "stream",
     "text": [
      "Epoch 22: 41%, loss: 1.922210\n"
     ]
    },
    {
     "name": "stderr",
     "output_type": "stream",
     "text": [
      " 46%|████▋     | 901/1948 [37:25<42:54,  2.46s/it]"
     ]
    },
    {
     "name": "stdout",
     "output_type": "stream",
     "text": [
      "Epoch 22: 46%, loss: 3.041093\n"
     ]
    },
    {
     "name": "stderr",
     "output_type": "stream",
     "text": [
      " 51%|█████▏    | 1001/1948 [41:41<39:10,  2.48s/it]"
     ]
    },
    {
     "name": "stdout",
     "output_type": "stream",
     "text": [
      "Epoch 22: 51%, loss: 2.456760\n"
     ]
    },
    {
     "name": "stderr",
     "output_type": "stream",
     "text": [
      " 57%|█████▋    | 1101/1948 [45:58<35:53,  2.54s/it]"
     ]
    },
    {
     "name": "stdout",
     "output_type": "stream",
     "text": [
      "Epoch 22: 56%, loss: 3.122360\n"
     ]
    },
    {
     "name": "stderr",
     "output_type": "stream",
     "text": [
      " 62%|██████▏   | 1201/1948 [50:14<32:10,  2.58s/it]"
     ]
    },
    {
     "name": "stdout",
     "output_type": "stream",
     "text": [
      "Epoch 22: 62%, loss: 5.837948\n"
     ]
    },
    {
     "name": "stderr",
     "output_type": "stream",
     "text": [
      " 67%|██████▋   | 1301/1948 [54:33<27:12,  2.52s/it]"
     ]
    },
    {
     "name": "stdout",
     "output_type": "stream",
     "text": [
      "Epoch 22: 67%, loss: 4.403110\n"
     ]
    },
    {
     "name": "stderr",
     "output_type": "stream",
     "text": [
      " 72%|███████▏  | 1401/1948 [58:55<25:08,  2.76s/it]"
     ]
    },
    {
     "name": "stdout",
     "output_type": "stream",
     "text": [
      "Epoch 22: 72%, loss: 4.051978\n"
     ]
    },
    {
     "name": "stderr",
     "output_type": "stream",
     "text": [
      " 77%|███████▋  | 1501/1948 [1:03:17<19:23,  2.60s/it]"
     ]
    },
    {
     "name": "stdout",
     "output_type": "stream",
     "text": [
      "Epoch 22: 77%, loss: 1.299662\n"
     ]
    },
    {
     "name": "stderr",
     "output_type": "stream",
     "text": [
      " 82%|████████▏ | 1601/1948 [1:07:41<14:29,  2.51s/it]"
     ]
    },
    {
     "name": "stdout",
     "output_type": "stream",
     "text": [
      "Epoch 22: 82%, loss: 2.913285\n"
     ]
    },
    {
     "name": "stderr",
     "output_type": "stream",
     "text": [
      " 87%|████████▋ | 1701/1948 [1:12:04<11:00,  2.67s/it]"
     ]
    },
    {
     "name": "stdout",
     "output_type": "stream",
     "text": [
      "Epoch 22: 87%, loss: 4.283507\n"
     ]
    },
    {
     "name": "stderr",
     "output_type": "stream",
     "text": [
      " 92%|█████████▏| 1800/1948 [1:16:27<06:28,  2.63s/it]"
     ]
    },
    {
     "name": "stdout",
     "output_type": "stream",
     "text": [
      "Epoch 22: 92%, loss: 6.251900\n"
     ]
    },
    {
     "name": "stderr",
     "output_type": "stream",
     "text": [
      " 98%|█████████▊| 1900/1948 [1:20:54<02:06,  2.63s/it]"
     ]
    },
    {
     "name": "stdout",
     "output_type": "stream",
     "text": [
      "Epoch 22: 98%, loss: 6.186459\n"
     ]
    },
    {
     "name": "stderr",
     "output_type": "stream",
     "text": [
      "100%|█████████▉| 1947/1948 [1:23:00<00:02,  2.67s/it]"
     ]
    },
    {
     "name": "stdout",
     "output_type": "stream",
     "text": [
      "Epoch 22: 100%, loss: 1.681959\n"
     ]
    },
    {
     "name": "stderr",
     "output_type": "stream",
     "text": [
      "100%|██████████| 1948/1948 [1:23:04<00:00,  2.56s/it]\n"
     ]
    },
    {
     "name": "stdout",
     "output_type": "stream",
     "text": [
      "                      (F1-score: 0.2219, Precision: 0.2244, Recall: 0.2397)\n",
      "\n",
      "                      (NDCG: 0.1805)\n",
      "\n",
      "                      (MAE: 3.7230)\n",
      "\n",
      "train_loss= tensor(2.9312)\n",
      "--------------------\n"
     ]
    },
    {
     "name": "stderr",
     "output_type": "stream",
     "text": [
      "100%|██████████| 243/243 [09:13<00:00,  2.28s/it]\n"
     ]
    },
    {
     "name": "stdout",
     "output_type": "stream",
     "text": [
      "                      (F1-score: 0.1870, Precision: 0.1886, Recall: 0.2063)\n",
      "\n",
      "                      (NDCG: 0.1492)\n",
      "\n",
      "                      (MAE: 4.1965)\n",
      "\n",
      "val_loss= tensor(3.3917)\n",
      "--------------------\n"
     ]
    },
    {
     "name": "stderr",
     "output_type": "stream",
     "text": [
      "100%|██████████| 243/243 [09:13<00:00,  2.28s/it]\n"
     ]
    },
    {
     "name": "stdout",
     "output_type": "stream",
     "text": [
      "                      (F1-score: 0.1794, Precision: 0.1813, Recall: 0.1970)\n",
      "\n",
      "                      (NDCG: 0.1464)\n",
      "\n",
      "                      (MAE: 4.1800)\n",
      "\n",
      "--------------------\n",
      "[[1, 0.15102508494598663, 0.13901183503223896, 0.13685931463818005, 0.10857080521709726, 4.33179012345679, 3.7877731323242188], [2, 0.17197909126721891, 0.1677208317567045, 0.16141612701950495, 0.12588838700573018, 4.154835390946502, 3.695448875427246], [3, 0.18403894983959188, 0.1775252902257438, 0.17209818455548395, 0.13573104499670613, 4.068930041152264, 3.560631275177002], [4, 0.19935734535422858, 0.18003952682213079, 0.18008292574950455, 0.14469110961321266, 4.167695473251029, 3.544600486755371], [5, 0.2050243005619127, 0.1780420862385157, 0.18210172856100093, 0.14937120064979978, 4.17335390946502, 3.462721586227417], [6, 0.19149365541363422, 0.19109275876505344, 0.1826502735226269, 0.14768747289649714, 4.004115226337449, 3.5485246181488037], [7, 0.2097481944994838, 0.17531216869337582, 0.18219340661188196, 0.14883438410494215, 4.304526748971194, 3.4884655475616455], [8, 0.21414556181524244, 0.16974517390788688, 0.1809597059468153, 0.14828424960942058, 4.601851851851852, 3.836853265762329], [9, 0.20529031247529914, 0.17597041469074787, 0.18106953407414228, 0.14899557413257383, 4.159979423868313, 3.4441349506378174], [10, 0.19928322330736079, 0.18231567833272536, 0.1818999364293109, 0.14904488848786754, 4.038065843621399, 3.4084980487823486], [11, 0.18825337100158362, 0.18762868563365379, 0.17947363363626304, 0.14564942034658948, 3.9825102880658436, 3.5426061153411865], [12, 0.19770797519904132, 0.1786841306691568, 0.17908680622124892, 0.14666388782676418, 4.084362139917696, 3.4294281005859375], [13, 0.1977677221377213, 0.18215481762120164, 0.18098170099094998, 0.14828184976936185, 4.052469135802469, 3.4228475093841553], [14, 0.19507071751377586, 0.1836352159997151, 0.18042706125734026, 0.14709650762973223, 4.027263374485597, 3.4469594955444336], [15, 0.1849737723671411, 0.1898473942500204, 0.17843439078003512, 0.14469857718373952, 3.9830246913580245, 3.5043044090270996], [16, 0.1963645057623334, 0.181410745406443, 0.17941896585279185, 0.1471052294426479, 4.104938271604938, 3.4702541828155518], [17, 0.1917625918988204, 0.18374455539710968, 0.17821571828836869, 0.14519491016772795, 4.1265432098765435, 3.556159257888794], [18, 0.1932783395177707, 0.1828965001147147, 0.17881645021206932, 0.14588332433136633, 4.109567901234568, 3.5350561141967773], [19, 0.19416253854746846, 0.1825681343712584, 0.1787900303466306, 0.14562007231032284, 4.1234567901234565, 3.5212090015411377], [20, 0.19799455382753123, 0.17883422720597336, 0.17865292417322884, 0.1460610647770143, 4.175411522633745, 3.5155677795410156], [21, 0.2061854261486715, 0.1731699327122424, 0.17923187384212189, 0.14760305897194753, 4.391460905349795, 3.6343019008636475], [22, 0.1969919424789465, 0.18131965267848985, 0.1793575185541987, 0.14642907264680743, 4.1800411522633745, 3.560177803039551]]\n",
      "-----------------------------------------------------------------------------------------\n"
     ]
    },
    {
     "name": "stderr",
     "output_type": "stream",
     "text": [
      "  0%|          | 1/1948 [00:02<1:25:19,  2.63s/it]"
     ]
    },
    {
     "name": "stdout",
     "output_type": "stream",
     "text": [
      "Epoch 23: 0%, loss: 3.016765\n"
     ]
    },
    {
     "name": "stderr",
     "output_type": "stream",
     "text": [
      "  5%|▌         | 101/1948 [04:08<1:14:39,  2.43s/it]"
     ]
    },
    {
     "name": "stdout",
     "output_type": "stream",
     "text": [
      "Epoch 23: 5%, loss: 6.139105\n"
     ]
    },
    {
     "name": "stderr",
     "output_type": "stream",
     "text": [
      " 10%|█         | 201/1948 [08:15<1:10:00,  2.40s/it]"
     ]
    },
    {
     "name": "stdout",
     "output_type": "stream",
     "text": [
      "Epoch 23: 10%, loss: 3.729191\n"
     ]
    },
    {
     "name": "stderr",
     "output_type": "stream",
     "text": [
      " 15%|█▌        | 301/1948 [12:21<1:06:51,  2.44s/it]"
     ]
    },
    {
     "name": "stdout",
     "output_type": "stream",
     "text": [
      "Epoch 23: 15%, loss: 3.970123\n"
     ]
    },
    {
     "name": "stderr",
     "output_type": "stream",
     "text": [
      " 21%|██        | 401/1948 [16:25<1:05:14,  2.53s/it]"
     ]
    },
    {
     "name": "stdout",
     "output_type": "stream",
     "text": [
      "Epoch 23: 21%, loss: 1.157472\n"
     ]
    },
    {
     "name": "stderr",
     "output_type": "stream",
     "text": [
      " 26%|██▌       | 501/1948 [20:32<58:38,  2.43s/it]  "
     ]
    },
    {
     "name": "stdout",
     "output_type": "stream",
     "text": [
      "Epoch 23: 26%, loss: 4.761967\n"
     ]
    },
    {
     "name": "stderr",
     "output_type": "stream",
     "text": [
      " 31%|███       | 601/1948 [24:43<57:30,  2.56s/it]  "
     ]
    },
    {
     "name": "stdout",
     "output_type": "stream",
     "text": [
      "Epoch 23: 31%, loss: 3.316217\n"
     ]
    },
    {
     "name": "stderr",
     "output_type": "stream",
     "text": [
      " 36%|███▌      | 701/1948 [28:54<52:45,  2.54s/it]"
     ]
    },
    {
     "name": "stdout",
     "output_type": "stream",
     "text": [
      "Epoch 23: 36%, loss: 5.249516\n"
     ]
    },
    {
     "name": "stderr",
     "output_type": "stream",
     "text": [
      " 41%|████      | 801/1948 [33:03<47:59,  2.51s/it]"
     ]
    },
    {
     "name": "stdout",
     "output_type": "stream",
     "text": [
      "Epoch 23: 41%, loss: 1.131424\n"
     ]
    },
    {
     "name": "stderr",
     "output_type": "stream",
     "text": [
      " 46%|████▋     | 901/1948 [37:18<45:54,  2.63s/it]"
     ]
    },
    {
     "name": "stdout",
     "output_type": "stream",
     "text": [
      "Epoch 23: 46%, loss: 1.386152\n"
     ]
    },
    {
     "name": "stderr",
     "output_type": "stream",
     "text": [
      " 51%|█████▏    | 1001/1948 [41:32<39:40,  2.51s/it]"
     ]
    },
    {
     "name": "stdout",
     "output_type": "stream",
     "text": [
      "Epoch 23: 51%, loss: 1.005564\n"
     ]
    },
    {
     "name": "stderr",
     "output_type": "stream",
     "text": [
      " 57%|█████▋    | 1101/1948 [45:53<37:10,  2.63s/it]"
     ]
    },
    {
     "name": "stdout",
     "output_type": "stream",
     "text": [
      "Epoch 23: 56%, loss: 5.233255\n"
     ]
    },
    {
     "name": "stderr",
     "output_type": "stream",
     "text": [
      " 62%|██████▏   | 1201/1948 [50:18<34:08,  2.74s/it]"
     ]
    },
    {
     "name": "stdout",
     "output_type": "stream",
     "text": [
      "Epoch 23: 62%, loss: 3.028467\n"
     ]
    },
    {
     "name": "stderr",
     "output_type": "stream",
     "text": [
      " 67%|██████▋   | 1301/1948 [54:47<30:34,  2.84s/it]"
     ]
    },
    {
     "name": "stdout",
     "output_type": "stream",
     "text": [
      "Epoch 23: 67%, loss: 2.159864\n"
     ]
    },
    {
     "name": "stderr",
     "output_type": "stream",
     "text": [
      " 72%|███████▏  | 1401/1948 [59:22<26:20,  2.89s/it]"
     ]
    },
    {
     "name": "stdout",
     "output_type": "stream",
     "text": [
      "Epoch 23: 72%, loss: 5.541675\n"
     ]
    },
    {
     "name": "stderr",
     "output_type": "stream",
     "text": [
      " 77%|███████▋  | 1501/1948 [1:03:53<21:03,  2.83s/it]"
     ]
    },
    {
     "name": "stdout",
     "output_type": "stream",
     "text": [
      "Epoch 23: 77%, loss: 1.235964\n"
     ]
    },
    {
     "name": "stderr",
     "output_type": "stream",
     "text": [
      " 82%|████████▏ | 1601/1948 [1:08:22<15:28,  2.68s/it]"
     ]
    },
    {
     "name": "stdout",
     "output_type": "stream",
     "text": [
      "Epoch 23: 82%, loss: 1.681843\n"
     ]
    },
    {
     "name": "stderr",
     "output_type": "stream",
     "text": [
      " 87%|████████▋ | 1701/1948 [1:12:55<10:56,  2.66s/it]"
     ]
    },
    {
     "name": "stdout",
     "output_type": "stream",
     "text": [
      "Epoch 23: 87%, loss: 1.530829\n"
     ]
    },
    {
     "name": "stderr",
     "output_type": "stream",
     "text": [
      " 92%|█████████▏| 1800/1948 [1:17:26<06:44,  2.73s/it]"
     ]
    },
    {
     "name": "stdout",
     "output_type": "stream",
     "text": [
      "Epoch 23: 92%, loss: 1.733451\n"
     ]
    },
    {
     "name": "stderr",
     "output_type": "stream",
     "text": [
      " 98%|█████████▊| 1900/1948 [1:22:02<02:14,  2.80s/it]"
     ]
    },
    {
     "name": "stdout",
     "output_type": "stream",
     "text": [
      "Epoch 23: 98%, loss: 3.169735\n"
     ]
    },
    {
     "name": "stderr",
     "output_type": "stream",
     "text": [
      "100%|█████████▉| 1947/1948 [1:24:12<00:02,  2.86s/it]"
     ]
    },
    {
     "name": "stdout",
     "output_type": "stream",
     "text": [
      "Epoch 23: 100%, loss: 2.591694\n"
     ]
    },
    {
     "name": "stderr",
     "output_type": "stream",
     "text": [
      "100%|██████████| 1948/1948 [1:24:15<00:00,  2.60s/it]\n"
     ]
    },
    {
     "name": "stdout",
     "output_type": "stream",
     "text": [
      "                      (F1-score: 0.2217, Precision: 0.2241, Recall: 0.2393)\n",
      "\n",
      "                      (NDCG: 0.1808)\n",
      "\n",
      "                      (MAE: 3.6886)\n",
      "\n",
      "train_loss= tensor(2.9117)\n",
      "--------------------\n"
     ]
    },
    {
     "name": "stderr",
     "output_type": "stream",
     "text": [
      "100%|██████████| 243/243 [09:18<00:00,  2.30s/it]\n"
     ]
    },
    {
     "name": "stdout",
     "output_type": "stream",
     "text": [
      "                      (F1-score: 0.1860, Precision: 0.1902, Recall: 0.2030)\n",
      "\n",
      "                      (NDCG: 0.1482)\n",
      "\n",
      "                      (MAE: 4.2109)\n",
      "\n",
      "val_loss= tensor(3.4324)\n",
      "--------------------\n"
     ]
    },
    {
     "name": "stderr",
     "output_type": "stream",
     "text": [
      "100%|██████████| 243/243 [09:26<00:00,  2.33s/it]\n"
     ]
    },
    {
     "name": "stdout",
     "output_type": "stream",
     "text": [
      "                      (F1-score: 0.1787, Precision: 0.1832, Recall: 0.1938)\n",
      "\n",
      "                      (NDCG: 0.1457)\n",
      "\n",
      "                      (MAE: 4.1749)\n",
      "\n",
      "--------------------\n",
      "[[1, 0.15102508494598663, 0.13901183503223896, 0.13685931463818005, 0.10857080521709726, 4.33179012345679, 3.7877731323242188], [2, 0.17197909126721891, 0.1677208317567045, 0.16141612701950495, 0.12588838700573018, 4.154835390946502, 3.695448875427246], [3, 0.18403894983959188, 0.1775252902257438, 0.17209818455548395, 0.13573104499670613, 4.068930041152264, 3.560631275177002], [4, 0.19935734535422858, 0.18003952682213079, 0.18008292574950455, 0.14469110961321266, 4.167695473251029, 3.544600486755371], [5, 0.2050243005619127, 0.1780420862385157, 0.18210172856100093, 0.14937120064979978, 4.17335390946502, 3.462721586227417], [6, 0.19149365541363422, 0.19109275876505344, 0.1826502735226269, 0.14768747289649714, 4.004115226337449, 3.5485246181488037], [7, 0.2097481944994838, 0.17531216869337582, 0.18219340661188196, 0.14883438410494215, 4.304526748971194, 3.4884655475616455], [8, 0.21414556181524244, 0.16974517390788688, 0.1809597059468153, 0.14828424960942058, 4.601851851851852, 3.836853265762329], [9, 0.20529031247529914, 0.17597041469074787, 0.18106953407414228, 0.14899557413257383, 4.159979423868313, 3.4441349506378174], [10, 0.19928322330736079, 0.18231567833272536, 0.1818999364293109, 0.14904488848786754, 4.038065843621399, 3.4084980487823486], [11, 0.18825337100158362, 0.18762868563365379, 0.17947363363626304, 0.14564942034658948, 3.9825102880658436, 3.5426061153411865], [12, 0.19770797519904132, 0.1786841306691568, 0.17908680622124892, 0.14666388782676418, 4.084362139917696, 3.4294281005859375], [13, 0.1977677221377213, 0.18215481762120164, 0.18098170099094998, 0.14828184976936185, 4.052469135802469, 3.4228475093841553], [14, 0.19507071751377586, 0.1836352159997151, 0.18042706125734026, 0.14709650762973223, 4.027263374485597, 3.4469594955444336], [15, 0.1849737723671411, 0.1898473942500204, 0.17843439078003512, 0.14469857718373952, 3.9830246913580245, 3.5043044090270996], [16, 0.1963645057623334, 0.181410745406443, 0.17941896585279185, 0.1471052294426479, 4.104938271604938, 3.4702541828155518], [17, 0.1917625918988204, 0.18374455539710968, 0.17821571828836869, 0.14519491016772795, 4.1265432098765435, 3.556159257888794], [18, 0.1932783395177707, 0.1828965001147147, 0.17881645021206932, 0.14588332433136633, 4.109567901234568, 3.5350561141967773], [19, 0.19416253854746846, 0.1825681343712584, 0.1787900303466306, 0.14562007231032284, 4.1234567901234565, 3.5212090015411377], [20, 0.19799455382753123, 0.17883422720597336, 0.17865292417322884, 0.1460610647770143, 4.175411522633745, 3.5155677795410156], [21, 0.2061854261486715, 0.1731699327122424, 0.17923187384212189, 0.14760305897194753, 4.391460905349795, 3.6343019008636475], [22, 0.1969919424789465, 0.18131965267848985, 0.1793575185541987, 0.14642907264680743, 4.1800411522633745, 3.560177803039551], [23, 0.19381559161237524, 0.18320935645917355, 0.17868282617498762, 0.1457297901350836, 4.174897119341564, 3.5820069313049316]]\n",
      "-----------------------------------------------------------------------------------------\n"
     ]
    },
    {
     "name": "stderr",
     "output_type": "stream",
     "text": [
      "  0%|          | 1/1948 [00:02<1:23:28,  2.57s/it]"
     ]
    },
    {
     "name": "stdout",
     "output_type": "stream",
     "text": [
      "Epoch 24: 0%, loss: 2.617688\n"
     ]
    },
    {
     "name": "stderr",
     "output_type": "stream",
     "text": [
      "  5%|▌         | 101/1948 [04:19<1:23:57,  2.73s/it]"
     ]
    },
    {
     "name": "stdout",
     "output_type": "stream",
     "text": [
      "Epoch 24: 5%, loss: 5.641687\n"
     ]
    },
    {
     "name": "stderr",
     "output_type": "stream",
     "text": [
      " 10%|█         | 201/1948 [08:35<1:12:13,  2.48s/it]"
     ]
    },
    {
     "name": "stdout",
     "output_type": "stream",
     "text": [
      "Epoch 24: 10%, loss: 2.307903\n"
     ]
    },
    {
     "name": "stderr",
     "output_type": "stream",
     "text": [
      " 15%|█▌        | 301/1948 [12:52<1:12:24,  2.64s/it]"
     ]
    },
    {
     "name": "stdout",
     "output_type": "stream",
     "text": [
      "Epoch 24: 15%, loss: 3.844766\n"
     ]
    },
    {
     "name": "stderr",
     "output_type": "stream",
     "text": [
      " 21%|██        | 401/1948 [17:00<1:08:39,  2.66s/it]"
     ]
    },
    {
     "name": "stdout",
     "output_type": "stream",
     "text": [
      "Epoch 24: 21%, loss: 1.212611\n"
     ]
    },
    {
     "name": "stderr",
     "output_type": "stream",
     "text": [
      " 26%|██▌       | 501/1948 [21:11<1:00:25,  2.51s/it]"
     ]
    },
    {
     "name": "stdout",
     "output_type": "stream",
     "text": [
      "Epoch 24: 26%, loss: 5.364569\n"
     ]
    },
    {
     "name": "stderr",
     "output_type": "stream",
     "text": [
      " 31%|███       | 601/1948 [25:31<57:24,  2.56s/it]  "
     ]
    },
    {
     "name": "stdout",
     "output_type": "stream",
     "text": [
      "Epoch 24: 31%, loss: 1.946843\n"
     ]
    },
    {
     "name": "stderr",
     "output_type": "stream",
     "text": [
      " 36%|███▌      | 701/1948 [29:53<52:14,  2.51s/it]  "
     ]
    },
    {
     "name": "stdout",
     "output_type": "stream",
     "text": [
      "Epoch 24: 36%, loss: 1.102054\n"
     ]
    },
    {
     "name": "stderr",
     "output_type": "stream",
     "text": [
      " 41%|████      | 801/1948 [34:20<50:24,  2.64s/it]"
     ]
    },
    {
     "name": "stdout",
     "output_type": "stream",
     "text": [
      "Epoch 24: 41%, loss: 1.556103\n"
     ]
    },
    {
     "name": "stderr",
     "output_type": "stream",
     "text": [
      " 46%|████▋     | 901/1948 [38:52<45:21,  2.60s/it]"
     ]
    },
    {
     "name": "stdout",
     "output_type": "stream",
     "text": [
      "Epoch 24: 46%, loss: 2.215782\n"
     ]
    },
    {
     "name": "stderr",
     "output_type": "stream",
     "text": [
      " 51%|█████▏    | 1001/1948 [43:17<40:35,  2.57s/it]"
     ]
    },
    {
     "name": "stdout",
     "output_type": "stream",
     "text": [
      "Epoch 24: 51%, loss: 6.052977\n"
     ]
    },
    {
     "name": "stderr",
     "output_type": "stream",
     "text": [
      " 57%|█████▋    | 1101/1948 [47:43<36:58,  2.62s/it]"
     ]
    },
    {
     "name": "stdout",
     "output_type": "stream",
     "text": [
      "Epoch 24: 56%, loss: 1.720994\n"
     ]
    },
    {
     "name": "stderr",
     "output_type": "stream",
     "text": [
      " 62%|██████▏   | 1201/1948 [52:11<33:38,  2.70s/it]"
     ]
    },
    {
     "name": "stdout",
     "output_type": "stream",
     "text": [
      "Epoch 24: 62%, loss: 2.664204\n"
     ]
    },
    {
     "name": "stderr",
     "output_type": "stream",
     "text": [
      " 67%|██████▋   | 1301/1948 [56:37<27:58,  2.59s/it]"
     ]
    },
    {
     "name": "stdout",
     "output_type": "stream",
     "text": [
      "Epoch 24: 67%, loss: 2.467475\n"
     ]
    },
    {
     "name": "stderr",
     "output_type": "stream",
     "text": [
      " 72%|███████▏  | 1401/1948 [1:01:04<24:18,  2.67s/it]"
     ]
    },
    {
     "name": "stdout",
     "output_type": "stream",
     "text": [
      "Epoch 24: 72%, loss: 1.306351\n"
     ]
    },
    {
     "name": "stderr",
     "output_type": "stream",
     "text": [
      " 77%|███████▋  | 1501/1948 [1:05:34<20:16,  2.72s/it]"
     ]
    },
    {
     "name": "stdout",
     "output_type": "stream",
     "text": [
      "Epoch 24: 77%, loss: 3.090527\n"
     ]
    },
    {
     "name": "stderr",
     "output_type": "stream",
     "text": [
      " 82%|████████▏ | 1601/1948 [1:10:08<15:28,  2.68s/it]"
     ]
    },
    {
     "name": "stdout",
     "output_type": "stream",
     "text": [
      "Epoch 24: 82%, loss: 2.605198\n"
     ]
    },
    {
     "name": "stderr",
     "output_type": "stream",
     "text": [
      " 87%|████████▋ | 1701/1948 [1:14:37<10:48,  2.63s/it]"
     ]
    },
    {
     "name": "stdout",
     "output_type": "stream",
     "text": [
      "Epoch 24: 87%, loss: 1.626114\n"
     ]
    },
    {
     "name": "stderr",
     "output_type": "stream",
     "text": [
      " 92%|█████████▏| 1800/1948 [1:19:03<07:02,  2.85s/it]"
     ]
    },
    {
     "name": "stdout",
     "output_type": "stream",
     "text": [
      "Epoch 24: 92%, loss: 1.786925\n"
     ]
    },
    {
     "name": "stderr",
     "output_type": "stream",
     "text": [
      " 98%|█████████▊| 1900/1948 [1:23:35<02:05,  2.62s/it]"
     ]
    },
    {
     "name": "stdout",
     "output_type": "stream",
     "text": [
      "Epoch 24: 98%, loss: 1.878894\n"
     ]
    },
    {
     "name": "stderr",
     "output_type": "stream",
     "text": [
      "100%|█████████▉| 1947/1948 [1:25:44<00:02,  2.56s/it]"
     ]
    },
    {
     "name": "stdout",
     "output_type": "stream",
     "text": [
      "Epoch 24: 100%, loss: 2.440654\n"
     ]
    },
    {
     "name": "stderr",
     "output_type": "stream",
     "text": [
      "100%|██████████| 1948/1948 [1:25:47<00:00,  2.64s/it]\n"
     ]
    },
    {
     "name": "stdout",
     "output_type": "stream",
     "text": [
      "                      (F1-score: 0.2226, Precision: 0.2251, Recall: 0.2400)\n",
      "\n",
      "                      (NDCG: 0.1813)\n",
      "\n",
      "                      (MAE: 3.6788)\n",
      "\n",
      "train_loss= tensor(2.8968)\n",
      "--------------------\n"
     ]
    },
    {
     "name": "stderr",
     "output_type": "stream",
     "text": [
      "100%|██████████| 243/243 [09:30<00:00,  2.35s/it]\n"
     ]
    },
    {
     "name": "stdout",
     "output_type": "stream",
     "text": [
      "                      (F1-score: 0.1869, Precision: 0.1899, Recall: 0.2055)\n",
      "\n",
      "                      (NDCG: 0.1486)\n",
      "\n",
      "                      (MAE: 4.2294)\n",
      "\n",
      "val_loss= tensor(3.3840)\n",
      "--------------------\n"
     ]
    },
    {
     "name": "stderr",
     "output_type": "stream",
     "text": [
      "100%|██████████| 243/243 [09:31<00:00,  2.35s/it]\n"
     ]
    },
    {
     "name": "stdout",
     "output_type": "stream",
     "text": [
      "                      (F1-score: 0.1789, Precision: 0.1824, Recall: 0.1960)\n",
      "\n",
      "                      (NDCG: 0.1457)\n",
      "\n",
      "                      (MAE: 4.2269)\n",
      "\n",
      "--------------------\n",
      "[[1, 0.15102508494598663, 0.13901183503223896, 0.13685931463818005, 0.10857080521709726, 4.33179012345679, 3.7877731323242188], [2, 0.17197909126721891, 0.1677208317567045, 0.16141612701950495, 0.12588838700573018, 4.154835390946502, 3.695448875427246], [3, 0.18403894983959188, 0.1775252902257438, 0.17209818455548395, 0.13573104499670613, 4.068930041152264, 3.560631275177002], [4, 0.19935734535422858, 0.18003952682213079, 0.18008292574950455, 0.14469110961321266, 4.167695473251029, 3.544600486755371], [5, 0.2050243005619127, 0.1780420862385157, 0.18210172856100093, 0.14937120064979978, 4.17335390946502, 3.462721586227417], [6, 0.19149365541363422, 0.19109275876505344, 0.1826502735226269, 0.14768747289649714, 4.004115226337449, 3.5485246181488037], [7, 0.2097481944994838, 0.17531216869337582, 0.18219340661188196, 0.14883438410494215, 4.304526748971194, 3.4884655475616455], [8, 0.21414556181524244, 0.16974517390788688, 0.1809597059468153, 0.14828424960942058, 4.601851851851852, 3.836853265762329], [9, 0.20529031247529914, 0.17597041469074787, 0.18106953407414228, 0.14899557413257383, 4.159979423868313, 3.4441349506378174], [10, 0.19928322330736079, 0.18231567833272536, 0.1818999364293109, 0.14904488848786754, 4.038065843621399, 3.4084980487823486], [11, 0.18825337100158362, 0.18762868563365379, 0.17947363363626304, 0.14564942034658948, 3.9825102880658436, 3.5426061153411865], [12, 0.19770797519904132, 0.1786841306691568, 0.17908680622124892, 0.14666388782676418, 4.084362139917696, 3.4294281005859375], [13, 0.1977677221377213, 0.18215481762120164, 0.18098170099094998, 0.14828184976936185, 4.052469135802469, 3.4228475093841553], [14, 0.19507071751377586, 0.1836352159997151, 0.18042706125734026, 0.14709650762973223, 4.027263374485597, 3.4469594955444336], [15, 0.1849737723671411, 0.1898473942500204, 0.17843439078003512, 0.14469857718373952, 3.9830246913580245, 3.5043044090270996], [16, 0.1963645057623334, 0.181410745406443, 0.17941896585279185, 0.1471052294426479, 4.104938271604938, 3.4702541828155518], [17, 0.1917625918988204, 0.18374455539710968, 0.17821571828836869, 0.14519491016772795, 4.1265432098765435, 3.556159257888794], [18, 0.1932783395177707, 0.1828965001147147, 0.17881645021206932, 0.14588332433136633, 4.109567901234568, 3.5350561141967773], [19, 0.19416253854746846, 0.1825681343712584, 0.1787900303466306, 0.14562007231032284, 4.1234567901234565, 3.5212090015411377], [20, 0.19799455382753123, 0.17883422720597336, 0.17865292417322884, 0.1460610647770143, 4.175411522633745, 3.5155677795410156], [21, 0.2061854261486715, 0.1731699327122424, 0.17923187384212189, 0.14760305897194753, 4.391460905349795, 3.6343019008636475], [22, 0.1969919424789465, 0.18131965267848985, 0.1793575185541987, 0.14642907264680743, 4.1800411522633745, 3.560177803039551], [23, 0.19381559161237524, 0.18320935645917355, 0.17868282617498762, 0.1457297901350836, 4.174897119341564, 3.5820069313049316], [24, 0.19599545582677486, 0.18235946206634807, 0.17888506062925055, 0.14572402843946797, 4.226851851851852, 3.604853868484497]]\n",
      "-----------------------------------------------------------------------------------------\n"
     ]
    },
    {
     "name": "stderr",
     "output_type": "stream",
     "text": [
      "  0%|          | 1/1948 [00:02<1:13:54,  2.28s/it]"
     ]
    },
    {
     "name": "stdout",
     "output_type": "stream",
     "text": [
      "Epoch 25: 0%, loss: 1.378209\n"
     ]
    },
    {
     "name": "stderr",
     "output_type": "stream",
     "text": [
      "  5%|▌         | 101/1948 [04:18<1:15:30,  2.45s/it]"
     ]
    },
    {
     "name": "stdout",
     "output_type": "stream",
     "text": [
      "Epoch 25: 5%, loss: 1.559473\n"
     ]
    },
    {
     "name": "stderr",
     "output_type": "stream",
     "text": [
      " 10%|█         | 201/1948 [08:33<1:11:27,  2.45s/it]"
     ]
    },
    {
     "name": "stdout",
     "output_type": "stream",
     "text": [
      "Epoch 25: 10%, loss: 3.004433\n"
     ]
    },
    {
     "name": "stderr",
     "output_type": "stream",
     "text": [
      " 15%|█▌        | 301/1948 [12:50<1:11:26,  2.60s/it]"
     ]
    },
    {
     "name": "stdout",
     "output_type": "stream",
     "text": [
      "Epoch 25: 15%, loss: 1.408008\n"
     ]
    },
    {
     "name": "stderr",
     "output_type": "stream",
     "text": [
      " 21%|██        | 401/1948 [17:08<1:04:50,  2.51s/it]"
     ]
    },
    {
     "name": "stdout",
     "output_type": "stream",
     "text": [
      "Epoch 25: 21%, loss: 4.574428\n"
     ]
    },
    {
     "name": "stderr",
     "output_type": "stream",
     "text": [
      " 26%|██▌       | 501/1948 [21:27<1:06:00,  2.74s/it]"
     ]
    },
    {
     "name": "stdout",
     "output_type": "stream",
     "text": [
      "Epoch 25: 26%, loss: 4.501745\n"
     ]
    },
    {
     "name": "stderr",
     "output_type": "stream",
     "text": [
      " 31%|███       | 601/1948 [25:48<58:36,  2.61s/it]  "
     ]
    },
    {
     "name": "stdout",
     "output_type": "stream",
     "text": [
      "Epoch 25: 31%, loss: 1.262431\n"
     ]
    },
    {
     "name": "stderr",
     "output_type": "stream",
     "text": [
      " 36%|███▌      | 701/1948 [30:04<53:21,  2.57s/it]  "
     ]
    },
    {
     "name": "stdout",
     "output_type": "stream",
     "text": [
      "Epoch 25: 36%, loss: 1.803278\n"
     ]
    },
    {
     "name": "stderr",
     "output_type": "stream",
     "text": [
      " 41%|████      | 801/1948 [34:20<49:43,  2.60s/it]"
     ]
    },
    {
     "name": "stdout",
     "output_type": "stream",
     "text": [
      "Epoch 25: 41%, loss: 1.209520\n"
     ]
    },
    {
     "name": "stderr",
     "output_type": "stream",
     "text": [
      " 46%|████▋     | 901/1948 [38:40<42:28,  2.43s/it]"
     ]
    },
    {
     "name": "stdout",
     "output_type": "stream",
     "text": [
      "Epoch 25: 46%, loss: 6.767498\n"
     ]
    },
    {
     "name": "stderr",
     "output_type": "stream",
     "text": [
      " 51%|█████▏    | 1001/1948 [43:03<41:59,  2.66s/it]"
     ]
    },
    {
     "name": "stdout",
     "output_type": "stream",
     "text": [
      "Epoch 25: 51%, loss: 2.663086\n"
     ]
    },
    {
     "name": "stderr",
     "output_type": "stream",
     "text": [
      " 57%|█████▋    | 1101/1948 [47:30<37:42,  2.67s/it]"
     ]
    },
    {
     "name": "stdout",
     "output_type": "stream",
     "text": [
      "Epoch 25: 56%, loss: 1.301740\n"
     ]
    },
    {
     "name": "stderr",
     "output_type": "stream",
     "text": [
      " 62%|██████▏   | 1201/1948 [51:59<33:10,  2.67s/it]"
     ]
    },
    {
     "name": "stdout",
     "output_type": "stream",
     "text": [
      "Epoch 25: 62%, loss: 2.781055\n"
     ]
    },
    {
     "name": "stderr",
     "output_type": "stream",
     "text": [
      " 67%|██████▋   | 1301/1948 [56:27<30:42,  2.85s/it]"
     ]
    },
    {
     "name": "stdout",
     "output_type": "stream",
     "text": [
      "Epoch 25: 67%, loss: 1.555332\n"
     ]
    },
    {
     "name": "stderr",
     "output_type": "stream",
     "text": [
      " 72%|███████▏  | 1401/1948 [1:00:52<25:30,  2.80s/it]"
     ]
    },
    {
     "name": "stdout",
     "output_type": "stream",
     "text": [
      "Epoch 25: 72%, loss: 1.390024\n"
     ]
    },
    {
     "name": "stderr",
     "output_type": "stream",
     "text": [
      " 77%|███████▋  | 1501/1948 [1:05:16<20:07,  2.70s/it]"
     ]
    },
    {
     "name": "stdout",
     "output_type": "stream",
     "text": [
      "Epoch 25: 77%, loss: 1.032208\n"
     ]
    },
    {
     "name": "stderr",
     "output_type": "stream",
     "text": [
      " 82%|████████▏ | 1601/1948 [1:09:48<16:36,  2.87s/it]"
     ]
    },
    {
     "name": "stdout",
     "output_type": "stream",
     "text": [
      "Epoch 25: 82%, loss: 2.136577\n"
     ]
    },
    {
     "name": "stderr",
     "output_type": "stream",
     "text": [
      " 87%|████████▋ | 1701/1948 [1:14:22<11:31,  2.80s/it]"
     ]
    },
    {
     "name": "stdout",
     "output_type": "stream",
     "text": [
      "Epoch 25: 87%, loss: 2.620093\n"
     ]
    },
    {
     "name": "stderr",
     "output_type": "stream",
     "text": [
      " 92%|█████████▏| 1801/1948 [1:18:57<07:14,  2.95s/it]"
     ]
    },
    {
     "name": "stdout",
     "output_type": "stream",
     "text": [
      "Epoch 25: 92%, loss: 1.597829\n"
     ]
    },
    {
     "name": "stderr",
     "output_type": "stream",
     "text": [
      " 98%|█████████▊| 1900/1948 [1:23:33<02:12,  2.76s/it]"
     ]
    },
    {
     "name": "stdout",
     "output_type": "stream",
     "text": [
      "Epoch 25: 98%, loss: 2.600872\n"
     ]
    },
    {
     "name": "stderr",
     "output_type": "stream",
     "text": [
      "100%|█████████▉| 1947/1948 [1:25:40<00:02,  2.70s/it]"
     ]
    },
    {
     "name": "stdout",
     "output_type": "stream",
     "text": [
      "Epoch 25: 100%, loss: 2.138829\n"
     ]
    },
    {
     "name": "stderr",
     "output_type": "stream",
     "text": [
      "100%|██████████| 1948/1948 [1:25:43<00:00,  2.64s/it]\n"
     ]
    },
    {
     "name": "stdout",
     "output_type": "stream",
     "text": [
      "                      (F1-score: 0.2220, Precision: 0.2246, Recall: 0.2393)\n",
      "\n",
      "                      (NDCG: 0.1812)\n",
      "\n",
      "                      (MAE: 3.6487)\n",
      "\n",
      "train_loss= tensor(2.8746)\n",
      "--------------------\n"
     ]
    },
    {
     "name": "stderr",
     "output_type": "stream",
     "text": [
      "100%|██████████| 243/243 [09:20<00:00,  2.31s/it]\n"
     ]
    },
    {
     "name": "stdout",
     "output_type": "stream",
     "text": [
      "                      (F1-score: 0.1863, Precision: 0.1864, Recall: 0.2078)\n",
      "\n",
      "                      (NDCG: 0.1490)\n",
      "\n",
      "                      (MAE: 4.2778)\n",
      "\n",
      "val_loss= tensor(3.4383)\n",
      "--------------------\n"
     ]
    },
    {
     "name": "stderr",
     "output_type": "stream",
     "text": [
      "100%|██████████| 243/243 [09:27<00:00,  2.34s/it]\n"
     ]
    },
    {
     "name": "stdout",
     "output_type": "stream",
     "text": [
      "                      (F1-score: 0.1795, Precision: 0.1803, Recall: 0.1992)\n",
      "\n",
      "                      (NDCG: 0.1463)\n",
      "\n",
      "                      (MAE: 4.2346)\n",
      "\n",
      "--------------------\n",
      "[[1, 0.15102508494598663, 0.13901183503223896, 0.13685931463818005, 0.10857080521709726, 4.33179012345679, 3.7877731323242188], [2, 0.17197909126721891, 0.1677208317567045, 0.16141612701950495, 0.12588838700573018, 4.154835390946502, 3.695448875427246], [3, 0.18403894983959188, 0.1775252902257438, 0.17209818455548395, 0.13573104499670613, 4.068930041152264, 3.560631275177002], [4, 0.19935734535422858, 0.18003952682213079, 0.18008292574950455, 0.14469110961321266, 4.167695473251029, 3.544600486755371], [5, 0.2050243005619127, 0.1780420862385157, 0.18210172856100093, 0.14937120064979978, 4.17335390946502, 3.462721586227417], [6, 0.19149365541363422, 0.19109275876505344, 0.1826502735226269, 0.14768747289649714, 4.004115226337449, 3.5485246181488037], [7, 0.2097481944994838, 0.17531216869337582, 0.18219340661188196, 0.14883438410494215, 4.304526748971194, 3.4884655475616455], [8, 0.21414556181524244, 0.16974517390788688, 0.1809597059468153, 0.14828424960942058, 4.601851851851852, 3.836853265762329], [9, 0.20529031247529914, 0.17597041469074787, 0.18106953407414228, 0.14899557413257383, 4.159979423868313, 3.4441349506378174], [10, 0.19928322330736079, 0.18231567833272536, 0.1818999364293109, 0.14904488848786754, 4.038065843621399, 3.4084980487823486], [11, 0.18825337100158362, 0.18762868563365379, 0.17947363363626304, 0.14564942034658948, 3.9825102880658436, 3.5426061153411865], [12, 0.19770797519904132, 0.1786841306691568, 0.17908680622124892, 0.14666388782676418, 4.084362139917696, 3.4294281005859375], [13, 0.1977677221377213, 0.18215481762120164, 0.18098170099094998, 0.14828184976936185, 4.052469135802469, 3.4228475093841553], [14, 0.19507071751377586, 0.1836352159997151, 0.18042706125734026, 0.14709650762973223, 4.027263374485597, 3.4469594955444336], [15, 0.1849737723671411, 0.1898473942500204, 0.17843439078003512, 0.14469857718373952, 3.9830246913580245, 3.5043044090270996], [16, 0.1963645057623334, 0.181410745406443, 0.17941896585279185, 0.1471052294426479, 4.104938271604938, 3.4702541828155518], [17, 0.1917625918988204, 0.18374455539710968, 0.17821571828836869, 0.14519491016772795, 4.1265432098765435, 3.556159257888794], [18, 0.1932783395177707, 0.1828965001147147, 0.17881645021206932, 0.14588332433136633, 4.109567901234568, 3.5350561141967773], [19, 0.19416253854746846, 0.1825681343712584, 0.1787900303466306, 0.14562007231032284, 4.1234567901234565, 3.5212090015411377], [20, 0.19799455382753123, 0.17883422720597336, 0.17865292417322884, 0.1460610647770143, 4.175411522633745, 3.5155677795410156], [21, 0.2061854261486715, 0.1731699327122424, 0.17923187384212189, 0.14760305897194753, 4.391460905349795, 3.6343019008636475], [22, 0.1969919424789465, 0.18131965267848985, 0.1793575185541987, 0.14642907264680743, 4.1800411522633745, 3.560177803039551], [23, 0.19381559161237524, 0.18320935645917355, 0.17868282617498762, 0.1457297901350836, 4.174897119341564, 3.5820069313049316], [24, 0.19599545582677486, 0.18235946206634807, 0.17888506062925055, 0.14572402843946797, 4.226851851851852, 3.604853868484497], [25, 0.19916520969649937, 0.18030139615344926, 0.17950961558289963, 0.1462600640722631, 4.234567901234568, 3.588705062866211]]\n",
      "-----------------------------------------------------------------------------------------\n"
     ]
    },
    {
     "data": {
      "text/html": [
       "<div>\n",
       "<style scoped>\n",
       "    .dataframe tbody tr th:only-of-type {\n",
       "        vertical-align: middle;\n",
       "    }\n",
       "\n",
       "    .dataframe tbody tr th {\n",
       "        vertical-align: top;\n",
       "    }\n",
       "\n",
       "    .dataframe thead th {\n",
       "        text-align: right;\n",
       "    }\n",
       "</style>\n",
       "<table border=\"1\" class=\"dataframe\">\n",
       "  <thead>\n",
       "    <tr style=\"text-align: right;\">\n",
       "      <th></th>\n",
       "      <th>Epoch</th>\n",
       "      <th>Recall</th>\n",
       "      <th>Precision</th>\n",
       "      <th>F1-score</th>\n",
       "      <th>NDCG</th>\n",
       "      <th>MAE</th>\n",
       "      <th>Loss</th>\n",
       "    </tr>\n",
       "  </thead>\n",
       "  <tbody>\n",
       "    <tr>\n",
       "      <th>0</th>\n",
       "      <td>1</td>\n",
       "      <td>0.151025</td>\n",
       "      <td>0.139012</td>\n",
       "      <td>0.136859</td>\n",
       "      <td>0.108571</td>\n",
       "      <td>4.331790</td>\n",
       "      <td>3.787773</td>\n",
       "    </tr>\n",
       "    <tr>\n",
       "      <th>1</th>\n",
       "      <td>2</td>\n",
       "      <td>0.171979</td>\n",
       "      <td>0.167721</td>\n",
       "      <td>0.161416</td>\n",
       "      <td>0.125888</td>\n",
       "      <td>4.154835</td>\n",
       "      <td>3.695449</td>\n",
       "    </tr>\n",
       "    <tr>\n",
       "      <th>2</th>\n",
       "      <td>3</td>\n",
       "      <td>0.184039</td>\n",
       "      <td>0.177525</td>\n",
       "      <td>0.172098</td>\n",
       "      <td>0.135731</td>\n",
       "      <td>4.068930</td>\n",
       "      <td>3.560631</td>\n",
       "    </tr>\n",
       "    <tr>\n",
       "      <th>3</th>\n",
       "      <td>4</td>\n",
       "      <td>0.199357</td>\n",
       "      <td>0.180040</td>\n",
       "      <td>0.180083</td>\n",
       "      <td>0.144691</td>\n",
       "      <td>4.167695</td>\n",
       "      <td>3.544600</td>\n",
       "    </tr>\n",
       "    <tr>\n",
       "      <th>4</th>\n",
       "      <td>5</td>\n",
       "      <td>0.205024</td>\n",
       "      <td>0.178042</td>\n",
       "      <td>0.182102</td>\n",
       "      <td>0.149371</td>\n",
       "      <td>4.173354</td>\n",
       "      <td>3.462722</td>\n",
       "    </tr>\n",
       "    <tr>\n",
       "      <th>5</th>\n",
       "      <td>6</td>\n",
       "      <td>0.191494</td>\n",
       "      <td>0.191093</td>\n",
       "      <td>0.182650</td>\n",
       "      <td>0.147687</td>\n",
       "      <td>4.004115</td>\n",
       "      <td>3.548525</td>\n",
       "    </tr>\n",
       "    <tr>\n",
       "      <th>6</th>\n",
       "      <td>7</td>\n",
       "      <td>0.209748</td>\n",
       "      <td>0.175312</td>\n",
       "      <td>0.182193</td>\n",
       "      <td>0.148834</td>\n",
       "      <td>4.304527</td>\n",
       "      <td>3.488466</td>\n",
       "    </tr>\n",
       "    <tr>\n",
       "      <th>7</th>\n",
       "      <td>8</td>\n",
       "      <td>0.214146</td>\n",
       "      <td>0.169745</td>\n",
       "      <td>0.180960</td>\n",
       "      <td>0.148284</td>\n",
       "      <td>4.601852</td>\n",
       "      <td>3.836853</td>\n",
       "    </tr>\n",
       "    <tr>\n",
       "      <th>8</th>\n",
       "      <td>9</td>\n",
       "      <td>0.205290</td>\n",
       "      <td>0.175970</td>\n",
       "      <td>0.181070</td>\n",
       "      <td>0.148996</td>\n",
       "      <td>4.159979</td>\n",
       "      <td>3.444135</td>\n",
       "    </tr>\n",
       "    <tr>\n",
       "      <th>9</th>\n",
       "      <td>10</td>\n",
       "      <td>0.199283</td>\n",
       "      <td>0.182316</td>\n",
       "      <td>0.181900</td>\n",
       "      <td>0.149045</td>\n",
       "      <td>4.038066</td>\n",
       "      <td>3.408498</td>\n",
       "    </tr>\n",
       "    <tr>\n",
       "      <th>10</th>\n",
       "      <td>11</td>\n",
       "      <td>0.188253</td>\n",
       "      <td>0.187629</td>\n",
       "      <td>0.179474</td>\n",
       "      <td>0.145649</td>\n",
       "      <td>3.982510</td>\n",
       "      <td>3.542606</td>\n",
       "    </tr>\n",
       "    <tr>\n",
       "      <th>11</th>\n",
       "      <td>12</td>\n",
       "      <td>0.197708</td>\n",
       "      <td>0.178684</td>\n",
       "      <td>0.179087</td>\n",
       "      <td>0.146664</td>\n",
       "      <td>4.084362</td>\n",
       "      <td>3.429428</td>\n",
       "    </tr>\n",
       "    <tr>\n",
       "      <th>12</th>\n",
       "      <td>13</td>\n",
       "      <td>0.197768</td>\n",
       "      <td>0.182155</td>\n",
       "      <td>0.180982</td>\n",
       "      <td>0.148282</td>\n",
       "      <td>4.052469</td>\n",
       "      <td>3.422848</td>\n",
       "    </tr>\n",
       "    <tr>\n",
       "      <th>13</th>\n",
       "      <td>14</td>\n",
       "      <td>0.195071</td>\n",
       "      <td>0.183635</td>\n",
       "      <td>0.180427</td>\n",
       "      <td>0.147097</td>\n",
       "      <td>4.027263</td>\n",
       "      <td>3.446959</td>\n",
       "    </tr>\n",
       "    <tr>\n",
       "      <th>14</th>\n",
       "      <td>15</td>\n",
       "      <td>0.184974</td>\n",
       "      <td>0.189847</td>\n",
       "      <td>0.178434</td>\n",
       "      <td>0.144699</td>\n",
       "      <td>3.983025</td>\n",
       "      <td>3.504304</td>\n",
       "    </tr>\n",
       "    <tr>\n",
       "      <th>15</th>\n",
       "      <td>16</td>\n",
       "      <td>0.196365</td>\n",
       "      <td>0.181411</td>\n",
       "      <td>0.179419</td>\n",
       "      <td>0.147105</td>\n",
       "      <td>4.104938</td>\n",
       "      <td>3.470254</td>\n",
       "    </tr>\n",
       "    <tr>\n",
       "      <th>16</th>\n",
       "      <td>17</td>\n",
       "      <td>0.191763</td>\n",
       "      <td>0.183745</td>\n",
       "      <td>0.178216</td>\n",
       "      <td>0.145195</td>\n",
       "      <td>4.126543</td>\n",
       "      <td>3.556159</td>\n",
       "    </tr>\n",
       "    <tr>\n",
       "      <th>17</th>\n",
       "      <td>18</td>\n",
       "      <td>0.193278</td>\n",
       "      <td>0.182897</td>\n",
       "      <td>0.178816</td>\n",
       "      <td>0.145883</td>\n",
       "      <td>4.109568</td>\n",
       "      <td>3.535056</td>\n",
       "    </tr>\n",
       "    <tr>\n",
       "      <th>18</th>\n",
       "      <td>19</td>\n",
       "      <td>0.194163</td>\n",
       "      <td>0.182568</td>\n",
       "      <td>0.178790</td>\n",
       "      <td>0.145620</td>\n",
       "      <td>4.123457</td>\n",
       "      <td>3.521209</td>\n",
       "    </tr>\n",
       "    <tr>\n",
       "      <th>19</th>\n",
       "      <td>20</td>\n",
       "      <td>0.197995</td>\n",
       "      <td>0.178834</td>\n",
       "      <td>0.178653</td>\n",
       "      <td>0.146061</td>\n",
       "      <td>4.175412</td>\n",
       "      <td>3.515568</td>\n",
       "    </tr>\n",
       "    <tr>\n",
       "      <th>20</th>\n",
       "      <td>21</td>\n",
       "      <td>0.206185</td>\n",
       "      <td>0.173170</td>\n",
       "      <td>0.179232</td>\n",
       "      <td>0.147603</td>\n",
       "      <td>4.391461</td>\n",
       "      <td>3.634302</td>\n",
       "    </tr>\n",
       "    <tr>\n",
       "      <th>21</th>\n",
       "      <td>22</td>\n",
       "      <td>0.196992</td>\n",
       "      <td>0.181320</td>\n",
       "      <td>0.179358</td>\n",
       "      <td>0.146429</td>\n",
       "      <td>4.180041</td>\n",
       "      <td>3.560178</td>\n",
       "    </tr>\n",
       "    <tr>\n",
       "      <th>22</th>\n",
       "      <td>23</td>\n",
       "      <td>0.193816</td>\n",
       "      <td>0.183209</td>\n",
       "      <td>0.178683</td>\n",
       "      <td>0.145730</td>\n",
       "      <td>4.174897</td>\n",
       "      <td>3.582007</td>\n",
       "    </tr>\n",
       "    <tr>\n",
       "      <th>23</th>\n",
       "      <td>24</td>\n",
       "      <td>0.195995</td>\n",
       "      <td>0.182359</td>\n",
       "      <td>0.178885</td>\n",
       "      <td>0.145724</td>\n",
       "      <td>4.226852</td>\n",
       "      <td>3.604854</td>\n",
       "    </tr>\n",
       "    <tr>\n",
       "      <th>24</th>\n",
       "      <td>25</td>\n",
       "      <td>0.199165</td>\n",
       "      <td>0.180301</td>\n",
       "      <td>0.179510</td>\n",
       "      <td>0.146260</td>\n",
       "      <td>4.234568</td>\n",
       "      <td>3.588705</td>\n",
       "    </tr>\n",
       "  </tbody>\n",
       "</table>\n",
       "</div>"
      ],
      "text/plain": [
       "    Epoch    Recall  Precision  F1-score      NDCG       MAE      Loss\n",
       "0       1  0.151025   0.139012  0.136859  0.108571  4.331790  3.787773\n",
       "1       2  0.171979   0.167721  0.161416  0.125888  4.154835  3.695449\n",
       "2       3  0.184039   0.177525  0.172098  0.135731  4.068930  3.560631\n",
       "3       4  0.199357   0.180040  0.180083  0.144691  4.167695  3.544600\n",
       "4       5  0.205024   0.178042  0.182102  0.149371  4.173354  3.462722\n",
       "5       6  0.191494   0.191093  0.182650  0.147687  4.004115  3.548525\n",
       "6       7  0.209748   0.175312  0.182193  0.148834  4.304527  3.488466\n",
       "7       8  0.214146   0.169745  0.180960  0.148284  4.601852  3.836853\n",
       "8       9  0.205290   0.175970  0.181070  0.148996  4.159979  3.444135\n",
       "9      10  0.199283   0.182316  0.181900  0.149045  4.038066  3.408498\n",
       "10     11  0.188253   0.187629  0.179474  0.145649  3.982510  3.542606\n",
       "11     12  0.197708   0.178684  0.179087  0.146664  4.084362  3.429428\n",
       "12     13  0.197768   0.182155  0.180982  0.148282  4.052469  3.422848\n",
       "13     14  0.195071   0.183635  0.180427  0.147097  4.027263  3.446959\n",
       "14     15  0.184974   0.189847  0.178434  0.144699  3.983025  3.504304\n",
       "15     16  0.196365   0.181411  0.179419  0.147105  4.104938  3.470254\n",
       "16     17  0.191763   0.183745  0.178216  0.145195  4.126543  3.556159\n",
       "17     18  0.193278   0.182897  0.178816  0.145883  4.109568  3.535056\n",
       "18     19  0.194163   0.182568  0.178790  0.145620  4.123457  3.521209\n",
       "19     20  0.197995   0.178834  0.178653  0.146061  4.175412  3.515568\n",
       "20     21  0.206185   0.173170  0.179232  0.147603  4.391461  3.634302\n",
       "21     22  0.196992   0.181320  0.179358  0.146429  4.180041  3.560178\n",
       "22     23  0.193816   0.183209  0.178683  0.145730  4.174897  3.582007\n",
       "23     24  0.195995   0.182359  0.178885  0.145724  4.226852  3.604854\n",
       "24     25  0.199165   0.180301  0.179510  0.146260  4.234568  3.588705"
      ]
     },
     "execution_count": 41,
     "metadata": {},
     "output_type": "execute_result"
    }
   ],
   "source": [
    "results = []\n",
    "\n",
    "for epoch in range(1, EPOCHS + 1):\n",
    "    train_loss = train_model()\n",
    "    print(\"train_loss=\", train_loss)\n",
    "    print(\"-\"*20)\n",
    "    val_loss = evaluate_model()\n",
    "    print(\"val_loss=\", val_loss)\n",
    "    print(\"-\"*20)\n",
    "    test_loss, recall_list, precision_list, f1_list, ndcg_list, mae_list = test_model()\n",
    "    print(\"-\"*20)\n",
    "    result = [epoch] + recall_list + precision_list + f1_list + ndcg_list + mae_list + [test_loss.item()]\n",
    "    results.append(result)\n",
    "    print(results)\n",
    "    print(\"-\"*89)\n",
    "    \n",
    "    collected = gc.collect()\n",
    "    torch.cuda.empty_cache()\n",
    "    \n",
    "record_df = pd.DataFrame(results, columns=[\"Epoch\", \"Recall\", \"Precision\", \"F1-score\", \"NDCG\", \"MAE\", \"Loss\"])\n",
    "\n",
    "result_folder = \"../result\"\n",
    "if not os.path.exists(result_folder):\n",
    "    os.mkdir(result_folder)\n",
    "record_df.to_csv(result_folder+f\"/{DATASET_NAME}_output.csv\", index=False)\n",
    "\n",
    "record_df\n"
   ]
  }
 ],
 "metadata": {
  "kernelspec": {
   "display_name": "Python 3 (ipykernel)",
   "language": "python",
   "name": "python3"
  },
  "language_info": {
   "codemirror_mode": {
    "name": "ipython",
    "version": 3
   },
   "file_extension": ".py",
   "mimetype": "text/x-python",
   "name": "python",
   "nbconvert_exporter": "python",
   "pygments_lexer": "ipython3",
   "version": "3.11.5"
  }
 },
 "nbformat": 4,
 "nbformat_minor": 5
}
