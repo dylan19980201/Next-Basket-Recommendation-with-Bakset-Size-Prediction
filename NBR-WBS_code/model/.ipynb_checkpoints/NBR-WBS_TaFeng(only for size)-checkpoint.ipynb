{
 "cells": [
  {
   "cell_type": "markdown",
   "id": "a246ddd9",
   "metadata": {},
   "source": [
    "# 下載套件"
   ]
  },
  {
   "cell_type": "code",
   "execution_count": 42,
   "id": "72209793",
   "metadata": {},
   "outputs": [],
   "source": [
    "import torch\n",
    "import torch.nn as nn\n",
    "from torch import nn, matmul, softmax\n",
    "from torch.nn.init import xavier_uniform_\n",
    "import torch.nn.functional as F\n",
    "import torch.nn.utils.rnn as rnn_utils\n",
    "from torch.autograd import Variable\n",
    "\n",
    "import numpy as np\n",
    "import pandas as pd\n",
    "import gensim\n",
    "from gensim.models import KeyedVectors\n",
    "import pickle\n",
    "import gzip \n",
    "import gc\n",
    "import random"
   ]
  },
  {
   "cell_type": "code",
   "execution_count": 43,
   "id": "e3db86c1",
   "metadata": {},
   "outputs": [],
   "source": [
    "from torch.utils.data import DataLoader, Dataset\n",
    "from torch.utils.data.dataset import random_split\n",
    "\n",
    "from tqdm import tqdm\n",
    "from collections import Counter\n",
    "\n",
    "import math"
   ]
  },
  {
   "cell_type": "markdown",
   "id": "d32d7025",
   "metadata": {},
   "source": [
    "# 參數設置"
   ]
  },
  {
   "cell_type": "code",
   "execution_count": 44,
   "id": "6da217e0",
   "metadata": {},
   "outputs": [],
   "source": [
    "# 超參數\n",
    "EPOCHS = 50\n",
    "LEARNING_RATE = 0.0001 #\n",
    "BATCH_SIZE = 8\n",
    "BETA = 0.5\n",
    "ALPHA = 0.01\n",
    "EMBEDDING_DIMENSION = 32                      # 嵌入維度\n",
    "MODEL_DIMENSION = EMBEDDING_DIMENSION         # 模型維度\n",
    "HIDDEN_DIMENSION = 128                        # NLP 隱藏層維度\n",
    "NUM_HEAD = 4\n",
    "NUM_LAYER = 4\n",
    "\n",
    "isI2V = 1        #1:使用Item2Vec     #0:不使用Item2Vec"
   ]
  },
  {
   "cell_type": "markdown",
   "id": "4283cbc8",
   "metadata": {},
   "source": [
    "# 匯入檔案\n",
    "- item2Vec_TaFeng.32d.model\n",
    "- TaFeng_user_cart_itemid_list.gz\n",
    "- Ta_feng_clean.csv"
   ]
  },
  {
   "cell_type": "code",
   "execution_count": 45,
   "id": "32520298",
   "metadata": {},
   "outputs": [
    {
     "data": {
      "text/plain": [
       "torch.Size([15764, 32])"
      ]
     },
     "execution_count": 45,
     "metadata": {},
     "output_type": "execute_result"
    }
   ],
   "source": [
    "# Load word2Vec pre_train model\n",
    "model_filename = f\"../preprocessing-data/item2vec_models/item2vec_TaFeng.{EMBEDDING_DIMENSION}d.model\"\n",
    "## TaFeng\n",
    "with open(model_filename, \"rb\") as fp:\n",
    "    model = pickle.load(fp)\n",
    "weights = torch.FloatTensor(model.wv.vectors)\n",
    "weights.shape"
   ]
  },
  {
   "cell_type": "code",
   "execution_count": 46,
   "id": "bbe80d00",
   "metadata": {
    "scrolled": true
   },
   "outputs": [
    {
     "data": {
      "text/plain": [
       "[(1113,\n",
       "  array([0., 1.]),\n",
       "  [[0, 1, 2], [3, 4, 5, 6, 7, 8], [9, 10, 11, 12, 13, 14, 15]],\n",
       "  [3, 6, 7]),\n",
       " (5241,\n",
       "  array([0.        , 0.70967742, 1.        ]),\n",
       "  [[16, 17, 18, 19, 20, 21],\n",
       "   [22, 23, 24, 25, 26, 27, 28, 29, 30, 31],\n",
       "   [32, 33, 34, 35, 36, 37, 38, 39, 40, 41, 42, 43, 44, 45, 46, 47],\n",
       "   [48, 49, 50, 51, 52]],\n",
       "  [6, 10, 16, 5])]"
      ]
     },
     "execution_count": 46,
     "metadata": {},
     "output_type": "execute_result"
    }
   ],
   "source": [
    "## TaFeng # TaFeng_user_cart_itemid_list # 用戶id, 購物籃時間差(不會使用到), 此用戶的購物籃串列(每個串列包含多筆項目)。\n",
    "with gzip.open(\"../preprocessing-data/TaFeng_user_cart_Itemid_list.gz\", \"rb\") as fp:\n",
    "    user_cart_itemid_list = pickle.load(fp)\n",
    "user_cart_itemid_list[:2]"
   ]
  },
  {
   "cell_type": "code",
   "execution_count": 47,
   "id": "361c43d7",
   "metadata": {},
   "outputs": [],
   "source": [
    "# Load TaFeng confidences_Matrix\n",
    "with gzip.open(\"../preprocessing-data/confidences/TaFeng_confidences_array.gz\", \"rb\") as fp:\n",
    "    TaFeng_confidences_array = pickle.load(fp)"
   ]
  },
  {
   "cell_type": "code",
   "execution_count": 48,
   "id": "b83d2fe8",
   "metadata": {},
   "outputs": [
    {
     "name": "stdout",
     "output_type": "stream",
     "text": [
      "72\n"
     ]
    },
    {
     "data": {
      "text/html": [
       "<div>\n",
       "<style scoped>\n",
       "    .dataframe tbody tr th:only-of-type {\n",
       "        vertical-align: middle;\n",
       "    }\n",
       "\n",
       "    .dataframe tbody tr th {\n",
       "        vertical-align: top;\n",
       "    }\n",
       "\n",
       "    .dataframe thead th {\n",
       "        text-align: right;\n",
       "    }\n",
       "</style>\n",
       "<table border=\"1\" class=\"dataframe\">\n",
       "  <thead>\n",
       "    <tr style=\"text-align: right;\">\n",
       "      <th></th>\n",
       "      <th>CUSTOMER_ID</th>\n",
       "      <th>PRODUCT_ID</th>\n",
       "      <th>TRANSACTION_DT</th>\n",
       "      <th>CART_ID</th>\n",
       "      <th>NEW_ITEM_ID</th>\n",
       "    </tr>\n",
       "  </thead>\n",
       "  <tbody>\n",
       "    <tr>\n",
       "      <th>0</th>\n",
       "      <td>1113</td>\n",
       "      <td>4902105011621</td>\n",
       "      <td>2000-11-26</td>\n",
       "      <td>0</td>\n",
       "      <td>0</td>\n",
       "    </tr>\n",
       "    <tr>\n",
       "      <th>1</th>\n",
       "      <td>1113</td>\n",
       "      <td>7616100830794</td>\n",
       "      <td>2000-11-26</td>\n",
       "      <td>0</td>\n",
       "      <td>1</td>\n",
       "    </tr>\n",
       "    <tr>\n",
       "      <th>2</th>\n",
       "      <td>1113</td>\n",
       "      <td>4710892632017</td>\n",
       "      <td>2000-11-26</td>\n",
       "      <td>0</td>\n",
       "      <td>2</td>\n",
       "    </tr>\n",
       "    <tr>\n",
       "      <th>3</th>\n",
       "      <td>1113</td>\n",
       "      <td>4710905340113</td>\n",
       "      <td>2000-11-27</td>\n",
       "      <td>1</td>\n",
       "      <td>3</td>\n",
       "    </tr>\n",
       "    <tr>\n",
       "      <th>4</th>\n",
       "      <td>1113</td>\n",
       "      <td>4717362901277</td>\n",
       "      <td>2000-11-27</td>\n",
       "      <td>1</td>\n",
       "      <td>4</td>\n",
       "    </tr>\n",
       "    <tr>\n",
       "      <th>...</th>\n",
       "      <td>...</td>\n",
       "      <td>...</td>\n",
       "      <td>...</td>\n",
       "      <td>...</td>\n",
       "      <td>...</td>\n",
       "    </tr>\n",
       "    <tr>\n",
       "      <th>533054</th>\n",
       "      <td>20002000</td>\n",
       "      <td>4710339772139</td>\n",
       "      <td>2001-01-20</td>\n",
       "      <td>62360</td>\n",
       "      <td>4546</td>\n",
       "    </tr>\n",
       "    <tr>\n",
       "      <th>533055</th>\n",
       "      <td>20002000</td>\n",
       "      <td>20513184</td>\n",
       "      <td>2001-01-20</td>\n",
       "      <td>62360</td>\n",
       "      <td>1351</td>\n",
       "    </tr>\n",
       "    <tr>\n",
       "      <th>533056</th>\n",
       "      <td>20002000</td>\n",
       "      <td>4714800731229</td>\n",
       "      <td>2001-01-20</td>\n",
       "      <td>62360</td>\n",
       "      <td>2946</td>\n",
       "    </tr>\n",
       "    <tr>\n",
       "      <th>533057</th>\n",
       "      <td>20002000</td>\n",
       "      <td>4714541091071</td>\n",
       "      <td>2001-01-20</td>\n",
       "      <td>62360</td>\n",
       "      <td>7382</td>\n",
       "    </tr>\n",
       "    <tr>\n",
       "      <th>533058</th>\n",
       "      <td>20002000</td>\n",
       "      <td>4710018008634</td>\n",
       "      <td>2001-01-20</td>\n",
       "      <td>62360</td>\n",
       "      <td>2629</td>\n",
       "    </tr>\n",
       "  </tbody>\n",
       "</table>\n",
       "<p>533059 rows × 5 columns</p>\n",
       "</div>"
      ],
      "text/plain": [
       "        CUSTOMER_ID     PRODUCT_ID TRANSACTION_DT  CART_ID  NEW_ITEM_ID\n",
       "0              1113  4902105011621     2000-11-26        0            0\n",
       "1              1113  7616100830794     2000-11-26        0            1\n",
       "2              1113  4710892632017     2000-11-26        0            2\n",
       "3              1113  4710905340113     2000-11-27        1            3\n",
       "4              1113  4717362901277     2000-11-27        1            4\n",
       "...             ...            ...            ...      ...          ...\n",
       "533054     20002000  4710339772139     2001-01-20    62360         4546\n",
       "533055     20002000       20513184     2001-01-20    62360         1351\n",
       "533056     20002000  4714800731229     2001-01-20    62360         2946\n",
       "533057     20002000  4714541091071     2001-01-20    62360         7382\n",
       "533058     20002000  4710018008634     2001-01-20    62360         2629\n",
       "\n",
       "[533059 rows x 5 columns]"
      ]
     },
     "execution_count": 48,
     "metadata": {},
     "output_type": "execute_result"
    }
   ],
   "source": [
    "# Ta Feng Dataset\n",
    "TaFeng = pd.read_csv(\"../cleaned_dataset/ta_feng_clean.csv\")\n",
    "\n",
    "# 最多購物籃數\n",
    "max_cart_count = TaFeng.groupby('CUSTOMER_ID')['CART_ID'].nunique().max()\n",
    "print(max_cart_count)\n",
    "\n",
    "TaFeng"
   ]
  },
  {
   "cell_type": "markdown",
   "id": "a0877d82",
   "metadata": {},
   "source": [
    "# 切分資料集\n",
    "- 分成輸入資料與標籤資料\n",
    "- 訓練集:驗證集:測試集 = 7:1:2"
   ]
  },
  {
   "cell_type": "code",
   "execution_count": 49,
   "id": "73e9cf41",
   "metadata": {},
   "outputs": [
    {
     "name": "stdout",
     "output_type": "stream",
     "text": [
      "7457\n",
      "1065\n",
      "2132\n"
     ]
    }
   ],
   "source": [
    "# 切分資料集\n",
    "train_set_size = int(len(user_cart_itemid_list) * 0.7)\n",
    "valid_set_size = int(len(user_cart_itemid_list) * 0.1)\n",
    "test_set_size = len(user_cart_itemid_list)-train_set_size-valid_set_size\n",
    "train_set, valid_set, test_set = random_split(user_cart_itemid_list, [train_set_size, valid_set_size, test_set_size])\n",
    "print(len(train_set))\n",
    "print(len(valid_set))\n",
    "print(len(test_set))"
   ]
  },
  {
   "cell_type": "code",
   "execution_count": 50,
   "id": "5edaa93d",
   "metadata": {},
   "outputs": [],
   "source": [
    "# 將切割好的資料集暫存起來\n",
    "\n",
    "# # 訓練集\n",
    "# filepath = \"../preprocessing-data/TaFeng_dataset/train_set.pkl\"\n",
    "# with open(filepath, \"wb\") as f:\n",
    "#     pickle.dump(train_set, f, pickle.HIGHEST_PROTOCOL)\n",
    "# # 驗證集\n",
    "# filepath = \"../preprocessing-data/TaFeng_dataset/valid_set.pkl\"\n",
    "# with open(filepath, \"wb\") as f:\n",
    "#     pickle.dump(valid_set, f, pickle.HIGHEST_PROTOCOL)\n",
    "# # 測試集\n",
    "# filepath = \"../preprocessing-data/TaFeng_dataset/test_set.pkl\"\n",
    "# with open(filepath, \"wb\") as f:\n",
    "#     pickle.dump(test_set, f, pickle.HIGHEST_PROTOCCOL)"
   ]
  },
  {
   "cell_type": "code",
   "execution_count": 51,
   "id": "b203d0c9",
   "metadata": {},
   "outputs": [],
   "source": [
    "# 讀取之前暫存的資料集\n",
    "\n",
    "# # 載入訓練、驗證、測試集\n",
    "# with open(\"../preprocessing-data/TaFeng_dataset/train_set.pkl\", \"rb\") as fp:\n",
    "#     train_set = pickle.load(fp)\n",
    "# with open(\"../preprocessing-data/TaFeng_dataset/valid_set.pkl\", \"rb\") as fp:\n",
    "#     valid_set = pickle.load(fp)\n",
    "# with open(\"../preprocessing-data/TaFeng_dataset/test_set.pkl\", \"rb\") as fp:\n",
    "#     test_set = pickle.load(fp)"
   ]
  },
  {
   "cell_type": "markdown",
   "id": "c9585447",
   "metadata": {},
   "source": [
    "# Batch"
   ]
  },
  {
   "cell_type": "code",
   "execution_count": 52,
   "id": "a209539b",
   "metadata": {
    "scrolled": true
   },
   "outputs": [
    {
     "data": {
      "text/plain": [
       "device(type='cuda')"
      ]
     },
     "execution_count": 52,
     "metadata": {},
     "output_type": "execute_result"
    }
   ],
   "source": [
    "device = torch.device(\"cuda\" if torch.cuda.is_available() else \"cpu\")\n",
    "device"
   ]
  },
  {
   "cell_type": "code",
   "execution_count": 53,
   "id": "b348e2b5",
   "metadata": {},
   "outputs": [],
   "source": [
    "# 定義資料轉換函數(於collate_batch函式中使用)\n",
    "item_index_pipeline = lambda x:[[model.wv.key_to_index[j] for j in i]for i in x] # 取得購物籃中，項目的索引值(只有使用Item2Vec時會需要)"
   ]
  },
  {
   "cell_type": "code",
   "execution_count": 54,
   "id": "92fb3dee",
   "metadata": {},
   "outputs": [],
   "source": [
    "class TensorDataset(Dataset):\n",
    "    # TensorDataset繼承Dataset, 重載__init__, __getitem__, __len__\n",
    "    # 實現將一組Tensor數據封裝成Tensor數據集\n",
    "    # 能夠通過index得到數據集的數據，能夠通過len，得到數據集大小\n",
    "    def __init__(self, data_tensor):\n",
    "        self.data_tensor = data_tensor\n",
    "    def __getitem__(self, index):\n",
    "        return self.data_tensor[index]\n",
    "    def __len__(self):\n",
    "        return len(self.data_tensor)\n",
    "\n",
    "def collate_batch(batch): # 輸出userID, input_list跟label(最後一個購物籃)\n",
    "    # 使用ID、時間差、訓練的購物籃項目、預測的購物籃項目\n",
    "    userID, input_list, label_list, input_size_list, label_size_list, offsets = [], [], [], [], [], [0]\n",
    "    for _user in batch:\n",
    "        userID.append(_user[0]) # userID\n",
    "        label_list.append(torch.tensor(_user[2][-1])) # 所有購物籃的項目ID串列中的最後一個購物籃項目ID\n",
    "        label_size_list.append(torch.tensor(_user[3][-1]))\n",
    "        \n",
    "        if isI2V == 0: # 不使用Item2Vec進行項目嵌入\n",
    "            train_list = _user[2][0:-1]\n",
    "        else: #　使用Item2Vec進行項目嵌入\n",
    "            train_list = item_index_pipeline(_user[2][0:-1])\n",
    "        input_size_list.append(_user[3][0:-1])\n",
    "        \n",
    "        input_list.append(train_list) # 所有購物籃的項目ID串列(除了最後一個購物籃)\n",
    "        offsets.append(len(train_list))\n",
    "    \n",
    "    return userID, input_list, label_list, input_size_list, label_size_list, offsets"
   ]
  },
  {
   "cell_type": "code",
   "execution_count": 55,
   "id": "f442f66a",
   "metadata": {},
   "outputs": [],
   "source": [
    "# 轉成 Dataset\n",
    "split_train_ = TensorDataset(train_set)\n",
    "split_valid_ = TensorDataset(valid_set)\n",
    "split_test_ = TensorDataset(test_set)"
   ]
  },
  {
   "cell_type": "code",
   "execution_count": 56,
   "id": "54fe7bc6",
   "metadata": {},
   "outputs": [],
   "source": [
    "# DataLoader \n",
    "train_dataloader = DataLoader(split_train_, batch_size=BATCH_SIZE, shuffle=True, collate_fn=collate_batch, drop_last=True)\n",
    "valid_dataloader = DataLoader(split_valid_, batch_size=BATCH_SIZE, shuffle=True, collate_fn=collate_batch, drop_last=True)\n",
    "test_dataloader = DataLoader(split_test_, batch_size=BATCH_SIZE, shuffle=True, collate_fn=collate_batch, drop_last=True)"
   ]
  },
  {
   "cell_type": "markdown",
   "id": "637657be",
   "metadata": {},
   "source": [
    "# Self-Attention"
   ]
  },
  {
   "cell_type": "code",
   "execution_count": 57,
   "id": "a96171ad",
   "metadata": {},
   "outputs": [],
   "source": [
    "# 使用nn.MultiheadAttention\n",
    "# 輸入一個用戶的一個購物籃，輸出購物籃嵌入\n",
    "class SelfAttention(nn.Module):\n",
    "    def __init__(self, embed_dim, model_dim): #項目向量維度，輸出模型的維度\n",
    "        super(SelfAttention, self).__init__()\n",
    "        self.embed_dim = embed_dim\n",
    "        self.model_dim = model_dim\n",
    "        \n",
    "        # 初始化Q, K, V 矩陣\n",
    "        self.query_matrix = nn.Linear(embed_dim, model_dim)\n",
    "        xavier_uniform_(self.query_matrix.weight)\n",
    "        self.key_matrix = nn.Linear(embed_dim, model_dim)\n",
    "        xavier_uniform_(self.key_matrix.weight)\n",
    "        self.value_matrix = nn.Linear(embed_dim, model_dim)\n",
    "        xavier_uniform_(self.value_matrix.weight)\n",
    "        self.multihead_attn = nn.MultiheadAttention(embed_dim, num_heads=1)\n",
    "        \n",
    "    def forward(self, inputs, attention_mask):\n",
    "        \n",
    "        # 輸入一個項目向量，透過三個可學習的參數矩陣，得到計算所需要的 q,k,v\n",
    "        q = self.query_matrix(inputs)\n",
    "        k = self.key_matrix(inputs)\n",
    "        v = self.value_matrix(inputs)\n",
    "        \n",
    "        attn_output, attn_output_weight = self.multihead_attn(q, k, v, key_padding_mask=attention_mask.transpose(0,1))\n",
    "        \n",
    "        output_mean = torch.tensor([[0 for _ in range(MODEL_DIMENSION)] for _ in range(len(attention_mask))], dtype=torch.float).to(device)\n",
    "        for i, cart in enumerate(attention_mask):\n",
    "            for j, mask in enumerate(cart):\n",
    "                if mask == False:\n",
    "                    output_mean[i] = attn_output[i][j] # 使用最後一個項目作為輸出\n",
    "        basket_embedding = output_mean\n",
    "        \n",
    "        return basket_embedding"
   ]
  },
  {
   "cell_type": "markdown",
   "id": "a3043def",
   "metadata": {},
   "source": [
    "   # Basket Size Encoder"
   ]
  },
  {
   "cell_type": "code",
   "execution_count": 58,
   "id": "3b8530b2",
   "metadata": {},
   "outputs": [],
   "source": [
    "class LinearTransformation(nn.Module):\n",
    "    def __init__(self, model_dim, input_dim:int=1):\n",
    "        super(LinearTransformation, self).__init__()\n",
    "        self.embed = torch.nn.Linear(input_dim, model_dim)\n",
    "        self.activate = nn.ReLU()\n",
    "        \n",
    "    def forward(self, inputs):\n",
    "        #print(inputs.type())\n",
    "        #output = torch.tensor([self.embed(basket_size) for basket_size in inputs], dtype=torch.float).to(device)\n",
    "         #print(output1)\n",
    "        #for basket_size in inputs:\n",
    "            #print(basket_size.type())\n",
    "            #basket_size = basket_size.to(torch.float)\n",
    "        output = torch.tensor([(self.embed(basket_size)).tolist() for basket_size in inputs], dtype=torch.float).to(device)\n",
    "        #print(output)\n",
    "        #print(output.type())\n",
    "        #output = self.embed(output1)\n",
    "        return self.activate(output)"
   ]
  },
  {
   "cell_type": "markdown",
   "id": "00cd99b7",
   "metadata": {},
   "source": [
    "# Transformer"
   ]
  },
  {
   "cell_type": "code",
   "execution_count": 59,
   "id": "bc0ed90c",
   "metadata": {},
   "outputs": [],
   "source": [
    "class PositionalEncoding(nn.Module):\n",
    "    def __init__(self, d_model:int, dropout, maxlen:int=500):\n",
    "        super(PositionalEncoding, self).__init__()\n",
    "        # den 是把10000^(2i/d_model)取log_e，前面加負號是求倒數\n",
    "        den = torch.exp(-torch.arange(0, d_model, 2) * math.log(10000) / d_model)\n",
    "        pos = torch.arange(0, maxlen).reshape(maxlen, 1)\n",
    "        pos_embedding = torch.zeros(maxlen, d_model)#.to(device)\n",
    "        pos_embedding[:, 0::2] = torch.sin(pos*den)\n",
    "        pos_embedding[:, 1::2] = torch.cos(pos*den)\n",
    "        \n",
    "        pos_embedding = pos_embedding.unsqueeze(0)\n",
    "        \n",
    "        self.dropout = nn.Dropout(dropout)\n",
    "        self.register_buffer(\"pos_embedding\", pos_embedding)\n",
    "        \n",
    "    def forward(self, token_embedding):\n",
    "        return self.dropout(token_embedding+ self.pos_embedding[:, :token_embedding.size(1), :])\n",
    "    \n",
    "class TransformerEncoder(nn.Module):\n",
    "    def __init__(self, d_model, num_heads=8, num_layers=6):\n",
    "        super(TransformerEncoder, self).__init__()\n",
    "        self.pe = PositionalEncoding(d_model=d_model, dropout=0.5, maxlen=max_cart_count*2)\n",
    "        # 創建 Transformer 模型\n",
    "        self.transformer = nn.TransformerEncoder(\n",
    "            nn.TransformerEncoderLayer(d_model=d_model, nhead=num_heads),\n",
    "            num_layers=num_layers\n",
    "        )\n",
    "    \n",
    "    def forward(self, baskets_embedding):\n",
    "        baskets_embedding_pe = self.pe(baskets_embedding)\n",
    "        \n",
    "        # 購物籃padding的遮罩\n",
    "        padding_mask = ~baskets_embedding.sum(dim=-1).ne(0).transpose(0,1)\n",
    "        \n",
    "        output = self.transformer(baskets_embedding_pe.to(torch.float32), src_key_padding_mask=padding_mask.to(torch.float32))\n",
    "        return output"
   ]
  },
  {
   "cell_type": "markdown",
   "id": "9cdd237c",
   "metadata": {},
   "source": [
    "# MLP層"
   ]
  },
  {
   "cell_type": "code",
   "execution_count": 60,
   "id": "e8fb5303",
   "metadata": {},
   "outputs": [],
   "source": [
    "class MLPLayer(nn.Module):\n",
    "    def __init__(self, embed_dim, hidden_dim, items_dim):\n",
    "        super(MLPLayer, self).__init__()\n",
    "        self.hidden = nn.Linear(embed_dim, hidden_dim) # 隱藏層\n",
    "        xavier_uniform_(self.hidden.weight)\n",
    "        self.norm = nn.BatchNorm1d(hidden_dim, momentum=0.03)\n",
    "        self.activate = nn.ReLU() # ?\n",
    "        self.output = nn.Linear(hidden_dim, items_dim) # 輸出層\n",
    "        \n",
    "    def forward(self, inputs):\n",
    "        y = self.activate(self.norm(self.hidden(inputs)))\n",
    "        return self.output(y)"
   ]
  },
  {
   "cell_type": "code",
   "execution_count": 61,
   "id": "b52aa95b",
   "metadata": {},
   "outputs": [],
   "source": [
    "class MLPLayerForSize(nn.Module):\n",
    "    def __init__(self, embed_dim, hidden_dim):\n",
    "        super(MLPLayerForSize, self).__init__()\n",
    "        self.hidden = nn.Linear(embed_dim, hidden_dim) #隱藏層\n",
    "        xavier_uniform_(self.hidden.weight)\n",
    "        self.norm = nn.BatchNorm1d(hidden_dim, momentum=0.03)\n",
    "        self.activate = nn.ReLU()\n",
    "        self.output = nn.Linear(hidden_dim, 1) # 輸出層\n",
    "        \n",
    "    def forward(self, inputs):\n",
    "        k = self.activate(self.norm(self.hidden(inputs)))\n",
    "        return self.activate(self.output(k))"
   ]
  },
  {
   "cell_type": "markdown",
   "id": "9afdd949",
   "metadata": {},
   "source": [
    "# 損失函數"
   ]
  },
  {
   "cell_type": "code",
   "execution_count": 62,
   "id": "9b8084b8",
   "metadata": {},
   "outputs": [],
   "source": [
    "# MSE\n",
    "def mean_square_error(predictions, target):\n",
    "    #print(\"target\", target)\n",
    "    targets = torch.tensor(target, dtype=torch.float32).unsqueeze(1).to(device)\n",
    "    #print(\"targets\", targets)\n",
    "    #print(\"prediction_size:\", predictions.size())\n",
    "    #print(\"targets_size:\", targets.size())\n",
    "    loss = F.mse_loss(predictions, targets)\n",
    "    #print(\"loss_size:\", loss.size())\n",
    "    #print(\"size_loss\", loss)\n",
    "    return loss"
   ]
  },
  {
   "cell_type": "code",
   "execution_count": 63,
   "id": "578a7e8b",
   "metadata": {},
   "outputs": [],
   "source": [
    "# cross_entropy_loss\n",
    "def cross_entropy_loss(predictions, targets):\n",
    "    # 創建稀疏張量的索引和值\n",
    "    indices = []\n",
    "    values = []\n",
    "    for i, t in enumerate(targets):\n",
    "        for v in t:\n",
    "            indices.append([i, v])\n",
    "            values.append(1)\n",
    "\n",
    "    # 創建稀疏張量\n",
    "    sparse_targets = torch.sparse_coo_tensor(indices=torch.tensor(indices).t(),\n",
    "                                             values=torch.tensor(values, dtype=torch.float16),\n",
    "                                             size=(len(targets), items_count), device=device)\n",
    "    sparse_targets = sparse_targets.to_dense()\n",
    "    \n",
    "    loss = F.binary_cross_entropy_with_logits(predictions, sparse_targets)\n",
    "    #print(\"entropy_size\", loss.size())\n",
    "    #print(\"entropy_loss\", loss)\n",
    "    return loss"
   ]
  },
  {
   "cell_type": "markdown",
   "id": "08aefe4a",
   "metadata": {},
   "source": [
    "# 評估指標"
   ]
  },
  {
   "cell_type": "code",
   "execution_count": 64,
   "id": "308ff8e9",
   "metadata": {},
   "outputs": [],
   "source": [
    "# def format_metric(result_dict):\n",
    "#     assert type(result_dict) == dict\n",
    "#     format_str = []\n",
    "#     metrics = np.unique([k.split('@')[0] for k in result_dict.keys()])\n",
    "#     topks = np.unique([int(k.split('@')[1]) for k in result_dict.keys()])\n",
    "#     for topk in np.sort(topks):\n",
    "#         for metric in np.sort(metrics):\n",
    "#             name = '{}@{}'.format(metric, topk)\n",
    "#             m = result_dict[name]           \n",
    "#             if type(m) is float or type(m) is float or type(m) is np.float32 or type(m) is np.float64:\n",
    "#                 format_str.append('{}: {:<.4f}'.format(name, m))\n",
    "#             elif type(m) is int or type(m) is int or type(m) is np.int32 or type(m) is np.int64:\n",
    "#                 format_str.append('{}: {}'.format(name, m))\n",
    "#     return ', '.join(format_str)"
   ]
  },
  {
   "cell_type": "code",
   "execution_count": 65,
   "id": "02891cdd",
   "metadata": {},
   "outputs": [],
   "source": [
    "def format_metric(result_dict):\n",
    "    assert type(result_dict) == dict\n",
    "    format_str = []\n",
    "    metrics = np.unique([k for k in result_dict.keys()])\n",
    "    #topks = np.unique([int(k.split('@')[1]) for k in result_dict.keys()])\n",
    "    #for topk in np.sort(topks):\n",
    "    for metric in np.sort(metrics):\n",
    "        name = '{}'.format(metric)\n",
    "        m = result_dict[name]\n",
    "        if type(m) is float or type(m) is float or type(m) is np.float32 or type(m) is np.float64:\n",
    "            format_str.append('{}: {:<.4f}'.format(name, m))\n",
    "        elif type(m) is int or type(m) is int or type(m) is np.int32 or type(m) is np.int64:\n",
    "            format_str.append('{}: {}'.format(name, m))\n",
    "    return ', '.join(format_str)"
   ]
  },
  {
   "cell_type": "markdown",
   "id": "b96a4cfe",
   "metadata": {},
   "source": [
    "## HR@K"
   ]
  },
  {
   "cell_type": "code",
   "execution_count": 66,
   "id": "ced1b599",
   "metadata": {},
   "outputs": [],
   "source": [
    "# def calculate_hr_at_k(predictions, labels_list, k_list):\n",
    "#     # 將預測機率矩陣轉換為 PyTorch 張量。\n",
    "#     predictions = torch.from_numpy(np.array(predictions, dtype=np.float32)).to(device)\n",
    "#     num_users = len(labels_list)\n",
    "#     evaluations = dict()\n",
    "#     for k in k_list:\n",
    "#         HR = []\n",
    "#         for i in range(num_users):\n",
    "#             # 將用戶 i 的真實標籤轉換為 PyTorch 張量。\n",
    "#             labels = torch.from_numpy(np.array(labels_list[i], dtype=np.int64)).to(device)\n",
    "#             # 計算用戶 i 在預測機率矩陣中機率最高的 K 個項目的索引。\n",
    "#             top_k_item_indices = torch.topk(predictions[i], k)[1]\n",
    "#             # 將用戶 i 在預測機率矩陣中機率最高的 K 個項目的索引和其真實標籤向量的交集，即為預測正確的項目數量。\n",
    "#             correct_num = torch.sum(torch.sum(torch.eq(top_k_item_indices, labels.unsqueeze(1)), dim=1))\n",
    "#             # 計算 HR。\n",
    "#             HR.append( correct_num.cpu()/len(labels) )\n",
    "#         # 計算 HR@K 分數。\n",
    "#         hr_at_k = np.mean(HR)\n",
    "#         key = '{}@{}'.format('HR',k)\n",
    "#         evaluations[key]=hr_at_k\n",
    "#     return evaluations"
   ]
  },
  {
   "cell_type": "markdown",
   "id": "fa92db9d",
   "metadata": {},
   "source": [
    "## F1-score"
   ]
  },
  {
   "cell_type": "code",
   "execution_count": 67,
   "id": "f7cca32b",
   "metadata": {},
   "outputs": [],
   "source": [
    "def calculate_f1_score_at_k(predictions, labels_list, k_list):\n",
    "    \"\"\"\n",
    "    計算 F1-score@K。\n",
    "\n",
    "    Args:\n",
    "        predictions: 二維的預測機率矩陣，大小為 [num_users, num_items]。\n",
    "        labels_list: 一個包含每個用戶真實標籤的列表，其中每個列表的大小不同。\n",
    "        k: 計算 F1-score@K 的 K 值。\n",
    "\n",
    "    Returns:\n",
    "        F1-score@K 分數。\n",
    "    \"\"\"\n",
    "    # 將預測機率矩陣轉換為 PyTorch 張量。\n",
    "    predictions = torch.from_numpy(np.array(predictions, dtype=np.float32))#.to('cuda')\n",
    "    num_users = len(labels_list)\n",
    "    f1_score_at_k_eval = dict()\n",
    "    \n",
    "    f1_score_sum = 0.0\n",
    "    for i in range(num_users):\n",
    "            # 將用戶 i 的真實標籤轉換為 PyTorch 張量。\n",
    "            labels = torch.from_numpy(np.array(labels_list[i], dtype=np.int64))#.to('cuda')\n",
    "            # 計算用戶 i 在預測機率矩陣中機率最高的 K 個項目的索引。\n",
    "            top_k_item_labels = torch.topk(predictions[i], k_list[i])[1]\n",
    "            # 計算用戶 i 的真實標籤和預測標籤的交集。 # TP\n",
    "            true_positives = torch.sum(torch.sum(torch.eq(top_k_item_labels, labels.unsqueeze(1)).to(torch.float32), dim=1)).item()\n",
    "            # 計算用戶 i 的真實標籤和預測標籤的並集。\n",
    "            predicted_positives = k_list[i] # TP+FP\n",
    "            actual_positives = len(labels) # TP+FN\n",
    "            if predicted_positives == 0:\n",
    "                precision = 0.0\n",
    "            else:\n",
    "                precision = true_positives / predicted_positives\n",
    "            if actual_positives == 0:\n",
    "                recall = 0.0\n",
    "            else:\n",
    "                recall = true_positives / actual_positives\n",
    "#                 print(\"true_positives=\", true_positives)\n",
    "#                 print(\"predicted_positives=\", predicted_positives)\n",
    "#                 print(\"actual_positives=\", actual_positives)\n",
    "#                 print(\"precision=\", precision)\n",
    "#                 print(\"recall=\", recall)\n",
    "            # 計算 F1-score。\n",
    "            if precision + recall == 0:\n",
    "                f1_score = 0.0\n",
    "            else:\n",
    "                f1_score = 2 * precision * recall / (precision + recall)\n",
    "            f1_score_sum += f1_score\n",
    "    # 計算平均 F1-score@K 分數。\n",
    "    f1_score_at_k = f1_score_sum / float(num_users)\n",
    "    key = '{}'.format('F1-score')\n",
    "    f1_score_at_k_eval[key]=f1_score_at_k\n",
    "        \n",
    "    return f1_score_at_k_eval"
   ]
  },
  {
   "cell_type": "code",
   "execution_count": 68,
   "id": "b303cb7e",
   "metadata": {},
   "outputs": [],
   "source": [
    "# def calculate_f1_score_at_k(predictions, labels_list, k):\n",
    "#     \"\"\"\n",
    "#     計算 F1-score@K。\n",
    "\n",
    "#     Args:\n",
    "#         predictions: 二維的預測機率矩陣，大小為 [num_users, num_items]。\n",
    "#         labels_list: 一個包含每個用戶真實標籤的列表，其中每個列表的大小不同。\n",
    "#         k: 計算 F1-score@K 的 K 值。\n",
    "\n",
    "#     Returns:\n",
    "#         F1-score@K 分數。\n",
    "#     \"\"\"\n",
    "#     # 將預測機率矩陣轉換為 PyTorch 張量。\n",
    "#     predictions = torch.from_numpy(np.array(predictions, dtype=np.float32))#.to('cuda')\n",
    "#     num_users = len(labels_list)\n",
    "#     f1_score_at_k_eval = dict()\n",
    "    \n",
    "\n",
    "#     f1_score_sum = 0.0\n",
    "#     for i in range(num_users):\n",
    "#             # 將用戶 i 的真實標籤轉換為 PyTorch 張量。\n",
    "#             labels = torch.from_numpy(np.array(labels_list[i], dtype=np.int64))#.to('cuda')\n",
    "#             # 計算用戶 i 在預測機率矩陣中機率最高的 K 個項目的索引。\n",
    "#             top_k_item_labels = torch.topk(predictions[i], k)[1]\n",
    "#             # 計算用戶 i 的真實標籤和預測標籤的交集。 # TP\n",
    "#             true_positives = torch.sum(torch.sum(torch.eq(top_k_item_labels, labels.unsqueeze(1)).to(torch.float32), dim=1)).item()\n",
    "#             # 計算用戶 i 的真實標籤和預測標籤的並集。\n",
    "#             predicted_positives = k # TP+FP\n",
    "#             actual_positives = len(labels) # TP+FN\n",
    "#             if actual_positives == 0:\n",
    "#                 precision = 0.0\n",
    "#                 recall = 0.0\n",
    "#             else:\n",
    "#                 precision = true_positives / predicted_positives\n",
    "#                 recall = true_positives / actual_positives\n",
    "#             # 計算 F1-score。\n",
    "#             if precision + recall == 0:\n",
    "#                 f1_score = 0.0\n",
    "#             else:\n",
    "#                 f1_score = 2 * precision * recall / (precision + recall)\n",
    "#             f1_score_sum += f1_score\n",
    "#     # 計算平均 F1-score@K 分數。\n",
    "#     f1_score_at_k = f1_score_sum / float(num_users)\n",
    "#     key = '{}'.format('F1-score')\n",
    "#     f1_score_at_k_eval[key]=f1_score_at_k\n",
    "        \n",
    "#     return f1_score_at_k_eval"
   ]
  },
  {
   "cell_type": "markdown",
   "id": "506ff404",
   "metadata": {},
   "source": [
    "## NDCG"
   ]
  },
  {
   "cell_type": "code",
   "execution_count": 69,
   "id": "4c566188",
   "metadata": {},
   "outputs": [],
   "source": [
    "# NDCG@K\n",
    "def calculate_ndcg_at_k(predictions, labels_list, k_list):\n",
    "    # 將預測機率矩陣轉換為 PyTorch 張量。\n",
    "    predictions = torch.from_numpy(np.array(predictions, dtype=np.float32))\n",
    "    num_users = len(labels_list)\n",
    "    ndcg_at_k_eval = dict()\n",
    "    \n",
    "    ndcg_sum = 0.0\n",
    "    for i in range(num_users):\n",
    "        # 將用戶 i 的真實標籤轉換為 PyTorch 張量。\n",
    "        labels = torch.from_numpy(np.array(labels_list[i], dtype=np.int64))\n",
    "        # 計算用戶 i 在預測機率矩陣中機率最高的 K 個項目的索引=標籤。\n",
    "        top_k_item_labels = torch.topk(predictions[i], k_list[i])[1]\n",
    "        # 計算 DCG@K。\n",
    "        dcg_at_k = torch.sum(torch.nan_to_num(torch.div(1.0, torch.log2(torch.arange(k_list[i], dtype=torch.float32) + 2))) * (torch.eq(top_k_item_labels, labels.unsqueeze(1)).to(torch.float32) ))  \n",
    "        # 計算 IDCG@K。\n",
    "        idcg_at_k = torch.sum(torch.nan_to_num(torch.div(1.0, torch.log2(torch.arange(min(k_list[i], len(labels)), dtype=torch.float32) + 2))))  \n",
    "        # 計算 NDCG@K。\n",
    "        ndcg_at_k = dcg_at_k / idcg_at_k\n",
    "        ndcg_sum += ndcg_at_k.item()\n",
    "    # 計算平均 NDCG@K 分數。\n",
    "    ndcg_at_k = ndcg_sum / float(num_users)\n",
    "    key = '{}'.format('NDCG')\n",
    "    ndcg_at_k_eval[key]=ndcg_at_k\n",
    "        \n",
    "\n",
    "    return ndcg_at_k_eval"
   ]
  },
  {
   "cell_type": "code",
   "execution_count": 70,
   "id": "497b6367",
   "metadata": {},
   "outputs": [],
   "source": [
    "# # NDCG@K\n",
    "# def calculate_ndcg_at_k(predictions, labels_list, k):\n",
    "#     # 將預測機率矩陣轉換為 PyTorch 張量。\n",
    "#     predictions = torch.from_numpy(np.array(predictions, dtype=np.float32))\n",
    "#     num_users = len(labels_list)\n",
    "#     ndcg_at_k_eval = dict()\n",
    "    \n",
    "#     ndcg_sum = 0.0\n",
    "#     for i in range(num_users):\n",
    "#         # 將用戶 i 的真實標籤轉換為 PyTorch 張量。\n",
    "#         labels = torch.from_numpy(np.array(labels_list[i], dtype=np.int64))\n",
    "#         # 計算用戶 i 在預測機率矩陣中機率最高的 K 個項目的索引=標籤。\n",
    "#         top_k_item_labels = torch.topk(predictions[i], k)[1]\n",
    "#         # 計算 DCG@K。\n",
    "#         dcg_at_k = torch.sum(torch.div(1.0, torch.log2(torch.arange(k, dtype=torch.float32) + 2)) * (torch.eq(top_k_item_labels, labels.unsqueeze(1)).to(torch.float32) ))\n",
    "#         # 計算 IDCG@K。\n",
    "#         #idcg_at_k = torch.sum(torch.div(1.0, torch.log2(torch.arange(min(k, len(labels)), dtype=torch.float32) + 2)))\n",
    "#         idcg_at_k = torch.sum(torch.div(1.0, torch.log2(torch.arange(len(labels), dtype=torch.float32) + 2)))\n",
    "#         # 計算 NDCG@K。\n",
    "#         ndcg_at_k = dcg_at_k / idcg_at_k\n",
    "#         ndcg_sum += ndcg_at_k.item()\n",
    "#     # 計算平均 NDCG@K 分數。\n",
    "#     ndcg_at_k = ndcg_sum / float(num_users)\n",
    "#     key = '{}'.format('NDCG')\n",
    "#     ndcg_at_k_eval[key]=ndcg_at_k\n",
    "        \n",
    "\n",
    "#     return ndcg_at_k_eval"
   ]
  },
  {
   "cell_type": "code",
   "execution_count": 71,
   "id": "4b4fe7dc",
   "metadata": {},
   "outputs": [],
   "source": [
    "def calculate_mae(k_list, labels_list):\n",
    "    sum = 0\n",
    "    num_users = len(k_list)\n",
    "    mae_eval = dict()\n",
    "    for i in range(num_users):\n",
    "        sum += abs(k_list[i] - (labels_list[i]).item())\n",
    "    key = '{}'.format('MAE')\n",
    "    mae_eval[key] = sum / num_users\n",
    "    return mae_eval"
   ]
  },
  {
   "cell_type": "markdown",
   "id": "458759fa",
   "metadata": {},
   "source": [
    "## MPR"
   ]
  },
  {
   "cell_type": "code",
   "execution_count": 72,
   "id": "9160a9fa",
   "metadata": {},
   "outputs": [],
   "source": [
    "# #MRR\n",
    "# def calculate_MRR(predictions, labels_list):\n",
    "#     reciprocal_ranks = []\n",
    "#     # 將預測機率矩陣轉換為 numpy 數組。\n",
    "#     predictions = np.array(predictions, dtype=np.float32)\n",
    "#     # 預先排序預測結果（降序）\n",
    "#     sorted_predictions = np.argsort(predictions)[:,::-1]\n",
    "#     # 遍歷每個查詢的預測結果與目標結果\n",
    "#     for pred, targets in zip(sorted_predictions, labels_list):\n",
    "#         # 將目標結果轉換為集合\n",
    "#         target_set = set(targets.numpy())\n",
    "#         # 尋找目標的排名\n",
    "#         rank = next((i + 1 for i, p in enumerate(pred) if p in target_set), 0)\n",
    "#         # 計算倒數排名\n",
    "#         reciprocal_rank = 1 / rank if rank > 0 else 0\n",
    "#         reciprocal_ranks.append(reciprocal_rank)\n",
    "#     # 計算 MRR\n",
    "#     mrr_score = sum(reciprocal_ranks) / len(reciprocal_ranks)\n",
    "#     return mrr_score"
   ]
  },
  {
   "cell_type": "markdown",
   "id": "be5f7b84",
   "metadata": {},
   "source": [
    "## MAP"
   ]
  },
  {
   "cell_type": "code",
   "execution_count": 73,
   "id": "074334ff",
   "metadata": {},
   "outputs": [],
   "source": [
    "# #MAP\n",
    "# def calculate_MAP(predictions, labels_list):\n",
    "#     average_precisions = []\n",
    "#     # 將預測機率矩陣轉換為 numpy 數組。\n",
    "#     predictions = np.array(predictions, dtype=np.float32)\n",
    "#     # 預先排序預測結果（降序）\n",
    "#     sorted_predictions = np.argsort(predictions)[:,::-1]\n",
    "#     # 遍歷每個查詢的預測結果與目標結果\n",
    "#     for pred, targets in zip(sorted_predictions, labels_list):\n",
    "#         # 將目標結果轉換為集合\n",
    "#         target_set = set(targets.numpy())\n",
    "#         # 計算查詢的精確度\n",
    "#         precision = []\n",
    "#         hits = 0\n",
    "#         for i, p in enumerate(pred):\n",
    "#             if p in target_set:\n",
    "#                 hits += 1\n",
    "#                 precision.append(hits / (i + 1))\n",
    "#         # 計算平均精確度\n",
    "#         if precision:\n",
    "#             average_precision = sum(precision) / len(precision)\n",
    "#             average_precisions.append(average_precision)\n",
    "#     # 計算 MAP\n",
    "#     map_score = sum(average_precisions) / len(average_precisions)\n",
    "#     return map_score"
   ]
  },
  {
   "cell_type": "markdown",
   "id": "213301db",
   "metadata": {},
   "source": [
    "# 訓練&測試"
   ]
  },
  {
   "cell_type": "code",
   "execution_count": 74,
   "id": "5d503206",
   "metadata": {},
   "outputs": [],
   "source": [
    "# 訓練模型\n",
    "def train_model():\n",
    "    my_model.train()\n",
    "    loss_list = []\n",
    "    \n",
    "    for batch_idx, (userID, basket_input, basket_label, size_input, size_label, offsets) in enumerate(tqdm(train_dataloader)):\n",
    "        optimizer.zero_grad()\n",
    "        basket_output, size_output, indices = my_model(basket_input, size_input, offsets[1:])\n",
    "        # 計算損失\n",
    "        loss = ALPHA * mean_square_error(size_output, size_label) + (1-ALPHA) * cross_entropy_loss(basket_output , basket_label)\n",
    "        loss_list.append(loss.item())\n",
    "        loss.backward()\n",
    "        optimizer.step()\n",
    "\n",
    "        if (batch_idx%100 == 0) or (batch_idx == len(train_dataloader)-1) :\n",
    "            percentage = (100. * batch_idx/len(train_dataloader))\n",
    "            print(f'Epoch {epoch}: {percentage:.0f}% , Loss: {loss.item():.6f}')\n",
    "\n",
    "        with torch.no_grad():\n",
    "            basket_output = torch.from_numpy(np.array(basket_output.cpu(), dtype=np.float32))\n",
    "            size_output = np.round(np.squeeze(np.array(size_output.cpu(), dtype=np.float32))).astype(int).tolist()\n",
    "            #print(\"size_output\", size_output)\n",
    "            if batch_idx==0:\n",
    "                basket_outputs = basket_output\n",
    "                labels_list = basket_label\n",
    "                size_list = size_output\n",
    "                size_labels_list = size_label\n",
    "            else:\n",
    "                basket_outputs = torch.cat( (basket_outputs, basket_output ),-2 )\n",
    "                labels_list = labels_list + basket_label\n",
    "                size_list = size_list+size_output\n",
    "                size_labels_list = size_labels_list + size_label\n",
    "#     print(\"basket_outputs.size()\", basket_outputs.size())\n",
    "#     print(\"len(labels_list)\", len(labels_list))\n",
    "#     print(\"len(labels_list[0])\", len(labels_list[0]))\n",
    "#     print(\"size_list\", len(size_list))\n",
    "#     print(\"size\", size_list)\n",
    "    with torch.no_grad():\n",
    "#         evaluations = calculate_hr_at_k(outputs, labels_list, [5,10,20,50])\n",
    "#         res_str = '(' + format_metric(evaluations) + ')'\n",
    "#         print(f\"                      {res_str}\\n\")\n",
    "\n",
    "        evaluations = calculate_f1_score_at_k(basket_outputs, labels_list, size_list) \n",
    "        res_str = '(' + format_metric(evaluations) + ')'\n",
    "        print(f\"                      {res_str}\\n\")\n",
    "\n",
    "        evaluations = calculate_ndcg_at_k(basket_outputs, labels_list, size_list) \n",
    "        res_str = '(' + format_metric(evaluations) + ')'\n",
    "        print(f\"                      {res_str}\\n\")\n",
    "        \n",
    "        evaluations = calculate_mae(size_list, size_labels_list)\n",
    "        res_str = '(' + format_metric(evaluations) + ')'\n",
    "        print(f\"                      {res_str}\\n\")\n",
    "        \n",
    "#         mrr_score = calculate_MRR( outputs, labels_list )\n",
    "#         print(f'MRR: {mrr_score}')\n",
    "#         map_score = calculate_MAP( outputs, labels_list )\n",
    "#         print(f'MAP: {map_score}')\n",
    "\n",
    "    return torch.mean(torch.tensor(loss_list))"
   ]
  },
  {
   "cell_type": "code",
   "execution_count": 75,
   "id": "b0799869",
   "metadata": {},
   "outputs": [],
   "source": [
    "# 驗證模型\n",
    "def evaluate_model():\n",
    "    my_model.eval()\n",
    "    loss_list = []\n",
    "    \n",
    "    for batch_idx, (userID, basket_input, basket_label, size_input, size_label, offsets) in enumerate(tqdm(valid_dataloader)):\n",
    "        basket_output, size_output, indices = my_model(basket_input, size_input, offsets[1:])\n",
    "        # 計算損失\n",
    "        loss = ALPHA * mean_square_error(size_output, size_label) + (1-ALPHA) * cross_entropy_loss(basket_output , basket_label) \n",
    "        loss_list.append(loss.item())\n",
    "        with torch.no_grad():\n",
    "            basket_output = torch.from_numpy(np.array(basket_output.cpu(), dtype=np.float32))\n",
    "            size_output = np.round(np.squeeze(np.array(size_output.cpu(), dtype=np.float32))).astype(int).tolist()\n",
    "            if batch_idx==0:\n",
    "                basket_outputs = basket_output\n",
    "                labels_list = basket_label\n",
    "                size_list = size_output\n",
    "                size_labels_list = size_label\n",
    "            else:\n",
    "                basket_outputs = torch.cat( (basket_outputs, basket_output ),-2 )\n",
    "                labels_list = labels_list + basket_label\n",
    "                size_list = size_list+size_output\n",
    "                size_labels_list = size_labels_list + size_label\n",
    "\n",
    "    with torch.no_grad():\n",
    "#         evaluations = calculate_hr_at_k(outputs, labels_list, size_list)\n",
    "#         hr_5_rec = evaluations['HR@5']\n",
    "#         res_str = '(' + format_metric(evaluations) + ')'\n",
    "#         print(f\"                      {res_str}\\n\")\n",
    "\n",
    "        evaluations = calculate_f1_score_at_k(basket_outputs, labels_list, size_list)\n",
    "        res_str = '(' + format_metric(evaluations) + ')'\n",
    "        print(f\"                      {res_str}\\n\")\n",
    "\n",
    "        evaluations = calculate_ndcg_at_k(basket_outputs, labels_list, size_list) \n",
    "        res_str = '(' + format_metric(evaluations) + ')'\n",
    "        print(f\"                      {res_str}\\n\")\n",
    "        \n",
    "        evaluations = calculate_mae(size_list, size_labels_list)\n",
    "        res_str = '(' + format_metric(evaluations) + ')'\n",
    "        print(f\"                      {res_str}\\n\")\n",
    "        \n",
    "#         mrr_score = calculate_MRR( outputs, labels_list )\n",
    "#         print(f'MRR: {mrr_score}')\n",
    "#         map_score = calculate_MAP( outputs, labels_list )\n",
    "#         print(f'MAP: {map_score}')\n",
    "\n",
    "    return torch.mean(torch.tensor(loss_list))"
   ]
  },
  {
   "cell_type": "code",
   "execution_count": 76,
   "id": "5e8d7319",
   "metadata": {},
   "outputs": [],
   "source": [
    "# 測試模型\n",
    "def test_model():\n",
    "    my_model.eval()\n",
    "    loss_list = []\n",
    "    \n",
    "    for batch_idx, (userID, basket_input, basket_label, size_input, size_label, offsets) in enumerate(tqdm(test_dataloader)):\n",
    "        basket_output, size_output, indices = my_model(basket_input, size_input, offsets[1:])\n",
    "        # 計算損失\n",
    "        loss = ALPHA * mean_square_error(size_output, size_label) + (1-ALPHA) * cross_entropy_loss(basket_output , basket_label)\n",
    "        loss_list.append(loss.item())\n",
    "        with torch.no_grad():\n",
    "            basket_output = torch.from_numpy(np.array(basket_output.cpu(), dtype=np.float32))\n",
    "            size_output = np.round(np.squeeze(np.array(size_output.cpu(), dtype=np.float32))).astype(int).tolist()\n",
    "            if batch_idx==0:\n",
    "                basket_outputs = basket_output\n",
    "                labels_list = basket_label\n",
    "                size_list = size_output\n",
    "                size_labels_list = size_label\n",
    "            else:\n",
    "                basket_outputs = torch.cat( (basket_outputs, basket_output ),-2 )\n",
    "                labels_list = labels_list + basket_label\n",
    "                size_list = size_list+size_output\n",
    "                size_labels_list = size_labels_list + size_label\n",
    "\n",
    "    with torch.no_grad():\n",
    "#         hr_evaluations = calculate_hr_at_k(outputs, labels_list, [5,10,20,50])\n",
    "#         hr_5_rec = hr_evaluations['HR@5']\n",
    "#         hr_10_rec = hr_evaluations['HR@10']\n",
    "#         hr_20_rec = hr_evaluations['HR@20']\n",
    "#         hr_50_rec = hr_evaluations['HR@50']\n",
    "#         hr_list = [hr_5_rec, hr_10_rec, hr_20_rec, hr_50_rec]\n",
    "#         res_str = '(' + format_metric(hr_evaluations) + ')'\n",
    "#         print(f\"                      {res_str}\\n\")\n",
    "\n",
    "        f1_evaluations = calculate_f1_score_at_k(basket_outputs, labels_list, size_list) \n",
    "#         f1_5_rec = f1_evaluations['F1-score@5']\n",
    "#         f1_10_rec = f1_evaluations['F1-score@10']\n",
    "#         f1_20_rec = f1_evaluations['F1-score@20']\n",
    "#         f1_50_rec = f1_evaluations['F1-score@50']\n",
    "        f1_list = [f1_evaluations]\n",
    "        res_str = '(' + format_metric(f1_evaluations) + ')'\n",
    "        print(f\"                      {res_str}\\n\")\n",
    "\n",
    "        ndcg_evaluations = calculate_ndcg_at_k(basket_outputs, labels_list, size_list)\n",
    "#         ndcg_5_rec = ndcg_evaluations['NDCG@5']\n",
    "#         ndcg_10_rec = ndcg_evaluations['NDCG@10']\n",
    "#         ndcg_20_rec = ndcg_evaluations['NDCG@20']\n",
    "#         ndcg_50_rec = ndcg_evaluations['NDCG@50']\n",
    "        ndcg_list = [ndcg_evaluations]\n",
    "        res_str = '(' + format_metric(ndcg_evaluations) + ')'\n",
    "        print(f\"                      {res_str}\\n\")\n",
    "        \n",
    "        mae_evaluations = calculate_mae(size_list, size_labels_list)\n",
    "        mae_list = [mae_evaluations]\n",
    "        res_str = '(' + format_metric(mae_evaluations) + ')'\n",
    "        print(f\"                      {res_str}\\n\")\n",
    "        \n",
    "#         mrr_score = calculate_MRR( outputs, labels_list )\n",
    "#         print(f'MRR: {mrr_score}')\n",
    "#         map_score = calculate_MAP( outputs, labels_list )\n",
    "#         print(f'MAP: {map_score}')\n",
    "\n",
    "    return torch.mean(torch.tensor(loss_list)),f1_list,ndcg_list, mae_list\n",
    "#    return torch.mean(torch.tensor(loss_list)),hr_5_rec,hr_list,f1_list,ndcg_list, mrr_score, map_score"
   ]
  },
  {
   "cell_type": "markdown",
   "id": "1abc8fbc",
   "metadata": {},
   "source": [
    "# 完整模型"
   ]
  },
  {
   "cell_type": "code",
   "execution_count": 77,
   "id": "5ad81bac",
   "metadata": {},
   "outputs": [
    {
     "name": "stdout",
     "output_type": "stream",
     "text": [
      "items_count= 15764\n",
      "tensor([1.7128e-03, 1.1418e-03, 2.4169e-02,  ..., 6.3436e-05, 6.3436e-05,\n",
      "        6.3436e-05], device='cuda:0', dtype=torch.float64)\n"
     ]
    }
   ],
   "source": [
    "# 項目總數\n",
    "items_count = TaFeng_confidences_array.shape[0]\n",
    "print(\"items_count=\",items_count)\n",
    "# 項目出現次數\n",
    "items_frq = Counter(TaFeng[\"NEW_ITEM_ID\"])\n",
    "# 計算每個項目出現的比例: items_frq/items_count\n",
    "item_weight = torch.tensor( np.array( list(items_frq.values()) )/items_count ).to(device)\n",
    "print(item_weight) # 按照new_item_id順序排列"
   ]
  },
  {
   "cell_type": "markdown",
   "id": "975d9e58",
   "metadata": {},
   "source": [
    "## 加上信賴度矩陣"
   ]
  },
  {
   "cell_type": "code",
   "execution_count": 78,
   "id": "5d571c57",
   "metadata": {},
   "outputs": [
    {
     "data": {
      "text/plain": [
       "tensor([[0.0000, 0.0370, 0.0370,  ..., 0.0000, 0.0000, 0.0000],\n",
       "        [0.0556, 0.0000, 0.0556,  ..., 0.0000, 0.0000, 0.0000],\n",
       "        [0.0026, 0.0026, 0.0000,  ..., 0.0000, 0.0000, 0.0000],\n",
       "        ...,\n",
       "        [0.0000, 0.0000, 0.0000,  ..., 0.0000, 0.0000, 0.0000],\n",
       "        [0.0000, 0.0000, 0.0000,  ..., 0.0000, 0.0000, 0.0000],\n",
       "        [0.0000, 0.0000, 0.0000,  ..., 0.0000, 0.0000, 0.0000]],\n",
       "       device='cuda:0', dtype=torch.float64)"
      ]
     },
     "execution_count": 78,
     "metadata": {},
     "output_type": "execute_result"
    }
   ],
   "source": [
    "# 信賴度矩陣\n",
    "confidences_array = torch.tensor(TaFeng_confidences_array,dtype=torch.float64).to(device)\n",
    "confidences_array"
   ]
  },
  {
   "cell_type": "code",
   "execution_count": 79,
   "id": "926dfc91",
   "metadata": {},
   "outputs": [],
   "source": [
    "def Interleave(tensor1, tensor2):\n",
    "    result = torch.stack((tensor1, tensor2), dim=1)\n",
    "    Interleave_tensor = torch.reshape(result, (-1, MODEL_DIMENSION))\n",
    "    #print(\"test3\", Interleave_tensor)\n",
    "    #print(Interleave_tensor.device)\n",
    "    return (Interleave_tensor)"
   ]
  },
  {
   "cell_type": "code",
   "execution_count": 80,
   "id": "b00066a0",
   "metadata": {},
   "outputs": [],
   "source": [
    "class MyModel01(nn.Module):\n",
    "    def __init__(self, embed_dim, model_dim, hidden_dim, items_count):\n",
    "        super(MyModel01, self).__init__()\n",
    "        self.model_dim = model_dim\n",
    "        self.embedding = nn.Embedding.from_pretrained(weights, freeze=False)\n",
    "        self.embedding.requires_grad = True\n",
    "        self.attn = SelfAttention(embed_dim=embed_dim ,model_dim=model_dim)\n",
    "        self.linear_transform = LinearTransformation(model_dim = model_dim)\n",
    "        self.model_encoder = TransformerEncoder(d_model=model_dim , num_heads=NUM_HEAD, num_layers=NUM_LAYER)\n",
    "        self.mlp = MLPLayer(model_dim, hidden_dim, items_count ) # 嵌入維度、隱藏層維度、總項目數量\n",
    "        self.sizemlp = MLPLayerForSize(model_dim, hidden_dim)\n",
    "        self.relu = nn.ReLU()\n",
    "\n",
    "        \n",
    "    def forward(self, basket_input, size_input ,lengths):\n",
    "        \n",
    "        inputs, attention_mask = [], []\n",
    "\n",
    "        # 為每個用戶的購物籃加上 padding跟 mask\n",
    "#         for user in basket_input:\n",
    "#             # 將購物籃項目 ID 轉換為嵌入向量\n",
    "#             batch_features = [ self.embedding(torch.tensor(cart).to(device)) for cart in user ]\n",
    "#             # 進行 padding\n",
    "#             #print(\"obatch_size\", batch_features)\n",
    "#             batch_features = rnn_utils.pad_sequence(batch_features, batch_first=True, padding_value=0)\n",
    "#             # 購物籃中項目的遮罩\n",
    "#             mask = ~batch_features.sum(dim=-1).ne(0)\n",
    "#             #print(\"batch_size\", batch_features.size())\n",
    "#             inputs.append(batch_features)\n",
    "#             attention_mask.append(mask)\n",
    "\n",
    "            \n",
    "        # 進入自注意力，輸出形狀為 (BATCH_SIZE, basket_size, embed_dim)\n",
    "        basket_embedding_list = []\n",
    "        for i,user_inputs in enumerate(inputs):\n",
    "            test = self.attn(user_inputs,attention_mask[i])\n",
    "            #basket_embedding_list.append(test)\n",
    "            #print(\"test_size\", test.size())\n",
    "            #print(\"test\", test)\n",
    "            \n",
    "            test2 = self.linear_transform(torch.tensor([[float(_)] for _ in size_input[i]]).to(device))\n",
    "            #size_embedding_list.append(test2)\n",
    "            #print(\"test\", test.size())\n",
    "            #print(\"test2\", test2.size())\n",
    "            basket_embedding = Interleave(test, test2)\n",
    "            #print(\"test3\", basket_embedding.size())\n",
    "            basket_embedding_list.append(basket_embedding)\n",
    "            #print(\"test2_size\", test2.size())\n",
    "            #bs_encoder = self.linear_transform()\n",
    "            #basket_embedding_list.append(self.attn(user_inputs,attention_mask[i]))\n",
    "            \n",
    "        \n",
    "        \n",
    "        # 進行購物籃的 padding\n",
    "        input_seq = rnn_utils.pad_sequence(basket_embedding_list, batch_first=True, padding_value=0)\n",
    "        #print(input_seq.size())\n",
    "        \n",
    "        \n",
    "        # 進入Transformer\n",
    "        basket_embed = self.model_encoder(input_seq.to(device))\n",
    "        \n",
    "        B_s_list = []\n",
    "        for i, b in enumerate(basket_embed):\n",
    "            basket_size = len(attention_mask[i])\n",
    "            B_s = b[basket_size-1]  # 取得最後一個購物籃向量\n",
    "            B_s_list.append(B_s)\n",
    "            \n",
    "        # SIZE_MLP\n",
    "        k = self.sizemlp(torch.stack(B_s_list, dim=0))\n",
    "        #print(\"k\", k)\n",
    "        # 進入MLP層\n",
    "        p = self.mlp(torch.stack(B_s_list, dim=0))\n",
    "        pc = (self.relu(p.to(torch.float64))+1e-8) @ confidences_array\n",
    "        pw = torch.mul( p, item_weight )\n",
    "        p_ = torch.mul(BETA, torch.add(pc,pw)) + torch.mul(1-BETA, p.to(torch.float64))\n",
    "        y = p_\n",
    "        Y,indices = torch.topk(y, k=10)\n",
    "        return y, k, indices"
   ]
  },
  {
   "cell_type": "code",
   "execution_count": 81,
   "id": "88bf8d6f",
   "metadata": {},
   "outputs": [
    {
     "data": {
      "text/plain": [
       "MyModel01(\n",
       "  (embedding): Embedding(15764, 32)\n",
       "  (attn): SelfAttention(\n",
       "    (query_matrix): Linear(in_features=32, out_features=32, bias=True)\n",
       "    (key_matrix): Linear(in_features=32, out_features=32, bias=True)\n",
       "    (value_matrix): Linear(in_features=32, out_features=32, bias=True)\n",
       "    (multihead_attn): MultiheadAttention(\n",
       "      (out_proj): NonDynamicallyQuantizableLinear(in_features=32, out_features=32, bias=True)\n",
       "    )\n",
       "  )\n",
       "  (linear_transform): LinearTransformation(\n",
       "    (embed): Linear(in_features=1, out_features=32, bias=True)\n",
       "    (activate): ReLU()\n",
       "  )\n",
       "  (model_encoder): TransformerEncoder(\n",
       "    (pe): PositionalEncoding(\n",
       "      (dropout): Dropout(p=0.5, inplace=False)\n",
       "    )\n",
       "    (transformer): TransformerEncoder(\n",
       "      (layers): ModuleList(\n",
       "        (0-3): 4 x TransformerEncoderLayer(\n",
       "          (self_attn): MultiheadAttention(\n",
       "            (out_proj): NonDynamicallyQuantizableLinear(in_features=32, out_features=32, bias=True)\n",
       "          )\n",
       "          (linear1): Linear(in_features=32, out_features=2048, bias=True)\n",
       "          (dropout): Dropout(p=0.1, inplace=False)\n",
       "          (linear2): Linear(in_features=2048, out_features=32, bias=True)\n",
       "          (norm1): LayerNorm((32,), eps=1e-05, elementwise_affine=True)\n",
       "          (norm2): LayerNorm((32,), eps=1e-05, elementwise_affine=True)\n",
       "          (dropout1): Dropout(p=0.1, inplace=False)\n",
       "          (dropout2): Dropout(p=0.1, inplace=False)\n",
       "        )\n",
       "      )\n",
       "    )\n",
       "  )\n",
       "  (mlp): MLPLayer(\n",
       "    (hidden): Linear(in_features=32, out_features=128, bias=True)\n",
       "    (norm): BatchNorm1d(128, eps=1e-05, momentum=0.03, affine=True, track_running_stats=True)\n",
       "    (activate): ReLU()\n",
       "    (output): Linear(in_features=128, out_features=15764, bias=True)\n",
       "  )\n",
       "  (sizemlp): MLPLayerForSize(\n",
       "    (hidden): Linear(in_features=32, out_features=128, bias=True)\n",
       "    (norm): BatchNorm1d(128, eps=1e-05, momentum=0.03, affine=True, track_running_stats=True)\n",
       "    (activate): ReLU()\n",
       "    (output): Linear(in_features=128, out_features=1, bias=True)\n",
       "  )\n",
       "  (relu): ReLU()\n",
       ")"
      ]
     },
     "execution_count": 81,
     "metadata": {},
     "output_type": "execute_result"
    }
   ],
   "source": [
    "my_model = MyModel01(embed_dim=EMBEDDING_DIMENSION, model_dim=MODEL_DIMENSION,  hidden_dim=HIDDEN_DIMENSION,  items_count=items_count ).to(device)\n",
    "optimizer = torch.optim.Adam(my_model.parameters(),lr=LEARNING_RATE)\n",
    "my_model.train()"
   ]
  },
  {
   "cell_type": "code",
   "execution_count": 82,
   "id": "dc547691",
   "metadata": {
    "scrolled": true
   },
   "outputs": [
    {
     "name": "stderr",
     "output_type": "stream",
     "text": [
      "  0%|          | 1/932 [00:00<03:48,  4.07it/s]"
     ]
    },
    {
     "name": "stdout",
     "output_type": "stream",
     "text": [
      "Epoch 1: 0% , Loss: 2.903516\n"
     ]
    },
    {
     "name": "stderr",
     "output_type": "stream",
     "text": [
      " 11%|█         | 101/932 [00:25<03:32,  3.91it/s]"
     ]
    },
    {
     "name": "stdout",
     "output_type": "stream",
     "text": [
      "Epoch 1: 11% , Loss: 1.795291\n"
     ]
    },
    {
     "name": "stderr",
     "output_type": "stream",
     "text": [
      " 22%|██▏       | 201/932 [00:50<03:21,  3.63it/s]"
     ]
    },
    {
     "name": "stdout",
     "output_type": "stream",
     "text": [
      "Epoch 1: 21% , Loss: 2.407206\n"
     ]
    },
    {
     "name": "stderr",
     "output_type": "stream",
     "text": [
      " 32%|███▏      | 301/932 [01:18<03:12,  3.28it/s]"
     ]
    },
    {
     "name": "stdout",
     "output_type": "stream",
     "text": [
      "Epoch 1: 32% , Loss: 1.682413\n"
     ]
    },
    {
     "name": "stderr",
     "output_type": "stream",
     "text": [
      " 43%|████▎     | 401/932 [01:48<02:35,  3.42it/s]"
     ]
    },
    {
     "name": "stdout",
     "output_type": "stream",
     "text": [
      "Epoch 1: 43% , Loss: 0.954397\n"
     ]
    },
    {
     "name": "stderr",
     "output_type": "stream",
     "text": [
      " 54%|█████▍    | 501/932 [02:19<02:09,  3.32it/s]"
     ]
    },
    {
     "name": "stdout",
     "output_type": "stream",
     "text": [
      "Epoch 1: 54% , Loss: 0.965567\n"
     ]
    },
    {
     "name": "stderr",
     "output_type": "stream",
     "text": [
      " 64%|██████▍   | 601/932 [02:51<02:02,  2.69it/s]"
     ]
    },
    {
     "name": "stdout",
     "output_type": "stream",
     "text": [
      "Epoch 1: 64% , Loss: 0.720215\n"
     ]
    },
    {
     "name": "stderr",
     "output_type": "stream",
     "text": [
      " 75%|███████▌  | 701/932 [03:24<01:16,  3.01it/s]"
     ]
    },
    {
     "name": "stdout",
     "output_type": "stream",
     "text": [
      "Epoch 1: 75% , Loss: 1.833161\n"
     ]
    },
    {
     "name": "stderr",
     "output_type": "stream",
     "text": [
      " 86%|████████▌ | 801/932 [03:58<00:42,  3.06it/s]"
     ]
    },
    {
     "name": "stdout",
     "output_type": "stream",
     "text": [
      "Epoch 1: 86% , Loss: 0.601528\n"
     ]
    },
    {
     "name": "stderr",
     "output_type": "stream",
     "text": [
      " 97%|█████████▋| 901/932 [04:32<00:10,  2.86it/s]"
     ]
    },
    {
     "name": "stdout",
     "output_type": "stream",
     "text": [
      "Epoch 1: 97% , Loss: 1.103132\n"
     ]
    },
    {
     "name": "stderr",
     "output_type": "stream",
     "text": [
      "100%|██████████| 932/932 [04:43<00:00,  3.29it/s]"
     ]
    },
    {
     "name": "stdout",
     "output_type": "stream",
     "text": [
      "Epoch 1: 100% , Loss: 0.873896\n"
     ]
    },
    {
     "name": "stderr",
     "output_type": "stream",
     "text": [
      "\n"
     ]
    },
    {
     "name": "stdout",
     "output_type": "stream",
     "text": [
      "                      (F1-score: 0.0099)\n",
      "\n",
      "                      (NDCG: 0.0136)\n",
      "\n",
      "                      (MAE: 6.8696)\n",
      "\n",
      "train_loss= tensor(1.4450)\n",
      "--------------------\n"
     ]
    },
    {
     "name": "stderr",
     "output_type": "stream",
     "text": [
      "100%|██████████| 133/133 [00:21<00:00,  6.29it/s]\n"
     ]
    },
    {
     "name": "stdout",
     "output_type": "stream",
     "text": [
      "                      (F1-score: 0.0002)\n",
      "\n",
      "                      (NDCG: 0.0001)\n",
      "\n",
      "                      (MAE: 6.0799)\n",
      "\n",
      "val_loss= tensor(1.0606)\n",
      "--------------------\n"
     ]
    },
    {
     "name": "stderr",
     "output_type": "stream",
     "text": [
      "100%|██████████| 266/266 [00:42<00:00,  6.24it/s]\n"
     ]
    },
    {
     "name": "stdout",
     "output_type": "stream",
     "text": [
      "                      (F1-score: 0.0001)\n",
      "\n",
      "                      (NDCG: 0.0001)\n",
      "\n",
      "                      (MAE: 6.0832)\n",
      "\n",
      "--------------------\n",
      "[[1, {'F1-score': 0.0001386660620683177}, {'NDCG': 0.00012056498448679546}, {'MAE': 6.0831766917293235}, 1.060592532157898]]\n",
      "-----------------------------------------------------------------------------------------\n"
     ]
    },
    {
     "name": "stderr",
     "output_type": "stream",
     "text": [
      "  0%|          | 1/932 [00:00<04:16,  3.63it/s]"
     ]
    },
    {
     "name": "stdout",
     "output_type": "stream",
     "text": [
      "Epoch 2: 0% , Loss: 1.104859\n"
     ]
    },
    {
     "name": "stderr",
     "output_type": "stream",
     "text": [
      " 11%|█         | 101/932 [00:28<03:42,  3.73it/s]"
     ]
    },
    {
     "name": "stdout",
     "output_type": "stream",
     "text": [
      "Epoch 2: 11% , Loss: 1.497858\n"
     ]
    },
    {
     "name": "stderr",
     "output_type": "stream",
     "text": [
      " 22%|██▏       | 201/932 [00:57<03:44,  3.26it/s]"
     ]
    },
    {
     "name": "stdout",
     "output_type": "stream",
     "text": [
      "Epoch 2: 21% , Loss: 2.096035\n"
     ]
    },
    {
     "name": "stderr",
     "output_type": "stream",
     "text": [
      " 32%|███▏      | 301/932 [01:26<03:05,  3.41it/s]"
     ]
    },
    {
     "name": "stdout",
     "output_type": "stream",
     "text": [
      "Epoch 2: 32% , Loss: 0.649150\n"
     ]
    },
    {
     "name": "stderr",
     "output_type": "stream",
     "text": [
      " 43%|████▎     | 401/932 [01:57<02:41,  3.29it/s]"
     ]
    },
    {
     "name": "stdout",
     "output_type": "stream",
     "text": [
      "Epoch 2: 43% , Loss: 0.442394\n"
     ]
    },
    {
     "name": "stderr",
     "output_type": "stream",
     "text": [
      " 54%|█████▍    | 501/932 [02:29<02:20,  3.06it/s]"
     ]
    },
    {
     "name": "stdout",
     "output_type": "stream",
     "text": [
      "Epoch 2: 54% , Loss: 0.350595\n"
     ]
    },
    {
     "name": "stderr",
     "output_type": "stream",
     "text": [
      " 64%|██████▍   | 601/932 [03:00<01:47,  3.08it/s]"
     ]
    },
    {
     "name": "stdout",
     "output_type": "stream",
     "text": [
      "Epoch 2: 64% , Loss: 0.650122\n"
     ]
    },
    {
     "name": "stderr",
     "output_type": "stream",
     "text": [
      " 75%|███████▌  | 701/932 [03:33<01:20,  2.88it/s]"
     ]
    },
    {
     "name": "stdout",
     "output_type": "stream",
     "text": [
      "Epoch 2: 75% , Loss: 10.913847\n"
     ]
    },
    {
     "name": "stderr",
     "output_type": "stream",
     "text": [
      " 86%|████████▌ | 801/932 [04:07<00:45,  2.87it/s]"
     ]
    },
    {
     "name": "stdout",
     "output_type": "stream",
     "text": [
      "Epoch 2: 86% , Loss: 1.288626\n"
     ]
    },
    {
     "name": "stderr",
     "output_type": "stream",
     "text": [
      " 97%|█████████▋| 901/932 [04:42<00:11,  2.64it/s]"
     ]
    },
    {
     "name": "stdout",
     "output_type": "stream",
     "text": [
      "Epoch 2: 97% , Loss: 0.469377\n"
     ]
    },
    {
     "name": "stderr",
     "output_type": "stream",
     "text": [
      "100%|██████████| 932/932 [04:53<00:00,  3.18it/s]"
     ]
    },
    {
     "name": "stdout",
     "output_type": "stream",
     "text": [
      "Epoch 2: 100% , Loss: 0.363803\n"
     ]
    },
    {
     "name": "stderr",
     "output_type": "stream",
     "text": [
      "\n"
     ]
    },
    {
     "name": "stdout",
     "output_type": "stream",
     "text": [
      "                      (F1-score: 0.0002)\n",
      "\n",
      "                      (NDCG: 0.0002)\n",
      "\n",
      "                      (MAE: 5.4410)\n",
      "\n",
      "train_loss= tensor(0.9108)\n",
      "--------------------\n"
     ]
    },
    {
     "name": "stderr",
     "output_type": "stream",
     "text": [
      "100%|██████████| 133/133 [00:22<00:00,  5.97it/s]\n"
     ]
    },
    {
     "name": "stdout",
     "output_type": "stream",
     "text": [
      "                      (F1-score: 0.0003)\n",
      "\n",
      "                      (NDCG: 0.0003)\n",
      "\n",
      "                      (MAE: 4.4267)\n",
      "\n",
      "val_loss= tensor(0.5906)\n",
      "--------------------\n"
     ]
    },
    {
     "name": "stderr",
     "output_type": "stream",
     "text": [
      "100%|██████████| 266/266 [00:43<00:00,  6.15it/s]\n"
     ]
    },
    {
     "name": "stdout",
     "output_type": "stream",
     "text": [
      "                      (F1-score: 0.0001)\n",
      "\n",
      "                      (NDCG: 0.0001)\n",
      "\n",
      "                      (MAE: 4.3853)\n",
      "\n",
      "--------------------\n",
      "[[1, {'F1-score': 0.0001386660620683177}, {'NDCG': 0.00012056498448679546}, {'MAE': 6.0831766917293235}, 1.060592532157898], [2, {'F1-score': 0.00012541708094908745}, {'NDCG': 8.964268980841887e-05}, {'MAE': 4.385338345864661}, 0.5905851125717163]]\n",
      "-----------------------------------------------------------------------------------------\n"
     ]
    },
    {
     "name": "stderr",
     "output_type": "stream",
     "text": [
      "  0%|          | 1/932 [00:00<04:01,  3.86it/s]"
     ]
    },
    {
     "name": "stdout",
     "output_type": "stream",
     "text": [
      "Epoch 3: 0% , Loss: 0.251599\n"
     ]
    },
    {
     "name": "stderr",
     "output_type": "stream",
     "text": [
      " 11%|█         | 101/932 [00:28<03:46,  3.67it/s]"
     ]
    },
    {
     "name": "stdout",
     "output_type": "stream",
     "text": [
      "Epoch 3: 11% , Loss: 0.634062\n"
     ]
    },
    {
     "name": "stderr",
     "output_type": "stream",
     "text": [
      " 22%|██▏       | 201/932 [00:56<03:31,  3.45it/s]"
     ]
    },
    {
     "name": "stdout",
     "output_type": "stream",
     "text": [
      "Epoch 3: 21% , Loss: 0.373781\n"
     ]
    },
    {
     "name": "stderr",
     "output_type": "stream",
     "text": [
      " 32%|███▏      | 301/932 [01:26<03:38,  2.89it/s]"
     ]
    },
    {
     "name": "stdout",
     "output_type": "stream",
     "text": [
      "Epoch 3: 32% , Loss: 0.242927\n"
     ]
    },
    {
     "name": "stderr",
     "output_type": "stream",
     "text": [
      " 43%|████▎     | 401/932 [01:56<02:38,  3.35it/s]"
     ]
    },
    {
     "name": "stdout",
     "output_type": "stream",
     "text": [
      "Epoch 3: 43% , Loss: 0.420751\n"
     ]
    },
    {
     "name": "stderr",
     "output_type": "stream",
     "text": [
      " 54%|█████▍    | 501/932 [02:28<02:13,  3.23it/s]"
     ]
    },
    {
     "name": "stdout",
     "output_type": "stream",
     "text": [
      "Epoch 3: 54% , Loss: 0.231567\n"
     ]
    },
    {
     "name": "stderr",
     "output_type": "stream",
     "text": [
      " 64%|██████▍   | 601/932 [03:00<01:44,  3.16it/s]"
     ]
    },
    {
     "name": "stdout",
     "output_type": "stream",
     "text": [
      "Epoch 3: 64% , Loss: 0.783278\n"
     ]
    },
    {
     "name": "stderr",
     "output_type": "stream",
     "text": [
      " 75%|███████▌  | 701/932 [03:33<01:18,  2.94it/s]"
     ]
    },
    {
     "name": "stdout",
     "output_type": "stream",
     "text": [
      "Epoch 3: 75% , Loss: 0.354290\n"
     ]
    },
    {
     "name": "stderr",
     "output_type": "stream",
     "text": [
      " 86%|████████▌ | 801/932 [04:08<00:47,  2.78it/s]"
     ]
    },
    {
     "name": "stdout",
     "output_type": "stream",
     "text": [
      "Epoch 3: 86% , Loss: 0.230994\n"
     ]
    },
    {
     "name": "stderr",
     "output_type": "stream",
     "text": [
      " 97%|█████████▋| 901/932 [04:42<00:10,  2.99it/s]"
     ]
    },
    {
     "name": "stdout",
     "output_type": "stream",
     "text": [
      "Epoch 3: 97% , Loss: 1.316121\n"
     ]
    },
    {
     "name": "stderr",
     "output_type": "stream",
     "text": [
      "100%|██████████| 932/932 [04:53<00:00,  3.17it/s]"
     ]
    },
    {
     "name": "stdout",
     "output_type": "stream",
     "text": [
      "Epoch 3: 100% , Loss: 0.501630\n"
     ]
    },
    {
     "name": "stderr",
     "output_type": "stream",
     "text": [
      "\n"
     ]
    },
    {
     "name": "stdout",
     "output_type": "stream",
     "text": [
      "                      (F1-score: 0.0001)\n",
      "\n",
      "                      (NDCG: 0.0001)\n",
      "\n",
      "                      (MAE: 4.4257)\n",
      "\n",
      "train_loss= tensor(0.5663)\n",
      "--------------------\n"
     ]
    },
    {
     "name": "stderr",
     "output_type": "stream",
     "text": [
      "100%|██████████| 133/133 [00:21<00:00,  6.31it/s]\n"
     ]
    },
    {
     "name": "stdout",
     "output_type": "stream",
     "text": [
      "                      (F1-score: 0.0002)\n",
      "\n",
      "                      (NDCG: 0.0002)\n",
      "\n",
      "                      (MAE: 4.4352)\n",
      "\n",
      "val_loss= tensor(0.5367)\n",
      "--------------------\n"
     ]
    },
    {
     "name": "stderr",
     "output_type": "stream",
     "text": [
      "100%|██████████| 266/266 [00:42<00:00,  6.22it/s]\n"
     ]
    },
    {
     "name": "stdout",
     "output_type": "stream",
     "text": [
      "                      (F1-score: 0.0001)\n",
      "\n",
      "                      (NDCG: 0.0001)\n",
      "\n",
      "                      (MAE: 4.4572)\n",
      "\n",
      "--------------------\n",
      "[[1, {'F1-score': 0.0001386660620683177}, {'NDCG': 0.00012056498448679546}, {'MAE': 6.0831766917293235}, 1.060592532157898], [2, {'F1-score': 0.00012541708094908745}, {'NDCG': 8.964268980841887e-05}, {'MAE': 4.385338345864661}, 0.5905851125717163], [3, {'F1-score': 7.868848916781247e-05}, {'NDCG': 5.510349887514249e-05}, {'MAE': 4.457236842105263}, 0.5367398858070374]]\n",
      "-----------------------------------------------------------------------------------------\n"
     ]
    },
    {
     "name": "stderr",
     "output_type": "stream",
     "text": [
      "  0%|          | 1/932 [00:00<04:11,  3.71it/s]"
     ]
    },
    {
     "name": "stdout",
     "output_type": "stream",
     "text": [
      "Epoch 4: 0% , Loss: 0.176691\n"
     ]
    },
    {
     "name": "stderr",
     "output_type": "stream",
     "text": [
      " 11%|█         | 101/932 [00:28<03:56,  3.52it/s]"
     ]
    },
    {
     "name": "stdout",
     "output_type": "stream",
     "text": [
      "Epoch 4: 11% , Loss: 0.395814\n"
     ]
    },
    {
     "name": "stderr",
     "output_type": "stream",
     "text": [
      " 22%|██▏       | 201/932 [00:56<03:33,  3.42it/s]"
     ]
    },
    {
     "name": "stdout",
     "output_type": "stream",
     "text": [
      "Epoch 4: 21% , Loss: 0.341274\n"
     ]
    },
    {
     "name": "stderr",
     "output_type": "stream",
     "text": [
      " 32%|███▏      | 301/932 [01:26<03:20,  3.15it/s]"
     ]
    },
    {
     "name": "stdout",
     "output_type": "stream",
     "text": [
      "Epoch 4: 32% , Loss: 0.345193\n"
     ]
    },
    {
     "name": "stderr",
     "output_type": "stream",
     "text": [
      " 43%|████▎     | 401/932 [01:56<02:36,  3.39it/s]"
     ]
    },
    {
     "name": "stdout",
     "output_type": "stream",
     "text": [
      "Epoch 4: 43% , Loss: 0.085502\n"
     ]
    },
    {
     "name": "stderr",
     "output_type": "stream",
     "text": [
      " 54%|█████▍    | 501/932 [02:27<02:12,  3.25it/s]"
     ]
    },
    {
     "name": "stdout",
     "output_type": "stream",
     "text": [
      "Epoch 4: 54% , Loss: 0.417196\n"
     ]
    },
    {
     "name": "stderr",
     "output_type": "stream",
     "text": [
      " 64%|██████▍   | 601/932 [02:59<01:47,  3.08it/s]"
     ]
    },
    {
     "name": "stdout",
     "output_type": "stream",
     "text": [
      "Epoch 4: 64% , Loss: 0.752238\n"
     ]
    },
    {
     "name": "stderr",
     "output_type": "stream",
     "text": [
      " 75%|███████▌  | 701/932 [03:33<01:17,  2.99it/s]"
     ]
    },
    {
     "name": "stdout",
     "output_type": "stream",
     "text": [
      "Epoch 4: 75% , Loss: 0.406172\n"
     ]
    },
    {
     "name": "stderr",
     "output_type": "stream",
     "text": [
      " 86%|████████▌ | 801/932 [04:07<00:44,  2.95it/s]"
     ]
    },
    {
     "name": "stdout",
     "output_type": "stream",
     "text": [
      "Epoch 4: 86% , Loss: 0.129073\n"
     ]
    },
    {
     "name": "stderr",
     "output_type": "stream",
     "text": [
      " 97%|█████████▋| 901/932 [04:41<00:10,  2.85it/s]"
     ]
    },
    {
     "name": "stdout",
     "output_type": "stream",
     "text": [
      "Epoch 4: 97% , Loss: 0.248869\n"
     ]
    },
    {
     "name": "stderr",
     "output_type": "stream",
     "text": [
      "100%|██████████| 932/932 [04:53<00:00,  3.18it/s]"
     ]
    },
    {
     "name": "stdout",
     "output_type": "stream",
     "text": [
      "Epoch 4: 100% , Loss: 1.212633\n"
     ]
    },
    {
     "name": "stderr",
     "output_type": "stream",
     "text": [
      "\n"
     ]
    },
    {
     "name": "stdout",
     "output_type": "stream",
     "text": [
      "                      (F1-score: 0.0031)\n",
      "\n",
      "                      (NDCG: 0.0029)\n",
      "\n",
      "                      (MAE: 4.4655)\n",
      "\n",
      "train_loss= tensor(0.4880)\n",
      "--------------------\n"
     ]
    },
    {
     "name": "stderr",
     "output_type": "stream",
     "text": [
      "100%|██████████| 133/133 [00:21<00:00,  6.08it/s]\n"
     ]
    },
    {
     "name": "stdout",
     "output_type": "stream",
     "text": [
      "                      (F1-score: 0.0092)\n",
      "\n",
      "                      (NDCG: 0.0085)\n",
      "\n",
      "                      (MAE: 4.4070)\n",
      "\n",
      "val_loss= tensor(0.5037)\n",
      "--------------------\n"
     ]
    },
    {
     "name": "stderr",
     "output_type": "stream",
     "text": [
      "100%|██████████| 266/266 [00:43<00:00,  6.16it/s]\n"
     ]
    },
    {
     "name": "stdout",
     "output_type": "stream",
     "text": [
      "                      (F1-score: 0.0119)\n",
      "\n",
      "                      (NDCG: 0.0108)\n",
      "\n",
      "                      (MAE: 4.3510)\n",
      "\n",
      "--------------------\n",
      "[[1, {'F1-score': 0.0001386660620683177}, {'NDCG': 0.00012056498448679546}, {'MAE': 6.0831766917293235}, 1.060592532157898], [2, {'F1-score': 0.00012541708094908745}, {'NDCG': 8.964268980841887e-05}, {'MAE': 4.385338345864661}, 0.5905851125717163], [3, {'F1-score': 7.868848916781247e-05}, {'NDCG': 5.510349887514249e-05}, {'MAE': 4.457236842105263}, 0.5367398858070374], [4, {'F1-score': 0.011910174467723229}, {'NDCG': 0.010843196795392026}, {'MAE': 4.351033834586466}, 0.5036801695823669]]\n",
      "-----------------------------------------------------------------------------------------\n"
     ]
    },
    {
     "name": "stderr",
     "output_type": "stream",
     "text": [
      "  0%|          | 1/932 [00:00<03:54,  3.96it/s]"
     ]
    },
    {
     "name": "stdout",
     "output_type": "stream",
     "text": [
      "Epoch 5: 0% , Loss: 0.196170\n"
     ]
    },
    {
     "name": "stderr",
     "output_type": "stream",
     "text": [
      " 11%|█         | 101/932 [00:27<03:45,  3.68it/s]"
     ]
    },
    {
     "name": "stdout",
     "output_type": "stream",
     "text": [
      "Epoch 5: 11% , Loss: 0.600728\n"
     ]
    },
    {
     "name": "stderr",
     "output_type": "stream",
     "text": [
      " 22%|██▏       | 201/932 [00:57<03:30,  3.47it/s]"
     ]
    },
    {
     "name": "stdout",
     "output_type": "stream",
     "text": [
      "Epoch 5: 21% , Loss: 1.032219\n"
     ]
    },
    {
     "name": "stderr",
     "output_type": "stream",
     "text": [
      " 32%|███▏      | 301/932 [01:27<03:17,  3.20it/s]"
     ]
    },
    {
     "name": "stdout",
     "output_type": "stream",
     "text": [
      "Epoch 5: 32% , Loss: 0.279881\n"
     ]
    },
    {
     "name": "stderr",
     "output_type": "stream",
     "text": [
      " 43%|████▎     | 401/932 [01:57<02:42,  3.27it/s]"
     ]
    },
    {
     "name": "stdout",
     "output_type": "stream",
     "text": [
      "Epoch 5: 43% , Loss: 0.437608\n"
     ]
    },
    {
     "name": "stderr",
     "output_type": "stream",
     "text": [
      " 54%|█████▍    | 501/932 [02:29<02:25,  2.97it/s]"
     ]
    },
    {
     "name": "stdout",
     "output_type": "stream",
     "text": [
      "Epoch 5: 54% , Loss: 0.265332\n"
     ]
    },
    {
     "name": "stderr",
     "output_type": "stream",
     "text": [
      " 64%|██████▍   | 601/932 [03:03<01:49,  3.02it/s]"
     ]
    },
    {
     "name": "stdout",
     "output_type": "stream",
     "text": [
      "Epoch 5: 64% , Loss: 0.193561\n"
     ]
    },
    {
     "name": "stderr",
     "output_type": "stream",
     "text": [
      " 75%|███████▌  | 701/932 [03:35<01:18,  2.94it/s]"
     ]
    },
    {
     "name": "stdout",
     "output_type": "stream",
     "text": [
      "Epoch 5: 75% , Loss: 0.133271\n"
     ]
    },
    {
     "name": "stderr",
     "output_type": "stream",
     "text": [
      " 86%|████████▌ | 801/932 [04:09<00:43,  3.00it/s]"
     ]
    },
    {
     "name": "stdout",
     "output_type": "stream",
     "text": [
      "Epoch 5: 86% , Loss: 0.468424\n"
     ]
    },
    {
     "name": "stderr",
     "output_type": "stream",
     "text": [
      " 97%|█████████▋| 901/932 [04:43<00:11,  2.69it/s]"
     ]
    },
    {
     "name": "stdout",
     "output_type": "stream",
     "text": [
      "Epoch 5: 97% , Loss: 0.240473\n"
     ]
    },
    {
     "name": "stderr",
     "output_type": "stream",
     "text": [
      "100%|██████████| 932/932 [04:53<00:00,  3.17it/s]"
     ]
    },
    {
     "name": "stdout",
     "output_type": "stream",
     "text": [
      "Epoch 5: 100% , Loss: 0.590415\n"
     ]
    },
    {
     "name": "stderr",
     "output_type": "stream",
     "text": [
      "\n"
     ]
    },
    {
     "name": "stdout",
     "output_type": "stream",
     "text": [
      "                      (F1-score: 0.0171)\n",
      "\n",
      "                      (NDCG: 0.0247)\n",
      "\n",
      "                      (MAE: 4.5413)\n",
      "\n",
      "train_loss= tensor(0.4645)\n",
      "--------------------\n"
     ]
    },
    {
     "name": "stderr",
     "output_type": "stream",
     "text": [
      "100%|██████████| 133/133 [00:21<00:00,  6.13it/s]\n"
     ]
    },
    {
     "name": "stdout",
     "output_type": "stream",
     "text": [
      "                      (F1-score: 0.0175)\n",
      "\n",
      "                      (NDCG: 0.0290)\n",
      "\n",
      "                      (MAE: 4.4756)\n",
      "\n",
      "val_loss= tensor(0.4710)\n",
      "--------------------\n"
     ]
    },
    {
     "name": "stderr",
     "output_type": "stream",
     "text": [
      "100%|██████████| 266/266 [00:44<00:00,  5.98it/s]\n"
     ]
    },
    {
     "name": "stdout",
     "output_type": "stream",
     "text": [
      "                      (F1-score: 0.0199)\n",
      "\n",
      "                      (NDCG: 0.0330)\n",
      "\n",
      "                      (MAE: 4.4417)\n",
      "\n",
      "--------------------\n",
      "[[1, {'F1-score': 0.0001386660620683177}, {'NDCG': 0.00012056498448679546}, {'MAE': 6.0831766917293235}, 1.060592532157898], [2, {'F1-score': 0.00012541708094908745}, {'NDCG': 8.964268980841887e-05}, {'MAE': 4.385338345864661}, 0.5905851125717163], [3, {'F1-score': 7.868848916781247e-05}, {'NDCG': 5.510349887514249e-05}, {'MAE': 4.457236842105263}, 0.5367398858070374], [4, {'F1-score': 0.011910174467723229}, {'NDCG': 0.010843196795392026}, {'MAE': 4.351033834586466}, 0.5036801695823669], [5, {'F1-score': 0.019910581414398724}, {'NDCG': 0.03303729515799314}, {'MAE': 4.44172932330827}, 0.47101667523384094]]\n",
      "-----------------------------------------------------------------------------------------\n"
     ]
    },
    {
     "name": "stderr",
     "output_type": "stream",
     "text": [
      "  0%|          | 1/932 [00:00<04:09,  3.73it/s]"
     ]
    },
    {
     "name": "stdout",
     "output_type": "stream",
     "text": [
      "Epoch 6: 0% , Loss: 0.702644\n"
     ]
    },
    {
     "name": "stderr",
     "output_type": "stream",
     "text": [
      " 11%|█         | 101/932 [00:28<03:39,  3.78it/s]"
     ]
    },
    {
     "name": "stdout",
     "output_type": "stream",
     "text": [
      "Epoch 6: 11% , Loss: 0.219929\n"
     ]
    },
    {
     "name": "stderr",
     "output_type": "stream",
     "text": [
      " 22%|██▏       | 201/932 [00:57<03:47,  3.21it/s]"
     ]
    },
    {
     "name": "stdout",
     "output_type": "stream",
     "text": [
      "Epoch 6: 21% , Loss: 0.104646\n"
     ]
    },
    {
     "name": "stderr",
     "output_type": "stream",
     "text": [
      " 32%|███▏      | 301/932 [01:27<03:09,  3.34it/s]"
     ]
    },
    {
     "name": "stdout",
     "output_type": "stream",
     "text": [
      "Epoch 6: 32% , Loss: 0.186894\n"
     ]
    },
    {
     "name": "stderr",
     "output_type": "stream",
     "text": [
      " 43%|████▎     | 401/932 [01:58<02:42,  3.26it/s]"
     ]
    },
    {
     "name": "stdout",
     "output_type": "stream",
     "text": [
      "Epoch 6: 43% , Loss: 0.421873\n"
     ]
    },
    {
     "name": "stderr",
     "output_type": "stream",
     "text": [
      " 54%|█████▍    | 501/932 [02:29<02:25,  2.96it/s]"
     ]
    },
    {
     "name": "stdout",
     "output_type": "stream",
     "text": [
      "Epoch 6: 54% , Loss: 0.200802\n"
     ]
    },
    {
     "name": "stderr",
     "output_type": "stream",
     "text": [
      " 64%|██████▍   | 601/932 [03:02<01:50,  3.01it/s]"
     ]
    },
    {
     "name": "stdout",
     "output_type": "stream",
     "text": [
      "Epoch 6: 64% , Loss: 0.295245\n"
     ]
    },
    {
     "name": "stderr",
     "output_type": "stream",
     "text": [
      " 75%|███████▌  | 701/932 [03:34<01:13,  3.15it/s]"
     ]
    },
    {
     "name": "stdout",
     "output_type": "stream",
     "text": [
      "Epoch 6: 75% , Loss: 0.145806\n"
     ]
    },
    {
     "name": "stderr",
     "output_type": "stream",
     "text": [
      " 86%|████████▌ | 801/932 [04:07<00:45,  2.87it/s]"
     ]
    },
    {
     "name": "stdout",
     "output_type": "stream",
     "text": [
      "Epoch 6: 86% , Loss: 0.138714\n"
     ]
    },
    {
     "name": "stderr",
     "output_type": "stream",
     "text": [
      " 97%|█████████▋| 901/932 [04:41<00:10,  2.95it/s]"
     ]
    },
    {
     "name": "stdout",
     "output_type": "stream",
     "text": [
      "Epoch 6: 97% , Loss: 0.106010\n"
     ]
    },
    {
     "name": "stderr",
     "output_type": "stream",
     "text": [
      "100%|██████████| 932/932 [04:52<00:00,  3.19it/s]"
     ]
    },
    {
     "name": "stdout",
     "output_type": "stream",
     "text": [
      "Epoch 6: 100% , Loss: 0.183401\n"
     ]
    },
    {
     "name": "stderr",
     "output_type": "stream",
     "text": [
      "\n"
     ]
    },
    {
     "name": "stdout",
     "output_type": "stream",
     "text": [
      "                      (F1-score: 0.0249)\n",
      "\n",
      "                      (NDCG: 0.0407)\n",
      "\n",
      "                      (MAE: 4.5203)\n",
      "\n",
      "train_loss= tensor(0.4575)\n",
      "--------------------\n"
     ]
    },
    {
     "name": "stderr",
     "output_type": "stream",
     "text": [
      "100%|██████████| 133/133 [00:21<00:00,  6.14it/s]\n"
     ]
    },
    {
     "name": "stdout",
     "output_type": "stream",
     "text": [
      "                      (F1-score: 0.0248)\n",
      "\n",
      "                      (NDCG: 0.0375)\n",
      "\n",
      "                      (MAE: 4.4145)\n",
      "\n",
      "val_loss= tensor(0.4632)\n",
      "--------------------\n"
     ]
    },
    {
     "name": "stderr",
     "output_type": "stream",
     "text": [
      "100%|██████████| 266/266 [00:43<00:00,  6.09it/s]\n"
     ]
    },
    {
     "name": "stdout",
     "output_type": "stream",
     "text": [
      "                      (F1-score: 0.0264)\n",
      "\n",
      "                      (NDCG: 0.0408)\n",
      "\n",
      "                      (MAE: 4.3741)\n",
      "\n",
      "--------------------\n",
      "[[1, {'F1-score': 0.0001386660620683177}, {'NDCG': 0.00012056498448679546}, {'MAE': 6.0831766917293235}, 1.060592532157898], [2, {'F1-score': 0.00012541708094908745}, {'NDCG': 8.964268980841887e-05}, {'MAE': 4.385338345864661}, 0.5905851125717163], [3, {'F1-score': 7.868848916781247e-05}, {'NDCG': 5.510349887514249e-05}, {'MAE': 4.457236842105263}, 0.5367398858070374], [4, {'F1-score': 0.011910174467723229}, {'NDCG': 0.010843196795392026}, {'MAE': 4.351033834586466}, 0.5036801695823669], [5, {'F1-score': 0.019910581414398724}, {'NDCG': 0.03303729515799314}, {'MAE': 4.44172932330827}, 0.47101667523384094], [6, {'F1-score': 0.02644881298506572}, {'NDCG': 0.040844002404229196}, {'MAE': 4.37406015037594}, 0.46322402358055115]]\n",
      "-----------------------------------------------------------------------------------------\n"
     ]
    },
    {
     "name": "stderr",
     "output_type": "stream",
     "text": [
      "  0%|          | 1/932 [00:00<04:31,  3.43it/s]"
     ]
    },
    {
     "name": "stdout",
     "output_type": "stream",
     "text": [
      "Epoch 7: 0% , Loss: 0.300784\n"
     ]
    },
    {
     "name": "stderr",
     "output_type": "stream",
     "text": [
      " 11%|█         | 101/932 [00:28<03:50,  3.61it/s]"
     ]
    },
    {
     "name": "stdout",
     "output_type": "stream",
     "text": [
      "Epoch 7: 11% , Loss: 0.073754\n"
     ]
    },
    {
     "name": "stderr",
     "output_type": "stream",
     "text": [
      " 22%|██▏       | 201/932 [00:57<03:19,  3.66it/s]"
     ]
    },
    {
     "name": "stdout",
     "output_type": "stream",
     "text": [
      "Epoch 7: 21% , Loss: 0.164522\n"
     ]
    },
    {
     "name": "stderr",
     "output_type": "stream",
     "text": [
      " 32%|███▏      | 301/932 [01:27<03:00,  3.49it/s]"
     ]
    },
    {
     "name": "stdout",
     "output_type": "stream",
     "text": [
      "Epoch 7: 32% , Loss: 0.698269\n"
     ]
    },
    {
     "name": "stderr",
     "output_type": "stream",
     "text": [
      " 43%|████▎     | 401/932 [01:57<02:33,  3.47it/s]"
     ]
    },
    {
     "name": "stdout",
     "output_type": "stream",
     "text": [
      "Epoch 7: 43% , Loss: 0.326518\n"
     ]
    },
    {
     "name": "stderr",
     "output_type": "stream",
     "text": [
      " 54%|█████▍    | 501/932 [02:28<02:22,  3.02it/s]"
     ]
    },
    {
     "name": "stdout",
     "output_type": "stream",
     "text": [
      "Epoch 7: 54% , Loss: 0.456016\n"
     ]
    },
    {
     "name": "stderr",
     "output_type": "stream",
     "text": [
      " 64%|██████▍   | 601/932 [03:00<01:56,  2.85it/s]"
     ]
    },
    {
     "name": "stdout",
     "output_type": "stream",
     "text": [
      "Epoch 7: 64% , Loss: 0.095334\n"
     ]
    },
    {
     "name": "stderr",
     "output_type": "stream",
     "text": [
      " 75%|███████▌  | 701/932 [03:32<01:09,  3.30it/s]"
     ]
    },
    {
     "name": "stdout",
     "output_type": "stream",
     "text": [
      "Epoch 7: 75% , Loss: 0.425719\n"
     ]
    },
    {
     "name": "stderr",
     "output_type": "stream",
     "text": [
      " 86%|████████▌ | 801/932 [04:06<00:42,  3.10it/s]"
     ]
    },
    {
     "name": "stdout",
     "output_type": "stream",
     "text": [
      "Epoch 7: 86% , Loss: 0.083143\n"
     ]
    },
    {
     "name": "stderr",
     "output_type": "stream",
     "text": [
      " 97%|█████████▋| 901/932 [04:41<00:10,  2.97it/s]"
     ]
    },
    {
     "name": "stdout",
     "output_type": "stream",
     "text": [
      "Epoch 7: 97% , Loss: 0.604502\n"
     ]
    },
    {
     "name": "stderr",
     "output_type": "stream",
     "text": [
      "100%|██████████| 932/932 [04:52<00:00,  3.18it/s]"
     ]
    },
    {
     "name": "stdout",
     "output_type": "stream",
     "text": [
      "Epoch 7: 100% , Loss: 0.086361\n"
     ]
    },
    {
     "name": "stderr",
     "output_type": "stream",
     "text": [
      "\n"
     ]
    },
    {
     "name": "stdout",
     "output_type": "stream",
     "text": [
      "                      (F1-score: 0.0354)\n",
      "\n",
      "                      (NDCG: 0.0509)\n",
      "\n",
      "                      (MAE: 4.5275)\n",
      "\n",
      "train_loss= tensor(0.4531)\n",
      "--------------------\n"
     ]
    },
    {
     "name": "stderr",
     "output_type": "stream",
     "text": [
      "100%|██████████| 133/133 [00:21<00:00,  6.29it/s]\n"
     ]
    },
    {
     "name": "stdout",
     "output_type": "stream",
     "text": [
      "                      (F1-score: 0.0378)\n",
      "\n",
      "                      (NDCG: 0.0501)\n",
      "\n",
      "                      (MAE: 4.4117)\n",
      "\n",
      "val_loss= tensor(0.5044)\n",
      "--------------------\n"
     ]
    },
    {
     "name": "stderr",
     "output_type": "stream",
     "text": [
      "100%|██████████| 266/266 [00:42<00:00,  6.23it/s]\n"
     ]
    },
    {
     "name": "stdout",
     "output_type": "stream",
     "text": [
      "                      (F1-score: 0.0399)\n",
      "\n",
      "                      (NDCG: 0.0536)\n",
      "\n",
      "                      (MAE: 4.3454)\n",
      "\n",
      "--------------------\n",
      "[[1, {'F1-score': 0.0001386660620683177}, {'NDCG': 0.00012056498448679546}, {'MAE': 6.0831766917293235}, 1.060592532157898], [2, {'F1-score': 0.00012541708094908745}, {'NDCG': 8.964268980841887e-05}, {'MAE': 4.385338345864661}, 0.5905851125717163], [3, {'F1-score': 7.868848916781247e-05}, {'NDCG': 5.510349887514249e-05}, {'MAE': 4.457236842105263}, 0.5367398858070374], [4, {'F1-score': 0.011910174467723229}, {'NDCG': 0.010843196795392026}, {'MAE': 4.351033834586466}, 0.5036801695823669], [5, {'F1-score': 0.019910581414398724}, {'NDCG': 0.03303729515799314}, {'MAE': 4.44172932330827}, 0.47101667523384094], [6, {'F1-score': 0.02644881298506572}, {'NDCG': 0.040844002404229196}, {'MAE': 4.37406015037594}, 0.46322402358055115], [7, {'F1-score': 0.0399246056772787}, {'NDCG': 0.053563095979336506}, {'MAE': 4.345394736842105}, 0.5044078826904297]]\n",
      "-----------------------------------------------------------------------------------------\n"
     ]
    },
    {
     "name": "stderr",
     "output_type": "stream",
     "text": [
      "  0%|          | 1/932 [00:00<04:12,  3.68it/s]"
     ]
    },
    {
     "name": "stdout",
     "output_type": "stream",
     "text": [
      "Epoch 8: 0% , Loss: 0.649315\n"
     ]
    },
    {
     "name": "stderr",
     "output_type": "stream",
     "text": [
      " 11%|█         | 101/932 [00:28<03:45,  3.68it/s]"
     ]
    },
    {
     "name": "stdout",
     "output_type": "stream",
     "text": [
      "Epoch 8: 11% , Loss: 0.171922\n"
     ]
    },
    {
     "name": "stderr",
     "output_type": "stream",
     "text": [
      " 22%|██▏       | 201/932 [00:57<03:30,  3.47it/s]"
     ]
    },
    {
     "name": "stdout",
     "output_type": "stream",
     "text": [
      "Epoch 8: 21% , Loss: 0.123577\n"
     ]
    },
    {
     "name": "stderr",
     "output_type": "stream",
     "text": [
      " 32%|███▏      | 301/932 [01:26<03:08,  3.34it/s]"
     ]
    },
    {
     "name": "stdout",
     "output_type": "stream",
     "text": [
      "Epoch 8: 32% , Loss: 0.883534\n"
     ]
    },
    {
     "name": "stderr",
     "output_type": "stream",
     "text": [
      " 43%|████▎     | 401/932 [01:56<02:38,  3.35it/s]"
     ]
    },
    {
     "name": "stdout",
     "output_type": "stream",
     "text": [
      "Epoch 8: 43% , Loss: 0.227592\n"
     ]
    },
    {
     "name": "stderr",
     "output_type": "stream",
     "text": [
      " 54%|█████▍    | 501/932 [02:27<02:08,  3.34it/s]"
     ]
    },
    {
     "name": "stdout",
     "output_type": "stream",
     "text": [
      "Epoch 8: 54% , Loss: 0.381983\n"
     ]
    },
    {
     "name": "stderr",
     "output_type": "stream",
     "text": [
      " 64%|██████▍   | 601/932 [02:59<01:44,  3.16it/s]"
     ]
    },
    {
     "name": "stdout",
     "output_type": "stream",
     "text": [
      "Epoch 8: 64% , Loss: 0.390291\n"
     ]
    },
    {
     "name": "stderr",
     "output_type": "stream",
     "text": [
      " 75%|███████▌  | 701/932 [03:31<01:15,  3.08it/s]"
     ]
    },
    {
     "name": "stdout",
     "output_type": "stream",
     "text": [
      "Epoch 8: 75% , Loss: 0.720372\n"
     ]
    },
    {
     "name": "stderr",
     "output_type": "stream",
     "text": [
      " 86%|████████▌ | 801/932 [04:04<00:42,  3.06it/s]"
     ]
    },
    {
     "name": "stdout",
     "output_type": "stream",
     "text": [
      "Epoch 8: 86% , Loss: 0.434117\n"
     ]
    },
    {
     "name": "stderr",
     "output_type": "stream",
     "text": [
      " 97%|█████████▋| 901/932 [04:38<00:10,  3.06it/s]"
     ]
    },
    {
     "name": "stdout",
     "output_type": "stream",
     "text": [
      "Epoch 8: 97% , Loss: 0.298311\n"
     ]
    },
    {
     "name": "stderr",
     "output_type": "stream",
     "text": [
      "100%|██████████| 932/932 [04:49<00:00,  3.21it/s]"
     ]
    },
    {
     "name": "stdout",
     "output_type": "stream",
     "text": [
      "Epoch 8: 100% , Loss: 0.547875\n"
     ]
    },
    {
     "name": "stderr",
     "output_type": "stream",
     "text": [
      "\n"
     ]
    },
    {
     "name": "stdout",
     "output_type": "stream",
     "text": [
      "                      (F1-score: 0.0456)\n",
      "\n",
      "                      (NDCG: 0.0599)\n",
      "\n",
      "                      (MAE: 4.5080)\n",
      "\n",
      "train_loss= tensor(0.4483)\n",
      "--------------------\n"
     ]
    },
    {
     "name": "stderr",
     "output_type": "stream",
     "text": [
      "100%|██████████| 133/133 [00:21<00:00,  6.12it/s]\n"
     ]
    },
    {
     "name": "stdout",
     "output_type": "stream",
     "text": [
      "                      (F1-score: 0.0429)\n",
      "\n",
      "                      (NDCG: 0.0542)\n",
      "\n",
      "                      (MAE: 4.3994)\n",
      "\n",
      "val_loss= tensor(0.5167)\n",
      "--------------------\n"
     ]
    },
    {
     "name": "stderr",
     "output_type": "stream",
     "text": [
      "100%|██████████| 266/266 [00:43<00:00,  6.09it/s]\n"
     ]
    },
    {
     "name": "stdout",
     "output_type": "stream",
     "text": [
      "                      (F1-score: 0.0467)\n",
      "\n",
      "                      (NDCG: 0.0593)\n",
      "\n",
      "                      (MAE: 4.3195)\n",
      "\n",
      "--------------------\n",
      "[[1, {'F1-score': 0.0001386660620683177}, {'NDCG': 0.00012056498448679546}, {'MAE': 6.0831766917293235}, 1.060592532157898], [2, {'F1-score': 0.00012541708094908745}, {'NDCG': 8.964268980841887e-05}, {'MAE': 4.385338345864661}, 0.5905851125717163], [3, {'F1-score': 7.868848916781247e-05}, {'NDCG': 5.510349887514249e-05}, {'MAE': 4.457236842105263}, 0.5367398858070374], [4, {'F1-score': 0.011910174467723229}, {'NDCG': 0.010843196795392026}, {'MAE': 4.351033834586466}, 0.5036801695823669], [5, {'F1-score': 0.019910581414398724}, {'NDCG': 0.03303729515799314}, {'MAE': 4.44172932330827}, 0.47101667523384094], [6, {'F1-score': 0.02644881298506572}, {'NDCG': 0.040844002404229196}, {'MAE': 4.37406015037594}, 0.46322402358055115], [7, {'F1-score': 0.0399246056772787}, {'NDCG': 0.053563095979336506}, {'MAE': 4.345394736842105}, 0.5044078826904297], [8, {'F1-score': 0.04667853859566283}, {'NDCG': 0.05927971679466966}, {'MAE': 4.319548872180451}, 0.5166702270507812]]\n",
      "-----------------------------------------------------------------------------------------\n"
     ]
    },
    {
     "name": "stderr",
     "output_type": "stream",
     "text": [
      "  0%|          | 1/932 [00:00<03:58,  3.90it/s]"
     ]
    },
    {
     "name": "stdout",
     "output_type": "stream",
     "text": [
      "Epoch 9: 0% , Loss: 0.386115\n"
     ]
    },
    {
     "name": "stderr",
     "output_type": "stream",
     "text": [
      " 11%|█         | 101/932 [00:29<03:50,  3.61it/s]"
     ]
    },
    {
     "name": "stdout",
     "output_type": "stream",
     "text": [
      "Epoch 9: 11% , Loss: 0.310318\n"
     ]
    },
    {
     "name": "stderr",
     "output_type": "stream",
     "text": [
      " 22%|██▏       | 201/932 [00:57<03:27,  3.53it/s]"
     ]
    },
    {
     "name": "stdout",
     "output_type": "stream",
     "text": [
      "Epoch 9: 21% , Loss: 0.192894\n"
     ]
    },
    {
     "name": "stderr",
     "output_type": "stream",
     "text": [
      " 32%|███▏      | 301/932 [01:27<03:07,  3.36it/s]"
     ]
    },
    {
     "name": "stdout",
     "output_type": "stream",
     "text": [
      "Epoch 9: 32% , Loss: 1.352504\n"
     ]
    },
    {
     "name": "stderr",
     "output_type": "stream",
     "text": [
      " 43%|████▎     | 401/932 [01:57<03:08,  2.82it/s]"
     ]
    },
    {
     "name": "stdout",
     "output_type": "stream",
     "text": [
      "Epoch 9: 43% , Loss: 0.807427\n"
     ]
    },
    {
     "name": "stderr",
     "output_type": "stream",
     "text": [
      " 54%|█████▍    | 501/932 [02:27<02:12,  3.26it/s]"
     ]
    },
    {
     "name": "stdout",
     "output_type": "stream",
     "text": [
      "Epoch 9: 54% , Loss: 0.302906\n"
     ]
    },
    {
     "name": "stderr",
     "output_type": "stream",
     "text": [
      " 64%|██████▍   | 601/932 [02:59<01:53,  2.93it/s]"
     ]
    },
    {
     "name": "stdout",
     "output_type": "stream",
     "text": [
      "Epoch 9: 64% , Loss: 0.244894\n"
     ]
    },
    {
     "name": "stderr",
     "output_type": "stream",
     "text": [
      " 75%|███████▌  | 701/932 [03:32<01:18,  2.96it/s]"
     ]
    },
    {
     "name": "stdout",
     "output_type": "stream",
     "text": [
      "Epoch 9: 75% , Loss: 0.615418\n"
     ]
    },
    {
     "name": "stderr",
     "output_type": "stream",
     "text": [
      " 86%|████████▌ | 801/932 [04:05<00:42,  3.10it/s]"
     ]
    },
    {
     "name": "stdout",
     "output_type": "stream",
     "text": [
      "Epoch 9: 86% , Loss: 0.118591\n"
     ]
    },
    {
     "name": "stderr",
     "output_type": "stream",
     "text": [
      " 97%|█████████▋| 901/932 [04:39<00:10,  2.98it/s]"
     ]
    },
    {
     "name": "stdout",
     "output_type": "stream",
     "text": [
      "Epoch 9: 97% , Loss: 0.393648\n"
     ]
    },
    {
     "name": "stderr",
     "output_type": "stream",
     "text": [
      "100%|██████████| 932/932 [04:50<00:00,  3.21it/s]"
     ]
    },
    {
     "name": "stdout",
     "output_type": "stream",
     "text": [
      "Epoch 9: 100% , Loss: 0.433148\n"
     ]
    },
    {
     "name": "stderr",
     "output_type": "stream",
     "text": [
      "\n"
     ]
    },
    {
     "name": "stdout",
     "output_type": "stream",
     "text": [
      "                      (F1-score: 0.0482)\n",
      "\n",
      "                      (NDCG: 0.0618)\n",
      "\n",
      "                      (MAE: 4.5148)\n",
      "\n",
      "train_loss= tensor(0.4466)\n",
      "--------------------\n"
     ]
    },
    {
     "name": "stderr",
     "output_type": "stream",
     "text": [
      "100%|██████████| 133/133 [00:21<00:00,  6.29it/s]\n"
     ]
    },
    {
     "name": "stdout",
     "output_type": "stream",
     "text": [
      "                      (F1-score: 0.0435)\n",
      "\n",
      "                      (NDCG: 0.0546)\n",
      "\n",
      "                      (MAE: 4.3637)\n",
      "\n",
      "val_loss= tensor(0.4754)\n",
      "--------------------\n"
     ]
    },
    {
     "name": "stderr",
     "output_type": "stream",
     "text": [
      "100%|██████████| 266/266 [00:42<00:00,  6.23it/s]\n"
     ]
    },
    {
     "name": "stdout",
     "output_type": "stream",
     "text": [
      "                      (F1-score: 0.0473)\n",
      "\n",
      "                      (NDCG: 0.0595)\n",
      "\n",
      "                      (MAE: 4.3181)\n",
      "\n",
      "--------------------\n",
      "[[1, {'F1-score': 0.0001386660620683177}, {'NDCG': 0.00012056498448679546}, {'MAE': 6.0831766917293235}, 1.060592532157898], [2, {'F1-score': 0.00012541708094908745}, {'NDCG': 8.964268980841887e-05}, {'MAE': 4.385338345864661}, 0.5905851125717163], [3, {'F1-score': 7.868848916781247e-05}, {'NDCG': 5.510349887514249e-05}, {'MAE': 4.457236842105263}, 0.5367398858070374], [4, {'F1-score': 0.011910174467723229}, {'NDCG': 0.010843196795392026}, {'MAE': 4.351033834586466}, 0.5036801695823669], [5, {'F1-score': 0.019910581414398724}, {'NDCG': 0.03303729515799314}, {'MAE': 4.44172932330827}, 0.47101667523384094], [6, {'F1-score': 0.02644881298506572}, {'NDCG': 0.040844002404229196}, {'MAE': 4.37406015037594}, 0.46322402358055115], [7, {'F1-score': 0.0399246056772787}, {'NDCG': 0.053563095979336506}, {'MAE': 4.345394736842105}, 0.5044078826904297], [8, {'F1-score': 0.04667853859566283}, {'NDCG': 0.05927971679466966}, {'MAE': 4.319548872180451}, 0.5166702270507812], [9, {'F1-score': 0.047328316154603055}, {'NDCG': 0.05953080886694834}, {'MAE': 4.3181390977443606}, 0.47541239857673645]]\n",
      "-----------------------------------------------------------------------------------------\n"
     ]
    },
    {
     "name": "stderr",
     "output_type": "stream",
     "text": [
      "  0%|          | 1/932 [00:00<03:44,  4.14it/s]"
     ]
    },
    {
     "name": "stdout",
     "output_type": "stream",
     "text": [
      "Epoch 10: 0% , Loss: 0.178982\n"
     ]
    },
    {
     "name": "stderr",
     "output_type": "stream",
     "text": [
      " 11%|█         | 101/932 [00:27<03:47,  3.65it/s]"
     ]
    },
    {
     "name": "stdout",
     "output_type": "stream",
     "text": [
      "Epoch 10: 11% , Loss: 0.048700\n"
     ]
    },
    {
     "name": "stderr",
     "output_type": "stream",
     "text": [
      " 22%|██▏       | 201/932 [00:56<03:25,  3.56it/s]"
     ]
    },
    {
     "name": "stdout",
     "output_type": "stream",
     "text": [
      "Epoch 10: 21% , Loss: 0.386868\n"
     ]
    },
    {
     "name": "stderr",
     "output_type": "stream",
     "text": [
      " 32%|███▏      | 301/932 [01:27<03:04,  3.42it/s]"
     ]
    },
    {
     "name": "stdout",
     "output_type": "stream",
     "text": [
      "Epoch 10: 32% , Loss: 0.345041\n"
     ]
    },
    {
     "name": "stderr",
     "output_type": "stream",
     "text": [
      " 43%|████▎     | 401/932 [01:57<02:41,  3.28it/s]"
     ]
    },
    {
     "name": "stdout",
     "output_type": "stream",
     "text": [
      "Epoch 10: 43% , Loss: 0.425927\n"
     ]
    },
    {
     "name": "stderr",
     "output_type": "stream",
     "text": [
      " 54%|█████▍    | 501/932 [02:28<02:15,  3.18it/s]"
     ]
    },
    {
     "name": "stdout",
     "output_type": "stream",
     "text": [
      "Epoch 10: 54% , Loss: 0.459078\n"
     ]
    },
    {
     "name": "stderr",
     "output_type": "stream",
     "text": [
      " 64%|██████▍   | 601/932 [02:59<01:40,  3.31it/s]"
     ]
    },
    {
     "name": "stdout",
     "output_type": "stream",
     "text": [
      "Epoch 10: 64% , Loss: 0.520496\n"
     ]
    },
    {
     "name": "stderr",
     "output_type": "stream",
     "text": [
      " 75%|███████▌  | 701/932 [03:32<01:22,  2.81it/s]"
     ]
    },
    {
     "name": "stdout",
     "output_type": "stream",
     "text": [
      "Epoch 10: 75% , Loss: 0.500666\n"
     ]
    },
    {
     "name": "stderr",
     "output_type": "stream",
     "text": [
      " 86%|████████▌ | 801/932 [04:05<00:44,  2.93it/s]"
     ]
    },
    {
     "name": "stdout",
     "output_type": "stream",
     "text": [
      "Epoch 10: 86% , Loss: 0.116762\n"
     ]
    },
    {
     "name": "stderr",
     "output_type": "stream",
     "text": [
      " 97%|█████████▋| 901/932 [04:40<00:10,  2.82it/s]"
     ]
    },
    {
     "name": "stdout",
     "output_type": "stream",
     "text": [
      "Epoch 10: 97% , Loss: 0.332645\n"
     ]
    },
    {
     "name": "stderr",
     "output_type": "stream",
     "text": [
      "100%|██████████| 932/932 [04:51<00:00,  3.20it/s]"
     ]
    },
    {
     "name": "stdout",
     "output_type": "stream",
     "text": [
      "Epoch 10: 100% , Loss: 0.134670\n"
     ]
    },
    {
     "name": "stderr",
     "output_type": "stream",
     "text": [
      "\n"
     ]
    },
    {
     "name": "stdout",
     "output_type": "stream",
     "text": [
      "                      (F1-score: 0.0480)\n",
      "\n",
      "                      (NDCG: 0.0617)\n",
      "\n",
      "                      (MAE: 4.5007)\n",
      "\n",
      "train_loss= tensor(0.4432)\n",
      "--------------------\n"
     ]
    },
    {
     "name": "stderr",
     "output_type": "stream",
     "text": [
      "100%|██████████| 133/133 [00:21<00:00,  6.23it/s]\n"
     ]
    },
    {
     "name": "stdout",
     "output_type": "stream",
     "text": [
      "                      (F1-score: 0.0439)\n",
      "\n",
      "                      (NDCG: 0.0551)\n",
      "\n",
      "                      (MAE: 4.3515)\n",
      "\n",
      "val_loss= tensor(0.4887)\n",
      "--------------------\n"
     ]
    },
    {
     "name": "stderr",
     "output_type": "stream",
     "text": [
      "100%|██████████| 266/266 [00:42<00:00,  6.25it/s]\n"
     ]
    },
    {
     "name": "stdout",
     "output_type": "stream",
     "text": [
      "                      (F1-score: 0.0477)\n",
      "\n",
      "                      (NDCG: 0.0598)\n",
      "\n",
      "                      (MAE: 4.3219)\n",
      "\n",
      "--------------------\n",
      "[[1, {'F1-score': 0.0001386660620683177}, {'NDCG': 0.00012056498448679546}, {'MAE': 6.0831766917293235}, 1.060592532157898], [2, {'F1-score': 0.00012541708094908745}, {'NDCG': 8.964268980841887e-05}, {'MAE': 4.385338345864661}, 0.5905851125717163], [3, {'F1-score': 7.868848916781247e-05}, {'NDCG': 5.510349887514249e-05}, {'MAE': 4.457236842105263}, 0.5367398858070374], [4, {'F1-score': 0.011910174467723229}, {'NDCG': 0.010843196795392026}, {'MAE': 4.351033834586466}, 0.5036801695823669], [5, {'F1-score': 0.019910581414398724}, {'NDCG': 0.03303729515799314}, {'MAE': 4.44172932330827}, 0.47101667523384094], [6, {'F1-score': 0.02644881298506572}, {'NDCG': 0.040844002404229196}, {'MAE': 4.37406015037594}, 0.46322402358055115], [7, {'F1-score': 0.0399246056772787}, {'NDCG': 0.053563095979336506}, {'MAE': 4.345394736842105}, 0.5044078826904297], [8, {'F1-score': 0.04667853859566283}, {'NDCG': 0.05927971679466966}, {'MAE': 4.319548872180451}, 0.5166702270507812], [9, {'F1-score': 0.047328316154603055}, {'NDCG': 0.05953080886694834}, {'MAE': 4.3181390977443606}, 0.47541239857673645], [10, {'F1-score': 0.04768266384925871}, {'NDCG': 0.059803499729036445}, {'MAE': 4.3218984962406015}, 0.48866674304008484]]\n",
      "-----------------------------------------------------------------------------------------\n"
     ]
    },
    {
     "name": "stderr",
     "output_type": "stream",
     "text": [
      "  0%|          | 1/932 [00:00<05:46,  2.69it/s]"
     ]
    },
    {
     "name": "stdout",
     "output_type": "stream",
     "text": [
      "Epoch 11: 0% , Loss: 0.219556\n"
     ]
    },
    {
     "name": "stderr",
     "output_type": "stream",
     "text": [
      " 11%|█         | 101/932 [00:28<04:06,  3.37it/s]"
     ]
    },
    {
     "name": "stdout",
     "output_type": "stream",
     "text": [
      "Epoch 11: 11% , Loss: 0.167325\n"
     ]
    },
    {
     "name": "stderr",
     "output_type": "stream",
     "text": [
      " 22%|██▏       | 201/932 [00:57<03:40,  3.32it/s]"
     ]
    },
    {
     "name": "stdout",
     "output_type": "stream",
     "text": [
      "Epoch 11: 21% , Loss: 0.303329\n"
     ]
    },
    {
     "name": "stderr",
     "output_type": "stream",
     "text": [
      " 32%|███▏      | 301/932 [01:27<03:11,  3.30it/s]"
     ]
    },
    {
     "name": "stdout",
     "output_type": "stream",
     "text": [
      "Epoch 11: 32% , Loss: 0.384995\n"
     ]
    },
    {
     "name": "stderr",
     "output_type": "stream",
     "text": [
      " 43%|████▎     | 401/932 [01:57<02:42,  3.28it/s]"
     ]
    },
    {
     "name": "stdout",
     "output_type": "stream",
     "text": [
      "Epoch 11: 43% , Loss: 0.866434\n"
     ]
    },
    {
     "name": "stderr",
     "output_type": "stream",
     "text": [
      " 54%|█████▍    | 501/932 [02:27<02:06,  3.41it/s]"
     ]
    },
    {
     "name": "stdout",
     "output_type": "stream",
     "text": [
      "Epoch 11: 54% , Loss: 0.779877\n"
     ]
    },
    {
     "name": "stderr",
     "output_type": "stream",
     "text": [
      " 64%|██████▍   | 601/932 [02:59<01:49,  3.02it/s]"
     ]
    },
    {
     "name": "stdout",
     "output_type": "stream",
     "text": [
      "Epoch 11: 64% , Loss: 0.358679\n"
     ]
    },
    {
     "name": "stderr",
     "output_type": "stream",
     "text": [
      " 75%|███████▌  | 701/932 [03:31<01:18,  2.95it/s]"
     ]
    },
    {
     "name": "stdout",
     "output_type": "stream",
     "text": [
      "Epoch 11: 75% , Loss: 0.164172\n"
     ]
    },
    {
     "name": "stderr",
     "output_type": "stream",
     "text": [
      " 86%|████████▌ | 801/932 [04:04<00:42,  3.08it/s]"
     ]
    },
    {
     "name": "stdout",
     "output_type": "stream",
     "text": [
      "Epoch 11: 86% , Loss: 0.158439\n"
     ]
    },
    {
     "name": "stderr",
     "output_type": "stream",
     "text": [
      " 97%|█████████▋| 901/932 [04:38<00:10,  3.03it/s]"
     ]
    },
    {
     "name": "stdout",
     "output_type": "stream",
     "text": [
      "Epoch 11: 97% , Loss: 0.179287\n"
     ]
    },
    {
     "name": "stderr",
     "output_type": "stream",
     "text": [
      "100%|██████████| 932/932 [04:50<00:00,  3.21it/s]"
     ]
    },
    {
     "name": "stdout",
     "output_type": "stream",
     "text": [
      "Epoch 11: 100% , Loss: 0.255880\n"
     ]
    },
    {
     "name": "stderr",
     "output_type": "stream",
     "text": [
      "\n"
     ]
    },
    {
     "name": "stdout",
     "output_type": "stream",
     "text": [
      "                      (F1-score: 0.0478)\n",
      "\n",
      "                      (NDCG: 0.0617)\n",
      "\n",
      "                      (MAE: 4.4895)\n",
      "\n",
      "train_loss= tensor(0.4424)\n",
      "--------------------\n"
     ]
    },
    {
     "name": "stderr",
     "output_type": "stream",
     "text": [
      "100%|██████████| 133/133 [00:21<00:00,  6.28it/s]\n"
     ]
    },
    {
     "name": "stdout",
     "output_type": "stream",
     "text": [
      "                      (F1-score: 0.0444)\n",
      "\n",
      "                      (NDCG: 0.0554)\n",
      "\n",
      "                      (MAE: 4.4925)\n",
      "\n",
      "val_loss= tensor(0.4604)\n",
      "--------------------\n"
     ]
    },
    {
     "name": "stderr",
     "output_type": "stream",
     "text": [
      "100%|██████████| 266/266 [00:42<00:00,  6.21it/s]\n"
     ]
    },
    {
     "name": "stdout",
     "output_type": "stream",
     "text": [
      "                      (F1-score: 0.0478)\n",
      "\n",
      "                      (NDCG: 0.0597)\n",
      "\n",
      "                      (MAE: 4.4436)\n",
      "\n",
      "--------------------\n",
      "[[1, {'F1-score': 0.0001386660620683177}, {'NDCG': 0.00012056498448679546}, {'MAE': 6.0831766917293235}, 1.060592532157898], [2, {'F1-score': 0.00012541708094908745}, {'NDCG': 8.964268980841887e-05}, {'MAE': 4.385338345864661}, 0.5905851125717163], [3, {'F1-score': 7.868848916781247e-05}, {'NDCG': 5.510349887514249e-05}, {'MAE': 4.457236842105263}, 0.5367398858070374], [4, {'F1-score': 0.011910174467723229}, {'NDCG': 0.010843196795392026}, {'MAE': 4.351033834586466}, 0.5036801695823669], [5, {'F1-score': 0.019910581414398724}, {'NDCG': 0.03303729515799314}, {'MAE': 4.44172932330827}, 0.47101667523384094], [6, {'F1-score': 0.02644881298506572}, {'NDCG': 0.040844002404229196}, {'MAE': 4.37406015037594}, 0.46322402358055115], [7, {'F1-score': 0.0399246056772787}, {'NDCG': 0.053563095979336506}, {'MAE': 4.345394736842105}, 0.5044078826904297], [8, {'F1-score': 0.04667853859566283}, {'NDCG': 0.05927971679466966}, {'MAE': 4.319548872180451}, 0.5166702270507812], [9, {'F1-score': 0.047328316154603055}, {'NDCG': 0.05953080886694834}, {'MAE': 4.3181390977443606}, 0.47541239857673645], [10, {'F1-score': 0.04768266384925871}, {'NDCG': 0.059803499729036445}, {'MAE': 4.3218984962406015}, 0.48866674304008484], [11, {'F1-score': 0.04775618328847661}, {'NDCG': 0.05970366847704872}, {'MAE': 4.443609022556391}, 0.46042194962501526]]\n",
      "-----------------------------------------------------------------------------------------\n"
     ]
    },
    {
     "name": "stderr",
     "output_type": "stream",
     "text": [
      "  0%|          | 1/932 [00:00<04:37,  3.36it/s]"
     ]
    },
    {
     "name": "stdout",
     "output_type": "stream",
     "text": [
      "Epoch 12: 0% , Loss: 0.240737\n"
     ]
    },
    {
     "name": "stderr",
     "output_type": "stream",
     "text": [
      " 11%|█         | 101/932 [00:28<03:59,  3.46it/s]"
     ]
    },
    {
     "name": "stdout",
     "output_type": "stream",
     "text": [
      "Epoch 12: 11% , Loss: 0.590050\n"
     ]
    },
    {
     "name": "stderr",
     "output_type": "stream",
     "text": [
      " 22%|██▏       | 201/932 [00:57<03:21,  3.63it/s]"
     ]
    },
    {
     "name": "stdout",
     "output_type": "stream",
     "text": [
      "Epoch 12: 21% , Loss: 0.392897\n"
     ]
    },
    {
     "name": "stderr",
     "output_type": "stream",
     "text": [
      " 32%|███▏      | 301/932 [01:26<03:01,  3.48it/s]"
     ]
    },
    {
     "name": "stdout",
     "output_type": "stream",
     "text": [
      "Epoch 12: 32% , Loss: 0.199915\n"
     ]
    },
    {
     "name": "stderr",
     "output_type": "stream",
     "text": [
      " 43%|████▎     | 401/932 [01:57<02:39,  3.32it/s]"
     ]
    },
    {
     "name": "stdout",
     "output_type": "stream",
     "text": [
      "Epoch 12: 43% , Loss: 0.256600\n"
     ]
    },
    {
     "name": "stderr",
     "output_type": "stream",
     "text": [
      " 54%|█████▍    | 501/932 [02:28<02:11,  3.28it/s]"
     ]
    },
    {
     "name": "stdout",
     "output_type": "stream",
     "text": [
      "Epoch 12: 54% , Loss: 0.350495\n"
     ]
    },
    {
     "name": "stderr",
     "output_type": "stream",
     "text": [
      " 64%|██████▍   | 601/932 [03:00<01:44,  3.18it/s]"
     ]
    },
    {
     "name": "stdout",
     "output_type": "stream",
     "text": [
      "Epoch 12: 64% , Loss: 0.225106\n"
     ]
    },
    {
     "name": "stderr",
     "output_type": "stream",
     "text": [
      " 75%|███████▌  | 701/932 [03:32<01:15,  3.07it/s]"
     ]
    },
    {
     "name": "stdout",
     "output_type": "stream",
     "text": [
      "Epoch 12: 75% , Loss: 0.810627\n"
     ]
    },
    {
     "name": "stderr",
     "output_type": "stream",
     "text": [
      " 86%|████████▌ | 801/932 [04:06<00:44,  2.92it/s]"
     ]
    },
    {
     "name": "stdout",
     "output_type": "stream",
     "text": [
      "Epoch 12: 86% , Loss: 0.229848\n"
     ]
    },
    {
     "name": "stderr",
     "output_type": "stream",
     "text": [
      " 97%|█████████▋| 901/932 [04:40<00:10,  2.90it/s]"
     ]
    },
    {
     "name": "stdout",
     "output_type": "stream",
     "text": [
      "Epoch 12: 97% , Loss: 2.071093\n"
     ]
    },
    {
     "name": "stderr",
     "output_type": "stream",
     "text": [
      "100%|██████████| 932/932 [04:51<00:00,  3.20it/s]"
     ]
    },
    {
     "name": "stdout",
     "output_type": "stream",
     "text": [
      "Epoch 12: 100% , Loss: 1.882024\n"
     ]
    },
    {
     "name": "stderr",
     "output_type": "stream",
     "text": [
      "\n"
     ]
    },
    {
     "name": "stdout",
     "output_type": "stream",
     "text": [
      "                      (F1-score: 0.0481)\n",
      "\n",
      "                      (NDCG: 0.0618)\n",
      "\n",
      "                      (MAE: 4.4496)\n",
      "\n",
      "train_loss= tensor(0.4375)\n",
      "--------------------\n"
     ]
    },
    {
     "name": "stderr",
     "output_type": "stream",
     "text": [
      "100%|██████████| 133/133 [00:21<00:00,  6.28it/s]\n"
     ]
    },
    {
     "name": "stdout",
     "output_type": "stream",
     "text": [
      "                      (F1-score: 0.0429)\n",
      "\n",
      "                      (NDCG: 0.0543)\n",
      "\n",
      "                      (MAE: 4.4539)\n",
      "\n",
      "val_loss= tensor(0.4471)\n",
      "--------------------\n"
     ]
    },
    {
     "name": "stderr",
     "output_type": "stream",
     "text": [
      "100%|██████████| 266/266 [00:43<00:00,  6.16it/s]\n"
     ]
    },
    {
     "name": "stdout",
     "output_type": "stream",
     "text": [
      "                      (F1-score: 0.0478)\n",
      "\n",
      "                      (NDCG: 0.0598)\n",
      "\n",
      "                      (MAE: 4.4220)\n",
      "\n",
      "--------------------\n",
      "[[1, {'F1-score': 0.0001386660620683177}, {'NDCG': 0.00012056498448679546}, {'MAE': 6.0831766917293235}, 1.060592532157898], [2, {'F1-score': 0.00012541708094908745}, {'NDCG': 8.964268980841887e-05}, {'MAE': 4.385338345864661}, 0.5905851125717163], [3, {'F1-score': 7.868848916781247e-05}, {'NDCG': 5.510349887514249e-05}, {'MAE': 4.457236842105263}, 0.5367398858070374], [4, {'F1-score': 0.011910174467723229}, {'NDCG': 0.010843196795392026}, {'MAE': 4.351033834586466}, 0.5036801695823669], [5, {'F1-score': 0.019910581414398724}, {'NDCG': 0.03303729515799314}, {'MAE': 4.44172932330827}, 0.47101667523384094], [6, {'F1-score': 0.02644881298506572}, {'NDCG': 0.040844002404229196}, {'MAE': 4.37406015037594}, 0.46322402358055115], [7, {'F1-score': 0.0399246056772787}, {'NDCG': 0.053563095979336506}, {'MAE': 4.345394736842105}, 0.5044078826904297], [8, {'F1-score': 0.04667853859566283}, {'NDCG': 0.05927971679466966}, {'MAE': 4.319548872180451}, 0.5166702270507812], [9, {'F1-score': 0.047328316154603055}, {'NDCG': 0.05953080886694834}, {'MAE': 4.3181390977443606}, 0.47541239857673645], [10, {'F1-score': 0.04768266384925871}, {'NDCG': 0.059803499729036445}, {'MAE': 4.3218984962406015}, 0.48866674304008484], [11, {'F1-score': 0.04775618328847661}, {'NDCG': 0.05970366847704872}, {'MAE': 4.443609022556391}, 0.46042194962501526], [12, {'F1-score': 0.047794537877801795}, {'NDCG': 0.0598465548622548}, {'MAE': 4.421992481203008}, 0.4470631182193756]]\n",
      "-----------------------------------------------------------------------------------------\n"
     ]
    },
    {
     "name": "stderr",
     "output_type": "stream",
     "text": [
      "  0%|          | 1/932 [00:00<03:51,  4.02it/s]"
     ]
    },
    {
     "name": "stdout",
     "output_type": "stream",
     "text": [
      "Epoch 13: 0% , Loss: 1.937869\n"
     ]
    },
    {
     "name": "stderr",
     "output_type": "stream",
     "text": [
      " 11%|█         | 101/932 [00:27<03:52,  3.57it/s]"
     ]
    },
    {
     "name": "stdout",
     "output_type": "stream",
     "text": [
      "Epoch 13: 11% , Loss: 0.201774\n"
     ]
    },
    {
     "name": "stderr",
     "output_type": "stream",
     "text": [
      " 22%|██▏       | 201/932 [00:56<03:26,  3.54it/s]"
     ]
    },
    {
     "name": "stdout",
     "output_type": "stream",
     "text": [
      "Epoch 13: 21% , Loss: 0.703739\n"
     ]
    },
    {
     "name": "stderr",
     "output_type": "stream",
     "text": [
      " 32%|███▏      | 301/932 [01:25<02:59,  3.51it/s]"
     ]
    },
    {
     "name": "stdout",
     "output_type": "stream",
     "text": [
      "Epoch 13: 32% , Loss: 0.146595\n"
     ]
    },
    {
     "name": "stderr",
     "output_type": "stream",
     "text": [
      " 43%|████▎     | 401/932 [01:55<02:35,  3.41it/s]"
     ]
    },
    {
     "name": "stdout",
     "output_type": "stream",
     "text": [
      "Epoch 13: 43% , Loss: 0.366997\n"
     ]
    },
    {
     "name": "stderr",
     "output_type": "stream",
     "text": [
      " 54%|█████▍    | 501/932 [02:26<02:24,  2.99it/s]"
     ]
    },
    {
     "name": "stdout",
     "output_type": "stream",
     "text": [
      "Epoch 13: 54% , Loss: 0.156211\n"
     ]
    },
    {
     "name": "stderr",
     "output_type": "stream",
     "text": [
      " 64%|██████▍   | 601/932 [02:58<01:46,  3.11it/s]"
     ]
    },
    {
     "name": "stdout",
     "output_type": "stream",
     "text": [
      "Epoch 13: 64% , Loss: 0.187644\n"
     ]
    },
    {
     "name": "stderr",
     "output_type": "stream",
     "text": [
      " 75%|███████▌  | 701/932 [03:30<01:14,  3.11it/s]"
     ]
    },
    {
     "name": "stdout",
     "output_type": "stream",
     "text": [
      "Epoch 13: 75% , Loss: 0.270149\n"
     ]
    },
    {
     "name": "stderr",
     "output_type": "stream",
     "text": [
      " 86%|████████▌ | 801/932 [04:04<00:44,  2.97it/s]"
     ]
    },
    {
     "name": "stdout",
     "output_type": "stream",
     "text": [
      "Epoch 13: 86% , Loss: 0.124903\n"
     ]
    },
    {
     "name": "stderr",
     "output_type": "stream",
     "text": [
      " 97%|█████████▋| 901/932 [04:40<00:12,  2.50it/s]"
     ]
    },
    {
     "name": "stdout",
     "output_type": "stream",
     "text": [
      "Epoch 13: 97% , Loss: 0.229998\n"
     ]
    },
    {
     "name": "stderr",
     "output_type": "stream",
     "text": [
      "100%|██████████| 932/932 [04:51<00:00,  3.19it/s]"
     ]
    },
    {
     "name": "stdout",
     "output_type": "stream",
     "text": [
      "Epoch 13: 100% , Loss: 0.286698\n"
     ]
    },
    {
     "name": "stderr",
     "output_type": "stream",
     "text": [
      "\n"
     ]
    },
    {
     "name": "stdout",
     "output_type": "stream",
     "text": [
      "                      (F1-score: 0.0475)\n",
      "\n",
      "                      (NDCG: 0.0614)\n",
      "\n",
      "                      (MAE: 4.4748)\n",
      "\n",
      "train_loss= tensor(0.4376)\n",
      "--------------------\n"
     ]
    },
    {
     "name": "stderr",
     "output_type": "stream",
     "text": [
      "100%|██████████| 133/133 [00:20<00:00,  6.34it/s]\n"
     ]
    },
    {
     "name": "stdout",
     "output_type": "stream",
     "text": [
      "                      (F1-score: 0.0445)\n",
      "\n",
      "                      (NDCG: 0.0554)\n",
      "\n",
      "                      (MAE: 4.6212)\n",
      "\n",
      "val_loss= tensor(0.4757)\n",
      "--------------------\n"
     ]
    },
    {
     "name": "stderr",
     "output_type": "stream",
     "text": [
      "100%|██████████| 266/266 [00:42<00:00,  6.25it/s]\n"
     ]
    },
    {
     "name": "stdout",
     "output_type": "stream",
     "text": [
      "                      (F1-score: 0.0471)\n",
      "\n",
      "                      (NDCG: 0.0597)\n",
      "\n",
      "                      (MAE: 4.5818)\n",
      "\n",
      "--------------------\n",
      "[[1, {'F1-score': 0.0001386660620683177}, {'NDCG': 0.00012056498448679546}, {'MAE': 6.0831766917293235}, 1.060592532157898], [2, {'F1-score': 0.00012541708094908745}, {'NDCG': 8.964268980841887e-05}, {'MAE': 4.385338345864661}, 0.5905851125717163], [3, {'F1-score': 7.868848916781247e-05}, {'NDCG': 5.510349887514249e-05}, {'MAE': 4.457236842105263}, 0.5367398858070374], [4, {'F1-score': 0.011910174467723229}, {'NDCG': 0.010843196795392026}, {'MAE': 4.351033834586466}, 0.5036801695823669], [5, {'F1-score': 0.019910581414398724}, {'NDCG': 0.03303729515799314}, {'MAE': 4.44172932330827}, 0.47101667523384094], [6, {'F1-score': 0.02644881298506572}, {'NDCG': 0.040844002404229196}, {'MAE': 4.37406015037594}, 0.46322402358055115], [7, {'F1-score': 0.0399246056772787}, {'NDCG': 0.053563095979336506}, {'MAE': 4.345394736842105}, 0.5044078826904297], [8, {'F1-score': 0.04667853859566283}, {'NDCG': 0.05927971679466966}, {'MAE': 4.319548872180451}, 0.5166702270507812], [9, {'F1-score': 0.047328316154603055}, {'NDCG': 0.05953080886694834}, {'MAE': 4.3181390977443606}, 0.47541239857673645], [10, {'F1-score': 0.04768266384925871}, {'NDCG': 0.059803499729036445}, {'MAE': 4.3218984962406015}, 0.48866674304008484], [11, {'F1-score': 0.04775618328847661}, {'NDCG': 0.05970366847704872}, {'MAE': 4.443609022556391}, 0.46042194962501526], [12, {'F1-score': 0.047794537877801795}, {'NDCG': 0.0598465548622548}, {'MAE': 4.421992481203008}, 0.4470631182193756], [13, {'F1-score': 0.04711230526206985}, {'NDCG': 0.05966901007595059}, {'MAE': 4.581766917293233}, 0.4756716787815094]]\n",
      "-----------------------------------------------------------------------------------------\n"
     ]
    },
    {
     "name": "stderr",
     "output_type": "stream",
     "text": [
      "  0%|          | 1/932 [00:00<04:52,  3.18it/s]"
     ]
    },
    {
     "name": "stdout",
     "output_type": "stream",
     "text": [
      "Epoch 14: 0% , Loss: 1.052492\n"
     ]
    },
    {
     "name": "stderr",
     "output_type": "stream",
     "text": [
      " 11%|█         | 101/932 [00:27<03:55,  3.53it/s]"
     ]
    },
    {
     "name": "stdout",
     "output_type": "stream",
     "text": [
      "Epoch 14: 11% , Loss: 0.412530\n"
     ]
    },
    {
     "name": "stderr",
     "output_type": "stream",
     "text": [
      " 22%|██▏       | 201/932 [00:56<03:32,  3.43it/s]"
     ]
    },
    {
     "name": "stdout",
     "output_type": "stream",
     "text": [
      "Epoch 14: 21% , Loss: 0.392203\n"
     ]
    },
    {
     "name": "stderr",
     "output_type": "stream",
     "text": [
      " 32%|███▏      | 301/932 [01:25<03:07,  3.37it/s]"
     ]
    },
    {
     "name": "stdout",
     "output_type": "stream",
     "text": [
      "Epoch 14: 32% , Loss: 0.174176\n"
     ]
    },
    {
     "name": "stderr",
     "output_type": "stream",
     "text": [
      " 43%|████▎     | 401/932 [01:55<02:44,  3.23it/s]"
     ]
    },
    {
     "name": "stdout",
     "output_type": "stream",
     "text": [
      "Epoch 14: 43% , Loss: 0.164527\n"
     ]
    },
    {
     "name": "stderr",
     "output_type": "stream",
     "text": [
      " 54%|█████▍    | 501/932 [02:26<02:30,  2.86it/s]"
     ]
    },
    {
     "name": "stdout",
     "output_type": "stream",
     "text": [
      "Epoch 14: 54% , Loss: 0.185534\n"
     ]
    },
    {
     "name": "stderr",
     "output_type": "stream",
     "text": [
      " 64%|██████▍   | 601/932 [02:58<01:41,  3.25it/s]"
     ]
    },
    {
     "name": "stdout",
     "output_type": "stream",
     "text": [
      "Epoch 14: 64% , Loss: 0.378326\n"
     ]
    },
    {
     "name": "stderr",
     "output_type": "stream",
     "text": [
      " 75%|███████▌  | 701/932 [03:31<01:15,  3.06it/s]"
     ]
    },
    {
     "name": "stdout",
     "output_type": "stream",
     "text": [
      "Epoch 14: 75% , Loss: 0.490594\n"
     ]
    },
    {
     "name": "stderr",
     "output_type": "stream",
     "text": [
      " 86%|████████▌ | 801/932 [04:06<00:48,  2.71it/s]"
     ]
    },
    {
     "name": "stdout",
     "output_type": "stream",
     "text": [
      "Epoch 14: 86% , Loss: 0.207929\n"
     ]
    },
    {
     "name": "stderr",
     "output_type": "stream",
     "text": [
      " 97%|█████████▋| 901/932 [04:41<00:10,  3.00it/s]"
     ]
    },
    {
     "name": "stdout",
     "output_type": "stream",
     "text": [
      "Epoch 14: 97% , Loss: 0.403217\n"
     ]
    },
    {
     "name": "stderr",
     "output_type": "stream",
     "text": [
      "100%|██████████| 932/932 [04:52<00:00,  3.19it/s]"
     ]
    },
    {
     "name": "stdout",
     "output_type": "stream",
     "text": [
      "Epoch 14: 100% , Loss: 0.189789\n"
     ]
    },
    {
     "name": "stderr",
     "output_type": "stream",
     "text": [
      "\n"
     ]
    },
    {
     "name": "stdout",
     "output_type": "stream",
     "text": [
      "                      (F1-score: 0.0479)\n",
      "\n",
      "                      (NDCG: 0.0616)\n",
      "\n",
      "                      (MAE: 4.4710)\n",
      "\n",
      "train_loss= tensor(0.4376)\n",
      "--------------------\n"
     ]
    },
    {
     "name": "stderr",
     "output_type": "stream",
     "text": [
      "100%|██████████| 133/133 [00:22<00:00,  5.87it/s]\n"
     ]
    },
    {
     "name": "stdout",
     "output_type": "stream",
     "text": [
      "                      (F1-score: 0.0435)\n",
      "\n",
      "                      (NDCG: 0.0547)\n",
      "\n",
      "                      (MAE: 4.3543)\n",
      "\n",
      "val_loss= tensor(0.4817)\n",
      "--------------------\n"
     ]
    },
    {
     "name": "stderr",
     "output_type": "stream",
     "text": [
      "100%|██████████| 266/266 [00:43<00:00,  6.09it/s]\n"
     ]
    },
    {
     "name": "stdout",
     "output_type": "stream",
     "text": [
      "                      (F1-score: 0.0472)\n",
      "\n",
      "                      (NDCG: 0.0595)\n",
      "\n",
      "                      (MAE: 4.3421)\n",
      "\n",
      "--------------------\n",
      "[[1, {'F1-score': 0.0001386660620683177}, {'NDCG': 0.00012056498448679546}, {'MAE': 6.0831766917293235}, 1.060592532157898], [2, {'F1-score': 0.00012541708094908745}, {'NDCG': 8.964268980841887e-05}, {'MAE': 4.385338345864661}, 0.5905851125717163], [3, {'F1-score': 7.868848916781247e-05}, {'NDCG': 5.510349887514249e-05}, {'MAE': 4.457236842105263}, 0.5367398858070374], [4, {'F1-score': 0.011910174467723229}, {'NDCG': 0.010843196795392026}, {'MAE': 4.351033834586466}, 0.5036801695823669], [5, {'F1-score': 0.019910581414398724}, {'NDCG': 0.03303729515799314}, {'MAE': 4.44172932330827}, 0.47101667523384094], [6, {'F1-score': 0.02644881298506572}, {'NDCG': 0.040844002404229196}, {'MAE': 4.37406015037594}, 0.46322402358055115], [7, {'F1-score': 0.0399246056772787}, {'NDCG': 0.053563095979336506}, {'MAE': 4.345394736842105}, 0.5044078826904297], [8, {'F1-score': 0.04667853859566283}, {'NDCG': 0.05927971679466966}, {'MAE': 4.319548872180451}, 0.5166702270507812], [9, {'F1-score': 0.047328316154603055}, {'NDCG': 0.05953080886694834}, {'MAE': 4.3181390977443606}, 0.47541239857673645], [10, {'F1-score': 0.04768266384925871}, {'NDCG': 0.059803499729036445}, {'MAE': 4.3218984962406015}, 0.48866674304008484], [11, {'F1-score': 0.04775618328847661}, {'NDCG': 0.05970366847704872}, {'MAE': 4.443609022556391}, 0.46042194962501526], [12, {'F1-score': 0.047794537877801795}, {'NDCG': 0.0598465548622548}, {'MAE': 4.421992481203008}, 0.4470631182193756], [13, {'F1-score': 0.04711230526206985}, {'NDCG': 0.05966901007595059}, {'MAE': 4.581766917293233}, 0.4756716787815094], [14, {'F1-score': 0.04723161077816466}, {'NDCG': 0.05945372615356166}, {'MAE': 4.342105263157895}, 0.4816666841506958]]\n",
      "-----------------------------------------------------------------------------------------\n"
     ]
    },
    {
     "name": "stderr",
     "output_type": "stream",
     "text": [
      "  0%|          | 1/932 [00:00<04:09,  3.73it/s]"
     ]
    },
    {
     "name": "stdout",
     "output_type": "stream",
     "text": [
      "Epoch 15: 0% , Loss: 1.678640\n"
     ]
    },
    {
     "name": "stderr",
     "output_type": "stream",
     "text": [
      " 11%|█         | 101/932 [00:28<03:48,  3.64it/s]"
     ]
    },
    {
     "name": "stdout",
     "output_type": "stream",
     "text": [
      "Epoch 15: 11% , Loss: 0.127780\n"
     ]
    },
    {
     "name": "stderr",
     "output_type": "stream",
     "text": [
      " 22%|██▏       | 201/932 [00:57<03:38,  3.34it/s]"
     ]
    },
    {
     "name": "stdout",
     "output_type": "stream",
     "text": [
      "Epoch 15: 21% , Loss: 0.148549\n"
     ]
    },
    {
     "name": "stderr",
     "output_type": "stream",
     "text": [
      " 32%|███▏      | 301/932 [01:27<03:04,  3.42it/s]"
     ]
    },
    {
     "name": "stdout",
     "output_type": "stream",
     "text": [
      "Epoch 15: 32% , Loss: 1.018777\n"
     ]
    },
    {
     "name": "stderr",
     "output_type": "stream",
     "text": [
      " 43%|████▎     | 401/932 [01:57<02:54,  3.04it/s]"
     ]
    },
    {
     "name": "stdout",
     "output_type": "stream",
     "text": [
      "Epoch 15: 43% , Loss: 0.308410\n"
     ]
    },
    {
     "name": "stderr",
     "output_type": "stream",
     "text": [
      " 54%|█████▍    | 501/932 [02:28<02:17,  3.12it/s]"
     ]
    },
    {
     "name": "stdout",
     "output_type": "stream",
     "text": [
      "Epoch 15: 54% , Loss: 0.262554\n"
     ]
    },
    {
     "name": "stderr",
     "output_type": "stream",
     "text": [
      " 64%|██████▍   | 601/932 [03:00<01:45,  3.14it/s]"
     ]
    },
    {
     "name": "stdout",
     "output_type": "stream",
     "text": [
      "Epoch 15: 64% , Loss: 0.615775\n"
     ]
    },
    {
     "name": "stderr",
     "output_type": "stream",
     "text": [
      " 75%|███████▌  | 701/932 [03:32<01:15,  3.08it/s]"
     ]
    },
    {
     "name": "stdout",
     "output_type": "stream",
     "text": [
      "Epoch 15: 75% , Loss: 0.296600\n"
     ]
    },
    {
     "name": "stderr",
     "output_type": "stream",
     "text": [
      " 86%|████████▌ | 801/932 [04:07<00:44,  2.96it/s]"
     ]
    },
    {
     "name": "stdout",
     "output_type": "stream",
     "text": [
      "Epoch 15: 86% , Loss: 0.137617\n"
     ]
    },
    {
     "name": "stderr",
     "output_type": "stream",
     "text": [
      " 97%|█████████▋| 901/932 [04:42<00:11,  2.77it/s]"
     ]
    },
    {
     "name": "stdout",
     "output_type": "stream",
     "text": [
      "Epoch 15: 97% , Loss: 0.196256\n"
     ]
    },
    {
     "name": "stderr",
     "output_type": "stream",
     "text": [
      "100%|██████████| 932/932 [04:53<00:00,  3.17it/s]"
     ]
    },
    {
     "name": "stdout",
     "output_type": "stream",
     "text": [
      "Epoch 15: 100% , Loss: 0.190540\n"
     ]
    },
    {
     "name": "stderr",
     "output_type": "stream",
     "text": [
      "\n"
     ]
    },
    {
     "name": "stdout",
     "output_type": "stream",
     "text": [
      "                      (F1-score: 0.0479)\n",
      "\n",
      "                      (NDCG: 0.0616)\n",
      "\n",
      "                      (MAE: 4.4202)\n",
      "\n",
      "train_loss= tensor(0.4312)\n",
      "--------------------\n"
     ]
    },
    {
     "name": "stderr",
     "output_type": "stream",
     "text": [
      "100%|██████████| 133/133 [00:21<00:00,  6.17it/s]\n"
     ]
    },
    {
     "name": "stdout",
     "output_type": "stream",
     "text": [
      "                      (F1-score: 0.0442)\n",
      "\n",
      "                      (NDCG: 0.0552)\n",
      "\n",
      "                      (MAE: 4.5273)\n",
      "\n",
      "val_loss= tensor(0.4810)\n",
      "--------------------\n"
     ]
    },
    {
     "name": "stderr",
     "output_type": "stream",
     "text": [
      "100%|██████████| 266/266 [00:42<00:00,  6.22it/s]\n"
     ]
    },
    {
     "name": "stdout",
     "output_type": "stream",
     "text": [
      "                      (F1-score: 0.0472)\n",
      "\n",
      "                      (NDCG: 0.0597)\n",
      "\n",
      "                      (MAE: 4.6330)\n",
      "\n",
      "--------------------\n",
      "[[1, {'F1-score': 0.0001386660620683177}, {'NDCG': 0.00012056498448679546}, {'MAE': 6.0831766917293235}, 1.060592532157898], [2, {'F1-score': 0.00012541708094908745}, {'NDCG': 8.964268980841887e-05}, {'MAE': 4.385338345864661}, 0.5905851125717163], [3, {'F1-score': 7.868848916781247e-05}, {'NDCG': 5.510349887514249e-05}, {'MAE': 4.457236842105263}, 0.5367398858070374], [4, {'F1-score': 0.011910174467723229}, {'NDCG': 0.010843196795392026}, {'MAE': 4.351033834586466}, 0.5036801695823669], [5, {'F1-score': 0.019910581414398724}, {'NDCG': 0.03303729515799314}, {'MAE': 4.44172932330827}, 0.47101667523384094], [6, {'F1-score': 0.02644881298506572}, {'NDCG': 0.040844002404229196}, {'MAE': 4.37406015037594}, 0.46322402358055115], [7, {'F1-score': 0.0399246056772787}, {'NDCG': 0.053563095979336506}, {'MAE': 4.345394736842105}, 0.5044078826904297], [8, {'F1-score': 0.04667853859566283}, {'NDCG': 0.05927971679466966}, {'MAE': 4.319548872180451}, 0.5166702270507812], [9, {'F1-score': 0.047328316154603055}, {'NDCG': 0.05953080886694834}, {'MAE': 4.3181390977443606}, 0.47541239857673645], [10, {'F1-score': 0.04768266384925871}, {'NDCG': 0.059803499729036445}, {'MAE': 4.3218984962406015}, 0.48866674304008484], [11, {'F1-score': 0.04775618328847661}, {'NDCG': 0.05970366847704872}, {'MAE': 4.443609022556391}, 0.46042194962501526], [12, {'F1-score': 0.047794537877801795}, {'NDCG': 0.0598465548622548}, {'MAE': 4.421992481203008}, 0.4470631182193756], [13, {'F1-score': 0.04711230526206985}, {'NDCG': 0.05966901007595059}, {'MAE': 4.581766917293233}, 0.4756716787815094], [14, {'F1-score': 0.04723161077816466}, {'NDCG': 0.05945372615356166}, {'MAE': 4.342105263157895}, 0.4816666841506958], [15, {'F1-score': 0.04722102659180576}, {'NDCG': 0.059696484710741085}, {'MAE': 4.632988721804511}, 0.48104894161224365]]\n",
      "-----------------------------------------------------------------------------------------\n"
     ]
    },
    {
     "name": "stderr",
     "output_type": "stream",
     "text": [
      "  0%|          | 1/932 [00:00<03:52,  4.00it/s]"
     ]
    },
    {
     "name": "stdout",
     "output_type": "stream",
     "text": [
      "Epoch 16: 0% , Loss: 0.152892\n"
     ]
    },
    {
     "name": "stderr",
     "output_type": "stream",
     "text": [
      " 11%|█         | 101/932 [00:27<03:46,  3.67it/s]"
     ]
    },
    {
     "name": "stdout",
     "output_type": "stream",
     "text": [
      "Epoch 16: 11% , Loss: 0.848774\n"
     ]
    },
    {
     "name": "stderr",
     "output_type": "stream",
     "text": [
      " 22%|██▏       | 201/932 [00:56<03:34,  3.42it/s]"
     ]
    },
    {
     "name": "stdout",
     "output_type": "stream",
     "text": [
      "Epoch 16: 21% , Loss: 0.114725\n"
     ]
    },
    {
     "name": "stderr",
     "output_type": "stream",
     "text": [
      " 32%|███▏      | 301/932 [01:26<02:59,  3.51it/s]"
     ]
    },
    {
     "name": "stdout",
     "output_type": "stream",
     "text": [
      "Epoch 16: 32% , Loss: 0.335978\n"
     ]
    },
    {
     "name": "stderr",
     "output_type": "stream",
     "text": [
      " 43%|████▎     | 401/932 [01:56<02:38,  3.34it/s]"
     ]
    },
    {
     "name": "stdout",
     "output_type": "stream",
     "text": [
      "Epoch 16: 43% , Loss: 0.285616\n"
     ]
    },
    {
     "name": "stderr",
     "output_type": "stream",
     "text": [
      " 54%|█████▍    | 501/932 [02:28<02:10,  3.29it/s]"
     ]
    },
    {
     "name": "stdout",
     "output_type": "stream",
     "text": [
      "Epoch 16: 54% , Loss: 0.592017\n"
     ]
    },
    {
     "name": "stderr",
     "output_type": "stream",
     "text": [
      " 64%|██████▍   | 601/932 [03:00<01:52,  2.93it/s]"
     ]
    },
    {
     "name": "stdout",
     "output_type": "stream",
     "text": [
      "Epoch 16: 64% , Loss: 0.376966\n"
     ]
    },
    {
     "name": "stderr",
     "output_type": "stream",
     "text": [
      " 75%|███████▌  | 701/932 [03:33<01:17,  2.98it/s]"
     ]
    },
    {
     "name": "stdout",
     "output_type": "stream",
     "text": [
      "Epoch 16: 75% , Loss: 0.153576\n"
     ]
    },
    {
     "name": "stderr",
     "output_type": "stream",
     "text": [
      " 86%|████████▌ | 801/932 [04:08<00:45,  2.89it/s]"
     ]
    },
    {
     "name": "stdout",
     "output_type": "stream",
     "text": [
      "Epoch 16: 86% , Loss: 0.122465\n"
     ]
    },
    {
     "name": "stderr",
     "output_type": "stream",
     "text": [
      " 97%|█████████▋| 901/932 [04:42<00:10,  2.88it/s]"
     ]
    },
    {
     "name": "stdout",
     "output_type": "stream",
     "text": [
      "Epoch 16: 97% , Loss: 0.183019\n"
     ]
    },
    {
     "name": "stderr",
     "output_type": "stream",
     "text": [
      "100%|██████████| 932/932 [04:53<00:00,  3.17it/s]"
     ]
    },
    {
     "name": "stdout",
     "output_type": "stream",
     "text": [
      "Epoch 16: 100% , Loss: 0.310392\n"
     ]
    },
    {
     "name": "stderr",
     "output_type": "stream",
     "text": [
      "\n"
     ]
    },
    {
     "name": "stdout",
     "output_type": "stream",
     "text": [
      "                      (F1-score: 0.0482)\n",
      "\n",
      "                      (NDCG: 0.0620)\n",
      "\n",
      "                      (MAE: 4.4029)\n",
      "\n",
      "train_loss= tensor(0.4308)\n",
      "--------------------\n"
     ]
    },
    {
     "name": "stderr",
     "output_type": "stream",
     "text": [
      "100%|██████████| 133/133 [00:21<00:00,  6.31it/s]\n"
     ]
    },
    {
     "name": "stdout",
     "output_type": "stream",
     "text": [
      "                      (F1-score: 0.0453)\n",
      "\n",
      "                      (NDCG: 0.0560)\n",
      "\n",
      "                      (MAE: 4.4887)\n",
      "\n",
      "val_loss= tensor(0.4729)\n",
      "--------------------\n"
     ]
    },
    {
     "name": "stderr",
     "output_type": "stream",
     "text": [
      "100%|██████████| 266/266 [00:43<00:00,  6.17it/s]\n"
     ]
    },
    {
     "name": "stdout",
     "output_type": "stream",
     "text": [
      "                      (F1-score: 0.0466)\n",
      "\n",
      "                      (NDCG: 0.0594)\n",
      "\n",
      "                      (MAE: 4.4417)\n",
      "\n",
      "--------------------\n",
      "[[1, {'F1-score': 0.0001386660620683177}, {'NDCG': 0.00012056498448679546}, {'MAE': 6.0831766917293235}, 1.060592532157898], [2, {'F1-score': 0.00012541708094908745}, {'NDCG': 8.964268980841887e-05}, {'MAE': 4.385338345864661}, 0.5905851125717163], [3, {'F1-score': 7.868848916781247e-05}, {'NDCG': 5.510349887514249e-05}, {'MAE': 4.457236842105263}, 0.5367398858070374], [4, {'F1-score': 0.011910174467723229}, {'NDCG': 0.010843196795392026}, {'MAE': 4.351033834586466}, 0.5036801695823669], [5, {'F1-score': 0.019910581414398724}, {'NDCG': 0.03303729515799314}, {'MAE': 4.44172932330827}, 0.47101667523384094], [6, {'F1-score': 0.02644881298506572}, {'NDCG': 0.040844002404229196}, {'MAE': 4.37406015037594}, 0.46322402358055115], [7, {'F1-score': 0.0399246056772787}, {'NDCG': 0.053563095979336506}, {'MAE': 4.345394736842105}, 0.5044078826904297], [8, {'F1-score': 0.04667853859566283}, {'NDCG': 0.05927971679466966}, {'MAE': 4.319548872180451}, 0.5166702270507812], [9, {'F1-score': 0.047328316154603055}, {'NDCG': 0.05953080886694834}, {'MAE': 4.3181390977443606}, 0.47541239857673645], [10, {'F1-score': 0.04768266384925871}, {'NDCG': 0.059803499729036445}, {'MAE': 4.3218984962406015}, 0.48866674304008484], [11, {'F1-score': 0.04775618328847661}, {'NDCG': 0.05970366847704872}, {'MAE': 4.443609022556391}, 0.46042194962501526], [12, {'F1-score': 0.047794537877801795}, {'NDCG': 0.0598465548622548}, {'MAE': 4.421992481203008}, 0.4470631182193756], [13, {'F1-score': 0.04711230526206985}, {'NDCG': 0.05966901007595059}, {'MAE': 4.581766917293233}, 0.4756716787815094], [14, {'F1-score': 0.04723161077816466}, {'NDCG': 0.05945372615356166}, {'MAE': 4.342105263157895}, 0.4816666841506958], [15, {'F1-score': 0.04722102659180576}, {'NDCG': 0.059696484710741085}, {'MAE': 4.632988721804511}, 0.48104894161224365], [16, {'F1-score': 0.04657582839157669}, {'NDCG': 0.05938343664401918}, {'MAE': 4.44172932330827}, 0.4729230999946594]]\n",
      "-----------------------------------------------------------------------------------------\n"
     ]
    },
    {
     "name": "stderr",
     "output_type": "stream",
     "text": [
      "  0%|          | 1/932 [00:00<04:22,  3.55it/s]"
     ]
    },
    {
     "name": "stdout",
     "output_type": "stream",
     "text": [
      "Epoch 17: 0% , Loss: 0.091996\n"
     ]
    },
    {
     "name": "stderr",
     "output_type": "stream",
     "text": [
      " 11%|█         | 101/932 [00:29<04:07,  3.36it/s]"
     ]
    },
    {
     "name": "stdout",
     "output_type": "stream",
     "text": [
      "Epoch 17: 11% , Loss: 0.112254\n"
     ]
    },
    {
     "name": "stderr",
     "output_type": "stream",
     "text": [
      " 22%|██▏       | 201/932 [00:58<03:44,  3.25it/s]"
     ]
    },
    {
     "name": "stdout",
     "output_type": "stream",
     "text": [
      "Epoch 17: 21% , Loss: 1.052361\n"
     ]
    },
    {
     "name": "stderr",
     "output_type": "stream",
     "text": [
      " 32%|███▏      | 301/932 [01:28<03:28,  3.03it/s]"
     ]
    },
    {
     "name": "stdout",
     "output_type": "stream",
     "text": [
      "Epoch 17: 32% , Loss: 0.448425\n"
     ]
    },
    {
     "name": "stderr",
     "output_type": "stream",
     "text": [
      " 43%|████▎     | 401/932 [01:58<02:44,  3.22it/s]"
     ]
    },
    {
     "name": "stdout",
     "output_type": "stream",
     "text": [
      "Epoch 17: 43% , Loss: 0.113649\n"
     ]
    },
    {
     "name": "stderr",
     "output_type": "stream",
     "text": [
      " 54%|█████▍    | 501/932 [02:29<02:22,  3.02it/s]"
     ]
    },
    {
     "name": "stdout",
     "output_type": "stream",
     "text": [
      "Epoch 17: 54% , Loss: 0.392233\n"
     ]
    },
    {
     "name": "stderr",
     "output_type": "stream",
     "text": [
      " 64%|██████▍   | 601/932 [03:02<01:49,  3.01it/s]"
     ]
    },
    {
     "name": "stdout",
     "output_type": "stream",
     "text": [
      "Epoch 17: 64% , Loss: 0.119437\n"
     ]
    },
    {
     "name": "stderr",
     "output_type": "stream",
     "text": [
      " 75%|███████▌  | 701/932 [03:40<02:13,  1.73it/s]"
     ]
    },
    {
     "name": "stdout",
     "output_type": "stream",
     "text": [
      "Epoch 17: 75% , Loss: 0.202704\n"
     ]
    },
    {
     "name": "stderr",
     "output_type": "stream",
     "text": [
      " 86%|████████▌ | 801/932 [04:43<01:10,  1.86it/s]"
     ]
    },
    {
     "name": "stdout",
     "output_type": "stream",
     "text": [
      "Epoch 17: 86% , Loss: 0.265858\n"
     ]
    },
    {
     "name": "stderr",
     "output_type": "stream",
     "text": [
      " 97%|█████████▋| 901/932 [05:28<00:20,  1.49it/s]"
     ]
    },
    {
     "name": "stdout",
     "output_type": "stream",
     "text": [
      "Epoch 17: 97% , Loss: 0.187984\n"
     ]
    },
    {
     "name": "stderr",
     "output_type": "stream",
     "text": [
      "100%|██████████| 932/932 [05:47<00:00,  2.68it/s]"
     ]
    },
    {
     "name": "stdout",
     "output_type": "stream",
     "text": [
      "Epoch 17: 100% , Loss: 1.215461\n"
     ]
    },
    {
     "name": "stderr",
     "output_type": "stream",
     "text": [
      "\n"
     ]
    },
    {
     "name": "stdout",
     "output_type": "stream",
     "text": [
      "                      (F1-score: 0.0479)\n",
      "\n",
      "                      (NDCG: 0.0617)\n",
      "\n",
      "                      (MAE: 4.3943)\n",
      "\n",
      "train_loss= tensor(0.4275)\n",
      "--------------------\n"
     ]
    },
    {
     "name": "stderr",
     "output_type": "stream",
     "text": [
      "100%|██████████| 133/133 [00:52<00:00,  2.55it/s]\n"
     ]
    },
    {
     "name": "stdout",
     "output_type": "stream",
     "text": [
      "                      (F1-score: 0.0453)\n",
      "\n",
      "                      (NDCG: 0.0559)\n",
      "\n",
      "                      (MAE: 4.5169)\n",
      "\n",
      "val_loss= tensor(0.4981)\n",
      "--------------------\n"
     ]
    },
    {
     "name": "stderr",
     "output_type": "stream",
     "text": [
      "100%|██████████| 266/266 [01:43<00:00,  2.58it/s]\n"
     ]
    },
    {
     "name": "stdout",
     "output_type": "stream",
     "text": [
      "                      (F1-score: 0.0473)\n",
      "\n",
      "                      (NDCG: 0.0596)\n",
      "\n",
      "                      (MAE: 4.5240)\n",
      "\n",
      "--------------------\n",
      "[[1, {'F1-score': 0.0001386660620683177}, {'NDCG': 0.00012056498448679546}, {'MAE': 6.0831766917293235}, 1.060592532157898], [2, {'F1-score': 0.00012541708094908745}, {'NDCG': 8.964268980841887e-05}, {'MAE': 4.385338345864661}, 0.5905851125717163], [3, {'F1-score': 7.868848916781247e-05}, {'NDCG': 5.510349887514249e-05}, {'MAE': 4.457236842105263}, 0.5367398858070374], [4, {'F1-score': 0.011910174467723229}, {'NDCG': 0.010843196795392026}, {'MAE': 4.351033834586466}, 0.5036801695823669], [5, {'F1-score': 0.019910581414398724}, {'NDCG': 0.03303729515799314}, {'MAE': 4.44172932330827}, 0.47101667523384094], [6, {'F1-score': 0.02644881298506572}, {'NDCG': 0.040844002404229196}, {'MAE': 4.37406015037594}, 0.46322402358055115], [7, {'F1-score': 0.0399246056772787}, {'NDCG': 0.053563095979336506}, {'MAE': 4.345394736842105}, 0.5044078826904297], [8, {'F1-score': 0.04667853859566283}, {'NDCG': 0.05927971679466966}, {'MAE': 4.319548872180451}, 0.5166702270507812], [9, {'F1-score': 0.047328316154603055}, {'NDCG': 0.05953080886694834}, {'MAE': 4.3181390977443606}, 0.47541239857673645], [10, {'F1-score': 0.04768266384925871}, {'NDCG': 0.059803499729036445}, {'MAE': 4.3218984962406015}, 0.48866674304008484], [11, {'F1-score': 0.04775618328847661}, {'NDCG': 0.05970366847704872}, {'MAE': 4.443609022556391}, 0.46042194962501526], [12, {'F1-score': 0.047794537877801795}, {'NDCG': 0.0598465548622548}, {'MAE': 4.421992481203008}, 0.4470631182193756], [13, {'F1-score': 0.04711230526206985}, {'NDCG': 0.05966901007595059}, {'MAE': 4.581766917293233}, 0.4756716787815094], [14, {'F1-score': 0.04723161077816466}, {'NDCG': 0.05945372615356166}, {'MAE': 4.342105263157895}, 0.4816666841506958], [15, {'F1-score': 0.04722102659180576}, {'NDCG': 0.059696484710741085}, {'MAE': 4.632988721804511}, 0.48104894161224365], [16, {'F1-score': 0.04657582839157669}, {'NDCG': 0.05938343664401918}, {'MAE': 4.44172932330827}, 0.4729230999946594], [17, {'F1-score': 0.047340324876413306}, {'NDCG': 0.059578644226417225}, {'MAE': 4.523966165413534}, 0.4981396198272705]]\n",
      "-----------------------------------------------------------------------------------------\n"
     ]
    },
    {
     "name": "stderr",
     "output_type": "stream",
     "text": [
      "  0%|          | 1/932 [00:00<08:08,  1.90it/s]"
     ]
    },
    {
     "name": "stdout",
     "output_type": "stream",
     "text": [
      "Epoch 18: 0% , Loss: 0.379466\n"
     ]
    },
    {
     "name": "stderr",
     "output_type": "stream",
     "text": [
      " 11%|█         | 101/932 [00:50<07:08,  1.94it/s]"
     ]
    },
    {
     "name": "stdout",
     "output_type": "stream",
     "text": [
      "Epoch 18: 11% , Loss: 0.109307\n"
     ]
    },
    {
     "name": "stderr",
     "output_type": "stream",
     "text": [
      " 22%|██▏       | 201/932 [01:44<09:45,  1.25it/s]"
     ]
    },
    {
     "name": "stdout",
     "output_type": "stream",
     "text": [
      "Epoch 18: 21% , Loss: 0.160246\n"
     ]
    },
    {
     "name": "stderr",
     "output_type": "stream",
     "text": [
      " 32%|███▏      | 301/932 [02:32<03:28,  3.03it/s]"
     ]
    },
    {
     "name": "stdout",
     "output_type": "stream",
     "text": [
      "Epoch 18: 32% , Loss: 0.460948\n"
     ]
    },
    {
     "name": "stderr",
     "output_type": "stream",
     "text": [
      " 43%|████▎     | 401/932 [03:26<05:01,  1.76it/s]"
     ]
    },
    {
     "name": "stdout",
     "output_type": "stream",
     "text": [
      "Epoch 18: 43% , Loss: 0.114777\n"
     ]
    },
    {
     "name": "stderr",
     "output_type": "stream",
     "text": [
      " 54%|█████▍    | 501/932 [04:26<04:16,  1.68it/s]"
     ]
    },
    {
     "name": "stdout",
     "output_type": "stream",
     "text": [
      "Epoch 18: 54% , Loss: 0.185512\n"
     ]
    },
    {
     "name": "stderr",
     "output_type": "stream",
     "text": [
      " 64%|██████▍   | 601/932 [05:24<03:49,  1.44it/s]"
     ]
    },
    {
     "name": "stdout",
     "output_type": "stream",
     "text": [
      "Epoch 18: 64% , Loss: 0.149464\n"
     ]
    },
    {
     "name": "stderr",
     "output_type": "stream",
     "text": [
      " 75%|███████▌  | 701/932 [06:24<02:17,  1.68it/s]"
     ]
    },
    {
     "name": "stdout",
     "output_type": "stream",
     "text": [
      "Epoch 18: 75% , Loss: 1.214700\n"
     ]
    },
    {
     "name": "stderr",
     "output_type": "stream",
     "text": [
      " 86%|████████▌ | 801/932 [07:14<01:24,  1.56it/s]"
     ]
    },
    {
     "name": "stdout",
     "output_type": "stream",
     "text": [
      "Epoch 18: 86% , Loss: 0.300924\n"
     ]
    },
    {
     "name": "stderr",
     "output_type": "stream",
     "text": [
      " 97%|█████████▋| 901/932 [08:11<00:20,  1.48it/s]"
     ]
    },
    {
     "name": "stdout",
     "output_type": "stream",
     "text": [
      "Epoch 18: 97% , Loss: 1.750899\n"
     ]
    },
    {
     "name": "stderr",
     "output_type": "stream",
     "text": [
      "100%|██████████| 932/932 [08:30<00:00,  1.83it/s]"
     ]
    },
    {
     "name": "stdout",
     "output_type": "stream",
     "text": [
      "Epoch 18: 100% , Loss: 1.556462\n"
     ]
    },
    {
     "name": "stderr",
     "output_type": "stream",
     "text": [
      "\n"
     ]
    },
    {
     "name": "stdout",
     "output_type": "stream",
     "text": [
      "                      (F1-score: 0.0487)\n",
      "\n",
      "                      (NDCG: 0.0625)\n",
      "\n",
      "                      (MAE: 4.3793)\n",
      "\n",
      "train_loss= tensor(0.4241)\n",
      "--------------------\n"
     ]
    },
    {
     "name": "stderr",
     "output_type": "stream",
     "text": [
      "100%|██████████| 133/133 [00:42<00:00,  3.16it/s]\n"
     ]
    },
    {
     "name": "stdout",
     "output_type": "stream",
     "text": [
      "                      (F1-score: 0.0443)\n",
      "\n",
      "                      (NDCG: 0.0554)\n",
      "\n",
      "                      (MAE: 4.5949)\n",
      "\n",
      "val_loss= tensor(0.4893)\n",
      "--------------------\n"
     ]
    },
    {
     "name": "stderr",
     "output_type": "stream",
     "text": [
      "100%|██████████| 266/266 [01:57<00:00,  2.26it/s]\n"
     ]
    },
    {
     "name": "stdout",
     "output_type": "stream",
     "text": [
      "                      (F1-score: 0.0487)\n",
      "\n",
      "                      (NDCG: 0.0607)\n",
      "\n",
      "                      (MAE: 4.5644)\n",
      "\n",
      "--------------------\n",
      "[[1, {'F1-score': 0.0001386660620683177}, {'NDCG': 0.00012056498448679546}, {'MAE': 6.0831766917293235}, 1.060592532157898], [2, {'F1-score': 0.00012541708094908745}, {'NDCG': 8.964268980841887e-05}, {'MAE': 4.385338345864661}, 0.5905851125717163], [3, {'F1-score': 7.868848916781247e-05}, {'NDCG': 5.510349887514249e-05}, {'MAE': 4.457236842105263}, 0.5367398858070374], [4, {'F1-score': 0.011910174467723229}, {'NDCG': 0.010843196795392026}, {'MAE': 4.351033834586466}, 0.5036801695823669], [5, {'F1-score': 0.019910581414398724}, {'NDCG': 0.03303729515799314}, {'MAE': 4.44172932330827}, 0.47101667523384094], [6, {'F1-score': 0.02644881298506572}, {'NDCG': 0.040844002404229196}, {'MAE': 4.37406015037594}, 0.46322402358055115], [7, {'F1-score': 0.0399246056772787}, {'NDCG': 0.053563095979336506}, {'MAE': 4.345394736842105}, 0.5044078826904297], [8, {'F1-score': 0.04667853859566283}, {'NDCG': 0.05927971679466966}, {'MAE': 4.319548872180451}, 0.5166702270507812], [9, {'F1-score': 0.047328316154603055}, {'NDCG': 0.05953080886694834}, {'MAE': 4.3181390977443606}, 0.47541239857673645], [10, {'F1-score': 0.04768266384925871}, {'NDCG': 0.059803499729036445}, {'MAE': 4.3218984962406015}, 0.48866674304008484], [11, {'F1-score': 0.04775618328847661}, {'NDCG': 0.05970366847704872}, {'MAE': 4.443609022556391}, 0.46042194962501526], [12, {'F1-score': 0.047794537877801795}, {'NDCG': 0.0598465548622548}, {'MAE': 4.421992481203008}, 0.4470631182193756], [13, {'F1-score': 0.04711230526206985}, {'NDCG': 0.05966901007595059}, {'MAE': 4.581766917293233}, 0.4756716787815094], [14, {'F1-score': 0.04723161077816466}, {'NDCG': 0.05945372615356166}, {'MAE': 4.342105263157895}, 0.4816666841506958], [15, {'F1-score': 0.04722102659180576}, {'NDCG': 0.059696484710741085}, {'MAE': 4.632988721804511}, 0.48104894161224365], [16, {'F1-score': 0.04657582839157669}, {'NDCG': 0.05938343664401918}, {'MAE': 4.44172932330827}, 0.4729230999946594], [17, {'F1-score': 0.047340324876413306}, {'NDCG': 0.059578644226417225}, {'MAE': 4.523966165413534}, 0.4981396198272705], [18, {'F1-score': 0.04872001572519089}, {'NDCG': 0.0606838924520565}, {'MAE': 4.5643796992481205}, 0.4892524778842926]]\n",
      "-----------------------------------------------------------------------------------------\n"
     ]
    },
    {
     "name": "stderr",
     "output_type": "stream",
     "text": [
      "  0%|          | 1/932 [00:00<08:27,  1.83it/s]"
     ]
    },
    {
     "name": "stdout",
     "output_type": "stream",
     "text": [
      "Epoch 19: 0% , Loss: 0.113964\n"
     ]
    },
    {
     "name": "stderr",
     "output_type": "stream",
     "text": [
      " 11%|█         | 101/932 [01:01<10:18,  1.34it/s]"
     ]
    },
    {
     "name": "stdout",
     "output_type": "stream",
     "text": [
      "Epoch 19: 11% , Loss: 0.122512\n"
     ]
    },
    {
     "name": "stderr",
     "output_type": "stream",
     "text": [
      " 22%|██▏       | 201/932 [02:05<07:06,  1.72it/s]"
     ]
    },
    {
     "name": "stdout",
     "output_type": "stream",
     "text": [
      "Epoch 19: 21% , Loss: 0.204465\n"
     ]
    },
    {
     "name": "stderr",
     "output_type": "stream",
     "text": [
      " 32%|███▏      | 301/932 [03:12<06:18,  1.67it/s]"
     ]
    },
    {
     "name": "stdout",
     "output_type": "stream",
     "text": [
      "Epoch 19: 32% , Loss: 0.237406\n"
     ]
    },
    {
     "name": "stderr",
     "output_type": "stream",
     "text": [
      " 43%|████▎     | 401/932 [04:20<06:10,  1.43it/s]"
     ]
    },
    {
     "name": "stdout",
     "output_type": "stream",
     "text": [
      "Epoch 19: 43% , Loss: 0.676184\n"
     ]
    },
    {
     "name": "stderr",
     "output_type": "stream",
     "text": [
      " 54%|█████▍    | 501/932 [05:31<05:06,  1.41it/s]"
     ]
    },
    {
     "name": "stdout",
     "output_type": "stream",
     "text": [
      "Epoch 19: 54% , Loss: 0.840813\n"
     ]
    },
    {
     "name": "stderr",
     "output_type": "stream",
     "text": [
      " 64%|██████▍   | 601/932 [06:42<03:09,  1.75it/s]"
     ]
    },
    {
     "name": "stdout",
     "output_type": "stream",
     "text": [
      "Epoch 19: 64% , Loss: 0.276917\n"
     ]
    },
    {
     "name": "stderr",
     "output_type": "stream",
     "text": [
      " 75%|███████▌  | 701/932 [07:51<03:19,  1.16it/s]"
     ]
    },
    {
     "name": "stdout",
     "output_type": "stream",
     "text": [
      "Epoch 19: 75% , Loss: 0.135167\n"
     ]
    },
    {
     "name": "stderr",
     "output_type": "stream",
     "text": [
      " 86%|████████▌ | 801/932 [09:02<01:35,  1.37it/s]"
     ]
    },
    {
     "name": "stdout",
     "output_type": "stream",
     "text": [
      "Epoch 19: 86% , Loss: 0.144836\n"
     ]
    },
    {
     "name": "stderr",
     "output_type": "stream",
     "text": [
      " 97%|█████████▋| 901/932 [09:59<00:17,  1.74it/s]"
     ]
    },
    {
     "name": "stdout",
     "output_type": "stream",
     "text": [
      "Epoch 19: 97% , Loss: 0.938749\n"
     ]
    },
    {
     "name": "stderr",
     "output_type": "stream",
     "text": [
      "100%|██████████| 932/932 [10:17<00:00,  1.51it/s]"
     ]
    },
    {
     "name": "stdout",
     "output_type": "stream",
     "text": [
      "Epoch 19: 100% , Loss: 0.181792\n"
     ]
    },
    {
     "name": "stderr",
     "output_type": "stream",
     "text": [
      "\n"
     ]
    },
    {
     "name": "stdout",
     "output_type": "stream",
     "text": [
      "                      (F1-score: 0.0487)\n",
      "\n",
      "                      (NDCG: 0.0624)\n",
      "\n",
      "                      (MAE: 4.3185)\n",
      "\n",
      "train_loss= tensor(0.4180)\n",
      "--------------------\n"
     ]
    },
    {
     "name": "stderr",
     "output_type": "stream",
     "text": [
      "100%|██████████| 133/133 [00:43<00:00,  3.07it/s]\n"
     ]
    },
    {
     "name": "stdout",
     "output_type": "stream",
     "text": [
      "                      (F1-score: 0.0440)\n",
      "\n",
      "                      (NDCG: 0.0549)\n",
      "\n",
      "                      (MAE: 4.5545)\n",
      "\n",
      "val_loss= tensor(0.4964)\n",
      "--------------------\n"
     ]
    },
    {
     "name": "stderr",
     "output_type": "stream",
     "text": [
      "100%|██████████| 266/266 [01:53<00:00,  2.35it/s]\n"
     ]
    },
    {
     "name": "stdout",
     "output_type": "stream",
     "text": [
      "                      (F1-score: 0.0480)\n",
      "\n",
      "                      (NDCG: 0.0602)\n",
      "\n",
      "                      (MAE: 4.5930)\n",
      "\n",
      "--------------------\n",
      "[[1, {'F1-score': 0.0001386660620683177}, {'NDCG': 0.00012056498448679546}, {'MAE': 6.0831766917293235}, 1.060592532157898], [2, {'F1-score': 0.00012541708094908745}, {'NDCG': 8.964268980841887e-05}, {'MAE': 4.385338345864661}, 0.5905851125717163], [3, {'F1-score': 7.868848916781247e-05}, {'NDCG': 5.510349887514249e-05}, {'MAE': 4.457236842105263}, 0.5367398858070374], [4, {'F1-score': 0.011910174467723229}, {'NDCG': 0.010843196795392026}, {'MAE': 4.351033834586466}, 0.5036801695823669], [5, {'F1-score': 0.019910581414398724}, {'NDCG': 0.03303729515799314}, {'MAE': 4.44172932330827}, 0.47101667523384094], [6, {'F1-score': 0.02644881298506572}, {'NDCG': 0.040844002404229196}, {'MAE': 4.37406015037594}, 0.46322402358055115], [7, {'F1-score': 0.0399246056772787}, {'NDCG': 0.053563095979336506}, {'MAE': 4.345394736842105}, 0.5044078826904297], [8, {'F1-score': 0.04667853859566283}, {'NDCG': 0.05927971679466966}, {'MAE': 4.319548872180451}, 0.5166702270507812], [9, {'F1-score': 0.047328316154603055}, {'NDCG': 0.05953080886694834}, {'MAE': 4.3181390977443606}, 0.47541239857673645], [10, {'F1-score': 0.04768266384925871}, {'NDCG': 0.059803499729036445}, {'MAE': 4.3218984962406015}, 0.48866674304008484], [11, {'F1-score': 0.04775618328847661}, {'NDCG': 0.05970366847704872}, {'MAE': 4.443609022556391}, 0.46042194962501526], [12, {'F1-score': 0.047794537877801795}, {'NDCG': 0.0598465548622548}, {'MAE': 4.421992481203008}, 0.4470631182193756], [13, {'F1-score': 0.04711230526206985}, {'NDCG': 0.05966901007595059}, {'MAE': 4.581766917293233}, 0.4756716787815094], [14, {'F1-score': 0.04723161077816466}, {'NDCG': 0.05945372615356166}, {'MAE': 4.342105263157895}, 0.4816666841506958], [15, {'F1-score': 0.04722102659180576}, {'NDCG': 0.059696484710741085}, {'MAE': 4.632988721804511}, 0.48104894161224365], [16, {'F1-score': 0.04657582839157669}, {'NDCG': 0.05938343664401918}, {'MAE': 4.44172932330827}, 0.4729230999946594], [17, {'F1-score': 0.047340324876413306}, {'NDCG': 0.059578644226417225}, {'MAE': 4.523966165413534}, 0.4981396198272705], [18, {'F1-score': 0.04872001572519089}, {'NDCG': 0.0606838924520565}, {'MAE': 4.5643796992481205}, 0.4892524778842926], [19, {'F1-score': 0.04804556414740486}, {'NDCG': 0.06017220375579747}, {'MAE': 4.5930451127819545}, 0.4964289963245392]]\n",
      "-----------------------------------------------------------------------------------------\n"
     ]
    },
    {
     "name": "stderr",
     "output_type": "stream",
     "text": [
      "  0%|          | 1/932 [00:00<13:21,  1.16it/s]"
     ]
    },
    {
     "name": "stdout",
     "output_type": "stream",
     "text": [
      "Epoch 20: 0% , Loss: 0.219638\n"
     ]
    },
    {
     "name": "stderr",
     "output_type": "stream",
     "text": [
      " 11%|█         | 101/932 [01:07<08:11,  1.69it/s]"
     ]
    },
    {
     "name": "stdout",
     "output_type": "stream",
     "text": [
      "Epoch 20: 11% , Loss: 0.207215\n"
     ]
    },
    {
     "name": "stderr",
     "output_type": "stream",
     "text": [
      " 22%|██▏       | 201/932 [02:11<07:18,  1.67it/s]"
     ]
    },
    {
     "name": "stdout",
     "output_type": "stream",
     "text": [
      "Epoch 20: 21% , Loss: 0.407616\n"
     ]
    },
    {
     "name": "stderr",
     "output_type": "stream",
     "text": [
      " 32%|███▏      | 301/932 [03:16<08:25,  1.25it/s]"
     ]
    },
    {
     "name": "stdout",
     "output_type": "stream",
     "text": [
      "Epoch 20: 32% , Loss: 0.179608\n"
     ]
    },
    {
     "name": "stderr",
     "output_type": "stream",
     "text": [
      " 43%|████▎     | 401/932 [04:28<06:01,  1.47it/s]"
     ]
    },
    {
     "name": "stdout",
     "output_type": "stream",
     "text": [
      "Epoch 20: 43% , Loss: 0.161994\n"
     ]
    },
    {
     "name": "stderr",
     "output_type": "stream",
     "text": [
      " 54%|█████▍    | 501/932 [05:38<04:25,  1.62it/s]"
     ]
    },
    {
     "name": "stdout",
     "output_type": "stream",
     "text": [
      "Epoch 20: 54% , Loss: 0.109162\n"
     ]
    },
    {
     "name": "stderr",
     "output_type": "stream",
     "text": [
      " 64%|██████▍   | 601/932 [06:46<03:51,  1.43it/s]"
     ]
    },
    {
     "name": "stdout",
     "output_type": "stream",
     "text": [
      "Epoch 20: 64% , Loss: 0.240711\n"
     ]
    },
    {
     "name": "stderr",
     "output_type": "stream",
     "text": [
      " 75%|███████▌  | 701/932 [07:58<02:42,  1.42it/s]"
     ]
    },
    {
     "name": "stdout",
     "output_type": "stream",
     "text": [
      "Epoch 20: 75% , Loss: 0.187998\n"
     ]
    },
    {
     "name": "stderr",
     "output_type": "stream",
     "text": [
      " 86%|████████▌ | 801/932 [09:10<01:23,  1.58it/s]"
     ]
    },
    {
     "name": "stdout",
     "output_type": "stream",
     "text": [
      "Epoch 20: 86% , Loss: 0.170908\n"
     ]
    },
    {
     "name": "stderr",
     "output_type": "stream",
     "text": [
      " 97%|█████████▋| 901/932 [10:07<00:17,  1.80it/s]"
     ]
    },
    {
     "name": "stdout",
     "output_type": "stream",
     "text": [
      "Epoch 20: 97% , Loss: 0.173519\n"
     ]
    },
    {
     "name": "stderr",
     "output_type": "stream",
     "text": [
      "100%|██████████| 932/932 [10:24<00:00,  1.49it/s]"
     ]
    },
    {
     "name": "stdout",
     "output_type": "stream",
     "text": [
      "Epoch 20: 100% , Loss: 0.055970\n"
     ]
    },
    {
     "name": "stderr",
     "output_type": "stream",
     "text": [
      "\n"
     ]
    },
    {
     "name": "stdout",
     "output_type": "stream",
     "text": [
      "                      (F1-score: 0.0491)\n",
      "\n",
      "                      (NDCG: 0.0625)\n",
      "\n",
      "                      (MAE: 4.2539)\n",
      "\n",
      "train_loss= tensor(0.4108)\n",
      "--------------------\n"
     ]
    },
    {
     "name": "stderr",
     "output_type": "stream",
     "text": [
      "100%|██████████| 133/133 [00:42<00:00,  3.12it/s]\n"
     ]
    },
    {
     "name": "stdout",
     "output_type": "stream",
     "text": [
      "                      (F1-score: 0.0450)\n",
      "\n",
      "                      (NDCG: 0.0561)\n",
      "\n",
      "                      (MAE: 4.6316)\n",
      "\n",
      "val_loss= tensor(0.5075)\n",
      "--------------------\n"
     ]
    },
    {
     "name": "stderr",
     "output_type": "stream",
     "text": [
      "100%|██████████| 266/266 [01:52<00:00,  2.35it/s]\n"
     ]
    },
    {
     "name": "stdout",
     "output_type": "stream",
     "text": [
      "                      (F1-score: 0.0482)\n",
      "\n",
      "                      (NDCG: 0.0603)\n",
      "\n",
      "                      (MAE: 4.6480)\n",
      "\n",
      "--------------------\n",
      "[[1, {'F1-score': 0.0001386660620683177}, {'NDCG': 0.00012056498448679546}, {'MAE': 6.0831766917293235}, 1.060592532157898], [2, {'F1-score': 0.00012541708094908745}, {'NDCG': 8.964268980841887e-05}, {'MAE': 4.385338345864661}, 0.5905851125717163], [3, {'F1-score': 7.868848916781247e-05}, {'NDCG': 5.510349887514249e-05}, {'MAE': 4.457236842105263}, 0.5367398858070374], [4, {'F1-score': 0.011910174467723229}, {'NDCG': 0.010843196795392026}, {'MAE': 4.351033834586466}, 0.5036801695823669], [5, {'F1-score': 0.019910581414398724}, {'NDCG': 0.03303729515799314}, {'MAE': 4.44172932330827}, 0.47101667523384094], [6, {'F1-score': 0.02644881298506572}, {'NDCG': 0.040844002404229196}, {'MAE': 4.37406015037594}, 0.46322402358055115], [7, {'F1-score': 0.0399246056772787}, {'NDCG': 0.053563095979336506}, {'MAE': 4.345394736842105}, 0.5044078826904297], [8, {'F1-score': 0.04667853859566283}, {'NDCG': 0.05927971679466966}, {'MAE': 4.319548872180451}, 0.5166702270507812], [9, {'F1-score': 0.047328316154603055}, {'NDCG': 0.05953080886694834}, {'MAE': 4.3181390977443606}, 0.47541239857673645], [10, {'F1-score': 0.04768266384925871}, {'NDCG': 0.059803499729036445}, {'MAE': 4.3218984962406015}, 0.48866674304008484], [11, {'F1-score': 0.04775618328847661}, {'NDCG': 0.05970366847704872}, {'MAE': 4.443609022556391}, 0.46042194962501526], [12, {'F1-score': 0.047794537877801795}, {'NDCG': 0.0598465548622548}, {'MAE': 4.421992481203008}, 0.4470631182193756], [13, {'F1-score': 0.04711230526206985}, {'NDCG': 0.05966901007595059}, {'MAE': 4.581766917293233}, 0.4756716787815094], [14, {'F1-score': 0.04723161077816466}, {'NDCG': 0.05945372615356166}, {'MAE': 4.342105263157895}, 0.4816666841506958], [15, {'F1-score': 0.04722102659180576}, {'NDCG': 0.059696484710741085}, {'MAE': 4.632988721804511}, 0.48104894161224365], [16, {'F1-score': 0.04657582839157669}, {'NDCG': 0.05938343664401918}, {'MAE': 4.44172932330827}, 0.4729230999946594], [17, {'F1-score': 0.047340324876413306}, {'NDCG': 0.059578644226417225}, {'MAE': 4.523966165413534}, 0.4981396198272705], [18, {'F1-score': 0.04872001572519089}, {'NDCG': 0.0606838924520565}, {'MAE': 4.5643796992481205}, 0.4892524778842926], [19, {'F1-score': 0.04804556414740486}, {'NDCG': 0.06017220375579747}, {'MAE': 4.5930451127819545}, 0.4964289963245392], [20, {'F1-score': 0.04821741613942181}, {'NDCG': 0.06030960270217655}, {'MAE': 4.6480263157894735}, 0.5075433850288391]]\n",
      "-----------------------------------------------------------------------------------------\n"
     ]
    },
    {
     "name": "stderr",
     "output_type": "stream",
     "text": [
      "  0%|          | 1/932 [00:00<08:46,  1.77it/s]"
     ]
    },
    {
     "name": "stdout",
     "output_type": "stream",
     "text": [
      "Epoch 21: 0% , Loss: 0.361813\n"
     ]
    },
    {
     "name": "stderr",
     "output_type": "stream",
     "text": [
      " 11%|█         | 101/932 [01:02<07:59,  1.73it/s]"
     ]
    },
    {
     "name": "stdout",
     "output_type": "stream",
     "text": [
      "Epoch 21: 11% , Loss: 0.313892\n"
     ]
    },
    {
     "name": "stderr",
     "output_type": "stream",
     "text": [
      " 22%|██▏       | 201/932 [02:07<08:01,  1.52it/s]"
     ]
    },
    {
     "name": "stdout",
     "output_type": "stream",
     "text": [
      "Epoch 21: 21% , Loss: 0.312628\n"
     ]
    },
    {
     "name": "stderr",
     "output_type": "stream",
     "text": [
      " 32%|███▏      | 301/932 [03:12<06:56,  1.51it/s]"
     ]
    },
    {
     "name": "stdout",
     "output_type": "stream",
     "text": [
      "Epoch 21: 32% , Loss: 0.353549\n"
     ]
    },
    {
     "name": "stderr",
     "output_type": "stream",
     "text": [
      " 43%|████▎     | 401/932 [04:18<06:09,  1.44it/s]"
     ]
    },
    {
     "name": "stdout",
     "output_type": "stream",
     "text": [
      "Epoch 21: 43% , Loss: 0.600817\n"
     ]
    },
    {
     "name": "stderr",
     "output_type": "stream",
     "text": [
      " 54%|█████▍    | 501/932 [05:25<04:25,  1.62it/s]"
     ]
    },
    {
     "name": "stdout",
     "output_type": "stream",
     "text": [
      "Epoch 21: 54% , Loss: 0.172292\n"
     ]
    },
    {
     "name": "stderr",
     "output_type": "stream",
     "text": [
      " 64%|██████▍   | 601/932 [06:30<03:17,  1.68it/s]"
     ]
    },
    {
     "name": "stdout",
     "output_type": "stream",
     "text": [
      "Epoch 21: 64% , Loss: 0.500777\n"
     ]
    },
    {
     "name": "stderr",
     "output_type": "stream",
     "text": [
      " 75%|███████▌  | 701/932 [07:36<02:13,  1.74it/s]"
     ]
    },
    {
     "name": "stdout",
     "output_type": "stream",
     "text": [
      "Epoch 21: 75% , Loss: 0.206982\n"
     ]
    },
    {
     "name": "stderr",
     "output_type": "stream",
     "text": [
      " 86%|████████▌ | 801/932 [08:43<01:31,  1.43it/s]"
     ]
    },
    {
     "name": "stdout",
     "output_type": "stream",
     "text": [
      "Epoch 21: 86% , Loss: 0.260417\n"
     ]
    },
    {
     "name": "stderr",
     "output_type": "stream",
     "text": [
      " 97%|█████████▋| 901/932 [09:38<00:16,  1.90it/s]"
     ]
    },
    {
     "name": "stdout",
     "output_type": "stream",
     "text": [
      "Epoch 21: 97% , Loss: 0.507608\n"
     ]
    },
    {
     "name": "stderr",
     "output_type": "stream",
     "text": [
      "100%|██████████| 932/932 [09:54<00:00,  1.57it/s]"
     ]
    },
    {
     "name": "stdout",
     "output_type": "stream",
     "text": [
      "Epoch 21: 100% , Loss: 0.055211\n"
     ]
    },
    {
     "name": "stderr",
     "output_type": "stream",
     "text": [
      "\n"
     ]
    },
    {
     "name": "stdout",
     "output_type": "stream",
     "text": [
      "                      (F1-score: 0.0486)\n",
      "\n",
      "                      (NDCG: 0.0623)\n",
      "\n",
      "                      (MAE: 4.2006)\n",
      "\n",
      "train_loss= tensor(0.3997)\n",
      "--------------------\n"
     ]
    },
    {
     "name": "stderr",
     "output_type": "stream",
     "text": [
      "100%|██████████| 133/133 [00:41<00:00,  3.23it/s]\n"
     ]
    },
    {
     "name": "stdout",
     "output_type": "stream",
     "text": [
      "                      (F1-score: 0.0427)\n",
      "\n",
      "                      (NDCG: 0.0542)\n",
      "\n",
      "                      (MAE: 4.8045)\n",
      "\n",
      "val_loss= tensor(0.5222)\n",
      "--------------------\n"
     ]
    },
    {
     "name": "stderr",
     "output_type": "stream",
     "text": [
      "100%|██████████| 266/266 [01:52<00:00,  2.37it/s]\n"
     ]
    },
    {
     "name": "stdout",
     "output_type": "stream",
     "text": [
      "                      (F1-score: 0.0485)\n",
      "\n",
      "                      (NDCG: 0.0604)\n",
      "\n",
      "                      (MAE: 4.8590)\n",
      "\n",
      "--------------------\n",
      "[[1, {'F1-score': 0.0001386660620683177}, {'NDCG': 0.00012056498448679546}, {'MAE': 6.0831766917293235}, 1.060592532157898], [2, {'F1-score': 0.00012541708094908745}, {'NDCG': 8.964268980841887e-05}, {'MAE': 4.385338345864661}, 0.5905851125717163], [3, {'F1-score': 7.868848916781247e-05}, {'NDCG': 5.510349887514249e-05}, {'MAE': 4.457236842105263}, 0.5367398858070374], [4, {'F1-score': 0.011910174467723229}, {'NDCG': 0.010843196795392026}, {'MAE': 4.351033834586466}, 0.5036801695823669], [5, {'F1-score': 0.019910581414398724}, {'NDCG': 0.03303729515799314}, {'MAE': 4.44172932330827}, 0.47101667523384094], [6, {'F1-score': 0.02644881298506572}, {'NDCG': 0.040844002404229196}, {'MAE': 4.37406015037594}, 0.46322402358055115], [7, {'F1-score': 0.0399246056772787}, {'NDCG': 0.053563095979336506}, {'MAE': 4.345394736842105}, 0.5044078826904297], [8, {'F1-score': 0.04667853859566283}, {'NDCG': 0.05927971679466966}, {'MAE': 4.319548872180451}, 0.5166702270507812], [9, {'F1-score': 0.047328316154603055}, {'NDCG': 0.05953080886694834}, {'MAE': 4.3181390977443606}, 0.47541239857673645], [10, {'F1-score': 0.04768266384925871}, {'NDCG': 0.059803499729036445}, {'MAE': 4.3218984962406015}, 0.48866674304008484], [11, {'F1-score': 0.04775618328847661}, {'NDCG': 0.05970366847704872}, {'MAE': 4.443609022556391}, 0.46042194962501526], [12, {'F1-score': 0.047794537877801795}, {'NDCG': 0.0598465548622548}, {'MAE': 4.421992481203008}, 0.4470631182193756], [13, {'F1-score': 0.04711230526206985}, {'NDCG': 0.05966901007595059}, {'MAE': 4.581766917293233}, 0.4756716787815094], [14, {'F1-score': 0.04723161077816466}, {'NDCG': 0.05945372615356166}, {'MAE': 4.342105263157895}, 0.4816666841506958], [15, {'F1-score': 0.04722102659180576}, {'NDCG': 0.059696484710741085}, {'MAE': 4.632988721804511}, 0.48104894161224365], [16, {'F1-score': 0.04657582839157669}, {'NDCG': 0.05938343664401918}, {'MAE': 4.44172932330827}, 0.4729230999946594], [17, {'F1-score': 0.047340324876413306}, {'NDCG': 0.059578644226417225}, {'MAE': 4.523966165413534}, 0.4981396198272705], [18, {'F1-score': 0.04872001572519089}, {'NDCG': 0.0606838924520565}, {'MAE': 4.5643796992481205}, 0.4892524778842926], [19, {'F1-score': 0.04804556414740486}, {'NDCG': 0.06017220375579747}, {'MAE': 4.5930451127819545}, 0.4964289963245392], [20, {'F1-score': 0.04821741613942181}, {'NDCG': 0.06030960270217655}, {'MAE': 4.6480263157894735}, 0.5075433850288391], [21, {'F1-score': 0.04846154267367264}, {'NDCG': 0.06040076995522302}, {'MAE': 4.859022556390977}, 0.5221740007400513]]\n",
      "-----------------------------------------------------------------------------------------\n"
     ]
    },
    {
     "name": "stderr",
     "output_type": "stream",
     "text": [
      "  0%|          | 1/932 [00:00<07:33,  2.05it/s]"
     ]
    },
    {
     "name": "stdout",
     "output_type": "stream",
     "text": [
      "Epoch 22: 0% , Loss: 0.186181\n"
     ]
    },
    {
     "name": "stderr",
     "output_type": "stream",
     "text": [
      " 11%|█         | 101/932 [01:05<09:32,  1.45it/s]"
     ]
    },
    {
     "name": "stdout",
     "output_type": "stream",
     "text": [
      "Epoch 22: 11% , Loss: 0.833899\n"
     ]
    },
    {
     "name": "stderr",
     "output_type": "stream",
     "text": [
      " 22%|██▏       | 201/932 [02:07<05:14,  2.33it/s]"
     ]
    },
    {
     "name": "stdout",
     "output_type": "stream",
     "text": [
      "Epoch 22: 21% , Loss: 0.918542\n"
     ]
    },
    {
     "name": "stderr",
     "output_type": "stream",
     "text": [
      " 32%|███▏      | 301/932 [03:13<07:53,  1.33it/s]"
     ]
    },
    {
     "name": "stdout",
     "output_type": "stream",
     "text": [
      "Epoch 22: 32% , Loss: 0.278940\n"
     ]
    },
    {
     "name": "stderr",
     "output_type": "stream",
     "text": [
      " 43%|████▎     | 401/932 [04:15<05:39,  1.57it/s]"
     ]
    },
    {
     "name": "stdout",
     "output_type": "stream",
     "text": [
      "Epoch 22: 43% , Loss: 0.285379\n"
     ]
    },
    {
     "name": "stderr",
     "output_type": "stream",
     "text": [
      " 54%|█████▍    | 501/932 [05:19<04:09,  1.73it/s]"
     ]
    },
    {
     "name": "stdout",
     "output_type": "stream",
     "text": [
      "Epoch 22: 54% , Loss: 0.053070\n"
     ]
    },
    {
     "name": "stderr",
     "output_type": "stream",
     "text": [
      " 64%|██████▍   | 601/932 [06:24<03:36,  1.53it/s]"
     ]
    },
    {
     "name": "stdout",
     "output_type": "stream",
     "text": [
      "Epoch 22: 64% , Loss: 0.639027\n"
     ]
    },
    {
     "name": "stderr",
     "output_type": "stream",
     "text": [
      " 75%|███████▌  | 701/932 [07:29<02:28,  1.55it/s]"
     ]
    },
    {
     "name": "stdout",
     "output_type": "stream",
     "text": [
      "Epoch 22: 75% , Loss: 1.027768\n"
     ]
    },
    {
     "name": "stderr",
     "output_type": "stream",
     "text": [
      " 86%|████████▌ | 801/932 [08:35<01:23,  1.56it/s]"
     ]
    },
    {
     "name": "stdout",
     "output_type": "stream",
     "text": [
      "Epoch 22: 86% , Loss: 0.222448\n"
     ]
    },
    {
     "name": "stderr",
     "output_type": "stream",
     "text": [
      " 97%|█████████▋| 901/932 [09:33<00:13,  2.26it/s]"
     ]
    },
    {
     "name": "stdout",
     "output_type": "stream",
     "text": [
      "Epoch 22: 97% , Loss: 0.194918\n"
     ]
    },
    {
     "name": "stderr",
     "output_type": "stream",
     "text": [
      "100%|██████████| 932/932 [09:48<00:00,  1.58it/s]"
     ]
    },
    {
     "name": "stdout",
     "output_type": "stream",
     "text": [
      "Epoch 22: 100% , Loss: 0.446827\n"
     ]
    },
    {
     "name": "stderr",
     "output_type": "stream",
     "text": [
      "\n"
     ]
    },
    {
     "name": "stdout",
     "output_type": "stream",
     "text": [
      "                      (F1-score: 0.0486)\n",
      "\n",
      "                      (NDCG: 0.0623)\n",
      "\n",
      "                      (MAE: 4.2284)\n",
      "\n",
      "train_loss= tensor(0.4032)\n",
      "--------------------\n"
     ]
    },
    {
     "name": "stderr",
     "output_type": "stream",
     "text": [
      "100%|██████████| 133/133 [00:40<00:00,  3.29it/s]\n"
     ]
    },
    {
     "name": "stdout",
     "output_type": "stream",
     "text": [
      "                      (F1-score: 0.0443)\n",
      "\n",
      "                      (NDCG: 0.0550)\n",
      "\n",
      "                      (MAE: 4.5724)\n",
      "\n",
      "val_loss= tensor(0.4898)\n",
      "--------------------\n"
     ]
    },
    {
     "name": "stderr",
     "output_type": "stream",
     "text": [
      "100%|██████████| 266/266 [01:49<00:00,  2.43it/s]\n"
     ]
    },
    {
     "name": "stdout",
     "output_type": "stream",
     "text": [
      "                      (F1-score: 0.0476)\n",
      "\n",
      "                      (NDCG: 0.0598)\n",
      "\n",
      "                      (MAE: 4.5597)\n",
      "\n",
      "--------------------\n",
      "[[1, {'F1-score': 0.0001386660620683177}, {'NDCG': 0.00012056498448679546}, {'MAE': 6.0831766917293235}, 1.060592532157898], [2, {'F1-score': 0.00012541708094908745}, {'NDCG': 8.964268980841887e-05}, {'MAE': 4.385338345864661}, 0.5905851125717163], [3, {'F1-score': 7.868848916781247e-05}, {'NDCG': 5.510349887514249e-05}, {'MAE': 4.457236842105263}, 0.5367398858070374], [4, {'F1-score': 0.011910174467723229}, {'NDCG': 0.010843196795392026}, {'MAE': 4.351033834586466}, 0.5036801695823669], [5, {'F1-score': 0.019910581414398724}, {'NDCG': 0.03303729515799314}, {'MAE': 4.44172932330827}, 0.47101667523384094], [6, {'F1-score': 0.02644881298506572}, {'NDCG': 0.040844002404229196}, {'MAE': 4.37406015037594}, 0.46322402358055115], [7, {'F1-score': 0.0399246056772787}, {'NDCG': 0.053563095979336506}, {'MAE': 4.345394736842105}, 0.5044078826904297], [8, {'F1-score': 0.04667853859566283}, {'NDCG': 0.05927971679466966}, {'MAE': 4.319548872180451}, 0.5166702270507812], [9, {'F1-score': 0.047328316154603055}, {'NDCG': 0.05953080886694834}, {'MAE': 4.3181390977443606}, 0.47541239857673645], [10, {'F1-score': 0.04768266384925871}, {'NDCG': 0.059803499729036445}, {'MAE': 4.3218984962406015}, 0.48866674304008484], [11, {'F1-score': 0.04775618328847661}, {'NDCG': 0.05970366847704872}, {'MAE': 4.443609022556391}, 0.46042194962501526], [12, {'F1-score': 0.047794537877801795}, {'NDCG': 0.0598465548622548}, {'MAE': 4.421992481203008}, 0.4470631182193756], [13, {'F1-score': 0.04711230526206985}, {'NDCG': 0.05966901007595059}, {'MAE': 4.581766917293233}, 0.4756716787815094], [14, {'F1-score': 0.04723161077816466}, {'NDCG': 0.05945372615356166}, {'MAE': 4.342105263157895}, 0.4816666841506958], [15, {'F1-score': 0.04722102659180576}, {'NDCG': 0.059696484710741085}, {'MAE': 4.632988721804511}, 0.48104894161224365], [16, {'F1-score': 0.04657582839157669}, {'NDCG': 0.05938343664401918}, {'MAE': 4.44172932330827}, 0.4729230999946594], [17, {'F1-score': 0.047340324876413306}, {'NDCG': 0.059578644226417225}, {'MAE': 4.523966165413534}, 0.4981396198272705], [18, {'F1-score': 0.04872001572519089}, {'NDCG': 0.0606838924520565}, {'MAE': 4.5643796992481205}, 0.4892524778842926], [19, {'F1-score': 0.04804556414740486}, {'NDCG': 0.06017220375579747}, {'MAE': 4.5930451127819545}, 0.4964289963245392], [20, {'F1-score': 0.04821741613942181}, {'NDCG': 0.06030960270217655}, {'MAE': 4.6480263157894735}, 0.5075433850288391], [21, {'F1-score': 0.04846154267367264}, {'NDCG': 0.06040076995522302}, {'MAE': 4.859022556390977}, 0.5221740007400513], [22, {'F1-score': 0.04762248883752847}, {'NDCG': 0.059829848275793004}, {'MAE': 4.55968045112782}, 0.4897764325141907]]\n",
      "-----------------------------------------------------------------------------------------\n"
     ]
    },
    {
     "name": "stderr",
     "output_type": "stream",
     "text": [
      "  0%|          | 1/932 [00:00<06:25,  2.41it/s]"
     ]
    },
    {
     "name": "stdout",
     "output_type": "stream",
     "text": [
      "Epoch 23: 0% , Loss: 0.699510\n"
     ]
    },
    {
     "name": "stderr",
     "output_type": "stream",
     "text": [
      " 11%|█         | 101/932 [01:04<08:09,  1.70it/s]"
     ]
    },
    {
     "name": "stdout",
     "output_type": "stream",
     "text": [
      "Epoch 23: 11% , Loss: 0.293646\n"
     ]
    },
    {
     "name": "stderr",
     "output_type": "stream",
     "text": [
      " 22%|██▏       | 201/932 [02:06<09:53,  1.23it/s]"
     ]
    },
    {
     "name": "stdout",
     "output_type": "stream",
     "text": [
      "Epoch 23: 21% , Loss: 0.234589\n"
     ]
    },
    {
     "name": "stderr",
     "output_type": "stream",
     "text": [
      " 32%|███▏      | 301/932 [03:07<06:18,  1.67it/s]"
     ]
    },
    {
     "name": "stdout",
     "output_type": "stream",
     "text": [
      "Epoch 23: 32% , Loss: 0.075616\n"
     ]
    },
    {
     "name": "stderr",
     "output_type": "stream",
     "text": [
      " 43%|████▎     | 401/932 [04:12<06:22,  1.39it/s]"
     ]
    },
    {
     "name": "stdout",
     "output_type": "stream",
     "text": [
      "Epoch 23: 43% , Loss: 0.223576\n"
     ]
    },
    {
     "name": "stderr",
     "output_type": "stream",
     "text": [
      " 54%|█████▍    | 501/932 [05:18<04:47,  1.50it/s]"
     ]
    },
    {
     "name": "stdout",
     "output_type": "stream",
     "text": [
      "Epoch 23: 54% , Loss: 0.115129\n"
     ]
    },
    {
     "name": "stderr",
     "output_type": "stream",
     "text": [
      " 64%|██████▍   | 601/932 [06:28<04:46,  1.15it/s]"
     ]
    },
    {
     "name": "stdout",
     "output_type": "stream",
     "text": [
      "Epoch 23: 64% , Loss: 0.182914\n"
     ]
    },
    {
     "name": "stderr",
     "output_type": "stream",
     "text": [
      " 75%|███████▌  | 701/932 [07:33<02:40,  1.44it/s]"
     ]
    },
    {
     "name": "stdout",
     "output_type": "stream",
     "text": [
      "Epoch 23: 75% , Loss: 0.126070\n"
     ]
    },
    {
     "name": "stderr",
     "output_type": "stream",
     "text": [
      " 86%|████████▌ | 801/932 [08:42<01:28,  1.48it/s]"
     ]
    },
    {
     "name": "stdout",
     "output_type": "stream",
     "text": [
      "Epoch 23: 86% , Loss: 0.140162\n"
     ]
    },
    {
     "name": "stderr",
     "output_type": "stream",
     "text": [
      " 97%|█████████▋| 901/932 [09:38<00:14,  2.11it/s]"
     ]
    },
    {
     "name": "stdout",
     "output_type": "stream",
     "text": [
      "Epoch 23: 97% , Loss: 0.640159\n"
     ]
    },
    {
     "name": "stderr",
     "output_type": "stream",
     "text": [
      "100%|██████████| 932/932 [09:54<00:00,  1.57it/s]"
     ]
    },
    {
     "name": "stdout",
     "output_type": "stream",
     "text": [
      "Epoch 23: 100% , Loss: 0.399711\n"
     ]
    },
    {
     "name": "stderr",
     "output_type": "stream",
     "text": [
      "\n"
     ]
    },
    {
     "name": "stdout",
     "output_type": "stream",
     "text": [
      "                      (F1-score: 0.0488)\n",
      "\n",
      "                      (NDCG: 0.0625)\n",
      "\n",
      "                      (MAE: 4.1443)\n",
      "\n",
      "train_loss= tensor(0.3941)\n",
      "--------------------\n"
     ]
    },
    {
     "name": "stderr",
     "output_type": "stream",
     "text": [
      "100%|██████████| 133/133 [00:40<00:00,  3.31it/s]\n"
     ]
    },
    {
     "name": "stdout",
     "output_type": "stream",
     "text": [
      "                      (F1-score: 0.0446)\n",
      "\n",
      "                      (NDCG: 0.0554)\n",
      "\n",
      "                      (MAE: 4.6560)\n",
      "\n",
      "val_loss= tensor(0.5203)\n",
      "--------------------\n"
     ]
    },
    {
     "name": "stderr",
     "output_type": "stream",
     "text": [
      "100%|██████████| 266/266 [01:55<00:00,  2.31it/s]\n"
     ]
    },
    {
     "name": "stdout",
     "output_type": "stream",
     "text": [
      "                      (F1-score: 0.0473)\n",
      "\n",
      "                      (NDCG: 0.0595)\n",
      "\n",
      "                      (MAE: 4.7509)\n",
      "\n",
      "--------------------\n",
      "[[1, {'F1-score': 0.0001386660620683177}, {'NDCG': 0.00012056498448679546}, {'MAE': 6.0831766917293235}, 1.060592532157898], [2, {'F1-score': 0.00012541708094908745}, {'NDCG': 8.964268980841887e-05}, {'MAE': 4.385338345864661}, 0.5905851125717163], [3, {'F1-score': 7.868848916781247e-05}, {'NDCG': 5.510349887514249e-05}, {'MAE': 4.457236842105263}, 0.5367398858070374], [4, {'F1-score': 0.011910174467723229}, {'NDCG': 0.010843196795392026}, {'MAE': 4.351033834586466}, 0.5036801695823669], [5, {'F1-score': 0.019910581414398724}, {'NDCG': 0.03303729515799314}, {'MAE': 4.44172932330827}, 0.47101667523384094], [6, {'F1-score': 0.02644881298506572}, {'NDCG': 0.040844002404229196}, {'MAE': 4.37406015037594}, 0.46322402358055115], [7, {'F1-score': 0.0399246056772787}, {'NDCG': 0.053563095979336506}, {'MAE': 4.345394736842105}, 0.5044078826904297], [8, {'F1-score': 0.04667853859566283}, {'NDCG': 0.05927971679466966}, {'MAE': 4.319548872180451}, 0.5166702270507812], [9, {'F1-score': 0.047328316154603055}, {'NDCG': 0.05953080886694834}, {'MAE': 4.3181390977443606}, 0.47541239857673645], [10, {'F1-score': 0.04768266384925871}, {'NDCG': 0.059803499729036445}, {'MAE': 4.3218984962406015}, 0.48866674304008484], [11, {'F1-score': 0.04775618328847661}, {'NDCG': 0.05970366847704872}, {'MAE': 4.443609022556391}, 0.46042194962501526], [12, {'F1-score': 0.047794537877801795}, {'NDCG': 0.0598465548622548}, {'MAE': 4.421992481203008}, 0.4470631182193756], [13, {'F1-score': 0.04711230526206985}, {'NDCG': 0.05966901007595059}, {'MAE': 4.581766917293233}, 0.4756716787815094], [14, {'F1-score': 0.04723161077816466}, {'NDCG': 0.05945372615356166}, {'MAE': 4.342105263157895}, 0.4816666841506958], [15, {'F1-score': 0.04722102659180576}, {'NDCG': 0.059696484710741085}, {'MAE': 4.632988721804511}, 0.48104894161224365], [16, {'F1-score': 0.04657582839157669}, {'NDCG': 0.05938343664401918}, {'MAE': 4.44172932330827}, 0.4729230999946594], [17, {'F1-score': 0.047340324876413306}, {'NDCG': 0.059578644226417225}, {'MAE': 4.523966165413534}, 0.4981396198272705], [18, {'F1-score': 0.04872001572519089}, {'NDCG': 0.0606838924520565}, {'MAE': 4.5643796992481205}, 0.4892524778842926], [19, {'F1-score': 0.04804556414740486}, {'NDCG': 0.06017220375579747}, {'MAE': 4.5930451127819545}, 0.4964289963245392], [20, {'F1-score': 0.04821741613942181}, {'NDCG': 0.06030960270217655}, {'MAE': 4.6480263157894735}, 0.5075433850288391], [21, {'F1-score': 0.04846154267367264}, {'NDCG': 0.06040076995522302}, {'MAE': 4.859022556390977}, 0.5221740007400513], [22, {'F1-score': 0.04762248883752847}, {'NDCG': 0.059829848275793004}, {'MAE': 4.55968045112782}, 0.4897764325141907], [23, {'F1-score': 0.04725769619312713}, {'NDCG': 0.05953896566008785}, {'MAE': 4.75093984962406}, 0.5202903151512146]]\n",
      "-----------------------------------------------------------------------------------------\n"
     ]
    },
    {
     "name": "stderr",
     "output_type": "stream",
     "text": [
      "  0%|          | 1/932 [00:00<06:33,  2.37it/s]"
     ]
    },
    {
     "name": "stdout",
     "output_type": "stream",
     "text": [
      "Epoch 24: 0% , Loss: 0.525509\n"
     ]
    },
    {
     "name": "stderr",
     "output_type": "stream",
     "text": [
      " 11%|█         | 101/932 [01:01<09:00,  1.54it/s]"
     ]
    },
    {
     "name": "stdout",
     "output_type": "stream",
     "text": [
      "Epoch 24: 11% , Loss: 0.317766\n"
     ]
    },
    {
     "name": "stderr",
     "output_type": "stream",
     "text": [
      " 22%|██▏       | 201/932 [02:04<07:37,  1.60it/s]"
     ]
    },
    {
     "name": "stdout",
     "output_type": "stream",
     "text": [
      "Epoch 24: 21% , Loss: 1.069052\n"
     ]
    },
    {
     "name": "stderr",
     "output_type": "stream",
     "text": [
      " 32%|███▏      | 301/932 [03:11<06:58,  1.51it/s]"
     ]
    },
    {
     "name": "stdout",
     "output_type": "stream",
     "text": [
      "Epoch 24: 32% , Loss: 0.079406\n"
     ]
    },
    {
     "name": "stderr",
     "output_type": "stream",
     "text": [
      " 43%|████▎     | 401/932 [04:14<05:53,  1.50it/s]"
     ]
    },
    {
     "name": "stdout",
     "output_type": "stream",
     "text": [
      "Epoch 24: 43% , Loss: 0.202288\n"
     ]
    },
    {
     "name": "stderr",
     "output_type": "stream",
     "text": [
      " 54%|█████▍    | 501/932 [05:16<04:18,  1.67it/s]"
     ]
    },
    {
     "name": "stdout",
     "output_type": "stream",
     "text": [
      "Epoch 24: 54% , Loss: 0.131756\n"
     ]
    },
    {
     "name": "stderr",
     "output_type": "stream",
     "text": [
      " 64%|██████▍   | 601/932 [06:23<03:39,  1.51it/s]"
     ]
    },
    {
     "name": "stdout",
     "output_type": "stream",
     "text": [
      "Epoch 24: 64% , Loss: 0.065759\n"
     ]
    },
    {
     "name": "stderr",
     "output_type": "stream",
     "text": [
      " 75%|███████▌  | 701/932 [07:33<02:20,  1.64it/s]"
     ]
    },
    {
     "name": "stdout",
     "output_type": "stream",
     "text": [
      "Epoch 24: 75% , Loss: 0.237823\n"
     ]
    },
    {
     "name": "stderr",
     "output_type": "stream",
     "text": [
      " 86%|████████▌ | 801/932 [08:39<01:23,  1.58it/s]"
     ]
    },
    {
     "name": "stdout",
     "output_type": "stream",
     "text": [
      "Epoch 24: 86% , Loss: 0.452766\n"
     ]
    },
    {
     "name": "stderr",
     "output_type": "stream",
     "text": [
      " 97%|█████████▋| 901/932 [09:31<00:16,  1.93it/s]"
     ]
    },
    {
     "name": "stdout",
     "output_type": "stream",
     "text": [
      "Epoch 24: 97% , Loss: 0.476204\n"
     ]
    },
    {
     "name": "stderr",
     "output_type": "stream",
     "text": [
      "100%|██████████| 932/932 [09:47<00:00,  1.59it/s]"
     ]
    },
    {
     "name": "stdout",
     "output_type": "stream",
     "text": [
      "Epoch 24: 100% , Loss: 0.189405\n"
     ]
    },
    {
     "name": "stderr",
     "output_type": "stream",
     "text": [
      "\n"
     ]
    },
    {
     "name": "stdout",
     "output_type": "stream",
     "text": [
      "                      (F1-score: 0.0484)\n",
      "\n",
      "                      (NDCG: 0.0623)\n",
      "\n",
      "                      (MAE: 4.1385)\n",
      "\n",
      "train_loss= tensor(0.3880)\n",
      "--------------------\n"
     ]
    },
    {
     "name": "stderr",
     "output_type": "stream",
     "text": [
      "100%|██████████| 133/133 [00:40<00:00,  3.24it/s]\n"
     ]
    },
    {
     "name": "stdout",
     "output_type": "stream",
     "text": [
      "                      (F1-score: 0.0451)\n",
      "\n",
      "                      (NDCG: 0.0555)\n",
      "\n",
      "                      (MAE: 4.8957)\n",
      "\n",
      "val_loss= tensor(0.5656)\n",
      "--------------------\n"
     ]
    },
    {
     "name": "stderr",
     "output_type": "stream",
     "text": [
      "100%|██████████| 266/266 [01:55<00:00,  2.30it/s]\n"
     ]
    },
    {
     "name": "stdout",
     "output_type": "stream",
     "text": [
      "                      (F1-score: 0.0471)\n",
      "\n",
      "                      (NDCG: 0.0593)\n",
      "\n",
      "                      (MAE: 4.8628)\n",
      "\n",
      "--------------------\n",
      "[[1, {'F1-score': 0.0001386660620683177}, {'NDCG': 0.00012056498448679546}, {'MAE': 6.0831766917293235}, 1.060592532157898], [2, {'F1-score': 0.00012541708094908745}, {'NDCG': 8.964268980841887e-05}, {'MAE': 4.385338345864661}, 0.5905851125717163], [3, {'F1-score': 7.868848916781247e-05}, {'NDCG': 5.510349887514249e-05}, {'MAE': 4.457236842105263}, 0.5367398858070374], [4, {'F1-score': 0.011910174467723229}, {'NDCG': 0.010843196795392026}, {'MAE': 4.351033834586466}, 0.5036801695823669], [5, {'F1-score': 0.019910581414398724}, {'NDCG': 0.03303729515799314}, {'MAE': 4.44172932330827}, 0.47101667523384094], [6, {'F1-score': 0.02644881298506572}, {'NDCG': 0.040844002404229196}, {'MAE': 4.37406015037594}, 0.46322402358055115], [7, {'F1-score': 0.0399246056772787}, {'NDCG': 0.053563095979336506}, {'MAE': 4.345394736842105}, 0.5044078826904297], [8, {'F1-score': 0.04667853859566283}, {'NDCG': 0.05927971679466966}, {'MAE': 4.319548872180451}, 0.5166702270507812], [9, {'F1-score': 0.047328316154603055}, {'NDCG': 0.05953080886694834}, {'MAE': 4.3181390977443606}, 0.47541239857673645], [10, {'F1-score': 0.04768266384925871}, {'NDCG': 0.059803499729036445}, {'MAE': 4.3218984962406015}, 0.48866674304008484], [11, {'F1-score': 0.04775618328847661}, {'NDCG': 0.05970366847704872}, {'MAE': 4.443609022556391}, 0.46042194962501526], [12, {'F1-score': 0.047794537877801795}, {'NDCG': 0.0598465548622548}, {'MAE': 4.421992481203008}, 0.4470631182193756], [13, {'F1-score': 0.04711230526206985}, {'NDCG': 0.05966901007595059}, {'MAE': 4.581766917293233}, 0.4756716787815094], [14, {'F1-score': 0.04723161077816466}, {'NDCG': 0.05945372615356166}, {'MAE': 4.342105263157895}, 0.4816666841506958], [15, {'F1-score': 0.04722102659180576}, {'NDCG': 0.059696484710741085}, {'MAE': 4.632988721804511}, 0.48104894161224365], [16, {'F1-score': 0.04657582839157669}, {'NDCG': 0.05938343664401918}, {'MAE': 4.44172932330827}, 0.4729230999946594], [17, {'F1-score': 0.047340324876413306}, {'NDCG': 0.059578644226417225}, {'MAE': 4.523966165413534}, 0.4981396198272705], [18, {'F1-score': 0.04872001572519089}, {'NDCG': 0.0606838924520565}, {'MAE': 4.5643796992481205}, 0.4892524778842926], [19, {'F1-score': 0.04804556414740486}, {'NDCG': 0.06017220375579747}, {'MAE': 4.5930451127819545}, 0.4964289963245392], [20, {'F1-score': 0.04821741613942181}, {'NDCG': 0.06030960270217655}, {'MAE': 4.6480263157894735}, 0.5075433850288391], [21, {'F1-score': 0.04846154267367264}, {'NDCG': 0.06040076995522302}, {'MAE': 4.859022556390977}, 0.5221740007400513], [22, {'F1-score': 0.04762248883752847}, {'NDCG': 0.059829848275793004}, {'MAE': 4.55968045112782}, 0.4897764325141907], [23, {'F1-score': 0.04725769619312713}, {'NDCG': 0.05953896566008785}, {'MAE': 4.75093984962406}, 0.5202903151512146], [24, {'F1-score': 0.047133667631655655}, {'NDCG': 0.05931482781766375}, {'MAE': 4.862781954887218}, 0.5656381249427795]]\n",
      "-----------------------------------------------------------------------------------------\n"
     ]
    },
    {
     "name": "stderr",
     "output_type": "stream",
     "text": [
      "  0%|          | 1/932 [00:00<07:57,  1.95it/s]"
     ]
    },
    {
     "name": "stdout",
     "output_type": "stream",
     "text": [
      "Epoch 25: 0% , Loss: 0.166564\n"
     ]
    },
    {
     "name": "stderr",
     "output_type": "stream",
     "text": [
      " 11%|█         | 101/932 [01:01<07:38,  1.81it/s]"
     ]
    },
    {
     "name": "stdout",
     "output_type": "stream",
     "text": [
      "Epoch 25: 11% , Loss: 0.179635\n"
     ]
    },
    {
     "name": "stderr",
     "output_type": "stream",
     "text": [
      " 22%|██▏       | 201/932 [02:05<06:34,  1.85it/s]"
     ]
    },
    {
     "name": "stdout",
     "output_type": "stream",
     "text": [
      "Epoch 25: 21% , Loss: 0.328806\n"
     ]
    },
    {
     "name": "stderr",
     "output_type": "stream",
     "text": [
      " 32%|███▏      | 301/932 [03:09<07:11,  1.46it/s]"
     ]
    },
    {
     "name": "stdout",
     "output_type": "stream",
     "text": [
      "Epoch 25: 32% , Loss: 1.265124\n"
     ]
    },
    {
     "name": "stderr",
     "output_type": "stream",
     "text": [
      " 43%|████▎     | 401/932 [04:12<06:38,  1.33it/s]"
     ]
    },
    {
     "name": "stdout",
     "output_type": "stream",
     "text": [
      "Epoch 25: 43% , Loss: 0.247992\n"
     ]
    },
    {
     "name": "stderr",
     "output_type": "stream",
     "text": [
      " 54%|█████▍    | 501/932 [05:19<04:53,  1.47it/s]"
     ]
    },
    {
     "name": "stdout",
     "output_type": "stream",
     "text": [
      "Epoch 25: 54% , Loss: 0.217347\n"
     ]
    },
    {
     "name": "stderr",
     "output_type": "stream",
     "text": [
      " 64%|██████▍   | 601/932 [06:26<03:32,  1.56it/s]"
     ]
    },
    {
     "name": "stdout",
     "output_type": "stream",
     "text": [
      "Epoch 25: 64% , Loss: 0.781402\n"
     ]
    },
    {
     "name": "stderr",
     "output_type": "stream",
     "text": [
      " 75%|███████▌  | 701/932 [07:31<02:31,  1.53it/s]"
     ]
    },
    {
     "name": "stdout",
     "output_type": "stream",
     "text": [
      "Epoch 25: 75% , Loss: 0.087615\n"
     ]
    },
    {
     "name": "stderr",
     "output_type": "stream",
     "text": [
      " 86%|████████▌ | 801/932 [08:38<01:25,  1.53it/s]"
     ]
    },
    {
     "name": "stdout",
     "output_type": "stream",
     "text": [
      "Epoch 25: 86% , Loss: 1.325724\n"
     ]
    },
    {
     "name": "stderr",
     "output_type": "stream",
     "text": [
      " 97%|█████████▋| 901/932 [09:29<00:16,  1.84it/s]"
     ]
    },
    {
     "name": "stdout",
     "output_type": "stream",
     "text": [
      "Epoch 25: 97% , Loss: 0.158921\n"
     ]
    },
    {
     "name": "stderr",
     "output_type": "stream",
     "text": [
      "100%|██████████| 932/932 [09:45<00:00,  1.59it/s]"
     ]
    },
    {
     "name": "stdout",
     "output_type": "stream",
     "text": [
      "Epoch 25: 100% , Loss: 0.555787\n"
     ]
    },
    {
     "name": "stderr",
     "output_type": "stream",
     "text": [
      "\n"
     ]
    },
    {
     "name": "stdout",
     "output_type": "stream",
     "text": [
      "                      (F1-score: 0.0487)\n",
      "\n",
      "                      (NDCG: 0.0624)\n",
      "\n",
      "                      (MAE: 4.1313)\n",
      "\n",
      "train_loss= tensor(0.3911)\n",
      "--------------------\n"
     ]
    },
    {
     "name": "stderr",
     "output_type": "stream",
     "text": [
      "100%|██████████| 133/133 [00:39<00:00,  3.34it/s]\n"
     ]
    },
    {
     "name": "stdout",
     "output_type": "stream",
     "text": [
      "                      (F1-score: 0.0426)\n",
      "\n",
      "                      (NDCG: 0.0536)\n",
      "\n",
      "                      (MAE: 4.8148)\n",
      "\n",
      "val_loss= tensor(0.5616)\n",
      "--------------------\n"
     ]
    },
    {
     "name": "stderr",
     "output_type": "stream",
     "text": [
      "100%|██████████| 266/266 [01:56<00:00,  2.28it/s]\n"
     ]
    },
    {
     "name": "stdout",
     "output_type": "stream",
     "text": [
      "                      (F1-score: 0.0471)\n",
      "\n",
      "                      (NDCG: 0.0595)\n",
      "\n",
      "                      (MAE: 4.8102)\n",
      "\n",
      "--------------------\n",
      "[[1, {'F1-score': 0.0001386660620683177}, {'NDCG': 0.00012056498448679546}, {'MAE': 6.0831766917293235}, 1.060592532157898], [2, {'F1-score': 0.00012541708094908745}, {'NDCG': 8.964268980841887e-05}, {'MAE': 4.385338345864661}, 0.5905851125717163], [3, {'F1-score': 7.868848916781247e-05}, {'NDCG': 5.510349887514249e-05}, {'MAE': 4.457236842105263}, 0.5367398858070374], [4, {'F1-score': 0.011910174467723229}, {'NDCG': 0.010843196795392026}, {'MAE': 4.351033834586466}, 0.5036801695823669], [5, {'F1-score': 0.019910581414398724}, {'NDCG': 0.03303729515799314}, {'MAE': 4.44172932330827}, 0.47101667523384094], [6, {'F1-score': 0.02644881298506572}, {'NDCG': 0.040844002404229196}, {'MAE': 4.37406015037594}, 0.46322402358055115], [7, {'F1-score': 0.0399246056772787}, {'NDCG': 0.053563095979336506}, {'MAE': 4.345394736842105}, 0.5044078826904297], [8, {'F1-score': 0.04667853859566283}, {'NDCG': 0.05927971679466966}, {'MAE': 4.319548872180451}, 0.5166702270507812], [9, {'F1-score': 0.047328316154603055}, {'NDCG': 0.05953080886694834}, {'MAE': 4.3181390977443606}, 0.47541239857673645], [10, {'F1-score': 0.04768266384925871}, {'NDCG': 0.059803499729036445}, {'MAE': 4.3218984962406015}, 0.48866674304008484], [11, {'F1-score': 0.04775618328847661}, {'NDCG': 0.05970366847704872}, {'MAE': 4.443609022556391}, 0.46042194962501526], [12, {'F1-score': 0.047794537877801795}, {'NDCG': 0.0598465548622548}, {'MAE': 4.421992481203008}, 0.4470631182193756], [13, {'F1-score': 0.04711230526206985}, {'NDCG': 0.05966901007595059}, {'MAE': 4.581766917293233}, 0.4756716787815094], [14, {'F1-score': 0.04723161077816466}, {'NDCG': 0.05945372615356166}, {'MAE': 4.342105263157895}, 0.4816666841506958], [15, {'F1-score': 0.04722102659180576}, {'NDCG': 0.059696484710741085}, {'MAE': 4.632988721804511}, 0.48104894161224365], [16, {'F1-score': 0.04657582839157669}, {'NDCG': 0.05938343664401918}, {'MAE': 4.44172932330827}, 0.4729230999946594], [17, {'F1-score': 0.047340324876413306}, {'NDCG': 0.059578644226417225}, {'MAE': 4.523966165413534}, 0.4981396198272705], [18, {'F1-score': 0.04872001572519089}, {'NDCG': 0.0606838924520565}, {'MAE': 4.5643796992481205}, 0.4892524778842926], [19, {'F1-score': 0.04804556414740486}, {'NDCG': 0.06017220375579747}, {'MAE': 4.5930451127819545}, 0.4964289963245392], [20, {'F1-score': 0.04821741613942181}, {'NDCG': 0.06030960270217655}, {'MAE': 4.6480263157894735}, 0.5075433850288391], [21, {'F1-score': 0.04846154267367264}, {'NDCG': 0.06040076995522302}, {'MAE': 4.859022556390977}, 0.5221740007400513], [22, {'F1-score': 0.04762248883752847}, {'NDCG': 0.059829848275793004}, {'MAE': 4.55968045112782}, 0.4897764325141907], [23, {'F1-score': 0.04725769619312713}, {'NDCG': 0.05953896566008785}, {'MAE': 4.75093984962406}, 0.5202903151512146], [24, {'F1-score': 0.047133667631655655}, {'NDCG': 0.05931482781766375}, {'MAE': 4.862781954887218}, 0.5656381249427795], [25, {'F1-score': 0.04710875305171452}, {'NDCG': 0.059451100874265056}, {'MAE': 4.81015037593985}, 0.5615942478179932]]\n",
      "-----------------------------------------------------------------------------------------\n"
     ]
    },
    {
     "name": "stderr",
     "output_type": "stream",
     "text": [
      "  0%|          | 1/932 [00:00<10:41,  1.45it/s]"
     ]
    },
    {
     "name": "stdout",
     "output_type": "stream",
     "text": [
      "Epoch 26: 0% , Loss: 0.135789\n"
     ]
    },
    {
     "name": "stderr",
     "output_type": "stream",
     "text": [
      " 11%|█         | 101/932 [01:03<09:12,  1.50it/s]"
     ]
    },
    {
     "name": "stdout",
     "output_type": "stream",
     "text": [
      "Epoch 26: 11% , Loss: 0.168684\n"
     ]
    },
    {
     "name": "stderr",
     "output_type": "stream",
     "text": [
      " 22%|██▏       | 201/932 [02:05<08:06,  1.50it/s]"
     ]
    },
    {
     "name": "stdout",
     "output_type": "stream",
     "text": [
      "Epoch 26: 21% , Loss: 0.344291\n"
     ]
    },
    {
     "name": "stderr",
     "output_type": "stream",
     "text": [
      " 32%|███▏      | 301/932 [03:07<06:04,  1.73it/s]"
     ]
    },
    {
     "name": "stdout",
     "output_type": "stream",
     "text": [
      "Epoch 26: 32% , Loss: 0.408206\n"
     ]
    },
    {
     "name": "stderr",
     "output_type": "stream",
     "text": [
      " 43%|████▎     | 401/932 [04:12<06:34,  1.34it/s]"
     ]
    },
    {
     "name": "stdout",
     "output_type": "stream",
     "text": [
      "Epoch 26: 43% , Loss: 0.946898\n"
     ]
    },
    {
     "name": "stderr",
     "output_type": "stream",
     "text": [
      " 54%|█████▍    | 501/932 [05:20<04:50,  1.48it/s]"
     ]
    },
    {
     "name": "stdout",
     "output_type": "stream",
     "text": [
      "Epoch 26: 54% , Loss: 0.144794\n"
     ]
    },
    {
     "name": "stderr",
     "output_type": "stream",
     "text": [
      " 64%|██████▍   | 601/932 [06:25<03:35,  1.53it/s]"
     ]
    },
    {
     "name": "stdout",
     "output_type": "stream",
     "text": [
      "Epoch 26: 64% , Loss: 0.164092\n"
     ]
    },
    {
     "name": "stderr",
     "output_type": "stream",
     "text": [
      " 75%|███████▌  | 701/932 [07:31<02:32,  1.51it/s]"
     ]
    },
    {
     "name": "stdout",
     "output_type": "stream",
     "text": [
      "Epoch 26: 75% , Loss: 0.988706\n"
     ]
    },
    {
     "name": "stderr",
     "output_type": "stream",
     "text": [
      " 86%|████████▌ | 801/932 [08:38<00:51,  2.56it/s]"
     ]
    },
    {
     "name": "stdout",
     "output_type": "stream",
     "text": [
      "Epoch 26: 86% , Loss: 0.115153\n"
     ]
    },
    {
     "name": "stderr",
     "output_type": "stream",
     "text": [
      " 97%|█████████▋| 901/932 [09:27<00:14,  2.15it/s]"
     ]
    },
    {
     "name": "stdout",
     "output_type": "stream",
     "text": [
      "Epoch 26: 97% , Loss: 0.673429\n"
     ]
    },
    {
     "name": "stderr",
     "output_type": "stream",
     "text": [
      "100%|██████████| 932/932 [09:43<00:00,  1.60it/s]"
     ]
    },
    {
     "name": "stdout",
     "output_type": "stream",
     "text": [
      "Epoch 26: 100% , Loss: 0.530161\n"
     ]
    },
    {
     "name": "stderr",
     "output_type": "stream",
     "text": [
      "\n"
     ]
    },
    {
     "name": "stdout",
     "output_type": "stream",
     "text": [
      "                      (F1-score: 0.0480)\n",
      "\n",
      "                      (NDCG: 0.0619)\n",
      "\n",
      "                      (MAE: 4.0889)\n",
      "\n",
      "train_loss= tensor(0.3833)\n",
      "--------------------\n"
     ]
    },
    {
     "name": "stderr",
     "output_type": "stream",
     "text": [
      "100%|██████████| 133/133 [00:40<00:00,  3.30it/s]\n"
     ]
    },
    {
     "name": "stdout",
     "output_type": "stream",
     "text": [
      "                      (F1-score: 0.0450)\n",
      "\n",
      "                      (NDCG: 0.0558)\n",
      "\n",
      "                      (MAE: 4.7096)\n",
      "\n",
      "val_loss= tensor(0.5450)\n",
      "--------------------\n"
     ]
    },
    {
     "name": "stderr",
     "output_type": "stream",
     "text": [
      "100%|██████████| 266/266 [02:02<00:00,  2.18it/s]\n"
     ]
    },
    {
     "name": "stdout",
     "output_type": "stream",
     "text": [
      "                      (F1-score: 0.0478)\n",
      "\n",
      "                      (NDCG: 0.0599)\n",
      "\n",
      "                      (MAE: 4.7617)\n",
      "\n",
      "--------------------\n",
      "[[1, {'F1-score': 0.0001386660620683177}, {'NDCG': 0.00012056498448679546}, {'MAE': 6.0831766917293235}, 1.060592532157898], [2, {'F1-score': 0.00012541708094908745}, {'NDCG': 8.964268980841887e-05}, {'MAE': 4.385338345864661}, 0.5905851125717163], [3, {'F1-score': 7.868848916781247e-05}, {'NDCG': 5.510349887514249e-05}, {'MAE': 4.457236842105263}, 0.5367398858070374], [4, {'F1-score': 0.011910174467723229}, {'NDCG': 0.010843196795392026}, {'MAE': 4.351033834586466}, 0.5036801695823669], [5, {'F1-score': 0.019910581414398724}, {'NDCG': 0.03303729515799314}, {'MAE': 4.44172932330827}, 0.47101667523384094], [6, {'F1-score': 0.02644881298506572}, {'NDCG': 0.040844002404229196}, {'MAE': 4.37406015037594}, 0.46322402358055115], [7, {'F1-score': 0.0399246056772787}, {'NDCG': 0.053563095979336506}, {'MAE': 4.345394736842105}, 0.5044078826904297], [8, {'F1-score': 0.04667853859566283}, {'NDCG': 0.05927971679466966}, {'MAE': 4.319548872180451}, 0.5166702270507812], [9, {'F1-score': 0.047328316154603055}, {'NDCG': 0.05953080886694834}, {'MAE': 4.3181390977443606}, 0.47541239857673645], [10, {'F1-score': 0.04768266384925871}, {'NDCG': 0.059803499729036445}, {'MAE': 4.3218984962406015}, 0.48866674304008484], [11, {'F1-score': 0.04775618328847661}, {'NDCG': 0.05970366847704872}, {'MAE': 4.443609022556391}, 0.46042194962501526], [12, {'F1-score': 0.047794537877801795}, {'NDCG': 0.0598465548622548}, {'MAE': 4.421992481203008}, 0.4470631182193756], [13, {'F1-score': 0.04711230526206985}, {'NDCG': 0.05966901007595059}, {'MAE': 4.581766917293233}, 0.4756716787815094], [14, {'F1-score': 0.04723161077816466}, {'NDCG': 0.05945372615356166}, {'MAE': 4.342105263157895}, 0.4816666841506958], [15, {'F1-score': 0.04722102659180576}, {'NDCG': 0.059696484710741085}, {'MAE': 4.632988721804511}, 0.48104894161224365], [16, {'F1-score': 0.04657582839157669}, {'NDCG': 0.05938343664401918}, {'MAE': 4.44172932330827}, 0.4729230999946594], [17, {'F1-score': 0.047340324876413306}, {'NDCG': 0.059578644226417225}, {'MAE': 4.523966165413534}, 0.4981396198272705], [18, {'F1-score': 0.04872001572519089}, {'NDCG': 0.0606838924520565}, {'MAE': 4.5643796992481205}, 0.4892524778842926], [19, {'F1-score': 0.04804556414740486}, {'NDCG': 0.06017220375579747}, {'MAE': 4.5930451127819545}, 0.4964289963245392], [20, {'F1-score': 0.04821741613942181}, {'NDCG': 0.06030960270217655}, {'MAE': 4.6480263157894735}, 0.5075433850288391], [21, {'F1-score': 0.04846154267367264}, {'NDCG': 0.06040076995522302}, {'MAE': 4.859022556390977}, 0.5221740007400513], [22, {'F1-score': 0.04762248883752847}, {'NDCG': 0.059829848275793004}, {'MAE': 4.55968045112782}, 0.4897764325141907], [23, {'F1-score': 0.04725769619312713}, {'NDCG': 0.05953896566008785}, {'MAE': 4.75093984962406}, 0.5202903151512146], [24, {'F1-score': 0.047133667631655655}, {'NDCG': 0.05931482781766375}, {'MAE': 4.862781954887218}, 0.5656381249427795], [25, {'F1-score': 0.04710875305171452}, {'NDCG': 0.059451100874265056}, {'MAE': 4.81015037593985}, 0.5615942478179932], [26, {'F1-score': 0.04778214627902538}, {'NDCG': 0.059946396443257596}, {'MAE': 4.7617481203007515}, 0.5449697971343994]]\n",
      "-----------------------------------------------------------------------------------------\n"
     ]
    },
    {
     "name": "stderr",
     "output_type": "stream",
     "text": [
      "  0%|          | 1/932 [00:00<13:48,  1.12it/s]"
     ]
    },
    {
     "name": "stdout",
     "output_type": "stream",
     "text": [
      "Epoch 27: 0% , Loss: 0.372463\n"
     ]
    },
    {
     "name": "stderr",
     "output_type": "stream",
     "text": [
      " 11%|█         | 101/932 [01:00<07:26,  1.86it/s]"
     ]
    },
    {
     "name": "stdout",
     "output_type": "stream",
     "text": [
      "Epoch 27: 11% , Loss: 0.248875\n"
     ]
    },
    {
     "name": "stderr",
     "output_type": "stream",
     "text": [
      " 22%|██▏       | 201/932 [02:01<06:51,  1.78it/s]"
     ]
    },
    {
     "name": "stdout",
     "output_type": "stream",
     "text": [
      "Epoch 27: 21% , Loss: 0.636297\n"
     ]
    },
    {
     "name": "stderr",
     "output_type": "stream",
     "text": [
      " 32%|███▏      | 301/932 [03:03<04:14,  2.48it/s]"
     ]
    },
    {
     "name": "stdout",
     "output_type": "stream",
     "text": [
      "Epoch 27: 32% , Loss: 0.255488\n"
     ]
    },
    {
     "name": "stderr",
     "output_type": "stream",
     "text": [
      " 43%|████▎     | 401/932 [04:09<04:33,  1.94it/s]"
     ]
    },
    {
     "name": "stdout",
     "output_type": "stream",
     "text": [
      "Epoch 27: 43% , Loss: 0.346854\n"
     ]
    },
    {
     "name": "stderr",
     "output_type": "stream",
     "text": [
      " 54%|█████▍    | 501/932 [05:15<04:37,  1.56it/s]"
     ]
    },
    {
     "name": "stdout",
     "output_type": "stream",
     "text": [
      "Epoch 27: 54% , Loss: 0.111023\n"
     ]
    },
    {
     "name": "stderr",
     "output_type": "stream",
     "text": [
      " 64%|██████▍   | 601/932 [06:18<03:34,  1.54it/s]"
     ]
    },
    {
     "name": "stdout",
     "output_type": "stream",
     "text": [
      "Epoch 27: 64% , Loss: 0.217778\n"
     ]
    },
    {
     "name": "stderr",
     "output_type": "stream",
     "text": [
      " 75%|███████▌  | 701/932 [07:25<02:50,  1.36it/s]"
     ]
    },
    {
     "name": "stdout",
     "output_type": "stream",
     "text": [
      "Epoch 27: 75% , Loss: 0.123005\n"
     ]
    },
    {
     "name": "stderr",
     "output_type": "stream",
     "text": [
      " 86%|████████▌ | 801/932 [08:29<00:57,  2.29it/s]"
     ]
    },
    {
     "name": "stdout",
     "output_type": "stream",
     "text": [
      "Epoch 27: 86% , Loss: 0.607019\n"
     ]
    },
    {
     "name": "stderr",
     "output_type": "stream",
     "text": [
      " 97%|█████████▋| 901/932 [09:20<00:15,  2.05it/s]"
     ]
    },
    {
     "name": "stdout",
     "output_type": "stream",
     "text": [
      "Epoch 27: 97% , Loss: 0.131232\n"
     ]
    },
    {
     "name": "stderr",
     "output_type": "stream",
     "text": [
      "100%|██████████| 932/932 [09:36<00:00,  1.62it/s]"
     ]
    },
    {
     "name": "stdout",
     "output_type": "stream",
     "text": [
      "Epoch 27: 100% , Loss: 0.037901\n"
     ]
    },
    {
     "name": "stderr",
     "output_type": "stream",
     "text": [
      "\n"
     ]
    },
    {
     "name": "stdout",
     "output_type": "stream",
     "text": [
      "                      (F1-score: 0.0489)\n",
      "\n",
      "                      (NDCG: 0.0626)\n",
      "\n",
      "                      (MAE: 4.0646)\n",
      "\n",
      "train_loss= tensor(0.3831)\n",
      "--------------------\n"
     ]
    },
    {
     "name": "stderr",
     "output_type": "stream",
     "text": [
      "100%|██████████| 133/133 [00:40<00:00,  3.32it/s]\n"
     ]
    },
    {
     "name": "stdout",
     "output_type": "stream",
     "text": [
      "                      (F1-score: 0.0450)\n",
      "\n",
      "                      (NDCG: 0.0557)\n",
      "\n",
      "                      (MAE: 4.6081)\n",
      "\n",
      "val_loss= tensor(0.5362)\n",
      "--------------------\n"
     ]
    },
    {
     "name": "stderr",
     "output_type": "stream",
     "text": [
      "100%|██████████| 266/266 [02:01<00:00,  2.19it/s]\n"
     ]
    },
    {
     "name": "stdout",
     "output_type": "stream",
     "text": [
      "                      (F1-score: 0.0478)\n",
      "\n",
      "                      (NDCG: 0.0602)\n",
      "\n",
      "                      (MAE: 4.6856)\n",
      "\n",
      "--------------------\n",
      "[[1, {'F1-score': 0.0001386660620683177}, {'NDCG': 0.00012056498448679546}, {'MAE': 6.0831766917293235}, 1.060592532157898], [2, {'F1-score': 0.00012541708094908745}, {'NDCG': 8.964268980841887e-05}, {'MAE': 4.385338345864661}, 0.5905851125717163], [3, {'F1-score': 7.868848916781247e-05}, {'NDCG': 5.510349887514249e-05}, {'MAE': 4.457236842105263}, 0.5367398858070374], [4, {'F1-score': 0.011910174467723229}, {'NDCG': 0.010843196795392026}, {'MAE': 4.351033834586466}, 0.5036801695823669], [5, {'F1-score': 0.019910581414398724}, {'NDCG': 0.03303729515799314}, {'MAE': 4.44172932330827}, 0.47101667523384094], [6, {'F1-score': 0.02644881298506572}, {'NDCG': 0.040844002404229196}, {'MAE': 4.37406015037594}, 0.46322402358055115], [7, {'F1-score': 0.0399246056772787}, {'NDCG': 0.053563095979336506}, {'MAE': 4.345394736842105}, 0.5044078826904297], [8, {'F1-score': 0.04667853859566283}, {'NDCG': 0.05927971679466966}, {'MAE': 4.319548872180451}, 0.5166702270507812], [9, {'F1-score': 0.047328316154603055}, {'NDCG': 0.05953080886694834}, {'MAE': 4.3181390977443606}, 0.47541239857673645], [10, {'F1-score': 0.04768266384925871}, {'NDCG': 0.059803499729036445}, {'MAE': 4.3218984962406015}, 0.48866674304008484], [11, {'F1-score': 0.04775618328847661}, {'NDCG': 0.05970366847704872}, {'MAE': 4.443609022556391}, 0.46042194962501526], [12, {'F1-score': 0.047794537877801795}, {'NDCG': 0.0598465548622548}, {'MAE': 4.421992481203008}, 0.4470631182193756], [13, {'F1-score': 0.04711230526206985}, {'NDCG': 0.05966901007595059}, {'MAE': 4.581766917293233}, 0.4756716787815094], [14, {'F1-score': 0.04723161077816466}, {'NDCG': 0.05945372615356166}, {'MAE': 4.342105263157895}, 0.4816666841506958], [15, {'F1-score': 0.04722102659180576}, {'NDCG': 0.059696484710741085}, {'MAE': 4.632988721804511}, 0.48104894161224365], [16, {'F1-score': 0.04657582839157669}, {'NDCG': 0.05938343664401918}, {'MAE': 4.44172932330827}, 0.4729230999946594], [17, {'F1-score': 0.047340324876413306}, {'NDCG': 0.059578644226417225}, {'MAE': 4.523966165413534}, 0.4981396198272705], [18, {'F1-score': 0.04872001572519089}, {'NDCG': 0.0606838924520565}, {'MAE': 4.5643796992481205}, 0.4892524778842926], [19, {'F1-score': 0.04804556414740486}, {'NDCG': 0.06017220375579747}, {'MAE': 4.5930451127819545}, 0.4964289963245392], [20, {'F1-score': 0.04821741613942181}, {'NDCG': 0.06030960270217655}, {'MAE': 4.6480263157894735}, 0.5075433850288391], [21, {'F1-score': 0.04846154267367264}, {'NDCG': 0.06040076995522302}, {'MAE': 4.859022556390977}, 0.5221740007400513], [22, {'F1-score': 0.04762248883752847}, {'NDCG': 0.059829848275793004}, {'MAE': 4.55968045112782}, 0.4897764325141907], [23, {'F1-score': 0.04725769619312713}, {'NDCG': 0.05953896566008785}, {'MAE': 4.75093984962406}, 0.5202903151512146], [24, {'F1-score': 0.047133667631655655}, {'NDCG': 0.05931482781766375}, {'MAE': 4.862781954887218}, 0.5656381249427795], [25, {'F1-score': 0.04710875305171452}, {'NDCG': 0.059451100874265056}, {'MAE': 4.81015037593985}, 0.5615942478179932], [26, {'F1-score': 0.04778214627902538}, {'NDCG': 0.059946396443257596}, {'MAE': 4.7617481203007515}, 0.5449697971343994], [27, {'F1-score': 0.04779770785106043}, {'NDCG': 0.0601743669144081}, {'MAE': 4.6856203007518795}, 0.5362446904182434]]\n",
      "-----------------------------------------------------------------------------------------\n"
     ]
    },
    {
     "name": "stderr",
     "output_type": "stream",
     "text": [
      "  0%|          | 1/932 [00:00<11:37,  1.33it/s]"
     ]
    },
    {
     "name": "stdout",
     "output_type": "stream",
     "text": [
      "Epoch 28: 0% , Loss: 0.226231\n"
     ]
    },
    {
     "name": "stderr",
     "output_type": "stream",
     "text": [
      " 11%|█         | 101/932 [01:03<08:28,  1.64it/s]"
     ]
    },
    {
     "name": "stdout",
     "output_type": "stream",
     "text": [
      "Epoch 28: 11% , Loss: 0.457245\n"
     ]
    },
    {
     "name": "stderr",
     "output_type": "stream",
     "text": [
      " 22%|██▏       | 201/932 [02:08<08:08,  1.50it/s]"
     ]
    },
    {
     "name": "stdout",
     "output_type": "stream",
     "text": [
      "Epoch 28: 21% , Loss: 0.407296\n"
     ]
    },
    {
     "name": "stderr",
     "output_type": "stream",
     "text": [
      " 32%|███▏      | 301/932 [03:13<06:45,  1.55it/s]"
     ]
    },
    {
     "name": "stdout",
     "output_type": "stream",
     "text": [
      "Epoch 28: 32% , Loss: 0.240144\n"
     ]
    },
    {
     "name": "stderr",
     "output_type": "stream",
     "text": [
      " 43%|████▎     | 401/932 [04:17<05:52,  1.51it/s]"
     ]
    },
    {
     "name": "stdout",
     "output_type": "stream",
     "text": [
      "Epoch 28: 43% , Loss: 0.139938\n"
     ]
    },
    {
     "name": "stderr",
     "output_type": "stream",
     "text": [
      " 54%|█████▍    | 501/932 [05:20<04:38,  1.55it/s]"
     ]
    },
    {
     "name": "stdout",
     "output_type": "stream",
     "text": [
      "Epoch 28: 54% , Loss: 0.202046\n"
     ]
    },
    {
     "name": "stderr",
     "output_type": "stream",
     "text": [
      " 64%|██████▍   | 601/932 [06:23<03:36,  1.53it/s]"
     ]
    },
    {
     "name": "stdout",
     "output_type": "stream",
     "text": [
      "Epoch 28: 64% , Loss: 0.176867\n"
     ]
    },
    {
     "name": "stderr",
     "output_type": "stream",
     "text": [
      " 75%|███████▌  | 701/932 [07:29<02:19,  1.65it/s]"
     ]
    },
    {
     "name": "stdout",
     "output_type": "stream",
     "text": [
      "Epoch 28: 75% , Loss: 0.694932\n"
     ]
    },
    {
     "name": "stderr",
     "output_type": "stream",
     "text": [
      " 86%|████████▌ | 801/932 [08:32<01:02,  2.11it/s]"
     ]
    },
    {
     "name": "stdout",
     "output_type": "stream",
     "text": [
      "Epoch 28: 86% , Loss: 0.252911\n"
     ]
    },
    {
     "name": "stderr",
     "output_type": "stream",
     "text": [
      " 97%|█████████▋| 901/932 [09:22<00:17,  1.77it/s]"
     ]
    },
    {
     "name": "stdout",
     "output_type": "stream",
     "text": [
      "Epoch 28: 97% , Loss: 0.153679\n"
     ]
    },
    {
     "name": "stderr",
     "output_type": "stream",
     "text": [
      "100%|██████████| 932/932 [09:40<00:00,  1.61it/s]"
     ]
    },
    {
     "name": "stdout",
     "output_type": "stream",
     "text": [
      "Epoch 28: 100% , Loss: 0.836899\n"
     ]
    },
    {
     "name": "stderr",
     "output_type": "stream",
     "text": [
      "\n"
     ]
    },
    {
     "name": "stdout",
     "output_type": "stream",
     "text": [
      "                      (F1-score: 0.0481)\n",
      "\n",
      "                      (NDCG: 0.0620)\n",
      "\n",
      "                      (MAE: 4.0506)\n",
      "\n",
      "train_loss= tensor(0.3768)\n",
      "--------------------\n"
     ]
    },
    {
     "name": "stderr",
     "output_type": "stream",
     "text": [
      "100%|██████████| 133/133 [00:39<00:00,  3.33it/s]\n"
     ]
    },
    {
     "name": "stdout",
     "output_type": "stream",
     "text": [
      "                      (F1-score: 0.0444)\n",
      "\n",
      "                      (NDCG: 0.0552)\n",
      "\n",
      "                      (MAE: 4.8008)\n",
      "\n",
      "val_loss= tensor(0.5651)\n",
      "--------------------\n"
     ]
    },
    {
     "name": "stderr",
     "output_type": "stream",
     "text": [
      "100%|██████████| 266/266 [02:09<00:00,  2.06it/s]\n"
     ]
    },
    {
     "name": "stdout",
     "output_type": "stream",
     "text": [
      "                      (F1-score: 0.0475)\n",
      "\n",
      "                      (NDCG: 0.0597)\n",
      "\n",
      "                      (MAE: 4.8195)\n",
      "\n",
      "--------------------\n",
      "[[1, {'F1-score': 0.0001386660620683177}, {'NDCG': 0.00012056498448679546}, {'MAE': 6.0831766917293235}, 1.060592532157898], [2, {'F1-score': 0.00012541708094908745}, {'NDCG': 8.964268980841887e-05}, {'MAE': 4.385338345864661}, 0.5905851125717163], [3, {'F1-score': 7.868848916781247e-05}, {'NDCG': 5.510349887514249e-05}, {'MAE': 4.457236842105263}, 0.5367398858070374], [4, {'F1-score': 0.011910174467723229}, {'NDCG': 0.010843196795392026}, {'MAE': 4.351033834586466}, 0.5036801695823669], [5, {'F1-score': 0.019910581414398724}, {'NDCG': 0.03303729515799314}, {'MAE': 4.44172932330827}, 0.47101667523384094], [6, {'F1-score': 0.02644881298506572}, {'NDCG': 0.040844002404229196}, {'MAE': 4.37406015037594}, 0.46322402358055115], [7, {'F1-score': 0.0399246056772787}, {'NDCG': 0.053563095979336506}, {'MAE': 4.345394736842105}, 0.5044078826904297], [8, {'F1-score': 0.04667853859566283}, {'NDCG': 0.05927971679466966}, {'MAE': 4.319548872180451}, 0.5166702270507812], [9, {'F1-score': 0.047328316154603055}, {'NDCG': 0.05953080886694834}, {'MAE': 4.3181390977443606}, 0.47541239857673645], [10, {'F1-score': 0.04768266384925871}, {'NDCG': 0.059803499729036445}, {'MAE': 4.3218984962406015}, 0.48866674304008484], [11, {'F1-score': 0.04775618328847661}, {'NDCG': 0.05970366847704872}, {'MAE': 4.443609022556391}, 0.46042194962501526], [12, {'F1-score': 0.047794537877801795}, {'NDCG': 0.0598465548622548}, {'MAE': 4.421992481203008}, 0.4470631182193756], [13, {'F1-score': 0.04711230526206985}, {'NDCG': 0.05966901007595059}, {'MAE': 4.581766917293233}, 0.4756716787815094], [14, {'F1-score': 0.04723161077816466}, {'NDCG': 0.05945372615356166}, {'MAE': 4.342105263157895}, 0.4816666841506958], [15, {'F1-score': 0.04722102659180576}, {'NDCG': 0.059696484710741085}, {'MAE': 4.632988721804511}, 0.48104894161224365], [16, {'F1-score': 0.04657582839157669}, {'NDCG': 0.05938343664401918}, {'MAE': 4.44172932330827}, 0.4729230999946594], [17, {'F1-score': 0.047340324876413306}, {'NDCG': 0.059578644226417225}, {'MAE': 4.523966165413534}, 0.4981396198272705], [18, {'F1-score': 0.04872001572519089}, {'NDCG': 0.0606838924520565}, {'MAE': 4.5643796992481205}, 0.4892524778842926], [19, {'F1-score': 0.04804556414740486}, {'NDCG': 0.06017220375579747}, {'MAE': 4.5930451127819545}, 0.4964289963245392], [20, {'F1-score': 0.04821741613942181}, {'NDCG': 0.06030960270217655}, {'MAE': 4.6480263157894735}, 0.5075433850288391], [21, {'F1-score': 0.04846154267367264}, {'NDCG': 0.06040076995522302}, {'MAE': 4.859022556390977}, 0.5221740007400513], [22, {'F1-score': 0.04762248883752847}, {'NDCG': 0.059829848275793004}, {'MAE': 4.55968045112782}, 0.4897764325141907], [23, {'F1-score': 0.04725769619312713}, {'NDCG': 0.05953896566008785}, {'MAE': 4.75093984962406}, 0.5202903151512146], [24, {'F1-score': 0.047133667631655655}, {'NDCG': 0.05931482781766375}, {'MAE': 4.862781954887218}, 0.5656381249427795], [25, {'F1-score': 0.04710875305171452}, {'NDCG': 0.059451100874265056}, {'MAE': 4.81015037593985}, 0.5615942478179932], [26, {'F1-score': 0.04778214627902538}, {'NDCG': 0.059946396443257596}, {'MAE': 4.7617481203007515}, 0.5449697971343994], [27, {'F1-score': 0.04779770785106043}, {'NDCG': 0.0601743669144081}, {'MAE': 4.6856203007518795}, 0.5362446904182434], [28, {'F1-score': 0.04754004876112913}, {'NDCG': 0.059691761411145274}, {'MAE': 4.819548872180451}, 0.5651489496231079]]\n",
      "-----------------------------------------------------------------------------------------\n"
     ]
    },
    {
     "name": "stderr",
     "output_type": "stream",
     "text": [
      "  0%|          | 1/932 [00:00<08:56,  1.74it/s]"
     ]
    },
    {
     "name": "stdout",
     "output_type": "stream",
     "text": [
      "Epoch 29: 0% , Loss: 0.113378\n"
     ]
    },
    {
     "name": "stderr",
     "output_type": "stream",
     "text": [
      " 11%|█         | 101/932 [01:03<07:19,  1.89it/s]"
     ]
    },
    {
     "name": "stdout",
     "output_type": "stream",
     "text": [
      "Epoch 29: 11% , Loss: 0.158975\n"
     ]
    },
    {
     "name": "stderr",
     "output_type": "stream",
     "text": [
      " 22%|██▏       | 201/932 [02:02<05:35,  2.18it/s]"
     ]
    },
    {
     "name": "stdout",
     "output_type": "stream",
     "text": [
      "Epoch 29: 21% , Loss: 0.178601\n"
     ]
    },
    {
     "name": "stderr",
     "output_type": "stream",
     "text": [
      " 32%|███▏      | 301/932 [03:05<06:18,  1.67it/s]"
     ]
    },
    {
     "name": "stdout",
     "output_type": "stream",
     "text": [
      "Epoch 29: 32% , Loss: 0.314732\n"
     ]
    },
    {
     "name": "stderr",
     "output_type": "stream",
     "text": [
      " 43%|████▎     | 401/932 [04:08<05:20,  1.66it/s]"
     ]
    },
    {
     "name": "stdout",
     "output_type": "stream",
     "text": [
      "Epoch 29: 43% , Loss: 0.223989\n"
     ]
    },
    {
     "name": "stderr",
     "output_type": "stream",
     "text": [
      " 54%|█████▍    | 501/932 [05:15<05:04,  1.41it/s]"
     ]
    },
    {
     "name": "stdout",
     "output_type": "stream",
     "text": [
      "Epoch 29: 54% , Loss: 0.151022\n"
     ]
    },
    {
     "name": "stderr",
     "output_type": "stream",
     "text": [
      " 64%|██████▍   | 601/932 [06:20<03:42,  1.49it/s]"
     ]
    },
    {
     "name": "stdout",
     "output_type": "stream",
     "text": [
      "Epoch 29: 64% , Loss: 0.172005\n"
     ]
    },
    {
     "name": "stderr",
     "output_type": "stream",
     "text": [
      " 75%|███████▌  | 701/932 [07:25<02:57,  1.30it/s]"
     ]
    },
    {
     "name": "stdout",
     "output_type": "stream",
     "text": [
      "Epoch 29: 75% , Loss: 0.380578\n"
     ]
    },
    {
     "name": "stderr",
     "output_type": "stream",
     "text": [
      " 86%|████████▌ | 801/932 [08:25<01:14,  1.76it/s]"
     ]
    },
    {
     "name": "stdout",
     "output_type": "stream",
     "text": [
      "Epoch 29: 86% , Loss: 0.098991\n"
     ]
    },
    {
     "name": "stderr",
     "output_type": "stream",
     "text": [
      " 97%|█████████▋| 901/932 [09:16<00:15,  2.01it/s]"
     ]
    },
    {
     "name": "stdout",
     "output_type": "stream",
     "text": [
      "Epoch 29: 97% , Loss: 0.368157\n"
     ]
    },
    {
     "name": "stderr",
     "output_type": "stream",
     "text": [
      "100%|██████████| 932/932 [09:33<00:00,  1.63it/s]"
     ]
    },
    {
     "name": "stdout",
     "output_type": "stream",
     "text": [
      "Epoch 29: 100% , Loss: 0.207043\n"
     ]
    },
    {
     "name": "stderr",
     "output_type": "stream",
     "text": [
      "\n"
     ]
    },
    {
     "name": "stdout",
     "output_type": "stream",
     "text": [
      "                      (F1-score: 0.0492)\n",
      "\n",
      "                      (NDCG: 0.0629)\n",
      "\n",
      "                      (MAE: 4.0089)\n",
      "\n",
      "train_loss= tensor(0.3671)\n",
      "--------------------\n"
     ]
    },
    {
     "name": "stderr",
     "output_type": "stream",
     "text": [
      "100%|██████████| 133/133 [00:39<00:00,  3.40it/s]\n"
     ]
    },
    {
     "name": "stdout",
     "output_type": "stream",
     "text": [
      "                      (F1-score: 0.0452)\n",
      "\n",
      "                      (NDCG: 0.0561)\n",
      "\n",
      "                      (MAE: 4.8111)\n",
      "\n",
      "val_loss= tensor(0.5804)\n",
      "--------------------\n"
     ]
    },
    {
     "name": "stderr",
     "output_type": "stream",
     "text": [
      "100%|██████████| 266/266 [02:14<00:00,  1.98it/s]\n"
     ]
    },
    {
     "name": "stdout",
     "output_type": "stream",
     "text": [
      "                      (F1-score: 0.0481)\n",
      "\n",
      "                      (NDCG: 0.0603)\n",
      "\n",
      "                      (MAE: 4.8501)\n",
      "\n",
      "--------------------\n",
      "[[1, {'F1-score': 0.0001386660620683177}, {'NDCG': 0.00012056498448679546}, {'MAE': 6.0831766917293235}, 1.060592532157898], [2, {'F1-score': 0.00012541708094908745}, {'NDCG': 8.964268980841887e-05}, {'MAE': 4.385338345864661}, 0.5905851125717163], [3, {'F1-score': 7.868848916781247e-05}, {'NDCG': 5.510349887514249e-05}, {'MAE': 4.457236842105263}, 0.5367398858070374], [4, {'F1-score': 0.011910174467723229}, {'NDCG': 0.010843196795392026}, {'MAE': 4.351033834586466}, 0.5036801695823669], [5, {'F1-score': 0.019910581414398724}, {'NDCG': 0.03303729515799314}, {'MAE': 4.44172932330827}, 0.47101667523384094], [6, {'F1-score': 0.02644881298506572}, {'NDCG': 0.040844002404229196}, {'MAE': 4.37406015037594}, 0.46322402358055115], [7, {'F1-score': 0.0399246056772787}, {'NDCG': 0.053563095979336506}, {'MAE': 4.345394736842105}, 0.5044078826904297], [8, {'F1-score': 0.04667853859566283}, {'NDCG': 0.05927971679466966}, {'MAE': 4.319548872180451}, 0.5166702270507812], [9, {'F1-score': 0.047328316154603055}, {'NDCG': 0.05953080886694834}, {'MAE': 4.3181390977443606}, 0.47541239857673645], [10, {'F1-score': 0.04768266384925871}, {'NDCG': 0.059803499729036445}, {'MAE': 4.3218984962406015}, 0.48866674304008484], [11, {'F1-score': 0.04775618328847661}, {'NDCG': 0.05970366847704872}, {'MAE': 4.443609022556391}, 0.46042194962501526], [12, {'F1-score': 0.047794537877801795}, {'NDCG': 0.0598465548622548}, {'MAE': 4.421992481203008}, 0.4470631182193756], [13, {'F1-score': 0.04711230526206985}, {'NDCG': 0.05966901007595059}, {'MAE': 4.581766917293233}, 0.4756716787815094], [14, {'F1-score': 0.04723161077816466}, {'NDCG': 0.05945372615356166}, {'MAE': 4.342105263157895}, 0.4816666841506958], [15, {'F1-score': 0.04722102659180576}, {'NDCG': 0.059696484710741085}, {'MAE': 4.632988721804511}, 0.48104894161224365], [16, {'F1-score': 0.04657582839157669}, {'NDCG': 0.05938343664401918}, {'MAE': 4.44172932330827}, 0.4729230999946594], [17, {'F1-score': 0.047340324876413306}, {'NDCG': 0.059578644226417225}, {'MAE': 4.523966165413534}, 0.4981396198272705], [18, {'F1-score': 0.04872001572519089}, {'NDCG': 0.0606838924520565}, {'MAE': 4.5643796992481205}, 0.4892524778842926], [19, {'F1-score': 0.04804556414740486}, {'NDCG': 0.06017220375579747}, {'MAE': 4.5930451127819545}, 0.4964289963245392], [20, {'F1-score': 0.04821741613942181}, {'NDCG': 0.06030960270217655}, {'MAE': 4.6480263157894735}, 0.5075433850288391], [21, {'F1-score': 0.04846154267367264}, {'NDCG': 0.06040076995522302}, {'MAE': 4.859022556390977}, 0.5221740007400513], [22, {'F1-score': 0.04762248883752847}, {'NDCG': 0.059829848275793004}, {'MAE': 4.55968045112782}, 0.4897764325141907], [23, {'F1-score': 0.04725769619312713}, {'NDCG': 0.05953896566008785}, {'MAE': 4.75093984962406}, 0.5202903151512146], [24, {'F1-score': 0.047133667631655655}, {'NDCG': 0.05931482781766375}, {'MAE': 4.862781954887218}, 0.5656381249427795], [25, {'F1-score': 0.04710875305171452}, {'NDCG': 0.059451100874265056}, {'MAE': 4.81015037593985}, 0.5615942478179932], [26, {'F1-score': 0.04778214627902538}, {'NDCG': 0.059946396443257596}, {'MAE': 4.7617481203007515}, 0.5449697971343994], [27, {'F1-score': 0.04779770785106043}, {'NDCG': 0.0601743669144081}, {'MAE': 4.6856203007518795}, 0.5362446904182434], [28, {'F1-score': 0.04754004876112913}, {'NDCG': 0.059691761411145274}, {'MAE': 4.819548872180451}, 0.5651489496231079], [29, {'F1-score': 0.048149432970287634}, {'NDCG': 0.060315691357867136}, {'MAE': 4.850093984962406}, 0.5803532004356384]]\n",
      "-----------------------------------------------------------------------------------------\n"
     ]
    },
    {
     "name": "stderr",
     "output_type": "stream",
     "text": [
      "  0%|          | 1/932 [00:00<06:09,  2.52it/s]"
     ]
    },
    {
     "name": "stdout",
     "output_type": "stream",
     "text": [
      "Epoch 30: 0% , Loss: 0.189615\n"
     ]
    },
    {
     "name": "stderr",
     "output_type": "stream",
     "text": [
      " 11%|█         | 101/932 [01:02<09:05,  1.52it/s]"
     ]
    },
    {
     "name": "stdout",
     "output_type": "stream",
     "text": [
      "Epoch 30: 11% , Loss: 0.165298\n"
     ]
    },
    {
     "name": "stderr",
     "output_type": "stream",
     "text": [
      " 22%|██▏       | 201/932 [02:03<07:23,  1.65it/s]"
     ]
    },
    {
     "name": "stdout",
     "output_type": "stream",
     "text": [
      "Epoch 30: 21% , Loss: 0.176007\n"
     ]
    },
    {
     "name": "stderr",
     "output_type": "stream",
     "text": [
      " 32%|███▏      | 301/932 [03:05<06:27,  1.63it/s]"
     ]
    },
    {
     "name": "stdout",
     "output_type": "stream",
     "text": [
      "Epoch 30: 32% , Loss: 0.377742\n"
     ]
    },
    {
     "name": "stderr",
     "output_type": "stream",
     "text": [
      " 43%|████▎     | 401/932 [04:09<05:23,  1.64it/s]"
     ]
    },
    {
     "name": "stdout",
     "output_type": "stream",
     "text": [
      "Epoch 30: 43% , Loss: 0.067107\n"
     ]
    },
    {
     "name": "stderr",
     "output_type": "stream",
     "text": [
      " 54%|█████▍    | 501/932 [05:13<04:39,  1.54it/s]"
     ]
    },
    {
     "name": "stdout",
     "output_type": "stream",
     "text": [
      "Epoch 30: 54% , Loss: 0.068273\n"
     ]
    },
    {
     "name": "stderr",
     "output_type": "stream",
     "text": [
      " 64%|██████▍   | 601/932 [06:17<04:06,  1.34it/s]"
     ]
    },
    {
     "name": "stdout",
     "output_type": "stream",
     "text": [
      "Epoch 30: 64% , Loss: 0.276018\n"
     ]
    },
    {
     "name": "stderr",
     "output_type": "stream",
     "text": [
      " 75%|███████▌  | 701/932 [07:23<02:45,  1.40it/s]"
     ]
    },
    {
     "name": "stdout",
     "output_type": "stream",
     "text": [
      "Epoch 30: 75% , Loss: 0.348546\n"
     ]
    },
    {
     "name": "stderr",
     "output_type": "stream",
     "text": [
      " 86%|████████▌ | 801/932 [08:18<01:03,  2.07it/s]"
     ]
    },
    {
     "name": "stdout",
     "output_type": "stream",
     "text": [
      "Epoch 30: 86% , Loss: 0.183587\n"
     ]
    },
    {
     "name": "stderr",
     "output_type": "stream",
     "text": [
      " 97%|█████████▋| 901/932 [09:09<00:16,  1.86it/s]"
     ]
    },
    {
     "name": "stdout",
     "output_type": "stream",
     "text": [
      "Epoch 30: 97% , Loss: 0.289505\n"
     ]
    },
    {
     "name": "stderr",
     "output_type": "stream",
     "text": [
      "100%|██████████| 932/932 [09:26<00:00,  1.65it/s]"
     ]
    },
    {
     "name": "stdout",
     "output_type": "stream",
     "text": [
      "Epoch 30: 100% , Loss: 0.267651\n"
     ]
    },
    {
     "name": "stderr",
     "output_type": "stream",
     "text": [
      "\n"
     ]
    },
    {
     "name": "stdout",
     "output_type": "stream",
     "text": [
      "                      (F1-score: 0.0486)\n",
      "\n",
      "                      (NDCG: 0.0624)\n",
      "\n",
      "                      (MAE: 3.9633)\n",
      "\n",
      "train_loss= tensor(0.3705)\n",
      "--------------------\n"
     ]
    },
    {
     "name": "stderr",
     "output_type": "stream",
     "text": [
      "100%|██████████| 133/133 [00:39<00:00,  3.33it/s]\n"
     ]
    },
    {
     "name": "stdout",
     "output_type": "stream",
     "text": [
      "                      (F1-score: 0.0453)\n",
      "\n",
      "                      (NDCG: 0.0562)\n",
      "\n",
      "                      (MAE: 4.9088)\n",
      "\n",
      "val_loss= tensor(0.5754)\n",
      "--------------------\n"
     ]
    },
    {
     "name": "stderr",
     "output_type": "stream",
     "text": [
      "100%|██████████| 266/266 [02:14<00:00,  1.98it/s]\n"
     ]
    },
    {
     "name": "stdout",
     "output_type": "stream",
     "text": [
      "                      (F1-score: 0.0468)\n",
      "\n",
      "                      (NDCG: 0.0592)\n",
      "\n",
      "                      (MAE: 4.9375)\n",
      "\n",
      "--------------------\n",
      "[[1, {'F1-score': 0.0001386660620683177}, {'NDCG': 0.00012056498448679546}, {'MAE': 6.0831766917293235}, 1.060592532157898], [2, {'F1-score': 0.00012541708094908745}, {'NDCG': 8.964268980841887e-05}, {'MAE': 4.385338345864661}, 0.5905851125717163], [3, {'F1-score': 7.868848916781247e-05}, {'NDCG': 5.510349887514249e-05}, {'MAE': 4.457236842105263}, 0.5367398858070374], [4, {'F1-score': 0.011910174467723229}, {'NDCG': 0.010843196795392026}, {'MAE': 4.351033834586466}, 0.5036801695823669], [5, {'F1-score': 0.019910581414398724}, {'NDCG': 0.03303729515799314}, {'MAE': 4.44172932330827}, 0.47101667523384094], [6, {'F1-score': 0.02644881298506572}, {'NDCG': 0.040844002404229196}, {'MAE': 4.37406015037594}, 0.46322402358055115], [7, {'F1-score': 0.0399246056772787}, {'NDCG': 0.053563095979336506}, {'MAE': 4.345394736842105}, 0.5044078826904297], [8, {'F1-score': 0.04667853859566283}, {'NDCG': 0.05927971679466966}, {'MAE': 4.319548872180451}, 0.5166702270507812], [9, {'F1-score': 0.047328316154603055}, {'NDCG': 0.05953080886694834}, {'MAE': 4.3181390977443606}, 0.47541239857673645], [10, {'F1-score': 0.04768266384925871}, {'NDCG': 0.059803499729036445}, {'MAE': 4.3218984962406015}, 0.48866674304008484], [11, {'F1-score': 0.04775618328847661}, {'NDCG': 0.05970366847704872}, {'MAE': 4.443609022556391}, 0.46042194962501526], [12, {'F1-score': 0.047794537877801795}, {'NDCG': 0.0598465548622548}, {'MAE': 4.421992481203008}, 0.4470631182193756], [13, {'F1-score': 0.04711230526206985}, {'NDCG': 0.05966901007595059}, {'MAE': 4.581766917293233}, 0.4756716787815094], [14, {'F1-score': 0.04723161077816466}, {'NDCG': 0.05945372615356166}, {'MAE': 4.342105263157895}, 0.4816666841506958], [15, {'F1-score': 0.04722102659180576}, {'NDCG': 0.059696484710741085}, {'MAE': 4.632988721804511}, 0.48104894161224365], [16, {'F1-score': 0.04657582839157669}, {'NDCG': 0.05938343664401918}, {'MAE': 4.44172932330827}, 0.4729230999946594], [17, {'F1-score': 0.047340324876413306}, {'NDCG': 0.059578644226417225}, {'MAE': 4.523966165413534}, 0.4981396198272705], [18, {'F1-score': 0.04872001572519089}, {'NDCG': 0.0606838924520565}, {'MAE': 4.5643796992481205}, 0.4892524778842926], [19, {'F1-score': 0.04804556414740486}, {'NDCG': 0.06017220375579747}, {'MAE': 4.5930451127819545}, 0.4964289963245392], [20, {'F1-score': 0.04821741613942181}, {'NDCG': 0.06030960270217655}, {'MAE': 4.6480263157894735}, 0.5075433850288391], [21, {'F1-score': 0.04846154267367264}, {'NDCG': 0.06040076995522302}, {'MAE': 4.859022556390977}, 0.5221740007400513], [22, {'F1-score': 0.04762248883752847}, {'NDCG': 0.059829848275793004}, {'MAE': 4.55968045112782}, 0.4897764325141907], [23, {'F1-score': 0.04725769619312713}, {'NDCG': 0.05953896566008785}, {'MAE': 4.75093984962406}, 0.5202903151512146], [24, {'F1-score': 0.047133667631655655}, {'NDCG': 0.05931482781766375}, {'MAE': 4.862781954887218}, 0.5656381249427795], [25, {'F1-score': 0.04710875305171452}, {'NDCG': 0.059451100874265056}, {'MAE': 4.81015037593985}, 0.5615942478179932], [26, {'F1-score': 0.04778214627902538}, {'NDCG': 0.059946396443257596}, {'MAE': 4.7617481203007515}, 0.5449697971343994], [27, {'F1-score': 0.04779770785106043}, {'NDCG': 0.0601743669144081}, {'MAE': 4.6856203007518795}, 0.5362446904182434], [28, {'F1-score': 0.04754004876112913}, {'NDCG': 0.059691761411145274}, {'MAE': 4.819548872180451}, 0.5651489496231079], [29, {'F1-score': 0.048149432970287634}, {'NDCG': 0.060315691357867136}, {'MAE': 4.850093984962406}, 0.5803532004356384], [30, {'F1-score': 0.046833552123951766}, {'NDCG': 0.05922476386413314}, {'MAE': 4.9375}, 0.5753560662269592]]\n",
      "-----------------------------------------------------------------------------------------\n"
     ]
    },
    {
     "name": "stderr",
     "output_type": "stream",
     "text": [
      "  0%|          | 1/932 [00:00<11:00,  1.41it/s]"
     ]
    },
    {
     "name": "stdout",
     "output_type": "stream",
     "text": [
      "Epoch 31: 0% , Loss: 0.362958\n"
     ]
    },
    {
     "name": "stderr",
     "output_type": "stream",
     "text": [
      " 11%|█         | 101/932 [01:02<08:59,  1.54it/s]"
     ]
    },
    {
     "name": "stdout",
     "output_type": "stream",
     "text": [
      "Epoch 31: 11% , Loss: 0.190588\n"
     ]
    },
    {
     "name": "stderr",
     "output_type": "stream",
     "text": [
      " 22%|██▏       | 201/932 [02:02<07:01,  1.74it/s]"
     ]
    },
    {
     "name": "stdout",
     "output_type": "stream",
     "text": [
      "Epoch 31: 21% , Loss: 0.132228\n"
     ]
    },
    {
     "name": "stderr",
     "output_type": "stream",
     "text": [
      " 32%|███▏      | 301/932 [03:03<06:00,  1.75it/s]"
     ]
    },
    {
     "name": "stdout",
     "output_type": "stream",
     "text": [
      "Epoch 31: 32% , Loss: 0.187068\n"
     ]
    },
    {
     "name": "stderr",
     "output_type": "stream",
     "text": [
      " 43%|████▎     | 401/932 [04:05<05:00,  1.77it/s]"
     ]
    },
    {
     "name": "stdout",
     "output_type": "stream",
     "text": [
      "Epoch 31: 43% , Loss: 0.154037\n"
     ]
    },
    {
     "name": "stderr",
     "output_type": "stream",
     "text": [
      " 54%|█████▍    | 501/932 [05:07<04:45,  1.51it/s]"
     ]
    },
    {
     "name": "stdout",
     "output_type": "stream",
     "text": [
      "Epoch 31: 54% , Loss: 1.039545\n"
     ]
    },
    {
     "name": "stderr",
     "output_type": "stream",
     "text": [
      " 64%|██████▍   | 601/932 [06:13<03:41,  1.49it/s]"
     ]
    },
    {
     "name": "stdout",
     "output_type": "stream",
     "text": [
      "Epoch 31: 64% , Loss: 0.127770\n"
     ]
    },
    {
     "name": "stderr",
     "output_type": "stream",
     "text": [
      " 75%|███████▌  | 701/932 [07:21<02:28,  1.55it/s]"
     ]
    },
    {
     "name": "stdout",
     "output_type": "stream",
     "text": [
      "Epoch 31: 75% , Loss: 0.356046\n"
     ]
    },
    {
     "name": "stderr",
     "output_type": "stream",
     "text": [
      " 86%|████████▌ | 801/932 [08:19<01:11,  1.83it/s]"
     ]
    },
    {
     "name": "stdout",
     "output_type": "stream",
     "text": [
      "Epoch 31: 86% , Loss: 0.445532\n"
     ]
    },
    {
     "name": "stderr",
     "output_type": "stream",
     "text": [
      " 97%|█████████▋| 901/932 [09:11<00:14,  2.07it/s]"
     ]
    },
    {
     "name": "stdout",
     "output_type": "stream",
     "text": [
      "Epoch 31: 97% , Loss: 0.652765\n"
     ]
    },
    {
     "name": "stderr",
     "output_type": "stream",
     "text": [
      "100%|██████████| 932/932 [09:27<00:00,  1.64it/s]"
     ]
    },
    {
     "name": "stdout",
     "output_type": "stream",
     "text": [
      "Epoch 31: 100% , Loss: 0.156043\n"
     ]
    },
    {
     "name": "stderr",
     "output_type": "stream",
     "text": [
      "\n"
     ]
    },
    {
     "name": "stdout",
     "output_type": "stream",
     "text": [
      "                      (F1-score: 0.0489)\n",
      "\n",
      "                      (NDCG: 0.0625)\n",
      "\n",
      "                      (MAE: 3.9725)\n",
      "\n",
      "train_loss= tensor(0.3686)\n",
      "--------------------\n"
     ]
    },
    {
     "name": "stderr",
     "output_type": "stream",
     "text": [
      "100%|██████████| 133/133 [00:42<00:00,  3.13it/s]\n"
     ]
    },
    {
     "name": "stdout",
     "output_type": "stream",
     "text": [
      "                      (F1-score: 0.0451)\n",
      "\n",
      "                      (NDCG: 0.0561)\n",
      "\n",
      "                      (MAE: 4.8073)\n",
      "\n",
      "val_loss= tensor(0.5720)\n",
      "--------------------\n"
     ]
    },
    {
     "name": "stderr",
     "output_type": "stream",
     "text": [
      "100%|██████████| 266/266 [02:11<00:00,  2.02it/s]\n"
     ]
    },
    {
     "name": "stdout",
     "output_type": "stream",
     "text": [
      "                      (F1-score: 0.0474)\n",
      "\n",
      "                      (NDCG: 0.0597)\n",
      "\n",
      "                      (MAE: 4.8759)\n",
      "\n",
      "--------------------\n",
      "[[1, {'F1-score': 0.0001386660620683177}, {'NDCG': 0.00012056498448679546}, {'MAE': 6.0831766917293235}, 1.060592532157898], [2, {'F1-score': 0.00012541708094908745}, {'NDCG': 8.964268980841887e-05}, {'MAE': 4.385338345864661}, 0.5905851125717163], [3, {'F1-score': 7.868848916781247e-05}, {'NDCG': 5.510349887514249e-05}, {'MAE': 4.457236842105263}, 0.5367398858070374], [4, {'F1-score': 0.011910174467723229}, {'NDCG': 0.010843196795392026}, {'MAE': 4.351033834586466}, 0.5036801695823669], [5, {'F1-score': 0.019910581414398724}, {'NDCG': 0.03303729515799314}, {'MAE': 4.44172932330827}, 0.47101667523384094], [6, {'F1-score': 0.02644881298506572}, {'NDCG': 0.040844002404229196}, {'MAE': 4.37406015037594}, 0.46322402358055115], [7, {'F1-score': 0.0399246056772787}, {'NDCG': 0.053563095979336506}, {'MAE': 4.345394736842105}, 0.5044078826904297], [8, {'F1-score': 0.04667853859566283}, {'NDCG': 0.05927971679466966}, {'MAE': 4.319548872180451}, 0.5166702270507812], [9, {'F1-score': 0.047328316154603055}, {'NDCG': 0.05953080886694834}, {'MAE': 4.3181390977443606}, 0.47541239857673645], [10, {'F1-score': 0.04768266384925871}, {'NDCG': 0.059803499729036445}, {'MAE': 4.3218984962406015}, 0.48866674304008484], [11, {'F1-score': 0.04775618328847661}, {'NDCG': 0.05970366847704872}, {'MAE': 4.443609022556391}, 0.46042194962501526], [12, {'F1-score': 0.047794537877801795}, {'NDCG': 0.0598465548622548}, {'MAE': 4.421992481203008}, 0.4470631182193756], [13, {'F1-score': 0.04711230526206985}, {'NDCG': 0.05966901007595059}, {'MAE': 4.581766917293233}, 0.4756716787815094], [14, {'F1-score': 0.04723161077816466}, {'NDCG': 0.05945372615356166}, {'MAE': 4.342105263157895}, 0.4816666841506958], [15, {'F1-score': 0.04722102659180576}, {'NDCG': 0.059696484710741085}, {'MAE': 4.632988721804511}, 0.48104894161224365], [16, {'F1-score': 0.04657582839157669}, {'NDCG': 0.05938343664401918}, {'MAE': 4.44172932330827}, 0.4729230999946594], [17, {'F1-score': 0.047340324876413306}, {'NDCG': 0.059578644226417225}, {'MAE': 4.523966165413534}, 0.4981396198272705], [18, {'F1-score': 0.04872001572519089}, {'NDCG': 0.0606838924520565}, {'MAE': 4.5643796992481205}, 0.4892524778842926], [19, {'F1-score': 0.04804556414740486}, {'NDCG': 0.06017220375579747}, {'MAE': 4.5930451127819545}, 0.4964289963245392], [20, {'F1-score': 0.04821741613942181}, {'NDCG': 0.06030960270217655}, {'MAE': 4.6480263157894735}, 0.5075433850288391], [21, {'F1-score': 0.04846154267367264}, {'NDCG': 0.06040076995522302}, {'MAE': 4.859022556390977}, 0.5221740007400513], [22, {'F1-score': 0.04762248883752847}, {'NDCG': 0.059829848275793004}, {'MAE': 4.55968045112782}, 0.4897764325141907], [23, {'F1-score': 0.04725769619312713}, {'NDCG': 0.05953896566008785}, {'MAE': 4.75093984962406}, 0.5202903151512146], [24, {'F1-score': 0.047133667631655655}, {'NDCG': 0.05931482781766375}, {'MAE': 4.862781954887218}, 0.5656381249427795], [25, {'F1-score': 0.04710875305171452}, {'NDCG': 0.059451100874265056}, {'MAE': 4.81015037593985}, 0.5615942478179932], [26, {'F1-score': 0.04778214627902538}, {'NDCG': 0.059946396443257596}, {'MAE': 4.7617481203007515}, 0.5449697971343994], [27, {'F1-score': 0.04779770785106043}, {'NDCG': 0.0601743669144081}, {'MAE': 4.6856203007518795}, 0.5362446904182434], [28, {'F1-score': 0.04754004876112913}, {'NDCG': 0.059691761411145274}, {'MAE': 4.819548872180451}, 0.5651489496231079], [29, {'F1-score': 0.048149432970287634}, {'NDCG': 0.060315691357867136}, {'MAE': 4.850093984962406}, 0.5803532004356384], [30, {'F1-score': 0.046833552123951766}, {'NDCG': 0.05922476386413314}, {'MAE': 4.9375}, 0.5753560662269592], [31, {'F1-score': 0.04739639420935427}, {'NDCG': 0.059734821843011376}, {'MAE': 4.87593984962406}, 0.5719810724258423]]\n",
      "-----------------------------------------------------------------------------------------\n"
     ]
    },
    {
     "name": "stderr",
     "output_type": "stream",
     "text": [
      "  0%|          | 1/932 [00:00<05:49,  2.67it/s]"
     ]
    },
    {
     "name": "stdout",
     "output_type": "stream",
     "text": [
      "Epoch 32: 0% , Loss: 0.237900\n"
     ]
    },
    {
     "name": "stderr",
     "output_type": "stream",
     "text": [
      " 11%|█         | 101/932 [01:02<08:49,  1.57it/s]"
     ]
    },
    {
     "name": "stdout",
     "output_type": "stream",
     "text": [
      "Epoch 32: 11% , Loss: 0.349727\n"
     ]
    },
    {
     "name": "stderr",
     "output_type": "stream",
     "text": [
      " 22%|██▏       | 201/932 [02:03<07:52,  1.55it/s]"
     ]
    },
    {
     "name": "stdout",
     "output_type": "stream",
     "text": [
      "Epoch 32: 21% , Loss: 0.101233\n"
     ]
    },
    {
     "name": "stderr",
     "output_type": "stream",
     "text": [
      " 32%|███▏      | 301/932 [02:59<05:53,  1.78it/s]"
     ]
    },
    {
     "name": "stdout",
     "output_type": "stream",
     "text": [
      "Epoch 32: 32% , Loss: 1.105898\n"
     ]
    },
    {
     "name": "stderr",
     "output_type": "stream",
     "text": [
      " 43%|████▎     | 401/932 [04:02<05:47,  1.53it/s]"
     ]
    },
    {
     "name": "stdout",
     "output_type": "stream",
     "text": [
      "Epoch 32: 43% , Loss: 0.070780\n"
     ]
    },
    {
     "name": "stderr",
     "output_type": "stream",
     "text": [
      " 54%|█████▍    | 501/932 [05:07<04:40,  1.53it/s]"
     ]
    },
    {
     "name": "stdout",
     "output_type": "stream",
     "text": [
      "Epoch 32: 54% , Loss: 0.145153\n"
     ]
    },
    {
     "name": "stderr",
     "output_type": "stream",
     "text": [
      " 64%|██████▍   | 601/932 [06:14<03:40,  1.50it/s]"
     ]
    },
    {
     "name": "stdout",
     "output_type": "stream",
     "text": [
      "Epoch 32: 64% , Loss: 0.333331\n"
     ]
    },
    {
     "name": "stderr",
     "output_type": "stream",
     "text": [
      " 75%|███████▌  | 701/932 [07:23<02:35,  1.48it/s]"
     ]
    },
    {
     "name": "stdout",
     "output_type": "stream",
     "text": [
      "Epoch 32: 75% , Loss: 0.259446\n"
     ]
    },
    {
     "name": "stderr",
     "output_type": "stream",
     "text": [
      " 86%|████████▌ | 801/932 [08:19<00:59,  2.21it/s]"
     ]
    },
    {
     "name": "stdout",
     "output_type": "stream",
     "text": [
      "Epoch 32: 86% , Loss: 0.196216\n"
     ]
    },
    {
     "name": "stderr",
     "output_type": "stream",
     "text": [
      " 97%|█████████▋| 901/932 [09:09<00:13,  2.28it/s]"
     ]
    },
    {
     "name": "stdout",
     "output_type": "stream",
     "text": [
      "Epoch 32: 97% , Loss: 0.184373\n"
     ]
    },
    {
     "name": "stderr",
     "output_type": "stream",
     "text": [
      "100%|██████████| 932/932 [09:25<00:00,  1.65it/s]"
     ]
    },
    {
     "name": "stdout",
     "output_type": "stream",
     "text": [
      "Epoch 32: 100% , Loss: 0.701972\n"
     ]
    },
    {
     "name": "stderr",
     "output_type": "stream",
     "text": [
      "\n"
     ]
    },
    {
     "name": "stdout",
     "output_type": "stream",
     "text": [
      "                      (F1-score: 0.0488)\n",
      "\n",
      "                      (NDCG: 0.0626)\n",
      "\n",
      "                      (MAE: 3.9952)\n",
      "\n",
      "train_loss= tensor(0.3649)\n",
      "--------------------\n"
     ]
    },
    {
     "name": "stderr",
     "output_type": "stream",
     "text": [
      "100%|██████████| 133/133 [00:45<00:00,  2.91it/s]\n"
     ]
    },
    {
     "name": "stdout",
     "output_type": "stream",
     "text": [
      "                      (F1-score: 0.0453)\n",
      "\n",
      "                      (NDCG: 0.0558)\n",
      "\n",
      "                      (MAE: 4.8289)\n",
      "\n",
      "val_loss= tensor(0.5621)\n",
      "--------------------\n"
     ]
    },
    {
     "name": "stderr",
     "output_type": "stream",
     "text": [
      "100%|██████████| 266/266 [02:11<00:00,  2.02it/s]\n"
     ]
    },
    {
     "name": "stdout",
     "output_type": "stream",
     "text": [
      "                      (F1-score: 0.0471)\n",
      "\n",
      "                      (NDCG: 0.0593)\n",
      "\n",
      "                      (MAE: 4.8421)\n",
      "\n",
      "--------------------\n",
      "[[1, {'F1-score': 0.0001386660620683177}, {'NDCG': 0.00012056498448679546}, {'MAE': 6.0831766917293235}, 1.060592532157898], [2, {'F1-score': 0.00012541708094908745}, {'NDCG': 8.964268980841887e-05}, {'MAE': 4.385338345864661}, 0.5905851125717163], [3, {'F1-score': 7.868848916781247e-05}, {'NDCG': 5.510349887514249e-05}, {'MAE': 4.457236842105263}, 0.5367398858070374], [4, {'F1-score': 0.011910174467723229}, {'NDCG': 0.010843196795392026}, {'MAE': 4.351033834586466}, 0.5036801695823669], [5, {'F1-score': 0.019910581414398724}, {'NDCG': 0.03303729515799314}, {'MAE': 4.44172932330827}, 0.47101667523384094], [6, {'F1-score': 0.02644881298506572}, {'NDCG': 0.040844002404229196}, {'MAE': 4.37406015037594}, 0.46322402358055115], [7, {'F1-score': 0.0399246056772787}, {'NDCG': 0.053563095979336506}, {'MAE': 4.345394736842105}, 0.5044078826904297], [8, {'F1-score': 0.04667853859566283}, {'NDCG': 0.05927971679466966}, {'MAE': 4.319548872180451}, 0.5166702270507812], [9, {'F1-score': 0.047328316154603055}, {'NDCG': 0.05953080886694834}, {'MAE': 4.3181390977443606}, 0.47541239857673645], [10, {'F1-score': 0.04768266384925871}, {'NDCG': 0.059803499729036445}, {'MAE': 4.3218984962406015}, 0.48866674304008484], [11, {'F1-score': 0.04775618328847661}, {'NDCG': 0.05970366847704872}, {'MAE': 4.443609022556391}, 0.46042194962501526], [12, {'F1-score': 0.047794537877801795}, {'NDCG': 0.0598465548622548}, {'MAE': 4.421992481203008}, 0.4470631182193756], [13, {'F1-score': 0.04711230526206985}, {'NDCG': 0.05966901007595059}, {'MAE': 4.581766917293233}, 0.4756716787815094], [14, {'F1-score': 0.04723161077816466}, {'NDCG': 0.05945372615356166}, {'MAE': 4.342105263157895}, 0.4816666841506958], [15, {'F1-score': 0.04722102659180576}, {'NDCG': 0.059696484710741085}, {'MAE': 4.632988721804511}, 0.48104894161224365], [16, {'F1-score': 0.04657582839157669}, {'NDCG': 0.05938343664401918}, {'MAE': 4.44172932330827}, 0.4729230999946594], [17, {'F1-score': 0.047340324876413306}, {'NDCG': 0.059578644226417225}, {'MAE': 4.523966165413534}, 0.4981396198272705], [18, {'F1-score': 0.04872001572519089}, {'NDCG': 0.0606838924520565}, {'MAE': 4.5643796992481205}, 0.4892524778842926], [19, {'F1-score': 0.04804556414740486}, {'NDCG': 0.06017220375579747}, {'MAE': 4.5930451127819545}, 0.4964289963245392], [20, {'F1-score': 0.04821741613942181}, {'NDCG': 0.06030960270217655}, {'MAE': 4.6480263157894735}, 0.5075433850288391], [21, {'F1-score': 0.04846154267367264}, {'NDCG': 0.06040076995522302}, {'MAE': 4.859022556390977}, 0.5221740007400513], [22, {'F1-score': 0.04762248883752847}, {'NDCG': 0.059829848275793004}, {'MAE': 4.55968045112782}, 0.4897764325141907], [23, {'F1-score': 0.04725769619312713}, {'NDCG': 0.05953896566008785}, {'MAE': 4.75093984962406}, 0.5202903151512146], [24, {'F1-score': 0.047133667631655655}, {'NDCG': 0.05931482781766375}, {'MAE': 4.862781954887218}, 0.5656381249427795], [25, {'F1-score': 0.04710875305171452}, {'NDCG': 0.059451100874265056}, {'MAE': 4.81015037593985}, 0.5615942478179932], [26, {'F1-score': 0.04778214627902538}, {'NDCG': 0.059946396443257596}, {'MAE': 4.7617481203007515}, 0.5449697971343994], [27, {'F1-score': 0.04779770785106043}, {'NDCG': 0.0601743669144081}, {'MAE': 4.6856203007518795}, 0.5362446904182434], [28, {'F1-score': 0.04754004876112913}, {'NDCG': 0.059691761411145274}, {'MAE': 4.819548872180451}, 0.5651489496231079], [29, {'F1-score': 0.048149432970287634}, {'NDCG': 0.060315691357867136}, {'MAE': 4.850093984962406}, 0.5803532004356384], [30, {'F1-score': 0.046833552123951766}, {'NDCG': 0.05922476386413314}, {'MAE': 4.9375}, 0.5753560662269592], [31, {'F1-score': 0.04739639420935427}, {'NDCG': 0.059734821843011376}, {'MAE': 4.87593984962406}, 0.5719810724258423], [32, {'F1-score': 0.047061845060426766}, {'NDCG': 0.05932194735466229}, {'MAE': 4.842105263157895}, 0.5620595812797546]]\n",
      "-----------------------------------------------------------------------------------------\n"
     ]
    },
    {
     "name": "stderr",
     "output_type": "stream",
     "text": [
      "  0%|          | 1/932 [00:00<07:06,  2.18it/s]"
     ]
    },
    {
     "name": "stdout",
     "output_type": "stream",
     "text": [
      "Epoch 33: 0% , Loss: 2.022739\n"
     ]
    },
    {
     "name": "stderr",
     "output_type": "stream",
     "text": [
      " 11%|█         | 101/932 [01:00<07:53,  1.76it/s]"
     ]
    },
    {
     "name": "stdout",
     "output_type": "stream",
     "text": [
      "Epoch 33: 11% , Loss: 0.221706\n"
     ]
    },
    {
     "name": "stderr",
     "output_type": "stream",
     "text": [
      " 22%|██▏       | 201/932 [02:04<07:55,  1.54it/s]"
     ]
    },
    {
     "name": "stdout",
     "output_type": "stream",
     "text": [
      "Epoch 33: 21% , Loss: 0.117577\n"
     ]
    },
    {
     "name": "stderr",
     "output_type": "stream",
     "text": [
      " 32%|███▏      | 301/932 [03:08<06:04,  1.73it/s]"
     ]
    },
    {
     "name": "stdout",
     "output_type": "stream",
     "text": [
      "Epoch 33: 32% , Loss: 0.164277\n"
     ]
    },
    {
     "name": "stderr",
     "output_type": "stream",
     "text": [
      " 43%|████▎     | 401/932 [04:10<04:55,  1.80it/s]"
     ]
    },
    {
     "name": "stdout",
     "output_type": "stream",
     "text": [
      "Epoch 33: 43% , Loss: 0.300755\n"
     ]
    },
    {
     "name": "stderr",
     "output_type": "stream",
     "text": [
      " 54%|█████▍    | 501/932 [05:12<04:45,  1.51it/s]"
     ]
    },
    {
     "name": "stdout",
     "output_type": "stream",
     "text": [
      "Epoch 33: 54% , Loss: 0.120129\n"
     ]
    },
    {
     "name": "stderr",
     "output_type": "stream",
     "text": [
      " 64%|██████▍   | 601/932 [06:18<03:41,  1.50it/s]"
     ]
    },
    {
     "name": "stdout",
     "output_type": "stream",
     "text": [
      "Epoch 33: 64% , Loss: 0.035536\n"
     ]
    },
    {
     "name": "stderr",
     "output_type": "stream",
     "text": [
      " 75%|███████▌  | 701/932 [07:24<02:38,  1.46it/s]"
     ]
    },
    {
     "name": "stdout",
     "output_type": "stream",
     "text": [
      "Epoch 33: 75% , Loss: 0.296022\n"
     ]
    },
    {
     "name": "stderr",
     "output_type": "stream",
     "text": [
      " 86%|████████▌ | 801/932 [08:17<01:09,  1.87it/s]"
     ]
    },
    {
     "name": "stdout",
     "output_type": "stream",
     "text": [
      "Epoch 33: 86% , Loss: 0.230144\n"
     ]
    },
    {
     "name": "stderr",
     "output_type": "stream",
     "text": [
      " 97%|█████████▋| 901/932 [09:09<00:15,  2.00it/s]"
     ]
    },
    {
     "name": "stdout",
     "output_type": "stream",
     "text": [
      "Epoch 33: 97% , Loss: 0.258106\n"
     ]
    },
    {
     "name": "stderr",
     "output_type": "stream",
     "text": [
      "100%|██████████| 932/932 [09:26<00:00,  1.65it/s]"
     ]
    },
    {
     "name": "stdout",
     "output_type": "stream",
     "text": [
      "Epoch 33: 100% , Loss: 0.183456\n"
     ]
    },
    {
     "name": "stderr",
     "output_type": "stream",
     "text": [
      "\n"
     ]
    },
    {
     "name": "stdout",
     "output_type": "stream",
     "text": [
      "                      (F1-score: 0.0503)\n",
      "\n",
      "                      (NDCG: 0.0637)\n",
      "\n",
      "                      (MAE: 3.9343)\n",
      "\n",
      "train_loss= tensor(0.3612)\n",
      "--------------------\n"
     ]
    },
    {
     "name": "stderr",
     "output_type": "stream",
     "text": [
      "100%|██████████| 133/133 [00:50<00:00,  2.65it/s]\n"
     ]
    },
    {
     "name": "stdout",
     "output_type": "stream",
     "text": [
      "                      (F1-score: 0.0452)\n",
      "\n",
      "                      (NDCG: 0.0559)\n",
      "\n",
      "                      (MAE: 4.8336)\n",
      "\n",
      "val_loss= tensor(0.5975)\n",
      "--------------------\n"
     ]
    },
    {
     "name": "stderr",
     "output_type": "stream",
     "text": [
      "100%|██████████| 266/266 [02:13<00:00,  1.99it/s]\n"
     ]
    },
    {
     "name": "stdout",
     "output_type": "stream",
     "text": [
      "                      (F1-score: 0.0476)\n",
      "\n",
      "                      (NDCG: 0.0598)\n",
      "\n",
      "                      (MAE: 4.9229)\n",
      "\n",
      "--------------------\n",
      "[[1, {'F1-score': 0.0001386660620683177}, {'NDCG': 0.00012056498448679546}, {'MAE': 6.0831766917293235}, 1.060592532157898], [2, {'F1-score': 0.00012541708094908745}, {'NDCG': 8.964268980841887e-05}, {'MAE': 4.385338345864661}, 0.5905851125717163], [3, {'F1-score': 7.868848916781247e-05}, {'NDCG': 5.510349887514249e-05}, {'MAE': 4.457236842105263}, 0.5367398858070374], [4, {'F1-score': 0.011910174467723229}, {'NDCG': 0.010843196795392026}, {'MAE': 4.351033834586466}, 0.5036801695823669], [5, {'F1-score': 0.019910581414398724}, {'NDCG': 0.03303729515799314}, {'MAE': 4.44172932330827}, 0.47101667523384094], [6, {'F1-score': 0.02644881298506572}, {'NDCG': 0.040844002404229196}, {'MAE': 4.37406015037594}, 0.46322402358055115], [7, {'F1-score': 0.0399246056772787}, {'NDCG': 0.053563095979336506}, {'MAE': 4.345394736842105}, 0.5044078826904297], [8, {'F1-score': 0.04667853859566283}, {'NDCG': 0.05927971679466966}, {'MAE': 4.319548872180451}, 0.5166702270507812], [9, {'F1-score': 0.047328316154603055}, {'NDCG': 0.05953080886694834}, {'MAE': 4.3181390977443606}, 0.47541239857673645], [10, {'F1-score': 0.04768266384925871}, {'NDCG': 0.059803499729036445}, {'MAE': 4.3218984962406015}, 0.48866674304008484], [11, {'F1-score': 0.04775618328847661}, {'NDCG': 0.05970366847704872}, {'MAE': 4.443609022556391}, 0.46042194962501526], [12, {'F1-score': 0.047794537877801795}, {'NDCG': 0.0598465548622548}, {'MAE': 4.421992481203008}, 0.4470631182193756], [13, {'F1-score': 0.04711230526206985}, {'NDCG': 0.05966901007595059}, {'MAE': 4.581766917293233}, 0.4756716787815094], [14, {'F1-score': 0.04723161077816466}, {'NDCG': 0.05945372615356166}, {'MAE': 4.342105263157895}, 0.4816666841506958], [15, {'F1-score': 0.04722102659180576}, {'NDCG': 0.059696484710741085}, {'MAE': 4.632988721804511}, 0.48104894161224365], [16, {'F1-score': 0.04657582839157669}, {'NDCG': 0.05938343664401918}, {'MAE': 4.44172932330827}, 0.4729230999946594], [17, {'F1-score': 0.047340324876413306}, {'NDCG': 0.059578644226417225}, {'MAE': 4.523966165413534}, 0.4981396198272705], [18, {'F1-score': 0.04872001572519089}, {'NDCG': 0.0606838924520565}, {'MAE': 4.5643796992481205}, 0.4892524778842926], [19, {'F1-score': 0.04804556414740486}, {'NDCG': 0.06017220375579747}, {'MAE': 4.5930451127819545}, 0.4964289963245392], [20, {'F1-score': 0.04821741613942181}, {'NDCG': 0.06030960270217655}, {'MAE': 4.6480263157894735}, 0.5075433850288391], [21, {'F1-score': 0.04846154267367264}, {'NDCG': 0.06040076995522302}, {'MAE': 4.859022556390977}, 0.5221740007400513], [22, {'F1-score': 0.04762248883752847}, {'NDCG': 0.059829848275793004}, {'MAE': 4.55968045112782}, 0.4897764325141907], [23, {'F1-score': 0.04725769619312713}, {'NDCG': 0.05953896566008785}, {'MAE': 4.75093984962406}, 0.5202903151512146], [24, {'F1-score': 0.047133667631655655}, {'NDCG': 0.05931482781766375}, {'MAE': 4.862781954887218}, 0.5656381249427795], [25, {'F1-score': 0.04710875305171452}, {'NDCG': 0.059451100874265056}, {'MAE': 4.81015037593985}, 0.5615942478179932], [26, {'F1-score': 0.04778214627902538}, {'NDCG': 0.059946396443257596}, {'MAE': 4.7617481203007515}, 0.5449697971343994], [27, {'F1-score': 0.04779770785106043}, {'NDCG': 0.0601743669144081}, {'MAE': 4.6856203007518795}, 0.5362446904182434], [28, {'F1-score': 0.04754004876112913}, {'NDCG': 0.059691761411145274}, {'MAE': 4.819548872180451}, 0.5651489496231079], [29, {'F1-score': 0.048149432970287634}, {'NDCG': 0.060315691357867136}, {'MAE': 4.850093984962406}, 0.5803532004356384], [30, {'F1-score': 0.046833552123951766}, {'NDCG': 0.05922476386413314}, {'MAE': 4.9375}, 0.5753560662269592], [31, {'F1-score': 0.04739639420935427}, {'NDCG': 0.059734821843011376}, {'MAE': 4.87593984962406}, 0.5719810724258423], [32, {'F1-score': 0.047061845060426766}, {'NDCG': 0.05932194735466229}, {'MAE': 4.842105263157895}, 0.5620595812797546], [33, {'F1-score': 0.04760282005871633}, {'NDCG': 0.059760372863410224}, {'MAE': 4.922932330827067}, 0.5975356101989746]]\n",
      "-----------------------------------------------------------------------------------------\n"
     ]
    },
    {
     "name": "stderr",
     "output_type": "stream",
     "text": [
      "  0%|          | 1/932 [00:00<09:13,  1.68it/s]"
     ]
    },
    {
     "name": "stdout",
     "output_type": "stream",
     "text": [
      "Epoch 34: 0% , Loss: 0.130606\n"
     ]
    },
    {
     "name": "stderr",
     "output_type": "stream",
     "text": [
      " 11%|█         | 101/932 [01:01<08:20,  1.66it/s]"
     ]
    },
    {
     "name": "stdout",
     "output_type": "stream",
     "text": [
      "Epoch 34: 11% , Loss: 0.271063\n"
     ]
    },
    {
     "name": "stderr",
     "output_type": "stream",
     "text": [
      " 22%|██▏       | 201/932 [01:59<06:24,  1.90it/s]"
     ]
    },
    {
     "name": "stdout",
     "output_type": "stream",
     "text": [
      "Epoch 34: 21% , Loss: 0.136867\n"
     ]
    },
    {
     "name": "stderr",
     "output_type": "stream",
     "text": [
      " 32%|███▏      | 301/932 [03:00<06:34,  1.60it/s]"
     ]
    },
    {
     "name": "stdout",
     "output_type": "stream",
     "text": [
      "Epoch 34: 32% , Loss: 0.372957\n"
     ]
    },
    {
     "name": "stderr",
     "output_type": "stream",
     "text": [
      " 42%|████▏     | 393/932 [04:01<05:30,  1.63it/s]\n"
     ]
    },
    {
     "ename": "KeyboardInterrupt",
     "evalue": "",
     "output_type": "error",
     "traceback": [
      "\u001b[1;31m---------------------------------------------------------------------------\u001b[0m",
      "\u001b[1;31mKeyboardInterrupt\u001b[0m                         Traceback (most recent call last)",
      "Cell \u001b[1;32mIn[82], line 8\u001b[0m\n\u001b[0;32m      5\u001b[0m results \u001b[38;5;241m=\u001b[39m []\n\u001b[0;32m      7\u001b[0m \u001b[38;5;28;01mfor\u001b[39;00m epoch \u001b[38;5;129;01min\u001b[39;00m \u001b[38;5;28mrange\u001b[39m( \u001b[38;5;241m1\u001b[39m  , EPOCHS \u001b[38;5;241m+\u001b[39m \u001b[38;5;241m1\u001b[39m ):\n\u001b[1;32m----> 8\u001b[0m     train_loss \u001b[38;5;241m=\u001b[39m train_model()\n\u001b[0;32m      9\u001b[0m     \u001b[38;5;28mprint\u001b[39m(\u001b[38;5;124m\"\u001b[39m\u001b[38;5;124mtrain_loss=\u001b[39m\u001b[38;5;124m\"\u001b[39m,train_loss)\n\u001b[0;32m     10\u001b[0m     \u001b[38;5;28mprint\u001b[39m(\u001b[38;5;124m'\u001b[39m\u001b[38;5;124m-\u001b[39m\u001b[38;5;124m'\u001b[39m\u001b[38;5;241m*\u001b[39m\u001b[38;5;241m20\u001b[39m)\n",
      "Cell \u001b[1;32mIn[74], line 8\u001b[0m, in \u001b[0;36mtrain_model\u001b[1;34m()\u001b[0m\n\u001b[0;32m      6\u001b[0m \u001b[38;5;28;01mfor\u001b[39;00m batch_idx, (userID, basket_input, basket_label, size_input, size_label, offsets) \u001b[38;5;129;01min\u001b[39;00m \u001b[38;5;28menumerate\u001b[39m(tqdm(train_dataloader)):\n\u001b[0;32m      7\u001b[0m     optimizer\u001b[38;5;241m.\u001b[39mzero_grad()\n\u001b[1;32m----> 8\u001b[0m     basket_output, size_output, indices \u001b[38;5;241m=\u001b[39m my_model(basket_input, size_input, offsets[\u001b[38;5;241m1\u001b[39m:])\n\u001b[0;32m      9\u001b[0m     \u001b[38;5;66;03m# 計算損失\u001b[39;00m\n\u001b[0;32m     10\u001b[0m     loss \u001b[38;5;241m=\u001b[39m ALPHA \u001b[38;5;241m*\u001b[39m mean_square_error(size_output, size_label) \u001b[38;5;241m+\u001b[39m (\u001b[38;5;241m1\u001b[39m\u001b[38;5;241m-\u001b[39mALPHA) \u001b[38;5;241m*\u001b[39m cross_entropy_loss(basket_output , basket_label)\n",
      "File \u001b[1;32m~\\AppData\\Local\\anaconda3\\envs\\NBR_WBS\\Lib\\site-packages\\torch\\nn\\modules\\module.py:1501\u001b[0m, in \u001b[0;36mModule._call_impl\u001b[1;34m(self, *args, **kwargs)\u001b[0m\n\u001b[0;32m   1496\u001b[0m \u001b[38;5;66;03m# If we don't have any hooks, we want to skip the rest of the logic in\u001b[39;00m\n\u001b[0;32m   1497\u001b[0m \u001b[38;5;66;03m# this function, and just call forward.\u001b[39;00m\n\u001b[0;32m   1498\u001b[0m \u001b[38;5;28;01mif\u001b[39;00m \u001b[38;5;129;01mnot\u001b[39;00m (\u001b[38;5;28mself\u001b[39m\u001b[38;5;241m.\u001b[39m_backward_hooks \u001b[38;5;129;01mor\u001b[39;00m \u001b[38;5;28mself\u001b[39m\u001b[38;5;241m.\u001b[39m_backward_pre_hooks \u001b[38;5;129;01mor\u001b[39;00m \u001b[38;5;28mself\u001b[39m\u001b[38;5;241m.\u001b[39m_forward_hooks \u001b[38;5;129;01mor\u001b[39;00m \u001b[38;5;28mself\u001b[39m\u001b[38;5;241m.\u001b[39m_forward_pre_hooks\n\u001b[0;32m   1499\u001b[0m         \u001b[38;5;129;01mor\u001b[39;00m _global_backward_pre_hooks \u001b[38;5;129;01mor\u001b[39;00m _global_backward_hooks\n\u001b[0;32m   1500\u001b[0m         \u001b[38;5;129;01mor\u001b[39;00m _global_forward_hooks \u001b[38;5;129;01mor\u001b[39;00m _global_forward_pre_hooks):\n\u001b[1;32m-> 1501\u001b[0m     \u001b[38;5;28;01mreturn\u001b[39;00m forward_call(\u001b[38;5;241m*\u001b[39margs, \u001b[38;5;241m*\u001b[39m\u001b[38;5;241m*\u001b[39mkwargs)\n\u001b[0;32m   1502\u001b[0m \u001b[38;5;66;03m# Do not call functions when jit is used\u001b[39;00m\n\u001b[0;32m   1503\u001b[0m full_backward_hooks, non_full_backward_hooks \u001b[38;5;241m=\u001b[39m [], []\n",
      "Cell \u001b[1;32mIn[80], line 36\u001b[0m, in \u001b[0;36mMyModel01.forward\u001b[1;34m(self, basket_input, size_input, lengths)\u001b[0m\n\u001b[0;32m     34\u001b[0m basket_embedding_list \u001b[38;5;241m=\u001b[39m []\n\u001b[0;32m     35\u001b[0m \u001b[38;5;28;01mfor\u001b[39;00m i,user_inputs \u001b[38;5;129;01min\u001b[39;00m \u001b[38;5;28menumerate\u001b[39m(inputs):\n\u001b[1;32m---> 36\u001b[0m     test \u001b[38;5;241m=\u001b[39m \u001b[38;5;28mself\u001b[39m\u001b[38;5;241m.\u001b[39mattn(user_inputs,attention_mask[i])\n\u001b[0;32m     37\u001b[0m     \u001b[38;5;66;03m#basket_embedding_list.append(test)\u001b[39;00m\n\u001b[0;32m     38\u001b[0m     \u001b[38;5;66;03m#print(\"test_size\", test.size())\u001b[39;00m\n\u001b[0;32m     39\u001b[0m     \u001b[38;5;66;03m#print(\"test\", test)\u001b[39;00m\n\u001b[0;32m     41\u001b[0m     test2 \u001b[38;5;241m=\u001b[39m \u001b[38;5;28mself\u001b[39m\u001b[38;5;241m.\u001b[39mlinear_transform(torch\u001b[38;5;241m.\u001b[39mtensor([[\u001b[38;5;28mfloat\u001b[39m(_)] \u001b[38;5;28;01mfor\u001b[39;00m _ \u001b[38;5;129;01min\u001b[39;00m size_input[i]])\u001b[38;5;241m.\u001b[39mto(device))\n",
      "File \u001b[1;32m~\\AppData\\Local\\anaconda3\\envs\\NBR_WBS\\Lib\\site-packages\\torch\\nn\\modules\\module.py:1501\u001b[0m, in \u001b[0;36mModule._call_impl\u001b[1;34m(self, *args, **kwargs)\u001b[0m\n\u001b[0;32m   1496\u001b[0m \u001b[38;5;66;03m# If we don't have any hooks, we want to skip the rest of the logic in\u001b[39;00m\n\u001b[0;32m   1497\u001b[0m \u001b[38;5;66;03m# this function, and just call forward.\u001b[39;00m\n\u001b[0;32m   1498\u001b[0m \u001b[38;5;28;01mif\u001b[39;00m \u001b[38;5;129;01mnot\u001b[39;00m (\u001b[38;5;28mself\u001b[39m\u001b[38;5;241m.\u001b[39m_backward_hooks \u001b[38;5;129;01mor\u001b[39;00m \u001b[38;5;28mself\u001b[39m\u001b[38;5;241m.\u001b[39m_backward_pre_hooks \u001b[38;5;129;01mor\u001b[39;00m \u001b[38;5;28mself\u001b[39m\u001b[38;5;241m.\u001b[39m_forward_hooks \u001b[38;5;129;01mor\u001b[39;00m \u001b[38;5;28mself\u001b[39m\u001b[38;5;241m.\u001b[39m_forward_pre_hooks\n\u001b[0;32m   1499\u001b[0m         \u001b[38;5;129;01mor\u001b[39;00m _global_backward_pre_hooks \u001b[38;5;129;01mor\u001b[39;00m _global_backward_hooks\n\u001b[0;32m   1500\u001b[0m         \u001b[38;5;129;01mor\u001b[39;00m _global_forward_hooks \u001b[38;5;129;01mor\u001b[39;00m _global_forward_pre_hooks):\n\u001b[1;32m-> 1501\u001b[0m     \u001b[38;5;28;01mreturn\u001b[39;00m forward_call(\u001b[38;5;241m*\u001b[39margs, \u001b[38;5;241m*\u001b[39m\u001b[38;5;241m*\u001b[39mkwargs)\n\u001b[0;32m   1502\u001b[0m \u001b[38;5;66;03m# Do not call functions when jit is used\u001b[39;00m\n\u001b[0;32m   1503\u001b[0m full_backward_hooks, non_full_backward_hooks \u001b[38;5;241m=\u001b[39m [], []\n",
      "Cell \u001b[1;32mIn[57], line 27\u001b[0m, in \u001b[0;36mSelfAttention.forward\u001b[1;34m(self, inputs, attention_mask)\u001b[0m\n\u001b[0;32m     23\u001b[0m v \u001b[38;5;241m=\u001b[39m \u001b[38;5;28mself\u001b[39m\u001b[38;5;241m.\u001b[39mvalue_matrix(inputs)\n\u001b[0;32m     25\u001b[0m attn_output, attn_output_weight \u001b[38;5;241m=\u001b[39m \u001b[38;5;28mself\u001b[39m\u001b[38;5;241m.\u001b[39mmultihead_attn(q, k, v, key_padding_mask\u001b[38;5;241m=\u001b[39mattention_mask\u001b[38;5;241m.\u001b[39mtranspose(\u001b[38;5;241m0\u001b[39m,\u001b[38;5;241m1\u001b[39m))\n\u001b[1;32m---> 27\u001b[0m output_mean \u001b[38;5;241m=\u001b[39m torch\u001b[38;5;241m.\u001b[39mtensor([[\u001b[38;5;241m0\u001b[39m \u001b[38;5;28;01mfor\u001b[39;00m _ \u001b[38;5;129;01min\u001b[39;00m \u001b[38;5;28mrange\u001b[39m(MODEL_DIMENSION)] \u001b[38;5;28;01mfor\u001b[39;00m _ \u001b[38;5;129;01min\u001b[39;00m \u001b[38;5;28mrange\u001b[39m(\u001b[38;5;28mlen\u001b[39m(attention_mask))], dtype\u001b[38;5;241m=\u001b[39mtorch\u001b[38;5;241m.\u001b[39mfloat)\u001b[38;5;241m.\u001b[39mto(device)\n\u001b[0;32m     28\u001b[0m \u001b[38;5;28;01mfor\u001b[39;00m i, cart \u001b[38;5;129;01min\u001b[39;00m \u001b[38;5;28menumerate\u001b[39m(attention_mask):\n\u001b[0;32m     29\u001b[0m     \u001b[38;5;28;01mfor\u001b[39;00m j, mask \u001b[38;5;129;01min\u001b[39;00m \u001b[38;5;28menumerate\u001b[39m(cart):\n",
      "\u001b[1;31mKeyboardInterrupt\u001b[0m: "
     ]
    }
   ],
   "source": [
    "# 消融實驗 w/o Item2vec and Confidence\n",
    "# MyModel02\n",
    "# 固定參數: epochs35 Transformer_layer=4 batch_size=8 embedding_size=32 hidden_size=128 lr=0.0001 num_layer=4 num_head=4\n",
    "\n",
    "results = []\n",
    "\n",
    "for epoch in range( 1  , EPOCHS + 1 ):\n",
    "    train_loss = train_model()\n",
    "    print(\"train_loss=\",train_loss)\n",
    "    print('-'*20)\n",
    "    val_loss = evaluate_model()\n",
    "    print(\"val_loss=\",val_loss)\n",
    "    print('-' * 20)\n",
    "    test_loss,f1_list,ndcg_list, mae_list = test_model()\n",
    "    print('-' * 20)\n",
    "    result = [epoch] + f1_list + ndcg_list + mae_list + [val_loss.item()]\n",
    "#     result = [epoch] + hr_list + f1_list + ndcg_list + [mrr_score,map_score] + [val_loss.item()]\n",
    "    results.append(result)\n",
    "    print(results)\n",
    "    print('-' * 89)\n",
    "    \n",
    "    collected = gc.collect()\n",
    "    torch.cuda.empty_cache()\n",
    "\n",
    "record_df = pd.DataFrame(results,columns=['Epoch','F1-score','NDCG','val_loss'])\n",
    "# record_df = pd.DataFrame(results,columns=['Epoch','HR@5', 'HR@10', 'HR@20', 'HR@50', 'F1-score@5', 'F1-score@10', 'F1-score@20', 'F1-score@50',\n",
    "#                            'NDCG@5', 'NDCG@10', 'NDCG@20', 'NDCG@50','MRR','MAP','val_loss'])\n",
    "record_df"
   ]
  },
  {
   "cell_type": "code",
   "execution_count": null,
   "id": "4ff67314",
   "metadata": {},
   "outputs": [],
   "source": [
    "a = torch.tensor([[0,0,0],[4,5,0]])\n",
    "mask = a.sum(dim=-1)\n",
    "print(mask)\n",
    "print(mask.ne(0).transpose(0,1))\n",
    "# 目的:相讓用戶的某個購物籃大小相同，再用key padding mask去遮padding的部分\n",
    "# 某位user的shape - (batch_size, cart的數量, item的維度)\n",
    "# 因為你padding所以代表某位用戶的cart裡面的item數量都相同\n",
    "# 代表可能是\n",
    "# [[[0,1,...,30,31],  ->第一個購物籃\n",
    "#   [32,33...,62,63],\n",
    "#   [0,0,...,0,0],],\n",
    "#  [[0,1,...,30,31],  ->第二個購物籃\n",
    "#   [32,33...,62,63],\n",
    "#   [64,65,...,94,95]]]\n",
    "# 所以sum(dim=-1)代表[0,0,0,0]是padding的\n",
    "# .ne為not equal代表不等於0:  0:false  不是0:true\n",
    "# ~代表false->true, true->false"
   ]
  },
  {
   "cell_type": "code",
   "execution_count": null,
   "id": "0da1be2c",
   "metadata": {},
   "outputs": [],
   "source": [
    "test = torch.zeros((2, 4))\n",
    "test"
   ]
  },
  {
   "cell_type": "code",
   "execution_count": null,
   "id": "57304f57",
   "metadata": {},
   "outputs": [],
   "source": [
    "# 創建兩個矩陣\n",
    "tensor1 = torch.tensor([[1, 2, 3],\n",
    "                        [4, 5, 6]])\n",
    "\n",
    "tensor2 = torch.tensor([[7, 8, 9],\n",
    "                        [10, 11, 12]])\n",
    "print(tensor1.size())\n",
    "# 按照行進行交叉穿插\n",
    "\n",
    "# 按照行進行交叉穿插\n",
    "result_column = torch.stack([(tensor1[:, i].tolist(), tensor2[:, i].tolist()) for i in range(tensor1.size(1))]).t().reshape(-1)"
   ]
  },
  {
   "cell_type": "code",
   "execution_count": null,
   "id": "3eb4b116",
   "metadata": {},
   "outputs": [],
   "source": [
    "#a = torch.stack((tensor1, tensor2), dim=1).numpy()\n",
    "#tensor3 = torch.from_numpy(a.reshape(-1,3)) # 3是 EMBEDDING_DIMENSION\n",
    "a = torch.stack((tensor1, tensor2), dim=1)\n",
    "tensor3= torch.reshape(a, (-1, 3))\n",
    "\n",
    "print(tensor3)"
   ]
  },
  {
   "cell_type": "code",
   "execution_count": null,
   "id": "654e609f",
   "metadata": {},
   "outputs": [],
   "source": [
    "def multiply2(x):\n",
    "    print(x)\n",
    "    alist = []\n",
    "    alist.append(x)\n",
    "    #print(alist)\n",
    "    return alist"
   ]
  },
  {
   "cell_type": "code",
   "execution_count": null,
   "id": "a85d0442",
   "metadata": {},
   "outputs": [],
   "source": [
    "a = [1,2]\n",
    "a = torch.tensor([[_] for _ in a])\n",
    "c = multiply2(a)\n",
    "#c = torch.tensor([multiply2(x) for x in a])\n",
    "\n",
    "#a\n",
    "#c\n",
    "\n",
    "#print(np.array(a).shape)"
   ]
  },
  {
   "cell_type": "code",
   "execution_count": null,
   "id": "bbf27932",
   "metadata": {},
   "outputs": [],
   "source": [
    "for batch_idx, (userID, basket_input, basket_label, size_input, size_label, offsets) in enumerate(train_dataloader):\n",
    "    print(basket_input)\n",
    "    #for user in basket_input:\n",
    "        #print(user)"
   ]
  },
  {
   "cell_type": "code",
   "execution_count": null,
   "id": "d8274dd0",
   "metadata": {},
   "outputs": [],
   "source": [
    "a = [\"a\",\"b\",\"c\",\"d\"]\n",
    "a= \", \".join(a)\n",
    "print(a)"
   ]
  },
  {
   "cell_type": "code",
   "execution_count": null,
   "id": "48554d40",
   "metadata": {},
   "outputs": [],
   "source": [
    "x = torch.arange(1., 6.)\n",
    "torch.topk(x, 9)"
   ]
  },
  {
   "cell_type": "code",
   "execution_count": null,
   "id": "ad1adf32",
   "metadata": {},
   "outputs": [],
   "source": [
    "x = torch.arange(1)\n",
    "print(x)"
   ]
  },
  {
   "cell_type": "code",
   "execution_count": null,
   "id": "d5ea8102",
   "metadata": {},
   "outputs": [],
   "source": [
    "x = torch.tensor([2, 4, 5, 8])\n",
    "y = [1,10,3,9]\n",
    "a = calculate_mae(y, x)\n",
    "a"
   ]
  },
  {
   "cell_type": "code",
   "execution_count": null,
   "id": "bd58c986",
   "metadata": {},
   "outputs": [],
   "source": []
  }
 ],
 "metadata": {
  "kernelspec": {
   "display_name": "Python 3 (ipykernel)",
   "language": "python",
   "name": "python3"
  },
  "language_info": {
   "codemirror_mode": {
    "name": "ipython",
    "version": 3
   },
   "file_extension": ".py",
   "mimetype": "text/x-python",
   "name": "python",
   "nbconvert_exporter": "python",
   "pygments_lexer": "ipython3",
   "version": "3.11.5"
  }
 },
 "nbformat": 4,
 "nbformat_minor": 5
}
