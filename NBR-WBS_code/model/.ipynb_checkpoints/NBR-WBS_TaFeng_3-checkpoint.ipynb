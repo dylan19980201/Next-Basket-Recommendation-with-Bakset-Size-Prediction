{
 "cells": [
  {
   "cell_type": "markdown",
   "id": "a246ddd9",
   "metadata": {},
   "source": [
    "# 下載套件"
   ]
  },
  {
   "cell_type": "code",
   "execution_count": 1,
   "id": "72209793",
   "metadata": {},
   "outputs": [],
   "source": [
    "import torch\n",
    "import torch.nn as nn\n",
    "from torch import nn, matmul, softmax\n",
    "from torch.nn.init import xavier_uniform_\n",
    "import torch.nn.functional as F\n",
    "import torch.nn.utils.rnn as rnn_utils\n",
    "from torch.autograd import Variable\n",
    "\n",
    "import numpy as np\n",
    "import pandas as pd\n",
    "import gensim\n",
    "from gensim.models import KeyedVectors\n",
    "import pickle\n",
    "import gzip \n",
    "import gc\n",
    "import random"
   ]
  },
  {
   "cell_type": "code",
   "execution_count": 2,
   "id": "e3db86c1",
   "metadata": {},
   "outputs": [],
   "source": [
    "from torch.utils.data import DataLoader, Dataset\n",
    "from torch.utils.data.dataset import random_split\n",
    "\n",
    "from tqdm import tqdm\n",
    "from collections import Counter\n",
    "\n",
    "import math"
   ]
  },
  {
   "cell_type": "markdown",
   "id": "d32d7025",
   "metadata": {},
   "source": [
    "# 參數設置"
   ]
  },
  {
   "cell_type": "code",
   "execution_count": 3,
   "id": "6da217e0",
   "metadata": {},
   "outputs": [],
   "source": [
    "# 超參數\n",
    "EPOCHS = 50\n",
    "LEARNING_RATE = 0.00001 #\n",
    "BATCH_SIZE = 8\n",
    "BETA = 0.5\n",
    "ALPHA = 0.01\n",
    "EMBEDDING_DIMENSION = 32                      # 嵌入維度\n",
    "MODEL_DIMENSION = EMBEDDING_DIMENSION         # 模型維度\n",
    "HIDDEN_DIMENSION = 128                        # NLP 隱藏層維度\n",
    "NUM_HEAD = 4\n",
    "NUM_LAYER = 4\n",
    "\n",
    "isI2V = 1        #1:使用Item2Vec     #0:不使用Item2Vec"
   ]
  },
  {
   "cell_type": "markdown",
   "id": "4283cbc8",
   "metadata": {},
   "source": [
    "# 匯入檔案\n",
    "- item2Vec_TaFeng.32d.model\n",
    "- TaFeng_user_cart_itemid_list.gz\n",
    "- Ta_feng_clean.csv"
   ]
  },
  {
   "cell_type": "code",
   "execution_count": 4,
   "id": "32520298",
   "metadata": {},
   "outputs": [
    {
     "data": {
      "text/plain": [
       "torch.Size([15764, 32])"
      ]
     },
     "execution_count": 4,
     "metadata": {},
     "output_type": "execute_result"
    }
   ],
   "source": [
    "# Load word2Vec pre_train model\n",
    "model_filename = f\"../preprocessing-data/item2vec_models/item2vec_TaFeng.{EMBEDDING_DIMENSION}d.model\"\n",
    "## TaFeng\n",
    "with open(model_filename, \"rb\") as fp:\n",
    "    model = pickle.load(fp)\n",
    "weights = torch.FloatTensor(model.wv.vectors)\n",
    "weights.shape"
   ]
  },
  {
   "cell_type": "code",
   "execution_count": 5,
   "id": "bbe80d00",
   "metadata": {
    "scrolled": true
   },
   "outputs": [
    {
     "data": {
      "text/plain": [
       "[(1113,\n",
       "  array([0., 1.]),\n",
       "  [[0, 1, 2], [3, 4, 5, 6, 7, 8], [9, 10, 11, 12, 13, 14, 15]],\n",
       "  [3, 6, 7]),\n",
       " (5241,\n",
       "  array([0.        , 0.70967742, 1.        ]),\n",
       "  [[16, 17, 18, 19, 20, 21],\n",
       "   [22, 23, 24, 25, 26, 27, 28, 29, 30, 31],\n",
       "   [32, 33, 34, 35, 36, 37, 38, 39, 40, 41, 42, 43, 44, 45, 46, 47],\n",
       "   [48, 49, 50, 51, 52]],\n",
       "  [6, 10, 16, 5])]"
      ]
     },
     "execution_count": 5,
     "metadata": {},
     "output_type": "execute_result"
    }
   ],
   "source": [
    "## TaFeng # TaFeng_user_cart_itemid_list # 用戶id, 購物籃時間差(不會使用到), 此用戶的購物籃串列(每個串列包含多筆項目)。\n",
    "with gzip.open(\"../preprocessing-data/TaFeng_user_cart_Itemid_list.gz\", \"rb\") as fp:\n",
    "    user_cart_itemid_list = pickle.load(fp)\n",
    "user_cart_itemid_list[:2]"
   ]
  },
  {
   "cell_type": "code",
   "execution_count": 6,
   "id": "361c43d7",
   "metadata": {},
   "outputs": [],
   "source": [
    "# Load TaFeng confidences_Matrix\n",
    "with gzip.open(\"../preprocessing-data/confidences/TaFeng_confidences_array.gz\", \"rb\") as fp:\n",
    "    TaFeng_confidences_array = pickle.load(fp)"
   ]
  },
  {
   "cell_type": "code",
   "execution_count": 7,
   "id": "b83d2fe8",
   "metadata": {},
   "outputs": [
    {
     "name": "stdout",
     "output_type": "stream",
     "text": [
      "72\n"
     ]
    },
    {
     "data": {
      "text/html": [
       "<div>\n",
       "<style scoped>\n",
       "    .dataframe tbody tr th:only-of-type {\n",
       "        vertical-align: middle;\n",
       "    }\n",
       "\n",
       "    .dataframe tbody tr th {\n",
       "        vertical-align: top;\n",
       "    }\n",
       "\n",
       "    .dataframe thead th {\n",
       "        text-align: right;\n",
       "    }\n",
       "</style>\n",
       "<table border=\"1\" class=\"dataframe\">\n",
       "  <thead>\n",
       "    <tr style=\"text-align: right;\">\n",
       "      <th></th>\n",
       "      <th>CUSTOMER_ID</th>\n",
       "      <th>PRODUCT_ID</th>\n",
       "      <th>TRANSACTION_DT</th>\n",
       "      <th>CART_ID</th>\n",
       "      <th>NEW_ITEM_ID</th>\n",
       "    </tr>\n",
       "  </thead>\n",
       "  <tbody>\n",
       "    <tr>\n",
       "      <th>0</th>\n",
       "      <td>1113</td>\n",
       "      <td>4902105011621</td>\n",
       "      <td>2000-11-26</td>\n",
       "      <td>0</td>\n",
       "      <td>0</td>\n",
       "    </tr>\n",
       "    <tr>\n",
       "      <th>1</th>\n",
       "      <td>1113</td>\n",
       "      <td>7616100830794</td>\n",
       "      <td>2000-11-26</td>\n",
       "      <td>0</td>\n",
       "      <td>1</td>\n",
       "    </tr>\n",
       "    <tr>\n",
       "      <th>2</th>\n",
       "      <td>1113</td>\n",
       "      <td>4710892632017</td>\n",
       "      <td>2000-11-26</td>\n",
       "      <td>0</td>\n",
       "      <td>2</td>\n",
       "    </tr>\n",
       "    <tr>\n",
       "      <th>3</th>\n",
       "      <td>1113</td>\n",
       "      <td>4710905340113</td>\n",
       "      <td>2000-11-27</td>\n",
       "      <td>1</td>\n",
       "      <td>3</td>\n",
       "    </tr>\n",
       "    <tr>\n",
       "      <th>4</th>\n",
       "      <td>1113</td>\n",
       "      <td>4717362901277</td>\n",
       "      <td>2000-11-27</td>\n",
       "      <td>1</td>\n",
       "      <td>4</td>\n",
       "    </tr>\n",
       "    <tr>\n",
       "      <th>...</th>\n",
       "      <td>...</td>\n",
       "      <td>...</td>\n",
       "      <td>...</td>\n",
       "      <td>...</td>\n",
       "      <td>...</td>\n",
       "    </tr>\n",
       "    <tr>\n",
       "      <th>533054</th>\n",
       "      <td>20002000</td>\n",
       "      <td>4710339772139</td>\n",
       "      <td>2001-01-20</td>\n",
       "      <td>62360</td>\n",
       "      <td>4546</td>\n",
       "    </tr>\n",
       "    <tr>\n",
       "      <th>533055</th>\n",
       "      <td>20002000</td>\n",
       "      <td>20513184</td>\n",
       "      <td>2001-01-20</td>\n",
       "      <td>62360</td>\n",
       "      <td>1351</td>\n",
       "    </tr>\n",
       "    <tr>\n",
       "      <th>533056</th>\n",
       "      <td>20002000</td>\n",
       "      <td>4714800731229</td>\n",
       "      <td>2001-01-20</td>\n",
       "      <td>62360</td>\n",
       "      <td>2946</td>\n",
       "    </tr>\n",
       "    <tr>\n",
       "      <th>533057</th>\n",
       "      <td>20002000</td>\n",
       "      <td>4714541091071</td>\n",
       "      <td>2001-01-20</td>\n",
       "      <td>62360</td>\n",
       "      <td>7382</td>\n",
       "    </tr>\n",
       "    <tr>\n",
       "      <th>533058</th>\n",
       "      <td>20002000</td>\n",
       "      <td>4710018008634</td>\n",
       "      <td>2001-01-20</td>\n",
       "      <td>62360</td>\n",
       "      <td>2629</td>\n",
       "    </tr>\n",
       "  </tbody>\n",
       "</table>\n",
       "<p>533059 rows × 5 columns</p>\n",
       "</div>"
      ],
      "text/plain": [
       "        CUSTOMER_ID     PRODUCT_ID TRANSACTION_DT  CART_ID  NEW_ITEM_ID\n",
       "0              1113  4902105011621     2000-11-26        0            0\n",
       "1              1113  7616100830794     2000-11-26        0            1\n",
       "2              1113  4710892632017     2000-11-26        0            2\n",
       "3              1113  4710905340113     2000-11-27        1            3\n",
       "4              1113  4717362901277     2000-11-27        1            4\n",
       "...             ...            ...            ...      ...          ...\n",
       "533054     20002000  4710339772139     2001-01-20    62360         4546\n",
       "533055     20002000       20513184     2001-01-20    62360         1351\n",
       "533056     20002000  4714800731229     2001-01-20    62360         2946\n",
       "533057     20002000  4714541091071     2001-01-20    62360         7382\n",
       "533058     20002000  4710018008634     2001-01-20    62360         2629\n",
       "\n",
       "[533059 rows x 5 columns]"
      ]
     },
     "execution_count": 7,
     "metadata": {},
     "output_type": "execute_result"
    }
   ],
   "source": [
    "# Ta Feng Dataset\n",
    "TaFeng = pd.read_csv(\"../cleaned_dataset/ta_feng_clean.csv\")\n",
    "\n",
    "# 最多購物籃數\n",
    "max_cart_count = TaFeng.groupby('CUSTOMER_ID')['CART_ID'].nunique().max()\n",
    "print(max_cart_count)\n",
    "\n",
    "TaFeng"
   ]
  },
  {
   "cell_type": "markdown",
   "id": "a0877d82",
   "metadata": {},
   "source": [
    "# 切分資料集\n",
    "- 分成輸入資料與標籤資料\n",
    "- 訓練集:驗證集:測試集 = 7:1:2"
   ]
  },
  {
   "cell_type": "code",
   "execution_count": 8,
   "id": "73e9cf41",
   "metadata": {},
   "outputs": [
    {
     "name": "stdout",
     "output_type": "stream",
     "text": [
      "7457\n",
      "1065\n",
      "2132\n"
     ]
    }
   ],
   "source": [
    "# 切分資料集\n",
    "train_set_size = int(len(user_cart_itemid_list) * 0.7)\n",
    "valid_set_size = int(len(user_cart_itemid_list) * 0.1)\n",
    "test_set_size = len(user_cart_itemid_list)-train_set_size-valid_set_size\n",
    "train_set, valid_set, test_set = random_split(user_cart_itemid_list, [train_set_size, valid_set_size, test_set_size])\n",
    "print(len(train_set))\n",
    "print(len(valid_set))\n",
    "print(len(test_set))"
   ]
  },
  {
   "cell_type": "code",
   "execution_count": 9,
   "id": "5edaa93d",
   "metadata": {},
   "outputs": [],
   "source": [
    "# 將切割好的資料集暫存起來\n",
    "\n",
    "# # 訓練集\n",
    "# filepath = \"../preprocessing-data/TaFeng_dataset/train_set.pkl\"\n",
    "# with open(filepath, \"wb\") as f:\n",
    "#     pickle.dump(train_set, f, pickle.HIGHEST_PROTOCOL)\n",
    "# # 驗證集\n",
    "# filepath = \"../preprocessing-data/TaFeng_dataset/valid_set.pkl\"\n",
    "# with open(filepath, \"wb\") as f:\n",
    "#     pickle.dump(valid_set, f, pickle.HIGHEST_PROTOCOL)\n",
    "# # 測試集\n",
    "# filepath = \"../preprocessing-data/TaFeng_dataset/test_set.pkl\"\n",
    "# with open(filepath, \"wb\") as f:\n",
    "#     pickle.dump(test_set, f, pickle.HIGHEST_PROTOCCOL)"
   ]
  },
  {
   "cell_type": "code",
   "execution_count": 10,
   "id": "b203d0c9",
   "metadata": {},
   "outputs": [],
   "source": [
    "# 讀取之前暫存的資料集\n",
    "\n",
    "# # 載入訓練、驗證、測試集\n",
    "# with open(\"../preprocessing-data/TaFeng_dataset/train_set.pkl\", \"rb\") as fp:\n",
    "#     train_set = pickle.load(fp)\n",
    "# with open(\"../preprocessing-data/TaFeng_dataset/valid_set.pkl\", \"rb\") as fp:\n",
    "#     valid_set = pickle.load(fp)\n",
    "# with open(\"../preprocessing-data/TaFeng_dataset/test_set.pkl\", \"rb\") as fp:\n",
    "#     test_set = pickle.load(fp)"
   ]
  },
  {
   "cell_type": "markdown",
   "id": "c9585447",
   "metadata": {},
   "source": [
    "# Batch"
   ]
  },
  {
   "cell_type": "code",
   "execution_count": 11,
   "id": "a209539b",
   "metadata": {
    "scrolled": true
   },
   "outputs": [
    {
     "data": {
      "text/plain": [
       "device(type='cuda')"
      ]
     },
     "execution_count": 11,
     "metadata": {},
     "output_type": "execute_result"
    }
   ],
   "source": [
    "device = torch.device(\"cuda\" if torch.cuda.is_available() else \"cpu\")\n",
    "device"
   ]
  },
  {
   "cell_type": "code",
   "execution_count": 12,
   "id": "b348e2b5",
   "metadata": {},
   "outputs": [],
   "source": [
    "# 定義資料轉換函數(於collate_batch函式中使用)\n",
    "item_index_pipeline = lambda x:[[model.wv.key_to_index[j] for j in i]for i in x] # 取得購物籃中，項目的索引值(只有使用Item2Vec時會需要)"
   ]
  },
  {
   "cell_type": "code",
   "execution_count": 13,
   "id": "92fb3dee",
   "metadata": {},
   "outputs": [],
   "source": [
    "class TensorDataset(Dataset):\n",
    "    # TensorDataset繼承Dataset, 重載__init__, __getitem__, __len__\n",
    "    # 實現將一組Tensor數據封裝成Tensor數據集\n",
    "    # 能夠通過index得到數據集的數據，能夠通過len，得到數據集大小\n",
    "    def __init__(self, data_tensor):\n",
    "        self.data_tensor = data_tensor\n",
    "    def __getitem__(self, index):\n",
    "        return self.data_tensor[index]\n",
    "    def __len__(self):\n",
    "        return len(self.data_tensor)\n",
    "\n",
    "def collate_batch(batch): # 輸出userID, input_list跟label(最後一個購物籃)\n",
    "    # 使用ID、時間差、訓練的購物籃項目、預測的購物籃項目\n",
    "    userID, input_list, label_list, input_size_list, label_size_list, offsets = [], [], [], [], [], [0]\n",
    "    for _user in batch:\n",
    "        userID.append(_user[0]) # userID\n",
    "        label_list.append(torch.tensor(_user[2][-1])) # 所有購物籃的項目ID串列中的最後一個購物籃項目ID\n",
    "        label_size_list.append(torch.tensor(_user[3][-1]))\n",
    "        \n",
    "        if isI2V == 0: # 不使用Item2Vec進行項目嵌入\n",
    "            train_list = _user[2][0:-1]\n",
    "        else: #　使用Item2Vec進行項目嵌入\n",
    "            train_list = item_index_pipeline(_user[2][0:-1])\n",
    "        input_size_list.append(_user[3][0:-1])\n",
    "        \n",
    "        input_list.append(train_list) # 所有購物籃的項目ID串列(除了最後一個購物籃)\n",
    "        offsets.append(len(train_list))\n",
    "    \n",
    "    return userID, input_list, label_list, input_size_list, label_size_list, offsets"
   ]
  },
  {
   "cell_type": "code",
   "execution_count": 14,
   "id": "f442f66a",
   "metadata": {},
   "outputs": [],
   "source": [
    "# 轉成 Dataset\n",
    "split_train_ = TensorDataset(train_set)\n",
    "split_valid_ = TensorDataset(valid_set)\n",
    "split_test_ = TensorDataset(test_set)"
   ]
  },
  {
   "cell_type": "code",
   "execution_count": 15,
   "id": "54fe7bc6",
   "metadata": {},
   "outputs": [],
   "source": [
    "# DataLoader \n",
    "train_dataloader = DataLoader(split_train_, batch_size=BATCH_SIZE, shuffle=True, collate_fn=collate_batch, drop_last=True)\n",
    "valid_dataloader = DataLoader(split_valid_, batch_size=BATCH_SIZE, shuffle=True, collate_fn=collate_batch, drop_last=True)\n",
    "test_dataloader = DataLoader(split_test_, batch_size=BATCH_SIZE, shuffle=True, collate_fn=collate_batch, drop_last=True)"
   ]
  },
  {
   "cell_type": "markdown",
   "id": "637657be",
   "metadata": {},
   "source": [
    "# Self-Attention"
   ]
  },
  {
   "cell_type": "code",
   "execution_count": 16,
   "id": "a96171ad",
   "metadata": {},
   "outputs": [],
   "source": [
    "# 使用nn.MultiheadAttention\n",
    "# 輸入一個用戶的一個購物籃，輸出購物籃嵌入\n",
    "class SelfAttention(nn.Module):\n",
    "    def __init__(self, embed_dim, model_dim): #項目向量維度，輸出模型的維度\n",
    "        super(SelfAttention, self).__init__()\n",
    "        self.embed_dim = embed_dim\n",
    "        self.model_dim = model_dim\n",
    "        \n",
    "        # 初始化Q, K, V 矩陣\n",
    "        self.query_matrix = nn.Linear(embed_dim, model_dim)\n",
    "        xavier_uniform_(self.query_matrix.weight)\n",
    "        self.key_matrix = nn.Linear(embed_dim, model_dim)\n",
    "        xavier_uniform_(self.key_matrix.weight)\n",
    "        self.value_matrix = nn.Linear(embed_dim, model_dim)\n",
    "        xavier_uniform_(self.value_matrix.weight)\n",
    "        self.multihead_attn = nn.MultiheadAttention(embed_dim, num_heads=1)\n",
    "        \n",
    "    def forward(self, inputs, attention_mask):\n",
    "        \n",
    "        # 輸入一個項目向量，透過三個可學習的參數矩陣，得到計算所需要的 q,k,v\n",
    "        q = self.query_matrix(inputs)\n",
    "        k = self.key_matrix(inputs)\n",
    "        v = self.value_matrix(inputs)\n",
    "        \n",
    "        attn_output, attn_output_weight = self.multihead_attn(q, k, v, key_padding_mask=attention_mask.transpose(0,1))\n",
    "        \n",
    "        output_mean = torch.tensor([[0 for _ in range(MODEL_DIMENSION)] for _ in range(len(attention_mask))], dtype=torch.float).to(device)\n",
    "        for i, cart in enumerate(attention_mask):\n",
    "            for j, mask in enumerate(cart):\n",
    "                if mask == False:\n",
    "                    output_mean[i] = attn_output[i][j] # 使用最後一個項目作為輸出\n",
    "        basket_embedding = output_mean\n",
    "        \n",
    "        return basket_embedding"
   ]
  },
  {
   "cell_type": "markdown",
   "id": "a3043def",
   "metadata": {},
   "source": [
    "   # Basket Size Encoder"
   ]
  },
  {
   "cell_type": "code",
   "execution_count": 17,
   "id": "3b8530b2",
   "metadata": {},
   "outputs": [],
   "source": [
    "class LinearTransformation(nn.Module):\n",
    "    def __init__(self, model_dim, input_dim:int=1):\n",
    "        super(LinearTransformation, self).__init__()\n",
    "        self.embed = torch.nn.Linear(input_dim, model_dim)\n",
    "        \n",
    "    def forward(self, inputs):\n",
    "        #print(inputs.type())\n",
    "        #output = torch.tensor([self.embed(basket_size) for basket_size in inputs], dtype=torch.float).to(device)\n",
    "         #print(output1)\n",
    "        #for basket_size in inputs:\n",
    "            #print(basket_size.type())\n",
    "            #basket_size = basket_size.to(torch.float)\n",
    "        output = torch.tensor([(self.embed(basket_size)).tolist() for basket_size in inputs], dtype=torch.float).to(device)\n",
    "        #print(output)\n",
    "        #print(output.type())\n",
    "        #output = self.embed(output1)\n",
    "        return output"
   ]
  },
  {
   "cell_type": "markdown",
   "id": "00cd99b7",
   "metadata": {},
   "source": [
    "# Transformer"
   ]
  },
  {
   "cell_type": "code",
   "execution_count": 18,
   "id": "bc0ed90c",
   "metadata": {},
   "outputs": [],
   "source": [
    "class PositionalEncoding(nn.Module):\n",
    "    def __init__(self, d_model:int, dropout, maxlen:int=500):\n",
    "        super(PositionalEncoding, self).__init__()\n",
    "        # den 是把10000^(2i/d_model)取log_e，前面加負號是求倒數\n",
    "        den = torch.exp(-torch.arange(0, d_model, 2) * math.log(10000) / d_model)\n",
    "        pos = torch.arange(0, maxlen).reshape(maxlen, 1)\n",
    "        pos_embedding = torch.zeros(maxlen, d_model)#.to(device)\n",
    "        pos_embedding[:, 0::2] = torch.sin(pos*den)\n",
    "        pos_embedding[:, 1::2] = torch.cos(pos*den)\n",
    "        \n",
    "        pos_embedding = pos_embedding.unsqueeze(0)\n",
    "        \n",
    "        self.dropout = nn.Dropout(dropout)\n",
    "        self.register_buffer(\"pos_embedding\", pos_embedding)\n",
    "        \n",
    "    def forward(self, token_embedding):\n",
    "        return self.dropout(token_embedding+ self.pos_embedding[:, :token_embedding.size(1), :])\n",
    "    \n",
    "class TransformerEncoder(nn.Module):\n",
    "    def __init__(self, d_model, num_heads=8, num_layers=6):\n",
    "        super(TransformerEncoder, self).__init__()\n",
    "        self.pe = PositionalEncoding(d_model=d_model, dropout=0.5, maxlen=max_cart_count*2)\n",
    "        # 創建 Transformer 模型\n",
    "        self.transformer = nn.TransformerEncoder(\n",
    "            nn.TransformerEncoderLayer(d_model=d_model, nhead=num_heads),\n",
    "            num_layers=num_layers\n",
    "        )\n",
    "    \n",
    "    def forward(self, baskets_embedding):\n",
    "        baskets_embedding_pe = self.pe(baskets_embedding)\n",
    "        \n",
    "        # 購物籃padding的遮罩\n",
    "        padding_mask = ~baskets_embedding.sum(dim=-1).ne(0).transpose(0,1)\n",
    "        \n",
    "        output = self.transformer(baskets_embedding_pe.to(torch.float32), src_key_padding_mask=padding_mask.to(torch.float32))\n",
    "        return output"
   ]
  },
  {
   "cell_type": "markdown",
   "id": "9cdd237c",
   "metadata": {},
   "source": [
    "# MLP層"
   ]
  },
  {
   "cell_type": "code",
   "execution_count": 19,
   "id": "e8fb5303",
   "metadata": {},
   "outputs": [],
   "source": [
    "class MLPLayer(nn.Module):\n",
    "    def __init__(self, embed_dim, hidden_dim, items_dim):\n",
    "        super(MLPLayer, self).__init__()\n",
    "        self.hidden = nn.Linear(embed_dim, hidden_dim) # 隱藏層\n",
    "        xavier_uniform_(self.hidden.weight)\n",
    "        self.norm = nn.BatchNorm1d(hidden_dim, momentum=0.03)\n",
    "        self.activate = nn.ReLU() # ?\n",
    "        self.output = nn.Linear(hidden_dim, items_dim) # 輸出層\n",
    "        \n",
    "    def forward(self, inputs):\n",
    "        y = self.activate(self.norm(self.hidden(inputs)))\n",
    "        return self.output(y)"
   ]
  },
  {
   "cell_type": "code",
   "execution_count": 20,
   "id": "b52aa95b",
   "metadata": {},
   "outputs": [],
   "source": [
    "class MLPLayerForSize(nn.Module):\n",
    "    def __init__(self, embed_dim, hidden_dim):\n",
    "        super(MLPLayerForSize, self).__init__()\n",
    "        self.hidden = nn.Linear(embed_dim, hidden_dim) #隱藏層\n",
    "        xavier_uniform_(self.hidden.weight)\n",
    "        self.norm = nn.BatchNorm1d(hidden_dim, momentum=0.03)\n",
    "        self.activate = nn.ReLU()\n",
    "        self.output = nn.Linear(hidden_dim, 1) # 輸出層\n",
    "        \n",
    "    def forward(self, inputs):\n",
    "        k = self.activate(self.norm(self.hidden(inputs)))\n",
    "        return self.activate(self.output(k))"
   ]
  },
  {
   "cell_type": "markdown",
   "id": "9afdd949",
   "metadata": {},
   "source": [
    "# 損失函數"
   ]
  },
  {
   "cell_type": "code",
   "execution_count": 21,
   "id": "9b8084b8",
   "metadata": {},
   "outputs": [],
   "source": [
    "# MSE\n",
    "def mean_square_error(predictions, target):\n",
    "    #print(\"target\", target)\n",
    "    targets = torch.tensor(target, dtype=torch.float32).unsqueeze(1).to(device)\n",
    "    #print(\"targets\", targets)\n",
    "    #print(\"prediction_size:\", predictions.size())\n",
    "    #print(\"targets_size:\", targets.size())\n",
    "    loss = F.mse_loss(predictions, targets)\n",
    "    #print(\"loss_size:\", loss.size())\n",
    "    #print(\"size_loss\", loss)\n",
    "    return loss"
   ]
  },
  {
   "cell_type": "code",
   "execution_count": 22,
   "id": "578a7e8b",
   "metadata": {},
   "outputs": [],
   "source": [
    "# cross_entropy_loss\n",
    "def cross_entropy_loss(predictions, targets):\n",
    "    # 創建稀疏張量的索引和值\n",
    "    indices = []\n",
    "    values = []\n",
    "    for i, t in enumerate(targets):\n",
    "        for v in t:\n",
    "            indices.append([i, v])\n",
    "            values.append(1)\n",
    "\n",
    "    # 創建稀疏張量\n",
    "    sparse_targets = torch.sparse_coo_tensor(indices=torch.tensor(indices).t(),\n",
    "                                             values=torch.tensor(values, dtype=torch.float16),\n",
    "                                             size=(len(targets), items_count), device=device)\n",
    "    sparse_targets = sparse_targets.to_dense()\n",
    "    \n",
    "    loss = F.binary_cross_entropy_with_logits(predictions, sparse_targets)\n",
    "    #print(\"entropy_size\", loss.size())\n",
    "    #print(\"entropy_loss\", loss)\n",
    "    return loss"
   ]
  },
  {
   "cell_type": "markdown",
   "id": "08aefe4a",
   "metadata": {},
   "source": [
    "# 評估指標"
   ]
  },
  {
   "cell_type": "code",
   "execution_count": 23,
   "id": "308ff8e9",
   "metadata": {},
   "outputs": [],
   "source": [
    "# def format_metric(result_dict):\n",
    "#     assert type(result_dict) == dict\n",
    "#     format_str = []\n",
    "#     metrics = np.unique([k.split('@')[0] for k in result_dict.keys()])\n",
    "#     topks = np.unique([int(k.split('@')[1]) for k in result_dict.keys()])\n",
    "#     for topk in np.sort(topks):\n",
    "#         for metric in np.sort(metrics):\n",
    "#             name = '{}@{}'.format(metric, topk)\n",
    "#             m = result_dict[name]           \n",
    "#             if type(m) is float or type(m) is float or type(m) is np.float32 or type(m) is np.float64:\n",
    "#                 format_str.append('{}: {:<.4f}'.format(name, m))\n",
    "#             elif type(m) is int or type(m) is int or type(m) is np.int32 or type(m) is np.int64:\n",
    "#                 format_str.append('{}: {}'.format(name, m))\n",
    "#     return ', '.join(format_str)"
   ]
  },
  {
   "cell_type": "code",
   "execution_count": 24,
   "id": "02891cdd",
   "metadata": {},
   "outputs": [],
   "source": [
    "def format_metric(result_dict):\n",
    "    assert type(result_dict) == dict\n",
    "    format_str = []\n",
    "    metrics = np.unique([k for k in result_dict.keys()])\n",
    "    #topks = np.unique([int(k.split('@')[1]) for k in result_dict.keys()])\n",
    "    #for topk in np.sort(topks):\n",
    "    for metric in np.sort(metrics):\n",
    "        name = '{}'.format(metric)\n",
    "        m = result_dict[name]\n",
    "        if type(m) is float or type(m) is float or type(m) is np.float32 or type(m) is np.float64:\n",
    "            format_str.append('{}: {:<.4f}'.format(name, m))\n",
    "        elif type(m) is int or type(m) is int or type(m) is np.int32 or type(m) is np.int64:\n",
    "            format_str.append('{}: {}'.format(name, m))\n",
    "    return ', '.join(format_str)"
   ]
  },
  {
   "cell_type": "markdown",
   "id": "b96a4cfe",
   "metadata": {},
   "source": [
    "## HR@K"
   ]
  },
  {
   "cell_type": "code",
   "execution_count": 25,
   "id": "ced1b599",
   "metadata": {},
   "outputs": [],
   "source": [
    "# def calculate_hr_at_k(predictions, labels_list, k_list):\n",
    "#     # 將預測機率矩陣轉換為 PyTorch 張量。\n",
    "#     predictions = torch.from_numpy(np.array(predictions, dtype=np.float32)).to(device)\n",
    "#     num_users = len(labels_list)\n",
    "#     evaluations = dict()\n",
    "#     for k in k_list:\n",
    "#         HR = []\n",
    "#         for i in range(num_users):\n",
    "#             # 將用戶 i 的真實標籤轉換為 PyTorch 張量。\n",
    "#             labels = torch.from_numpy(np.array(labels_list[i], dtype=np.int64)).to(device)\n",
    "#             # 計算用戶 i 在預測機率矩陣中機率最高的 K 個項目的索引。\n",
    "#             top_k_item_indices = torch.topk(predictions[i], k)[1]\n",
    "#             # 將用戶 i 在預測機率矩陣中機率最高的 K 個項目的索引和其真實標籤向量的交集，即為預測正確的項目數量。\n",
    "#             correct_num = torch.sum(torch.sum(torch.eq(top_k_item_indices, labels.unsqueeze(1)), dim=1))\n",
    "#             # 計算 HR。\n",
    "#             HR.append( correct_num.cpu()/len(labels) )\n",
    "#         # 計算 HR@K 分數。\n",
    "#         hr_at_k = np.mean(HR)\n",
    "#         key = '{}@{}'.format('HR',k)\n",
    "#         evaluations[key]=hr_at_k\n",
    "#     return evaluations"
   ]
  },
  {
   "cell_type": "markdown",
   "id": "fa92db9d",
   "metadata": {},
   "source": [
    "## F1-score"
   ]
  },
  {
   "cell_type": "code",
   "execution_count": 26,
   "id": "f7cca32b",
   "metadata": {},
   "outputs": [],
   "source": [
    "def calculate_f1_score_at_k(predictions, labels_list, k_list):\n",
    "    \"\"\"\n",
    "    計算 F1-score@K。\n",
    "\n",
    "    Args:\n",
    "        predictions: 二維的預測機率矩陣，大小為 [num_users, num_items]。\n",
    "        labels_list: 一個包含每個用戶真實標籤的列表，其中每個列表的大小不同。\n",
    "        k: 計算 F1-score@K 的 K 值。\n",
    "\n",
    "    Returns:\n",
    "        F1-score@K 分數。\n",
    "    \"\"\"\n",
    "    # 將預測機率矩陣轉換為 PyTorch 張量。\n",
    "    predictions = torch.from_numpy(np.array(predictions, dtype=np.float32))#.to('cuda')\n",
    "    num_users = len(labels_list)\n",
    "    f1_score_at_k_eval = dict()\n",
    "    \n",
    "    f1_score_sum = 0.0\n",
    "    for i in range(num_users):\n",
    "            # 將用戶 i 的真實標籤轉換為 PyTorch 張量。\n",
    "            labels = torch.from_numpy(np.array(labels_list[i], dtype=np.int64))#.to('cuda')\n",
    "            # 計算用戶 i 在預測機率矩陣中機率最高的 K 個項目的索引。\n",
    "            top_k_item_labels = torch.topk(predictions[i], k_list[i])[1]\n",
    "            # 計算用戶 i 的真實標籤和預測標籤的交集。 # TP\n",
    "            true_positives = torch.sum(torch.sum(torch.eq(top_k_item_labels, labels.unsqueeze(1)).to(torch.float32), dim=1)).item()\n",
    "            # 計算用戶 i 的真實標籤和預測標籤的並集。\n",
    "            predicted_positives = k_list[i] # TP+FP\n",
    "            actual_positives = len(labels) # TP+FN\n",
    "            if predicted_positives == 0:\n",
    "                precision = 0.0\n",
    "            else:\n",
    "                precision = true_positives / predicted_positives\n",
    "            if actual_positives == 0:\n",
    "                recall = 0.0\n",
    "            else:\n",
    "                recall = true_positives / actual_positives\n",
    "#                 print(\"true_positives=\", true_positives)\n",
    "#                 print(\"predicted_positives=\", predicted_positives)\n",
    "#                 print(\"actual_positives=\", actual_positives)\n",
    "#                 print(\"precision=\", precision)\n",
    "#                 print(\"recall=\", recall)\n",
    "            # 計算 F1-score。\n",
    "            if precision + recall == 0:\n",
    "                f1_score = 0.0\n",
    "            else:\n",
    "                f1_score = 2 * precision * recall / (precision + recall)\n",
    "            f1_score_sum += f1_score\n",
    "    # 計算平均 F1-score@K 分數。\n",
    "    f1_score_at_k = f1_score_sum / float(num_users)\n",
    "    key = '{}'.format('F1-score')\n",
    "    f1_score_at_k_eval[key]=f1_score_at_k\n",
    "        \n",
    "    return f1_score_at_k_eval"
   ]
  },
  {
   "cell_type": "code",
   "execution_count": 27,
   "id": "b303cb7e",
   "metadata": {},
   "outputs": [],
   "source": [
    "# def calculate_f1_score_at_k(predictions, labels_list, k):\n",
    "#     \"\"\"\n",
    "#     計算 F1-score@K。\n",
    "\n",
    "#     Args:\n",
    "#         predictions: 二維的預測機率矩陣，大小為 [num_users, num_items]。\n",
    "#         labels_list: 一個包含每個用戶真實標籤的列表，其中每個列表的大小不同。\n",
    "#         k: 計算 F1-score@K 的 K 值。\n",
    "\n",
    "#     Returns:\n",
    "#         F1-score@K 分數。\n",
    "#     \"\"\"\n",
    "#     # 將預測機率矩陣轉換為 PyTorch 張量。\n",
    "#     predictions = torch.from_numpy(np.array(predictions, dtype=np.float32))#.to('cuda')\n",
    "#     num_users = len(labels_list)\n",
    "#     f1_score_at_k_eval = dict()\n",
    "    \n",
    "\n",
    "#     f1_score_sum = 0.0\n",
    "#     for i in range(num_users):\n",
    "#             # 將用戶 i 的真實標籤轉換為 PyTorch 張量。\n",
    "#             labels = torch.from_numpy(np.array(labels_list[i], dtype=np.int64))#.to('cuda')\n",
    "#             # 計算用戶 i 在預測機率矩陣中機率最高的 K 個項目的索引。\n",
    "#             top_k_item_labels = torch.topk(predictions[i], k)[1]\n",
    "#             # 計算用戶 i 的真實標籤和預測標籤的交集。 # TP\n",
    "#             true_positives = torch.sum(torch.sum(torch.eq(top_k_item_labels, labels.unsqueeze(1)).to(torch.float32), dim=1)).item()\n",
    "#             # 計算用戶 i 的真實標籤和預測標籤的並集。\n",
    "#             predicted_positives = k # TP+FP\n",
    "#             actual_positives = len(labels) # TP+FN\n",
    "#             if actual_positives == 0:\n",
    "#                 precision = 0.0\n",
    "#                 recall = 0.0\n",
    "#             else:\n",
    "#                 precision = true_positives / predicted_positives\n",
    "#                 recall = true_positives / actual_positives\n",
    "#             # 計算 F1-score。\n",
    "#             if precision + recall == 0:\n",
    "#                 f1_score = 0.0\n",
    "#             else:\n",
    "#                 f1_score = 2 * precision * recall / (precision + recall)\n",
    "#             f1_score_sum += f1_score\n",
    "#     # 計算平均 F1-score@K 分數。\n",
    "#     f1_score_at_k = f1_score_sum / float(num_users)\n",
    "#     key = '{}'.format('F1-score')\n",
    "#     f1_score_at_k_eval[key]=f1_score_at_k\n",
    "        \n",
    "#     return f1_score_at_k_eval"
   ]
  },
  {
   "cell_type": "markdown",
   "id": "506ff404",
   "metadata": {},
   "source": [
    "## NDCG"
   ]
  },
  {
   "cell_type": "code",
   "execution_count": 28,
   "id": "4c566188",
   "metadata": {},
   "outputs": [],
   "source": [
    "# NDCG@K\n",
    "def calculate_ndcg_at_k(predictions, labels_list, k_list):\n",
    "    # 將預測機率矩陣轉換為 PyTorch 張量。\n",
    "    predictions = torch.from_numpy(np.array(predictions, dtype=np.float32))\n",
    "    num_users = len(labels_list)\n",
    "    ndcg_at_k_eval = dict()\n",
    "    \n",
    "    ndcg_sum = 0.0\n",
    "    for i in range(num_users):\n",
    "        # 將用戶 i 的真實標籤轉換為 PyTorch 張量。\n",
    "        labels = torch.from_numpy(np.array(labels_list[i], dtype=np.int64))\n",
    "        # 計算用戶 i 在預測機率矩陣中機率最高的 K 個項目的索引=標籤。\n",
    "        top_k_item_labels = torch.topk(predictions[i], k_list[i])[1]\n",
    "        # 計算 DCG@K。\n",
    "        dcg_at_k = torch.sum(torch.div(1.0, torch.log2(torch.arange(k_list[i], dtype=torch.float32) + 2)) * (torch.eq(top_k_item_labels, labels.unsqueeze(1)).to(torch.float32) ))\n",
    "        # 計算 IDCG@K。\n",
    "        idcg_at_k = torch.sum(torch.div(1.0, torch.log2(torch.arange(min(k_list[i], len(labels)), dtype=torch.float32) + 2)))\n",
    "        # 計算 NDCG@K。\n",
    "        ndcg_at_k = dcg_at_k / idcg_at_k\n",
    "        ndcg_sum += ndcg_at_k.item()\n",
    "    # 計算平均 NDCG@K 分數。\n",
    "    ndcg_at_k = ndcg_sum / float(num_users)\n",
    "    key = '{}'.format('NDCG')\n",
    "    ndcg_at_k_eval[key]=ndcg_at_k\n",
    "        \n",
    "\n",
    "    return ndcg_at_k_eval"
   ]
  },
  {
   "cell_type": "code",
   "execution_count": 29,
   "id": "497b6367",
   "metadata": {},
   "outputs": [],
   "source": [
    "# # NDCG@K\n",
    "# def calculate_ndcg_at_k(predictions, labels_list, k):\n",
    "#     # 將預測機率矩陣轉換為 PyTorch 張量。\n",
    "#     predictions = torch.from_numpy(np.array(predictions, dtype=np.float32))\n",
    "#     num_users = len(labels_list)\n",
    "#     ndcg_at_k_eval = dict()\n",
    "    \n",
    "#     ndcg_sum = 0.0\n",
    "#     for i in range(num_users):\n",
    "#         # 將用戶 i 的真實標籤轉換為 PyTorch 張量。\n",
    "#         labels = torch.from_numpy(np.array(labels_list[i], dtype=np.int64))\n",
    "#         # 計算用戶 i 在預測機率矩陣中機率最高的 K 個項目的索引=標籤。\n",
    "#         top_k_item_labels = torch.topk(predictions[i], k)[1]\n",
    "#         # 計算 DCG@K。\n",
    "#         dcg_at_k = torch.sum(torch.div(1.0, torch.log2(torch.arange(k, dtype=torch.float32) + 2)) * (torch.eq(top_k_item_labels, labels.unsqueeze(1)).to(torch.float32) ))\n",
    "#         # 計算 IDCG@K。\n",
    "#         #idcg_at_k = torch.sum(torch.div(1.0, torch.log2(torch.arange(min(k, len(labels)), dtype=torch.float32) + 2)))\n",
    "#         idcg_at_k = torch.sum(torch.div(1.0, torch.log2(torch.arange(len(labels), dtype=torch.float32) + 2)))\n",
    "#         # 計算 NDCG@K。\n",
    "#         ndcg_at_k = dcg_at_k / idcg_at_k\n",
    "#         ndcg_sum += ndcg_at_k.item()\n",
    "#     # 計算平均 NDCG@K 分數。\n",
    "#     ndcg_at_k = ndcg_sum / float(num_users)\n",
    "#     key = '{}'.format('NDCG')\n",
    "#     ndcg_at_k_eval[key]=ndcg_at_k\n",
    "        \n",
    "\n",
    "#     return ndcg_at_k_eval"
   ]
  },
  {
   "cell_type": "markdown",
   "id": "458759fa",
   "metadata": {},
   "source": [
    "## MPR"
   ]
  },
  {
   "cell_type": "code",
   "execution_count": 30,
   "id": "9160a9fa",
   "metadata": {},
   "outputs": [],
   "source": [
    "# #MRR\n",
    "# def calculate_MRR(predictions, labels_list):\n",
    "#     reciprocal_ranks = []\n",
    "#     # 將預測機率矩陣轉換為 numpy 數組。\n",
    "#     predictions = np.array(predictions, dtype=np.float32)\n",
    "#     # 預先排序預測結果（降序）\n",
    "#     sorted_predictions = np.argsort(predictions)[:,::-1]\n",
    "#     # 遍歷每個查詢的預測結果與目標結果\n",
    "#     for pred, targets in zip(sorted_predictions, labels_list):\n",
    "#         # 將目標結果轉換為集合\n",
    "#         target_set = set(targets.numpy())\n",
    "#         # 尋找目標的排名\n",
    "#         rank = next((i + 1 for i, p in enumerate(pred) if p in target_set), 0)\n",
    "#         # 計算倒數排名\n",
    "#         reciprocal_rank = 1 / rank if rank > 0 else 0\n",
    "#         reciprocal_ranks.append(reciprocal_rank)\n",
    "#     # 計算 MRR\n",
    "#     mrr_score = sum(reciprocal_ranks) / len(reciprocal_ranks)\n",
    "#     return mrr_score"
   ]
  },
  {
   "cell_type": "markdown",
   "id": "be5f7b84",
   "metadata": {},
   "source": [
    "## MAP"
   ]
  },
  {
   "cell_type": "code",
   "execution_count": 31,
   "id": "074334ff",
   "metadata": {},
   "outputs": [],
   "source": [
    "# #MAP\n",
    "# def calculate_MAP(predictions, labels_list):\n",
    "#     average_precisions = []\n",
    "#     # 將預測機率矩陣轉換為 numpy 數組。\n",
    "#     predictions = np.array(predictions, dtype=np.float32)\n",
    "#     # 預先排序預測結果（降序）\n",
    "#     sorted_predictions = np.argsort(predictions)[:,::-1]\n",
    "#     # 遍歷每個查詢的預測結果與目標結果\n",
    "#     for pred, targets in zip(sorted_predictions, labels_list):\n",
    "#         # 將目標結果轉換為集合\n",
    "#         target_set = set(targets.numpy())\n",
    "#         # 計算查詢的精確度\n",
    "#         precision = []\n",
    "#         hits = 0\n",
    "#         for i, p in enumerate(pred):\n",
    "#             if p in target_set:\n",
    "#                 hits += 1\n",
    "#                 precision.append(hits / (i + 1))\n",
    "#         # 計算平均精確度\n",
    "#         if precision:\n",
    "#             average_precision = sum(precision) / len(precision)\n",
    "#             average_precisions.append(average_precision)\n",
    "#     # 計算 MAP\n",
    "#     map_score = sum(average_precisions) / len(average_precisions)\n",
    "#     return map_score"
   ]
  },
  {
   "cell_type": "markdown",
   "id": "213301db",
   "metadata": {},
   "source": [
    "# 訓練&測試"
   ]
  },
  {
   "cell_type": "code",
   "execution_count": 32,
   "id": "5d503206",
   "metadata": {},
   "outputs": [],
   "source": [
    "# 訓練模型\n",
    "def train_model():\n",
    "    my_model.train()\n",
    "    loss_list = []\n",
    "    \n",
    "    for batch_idx, (userID, basket_input, basket_label, size_input, size_label, offsets) in enumerate(tqdm(train_dataloader)):\n",
    "        optimizer.zero_grad()\n",
    "        basket_output, size_output, indices = my_model(basket_input, size_input, offsets[1:])\n",
    "        # 計算損失\n",
    "        loss = ALPHA * mean_square_error(size_output, size_label) + (1-ALPHA) * cross_entropy_loss(basket_output , basket_label)\n",
    "        loss_list.append(loss.item())\n",
    "        loss.backward()\n",
    "        optimizer.step()\n",
    "\n",
    "        if (batch_idx%100 == 0) or (batch_idx == len(train_dataloader)-1) :\n",
    "            percentage = (100. * batch_idx/len(train_dataloader))\n",
    "            print(f'Epoch {epoch}: {percentage:.0f}% , Loss: {loss.item():.6f}')\n",
    "\n",
    "        with torch.no_grad():\n",
    "            basket_output = torch.from_numpy(np.array(basket_output.cpu(), dtype=np.float32))\n",
    "            size_output = np.round(np.squeeze(np.array(size_output.cpu(), dtype=np.float32))).astype(int).tolist()\n",
    "            #print(\"size_output\", size_output)\n",
    "            if batch_idx==0:\n",
    "                basket_outputs = basket_output\n",
    "                labels_list = basket_label\n",
    "                size_list = size_output\n",
    "            else:\n",
    "                basket_outputs = torch.cat( (basket_outputs, basket_output ),-2 )\n",
    "                labels_list = labels_list + basket_label\n",
    "                size_list = size_list+size_output\n",
    "#     print(\"basket_outputs.size()\", basket_outputs.size())\n",
    "#     print(\"len(labels_list)\", len(labels_list))\n",
    "#     print(\"len(labels_list[0])\", len(labels_list[0]))\n",
    "#     print(\"size_list\", len(size_list))\n",
    "#     print(\"size\", size_list)\n",
    "    with torch.no_grad():\n",
    "#         evaluations = calculate_hr_at_k(outputs, labels_list, [5,10,20,50])\n",
    "#         res_str = '(' + format_metric(evaluations) + ')'\n",
    "#         print(f\"                      {res_str}\\n\")\n",
    "\n",
    "        evaluations = calculate_f1_score_at_k(basket_outputs, labels_list, size_list)\n",
    "        res_str = '(' + format_metric(evaluations) + ')'\n",
    "        print(f\"                      {res_str}\\n\")\n",
    "\n",
    "        evaluations = calculate_ndcg_at_k(basket_outputs, labels_list, size_list)\n",
    "        res_str = '(' + format_metric(evaluations) + ')'\n",
    "        print(f\"                      {res_str}\\n\")\n",
    "        \n",
    "#         mrr_score = calculate_MRR( outputs, labels_list )\n",
    "#         print(f'MRR: {mrr_score}')\n",
    "#         map_score = calculate_MAP( outputs, labels_list )\n",
    "#         print(f'MAP: {map_score}')\n",
    "\n",
    "    return torch.mean(torch.tensor(loss_list))"
   ]
  },
  {
   "cell_type": "code",
   "execution_count": 33,
   "id": "b0799869",
   "metadata": {},
   "outputs": [],
   "source": [
    "# 驗證模型\n",
    "def evaluate_model():\n",
    "    my_model.eval()\n",
    "    loss_list = []\n",
    "    \n",
    "    for batch_idx, (userID, basket_input, basket_label, size_input, size_label, offsets) in enumerate(tqdm(valid_dataloader)):\n",
    "        basket_output, size_output, indices = my_model(basket_input, size_input, offsets[1:])\n",
    "        # 計算損失\n",
    "        loss = ALPHA * mean_square_error(size_output, size_label) + (1-ALPHA) * cross_entropy_loss(basket_output , basket_label) \n",
    "        loss_list.append(loss.item())\n",
    "        with torch.no_grad():\n",
    "            basket_output = torch.from_numpy(np.array(basket_output.cpu(), dtype=np.float32))\n",
    "            size_output = np.round(np.squeeze(np.array(size_output.cpu(), dtype=np.float32))).astype(int).tolist()\n",
    "            if batch_idx==0:\n",
    "                basket_outputs = basket_output\n",
    "                labels_list = basket_label\n",
    "                size_list = size_output\n",
    "            else:\n",
    "                basket_outputs = torch.cat( (basket_outputs, basket_output ),-2 )\n",
    "                labels_list = labels_list + basket_label\n",
    "                size_list = size_list+size_output\n",
    "\n",
    "    with torch.no_grad():\n",
    "#         evaluations = calculate_hr_at_k(outputs, labels_list, size_list)\n",
    "#         hr_5_rec = evaluations['HR@5']\n",
    "#         res_str = '(' + format_metric(evaluations) + ')'\n",
    "#         print(f\"                      {res_str}\\n\")\n",
    "\n",
    "        evaluations = calculate_f1_score_at_k(basket_outputs, labels_list, size_list)\n",
    "        res_str = '(' + format_metric(evaluations) + ')'\n",
    "        print(f\"                      {res_str}\\n\")\n",
    "\n",
    "        evaluations = calculate_ndcg_at_k(basket_outputs, labels_list, size_list)\n",
    "        res_str = '(' + format_metric(evaluations) + ')'\n",
    "        print(f\"                      {res_str}\\n\")\n",
    "        \n",
    "#         mrr_score = calculate_MRR( outputs, labels_list )\n",
    "#         print(f'MRR: {mrr_score}')\n",
    "#         map_score = calculate_MAP( outputs, labels_list )\n",
    "#         print(f'MAP: {map_score}')\n",
    "\n",
    "    return torch.mean(torch.tensor(loss_list))"
   ]
  },
  {
   "cell_type": "code",
   "execution_count": 34,
   "id": "5e8d7319",
   "metadata": {},
   "outputs": [],
   "source": [
    "# 測試模型\n",
    "def test_model():\n",
    "    my_model.eval()\n",
    "    loss_list = []\n",
    "    \n",
    "    for batch_idx, (userID, basket_input, basket_label, size_input, size_label, offsets) in enumerate(tqdm(test_dataloader)):\n",
    "        basket_output, size_output, indices = my_model(basket_input, size_input, offsets[1:])\n",
    "        # 計算損失\n",
    "        loss = ALPHA * mean_square_error(size_output, size_label) + (1-ALPHA) * cross_entropy_loss(basket_output , basket_label)\n",
    "        loss_list.append(loss.item())\n",
    "        with torch.no_grad():\n",
    "            basket_output = torch.from_numpy(np.array(basket_output.cpu(), dtype=np.float32))\n",
    "            size_output = np.round(np.squeeze(np.array(size_output.cpu(), dtype=np.float32))).astype(int).tolist()\n",
    "            if batch_idx==0:\n",
    "                basket_outputs = basket_output\n",
    "                labels_list = basket_label\n",
    "                size_list = size_output\n",
    "            else:\n",
    "                basket_outputs = torch.cat( (basket_outputs, basket_output ),-2 )\n",
    "                labels_list = labels_list + basket_label\n",
    "                size_list = size_list+size_output\n",
    "\n",
    "    with torch.no_grad():\n",
    "#         hr_evaluations = calculate_hr_at_k(outputs, labels_list, [5,10,20,50])\n",
    "#         hr_5_rec = hr_evaluations['HR@5']\n",
    "#         hr_10_rec = hr_evaluations['HR@10']\n",
    "#         hr_20_rec = hr_evaluations['HR@20']\n",
    "#         hr_50_rec = hr_evaluations['HR@50']\n",
    "#         hr_list = [hr_5_rec, hr_10_rec, hr_20_rec, hr_50_rec]\n",
    "#         res_str = '(' + format_metric(hr_evaluations) + ')'\n",
    "#         print(f\"                      {res_str}\\n\")\n",
    "\n",
    "        f1_evaluations = calculate_f1_score_at_k(basket_outputs, labels_list, size_list)\n",
    "#         f1_5_rec = f1_evaluations['F1-score@5']\n",
    "#         f1_10_rec = f1_evaluations['F1-score@10']\n",
    "#         f1_20_rec = f1_evaluations['F1-score@20']\n",
    "#         f1_50_rec = f1_evaluations['F1-score@50']\n",
    "        f1_list = [f1_evaluations]\n",
    "        res_str = '(' + format_metric(f1_evaluations) + ')'\n",
    "        print(f\"                      {res_str}\\n\")\n",
    "\n",
    "        ndcg_evaluations = calculate_ndcg_at_k(basket_outputs, labels_list, size_list)\n",
    "#         ndcg_5_rec = ndcg_evaluations['NDCG@5']\n",
    "#         ndcg_10_rec = ndcg_evaluations['NDCG@10']\n",
    "#         ndcg_20_rec = ndcg_evaluations['NDCG@20']\n",
    "#         ndcg_50_rec = ndcg_evaluations['NDCG@50']\n",
    "        ndcg_list = [ndcg_evaluations]\n",
    "        res_str = '(' + format_metric(ndcg_evaluations) + ')'\n",
    "        print(f\"                      {res_str}\\n\")\n",
    "        \n",
    "#         mrr_score = calculate_MRR( outputs, labels_list )\n",
    "#         print(f'MRR: {mrr_score}')\n",
    "#         map_score = calculate_MAP( outputs, labels_list )\n",
    "#         print(f'MAP: {map_score}')\n",
    "\n",
    "    return torch.mean(torch.tensor(loss_list)),f1_list,ndcg_list\n",
    "#    return torch.mean(torch.tensor(loss_list)),hr_5_rec,hr_list,f1_list,ndcg_list, mrr_score, map_score"
   ]
  },
  {
   "cell_type": "markdown",
   "id": "1abc8fbc",
   "metadata": {},
   "source": [
    "# 完整模型"
   ]
  },
  {
   "cell_type": "code",
   "execution_count": 35,
   "id": "5ad81bac",
   "metadata": {},
   "outputs": [
    {
     "name": "stdout",
     "output_type": "stream",
     "text": [
      "items_count= 15764\n",
      "tensor([1.7128e-03, 1.1418e-03, 2.4169e-02,  ..., 6.3436e-05, 6.3436e-05,\n",
      "        6.3436e-05], device='cuda:0', dtype=torch.float64)\n"
     ]
    }
   ],
   "source": [
    "# 項目總數\n",
    "items_count = TaFeng_confidences_array.shape[0]\n",
    "print(\"items_count=\",items_count)\n",
    "# 項目出現次數\n",
    "items_frq = Counter(TaFeng[\"NEW_ITEM_ID\"])\n",
    "# 計算每個項目出現的比例: items_frq/items_count\n",
    "item_weight = torch.tensor( np.array( list(items_frq.values()) )/items_count ).to(device)\n",
    "print(item_weight) # 按照new_item_id順序排列"
   ]
  },
  {
   "cell_type": "markdown",
   "id": "975d9e58",
   "metadata": {},
   "source": [
    "## 加上信賴度矩陣"
   ]
  },
  {
   "cell_type": "code",
   "execution_count": 36,
   "id": "5d571c57",
   "metadata": {},
   "outputs": [
    {
     "data": {
      "text/plain": [
       "tensor([[0.0000, 0.0370, 0.0370,  ..., 0.0000, 0.0000, 0.0000],\n",
       "        [0.0556, 0.0000, 0.0556,  ..., 0.0000, 0.0000, 0.0000],\n",
       "        [0.0026, 0.0026, 0.0000,  ..., 0.0000, 0.0000, 0.0000],\n",
       "        ...,\n",
       "        [0.0000, 0.0000, 0.0000,  ..., 0.0000, 0.0000, 0.0000],\n",
       "        [0.0000, 0.0000, 0.0000,  ..., 0.0000, 0.0000, 0.0000],\n",
       "        [0.0000, 0.0000, 0.0000,  ..., 0.0000, 0.0000, 0.0000]],\n",
       "       device='cuda:0', dtype=torch.float64)"
      ]
     },
     "execution_count": 36,
     "metadata": {},
     "output_type": "execute_result"
    }
   ],
   "source": [
    "# 信賴度矩陣\n",
    "confidences_array = torch.tensor(TaFeng_confidences_array,dtype=torch.float64).to(device)\n",
    "confidences_array"
   ]
  },
  {
   "cell_type": "code",
   "execution_count": 37,
   "id": "926dfc91",
   "metadata": {},
   "outputs": [],
   "source": [
    "def Interleave(tensor1, tensor2):\n",
    "    result = torch.stack((tensor1, tensor2), dim=1)\n",
    "    Interleave_tensor = torch.reshape(result, (-1, MODEL_DIMENSION))\n",
    "    #print(\"test3\", Interleave_tensor)\n",
    "    #print(Interleave_tensor.device)\n",
    "    return (Interleave_tensor)"
   ]
  },
  {
   "cell_type": "code",
   "execution_count": 38,
   "id": "b00066a0",
   "metadata": {},
   "outputs": [],
   "source": [
    "class MyModel01(nn.Module):\n",
    "    def __init__(self, embed_dim, model_dim, hidden_dim, items_count):\n",
    "        super(MyModel01, self).__init__()\n",
    "        self.model_dim = model_dim\n",
    "        self.embedding = nn.Embedding.from_pretrained(weights, freeze=False)\n",
    "        self.embedding.requires_grad = True\n",
    "        self.attn = SelfAttention(embed_dim=embed_dim ,model_dim=model_dim)\n",
    "        self.linear_transform = LinearTransformation(model_dim = model_dim)\n",
    "        self.model_encoder = TransformerEncoder(d_model=model_dim , num_heads=NUM_HEAD, num_layers=NUM_LAYER)\n",
    "        self.mlp = MLPLayer(model_dim, hidden_dim, items_count ) # 嵌入維度、隱藏層維度、總項目數量\n",
    "        self.sizemlp = MLPLayerForSize(model_dim, hidden_dim)\n",
    "        self.relu = nn.ReLU()\n",
    "\n",
    "        \n",
    "    def forward(self, basket_input, size_input ,lengths):\n",
    "        \n",
    "        inputs, attention_mask = [], []\n",
    "\n",
    "        # 為每個用戶的購物籃加上 padding跟 mask\n",
    "        for user in basket_input:\n",
    "            # 將購物籃項目 ID 轉換為嵌入向量\n",
    "            batch_features = [ self.embedding(torch.tensor(cart).to(device)) for cart in user ]\n",
    "            # 進行 padding\n",
    "            #print(\"obatch_size\", batch_features)\n",
    "            batch_features = rnn_utils.pad_sequence(batch_features, batch_first=True, padding_value=0)\n",
    "            # 購物籃中項目的遮罩\n",
    "            mask = ~batch_features.sum(dim=-1).ne(0)\n",
    "            #print(\"batch_size\", batch_features.size())\n",
    "            inputs.append(batch_features)\n",
    "            attention_mask.append(mask)\n",
    "\n",
    "            \n",
    "        # 進入自注意力，輸出形狀為 (BATCH_SIZE, basket_size, embed_dim)\n",
    "        basket_embedding_list = []\n",
    "        for i,user_inputs in enumerate(inputs):\n",
    "            test = self.attn(user_inputs,attention_mask[i])\n",
    "            #basket_embedding_list.append(test)\n",
    "            #print(\"test_size\", test.size())\n",
    "            #print(\"test\", test)\n",
    "            \n",
    "            test2 = self.linear_transform(torch.tensor([[float(_)] for _ in size_input[i]]).to(device))\n",
    "            #size_embedding_list.append(test2)\n",
    "            #print(\"test\", test.size())\n",
    "            #print(\"test2\", test2.size())\n",
    "            basket_embedding = Interleave(test, test2)\n",
    "            #print(\"test3\", basket_embedding.size())\n",
    "            basket_embedding_list.append(basket_embedding)\n",
    "            #print(\"test2_size\", test2.size())\n",
    "            #bs_encoder = self.linear_transform()\n",
    "            #basket_embedding_list.append(self.attn(user_inputs,attention_mask[i]))\n",
    "            \n",
    "        \n",
    "        \n",
    "        # 進行購物籃的 padding\n",
    "        input_seq = rnn_utils.pad_sequence(basket_embedding_list, batch_first=True, padding_value=0)\n",
    "        #print(input_seq.size())\n",
    "        \n",
    "        \n",
    "        # 進入Transformer\n",
    "        basket_embed = self.model_encoder(input_seq.to(device))\n",
    "        \n",
    "        B_s_list = []\n",
    "        for i, b in enumerate(basket_embed):\n",
    "            basket_size = len(attention_mask[i])\n",
    "            B_s = b[basket_size-1]  # 取得最後一個購物籃向量\n",
    "            B_s_list.append(B_s)\n",
    "            \n",
    "        # SIZE_MLP\n",
    "        k = self.sizemlp(torch.stack(B_s_list, dim=0))\n",
    "        #print(\"k\", k)\n",
    "        # 進入MLP層\n",
    "        p = self.mlp(torch.stack(B_s_list, dim=0))\n",
    "        pc = (self.relu(p.to(torch.float64))+1e-8) @ confidences_array\n",
    "        pw = torch.mul( p, item_weight )\n",
    "        p_ = torch.mul(BETA, torch.add(pc,pw)) + torch.mul(1-BETA, p.to(torch.float64))\n",
    "        y = p_\n",
    "        Y,indices = torch.topk(y, k=10)\n",
    "        return y, k, indices"
   ]
  },
  {
   "cell_type": "code",
   "execution_count": 39,
   "id": "88bf8d6f",
   "metadata": {},
   "outputs": [
    {
     "data": {
      "text/plain": [
       "MyModel01(\n",
       "  (embedding): Embedding(15764, 32)\n",
       "  (attn): SelfAttention(\n",
       "    (query_matrix): Linear(in_features=32, out_features=32, bias=True)\n",
       "    (key_matrix): Linear(in_features=32, out_features=32, bias=True)\n",
       "    (value_matrix): Linear(in_features=32, out_features=32, bias=True)\n",
       "    (multihead_attn): MultiheadAttention(\n",
       "      (out_proj): NonDynamicallyQuantizableLinear(in_features=32, out_features=32, bias=True)\n",
       "    )\n",
       "  )\n",
       "  (linear_transform): LinearTransformation(\n",
       "    (embed): Linear(in_features=1, out_features=32, bias=True)\n",
       "  )\n",
       "  (model_encoder): TransformerEncoder(\n",
       "    (pe): PositionalEncoding(\n",
       "      (dropout): Dropout(p=0.5, inplace=False)\n",
       "    )\n",
       "    (transformer): TransformerEncoder(\n",
       "      (layers): ModuleList(\n",
       "        (0-3): 4 x TransformerEncoderLayer(\n",
       "          (self_attn): MultiheadAttention(\n",
       "            (out_proj): NonDynamicallyQuantizableLinear(in_features=32, out_features=32, bias=True)\n",
       "          )\n",
       "          (linear1): Linear(in_features=32, out_features=2048, bias=True)\n",
       "          (dropout): Dropout(p=0.1, inplace=False)\n",
       "          (linear2): Linear(in_features=2048, out_features=32, bias=True)\n",
       "          (norm1): LayerNorm((32,), eps=1e-05, elementwise_affine=True)\n",
       "          (norm2): LayerNorm((32,), eps=1e-05, elementwise_affine=True)\n",
       "          (dropout1): Dropout(p=0.1, inplace=False)\n",
       "          (dropout2): Dropout(p=0.1, inplace=False)\n",
       "        )\n",
       "      )\n",
       "    )\n",
       "  )\n",
       "  (mlp): MLPLayer(\n",
       "    (hidden): Linear(in_features=32, out_features=128, bias=True)\n",
       "    (norm): BatchNorm1d(128, eps=1e-05, momentum=0.03, affine=True, track_running_stats=True)\n",
       "    (activate): ReLU()\n",
       "    (output): Linear(in_features=128, out_features=15764, bias=True)\n",
       "  )\n",
       "  (sizemlp): MLPLayerForSize(\n",
       "    (hidden): Linear(in_features=32, out_features=128, bias=True)\n",
       "    (norm): BatchNorm1d(128, eps=1e-05, momentum=0.03, affine=True, track_running_stats=True)\n",
       "    (activate): ReLU()\n",
       "    (output): Linear(in_features=128, out_features=1, bias=True)\n",
       "  )\n",
       "  (relu): ReLU()\n",
       ")"
      ]
     },
     "execution_count": 39,
     "metadata": {},
     "output_type": "execute_result"
    }
   ],
   "source": [
    "my_model = MyModel01(embed_dim=EMBEDDING_DIMENSION, model_dim=MODEL_DIMENSION,  hidden_dim=HIDDEN_DIMENSION,  items_count=items_count ).to(device)\n",
    "optimizer = torch.optim.Adam(my_model.parameters(),lr=LEARNING_RATE)\n",
    "my_model.train()"
   ]
  },
  {
   "cell_type": "code",
   "execution_count": 40,
   "id": "dc547691",
   "metadata": {
    "scrolled": true
   },
   "outputs": [
    {
     "name": "stderr",
     "output_type": "stream",
     "text": [
      "  0%|          | 2/932 [00:00<06:17,  2.46it/s]"
     ]
    },
    {
     "name": "stdout",
     "output_type": "stream",
     "text": [
      "Epoch 1: 0% , Loss: 2.830629\n"
     ]
    },
    {
     "name": "stderr",
     "output_type": "stream",
     "text": [
      " 11%|█         | 102/932 [00:11<01:31,  9.02it/s]"
     ]
    },
    {
     "name": "stdout",
     "output_type": "stream",
     "text": [
      "Epoch 1: 11% , Loss: 2.186007\n"
     ]
    },
    {
     "name": "stderr",
     "output_type": "stream",
     "text": [
      " 22%|██▏       | 202/932 [00:23<01:25,  8.53it/s]"
     ]
    },
    {
     "name": "stdout",
     "output_type": "stream",
     "text": [
      "Epoch 1: 21% , Loss: 2.136039\n"
     ]
    },
    {
     "name": "stderr",
     "output_type": "stream",
     "text": [
      " 32%|███▏      | 302/932 [00:35<01:15,  8.32it/s]"
     ]
    },
    {
     "name": "stdout",
     "output_type": "stream",
     "text": [
      "Epoch 1: 32% , Loss: 4.688589\n"
     ]
    },
    {
     "name": "stderr",
     "output_type": "stream",
     "text": [
      " 43%|████▎     | 402/932 [00:48<01:15,  6.98it/s]"
     ]
    },
    {
     "name": "stdout",
     "output_type": "stream",
     "text": [
      "Epoch 1: 43% , Loss: 1.637696\n"
     ]
    },
    {
     "name": "stderr",
     "output_type": "stream",
     "text": [
      " 54%|█████▍    | 502/932 [01:02<01:01,  7.01it/s]"
     ]
    },
    {
     "name": "stdout",
     "output_type": "stream",
     "text": [
      "Epoch 1: 54% , Loss: 1.262385\n"
     ]
    },
    {
     "name": "stderr",
     "output_type": "stream",
     "text": [
      " 65%|██████▍   | 602/932 [01:16<00:43,  7.51it/s]"
     ]
    },
    {
     "name": "stdout",
     "output_type": "stream",
     "text": [
      "Epoch 1: 64% , Loss: 1.799334\n"
     ]
    },
    {
     "name": "stderr",
     "output_type": "stream",
     "text": [
      " 75%|███████▌  | 702/932 [01:31<00:33,  6.78it/s]"
     ]
    },
    {
     "name": "stdout",
     "output_type": "stream",
     "text": [
      "Epoch 1: 75% , Loss: 1.933906\n"
     ]
    },
    {
     "name": "stderr",
     "output_type": "stream",
     "text": [
      " 86%|████████▌ | 802/932 [01:47<00:20,  6.42it/s]"
     ]
    },
    {
     "name": "stdout",
     "output_type": "stream",
     "text": [
      "Epoch 1: 86% , Loss: 1.384205\n"
     ]
    },
    {
     "name": "stderr",
     "output_type": "stream",
     "text": [
      " 97%|█████████▋| 901/932 [02:04<00:05,  5.74it/s]"
     ]
    },
    {
     "name": "stdout",
     "output_type": "stream",
     "text": [
      "Epoch 1: 97% , Loss: 2.466602\n"
     ]
    },
    {
     "name": "stderr",
     "output_type": "stream",
     "text": [
      "100%|██████████| 932/932 [02:09<00:00,  7.19it/s]\n"
     ]
    },
    {
     "name": "stdout",
     "output_type": "stream",
     "text": [
      "Epoch 1: 100% , Loss: 2.164450\n",
      "                      (F1-score: 0.0112)\n",
      "\n",
      "                      (NDCG: nan)\n",
      "\n",
      "train_loss= tensor(2.1291)\n",
      "--------------------\n"
     ]
    },
    {
     "name": "stderr",
     "output_type": "stream",
     "text": [
      "100%|██████████| 133/133 [00:09<00:00, 14.00it/s]\n"
     ]
    },
    {
     "name": "stdout",
     "output_type": "stream",
     "text": [
      "                      (F1-score: 0.0219)\n",
      "\n",
      "                      (NDCG: nan)\n",
      "\n",
      "val_loss= tensor(1.6558)\n",
      "--------------------\n"
     ]
    },
    {
     "name": "stderr",
     "output_type": "stream",
     "text": [
      "100%|██████████| 266/266 [00:20<00:00, 12.87it/s]\n"
     ]
    },
    {
     "name": "stdout",
     "output_type": "stream",
     "text": [
      "                      (F1-score: 0.0207)\n",
      "\n",
      "                      (NDCG: nan)\n",
      "\n",
      "--------------------\n",
      "[[1, {'F1-score': 0.020696255000910255}, {'NDCG': nan}, 1.6557947397232056]]\n",
      "-----------------------------------------------------------------------------------------\n"
     ]
    },
    {
     "name": "stderr",
     "output_type": "stream",
     "text": [
      "  0%|          | 3/932 [00:00<01:29, 10.38it/s]"
     ]
    },
    {
     "name": "stdout",
     "output_type": "stream",
     "text": [
      "Epoch 2: 0% , Loss: 1.301515\n"
     ]
    },
    {
     "name": "stderr",
     "output_type": "stream",
     "text": [
      " 11%|█         | 102/932 [00:11<01:30,  9.22it/s]"
     ]
    },
    {
     "name": "stdout",
     "output_type": "stream",
     "text": [
      "Epoch 2: 11% , Loss: 1.202678\n"
     ]
    },
    {
     "name": "stderr",
     "output_type": "stream",
     "text": [
      " 22%|██▏       | 202/932 [00:23<01:22,  8.86it/s]"
     ]
    },
    {
     "name": "stdout",
     "output_type": "stream",
     "text": [
      "Epoch 2: 21% , Loss: 1.172063\n"
     ]
    },
    {
     "name": "stderr",
     "output_type": "stream",
     "text": [
      " 32%|███▏      | 302/932 [00:35<01:29,  7.01it/s]"
     ]
    },
    {
     "name": "stdout",
     "output_type": "stream",
     "text": [
      "Epoch 2: 32% , Loss: 1.927994\n"
     ]
    },
    {
     "name": "stderr",
     "output_type": "stream",
     "text": [
      " 43%|████▎     | 401/932 [00:48<01:17,  6.84it/s]"
     ]
    },
    {
     "name": "stdout",
     "output_type": "stream",
     "text": [
      "Epoch 2: 43% , Loss: 1.275150\n"
     ]
    },
    {
     "name": "stderr",
     "output_type": "stream",
     "text": [
      " 54%|█████▍    | 502/932 [01:02<01:01,  7.00it/s]"
     ]
    },
    {
     "name": "stdout",
     "output_type": "stream",
     "text": [
      "Epoch 2: 54% , Loss: 1.270208\n"
     ]
    },
    {
     "name": "stderr",
     "output_type": "stream",
     "text": [
      " 65%|██████▍   | 602/932 [01:17<00:50,  6.54it/s]"
     ]
    },
    {
     "name": "stdout",
     "output_type": "stream",
     "text": [
      "Epoch 2: 64% , Loss: 1.522051\n"
     ]
    },
    {
     "name": "stderr",
     "output_type": "stream",
     "text": [
      " 75%|███████▌  | 702/932 [01:32<00:33,  6.84it/s]"
     ]
    },
    {
     "name": "stdout",
     "output_type": "stream",
     "text": [
      "Epoch 2: 75% , Loss: 1.685245\n"
     ]
    },
    {
     "name": "stderr",
     "output_type": "stream",
     "text": [
      " 86%|████████▌ | 801/932 [01:48<00:20,  6.46it/s]"
     ]
    },
    {
     "name": "stdout",
     "output_type": "stream",
     "text": [
      "Epoch 2: 86% , Loss: 2.365208\n"
     ]
    },
    {
     "name": "stderr",
     "output_type": "stream",
     "text": [
      " 97%|█████████▋| 901/932 [02:04<00:05,  5.89it/s]"
     ]
    },
    {
     "name": "stdout",
     "output_type": "stream",
     "text": [
      "Epoch 2: 97% , Loss: 1.311161\n"
     ]
    },
    {
     "name": "stderr",
     "output_type": "stream",
     "text": [
      "100%|██████████| 932/932 [02:09<00:00,  7.19it/s]\n"
     ]
    },
    {
     "name": "stdout",
     "output_type": "stream",
     "text": [
      "Epoch 2: 100% , Loss: 3.237815\n",
      "                      (F1-score: 0.0178)\n",
      "\n",
      "                      (NDCG: nan)\n",
      "\n",
      "train_loss= tensor(1.6753)\n",
      "--------------------\n"
     ]
    },
    {
     "name": "stderr",
     "output_type": "stream",
     "text": [
      "100%|██████████| 133/133 [00:09<00:00, 14.10it/s]\n"
     ]
    },
    {
     "name": "stdout",
     "output_type": "stream",
     "text": [
      "                      (F1-score: 0.0038)\n",
      "\n",
      "                      (NDCG: nan)\n",
      "\n",
      "val_loss= tensor(1.5131)\n",
      "--------------------\n"
     ]
    },
    {
     "name": "stderr",
     "output_type": "stream",
     "text": [
      "100%|██████████| 266/266 [00:20<00:00, 12.76it/s]\n"
     ]
    },
    {
     "name": "stdout",
     "output_type": "stream",
     "text": [
      "                      (F1-score: 0.0027)\n",
      "\n",
      "                      (NDCG: nan)\n",
      "\n",
      "--------------------\n",
      "[[1, {'F1-score': 0.020696255000910255}, {'NDCG': nan}, 1.6557947397232056], [2, {'F1-score': 0.0026908073907922344}, {'NDCG': nan}, 1.5130956172943115]]\n",
      "-----------------------------------------------------------------------------------------\n"
     ]
    },
    {
     "name": "stderr",
     "output_type": "stream",
     "text": [
      "  0%|          | 2/932 [00:00<01:43,  9.03it/s]"
     ]
    },
    {
     "name": "stdout",
     "output_type": "stream",
     "text": [
      "Epoch 3: 0% , Loss: 1.133780\n"
     ]
    },
    {
     "name": "stderr",
     "output_type": "stream",
     "text": [
      " 11%|█         | 102/932 [00:11<01:34,  8.81it/s]"
     ]
    },
    {
     "name": "stdout",
     "output_type": "stream",
     "text": [
      "Epoch 3: 11% , Loss: 1.284716\n"
     ]
    },
    {
     "name": "stderr",
     "output_type": "stream",
     "text": [
      " 22%|██▏       | 202/932 [00:22<01:23,  8.72it/s]"
     ]
    },
    {
     "name": "stdout",
     "output_type": "stream",
     "text": [
      "Epoch 3: 21% , Loss: 0.818323\n"
     ]
    },
    {
     "name": "stderr",
     "output_type": "stream",
     "text": [
      " 32%|███▏      | 302/932 [00:35<01:20,  7.84it/s]"
     ]
    },
    {
     "name": "stdout",
     "output_type": "stream",
     "text": [
      "Epoch 3: 32% , Loss: 0.854330\n"
     ]
    },
    {
     "name": "stderr",
     "output_type": "stream",
     "text": [
      " 43%|████▎     | 402/932 [00:48<01:13,  7.25it/s]"
     ]
    },
    {
     "name": "stdout",
     "output_type": "stream",
     "text": [
      "Epoch 3: 43% , Loss: 1.313970\n"
     ]
    },
    {
     "name": "stderr",
     "output_type": "stream",
     "text": [
      " 54%|█████▍    | 502/932 [01:02<01:01,  7.03it/s]"
     ]
    },
    {
     "name": "stdout",
     "output_type": "stream",
     "text": [
      "Epoch 3: 54% , Loss: 2.479207\n"
     ]
    },
    {
     "name": "stderr",
     "output_type": "stream",
     "text": [
      " 65%|██████▍   | 602/932 [01:16<00:46,  7.09it/s]"
     ]
    },
    {
     "name": "stdout",
     "output_type": "stream",
     "text": [
      "Epoch 3: 64% , Loss: 1.481470\n"
     ]
    },
    {
     "name": "stderr",
     "output_type": "stream",
     "text": [
      " 75%|███████▌  | 702/932 [01:32<00:36,  6.31it/s]"
     ]
    },
    {
     "name": "stdout",
     "output_type": "stream",
     "text": [
      "Epoch 3: 75% , Loss: 1.954983\n"
     ]
    },
    {
     "name": "stderr",
     "output_type": "stream",
     "text": [
      " 86%|████████▌ | 801/932 [01:47<00:19,  6.73it/s]"
     ]
    },
    {
     "name": "stdout",
     "output_type": "stream",
     "text": [
      "Epoch 3: 86% , Loss: 1.521164\n"
     ]
    },
    {
     "name": "stderr",
     "output_type": "stream",
     "text": [
      " 97%|█████████▋| 901/932 [02:04<00:05,  5.38it/s]"
     ]
    },
    {
     "name": "stdout",
     "output_type": "stream",
     "text": [
      "Epoch 3: 97% , Loss: 2.383784\n"
     ]
    },
    {
     "name": "stderr",
     "output_type": "stream",
     "text": [
      "100%|██████████| 932/932 [02:09<00:00,  7.20it/s]"
     ]
    },
    {
     "name": "stdout",
     "output_type": "stream",
     "text": [
      "Epoch 3: 100% , Loss: 1.539929\n"
     ]
    },
    {
     "name": "stderr",
     "output_type": "stream",
     "text": [
      "\n"
     ]
    },
    {
     "name": "stdout",
     "output_type": "stream",
     "text": [
      "                      (F1-score: 0.0061)\n",
      "\n",
      "                      (NDCG: nan)\n",
      "\n",
      "train_loss= tensor(1.5699)\n",
      "--------------------\n"
     ]
    },
    {
     "name": "stderr",
     "output_type": "stream",
     "text": [
      "100%|██████████| 133/133 [00:09<00:00, 13.81it/s]\n"
     ]
    },
    {
     "name": "stdout",
     "output_type": "stream",
     "text": [
      "                      (F1-score: 0.0015)\n",
      "\n",
      "                      (NDCG: nan)\n",
      "\n",
      "val_loss= tensor(1.4252)\n",
      "--------------------\n"
     ]
    },
    {
     "name": "stderr",
     "output_type": "stream",
     "text": [
      "100%|██████████| 266/266 [00:20<00:00, 12.85it/s]\n"
     ]
    },
    {
     "name": "stdout",
     "output_type": "stream",
     "text": [
      "                      (F1-score: 0.0004)\n",
      "\n",
      "                      (NDCG: nan)\n",
      "\n",
      "--------------------\n",
      "[[1, {'F1-score': 0.020696255000910255}, {'NDCG': nan}, 1.6557947397232056], [2, {'F1-score': 0.0026908073907922344}, {'NDCG': nan}, 1.5130956172943115], [3, {'F1-score': 0.00035244360902255637}, {'NDCG': nan}, 1.4251788854599]]\n",
      "-----------------------------------------------------------------------------------------\n"
     ]
    },
    {
     "name": "stderr",
     "output_type": "stream",
     "text": [
      "  0%|          | 3/932 [00:00<01:41,  9.12it/s]"
     ]
    },
    {
     "name": "stdout",
     "output_type": "stream",
     "text": [
      "Epoch 4: 0% , Loss: 1.984684\n"
     ]
    },
    {
     "name": "stderr",
     "output_type": "stream",
     "text": [
      " 11%|█         | 102/932 [00:11<01:28,  9.40it/s]"
     ]
    },
    {
     "name": "stdout",
     "output_type": "stream",
     "text": [
      "Epoch 4: 11% , Loss: 0.755836\n"
     ]
    },
    {
     "name": "stderr",
     "output_type": "stream",
     "text": [
      " 22%|██▏       | 202/932 [00:23<01:38,  7.43it/s]"
     ]
    },
    {
     "name": "stdout",
     "output_type": "stream",
     "text": [
      "Epoch 4: 21% , Loss: 2.209101\n"
     ]
    },
    {
     "name": "stderr",
     "output_type": "stream",
     "text": [
      " 32%|███▏      | 302/932 [00:36<01:17,  8.12it/s]"
     ]
    },
    {
     "name": "stdout",
     "output_type": "stream",
     "text": [
      "Epoch 4: 32% , Loss: 0.943020\n"
     ]
    },
    {
     "name": "stderr",
     "output_type": "stream",
     "text": [
      " 43%|████▎     | 402/932 [00:49<01:11,  7.40it/s]"
     ]
    },
    {
     "name": "stdout",
     "output_type": "stream",
     "text": [
      "Epoch 4: 43% , Loss: 0.790623\n"
     ]
    },
    {
     "name": "stderr",
     "output_type": "stream",
     "text": [
      " 54%|█████▍    | 502/932 [01:02<00:59,  7.26it/s]"
     ]
    },
    {
     "name": "stdout",
     "output_type": "stream",
     "text": [
      "Epoch 4: 54% , Loss: 1.064283\n"
     ]
    },
    {
     "name": "stderr",
     "output_type": "stream",
     "text": [
      " 65%|██████▍   | 602/932 [01:17<00:47,  7.00it/s]"
     ]
    },
    {
     "name": "stdout",
     "output_type": "stream",
     "text": [
      "Epoch 4: 64% , Loss: 4.687668\n"
     ]
    },
    {
     "name": "stderr",
     "output_type": "stream",
     "text": [
      " 75%|███████▌  | 702/932 [01:32<00:33,  6.92it/s]"
     ]
    },
    {
     "name": "stdout",
     "output_type": "stream",
     "text": [
      "Epoch 4: 75% , Loss: 1.461095\n"
     ]
    },
    {
     "name": "stderr",
     "output_type": "stream",
     "text": [
      " 86%|████████▌ | 801/932 [01:47<00:23,  5.49it/s]"
     ]
    },
    {
     "name": "stdout",
     "output_type": "stream",
     "text": [
      "Epoch 4: 86% , Loss: 3.690417\n"
     ]
    },
    {
     "name": "stderr",
     "output_type": "stream",
     "text": [
      " 97%|█████████▋| 901/932 [02:04<00:05,  6.00it/s]"
     ]
    },
    {
     "name": "stdout",
     "output_type": "stream",
     "text": [
      "Epoch 4: 97% , Loss: 1.088547\n"
     ]
    },
    {
     "name": "stderr",
     "output_type": "stream",
     "text": [
      "100%|██████████| 932/932 [02:09<00:00,  7.20it/s]\n"
     ]
    },
    {
     "name": "stdout",
     "output_type": "stream",
     "text": [
      "Epoch 4: 100% , Loss: 1.495231\n",
      "                      (F1-score: 0.0016)\n",
      "\n",
      "                      (NDCG: nan)\n",
      "\n",
      "train_loss= tensor(1.4847)\n",
      "--------------------\n"
     ]
    },
    {
     "name": "stderr",
     "output_type": "stream",
     "text": [
      "100%|██████████| 133/133 [00:09<00:00, 13.67it/s]\n"
     ]
    },
    {
     "name": "stdout",
     "output_type": "stream",
     "text": [
      "                      (F1-score: 0.0001)\n",
      "\n",
      "                      (NDCG: nan)\n",
      "\n",
      "val_loss= tensor(1.3018)\n",
      "--------------------\n"
     ]
    },
    {
     "name": "stderr",
     "output_type": "stream",
     "text": [
      "100%|██████████| 266/266 [00:20<00:00, 12.68it/s]\n"
     ]
    },
    {
     "name": "stdout",
     "output_type": "stream",
     "text": [
      "                      (F1-score: 0.0004)\n",
      "\n",
      "                      (NDCG: nan)\n",
      "\n",
      "--------------------\n",
      "[[1, {'F1-score': 0.020696255000910255}, {'NDCG': nan}, 1.6557947397232056], [2, {'F1-score': 0.0026908073907922344}, {'NDCG': nan}, 1.5130956172943115], [3, {'F1-score': 0.00035244360902255637}, {'NDCG': nan}, 1.4251788854599], [4, {'F1-score': 0.0003512840542915731}, {'NDCG': nan}, 1.3017510175704956]]\n",
      "-----------------------------------------------------------------------------------------\n"
     ]
    },
    {
     "name": "stderr",
     "output_type": "stream",
     "text": [
      "  0%|          | 2/932 [00:00<01:44,  8.89it/s]"
     ]
    },
    {
     "name": "stdout",
     "output_type": "stream",
     "text": [
      "Epoch 5: 0% , Loss: 1.570406\n"
     ]
    },
    {
     "name": "stderr",
     "output_type": "stream",
     "text": [
      " 11%|█         | 102/932 [00:11<01:34,  8.75it/s]"
     ]
    },
    {
     "name": "stdout",
     "output_type": "stream",
     "text": [
      "Epoch 5: 11% , Loss: 1.048449\n"
     ]
    },
    {
     "name": "stderr",
     "output_type": "stream",
     "text": [
      " 22%|██▏       | 202/932 [00:23<01:25,  8.58it/s]"
     ]
    },
    {
     "name": "stdout",
     "output_type": "stream",
     "text": [
      "Epoch 5: 21% , Loss: 0.981035\n"
     ]
    },
    {
     "name": "stderr",
     "output_type": "stream",
     "text": [
      " 32%|███▏      | 302/932 [00:36<01:25,  7.40it/s]"
     ]
    },
    {
     "name": "stdout",
     "output_type": "stream",
     "text": [
      "Epoch 5: 32% , Loss: 1.028659\n"
     ]
    },
    {
     "name": "stderr",
     "output_type": "stream",
     "text": [
      " 43%|████▎     | 402/932 [00:49<01:09,  7.60it/s]"
     ]
    },
    {
     "name": "stdout",
     "output_type": "stream",
     "text": [
      "Epoch 5: 43% , Loss: 3.747996\n"
     ]
    },
    {
     "name": "stderr",
     "output_type": "stream",
     "text": [
      " 54%|█████▍    | 502/932 [01:02<00:57,  7.44it/s]"
     ]
    },
    {
     "name": "stdout",
     "output_type": "stream",
     "text": [
      "Epoch 5: 54% , Loss: 0.911108\n"
     ]
    },
    {
     "name": "stderr",
     "output_type": "stream",
     "text": [
      " 64%|██████▍   | 601/932 [01:17<00:53,  6.16it/s]"
     ]
    },
    {
     "name": "stdout",
     "output_type": "stream",
     "text": [
      "Epoch 5: 64% , Loss: 1.651673\n"
     ]
    },
    {
     "name": "stderr",
     "output_type": "stream",
     "text": [
      " 75%|███████▌  | 701/932 [01:32<00:38,  6.07it/s]"
     ]
    },
    {
     "name": "stdout",
     "output_type": "stream",
     "text": [
      "Epoch 5: 75% , Loss: 2.322184\n"
     ]
    },
    {
     "name": "stderr",
     "output_type": "stream",
     "text": [
      " 86%|████████▌ | 802/932 [01:47<00:19,  6.73it/s]"
     ]
    },
    {
     "name": "stdout",
     "output_type": "stream",
     "text": [
      "Epoch 5: 86% , Loss: 1.269775\n"
     ]
    },
    {
     "name": "stderr",
     "output_type": "stream",
     "text": [
      " 97%|█████████▋| 901/932 [02:04<00:05,  5.88it/s]"
     ]
    },
    {
     "name": "stdout",
     "output_type": "stream",
     "text": [
      "Epoch 5: 97% , Loss: 0.924601\n"
     ]
    },
    {
     "name": "stderr",
     "output_type": "stream",
     "text": [
      "100%|██████████| 932/932 [02:09<00:00,  7.21it/s]\n"
     ]
    },
    {
     "name": "stdout",
     "output_type": "stream",
     "text": [
      "Epoch 5: 100% , Loss: 0.940858\n",
      "                      (F1-score: 0.0005)\n",
      "\n",
      "                      (NDCG: nan)\n",
      "\n",
      "train_loss= tensor(1.4057)\n",
      "--------------------\n"
     ]
    },
    {
     "name": "stderr",
     "output_type": "stream",
     "text": [
      "100%|██████████| 133/133 [00:09<00:00, 13.84it/s]\n"
     ]
    },
    {
     "name": "stdout",
     "output_type": "stream",
     "text": [
      "                      (F1-score: 0.0001)\n",
      "\n",
      "                      (NDCG: nan)\n",
      "\n",
      "val_loss= tensor(1.1992)\n",
      "--------------------\n"
     ]
    },
    {
     "name": "stderr",
     "output_type": "stream",
     "text": [
      "100%|██████████| 266/266 [00:20<00:00, 12.78it/s]\n"
     ]
    },
    {
     "name": "stdout",
     "output_type": "stream",
     "text": [
      "                      (F1-score: 0.0001)\n",
      "\n",
      "                      (NDCG: nan)\n",
      "\n",
      "--------------------\n",
      "[[1, {'F1-score': 0.020696255000910255}, {'NDCG': nan}, 1.6557947397232056], [2, {'F1-score': 0.0026908073907922344}, {'NDCG': nan}, 1.5130956172943115], [3, {'F1-score': 0.00035244360902255637}, {'NDCG': nan}, 1.4251788854599], [4, {'F1-score': 0.0003512840542915731}, {'NDCG': nan}, 1.3017510175704956], [5, {'F1-score': 7.374204742625796e-05}, {'NDCG': nan}, 1.199181079864502]]\n",
      "-----------------------------------------------------------------------------------------\n"
     ]
    },
    {
     "name": "stderr",
     "output_type": "stream",
     "text": [
      "  0%|          | 2/932 [00:00<01:35,  9.74it/s]"
     ]
    },
    {
     "name": "stdout",
     "output_type": "stream",
     "text": [
      "Epoch 6: 0% , Loss: 0.792570\n"
     ]
    },
    {
     "name": "stderr",
     "output_type": "stream",
     "text": [
      " 11%|█         | 102/932 [00:11<01:29,  9.26it/s]"
     ]
    },
    {
     "name": "stdout",
     "output_type": "stream",
     "text": [
      "Epoch 6: 11% , Loss: 0.930185\n"
     ]
    },
    {
     "name": "stderr",
     "output_type": "stream",
     "text": [
      " 22%|██▏       | 202/932 [00:23<01:25,  8.50it/s]"
     ]
    },
    {
     "name": "stdout",
     "output_type": "stream",
     "text": [
      "Epoch 6: 21% , Loss: 0.887730\n"
     ]
    },
    {
     "name": "stderr",
     "output_type": "stream",
     "text": [
      " 32%|███▏      | 302/932 [00:35<01:24,  7.49it/s]"
     ]
    },
    {
     "name": "stdout",
     "output_type": "stream",
     "text": [
      "Epoch 6: 32% , Loss: 0.842237\n"
     ]
    },
    {
     "name": "stderr",
     "output_type": "stream",
     "text": [
      " 43%|████▎     | 402/932 [00:48<01:12,  7.34it/s]"
     ]
    },
    {
     "name": "stdout",
     "output_type": "stream",
     "text": [
      "Epoch 6: 43% , Loss: 0.467582\n"
     ]
    },
    {
     "name": "stderr",
     "output_type": "stream",
     "text": [
      " 54%|█████▍    | 502/932 [01:02<00:57,  7.42it/s]"
     ]
    },
    {
     "name": "stdout",
     "output_type": "stream",
     "text": [
      "Epoch 6: 54% , Loss: 0.658014\n"
     ]
    },
    {
     "name": "stderr",
     "output_type": "stream",
     "text": [
      " 64%|██████▍   | 601/932 [01:16<00:46,  7.08it/s]"
     ]
    },
    {
     "name": "stdout",
     "output_type": "stream",
     "text": [
      "Epoch 6: 64% , Loss: 1.305615\n"
     ]
    },
    {
     "name": "stderr",
     "output_type": "stream",
     "text": [
      " 75%|███████▌  | 701/932 [01:31<00:36,  6.25it/s]"
     ]
    },
    {
     "name": "stdout",
     "output_type": "stream",
     "text": [
      "Epoch 6: 75% , Loss: 2.285968\n"
     ]
    },
    {
     "name": "stderr",
     "output_type": "stream",
     "text": [
      " 86%|████████▌ | 801/932 [01:47<00:21,  6.09it/s]"
     ]
    },
    {
     "name": "stdout",
     "output_type": "stream",
     "text": [
      "Epoch 6: 86% , Loss: 0.648080\n"
     ]
    },
    {
     "name": "stderr",
     "output_type": "stream",
     "text": [
      " 97%|█████████▋| 901/932 [02:03<00:04,  6.33it/s]"
     ]
    },
    {
     "name": "stdout",
     "output_type": "stream",
     "text": [
      "Epoch 6: 97% , Loss: 1.321592\n"
     ]
    },
    {
     "name": "stderr",
     "output_type": "stream",
     "text": [
      "100%|██████████| 932/932 [02:09<00:00,  7.22it/s]\n"
     ]
    },
    {
     "name": "stdout",
     "output_type": "stream",
     "text": [
      "Epoch 6: 100% , Loss: 0.878386\n",
      "                      (F1-score: 0.0001)\n",
      "\n",
      "                      (NDCG: nan)\n",
      "\n",
      "train_loss= tensor(1.3170)\n",
      "--------------------\n"
     ]
    },
    {
     "name": "stderr",
     "output_type": "stream",
     "text": [
      "100%|██████████| 133/133 [00:09<00:00, 13.76it/s]\n"
     ]
    },
    {
     "name": "stdout",
     "output_type": "stream",
     "text": [
      "                      (F1-score: 0.0001)\n",
      "\n",
      "                      (NDCG: nan)\n",
      "\n",
      "val_loss= tensor(1.1399)\n",
      "--------------------\n"
     ]
    },
    {
     "name": "stderr",
     "output_type": "stream",
     "text": [
      "100%|██████████| 266/266 [00:20<00:00, 12.79it/s]\n"
     ]
    },
    {
     "name": "stdout",
     "output_type": "stream",
     "text": [
      "                      (F1-score: 0.0000)\n",
      "\n",
      "                      (NDCG: nan)\n",
      "\n",
      "--------------------\n",
      "[[1, {'F1-score': 0.020696255000910255}, {'NDCG': nan}, 1.6557947397232056], [2, {'F1-score': 0.0026908073907922344}, {'NDCG': nan}, 1.5130956172943115], [3, {'F1-score': 0.00035244360902255637}, {'NDCG': nan}, 1.4251788854599], [4, {'F1-score': 0.0003512840542915731}, {'NDCG': nan}, 1.3017510175704956], [5, {'F1-score': 7.374204742625796e-05}, {'NDCG': nan}, 1.199181079864502], [6, {'F1-score': 3.614806246385194e-05}, {'NDCG': nan}, 1.139860987663269]]\n",
      "-----------------------------------------------------------------------------------------\n"
     ]
    },
    {
     "name": "stderr",
     "output_type": "stream",
     "text": [
      "  0%|          | 1/932 [00:00<01:34,  9.81it/s]"
     ]
    },
    {
     "name": "stdout",
     "output_type": "stream",
     "text": [
      "Epoch 7: 0% , Loss: 1.512228\n"
     ]
    },
    {
     "name": "stderr",
     "output_type": "stream",
     "text": [
      " 11%|█         | 102/932 [00:11<01:32,  8.98it/s]"
     ]
    },
    {
     "name": "stdout",
     "output_type": "stream",
     "text": [
      "Epoch 7: 11% , Loss: 1.882218\n"
     ]
    },
    {
     "name": "stderr",
     "output_type": "stream",
     "text": [
      " 22%|██▏       | 202/932 [00:22<01:25,  8.51it/s]"
     ]
    },
    {
     "name": "stdout",
     "output_type": "stream",
     "text": [
      "Epoch 7: 21% , Loss: 1.063640\n"
     ]
    },
    {
     "name": "stderr",
     "output_type": "stream",
     "text": [
      " 32%|███▏      | 302/932 [00:35<01:21,  7.78it/s]"
     ]
    },
    {
     "name": "stdout",
     "output_type": "stream",
     "text": [
      "Epoch 7: 32% , Loss: 0.908163\n"
     ]
    },
    {
     "name": "stderr",
     "output_type": "stream",
     "text": [
      " 43%|████▎     | 402/932 [00:48<01:11,  7.39it/s]"
     ]
    },
    {
     "name": "stdout",
     "output_type": "stream",
     "text": [
      "Epoch 7: 43% , Loss: 3.217016\n"
     ]
    },
    {
     "name": "stderr",
     "output_type": "stream",
     "text": [
      " 54%|█████▍    | 502/932 [01:02<00:59,  7.19it/s]"
     ]
    },
    {
     "name": "stdout",
     "output_type": "stream",
     "text": [
      "Epoch 7: 54% , Loss: 0.596928\n"
     ]
    },
    {
     "name": "stderr",
     "output_type": "stream",
     "text": [
      " 65%|██████▍   | 602/932 [01:16<00:47,  6.94it/s]"
     ]
    },
    {
     "name": "stdout",
     "output_type": "stream",
     "text": [
      "Epoch 7: 64% , Loss: 0.710025\n"
     ]
    },
    {
     "name": "stderr",
     "output_type": "stream",
     "text": [
      " 75%|███████▌  | 701/932 [01:31<00:36,  6.25it/s]"
     ]
    },
    {
     "name": "stdout",
     "output_type": "stream",
     "text": [
      "Epoch 7: 75% , Loss: 1.084177\n"
     ]
    },
    {
     "name": "stderr",
     "output_type": "stream",
     "text": [
      " 86%|████████▌ | 801/932 [01:47<00:20,  6.26it/s]"
     ]
    },
    {
     "name": "stdout",
     "output_type": "stream",
     "text": [
      "Epoch 7: 86% , Loss: 0.510702\n"
     ]
    },
    {
     "name": "stderr",
     "output_type": "stream",
     "text": [
      " 97%|█████████▋| 901/932 [02:03<00:05,  6.11it/s]"
     ]
    },
    {
     "name": "stdout",
     "output_type": "stream",
     "text": [
      "Epoch 7: 97% , Loss: 0.766709\n"
     ]
    },
    {
     "name": "stderr",
     "output_type": "stream",
     "text": [
      "100%|██████████| 932/932 [02:09<00:00,  7.22it/s]\n"
     ]
    },
    {
     "name": "stdout",
     "output_type": "stream",
     "text": [
      "Epoch 7: 100% , Loss: 0.957597\n",
      "                      (F1-score: 0.0001)\n",
      "\n",
      "                      (NDCG: nan)\n",
      "\n",
      "train_loss= tensor(1.2304)\n",
      "--------------------\n"
     ]
    },
    {
     "name": "stderr",
     "output_type": "stream",
     "text": [
      "100%|██████████| 133/133 [00:09<00:00, 13.94it/s]\n"
     ]
    },
    {
     "name": "stdout",
     "output_type": "stream",
     "text": [
      "                      (F1-score: 0.0001)\n",
      "\n",
      "                      (NDCG: nan)\n",
      "\n",
      "val_loss= tensor(1.0200)\n",
      "--------------------\n"
     ]
    },
    {
     "name": "stderr",
     "output_type": "stream",
     "text": [
      "100%|██████████| 266/266 [00:20<00:00, 12.70it/s]\n"
     ]
    },
    {
     "name": "stdout",
     "output_type": "stream",
     "text": [
      "                      (F1-score: 0.0000)\n",
      "\n",
      "                      (NDCG: nan)\n",
      "\n",
      "--------------------\n",
      "[[1, {'F1-score': 0.020696255000910255}, {'NDCG': nan}, 1.6557947397232056], [2, {'F1-score': 0.0026908073907922344}, {'NDCG': nan}, 1.5130956172943115], [3, {'F1-score': 0.00035244360902255637}, {'NDCG': nan}, 1.4251788854599], [4, {'F1-score': 0.0003512840542915731}, {'NDCG': nan}, 1.3017510175704956], [5, {'F1-score': 7.374204742625796e-05}, {'NDCG': nan}, 1.199181079864502], [6, {'F1-score': 3.614806246385194e-05}, {'NDCG': nan}, 1.139860987663269], [7, {'F1-score': 3.480924533556112e-05}, {'NDCG': nan}, 1.0200258493423462]]\n",
      "-----------------------------------------------------------------------------------------\n"
     ]
    },
    {
     "name": "stderr",
     "output_type": "stream",
     "text": [
      "  0%|          | 2/932 [00:00<01:34,  9.88it/s]"
     ]
    },
    {
     "name": "stdout",
     "output_type": "stream",
     "text": [
      "Epoch 8: 0% , Loss: 0.939918\n"
     ]
    },
    {
     "name": "stderr",
     "output_type": "stream",
     "text": [
      " 11%|█         | 102/932 [00:12<02:02,  6.79it/s]"
     ]
    },
    {
     "name": "stdout",
     "output_type": "stream",
     "text": [
      "Epoch 8: 11% , Loss: 2.082853\n"
     ]
    },
    {
     "name": "stderr",
     "output_type": "stream",
     "text": [
      " 22%|██▏       | 202/932 [00:23<01:31,  8.01it/s]"
     ]
    },
    {
     "name": "stdout",
     "output_type": "stream",
     "text": [
      "Epoch 8: 21% , Loss: 1.418008\n"
     ]
    },
    {
     "name": "stderr",
     "output_type": "stream",
     "text": [
      " 32%|███▏      | 302/932 [00:35<01:14,  8.44it/s]"
     ]
    },
    {
     "name": "stdout",
     "output_type": "stream",
     "text": [
      "Epoch 8: 32% , Loss: 0.902824\n"
     ]
    },
    {
     "name": "stderr",
     "output_type": "stream",
     "text": [
      " 43%|████▎     | 402/932 [00:48<01:14,  7.13it/s]"
     ]
    },
    {
     "name": "stdout",
     "output_type": "stream",
     "text": [
      "Epoch 8: 43% , Loss: 0.708468\n"
     ]
    },
    {
     "name": "stderr",
     "output_type": "stream",
     "text": [
      " 54%|█████▍    | 502/932 [01:02<00:59,  7.17it/s]"
     ]
    },
    {
     "name": "stdout",
     "output_type": "stream",
     "text": [
      "Epoch 8: 54% , Loss: 1.471915\n"
     ]
    },
    {
     "name": "stderr",
     "output_type": "stream",
     "text": [
      " 65%|██████▍   | 602/932 [01:17<00:49,  6.70it/s]"
     ]
    },
    {
     "name": "stdout",
     "output_type": "stream",
     "text": [
      "Epoch 8: 64% , Loss: 1.294457\n"
     ]
    },
    {
     "name": "stderr",
     "output_type": "stream",
     "text": [
      " 75%|███████▌  | 701/932 [01:31<00:34,  6.69it/s]"
     ]
    },
    {
     "name": "stdout",
     "output_type": "stream",
     "text": [
      "Epoch 8: 75% , Loss: 1.394378\n"
     ]
    },
    {
     "name": "stderr",
     "output_type": "stream",
     "text": [
      " 86%|████████▌ | 801/932 [01:47<00:20,  6.41it/s]"
     ]
    },
    {
     "name": "stdout",
     "output_type": "stream",
     "text": [
      "Epoch 8: 86% , Loss: 1.085518\n"
     ]
    },
    {
     "name": "stderr",
     "output_type": "stream",
     "text": [
      " 97%|█████████▋| 901/932 [02:04<00:05,  5.85it/s]"
     ]
    },
    {
     "name": "stdout",
     "output_type": "stream",
     "text": [
      "Epoch 8: 97% , Loss: 0.553555\n"
     ]
    },
    {
     "name": "stderr",
     "output_type": "stream",
     "text": [
      "100%|██████████| 932/932 [02:09<00:00,  7.21it/s]\n"
     ]
    },
    {
     "name": "stdout",
     "output_type": "stream",
     "text": [
      "Epoch 8: 100% , Loss: 0.832940\n",
      "                      (F1-score: 0.0000)\n",
      "\n",
      "                      (NDCG: nan)\n",
      "\n",
      "train_loss= tensor(1.1571)\n",
      "--------------------\n"
     ]
    },
    {
     "name": "stderr",
     "output_type": "stream",
     "text": [
      "100%|██████████| 133/133 [00:09<00:00, 13.91it/s]\n"
     ]
    },
    {
     "name": "stdout",
     "output_type": "stream",
     "text": [
      "                      (F1-score: 0.0001)\n",
      "\n",
      "                      (NDCG: nan)\n",
      "\n",
      "val_loss= tensor(0.9639)\n",
      "--------------------\n"
     ]
    },
    {
     "name": "stderr",
     "output_type": "stream",
     "text": [
      "100%|██████████| 266/266 [00:20<00:00, 12.83it/s]\n"
     ]
    },
    {
     "name": "stdout",
     "output_type": "stream",
     "text": [
      "                      (F1-score: 0.0000)\n",
      "\n",
      "                      (NDCG: nan)\n",
      "\n",
      "--------------------\n",
      "[[1, {'F1-score': 0.020696255000910255}, {'NDCG': nan}, 1.6557947397232056], [2, {'F1-score': 0.0026908073907922344}, {'NDCG': nan}, 1.5130956172943115], [3, {'F1-score': 0.00035244360902255637}, {'NDCG': nan}, 1.4251788854599], [4, {'F1-score': 0.0003512840542915731}, {'NDCG': nan}, 1.3017510175704956], [5, {'F1-score': 7.374204742625796e-05}, {'NDCG': nan}, 1.199181079864502], [6, {'F1-score': 3.614806246385194e-05}, {'NDCG': nan}, 1.139860987663269], [7, {'F1-score': 3.480924533556112e-05}, {'NDCG': nan}, 1.0200258493423462], [8, {'F1-score': 3.480924533556112e-05}, {'NDCG': nan}, 0.9639192819595337]]\n",
      "-----------------------------------------------------------------------------------------\n"
     ]
    },
    {
     "name": "stderr",
     "output_type": "stream",
     "text": [
      "  0%|          | 2/932 [00:00<01:36,  9.61it/s]"
     ]
    },
    {
     "name": "stdout",
     "output_type": "stream",
     "text": [
      "Epoch 9: 0% , Loss: 0.680203\n"
     ]
    },
    {
     "name": "stderr",
     "output_type": "stream",
     "text": [
      " 11%|█         | 102/932 [00:11<01:34,  8.79it/s]"
     ]
    },
    {
     "name": "stdout",
     "output_type": "stream",
     "text": [
      "Epoch 9: 11% , Loss: 0.630695\n"
     ]
    },
    {
     "name": "stderr",
     "output_type": "stream",
     "text": [
      " 22%|██▏       | 202/932 [00:23<01:29,  8.18it/s]"
     ]
    },
    {
     "name": "stdout",
     "output_type": "stream",
     "text": [
      "Epoch 9: 21% , Loss: 0.553522\n"
     ]
    },
    {
     "name": "stderr",
     "output_type": "stream",
     "text": [
      " 32%|███▏      | 302/932 [00:35<01:20,  7.85it/s]"
     ]
    },
    {
     "name": "stdout",
     "output_type": "stream",
     "text": [
      "Epoch 9: 32% , Loss: 0.672850\n"
     ]
    },
    {
     "name": "stderr",
     "output_type": "stream",
     "text": [
      " 43%|████▎     | 402/932 [00:48<01:11,  7.44it/s]"
     ]
    },
    {
     "name": "stdout",
     "output_type": "stream",
     "text": [
      "Epoch 9: 43% , Loss: 0.524847\n"
     ]
    },
    {
     "name": "stderr",
     "output_type": "stream",
     "text": [
      " 54%|█████▍    | 502/932 [01:02<01:00,  7.16it/s]"
     ]
    },
    {
     "name": "stdout",
     "output_type": "stream",
     "text": [
      "Epoch 9: 54% , Loss: 11.390653\n"
     ]
    },
    {
     "name": "stderr",
     "output_type": "stream",
     "text": [
      " 65%|██████▍   | 602/932 [01:17<00:50,  6.60it/s]"
     ]
    },
    {
     "name": "stdout",
     "output_type": "stream",
     "text": [
      "Epoch 9: 64% , Loss: 1.421292\n"
     ]
    },
    {
     "name": "stderr",
     "output_type": "stream",
     "text": [
      " 75%|███████▌  | 702/932 [01:32<00:33,  6.79it/s]"
     ]
    },
    {
     "name": "stdout",
     "output_type": "stream",
     "text": [
      "Epoch 9: 75% , Loss: 0.711422\n"
     ]
    },
    {
     "name": "stderr",
     "output_type": "stream",
     "text": [
      " 86%|████████▌ | 801/932 [01:47<00:22,  5.73it/s]"
     ]
    },
    {
     "name": "stdout",
     "output_type": "stream",
     "text": [
      "Epoch 9: 86% , Loss: 1.036177\n"
     ]
    },
    {
     "name": "stderr",
     "output_type": "stream",
     "text": [
      " 97%|█████████▋| 901/932 [02:04<00:05,  6.06it/s]"
     ]
    },
    {
     "name": "stdout",
     "output_type": "stream",
     "text": [
      "Epoch 9: 97% , Loss: 0.642432\n"
     ]
    },
    {
     "name": "stderr",
     "output_type": "stream",
     "text": [
      "100%|██████████| 932/932 [02:09<00:00,  7.21it/s]\n"
     ]
    },
    {
     "name": "stdout",
     "output_type": "stream",
     "text": [
      "Epoch 9: 100% , Loss: 0.635499\n",
      "                      (F1-score: 0.0000)\n",
      "\n",
      "                      (NDCG: nan)\n",
      "\n",
      "train_loss= tensor(1.0806)\n",
      "--------------------\n"
     ]
    },
    {
     "name": "stderr",
     "output_type": "stream",
     "text": [
      "100%|██████████| 133/133 [00:09<00:00, 13.83it/s]\n"
     ]
    },
    {
     "name": "stdout",
     "output_type": "stream",
     "text": [
      "                      (F1-score: 0.0002)\n",
      "\n",
      "                      (NDCG: nan)\n",
      "\n",
      "val_loss= tensor(0.8990)\n",
      "--------------------\n"
     ]
    },
    {
     "name": "stderr",
     "output_type": "stream",
     "text": [
      "100%|██████████| 266/266 [00:20<00:00, 12.78it/s]\n"
     ]
    },
    {
     "name": "stdout",
     "output_type": "stream",
     "text": [
      "                      (F1-score: 0.0000)\n",
      "\n",
      "                      (NDCG: nan)\n",
      "\n",
      "--------------------\n",
      "[[1, {'F1-score': 0.020696255000910255}, {'NDCG': nan}, 1.6557947397232056], [2, {'F1-score': 0.0026908073907922344}, {'NDCG': nan}, 1.5130956172943115], [3, {'F1-score': 0.00035244360902255637}, {'NDCG': nan}, 1.4251788854599], [4, {'F1-score': 0.0003512840542915731}, {'NDCG': nan}, 1.3017510175704956], [5, {'F1-score': 7.374204742625796e-05}, {'NDCG': nan}, 1.199181079864502], [6, {'F1-score': 3.614806246385194e-05}, {'NDCG': nan}, 1.139860987663269], [7, {'F1-score': 3.480924533556112e-05}, {'NDCG': nan}, 1.0200258493423462], [8, {'F1-score': 3.480924533556112e-05}, {'NDCG': nan}, 0.9639192819595337], [9, {'F1-score': 0.0}, {'NDCG': nan}, 0.8990397453308105]]\n",
      "-----------------------------------------------------------------------------------------\n"
     ]
    },
    {
     "name": "stderr",
     "output_type": "stream",
     "text": [
      "  0%|          | 2/932 [00:00<01:46,  8.75it/s]"
     ]
    },
    {
     "name": "stdout",
     "output_type": "stream",
     "text": [
      "Epoch 10: 0% , Loss: 1.568585\n"
     ]
    },
    {
     "name": "stderr",
     "output_type": "stream",
     "text": [
      " 11%|█         | 101/932 [00:11<01:29,  9.33it/s]"
     ]
    },
    {
     "name": "stdout",
     "output_type": "stream",
     "text": [
      "Epoch 10: 11% , Loss: 1.031187\n"
     ]
    },
    {
     "name": "stderr",
     "output_type": "stream",
     "text": [
      " 22%|██▏       | 202/932 [00:23<01:36,  7.60it/s]"
     ]
    },
    {
     "name": "stdout",
     "output_type": "stream",
     "text": [
      "Epoch 10: 21% , Loss: 2.084612\n"
     ]
    },
    {
     "name": "stderr",
     "output_type": "stream",
     "text": [
      " 32%|███▏      | 302/932 [00:35<01:11,  8.84it/s]"
     ]
    },
    {
     "name": "stdout",
     "output_type": "stream",
     "text": [
      "Epoch 10: 32% , Loss: 0.930171\n"
     ]
    },
    {
     "name": "stderr",
     "output_type": "stream",
     "text": [
      " 43%|████▎     | 402/932 [00:48<01:12,  7.34it/s]"
     ]
    },
    {
     "name": "stdout",
     "output_type": "stream",
     "text": [
      "Epoch 10: 43% , Loss: 0.691864\n"
     ]
    },
    {
     "name": "stderr",
     "output_type": "stream",
     "text": [
      " 54%|█████▍    | 502/932 [01:02<01:01,  6.95it/s]"
     ]
    },
    {
     "name": "stdout",
     "output_type": "stream",
     "text": [
      "Epoch 10: 54% , Loss: 3.120787\n"
     ]
    },
    {
     "name": "stderr",
     "output_type": "stream",
     "text": [
      " 65%|██████▍   | 602/932 [01:17<00:46,  7.03it/s]"
     ]
    },
    {
     "name": "stdout",
     "output_type": "stream",
     "text": [
      "Epoch 10: 64% , Loss: 0.705638\n"
     ]
    },
    {
     "name": "stderr",
     "output_type": "stream",
     "text": [
      " 75%|███████▌  | 702/932 [01:32<00:33,  6.84it/s]"
     ]
    },
    {
     "name": "stdout",
     "output_type": "stream",
     "text": [
      "Epoch 10: 75% , Loss: 0.668438\n"
     ]
    },
    {
     "name": "stderr",
     "output_type": "stream",
     "text": [
      " 86%|████████▌ | 801/932 [01:47<00:20,  6.33it/s]"
     ]
    },
    {
     "name": "stdout",
     "output_type": "stream",
     "text": [
      "Epoch 10: 86% , Loss: 0.240956\n"
     ]
    },
    {
     "name": "stderr",
     "output_type": "stream",
     "text": [
      " 97%|█████████▋| 901/932 [02:03<00:05,  6.11it/s]"
     ]
    },
    {
     "name": "stdout",
     "output_type": "stream",
     "text": [
      "Epoch 10: 97% , Loss: 0.461535\n"
     ]
    },
    {
     "name": "stderr",
     "output_type": "stream",
     "text": [
      "100%|██████████| 932/932 [02:09<00:00,  7.20it/s]"
     ]
    },
    {
     "name": "stdout",
     "output_type": "stream",
     "text": [
      "Epoch 10: 100% , Loss: 0.425456\n"
     ]
    },
    {
     "name": "stderr",
     "output_type": "stream",
     "text": [
      "\n"
     ]
    },
    {
     "name": "stdout",
     "output_type": "stream",
     "text": [
      "                      (F1-score: 0.0000)\n",
      "\n",
      "                      (NDCG: nan)\n",
      "\n",
      "train_loss= tensor(1.0304)\n",
      "--------------------\n"
     ]
    },
    {
     "name": "stderr",
     "output_type": "stream",
     "text": [
      "100%|██████████| 133/133 [00:09<00:00, 13.87it/s]\n"
     ]
    },
    {
     "name": "stdout",
     "output_type": "stream",
     "text": [
      "                      (F1-score: 0.0002)\n",
      "\n",
      "                      (NDCG: nan)\n",
      "\n",
      "val_loss= tensor(0.8437)\n",
      "--------------------\n"
     ]
    },
    {
     "name": "stderr",
     "output_type": "stream",
     "text": [
      "100%|██████████| 266/266 [00:20<00:00, 12.79it/s]\n"
     ]
    },
    {
     "name": "stdout",
     "output_type": "stream",
     "text": [
      "                      (F1-score: 0.0000)\n",
      "\n",
      "                      (NDCG: nan)\n",
      "\n",
      "--------------------\n",
      "[[1, {'F1-score': 0.020696255000910255}, {'NDCG': nan}, 1.6557947397232056], [2, {'F1-score': 0.0026908073907922344}, {'NDCG': nan}, 1.5130956172943115], [3, {'F1-score': 0.00035244360902255637}, {'NDCG': nan}, 1.4251788854599], [4, {'F1-score': 0.0003512840542915731}, {'NDCG': nan}, 1.3017510175704956], [5, {'F1-score': 7.374204742625796e-05}, {'NDCG': nan}, 1.199181079864502], [6, {'F1-score': 3.614806246385194e-05}, {'NDCG': nan}, 1.139860987663269], [7, {'F1-score': 3.480924533556112e-05}, {'NDCG': nan}, 1.0200258493423462], [8, {'F1-score': 3.480924533556112e-05}, {'NDCG': nan}, 0.9639192819595337], [9, {'F1-score': 0.0}, {'NDCG': nan}, 0.8990397453308105], [10, {'F1-score': 0.0}, {'NDCG': nan}, 0.8436604738235474]]\n",
      "-----------------------------------------------------------------------------------------\n"
     ]
    },
    {
     "name": "stderr",
     "output_type": "stream",
     "text": [
      "  0%|          | 2/932 [00:00<01:58,  7.87it/s]"
     ]
    },
    {
     "name": "stdout",
     "output_type": "stream",
     "text": [
      "Epoch 11: 0% , Loss: 0.584838\n"
     ]
    },
    {
     "name": "stderr",
     "output_type": "stream",
     "text": [
      " 11%|█         | 102/932 [00:11<01:35,  8.72it/s]"
     ]
    },
    {
     "name": "stdout",
     "output_type": "stream",
     "text": [
      "Epoch 11: 11% , Loss: 0.867931\n"
     ]
    },
    {
     "name": "stderr",
     "output_type": "stream",
     "text": [
      " 22%|██▏       | 202/932 [00:23<01:23,  8.78it/s]"
     ]
    },
    {
     "name": "stdout",
     "output_type": "stream",
     "text": [
      "Epoch 11: 21% , Loss: 0.375378\n"
     ]
    },
    {
     "name": "stderr",
     "output_type": "stream",
     "text": [
      " 32%|███▏      | 302/932 [00:35<01:18,  8.02it/s]"
     ]
    },
    {
     "name": "stdout",
     "output_type": "stream",
     "text": [
      "Epoch 11: 32% , Loss: 0.227112\n"
     ]
    },
    {
     "name": "stderr",
     "output_type": "stream",
     "text": [
      " 43%|████▎     | 402/932 [00:48<01:12,  7.31it/s]"
     ]
    },
    {
     "name": "stdout",
     "output_type": "stream",
     "text": [
      "Epoch 11: 43% , Loss: 0.611895\n"
     ]
    },
    {
     "name": "stderr",
     "output_type": "stream",
     "text": [
      " 54%|█████▍    | 502/932 [01:02<00:55,  7.72it/s]"
     ]
    },
    {
     "name": "stdout",
     "output_type": "stream",
     "text": [
      "Epoch 11: 54% , Loss: 0.539931\n"
     ]
    },
    {
     "name": "stderr",
     "output_type": "stream",
     "text": [
      " 65%|██████▍   | 602/932 [01:16<00:47,  6.95it/s]"
     ]
    },
    {
     "name": "stdout",
     "output_type": "stream",
     "text": [
      "Epoch 11: 64% , Loss: 0.537360\n"
     ]
    },
    {
     "name": "stderr",
     "output_type": "stream",
     "text": [
      " 75%|███████▌  | 701/932 [01:31<00:33,  6.96it/s]"
     ]
    },
    {
     "name": "stdout",
     "output_type": "stream",
     "text": [
      "Epoch 11: 75% , Loss: 0.988141\n"
     ]
    },
    {
     "name": "stderr",
     "output_type": "stream",
     "text": [
      " 86%|████████▌ | 801/932 [01:47<00:22,  5.80it/s]"
     ]
    },
    {
     "name": "stdout",
     "output_type": "stream",
     "text": [
      "Epoch 11: 86% , Loss: 0.606112\n"
     ]
    },
    {
     "name": "stderr",
     "output_type": "stream",
     "text": [
      " 97%|█████████▋| 901/932 [02:04<00:04,  6.29it/s]"
     ]
    },
    {
     "name": "stdout",
     "output_type": "stream",
     "text": [
      "Epoch 11: 97% , Loss: 0.701488\n"
     ]
    },
    {
     "name": "stderr",
     "output_type": "stream",
     "text": [
      "100%|██████████| 932/932 [02:09<00:00,  7.20it/s]"
     ]
    },
    {
     "name": "stdout",
     "output_type": "stream",
     "text": [
      "Epoch 11: 100% , Loss: 0.449720\n"
     ]
    },
    {
     "name": "stderr",
     "output_type": "stream",
     "text": [
      "\n"
     ]
    },
    {
     "name": "stdout",
     "output_type": "stream",
     "text": [
      "                      (F1-score: 0.0001)\n",
      "\n",
      "                      (NDCG: nan)\n",
      "\n",
      "train_loss= tensor(0.9881)\n",
      "--------------------\n"
     ]
    },
    {
     "name": "stderr",
     "output_type": "stream",
     "text": [
      "100%|██████████| 133/133 [00:09<00:00, 13.78it/s]\n"
     ]
    },
    {
     "name": "stdout",
     "output_type": "stream",
     "text": [
      "                      (F1-score: 0.0002)\n",
      "\n",
      "                      (NDCG: nan)\n",
      "\n",
      "val_loss= tensor(0.8076)\n",
      "--------------------\n"
     ]
    },
    {
     "name": "stderr",
     "output_type": "stream",
     "text": [
      "100%|██████████| 266/266 [00:21<00:00, 12.65it/s]\n"
     ]
    },
    {
     "name": "stdout",
     "output_type": "stream",
     "text": [
      "                      (F1-score: 0.0000)\n",
      "\n",
      "                      (NDCG: nan)\n",
      "\n",
      "--------------------\n",
      "[[1, {'F1-score': 0.020696255000910255}, {'NDCG': nan}, 1.6557947397232056], [2, {'F1-score': 0.0026908073907922344}, {'NDCG': nan}, 1.5130956172943115], [3, {'F1-score': 0.00035244360902255637}, {'NDCG': nan}, 1.4251788854599], [4, {'F1-score': 0.0003512840542915731}, {'NDCG': nan}, 1.3017510175704956], [5, {'F1-score': 7.374204742625796e-05}, {'NDCG': nan}, 1.199181079864502], [6, {'F1-score': 3.614806246385194e-05}, {'NDCG': nan}, 1.139860987663269], [7, {'F1-score': 3.480924533556112e-05}, {'NDCG': nan}, 1.0200258493423462], [8, {'F1-score': 3.480924533556112e-05}, {'NDCG': nan}, 0.9639192819595337], [9, {'F1-score': 0.0}, {'NDCG': nan}, 0.8990397453308105], [10, {'F1-score': 0.0}, {'NDCG': nan}, 0.8436604738235474], [11, {'F1-score': 0.0}, {'NDCG': nan}, 0.8076251149177551]]\n",
      "-----------------------------------------------------------------------------------------\n"
     ]
    },
    {
     "name": "stderr",
     "output_type": "stream",
     "text": [
      "  0%|          | 2/932 [00:00<01:52,  8.25it/s]"
     ]
    },
    {
     "name": "stdout",
     "output_type": "stream",
     "text": [
      "Epoch 12: 0% , Loss: 0.241791\n"
     ]
    },
    {
     "name": "stderr",
     "output_type": "stream",
     "text": [
      " 11%|█         | 102/932 [00:11<01:37,  8.50it/s]"
     ]
    },
    {
     "name": "stdout",
     "output_type": "stream",
     "text": [
      "Epoch 12: 11% , Loss: 0.590994\n"
     ]
    },
    {
     "name": "stderr",
     "output_type": "stream",
     "text": [
      " 22%|██▏       | 202/932 [00:23<01:24,  8.69it/s]"
     ]
    },
    {
     "name": "stdout",
     "output_type": "stream",
     "text": [
      "Epoch 12: 21% , Loss: 0.250557\n"
     ]
    },
    {
     "name": "stderr",
     "output_type": "stream",
     "text": [
      " 32%|███▏      | 302/932 [00:35<01:17,  8.09it/s]"
     ]
    },
    {
     "name": "stdout",
     "output_type": "stream",
     "text": [
      "Epoch 12: 32% , Loss: 1.255931\n"
     ]
    },
    {
     "name": "stderr",
     "output_type": "stream",
     "text": [
      " 43%|████▎     | 402/932 [00:48<01:08,  7.71it/s]"
     ]
    },
    {
     "name": "stdout",
     "output_type": "stream",
     "text": [
      "Epoch 12: 43% , Loss: 0.501513\n"
     ]
    },
    {
     "name": "stderr",
     "output_type": "stream",
     "text": [
      " 54%|█████▍    | 502/932 [01:01<00:58,  7.33it/s]"
     ]
    },
    {
     "name": "stdout",
     "output_type": "stream",
     "text": [
      "Epoch 12: 54% , Loss: 0.479942\n"
     ]
    },
    {
     "name": "stderr",
     "output_type": "stream",
     "text": [
      " 65%|██████▍   | 602/932 [01:16<00:45,  7.30it/s]"
     ]
    },
    {
     "name": "stdout",
     "output_type": "stream",
     "text": [
      "Epoch 12: 64% , Loss: 0.242276\n"
     ]
    },
    {
     "name": "stderr",
     "output_type": "stream",
     "text": [
      " 75%|███████▌  | 702/932 [01:31<00:33,  6.86it/s]"
     ]
    },
    {
     "name": "stdout",
     "output_type": "stream",
     "text": [
      "Epoch 12: 75% , Loss: 1.810532\n"
     ]
    },
    {
     "name": "stderr",
     "output_type": "stream",
     "text": [
      " 86%|████████▌ | 802/932 [01:47<00:19,  6.52it/s]"
     ]
    },
    {
     "name": "stdout",
     "output_type": "stream",
     "text": [
      "Epoch 12: 86% , Loss: 1.667743\n"
     ]
    },
    {
     "name": "stderr",
     "output_type": "stream",
     "text": [
      " 97%|█████████▋| 901/932 [02:03<00:05,  6.17it/s]"
     ]
    },
    {
     "name": "stdout",
     "output_type": "stream",
     "text": [
      "Epoch 12: 97% , Loss: 1.179671\n"
     ]
    },
    {
     "name": "stderr",
     "output_type": "stream",
     "text": [
      "100%|██████████| 932/932 [02:09<00:00,  7.22it/s]\n"
     ]
    },
    {
     "name": "stdout",
     "output_type": "stream",
     "text": [
      "Epoch 12: 100% , Loss: 0.928805\n",
      "                      (F1-score: 0.0001)\n",
      "\n",
      "                      (NDCG: nan)\n",
      "\n",
      "train_loss= tensor(0.9470)\n",
      "--------------------\n"
     ]
    },
    {
     "name": "stderr",
     "output_type": "stream",
     "text": [
      "100%|██████████| 133/133 [00:09<00:00, 13.92it/s]\n"
     ]
    },
    {
     "name": "stdout",
     "output_type": "stream",
     "text": [
      "                      (F1-score: 0.0002)\n",
      "\n",
      "                      (NDCG: nan)\n",
      "\n",
      "val_loss= tensor(0.7698)\n",
      "--------------------\n"
     ]
    },
    {
     "name": "stderr",
     "output_type": "stream",
     "text": [
      "100%|██████████| 266/266 [00:20<00:00, 12.71it/s]\n"
     ]
    },
    {
     "name": "stdout",
     "output_type": "stream",
     "text": [
      "                      (F1-score: 0.0000)\n",
      "\n",
      "                      (NDCG: nan)\n",
      "\n",
      "--------------------\n",
      "[[1, {'F1-score': 0.020696255000910255}, {'NDCG': nan}, 1.6557947397232056], [2, {'F1-score': 0.0026908073907922344}, {'NDCG': nan}, 1.5130956172943115], [3, {'F1-score': 0.00035244360902255637}, {'NDCG': nan}, 1.4251788854599], [4, {'F1-score': 0.0003512840542915731}, {'NDCG': nan}, 1.3017510175704956], [5, {'F1-score': 7.374204742625796e-05}, {'NDCG': nan}, 1.199181079864502], [6, {'F1-score': 3.614806246385194e-05}, {'NDCG': nan}, 1.139860987663269], [7, {'F1-score': 3.480924533556112e-05}, {'NDCG': nan}, 1.0200258493423462], [8, {'F1-score': 3.480924533556112e-05}, {'NDCG': nan}, 0.9639192819595337], [9, {'F1-score': 0.0}, {'NDCG': nan}, 0.8990397453308105], [10, {'F1-score': 0.0}, {'NDCG': nan}, 0.8436604738235474], [11, {'F1-score': 0.0}, {'NDCG': nan}, 0.8076251149177551], [12, {'F1-score': 0.0}, {'NDCG': nan}, 0.7697919011116028]]\n",
      "-----------------------------------------------------------------------------------------\n"
     ]
    },
    {
     "name": "stderr",
     "output_type": "stream",
     "text": [
      "  0%|          | 2/932 [00:00<01:57,  7.95it/s]"
     ]
    },
    {
     "name": "stdout",
     "output_type": "stream",
     "text": [
      "Epoch 13: 0% , Loss: 0.597936\n"
     ]
    },
    {
     "name": "stderr",
     "output_type": "stream",
     "text": [
      " 11%|█         | 102/932 [00:11<01:46,  7.79it/s]"
     ]
    },
    {
     "name": "stdout",
     "output_type": "stream",
     "text": [
      "Epoch 13: 11% , Loss: 0.423152\n"
     ]
    },
    {
     "name": "stderr",
     "output_type": "stream",
     "text": [
      " 22%|██▏       | 202/932 [00:23<01:26,  8.42it/s]"
     ]
    },
    {
     "name": "stdout",
     "output_type": "stream",
     "text": [
      "Epoch 13: 21% , Loss: 0.581122\n"
     ]
    },
    {
     "name": "stderr",
     "output_type": "stream",
     "text": [
      " 32%|███▏      | 302/932 [00:35<01:23,  7.58it/s]"
     ]
    },
    {
     "name": "stdout",
     "output_type": "stream",
     "text": [
      "Epoch 13: 32% , Loss: 0.395679\n"
     ]
    },
    {
     "name": "stderr",
     "output_type": "stream",
     "text": [
      " 43%|████▎     | 402/932 [00:48<01:07,  7.84it/s]"
     ]
    },
    {
     "name": "stdout",
     "output_type": "stream",
     "text": [
      "Epoch 13: 43% , Loss: 0.433908\n"
     ]
    },
    {
     "name": "stderr",
     "output_type": "stream",
     "text": [
      " 54%|█████▍    | 502/932 [01:02<01:17,  5.52it/s]"
     ]
    },
    {
     "name": "stdout",
     "output_type": "stream",
     "text": [
      "Epoch 13: 54% , Loss: 0.610856\n"
     ]
    },
    {
     "name": "stderr",
     "output_type": "stream",
     "text": [
      " 65%|██████▍   | 602/932 [01:17<00:50,  6.50it/s]"
     ]
    },
    {
     "name": "stdout",
     "output_type": "stream",
     "text": [
      "Epoch 13: 64% , Loss: 0.658091\n"
     ]
    },
    {
     "name": "stderr",
     "output_type": "stream",
     "text": [
      " 75%|███████▌  | 702/932 [01:32<00:33,  6.97it/s]"
     ]
    },
    {
     "name": "stdout",
     "output_type": "stream",
     "text": [
      "Epoch 13: 75% , Loss: 0.476384\n"
     ]
    },
    {
     "name": "stderr",
     "output_type": "stream",
     "text": [
      " 86%|████████▌ | 801/932 [01:47<00:21,  6.20it/s]"
     ]
    },
    {
     "name": "stdout",
     "output_type": "stream",
     "text": [
      "Epoch 13: 86% , Loss: 0.991131\n"
     ]
    },
    {
     "name": "stderr",
     "output_type": "stream",
     "text": [
      " 97%|█████████▋| 901/932 [02:04<00:05,  6.05it/s]"
     ]
    },
    {
     "name": "stdout",
     "output_type": "stream",
     "text": [
      "Epoch 13: 97% , Loss: 0.751577\n"
     ]
    },
    {
     "name": "stderr",
     "output_type": "stream",
     "text": [
      "100%|██████████| 932/932 [02:09<00:00,  7.19it/s]\n"
     ]
    },
    {
     "name": "stdout",
     "output_type": "stream",
     "text": [
      "Epoch 13: 100% , Loss: 1.303942\n",
      "                      (F1-score: 0.0003)\n",
      "\n",
      "                      (NDCG: nan)\n",
      "\n",
      "train_loss= tensor(0.9267)\n",
      "--------------------\n"
     ]
    },
    {
     "name": "stderr",
     "output_type": "stream",
     "text": [
      "100%|██████████| 133/133 [00:09<00:00, 13.89it/s]\n"
     ]
    },
    {
     "name": "stdout",
     "output_type": "stream",
     "text": [
      "                      (F1-score: 0.0011)\n",
      "\n",
      "                      (NDCG: nan)\n",
      "\n",
      "val_loss= tensor(0.7535)\n",
      "--------------------\n"
     ]
    },
    {
     "name": "stderr",
     "output_type": "stream",
     "text": [
      "100%|██████████| 266/266 [00:20<00:00, 12.76it/s]\n"
     ]
    },
    {
     "name": "stdout",
     "output_type": "stream",
     "text": [
      "                      (F1-score: 0.0001)\n",
      "\n",
      "                      (NDCG: nan)\n",
      "\n",
      "--------------------\n",
      "[[1, {'F1-score': 0.020696255000910255}, {'NDCG': nan}, 1.6557947397232056], [2, {'F1-score': 0.0026908073907922344}, {'NDCG': nan}, 1.5130956172943115], [3, {'F1-score': 0.00035244360902255637}, {'NDCG': nan}, 1.4251788854599], [4, {'F1-score': 0.0003512840542915731}, {'NDCG': nan}, 1.3017510175704956], [5, {'F1-score': 7.374204742625796e-05}, {'NDCG': nan}, 1.199181079864502], [6, {'F1-score': 3.614806246385194e-05}, {'NDCG': nan}, 1.139860987663269], [7, {'F1-score': 3.480924533556112e-05}, {'NDCG': nan}, 1.0200258493423462], [8, {'F1-score': 3.480924533556112e-05}, {'NDCG': nan}, 0.9639192819595337], [9, {'F1-score': 0.0}, {'NDCG': nan}, 0.8990397453308105], [10, {'F1-score': 0.0}, {'NDCG': nan}, 0.8436604738235474], [11, {'F1-score': 0.0}, {'NDCG': nan}, 0.8076251149177551], [12, {'F1-score': 0.0}, {'NDCG': nan}, 0.7697919011116028], [13, {'F1-score': 5.8740601503759395e-05}, {'NDCG': nan}, 0.753480851650238]]\n",
      "-----------------------------------------------------------------------------------------\n"
     ]
    },
    {
     "name": "stderr",
     "output_type": "stream",
     "text": [
      "  0%|          | 2/932 [00:00<01:44,  8.94it/s]"
     ]
    },
    {
     "name": "stdout",
     "output_type": "stream",
     "text": [
      "Epoch 14: 0% , Loss: 1.158554\n"
     ]
    },
    {
     "name": "stderr",
     "output_type": "stream",
     "text": [
      " 11%|█         | 101/932 [00:11<01:38,  8.48it/s]"
     ]
    },
    {
     "name": "stdout",
     "output_type": "stream",
     "text": [
      "Epoch 14: 11% , Loss: 3.046862\n"
     ]
    },
    {
     "name": "stderr",
     "output_type": "stream",
     "text": [
      " 22%|██▏       | 202/932 [00:23<01:29,  8.19it/s]"
     ]
    },
    {
     "name": "stdout",
     "output_type": "stream",
     "text": [
      "Epoch 14: 21% , Loss: 0.594455\n"
     ]
    },
    {
     "name": "stderr",
     "output_type": "stream",
     "text": [
      " 32%|███▏      | 302/932 [00:35<01:24,  7.48it/s]"
     ]
    },
    {
     "name": "stdout",
     "output_type": "stream",
     "text": [
      "Epoch 14: 32% , Loss: 0.916493\n"
     ]
    },
    {
     "name": "stderr",
     "output_type": "stream",
     "text": [
      " 43%|████▎     | 402/932 [00:48<01:09,  7.67it/s]"
     ]
    },
    {
     "name": "stdout",
     "output_type": "stream",
     "text": [
      "Epoch 14: 43% , Loss: 0.582603\n"
     ]
    },
    {
     "name": "stderr",
     "output_type": "stream",
     "text": [
      " 54%|█████▍    | 502/932 [01:02<01:03,  6.75it/s]"
     ]
    },
    {
     "name": "stdout",
     "output_type": "stream",
     "text": [
      "Epoch 14: 54% , Loss: 3.258052\n"
     ]
    },
    {
     "name": "stderr",
     "output_type": "stream",
     "text": [
      " 64%|██████▍   | 601/932 [01:16<00:51,  6.39it/s]"
     ]
    },
    {
     "name": "stdout",
     "output_type": "stream",
     "text": [
      "Epoch 14: 64% , Loss: 0.232817\n"
     ]
    },
    {
     "name": "stderr",
     "output_type": "stream",
     "text": [
      " 75%|███████▌  | 701/932 [01:31<00:33,  6.90it/s]"
     ]
    },
    {
     "name": "stdout",
     "output_type": "stream",
     "text": [
      "Epoch 14: 75% , Loss: 0.392818\n"
     ]
    },
    {
     "name": "stderr",
     "output_type": "stream",
     "text": [
      " 86%|████████▌ | 801/932 [01:47<00:20,  6.32it/s]"
     ]
    },
    {
     "name": "stdout",
     "output_type": "stream",
     "text": [
      "Epoch 14: 86% , Loss: 0.370943\n"
     ]
    },
    {
     "name": "stderr",
     "output_type": "stream",
     "text": [
      " 97%|█████████▋| 901/932 [02:04<00:05,  5.89it/s]"
     ]
    },
    {
     "name": "stdout",
     "output_type": "stream",
     "text": [
      "Epoch 14: 97% , Loss: 0.626779\n"
     ]
    },
    {
     "name": "stderr",
     "output_type": "stream",
     "text": [
      "100%|██████████| 932/932 [02:09<00:00,  7.20it/s]"
     ]
    },
    {
     "name": "stdout",
     "output_type": "stream",
     "text": [
      "Epoch 14: 100% , Loss: 0.406620\n"
     ]
    },
    {
     "name": "stderr",
     "output_type": "stream",
     "text": [
      "\n"
     ]
    },
    {
     "name": "stdout",
     "output_type": "stream",
     "text": [
      "                      (F1-score: 0.0023)\n",
      "\n",
      "                      (NDCG: nan)\n",
      "\n",
      "train_loss= tensor(0.8868)\n",
      "--------------------\n"
     ]
    },
    {
     "name": "stderr",
     "output_type": "stream",
     "text": [
      "100%|██████████| 133/133 [00:09<00:00, 13.80it/s]\n"
     ]
    },
    {
     "name": "stdout",
     "output_type": "stream",
     "text": [
      "                      (F1-score: 0.0023)\n",
      "\n",
      "                      (NDCG: nan)\n",
      "\n",
      "val_loss= tensor(0.7339)\n",
      "--------------------\n"
     ]
    },
    {
     "name": "stderr",
     "output_type": "stream",
     "text": [
      "100%|██████████| 266/266 [00:20<00:00, 12.83it/s]\n"
     ]
    },
    {
     "name": "stdout",
     "output_type": "stream",
     "text": [
      "                      (F1-score: 0.0012)\n",
      "\n",
      "                      (NDCG: nan)\n",
      "\n",
      "--------------------\n",
      "[[1, {'F1-score': 0.020696255000910255}, {'NDCG': nan}, 1.6557947397232056], [2, {'F1-score': 0.0026908073907922344}, {'NDCG': nan}, 1.5130956172943115], [3, {'F1-score': 0.00035244360902255637}, {'NDCG': nan}, 1.4251788854599], [4, {'F1-score': 0.0003512840542915731}, {'NDCG': nan}, 1.3017510175704956], [5, {'F1-score': 7.374204742625796e-05}, {'NDCG': nan}, 1.199181079864502], [6, {'F1-score': 3.614806246385194e-05}, {'NDCG': nan}, 1.139860987663269], [7, {'F1-score': 3.480924533556112e-05}, {'NDCG': nan}, 1.0200258493423462], [8, {'F1-score': 3.480924533556112e-05}, {'NDCG': nan}, 0.9639192819595337], [9, {'F1-score': 0.0}, {'NDCG': nan}, 0.8990397453308105], [10, {'F1-score': 0.0}, {'NDCG': nan}, 0.8436604738235474], [11, {'F1-score': 0.0}, {'NDCG': nan}, 0.8076251149177551], [12, {'F1-score': 0.0}, {'NDCG': nan}, 0.7697919011116028], [13, {'F1-score': 5.8740601503759395e-05}, {'NDCG': nan}, 0.753480851650238], [14, {'F1-score': 0.0012219878443341513}, {'NDCG': nan}, 0.7338847517967224]]\n",
      "-----------------------------------------------------------------------------------------\n"
     ]
    },
    {
     "name": "stderr",
     "output_type": "stream",
     "text": [
      "\r",
      "  0%|          | 0/932 [00:00<?, ?it/s]"
     ]
    },
    {
     "name": "stdout",
     "output_type": "stream",
     "text": [
      "Epoch 15: 0% , Loss: 0.367497\n"
     ]
    },
    {
     "name": "stderr",
     "output_type": "stream",
     "text": [
      " 11%|█         | 102/932 [00:11<01:40,  8.24it/s]"
     ]
    },
    {
     "name": "stdout",
     "output_type": "stream",
     "text": [
      "Epoch 15: 11% , Loss: 0.597123\n"
     ]
    },
    {
     "name": "stderr",
     "output_type": "stream",
     "text": [
      " 22%|██▏       | 202/932 [00:22<01:22,  8.83it/s]"
     ]
    },
    {
     "name": "stdout",
     "output_type": "stream",
     "text": [
      "Epoch 15: 21% , Loss: 0.870382\n"
     ]
    },
    {
     "name": "stderr",
     "output_type": "stream",
     "text": [
      " 32%|███▏      | 302/932 [00:35<01:14,  8.46it/s]"
     ]
    },
    {
     "name": "stdout",
     "output_type": "stream",
     "text": [
      "Epoch 15: 32% , Loss: 0.442733\n"
     ]
    },
    {
     "name": "stderr",
     "output_type": "stream",
     "text": [
      " 43%|████▎     | 402/932 [00:48<01:14,  7.15it/s]"
     ]
    },
    {
     "name": "stdout",
     "output_type": "stream",
     "text": [
      "Epoch 15: 43% , Loss: 0.433607\n"
     ]
    },
    {
     "name": "stderr",
     "output_type": "stream",
     "text": [
      " 54%|█████▍    | 502/932 [01:02<00:57,  7.44it/s]"
     ]
    },
    {
     "name": "stdout",
     "output_type": "stream",
     "text": [
      "Epoch 15: 54% , Loss: 0.264645\n"
     ]
    },
    {
     "name": "stderr",
     "output_type": "stream",
     "text": [
      " 65%|██████▍   | 602/932 [01:16<00:50,  6.58it/s]"
     ]
    },
    {
     "name": "stdout",
     "output_type": "stream",
     "text": [
      "Epoch 15: 64% , Loss: 0.292909\n"
     ]
    },
    {
     "name": "stderr",
     "output_type": "stream",
     "text": [
      " 75%|███████▌  | 702/932 [01:32<00:34,  6.66it/s]"
     ]
    },
    {
     "name": "stdout",
     "output_type": "stream",
     "text": [
      "Epoch 15: 75% , Loss: 0.186973\n"
     ]
    },
    {
     "name": "stderr",
     "output_type": "stream",
     "text": [
      " 86%|████████▌ | 802/932 [01:48<00:20,  6.48it/s]"
     ]
    },
    {
     "name": "stdout",
     "output_type": "stream",
     "text": [
      "Epoch 15: 86% , Loss: 1.342123\n"
     ]
    },
    {
     "name": "stderr",
     "output_type": "stream",
     "text": [
      " 97%|█████████▋| 902/932 [02:04<00:04,  6.45it/s]"
     ]
    },
    {
     "name": "stdout",
     "output_type": "stream",
     "text": [
      "Epoch 15: 97% , Loss: 0.760202\n"
     ]
    },
    {
     "name": "stderr",
     "output_type": "stream",
     "text": [
      "100%|██████████| 932/932 [02:09<00:00,  7.18it/s]"
     ]
    },
    {
     "name": "stdout",
     "output_type": "stream",
     "text": [
      "Epoch 15: 100% , Loss: 0.554112\n"
     ]
    },
    {
     "name": "stderr",
     "output_type": "stream",
     "text": [
      "\n"
     ]
    },
    {
     "name": "stdout",
     "output_type": "stream",
     "text": [
      "                      (F1-score: 0.0103)\n",
      "\n",
      "                      (NDCG: nan)\n",
      "\n",
      "train_loss= tensor(0.8663)\n",
      "--------------------\n"
     ]
    },
    {
     "name": "stderr",
     "output_type": "stream",
     "text": [
      "100%|██████████| 133/133 [00:09<00:00, 13.85it/s]\n"
     ]
    },
    {
     "name": "stdout",
     "output_type": "stream",
     "text": [
      "                      (F1-score: 0.0133)\n",
      "\n",
      "                      (NDCG: 0.0164)\n",
      "\n",
      "val_loss= tensor(0.6186)\n",
      "--------------------\n"
     ]
    },
    {
     "name": "stderr",
     "output_type": "stream",
     "text": [
      "100%|██████████| 266/266 [00:21<00:00, 12.60it/s]\n"
     ]
    },
    {
     "name": "stdout",
     "output_type": "stream",
     "text": [
      "                      (F1-score: 0.0106)\n",
      "\n",
      "                      (NDCG: 0.0131)\n",
      "\n",
      "--------------------\n",
      "[[1, {'F1-score': 0.020696255000910255}, {'NDCG': nan}, 1.6557947397232056], [2, {'F1-score': 0.0026908073907922344}, {'NDCG': nan}, 1.5130956172943115], [3, {'F1-score': 0.00035244360902255637}, {'NDCG': nan}, 1.4251788854599], [4, {'F1-score': 0.0003512840542915731}, {'NDCG': nan}, 1.3017510175704956], [5, {'F1-score': 7.374204742625796e-05}, {'NDCG': nan}, 1.199181079864502], [6, {'F1-score': 3.614806246385194e-05}, {'NDCG': nan}, 1.139860987663269], [7, {'F1-score': 3.480924533556112e-05}, {'NDCG': nan}, 1.0200258493423462], [8, {'F1-score': 3.480924533556112e-05}, {'NDCG': nan}, 0.9639192819595337], [9, {'F1-score': 0.0}, {'NDCG': nan}, 0.8990397453308105], [10, {'F1-score': 0.0}, {'NDCG': nan}, 0.8436604738235474], [11, {'F1-score': 0.0}, {'NDCG': nan}, 0.8076251149177551], [12, {'F1-score': 0.0}, {'NDCG': nan}, 0.7697919011116028], [13, {'F1-score': 5.8740601503759395e-05}, {'NDCG': nan}, 0.753480851650238], [14, {'F1-score': 0.0012219878443341513}, {'NDCG': nan}, 0.7338847517967224], [15, {'F1-score': 0.01062534167203703}, {'NDCG': 0.013129201301030423}, 0.6185950040817261]]\n",
      "-----------------------------------------------------------------------------------------\n"
     ]
    },
    {
     "name": "stderr",
     "output_type": "stream",
     "text": [
      "  0%|          | 2/932 [00:00<02:03,  7.52it/s]"
     ]
    },
    {
     "name": "stdout",
     "output_type": "stream",
     "text": [
      "Epoch 16: 0% , Loss: 2.319256\n"
     ]
    },
    {
     "name": "stderr",
     "output_type": "stream",
     "text": [
      " 11%|█         | 102/932 [00:11<01:34,  8.74it/s]"
     ]
    },
    {
     "name": "stdout",
     "output_type": "stream",
     "text": [
      "Epoch 16: 11% , Loss: 0.179463\n"
     ]
    },
    {
     "name": "stderr",
     "output_type": "stream",
     "text": [
      " 22%|██▏       | 202/932 [00:22<01:23,  8.69it/s]"
     ]
    },
    {
     "name": "stdout",
     "output_type": "stream",
     "text": [
      "Epoch 16: 21% , Loss: 0.619731\n"
     ]
    },
    {
     "name": "stderr",
     "output_type": "stream",
     "text": [
      " 32%|███▏      | 302/932 [00:35<01:15,  8.32it/s]"
     ]
    },
    {
     "name": "stdout",
     "output_type": "stream",
     "text": [
      "Epoch 16: 32% , Loss: 0.348996\n"
     ]
    },
    {
     "name": "stderr",
     "output_type": "stream",
     "text": [
      " 43%|████▎     | 402/932 [00:48<01:12,  7.28it/s]"
     ]
    },
    {
     "name": "stdout",
     "output_type": "stream",
     "text": [
      "Epoch 16: 43% , Loss: 0.153181\n"
     ]
    },
    {
     "name": "stderr",
     "output_type": "stream",
     "text": [
      " 54%|█████▍    | 502/932 [01:02<01:02,  6.91it/s]"
     ]
    },
    {
     "name": "stdout",
     "output_type": "stream",
     "text": [
      "Epoch 16: 54% , Loss: 0.289401\n"
     ]
    },
    {
     "name": "stderr",
     "output_type": "stream",
     "text": [
      " 65%|██████▍   | 602/932 [01:17<00:49,  6.70it/s]"
     ]
    },
    {
     "name": "stdout",
     "output_type": "stream",
     "text": [
      "Epoch 16: 64% , Loss: 0.463146\n"
     ]
    },
    {
     "name": "stderr",
     "output_type": "stream",
     "text": [
      " 75%|███████▌  | 702/932 [01:32<00:34,  6.62it/s]"
     ]
    },
    {
     "name": "stdout",
     "output_type": "stream",
     "text": [
      "Epoch 16: 75% , Loss: 0.373963\n"
     ]
    },
    {
     "name": "stderr",
     "output_type": "stream",
     "text": [
      " 86%|████████▌ | 802/932 [01:48<00:20,  6.30it/s]"
     ]
    },
    {
     "name": "stdout",
     "output_type": "stream",
     "text": [
      "Epoch 16: 86% , Loss: 0.780136\n"
     ]
    },
    {
     "name": "stderr",
     "output_type": "stream",
     "text": [
      " 97%|█████████▋| 901/932 [02:04<00:05,  6.09it/s]"
     ]
    },
    {
     "name": "stdout",
     "output_type": "stream",
     "text": [
      "Epoch 16: 97% , Loss: 0.397418\n"
     ]
    },
    {
     "name": "stderr",
     "output_type": "stream",
     "text": [
      "100%|██████████| 932/932 [02:09<00:00,  7.18it/s]\n"
     ]
    },
    {
     "name": "stdout",
     "output_type": "stream",
     "text": [
      "Epoch 16: 100% , Loss: 0.228584\n",
      "                      (F1-score: 0.0230)\n",
      "\n",
      "                      (NDCG: nan)\n",
      "\n",
      "train_loss= tensor(0.7346)\n",
      "--------------------\n"
     ]
    },
    {
     "name": "stderr",
     "output_type": "stream",
     "text": [
      "100%|██████████| 133/133 [00:09<00:00, 13.72it/s]\n"
     ]
    },
    {
     "name": "stdout",
     "output_type": "stream",
     "text": [
      "                      (F1-score: 0.0222)\n",
      "\n",
      "                      (NDCG: 0.0398)\n",
      "\n",
      "val_loss= tensor(0.5403)\n",
      "--------------------\n"
     ]
    },
    {
     "name": "stderr",
     "output_type": "stream",
     "text": [
      "100%|██████████| 266/266 [00:20<00:00, 12.67it/s]\n"
     ]
    },
    {
     "name": "stdout",
     "output_type": "stream",
     "text": [
      "                      (F1-score: 0.0194)\n",
      "\n",
      "                      (NDCG: 0.0352)\n",
      "\n",
      "--------------------\n",
      "[[1, {'F1-score': 0.020696255000910255}, {'NDCG': nan}, 1.6557947397232056], [2, {'F1-score': 0.0026908073907922344}, {'NDCG': nan}, 1.5130956172943115], [3, {'F1-score': 0.00035244360902255637}, {'NDCG': nan}, 1.4251788854599], [4, {'F1-score': 0.0003512840542915731}, {'NDCG': nan}, 1.3017510175704956], [5, {'F1-score': 7.374204742625796e-05}, {'NDCG': nan}, 1.199181079864502], [6, {'F1-score': 3.614806246385194e-05}, {'NDCG': nan}, 1.139860987663269], [7, {'F1-score': 3.480924533556112e-05}, {'NDCG': nan}, 1.0200258493423462], [8, {'F1-score': 3.480924533556112e-05}, {'NDCG': nan}, 0.9639192819595337], [9, {'F1-score': 0.0}, {'NDCG': nan}, 0.8990397453308105], [10, {'F1-score': 0.0}, {'NDCG': nan}, 0.8436604738235474], [11, {'F1-score': 0.0}, {'NDCG': nan}, 0.8076251149177551], [12, {'F1-score': 0.0}, {'NDCG': nan}, 0.7697919011116028], [13, {'F1-score': 5.8740601503759395e-05}, {'NDCG': nan}, 0.753480851650238], [14, {'F1-score': 0.0012219878443341513}, {'NDCG': nan}, 0.7338847517967224], [15, {'F1-score': 0.01062534167203703}, {'NDCG': 0.013129201301030423}, 0.6185950040817261], [16, {'F1-score': 0.019375928851687044}, {'NDCG': 0.03519700076150939}, 0.5403242111206055]]\n",
      "-----------------------------------------------------------------------------------------\n"
     ]
    },
    {
     "name": "stderr",
     "output_type": "stream",
     "text": [
      "  0%|          | 3/932 [00:00<01:36,  9.60it/s]"
     ]
    },
    {
     "name": "stdout",
     "output_type": "stream",
     "text": [
      "Epoch 17: 0% , Loss: 0.255356\n"
     ]
    },
    {
     "name": "stderr",
     "output_type": "stream",
     "text": [
      " 11%|█         | 102/932 [00:11<01:40,  8.25it/s]"
     ]
    },
    {
     "name": "stdout",
     "output_type": "stream",
     "text": [
      "Epoch 17: 11% , Loss: 0.106506\n"
     ]
    },
    {
     "name": "stderr",
     "output_type": "stream",
     "text": [
      " 22%|██▏       | 202/932 [00:23<01:26,  8.47it/s]"
     ]
    },
    {
     "name": "stdout",
     "output_type": "stream",
     "text": [
      "Epoch 17: 21% , Loss: 0.568497\n"
     ]
    },
    {
     "name": "stderr",
     "output_type": "stream",
     "text": [
      " 32%|███▏      | 302/932 [00:36<01:26,  7.27it/s]"
     ]
    },
    {
     "name": "stdout",
     "output_type": "stream",
     "text": [
      "Epoch 17: 32% , Loss: 1.247604\n"
     ]
    },
    {
     "name": "stderr",
     "output_type": "stream",
     "text": [
      " 43%|████▎     | 402/932 [00:49<01:07,  7.89it/s]"
     ]
    },
    {
     "name": "stdout",
     "output_type": "stream",
     "text": [
      "Epoch 17: 43% , Loss: 0.499597\n"
     ]
    },
    {
     "name": "stderr",
     "output_type": "stream",
     "text": [
      " 54%|█████▍    | 502/932 [01:03<00:54,  7.85it/s]"
     ]
    },
    {
     "name": "stdout",
     "output_type": "stream",
     "text": [
      "Epoch 17: 54% , Loss: 0.263207\n"
     ]
    },
    {
     "name": "stderr",
     "output_type": "stream",
     "text": [
      " 65%|██████▍   | 602/932 [01:17<00:45,  7.26it/s]"
     ]
    },
    {
     "name": "stdout",
     "output_type": "stream",
     "text": [
      "Epoch 17: 64% , Loss: 0.183833\n"
     ]
    },
    {
     "name": "stderr",
     "output_type": "stream",
     "text": [
      " 75%|███████▌  | 702/932 [01:32<00:34,  6.67it/s]"
     ]
    },
    {
     "name": "stdout",
     "output_type": "stream",
     "text": [
      "Epoch 17: 75% , Loss: 0.124492\n"
     ]
    },
    {
     "name": "stderr",
     "output_type": "stream",
     "text": [
      " 86%|████████▌ | 801/932 [01:48<00:21,  6.17it/s]"
     ]
    },
    {
     "name": "stdout",
     "output_type": "stream",
     "text": [
      "Epoch 17: 86% , Loss: 0.255458\n"
     ]
    },
    {
     "name": "stderr",
     "output_type": "stream",
     "text": [
      " 97%|█████████▋| 901/932 [02:04<00:04,  6.41it/s]"
     ]
    },
    {
     "name": "stdout",
     "output_type": "stream",
     "text": [
      "Epoch 17: 97% , Loss: 0.185547\n"
     ]
    },
    {
     "name": "stderr",
     "output_type": "stream",
     "text": [
      "100%|██████████| 932/932 [02:09<00:00,  7.19it/s]\n"
     ]
    },
    {
     "name": "stdout",
     "output_type": "stream",
     "text": [
      "Epoch 17: 100% , Loss: 0.367772\n",
      "                      (F1-score: 0.0238)\n",
      "\n",
      "                      (NDCG: nan)\n",
      "\n",
      "train_loss= tensor(0.6761)\n",
      "--------------------\n"
     ]
    },
    {
     "name": "stderr",
     "output_type": "stream",
     "text": [
      "100%|██████████| 133/133 [00:09<00:00, 14.00it/s]\n"
     ]
    },
    {
     "name": "stdout",
     "output_type": "stream",
     "text": [
      "                      (F1-score: 0.0207)\n",
      "\n",
      "                      (NDCG: 0.0453)\n",
      "\n",
      "val_loss= tensor(0.4891)\n",
      "--------------------\n"
     ]
    },
    {
     "name": "stderr",
     "output_type": "stream",
     "text": [
      "100%|██████████| 266/266 [00:20<00:00, 12.71it/s]\n"
     ]
    },
    {
     "name": "stdout",
     "output_type": "stream",
     "text": [
      "                      (F1-score: 0.0185)\n",
      "\n",
      "                      (NDCG: 0.0405)\n",
      "\n",
      "--------------------\n",
      "[[1, {'F1-score': 0.020696255000910255}, {'NDCG': nan}, 1.6557947397232056], [2, {'F1-score': 0.0026908073907922344}, {'NDCG': nan}, 1.5130956172943115], [3, {'F1-score': 0.00035244360902255637}, {'NDCG': nan}, 1.4251788854599], [4, {'F1-score': 0.0003512840542915731}, {'NDCG': nan}, 1.3017510175704956], [5, {'F1-score': 7.374204742625796e-05}, {'NDCG': nan}, 1.199181079864502], [6, {'F1-score': 3.614806246385194e-05}, {'NDCG': nan}, 1.139860987663269], [7, {'F1-score': 3.480924533556112e-05}, {'NDCG': nan}, 1.0200258493423462], [8, {'F1-score': 3.480924533556112e-05}, {'NDCG': nan}, 0.9639192819595337], [9, {'F1-score': 0.0}, {'NDCG': nan}, 0.8990397453308105], [10, {'F1-score': 0.0}, {'NDCG': nan}, 0.8436604738235474], [11, {'F1-score': 0.0}, {'NDCG': nan}, 0.8076251149177551], [12, {'F1-score': 0.0}, {'NDCG': nan}, 0.7697919011116028], [13, {'F1-score': 5.8740601503759395e-05}, {'NDCG': nan}, 0.753480851650238], [14, {'F1-score': 0.0012219878443341513}, {'NDCG': nan}, 0.7338847517967224], [15, {'F1-score': 0.01062534167203703}, {'NDCG': 0.013129201301030423}, 0.6185950040817261], [16, {'F1-score': 0.019375928851687044}, {'NDCG': 0.03519700076150939}, 0.5403242111206055], [17, {'F1-score': 0.01848253876996446}, {'NDCG': 0.040508479944297245}, 0.4890783727169037]]\n",
      "-----------------------------------------------------------------------------------------\n"
     ]
    },
    {
     "name": "stderr",
     "output_type": "stream",
     "text": [
      "\r",
      "  0%|          | 0/932 [00:00<?, ?it/s]"
     ]
    },
    {
     "name": "stdout",
     "output_type": "stream",
     "text": [
      "Epoch 18: 0% , Loss: 0.211696\n"
     ]
    },
    {
     "name": "stderr",
     "output_type": "stream",
     "text": [
      " 11%|█         | 101/932 [00:11<01:39,  8.35it/s]"
     ]
    },
    {
     "name": "stdout",
     "output_type": "stream",
     "text": [
      "Epoch 18: 11% , Loss: 0.343231\n"
     ]
    },
    {
     "name": "stderr",
     "output_type": "stream",
     "text": [
      " 22%|██▏       | 202/932 [00:22<01:24,  8.66it/s]"
     ]
    },
    {
     "name": "stdout",
     "output_type": "stream",
     "text": [
      "Epoch 18: 21% , Loss: 2.648017\n"
     ]
    },
    {
     "name": "stderr",
     "output_type": "stream",
     "text": [
      " 32%|███▏      | 302/932 [00:35<01:13,  8.53it/s]"
     ]
    },
    {
     "name": "stdout",
     "output_type": "stream",
     "text": [
      "Epoch 18: 32% , Loss: 0.126770\n"
     ]
    },
    {
     "name": "stderr",
     "output_type": "stream",
     "text": [
      " 43%|████▎     | 402/932 [00:48<01:19,  6.64it/s]"
     ]
    },
    {
     "name": "stdout",
     "output_type": "stream",
     "text": [
      "Epoch 18: 43% , Loss: 0.253056\n"
     ]
    },
    {
     "name": "stderr",
     "output_type": "stream",
     "text": [
      " 54%|█████▍    | 502/932 [01:02<00:57,  7.43it/s]"
     ]
    },
    {
     "name": "stdout",
     "output_type": "stream",
     "text": [
      "Epoch 18: 54% , Loss: 0.261956\n"
     ]
    },
    {
     "name": "stderr",
     "output_type": "stream",
     "text": [
      " 65%|██████▍   | 602/932 [01:16<00:44,  7.35it/s]"
     ]
    },
    {
     "name": "stdout",
     "output_type": "stream",
     "text": [
      "Epoch 18: 64% , Loss: 0.673753\n"
     ]
    },
    {
     "name": "stderr",
     "output_type": "stream",
     "text": [
      " 75%|███████▌  | 702/932 [01:32<00:34,  6.72it/s]"
     ]
    },
    {
     "name": "stdout",
     "output_type": "stream",
     "text": [
      "Epoch 18: 75% , Loss: 0.135669\n"
     ]
    },
    {
     "name": "stderr",
     "output_type": "stream",
     "text": [
      " 86%|████████▌ | 801/932 [01:48<00:21,  6.16it/s]"
     ]
    },
    {
     "name": "stdout",
     "output_type": "stream",
     "text": [
      "Epoch 18: 86% , Loss: 0.959939\n"
     ]
    },
    {
     "name": "stderr",
     "output_type": "stream",
     "text": [
      " 97%|█████████▋| 901/932 [02:04<00:04,  6.24it/s]"
     ]
    },
    {
     "name": "stdout",
     "output_type": "stream",
     "text": [
      "Epoch 18: 97% , Loss: 0.375755\n"
     ]
    },
    {
     "name": "stderr",
     "output_type": "stream",
     "text": [
      "100%|██████████| 932/932 [02:09<00:00,  7.19it/s]\n"
     ]
    },
    {
     "name": "stdout",
     "output_type": "stream",
     "text": [
      "Epoch 18: 100% , Loss: 0.968848\n",
      "                      (F1-score: 0.0235)\n",
      "\n",
      "                      (NDCG: 0.0508)\n",
      "\n",
      "train_loss= tensor(0.6366)\n",
      "--------------------\n"
     ]
    },
    {
     "name": "stderr",
     "output_type": "stream",
     "text": [
      "100%|██████████| 133/133 [00:09<00:00, 13.92it/s]\n"
     ]
    },
    {
     "name": "stdout",
     "output_type": "stream",
     "text": [
      "                      (F1-score: 0.0230)\n",
      "\n",
      "                      (NDCG: 0.0468)\n",
      "\n",
      "val_loss= tensor(0.4662)\n",
      "--------------------\n"
     ]
    },
    {
     "name": "stderr",
     "output_type": "stream",
     "text": [
      "100%|██████████| 266/266 [00:21<00:00, 12.65it/s]\n"
     ]
    },
    {
     "name": "stdout",
     "output_type": "stream",
     "text": [
      "                      (F1-score: 0.0207)\n",
      "\n",
      "                      (NDCG: 0.0420)\n",
      "\n",
      "--------------------\n",
      "[[1, {'F1-score': 0.020696255000910255}, {'NDCG': nan}, 1.6557947397232056], [2, {'F1-score': 0.0026908073907922344}, {'NDCG': nan}, 1.5130956172943115], [3, {'F1-score': 0.00035244360902255637}, {'NDCG': nan}, 1.4251788854599], [4, {'F1-score': 0.0003512840542915731}, {'NDCG': nan}, 1.3017510175704956], [5, {'F1-score': 7.374204742625796e-05}, {'NDCG': nan}, 1.199181079864502], [6, {'F1-score': 3.614806246385194e-05}, {'NDCG': nan}, 1.139860987663269], [7, {'F1-score': 3.480924533556112e-05}, {'NDCG': nan}, 1.0200258493423462], [8, {'F1-score': 3.480924533556112e-05}, {'NDCG': nan}, 0.9639192819595337], [9, {'F1-score': 0.0}, {'NDCG': nan}, 0.8990397453308105], [10, {'F1-score': 0.0}, {'NDCG': nan}, 0.8436604738235474], [11, {'F1-score': 0.0}, {'NDCG': nan}, 0.8076251149177551], [12, {'F1-score': 0.0}, {'NDCG': nan}, 0.7697919011116028], [13, {'F1-score': 5.8740601503759395e-05}, {'NDCG': nan}, 0.753480851650238], [14, {'F1-score': 0.0012219878443341513}, {'NDCG': nan}, 0.7338847517967224], [15, {'F1-score': 0.01062534167203703}, {'NDCG': 0.013129201301030423}, 0.6185950040817261], [16, {'F1-score': 0.019375928851687044}, {'NDCG': 0.03519700076150939}, 0.5403242111206055], [17, {'F1-score': 0.01848253876996446}, {'NDCG': 0.040508479944297245}, 0.4890783727169037], [18, {'F1-score': 0.020716118820674857}, {'NDCG': 0.041985287096463424}, 0.4662051796913147]]\n",
      "-----------------------------------------------------------------------------------------\n"
     ]
    },
    {
     "name": "stderr",
     "output_type": "stream",
     "text": [
      "  0%|          | 2/932 [00:00<01:44,  8.87it/s]"
     ]
    },
    {
     "name": "stdout",
     "output_type": "stream",
     "text": [
      "Epoch 19: 0% , Loss: 0.081882\n"
     ]
    },
    {
     "name": "stderr",
     "output_type": "stream",
     "text": [
      " 11%|█         | 102/932 [00:11<01:36,  8.58it/s]"
     ]
    },
    {
     "name": "stdout",
     "output_type": "stream",
     "text": [
      "Epoch 19: 11% , Loss: 0.174086\n"
     ]
    },
    {
     "name": "stderr",
     "output_type": "stream",
     "text": [
      " 22%|██▏       | 203/932 [00:23<01:19,  9.21it/s]"
     ]
    },
    {
     "name": "stdout",
     "output_type": "stream",
     "text": [
      "Epoch 19: 21% , Loss: 0.390455\n"
     ]
    },
    {
     "name": "stderr",
     "output_type": "stream",
     "text": [
      " 32%|███▏      | 302/932 [00:35<01:14,  8.43it/s]"
     ]
    },
    {
     "name": "stdout",
     "output_type": "stream",
     "text": [
      "Epoch 19: 32% , Loss: 0.287719\n"
     ]
    },
    {
     "name": "stderr",
     "output_type": "stream",
     "text": [
      " 43%|████▎     | 402/932 [00:48<01:14,  7.15it/s]"
     ]
    },
    {
     "name": "stdout",
     "output_type": "stream",
     "text": [
      "Epoch 19: 43% , Loss: 0.271522\n"
     ]
    },
    {
     "name": "stderr",
     "output_type": "stream",
     "text": [
      " 54%|█████▍    | 502/932 [01:02<01:05,  6.61it/s]"
     ]
    },
    {
     "name": "stdout",
     "output_type": "stream",
     "text": [
      "Epoch 19: 54% , Loss: 0.367907\n"
     ]
    },
    {
     "name": "stderr",
     "output_type": "stream",
     "text": [
      " 65%|██████▍   | 602/932 [01:16<00:46,  7.11it/s]"
     ]
    },
    {
     "name": "stdout",
     "output_type": "stream",
     "text": [
      "Epoch 19: 64% , Loss: 0.153243\n"
     ]
    },
    {
     "name": "stderr",
     "output_type": "stream",
     "text": [
      " 75%|███████▌  | 701/932 [01:32<00:33,  6.94it/s]"
     ]
    },
    {
     "name": "stdout",
     "output_type": "stream",
     "text": [
      "Epoch 19: 75% , Loss: 0.201497\n"
     ]
    },
    {
     "name": "stderr",
     "output_type": "stream",
     "text": [
      " 86%|████████▌ | 801/932 [01:47<00:19,  6.56it/s]"
     ]
    },
    {
     "name": "stdout",
     "output_type": "stream",
     "text": [
      "Epoch 19: 86% , Loss: 0.327017\n"
     ]
    },
    {
     "name": "stderr",
     "output_type": "stream",
     "text": [
      " 97%|█████████▋| 901/932 [02:04<00:05,  6.06it/s]"
     ]
    },
    {
     "name": "stdout",
     "output_type": "stream",
     "text": [
      "Epoch 19: 97% , Loss: 0.307372\n"
     ]
    },
    {
     "name": "stderr",
     "output_type": "stream",
     "text": [
      "100%|██████████| 932/932 [02:09<00:00,  7.20it/s]"
     ]
    },
    {
     "name": "stdout",
     "output_type": "stream",
     "text": [
      "Epoch 19: 100% , Loss: 0.236965\n"
     ]
    },
    {
     "name": "stderr",
     "output_type": "stream",
     "text": [
      "\n"
     ]
    },
    {
     "name": "stdout",
     "output_type": "stream",
     "text": [
      "                      (F1-score: 0.0281)\n",
      "\n",
      "                      (NDCG: 0.0547)\n",
      "\n",
      "train_loss= tensor(0.6016)\n",
      "--------------------\n"
     ]
    },
    {
     "name": "stderr",
     "output_type": "stream",
     "text": [
      "100%|██████████| 133/133 [00:09<00:00, 13.78it/s]\n"
     ]
    },
    {
     "name": "stdout",
     "output_type": "stream",
     "text": [
      "                      (F1-score: 0.0289)\n",
      "\n",
      "                      (NDCG: 0.0526)\n",
      "\n",
      "val_loss= tensor(0.4512)\n",
      "--------------------\n"
     ]
    },
    {
     "name": "stderr",
     "output_type": "stream",
     "text": [
      "100%|██████████| 266/266 [00:20<00:00, 12.73it/s]\n"
     ]
    },
    {
     "name": "stdout",
     "output_type": "stream",
     "text": [
      "                      (F1-score: 0.0280)\n",
      "\n",
      "                      (NDCG: 0.0483)\n",
      "\n",
      "--------------------\n",
      "[[1, {'F1-score': 0.020696255000910255}, {'NDCG': nan}, 1.6557947397232056], [2, {'F1-score': 0.0026908073907922344}, {'NDCG': nan}, 1.5130956172943115], [3, {'F1-score': 0.00035244360902255637}, {'NDCG': nan}, 1.4251788854599], [4, {'F1-score': 0.0003512840542915731}, {'NDCG': nan}, 1.3017510175704956], [5, {'F1-score': 7.374204742625796e-05}, {'NDCG': nan}, 1.199181079864502], [6, {'F1-score': 3.614806246385194e-05}, {'NDCG': nan}, 1.139860987663269], [7, {'F1-score': 3.480924533556112e-05}, {'NDCG': nan}, 1.0200258493423462], [8, {'F1-score': 3.480924533556112e-05}, {'NDCG': nan}, 0.9639192819595337], [9, {'F1-score': 0.0}, {'NDCG': nan}, 0.8990397453308105], [10, {'F1-score': 0.0}, {'NDCG': nan}, 0.8436604738235474], [11, {'F1-score': 0.0}, {'NDCG': nan}, 0.8076251149177551], [12, {'F1-score': 0.0}, {'NDCG': nan}, 0.7697919011116028], [13, {'F1-score': 5.8740601503759395e-05}, {'NDCG': nan}, 0.753480851650238], [14, {'F1-score': 0.0012219878443341513}, {'NDCG': nan}, 0.7338847517967224], [15, {'F1-score': 0.01062534167203703}, {'NDCG': 0.013129201301030423}, 0.6185950040817261], [16, {'F1-score': 0.019375928851687044}, {'NDCG': 0.03519700076150939}, 0.5403242111206055], [17, {'F1-score': 0.01848253876996446}, {'NDCG': 0.040508479944297245}, 0.4890783727169037], [18, {'F1-score': 0.020716118820674857}, {'NDCG': 0.041985287096463424}, 0.4662051796913147], [19, {'F1-score': 0.027990785761887106}, {'NDCG': 0.048343488129023886}, 0.4512224793434143]]\n",
      "-----------------------------------------------------------------------------------------\n"
     ]
    },
    {
     "name": "stderr",
     "output_type": "stream",
     "text": [
      "  0%|          | 1/932 [00:00<01:36,  9.62it/s]"
     ]
    },
    {
     "name": "stdout",
     "output_type": "stream",
     "text": [
      "Epoch 20: 0% , Loss: 0.659471\n"
     ]
    },
    {
     "name": "stderr",
     "output_type": "stream",
     "text": [
      " 11%|█         | 102/932 [00:11<01:35,  8.73it/s]"
     ]
    },
    {
     "name": "stdout",
     "output_type": "stream",
     "text": [
      "Epoch 20: 11% , Loss: 0.099520\n"
     ]
    },
    {
     "name": "stderr",
     "output_type": "stream",
     "text": [
      " 22%|██▏       | 202/932 [00:23<01:25,  8.57it/s]"
     ]
    },
    {
     "name": "stdout",
     "output_type": "stream",
     "text": [
      "Epoch 20: 21% , Loss: 0.492017\n"
     ]
    },
    {
     "name": "stderr",
     "output_type": "stream",
     "text": [
      " 32%|███▏      | 302/932 [00:36<01:18,  8.00it/s]"
     ]
    },
    {
     "name": "stdout",
     "output_type": "stream",
     "text": [
      "Epoch 20: 32% , Loss: 0.083861\n"
     ]
    },
    {
     "name": "stderr",
     "output_type": "stream",
     "text": [
      " 43%|████▎     | 402/932 [00:49<01:06,  7.93it/s]"
     ]
    },
    {
     "name": "stdout",
     "output_type": "stream",
     "text": [
      "Epoch 20: 43% , Loss: 1.328873\n"
     ]
    },
    {
     "name": "stderr",
     "output_type": "stream",
     "text": [
      " 54%|█████▍    | 502/932 [01:02<00:54,  7.84it/s]"
     ]
    },
    {
     "name": "stdout",
     "output_type": "stream",
     "text": [
      "Epoch 20: 54% , Loss: 0.734503\n"
     ]
    },
    {
     "name": "stderr",
     "output_type": "stream",
     "text": [
      " 65%|██████▍   | 602/932 [01:17<00:48,  6.79it/s]"
     ]
    },
    {
     "name": "stdout",
     "output_type": "stream",
     "text": [
      "Epoch 20: 64% , Loss: 0.523962\n"
     ]
    },
    {
     "name": "stderr",
     "output_type": "stream",
     "text": [
      " 75%|███████▌  | 701/932 [01:31<00:34,  6.78it/s]"
     ]
    },
    {
     "name": "stdout",
     "output_type": "stream",
     "text": [
      "Epoch 20: 75% , Loss: 0.266580\n"
     ]
    },
    {
     "name": "stderr",
     "output_type": "stream",
     "text": [
      " 86%|████████▌ | 801/932 [01:47<00:19,  6.78it/s]"
     ]
    },
    {
     "name": "stdout",
     "output_type": "stream",
     "text": [
      "Epoch 20: 86% , Loss: 0.102821\n"
     ]
    },
    {
     "name": "stderr",
     "output_type": "stream",
     "text": [
      " 97%|█████████▋| 901/932 [02:03<00:05,  6.07it/s]"
     ]
    },
    {
     "name": "stdout",
     "output_type": "stream",
     "text": [
      "Epoch 20: 97% , Loss: 0.047727\n"
     ]
    },
    {
     "name": "stderr",
     "output_type": "stream",
     "text": [
      "100%|██████████| 932/932 [02:09<00:00,  7.21it/s]\n"
     ]
    },
    {
     "name": "stdout",
     "output_type": "stream",
     "text": [
      "Epoch 20: 100% , Loss: 0.137809\n",
      "                      (F1-score: 0.0344)\n",
      "\n",
      "                      (NDCG: 0.0625)\n",
      "\n",
      "train_loss= tensor(0.5764)\n",
      "--------------------\n"
     ]
    },
    {
     "name": "stderr",
     "output_type": "stream",
     "text": [
      "100%|██████████| 133/133 [00:09<00:00, 13.87it/s]\n"
     ]
    },
    {
     "name": "stdout",
     "output_type": "stream",
     "text": [
      "                      (F1-score: 0.0350)\n",
      "\n",
      "                      (NDCG: 0.0620)\n",
      "\n",
      "val_loss= tensor(0.4412)\n",
      "--------------------\n"
     ]
    },
    {
     "name": "stderr",
     "output_type": "stream",
     "text": [
      "100%|██████████| 266/266 [00:20<00:00, 12.77it/s]\n"
     ]
    },
    {
     "name": "stdout",
     "output_type": "stream",
     "text": [
      "                      (F1-score: 0.0348)\n",
      "\n",
      "                      (NDCG: 0.0585)\n",
      "\n",
      "--------------------\n",
      "[[1, {'F1-score': 0.020696255000910255}, {'NDCG': nan}, 1.6557947397232056], [2, {'F1-score': 0.0026908073907922344}, {'NDCG': nan}, 1.5130956172943115], [3, {'F1-score': 0.00035244360902255637}, {'NDCG': nan}, 1.4251788854599], [4, {'F1-score': 0.0003512840542915731}, {'NDCG': nan}, 1.3017510175704956], [5, {'F1-score': 7.374204742625796e-05}, {'NDCG': nan}, 1.199181079864502], [6, {'F1-score': 3.614806246385194e-05}, {'NDCG': nan}, 1.139860987663269], [7, {'F1-score': 3.480924533556112e-05}, {'NDCG': nan}, 1.0200258493423462], [8, {'F1-score': 3.480924533556112e-05}, {'NDCG': nan}, 0.9639192819595337], [9, {'F1-score': 0.0}, {'NDCG': nan}, 0.8990397453308105], [10, {'F1-score': 0.0}, {'NDCG': nan}, 0.8436604738235474], [11, {'F1-score': 0.0}, {'NDCG': nan}, 0.8076251149177551], [12, {'F1-score': 0.0}, {'NDCG': nan}, 0.7697919011116028], [13, {'F1-score': 5.8740601503759395e-05}, {'NDCG': nan}, 0.753480851650238], [14, {'F1-score': 0.0012219878443341513}, {'NDCG': nan}, 0.7338847517967224], [15, {'F1-score': 0.01062534167203703}, {'NDCG': 0.013129201301030423}, 0.6185950040817261], [16, {'F1-score': 0.019375928851687044}, {'NDCG': 0.03519700076150939}, 0.5403242111206055], [17, {'F1-score': 0.01848253876996446}, {'NDCG': 0.040508479944297245}, 0.4890783727169037], [18, {'F1-score': 0.020716118820674857}, {'NDCG': 0.041985287096463424}, 0.4662051796913147], [19, {'F1-score': 0.027990785761887106}, {'NDCG': 0.048343488129023886}, 0.4512224793434143], [20, {'F1-score': 0.03484081817544356}, {'NDCG': 0.058507005591295604}, 0.441200315952301]]\n",
      "-----------------------------------------------------------------------------------------\n"
     ]
    },
    {
     "name": "stderr",
     "output_type": "stream",
     "text": [
      "  0%|          | 1/932 [00:00<01:42,  9.09it/s]"
     ]
    },
    {
     "name": "stdout",
     "output_type": "stream",
     "text": [
      "Epoch 21: 0% , Loss: 2.121698\n"
     ]
    },
    {
     "name": "stderr",
     "output_type": "stream",
     "text": [
      " 11%|█         | 102/932 [00:11<01:33,  8.84it/s]"
     ]
    },
    {
     "name": "stdout",
     "output_type": "stream",
     "text": [
      "Epoch 21: 11% , Loss: 0.099335\n"
     ]
    },
    {
     "name": "stderr",
     "output_type": "stream",
     "text": [
      " 22%|██▏       | 202/932 [00:23<01:19,  9.21it/s]"
     ]
    },
    {
     "name": "stdout",
     "output_type": "stream",
     "text": [
      "Epoch 21: 21% , Loss: 0.786928\n"
     ]
    },
    {
     "name": "stderr",
     "output_type": "stream",
     "text": [
      " 32%|███▏      | 302/932 [00:35<01:17,  8.09it/s]"
     ]
    },
    {
     "name": "stdout",
     "output_type": "stream",
     "text": [
      "Epoch 21: 32% , Loss: 0.775972\n"
     ]
    },
    {
     "name": "stderr",
     "output_type": "stream",
     "text": [
      " 43%|████▎     | 402/932 [00:48<01:10,  7.51it/s]"
     ]
    },
    {
     "name": "stdout",
     "output_type": "stream",
     "text": [
      "Epoch 21: 43% , Loss: 2.515011\n"
     ]
    },
    {
     "name": "stderr",
     "output_type": "stream",
     "text": [
      " 54%|█████▍    | 502/932 [01:02<01:04,  6.63it/s]"
     ]
    },
    {
     "name": "stdout",
     "output_type": "stream",
     "text": [
      "Epoch 21: 54% , Loss: 1.061489\n"
     ]
    },
    {
     "name": "stderr",
     "output_type": "stream",
     "text": [
      " 65%|██████▍   | 602/932 [01:17<00:47,  6.98it/s]"
     ]
    },
    {
     "name": "stdout",
     "output_type": "stream",
     "text": [
      "Epoch 21: 64% , Loss: 0.689437\n"
     ]
    },
    {
     "name": "stderr",
     "output_type": "stream",
     "text": [
      " 75%|███████▌  | 702/932 [01:32<00:34,  6.71it/s]"
     ]
    },
    {
     "name": "stdout",
     "output_type": "stream",
     "text": [
      "Epoch 21: 75% , Loss: 0.330722\n"
     ]
    },
    {
     "name": "stderr",
     "output_type": "stream",
     "text": [
      " 86%|████████▌ | 801/932 [01:47<00:20,  6.25it/s]"
     ]
    },
    {
     "name": "stdout",
     "output_type": "stream",
     "text": [
      "Epoch 21: 86% , Loss: 0.579785\n"
     ]
    },
    {
     "name": "stderr",
     "output_type": "stream",
     "text": [
      " 97%|█████████▋| 901/932 [02:04<00:05,  5.76it/s]"
     ]
    },
    {
     "name": "stdout",
     "output_type": "stream",
     "text": [
      "Epoch 21: 97% , Loss: 0.303351\n"
     ]
    },
    {
     "name": "stderr",
     "output_type": "stream",
     "text": [
      "100%|██████████| 932/932 [02:09<00:00,  7.19it/s]"
     ]
    },
    {
     "name": "stdout",
     "output_type": "stream",
     "text": [
      "Epoch 21: 100% , Loss: 0.175423\n"
     ]
    },
    {
     "name": "stderr",
     "output_type": "stream",
     "text": [
      "\n"
     ]
    },
    {
     "name": "stdout",
     "output_type": "stream",
     "text": [
      "                      (F1-score: 0.0395)\n",
      "\n",
      "                      (NDCG: 0.0676)\n",
      "\n",
      "train_loss= tensor(0.5568)\n",
      "--------------------\n"
     ]
    },
    {
     "name": "stderr",
     "output_type": "stream",
     "text": [
      "100%|██████████| 133/133 [00:09<00:00, 13.79it/s]\n"
     ]
    },
    {
     "name": "stdout",
     "output_type": "stream",
     "text": [
      "                      (F1-score: 0.0384)\n",
      "\n",
      "                      (NDCG: 0.0655)\n",
      "\n",
      "val_loss= tensor(0.4276)\n",
      "--------------------\n"
     ]
    },
    {
     "name": "stderr",
     "output_type": "stream",
     "text": [
      "100%|██████████| 266/266 [00:21<00:00, 12.64it/s]\n"
     ]
    },
    {
     "name": "stdout",
     "output_type": "stream",
     "text": [
      "                      (F1-score: 0.0388)\n",
      "\n",
      "                      (NDCG: 0.0622)\n",
      "\n",
      "--------------------\n",
      "[[1, {'F1-score': 0.020696255000910255}, {'NDCG': nan}, 1.6557947397232056], [2, {'F1-score': 0.0026908073907922344}, {'NDCG': nan}, 1.5130956172943115], [3, {'F1-score': 0.00035244360902255637}, {'NDCG': nan}, 1.4251788854599], [4, {'F1-score': 0.0003512840542915731}, {'NDCG': nan}, 1.3017510175704956], [5, {'F1-score': 7.374204742625796e-05}, {'NDCG': nan}, 1.199181079864502], [6, {'F1-score': 3.614806246385194e-05}, {'NDCG': nan}, 1.139860987663269], [7, {'F1-score': 3.480924533556112e-05}, {'NDCG': nan}, 1.0200258493423462], [8, {'F1-score': 3.480924533556112e-05}, {'NDCG': nan}, 0.9639192819595337], [9, {'F1-score': 0.0}, {'NDCG': nan}, 0.8990397453308105], [10, {'F1-score': 0.0}, {'NDCG': nan}, 0.8436604738235474], [11, {'F1-score': 0.0}, {'NDCG': nan}, 0.8076251149177551], [12, {'F1-score': 0.0}, {'NDCG': nan}, 0.7697919011116028], [13, {'F1-score': 5.8740601503759395e-05}, {'NDCG': nan}, 0.753480851650238], [14, {'F1-score': 0.0012219878443341513}, {'NDCG': nan}, 0.7338847517967224], [15, {'F1-score': 0.01062534167203703}, {'NDCG': 0.013129201301030423}, 0.6185950040817261], [16, {'F1-score': 0.019375928851687044}, {'NDCG': 0.03519700076150939}, 0.5403242111206055], [17, {'F1-score': 0.01848253876996446}, {'NDCG': 0.040508479944297245}, 0.4890783727169037], [18, {'F1-score': 0.020716118820674857}, {'NDCG': 0.041985287096463424}, 0.4662051796913147], [19, {'F1-score': 0.027990785761887106}, {'NDCG': 0.048343488129023886}, 0.4512224793434143], [20, {'F1-score': 0.03484081817544356}, {'NDCG': 0.058507005591295604}, 0.441200315952301], [21, {'F1-score': 0.03876663212846724}, {'NDCG': 0.0622019335168897}, 0.4276166260242462]]\n",
      "-----------------------------------------------------------------------------------------\n"
     ]
    },
    {
     "name": "stderr",
     "output_type": "stream",
     "text": [
      "\r",
      "  0%|          | 0/932 [00:00<?, ?it/s]"
     ]
    },
    {
     "name": "stdout",
     "output_type": "stream",
     "text": [
      "Epoch 22: 0% , Loss: 0.142744\n"
     ]
    },
    {
     "name": "stderr",
     "output_type": "stream",
     "text": [
      " 11%|█         | 102/932 [00:11<01:34,  8.78it/s]"
     ]
    },
    {
     "name": "stdout",
     "output_type": "stream",
     "text": [
      "Epoch 22: 11% , Loss: 0.241478\n"
     ]
    },
    {
     "name": "stderr",
     "output_type": "stream",
     "text": [
      " 22%|██▏       | 202/932 [00:23<01:30,  8.09it/s]"
     ]
    },
    {
     "name": "stdout",
     "output_type": "stream",
     "text": [
      "Epoch 22: 21% , Loss: 0.147440\n"
     ]
    },
    {
     "name": "stderr",
     "output_type": "stream",
     "text": [
      " 32%|███▏      | 302/932 [00:35<01:13,  8.60it/s]"
     ]
    },
    {
     "name": "stdout",
     "output_type": "stream",
     "text": [
      "Epoch 22: 32% , Loss: 0.395641\n"
     ]
    },
    {
     "name": "stderr",
     "output_type": "stream",
     "text": [
      " 43%|████▎     | 402/932 [00:48<01:09,  7.61it/s]"
     ]
    },
    {
     "name": "stdout",
     "output_type": "stream",
     "text": [
      "Epoch 22: 43% , Loss: 0.646361\n"
     ]
    },
    {
     "name": "stderr",
     "output_type": "stream",
     "text": [
      " 54%|█████▍    | 502/932 [01:02<00:58,  7.30it/s]"
     ]
    },
    {
     "name": "stdout",
     "output_type": "stream",
     "text": [
      "Epoch 22: 54% , Loss: 0.442485\n"
     ]
    },
    {
     "name": "stderr",
     "output_type": "stream",
     "text": [
      " 65%|██████▍   | 602/932 [01:16<00:49,  6.66it/s]"
     ]
    },
    {
     "name": "stdout",
     "output_type": "stream",
     "text": [
      "Epoch 22: 64% , Loss: 0.122241\n"
     ]
    },
    {
     "name": "stderr",
     "output_type": "stream",
     "text": [
      " 75%|███████▌  | 702/932 [01:32<00:34,  6.68it/s]"
     ]
    },
    {
     "name": "stdout",
     "output_type": "stream",
     "text": [
      "Epoch 22: 75% , Loss: 1.510690\n"
     ]
    },
    {
     "name": "stderr",
     "output_type": "stream",
     "text": [
      " 86%|████████▌ | 802/932 [01:48<00:20,  6.49it/s]"
     ]
    },
    {
     "name": "stdout",
     "output_type": "stream",
     "text": [
      "Epoch 22: 86% , Loss: 0.463783\n"
     ]
    },
    {
     "name": "stderr",
     "output_type": "stream",
     "text": [
      " 97%|█████████▋| 901/932 [02:04<00:04,  6.36it/s]"
     ]
    },
    {
     "name": "stdout",
     "output_type": "stream",
     "text": [
      "Epoch 22: 97% , Loss: 1.458190\n"
     ]
    },
    {
     "name": "stderr",
     "output_type": "stream",
     "text": [
      "100%|██████████| 932/932 [02:10<00:00,  7.17it/s]"
     ]
    },
    {
     "name": "stdout",
     "output_type": "stream",
     "text": [
      "Epoch 22: 100% , Loss: 0.573494\n"
     ]
    },
    {
     "name": "stderr",
     "output_type": "stream",
     "text": [
      "\n"
     ]
    },
    {
     "name": "stdout",
     "output_type": "stream",
     "text": [
      "                      (F1-score: 0.0422)\n",
      "\n",
      "                      (NDCG: 0.0701)\n",
      "\n",
      "train_loss= tensor(0.5388)\n",
      "--------------------\n"
     ]
    },
    {
     "name": "stderr",
     "output_type": "stream",
     "text": [
      "100%|██████████| 133/133 [00:09<00:00, 14.13it/s]\n"
     ]
    },
    {
     "name": "stdout",
     "output_type": "stream",
     "text": [
      "                      (F1-score: 0.0411)\n",
      "\n",
      "                      (NDCG: 0.0678)\n",
      "\n",
      "val_loss= tensor(0.4204)\n",
      "--------------------\n"
     ]
    },
    {
     "name": "stderr",
     "output_type": "stream",
     "text": [
      "100%|██████████| 266/266 [00:20<00:00, 12.68it/s]\n"
     ]
    },
    {
     "name": "stdout",
     "output_type": "stream",
     "text": [
      "                      (F1-score: 0.0408)\n",
      "\n",
      "                      (NDCG: 0.0645)\n",
      "\n",
      "--------------------\n",
      "[[1, {'F1-score': 0.020696255000910255}, {'NDCG': nan}, 1.6557947397232056], [2, {'F1-score': 0.0026908073907922344}, {'NDCG': nan}, 1.5130956172943115], [3, {'F1-score': 0.00035244360902255637}, {'NDCG': nan}, 1.4251788854599], [4, {'F1-score': 0.0003512840542915731}, {'NDCG': nan}, 1.3017510175704956], [5, {'F1-score': 7.374204742625796e-05}, {'NDCG': nan}, 1.199181079864502], [6, {'F1-score': 3.614806246385194e-05}, {'NDCG': nan}, 1.139860987663269], [7, {'F1-score': 3.480924533556112e-05}, {'NDCG': nan}, 1.0200258493423462], [8, {'F1-score': 3.480924533556112e-05}, {'NDCG': nan}, 0.9639192819595337], [9, {'F1-score': 0.0}, {'NDCG': nan}, 0.8990397453308105], [10, {'F1-score': 0.0}, {'NDCG': nan}, 0.8436604738235474], [11, {'F1-score': 0.0}, {'NDCG': nan}, 0.8076251149177551], [12, {'F1-score': 0.0}, {'NDCG': nan}, 0.7697919011116028], [13, {'F1-score': 5.8740601503759395e-05}, {'NDCG': nan}, 0.753480851650238], [14, {'F1-score': 0.0012219878443341513}, {'NDCG': nan}, 0.7338847517967224], [15, {'F1-score': 0.01062534167203703}, {'NDCG': 0.013129201301030423}, 0.6185950040817261], [16, {'F1-score': 0.019375928851687044}, {'NDCG': 0.03519700076150939}, 0.5403242111206055], [17, {'F1-score': 0.01848253876996446}, {'NDCG': 0.040508479944297245}, 0.4890783727169037], [18, {'F1-score': 0.020716118820674857}, {'NDCG': 0.041985287096463424}, 0.4662051796913147], [19, {'F1-score': 0.027990785761887106}, {'NDCG': 0.048343488129023886}, 0.4512224793434143], [20, {'F1-score': 0.03484081817544356}, {'NDCG': 0.058507005591295604}, 0.441200315952301], [21, {'F1-score': 0.03876663212846724}, {'NDCG': 0.0622019335168897}, 0.4276166260242462], [22, {'F1-score': 0.040837426837299705}, {'NDCG': 0.06454683031844802}, 0.42037180066108704]]\n",
      "-----------------------------------------------------------------------------------------\n"
     ]
    },
    {
     "name": "stderr",
     "output_type": "stream",
     "text": [
      "\r",
      "  0%|          | 0/932 [00:00<?, ?it/s]"
     ]
    },
    {
     "name": "stdout",
     "output_type": "stream",
     "text": [
      "Epoch 23: 0% , Loss: 0.149501\n"
     ]
    },
    {
     "name": "stderr",
     "output_type": "stream",
     "text": [
      " 11%|█         | 102/932 [00:11<01:29,  9.28it/s]"
     ]
    },
    {
     "name": "stdout",
     "output_type": "stream",
     "text": [
      "Epoch 23: 11% , Loss: 0.945987\n"
     ]
    },
    {
     "name": "stderr",
     "output_type": "stream",
     "text": [
      " 22%|██▏       | 202/932 [00:22<01:23,  8.69it/s]"
     ]
    },
    {
     "name": "stdout",
     "output_type": "stream",
     "text": [
      "Epoch 23: 21% , Loss: 0.627361\n"
     ]
    },
    {
     "name": "stderr",
     "output_type": "stream",
     "text": [
      " 32%|███▏      | 302/932 [00:35<01:14,  8.46it/s]"
     ]
    },
    {
     "name": "stdout",
     "output_type": "stream",
     "text": [
      "Epoch 23: 32% , Loss: 0.085033\n"
     ]
    },
    {
     "name": "stderr",
     "output_type": "stream",
     "text": [
      " 43%|████▎     | 402/932 [00:48<01:12,  7.35it/s]"
     ]
    },
    {
     "name": "stdout",
     "output_type": "stream",
     "text": [
      "Epoch 23: 43% , Loss: 0.079355\n"
     ]
    },
    {
     "name": "stderr",
     "output_type": "stream",
     "text": [
      " 54%|█████▍    | 502/932 [01:02<01:03,  6.73it/s]"
     ]
    },
    {
     "name": "stdout",
     "output_type": "stream",
     "text": [
      "Epoch 23: 54% , Loss: 0.108676\n"
     ]
    },
    {
     "name": "stderr",
     "output_type": "stream",
     "text": [
      " 65%|██████▍   | 602/932 [01:17<00:47,  6.97it/s]"
     ]
    },
    {
     "name": "stdout",
     "output_type": "stream",
     "text": [
      "Epoch 23: 64% , Loss: 1.737031\n"
     ]
    },
    {
     "name": "stderr",
     "output_type": "stream",
     "text": [
      " 75%|███████▌  | 702/932 [01:32<00:34,  6.65it/s]"
     ]
    },
    {
     "name": "stdout",
     "output_type": "stream",
     "text": [
      "Epoch 23: 75% , Loss: 1.309188\n"
     ]
    },
    {
     "name": "stderr",
     "output_type": "stream",
     "text": [
      " 86%|████████▌ | 801/932 [01:48<00:21,  6.03it/s]"
     ]
    },
    {
     "name": "stdout",
     "output_type": "stream",
     "text": [
      "Epoch 23: 86% , Loss: 0.194501\n"
     ]
    },
    {
     "name": "stderr",
     "output_type": "stream",
     "text": [
      " 97%|█████████▋| 901/932 [02:04<00:05,  5.97it/s]"
     ]
    },
    {
     "name": "stdout",
     "output_type": "stream",
     "text": [
      "Epoch 23: 97% , Loss: 2.122192\n"
     ]
    },
    {
     "name": "stderr",
     "output_type": "stream",
     "text": [
      "100%|██████████| 932/932 [02:10<00:00,  7.17it/s]"
     ]
    },
    {
     "name": "stdout",
     "output_type": "stream",
     "text": [
      "Epoch 23: 100% , Loss: 0.091189\n"
     ]
    },
    {
     "name": "stderr",
     "output_type": "stream",
     "text": [
      "\n"
     ]
    },
    {
     "name": "stdout",
     "output_type": "stream",
     "text": [
      "                      (F1-score: 0.0434)\n",
      "\n",
      "                      (NDCG: 0.0712)\n",
      "\n",
      "train_loss= tensor(0.5269)\n",
      "--------------------\n"
     ]
    },
    {
     "name": "stderr",
     "output_type": "stream",
     "text": [
      "100%|██████████| 133/133 [00:09<00:00, 13.97it/s]\n"
     ]
    },
    {
     "name": "stdout",
     "output_type": "stream",
     "text": [
      "                      (F1-score: 0.0417)\n",
      "\n",
      "                      (NDCG: 0.0685)\n",
      "\n",
      "val_loss= tensor(0.4234)\n",
      "--------------------\n"
     ]
    },
    {
     "name": "stderr",
     "output_type": "stream",
     "text": [
      "100%|██████████| 266/266 [00:20<00:00, 12.71it/s]\n"
     ]
    },
    {
     "name": "stdout",
     "output_type": "stream",
     "text": [
      "                      (F1-score: 0.0416)\n",
      "\n",
      "                      (NDCG: 0.0650)\n",
      "\n",
      "--------------------\n",
      "[[1, {'F1-score': 0.020696255000910255}, {'NDCG': nan}, 1.6557947397232056], [2, {'F1-score': 0.0026908073907922344}, {'NDCG': nan}, 1.5130956172943115], [3, {'F1-score': 0.00035244360902255637}, {'NDCG': nan}, 1.4251788854599], [4, {'F1-score': 0.0003512840542915731}, {'NDCG': nan}, 1.3017510175704956], [5, {'F1-score': 7.374204742625796e-05}, {'NDCG': nan}, 1.199181079864502], [6, {'F1-score': 3.614806246385194e-05}, {'NDCG': nan}, 1.139860987663269], [7, {'F1-score': 3.480924533556112e-05}, {'NDCG': nan}, 1.0200258493423462], [8, {'F1-score': 3.480924533556112e-05}, {'NDCG': nan}, 0.9639192819595337], [9, {'F1-score': 0.0}, {'NDCG': nan}, 0.8990397453308105], [10, {'F1-score': 0.0}, {'NDCG': nan}, 0.8436604738235474], [11, {'F1-score': 0.0}, {'NDCG': nan}, 0.8076251149177551], [12, {'F1-score': 0.0}, {'NDCG': nan}, 0.7697919011116028], [13, {'F1-score': 5.8740601503759395e-05}, {'NDCG': nan}, 0.753480851650238], [14, {'F1-score': 0.0012219878443341513}, {'NDCG': nan}, 0.7338847517967224], [15, {'F1-score': 0.01062534167203703}, {'NDCG': 0.013129201301030423}, 0.6185950040817261], [16, {'F1-score': 0.019375928851687044}, {'NDCG': 0.03519700076150939}, 0.5403242111206055], [17, {'F1-score': 0.01848253876996446}, {'NDCG': 0.040508479944297245}, 0.4890783727169037], [18, {'F1-score': 0.020716118820674857}, {'NDCG': 0.041985287096463424}, 0.4662051796913147], [19, {'F1-score': 0.027990785761887106}, {'NDCG': 0.048343488129023886}, 0.4512224793434143], [20, {'F1-score': 0.03484081817544356}, {'NDCG': 0.058507005591295604}, 0.441200315952301], [21, {'F1-score': 0.03876663212846724}, {'NDCG': 0.0622019335168897}, 0.4276166260242462], [22, {'F1-score': 0.040837426837299705}, {'NDCG': 0.06454683031844802}, 0.42037180066108704], [23, {'F1-score': 0.04158640489020508}, {'NDCG': 0.06502353020985716}, 0.4233636260032654]]\n",
      "-----------------------------------------------------------------------------------------\n"
     ]
    },
    {
     "name": "stderr",
     "output_type": "stream",
     "text": [
      "  0%|          | 1/932 [00:00<02:19,  6.69it/s]"
     ]
    },
    {
     "name": "stdout",
     "output_type": "stream",
     "text": [
      "Epoch 24: 0% , Loss: 0.472987\n"
     ]
    },
    {
     "name": "stderr",
     "output_type": "stream",
     "text": [
      " 11%|█         | 103/932 [00:11<01:37,  8.48it/s]"
     ]
    },
    {
     "name": "stdout",
     "output_type": "stream",
     "text": [
      "Epoch 24: 11% , Loss: 1.307538\n"
     ]
    },
    {
     "name": "stderr",
     "output_type": "stream",
     "text": [
      " 22%|██▏       | 202/932 [00:23<01:33,  7.83it/s]"
     ]
    },
    {
     "name": "stdout",
     "output_type": "stream",
     "text": [
      "Epoch 24: 21% , Loss: 0.361807\n"
     ]
    },
    {
     "name": "stderr",
     "output_type": "stream",
     "text": [
      " 32%|███▏      | 302/932 [00:35<01:12,  8.68it/s]"
     ]
    },
    {
     "name": "stdout",
     "output_type": "stream",
     "text": [
      "Epoch 24: 32% , Loss: 0.156233\n"
     ]
    },
    {
     "name": "stderr",
     "output_type": "stream",
     "text": [
      " 43%|████▎     | 402/932 [00:49<01:15,  7.05it/s]"
     ]
    },
    {
     "name": "stdout",
     "output_type": "stream",
     "text": [
      "Epoch 24: 43% , Loss: 1.070356\n"
     ]
    },
    {
     "name": "stderr",
     "output_type": "stream",
     "text": [
      " 54%|█████▍    | 502/932 [01:03<01:00,  7.05it/s]"
     ]
    },
    {
     "name": "stdout",
     "output_type": "stream",
     "text": [
      "Epoch 24: 54% , Loss: 0.111919\n"
     ]
    },
    {
     "name": "stderr",
     "output_type": "stream",
     "text": [
      " 65%|██████▍   | 602/932 [01:17<00:48,  6.79it/s]"
     ]
    },
    {
     "name": "stdout",
     "output_type": "stream",
     "text": [
      "Epoch 24: 64% , Loss: 0.503296\n"
     ]
    },
    {
     "name": "stderr",
     "output_type": "stream",
     "text": [
      " 75%|███████▌  | 702/932 [01:32<00:34,  6.59it/s]"
     ]
    },
    {
     "name": "stdout",
     "output_type": "stream",
     "text": [
      "Epoch 24: 75% , Loss: 11.925231\n"
     ]
    },
    {
     "name": "stderr",
     "output_type": "stream",
     "text": [
      " 86%|████████▌ | 801/932 [01:48<00:21,  6.21it/s]"
     ]
    },
    {
     "name": "stdout",
     "output_type": "stream",
     "text": [
      "Epoch 24: 86% , Loss: 1.968801\n"
     ]
    },
    {
     "name": "stderr",
     "output_type": "stream",
     "text": [
      " 97%|█████████▋| 901/932 [02:04<00:05,  6.19it/s]"
     ]
    },
    {
     "name": "stdout",
     "output_type": "stream",
     "text": [
      "Epoch 24: 97% , Loss: 0.883859\n"
     ]
    },
    {
     "name": "stderr",
     "output_type": "stream",
     "text": [
      "100%|██████████| 932/932 [02:10<00:00,  7.16it/s]"
     ]
    },
    {
     "name": "stdout",
     "output_type": "stream",
     "text": [
      "Epoch 24: 100% , Loss: 0.347770\n"
     ]
    },
    {
     "name": "stderr",
     "output_type": "stream",
     "text": [
      "\n"
     ]
    },
    {
     "name": "stdout",
     "output_type": "stream",
     "text": [
      "                      (F1-score: 0.0441)\n",
      "\n",
      "                      (NDCG: 0.0715)\n",
      "\n",
      "train_loss= tensor(0.5137)\n",
      "--------------------\n"
     ]
    },
    {
     "name": "stderr",
     "output_type": "stream",
     "text": [
      "100%|██████████| 133/133 [00:09<00:00, 13.95it/s]\n"
     ]
    },
    {
     "name": "stdout",
     "output_type": "stream",
     "text": [
      "                      (F1-score: 0.0427)\n",
      "\n",
      "                      (NDCG: 0.0692)\n",
      "\n",
      "val_loss= tensor(0.4172)\n",
      "--------------------\n"
     ]
    },
    {
     "name": "stderr",
     "output_type": "stream",
     "text": [
      "100%|██████████| 266/266 [00:21<00:00, 12.62it/s]\n"
     ]
    },
    {
     "name": "stdout",
     "output_type": "stream",
     "text": [
      "                      (F1-score: 0.0413)\n",
      "\n",
      "                      (NDCG: 0.0650)\n",
      "\n",
      "--------------------\n",
      "[[1, {'F1-score': 0.020696255000910255}, {'NDCG': nan}, 1.6557947397232056], [2, {'F1-score': 0.0026908073907922344}, {'NDCG': nan}, 1.5130956172943115], [3, {'F1-score': 0.00035244360902255637}, {'NDCG': nan}, 1.4251788854599], [4, {'F1-score': 0.0003512840542915731}, {'NDCG': nan}, 1.3017510175704956], [5, {'F1-score': 7.374204742625796e-05}, {'NDCG': nan}, 1.199181079864502], [6, {'F1-score': 3.614806246385194e-05}, {'NDCG': nan}, 1.139860987663269], [7, {'F1-score': 3.480924533556112e-05}, {'NDCG': nan}, 1.0200258493423462], [8, {'F1-score': 3.480924533556112e-05}, {'NDCG': nan}, 0.9639192819595337], [9, {'F1-score': 0.0}, {'NDCG': nan}, 0.8990397453308105], [10, {'F1-score': 0.0}, {'NDCG': nan}, 0.8436604738235474], [11, {'F1-score': 0.0}, {'NDCG': nan}, 0.8076251149177551], [12, {'F1-score': 0.0}, {'NDCG': nan}, 0.7697919011116028], [13, {'F1-score': 5.8740601503759395e-05}, {'NDCG': nan}, 0.753480851650238], [14, {'F1-score': 0.0012219878443341513}, {'NDCG': nan}, 0.7338847517967224], [15, {'F1-score': 0.01062534167203703}, {'NDCG': 0.013129201301030423}, 0.6185950040817261], [16, {'F1-score': 0.019375928851687044}, {'NDCG': 0.03519700076150939}, 0.5403242111206055], [17, {'F1-score': 0.01848253876996446}, {'NDCG': 0.040508479944297245}, 0.4890783727169037], [18, {'F1-score': 0.020716118820674857}, {'NDCG': 0.041985287096463424}, 0.4662051796913147], [19, {'F1-score': 0.027990785761887106}, {'NDCG': 0.048343488129023886}, 0.4512224793434143], [20, {'F1-score': 0.03484081817544356}, {'NDCG': 0.058507005591295604}, 0.441200315952301], [21, {'F1-score': 0.03876663212846724}, {'NDCG': 0.0622019335168897}, 0.4276166260242462], [22, {'F1-score': 0.040837426837299705}, {'NDCG': 0.06454683031844802}, 0.42037180066108704], [23, {'F1-score': 0.04158640489020508}, {'NDCG': 0.06502353020985716}, 0.4233636260032654], [24, {'F1-score': 0.041303558087190245}, {'NDCG': 0.06500057630324946}, 0.41717544198036194]]\n",
      "-----------------------------------------------------------------------------------------\n"
     ]
    },
    {
     "name": "stderr",
     "output_type": "stream",
     "text": [
      "  0%|          | 1/932 [00:00<01:51,  8.33it/s]"
     ]
    },
    {
     "name": "stdout",
     "output_type": "stream",
     "text": [
      "Epoch 25: 0% , Loss: 1.457671\n"
     ]
    },
    {
     "name": "stderr",
     "output_type": "stream",
     "text": [
      " 11%|█         | 103/932 [00:11<01:29,  9.27it/s]"
     ]
    },
    {
     "name": "stdout",
     "output_type": "stream",
     "text": [
      "Epoch 25: 11% , Loss: 0.488893\n"
     ]
    },
    {
     "name": "stderr",
     "output_type": "stream",
     "text": [
      " 22%|██▏       | 202/932 [00:22<01:26,  8.45it/s]"
     ]
    },
    {
     "name": "stdout",
     "output_type": "stream",
     "text": [
      "Epoch 25: 21% , Loss: 0.103042\n"
     ]
    },
    {
     "name": "stderr",
     "output_type": "stream",
     "text": [
      " 32%|███▏      | 302/932 [00:35<01:20,  7.87it/s]"
     ]
    },
    {
     "name": "stdout",
     "output_type": "stream",
     "text": [
      "Epoch 25: 32% , Loss: 0.683415\n"
     ]
    },
    {
     "name": "stderr",
     "output_type": "stream",
     "text": [
      " 43%|████▎     | 402/932 [00:48<01:14,  7.14it/s]"
     ]
    },
    {
     "name": "stdout",
     "output_type": "stream",
     "text": [
      "Epoch 25: 43% , Loss: 0.322218\n"
     ]
    },
    {
     "name": "stderr",
     "output_type": "stream",
     "text": [
      " 54%|█████▍    | 502/932 [01:02<00:56,  7.66it/s]"
     ]
    },
    {
     "name": "stdout",
     "output_type": "stream",
     "text": [
      "Epoch 25: 54% , Loss: 0.362588\n"
     ]
    },
    {
     "name": "stderr",
     "output_type": "stream",
     "text": [
      " 64%|██████▍   | 601/932 [01:16<00:45,  7.26it/s]"
     ]
    },
    {
     "name": "stdout",
     "output_type": "stream",
     "text": [
      "Epoch 25: 64% , Loss: 0.171796\n"
     ]
    },
    {
     "name": "stderr",
     "output_type": "stream",
     "text": [
      " 75%|███████▌  | 701/932 [01:32<00:36,  6.39it/s]"
     ]
    },
    {
     "name": "stdout",
     "output_type": "stream",
     "text": [
      "Epoch 25: 75% , Loss: 0.447615\n"
     ]
    },
    {
     "name": "stderr",
     "output_type": "stream",
     "text": [
      " 86%|████████▌ | 802/932 [01:48<00:20,  6.43it/s]"
     ]
    },
    {
     "name": "stdout",
     "output_type": "stream",
     "text": [
      "Epoch 25: 86% , Loss: 0.857383\n"
     ]
    },
    {
     "name": "stderr",
     "output_type": "stream",
     "text": [
      " 97%|█████████▋| 901/932 [02:04<00:05,  5.90it/s]"
     ]
    },
    {
     "name": "stdout",
     "output_type": "stream",
     "text": [
      "Epoch 25: 97% , Loss: 0.114703\n"
     ]
    },
    {
     "name": "stderr",
     "output_type": "stream",
     "text": [
      "100%|██████████| 932/932 [02:10<00:00,  7.16it/s]\n"
     ]
    },
    {
     "name": "stdout",
     "output_type": "stream",
     "text": [
      "Epoch 25: 100% , Loss: 0.255113\n",
      "                      (F1-score: 0.0437)\n",
      "\n",
      "                      (NDCG: 0.0710)\n",
      "\n",
      "train_loss= tensor(0.5072)\n",
      "--------------------\n"
     ]
    },
    {
     "name": "stderr",
     "output_type": "stream",
     "text": [
      "100%|██████████| 133/133 [00:09<00:00, 13.71it/s]\n"
     ]
    },
    {
     "name": "stdout",
     "output_type": "stream",
     "text": [
      "                      (F1-score: 0.0432)\n",
      "\n",
      "                      (NDCG: 0.0699)\n",
      "\n",
      "val_loss= tensor(0.4189)\n",
      "--------------------\n"
     ]
    },
    {
     "name": "stderr",
     "output_type": "stream",
     "text": [
      "100%|██████████| 266/266 [00:20<00:00, 12.72it/s]\n"
     ]
    },
    {
     "name": "stdout",
     "output_type": "stream",
     "text": [
      "                      (F1-score: 0.0418)\n",
      "\n",
      "                      (NDCG: 0.0657)\n",
      "\n",
      "--------------------\n",
      "[[1, {'F1-score': 0.020696255000910255}, {'NDCG': nan}, 1.6557947397232056], [2, {'F1-score': 0.0026908073907922344}, {'NDCG': nan}, 1.5130956172943115], [3, {'F1-score': 0.00035244360902255637}, {'NDCG': nan}, 1.4251788854599], [4, {'F1-score': 0.0003512840542915731}, {'NDCG': nan}, 1.3017510175704956], [5, {'F1-score': 7.374204742625796e-05}, {'NDCG': nan}, 1.199181079864502], [6, {'F1-score': 3.614806246385194e-05}, {'NDCG': nan}, 1.139860987663269], [7, {'F1-score': 3.480924533556112e-05}, {'NDCG': nan}, 1.0200258493423462], [8, {'F1-score': 3.480924533556112e-05}, {'NDCG': nan}, 0.9639192819595337], [9, {'F1-score': 0.0}, {'NDCG': nan}, 0.8990397453308105], [10, {'F1-score': 0.0}, {'NDCG': nan}, 0.8436604738235474], [11, {'F1-score': 0.0}, {'NDCG': nan}, 0.8076251149177551], [12, {'F1-score': 0.0}, {'NDCG': nan}, 0.7697919011116028], [13, {'F1-score': 5.8740601503759395e-05}, {'NDCG': nan}, 0.753480851650238], [14, {'F1-score': 0.0012219878443341513}, {'NDCG': nan}, 0.7338847517967224], [15, {'F1-score': 0.01062534167203703}, {'NDCG': 0.013129201301030423}, 0.6185950040817261], [16, {'F1-score': 0.019375928851687044}, {'NDCG': 0.03519700076150939}, 0.5403242111206055], [17, {'F1-score': 0.01848253876996446}, {'NDCG': 0.040508479944297245}, 0.4890783727169037], [18, {'F1-score': 0.020716118820674857}, {'NDCG': 0.041985287096463424}, 0.4662051796913147], [19, {'F1-score': 0.027990785761887106}, {'NDCG': 0.048343488129023886}, 0.4512224793434143], [20, {'F1-score': 0.03484081817544356}, {'NDCG': 0.058507005591295604}, 0.441200315952301], [21, {'F1-score': 0.03876663212846724}, {'NDCG': 0.0622019335168897}, 0.4276166260242462], [22, {'F1-score': 0.040837426837299705}, {'NDCG': 0.06454683031844802}, 0.42037180066108704], [23, {'F1-score': 0.04158640489020508}, {'NDCG': 0.06502353020985716}, 0.4233636260032654], [24, {'F1-score': 0.041303558087190245}, {'NDCG': 0.06500057630324946}, 0.41717544198036194], [25, {'F1-score': 0.04178157921777025}, {'NDCG': 0.06565063762744623}, 0.4188614785671234]]\n",
      "-----------------------------------------------------------------------------------------\n"
     ]
    },
    {
     "name": "stderr",
     "output_type": "stream",
     "text": [
      "  0%|          | 1/932 [00:00<01:34,  9.90it/s]"
     ]
    },
    {
     "name": "stdout",
     "output_type": "stream",
     "text": [
      "Epoch 26: 0% , Loss: 0.589213\n"
     ]
    },
    {
     "name": "stderr",
     "output_type": "stream",
     "text": [
      " 11%|█         | 102/932 [00:11<01:43,  8.05it/s]"
     ]
    },
    {
     "name": "stdout",
     "output_type": "stream",
     "text": [
      "Epoch 26: 11% , Loss: 0.319241\n"
     ]
    },
    {
     "name": "stderr",
     "output_type": "stream",
     "text": [
      " 22%|██▏       | 202/932 [00:23<02:01,  5.99it/s]"
     ]
    },
    {
     "name": "stdout",
     "output_type": "stream",
     "text": [
      "Epoch 26: 21% , Loss: 0.193644\n"
     ]
    },
    {
     "name": "stderr",
     "output_type": "stream",
     "text": [
      " 32%|███▏      | 302/932 [00:36<01:22,  7.64it/s]"
     ]
    },
    {
     "name": "stdout",
     "output_type": "stream",
     "text": [
      "Epoch 26: 32% , Loss: 0.196266\n"
     ]
    },
    {
     "name": "stderr",
     "output_type": "stream",
     "text": [
      " 43%|████▎     | 402/932 [00:49<01:09,  7.68it/s]"
     ]
    },
    {
     "name": "stdout",
     "output_type": "stream",
     "text": [
      "Epoch 26: 43% , Loss: 0.109841\n"
     ]
    },
    {
     "name": "stderr",
     "output_type": "stream",
     "text": [
      " 54%|█████▍    | 502/932 [01:03<01:05,  6.55it/s]"
     ]
    },
    {
     "name": "stdout",
     "output_type": "stream",
     "text": [
      "Epoch 26: 54% , Loss: 1.072331\n"
     ]
    },
    {
     "name": "stderr",
     "output_type": "stream",
     "text": [
      " 65%|██████▍   | 602/932 [01:18<00:46,  7.02it/s]"
     ]
    },
    {
     "name": "stdout",
     "output_type": "stream",
     "text": [
      "Epoch 26: 64% , Loss: 2.648005\n"
     ]
    },
    {
     "name": "stderr",
     "output_type": "stream",
     "text": [
      " 75%|███████▌  | 701/932 [01:33<00:34,  6.69it/s]"
     ]
    },
    {
     "name": "stdout",
     "output_type": "stream",
     "text": [
      "Epoch 26: 75% , Loss: 0.166789\n"
     ]
    },
    {
     "name": "stderr",
     "output_type": "stream",
     "text": [
      " 86%|████████▌ | 801/932 [01:48<00:21,  6.13it/s]"
     ]
    },
    {
     "name": "stdout",
     "output_type": "stream",
     "text": [
      "Epoch 26: 86% , Loss: 0.156145\n"
     ]
    },
    {
     "name": "stderr",
     "output_type": "stream",
     "text": [
      " 97%|█████████▋| 901/932 [02:05<00:05,  5.64it/s]"
     ]
    },
    {
     "name": "stdout",
     "output_type": "stream",
     "text": [
      "Epoch 26: 97% , Loss: 0.040950\n"
     ]
    },
    {
     "name": "stderr",
     "output_type": "stream",
     "text": [
      "100%|██████████| 932/932 [02:10<00:00,  7.15it/s]\n"
     ]
    },
    {
     "name": "stdout",
     "output_type": "stream",
     "text": [
      "Epoch 26: 100% , Loss: 1.126888\n",
      "                      (F1-score: 0.0444)\n",
      "\n",
      "                      (NDCG: 0.0712)\n",
      "\n",
      "train_loss= tensor(0.4990)\n",
      "--------------------\n"
     ]
    },
    {
     "name": "stderr",
     "output_type": "stream",
     "text": [
      "100%|██████████| 133/133 [00:09<00:00, 13.85it/s]\n"
     ]
    },
    {
     "name": "stdout",
     "output_type": "stream",
     "text": [
      "                      (F1-score: 0.0424)\n",
      "\n",
      "                      (NDCG: 0.0696)\n",
      "\n",
      "val_loss= tensor(0.4178)\n",
      "--------------------\n"
     ]
    },
    {
     "name": "stderr",
     "output_type": "stream",
     "text": [
      "100%|██████████| 266/266 [00:21<00:00, 12.65it/s]\n"
     ]
    },
    {
     "name": "stdout",
     "output_type": "stream",
     "text": [
      "                      (F1-score: 0.0418)\n",
      "\n",
      "                      (NDCG: 0.0653)\n",
      "\n",
      "--------------------\n",
      "[[1, {'F1-score': 0.020696255000910255}, {'NDCG': nan}, 1.6557947397232056], [2, {'F1-score': 0.0026908073907922344}, {'NDCG': nan}, 1.5130956172943115], [3, {'F1-score': 0.00035244360902255637}, {'NDCG': nan}, 1.4251788854599], [4, {'F1-score': 0.0003512840542915731}, {'NDCG': nan}, 1.3017510175704956], [5, {'F1-score': 7.374204742625796e-05}, {'NDCG': nan}, 1.199181079864502], [6, {'F1-score': 3.614806246385194e-05}, {'NDCG': nan}, 1.139860987663269], [7, {'F1-score': 3.480924533556112e-05}, {'NDCG': nan}, 1.0200258493423462], [8, {'F1-score': 3.480924533556112e-05}, {'NDCG': nan}, 0.9639192819595337], [9, {'F1-score': 0.0}, {'NDCG': nan}, 0.8990397453308105], [10, {'F1-score': 0.0}, {'NDCG': nan}, 0.8436604738235474], [11, {'F1-score': 0.0}, {'NDCG': nan}, 0.8076251149177551], [12, {'F1-score': 0.0}, {'NDCG': nan}, 0.7697919011116028], [13, {'F1-score': 5.8740601503759395e-05}, {'NDCG': nan}, 0.753480851650238], [14, {'F1-score': 0.0012219878443341513}, {'NDCG': nan}, 0.7338847517967224], [15, {'F1-score': 0.01062534167203703}, {'NDCG': 0.013129201301030423}, 0.6185950040817261], [16, {'F1-score': 0.019375928851687044}, {'NDCG': 0.03519700076150939}, 0.5403242111206055], [17, {'F1-score': 0.01848253876996446}, {'NDCG': 0.040508479944297245}, 0.4890783727169037], [18, {'F1-score': 0.020716118820674857}, {'NDCG': 0.041985287096463424}, 0.4662051796913147], [19, {'F1-score': 0.027990785761887106}, {'NDCG': 0.048343488129023886}, 0.4512224793434143], [20, {'F1-score': 0.03484081817544356}, {'NDCG': 0.058507005591295604}, 0.441200315952301], [21, {'F1-score': 0.03876663212846724}, {'NDCG': 0.0622019335168897}, 0.4276166260242462], [22, {'F1-score': 0.040837426837299705}, {'NDCG': 0.06454683031844802}, 0.42037180066108704], [23, {'F1-score': 0.04158640489020508}, {'NDCG': 0.06502353020985716}, 0.4233636260032654], [24, {'F1-score': 0.041303558087190245}, {'NDCG': 0.06500057630324946}, 0.41717544198036194], [25, {'F1-score': 0.04178157921777025}, {'NDCG': 0.06565063762744623}, 0.4188614785671234], [26, {'F1-score': 0.041769954678281}, {'NDCG': 0.0652992679716501}, 0.41779473423957825]]\n",
      "-----------------------------------------------------------------------------------------\n"
     ]
    },
    {
     "name": "stderr",
     "output_type": "stream",
     "text": [
      "\r",
      "  0%|          | 0/932 [00:00<?, ?it/s]"
     ]
    },
    {
     "name": "stdout",
     "output_type": "stream",
     "text": [
      "Epoch 27: 0% , Loss: 0.947528\n"
     ]
    },
    {
     "name": "stderr",
     "output_type": "stream",
     "text": [
      " 11%|█         | 102/932 [00:11<01:55,  7.19it/s]"
     ]
    },
    {
     "name": "stdout",
     "output_type": "stream",
     "text": [
      "Epoch 27: 11% , Loss: 0.230144\n"
     ]
    },
    {
     "name": "stderr",
     "output_type": "stream",
     "text": [
      " 22%|██▏       | 202/932 [00:22<01:21,  8.97it/s]"
     ]
    },
    {
     "name": "stdout",
     "output_type": "stream",
     "text": [
      "Epoch 27: 21% , Loss: 0.203053\n"
     ]
    },
    {
     "name": "stderr",
     "output_type": "stream",
     "text": [
      " 32%|███▏      | 302/932 [00:35<01:25,  7.38it/s]"
     ]
    },
    {
     "name": "stdout",
     "output_type": "stream",
     "text": [
      "Epoch 27: 32% , Loss: 0.553132\n"
     ]
    },
    {
     "name": "stderr",
     "output_type": "stream",
     "text": [
      " 43%|████▎     | 402/932 [00:49<01:08,  7.79it/s]"
     ]
    },
    {
     "name": "stdout",
     "output_type": "stream",
     "text": [
      "Epoch 27: 43% , Loss: 0.170332\n"
     ]
    },
    {
     "name": "stderr",
     "output_type": "stream",
     "text": [
      " 54%|█████▍    | 502/932 [01:03<01:00,  7.12it/s]"
     ]
    },
    {
     "name": "stdout",
     "output_type": "stream",
     "text": [
      "Epoch 27: 54% , Loss: 0.528196\n"
     ]
    },
    {
     "name": "stderr",
     "output_type": "stream",
     "text": [
      " 65%|██████▍   | 602/932 [01:17<00:49,  6.65it/s]"
     ]
    },
    {
     "name": "stdout",
     "output_type": "stream",
     "text": [
      "Epoch 27: 64% , Loss: 0.257886\n"
     ]
    },
    {
     "name": "stderr",
     "output_type": "stream",
     "text": [
      " 75%|███████▌  | 701/932 [01:33<00:36,  6.36it/s]"
     ]
    },
    {
     "name": "stdout",
     "output_type": "stream",
     "text": [
      "Epoch 27: 75% , Loss: 0.108645\n"
     ]
    },
    {
     "name": "stderr",
     "output_type": "stream",
     "text": [
      " 86%|████████▌ | 801/932 [01:48<00:20,  6.33it/s]"
     ]
    },
    {
     "name": "stdout",
     "output_type": "stream",
     "text": [
      "Epoch 27: 86% , Loss: 0.619303\n"
     ]
    },
    {
     "name": "stderr",
     "output_type": "stream",
     "text": [
      " 97%|█████████▋| 901/932 [02:05<00:05,  6.14it/s]"
     ]
    },
    {
     "name": "stdout",
     "output_type": "stream",
     "text": [
      "Epoch 27: 97% , Loss: 0.225384\n"
     ]
    },
    {
     "name": "stderr",
     "output_type": "stream",
     "text": [
      "100%|██████████| 932/932 [02:10<00:00,  7.14it/s]\n"
     ]
    },
    {
     "name": "stdout",
     "output_type": "stream",
     "text": [
      "Epoch 27: 100% , Loss: 0.744680\n",
      "                      (F1-score: 0.0444)\n",
      "\n",
      "                      (NDCG: 0.0715)\n",
      "\n",
      "train_loss= tensor(0.4985)\n",
      "--------------------\n"
     ]
    },
    {
     "name": "stderr",
     "output_type": "stream",
     "text": [
      "100%|██████████| 133/133 [00:09<00:00, 13.87it/s]\n"
     ]
    },
    {
     "name": "stdout",
     "output_type": "stream",
     "text": [
      "                      (F1-score: 0.0439)\n",
      "\n",
      "                      (NDCG: 0.0705)\n",
      "\n",
      "val_loss= tensor(0.4186)\n",
      "--------------------\n"
     ]
    },
    {
     "name": "stderr",
     "output_type": "stream",
     "text": [
      "100%|██████████| 266/266 [00:20<00:00, 12.82it/s]\n"
     ]
    },
    {
     "name": "stdout",
     "output_type": "stream",
     "text": [
      "                      (F1-score: 0.0416)\n",
      "\n",
      "                      (NDCG: 0.0654)\n",
      "\n",
      "--------------------\n",
      "[[1, {'F1-score': 0.020696255000910255}, {'NDCG': nan}, 1.6557947397232056], [2, {'F1-score': 0.0026908073907922344}, {'NDCG': nan}, 1.5130956172943115], [3, {'F1-score': 0.00035244360902255637}, {'NDCG': nan}, 1.4251788854599], [4, {'F1-score': 0.0003512840542915731}, {'NDCG': nan}, 1.3017510175704956], [5, {'F1-score': 7.374204742625796e-05}, {'NDCG': nan}, 1.199181079864502], [6, {'F1-score': 3.614806246385194e-05}, {'NDCG': nan}, 1.139860987663269], [7, {'F1-score': 3.480924533556112e-05}, {'NDCG': nan}, 1.0200258493423462], [8, {'F1-score': 3.480924533556112e-05}, {'NDCG': nan}, 0.9639192819595337], [9, {'F1-score': 0.0}, {'NDCG': nan}, 0.8990397453308105], [10, {'F1-score': 0.0}, {'NDCG': nan}, 0.8436604738235474], [11, {'F1-score': 0.0}, {'NDCG': nan}, 0.8076251149177551], [12, {'F1-score': 0.0}, {'NDCG': nan}, 0.7697919011116028], [13, {'F1-score': 5.8740601503759395e-05}, {'NDCG': nan}, 0.753480851650238], [14, {'F1-score': 0.0012219878443341513}, {'NDCG': nan}, 0.7338847517967224], [15, {'F1-score': 0.01062534167203703}, {'NDCG': 0.013129201301030423}, 0.6185950040817261], [16, {'F1-score': 0.019375928851687044}, {'NDCG': 0.03519700076150939}, 0.5403242111206055], [17, {'F1-score': 0.01848253876996446}, {'NDCG': 0.040508479944297245}, 0.4890783727169037], [18, {'F1-score': 0.020716118820674857}, {'NDCG': 0.041985287096463424}, 0.4662051796913147], [19, {'F1-score': 0.027990785761887106}, {'NDCG': 0.048343488129023886}, 0.4512224793434143], [20, {'F1-score': 0.03484081817544356}, {'NDCG': 0.058507005591295604}, 0.441200315952301], [21, {'F1-score': 0.03876663212846724}, {'NDCG': 0.0622019335168897}, 0.4276166260242462], [22, {'F1-score': 0.040837426837299705}, {'NDCG': 0.06454683031844802}, 0.42037180066108704], [23, {'F1-score': 0.04158640489020508}, {'NDCG': 0.06502353020985716}, 0.4233636260032654], [24, {'F1-score': 0.041303558087190245}, {'NDCG': 0.06500057630324946}, 0.41717544198036194], [25, {'F1-score': 0.04178157921777025}, {'NDCG': 0.06565063762744623}, 0.4188614785671234], [26, {'F1-score': 0.041769954678281}, {'NDCG': 0.0652992679716501}, 0.41779473423957825], [27, {'F1-score': 0.041584193678853895}, {'NDCG': 0.06540942633055374}, 0.41860634088516235]]\n",
      "-----------------------------------------------------------------------------------------\n"
     ]
    },
    {
     "name": "stderr",
     "output_type": "stream",
     "text": [
      "  0%|          | 1/932 [00:00<01:38,  9.43it/s]"
     ]
    },
    {
     "name": "stdout",
     "output_type": "stream",
     "text": [
      "Epoch 28: 0% , Loss: 0.364329\n"
     ]
    },
    {
     "name": "stderr",
     "output_type": "stream",
     "text": [
      " 11%|█         | 102/932 [00:11<01:31,  9.08it/s]"
     ]
    },
    {
     "name": "stdout",
     "output_type": "stream",
     "text": [
      "Epoch 28: 11% , Loss: 0.116188\n"
     ]
    },
    {
     "name": "stderr",
     "output_type": "stream",
     "text": [
      " 22%|██▏       | 202/932 [00:23<01:29,  8.19it/s]"
     ]
    },
    {
     "name": "stdout",
     "output_type": "stream",
     "text": [
      "Epoch 28: 21% , Loss: 0.142927\n"
     ]
    },
    {
     "name": "stderr",
     "output_type": "stream",
     "text": [
      " 32%|███▏      | 302/932 [00:35<01:18,  8.05it/s]"
     ]
    },
    {
     "name": "stdout",
     "output_type": "stream",
     "text": [
      "Epoch 28: 32% , Loss: 1.116910\n"
     ]
    },
    {
     "name": "stderr",
     "output_type": "stream",
     "text": [
      " 43%|████▎     | 402/932 [00:48<01:08,  7.70it/s]"
     ]
    },
    {
     "name": "stdout",
     "output_type": "stream",
     "text": [
      "Epoch 28: 43% , Loss: 0.115688\n"
     ]
    },
    {
     "name": "stderr",
     "output_type": "stream",
     "text": [
      " 54%|█████▍    | 502/932 [01:02<01:05,  6.55it/s]"
     ]
    },
    {
     "name": "stdout",
     "output_type": "stream",
     "text": [
      "Epoch 28: 54% , Loss: 0.201466\n"
     ]
    },
    {
     "name": "stderr",
     "output_type": "stream",
     "text": [
      " 65%|██████▍   | 602/932 [01:17<00:48,  6.82it/s]"
     ]
    },
    {
     "name": "stdout",
     "output_type": "stream",
     "text": [
      "Epoch 28: 64% , Loss: 0.302629\n"
     ]
    },
    {
     "name": "stderr",
     "output_type": "stream",
     "text": [
      " 75%|███████▌  | 701/932 [01:32<00:37,  6.16it/s]"
     ]
    },
    {
     "name": "stdout",
     "output_type": "stream",
     "text": [
      "Epoch 28: 75% , Loss: 0.552536\n"
     ]
    },
    {
     "name": "stderr",
     "output_type": "stream",
     "text": [
      " 86%|████████▌ | 801/932 [01:48<00:20,  6.34it/s]"
     ]
    },
    {
     "name": "stdout",
     "output_type": "stream",
     "text": [
      "Epoch 28: 86% , Loss: 0.240959\n"
     ]
    },
    {
     "name": "stderr",
     "output_type": "stream",
     "text": [
      " 97%|█████████▋| 901/932 [02:05<00:05,  6.16it/s]"
     ]
    },
    {
     "name": "stdout",
     "output_type": "stream",
     "text": [
      "Epoch 28: 97% , Loss: 1.031779\n"
     ]
    },
    {
     "name": "stderr",
     "output_type": "stream",
     "text": [
      "100%|██████████| 932/932 [02:10<00:00,  7.15it/s]\n"
     ]
    },
    {
     "name": "stdout",
     "output_type": "stream",
     "text": [
      "Epoch 28: 100% , Loss: 0.380708\n",
      "                      (F1-score: 0.0441)\n",
      "\n",
      "                      (NDCG: 0.0708)\n",
      "\n",
      "train_loss= tensor(0.4899)\n",
      "--------------------\n"
     ]
    },
    {
     "name": "stderr",
     "output_type": "stream",
     "text": [
      "100%|██████████| 133/133 [00:09<00:00, 14.20it/s]\n"
     ]
    },
    {
     "name": "stdout",
     "output_type": "stream",
     "text": [
      "                      (F1-score: 0.0429)\n",
      "\n",
      "                      (NDCG: 0.0700)\n",
      "\n",
      "val_loss= tensor(0.4165)\n",
      "--------------------\n"
     ]
    },
    {
     "name": "stderr",
     "output_type": "stream",
     "text": [
      "100%|██████████| 266/266 [00:20<00:00, 12.70it/s]\n"
     ]
    },
    {
     "name": "stdout",
     "output_type": "stream",
     "text": [
      "                      (F1-score: 0.0415)\n",
      "\n",
      "                      (NDCG: 0.0654)\n",
      "\n",
      "--------------------\n",
      "[[1, {'F1-score': 0.020696255000910255}, {'NDCG': nan}, 1.6557947397232056], [2, {'F1-score': 0.0026908073907922344}, {'NDCG': nan}, 1.5130956172943115], [3, {'F1-score': 0.00035244360902255637}, {'NDCG': nan}, 1.4251788854599], [4, {'F1-score': 0.0003512840542915731}, {'NDCG': nan}, 1.3017510175704956], [5, {'F1-score': 7.374204742625796e-05}, {'NDCG': nan}, 1.199181079864502], [6, {'F1-score': 3.614806246385194e-05}, {'NDCG': nan}, 1.139860987663269], [7, {'F1-score': 3.480924533556112e-05}, {'NDCG': nan}, 1.0200258493423462], [8, {'F1-score': 3.480924533556112e-05}, {'NDCG': nan}, 0.9639192819595337], [9, {'F1-score': 0.0}, {'NDCG': nan}, 0.8990397453308105], [10, {'F1-score': 0.0}, {'NDCG': nan}, 0.8436604738235474], [11, {'F1-score': 0.0}, {'NDCG': nan}, 0.8076251149177551], [12, {'F1-score': 0.0}, {'NDCG': nan}, 0.7697919011116028], [13, {'F1-score': 5.8740601503759395e-05}, {'NDCG': nan}, 0.753480851650238], [14, {'F1-score': 0.0012219878443341513}, {'NDCG': nan}, 0.7338847517967224], [15, {'F1-score': 0.01062534167203703}, {'NDCG': 0.013129201301030423}, 0.6185950040817261], [16, {'F1-score': 0.019375928851687044}, {'NDCG': 0.03519700076150939}, 0.5403242111206055], [17, {'F1-score': 0.01848253876996446}, {'NDCG': 0.040508479944297245}, 0.4890783727169037], [18, {'F1-score': 0.020716118820674857}, {'NDCG': 0.041985287096463424}, 0.4662051796913147], [19, {'F1-score': 0.027990785761887106}, {'NDCG': 0.048343488129023886}, 0.4512224793434143], [20, {'F1-score': 0.03484081817544356}, {'NDCG': 0.058507005591295604}, 0.441200315952301], [21, {'F1-score': 0.03876663212846724}, {'NDCG': 0.0622019335168897}, 0.4276166260242462], [22, {'F1-score': 0.040837426837299705}, {'NDCG': 0.06454683031844802}, 0.42037180066108704], [23, {'F1-score': 0.04158640489020508}, {'NDCG': 0.06502353020985716}, 0.4233636260032654], [24, {'F1-score': 0.041303558087190245}, {'NDCG': 0.06500057630324946}, 0.41717544198036194], [25, {'F1-score': 0.04178157921777025}, {'NDCG': 0.06565063762744623}, 0.4188614785671234], [26, {'F1-score': 0.041769954678281}, {'NDCG': 0.0652992679716501}, 0.41779473423957825], [27, {'F1-score': 0.041584193678853895}, {'NDCG': 0.06540942633055374}, 0.41860634088516235], [28, {'F1-score': 0.04148225994223965}, {'NDCG': 0.06543476971678604}, 0.4165288507938385]]\n",
      "-----------------------------------------------------------------------------------------\n"
     ]
    },
    {
     "name": "stderr",
     "output_type": "stream",
     "text": [
      "  0%|          | 2/932 [00:00<01:42,  9.11it/s]"
     ]
    },
    {
     "name": "stdout",
     "output_type": "stream",
     "text": [
      "Epoch 29: 0% , Loss: 2.886368\n"
     ]
    },
    {
     "name": "stderr",
     "output_type": "stream",
     "text": [
      " 11%|█         | 102/932 [00:11<01:34,  8.78it/s]"
     ]
    },
    {
     "name": "stdout",
     "output_type": "stream",
     "text": [
      "Epoch 29: 11% , Loss: 0.177472\n"
     ]
    },
    {
     "name": "stderr",
     "output_type": "stream",
     "text": [
      " 22%|██▏       | 202/932 [00:23<01:34,  7.71it/s]"
     ]
    },
    {
     "name": "stdout",
     "output_type": "stream",
     "text": [
      "Epoch 29: 21% , Loss: 0.128581\n"
     ]
    },
    {
     "name": "stderr",
     "output_type": "stream",
     "text": [
      " 32%|███▏      | 302/932 [00:36<01:23,  7.56it/s]"
     ]
    },
    {
     "name": "stdout",
     "output_type": "stream",
     "text": [
      "Epoch 29: 32% , Loss: 0.134095\n"
     ]
    },
    {
     "name": "stderr",
     "output_type": "stream",
     "text": [
      " 43%|████▎     | 402/932 [00:49<01:18,  6.77it/s]"
     ]
    },
    {
     "name": "stdout",
     "output_type": "stream",
     "text": [
      "Epoch 29: 43% , Loss: 0.711315\n"
     ]
    },
    {
     "name": "stderr",
     "output_type": "stream",
     "text": [
      " 54%|█████▍    | 502/932 [01:03<01:00,  7.09it/s]"
     ]
    },
    {
     "name": "stdout",
     "output_type": "stream",
     "text": [
      "Epoch 29: 54% , Loss: 0.777224\n"
     ]
    },
    {
     "name": "stderr",
     "output_type": "stream",
     "text": [
      " 65%|██████▍   | 602/932 [01:17<00:46,  7.04it/s]"
     ]
    },
    {
     "name": "stdout",
     "output_type": "stream",
     "text": [
      "Epoch 29: 64% , Loss: 0.594903\n"
     ]
    },
    {
     "name": "stderr",
     "output_type": "stream",
     "text": [
      " 75%|███████▌  | 702/932 [01:33<00:33,  6.77it/s]"
     ]
    },
    {
     "name": "stdout",
     "output_type": "stream",
     "text": [
      "Epoch 29: 75% , Loss: 0.231688\n"
     ]
    },
    {
     "name": "stderr",
     "output_type": "stream",
     "text": [
      " 86%|████████▌ | 801/932 [01:48<00:21,  6.02it/s]"
     ]
    },
    {
     "name": "stdout",
     "output_type": "stream",
     "text": [
      "Epoch 29: 86% , Loss: 0.370758\n"
     ]
    },
    {
     "name": "stderr",
     "output_type": "stream",
     "text": [
      " 97%|█████████▋| 902/932 [02:05<00:06,  4.62it/s]"
     ]
    },
    {
     "name": "stdout",
     "output_type": "stream",
     "text": [
      "Epoch 29: 97% , Loss: 0.298904\n"
     ]
    },
    {
     "name": "stderr",
     "output_type": "stream",
     "text": [
      "100%|██████████| 932/932 [02:10<00:00,  7.13it/s]\n"
     ]
    },
    {
     "name": "stdout",
     "output_type": "stream",
     "text": [
      "Epoch 29: 100% , Loss: 0.232393\n",
      "                      (F1-score: 0.0441)\n",
      "\n",
      "                      (NDCG: 0.0711)\n",
      "\n",
      "train_loss= tensor(0.4865)\n",
      "--------------------\n"
     ]
    },
    {
     "name": "stderr",
     "output_type": "stream",
     "text": [
      "100%|██████████| 133/133 [00:09<00:00, 14.07it/s]\n"
     ]
    },
    {
     "name": "stdout",
     "output_type": "stream",
     "text": [
      "                      (F1-score: 0.0430)\n",
      "\n",
      "                      (NDCG: 0.0700)\n",
      "\n",
      "val_loss= tensor(0.4199)\n",
      "--------------------\n"
     ]
    },
    {
     "name": "stderr",
     "output_type": "stream",
     "text": [
      "100%|██████████| 266/266 [00:20<00:00, 12.70it/s]\n"
     ]
    },
    {
     "name": "stdout",
     "output_type": "stream",
     "text": [
      "                      (F1-score: 0.0417)\n",
      "\n",
      "                      (NDCG: 0.0658)\n",
      "\n",
      "--------------------\n",
      "[[1, {'F1-score': 0.020696255000910255}, {'NDCG': nan}, 1.6557947397232056], [2, {'F1-score': 0.0026908073907922344}, {'NDCG': nan}, 1.5130956172943115], [3, {'F1-score': 0.00035244360902255637}, {'NDCG': nan}, 1.4251788854599], [4, {'F1-score': 0.0003512840542915731}, {'NDCG': nan}, 1.3017510175704956], [5, {'F1-score': 7.374204742625796e-05}, {'NDCG': nan}, 1.199181079864502], [6, {'F1-score': 3.614806246385194e-05}, {'NDCG': nan}, 1.139860987663269], [7, {'F1-score': 3.480924533556112e-05}, {'NDCG': nan}, 1.0200258493423462], [8, {'F1-score': 3.480924533556112e-05}, {'NDCG': nan}, 0.9639192819595337], [9, {'F1-score': 0.0}, {'NDCG': nan}, 0.8990397453308105], [10, {'F1-score': 0.0}, {'NDCG': nan}, 0.8436604738235474], [11, {'F1-score': 0.0}, {'NDCG': nan}, 0.8076251149177551], [12, {'F1-score': 0.0}, {'NDCG': nan}, 0.7697919011116028], [13, {'F1-score': 5.8740601503759395e-05}, {'NDCG': nan}, 0.753480851650238], [14, {'F1-score': 0.0012219878443341513}, {'NDCG': nan}, 0.7338847517967224], [15, {'F1-score': 0.01062534167203703}, {'NDCG': 0.013129201301030423}, 0.6185950040817261], [16, {'F1-score': 0.019375928851687044}, {'NDCG': 0.03519700076150939}, 0.5403242111206055], [17, {'F1-score': 0.01848253876996446}, {'NDCG': 0.040508479944297245}, 0.4890783727169037], [18, {'F1-score': 0.020716118820674857}, {'NDCG': 0.041985287096463424}, 0.4662051796913147], [19, {'F1-score': 0.027990785761887106}, {'NDCG': 0.048343488129023886}, 0.4512224793434143], [20, {'F1-score': 0.03484081817544356}, {'NDCG': 0.058507005591295604}, 0.441200315952301], [21, {'F1-score': 0.03876663212846724}, {'NDCG': 0.0622019335168897}, 0.4276166260242462], [22, {'F1-score': 0.040837426837299705}, {'NDCG': 0.06454683031844802}, 0.42037180066108704], [23, {'F1-score': 0.04158640489020508}, {'NDCG': 0.06502353020985716}, 0.4233636260032654], [24, {'F1-score': 0.041303558087190245}, {'NDCG': 0.06500057630324946}, 0.41717544198036194], [25, {'F1-score': 0.04178157921777025}, {'NDCG': 0.06565063762744623}, 0.4188614785671234], [26, {'F1-score': 0.041769954678281}, {'NDCG': 0.0652992679716501}, 0.41779473423957825], [27, {'F1-score': 0.041584193678853895}, {'NDCG': 0.06540942633055374}, 0.41860634088516235], [28, {'F1-score': 0.04148225994223965}, {'NDCG': 0.06543476971678604}, 0.4165288507938385], [29, {'F1-score': 0.04168342064463433}, {'NDCG': 0.06576223675812826}, 0.41985461115837097]]\n",
      "-----------------------------------------------------------------------------------------\n"
     ]
    },
    {
     "name": "stderr",
     "output_type": "stream",
     "text": [
      "  0%|          | 1/932 [00:00<01:35,  9.71it/s]"
     ]
    },
    {
     "name": "stdout",
     "output_type": "stream",
     "text": [
      "Epoch 30: 0% , Loss: 0.886081\n"
     ]
    },
    {
     "name": "stderr",
     "output_type": "stream",
     "text": [
      " 11%|█         | 102/932 [00:11<01:31,  9.04it/s]"
     ]
    },
    {
     "name": "stdout",
     "output_type": "stream",
     "text": [
      "Epoch 30: 11% , Loss: 0.656146\n"
     ]
    },
    {
     "name": "stderr",
     "output_type": "stream",
     "text": [
      " 22%|██▏       | 202/932 [00:23<01:22,  8.83it/s]"
     ]
    },
    {
     "name": "stdout",
     "output_type": "stream",
     "text": [
      "Epoch 30: 21% , Loss: 0.123758\n"
     ]
    },
    {
     "name": "stderr",
     "output_type": "stream",
     "text": [
      " 32%|███▏      | 302/932 [00:35<01:17,  8.12it/s]"
     ]
    },
    {
     "name": "stdout",
     "output_type": "stream",
     "text": [
      "Epoch 30: 32% , Loss: 0.074674\n"
     ]
    },
    {
     "name": "stderr",
     "output_type": "stream",
     "text": [
      " 43%|████▎     | 402/932 [00:48<01:15,  7.01it/s]"
     ]
    },
    {
     "name": "stdout",
     "output_type": "stream",
     "text": [
      "Epoch 30: 43% , Loss: 0.926003\n"
     ]
    },
    {
     "name": "stderr",
     "output_type": "stream",
     "text": [
      " 54%|█████▍    | 502/932 [01:02<01:00,  7.10it/s]"
     ]
    },
    {
     "name": "stdout",
     "output_type": "stream",
     "text": [
      "Epoch 30: 54% , Loss: 0.196364\n"
     ]
    },
    {
     "name": "stderr",
     "output_type": "stream",
     "text": [
      " 65%|██████▍   | 602/932 [01:17<00:46,  7.10it/s]"
     ]
    },
    {
     "name": "stdout",
     "output_type": "stream",
     "text": [
      "Epoch 30: 64% , Loss: 0.180792\n"
     ]
    },
    {
     "name": "stderr",
     "output_type": "stream",
     "text": [
      " 75%|███████▌  | 701/932 [01:32<00:36,  6.34it/s]"
     ]
    },
    {
     "name": "stdout",
     "output_type": "stream",
     "text": [
      "Epoch 30: 75% , Loss: 0.160155\n"
     ]
    },
    {
     "name": "stderr",
     "output_type": "stream",
     "text": [
      " 86%|████████▌ | 801/932 [01:48<00:21,  6.02it/s]"
     ]
    },
    {
     "name": "stdout",
     "output_type": "stream",
     "text": [
      "Epoch 30: 86% , Loss: 0.278225\n"
     ]
    },
    {
     "name": "stderr",
     "output_type": "stream",
     "text": [
      " 97%|█████████▋| 901/932 [02:05<00:05,  5.98it/s]"
     ]
    },
    {
     "name": "stdout",
     "output_type": "stream",
     "text": [
      "Epoch 30: 97% , Loss: 0.098713\n"
     ]
    },
    {
     "name": "stderr",
     "output_type": "stream",
     "text": [
      "100%|██████████| 932/932 [02:10<00:00,  7.14it/s]\n"
     ]
    },
    {
     "name": "stdout",
     "output_type": "stream",
     "text": [
      "Epoch 30: 100% , Loss: 0.179315\n",
      "                      (F1-score: 0.0446)\n",
      "\n",
      "                      (NDCG: 0.0714)\n",
      "\n",
      "train_loss= tensor(0.4922)\n",
      "--------------------\n"
     ]
    },
    {
     "name": "stderr",
     "output_type": "stream",
     "text": [
      "100%|██████████| 133/133 [00:09<00:00, 13.89it/s]\n"
     ]
    },
    {
     "name": "stdout",
     "output_type": "stream",
     "text": [
      "                      (F1-score: 0.0431)\n",
      "\n",
      "                      (NDCG: 0.0699)\n",
      "\n",
      "val_loss= tensor(0.4157)\n",
      "--------------------\n"
     ]
    },
    {
     "name": "stderr",
     "output_type": "stream",
     "text": [
      "100%|██████████| 266/266 [00:20<00:00, 12.78it/s]\n"
     ]
    },
    {
     "name": "stdout",
     "output_type": "stream",
     "text": [
      "                      (F1-score: 0.0425)\n",
      "\n",
      "                      (NDCG: 0.0662)\n",
      "\n",
      "--------------------\n",
      "[[1, {'F1-score': 0.020696255000910255}, {'NDCG': nan}, 1.6557947397232056], [2, {'F1-score': 0.0026908073907922344}, {'NDCG': nan}, 1.5130956172943115], [3, {'F1-score': 0.00035244360902255637}, {'NDCG': nan}, 1.4251788854599], [4, {'F1-score': 0.0003512840542915731}, {'NDCG': nan}, 1.3017510175704956], [5, {'F1-score': 7.374204742625796e-05}, {'NDCG': nan}, 1.199181079864502], [6, {'F1-score': 3.614806246385194e-05}, {'NDCG': nan}, 1.139860987663269], [7, {'F1-score': 3.480924533556112e-05}, {'NDCG': nan}, 1.0200258493423462], [8, {'F1-score': 3.480924533556112e-05}, {'NDCG': nan}, 0.9639192819595337], [9, {'F1-score': 0.0}, {'NDCG': nan}, 0.8990397453308105], [10, {'F1-score': 0.0}, {'NDCG': nan}, 0.8436604738235474], [11, {'F1-score': 0.0}, {'NDCG': nan}, 0.8076251149177551], [12, {'F1-score': 0.0}, {'NDCG': nan}, 0.7697919011116028], [13, {'F1-score': 5.8740601503759395e-05}, {'NDCG': nan}, 0.753480851650238], [14, {'F1-score': 0.0012219878443341513}, {'NDCG': nan}, 0.7338847517967224], [15, {'F1-score': 0.01062534167203703}, {'NDCG': 0.013129201301030423}, 0.6185950040817261], [16, {'F1-score': 0.019375928851687044}, {'NDCG': 0.03519700076150939}, 0.5403242111206055], [17, {'F1-score': 0.01848253876996446}, {'NDCG': 0.040508479944297245}, 0.4890783727169037], [18, {'F1-score': 0.020716118820674857}, {'NDCG': 0.041985287096463424}, 0.4662051796913147], [19, {'F1-score': 0.027990785761887106}, {'NDCG': 0.048343488129023886}, 0.4512224793434143], [20, {'F1-score': 0.03484081817544356}, {'NDCG': 0.058507005591295604}, 0.441200315952301], [21, {'F1-score': 0.03876663212846724}, {'NDCG': 0.0622019335168897}, 0.4276166260242462], [22, {'F1-score': 0.040837426837299705}, {'NDCG': 0.06454683031844802}, 0.42037180066108704], [23, {'F1-score': 0.04158640489020508}, {'NDCG': 0.06502353020985716}, 0.4233636260032654], [24, {'F1-score': 0.041303558087190245}, {'NDCG': 0.06500057630324946}, 0.41717544198036194], [25, {'F1-score': 0.04178157921777025}, {'NDCG': 0.06565063762744623}, 0.4188614785671234], [26, {'F1-score': 0.041769954678281}, {'NDCG': 0.0652992679716501}, 0.41779473423957825], [27, {'F1-score': 0.041584193678853895}, {'NDCG': 0.06540942633055374}, 0.41860634088516235], [28, {'F1-score': 0.04148225994223965}, {'NDCG': 0.06543476971678604}, 0.4165288507938385], [29, {'F1-score': 0.04168342064463433}, {'NDCG': 0.06576223675812826}, 0.41985461115837097], [30, {'F1-score': 0.04254017440856926}, {'NDCG': 0.06624068631580506}, 0.41571709513664246]]\n",
      "-----------------------------------------------------------------------------------------\n"
     ]
    },
    {
     "name": "stderr",
     "output_type": "stream",
     "text": [
      "\r",
      "  0%|          | 0/932 [00:00<?, ?it/s]"
     ]
    },
    {
     "name": "stdout",
     "output_type": "stream",
     "text": [
      "Epoch 31: 0% , Loss: 0.962311"
     ]
    },
    {
     "name": "stderr",
     "output_type": "stream",
     "text": [
      "\r",
      "  0%|          | 1/932 [00:00<01:38,  9.43it/s]"
     ]
    },
    {
     "name": "stdout",
     "output_type": "stream",
     "text": [
      "\n"
     ]
    },
    {
     "name": "stderr",
     "output_type": "stream",
     "text": [
      " 11%|█         | 102/932 [00:11<01:29,  9.24it/s]"
     ]
    },
    {
     "name": "stdout",
     "output_type": "stream",
     "text": [
      "Epoch 31: 11% , Loss: 1.474077\n"
     ]
    },
    {
     "name": "stderr",
     "output_type": "stream",
     "text": [
      " 22%|██▏       | 202/932 [00:23<01:31,  7.95it/s]"
     ]
    },
    {
     "name": "stdout",
     "output_type": "stream",
     "text": [
      "Epoch 31: 21% , Loss: 2.488551\n"
     ]
    },
    {
     "name": "stderr",
     "output_type": "stream",
     "text": [
      " 32%|███▏      | 302/932 [00:36<01:17,  8.09it/s]"
     ]
    },
    {
     "name": "stdout",
     "output_type": "stream",
     "text": [
      "Epoch 31: 32% , Loss: 0.149299\n"
     ]
    },
    {
     "name": "stderr",
     "output_type": "stream",
     "text": [
      " 43%|████▎     | 402/932 [00:49<01:10,  7.54it/s]"
     ]
    },
    {
     "name": "stdout",
     "output_type": "stream",
     "text": [
      "Epoch 31: 43% , Loss: 2.033479\n"
     ]
    },
    {
     "name": "stderr",
     "output_type": "stream",
     "text": [
      " 54%|█████▍    | 502/932 [01:03<01:09,  6.22it/s]"
     ]
    },
    {
     "name": "stdout",
     "output_type": "stream",
     "text": [
      "Epoch 31: 54% , Loss: 0.140201\n"
     ]
    },
    {
     "name": "stderr",
     "output_type": "stream",
     "text": [
      " 65%|██████▍   | 602/932 [01:18<00:49,  6.72it/s]"
     ]
    },
    {
     "name": "stdout",
     "output_type": "stream",
     "text": [
      "Epoch 31: 64% , Loss: 0.121633\n"
     ]
    },
    {
     "name": "stderr",
     "output_type": "stream",
     "text": [
      " 75%|███████▌  | 702/932 [01:33<00:34,  6.57it/s]"
     ]
    },
    {
     "name": "stdout",
     "output_type": "stream",
     "text": [
      "Epoch 31: 75% , Loss: 0.257865\n"
     ]
    },
    {
     "name": "stderr",
     "output_type": "stream",
     "text": [
      " 86%|████████▌ | 802/932 [01:48<00:19,  6.52it/s]"
     ]
    },
    {
     "name": "stdout",
     "output_type": "stream",
     "text": [
      "Epoch 31: 86% , Loss: 0.183309\n"
     ]
    },
    {
     "name": "stderr",
     "output_type": "stream",
     "text": [
      " 97%|█████████▋| 901/932 [02:05<00:05,  5.87it/s]"
     ]
    },
    {
     "name": "stdout",
     "output_type": "stream",
     "text": [
      "Epoch 31: 97% , Loss: 0.385463\n"
     ]
    },
    {
     "name": "stderr",
     "output_type": "stream",
     "text": [
      "100%|██████████| 932/932 [02:10<00:00,  7.14it/s]\n"
     ]
    },
    {
     "name": "stdout",
     "output_type": "stream",
     "text": [
      "Epoch 31: 100% , Loss: 0.450677\n",
      "                      (F1-score: 0.0445)\n",
      "\n",
      "                      (NDCG: 0.0717)\n",
      "\n",
      "train_loss= tensor(0.4903)\n",
      "--------------------\n"
     ]
    },
    {
     "name": "stderr",
     "output_type": "stream",
     "text": [
      "100%|██████████| 133/133 [00:09<00:00, 13.74it/s]\n"
     ]
    },
    {
     "name": "stdout",
     "output_type": "stream",
     "text": [
      "                      (F1-score: 0.0423)\n",
      "\n",
      "                      (NDCG: 0.0692)\n",
      "\n",
      "val_loss= tensor(0.3991)\n",
      "--------------------\n"
     ]
    },
    {
     "name": "stderr",
     "output_type": "stream",
     "text": [
      "100%|██████████| 266/266 [00:20<00:00, 12.68it/s]\n"
     ]
    },
    {
     "name": "stdout",
     "output_type": "stream",
     "text": [
      "                      (F1-score: 0.0421)\n",
      "\n",
      "                      (NDCG: 0.0659)\n",
      "\n",
      "--------------------\n",
      "[[1, {'F1-score': 0.020696255000910255}, {'NDCG': nan}, 1.6557947397232056], [2, {'F1-score': 0.0026908073907922344}, {'NDCG': nan}, 1.5130956172943115], [3, {'F1-score': 0.00035244360902255637}, {'NDCG': nan}, 1.4251788854599], [4, {'F1-score': 0.0003512840542915731}, {'NDCG': nan}, 1.3017510175704956], [5, {'F1-score': 7.374204742625796e-05}, {'NDCG': nan}, 1.199181079864502], [6, {'F1-score': 3.614806246385194e-05}, {'NDCG': nan}, 1.139860987663269], [7, {'F1-score': 3.480924533556112e-05}, {'NDCG': nan}, 1.0200258493423462], [8, {'F1-score': 3.480924533556112e-05}, {'NDCG': nan}, 0.9639192819595337], [9, {'F1-score': 0.0}, {'NDCG': nan}, 0.8990397453308105], [10, {'F1-score': 0.0}, {'NDCG': nan}, 0.8436604738235474], [11, {'F1-score': 0.0}, {'NDCG': nan}, 0.8076251149177551], [12, {'F1-score': 0.0}, {'NDCG': nan}, 0.7697919011116028], [13, {'F1-score': 5.8740601503759395e-05}, {'NDCG': nan}, 0.753480851650238], [14, {'F1-score': 0.0012219878443341513}, {'NDCG': nan}, 0.7338847517967224], [15, {'F1-score': 0.01062534167203703}, {'NDCG': 0.013129201301030423}, 0.6185950040817261], [16, {'F1-score': 0.019375928851687044}, {'NDCG': 0.03519700076150939}, 0.5403242111206055], [17, {'F1-score': 0.01848253876996446}, {'NDCG': 0.040508479944297245}, 0.4890783727169037], [18, {'F1-score': 0.020716118820674857}, {'NDCG': 0.041985287096463424}, 0.4662051796913147], [19, {'F1-score': 0.027990785761887106}, {'NDCG': 0.048343488129023886}, 0.4512224793434143], [20, {'F1-score': 0.03484081817544356}, {'NDCG': 0.058507005591295604}, 0.441200315952301], [21, {'F1-score': 0.03876663212846724}, {'NDCG': 0.0622019335168897}, 0.4276166260242462], [22, {'F1-score': 0.040837426837299705}, {'NDCG': 0.06454683031844802}, 0.42037180066108704], [23, {'F1-score': 0.04158640489020508}, {'NDCG': 0.06502353020985716}, 0.4233636260032654], [24, {'F1-score': 0.041303558087190245}, {'NDCG': 0.06500057630324946}, 0.41717544198036194], [25, {'F1-score': 0.04178157921777025}, {'NDCG': 0.06565063762744623}, 0.4188614785671234], [26, {'F1-score': 0.041769954678281}, {'NDCG': 0.0652992679716501}, 0.41779473423957825], [27, {'F1-score': 0.041584193678853895}, {'NDCG': 0.06540942633055374}, 0.41860634088516235], [28, {'F1-score': 0.04148225994223965}, {'NDCG': 0.06543476971678604}, 0.4165288507938385], [29, {'F1-score': 0.04168342064463433}, {'NDCG': 0.06576223675812826}, 0.41985461115837097], [30, {'F1-score': 0.04254017440856926}, {'NDCG': 0.06624068631580506}, 0.41571709513664246], [31, {'F1-score': 0.04206764067545528}, {'NDCG': 0.06587583314333308}, 0.3991002142429352]]\n",
      "-----------------------------------------------------------------------------------------\n"
     ]
    },
    {
     "name": "stderr",
     "output_type": "stream",
     "text": [
      "  0%|          | 1/932 [00:00<01:34,  9.80it/s]"
     ]
    },
    {
     "name": "stdout",
     "output_type": "stream",
     "text": [
      "Epoch 32: 0% , Loss: 0.140217\n"
     ]
    },
    {
     "name": "stderr",
     "output_type": "stream",
     "text": [
      " 11%|█         | 102/932 [00:11<01:30,  9.15it/s]"
     ]
    },
    {
     "name": "stdout",
     "output_type": "stream",
     "text": [
      "Epoch 32: 11% , Loss: 0.475551\n"
     ]
    },
    {
     "name": "stderr",
     "output_type": "stream",
     "text": [
      " 22%|██▏       | 202/932 [00:23<01:28,  8.27it/s]"
     ]
    },
    {
     "name": "stdout",
     "output_type": "stream",
     "text": [
      "Epoch 32: 21% , Loss: 0.151128\n"
     ]
    },
    {
     "name": "stderr",
     "output_type": "stream",
     "text": [
      " 32%|███▏      | 301/932 [00:35<01:14,  8.47it/s]"
     ]
    },
    {
     "name": "stdout",
     "output_type": "stream",
     "text": [
      "Epoch 32: 32% , Loss: 0.335020\n"
     ]
    },
    {
     "name": "stderr",
     "output_type": "stream",
     "text": [
      " 43%|████▎     | 402/932 [00:48<01:08,  7.72it/s]"
     ]
    },
    {
     "name": "stdout",
     "output_type": "stream",
     "text": [
      "Epoch 32: 43% , Loss: 1.590490\n"
     ]
    },
    {
     "name": "stderr",
     "output_type": "stream",
     "text": [
      " 54%|█████▍    | 502/932 [01:02<01:03,  6.73it/s]"
     ]
    },
    {
     "name": "stdout",
     "output_type": "stream",
     "text": [
      "Epoch 32: 54% , Loss: 0.250987\n"
     ]
    },
    {
     "name": "stderr",
     "output_type": "stream",
     "text": [
      " 64%|██████▍   | 601/932 [01:17<00:55,  5.93it/s]"
     ]
    },
    {
     "name": "stdout",
     "output_type": "stream",
     "text": [
      "Epoch 32: 64% , Loss: 0.136530\n"
     ]
    },
    {
     "name": "stderr",
     "output_type": "stream",
     "text": [
      " 75%|███████▌  | 702/932 [01:32<00:35,  6.43it/s]"
     ]
    },
    {
     "name": "stdout",
     "output_type": "stream",
     "text": [
      "Epoch 32: 75% , Loss: 0.202860\n"
     ]
    },
    {
     "name": "stderr",
     "output_type": "stream",
     "text": [
      " 86%|████████▌ | 802/932 [01:48<00:19,  6.63it/s]"
     ]
    },
    {
     "name": "stdout",
     "output_type": "stream",
     "text": [
      "Epoch 32: 86% , Loss: 0.508395\n"
     ]
    },
    {
     "name": "stderr",
     "output_type": "stream",
     "text": [
      " 97%|█████████▋| 901/932 [02:05<00:05,  5.75it/s]"
     ]
    },
    {
     "name": "stdout",
     "output_type": "stream",
     "text": [
      "Epoch 32: 97% , Loss: 0.611987\n"
     ]
    },
    {
     "name": "stderr",
     "output_type": "stream",
     "text": [
      "100%|██████████| 932/932 [02:10<00:00,  7.15it/s]\n"
     ]
    },
    {
     "name": "stdout",
     "output_type": "stream",
     "text": [
      "Epoch 32: 100% , Loss: 0.147928\n",
      "                      (F1-score: 0.0447)\n",
      "\n",
      "                      (NDCG: 0.0714)\n",
      "\n",
      "train_loss= tensor(0.4812)\n",
      "--------------------\n"
     ]
    },
    {
     "name": "stderr",
     "output_type": "stream",
     "text": [
      "100%|██████████| 133/133 [00:09<00:00, 13.95it/s]\n"
     ]
    },
    {
     "name": "stdout",
     "output_type": "stream",
     "text": [
      "                      (F1-score: 0.0433)\n",
      "\n",
      "                      (NDCG: 0.0701)\n",
      "\n",
      "val_loss= tensor(0.4182)\n",
      "--------------------\n"
     ]
    },
    {
     "name": "stderr",
     "output_type": "stream",
     "text": [
      "100%|██████████| 266/266 [00:20<00:00, 12.71it/s]\n"
     ]
    },
    {
     "name": "stdout",
     "output_type": "stream",
     "text": [
      "                      (F1-score: 0.0424)\n",
      "\n",
      "                      (NDCG: 0.0664)\n",
      "\n",
      "--------------------\n",
      "[[1, {'F1-score': 0.020696255000910255}, {'NDCG': nan}, 1.6557947397232056], [2, {'F1-score': 0.0026908073907922344}, {'NDCG': nan}, 1.5130956172943115], [3, {'F1-score': 0.00035244360902255637}, {'NDCG': nan}, 1.4251788854599], [4, {'F1-score': 0.0003512840542915731}, {'NDCG': nan}, 1.3017510175704956], [5, {'F1-score': 7.374204742625796e-05}, {'NDCG': nan}, 1.199181079864502], [6, {'F1-score': 3.614806246385194e-05}, {'NDCG': nan}, 1.139860987663269], [7, {'F1-score': 3.480924533556112e-05}, {'NDCG': nan}, 1.0200258493423462], [8, {'F1-score': 3.480924533556112e-05}, {'NDCG': nan}, 0.9639192819595337], [9, {'F1-score': 0.0}, {'NDCG': nan}, 0.8990397453308105], [10, {'F1-score': 0.0}, {'NDCG': nan}, 0.8436604738235474], [11, {'F1-score': 0.0}, {'NDCG': nan}, 0.8076251149177551], [12, {'F1-score': 0.0}, {'NDCG': nan}, 0.7697919011116028], [13, {'F1-score': 5.8740601503759395e-05}, {'NDCG': nan}, 0.753480851650238], [14, {'F1-score': 0.0012219878443341513}, {'NDCG': nan}, 0.7338847517967224], [15, {'F1-score': 0.01062534167203703}, {'NDCG': 0.013129201301030423}, 0.6185950040817261], [16, {'F1-score': 0.019375928851687044}, {'NDCG': 0.03519700076150939}, 0.5403242111206055], [17, {'F1-score': 0.01848253876996446}, {'NDCG': 0.040508479944297245}, 0.4890783727169037], [18, {'F1-score': 0.020716118820674857}, {'NDCG': 0.041985287096463424}, 0.4662051796913147], [19, {'F1-score': 0.027990785761887106}, {'NDCG': 0.048343488129023886}, 0.4512224793434143], [20, {'F1-score': 0.03484081817544356}, {'NDCG': 0.058507005591295604}, 0.441200315952301], [21, {'F1-score': 0.03876663212846724}, {'NDCG': 0.0622019335168897}, 0.4276166260242462], [22, {'F1-score': 0.040837426837299705}, {'NDCG': 0.06454683031844802}, 0.42037180066108704], [23, {'F1-score': 0.04158640489020508}, {'NDCG': 0.06502353020985716}, 0.4233636260032654], [24, {'F1-score': 0.041303558087190245}, {'NDCG': 0.06500057630324946}, 0.41717544198036194], [25, {'F1-score': 0.04178157921777025}, {'NDCG': 0.06565063762744623}, 0.4188614785671234], [26, {'F1-score': 0.041769954678281}, {'NDCG': 0.0652992679716501}, 0.41779473423957825], [27, {'F1-score': 0.041584193678853895}, {'NDCG': 0.06540942633055374}, 0.41860634088516235], [28, {'F1-score': 0.04148225994223965}, {'NDCG': 0.06543476971678604}, 0.4165288507938385], [29, {'F1-score': 0.04168342064463433}, {'NDCG': 0.06576223675812826}, 0.41985461115837097], [30, {'F1-score': 0.04254017440856926}, {'NDCG': 0.06624068631580506}, 0.41571709513664246], [31, {'F1-score': 0.04206764067545528}, {'NDCG': 0.06587583314333308}, 0.3991002142429352], [32, {'F1-score': 0.04239886995089377}, {'NDCG': 0.06640722617135852}, 0.41824036836624146]]\n",
      "-----------------------------------------------------------------------------------------\n"
     ]
    },
    {
     "name": "stderr",
     "output_type": "stream",
     "text": [
      "  0%|          | 2/932 [00:00<02:10,  7.15it/s]"
     ]
    },
    {
     "name": "stdout",
     "output_type": "stream",
     "text": [
      "Epoch 33: 0% , Loss: 0.364157\n"
     ]
    },
    {
     "name": "stderr",
     "output_type": "stream",
     "text": [
      " 11%|█         | 102/932 [00:11<01:38,  8.46it/s]"
     ]
    },
    {
     "name": "stdout",
     "output_type": "stream",
     "text": [
      "Epoch 33: 11% , Loss: 0.519191\n"
     ]
    },
    {
     "name": "stderr",
     "output_type": "stream",
     "text": [
      " 22%|██▏       | 202/932 [00:23<01:24,  8.66it/s]"
     ]
    },
    {
     "name": "stdout",
     "output_type": "stream",
     "text": [
      "Epoch 33: 21% , Loss: 0.879059\n"
     ]
    },
    {
     "name": "stderr",
     "output_type": "stream",
     "text": [
      " 32%|███▏      | 302/932 [00:36<01:28,  7.08it/s]"
     ]
    },
    {
     "name": "stdout",
     "output_type": "stream",
     "text": [
      "Epoch 33: 32% , Loss: 0.052719\n"
     ]
    },
    {
     "name": "stderr",
     "output_type": "stream",
     "text": [
      " 43%|████▎     | 402/932 [00:49<01:05,  8.13it/s]"
     ]
    },
    {
     "name": "stdout",
     "output_type": "stream",
     "text": [
      "Epoch 33: 43% , Loss: 0.116266\n"
     ]
    },
    {
     "name": "stderr",
     "output_type": "stream",
     "text": [
      " 54%|█████▍    | 502/932 [01:03<00:59,  7.17it/s]"
     ]
    },
    {
     "name": "stdout",
     "output_type": "stream",
     "text": [
      "Epoch 33: 54% , Loss: 0.234406\n"
     ]
    },
    {
     "name": "stderr",
     "output_type": "stream",
     "text": [
      " 65%|██████▍   | 602/932 [01:17<00:46,  7.15it/s]"
     ]
    },
    {
     "name": "stdout",
     "output_type": "stream",
     "text": [
      "Epoch 33: 64% , Loss: 0.120350\n"
     ]
    },
    {
     "name": "stderr",
     "output_type": "stream",
     "text": [
      " 75%|███████▌  | 701/932 [01:32<00:35,  6.50it/s]"
     ]
    },
    {
     "name": "stdout",
     "output_type": "stream",
     "text": [
      "Epoch 33: 75% , Loss: 0.626118\n"
     ]
    },
    {
     "name": "stderr",
     "output_type": "stream",
     "text": [
      " 86%|████████▌ | 801/932 [01:48<00:22,  5.78it/s]"
     ]
    },
    {
     "name": "stdout",
     "output_type": "stream",
     "text": [
      "Epoch 33: 86% , Loss: 0.814038\n"
     ]
    },
    {
     "name": "stderr",
     "output_type": "stream",
     "text": [
      " 97%|█████████▋| 901/932 [02:05<00:05,  6.17it/s]"
     ]
    },
    {
     "name": "stdout",
     "output_type": "stream",
     "text": [
      "Epoch 33: 97% , Loss: 0.561235\n"
     ]
    },
    {
     "name": "stderr",
     "output_type": "stream",
     "text": [
      "100%|██████████| 932/932 [02:10<00:00,  7.15it/s]"
     ]
    },
    {
     "name": "stdout",
     "output_type": "stream",
     "text": [
      "Epoch 33: 100% , Loss: 0.054958\n"
     ]
    },
    {
     "name": "stderr",
     "output_type": "stream",
     "text": [
      "\n"
     ]
    },
    {
     "name": "stdout",
     "output_type": "stream",
     "text": [
      "                      (F1-score: 0.0447)\n",
      "\n",
      "                      (NDCG: 0.0713)\n",
      "\n",
      "train_loss= tensor(0.4787)\n",
      "--------------------\n"
     ]
    },
    {
     "name": "stderr",
     "output_type": "stream",
     "text": [
      "100%|██████████| 133/133 [00:09<00:00, 13.64it/s]\n"
     ]
    },
    {
     "name": "stdout",
     "output_type": "stream",
     "text": [
      "                      (F1-score: 0.0424)\n",
      "\n",
      "                      (NDCG: 0.0692)\n",
      "\n",
      "val_loss= tensor(0.4177)\n",
      "--------------------\n"
     ]
    },
    {
     "name": "stderr",
     "output_type": "stream",
     "text": [
      "100%|██████████| 266/266 [00:21<00:00, 12.63it/s]\n"
     ]
    },
    {
     "name": "stdout",
     "output_type": "stream",
     "text": [
      "                      (F1-score: 0.0421)\n",
      "\n",
      "                      (NDCG: 0.0659)\n",
      "\n",
      "--------------------\n",
      "[[1, {'F1-score': 0.020696255000910255}, {'NDCG': nan}, 1.6557947397232056], [2, {'F1-score': 0.0026908073907922344}, {'NDCG': nan}, 1.5130956172943115], [3, {'F1-score': 0.00035244360902255637}, {'NDCG': nan}, 1.4251788854599], [4, {'F1-score': 0.0003512840542915731}, {'NDCG': nan}, 1.3017510175704956], [5, {'F1-score': 7.374204742625796e-05}, {'NDCG': nan}, 1.199181079864502], [6, {'F1-score': 3.614806246385194e-05}, {'NDCG': nan}, 1.139860987663269], [7, {'F1-score': 3.480924533556112e-05}, {'NDCG': nan}, 1.0200258493423462], [8, {'F1-score': 3.480924533556112e-05}, {'NDCG': nan}, 0.9639192819595337], [9, {'F1-score': 0.0}, {'NDCG': nan}, 0.8990397453308105], [10, {'F1-score': 0.0}, {'NDCG': nan}, 0.8436604738235474], [11, {'F1-score': 0.0}, {'NDCG': nan}, 0.8076251149177551], [12, {'F1-score': 0.0}, {'NDCG': nan}, 0.7697919011116028], [13, {'F1-score': 5.8740601503759395e-05}, {'NDCG': nan}, 0.753480851650238], [14, {'F1-score': 0.0012219878443341513}, {'NDCG': nan}, 0.7338847517967224], [15, {'F1-score': 0.01062534167203703}, {'NDCG': 0.013129201301030423}, 0.6185950040817261], [16, {'F1-score': 0.019375928851687044}, {'NDCG': 0.03519700076150939}, 0.5403242111206055], [17, {'F1-score': 0.01848253876996446}, {'NDCG': 0.040508479944297245}, 0.4890783727169037], [18, {'F1-score': 0.020716118820674857}, {'NDCG': 0.041985287096463424}, 0.4662051796913147], [19, {'F1-score': 0.027990785761887106}, {'NDCG': 0.048343488129023886}, 0.4512224793434143], [20, {'F1-score': 0.03484081817544356}, {'NDCG': 0.058507005591295604}, 0.441200315952301], [21, {'F1-score': 0.03876663212846724}, {'NDCG': 0.0622019335168897}, 0.4276166260242462], [22, {'F1-score': 0.040837426837299705}, {'NDCG': 0.06454683031844802}, 0.42037180066108704], [23, {'F1-score': 0.04158640489020508}, {'NDCG': 0.06502353020985716}, 0.4233636260032654], [24, {'F1-score': 0.041303558087190245}, {'NDCG': 0.06500057630324946}, 0.41717544198036194], [25, {'F1-score': 0.04178157921777025}, {'NDCG': 0.06565063762744623}, 0.4188614785671234], [26, {'F1-score': 0.041769954678281}, {'NDCG': 0.0652992679716501}, 0.41779473423957825], [27, {'F1-score': 0.041584193678853895}, {'NDCG': 0.06540942633055374}, 0.41860634088516235], [28, {'F1-score': 0.04148225994223965}, {'NDCG': 0.06543476971678604}, 0.4165288507938385], [29, {'F1-score': 0.04168342064463433}, {'NDCG': 0.06576223675812826}, 0.41985461115837097], [30, {'F1-score': 0.04254017440856926}, {'NDCG': 0.06624068631580506}, 0.41571709513664246], [31, {'F1-score': 0.04206764067545528}, {'NDCG': 0.06587583314333308}, 0.3991002142429352], [32, {'F1-score': 0.04239886995089377}, {'NDCG': 0.06640722617135852}, 0.41824036836624146], [33, {'F1-score': 0.042105165755160594}, {'NDCG': 0.06585952443861984}, 0.4176519513130188]]\n",
      "-----------------------------------------------------------------------------------------\n"
     ]
    },
    {
     "name": "stderr",
     "output_type": "stream",
     "text": [
      "\r",
      "  0%|          | 0/932 [00:00<?, ?it/s]"
     ]
    },
    {
     "name": "stdout",
     "output_type": "stream",
     "text": [
      "Epoch 34: 0% , Loss: 0.096268\n"
     ]
    },
    {
     "name": "stderr",
     "output_type": "stream",
     "text": [
      " 11%|█         | 102/932 [00:11<01:30,  9.22it/s]"
     ]
    },
    {
     "name": "stdout",
     "output_type": "stream",
     "text": [
      "Epoch 34: 11% , Loss: 0.207053\n"
     ]
    },
    {
     "name": "stderr",
     "output_type": "stream",
     "text": [
      " 22%|██▏       | 202/932 [00:22<01:20,  9.12it/s]"
     ]
    },
    {
     "name": "stdout",
     "output_type": "stream",
     "text": [
      "Epoch 34: 21% , Loss: 1.394619\n"
     ]
    },
    {
     "name": "stderr",
     "output_type": "stream",
     "text": [
      " 32%|███▏      | 302/932 [00:35<01:17,  8.15it/s]"
     ]
    },
    {
     "name": "stdout",
     "output_type": "stream",
     "text": [
      "Epoch 34: 32% , Loss: 0.467402\n"
     ]
    },
    {
     "name": "stderr",
     "output_type": "stream",
     "text": [
      " 43%|████▎     | 402/932 [00:48<01:18,  6.78it/s]"
     ]
    },
    {
     "name": "stdout",
     "output_type": "stream",
     "text": [
      "Epoch 34: 43% , Loss: 0.266755\n"
     ]
    },
    {
     "name": "stderr",
     "output_type": "stream",
     "text": [
      " 54%|█████▍    | 502/932 [01:02<00:58,  7.34it/s]"
     ]
    },
    {
     "name": "stdout",
     "output_type": "stream",
     "text": [
      "Epoch 34: 54% , Loss: 2.940584\n"
     ]
    },
    {
     "name": "stderr",
     "output_type": "stream",
     "text": [
      " 65%|██████▍   | 602/932 [01:17<00:48,  6.87it/s]"
     ]
    },
    {
     "name": "stdout",
     "output_type": "stream",
     "text": [
      "Epoch 34: 64% , Loss: 0.357557\n"
     ]
    },
    {
     "name": "stderr",
     "output_type": "stream",
     "text": [
      " 75%|███████▌  | 701/932 [01:32<00:36,  6.31it/s]"
     ]
    },
    {
     "name": "stdout",
     "output_type": "stream",
     "text": [
      "Epoch 34: 75% , Loss: 0.112880\n"
     ]
    },
    {
     "name": "stderr",
     "output_type": "stream",
     "text": [
      " 86%|████████▌ | 801/932 [01:48<00:20,  6.32it/s]"
     ]
    },
    {
     "name": "stdout",
     "output_type": "stream",
     "text": [
      "Epoch 34: 86% , Loss: 0.646242\n"
     ]
    },
    {
     "name": "stderr",
     "output_type": "stream",
     "text": [
      " 97%|█████████▋| 901/932 [02:05<00:05,  6.14it/s]"
     ]
    },
    {
     "name": "stdout",
     "output_type": "stream",
     "text": [
      "Epoch 34: 97% , Loss: 0.162791\n"
     ]
    },
    {
     "name": "stderr",
     "output_type": "stream",
     "text": [
      "100%|██████████| 932/932 [02:10<00:00,  7.13it/s]\n"
     ]
    },
    {
     "name": "stdout",
     "output_type": "stream",
     "text": [
      "Epoch 34: 100% , Loss: 0.685343\n",
      "                      (F1-score: 0.0450)\n",
      "\n",
      "                      (NDCG: 0.0717)\n",
      "\n",
      "train_loss= tensor(0.4784)\n",
      "--------------------\n"
     ]
    },
    {
     "name": "stderr",
     "output_type": "stream",
     "text": [
      "100%|██████████| 133/133 [00:09<00:00, 13.97it/s]\n"
     ]
    },
    {
     "name": "stdout",
     "output_type": "stream",
     "text": [
      "                      (F1-score: 0.0433)\n",
      "\n",
      "                      (NDCG: 0.0702)\n",
      "\n",
      "val_loss= tensor(0.4139)\n",
      "--------------------\n"
     ]
    },
    {
     "name": "stderr",
     "output_type": "stream",
     "text": [
      "100%|██████████| 266/266 [00:21<00:00, 12.64it/s]\n"
     ]
    },
    {
     "name": "stdout",
     "output_type": "stream",
     "text": [
      "                      (F1-score: 0.0425)\n",
      "\n",
      "                      (NDCG: 0.0660)\n",
      "\n",
      "--------------------\n",
      "[[1, {'F1-score': 0.020696255000910255}, {'NDCG': nan}, 1.6557947397232056], [2, {'F1-score': 0.0026908073907922344}, {'NDCG': nan}, 1.5130956172943115], [3, {'F1-score': 0.00035244360902255637}, {'NDCG': nan}, 1.4251788854599], [4, {'F1-score': 0.0003512840542915731}, {'NDCG': nan}, 1.3017510175704956], [5, {'F1-score': 7.374204742625796e-05}, {'NDCG': nan}, 1.199181079864502], [6, {'F1-score': 3.614806246385194e-05}, {'NDCG': nan}, 1.139860987663269], [7, {'F1-score': 3.480924533556112e-05}, {'NDCG': nan}, 1.0200258493423462], [8, {'F1-score': 3.480924533556112e-05}, {'NDCG': nan}, 0.9639192819595337], [9, {'F1-score': 0.0}, {'NDCG': nan}, 0.8990397453308105], [10, {'F1-score': 0.0}, {'NDCG': nan}, 0.8436604738235474], [11, {'F1-score': 0.0}, {'NDCG': nan}, 0.8076251149177551], [12, {'F1-score': 0.0}, {'NDCG': nan}, 0.7697919011116028], [13, {'F1-score': 5.8740601503759395e-05}, {'NDCG': nan}, 0.753480851650238], [14, {'F1-score': 0.0012219878443341513}, {'NDCG': nan}, 0.7338847517967224], [15, {'F1-score': 0.01062534167203703}, {'NDCG': 0.013129201301030423}, 0.6185950040817261], [16, {'F1-score': 0.019375928851687044}, {'NDCG': 0.03519700076150939}, 0.5403242111206055], [17, {'F1-score': 0.01848253876996446}, {'NDCG': 0.040508479944297245}, 0.4890783727169037], [18, {'F1-score': 0.020716118820674857}, {'NDCG': 0.041985287096463424}, 0.4662051796913147], [19, {'F1-score': 0.027990785761887106}, {'NDCG': 0.048343488129023886}, 0.4512224793434143], [20, {'F1-score': 0.03484081817544356}, {'NDCG': 0.058507005591295604}, 0.441200315952301], [21, {'F1-score': 0.03876663212846724}, {'NDCG': 0.0622019335168897}, 0.4276166260242462], [22, {'F1-score': 0.040837426837299705}, {'NDCG': 0.06454683031844802}, 0.42037180066108704], [23, {'F1-score': 0.04158640489020508}, {'NDCG': 0.06502353020985716}, 0.4233636260032654], [24, {'F1-score': 0.041303558087190245}, {'NDCG': 0.06500057630324946}, 0.41717544198036194], [25, {'F1-score': 0.04178157921777025}, {'NDCG': 0.06565063762744623}, 0.4188614785671234], [26, {'F1-score': 0.041769954678281}, {'NDCG': 0.0652992679716501}, 0.41779473423957825], [27, {'F1-score': 0.041584193678853895}, {'NDCG': 0.06540942633055374}, 0.41860634088516235], [28, {'F1-score': 0.04148225994223965}, {'NDCG': 0.06543476971678604}, 0.4165288507938385], [29, {'F1-score': 0.04168342064463433}, {'NDCG': 0.06576223675812826}, 0.41985461115837097], [30, {'F1-score': 0.04254017440856926}, {'NDCG': 0.06624068631580506}, 0.41571709513664246], [31, {'F1-score': 0.04206764067545528}, {'NDCG': 0.06587583314333308}, 0.3991002142429352], [32, {'F1-score': 0.04239886995089377}, {'NDCG': 0.06640722617135852}, 0.41824036836624146], [33, {'F1-score': 0.042105165755160594}, {'NDCG': 0.06585952443861984}, 0.4176519513130188], [34, {'F1-score': 0.042473682280207925}, {'NDCG': 0.06604485194850013}, 0.41393372416496277]]\n",
      "-----------------------------------------------------------------------------------------\n"
     ]
    },
    {
     "name": "stderr",
     "output_type": "stream",
     "text": [
      "  0%|          | 1/932 [00:00<02:19,  6.66it/s]"
     ]
    },
    {
     "name": "stdout",
     "output_type": "stream",
     "text": [
      "Epoch 35: 0% , Loss: 1.632678\n"
     ]
    },
    {
     "name": "stderr",
     "output_type": "stream",
     "text": [
      " 11%|█         | 101/932 [00:11<01:32,  8.95it/s]"
     ]
    },
    {
     "name": "stdout",
     "output_type": "stream",
     "text": [
      "Epoch 35: 11% , Loss: 0.200935\n"
     ]
    },
    {
     "name": "stderr",
     "output_type": "stream",
     "text": [
      " 22%|██▏       | 202/932 [00:23<01:29,  8.16it/s]"
     ]
    },
    {
     "name": "stdout",
     "output_type": "stream",
     "text": [
      "Epoch 35: 21% , Loss: 0.150799\n"
     ]
    },
    {
     "name": "stderr",
     "output_type": "stream",
     "text": [
      " 32%|███▏      | 302/932 [00:35<01:34,  6.63it/s]"
     ]
    },
    {
     "name": "stdout",
     "output_type": "stream",
     "text": [
      "Epoch 35: 32% , Loss: 0.267900\n"
     ]
    },
    {
     "name": "stderr",
     "output_type": "stream",
     "text": [
      " 43%|████▎     | 402/932 [00:48<01:05,  8.08it/s]"
     ]
    },
    {
     "name": "stdout",
     "output_type": "stream",
     "text": [
      "Epoch 35: 43% , Loss: 0.785419\n"
     ]
    },
    {
     "name": "stderr",
     "output_type": "stream",
     "text": [
      " 54%|█████▍    | 502/932 [01:02<00:59,  7.22it/s]"
     ]
    },
    {
     "name": "stdout",
     "output_type": "stream",
     "text": [
      "Epoch 35: 54% , Loss: 0.847229\n"
     ]
    },
    {
     "name": "stderr",
     "output_type": "stream",
     "text": [
      " 65%|██████▍   | 602/932 [01:17<00:50,  6.53it/s]"
     ]
    },
    {
     "name": "stdout",
     "output_type": "stream",
     "text": [
      "Epoch 35: 64% , Loss: 0.511175\n"
     ]
    },
    {
     "name": "stderr",
     "output_type": "stream",
     "text": [
      " 75%|███████▌  | 701/932 [01:32<00:37,  6.24it/s]"
     ]
    },
    {
     "name": "stdout",
     "output_type": "stream",
     "text": [
      "Epoch 35: 75% , Loss: 0.569354\n"
     ]
    },
    {
     "name": "stderr",
     "output_type": "stream",
     "text": [
      " 86%|████████▌ | 801/932 [01:48<00:20,  6.33it/s]"
     ]
    },
    {
     "name": "stdout",
     "output_type": "stream",
     "text": [
      "Epoch 35: 86% , Loss: 0.569013\n"
     ]
    },
    {
     "name": "stderr",
     "output_type": "stream",
     "text": [
      " 97%|█████████▋| 901/932 [02:04<00:05,  5.99it/s]"
     ]
    },
    {
     "name": "stdout",
     "output_type": "stream",
     "text": [
      "Epoch 35: 97% , Loss: 0.167491\n"
     ]
    },
    {
     "name": "stderr",
     "output_type": "stream",
     "text": [
      "100%|██████████| 932/932 [02:10<00:00,  7.16it/s]"
     ]
    },
    {
     "name": "stdout",
     "output_type": "stream",
     "text": [
      "Epoch 35: 100% , Loss: 0.324217\n"
     ]
    },
    {
     "name": "stderr",
     "output_type": "stream",
     "text": [
      "\n"
     ]
    },
    {
     "name": "stdout",
     "output_type": "stream",
     "text": [
      "                      (F1-score: 0.0446)\n",
      "\n",
      "                      (NDCG: 0.0713)\n",
      "\n",
      "train_loss= tensor(0.4786)\n",
      "--------------------\n"
     ]
    },
    {
     "name": "stderr",
     "output_type": "stream",
     "text": [
      "100%|██████████| 133/133 [00:09<00:00, 14.05it/s]\n"
     ]
    },
    {
     "name": "stdout",
     "output_type": "stream",
     "text": [
      "                      (F1-score: 0.0422)\n",
      "\n",
      "                      (NDCG: 0.0690)\n",
      "\n",
      "val_loss= tensor(0.4198)\n",
      "--------------------\n"
     ]
    },
    {
     "name": "stderr",
     "output_type": "stream",
     "text": [
      "100%|██████████| 266/266 [00:20<00:00, 12.67it/s]\n"
     ]
    },
    {
     "name": "stdout",
     "output_type": "stream",
     "text": [
      "                      (F1-score: 0.0423)\n",
      "\n",
      "                      (NDCG: 0.0661)\n",
      "\n",
      "--------------------\n",
      "[[1, {'F1-score': 0.020696255000910255}, {'NDCG': nan}, 1.6557947397232056], [2, {'F1-score': 0.0026908073907922344}, {'NDCG': nan}, 1.5130956172943115], [3, {'F1-score': 0.00035244360902255637}, {'NDCG': nan}, 1.4251788854599], [4, {'F1-score': 0.0003512840542915731}, {'NDCG': nan}, 1.3017510175704956], [5, {'F1-score': 7.374204742625796e-05}, {'NDCG': nan}, 1.199181079864502], [6, {'F1-score': 3.614806246385194e-05}, {'NDCG': nan}, 1.139860987663269], [7, {'F1-score': 3.480924533556112e-05}, {'NDCG': nan}, 1.0200258493423462], [8, {'F1-score': 3.480924533556112e-05}, {'NDCG': nan}, 0.9639192819595337], [9, {'F1-score': 0.0}, {'NDCG': nan}, 0.8990397453308105], [10, {'F1-score': 0.0}, {'NDCG': nan}, 0.8436604738235474], [11, {'F1-score': 0.0}, {'NDCG': nan}, 0.8076251149177551], [12, {'F1-score': 0.0}, {'NDCG': nan}, 0.7697919011116028], [13, {'F1-score': 5.8740601503759395e-05}, {'NDCG': nan}, 0.753480851650238], [14, {'F1-score': 0.0012219878443341513}, {'NDCG': nan}, 0.7338847517967224], [15, {'F1-score': 0.01062534167203703}, {'NDCG': 0.013129201301030423}, 0.6185950040817261], [16, {'F1-score': 0.019375928851687044}, {'NDCG': 0.03519700076150939}, 0.5403242111206055], [17, {'F1-score': 0.01848253876996446}, {'NDCG': 0.040508479944297245}, 0.4890783727169037], [18, {'F1-score': 0.020716118820674857}, {'NDCG': 0.041985287096463424}, 0.4662051796913147], [19, {'F1-score': 0.027990785761887106}, {'NDCG': 0.048343488129023886}, 0.4512224793434143], [20, {'F1-score': 0.03484081817544356}, {'NDCG': 0.058507005591295604}, 0.441200315952301], [21, {'F1-score': 0.03876663212846724}, {'NDCG': 0.0622019335168897}, 0.4276166260242462], [22, {'F1-score': 0.040837426837299705}, {'NDCG': 0.06454683031844802}, 0.42037180066108704], [23, {'F1-score': 0.04158640489020508}, {'NDCG': 0.06502353020985716}, 0.4233636260032654], [24, {'F1-score': 0.041303558087190245}, {'NDCG': 0.06500057630324946}, 0.41717544198036194], [25, {'F1-score': 0.04178157921777025}, {'NDCG': 0.06565063762744623}, 0.4188614785671234], [26, {'F1-score': 0.041769954678281}, {'NDCG': 0.0652992679716501}, 0.41779473423957825], [27, {'F1-score': 0.041584193678853895}, {'NDCG': 0.06540942633055374}, 0.41860634088516235], [28, {'F1-score': 0.04148225994223965}, {'NDCG': 0.06543476971678604}, 0.4165288507938385], [29, {'F1-score': 0.04168342064463433}, {'NDCG': 0.06576223675812826}, 0.41985461115837097], [30, {'F1-score': 0.04254017440856926}, {'NDCG': 0.06624068631580506}, 0.41571709513664246], [31, {'F1-score': 0.04206764067545528}, {'NDCG': 0.06587583314333308}, 0.3991002142429352], [32, {'F1-score': 0.04239886995089377}, {'NDCG': 0.06640722617135852}, 0.41824036836624146], [33, {'F1-score': 0.042105165755160594}, {'NDCG': 0.06585952443861984}, 0.4176519513130188], [34, {'F1-score': 0.042473682280207925}, {'NDCG': 0.06604485194850013}, 0.41393372416496277], [35, {'F1-score': 0.04229444034952263}, {'NDCG': 0.06607921188872279}, 0.41975560784339905]]\n",
      "-----------------------------------------------------------------------------------------\n"
     ]
    },
    {
     "name": "stderr",
     "output_type": "stream",
     "text": [
      "  0%|          | 1/932 [00:00<01:43,  9.01it/s]"
     ]
    },
    {
     "name": "stdout",
     "output_type": "stream",
     "text": [
      "Epoch 36: 0% , Loss: 0.293329\n"
     ]
    },
    {
     "name": "stderr",
     "output_type": "stream",
     "text": [
      " 11%|█         | 102/932 [00:11<01:33,  8.87it/s]"
     ]
    },
    {
     "name": "stdout",
     "output_type": "stream",
     "text": [
      "Epoch 36: 11% , Loss: 0.213833\n"
     ]
    },
    {
     "name": "stderr",
     "output_type": "stream",
     "text": [
      " 22%|██▏       | 202/932 [00:23<01:29,  8.12it/s]"
     ]
    },
    {
     "name": "stdout",
     "output_type": "stream",
     "text": [
      "Epoch 36: 21% , Loss: 0.304157\n"
     ]
    },
    {
     "name": "stderr",
     "output_type": "stream",
     "text": [
      " 32%|███▏      | 302/932 [00:35<01:25,  7.36it/s]"
     ]
    },
    {
     "name": "stdout",
     "output_type": "stream",
     "text": [
      "Epoch 36: 32% , Loss: 0.531182\n"
     ]
    },
    {
     "name": "stderr",
     "output_type": "stream",
     "text": [
      " 43%|████▎     | 402/932 [00:49<01:10,  7.56it/s]"
     ]
    },
    {
     "name": "stdout",
     "output_type": "stream",
     "text": [
      "Epoch 36: 43% , Loss: 0.177148\n"
     ]
    },
    {
     "name": "stderr",
     "output_type": "stream",
     "text": [
      " 54%|█████▍    | 502/932 [01:03<00:59,  7.22it/s]"
     ]
    },
    {
     "name": "stdout",
     "output_type": "stream",
     "text": [
      "Epoch 36: 54% , Loss: 0.112917\n"
     ]
    },
    {
     "name": "stderr",
     "output_type": "stream",
     "text": [
      " 65%|██████▍   | 602/932 [01:17<00:46,  7.04it/s]"
     ]
    },
    {
     "name": "stdout",
     "output_type": "stream",
     "text": [
      "Epoch 36: 64% , Loss: 0.224843\n"
     ]
    },
    {
     "name": "stderr",
     "output_type": "stream",
     "text": [
      " 75%|███████▌  | 702/932 [01:32<00:36,  6.24it/s]"
     ]
    },
    {
     "name": "stdout",
     "output_type": "stream",
     "text": [
      "Epoch 36: 75% , Loss: 0.140531\n"
     ]
    },
    {
     "name": "stderr",
     "output_type": "stream",
     "text": [
      " 86%|████████▌ | 801/932 [01:48<00:20,  6.29it/s]"
     ]
    },
    {
     "name": "stdout",
     "output_type": "stream",
     "text": [
      "Epoch 36: 86% , Loss: 0.404751\n"
     ]
    },
    {
     "name": "stderr",
     "output_type": "stream",
     "text": [
      " 97%|█████████▋| 901/932 [02:05<00:05,  5.84it/s]"
     ]
    },
    {
     "name": "stdout",
     "output_type": "stream",
     "text": [
      "Epoch 36: 97% , Loss: 0.622204\n"
     ]
    },
    {
     "name": "stderr",
     "output_type": "stream",
     "text": [
      "100%|██████████| 932/932 [02:10<00:00,  7.15it/s]\n"
     ]
    },
    {
     "name": "stdout",
     "output_type": "stream",
     "text": [
      "Epoch 36: 100% , Loss: 0.402490\n",
      "                      (F1-score: 0.0448)\n",
      "\n",
      "                      (NDCG: 0.0716)\n",
      "\n",
      "train_loss= tensor(0.4764)\n",
      "--------------------\n"
     ]
    },
    {
     "name": "stderr",
     "output_type": "stream",
     "text": [
      "100%|██████████| 133/133 [00:09<00:00, 13.95it/s]\n"
     ]
    },
    {
     "name": "stdout",
     "output_type": "stream",
     "text": [
      "                      (F1-score: 0.0428)\n",
      "\n",
      "                      (NDCG: 0.0695)\n",
      "\n",
      "val_loss= tensor(0.4133)\n",
      "--------------------\n"
     ]
    },
    {
     "name": "stderr",
     "output_type": "stream",
     "text": [
      "100%|██████████| 266/266 [00:21<00:00, 12.61it/s]\n"
     ]
    },
    {
     "name": "stdout",
     "output_type": "stream",
     "text": [
      "                      (F1-score: 0.0422)\n",
      "\n",
      "                      (NDCG: 0.0658)\n",
      "\n",
      "--------------------\n",
      "[[1, {'F1-score': 0.020696255000910255}, {'NDCG': nan}, 1.6557947397232056], [2, {'F1-score': 0.0026908073907922344}, {'NDCG': nan}, 1.5130956172943115], [3, {'F1-score': 0.00035244360902255637}, {'NDCG': nan}, 1.4251788854599], [4, {'F1-score': 0.0003512840542915731}, {'NDCG': nan}, 1.3017510175704956], [5, {'F1-score': 7.374204742625796e-05}, {'NDCG': nan}, 1.199181079864502], [6, {'F1-score': 3.614806246385194e-05}, {'NDCG': nan}, 1.139860987663269], [7, {'F1-score': 3.480924533556112e-05}, {'NDCG': nan}, 1.0200258493423462], [8, {'F1-score': 3.480924533556112e-05}, {'NDCG': nan}, 0.9639192819595337], [9, {'F1-score': 0.0}, {'NDCG': nan}, 0.8990397453308105], [10, {'F1-score': 0.0}, {'NDCG': nan}, 0.8436604738235474], [11, {'F1-score': 0.0}, {'NDCG': nan}, 0.8076251149177551], [12, {'F1-score': 0.0}, {'NDCG': nan}, 0.7697919011116028], [13, {'F1-score': 5.8740601503759395e-05}, {'NDCG': nan}, 0.753480851650238], [14, {'F1-score': 0.0012219878443341513}, {'NDCG': nan}, 0.7338847517967224], [15, {'F1-score': 0.01062534167203703}, {'NDCG': 0.013129201301030423}, 0.6185950040817261], [16, {'F1-score': 0.019375928851687044}, {'NDCG': 0.03519700076150939}, 0.5403242111206055], [17, {'F1-score': 0.01848253876996446}, {'NDCG': 0.040508479944297245}, 0.4890783727169037], [18, {'F1-score': 0.020716118820674857}, {'NDCG': 0.041985287096463424}, 0.4662051796913147], [19, {'F1-score': 0.027990785761887106}, {'NDCG': 0.048343488129023886}, 0.4512224793434143], [20, {'F1-score': 0.03484081817544356}, {'NDCG': 0.058507005591295604}, 0.441200315952301], [21, {'F1-score': 0.03876663212846724}, {'NDCG': 0.0622019335168897}, 0.4276166260242462], [22, {'F1-score': 0.040837426837299705}, {'NDCG': 0.06454683031844802}, 0.42037180066108704], [23, {'F1-score': 0.04158640489020508}, {'NDCG': 0.06502353020985716}, 0.4233636260032654], [24, {'F1-score': 0.041303558087190245}, {'NDCG': 0.06500057630324946}, 0.41717544198036194], [25, {'F1-score': 0.04178157921777025}, {'NDCG': 0.06565063762744623}, 0.4188614785671234], [26, {'F1-score': 0.041769954678281}, {'NDCG': 0.0652992679716501}, 0.41779473423957825], [27, {'F1-score': 0.041584193678853895}, {'NDCG': 0.06540942633055374}, 0.41860634088516235], [28, {'F1-score': 0.04148225994223965}, {'NDCG': 0.06543476971678604}, 0.4165288507938385], [29, {'F1-score': 0.04168342064463433}, {'NDCG': 0.06576223675812826}, 0.41985461115837097], [30, {'F1-score': 0.04254017440856926}, {'NDCG': 0.06624068631580506}, 0.41571709513664246], [31, {'F1-score': 0.04206764067545528}, {'NDCG': 0.06587583314333308}, 0.3991002142429352], [32, {'F1-score': 0.04239886995089377}, {'NDCG': 0.06640722617135852}, 0.41824036836624146], [33, {'F1-score': 0.042105165755160594}, {'NDCG': 0.06585952443861984}, 0.4176519513130188], [34, {'F1-score': 0.042473682280207925}, {'NDCG': 0.06604485194850013}, 0.41393372416496277], [35, {'F1-score': 0.04229444034952263}, {'NDCG': 0.06607921188872279}, 0.41975560784339905], [36, {'F1-score': 0.04220153481134125}, {'NDCG': 0.06577430155016202}, 0.4132940173149109]]\n",
      "-----------------------------------------------------------------------------------------\n"
     ]
    },
    {
     "name": "stderr",
     "output_type": "stream",
     "text": [
      "  0%|          | 2/932 [00:00<01:32, 10.05it/s]"
     ]
    },
    {
     "name": "stdout",
     "output_type": "stream",
     "text": [
      "Epoch 37: 0% , Loss: 0.103866\n"
     ]
    },
    {
     "name": "stderr",
     "output_type": "stream",
     "text": [
      " 11%|█         | 102/932 [00:11<01:33,  8.84it/s]"
     ]
    },
    {
     "name": "stdout",
     "output_type": "stream",
     "text": [
      "Epoch 37: 11% , Loss: 0.080426\n"
     ]
    },
    {
     "name": "stderr",
     "output_type": "stream",
     "text": [
      " 22%|██▏       | 202/932 [00:22<01:29,  8.12it/s]"
     ]
    },
    {
     "name": "stdout",
     "output_type": "stream",
     "text": [
      "Epoch 37: 21% , Loss: 0.610122\n"
     ]
    },
    {
     "name": "stderr",
     "output_type": "stream",
     "text": [
      " 32%|███▏      | 302/932 [00:35<01:21,  7.74it/s]"
     ]
    },
    {
     "name": "stdout",
     "output_type": "stream",
     "text": [
      "Epoch 37: 32% , Loss: 0.229440\n"
     ]
    },
    {
     "name": "stderr",
     "output_type": "stream",
     "text": [
      " 43%|████▎     | 402/932 [00:49<01:11,  7.38it/s]"
     ]
    },
    {
     "name": "stdout",
     "output_type": "stream",
     "text": [
      "Epoch 37: 43% , Loss: 0.223740\n"
     ]
    },
    {
     "name": "stderr",
     "output_type": "stream",
     "text": [
      " 54%|█████▍    | 502/932 [01:02<01:01,  6.95it/s]"
     ]
    },
    {
     "name": "stdout",
     "output_type": "stream",
     "text": [
      "Epoch 37: 54% , Loss: 0.221291\n"
     ]
    },
    {
     "name": "stderr",
     "output_type": "stream",
     "text": [
      " 65%|██████▍   | 602/932 [01:18<00:47,  6.95it/s]"
     ]
    },
    {
     "name": "stdout",
     "output_type": "stream",
     "text": [
      "Epoch 37: 64% , Loss: 0.210354\n"
     ]
    },
    {
     "name": "stderr",
     "output_type": "stream",
     "text": [
      " 75%|███████▌  | 702/932 [01:32<00:34,  6.75it/s]"
     ]
    },
    {
     "name": "stdout",
     "output_type": "stream",
     "text": [
      "Epoch 37: 75% , Loss: 0.192849\n"
     ]
    },
    {
     "name": "stderr",
     "output_type": "stream",
     "text": [
      " 86%|████████▌ | 801/932 [01:48<00:21,  6.13it/s]"
     ]
    },
    {
     "name": "stdout",
     "output_type": "stream",
     "text": [
      "Epoch 37: 86% , Loss: 2.043306\n"
     ]
    },
    {
     "name": "stderr",
     "output_type": "stream",
     "text": [
      " 97%|█████████▋| 901/932 [02:05<00:05,  5.88it/s]"
     ]
    },
    {
     "name": "stdout",
     "output_type": "stream",
     "text": [
      "Epoch 37: 97% , Loss: 0.213319\n"
     ]
    },
    {
     "name": "stderr",
     "output_type": "stream",
     "text": [
      "100%|██████████| 932/932 [02:10<00:00,  7.15it/s]\n"
     ]
    },
    {
     "name": "stdout",
     "output_type": "stream",
     "text": [
      "Epoch 37: 100% , Loss: 0.402508\n",
      "                      (F1-score: 0.0443)\n",
      "\n",
      "                      (NDCG: 0.0711)\n",
      "\n",
      "train_loss= tensor(0.4729)\n",
      "--------------------\n"
     ]
    },
    {
     "name": "stderr",
     "output_type": "stream",
     "text": [
      "100%|██████████| 133/133 [00:09<00:00, 14.02it/s]\n"
     ]
    },
    {
     "name": "stdout",
     "output_type": "stream",
     "text": [
      "                      (F1-score: 0.0432)\n",
      "\n",
      "                      (NDCG: 0.0701)\n",
      "\n",
      "val_loss= tensor(0.4161)\n",
      "--------------------\n"
     ]
    },
    {
     "name": "stderr",
     "output_type": "stream",
     "text": [
      "100%|██████████| 266/266 [00:20<00:00, 12.72it/s]\n"
     ]
    },
    {
     "name": "stdout",
     "output_type": "stream",
     "text": [
      "                      (F1-score: 0.0426)\n",
      "\n",
      "                      (NDCG: 0.0661)\n",
      "\n",
      "--------------------\n",
      "[[1, {'F1-score': 0.020696255000910255}, {'NDCG': nan}, 1.6557947397232056], [2, {'F1-score': 0.0026908073907922344}, {'NDCG': nan}, 1.5130956172943115], [3, {'F1-score': 0.00035244360902255637}, {'NDCG': nan}, 1.4251788854599], [4, {'F1-score': 0.0003512840542915731}, {'NDCG': nan}, 1.3017510175704956], [5, {'F1-score': 7.374204742625796e-05}, {'NDCG': nan}, 1.199181079864502], [6, {'F1-score': 3.614806246385194e-05}, {'NDCG': nan}, 1.139860987663269], [7, {'F1-score': 3.480924533556112e-05}, {'NDCG': nan}, 1.0200258493423462], [8, {'F1-score': 3.480924533556112e-05}, {'NDCG': nan}, 0.9639192819595337], [9, {'F1-score': 0.0}, {'NDCG': nan}, 0.8990397453308105], [10, {'F1-score': 0.0}, {'NDCG': nan}, 0.8436604738235474], [11, {'F1-score': 0.0}, {'NDCG': nan}, 0.8076251149177551], [12, {'F1-score': 0.0}, {'NDCG': nan}, 0.7697919011116028], [13, {'F1-score': 5.8740601503759395e-05}, {'NDCG': nan}, 0.753480851650238], [14, {'F1-score': 0.0012219878443341513}, {'NDCG': nan}, 0.7338847517967224], [15, {'F1-score': 0.01062534167203703}, {'NDCG': 0.013129201301030423}, 0.6185950040817261], [16, {'F1-score': 0.019375928851687044}, {'NDCG': 0.03519700076150939}, 0.5403242111206055], [17, {'F1-score': 0.01848253876996446}, {'NDCG': 0.040508479944297245}, 0.4890783727169037], [18, {'F1-score': 0.020716118820674857}, {'NDCG': 0.041985287096463424}, 0.4662051796913147], [19, {'F1-score': 0.027990785761887106}, {'NDCG': 0.048343488129023886}, 0.4512224793434143], [20, {'F1-score': 0.03484081817544356}, {'NDCG': 0.058507005591295604}, 0.441200315952301], [21, {'F1-score': 0.03876663212846724}, {'NDCG': 0.0622019335168897}, 0.4276166260242462], [22, {'F1-score': 0.040837426837299705}, {'NDCG': 0.06454683031844802}, 0.42037180066108704], [23, {'F1-score': 0.04158640489020508}, {'NDCG': 0.06502353020985716}, 0.4233636260032654], [24, {'F1-score': 0.041303558087190245}, {'NDCG': 0.06500057630324946}, 0.41717544198036194], [25, {'F1-score': 0.04178157921777025}, {'NDCG': 0.06565063762744623}, 0.4188614785671234], [26, {'F1-score': 0.041769954678281}, {'NDCG': 0.0652992679716501}, 0.41779473423957825], [27, {'F1-score': 0.041584193678853895}, {'NDCG': 0.06540942633055374}, 0.41860634088516235], [28, {'F1-score': 0.04148225994223965}, {'NDCG': 0.06543476971678604}, 0.4165288507938385], [29, {'F1-score': 0.04168342064463433}, {'NDCG': 0.06576223675812826}, 0.41985461115837097], [30, {'F1-score': 0.04254017440856926}, {'NDCG': 0.06624068631580506}, 0.41571709513664246], [31, {'F1-score': 0.04206764067545528}, {'NDCG': 0.06587583314333308}, 0.3991002142429352], [32, {'F1-score': 0.04239886995089377}, {'NDCG': 0.06640722617135852}, 0.41824036836624146], [33, {'F1-score': 0.042105165755160594}, {'NDCG': 0.06585952443861984}, 0.4176519513130188], [34, {'F1-score': 0.042473682280207925}, {'NDCG': 0.06604485194850013}, 0.41393372416496277], [35, {'F1-score': 0.04229444034952263}, {'NDCG': 0.06607921188872279}, 0.41975560784339905], [36, {'F1-score': 0.04220153481134125}, {'NDCG': 0.06577430155016202}, 0.4132940173149109], [37, {'F1-score': 0.04263145642555783}, {'NDCG': 0.06609288727010328}, 0.4160638153553009]]\n",
      "-----------------------------------------------------------------------------------------\n"
     ]
    },
    {
     "name": "stderr",
     "output_type": "stream",
     "text": [
      "  0%|          | 1/932 [00:00<01:44,  8.93it/s]"
     ]
    },
    {
     "name": "stdout",
     "output_type": "stream",
     "text": [
      "Epoch 38: 0% , Loss: 0.175340\n"
     ]
    },
    {
     "name": "stderr",
     "output_type": "stream",
     "text": [
      " 11%|█         | 102/932 [00:11<01:29,  9.22it/s]"
     ]
    },
    {
     "name": "stdout",
     "output_type": "stream",
     "text": [
      "Epoch 38: 11% , Loss: 0.039787\n"
     ]
    },
    {
     "name": "stderr",
     "output_type": "stream",
     "text": [
      " 22%|██▏       | 202/932 [00:23<01:29,  8.15it/s]"
     ]
    },
    {
     "name": "stdout",
     "output_type": "stream",
     "text": [
      "Epoch 38: 21% , Loss: 0.162182\n"
     ]
    },
    {
     "name": "stderr",
     "output_type": "stream",
     "text": [
      " 32%|███▏      | 302/932 [00:35<01:25,  7.35it/s]"
     ]
    },
    {
     "name": "stdout",
     "output_type": "stream",
     "text": [
      "Epoch 38: 32% , Loss: 1.245613\n"
     ]
    },
    {
     "name": "stderr",
     "output_type": "stream",
     "text": [
      " 43%|████▎     | 401/932 [00:48<01:09,  7.68it/s]"
     ]
    },
    {
     "name": "stdout",
     "output_type": "stream",
     "text": [
      "Epoch 38: 43% , Loss: 0.394307\n"
     ]
    },
    {
     "name": "stderr",
     "output_type": "stream",
     "text": [
      " 54%|█████▍    | 502/932 [01:02<01:02,  6.92it/s]"
     ]
    },
    {
     "name": "stdout",
     "output_type": "stream",
     "text": [
      "Epoch 38: 54% , Loss: 1.431735\n"
     ]
    },
    {
     "name": "stderr",
     "output_type": "stream",
     "text": [
      " 65%|██████▍   | 602/932 [01:17<00:47,  7.01it/s]"
     ]
    },
    {
     "name": "stdout",
     "output_type": "stream",
     "text": [
      "Epoch 38: 64% , Loss: 0.590920\n"
     ]
    },
    {
     "name": "stderr",
     "output_type": "stream",
     "text": [
      " 75%|███████▌  | 701/932 [01:32<00:36,  6.29it/s]"
     ]
    },
    {
     "name": "stdout",
     "output_type": "stream",
     "text": [
      "Epoch 38: 75% , Loss: 0.417963\n"
     ]
    },
    {
     "name": "stderr",
     "output_type": "stream",
     "text": [
      " 86%|████████▌ | 801/932 [01:48<00:25,  5.20it/s]"
     ]
    },
    {
     "name": "stdout",
     "output_type": "stream",
     "text": [
      "Epoch 38: 86% , Loss: 0.179446\n"
     ]
    },
    {
     "name": "stderr",
     "output_type": "stream",
     "text": [
      " 97%|█████████▋| 901/932 [02:05<00:05,  5.70it/s]"
     ]
    },
    {
     "name": "stdout",
     "output_type": "stream",
     "text": [
      "Epoch 38: 97% , Loss: 0.060894\n"
     ]
    },
    {
     "name": "stderr",
     "output_type": "stream",
     "text": [
      "100%|██████████| 932/932 [02:10<00:00,  7.15it/s]\n"
     ]
    },
    {
     "name": "stdout",
     "output_type": "stream",
     "text": [
      "Epoch 38: 100% , Loss: 1.390246\n",
      "                      (F1-score: 0.0442)\n",
      "\n",
      "                      (NDCG: 0.0709)\n",
      "\n",
      "train_loss= tensor(0.4759)\n",
      "--------------------\n"
     ]
    },
    {
     "name": "stderr",
     "output_type": "stream",
     "text": [
      "100%|██████████| 133/133 [00:09<00:00, 13.87it/s]\n"
     ]
    },
    {
     "name": "stdout",
     "output_type": "stream",
     "text": [
      "                      (F1-score: 0.0433)\n",
      "\n",
      "                      (NDCG: 0.0703)\n",
      "\n",
      "val_loss= tensor(0.4165)\n",
      "--------------------\n"
     ]
    },
    {
     "name": "stderr",
     "output_type": "stream",
     "text": [
      "100%|██████████| 266/266 [00:21<00:00, 12.64it/s]\n"
     ]
    },
    {
     "name": "stdout",
     "output_type": "stream",
     "text": [
      "                      (F1-score: 0.0425)\n",
      "\n",
      "                      (NDCG: 0.0660)\n",
      "\n",
      "--------------------\n",
      "[[1, {'F1-score': 0.020696255000910255}, {'NDCG': nan}, 1.6557947397232056], [2, {'F1-score': 0.0026908073907922344}, {'NDCG': nan}, 1.5130956172943115], [3, {'F1-score': 0.00035244360902255637}, {'NDCG': nan}, 1.4251788854599], [4, {'F1-score': 0.0003512840542915731}, {'NDCG': nan}, 1.3017510175704956], [5, {'F1-score': 7.374204742625796e-05}, {'NDCG': nan}, 1.199181079864502], [6, {'F1-score': 3.614806246385194e-05}, {'NDCG': nan}, 1.139860987663269], [7, {'F1-score': 3.480924533556112e-05}, {'NDCG': nan}, 1.0200258493423462], [8, {'F1-score': 3.480924533556112e-05}, {'NDCG': nan}, 0.9639192819595337], [9, {'F1-score': 0.0}, {'NDCG': nan}, 0.8990397453308105], [10, {'F1-score': 0.0}, {'NDCG': nan}, 0.8436604738235474], [11, {'F1-score': 0.0}, {'NDCG': nan}, 0.8076251149177551], [12, {'F1-score': 0.0}, {'NDCG': nan}, 0.7697919011116028], [13, {'F1-score': 5.8740601503759395e-05}, {'NDCG': nan}, 0.753480851650238], [14, {'F1-score': 0.0012219878443341513}, {'NDCG': nan}, 0.7338847517967224], [15, {'F1-score': 0.01062534167203703}, {'NDCG': 0.013129201301030423}, 0.6185950040817261], [16, {'F1-score': 0.019375928851687044}, {'NDCG': 0.03519700076150939}, 0.5403242111206055], [17, {'F1-score': 0.01848253876996446}, {'NDCG': 0.040508479944297245}, 0.4890783727169037], [18, {'F1-score': 0.020716118820674857}, {'NDCG': 0.041985287096463424}, 0.4662051796913147], [19, {'F1-score': 0.027990785761887106}, {'NDCG': 0.048343488129023886}, 0.4512224793434143], [20, {'F1-score': 0.03484081817544356}, {'NDCG': 0.058507005591295604}, 0.441200315952301], [21, {'F1-score': 0.03876663212846724}, {'NDCG': 0.0622019335168897}, 0.4276166260242462], [22, {'F1-score': 0.040837426837299705}, {'NDCG': 0.06454683031844802}, 0.42037180066108704], [23, {'F1-score': 0.04158640489020508}, {'NDCG': 0.06502353020985716}, 0.4233636260032654], [24, {'F1-score': 0.041303558087190245}, {'NDCG': 0.06500057630324946}, 0.41717544198036194], [25, {'F1-score': 0.04178157921777025}, {'NDCG': 0.06565063762744623}, 0.4188614785671234], [26, {'F1-score': 0.041769954678281}, {'NDCG': 0.0652992679716501}, 0.41779473423957825], [27, {'F1-score': 0.041584193678853895}, {'NDCG': 0.06540942633055374}, 0.41860634088516235], [28, {'F1-score': 0.04148225994223965}, {'NDCG': 0.06543476971678604}, 0.4165288507938385], [29, {'F1-score': 0.04168342064463433}, {'NDCG': 0.06576223675812826}, 0.41985461115837097], [30, {'F1-score': 0.04254017440856926}, {'NDCG': 0.06624068631580506}, 0.41571709513664246], [31, {'F1-score': 0.04206764067545528}, {'NDCG': 0.06587583314333308}, 0.3991002142429352], [32, {'F1-score': 0.04239886995089377}, {'NDCG': 0.06640722617135852}, 0.41824036836624146], [33, {'F1-score': 0.042105165755160594}, {'NDCG': 0.06585952443861984}, 0.4176519513130188], [34, {'F1-score': 0.042473682280207925}, {'NDCG': 0.06604485194850013}, 0.41393372416496277], [35, {'F1-score': 0.04229444034952263}, {'NDCG': 0.06607921188872279}, 0.41975560784339905], [36, {'F1-score': 0.04220153481134125}, {'NDCG': 0.06577430155016202}, 0.4132940173149109], [37, {'F1-score': 0.04263145642555783}, {'NDCG': 0.06609288727010328}, 0.4160638153553009], [38, {'F1-score': 0.04254532003846028}, {'NDCG': 0.06597359442411173}, 0.41647404432296753]]\n",
      "-----------------------------------------------------------------------------------------\n"
     ]
    },
    {
     "name": "stderr",
     "output_type": "stream",
     "text": [
      "  0%|          | 2/932 [00:00<01:52,  8.23it/s]"
     ]
    },
    {
     "name": "stdout",
     "output_type": "stream",
     "text": [
      "Epoch 39: 0% , Loss: 0.301035\n"
     ]
    },
    {
     "name": "stderr",
     "output_type": "stream",
     "text": [
      " 11%|█         | 102/932 [00:11<01:49,  7.58it/s]"
     ]
    },
    {
     "name": "stdout",
     "output_type": "stream",
     "text": [
      "Epoch 39: 11% , Loss: 0.333520\n"
     ]
    },
    {
     "name": "stderr",
     "output_type": "stream",
     "text": [
      " 22%|██▏       | 202/932 [00:23<01:24,  8.61it/s]"
     ]
    },
    {
     "name": "stdout",
     "output_type": "stream",
     "text": [
      "Epoch 39: 21% , Loss: 0.147922\n"
     ]
    },
    {
     "name": "stderr",
     "output_type": "stream",
     "text": [
      " 32%|███▏      | 302/932 [00:35<01:26,  7.32it/s]"
     ]
    },
    {
     "name": "stdout",
     "output_type": "stream",
     "text": [
      "Epoch 39: 32% , Loss: 0.756957\n"
     ]
    },
    {
     "name": "stderr",
     "output_type": "stream",
     "text": [
      " 43%|████▎     | 402/932 [00:49<01:12,  7.35it/s]"
     ]
    },
    {
     "name": "stdout",
     "output_type": "stream",
     "text": [
      "Epoch 39: 43% , Loss: 0.806944\n"
     ]
    },
    {
     "name": "stderr",
     "output_type": "stream",
     "text": [
      " 54%|█████▍    | 502/932 [01:02<01:00,  7.10it/s]"
     ]
    },
    {
     "name": "stdout",
     "output_type": "stream",
     "text": [
      "Epoch 39: 54% , Loss: 0.307503\n"
     ]
    },
    {
     "name": "stderr",
     "output_type": "stream",
     "text": [
      " 65%|██████▍   | 602/932 [01:17<00:53,  6.22it/s]"
     ]
    },
    {
     "name": "stdout",
     "output_type": "stream",
     "text": [
      "Epoch 39: 64% , Loss: 0.310489\n"
     ]
    },
    {
     "name": "stderr",
     "output_type": "stream",
     "text": [
      " 75%|███████▌  | 702/932 [01:32<00:34,  6.73it/s]"
     ]
    },
    {
     "name": "stdout",
     "output_type": "stream",
     "text": [
      "Epoch 39: 75% , Loss: 0.160004\n"
     ]
    },
    {
     "name": "stderr",
     "output_type": "stream",
     "text": [
      " 86%|████████▌ | 801/932 [01:48<00:20,  6.34it/s]"
     ]
    },
    {
     "name": "stdout",
     "output_type": "stream",
     "text": [
      "Epoch 39: 86% , Loss: 0.129037\n"
     ]
    },
    {
     "name": "stderr",
     "output_type": "stream",
     "text": [
      " 97%|█████████▋| 901/932 [02:05<00:05,  6.03it/s]"
     ]
    },
    {
     "name": "stdout",
     "output_type": "stream",
     "text": [
      "Epoch 39: 97% , Loss: 0.246949\n"
     ]
    },
    {
     "name": "stderr",
     "output_type": "stream",
     "text": [
      "100%|██████████| 932/932 [02:10<00:00,  7.15it/s]"
     ]
    },
    {
     "name": "stdout",
     "output_type": "stream",
     "text": [
      "Epoch 39: 100% , Loss: 0.189491\n"
     ]
    },
    {
     "name": "stderr",
     "output_type": "stream",
     "text": [
      "\n"
     ]
    },
    {
     "name": "stdout",
     "output_type": "stream",
     "text": [
      "                      (F1-score: 0.0453)\n",
      "\n",
      "                      (NDCG: 0.0718)\n",
      "\n",
      "train_loss= tensor(0.4701)\n",
      "--------------------\n"
     ]
    },
    {
     "name": "stderr",
     "output_type": "stream",
     "text": [
      "100%|██████████| 133/133 [00:09<00:00, 13.84it/s]\n"
     ]
    },
    {
     "name": "stdout",
     "output_type": "stream",
     "text": [
      "                      (F1-score: 0.0433)\n",
      "\n",
      "                      (NDCG: 0.0703)\n",
      "\n",
      "val_loss= tensor(0.4153)\n",
      "--------------------\n"
     ]
    },
    {
     "name": "stderr",
     "output_type": "stream",
     "text": [
      "100%|██████████| 266/266 [00:21<00:00, 12.65it/s]\n"
     ]
    },
    {
     "name": "stdout",
     "output_type": "stream",
     "text": [
      "                      (F1-score: 0.0422)\n",
      "\n",
      "                      (NDCG: 0.0659)\n",
      "\n",
      "--------------------\n",
      "[[1, {'F1-score': 0.020696255000910255}, {'NDCG': nan}, 1.6557947397232056], [2, {'F1-score': 0.0026908073907922344}, {'NDCG': nan}, 1.5130956172943115], [3, {'F1-score': 0.00035244360902255637}, {'NDCG': nan}, 1.4251788854599], [4, {'F1-score': 0.0003512840542915731}, {'NDCG': nan}, 1.3017510175704956], [5, {'F1-score': 7.374204742625796e-05}, {'NDCG': nan}, 1.199181079864502], [6, {'F1-score': 3.614806246385194e-05}, {'NDCG': nan}, 1.139860987663269], [7, {'F1-score': 3.480924533556112e-05}, {'NDCG': nan}, 1.0200258493423462], [8, {'F1-score': 3.480924533556112e-05}, {'NDCG': nan}, 0.9639192819595337], [9, {'F1-score': 0.0}, {'NDCG': nan}, 0.8990397453308105], [10, {'F1-score': 0.0}, {'NDCG': nan}, 0.8436604738235474], [11, {'F1-score': 0.0}, {'NDCG': nan}, 0.8076251149177551], [12, {'F1-score': 0.0}, {'NDCG': nan}, 0.7697919011116028], [13, {'F1-score': 5.8740601503759395e-05}, {'NDCG': nan}, 0.753480851650238], [14, {'F1-score': 0.0012219878443341513}, {'NDCG': nan}, 0.7338847517967224], [15, {'F1-score': 0.01062534167203703}, {'NDCG': 0.013129201301030423}, 0.6185950040817261], [16, {'F1-score': 0.019375928851687044}, {'NDCG': 0.03519700076150939}, 0.5403242111206055], [17, {'F1-score': 0.01848253876996446}, {'NDCG': 0.040508479944297245}, 0.4890783727169037], [18, {'F1-score': 0.020716118820674857}, {'NDCG': 0.041985287096463424}, 0.4662051796913147], [19, {'F1-score': 0.027990785761887106}, {'NDCG': 0.048343488129023886}, 0.4512224793434143], [20, {'F1-score': 0.03484081817544356}, {'NDCG': 0.058507005591295604}, 0.441200315952301], [21, {'F1-score': 0.03876663212846724}, {'NDCG': 0.0622019335168897}, 0.4276166260242462], [22, {'F1-score': 0.040837426837299705}, {'NDCG': 0.06454683031844802}, 0.42037180066108704], [23, {'F1-score': 0.04158640489020508}, {'NDCG': 0.06502353020985716}, 0.4233636260032654], [24, {'F1-score': 0.041303558087190245}, {'NDCG': 0.06500057630324946}, 0.41717544198036194], [25, {'F1-score': 0.04178157921777025}, {'NDCG': 0.06565063762744623}, 0.4188614785671234], [26, {'F1-score': 0.041769954678281}, {'NDCG': 0.0652992679716501}, 0.41779473423957825], [27, {'F1-score': 0.041584193678853895}, {'NDCG': 0.06540942633055374}, 0.41860634088516235], [28, {'F1-score': 0.04148225994223965}, {'NDCG': 0.06543476971678604}, 0.4165288507938385], [29, {'F1-score': 0.04168342064463433}, {'NDCG': 0.06576223675812826}, 0.41985461115837097], [30, {'F1-score': 0.04254017440856926}, {'NDCG': 0.06624068631580506}, 0.41571709513664246], [31, {'F1-score': 0.04206764067545528}, {'NDCG': 0.06587583314333308}, 0.3991002142429352], [32, {'F1-score': 0.04239886995089377}, {'NDCG': 0.06640722617135852}, 0.41824036836624146], [33, {'F1-score': 0.042105165755160594}, {'NDCG': 0.06585952443861984}, 0.4176519513130188], [34, {'F1-score': 0.042473682280207925}, {'NDCG': 0.06604485194850013}, 0.41393372416496277], [35, {'F1-score': 0.04229444034952263}, {'NDCG': 0.06607921188872279}, 0.41975560784339905], [36, {'F1-score': 0.04220153481134125}, {'NDCG': 0.06577430155016202}, 0.4132940173149109], [37, {'F1-score': 0.04263145642555783}, {'NDCG': 0.06609288727010328}, 0.4160638153553009], [38, {'F1-score': 0.04254532003846028}, {'NDCG': 0.06597359442411173}, 0.41647404432296753], [39, {'F1-score': 0.042241418832650895}, {'NDCG': 0.06588967637985217}, 0.41528692841529846]]\n",
      "-----------------------------------------------------------------------------------------\n"
     ]
    },
    {
     "name": "stderr",
     "output_type": "stream",
     "text": [
      "\r",
      "  0%|          | 0/932 [00:00<?, ?it/s]"
     ]
    },
    {
     "name": "stdout",
     "output_type": "stream",
     "text": [
      "Epoch 40: 0% , Loss: 0.830027"
     ]
    },
    {
     "name": "stderr",
     "output_type": "stream",
     "text": [
      "\r",
      "  0%|          | 2/932 [00:00<01:32, 10.05it/s]"
     ]
    },
    {
     "name": "stdout",
     "output_type": "stream",
     "text": [
      "\n"
     ]
    },
    {
     "name": "stderr",
     "output_type": "stream",
     "text": [
      " 11%|█         | 101/932 [00:11<01:34,  8.79it/s]"
     ]
    },
    {
     "name": "stdout",
     "output_type": "stream",
     "text": [
      "Epoch 40: 11% , Loss: 0.596620\n"
     ]
    },
    {
     "name": "stderr",
     "output_type": "stream",
     "text": [
      " 22%|██▏       | 202/932 [00:23<01:23,  8.75it/s]"
     ]
    },
    {
     "name": "stdout",
     "output_type": "stream",
     "text": [
      "Epoch 40: 21% , Loss: 0.116411\n"
     ]
    },
    {
     "name": "stderr",
     "output_type": "stream",
     "text": [
      " 32%|███▏      | 302/932 [00:35<01:28,  7.13it/s]"
     ]
    },
    {
     "name": "stdout",
     "output_type": "stream",
     "text": [
      "Epoch 40: 32% , Loss: 0.895011\n"
     ]
    },
    {
     "name": "stderr",
     "output_type": "stream",
     "text": [
      " 43%|████▎     | 402/932 [00:49<01:10,  7.55it/s]"
     ]
    },
    {
     "name": "stdout",
     "output_type": "stream",
     "text": [
      "Epoch 40: 43% , Loss: 0.277800\n"
     ]
    },
    {
     "name": "stderr",
     "output_type": "stream",
     "text": [
      " 54%|█████▍    | 502/932 [01:03<01:00,  7.14it/s]"
     ]
    },
    {
     "name": "stdout",
     "output_type": "stream",
     "text": [
      "Epoch 40: 54% , Loss: 0.325607\n"
     ]
    },
    {
     "name": "stderr",
     "output_type": "stream",
     "text": [
      " 64%|██████▍   | 601/932 [01:17<00:47,  6.93it/s]"
     ]
    },
    {
     "name": "stdout",
     "output_type": "stream",
     "text": [
      "Epoch 40: 64% , Loss: 0.137866\n"
     ]
    },
    {
     "name": "stderr",
     "output_type": "stream",
     "text": [
      " 75%|███████▌  | 702/932 [01:33<00:35,  6.41it/s]"
     ]
    },
    {
     "name": "stdout",
     "output_type": "stream",
     "text": [
      "Epoch 40: 75% , Loss: 0.138520\n"
     ]
    },
    {
     "name": "stderr",
     "output_type": "stream",
     "text": [
      " 86%|████████▌ | 802/932 [01:49<00:19,  6.59it/s]"
     ]
    },
    {
     "name": "stdout",
     "output_type": "stream",
     "text": [
      "Epoch 40: 86% , Loss: 0.396990\n"
     ]
    },
    {
     "name": "stderr",
     "output_type": "stream",
     "text": [
      " 97%|█████████▋| 901/932 [02:05<00:04,  6.21it/s]"
     ]
    },
    {
     "name": "stdout",
     "output_type": "stream",
     "text": [
      "Epoch 40: 97% , Loss: 0.246890\n"
     ]
    },
    {
     "name": "stderr",
     "output_type": "stream",
     "text": [
      "100%|██████████| 932/932 [02:10<00:00,  7.15it/s]\n"
     ]
    },
    {
     "name": "stdout",
     "output_type": "stream",
     "text": [
      "Epoch 40: 100% , Loss: 0.166735\n",
      "                      (F1-score: 0.0446)\n",
      "\n",
      "                      (NDCG: 0.0711)\n",
      "\n",
      "train_loss= tensor(0.4744)\n",
      "--------------------\n"
     ]
    },
    {
     "name": "stderr",
     "output_type": "stream",
     "text": [
      "100%|██████████| 133/133 [00:09<00:00, 13.91it/s]\n"
     ]
    },
    {
     "name": "stdout",
     "output_type": "stream",
     "text": [
      "                      (F1-score: 0.0435)\n",
      "\n",
      "                      (NDCG: 0.0701)\n",
      "\n",
      "val_loss= tensor(0.4218)\n",
      "--------------------\n"
     ]
    },
    {
     "name": "stderr",
     "output_type": "stream",
     "text": [
      "100%|██████████| 266/266 [00:20<00:00, 12.72it/s]\n"
     ]
    },
    {
     "name": "stdout",
     "output_type": "stream",
     "text": [
      "                      (F1-score: 0.0419)\n",
      "\n",
      "                      (NDCG: 0.0656)\n",
      "\n",
      "--------------------\n",
      "[[1, {'F1-score': 0.020696255000910255}, {'NDCG': nan}, 1.6557947397232056], [2, {'F1-score': 0.0026908073907922344}, {'NDCG': nan}, 1.5130956172943115], [3, {'F1-score': 0.00035244360902255637}, {'NDCG': nan}, 1.4251788854599], [4, {'F1-score': 0.0003512840542915731}, {'NDCG': nan}, 1.3017510175704956], [5, {'F1-score': 7.374204742625796e-05}, {'NDCG': nan}, 1.199181079864502], [6, {'F1-score': 3.614806246385194e-05}, {'NDCG': nan}, 1.139860987663269], [7, {'F1-score': 3.480924533556112e-05}, {'NDCG': nan}, 1.0200258493423462], [8, {'F1-score': 3.480924533556112e-05}, {'NDCG': nan}, 0.9639192819595337], [9, {'F1-score': 0.0}, {'NDCG': nan}, 0.8990397453308105], [10, {'F1-score': 0.0}, {'NDCG': nan}, 0.8436604738235474], [11, {'F1-score': 0.0}, {'NDCG': nan}, 0.8076251149177551], [12, {'F1-score': 0.0}, {'NDCG': nan}, 0.7697919011116028], [13, {'F1-score': 5.8740601503759395e-05}, {'NDCG': nan}, 0.753480851650238], [14, {'F1-score': 0.0012219878443341513}, {'NDCG': nan}, 0.7338847517967224], [15, {'F1-score': 0.01062534167203703}, {'NDCG': 0.013129201301030423}, 0.6185950040817261], [16, {'F1-score': 0.019375928851687044}, {'NDCG': 0.03519700076150939}, 0.5403242111206055], [17, {'F1-score': 0.01848253876996446}, {'NDCG': 0.040508479944297245}, 0.4890783727169037], [18, {'F1-score': 0.020716118820674857}, {'NDCG': 0.041985287096463424}, 0.4662051796913147], [19, {'F1-score': 0.027990785761887106}, {'NDCG': 0.048343488129023886}, 0.4512224793434143], [20, {'F1-score': 0.03484081817544356}, {'NDCG': 0.058507005591295604}, 0.441200315952301], [21, {'F1-score': 0.03876663212846724}, {'NDCG': 0.0622019335168897}, 0.4276166260242462], [22, {'F1-score': 0.040837426837299705}, {'NDCG': 0.06454683031844802}, 0.42037180066108704], [23, {'F1-score': 0.04158640489020508}, {'NDCG': 0.06502353020985716}, 0.4233636260032654], [24, {'F1-score': 0.041303558087190245}, {'NDCG': 0.06500057630324946}, 0.41717544198036194], [25, {'F1-score': 0.04178157921777025}, {'NDCG': 0.06565063762744623}, 0.4188614785671234], [26, {'F1-score': 0.041769954678281}, {'NDCG': 0.0652992679716501}, 0.41779473423957825], [27, {'F1-score': 0.041584193678853895}, {'NDCG': 0.06540942633055374}, 0.41860634088516235], [28, {'F1-score': 0.04148225994223965}, {'NDCG': 0.06543476971678604}, 0.4165288507938385], [29, {'F1-score': 0.04168342064463433}, {'NDCG': 0.06576223675812826}, 0.41985461115837097], [30, {'F1-score': 0.04254017440856926}, {'NDCG': 0.06624068631580506}, 0.41571709513664246], [31, {'F1-score': 0.04206764067545528}, {'NDCG': 0.06587583314333308}, 0.3991002142429352], [32, {'F1-score': 0.04239886995089377}, {'NDCG': 0.06640722617135852}, 0.41824036836624146], [33, {'F1-score': 0.042105165755160594}, {'NDCG': 0.06585952443861984}, 0.4176519513130188], [34, {'F1-score': 0.042473682280207925}, {'NDCG': 0.06604485194850013}, 0.41393372416496277], [35, {'F1-score': 0.04229444034952263}, {'NDCG': 0.06607921188872279}, 0.41975560784339905], [36, {'F1-score': 0.04220153481134125}, {'NDCG': 0.06577430155016202}, 0.4132940173149109], [37, {'F1-score': 0.04263145642555783}, {'NDCG': 0.06609288727010328}, 0.4160638153553009], [38, {'F1-score': 0.04254532003846028}, {'NDCG': 0.06597359442411173}, 0.41647404432296753], [39, {'F1-score': 0.042241418832650895}, {'NDCG': 0.06588967637985217}, 0.41528692841529846], [40, {'F1-score': 0.04192055084527674}, {'NDCG': 0.06563688721507788}, 0.4217990040779114]]\n",
      "-----------------------------------------------------------------------------------------\n"
     ]
    },
    {
     "name": "stderr",
     "output_type": "stream",
     "text": [
      "\r",
      "  0%|          | 0/932 [00:00<?, ?it/s]"
     ]
    },
    {
     "name": "stdout",
     "output_type": "stream",
     "text": [
      "Epoch 41: 0% , Loss: 0.122287\n"
     ]
    },
    {
     "name": "stderr",
     "output_type": "stream",
     "text": [
      " 11%|█         | 102/932 [00:11<01:33,  8.88it/s]"
     ]
    },
    {
     "name": "stdout",
     "output_type": "stream",
     "text": [
      "Epoch 41: 11% , Loss: 0.377375\n"
     ]
    },
    {
     "name": "stderr",
     "output_type": "stream",
     "text": [
      " 22%|██▏       | 202/932 [00:23<01:42,  7.10it/s]"
     ]
    },
    {
     "name": "stdout",
     "output_type": "stream",
     "text": [
      "Epoch 41: 21% , Loss: 3.573734\n"
     ]
    },
    {
     "name": "stderr",
     "output_type": "stream",
     "text": [
      " 32%|███▏      | 302/932 [00:35<01:19,  7.96it/s]"
     ]
    },
    {
     "name": "stdout",
     "output_type": "stream",
     "text": [
      "Epoch 41: 32% , Loss: 0.084821\n"
     ]
    },
    {
     "name": "stderr",
     "output_type": "stream",
     "text": [
      " 43%|████▎     | 402/932 [00:48<01:17,  6.84it/s]"
     ]
    },
    {
     "name": "stdout",
     "output_type": "stream",
     "text": [
      "Epoch 41: 43% , Loss: 0.320117\n"
     ]
    },
    {
     "name": "stderr",
     "output_type": "stream",
     "text": [
      " 54%|█████▍    | 502/932 [01:02<01:01,  7.02it/s]"
     ]
    },
    {
     "name": "stdout",
     "output_type": "stream",
     "text": [
      "Epoch 41: 54% , Loss: 0.188258\n"
     ]
    },
    {
     "name": "stderr",
     "output_type": "stream",
     "text": [
      " 65%|██████▍   | 602/932 [01:17<00:48,  6.81it/s]"
     ]
    },
    {
     "name": "stdout",
     "output_type": "stream",
     "text": [
      "Epoch 41: 64% , Loss: 0.461112\n"
     ]
    },
    {
     "name": "stderr",
     "output_type": "stream",
     "text": [
      " 75%|███████▌  | 702/932 [01:32<00:35,  6.43it/s]"
     ]
    },
    {
     "name": "stdout",
     "output_type": "stream",
     "text": [
      "Epoch 41: 75% , Loss: 0.508492\n"
     ]
    },
    {
     "name": "stderr",
     "output_type": "stream",
     "text": [
      " 86%|████████▌ | 802/932 [01:48<00:20,  6.34it/s]"
     ]
    },
    {
     "name": "stdout",
     "output_type": "stream",
     "text": [
      "Epoch 41: 86% , Loss: 0.401881\n"
     ]
    },
    {
     "name": "stderr",
     "output_type": "stream",
     "text": [
      " 97%|█████████▋| 901/932 [02:04<00:05,  5.83it/s]"
     ]
    },
    {
     "name": "stdout",
     "output_type": "stream",
     "text": [
      "Epoch 41: 97% , Loss: 0.181578\n"
     ]
    },
    {
     "name": "stderr",
     "output_type": "stream",
     "text": [
      "100%|██████████| 932/932 [02:10<00:00,  7.17it/s]\n"
     ]
    },
    {
     "name": "stdout",
     "output_type": "stream",
     "text": [
      "Epoch 41: 100% , Loss: 0.107857\n",
      "                      (F1-score: 0.0451)\n",
      "\n",
      "                      (NDCG: 0.0714)\n",
      "\n",
      "train_loss= tensor(0.4735)\n",
      "--------------------\n"
     ]
    },
    {
     "name": "stderr",
     "output_type": "stream",
     "text": [
      "100%|██████████| 133/133 [00:09<00:00, 13.80it/s]\n"
     ]
    },
    {
     "name": "stdout",
     "output_type": "stream",
     "text": [
      "                      (F1-score: 0.0434)\n",
      "\n",
      "                      (NDCG: 0.0700)\n",
      "\n",
      "val_loss= tensor(0.4107)\n",
      "--------------------\n"
     ]
    },
    {
     "name": "stderr",
     "output_type": "stream",
     "text": [
      "100%|██████████| 266/266 [00:20<00:00, 12.80it/s]\n"
     ]
    },
    {
     "name": "stdout",
     "output_type": "stream",
     "text": [
      "                      (F1-score: 0.0421)\n",
      "\n",
      "                      (NDCG: 0.0654)\n",
      "\n",
      "--------------------\n",
      "[[1, {'F1-score': 0.020696255000910255}, {'NDCG': nan}, 1.6557947397232056], [2, {'F1-score': 0.0026908073907922344}, {'NDCG': nan}, 1.5130956172943115], [3, {'F1-score': 0.00035244360902255637}, {'NDCG': nan}, 1.4251788854599], [4, {'F1-score': 0.0003512840542915731}, {'NDCG': nan}, 1.3017510175704956], [5, {'F1-score': 7.374204742625796e-05}, {'NDCG': nan}, 1.199181079864502], [6, {'F1-score': 3.614806246385194e-05}, {'NDCG': nan}, 1.139860987663269], [7, {'F1-score': 3.480924533556112e-05}, {'NDCG': nan}, 1.0200258493423462], [8, {'F1-score': 3.480924533556112e-05}, {'NDCG': nan}, 0.9639192819595337], [9, {'F1-score': 0.0}, {'NDCG': nan}, 0.8990397453308105], [10, {'F1-score': 0.0}, {'NDCG': nan}, 0.8436604738235474], [11, {'F1-score': 0.0}, {'NDCG': nan}, 0.8076251149177551], [12, {'F1-score': 0.0}, {'NDCG': nan}, 0.7697919011116028], [13, {'F1-score': 5.8740601503759395e-05}, {'NDCG': nan}, 0.753480851650238], [14, {'F1-score': 0.0012219878443341513}, {'NDCG': nan}, 0.7338847517967224], [15, {'F1-score': 0.01062534167203703}, {'NDCG': 0.013129201301030423}, 0.6185950040817261], [16, {'F1-score': 0.019375928851687044}, {'NDCG': 0.03519700076150939}, 0.5403242111206055], [17, {'F1-score': 0.01848253876996446}, {'NDCG': 0.040508479944297245}, 0.4890783727169037], [18, {'F1-score': 0.020716118820674857}, {'NDCG': 0.041985287096463424}, 0.4662051796913147], [19, {'F1-score': 0.027990785761887106}, {'NDCG': 0.048343488129023886}, 0.4512224793434143], [20, {'F1-score': 0.03484081817544356}, {'NDCG': 0.058507005591295604}, 0.441200315952301], [21, {'F1-score': 0.03876663212846724}, {'NDCG': 0.0622019335168897}, 0.4276166260242462], [22, {'F1-score': 0.040837426837299705}, {'NDCG': 0.06454683031844802}, 0.42037180066108704], [23, {'F1-score': 0.04158640489020508}, {'NDCG': 0.06502353020985716}, 0.4233636260032654], [24, {'F1-score': 0.041303558087190245}, {'NDCG': 0.06500057630324946}, 0.41717544198036194], [25, {'F1-score': 0.04178157921777025}, {'NDCG': 0.06565063762744623}, 0.4188614785671234], [26, {'F1-score': 0.041769954678281}, {'NDCG': 0.0652992679716501}, 0.41779473423957825], [27, {'F1-score': 0.041584193678853895}, {'NDCG': 0.06540942633055374}, 0.41860634088516235], [28, {'F1-score': 0.04148225994223965}, {'NDCG': 0.06543476971678604}, 0.4165288507938385], [29, {'F1-score': 0.04168342064463433}, {'NDCG': 0.06576223675812826}, 0.41985461115837097], [30, {'F1-score': 0.04254017440856926}, {'NDCG': 0.06624068631580506}, 0.41571709513664246], [31, {'F1-score': 0.04206764067545528}, {'NDCG': 0.06587583314333308}, 0.3991002142429352], [32, {'F1-score': 0.04239886995089377}, {'NDCG': 0.06640722617135852}, 0.41824036836624146], [33, {'F1-score': 0.042105165755160594}, {'NDCG': 0.06585952443861984}, 0.4176519513130188], [34, {'F1-score': 0.042473682280207925}, {'NDCG': 0.06604485194850013}, 0.41393372416496277], [35, {'F1-score': 0.04229444034952263}, {'NDCG': 0.06607921188872279}, 0.41975560784339905], [36, {'F1-score': 0.04220153481134125}, {'NDCG': 0.06577430155016202}, 0.4132940173149109], [37, {'F1-score': 0.04263145642555783}, {'NDCG': 0.06609288727010328}, 0.4160638153553009], [38, {'F1-score': 0.04254532003846028}, {'NDCG': 0.06597359442411173}, 0.41647404432296753], [39, {'F1-score': 0.042241418832650895}, {'NDCG': 0.06588967637985217}, 0.41528692841529846], [40, {'F1-score': 0.04192055084527674}, {'NDCG': 0.06563688721507788}, 0.4217990040779114], [41, {'F1-score': 0.0420847906422249}, {'NDCG': 0.0653576915383451}, 0.41068458557128906]]\n",
      "-----------------------------------------------------------------------------------------\n"
     ]
    },
    {
     "name": "stderr",
     "output_type": "stream",
     "text": [
      "\r",
      "  0%|          | 0/932 [00:00<?, ?it/s]"
     ]
    },
    {
     "name": "stdout",
     "output_type": "stream",
     "text": [
      "Epoch 42: 0% , Loss: 0.448899"
     ]
    },
    {
     "name": "stderr",
     "output_type": "stream",
     "text": [
      "  0%|          | 3/932 [00:00<01:38,  9.46it/s]"
     ]
    },
    {
     "name": "stdout",
     "output_type": "stream",
     "text": [
      "\n"
     ]
    },
    {
     "name": "stderr",
     "output_type": "stream",
     "text": [
      " 11%|█         | 102/932 [00:11<01:39,  8.33it/s]"
     ]
    },
    {
     "name": "stdout",
     "output_type": "stream",
     "text": [
      "Epoch 42: 11% , Loss: 0.620290\n"
     ]
    },
    {
     "name": "stderr",
     "output_type": "stream",
     "text": [
      " 22%|██▏       | 202/932 [00:22<01:27,  8.36it/s]"
     ]
    },
    {
     "name": "stdout",
     "output_type": "stream",
     "text": [
      "Epoch 42: 21% , Loss: 0.366056\n"
     ]
    },
    {
     "name": "stderr",
     "output_type": "stream",
     "text": [
      " 32%|███▏      | 302/932 [00:35<01:20,  7.86it/s]"
     ]
    },
    {
     "name": "stdout",
     "output_type": "stream",
     "text": [
      "Epoch 42: 32% , Loss: 0.208398\n"
     ]
    },
    {
     "name": "stderr",
     "output_type": "stream",
     "text": [
      " 43%|████▎     | 402/932 [00:48<01:14,  7.11it/s]"
     ]
    },
    {
     "name": "stdout",
     "output_type": "stream",
     "text": [
      "Epoch 42: 43% , Loss: 0.822726\n"
     ]
    },
    {
     "name": "stderr",
     "output_type": "stream",
     "text": [
      " 54%|█████▍    | 502/932 [01:02<01:03,  6.78it/s]"
     ]
    },
    {
     "name": "stdout",
     "output_type": "stream",
     "text": [
      "Epoch 42: 54% , Loss: 0.433603\n"
     ]
    },
    {
     "name": "stderr",
     "output_type": "stream",
     "text": [
      " 65%|██████▍   | 602/932 [01:17<00:42,  7.74it/s]"
     ]
    },
    {
     "name": "stdout",
     "output_type": "stream",
     "text": [
      "Epoch 42: 64% , Loss: 0.246965\n"
     ]
    },
    {
     "name": "stderr",
     "output_type": "stream",
     "text": [
      " 75%|███████▌  | 701/932 [01:32<00:34,  6.64it/s]"
     ]
    },
    {
     "name": "stdout",
     "output_type": "stream",
     "text": [
      "Epoch 42: 75% , Loss: 0.464714\n"
     ]
    },
    {
     "name": "stderr",
     "output_type": "stream",
     "text": [
      " 86%|████████▌ | 801/932 [01:48<00:20,  6.45it/s]"
     ]
    },
    {
     "name": "stdout",
     "output_type": "stream",
     "text": [
      "Epoch 42: 86% , Loss: 0.236062\n"
     ]
    },
    {
     "name": "stderr",
     "output_type": "stream",
     "text": [
      " 97%|█████████▋| 901/932 [02:04<00:05,  5.67it/s]"
     ]
    },
    {
     "name": "stdout",
     "output_type": "stream",
     "text": [
      "Epoch 42: 97% , Loss: 0.171728\n"
     ]
    },
    {
     "name": "stderr",
     "output_type": "stream",
     "text": [
      "100%|██████████| 932/932 [02:10<00:00,  7.16it/s]\n"
     ]
    },
    {
     "name": "stdout",
     "output_type": "stream",
     "text": [
      "Epoch 42: 100% , Loss: 0.499259\n",
      "                      (F1-score: 0.0449)\n",
      "\n",
      "                      (NDCG: 0.0715)\n",
      "\n",
      "train_loss= tensor(0.4707)\n",
      "--------------------\n"
     ]
    },
    {
     "name": "stderr",
     "output_type": "stream",
     "text": [
      "100%|██████████| 133/133 [00:09<00:00, 13.96it/s]\n"
     ]
    },
    {
     "name": "stdout",
     "output_type": "stream",
     "text": [
      "                      (F1-score: 0.0441)\n",
      "\n",
      "                      (NDCG: 0.0709)\n",
      "\n",
      "val_loss= tensor(0.4168)\n",
      "--------------------\n"
     ]
    },
    {
     "name": "stderr",
     "output_type": "stream",
     "text": [
      "100%|██████████| 266/266 [00:20<00:00, 12.78it/s]\n"
     ]
    },
    {
     "name": "stdout",
     "output_type": "stream",
     "text": [
      "                      (F1-score: 0.0419)\n",
      "\n",
      "                      (NDCG: 0.0655)\n",
      "\n",
      "--------------------\n",
      "[[1, {'F1-score': 0.020696255000910255}, {'NDCG': nan}, 1.6557947397232056], [2, {'F1-score': 0.0026908073907922344}, {'NDCG': nan}, 1.5130956172943115], [3, {'F1-score': 0.00035244360902255637}, {'NDCG': nan}, 1.4251788854599], [4, {'F1-score': 0.0003512840542915731}, {'NDCG': nan}, 1.3017510175704956], [5, {'F1-score': 7.374204742625796e-05}, {'NDCG': nan}, 1.199181079864502], [6, {'F1-score': 3.614806246385194e-05}, {'NDCG': nan}, 1.139860987663269], [7, {'F1-score': 3.480924533556112e-05}, {'NDCG': nan}, 1.0200258493423462], [8, {'F1-score': 3.480924533556112e-05}, {'NDCG': nan}, 0.9639192819595337], [9, {'F1-score': 0.0}, {'NDCG': nan}, 0.8990397453308105], [10, {'F1-score': 0.0}, {'NDCG': nan}, 0.8436604738235474], [11, {'F1-score': 0.0}, {'NDCG': nan}, 0.8076251149177551], [12, {'F1-score': 0.0}, {'NDCG': nan}, 0.7697919011116028], [13, {'F1-score': 5.8740601503759395e-05}, {'NDCG': nan}, 0.753480851650238], [14, {'F1-score': 0.0012219878443341513}, {'NDCG': nan}, 0.7338847517967224], [15, {'F1-score': 0.01062534167203703}, {'NDCG': 0.013129201301030423}, 0.6185950040817261], [16, {'F1-score': 0.019375928851687044}, {'NDCG': 0.03519700076150939}, 0.5403242111206055], [17, {'F1-score': 0.01848253876996446}, {'NDCG': 0.040508479944297245}, 0.4890783727169037], [18, {'F1-score': 0.020716118820674857}, {'NDCG': 0.041985287096463424}, 0.4662051796913147], [19, {'F1-score': 0.027990785761887106}, {'NDCG': 0.048343488129023886}, 0.4512224793434143], [20, {'F1-score': 0.03484081817544356}, {'NDCG': 0.058507005591295604}, 0.441200315952301], [21, {'F1-score': 0.03876663212846724}, {'NDCG': 0.0622019335168897}, 0.4276166260242462], [22, {'F1-score': 0.040837426837299705}, {'NDCG': 0.06454683031844802}, 0.42037180066108704], [23, {'F1-score': 0.04158640489020508}, {'NDCG': 0.06502353020985716}, 0.4233636260032654], [24, {'F1-score': 0.041303558087190245}, {'NDCG': 0.06500057630324946}, 0.41717544198036194], [25, {'F1-score': 0.04178157921777025}, {'NDCG': 0.06565063762744623}, 0.4188614785671234], [26, {'F1-score': 0.041769954678281}, {'NDCG': 0.0652992679716501}, 0.41779473423957825], [27, {'F1-score': 0.041584193678853895}, {'NDCG': 0.06540942633055374}, 0.41860634088516235], [28, {'F1-score': 0.04148225994223965}, {'NDCG': 0.06543476971678604}, 0.4165288507938385], [29, {'F1-score': 0.04168342064463433}, {'NDCG': 0.06576223675812826}, 0.41985461115837097], [30, {'F1-score': 0.04254017440856926}, {'NDCG': 0.06624068631580506}, 0.41571709513664246], [31, {'F1-score': 0.04206764067545528}, {'NDCG': 0.06587583314333308}, 0.3991002142429352], [32, {'F1-score': 0.04239886995089377}, {'NDCG': 0.06640722617135852}, 0.41824036836624146], [33, {'F1-score': 0.042105165755160594}, {'NDCG': 0.06585952443861984}, 0.4176519513130188], [34, {'F1-score': 0.042473682280207925}, {'NDCG': 0.06604485194850013}, 0.41393372416496277], [35, {'F1-score': 0.04229444034952263}, {'NDCG': 0.06607921188872279}, 0.41975560784339905], [36, {'F1-score': 0.04220153481134125}, {'NDCG': 0.06577430155016202}, 0.4132940173149109], [37, {'F1-score': 0.04263145642555783}, {'NDCG': 0.06609288727010328}, 0.4160638153553009], [38, {'F1-score': 0.04254532003846028}, {'NDCG': 0.06597359442411173}, 0.41647404432296753], [39, {'F1-score': 0.042241418832650895}, {'NDCG': 0.06588967637985217}, 0.41528692841529846], [40, {'F1-score': 0.04192055084527674}, {'NDCG': 0.06563688721507788}, 0.4217990040779114], [41, {'F1-score': 0.0420847906422249}, {'NDCG': 0.0653576915383451}, 0.41068458557128906], [42, {'F1-score': 0.0419153232658521}, {'NDCG': 0.06547804399659592}, 0.416829913854599]]\n",
      "-----------------------------------------------------------------------------------------\n"
     ]
    },
    {
     "name": "stderr",
     "output_type": "stream",
     "text": [
      "  0%|          | 2/932 [00:00<01:52,  8.26it/s]"
     ]
    },
    {
     "name": "stdout",
     "output_type": "stream",
     "text": [
      "Epoch 43: 0% , Loss: 0.452516\n"
     ]
    },
    {
     "name": "stderr",
     "output_type": "stream",
     "text": [
      " 11%|█         | 102/932 [00:11<01:33,  8.92it/s]"
     ]
    },
    {
     "name": "stdout",
     "output_type": "stream",
     "text": [
      "Epoch 43: 11% , Loss: 0.128605\n"
     ]
    },
    {
     "name": "stderr",
     "output_type": "stream",
     "text": [
      " 22%|██▏       | 202/932 [00:23<01:25,  8.50it/s]"
     ]
    },
    {
     "name": "stdout",
     "output_type": "stream",
     "text": [
      "Epoch 43: 21% , Loss: 0.144790\n"
     ]
    },
    {
     "name": "stderr",
     "output_type": "stream",
     "text": [
      " 32%|███▏      | 302/932 [00:35<01:17,  8.13it/s]"
     ]
    },
    {
     "name": "stdout",
     "output_type": "stream",
     "text": [
      "Epoch 43: 32% , Loss: 0.599661\n"
     ]
    },
    {
     "name": "stderr",
     "output_type": "stream",
     "text": [
      " 43%|████▎     | 402/932 [00:48<01:11,  7.42it/s]"
     ]
    },
    {
     "name": "stdout",
     "output_type": "stream",
     "text": [
      "Epoch 43: 43% , Loss: 0.256353\n"
     ]
    },
    {
     "name": "stderr",
     "output_type": "stream",
     "text": [
      " 54%|█████▍    | 502/932 [01:02<00:56,  7.55it/s]"
     ]
    },
    {
     "name": "stdout",
     "output_type": "stream",
     "text": [
      "Epoch 43: 54% , Loss: 0.184372\n"
     ]
    },
    {
     "name": "stderr",
     "output_type": "stream",
     "text": [
      " 65%|██████▍   | 602/932 [01:17<00:52,  6.31it/s]"
     ]
    },
    {
     "name": "stdout",
     "output_type": "stream",
     "text": [
      "Epoch 43: 64% , Loss: 0.658977\n"
     ]
    },
    {
     "name": "stderr",
     "output_type": "stream",
     "text": [
      " 75%|███████▌  | 701/932 [01:32<00:37,  6.14it/s]"
     ]
    },
    {
     "name": "stdout",
     "output_type": "stream",
     "text": [
      "Epoch 43: 75% , Loss: 0.312698\n"
     ]
    },
    {
     "name": "stderr",
     "output_type": "stream",
     "text": [
      " 86%|████████▌ | 801/932 [01:48<00:20,  6.37it/s]"
     ]
    },
    {
     "name": "stdout",
     "output_type": "stream",
     "text": [
      "Epoch 43: 86% , Loss: 0.115039\n"
     ]
    },
    {
     "name": "stderr",
     "output_type": "stream",
     "text": [
      " 97%|█████████▋| 901/932 [02:04<00:05,  5.91it/s]"
     ]
    },
    {
     "name": "stdout",
     "output_type": "stream",
     "text": [
      "Epoch 43: 97% , Loss: 0.393829\n"
     ]
    },
    {
     "name": "stderr",
     "output_type": "stream",
     "text": [
      "100%|██████████| 932/932 [02:10<00:00,  7.16it/s]\n"
     ]
    },
    {
     "name": "stdout",
     "output_type": "stream",
     "text": [
      "Epoch 43: 100% , Loss: 0.262065\n",
      "                      (F1-score: 0.0443)\n",
      "\n",
      "                      (NDCG: 0.0708)\n",
      "\n",
      "train_loss= tensor(0.4697)\n",
      "--------------------\n"
     ]
    },
    {
     "name": "stderr",
     "output_type": "stream",
     "text": [
      "100%|██████████| 133/133 [00:09<00:00, 13.84it/s]\n"
     ]
    },
    {
     "name": "stdout",
     "output_type": "stream",
     "text": [
      "                      (F1-score: 0.0434)\n",
      "\n",
      "                      (NDCG: 0.0698)\n",
      "\n",
      "val_loss= tensor(0.4144)\n",
      "--------------------\n"
     ]
    },
    {
     "name": "stderr",
     "output_type": "stream",
     "text": [
      "100%|██████████| 266/266 [00:20<00:00, 12.73it/s]\n"
     ]
    },
    {
     "name": "stdout",
     "output_type": "stream",
     "text": [
      "                      (F1-score: 0.0420)\n",
      "\n",
      "                      (NDCG: 0.0656)\n",
      "\n",
      "--------------------\n",
      "[[1, {'F1-score': 0.020696255000910255}, {'NDCG': nan}, 1.6557947397232056], [2, {'F1-score': 0.0026908073907922344}, {'NDCG': nan}, 1.5130956172943115], [3, {'F1-score': 0.00035244360902255637}, {'NDCG': nan}, 1.4251788854599], [4, {'F1-score': 0.0003512840542915731}, {'NDCG': nan}, 1.3017510175704956], [5, {'F1-score': 7.374204742625796e-05}, {'NDCG': nan}, 1.199181079864502], [6, {'F1-score': 3.614806246385194e-05}, {'NDCG': nan}, 1.139860987663269], [7, {'F1-score': 3.480924533556112e-05}, {'NDCG': nan}, 1.0200258493423462], [8, {'F1-score': 3.480924533556112e-05}, {'NDCG': nan}, 0.9639192819595337], [9, {'F1-score': 0.0}, {'NDCG': nan}, 0.8990397453308105], [10, {'F1-score': 0.0}, {'NDCG': nan}, 0.8436604738235474], [11, {'F1-score': 0.0}, {'NDCG': nan}, 0.8076251149177551], [12, {'F1-score': 0.0}, {'NDCG': nan}, 0.7697919011116028], [13, {'F1-score': 5.8740601503759395e-05}, {'NDCG': nan}, 0.753480851650238], [14, {'F1-score': 0.0012219878443341513}, {'NDCG': nan}, 0.7338847517967224], [15, {'F1-score': 0.01062534167203703}, {'NDCG': 0.013129201301030423}, 0.6185950040817261], [16, {'F1-score': 0.019375928851687044}, {'NDCG': 0.03519700076150939}, 0.5403242111206055], [17, {'F1-score': 0.01848253876996446}, {'NDCG': 0.040508479944297245}, 0.4890783727169037], [18, {'F1-score': 0.020716118820674857}, {'NDCG': 0.041985287096463424}, 0.4662051796913147], [19, {'F1-score': 0.027990785761887106}, {'NDCG': 0.048343488129023886}, 0.4512224793434143], [20, {'F1-score': 0.03484081817544356}, {'NDCG': 0.058507005591295604}, 0.441200315952301], [21, {'F1-score': 0.03876663212846724}, {'NDCG': 0.0622019335168897}, 0.4276166260242462], [22, {'F1-score': 0.040837426837299705}, {'NDCG': 0.06454683031844802}, 0.42037180066108704], [23, {'F1-score': 0.04158640489020508}, {'NDCG': 0.06502353020985716}, 0.4233636260032654], [24, {'F1-score': 0.041303558087190245}, {'NDCG': 0.06500057630324946}, 0.41717544198036194], [25, {'F1-score': 0.04178157921777025}, {'NDCG': 0.06565063762744623}, 0.4188614785671234], [26, {'F1-score': 0.041769954678281}, {'NDCG': 0.0652992679716501}, 0.41779473423957825], [27, {'F1-score': 0.041584193678853895}, {'NDCG': 0.06540942633055374}, 0.41860634088516235], [28, {'F1-score': 0.04148225994223965}, {'NDCG': 0.06543476971678604}, 0.4165288507938385], [29, {'F1-score': 0.04168342064463433}, {'NDCG': 0.06576223675812826}, 0.41985461115837097], [30, {'F1-score': 0.04254017440856926}, {'NDCG': 0.06624068631580506}, 0.41571709513664246], [31, {'F1-score': 0.04206764067545528}, {'NDCG': 0.06587583314333308}, 0.3991002142429352], [32, {'F1-score': 0.04239886995089377}, {'NDCG': 0.06640722617135852}, 0.41824036836624146], [33, {'F1-score': 0.042105165755160594}, {'NDCG': 0.06585952443861984}, 0.4176519513130188], [34, {'F1-score': 0.042473682280207925}, {'NDCG': 0.06604485194850013}, 0.41393372416496277], [35, {'F1-score': 0.04229444034952263}, {'NDCG': 0.06607921188872279}, 0.41975560784339905], [36, {'F1-score': 0.04220153481134125}, {'NDCG': 0.06577430155016202}, 0.4132940173149109], [37, {'F1-score': 0.04263145642555783}, {'NDCG': 0.06609288727010328}, 0.4160638153553009], [38, {'F1-score': 0.04254532003846028}, {'NDCG': 0.06597359442411173}, 0.41647404432296753], [39, {'F1-score': 0.042241418832650895}, {'NDCG': 0.06588967637985217}, 0.41528692841529846], [40, {'F1-score': 0.04192055084527674}, {'NDCG': 0.06563688721507788}, 0.4217990040779114], [41, {'F1-score': 0.0420847906422249}, {'NDCG': 0.0653576915383451}, 0.41068458557128906], [42, {'F1-score': 0.0419153232658521}, {'NDCG': 0.06547804399659592}, 0.416829913854599], [43, {'F1-score': 0.041997712096155146}, {'NDCG': 0.06555517241043649}, 0.41442805528640747]]\n",
      "-----------------------------------------------------------------------------------------\n"
     ]
    },
    {
     "name": "stderr",
     "output_type": "stream",
     "text": [
      "\r",
      "  0%|          | 0/932 [00:00<?, ?it/s]"
     ]
    },
    {
     "name": "stdout",
     "output_type": "stream",
     "text": [
      "Epoch 44: 0% , Loss: 0.081357\n"
     ]
    },
    {
     "name": "stderr",
     "output_type": "stream",
     "text": [
      " 11%|█         | 102/932 [00:11<01:37,  8.53it/s]"
     ]
    },
    {
     "name": "stdout",
     "output_type": "stream",
     "text": [
      "Epoch 44: 11% , Loss: 0.319230\n"
     ]
    },
    {
     "name": "stderr",
     "output_type": "stream",
     "text": [
      " 22%|██▏       | 202/932 [00:23<01:26,  8.45it/s]"
     ]
    },
    {
     "name": "stdout",
     "output_type": "stream",
     "text": [
      "Epoch 44: 21% , Loss: 0.191214\n"
     ]
    },
    {
     "name": "stderr",
     "output_type": "stream",
     "text": [
      " 32%|███▏      | 302/932 [00:35<01:17,  8.18it/s]"
     ]
    },
    {
     "name": "stdout",
     "output_type": "stream",
     "text": [
      "Epoch 44: 32% , Loss: 0.199923\n"
     ]
    },
    {
     "name": "stderr",
     "output_type": "stream",
     "text": [
      " 43%|████▎     | 402/932 [00:48<01:20,  6.57it/s]"
     ]
    },
    {
     "name": "stdout",
     "output_type": "stream",
     "text": [
      "Epoch 44: 43% , Loss: 0.149298\n"
     ]
    },
    {
     "name": "stderr",
     "output_type": "stream",
     "text": [
      " 54%|█████▍    | 502/932 [01:02<00:59,  7.21it/s]"
     ]
    },
    {
     "name": "stdout",
     "output_type": "stream",
     "text": [
      "Epoch 44: 54% , Loss: 0.379410\n"
     ]
    },
    {
     "name": "stderr",
     "output_type": "stream",
     "text": [
      " 65%|██████▍   | 602/932 [01:17<00:51,  6.40it/s]"
     ]
    },
    {
     "name": "stdout",
     "output_type": "stream",
     "text": [
      "Epoch 44: 64% , Loss: 0.342959\n"
     ]
    },
    {
     "name": "stderr",
     "output_type": "stream",
     "text": [
      " 75%|███████▌  | 702/932 [01:32<00:34,  6.72it/s]"
     ]
    },
    {
     "name": "stdout",
     "output_type": "stream",
     "text": [
      "Epoch 44: 75% , Loss: 0.741204\n"
     ]
    },
    {
     "name": "stderr",
     "output_type": "stream",
     "text": [
      " 86%|████████▌ | 802/932 [01:48<00:21,  6.15it/s]"
     ]
    },
    {
     "name": "stdout",
     "output_type": "stream",
     "text": [
      "Epoch 44: 86% , Loss: 0.068813\n"
     ]
    },
    {
     "name": "stderr",
     "output_type": "stream",
     "text": [
      " 97%|█████████▋| 901/932 [02:04<00:05,  5.92it/s]"
     ]
    },
    {
     "name": "stdout",
     "output_type": "stream",
     "text": [
      "Epoch 44: 97% , Loss: 0.264314\n"
     ]
    },
    {
     "name": "stderr",
     "output_type": "stream",
     "text": [
      "100%|██████████| 932/932 [02:09<00:00,  7.18it/s]\n"
     ]
    },
    {
     "name": "stdout",
     "output_type": "stream",
     "text": [
      "Epoch 44: 100% , Loss: 0.147493\n",
      "                      (F1-score: 0.0442)\n",
      "\n",
      "                      (NDCG: 0.0707)\n",
      "\n",
      "train_loss= tensor(0.4657)\n",
      "--------------------\n"
     ]
    },
    {
     "name": "stderr",
     "output_type": "stream",
     "text": [
      "100%|██████████| 133/133 [00:09<00:00, 13.79it/s]\n"
     ]
    },
    {
     "name": "stdout",
     "output_type": "stream",
     "text": [
      "                      (F1-score: 0.0441)\n",
      "\n",
      "                      (NDCG: 0.0706)\n",
      "\n",
      "val_loss= tensor(0.4165)\n",
      "--------------------\n"
     ]
    },
    {
     "name": "stderr",
     "output_type": "stream",
     "text": [
      "100%|██████████| 266/266 [00:21<00:00, 12.66it/s]\n"
     ]
    },
    {
     "name": "stdout",
     "output_type": "stream",
     "text": [
      "                      (F1-score: 0.0426)\n",
      "\n",
      "                      (NDCG: 0.0659)\n",
      "\n",
      "--------------------\n",
      "[[1, {'F1-score': 0.020696255000910255}, {'NDCG': nan}, 1.6557947397232056], [2, {'F1-score': 0.0026908073907922344}, {'NDCG': nan}, 1.5130956172943115], [3, {'F1-score': 0.00035244360902255637}, {'NDCG': nan}, 1.4251788854599], [4, {'F1-score': 0.0003512840542915731}, {'NDCG': nan}, 1.3017510175704956], [5, {'F1-score': 7.374204742625796e-05}, {'NDCG': nan}, 1.199181079864502], [6, {'F1-score': 3.614806246385194e-05}, {'NDCG': nan}, 1.139860987663269], [7, {'F1-score': 3.480924533556112e-05}, {'NDCG': nan}, 1.0200258493423462], [8, {'F1-score': 3.480924533556112e-05}, {'NDCG': nan}, 0.9639192819595337], [9, {'F1-score': 0.0}, {'NDCG': nan}, 0.8990397453308105], [10, {'F1-score': 0.0}, {'NDCG': nan}, 0.8436604738235474], [11, {'F1-score': 0.0}, {'NDCG': nan}, 0.8076251149177551], [12, {'F1-score': 0.0}, {'NDCG': nan}, 0.7697919011116028], [13, {'F1-score': 5.8740601503759395e-05}, {'NDCG': nan}, 0.753480851650238], [14, {'F1-score': 0.0012219878443341513}, {'NDCG': nan}, 0.7338847517967224], [15, {'F1-score': 0.01062534167203703}, {'NDCG': 0.013129201301030423}, 0.6185950040817261], [16, {'F1-score': 0.019375928851687044}, {'NDCG': 0.03519700076150939}, 0.5403242111206055], [17, {'F1-score': 0.01848253876996446}, {'NDCG': 0.040508479944297245}, 0.4890783727169037], [18, {'F1-score': 0.020716118820674857}, {'NDCG': 0.041985287096463424}, 0.4662051796913147], [19, {'F1-score': 0.027990785761887106}, {'NDCG': 0.048343488129023886}, 0.4512224793434143], [20, {'F1-score': 0.03484081817544356}, {'NDCG': 0.058507005591295604}, 0.441200315952301], [21, {'F1-score': 0.03876663212846724}, {'NDCG': 0.0622019335168897}, 0.4276166260242462], [22, {'F1-score': 0.040837426837299705}, {'NDCG': 0.06454683031844802}, 0.42037180066108704], [23, {'F1-score': 0.04158640489020508}, {'NDCG': 0.06502353020985716}, 0.4233636260032654], [24, {'F1-score': 0.041303558087190245}, {'NDCG': 0.06500057630324946}, 0.41717544198036194], [25, {'F1-score': 0.04178157921777025}, {'NDCG': 0.06565063762744623}, 0.4188614785671234], [26, {'F1-score': 0.041769954678281}, {'NDCG': 0.0652992679716501}, 0.41779473423957825], [27, {'F1-score': 0.041584193678853895}, {'NDCG': 0.06540942633055374}, 0.41860634088516235], [28, {'F1-score': 0.04148225994223965}, {'NDCG': 0.06543476971678604}, 0.4165288507938385], [29, {'F1-score': 0.04168342064463433}, {'NDCG': 0.06576223675812826}, 0.41985461115837097], [30, {'F1-score': 0.04254017440856926}, {'NDCG': 0.06624068631580506}, 0.41571709513664246], [31, {'F1-score': 0.04206764067545528}, {'NDCG': 0.06587583314333308}, 0.3991002142429352], [32, {'F1-score': 0.04239886995089377}, {'NDCG': 0.06640722617135852}, 0.41824036836624146], [33, {'F1-score': 0.042105165755160594}, {'NDCG': 0.06585952443861984}, 0.4176519513130188], [34, {'F1-score': 0.042473682280207925}, {'NDCG': 0.06604485194850013}, 0.41393372416496277], [35, {'F1-score': 0.04229444034952263}, {'NDCG': 0.06607921188872279}, 0.41975560784339905], [36, {'F1-score': 0.04220153481134125}, {'NDCG': 0.06577430155016202}, 0.4132940173149109], [37, {'F1-score': 0.04263145642555783}, {'NDCG': 0.06609288727010328}, 0.4160638153553009], [38, {'F1-score': 0.04254532003846028}, {'NDCG': 0.06597359442411173}, 0.41647404432296753], [39, {'F1-score': 0.042241418832650895}, {'NDCG': 0.06588967637985217}, 0.41528692841529846], [40, {'F1-score': 0.04192055084527674}, {'NDCG': 0.06563688721507788}, 0.4217990040779114], [41, {'F1-score': 0.0420847906422249}, {'NDCG': 0.0653576915383451}, 0.41068458557128906], [42, {'F1-score': 0.0419153232658521}, {'NDCG': 0.06547804399659592}, 0.416829913854599], [43, {'F1-score': 0.041997712096155146}, {'NDCG': 0.06555517241043649}, 0.41442805528640747], [44, {'F1-score': 0.042561440326250304}, {'NDCG': 0.06594007533337724}, 0.4165075719356537]]\n",
      "-----------------------------------------------------------------------------------------\n"
     ]
    },
    {
     "name": "stderr",
     "output_type": "stream",
     "text": [
      "  0%|          | 2/932 [00:00<01:49,  8.46it/s]"
     ]
    },
    {
     "name": "stdout",
     "output_type": "stream",
     "text": [
      "Epoch 45: 0% , Loss: 0.521150\n"
     ]
    },
    {
     "name": "stderr",
     "output_type": "stream",
     "text": [
      " 11%|█         | 102/932 [00:11<01:37,  8.54it/s]"
     ]
    },
    {
     "name": "stdout",
     "output_type": "stream",
     "text": [
      "Epoch 45: 11% , Loss: 0.500630\n"
     ]
    },
    {
     "name": "stderr",
     "output_type": "stream",
     "text": [
      " 22%|██▏       | 202/932 [00:23<01:22,  8.81it/s]"
     ]
    },
    {
     "name": "stdout",
     "output_type": "stream",
     "text": [
      "Epoch 45: 21% , Loss: 0.122786\n"
     ]
    },
    {
     "name": "stderr",
     "output_type": "stream",
     "text": [
      " 32%|███▏      | 302/932 [00:35<01:22,  7.61it/s]"
     ]
    },
    {
     "name": "stdout",
     "output_type": "stream",
     "text": [
      "Epoch 45: 32% , Loss: 0.931806\n"
     ]
    },
    {
     "name": "stderr",
     "output_type": "stream",
     "text": [
      " 43%|████▎     | 402/932 [00:48<01:12,  7.26it/s]"
     ]
    },
    {
     "name": "stdout",
     "output_type": "stream",
     "text": [
      "Epoch 45: 43% , Loss: 0.808613\n"
     ]
    },
    {
     "name": "stderr",
     "output_type": "stream",
     "text": [
      " 54%|█████▍    | 502/932 [01:02<01:01,  6.96it/s]"
     ]
    },
    {
     "name": "stdout",
     "output_type": "stream",
     "text": [
      "Epoch 45: 54% , Loss: 0.185986\n"
     ]
    },
    {
     "name": "stderr",
     "output_type": "stream",
     "text": [
      " 65%|██████▍   | 602/932 [01:17<00:46,  7.03it/s]"
     ]
    },
    {
     "name": "stdout",
     "output_type": "stream",
     "text": [
      "Epoch 45: 64% , Loss: 0.568575\n"
     ]
    },
    {
     "name": "stderr",
     "output_type": "stream",
     "text": [
      " 75%|███████▌  | 702/932 [01:32<00:33,  6.82it/s]"
     ]
    },
    {
     "name": "stdout",
     "output_type": "stream",
     "text": [
      "Epoch 45: 75% , Loss: 1.110961\n"
     ]
    },
    {
     "name": "stderr",
     "output_type": "stream",
     "text": [
      " 86%|████████▌ | 801/932 [01:48<00:21,  6.13it/s]"
     ]
    },
    {
     "name": "stdout",
     "output_type": "stream",
     "text": [
      "Epoch 45: 86% , Loss: 0.480040\n"
     ]
    },
    {
     "name": "stderr",
     "output_type": "stream",
     "text": [
      " 97%|█████████▋| 901/932 [02:04<00:05,  6.03it/s]"
     ]
    },
    {
     "name": "stdout",
     "output_type": "stream",
     "text": [
      "Epoch 45: 97% , Loss: 0.240989\n"
     ]
    },
    {
     "name": "stderr",
     "output_type": "stream",
     "text": [
      "100%|██████████| 932/932 [02:10<00:00,  7.16it/s]\n"
     ]
    },
    {
     "name": "stdout",
     "output_type": "stream",
     "text": [
      "Epoch 45: 100% , Loss: 0.357557\n",
      "                      (F1-score: 0.0442)\n",
      "\n",
      "                      (NDCG: 0.0707)\n",
      "\n",
      "train_loss= tensor(0.4708)\n",
      "--------------------\n"
     ]
    },
    {
     "name": "stderr",
     "output_type": "stream",
     "text": [
      "100%|██████████| 133/133 [00:09<00:00, 13.99it/s]\n"
     ]
    },
    {
     "name": "stdout",
     "output_type": "stream",
     "text": [
      "                      (F1-score: 0.0445)\n",
      "\n",
      "                      (NDCG: 0.0708)\n",
      "\n",
      "val_loss= tensor(0.4143)\n",
      "--------------------\n"
     ]
    },
    {
     "name": "stderr",
     "output_type": "stream",
     "text": [
      "100%|██████████| 266/266 [00:20<00:00, 12.73it/s]\n"
     ]
    },
    {
     "name": "stdout",
     "output_type": "stream",
     "text": [
      "                      (F1-score: 0.0424)\n",
      "\n",
      "                      (NDCG: 0.0658)\n",
      "\n",
      "--------------------\n",
      "[[1, {'F1-score': 0.020696255000910255}, {'NDCG': nan}, 1.6557947397232056], [2, {'F1-score': 0.0026908073907922344}, {'NDCG': nan}, 1.5130956172943115], [3, {'F1-score': 0.00035244360902255637}, {'NDCG': nan}, 1.4251788854599], [4, {'F1-score': 0.0003512840542915731}, {'NDCG': nan}, 1.3017510175704956], [5, {'F1-score': 7.374204742625796e-05}, {'NDCG': nan}, 1.199181079864502], [6, {'F1-score': 3.614806246385194e-05}, {'NDCG': nan}, 1.139860987663269], [7, {'F1-score': 3.480924533556112e-05}, {'NDCG': nan}, 1.0200258493423462], [8, {'F1-score': 3.480924533556112e-05}, {'NDCG': nan}, 0.9639192819595337], [9, {'F1-score': 0.0}, {'NDCG': nan}, 0.8990397453308105], [10, {'F1-score': 0.0}, {'NDCG': nan}, 0.8436604738235474], [11, {'F1-score': 0.0}, {'NDCG': nan}, 0.8076251149177551], [12, {'F1-score': 0.0}, {'NDCG': nan}, 0.7697919011116028], [13, {'F1-score': 5.8740601503759395e-05}, {'NDCG': nan}, 0.753480851650238], [14, {'F1-score': 0.0012219878443341513}, {'NDCG': nan}, 0.7338847517967224], [15, {'F1-score': 0.01062534167203703}, {'NDCG': 0.013129201301030423}, 0.6185950040817261], [16, {'F1-score': 0.019375928851687044}, {'NDCG': 0.03519700076150939}, 0.5403242111206055], [17, {'F1-score': 0.01848253876996446}, {'NDCG': 0.040508479944297245}, 0.4890783727169037], [18, {'F1-score': 0.020716118820674857}, {'NDCG': 0.041985287096463424}, 0.4662051796913147], [19, {'F1-score': 0.027990785761887106}, {'NDCG': 0.048343488129023886}, 0.4512224793434143], [20, {'F1-score': 0.03484081817544356}, {'NDCG': 0.058507005591295604}, 0.441200315952301], [21, {'F1-score': 0.03876663212846724}, {'NDCG': 0.0622019335168897}, 0.4276166260242462], [22, {'F1-score': 0.040837426837299705}, {'NDCG': 0.06454683031844802}, 0.42037180066108704], [23, {'F1-score': 0.04158640489020508}, {'NDCG': 0.06502353020985716}, 0.4233636260032654], [24, {'F1-score': 0.041303558087190245}, {'NDCG': 0.06500057630324946}, 0.41717544198036194], [25, {'F1-score': 0.04178157921777025}, {'NDCG': 0.06565063762744623}, 0.4188614785671234], [26, {'F1-score': 0.041769954678281}, {'NDCG': 0.0652992679716501}, 0.41779473423957825], [27, {'F1-score': 0.041584193678853895}, {'NDCG': 0.06540942633055374}, 0.41860634088516235], [28, {'F1-score': 0.04148225994223965}, {'NDCG': 0.06543476971678604}, 0.4165288507938385], [29, {'F1-score': 0.04168342064463433}, {'NDCG': 0.06576223675812826}, 0.41985461115837097], [30, {'F1-score': 0.04254017440856926}, {'NDCG': 0.06624068631580506}, 0.41571709513664246], [31, {'F1-score': 0.04206764067545528}, {'NDCG': 0.06587583314333308}, 0.3991002142429352], [32, {'F1-score': 0.04239886995089377}, {'NDCG': 0.06640722617135852}, 0.41824036836624146], [33, {'F1-score': 0.042105165755160594}, {'NDCG': 0.06585952443861984}, 0.4176519513130188], [34, {'F1-score': 0.042473682280207925}, {'NDCG': 0.06604485194850013}, 0.41393372416496277], [35, {'F1-score': 0.04229444034952263}, {'NDCG': 0.06607921188872279}, 0.41975560784339905], [36, {'F1-score': 0.04220153481134125}, {'NDCG': 0.06577430155016202}, 0.4132940173149109], [37, {'F1-score': 0.04263145642555783}, {'NDCG': 0.06609288727010328}, 0.4160638153553009], [38, {'F1-score': 0.04254532003846028}, {'NDCG': 0.06597359442411173}, 0.41647404432296753], [39, {'F1-score': 0.042241418832650895}, {'NDCG': 0.06588967637985217}, 0.41528692841529846], [40, {'F1-score': 0.04192055084527674}, {'NDCG': 0.06563688721507788}, 0.4217990040779114], [41, {'F1-score': 0.0420847906422249}, {'NDCG': 0.0653576915383451}, 0.41068458557128906], [42, {'F1-score': 0.0419153232658521}, {'NDCG': 0.06547804399659592}, 0.416829913854599], [43, {'F1-score': 0.041997712096155146}, {'NDCG': 0.06555517241043649}, 0.41442805528640747], [44, {'F1-score': 0.042561440326250304}, {'NDCG': 0.06594007533337724}, 0.4165075719356537], [45, {'F1-score': 0.042352343637086176}, {'NDCG': 0.06576762380624625}, 0.41433143615722656]]\n",
      "-----------------------------------------------------------------------------------------\n"
     ]
    },
    {
     "name": "stderr",
     "output_type": "stream",
     "text": [
      "\r",
      "  0%|          | 0/932 [00:00<?, ?it/s]"
     ]
    },
    {
     "name": "stdout",
     "output_type": "stream",
     "text": [
      "Epoch 46: 0% , Loss: 0.223920\n"
     ]
    },
    {
     "name": "stderr",
     "output_type": "stream",
     "text": [
      " 11%|█         | 102/932 [00:11<01:32,  9.00it/s]"
     ]
    },
    {
     "name": "stdout",
     "output_type": "stream",
     "text": [
      "Epoch 46: 11% , Loss: 0.174874\n"
     ]
    },
    {
     "name": "stderr",
     "output_type": "stream",
     "text": [
      " 22%|██▏       | 202/932 [00:23<01:26,  8.44it/s]"
     ]
    },
    {
     "name": "stdout",
     "output_type": "stream",
     "text": [
      "Epoch 46: 21% , Loss: 0.315196\n"
     ]
    },
    {
     "name": "stderr",
     "output_type": "stream",
     "text": [
      " 32%|███▏      | 302/932 [00:35<01:18,  7.98it/s]"
     ]
    },
    {
     "name": "stdout",
     "output_type": "stream",
     "text": [
      "Epoch 46: 32% , Loss: 0.392410\n"
     ]
    },
    {
     "name": "stderr",
     "output_type": "stream",
     "text": [
      " 43%|████▎     | 402/932 [00:49<01:15,  6.99it/s]"
     ]
    },
    {
     "name": "stdout",
     "output_type": "stream",
     "text": [
      "Epoch 46: 43% , Loss: 0.531680\n"
     ]
    },
    {
     "name": "stderr",
     "output_type": "stream",
     "text": [
      " 54%|█████▍    | 502/932 [01:03<00:58,  7.33it/s]"
     ]
    },
    {
     "name": "stdout",
     "output_type": "stream",
     "text": [
      "Epoch 46: 54% , Loss: 0.985735\n"
     ]
    },
    {
     "name": "stderr",
     "output_type": "stream",
     "text": [
      " 65%|██████▍   | 602/932 [01:18<00:50,  6.60it/s]"
     ]
    },
    {
     "name": "stdout",
     "output_type": "stream",
     "text": [
      "Epoch 46: 64% , Loss: 0.128301\n"
     ]
    },
    {
     "name": "stderr",
     "output_type": "stream",
     "text": [
      " 75%|███████▌  | 702/932 [01:33<00:33,  6.84it/s]"
     ]
    },
    {
     "name": "stdout",
     "output_type": "stream",
     "text": [
      "Epoch 46: 75% , Loss: 1.713277\n"
     ]
    },
    {
     "name": "stderr",
     "output_type": "stream",
     "text": [
      " 86%|████████▌ | 801/932 [01:48<00:20,  6.52it/s]"
     ]
    },
    {
     "name": "stdout",
     "output_type": "stream",
     "text": [
      "Epoch 46: 86% , Loss: 0.397002\n"
     ]
    },
    {
     "name": "stderr",
     "output_type": "stream",
     "text": [
      " 97%|█████████▋| 901/932 [02:05<00:05,  5.66it/s]"
     ]
    },
    {
     "name": "stdout",
     "output_type": "stream",
     "text": [
      "Epoch 46: 97% , Loss: 0.580535\n"
     ]
    },
    {
     "name": "stderr",
     "output_type": "stream",
     "text": [
      "100%|██████████| 932/932 [02:10<00:00,  7.15it/s]\n"
     ]
    },
    {
     "name": "stdout",
     "output_type": "stream",
     "text": [
      "Epoch 46: 100% , Loss: 0.650471\n",
      "                      (F1-score: 0.0444)\n",
      "\n",
      "                      (NDCG: 0.0709)\n",
      "\n",
      "train_loss= tensor(0.4714)\n",
      "--------------------\n"
     ]
    },
    {
     "name": "stderr",
     "output_type": "stream",
     "text": [
      "100%|██████████| 133/133 [00:09<00:00, 13.98it/s]\n"
     ]
    },
    {
     "name": "stdout",
     "output_type": "stream",
     "text": [
      "                      (F1-score: 0.0430)\n",
      "\n",
      "                      (NDCG: 0.0693)\n",
      "\n",
      "val_loss= tensor(0.4164)\n",
      "--------------------\n"
     ]
    },
    {
     "name": "stderr",
     "output_type": "stream",
     "text": [
      "100%|██████████| 266/266 [00:21<00:00, 12.66it/s]\n"
     ]
    },
    {
     "name": "stdout",
     "output_type": "stream",
     "text": [
      "                      (F1-score: 0.0428)\n",
      "\n",
      "                      (NDCG: 0.0657)\n",
      "\n",
      "--------------------\n",
      "[[1, {'F1-score': 0.020696255000910255}, {'NDCG': nan}, 1.6557947397232056], [2, {'F1-score': 0.0026908073907922344}, {'NDCG': nan}, 1.5130956172943115], [3, {'F1-score': 0.00035244360902255637}, {'NDCG': nan}, 1.4251788854599], [4, {'F1-score': 0.0003512840542915731}, {'NDCG': nan}, 1.3017510175704956], [5, {'F1-score': 7.374204742625796e-05}, {'NDCG': nan}, 1.199181079864502], [6, {'F1-score': 3.614806246385194e-05}, {'NDCG': nan}, 1.139860987663269], [7, {'F1-score': 3.480924533556112e-05}, {'NDCG': nan}, 1.0200258493423462], [8, {'F1-score': 3.480924533556112e-05}, {'NDCG': nan}, 0.9639192819595337], [9, {'F1-score': 0.0}, {'NDCG': nan}, 0.8990397453308105], [10, {'F1-score': 0.0}, {'NDCG': nan}, 0.8436604738235474], [11, {'F1-score': 0.0}, {'NDCG': nan}, 0.8076251149177551], [12, {'F1-score': 0.0}, {'NDCG': nan}, 0.7697919011116028], [13, {'F1-score': 5.8740601503759395e-05}, {'NDCG': nan}, 0.753480851650238], [14, {'F1-score': 0.0012219878443341513}, {'NDCG': nan}, 0.7338847517967224], [15, {'F1-score': 0.01062534167203703}, {'NDCG': 0.013129201301030423}, 0.6185950040817261], [16, {'F1-score': 0.019375928851687044}, {'NDCG': 0.03519700076150939}, 0.5403242111206055], [17, {'F1-score': 0.01848253876996446}, {'NDCG': 0.040508479944297245}, 0.4890783727169037], [18, {'F1-score': 0.020716118820674857}, {'NDCG': 0.041985287096463424}, 0.4662051796913147], [19, {'F1-score': 0.027990785761887106}, {'NDCG': 0.048343488129023886}, 0.4512224793434143], [20, {'F1-score': 0.03484081817544356}, {'NDCG': 0.058507005591295604}, 0.441200315952301], [21, {'F1-score': 0.03876663212846724}, {'NDCG': 0.0622019335168897}, 0.4276166260242462], [22, {'F1-score': 0.040837426837299705}, {'NDCG': 0.06454683031844802}, 0.42037180066108704], [23, {'F1-score': 0.04158640489020508}, {'NDCG': 0.06502353020985716}, 0.4233636260032654], [24, {'F1-score': 0.041303558087190245}, {'NDCG': 0.06500057630324946}, 0.41717544198036194], [25, {'F1-score': 0.04178157921777025}, {'NDCG': 0.06565063762744623}, 0.4188614785671234], [26, {'F1-score': 0.041769954678281}, {'NDCG': 0.0652992679716501}, 0.41779473423957825], [27, {'F1-score': 0.041584193678853895}, {'NDCG': 0.06540942633055374}, 0.41860634088516235], [28, {'F1-score': 0.04148225994223965}, {'NDCG': 0.06543476971678604}, 0.4165288507938385], [29, {'F1-score': 0.04168342064463433}, {'NDCG': 0.06576223675812826}, 0.41985461115837097], [30, {'F1-score': 0.04254017440856926}, {'NDCG': 0.06624068631580506}, 0.41571709513664246], [31, {'F1-score': 0.04206764067545528}, {'NDCG': 0.06587583314333308}, 0.3991002142429352], [32, {'F1-score': 0.04239886995089377}, {'NDCG': 0.06640722617135852}, 0.41824036836624146], [33, {'F1-score': 0.042105165755160594}, {'NDCG': 0.06585952443861984}, 0.4176519513130188], [34, {'F1-score': 0.042473682280207925}, {'NDCG': 0.06604485194850013}, 0.41393372416496277], [35, {'F1-score': 0.04229444034952263}, {'NDCG': 0.06607921188872279}, 0.41975560784339905], [36, {'F1-score': 0.04220153481134125}, {'NDCG': 0.06577430155016202}, 0.4132940173149109], [37, {'F1-score': 0.04263145642555783}, {'NDCG': 0.06609288727010328}, 0.4160638153553009], [38, {'F1-score': 0.04254532003846028}, {'NDCG': 0.06597359442411173}, 0.41647404432296753], [39, {'F1-score': 0.042241418832650895}, {'NDCG': 0.06588967637985217}, 0.41528692841529846], [40, {'F1-score': 0.04192055084527674}, {'NDCG': 0.06563688721507788}, 0.4217990040779114], [41, {'F1-score': 0.0420847906422249}, {'NDCG': 0.0653576915383451}, 0.41068458557128906], [42, {'F1-score': 0.0419153232658521}, {'NDCG': 0.06547804399659592}, 0.416829913854599], [43, {'F1-score': 0.041997712096155146}, {'NDCG': 0.06555517241043649}, 0.41442805528640747], [44, {'F1-score': 0.042561440326250304}, {'NDCG': 0.06594007533337724}, 0.4165075719356537], [45, {'F1-score': 0.042352343637086176}, {'NDCG': 0.06576762380624625}, 0.41433143615722656], [46, {'F1-score': 0.0427873633725787}, {'NDCG': 0.0657207731532171}, 0.41638821363449097]]\n",
      "-----------------------------------------------------------------------------------------\n"
     ]
    },
    {
     "name": "stderr",
     "output_type": "stream",
     "text": [
      "  0%|          | 2/932 [00:00<01:26, 10.70it/s]"
     ]
    },
    {
     "name": "stdout",
     "output_type": "stream",
     "text": [
      "Epoch 47: 0% , Loss: 0.150551\n"
     ]
    },
    {
     "name": "stderr",
     "output_type": "stream",
     "text": [
      " 11%|█         | 102/932 [00:11<01:35,  8.71it/s]"
     ]
    },
    {
     "name": "stdout",
     "output_type": "stream",
     "text": [
      "Epoch 47: 11% , Loss: 0.163279\n"
     ]
    },
    {
     "name": "stderr",
     "output_type": "stream",
     "text": [
      " 22%|██▏       | 202/932 [00:23<01:33,  7.85it/s]"
     ]
    },
    {
     "name": "stdout",
     "output_type": "stream",
     "text": [
      "Epoch 47: 21% , Loss: 0.523908\n"
     ]
    },
    {
     "name": "stderr",
     "output_type": "stream",
     "text": [
      " 32%|███▏      | 302/932 [00:36<01:32,  6.79it/s]"
     ]
    },
    {
     "name": "stdout",
     "output_type": "stream",
     "text": [
      "Epoch 47: 32% , Loss: 0.112102\n"
     ]
    },
    {
     "name": "stderr",
     "output_type": "stream",
     "text": [
      " 43%|████▎     | 402/932 [00:49<01:14,  7.12it/s]"
     ]
    },
    {
     "name": "stdout",
     "output_type": "stream",
     "text": [
      "Epoch 47: 43% , Loss: 0.608936\n"
     ]
    },
    {
     "name": "stderr",
     "output_type": "stream",
     "text": [
      " 54%|█████▍    | 502/932 [01:03<01:02,  6.91it/s]"
     ]
    },
    {
     "name": "stdout",
     "output_type": "stream",
     "text": [
      "Epoch 47: 54% , Loss: 0.146384\n"
     ]
    },
    {
     "name": "stderr",
     "output_type": "stream",
     "text": [
      " 65%|██████▍   | 602/932 [01:18<00:46,  7.06it/s]"
     ]
    },
    {
     "name": "stdout",
     "output_type": "stream",
     "text": [
      "Epoch 47: 64% , Loss: 0.367190\n"
     ]
    },
    {
     "name": "stderr",
     "output_type": "stream",
     "text": [
      " 75%|███████▌  | 702/932 [01:33<00:34,  6.67it/s]"
     ]
    },
    {
     "name": "stdout",
     "output_type": "stream",
     "text": [
      "Epoch 47: 75% , Loss: 0.412028\n"
     ]
    },
    {
     "name": "stderr",
     "output_type": "stream",
     "text": [
      " 86%|████████▌ | 802/932 [01:49<00:20,  6.45it/s]"
     ]
    },
    {
     "name": "stdout",
     "output_type": "stream",
     "text": [
      "Epoch 47: 86% , Loss: 0.068509\n"
     ]
    },
    {
     "name": "stderr",
     "output_type": "stream",
     "text": [
      " 97%|█████████▋| 902/932 [02:05<00:04,  6.17it/s]"
     ]
    },
    {
     "name": "stdout",
     "output_type": "stream",
     "text": [
      "Epoch 47: 97% , Loss: 1.212270\n"
     ]
    },
    {
     "name": "stderr",
     "output_type": "stream",
     "text": [
      "100%|██████████| 932/932 [02:10<00:00,  7.15it/s]\n"
     ]
    },
    {
     "name": "stdout",
     "output_type": "stream",
     "text": [
      "Epoch 47: 100% , Loss: 0.073647\n",
      "                      (F1-score: 0.0445)\n",
      "\n",
      "                      (NDCG: 0.0708)\n",
      "\n",
      "train_loss= tensor(0.4664)\n",
      "--------------------\n"
     ]
    },
    {
     "name": "stderr",
     "output_type": "stream",
     "text": [
      "100%|██████████| 133/133 [00:09<00:00, 13.39it/s]\n"
     ]
    },
    {
     "name": "stdout",
     "output_type": "stream",
     "text": [
      "                      (F1-score: 0.0440)\n",
      "\n",
      "                      (NDCG: 0.0707)\n",
      "\n",
      "val_loss= tensor(0.4119)\n",
      "--------------------\n"
     ]
    },
    {
     "name": "stderr",
     "output_type": "stream",
     "text": [
      "100%|██████████| 266/266 [00:21<00:00, 12.53it/s]\n"
     ]
    },
    {
     "name": "stdout",
     "output_type": "stream",
     "text": [
      "                      (F1-score: 0.0421)\n",
      "\n",
      "                      (NDCG: 0.0655)\n",
      "\n",
      "--------------------\n",
      "[[1, {'F1-score': 0.020696255000910255}, {'NDCG': nan}, 1.6557947397232056], [2, {'F1-score': 0.0026908073907922344}, {'NDCG': nan}, 1.5130956172943115], [3, {'F1-score': 0.00035244360902255637}, {'NDCG': nan}, 1.4251788854599], [4, {'F1-score': 0.0003512840542915731}, {'NDCG': nan}, 1.3017510175704956], [5, {'F1-score': 7.374204742625796e-05}, {'NDCG': nan}, 1.199181079864502], [6, {'F1-score': 3.614806246385194e-05}, {'NDCG': nan}, 1.139860987663269], [7, {'F1-score': 3.480924533556112e-05}, {'NDCG': nan}, 1.0200258493423462], [8, {'F1-score': 3.480924533556112e-05}, {'NDCG': nan}, 0.9639192819595337], [9, {'F1-score': 0.0}, {'NDCG': nan}, 0.8990397453308105], [10, {'F1-score': 0.0}, {'NDCG': nan}, 0.8436604738235474], [11, {'F1-score': 0.0}, {'NDCG': nan}, 0.8076251149177551], [12, {'F1-score': 0.0}, {'NDCG': nan}, 0.7697919011116028], [13, {'F1-score': 5.8740601503759395e-05}, {'NDCG': nan}, 0.753480851650238], [14, {'F1-score': 0.0012219878443341513}, {'NDCG': nan}, 0.7338847517967224], [15, {'F1-score': 0.01062534167203703}, {'NDCG': 0.013129201301030423}, 0.6185950040817261], [16, {'F1-score': 0.019375928851687044}, {'NDCG': 0.03519700076150939}, 0.5403242111206055], [17, {'F1-score': 0.01848253876996446}, {'NDCG': 0.040508479944297245}, 0.4890783727169037], [18, {'F1-score': 0.020716118820674857}, {'NDCG': 0.041985287096463424}, 0.4662051796913147], [19, {'F1-score': 0.027990785761887106}, {'NDCG': 0.048343488129023886}, 0.4512224793434143], [20, {'F1-score': 0.03484081817544356}, {'NDCG': 0.058507005591295604}, 0.441200315952301], [21, {'F1-score': 0.03876663212846724}, {'NDCG': 0.0622019335168897}, 0.4276166260242462], [22, {'F1-score': 0.040837426837299705}, {'NDCG': 0.06454683031844802}, 0.42037180066108704], [23, {'F1-score': 0.04158640489020508}, {'NDCG': 0.06502353020985716}, 0.4233636260032654], [24, {'F1-score': 0.041303558087190245}, {'NDCG': 0.06500057630324946}, 0.41717544198036194], [25, {'F1-score': 0.04178157921777025}, {'NDCG': 0.06565063762744623}, 0.4188614785671234], [26, {'F1-score': 0.041769954678281}, {'NDCG': 0.0652992679716501}, 0.41779473423957825], [27, {'F1-score': 0.041584193678853895}, {'NDCG': 0.06540942633055374}, 0.41860634088516235], [28, {'F1-score': 0.04148225994223965}, {'NDCG': 0.06543476971678604}, 0.4165288507938385], [29, {'F1-score': 0.04168342064463433}, {'NDCG': 0.06576223675812826}, 0.41985461115837097], [30, {'F1-score': 0.04254017440856926}, {'NDCG': 0.06624068631580506}, 0.41571709513664246], [31, {'F1-score': 0.04206764067545528}, {'NDCG': 0.06587583314333308}, 0.3991002142429352], [32, {'F1-score': 0.04239886995089377}, {'NDCG': 0.06640722617135852}, 0.41824036836624146], [33, {'F1-score': 0.042105165755160594}, {'NDCG': 0.06585952443861984}, 0.4176519513130188], [34, {'F1-score': 0.042473682280207925}, {'NDCG': 0.06604485194850013}, 0.41393372416496277], [35, {'F1-score': 0.04229444034952263}, {'NDCG': 0.06607921188872279}, 0.41975560784339905], [36, {'F1-score': 0.04220153481134125}, {'NDCG': 0.06577430155016202}, 0.4132940173149109], [37, {'F1-score': 0.04263145642555783}, {'NDCG': 0.06609288727010328}, 0.4160638153553009], [38, {'F1-score': 0.04254532003846028}, {'NDCG': 0.06597359442411173}, 0.41647404432296753], [39, {'F1-score': 0.042241418832650895}, {'NDCG': 0.06588967637985217}, 0.41528692841529846], [40, {'F1-score': 0.04192055084527674}, {'NDCG': 0.06563688721507788}, 0.4217990040779114], [41, {'F1-score': 0.0420847906422249}, {'NDCG': 0.0653576915383451}, 0.41068458557128906], [42, {'F1-score': 0.0419153232658521}, {'NDCG': 0.06547804399659592}, 0.416829913854599], [43, {'F1-score': 0.041997712096155146}, {'NDCG': 0.06555517241043649}, 0.41442805528640747], [44, {'F1-score': 0.042561440326250304}, {'NDCG': 0.06594007533337724}, 0.4165075719356537], [45, {'F1-score': 0.042352343637086176}, {'NDCG': 0.06576762380624625}, 0.41433143615722656], [46, {'F1-score': 0.0427873633725787}, {'NDCG': 0.0657207731532171}, 0.41638821363449097], [47, {'F1-score': 0.04210137687445512}, {'NDCG': 0.06547164258414082}, 0.41189268231391907]]\n",
      "-----------------------------------------------------------------------------------------\n"
     ]
    },
    {
     "name": "stderr",
     "output_type": "stream",
     "text": [
      "  0%|          | 2/932 [00:00<01:34,  9.84it/s]"
     ]
    },
    {
     "name": "stdout",
     "output_type": "stream",
     "text": [
      "Epoch 48: 0% , Loss: 0.186741\n"
     ]
    },
    {
     "name": "stderr",
     "output_type": "stream",
     "text": [
      " 11%|█         | 102/932 [00:11<01:35,  8.68it/s]"
     ]
    },
    {
     "name": "stdout",
     "output_type": "stream",
     "text": [
      "Epoch 48: 11% , Loss: 0.259887\n"
     ]
    },
    {
     "name": "stderr",
     "output_type": "stream",
     "text": [
      " 22%|██▏       | 202/932 [00:23<01:29,  8.17it/s]"
     ]
    },
    {
     "name": "stdout",
     "output_type": "stream",
     "text": [
      "Epoch 48: 21% , Loss: 0.081702\n"
     ]
    },
    {
     "name": "stderr",
     "output_type": "stream",
     "text": [
      " 32%|███▏      | 302/932 [00:35<01:18,  7.98it/s]"
     ]
    },
    {
     "name": "stdout",
     "output_type": "stream",
     "text": [
      "Epoch 48: 32% , Loss: 0.113490\n"
     ]
    },
    {
     "name": "stderr",
     "output_type": "stream",
     "text": [
      " 43%|████▎     | 402/932 [00:49<01:14,  7.13it/s]"
     ]
    },
    {
     "name": "stdout",
     "output_type": "stream",
     "text": [
      "Epoch 48: 43% , Loss: 0.366623\n"
     ]
    },
    {
     "name": "stderr",
     "output_type": "stream",
     "text": [
      " 54%|█████▍    | 502/932 [01:03<01:03,  6.74it/s]"
     ]
    },
    {
     "name": "stdout",
     "output_type": "stream",
     "text": [
      "Epoch 48: 54% , Loss: 0.283389\n"
     ]
    },
    {
     "name": "stderr",
     "output_type": "stream",
     "text": [
      " 65%|██████▍   | 602/932 [01:17<00:48,  6.87it/s]"
     ]
    },
    {
     "name": "stdout",
     "output_type": "stream",
     "text": [
      "Epoch 48: 64% , Loss: 1.697154\n"
     ]
    },
    {
     "name": "stderr",
     "output_type": "stream",
     "text": [
      " 75%|███████▌  | 701/932 [01:33<00:36,  6.41it/s]"
     ]
    },
    {
     "name": "stdout",
     "output_type": "stream",
     "text": [
      "Epoch 48: 75% , Loss: 1.198148\n"
     ]
    },
    {
     "name": "stderr",
     "output_type": "stream",
     "text": [
      " 86%|████████▌ | 802/932 [01:49<00:19,  6.66it/s]"
     ]
    },
    {
     "name": "stdout",
     "output_type": "stream",
     "text": [
      "Epoch 48: 86% , Loss: 0.575974\n"
     ]
    },
    {
     "name": "stderr",
     "output_type": "stream",
     "text": [
      " 97%|█████████▋| 901/932 [02:05<00:05,  5.78it/s]"
     ]
    },
    {
     "name": "stdout",
     "output_type": "stream",
     "text": [
      "Epoch 48: 97% , Loss: 0.172106\n"
     ]
    },
    {
     "name": "stderr",
     "output_type": "stream",
     "text": [
      "100%|██████████| 932/932 [02:10<00:00,  7.14it/s]"
     ]
    },
    {
     "name": "stdout",
     "output_type": "stream",
     "text": [
      "Epoch 48: 100% , Loss: 0.968315\n"
     ]
    },
    {
     "name": "stderr",
     "output_type": "stream",
     "text": [
      "\n"
     ]
    },
    {
     "name": "stdout",
     "output_type": "stream",
     "text": [
      "                      (F1-score: 0.0444)\n",
      "\n",
      "                      (NDCG: 0.0709)\n",
      "\n",
      "train_loss= tensor(0.4624)\n",
      "--------------------\n"
     ]
    },
    {
     "name": "stderr",
     "output_type": "stream",
     "text": [
      "100%|██████████| 133/133 [00:09<00:00, 13.78it/s]\n"
     ]
    },
    {
     "name": "stdout",
     "output_type": "stream",
     "text": [
      "                      (F1-score: 0.0438)\n",
      "\n",
      "                      (NDCG: 0.0699)\n",
      "\n",
      "val_loss= tensor(0.4094)\n",
      "--------------------\n"
     ]
    },
    {
     "name": "stderr",
     "output_type": "stream",
     "text": [
      "100%|██████████| 266/266 [00:20<00:00, 12.73it/s]\n"
     ]
    },
    {
     "name": "stdout",
     "output_type": "stream",
     "text": [
      "                      (F1-score: 0.0424)\n",
      "\n",
      "                      (NDCG: 0.0658)\n",
      "\n",
      "--------------------\n",
      "[[1, {'F1-score': 0.020696255000910255}, {'NDCG': nan}, 1.6557947397232056], [2, {'F1-score': 0.0026908073907922344}, {'NDCG': nan}, 1.5130956172943115], [3, {'F1-score': 0.00035244360902255637}, {'NDCG': nan}, 1.4251788854599], [4, {'F1-score': 0.0003512840542915731}, {'NDCG': nan}, 1.3017510175704956], [5, {'F1-score': 7.374204742625796e-05}, {'NDCG': nan}, 1.199181079864502], [6, {'F1-score': 3.614806246385194e-05}, {'NDCG': nan}, 1.139860987663269], [7, {'F1-score': 3.480924533556112e-05}, {'NDCG': nan}, 1.0200258493423462], [8, {'F1-score': 3.480924533556112e-05}, {'NDCG': nan}, 0.9639192819595337], [9, {'F1-score': 0.0}, {'NDCG': nan}, 0.8990397453308105], [10, {'F1-score': 0.0}, {'NDCG': nan}, 0.8436604738235474], [11, {'F1-score': 0.0}, {'NDCG': nan}, 0.8076251149177551], [12, {'F1-score': 0.0}, {'NDCG': nan}, 0.7697919011116028], [13, {'F1-score': 5.8740601503759395e-05}, {'NDCG': nan}, 0.753480851650238], [14, {'F1-score': 0.0012219878443341513}, {'NDCG': nan}, 0.7338847517967224], [15, {'F1-score': 0.01062534167203703}, {'NDCG': 0.013129201301030423}, 0.6185950040817261], [16, {'F1-score': 0.019375928851687044}, {'NDCG': 0.03519700076150939}, 0.5403242111206055], [17, {'F1-score': 0.01848253876996446}, {'NDCG': 0.040508479944297245}, 0.4890783727169037], [18, {'F1-score': 0.020716118820674857}, {'NDCG': 0.041985287096463424}, 0.4662051796913147], [19, {'F1-score': 0.027990785761887106}, {'NDCG': 0.048343488129023886}, 0.4512224793434143], [20, {'F1-score': 0.03484081817544356}, {'NDCG': 0.058507005591295604}, 0.441200315952301], [21, {'F1-score': 0.03876663212846724}, {'NDCG': 0.0622019335168897}, 0.4276166260242462], [22, {'F1-score': 0.040837426837299705}, {'NDCG': 0.06454683031844802}, 0.42037180066108704], [23, {'F1-score': 0.04158640489020508}, {'NDCG': 0.06502353020985716}, 0.4233636260032654], [24, {'F1-score': 0.041303558087190245}, {'NDCG': 0.06500057630324946}, 0.41717544198036194], [25, {'F1-score': 0.04178157921777025}, {'NDCG': 0.06565063762744623}, 0.4188614785671234], [26, {'F1-score': 0.041769954678281}, {'NDCG': 0.0652992679716501}, 0.41779473423957825], [27, {'F1-score': 0.041584193678853895}, {'NDCG': 0.06540942633055374}, 0.41860634088516235], [28, {'F1-score': 0.04148225994223965}, {'NDCG': 0.06543476971678604}, 0.4165288507938385], [29, {'F1-score': 0.04168342064463433}, {'NDCG': 0.06576223675812826}, 0.41985461115837097], [30, {'F1-score': 0.04254017440856926}, {'NDCG': 0.06624068631580506}, 0.41571709513664246], [31, {'F1-score': 0.04206764067545528}, {'NDCG': 0.06587583314333308}, 0.3991002142429352], [32, {'F1-score': 0.04239886995089377}, {'NDCG': 0.06640722617135852}, 0.41824036836624146], [33, {'F1-score': 0.042105165755160594}, {'NDCG': 0.06585952443861984}, 0.4176519513130188], [34, {'F1-score': 0.042473682280207925}, {'NDCG': 0.06604485194850013}, 0.41393372416496277], [35, {'F1-score': 0.04229444034952263}, {'NDCG': 0.06607921188872279}, 0.41975560784339905], [36, {'F1-score': 0.04220153481134125}, {'NDCG': 0.06577430155016202}, 0.4132940173149109], [37, {'F1-score': 0.04263145642555783}, {'NDCG': 0.06609288727010328}, 0.4160638153553009], [38, {'F1-score': 0.04254532003846028}, {'NDCG': 0.06597359442411173}, 0.41647404432296753], [39, {'F1-score': 0.042241418832650895}, {'NDCG': 0.06588967637985217}, 0.41528692841529846], [40, {'F1-score': 0.04192055084527674}, {'NDCG': 0.06563688721507788}, 0.4217990040779114], [41, {'F1-score': 0.0420847906422249}, {'NDCG': 0.0653576915383451}, 0.41068458557128906], [42, {'F1-score': 0.0419153232658521}, {'NDCG': 0.06547804399659592}, 0.416829913854599], [43, {'F1-score': 0.041997712096155146}, {'NDCG': 0.06555517241043649}, 0.41442805528640747], [44, {'F1-score': 0.042561440326250304}, {'NDCG': 0.06594007533337724}, 0.4165075719356537], [45, {'F1-score': 0.042352343637086176}, {'NDCG': 0.06576762380624625}, 0.41433143615722656], [46, {'F1-score': 0.0427873633725787}, {'NDCG': 0.0657207731532171}, 0.41638821363449097], [47, {'F1-score': 0.04210137687445512}, {'NDCG': 0.06547164258414082}, 0.41189268231391907], [48, {'F1-score': 0.042442560149952104}, {'NDCG': 0.06583277048206979}, 0.4093705713748932]]\n",
      "-----------------------------------------------------------------------------------------\n"
     ]
    },
    {
     "name": "stderr",
     "output_type": "stream",
     "text": [
      "\r",
      "  0%|          | 0/932 [00:00<?, ?it/s]"
     ]
    },
    {
     "name": "stdout",
     "output_type": "stream",
     "text": [
      "Epoch 49: 0% , Loss: 0.357038"
     ]
    },
    {
     "name": "stderr",
     "output_type": "stream",
     "text": [
      "  0%|          | 2/932 [00:00<01:45,  8.84it/s]"
     ]
    },
    {
     "name": "stdout",
     "output_type": "stream",
     "text": [
      "\n"
     ]
    },
    {
     "name": "stderr",
     "output_type": "stream",
     "text": [
      " 11%|█         | 102/932 [00:11<01:41,  8.16it/s]"
     ]
    },
    {
     "name": "stdout",
     "output_type": "stream",
     "text": [
      "Epoch 49: 11% , Loss: 0.306210\n"
     ]
    },
    {
     "name": "stderr",
     "output_type": "stream",
     "text": [
      " 22%|██▏       | 202/932 [00:23<01:28,  8.24it/s]"
     ]
    },
    {
     "name": "stdout",
     "output_type": "stream",
     "text": [
      "Epoch 49: 21% , Loss: 0.256663\n"
     ]
    },
    {
     "name": "stderr",
     "output_type": "stream",
     "text": [
      " 32%|███▏      | 302/932 [00:35<01:18,  7.98it/s]"
     ]
    },
    {
     "name": "stdout",
     "output_type": "stream",
     "text": [
      "Epoch 49: 32% , Loss: 0.209985\n"
     ]
    },
    {
     "name": "stderr",
     "output_type": "stream",
     "text": [
      " 43%|████▎     | 402/932 [00:48<01:09,  7.59it/s]"
     ]
    },
    {
     "name": "stdout",
     "output_type": "stream",
     "text": [
      "Epoch 49: 43% , Loss: 0.167788\n"
     ]
    },
    {
     "name": "stderr",
     "output_type": "stream",
     "text": [
      " 54%|█████▍    | 502/932 [01:02<00:58,  7.30it/s]"
     ]
    },
    {
     "name": "stdout",
     "output_type": "stream",
     "text": [
      "Epoch 49: 54% , Loss: 0.669730\n"
     ]
    },
    {
     "name": "stderr",
     "output_type": "stream",
     "text": [
      " 65%|██████▍   | 602/932 [01:17<00:48,  6.87it/s]"
     ]
    },
    {
     "name": "stdout",
     "output_type": "stream",
     "text": [
      "Epoch 49: 64% , Loss: 0.351542\n"
     ]
    },
    {
     "name": "stderr",
     "output_type": "stream",
     "text": [
      " 75%|███████▌  | 702/932 [01:32<00:35,  6.56it/s]"
     ]
    },
    {
     "name": "stdout",
     "output_type": "stream",
     "text": [
      "Epoch 49: 75% , Loss: 0.123470\n"
     ]
    },
    {
     "name": "stderr",
     "output_type": "stream",
     "text": [
      " 86%|████████▌ | 801/932 [01:48<00:21,  6.19it/s]"
     ]
    },
    {
     "name": "stdout",
     "output_type": "stream",
     "text": [
      "Epoch 49: 86% , Loss: 0.785335\n"
     ]
    },
    {
     "name": "stderr",
     "output_type": "stream",
     "text": [
      " 97%|█████████▋| 901/932 [02:05<00:05,  6.11it/s]"
     ]
    },
    {
     "name": "stdout",
     "output_type": "stream",
     "text": [
      "Epoch 49: 97% , Loss: 0.272256\n"
     ]
    },
    {
     "name": "stderr",
     "output_type": "stream",
     "text": [
      "100%|██████████| 932/932 [02:10<00:00,  7.15it/s]"
     ]
    },
    {
     "name": "stdout",
     "output_type": "stream",
     "text": [
      "Epoch 49: 100% , Loss: 0.713289\n"
     ]
    },
    {
     "name": "stderr",
     "output_type": "stream",
     "text": [
      "\n"
     ]
    },
    {
     "name": "stdout",
     "output_type": "stream",
     "text": [
      "                      (F1-score: 0.0439)\n",
      "\n",
      "                      (NDCG: 0.0702)\n",
      "\n",
      "train_loss= tensor(0.4665)\n",
      "--------------------\n"
     ]
    },
    {
     "name": "stderr",
     "output_type": "stream",
     "text": [
      "100%|██████████| 133/133 [00:09<00:00, 13.73it/s]\n"
     ]
    },
    {
     "name": "stdout",
     "output_type": "stream",
     "text": [
      "                      (F1-score: 0.0437)\n",
      "\n",
      "                      (NDCG: 0.0704)\n",
      "\n",
      "val_loss= tensor(0.4067)\n",
      "--------------------\n"
     ]
    },
    {
     "name": "stderr",
     "output_type": "stream",
     "text": [
      "100%|██████████| 266/266 [00:20<00:00, 12.71it/s]\n"
     ]
    },
    {
     "name": "stdout",
     "output_type": "stream",
     "text": [
      "                      (F1-score: 0.0430)\n",
      "\n",
      "                      (NDCG: 0.0663)\n",
      "\n",
      "--------------------\n",
      "[[1, {'F1-score': 0.020696255000910255}, {'NDCG': nan}, 1.6557947397232056], [2, {'F1-score': 0.0026908073907922344}, {'NDCG': nan}, 1.5130956172943115], [3, {'F1-score': 0.00035244360902255637}, {'NDCG': nan}, 1.4251788854599], [4, {'F1-score': 0.0003512840542915731}, {'NDCG': nan}, 1.3017510175704956], [5, {'F1-score': 7.374204742625796e-05}, {'NDCG': nan}, 1.199181079864502], [6, {'F1-score': 3.614806246385194e-05}, {'NDCG': nan}, 1.139860987663269], [7, {'F1-score': 3.480924533556112e-05}, {'NDCG': nan}, 1.0200258493423462], [8, {'F1-score': 3.480924533556112e-05}, {'NDCG': nan}, 0.9639192819595337], [9, {'F1-score': 0.0}, {'NDCG': nan}, 0.8990397453308105], [10, {'F1-score': 0.0}, {'NDCG': nan}, 0.8436604738235474], [11, {'F1-score': 0.0}, {'NDCG': nan}, 0.8076251149177551], [12, {'F1-score': 0.0}, {'NDCG': nan}, 0.7697919011116028], [13, {'F1-score': 5.8740601503759395e-05}, {'NDCG': nan}, 0.753480851650238], [14, {'F1-score': 0.0012219878443341513}, {'NDCG': nan}, 0.7338847517967224], [15, {'F1-score': 0.01062534167203703}, {'NDCG': 0.013129201301030423}, 0.6185950040817261], [16, {'F1-score': 0.019375928851687044}, {'NDCG': 0.03519700076150939}, 0.5403242111206055], [17, {'F1-score': 0.01848253876996446}, {'NDCG': 0.040508479944297245}, 0.4890783727169037], [18, {'F1-score': 0.020716118820674857}, {'NDCG': 0.041985287096463424}, 0.4662051796913147], [19, {'F1-score': 0.027990785761887106}, {'NDCG': 0.048343488129023886}, 0.4512224793434143], [20, {'F1-score': 0.03484081817544356}, {'NDCG': 0.058507005591295604}, 0.441200315952301], [21, {'F1-score': 0.03876663212846724}, {'NDCG': 0.0622019335168897}, 0.4276166260242462], [22, {'F1-score': 0.040837426837299705}, {'NDCG': 0.06454683031844802}, 0.42037180066108704], [23, {'F1-score': 0.04158640489020508}, {'NDCG': 0.06502353020985716}, 0.4233636260032654], [24, {'F1-score': 0.041303558087190245}, {'NDCG': 0.06500057630324946}, 0.41717544198036194], [25, {'F1-score': 0.04178157921777025}, {'NDCG': 0.06565063762744623}, 0.4188614785671234], [26, {'F1-score': 0.041769954678281}, {'NDCG': 0.0652992679716501}, 0.41779473423957825], [27, {'F1-score': 0.041584193678853895}, {'NDCG': 0.06540942633055374}, 0.41860634088516235], [28, {'F1-score': 0.04148225994223965}, {'NDCG': 0.06543476971678604}, 0.4165288507938385], [29, {'F1-score': 0.04168342064463433}, {'NDCG': 0.06576223675812826}, 0.41985461115837097], [30, {'F1-score': 0.04254017440856926}, {'NDCG': 0.06624068631580506}, 0.41571709513664246], [31, {'F1-score': 0.04206764067545528}, {'NDCG': 0.06587583314333308}, 0.3991002142429352], [32, {'F1-score': 0.04239886995089377}, {'NDCG': 0.06640722617135852}, 0.41824036836624146], [33, {'F1-score': 0.042105165755160594}, {'NDCG': 0.06585952443861984}, 0.4176519513130188], [34, {'F1-score': 0.042473682280207925}, {'NDCG': 0.06604485194850013}, 0.41393372416496277], [35, {'F1-score': 0.04229444034952263}, {'NDCG': 0.06607921188872279}, 0.41975560784339905], [36, {'F1-score': 0.04220153481134125}, {'NDCG': 0.06577430155016202}, 0.4132940173149109], [37, {'F1-score': 0.04263145642555783}, {'NDCG': 0.06609288727010328}, 0.4160638153553009], [38, {'F1-score': 0.04254532003846028}, {'NDCG': 0.06597359442411173}, 0.41647404432296753], [39, {'F1-score': 0.042241418832650895}, {'NDCG': 0.06588967637985217}, 0.41528692841529846], [40, {'F1-score': 0.04192055084527674}, {'NDCG': 0.06563688721507788}, 0.4217990040779114], [41, {'F1-score': 0.0420847906422249}, {'NDCG': 0.0653576915383451}, 0.41068458557128906], [42, {'F1-score': 0.0419153232658521}, {'NDCG': 0.06547804399659592}, 0.416829913854599], [43, {'F1-score': 0.041997712096155146}, {'NDCG': 0.06555517241043649}, 0.41442805528640747], [44, {'F1-score': 0.042561440326250304}, {'NDCG': 0.06594007533337724}, 0.4165075719356537], [45, {'F1-score': 0.042352343637086176}, {'NDCG': 0.06576762380624625}, 0.41433143615722656], [46, {'F1-score': 0.0427873633725787}, {'NDCG': 0.0657207731532171}, 0.41638821363449097], [47, {'F1-score': 0.04210137687445512}, {'NDCG': 0.06547164258414082}, 0.41189268231391907], [48, {'F1-score': 0.042442560149952104}, {'NDCG': 0.06583277048206979}, 0.4093705713748932], [49, {'F1-score': 0.04301880979779657}, {'NDCG': 0.0662503254414305}, 0.4067290723323822]]\n",
      "-----------------------------------------------------------------------------------------\n"
     ]
    },
    {
     "name": "stderr",
     "output_type": "stream",
     "text": [
      "  0%|          | 2/932 [00:00<02:33,  6.06it/s]"
     ]
    },
    {
     "name": "stdout",
     "output_type": "stream",
     "text": [
      "Epoch 50: 0% , Loss: 0.135422\n"
     ]
    },
    {
     "name": "stderr",
     "output_type": "stream",
     "text": [
      " 11%|█         | 102/932 [00:11<01:36,  8.59it/s]"
     ]
    },
    {
     "name": "stdout",
     "output_type": "stream",
     "text": [
      "Epoch 50: 11% , Loss: 0.209549\n"
     ]
    },
    {
     "name": "stderr",
     "output_type": "stream",
     "text": [
      " 22%|██▏       | 202/932 [00:23<01:28,  8.21it/s]"
     ]
    },
    {
     "name": "stdout",
     "output_type": "stream",
     "text": [
      "Epoch 50: 21% , Loss: 0.793706\n"
     ]
    },
    {
     "name": "stderr",
     "output_type": "stream",
     "text": [
      " 32%|███▏      | 302/932 [00:35<01:21,  7.70it/s]"
     ]
    },
    {
     "name": "stdout",
     "output_type": "stream",
     "text": [
      "Epoch 50: 32% , Loss: 0.403663\n"
     ]
    },
    {
     "name": "stderr",
     "output_type": "stream",
     "text": [
      " 43%|████▎     | 402/932 [00:48<01:12,  7.36it/s]"
     ]
    },
    {
     "name": "stdout",
     "output_type": "stream",
     "text": [
      "Epoch 50: 43% , Loss: 2.357695\n"
     ]
    },
    {
     "name": "stderr",
     "output_type": "stream",
     "text": [
      " 54%|█████▍    | 502/932 [01:02<01:01,  7.02it/s]"
     ]
    },
    {
     "name": "stdout",
     "output_type": "stream",
     "text": [
      "Epoch 50: 54% , Loss: 0.426603\n"
     ]
    },
    {
     "name": "stderr",
     "output_type": "stream",
     "text": [
      " 64%|██████▍   | 601/932 [01:16<00:47,  6.99it/s]"
     ]
    },
    {
     "name": "stdout",
     "output_type": "stream",
     "text": [
      "Epoch 50: 64% , Loss: 0.084520\n"
     ]
    },
    {
     "name": "stderr",
     "output_type": "stream",
     "text": [
      " 75%|███████▌  | 702/932 [01:32<00:34,  6.68it/s]"
     ]
    },
    {
     "name": "stdout",
     "output_type": "stream",
     "text": [
      "Epoch 50: 75% , Loss: 0.172244\n"
     ]
    },
    {
     "name": "stderr",
     "output_type": "stream",
     "text": [
      " 86%|████████▌ | 802/932 [01:48<00:23,  5.59it/s]"
     ]
    },
    {
     "name": "stdout",
     "output_type": "stream",
     "text": [
      "Epoch 50: 86% , Loss: 0.171558\n"
     ]
    },
    {
     "name": "stderr",
     "output_type": "stream",
     "text": [
      " 97%|█████████▋| 901/932 [02:04<00:05,  6.08it/s]"
     ]
    },
    {
     "name": "stdout",
     "output_type": "stream",
     "text": [
      "Epoch 50: 97% , Loss: 0.680772\n"
     ]
    },
    {
     "name": "stderr",
     "output_type": "stream",
     "text": [
      "100%|██████████| 932/932 [02:10<00:00,  7.15it/s]"
     ]
    },
    {
     "name": "stdout",
     "output_type": "stream",
     "text": [
      "Epoch 50: 100% , Loss: 2.629376\n"
     ]
    },
    {
     "name": "stderr",
     "output_type": "stream",
     "text": [
      "\n"
     ]
    },
    {
     "name": "stdout",
     "output_type": "stream",
     "text": [
      "                      (F1-score: 0.0439)\n",
      "\n",
      "                      (NDCG: 0.0709)\n",
      "\n",
      "train_loss= tensor(0.4704)\n",
      "--------------------\n"
     ]
    },
    {
     "name": "stderr",
     "output_type": "stream",
     "text": [
      "100%|██████████| 133/133 [00:09<00:00, 13.73it/s]\n"
     ]
    },
    {
     "name": "stdout",
     "output_type": "stream",
     "text": [
      "                      (F1-score: 0.0438)\n",
      "\n",
      "                      (NDCG: 0.0701)\n",
      "\n",
      "val_loss= tensor(0.4101)\n",
      "--------------------\n"
     ]
    },
    {
     "name": "stderr",
     "output_type": "stream",
     "text": [
      "100%|██████████| 266/266 [00:20<00:00, 12.69it/s]\n"
     ]
    },
    {
     "name": "stdout",
     "output_type": "stream",
     "text": [
      "                      (F1-score: 0.0414)\n",
      "\n",
      "                      (NDCG: 0.0650)\n",
      "\n",
      "--------------------\n",
      "[[1, {'F1-score': 0.020696255000910255}, {'NDCG': nan}, 1.6557947397232056], [2, {'F1-score': 0.0026908073907922344}, {'NDCG': nan}, 1.5130956172943115], [3, {'F1-score': 0.00035244360902255637}, {'NDCG': nan}, 1.4251788854599], [4, {'F1-score': 0.0003512840542915731}, {'NDCG': nan}, 1.3017510175704956], [5, {'F1-score': 7.374204742625796e-05}, {'NDCG': nan}, 1.199181079864502], [6, {'F1-score': 3.614806246385194e-05}, {'NDCG': nan}, 1.139860987663269], [7, {'F1-score': 3.480924533556112e-05}, {'NDCG': nan}, 1.0200258493423462], [8, {'F1-score': 3.480924533556112e-05}, {'NDCG': nan}, 0.9639192819595337], [9, {'F1-score': 0.0}, {'NDCG': nan}, 0.8990397453308105], [10, {'F1-score': 0.0}, {'NDCG': nan}, 0.8436604738235474], [11, {'F1-score': 0.0}, {'NDCG': nan}, 0.8076251149177551], [12, {'F1-score': 0.0}, {'NDCG': nan}, 0.7697919011116028], [13, {'F1-score': 5.8740601503759395e-05}, {'NDCG': nan}, 0.753480851650238], [14, {'F1-score': 0.0012219878443341513}, {'NDCG': nan}, 0.7338847517967224], [15, {'F1-score': 0.01062534167203703}, {'NDCG': 0.013129201301030423}, 0.6185950040817261], [16, {'F1-score': 0.019375928851687044}, {'NDCG': 0.03519700076150939}, 0.5403242111206055], [17, {'F1-score': 0.01848253876996446}, {'NDCG': 0.040508479944297245}, 0.4890783727169037], [18, {'F1-score': 0.020716118820674857}, {'NDCG': 0.041985287096463424}, 0.4662051796913147], [19, {'F1-score': 0.027990785761887106}, {'NDCG': 0.048343488129023886}, 0.4512224793434143], [20, {'F1-score': 0.03484081817544356}, {'NDCG': 0.058507005591295604}, 0.441200315952301], [21, {'F1-score': 0.03876663212846724}, {'NDCG': 0.0622019335168897}, 0.4276166260242462], [22, {'F1-score': 0.040837426837299705}, {'NDCG': 0.06454683031844802}, 0.42037180066108704], [23, {'F1-score': 0.04158640489020508}, {'NDCG': 0.06502353020985716}, 0.4233636260032654], [24, {'F1-score': 0.041303558087190245}, {'NDCG': 0.06500057630324946}, 0.41717544198036194], [25, {'F1-score': 0.04178157921777025}, {'NDCG': 0.06565063762744623}, 0.4188614785671234], [26, {'F1-score': 0.041769954678281}, {'NDCG': 0.0652992679716501}, 0.41779473423957825], [27, {'F1-score': 0.041584193678853895}, {'NDCG': 0.06540942633055374}, 0.41860634088516235], [28, {'F1-score': 0.04148225994223965}, {'NDCG': 0.06543476971678604}, 0.4165288507938385], [29, {'F1-score': 0.04168342064463433}, {'NDCG': 0.06576223675812826}, 0.41985461115837097], [30, {'F1-score': 0.04254017440856926}, {'NDCG': 0.06624068631580506}, 0.41571709513664246], [31, {'F1-score': 0.04206764067545528}, {'NDCG': 0.06587583314333308}, 0.3991002142429352], [32, {'F1-score': 0.04239886995089377}, {'NDCG': 0.06640722617135852}, 0.41824036836624146], [33, {'F1-score': 0.042105165755160594}, {'NDCG': 0.06585952443861984}, 0.4176519513130188], [34, {'F1-score': 0.042473682280207925}, {'NDCG': 0.06604485194850013}, 0.41393372416496277], [35, {'F1-score': 0.04229444034952263}, {'NDCG': 0.06607921188872279}, 0.41975560784339905], [36, {'F1-score': 0.04220153481134125}, {'NDCG': 0.06577430155016202}, 0.4132940173149109], [37, {'F1-score': 0.04263145642555783}, {'NDCG': 0.06609288727010328}, 0.4160638153553009], [38, {'F1-score': 0.04254532003846028}, {'NDCG': 0.06597359442411173}, 0.41647404432296753], [39, {'F1-score': 0.042241418832650895}, {'NDCG': 0.06588967637985217}, 0.41528692841529846], [40, {'F1-score': 0.04192055084527674}, {'NDCG': 0.06563688721507788}, 0.4217990040779114], [41, {'F1-score': 0.0420847906422249}, {'NDCG': 0.0653576915383451}, 0.41068458557128906], [42, {'F1-score': 0.0419153232658521}, {'NDCG': 0.06547804399659592}, 0.416829913854599], [43, {'F1-score': 0.041997712096155146}, {'NDCG': 0.06555517241043649}, 0.41442805528640747], [44, {'F1-score': 0.042561440326250304}, {'NDCG': 0.06594007533337724}, 0.4165075719356537], [45, {'F1-score': 0.042352343637086176}, {'NDCG': 0.06576762380624625}, 0.41433143615722656], [46, {'F1-score': 0.0427873633725787}, {'NDCG': 0.0657207731532171}, 0.41638821363449097], [47, {'F1-score': 0.04210137687445512}, {'NDCG': 0.06547164258414082}, 0.41189268231391907], [48, {'F1-score': 0.042442560149952104}, {'NDCG': 0.06583277048206979}, 0.4093705713748932], [49, {'F1-score': 0.04301880979779657}, {'NDCG': 0.0662503254414305}, 0.4067290723323822], [50, {'F1-score': 0.041413638615422424}, {'NDCG': 0.0650351669243712}, 0.4100801646709442]]\n",
      "-----------------------------------------------------------------------------------------\n"
     ]
    },
    {
     "data": {
      "text/html": [
       "<div>\n",
       "<style scoped>\n",
       "    .dataframe tbody tr th:only-of-type {\n",
       "        vertical-align: middle;\n",
       "    }\n",
       "\n",
       "    .dataframe tbody tr th {\n",
       "        vertical-align: top;\n",
       "    }\n",
       "\n",
       "    .dataframe thead th {\n",
       "        text-align: right;\n",
       "    }\n",
       "</style>\n",
       "<table border=\"1\" class=\"dataframe\">\n",
       "  <thead>\n",
       "    <tr style=\"text-align: right;\">\n",
       "      <th></th>\n",
       "      <th>Epoch</th>\n",
       "      <th>F1-score</th>\n",
       "      <th>NDCG</th>\n",
       "      <th>val_loss</th>\n",
       "    </tr>\n",
       "  </thead>\n",
       "  <tbody>\n",
       "    <tr>\n",
       "      <th>0</th>\n",
       "      <td>1</td>\n",
       "      <td>{'F1-score': 0.020696255000910255}</td>\n",
       "      <td>{'NDCG': nan}</td>\n",
       "      <td>1.655795</td>\n",
       "    </tr>\n",
       "    <tr>\n",
       "      <th>1</th>\n",
       "      <td>2</td>\n",
       "      <td>{'F1-score': 0.0026908073907922344}</td>\n",
       "      <td>{'NDCG': nan}</td>\n",
       "      <td>1.513096</td>\n",
       "    </tr>\n",
       "    <tr>\n",
       "      <th>2</th>\n",
       "      <td>3</td>\n",
       "      <td>{'F1-score': 0.00035244360902255637}</td>\n",
       "      <td>{'NDCG': nan}</td>\n",
       "      <td>1.425179</td>\n",
       "    </tr>\n",
       "    <tr>\n",
       "      <th>3</th>\n",
       "      <td>4</td>\n",
       "      <td>{'F1-score': 0.0003512840542915731}</td>\n",
       "      <td>{'NDCG': nan}</td>\n",
       "      <td>1.301751</td>\n",
       "    </tr>\n",
       "    <tr>\n",
       "      <th>4</th>\n",
       "      <td>5</td>\n",
       "      <td>{'F1-score': 7.374204742625796e-05}</td>\n",
       "      <td>{'NDCG': nan}</td>\n",
       "      <td>1.199181</td>\n",
       "    </tr>\n",
       "    <tr>\n",
       "      <th>5</th>\n",
       "      <td>6</td>\n",
       "      <td>{'F1-score': 3.614806246385194e-05}</td>\n",
       "      <td>{'NDCG': nan}</td>\n",
       "      <td>1.139861</td>\n",
       "    </tr>\n",
       "    <tr>\n",
       "      <th>6</th>\n",
       "      <td>7</td>\n",
       "      <td>{'F1-score': 3.480924533556112e-05}</td>\n",
       "      <td>{'NDCG': nan}</td>\n",
       "      <td>1.020026</td>\n",
       "    </tr>\n",
       "    <tr>\n",
       "      <th>7</th>\n",
       "      <td>8</td>\n",
       "      <td>{'F1-score': 3.480924533556112e-05}</td>\n",
       "      <td>{'NDCG': nan}</td>\n",
       "      <td>0.963919</td>\n",
       "    </tr>\n",
       "    <tr>\n",
       "      <th>8</th>\n",
       "      <td>9</td>\n",
       "      <td>{'F1-score': 0.0}</td>\n",
       "      <td>{'NDCG': nan}</td>\n",
       "      <td>0.899040</td>\n",
       "    </tr>\n",
       "    <tr>\n",
       "      <th>9</th>\n",
       "      <td>10</td>\n",
       "      <td>{'F1-score': 0.0}</td>\n",
       "      <td>{'NDCG': nan}</td>\n",
       "      <td>0.843660</td>\n",
       "    </tr>\n",
       "    <tr>\n",
       "      <th>10</th>\n",
       "      <td>11</td>\n",
       "      <td>{'F1-score': 0.0}</td>\n",
       "      <td>{'NDCG': nan}</td>\n",
       "      <td>0.807625</td>\n",
       "    </tr>\n",
       "    <tr>\n",
       "      <th>11</th>\n",
       "      <td>12</td>\n",
       "      <td>{'F1-score': 0.0}</td>\n",
       "      <td>{'NDCG': nan}</td>\n",
       "      <td>0.769792</td>\n",
       "    </tr>\n",
       "    <tr>\n",
       "      <th>12</th>\n",
       "      <td>13</td>\n",
       "      <td>{'F1-score': 5.8740601503759395e-05}</td>\n",
       "      <td>{'NDCG': nan}</td>\n",
       "      <td>0.753481</td>\n",
       "    </tr>\n",
       "    <tr>\n",
       "      <th>13</th>\n",
       "      <td>14</td>\n",
       "      <td>{'F1-score': 0.0012219878443341513}</td>\n",
       "      <td>{'NDCG': nan}</td>\n",
       "      <td>0.733885</td>\n",
       "    </tr>\n",
       "    <tr>\n",
       "      <th>14</th>\n",
       "      <td>15</td>\n",
       "      <td>{'F1-score': 0.01062534167203703}</td>\n",
       "      <td>{'NDCG': 0.013129201301030423}</td>\n",
       "      <td>0.618595</td>\n",
       "    </tr>\n",
       "    <tr>\n",
       "      <th>15</th>\n",
       "      <td>16</td>\n",
       "      <td>{'F1-score': 0.019375928851687044}</td>\n",
       "      <td>{'NDCG': 0.03519700076150939}</td>\n",
       "      <td>0.540324</td>\n",
       "    </tr>\n",
       "    <tr>\n",
       "      <th>16</th>\n",
       "      <td>17</td>\n",
       "      <td>{'F1-score': 0.01848253876996446}</td>\n",
       "      <td>{'NDCG': 0.040508479944297245}</td>\n",
       "      <td>0.489078</td>\n",
       "    </tr>\n",
       "    <tr>\n",
       "      <th>17</th>\n",
       "      <td>18</td>\n",
       "      <td>{'F1-score': 0.020716118820674857}</td>\n",
       "      <td>{'NDCG': 0.041985287096463424}</td>\n",
       "      <td>0.466205</td>\n",
       "    </tr>\n",
       "    <tr>\n",
       "      <th>18</th>\n",
       "      <td>19</td>\n",
       "      <td>{'F1-score': 0.027990785761887106}</td>\n",
       "      <td>{'NDCG': 0.048343488129023886}</td>\n",
       "      <td>0.451222</td>\n",
       "    </tr>\n",
       "    <tr>\n",
       "      <th>19</th>\n",
       "      <td>20</td>\n",
       "      <td>{'F1-score': 0.03484081817544356}</td>\n",
       "      <td>{'NDCG': 0.058507005591295604}</td>\n",
       "      <td>0.441200</td>\n",
       "    </tr>\n",
       "    <tr>\n",
       "      <th>20</th>\n",
       "      <td>21</td>\n",
       "      <td>{'F1-score': 0.03876663212846724}</td>\n",
       "      <td>{'NDCG': 0.0622019335168897}</td>\n",
       "      <td>0.427617</td>\n",
       "    </tr>\n",
       "    <tr>\n",
       "      <th>21</th>\n",
       "      <td>22</td>\n",
       "      <td>{'F1-score': 0.040837426837299705}</td>\n",
       "      <td>{'NDCG': 0.06454683031844802}</td>\n",
       "      <td>0.420372</td>\n",
       "    </tr>\n",
       "    <tr>\n",
       "      <th>22</th>\n",
       "      <td>23</td>\n",
       "      <td>{'F1-score': 0.04158640489020508}</td>\n",
       "      <td>{'NDCG': 0.06502353020985716}</td>\n",
       "      <td>0.423364</td>\n",
       "    </tr>\n",
       "    <tr>\n",
       "      <th>23</th>\n",
       "      <td>24</td>\n",
       "      <td>{'F1-score': 0.041303558087190245}</td>\n",
       "      <td>{'NDCG': 0.06500057630324946}</td>\n",
       "      <td>0.417175</td>\n",
       "    </tr>\n",
       "    <tr>\n",
       "      <th>24</th>\n",
       "      <td>25</td>\n",
       "      <td>{'F1-score': 0.04178157921777025}</td>\n",
       "      <td>{'NDCG': 0.06565063762744623}</td>\n",
       "      <td>0.418861</td>\n",
       "    </tr>\n",
       "    <tr>\n",
       "      <th>25</th>\n",
       "      <td>26</td>\n",
       "      <td>{'F1-score': 0.041769954678281}</td>\n",
       "      <td>{'NDCG': 0.0652992679716501}</td>\n",
       "      <td>0.417795</td>\n",
       "    </tr>\n",
       "    <tr>\n",
       "      <th>26</th>\n",
       "      <td>27</td>\n",
       "      <td>{'F1-score': 0.041584193678853895}</td>\n",
       "      <td>{'NDCG': 0.06540942633055374}</td>\n",
       "      <td>0.418606</td>\n",
       "    </tr>\n",
       "    <tr>\n",
       "      <th>27</th>\n",
       "      <td>28</td>\n",
       "      <td>{'F1-score': 0.04148225994223965}</td>\n",
       "      <td>{'NDCG': 0.06543476971678604}</td>\n",
       "      <td>0.416529</td>\n",
       "    </tr>\n",
       "    <tr>\n",
       "      <th>28</th>\n",
       "      <td>29</td>\n",
       "      <td>{'F1-score': 0.04168342064463433}</td>\n",
       "      <td>{'NDCG': 0.06576223675812826}</td>\n",
       "      <td>0.419855</td>\n",
       "    </tr>\n",
       "    <tr>\n",
       "      <th>29</th>\n",
       "      <td>30</td>\n",
       "      <td>{'F1-score': 0.04254017440856926}</td>\n",
       "      <td>{'NDCG': 0.06624068631580506}</td>\n",
       "      <td>0.415717</td>\n",
       "    </tr>\n",
       "    <tr>\n",
       "      <th>30</th>\n",
       "      <td>31</td>\n",
       "      <td>{'F1-score': 0.04206764067545528}</td>\n",
       "      <td>{'NDCG': 0.06587583314333308}</td>\n",
       "      <td>0.399100</td>\n",
       "    </tr>\n",
       "    <tr>\n",
       "      <th>31</th>\n",
       "      <td>32</td>\n",
       "      <td>{'F1-score': 0.04239886995089377}</td>\n",
       "      <td>{'NDCG': 0.06640722617135852}</td>\n",
       "      <td>0.418240</td>\n",
       "    </tr>\n",
       "    <tr>\n",
       "      <th>32</th>\n",
       "      <td>33</td>\n",
       "      <td>{'F1-score': 0.042105165755160594}</td>\n",
       "      <td>{'NDCG': 0.06585952443861984}</td>\n",
       "      <td>0.417652</td>\n",
       "    </tr>\n",
       "    <tr>\n",
       "      <th>33</th>\n",
       "      <td>34</td>\n",
       "      <td>{'F1-score': 0.042473682280207925}</td>\n",
       "      <td>{'NDCG': 0.06604485194850013}</td>\n",
       "      <td>0.413934</td>\n",
       "    </tr>\n",
       "    <tr>\n",
       "      <th>34</th>\n",
       "      <td>35</td>\n",
       "      <td>{'F1-score': 0.04229444034952263}</td>\n",
       "      <td>{'NDCG': 0.06607921188872279}</td>\n",
       "      <td>0.419756</td>\n",
       "    </tr>\n",
       "    <tr>\n",
       "      <th>35</th>\n",
       "      <td>36</td>\n",
       "      <td>{'F1-score': 0.04220153481134125}</td>\n",
       "      <td>{'NDCG': 0.06577430155016202}</td>\n",
       "      <td>0.413294</td>\n",
       "    </tr>\n",
       "    <tr>\n",
       "      <th>36</th>\n",
       "      <td>37</td>\n",
       "      <td>{'F1-score': 0.04263145642555783}</td>\n",
       "      <td>{'NDCG': 0.06609288727010328}</td>\n",
       "      <td>0.416064</td>\n",
       "    </tr>\n",
       "    <tr>\n",
       "      <th>37</th>\n",
       "      <td>38</td>\n",
       "      <td>{'F1-score': 0.04254532003846028}</td>\n",
       "      <td>{'NDCG': 0.06597359442411173}</td>\n",
       "      <td>0.416474</td>\n",
       "    </tr>\n",
       "    <tr>\n",
       "      <th>38</th>\n",
       "      <td>39</td>\n",
       "      <td>{'F1-score': 0.042241418832650895}</td>\n",
       "      <td>{'NDCG': 0.06588967637985217}</td>\n",
       "      <td>0.415287</td>\n",
       "    </tr>\n",
       "    <tr>\n",
       "      <th>39</th>\n",
       "      <td>40</td>\n",
       "      <td>{'F1-score': 0.04192055084527674}</td>\n",
       "      <td>{'NDCG': 0.06563688721507788}</td>\n",
       "      <td>0.421799</td>\n",
       "    </tr>\n",
       "    <tr>\n",
       "      <th>40</th>\n",
       "      <td>41</td>\n",
       "      <td>{'F1-score': 0.0420847906422249}</td>\n",
       "      <td>{'NDCG': 0.0653576915383451}</td>\n",
       "      <td>0.410685</td>\n",
       "    </tr>\n",
       "    <tr>\n",
       "      <th>41</th>\n",
       "      <td>42</td>\n",
       "      <td>{'F1-score': 0.0419153232658521}</td>\n",
       "      <td>{'NDCG': 0.06547804399659592}</td>\n",
       "      <td>0.416830</td>\n",
       "    </tr>\n",
       "    <tr>\n",
       "      <th>42</th>\n",
       "      <td>43</td>\n",
       "      <td>{'F1-score': 0.041997712096155146}</td>\n",
       "      <td>{'NDCG': 0.06555517241043649}</td>\n",
       "      <td>0.414428</td>\n",
       "    </tr>\n",
       "    <tr>\n",
       "      <th>43</th>\n",
       "      <td>44</td>\n",
       "      <td>{'F1-score': 0.042561440326250304}</td>\n",
       "      <td>{'NDCG': 0.06594007533337724}</td>\n",
       "      <td>0.416508</td>\n",
       "    </tr>\n",
       "    <tr>\n",
       "      <th>44</th>\n",
       "      <td>45</td>\n",
       "      <td>{'F1-score': 0.042352343637086176}</td>\n",
       "      <td>{'NDCG': 0.06576762380624625}</td>\n",
       "      <td>0.414331</td>\n",
       "    </tr>\n",
       "    <tr>\n",
       "      <th>45</th>\n",
       "      <td>46</td>\n",
       "      <td>{'F1-score': 0.0427873633725787}</td>\n",
       "      <td>{'NDCG': 0.0657207731532171}</td>\n",
       "      <td>0.416388</td>\n",
       "    </tr>\n",
       "    <tr>\n",
       "      <th>46</th>\n",
       "      <td>47</td>\n",
       "      <td>{'F1-score': 0.04210137687445512}</td>\n",
       "      <td>{'NDCG': 0.06547164258414082}</td>\n",
       "      <td>0.411893</td>\n",
       "    </tr>\n",
       "    <tr>\n",
       "      <th>47</th>\n",
       "      <td>48</td>\n",
       "      <td>{'F1-score': 0.042442560149952104}</td>\n",
       "      <td>{'NDCG': 0.06583277048206979}</td>\n",
       "      <td>0.409371</td>\n",
       "    </tr>\n",
       "    <tr>\n",
       "      <th>48</th>\n",
       "      <td>49</td>\n",
       "      <td>{'F1-score': 0.04301880979779657}</td>\n",
       "      <td>{'NDCG': 0.0662503254414305}</td>\n",
       "      <td>0.406729</td>\n",
       "    </tr>\n",
       "    <tr>\n",
       "      <th>49</th>\n",
       "      <td>50</td>\n",
       "      <td>{'F1-score': 0.041413638615422424}</td>\n",
       "      <td>{'NDCG': 0.0650351669243712}</td>\n",
       "      <td>0.410080</td>\n",
       "    </tr>\n",
       "  </tbody>\n",
       "</table>\n",
       "</div>"
      ],
      "text/plain": [
       "    Epoch                              F1-score  \\\n",
       "0       1    {'F1-score': 0.020696255000910255}   \n",
       "1       2   {'F1-score': 0.0026908073907922344}   \n",
       "2       3  {'F1-score': 0.00035244360902255637}   \n",
       "3       4   {'F1-score': 0.0003512840542915731}   \n",
       "4       5   {'F1-score': 7.374204742625796e-05}   \n",
       "5       6   {'F1-score': 3.614806246385194e-05}   \n",
       "6       7   {'F1-score': 3.480924533556112e-05}   \n",
       "7       8   {'F1-score': 3.480924533556112e-05}   \n",
       "8       9                     {'F1-score': 0.0}   \n",
       "9      10                     {'F1-score': 0.0}   \n",
       "10     11                     {'F1-score': 0.0}   \n",
       "11     12                     {'F1-score': 0.0}   \n",
       "12     13  {'F1-score': 5.8740601503759395e-05}   \n",
       "13     14   {'F1-score': 0.0012219878443341513}   \n",
       "14     15     {'F1-score': 0.01062534167203703}   \n",
       "15     16    {'F1-score': 0.019375928851687044}   \n",
       "16     17     {'F1-score': 0.01848253876996446}   \n",
       "17     18    {'F1-score': 0.020716118820674857}   \n",
       "18     19    {'F1-score': 0.027990785761887106}   \n",
       "19     20     {'F1-score': 0.03484081817544356}   \n",
       "20     21     {'F1-score': 0.03876663212846724}   \n",
       "21     22    {'F1-score': 0.040837426837299705}   \n",
       "22     23     {'F1-score': 0.04158640489020508}   \n",
       "23     24    {'F1-score': 0.041303558087190245}   \n",
       "24     25     {'F1-score': 0.04178157921777025}   \n",
       "25     26       {'F1-score': 0.041769954678281}   \n",
       "26     27    {'F1-score': 0.041584193678853895}   \n",
       "27     28     {'F1-score': 0.04148225994223965}   \n",
       "28     29     {'F1-score': 0.04168342064463433}   \n",
       "29     30     {'F1-score': 0.04254017440856926}   \n",
       "30     31     {'F1-score': 0.04206764067545528}   \n",
       "31     32     {'F1-score': 0.04239886995089377}   \n",
       "32     33    {'F1-score': 0.042105165755160594}   \n",
       "33     34    {'F1-score': 0.042473682280207925}   \n",
       "34     35     {'F1-score': 0.04229444034952263}   \n",
       "35     36     {'F1-score': 0.04220153481134125}   \n",
       "36     37     {'F1-score': 0.04263145642555783}   \n",
       "37     38     {'F1-score': 0.04254532003846028}   \n",
       "38     39    {'F1-score': 0.042241418832650895}   \n",
       "39     40     {'F1-score': 0.04192055084527674}   \n",
       "40     41      {'F1-score': 0.0420847906422249}   \n",
       "41     42      {'F1-score': 0.0419153232658521}   \n",
       "42     43    {'F1-score': 0.041997712096155146}   \n",
       "43     44    {'F1-score': 0.042561440326250304}   \n",
       "44     45    {'F1-score': 0.042352343637086176}   \n",
       "45     46      {'F1-score': 0.0427873633725787}   \n",
       "46     47     {'F1-score': 0.04210137687445512}   \n",
       "47     48    {'F1-score': 0.042442560149952104}   \n",
       "48     49     {'F1-score': 0.04301880979779657}   \n",
       "49     50    {'F1-score': 0.041413638615422424}   \n",
       "\n",
       "                              NDCG  val_loss  \n",
       "0                    {'NDCG': nan}  1.655795  \n",
       "1                    {'NDCG': nan}  1.513096  \n",
       "2                    {'NDCG': nan}  1.425179  \n",
       "3                    {'NDCG': nan}  1.301751  \n",
       "4                    {'NDCG': nan}  1.199181  \n",
       "5                    {'NDCG': nan}  1.139861  \n",
       "6                    {'NDCG': nan}  1.020026  \n",
       "7                    {'NDCG': nan}  0.963919  \n",
       "8                    {'NDCG': nan}  0.899040  \n",
       "9                    {'NDCG': nan}  0.843660  \n",
       "10                   {'NDCG': nan}  0.807625  \n",
       "11                   {'NDCG': nan}  0.769792  \n",
       "12                   {'NDCG': nan}  0.753481  \n",
       "13                   {'NDCG': nan}  0.733885  \n",
       "14  {'NDCG': 0.013129201301030423}  0.618595  \n",
       "15   {'NDCG': 0.03519700076150939}  0.540324  \n",
       "16  {'NDCG': 0.040508479944297245}  0.489078  \n",
       "17  {'NDCG': 0.041985287096463424}  0.466205  \n",
       "18  {'NDCG': 0.048343488129023886}  0.451222  \n",
       "19  {'NDCG': 0.058507005591295604}  0.441200  \n",
       "20    {'NDCG': 0.0622019335168897}  0.427617  \n",
       "21   {'NDCG': 0.06454683031844802}  0.420372  \n",
       "22   {'NDCG': 0.06502353020985716}  0.423364  \n",
       "23   {'NDCG': 0.06500057630324946}  0.417175  \n",
       "24   {'NDCG': 0.06565063762744623}  0.418861  \n",
       "25    {'NDCG': 0.0652992679716501}  0.417795  \n",
       "26   {'NDCG': 0.06540942633055374}  0.418606  \n",
       "27   {'NDCG': 0.06543476971678604}  0.416529  \n",
       "28   {'NDCG': 0.06576223675812826}  0.419855  \n",
       "29   {'NDCG': 0.06624068631580506}  0.415717  \n",
       "30   {'NDCG': 0.06587583314333308}  0.399100  \n",
       "31   {'NDCG': 0.06640722617135852}  0.418240  \n",
       "32   {'NDCG': 0.06585952443861984}  0.417652  \n",
       "33   {'NDCG': 0.06604485194850013}  0.413934  \n",
       "34   {'NDCG': 0.06607921188872279}  0.419756  \n",
       "35   {'NDCG': 0.06577430155016202}  0.413294  \n",
       "36   {'NDCG': 0.06609288727010328}  0.416064  \n",
       "37   {'NDCG': 0.06597359442411173}  0.416474  \n",
       "38   {'NDCG': 0.06588967637985217}  0.415287  \n",
       "39   {'NDCG': 0.06563688721507788}  0.421799  \n",
       "40    {'NDCG': 0.0653576915383451}  0.410685  \n",
       "41   {'NDCG': 0.06547804399659592}  0.416830  \n",
       "42   {'NDCG': 0.06555517241043649}  0.414428  \n",
       "43   {'NDCG': 0.06594007533337724}  0.416508  \n",
       "44   {'NDCG': 0.06576762380624625}  0.414331  \n",
       "45    {'NDCG': 0.0657207731532171}  0.416388  \n",
       "46   {'NDCG': 0.06547164258414082}  0.411893  \n",
       "47   {'NDCG': 0.06583277048206979}  0.409371  \n",
       "48    {'NDCG': 0.0662503254414305}  0.406729  \n",
       "49    {'NDCG': 0.0650351669243712}  0.410080  "
      ]
     },
     "execution_count": 40,
     "metadata": {},
     "output_type": "execute_result"
    }
   ],
   "source": [
    "# 消融實驗 w/o Item2vec and Confidence\n",
    "# MyModel02\n",
    "# 固定參數: epochs35 Transformer_layer=4 batch_size=8 embedding_size=32 hidden_size=128 lr=0.0001 num_layer=4 num_head=4\n",
    "\n",
    "results = []\n",
    "\n",
    "for epoch in range( 1  , EPOCHS + 1 ):\n",
    "    train_loss = train_model()\n",
    "    print(\"train_loss=\",train_loss)\n",
    "    print('-'*20)\n",
    "    val_loss = evaluate_model()\n",
    "    print(\"val_loss=\",val_loss)\n",
    "    print('-' * 20)\n",
    "    test_loss,f1_list,ndcg_list = test_model()\n",
    "    print('-' * 20)\n",
    "    result = [epoch] + f1_list + ndcg_list + [val_loss.item()]\n",
    "#     result = [epoch] + hr_list + f1_list + ndcg_list + [mrr_score,map_score] + [val_loss.item()]\n",
    "    results.append(result)\n",
    "    print(results)\n",
    "    print('-' * 89)\n",
    "    \n",
    "    collected = gc.collect()\n",
    "    torch.cuda.empty_cache()\n",
    "\n",
    "record_df = pd.DataFrame(results,columns=['Epoch','F1-score','NDCG','val_loss'])\n",
    "# record_df = pd.DataFrame(results,columns=['Epoch','HR@5', 'HR@10', 'HR@20', 'HR@50', 'F1-score@5', 'F1-score@10', 'F1-score@20', 'F1-score@50',\n",
    "#                            'NDCG@5', 'NDCG@10', 'NDCG@20', 'NDCG@50','MRR','MAP','val_loss'])\n",
    "record_df"
   ]
  },
  {
   "cell_type": "code",
   "execution_count": 41,
   "id": "4ff67314",
   "metadata": {},
   "outputs": [
    {
     "name": "stdout",
     "output_type": "stream",
     "text": [
      "tensor([0, 9])\n"
     ]
    },
    {
     "ename": "IndexError",
     "evalue": "Dimension out of range (expected to be in range of [-1, 0], but got 1)",
     "output_type": "error",
     "traceback": [
      "\u001b[1;31m---------------------------------------------------------------------------\u001b[0m",
      "\u001b[1;31mIndexError\u001b[0m                                Traceback (most recent call last)",
      "Cell \u001b[1;32mIn[41], line 4\u001b[0m\n\u001b[0;32m      2\u001b[0m mask \u001b[38;5;241m=\u001b[39m a\u001b[38;5;241m.\u001b[39msum(dim\u001b[38;5;241m=\u001b[39m\u001b[38;5;241m-\u001b[39m\u001b[38;5;241m1\u001b[39m)\n\u001b[0;32m      3\u001b[0m \u001b[38;5;28mprint\u001b[39m(mask)\n\u001b[1;32m----> 4\u001b[0m \u001b[38;5;28mprint\u001b[39m(mask\u001b[38;5;241m.\u001b[39mne(\u001b[38;5;241m0\u001b[39m)\u001b[38;5;241m.\u001b[39mtranspose(\u001b[38;5;241m0\u001b[39m,\u001b[38;5;241m1\u001b[39m))\n",
      "\u001b[1;31mIndexError\u001b[0m: Dimension out of range (expected to be in range of [-1, 0], but got 1)"
     ]
    }
   ],
   "source": [
    "a = torch.tensor([[0,0,0],[4,5,0]])\n",
    "mask = a.sum(dim=-1)\n",
    "print(mask)\n",
    "print(mask.ne(0).transpose(0,1))\n",
    "# 目的:相讓用戶的某個購物籃大小相同，再用key padding mask去遮padding的部分\n",
    "# 某位user的shape - (batch_size, cart的數量, item的維度)\n",
    "# 因為你padding所以代表某位用戶的cart裡面的item數量都相同\n",
    "# 代表可能是\n",
    "# [[[0,1,...,30,31],  ->第一個購物籃\n",
    "#   [32,33...,62,63],\n",
    "#   [0,0,...,0,0],],\n",
    "#  [[0,1,...,30,31],  ->第二個購物籃\n",
    "#   [32,33...,62,63],\n",
    "#   [64,65,...,94,95]]]\n",
    "# 所以sum(dim=-1)代表[0,0,0,0]是padding的\n",
    "# .ne為not equal代表不等於0:  0:false  不是0:true\n",
    "# ~代表false->true, true->false"
   ]
  },
  {
   "cell_type": "code",
   "execution_count": null,
   "id": "0da1be2c",
   "metadata": {},
   "outputs": [],
   "source": [
    "test = torch.zeros((2, 4))\n",
    "test"
   ]
  },
  {
   "cell_type": "code",
   "execution_count": null,
   "id": "57304f57",
   "metadata": {},
   "outputs": [],
   "source": [
    "# 創建兩個矩陣\n",
    "tensor1 = torch.tensor([[1, 2, 3],\n",
    "                        [4, 5, 6]])\n",
    "\n",
    "tensor2 = torch.tensor([[7, 8, 9],\n",
    "                        [10, 11, 12]])\n",
    "print(tensor1.size())\n",
    "# 按照行進行交叉穿插\n",
    "\n",
    "# 按照行進行交叉穿插\n",
    "result_column = torch.stack([(tensor1[:, i].tolist(), tensor2[:, i].tolist()) for i in range(tensor1.size(1))]).t().reshape(-1)"
   ]
  },
  {
   "cell_type": "code",
   "execution_count": null,
   "id": "3eb4b116",
   "metadata": {},
   "outputs": [],
   "source": [
    "#a = torch.stack((tensor1, tensor2), dim=1).numpy()\n",
    "#tensor3 = torch.from_numpy(a.reshape(-1,3)) # 3是 EMBEDDING_DIMENSION\n",
    "a = torch.stack((tensor1, tensor2), dim=1)\n",
    "tensor3= torch.reshape(a, (-1, 3))\n",
    "\n",
    "print(tensor3)"
   ]
  },
  {
   "cell_type": "code",
   "execution_count": null,
   "id": "654e609f",
   "metadata": {},
   "outputs": [],
   "source": [
    "def multiply2(x):\n",
    "    print(x)\n",
    "    alist = []\n",
    "    alist.append(x)\n",
    "    #print(alist)\n",
    "    return alist"
   ]
  },
  {
   "cell_type": "code",
   "execution_count": null,
   "id": "a85d0442",
   "metadata": {},
   "outputs": [],
   "source": [
    "a = [1,2]\n",
    "a = torch.tensor([[_] for _ in a])\n",
    "c = multiply2(a)\n",
    "#c = torch.tensor([multiply2(x) for x in a])\n",
    "\n",
    "#a\n",
    "#c\n",
    "\n",
    "#print(np.array(a).shape)"
   ]
  },
  {
   "cell_type": "code",
   "execution_count": null,
   "id": "bbf27932",
   "metadata": {},
   "outputs": [],
   "source": [
    "for batch_idx, (userID, basket_input, basket_label, size_input, size_label, offsets) in enumerate(train_dataloader):\n",
    "    print(basket_input)\n",
    "    #for user in basket_input:\n",
    "        #print(user)"
   ]
  },
  {
   "cell_type": "code",
   "execution_count": null,
   "id": "d8274dd0",
   "metadata": {},
   "outputs": [],
   "source": [
    "a = [\"a\",\"b\",\"c\",\"d\"]\n",
    "a= \", \".join(a)\n",
    "print(a)"
   ]
  },
  {
   "cell_type": "code",
   "execution_count": null,
   "id": "48554d40",
   "metadata": {},
   "outputs": [],
   "source": [
    "x = torch.arange(1., 6.)\n",
    "torch.topk(x, 9)"
   ]
  },
  {
   "cell_type": "code",
   "execution_count": null,
   "id": "ad1adf32",
   "metadata": {},
   "outputs": [],
   "source": [
    "x = torch.arange(1)\n",
    "print(x)"
   ]
  },
  {
   "cell_type": "code",
   "execution_count": null,
   "id": "e8aa7d5d",
   "metadata": {},
   "outputs": [],
   "source": []
  }
 ],
 "metadata": {
  "kernelspec": {
   "display_name": "Python 3 (ipykernel)",
   "language": "python",
   "name": "python3"
  },
  "language_info": {
   "codemirror_mode": {
    "name": "ipython",
    "version": 3
   },
   "file_extension": ".py",
   "mimetype": "text/x-python",
   "name": "python",
   "nbconvert_exporter": "python",
   "pygments_lexer": "ipython3",
   "version": "3.11.5"
  }
 },
 "nbformat": 4,
 "nbformat_minor": 5
}
