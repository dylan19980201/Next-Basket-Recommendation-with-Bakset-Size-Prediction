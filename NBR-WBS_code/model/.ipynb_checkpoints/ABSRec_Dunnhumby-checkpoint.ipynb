{
 "cells": [
  {
   "cell_type": "markdown",
   "id": "a246ddd9",
   "metadata": {},
   "source": [
    "# 下載套件"
   ]
  },
  {
   "cell_type": "code",
   "execution_count": 1,
   "id": "72209793",
   "metadata": {},
   "outputs": [],
   "source": [
    "import torch\n",
    "import torch.nn as nn\n",
    "from torch import nn, matmul, softmax\n",
    "from torch.nn.init import xavier_uniform_\n",
    "import torch.nn.functional as F\n",
    "import torch.nn.utils.rnn as rnn_utils\n",
    "from torch.autograd import Variable\n",
    "\n",
    "import numpy as np\n",
    "import pandas as pd\n",
    "import gensim\n",
    "from gensim.models import KeyedVectors\n",
    "import pickle\n",
    "import gzip \n",
    "import gc\n",
    "import random"
   ]
  },
  {
   "cell_type": "code",
   "execution_count": 2,
   "id": "e3db86c1",
   "metadata": {},
   "outputs": [],
   "source": [
    "from torch.utils.data import DataLoader, Dataset\n",
    "from torch.utils.data.dataset import random_split\n",
    "\n",
    "from tqdm import tqdm\n",
    "from collections import Counter\n",
    "\n",
    "import math"
   ]
  },
  {
   "cell_type": "markdown",
   "id": "d32d7025",
   "metadata": {},
   "source": [
    "# 參數設置"
   ]
  },
  {
   "cell_type": "code",
   "execution_count": 3,
   "id": "6da217e0",
   "metadata": {},
   "outputs": [],
   "source": [
    "# 超參數\n",
    "EPOCHS = 25\n",
    "LEARNING_RATE = 0.0001 \n",
    "BATCH_SIZE = 8 \n",
    "BETA = 0.5\n",
    "EMBEDDING_DIMENSION = 32                      # 嵌入維度\n",
    "MODEL_DIMENSION = EMBEDDING_DIMENSION         # 模型維度\n",
    "HIDDEN_DIMENSION = 128                        # NLP 隱藏層維度\n",
    "NUM_HEAD = 4\n",
    "NUM_LAYER = 4\n",
    "\n",
    "isI2V = 1        #1:使用Item2Vec     #0:不使用Item2Vec"
   ]
  },
  {
   "cell_type": "code",
   "execution_count": 4,
   "id": "37dcbca4",
   "metadata": {},
   "outputs": [],
   "source": [
    "# 資料集\n",
    "# DATASET_NAME = \"TaFeng\"     # 讀取TaFeng資料\n",
    "DATASET_NAME = \"Dunnhumby\"  # 讀取Dunnhumby資料\n",
    "# DATASET_NAME = \"Instacart\"  # 讀取Instacart資料"
   ]
  },
  {
   "cell_type": "markdown",
   "id": "4283cbc8",
   "metadata": {},
   "source": [
    "# 匯入檔案\n",
    "- item2Vec_TaFeng.32d.model\n",
    "- TaFeng_user_cart_itemid_list.gz\n",
    "- Ta_feng_clean.csv"
   ]
  },
  {
   "cell_type": "code",
   "execution_count": 5,
   "id": "32520298",
   "metadata": {},
   "outputs": [
    {
     "data": {
      "text/plain": [
       "torch.Size([3977, 32])"
      ]
     },
     "execution_count": 5,
     "metadata": {},
     "output_type": "execute_result"
    }
   ],
   "source": [
    "# load word2Vec pre_train model\n",
    "model_filename = f\"../preprocessing-data/item2vec_models/item2vec_{DATASET_NAME}.{EMBEDDING_DIMENSION}d.model\"\n",
    "# {DATASET}\n",
    "with open(model_filename, \"rb\") as fp:\n",
    "    model = pickle.load(fp)\n",
    "weights = torch.FloatTensor(model.wv.vectors)\n",
    "weights.shape"
   ]
  },
  {
   "cell_type": "code",
   "execution_count": 6,
   "id": "bbe80d00",
   "metadata": {
    "scrolled": true
   },
   "outputs": [
    {
     "data": {
      "text/plain": [
       "[('CUST0000000031',\n",
       "  [[0, 1, 2, 3, 4, 5, 6, 7, 8, 9, 10, 11],\n",
       "   [12, 13, 14, 15],\n",
       "   [16, 17, 18, 19, 4, 20, 21],\n",
       "   [22, 23, 24],\n",
       "   [1, 25, 26, 6, 27, 28, 29, 30],\n",
       "   [31, 2, 32, 13, 33, 6, 10, 34, 21],\n",
       "   [35, 36, 37],\n",
       "   [38, 25, 39, 40, 41, 32, 42, 20, 43, 29, 44]],\n",
       "  [12, 4, 7, 3, 8, 9, 3, 11]),\n",
       " ('CUST0000000068',\n",
       "  [[45, 46, 47, 48],\n",
       "   [49, 50, 51, 52],\n",
       "   [53, 50, 54, 55, 56],\n",
       "   [57, 58, 59, 60, 61, 62, 63, 64, 54, 65, 47, 66, 67, 68],\n",
       "   [57, 60, 50, 69, 13, 47, 70, 71, 72, 68, 73],\n",
       "   [74, 50, 75],\n",
       "   [76, 77, 78, 59, 79, 80, 45, 54, 81, 82, 13, 47, 83, 84, 85, 68],\n",
       "   [63, 54, 86, 13, 87],\n",
       "   [88, 89, 77, 78, 90, 91, 81, 92, 65, 47, 66, 93, 94, 68],\n",
       "   [90, 95, 96],\n",
       "   [97, 88, 98, 99, 78, 100, 50, 54, 101, 102, 47, 103, 104, 105],\n",
       "   [106,\n",
       "    107,\n",
       "    88,\n",
       "    108,\n",
       "    45,\n",
       "    64,\n",
       "    50,\n",
       "    54,\n",
       "    109,\n",
       "    110,\n",
       "    111,\n",
       "    65,\n",
       "    112,\n",
       "    47,\n",
       "    84,\n",
       "    113,\n",
       "    85,\n",
       "    68],\n",
       "   [114, 59, 115, 116, 117, 118, 85, 119]],\n",
       "  [4, 4, 5, 14, 11, 3, 16, 5, 14, 3, 14, 18, 8])]"
      ]
     },
     "execution_count": 6,
     "metadata": {},
     "output_type": "execute_result"
    }
   ],
   "source": [
    "# {DATASET} user_cart_itemid_list 用戶id, 購物籃時間差(不會使用到), 此用戶的購物籃串列(每個串列包含多項目)。\n",
    "with gzip.open(f\"../preprocessing-data/{DATASET_NAME}_user_cart_itemid_list.gz\", \"rb\") as fp:\n",
    "    user_cart_itemid_list = pickle.load(fp)\n",
    "user_cart_itemid_list[:2]"
   ]
  },
  {
   "cell_type": "code",
   "execution_count": 7,
   "id": "361c43d7",
   "metadata": {},
   "outputs": [],
   "source": [
    "# Load {DATASET} confidences_Matrix\n",
    "with gzip.open(f\"../preprocessing-data/confidences/{DATASET_NAME}_confidences_array.gz\", \"rb\") as fp:\n",
    "    confidences = pickle.load(fp)"
   ]
  },
  {
   "cell_type": "code",
   "execution_count": 8,
   "id": "b83d2fe8",
   "metadata": {},
   "outputs": [
    {
     "name": "stdout",
     "output_type": "stream",
     "text": [
      "44\n"
     ]
    },
    {
     "data": {
      "text/html": [
       "<div>\n",
       "<style scoped>\n",
       "    .dataframe tbody tr th:only-of-type {\n",
       "        vertical-align: middle;\n",
       "    }\n",
       "\n",
       "    .dataframe tbody tr th {\n",
       "        vertical-align: top;\n",
       "    }\n",
       "\n",
       "    .dataframe thead th {\n",
       "        text-align: right;\n",
       "    }\n",
       "</style>\n",
       "<table border=\"1\" class=\"dataframe\">\n",
       "  <thead>\n",
       "    <tr style=\"text-align: right;\">\n",
       "      <th></th>\n",
       "      <th>TRANSACTION_DT</th>\n",
       "      <th>PRODUCT_ID</th>\n",
       "      <th>CUSTOMER_ID</th>\n",
       "      <th>CART_ID</th>\n",
       "      <th>NEW_ITEM_ID</th>\n",
       "    </tr>\n",
       "  </thead>\n",
       "  <tbody>\n",
       "    <tr>\n",
       "      <th>0</th>\n",
       "      <td>20060416</td>\n",
       "      <td>PRD0900173</td>\n",
       "      <td>CUST0000000031</td>\n",
       "      <td>0</td>\n",
       "      <td>0</td>\n",
       "    </tr>\n",
       "    <tr>\n",
       "      <th>1</th>\n",
       "      <td>20060416</td>\n",
       "      <td>PRD0900199</td>\n",
       "      <td>CUST0000000031</td>\n",
       "      <td>0</td>\n",
       "      <td>1</td>\n",
       "    </tr>\n",
       "    <tr>\n",
       "      <th>2</th>\n",
       "      <td>20060416</td>\n",
       "      <td>PRD0900867</td>\n",
       "      <td>CUST0000000031</td>\n",
       "      <td>0</td>\n",
       "      <td>2</td>\n",
       "    </tr>\n",
       "    <tr>\n",
       "      <th>3</th>\n",
       "      <td>20060416</td>\n",
       "      <td>PRD0901294</td>\n",
       "      <td>CUST0000000031</td>\n",
       "      <td>0</td>\n",
       "      <td>3</td>\n",
       "    </tr>\n",
       "    <tr>\n",
       "      <th>4</th>\n",
       "      <td>20060416</td>\n",
       "      <td>PRD0901986</td>\n",
       "      <td>CUST0000000031</td>\n",
       "      <td>0</td>\n",
       "      <td>4</td>\n",
       "    </tr>\n",
       "    <tr>\n",
       "      <th>...</th>\n",
       "      <td>...</td>\n",
       "      <td>...</td>\n",
       "      <td>...</td>\n",
       "      <td>...</td>\n",
       "      <td>...</td>\n",
       "    </tr>\n",
       "    <tr>\n",
       "      <th>1486181</th>\n",
       "      <td>20060604</td>\n",
       "      <td>PRD0901722</td>\n",
       "      <td>CUST0000999976</td>\n",
       "      <td>147357</td>\n",
       "      <td>222</td>\n",
       "    </tr>\n",
       "    <tr>\n",
       "      <th>1486182</th>\n",
       "      <td>20060604</td>\n",
       "      <td>PRD0901732</td>\n",
       "      <td>CUST0000999976</td>\n",
       "      <td>147357</td>\n",
       "      <td>2457</td>\n",
       "    </tr>\n",
       "    <tr>\n",
       "      <th>1486183</th>\n",
       "      <td>20060604</td>\n",
       "      <td>PRD0902897</td>\n",
       "      <td>CUST0000999976</td>\n",
       "      <td>147357</td>\n",
       "      <td>1904</td>\n",
       "    </tr>\n",
       "    <tr>\n",
       "      <th>1486184</th>\n",
       "      <td>20060604</td>\n",
       "      <td>PRD0903032</td>\n",
       "      <td>CUST0000999976</td>\n",
       "      <td>147357</td>\n",
       "      <td>223</td>\n",
       "    </tr>\n",
       "    <tr>\n",
       "      <th>1486185</th>\n",
       "      <td>20060604</td>\n",
       "      <td>PRD0904092</td>\n",
       "      <td>CUST0000999976</td>\n",
       "      <td>147357</td>\n",
       "      <td>2608</td>\n",
       "    </tr>\n",
       "  </tbody>\n",
       "</table>\n",
       "<p>1486186 rows × 5 columns</p>\n",
       "</div>"
      ],
      "text/plain": [
       "         TRANSACTION_DT  PRODUCT_ID     CUSTOMER_ID  CART_ID  NEW_ITEM_ID\n",
       "0              20060416  PRD0900173  CUST0000000031        0            0\n",
       "1              20060416  PRD0900199  CUST0000000031        0            1\n",
       "2              20060416  PRD0900867  CUST0000000031        0            2\n",
       "3              20060416  PRD0901294  CUST0000000031        0            3\n",
       "4              20060416  PRD0901986  CUST0000000031        0            4\n",
       "...                 ...         ...             ...      ...          ...\n",
       "1486181        20060604  PRD0901722  CUST0000999976   147357          222\n",
       "1486182        20060604  PRD0901732  CUST0000999976   147357         2457\n",
       "1486183        20060604  PRD0902897  CUST0000999976   147357         1904\n",
       "1486184        20060604  PRD0903032  CUST0000999976   147357          223\n",
       "1486185        20060604  PRD0904092  CUST0000999976   147357         2608\n",
       "\n",
       "[1486186 rows x 5 columns]"
      ]
     },
     "execution_count": 8,
     "metadata": {},
     "output_type": "execute_result"
    }
   ],
   "source": [
    "dataset = pd.read_csv(f\"../cleaned_dataset/{DATASET_NAME}_clean.csv\")\n",
    "\n",
    "# 最多購物籃\n",
    "max_cart_count = dataset.groupby(\"CUSTOMER_ID\")[\"CART_ID\"].nunique().max()\n",
    "print(max_cart_count)\n",
    "\n",
    "dataset"
   ]
  },
  {
   "cell_type": "markdown",
   "id": "a0877d82",
   "metadata": {},
   "source": [
    "# 切分資料集\n",
    "- 分成輸入資料與標籤資料\n",
    "- 訓練集:驗證集:測試集 = 7:1:2"
   ]
  },
  {
   "cell_type": "code",
   "execution_count": 9,
   "id": "73e9cf41",
   "metadata": {},
   "outputs": [],
   "source": [
    "# 切分資料集\n",
    "# train_set_size = int(len(user_cart_itemid_list) * 0.7)\n",
    "# valid_set_size = int(len(user_cart_itemid_list) * 0.1)\n",
    "# test_set_size = len(user_cart_itemid_list)-train_set_size-valid_set_size\n",
    "# train_set, valid_set, test_set = random_split(user_cart_itemid_list, [train_set_size, valid_set_size, test_set_size])\n",
    "# print(len(train_set))\n",
    "# print(len(valid_set))\n",
    "# print(len(test_set))"
   ]
  },
  {
   "cell_type": "code",
   "execution_count": 10,
   "id": "5edaa93d",
   "metadata": {},
   "outputs": [],
   "source": [
    "# 將切割好的資料集暫存起來\n",
    "\n",
    "# # 訓練集\n",
    "# filepath = \"../preprocessing-data/TaFeng_dataset/train_set.pkl\"\n",
    "# with open(filepath, \"wb\") as f:\n",
    "#     pickle.dump(train_set, f, pickle.HIGHEST_PROTOCOL)\n",
    "# # 驗證集\n",
    "# filepath = \"../preprocessing-data/TaFeng_dataset/valid_set.pkl\"\n",
    "# with open(filepath, \"wb\") as f:\n",
    "#     pickle.dump(valid_set, f, pickle.HIGHEST_PROTOCOL)\n",
    "# # 測試集\n",
    "# filepath = \"../preprocessing-data/TaFeng_dataset/test_set.pkl\"\n",
    "# with open(filepath, \"wb\") as f:\n",
    "#     pickle.dump(test_set, f, pickle.HIGHEST_PROTOCCOL)"
   ]
  },
  {
   "cell_type": "code",
   "execution_count": 11,
   "id": "b203d0c9",
   "metadata": {},
   "outputs": [],
   "source": [
    "# 讀取之前暫存的資料集\n",
    "\n",
    "# 載入訓練、驗證、測試集\n",
    "with open(f\"../preprocessing-data/{DATASET_NAME}_dataset/train_set.pkl\", \"rb\") as fp:\n",
    "    train_set = pickle.load(fp)\n",
    "with open(f\"../preprocessing-data/{DATASET_NAME}_dataset/valid_set.pkl\", \"rb\") as fp:\n",
    "    valid_set = pickle.load(fp)\n",
    "with open(f\"../preprocessing-data/{DATASET_NAME}_dataset/test_set.pkl\", \"rb\") as fp:\n",
    "    test_set = pickle.load(fp)"
   ]
  },
  {
   "cell_type": "markdown",
   "id": "c9585447",
   "metadata": {},
   "source": [
    "# Batch"
   ]
  },
  {
   "cell_type": "code",
   "execution_count": 12,
   "id": "a209539b",
   "metadata": {
    "scrolled": true
   },
   "outputs": [
    {
     "data": {
      "text/plain": [
       "device(type='cuda')"
      ]
     },
     "execution_count": 12,
     "metadata": {},
     "output_type": "execute_result"
    }
   ],
   "source": [
    "device = torch.device(\"cuda\" if torch.cuda.is_available() else \"cpu\")\n",
    "device"
   ]
  },
  {
   "cell_type": "code",
   "execution_count": 13,
   "id": "b348e2b5",
   "metadata": {},
   "outputs": [],
   "source": [
    "# 定義資料轉換函數(於collate_batch函式中使用)\n",
    "item_index_pipeline = lambda x:[[model.wv.key_to_index[j] for j in i]for i in x] # 取得購物籃中，項目的索引值(只有使用Item2Vec時會需要)"
   ]
  },
  {
   "cell_type": "code",
   "execution_count": 14,
   "id": "92fb3dee",
   "metadata": {},
   "outputs": [],
   "source": [
    "class TensorDataset(Dataset):\n",
    "    # TensorDataset繼承Dataset, 重載__init__, __getitem__, __len__\n",
    "    # 實現將一組Tensor數據封裝成Tensor數據集\n",
    "    # 能夠通過index得到數據集的數據，能夠通過len，得到數據集大小\n",
    "    def __init__(self, data_tensor):\n",
    "        self.data_tensor = data_tensor\n",
    "    def __getitem__(self, index):\n",
    "        return self.data_tensor[index]\n",
    "    def __len__(self):\n",
    "        return len(self.data_tensor)\n",
    "\n",
    "def collate_batch(batch): # 輸出userID, input_list跟label(最後一個購物籃)\n",
    "    # 使用ID、時間差、訓練的購物籃項目、預測的購物籃項目\n",
    "    userID, input_list, label_list, input_size_list, label_size_list, offsets = [], [], [], [], [], [0]\n",
    "    for _user in batch:\n",
    "        userID.append(_user[0]) # userID\n",
    "        label_list.append(torch.tensor(_user[1][-1])) # 所有購物籃的項目ID串列中的最後一個購物籃項目ID\n",
    "        label_size_list.append(torch.tensor(_user[2][-1]))\n",
    "        \n",
    "        if isI2V == 0: # 不使用Item2Vec進行項目嵌入\n",
    "            train_list = _user[1][0:-1]\n",
    "        else: #　使用Item2Vec進行項目嵌入\n",
    "            train_list = item_index_pipeline(_user[1][0:-1])\n",
    "        input_size_list.append(_user[2][0:-1])\n",
    "        \n",
    "        input_list.append(train_list) # 所有購物籃的項目ID串列(除了最後一個購物籃)\n",
    "        offsets.append(len(train_list))\n",
    "    \n",
    "    return userID, input_list, label_list, input_size_list, label_size_list, offsets"
   ]
  },
  {
   "cell_type": "code",
   "execution_count": 15,
   "id": "f442f66a",
   "metadata": {},
   "outputs": [],
   "source": [
    "# 轉成 Dataset\n",
    "split_train_ = TensorDataset(train_set)\n",
    "split_valid_ = TensorDataset(valid_set)\n",
    "split_test_ = TensorDataset(test_set)"
   ]
  },
  {
   "cell_type": "code",
   "execution_count": 16,
   "id": "54fe7bc6",
   "metadata": {},
   "outputs": [],
   "source": [
    "# DataLoader \n",
    "train_dataloader = DataLoader(split_train_, batch_size=BATCH_SIZE, shuffle=True, collate_fn=collate_batch, drop_last=True)\n",
    "valid_dataloader = DataLoader(split_valid_, batch_size=BATCH_SIZE, shuffle=True, collate_fn=collate_batch, drop_last=True)\n",
    "test_dataloader = DataLoader(split_test_, batch_size=BATCH_SIZE, shuffle=True, collate_fn=collate_batch, drop_last=True)"
   ]
  },
  {
   "cell_type": "markdown",
   "id": "637657be",
   "metadata": {},
   "source": [
    "# Self-Attention"
   ]
  },
  {
   "cell_type": "code",
   "execution_count": 17,
   "id": "a96171ad",
   "metadata": {},
   "outputs": [],
   "source": [
    "# 使用nn.MultiheadAttention\n",
    "# 輸入一個用戶的一個購物籃，輸出購物籃嵌入\n",
    "class SelfAttention(nn.Module):\n",
    "    def __init__(self, embed_dim, model_dim): #項目向量維度，輸出模型的維度\n",
    "        super(SelfAttention, self).__init__()\n",
    "        self.embed_dim = embed_dim\n",
    "        self.model_dim = model_dim\n",
    "        \n",
    "        # 初始化Q, K, V 矩陣\n",
    "        self.query_matrix = nn.Linear(embed_dim, model_dim)\n",
    "        xavier_uniform_(self.query_matrix.weight)\n",
    "        self.key_matrix = nn.Linear(embed_dim, model_dim)\n",
    "        xavier_uniform_(self.key_matrix.weight)\n",
    "        self.value_matrix = nn.Linear(embed_dim, model_dim)\n",
    "        xavier_uniform_(self.value_matrix.weight)\n",
    "        self.multihead_attn = nn.MultiheadAttention(embed_dim, num_heads=1)\n",
    "        \n",
    "    def forward(self, inputs, attention_mask):\n",
    "        \n",
    "        # 輸入一個項目向量，透過三個可學習的參數矩陣，得到計算所需要的 q,k,v\n",
    "        q = self.query_matrix(inputs)\n",
    "        k = self.key_matrix(inputs)\n",
    "        v = self.value_matrix(inputs)\n",
    "        \n",
    "        attn_output, attn_output_weight = self.multihead_attn(q, k, v, key_padding_mask=attention_mask.transpose(0,1))\n",
    "        \n",
    "        output_mean = torch.tensor([[0 for _ in range(MODEL_DIMENSION)] for _ in range(len(attention_mask))], dtype=torch.float).to(device)\n",
    "        for i, cart in enumerate(attention_mask):\n",
    "            for j, mask in enumerate(cart):\n",
    "                if mask == False:\n",
    "                    output_mean[i] = attn_output[i][j] # 使用最後一個項目作為輸出\n",
    "        basket_embedding = output_mean\n",
    "        \n",
    "        return basket_embedding"
   ]
  },
  {
   "cell_type": "markdown",
   "id": "a3043def",
   "metadata": {},
   "source": [
    "   # Basket Size Encoder"
   ]
  },
  {
   "cell_type": "code",
   "execution_count": 18,
   "id": "3b8530b2",
   "metadata": {},
   "outputs": [],
   "source": [
    "class LinearTransformation(nn.Module):\n",
    "    def __init__(self, input_dim, embed_dim):\n",
    "        super(LinearTransformation, self).__init__()\n",
    "        self.embed = torch.nn.Linear(input_dim, embed_dim)\n",
    "        \n",
    "    def forward(self, basket_size):\n",
    "        return self_embed(basket_size)"
   ]
  },
  {
   "cell_type": "markdown",
   "id": "00cd99b7",
   "metadata": {},
   "source": [
    "# Transformer"
   ]
  },
  {
   "cell_type": "code",
   "execution_count": 19,
   "id": "bc0ed90c",
   "metadata": {},
   "outputs": [],
   "source": [
    "class PositionalEncoding(nn.Module):\n",
    "    def __init__(self, d_model:int, dropout, maxlen:int=500):\n",
    "        super(PositionalEncoding, self).__init__()\n",
    "        # den 是把10000^(2i/d_model)取log_e，前面加負號是求倒數\n",
    "        den = torch.exp(-torch.arange(0, d_model, 2) * math.log(10000) / d_model)\n",
    "        pos = torch.arange(0, maxlen).reshape(maxlen, 1)\n",
    "        pos_embedding = torch.zeros(maxlen, d_model)#.to(device)\n",
    "        pos_embedding[:, 0::2] = torch.sin(pos*den)\n",
    "        pos_embedding[:, 1::2] = torch.cos(pos*den)\n",
    "        \n",
    "        pos_embedding = pos_embedding.unsqueeze(0)\n",
    "        \n",
    "        self.dropout = nn.Dropout(dropout)\n",
    "        self.register_buffer(\"pos_embedding\", pos_embedding)\n",
    "        \n",
    "    def forward(self, token_embedding):\n",
    "        #interleave(token_embedding, 1)\n",
    "        return self.dropout(token_embedding+ self.pos_embedding[:, :token_embedding.size(1), :])\n",
    "    \n",
    "class TransformerEncoder(nn.Module):\n",
    "    def __init__(self, d_model, num_heads=8, num_layers=6):\n",
    "        super(TransformerEncoder, self).__init__()\n",
    "        self.pe = PositionalEncoding(d_model=d_model, dropout=0.5, maxlen=max_cart_count)\n",
    "        # 創建 Transformer 模型\n",
    "        self.transformer = nn.TransformerEncoder(\n",
    "            nn.TransformerEncoderLayer(d_model=d_model, nhead=num_heads),\n",
    "            num_layers=num_layers\n",
    "        )\n",
    "    \n",
    "    def forward(self, baskets_embedding):\n",
    "        baskets_embedding_pe = self.pe(baskets_embedding)\n",
    "        \n",
    "        # 購物籃padding的遮罩\n",
    "        padding_mask = ~baskets_embedding.sum(dim=-1).ne(0).transpose(0,1)\n",
    "        \n",
    "        output = self.transformer(baskets_embedding_pe.to(torch.float32), src_key_padding_mask=padding_mask.to(torch.float32))\n",
    "        return output"
   ]
  },
  {
   "cell_type": "markdown",
   "id": "9cdd237c",
   "metadata": {},
   "source": [
    "# MLP層"
   ]
  },
  {
   "cell_type": "code",
   "execution_count": 20,
   "id": "e8fb5303",
   "metadata": {},
   "outputs": [],
   "source": [
    "class MLPLayer(nn.Module):\n",
    "    def __init__(self, embed_dim, hidden_dim, items_dim):\n",
    "        super(MLPLayer, self).__init__()\n",
    "        self.hidden = nn.Linear(embed_dim, hidden_dim) # 隱藏層\n",
    "        xavier_uniform_(self.hidden.weight)\n",
    "        self.norm = nn.BatchNorm1d(hidden_dim, momentum=0.03)\n",
    "        self.activate = nn.ReLU()\n",
    "        self.output = nn.Linear(hidden_dim, items_dim) # 輸出層\n",
    "        \n",
    "    def forward(self, inputs):\n",
    "        y = self.activate(self.norm(self.hidden(inputs)))\n",
    "        return self.output(y)"
   ]
  },
  {
   "cell_type": "markdown",
   "id": "9afdd949",
   "metadata": {},
   "source": [
    "# 損失函數"
   ]
  },
  {
   "cell_type": "code",
   "execution_count": 21,
   "id": "578a7e8b",
   "metadata": {},
   "outputs": [],
   "source": [
    "# cross_entropy_loss\n",
    "def cross_entropy_loss(predictions, targets):\n",
    "    # 創建稀疏張量的索引和值\n",
    "    indices = []\n",
    "    values = []\n",
    "    for i, t in enumerate(targets):\n",
    "        for v in t:\n",
    "            indices.append([i, v])\n",
    "            values.append(1)\n",
    "\n",
    "    # 創建稀疏張量\n",
    "    sparse_targets = torch.sparse_coo_tensor(indices=torch.tensor(indices).t(),\n",
    "                                             values=torch.tensor(values, dtype=torch.float16),\n",
    "                                             size=(len(targets), items_count), device=device)\n",
    "    sparse_targets = sparse_targets.to_dense()\n",
    "    \n",
    "    loss = F.binary_cross_entropy_with_logits(predictions, sparse_targets)\n",
    "    \n",
    "    return loss"
   ]
  },
  {
   "cell_type": "markdown",
   "id": "08aefe4a",
   "metadata": {},
   "source": [
    "# 評估指標"
   ]
  },
  {
   "cell_type": "code",
   "execution_count": 22,
   "id": "308ff8e9",
   "metadata": {},
   "outputs": [],
   "source": [
    "def format_metric(result_dict):\n",
    "    assert type(result_dict) == dict\n",
    "    format_str = []\n",
    "    metrics = np.unique([k.split('@')[0] for k in result_dict.keys()])\n",
    "    topks = np.unique([int(k.split('@')[1]) for k in result_dict.keys()])\n",
    "    for topk in np.sort(topks):\n",
    "        for metric in np.sort(metrics):\n",
    "            name = '{}@{}'.format(metric, topk)\n",
    "            m = result_dict[name]\n",
    "            if type(m) is float or type(m) is float or type(m) is np.float32 or type(m) is np.float64:\n",
    "                format_str.append('{}: {:<.4f}'.format(name, m))\n",
    "            elif type(m) is int or type(m) is int or type(m) is np.int32 or type(m) is np.int64:\n",
    "                format_str.append('{}: {}'.format(name, m))\n",
    "    return ', '.join(format_str)"
   ]
  },
  {
   "cell_type": "markdown",
   "id": "b96a4cfe",
   "metadata": {},
   "source": [
    "## HR@K"
   ]
  },
  {
   "cell_type": "code",
   "execution_count": 23,
   "id": "ced1b599",
   "metadata": {},
   "outputs": [],
   "source": [
    "def calculate_hr_at_k(predictions, labels_list, k_list):\n",
    "    # 將預測機率矩陣轉換為 PyTorch 張量。\n",
    "    predictions = torch.from_numpy(np.array(predictions, dtype=np.float32)).to(device)\n",
    "    num_users = len(labels_list)\n",
    "    evaluations = dict()\n",
    "    for k in k_list:\n",
    "        HR = []\n",
    "        for i in range(num_users):\n",
    "            # 將用戶 i 的真實標籤轉換為 PyTorch 張量。\n",
    "            labels = torch.from_numpy(np.array(labels_list[i], dtype=np.int64)).to(device)\n",
    "            # 計算用戶 i 在預測機率矩陣中機率最高的 K 個項目的索引。\n",
    "            top_k_item_indices = torch.topk(predictions[i], k)[1]\n",
    "            # 將用戶 i 在預測機率矩陣中機率最高的 K 個項目的索引和其真實標籤向量的交集，即為預測正確的項目數量。\n",
    "            correct_num = torch.sum(torch.sum(torch.eq(top_k_item_indices, labels.unsqueeze(1)), dim=1))\n",
    "            # 計算 HR。\n",
    "            HR.append( correct_num.cpu()/len(labels) )\n",
    "        # 計算 HR@K 分數。\n",
    "        hr_at_k = np.mean(HR)\n",
    "        key = '{}@{}'.format('HR',k)\n",
    "        evaluations[key]=hr_at_k\n",
    "    return evaluations"
   ]
  },
  {
   "cell_type": "markdown",
   "id": "fa92db9d",
   "metadata": {},
   "source": [
    "## F1-score"
   ]
  },
  {
   "cell_type": "code",
   "execution_count": 24,
   "id": "f7cca32b",
   "metadata": {},
   "outputs": [],
   "source": [
    "def calculate_f1_score_at_k(predictions, labels_list, k_list):\n",
    "    \"\"\"\n",
    "    計算 F1-score@K。\n",
    "\n",
    "    Args:\n",
    "        predictions: 二維的預測機率矩陣，大小為 [num_users, num_items]。\n",
    "        labels_list: 一個包含每個用戶真實標籤的列表，其中每個列表的大小不同。\n",
    "        k: 計算 F1-score@K 的 K 值。\n",
    "\n",
    "    Returns:\n",
    "        F1-score@K 分數。\n",
    "    \"\"\"\n",
    "    # 將預測機率矩陣轉換為 PyTorch 張量。\n",
    "    predictions = torch.from_numpy(np.array(predictions, dtype=np.float32))#.to('cuda')\n",
    "    num_users = len(labels_list)\n",
    "    f1_score_at_k_eval = dict()\n",
    "    \n",
    "    for k in k_list:\n",
    "        f1_score_sum = 0.0\n",
    "        for i in range(num_users):\n",
    "                # 將用戶 i 的真實標籤轉換為 PyTorch 張量。\n",
    "                labels = torch.from_numpy(np.array(labels_list[i], dtype=np.int64))#.to('cuda')\n",
    "                # 計算用戶 i 在預測機率矩陣中機率最高的 K 個項目的索引。\n",
    "                top_k_item_labels = torch.topk(predictions[i], k)[1]\n",
    "                # 計算用戶 i 的真實標籤和預測標籤的交集。 # TP\n",
    "                true_positives = torch.sum(torch.sum(torch.eq(top_k_item_labels, labels.unsqueeze(1)).to(torch.float32), dim=1)).item()\n",
    "                # 計算用戶 i 的真實標籤和預測標籤的並集。\n",
    "                predicted_positives = k # TP+FP\n",
    "                actual_positives = len(labels) # TP+FN\n",
    "                if actual_positives == 0:\n",
    "                    precision = 0.0\n",
    "                    recall = 0.0\n",
    "                else:\n",
    "                    precision = true_positives / predicted_positives\n",
    "                    recall = true_positives / actual_positives\n",
    "                # 計算 F1-score。\n",
    "                if precision + recall == 0:\n",
    "                    f1_score = 0.0\n",
    "                else:\n",
    "                    f1_score = 2 * precision * recall / (precision + recall)\n",
    "                f1_score_sum += f1_score\n",
    "        # 計算平均 F1-score@K 分數。\n",
    "        f1_score_at_k = f1_score_sum / float(num_users)\n",
    "        key = '{}@{}'.format('F1-score',k)\n",
    "        f1_score_at_k_eval[key]=f1_score_at_k\n",
    "        \n",
    "    return f1_score_at_k_eval"
   ]
  },
  {
   "cell_type": "markdown",
   "id": "506ff404",
   "metadata": {},
   "source": [
    "## NDCG"
   ]
  },
  {
   "cell_type": "code",
   "execution_count": 25,
   "id": "4c566188",
   "metadata": {},
   "outputs": [],
   "source": [
    "# NDCG@K\n",
    "def calculate_ndcg_at_k(predictions, labels_list, k_list, k_labels_list):\n",
    "    # 將預測機率矩陣轉換為 PyTorch 張量。\n",
    "    predictions = torch.from_numpy(np.array(predictions, dtype=np.float32))\n",
    "    num_users = len(labels_list)\n",
    "    ndcg_at_k_eval = dict()\n",
    "    \n",
    "    for k in k_list:\n",
    "        ndcg_sum = 0.0\n",
    "        for i in range(num_users):\n",
    "            # 將用戶 i 的真實標籤轉換為 PyTorch 張量。\n",
    "            labels = torch.from_numpy(np.array(labels_list[i], dtype=np.int64))\n",
    "            # 計算用戶 i 在預測機率矩陣中機率最高的 K 個項目的索引=標籤。\n",
    "            top_k_item_labels = torch.topk(predictions[i], k)[1]\n",
    "            # 計算 DCG@K。\n",
    "            dcg_at_k = torch.sum(torch.div(1.0, torch.log2(torch.arange(k, dtype=torch.float32) + 2)) * (torch.eq(top_k_item_labels, labels.unsqueeze(1)).to(torch.float32) ))\n",
    "            # 計算 IDCG@K。\n",
    "            idcg_at_k = torch.sum(torch.div(1.0, torch.log2(torch.arange(len(labels), dtype=torch.float32) + 2)))\n",
    "            #idcg_at_k = torch.sum(torch.div(1.0, torch.log2(torch.arange(min(k, len(labels)), dtype=torch.float32) + 2)))\n",
    "            # 計算 NDCG@K。\n",
    "            ndcg_at_k = (dcg_at_k / idcg_at_k) * (k_labels_list[i] / (k_labels_list[i]+abs(k_labels_list[i]-k)))\n",
    "            ndcg_sum += ndcg_at_k.item()\n",
    "        # 計算平均 NDCG@K 分數。\n",
    "        ndcg_at_k = ndcg_sum / float(num_users)\n",
    "        key = '{}@{}'.format('NDCG',k)\n",
    "        ndcg_at_k_eval[key]=ndcg_at_k\n",
    "        \n",
    "\n",
    "    return ndcg_at_k_eval"
   ]
  },
  {
   "cell_type": "markdown",
   "id": "458759fa",
   "metadata": {},
   "source": [
    "## MPR"
   ]
  },
  {
   "cell_type": "code",
   "execution_count": 26,
   "id": "9160a9fa",
   "metadata": {},
   "outputs": [],
   "source": [
    "#MRR\n",
    "def calculate_MRR(predictions, labels_list):\n",
    "    reciprocal_ranks = []\n",
    "    # 將預測機率矩陣轉換為 numpy 數組。\n",
    "    predictions = np.array(predictions, dtype=np.float32)\n",
    "    # 預先排序預測結果（降序）\n",
    "    sorted_predictions = np.argsort(predictions)[:,::-1]\n",
    "    # 遍歷每個查詢的預測結果與目標結果\n",
    "    for pred, targets in zip(sorted_predictions, labels_list):\n",
    "        # 將目標結果轉換為集合\n",
    "        target_set = set(targets.numpy())\n",
    "        # 尋找目標的排名\n",
    "        rank = next((i + 1 for i, p in enumerate(pred) if p in target_set), 0)\n",
    "        # 計算倒數排名\n",
    "        reciprocal_rank = 1 / rank if rank > 0 else 0\n",
    "        reciprocal_ranks.append(reciprocal_rank)\n",
    "    # 計算 MRR\n",
    "    mrr_score = sum(reciprocal_ranks) / len(reciprocal_ranks)\n",
    "    return mrr_score"
   ]
  },
  {
   "cell_type": "markdown",
   "id": "be5f7b84",
   "metadata": {},
   "source": [
    "## MAP"
   ]
  },
  {
   "cell_type": "code",
   "execution_count": 27,
   "id": "074334ff",
   "metadata": {},
   "outputs": [],
   "source": [
    "#MAP\n",
    "def calculate_MAP(predictions, labels_list):\n",
    "    average_precisions = []\n",
    "    # 將預測機率矩陣轉換為 numpy 數組。\n",
    "    predictions = np.array(predictions, dtype=np.float32)\n",
    "    # 預先排序預測結果（降序）\n",
    "    sorted_predictions = np.argsort(predictions)[:,::-1]\n",
    "    # 遍歷每個查詢的預測結果與目標結果\n",
    "    for pred, targets in zip(sorted_predictions, labels_list):\n",
    "        # 將目標結果轉換為集合\n",
    "        target_set = set(targets.numpy())\n",
    "        # 計算查詢的精確度\n",
    "        precision = []\n",
    "        hits = 0\n",
    "        for i, p in enumerate(pred):\n",
    "            if p in target_set:\n",
    "                hits += 1\n",
    "                precision.append(hits / (i + 1))\n",
    "        # 計算平均精確度\n",
    "        if precision:\n",
    "            average_precision = sum(precision) / len(precision)\n",
    "            average_precisions.append(average_precision)\n",
    "    # 計算 MAP\n",
    "    map_score = sum(average_precisions) / len(average_precisions)\n",
    "    return map_score"
   ]
  },
  {
   "cell_type": "markdown",
   "id": "213301db",
   "metadata": {},
   "source": [
    "# 訓練&測試"
   ]
  },
  {
   "cell_type": "code",
   "execution_count": 28,
   "id": "5d503206",
   "metadata": {},
   "outputs": [],
   "source": [
    "# 訓練模型\n",
    "def train_model():\n",
    "    my_model.train()\n",
    "    loss_list = []\n",
    "    \n",
    "    for batch_idx, (userID, basket_input, basket_label, size_input, size_label, offsets) in enumerate(tqdm(train_dataloader)):\n",
    "        optimizer.zero_grad()\n",
    "        output, indices = my_model(basket_input, offsets[1:])\n",
    "        # 計算損失\n",
    "        loss = cross_entropy_loss(output ,basket_label)\n",
    "        loss_list.append(loss.item())\n",
    "        loss.backward()\n",
    "        optimizer.step()\n",
    "\n",
    "        if (batch_idx%100 == 0) or (batch_idx == len(train_dataloader)-1) :\n",
    "            percentage = (100. * batch_idx/len(train_dataloader))\n",
    "            print(f'Epoch {epoch}: {percentage:.0f}% , Loss: {loss.item():.6f}')\n",
    "\n",
    "        with torch.no_grad():\n",
    "            output = torch.from_numpy(np.array(output.cpu(), dtype=np.float32))\n",
    "            if batch_idx==0:\n",
    "                outputs = output\n",
    "                labels_list = basket_label\n",
    "                size_labels_list = size_label\n",
    "            else:\n",
    "                outputs = torch.cat( (outputs, output ),-2 )\n",
    "                labels_list = labels_list + basket_label\n",
    "                size_labels_list = size_labels_list + size_label\n",
    "\n",
    "    with torch.no_grad():\n",
    "        evaluations = calculate_hr_at_k(outputs, labels_list, [5,10,20,50])\n",
    "        res_str = '(' + format_metric(evaluations) + ')'\n",
    "        print(f\"                      {res_str}\\n\")\n",
    "\n",
    "        evaluations = calculate_f1_score_at_k(outputs, labels_list, [5,10,20,50])\n",
    "        res_str = '(' + format_metric(evaluations) + ')'\n",
    "        print(f\"                      {res_str}\\n\")\n",
    "\n",
    "        evaluations = calculate_ndcg_at_k(outputs, labels_list, [5,10,20,50], size_labels_list)\n",
    "        res_str = '(' + format_metric(evaluations) + ')'\n",
    "        print(f\"                      {res_str}\\n\")\n",
    "        \n",
    "        mrr_score = calculate_MRR( outputs, labels_list )\n",
    "        print(f'MRR: {mrr_score}')\n",
    "        map_score = calculate_MAP( outputs, labels_list )\n",
    "        print(f'MAP: {map_score}')\n",
    "\n",
    "    return torch.mean(torch.tensor(loss_list))"
   ]
  },
  {
   "cell_type": "code",
   "execution_count": 29,
   "id": "b0799869",
   "metadata": {},
   "outputs": [],
   "source": [
    "# 驗證模型\n",
    "def evaluate_model():\n",
    "    my_model.eval()\n",
    "    loss_list = []\n",
    "    \n",
    "    for batch_idx, (userID, basket_input, basket_label, size_input, size_label, offsets) in enumerate(tqdm(valid_dataloader)):\n",
    "        output, indices = my_model(basket_input, offsets[1:])\n",
    "        # 計算損失\n",
    "        loss = cross_entropy_loss( output ,basket_label) \n",
    "        loss_list.append(loss.item())\n",
    "        with torch.no_grad():\n",
    "            output = torch.from_numpy(np.array(output.cpu(), dtype=np.float32))\n",
    "            if batch_idx==0:\n",
    "                outputs = output\n",
    "                labels_list = basket_label\n",
    "                size_labels_list = size_label\n",
    "            else:\n",
    "                outputs = torch.cat( (outputs, output ),-2 )\n",
    "                labels_list = labels_list + basket_label\n",
    "                size_labels_list = size_labels_list + size_label\n",
    "\n",
    "    with torch.no_grad():\n",
    "        evaluations = calculate_hr_at_k(outputs, labels_list, [5,10,20,50])\n",
    "        hr_5_rec = evaluations['HR@5']\n",
    "        res_str = '(' + format_metric(evaluations) + ')'\n",
    "        print(f\"                      {res_str}\\n\")\n",
    "\n",
    "        evaluations = calculate_f1_score_at_k(outputs, labels_list, [5,10,20,50])\n",
    "        res_str = '(' + format_metric(evaluations) + ')'\n",
    "        print(f\"                      {res_str}\\n\")\n",
    "\n",
    "        evaluations = calculate_ndcg_at_k(outputs, labels_list, [5,10,20,50], size_labels_list)\n",
    "        res_str = '(' + format_metric(evaluations) + ')'\n",
    "        print(f\"                      {res_str}\\n\")\n",
    "        \n",
    "        mrr_score = calculate_MRR( outputs, labels_list )\n",
    "        print(f'MRR: {mrr_score}')\n",
    "        map_score = calculate_MAP( outputs, labels_list )\n",
    "        print(f'MAP: {map_score}')\n",
    "\n",
    "    return torch.mean(torch.tensor(loss_list)),hr_5_rec"
   ]
  },
  {
   "cell_type": "code",
   "execution_count": 30,
   "id": "5e8d7319",
   "metadata": {},
   "outputs": [],
   "source": [
    "# 測試模型\n",
    "def test_model():\n",
    "    my_model.eval()\n",
    "    loss_list = []\n",
    "    \n",
    "    for batch_idx, (userID, basket_input, basket_label, size_input, size_label, offsets) in enumerate(tqdm(test_dataloader)):\n",
    "        output, indices = my_model(basket_input, offsets[1:])\n",
    "        # 計算損失\n",
    "        loss = cross_entropy_loss( output ,basket_label)\n",
    "        loss_list.append(loss.item())\n",
    "        with torch.no_grad():\n",
    "            output = torch.from_numpy(np.array(output.cpu(), dtype=np.float32))\n",
    "            if batch_idx==0:\n",
    "                outputs = output\n",
    "                labels_list = basket_label\n",
    "                size_labels_list = size_label\n",
    "            else:\n",
    "                outputs = torch.cat( (outputs, output ),-2 )\n",
    "                labels_list = labels_list + basket_label\n",
    "                size_labels_list = size_labels_list + size_label\n",
    "\n",
    "    with torch.no_grad():\n",
    "        hr_evaluations = calculate_hr_at_k(outputs, labels_list, [5,10,20,50])\n",
    "        hr_5_rec = hr_evaluations['HR@5']\n",
    "        hr_10_rec = hr_evaluations['HR@10']\n",
    "        hr_20_rec = hr_evaluations['HR@20']\n",
    "        hr_50_rec = hr_evaluations['HR@50']\n",
    "        hr_list = [hr_5_rec, hr_10_rec, hr_20_rec, hr_50_rec]\n",
    "        res_str = '(' + format_metric(hr_evaluations) + ')'\n",
    "        print(f\"                      {res_str}\\n\")\n",
    "\n",
    "        f1_evaluations = calculate_f1_score_at_k(outputs, labels_list, [5,10,20,50])\n",
    "        f1_5_rec = f1_evaluations['F1-score@5']\n",
    "        f1_10_rec = f1_evaluations['F1-score@10']\n",
    "        f1_20_rec = f1_evaluations['F1-score@20']\n",
    "        f1_50_rec = f1_evaluations['F1-score@50']\n",
    "        f1_list = [f1_5_rec, f1_10_rec, f1_20_rec, f1_50_rec]\n",
    "        res_str = '(' + format_metric(f1_evaluations) + ')'\n",
    "        print(f\"                      {res_str}\\n\")\n",
    "\n",
    "        ndcg_evaluations = calculate_ndcg_at_k(outputs, labels_list, [5,10,20,50], size_labels_list)\n",
    "        ndcg_5_rec = ndcg_evaluations['NDCG@5']\n",
    "        ndcg_10_rec = ndcg_evaluations['NDCG@10']\n",
    "        ndcg_20_rec = ndcg_evaluations['NDCG@20']\n",
    "        ndcg_50_rec = ndcg_evaluations['NDCG@50']\n",
    "        ndcg_list = [ndcg_5_rec, ndcg_10_rec, ndcg_20_rec, ndcg_50_rec]\n",
    "        res_str = '(' + format_metric(ndcg_evaluations) + ')'\n",
    "        print(f\"                      {res_str}\\n\")\n",
    "        \n",
    "        mrr_score = calculate_MRR( outputs, labels_list )\n",
    "        print(f'MRR: {mrr_score}')\n",
    "        map_score = calculate_MAP( outputs, labels_list )\n",
    "        print(f'MAP: {map_score}')\n",
    "\n",
    "    return torch.mean(torch.tensor(loss_list)),hr_5_rec,hr_list,f1_list,ndcg_list, mrr_score, map_score"
   ]
  },
  {
   "cell_type": "markdown",
   "id": "1abc8fbc",
   "metadata": {},
   "source": [
    "# 完整模型"
   ]
  },
  {
   "cell_type": "code",
   "execution_count": 31,
   "id": "5ad81bac",
   "metadata": {},
   "outputs": [
    {
     "name": "stdout",
     "output_type": "stream",
     "text": [
      "items_count= 3977\n",
      "tensor([1.8808e+00, 2.1423e-01, 4.4003e-01,  ..., 1.5087e-03, 2.0116e-03,\n",
      "        2.2630e-03], device='cuda:0', dtype=torch.float64)\n"
     ]
    }
   ],
   "source": [
    "# 項目總數\n",
    "items_count = confidences.shape[0]\n",
    "print(\"items_count=\",items_count)\n",
    "# 項目出現次數\n",
    "items_frq = Counter(dataset[\"NEW_ITEM_ID\"])\n",
    "# 計算每個項目出現的比例: items_frq/items_count\n",
    "item_weight = torch.tensor( np.array( list(items_frq.values()) )/items_count ).to(device)\n",
    "print(item_weight) # 按照new_item_id順序排列"
   ]
  },
  {
   "cell_type": "markdown",
   "id": "975d9e58",
   "metadata": {},
   "source": [
    "## 加上信賴度矩陣"
   ]
  },
  {
   "cell_type": "code",
   "execution_count": 32,
   "id": "5d571c57",
   "metadata": {},
   "outputs": [
    {
     "data": {
      "text/plain": [
       "tensor([[0.0000, 0.0164, 0.0328,  ..., 0.0000, 0.0000, 0.0000],\n",
       "        [0.0000, 0.0000, 0.0286,  ..., 0.0024, 0.0000, 0.0000],\n",
       "        [0.0000, 0.0000, 0.0000,  ..., 0.0000, 0.0000, 0.0000],\n",
       "        ...,\n",
       "        [0.0000, 0.0000, 0.0000,  ..., 0.0000, 0.0000, 0.0000],\n",
       "        [0.0000, 0.0000, 0.0000,  ..., 0.0000, 0.0000, 0.0000],\n",
       "        [0.0000, 0.0000, 0.0000,  ..., 0.0000, 0.0000, 0.0000]],\n",
       "       device='cuda:0', dtype=torch.float64)"
      ]
     },
     "execution_count": 32,
     "metadata": {},
     "output_type": "execute_result"
    }
   ],
   "source": [
    "# 信賴度矩陣\n",
    "confidences_array = torch.tensor(confidences,dtype=torch.float64).to(device)\n",
    "confidences_array"
   ]
  },
  {
   "cell_type": "code",
   "execution_count": 33,
   "id": "b00066a0",
   "metadata": {},
   "outputs": [],
   "source": [
    "class MyModel01(nn.Module):\n",
    "    def __init__(self, embed_dim, model_dim, hidden_dim, items_count):\n",
    "        super(MyModel01, self).__init__()\n",
    "        self.model_dim = model_dim\n",
    "        self.embedding = nn.Embedding.from_pretrained(weights, freeze=False)\n",
    "        self.embedding.requires_grad = True\n",
    "        self.attn = SelfAttention(embed_dim=embed_dim ,model_dim=model_dim)\n",
    "        #self.linear_transformation = LinearTransformation(embed_dim=embed_dim)\n",
    "        self.model_encoder = TransformerEncoder(d_model=model_dim , num_heads=NUM_HEAD, num_layers=NUM_LAYER)\n",
    "        self.mlp = MLPLayer(model_dim, hidden_dim, items_count ) # 嵌入維度、隱藏層維度、總項目數量\n",
    "        self.relu = nn.ReLU()\n",
    "\n",
    "        \n",
    "    def forward(self, train_input, lengths):\n",
    "        \n",
    "        inputs, attention_mask = [], []\n",
    "\n",
    "        # 為每個用戶的購物籃加上 padding跟 mask\n",
    "        for user in train_input:\n",
    "            # 將購物籃項目 ID 轉換為嵌入向量\n",
    "            batch_features = [ self.embedding(torch.tensor(cart).to(device)) for cart in user ]\n",
    "            # 進行 padding\n",
    "            batch_features = rnn_utils.pad_sequence(batch_features, batch_first=True, padding_value=0)\n",
    "            # 購物籃中項目的遮罩\n",
    "            mask = ~batch_features.sum(dim=-1).ne(0)\n",
    "            inputs.append(batch_features)\n",
    "            attention_mask.append(mask)\n",
    "\n",
    "            \n",
    "        # 進入自注意力，輸出形狀為 (N, basket_size, embed_dim)\n",
    "        basket_embedding_list = []\n",
    "        for i,user_inputs in enumerate(inputs):\n",
    "            basket_embedding_list.append( self.attn(user_inputs,attention_mask[i]) )\n",
    "        \n",
    "        # 進行購物籃的 padding\n",
    "        input_seq = rnn_utils.pad_sequence(basket_embedding_list, batch_first=True, padding_value=0)\n",
    "        \n",
    "        # 進入Transformer\n",
    "        basket_embed = self.model_encoder(input_seq.to(device))\n",
    "        \n",
    "        B_s_list = []\n",
    "        for i, b in enumerate(basket_embed):\n",
    "            basket_size = len(attention_mask[i])\n",
    "            B_s = b[basket_size-1]  # 取得最後一個購物籃向量\n",
    "            B_s_list.append(B_s)\n",
    "\n",
    "        # 進入MLP層\n",
    "        p = self.mlp(torch.stack(B_s_list, dim=0))\n",
    "        pc = (self.relu(p.to(torch.float64))+1e-8) @ confidences_array\n",
    "        pw = torch.mul( p, item_weight )\n",
    "        p_ = torch.mul(BETA, torch.add(pc,pw)) + torch.mul(1-BETA, p.to(torch.float64))\n",
    "        y = p_\n",
    "        Y,indices = torch.topk(y, k=10)\n",
    "        return y,indices"
   ]
  },
  {
   "cell_type": "code",
   "execution_count": 34,
   "id": "88bf8d6f",
   "metadata": {},
   "outputs": [
    {
     "data": {
      "text/plain": [
       "MyModel01(\n",
       "  (embedding): Embedding(3977, 32)\n",
       "  (attn): SelfAttention(\n",
       "    (query_matrix): Linear(in_features=32, out_features=32, bias=True)\n",
       "    (key_matrix): Linear(in_features=32, out_features=32, bias=True)\n",
       "    (value_matrix): Linear(in_features=32, out_features=32, bias=True)\n",
       "    (multihead_attn): MultiheadAttention(\n",
       "      (out_proj): NonDynamicallyQuantizableLinear(in_features=32, out_features=32, bias=True)\n",
       "    )\n",
       "  )\n",
       "  (model_encoder): TransformerEncoder(\n",
       "    (pe): PositionalEncoding(\n",
       "      (dropout): Dropout(p=0.5, inplace=False)\n",
       "    )\n",
       "    (transformer): TransformerEncoder(\n",
       "      (layers): ModuleList(\n",
       "        (0-3): 4 x TransformerEncoderLayer(\n",
       "          (self_attn): MultiheadAttention(\n",
       "            (out_proj): NonDynamicallyQuantizableLinear(in_features=32, out_features=32, bias=True)\n",
       "          )\n",
       "          (linear1): Linear(in_features=32, out_features=2048, bias=True)\n",
       "          (dropout): Dropout(p=0.1, inplace=False)\n",
       "          (linear2): Linear(in_features=2048, out_features=32, bias=True)\n",
       "          (norm1): LayerNorm((32,), eps=1e-05, elementwise_affine=True)\n",
       "          (norm2): LayerNorm((32,), eps=1e-05, elementwise_affine=True)\n",
       "          (dropout1): Dropout(p=0.1, inplace=False)\n",
       "          (dropout2): Dropout(p=0.1, inplace=False)\n",
       "        )\n",
       "      )\n",
       "    )\n",
       "  )\n",
       "  (mlp): MLPLayer(\n",
       "    (hidden): Linear(in_features=32, out_features=128, bias=True)\n",
       "    (norm): BatchNorm1d(128, eps=1e-05, momentum=0.03, affine=True, track_running_stats=True)\n",
       "    (activate): ReLU()\n",
       "    (output): Linear(in_features=128, out_features=3977, bias=True)\n",
       "  )\n",
       "  (relu): ReLU()\n",
       ")"
      ]
     },
     "execution_count": 34,
     "metadata": {},
     "output_type": "execute_result"
    }
   ],
   "source": [
    "my_model = MyModel01(embed_dim=EMBEDDING_DIMENSION, model_dim=MODEL_DIMENSION,  hidden_dim=HIDDEN_DIMENSION,  items_count=items_count ).to(device)\n",
    "optimizer = torch.optim.Adam(my_model.parameters(),lr=LEARNING_RATE)\n",
    "my_model.train()"
   ]
  },
  {
   "cell_type": "code",
   "execution_count": 35,
   "id": "dc547691",
   "metadata": {},
   "outputs": [
    {
     "name": "stderr",
     "output_type": "stream",
     "text": [
      "  0%|          | 2/1913 [00:01<19:32,  1.63it/s]"
     ]
    },
    {
     "name": "stdout",
     "output_type": "stream",
     "text": [
      "Epoch 1: 0% , Loss: 1.574219\n"
     ]
    },
    {
     "name": "stderr",
     "output_type": "stream",
     "text": [
      "  5%|▌         | 101/1913 [00:40<13:59,  2.16it/s]"
     ]
    },
    {
     "name": "stdout",
     "output_type": "stream",
     "text": [
      "Epoch 1: 5% , Loss: 0.734863\n"
     ]
    },
    {
     "name": "stderr",
     "output_type": "stream",
     "text": [
      " 11%|█         | 201/1913 [01:23<11:31,  2.48it/s]"
     ]
    },
    {
     "name": "stdout",
     "output_type": "stream",
     "text": [
      "Epoch 1: 10% , Loss: 0.573730\n"
     ]
    },
    {
     "name": "stderr",
     "output_type": "stream",
     "text": [
      " 16%|█▌        | 301/1913 [02:06<10:43,  2.50it/s]"
     ]
    },
    {
     "name": "stdout",
     "output_type": "stream",
     "text": [
      "Epoch 1: 16% , Loss: 0.516113\n"
     ]
    },
    {
     "name": "stderr",
     "output_type": "stream",
     "text": [
      " 21%|██        | 401/1913 [02:51<10:57,  2.30it/s]"
     ]
    },
    {
     "name": "stdout",
     "output_type": "stream",
     "text": [
      "Epoch 1: 21% , Loss: 0.471680\n"
     ]
    },
    {
     "name": "stderr",
     "output_type": "stream",
     "text": [
      " 26%|██▌       | 501/1913 [03:33<09:40,  2.43it/s]"
     ]
    },
    {
     "name": "stdout",
     "output_type": "stream",
     "text": [
      "Epoch 1: 26% , Loss: 0.435791\n"
     ]
    },
    {
     "name": "stderr",
     "output_type": "stream",
     "text": [
      " 31%|███▏      | 601/1913 [04:15<09:08,  2.39it/s]"
     ]
    },
    {
     "name": "stdout",
     "output_type": "stream",
     "text": [
      "Epoch 1: 31% , Loss: 0.407715\n"
     ]
    },
    {
     "name": "stderr",
     "output_type": "stream",
     "text": [
      " 37%|███▋      | 701/1913 [04:57<09:18,  2.17it/s]"
     ]
    },
    {
     "name": "stdout",
     "output_type": "stream",
     "text": [
      "Epoch 1: 37% , Loss: 0.367432\n"
     ]
    },
    {
     "name": "stderr",
     "output_type": "stream",
     "text": [
      " 42%|████▏     | 801/1913 [05:43<07:44,  2.40it/s]"
     ]
    },
    {
     "name": "stdout",
     "output_type": "stream",
     "text": [
      "Epoch 1: 42% , Loss: 0.340820\n"
     ]
    },
    {
     "name": "stderr",
     "output_type": "stream",
     "text": [
      " 47%|████▋     | 901/1913 [06:25<07:13,  2.33it/s]"
     ]
    },
    {
     "name": "stdout",
     "output_type": "stream",
     "text": [
      "Epoch 1: 47% , Loss: 0.322021\n"
     ]
    },
    {
     "name": "stderr",
     "output_type": "stream",
     "text": [
      " 52%|█████▏    | 1001/1913 [07:09<07:31,  2.02it/s]"
     ]
    },
    {
     "name": "stdout",
     "output_type": "stream",
     "text": [
      "Epoch 1: 52% , Loss: 0.285156\n"
     ]
    },
    {
     "name": "stderr",
     "output_type": "stream",
     "text": [
      " 58%|█████▊    | 1101/1913 [07:53<07:38,  1.77it/s]"
     ]
    },
    {
     "name": "stdout",
     "output_type": "stream",
     "text": [
      "Epoch 1: 58% , Loss: 0.246704\n"
     ]
    },
    {
     "name": "stderr",
     "output_type": "stream",
     "text": [
      " 63%|██████▎   | 1201/1913 [08:41<04:55,  2.41it/s]"
     ]
    },
    {
     "name": "stdout",
     "output_type": "stream",
     "text": [
      "Epoch 1: 63% , Loss: 0.220947\n"
     ]
    },
    {
     "name": "stderr",
     "output_type": "stream",
     "text": [
      " 68%|██████▊   | 1301/1913 [09:27<04:17,  2.38it/s]"
     ]
    },
    {
     "name": "stdout",
     "output_type": "stream",
     "text": [
      "Epoch 1: 68% , Loss: 0.200439\n"
     ]
    },
    {
     "name": "stderr",
     "output_type": "stream",
     "text": [
      " 73%|███████▎  | 1401/1913 [10:14<04:40,  1.82it/s]"
     ]
    },
    {
     "name": "stdout",
     "output_type": "stream",
     "text": [
      "Epoch 1: 73% , Loss: 0.181519\n"
     ]
    },
    {
     "name": "stderr",
     "output_type": "stream",
     "text": [
      " 78%|███████▊  | 1501/1913 [11:01<03:05,  2.23it/s]"
     ]
    },
    {
     "name": "stdout",
     "output_type": "stream",
     "text": [
      "Epoch 1: 78% , Loss: 0.262207\n"
     ]
    },
    {
     "name": "stderr",
     "output_type": "stream",
     "text": [
      " 84%|████████▎ | 1601/1913 [11:46<02:29,  2.08it/s]"
     ]
    },
    {
     "name": "stdout",
     "output_type": "stream",
     "text": [
      "Epoch 1: 84% , Loss: 0.172241\n"
     ]
    },
    {
     "name": "stderr",
     "output_type": "stream",
     "text": [
      " 89%|████████▉ | 1701/1913 [12:35<01:42,  2.07it/s]"
     ]
    },
    {
     "name": "stdout",
     "output_type": "stream",
     "text": [
      "Epoch 1: 89% , Loss: 0.142090\n"
     ]
    },
    {
     "name": "stderr",
     "output_type": "stream",
     "text": [
      " 94%|█████████▍| 1801/1913 [13:21<00:48,  2.31it/s]"
     ]
    },
    {
     "name": "stdout",
     "output_type": "stream",
     "text": [
      "Epoch 1: 94% , Loss: 0.190918\n"
     ]
    },
    {
     "name": "stderr",
     "output_type": "stream",
     "text": [
      " 99%|█████████▉| 1901/1913 [14:10<00:06,  1.94it/s]"
     ]
    },
    {
     "name": "stdout",
     "output_type": "stream",
     "text": [
      "Epoch 1: 99% , Loss: 0.127808\n"
     ]
    },
    {
     "name": "stderr",
     "output_type": "stream",
     "text": [
      "100%|██████████| 1913/1913 [14:15<00:00,  2.23it/s]"
     ]
    },
    {
     "name": "stdout",
     "output_type": "stream",
     "text": [
      "Epoch 1: 100% , Loss: 0.107605\n"
     ]
    },
    {
     "name": "stderr",
     "output_type": "stream",
     "text": [
      "\n"
     ]
    },
    {
     "name": "stdout",
     "output_type": "stream",
     "text": [
      "                      (HR@5: 0.0078, HR@10: 0.0112, HR@20: 0.0157, HR@50: 0.0252)\n",
      "\n",
      "                      (F1-score@5: 0.0094, F1-score@10: 0.0102, F1-score@20: 0.0097, F1-score@50: 0.0083)\n",
      "\n",
      "                      (NDCG@5: 0.0078, NDCG@10: 0.0090, NDCG@20: 0.0083, NDCG@50: 0.0049)\n",
      "\n",
      "MRR: 0.049264338986249115\n",
      "MAP: 0.010062572563510785\n",
      "train_loss= tensor(0.3578)\n",
      "--------------------\n"
     ]
    },
    {
     "name": "stderr",
     "output_type": "stream",
     "text": [
      "100%|██████████| 239/239 [01:14<00:00,  3.22it/s]\n"
     ]
    },
    {
     "name": "stdout",
     "output_type": "stream",
     "text": [
      "                      (HR@5: 0.0003, HR@10: 0.0009, HR@20: 0.0020, HR@50: 0.0093)\n",
      "\n",
      "                      (F1-score@5: 0.0004, F1-score@10: 0.0009, F1-score@20: 0.0015, F1-score@50: 0.0033)\n",
      "\n",
      "                      (NDCG@5: 0.0004, NDCG@10: 0.0006, NDCG@20: 0.0009, NDCG@50: 0.0013)\n",
      "\n",
      "MRR: 0.010870300429664914\n",
      "MAP: 0.0036989085584753912\n",
      "val_loss= tensor(0.1097)\n",
      "--------------------\n"
     ]
    },
    {
     "name": "stderr",
     "output_type": "stream",
     "text": [
      "100%|██████████| 239/239 [01:20<00:00,  2.98it/s]\n"
     ]
    },
    {
     "name": "stdout",
     "output_type": "stream",
     "text": [
      "                      (HR@5: 0.0002, HR@10: 0.0007, HR@20: 0.0024, HR@50: 0.0096)\n",
      "\n",
      "                      (F1-score@5: 0.0002, F1-score@10: 0.0006, F1-score@20: 0.0016, F1-score@50: 0.0034)\n",
      "\n",
      "                      (NDCG@5: 0.0002, NDCG@10: 0.0005, NDCG@20: 0.0009, NDCG@50: 0.0012)\n",
      "\n",
      "MRR: 0.010159379821064247\n",
      "MAP: 0.0036791875091503217\n",
      "--------------------\n",
      "[[1, 0.000176979, 0.00068223453, 0.0023718968, 0.009589323, 0.0002442108875163269, 0.0006268082200194199, 0.0015666954520432085, 0.003426097025787866, 0.00019837253450349785, 0.00046320433560836764, 0.0009358937552035104, 0.001248527919068917, 0.010159379821064247, 0.0036791875091503217, 0.10968425869941711]]\n",
      "-----------------------------------------------------------------------------------------\n"
     ]
    },
    {
     "name": "stderr",
     "output_type": "stream",
     "text": [
      "  0%|          | 1/1913 [00:00<15:50,  2.01it/s]"
     ]
    },
    {
     "name": "stdout",
     "output_type": "stream",
     "text": [
      "Epoch 2: 0% , Loss: 0.124756\n"
     ]
    },
    {
     "name": "stderr",
     "output_type": "stream",
     "text": [
      "  5%|▌         | 101/1913 [00:43<14:59,  2.01it/s]"
     ]
    },
    {
     "name": "stdout",
     "output_type": "stream",
     "text": [
      "Epoch 2: 5% , Loss: 0.117310\n"
     ]
    },
    {
     "name": "stderr",
     "output_type": "stream",
     "text": [
      " 11%|█         | 201/1913 [01:24<10:35,  2.69it/s]"
     ]
    },
    {
     "name": "stdout",
     "output_type": "stream",
     "text": [
      "Epoch 2: 10% , Loss: 0.084778\n"
     ]
    },
    {
     "name": "stderr",
     "output_type": "stream",
     "text": [
      " 16%|█▌        | 301/1913 [02:05<10:41,  2.51it/s]"
     ]
    },
    {
     "name": "stdout",
     "output_type": "stream",
     "text": [
      "Epoch 2: 16% , Loss: 0.089844\n"
     ]
    },
    {
     "name": "stderr",
     "output_type": "stream",
     "text": [
      " 21%|██        | 401/1913 [02:49<14:02,  1.79it/s]"
     ]
    },
    {
     "name": "stdout",
     "output_type": "stream",
     "text": [
      "Epoch 2: 21% , Loss: 0.077515\n"
     ]
    },
    {
     "name": "stderr",
     "output_type": "stream",
     "text": [
      " 26%|██▌       | 501/1913 [03:34<10:06,  2.33it/s]"
     ]
    },
    {
     "name": "stdout",
     "output_type": "stream",
     "text": [
      "Epoch 2: 26% , Loss: 0.084167\n"
     ]
    },
    {
     "name": "stderr",
     "output_type": "stream",
     "text": [
      " 31%|███▏      | 601/1913 [04:19<08:34,  2.55it/s]"
     ]
    },
    {
     "name": "stdout",
     "output_type": "stream",
     "text": [
      "Epoch 2: 31% , Loss: 0.064331\n"
     ]
    },
    {
     "name": "stderr",
     "output_type": "stream",
     "text": [
      " 37%|███▋      | 701/1913 [05:01<07:45,  2.60it/s]"
     ]
    },
    {
     "name": "stdout",
     "output_type": "stream",
     "text": [
      "Epoch 2: 37% , Loss: 0.060150\n"
     ]
    },
    {
     "name": "stderr",
     "output_type": "stream",
     "text": [
      " 42%|████▏     | 801/1913 [05:46<08:10,  2.27it/s]"
     ]
    },
    {
     "name": "stdout",
     "output_type": "stream",
     "text": [
      "Epoch 2: 42% , Loss: 0.054443\n"
     ]
    },
    {
     "name": "stderr",
     "output_type": "stream",
     "text": [
      " 47%|████▋     | 901/1913 [06:32<06:41,  2.52it/s]"
     ]
    },
    {
     "name": "stdout",
     "output_type": "stream",
     "text": [
      "Epoch 2: 47% , Loss: 0.051849\n"
     ]
    },
    {
     "name": "stderr",
     "output_type": "stream",
     "text": [
      " 52%|█████▏    | 1001/1913 [07:16<05:54,  2.57it/s]"
     ]
    },
    {
     "name": "stdout",
     "output_type": "stream",
     "text": [
      "Epoch 2: 52% , Loss: 0.046692\n"
     ]
    },
    {
     "name": "stderr",
     "output_type": "stream",
     "text": [
      " 58%|█████▊    | 1101/1913 [07:59<06:35,  2.06it/s]"
     ]
    },
    {
     "name": "stdout",
     "output_type": "stream",
     "text": [
      "Epoch 2: 58% , Loss: 0.050751\n"
     ]
    },
    {
     "name": "stderr",
     "output_type": "stream",
     "text": [
      " 63%|██████▎   | 1201/1913 [08:46<05:36,  2.11it/s]"
     ]
    },
    {
     "name": "stdout",
     "output_type": "stream",
     "text": [
      "Epoch 2: 63% , Loss: 0.042603\n"
     ]
    },
    {
     "name": "stderr",
     "output_type": "stream",
     "text": [
      " 68%|██████▊   | 1301/1913 [09:35<05:12,  1.96it/s]"
     ]
    },
    {
     "name": "stdout",
     "output_type": "stream",
     "text": [
      "Epoch 2: 68% , Loss: 0.047852\n"
     ]
    },
    {
     "name": "stderr",
     "output_type": "stream",
     "text": [
      " 73%|███████▎  | 1401/1913 [10:21<04:39,  1.84it/s]"
     ]
    },
    {
     "name": "stdout",
     "output_type": "stream",
     "text": [
      "Epoch 2: 73% , Loss: 0.041748\n"
     ]
    },
    {
     "name": "stderr",
     "output_type": "stream",
     "text": [
      " 78%|███████▊  | 1501/1913 [11:07<03:09,  2.18it/s]"
     ]
    },
    {
     "name": "stdout",
     "output_type": "stream",
     "text": [
      "Epoch 2: 78% , Loss: 0.038940\n"
     ]
    },
    {
     "name": "stderr",
     "output_type": "stream",
     "text": [
      " 84%|████████▎ | 1601/1913 [11:51<02:19,  2.23it/s]"
     ]
    },
    {
     "name": "stdout",
     "output_type": "stream",
     "text": [
      "Epoch 2: 84% , Loss: 0.042969\n"
     ]
    },
    {
     "name": "stderr",
     "output_type": "stream",
     "text": [
      " 89%|████████▉ | 1701/1913 [12:39<01:19,  2.67it/s]"
     ]
    },
    {
     "name": "stdout",
     "output_type": "stream",
     "text": [
      "Epoch 2: 89% , Loss: 0.035095\n"
     ]
    },
    {
     "name": "stderr",
     "output_type": "stream",
     "text": [
      " 94%|█████████▍| 1801/1913 [13:24<01:02,  1.79it/s]"
     ]
    },
    {
     "name": "stdout",
     "output_type": "stream",
     "text": [
      "Epoch 2: 94% , Loss: 0.033752\n"
     ]
    },
    {
     "name": "stderr",
     "output_type": "stream",
     "text": [
      " 99%|█████████▉| 1901/1913 [14:13<00:05,  2.21it/s]"
     ]
    },
    {
     "name": "stdout",
     "output_type": "stream",
     "text": [
      "Epoch 2: 99% , Loss: 0.028046\n"
     ]
    },
    {
     "name": "stderr",
     "output_type": "stream",
     "text": [
      "100%|██████████| 1913/1913 [14:18<00:00,  2.23it/s]"
     ]
    },
    {
     "name": "stdout",
     "output_type": "stream",
     "text": [
      "Epoch 2: 100% , Loss: 0.031189\n"
     ]
    },
    {
     "name": "stderr",
     "output_type": "stream",
     "text": [
      "\n"
     ]
    },
    {
     "name": "stdout",
     "output_type": "stream",
     "text": [
      "                      (HR@5: 0.0354, HR@10: 0.0388, HR@20: 0.0433, HR@50: 0.0507)\n",
      "\n",
      "                      (F1-score@5: 0.0414, F1-score@10: 0.0335, F1-score@20: 0.0250, F1-score@50: 0.0152)\n",
      "\n",
      "                      (NDCG@5: 0.0384, NDCG@10: 0.0379, NDCG@20: 0.0296, NDCG@50: 0.0140)\n",
      "\n",
      "MRR: 0.22394760769833907\n",
      "MAP: 0.03040546674921294\n",
      "train_loss= tensor(0.0605)\n",
      "--------------------\n"
     ]
    },
    {
     "name": "stderr",
     "output_type": "stream",
     "text": [
      "100%|██████████| 239/239 [01:15<00:00,  3.17it/s]\n"
     ]
    },
    {
     "name": "stdout",
     "output_type": "stream",
     "text": [
      "                      (HR@5: 0.0608, HR@10: 0.0656, HR@20: 0.0751, HR@50: 0.0848)\n",
      "\n",
      "                      (F1-score@5: 0.0694, F1-score@10: 0.0551, F1-score@20: 0.0424, F1-score@50: 0.0249)\n",
      "\n",
      "                      (NDCG@5: 0.0651, NDCG@10: 0.0602, NDCG@20: 0.0471, NDCG@50: 0.0220)\n",
      "\n",
      "MRR: 0.32880451656044946\n",
      "MAP: 0.051567826851247674\n",
      "val_loss= tensor(0.0305)\n",
      "--------------------\n"
     ]
    },
    {
     "name": "stderr",
     "output_type": "stream",
     "text": [
      "100%|██████████| 239/239 [01:25<00:00,  2.80it/s]\n"
     ]
    },
    {
     "name": "stdout",
     "output_type": "stream",
     "text": [
      "                      (HR@5: 0.0579, HR@10: 0.0652, HR@20: 0.0736, HR@50: 0.0834)\n",
      "\n",
      "                      (F1-score@5: 0.0680, F1-score@10: 0.0564, F1-score@20: 0.0436, F1-score@50: 0.0259)\n",
      "\n",
      "                      (NDCG@5: 0.0622, NDCG@10: 0.0615, NDCG@20: 0.0495, NDCG@50: 0.0228)\n",
      "\n",
      "MRR: 0.3318945877377938\n",
      "MAP: 0.04841510151378556\n",
      "--------------------\n",
      "[[1, 0.000176979, 0.00068223453, 0.0023718968, 0.009589323, 0.0002442108875163269, 0.0006268082200194199, 0.0015666954520432085, 0.003426097025787866, 0.00019837253450349785, 0.00046320433560836764, 0.0009358937552035104, 0.001248527919068917, 0.010159379821064247, 0.0036791875091503217, 0.10968425869941711], [2, 0.0579169, 0.06518013, 0.073646955, 0.0834386, 0.06800952943131663, 0.05641138543697392, 0.043556704831750635, 0.025929251122398904, 0.062218703928688016, 0.06147596937463966, 0.049521951606910225, 0.022845984657224906, 0.3318945877377938, 0.04841510151378556, 0.030537880957126617]]\n",
      "-----------------------------------------------------------------------------------------\n"
     ]
    },
    {
     "name": "stderr",
     "output_type": "stream",
     "text": [
      "  0%|          | 1/1913 [00:00<19:07,  1.67it/s]"
     ]
    },
    {
     "name": "stdout",
     "output_type": "stream",
     "text": [
      "Epoch 3: 0% , Loss: 0.033875\n"
     ]
    },
    {
     "name": "stderr",
     "output_type": "stream",
     "text": [
      "  5%|▌         | 101/1913 [00:43<12:38,  2.39it/s]"
     ]
    },
    {
     "name": "stdout",
     "output_type": "stream",
     "text": [
      "Epoch 3: 5% , Loss: 0.023895\n"
     ]
    },
    {
     "name": "stderr",
     "output_type": "stream",
     "text": [
      " 11%|█         | 201/1913 [01:26<11:42,  2.44it/s]"
     ]
    },
    {
     "name": "stdout",
     "output_type": "stream",
     "text": [
      "Epoch 3: 10% , Loss: 0.022278\n"
     ]
    },
    {
     "name": "stderr",
     "output_type": "stream",
     "text": [
      " 16%|█▌        | 301/1913 [02:09<09:23,  2.86it/s]"
     ]
    },
    {
     "name": "stdout",
     "output_type": "stream",
     "text": [
      "Epoch 3: 16% , Loss: 0.026886\n"
     ]
    },
    {
     "name": "stderr",
     "output_type": "stream",
     "text": [
      " 21%|██        | 401/1913 [02:52<10:06,  2.49it/s]"
     ]
    },
    {
     "name": "stdout",
     "output_type": "stream",
     "text": [
      "Epoch 3: 21% , Loss: 0.025650\n"
     ]
    },
    {
     "name": "stderr",
     "output_type": "stream",
     "text": [
      " 26%|██▌       | 501/1913 [03:38<10:57,  2.15it/s]"
     ]
    },
    {
     "name": "stdout",
     "output_type": "stream",
     "text": [
      "Epoch 3: 26% , Loss: 0.022964\n"
     ]
    },
    {
     "name": "stderr",
     "output_type": "stream",
     "text": [
      " 31%|███▏      | 601/1913 [04:22<10:56,  2.00it/s]"
     ]
    },
    {
     "name": "stdout",
     "output_type": "stream",
     "text": [
      "Epoch 3: 31% , Loss: 0.030472\n"
     ]
    },
    {
     "name": "stderr",
     "output_type": "stream",
     "text": [
      " 37%|███▋      | 701/1913 [05:04<08:28,  2.39it/s]"
     ]
    },
    {
     "name": "stdout",
     "output_type": "stream",
     "text": [
      "Epoch 3: 37% , Loss: 0.022186\n"
     ]
    },
    {
     "name": "stderr",
     "output_type": "stream",
     "text": [
      " 42%|████▏     | 801/1913 [05:48<09:01,  2.06it/s]"
     ]
    },
    {
     "name": "stdout",
     "output_type": "stream",
     "text": [
      "Epoch 3: 42% , Loss: 0.021286\n"
     ]
    },
    {
     "name": "stderr",
     "output_type": "stream",
     "text": [
      " 47%|████▋     | 901/1913 [06:30<06:47,  2.48it/s]"
     ]
    },
    {
     "name": "stdout",
     "output_type": "stream",
     "text": [
      "Epoch 3: 47% , Loss: 0.027786\n"
     ]
    },
    {
     "name": "stderr",
     "output_type": "stream",
     "text": [
      " 52%|█████▏    | 1001/1913 [07:16<07:49,  1.94it/s]"
     ]
    },
    {
     "name": "stdout",
     "output_type": "stream",
     "text": [
      "Epoch 3: 52% , Loss: 0.022751\n"
     ]
    },
    {
     "name": "stderr",
     "output_type": "stream",
     "text": [
      " 58%|█████▊    | 1101/1913 [07:59<08:27,  1.60it/s]"
     ]
    },
    {
     "name": "stdout",
     "output_type": "stream",
     "text": [
      "Epoch 3: 58% , Loss: 0.029892\n"
     ]
    },
    {
     "name": "stderr",
     "output_type": "stream",
     "text": [
      " 63%|██████▎   | 1201/1913 [08:44<05:32,  2.14it/s]"
     ]
    },
    {
     "name": "stdout",
     "output_type": "stream",
     "text": [
      "Epoch 3: 63% , Loss: 0.016846\n"
     ]
    },
    {
     "name": "stderr",
     "output_type": "stream",
     "text": [
      " 68%|██████▊   | 1301/1913 [09:30<04:25,  2.31it/s]"
     ]
    },
    {
     "name": "stdout",
     "output_type": "stream",
     "text": [
      "Epoch 3: 68% , Loss: 0.017365\n"
     ]
    },
    {
     "name": "stderr",
     "output_type": "stream",
     "text": [
      " 73%|███████▎  | 1401/1913 [10:15<03:59,  2.13it/s]"
     ]
    },
    {
     "name": "stdout",
     "output_type": "stream",
     "text": [
      "Epoch 3: 73% , Loss: 0.016571\n"
     ]
    },
    {
     "name": "stderr",
     "output_type": "stream",
     "text": [
      " 78%|███████▊  | 1501/1913 [11:03<03:40,  1.87it/s]"
     ]
    },
    {
     "name": "stdout",
     "output_type": "stream",
     "text": [
      "Epoch 3: 78% , Loss: 0.021820\n"
     ]
    },
    {
     "name": "stderr",
     "output_type": "stream",
     "text": [
      " 84%|████████▎ | 1601/1913 [11:49<02:23,  2.18it/s]"
     ]
    },
    {
     "name": "stdout",
     "output_type": "stream",
     "text": [
      "Epoch 3: 84% , Loss: 0.015388\n"
     ]
    },
    {
     "name": "stderr",
     "output_type": "stream",
     "text": [
      " 89%|████████▉ | 1701/1913 [12:36<01:33,  2.26it/s]"
     ]
    },
    {
     "name": "stdout",
     "output_type": "stream",
     "text": [
      "Epoch 3: 89% , Loss: 0.016525\n"
     ]
    },
    {
     "name": "stderr",
     "output_type": "stream",
     "text": [
      " 94%|█████████▍| 1801/1913 [13:25<00:53,  2.09it/s]"
     ]
    },
    {
     "name": "stdout",
     "output_type": "stream",
     "text": [
      "Epoch 3: 94% , Loss: 0.018860\n"
     ]
    },
    {
     "name": "stderr",
     "output_type": "stream",
     "text": [
      " 99%|█████████▉| 1901/1913 [14:06<00:05,  2.34it/s]"
     ]
    },
    {
     "name": "stdout",
     "output_type": "stream",
     "text": [
      "Epoch 3: 99% , Loss: 0.016937\n"
     ]
    },
    {
     "name": "stderr",
     "output_type": "stream",
     "text": [
      "100%|██████████| 1913/1913 [14:12<00:00,  2.24it/s]"
     ]
    },
    {
     "name": "stdout",
     "output_type": "stream",
     "text": [
      "Epoch 3: 100% , Loss: 0.019806\n"
     ]
    },
    {
     "name": "stderr",
     "output_type": "stream",
     "text": [
      "\n"
     ]
    },
    {
     "name": "stdout",
     "output_type": "stream",
     "text": [
      "                      (HR@5: 0.0670, HR@10: 0.0868, HR@20: 0.1093, HR@50: 0.1376)\n",
      "\n",
      "                      (F1-score@5: 0.0787, F1-score@10: 0.0763, F1-score@20: 0.0653, F1-score@50: 0.0434)\n",
      "\n",
      "                      (NDCG@5: 0.0666, NDCG@10: 0.0720, NDCG@20: 0.0610, NDCG@50: 0.0306)\n",
      "\n",
      "MRR: 0.3435338077230813\n",
      "MAP: 0.060202621772176175\n",
      "train_loss= tensor(0.0232)\n",
      "--------------------\n"
     ]
    },
    {
     "name": "stderr",
     "output_type": "stream",
     "text": [
      "100%|██████████| 239/239 [01:15<00:00,  3.16it/s]\n"
     ]
    },
    {
     "name": "stdout",
     "output_type": "stream",
     "text": [
      "                      (HR@5: 0.0751, HR@10: 0.1008, HR@20: 0.1360, HR@50: 0.1905)\n",
      "\n",
      "                      (F1-score@5: 0.0869, F1-score@10: 0.0863, F1-score@20: 0.0800, F1-score@50: 0.0594)\n",
      "\n",
      "                      (NDCG@5: 0.0750, NDCG@10: 0.0784, NDCG@20: 0.0695, NDCG@50: 0.0370)\n",
      "\n",
      "MRR: 0.3671940375070253\n",
      "MAP: 0.07346320792217816\n",
      "val_loss= tensor(0.0186)\n",
      "--------------------\n"
     ]
    },
    {
     "name": "stderr",
     "output_type": "stream",
     "text": [
      "100%|██████████| 239/239 [01:25<00:00,  2.80it/s]\n"
     ]
    },
    {
     "name": "stdout",
     "output_type": "stream",
     "text": [
      "                      (HR@5: 0.0713, HR@10: 0.0964, HR@20: 0.1360, HR@50: 0.1927)\n",
      "\n",
      "                      (F1-score@5: 0.0849, F1-score@10: 0.0864, F1-score@20: 0.0833, F1-score@50: 0.0625)\n",
      "\n",
      "                      (NDCG@5: 0.0715, NDCG@10: 0.0799, NDCG@20: 0.0734, NDCG@50: 0.0387)\n",
      "\n",
      "MRR: 0.37084067777898605\n",
      "MAP: 0.07050571535528713\n",
      "--------------------\n",
      "[[1, 0.000176979, 0.00068223453, 0.0023718968, 0.009589323, 0.0002442108875163269, 0.0006268082200194199, 0.0015666954520432085, 0.003426097025787866, 0.00019837253450349785, 0.00046320433560836764, 0.0009358937552035104, 0.001248527919068917, 0.010159379821064247, 0.0036791875091503217, 0.10968425869941711], [2, 0.0579169, 0.06518013, 0.073646955, 0.0834386, 0.06800952943131663, 0.05641138543697392, 0.043556704831750635, 0.025929251122398904, 0.062218703928688016, 0.06147596937463966, 0.049521951606910225, 0.022845984657224906, 0.3318945877377938, 0.04841510151378556, 0.030537880957126617], [3, 0.07133058, 0.096410915, 0.13600734, 0.19265828, 0.08492753116137174, 0.08639378021196885, 0.08328652254666667, 0.06253583629041133, 0.07149353576142138, 0.07992946028477556, 0.07335604778315608, 0.03873067027494646, 0.37084067777898605, 0.07050571535528713, 0.01862044632434845]]\n",
      "-----------------------------------------------------------------------------------------\n"
     ]
    },
    {
     "name": "stderr",
     "output_type": "stream",
     "text": [
      "  0%|          | 1/1913 [00:00<19:36,  1.62it/s]"
     ]
    },
    {
     "name": "stdout",
     "output_type": "stream",
     "text": [
      "Epoch 4: 0% , Loss: 0.021103\n"
     ]
    },
    {
     "name": "stderr",
     "output_type": "stream",
     "text": [
      "  5%|▌         | 101/1913 [00:43<13:03,  2.31it/s]"
     ]
    },
    {
     "name": "stdout",
     "output_type": "stream",
     "text": [
      "Epoch 4: 5% , Loss: 0.011757\n"
     ]
    },
    {
     "name": "stderr",
     "output_type": "stream",
     "text": [
      " 11%|█         | 201/1913 [01:25<10:21,  2.75it/s]"
     ]
    },
    {
     "name": "stdout",
     "output_type": "stream",
     "text": [
      "Epoch 4: 10% , Loss: 0.019485\n"
     ]
    },
    {
     "name": "stderr",
     "output_type": "stream",
     "text": [
      " 16%|█▌        | 301/1913 [02:08<14:35,  1.84it/s]"
     ]
    },
    {
     "name": "stdout",
     "output_type": "stream",
     "text": [
      "Epoch 4: 16% , Loss: 0.019440\n"
     ]
    },
    {
     "name": "stderr",
     "output_type": "stream",
     "text": [
      " 21%|██        | 401/1913 [02:53<09:54,  2.54it/s]"
     ]
    },
    {
     "name": "stdout",
     "output_type": "stream",
     "text": [
      "Epoch 4: 21% , Loss: 0.016739\n"
     ]
    },
    {
     "name": "stderr",
     "output_type": "stream",
     "text": [
      " 26%|██▌       | 501/1913 [03:37<08:58,  2.62it/s]"
     ]
    },
    {
     "name": "stdout",
     "output_type": "stream",
     "text": [
      "Epoch 4: 26% , Loss: 0.018555\n"
     ]
    },
    {
     "name": "stderr",
     "output_type": "stream",
     "text": [
      " 31%|███▏      | 601/1913 [04:21<09:44,  2.25it/s]"
     ]
    },
    {
     "name": "stdout",
     "output_type": "stream",
     "text": [
      "Epoch 4: 31% , Loss: 0.016800\n"
     ]
    },
    {
     "name": "stderr",
     "output_type": "stream",
     "text": [
      " 37%|███▋      | 701/1913 [05:07<08:13,  2.46it/s]"
     ]
    },
    {
     "name": "stdout",
     "output_type": "stream",
     "text": [
      "Epoch 4: 37% , Loss: 0.012352\n"
     ]
    },
    {
     "name": "stderr",
     "output_type": "stream",
     "text": [
      " 42%|████▏     | 801/1913 [05:51<09:08,  2.03it/s]"
     ]
    },
    {
     "name": "stdout",
     "output_type": "stream",
     "text": [
      "Epoch 4: 42% , Loss: 0.021530\n"
     ]
    },
    {
     "name": "stderr",
     "output_type": "stream",
     "text": [
      " 47%|████▋     | 901/1913 [06:35<08:23,  2.01it/s]"
     ]
    },
    {
     "name": "stdout",
     "output_type": "stream",
     "text": [
      "Epoch 4: 47% , Loss: 0.017883\n"
     ]
    },
    {
     "name": "stderr",
     "output_type": "stream",
     "text": [
      " 52%|█████▏    | 1001/1913 [07:22<05:52,  2.58it/s]"
     ]
    },
    {
     "name": "stdout",
     "output_type": "stream",
     "text": [
      "Epoch 4: 52% , Loss: 0.018402\n"
     ]
    },
    {
     "name": "stderr",
     "output_type": "stream",
     "text": [
      " 58%|█████▊    | 1101/1913 [08:04<05:40,  2.38it/s]"
     ]
    },
    {
     "name": "stdout",
     "output_type": "stream",
     "text": [
      "Epoch 4: 58% , Loss: 0.019363\n"
     ]
    },
    {
     "name": "stderr",
     "output_type": "stream",
     "text": [
      " 63%|██████▎   | 1201/1913 [08:50<04:52,  2.43it/s]"
     ]
    },
    {
     "name": "stdout",
     "output_type": "stream",
     "text": [
      "Epoch 4: 63% , Loss: 0.015717\n"
     ]
    },
    {
     "name": "stderr",
     "output_type": "stream",
     "text": [
      " 68%|██████▊   | 1301/1913 [09:36<04:38,  2.19it/s]"
     ]
    },
    {
     "name": "stdout",
     "output_type": "stream",
     "text": [
      "Epoch 4: 68% , Loss: 0.017380\n"
     ]
    },
    {
     "name": "stderr",
     "output_type": "stream",
     "text": [
      " 73%|███████▎  | 1401/1913 [10:23<03:13,  2.65it/s]"
     ]
    },
    {
     "name": "stdout",
     "output_type": "stream",
     "text": [
      "Epoch 4: 73% , Loss: 0.012283\n"
     ]
    },
    {
     "name": "stderr",
     "output_type": "stream",
     "text": [
      " 78%|███████▊  | 1501/1913 [11:09<03:04,  2.23it/s]"
     ]
    },
    {
     "name": "stdout",
     "output_type": "stream",
     "text": [
      "Epoch 4: 78% , Loss: 0.013939\n"
     ]
    },
    {
     "name": "stderr",
     "output_type": "stream",
     "text": [
      " 84%|████████▎ | 1601/1913 [11:56<02:29,  2.09it/s]"
     ]
    },
    {
     "name": "stdout",
     "output_type": "stream",
     "text": [
      "Epoch 4: 84% , Loss: 0.013168\n"
     ]
    },
    {
     "name": "stderr",
     "output_type": "stream",
     "text": [
      " 89%|████████▉ | 1701/1913 [12:43<01:56,  1.82it/s]"
     ]
    },
    {
     "name": "stdout",
     "output_type": "stream",
     "text": [
      "Epoch 4: 89% , Loss: 0.017197\n"
     ]
    },
    {
     "name": "stderr",
     "output_type": "stream",
     "text": [
      " 94%|█████████▍| 1801/1913 [13:22<00:41,  2.73it/s]"
     ]
    },
    {
     "name": "stdout",
     "output_type": "stream",
     "text": [
      "Epoch 4: 94% , Loss: 0.011238\n"
     ]
    },
    {
     "name": "stderr",
     "output_type": "stream",
     "text": [
      " 99%|█████████▉| 1901/1913 [14:05<00:04,  2.67it/s]"
     ]
    },
    {
     "name": "stdout",
     "output_type": "stream",
     "text": [
      "Epoch 4: 99% , Loss: 0.013725\n"
     ]
    },
    {
     "name": "stderr",
     "output_type": "stream",
     "text": [
      "100%|██████████| 1913/1913 [14:10<00:00,  2.25it/s]"
     ]
    },
    {
     "name": "stdout",
     "output_type": "stream",
     "text": [
      "Epoch 4: 100% , Loss: 0.012810\n"
     ]
    },
    {
     "name": "stderr",
     "output_type": "stream",
     "text": [
      "\n"
     ]
    },
    {
     "name": "stdout",
     "output_type": "stream",
     "text": [
      "                      (HR@5: 0.0699, HR@10: 0.0957, HR@20: 0.1330, HR@50: 0.2005)\n",
      "\n",
      "                      (F1-score@5: 0.0823, F1-score@10: 0.0842, F1-score@20: 0.0803, F1-score@50: 0.0642)\n",
      "\n",
      "                      (NDCG@5: 0.0682, NDCG@10: 0.0763, NDCG@20: 0.0689, NDCG@50: 0.0384)\n",
      "\n",
      "MRR: 0.353076047475601\n",
      "MAP: 0.0721022348994767\n",
      "train_loss= tensor(0.0177)\n",
      "--------------------\n"
     ]
    },
    {
     "name": "stderr",
     "output_type": "stream",
     "text": [
      "100%|██████████| 239/239 [01:19<00:00,  2.99it/s]\n"
     ]
    },
    {
     "name": "stdout",
     "output_type": "stream",
     "text": [
      "                      (HR@5: 0.0740, HR@10: 0.0994, HR@20: 0.1349, HR@50: 0.2040)\n",
      "\n",
      "                      (F1-score@5: 0.0856, F1-score@10: 0.0853, F1-score@20: 0.0795, F1-score@50: 0.0636)\n",
      "\n",
      "                      (NDCG@5: 0.0745, NDCG@10: 0.0779, NDCG@20: 0.0692, NDCG@50: 0.0382)\n",
      "\n",
      "MRR: 0.3687114564273063\n",
      "MAP: 0.07782844584072919\n",
      "val_loss= tensor(0.0166)\n",
      "--------------------\n"
     ]
    },
    {
     "name": "stderr",
     "output_type": "stream",
     "text": [
      "100%|██████████| 239/239 [01:25<00:00,  2.80it/s]\n"
     ]
    },
    {
     "name": "stdout",
     "output_type": "stream",
     "text": [
      "                      (HR@5: 0.0720, HR@10: 0.0959, HR@20: 0.1354, HR@50: 0.2047)\n",
      "\n",
      "                      (F1-score@5: 0.0857, F1-score@10: 0.0860, F1-score@20: 0.0829, F1-score@50: 0.0670)\n",
      "\n",
      "                      (NDCG@5: 0.0721, NDCG@10: 0.0799, NDCG@20: 0.0733, NDCG@50: 0.0402)\n",
      "\n",
      "MRR: 0.37314840361936735\n",
      "MAP: 0.07559157052402814\n",
      "--------------------\n",
      "[[1, 0.000176979, 0.00068223453, 0.0023718968, 0.009589323, 0.0002442108875163269, 0.0006268082200194199, 0.0015666954520432085, 0.003426097025787866, 0.00019837253450349785, 0.00046320433560836764, 0.0009358937552035104, 0.001248527919068917, 0.010159379821064247, 0.0036791875091503217, 0.10968425869941711], [2, 0.0579169, 0.06518013, 0.073646955, 0.0834386, 0.06800952943131663, 0.05641138543697392, 0.043556704831750635, 0.025929251122398904, 0.062218703928688016, 0.06147596937463966, 0.049521951606910225, 0.022845984657224906, 0.3318945877377938, 0.04841510151378556, 0.030537880957126617], [3, 0.07133058, 0.096410915, 0.13600734, 0.19265828, 0.08492753116137174, 0.08639378021196885, 0.08328652254666667, 0.06253583629041133, 0.07149353576142138, 0.07992946028477556, 0.07335604778315608, 0.03873067027494646, 0.37084067777898605, 0.07050571535528713, 0.01862044632434845], [4, 0.072007574, 0.09592286, 0.13543335, 0.20467827, 0.08571322960351853, 0.08596013076920497, 0.08292583257348879, 0.06696188101234857, 0.07208090234902458, 0.07991856832065031, 0.07330433915030196, 0.04018254222267475, 0.37314840361936735, 0.07559157052402814, 0.016552498564124107]]\n",
      "-----------------------------------------------------------------------------------------\n"
     ]
    },
    {
     "name": "stderr",
     "output_type": "stream",
     "text": [
      "  0%|          | 1/1913 [00:00<18:21,  1.74it/s]"
     ]
    },
    {
     "name": "stdout",
     "output_type": "stream",
     "text": [
      "Epoch 5: 0% , Loss: 0.019974\n"
     ]
    },
    {
     "name": "stderr",
     "output_type": "stream",
     "text": [
      "  5%|▌         | 101/1913 [00:43<14:55,  2.02it/s]"
     ]
    },
    {
     "name": "stdout",
     "output_type": "stream",
     "text": [
      "Epoch 5: 5% , Loss: 0.014984\n"
     ]
    },
    {
     "name": "stderr",
     "output_type": "stream",
     "text": [
      " 11%|█         | 201/1913 [01:26<13:01,  2.19it/s]"
     ]
    },
    {
     "name": "stdout",
     "output_type": "stream",
     "text": [
      "Epoch 5: 10% , Loss: 0.021027\n"
     ]
    },
    {
     "name": "stderr",
     "output_type": "stream",
     "text": [
      " 16%|█▌        | 301/1913 [02:09<11:05,  2.42it/s]"
     ]
    },
    {
     "name": "stdout",
     "output_type": "stream",
     "text": [
      "Epoch 5: 16% , Loss: 0.021606\n"
     ]
    },
    {
     "name": "stderr",
     "output_type": "stream",
     "text": [
      " 21%|██        | 401/1913 [02:52<11:03,  2.28it/s]"
     ]
    },
    {
     "name": "stdout",
     "output_type": "stream",
     "text": [
      "Epoch 5: 21% , Loss: 0.015289\n"
     ]
    },
    {
     "name": "stderr",
     "output_type": "stream",
     "text": [
      " 26%|██▌       | 501/1913 [03:37<10:32,  2.23it/s]"
     ]
    },
    {
     "name": "stdout",
     "output_type": "stream",
     "text": [
      "Epoch 5: 26% , Loss: 0.014893\n"
     ]
    },
    {
     "name": "stderr",
     "output_type": "stream",
     "text": [
      " 31%|███▏      | 601/1913 [04:21<10:03,  2.18it/s]"
     ]
    },
    {
     "name": "stdout",
     "output_type": "stream",
     "text": [
      "Epoch 5: 31% , Loss: 0.014328\n"
     ]
    },
    {
     "name": "stderr",
     "output_type": "stream",
     "text": [
      " 37%|███▋      | 701/1913 [05:05<08:27,  2.39it/s]"
     ]
    },
    {
     "name": "stdout",
     "output_type": "stream",
     "text": [
      "Epoch 5: 37% , Loss: 0.011612\n"
     ]
    },
    {
     "name": "stderr",
     "output_type": "stream",
     "text": [
      " 42%|████▏     | 801/1913 [05:49<07:14,  2.56it/s]"
     ]
    },
    {
     "name": "stdout",
     "output_type": "stream",
     "text": [
      "Epoch 5: 42% , Loss: 0.013550\n"
     ]
    },
    {
     "name": "stderr",
     "output_type": "stream",
     "text": [
      " 47%|████▋     | 901/1913 [06:31<06:58,  2.42it/s]"
     ]
    },
    {
     "name": "stdout",
     "output_type": "stream",
     "text": [
      "Epoch 5: 47% , Loss: 0.011719\n"
     ]
    },
    {
     "name": "stderr",
     "output_type": "stream",
     "text": [
      " 52%|█████▏    | 1001/1913 [07:15<05:48,  2.61it/s]"
     ]
    },
    {
     "name": "stdout",
     "output_type": "stream",
     "text": [
      "Epoch 5: 52% , Loss: 0.018326\n"
     ]
    },
    {
     "name": "stderr",
     "output_type": "stream",
     "text": [
      " 58%|█████▊    | 1101/1913 [08:00<06:20,  2.13it/s]"
     ]
    },
    {
     "name": "stdout",
     "output_type": "stream",
     "text": [
      "Epoch 5: 58% , Loss: 0.019852\n"
     ]
    },
    {
     "name": "stderr",
     "output_type": "stream",
     "text": [
      " 63%|██████▎   | 1201/1913 [08:46<05:10,  2.29it/s]"
     ]
    },
    {
     "name": "stdout",
     "output_type": "stream",
     "text": [
      "Epoch 5: 63% , Loss: 0.028290\n"
     ]
    },
    {
     "name": "stderr",
     "output_type": "stream",
     "text": [
      " 68%|██████▊   | 1301/1913 [09:31<04:05,  2.49it/s]"
     ]
    },
    {
     "name": "stdout",
     "output_type": "stream",
     "text": [
      "Epoch 5: 68% , Loss: 0.018219\n"
     ]
    },
    {
     "name": "stderr",
     "output_type": "stream",
     "text": [
      " 73%|███████▎  | 1401/1913 [10:16<03:22,  2.53it/s]"
     ]
    },
    {
     "name": "stdout",
     "output_type": "stream",
     "text": [
      "Epoch 5: 73% , Loss: 0.016663\n"
     ]
    },
    {
     "name": "stderr",
     "output_type": "stream",
     "text": [
      " 78%|███████▊  | 1501/1913 [11:02<03:42,  1.85it/s]"
     ]
    },
    {
     "name": "stdout",
     "output_type": "stream",
     "text": [
      "Epoch 5: 78% , Loss: 0.023392\n"
     ]
    },
    {
     "name": "stderr",
     "output_type": "stream",
     "text": [
      " 84%|████████▎ | 1601/1913 [11:49<02:43,  1.91it/s]"
     ]
    },
    {
     "name": "stdout",
     "output_type": "stream",
     "text": [
      "Epoch 5: 84% , Loss: 0.017471\n"
     ]
    },
    {
     "name": "stderr",
     "output_type": "stream",
     "text": [
      " 89%|████████▉ | 1701/1913 [12:30<01:38,  2.15it/s]"
     ]
    },
    {
     "name": "stdout",
     "output_type": "stream",
     "text": [
      "Epoch 5: 89% , Loss: 0.014229\n"
     ]
    },
    {
     "name": "stderr",
     "output_type": "stream",
     "text": [
      " 94%|█████████▍| 1801/1913 [13:16<00:49,  2.28it/s]"
     ]
    },
    {
     "name": "stdout",
     "output_type": "stream",
     "text": [
      "Epoch 5: 94% , Loss: 0.020782\n"
     ]
    },
    {
     "name": "stderr",
     "output_type": "stream",
     "text": [
      " 99%|█████████▉| 1901/1913 [14:00<00:05,  2.23it/s]"
     ]
    },
    {
     "name": "stdout",
     "output_type": "stream",
     "text": [
      "Epoch 5: 99% , Loss: 0.018463\n"
     ]
    },
    {
     "name": "stderr",
     "output_type": "stream",
     "text": [
      "100%|██████████| 1913/1913 [14:05<00:00,  2.26it/s]"
     ]
    },
    {
     "name": "stdout",
     "output_type": "stream",
     "text": [
      "Epoch 5: 100% , Loss: 0.016846\n"
     ]
    },
    {
     "name": "stderr",
     "output_type": "stream",
     "text": [
      "\n"
     ]
    },
    {
     "name": "stdout",
     "output_type": "stream",
     "text": [
      "                      (HR@5: 0.0701, HR@10: 0.0953, HR@20: 0.1326, HR@50: 0.2018)\n",
      "\n",
      "                      (F1-score@5: 0.0826, F1-score@10: 0.0840, F1-score@20: 0.0801, F1-score@50: 0.0646)\n",
      "\n",
      "                      (NDCG@5: 0.0685, NDCG@10: 0.0762, NDCG@20: 0.0688, NDCG@50: 0.0385)\n",
      "\n",
      "MRR: 0.3533122552061844\n",
      "MAP: 0.0744252585625239\n",
      "train_loss= tensor(0.0166)\n",
      "--------------------\n"
     ]
    },
    {
     "name": "stderr",
     "output_type": "stream",
     "text": [
      "100%|██████████| 239/239 [01:20<00:00,  2.99it/s]\n"
     ]
    },
    {
     "name": "stdout",
     "output_type": "stream",
     "text": [
      "                      (HR@5: 0.0745, HR@10: 0.0984, HR@20: 0.1375, HR@50: 0.2033)\n",
      "\n",
      "                      (F1-score@5: 0.0861, F1-score@10: 0.0846, F1-score@20: 0.0804, F1-score@50: 0.0634)\n",
      "\n",
      "                      (NDCG@5: 0.0748, NDCG@10: 0.0778, NDCG@20: 0.0694, NDCG@50: 0.0382)\n",
      "\n",
      "MRR: 0.36852644164152654\n",
      "MAP: 0.07878643452797965\n",
      "val_loss= tensor(0.0161)\n",
      "--------------------\n"
     ]
    },
    {
     "name": "stderr",
     "output_type": "stream",
     "text": [
      "100%|██████████| 239/239 [01:25<00:00,  2.80it/s]\n"
     ]
    },
    {
     "name": "stdout",
     "output_type": "stream",
     "text": [
      "                      (HR@5: 0.0714, HR@10: 0.0966, HR@20: 0.1360, HR@50: 0.2073)\n",
      "\n",
      "                      (F1-score@5: 0.0850, F1-score@10: 0.0864, F1-score@20: 0.0833, F1-score@50: 0.0676)\n",
      "\n",
      "                      (NDCG@5: 0.0717, NDCG@10: 0.0799, NDCG@20: 0.0734, NDCG@50: 0.0404)\n",
      "\n",
      "MRR: 0.3725577085668874\n",
      "MAP: 0.0764226944201201\n",
      "--------------------\n",
      "[[1, 0.000176979, 0.00068223453, 0.0023718968, 0.009589323, 0.0002442108875163269, 0.0006268082200194199, 0.0015666954520432085, 0.003426097025787866, 0.00019837253450349785, 0.00046320433560836764, 0.0009358937552035104, 0.001248527919068917, 0.010159379821064247, 0.0036791875091503217, 0.10968425869941711], [2, 0.0579169, 0.06518013, 0.073646955, 0.0834386, 0.06800952943131663, 0.05641138543697392, 0.043556704831750635, 0.025929251122398904, 0.062218703928688016, 0.06147596937463966, 0.049521951606910225, 0.022845984657224906, 0.3318945877377938, 0.04841510151378556, 0.030537880957126617], [3, 0.07133058, 0.096410915, 0.13600734, 0.19265828, 0.08492753116137174, 0.08639378021196885, 0.08328652254666667, 0.06253583629041133, 0.07149353576142138, 0.07992946028477556, 0.07335604778315608, 0.03873067027494646, 0.37084067777898605, 0.07050571535528713, 0.01862044632434845], [4, 0.072007574, 0.09592286, 0.13543335, 0.20467827, 0.08571322960351853, 0.08596013076920497, 0.08292583257348879, 0.06696188101234857, 0.07208090234902458, 0.07991856832065031, 0.07330433915030196, 0.04018254222267475, 0.37314840361936735, 0.07559157052402814, 0.016552498564124107], [5, 0.07143814, 0.09655343, 0.13596232, 0.20727903, 0.08500836419285189, 0.08641077635325635, 0.08327871480341131, 0.06763431268913597, 0.07170713566551491, 0.07994343955936807, 0.07336142521924398, 0.040353252087519054, 0.3725577085668874, 0.0764226944201201, 0.01607443206012249]]\n",
      "-----------------------------------------------------------------------------------------\n"
     ]
    },
    {
     "name": "stderr",
     "output_type": "stream",
     "text": [
      "  0%|          | 1/1913 [00:00<17:14,  1.85it/s]"
     ]
    },
    {
     "name": "stdout",
     "output_type": "stream",
     "text": [
      "Epoch 6: 0% , Loss: 0.011848\n"
     ]
    },
    {
     "name": "stderr",
     "output_type": "stream",
     "text": [
      "  5%|▌         | 101/1913 [00:44<12:02,  2.51it/s]"
     ]
    },
    {
     "name": "stdout",
     "output_type": "stream",
     "text": [
      "Epoch 6: 5% , Loss: 0.020981\n"
     ]
    },
    {
     "name": "stderr",
     "output_type": "stream",
     "text": [
      " 11%|█         | 201/1913 [01:26<12:34,  2.27it/s]"
     ]
    },
    {
     "name": "stdout",
     "output_type": "stream",
     "text": [
      "Epoch 6: 10% , Loss: 0.015358\n"
     ]
    },
    {
     "name": "stderr",
     "output_type": "stream",
     "text": [
      " 16%|█▌        | 301/1913 [02:08<10:30,  2.56it/s]"
     ]
    },
    {
     "name": "stdout",
     "output_type": "stream",
     "text": [
      "Epoch 6: 16% , Loss: 0.011978\n"
     ]
    },
    {
     "name": "stderr",
     "output_type": "stream",
     "text": [
      " 21%|██        | 401/1913 [02:51<11:22,  2.22it/s]"
     ]
    },
    {
     "name": "stdout",
     "output_type": "stream",
     "text": [
      "Epoch 6: 21% , Loss: 0.012779\n"
     ]
    },
    {
     "name": "stderr",
     "output_type": "stream",
     "text": [
      " 26%|██▌       | 501/1913 [03:35<09:42,  2.42it/s]"
     ]
    },
    {
     "name": "stdout",
     "output_type": "stream",
     "text": [
      "Epoch 6: 26% , Loss: 0.019409\n"
     ]
    },
    {
     "name": "stderr",
     "output_type": "stream",
     "text": [
      " 31%|███▏      | 601/1913 [04:18<08:48,  2.48it/s]"
     ]
    },
    {
     "name": "stdout",
     "output_type": "stream",
     "text": [
      "Epoch 6: 31% , Loss: 0.010941\n"
     ]
    },
    {
     "name": "stderr",
     "output_type": "stream",
     "text": [
      " 37%|███▋      | 701/1913 [05:01<07:44,  2.61it/s]"
     ]
    },
    {
     "name": "stdout",
     "output_type": "stream",
     "text": [
      "Epoch 6: 37% , Loss: 0.016052\n"
     ]
    },
    {
     "name": "stderr",
     "output_type": "stream",
     "text": [
      " 42%|████▏     | 801/1913 [05:44<07:25,  2.50it/s]"
     ]
    },
    {
     "name": "stdout",
     "output_type": "stream",
     "text": [
      "Epoch 6: 42% , Loss: 0.014748\n"
     ]
    },
    {
     "name": "stderr",
     "output_type": "stream",
     "text": [
      " 47%|████▋     | 901/1913 [06:29<07:39,  2.20it/s]"
     ]
    },
    {
     "name": "stdout",
     "output_type": "stream",
     "text": [
      "Epoch 6: 47% , Loss: 0.015305\n"
     ]
    },
    {
     "name": "stderr",
     "output_type": "stream",
     "text": [
      " 52%|█████▏    | 1001/1913 [07:15<05:43,  2.66it/s]"
     ]
    },
    {
     "name": "stdout",
     "output_type": "stream",
     "text": [
      "Epoch 6: 52% , Loss: 0.011986\n"
     ]
    },
    {
     "name": "stderr",
     "output_type": "stream",
     "text": [
      " 58%|█████▊    | 1101/1913 [07:56<05:00,  2.70it/s]"
     ]
    },
    {
     "name": "stdout",
     "output_type": "stream",
     "text": [
      "Epoch 6: 58% , Loss: 0.013443\n"
     ]
    },
    {
     "name": "stderr",
     "output_type": "stream",
     "text": [
      " 63%|██████▎   | 1201/1913 [08:44<06:33,  1.81it/s]"
     ]
    },
    {
     "name": "stdout",
     "output_type": "stream",
     "text": [
      "Epoch 6: 63% , Loss: 0.017975\n"
     ]
    },
    {
     "name": "stderr",
     "output_type": "stream",
     "text": [
      " 68%|██████▊   | 1301/1913 [09:28<04:28,  2.28it/s]"
     ]
    },
    {
     "name": "stdout",
     "output_type": "stream",
     "text": [
      "Epoch 6: 68% , Loss: 0.015129\n"
     ]
    },
    {
     "name": "stderr",
     "output_type": "stream",
     "text": [
      " 73%|███████▎  | 1401/1913 [10:17<04:02,  2.12it/s]"
     ]
    },
    {
     "name": "stdout",
     "output_type": "stream",
     "text": [
      "Epoch 6: 73% , Loss: 0.013542\n"
     ]
    },
    {
     "name": "stderr",
     "output_type": "stream",
     "text": [
      " 78%|███████▊  | 1501/1913 [11:05<02:58,  2.31it/s]"
     ]
    },
    {
     "name": "stdout",
     "output_type": "stream",
     "text": [
      "Epoch 6: 78% , Loss: 0.017014\n"
     ]
    },
    {
     "name": "stderr",
     "output_type": "stream",
     "text": [
      " 84%|████████▎ | 1601/1913 [11:47<02:03,  2.53it/s]"
     ]
    },
    {
     "name": "stdout",
     "output_type": "stream",
     "text": [
      "Epoch 6: 84% , Loss: 0.019165\n"
     ]
    },
    {
     "name": "stderr",
     "output_type": "stream",
     "text": [
      " 89%|████████▉ | 1701/1913 [12:30<01:37,  2.16it/s]"
     ]
    },
    {
     "name": "stdout",
     "output_type": "stream",
     "text": [
      "Epoch 6: 89% , Loss: 0.023651\n"
     ]
    },
    {
     "name": "stderr",
     "output_type": "stream",
     "text": [
      " 94%|█████████▍| 1801/1913 [13:14<00:50,  2.21it/s]"
     ]
    },
    {
     "name": "stdout",
     "output_type": "stream",
     "text": [
      "Epoch 6: 94% , Loss: 0.016052\n"
     ]
    },
    {
     "name": "stderr",
     "output_type": "stream",
     "text": [
      " 99%|█████████▉| 1901/1913 [13:59<00:05,  2.16it/s]"
     ]
    },
    {
     "name": "stdout",
     "output_type": "stream",
     "text": [
      "Epoch 6: 99% , Loss: 0.014969\n"
     ]
    },
    {
     "name": "stderr",
     "output_type": "stream",
     "text": [
      "100%|██████████| 1913/1913 [14:05<00:00,  2.26it/s]"
     ]
    },
    {
     "name": "stdout",
     "output_type": "stream",
     "text": [
      "Epoch 6: 100% , Loss: 0.018143\n"
     ]
    },
    {
     "name": "stderr",
     "output_type": "stream",
     "text": [
      "\n"
     ]
    },
    {
     "name": "stdout",
     "output_type": "stream",
     "text": [
      "                      (HR@5: 0.0704, HR@10: 0.0951, HR@20: 0.1323, HR@50: 0.2019)\n",
      "\n",
      "                      (F1-score@5: 0.0828, F1-score@10: 0.0841, F1-score@20: 0.0800, F1-score@50: 0.0645)\n",
      "\n",
      "                      (NDCG@5: 0.0685, NDCG@10: 0.0763, NDCG@20: 0.0688, NDCG@50: 0.0384)\n",
      "\n",
      "MRR: 0.3520888296836471\n",
      "MAP: 0.07472373575749482\n",
      "train_loss= tensor(0.0164)\n",
      "--------------------\n"
     ]
    },
    {
     "name": "stderr",
     "output_type": "stream",
     "text": [
      "100%|██████████| 239/239 [01:19<00:00,  2.99it/s]\n"
     ]
    },
    {
     "name": "stdout",
     "output_type": "stream",
     "text": [
      "                      (HR@5: 0.0740, HR@10: 0.0989, HR@20: 0.1375, HR@50: 0.2017)\n",
      "\n",
      "                      (F1-score@5: 0.0854, F1-score@10: 0.0854, F1-score@20: 0.0807, F1-score@50: 0.0629)\n",
      "\n",
      "                      (NDCG@5: 0.0743, NDCG@10: 0.0778, NDCG@20: 0.0694, NDCG@50: 0.0379)\n",
      "\n",
      "MRR: 0.36709169383656876\n",
      "MAP: 0.07836147415789148\n",
      "val_loss= tensor(0.0159)\n",
      "--------------------\n"
     ]
    },
    {
     "name": "stderr",
     "output_type": "stream",
     "text": [
      "100%|██████████| 239/239 [01:25<00:00,  2.81it/s]\n"
     ]
    },
    {
     "name": "stdout",
     "output_type": "stream",
     "text": [
      "                      (HR@5: 0.0703, HR@10: 0.0958, HR@20: 0.1356, HR@50: 0.2065)\n",
      "\n",
      "                      (F1-score@5: 0.0841, F1-score@10: 0.0856, F1-score@20: 0.0828, F1-score@50: 0.0671)\n",
      "\n",
      "                      (NDCG@5: 0.0710, NDCG@10: 0.0795, NDCG@20: 0.0730, NDCG@50: 0.0401)\n",
      "\n",
      "MRR: 0.3708128080393419\n",
      "MAP: 0.07604838842971748\n",
      "--------------------\n",
      "[[1, 0.000176979, 0.00068223453, 0.0023718968, 0.009589323, 0.0002442108875163269, 0.0006268082200194199, 0.0015666954520432085, 0.003426097025787866, 0.00019837253450349785, 0.00046320433560836764, 0.0009358937552035104, 0.001248527919068917, 0.010159379821064247, 0.0036791875091503217, 0.10968425869941711], [2, 0.0579169, 0.06518013, 0.073646955, 0.0834386, 0.06800952943131663, 0.05641138543697392, 0.043556704831750635, 0.025929251122398904, 0.062218703928688016, 0.06147596937463966, 0.049521951606910225, 0.022845984657224906, 0.3318945877377938, 0.04841510151378556, 0.030537880957126617], [3, 0.07133058, 0.096410915, 0.13600734, 0.19265828, 0.08492753116137174, 0.08639378021196885, 0.08328652254666667, 0.06253583629041133, 0.07149353576142138, 0.07992946028477556, 0.07335604778315608, 0.03873067027494646, 0.37084067777898605, 0.07050571535528713, 0.01862044632434845], [4, 0.072007574, 0.09592286, 0.13543335, 0.20467827, 0.08571322960351853, 0.08596013076920497, 0.08292583257348879, 0.06696188101234857, 0.07208090234902458, 0.07991856832065031, 0.07330433915030196, 0.04018254222267475, 0.37314840361936735, 0.07559157052402814, 0.016552498564124107], [5, 0.07143814, 0.09655343, 0.13596232, 0.20727903, 0.08500836419285189, 0.08641077635325635, 0.08327871480341131, 0.06763431268913597, 0.07170713566551491, 0.07994343955936807, 0.07336142521924398, 0.040353252087519054, 0.3725577085668874, 0.0764226944201201, 0.01607443206012249], [6, 0.07034161, 0.095847405, 0.1355904, 0.20651792, 0.08413951865839134, 0.08556957488838737, 0.08282995580391248, 0.06706828609383886, 0.07099069912516547, 0.0794603837343229, 0.07304718232982516, 0.04007183815933234, 0.3708128080393419, 0.07604838842971748, 0.01594112440943718]]\n",
      "-----------------------------------------------------------------------------------------\n"
     ]
    },
    {
     "name": "stderr",
     "output_type": "stream",
     "text": [
      "  0%|          | 1/1913 [00:00<20:40,  1.54it/s]"
     ]
    },
    {
     "name": "stdout",
     "output_type": "stream",
     "text": [
      "Epoch 7: 0% , Loss: 0.014183\n"
     ]
    },
    {
     "name": "stderr",
     "output_type": "stream",
     "text": [
      "  5%|▌         | 101/1913 [00:44<14:16,  2.12it/s]"
     ]
    },
    {
     "name": "stdout",
     "output_type": "stream",
     "text": [
      "Epoch 7: 5% , Loss: 0.011696\n"
     ]
    },
    {
     "name": "stderr",
     "output_type": "stream",
     "text": [
      " 11%|█         | 201/1913 [01:27<09:52,  2.89it/s]"
     ]
    },
    {
     "name": "stdout",
     "output_type": "stream",
     "text": [
      "Epoch 7: 10% , Loss: 0.016357\n"
     ]
    },
    {
     "name": "stderr",
     "output_type": "stream",
     "text": [
      " 16%|█▌        | 301/1913 [02:10<10:32,  2.55it/s]"
     ]
    },
    {
     "name": "stdout",
     "output_type": "stream",
     "text": [
      "Epoch 7: 16% , Loss: 0.023987\n"
     ]
    },
    {
     "name": "stderr",
     "output_type": "stream",
     "text": [
      " 21%|██        | 401/1913 [02:54<10:08,  2.48it/s]"
     ]
    },
    {
     "name": "stdout",
     "output_type": "stream",
     "text": [
      "Epoch 7: 21% , Loss: 0.014488\n"
     ]
    },
    {
     "name": "stderr",
     "output_type": "stream",
     "text": [
      " 26%|██▌       | 501/1913 [03:39<13:18,  1.77it/s]"
     ]
    },
    {
     "name": "stdout",
     "output_type": "stream",
     "text": [
      "Epoch 7: 26% , Loss: 0.012222\n"
     ]
    },
    {
     "name": "stderr",
     "output_type": "stream",
     "text": [
      " 31%|███▏      | 601/1913 [04:22<07:42,  2.84it/s]"
     ]
    },
    {
     "name": "stdout",
     "output_type": "stream",
     "text": [
      "Epoch 7: 31% , Loss: 0.015762\n"
     ]
    },
    {
     "name": "stderr",
     "output_type": "stream",
     "text": [
      " 37%|███▋      | 701/1913 [05:07<09:42,  2.08it/s]"
     ]
    },
    {
     "name": "stdout",
     "output_type": "stream",
     "text": [
      "Epoch 7: 37% , Loss: 0.016006\n"
     ]
    },
    {
     "name": "stderr",
     "output_type": "stream",
     "text": [
      " 42%|████▏     | 801/1913 [05:49<06:40,  2.78it/s]"
     ]
    },
    {
     "name": "stdout",
     "output_type": "stream",
     "text": [
      "Epoch 7: 42% , Loss: 0.012749\n"
     ]
    },
    {
     "name": "stderr",
     "output_type": "stream",
     "text": [
      " 47%|████▋     | 901/1913 [06:32<08:10,  2.07it/s]"
     ]
    },
    {
     "name": "stdout",
     "output_type": "stream",
     "text": [
      "Epoch 7: 47% , Loss: 0.016602\n"
     ]
    },
    {
     "name": "stderr",
     "output_type": "stream",
     "text": [
      " 52%|█████▏    | 1001/1913 [07:17<05:01,  3.02it/s]"
     ]
    },
    {
     "name": "stdout",
     "output_type": "stream",
     "text": [
      "Epoch 7: 52% , Loss: 0.014313\n"
     ]
    },
    {
     "name": "stderr",
     "output_type": "stream",
     "text": [
      " 58%|█████▊    | 1101/1913 [08:02<06:22,  2.13it/s]"
     ]
    },
    {
     "name": "stdout",
     "output_type": "stream",
     "text": [
      "Epoch 7: 58% , Loss: 0.012802\n"
     ]
    },
    {
     "name": "stderr",
     "output_type": "stream",
     "text": [
      " 63%|██████▎   | 1201/1913 [08:46<04:20,  2.74it/s]"
     ]
    },
    {
     "name": "stdout",
     "output_type": "stream",
     "text": [
      "Epoch 7: 63% , Loss: 0.021393\n"
     ]
    },
    {
     "name": "stderr",
     "output_type": "stream",
     "text": [
      " 68%|██████▊   | 1301/1913 [09:32<04:33,  2.24it/s]"
     ]
    },
    {
     "name": "stdout",
     "output_type": "stream",
     "text": [
      "Epoch 7: 68% , Loss: 0.012184\n"
     ]
    },
    {
     "name": "stderr",
     "output_type": "stream",
     "text": [
      " 73%|███████▎  | 1401/1913 [10:19<03:54,  2.19it/s]"
     ]
    },
    {
     "name": "stdout",
     "output_type": "stream",
     "text": [
      "Epoch 7: 73% , Loss: 0.019043\n"
     ]
    },
    {
     "name": "stderr",
     "output_type": "stream",
     "text": [
      " 78%|███████▊  | 1501/1913 [11:00<02:30,  2.74it/s]"
     ]
    },
    {
     "name": "stdout",
     "output_type": "stream",
     "text": [
      "Epoch 7: 78% , Loss: 0.011871\n"
     ]
    },
    {
     "name": "stderr",
     "output_type": "stream",
     "text": [
      " 84%|████████▎ | 1601/1913 [11:45<02:23,  2.17it/s]"
     ]
    },
    {
     "name": "stdout",
     "output_type": "stream",
     "text": [
      "Epoch 7: 84% , Loss: 0.016830\n"
     ]
    },
    {
     "name": "stderr",
     "output_type": "stream",
     "text": [
      " 89%|████████▉ | 1701/1913 [12:29<01:42,  2.07it/s]"
     ]
    },
    {
     "name": "stdout",
     "output_type": "stream",
     "text": [
      "Epoch 7: 89% , Loss: 0.013840\n"
     ]
    },
    {
     "name": "stderr",
     "output_type": "stream",
     "text": [
      " 94%|█████████▍| 1801/1913 [13:12<00:49,  2.27it/s]"
     ]
    },
    {
     "name": "stdout",
     "output_type": "stream",
     "text": [
      "Epoch 7: 94% , Loss: 0.018906\n"
     ]
    },
    {
     "name": "stderr",
     "output_type": "stream",
     "text": [
      " 99%|█████████▉| 1901/1913 [13:57<00:04,  2.50it/s]"
     ]
    },
    {
     "name": "stdout",
     "output_type": "stream",
     "text": [
      "Epoch 7: 99% , Loss: 0.018173\n"
     ]
    },
    {
     "name": "stderr",
     "output_type": "stream",
     "text": [
      "100%|██████████| 1913/1913 [14:02<00:00,  2.27it/s]"
     ]
    },
    {
     "name": "stdout",
     "output_type": "stream",
     "text": [
      "Epoch 7: 100% , Loss: 0.011627\n"
     ]
    },
    {
     "name": "stderr",
     "output_type": "stream",
     "text": [
      "\n"
     ]
    },
    {
     "name": "stdout",
     "output_type": "stream",
     "text": [
      "                      (HR@5: 0.0701, HR@10: 0.0954, HR@20: 0.1328, HR@50: 0.2020)\n",
      "\n",
      "                      (F1-score@5: 0.0824, F1-score@10: 0.0843, F1-score@20: 0.0802, F1-score@50: 0.0645)\n",
      "\n",
      "                      (NDCG@5: 0.0685, NDCG@10: 0.0766, NDCG@20: 0.0690, NDCG@50: 0.0385)\n",
      "\n",
      "MRR: 0.3536520940038124\n",
      "MAP: 0.07486648661730193\n",
      "train_loss= tensor(0.0163)\n",
      "--------------------\n"
     ]
    },
    {
     "name": "stderr",
     "output_type": "stream",
     "text": [
      "100%|██████████| 239/239 [01:19<00:00,  3.00it/s]\n"
     ]
    },
    {
     "name": "stdout",
     "output_type": "stream",
     "text": [
      "                      (HR@5: 0.0730, HR@10: 0.0981, HR@20: 0.1373, HR@50: 0.2027)\n",
      "\n",
      "                      (F1-score@5: 0.0845, F1-score@10: 0.0847, F1-score@20: 0.0809, F1-score@50: 0.0632)\n",
      "\n",
      "                      (NDCG@5: 0.0742, NDCG@10: 0.0777, NDCG@20: 0.0696, NDCG@50: 0.0381)\n",
      "\n",
      "MRR: 0.36675994291413727\n",
      "MAP: 0.07870440602415428\n",
      "val_loss= tensor(0.0159)\n",
      "--------------------\n"
     ]
    },
    {
     "name": "stderr",
     "output_type": "stream",
     "text": [
      "100%|██████████| 239/239 [01:25<00:00,  2.80it/s]\n"
     ]
    },
    {
     "name": "stdout",
     "output_type": "stream",
     "text": [
      "                      (HR@5: 0.0709, HR@10: 0.0950, HR@20: 0.1354, HR@50: 0.2051)\n",
      "\n",
      "                      (F1-score@5: 0.0846, F1-score@10: 0.0854, F1-score@20: 0.0827, F1-score@50: 0.0669)\n",
      "\n",
      "                      (NDCG@5: 0.0714, NDCG@10: 0.0795, NDCG@20: 0.0731, NDCG@50: 0.0401)\n",
      "\n",
      "MRR: 0.3721486949037149\n",
      "MAP: 0.07620681321331764\n",
      "--------------------\n",
      "[[1, 0.000176979, 0.00068223453, 0.0023718968, 0.009589323, 0.0002442108875163269, 0.0006268082200194199, 0.0015666954520432085, 0.003426097025787866, 0.00019837253450349785, 0.00046320433560836764, 0.0009358937552035104, 0.001248527919068917, 0.010159379821064247, 0.0036791875091503217, 0.10968425869941711], [2, 0.0579169, 0.06518013, 0.073646955, 0.0834386, 0.06800952943131663, 0.05641138543697392, 0.043556704831750635, 0.025929251122398904, 0.062218703928688016, 0.06147596937463966, 0.049521951606910225, 0.022845984657224906, 0.3318945877377938, 0.04841510151378556, 0.030537880957126617], [3, 0.07133058, 0.096410915, 0.13600734, 0.19265828, 0.08492753116137174, 0.08639378021196885, 0.08328652254666667, 0.06253583629041133, 0.07149353576142138, 0.07992946028477556, 0.07335604778315608, 0.03873067027494646, 0.37084067777898605, 0.07050571535528713, 0.01862044632434845], [4, 0.072007574, 0.09592286, 0.13543335, 0.20467827, 0.08571322960351853, 0.08596013076920497, 0.08292583257348879, 0.06696188101234857, 0.07208090234902458, 0.07991856832065031, 0.07330433915030196, 0.04018254222267475, 0.37314840361936735, 0.07559157052402814, 0.016552498564124107], [5, 0.07143814, 0.09655343, 0.13596232, 0.20727903, 0.08500836419285189, 0.08641077635325635, 0.08327871480341131, 0.06763431268913597, 0.07170713566551491, 0.07994343955936807, 0.07336142521924398, 0.040353252087519054, 0.3725577085668874, 0.0764226944201201, 0.01607443206012249], [6, 0.07034161, 0.095847405, 0.1355904, 0.20651792, 0.08413951865839134, 0.08556957488838737, 0.08282995580391248, 0.06706828609383886, 0.07099069912516547, 0.0794603837343229, 0.07304718232982516, 0.04007183815933234, 0.3708128080393419, 0.07604838842971748, 0.01594112440943718], [7, 0.07088172, 0.095006265, 0.13541955, 0.20505267, 0.08463074103580033, 0.0854007336848504, 0.08267942496593211, 0.06685463036746739, 0.07142290190957237, 0.07947097723586602, 0.07308573166305925, 0.04011256272600629, 0.3721486949037149, 0.07620681321331764, 0.015928132459521294]]\n",
      "-----------------------------------------------------------------------------------------\n"
     ]
    },
    {
     "name": "stderr",
     "output_type": "stream",
     "text": [
      "  0%|          | 1/1913 [00:00<16:23,  1.94it/s]"
     ]
    },
    {
     "name": "stdout",
     "output_type": "stream",
     "text": [
      "Epoch 8: 0% , Loss: 0.010895\n"
     ]
    },
    {
     "name": "stderr",
     "output_type": "stream",
     "text": [
      "  5%|▌         | 101/1913 [00:40<11:43,  2.57it/s]"
     ]
    },
    {
     "name": "stdout",
     "output_type": "stream",
     "text": [
      "Epoch 8: 5% , Loss: 0.010193\n"
     ]
    },
    {
     "name": "stderr",
     "output_type": "stream",
     "text": [
      " 11%|█         | 201/1913 [01:25<13:31,  2.11it/s]"
     ]
    },
    {
     "name": "stdout",
     "output_type": "stream",
     "text": [
      "Epoch 8: 10% , Loss: 0.012604\n"
     ]
    },
    {
     "name": "stderr",
     "output_type": "stream",
     "text": [
      " 16%|█▌        | 301/1913 [02:08<11:31,  2.33it/s]"
     ]
    },
    {
     "name": "stdout",
     "output_type": "stream",
     "text": [
      "Epoch 8: 16% , Loss: 0.013588\n"
     ]
    },
    {
     "name": "stderr",
     "output_type": "stream",
     "text": [
      " 21%|██        | 401/1913 [02:51<11:09,  2.26it/s]"
     ]
    },
    {
     "name": "stdout",
     "output_type": "stream",
     "text": [
      "Epoch 8: 21% , Loss: 0.019562\n"
     ]
    },
    {
     "name": "stderr",
     "output_type": "stream",
     "text": [
      " 26%|██▌       | 501/1913 [03:35<09:02,  2.60it/s]"
     ]
    },
    {
     "name": "stdout",
     "output_type": "stream",
     "text": [
      "Epoch 8: 26% , Loss: 0.010300\n"
     ]
    },
    {
     "name": "stderr",
     "output_type": "stream",
     "text": [
      " 31%|███▏      | 601/1913 [04:20<09:02,  2.42it/s]"
     ]
    },
    {
     "name": "stdout",
     "output_type": "stream",
     "text": [
      "Epoch 8: 31% , Loss: 0.019257\n"
     ]
    },
    {
     "name": "stderr",
     "output_type": "stream",
     "text": [
      " 37%|███▋      | 701/1913 [05:04<08:37,  2.34it/s]"
     ]
    },
    {
     "name": "stdout",
     "output_type": "stream",
     "text": [
      "Epoch 8: 37% , Loss: 0.016617\n"
     ]
    },
    {
     "name": "stderr",
     "output_type": "stream",
     "text": [
      " 42%|████▏     | 801/1913 [05:48<08:33,  2.17it/s]"
     ]
    },
    {
     "name": "stdout",
     "output_type": "stream",
     "text": [
      "Epoch 8: 42% , Loss: 0.012947\n"
     ]
    },
    {
     "name": "stderr",
     "output_type": "stream",
     "text": [
      " 47%|████▋     | 901/1913 [06:34<09:18,  1.81it/s]"
     ]
    },
    {
     "name": "stdout",
     "output_type": "stream",
     "text": [
      "Epoch 8: 47% , Loss: 0.014664\n"
     ]
    },
    {
     "name": "stderr",
     "output_type": "stream",
     "text": [
      " 52%|█████▏    | 1001/1913 [07:18<07:19,  2.07it/s]"
     ]
    },
    {
     "name": "stdout",
     "output_type": "stream",
     "text": [
      "Epoch 8: 52% , Loss: 0.019653\n"
     ]
    },
    {
     "name": "stderr",
     "output_type": "stream",
     "text": [
      " 58%|█████▊    | 1101/1913 [08:04<05:30,  2.46it/s]"
     ]
    },
    {
     "name": "stdout",
     "output_type": "stream",
     "text": [
      "Epoch 8: 58% , Loss: 0.014503\n"
     ]
    },
    {
     "name": "stderr",
     "output_type": "stream",
     "text": [
      " 63%|██████▎   | 1201/1913 [08:50<05:15,  2.26it/s]"
     ]
    },
    {
     "name": "stdout",
     "output_type": "stream",
     "text": [
      "Epoch 8: 63% , Loss: 0.011475\n"
     ]
    },
    {
     "name": "stderr",
     "output_type": "stream",
     "text": [
      " 68%|██████▊   | 1301/1913 [09:34<04:15,  2.40it/s]"
     ]
    },
    {
     "name": "stdout",
     "output_type": "stream",
     "text": [
      "Epoch 8: 68% , Loss: 0.018417\n"
     ]
    },
    {
     "name": "stderr",
     "output_type": "stream",
     "text": [
      " 73%|███████▎  | 1401/1913 [10:17<02:27,  3.48it/s]"
     ]
    },
    {
     "name": "stdout",
     "output_type": "stream",
     "text": [
      "Epoch 8: 73% , Loss: 0.016083\n"
     ]
    },
    {
     "name": "stderr",
     "output_type": "stream",
     "text": [
      " 78%|███████▊  | 1501/1913 [10:58<02:43,  2.52it/s]"
     ]
    },
    {
     "name": "stdout",
     "output_type": "stream",
     "text": [
      "Epoch 8: 78% , Loss: 0.019333\n"
     ]
    },
    {
     "name": "stderr",
     "output_type": "stream",
     "text": [
      " 84%|████████▎ | 1601/1913 [11:44<02:26,  2.13it/s]"
     ]
    },
    {
     "name": "stdout",
     "output_type": "stream",
     "text": [
      "Epoch 8: 84% , Loss: 0.013115\n"
     ]
    },
    {
     "name": "stderr",
     "output_type": "stream",
     "text": [
      " 89%|████████▉ | 1701/1913 [12:27<01:22,  2.58it/s]"
     ]
    },
    {
     "name": "stdout",
     "output_type": "stream",
     "text": [
      "Epoch 8: 89% , Loss: 0.017151\n"
     ]
    },
    {
     "name": "stderr",
     "output_type": "stream",
     "text": [
      " 94%|█████████▍| 1801/1913 [13:11<00:46,  2.43it/s]"
     ]
    },
    {
     "name": "stdout",
     "output_type": "stream",
     "text": [
      "Epoch 8: 94% , Loss: 0.021408\n"
     ]
    },
    {
     "name": "stderr",
     "output_type": "stream",
     "text": [
      " 99%|█████████▉| 1901/1913 [13:56<00:06,  1.99it/s]"
     ]
    },
    {
     "name": "stdout",
     "output_type": "stream",
     "text": [
      "Epoch 8: 99% , Loss: 0.016266\n"
     ]
    },
    {
     "name": "stderr",
     "output_type": "stream",
     "text": [
      "100%|██████████| 1913/1913 [14:02<00:00,  2.27it/s]"
     ]
    },
    {
     "name": "stdout",
     "output_type": "stream",
     "text": [
      "Epoch 8: 100% , Loss: 0.011505\n"
     ]
    },
    {
     "name": "stderr",
     "output_type": "stream",
     "text": [
      "\n"
     ]
    },
    {
     "name": "stdout",
     "output_type": "stream",
     "text": [
      "                      (HR@5: 0.0698, HR@10: 0.0955, HR@20: 0.1324, HR@50: 0.2022)\n",
      "\n",
      "                      (F1-score@5: 0.0822, F1-score@10: 0.0843, F1-score@20: 0.0800, F1-score@50: 0.0646)\n",
      "\n",
      "                      (NDCG@5: 0.0684, NDCG@10: 0.0765, NDCG@20: 0.0689, NDCG@50: 0.0385)\n",
      "\n",
      "MRR: 0.3538709170373126\n",
      "MAP: 0.07480300393472085\n",
      "train_loss= tensor(0.0163)\n",
      "--------------------\n"
     ]
    },
    {
     "name": "stderr",
     "output_type": "stream",
     "text": [
      "100%|██████████| 239/239 [01:20<00:00,  2.98it/s]\n"
     ]
    },
    {
     "name": "stdout",
     "output_type": "stream",
     "text": [
      "                      (HR@5: 0.0748, HR@10: 0.0977, HR@20: 0.1370, HR@50: 0.2022)\n",
      "\n",
      "                      (F1-score@5: 0.0865, F1-score@10: 0.0841, F1-score@20: 0.0803, F1-score@50: 0.0633)\n",
      "\n",
      "                      (NDCG@5: 0.0742, NDCG@10: 0.0769, NDCG@20: 0.0689, NDCG@50: 0.0380)\n",
      "\n",
      "MRR: 0.36153044883613095\n",
      "MAP: 0.07783935666274323\n",
      "val_loss= tensor(0.0159)\n",
      "--------------------\n"
     ]
    },
    {
     "name": "stderr",
     "output_type": "stream",
     "text": [
      "100%|██████████| 239/239 [01:25<00:00,  2.79it/s]\n"
     ]
    },
    {
     "name": "stdout",
     "output_type": "stream",
     "text": [
      "                      (HR@5: 0.0714, HR@10: 0.0954, HR@20: 0.1353, HR@50: 0.2065)\n",
      "\n",
      "                      (F1-score@5: 0.0851, F1-score@10: 0.0857, F1-score@20: 0.0831, F1-score@50: 0.0674)\n",
      "\n",
      "                      (NDCG@5: 0.0708, NDCG@10: 0.0788, NDCG@20: 0.0727, NDCG@50: 0.0400)\n",
      "\n",
      "MRR: 0.3646856504108138\n",
      "MAP: 0.07567804982016839\n",
      "--------------------\n",
      "[[1, 0.000176979, 0.00068223453, 0.0023718968, 0.009589323, 0.0002442108875163269, 0.0006268082200194199, 0.0015666954520432085, 0.003426097025787866, 0.00019837253450349785, 0.00046320433560836764, 0.0009358937552035104, 0.001248527919068917, 0.010159379821064247, 0.0036791875091503217, 0.10968425869941711], [2, 0.0579169, 0.06518013, 0.073646955, 0.0834386, 0.06800952943131663, 0.05641138543697392, 0.043556704831750635, 0.025929251122398904, 0.062218703928688016, 0.06147596937463966, 0.049521951606910225, 0.022845984657224906, 0.3318945877377938, 0.04841510151378556, 0.030537880957126617], [3, 0.07133058, 0.096410915, 0.13600734, 0.19265828, 0.08492753116137174, 0.08639378021196885, 0.08328652254666667, 0.06253583629041133, 0.07149353576142138, 0.07992946028477556, 0.07335604778315608, 0.03873067027494646, 0.37084067777898605, 0.07050571535528713, 0.01862044632434845], [4, 0.072007574, 0.09592286, 0.13543335, 0.20467827, 0.08571322960351853, 0.08596013076920497, 0.08292583257348879, 0.06696188101234857, 0.07208090234902458, 0.07991856832065031, 0.07330433915030196, 0.04018254222267475, 0.37314840361936735, 0.07559157052402814, 0.016552498564124107], [5, 0.07143814, 0.09655343, 0.13596232, 0.20727903, 0.08500836419285189, 0.08641077635325635, 0.08327871480341131, 0.06763431268913597, 0.07170713566551491, 0.07994343955936807, 0.07336142521924398, 0.040353252087519054, 0.3725577085668874, 0.0764226944201201, 0.01607443206012249], [6, 0.07034161, 0.095847405, 0.1355904, 0.20651792, 0.08413951865839134, 0.08556957488838737, 0.08282995580391248, 0.06706828609383886, 0.07099069912516547, 0.0794603837343229, 0.07304718232982516, 0.04007183815933234, 0.3708128080393419, 0.07604838842971748, 0.01594112440943718], [7, 0.07088172, 0.095006265, 0.13541955, 0.20505267, 0.08463074103580033, 0.0854007336848504, 0.08267942496593211, 0.06685463036746739, 0.07142290190957237, 0.07947097723586602, 0.07308573166305925, 0.04011256272600629, 0.3721486949037149, 0.07620681321331764, 0.015928132459521294], [8, 0.071424335, 0.095377676, 0.13529646, 0.20652768, 0.08514377688890037, 0.08567798691491317, 0.08314956313414659, 0.06735135049431228, 0.07084087120411942, 0.07884859760334739, 0.07274992930776904, 0.03998650211225182, 0.3646856504108138, 0.07567804982016839, 0.015926601365208626]]\n",
      "-----------------------------------------------------------------------------------------\n"
     ]
    },
    {
     "name": "stderr",
     "output_type": "stream",
     "text": [
      "  0%|          | 1/1913 [00:00<11:38,  2.74it/s]"
     ]
    },
    {
     "name": "stdout",
     "output_type": "stream",
     "text": [
      "Epoch 9: 0% , Loss: 0.014809\n"
     ]
    },
    {
     "name": "stderr",
     "output_type": "stream",
     "text": [
      "  5%|▌         | 101/1913 [00:43<15:19,  1.97it/s]"
     ]
    },
    {
     "name": "stdout",
     "output_type": "stream",
     "text": [
      "Epoch 9: 5% , Loss: 0.020203\n"
     ]
    },
    {
     "name": "stderr",
     "output_type": "stream",
     "text": [
      " 11%|█         | 201/1913 [01:27<11:44,  2.43it/s]"
     ]
    },
    {
     "name": "stdout",
     "output_type": "stream",
     "text": [
      "Epoch 9: 10% , Loss: 0.021133\n"
     ]
    },
    {
     "name": "stderr",
     "output_type": "stream",
     "text": [
      " 16%|█▌        | 301/1913 [02:09<13:26,  2.00it/s]"
     ]
    },
    {
     "name": "stdout",
     "output_type": "stream",
     "text": [
      "Epoch 9: 16% , Loss: 0.026047\n"
     ]
    },
    {
     "name": "stderr",
     "output_type": "stream",
     "text": [
      " 21%|██        | 401/1913 [02:53<12:58,  1.94it/s]"
     ]
    },
    {
     "name": "stdout",
     "output_type": "stream",
     "text": [
      "Epoch 9: 21% , Loss: 0.024475\n"
     ]
    },
    {
     "name": "stderr",
     "output_type": "stream",
     "text": [
      " 26%|██▌       | 501/1913 [03:37<11:06,  2.12it/s]"
     ]
    },
    {
     "name": "stdout",
     "output_type": "stream",
     "text": [
      "Epoch 9: 26% , Loss: 0.017731\n"
     ]
    },
    {
     "name": "stderr",
     "output_type": "stream",
     "text": [
      " 31%|███▏      | 601/1913 [04:21<09:45,  2.24it/s]"
     ]
    },
    {
     "name": "stdout",
     "output_type": "stream",
     "text": [
      "Epoch 9: 31% , Loss: 0.016861\n"
     ]
    },
    {
     "name": "stderr",
     "output_type": "stream",
     "text": [
      " 37%|███▋      | 701/1913 [05:05<06:34,  3.07it/s]"
     ]
    },
    {
     "name": "stdout",
     "output_type": "stream",
     "text": [
      "Epoch 9: 37% , Loss: 0.019012\n"
     ]
    },
    {
     "name": "stderr",
     "output_type": "stream",
     "text": [
      " 42%|████▏     | 801/1913 [05:48<06:54,  2.69it/s]"
     ]
    },
    {
     "name": "stdout",
     "output_type": "stream",
     "text": [
      "Epoch 9: 42% , Loss: 0.018127\n"
     ]
    },
    {
     "name": "stderr",
     "output_type": "stream",
     "text": [
      " 47%|████▋     | 901/1913 [06:32<09:07,  1.85it/s]"
     ]
    },
    {
     "name": "stdout",
     "output_type": "stream",
     "text": [
      "Epoch 9: 47% , Loss: 0.019714\n"
     ]
    },
    {
     "name": "stderr",
     "output_type": "stream",
     "text": [
      " 52%|█████▏    | 1001/1913 [07:18<08:09,  1.86it/s]"
     ]
    },
    {
     "name": "stdout",
     "output_type": "stream",
     "text": [
      "Epoch 9: 52% , Loss: 0.015556\n"
     ]
    },
    {
     "name": "stderr",
     "output_type": "stream",
     "text": [
      " 58%|█████▊    | 1101/1913 [08:03<05:39,  2.39it/s]"
     ]
    },
    {
     "name": "stdout",
     "output_type": "stream",
     "text": [
      "Epoch 9: 58% , Loss: 0.009926\n"
     ]
    },
    {
     "name": "stderr",
     "output_type": "stream",
     "text": [
      " 63%|██████▎   | 1201/1913 [08:48<04:59,  2.38it/s]"
     ]
    },
    {
     "name": "stdout",
     "output_type": "stream",
     "text": [
      "Epoch 9: 63% , Loss: 0.014320\n"
     ]
    },
    {
     "name": "stderr",
     "output_type": "stream",
     "text": [
      " 68%|██████▊   | 1301/1913 [09:32<04:46,  2.13it/s]"
     ]
    },
    {
     "name": "stdout",
     "output_type": "stream",
     "text": [
      "Epoch 9: 68% , Loss: 0.020248\n"
     ]
    },
    {
     "name": "stderr",
     "output_type": "stream",
     "text": [
      " 73%|███████▎  | 1401/1913 [10:10<03:49,  2.23it/s]"
     ]
    },
    {
     "name": "stdout",
     "output_type": "stream",
     "text": [
      "Epoch 9: 73% , Loss: 0.015259\n"
     ]
    },
    {
     "name": "stderr",
     "output_type": "stream",
     "text": [
      " 78%|███████▊  | 1501/1913 [10:55<03:01,  2.27it/s]"
     ]
    },
    {
     "name": "stdout",
     "output_type": "stream",
     "text": [
      "Epoch 9: 78% , Loss: 0.018646\n"
     ]
    },
    {
     "name": "stderr",
     "output_type": "stream",
     "text": [
      " 84%|████████▎ | 1601/1913 [11:37<02:25,  2.15it/s]"
     ]
    },
    {
     "name": "stdout",
     "output_type": "stream",
     "text": [
      "Epoch 9: 84% , Loss: 0.012535\n"
     ]
    },
    {
     "name": "stderr",
     "output_type": "stream",
     "text": [
      " 89%|████████▉ | 1701/1913 [12:24<01:33,  2.28it/s]"
     ]
    },
    {
     "name": "stdout",
     "output_type": "stream",
     "text": [
      "Epoch 9: 89% , Loss: 0.012901\n"
     ]
    },
    {
     "name": "stderr",
     "output_type": "stream",
     "text": [
      " 94%|█████████▍| 1801/1913 [13:09<00:44,  2.54it/s]"
     ]
    },
    {
     "name": "stdout",
     "output_type": "stream",
     "text": [
      "Epoch 9: 94% , Loss: 0.018265\n"
     ]
    },
    {
     "name": "stderr",
     "output_type": "stream",
     "text": [
      " 99%|█████████▉| 1901/1913 [13:56<00:05,  2.13it/s]"
     ]
    },
    {
     "name": "stdout",
     "output_type": "stream",
     "text": [
      "Epoch 9: 99% , Loss: 0.017075\n"
     ]
    },
    {
     "name": "stderr",
     "output_type": "stream",
     "text": [
      "100%|██████████| 1913/1913 [14:01<00:00,  2.27it/s]"
     ]
    },
    {
     "name": "stdout",
     "output_type": "stream",
     "text": [
      "Epoch 9: 100% , Loss: 0.012169\n"
     ]
    },
    {
     "name": "stderr",
     "output_type": "stream",
     "text": [
      "\n"
     ]
    },
    {
     "name": "stdout",
     "output_type": "stream",
     "text": [
      "                      (HR@5: 0.0703, HR@10: 0.0944, HR@20: 0.1325, HR@50: 0.2012)\n",
      "\n",
      "                      (F1-score@5: 0.0828, F1-score@10: 0.0834, F1-score@20: 0.0799, F1-score@50: 0.0645)\n",
      "\n",
      "                      (NDCG@5: 0.0686, NDCG@10: 0.0761, NDCG@20: 0.0688, NDCG@50: 0.0385)\n",
      "\n",
      "MRR: 0.35409237076215105\n",
      "MAP: 0.07476252122404693\n",
      "train_loss= tensor(0.0163)\n",
      "--------------------\n"
     ]
    },
    {
     "name": "stderr",
     "output_type": "stream",
     "text": [
      "100%|██████████| 239/239 [01:19<00:00,  2.99it/s]\n"
     ]
    },
    {
     "name": "stdout",
     "output_type": "stream",
     "text": [
      "                      (HR@5: 0.0744, HR@10: 0.0997, HR@20: 0.1367, HR@50: 0.2037)\n",
      "\n",
      "                      (F1-score@5: 0.0861, F1-score@10: 0.0856, F1-score@20: 0.0802, F1-score@50: 0.0636)\n",
      "\n",
      "                      (NDCG@5: 0.0738, NDCG@10: 0.0774, NDCG@20: 0.0688, NDCG@50: 0.0380)\n",
      "\n",
      "MRR: 0.3605606483068213\n",
      "MAP: 0.0779163126911742\n",
      "val_loss= tensor(0.0159)\n",
      "--------------------\n"
     ]
    },
    {
     "name": "stderr",
     "output_type": "stream",
     "text": [
      "100%|██████████| 239/239 [01:25<00:00,  2.80it/s]\n"
     ]
    },
    {
     "name": "stdout",
     "output_type": "stream",
     "text": [
      "                      (HR@5: 0.0725, HR@10: 0.0971, HR@20: 0.1365, HR@50: 0.2056)\n",
      "\n",
      "                      (F1-score@5: 0.0861, F1-score@10: 0.0869, F1-score@20: 0.0835, F1-score@50: 0.0672)\n",
      "\n",
      "                      (NDCG@5: 0.0717, NDCG@10: 0.0797, NDCG@20: 0.0731, NDCG@50: 0.0401)\n",
      "\n",
      "MRR: 0.3672760706860293\n",
      "MAP: 0.07619070788088403\n",
      "--------------------\n",
      "[[1, 0.000176979, 0.00068223453, 0.0023718968, 0.009589323, 0.0002442108875163269, 0.0006268082200194199, 0.0015666954520432085, 0.003426097025787866, 0.00019837253450349785, 0.00046320433560836764, 0.0009358937552035104, 0.001248527919068917, 0.010159379821064247, 0.0036791875091503217, 0.10968425869941711], [2, 0.0579169, 0.06518013, 0.073646955, 0.0834386, 0.06800952943131663, 0.05641138543697392, 0.043556704831750635, 0.025929251122398904, 0.062218703928688016, 0.06147596937463966, 0.049521951606910225, 0.022845984657224906, 0.3318945877377938, 0.04841510151378556, 0.030537880957126617], [3, 0.07133058, 0.096410915, 0.13600734, 0.19265828, 0.08492753116137174, 0.08639378021196885, 0.08328652254666667, 0.06253583629041133, 0.07149353576142138, 0.07992946028477556, 0.07335604778315608, 0.03873067027494646, 0.37084067777898605, 0.07050571535528713, 0.01862044632434845], [4, 0.072007574, 0.09592286, 0.13543335, 0.20467827, 0.08571322960351853, 0.08596013076920497, 0.08292583257348879, 0.06696188101234857, 0.07208090234902458, 0.07991856832065031, 0.07330433915030196, 0.04018254222267475, 0.37314840361936735, 0.07559157052402814, 0.016552498564124107], [5, 0.07143814, 0.09655343, 0.13596232, 0.20727903, 0.08500836419285189, 0.08641077635325635, 0.08327871480341131, 0.06763431268913597, 0.07170713566551491, 0.07994343955936807, 0.07336142521924398, 0.040353252087519054, 0.3725577085668874, 0.0764226944201201, 0.01607443206012249], [6, 0.07034161, 0.095847405, 0.1355904, 0.20651792, 0.08413951865839134, 0.08556957488838737, 0.08282995580391248, 0.06706828609383886, 0.07099069912516547, 0.0794603837343229, 0.07304718232982516, 0.04007183815933234, 0.3708128080393419, 0.07604838842971748, 0.01594112440943718], [7, 0.07088172, 0.095006265, 0.13541955, 0.20505267, 0.08463074103580033, 0.0854007336848504, 0.08267942496593211, 0.06685463036746739, 0.07142290190957237, 0.07947097723586602, 0.07308573166305925, 0.04011256272600629, 0.3721486949037149, 0.07620681321331764, 0.015928132459521294], [8, 0.071424335, 0.095377676, 0.13529646, 0.20652768, 0.08514377688890037, 0.08567798691491317, 0.08314956313414659, 0.06735135049431228, 0.07084087120411942, 0.07884859760334739, 0.07274992930776904, 0.03998650211225182, 0.3646856504108138, 0.07567804982016839, 0.015926601365208626], [9, 0.07245165, 0.09710859, 0.13648483, 0.20559047, 0.08613456829996359, 0.08687598765059772, 0.08348326085757561, 0.06719348698159702, 0.07166863028564058, 0.07965110819475048, 0.073120168292365, 0.04009901207022244, 0.3672760706860293, 0.07619070788088403, 0.015935538336634636]]\n",
      "-----------------------------------------------------------------------------------------\n"
     ]
    },
    {
     "name": "stderr",
     "output_type": "stream",
     "text": [
      "  0%|          | 1/1913 [00:00<18:11,  1.75it/s]"
     ]
    },
    {
     "name": "stdout",
     "output_type": "stream",
     "text": [
      "Epoch 10: 0% , Loss: 0.011246\n"
     ]
    },
    {
     "name": "stderr",
     "output_type": "stream",
     "text": [
      "  5%|▌         | 101/1913 [00:42<14:24,  2.09it/s]"
     ]
    },
    {
     "name": "stdout",
     "output_type": "stream",
     "text": [
      "Epoch 10: 5% , Loss: 0.015717\n"
     ]
    },
    {
     "name": "stderr",
     "output_type": "stream",
     "text": [
      " 11%|█         | 201/1913 [01:26<12:30,  2.28it/s]"
     ]
    },
    {
     "name": "stdout",
     "output_type": "stream",
     "text": [
      "Epoch 10: 10% , Loss: 0.012589\n"
     ]
    },
    {
     "name": "stderr",
     "output_type": "stream",
     "text": [
      " 16%|█▌        | 301/1913 [02:11<13:41,  1.96it/s]"
     ]
    },
    {
     "name": "stdout",
     "output_type": "stream",
     "text": [
      "Epoch 10: 16% , Loss: 0.015175\n"
     ]
    },
    {
     "name": "stderr",
     "output_type": "stream",
     "text": [
      " 21%|██        | 401/1913 [02:54<10:48,  2.33it/s]"
     ]
    },
    {
     "name": "stdout",
     "output_type": "stream",
     "text": [
      "Epoch 10: 21% , Loss: 0.019730\n"
     ]
    },
    {
     "name": "stderr",
     "output_type": "stream",
     "text": [
      " 26%|██▌       | 501/1913 [03:37<10:38,  2.21it/s]"
     ]
    },
    {
     "name": "stdout",
     "output_type": "stream",
     "text": [
      "Epoch 10: 26% , Loss: 0.019119\n"
     ]
    },
    {
     "name": "stderr",
     "output_type": "stream",
     "text": [
      " 31%|███▏      | 601/1913 [04:22<09:29,  2.30it/s]"
     ]
    },
    {
     "name": "stdout",
     "output_type": "stream",
     "text": [
      "Epoch 10: 31% , Loss: 0.016373\n"
     ]
    },
    {
     "name": "stderr",
     "output_type": "stream",
     "text": [
      " 37%|███▋      | 701/1913 [05:05<09:31,  2.12it/s]"
     ]
    },
    {
     "name": "stdout",
     "output_type": "stream",
     "text": [
      "Epoch 10: 37% , Loss: 0.012878\n"
     ]
    },
    {
     "name": "stderr",
     "output_type": "stream",
     "text": [
      " 42%|████▏     | 802/1913 [05:50<07:23,  2.51it/s]"
     ]
    },
    {
     "name": "stdout",
     "output_type": "stream",
     "text": [
      "Epoch 10: 42% , Loss: 0.016205\n"
     ]
    },
    {
     "name": "stderr",
     "output_type": "stream",
     "text": [
      " 47%|████▋     | 901/1913 [06:33<06:42,  2.51it/s]"
     ]
    },
    {
     "name": "stdout",
     "output_type": "stream",
     "text": [
      "Epoch 10: 47% , Loss: 0.025818\n"
     ]
    },
    {
     "name": "stderr",
     "output_type": "stream",
     "text": [
      " 52%|█████▏    | 1001/1913 [07:17<07:30,  2.03it/s]"
     ]
    },
    {
     "name": "stdout",
     "output_type": "stream",
     "text": [
      "Epoch 10: 52% , Loss: 0.012421\n"
     ]
    },
    {
     "name": "stderr",
     "output_type": "stream",
     "text": [
      " 58%|█████▊    | 1101/1913 [08:03<06:21,  2.13it/s]"
     ]
    },
    {
     "name": "stdout",
     "output_type": "stream",
     "text": [
      "Epoch 10: 58% , Loss: 0.016861\n"
     ]
    },
    {
     "name": "stderr",
     "output_type": "stream",
     "text": [
      " 63%|██████▎   | 1201/1913 [08:47<05:55,  2.01it/s]"
     ]
    },
    {
     "name": "stdout",
     "output_type": "stream",
     "text": [
      "Epoch 10: 63% , Loss: 0.018311\n"
     ]
    },
    {
     "name": "stderr",
     "output_type": "stream",
     "text": [
      " 68%|██████▊   | 1301/1913 [09:27<04:44,  2.15it/s]"
     ]
    },
    {
     "name": "stdout",
     "output_type": "stream",
     "text": [
      "Epoch 10: 68% , Loss: 0.015640\n"
     ]
    },
    {
     "name": "stderr",
     "output_type": "stream",
     "text": [
      " 73%|███████▎  | 1401/1913 [10:10<03:46,  2.26it/s]"
     ]
    },
    {
     "name": "stdout",
     "output_type": "stream",
     "text": [
      "Epoch 10: 73% , Loss: 0.020950\n"
     ]
    },
    {
     "name": "stderr",
     "output_type": "stream",
     "text": [
      " 78%|███████▊  | 1501/1913 [10:52<02:58,  2.30it/s]"
     ]
    },
    {
     "name": "stdout",
     "output_type": "stream",
     "text": [
      "Epoch 10: 78% , Loss: 0.017502\n"
     ]
    },
    {
     "name": "stderr",
     "output_type": "stream",
     "text": [
      " 84%|████████▎ | 1601/1913 [11:34<01:52,  2.77it/s]"
     ]
    },
    {
     "name": "stdout",
     "output_type": "stream",
     "text": [
      "Epoch 10: 84% , Loss: 0.019913\n"
     ]
    },
    {
     "name": "stderr",
     "output_type": "stream",
     "text": [
      " 89%|████████▉ | 1701/1913 [12:18<01:23,  2.53it/s]"
     ]
    },
    {
     "name": "stdout",
     "output_type": "stream",
     "text": [
      "Epoch 10: 89% , Loss: 0.015793\n"
     ]
    },
    {
     "name": "stderr",
     "output_type": "stream",
     "text": [
      " 94%|█████████▍| 1801/1913 [13:06<00:49,  2.27it/s]"
     ]
    },
    {
     "name": "stdout",
     "output_type": "stream",
     "text": [
      "Epoch 10: 94% , Loss: 0.012985\n"
     ]
    },
    {
     "name": "stderr",
     "output_type": "stream",
     "text": [
      " 99%|█████████▉| 1901/1913 [13:54<00:05,  2.08it/s]"
     ]
    },
    {
     "name": "stdout",
     "output_type": "stream",
     "text": [
      "Epoch 10: 99% , Loss: 0.017578\n"
     ]
    },
    {
     "name": "stderr",
     "output_type": "stream",
     "text": [
      "100%|██████████| 1913/1913 [14:00<00:00,  2.28it/s]"
     ]
    },
    {
     "name": "stdout",
     "output_type": "stream",
     "text": [
      "Epoch 10: 100% , Loss: 0.015106\n"
     ]
    },
    {
     "name": "stderr",
     "output_type": "stream",
     "text": [
      "\n"
     ]
    },
    {
     "name": "stdout",
     "output_type": "stream",
     "text": [
      "                      (HR@5: 0.0702, HR@10: 0.0953, HR@20: 0.1329, HR@50: 0.2023)\n",
      "\n",
      "                      (F1-score@5: 0.0827, F1-score@10: 0.0841, F1-score@20: 0.0802, F1-score@50: 0.0646)\n",
      "\n",
      "                      (NDCG@5: 0.0687, NDCG@10: 0.0765, NDCG@20: 0.0690, NDCG@50: 0.0386)\n",
      "\n",
      "MRR: 0.35519041714171645\n",
      "MAP: 0.07494386494099257\n",
      "train_loss= tensor(0.0163)\n",
      "--------------------\n"
     ]
    },
    {
     "name": "stderr",
     "output_type": "stream",
     "text": [
      "100%|██████████| 239/239 [01:19<00:00,  2.99it/s]\n"
     ]
    },
    {
     "name": "stdout",
     "output_type": "stream",
     "text": [
      "                      (HR@5: 0.0741, HR@10: 0.1008, HR@20: 0.1370, HR@50: 0.2030)\n",
      "\n",
      "                      (F1-score@5: 0.0857, F1-score@10: 0.0865, F1-score@20: 0.0808, F1-score@50: 0.0634)\n",
      "\n",
      "                      (NDCG@5: 0.0745, NDCG@10: 0.0785, NDCG@20: 0.0698, NDCG@50: 0.0383)\n",
      "\n",
      "MRR: 0.3681317931306019\n",
      "MAP: 0.07901969056225426\n",
      "val_loss= tensor(0.0159)\n",
      "--------------------\n"
     ]
    },
    {
     "name": "stderr",
     "output_type": "stream",
     "text": [
      "100%|██████████| 239/239 [01:25<00:00,  2.80it/s]\n"
     ]
    },
    {
     "name": "stdout",
     "output_type": "stream",
     "text": [
      "                      (HR@5: 0.0709, HR@10: 0.0963, HR@20: 0.1351, HR@50: 0.2075)\n",
      "\n",
      "                      (F1-score@5: 0.0847, F1-score@10: 0.0863, F1-score@20: 0.0828, F1-score@50: 0.0676)\n",
      "\n",
      "                      (NDCG@5: 0.0717, NDCG@10: 0.0801, NDCG@20: 0.0733, NDCG@50: 0.0404)\n",
      "\n",
      "MRR: 0.3726021776481638\n",
      "MAP: 0.07668197164023732\n",
      "--------------------\n",
      "[[1, 0.000176979, 0.00068223453, 0.0023718968, 0.009589323, 0.0002442108875163269, 0.0006268082200194199, 0.0015666954520432085, 0.003426097025787866, 0.00019837253450349785, 0.00046320433560836764, 0.0009358937552035104, 0.001248527919068917, 0.010159379821064247, 0.0036791875091503217, 0.10968425869941711], [2, 0.0579169, 0.06518013, 0.073646955, 0.0834386, 0.06800952943131663, 0.05641138543697392, 0.043556704831750635, 0.025929251122398904, 0.062218703928688016, 0.06147596937463966, 0.049521951606910225, 0.022845984657224906, 0.3318945877377938, 0.04841510151378556, 0.030537880957126617], [3, 0.07133058, 0.096410915, 0.13600734, 0.19265828, 0.08492753116137174, 0.08639378021196885, 0.08328652254666667, 0.06253583629041133, 0.07149353576142138, 0.07992946028477556, 0.07335604778315608, 0.03873067027494646, 0.37084067777898605, 0.07050571535528713, 0.01862044632434845], [4, 0.072007574, 0.09592286, 0.13543335, 0.20467827, 0.08571322960351853, 0.08596013076920497, 0.08292583257348879, 0.06696188101234857, 0.07208090234902458, 0.07991856832065031, 0.07330433915030196, 0.04018254222267475, 0.37314840361936735, 0.07559157052402814, 0.016552498564124107], [5, 0.07143814, 0.09655343, 0.13596232, 0.20727903, 0.08500836419285189, 0.08641077635325635, 0.08327871480341131, 0.06763431268913597, 0.07170713566551491, 0.07994343955936807, 0.07336142521924398, 0.040353252087519054, 0.3725577085668874, 0.0764226944201201, 0.01607443206012249], [6, 0.07034161, 0.095847405, 0.1355904, 0.20651792, 0.08413951865839134, 0.08556957488838737, 0.08282995580391248, 0.06706828609383886, 0.07099069912516547, 0.0794603837343229, 0.07304718232982516, 0.04007183815933234, 0.3708128080393419, 0.07604838842971748, 0.01594112440943718], [7, 0.07088172, 0.095006265, 0.13541955, 0.20505267, 0.08463074103580033, 0.0854007336848504, 0.08267942496593211, 0.06685463036746739, 0.07142290190957237, 0.07947097723586602, 0.07308573166305925, 0.04011256272600629, 0.3721486949037149, 0.07620681321331764, 0.015928132459521294], [8, 0.071424335, 0.095377676, 0.13529646, 0.20652768, 0.08514377688890037, 0.08567798691491317, 0.08314956313414659, 0.06735135049431228, 0.07084087120411942, 0.07884859760334739, 0.07274992930776904, 0.03998650211225182, 0.3646856504108138, 0.07567804982016839, 0.015926601365208626], [9, 0.07245165, 0.09710859, 0.13648483, 0.20559047, 0.08613456829996359, 0.08687598765059772, 0.08348326085757561, 0.06719348698159702, 0.07166863028564058, 0.07965110819475048, 0.073120168292365, 0.04009901207022244, 0.3672760706860293, 0.07619070788088403, 0.015935538336634636], [10, 0.070865504, 0.096338354, 0.13511951, 0.20746852, 0.08474914576600148, 0.08627373565019963, 0.08275276927583128, 0.06761860889138666, 0.07168461234410095, 0.08008586437924606, 0.07331110488829909, 0.04038744911582649, 0.3726021776481638, 0.07668197164023732, 0.015949424356222153]]\n",
      "-----------------------------------------------------------------------------------------\n"
     ]
    },
    {
     "name": "stderr",
     "output_type": "stream",
     "text": [
      "  0%|          | 1/1913 [00:00<15:54,  2.00it/s]"
     ]
    },
    {
     "name": "stdout",
     "output_type": "stream",
     "text": [
      "Epoch 11: 0% , Loss: 0.018753\n"
     ]
    },
    {
     "name": "stderr",
     "output_type": "stream",
     "text": [
      "  5%|▌         | 101/1913 [00:44<15:06,  2.00it/s]"
     ]
    },
    {
     "name": "stdout",
     "output_type": "stream",
     "text": [
      "Epoch 11: 5% , Loss: 0.024658\n"
     ]
    },
    {
     "name": "stderr",
     "output_type": "stream",
     "text": [
      " 11%|█         | 201/1913 [01:28<11:55,  2.39it/s]"
     ]
    },
    {
     "name": "stdout",
     "output_type": "stream",
     "text": [
      "Epoch 11: 10% , Loss: 0.011269\n"
     ]
    },
    {
     "name": "stderr",
     "output_type": "stream",
     "text": [
      " 16%|█▌        | 301/1913 [02:10<12:13,  2.20it/s]"
     ]
    },
    {
     "name": "stdout",
     "output_type": "stream",
     "text": [
      "Epoch 11: 16% , Loss: 0.019394\n"
     ]
    },
    {
     "name": "stderr",
     "output_type": "stream",
     "text": [
      " 21%|██        | 401/1913 [02:55<11:52,  2.12it/s]"
     ]
    },
    {
     "name": "stdout",
     "output_type": "stream",
     "text": [
      "Epoch 11: 21% , Loss: 0.014610\n"
     ]
    },
    {
     "name": "stderr",
     "output_type": "stream",
     "text": [
      " 26%|██▌       | 501/1913 [03:37<08:33,  2.75it/s]"
     ]
    },
    {
     "name": "stdout",
     "output_type": "stream",
     "text": [
      "Epoch 11: 26% , Loss: 0.019241\n"
     ]
    },
    {
     "name": "stderr",
     "output_type": "stream",
     "text": [
      " 31%|███▏      | 601/1913 [04:20<09:20,  2.34it/s]"
     ]
    },
    {
     "name": "stdout",
     "output_type": "stream",
     "text": [
      "Epoch 11: 31% , Loss: 0.013634\n"
     ]
    },
    {
     "name": "stderr",
     "output_type": "stream",
     "text": [
      " 37%|███▋      | 701/1913 [05:05<09:30,  2.12it/s]"
     ]
    },
    {
     "name": "stdout",
     "output_type": "stream",
     "text": [
      "Epoch 11: 37% , Loss: 0.014374\n"
     ]
    },
    {
     "name": "stderr",
     "output_type": "stream",
     "text": [
      " 42%|████▏     | 801/1913 [05:48<07:02,  2.63it/s]"
     ]
    },
    {
     "name": "stdout",
     "output_type": "stream",
     "text": [
      "Epoch 11: 42% , Loss: 0.026215\n"
     ]
    },
    {
     "name": "stderr",
     "output_type": "stream",
     "text": [
      " 47%|████▋     | 901/1913 [06:30<06:33,  2.57it/s]"
     ]
    },
    {
     "name": "stdout",
     "output_type": "stream",
     "text": [
      "Epoch 11: 47% , Loss: 0.018906\n"
     ]
    },
    {
     "name": "stderr",
     "output_type": "stream",
     "text": [
      " 52%|█████▏    | 1001/1913 [07:18<07:18,  2.08it/s]"
     ]
    },
    {
     "name": "stdout",
     "output_type": "stream",
     "text": [
      "Epoch 11: 52% , Loss: 0.021637\n"
     ]
    },
    {
     "name": "stderr",
     "output_type": "stream",
     "text": [
      " 58%|█████▊    | 1101/1913 [08:00<05:40,  2.38it/s]"
     ]
    },
    {
     "name": "stdout",
     "output_type": "stream",
     "text": [
      "Epoch 11: 58% , Loss: 0.017395\n"
     ]
    },
    {
     "name": "stderr",
     "output_type": "stream",
     "text": [
      " 63%|██████▎   | 1202/1913 [08:42<02:23,  4.95it/s]"
     ]
    },
    {
     "name": "stdout",
     "output_type": "stream",
     "text": [
      "Epoch 11: 63% , Loss: 0.016403\n"
     ]
    },
    {
     "name": "stderr",
     "output_type": "stream",
     "text": [
      " 68%|██████▊   | 1301/1913 [09:23<04:56,  2.06it/s]"
     ]
    },
    {
     "name": "stdout",
     "output_type": "stream",
     "text": [
      "Epoch 11: 68% , Loss: 0.019958\n"
     ]
    },
    {
     "name": "stderr",
     "output_type": "stream",
     "text": [
      " 73%|███████▎  | 1401/1913 [10:06<04:00,  2.13it/s]"
     ]
    },
    {
     "name": "stdout",
     "output_type": "stream",
     "text": [
      "Epoch 11: 73% , Loss: 0.011993\n"
     ]
    },
    {
     "name": "stderr",
     "output_type": "stream",
     "text": [
      " 78%|███████▊  | 1501/1913 [10:48<03:20,  2.05it/s]"
     ]
    },
    {
     "name": "stdout",
     "output_type": "stream",
     "text": [
      "Epoch 11: 78% , Loss: 0.021011\n"
     ]
    },
    {
     "name": "stderr",
     "output_type": "stream",
     "text": [
      " 84%|████████▎ | 1601/1913 [11:34<02:11,  2.36it/s]"
     ]
    },
    {
     "name": "stdout",
     "output_type": "stream",
     "text": [
      "Epoch 11: 84% , Loss: 0.013618\n"
     ]
    },
    {
     "name": "stderr",
     "output_type": "stream",
     "text": [
      " 89%|████████▉ | 1701/1913 [12:19<01:50,  1.92it/s]"
     ]
    },
    {
     "name": "stdout",
     "output_type": "stream",
     "text": [
      "Epoch 11: 89% , Loss: 0.018356\n"
     ]
    },
    {
     "name": "stderr",
     "output_type": "stream",
     "text": [
      " 94%|█████████▍| 1801/1913 [13:06<01:03,  1.77it/s]"
     ]
    },
    {
     "name": "stdout",
     "output_type": "stream",
     "text": [
      "Epoch 11: 94% , Loss: 0.019562\n"
     ]
    },
    {
     "name": "stderr",
     "output_type": "stream",
     "text": [
      " 99%|█████████▉| 1901/1913 [13:54<00:05,  2.16it/s]"
     ]
    },
    {
     "name": "stdout",
     "output_type": "stream",
     "text": [
      "Epoch 11: 99% , Loss: 0.014206\n"
     ]
    },
    {
     "name": "stderr",
     "output_type": "stream",
     "text": [
      "100%|██████████| 1913/1913 [13:59<00:00,  2.28it/s]"
     ]
    },
    {
     "name": "stdout",
     "output_type": "stream",
     "text": [
      "Epoch 11: 100% , Loss: 0.015945\n"
     ]
    },
    {
     "name": "stderr",
     "output_type": "stream",
     "text": [
      "\n"
     ]
    },
    {
     "name": "stdout",
     "output_type": "stream",
     "text": [
      "                      (HR@5: 0.0703, HR@10: 0.0954, HR@20: 0.1325, HR@50: 0.2019)\n",
      "\n",
      "                      (F1-score@5: 0.0828, F1-score@10: 0.0842, F1-score@20: 0.0801, F1-score@50: 0.0645)\n",
      "\n",
      "                      (NDCG@5: 0.0688, NDCG@10: 0.0767, NDCG@20: 0.0691, NDCG@50: 0.0386)\n",
      "\n",
      "MRR: 0.355945905325436\n",
      "MAP: 0.0750006515196396\n",
      "train_loss= tensor(0.0163)\n",
      "--------------------\n"
     ]
    },
    {
     "name": "stderr",
     "output_type": "stream",
     "text": [
      "100%|██████████| 239/239 [01:19<00:00,  2.99it/s]\n"
     ]
    },
    {
     "name": "stdout",
     "output_type": "stream",
     "text": [
      "                      (HR@5: 0.0737, HR@10: 0.0991, HR@20: 0.1366, HR@50: 0.2039)\n",
      "\n",
      "                      (F1-score@5: 0.0851, F1-score@10: 0.0852, F1-score@20: 0.0802, F1-score@50: 0.0635)\n",
      "\n",
      "                      (NDCG@5: 0.0745, NDCG@10: 0.0779, NDCG@20: 0.0691, NDCG@50: 0.0381)\n",
      "\n",
      "MRR: 0.36710010019075295\n",
      "MAP: 0.07880310849264414\n",
      "val_loss= tensor(0.0160)\n",
      "--------------------\n"
     ]
    },
    {
     "name": "stderr",
     "output_type": "stream",
     "text": [
      "100%|██████████| 239/239 [01:25<00:00,  2.79it/s]\n"
     ]
    },
    {
     "name": "stdout",
     "output_type": "stream",
     "text": [
      "                      (HR@5: 0.0723, HR@10: 0.0956, HR@20: 0.1342, HR@50: 0.2059)\n",
      "\n",
      "                      (F1-score@5: 0.0860, F1-score@10: 0.0854, F1-score@20: 0.0822, F1-score@50: 0.0670)\n",
      "\n",
      "                      (NDCG@5: 0.0721, NDCG@10: 0.0796, NDCG@20: 0.0728, NDCG@50: 0.0401)\n",
      "\n",
      "MRR: 0.370984711374604\n",
      "MAP: 0.07638206663395225\n",
      "--------------------\n",
      "[[1, 0.000176979, 0.00068223453, 0.0023718968, 0.009589323, 0.0002442108875163269, 0.0006268082200194199, 0.0015666954520432085, 0.003426097025787866, 0.00019837253450349785, 0.00046320433560836764, 0.0009358937552035104, 0.001248527919068917, 0.010159379821064247, 0.0036791875091503217, 0.10968425869941711], [2, 0.0579169, 0.06518013, 0.073646955, 0.0834386, 0.06800952943131663, 0.05641138543697392, 0.043556704831750635, 0.025929251122398904, 0.062218703928688016, 0.06147596937463966, 0.049521951606910225, 0.022845984657224906, 0.3318945877377938, 0.04841510151378556, 0.030537880957126617], [3, 0.07133058, 0.096410915, 0.13600734, 0.19265828, 0.08492753116137174, 0.08639378021196885, 0.08328652254666667, 0.06253583629041133, 0.07149353576142138, 0.07992946028477556, 0.07335604778315608, 0.03873067027494646, 0.37084067777898605, 0.07050571535528713, 0.01862044632434845], [4, 0.072007574, 0.09592286, 0.13543335, 0.20467827, 0.08571322960351853, 0.08596013076920497, 0.08292583257348879, 0.06696188101234857, 0.07208090234902458, 0.07991856832065031, 0.07330433915030196, 0.04018254222267475, 0.37314840361936735, 0.07559157052402814, 0.016552498564124107], [5, 0.07143814, 0.09655343, 0.13596232, 0.20727903, 0.08500836419285189, 0.08641077635325635, 0.08327871480341131, 0.06763431268913597, 0.07170713566551491, 0.07994343955936807, 0.07336142521924398, 0.040353252087519054, 0.3725577085668874, 0.0764226944201201, 0.01607443206012249], [6, 0.07034161, 0.095847405, 0.1355904, 0.20651792, 0.08413951865839134, 0.08556957488838737, 0.08282995580391248, 0.06706828609383886, 0.07099069912516547, 0.0794603837343229, 0.07304718232982516, 0.04007183815933234, 0.3708128080393419, 0.07604838842971748, 0.01594112440943718], [7, 0.07088172, 0.095006265, 0.13541955, 0.20505267, 0.08463074103580033, 0.0854007336848504, 0.08267942496593211, 0.06685463036746739, 0.07142290190957237, 0.07947097723586602, 0.07308573166305925, 0.04011256272600629, 0.3721486949037149, 0.07620681321331764, 0.015928132459521294], [8, 0.071424335, 0.095377676, 0.13529646, 0.20652768, 0.08514377688890037, 0.08567798691491317, 0.08314956313414659, 0.06735135049431228, 0.07084087120411942, 0.07884859760334739, 0.07274992930776904, 0.03998650211225182, 0.3646856504108138, 0.07567804982016839, 0.015926601365208626], [9, 0.07245165, 0.09710859, 0.13648483, 0.20559047, 0.08613456829996359, 0.08687598765059772, 0.08348326085757561, 0.06719348698159702, 0.07166863028564058, 0.07965110819475048, 0.073120168292365, 0.04009901207022244, 0.3672760706860293, 0.07619070788088403, 0.015935538336634636], [10, 0.070865504, 0.096338354, 0.13511951, 0.20746852, 0.08474914576600148, 0.08627373565019963, 0.08275276927583128, 0.06761860889138666, 0.07168461234410095, 0.08008586437924606, 0.07331110488829909, 0.04038744911582649, 0.3726021776481638, 0.07668197164023732, 0.015949424356222153], [11, 0.07232518, 0.09561456, 0.1342209, 0.20587724, 0.0859936123829489, 0.08542688244907685, 0.08216856988372298, 0.06702460172546934, 0.07209792659738759, 0.07960046529204869, 0.07281237191454387, 0.04009901652542219, 0.370984711374604, 0.07638206663395225, 0.015974100679159164]]\n",
      "-----------------------------------------------------------------------------------------\n"
     ]
    },
    {
     "name": "stderr",
     "output_type": "stream",
     "text": [
      "  0%|          | 1/1913 [00:00<16:20,  1.95it/s]"
     ]
    },
    {
     "name": "stdout",
     "output_type": "stream",
     "text": [
      "Epoch 12: 0% , Loss: 0.010086\n"
     ]
    },
    {
     "name": "stderr",
     "output_type": "stream",
     "text": [
      "  5%|▌         | 101/1913 [00:44<13:59,  2.16it/s]"
     ]
    },
    {
     "name": "stdout",
     "output_type": "stream",
     "text": [
      "Epoch 12: 5% , Loss: 0.016586\n"
     ]
    },
    {
     "name": "stderr",
     "output_type": "stream",
     "text": [
      " 11%|█         | 201/1913 [01:29<14:17,  2.00it/s]"
     ]
    },
    {
     "name": "stdout",
     "output_type": "stream",
     "text": [
      "Epoch 12: 10% , Loss: 0.024368\n"
     ]
    },
    {
     "name": "stderr",
     "output_type": "stream",
     "text": [
      " 16%|█▌        | 301/1913 [02:12<11:09,  2.41it/s]"
     ]
    },
    {
     "name": "stdout",
     "output_type": "stream",
     "text": [
      "Epoch 12: 16% , Loss: 0.017365\n"
     ]
    },
    {
     "name": "stderr",
     "output_type": "stream",
     "text": [
      " 21%|██        | 401/1913 [02:55<10:54,  2.31it/s]"
     ]
    },
    {
     "name": "stdout",
     "output_type": "stream",
     "text": [
      "Epoch 12: 21% , Loss: 0.018158\n"
     ]
    },
    {
     "name": "stderr",
     "output_type": "stream",
     "text": [
      " 26%|██▌       | 501/1913 [03:38<12:18,  1.91it/s]"
     ]
    },
    {
     "name": "stdout",
     "output_type": "stream",
     "text": [
      "Epoch 12: 26% , Loss: 0.017075\n"
     ]
    },
    {
     "name": "stderr",
     "output_type": "stream",
     "text": [
      " 31%|███▏      | 601/1913 [04:22<09:22,  2.33it/s]"
     ]
    },
    {
     "name": "stdout",
     "output_type": "stream",
     "text": [
      "Epoch 12: 31% , Loss: 0.018127\n"
     ]
    },
    {
     "name": "stderr",
     "output_type": "stream",
     "text": [
      " 37%|███▋      | 701/1913 [05:05<08:15,  2.45it/s]"
     ]
    },
    {
     "name": "stdout",
     "output_type": "stream",
     "text": [
      "Epoch 12: 37% , Loss: 0.021057\n"
     ]
    },
    {
     "name": "stderr",
     "output_type": "stream",
     "text": [
      " 42%|████▏     | 801/1913 [05:48<06:41,  2.77it/s]"
     ]
    },
    {
     "name": "stdout",
     "output_type": "stream",
     "text": [
      "Epoch 12: 42% , Loss: 0.014282\n"
     ]
    },
    {
     "name": "stderr",
     "output_type": "stream",
     "text": [
      " 47%|████▋     | 901/1913 [06:32<07:35,  2.22it/s]"
     ]
    },
    {
     "name": "stdout",
     "output_type": "stream",
     "text": [
      "Epoch 12: 47% , Loss: 0.018158\n"
     ]
    },
    {
     "name": "stderr",
     "output_type": "stream",
     "text": [
      " 52%|█████▏    | 1001/1913 [07:16<06:19,  2.40it/s]"
     ]
    },
    {
     "name": "stdout",
     "output_type": "stream",
     "text": [
      "Epoch 12: 52% , Loss: 0.015419\n"
     ]
    },
    {
     "name": "stderr",
     "output_type": "stream",
     "text": [
      " 58%|█████▊    | 1101/1913 [08:00<06:39,  2.03it/s]"
     ]
    },
    {
     "name": "stdout",
     "output_type": "stream",
     "text": [
      "Epoch 12: 58% , Loss: 0.015175\n"
     ]
    },
    {
     "name": "stderr",
     "output_type": "stream",
     "text": [
      " 63%|██████▎   | 1201/1913 [08:39<05:05,  2.33it/s]"
     ]
    },
    {
     "name": "stdout",
     "output_type": "stream",
     "text": [
      "Epoch 12: 63% , Loss: 0.012825\n"
     ]
    },
    {
     "name": "stderr",
     "output_type": "stream",
     "text": [
      " 68%|██████▊   | 1301/1913 [09:22<05:01,  2.03it/s]"
     ]
    },
    {
     "name": "stdout",
     "output_type": "stream",
     "text": [
      "Epoch 12: 68% , Loss: 0.017609\n"
     ]
    },
    {
     "name": "stderr",
     "output_type": "stream",
     "text": [
      " 73%|███████▎  | 1401/1913 [10:06<03:52,  2.20it/s]"
     ]
    },
    {
     "name": "stdout",
     "output_type": "stream",
     "text": [
      "Epoch 12: 73% , Loss: 0.015404\n"
     ]
    },
    {
     "name": "stderr",
     "output_type": "stream",
     "text": [
      " 78%|███████▊  | 1501/1913 [10:49<03:05,  2.22it/s]"
     ]
    },
    {
     "name": "stdout",
     "output_type": "stream",
     "text": [
      "Epoch 12: 78% , Loss: 0.012604\n"
     ]
    },
    {
     "name": "stderr",
     "output_type": "stream",
     "text": [
      " 84%|████████▎ | 1601/1913 [11:34<03:03,  1.70it/s]"
     ]
    },
    {
     "name": "stdout",
     "output_type": "stream",
     "text": [
      "Epoch 12: 84% , Loss: 0.024338\n"
     ]
    },
    {
     "name": "stderr",
     "output_type": "stream",
     "text": [
      " 89%|████████▉ | 1701/1913 [12:20<01:43,  2.04it/s]"
     ]
    },
    {
     "name": "stdout",
     "output_type": "stream",
     "text": [
      "Epoch 12: 89% , Loss: 0.017563\n"
     ]
    },
    {
     "name": "stderr",
     "output_type": "stream",
     "text": [
      " 94%|█████████▍| 1801/1913 [13:08<00:50,  2.23it/s]"
     ]
    },
    {
     "name": "stdout",
     "output_type": "stream",
     "text": [
      "Epoch 12: 94% , Loss: 0.016724\n"
     ]
    },
    {
     "name": "stderr",
     "output_type": "stream",
     "text": [
      " 99%|█████████▉| 1901/1913 [13:55<00:05,  2.32it/s]"
     ]
    },
    {
     "name": "stdout",
     "output_type": "stream",
     "text": [
      "Epoch 12: 99% , Loss: 0.016251\n"
     ]
    },
    {
     "name": "stderr",
     "output_type": "stream",
     "text": [
      "100%|██████████| 1913/1913 [14:00<00:00,  2.28it/s]"
     ]
    },
    {
     "name": "stdout",
     "output_type": "stream",
     "text": [
      "Epoch 12: 100% , Loss: 0.013725\n"
     ]
    },
    {
     "name": "stderr",
     "output_type": "stream",
     "text": [
      "\n"
     ]
    },
    {
     "name": "stdout",
     "output_type": "stream",
     "text": [
      "                      (HR@5: 0.0703, HR@10: 0.0955, HR@20: 0.1330, HR@50: 0.2016)\n",
      "\n",
      "                      (F1-score@5: 0.0828, F1-score@10: 0.0843, F1-score@20: 0.0803, F1-score@50: 0.0645)\n",
      "\n",
      "                      (NDCG@5: 0.0687, NDCG@10: 0.0765, NDCG@20: 0.0690, NDCG@50: 0.0385)\n",
      "\n",
      "MRR: 0.3542175148821396\n",
      "MAP: 0.07504417458352948\n",
      "train_loss= tensor(0.0163)\n",
      "--------------------\n"
     ]
    },
    {
     "name": "stderr",
     "output_type": "stream",
     "text": [
      "100%|██████████| 239/239 [01:20<00:00,  2.98it/s]\n"
     ]
    },
    {
     "name": "stdout",
     "output_type": "stream",
     "text": [
      "                      (HR@5: 0.0751, HR@10: 0.0996, HR@20: 0.1347, HR@50: 0.2039)\n",
      "\n",
      "                      (F1-score@5: 0.0868, F1-score@10: 0.0854, F1-score@20: 0.0793, F1-score@50: 0.0635)\n",
      "\n",
      "                      (NDCG@5: 0.0748, NDCG@10: 0.0778, NDCG@20: 0.0690, NDCG@50: 0.0381)\n",
      "\n",
      "MRR: 0.3672627996612969\n",
      "MAP: 0.07839252964337412\n",
      "val_loss= tensor(0.0159)\n",
      "--------------------\n"
     ]
    },
    {
     "name": "stderr",
     "output_type": "stream",
     "text": [
      "100%|██████████| 239/239 [01:25<00:00,  2.80it/s]\n"
     ]
    },
    {
     "name": "stdout",
     "output_type": "stream",
     "text": [
      "                      (HR@5: 0.0708, HR@10: 0.0959, HR@20: 0.1355, HR@50: 0.2071)\n",
      "\n",
      "                      (F1-score@5: 0.0844, F1-score@10: 0.0859, F1-score@20: 0.0834, F1-score@50: 0.0676)\n",
      "\n",
      "                      (NDCG@5: 0.0710, NDCG@10: 0.0794, NDCG@20: 0.0732, NDCG@50: 0.0401)\n",
      "\n",
      "MRR: 0.3690421811309463\n",
      "MAP: 0.0758728128090919\n",
      "--------------------\n",
      "[[1, 0.000176979, 0.00068223453, 0.0023718968, 0.009589323, 0.0002442108875163269, 0.0006268082200194199, 0.0015666954520432085, 0.003426097025787866, 0.00019837253450349785, 0.00046320433560836764, 0.0009358937552035104, 0.001248527919068917, 0.010159379821064247, 0.0036791875091503217, 0.10968425869941711], [2, 0.0579169, 0.06518013, 0.073646955, 0.0834386, 0.06800952943131663, 0.05641138543697392, 0.043556704831750635, 0.025929251122398904, 0.062218703928688016, 0.06147596937463966, 0.049521951606910225, 0.022845984657224906, 0.3318945877377938, 0.04841510151378556, 0.030537880957126617], [3, 0.07133058, 0.096410915, 0.13600734, 0.19265828, 0.08492753116137174, 0.08639378021196885, 0.08328652254666667, 0.06253583629041133, 0.07149353576142138, 0.07992946028477556, 0.07335604778315608, 0.03873067027494646, 0.37084067777898605, 0.07050571535528713, 0.01862044632434845], [4, 0.072007574, 0.09592286, 0.13543335, 0.20467827, 0.08571322960351853, 0.08596013076920497, 0.08292583257348879, 0.06696188101234857, 0.07208090234902458, 0.07991856832065031, 0.07330433915030196, 0.04018254222267475, 0.37314840361936735, 0.07559157052402814, 0.016552498564124107], [5, 0.07143814, 0.09655343, 0.13596232, 0.20727903, 0.08500836419285189, 0.08641077635325635, 0.08327871480341131, 0.06763431268913597, 0.07170713566551491, 0.07994343955936807, 0.07336142521924398, 0.040353252087519054, 0.3725577085668874, 0.0764226944201201, 0.01607443206012249], [6, 0.07034161, 0.095847405, 0.1355904, 0.20651792, 0.08413951865839134, 0.08556957488838737, 0.08282995580391248, 0.06706828609383886, 0.07099069912516547, 0.0794603837343229, 0.07304718232982516, 0.04007183815933234, 0.3708128080393419, 0.07604838842971748, 0.01594112440943718], [7, 0.07088172, 0.095006265, 0.13541955, 0.20505267, 0.08463074103580033, 0.0854007336848504, 0.08267942496593211, 0.06685463036746739, 0.07142290190957237, 0.07947097723586602, 0.07308573166305925, 0.04011256272600629, 0.3721486949037149, 0.07620681321331764, 0.015928132459521294], [8, 0.071424335, 0.095377676, 0.13529646, 0.20652768, 0.08514377688890037, 0.08567798691491317, 0.08314956313414659, 0.06735135049431228, 0.07084087120411942, 0.07884859760334739, 0.07274992930776904, 0.03998650211225182, 0.3646856504108138, 0.07567804982016839, 0.015926601365208626], [9, 0.07245165, 0.09710859, 0.13648483, 0.20559047, 0.08613456829996359, 0.08687598765059772, 0.08348326085757561, 0.06719348698159702, 0.07166863028564058, 0.07965110819475048, 0.073120168292365, 0.04009901207022244, 0.3672760706860293, 0.07619070788088403, 0.015935538336634636], [10, 0.070865504, 0.096338354, 0.13511951, 0.20746852, 0.08474914576600148, 0.08627373565019963, 0.08275276927583128, 0.06761860889138666, 0.07168461234410095, 0.08008586437924606, 0.07331110488829909, 0.04038744911582649, 0.3726021776481638, 0.07668197164023732, 0.015949424356222153], [11, 0.07232518, 0.09561456, 0.1342209, 0.20587724, 0.0859936123829489, 0.08542688244907685, 0.08216856988372298, 0.06702460172546934, 0.07209792659738759, 0.07960046529204869, 0.07281237191454387, 0.04009901652542219, 0.370984711374604, 0.07638206663395225, 0.015974100679159164], [12, 0.070751704, 0.09591672, 0.13551417, 0.20706047, 0.08443575285567874, 0.08591163192146652, 0.08336022939512701, 0.06755218921721745, 0.07103198871628291, 0.07938918224867106, 0.07317800741841447, 0.04012734995240143, 0.3690421811309463, 0.0758728128090919, 0.01594632863998413]]\n",
      "-----------------------------------------------------------------------------------------\n"
     ]
    },
    {
     "name": "stderr",
     "output_type": "stream",
     "text": [
      "  0%|          | 1/1913 [00:00<15:52,  2.01it/s]"
     ]
    },
    {
     "name": "stdout",
     "output_type": "stream",
     "text": [
      "Epoch 13: 0% , Loss: 0.017899\n"
     ]
    },
    {
     "name": "stderr",
     "output_type": "stream",
     "text": [
      "  5%|▌         | 101/1913 [00:41<12:27,  2.42it/s]"
     ]
    },
    {
     "name": "stdout",
     "output_type": "stream",
     "text": [
      "Epoch 13: 5% , Loss: 0.016083\n"
     ]
    },
    {
     "name": "stderr",
     "output_type": "stream",
     "text": [
      " 11%|█         | 201/1913 [01:25<10:46,  2.65it/s]"
     ]
    },
    {
     "name": "stdout",
     "output_type": "stream",
     "text": [
      "Epoch 13: 10% , Loss: 0.014450\n"
     ]
    },
    {
     "name": "stderr",
     "output_type": "stream",
     "text": [
      " 16%|█▌        | 301/1913 [02:08<13:24,  2.00it/s]"
     ]
    },
    {
     "name": "stdout",
     "output_type": "stream",
     "text": [
      "Epoch 13: 16% , Loss: 0.023956\n"
     ]
    },
    {
     "name": "stderr",
     "output_type": "stream",
     "text": [
      " 21%|██        | 401/1913 [02:52<12:25,  2.03it/s]"
     ]
    },
    {
     "name": "stdout",
     "output_type": "stream",
     "text": [
      "Epoch 13: 21% , Loss: 0.011887\n"
     ]
    },
    {
     "name": "stderr",
     "output_type": "stream",
     "text": [
      " 26%|██▌       | 502/1913 [03:37<08:07,  2.89it/s]"
     ]
    },
    {
     "name": "stdout",
     "output_type": "stream",
     "text": [
      "Epoch 13: 26% , Loss: 0.018005\n"
     ]
    },
    {
     "name": "stderr",
     "output_type": "stream",
     "text": [
      " 31%|███▏      | 601/1913 [04:20<11:24,  1.92it/s]"
     ]
    },
    {
     "name": "stdout",
     "output_type": "stream",
     "text": [
      "Epoch 13: 31% , Loss: 0.017456\n"
     ]
    },
    {
     "name": "stderr",
     "output_type": "stream",
     "text": [
      " 37%|███▋      | 701/1913 [05:04<09:36,  2.10it/s]"
     ]
    },
    {
     "name": "stdout",
     "output_type": "stream",
     "text": [
      "Epoch 13: 37% , Loss: 0.011902\n"
     ]
    },
    {
     "name": "stderr",
     "output_type": "stream",
     "text": [
      " 42%|████▏     | 801/1913 [05:47<08:04,  2.29it/s]"
     ]
    },
    {
     "name": "stdout",
     "output_type": "stream",
     "text": [
      "Epoch 13: 42% , Loss: 0.021042\n"
     ]
    },
    {
     "name": "stderr",
     "output_type": "stream",
     "text": [
      " 47%|████▋     | 901/1913 [06:33<07:26,  2.27it/s]"
     ]
    },
    {
     "name": "stdout",
     "output_type": "stream",
     "text": [
      "Epoch 13: 47% , Loss: 0.017029\n"
     ]
    },
    {
     "name": "stderr",
     "output_type": "stream",
     "text": [
      " 52%|█████▏    | 1001/1913 [07:16<06:21,  2.39it/s]"
     ]
    },
    {
     "name": "stdout",
     "output_type": "stream",
     "text": [
      "Epoch 13: 52% , Loss: 0.017715\n"
     ]
    },
    {
     "name": "stderr",
     "output_type": "stream",
     "text": [
      " 58%|█████▊    | 1101/1913 [07:55<06:09,  2.20it/s]"
     ]
    },
    {
     "name": "stdout",
     "output_type": "stream",
     "text": [
      "Epoch 13: 58% , Loss: 0.013916\n"
     ]
    },
    {
     "name": "stderr",
     "output_type": "stream",
     "text": [
      " 63%|██████▎   | 1201/1913 [08:37<04:32,  2.61it/s]"
     ]
    },
    {
     "name": "stdout",
     "output_type": "stream",
     "text": [
      "Epoch 13: 63% , Loss: 0.012817\n"
     ]
    },
    {
     "name": "stderr",
     "output_type": "stream",
     "text": [
      " 68%|██████▊   | 1301/1913 [09:19<04:30,  2.26it/s]"
     ]
    },
    {
     "name": "stdout",
     "output_type": "stream",
     "text": [
      "Epoch 13: 68% , Loss: 0.015221\n"
     ]
    },
    {
     "name": "stderr",
     "output_type": "stream",
     "text": [
      " 73%|███████▎  | 1401/1913 [10:04<04:12,  2.03it/s]"
     ]
    },
    {
     "name": "stdout",
     "output_type": "stream",
     "text": [
      "Epoch 13: 73% , Loss: 0.017975\n"
     ]
    },
    {
     "name": "stderr",
     "output_type": "stream",
     "text": [
      " 78%|███████▊  | 1501/1913 [10:47<02:35,  2.66it/s]"
     ]
    },
    {
     "name": "stdout",
     "output_type": "stream",
     "text": [
      "Epoch 13: 78% , Loss: 0.018143\n"
     ]
    },
    {
     "name": "stderr",
     "output_type": "stream",
     "text": [
      " 84%|████████▎ | 1601/1913 [11:33<02:44,  1.90it/s]"
     ]
    },
    {
     "name": "stdout",
     "output_type": "stream",
     "text": [
      "Epoch 13: 84% , Loss: 0.020813\n"
     ]
    },
    {
     "name": "stderr",
     "output_type": "stream",
     "text": [
      " 89%|████████▉ | 1701/1913 [12:19<02:01,  1.75it/s]"
     ]
    },
    {
     "name": "stdout",
     "output_type": "stream",
     "text": [
      "Epoch 13: 89% , Loss: 0.016037\n"
     ]
    },
    {
     "name": "stderr",
     "output_type": "stream",
     "text": [
      " 94%|█████████▍| 1801/1913 [13:06<00:50,  2.21it/s]"
     ]
    },
    {
     "name": "stdout",
     "output_type": "stream",
     "text": [
      "Epoch 13: 94% , Loss: 0.016220\n"
     ]
    },
    {
     "name": "stderr",
     "output_type": "stream",
     "text": [
      " 99%|█████████▉| 1901/1913 [13:53<00:06,  1.97it/s]"
     ]
    },
    {
     "name": "stdout",
     "output_type": "stream",
     "text": [
      "Epoch 13: 99% , Loss: 0.013611\n"
     ]
    },
    {
     "name": "stderr",
     "output_type": "stream",
     "text": [
      "100%|██████████| 1913/1913 [13:59<00:00,  2.28it/s]"
     ]
    },
    {
     "name": "stdout",
     "output_type": "stream",
     "text": [
      "Epoch 13: 100% , Loss: 0.014969\n"
     ]
    },
    {
     "name": "stderr",
     "output_type": "stream",
     "text": [
      "\n"
     ]
    },
    {
     "name": "stdout",
     "output_type": "stream",
     "text": [
      "                      (HR@5: 0.0701, HR@10: 0.0949, HR@20: 0.1332, HR@50: 0.2021)\n",
      "\n",
      "                      (F1-score@5: 0.0824, F1-score@10: 0.0839, F1-score@20: 0.0804, F1-score@50: 0.0647)\n",
      "\n",
      "                      (NDCG@5: 0.0684, NDCG@10: 0.0764, NDCG@20: 0.0690, NDCG@50: 0.0386)\n",
      "\n",
      "MRR: 0.3544021344103963\n",
      "MAP: 0.07486238551298317\n",
      "train_loss= tensor(0.0163)\n",
      "--------------------\n"
     ]
    },
    {
     "name": "stderr",
     "output_type": "stream",
     "text": [
      "100%|██████████| 239/239 [01:20<00:00,  2.98it/s]\n"
     ]
    },
    {
     "name": "stdout",
     "output_type": "stream",
     "text": [
      "                      (HR@5: 0.0743, HR@10: 0.1009, HR@20: 0.1355, HR@50: 0.2043)\n",
      "\n",
      "                      (F1-score@5: 0.0858, F1-score@10: 0.0863, F1-score@20: 0.0795, F1-score@50: 0.0636)\n",
      "\n",
      "                      (NDCG@5: 0.0747, NDCG@10: 0.0783, NDCG@20: 0.0691, NDCG@50: 0.0382)\n",
      "\n",
      "MRR: 0.36744067695471655\n",
      "MAP: 0.07890298545345167\n",
      "val_loss= tensor(0.0159)\n",
      "--------------------\n"
     ]
    },
    {
     "name": "stderr",
     "output_type": "stream",
     "text": [
      "100%|██████████| 239/239 [01:25<00:00,  2.80it/s]\n"
     ]
    },
    {
     "name": "stdout",
     "output_type": "stream",
     "text": [
      "                      (HR@5: 0.0716, HR@10: 0.0978, HR@20: 0.1345, HR@50: 0.2060)\n",
      "\n",
      "                      (F1-score@5: 0.0851, F1-score@10: 0.0872, F1-score@20: 0.0824, F1-score@50: 0.0673)\n",
      "\n",
      "                      (NDCG@5: 0.0717, NDCG@10: 0.0803, NDCG@20: 0.0731, NDCG@50: 0.0403)\n",
      "\n",
      "MRR: 0.3712589127768755\n",
      "MAP: 0.07667778167212212\n",
      "--------------------\n",
      "[[1, 0.000176979, 0.00068223453, 0.0023718968, 0.009589323, 0.0002442108875163269, 0.0006268082200194199, 0.0015666954520432085, 0.003426097025787866, 0.00019837253450349785, 0.00046320433560836764, 0.0009358937552035104, 0.001248527919068917, 0.010159379821064247, 0.0036791875091503217, 0.10968425869941711], [2, 0.0579169, 0.06518013, 0.073646955, 0.0834386, 0.06800952943131663, 0.05641138543697392, 0.043556704831750635, 0.025929251122398904, 0.062218703928688016, 0.06147596937463966, 0.049521951606910225, 0.022845984657224906, 0.3318945877377938, 0.04841510151378556, 0.030537880957126617], [3, 0.07133058, 0.096410915, 0.13600734, 0.19265828, 0.08492753116137174, 0.08639378021196885, 0.08328652254666667, 0.06253583629041133, 0.07149353576142138, 0.07992946028477556, 0.07335604778315608, 0.03873067027494646, 0.37084067777898605, 0.07050571535528713, 0.01862044632434845], [4, 0.072007574, 0.09592286, 0.13543335, 0.20467827, 0.08571322960351853, 0.08596013076920497, 0.08292583257348879, 0.06696188101234857, 0.07208090234902458, 0.07991856832065031, 0.07330433915030196, 0.04018254222267475, 0.37314840361936735, 0.07559157052402814, 0.016552498564124107], [5, 0.07143814, 0.09655343, 0.13596232, 0.20727903, 0.08500836419285189, 0.08641077635325635, 0.08327871480341131, 0.06763431268913597, 0.07170713566551491, 0.07994343955936807, 0.07336142521924398, 0.040353252087519054, 0.3725577085668874, 0.0764226944201201, 0.01607443206012249], [6, 0.07034161, 0.095847405, 0.1355904, 0.20651792, 0.08413951865839134, 0.08556957488838737, 0.08282995580391248, 0.06706828609383886, 0.07099069912516547, 0.0794603837343229, 0.07304718232982516, 0.04007183815933234, 0.3708128080393419, 0.07604838842971748, 0.01594112440943718], [7, 0.07088172, 0.095006265, 0.13541955, 0.20505267, 0.08463074103580033, 0.0854007336848504, 0.08267942496593211, 0.06685463036746739, 0.07142290190957237, 0.07947097723586602, 0.07308573166305925, 0.04011256272600629, 0.3721486949037149, 0.07620681321331764, 0.015928132459521294], [8, 0.071424335, 0.095377676, 0.13529646, 0.20652768, 0.08514377688890037, 0.08567798691491317, 0.08314956313414659, 0.06735135049431228, 0.07084087120411942, 0.07884859760334739, 0.07274992930776904, 0.03998650211225182, 0.3646856504108138, 0.07567804982016839, 0.015926601365208626], [9, 0.07245165, 0.09710859, 0.13648483, 0.20559047, 0.08613456829996359, 0.08687598765059772, 0.08348326085757561, 0.06719348698159702, 0.07166863028564058, 0.07965110819475048, 0.073120168292365, 0.04009901207022244, 0.3672760706860293, 0.07619070788088403, 0.015935538336634636], [10, 0.070865504, 0.096338354, 0.13511951, 0.20746852, 0.08474914576600148, 0.08627373565019963, 0.08275276927583128, 0.06761860889138666, 0.07168461234410095, 0.08008586437924606, 0.07331110488829909, 0.04038744911582649, 0.3726021776481638, 0.07668197164023732, 0.015949424356222153], [11, 0.07232518, 0.09561456, 0.1342209, 0.20587724, 0.0859936123829489, 0.08542688244907685, 0.08216856988372298, 0.06702460172546934, 0.07209792659738759, 0.07960046529204869, 0.07281237191454387, 0.04009901652542219, 0.370984711374604, 0.07638206663395225, 0.015974100679159164], [12, 0.070751704, 0.09591672, 0.13551417, 0.20706047, 0.08443575285567874, 0.08591163192146652, 0.08336022939512701, 0.06755218921721745, 0.07103198871628291, 0.07938918224867106, 0.07317800741841447, 0.04012734995240143, 0.3690421811309463, 0.0758728128090919, 0.01594632863998413], [13, 0.07164659, 0.097830385, 0.13445018, 0.2059905, 0.08509625274560886, 0.0872070995296187, 0.08235749903349228, 0.06727501433449708, 0.07168986022600975, 0.08029896767018947, 0.07307923184883114, 0.04027017070955663, 0.3712589127768755, 0.07667778167212212, 0.015930717810988426]]\n",
      "-----------------------------------------------------------------------------------------\n"
     ]
    },
    {
     "name": "stderr",
     "output_type": "stream",
     "text": [
      "  0%|          | 1/1913 [00:00<20:42,  1.54it/s]"
     ]
    },
    {
     "name": "stdout",
     "output_type": "stream",
     "text": [
      "Epoch 14: 0% , Loss: 0.012245\n"
     ]
    },
    {
     "name": "stderr",
     "output_type": "stream",
     "text": [
      "  5%|▌         | 101/1913 [00:40<09:47,  3.08it/s]"
     ]
    },
    {
     "name": "stdout",
     "output_type": "stream",
     "text": [
      "Epoch 14: 5% , Loss: 0.013138\n"
     ]
    },
    {
     "name": "stderr",
     "output_type": "stream",
     "text": [
      " 11%|█         | 201/1913 [01:24<14:57,  1.91it/s]"
     ]
    },
    {
     "name": "stdout",
     "output_type": "stream",
     "text": [
      "Epoch 14: 10% , Loss: 0.014793\n"
     ]
    },
    {
     "name": "stderr",
     "output_type": "stream",
     "text": [
      " 16%|█▌        | 301/1913 [02:09<10:03,  2.67it/s]"
     ]
    },
    {
     "name": "stdout",
     "output_type": "stream",
     "text": [
      "Epoch 14: 16% , Loss: 0.016357\n"
     ]
    },
    {
     "name": "stderr",
     "output_type": "stream",
     "text": [
      " 21%|██        | 401/1913 [02:53<12:38,  1.99it/s]"
     ]
    },
    {
     "name": "stdout",
     "output_type": "stream",
     "text": [
      "Epoch 14: 21% , Loss: 0.014687\n"
     ]
    },
    {
     "name": "stderr",
     "output_type": "stream",
     "text": [
      " 26%|██▌       | 501/1913 [03:36<08:31,  2.76it/s]"
     ]
    },
    {
     "name": "stdout",
     "output_type": "stream",
     "text": [
      "Epoch 14: 26% , Loss: 0.016174\n"
     ]
    },
    {
     "name": "stderr",
     "output_type": "stream",
     "text": [
      " 31%|███▏      | 601/1913 [04:18<08:08,  2.68it/s]"
     ]
    },
    {
     "name": "stdout",
     "output_type": "stream",
     "text": [
      "Epoch 14: 31% , Loss: 0.018387\n"
     ]
    },
    {
     "name": "stderr",
     "output_type": "stream",
     "text": [
      " 37%|███▋      | 701/1913 [05:03<09:32,  2.12it/s]"
     ]
    },
    {
     "name": "stdout",
     "output_type": "stream",
     "text": [
      "Epoch 14: 37% , Loss: 0.019562\n"
     ]
    },
    {
     "name": "stderr",
     "output_type": "stream",
     "text": [
      " 42%|████▏     | 801/1913 [05:47<07:23,  2.51it/s]"
     ]
    },
    {
     "name": "stdout",
     "output_type": "stream",
     "text": [
      "Epoch 14: 42% , Loss: 0.012047\n"
     ]
    },
    {
     "name": "stderr",
     "output_type": "stream",
     "text": [
      " 47%|████▋     | 901/1913 [06:31<07:26,  2.27it/s]"
     ]
    },
    {
     "name": "stdout",
     "output_type": "stream",
     "text": [
      "Epoch 14: 47% , Loss: 0.024582\n"
     ]
    },
    {
     "name": "stderr",
     "output_type": "stream",
     "text": [
      " 52%|█████▏    | 1001/1913 [07:10<07:07,  2.13it/s]"
     ]
    },
    {
     "name": "stdout",
     "output_type": "stream",
     "text": [
      "Epoch 14: 52% , Loss: 0.015381\n"
     ]
    },
    {
     "name": "stderr",
     "output_type": "stream",
     "text": [
      " 58%|█████▊    | 1101/1913 [07:53<05:07,  2.64it/s]"
     ]
    },
    {
     "name": "stdout",
     "output_type": "stream",
     "text": [
      "Epoch 14: 58% , Loss: 0.016632\n"
     ]
    },
    {
     "name": "stderr",
     "output_type": "stream",
     "text": [
      " 63%|██████▎   | 1201/1913 [08:37<03:41,  3.21it/s]"
     ]
    },
    {
     "name": "stdout",
     "output_type": "stream",
     "text": [
      "Epoch 14: 63% , Loss: 0.021759\n"
     ]
    },
    {
     "name": "stderr",
     "output_type": "stream",
     "text": [
      " 68%|██████▊   | 1301/1913 [09:20<04:23,  2.33it/s]"
     ]
    },
    {
     "name": "stdout",
     "output_type": "stream",
     "text": [
      "Epoch 14: 68% , Loss: 0.014771\n"
     ]
    },
    {
     "name": "stderr",
     "output_type": "stream",
     "text": [
      " 73%|███████▎  | 1401/1913 [10:05<03:30,  2.43it/s]"
     ]
    },
    {
     "name": "stdout",
     "output_type": "stream",
     "text": [
      "Epoch 14: 73% , Loss: 0.012062\n"
     ]
    },
    {
     "name": "stderr",
     "output_type": "stream",
     "text": [
      " 78%|███████▊  | 1501/1913 [10:50<03:26,  2.00it/s]"
     ]
    },
    {
     "name": "stdout",
     "output_type": "stream",
     "text": [
      "Epoch 14: 78% , Loss: 0.016998\n"
     ]
    },
    {
     "name": "stderr",
     "output_type": "stream",
     "text": [
      " 84%|████████▎ | 1601/1913 [11:35<02:20,  2.22it/s]"
     ]
    },
    {
     "name": "stdout",
     "output_type": "stream",
     "text": [
      "Epoch 14: 84% , Loss: 0.016617\n"
     ]
    },
    {
     "name": "stderr",
     "output_type": "stream",
     "text": [
      " 89%|████████▉ | 1701/1913 [12:21<01:35,  2.22it/s]"
     ]
    },
    {
     "name": "stdout",
     "output_type": "stream",
     "text": [
      "Epoch 14: 89% , Loss: 0.015495\n"
     ]
    },
    {
     "name": "stderr",
     "output_type": "stream",
     "text": [
      " 94%|█████████▍| 1801/1913 [13:07<01:06,  1.69it/s]"
     ]
    },
    {
     "name": "stdout",
     "output_type": "stream",
     "text": [
      "Epoch 14: 94% , Loss: 0.018494\n"
     ]
    },
    {
     "name": "stderr",
     "output_type": "stream",
     "text": [
      " 99%|█████████▉| 1901/1913 [13:54<00:05,  2.23it/s]"
     ]
    },
    {
     "name": "stdout",
     "output_type": "stream",
     "text": [
      "Epoch 14: 99% , Loss: 0.019928\n"
     ]
    },
    {
     "name": "stderr",
     "output_type": "stream",
     "text": [
      "100%|██████████| 1913/1913 [13:59<00:00,  2.28it/s]"
     ]
    },
    {
     "name": "stdout",
     "output_type": "stream",
     "text": [
      "Epoch 14: 100% , Loss: 0.017319\n"
     ]
    },
    {
     "name": "stderr",
     "output_type": "stream",
     "text": [
      "\n"
     ]
    },
    {
     "name": "stdout",
     "output_type": "stream",
     "text": [
      "                      (HR@5: 0.0699, HR@10: 0.0955, HR@20: 0.1333, HR@50: 0.2017)\n",
      "\n",
      "                      (F1-score@5: 0.0823, F1-score@10: 0.0843, F1-score@20: 0.0804, F1-score@50: 0.0646)\n",
      "\n",
      "                      (NDCG@5: 0.0685, NDCG@10: 0.0765, NDCG@20: 0.0691, NDCG@50: 0.0386)\n",
      "\n",
      "MRR: 0.3546246811667766\n",
      "MAP: 0.07503073047035405\n",
      "train_loss= tensor(0.0163)\n",
      "--------------------\n"
     ]
    },
    {
     "name": "stderr",
     "output_type": "stream",
     "text": [
      "100%|██████████| 239/239 [01:20<00:00,  2.98it/s]\n"
     ]
    },
    {
     "name": "stdout",
     "output_type": "stream",
     "text": [
      "                      (HR@5: 0.0741, HR@10: 0.0998, HR@20: 0.1378, HR@50: 0.2031)\n",
      "\n",
      "                      (F1-score@5: 0.0857, F1-score@10: 0.0857, F1-score@20: 0.0809, F1-score@50: 0.0635)\n",
      "\n",
      "                      (NDCG@5: 0.0747, NDCG@10: 0.0781, NDCG@20: 0.0697, NDCG@50: 0.0383)\n",
      "\n",
      "MRR: 0.36853845261291207\n",
      "MAP: 0.07891912721372203\n",
      "val_loss= tensor(0.0160)\n",
      "--------------------\n"
     ]
    },
    {
     "name": "stderr",
     "output_type": "stream",
     "text": [
      "100%|██████████| 239/239 [01:25<00:00,  2.79it/s]\n"
     ]
    },
    {
     "name": "stdout",
     "output_type": "stream",
     "text": [
      "                      (HR@5: 0.0730, HR@10: 0.0962, HR@20: 0.1339, HR@50: 0.2070)\n",
      "\n",
      "                      (F1-score@5: 0.0870, F1-score@10: 0.0866, F1-score@20: 0.0822, F1-score@50: 0.0674)\n",
      "\n",
      "                      (NDCG@5: 0.0728, NDCG@10: 0.0805, NDCG@20: 0.0733, NDCG@50: 0.0404)\n",
      "\n",
      "MRR: 0.3735846195912892\n",
      "MAP: 0.07673718649076403\n",
      "--------------------\n",
      "[[1, 0.000176979, 0.00068223453, 0.0023718968, 0.009589323, 0.0002442108875163269, 0.0006268082200194199, 0.0015666954520432085, 0.003426097025787866, 0.00019837253450349785, 0.00046320433560836764, 0.0009358937552035104, 0.001248527919068917, 0.010159379821064247, 0.0036791875091503217, 0.10968425869941711], [2, 0.0579169, 0.06518013, 0.073646955, 0.0834386, 0.06800952943131663, 0.05641138543697392, 0.043556704831750635, 0.025929251122398904, 0.062218703928688016, 0.06147596937463966, 0.049521951606910225, 0.022845984657224906, 0.3318945877377938, 0.04841510151378556, 0.030537880957126617], [3, 0.07133058, 0.096410915, 0.13600734, 0.19265828, 0.08492753116137174, 0.08639378021196885, 0.08328652254666667, 0.06253583629041133, 0.07149353576142138, 0.07992946028477556, 0.07335604778315608, 0.03873067027494646, 0.37084067777898605, 0.07050571535528713, 0.01862044632434845], [4, 0.072007574, 0.09592286, 0.13543335, 0.20467827, 0.08571322960351853, 0.08596013076920497, 0.08292583257348879, 0.06696188101234857, 0.07208090234902458, 0.07991856832065031, 0.07330433915030196, 0.04018254222267475, 0.37314840361936735, 0.07559157052402814, 0.016552498564124107], [5, 0.07143814, 0.09655343, 0.13596232, 0.20727903, 0.08500836419285189, 0.08641077635325635, 0.08327871480341131, 0.06763431268913597, 0.07170713566551491, 0.07994343955936807, 0.07336142521924398, 0.040353252087519054, 0.3725577085668874, 0.0764226944201201, 0.01607443206012249], [6, 0.07034161, 0.095847405, 0.1355904, 0.20651792, 0.08413951865839134, 0.08556957488838737, 0.08282995580391248, 0.06706828609383886, 0.07099069912516547, 0.0794603837343229, 0.07304718232982516, 0.04007183815933234, 0.3708128080393419, 0.07604838842971748, 0.01594112440943718], [7, 0.07088172, 0.095006265, 0.13541955, 0.20505267, 0.08463074103580033, 0.0854007336848504, 0.08267942496593211, 0.06685463036746739, 0.07142290190957237, 0.07947097723586602, 0.07308573166305925, 0.04011256272600629, 0.3721486949037149, 0.07620681321331764, 0.015928132459521294], [8, 0.071424335, 0.095377676, 0.13529646, 0.20652768, 0.08514377688890037, 0.08567798691491317, 0.08314956313414659, 0.06735135049431228, 0.07084087120411942, 0.07884859760334739, 0.07274992930776904, 0.03998650211225182, 0.3646856504108138, 0.07567804982016839, 0.015926601365208626], [9, 0.07245165, 0.09710859, 0.13648483, 0.20559047, 0.08613456829996359, 0.08687598765059772, 0.08348326085757561, 0.06719348698159702, 0.07166863028564058, 0.07965110819475048, 0.073120168292365, 0.04009901207022244, 0.3672760706860293, 0.07619070788088403, 0.015935538336634636], [10, 0.070865504, 0.096338354, 0.13511951, 0.20746852, 0.08474914576600148, 0.08627373565019963, 0.08275276927583128, 0.06761860889138666, 0.07168461234410095, 0.08008586437924606, 0.07331110488829909, 0.04038744911582649, 0.3726021776481638, 0.07668197164023732, 0.015949424356222153], [11, 0.07232518, 0.09561456, 0.1342209, 0.20587724, 0.0859936123829489, 0.08542688244907685, 0.08216856988372298, 0.06702460172546934, 0.07209792659738759, 0.07960046529204869, 0.07281237191454387, 0.04009901652542219, 0.370984711374604, 0.07638206663395225, 0.015974100679159164], [12, 0.070751704, 0.09591672, 0.13551417, 0.20706047, 0.08443575285567874, 0.08591163192146652, 0.08336022939512701, 0.06755218921721745, 0.07103198871628291, 0.07938918224867106, 0.07317800741841447, 0.04012734995240143, 0.3690421811309463, 0.0758728128090919, 0.01594632863998413], [13, 0.07164659, 0.097830385, 0.13445018, 0.2059905, 0.08509625274560886, 0.0872070995296187, 0.08235749903349228, 0.06727501433449708, 0.07168986022600975, 0.08029896767018947, 0.07307923184883114, 0.04027017070955663, 0.3712589127768755, 0.07667778167212212, 0.015930717810988426], [14, 0.0729776, 0.096174516, 0.13388029, 0.20699897, 0.08699647994755884, 0.08663588321987012, 0.0822380122156619, 0.06735136664577455, 0.07278614487230123, 0.0804618690240832, 0.07325943954051257, 0.04037173961169402, 0.3735846195912892, 0.07673718649076403, 0.015957916155457497]]\n",
      "-----------------------------------------------------------------------------------------\n"
     ]
    },
    {
     "name": "stderr",
     "output_type": "stream",
     "text": [
      "  0%|          | 1/1913 [00:00<22:10,  1.44it/s]"
     ]
    },
    {
     "name": "stdout",
     "output_type": "stream",
     "text": [
      "Epoch 15: 0% , Loss: 0.017471\n"
     ]
    },
    {
     "name": "stderr",
     "output_type": "stream",
     "text": [
      "  5%|▌         | 101/1913 [00:42<11:39,  2.59it/s]"
     ]
    },
    {
     "name": "stdout",
     "output_type": "stream",
     "text": [
      "Epoch 15: 5% , Loss: 0.021652\n"
     ]
    },
    {
     "name": "stderr",
     "output_type": "stream",
     "text": [
      " 11%|█         | 201/1913 [01:25<14:08,  2.02it/s]"
     ]
    },
    {
     "name": "stdout",
     "output_type": "stream",
     "text": [
      "Epoch 15: 10% , Loss: 0.019608\n"
     ]
    },
    {
     "name": "stderr",
     "output_type": "stream",
     "text": [
      " 16%|█▌        | 301/1913 [02:08<09:49,  2.74it/s]"
     ]
    },
    {
     "name": "stdout",
     "output_type": "stream",
     "text": [
      "Epoch 15: 16% , Loss: 0.017471\n"
     ]
    },
    {
     "name": "stderr",
     "output_type": "stream",
     "text": [
      " 21%|██        | 401/1913 [02:53<10:33,  2.39it/s]"
     ]
    },
    {
     "name": "stdout",
     "output_type": "stream",
     "text": [
      "Epoch 15: 21% , Loss: 0.017075\n"
     ]
    },
    {
     "name": "stderr",
     "output_type": "stream",
     "text": [
      " 26%|██▌       | 501/1913 [03:39<12:02,  1.95it/s]"
     ]
    },
    {
     "name": "stdout",
     "output_type": "stream",
     "text": [
      "Epoch 15: 26% , Loss: 0.014931\n"
     ]
    },
    {
     "name": "stderr",
     "output_type": "stream",
     "text": [
      " 31%|███▏      | 601/1913 [04:23<09:24,  2.32it/s]"
     ]
    },
    {
     "name": "stdout",
     "output_type": "stream",
     "text": [
      "Epoch 15: 31% , Loss: 0.022675\n"
     ]
    },
    {
     "name": "stderr",
     "output_type": "stream",
     "text": [
      " 37%|███▋      | 701/1913 [05:08<09:13,  2.19it/s]"
     ]
    },
    {
     "name": "stdout",
     "output_type": "stream",
     "text": [
      "Epoch 15: 37% , Loss: 0.019028\n"
     ]
    },
    {
     "name": "stderr",
     "output_type": "stream",
     "text": [
      " 42%|████▏     | 801/1913 [05:50<07:54,  2.34it/s]"
     ]
    },
    {
     "name": "stdout",
     "output_type": "stream",
     "text": [
      "Epoch 15: 42% , Loss: 0.016983\n"
     ]
    },
    {
     "name": "stderr",
     "output_type": "stream",
     "text": [
      " 47%|████▋     | 901/1913 [06:32<03:12,  5.25it/s]"
     ]
    },
    {
     "name": "stdout",
     "output_type": "stream",
     "text": [
      "Epoch 15: 47% , Loss: 0.016144\n"
     ]
    },
    {
     "name": "stderr",
     "output_type": "stream",
     "text": [
      " 52%|█████▏    | 1001/1913 [07:10<06:43,  2.26it/s]"
     ]
    },
    {
     "name": "stdout",
     "output_type": "stream",
     "text": [
      "Epoch 15: 52% , Loss: 0.011856\n"
     ]
    },
    {
     "name": "stderr",
     "output_type": "stream",
     "text": [
      " 58%|█████▊    | 1101/1913 [07:52<05:30,  2.45it/s]"
     ]
    },
    {
     "name": "stdout",
     "output_type": "stream",
     "text": [
      "Epoch 15: 58% , Loss: 0.018158\n"
     ]
    },
    {
     "name": "stderr",
     "output_type": "stream",
     "text": [
      " 63%|██████▎   | 1201/1913 [08:34<04:45,  2.49it/s]"
     ]
    },
    {
     "name": "stdout",
     "output_type": "stream",
     "text": [
      "Epoch 15: 63% , Loss: 0.018723\n"
     ]
    },
    {
     "name": "stderr",
     "output_type": "stream",
     "text": [
      " 68%|██████▊   | 1301/1913 [09:16<04:50,  2.11it/s]"
     ]
    },
    {
     "name": "stdout",
     "output_type": "stream",
     "text": [
      "Epoch 15: 68% , Loss: 0.021271\n"
     ]
    },
    {
     "name": "stderr",
     "output_type": "stream",
     "text": [
      " 73%|███████▎  | 1401/1913 [10:00<03:43,  2.29it/s]"
     ]
    },
    {
     "name": "stdout",
     "output_type": "stream",
     "text": [
      "Epoch 15: 73% , Loss: 0.011551\n"
     ]
    },
    {
     "name": "stderr",
     "output_type": "stream",
     "text": [
      " 78%|███████▊  | 1501/1913 [10:47<04:16,  1.61it/s]"
     ]
    },
    {
     "name": "stdout",
     "output_type": "stream",
     "text": [
      "Epoch 15: 78% , Loss: 0.020264\n"
     ]
    },
    {
     "name": "stderr",
     "output_type": "stream",
     "text": [
      " 84%|████████▎ | 1601/1913 [11:31<02:39,  1.95it/s]"
     ]
    },
    {
     "name": "stdout",
     "output_type": "stream",
     "text": [
      "Epoch 15: 84% , Loss: 0.011444\n"
     ]
    },
    {
     "name": "stderr",
     "output_type": "stream",
     "text": [
      " 89%|████████▉ | 1701/1913 [12:18<01:36,  2.20it/s]"
     ]
    },
    {
     "name": "stdout",
     "output_type": "stream",
     "text": [
      "Epoch 15: 89% , Loss: 0.011978\n"
     ]
    },
    {
     "name": "stderr",
     "output_type": "stream",
     "text": [
      " 94%|█████████▍| 1801/1913 [13:06<00:49,  2.28it/s]"
     ]
    },
    {
     "name": "stdout",
     "output_type": "stream",
     "text": [
      "Epoch 15: 94% , Loss: 0.015083\n"
     ]
    },
    {
     "name": "stderr",
     "output_type": "stream",
     "text": [
      " 99%|█████████▉| 1901/1913 [13:53<00:05,  2.24it/s]"
     ]
    },
    {
     "name": "stdout",
     "output_type": "stream",
     "text": [
      "Epoch 15: 99% , Loss: 0.017548\n"
     ]
    },
    {
     "name": "stderr",
     "output_type": "stream",
     "text": [
      "100%|██████████| 1913/1913 [14:00<00:00,  2.28it/s]"
     ]
    },
    {
     "name": "stdout",
     "output_type": "stream",
     "text": [
      "Epoch 15: 100% , Loss: 0.011017\n"
     ]
    },
    {
     "name": "stderr",
     "output_type": "stream",
     "text": [
      "\n"
     ]
    },
    {
     "name": "stdout",
     "output_type": "stream",
     "text": [
      "                      (HR@5: 0.0703, HR@10: 0.0953, HR@20: 0.1329, HR@50: 0.2019)\n",
      "\n",
      "                      (F1-score@5: 0.0827, F1-score@10: 0.0841, F1-score@20: 0.0802, F1-score@50: 0.0646)\n",
      "\n",
      "                      (NDCG@5: 0.0688, NDCG@10: 0.0766, NDCG@20: 0.0691, NDCG@50: 0.0386)\n",
      "\n",
      "MRR: 0.355997766566286\n",
      "MAP: 0.07514856892685974\n",
      "train_loss= tensor(0.0163)\n",
      "--------------------\n"
     ]
    },
    {
     "name": "stderr",
     "output_type": "stream",
     "text": [
      "100%|██████████| 239/239 [01:20<00:00,  2.98it/s]\n"
     ]
    },
    {
     "name": "stdout",
     "output_type": "stream",
     "text": [
      "                      (HR@5: 0.0752, HR@10: 0.0990, HR@20: 0.1371, HR@50: 0.2039)\n",
      "\n",
      "                      (F1-score@5: 0.0865, F1-score@10: 0.0848, F1-score@20: 0.0810, F1-score@50: 0.0634)\n",
      "\n",
      "                      (NDCG@5: 0.0751, NDCG@10: 0.0778, NDCG@20: 0.0698, NDCG@50: 0.0382)\n",
      "\n",
      "MRR: 0.36805419231742276\n",
      "MAP: 0.07910559746096187\n",
      "val_loss= tensor(0.0160)\n",
      "--------------------\n"
     ]
    },
    {
     "name": "stderr",
     "output_type": "stream",
     "text": [
      "100%|██████████| 239/239 [01:25<00:00,  2.80it/s]\n"
     ]
    },
    {
     "name": "stdout",
     "output_type": "stream",
     "text": [
      "                      (HR@5: 0.0722, HR@10: 0.0953, HR@20: 0.1377, HR@50: 0.2051)\n",
      "\n",
      "                      (F1-score@5: 0.0857, F1-score@10: 0.0856, F1-score@20: 0.0843, F1-score@50: 0.0672)\n",
      "\n",
      "                      (NDCG@5: 0.0721, NDCG@10: 0.0797, NDCG@20: 0.0738, NDCG@50: 0.0403)\n",
      "\n",
      "MRR: 0.3718101788483736\n",
      "MAP: 0.07659370160145398\n",
      "--------------------\n",
      "[[1, 0.000176979, 0.00068223453, 0.0023718968, 0.009589323, 0.0002442108875163269, 0.0006268082200194199, 0.0015666954520432085, 0.003426097025787866, 0.00019837253450349785, 0.00046320433560836764, 0.0009358937552035104, 0.001248527919068917, 0.010159379821064247, 0.0036791875091503217, 0.10968425869941711], [2, 0.0579169, 0.06518013, 0.073646955, 0.0834386, 0.06800952943131663, 0.05641138543697392, 0.043556704831750635, 0.025929251122398904, 0.062218703928688016, 0.06147596937463966, 0.049521951606910225, 0.022845984657224906, 0.3318945877377938, 0.04841510151378556, 0.030537880957126617], [3, 0.07133058, 0.096410915, 0.13600734, 0.19265828, 0.08492753116137174, 0.08639378021196885, 0.08328652254666667, 0.06253583629041133, 0.07149353576142138, 0.07992946028477556, 0.07335604778315608, 0.03873067027494646, 0.37084067777898605, 0.07050571535528713, 0.01862044632434845], [4, 0.072007574, 0.09592286, 0.13543335, 0.20467827, 0.08571322960351853, 0.08596013076920497, 0.08292583257348879, 0.06696188101234857, 0.07208090234902458, 0.07991856832065031, 0.07330433915030196, 0.04018254222267475, 0.37314840361936735, 0.07559157052402814, 0.016552498564124107], [5, 0.07143814, 0.09655343, 0.13596232, 0.20727903, 0.08500836419285189, 0.08641077635325635, 0.08327871480341131, 0.06763431268913597, 0.07170713566551491, 0.07994343955936807, 0.07336142521924398, 0.040353252087519054, 0.3725577085668874, 0.0764226944201201, 0.01607443206012249], [6, 0.07034161, 0.095847405, 0.1355904, 0.20651792, 0.08413951865839134, 0.08556957488838737, 0.08282995580391248, 0.06706828609383886, 0.07099069912516547, 0.0794603837343229, 0.07304718232982516, 0.04007183815933234, 0.3708128080393419, 0.07604838842971748, 0.01594112440943718], [7, 0.07088172, 0.095006265, 0.13541955, 0.20505267, 0.08463074103580033, 0.0854007336848504, 0.08267942496593211, 0.06685463036746739, 0.07142290190957237, 0.07947097723586602, 0.07308573166305925, 0.04011256272600629, 0.3721486949037149, 0.07620681321331764, 0.015928132459521294], [8, 0.071424335, 0.095377676, 0.13529646, 0.20652768, 0.08514377688890037, 0.08567798691491317, 0.08314956313414659, 0.06735135049431228, 0.07084087120411942, 0.07884859760334739, 0.07274992930776904, 0.03998650211225182, 0.3646856504108138, 0.07567804982016839, 0.015926601365208626], [9, 0.07245165, 0.09710859, 0.13648483, 0.20559047, 0.08613456829996359, 0.08687598765059772, 0.08348326085757561, 0.06719348698159702, 0.07166863028564058, 0.07965110819475048, 0.073120168292365, 0.04009901207022244, 0.3672760706860293, 0.07619070788088403, 0.015935538336634636], [10, 0.070865504, 0.096338354, 0.13511951, 0.20746852, 0.08474914576600148, 0.08627373565019963, 0.08275276927583128, 0.06761860889138666, 0.07168461234410095, 0.08008586437924606, 0.07331110488829909, 0.04038744911582649, 0.3726021776481638, 0.07668197164023732, 0.015949424356222153], [11, 0.07232518, 0.09561456, 0.1342209, 0.20587724, 0.0859936123829489, 0.08542688244907685, 0.08216856988372298, 0.06702460172546934, 0.07209792659738759, 0.07960046529204869, 0.07281237191454387, 0.04009901652542219, 0.370984711374604, 0.07638206663395225, 0.015974100679159164], [12, 0.070751704, 0.09591672, 0.13551417, 0.20706047, 0.08443575285567874, 0.08591163192146652, 0.08336022939512701, 0.06755218921721745, 0.07103198871628291, 0.07938918224867106, 0.07317800741841447, 0.04012734995240143, 0.3690421811309463, 0.0758728128090919, 0.01594632863998413], [13, 0.07164659, 0.097830385, 0.13445018, 0.2059905, 0.08509625274560886, 0.0872070995296187, 0.08235749903349228, 0.06727501433449708, 0.07168986022600975, 0.08029896767018947, 0.07307923184883114, 0.04027017070955663, 0.3712589127768755, 0.07667778167212212, 0.015930717810988426], [14, 0.0729776, 0.096174516, 0.13388029, 0.20699897, 0.08699647994755884, 0.08663588321987012, 0.0822380122156619, 0.06735136664577455, 0.07278614487230123, 0.0804618690240832, 0.07325943954051257, 0.04037173961169402, 0.3735846195912892, 0.07673718649076403, 0.015957916155457497], [15, 0.07216528, 0.095337026, 0.13765359, 0.20510587, 0.08569111779634743, 0.0855963873629637, 0.08433523952330546, 0.0672212478548904, 0.07207844301836105, 0.07974945026972023, 0.07383574356196378, 0.04031958243401456, 0.3718101788483736, 0.07659370160145398, 0.015951499342918396]]\n",
      "-----------------------------------------------------------------------------------------\n"
     ]
    },
    {
     "name": "stderr",
     "output_type": "stream",
     "text": [
      "  0%|          | 1/1913 [00:00<11:49,  2.70it/s]"
     ]
    },
    {
     "name": "stdout",
     "output_type": "stream",
     "text": [
      "Epoch 16: 0% , Loss: 0.015472\n"
     ]
    },
    {
     "name": "stderr",
     "output_type": "stream",
     "text": [
      "  5%|▌         | 101/1913 [00:43<09:53,  3.05it/s]"
     ]
    },
    {
     "name": "stdout",
     "output_type": "stream",
     "text": [
      "Epoch 16: 5% , Loss: 0.025314\n"
     ]
    },
    {
     "name": "stderr",
     "output_type": "stream",
     "text": [
      " 11%|█         | 201/1913 [01:23<11:36,  2.46it/s]"
     ]
    },
    {
     "name": "stdout",
     "output_type": "stream",
     "text": [
      "Epoch 16: 10% , Loss: 0.016403\n"
     ]
    },
    {
     "name": "stderr",
     "output_type": "stream",
     "text": [
      " 16%|█▌        | 301/1913 [02:06<10:24,  2.58it/s]"
     ]
    },
    {
     "name": "stdout",
     "output_type": "stream",
     "text": [
      "Epoch 16: 16% , Loss: 0.014015\n"
     ]
    },
    {
     "name": "stderr",
     "output_type": "stream",
     "text": [
      " 21%|██        | 401/1913 [02:51<09:14,  2.73it/s]"
     ]
    },
    {
     "name": "stdout",
     "output_type": "stream",
     "text": [
      "Epoch 16: 21% , Loss: 0.011681\n"
     ]
    },
    {
     "name": "stderr",
     "output_type": "stream",
     "text": [
      " 26%|██▌       | 501/1913 [03:33<08:18,  2.84it/s]"
     ]
    },
    {
     "name": "stdout",
     "output_type": "stream",
     "text": [
      "Epoch 16: 26% , Loss: 0.018661\n"
     ]
    },
    {
     "name": "stderr",
     "output_type": "stream",
     "text": [
      " 31%|███▏      | 601/1913 [04:18<09:51,  2.22it/s]"
     ]
    },
    {
     "name": "stdout",
     "output_type": "stream",
     "text": [
      "Epoch 16: 31% , Loss: 0.015671\n"
     ]
    },
    {
     "name": "stderr",
     "output_type": "stream",
     "text": [
      " 37%|███▋      | 701/1913 [05:01<08:07,  2.49it/s]"
     ]
    },
    {
     "name": "stdout",
     "output_type": "stream",
     "text": [
      "Epoch 16: 37% , Loss: 0.016373\n"
     ]
    },
    {
     "name": "stderr",
     "output_type": "stream",
     "text": [
      " 42%|████▏     | 801/1913 [05:44<08:17,  2.23it/s]"
     ]
    },
    {
     "name": "stdout",
     "output_type": "stream",
     "text": [
      "Epoch 16: 42% , Loss: 0.023560\n"
     ]
    },
    {
     "name": "stderr",
     "output_type": "stream",
     "text": [
      " 47%|████▋     | 901/1913 [06:23<09:02,  1.86it/s]"
     ]
    },
    {
     "name": "stdout",
     "output_type": "stream",
     "text": [
      "Epoch 16: 47% , Loss: 0.018494\n"
     ]
    },
    {
     "name": "stderr",
     "output_type": "stream",
     "text": [
      " 52%|█████▏    | 1001/1913 [07:04<07:10,  2.12it/s]"
     ]
    },
    {
     "name": "stdout",
     "output_type": "stream",
     "text": [
      "Epoch 16: 52% , Loss: 0.019821\n"
     ]
    },
    {
     "name": "stderr",
     "output_type": "stream",
     "text": [
      " 58%|█████▊    | 1101/1913 [07:45<04:55,  2.75it/s]"
     ]
    },
    {
     "name": "stdout",
     "output_type": "stream",
     "text": [
      "Epoch 16: 58% , Loss: 0.016617\n"
     ]
    },
    {
     "name": "stderr",
     "output_type": "stream",
     "text": [
      " 63%|██████▎   | 1201/1913 [08:29<06:05,  1.95it/s]"
     ]
    },
    {
     "name": "stdout",
     "output_type": "stream",
     "text": [
      "Epoch 16: 63% , Loss: 0.018250\n"
     ]
    },
    {
     "name": "stderr",
     "output_type": "stream",
     "text": [
      " 68%|██████▊   | 1301/1913 [09:14<04:25,  2.31it/s]"
     ]
    },
    {
     "name": "stdout",
     "output_type": "stream",
     "text": [
      "Epoch 16: 68% , Loss: 0.012039\n"
     ]
    },
    {
     "name": "stderr",
     "output_type": "stream",
     "text": [
      " 73%|███████▎  | 1401/1913 [09:58<03:48,  2.24it/s]"
     ]
    },
    {
     "name": "stdout",
     "output_type": "stream",
     "text": [
      "Epoch 16: 73% , Loss: 0.016800\n"
     ]
    },
    {
     "name": "stderr",
     "output_type": "stream",
     "text": [
      " 78%|███████▊  | 1501/1913 [10:44<03:00,  2.29it/s]"
     ]
    },
    {
     "name": "stdout",
     "output_type": "stream",
     "text": [
      "Epoch 16: 78% , Loss: 0.016235\n"
     ]
    },
    {
     "name": "stderr",
     "output_type": "stream",
     "text": [
      " 84%|████████▎ | 1601/1913 [11:31<02:38,  1.97it/s]"
     ]
    },
    {
     "name": "stdout",
     "output_type": "stream",
     "text": [
      "Epoch 16: 84% , Loss: 0.021729\n"
     ]
    },
    {
     "name": "stderr",
     "output_type": "stream",
     "text": [
      " 89%|████████▉ | 1701/1913 [12:18<01:26,  2.44it/s]"
     ]
    },
    {
     "name": "stdout",
     "output_type": "stream",
     "text": [
      "Epoch 16: 89% , Loss: 0.014969\n"
     ]
    },
    {
     "name": "stderr",
     "output_type": "stream",
     "text": [
      " 94%|█████████▍| 1801/1913 [13:04<00:56,  1.97it/s]"
     ]
    },
    {
     "name": "stdout",
     "output_type": "stream",
     "text": [
      "Epoch 16: 94% , Loss: 0.023880\n"
     ]
    },
    {
     "name": "stderr",
     "output_type": "stream",
     "text": [
      " 99%|█████████▉| 1901/1913 [13:52<00:05,  2.29it/s]"
     ]
    },
    {
     "name": "stdout",
     "output_type": "stream",
     "text": [
      "Epoch 16: 99% , Loss: 0.018600\n"
     ]
    },
    {
     "name": "stderr",
     "output_type": "stream",
     "text": [
      "100%|██████████| 1913/1913 [13:58<00:00,  2.28it/s]"
     ]
    },
    {
     "name": "stdout",
     "output_type": "stream",
     "text": [
      "Epoch 16: 100% , Loss: 0.009613\n"
     ]
    },
    {
     "name": "stderr",
     "output_type": "stream",
     "text": [
      "\n"
     ]
    },
    {
     "name": "stdout",
     "output_type": "stream",
     "text": [
      "                      (HR@5: 0.0703, HR@10: 0.0953, HR@20: 0.1329, HR@50: 0.2018)\n",
      "\n",
      "                      (F1-score@5: 0.0828, F1-score@10: 0.0842, F1-score@20: 0.0803, F1-score@50: 0.0646)\n",
      "\n",
      "                      (NDCG@5: 0.0688, NDCG@10: 0.0767, NDCG@20: 0.0692, NDCG@50: 0.0386)\n",
      "\n",
      "MRR: 0.35558284525321304\n",
      "MAP: 0.07510922112321416\n",
      "train_loss= tensor(0.0163)\n",
      "--------------------\n"
     ]
    },
    {
     "name": "stderr",
     "output_type": "stream",
     "text": [
      "100%|██████████| 239/239 [01:19<00:00,  3.00it/s]\n"
     ]
    },
    {
     "name": "stdout",
     "output_type": "stream",
     "text": [
      "                      (HR@5: 0.0731, HR@10: 0.0985, HR@20: 0.1380, HR@50: 0.2019)\n",
      "\n",
      "                      (F1-score@5: 0.0848, F1-score@10: 0.0853, F1-score@20: 0.0807, F1-score@50: 0.0630)\n",
      "\n",
      "                      (NDCG@5: 0.0741, NDCG@10: 0.0780, NDCG@20: 0.0696, NDCG@50: 0.0382)\n",
      "\n",
      "MRR: 0.367965510512083\n",
      "MAP: 0.07864928617582125\n",
      "val_loss= tensor(0.0159)\n",
      "--------------------\n"
     ]
    },
    {
     "name": "stderr",
     "output_type": "stream",
     "text": [
      "100%|██████████| 239/239 [01:24<00:00,  2.83it/s]\n"
     ]
    },
    {
     "name": "stdout",
     "output_type": "stream",
     "text": [
      "                      (HR@5: 0.0706, HR@10: 0.0957, HR@20: 0.1350, HR@50: 0.2071)\n",
      "\n",
      "                      (F1-score@5: 0.0843, F1-score@10: 0.0857, F1-score@20: 0.0828, F1-score@50: 0.0674)\n",
      "\n",
      "                      (NDCG@5: 0.0715, NDCG@10: 0.0798, NDCG@20: 0.0732, NDCG@50: 0.0403)\n",
      "\n",
      "MRR: 0.3727621704533128\n",
      "MAP: 0.07649835897185947\n",
      "--------------------\n",
      "[[1, 0.000176979, 0.00068223453, 0.0023718968, 0.009589323, 0.0002442108875163269, 0.0006268082200194199, 0.0015666954520432085, 0.003426097025787866, 0.00019837253450349785, 0.00046320433560836764, 0.0009358937552035104, 0.001248527919068917, 0.010159379821064247, 0.0036791875091503217, 0.10968425869941711], [2, 0.0579169, 0.06518013, 0.073646955, 0.0834386, 0.06800952943131663, 0.05641138543697392, 0.043556704831750635, 0.025929251122398904, 0.062218703928688016, 0.06147596937463966, 0.049521951606910225, 0.022845984657224906, 0.3318945877377938, 0.04841510151378556, 0.030537880957126617], [3, 0.07133058, 0.096410915, 0.13600734, 0.19265828, 0.08492753116137174, 0.08639378021196885, 0.08328652254666667, 0.06253583629041133, 0.07149353576142138, 0.07992946028477556, 0.07335604778315608, 0.03873067027494646, 0.37084067777898605, 0.07050571535528713, 0.01862044632434845], [4, 0.072007574, 0.09592286, 0.13543335, 0.20467827, 0.08571322960351853, 0.08596013076920497, 0.08292583257348879, 0.06696188101234857, 0.07208090234902458, 0.07991856832065031, 0.07330433915030196, 0.04018254222267475, 0.37314840361936735, 0.07559157052402814, 0.016552498564124107], [5, 0.07143814, 0.09655343, 0.13596232, 0.20727903, 0.08500836419285189, 0.08641077635325635, 0.08327871480341131, 0.06763431268913597, 0.07170713566551491, 0.07994343955936807, 0.07336142521924398, 0.040353252087519054, 0.3725577085668874, 0.0764226944201201, 0.01607443206012249], [6, 0.07034161, 0.095847405, 0.1355904, 0.20651792, 0.08413951865839134, 0.08556957488838737, 0.08282995580391248, 0.06706828609383886, 0.07099069912516547, 0.0794603837343229, 0.07304718232982516, 0.04007183815933234, 0.3708128080393419, 0.07604838842971748, 0.01594112440943718], [7, 0.07088172, 0.095006265, 0.13541955, 0.20505267, 0.08463074103580033, 0.0854007336848504, 0.08267942496593211, 0.06685463036746739, 0.07142290190957237, 0.07947097723586602, 0.07308573166305925, 0.04011256272600629, 0.3721486949037149, 0.07620681321331764, 0.015928132459521294], [8, 0.071424335, 0.095377676, 0.13529646, 0.20652768, 0.08514377688890037, 0.08567798691491317, 0.08314956313414659, 0.06735135049431228, 0.07084087120411942, 0.07884859760334739, 0.07274992930776904, 0.03998650211225182, 0.3646856504108138, 0.07567804982016839, 0.015926601365208626], [9, 0.07245165, 0.09710859, 0.13648483, 0.20559047, 0.08613456829996359, 0.08687598765059772, 0.08348326085757561, 0.06719348698159702, 0.07166863028564058, 0.07965110819475048, 0.073120168292365, 0.04009901207022244, 0.3672760706860293, 0.07619070788088403, 0.015935538336634636], [10, 0.070865504, 0.096338354, 0.13511951, 0.20746852, 0.08474914576600148, 0.08627373565019963, 0.08275276927583128, 0.06761860889138666, 0.07168461234410095, 0.08008586437924606, 0.07331110488829909, 0.04038744911582649, 0.3726021776481638, 0.07668197164023732, 0.015949424356222153], [11, 0.07232518, 0.09561456, 0.1342209, 0.20587724, 0.0859936123829489, 0.08542688244907685, 0.08216856988372298, 0.06702460172546934, 0.07209792659738759, 0.07960046529204869, 0.07281237191454387, 0.04009901652542219, 0.370984711374604, 0.07638206663395225, 0.015974100679159164], [12, 0.070751704, 0.09591672, 0.13551417, 0.20706047, 0.08443575285567874, 0.08591163192146652, 0.08336022939512701, 0.06755218921721745, 0.07103198871628291, 0.07938918224867106, 0.07317800741841447, 0.04012734995240143, 0.3690421811309463, 0.0758728128090919, 0.01594632863998413], [13, 0.07164659, 0.097830385, 0.13445018, 0.2059905, 0.08509625274560886, 0.0872070995296187, 0.08235749903349228, 0.06727501433449708, 0.07168986022600975, 0.08029896767018947, 0.07307923184883114, 0.04027017070955663, 0.3712589127768755, 0.07667778167212212, 0.015930717810988426], [14, 0.0729776, 0.096174516, 0.13388029, 0.20699897, 0.08699647994755884, 0.08663588321987012, 0.0822380122156619, 0.06735136664577455, 0.07278614487230123, 0.0804618690240832, 0.07325943954051257, 0.04037173961169402, 0.3735846195912892, 0.07673718649076403, 0.015957916155457497], [15, 0.07216528, 0.095337026, 0.13765359, 0.20510587, 0.08569111779634743, 0.0855963873629637, 0.08433523952330546, 0.0672212478548904, 0.07207844301836105, 0.07974945026972023, 0.07383574356196378, 0.04031958243401456, 0.3718101788483736, 0.07659370160145398, 0.015951499342918396], [16, 0.07056027, 0.09569044, 0.1350288, 0.20707057, 0.08425832774103112, 0.08574813723384228, 0.08281334810097189, 0.06737501529516142, 0.07149419675885103, 0.07979624590955316, 0.07322316624469681, 0.04025960367520741, 0.3727621704533128, 0.07649835897185947, 0.015948403626680374]]\n",
      "-----------------------------------------------------------------------------------------\n"
     ]
    },
    {
     "name": "stderr",
     "output_type": "stream",
     "text": [
      "  0%|          | 1/1913 [00:00<13:06,  2.43it/s]"
     ]
    },
    {
     "name": "stdout",
     "output_type": "stream",
     "text": [
      "Epoch 17: 0% , Loss: 0.012894\n"
     ]
    },
    {
     "name": "stderr",
     "output_type": "stream",
     "text": [
      "  5%|▌         | 102/1913 [00:42<09:00,  3.35it/s]"
     ]
    },
    {
     "name": "stdout",
     "output_type": "stream",
     "text": [
      "Epoch 17: 5% , Loss: 0.010284\n"
     ]
    },
    {
     "name": "stderr",
     "output_type": "stream",
     "text": [
      " 11%|█         | 201/1913 [01:26<12:31,  2.28it/s]"
     ]
    },
    {
     "name": "stdout",
     "output_type": "stream",
     "text": [
      "Epoch 17: 10% , Loss: 0.024765\n"
     ]
    },
    {
     "name": "stderr",
     "output_type": "stream",
     "text": [
      " 16%|█▌        | 301/1913 [02:08<10:34,  2.54it/s]"
     ]
    },
    {
     "name": "stdout",
     "output_type": "stream",
     "text": [
      "Epoch 17: 16% , Loss: 0.017929\n"
     ]
    },
    {
     "name": "stderr",
     "output_type": "stream",
     "text": [
      " 21%|██        | 401/1913 [02:51<11:06,  2.27it/s]"
     ]
    },
    {
     "name": "stdout",
     "output_type": "stream",
     "text": [
      "Epoch 17: 21% , Loss: 0.013412\n"
     ]
    },
    {
     "name": "stderr",
     "output_type": "stream",
     "text": [
      " 26%|██▌       | 501/1913 [03:35<09:57,  2.36it/s]"
     ]
    },
    {
     "name": "stdout",
     "output_type": "stream",
     "text": [
      "Epoch 17: 26% , Loss: 0.016800\n"
     ]
    },
    {
     "name": "stderr",
     "output_type": "stream",
     "text": [
      " 31%|███▏      | 601/1913 [04:18<08:42,  2.51it/s]"
     ]
    },
    {
     "name": "stdout",
     "output_type": "stream",
     "text": [
      "Epoch 17: 31% , Loss: 0.020203\n"
     ]
    },
    {
     "name": "stderr",
     "output_type": "stream",
     "text": [
      " 37%|███▋      | 701/1913 [05:01<08:26,  2.39it/s]"
     ]
    },
    {
     "name": "stdout",
     "output_type": "stream",
     "text": [
      "Epoch 17: 37% , Loss: 0.014610\n"
     ]
    },
    {
     "name": "stderr",
     "output_type": "stream",
     "text": [
      " 42%|████▏     | 801/1913 [05:38<07:17,  2.54it/s]"
     ]
    },
    {
     "name": "stdout",
     "output_type": "stream",
     "text": [
      "Epoch 17: 42% , Loss: 0.022522\n"
     ]
    },
    {
     "name": "stderr",
     "output_type": "stream",
     "text": [
      " 47%|████▋     | 901/1913 [06:21<07:56,  2.12it/s]"
     ]
    },
    {
     "name": "stdout",
     "output_type": "stream",
     "text": [
      "Epoch 17: 47% , Loss: 0.010918\n"
     ]
    },
    {
     "name": "stderr",
     "output_type": "stream",
     "text": [
      " 52%|█████▏    | 1001/1913 [07:04<06:17,  2.42it/s]"
     ]
    },
    {
     "name": "stdout",
     "output_type": "stream",
     "text": [
      "Epoch 17: 52% , Loss: 0.013023\n"
     ]
    },
    {
     "name": "stderr",
     "output_type": "stream",
     "text": [
      " 58%|█████▊    | 1101/1913 [07:47<06:59,  1.94it/s]"
     ]
    },
    {
     "name": "stdout",
     "output_type": "stream",
     "text": [
      "Epoch 17: 58% , Loss: 0.012291\n"
     ]
    },
    {
     "name": "stderr",
     "output_type": "stream",
     "text": [
      " 63%|██████▎   | 1201/1913 [08:29<05:20,  2.22it/s]"
     ]
    },
    {
     "name": "stdout",
     "output_type": "stream",
     "text": [
      "Epoch 17: 63% , Loss: 0.013367\n"
     ]
    },
    {
     "name": "stderr",
     "output_type": "stream",
     "text": [
      " 68%|██████▊   | 1301/1913 [09:13<04:18,  2.37it/s]"
     ]
    },
    {
     "name": "stdout",
     "output_type": "stream",
     "text": [
      "Epoch 17: 68% , Loss: 0.020157\n"
     ]
    },
    {
     "name": "stderr",
     "output_type": "stream",
     "text": [
      " 73%|███████▎  | 1401/1913 [09:58<03:52,  2.20it/s]"
     ]
    },
    {
     "name": "stdout",
     "output_type": "stream",
     "text": [
      "Epoch 17: 73% , Loss: 0.021240\n"
     ]
    },
    {
     "name": "stderr",
     "output_type": "stream",
     "text": [
      " 78%|███████▊  | 1501/1913 [10:45<03:35,  1.92it/s]"
     ]
    },
    {
     "name": "stdout",
     "output_type": "stream",
     "text": [
      "Epoch 17: 78% , Loss: 0.016571\n"
     ]
    },
    {
     "name": "stderr",
     "output_type": "stream",
     "text": [
      " 84%|████████▎ | 1601/1913 [11:32<02:37,  1.99it/s]"
     ]
    },
    {
     "name": "stdout",
     "output_type": "stream",
     "text": [
      "Epoch 17: 84% , Loss: 0.011963\n"
     ]
    },
    {
     "name": "stderr",
     "output_type": "stream",
     "text": [
      " 89%|████████▉ | 1701/1913 [12:18<01:30,  2.35it/s]"
     ]
    },
    {
     "name": "stdout",
     "output_type": "stream",
     "text": [
      "Epoch 17: 89% , Loss: 0.018494\n"
     ]
    },
    {
     "name": "stderr",
     "output_type": "stream",
     "text": [
      " 94%|█████████▍| 1801/1913 [13:04<00:51,  2.16it/s]"
     ]
    },
    {
     "name": "stdout",
     "output_type": "stream",
     "text": [
      "Epoch 17: 94% , Loss: 0.020798\n"
     ]
    },
    {
     "name": "stderr",
     "output_type": "stream",
     "text": [
      " 99%|█████████▉| 1901/1913 [13:54<00:05,  2.18it/s]"
     ]
    },
    {
     "name": "stdout",
     "output_type": "stream",
     "text": [
      "Epoch 17: 99% , Loss: 0.022247\n"
     ]
    },
    {
     "name": "stderr",
     "output_type": "stream",
     "text": [
      "100%|██████████| 1913/1913 [14:00<00:00,  2.28it/s]"
     ]
    },
    {
     "name": "stdout",
     "output_type": "stream",
     "text": [
      "Epoch 17: 100% , Loss: 0.016586\n"
     ]
    },
    {
     "name": "stderr",
     "output_type": "stream",
     "text": [
      "\n"
     ]
    },
    {
     "name": "stdout",
     "output_type": "stream",
     "text": [
      "                      (HR@5: 0.0701, HR@10: 0.0959, HR@20: 0.1330, HR@50: 0.2019)\n",
      "\n",
      "                      (F1-score@5: 0.0826, F1-score@10: 0.0846, F1-score@20: 0.0803, F1-score@50: 0.0646)\n",
      "\n",
      "                      (NDCG@5: 0.0687, NDCG@10: 0.0769, NDCG@20: 0.0692, NDCG@50: 0.0386)\n",
      "\n",
      "MRR: 0.3560119097185205\n",
      "MAP: 0.07511813997624271\n",
      "train_loss= tensor(0.0163)\n",
      "--------------------\n"
     ]
    },
    {
     "name": "stderr",
     "output_type": "stream",
     "text": [
      "100%|██████████| 239/239 [01:19<00:00,  3.00it/s]\n"
     ]
    },
    {
     "name": "stdout",
     "output_type": "stream",
     "text": [
      "                      (HR@5: 0.0740, HR@10: 0.0964, HR@20: 0.1368, HR@50: 0.2024)\n",
      "\n",
      "                      (F1-score@5: 0.0852, F1-score@10: 0.0833, F1-score@20: 0.0803, F1-score@50: 0.0633)\n",
      "\n",
      "                      (NDCG@5: 0.0743, NDCG@10: 0.0769, NDCG@20: 0.0692, NDCG@50: 0.0381)\n",
      "\n",
      "MRR: 0.3665538787034377\n",
      "MAP: 0.07853536449219334\n",
      "val_loss= tensor(0.0159)\n",
      "--------------------\n"
     ]
    },
    {
     "name": "stderr",
     "output_type": "stream",
     "text": [
      "100%|██████████| 239/239 [01:24<00:00,  2.82it/s]\n"
     ]
    },
    {
     "name": "stdout",
     "output_type": "stream",
     "text": [
      "                      (HR@5: 0.0712, HR@10: 0.0943, HR@20: 0.1360, HR@50: 0.2064)\n",
      "\n",
      "                      (F1-score@5: 0.0849, F1-score@10: 0.0846, F1-score@20: 0.0835, F1-score@50: 0.0674)\n",
      "\n",
      "                      (NDCG@5: 0.0717, NDCG@10: 0.0791, NDCG@20: 0.0735, NDCG@50: 0.0403)\n",
      "\n",
      "MRR: 0.3718884373101151\n",
      "MAP: 0.07636512607449553\n",
      "--------------------\n",
      "[[1, 0.000176979, 0.00068223453, 0.0023718968, 0.009589323, 0.0002442108875163269, 0.0006268082200194199, 0.0015666954520432085, 0.003426097025787866, 0.00019837253450349785, 0.00046320433560836764, 0.0009358937552035104, 0.001248527919068917, 0.010159379821064247, 0.0036791875091503217, 0.10968425869941711], [2, 0.0579169, 0.06518013, 0.073646955, 0.0834386, 0.06800952943131663, 0.05641138543697392, 0.043556704831750635, 0.025929251122398904, 0.062218703928688016, 0.06147596937463966, 0.049521951606910225, 0.022845984657224906, 0.3318945877377938, 0.04841510151378556, 0.030537880957126617], [3, 0.07133058, 0.096410915, 0.13600734, 0.19265828, 0.08492753116137174, 0.08639378021196885, 0.08328652254666667, 0.06253583629041133, 0.07149353576142138, 0.07992946028477556, 0.07335604778315608, 0.03873067027494646, 0.37084067777898605, 0.07050571535528713, 0.01862044632434845], [4, 0.072007574, 0.09592286, 0.13543335, 0.20467827, 0.08571322960351853, 0.08596013076920497, 0.08292583257348879, 0.06696188101234857, 0.07208090234902458, 0.07991856832065031, 0.07330433915030196, 0.04018254222267475, 0.37314840361936735, 0.07559157052402814, 0.016552498564124107], [5, 0.07143814, 0.09655343, 0.13596232, 0.20727903, 0.08500836419285189, 0.08641077635325635, 0.08327871480341131, 0.06763431268913597, 0.07170713566551491, 0.07994343955936807, 0.07336142521924398, 0.040353252087519054, 0.3725577085668874, 0.0764226944201201, 0.01607443206012249], [6, 0.07034161, 0.095847405, 0.1355904, 0.20651792, 0.08413951865839134, 0.08556957488838737, 0.08282995580391248, 0.06706828609383886, 0.07099069912516547, 0.0794603837343229, 0.07304718232982516, 0.04007183815933234, 0.3708128080393419, 0.07604838842971748, 0.01594112440943718], [7, 0.07088172, 0.095006265, 0.13541955, 0.20505267, 0.08463074103580033, 0.0854007336848504, 0.08267942496593211, 0.06685463036746739, 0.07142290190957237, 0.07947097723586602, 0.07308573166305925, 0.04011256272600629, 0.3721486949037149, 0.07620681321331764, 0.015928132459521294], [8, 0.071424335, 0.095377676, 0.13529646, 0.20652768, 0.08514377688890037, 0.08567798691491317, 0.08314956313414659, 0.06735135049431228, 0.07084087120411942, 0.07884859760334739, 0.07274992930776904, 0.03998650211225182, 0.3646856504108138, 0.07567804982016839, 0.015926601365208626], [9, 0.07245165, 0.09710859, 0.13648483, 0.20559047, 0.08613456829996359, 0.08687598765059772, 0.08348326085757561, 0.06719348698159702, 0.07166863028564058, 0.07965110819475048, 0.073120168292365, 0.04009901207022244, 0.3672760706860293, 0.07619070788088403, 0.015935538336634636], [10, 0.070865504, 0.096338354, 0.13511951, 0.20746852, 0.08474914576600148, 0.08627373565019963, 0.08275276927583128, 0.06761860889138666, 0.07168461234410095, 0.08008586437924606, 0.07331110488829909, 0.04038744911582649, 0.3726021776481638, 0.07668197164023732, 0.015949424356222153], [11, 0.07232518, 0.09561456, 0.1342209, 0.20587724, 0.0859936123829489, 0.08542688244907685, 0.08216856988372298, 0.06702460172546934, 0.07209792659738759, 0.07960046529204869, 0.07281237191454387, 0.04009901652542219, 0.370984711374604, 0.07638206663395225, 0.015974100679159164], [12, 0.070751704, 0.09591672, 0.13551417, 0.20706047, 0.08443575285567874, 0.08591163192146652, 0.08336022939512701, 0.06755218921721745, 0.07103198871628291, 0.07938918224867106, 0.07317800741841447, 0.04012734995240143, 0.3690421811309463, 0.0758728128090919, 0.01594632863998413], [13, 0.07164659, 0.097830385, 0.13445018, 0.2059905, 0.08509625274560886, 0.0872070995296187, 0.08235749903349228, 0.06727501433449708, 0.07168986022600975, 0.08029896767018947, 0.07307923184883114, 0.04027017070955663, 0.3712589127768755, 0.07667778167212212, 0.015930717810988426], [14, 0.0729776, 0.096174516, 0.13388029, 0.20699897, 0.08699647994755884, 0.08663588321987012, 0.0822380122156619, 0.06735136664577455, 0.07278614487230123, 0.0804618690240832, 0.07325943954051257, 0.04037173961169402, 0.3735846195912892, 0.07673718649076403, 0.015957916155457497], [15, 0.07216528, 0.095337026, 0.13765359, 0.20510587, 0.08569111779634743, 0.0855963873629637, 0.08433523952330546, 0.0672212478548904, 0.07207844301836105, 0.07974945026972023, 0.07383574356196378, 0.04031958243401456, 0.3718101788483736, 0.07659370160145398, 0.015951499342918396], [16, 0.07056027, 0.09569044, 0.1350288, 0.20707057, 0.08425832774103112, 0.08574813723384228, 0.08281334810097189, 0.06737501529516142, 0.07149419675885103, 0.07979624590955316, 0.07322316624469681, 0.04025960367520741, 0.3727621704533128, 0.07649835897185947, 0.015948403626680374], [17, 0.07116051, 0.0942807, 0.13604088, 0.20639627, 0.08487896129788129, 0.08457004715453416, 0.08354157109794638, 0.06742299287255575, 0.07171804251862401, 0.07910168864062858, 0.07349655341267368, 0.04027064551042089, 0.3718884373101151, 0.07636512607449553, 0.015940550714731216]]\n",
      "-----------------------------------------------------------------------------------------\n"
     ]
    },
    {
     "name": "stderr",
     "output_type": "stream",
     "text": [
      "  0%|          | 1/1913 [00:00<17:18,  1.84it/s]"
     ]
    },
    {
     "name": "stdout",
     "output_type": "stream",
     "text": [
      "Epoch 18: 0% , Loss: 0.013344\n"
     ]
    },
    {
     "name": "stderr",
     "output_type": "stream",
     "text": [
      "  5%|▌         | 101/1913 [00:41<12:34,  2.40it/s]"
     ]
    },
    {
     "name": "stdout",
     "output_type": "stream",
     "text": [
      "Epoch 18: 5% , Loss: 0.017609\n"
     ]
    },
    {
     "name": "stderr",
     "output_type": "stream",
     "text": [
      " 11%|█         | 201/1913 [01:25<12:38,  2.26it/s]"
     ]
    },
    {
     "name": "stdout",
     "output_type": "stream",
     "text": [
      "Epoch 18: 10% , Loss: 0.021790\n"
     ]
    },
    {
     "name": "stderr",
     "output_type": "stream",
     "text": [
      " 16%|█▌        | 301/1913 [02:10<10:24,  2.58it/s]"
     ]
    },
    {
     "name": "stdout",
     "output_type": "stream",
     "text": [
      "Epoch 18: 16% , Loss: 0.018280\n"
     ]
    },
    {
     "name": "stderr",
     "output_type": "stream",
     "text": [
      " 21%|██        | 401/1913 [02:50<08:59,  2.80it/s]"
     ]
    },
    {
     "name": "stdout",
     "output_type": "stream",
     "text": [
      "Epoch 18: 21% , Loss: 0.013931\n"
     ]
    },
    {
     "name": "stderr",
     "output_type": "stream",
     "text": [
      " 26%|██▌       | 501/1913 [03:33<09:17,  2.53it/s]"
     ]
    },
    {
     "name": "stdout",
     "output_type": "stream",
     "text": [
      "Epoch 18: 26% , Loss: 0.010094\n"
     ]
    },
    {
     "name": "stderr",
     "output_type": "stream",
     "text": [
      " 31%|███▏      | 601/1913 [04:15<08:05,  2.70it/s]"
     ]
    },
    {
     "name": "stdout",
     "output_type": "stream",
     "text": [
      "Epoch 18: 31% , Loss: 0.020782\n"
     ]
    },
    {
     "name": "stderr",
     "output_type": "stream",
     "text": [
      " 37%|███▋      | 702/1913 [05:00<05:59,  3.37it/s]"
     ]
    },
    {
     "name": "stdout",
     "output_type": "stream",
     "text": [
      "Epoch 18: 37% , Loss: 0.022491\n"
     ]
    },
    {
     "name": "stderr",
     "output_type": "stream",
     "text": [
      " 42%|████▏     | 801/1913 [05:36<06:39,  2.79it/s]"
     ]
    },
    {
     "name": "stdout",
     "output_type": "stream",
     "text": [
      "Epoch 18: 42% , Loss: 0.013680\n"
     ]
    },
    {
     "name": "stderr",
     "output_type": "stream",
     "text": [
      " 47%|████▋     | 901/1913 [06:18<05:44,  2.94it/s]"
     ]
    },
    {
     "name": "stdout",
     "output_type": "stream",
     "text": [
      "Epoch 18: 47% , Loss: 0.015076\n"
     ]
    },
    {
     "name": "stderr",
     "output_type": "stream",
     "text": [
      " 52%|█████▏    | 1001/1913 [07:00<06:35,  2.31it/s]"
     ]
    },
    {
     "name": "stdout",
     "output_type": "stream",
     "text": [
      "Epoch 18: 52% , Loss: 0.024490\n"
     ]
    },
    {
     "name": "stderr",
     "output_type": "stream",
     "text": [
      " 58%|█████▊    | 1101/1913 [07:44<06:23,  2.12it/s]"
     ]
    },
    {
     "name": "stdout",
     "output_type": "stream",
     "text": [
      "Epoch 18: 58% , Loss: 0.014008\n"
     ]
    },
    {
     "name": "stderr",
     "output_type": "stream",
     "text": [
      " 63%|██████▎   | 1201/1913 [08:29<06:41,  1.77it/s]"
     ]
    },
    {
     "name": "stdout",
     "output_type": "stream",
     "text": [
      "Epoch 18: 63% , Loss: 0.013359\n"
     ]
    },
    {
     "name": "stderr",
     "output_type": "stream",
     "text": [
      " 68%|██████▊   | 1301/1913 [09:16<04:24,  2.32it/s]"
     ]
    },
    {
     "name": "stdout",
     "output_type": "stream",
     "text": [
      "Epoch 18: 68% , Loss: 0.017487\n"
     ]
    },
    {
     "name": "stderr",
     "output_type": "stream",
     "text": [
      " 73%|███████▎  | 1401/1913 [10:00<04:52,  1.75it/s]"
     ]
    },
    {
     "name": "stdout",
     "output_type": "stream",
     "text": [
      "Epoch 18: 73% , Loss: 0.012268\n"
     ]
    },
    {
     "name": "stderr",
     "output_type": "stream",
     "text": [
      " 78%|███████▊  | 1501/1913 [10:46<03:18,  2.08it/s]"
     ]
    },
    {
     "name": "stdout",
     "output_type": "stream",
     "text": [
      "Epoch 18: 78% , Loss: 0.019958\n"
     ]
    },
    {
     "name": "stderr",
     "output_type": "stream",
     "text": [
      " 84%|████████▎ | 1601/1913 [11:31<02:03,  2.52it/s]"
     ]
    },
    {
     "name": "stdout",
     "output_type": "stream",
     "text": [
      "Epoch 18: 84% , Loss: 0.023621\n"
     ]
    },
    {
     "name": "stderr",
     "output_type": "stream",
     "text": [
      " 89%|████████▉ | 1701/1913 [12:18<01:47,  1.97it/s]"
     ]
    },
    {
     "name": "stdout",
     "output_type": "stream",
     "text": [
      "Epoch 18: 89% , Loss: 0.011757\n"
     ]
    },
    {
     "name": "stderr",
     "output_type": "stream",
     "text": [
      " 94%|█████████▍| 1801/1913 [13:05<00:53,  2.10it/s]"
     ]
    },
    {
     "name": "stdout",
     "output_type": "stream",
     "text": [
      "Epoch 18: 94% , Loss: 0.016357\n"
     ]
    },
    {
     "name": "stderr",
     "output_type": "stream",
     "text": [
      " 99%|█████████▉| 1901/1913 [13:53<00:06,  1.92it/s]"
     ]
    },
    {
     "name": "stdout",
     "output_type": "stream",
     "text": [
      "Epoch 18: 99% , Loss: 0.020081\n"
     ]
    },
    {
     "name": "stderr",
     "output_type": "stream",
     "text": [
      "100%|██████████| 1913/1913 [13:59<00:00,  2.28it/s]"
     ]
    },
    {
     "name": "stdout",
     "output_type": "stream",
     "text": [
      "Epoch 18: 100% , Loss: 0.013466\n"
     ]
    },
    {
     "name": "stderr",
     "output_type": "stream",
     "text": [
      "\n"
     ]
    },
    {
     "name": "stdout",
     "output_type": "stream",
     "text": [
      "                      (HR@5: 0.0703, HR@10: 0.0952, HR@20: 0.1329, HR@50: 0.2022)\n",
      "\n",
      "                      (F1-score@5: 0.0827, F1-score@10: 0.0841, F1-score@20: 0.0804, F1-score@50: 0.0647)\n",
      "\n",
      "                      (NDCG@5: 0.0688, NDCG@10: 0.0767, NDCG@20: 0.0693, NDCG@50: 0.0387)\n",
      "\n",
      "MRR: 0.3561604412976442\n",
      "MAP: 0.07517410548012023\n",
      "train_loss= tensor(0.0162)\n",
      "--------------------\n"
     ]
    },
    {
     "name": "stderr",
     "output_type": "stream",
     "text": [
      "100%|██████████| 239/239 [01:20<00:00,  2.99it/s]\n"
     ]
    },
    {
     "name": "stdout",
     "output_type": "stream",
     "text": [
      "                      (HR@5: 0.0748, HR@10: 0.0993, HR@20: 0.1363, HR@50: 0.2026)\n",
      "\n",
      "                      (F1-score@5: 0.0863, F1-score@10: 0.0852, F1-score@20: 0.0798, F1-score@50: 0.0634)\n",
      "\n",
      "                      (NDCG@5: 0.0750, NDCG@10: 0.0779, NDCG@20: 0.0691, NDCG@50: 0.0381)\n",
      "\n",
      "MRR: 0.36644276528846076\n",
      "MAP: 0.0789925809679678\n",
      "val_loss= tensor(0.0160)\n",
      "--------------------\n"
     ]
    },
    {
     "name": "stderr",
     "output_type": "stream",
     "text": [
      "100%|██████████| 239/239 [01:25<00:00,  2.81it/s]\n"
     ]
    },
    {
     "name": "stdout",
     "output_type": "stream",
     "text": [
      "                      (HR@5: 0.0712, HR@10: 0.0974, HR@20: 0.1351, HR@50: 0.2056)\n",
      "\n",
      "                      (F1-score@5: 0.0847, F1-score@10: 0.0873, F1-score@20: 0.0831, F1-score@50: 0.0673)\n",
      "\n",
      "                      (NDCG@5: 0.0715, NDCG@10: 0.0804, NDCG@20: 0.0734, NDCG@50: 0.0403)\n",
      "\n",
      "MRR: 0.3712807342952835\n",
      "MAP: 0.07644666594537788\n",
      "--------------------\n",
      "[[1, 0.000176979, 0.00068223453, 0.0023718968, 0.009589323, 0.0002442108875163269, 0.0006268082200194199, 0.0015666954520432085, 0.003426097025787866, 0.00019837253450349785, 0.00046320433560836764, 0.0009358937552035104, 0.001248527919068917, 0.010159379821064247, 0.0036791875091503217, 0.10968425869941711], [2, 0.0579169, 0.06518013, 0.073646955, 0.0834386, 0.06800952943131663, 0.05641138543697392, 0.043556704831750635, 0.025929251122398904, 0.062218703928688016, 0.06147596937463966, 0.049521951606910225, 0.022845984657224906, 0.3318945877377938, 0.04841510151378556, 0.030537880957126617], [3, 0.07133058, 0.096410915, 0.13600734, 0.19265828, 0.08492753116137174, 0.08639378021196885, 0.08328652254666667, 0.06253583629041133, 0.07149353576142138, 0.07992946028477556, 0.07335604778315608, 0.03873067027494646, 0.37084067777898605, 0.07050571535528713, 0.01862044632434845], [4, 0.072007574, 0.09592286, 0.13543335, 0.20467827, 0.08571322960351853, 0.08596013076920497, 0.08292583257348879, 0.06696188101234857, 0.07208090234902458, 0.07991856832065031, 0.07330433915030196, 0.04018254222267475, 0.37314840361936735, 0.07559157052402814, 0.016552498564124107], [5, 0.07143814, 0.09655343, 0.13596232, 0.20727903, 0.08500836419285189, 0.08641077635325635, 0.08327871480341131, 0.06763431268913597, 0.07170713566551491, 0.07994343955936807, 0.07336142521924398, 0.040353252087519054, 0.3725577085668874, 0.0764226944201201, 0.01607443206012249], [6, 0.07034161, 0.095847405, 0.1355904, 0.20651792, 0.08413951865839134, 0.08556957488838737, 0.08282995580391248, 0.06706828609383886, 0.07099069912516547, 0.0794603837343229, 0.07304718232982516, 0.04007183815933234, 0.3708128080393419, 0.07604838842971748, 0.01594112440943718], [7, 0.07088172, 0.095006265, 0.13541955, 0.20505267, 0.08463074103580033, 0.0854007336848504, 0.08267942496593211, 0.06685463036746739, 0.07142290190957237, 0.07947097723586602, 0.07308573166305925, 0.04011256272600629, 0.3721486949037149, 0.07620681321331764, 0.015928132459521294], [8, 0.071424335, 0.095377676, 0.13529646, 0.20652768, 0.08514377688890037, 0.08567798691491317, 0.08314956313414659, 0.06735135049431228, 0.07084087120411942, 0.07884859760334739, 0.07274992930776904, 0.03998650211225182, 0.3646856504108138, 0.07567804982016839, 0.015926601365208626], [9, 0.07245165, 0.09710859, 0.13648483, 0.20559047, 0.08613456829996359, 0.08687598765059772, 0.08348326085757561, 0.06719348698159702, 0.07166863028564058, 0.07965110819475048, 0.073120168292365, 0.04009901207022244, 0.3672760706860293, 0.07619070788088403, 0.015935538336634636], [10, 0.070865504, 0.096338354, 0.13511951, 0.20746852, 0.08474914576600148, 0.08627373565019963, 0.08275276927583128, 0.06761860889138666, 0.07168461234410095, 0.08008586437924606, 0.07331110488829909, 0.04038744911582649, 0.3726021776481638, 0.07668197164023732, 0.015949424356222153], [11, 0.07232518, 0.09561456, 0.1342209, 0.20587724, 0.0859936123829489, 0.08542688244907685, 0.08216856988372298, 0.06702460172546934, 0.07209792659738759, 0.07960046529204869, 0.07281237191454387, 0.04009901652542219, 0.370984711374604, 0.07638206663395225, 0.015974100679159164], [12, 0.070751704, 0.09591672, 0.13551417, 0.20706047, 0.08443575285567874, 0.08591163192146652, 0.08336022939512701, 0.06755218921721745, 0.07103198871628291, 0.07938918224867106, 0.07317800741841447, 0.04012734995240143, 0.3690421811309463, 0.0758728128090919, 0.01594632863998413], [13, 0.07164659, 0.097830385, 0.13445018, 0.2059905, 0.08509625274560886, 0.0872070995296187, 0.08235749903349228, 0.06727501433449708, 0.07168986022600975, 0.08029896767018947, 0.07307923184883114, 0.04027017070955663, 0.3712589127768755, 0.07667778167212212, 0.015930717810988426], [14, 0.0729776, 0.096174516, 0.13388029, 0.20699897, 0.08699647994755884, 0.08663588321987012, 0.0822380122156619, 0.06735136664577455, 0.07278614487230123, 0.0804618690240832, 0.07325943954051257, 0.04037173961169402, 0.3735846195912892, 0.07673718649076403, 0.015957916155457497], [15, 0.07216528, 0.095337026, 0.13765359, 0.20510587, 0.08569111779634743, 0.0855963873629637, 0.08433523952330546, 0.0672212478548904, 0.07207844301836105, 0.07974945026972023, 0.07383574356196378, 0.04031958243401456, 0.3718101788483736, 0.07659370160145398, 0.015951499342918396], [16, 0.07056027, 0.09569044, 0.1350288, 0.20707057, 0.08425832774103112, 0.08574813723384228, 0.08281334810097189, 0.06737501529516142, 0.07149419675885103, 0.07979624590955316, 0.07322316624469681, 0.04025960367520741, 0.3727621704533128, 0.07649835897185947, 0.015948403626680374], [17, 0.07116051, 0.0942807, 0.13604088, 0.20639627, 0.08487896129788129, 0.08457004715453416, 0.08354157109794638, 0.06742299287255575, 0.07171804251862401, 0.07910168864062858, 0.07349655341267368, 0.04027064551042089, 0.3718884373101151, 0.07636512607449553, 0.015940550714731216], [18, 0.07121523, 0.0973925, 0.13514905, 0.20559503, 0.08470197694501988, 0.08731131548885279, 0.0831005891592109, 0.06731414464684705, 0.07150566187749566, 0.08039738139075278, 0.07336159350903837, 0.04025050298560208, 0.3712807342952835, 0.07644666594537788, 0.015982240438461304]]\n",
      "-----------------------------------------------------------------------------------------\n"
     ]
    },
    {
     "name": "stderr",
     "output_type": "stream",
     "text": [
      "  0%|          | 1/1913 [00:00<13:54,  2.29it/s]"
     ]
    },
    {
     "name": "stdout",
     "output_type": "stream",
     "text": [
      "Epoch 19: 0% , Loss: 0.018265\n"
     ]
    },
    {
     "name": "stderr",
     "output_type": "stream",
     "text": [
      "  5%|▌         | 101/1913 [00:42<14:03,  2.15it/s]"
     ]
    },
    {
     "name": "stdout",
     "output_type": "stream",
     "text": [
      "Epoch 19: 5% , Loss: 0.020905\n"
     ]
    },
    {
     "name": "stderr",
     "output_type": "stream",
     "text": [
      " 11%|█         | 201/1913 [01:24<09:30,  3.00it/s]"
     ]
    },
    {
     "name": "stdout",
     "output_type": "stream",
     "text": [
      "Epoch 19: 10% , Loss: 0.014641\n"
     ]
    },
    {
     "name": "stderr",
     "output_type": "stream",
     "text": [
      " 16%|█▌        | 301/1913 [02:08<12:38,  2.13it/s]"
     ]
    },
    {
     "name": "stdout",
     "output_type": "stream",
     "text": [
      "Epoch 19: 16% , Loss: 0.018082\n"
     ]
    },
    {
     "name": "stderr",
     "output_type": "stream",
     "text": [
      " 21%|██        | 401/1913 [02:54<10:44,  2.35it/s]"
     ]
    },
    {
     "name": "stdout",
     "output_type": "stream",
     "text": [
      "Epoch 19: 21% , Loss: 0.016373\n"
     ]
    },
    {
     "name": "stderr",
     "output_type": "stream",
     "text": [
      " 26%|██▌       | 501/1913 [03:37<10:43,  2.20it/s]"
     ]
    },
    {
     "name": "stdout",
     "output_type": "stream",
     "text": [
      "Epoch 19: 26% , Loss: 0.012512\n"
     ]
    },
    {
     "name": "stderr",
     "output_type": "stream",
     "text": [
      " 31%|███▏      | 601/1913 [04:21<09:52,  2.21it/s]"
     ]
    },
    {
     "name": "stdout",
     "output_type": "stream",
     "text": [
      "Epoch 19: 31% , Loss: 0.027267\n"
     ]
    },
    {
     "name": "stderr",
     "output_type": "stream",
     "text": [
      " 37%|███▋      | 701/1913 [04:58<08:50,  2.28it/s]"
     ]
    },
    {
     "name": "stdout",
     "output_type": "stream",
     "text": [
      "Epoch 19: 37% , Loss: 0.013382\n"
     ]
    },
    {
     "name": "stderr",
     "output_type": "stream",
     "text": [
      " 42%|████▏     | 801/1913 [05:42<07:49,  2.37it/s]"
     ]
    },
    {
     "name": "stdout",
     "output_type": "stream",
     "text": [
      "Epoch 19: 42% , Loss: 0.014427\n"
     ]
    },
    {
     "name": "stderr",
     "output_type": "stream",
     "text": [
      " 47%|████▋     | 901/1913 [06:23<06:17,  2.68it/s]"
     ]
    },
    {
     "name": "stdout",
     "output_type": "stream",
     "text": [
      "Epoch 19: 47% , Loss: 0.015533\n"
     ]
    },
    {
     "name": "stderr",
     "output_type": "stream",
     "text": [
      " 52%|█████▏    | 1001/1913 [07:07<05:35,  2.72it/s]"
     ]
    },
    {
     "name": "stdout",
     "output_type": "stream",
     "text": [
      "Epoch 19: 52% , Loss: 0.011841\n"
     ]
    },
    {
     "name": "stderr",
     "output_type": "stream",
     "text": [
      " 58%|█████▊    | 1101/1913 [07:48<05:53,  2.30it/s]"
     ]
    },
    {
     "name": "stdout",
     "output_type": "stream",
     "text": [
      "Epoch 19: 58% , Loss: 0.021896\n"
     ]
    },
    {
     "name": "stderr",
     "output_type": "stream",
     "text": [
      " 63%|██████▎   | 1201/1913 [08:33<04:31,  2.62it/s]"
     ]
    },
    {
     "name": "stdout",
     "output_type": "stream",
     "text": [
      "Epoch 19: 63% , Loss: 0.018829\n"
     ]
    },
    {
     "name": "stderr",
     "output_type": "stream",
     "text": [
      " 68%|██████▊   | 1301/1913 [09:16<04:47,  2.13it/s]"
     ]
    },
    {
     "name": "stdout",
     "output_type": "stream",
     "text": [
      "Epoch 19: 68% , Loss: 0.011993\n"
     ]
    },
    {
     "name": "stderr",
     "output_type": "stream",
     "text": [
      " 73%|███████▎  | 1401/1913 [10:00<04:37,  1.85it/s]"
     ]
    },
    {
     "name": "stdout",
     "output_type": "stream",
     "text": [
      "Epoch 19: 73% , Loss: 0.016373\n"
     ]
    },
    {
     "name": "stderr",
     "output_type": "stream",
     "text": [
      " 78%|███████▊  | 1501/1913 [10:47<03:02,  2.26it/s]"
     ]
    },
    {
     "name": "stdout",
     "output_type": "stream",
     "text": [
      "Epoch 19: 78% , Loss: 0.013847\n"
     ]
    },
    {
     "name": "stderr",
     "output_type": "stream",
     "text": [
      " 84%|████████▎ | 1601/1913 [11:32<02:33,  2.03it/s]"
     ]
    },
    {
     "name": "stdout",
     "output_type": "stream",
     "text": [
      "Epoch 19: 84% , Loss: 0.013290\n"
     ]
    },
    {
     "name": "stderr",
     "output_type": "stream",
     "text": [
      " 89%|████████▉ | 1701/1913 [12:20<01:48,  1.96it/s]"
     ]
    },
    {
     "name": "stdout",
     "output_type": "stream",
     "text": [
      "Epoch 19: 89% , Loss: 0.018692\n"
     ]
    },
    {
     "name": "stderr",
     "output_type": "stream",
     "text": [
      " 94%|█████████▍| 1801/1913 [13:08<00:51,  2.16it/s]"
     ]
    },
    {
     "name": "stdout",
     "output_type": "stream",
     "text": [
      "Epoch 19: 94% , Loss: 0.012306\n"
     ]
    },
    {
     "name": "stderr",
     "output_type": "stream",
     "text": [
      " 99%|█████████▉| 1901/1913 [13:54<00:06,  1.89it/s]"
     ]
    },
    {
     "name": "stdout",
     "output_type": "stream",
     "text": [
      "Epoch 19: 99% , Loss: 0.012924\n"
     ]
    },
    {
     "name": "stderr",
     "output_type": "stream",
     "text": [
      "100%|██████████| 1913/1913 [13:59<00:00,  2.28it/s]"
     ]
    },
    {
     "name": "stdout",
     "output_type": "stream",
     "text": [
      "Epoch 19: 100% , Loss: 0.015587\n"
     ]
    },
    {
     "name": "stderr",
     "output_type": "stream",
     "text": [
      "\n"
     ]
    },
    {
     "name": "stdout",
     "output_type": "stream",
     "text": [
      "                      (HR@5: 0.0704, HR@10: 0.0954, HR@20: 0.1334, HR@50: 0.2027)\n",
      "\n",
      "                      (F1-score@5: 0.0827, F1-score@10: 0.0843, F1-score@20: 0.0806, F1-score@50: 0.0648)\n",
      "\n",
      "                      (NDCG@5: 0.0689, NDCG@10: 0.0768, NDCG@20: 0.0694, NDCG@50: 0.0387)\n",
      "\n",
      "MRR: 0.35651162697815847\n",
      "MAP: 0.0752986957079923\n",
      "train_loss= tensor(0.0162)\n",
      "--------------------\n"
     ]
    },
    {
     "name": "stderr",
     "output_type": "stream",
     "text": [
      "100%|██████████| 239/239 [01:20<00:00,  2.97it/s]\n"
     ]
    },
    {
     "name": "stdout",
     "output_type": "stream",
     "text": [
      "                      (HR@5: 0.0745, HR@10: 0.1011, HR@20: 0.1366, HR@50: 0.2034)\n",
      "\n",
      "                      (F1-score@5: 0.0865, F1-score@10: 0.0863, F1-score@20: 0.0802, F1-score@50: 0.0634)\n",
      "\n",
      "                      (NDCG@5: 0.0748, NDCG@10: 0.0782, NDCG@20: 0.0692, NDCG@50: 0.0381)\n",
      "\n",
      "MRR: 0.3662867786331117\n",
      "MAP: 0.07886017995039127\n",
      "val_loss= tensor(0.0160)\n",
      "--------------------\n"
     ]
    },
    {
     "name": "stderr",
     "output_type": "stream",
     "text": [
      "100%|██████████| 239/239 [01:25<00:00,  2.80it/s]\n"
     ]
    },
    {
     "name": "stdout",
     "output_type": "stream",
     "text": [
      "                      (HR@5: 0.0713, HR@10: 0.0972, HR@20: 0.1348, HR@50: 0.2049)\n",
      "\n",
      "                      (F1-score@5: 0.0850, F1-score@10: 0.0870, F1-score@20: 0.0829, F1-score@50: 0.0669)\n",
      "\n",
      "                      (NDCG@5: 0.0717, NDCG@10: 0.0806, NDCG@20: 0.0734, NDCG@50: 0.0402)\n",
      "\n",
      "MRR: 0.37314102867597815\n",
      "MAP: 0.07647775329335257\n",
      "--------------------\n",
      "[[1, 0.000176979, 0.00068223453, 0.0023718968, 0.009589323, 0.0002442108875163269, 0.0006268082200194199, 0.0015666954520432085, 0.003426097025787866, 0.00019837253450349785, 0.00046320433560836764, 0.0009358937552035104, 0.001248527919068917, 0.010159379821064247, 0.0036791875091503217, 0.10968425869941711], [2, 0.0579169, 0.06518013, 0.073646955, 0.0834386, 0.06800952943131663, 0.05641138543697392, 0.043556704831750635, 0.025929251122398904, 0.062218703928688016, 0.06147596937463966, 0.049521951606910225, 0.022845984657224906, 0.3318945877377938, 0.04841510151378556, 0.030537880957126617], [3, 0.07133058, 0.096410915, 0.13600734, 0.19265828, 0.08492753116137174, 0.08639378021196885, 0.08328652254666667, 0.06253583629041133, 0.07149353576142138, 0.07992946028477556, 0.07335604778315608, 0.03873067027494646, 0.37084067777898605, 0.07050571535528713, 0.01862044632434845], [4, 0.072007574, 0.09592286, 0.13543335, 0.20467827, 0.08571322960351853, 0.08596013076920497, 0.08292583257348879, 0.06696188101234857, 0.07208090234902458, 0.07991856832065031, 0.07330433915030196, 0.04018254222267475, 0.37314840361936735, 0.07559157052402814, 0.016552498564124107], [5, 0.07143814, 0.09655343, 0.13596232, 0.20727903, 0.08500836419285189, 0.08641077635325635, 0.08327871480341131, 0.06763431268913597, 0.07170713566551491, 0.07994343955936807, 0.07336142521924398, 0.040353252087519054, 0.3725577085668874, 0.0764226944201201, 0.01607443206012249], [6, 0.07034161, 0.095847405, 0.1355904, 0.20651792, 0.08413951865839134, 0.08556957488838737, 0.08282995580391248, 0.06706828609383886, 0.07099069912516547, 0.0794603837343229, 0.07304718232982516, 0.04007183815933234, 0.3708128080393419, 0.07604838842971748, 0.01594112440943718], [7, 0.07088172, 0.095006265, 0.13541955, 0.20505267, 0.08463074103580033, 0.0854007336848504, 0.08267942496593211, 0.06685463036746739, 0.07142290190957237, 0.07947097723586602, 0.07308573166305925, 0.04011256272600629, 0.3721486949037149, 0.07620681321331764, 0.015928132459521294], [8, 0.071424335, 0.095377676, 0.13529646, 0.20652768, 0.08514377688890037, 0.08567798691491317, 0.08314956313414659, 0.06735135049431228, 0.07084087120411942, 0.07884859760334739, 0.07274992930776904, 0.03998650211225182, 0.3646856504108138, 0.07567804982016839, 0.015926601365208626], [9, 0.07245165, 0.09710859, 0.13648483, 0.20559047, 0.08613456829996359, 0.08687598765059772, 0.08348326085757561, 0.06719348698159702, 0.07166863028564058, 0.07965110819475048, 0.073120168292365, 0.04009901207022244, 0.3672760706860293, 0.07619070788088403, 0.015935538336634636], [10, 0.070865504, 0.096338354, 0.13511951, 0.20746852, 0.08474914576600148, 0.08627373565019963, 0.08275276927583128, 0.06761860889138666, 0.07168461234410095, 0.08008586437924606, 0.07331110488829909, 0.04038744911582649, 0.3726021776481638, 0.07668197164023732, 0.015949424356222153], [11, 0.07232518, 0.09561456, 0.1342209, 0.20587724, 0.0859936123829489, 0.08542688244907685, 0.08216856988372298, 0.06702460172546934, 0.07209792659738759, 0.07960046529204869, 0.07281237191454387, 0.04009901652542219, 0.370984711374604, 0.07638206663395225, 0.015974100679159164], [12, 0.070751704, 0.09591672, 0.13551417, 0.20706047, 0.08443575285567874, 0.08591163192146652, 0.08336022939512701, 0.06755218921721745, 0.07103198871628291, 0.07938918224867106, 0.07317800741841447, 0.04012734995240143, 0.3690421811309463, 0.0758728128090919, 0.01594632863998413], [13, 0.07164659, 0.097830385, 0.13445018, 0.2059905, 0.08509625274560886, 0.0872070995296187, 0.08235749903349228, 0.06727501433449708, 0.07168986022600975, 0.08029896767018947, 0.07307923184883114, 0.04027017070955663, 0.3712589127768755, 0.07667778167212212, 0.015930717810988426], [14, 0.0729776, 0.096174516, 0.13388029, 0.20699897, 0.08699647994755884, 0.08663588321987012, 0.0822380122156619, 0.06735136664577455, 0.07278614487230123, 0.0804618690240832, 0.07325943954051257, 0.04037173961169402, 0.3735846195912892, 0.07673718649076403, 0.015957916155457497], [15, 0.07216528, 0.095337026, 0.13765359, 0.20510587, 0.08569111779634743, 0.0855963873629637, 0.08433523952330546, 0.0672212478548904, 0.07207844301836105, 0.07974945026972023, 0.07383574356196378, 0.04031958243401456, 0.3718101788483736, 0.07659370160145398, 0.015951499342918396], [16, 0.07056027, 0.09569044, 0.1350288, 0.20707057, 0.08425832774103112, 0.08574813723384228, 0.08281334810097189, 0.06737501529516142, 0.07149419675885103, 0.07979624590955316, 0.07322316624469681, 0.04025960367520741, 0.3727621704533128, 0.07649835897185947, 0.015948403626680374], [17, 0.07116051, 0.0942807, 0.13604088, 0.20639627, 0.08487896129788129, 0.08457004715453416, 0.08354157109794638, 0.06742299287255575, 0.07171804251862401, 0.07910168864062858, 0.07349655341267368, 0.04027064551042089, 0.3718884373101151, 0.07636512607449553, 0.015940550714731216], [18, 0.07121523, 0.0973925, 0.13514905, 0.20559503, 0.08470197694501988, 0.08731131548885279, 0.0831005891592109, 0.06731414464684705, 0.07150566187749566, 0.08039738139075278, 0.07336159350903837, 0.04025050298560208, 0.3712807342952835, 0.07644666594537788, 0.015982240438461304], [19, 0.0712593, 0.0971797, 0.13484332, 0.20493202, 0.08501274730164084, 0.08704693784365707, 0.08285229059143145, 0.06694349932107255, 0.07166767846422745, 0.08056058910106421, 0.07342843234316918, 0.04021088196847307, 0.37314102867597815, 0.07647775329335257, 0.015966566279530525]]\n",
      "-----------------------------------------------------------------------------------------\n"
     ]
    },
    {
     "name": "stderr",
     "output_type": "stream",
     "text": [
      "  0%|          | 1/1913 [00:00<22:13,  1.43it/s]"
     ]
    },
    {
     "name": "stdout",
     "output_type": "stream",
     "text": [
      "Epoch 20: 0% , Loss: 0.014473\n"
     ]
    },
    {
     "name": "stderr",
     "output_type": "stream",
     "text": [
      "  5%|▌         | 101/1913 [00:43<12:34,  2.40it/s]"
     ]
    },
    {
     "name": "stdout",
     "output_type": "stream",
     "text": [
      "Epoch 20: 5% , Loss: 0.011528\n"
     ]
    },
    {
     "name": "stderr",
     "output_type": "stream",
     "text": [
      " 11%|█         | 201/1913 [01:27<12:20,  2.31it/s]"
     ]
    },
    {
     "name": "stdout",
     "output_type": "stream",
     "text": [
      "Epoch 20: 10% , Loss: 0.018082\n"
     ]
    },
    {
     "name": "stderr",
     "output_type": "stream",
     "text": [
      " 16%|█▌        | 301/1913 [02:10<09:36,  2.80it/s]"
     ]
    },
    {
     "name": "stdout",
     "output_type": "stream",
     "text": [
      "Epoch 20: 16% , Loss: 0.013603\n"
     ]
    },
    {
     "name": "stderr",
     "output_type": "stream",
     "text": [
      " 21%|██        | 401/1913 [02:54<11:13,  2.25it/s]"
     ]
    },
    {
     "name": "stdout",
     "output_type": "stream",
     "text": [
      "Epoch 20: 21% , Loss: 0.014610\n"
     ]
    },
    {
     "name": "stderr",
     "output_type": "stream",
     "text": [
      " 26%|██▌       | 501/1913 [03:37<09:55,  2.37it/s]"
     ]
    },
    {
     "name": "stdout",
     "output_type": "stream",
     "text": [
      "Epoch 20: 26% , Loss: 0.013000\n"
     ]
    },
    {
     "name": "stderr",
     "output_type": "stream",
     "text": [
      " 31%|███▏      | 601/1913 [04:16<10:23,  2.11it/s]"
     ]
    },
    {
     "name": "stdout",
     "output_type": "stream",
     "text": [
      "Epoch 20: 31% , Loss: 0.009804\n"
     ]
    },
    {
     "name": "stderr",
     "output_type": "stream",
     "text": [
      " 37%|███▋      | 701/1913 [05:00<09:25,  2.14it/s]"
     ]
    },
    {
     "name": "stdout",
     "output_type": "stream",
     "text": [
      "Epoch 20: 37% , Loss: 0.011597\n"
     ]
    },
    {
     "name": "stderr",
     "output_type": "stream",
     "text": [
      " 42%|████▏     | 801/1913 [05:42<06:40,  2.78it/s]"
     ]
    },
    {
     "name": "stdout",
     "output_type": "stream",
     "text": [
      "Epoch 20: 42% , Loss: 0.020157\n"
     ]
    },
    {
     "name": "stderr",
     "output_type": "stream",
     "text": [
      " 47%|████▋     | 901/1913 [06:25<07:00,  2.41it/s]"
     ]
    },
    {
     "name": "stdout",
     "output_type": "stream",
     "text": [
      "Epoch 20: 47% , Loss: 0.018219\n"
     ]
    },
    {
     "name": "stderr",
     "output_type": "stream",
     "text": [
      " 52%|█████▏    | 1001/1913 [07:07<07:42,  1.97it/s]"
     ]
    },
    {
     "name": "stdout",
     "output_type": "stream",
     "text": [
      "Epoch 20: 52% , Loss: 0.011337\n"
     ]
    },
    {
     "name": "stderr",
     "output_type": "stream",
     "text": [
      " 58%|█████▊    | 1101/1913 [07:50<06:14,  2.17it/s]"
     ]
    },
    {
     "name": "stdout",
     "output_type": "stream",
     "text": [
      "Epoch 20: 58% , Loss: 0.021698\n"
     ]
    },
    {
     "name": "stderr",
     "output_type": "stream",
     "text": [
      " 63%|██████▎   | 1201/1913 [08:35<05:08,  2.31it/s]"
     ]
    },
    {
     "name": "stdout",
     "output_type": "stream",
     "text": [
      "Epoch 20: 63% , Loss: 0.015869\n"
     ]
    },
    {
     "name": "stderr",
     "output_type": "stream",
     "text": [
      " 68%|██████▊   | 1301/1913 [09:18<04:55,  2.07it/s]"
     ]
    },
    {
     "name": "stdout",
     "output_type": "stream",
     "text": [
      "Epoch 20: 68% , Loss: 0.011497\n"
     ]
    },
    {
     "name": "stderr",
     "output_type": "stream",
     "text": [
      " 73%|███████▎  | 1401/1913 [10:04<03:23,  2.52it/s]"
     ]
    },
    {
     "name": "stdout",
     "output_type": "stream",
     "text": [
      "Epoch 20: 73% , Loss: 0.023407\n"
     ]
    },
    {
     "name": "stderr",
     "output_type": "stream",
     "text": [
      " 78%|███████▊  | 1501/1913 [10:49<03:54,  1.76it/s]"
     ]
    },
    {
     "name": "stdout",
     "output_type": "stream",
     "text": [
      "Epoch 20: 78% , Loss: 0.015251\n"
     ]
    },
    {
     "name": "stderr",
     "output_type": "stream",
     "text": [
      " 84%|████████▎ | 1601/1913 [11:35<02:34,  2.02it/s]"
     ]
    },
    {
     "name": "stdout",
     "output_type": "stream",
     "text": [
      "Epoch 20: 84% , Loss: 0.014862\n"
     ]
    },
    {
     "name": "stderr",
     "output_type": "stream",
     "text": [
      " 89%|████████▉ | 1701/1913 [12:21<01:37,  2.17it/s]"
     ]
    },
    {
     "name": "stdout",
     "output_type": "stream",
     "text": [
      "Epoch 20: 89% , Loss: 0.016891\n"
     ]
    },
    {
     "name": "stderr",
     "output_type": "stream",
     "text": [
      " 94%|█████████▍| 1801/1913 [13:09<00:53,  2.10it/s]"
     ]
    },
    {
     "name": "stdout",
     "output_type": "stream",
     "text": [
      "Epoch 20: 94% , Loss: 0.016190\n"
     ]
    },
    {
     "name": "stderr",
     "output_type": "stream",
     "text": [
      " 99%|█████████▉| 1901/1913 [13:55<00:06,  1.91it/s]"
     ]
    },
    {
     "name": "stdout",
     "output_type": "stream",
     "text": [
      "Epoch 20: 99% , Loss: 0.020691\n"
     ]
    },
    {
     "name": "stderr",
     "output_type": "stream",
     "text": [
      "100%|██████████| 1913/1913 [14:01<00:00,  2.27it/s]"
     ]
    },
    {
     "name": "stdout",
     "output_type": "stream",
     "text": [
      "Epoch 20: 100% , Loss: 0.018921\n"
     ]
    },
    {
     "name": "stderr",
     "output_type": "stream",
     "text": [
      "\n"
     ]
    },
    {
     "name": "stdout",
     "output_type": "stream",
     "text": [
      "                      (HR@5: 0.0703, HR@10: 0.0949, HR@20: 0.1333, HR@50: 0.2014)\n",
      "\n",
      "                      (F1-score@5: 0.0827, F1-score@10: 0.0839, F1-score@20: 0.0805, F1-score@50: 0.0645)\n",
      "\n",
      "                      (NDCG@5: 0.0688, NDCG@10: 0.0765, NDCG@20: 0.0693, NDCG@50: 0.0386)\n",
      "\n",
      "MRR: 0.35607342994272\n",
      "MAP: 0.07511807530687631\n",
      "train_loss= tensor(0.0162)\n",
      "--------------------\n"
     ]
    },
    {
     "name": "stderr",
     "output_type": "stream",
     "text": [
      "100%|██████████| 239/239 [01:20<00:00,  2.97it/s]\n"
     ]
    },
    {
     "name": "stdout",
     "output_type": "stream",
     "text": [
      "                      (HR@5: 0.0742, HR@10: 0.0988, HR@20: 0.1363, HR@50: 0.2034)\n",
      "\n",
      "                      (F1-score@5: 0.0856, F1-score@10: 0.0848, F1-score@20: 0.0803, F1-score@50: 0.0635)\n",
      "\n",
      "                      (NDCG@5: 0.0747, NDCG@10: 0.0775, NDCG@20: 0.0693, NDCG@50: 0.0381)\n",
      "\n",
      "MRR: 0.365809492576855\n",
      "MAP: 0.07885493264689317\n",
      "val_loss= tensor(0.0160)\n",
      "--------------------\n"
     ]
    },
    {
     "name": "stderr",
     "output_type": "stream",
     "text": [
      "100%|██████████| 239/239 [01:25<00:00,  2.79it/s]\n"
     ]
    },
    {
     "name": "stdout",
     "output_type": "stream",
     "text": [
      "                      (HR@5: 0.0713, HR@10: 0.0964, HR@20: 0.1349, HR@50: 0.2064)\n",
      "\n",
      "                      (F1-score@5: 0.0847, F1-score@10: 0.0867, F1-score@20: 0.0828, F1-score@50: 0.0672)\n",
      "\n",
      "                      (NDCG@5: 0.0716, NDCG@10: 0.0803, NDCG@20: 0.0732, NDCG@50: 0.0402)\n",
      "\n",
      "MRR: 0.37065269834038594\n",
      "MAP: 0.0766707968669636\n",
      "--------------------\n",
      "[[1, 0.000176979, 0.00068223453, 0.0023718968, 0.009589323, 0.0002442108875163269, 0.0006268082200194199, 0.0015666954520432085, 0.003426097025787866, 0.00019837253450349785, 0.00046320433560836764, 0.0009358937552035104, 0.001248527919068917, 0.010159379821064247, 0.0036791875091503217, 0.10968425869941711], [2, 0.0579169, 0.06518013, 0.073646955, 0.0834386, 0.06800952943131663, 0.05641138543697392, 0.043556704831750635, 0.025929251122398904, 0.062218703928688016, 0.06147596937463966, 0.049521951606910225, 0.022845984657224906, 0.3318945877377938, 0.04841510151378556, 0.030537880957126617], [3, 0.07133058, 0.096410915, 0.13600734, 0.19265828, 0.08492753116137174, 0.08639378021196885, 0.08328652254666667, 0.06253583629041133, 0.07149353576142138, 0.07992946028477556, 0.07335604778315608, 0.03873067027494646, 0.37084067777898605, 0.07050571535528713, 0.01862044632434845], [4, 0.072007574, 0.09592286, 0.13543335, 0.20467827, 0.08571322960351853, 0.08596013076920497, 0.08292583257348879, 0.06696188101234857, 0.07208090234902458, 0.07991856832065031, 0.07330433915030196, 0.04018254222267475, 0.37314840361936735, 0.07559157052402814, 0.016552498564124107], [5, 0.07143814, 0.09655343, 0.13596232, 0.20727903, 0.08500836419285189, 0.08641077635325635, 0.08327871480341131, 0.06763431268913597, 0.07170713566551491, 0.07994343955936807, 0.07336142521924398, 0.040353252087519054, 0.3725577085668874, 0.0764226944201201, 0.01607443206012249], [6, 0.07034161, 0.095847405, 0.1355904, 0.20651792, 0.08413951865839134, 0.08556957488838737, 0.08282995580391248, 0.06706828609383886, 0.07099069912516547, 0.0794603837343229, 0.07304718232982516, 0.04007183815933234, 0.3708128080393419, 0.07604838842971748, 0.01594112440943718], [7, 0.07088172, 0.095006265, 0.13541955, 0.20505267, 0.08463074103580033, 0.0854007336848504, 0.08267942496593211, 0.06685463036746739, 0.07142290190957237, 0.07947097723586602, 0.07308573166305925, 0.04011256272600629, 0.3721486949037149, 0.07620681321331764, 0.015928132459521294], [8, 0.071424335, 0.095377676, 0.13529646, 0.20652768, 0.08514377688890037, 0.08567798691491317, 0.08314956313414659, 0.06735135049431228, 0.07084087120411942, 0.07884859760334739, 0.07274992930776904, 0.03998650211225182, 0.3646856504108138, 0.07567804982016839, 0.015926601365208626], [9, 0.07245165, 0.09710859, 0.13648483, 0.20559047, 0.08613456829996359, 0.08687598765059772, 0.08348326085757561, 0.06719348698159702, 0.07166863028564058, 0.07965110819475048, 0.073120168292365, 0.04009901207022244, 0.3672760706860293, 0.07619070788088403, 0.015935538336634636], [10, 0.070865504, 0.096338354, 0.13511951, 0.20746852, 0.08474914576600148, 0.08627373565019963, 0.08275276927583128, 0.06761860889138666, 0.07168461234410095, 0.08008586437924606, 0.07331110488829909, 0.04038744911582649, 0.3726021776481638, 0.07668197164023732, 0.015949424356222153], [11, 0.07232518, 0.09561456, 0.1342209, 0.20587724, 0.0859936123829489, 0.08542688244907685, 0.08216856988372298, 0.06702460172546934, 0.07209792659738759, 0.07960046529204869, 0.07281237191454387, 0.04009901652542219, 0.370984711374604, 0.07638206663395225, 0.015974100679159164], [12, 0.070751704, 0.09591672, 0.13551417, 0.20706047, 0.08443575285567874, 0.08591163192146652, 0.08336022939512701, 0.06755218921721745, 0.07103198871628291, 0.07938918224867106, 0.07317800741841447, 0.04012734995240143, 0.3690421811309463, 0.0758728128090919, 0.01594632863998413], [13, 0.07164659, 0.097830385, 0.13445018, 0.2059905, 0.08509625274560886, 0.0872070995296187, 0.08235749903349228, 0.06727501433449708, 0.07168986022600975, 0.08029896767018947, 0.07307923184883114, 0.04027017070955663, 0.3712589127768755, 0.07667778167212212, 0.015930717810988426], [14, 0.0729776, 0.096174516, 0.13388029, 0.20699897, 0.08699647994755884, 0.08663588321987012, 0.0822380122156619, 0.06735136664577455, 0.07278614487230123, 0.0804618690240832, 0.07325943954051257, 0.04037173961169402, 0.3735846195912892, 0.07673718649076403, 0.015957916155457497], [15, 0.07216528, 0.095337026, 0.13765359, 0.20510587, 0.08569111779634743, 0.0855963873629637, 0.08433523952330546, 0.0672212478548904, 0.07207844301836105, 0.07974945026972023, 0.07383574356196378, 0.04031958243401456, 0.3718101788483736, 0.07659370160145398, 0.015951499342918396], [16, 0.07056027, 0.09569044, 0.1350288, 0.20707057, 0.08425832774103112, 0.08574813723384228, 0.08281334810097189, 0.06737501529516142, 0.07149419675885103, 0.07979624590955316, 0.07322316624469681, 0.04025960367520741, 0.3727621704533128, 0.07649835897185947, 0.015948403626680374], [17, 0.07116051, 0.0942807, 0.13604088, 0.20639627, 0.08487896129788129, 0.08457004715453416, 0.08354157109794638, 0.06742299287255575, 0.07171804251862401, 0.07910168864062858, 0.07349655341267368, 0.04027064551042089, 0.3718884373101151, 0.07636512607449553, 0.015940550714731216], [18, 0.07121523, 0.0973925, 0.13514905, 0.20559503, 0.08470197694501988, 0.08731131548885279, 0.0831005891592109, 0.06731414464684705, 0.07150566187749566, 0.08039738139075278, 0.07336159350903837, 0.04025050298560208, 0.3712807342952835, 0.07644666594537788, 0.015982240438461304], [19, 0.0712593, 0.0971797, 0.13484332, 0.20493202, 0.08501274730164084, 0.08704693784365707, 0.08285229059143145, 0.06694349932107255, 0.07166767846422745, 0.08056058910106421, 0.07342843234316918, 0.04021088196847307, 0.37314102867597815, 0.07647775329335257, 0.015966566279530525], [20, 0.07128874, 0.0963952, 0.13492444, 0.20639265, 0.08467689669304226, 0.0867309786729205, 0.08280081413805038, 0.06724307286485169, 0.0715631064325649, 0.08028249949300623, 0.07318740551531408, 0.040183347937013864, 0.37065269834038594, 0.0766707968669636, 0.015951531007885933]]\n",
      "-----------------------------------------------------------------------------------------\n"
     ]
    },
    {
     "name": "stderr",
     "output_type": "stream",
     "text": [
      "  0%|          | 1/1913 [00:00<11:55,  2.67it/s]"
     ]
    },
    {
     "name": "stdout",
     "output_type": "stream",
     "text": [
      "Epoch 21: 0% , Loss: 0.013786\n"
     ]
    },
    {
     "name": "stderr",
     "output_type": "stream",
     "text": [
      "  5%|▌         | 101/1913 [00:41<11:40,  2.59it/s]"
     ]
    },
    {
     "name": "stdout",
     "output_type": "stream",
     "text": [
      "Epoch 21: 5% , Loss: 0.013374\n"
     ]
    },
    {
     "name": "stderr",
     "output_type": "stream",
     "text": [
      " 11%|█         | 201/1913 [01:23<11:37,  2.46it/s]"
     ]
    },
    {
     "name": "stdout",
     "output_type": "stream",
     "text": [
      "Epoch 21: 10% , Loss: 0.018555\n"
     ]
    },
    {
     "name": "stderr",
     "output_type": "stream",
     "text": [
      " 16%|█▌        | 301/1913 [02:07<13:13,  2.03it/s]"
     ]
    },
    {
     "name": "stdout",
     "output_type": "stream",
     "text": [
      "Epoch 21: 16% , Loss: 0.017899\n"
     ]
    },
    {
     "name": "stderr",
     "output_type": "stream",
     "text": [
      " 21%|██        | 401/1913 [02:47<10:53,  2.32it/s]"
     ]
    },
    {
     "name": "stdout",
     "output_type": "stream",
     "text": [
      "Epoch 21: 21% , Loss: 0.016922\n"
     ]
    },
    {
     "name": "stderr",
     "output_type": "stream",
     "text": [
      " 26%|██▌       | 501/1913 [03:24<05:11,  4.54it/s]"
     ]
    },
    {
     "name": "stdout",
     "output_type": "stream",
     "text": [
      "Epoch 21: 26% , Loss: 0.019211\n"
     ]
    },
    {
     "name": "stderr",
     "output_type": "stream",
     "text": [
      " 31%|███▏      | 601/1913 [04:07<09:05,  2.41it/s]"
     ]
    },
    {
     "name": "stdout",
     "output_type": "stream",
     "text": [
      "Epoch 21: 31% , Loss: 0.014702\n"
     ]
    },
    {
     "name": "stderr",
     "output_type": "stream",
     "text": [
      " 37%|███▋      | 701/1913 [04:50<09:30,  2.13it/s]"
     ]
    },
    {
     "name": "stdout",
     "output_type": "stream",
     "text": [
      "Epoch 21: 37% , Loss: 0.014145\n"
     ]
    },
    {
     "name": "stderr",
     "output_type": "stream",
     "text": [
      " 42%|████▏     | 801/1913 [05:31<07:01,  2.64it/s]"
     ]
    },
    {
     "name": "stdout",
     "output_type": "stream",
     "text": [
      "Epoch 21: 42% , Loss: 0.013794\n"
     ]
    },
    {
     "name": "stderr",
     "output_type": "stream",
     "text": [
      " 47%|████▋     | 901/1913 [06:15<08:18,  2.03it/s]"
     ]
    },
    {
     "name": "stdout",
     "output_type": "stream",
     "text": [
      "Epoch 21: 47% , Loss: 0.015556\n"
     ]
    },
    {
     "name": "stderr",
     "output_type": "stream",
     "text": [
      " 52%|█████▏    | 1001/1913 [06:56<06:07,  2.48it/s]"
     ]
    },
    {
     "name": "stdout",
     "output_type": "stream",
     "text": [
      "Epoch 21: 52% , Loss: 0.020218\n"
     ]
    },
    {
     "name": "stderr",
     "output_type": "stream",
     "text": [
      " 58%|█████▊    | 1101/1913 [07:42<06:08,  2.21it/s]"
     ]
    },
    {
     "name": "stdout",
     "output_type": "stream",
     "text": [
      "Epoch 21: 58% , Loss: 0.015823\n"
     ]
    },
    {
     "name": "stderr",
     "output_type": "stream",
     "text": [
      " 63%|██████▎   | 1201/1913 [08:26<05:10,  2.30it/s]"
     ]
    },
    {
     "name": "stdout",
     "output_type": "stream",
     "text": [
      "Epoch 21: 63% , Loss: 0.014076\n"
     ]
    },
    {
     "name": "stderr",
     "output_type": "stream",
     "text": [
      " 68%|██████▊   | 1301/1913 [09:14<04:35,  2.23it/s]"
     ]
    },
    {
     "name": "stdout",
     "output_type": "stream",
     "text": [
      "Epoch 21: 68% , Loss: 0.013084\n"
     ]
    },
    {
     "name": "stderr",
     "output_type": "stream",
     "text": [
      " 73%|███████▎  | 1401/1913 [09:59<03:32,  2.41it/s]"
     ]
    },
    {
     "name": "stdout",
     "output_type": "stream",
     "text": [
      "Epoch 21: 73% , Loss: 0.017014\n"
     ]
    },
    {
     "name": "stderr",
     "output_type": "stream",
     "text": [
      " 78%|███████▊  | 1501/1913 [10:46<03:26,  1.99it/s]"
     ]
    },
    {
     "name": "stdout",
     "output_type": "stream",
     "text": [
      "Epoch 21: 78% , Loss: 0.012619\n"
     ]
    },
    {
     "name": "stderr",
     "output_type": "stream",
     "text": [
      " 84%|████████▎ | 1601/1913 [11:32<02:22,  2.18it/s]"
     ]
    },
    {
     "name": "stdout",
     "output_type": "stream",
     "text": [
      "Epoch 21: 84% , Loss: 0.013435\n"
     ]
    },
    {
     "name": "stderr",
     "output_type": "stream",
     "text": [
      " 89%|████████▉ | 1701/1913 [12:19<01:36,  2.19it/s]"
     ]
    },
    {
     "name": "stdout",
     "output_type": "stream",
     "text": [
      "Epoch 21: 89% , Loss: 0.010559\n"
     ]
    },
    {
     "name": "stderr",
     "output_type": "stream",
     "text": [
      " 94%|█████████▍| 1801/1913 [13:06<00:44,  2.49it/s]"
     ]
    },
    {
     "name": "stdout",
     "output_type": "stream",
     "text": [
      "Epoch 21: 94% , Loss: 0.015244\n"
     ]
    },
    {
     "name": "stderr",
     "output_type": "stream",
     "text": [
      " 99%|█████████▉| 1901/1913 [13:55<00:05,  2.13it/s]"
     ]
    },
    {
     "name": "stdout",
     "output_type": "stream",
     "text": [
      "Epoch 21: 99% , Loss: 0.015511\n"
     ]
    },
    {
     "name": "stderr",
     "output_type": "stream",
     "text": [
      "100%|██████████| 1913/1913 [14:01<00:00,  2.27it/s]"
     ]
    },
    {
     "name": "stdout",
     "output_type": "stream",
     "text": [
      "Epoch 21: 100% , Loss: 0.011215\n"
     ]
    },
    {
     "name": "stderr",
     "output_type": "stream",
     "text": [
      "\n"
     ]
    },
    {
     "name": "stdout",
     "output_type": "stream",
     "text": [
      "                      (HR@5: 0.0706, HR@10: 0.0954, HR@20: 0.1333, HR@50: 0.2021)\n",
      "\n",
      "                      (F1-score@5: 0.0830, F1-score@10: 0.0842, F1-score@20: 0.0804, F1-score@50: 0.0647)\n",
      "\n",
      "                      (NDCG@5: 0.0689, NDCG@10: 0.0767, NDCG@20: 0.0692, NDCG@50: 0.0387)\n",
      "\n",
      "MRR: 0.35582366119513353\n",
      "MAP: 0.0751549169208222\n",
      "train_loss= tensor(0.0162)\n",
      "--------------------\n"
     ]
    },
    {
     "name": "stderr",
     "output_type": "stream",
     "text": [
      "100%|██████████| 239/239 [01:20<00:00,  2.98it/s]\n"
     ]
    },
    {
     "name": "stdout",
     "output_type": "stream",
     "text": [
      "                      (HR@5: 0.0749, HR@10: 0.0990, HR@20: 0.1369, HR@50: 0.2037)\n",
      "\n",
      "                      (F1-score@5: 0.0863, F1-score@10: 0.0855, F1-score@20: 0.0807, F1-score@50: 0.0634)\n",
      "\n",
      "                      (NDCG@5: 0.0749, NDCG@10: 0.0781, NDCG@20: 0.0697, NDCG@50: 0.0382)\n",
      "\n",
      "MRR: 0.3678062642338695\n",
      "MAP: 0.07889024641495851\n",
      "val_loss= tensor(0.0160)\n",
      "--------------------\n"
     ]
    },
    {
     "name": "stderr",
     "output_type": "stream",
     "text": [
      "100%|██████████| 239/239 [01:25<00:00,  2.79it/s]\n"
     ]
    },
    {
     "name": "stdout",
     "output_type": "stream",
     "text": [
      "                      (HR@5: 0.0716, HR@10: 0.0962, HR@20: 0.1361, HR@50: 0.2059)\n",
      "\n",
      "                      (F1-score@5: 0.0851, F1-score@10: 0.0865, F1-score@20: 0.0834, F1-score@50: 0.0670)\n",
      "\n",
      "                      (NDCG@5: 0.0718, NDCG@10: 0.0802, NDCG@20: 0.0734, NDCG@50: 0.0401)\n",
      "\n",
      "MRR: 0.37099623420028655\n",
      "MAP: 0.07672150437978155\n",
      "--------------------\n",
      "[[1, 0.000176979, 0.00068223453, 0.0023718968, 0.009589323, 0.0002442108875163269, 0.0006268082200194199, 0.0015666954520432085, 0.003426097025787866, 0.00019837253450349785, 0.00046320433560836764, 0.0009358937552035104, 0.001248527919068917, 0.010159379821064247, 0.0036791875091503217, 0.10968425869941711], [2, 0.0579169, 0.06518013, 0.073646955, 0.0834386, 0.06800952943131663, 0.05641138543697392, 0.043556704831750635, 0.025929251122398904, 0.062218703928688016, 0.06147596937463966, 0.049521951606910225, 0.022845984657224906, 0.3318945877377938, 0.04841510151378556, 0.030537880957126617], [3, 0.07133058, 0.096410915, 0.13600734, 0.19265828, 0.08492753116137174, 0.08639378021196885, 0.08328652254666667, 0.06253583629041133, 0.07149353576142138, 0.07992946028477556, 0.07335604778315608, 0.03873067027494646, 0.37084067777898605, 0.07050571535528713, 0.01862044632434845], [4, 0.072007574, 0.09592286, 0.13543335, 0.20467827, 0.08571322960351853, 0.08596013076920497, 0.08292583257348879, 0.06696188101234857, 0.07208090234902458, 0.07991856832065031, 0.07330433915030196, 0.04018254222267475, 0.37314840361936735, 0.07559157052402814, 0.016552498564124107], [5, 0.07143814, 0.09655343, 0.13596232, 0.20727903, 0.08500836419285189, 0.08641077635325635, 0.08327871480341131, 0.06763431268913597, 0.07170713566551491, 0.07994343955936807, 0.07336142521924398, 0.040353252087519054, 0.3725577085668874, 0.0764226944201201, 0.01607443206012249], [6, 0.07034161, 0.095847405, 0.1355904, 0.20651792, 0.08413951865839134, 0.08556957488838737, 0.08282995580391248, 0.06706828609383886, 0.07099069912516547, 0.0794603837343229, 0.07304718232982516, 0.04007183815933234, 0.3708128080393419, 0.07604838842971748, 0.01594112440943718], [7, 0.07088172, 0.095006265, 0.13541955, 0.20505267, 0.08463074103580033, 0.0854007336848504, 0.08267942496593211, 0.06685463036746739, 0.07142290190957237, 0.07947097723586602, 0.07308573166305925, 0.04011256272600629, 0.3721486949037149, 0.07620681321331764, 0.015928132459521294], [8, 0.071424335, 0.095377676, 0.13529646, 0.20652768, 0.08514377688890037, 0.08567798691491317, 0.08314956313414659, 0.06735135049431228, 0.07084087120411942, 0.07884859760334739, 0.07274992930776904, 0.03998650211225182, 0.3646856504108138, 0.07567804982016839, 0.015926601365208626], [9, 0.07245165, 0.09710859, 0.13648483, 0.20559047, 0.08613456829996359, 0.08687598765059772, 0.08348326085757561, 0.06719348698159702, 0.07166863028564058, 0.07965110819475048, 0.073120168292365, 0.04009901207022244, 0.3672760706860293, 0.07619070788088403, 0.015935538336634636], [10, 0.070865504, 0.096338354, 0.13511951, 0.20746852, 0.08474914576600148, 0.08627373565019963, 0.08275276927583128, 0.06761860889138666, 0.07168461234410095, 0.08008586437924606, 0.07331110488829909, 0.04038744911582649, 0.3726021776481638, 0.07668197164023732, 0.015949424356222153], [11, 0.07232518, 0.09561456, 0.1342209, 0.20587724, 0.0859936123829489, 0.08542688244907685, 0.08216856988372298, 0.06702460172546934, 0.07209792659738759, 0.07960046529204869, 0.07281237191454387, 0.04009901652542219, 0.370984711374604, 0.07638206663395225, 0.015974100679159164], [12, 0.070751704, 0.09591672, 0.13551417, 0.20706047, 0.08443575285567874, 0.08591163192146652, 0.08336022939512701, 0.06755218921721745, 0.07103198871628291, 0.07938918224867106, 0.07317800741841447, 0.04012734995240143, 0.3690421811309463, 0.0758728128090919, 0.01594632863998413], [13, 0.07164659, 0.097830385, 0.13445018, 0.2059905, 0.08509625274560886, 0.0872070995296187, 0.08235749903349228, 0.06727501433449708, 0.07168986022600975, 0.08029896767018947, 0.07307923184883114, 0.04027017070955663, 0.3712589127768755, 0.07667778167212212, 0.015930717810988426], [14, 0.0729776, 0.096174516, 0.13388029, 0.20699897, 0.08699647994755884, 0.08663588321987012, 0.0822380122156619, 0.06735136664577455, 0.07278614487230123, 0.0804618690240832, 0.07325943954051257, 0.04037173961169402, 0.3735846195912892, 0.07673718649076403, 0.015957916155457497], [15, 0.07216528, 0.095337026, 0.13765359, 0.20510587, 0.08569111779634743, 0.0855963873629637, 0.08433523952330546, 0.0672212478548904, 0.07207844301836105, 0.07974945026972023, 0.07383574356196378, 0.04031958243401456, 0.3718101788483736, 0.07659370160145398, 0.015951499342918396], [16, 0.07056027, 0.09569044, 0.1350288, 0.20707057, 0.08425832774103112, 0.08574813723384228, 0.08281334810097189, 0.06737501529516142, 0.07149419675885103, 0.07979624590955316, 0.07322316624469681, 0.04025960367520741, 0.3727621704533128, 0.07649835897185947, 0.015948403626680374], [17, 0.07116051, 0.0942807, 0.13604088, 0.20639627, 0.08487896129788129, 0.08457004715453416, 0.08354157109794638, 0.06742299287255575, 0.07171804251862401, 0.07910168864062858, 0.07349655341267368, 0.04027064551042089, 0.3718884373101151, 0.07636512607449553, 0.015940550714731216], [18, 0.07121523, 0.0973925, 0.13514905, 0.20559503, 0.08470197694501988, 0.08731131548885279, 0.0831005891592109, 0.06731414464684705, 0.07150566187749566, 0.08039738139075278, 0.07336159350903837, 0.04025050298560208, 0.3712807342952835, 0.07644666594537788, 0.015982240438461304], [19, 0.0712593, 0.0971797, 0.13484332, 0.20493202, 0.08501274730164084, 0.08704693784365707, 0.08285229059143145, 0.06694349932107255, 0.07166767846422745, 0.08056058910106421, 0.07342843234316918, 0.04021088196847307, 0.37314102867597815, 0.07647775329335257, 0.015966566279530525], [20, 0.07128874, 0.0963952, 0.13492444, 0.20639265, 0.08467689669304226, 0.0867309786729205, 0.08280081413805038, 0.06724307286485169, 0.0715631064325649, 0.08028249949300623, 0.07318740551531408, 0.040183347937013864, 0.37065269834038594, 0.0766707968669636, 0.015951531007885933], [21, 0.07163804, 0.09617342, 0.13614862, 0.20594308, 0.08508539642511545, 0.08653268320301867, 0.08339131017675103, 0.06702323044122087, 0.07181713476515994, 0.08022086385629729, 0.07344249319811215, 0.0401383784953232, 0.37099623420028655, 0.07672150437978155, 0.015951819717884064]]\n",
      "-----------------------------------------------------------------------------------------\n"
     ]
    },
    {
     "name": "stderr",
     "output_type": "stream",
     "text": [
      "  0%|          | 1/1913 [00:00<22:32,  1.41it/s]"
     ]
    },
    {
     "name": "stdout",
     "output_type": "stream",
     "text": [
      "Epoch 22: 0% , Loss: 0.012894\n"
     ]
    },
    {
     "name": "stderr",
     "output_type": "stream",
     "text": [
      "  5%|▌         | 101/1913 [00:41<12:43,  2.37it/s]"
     ]
    },
    {
     "name": "stdout",
     "output_type": "stream",
     "text": [
      "Epoch 22: 5% , Loss: 0.013817\n"
     ]
    },
    {
     "name": "stderr",
     "output_type": "stream",
     "text": [
      " 11%|█         | 201/1913 [01:24<08:55,  3.20it/s]"
     ]
    },
    {
     "name": "stdout",
     "output_type": "stream",
     "text": [
      "Epoch 22: 10% , Loss: 0.010910\n"
     ]
    },
    {
     "name": "stderr",
     "output_type": "stream",
     "text": [
      " 16%|█▌        | 301/1913 [02:07<11:52,  2.26it/s]"
     ]
    },
    {
     "name": "stdout",
     "output_type": "stream",
     "text": [
      "Epoch 22: 16% , Loss: 0.018723\n"
     ]
    },
    {
     "name": "stderr",
     "output_type": "stream",
     "text": [
      " 21%|██        | 401/1913 [02:47<05:41,  4.42it/s]"
     ]
    },
    {
     "name": "stdout",
     "output_type": "stream",
     "text": [
      "Epoch 22: 21% , Loss: 0.017532\n"
     ]
    },
    {
     "name": "stderr",
     "output_type": "stream",
     "text": [
      " 26%|██▌       | 501/1913 [03:25<10:18,  2.28it/s]"
     ]
    },
    {
     "name": "stdout",
     "output_type": "stream",
     "text": [
      "Epoch 22: 26% , Loss: 0.019150\n"
     ]
    },
    {
     "name": "stderr",
     "output_type": "stream",
     "text": [
      " 31%|███▏      | 601/1913 [04:07<10:05,  2.17it/s]"
     ]
    },
    {
     "name": "stdout",
     "output_type": "stream",
     "text": [
      "Epoch 22: 31% , Loss: 0.018265\n"
     ]
    },
    {
     "name": "stderr",
     "output_type": "stream",
     "text": [
      " 37%|███▋      | 701/1913 [04:51<07:05,  2.85it/s]"
     ]
    },
    {
     "name": "stdout",
     "output_type": "stream",
     "text": [
      "Epoch 22: 37% , Loss: 0.009781\n"
     ]
    },
    {
     "name": "stderr",
     "output_type": "stream",
     "text": [
      " 42%|████▏     | 801/1913 [05:31<08:20,  2.22it/s]"
     ]
    },
    {
     "name": "stdout",
     "output_type": "stream",
     "text": [
      "Epoch 22: 42% , Loss: 0.020981\n"
     ]
    },
    {
     "name": "stderr",
     "output_type": "stream",
     "text": [
      " 47%|████▋     | 901/1913 [06:14<08:17,  2.03it/s]"
     ]
    },
    {
     "name": "stdout",
     "output_type": "stream",
     "text": [
      "Epoch 22: 47% , Loss: 0.016113\n"
     ]
    },
    {
     "name": "stderr",
     "output_type": "stream",
     "text": [
      " 52%|█████▏    | 1001/1913 [06:59<06:34,  2.31it/s]"
     ]
    },
    {
     "name": "stdout",
     "output_type": "stream",
     "text": [
      "Epoch 22: 52% , Loss: 0.018478\n"
     ]
    },
    {
     "name": "stderr",
     "output_type": "stream",
     "text": [
      " 58%|█████▊    | 1101/1913 [07:44<05:46,  2.35it/s]"
     ]
    },
    {
     "name": "stdout",
     "output_type": "stream",
     "text": [
      "Epoch 22: 58% , Loss: 0.021042\n"
     ]
    },
    {
     "name": "stderr",
     "output_type": "stream",
     "text": [
      " 63%|██████▎   | 1201/1913 [08:29<05:28,  2.17it/s]"
     ]
    },
    {
     "name": "stdout",
     "output_type": "stream",
     "text": [
      "Epoch 22: 63% , Loss: 0.017639\n"
     ]
    },
    {
     "name": "stderr",
     "output_type": "stream",
     "text": [
      " 68%|██████▊   | 1301/1913 [09:13<04:24,  2.31it/s]"
     ]
    },
    {
     "name": "stdout",
     "output_type": "stream",
     "text": [
      "Epoch 22: 68% , Loss: 0.009933\n"
     ]
    },
    {
     "name": "stderr",
     "output_type": "stream",
     "text": [
      " 73%|███████▎  | 1401/1913 [09:59<03:45,  2.27it/s]"
     ]
    },
    {
     "name": "stdout",
     "output_type": "stream",
     "text": [
      "Epoch 22: 73% , Loss: 0.012337\n"
     ]
    },
    {
     "name": "stderr",
     "output_type": "stream",
     "text": [
      " 78%|███████▊  | 1501/1913 [10:45<03:18,  2.08it/s]"
     ]
    },
    {
     "name": "stdout",
     "output_type": "stream",
     "text": [
      "Epoch 22: 78% , Loss: 0.014549\n"
     ]
    },
    {
     "name": "stderr",
     "output_type": "stream",
     "text": [
      " 84%|████████▎ | 1601/1913 [11:34<02:05,  2.48it/s]"
     ]
    },
    {
     "name": "stdout",
     "output_type": "stream",
     "text": [
      "Epoch 22: 84% , Loss: 0.017853\n"
     ]
    },
    {
     "name": "stderr",
     "output_type": "stream",
     "text": [
      " 89%|████████▉ | 1701/1913 [12:20<01:29,  2.37it/s]"
     ]
    },
    {
     "name": "stdout",
     "output_type": "stream",
     "text": [
      "Epoch 22: 89% , Loss: 0.009941\n"
     ]
    },
    {
     "name": "stderr",
     "output_type": "stream",
     "text": [
      " 94%|█████████▍| 1801/1913 [13:07<01:01,  1.82it/s]"
     ]
    },
    {
     "name": "stdout",
     "output_type": "stream",
     "text": [
      "Epoch 22: 94% , Loss: 0.017853\n"
     ]
    },
    {
     "name": "stderr",
     "output_type": "stream",
     "text": [
      " 99%|█████████▉| 1901/1913 [13:54<00:04,  2.59it/s]"
     ]
    },
    {
     "name": "stdout",
     "output_type": "stream",
     "text": [
      "Epoch 22: 99% , Loss: 0.019302\n"
     ]
    },
    {
     "name": "stderr",
     "output_type": "stream",
     "text": [
      "100%|██████████| 1913/1913 [14:00<00:00,  2.28it/s]"
     ]
    },
    {
     "name": "stdout",
     "output_type": "stream",
     "text": [
      "Epoch 22: 100% , Loss: 0.013596\n"
     ]
    },
    {
     "name": "stderr",
     "output_type": "stream",
     "text": [
      "\n"
     ]
    },
    {
     "name": "stdout",
     "output_type": "stream",
     "text": [
      "                      (HR@5: 0.0701, HR@10: 0.0950, HR@20: 0.1325, HR@50: 0.2025)\n",
      "\n",
      "                      (F1-score@5: 0.0824, F1-score@10: 0.0840, F1-score@20: 0.0803, F1-score@50: 0.0647)\n",
      "\n",
      "                      (NDCG@5: 0.0688, NDCG@10: 0.0767, NDCG@20: 0.0693, NDCG@50: 0.0387)\n",
      "\n",
      "MRR: 0.3563285807079426\n",
      "MAP: 0.07515579502853072\n",
      "train_loss= tensor(0.0162)\n",
      "--------------------\n"
     ]
    },
    {
     "name": "stderr",
     "output_type": "stream",
     "text": [
      "100%|██████████| 239/239 [01:20<00:00,  2.98it/s]\n"
     ]
    },
    {
     "name": "stdout",
     "output_type": "stream",
     "text": [
      "                      (HR@5: 0.0741, HR@10: 0.0998, HR@20: 0.1373, HR@50: 0.2044)\n",
      "\n",
      "                      (F1-score@5: 0.0856, F1-score@10: 0.0858, F1-score@20: 0.0808, F1-score@50: 0.0636)\n",
      "\n",
      "                      (NDCG@5: 0.0745, NDCG@10: 0.0781, NDCG@20: 0.0696, NDCG@50: 0.0382)\n",
      "\n",
      "MRR: 0.3674053209963644\n",
      "MAP: 0.07882475658175839\n",
      "val_loss= tensor(0.0159)\n",
      "--------------------\n"
     ]
    },
    {
     "name": "stderr",
     "output_type": "stream",
     "text": [
      "100%|██████████| 239/239 [01:25<00:00,  2.79it/s]\n"
     ]
    },
    {
     "name": "stdout",
     "output_type": "stream",
     "text": [
      "                      (HR@5: 0.0727, HR@10: 0.0960, HR@20: 0.1361, HR@50: 0.2060)\n",
      "\n",
      "                      (F1-score@5: 0.0863, F1-score@10: 0.0860, F1-score@20: 0.0836, F1-score@50: 0.0673)\n",
      "\n",
      "                      (NDCG@5: 0.0724, NDCG@10: 0.0801, NDCG@20: 0.0737, NDCG@50: 0.0403)\n",
      "\n",
      "MRR: 0.3722366742307019\n",
      "MAP: 0.07685461681941647\n",
      "--------------------\n",
      "[[1, 0.000176979, 0.00068223453, 0.0023718968, 0.009589323, 0.0002442108875163269, 0.0006268082200194199, 0.0015666954520432085, 0.003426097025787866, 0.00019837253450349785, 0.00046320433560836764, 0.0009358937552035104, 0.001248527919068917, 0.010159379821064247, 0.0036791875091503217, 0.10968425869941711], [2, 0.0579169, 0.06518013, 0.073646955, 0.0834386, 0.06800952943131663, 0.05641138543697392, 0.043556704831750635, 0.025929251122398904, 0.062218703928688016, 0.06147596937463966, 0.049521951606910225, 0.022845984657224906, 0.3318945877377938, 0.04841510151378556, 0.030537880957126617], [3, 0.07133058, 0.096410915, 0.13600734, 0.19265828, 0.08492753116137174, 0.08639378021196885, 0.08328652254666667, 0.06253583629041133, 0.07149353576142138, 0.07992946028477556, 0.07335604778315608, 0.03873067027494646, 0.37084067777898605, 0.07050571535528713, 0.01862044632434845], [4, 0.072007574, 0.09592286, 0.13543335, 0.20467827, 0.08571322960351853, 0.08596013076920497, 0.08292583257348879, 0.06696188101234857, 0.07208090234902458, 0.07991856832065031, 0.07330433915030196, 0.04018254222267475, 0.37314840361936735, 0.07559157052402814, 0.016552498564124107], [5, 0.07143814, 0.09655343, 0.13596232, 0.20727903, 0.08500836419285189, 0.08641077635325635, 0.08327871480341131, 0.06763431268913597, 0.07170713566551491, 0.07994343955936807, 0.07336142521924398, 0.040353252087519054, 0.3725577085668874, 0.0764226944201201, 0.01607443206012249], [6, 0.07034161, 0.095847405, 0.1355904, 0.20651792, 0.08413951865839134, 0.08556957488838737, 0.08282995580391248, 0.06706828609383886, 0.07099069912516547, 0.0794603837343229, 0.07304718232982516, 0.04007183815933234, 0.3708128080393419, 0.07604838842971748, 0.01594112440943718], [7, 0.07088172, 0.095006265, 0.13541955, 0.20505267, 0.08463074103580033, 0.0854007336848504, 0.08267942496593211, 0.06685463036746739, 0.07142290190957237, 0.07947097723586602, 0.07308573166305925, 0.04011256272600629, 0.3721486949037149, 0.07620681321331764, 0.015928132459521294], [8, 0.071424335, 0.095377676, 0.13529646, 0.20652768, 0.08514377688890037, 0.08567798691491317, 0.08314956313414659, 0.06735135049431228, 0.07084087120411942, 0.07884859760334739, 0.07274992930776904, 0.03998650211225182, 0.3646856504108138, 0.07567804982016839, 0.015926601365208626], [9, 0.07245165, 0.09710859, 0.13648483, 0.20559047, 0.08613456829996359, 0.08687598765059772, 0.08348326085757561, 0.06719348698159702, 0.07166863028564058, 0.07965110819475048, 0.073120168292365, 0.04009901207022244, 0.3672760706860293, 0.07619070788088403, 0.015935538336634636], [10, 0.070865504, 0.096338354, 0.13511951, 0.20746852, 0.08474914576600148, 0.08627373565019963, 0.08275276927583128, 0.06761860889138666, 0.07168461234410095, 0.08008586437924606, 0.07331110488829909, 0.04038744911582649, 0.3726021776481638, 0.07668197164023732, 0.015949424356222153], [11, 0.07232518, 0.09561456, 0.1342209, 0.20587724, 0.0859936123829489, 0.08542688244907685, 0.08216856988372298, 0.06702460172546934, 0.07209792659738759, 0.07960046529204869, 0.07281237191454387, 0.04009901652542219, 0.370984711374604, 0.07638206663395225, 0.015974100679159164], [12, 0.070751704, 0.09591672, 0.13551417, 0.20706047, 0.08443575285567874, 0.08591163192146652, 0.08336022939512701, 0.06755218921721745, 0.07103198871628291, 0.07938918224867106, 0.07317800741841447, 0.04012734995240143, 0.3690421811309463, 0.0758728128090919, 0.01594632863998413], [13, 0.07164659, 0.097830385, 0.13445018, 0.2059905, 0.08509625274560886, 0.0872070995296187, 0.08235749903349228, 0.06727501433449708, 0.07168986022600975, 0.08029896767018947, 0.07307923184883114, 0.04027017070955663, 0.3712589127768755, 0.07667778167212212, 0.015930717810988426], [14, 0.0729776, 0.096174516, 0.13388029, 0.20699897, 0.08699647994755884, 0.08663588321987012, 0.0822380122156619, 0.06735136664577455, 0.07278614487230123, 0.0804618690240832, 0.07325943954051257, 0.04037173961169402, 0.3735846195912892, 0.07673718649076403, 0.015957916155457497], [15, 0.07216528, 0.095337026, 0.13765359, 0.20510587, 0.08569111779634743, 0.0855963873629637, 0.08433523952330546, 0.0672212478548904, 0.07207844301836105, 0.07974945026972023, 0.07383574356196378, 0.04031958243401456, 0.3718101788483736, 0.07659370160145398, 0.015951499342918396], [16, 0.07056027, 0.09569044, 0.1350288, 0.20707057, 0.08425832774103112, 0.08574813723384228, 0.08281334810097189, 0.06737501529516142, 0.07149419675885103, 0.07979624590955316, 0.07322316624469681, 0.04025960367520741, 0.3727621704533128, 0.07649835897185947, 0.015948403626680374], [17, 0.07116051, 0.0942807, 0.13604088, 0.20639627, 0.08487896129788129, 0.08457004715453416, 0.08354157109794638, 0.06742299287255575, 0.07171804251862401, 0.07910168864062858, 0.07349655341267368, 0.04027064551042089, 0.3718884373101151, 0.07636512607449553, 0.015940550714731216], [18, 0.07121523, 0.0973925, 0.13514905, 0.20559503, 0.08470197694501988, 0.08731131548885279, 0.0831005891592109, 0.06731414464684705, 0.07150566187749566, 0.08039738139075278, 0.07336159350903837, 0.04025050298560208, 0.3712807342952835, 0.07644666594537788, 0.015982240438461304], [19, 0.0712593, 0.0971797, 0.13484332, 0.20493202, 0.08501274730164084, 0.08704693784365707, 0.08285229059143145, 0.06694349932107255, 0.07166767846422745, 0.08056058910106421, 0.07342843234316918, 0.04021088196847307, 0.37314102867597815, 0.07647775329335257, 0.015966566279530525], [20, 0.07128874, 0.0963952, 0.13492444, 0.20639265, 0.08467689669304226, 0.0867309786729205, 0.08280081413805038, 0.06724307286485169, 0.0715631064325649, 0.08028249949300623, 0.07318740551531408, 0.040183347937013864, 0.37065269834038594, 0.0766707968669636, 0.015951531007885933], [21, 0.07163804, 0.09617342, 0.13614862, 0.20594308, 0.08508539642511545, 0.08653268320301867, 0.08339131017675103, 0.06702323044122087, 0.07181713476515994, 0.08022086385629729, 0.07344249319811215, 0.0401383784953232, 0.37099623420028655, 0.07672150437978155, 0.015951819717884064], [22, 0.07266818, 0.09598385, 0.13606514, 0.20599376, 0.08628025227264016, 0.08598973258891862, 0.08355293370455179, 0.06726146593594828, 0.0723927886698738, 0.08008493517747609, 0.07367128144782115, 0.040295274822999994, 0.3722366742307019, 0.07685461681941647, 0.015948595479130745]]\n",
      "-----------------------------------------------------------------------------------------\n"
     ]
    },
    {
     "name": "stderr",
     "output_type": "stream",
     "text": [
      "  0%|          | 1/1913 [00:00<16:48,  1.90it/s]"
     ]
    },
    {
     "name": "stdout",
     "output_type": "stream",
     "text": [
      "Epoch 23: 0% , Loss: 0.024704\n"
     ]
    },
    {
     "name": "stderr",
     "output_type": "stream",
     "text": [
      "  5%|▌         | 101/1913 [00:44<13:28,  2.24it/s]"
     ]
    },
    {
     "name": "stdout",
     "output_type": "stream",
     "text": [
      "Epoch 23: 5% , Loss: 0.014290\n"
     ]
    },
    {
     "name": "stderr",
     "output_type": "stream",
     "text": [
      " 11%|█         | 201/1913 [01:27<12:22,  2.31it/s]"
     ]
    },
    {
     "name": "stdout",
     "output_type": "stream",
     "text": [
      "Epoch 23: 10% , Loss: 0.013023\n"
     ]
    },
    {
     "name": "stderr",
     "output_type": "stream",
     "text": [
      " 16%|█▌        | 302/1913 [02:11<06:25,  4.18it/s]"
     ]
    },
    {
     "name": "stdout",
     "output_type": "stream",
     "text": [
      "Epoch 23: 16% , Loss: 0.019012\n"
     ]
    },
    {
     "name": "stderr",
     "output_type": "stream",
     "text": [
      " 21%|██        | 401/1913 [02:48<09:31,  2.65it/s]"
     ]
    },
    {
     "name": "stdout",
     "output_type": "stream",
     "text": [
      "Epoch 23: 21% , Loss: 0.011627\n"
     ]
    },
    {
     "name": "stderr",
     "output_type": "stream",
     "text": [
      " 26%|██▌       | 501/1913 [03:28<08:57,  2.62it/s]"
     ]
    },
    {
     "name": "stdout",
     "output_type": "stream",
     "text": [
      "Epoch 23: 26% , Loss: 0.011055\n"
     ]
    },
    {
     "name": "stderr",
     "output_type": "stream",
     "text": [
      " 31%|███▏      | 601/1913 [04:08<07:41,  2.84it/s]"
     ]
    },
    {
     "name": "stdout",
     "output_type": "stream",
     "text": [
      "Epoch 23: 31% , Loss: 0.011932\n"
     ]
    },
    {
     "name": "stderr",
     "output_type": "stream",
     "text": [
      " 37%|███▋      | 701/1913 [04:48<08:27,  2.39it/s]"
     ]
    },
    {
     "name": "stdout",
     "output_type": "stream",
     "text": [
      "Epoch 23: 37% , Loss: 0.014931\n"
     ]
    },
    {
     "name": "stderr",
     "output_type": "stream",
     "text": [
      " 42%|████▏     | 801/1913 [05:30<08:04,  2.30it/s]"
     ]
    },
    {
     "name": "stdout",
     "output_type": "stream",
     "text": [
      "Epoch 23: 42% , Loss: 0.015198\n"
     ]
    },
    {
     "name": "stderr",
     "output_type": "stream",
     "text": [
      " 47%|████▋     | 901/1913 [06:13<07:26,  2.27it/s]"
     ]
    },
    {
     "name": "stdout",
     "output_type": "stream",
     "text": [
      "Epoch 23: 47% , Loss: 0.014740\n"
     ]
    },
    {
     "name": "stderr",
     "output_type": "stream",
     "text": [
      " 52%|█████▏    | 1001/1913 [06:57<06:40,  2.28it/s]"
     ]
    },
    {
     "name": "stdout",
     "output_type": "stream",
     "text": [
      "Epoch 23: 52% , Loss: 0.013992\n"
     ]
    },
    {
     "name": "stderr",
     "output_type": "stream",
     "text": [
      " 58%|█████▊    | 1101/1913 [07:43<06:05,  2.22it/s]"
     ]
    },
    {
     "name": "stdout",
     "output_type": "stream",
     "text": [
      "Epoch 23: 58% , Loss: 0.019608\n"
     ]
    },
    {
     "name": "stderr",
     "output_type": "stream",
     "text": [
      " 63%|██████▎   | 1201/1913 [08:27<05:13,  2.27it/s]"
     ]
    },
    {
     "name": "stdout",
     "output_type": "stream",
     "text": [
      "Epoch 23: 63% , Loss: 0.022278\n"
     ]
    },
    {
     "name": "stderr",
     "output_type": "stream",
     "text": [
      " 68%|██████▊   | 1301/1913 [09:13<05:07,  1.99it/s]"
     ]
    },
    {
     "name": "stdout",
     "output_type": "stream",
     "text": [
      "Epoch 23: 68% , Loss: 0.012985\n"
     ]
    },
    {
     "name": "stderr",
     "output_type": "stream",
     "text": [
      " 73%|███████▎  | 1401/1913 [09:59<04:25,  1.92it/s]"
     ]
    },
    {
     "name": "stdout",
     "output_type": "stream",
     "text": [
      "Epoch 23: 73% , Loss: 0.012352\n"
     ]
    },
    {
     "name": "stderr",
     "output_type": "stream",
     "text": [
      " 78%|███████▊  | 1501/1913 [10:46<02:42,  2.53it/s]"
     ]
    },
    {
     "name": "stdout",
     "output_type": "stream",
     "text": [
      "Epoch 23: 78% , Loss: 0.014687\n"
     ]
    },
    {
     "name": "stderr",
     "output_type": "stream",
     "text": [
      " 84%|████████▎ | 1601/1913 [11:34<02:39,  1.96it/s]"
     ]
    },
    {
     "name": "stdout",
     "output_type": "stream",
     "text": [
      "Epoch 23: 84% , Loss: 0.018280\n"
     ]
    },
    {
     "name": "stderr",
     "output_type": "stream",
     "text": [
      " 89%|████████▉ | 1701/1913 [12:20<01:38,  2.14it/s]"
     ]
    },
    {
     "name": "stdout",
     "output_type": "stream",
     "text": [
      "Epoch 23: 89% , Loss: 0.014671\n"
     ]
    },
    {
     "name": "stderr",
     "output_type": "stream",
     "text": [
      " 94%|█████████▍| 1801/1913 [13:08<00:53,  2.11it/s]"
     ]
    },
    {
     "name": "stdout",
     "output_type": "stream",
     "text": [
      "Epoch 23: 94% , Loss: 0.016357\n"
     ]
    },
    {
     "name": "stderr",
     "output_type": "stream",
     "text": [
      " 99%|█████████▉| 1901/1913 [13:56<00:05,  2.32it/s]"
     ]
    },
    {
     "name": "stdout",
     "output_type": "stream",
     "text": [
      "Epoch 23: 99% , Loss: 0.014908\n"
     ]
    },
    {
     "name": "stderr",
     "output_type": "stream",
     "text": [
      "100%|██████████| 1913/1913 [14:01<00:00,  2.27it/s]"
     ]
    },
    {
     "name": "stdout",
     "output_type": "stream",
     "text": [
      "Epoch 23: 100% , Loss: 0.016403\n"
     ]
    },
    {
     "name": "stderr",
     "output_type": "stream",
     "text": [
      "\n"
     ]
    },
    {
     "name": "stdout",
     "output_type": "stream",
     "text": [
      "                      (HR@5: 0.0702, HR@10: 0.0958, HR@20: 0.1325, HR@50: 0.2016)\n",
      "\n",
      "                      (F1-score@5: 0.0826, F1-score@10: 0.0846, F1-score@20: 0.0802, F1-score@50: 0.0646)\n",
      "\n",
      "                      (NDCG@5: 0.0689, NDCG@10: 0.0770, NDCG@20: 0.0693, NDCG@50: 0.0387)\n",
      "\n",
      "MRR: 0.35666485149583066\n",
      "MAP: 0.0752228744281114\n",
      "train_loss= tensor(0.0162)\n",
      "--------------------\n"
     ]
    },
    {
     "name": "stderr",
     "output_type": "stream",
     "text": [
      "100%|██████████| 239/239 [01:19<00:00,  3.00it/s]\n"
     ]
    },
    {
     "name": "stdout",
     "output_type": "stream",
     "text": [
      "                      (HR@5: 0.0738, HR@10: 0.1005, HR@20: 0.1366, HR@50: 0.2022)\n",
      "\n",
      "                      (F1-score@5: 0.0855, F1-score@10: 0.0864, F1-score@20: 0.0802, F1-score@50: 0.0632)\n",
      "\n",
      "                      (NDCG@5: 0.0742, NDCG@10: 0.0783, NDCG@20: 0.0694, NDCG@50: 0.0381)\n",
      "\n",
      "MRR: 0.36590542847834057\n",
      "MAP: 0.07861977014072852\n",
      "val_loss= tensor(0.0160)\n",
      "--------------------\n"
     ]
    },
    {
     "name": "stderr",
     "output_type": "stream",
     "text": [
      "100%|██████████| 239/239 [01:25<00:00,  2.79it/s]\n"
     ]
    },
    {
     "name": "stdout",
     "output_type": "stream",
     "text": [
      "                      (HR@5: 0.0723, HR@10: 0.0977, HR@20: 0.1359, HR@50: 0.2069)\n",
      "\n",
      "                      (F1-score@5: 0.0861, F1-score@10: 0.0877, F1-score@20: 0.0834, F1-score@50: 0.0675)\n",
      "\n",
      "                      (NDCG@5: 0.0724, NDCG@10: 0.0807, NDCG@20: 0.0736, NDCG@50: 0.0404)\n",
      "\n",
      "MRR: 0.3725923180512286\n",
      "MAP: 0.07698842154911262\n",
      "--------------------\n",
      "[[1, 0.000176979, 0.00068223453, 0.0023718968, 0.009589323, 0.0002442108875163269, 0.0006268082200194199, 0.0015666954520432085, 0.003426097025787866, 0.00019837253450349785, 0.00046320433560836764, 0.0009358937552035104, 0.001248527919068917, 0.010159379821064247, 0.0036791875091503217, 0.10968425869941711], [2, 0.0579169, 0.06518013, 0.073646955, 0.0834386, 0.06800952943131663, 0.05641138543697392, 0.043556704831750635, 0.025929251122398904, 0.062218703928688016, 0.06147596937463966, 0.049521951606910225, 0.022845984657224906, 0.3318945877377938, 0.04841510151378556, 0.030537880957126617], [3, 0.07133058, 0.096410915, 0.13600734, 0.19265828, 0.08492753116137174, 0.08639378021196885, 0.08328652254666667, 0.06253583629041133, 0.07149353576142138, 0.07992946028477556, 0.07335604778315608, 0.03873067027494646, 0.37084067777898605, 0.07050571535528713, 0.01862044632434845], [4, 0.072007574, 0.09592286, 0.13543335, 0.20467827, 0.08571322960351853, 0.08596013076920497, 0.08292583257348879, 0.06696188101234857, 0.07208090234902458, 0.07991856832065031, 0.07330433915030196, 0.04018254222267475, 0.37314840361936735, 0.07559157052402814, 0.016552498564124107], [5, 0.07143814, 0.09655343, 0.13596232, 0.20727903, 0.08500836419285189, 0.08641077635325635, 0.08327871480341131, 0.06763431268913597, 0.07170713566551491, 0.07994343955936807, 0.07336142521924398, 0.040353252087519054, 0.3725577085668874, 0.0764226944201201, 0.01607443206012249], [6, 0.07034161, 0.095847405, 0.1355904, 0.20651792, 0.08413951865839134, 0.08556957488838737, 0.08282995580391248, 0.06706828609383886, 0.07099069912516547, 0.0794603837343229, 0.07304718232982516, 0.04007183815933234, 0.3708128080393419, 0.07604838842971748, 0.01594112440943718], [7, 0.07088172, 0.095006265, 0.13541955, 0.20505267, 0.08463074103580033, 0.0854007336848504, 0.08267942496593211, 0.06685463036746739, 0.07142290190957237, 0.07947097723586602, 0.07308573166305925, 0.04011256272600629, 0.3721486949037149, 0.07620681321331764, 0.015928132459521294], [8, 0.071424335, 0.095377676, 0.13529646, 0.20652768, 0.08514377688890037, 0.08567798691491317, 0.08314956313414659, 0.06735135049431228, 0.07084087120411942, 0.07884859760334739, 0.07274992930776904, 0.03998650211225182, 0.3646856504108138, 0.07567804982016839, 0.015926601365208626], [9, 0.07245165, 0.09710859, 0.13648483, 0.20559047, 0.08613456829996359, 0.08687598765059772, 0.08348326085757561, 0.06719348698159702, 0.07166863028564058, 0.07965110819475048, 0.073120168292365, 0.04009901207022244, 0.3672760706860293, 0.07619070788088403, 0.015935538336634636], [10, 0.070865504, 0.096338354, 0.13511951, 0.20746852, 0.08474914576600148, 0.08627373565019963, 0.08275276927583128, 0.06761860889138666, 0.07168461234410095, 0.08008586437924606, 0.07331110488829909, 0.04038744911582649, 0.3726021776481638, 0.07668197164023732, 0.015949424356222153], [11, 0.07232518, 0.09561456, 0.1342209, 0.20587724, 0.0859936123829489, 0.08542688244907685, 0.08216856988372298, 0.06702460172546934, 0.07209792659738759, 0.07960046529204869, 0.07281237191454387, 0.04009901652542219, 0.370984711374604, 0.07638206663395225, 0.015974100679159164], [12, 0.070751704, 0.09591672, 0.13551417, 0.20706047, 0.08443575285567874, 0.08591163192146652, 0.08336022939512701, 0.06755218921721745, 0.07103198871628291, 0.07938918224867106, 0.07317800741841447, 0.04012734995240143, 0.3690421811309463, 0.0758728128090919, 0.01594632863998413], [13, 0.07164659, 0.097830385, 0.13445018, 0.2059905, 0.08509625274560886, 0.0872070995296187, 0.08235749903349228, 0.06727501433449708, 0.07168986022600975, 0.08029896767018947, 0.07307923184883114, 0.04027017070955663, 0.3712589127768755, 0.07667778167212212, 0.015930717810988426], [14, 0.0729776, 0.096174516, 0.13388029, 0.20699897, 0.08699647994755884, 0.08663588321987012, 0.0822380122156619, 0.06735136664577455, 0.07278614487230123, 0.0804618690240832, 0.07325943954051257, 0.04037173961169402, 0.3735846195912892, 0.07673718649076403, 0.015957916155457497], [15, 0.07216528, 0.095337026, 0.13765359, 0.20510587, 0.08569111779634743, 0.0855963873629637, 0.08433523952330546, 0.0672212478548904, 0.07207844301836105, 0.07974945026972023, 0.07383574356196378, 0.04031958243401456, 0.3718101788483736, 0.07659370160145398, 0.015951499342918396], [16, 0.07056027, 0.09569044, 0.1350288, 0.20707057, 0.08425832774103112, 0.08574813723384228, 0.08281334810097189, 0.06737501529516142, 0.07149419675885103, 0.07979624590955316, 0.07322316624469681, 0.04025960367520741, 0.3727621704533128, 0.07649835897185947, 0.015948403626680374], [17, 0.07116051, 0.0942807, 0.13604088, 0.20639627, 0.08487896129788129, 0.08457004715453416, 0.08354157109794638, 0.06742299287255575, 0.07171804251862401, 0.07910168864062858, 0.07349655341267368, 0.04027064551042089, 0.3718884373101151, 0.07636512607449553, 0.015940550714731216], [18, 0.07121523, 0.0973925, 0.13514905, 0.20559503, 0.08470197694501988, 0.08731131548885279, 0.0831005891592109, 0.06731414464684705, 0.07150566187749566, 0.08039738139075278, 0.07336159350903837, 0.04025050298560208, 0.3712807342952835, 0.07644666594537788, 0.015982240438461304], [19, 0.0712593, 0.0971797, 0.13484332, 0.20493202, 0.08501274730164084, 0.08704693784365707, 0.08285229059143145, 0.06694349932107255, 0.07166767846422745, 0.08056058910106421, 0.07342843234316918, 0.04021088196847307, 0.37314102867597815, 0.07647775329335257, 0.015966566279530525], [20, 0.07128874, 0.0963952, 0.13492444, 0.20639265, 0.08467689669304226, 0.0867309786729205, 0.08280081413805038, 0.06724307286485169, 0.0715631064325649, 0.08028249949300623, 0.07318740551531408, 0.040183347937013864, 0.37065269834038594, 0.0766707968669636, 0.015951531007885933], [21, 0.07163804, 0.09617342, 0.13614862, 0.20594308, 0.08508539642511545, 0.08653268320301867, 0.08339131017675103, 0.06702323044122087, 0.07181713476515994, 0.08022086385629729, 0.07344249319811215, 0.0401383784953232, 0.37099623420028655, 0.07672150437978155, 0.015951819717884064], [22, 0.07266818, 0.09598385, 0.13606514, 0.20599376, 0.08628025227264016, 0.08598973258891862, 0.08355293370455179, 0.06726146593594828, 0.0723927886698738, 0.08008493517747609, 0.07367128144782115, 0.040295274822999994, 0.3722366742307019, 0.07685461681941647, 0.015948595479130745], [23, 0.07231302, 0.09772922, 0.13594793, 0.20689812, 0.08607310422970786, 0.08765043530329755, 0.08340629284627953, 0.06751276823015195, 0.07240254494895433, 0.08072198329495352, 0.07362482657706731, 0.04038129144525506, 0.3725923180512286, 0.07698842154911262, 0.01596120372414589]]\n",
      "-----------------------------------------------------------------------------------------\n"
     ]
    },
    {
     "name": "stderr",
     "output_type": "stream",
     "text": [
      "  0%|          | 1/1913 [00:00<13:48,  2.31it/s]"
     ]
    },
    {
     "name": "stdout",
     "output_type": "stream",
     "text": [
      "Epoch 24: 0% , Loss: 0.016388\n"
     ]
    },
    {
     "name": "stderr",
     "output_type": "stream",
     "text": [
      "  5%|▌         | 101/1913 [00:43<14:36,  2.07it/s]"
     ]
    },
    {
     "name": "stdout",
     "output_type": "stream",
     "text": [
      "Epoch 24: 5% , Loss: 0.012520\n"
     ]
    },
    {
     "name": "stderr",
     "output_type": "stream",
     "text": [
      " 11%|█         | 201/1913 [01:26<12:30,  2.28it/s]"
     ]
    },
    {
     "name": "stdout",
     "output_type": "stream",
     "text": [
      "Epoch 24: 10% , Loss: 0.012177\n"
     ]
    },
    {
     "name": "stderr",
     "output_type": "stream",
     "text": [
      " 16%|█▌        | 301/1913 [02:00<10:38,  2.52it/s]"
     ]
    },
    {
     "name": "stdout",
     "output_type": "stream",
     "text": [
      "Epoch 24: 16% , Loss: 0.016647\n"
     ]
    },
    {
     "name": "stderr",
     "output_type": "stream",
     "text": [
      " 21%|██        | 401/1913 [02:42<10:55,  2.30it/s]"
     ]
    },
    {
     "name": "stdout",
     "output_type": "stream",
     "text": [
      "Epoch 24: 21% , Loss: 0.019669\n"
     ]
    },
    {
     "name": "stderr",
     "output_type": "stream",
     "text": [
      " 26%|██▌       | 501/1913 [03:23<09:51,  2.39it/s]"
     ]
    },
    {
     "name": "stdout",
     "output_type": "stream",
     "text": [
      "Epoch 24: 26% , Loss: 0.022751\n"
     ]
    },
    {
     "name": "stderr",
     "output_type": "stream",
     "text": [
      " 31%|███▏      | 601/1913 [04:04<09:19,  2.34it/s]"
     ]
    },
    {
     "name": "stdout",
     "output_type": "stream",
     "text": [
      "Epoch 24: 31% , Loss: 0.014984\n"
     ]
    },
    {
     "name": "stderr",
     "output_type": "stream",
     "text": [
      " 37%|███▋      | 701/1913 [04:44<06:53,  2.93it/s]"
     ]
    },
    {
     "name": "stdout",
     "output_type": "stream",
     "text": [
      "Epoch 24: 37% , Loss: 0.011299\n"
     ]
    },
    {
     "name": "stderr",
     "output_type": "stream",
     "text": [
      " 42%|████▏     | 801/1913 [05:32<09:28,  1.96it/s]"
     ]
    },
    {
     "name": "stdout",
     "output_type": "stream",
     "text": [
      "Epoch 24: 42% , Loss: 0.016708\n"
     ]
    },
    {
     "name": "stderr",
     "output_type": "stream",
     "text": [
      " 47%|████▋     | 901/1913 [06:18<06:13,  2.71it/s]"
     ]
    },
    {
     "name": "stdout",
     "output_type": "stream",
     "text": [
      "Epoch 24: 47% , Loss: 0.016479\n"
     ]
    },
    {
     "name": "stderr",
     "output_type": "stream",
     "text": [
      " 52%|█████▏    | 1001/1913 [07:01<06:17,  2.41it/s]"
     ]
    },
    {
     "name": "stdout",
     "output_type": "stream",
     "text": [
      "Epoch 24: 52% , Loss: 0.016373\n"
     ]
    },
    {
     "name": "stderr",
     "output_type": "stream",
     "text": [
      " 58%|█████▊    | 1101/1913 [07:45<06:29,  2.08it/s]"
     ]
    },
    {
     "name": "stdout",
     "output_type": "stream",
     "text": [
      "Epoch 24: 58% , Loss: 0.015991\n"
     ]
    },
    {
     "name": "stderr",
     "output_type": "stream",
     "text": [
      " 63%|██████▎   | 1201/1913 [08:30<04:53,  2.43it/s]"
     ]
    },
    {
     "name": "stdout",
     "output_type": "stream",
     "text": [
      "Epoch 24: 63% , Loss: 0.013329\n"
     ]
    },
    {
     "name": "stderr",
     "output_type": "stream",
     "text": [
      " 68%|██████▊   | 1301/1913 [09:14<05:13,  1.95it/s]"
     ]
    },
    {
     "name": "stdout",
     "output_type": "stream",
     "text": [
      "Epoch 24: 68% , Loss: 0.020493\n"
     ]
    },
    {
     "name": "stderr",
     "output_type": "stream",
     "text": [
      " 73%|███████▎  | 1401/1913 [09:59<03:42,  2.30it/s]"
     ]
    },
    {
     "name": "stdout",
     "output_type": "stream",
     "text": [
      "Epoch 24: 73% , Loss: 0.016129\n"
     ]
    },
    {
     "name": "stderr",
     "output_type": "stream",
     "text": [
      " 78%|███████▊  | 1501/1913 [10:45<03:38,  1.88it/s]"
     ]
    },
    {
     "name": "stdout",
     "output_type": "stream",
     "text": [
      "Epoch 24: 78% , Loss: 0.019318\n"
     ]
    },
    {
     "name": "stderr",
     "output_type": "stream",
     "text": [
      " 84%|████████▎ | 1601/1913 [11:31<02:31,  2.06it/s]"
     ]
    },
    {
     "name": "stdout",
     "output_type": "stream",
     "text": [
      "Epoch 24: 84% , Loss: 0.015480\n"
     ]
    },
    {
     "name": "stderr",
     "output_type": "stream",
     "text": [
      " 89%|████████▉ | 1701/1913 [12:18<01:37,  2.17it/s]"
     ]
    },
    {
     "name": "stdout",
     "output_type": "stream",
     "text": [
      "Epoch 24: 89% , Loss: 0.015671\n"
     ]
    },
    {
     "name": "stderr",
     "output_type": "stream",
     "text": [
      " 94%|█████████▍| 1801/1913 [13:08<00:55,  2.02it/s]"
     ]
    },
    {
     "name": "stdout",
     "output_type": "stream",
     "text": [
      "Epoch 24: 94% , Loss: 0.022171\n"
     ]
    },
    {
     "name": "stderr",
     "output_type": "stream",
     "text": [
      " 99%|█████████▉| 1901/1913 [13:56<00:05,  2.00it/s]"
     ]
    },
    {
     "name": "stdout",
     "output_type": "stream",
     "text": [
      "Epoch 24: 99% , Loss: 0.013275\n"
     ]
    },
    {
     "name": "stderr",
     "output_type": "stream",
     "text": [
      "100%|██████████| 1913/1913 [14:02<00:00,  2.27it/s]"
     ]
    },
    {
     "name": "stdout",
     "output_type": "stream",
     "text": [
      "Epoch 24: 100% , Loss: 0.012192\n"
     ]
    },
    {
     "name": "stderr",
     "output_type": "stream",
     "text": [
      "\n"
     ]
    },
    {
     "name": "stdout",
     "output_type": "stream",
     "text": [
      "                      (HR@5: 0.0702, HR@10: 0.0954, HR@20: 0.1329, HR@50: 0.2024)\n",
      "\n",
      "                      (F1-score@5: 0.0825, F1-score@10: 0.0841, F1-score@20: 0.0801, F1-score@50: 0.0647)\n",
      "\n",
      "                      (NDCG@5: 0.0687, NDCG@10: 0.0766, NDCG@20: 0.0691, NDCG@50: 0.0386)\n",
      "\n",
      "MRR: 0.35606421463840143\n",
      "MAP: 0.07514497340425708\n",
      "train_loss= tensor(0.0162)\n",
      "--------------------\n"
     ]
    },
    {
     "name": "stderr",
     "output_type": "stream",
     "text": [
      "100%|██████████| 239/239 [01:20<00:00,  2.98it/s]\n"
     ]
    },
    {
     "name": "stdout",
     "output_type": "stream",
     "text": [
      "                      (HR@5: 0.0740, HR@10: 0.0982, HR@20: 0.1355, HR@50: 0.2041)\n",
      "\n",
      "                      (F1-score@5: 0.0858, F1-score@10: 0.0849, F1-score@20: 0.0798, F1-score@50: 0.0636)\n",
      "\n",
      "                      (NDCG@5: 0.0745, NDCG@10: 0.0778, NDCG@20: 0.0692, NDCG@50: 0.0382)\n",
      "\n",
      "MRR: 0.3657872592606935\n",
      "MAP: 0.07882074429390491\n",
      "val_loss= tensor(0.0160)\n",
      "--------------------\n"
     ]
    },
    {
     "name": "stderr",
     "output_type": "stream",
     "text": [
      "100%|██████████| 239/239 [01:25<00:00,  2.81it/s]\n"
     ]
    },
    {
     "name": "stdout",
     "output_type": "stream",
     "text": [
      "                      (HR@5: 0.0729, HR@10: 0.0961, HR@20: 0.1363, HR@50: 0.2061)\n",
      "\n",
      "                      (F1-score@5: 0.0867, F1-score@10: 0.0867, F1-score@20: 0.0833, F1-score@50: 0.0673)\n",
      "\n",
      "                      (NDCG@5: 0.0722, NDCG@10: 0.0802, NDCG@20: 0.0733, NDCG@50: 0.0403)\n",
      "\n",
      "MRR: 0.37044872892231595\n",
      "MAP: 0.07653491064351235\n",
      "--------------------\n",
      "[[1, 0.000176979, 0.00068223453, 0.0023718968, 0.009589323, 0.0002442108875163269, 0.0006268082200194199, 0.0015666954520432085, 0.003426097025787866, 0.00019837253450349785, 0.00046320433560836764, 0.0009358937552035104, 0.001248527919068917, 0.010159379821064247, 0.0036791875091503217, 0.10968425869941711], [2, 0.0579169, 0.06518013, 0.073646955, 0.0834386, 0.06800952943131663, 0.05641138543697392, 0.043556704831750635, 0.025929251122398904, 0.062218703928688016, 0.06147596937463966, 0.049521951606910225, 0.022845984657224906, 0.3318945877377938, 0.04841510151378556, 0.030537880957126617], [3, 0.07133058, 0.096410915, 0.13600734, 0.19265828, 0.08492753116137174, 0.08639378021196885, 0.08328652254666667, 0.06253583629041133, 0.07149353576142138, 0.07992946028477556, 0.07335604778315608, 0.03873067027494646, 0.37084067777898605, 0.07050571535528713, 0.01862044632434845], [4, 0.072007574, 0.09592286, 0.13543335, 0.20467827, 0.08571322960351853, 0.08596013076920497, 0.08292583257348879, 0.06696188101234857, 0.07208090234902458, 0.07991856832065031, 0.07330433915030196, 0.04018254222267475, 0.37314840361936735, 0.07559157052402814, 0.016552498564124107], [5, 0.07143814, 0.09655343, 0.13596232, 0.20727903, 0.08500836419285189, 0.08641077635325635, 0.08327871480341131, 0.06763431268913597, 0.07170713566551491, 0.07994343955936807, 0.07336142521924398, 0.040353252087519054, 0.3725577085668874, 0.0764226944201201, 0.01607443206012249], [6, 0.07034161, 0.095847405, 0.1355904, 0.20651792, 0.08413951865839134, 0.08556957488838737, 0.08282995580391248, 0.06706828609383886, 0.07099069912516547, 0.0794603837343229, 0.07304718232982516, 0.04007183815933234, 0.3708128080393419, 0.07604838842971748, 0.01594112440943718], [7, 0.07088172, 0.095006265, 0.13541955, 0.20505267, 0.08463074103580033, 0.0854007336848504, 0.08267942496593211, 0.06685463036746739, 0.07142290190957237, 0.07947097723586602, 0.07308573166305925, 0.04011256272600629, 0.3721486949037149, 0.07620681321331764, 0.015928132459521294], [8, 0.071424335, 0.095377676, 0.13529646, 0.20652768, 0.08514377688890037, 0.08567798691491317, 0.08314956313414659, 0.06735135049431228, 0.07084087120411942, 0.07884859760334739, 0.07274992930776904, 0.03998650211225182, 0.3646856504108138, 0.07567804982016839, 0.015926601365208626], [9, 0.07245165, 0.09710859, 0.13648483, 0.20559047, 0.08613456829996359, 0.08687598765059772, 0.08348326085757561, 0.06719348698159702, 0.07166863028564058, 0.07965110819475048, 0.073120168292365, 0.04009901207022244, 0.3672760706860293, 0.07619070788088403, 0.015935538336634636], [10, 0.070865504, 0.096338354, 0.13511951, 0.20746852, 0.08474914576600148, 0.08627373565019963, 0.08275276927583128, 0.06761860889138666, 0.07168461234410095, 0.08008586437924606, 0.07331110488829909, 0.04038744911582649, 0.3726021776481638, 0.07668197164023732, 0.015949424356222153], [11, 0.07232518, 0.09561456, 0.1342209, 0.20587724, 0.0859936123829489, 0.08542688244907685, 0.08216856988372298, 0.06702460172546934, 0.07209792659738759, 0.07960046529204869, 0.07281237191454387, 0.04009901652542219, 0.370984711374604, 0.07638206663395225, 0.015974100679159164], [12, 0.070751704, 0.09591672, 0.13551417, 0.20706047, 0.08443575285567874, 0.08591163192146652, 0.08336022939512701, 0.06755218921721745, 0.07103198871628291, 0.07938918224867106, 0.07317800741841447, 0.04012734995240143, 0.3690421811309463, 0.0758728128090919, 0.01594632863998413], [13, 0.07164659, 0.097830385, 0.13445018, 0.2059905, 0.08509625274560886, 0.0872070995296187, 0.08235749903349228, 0.06727501433449708, 0.07168986022600975, 0.08029896767018947, 0.07307923184883114, 0.04027017070955663, 0.3712589127768755, 0.07667778167212212, 0.015930717810988426], [14, 0.0729776, 0.096174516, 0.13388029, 0.20699897, 0.08699647994755884, 0.08663588321987012, 0.0822380122156619, 0.06735136664577455, 0.07278614487230123, 0.0804618690240832, 0.07325943954051257, 0.04037173961169402, 0.3735846195912892, 0.07673718649076403, 0.015957916155457497], [15, 0.07216528, 0.095337026, 0.13765359, 0.20510587, 0.08569111779634743, 0.0855963873629637, 0.08433523952330546, 0.0672212478548904, 0.07207844301836105, 0.07974945026972023, 0.07383574356196378, 0.04031958243401456, 0.3718101788483736, 0.07659370160145398, 0.015951499342918396], [16, 0.07056027, 0.09569044, 0.1350288, 0.20707057, 0.08425832774103112, 0.08574813723384228, 0.08281334810097189, 0.06737501529516142, 0.07149419675885103, 0.07979624590955316, 0.07322316624469681, 0.04025960367520741, 0.3727621704533128, 0.07649835897185947, 0.015948403626680374], [17, 0.07116051, 0.0942807, 0.13604088, 0.20639627, 0.08487896129788129, 0.08457004715453416, 0.08354157109794638, 0.06742299287255575, 0.07171804251862401, 0.07910168864062858, 0.07349655341267368, 0.04027064551042089, 0.3718884373101151, 0.07636512607449553, 0.015940550714731216], [18, 0.07121523, 0.0973925, 0.13514905, 0.20559503, 0.08470197694501988, 0.08731131548885279, 0.0831005891592109, 0.06731414464684705, 0.07150566187749566, 0.08039738139075278, 0.07336159350903837, 0.04025050298560208, 0.3712807342952835, 0.07644666594537788, 0.015982240438461304], [19, 0.0712593, 0.0971797, 0.13484332, 0.20493202, 0.08501274730164084, 0.08704693784365707, 0.08285229059143145, 0.06694349932107255, 0.07166767846422745, 0.08056058910106421, 0.07342843234316918, 0.04021088196847307, 0.37314102867597815, 0.07647775329335257, 0.015966566279530525], [20, 0.07128874, 0.0963952, 0.13492444, 0.20639265, 0.08467689669304226, 0.0867309786729205, 0.08280081413805038, 0.06724307286485169, 0.0715631064325649, 0.08028249949300623, 0.07318740551531408, 0.040183347937013864, 0.37065269834038594, 0.0766707968669636, 0.015951531007885933], [21, 0.07163804, 0.09617342, 0.13614862, 0.20594308, 0.08508539642511545, 0.08653268320301867, 0.08339131017675103, 0.06702323044122087, 0.07181713476515994, 0.08022086385629729, 0.07344249319811215, 0.0401383784953232, 0.37099623420028655, 0.07672150437978155, 0.015951819717884064], [22, 0.07266818, 0.09598385, 0.13606514, 0.20599376, 0.08628025227264016, 0.08598973258891862, 0.08355293370455179, 0.06726146593594828, 0.0723927886698738, 0.08008493517747609, 0.07367128144782115, 0.040295274822999994, 0.3722366742307019, 0.07685461681941647, 0.015948595479130745], [23, 0.07231302, 0.09772922, 0.13594793, 0.20689812, 0.08607310422970786, 0.08765043530329755, 0.08340629284627953, 0.06751276823015195, 0.07240254494895433, 0.08072198329495352, 0.07362482657706731, 0.04038129144525506, 0.3725923180512286, 0.07698842154911262, 0.01596120372414589], [24, 0.07289359, 0.09613492, 0.13632423, 0.20606193, 0.08667124587821913, 0.08667291637800922, 0.08327902834575573, 0.06731515002341112, 0.07221325880762143, 0.08018981211109547, 0.07325104068941339, 0.040252690292869514, 0.37044872892231595, 0.07653491064351235, 0.015971530228853226]]\n",
      "-----------------------------------------------------------------------------------------\n"
     ]
    },
    {
     "name": "stderr",
     "output_type": "stream",
     "text": [
      "  0%|          | 1/1913 [00:00<20:41,  1.54it/s]"
     ]
    },
    {
     "name": "stdout",
     "output_type": "stream",
     "text": [
      "Epoch 25: 0% , Loss: 0.019241\n"
     ]
    },
    {
     "name": "stderr",
     "output_type": "stream",
     "text": [
      "  5%|▌         | 101/1913 [00:42<13:16,  2.28it/s]"
     ]
    },
    {
     "name": "stdout",
     "output_type": "stream",
     "text": [
      "Epoch 25: 5% , Loss: 0.018753\n"
     ]
    },
    {
     "name": "stderr",
     "output_type": "stream",
     "text": [
      " 11%|█         | 201/1913 [01:20<14:23,  1.98it/s]"
     ]
    },
    {
     "name": "stdout",
     "output_type": "stream",
     "text": [
      "Epoch 25: 10% , Loss: 0.013229\n"
     ]
    },
    {
     "name": "stderr",
     "output_type": "stream",
     "text": [
      " 16%|█▌        | 301/1913 [02:02<11:30,  2.34it/s]"
     ]
    },
    {
     "name": "stdout",
     "output_type": "stream",
     "text": [
      "Epoch 25: 16% , Loss: 0.012512\n"
     ]
    },
    {
     "name": "stderr",
     "output_type": "stream",
     "text": [
      " 21%|██        | 401/1913 [02:43<10:18,  2.44it/s]"
     ]
    },
    {
     "name": "stdout",
     "output_type": "stream",
     "text": [
      "Epoch 25: 21% , Loss: 0.016251\n"
     ]
    },
    {
     "name": "stderr",
     "output_type": "stream",
     "text": [
      " 26%|██▌       | 501/1913 [03:25<11:34,  2.03it/s]"
     ]
    },
    {
     "name": "stdout",
     "output_type": "stream",
     "text": [
      "Epoch 25: 26% , Loss: 0.016449\n"
     ]
    },
    {
     "name": "stderr",
     "output_type": "stream",
     "text": [
      " 31%|███▏      | 601/1913 [04:07<09:57,  2.20it/s]"
     ]
    },
    {
     "name": "stdout",
     "output_type": "stream",
     "text": [
      "Epoch 25: 31% , Loss: 0.020462\n"
     ]
    },
    {
     "name": "stderr",
     "output_type": "stream",
     "text": [
      " 37%|███▋      | 701/1913 [04:30<04:40,  4.32it/s]"
     ]
    },
    {
     "name": "stdout",
     "output_type": "stream",
     "text": [
      "Epoch 25: 37% , Loss: 0.014305\n"
     ]
    },
    {
     "name": "stderr",
     "output_type": "stream",
     "text": [
      " 42%|████▏     | 801/1913 [04:52<04:08,  4.48it/s]"
     ]
    },
    {
     "name": "stdout",
     "output_type": "stream",
     "text": [
      "Epoch 25: 42% , Loss: 0.019348\n"
     ]
    },
    {
     "name": "stderr",
     "output_type": "stream",
     "text": [
      " 47%|████▋     | 902/1913 [05:15<03:29,  4.82it/s]"
     ]
    },
    {
     "name": "stdout",
     "output_type": "stream",
     "text": [
      "Epoch 25: 47% , Loss: 0.009163\n"
     ]
    },
    {
     "name": "stderr",
     "output_type": "stream",
     "text": [
      " 52%|█████▏    | 1002/1913 [05:39<03:58,  3.82it/s]"
     ]
    },
    {
     "name": "stdout",
     "output_type": "stream",
     "text": [
      "Epoch 25: 52% , Loss: 0.014488\n"
     ]
    },
    {
     "name": "stderr",
     "output_type": "stream",
     "text": [
      " 58%|█████▊    | 1101/1913 [06:03<03:15,  4.15it/s]"
     ]
    },
    {
     "name": "stdout",
     "output_type": "stream",
     "text": [
      "Epoch 25: 58% , Loss: 0.013626\n"
     ]
    },
    {
     "name": "stderr",
     "output_type": "stream",
     "text": [
      " 63%|██████▎   | 1202/1913 [06:26<02:20,  5.06it/s]"
     ]
    },
    {
     "name": "stdout",
     "output_type": "stream",
     "text": [
      "Epoch 25: 63% , Loss: 0.014153\n"
     ]
    },
    {
     "name": "stderr",
     "output_type": "stream",
     "text": [
      " 68%|██████▊   | 1302/1913 [06:50<02:16,  4.49it/s]"
     ]
    },
    {
     "name": "stdout",
     "output_type": "stream",
     "text": [
      "Epoch 25: 68% , Loss: 0.017502\n"
     ]
    },
    {
     "name": "stderr",
     "output_type": "stream",
     "text": [
      " 73%|███████▎  | 1401/1913 [07:14<02:11,  3.89it/s]"
     ]
    },
    {
     "name": "stdout",
     "output_type": "stream",
     "text": [
      "Epoch 25: 73% , Loss: 0.019562\n"
     ]
    },
    {
     "name": "stderr",
     "output_type": "stream",
     "text": [
      " 78%|███████▊  | 1501/1913 [07:39<01:44,  3.95it/s]"
     ]
    },
    {
     "name": "stdout",
     "output_type": "stream",
     "text": [
      "Epoch 25: 78% , Loss: 0.020096\n"
     ]
    },
    {
     "name": "stderr",
     "output_type": "stream",
     "text": [
      " 84%|████████▎ | 1601/1913 [08:02<01:23,  3.74it/s]"
     ]
    },
    {
     "name": "stdout",
     "output_type": "stream",
     "text": [
      "Epoch 25: 84% , Loss: 0.013947\n"
     ]
    },
    {
     "name": "stderr",
     "output_type": "stream",
     "text": [
      " 89%|████████▉ | 1702/1913 [08:28<00:57,  3.69it/s]"
     ]
    },
    {
     "name": "stdout",
     "output_type": "stream",
     "text": [
      "Epoch 25: 89% , Loss: 0.015991\n"
     ]
    },
    {
     "name": "stderr",
     "output_type": "stream",
     "text": [
      " 94%|█████████▍| 1801/1913 [08:53<00:27,  4.10it/s]"
     ]
    },
    {
     "name": "stdout",
     "output_type": "stream",
     "text": [
      "Epoch 25: 94% , Loss: 0.015205\n"
     ]
    },
    {
     "name": "stderr",
     "output_type": "stream",
     "text": [
      " 99%|█████████▉| 1901/1913 [09:18<00:02,  4.12it/s]"
     ]
    },
    {
     "name": "stdout",
     "output_type": "stream",
     "text": [
      "Epoch 25: 99% , Loss: 0.012680\n"
     ]
    },
    {
     "name": "stderr",
     "output_type": "stream",
     "text": [
      "100%|██████████| 1913/1913 [09:21<00:00,  3.41it/s]"
     ]
    },
    {
     "name": "stdout",
     "output_type": "stream",
     "text": [
      "Epoch 25: 100% , Loss: 0.016586\n"
     ]
    },
    {
     "name": "stderr",
     "output_type": "stream",
     "text": [
      "\n"
     ]
    },
    {
     "name": "stdout",
     "output_type": "stream",
     "text": [
      "                      (HR@5: 0.0705, HR@10: 0.0948, HR@20: 0.1331, HR@50: 0.2021)\n",
      "\n",
      "                      (F1-score@5: 0.0830, F1-score@10: 0.0840, F1-score@20: 0.0805, F1-score@50: 0.0647)\n",
      "\n",
      "                      (NDCG@5: 0.0691, NDCG@10: 0.0768, NDCG@20: 0.0694, NDCG@50: 0.0387)\n",
      "\n",
      "MRR: 0.357079240353541\n",
      "MAP: 0.07539118175855795\n",
      "train_loss= tensor(0.0162)\n",
      "--------------------\n"
     ]
    },
    {
     "name": "stderr",
     "output_type": "stream",
     "text": [
      "100%|██████████| 239/239 [00:32<00:00,  7.45it/s]\n"
     ]
    },
    {
     "name": "stdout",
     "output_type": "stream",
     "text": [
      "                      (HR@5: 0.0737, HR@10: 0.1005, HR@20: 0.1364, HR@50: 0.2036)\n",
      "\n",
      "                      (F1-score@5: 0.0855, F1-score@10: 0.0861, F1-score@20: 0.0799, F1-score@50: 0.0635)\n",
      "\n",
      "                      (NDCG@5: 0.0745, NDCG@10: 0.0784, NDCG@20: 0.0693, NDCG@50: 0.0382)\n",
      "\n",
      "MRR: 0.36796626777180996\n",
      "MAP: 0.07889011922567386\n",
      "val_loss= tensor(0.0160)\n",
      "--------------------\n"
     ]
    },
    {
     "name": "stderr",
     "output_type": "stream",
     "text": [
      "100%|██████████| 239/239 [00:33<00:00,  7.06it/s]\n"
     ]
    },
    {
     "name": "stdout",
     "output_type": "stream",
     "text": [
      "                      (HR@5: 0.0725, HR@10: 0.0964, HR@20: 0.1358, HR@50: 0.2058)\n",
      "\n",
      "                      (F1-score@5: 0.0863, F1-score@10: 0.0865, F1-score@20: 0.0833, F1-score@50: 0.0672)\n",
      "\n",
      "                      (NDCG@5: 0.0724, NDCG@10: 0.0803, NDCG@20: 0.0736, NDCG@50: 0.0403)\n",
      "\n",
      "MRR: 0.3725265233301686\n",
      "MAP: 0.07676960290860078\n",
      "--------------------\n",
      "[[1, 0.000176979, 0.00068223453, 0.0023718968, 0.009589323, 0.0002442108875163269, 0.0006268082200194199, 0.0015666954520432085, 0.003426097025787866, 0.00019837253450349785, 0.00046320433560836764, 0.0009358937552035104, 0.001248527919068917, 0.010159379821064247, 0.0036791875091503217, 0.10968425869941711], [2, 0.0579169, 0.06518013, 0.073646955, 0.0834386, 0.06800952943131663, 0.05641138543697392, 0.043556704831750635, 0.025929251122398904, 0.062218703928688016, 0.06147596937463966, 0.049521951606910225, 0.022845984657224906, 0.3318945877377938, 0.04841510151378556, 0.030537880957126617], [3, 0.07133058, 0.096410915, 0.13600734, 0.19265828, 0.08492753116137174, 0.08639378021196885, 0.08328652254666667, 0.06253583629041133, 0.07149353576142138, 0.07992946028477556, 0.07335604778315608, 0.03873067027494646, 0.37084067777898605, 0.07050571535528713, 0.01862044632434845], [4, 0.072007574, 0.09592286, 0.13543335, 0.20467827, 0.08571322960351853, 0.08596013076920497, 0.08292583257348879, 0.06696188101234857, 0.07208090234902458, 0.07991856832065031, 0.07330433915030196, 0.04018254222267475, 0.37314840361936735, 0.07559157052402814, 0.016552498564124107], [5, 0.07143814, 0.09655343, 0.13596232, 0.20727903, 0.08500836419285189, 0.08641077635325635, 0.08327871480341131, 0.06763431268913597, 0.07170713566551491, 0.07994343955936807, 0.07336142521924398, 0.040353252087519054, 0.3725577085668874, 0.0764226944201201, 0.01607443206012249], [6, 0.07034161, 0.095847405, 0.1355904, 0.20651792, 0.08413951865839134, 0.08556957488838737, 0.08282995580391248, 0.06706828609383886, 0.07099069912516547, 0.0794603837343229, 0.07304718232982516, 0.04007183815933234, 0.3708128080393419, 0.07604838842971748, 0.01594112440943718], [7, 0.07088172, 0.095006265, 0.13541955, 0.20505267, 0.08463074103580033, 0.0854007336848504, 0.08267942496593211, 0.06685463036746739, 0.07142290190957237, 0.07947097723586602, 0.07308573166305925, 0.04011256272600629, 0.3721486949037149, 0.07620681321331764, 0.015928132459521294], [8, 0.071424335, 0.095377676, 0.13529646, 0.20652768, 0.08514377688890037, 0.08567798691491317, 0.08314956313414659, 0.06735135049431228, 0.07084087120411942, 0.07884859760334739, 0.07274992930776904, 0.03998650211225182, 0.3646856504108138, 0.07567804982016839, 0.015926601365208626], [9, 0.07245165, 0.09710859, 0.13648483, 0.20559047, 0.08613456829996359, 0.08687598765059772, 0.08348326085757561, 0.06719348698159702, 0.07166863028564058, 0.07965110819475048, 0.073120168292365, 0.04009901207022244, 0.3672760706860293, 0.07619070788088403, 0.015935538336634636], [10, 0.070865504, 0.096338354, 0.13511951, 0.20746852, 0.08474914576600148, 0.08627373565019963, 0.08275276927583128, 0.06761860889138666, 0.07168461234410095, 0.08008586437924606, 0.07331110488829909, 0.04038744911582649, 0.3726021776481638, 0.07668197164023732, 0.015949424356222153], [11, 0.07232518, 0.09561456, 0.1342209, 0.20587724, 0.0859936123829489, 0.08542688244907685, 0.08216856988372298, 0.06702460172546934, 0.07209792659738759, 0.07960046529204869, 0.07281237191454387, 0.04009901652542219, 0.370984711374604, 0.07638206663395225, 0.015974100679159164], [12, 0.070751704, 0.09591672, 0.13551417, 0.20706047, 0.08443575285567874, 0.08591163192146652, 0.08336022939512701, 0.06755218921721745, 0.07103198871628291, 0.07938918224867106, 0.07317800741841447, 0.04012734995240143, 0.3690421811309463, 0.0758728128090919, 0.01594632863998413], [13, 0.07164659, 0.097830385, 0.13445018, 0.2059905, 0.08509625274560886, 0.0872070995296187, 0.08235749903349228, 0.06727501433449708, 0.07168986022600975, 0.08029896767018947, 0.07307923184883114, 0.04027017070955663, 0.3712589127768755, 0.07667778167212212, 0.015930717810988426], [14, 0.0729776, 0.096174516, 0.13388029, 0.20699897, 0.08699647994755884, 0.08663588321987012, 0.0822380122156619, 0.06735136664577455, 0.07278614487230123, 0.0804618690240832, 0.07325943954051257, 0.04037173961169402, 0.3735846195912892, 0.07673718649076403, 0.015957916155457497], [15, 0.07216528, 0.095337026, 0.13765359, 0.20510587, 0.08569111779634743, 0.0855963873629637, 0.08433523952330546, 0.0672212478548904, 0.07207844301836105, 0.07974945026972023, 0.07383574356196378, 0.04031958243401456, 0.3718101788483736, 0.07659370160145398, 0.015951499342918396], [16, 0.07056027, 0.09569044, 0.1350288, 0.20707057, 0.08425832774103112, 0.08574813723384228, 0.08281334810097189, 0.06737501529516142, 0.07149419675885103, 0.07979624590955316, 0.07322316624469681, 0.04025960367520741, 0.3727621704533128, 0.07649835897185947, 0.015948403626680374], [17, 0.07116051, 0.0942807, 0.13604088, 0.20639627, 0.08487896129788129, 0.08457004715453416, 0.08354157109794638, 0.06742299287255575, 0.07171804251862401, 0.07910168864062858, 0.07349655341267368, 0.04027064551042089, 0.3718884373101151, 0.07636512607449553, 0.015940550714731216], [18, 0.07121523, 0.0973925, 0.13514905, 0.20559503, 0.08470197694501988, 0.08731131548885279, 0.0831005891592109, 0.06731414464684705, 0.07150566187749566, 0.08039738139075278, 0.07336159350903837, 0.04025050298560208, 0.3712807342952835, 0.07644666594537788, 0.015982240438461304], [19, 0.0712593, 0.0971797, 0.13484332, 0.20493202, 0.08501274730164084, 0.08704693784365707, 0.08285229059143145, 0.06694349932107255, 0.07166767846422745, 0.08056058910106421, 0.07342843234316918, 0.04021088196847307, 0.37314102867597815, 0.07647775329335257, 0.015966566279530525], [20, 0.07128874, 0.0963952, 0.13492444, 0.20639265, 0.08467689669304226, 0.0867309786729205, 0.08280081413805038, 0.06724307286485169, 0.0715631064325649, 0.08028249949300623, 0.07318740551531408, 0.040183347937013864, 0.37065269834038594, 0.0766707968669636, 0.015951531007885933], [21, 0.07163804, 0.09617342, 0.13614862, 0.20594308, 0.08508539642511545, 0.08653268320301867, 0.08339131017675103, 0.06702323044122087, 0.07181713476515994, 0.08022086385629729, 0.07344249319811215, 0.0401383784953232, 0.37099623420028655, 0.07672150437978155, 0.015951819717884064], [22, 0.07266818, 0.09598385, 0.13606514, 0.20599376, 0.08628025227264016, 0.08598973258891862, 0.08355293370455179, 0.06726146593594828, 0.0723927886698738, 0.08008493517747609, 0.07367128144782115, 0.040295274822999994, 0.3722366742307019, 0.07685461681941647, 0.015948595479130745], [23, 0.07231302, 0.09772922, 0.13594793, 0.20689812, 0.08607310422970786, 0.08765043530329755, 0.08340629284627953, 0.06751276823015195, 0.07240254494895433, 0.08072198329495352, 0.07362482657706731, 0.04038129144525506, 0.3725923180512286, 0.07698842154911262, 0.01596120372414589], [24, 0.07289359, 0.09613492, 0.13632423, 0.20606193, 0.08667124587821913, 0.08667291637800922, 0.08327902834575573, 0.06731515002341112, 0.07221325880762143, 0.08018981211109547, 0.07325104068941339, 0.040252690292869514, 0.37044872892231595, 0.07653491064351235, 0.015971530228853226], [25, 0.0724832, 0.0964101, 0.13576281, 0.20578854, 0.08630314698852229, 0.08650850802603437, 0.08332884831334283, 0.06715660872842628, 0.07242711944404256, 0.08027656430526632, 0.0736139474834109, 0.040294611427366, 0.3725265233301686, 0.07676960290860078, 0.01596369408071041]]\n",
      "-----------------------------------------------------------------------------------------\n"
     ]
    },
    {
     "data": {
      "text/html": [
       "<div>\n",
       "<style scoped>\n",
       "    .dataframe tbody tr th:only-of-type {\n",
       "        vertical-align: middle;\n",
       "    }\n",
       "\n",
       "    .dataframe tbody tr th {\n",
       "        vertical-align: top;\n",
       "    }\n",
       "\n",
       "    .dataframe thead th {\n",
       "        text-align: right;\n",
       "    }\n",
       "</style>\n",
       "<table border=\"1\" class=\"dataframe\">\n",
       "  <thead>\n",
       "    <tr style=\"text-align: right;\">\n",
       "      <th></th>\n",
       "      <th>Epoch</th>\n",
       "      <th>HR@5</th>\n",
       "      <th>HR@10</th>\n",
       "      <th>HR@20</th>\n",
       "      <th>HR@50</th>\n",
       "      <th>F1-score@5</th>\n",
       "      <th>F1-score@10</th>\n",
       "      <th>F1-score@20</th>\n",
       "      <th>F1-score@50</th>\n",
       "      <th>NDCG@5</th>\n",
       "      <th>NDCG@10</th>\n",
       "      <th>NDCG@20</th>\n",
       "      <th>NDCG@50</th>\n",
       "      <th>MRR</th>\n",
       "      <th>MAP</th>\n",
       "      <th>val_loss</th>\n",
       "    </tr>\n",
       "  </thead>\n",
       "  <tbody>\n",
       "    <tr>\n",
       "      <th>0</th>\n",
       "      <td>1</td>\n",
       "      <td>0.000177</td>\n",
       "      <td>0.000682</td>\n",
       "      <td>0.002372</td>\n",
       "      <td>0.009589</td>\n",
       "      <td>0.000244</td>\n",
       "      <td>0.000627</td>\n",
       "      <td>0.001567</td>\n",
       "      <td>0.003426</td>\n",
       "      <td>0.000198</td>\n",
       "      <td>0.000463</td>\n",
       "      <td>0.000936</td>\n",
       "      <td>0.001249</td>\n",
       "      <td>0.010159</td>\n",
       "      <td>0.003679</td>\n",
       "      <td>0.109684</td>\n",
       "    </tr>\n",
       "    <tr>\n",
       "      <th>1</th>\n",
       "      <td>2</td>\n",
       "      <td>0.057917</td>\n",
       "      <td>0.065180</td>\n",
       "      <td>0.073647</td>\n",
       "      <td>0.083439</td>\n",
       "      <td>0.068010</td>\n",
       "      <td>0.056411</td>\n",
       "      <td>0.043557</td>\n",
       "      <td>0.025929</td>\n",
       "      <td>0.062219</td>\n",
       "      <td>0.061476</td>\n",
       "      <td>0.049522</td>\n",
       "      <td>0.022846</td>\n",
       "      <td>0.331895</td>\n",
       "      <td>0.048415</td>\n",
       "      <td>0.030538</td>\n",
       "    </tr>\n",
       "    <tr>\n",
       "      <th>2</th>\n",
       "      <td>3</td>\n",
       "      <td>0.071331</td>\n",
       "      <td>0.096411</td>\n",
       "      <td>0.136007</td>\n",
       "      <td>0.192658</td>\n",
       "      <td>0.084928</td>\n",
       "      <td>0.086394</td>\n",
       "      <td>0.083287</td>\n",
       "      <td>0.062536</td>\n",
       "      <td>0.071494</td>\n",
       "      <td>0.079929</td>\n",
       "      <td>0.073356</td>\n",
       "      <td>0.038731</td>\n",
       "      <td>0.370841</td>\n",
       "      <td>0.070506</td>\n",
       "      <td>0.018620</td>\n",
       "    </tr>\n",
       "    <tr>\n",
       "      <th>3</th>\n",
       "      <td>4</td>\n",
       "      <td>0.072008</td>\n",
       "      <td>0.095923</td>\n",
       "      <td>0.135433</td>\n",
       "      <td>0.204678</td>\n",
       "      <td>0.085713</td>\n",
       "      <td>0.085960</td>\n",
       "      <td>0.082926</td>\n",
       "      <td>0.066962</td>\n",
       "      <td>0.072081</td>\n",
       "      <td>0.079919</td>\n",
       "      <td>0.073304</td>\n",
       "      <td>0.040183</td>\n",
       "      <td>0.373148</td>\n",
       "      <td>0.075592</td>\n",
       "      <td>0.016552</td>\n",
       "    </tr>\n",
       "    <tr>\n",
       "      <th>4</th>\n",
       "      <td>5</td>\n",
       "      <td>0.071438</td>\n",
       "      <td>0.096553</td>\n",
       "      <td>0.135962</td>\n",
       "      <td>0.207279</td>\n",
       "      <td>0.085008</td>\n",
       "      <td>0.086411</td>\n",
       "      <td>0.083279</td>\n",
       "      <td>0.067634</td>\n",
       "      <td>0.071707</td>\n",
       "      <td>0.079943</td>\n",
       "      <td>0.073361</td>\n",
       "      <td>0.040353</td>\n",
       "      <td>0.372558</td>\n",
       "      <td>0.076423</td>\n",
       "      <td>0.016074</td>\n",
       "    </tr>\n",
       "    <tr>\n",
       "      <th>5</th>\n",
       "      <td>6</td>\n",
       "      <td>0.070342</td>\n",
       "      <td>0.095847</td>\n",
       "      <td>0.135590</td>\n",
       "      <td>0.206518</td>\n",
       "      <td>0.084140</td>\n",
       "      <td>0.085570</td>\n",
       "      <td>0.082830</td>\n",
       "      <td>0.067068</td>\n",
       "      <td>0.070991</td>\n",
       "      <td>0.079460</td>\n",
       "      <td>0.073047</td>\n",
       "      <td>0.040072</td>\n",
       "      <td>0.370813</td>\n",
       "      <td>0.076048</td>\n",
       "      <td>0.015941</td>\n",
       "    </tr>\n",
       "    <tr>\n",
       "      <th>6</th>\n",
       "      <td>7</td>\n",
       "      <td>0.070882</td>\n",
       "      <td>0.095006</td>\n",
       "      <td>0.135420</td>\n",
       "      <td>0.205053</td>\n",
       "      <td>0.084631</td>\n",
       "      <td>0.085401</td>\n",
       "      <td>0.082679</td>\n",
       "      <td>0.066855</td>\n",
       "      <td>0.071423</td>\n",
       "      <td>0.079471</td>\n",
       "      <td>0.073086</td>\n",
       "      <td>0.040113</td>\n",
       "      <td>0.372149</td>\n",
       "      <td>0.076207</td>\n",
       "      <td>0.015928</td>\n",
       "    </tr>\n",
       "    <tr>\n",
       "      <th>7</th>\n",
       "      <td>8</td>\n",
       "      <td>0.071424</td>\n",
       "      <td>0.095378</td>\n",
       "      <td>0.135296</td>\n",
       "      <td>0.206528</td>\n",
       "      <td>0.085144</td>\n",
       "      <td>0.085678</td>\n",
       "      <td>0.083150</td>\n",
       "      <td>0.067351</td>\n",
       "      <td>0.070841</td>\n",
       "      <td>0.078849</td>\n",
       "      <td>0.072750</td>\n",
       "      <td>0.039987</td>\n",
       "      <td>0.364686</td>\n",
       "      <td>0.075678</td>\n",
       "      <td>0.015927</td>\n",
       "    </tr>\n",
       "    <tr>\n",
       "      <th>8</th>\n",
       "      <td>9</td>\n",
       "      <td>0.072452</td>\n",
       "      <td>0.097109</td>\n",
       "      <td>0.136485</td>\n",
       "      <td>0.205590</td>\n",
       "      <td>0.086135</td>\n",
       "      <td>0.086876</td>\n",
       "      <td>0.083483</td>\n",
       "      <td>0.067193</td>\n",
       "      <td>0.071669</td>\n",
       "      <td>0.079651</td>\n",
       "      <td>0.073120</td>\n",
       "      <td>0.040099</td>\n",
       "      <td>0.367276</td>\n",
       "      <td>0.076191</td>\n",
       "      <td>0.015936</td>\n",
       "    </tr>\n",
       "    <tr>\n",
       "      <th>9</th>\n",
       "      <td>10</td>\n",
       "      <td>0.070866</td>\n",
       "      <td>0.096338</td>\n",
       "      <td>0.135120</td>\n",
       "      <td>0.207469</td>\n",
       "      <td>0.084749</td>\n",
       "      <td>0.086274</td>\n",
       "      <td>0.082753</td>\n",
       "      <td>0.067619</td>\n",
       "      <td>0.071685</td>\n",
       "      <td>0.080086</td>\n",
       "      <td>0.073311</td>\n",
       "      <td>0.040387</td>\n",
       "      <td>0.372602</td>\n",
       "      <td>0.076682</td>\n",
       "      <td>0.015949</td>\n",
       "    </tr>\n",
       "    <tr>\n",
       "      <th>10</th>\n",
       "      <td>11</td>\n",
       "      <td>0.072325</td>\n",
       "      <td>0.095615</td>\n",
       "      <td>0.134221</td>\n",
       "      <td>0.205877</td>\n",
       "      <td>0.085994</td>\n",
       "      <td>0.085427</td>\n",
       "      <td>0.082169</td>\n",
       "      <td>0.067025</td>\n",
       "      <td>0.072098</td>\n",
       "      <td>0.079600</td>\n",
       "      <td>0.072812</td>\n",
       "      <td>0.040099</td>\n",
       "      <td>0.370985</td>\n",
       "      <td>0.076382</td>\n",
       "      <td>0.015974</td>\n",
       "    </tr>\n",
       "    <tr>\n",
       "      <th>11</th>\n",
       "      <td>12</td>\n",
       "      <td>0.070752</td>\n",
       "      <td>0.095917</td>\n",
       "      <td>0.135514</td>\n",
       "      <td>0.207060</td>\n",
       "      <td>0.084436</td>\n",
       "      <td>0.085912</td>\n",
       "      <td>0.083360</td>\n",
       "      <td>0.067552</td>\n",
       "      <td>0.071032</td>\n",
       "      <td>0.079389</td>\n",
       "      <td>0.073178</td>\n",
       "      <td>0.040127</td>\n",
       "      <td>0.369042</td>\n",
       "      <td>0.075873</td>\n",
       "      <td>0.015946</td>\n",
       "    </tr>\n",
       "    <tr>\n",
       "      <th>12</th>\n",
       "      <td>13</td>\n",
       "      <td>0.071647</td>\n",
       "      <td>0.097830</td>\n",
       "      <td>0.134450</td>\n",
       "      <td>0.205990</td>\n",
       "      <td>0.085096</td>\n",
       "      <td>0.087207</td>\n",
       "      <td>0.082357</td>\n",
       "      <td>0.067275</td>\n",
       "      <td>0.071690</td>\n",
       "      <td>0.080299</td>\n",
       "      <td>0.073079</td>\n",
       "      <td>0.040270</td>\n",
       "      <td>0.371259</td>\n",
       "      <td>0.076678</td>\n",
       "      <td>0.015931</td>\n",
       "    </tr>\n",
       "    <tr>\n",
       "      <th>13</th>\n",
       "      <td>14</td>\n",
       "      <td>0.072978</td>\n",
       "      <td>0.096175</td>\n",
       "      <td>0.133880</td>\n",
       "      <td>0.206999</td>\n",
       "      <td>0.086996</td>\n",
       "      <td>0.086636</td>\n",
       "      <td>0.082238</td>\n",
       "      <td>0.067351</td>\n",
       "      <td>0.072786</td>\n",
       "      <td>0.080462</td>\n",
       "      <td>0.073259</td>\n",
       "      <td>0.040372</td>\n",
       "      <td>0.373585</td>\n",
       "      <td>0.076737</td>\n",
       "      <td>0.015958</td>\n",
       "    </tr>\n",
       "    <tr>\n",
       "      <th>14</th>\n",
       "      <td>15</td>\n",
       "      <td>0.072165</td>\n",
       "      <td>0.095337</td>\n",
       "      <td>0.137654</td>\n",
       "      <td>0.205106</td>\n",
       "      <td>0.085691</td>\n",
       "      <td>0.085596</td>\n",
       "      <td>0.084335</td>\n",
       "      <td>0.067221</td>\n",
       "      <td>0.072078</td>\n",
       "      <td>0.079749</td>\n",
       "      <td>0.073836</td>\n",
       "      <td>0.040320</td>\n",
       "      <td>0.371810</td>\n",
       "      <td>0.076594</td>\n",
       "      <td>0.015951</td>\n",
       "    </tr>\n",
       "    <tr>\n",
       "      <th>15</th>\n",
       "      <td>16</td>\n",
       "      <td>0.070560</td>\n",
       "      <td>0.095690</td>\n",
       "      <td>0.135029</td>\n",
       "      <td>0.207071</td>\n",
       "      <td>0.084258</td>\n",
       "      <td>0.085748</td>\n",
       "      <td>0.082813</td>\n",
       "      <td>0.067375</td>\n",
       "      <td>0.071494</td>\n",
       "      <td>0.079796</td>\n",
       "      <td>0.073223</td>\n",
       "      <td>0.040260</td>\n",
       "      <td>0.372762</td>\n",
       "      <td>0.076498</td>\n",
       "      <td>0.015948</td>\n",
       "    </tr>\n",
       "    <tr>\n",
       "      <th>16</th>\n",
       "      <td>17</td>\n",
       "      <td>0.071161</td>\n",
       "      <td>0.094281</td>\n",
       "      <td>0.136041</td>\n",
       "      <td>0.206396</td>\n",
       "      <td>0.084879</td>\n",
       "      <td>0.084570</td>\n",
       "      <td>0.083542</td>\n",
       "      <td>0.067423</td>\n",
       "      <td>0.071718</td>\n",
       "      <td>0.079102</td>\n",
       "      <td>0.073497</td>\n",
       "      <td>0.040271</td>\n",
       "      <td>0.371888</td>\n",
       "      <td>0.076365</td>\n",
       "      <td>0.015941</td>\n",
       "    </tr>\n",
       "    <tr>\n",
       "      <th>17</th>\n",
       "      <td>18</td>\n",
       "      <td>0.071215</td>\n",
       "      <td>0.097392</td>\n",
       "      <td>0.135149</td>\n",
       "      <td>0.205595</td>\n",
       "      <td>0.084702</td>\n",
       "      <td>0.087311</td>\n",
       "      <td>0.083101</td>\n",
       "      <td>0.067314</td>\n",
       "      <td>0.071506</td>\n",
       "      <td>0.080397</td>\n",
       "      <td>0.073362</td>\n",
       "      <td>0.040251</td>\n",
       "      <td>0.371281</td>\n",
       "      <td>0.076447</td>\n",
       "      <td>0.015982</td>\n",
       "    </tr>\n",
       "    <tr>\n",
       "      <th>18</th>\n",
       "      <td>19</td>\n",
       "      <td>0.071259</td>\n",
       "      <td>0.097180</td>\n",
       "      <td>0.134843</td>\n",
       "      <td>0.204932</td>\n",
       "      <td>0.085013</td>\n",
       "      <td>0.087047</td>\n",
       "      <td>0.082852</td>\n",
       "      <td>0.066943</td>\n",
       "      <td>0.071668</td>\n",
       "      <td>0.080561</td>\n",
       "      <td>0.073428</td>\n",
       "      <td>0.040211</td>\n",
       "      <td>0.373141</td>\n",
       "      <td>0.076478</td>\n",
       "      <td>0.015967</td>\n",
       "    </tr>\n",
       "    <tr>\n",
       "      <th>19</th>\n",
       "      <td>20</td>\n",
       "      <td>0.071289</td>\n",
       "      <td>0.096395</td>\n",
       "      <td>0.134924</td>\n",
       "      <td>0.206393</td>\n",
       "      <td>0.084677</td>\n",
       "      <td>0.086731</td>\n",
       "      <td>0.082801</td>\n",
       "      <td>0.067243</td>\n",
       "      <td>0.071563</td>\n",
       "      <td>0.080282</td>\n",
       "      <td>0.073187</td>\n",
       "      <td>0.040183</td>\n",
       "      <td>0.370653</td>\n",
       "      <td>0.076671</td>\n",
       "      <td>0.015952</td>\n",
       "    </tr>\n",
       "    <tr>\n",
       "      <th>20</th>\n",
       "      <td>21</td>\n",
       "      <td>0.071638</td>\n",
       "      <td>0.096173</td>\n",
       "      <td>0.136149</td>\n",
       "      <td>0.205943</td>\n",
       "      <td>0.085085</td>\n",
       "      <td>0.086533</td>\n",
       "      <td>0.083391</td>\n",
       "      <td>0.067023</td>\n",
       "      <td>0.071817</td>\n",
       "      <td>0.080221</td>\n",
       "      <td>0.073442</td>\n",
       "      <td>0.040138</td>\n",
       "      <td>0.370996</td>\n",
       "      <td>0.076722</td>\n",
       "      <td>0.015952</td>\n",
       "    </tr>\n",
       "    <tr>\n",
       "      <th>21</th>\n",
       "      <td>22</td>\n",
       "      <td>0.072668</td>\n",
       "      <td>0.095984</td>\n",
       "      <td>0.136065</td>\n",
       "      <td>0.205994</td>\n",
       "      <td>0.086280</td>\n",
       "      <td>0.085990</td>\n",
       "      <td>0.083553</td>\n",
       "      <td>0.067261</td>\n",
       "      <td>0.072393</td>\n",
       "      <td>0.080085</td>\n",
       "      <td>0.073671</td>\n",
       "      <td>0.040295</td>\n",
       "      <td>0.372237</td>\n",
       "      <td>0.076855</td>\n",
       "      <td>0.015949</td>\n",
       "    </tr>\n",
       "    <tr>\n",
       "      <th>22</th>\n",
       "      <td>23</td>\n",
       "      <td>0.072313</td>\n",
       "      <td>0.097729</td>\n",
       "      <td>0.135948</td>\n",
       "      <td>0.206898</td>\n",
       "      <td>0.086073</td>\n",
       "      <td>0.087650</td>\n",
       "      <td>0.083406</td>\n",
       "      <td>0.067513</td>\n",
       "      <td>0.072403</td>\n",
       "      <td>0.080722</td>\n",
       "      <td>0.073625</td>\n",
       "      <td>0.040381</td>\n",
       "      <td>0.372592</td>\n",
       "      <td>0.076988</td>\n",
       "      <td>0.015961</td>\n",
       "    </tr>\n",
       "    <tr>\n",
       "      <th>23</th>\n",
       "      <td>24</td>\n",
       "      <td>0.072894</td>\n",
       "      <td>0.096135</td>\n",
       "      <td>0.136324</td>\n",
       "      <td>0.206062</td>\n",
       "      <td>0.086671</td>\n",
       "      <td>0.086673</td>\n",
       "      <td>0.083279</td>\n",
       "      <td>0.067315</td>\n",
       "      <td>0.072213</td>\n",
       "      <td>0.080190</td>\n",
       "      <td>0.073251</td>\n",
       "      <td>0.040253</td>\n",
       "      <td>0.370449</td>\n",
       "      <td>0.076535</td>\n",
       "      <td>0.015972</td>\n",
       "    </tr>\n",
       "    <tr>\n",
       "      <th>24</th>\n",
       "      <td>25</td>\n",
       "      <td>0.072483</td>\n",
       "      <td>0.096410</td>\n",
       "      <td>0.135763</td>\n",
       "      <td>0.205789</td>\n",
       "      <td>0.086303</td>\n",
       "      <td>0.086509</td>\n",
       "      <td>0.083329</td>\n",
       "      <td>0.067157</td>\n",
       "      <td>0.072427</td>\n",
       "      <td>0.080277</td>\n",
       "      <td>0.073614</td>\n",
       "      <td>0.040295</td>\n",
       "      <td>0.372527</td>\n",
       "      <td>0.076770</td>\n",
       "      <td>0.015964</td>\n",
       "    </tr>\n",
       "  </tbody>\n",
       "</table>\n",
       "</div>"
      ],
      "text/plain": [
       "    Epoch      HR@5     HR@10     HR@20     HR@50  F1-score@5  F1-score@10  \\\n",
       "0       1  0.000177  0.000682  0.002372  0.009589    0.000244     0.000627   \n",
       "1       2  0.057917  0.065180  0.073647  0.083439    0.068010     0.056411   \n",
       "2       3  0.071331  0.096411  0.136007  0.192658    0.084928     0.086394   \n",
       "3       4  0.072008  0.095923  0.135433  0.204678    0.085713     0.085960   \n",
       "4       5  0.071438  0.096553  0.135962  0.207279    0.085008     0.086411   \n",
       "5       6  0.070342  0.095847  0.135590  0.206518    0.084140     0.085570   \n",
       "6       7  0.070882  0.095006  0.135420  0.205053    0.084631     0.085401   \n",
       "7       8  0.071424  0.095378  0.135296  0.206528    0.085144     0.085678   \n",
       "8       9  0.072452  0.097109  0.136485  0.205590    0.086135     0.086876   \n",
       "9      10  0.070866  0.096338  0.135120  0.207469    0.084749     0.086274   \n",
       "10     11  0.072325  0.095615  0.134221  0.205877    0.085994     0.085427   \n",
       "11     12  0.070752  0.095917  0.135514  0.207060    0.084436     0.085912   \n",
       "12     13  0.071647  0.097830  0.134450  0.205990    0.085096     0.087207   \n",
       "13     14  0.072978  0.096175  0.133880  0.206999    0.086996     0.086636   \n",
       "14     15  0.072165  0.095337  0.137654  0.205106    0.085691     0.085596   \n",
       "15     16  0.070560  0.095690  0.135029  0.207071    0.084258     0.085748   \n",
       "16     17  0.071161  0.094281  0.136041  0.206396    0.084879     0.084570   \n",
       "17     18  0.071215  0.097392  0.135149  0.205595    0.084702     0.087311   \n",
       "18     19  0.071259  0.097180  0.134843  0.204932    0.085013     0.087047   \n",
       "19     20  0.071289  0.096395  0.134924  0.206393    0.084677     0.086731   \n",
       "20     21  0.071638  0.096173  0.136149  0.205943    0.085085     0.086533   \n",
       "21     22  0.072668  0.095984  0.136065  0.205994    0.086280     0.085990   \n",
       "22     23  0.072313  0.097729  0.135948  0.206898    0.086073     0.087650   \n",
       "23     24  0.072894  0.096135  0.136324  0.206062    0.086671     0.086673   \n",
       "24     25  0.072483  0.096410  0.135763  0.205789    0.086303     0.086509   \n",
       "\n",
       "    F1-score@20  F1-score@50    NDCG@5   NDCG@10   NDCG@20   NDCG@50  \\\n",
       "0      0.001567     0.003426  0.000198  0.000463  0.000936  0.001249   \n",
       "1      0.043557     0.025929  0.062219  0.061476  0.049522  0.022846   \n",
       "2      0.083287     0.062536  0.071494  0.079929  0.073356  0.038731   \n",
       "3      0.082926     0.066962  0.072081  0.079919  0.073304  0.040183   \n",
       "4      0.083279     0.067634  0.071707  0.079943  0.073361  0.040353   \n",
       "5      0.082830     0.067068  0.070991  0.079460  0.073047  0.040072   \n",
       "6      0.082679     0.066855  0.071423  0.079471  0.073086  0.040113   \n",
       "7      0.083150     0.067351  0.070841  0.078849  0.072750  0.039987   \n",
       "8      0.083483     0.067193  0.071669  0.079651  0.073120  0.040099   \n",
       "9      0.082753     0.067619  0.071685  0.080086  0.073311  0.040387   \n",
       "10     0.082169     0.067025  0.072098  0.079600  0.072812  0.040099   \n",
       "11     0.083360     0.067552  0.071032  0.079389  0.073178  0.040127   \n",
       "12     0.082357     0.067275  0.071690  0.080299  0.073079  0.040270   \n",
       "13     0.082238     0.067351  0.072786  0.080462  0.073259  0.040372   \n",
       "14     0.084335     0.067221  0.072078  0.079749  0.073836  0.040320   \n",
       "15     0.082813     0.067375  0.071494  0.079796  0.073223  0.040260   \n",
       "16     0.083542     0.067423  0.071718  0.079102  0.073497  0.040271   \n",
       "17     0.083101     0.067314  0.071506  0.080397  0.073362  0.040251   \n",
       "18     0.082852     0.066943  0.071668  0.080561  0.073428  0.040211   \n",
       "19     0.082801     0.067243  0.071563  0.080282  0.073187  0.040183   \n",
       "20     0.083391     0.067023  0.071817  0.080221  0.073442  0.040138   \n",
       "21     0.083553     0.067261  0.072393  0.080085  0.073671  0.040295   \n",
       "22     0.083406     0.067513  0.072403  0.080722  0.073625  0.040381   \n",
       "23     0.083279     0.067315  0.072213  0.080190  0.073251  0.040253   \n",
       "24     0.083329     0.067157  0.072427  0.080277  0.073614  0.040295   \n",
       "\n",
       "         MRR       MAP  val_loss  \n",
       "0   0.010159  0.003679  0.109684  \n",
       "1   0.331895  0.048415  0.030538  \n",
       "2   0.370841  0.070506  0.018620  \n",
       "3   0.373148  0.075592  0.016552  \n",
       "4   0.372558  0.076423  0.016074  \n",
       "5   0.370813  0.076048  0.015941  \n",
       "6   0.372149  0.076207  0.015928  \n",
       "7   0.364686  0.075678  0.015927  \n",
       "8   0.367276  0.076191  0.015936  \n",
       "9   0.372602  0.076682  0.015949  \n",
       "10  0.370985  0.076382  0.015974  \n",
       "11  0.369042  0.075873  0.015946  \n",
       "12  0.371259  0.076678  0.015931  \n",
       "13  0.373585  0.076737  0.015958  \n",
       "14  0.371810  0.076594  0.015951  \n",
       "15  0.372762  0.076498  0.015948  \n",
       "16  0.371888  0.076365  0.015941  \n",
       "17  0.371281  0.076447  0.015982  \n",
       "18  0.373141  0.076478  0.015967  \n",
       "19  0.370653  0.076671  0.015952  \n",
       "20  0.370996  0.076722  0.015952  \n",
       "21  0.372237  0.076855  0.015949  \n",
       "22  0.372592  0.076988  0.015961  \n",
       "23  0.370449  0.076535  0.015972  \n",
       "24  0.372527  0.076770  0.015964  "
      ]
     },
     "execution_count": 35,
     "metadata": {},
     "output_type": "execute_result"
    }
   ],
   "source": [
    "# 消融實驗 w/o Item2vec and Confidence\n",
    "# MyModel02\n",
    "# 固定參數: epochs35 Transformer_layer=4 batch_size=8 embedding_size=32 hidden_size=128 lr=0.0001 num_layer=4 num_head=4\n",
    "\n",
    "results = []\n",
    "\n",
    "for epoch in range( 1  , EPOCHS + 1 ):\n",
    "    train_loss = train_model()\n",
    "    print(\"train_loss=\",train_loss)\n",
    "    print('-'*20)\n",
    "    val_loss,hr_5_rec = evaluate_model()\n",
    "    print(\"val_loss=\",val_loss)\n",
    "    print('-' * 20)\n",
    "    test_loss,test_hr_5_rec,hr_list,f1_list,ndcg_list, mrr_score, map_score = test_model()\n",
    "    print('-' * 20)\n",
    "    result = [epoch] + hr_list + f1_list + ndcg_list + [mrr_score,map_score] + [val_loss.item()]\n",
    "    results.append(result)\n",
    "    print(results)\n",
    "    print('-' * 89)\n",
    "    \n",
    "    collected = gc.collect()\n",
    "    torch.cuda.empty_cache()\n",
    "\n",
    "\n",
    "record_df = pd.DataFrame(results,columns=['Epoch','HR@5', 'HR@10', 'HR@20', 'HR@50', 'F1-score@5', 'F1-score@10', 'F1-score@20', 'F1-score@50',\n",
    "                           'NDCG@5', 'NDCG@10', 'NDCG@20', 'NDCG@50','MRR','MAP','val_loss'])\n",
    "record_df"
   ]
  }
 ],
 "metadata": {
  "kernelspec": {
   "display_name": "Python 3 (ipykernel)",
   "language": "python",
   "name": "python3"
  },
  "language_info": {
   "codemirror_mode": {
    "name": "ipython",
    "version": 3
   },
   "file_extension": ".py",
   "mimetype": "text/x-python",
   "name": "python",
   "nbconvert_exporter": "python",
   "pygments_lexer": "ipython3",
   "version": "3.11.5"
  }
 },
 "nbformat": 4,
 "nbformat_minor": 5
}
