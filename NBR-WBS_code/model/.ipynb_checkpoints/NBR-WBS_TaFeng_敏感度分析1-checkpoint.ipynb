{
 "cells": [
  {
   "cell_type": "markdown",
   "id": "a246ddd9",
   "metadata": {},
   "source": [
    "# 下載套件"
   ]
  },
  {
   "cell_type": "code",
   "execution_count": 1,
   "id": "72209793",
   "metadata": {},
   "outputs": [],
   "source": [
    "import torch\n",
    "import torch.nn as nn\n",
    "from torch import nn, matmul, softmax\n",
    "from torch.nn.init import xavier_uniform_\n",
    "import torch.nn.functional as F\n",
    "import torch.nn.utils.rnn as rnn_utils\n",
    "from torch.autograd import Variable\n",
    "\n",
    "import numpy as np\n",
    "import pandas as pd\n",
    "import gensim\n",
    "from gensim.models import KeyedVectors\n",
    "import pickle\n",
    "import gzip \n",
    "import gc\n",
    "import os\n",
    "import random"
   ]
  },
  {
   "cell_type": "code",
   "execution_count": 2,
   "id": "e3db86c1",
   "metadata": {},
   "outputs": [],
   "source": [
    "from torch.utils.data import DataLoader, Dataset\n",
    "from torch.utils.data.dataset import random_split\n",
    "\n",
    "from tqdm import tqdm\n",
    "from collections import Counter\n",
    "\n",
    "import math"
   ]
  },
  {
   "cell_type": "markdown",
   "id": "d32d7025",
   "metadata": {},
   "source": [
    "# 參數設置"
   ]
  },
  {
   "cell_type": "code",
   "execution_count": 3,
   "id": "6da217e0",
   "metadata": {},
   "outputs": [],
   "source": [
    "# 超參數\n",
    "EPOCHS = 25\n",
    "LEARNING_RATE = 0.0001                # Learning_rate    TaFeng = 0.0001         Dunnhumby = 0.00001\n",
    "BATCH_SIZE = 64\n",
    "ALPHA = 0.1 \n",
    "BETA = 0.95                         # TaFeng = 0.95, Dunnhumby = 0.001\n",
    "EMBEDDING_DIMENSION = 32               # 嵌入維度   TaFeng = 32, Dunnhumby = 32\n",
    "MODEL_DIMENSION = EMBEDDING_DIMENSION  # 模型維度\n",
    "HIDDEN_DIMENSION = 128                 # MLP 隱藏層維度  128\n",
    "HIDDEN_SIZE = 16                       # LSTM 隱藏層維度  \n",
    "NUM_HEAD = 4\n",
    "NUM_LAYER = 4\n",
    "\n",
    "isMC = 1\n",
    "isI2V = 1"
   ]
  },
  {
   "cell_type": "markdown",
   "id": "4283cbc8",
   "metadata": {},
   "source": [
    "# 匯入檔案\n",
    "- item2Vec_TaFeng.32d.model\n",
    "- TaFeng_user_cart_itemid_list.gz\n",
    "- Ta_feng_clean.csv"
   ]
  },
  {
   "cell_type": "code",
   "execution_count": 4,
   "id": "3715f2a4",
   "metadata": {},
   "outputs": [],
   "source": [
    "# 資料集\n",
    "DATASET_NAME = \"TaFeng\"     # 讀取TaFeng資料\n",
    "# DATASET_NAME = \"Dunnhumby\"  # 讀取Dunnhumby資料\n",
    "# DATASET_NAME = \"Instacart\"  # 讀取Instacart資料"
   ]
  },
  {
   "cell_type": "code",
   "execution_count": 5,
   "id": "32520298",
   "metadata": {},
   "outputs": [
    {
     "data": {
      "text/plain": [
       "torch.Size([15764, 32])"
      ]
     },
     "execution_count": 5,
     "metadata": {},
     "output_type": "execute_result"
    }
   ],
   "source": [
    "# load word2Vec pre_train model\n",
    "model_filename = f\"../preprocessing-data/item2vec_models/item2vec_{DATASET_NAME}.{EMBEDDING_DIMENSION}d.model\"\n",
    "# {DATASET}\n",
    "with open(model_filename, \"rb\") as fp:\n",
    "    model = pickle.load(fp)\n",
    "weights = torch.FloatTensor(model.wv.vectors)\n",
    "weights.shape"
   ]
  },
  {
   "cell_type": "code",
   "execution_count": 6,
   "id": "bbe80d00",
   "metadata": {
    "scrolled": true
   },
   "outputs": [
    {
     "data": {
      "text/plain": [
       "[(1113,\n",
       "  [[0, 1, 2], [3, 4, 5, 6, 7, 8], [9, 10, 11, 12, 13, 14, 15]],\n",
       "  [3, 6, 7]),\n",
       " (5241,\n",
       "  [[16, 17, 18, 19, 20, 21],\n",
       "   [22, 23, 24, 25, 26, 27, 28, 29, 30, 31],\n",
       "   [32, 33, 34, 35, 36, 37, 38, 39, 40, 41, 42, 43, 44, 45, 46, 47],\n",
       "   [48, 49, 50, 51, 52]],\n",
       "  [6, 10, 16, 5])]"
      ]
     },
     "execution_count": 6,
     "metadata": {},
     "output_type": "execute_result"
    }
   ],
   "source": [
    "# {DATASET} user_cart_itemid_list 用戶id, 購物籃時間差(不會使用到), 此用戶的購物籃串列(每個串列包含多項目)。\n",
    "with gzip.open(f\"../preprocessing-data/{DATASET_NAME}_user_cart_itemid_list.gz\", \"rb\") as fp:\n",
    "    user_cart_itemid_list = pickle.load(fp)\n",
    "user_cart_itemid_list[:2]"
   ]
  },
  {
   "cell_type": "code",
   "execution_count": 7,
   "id": "361c43d7",
   "metadata": {},
   "outputs": [],
   "source": [
    "# Load {DATASET} confidences_Matrix\n",
    "with gzip.open(f\"../preprocessing-data/confidences/{DATASET_NAME}_confidences_array.gz\", \"rb\") as fp:\n",
    "    confidences = pickle.load(fp)"
   ]
  },
  {
   "cell_type": "code",
   "execution_count": 8,
   "id": "b83d2fe8",
   "metadata": {},
   "outputs": [
    {
     "name": "stdout",
     "output_type": "stream",
     "text": [
      "72\n"
     ]
    },
    {
     "data": {
      "text/html": [
       "<div>\n",
       "<style scoped>\n",
       "    .dataframe tbody tr th:only-of-type {\n",
       "        vertical-align: middle;\n",
       "    }\n",
       "\n",
       "    .dataframe tbody tr th {\n",
       "        vertical-align: top;\n",
       "    }\n",
       "\n",
       "    .dataframe thead th {\n",
       "        text-align: right;\n",
       "    }\n",
       "</style>\n",
       "<table border=\"1\" class=\"dataframe\">\n",
       "  <thead>\n",
       "    <tr style=\"text-align: right;\">\n",
       "      <th></th>\n",
       "      <th>CUSTOMER_ID</th>\n",
       "      <th>PRODUCT_ID</th>\n",
       "      <th>TRANSACTION_DT</th>\n",
       "      <th>CART_ID</th>\n",
       "      <th>NEW_ITEM_ID</th>\n",
       "    </tr>\n",
       "  </thead>\n",
       "  <tbody>\n",
       "    <tr>\n",
       "      <th>0</th>\n",
       "      <td>1113</td>\n",
       "      <td>4902105011621</td>\n",
       "      <td>2000-11-26</td>\n",
       "      <td>0</td>\n",
       "      <td>0</td>\n",
       "    </tr>\n",
       "    <tr>\n",
       "      <th>1</th>\n",
       "      <td>1113</td>\n",
       "      <td>7616100830794</td>\n",
       "      <td>2000-11-26</td>\n",
       "      <td>0</td>\n",
       "      <td>1</td>\n",
       "    </tr>\n",
       "    <tr>\n",
       "      <th>2</th>\n",
       "      <td>1113</td>\n",
       "      <td>4710892632017</td>\n",
       "      <td>2000-11-26</td>\n",
       "      <td>0</td>\n",
       "      <td>2</td>\n",
       "    </tr>\n",
       "    <tr>\n",
       "      <th>3</th>\n",
       "      <td>1113</td>\n",
       "      <td>4710905340113</td>\n",
       "      <td>2000-11-27</td>\n",
       "      <td>1</td>\n",
       "      <td>3</td>\n",
       "    </tr>\n",
       "    <tr>\n",
       "      <th>4</th>\n",
       "      <td>1113</td>\n",
       "      <td>4717362901277</td>\n",
       "      <td>2000-11-27</td>\n",
       "      <td>1</td>\n",
       "      <td>4</td>\n",
       "    </tr>\n",
       "    <tr>\n",
       "      <th>...</th>\n",
       "      <td>...</td>\n",
       "      <td>...</td>\n",
       "      <td>...</td>\n",
       "      <td>...</td>\n",
       "      <td>...</td>\n",
       "    </tr>\n",
       "    <tr>\n",
       "      <th>533054</th>\n",
       "      <td>20002000</td>\n",
       "      <td>4710339772139</td>\n",
       "      <td>2001-01-20</td>\n",
       "      <td>62360</td>\n",
       "      <td>4546</td>\n",
       "    </tr>\n",
       "    <tr>\n",
       "      <th>533055</th>\n",
       "      <td>20002000</td>\n",
       "      <td>20513184</td>\n",
       "      <td>2001-01-20</td>\n",
       "      <td>62360</td>\n",
       "      <td>1351</td>\n",
       "    </tr>\n",
       "    <tr>\n",
       "      <th>533056</th>\n",
       "      <td>20002000</td>\n",
       "      <td>4714800731229</td>\n",
       "      <td>2001-01-20</td>\n",
       "      <td>62360</td>\n",
       "      <td>2946</td>\n",
       "    </tr>\n",
       "    <tr>\n",
       "      <th>533057</th>\n",
       "      <td>20002000</td>\n",
       "      <td>4714541091071</td>\n",
       "      <td>2001-01-20</td>\n",
       "      <td>62360</td>\n",
       "      <td>7382</td>\n",
       "    </tr>\n",
       "    <tr>\n",
       "      <th>533058</th>\n",
       "      <td>20002000</td>\n",
       "      <td>4710018008634</td>\n",
       "      <td>2001-01-20</td>\n",
       "      <td>62360</td>\n",
       "      <td>2629</td>\n",
       "    </tr>\n",
       "  </tbody>\n",
       "</table>\n",
       "<p>533059 rows × 5 columns</p>\n",
       "</div>"
      ],
      "text/plain": [
       "        CUSTOMER_ID     PRODUCT_ID TRANSACTION_DT  CART_ID  NEW_ITEM_ID\n",
       "0              1113  4902105011621     2000-11-26        0            0\n",
       "1              1113  7616100830794     2000-11-26        0            1\n",
       "2              1113  4710892632017     2000-11-26        0            2\n",
       "3              1113  4710905340113     2000-11-27        1            3\n",
       "4              1113  4717362901277     2000-11-27        1            4\n",
       "...             ...            ...            ...      ...          ...\n",
       "533054     20002000  4710339772139     2001-01-20    62360         4546\n",
       "533055     20002000       20513184     2001-01-20    62360         1351\n",
       "533056     20002000  4714800731229     2001-01-20    62360         2946\n",
       "533057     20002000  4714541091071     2001-01-20    62360         7382\n",
       "533058     20002000  4710018008634     2001-01-20    62360         2629\n",
       "\n",
       "[533059 rows x 5 columns]"
      ]
     },
     "execution_count": 8,
     "metadata": {},
     "output_type": "execute_result"
    }
   ],
   "source": [
    "dataset = pd.read_csv(f\"../cleaned_dataset/{DATASET_NAME}_clean.csv\")\n",
    "\n",
    "# 最多購物籃\n",
    "max_cart_count = dataset.groupby(\"CUSTOMER_ID\")[\"CART_ID\"].nunique().max()\n",
    "print(max_cart_count)\n",
    "\n",
    "dataset"
   ]
  },
  {
   "cell_type": "markdown",
   "id": "a0877d82",
   "metadata": {},
   "source": [
    "# 切分資料集\n",
    "- 分成輸入資料與標籤資料\n",
    "- 訓練集:驗證集:測試集 = 7:1:2"
   ]
  },
  {
   "cell_type": "code",
   "execution_count": 9,
   "id": "73e9cf41",
   "metadata": {},
   "outputs": [],
   "source": [
    "# 切分資料集\n",
    "# train_set_size = int(len(user_cart_itemid_list) * 0.8)\n",
    "# valid_set_size = int(len(user_cart_itemid_list) * 0.1)\n",
    "# test_set_size = len(user_cart_itemid_list)-train_set_size-valid_set_size\n",
    "# train_set, valid_set, test_set = random_split(user_cart_itemid_list, [train_set_size, valid_set_size, test_set_size])\n",
    "# print(len(train_set))\n",
    "# print(len(valid_set))\n",
    "# print(len(test_set))"
   ]
  },
  {
   "cell_type": "code",
   "execution_count": 10,
   "id": "5edaa93d",
   "metadata": {},
   "outputs": [],
   "source": [
    "# 將切割好的資料集暫存起來\n",
    "\n",
    "# # 訓練集\n",
    "# filepath = \"../preprocessing-data/TaFeng_dataset/train_set.pkl\"\n",
    "# with open(filepath, \"wb\") as f:\n",
    "#     pickle.dump(train_set, f)\n",
    "# # 驗證集\n",
    "# filepath = \"../preprocessing-data/TaFeng_dataset/valid_set.pkl\"\n",
    "# with open(filepath, \"wb\") as f:\n",
    "#     pickle.dump(valid_set, f)\n",
    "# # 測試集\n",
    "# filepath = \"../preprocessing-data/TaFeng_dataset/test_set.pkl\"\n",
    "# with open(filepath, \"wb\") as f:\n",
    "#     pickle.dump(test_set, f)"
   ]
  },
  {
   "cell_type": "code",
   "execution_count": 11,
   "id": "b203d0c9",
   "metadata": {},
   "outputs": [],
   "source": [
    "# 讀取之前暫存的資料集\n",
    "\n",
    "# 載入訓練、驗證、測試集\n",
    "with open(f\"../preprocessing-data/{DATASET_NAME}_dataset/train_set.pkl\", \"rb\") as fp:\n",
    "    train_set = pickle.load(fp)\n",
    "with open(f\"../preprocessing-data/{DATASET_NAME}_dataset/valid_set.pkl\", \"rb\") as fp:\n",
    "    valid_set = pickle.load(fp)\n",
    "with open(f\"../preprocessing-data/{DATASET_NAME}_dataset/test_set.pkl\", \"rb\") as fp:\n",
    "    test_set = pickle.load(fp)"
   ]
  },
  {
   "cell_type": "markdown",
   "id": "c9585447",
   "metadata": {},
   "source": [
    "# Batch"
   ]
  },
  {
   "cell_type": "code",
   "execution_count": 12,
   "id": "a209539b",
   "metadata": {
    "scrolled": true
   },
   "outputs": [
    {
     "data": {
      "text/plain": [
       "device(type='cuda')"
      ]
     },
     "execution_count": 12,
     "metadata": {},
     "output_type": "execute_result"
    }
   ],
   "source": [
    "device = torch.device(\"cuda\" if torch.cuda.is_available() else \"cpu\")\n",
    "device"
   ]
  },
  {
   "cell_type": "code",
   "execution_count": 13,
   "id": "b348e2b5",
   "metadata": {},
   "outputs": [],
   "source": [
    "# 定義資料轉換函數(於collate_batch函式中使用)\n",
    "item_index_pipeline = lambda x : [[model.wv.key_to_index[j] for j in i] for i in x] # 取得購物籃中，項目的索引值(只有使用Item2Vec時會需要)\n",
    "item_label_pipeline = lambda x : [model.wv.key_to_index[j] for j in x]"
   ]
  },
  {
   "cell_type": "code",
   "execution_count": 14,
   "id": "92fb3dee",
   "metadata": {},
   "outputs": [],
   "source": [
    "class TensorDataset(Dataset):\n",
    "    # TensorDataset繼承Dataset, 重載__init__, __getitem__, __len__\n",
    "    # 實現將一組Tensor數據封裝成Tensor數據集\n",
    "    # 能夠通過Index得到數據集的數據，能夠通過len，得到數據集大小\n",
    "    def __init__(self, data_tensor):\n",
    "        self.data_tensor = data_tensor\n",
    "    def __getitem__(self, index):\n",
    "        return self.data_tensor[index]\n",
    "    def __len__(self):\n",
    "        return len(self.data_tensor)\n",
    "\n",
    "# 輸出userID, input_list跟label(最後一個購物籃)\n",
    "def collate_batch(batch):\n",
    "    # 使用ID、時間差、訓練的購物籃項目、預測的購物籃項目\n",
    "    userID, input_item_list, label_item_list, input_size_list, label_size_list = [], [], [], [], []\n",
    "    for _user in batch:\n",
    "        #　userID\n",
    "        userID.append(_user[0])\n",
    "        # 所有購物籃的項目ID串列中的最後一個購物籃項目ID\n",
    "#         label_item_list.append(torch.tensor(_user[1][-1]))\n",
    "        label_size_list.append(torch.tensor(_user[2][-1]))\n",
    "        \n",
    "        # 不使用Item2Vec進行項目嵌入\n",
    "        if isI2V == 0:\n",
    "            train_list = _user[1][0:-1]\n",
    "            label_list = torch.tensor(_user[1][-1])\n",
    "        # 使用Item2Vec進行項目嵌入\n",
    "        else:\n",
    "            train_list = item_index_pipeline(_user[1][0:-1])\n",
    "            label_list = torch.tensor(item_label_pipeline(_user[1][-1]))\n",
    "        input_size_list.append(_user[2][0:-1])\n",
    "        \n",
    "        input_item_list.append(train_list) #　所有購物籃的項目ID串列(除了最後一個購物籃)\n",
    "        label_item_list.append(label_list)\n",
    "    \n",
    "    return userID, input_item_list, label_item_list, input_size_list, label_size_list"
   ]
  },
  {
   "cell_type": "code",
   "execution_count": 15,
   "id": "f442f66a",
   "metadata": {},
   "outputs": [],
   "source": [
    "# 轉成 Dataset\n",
    "split_train_ = TensorDataset(train_set)\n",
    "split_valid_ = TensorDataset(valid_set)\n",
    "split_test_ = TensorDataset(test_set)"
   ]
  },
  {
   "cell_type": "code",
   "execution_count": 16,
   "id": "54fe7bc6",
   "metadata": {},
   "outputs": [],
   "source": [
    "# DataLoader \n",
    "train_dataloader = DataLoader(split_train_, batch_size=BATCH_SIZE, shuffle=True, collate_fn=collate_batch, drop_last=True)\n",
    "valid_dataloader = DataLoader(split_valid_, batch_size=BATCH_SIZE, shuffle=True, collate_fn=collate_batch, drop_last=True)\n",
    "test_dataloader = DataLoader(split_test_, batch_size=BATCH_SIZE, shuffle=True, collate_fn=collate_batch, drop_last=True)"
   ]
  },
  {
   "cell_type": "markdown",
   "id": "637657be",
   "metadata": {},
   "source": [
    "# Self-Attention"
   ]
  },
  {
   "cell_type": "code",
   "execution_count": 17,
   "id": "a96171ad",
   "metadata": {},
   "outputs": [],
   "source": [
    "# 使用nn.MultiheadAttention\n",
    "# 輸入一個用戶的一個購物籃，輸出購物籃嵌入\n",
    "class SelfAttention(nn.Module):\n",
    "    def __init__(self, embed_dim, model_dim): #項目向量維度，輸出模型的維度\n",
    "        super(SelfAttention, self).__init__()\n",
    "        self.embed_dim = embed_dim\n",
    "        self.model_dim = model_dim\n",
    "        \n",
    "        # 初始化Q, K, V 矩陣\n",
    "        self.query_matrix = nn.Linear(embed_dim, model_dim)\n",
    "        xavier_uniform_(self.query_matrix.weight)\n",
    "        self.key_matrix = nn.Linear(embed_dim, model_dim)\n",
    "        xavier_uniform_(self.key_matrix.weight)\n",
    "        self.value_matrix = nn.Linear(embed_dim, model_dim)\n",
    "        xavier_uniform_(self.value_matrix.weight)\n",
    "        self.multihead_attn = nn.MultiheadAttention(embed_dim, num_heads=1)\n",
    "        \n",
    "    def forward(self, inputs, attention_mask):\n",
    "        \n",
    "        # 輸入一個項目向量，透過三個可學習的參數矩陣，得到計算所需要的 q,k,v\n",
    "        q = self.query_matrix(inputs)\n",
    "        k = self.key_matrix(inputs)\n",
    "        v = self.value_matrix(inputs)\n",
    "        \n",
    "        attn_output, attn_output_weight = self.multihead_attn(q, k, v, key_padding_mask=attention_mask.transpose(0,1))\n",
    "        \n",
    "        output_mean = torch.tensor([[0 for _ in range(MODEL_DIMENSION)] for _ in range(len(attention_mask))], dtype=torch.float).to(device)\n",
    "        for i, cart in enumerate(attention_mask):\n",
    "            for j, mask in enumerate(cart):\n",
    "                if mask == False:\n",
    "                    output_mean[i] = attn_output[i][j] # 使用最後一個項目作為輸出\n",
    "        basket_embedding = output_mean\n",
    "        \n",
    "        return basket_embedding"
   ]
  },
  {
   "cell_type": "markdown",
   "id": "a3043def",
   "metadata": {},
   "source": [
    "   # LSTM"
   ]
  },
  {
   "cell_type": "code",
   "execution_count": 18,
   "id": "3b8530b2",
   "metadata": {},
   "outputs": [],
   "source": [
    "class LSTM(nn.Module):\n",
    "    def __init__(self, input_size, output_size):\n",
    "        super(LSTM, self).__init__()\n",
    "        self.lstm = torch.nn.LSTM(input_size, HIDDEN_SIZE, 2)\n",
    "        self.hiddenlayer1 = torch.nn.Linear(max_cart_count * HIDDEN_SIZE, 512)\n",
    "        self.hiddenlayer2 = torch.nn.Linear(512, 512)\n",
    "        self.hiddenlayer3 = torch.nn.Linear(512, 256)\n",
    "        self.hiddenlayer4 = torch.nn.Linear(256, 128)\n",
    "        self.embed = torch.nn.Linear(128, EMBEDDING_DIMENSION)\n",
    "        self.leakyrelu = torch.nn.LeakyReLU()\n",
    "    \n",
    "    def forward(self, inputs):\n",
    "        output, (h,c) = self.lstm(inputs)\n",
    "        hidden1 = self.hiddenlayer1(output.view(max_cart_count * HIDDEN_SIZE))\n",
    "        hidden2 = self.hiddenlayer2(hidden1)\n",
    "        hidden3 = self.hiddenlayer3(hidden2)\n",
    "        hidden4 = self.hiddenlayer4(hidden3)\n",
    "        output = self.embed(hidden4)\n",
    "        return output"
   ]
  },
  {
   "cell_type": "markdown",
   "id": "00cd99b7",
   "metadata": {},
   "source": [
    "# Transformer"
   ]
  },
  {
   "cell_type": "code",
   "execution_count": 19,
   "id": "bc0ed90c",
   "metadata": {},
   "outputs": [],
   "source": [
    "class PositionalEncoding(nn.Module):\n",
    "    def __init__(self, d_model:int, dropout, maxlen:int=500):\n",
    "        super(PositionalEncoding, self).__init__()\n",
    "        # den 是把10000^(2i/d_model)取log_e，前面加負號是求倒數\n",
    "        den = torch.exp(-torch.arange(0, d_model, 2) * math.log(10000) / d_model)\n",
    "        pos = torch.arange(0, maxlen).reshape(maxlen, 1)\n",
    "        pos_embedding = torch.zeros(maxlen, d_model)#.to(device)\n",
    "        pos_embedding[:, 0::2] = torch.sin(pos*den)\n",
    "        pos_embedding[:, 1::2] = torch.cos(pos*den)\n",
    "        \n",
    "        pos_embedding = pos_embedding.unsqueeze(0)\n",
    "        \n",
    "        self.dropout = nn.Dropout(dropout)\n",
    "        self.register_buffer(\"pos_embedding\", pos_embedding)\n",
    "        \n",
    "    def forward(self, token_embedding):\n",
    "        return self.dropout(token_embedding+ self.pos_embedding[:, :token_embedding.size(1), :])\n",
    "    \n",
    "class TransformerEncoder(nn.Module):\n",
    "    def __init__(self, d_model, num_heads=8, num_layers=6):\n",
    "        super(TransformerEncoder, self).__init__()\n",
    "        self.pe = PositionalEncoding(d_model=d_model, dropout=0.5, maxlen=max_cart_count*2)\n",
    "        # 創建 Transformer 模型\n",
    "        self.transformer = nn.TransformerEncoder(\n",
    "            nn.TransformerEncoderLayer(d_model=d_model, nhead=num_heads),\n",
    "            num_layers=num_layers\n",
    "        )\n",
    "    \n",
    "    def forward(self, baskets_embedding):\n",
    "        baskets_embedding_pe = self.pe(baskets_embedding)\n",
    "        \n",
    "        # 購物籃padding的遮罩\n",
    "        padding_mask = ~baskets_embedding.sum(dim=-1).ne(0).transpose(0,1)\n",
    "        \n",
    "        output = self.transformer(baskets_embedding_pe.to(torch.float32), src_key_padding_mask=padding_mask.to(torch.float32))\n",
    "        return output"
   ]
  },
  {
   "cell_type": "markdown",
   "id": "9cdd237c",
   "metadata": {},
   "source": [
    "# MLP層"
   ]
  },
  {
   "cell_type": "code",
   "execution_count": 20,
   "id": "e8fb5303",
   "metadata": {},
   "outputs": [],
   "source": [
    "class MLPforItem(nn.Module):\n",
    "    def __init__(self, embed_dim, hidden_dim, items_dim):\n",
    "        super(MLPforItem, self).__init__()\n",
    "        # hidden layer\n",
    "        self.hidden = nn.Linear(embed_dim, hidden_dim)\n",
    "        xavier_uniform_(self.hidden.weight)\n",
    "        self.norm = nn.BatchNorm1d(hidden_dim, momentum=0.03)\n",
    "        self.relu = nn.ReLU()\n",
    "        # output layer\n",
    "        self.output = nn.Linear(hidden_dim, items_dim)\n",
    "        self.softmax = nn.Softmax(dim=0)\n",
    "    def forward(self, inputs):\n",
    "        y = self.relu(self.norm(self.hidden(inputs)))\n",
    "        return self.output(y)\n",
    "#         return self.softmax(self.output(y))"
   ]
  },
  {
   "cell_type": "code",
   "execution_count": 21,
   "id": "b52aa95b",
   "metadata": {},
   "outputs": [],
   "source": [
    "class MLPforSize(nn.Module):\n",
    "    def __init__(self, embed_dim):\n",
    "        super(MLPforSize, self).__init__()\n",
    "        # predict layer\n",
    "        self.predict = nn.Linear(embed_dim, 1)\n",
    "        self.relu = nn.ReLU()\n",
    "    def forward(self, inputs):\n",
    "        output = self.relu(self.predict(inputs))\n",
    "        return output"
   ]
  },
  {
   "cell_type": "markdown",
   "id": "9afdd949",
   "metadata": {},
   "source": [
    "# 損失函數"
   ]
  },
  {
   "cell_type": "code",
   "execution_count": 22,
   "id": "9b8084b8",
   "metadata": {},
   "outputs": [],
   "source": [
    "# MSE\n",
    "def mean_square_error(prediction, target):\n",
    "    predictions = prediction[0]\n",
    "    targets = torch.tensor([target[0]], dtype=torch.float).to(device)\n",
    "    loss = F.mse_loss(predictions, targets)\n",
    "    for i in range(1, len(prediction)):\n",
    "        predictions = prediction[i]\n",
    "        targets= torch.tensor([target[i]], dtype=torch.float).to(device)\n",
    "        loss += F.mse_loss(predictions, targets)\n",
    "    return loss"
   ]
  },
  {
   "cell_type": "code",
   "execution_count": 23,
   "id": "578a7e8b",
   "metadata": {},
   "outputs": [],
   "source": [
    "# cross_entropy_loss\n",
    "def cross_entropy_loss(predictions, targets):\n",
    "    # 創建稀疏張量的索引和值\n",
    "    indices = []\n",
    "    values = []\n",
    "    for i, t in enumerate(targets):\n",
    "        for v in t:\n",
    "            indices.append([i, v])\n",
    "            values.append(1)\n",
    "            \n",
    "    # 創建稀疏張量\n",
    "    sparse_targets = torch.sparse_coo_tensor(indices=torch.tensor(indices).t(),\n",
    "                                             values=torch.tensor(values, dtype=torch.float32),\n",
    "                                             size=(len(targets), items_count), device=device)\n",
    "    sparse_targets = sparse_targets.to_dense()\n",
    "    \n",
    "    loss = F.binary_cross_entropy_with_logits(predictions, sparse_targets)\n",
    "    return loss"
   ]
  },
  {
   "cell_type": "markdown",
   "id": "08aefe4a",
   "metadata": {},
   "source": [
    "# 評估指標"
   ]
  },
  {
   "cell_type": "code",
   "execution_count": 24,
   "id": "02891cdd",
   "metadata": {},
   "outputs": [],
   "source": [
    "def format_metric(result_dict):\n",
    "    assert type(result_dict) == dict\n",
    "    format_str = []\n",
    "    metrics = np.unique([k for k in result_dict.keys()])\n",
    "    for metric in metrics:\n",
    "        name = '{}'.format(metric)\n",
    "        m = result_dict[name]\n",
    "        if type(m) is float or type(m) is np.float32 or type(m) is np.float64:\n",
    "            format_str.append(\"{}: {:<.4f}\".format(name, m))\n",
    "        elif type(m) is int or type(m) is np.int32 or type(m) is np.int64:\n",
    "            format_str.append(\"{}: {}\".format(name, m))\n",
    "    return \", \".join(format_str)"
   ]
  },
  {
   "cell_type": "markdown",
   "id": "fa92db9d",
   "metadata": {},
   "source": [
    "## F1-score"
   ]
  },
  {
   "cell_type": "code",
   "execution_count": 25,
   "id": "f7cca32b",
   "metadata": {},
   "outputs": [],
   "source": [
    "def calculate_f1_score(predictions, targets, k_list):\n",
    "    \"\"\"\n",
    "    計算 F1-score@K。\n",
    "\n",
    "    Args:\n",
    "        predictions: 二維的預測機率矩陣，大小為 [num_users, num_items]。\n",
    "        targets: 一個包含每個用戶真實標籤的列表，其中每個列表的大小不同。\n",
    "        k_list: 用預測出的K值，計算F1-score@K\n",
    "\n",
    "    Returns:\n",
    "        F1-score@K 分數。\n",
    "    \"\"\"\n",
    "    # 將預測機率矩陣值轉換為 Pytorch 張量\n",
    "    predictions = torch.from_numpy(np.array(predictions, dtype=np.float32))\n",
    "    num_users = len(targets)\n",
    "    f1_score_eval = dict()\n",
    "    \n",
    "    precision_sum = 0.0\n",
    "    recall_sum = 0.0\n",
    "    f1_score_sum = 0.0\n",
    "    for i in range(num_users):\n",
    "        \n",
    "        # 將用戶 i 的真實標籤轉換為 PyTorch 張量。\n",
    "        labels = torch.from_numpy(np.array(targets[i], dtype=np.int64))\n",
    "        # 計算用戶 i 在預測機率矩陣中機率最高的 K 個項目索引\n",
    "        top_k_item_labels = torch.topk(predictions[i], k_list[i])[1]\n",
    "        # 計算用戶 i 的真實標籤和預測標籤的交集 (TP)\n",
    "        true_positives = torch.sum(torch.sum(torch.eq(top_k_item_labels, labels.unsqueeze(1)).to(torch.float32), dim=1)).item()\n",
    "        # 計算用戶 i 的真實標籤和預測標籤的聯集\n",
    "        predicted_positives = k_list[i] # TP+FP\n",
    "        actual_positives = len(labels)  # TP+FN\n",
    "        # 預防 K 預測為0導致 precision 分母為0\n",
    "        if predicted_positives == 0:\n",
    "            precision = 0.0\n",
    "        else:\n",
    "            precision = true_positives / predicted_positives\n",
    "        # 預防實際 K 為0導致 recall 分母為0\n",
    "        if actual_positives == 0:\n",
    "            recall = 0.0\n",
    "        else:\n",
    "            recall = true_positives / actual_positives\n",
    "        # 計算F1-score\n",
    "        if precision + recall == 0:\n",
    "            f1_score = 0.0\n",
    "        else:\n",
    "            f1_score = 2 * precision * recall / (precision + recall)\n",
    "        precision_sum += precision\n",
    "        recall_sum += recall\n",
    "        f1_score_sum += f1_score\n",
    "        \n",
    "    # 計算平均分數\n",
    "    precision = precision_sum / float(num_users)\n",
    "    recall = recall_sum / float(num_users)\n",
    "    f1_score = f1_score_sum / float(num_users)\n",
    "    # 儲存到dict\n",
    "    key = \"{}\".format(\"Recall\")\n",
    "    f1_score_eval[key] = recall\n",
    "    key = \"{}\".format(\"Precision\")\n",
    "    f1_score_eval[key] = precision\n",
    "    key = \"{}\".format(\"F1-score\")\n",
    "    f1_score_eval[key] = f1_score\n",
    "    \n",
    "    return f1_score_eval"
   ]
  },
  {
   "cell_type": "markdown",
   "id": "506ff404",
   "metadata": {},
   "source": [
    "## NDCG"
   ]
  },
  {
   "cell_type": "code",
   "execution_count": 26,
   "id": "4c566188",
   "metadata": {},
   "outputs": [],
   "source": [
    "def calculate_ndcg(basket_predictions, basket_targets, size_predictions, size_targets):\n",
    "    \"\"\"\n",
    "    計算 NDCG@K。\n",
    "\n",
    "    Args:\n",
    "        basket_predictions: 預測購物籃項目\n",
    "        bakset_targets: 實際購物籃項目\n",
    "        size_predictions: 預測購物籃大小\n",
    "        size_targets: 實際購物籃大小  \n",
    "\n",
    "    Returns:\n",
    "        NDCG@K 分數。\n",
    "    \"\"\"\n",
    "    # 將預測機率矩陣轉換為 PyTorch 張量\n",
    "    predictions = torch.from_numpy(np.array(basket_predictions, dtype=np.float32))\n",
    "    num_users = len(basket_targets)\n",
    "    ndcg_eval = dict()\n",
    "    \n",
    "    ndcg_sum = 0.0\n",
    "    for i in range(num_users):\n",
    "        # 將用戶 i 的真實標籤轉換為 PyTorch 張量\n",
    "        labels = torch.from_numpy(np.array(basket_targets[i], dtype=np.int64))\n",
    "        # 計算用戶 i 在預測機率矩陣中機率最高的 K 個項目的索引=標籤\n",
    "        top_k_item_labels = torch.topk(basket_predictions[i], size_predictions[i])[1]\n",
    "        # 計算 DCG@K\n",
    "        dcg_at_k = torch.sum(torch.nan_to_num(torch.div(1.0, torch.log2(torch.arange(size_predictions[i], dtype=torch.float32) +2))) * (torch.eq(top_k_item_labels, labels.unsqueeze(1)).to(torch.float32)))\n",
    "        # 計算 IDCG@K\n",
    "        idcg_at_k = torch.sum(torch.div(1.0, torch.log2(torch.arange(len(labels), dtype=torch.float32) + 2)))\n",
    "        # 計算 NDCG@K * Penalty weight\n",
    "        if torch.eq(idcg_at_k, 0):\n",
    "            ndcg_at_k = idcg_at_k\n",
    "        else:\n",
    "            ndcg_at_k = (dcg_at_k / idcg_at_k) * (size_targets[i] / (size_targets[i] + abs(size_targets[i] - size_predictions[i])))\n",
    "        ndcg_sum += ndcg_at_k.item()\n",
    "    #　計算平均　NDCG@K 分數\n",
    "    ndcg = ndcg_sum / float(num_users)\n",
    "    key = \"{}\".format(\"NDCG\")\n",
    "    ndcg_eval[key] = ndcg\n",
    "\n",
    "    return ndcg_eval"
   ]
  },
  {
   "cell_type": "code",
   "execution_count": 27,
   "id": "4b4fe7dc",
   "metadata": {},
   "outputs": [],
   "source": [
    "def calculate_mae(size_predictions, size_targets):\n",
    "    sum = 0\n",
    "    num_users = len(size_targets)\n",
    "    mae_eval = dict()\n",
    "    for i in range(num_users):\n",
    "        sum += abs(size_predictions[i] - (size_targets[i]).item())\n",
    "    key = \"{}\".format(\"MAE\")\n",
    "    mae_eval[key] = sum / num_users\n",
    "    return mae_eval"
   ]
  },
  {
   "cell_type": "markdown",
   "id": "213301db",
   "metadata": {},
   "source": [
    "# 訓練&測試"
   ]
  },
  {
   "cell_type": "code",
   "execution_count": 28,
   "id": "5d503206",
   "metadata": {},
   "outputs": [],
   "source": [
    "# 訓練模型\n",
    "def train_model():\n",
    "    my_model.train()\n",
    "    loss_list = []\n",
    "    \n",
    "    for batch_idx, (userID, basket_input, basket_label, size_input, size_label) in enumerate(tqdm(train_dataloader)):\n",
    "        optimizer.zero_grad()\n",
    "        basket_output, size_output = my_model(basket_input, size_input)\n",
    "        # 計算損失\n",
    "        loss = ALPHA * mean_square_error(size_output, size_label) + (1 - ALPHA) * cross_entropy_loss(basket_output, basket_label)\n",
    "        loss_list.append(loss.item())\n",
    "        loss.backward()\n",
    "        optimizer.step()\n",
    "        \n",
    "        if (batch_idx%100 == 0) or (batch_idx == len(train_dataloader)-1):\n",
    "            precentage = (100 * batch_idx/len(train_dataloader))\n",
    "            print(f\"Epoch {epoch}: {precentage:.0f}%, loss: {loss.item():.6f}\")\n",
    "            \n",
    "        with torch.no_grad():\n",
    "            basket_output = torch.from_numpy(np.array(basket_output.cpu(), dtype=np.float32))\n",
    "            size_output = np.round(np.squeeze(np.array([_.cpu() for _ in size_output], dtype=np.float32))).astype(int).tolist()\n",
    "            if batch_idx == 0:\n",
    "                basket_outputs = basket_output\n",
    "                basket_labels = basket_label\n",
    "                size_outputs = size_output\n",
    "                size_labels = size_label\n",
    "            else:\n",
    "                basket_outputs = torch.cat( (basket_outputs, basket_output),-2 )\n",
    "                basket_labels = basket_labels + basket_label\n",
    "                size_outputs = size_outputs + size_output\n",
    "                size_labels = size_labels + size_label\n",
    "                \n",
    "    with torch.no_grad():\n",
    "        evaluations = calculate_f1_score(basket_outputs, basket_labels, size_outputs) \n",
    "        res_str = '(' + format_metric(evaluations) + ')'\n",
    "        print(f\"                      {res_str}\\n\")\n",
    "\n",
    "        evaluations = calculate_ndcg(basket_outputs, basket_labels, size_outputs, size_labels) \n",
    "        res_str = '(' + format_metric(evaluations) + ')'\n",
    "        print(f\"                      {res_str}\\n\")\n",
    "\n",
    "        evaluations = calculate_mae(size_outputs, size_labels)\n",
    "        res_str = '(' + format_metric(evaluations) + ')'\n",
    "        print(f\"                      {res_str}\\n\")\n",
    "        \n",
    "    return torch.mean(torch.tensor(loss_list))"
   ]
  },
  {
   "cell_type": "code",
   "execution_count": 29,
   "id": "b0799869",
   "metadata": {},
   "outputs": [],
   "source": [
    "# 驗證模型\n",
    "def evaluate_model():\n",
    "    my_model.eval()\n",
    "    loss_list = []\n",
    "    for batch_idx, (userID, basket_input, basket_label, size_input, size_label) in enumerate(tqdm(valid_dataloader)):\n",
    "        basket_output, size_output= my_model(basket_input, size_input)\n",
    "        # 計算損失\n",
    "        loss = ALPHA * mean_square_error(size_output, size_label) + (1 - ALPHA) * cross_entropy_loss(basket_output, basket_label)\n",
    "        loss_list.append(loss.item())\n",
    "        \n",
    "        with torch.no_grad():\n",
    "            basket_output = torch.from_numpy(np.array(basket_output.cpu(), dtype=np.float32))\n",
    "            size_output = np.round(np.squeeze(np.array([_.cpu() for _ in size_output], dtype=np.float32))).astype(int).tolist()\n",
    "            if batch_idx == 0:\n",
    "                basket_outputs = basket_output\n",
    "                basket_labels = basket_label\n",
    "                size_outputs = size_output\n",
    "                size_labels = size_label\n",
    "            else:\n",
    "                basket_outputs = torch.cat( (basket_outputs, basket_output),-2 )\n",
    "                basket_labels = basket_labels + basket_label\n",
    "                size_outputs = size_outputs + size_output\n",
    "                size_labels = size_labels + size_label\n",
    "        \n",
    "    with torch.no_grad():\n",
    "        evaluations = calculate_f1_score(basket_outputs, basket_labels, size_outputs) \n",
    "        res_str = '(' + format_metric(evaluations) + ')'\n",
    "        print(f\"                      {res_str}\\n\")\n",
    "\n",
    "        evaluations = calculate_ndcg(basket_outputs, basket_labels, size_outputs, size_labels) \n",
    "        res_str = '(' + format_metric(evaluations) + ')'\n",
    "        print(f\"                      {res_str}\\n\")\n",
    "\n",
    "        evaluations = calculate_mae(size_outputs, size_labels)\n",
    "        res_str = '(' + format_metric(evaluations) + ')'\n",
    "        print(f\"                      {res_str}\\n\")\n",
    "        \n",
    "    return torch.mean(torch.tensor(loss_list))"
   ]
  },
  {
   "cell_type": "code",
   "execution_count": 30,
   "id": "5e8d7319",
   "metadata": {},
   "outputs": [],
   "source": [
    "# 測試模型\n",
    "def test_model():\n",
    "    my_model.eval()\n",
    "    loss_list = []\n",
    "    for batch_idx, (userID, basket_input, basket_label, size_input, size_label) in enumerate(tqdm(test_dataloader)):\n",
    "        basket_output, size_output = my_model(basket_input, size_input)\n",
    "        # 計算損失\n",
    "        loss = ALPHA * mean_square_error(size_output, size_label) + (1 - ALPHA) * cross_entropy_loss(basket_output, basket_label)\n",
    "        loss_list.append(loss.item())\n",
    "        \n",
    "        with torch.no_grad():\n",
    "            basket_output = torch.from_numpy(np.array(basket_output.cpu(), dtype=np.float32))\n",
    "            size_output = np.round(np.squeeze(np.array([_.cpu() for _ in size_output], dtype=np.float32))).astype(int).tolist()\n",
    "            if batch_idx == 0:\n",
    "                basket_outputs = basket_output\n",
    "                basket_labels = basket_label\n",
    "                size_outputs = size_output\n",
    "                size_labels = size_label\n",
    "            else:\n",
    "                basket_outputs = torch.cat( (basket_outputs, basket_output),-2 )\n",
    "                basket_labels = basket_labels + basket_label\n",
    "                size_outputs = size_outputs + size_output\n",
    "                size_labels = size_labels + size_label\n",
    "    \n",
    "    with torch.no_grad():\n",
    "        f1_evaluations = calculate_f1_score(basket_outputs, basket_labels, size_outputs)\n",
    "        precision_list = [f1_evaluations[\"Precision\"]]\n",
    "        recall_list =  [f1_evaluations[\"Recall\"]]\n",
    "        f1_list = [f1_evaluations[\"F1-score\"]]\n",
    "        res_str = '(' + format_metric(f1_evaluations) + ')'\n",
    "        print(f\"                      {res_str}\\n\")\n",
    "        \n",
    "        ndcg_evaluations = calculate_ndcg(basket_outputs, basket_labels, size_outputs, size_labels) \n",
    "        ndcg_list = [ndcg_evaluations[\"NDCG\"]]\n",
    "        res_str = '(' + format_metric(ndcg_evaluations) + ')'\n",
    "        print(f\"                      {res_str}\\n\")\n",
    "        \n",
    "        mae_evaluations = calculate_mae(size_outputs, size_labels)\n",
    "        mae_list = [mae_evaluations[\"MAE\"]]\n",
    "        res_str = '(' + format_metric(mae_evaluations) + ')'\n",
    "        print(f\"                      {res_str}\\n\")\n",
    "        \n",
    "    return torch.mean(torch.tensor(loss_list)), recall_list, precision_list, f1_list, ndcg_list, mae_list"
   ]
  },
  {
   "cell_type": "markdown",
   "id": "b1b6c6a9",
   "metadata": {},
   "source": [
    "# MC"
   ]
  },
  {
   "cell_type": "code",
   "execution_count": 31,
   "id": "bd668a14",
   "metadata": {},
   "outputs": [],
   "source": [
    "def create_transition_matrix(baskets, items):\n",
    "    # 統計所有項目在前一個購物籃和下一個購物籃中出現的次數，\n",
    "    # 以及在前一個購物籃中出現的總次數\n",
    "    cooccur_counts = {}\n",
    "    prev_basket_counts = {}\n",
    "    for user_baskets in baskets:\n",
    "        for i in range(1, len(user_baskets)):\n",
    "            prev_basket = user_baskets[i-1]\n",
    "            cur_basket = user_baskets[i]\n",
    "            for item1 in prev_basket:\n",
    "                if item1 not in prev_basket_counts:\n",
    "                    prev_basket_counts[item1] = 0\n",
    "                prev_basket_counts[item1] += 1\n",
    "                for item2 in cur_basket:\n",
    "                    if item2 not in cooccur_counts:\n",
    "                        cooccur_counts[item2] = {}\n",
    "                    if item1 not in cooccur_counts[item2]:\n",
    "                        cooccur_counts[item2][item1] = 0\n",
    "                    cooccur_counts[item2][item1] += 1\n",
    "\n",
    "    # 將統計數據轉換為轉移矩陣\n",
    "    # items = sorted(list(prev_basket_counts.keys()))\n",
    "    num_items = len(items)\n",
    "    transition_matrix = np.zeros((num_items, num_items))\n",
    "    for i, item1 in tqdm(enumerate(items)):\n",
    "        for j, item2 in enumerate(items):\n",
    "            if item2 in cooccur_counts and item1 in cooccur_counts[item2]:\n",
    "                cooccur_count = cooccur_counts[item2][item1]\n",
    "                prev_basket_count = prev_basket_counts[item1]\n",
    "                transition_matrix[i, j] = cooccur_count / prev_basket_count\n",
    "    return transition_matrix"
   ]
  },
  {
   "cell_type": "code",
   "execution_count": 32,
   "id": "41ad02ea",
   "metadata": {},
   "outputs": [],
   "source": [
    "def predict_next_basket(users_baskets, transition_matrix, items, top_n=50):\n",
    "    num_users = len(users_baskets)\n",
    "    num_items = len(items)\n",
    "    predictions = []\n",
    "    pred_label = []\n",
    "    for i in range(num_users):\n",
    "        last_basket = users_baskets[i][-1] # 第i個用戶的最後一個購物籃\n",
    "        cur_prediction = np.zeros(num_items)\n",
    "        prev_item_idx = np.array([prev_item for prev_item in last_basket])\n",
    "        for j in range(num_items):\n",
    "            prob = np.sum(transition_matrix[prev_item_idx, j])\n",
    "            cur_prediction[j] = prob * (1/len(last_basket))\n",
    "        predictions.append(cur_prediction)\n",
    "    return predictions"
   ]
  },
  {
   "cell_type": "code",
   "execution_count": 33,
   "id": "36cd123d",
   "metadata": {},
   "outputs": [],
   "source": [
    "mc_item = dataset[\"NEW_ITEM_ID\"].unique() # 所有項目"
   ]
  },
  {
   "cell_type": "code",
   "execution_count": 34,
   "id": "a7fd9194",
   "metadata": {},
   "outputs": [],
   "source": [
    "train_list = []\n",
    "for batch_idx, (userID, basket_input, basket_label, size_input, size_label) in enumerate(train_dataloader):\n",
    "    for i in basket_input:\n",
    "        train_list.append(i)"
   ]
  },
  {
   "cell_type": "code",
   "execution_count": 35,
   "id": "4073c2c3",
   "metadata": {},
   "outputs": [
    {
     "name": "stderr",
     "output_type": "stream",
     "text": [
      "15764it [01:19, 198.78it/s]\n"
     ]
    },
    {
     "name": "stdout",
     "output_type": "stream",
     "text": [
      "transition_matrix=tensor([[1.1456e-01, 8.7631e-02, 3.3775e-02,  ..., 4.5641e-04, 0.0000e+00,\n",
      "         0.0000e+00],\n",
      "        [4.7917e-02, 6.9792e-02, 2.9167e-02,  ..., 0.0000e+00, 0.0000e+00,\n",
      "         0.0000e+00],\n",
      "        [7.2327e-02, 4.4025e-02, 1.9392e-01,  ..., 0.0000e+00, 0.0000e+00,\n",
      "         0.0000e+00],\n",
      "        ...,\n",
      "        [0.0000e+00, 0.0000e+00, 0.0000e+00,  ..., 0.0000e+00, 0.0000e+00,\n",
      "         0.0000e+00],\n",
      "        [0.0000e+00, 0.0000e+00, 0.0000e+00,  ..., 0.0000e+00, 0.0000e+00,\n",
      "         0.0000e+00],\n",
      "        [0.0000e+00, 1.0000e+00, 0.0000e+00,  ..., 0.0000e+00, 0.0000e+00,\n",
      "         0.0000e+00]], device='cuda:0', dtype=torch.float64)\n"
     ]
    }
   ],
   "source": [
    "# 建立所有用戶共用的轉移矩陣\n",
    "transition_matrix= create_transition_matrix(train_list, mc_item)\n",
    "transition_array = torch.tensor(transition_matrix, dtype=torch.float64).to(device)\n",
    "print(f\"transition_matrix={transition_array}\")"
   ]
  },
  {
   "cell_type": "markdown",
   "id": "1abc8fbc",
   "metadata": {},
   "source": [
    "# 完整模型"
   ]
  },
  {
   "cell_type": "code",
   "execution_count": 36,
   "id": "5ad81bac",
   "metadata": {},
   "outputs": [
    {
     "name": "stdout",
     "output_type": "stream",
     "text": [
      "items_count= 15764\n",
      "tensor([1.7128e-03, 1.1418e-03, 2.4169e-02,  ..., 6.3436e-05, 6.3436e-05,\n",
      "        6.3436e-05], device='cuda:0', dtype=torch.float64)\n"
     ]
    }
   ],
   "source": [
    "# 項目總數\n",
    "items_count = confidences.shape[0]\n",
    "print(\"items_count=\", items_count)\n",
    "# 項目出現次數\n",
    "items_freq = Counter(dataset[\"NEW_ITEM_ID\"])\n",
    "# 計算每個項目出現的比例: items_frq/items_count\n",
    "item_weight = torch.tensor(np.array(list(items_freq.values()))/items_count).to(device)\n",
    "# 按照new_item_id順序排列\n",
    "print(item_weight)"
   ]
  },
  {
   "cell_type": "markdown",
   "id": "975d9e58",
   "metadata": {},
   "source": [
    "## 加上信賴度矩陣"
   ]
  },
  {
   "cell_type": "code",
   "execution_count": 37,
   "id": "5d571c57",
   "metadata": {},
   "outputs": [
    {
     "data": {
      "text/plain": [
       "tensor([[0.0000e+00, 1.0137e-01, 3.7170e-02,  ..., 0.0000e+00, 0.0000e+00,\n",
       "         0.0000e+00],\n",
       "        [1.4002e-01, 0.0000e+00, 2.9755e-02,  ..., 0.0000e+00, 0.0000e+00,\n",
       "         2.9172e-04],\n",
       "        [1.0778e-01, 6.2462e-02, 0.0000e+00,  ..., 0.0000e+00, 0.0000e+00,\n",
       "         0.0000e+00],\n",
       "        ...,\n",
       "        [0.0000e+00, 0.0000e+00, 0.0000e+00,  ..., 0.0000e+00, 0.0000e+00,\n",
       "         0.0000e+00],\n",
       "        [0.0000e+00, 0.0000e+00, 0.0000e+00,  ..., 0.0000e+00, 0.0000e+00,\n",
       "         0.0000e+00],\n",
       "        [0.0000e+00, 1.0000e+00, 0.0000e+00,  ..., 0.0000e+00, 0.0000e+00,\n",
       "         0.0000e+00]], device='cuda:0', dtype=torch.float64)"
      ]
     },
     "execution_count": 37,
     "metadata": {},
     "output_type": "execute_result"
    }
   ],
   "source": [
    "# 信賴度矩陣\n",
    "confidences_array = torch.tensor(confidences, dtype=torch.float64).to(device)\n",
    "confidences_array"
   ]
  },
  {
   "cell_type": "code",
   "execution_count": 38,
   "id": "b00066a0",
   "metadata": {},
   "outputs": [],
   "source": [
    "class MyModel01(nn.Module):\n",
    "    def __init__(self, embed_dim, model_dim, hidden_dim, items_count):\n",
    "        super(MyModel01, self).__init__()\n",
    "        self.model_dim = model_dim\n",
    "        self.embedding = nn.Embedding.from_pretrained(weights, freeze=False)\n",
    "        self.embedding.requires_grad=True\n",
    "        self.basket_embed = SelfAttention(embed_dim=embed_dim, model_dim=model_dim)\n",
    "        self.size_embed = LSTM(1,1)\n",
    "        self.model_encoder = TransformerEncoder(d_model=model_dim, num_heads=NUM_HEAD, num_layers=NUM_LAYER)\n",
    "        # 嵌入維度、隱藏層維度、總項目數量\n",
    "        self.basket_mlp = MLPforItem(model_dim, hidden_dim, items_count)\n",
    "        self.size_mlp = MLPforSize(model_dim)\n",
    "        self.relu = nn.ReLU()\n",
    "        \n",
    "    def forward(self, basket_input, size_input):\n",
    "        \n",
    "        basket_list, size_list, attention_mask, k_list = [], [], [], []\n",
    "        output_list = []\n",
    "        \n",
    "        # 為每個用戶的購物籃加上 padding跟 mask\n",
    "        for user in basket_input:\n",
    "            # 將購物籃項目 ID 轉換為嵌入向量\n",
    "            batch_features = [ self.embedding(torch.tensor(cart).to(device)) for cart in user ]\n",
    "            # 進行 padding\n",
    "            batch_features = rnn_utils.pad_sequence(batch_features, batch_first=True, padding_value=0)\n",
    "            # 購物籃中項目的遮罩\n",
    "            mask = ~batch_features.sum(dim=-1).ne(0)\n",
    "            basket_list.append(batch_features)\n",
    "            attention_mask.append(mask)\n",
    "        \n",
    "        # 預測size_tensor\n",
    "        sizes_input = [torch.tensor(size).to(device) for size in size_input]\n",
    "        tmp_tensor = torch.zeros(max_cart_count)\n",
    "        size_list.append(tmp_tensor)\n",
    "        for size in sizes_input:\n",
    "            size_list.append(size)\n",
    "        size_list = rnn_utils.pad_sequence(size_list, batch_first=True, padding_value=0)[1:]\n",
    "            \n",
    "        # 進入自注意力，輸出形狀(BATCH_SIZE, basket_size, embed_dim)\n",
    "        basket_embedding_list = []\n",
    "        for i,user_inputs in enumerate(basket_list):\n",
    "            basketEmbed = self.basket_embed(user_inputs, attention_mask[i])\n",
    "            sizeEmbed = self.size_embed(torch.tensor([[float(_)] for _ in size_list[i]]).to(device))\n",
    "            \n",
    "            basket_embedding = torch.cat((basketEmbed, sizeEmbed.reshape(1,-1)), 0)\n",
    "            \n",
    "            k_list.append(sizeEmbed)\n",
    "            basket_embedding_list.append(basket_embedding)\n",
    "            \n",
    "        \n",
    "        # 進行購物籃的 padding\n",
    "        input_seq = rnn_utils.pad_sequence(basket_embedding_list, batch_first=True, padding_value=0)\n",
    "        #print(input_seq.size())\n",
    "        \n",
    "        \n",
    "        # 進入Transformer\n",
    "        basket_embed = self.model_encoder(input_seq.to(device))\n",
    "        \n",
    "        B_s_list = []\n",
    "        K_s_list = []\n",
    "        for i, b in enumerate(basket_embed):\n",
    "            basket_size = len(attention_mask[i])\n",
    "            B_s = b[basket_size-1]  # 取得最後一個購物籃向量\n",
    "            B_s_list.append(B_s)\n",
    "            K_s_list.append(B_s+k_list[i])\n",
    "            \n",
    "        # 進入basket MLP層\n",
    "        p = self.basket_mlp(torch.stack(B_s_list, dim=0))\n",
    "        predictions = predict_next_basket(basket_input, transition_matrix, list(mc_item), 10)\n",
    "        mc_predictions = torch.tensor(np.array(predictions), dtype=torch.float64).to(device)\n",
    "        pc = (self.relu(p.to(torch.float64))+1e-8) @ confidences_array\n",
    "        pw = torch.mul( p, item_weight )\n",
    "        \n",
    "        # z-score for mc_predictions\n",
    "        mc_mean = mc_predictions.mean(dim=1, keepdim = True)\n",
    "        mc_std = mc_predictions.std(dim=1, keepdim =True)\n",
    "        mc_z_score = (mc_predictions - mc_mean) / mc_std\n",
    "        \n",
    "        # z-score for mc_predictions\n",
    "        tr_predictions = torch.add(pc, pw) + p.to(torch.float64)\n",
    "        tr_mean = tr_predictions.mean(dim=1, keepdim = True)\n",
    "        tr_std = tr_predictions.std(dim=1, keepdim =True)\n",
    "        tr_z_score = (tr_predictions - tr_mean) / tr_std\n",
    "        \n",
    "        p_ = torch.mul(BETA, tr_predictions) + torch.mul((1-BETA), mc_z_score + tr_z_score)\n",
    "        \n",
    "        # 進入size MLP層\n",
    "        k = self.size_mlp(torch.stack(K_s_list, dim=0))\n",
    "        \n",
    "        return p_, k"
   ]
  },
  {
   "cell_type": "code",
   "execution_count": 39,
   "id": "88bf8d6f",
   "metadata": {
    "scrolled": true
   },
   "outputs": [
    {
     "data": {
      "text/plain": [
       "MyModel01(\n",
       "  (embedding): Embedding(15764, 32)\n",
       "  (basket_embed): SelfAttention(\n",
       "    (query_matrix): Linear(in_features=32, out_features=32, bias=True)\n",
       "    (key_matrix): Linear(in_features=32, out_features=32, bias=True)\n",
       "    (value_matrix): Linear(in_features=32, out_features=32, bias=True)\n",
       "    (multihead_attn): MultiheadAttention(\n",
       "      (out_proj): NonDynamicallyQuantizableLinear(in_features=32, out_features=32, bias=True)\n",
       "    )\n",
       "  )\n",
       "  (size_embed): LSTM(\n",
       "    (lstm): LSTM(1, 16, num_layers=2)\n",
       "    (hiddenlayer1): Linear(in_features=1152, out_features=512, bias=True)\n",
       "    (hiddenlayer2): Linear(in_features=512, out_features=512, bias=True)\n",
       "    (hiddenlayer3): Linear(in_features=512, out_features=256, bias=True)\n",
       "    (hiddenlayer4): Linear(in_features=256, out_features=128, bias=True)\n",
       "    (embed): Linear(in_features=128, out_features=32, bias=True)\n",
       "    (leakyrelu): LeakyReLU(negative_slope=0.01)\n",
       "  )\n",
       "  (model_encoder): TransformerEncoder(\n",
       "    (pe): PositionalEncoding(\n",
       "      (dropout): Dropout(p=0.5, inplace=False)\n",
       "    )\n",
       "    (transformer): TransformerEncoder(\n",
       "      (layers): ModuleList(\n",
       "        (0): TransformerEncoderLayer(\n",
       "          (self_attn): MultiheadAttention(\n",
       "            (out_proj): NonDynamicallyQuantizableLinear(in_features=32, out_features=32, bias=True)\n",
       "          )\n",
       "          (linear1): Linear(in_features=32, out_features=2048, bias=True)\n",
       "          (dropout): Dropout(p=0.1, inplace=False)\n",
       "          (linear2): Linear(in_features=2048, out_features=32, bias=True)\n",
       "          (norm1): LayerNorm((32,), eps=1e-05, elementwise_affine=True)\n",
       "          (norm2): LayerNorm((32,), eps=1e-05, elementwise_affine=True)\n",
       "          (dropout1): Dropout(p=0.1, inplace=False)\n",
       "          (dropout2): Dropout(p=0.1, inplace=False)\n",
       "        )\n",
       "      )\n",
       "    )\n",
       "  )\n",
       "  (basket_mlp): MLPforItem(\n",
       "    (hidden): Linear(in_features=32, out_features=128, bias=True)\n",
       "    (norm): BatchNorm1d(128, eps=1e-05, momentum=0.03, affine=True, track_running_stats=True)\n",
       "    (relu): ReLU()\n",
       "    (output): Linear(in_features=128, out_features=15764, bias=True)\n",
       "    (softmax): Softmax(dim=0)\n",
       "  )\n",
       "  (size_mlp): MLPforSize(\n",
       "    (predict): Linear(in_features=32, out_features=1, bias=True)\n",
       "    (relu): ReLU()\n",
       "  )\n",
       "  (relu): ReLU()\n",
       ")"
      ]
     },
     "execution_count": 39,
     "metadata": {},
     "output_type": "execute_result"
    }
   ],
   "source": [
    "my_model = MyModel01(embed_dim=EMBEDDING_DIMENSION, model_dim=MODEL_DIMENSION, hidden_dim=HIDDEN_DIMENSION, items_count=items_count).to(device)\n",
    "optimizer = torch.optim.Adam(my_model.parameters(), lr=LEARNING_RATE)\n",
    "my_model.train()"
   ]
  },
  {
   "cell_type": "code",
   "execution_count": 40,
   "id": "dc547691",
   "metadata": {
    "scrolled": true
   },
   "outputs": [
    {
     "name": "stderr",
     "output_type": "stream",
     "text": [
      "  0%|          | 1/1065 [00:01<20:51,  1.18s/it]"
     ]
    },
    {
     "name": "stdout",
     "output_type": "stream",
     "text": [
      "Epoch 1: 0%, loss: 43.039024\n"
     ]
    },
    {
     "name": "stderr",
     "output_type": "stream",
     "text": [
      "  9%|▉         | 101/1065 [01:04<11:09,  1.44it/s]"
     ]
    },
    {
     "name": "stdout",
     "output_type": "stream",
     "text": [
      "Epoch 1: 9%, loss: 47.584846\n"
     ]
    },
    {
     "name": "stderr",
     "output_type": "stream",
     "text": [
      " 19%|█▉        | 201/1065 [02:11<08:55,  1.61it/s]"
     ]
    },
    {
     "name": "stdout",
     "output_type": "stream",
     "text": [
      "Epoch 1: 19%, loss: 5.853286\n"
     ]
    },
    {
     "name": "stderr",
     "output_type": "stream",
     "text": [
      " 28%|██▊       | 301/1065 [03:19<08:27,  1.50it/s]"
     ]
    },
    {
     "name": "stdout",
     "output_type": "stream",
     "text": [
      "Epoch 1: 28%, loss: 58.044758\n"
     ]
    },
    {
     "name": "stderr",
     "output_type": "stream",
     "text": [
      " 38%|███▊      | 401/1065 [04:28<07:08,  1.55it/s]"
     ]
    },
    {
     "name": "stdout",
     "output_type": "stream",
     "text": [
      "Epoch 1: 38%, loss: 8.222252\n"
     ]
    },
    {
     "name": "stderr",
     "output_type": "stream",
     "text": [
      " 47%|████▋     | 501/1065 [05:37<06:35,  1.43it/s]"
     ]
    },
    {
     "name": "stdout",
     "output_type": "stream",
     "text": [
      "Epoch 1: 47%, loss: 14.565086\n"
     ]
    },
    {
     "name": "stderr",
     "output_type": "stream",
     "text": [
      " 56%|█████▋    | 601/1065 [06:47<05:25,  1.43it/s]"
     ]
    },
    {
     "name": "stdout",
     "output_type": "stream",
     "text": [
      "Epoch 1: 56%, loss: 30.087378\n"
     ]
    },
    {
     "name": "stderr",
     "output_type": "stream",
     "text": [
      " 66%|██████▌   | 701/1065 [07:58<04:32,  1.34it/s]"
     ]
    },
    {
     "name": "stdout",
     "output_type": "stream",
     "text": [
      "Epoch 1: 66%, loss: 8.171587\n"
     ]
    },
    {
     "name": "stderr",
     "output_type": "stream",
     "text": [
      " 75%|███████▌  | 801/1065 [09:09<02:55,  1.51it/s]"
     ]
    },
    {
     "name": "stdout",
     "output_type": "stream",
     "text": [
      "Epoch 1: 75%, loss: 63.125351\n"
     ]
    },
    {
     "name": "stderr",
     "output_type": "stream",
     "text": [
      " 85%|████████▍ | 901/1065 [10:21<01:51,  1.47it/s]"
     ]
    },
    {
     "name": "stdout",
     "output_type": "stream",
     "text": [
      "Epoch 1: 85%, loss: 15.153502\n"
     ]
    },
    {
     "name": "stderr",
     "output_type": "stream",
     "text": [
      " 94%|█████████▍| 1001/1065 [11:33<00:44,  1.44it/s]"
     ]
    },
    {
     "name": "stdout",
     "output_type": "stream",
     "text": [
      "Epoch 1: 94%, loss: 11.057881\n"
     ]
    },
    {
     "name": "stderr",
     "output_type": "stream",
     "text": [
      "100%|██████████| 1065/1065 [12:20<00:00,  1.44it/s]"
     ]
    },
    {
     "name": "stdout",
     "output_type": "stream",
     "text": [
      "Epoch 1: 100%, loss: 14.197200\n"
     ]
    },
    {
     "name": "stderr",
     "output_type": "stream",
     "text": [
      "\n"
     ]
    },
    {
     "name": "stdout",
     "output_type": "stream",
     "text": [
      "                      (F1-score: 0.0211, Precision: 0.0221, Recall: 0.0254)\n",
      "\n",
      "                      (NDCG: 0.0207)\n",
      "\n",
      "                      (MAE: 4.5271)\n",
      "\n",
      "train_loss= tensor(35.7356)\n",
      "--------------------\n"
     ]
    },
    {
     "name": "stderr",
     "output_type": "stream",
     "text": [
      "100%|██████████| 133/133 [01:08<00:00,  1.95it/s]\n"
     ]
    },
    {
     "name": "stdout",
     "output_type": "stream",
     "text": [
      "                      (F1-score: 0.0097, Precision: 0.0094, Recall: 0.0115)\n",
      "\n",
      "                      (NDCG: 0.0096)\n",
      "\n",
      "                      (MAE: 4.1964)\n",
      "\n",
      "val_loss= tensor(31.3388)\n",
      "--------------------\n"
     ]
    },
    {
     "name": "stderr",
     "output_type": "stream",
     "text": [
      "100%|██████████| 133/133 [01:07<00:00,  1.97it/s]\n"
     ]
    },
    {
     "name": "stdout",
     "output_type": "stream",
     "text": [
      "                      (F1-score: 0.0120, Precision: 0.0120, Recall: 0.0145)\n",
      "\n",
      "                      (NDCG: 0.0124)\n",
      "\n",
      "                      (MAE: 4.0583)\n",
      "\n",
      "--------------------\n",
      "[[1, 0.014516741103914701, 0.012033384751339658, 0.01204602855413809, 0.012406556993982005, 4.05827067669173, 29.585283279418945]]\n",
      "-----------------------------------------------------------------------------------------\n"
     ]
    },
    {
     "name": "stderr",
     "output_type": "stream",
     "text": [
      "  0%|          | 1/1065 [00:00<08:38,  2.05it/s]"
     ]
    },
    {
     "name": "stdout",
     "output_type": "stream",
     "text": [
      "Epoch 2: 0%, loss: 28.176159\n"
     ]
    },
    {
     "name": "stderr",
     "output_type": "stream",
     "text": [
      "  9%|▉         | 101/1065 [01:03<10:38,  1.51it/s]"
     ]
    },
    {
     "name": "stdout",
     "output_type": "stream",
     "text": [
      "Epoch 2: 9%, loss: 52.780254\n"
     ]
    },
    {
     "name": "stderr",
     "output_type": "stream",
     "text": [
      " 19%|█▉        | 201/1065 [02:10<10:27,  1.38it/s]"
     ]
    },
    {
     "name": "stdout",
     "output_type": "stream",
     "text": [
      "Epoch 2: 19%, loss: 29.509451\n"
     ]
    },
    {
     "name": "stderr",
     "output_type": "stream",
     "text": [
      " 28%|██▊       | 301/1065 [03:18<08:41,  1.46it/s]"
     ]
    },
    {
     "name": "stdout",
     "output_type": "stream",
     "text": [
      "Epoch 2: 28%, loss: 34.505459\n"
     ]
    },
    {
     "name": "stderr",
     "output_type": "stream",
     "text": [
      " 38%|███▊      | 401/1065 [04:26<07:39,  1.44it/s]"
     ]
    },
    {
     "name": "stdout",
     "output_type": "stream",
     "text": [
      "Epoch 2: 38%, loss: 20.688507\n"
     ]
    },
    {
     "name": "stderr",
     "output_type": "stream",
     "text": [
      " 47%|████▋     | 501/1065 [05:35<06:44,  1.39it/s]"
     ]
    },
    {
     "name": "stdout",
     "output_type": "stream",
     "text": [
      "Epoch 2: 47%, loss: 31.953957\n"
     ]
    },
    {
     "name": "stderr",
     "output_type": "stream",
     "text": [
      " 56%|█████▋    | 601/1065 [06:44<05:53,  1.31it/s]"
     ]
    },
    {
     "name": "stdout",
     "output_type": "stream",
     "text": [
      "Epoch 2: 56%, loss: 33.321800\n"
     ]
    },
    {
     "name": "stderr",
     "output_type": "stream",
     "text": [
      " 66%|██████▌   | 701/1065 [07:55<04:25,  1.37it/s]"
     ]
    },
    {
     "name": "stdout",
     "output_type": "stream",
     "text": [
      "Epoch 2: 66%, loss: 12.752421\n"
     ]
    },
    {
     "name": "stderr",
     "output_type": "stream",
     "text": [
      " 75%|███████▌  | 801/1065 [09:08<03:11,  1.38it/s]"
     ]
    },
    {
     "name": "stdout",
     "output_type": "stream",
     "text": [
      "Epoch 2: 75%, loss: 12.596165\n"
     ]
    },
    {
     "name": "stderr",
     "output_type": "stream",
     "text": [
      " 85%|████████▍ | 901/1065 [10:20<02:10,  1.26it/s]"
     ]
    },
    {
     "name": "stdout",
     "output_type": "stream",
     "text": [
      "Epoch 2: 85%, loss: 11.320140\n"
     ]
    },
    {
     "name": "stderr",
     "output_type": "stream",
     "text": [
      " 94%|█████████▍| 1001/1065 [11:34<00:48,  1.31it/s]"
     ]
    },
    {
     "name": "stdout",
     "output_type": "stream",
     "text": [
      "Epoch 2: 94%, loss: 16.344149\n"
     ]
    },
    {
     "name": "stderr",
     "output_type": "stream",
     "text": [
      "100%|██████████| 1065/1065 [12:22<00:00,  1.43it/s]"
     ]
    },
    {
     "name": "stdout",
     "output_type": "stream",
     "text": [
      "Epoch 2: 100%, loss: 19.474850\n"
     ]
    },
    {
     "name": "stderr",
     "output_type": "stream",
     "text": [
      "\n"
     ]
    },
    {
     "name": "stdout",
     "output_type": "stream",
     "text": [
      "                      (F1-score: 0.0042, Precision: 0.0044, Recall: 0.0049)\n",
      "\n",
      "                      (NDCG: 0.0043)\n",
      "\n",
      "                      (MAE: 4.1293)\n",
      "\n",
      "train_loss= tensor(29.8009)\n",
      "--------------------\n"
     ]
    },
    {
     "name": "stderr",
     "output_type": "stream",
     "text": [
      "100%|██████████| 133/133 [01:08<00:00,  1.94it/s]\n"
     ]
    },
    {
     "name": "stdout",
     "output_type": "stream",
     "text": [
      "                      (F1-score: 0.0062, Precision: 0.0062, Recall: 0.0070)\n",
      "\n",
      "                      (NDCG: 0.0063)\n",
      "\n",
      "                      (MAE: 4.0508)\n",
      "\n",
      "val_loss= tensor(32.2650)\n",
      "--------------------\n"
     ]
    },
    {
     "name": "stderr",
     "output_type": "stream",
     "text": [
      "100%|██████████| 133/133 [01:08<00:00,  1.95it/s]\n"
     ]
    },
    {
     "name": "stdout",
     "output_type": "stream",
     "text": [
      "                      (F1-score: 0.0087, Precision: 0.0087, Recall: 0.0101)\n",
      "\n",
      "                      (NDCG: 0.0089)\n",
      "\n",
      "                      (MAE: 3.8374)\n",
      "\n",
      "--------------------\n",
      "[[1, 0.014516741103914701, 0.012033384751339658, 0.01204602855413809, 0.012406556993982005, 4.05827067669173, 29.585283279418945], [2, 0.010077055914645812, 0.00867089689513396, 0.008720423023691784, 0.008945851676915317, 3.837406015037594, 30.25739288330078]]\n",
      "-----------------------------------------------------------------------------------------\n"
     ]
    },
    {
     "name": "stderr",
     "output_type": "stream",
     "text": [
      "  0%|          | 1/1065 [00:00<11:34,  1.53it/s]"
     ]
    },
    {
     "name": "stdout",
     "output_type": "stream",
     "text": [
      "Epoch 3: 0%, loss: 33.687531\n"
     ]
    },
    {
     "name": "stderr",
     "output_type": "stream",
     "text": [
      "  9%|▉         | 101/1065 [01:04<11:08,  1.44it/s]"
     ]
    },
    {
     "name": "stdout",
     "output_type": "stream",
     "text": [
      "Epoch 3: 9%, loss: 11.803767\n"
     ]
    },
    {
     "name": "stderr",
     "output_type": "stream",
     "text": [
      " 19%|█▉        | 201/1065 [02:10<10:05,  1.43it/s]"
     ]
    },
    {
     "name": "stdout",
     "output_type": "stream",
     "text": [
      "Epoch 3: 19%, loss: 25.915213\n"
     ]
    },
    {
     "name": "stderr",
     "output_type": "stream",
     "text": [
      " 28%|██▊       | 301/1065 [03:18<08:21,  1.52it/s]"
     ]
    },
    {
     "name": "stdout",
     "output_type": "stream",
     "text": [
      "Epoch 3: 28%, loss: 27.270739\n"
     ]
    },
    {
     "name": "stderr",
     "output_type": "stream",
     "text": [
      " 38%|███▊      | 401/1065 [04:26<07:41,  1.44it/s]"
     ]
    },
    {
     "name": "stdout",
     "output_type": "stream",
     "text": [
      "Epoch 3: 38%, loss: 67.484100\n"
     ]
    },
    {
     "name": "stderr",
     "output_type": "stream",
     "text": [
      " 47%|████▋     | 501/1065 [05:36<06:26,  1.46it/s]"
     ]
    },
    {
     "name": "stdout",
     "output_type": "stream",
     "text": [
      "Epoch 3: 47%, loss: 11.772099\n"
     ]
    },
    {
     "name": "stderr",
     "output_type": "stream",
     "text": [
      " 56%|█████▋    | 601/1065 [06:46<05:22,  1.44it/s]"
     ]
    },
    {
     "name": "stdout",
     "output_type": "stream",
     "text": [
      "Epoch 3: 56%, loss: 16.472776\n"
     ]
    },
    {
     "name": "stderr",
     "output_type": "stream",
     "text": [
      " 66%|██████▌   | 701/1065 [07:56<04:03,  1.49it/s]"
     ]
    },
    {
     "name": "stdout",
     "output_type": "stream",
     "text": [
      "Epoch 3: 66%, loss: 8.794557\n"
     ]
    },
    {
     "name": "stderr",
     "output_type": "stream",
     "text": [
      " 75%|███████▌  | 801/1065 [09:07<02:59,  1.47it/s]"
     ]
    },
    {
     "name": "stdout",
     "output_type": "stream",
     "text": [
      "Epoch 3: 75%, loss: 55.630653\n"
     ]
    },
    {
     "name": "stderr",
     "output_type": "stream",
     "text": [
      " 85%|████████▍ | 901/1065 [10:19<02:06,  1.30it/s]"
     ]
    },
    {
     "name": "stdout",
     "output_type": "stream",
     "text": [
      "Epoch 3: 85%, loss: 78.424019\n"
     ]
    },
    {
     "name": "stderr",
     "output_type": "stream",
     "text": [
      " 94%|█████████▍| 1001/1065 [11:32<00:47,  1.34it/s]"
     ]
    },
    {
     "name": "stdout",
     "output_type": "stream",
     "text": [
      "Epoch 3: 94%, loss: 17.736786\n"
     ]
    },
    {
     "name": "stderr",
     "output_type": "stream",
     "text": [
      "100%|██████████| 1065/1065 [12:19<00:00,  1.44it/s]"
     ]
    },
    {
     "name": "stdout",
     "output_type": "stream",
     "text": [
      "Epoch 3: 100%, loss: 11.021908\n"
     ]
    },
    {
     "name": "stderr",
     "output_type": "stream",
     "text": [
      "\n"
     ]
    },
    {
     "name": "stdout",
     "output_type": "stream",
     "text": [
      "                      (F1-score: 0.0055, Precision: 0.0053, Recall: 0.0065)\n",
      "\n",
      "                      (NDCG: 0.0057)\n",
      "\n",
      "                      (MAE: 4.0771)\n",
      "\n",
      "train_loss= tensor(29.0554)\n",
      "--------------------\n"
     ]
    },
    {
     "name": "stderr",
     "output_type": "stream",
     "text": [
      "100%|██████████| 133/133 [01:09<00:00,  1.91it/s]\n"
     ]
    },
    {
     "name": "stdout",
     "output_type": "stream",
     "text": [
      "                      (F1-score: 0.0119, Precision: 0.0114, Recall: 0.0142)\n",
      "\n",
      "                      (NDCG: 0.0137)\n",
      "\n",
      "                      (MAE: 4.1137)\n",
      "\n",
      "val_loss= tensor(30.3703)\n",
      "--------------------\n"
     ]
    },
    {
     "name": "stderr",
     "output_type": "stream",
     "text": [
      "100%|██████████| 133/133 [01:11<00:00,  1.87it/s]\n"
     ]
    },
    {
     "name": "stdout",
     "output_type": "stream",
     "text": [
      "                      (F1-score: 0.0149, Precision: 0.0142, Recall: 0.0178)\n",
      "\n",
      "                      (NDCG: 0.0172)\n",
      "\n",
      "                      (MAE: 3.9991)\n",
      "\n",
      "--------------------\n",
      "[[1, 0.014516741103914701, 0.012033384751339658, 0.01204602855413809, 0.012406556993982005, 4.05827067669173, 29.585283279418945], [2, 0.010077055914645812, 0.00867089689513396, 0.008720423023691784, 0.008945851676915317, 3.837406015037594, 30.25739288330078], [3, 0.01779890777061012, 0.014229998102302206, 0.014861064129783942, 0.017184604398724167, 3.9990601503759398, 29.043352127075195]]\n",
      "-----------------------------------------------------------------------------------------\n"
     ]
    },
    {
     "name": "stderr",
     "output_type": "stream",
     "text": [
      "  0%|          | 1/1065 [00:00<08:04,  2.20it/s]"
     ]
    },
    {
     "name": "stdout",
     "output_type": "stream",
     "text": [
      "Epoch 4: 0%, loss: 13.254992\n"
     ]
    },
    {
     "name": "stderr",
     "output_type": "stream",
     "text": [
      "  9%|▉         | 101/1065 [01:01<10:24,  1.54it/s]"
     ]
    },
    {
     "name": "stdout",
     "output_type": "stream",
     "text": [
      "Epoch 4: 9%, loss: 16.269621\n"
     ]
    },
    {
     "name": "stderr",
     "output_type": "stream",
     "text": [
      " 19%|█▉        | 201/1065 [02:08<09:26,  1.53it/s]"
     ]
    },
    {
     "name": "stdout",
     "output_type": "stream",
     "text": [
      "Epoch 4: 19%, loss: 45.188080\n"
     ]
    },
    {
     "name": "stderr",
     "output_type": "stream",
     "text": [
      " 28%|██▊       | 301/1065 [03:15<08:39,  1.47it/s]"
     ]
    },
    {
     "name": "stdout",
     "output_type": "stream",
     "text": [
      "Epoch 4: 28%, loss: 11.771625\n"
     ]
    },
    {
     "name": "stderr",
     "output_type": "stream",
     "text": [
      " 38%|███▊      | 401/1065 [04:23<07:27,  1.48it/s]"
     ]
    },
    {
     "name": "stdout",
     "output_type": "stream",
     "text": [
      "Epoch 4: 38%, loss: 20.499220\n"
     ]
    },
    {
     "name": "stderr",
     "output_type": "stream",
     "text": [
      " 47%|████▋     | 501/1065 [05:32<06:21,  1.48it/s]"
     ]
    },
    {
     "name": "stdout",
     "output_type": "stream",
     "text": [
      "Epoch 4: 47%, loss: 17.855799\n"
     ]
    },
    {
     "name": "stderr",
     "output_type": "stream",
     "text": [
      " 56%|█████▋    | 601/1065 [06:41<05:36,  1.38it/s]"
     ]
    },
    {
     "name": "stdout",
     "output_type": "stream",
     "text": [
      "Epoch 4: 56%, loss: 67.652069\n"
     ]
    },
    {
     "name": "stderr",
     "output_type": "stream",
     "text": [
      " 66%|██████▌   | 701/1065 [07:51<04:30,  1.35it/s]"
     ]
    },
    {
     "name": "stdout",
     "output_type": "stream",
     "text": [
      "Epoch 4: 66%, loss: 27.927982\n"
     ]
    },
    {
     "name": "stderr",
     "output_type": "stream",
     "text": [
      " 75%|███████▌  | 801/1065 [09:03<03:16,  1.34it/s]"
     ]
    },
    {
     "name": "stdout",
     "output_type": "stream",
     "text": [
      "Epoch 4: 75%, loss: 15.173777\n"
     ]
    },
    {
     "name": "stderr",
     "output_type": "stream",
     "text": [
      " 85%|████████▍ | 901/1065 [10:16<01:52,  1.45it/s]"
     ]
    },
    {
     "name": "stdout",
     "output_type": "stream",
     "text": [
      "Epoch 4: 85%, loss: 42.636639\n"
     ]
    },
    {
     "name": "stderr",
     "output_type": "stream",
     "text": [
      " 94%|█████████▍| 1001/1065 [11:29<00:45,  1.41it/s]"
     ]
    },
    {
     "name": "stdout",
     "output_type": "stream",
     "text": [
      "Epoch 4: 94%, loss: 48.627338\n"
     ]
    },
    {
     "name": "stderr",
     "output_type": "stream",
     "text": [
      "100%|██████████| 1065/1065 [12:16<00:00,  1.45it/s]"
     ]
    },
    {
     "name": "stdout",
     "output_type": "stream",
     "text": [
      "Epoch 4: 100%, loss: 38.150551\n"
     ]
    },
    {
     "name": "stderr",
     "output_type": "stream",
     "text": [
      "\n"
     ]
    },
    {
     "name": "stdout",
     "output_type": "stream",
     "text": [
      "                      (F1-score: 0.0131, Precision: 0.0128, Recall: 0.0156)\n",
      "\n",
      "                      (NDCG: 0.0149)\n",
      "\n",
      "                      (MAE: 4.0617)\n",
      "\n",
      "train_loss= tensor(29.0122)\n",
      "--------------------\n"
     ]
    },
    {
     "name": "stderr",
     "output_type": "stream",
     "text": [
      "100%|██████████| 133/133 [01:10<00:00,  1.90it/s]\n"
     ]
    },
    {
     "name": "stdout",
     "output_type": "stream",
     "text": [
      "                      (F1-score: 0.0168, Precision: 0.0160, Recall: 0.0204)\n",
      "\n",
      "                      (NDCG: 0.0210)\n",
      "\n",
      "                      (MAE: 4.2519)\n",
      "\n",
      "val_loss= tensor(29.3526)\n",
      "--------------------\n"
     ]
    },
    {
     "name": "stderr",
     "output_type": "stream",
     "text": [
      "100%|██████████| 133/133 [01:08<00:00,  1.95it/s]\n"
     ]
    },
    {
     "name": "stdout",
     "output_type": "stream",
     "text": [
      "                      (F1-score: 0.0216, Precision: 0.0199, Recall: 0.0276)\n",
      "\n",
      "                      (NDCG: 0.0245)\n",
      "\n",
      "                      (MAE: 4.2274)\n",
      "\n",
      "--------------------\n",
      "[[1, 0.014516741103914701, 0.012033384751339658, 0.01204602855413809, 0.012406556993982005, 4.05827067669173, 29.585283279418945], [2, 0.010077055914645812, 0.00867089689513396, 0.008720423023691784, 0.008945851676915317, 3.837406015037594, 30.25739288330078], [3, 0.01779890777061012, 0.014229998102302206, 0.014861064129783942, 0.017184604398724167, 3.9990601503759398, 29.043352127075195], [4, 0.02755157074598936, 0.01991117757371626, 0.021589370440213, 0.02446779109891224, 4.227443609022556, 28.880300521850586]]\n",
      "-----------------------------------------------------------------------------------------\n"
     ]
    },
    {
     "name": "stderr",
     "output_type": "stream",
     "text": [
      "  0%|          | 1/1065 [00:00<13:15,  1.34it/s]"
     ]
    },
    {
     "name": "stdout",
     "output_type": "stream",
     "text": [
      "Epoch 5: 0%, loss: 76.093742\n"
     ]
    },
    {
     "name": "stderr",
     "output_type": "stream",
     "text": [
      "  9%|▉         | 101/1065 [01:03<10:55,  1.47it/s]"
     ]
    },
    {
     "name": "stdout",
     "output_type": "stream",
     "text": [
      "Epoch 5: 9%, loss: 11.267538\n"
     ]
    },
    {
     "name": "stderr",
     "output_type": "stream",
     "text": [
      " 19%|█▉        | 201/1065 [02:08<09:47,  1.47it/s]"
     ]
    },
    {
     "name": "stdout",
     "output_type": "stream",
     "text": [
      "Epoch 5: 19%, loss: 23.939383\n"
     ]
    },
    {
     "name": "stderr",
     "output_type": "stream",
     "text": [
      " 28%|██▊       | 301/1065 [03:14<08:35,  1.48it/s]"
     ]
    },
    {
     "name": "stdout",
     "output_type": "stream",
     "text": [
      "Epoch 5: 28%, loss: 18.723320\n"
     ]
    },
    {
     "name": "stderr",
     "output_type": "stream",
     "text": [
      " 38%|███▊      | 401/1065 [04:21<07:22,  1.50it/s]"
     ]
    },
    {
     "name": "stdout",
     "output_type": "stream",
     "text": [
      "Epoch 5: 38%, loss: 37.276226\n"
     ]
    },
    {
     "name": "stderr",
     "output_type": "stream",
     "text": [
      " 47%|████▋     | 501/1065 [05:30<06:15,  1.50it/s]"
     ]
    },
    {
     "name": "stdout",
     "output_type": "stream",
     "text": [
      "Epoch 5: 47%, loss: 11.103514\n"
     ]
    },
    {
     "name": "stderr",
     "output_type": "stream",
     "text": [
      " 56%|█████▋    | 601/1065 [06:40<05:38,  1.37it/s]"
     ]
    },
    {
     "name": "stdout",
     "output_type": "stream",
     "text": [
      "Epoch 5: 56%, loss: 19.857159\n"
     ]
    },
    {
     "name": "stderr",
     "output_type": "stream",
     "text": [
      " 66%|██████▌   | 701/1065 [07:51<04:09,  1.46it/s]"
     ]
    },
    {
     "name": "stdout",
     "output_type": "stream",
     "text": [
      "Epoch 5: 66%, loss: 7.397444\n"
     ]
    },
    {
     "name": "stderr",
     "output_type": "stream",
     "text": [
      " 75%|███████▌  | 801/1065 [09:04<03:23,  1.30it/s]"
     ]
    },
    {
     "name": "stdout",
     "output_type": "stream",
     "text": [
      "Epoch 5: 75%, loss: 5.424088\n"
     ]
    },
    {
     "name": "stderr",
     "output_type": "stream",
     "text": [
      " 85%|████████▍ | 901/1065 [10:16<02:08,  1.28it/s]"
     ]
    },
    {
     "name": "stdout",
     "output_type": "stream",
     "text": [
      "Epoch 5: 85%, loss: 43.789696\n"
     ]
    },
    {
     "name": "stderr",
     "output_type": "stream",
     "text": [
      " 94%|█████████▍| 1001/1065 [11:27<00:43,  1.46it/s]"
     ]
    },
    {
     "name": "stdout",
     "output_type": "stream",
     "text": [
      "Epoch 5: 94%, loss: 22.089315\n"
     ]
    },
    {
     "name": "stderr",
     "output_type": "stream",
     "text": [
      "100%|██████████| 1065/1065 [12:14<00:00,  1.45it/s]"
     ]
    },
    {
     "name": "stdout",
     "output_type": "stream",
     "text": [
      "Epoch 5: 100%, loss: 24.963011\n"
     ]
    },
    {
     "name": "stderr",
     "output_type": "stream",
     "text": [
      "\n"
     ]
    },
    {
     "name": "stdout",
     "output_type": "stream",
     "text": [
      "                      (F1-score: 0.0238, Precision: 0.0235, Recall: 0.0277)\n",
      "\n",
      "                      (NDCG: 0.0264)\n",
      "\n",
      "                      (MAE: 4.0394)\n",
      "\n",
      "train_loss= tensor(28.6187)\n",
      "--------------------\n"
     ]
    },
    {
     "name": "stderr",
     "output_type": "stream",
     "text": [
      "100%|██████████| 133/133 [01:08<00:00,  1.95it/s]\n"
     ]
    },
    {
     "name": "stdout",
     "output_type": "stream",
     "text": [
      "                      (F1-score: 0.0297, Precision: 0.0308, Recall: 0.0331)\n",
      "\n",
      "                      (NDCG: 0.0327)\n",
      "\n",
      "                      (MAE: 3.9831)\n",
      "\n",
      "val_loss= tensor(28.9696)\n",
      "--------------------\n"
     ]
    },
    {
     "name": "stderr",
     "output_type": "stream",
     "text": [
      "100%|██████████| 133/133 [01:07<00:00,  1.96it/s]\n"
     ]
    },
    {
     "name": "stdout",
     "output_type": "stream",
     "text": [
      "                      (F1-score: 0.0385, Precision: 0.0389, Recall: 0.0439)\n",
      "\n",
      "                      (NDCG: 0.0395)\n",
      "\n",
      "                      (MAE: 3.8929)\n",
      "\n",
      "--------------------\n",
      "[[1, 0.014516741103914701, 0.012033384751339658, 0.01204602855413809, 0.012406556993982005, 4.05827067669173, 29.585283279418945], [2, 0.010077055914645812, 0.00867089689513396, 0.008720423023691784, 0.008945851676915317, 3.837406015037594, 30.25739288330078], [3, 0.01779890777061012, 0.014229998102302206, 0.014861064129783942, 0.017184604398724167, 3.9990601503759398, 29.043352127075195], [4, 0.02755157074598936, 0.01991117757371626, 0.021589370440213, 0.02446779109891224, 4.227443609022556, 28.880300521850586], [5, 0.043914805291476365, 0.038929727215919877, 0.038457998167372325, 0.03946661167336922, 3.892857142857143, 28.325345993041992]]\n",
      "-----------------------------------------------------------------------------------------\n"
     ]
    },
    {
     "name": "stderr",
     "output_type": "stream",
     "text": [
      "  0%|          | 1/1065 [00:00<15:13,  1.16it/s]"
     ]
    },
    {
     "name": "stdout",
     "output_type": "stream",
     "text": [
      "Epoch 6: 0%, loss: 63.768421\n"
     ]
    },
    {
     "name": "stderr",
     "output_type": "stream",
     "text": [
      "  9%|▉         | 101/1065 [01:01<10:19,  1.56it/s]"
     ]
    },
    {
     "name": "stdout",
     "output_type": "stream",
     "text": [
      "Epoch 6: 9%, loss: 21.771814\n"
     ]
    },
    {
     "name": "stderr",
     "output_type": "stream",
     "text": [
      " 19%|█▉        | 201/1065 [02:08<10:11,  1.41it/s]"
     ]
    },
    {
     "name": "stdout",
     "output_type": "stream",
     "text": [
      "Epoch 6: 19%, loss: 8.558500\n"
     ]
    },
    {
     "name": "stderr",
     "output_type": "stream",
     "text": [
      " 28%|██▊       | 301/1065 [03:14<08:08,  1.56it/s]"
     ]
    },
    {
     "name": "stdout",
     "output_type": "stream",
     "text": [
      "Epoch 6: 28%, loss: 11.425632\n"
     ]
    },
    {
     "name": "stderr",
     "output_type": "stream",
     "text": [
      " 38%|███▊      | 401/1065 [04:22<07:21,  1.51it/s]"
     ]
    },
    {
     "name": "stdout",
     "output_type": "stream",
     "text": [
      "Epoch 6: 38%, loss: 12.340817\n"
     ]
    },
    {
     "name": "stderr",
     "output_type": "stream",
     "text": [
      " 47%|████▋     | 501/1065 [05:31<06:22,  1.47it/s]"
     ]
    },
    {
     "name": "stdout",
     "output_type": "stream",
     "text": [
      "Epoch 6: 47%, loss: 8.165544\n"
     ]
    },
    {
     "name": "stderr",
     "output_type": "stream",
     "text": [
      " 56%|█████▋    | 601/1065 [06:41<05:45,  1.34it/s]"
     ]
    },
    {
     "name": "stdout",
     "output_type": "stream",
     "text": [
      "Epoch 6: 56%, loss: 9.646124\n"
     ]
    },
    {
     "name": "stderr",
     "output_type": "stream",
     "text": [
      " 66%|██████▌   | 701/1065 [07:50<03:54,  1.55it/s]"
     ]
    },
    {
     "name": "stdout",
     "output_type": "stream",
     "text": [
      "Epoch 6: 66%, loss: 61.155560\n"
     ]
    },
    {
     "name": "stderr",
     "output_type": "stream",
     "text": [
      " 75%|███████▌  | 801/1065 [09:01<02:55,  1.51it/s]"
     ]
    },
    {
     "name": "stdout",
     "output_type": "stream",
     "text": [
      "Epoch 6: 75%, loss: 30.475456\n"
     ]
    },
    {
     "name": "stderr",
     "output_type": "stream",
     "text": [
      " 85%|████████▍ | 901/1065 [10:14<02:03,  1.33it/s]"
     ]
    },
    {
     "name": "stdout",
     "output_type": "stream",
     "text": [
      "Epoch 6: 85%, loss: 16.031830\n"
     ]
    },
    {
     "name": "stderr",
     "output_type": "stream",
     "text": [
      " 94%|█████████▍| 1001/1065 [11:27<00:47,  1.34it/s]"
     ]
    },
    {
     "name": "stdout",
     "output_type": "stream",
     "text": [
      "Epoch 6: 94%, loss: 30.723598\n"
     ]
    },
    {
     "name": "stderr",
     "output_type": "stream",
     "text": [
      "100%|██████████| 1065/1065 [12:14<00:00,  1.45it/s]"
     ]
    },
    {
     "name": "stdout",
     "output_type": "stream",
     "text": [
      "Epoch 6: 100%, loss: 26.218220\n"
     ]
    },
    {
     "name": "stderr",
     "output_type": "stream",
     "text": [
      "\n"
     ]
    },
    {
     "name": "stdout",
     "output_type": "stream",
     "text": [
      "                      (F1-score: 0.0367, Precision: 0.0364, Recall: 0.0428)\n",
      "\n",
      "                      (NDCG: 0.0367)\n",
      "\n",
      "                      (MAE: 4.0381)\n",
      "\n",
      "train_loss= tensor(28.4234)\n",
      "--------------------\n"
     ]
    },
    {
     "name": "stderr",
     "output_type": "stream",
     "text": [
      "100%|██████████| 133/133 [01:09<00:00,  1.90it/s]\n"
     ]
    },
    {
     "name": "stdout",
     "output_type": "stream",
     "text": [
      "                      (F1-score: 0.0372, Precision: 0.0363, Recall: 0.0444)\n",
      "\n",
      "                      (NDCG: 0.0372)\n",
      "\n",
      "                      (MAE: 4.1870)\n",
      "\n",
      "val_loss= tensor(28.5325)\n",
      "--------------------\n"
     ]
    },
    {
     "name": "stderr",
     "output_type": "stream",
     "text": [
      "100%|██████████| 133/133 [01:09<00:00,  1.90it/s]\n"
     ]
    },
    {
     "name": "stdout",
     "output_type": "stream",
     "text": [
      "                      (F1-score: 0.0474, Precision: 0.0446, Recall: 0.0587)\n",
      "\n",
      "                      (NDCG: 0.0440)\n",
      "\n",
      "                      (MAE: 4.2152)\n",
      "\n",
      "--------------------\n",
      "[[1, 0.014516741103914701, 0.012033384751339658, 0.01204602855413809, 0.012406556993982005, 4.05827067669173, 29.585283279418945], [2, 0.010077055914645812, 0.00867089689513396, 0.008720423023691784, 0.008945851676915317, 3.837406015037594, 30.25739288330078], [3, 0.01779890777061012, 0.014229998102302206, 0.014861064129783942, 0.017184604398724167, 3.9990601503759398, 29.043352127075195], [4, 0.02755157074598936, 0.01991117757371626, 0.021589370440213, 0.02446779109891224, 4.227443609022556, 28.880300521850586], [5, 0.043914805291476365, 0.038929727215919877, 0.038457998167372325, 0.03946661167336922, 3.892857142857143, 28.325345993041992], [6, 0.05869601004259138, 0.044622322031887054, 0.047421388046066756, 0.044029810744218696, 4.215225563909774, 28.65696144104004]]\n",
      "-----------------------------------------------------------------------------------------\n"
     ]
    },
    {
     "name": "stderr",
     "output_type": "stream",
     "text": [
      "  0%|          | 1/1065 [00:00<10:03,  1.76it/s]"
     ]
    },
    {
     "name": "stdout",
     "output_type": "stream",
     "text": [
      "Epoch 7: 0%, loss: 19.457224\n"
     ]
    },
    {
     "name": "stderr",
     "output_type": "stream",
     "text": [
      "  9%|▉         | 101/1065 [01:01<10:27,  1.54it/s]"
     ]
    },
    {
     "name": "stdout",
     "output_type": "stream",
     "text": [
      "Epoch 7: 9%, loss: 9.302526\n"
     ]
    },
    {
     "name": "stderr",
     "output_type": "stream",
     "text": [
      " 19%|█▉        | 201/1065 [02:07<09:45,  1.47it/s]"
     ]
    },
    {
     "name": "stdout",
     "output_type": "stream",
     "text": [
      "Epoch 7: 19%, loss: 80.138908\n"
     ]
    },
    {
     "name": "stderr",
     "output_type": "stream",
     "text": [
      " 28%|██▊       | 301/1065 [03:14<08:16,  1.54it/s]"
     ]
    },
    {
     "name": "stdout",
     "output_type": "stream",
     "text": [
      "Epoch 7: 28%, loss: 4.279357\n"
     ]
    },
    {
     "name": "stderr",
     "output_type": "stream",
     "text": [
      " 38%|███▊      | 401/1065 [04:23<07:30,  1.47it/s]"
     ]
    },
    {
     "name": "stdout",
     "output_type": "stream",
     "text": [
      "Epoch 7: 38%, loss: 19.585310\n"
     ]
    },
    {
     "name": "stderr",
     "output_type": "stream",
     "text": [
      " 47%|████▋     | 501/1065 [05:31<06:45,  1.39it/s]"
     ]
    },
    {
     "name": "stdout",
     "output_type": "stream",
     "text": [
      "Epoch 7: 47%, loss: 13.714371\n"
     ]
    },
    {
     "name": "stderr",
     "output_type": "stream",
     "text": [
      " 56%|█████▋    | 601/1065 [06:40<05:05,  1.52it/s]"
     ]
    },
    {
     "name": "stdout",
     "output_type": "stream",
     "text": [
      "Epoch 7: 56%, loss: 19.512026\n"
     ]
    },
    {
     "name": "stderr",
     "output_type": "stream",
     "text": [
      " 66%|██████▌   | 701/1065 [07:50<04:24,  1.38it/s]"
     ]
    },
    {
     "name": "stdout",
     "output_type": "stream",
     "text": [
      "Epoch 7: 66%, loss: 18.481638\n"
     ]
    },
    {
     "name": "stderr",
     "output_type": "stream",
     "text": [
      " 75%|███████▌  | 801/1065 [09:02<03:08,  1.40it/s]"
     ]
    },
    {
     "name": "stdout",
     "output_type": "stream",
     "text": [
      "Epoch 7: 75%, loss: 9.778488\n"
     ]
    },
    {
     "name": "stderr",
     "output_type": "stream",
     "text": [
      " 85%|████████▍ | 901/1065 [10:16<02:05,  1.30it/s]"
     ]
    },
    {
     "name": "stdout",
     "output_type": "stream",
     "text": [
      "Epoch 7: 85%, loss: 7.171005\n"
     ]
    },
    {
     "name": "stderr",
     "output_type": "stream",
     "text": [
      " 94%|█████████▍| 1001/1065 [11:29<00:47,  1.36it/s]"
     ]
    },
    {
     "name": "stdout",
     "output_type": "stream",
     "text": [
      "Epoch 7: 94%, loss: 11.846642\n"
     ]
    },
    {
     "name": "stderr",
     "output_type": "stream",
     "text": [
      "100%|██████████| 1065/1065 [12:15<00:00,  1.45it/s]"
     ]
    },
    {
     "name": "stdout",
     "output_type": "stream",
     "text": [
      "Epoch 7: 100%, loss: 15.303310\n"
     ]
    },
    {
     "name": "stderr",
     "output_type": "stream",
     "text": [
      "\n"
     ]
    },
    {
     "name": "stdout",
     "output_type": "stream",
     "text": [
      "                      (F1-score: 0.0428, Precision: 0.0427, Recall: 0.0494)\n",
      "\n",
      "                      (NDCG: 0.0407)\n",
      "\n",
      "                      (MAE: 4.0066)\n",
      "\n",
      "train_loss= tensor(28.0789)\n",
      "--------------------\n"
     ]
    },
    {
     "name": "stderr",
     "output_type": "stream",
     "text": [
      "100%|██████████| 133/133 [01:07<00:00,  1.96it/s]\n"
     ]
    },
    {
     "name": "stdout",
     "output_type": "stream",
     "text": [
      "                      (F1-score: 0.0374, Precision: 0.0382, Recall: 0.0427)\n",
      "\n",
      "                      (NDCG: 0.0368)\n",
      "\n",
      "                      (MAE: 4.1071)\n",
      "\n",
      "val_loss= tensor(29.4838)\n",
      "--------------------\n"
     ]
    },
    {
     "name": "stderr",
     "output_type": "stream",
     "text": [
      "100%|██████████| 133/133 [01:08<00:00,  1.94it/s]\n"
     ]
    },
    {
     "name": "stdout",
     "output_type": "stream",
     "text": [
      "                      (F1-score: 0.0476, Precision: 0.0460, Recall: 0.0562)\n",
      "\n",
      "                      (NDCG: 0.0442)\n",
      "\n",
      "                      (MAE: 3.9878)\n",
      "\n",
      "--------------------\n",
      "[[1, 0.014516741103914701, 0.012033384751339658, 0.01204602855413809, 0.012406556993982005, 4.05827067669173, 29.585283279418945], [2, 0.010077055914645812, 0.00867089689513396, 0.008720423023691784, 0.008945851676915317, 3.837406015037594, 30.25739288330078], [3, 0.01779890777061012, 0.014229998102302206, 0.014861064129783942, 0.017184604398724167, 3.9990601503759398, 29.043352127075195], [4, 0.02755157074598936, 0.01991117757371626, 0.021589370440213, 0.02446779109891224, 4.227443609022556, 28.880300521850586], [5, 0.043914805291476365, 0.038929727215919877, 0.038457998167372325, 0.03946661167336922, 3.892857142857143, 28.325345993041992], [6, 0.05869601004259138, 0.044622322031887054, 0.047421388046066756, 0.044029810744218696, 4.215225563909774, 28.65696144104004], [7, 0.05623511572985919, 0.04600030494557119, 0.04757945881618709, 0.04418332152824877, 3.987781954887218, 28.46356201171875]]\n",
      "-----------------------------------------------------------------------------------------\n"
     ]
    },
    {
     "name": "stderr",
     "output_type": "stream",
     "text": [
      "  0%|          | 1/1065 [00:00<09:22,  1.89it/s]"
     ]
    },
    {
     "name": "stdout",
     "output_type": "stream",
     "text": [
      "Epoch 8: 0%, loss: 7.517408\n"
     ]
    },
    {
     "name": "stderr",
     "output_type": "stream",
     "text": [
      "  9%|▉         | 101/1065 [01:00<10:54,  1.47it/s]"
     ]
    },
    {
     "name": "stdout",
     "output_type": "stream",
     "text": [
      "Epoch 8: 9%, loss: 8.770400\n"
     ]
    },
    {
     "name": "stderr",
     "output_type": "stream",
     "text": [
      " 19%|█▉        | 201/1065 [02:06<09:37,  1.50it/s]"
     ]
    },
    {
     "name": "stdout",
     "output_type": "stream",
     "text": [
      "Epoch 8: 19%, loss: 17.079935\n"
     ]
    },
    {
     "name": "stderr",
     "output_type": "stream",
     "text": [
      " 28%|██▊       | 301/1065 [03:14<08:38,  1.47it/s]"
     ]
    },
    {
     "name": "stdout",
     "output_type": "stream",
     "text": [
      "Epoch 8: 28%, loss: 21.435007\n"
     ]
    },
    {
     "name": "stderr",
     "output_type": "stream",
     "text": [
      " 38%|███▊      | 401/1065 [04:22<07:32,  1.47it/s]"
     ]
    },
    {
     "name": "stdout",
     "output_type": "stream",
     "text": [
      "Epoch 8: 38%, loss: 15.060926\n"
     ]
    },
    {
     "name": "stderr",
     "output_type": "stream",
     "text": [
      " 47%|████▋     | 501/1065 [05:30<06:31,  1.44it/s]"
     ]
    },
    {
     "name": "stdout",
     "output_type": "stream",
     "text": [
      "Epoch 8: 47%, loss: 16.235937\n"
     ]
    },
    {
     "name": "stderr",
     "output_type": "stream",
     "text": [
      " 56%|█████▋    | 601/1065 [06:41<05:22,  1.44it/s]"
     ]
    },
    {
     "name": "stdout",
     "output_type": "stream",
     "text": [
      "Epoch 8: 56%, loss: 10.798985\n"
     ]
    },
    {
     "name": "stderr",
     "output_type": "stream",
     "text": [
      " 66%|██████▌   | 701/1065 [07:51<04:23,  1.38it/s]"
     ]
    },
    {
     "name": "stdout",
     "output_type": "stream",
     "text": [
      "Epoch 8: 66%, loss: 5.518518\n"
     ]
    },
    {
     "name": "stderr",
     "output_type": "stream",
     "text": [
      " 75%|███████▌  | 801/1065 [09:03<02:39,  1.66it/s]"
     ]
    },
    {
     "name": "stdout",
     "output_type": "stream",
     "text": [
      "Epoch 8: 75%, loss: 15.133755\n"
     ]
    },
    {
     "name": "stderr",
     "output_type": "stream",
     "text": [
      " 85%|████████▍ | 901/1065 [10:15<02:05,  1.31it/s]"
     ]
    },
    {
     "name": "stdout",
     "output_type": "stream",
     "text": [
      "Epoch 8: 85%, loss: 103.493958\n"
     ]
    },
    {
     "name": "stderr",
     "output_type": "stream",
     "text": [
      " 94%|█████████▍| 1001/1065 [11:28<00:44,  1.44it/s]"
     ]
    },
    {
     "name": "stdout",
     "output_type": "stream",
     "text": [
      "Epoch 8: 94%, loss: 2.009923\n"
     ]
    },
    {
     "name": "stderr",
     "output_type": "stream",
     "text": [
      "100%|██████████| 1065/1065 [12:17<00:00,  1.44it/s]"
     ]
    },
    {
     "name": "stdout",
     "output_type": "stream",
     "text": [
      "Epoch 8: 100%, loss: 37.585739\n"
     ]
    },
    {
     "name": "stderr",
     "output_type": "stream",
     "text": [
      "\n"
     ]
    },
    {
     "name": "stdout",
     "output_type": "stream",
     "text": [
      "                      (F1-score: 0.0433, Precision: 0.0431, Recall: 0.0503)\n",
      "\n",
      "                      (NDCG: 0.0410)\n",
      "\n",
      "                      (MAE: 4.0065)\n",
      "\n",
      "train_loss= tensor(28.0875)\n",
      "--------------------\n"
     ]
    },
    {
     "name": "stderr",
     "output_type": "stream",
     "text": [
      "100%|██████████| 133/133 [01:07<00:00,  1.98it/s]\n"
     ]
    },
    {
     "name": "stdout",
     "output_type": "stream",
     "text": [
      "                      (F1-score: 0.0387, Precision: 0.0395, Recall: 0.0438)\n",
      "\n",
      "                      (NDCG: 0.0378)\n",
      "\n",
      "                      (MAE: 4.0376)\n",
      "\n",
      "val_loss= tensor(28.7478)\n",
      "--------------------\n"
     ]
    },
    {
     "name": "stderr",
     "output_type": "stream",
     "text": [
      "100%|██████████| 133/133 [01:07<00:00,  1.98it/s]\n"
     ]
    },
    {
     "name": "stdout",
     "output_type": "stream",
     "text": [
      "                      (F1-score: 0.0490, Precision: 0.0474, Recall: 0.0581)\n",
      "\n",
      "                      (NDCG: 0.0455)\n",
      "\n",
      "                      (MAE: 3.9906)\n",
      "\n",
      "--------------------\n",
      "[[1, 0.014516741103914701, 0.012033384751339658, 0.01204602855413809, 0.012406556993982005, 4.05827067669173, 29.585283279418945], [2, 0.010077055914645812, 0.00867089689513396, 0.008720423023691784, 0.008945851676915317, 3.837406015037594, 30.25739288330078], [3, 0.01779890777061012, 0.014229998102302206, 0.014861064129783942, 0.017184604398724167, 3.9990601503759398, 29.043352127075195], [4, 0.02755157074598936, 0.01991117757371626, 0.021589370440213, 0.02446779109891224, 4.227443609022556, 28.880300521850586], [5, 0.043914805291476365, 0.038929727215919877, 0.038457998167372325, 0.03946661167336922, 3.892857142857143, 28.325345993041992], [6, 0.05869601004259138, 0.044622322031887054, 0.047421388046066756, 0.044029810744218696, 4.215225563909774, 28.65696144104004], [7, 0.05623511572985919, 0.04600030494557119, 0.04757945881618709, 0.04418332152824877, 3.987781954887218, 28.46356201171875], [8, 0.05809414050145603, 0.047444481777741146, 0.04897963678593192, 0.04547057762615999, 3.9906015037593985, 28.194171905517578]]\n",
      "-----------------------------------------------------------------------------------------\n"
     ]
    },
    {
     "name": "stderr",
     "output_type": "stream",
     "text": [
      "  0%|          | 1/1065 [00:00<07:39,  2.31it/s]"
     ]
    },
    {
     "name": "stdout",
     "output_type": "stream",
     "text": [
      "Epoch 9: 0%, loss: 9.613853\n"
     ]
    },
    {
     "name": "stderr",
     "output_type": "stream",
     "text": [
      "  9%|▉         | 101/1065 [01:00<10:16,  1.56it/s]"
     ]
    },
    {
     "name": "stdout",
     "output_type": "stream",
     "text": [
      "Epoch 9: 9%, loss: 59.819107\n"
     ]
    },
    {
     "name": "stderr",
     "output_type": "stream",
     "text": [
      " 19%|█▉        | 201/1065 [02:06<09:50,  1.46it/s]"
     ]
    },
    {
     "name": "stdout",
     "output_type": "stream",
     "text": [
      "Epoch 9: 19%, loss: 38.714684\n"
     ]
    },
    {
     "name": "stderr",
     "output_type": "stream",
     "text": [
      " 28%|██▊       | 301/1065 [03:13<08:59,  1.42it/s]"
     ]
    },
    {
     "name": "stdout",
     "output_type": "stream",
     "text": [
      "Epoch 9: 28%, loss: 32.322479\n"
     ]
    },
    {
     "name": "stderr",
     "output_type": "stream",
     "text": [
      " 38%|███▊      | 401/1065 [04:21<07:58,  1.39it/s]"
     ]
    },
    {
     "name": "stdout",
     "output_type": "stream",
     "text": [
      "Epoch 9: 38%, loss: 35.791092\n"
     ]
    },
    {
     "name": "stderr",
     "output_type": "stream",
     "text": [
      " 47%|████▋     | 501/1065 [05:32<06:49,  1.38it/s]"
     ]
    },
    {
     "name": "stdout",
     "output_type": "stream",
     "text": [
      "Epoch 9: 47%, loss: 28.534868\n"
     ]
    },
    {
     "name": "stderr",
     "output_type": "stream",
     "text": [
      " 56%|█████▋    | 601/1065 [06:41<05:33,  1.39it/s]"
     ]
    },
    {
     "name": "stdout",
     "output_type": "stream",
     "text": [
      "Epoch 9: 56%, loss: 17.724630\n"
     ]
    },
    {
     "name": "stderr",
     "output_type": "stream",
     "text": [
      " 66%|██████▌   | 701/1065 [07:51<04:18,  1.41it/s]"
     ]
    },
    {
     "name": "stdout",
     "output_type": "stream",
     "text": [
      "Epoch 9: 66%, loss: 23.875795\n"
     ]
    },
    {
     "name": "stderr",
     "output_type": "stream",
     "text": [
      " 75%|███████▌  | 801/1065 [09:01<02:57,  1.49it/s]"
     ]
    },
    {
     "name": "stdout",
     "output_type": "stream",
     "text": [
      "Epoch 9: 75%, loss: 100.412704\n"
     ]
    },
    {
     "name": "stderr",
     "output_type": "stream",
     "text": [
      " 85%|████████▍ | 901/1065 [10:12<01:59,  1.37it/s]"
     ]
    },
    {
     "name": "stdout",
     "output_type": "stream",
     "text": [
      "Epoch 9: 85%, loss: 12.967104\n"
     ]
    },
    {
     "name": "stderr",
     "output_type": "stream",
     "text": [
      " 94%|█████████▍| 1001/1065 [11:26<00:50,  1.27it/s]"
     ]
    },
    {
     "name": "stdout",
     "output_type": "stream",
     "text": [
      "Epoch 9: 94%, loss: 14.319681\n"
     ]
    },
    {
     "name": "stderr",
     "output_type": "stream",
     "text": [
      "100%|██████████| 1065/1065 [12:13<00:00,  1.45it/s]"
     ]
    },
    {
     "name": "stdout",
     "output_type": "stream",
     "text": [
      "Epoch 9: 100%, loss: 5.551898\n"
     ]
    },
    {
     "name": "stderr",
     "output_type": "stream",
     "text": [
      "\n"
     ]
    },
    {
     "name": "stdout",
     "output_type": "stream",
     "text": [
      "                      (F1-score: 0.0429, Precision: 0.0429, Recall: 0.0499)\n",
      "\n",
      "                      (NDCG: 0.0408)\n",
      "\n",
      "                      (MAE: 4.0014)\n",
      "\n",
      "train_loss= tensor(27.8405)\n",
      "--------------------\n"
     ]
    },
    {
     "name": "stderr",
     "output_type": "stream",
     "text": [
      "100%|██████████| 133/133 [01:10<00:00,  1.90it/s]\n"
     ]
    },
    {
     "name": "stdout",
     "output_type": "stream",
     "text": [
      "                      (F1-score: 0.0405, Precision: 0.0383, Recall: 0.0504)\n",
      "\n",
      "                      (NDCG: 0.0382)\n",
      "\n",
      "                      (MAE: 4.4737)\n",
      "\n",
      "val_loss= tensor(29.4560)\n",
      "--------------------\n"
     ]
    },
    {
     "name": "stderr",
     "output_type": "stream",
     "text": [
      "100%|██████████| 133/133 [01:05<00:00,  2.02it/s]\n"
     ]
    },
    {
     "name": "stdout",
     "output_type": "stream",
     "text": [
      "                      (F1-score: 0.0485, Precision: 0.0440, Recall: 0.0628)\n",
      "\n",
      "                      (NDCG: 0.0436)\n",
      "\n",
      "                      (MAE: 4.5893)\n",
      "\n",
      "--------------------\n",
      "[[1, 0.014516741103914701, 0.012033384751339658, 0.01204602855413809, 0.012406556993982005, 4.05827067669173, 29.585283279418945], [2, 0.010077055914645812, 0.00867089689513396, 0.008720423023691784, 0.008945851676915317, 3.837406015037594, 30.25739288330078], [3, 0.01779890777061012, 0.014229998102302206, 0.014861064129783942, 0.017184604398724167, 3.9990601503759398, 29.043352127075195], [4, 0.02755157074598936, 0.01991117757371626, 0.021589370440213, 0.02446779109891224, 4.227443609022556, 28.880300521850586], [5, 0.043914805291476365, 0.038929727215919877, 0.038457998167372325, 0.03946661167336922, 3.892857142857143, 28.325345993041992], [6, 0.05869601004259138, 0.044622322031887054, 0.047421388046066756, 0.044029810744218696, 4.215225563909774, 28.65696144104004], [7, 0.05623511572985919, 0.04600030494557119, 0.04757945881618709, 0.04418332152824877, 3.987781954887218, 28.46356201171875], [8, 0.05809414050145603, 0.047444481777741146, 0.04897963678593192, 0.04547057762615999, 3.9906015037593985, 28.194171905517578], [9, 0.06279628719494007, 0.04404895638139089, 0.04851711865073949, 0.043578996170746315, 4.589285714285714, 30.281517028808594]]\n",
      "-----------------------------------------------------------------------------------------\n"
     ]
    },
    {
     "name": "stderr",
     "output_type": "stream",
     "text": [
      "  0%|          | 1/1065 [00:00<07:46,  2.28it/s]"
     ]
    },
    {
     "name": "stdout",
     "output_type": "stream",
     "text": [
      "Epoch 10: 0%, loss: 46.607784\n"
     ]
    },
    {
     "name": "stderr",
     "output_type": "stream",
     "text": [
      "  9%|▉         | 101/1065 [00:59<10:48,  1.49it/s]"
     ]
    },
    {
     "name": "stdout",
     "output_type": "stream",
     "text": [
      "Epoch 10: 9%, loss: 9.523787\n"
     ]
    },
    {
     "name": "stderr",
     "output_type": "stream",
     "text": [
      " 19%|█▉        | 201/1065 [02:06<09:54,  1.45it/s]"
     ]
    },
    {
     "name": "stdout",
     "output_type": "stream",
     "text": [
      "Epoch 10: 19%, loss: 9.336922\n"
     ]
    },
    {
     "name": "stderr",
     "output_type": "stream",
     "text": [
      " 28%|██▊       | 301/1065 [03:12<08:36,  1.48it/s]"
     ]
    },
    {
     "name": "stdout",
     "output_type": "stream",
     "text": [
      "Epoch 10: 28%, loss: 9.428135\n"
     ]
    },
    {
     "name": "stderr",
     "output_type": "stream",
     "text": [
      " 38%|███▊      | 401/1065 [04:20<07:25,  1.49it/s]"
     ]
    },
    {
     "name": "stdout",
     "output_type": "stream",
     "text": [
      "Epoch 10: 38%, loss: 35.923611\n"
     ]
    },
    {
     "name": "stderr",
     "output_type": "stream",
     "text": [
      " 47%|████▋     | 501/1065 [05:29<06:39,  1.41it/s]"
     ]
    },
    {
     "name": "stdout",
     "output_type": "stream",
     "text": [
      "Epoch 10: 47%, loss: 19.125734\n"
     ]
    },
    {
     "name": "stderr",
     "output_type": "stream",
     "text": [
      " 56%|█████▋    | 601/1065 [06:39<05:31,  1.40it/s]"
     ]
    },
    {
     "name": "stdout",
     "output_type": "stream",
     "text": [
      "Epoch 10: 56%, loss: 35.144108\n"
     ]
    },
    {
     "name": "stderr",
     "output_type": "stream",
     "text": [
      " 66%|██████▌   | 701/1065 [07:48<04:09,  1.46it/s]"
     ]
    },
    {
     "name": "stdout",
     "output_type": "stream",
     "text": [
      "Epoch 10: 66%, loss: 41.568207\n"
     ]
    },
    {
     "name": "stderr",
     "output_type": "stream",
     "text": [
      " 75%|███████▌  | 801/1065 [09:00<02:52,  1.53it/s]"
     ]
    },
    {
     "name": "stdout",
     "output_type": "stream",
     "text": [
      "Epoch 10: 75%, loss: 16.189558\n"
     ]
    },
    {
     "name": "stderr",
     "output_type": "stream",
     "text": [
      " 85%|████████▍ | 901/1065 [10:13<01:50,  1.49it/s]"
     ]
    },
    {
     "name": "stdout",
     "output_type": "stream",
     "text": [
      "Epoch 10: 85%, loss: 16.710360\n"
     ]
    },
    {
     "name": "stderr",
     "output_type": "stream",
     "text": [
      " 94%|█████████▍| 1001/1065 [11:27<00:45,  1.40it/s]"
     ]
    },
    {
     "name": "stdout",
     "output_type": "stream",
     "text": [
      "Epoch 10: 94%, loss: 49.453400\n"
     ]
    },
    {
     "name": "stderr",
     "output_type": "stream",
     "text": [
      "100%|██████████| 1065/1065 [12:13<00:00,  1.45it/s]"
     ]
    },
    {
     "name": "stdout",
     "output_type": "stream",
     "text": [
      "Epoch 10: 100%, loss: 7.967129\n"
     ]
    },
    {
     "name": "stderr",
     "output_type": "stream",
     "text": [
      "\n"
     ]
    },
    {
     "name": "stdout",
     "output_type": "stream",
     "text": [
      "                      (F1-score: 0.0444, Precision: 0.0442, Recall: 0.0514)\n",
      "\n",
      "                      (NDCG: 0.0421)\n",
      "\n",
      "                      (MAE: 3.9737)\n",
      "\n",
      "train_loss= tensor(27.7151)\n",
      "--------------------\n"
     ]
    },
    {
     "name": "stderr",
     "output_type": "stream",
     "text": [
      "100%|██████████| 133/133 [01:10<00:00,  1.87it/s]\n"
     ]
    },
    {
     "name": "stdout",
     "output_type": "stream",
     "text": [
      "                      (F1-score: 0.0390, Precision: 0.0401, Recall: 0.0439)\n",
      "\n",
      "                      (NDCG: 0.0383)\n",
      "\n",
      "                      (MAE: 3.9915)\n",
      "\n",
      "val_loss= tensor(28.2589)\n",
      "--------------------\n"
     ]
    },
    {
     "name": "stderr",
     "output_type": "stream",
     "text": [
      "100%|██████████| 133/133 [01:07<00:00,  1.98it/s]\n"
     ]
    },
    {
     "name": "stdout",
     "output_type": "stream",
     "text": [
      "                      (F1-score: 0.0474, Precision: 0.0475, Recall: 0.0545)\n",
      "\n",
      "                      (NDCG: 0.0442)\n",
      "\n",
      "                      (MAE: 3.9972)\n",
      "\n",
      "--------------------\n",
      "[[1, 0.014516741103914701, 0.012033384751339658, 0.01204602855413809, 0.012406556993982005, 4.05827067669173, 29.585283279418945], [2, 0.010077055914645812, 0.00867089689513396, 0.008720423023691784, 0.008945851676915317, 3.837406015037594, 30.25739288330078], [3, 0.01779890777061012, 0.014229998102302206, 0.014861064129783942, 0.017184604398724167, 3.9990601503759398, 29.043352127075195], [4, 0.02755157074598936, 0.01991117757371626, 0.021589370440213, 0.02446779109891224, 4.227443609022556, 28.880300521850586], [5, 0.043914805291476365, 0.038929727215919877, 0.038457998167372325, 0.03946661167336922, 3.892857142857143, 28.325345993041992], [6, 0.05869601004259138, 0.044622322031887054, 0.047421388046066756, 0.044029810744218696, 4.215225563909774, 28.65696144104004], [7, 0.05623511572985919, 0.04600030494557119, 0.04757945881618709, 0.04418332152824877, 3.987781954887218, 28.46356201171875], [8, 0.05809414050145603, 0.047444481777741146, 0.04897963678593192, 0.04547057762615999, 3.9906015037593985, 28.194171905517578], [9, 0.06279628719494007, 0.04404895638139089, 0.04851711865073949, 0.043578996170746315, 4.589285714285714, 30.281517028808594], [10, 0.0545478810953519, 0.047522010969331153, 0.047384920735939154, 0.04424618843494725, 3.9971804511278197, 28.321609497070312]]\n",
      "-----------------------------------------------------------------------------------------\n"
     ]
    },
    {
     "name": "stderr",
     "output_type": "stream",
     "text": [
      "  0%|          | 1/1065 [00:00<08:54,  1.99it/s]"
     ]
    },
    {
     "name": "stdout",
     "output_type": "stream",
     "text": [
      "Epoch 11: 0%, loss: 8.567962\n"
     ]
    },
    {
     "name": "stderr",
     "output_type": "stream",
     "text": [
      "  9%|▉         | 101/1065 [01:00<10:38,  1.51it/s]"
     ]
    },
    {
     "name": "stdout",
     "output_type": "stream",
     "text": [
      "Epoch 11: 9%, loss: 3.975447\n"
     ]
    },
    {
     "name": "stderr",
     "output_type": "stream",
     "text": [
      " 19%|█▉        | 201/1065 [02:06<09:35,  1.50it/s]"
     ]
    },
    {
     "name": "stdout",
     "output_type": "stream",
     "text": [
      "Epoch 11: 19%, loss: 5.561402\n"
     ]
    },
    {
     "name": "stderr",
     "output_type": "stream",
     "text": [
      " 28%|██▊       | 301/1065 [03:14<08:54,  1.43it/s]"
     ]
    },
    {
     "name": "stdout",
     "output_type": "stream",
     "text": [
      "Epoch 11: 28%, loss: 20.460934\n"
     ]
    },
    {
     "name": "stderr",
     "output_type": "stream",
     "text": [
      " 38%|███▊      | 401/1065 [04:22<07:29,  1.48it/s]"
     ]
    },
    {
     "name": "stdout",
     "output_type": "stream",
     "text": [
      "Epoch 11: 38%, loss: 41.682247\n"
     ]
    },
    {
     "name": "stderr",
     "output_type": "stream",
     "text": [
      " 47%|████▋     | 501/1065 [05:30<06:29,  1.45it/s]"
     ]
    },
    {
     "name": "stdout",
     "output_type": "stream",
     "text": [
      "Epoch 11: 47%, loss: 30.719324\n"
     ]
    },
    {
     "name": "stderr",
     "output_type": "stream",
     "text": [
      " 56%|█████▋    | 601/1065 [06:38<04:43,  1.63it/s]"
     ]
    },
    {
     "name": "stdout",
     "output_type": "stream",
     "text": [
      "Epoch 11: 56%, loss: 34.883713\n"
     ]
    },
    {
     "name": "stderr",
     "output_type": "stream",
     "text": [
      " 66%|██████▌   | 701/1065 [07:48<04:13,  1.44it/s]"
     ]
    },
    {
     "name": "stdout",
     "output_type": "stream",
     "text": [
      "Epoch 11: 66%, loss: 46.170410\n"
     ]
    },
    {
     "name": "stderr",
     "output_type": "stream",
     "text": [
      " 75%|███████▌  | 801/1065 [09:01<03:21,  1.31it/s]"
     ]
    },
    {
     "name": "stdout",
     "output_type": "stream",
     "text": [
      "Epoch 11: 75%, loss: 6.242606\n"
     ]
    },
    {
     "name": "stderr",
     "output_type": "stream",
     "text": [
      " 85%|████████▍ | 901/1065 [10:12<02:02,  1.34it/s]"
     ]
    },
    {
     "name": "stdout",
     "output_type": "stream",
     "text": [
      "Epoch 11: 85%, loss: 17.981178\n"
     ]
    },
    {
     "name": "stderr",
     "output_type": "stream",
     "text": [
      " 94%|█████████▍| 1001/1065 [11:26<00:48,  1.32it/s]"
     ]
    },
    {
     "name": "stdout",
     "output_type": "stream",
     "text": [
      "Epoch 11: 94%, loss: 56.853676\n"
     ]
    },
    {
     "name": "stderr",
     "output_type": "stream",
     "text": [
      "100%|██████████| 1065/1065 [12:13<00:00,  1.45it/s]"
     ]
    },
    {
     "name": "stdout",
     "output_type": "stream",
     "text": [
      "Epoch 11: 100%, loss: 7.173467\n"
     ]
    },
    {
     "name": "stderr",
     "output_type": "stream",
     "text": [
      "\n"
     ]
    },
    {
     "name": "stdout",
     "output_type": "stream",
     "text": [
      "                      (F1-score: 0.0441, Precision: 0.0441, Recall: 0.0507)\n",
      "\n",
      "                      (NDCG: 0.0422)\n",
      "\n",
      "                      (MAE: 3.9215)\n",
      "\n",
      "train_loss= tensor(27.2180)\n",
      "--------------------\n"
     ]
    },
    {
     "name": "stderr",
     "output_type": "stream",
     "text": [
      "100%|██████████| 133/133 [01:11<00:00,  1.86it/s]\n"
     ]
    },
    {
     "name": "stdout",
     "output_type": "stream",
     "text": [
      "                      (F1-score: 0.0401, Precision: 0.0435, Recall: 0.0430)\n",
      "\n",
      "                      (NDCG: 0.0383)\n",
      "\n",
      "                      (MAE: 4.0244)\n",
      "\n",
      "val_loss= tensor(29.5190)\n",
      "--------------------\n"
     ]
    },
    {
     "name": "stderr",
     "output_type": "stream",
     "text": [
      "100%|██████████| 133/133 [01:07<00:00,  1.97it/s]\n"
     ]
    },
    {
     "name": "stdout",
     "output_type": "stream",
     "text": [
      "                      (F1-score: 0.0484, Precision: 0.0503, Recall: 0.0535)\n",
      "\n",
      "                      (NDCG: 0.0454)\n",
      "\n",
      "                      (MAE: 3.9258)\n",
      "\n",
      "--------------------\n",
      "[[1, 0.014516741103914701, 0.012033384751339658, 0.01204602855413809, 0.012406556993982005, 4.05827067669173, 29.585283279418945], [2, 0.010077055914645812, 0.00867089689513396, 0.008720423023691784, 0.008945851676915317, 3.837406015037594, 30.25739288330078], [3, 0.01779890777061012, 0.014229998102302206, 0.014861064129783942, 0.017184604398724167, 3.9990601503759398, 29.043352127075195], [4, 0.02755157074598936, 0.01991117757371626, 0.021589370440213, 0.02446779109891224, 4.227443609022556, 28.880300521850586], [5, 0.043914805291476365, 0.038929727215919877, 0.038457998167372325, 0.03946661167336922, 3.892857142857143, 28.325345993041992], [6, 0.05869601004259138, 0.044622322031887054, 0.047421388046066756, 0.044029810744218696, 4.215225563909774, 28.65696144104004], [7, 0.05623511572985919, 0.04600030494557119, 0.04757945881618709, 0.04418332152824877, 3.987781954887218, 28.46356201171875], [8, 0.05809414050145603, 0.047444481777741146, 0.04897963678593192, 0.04547057762615999, 3.9906015037593985, 28.194171905517578], [9, 0.06279628719494007, 0.04404895638139089, 0.04851711865073949, 0.043578996170746315, 4.589285714285714, 30.281517028808594], [10, 0.0545478810953519, 0.047522010969331153, 0.047384920735939154, 0.04424618843494725, 3.9971804511278197, 28.321609497070312], [11, 0.053525435978312594, 0.05032880557094063, 0.048362490419169187, 0.04544974066478137, 3.925751879699248, 28.87025260925293]]\n",
      "-----------------------------------------------------------------------------------------\n"
     ]
    },
    {
     "name": "stderr",
     "output_type": "stream",
     "text": [
      "  0%|          | 1/1065 [00:00<08:03,  2.20it/s]"
     ]
    },
    {
     "name": "stdout",
     "output_type": "stream",
     "text": [
      "Epoch 12: 0%, loss: 8.847903\n"
     ]
    },
    {
     "name": "stderr",
     "output_type": "stream",
     "text": [
      "  9%|▉         | 101/1065 [01:00<10:29,  1.53it/s]"
     ]
    },
    {
     "name": "stdout",
     "output_type": "stream",
     "text": [
      "Epoch 12: 9%, loss: 8.368036\n"
     ]
    },
    {
     "name": "stderr",
     "output_type": "stream",
     "text": [
      " 19%|█▉        | 201/1065 [02:05<09:21,  1.54it/s]"
     ]
    },
    {
     "name": "stdout",
     "output_type": "stream",
     "text": [
      "Epoch 12: 19%, loss: 14.872922\n"
     ]
    },
    {
     "name": "stderr",
     "output_type": "stream",
     "text": [
      " 28%|██▊       | 301/1065 [03:12<08:42,  1.46it/s]"
     ]
    },
    {
     "name": "stdout",
     "output_type": "stream",
     "text": [
      "Epoch 12: 28%, loss: 11.025431\n"
     ]
    },
    {
     "name": "stderr",
     "output_type": "stream",
     "text": [
      " 38%|███▊      | 401/1065 [04:20<07:39,  1.45it/s]"
     ]
    },
    {
     "name": "stdout",
     "output_type": "stream",
     "text": [
      "Epoch 12: 38%, loss: 4.082026\n"
     ]
    },
    {
     "name": "stderr",
     "output_type": "stream",
     "text": [
      " 47%|████▋     | 501/1065 [05:30<06:34,  1.43it/s]"
     ]
    },
    {
     "name": "stdout",
     "output_type": "stream",
     "text": [
      "Epoch 12: 47%, loss: 6.472496\n"
     ]
    },
    {
     "name": "stderr",
     "output_type": "stream",
     "text": [
      " 56%|█████▋    | 601/1065 [06:38<04:54,  1.57it/s]"
     ]
    },
    {
     "name": "stdout",
     "output_type": "stream",
     "text": [
      "Epoch 12: 56%, loss: 21.441980\n"
     ]
    },
    {
     "name": "stderr",
     "output_type": "stream",
     "text": [
      " 66%|██████▌   | 701/1065 [07:48<04:17,  1.41it/s]"
     ]
    },
    {
     "name": "stdout",
     "output_type": "stream",
     "text": [
      "Epoch 12: 66%, loss: 13.145311\n"
     ]
    },
    {
     "name": "stderr",
     "output_type": "stream",
     "text": [
      " 75%|███████▌  | 801/1065 [09:01<03:04,  1.43it/s]"
     ]
    },
    {
     "name": "stdout",
     "output_type": "stream",
     "text": [
      "Epoch 12: 75%, loss: 10.067997\n"
     ]
    },
    {
     "name": "stderr",
     "output_type": "stream",
     "text": [
      " 85%|████████▍ | 901/1065 [10:13<02:00,  1.36it/s]"
     ]
    },
    {
     "name": "stdout",
     "output_type": "stream",
     "text": [
      "Epoch 12: 85%, loss: 68.941895\n"
     ]
    },
    {
     "name": "stderr",
     "output_type": "stream",
     "text": [
      " 94%|█████████▍| 1001/1065 [11:27<00:51,  1.25it/s]"
     ]
    },
    {
     "name": "stdout",
     "output_type": "stream",
     "text": [
      "Epoch 12: 94%, loss: 28.935913\n"
     ]
    },
    {
     "name": "stderr",
     "output_type": "stream",
     "text": [
      "100%|██████████| 1065/1065 [12:14<00:00,  1.45it/s]"
     ]
    },
    {
     "name": "stdout",
     "output_type": "stream",
     "text": [
      "Epoch 12: 100%, loss: 9.438702\n"
     ]
    },
    {
     "name": "stderr",
     "output_type": "stream",
     "text": [
      "\n"
     ]
    },
    {
     "name": "stdout",
     "output_type": "stream",
     "text": [
      "                      (F1-score: 0.0449, Precision: 0.0450, Recall: 0.0514)\n",
      "\n",
      "                      (NDCG: 0.0425)\n",
      "\n",
      "                      (MAE: 3.8863)\n",
      "\n",
      "train_loss= tensor(26.8230)\n",
      "--------------------\n"
     ]
    },
    {
     "name": "stderr",
     "output_type": "stream",
     "text": [
      "100%|██████████| 133/133 [01:09<00:00,  1.90it/s]\n"
     ]
    },
    {
     "name": "stdout",
     "output_type": "stream",
     "text": [
      "                      (F1-score: 0.0403, Precision: 0.0424, Recall: 0.0448)\n",
      "\n",
      "                      (NDCG: 0.0384)\n",
      "\n",
      "                      (MAE: 4.1391)\n",
      "\n",
      "val_loss= tensor(29.4108)\n",
      "--------------------\n"
     ]
    },
    {
     "name": "stderr",
     "output_type": "stream",
     "text": [
      "100%|██████████| 133/133 [01:05<00:00,  2.04it/s]\n"
     ]
    },
    {
     "name": "stdout",
     "output_type": "stream",
     "text": [
      "                      (F1-score: 0.0477, Precision: 0.0481, Recall: 0.0548)\n",
      "\n",
      "                      (NDCG: 0.0449)\n",
      "\n",
      "                      (MAE: 4.0432)\n",
      "\n",
      "--------------------\n",
      "[[1, 0.014516741103914701, 0.012033384751339658, 0.01204602855413809, 0.012406556993982005, 4.05827067669173, 29.585283279418945], [2, 0.010077055914645812, 0.00867089689513396, 0.008720423023691784, 0.008945851676915317, 3.837406015037594, 30.25739288330078], [3, 0.01779890777061012, 0.014229998102302206, 0.014861064129783942, 0.017184604398724167, 3.9990601503759398, 29.043352127075195], [4, 0.02755157074598936, 0.01991117757371626, 0.021589370440213, 0.02446779109891224, 4.227443609022556, 28.880300521850586], [5, 0.043914805291476365, 0.038929727215919877, 0.038457998167372325, 0.03946661167336922, 3.892857142857143, 28.325345993041992], [6, 0.05869601004259138, 0.044622322031887054, 0.047421388046066756, 0.044029810744218696, 4.215225563909774, 28.65696144104004], [7, 0.05623511572985919, 0.04600030494557119, 0.04757945881618709, 0.04418332152824877, 3.987781954887218, 28.46356201171875], [8, 0.05809414050145603, 0.047444481777741146, 0.04897963678593192, 0.04547057762615999, 3.9906015037593985, 28.194171905517578], [9, 0.06279628719494007, 0.04404895638139089, 0.04851711865073949, 0.043578996170746315, 4.589285714285714, 30.281517028808594], [10, 0.0545478810953519, 0.047522010969331153, 0.047384920735939154, 0.04424618843494725, 3.9971804511278197, 28.321609497070312], [11, 0.053525435978312594, 0.05032880557094063, 0.048362490419169187, 0.04544974066478137, 3.925751879699248, 28.87025260925293], [12, 0.054755128511897594, 0.04805640199410981, 0.04773029405064559, 0.044870654352121335, 4.043233082706767, 28.926513671875]]\n",
      "-----------------------------------------------------------------------------------------\n"
     ]
    },
    {
     "name": "stderr",
     "output_type": "stream",
     "text": [
      "  0%|          | 1/1065 [00:00<08:10,  2.17it/s]"
     ]
    },
    {
     "name": "stdout",
     "output_type": "stream",
     "text": [
      "Epoch 13: 0%, loss: 22.263609\n"
     ]
    },
    {
     "name": "stderr",
     "output_type": "stream",
     "text": [
      "  9%|▉         | 101/1065 [00:57<09:50,  1.63it/s]"
     ]
    },
    {
     "name": "stdout",
     "output_type": "stream",
     "text": [
      "Epoch 13: 9%, loss: 30.389637\n"
     ]
    },
    {
     "name": "stderr",
     "output_type": "stream",
     "text": [
      " 19%|█▉        | 201/1065 [02:03<09:19,  1.54it/s]"
     ]
    },
    {
     "name": "stdout",
     "output_type": "stream",
     "text": [
      "Epoch 13: 19%, loss: 27.836735\n"
     ]
    },
    {
     "name": "stderr",
     "output_type": "stream",
     "text": [
      " 28%|██▊       | 301/1065 [03:10<07:55,  1.61it/s]"
     ]
    },
    {
     "name": "stdout",
     "output_type": "stream",
     "text": [
      "Epoch 13: 28%, loss: 16.594559\n"
     ]
    },
    {
     "name": "stderr",
     "output_type": "stream",
     "text": [
      " 38%|███▊      | 401/1065 [04:18<07:27,  1.48it/s]"
     ]
    },
    {
     "name": "stdout",
     "output_type": "stream",
     "text": [
      "Epoch 13: 38%, loss: 8.332631\n"
     ]
    },
    {
     "name": "stderr",
     "output_type": "stream",
     "text": [
      " 47%|████▋     | 501/1065 [05:26<06:21,  1.48it/s]"
     ]
    },
    {
     "name": "stdout",
     "output_type": "stream",
     "text": [
      "Epoch 13: 47%, loss: 18.304592\n"
     ]
    },
    {
     "name": "stderr",
     "output_type": "stream",
     "text": [
      " 56%|█████▋    | 601/1065 [06:35<04:50,  1.60it/s]"
     ]
    },
    {
     "name": "stdout",
     "output_type": "stream",
     "text": [
      "Epoch 13: 56%, loss: 13.561542\n"
     ]
    },
    {
     "name": "stderr",
     "output_type": "stream",
     "text": [
      " 66%|██████▌   | 701/1065 [07:46<04:28,  1.35it/s]"
     ]
    },
    {
     "name": "stdout",
     "output_type": "stream",
     "text": [
      "Epoch 13: 66%, loss: 12.465537\n"
     ]
    },
    {
     "name": "stderr",
     "output_type": "stream",
     "text": [
      " 75%|███████▌  | 801/1065 [08:58<03:13,  1.37it/s]"
     ]
    },
    {
     "name": "stdout",
     "output_type": "stream",
     "text": [
      "Epoch 13: 75%, loss: 30.369209\n"
     ]
    },
    {
     "name": "stderr",
     "output_type": "stream",
     "text": [
      " 85%|████████▍ | 901/1065 [10:09<02:00,  1.36it/s]"
     ]
    },
    {
     "name": "stdout",
     "output_type": "stream",
     "text": [
      "Epoch 13: 85%, loss: 10.616901\n"
     ]
    },
    {
     "name": "stderr",
     "output_type": "stream",
     "text": [
      " 94%|█████████▍| 1001/1065 [11:21<00:44,  1.42it/s]"
     ]
    },
    {
     "name": "stdout",
     "output_type": "stream",
     "text": [
      "Epoch 13: 94%, loss: 4.143627\n"
     ]
    },
    {
     "name": "stderr",
     "output_type": "stream",
     "text": [
      "100%|██████████| 1065/1065 [12:07<00:00,  1.46it/s]"
     ]
    },
    {
     "name": "stdout",
     "output_type": "stream",
     "text": [
      "Epoch 13: 100%, loss: 6.020206\n"
     ]
    },
    {
     "name": "stderr",
     "output_type": "stream",
     "text": [
      "\n"
     ]
    },
    {
     "name": "stdout",
     "output_type": "stream",
     "text": [
      "                      (F1-score: 0.0459, Precision: 0.0465, Recall: 0.0520)\n",
      "\n",
      "                      (NDCG: 0.0435)\n",
      "\n",
      "                      (MAE: 3.8444)\n",
      "\n",
      "train_loss= tensor(26.4743)\n",
      "--------------------\n"
     ]
    },
    {
     "name": "stderr",
     "output_type": "stream",
     "text": [
      "100%|██████████| 133/133 [01:09<00:00,  1.90it/s]\n"
     ]
    },
    {
     "name": "stdout",
     "output_type": "stream",
     "text": [
      "                      (F1-score: 0.0396, Precision: 0.0413, Recall: 0.0446)\n",
      "\n",
      "                      (NDCG: 0.0376)\n",
      "\n",
      "                      (MAE: 4.2030)\n",
      "\n",
      "val_loss= tensor(29.9455)\n",
      "--------------------\n"
     ]
    },
    {
     "name": "stderr",
     "output_type": "stream",
     "text": [
      "100%|██████████| 133/133 [01:06<00:00,  2.00it/s]\n"
     ]
    },
    {
     "name": "stdout",
     "output_type": "stream",
     "text": [
      "                      (F1-score: 0.0479, Precision: 0.0478, Recall: 0.0555)\n",
      "\n",
      "                      (NDCG: 0.0455)\n",
      "\n",
      "                      (MAE: 4.1100)\n",
      "\n",
      "--------------------\n",
      "[[1, 0.014516741103914701, 0.012033384751339658, 0.01204602855413809, 0.012406556993982005, 4.05827067669173, 29.585283279418945], [2, 0.010077055914645812, 0.00867089689513396, 0.008720423023691784, 0.008945851676915317, 3.837406015037594, 30.25739288330078], [3, 0.01779890777061012, 0.014229998102302206, 0.014861064129783942, 0.017184604398724167, 3.9990601503759398, 29.043352127075195], [4, 0.02755157074598936, 0.01991117757371626, 0.021589370440213, 0.02446779109891224, 4.227443609022556, 28.880300521850586], [5, 0.043914805291476365, 0.038929727215919877, 0.038457998167372325, 0.03946661167336922, 3.892857142857143, 28.325345993041992], [6, 0.05869601004259138, 0.044622322031887054, 0.047421388046066756, 0.044029810744218696, 4.215225563909774, 28.65696144104004], [7, 0.05623511572985919, 0.04600030494557119, 0.04757945881618709, 0.04418332152824877, 3.987781954887218, 28.46356201171875], [8, 0.05809414050145603, 0.047444481777741146, 0.04897963678593192, 0.04547057762615999, 3.9906015037593985, 28.194171905517578], [9, 0.06279628719494007, 0.04404895638139089, 0.04851711865073949, 0.043578996170746315, 4.589285714285714, 30.281517028808594], [10, 0.0545478810953519, 0.047522010969331153, 0.047384920735939154, 0.04424618843494725, 3.9971804511278197, 28.321609497070312], [11, 0.053525435978312594, 0.05032880557094063, 0.048362490419169187, 0.04544974066478137, 3.925751879699248, 28.87025260925293], [12, 0.054755128511897594, 0.04805640199410981, 0.04773029405064559, 0.044870654352121335, 4.043233082706767, 28.926513671875], [13, 0.0554966420070822, 0.0478177764488914, 0.04787279027467846, 0.04554840240494481, 4.109962406015038, 29.44315528869629]]\n",
      "-----------------------------------------------------------------------------------------\n"
     ]
    },
    {
     "name": "stderr",
     "output_type": "stream",
     "text": [
      "  0%|          | 1/1065 [00:00<07:51,  2.25it/s]"
     ]
    },
    {
     "name": "stdout",
     "output_type": "stream",
     "text": [
      "Epoch 14: 0%, loss: 9.050827\n"
     ]
    },
    {
     "name": "stderr",
     "output_type": "stream",
     "text": [
      "  9%|▉         | 101/1065 [00:57<09:05,  1.77it/s]"
     ]
    },
    {
     "name": "stdout",
     "output_type": "stream",
     "text": [
      "Epoch 14: 9%, loss: 7.876568\n"
     ]
    },
    {
     "name": "stderr",
     "output_type": "stream",
     "text": [
      " 19%|█▉        | 201/1065 [02:01<09:14,  1.56it/s]"
     ]
    },
    {
     "name": "stdout",
     "output_type": "stream",
     "text": [
      "Epoch 14: 19%, loss: 5.311099\n"
     ]
    },
    {
     "name": "stderr",
     "output_type": "stream",
     "text": [
      " 28%|██▊       | 301/1065 [03:09<09:02,  1.41it/s]"
     ]
    },
    {
     "name": "stdout",
     "output_type": "stream",
     "text": [
      "Epoch 14: 28%, loss: 9.336025\n"
     ]
    },
    {
     "name": "stderr",
     "output_type": "stream",
     "text": [
      " 38%|███▊      | 401/1065 [04:17<07:35,  1.46it/s]"
     ]
    },
    {
     "name": "stdout",
     "output_type": "stream",
     "text": [
      "Epoch 14: 38%, loss: 9.187605\n"
     ]
    },
    {
     "name": "stderr",
     "output_type": "stream",
     "text": [
      " 47%|████▋     | 501/1065 [05:25<06:25,  1.46it/s]"
     ]
    },
    {
     "name": "stdout",
     "output_type": "stream",
     "text": [
      "Epoch 14: 47%, loss: 9.056011\n"
     ]
    },
    {
     "name": "stderr",
     "output_type": "stream",
     "text": [
      " 56%|█████▋    | 601/1065 [06:34<05:28,  1.41it/s]"
     ]
    },
    {
     "name": "stdout",
     "output_type": "stream",
     "text": [
      "Epoch 14: 56%, loss: 17.808922\n"
     ]
    },
    {
     "name": "stderr",
     "output_type": "stream",
     "text": [
      " 66%|██████▌   | 701/1065 [07:44<03:53,  1.56it/s]"
     ]
    },
    {
     "name": "stdout",
     "output_type": "stream",
     "text": [
      "Epoch 14: 66%, loss: 16.752678\n"
     ]
    },
    {
     "name": "stderr",
     "output_type": "stream",
     "text": [
      " 75%|███████▌  | 801/1065 [08:54<03:12,  1.37it/s]"
     ]
    },
    {
     "name": "stdout",
     "output_type": "stream",
     "text": [
      "Epoch 14: 75%, loss: 24.413204\n"
     ]
    },
    {
     "name": "stderr",
     "output_type": "stream",
     "text": [
      " 85%|████████▍ | 901/1065 [10:04<01:53,  1.44it/s]"
     ]
    },
    {
     "name": "stdout",
     "output_type": "stream",
     "text": [
      "Epoch 14: 85%, loss: 18.643446\n"
     ]
    },
    {
     "name": "stderr",
     "output_type": "stream",
     "text": [
      " 94%|█████████▍| 1001/1065 [11:16<00:46,  1.37it/s]"
     ]
    },
    {
     "name": "stdout",
     "output_type": "stream",
     "text": [
      "Epoch 14: 94%, loss: 25.488581\n"
     ]
    },
    {
     "name": "stderr",
     "output_type": "stream",
     "text": [
      "100%|██████████| 1065/1065 [12:02<00:00,  1.47it/s]"
     ]
    },
    {
     "name": "stdout",
     "output_type": "stream",
     "text": [
      "Epoch 14: 100%, loss: 8.003084\n"
     ]
    },
    {
     "name": "stderr",
     "output_type": "stream",
     "text": [
      "\n"
     ]
    },
    {
     "name": "stdout",
     "output_type": "stream",
     "text": [
      "                      (F1-score: 0.0453, Precision: 0.0457, Recall: 0.0515)\n",
      "\n",
      "                      (NDCG: 0.0433)\n",
      "\n",
      "                      (MAE: 3.7674)\n",
      "\n",
      "train_loss= tensor(25.6170)\n",
      "--------------------\n"
     ]
    },
    {
     "name": "stderr",
     "output_type": "stream",
     "text": [
      "100%|██████████| 133/133 [01:12<00:00,  1.84it/s]\n"
     ]
    },
    {
     "name": "stdout",
     "output_type": "stream",
     "text": [
      "                      (F1-score: 0.0398, Precision: 0.0386, Recall: 0.0485)\n",
      "\n",
      "                      (NDCG: 0.0373)\n",
      "\n",
      "                      (MAE: 4.5602)\n",
      "\n",
      "val_loss= tensor(31.0594)\n",
      "--------------------\n"
     ]
    },
    {
     "name": "stderr",
     "output_type": "stream",
     "text": [
      "100%|██████████| 133/133 [01:09<00:00,  1.90it/s]\n"
     ]
    },
    {
     "name": "stdout",
     "output_type": "stream",
     "text": [
      "                      (F1-score: 0.0485, Precision: 0.0466, Recall: 0.0589)\n",
      "\n",
      "                      (NDCG: 0.0445)\n",
      "\n",
      "                      (MAE: 4.4972)\n",
      "\n",
      "--------------------\n",
      "[[1, 0.014516741103914701, 0.012033384751339658, 0.01204602855413809, 0.012406556993982005, 4.05827067669173, 29.585283279418945], [2, 0.010077055914645812, 0.00867089689513396, 0.008720423023691784, 0.008945851676915317, 3.837406015037594, 30.25739288330078], [3, 0.01779890777061012, 0.014229998102302206, 0.014861064129783942, 0.017184604398724167, 3.9990601503759398, 29.043352127075195], [4, 0.02755157074598936, 0.01991117757371626, 0.021589370440213, 0.02446779109891224, 4.227443609022556, 28.880300521850586], [5, 0.043914805291476365, 0.038929727215919877, 0.038457998167372325, 0.03946661167336922, 3.892857142857143, 28.325345993041992], [6, 0.05869601004259138, 0.044622322031887054, 0.047421388046066756, 0.044029810744218696, 4.215225563909774, 28.65696144104004], [7, 0.05623511572985919, 0.04600030494557119, 0.04757945881618709, 0.04418332152824877, 3.987781954887218, 28.46356201171875], [8, 0.05809414050145603, 0.047444481777741146, 0.04897963678593192, 0.04547057762615999, 3.9906015037593985, 28.194171905517578], [9, 0.06279628719494007, 0.04404895638139089, 0.04851711865073949, 0.043578996170746315, 4.589285714285714, 30.281517028808594], [10, 0.0545478810953519, 0.047522010969331153, 0.047384920735939154, 0.04424618843494725, 3.9971804511278197, 28.321609497070312], [11, 0.053525435978312594, 0.05032880557094063, 0.048362490419169187, 0.04544974066478137, 3.925751879699248, 28.87025260925293], [12, 0.054755128511897594, 0.04805640199410981, 0.04773029405064559, 0.044870654352121335, 4.043233082706767, 28.926513671875], [13, 0.0554966420070822, 0.0478177764488914, 0.04787279027467846, 0.04554840240494481, 4.109962406015038, 29.44315528869629], [14, 0.05888990705100319, 0.04659644071169994, 0.0485290308164282, 0.04453086927077992, 4.49718045112782, 31.1901798248291]]\n",
      "-----------------------------------------------------------------------------------------\n"
     ]
    },
    {
     "name": "stderr",
     "output_type": "stream",
     "text": [
      "  0%|          | 1/1065 [00:00<11:51,  1.50it/s]"
     ]
    },
    {
     "name": "stdout",
     "output_type": "stream",
     "text": [
      "Epoch 15: 0%, loss: 5.341551\n"
     ]
    },
    {
     "name": "stderr",
     "output_type": "stream",
     "text": [
      "  9%|▉         | 101/1065 [00:58<09:29,  1.69it/s]"
     ]
    },
    {
     "name": "stdout",
     "output_type": "stream",
     "text": [
      "Epoch 15: 9%, loss: 8.030089\n"
     ]
    },
    {
     "name": "stderr",
     "output_type": "stream",
     "text": [
      " 19%|█▉        | 201/1065 [01:59<09:33,  1.51it/s]"
     ]
    },
    {
     "name": "stdout",
     "output_type": "stream",
     "text": [
      "Epoch 15: 19%, loss: 16.590782\n"
     ]
    },
    {
     "name": "stderr",
     "output_type": "stream",
     "text": [
      " 28%|██▊       | 301/1065 [03:06<08:48,  1.45it/s]"
     ]
    },
    {
     "name": "stdout",
     "output_type": "stream",
     "text": [
      "Epoch 15: 28%, loss: 53.152668\n"
     ]
    },
    {
     "name": "stderr",
     "output_type": "stream",
     "text": [
      " 38%|███▊      | 401/1065 [04:13<07:43,  1.43it/s]"
     ]
    },
    {
     "name": "stdout",
     "output_type": "stream",
     "text": [
      "Epoch 15: 38%, loss: 2.572356\n"
     ]
    },
    {
     "name": "stderr",
     "output_type": "stream",
     "text": [
      " 47%|████▋     | 501/1065 [05:21<06:22,  1.48it/s]"
     ]
    },
    {
     "name": "stdout",
     "output_type": "stream",
     "text": [
      "Epoch 15: 47%, loss: 12.086871\n"
     ]
    },
    {
     "name": "stderr",
     "output_type": "stream",
     "text": [
      " 56%|█████▋    | 601/1065 [06:30<05:41,  1.36it/s]"
     ]
    },
    {
     "name": "stdout",
     "output_type": "stream",
     "text": [
      "Epoch 15: 56%, loss: 10.991505\n"
     ]
    },
    {
     "name": "stderr",
     "output_type": "stream",
     "text": [
      " 66%|██████▌   | 701/1065 [07:42<04:14,  1.43it/s]"
     ]
    },
    {
     "name": "stdout",
     "output_type": "stream",
     "text": [
      "Epoch 15: 66%, loss: 19.465546\n"
     ]
    },
    {
     "name": "stderr",
     "output_type": "stream",
     "text": [
      " 75%|███████▌  | 801/1065 [08:51<02:54,  1.52it/s]"
     ]
    },
    {
     "name": "stdout",
     "output_type": "stream",
     "text": [
      "Epoch 15: 75%, loss: 9.728233\n"
     ]
    },
    {
     "name": "stderr",
     "output_type": "stream",
     "text": [
      " 85%|████████▍ | 901/1065 [10:04<01:50,  1.48it/s]"
     ]
    },
    {
     "name": "stdout",
     "output_type": "stream",
     "text": [
      "Epoch 15: 85%, loss: 10.206036\n"
     ]
    },
    {
     "name": "stderr",
     "output_type": "stream",
     "text": [
      " 94%|█████████▍| 1001/1065 [11:17<00:50,  1.26it/s]"
     ]
    },
    {
     "name": "stdout",
     "output_type": "stream",
     "text": [
      "Epoch 15: 94%, loss: 5.791461\n"
     ]
    },
    {
     "name": "stderr",
     "output_type": "stream",
     "text": [
      "100%|██████████| 1065/1065 [12:04<00:00,  1.47it/s]"
     ]
    },
    {
     "name": "stdout",
     "output_type": "stream",
     "text": [
      "Epoch 15: 100%, loss: 13.627439\n"
     ]
    },
    {
     "name": "stderr",
     "output_type": "stream",
     "text": [
      "\n"
     ]
    },
    {
     "name": "stdout",
     "output_type": "stream",
     "text": [
      "                      (F1-score: 0.0464, Precision: 0.0470, Recall: 0.0523)\n",
      "\n",
      "                      (NDCG: 0.0442)\n",
      "\n",
      "                      (MAE: 3.6907)\n",
      "\n",
      "train_loss= tensor(24.8598)\n",
      "--------------------\n"
     ]
    },
    {
     "name": "stderr",
     "output_type": "stream",
     "text": [
      "100%|██████████| 133/133 [01:11<00:00,  1.87it/s]\n"
     ]
    },
    {
     "name": "stdout",
     "output_type": "stream",
     "text": [
      "                      (F1-score: 0.0395, Precision: 0.0387, Recall: 0.0471)\n",
      "\n",
      "                      (NDCG: 0.0375)\n",
      "\n",
      "                      (MAE: 4.5761)\n",
      "\n",
      "val_loss= tensor(31.6128)\n",
      "--------------------\n"
     ]
    },
    {
     "name": "stderr",
     "output_type": "stream",
     "text": [
      "100%|██████████| 133/133 [01:07<00:00,  1.98it/s]\n"
     ]
    },
    {
     "name": "stdout",
     "output_type": "stream",
     "text": [
      "                      (F1-score: 0.0497, Precision: 0.0480, Recall: 0.0605)\n",
      "\n",
      "                      (NDCG: 0.0447)\n",
      "\n",
      "                      (MAE: 4.5019)\n",
      "\n",
      "--------------------\n",
      "[[1, 0.014516741103914701, 0.012033384751339658, 0.01204602855413809, 0.012406556993982005, 4.05827067669173, 29.585283279418945], [2, 0.010077055914645812, 0.00867089689513396, 0.008720423023691784, 0.008945851676915317, 3.837406015037594, 30.25739288330078], [3, 0.01779890777061012, 0.014229998102302206, 0.014861064129783942, 0.017184604398724167, 3.9990601503759398, 29.043352127075195], [4, 0.02755157074598936, 0.01991117757371626, 0.021589370440213, 0.02446779109891224, 4.227443609022556, 28.880300521850586], [5, 0.043914805291476365, 0.038929727215919877, 0.038457998167372325, 0.03946661167336922, 3.892857142857143, 28.325345993041992], [6, 0.05869601004259138, 0.044622322031887054, 0.047421388046066756, 0.044029810744218696, 4.215225563909774, 28.65696144104004], [7, 0.05623511572985919, 0.04600030494557119, 0.04757945881618709, 0.04418332152824877, 3.987781954887218, 28.46356201171875], [8, 0.05809414050145603, 0.047444481777741146, 0.04897963678593192, 0.04547057762615999, 3.9906015037593985, 28.194171905517578], [9, 0.06279628719494007, 0.04404895638139089, 0.04851711865073949, 0.043578996170746315, 4.589285714285714, 30.281517028808594], [10, 0.0545478810953519, 0.047522010969331153, 0.047384920735939154, 0.04424618843494725, 3.9971804511278197, 28.321609497070312], [11, 0.053525435978312594, 0.05032880557094063, 0.048362490419169187, 0.04544974066478137, 3.925751879699248, 28.87025260925293], [12, 0.054755128511897594, 0.04805640199410981, 0.04773029405064559, 0.044870654352121335, 4.043233082706767, 28.926513671875], [13, 0.0554966420070822, 0.0478177764488914, 0.04787279027467846, 0.04554840240494481, 4.109962406015038, 29.44315528869629], [14, 0.05888990705100319, 0.04659644071169994, 0.0485290308164282, 0.04453086927077992, 4.49718045112782, 31.1901798248291], [15, 0.060496563202289605, 0.04796619213022767, 0.04965564119612189, 0.04465421234236512, 4.5018796992481205, 31.305898666381836]]\n",
      "-----------------------------------------------------------------------------------------\n"
     ]
    },
    {
     "name": "stderr",
     "output_type": "stream",
     "text": [
      "  0%|          | 1/1065 [00:00<12:04,  1.47it/s]"
     ]
    },
    {
     "name": "stdout",
     "output_type": "stream",
     "text": [
      "Epoch 16: 0%, loss: 10.255684\n"
     ]
    },
    {
     "name": "stderr",
     "output_type": "stream",
     "text": [
      "  9%|▉         | 101/1065 [00:57<08:56,  1.80it/s]"
     ]
    },
    {
     "name": "stdout",
     "output_type": "stream",
     "text": [
      "Epoch 16: 9%, loss: 10.896511\n"
     ]
    },
    {
     "name": "stderr",
     "output_type": "stream",
     "text": [
      " 19%|█▉        | 201/1065 [01:59<09:34,  1.50it/s]"
     ]
    },
    {
     "name": "stdout",
     "output_type": "stream",
     "text": [
      "Epoch 16: 19%, loss: 20.311804\n"
     ]
    },
    {
     "name": "stderr",
     "output_type": "stream",
     "text": [
      " 28%|██▊       | 301/1065 [03:05<08:40,  1.47it/s]"
     ]
    },
    {
     "name": "stdout",
     "output_type": "stream",
     "text": [
      "Epoch 16: 28%, loss: 14.232719\n"
     ]
    },
    {
     "name": "stderr",
     "output_type": "stream",
     "text": [
      " 38%|███▊      | 401/1065 [04:13<06:53,  1.60it/s]"
     ]
    },
    {
     "name": "stdout",
     "output_type": "stream",
     "text": [
      "Epoch 16: 38%, loss: 6.831928\n"
     ]
    },
    {
     "name": "stderr",
     "output_type": "stream",
     "text": [
      " 47%|████▋     | 501/1065 [05:23<06:12,  1.52it/s]"
     ]
    },
    {
     "name": "stdout",
     "output_type": "stream",
     "text": [
      "Epoch 16: 47%, loss: 5.447516\n"
     ]
    },
    {
     "name": "stderr",
     "output_type": "stream",
     "text": [
      " 56%|█████▋    | 601/1065 [06:32<05:23,  1.44it/s]"
     ]
    },
    {
     "name": "stdout",
     "output_type": "stream",
     "text": [
      "Epoch 16: 56%, loss: 2.899530\n"
     ]
    },
    {
     "name": "stderr",
     "output_type": "stream",
     "text": [
      " 66%|██████▌   | 701/1065 [07:42<04:22,  1.38it/s]"
     ]
    },
    {
     "name": "stdout",
     "output_type": "stream",
     "text": [
      "Epoch 16: 66%, loss: 10.508211\n"
     ]
    },
    {
     "name": "stderr",
     "output_type": "stream",
     "text": [
      " 75%|███████▌  | 801/1065 [08:53<03:25,  1.29it/s]"
     ]
    },
    {
     "name": "stdout",
     "output_type": "stream",
     "text": [
      "Epoch 16: 75%, loss: 5.614371\n"
     ]
    },
    {
     "name": "stderr",
     "output_type": "stream",
     "text": [
      " 85%|████████▍ | 901/1065 [10:04<01:58,  1.38it/s]"
     ]
    },
    {
     "name": "stdout",
     "output_type": "stream",
     "text": [
      "Epoch 16: 85%, loss: 13.351954\n"
     ]
    },
    {
     "name": "stderr",
     "output_type": "stream",
     "text": [
      " 94%|█████████▍| 1001/1065 [11:16<00:46,  1.39it/s]"
     ]
    },
    {
     "name": "stdout",
     "output_type": "stream",
     "text": [
      "Epoch 16: 94%, loss: 9.302859\n"
     ]
    },
    {
     "name": "stderr",
     "output_type": "stream",
     "text": [
      "100%|██████████| 1065/1065 [12:02<00:00,  1.47it/s]"
     ]
    },
    {
     "name": "stdout",
     "output_type": "stream",
     "text": [
      "Epoch 16: 100%, loss: 19.344864\n"
     ]
    },
    {
     "name": "stderr",
     "output_type": "stream",
     "text": [
      "\n"
     ]
    },
    {
     "name": "stdout",
     "output_type": "stream",
     "text": [
      "                      (F1-score: 0.0458, Precision: 0.0467, Recall: 0.0512)\n",
      "\n",
      "                      (NDCG: 0.0441)\n",
      "\n",
      "                      (MAE: 3.5852)\n",
      "\n",
      "train_loss= tensor(23.8344)\n",
      "--------------------\n"
     ]
    },
    {
     "name": "stderr",
     "output_type": "stream",
     "text": [
      "100%|██████████| 133/133 [01:10<00:00,  1.89it/s]\n"
     ]
    },
    {
     "name": "stdout",
     "output_type": "stream",
     "text": [
      "                      (F1-score: 0.0400, Precision: 0.0444, Recall: 0.0429)\n",
      "\n",
      "                      (NDCG: 0.0373)\n",
      "\n",
      "                      (MAE: 4.4511)\n",
      "\n",
      "val_loss= tensor(33.6942)\n",
      "--------------------\n"
     ]
    },
    {
     "name": "stderr",
     "output_type": "stream",
     "text": [
      "100%|██████████| 133/133 [01:08<00:00,  1.94it/s]\n"
     ]
    },
    {
     "name": "stdout",
     "output_type": "stream",
     "text": [
      "                      (F1-score: 0.0491, Precision: 0.0534, Recall: 0.0536)\n",
      "\n",
      "                      (NDCG: 0.0447)\n",
      "\n",
      "                      (MAE: 4.3130)\n",
      "\n",
      "--------------------\n",
      "[[1, 0.014516741103914701, 0.012033384751339658, 0.01204602855413809, 0.012406556993982005, 4.05827067669173, 29.585283279418945], [2, 0.010077055914645812, 0.00867089689513396, 0.008720423023691784, 0.008945851676915317, 3.837406015037594, 30.25739288330078], [3, 0.01779890777061012, 0.014229998102302206, 0.014861064129783942, 0.017184604398724167, 3.9990601503759398, 29.043352127075195], [4, 0.02755157074598936, 0.01991117757371626, 0.021589370440213, 0.02446779109891224, 4.227443609022556, 28.880300521850586], [5, 0.043914805291476365, 0.038929727215919877, 0.038457998167372325, 0.03946661167336922, 3.892857142857143, 28.325345993041992], [6, 0.05869601004259138, 0.044622322031887054, 0.047421388046066756, 0.044029810744218696, 4.215225563909774, 28.65696144104004], [7, 0.05623511572985919, 0.04600030494557119, 0.04757945881618709, 0.04418332152824877, 3.987781954887218, 28.46356201171875], [8, 0.05809414050145603, 0.047444481777741146, 0.04897963678593192, 0.04547057762615999, 3.9906015037593985, 28.194171905517578], [9, 0.06279628719494007, 0.04404895638139089, 0.04851711865073949, 0.043578996170746315, 4.589285714285714, 30.281517028808594], [10, 0.0545478810953519, 0.047522010969331153, 0.047384920735939154, 0.04424618843494725, 3.9971804511278197, 28.321609497070312], [11, 0.053525435978312594, 0.05032880557094063, 0.048362490419169187, 0.04544974066478137, 3.925751879699248, 28.87025260925293], [12, 0.054755128511897594, 0.04805640199410981, 0.04773029405064559, 0.044870654352121335, 4.043233082706767, 28.926513671875], [13, 0.0554966420070822, 0.0478177764488914, 0.04787279027467846, 0.04554840240494481, 4.109962406015038, 29.44315528869629], [14, 0.05888990705100319, 0.04659644071169994, 0.0485290308164282, 0.04453086927077992, 4.49718045112782, 31.1901798248291], [15, 0.060496563202289605, 0.04796619213022767, 0.04965564119612189, 0.04465421234236512, 4.5018796992481205, 31.305898666381836], [16, 0.05356712364636289, 0.05335499211246175, 0.04913319644296454, 0.04470942426942065, 4.31296992481203, 32.522308349609375]]\n",
      "-----------------------------------------------------------------------------------------\n"
     ]
    },
    {
     "name": "stderr",
     "output_type": "stream",
     "text": [
      "  0%|          | 1/1065 [00:00<07:58,  2.22it/s]"
     ]
    },
    {
     "name": "stdout",
     "output_type": "stream",
     "text": [
      "Epoch 17: 0%, loss: 34.334278\n"
     ]
    },
    {
     "name": "stderr",
     "output_type": "stream",
     "text": [
      "  9%|▉         | 101/1065 [00:55<09:16,  1.73it/s]"
     ]
    },
    {
     "name": "stdout",
     "output_type": "stream",
     "text": [
      "Epoch 17: 9%, loss: 10.624177\n"
     ]
    },
    {
     "name": "stderr",
     "output_type": "stream",
     "text": [
      " 19%|█▉        | 201/1065 [01:55<09:19,  1.54it/s]"
     ]
    },
    {
     "name": "stdout",
     "output_type": "stream",
     "text": [
      "Epoch 17: 19%, loss: 19.099319\n"
     ]
    },
    {
     "name": "stderr",
     "output_type": "stream",
     "text": [
      " 28%|██▊       | 301/1065 [03:02<08:53,  1.43it/s]"
     ]
    },
    {
     "name": "stdout",
     "output_type": "stream",
     "text": [
      "Epoch 17: 28%, loss: 28.145885\n"
     ]
    },
    {
     "name": "stderr",
     "output_type": "stream",
     "text": [
      " 38%|███▊      | 401/1065 [04:10<07:40,  1.44it/s]"
     ]
    },
    {
     "name": "stdout",
     "output_type": "stream",
     "text": [
      "Epoch 17: 38%, loss: 8.433007\n"
     ]
    },
    {
     "name": "stderr",
     "output_type": "stream",
     "text": [
      " 47%|████▋     | 501/1065 [05:20<06:33,  1.43it/s]"
     ]
    },
    {
     "name": "stdout",
     "output_type": "stream",
     "text": [
      "Epoch 17: 47%, loss: 13.794236\n"
     ]
    },
    {
     "name": "stderr",
     "output_type": "stream",
     "text": [
      " 56%|█████▋    | 601/1065 [06:28<05:28,  1.41it/s]"
     ]
    },
    {
     "name": "stdout",
     "output_type": "stream",
     "text": [
      "Epoch 17: 56%, loss: 34.439186\n"
     ]
    },
    {
     "name": "stderr",
     "output_type": "stream",
     "text": [
      " 66%|██████▌   | 701/1065 [07:38<04:12,  1.44it/s]"
     ]
    },
    {
     "name": "stdout",
     "output_type": "stream",
     "text": [
      "Epoch 17: 66%, loss: 6.159781\n"
     ]
    },
    {
     "name": "stderr",
     "output_type": "stream",
     "text": [
      " 75%|███████▌  | 801/1065 [08:49<03:05,  1.43it/s]"
     ]
    },
    {
     "name": "stdout",
     "output_type": "stream",
     "text": [
      "Epoch 17: 75%, loss: 19.261513\n"
     ]
    },
    {
     "name": "stderr",
     "output_type": "stream",
     "text": [
      " 85%|████████▍ | 901/1065 [10:01<01:59,  1.38it/s]"
     ]
    },
    {
     "name": "stdout",
     "output_type": "stream",
     "text": [
      "Epoch 17: 85%, loss: 12.538840\n"
     ]
    },
    {
     "name": "stderr",
     "output_type": "stream",
     "text": [
      " 94%|█████████▍| 1001/1065 [11:13<00:48,  1.31it/s]"
     ]
    },
    {
     "name": "stdout",
     "output_type": "stream",
     "text": [
      "Epoch 17: 94%, loss: 8.398663\n"
     ]
    },
    {
     "name": "stderr",
     "output_type": "stream",
     "text": [
      "100%|██████████| 1065/1065 [12:00<00:00,  1.48it/s]"
     ]
    },
    {
     "name": "stdout",
     "output_type": "stream",
     "text": [
      "Epoch 17: 100%, loss: 5.373068\n"
     ]
    },
    {
     "name": "stderr",
     "output_type": "stream",
     "text": [
      "\n"
     ]
    },
    {
     "name": "stdout",
     "output_type": "stream",
     "text": [
      "                      (F1-score: 0.0460, Precision: 0.0468, Recall: 0.0512)\n",
      "\n",
      "                      (NDCG: 0.0448)\n",
      "\n",
      "                      (MAE: 3.4784)\n",
      "\n",
      "train_loss= tensor(22.7857)\n",
      "--------------------\n"
     ]
    },
    {
     "name": "stderr",
     "output_type": "stream",
     "text": [
      "100%|██████████| 133/133 [01:10<00:00,  1.88it/s]\n"
     ]
    },
    {
     "name": "stdout",
     "output_type": "stream",
     "text": [
      "                      (F1-score: 0.0394, Precision: 0.0423, Recall: 0.0443)\n",
      "\n",
      "                      (NDCG: 0.0365)\n",
      "\n",
      "                      (MAE: 4.6184)\n",
      "\n",
      "val_loss= tensor(33.9199)\n",
      "--------------------\n"
     ]
    },
    {
     "name": "stderr",
     "output_type": "stream",
     "text": [
      "100%|██████████| 133/133 [01:10<00:00,  1.88it/s]\n"
     ]
    },
    {
     "name": "stdout",
     "output_type": "stream",
     "text": [
      "                      (F1-score: 0.0487, Precision: 0.0516, Recall: 0.0549)\n",
      "\n",
      "                      (NDCG: 0.0438)\n",
      "\n",
      "                      (MAE: 4.5009)\n",
      "\n",
      "--------------------\n",
      "[[1, 0.014516741103914701, 0.012033384751339658, 0.01204602855413809, 0.012406556993982005, 4.05827067669173, 29.585283279418945], [2, 0.010077055914645812, 0.00867089689513396, 0.008720423023691784, 0.008945851676915317, 3.837406015037594, 30.25739288330078], [3, 0.01779890777061012, 0.014229998102302206, 0.014861064129783942, 0.017184604398724167, 3.9990601503759398, 29.043352127075195], [4, 0.02755157074598936, 0.01991117757371626, 0.021589370440213, 0.02446779109891224, 4.227443609022556, 28.880300521850586], [5, 0.043914805291476365, 0.038929727215919877, 0.038457998167372325, 0.03946661167336922, 3.892857142857143, 28.325345993041992], [6, 0.05869601004259138, 0.044622322031887054, 0.047421388046066756, 0.044029810744218696, 4.215225563909774, 28.65696144104004], [7, 0.05623511572985919, 0.04600030494557119, 0.04757945881618709, 0.04418332152824877, 3.987781954887218, 28.46356201171875], [8, 0.05809414050145603, 0.047444481777741146, 0.04897963678593192, 0.04547057762615999, 3.9906015037593985, 28.194171905517578], [9, 0.06279628719494007, 0.04404895638139089, 0.04851711865073949, 0.043578996170746315, 4.589285714285714, 30.281517028808594], [10, 0.0545478810953519, 0.047522010969331153, 0.047384920735939154, 0.04424618843494725, 3.9971804511278197, 28.321609497070312], [11, 0.053525435978312594, 0.05032880557094063, 0.048362490419169187, 0.04544974066478137, 3.925751879699248, 28.87025260925293], [12, 0.054755128511897594, 0.04805640199410981, 0.04773029405064559, 0.044870654352121335, 4.043233082706767, 28.926513671875], [13, 0.0554966420070822, 0.0478177764488914, 0.04787279027467846, 0.04554840240494481, 4.109962406015038, 29.44315528869629], [14, 0.05888990705100319, 0.04659644071169994, 0.0485290308164282, 0.04453086927077992, 4.49718045112782, 31.1901798248291], [15, 0.060496563202289605, 0.04796619213022767, 0.04965564119612189, 0.04465421234236512, 4.5018796992481205, 31.305898666381836], [16, 0.05356712364636289, 0.05335499211246175, 0.04913319644296454, 0.04470942426942065, 4.31296992481203, 32.522308349609375], [17, 0.0548658508464249, 0.051644022595467694, 0.04867775265861814, 0.043811546523943264, 4.50093984962406, 33.125370025634766]]\n",
      "-----------------------------------------------------------------------------------------\n"
     ]
    },
    {
     "name": "stderr",
     "output_type": "stream",
     "text": [
      "  0%|          | 1/1065 [00:00<07:43,  2.30it/s]"
     ]
    },
    {
     "name": "stdout",
     "output_type": "stream",
     "text": [
      "Epoch 18: 0%, loss: 9.463678\n"
     ]
    },
    {
     "name": "stderr",
     "output_type": "stream",
     "text": [
      "  9%|▉         | 101/1065 [00:56<09:18,  1.73it/s]"
     ]
    },
    {
     "name": "stdout",
     "output_type": "stream",
     "text": [
      "Epoch 18: 9%, loss: 11.543036\n"
     ]
    },
    {
     "name": "stderr",
     "output_type": "stream",
     "text": [
      " 19%|█▉        | 201/1065 [01:54<08:52,  1.62it/s]"
     ]
    },
    {
     "name": "stdout",
     "output_type": "stream",
     "text": [
      "Epoch 18: 19%, loss: 45.914513\n"
     ]
    },
    {
     "name": "stderr",
     "output_type": "stream",
     "text": [
      " 28%|██▊       | 301/1065 [02:59<08:14,  1.55it/s]"
     ]
    },
    {
     "name": "stdout",
     "output_type": "stream",
     "text": [
      "Epoch 18: 28%, loss: 12.691491\n"
     ]
    },
    {
     "name": "stderr",
     "output_type": "stream",
     "text": [
      " 38%|███▊      | 401/1065 [04:06<07:27,  1.48it/s]"
     ]
    },
    {
     "name": "stdout",
     "output_type": "stream",
     "text": [
      "Epoch 18: 38%, loss: 25.526340\n"
     ]
    },
    {
     "name": "stderr",
     "output_type": "stream",
     "text": [
      " 47%|████▋     | 501/1065 [05:14<06:20,  1.48it/s]"
     ]
    },
    {
     "name": "stdout",
     "output_type": "stream",
     "text": [
      "Epoch 18: 47%, loss: 13.756720\n"
     ]
    },
    {
     "name": "stderr",
     "output_type": "stream",
     "text": [
      " 56%|█████▋    | 601/1065 [06:22<05:12,  1.48it/s]"
     ]
    },
    {
     "name": "stdout",
     "output_type": "stream",
     "text": [
      "Epoch 18: 56%, loss: 6.859465\n"
     ]
    },
    {
     "name": "stderr",
     "output_type": "stream",
     "text": [
      " 66%|██████▌   | 701/1065 [07:33<04:31,  1.34it/s]"
     ]
    },
    {
     "name": "stdout",
     "output_type": "stream",
     "text": [
      "Epoch 18: 66%, loss: 3.492463\n"
     ]
    },
    {
     "name": "stderr",
     "output_type": "stream",
     "text": [
      " 75%|███████▌  | 801/1065 [08:43<03:02,  1.45it/s]"
     ]
    },
    {
     "name": "stdout",
     "output_type": "stream",
     "text": [
      "Epoch 18: 75%, loss: 11.421121\n"
     ]
    },
    {
     "name": "stderr",
     "output_type": "stream",
     "text": [
      " 85%|████████▍ | 901/1065 [09:56<01:59,  1.37it/s]"
     ]
    },
    {
     "name": "stdout",
     "output_type": "stream",
     "text": [
      "Epoch 18: 85%, loss: 6.660973\n"
     ]
    },
    {
     "name": "stderr",
     "output_type": "stream",
     "text": [
      " 94%|█████████▍| 1001/1065 [11:07<00:47,  1.34it/s]"
     ]
    },
    {
     "name": "stdout",
     "output_type": "stream",
     "text": [
      "Epoch 18: 94%, loss: 33.628502\n"
     ]
    },
    {
     "name": "stderr",
     "output_type": "stream",
     "text": [
      "100%|██████████| 1065/1065 [11:54<00:00,  1.49it/s]"
     ]
    },
    {
     "name": "stdout",
     "output_type": "stream",
     "text": [
      "Epoch 18: 100%, loss: 22.435606\n"
     ]
    },
    {
     "name": "stderr",
     "output_type": "stream",
     "text": [
      "\n"
     ]
    },
    {
     "name": "stdout",
     "output_type": "stream",
     "text": [
      "                      (F1-score: 0.0462, Precision: 0.0471, Recall: 0.0513)\n",
      "\n",
      "                      (NDCG: 0.0452)\n",
      "\n",
      "                      (MAE: 3.4067)\n",
      "\n",
      "train_loss= tensor(22.1543)\n",
      "--------------------\n"
     ]
    },
    {
     "name": "stderr",
     "output_type": "stream",
     "text": [
      "100%|██████████| 133/133 [01:10<00:00,  1.88it/s]\n"
     ]
    },
    {
     "name": "stdout",
     "output_type": "stream",
     "text": [
      "                      (F1-score: 0.0394, Precision: 0.0415, Recall: 0.0453)\n",
      "\n",
      "                      (NDCG: 0.0370)\n",
      "\n",
      "                      (MAE: 4.6353)\n",
      "\n",
      "val_loss= tensor(34.0123)\n",
      "--------------------\n"
     ]
    },
    {
     "name": "stderr",
     "output_type": "stream",
     "text": [
      "100%|██████████| 133/133 [01:09<00:00,  1.90it/s]\n"
     ]
    },
    {
     "name": "stdout",
     "output_type": "stream",
     "text": [
      "                      (F1-score: 0.0487, Precision: 0.0497, Recall: 0.0567)\n",
      "\n",
      "                      (NDCG: 0.0442)\n",
      "\n",
      "                      (MAE: 4.5075)\n",
      "\n",
      "--------------------\n",
      "[[1, 0.014516741103914701, 0.012033384751339658, 0.01204602855413809, 0.012406556993982005, 4.05827067669173, 29.585283279418945], [2, 0.010077055914645812, 0.00867089689513396, 0.008720423023691784, 0.008945851676915317, 3.837406015037594, 30.25739288330078], [3, 0.01779890777061012, 0.014229998102302206, 0.014861064129783942, 0.017184604398724167, 3.9990601503759398, 29.043352127075195], [4, 0.02755157074598936, 0.01991117757371626, 0.021589370440213, 0.02446779109891224, 4.227443609022556, 28.880300521850586], [5, 0.043914805291476365, 0.038929727215919877, 0.038457998167372325, 0.03946661167336922, 3.892857142857143, 28.325345993041992], [6, 0.05869601004259138, 0.044622322031887054, 0.047421388046066756, 0.044029810744218696, 4.215225563909774, 28.65696144104004], [7, 0.05623511572985919, 0.04600030494557119, 0.04757945881618709, 0.04418332152824877, 3.987781954887218, 28.46356201171875], [8, 0.05809414050145603, 0.047444481777741146, 0.04897963678593192, 0.04547057762615999, 3.9906015037593985, 28.194171905517578], [9, 0.06279628719494007, 0.04404895638139089, 0.04851711865073949, 0.043578996170746315, 4.589285714285714, 30.281517028808594], [10, 0.0545478810953519, 0.047522010969331153, 0.047384920735939154, 0.04424618843494725, 3.9971804511278197, 28.321609497070312], [11, 0.053525435978312594, 0.05032880557094063, 0.048362490419169187, 0.04544974066478137, 3.925751879699248, 28.87025260925293], [12, 0.054755128511897594, 0.04805640199410981, 0.04773029405064559, 0.044870654352121335, 4.043233082706767, 28.926513671875], [13, 0.0554966420070822, 0.0478177764488914, 0.04787279027467846, 0.04554840240494481, 4.109962406015038, 29.44315528869629], [14, 0.05888990705100319, 0.04659644071169994, 0.0485290308164282, 0.04453086927077992, 4.49718045112782, 31.1901798248291], [15, 0.060496563202289605, 0.04796619213022767, 0.04965564119612189, 0.04465421234236512, 4.5018796992481205, 31.305898666381836], [16, 0.05356712364636289, 0.05335499211246175, 0.04913319644296454, 0.04470942426942065, 4.31296992481203, 32.522308349609375], [17, 0.0548658508464249, 0.051644022595467694, 0.04867775265861814, 0.043811546523943264, 4.50093984962406, 33.125370025634766], [18, 0.05671907862300143, 0.04967661582774258, 0.04866132873439573, 0.04418209464205219, 4.507518796992481, 32.87715530395508]]\n",
      "-----------------------------------------------------------------------------------------\n"
     ]
    },
    {
     "name": "stderr",
     "output_type": "stream",
     "text": [
      "  0%|          | 1/1065 [00:00<09:32,  1.86it/s]"
     ]
    },
    {
     "name": "stdout",
     "output_type": "stream",
     "text": [
      "Epoch 19: 0%, loss: 8.401195\n"
     ]
    },
    {
     "name": "stderr",
     "output_type": "stream",
     "text": [
      "  9%|▉         | 101/1065 [00:56<09:10,  1.75it/s]"
     ]
    },
    {
     "name": "stdout",
     "output_type": "stream",
     "text": [
      "Epoch 19: 9%, loss: 4.842319\n"
     ]
    },
    {
     "name": "stderr",
     "output_type": "stream",
     "text": [
      " 19%|█▉        | 201/1065 [01:53<08:52,  1.62it/s]"
     ]
    },
    {
     "name": "stdout",
     "output_type": "stream",
     "text": [
      "Epoch 19: 19%, loss: 6.076354\n"
     ]
    },
    {
     "name": "stderr",
     "output_type": "stream",
     "text": [
      " 28%|██▊       | 301/1065 [02:57<08:44,  1.46it/s]"
     ]
    },
    {
     "name": "stdout",
     "output_type": "stream",
     "text": [
      "Epoch 19: 28%, loss: 39.231247\n"
     ]
    },
    {
     "name": "stderr",
     "output_type": "stream",
     "text": [
      " 38%|███▊      | 401/1065 [04:05<07:35,  1.46it/s]"
     ]
    },
    {
     "name": "stdout",
     "output_type": "stream",
     "text": [
      "Epoch 19: 38%, loss: 15.903903\n"
     ]
    },
    {
     "name": "stderr",
     "output_type": "stream",
     "text": [
      " 47%|████▋     | 501/1065 [05:13<06:20,  1.48it/s]"
     ]
    },
    {
     "name": "stdout",
     "output_type": "stream",
     "text": [
      "Epoch 19: 47%, loss: 7.220149\n"
     ]
    },
    {
     "name": "stderr",
     "output_type": "stream",
     "text": [
      " 56%|█████▋    | 601/1065 [06:21<05:20,  1.45it/s]"
     ]
    },
    {
     "name": "stdout",
     "output_type": "stream",
     "text": [
      "Epoch 19: 56%, loss: 17.997095\n"
     ]
    },
    {
     "name": "stderr",
     "output_type": "stream",
     "text": [
      " 66%|██████▌   | 701/1065 [07:30<03:56,  1.54it/s]"
     ]
    },
    {
     "name": "stdout",
     "output_type": "stream",
     "text": [
      "Epoch 19: 66%, loss: 62.731792\n"
     ]
    },
    {
     "name": "stderr",
     "output_type": "stream",
     "text": [
      " 75%|███████▌  | 801/1065 [08:42<03:12,  1.37it/s]"
     ]
    },
    {
     "name": "stdout",
     "output_type": "stream",
     "text": [
      "Epoch 19: 75%, loss: 3.508275\n"
     ]
    },
    {
     "name": "stderr",
     "output_type": "stream",
     "text": [
      " 85%|████████▍ | 901/1065 [09:53<01:59,  1.37it/s]"
     ]
    },
    {
     "name": "stdout",
     "output_type": "stream",
     "text": [
      "Epoch 19: 85%, loss: 10.645539\n"
     ]
    },
    {
     "name": "stderr",
     "output_type": "stream",
     "text": [
      " 94%|█████████▍| 1001/1065 [11:05<00:44,  1.43it/s]"
     ]
    },
    {
     "name": "stdout",
     "output_type": "stream",
     "text": [
      "Epoch 19: 94%, loss: 7.499269\n"
     ]
    },
    {
     "name": "stderr",
     "output_type": "stream",
     "text": [
      "100%|██████████| 1065/1065 [11:52<00:00,  1.49it/s]"
     ]
    },
    {
     "name": "stdout",
     "output_type": "stream",
     "text": [
      "Epoch 19: 100%, loss: 59.451698\n"
     ]
    },
    {
     "name": "stderr",
     "output_type": "stream",
     "text": [
      "\n"
     ]
    },
    {
     "name": "stdout",
     "output_type": "stream",
     "text": [
      "                      (F1-score: 0.0466, Precision: 0.0475, Recall: 0.0514)\n",
      "\n",
      "                      (NDCG: 0.0459)\n",
      "\n",
      "                      (MAE: 3.2925)\n",
      "\n",
      "train_loss= tensor(21.1668)\n",
      "--------------------\n"
     ]
    },
    {
     "name": "stderr",
     "output_type": "stream",
     "text": [
      "100%|██████████| 133/133 [01:10<00:00,  1.90it/s]\n"
     ]
    },
    {
     "name": "stdout",
     "output_type": "stream",
     "text": [
      "                      (F1-score: 0.0392, Precision: 0.0436, Recall: 0.0432)\n",
      "\n",
      "                      (NDCG: 0.0362)\n",
      "\n",
      "                      (MAE: 4.8036)\n",
      "\n",
      "val_loss= tensor(35.8958)\n",
      "--------------------\n"
     ]
    },
    {
     "name": "stderr",
     "output_type": "stream",
     "text": [
      "100%|██████████| 133/133 [01:10<00:00,  1.88it/s]\n"
     ]
    },
    {
     "name": "stdout",
     "output_type": "stream",
     "text": [
      "                      (F1-score: 0.0491, Precision: 0.0518, Recall: 0.0560)\n",
      "\n",
      "                      (NDCG: 0.0436)\n",
      "\n",
      "                      (MAE: 4.6711)\n",
      "\n",
      "--------------------\n",
      "[[1, 0.014516741103914701, 0.012033384751339658, 0.01204602855413809, 0.012406556993982005, 4.05827067669173, 29.585283279418945], [2, 0.010077055914645812, 0.00867089689513396, 0.008720423023691784, 0.008945851676915317, 3.837406015037594, 30.25739288330078], [3, 0.01779890777061012, 0.014229998102302206, 0.014861064129783942, 0.017184604398724167, 3.9990601503759398, 29.043352127075195], [4, 0.02755157074598936, 0.01991117757371626, 0.021589370440213, 0.02446779109891224, 4.227443609022556, 28.880300521850586], [5, 0.043914805291476365, 0.038929727215919877, 0.038457998167372325, 0.03946661167336922, 3.892857142857143, 28.325345993041992], [6, 0.05869601004259138, 0.044622322031887054, 0.047421388046066756, 0.044029810744218696, 4.215225563909774, 28.65696144104004], [7, 0.05623511572985919, 0.04600030494557119, 0.04757945881618709, 0.04418332152824877, 3.987781954887218, 28.46356201171875], [8, 0.05809414050145603, 0.047444481777741146, 0.04897963678593192, 0.04547057762615999, 3.9906015037593985, 28.194171905517578], [9, 0.06279628719494007, 0.04404895638139089, 0.04851711865073949, 0.043578996170746315, 4.589285714285714, 30.281517028808594], [10, 0.0545478810953519, 0.047522010969331153, 0.047384920735939154, 0.04424618843494725, 3.9971804511278197, 28.321609497070312], [11, 0.053525435978312594, 0.05032880557094063, 0.048362490419169187, 0.04544974066478137, 3.925751879699248, 28.87025260925293], [12, 0.054755128511897594, 0.04805640199410981, 0.04773029405064559, 0.044870654352121335, 4.043233082706767, 28.926513671875], [13, 0.0554966420070822, 0.0478177764488914, 0.04787279027467846, 0.04554840240494481, 4.109962406015038, 29.44315528869629], [14, 0.05888990705100319, 0.04659644071169994, 0.0485290308164282, 0.04453086927077992, 4.49718045112782, 31.1901798248291], [15, 0.060496563202289605, 0.04796619213022767, 0.04965564119612189, 0.04465421234236512, 4.5018796992481205, 31.305898666381836], [16, 0.05356712364636289, 0.05335499211246175, 0.04913319644296454, 0.04470942426942065, 4.31296992481203, 32.522308349609375], [17, 0.0548658508464249, 0.051644022595467694, 0.04867775265861814, 0.043811546523943264, 4.50093984962406, 33.125370025634766], [18, 0.05671907862300143, 0.04967661582774258, 0.04866132873439573, 0.04418209464205219, 4.507518796992481, 32.87715530395508], [19, 0.05600575384429448, 0.051831251931711245, 0.04909037298235686, 0.0435800282442172, 4.671052631578948, 35.08435821533203]]\n",
      "-----------------------------------------------------------------------------------------\n"
     ]
    },
    {
     "name": "stderr",
     "output_type": "stream",
     "text": [
      "  0%|          | 1/1065 [00:00<08:10,  2.17it/s]"
     ]
    },
    {
     "name": "stdout",
     "output_type": "stream",
     "text": [
      "Epoch 20: 0%, loss: 3.118263\n"
     ]
    },
    {
     "name": "stderr",
     "output_type": "stream",
     "text": [
      "  9%|▉         | 101/1065 [00:57<08:37,  1.86it/s]"
     ]
    },
    {
     "name": "stdout",
     "output_type": "stream",
     "text": [
      "Epoch 20: 9%, loss: 5.870672\n"
     ]
    },
    {
     "name": "stderr",
     "output_type": "stream",
     "text": [
      " 19%|█▉        | 201/1065 [01:54<08:36,  1.67it/s]"
     ]
    },
    {
     "name": "stdout",
     "output_type": "stream",
     "text": [
      "Epoch 20: 19%, loss: 4.909291\n"
     ]
    },
    {
     "name": "stderr",
     "output_type": "stream",
     "text": [
      " 28%|██▊       | 301/1065 [02:56<08:31,  1.49it/s]"
     ]
    },
    {
     "name": "stdout",
     "output_type": "stream",
     "text": [
      "Epoch 20: 28%, loss: 110.943947\n"
     ]
    },
    {
     "name": "stderr",
     "output_type": "stream",
     "text": [
      " 38%|███▊      | 401/1065 [04:02<07:43,  1.43it/s]"
     ]
    },
    {
     "name": "stdout",
     "output_type": "stream",
     "text": [
      "Epoch 20: 38%, loss: 7.515481\n"
     ]
    },
    {
     "name": "stderr",
     "output_type": "stream",
     "text": [
      " 47%|████▋     | 501/1065 [05:09<06:28,  1.45it/s]"
     ]
    },
    {
     "name": "stdout",
     "output_type": "stream",
     "text": [
      "Epoch 20: 47%, loss: 32.052189\n"
     ]
    },
    {
     "name": "stderr",
     "output_type": "stream",
     "text": [
      " 56%|█████▋    | 601/1065 [06:17<05:32,  1.39it/s]"
     ]
    },
    {
     "name": "stdout",
     "output_type": "stream",
     "text": [
      "Epoch 20: 56%, loss: 152.724579\n"
     ]
    },
    {
     "name": "stderr",
     "output_type": "stream",
     "text": [
      " 66%|██████▌   | 701/1065 [07:27<04:13,  1.44it/s]"
     ]
    },
    {
     "name": "stdout",
     "output_type": "stream",
     "text": [
      "Epoch 20: 66%, loss: 18.188265\n"
     ]
    },
    {
     "name": "stderr",
     "output_type": "stream",
     "text": [
      " 75%|███████▌  | 801/1065 [08:38<02:57,  1.49it/s]"
     ]
    },
    {
     "name": "stdout",
     "output_type": "stream",
     "text": [
      "Epoch 20: 75%, loss: 5.125022\n"
     ]
    },
    {
     "name": "stderr",
     "output_type": "stream",
     "text": [
      " 85%|████████▍ | 901/1065 [09:49<01:59,  1.37it/s]"
     ]
    },
    {
     "name": "stdout",
     "output_type": "stream",
     "text": [
      "Epoch 20: 85%, loss: 5.156754\n"
     ]
    },
    {
     "name": "stderr",
     "output_type": "stream",
     "text": [
      " 94%|█████████▍| 1001/1065 [11:01<00:46,  1.37it/s]"
     ]
    },
    {
     "name": "stdout",
     "output_type": "stream",
     "text": [
      "Epoch 20: 94%, loss: 33.073761\n"
     ]
    },
    {
     "name": "stderr",
     "output_type": "stream",
     "text": [
      "100%|██████████| 1065/1065 [11:48<00:00,  1.50it/s]"
     ]
    },
    {
     "name": "stdout",
     "output_type": "stream",
     "text": [
      "Epoch 20: 100%, loss: 12.981079\n"
     ]
    },
    {
     "name": "stderr",
     "output_type": "stream",
     "text": [
      "\n"
     ]
    },
    {
     "name": "stdout",
     "output_type": "stream",
     "text": [
      "                      (F1-score: 0.0468, Precision: 0.0477, Recall: 0.0516)\n",
      "\n",
      "                      (NDCG: 0.0458)\n",
      "\n",
      "                      (MAE: 3.2282)\n",
      "\n",
      "train_loss= tensor(20.4885)\n",
      "--------------------\n"
     ]
    },
    {
     "name": "stderr",
     "output_type": "stream",
     "text": [
      "100%|██████████| 133/133 [01:10<00:00,  1.89it/s]\n"
     ]
    },
    {
     "name": "stdout",
     "output_type": "stream",
     "text": [
      "                      (F1-score: 0.0404, Precision: 0.0402, Recall: 0.0492)\n",
      "\n",
      "                      (NDCG: 0.0369)\n",
      "\n",
      "                      (MAE: 5.0395)\n",
      "\n",
      "val_loss= tensor(36.4149)\n",
      "--------------------\n"
     ]
    },
    {
     "name": "stderr",
     "output_type": "stream",
     "text": [
      "100%|██████████| 133/133 [01:11<00:00,  1.87it/s]\n"
     ]
    },
    {
     "name": "stdout",
     "output_type": "stream",
     "text": [
      "                      (F1-score: 0.0482, Precision: 0.0458, Recall: 0.0606)\n",
      "\n",
      "                      (NDCG: 0.0431)\n",
      "\n",
      "                      (MAE: 4.9897)\n",
      "\n",
      "--------------------\n",
      "[[1, 0.014516741103914701, 0.012033384751339658, 0.01204602855413809, 0.012406556993982005, 4.05827067669173, 29.585283279418945], [2, 0.010077055914645812, 0.00867089689513396, 0.008720423023691784, 0.008945851676915317, 3.837406015037594, 30.25739288330078], [3, 0.01779890777061012, 0.014229998102302206, 0.014861064129783942, 0.017184604398724167, 3.9990601503759398, 29.043352127075195], [4, 0.02755157074598936, 0.01991117757371626, 0.021589370440213, 0.02446779109891224, 4.227443609022556, 28.880300521850586], [5, 0.043914805291476365, 0.038929727215919877, 0.038457998167372325, 0.03946661167336922, 3.892857142857143, 28.325345993041992], [6, 0.05869601004259138, 0.044622322031887054, 0.047421388046066756, 0.044029810744218696, 4.215225563909774, 28.65696144104004], [7, 0.05623511572985919, 0.04600030494557119, 0.04757945881618709, 0.04418332152824877, 3.987781954887218, 28.46356201171875], [8, 0.05809414050145603, 0.047444481777741146, 0.04897963678593192, 0.04547057762615999, 3.9906015037593985, 28.194171905517578], [9, 0.06279628719494007, 0.04404895638139089, 0.04851711865073949, 0.043578996170746315, 4.589285714285714, 30.281517028808594], [10, 0.0545478810953519, 0.047522010969331153, 0.047384920735939154, 0.04424618843494725, 3.9971804511278197, 28.321609497070312], [11, 0.053525435978312594, 0.05032880557094063, 0.048362490419169187, 0.04544974066478137, 3.925751879699248, 28.87025260925293], [12, 0.054755128511897594, 0.04805640199410981, 0.04773029405064559, 0.044870654352121335, 4.043233082706767, 28.926513671875], [13, 0.0554966420070822, 0.0478177764488914, 0.04787279027467846, 0.04554840240494481, 4.109962406015038, 29.44315528869629], [14, 0.05888990705100319, 0.04659644071169994, 0.0485290308164282, 0.04453086927077992, 4.49718045112782, 31.1901798248291], [15, 0.060496563202289605, 0.04796619213022767, 0.04965564119612189, 0.04465421234236512, 4.5018796992481205, 31.305898666381836], [16, 0.05356712364636289, 0.05335499211246175, 0.04913319644296454, 0.04470942426942065, 4.31296992481203, 32.522308349609375], [17, 0.0548658508464249, 0.051644022595467694, 0.04867775265861814, 0.043811546523943264, 4.50093984962406, 33.125370025634766], [18, 0.05671907862300143, 0.04967661582774258, 0.04866132873439573, 0.04418209464205219, 4.507518796992481, 32.87715530395508], [19, 0.05600575384429448, 0.051831251931711245, 0.04909037298235686, 0.0435800282442172, 4.671052631578948, 35.08435821533203], [20, 0.06063799511075421, 0.04582799248339996, 0.04817860987421005, 0.043079810467359606, 4.989661654135339, 36.45575714111328]]\n",
      "-----------------------------------------------------------------------------------------\n"
     ]
    },
    {
     "name": "stderr",
     "output_type": "stream",
     "text": [
      "  0%|          | 1/1065 [00:00<08:17,  2.14it/s]"
     ]
    },
    {
     "name": "stdout",
     "output_type": "stream",
     "text": [
      "Epoch 21: 0%, loss: 12.536704\n"
     ]
    },
    {
     "name": "stderr",
     "output_type": "stream",
     "text": [
      "  9%|▉         | 101/1065 [00:57<08:47,  1.83it/s]"
     ]
    },
    {
     "name": "stdout",
     "output_type": "stream",
     "text": [
      "Epoch 21: 9%, loss: 43.200729\n"
     ]
    },
    {
     "name": "stderr",
     "output_type": "stream",
     "text": [
      " 19%|█▉        | 201/1065 [01:52<08:14,  1.75it/s]"
     ]
    },
    {
     "name": "stdout",
     "output_type": "stream",
     "text": [
      "Epoch 21: 19%, loss: 3.544582\n"
     ]
    },
    {
     "name": "stderr",
     "output_type": "stream",
     "text": [
      " 28%|██▊       | 301/1065 [02:51<07:37,  1.67it/s]"
     ]
    },
    {
     "name": "stdout",
     "output_type": "stream",
     "text": [
      "Epoch 21: 28%, loss: 3.788229\n"
     ]
    },
    {
     "name": "stderr",
     "output_type": "stream",
     "text": [
      " 38%|███▊      | 401/1065 [03:56<07:47,  1.42it/s]"
     ]
    },
    {
     "name": "stdout",
     "output_type": "stream",
     "text": [
      "Epoch 21: 38%, loss: 21.499411\n"
     ]
    },
    {
     "name": "stderr",
     "output_type": "stream",
     "text": [
      " 47%|████▋     | 501/1065 [05:03<06:09,  1.53it/s]"
     ]
    },
    {
     "name": "stdout",
     "output_type": "stream",
     "text": [
      "Epoch 21: 47%, loss: 29.636129\n"
     ]
    },
    {
     "name": "stderr",
     "output_type": "stream",
     "text": [
      " 56%|█████▋    | 601/1065 [06:12<04:52,  1.59it/s]"
     ]
    },
    {
     "name": "stdout",
     "output_type": "stream",
     "text": [
      "Epoch 21: 56%, loss: 12.934671\n"
     ]
    },
    {
     "name": "stderr",
     "output_type": "stream",
     "text": [
      " 66%|██████▌   | 701/1065 [07:22<04:10,  1.45it/s]"
     ]
    },
    {
     "name": "stdout",
     "output_type": "stream",
     "text": [
      "Epoch 21: 66%, loss: 5.547701\n"
     ]
    },
    {
     "name": "stderr",
     "output_type": "stream",
     "text": [
      " 75%|███████▌  | 801/1065 [08:32<03:03,  1.44it/s]"
     ]
    },
    {
     "name": "stdout",
     "output_type": "stream",
     "text": [
      "Epoch 21: 75%, loss: 10.243256\n"
     ]
    },
    {
     "name": "stderr",
     "output_type": "stream",
     "text": [
      " 85%|████████▍ | 901/1065 [09:42<01:55,  1.42it/s]"
     ]
    },
    {
     "name": "stdout",
     "output_type": "stream",
     "text": [
      "Epoch 21: 85%, loss: 8.800009\n"
     ]
    },
    {
     "name": "stderr",
     "output_type": "stream",
     "text": [
      " 94%|█████████▍| 1001/1065 [10:55<00:48,  1.32it/s]"
     ]
    },
    {
     "name": "stdout",
     "output_type": "stream",
     "text": [
      "Epoch 21: 94%, loss: 2.006439\n"
     ]
    },
    {
     "name": "stderr",
     "output_type": "stream",
     "text": [
      "100%|██████████| 1065/1065 [11:40<00:00,  1.52it/s]"
     ]
    },
    {
     "name": "stdout",
     "output_type": "stream",
     "text": [
      "Epoch 21: 100%, loss: 7.487165\n"
     ]
    },
    {
     "name": "stderr",
     "output_type": "stream",
     "text": [
      "\n"
     ]
    },
    {
     "name": "stdout",
     "output_type": "stream",
     "text": [
      "                      (F1-score: 0.0467, Precision: 0.0477, Recall: 0.0510)\n",
      "\n",
      "                      (NDCG: 0.0462)\n",
      "\n",
      "                      (MAE: 3.1473)\n",
      "\n",
      "train_loss= tensor(19.8108)\n",
      "--------------------\n"
     ]
    },
    {
     "name": "stderr",
     "output_type": "stream",
     "text": [
      "100%|██████████| 133/133 [01:11<00:00,  1.85it/s]\n"
     ]
    },
    {
     "name": "stdout",
     "output_type": "stream",
     "text": [
      "                      (F1-score: 0.0407, Precision: 0.0444, Recall: 0.0459)\n",
      "\n",
      "                      (NDCG: 0.0369)\n",
      "\n",
      "                      (MAE: 4.9314)\n",
      "\n",
      "val_loss= tensor(36.8046)\n",
      "--------------------\n"
     ]
    },
    {
     "name": "stderr",
     "output_type": "stream",
     "text": [
      "100%|██████████| 133/133 [01:09<00:00,  1.90it/s]\n"
     ]
    },
    {
     "name": "stdout",
     "output_type": "stream",
     "text": [
      "                      (F1-score: 0.0477, Precision: 0.0486, Recall: 0.0563)\n",
      "\n",
      "                      (NDCG: 0.0430)\n",
      "\n",
      "                      (MAE: 4.8412)\n",
      "\n",
      "--------------------\n",
      "[[1, 0.014516741103914701, 0.012033384751339658, 0.01204602855413809, 0.012406556993982005, 4.05827067669173, 29.585283279418945], [2, 0.010077055914645812, 0.00867089689513396, 0.008720423023691784, 0.008945851676915317, 3.837406015037594, 30.25739288330078], [3, 0.01779890777061012, 0.014229998102302206, 0.014861064129783942, 0.017184604398724167, 3.9990601503759398, 29.043352127075195], [4, 0.02755157074598936, 0.01991117757371626, 0.021589370440213, 0.02446779109891224, 4.227443609022556, 28.880300521850586], [5, 0.043914805291476365, 0.038929727215919877, 0.038457998167372325, 0.03946661167336922, 3.892857142857143, 28.325345993041992], [6, 0.05869601004259138, 0.044622322031887054, 0.047421388046066756, 0.044029810744218696, 4.215225563909774, 28.65696144104004], [7, 0.05623511572985919, 0.04600030494557119, 0.04757945881618709, 0.04418332152824877, 3.987781954887218, 28.46356201171875], [8, 0.05809414050145603, 0.047444481777741146, 0.04897963678593192, 0.04547057762615999, 3.9906015037593985, 28.194171905517578], [9, 0.06279628719494007, 0.04404895638139089, 0.04851711865073949, 0.043578996170746315, 4.589285714285714, 30.281517028808594], [10, 0.0545478810953519, 0.047522010969331153, 0.047384920735939154, 0.04424618843494725, 3.9971804511278197, 28.321609497070312], [11, 0.053525435978312594, 0.05032880557094063, 0.048362490419169187, 0.04544974066478137, 3.925751879699248, 28.87025260925293], [12, 0.054755128511897594, 0.04805640199410981, 0.04773029405064559, 0.044870654352121335, 4.043233082706767, 28.926513671875], [13, 0.0554966420070822, 0.0478177764488914, 0.04787279027467846, 0.04554840240494481, 4.109962406015038, 29.44315528869629], [14, 0.05888990705100319, 0.04659644071169994, 0.0485290308164282, 0.04453086927077992, 4.49718045112782, 31.1901798248291], [15, 0.060496563202289605, 0.04796619213022767, 0.04965564119612189, 0.04465421234236512, 4.5018796992481205, 31.305898666381836], [16, 0.05356712364636289, 0.05335499211246175, 0.04913319644296454, 0.04470942426942065, 4.31296992481203, 32.522308349609375], [17, 0.0548658508464249, 0.051644022595467694, 0.04867775265861814, 0.043811546523943264, 4.50093984962406, 33.125370025634766], [18, 0.05671907862300143, 0.04967661582774258, 0.04866132873439573, 0.04418209464205219, 4.507518796992481, 32.87715530395508], [19, 0.05600575384429448, 0.051831251931711245, 0.04909037298235686, 0.0435800282442172, 4.671052631578948, 35.08435821533203], [20, 0.06063799511075421, 0.04582799248339996, 0.04817860987421005, 0.043079810467359606, 4.989661654135339, 36.45575714111328], [21, 0.056250051141717106, 0.04861846327737148, 0.04769431568202764, 0.04300154637128703, 4.841165413533835, 36.472721099853516]]\n",
      "-----------------------------------------------------------------------------------------\n"
     ]
    },
    {
     "name": "stderr",
     "output_type": "stream",
     "text": [
      "  0%|          | 1/1065 [00:00<08:43,  2.03it/s]"
     ]
    },
    {
     "name": "stdout",
     "output_type": "stream",
     "text": [
      "Epoch 22: 0%, loss: 7.141261\n"
     ]
    },
    {
     "name": "stderr",
     "output_type": "stream",
     "text": [
      "  9%|▉         | 101/1065 [01:01<09:50,  1.63it/s]"
     ]
    },
    {
     "name": "stdout",
     "output_type": "stream",
     "text": [
      "Epoch 22: 9%, loss: 33.548210\n"
     ]
    },
    {
     "name": "stderr",
     "output_type": "stream",
     "text": [
      " 19%|█▉        | 201/1065 [01:59<08:29,  1.70it/s]"
     ]
    },
    {
     "name": "stdout",
     "output_type": "stream",
     "text": [
      "Epoch 22: 19%, loss: 12.966313\n"
     ]
    },
    {
     "name": "stderr",
     "output_type": "stream",
     "text": [
      " 28%|██▊       | 301/1065 [02:56<07:43,  1.65it/s]"
     ]
    },
    {
     "name": "stdout",
     "output_type": "stream",
     "text": [
      "Epoch 22: 28%, loss: 4.227005\n"
     ]
    },
    {
     "name": "stderr",
     "output_type": "stream",
     "text": [
      " 38%|███▊      | 401/1065 [03:59<07:51,  1.41it/s]"
     ]
    },
    {
     "name": "stdout",
     "output_type": "stream",
     "text": [
      "Epoch 22: 38%, loss: 3.637074\n"
     ]
    },
    {
     "name": "stderr",
     "output_type": "stream",
     "text": [
      " 47%|████▋     | 501/1065 [05:07<06:26,  1.46it/s]"
     ]
    },
    {
     "name": "stdout",
     "output_type": "stream",
     "text": [
      "Epoch 22: 47%, loss: 13.098096\n"
     ]
    },
    {
     "name": "stderr",
     "output_type": "stream",
     "text": [
      " 56%|█████▋    | 601/1065 [06:14<04:51,  1.59it/s]"
     ]
    },
    {
     "name": "stdout",
     "output_type": "stream",
     "text": [
      "Epoch 22: 56%, loss: 24.033678\n"
     ]
    },
    {
     "name": "stderr",
     "output_type": "stream",
     "text": [
      " 66%|██████▌   | 701/1065 [07:23<04:09,  1.46it/s]"
     ]
    },
    {
     "name": "stdout",
     "output_type": "stream",
     "text": [
      "Epoch 22: 66%, loss: 14.399912\n"
     ]
    },
    {
     "name": "stderr",
     "output_type": "stream",
     "text": [
      " 75%|███████▌  | 801/1065 [08:33<03:03,  1.44it/s]"
     ]
    },
    {
     "name": "stdout",
     "output_type": "stream",
     "text": [
      "Epoch 22: 75%, loss: 17.402338\n"
     ]
    },
    {
     "name": "stderr",
     "output_type": "stream",
     "text": [
      " 85%|████████▍ | 901/1065 [09:44<01:51,  1.47it/s]"
     ]
    },
    {
     "name": "stdout",
     "output_type": "stream",
     "text": [
      "Epoch 22: 85%, loss: 18.111774\n"
     ]
    },
    {
     "name": "stderr",
     "output_type": "stream",
     "text": [
      " 94%|█████████▍| 1001/1065 [10:56<00:48,  1.33it/s]"
     ]
    },
    {
     "name": "stdout",
     "output_type": "stream",
     "text": [
      "Epoch 22: 94%, loss: 7.548491\n"
     ]
    },
    {
     "name": "stderr",
     "output_type": "stream",
     "text": [
      "100%|██████████| 1065/1065 [11:42<00:00,  1.52it/s]"
     ]
    },
    {
     "name": "stdout",
     "output_type": "stream",
     "text": [
      "Epoch 22: 100%, loss: 6.248468\n"
     ]
    },
    {
     "name": "stderr",
     "output_type": "stream",
     "text": [
      "\n"
     ]
    },
    {
     "name": "stdout",
     "output_type": "stream",
     "text": [
      "                      (F1-score: 0.0473, Precision: 0.0484, Recall: 0.0515)\n",
      "\n",
      "                      (NDCG: 0.0465)\n",
      "\n",
      "                      (MAE: 3.0917)\n",
      "\n",
      "train_loss= tensor(19.0645)\n",
      "--------------------\n"
     ]
    },
    {
     "name": "stderr",
     "output_type": "stream",
     "text": [
      "100%|██████████| 133/133 [01:11<00:00,  1.85it/s]\n"
     ]
    },
    {
     "name": "stdout",
     "output_type": "stream",
     "text": [
      "                      (F1-score: 0.0401, Precision: 0.0436, Recall: 0.0452)\n",
      "\n",
      "                      (NDCG: 0.0366)\n",
      "\n",
      "                      (MAE: 4.8656)\n",
      "\n",
      "val_loss= tensor(36.9963)\n",
      "--------------------\n"
     ]
    },
    {
     "name": "stderr",
     "output_type": "stream",
     "text": [
      "100%|██████████| 133/133 [01:11<00:00,  1.87it/s]\n"
     ]
    },
    {
     "name": "stdout",
     "output_type": "stream",
     "text": [
      "                      (F1-score: 0.0488, Precision: 0.0509, Recall: 0.0563)\n",
      "\n",
      "                      (NDCG: 0.0441)\n",
      "\n",
      "                      (MAE: 4.6927)\n",
      "\n",
      "--------------------\n",
      "[[1, 0.014516741103914701, 0.012033384751339658, 0.01204602855413809, 0.012406556993982005, 4.05827067669173, 29.585283279418945], [2, 0.010077055914645812, 0.00867089689513396, 0.008720423023691784, 0.008945851676915317, 3.837406015037594, 30.25739288330078], [3, 0.01779890777061012, 0.014229998102302206, 0.014861064129783942, 0.017184604398724167, 3.9990601503759398, 29.043352127075195], [4, 0.02755157074598936, 0.01991117757371626, 0.021589370440213, 0.02446779109891224, 4.227443609022556, 28.880300521850586], [5, 0.043914805291476365, 0.038929727215919877, 0.038457998167372325, 0.03946661167336922, 3.892857142857143, 28.325345993041992], [6, 0.05869601004259138, 0.044622322031887054, 0.047421388046066756, 0.044029810744218696, 4.215225563909774, 28.65696144104004], [7, 0.05623511572985919, 0.04600030494557119, 0.04757945881618709, 0.04418332152824877, 3.987781954887218, 28.46356201171875], [8, 0.05809414050145603, 0.047444481777741146, 0.04897963678593192, 0.04547057762615999, 3.9906015037593985, 28.194171905517578], [9, 0.06279628719494007, 0.04404895638139089, 0.04851711865073949, 0.043578996170746315, 4.589285714285714, 30.281517028808594], [10, 0.0545478810953519, 0.047522010969331153, 0.047384920735939154, 0.04424618843494725, 3.9971804511278197, 28.321609497070312], [11, 0.053525435978312594, 0.05032880557094063, 0.048362490419169187, 0.04544974066478137, 3.925751879699248, 28.87025260925293], [12, 0.054755128511897594, 0.04805640199410981, 0.04773029405064559, 0.044870654352121335, 4.043233082706767, 28.926513671875], [13, 0.0554966420070822, 0.0478177764488914, 0.04787279027467846, 0.04554840240494481, 4.109962406015038, 29.44315528869629], [14, 0.05888990705100319, 0.04659644071169994, 0.0485290308164282, 0.04453086927077992, 4.49718045112782, 31.1901798248291], [15, 0.060496563202289605, 0.04796619213022767, 0.04965564119612189, 0.04465421234236512, 4.5018796992481205, 31.305898666381836], [16, 0.05356712364636289, 0.05335499211246175, 0.04913319644296454, 0.04470942426942065, 4.31296992481203, 32.522308349609375], [17, 0.0548658508464249, 0.051644022595467694, 0.04867775265861814, 0.043811546523943264, 4.50093984962406, 33.125370025634766], [18, 0.05671907862300143, 0.04967661582774258, 0.04866132873439573, 0.04418209464205219, 4.507518796992481, 32.87715530395508], [19, 0.05600575384429448, 0.051831251931711245, 0.04909037298235686, 0.0435800282442172, 4.671052631578948, 35.08435821533203], [20, 0.06063799511075421, 0.04582799248339996, 0.04817860987421005, 0.043079810467359606, 4.989661654135339, 36.45575714111328], [21, 0.056250051141717106, 0.04861846327737148, 0.04769431568202764, 0.04300154637128703, 4.841165413533835, 36.472721099853516], [22, 0.056270033390291185, 0.05090081770296305, 0.04878874141046645, 0.044146698035642896, 4.692669172932331, 35.886531829833984]]\n",
      "-----------------------------------------------------------------------------------------\n"
     ]
    },
    {
     "name": "stderr",
     "output_type": "stream",
     "text": [
      "  0%|          | 1/1065 [00:00<08:52,  2.00it/s]"
     ]
    },
    {
     "name": "stdout",
     "output_type": "stream",
     "text": [
      "Epoch 23: 0%, loss: 10.592002\n"
     ]
    },
    {
     "name": "stderr",
     "output_type": "stream",
     "text": [
      "  9%|▉         | 101/1065 [01:03<08:01,  2.00it/s]"
     ]
    },
    {
     "name": "stdout",
     "output_type": "stream",
     "text": [
      "Epoch 23: 9%, loss: 14.454918\n"
     ]
    },
    {
     "name": "stderr",
     "output_type": "stream",
     "text": [
      " 19%|█▉        | 201/1065 [02:03<08:36,  1.67it/s]"
     ]
    },
    {
     "name": "stdout",
     "output_type": "stream",
     "text": [
      "Epoch 23: 19%, loss: 81.900688\n"
     ]
    },
    {
     "name": "stderr",
     "output_type": "stream",
     "text": [
      " 28%|██▊       | 301/1065 [02:59<07:42,  1.65it/s]"
     ]
    },
    {
     "name": "stdout",
     "output_type": "stream",
     "text": [
      "Epoch 23: 28%, loss: 19.284731\n"
     ]
    },
    {
     "name": "stderr",
     "output_type": "stream",
     "text": [
      " 38%|███▊      | 401/1065 [03:59<07:26,  1.49it/s]"
     ]
    },
    {
     "name": "stdout",
     "output_type": "stream",
     "text": [
      "Epoch 23: 38%, loss: 11.098244\n"
     ]
    },
    {
     "name": "stderr",
     "output_type": "stream",
     "text": [
      " 47%|████▋     | 501/1065 [05:06<06:26,  1.46it/s]"
     ]
    },
    {
     "name": "stdout",
     "output_type": "stream",
     "text": [
      "Epoch 23: 47%, loss: 12.561862\n"
     ]
    },
    {
     "name": "stderr",
     "output_type": "stream",
     "text": [
      " 56%|█████▋    | 601/1065 [06:15<05:22,  1.44it/s]"
     ]
    },
    {
     "name": "stdout",
     "output_type": "stream",
     "text": [
      "Epoch 23: 56%, loss: 4.659052\n"
     ]
    },
    {
     "name": "stderr",
     "output_type": "stream",
     "text": [
      " 66%|██████▌   | 701/1065 [07:24<04:18,  1.41it/s]"
     ]
    },
    {
     "name": "stdout",
     "output_type": "stream",
     "text": [
      "Epoch 23: 66%, loss: 5.851628\n"
     ]
    },
    {
     "name": "stderr",
     "output_type": "stream",
     "text": [
      " 75%|███████▌  | 801/1065 [08:35<03:26,  1.28it/s]"
     ]
    },
    {
     "name": "stdout",
     "output_type": "stream",
     "text": [
      "Epoch 23: 75%, loss: 23.112461\n"
     ]
    },
    {
     "name": "stderr",
     "output_type": "stream",
     "text": [
      " 85%|████████▍ | 901/1065 [09:46<02:00,  1.36it/s]"
     ]
    },
    {
     "name": "stdout",
     "output_type": "stream",
     "text": [
      "Epoch 23: 85%, loss: 9.417152\n"
     ]
    },
    {
     "name": "stderr",
     "output_type": "stream",
     "text": [
      " 94%|█████████▍| 1001/1065 [10:58<00:47,  1.35it/s]"
     ]
    },
    {
     "name": "stdout",
     "output_type": "stream",
     "text": [
      "Epoch 23: 94%, loss: 10.891095\n"
     ]
    },
    {
     "name": "stderr",
     "output_type": "stream",
     "text": [
      "100%|██████████| 1065/1065 [11:44<00:00,  1.51it/s]"
     ]
    },
    {
     "name": "stdout",
     "output_type": "stream",
     "text": [
      "Epoch 23: 100%, loss: 1.941176\n"
     ]
    },
    {
     "name": "stderr",
     "output_type": "stream",
     "text": [
      "\n"
     ]
    },
    {
     "name": "stdout",
     "output_type": "stream",
     "text": [
      "                      (F1-score: 0.0471, Precision: 0.0479, Recall: 0.0513)\n",
      "\n",
      "                      (NDCG: 0.0470)\n",
      "\n",
      "                      (MAE: 3.0275)\n",
      "\n",
      "train_loss= tensor(18.6252)\n",
      "--------------------\n"
     ]
    },
    {
     "name": "stderr",
     "output_type": "stream",
     "text": [
      "100%|██████████| 133/133 [01:11<00:00,  1.86it/s]\n"
     ]
    },
    {
     "name": "stdout",
     "output_type": "stream",
     "text": [
      "                      (F1-score: 0.0399, Precision: 0.0429, Recall: 0.0458)\n",
      "\n",
      "                      (NDCG: 0.0361)\n",
      "\n",
      "                      (MAE: 4.9549)\n",
      "\n",
      "val_loss= tensor(37.2301)\n",
      "--------------------\n"
     ]
    },
    {
     "name": "stderr",
     "output_type": "stream",
     "text": [
      "100%|██████████| 133/133 [01:09<00:00,  1.91it/s]\n"
     ]
    },
    {
     "name": "stdout",
     "output_type": "stream",
     "text": [
      "                      (F1-score: 0.0488, Precision: 0.0494, Recall: 0.0582)\n",
      "\n",
      "                      (NDCG: 0.0433)\n",
      "\n",
      "                      (MAE: 4.8976)\n",
      "\n",
      "--------------------\n",
      "[[1, 0.014516741103914701, 0.012033384751339658, 0.01204602855413809, 0.012406556993982005, 4.05827067669173, 29.585283279418945], [2, 0.010077055914645812, 0.00867089689513396, 0.008720423023691784, 0.008945851676915317, 3.837406015037594, 30.25739288330078], [3, 0.01779890777061012, 0.014229998102302206, 0.014861064129783942, 0.017184604398724167, 3.9990601503759398, 29.043352127075195], [4, 0.02755157074598936, 0.01991117757371626, 0.021589370440213, 0.02446779109891224, 4.227443609022556, 28.880300521850586], [5, 0.043914805291476365, 0.038929727215919877, 0.038457998167372325, 0.03946661167336922, 3.892857142857143, 28.325345993041992], [6, 0.05869601004259138, 0.044622322031887054, 0.047421388046066756, 0.044029810744218696, 4.215225563909774, 28.65696144104004], [7, 0.05623511572985919, 0.04600030494557119, 0.04757945881618709, 0.04418332152824877, 3.987781954887218, 28.46356201171875], [8, 0.05809414050145603, 0.047444481777741146, 0.04897963678593192, 0.04547057762615999, 3.9906015037593985, 28.194171905517578], [9, 0.06279628719494007, 0.04404895638139089, 0.04851711865073949, 0.043578996170746315, 4.589285714285714, 30.281517028808594], [10, 0.0545478810953519, 0.047522010969331153, 0.047384920735939154, 0.04424618843494725, 3.9971804511278197, 28.321609497070312], [11, 0.053525435978312594, 0.05032880557094063, 0.048362490419169187, 0.04544974066478137, 3.925751879699248, 28.87025260925293], [12, 0.054755128511897594, 0.04805640199410981, 0.04773029405064559, 0.044870654352121335, 4.043233082706767, 28.926513671875], [13, 0.0554966420070822, 0.0478177764488914, 0.04787279027467846, 0.04554840240494481, 4.109962406015038, 29.44315528869629], [14, 0.05888990705100319, 0.04659644071169994, 0.0485290308164282, 0.04453086927077992, 4.49718045112782, 31.1901798248291], [15, 0.060496563202289605, 0.04796619213022767, 0.04965564119612189, 0.04465421234236512, 4.5018796992481205, 31.305898666381836], [16, 0.05356712364636289, 0.05335499211246175, 0.04913319644296454, 0.04470942426942065, 4.31296992481203, 32.522308349609375], [17, 0.0548658508464249, 0.051644022595467694, 0.04867775265861814, 0.043811546523943264, 4.50093984962406, 33.125370025634766], [18, 0.05671907862300143, 0.04967661582774258, 0.04866132873439573, 0.04418209464205219, 4.507518796992481, 32.87715530395508], [19, 0.05600575384429448, 0.051831251931711245, 0.04909037298235686, 0.0435800282442172, 4.671052631578948, 35.08435821533203], [20, 0.06063799511075421, 0.04582799248339996, 0.04817860987421005, 0.043079810467359606, 4.989661654135339, 36.45575714111328], [21, 0.056250051141717106, 0.04861846327737148, 0.04769431568202764, 0.04300154637128703, 4.841165413533835, 36.472721099853516], [22, 0.056270033390291185, 0.05090081770296305, 0.04878874141046645, 0.044146698035642896, 4.692669172932331, 35.886531829833984], [23, 0.0582339778435687, 0.049404804338596245, 0.048798173596178454, 0.043307537991987693, 4.897556390977444, 37.16999435424805]]\n",
      "-----------------------------------------------------------------------------------------\n"
     ]
    },
    {
     "name": "stderr",
     "output_type": "stream",
     "text": [
      "  0%|          | 1/1065 [00:00<11:44,  1.51it/s]"
     ]
    },
    {
     "name": "stdout",
     "output_type": "stream",
     "text": [
      "Epoch 24: 0%, loss: 9.801397\n"
     ]
    },
    {
     "name": "stderr",
     "output_type": "stream",
     "text": [
      "  9%|▉         | 101/1065 [01:05<11:00,  1.46it/s]"
     ]
    },
    {
     "name": "stdout",
     "output_type": "stream",
     "text": [
      "Epoch 24: 9%, loss: 7.892477\n"
     ]
    },
    {
     "name": "stderr",
     "output_type": "stream",
     "text": [
      " 19%|█▉        | 201/1065 [02:08<08:03,  1.79it/s]"
     ]
    },
    {
     "name": "stdout",
     "output_type": "stream",
     "text": [
      "Epoch 24: 19%, loss: 78.628181\n"
     ]
    },
    {
     "name": "stderr",
     "output_type": "stream",
     "text": [
      " 28%|██▊       | 301/1065 [03:05<07:34,  1.68it/s]"
     ]
    },
    {
     "name": "stdout",
     "output_type": "stream",
     "text": [
      "Epoch 24: 28%, loss: 7.548197\n"
     ]
    },
    {
     "name": "stderr",
     "output_type": "stream",
     "text": [
      " 38%|███▊      | 401/1065 [04:03<07:09,  1.55it/s]"
     ]
    },
    {
     "name": "stdout",
     "output_type": "stream",
     "text": [
      "Epoch 24: 38%, loss: 8.326322\n"
     ]
    },
    {
     "name": "stderr",
     "output_type": "stream",
     "text": [
      " 47%|████▋     | 501/1065 [05:09<06:22,  1.47it/s]"
     ]
    },
    {
     "name": "stdout",
     "output_type": "stream",
     "text": [
      "Epoch 24: 47%, loss: 6.485614\n"
     ]
    },
    {
     "name": "stderr",
     "output_type": "stream",
     "text": [
      " 56%|█████▋    | 601/1065 [06:16<05:23,  1.44it/s]"
     ]
    },
    {
     "name": "stdout",
     "output_type": "stream",
     "text": [
      "Epoch 24: 56%, loss: 18.499477\n"
     ]
    },
    {
     "name": "stderr",
     "output_type": "stream",
     "text": [
      " 66%|██████▌   | 701/1065 [07:24<04:21,  1.39it/s]"
     ]
    },
    {
     "name": "stdout",
     "output_type": "stream",
     "text": [
      "Epoch 24: 66%, loss: 8.806540\n"
     ]
    },
    {
     "name": "stderr",
     "output_type": "stream",
     "text": [
      " 75%|███████▌  | 801/1065 [08:33<03:01,  1.45it/s]"
     ]
    },
    {
     "name": "stdout",
     "output_type": "stream",
     "text": [
      "Epoch 24: 75%, loss: 3.065658\n"
     ]
    },
    {
     "name": "stderr",
     "output_type": "stream",
     "text": [
      " 85%|████████▍ | 901/1065 [09:45<01:59,  1.38it/s]"
     ]
    },
    {
     "name": "stdout",
     "output_type": "stream",
     "text": [
      "Epoch 24: 85%, loss: 4.571793\n"
     ]
    },
    {
     "name": "stderr",
     "output_type": "stream",
     "text": [
      " 94%|█████████▍| 1001/1065 [10:55<00:44,  1.43it/s]"
     ]
    },
    {
     "name": "stdout",
     "output_type": "stream",
     "text": [
      "Epoch 24: 94%, loss: 2.639659\n"
     ]
    },
    {
     "name": "stderr",
     "output_type": "stream",
     "text": [
      "100%|██████████| 1065/1065 [11:42<00:00,  1.52it/s]"
     ]
    },
    {
     "name": "stdout",
     "output_type": "stream",
     "text": [
      "Epoch 24: 100%, loss: 12.295835\n"
     ]
    },
    {
     "name": "stderr",
     "output_type": "stream",
     "text": [
      "\n"
     ]
    },
    {
     "name": "stdout",
     "output_type": "stream",
     "text": [
      "                      (F1-score: 0.0480, Precision: 0.0488, Recall: 0.0522)\n",
      "\n",
      "                      (NDCG: 0.0476)\n",
      "\n",
      "                      (MAE: 2.9582)\n",
      "\n",
      "train_loss= tensor(18.0357)\n",
      "--------------------\n"
     ]
    },
    {
     "name": "stderr",
     "output_type": "stream",
     "text": [
      "100%|██████████| 133/133 [01:09<00:00,  1.91it/s]\n"
     ]
    },
    {
     "name": "stdout",
     "output_type": "stream",
     "text": [
      "                      (F1-score: 0.0389, Precision: 0.0488, Recall: 0.0400)\n",
      "\n",
      "                      (NDCG: 0.0351)\n",
      "\n",
      "                      (MAE: 5.0508)\n",
      "\n",
      "val_loss= tensor(40.6896)\n",
      "--------------------\n"
     ]
    },
    {
     "name": "stderr",
     "output_type": "stream",
     "text": [
      "100%|██████████| 133/133 [01:11<00:00,  1.87it/s]\n"
     ]
    },
    {
     "name": "stdout",
     "output_type": "stream",
     "text": [
      "                      (F1-score: 0.0472, Precision: 0.0575, Recall: 0.0501)\n",
      "\n",
      "                      (NDCG: 0.0407)\n",
      "\n",
      "                      (MAE: 4.9333)\n",
      "\n",
      "--------------------\n",
      "[[1, 0.014516741103914701, 0.012033384751339658, 0.01204602855413809, 0.012406556993982005, 4.05827067669173, 29.585283279418945], [2, 0.010077055914645812, 0.00867089689513396, 0.008720423023691784, 0.008945851676915317, 3.837406015037594, 30.25739288330078], [3, 0.01779890777061012, 0.014229998102302206, 0.014861064129783942, 0.017184604398724167, 3.9990601503759398, 29.043352127075195], [4, 0.02755157074598936, 0.01991117757371626, 0.021589370440213, 0.02446779109891224, 4.227443609022556, 28.880300521850586], [5, 0.043914805291476365, 0.038929727215919877, 0.038457998167372325, 0.03946661167336922, 3.892857142857143, 28.325345993041992], [6, 0.05869601004259138, 0.044622322031887054, 0.047421388046066756, 0.044029810744218696, 4.215225563909774, 28.65696144104004], [7, 0.05623511572985919, 0.04600030494557119, 0.04757945881618709, 0.04418332152824877, 3.987781954887218, 28.46356201171875], [8, 0.05809414050145603, 0.047444481777741146, 0.04897963678593192, 0.04547057762615999, 3.9906015037593985, 28.194171905517578], [9, 0.06279628719494007, 0.04404895638139089, 0.04851711865073949, 0.043578996170746315, 4.589285714285714, 30.281517028808594], [10, 0.0545478810953519, 0.047522010969331153, 0.047384920735939154, 0.04424618843494725, 3.9971804511278197, 28.321609497070312], [11, 0.053525435978312594, 0.05032880557094063, 0.048362490419169187, 0.04544974066478137, 3.925751879699248, 28.87025260925293], [12, 0.054755128511897594, 0.04805640199410981, 0.04773029405064559, 0.044870654352121335, 4.043233082706767, 28.926513671875], [13, 0.0554966420070822, 0.0478177764488914, 0.04787279027467846, 0.04554840240494481, 4.109962406015038, 29.44315528869629], [14, 0.05888990705100319, 0.04659644071169994, 0.0485290308164282, 0.04453086927077992, 4.49718045112782, 31.1901798248291], [15, 0.060496563202289605, 0.04796619213022767, 0.04965564119612189, 0.04465421234236512, 4.5018796992481205, 31.305898666381836], [16, 0.05356712364636289, 0.05335499211246175, 0.04913319644296454, 0.04470942426942065, 4.31296992481203, 32.522308349609375], [17, 0.0548658508464249, 0.051644022595467694, 0.04867775265861814, 0.043811546523943264, 4.50093984962406, 33.125370025634766], [18, 0.05671907862300143, 0.04967661582774258, 0.04866132873439573, 0.04418209464205219, 4.507518796992481, 32.87715530395508], [19, 0.05600575384429448, 0.051831251931711245, 0.04909037298235686, 0.0435800282442172, 4.671052631578948, 35.08435821533203], [20, 0.06063799511075421, 0.04582799248339996, 0.04817860987421005, 0.043079810467359606, 4.989661654135339, 36.45575714111328], [21, 0.056250051141717106, 0.04861846327737148, 0.04769431568202764, 0.04300154637128703, 4.841165413533835, 36.472721099853516], [22, 0.056270033390291185, 0.05090081770296305, 0.04878874141046645, 0.044146698035642896, 4.692669172932331, 35.886531829833984], [23, 0.0582339778435687, 0.049404804338596245, 0.048798173596178454, 0.043307537991987693, 4.897556390977444, 37.16999435424805], [24, 0.05010459905786977, 0.0575397515405915, 0.04715770851857565, 0.04073603665088549, 4.93327067669173, 39.42010498046875]]\n",
      "-----------------------------------------------------------------------------------------\n"
     ]
    },
    {
     "name": "stderr",
     "output_type": "stream",
     "text": [
      "  0%|          | 1/1065 [00:00<09:00,  1.97it/s]"
     ]
    },
    {
     "name": "stdout",
     "output_type": "stream",
     "text": [
      "Epoch 25: 0%, loss: 43.933281\n"
     ]
    },
    {
     "name": "stderr",
     "output_type": "stream",
     "text": [
      "  9%|▉         | 101/1065 [01:06<11:39,  1.38it/s]"
     ]
    },
    {
     "name": "stdout",
     "output_type": "stream",
     "text": [
      "Epoch 25: 9%, loss: 11.877108\n"
     ]
    },
    {
     "name": "stderr",
     "output_type": "stream",
     "text": [
      " 19%|█▉        | 201/1065 [02:07<08:56,  1.61it/s]"
     ]
    },
    {
     "name": "stdout",
     "output_type": "stream",
     "text": [
      "Epoch 25: 19%, loss: 89.770287\n"
     ]
    },
    {
     "name": "stderr",
     "output_type": "stream",
     "text": [
      " 28%|██▊       | 301/1065 [03:05<06:55,  1.84it/s]"
     ]
    },
    {
     "name": "stdout",
     "output_type": "stream",
     "text": [
      "Epoch 25: 28%, loss: 64.801094\n"
     ]
    },
    {
     "name": "stderr",
     "output_type": "stream",
     "text": [
      " 38%|███▊      | 401/1065 [04:02<06:31,  1.69it/s]"
     ]
    },
    {
     "name": "stdout",
     "output_type": "stream",
     "text": [
      "Epoch 25: 38%, loss: 14.928466\n"
     ]
    },
    {
     "name": "stderr",
     "output_type": "stream",
     "text": [
      " 47%|████▋     | 501/1065 [05:03<06:15,  1.50it/s]"
     ]
    },
    {
     "name": "stdout",
     "output_type": "stream",
     "text": [
      "Epoch 25: 47%, loss: 5.168121\n"
     ]
    },
    {
     "name": "stderr",
     "output_type": "stream",
     "text": [
      " 56%|█████▋    | 601/1065 [06:10<05:27,  1.42it/s]"
     ]
    },
    {
     "name": "stdout",
     "output_type": "stream",
     "text": [
      "Epoch 25: 56%, loss: 80.064079\n"
     ]
    },
    {
     "name": "stderr",
     "output_type": "stream",
     "text": [
      " 66%|██████▌   | 701/1065 [07:18<04:05,  1.48it/s]"
     ]
    },
    {
     "name": "stdout",
     "output_type": "stream",
     "text": [
      "Epoch 25: 66%, loss: 4.599443\n"
     ]
    },
    {
     "name": "stderr",
     "output_type": "stream",
     "text": [
      " 75%|███████▌  | 801/1065 [08:27<03:02,  1.44it/s]"
     ]
    },
    {
     "name": "stdout",
     "output_type": "stream",
     "text": [
      "Epoch 25: 75%, loss: 3.405377\n"
     ]
    },
    {
     "name": "stderr",
     "output_type": "stream",
     "text": [
      " 85%|████████▍ | 901/1065 [09:37<01:54,  1.43it/s]"
     ]
    },
    {
     "name": "stdout",
     "output_type": "stream",
     "text": [
      "Epoch 25: 85%, loss: 4.692002\n"
     ]
    },
    {
     "name": "stderr",
     "output_type": "stream",
     "text": [
      " 94%|█████████▍| 1001/1065 [10:48<00:43,  1.46it/s]"
     ]
    },
    {
     "name": "stdout",
     "output_type": "stream",
     "text": [
      "Epoch 25: 94%, loss: 45.769657\n"
     ]
    },
    {
     "name": "stderr",
     "output_type": "stream",
     "text": [
      "100%|██████████| 1065/1065 [11:35<00:00,  1.53it/s]"
     ]
    },
    {
     "name": "stdout",
     "output_type": "stream",
     "text": [
      "Epoch 25: 100%, loss: 7.336291\n"
     ]
    },
    {
     "name": "stderr",
     "output_type": "stream",
     "text": [
      "\n"
     ]
    },
    {
     "name": "stdout",
     "output_type": "stream",
     "text": [
      "                      (F1-score: 0.0479, Precision: 0.0488, Recall: 0.0518)\n",
      "\n",
      "                      (NDCG: 0.0477)\n",
      "\n",
      "                      (MAE: 2.9282)\n",
      "\n",
      "train_loss= tensor(17.6760)\n",
      "--------------------\n"
     ]
    },
    {
     "name": "stderr",
     "output_type": "stream",
     "text": [
      "100%|██████████| 133/133 [01:11<00:00,  1.86it/s]\n"
     ]
    },
    {
     "name": "stdout",
     "output_type": "stream",
     "text": [
      "                      (F1-score: 0.0395, Precision: 0.0460, Recall: 0.0427)\n",
      "\n",
      "                      (NDCG: 0.0360)\n",
      "\n",
      "                      (MAE: 4.9323)\n",
      "\n",
      "val_loss= tensor(39.1854)\n",
      "--------------------\n"
     ]
    },
    {
     "name": "stderr",
     "output_type": "stream",
     "text": [
      "100%|██████████| 133/133 [01:11<00:00,  1.87it/s]\n"
     ]
    },
    {
     "name": "stdout",
     "output_type": "stream",
     "text": [
      "                      (F1-score: 0.0485, Precision: 0.0547, Recall: 0.0531)\n",
      "\n",
      "                      (NDCG: 0.0430)\n",
      "\n",
      "                      (MAE: 4.7951)\n",
      "\n",
      "--------------------\n",
      "[[1, 0.014516741103914701, 0.012033384751339658, 0.01204602855413809, 0.012406556993982005, 4.05827067669173, 29.585283279418945], [2, 0.010077055914645812, 0.00867089689513396, 0.008720423023691784, 0.008945851676915317, 3.837406015037594, 30.25739288330078], [3, 0.01779890777061012, 0.014229998102302206, 0.014861064129783942, 0.017184604398724167, 3.9990601503759398, 29.043352127075195], [4, 0.02755157074598936, 0.01991117757371626, 0.021589370440213, 0.02446779109891224, 4.227443609022556, 28.880300521850586], [5, 0.043914805291476365, 0.038929727215919877, 0.038457998167372325, 0.03946661167336922, 3.892857142857143, 28.325345993041992], [6, 0.05869601004259138, 0.044622322031887054, 0.047421388046066756, 0.044029810744218696, 4.215225563909774, 28.65696144104004], [7, 0.05623511572985919, 0.04600030494557119, 0.04757945881618709, 0.04418332152824877, 3.987781954887218, 28.46356201171875], [8, 0.05809414050145603, 0.047444481777741146, 0.04897963678593192, 0.04547057762615999, 3.9906015037593985, 28.194171905517578], [9, 0.06279628719494007, 0.04404895638139089, 0.04851711865073949, 0.043578996170746315, 4.589285714285714, 30.281517028808594], [10, 0.0545478810953519, 0.047522010969331153, 0.047384920735939154, 0.04424618843494725, 3.9971804511278197, 28.321609497070312], [11, 0.053525435978312594, 0.05032880557094063, 0.048362490419169187, 0.04544974066478137, 3.925751879699248, 28.87025260925293], [12, 0.054755128511897594, 0.04805640199410981, 0.04773029405064559, 0.044870654352121335, 4.043233082706767, 28.926513671875], [13, 0.0554966420070822, 0.0478177764488914, 0.04787279027467846, 0.04554840240494481, 4.109962406015038, 29.44315528869629], [14, 0.05888990705100319, 0.04659644071169994, 0.0485290308164282, 0.04453086927077992, 4.49718045112782, 31.1901798248291], [15, 0.060496563202289605, 0.04796619213022767, 0.04965564119612189, 0.04465421234236512, 4.5018796992481205, 31.305898666381836], [16, 0.05356712364636289, 0.05335499211246175, 0.04913319644296454, 0.04470942426942065, 4.31296992481203, 32.522308349609375], [17, 0.0548658508464249, 0.051644022595467694, 0.04867775265861814, 0.043811546523943264, 4.50093984962406, 33.125370025634766], [18, 0.05671907862300143, 0.04967661582774258, 0.04866132873439573, 0.04418209464205219, 4.507518796992481, 32.87715530395508], [19, 0.05600575384429448, 0.051831251931711245, 0.04909037298235686, 0.0435800282442172, 4.671052631578948, 35.08435821533203], [20, 0.06063799511075421, 0.04582799248339996, 0.04817860987421005, 0.043079810467359606, 4.989661654135339, 36.45575714111328], [21, 0.056250051141717106, 0.04861846327737148, 0.04769431568202764, 0.04300154637128703, 4.841165413533835, 36.472721099853516], [22, 0.056270033390291185, 0.05090081770296305, 0.04878874141046645, 0.044146698035642896, 4.692669172932331, 35.886531829833984], [23, 0.0582339778435687, 0.049404804338596245, 0.048798173596178454, 0.043307537991987693, 4.897556390977444, 37.16999435424805], [24, 0.05010459905786977, 0.0575397515405915, 0.04715770851857565, 0.04073603665088549, 4.93327067669173, 39.42010498046875], [25, 0.05311184839477898, 0.05465201507439282, 0.048534427315573746, 0.04301603829761253, 4.795112781954887, 37.89640808105469]]\n",
      "-----------------------------------------------------------------------------------------\n"
     ]
    },
    {
     "data": {
      "text/html": [
       "<div>\n",
       "<style scoped>\n",
       "    .dataframe tbody tr th:only-of-type {\n",
       "        vertical-align: middle;\n",
       "    }\n",
       "\n",
       "    .dataframe tbody tr th {\n",
       "        vertical-align: top;\n",
       "    }\n",
       "\n",
       "    .dataframe thead th {\n",
       "        text-align: right;\n",
       "    }\n",
       "</style>\n",
       "<table border=\"1\" class=\"dataframe\">\n",
       "  <thead>\n",
       "    <tr style=\"text-align: right;\">\n",
       "      <th></th>\n",
       "      <th>Epoch</th>\n",
       "      <th>Recall</th>\n",
       "      <th>Precision</th>\n",
       "      <th>F1-score</th>\n",
       "      <th>NDCG</th>\n",
       "      <th>MAE</th>\n",
       "      <th>Loss</th>\n",
       "    </tr>\n",
       "  </thead>\n",
       "  <tbody>\n",
       "    <tr>\n",
       "      <th>0</th>\n",
       "      <td>1</td>\n",
       "      <td>0.014517</td>\n",
       "      <td>0.012033</td>\n",
       "      <td>0.012046</td>\n",
       "      <td>0.012407</td>\n",
       "      <td>4.058271</td>\n",
       "      <td>29.585283</td>\n",
       "    </tr>\n",
       "    <tr>\n",
       "      <th>1</th>\n",
       "      <td>2</td>\n",
       "      <td>0.010077</td>\n",
       "      <td>0.008671</td>\n",
       "      <td>0.008720</td>\n",
       "      <td>0.008946</td>\n",
       "      <td>3.837406</td>\n",
       "      <td>30.257393</td>\n",
       "    </tr>\n",
       "    <tr>\n",
       "      <th>2</th>\n",
       "      <td>3</td>\n",
       "      <td>0.017799</td>\n",
       "      <td>0.014230</td>\n",
       "      <td>0.014861</td>\n",
       "      <td>0.017185</td>\n",
       "      <td>3.999060</td>\n",
       "      <td>29.043352</td>\n",
       "    </tr>\n",
       "    <tr>\n",
       "      <th>3</th>\n",
       "      <td>4</td>\n",
       "      <td>0.027552</td>\n",
       "      <td>0.019911</td>\n",
       "      <td>0.021589</td>\n",
       "      <td>0.024468</td>\n",
       "      <td>4.227444</td>\n",
       "      <td>28.880301</td>\n",
       "    </tr>\n",
       "    <tr>\n",
       "      <th>4</th>\n",
       "      <td>5</td>\n",
       "      <td>0.043915</td>\n",
       "      <td>0.038930</td>\n",
       "      <td>0.038458</td>\n",
       "      <td>0.039467</td>\n",
       "      <td>3.892857</td>\n",
       "      <td>28.325346</td>\n",
       "    </tr>\n",
       "    <tr>\n",
       "      <th>5</th>\n",
       "      <td>6</td>\n",
       "      <td>0.058696</td>\n",
       "      <td>0.044622</td>\n",
       "      <td>0.047421</td>\n",
       "      <td>0.044030</td>\n",
       "      <td>4.215226</td>\n",
       "      <td>28.656961</td>\n",
       "    </tr>\n",
       "    <tr>\n",
       "      <th>6</th>\n",
       "      <td>7</td>\n",
       "      <td>0.056235</td>\n",
       "      <td>0.046000</td>\n",
       "      <td>0.047579</td>\n",
       "      <td>0.044183</td>\n",
       "      <td>3.987782</td>\n",
       "      <td>28.463562</td>\n",
       "    </tr>\n",
       "    <tr>\n",
       "      <th>7</th>\n",
       "      <td>8</td>\n",
       "      <td>0.058094</td>\n",
       "      <td>0.047444</td>\n",
       "      <td>0.048980</td>\n",
       "      <td>0.045471</td>\n",
       "      <td>3.990602</td>\n",
       "      <td>28.194172</td>\n",
       "    </tr>\n",
       "    <tr>\n",
       "      <th>8</th>\n",
       "      <td>9</td>\n",
       "      <td>0.062796</td>\n",
       "      <td>0.044049</td>\n",
       "      <td>0.048517</td>\n",
       "      <td>0.043579</td>\n",
       "      <td>4.589286</td>\n",
       "      <td>30.281517</td>\n",
       "    </tr>\n",
       "    <tr>\n",
       "      <th>9</th>\n",
       "      <td>10</td>\n",
       "      <td>0.054548</td>\n",
       "      <td>0.047522</td>\n",
       "      <td>0.047385</td>\n",
       "      <td>0.044246</td>\n",
       "      <td>3.997180</td>\n",
       "      <td>28.321609</td>\n",
       "    </tr>\n",
       "    <tr>\n",
       "      <th>10</th>\n",
       "      <td>11</td>\n",
       "      <td>0.053525</td>\n",
       "      <td>0.050329</td>\n",
       "      <td>0.048362</td>\n",
       "      <td>0.045450</td>\n",
       "      <td>3.925752</td>\n",
       "      <td>28.870253</td>\n",
       "    </tr>\n",
       "    <tr>\n",
       "      <th>11</th>\n",
       "      <td>12</td>\n",
       "      <td>0.054755</td>\n",
       "      <td>0.048056</td>\n",
       "      <td>0.047730</td>\n",
       "      <td>0.044871</td>\n",
       "      <td>4.043233</td>\n",
       "      <td>28.926514</td>\n",
       "    </tr>\n",
       "    <tr>\n",
       "      <th>12</th>\n",
       "      <td>13</td>\n",
       "      <td>0.055497</td>\n",
       "      <td>0.047818</td>\n",
       "      <td>0.047873</td>\n",
       "      <td>0.045548</td>\n",
       "      <td>4.109962</td>\n",
       "      <td>29.443155</td>\n",
       "    </tr>\n",
       "    <tr>\n",
       "      <th>13</th>\n",
       "      <td>14</td>\n",
       "      <td>0.058890</td>\n",
       "      <td>0.046596</td>\n",
       "      <td>0.048529</td>\n",
       "      <td>0.044531</td>\n",
       "      <td>4.497180</td>\n",
       "      <td>31.190180</td>\n",
       "    </tr>\n",
       "    <tr>\n",
       "      <th>14</th>\n",
       "      <td>15</td>\n",
       "      <td>0.060497</td>\n",
       "      <td>0.047966</td>\n",
       "      <td>0.049656</td>\n",
       "      <td>0.044654</td>\n",
       "      <td>4.501880</td>\n",
       "      <td>31.305899</td>\n",
       "    </tr>\n",
       "    <tr>\n",
       "      <th>15</th>\n",
       "      <td>16</td>\n",
       "      <td>0.053567</td>\n",
       "      <td>0.053355</td>\n",
       "      <td>0.049133</td>\n",
       "      <td>0.044709</td>\n",
       "      <td>4.312970</td>\n",
       "      <td>32.522308</td>\n",
       "    </tr>\n",
       "    <tr>\n",
       "      <th>16</th>\n",
       "      <td>17</td>\n",
       "      <td>0.054866</td>\n",
       "      <td>0.051644</td>\n",
       "      <td>0.048678</td>\n",
       "      <td>0.043812</td>\n",
       "      <td>4.500940</td>\n",
       "      <td>33.125370</td>\n",
       "    </tr>\n",
       "    <tr>\n",
       "      <th>17</th>\n",
       "      <td>18</td>\n",
       "      <td>0.056719</td>\n",
       "      <td>0.049677</td>\n",
       "      <td>0.048661</td>\n",
       "      <td>0.044182</td>\n",
       "      <td>4.507519</td>\n",
       "      <td>32.877155</td>\n",
       "    </tr>\n",
       "    <tr>\n",
       "      <th>18</th>\n",
       "      <td>19</td>\n",
       "      <td>0.056006</td>\n",
       "      <td>0.051831</td>\n",
       "      <td>0.049090</td>\n",
       "      <td>0.043580</td>\n",
       "      <td>4.671053</td>\n",
       "      <td>35.084358</td>\n",
       "    </tr>\n",
       "    <tr>\n",
       "      <th>19</th>\n",
       "      <td>20</td>\n",
       "      <td>0.060638</td>\n",
       "      <td>0.045828</td>\n",
       "      <td>0.048179</td>\n",
       "      <td>0.043080</td>\n",
       "      <td>4.989662</td>\n",
       "      <td>36.455757</td>\n",
       "    </tr>\n",
       "    <tr>\n",
       "      <th>20</th>\n",
       "      <td>21</td>\n",
       "      <td>0.056250</td>\n",
       "      <td>0.048618</td>\n",
       "      <td>0.047694</td>\n",
       "      <td>0.043002</td>\n",
       "      <td>4.841165</td>\n",
       "      <td>36.472721</td>\n",
       "    </tr>\n",
       "    <tr>\n",
       "      <th>21</th>\n",
       "      <td>22</td>\n",
       "      <td>0.056270</td>\n",
       "      <td>0.050901</td>\n",
       "      <td>0.048789</td>\n",
       "      <td>0.044147</td>\n",
       "      <td>4.692669</td>\n",
       "      <td>35.886532</td>\n",
       "    </tr>\n",
       "    <tr>\n",
       "      <th>22</th>\n",
       "      <td>23</td>\n",
       "      <td>0.058234</td>\n",
       "      <td>0.049405</td>\n",
       "      <td>0.048798</td>\n",
       "      <td>0.043308</td>\n",
       "      <td>4.897556</td>\n",
       "      <td>37.169994</td>\n",
       "    </tr>\n",
       "    <tr>\n",
       "      <th>23</th>\n",
       "      <td>24</td>\n",
       "      <td>0.050105</td>\n",
       "      <td>0.057540</td>\n",
       "      <td>0.047158</td>\n",
       "      <td>0.040736</td>\n",
       "      <td>4.933271</td>\n",
       "      <td>39.420105</td>\n",
       "    </tr>\n",
       "    <tr>\n",
       "      <th>24</th>\n",
       "      <td>25</td>\n",
       "      <td>0.053112</td>\n",
       "      <td>0.054652</td>\n",
       "      <td>0.048534</td>\n",
       "      <td>0.043016</td>\n",
       "      <td>4.795113</td>\n",
       "      <td>37.896408</td>\n",
       "    </tr>\n",
       "  </tbody>\n",
       "</table>\n",
       "</div>"
      ],
      "text/plain": [
       "    Epoch    Recall  Precision  F1-score      NDCG       MAE       Loss\n",
       "0       1  0.014517   0.012033  0.012046  0.012407  4.058271  29.585283\n",
       "1       2  0.010077   0.008671  0.008720  0.008946  3.837406  30.257393\n",
       "2       3  0.017799   0.014230  0.014861  0.017185  3.999060  29.043352\n",
       "3       4  0.027552   0.019911  0.021589  0.024468  4.227444  28.880301\n",
       "4       5  0.043915   0.038930  0.038458  0.039467  3.892857  28.325346\n",
       "5       6  0.058696   0.044622  0.047421  0.044030  4.215226  28.656961\n",
       "6       7  0.056235   0.046000  0.047579  0.044183  3.987782  28.463562\n",
       "7       8  0.058094   0.047444  0.048980  0.045471  3.990602  28.194172\n",
       "8       9  0.062796   0.044049  0.048517  0.043579  4.589286  30.281517\n",
       "9      10  0.054548   0.047522  0.047385  0.044246  3.997180  28.321609\n",
       "10     11  0.053525   0.050329  0.048362  0.045450  3.925752  28.870253\n",
       "11     12  0.054755   0.048056  0.047730  0.044871  4.043233  28.926514\n",
       "12     13  0.055497   0.047818  0.047873  0.045548  4.109962  29.443155\n",
       "13     14  0.058890   0.046596  0.048529  0.044531  4.497180  31.190180\n",
       "14     15  0.060497   0.047966  0.049656  0.044654  4.501880  31.305899\n",
       "15     16  0.053567   0.053355  0.049133  0.044709  4.312970  32.522308\n",
       "16     17  0.054866   0.051644  0.048678  0.043812  4.500940  33.125370\n",
       "17     18  0.056719   0.049677  0.048661  0.044182  4.507519  32.877155\n",
       "18     19  0.056006   0.051831  0.049090  0.043580  4.671053  35.084358\n",
       "19     20  0.060638   0.045828  0.048179  0.043080  4.989662  36.455757\n",
       "20     21  0.056250   0.048618  0.047694  0.043002  4.841165  36.472721\n",
       "21     22  0.056270   0.050901  0.048789  0.044147  4.692669  35.886532\n",
       "22     23  0.058234   0.049405  0.048798  0.043308  4.897556  37.169994\n",
       "23     24  0.050105   0.057540  0.047158  0.040736  4.933271  39.420105\n",
       "24     25  0.053112   0.054652  0.048534  0.043016  4.795113  37.896408"
      ]
     },
     "execution_count": 40,
     "metadata": {},
     "output_type": "execute_result"
    }
   ],
   "source": [
    "results = []\n",
    "\n",
    "for epoch in range(1, EPOCHS + 1):\n",
    "    train_loss = train_model()\n",
    "    print(\"train_loss=\", train_loss)\n",
    "    print(\"-\"*20)\n",
    "    val_loss = evaluate_model()\n",
    "    print(\"val_loss=\", val_loss)\n",
    "    print(\"-\"*20)\n",
    "    test_loss, recall_list, precision_list, f1_list, ndcg_list, mae_list = test_model()\n",
    "    print(\"-\"*20)\n",
    "    result = [epoch] + recall_list + precision_list + f1_list + ndcg_list + mae_list + [test_loss.item()]\n",
    "    results.append(result)\n",
    "    print(results)\n",
    "    print(\"-\"*89)\n",
    "    \n",
    "    collected = gc.collect()\n",
    "    torch.cuda.empty_cache()\n",
    "    \n",
    "record_df = pd.DataFrame(results, columns=[\"Epoch\", \"Recall\", \"Precision\", \"F1-score\", \"NDCG\", \"MAE\", \"Loss\"])\n",
    "\n",
    "result_folder = \"../result\"\n",
    "if not os.path.exists(result_folder):\n",
    "    os.mkdir(result_folder)\n",
    "record_df.to_csv(result_folder+f\"/{DATASET_NAME}_output_batchSize_{BATCH_SIZE}.csv\", index=False)\n",
    "\n",
    "record_df"
   ]
  },
  {
   "cell_type": "code",
   "execution_count": null,
   "id": "75127822",
   "metadata": {},
   "outputs": [],
   "source": []
  }
 ],
 "metadata": {
  "kernelspec": {
   "display_name": "Python 3 (ipykernel)",
   "language": "python",
   "name": "python3"
  },
  "language_info": {
   "codemirror_mode": {
    "name": "ipython",
    "version": 3
   },
   "file_extension": ".py",
   "mimetype": "text/x-python",
   "name": "python",
   "nbconvert_exporter": "python",
   "pygments_lexer": "ipython3",
   "version": "3.11.7"
  }
 },
 "nbformat": 4,
 "nbformat_minor": 5
}
