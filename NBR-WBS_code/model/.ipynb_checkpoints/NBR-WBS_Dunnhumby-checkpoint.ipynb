{
 "cells": [
  {
   "cell_type": "markdown",
   "id": "a246ddd9",
   "metadata": {},
   "source": [
    "# 下載套件"
   ]
  },
  {
   "cell_type": "code",
   "execution_count": 1,
   "id": "72209793",
   "metadata": {},
   "outputs": [],
   "source": [
    "import torch\n",
    "import torch.nn as nn\n",
    "from torch import nn, matmul, softmax\n",
    "from torch.nn.init import xavier_uniform_\n",
    "import torch.nn.functional as F\n",
    "import torch.nn.utils.rnn as rnn_utils\n",
    "from torch.autograd import Variable\n",
    "\n",
    "import numpy as np\n",
    "import pandas as pd\n",
    "import gensim\n",
    "from gensim.models import KeyedVectors\n",
    "import pickle\n",
    "import gzip \n",
    "import gc\n",
    "import os\n",
    "import random"
   ]
  },
  {
   "cell_type": "code",
   "execution_count": 2,
   "id": "e3db86c1",
   "metadata": {},
   "outputs": [],
   "source": [
    "from torch.utils.data import DataLoader, Dataset\n",
    "from torch.utils.data.dataset import random_split\n",
    "\n",
    "from tqdm import tqdm\n",
    "from collections import Counter\n",
    "\n",
    "import math"
   ]
  },
  {
   "cell_type": "markdown",
   "id": "d32d7025",
   "metadata": {},
   "source": [
    "# 參數設置"
   ]
  },
  {
   "cell_type": "code",
   "execution_count": 3,
   "id": "6da217e0",
   "metadata": {},
   "outputs": [],
   "source": [
    "# 超參數\n",
    "EPOCHS = 15\n",
    "LEARNING_RATE = 0.00001                # Learning_rate\n",
    "BATCH_SIZE = 8\n",
    "ALPHA = 0.01\n",
    "BETA = 0.001\n",
    "EMBEDDING_DIMENSION = 32               # 嵌入維度\n",
    "MODEL_DIMENSION = EMBEDDING_DIMENSION  # 模型維度\n",
    "HIDDEN_DIMENSION = 128                 # MLP 隱藏層維度\n",
    "HIDDEN_SIZE = 16                       # LSTM 隱藏層維度\n",
    "NUM_HEAD = 4\n",
    "NUM_LAYER = 4\n",
    "\n",
    "isMC = 1\n",
    "isI2V = 1"
   ]
  },
  {
   "cell_type": "markdown",
   "id": "4283cbc8",
   "metadata": {},
   "source": [
    "# 匯入檔案\n",
    "- item2Vec_TaFeng.32d.model\n",
    "- TaFeng_user_cart_itemid_list.gz\n",
    "- Ta_feng_clean.csv"
   ]
  },
  {
   "cell_type": "code",
   "execution_count": 4,
   "id": "3715f2a4",
   "metadata": {},
   "outputs": [],
   "source": [
    "# 資料集\n",
    "# DATASET_NAME = \"TaFeng\"     # 讀取TaFeng資料\n",
    "DATASET_NAME = \"Dunnhumby\"  # 讀取Dunnhumby資料\n",
    "# DATASET_NAME = \"Instacart\"  # 讀取Instacart資料"
   ]
  },
  {
   "cell_type": "code",
   "execution_count": 5,
   "id": "32520298",
   "metadata": {},
   "outputs": [
    {
     "data": {
      "text/plain": [
       "torch.Size([3977, 32])"
      ]
     },
     "execution_count": 5,
     "metadata": {},
     "output_type": "execute_result"
    }
   ],
   "source": [
    "# load word2Vec pre_train model\n",
    "model_filename = f\"../preprocessing-data/item2vec_models/item2vec_{DATASET_NAME}.{EMBEDDING_DIMENSION}d.model\"\n",
    "# {DATASET}\n",
    "with open(model_filename, \"rb\") as fp:\n",
    "    model = pickle.load(fp)\n",
    "weights = torch.FloatTensor(model.wv.vectors)\n",
    "weights.shape"
   ]
  },
  {
   "cell_type": "code",
   "execution_count": 6,
   "id": "bbe80d00",
   "metadata": {
    "scrolled": true
   },
   "outputs": [
    {
     "data": {
      "text/plain": [
       "[('CUST0000000031',\n",
       "  [[0, 1, 2, 3, 4, 5, 6, 7, 8, 9, 10, 11],\n",
       "   [12, 13, 14, 15],\n",
       "   [16, 17, 18, 19, 4, 20, 21],\n",
       "   [22, 23, 24],\n",
       "   [1, 25, 26, 6, 27, 28, 29, 30],\n",
       "   [31, 2, 32, 13, 33, 6, 10, 34, 21],\n",
       "   [35, 36, 37],\n",
       "   [38, 25, 39, 40, 41, 32, 42, 20, 43, 29, 44]],\n",
       "  [12, 4, 7, 3, 8, 9, 3, 11]),\n",
       " ('CUST0000000068',\n",
       "  [[45, 46, 47, 48],\n",
       "   [49, 50, 51, 52],\n",
       "   [53, 50, 54, 55, 56],\n",
       "   [57, 58, 59, 60, 61, 62, 63, 64, 54, 65, 47, 66, 67, 68],\n",
       "   [57, 60, 50, 69, 13, 47, 70, 71, 72, 68, 73],\n",
       "   [74, 50, 75],\n",
       "   [76, 77, 78, 59, 79, 80, 45, 54, 81, 82, 13, 47, 83, 84, 85, 68],\n",
       "   [63, 54, 86, 13, 87],\n",
       "   [88, 89, 77, 78, 90, 91, 81, 92, 65, 47, 66, 93, 94, 68],\n",
       "   [90, 95, 96],\n",
       "   [97, 88, 98, 99, 78, 100, 50, 54, 101, 102, 47, 103, 104, 105],\n",
       "   [106,\n",
       "    107,\n",
       "    88,\n",
       "    108,\n",
       "    45,\n",
       "    64,\n",
       "    50,\n",
       "    54,\n",
       "    109,\n",
       "    110,\n",
       "    111,\n",
       "    65,\n",
       "    112,\n",
       "    47,\n",
       "    84,\n",
       "    113,\n",
       "    85,\n",
       "    68],\n",
       "   [114, 59, 115, 116, 117, 118, 85, 119]],\n",
       "  [4, 4, 5, 14, 11, 3, 16, 5, 14, 3, 14, 18, 8])]"
      ]
     },
     "execution_count": 6,
     "metadata": {},
     "output_type": "execute_result"
    }
   ],
   "source": [
    "# {DATASET} user_cart_itemid_list 用戶id, 購物籃時間差(不會使用到), 此用戶的購物籃串列(每個串列包含多項目)。\n",
    "with gzip.open(f\"../preprocessing-data/{DATASET_NAME}_user_cart_itemid_list.gz\", \"rb\") as fp:\n",
    "    user_cart_itemid_list = pickle.load(fp)\n",
    "user_cart_itemid_list[:2]"
   ]
  },
  {
   "cell_type": "code",
   "execution_count": 7,
   "id": "361c43d7",
   "metadata": {},
   "outputs": [],
   "source": [
    "# Load {DATASET} confidences_Matrix\n",
    "with gzip.open(f\"../preprocessing-data/confidences/{DATASET_NAME}_confidences_array.gz\", \"rb\") as fp:\n",
    "    confidences = pickle.load(fp)"
   ]
  },
  {
   "cell_type": "code",
   "execution_count": 8,
   "id": "b83d2fe8",
   "metadata": {},
   "outputs": [
    {
     "name": "stdout",
     "output_type": "stream",
     "text": [
      "44\n"
     ]
    },
    {
     "data": {
      "text/html": [
       "<div>\n",
       "<style scoped>\n",
       "    .dataframe tbody tr th:only-of-type {\n",
       "        vertical-align: middle;\n",
       "    }\n",
       "\n",
       "    .dataframe tbody tr th {\n",
       "        vertical-align: top;\n",
       "    }\n",
       "\n",
       "    .dataframe thead th {\n",
       "        text-align: right;\n",
       "    }\n",
       "</style>\n",
       "<table border=\"1\" class=\"dataframe\">\n",
       "  <thead>\n",
       "    <tr style=\"text-align: right;\">\n",
       "      <th></th>\n",
       "      <th>TRANSACTION_DT</th>\n",
       "      <th>PRODUCT_ID</th>\n",
       "      <th>CUSTOMER_ID</th>\n",
       "      <th>CART_ID</th>\n",
       "      <th>NEW_ITEM_ID</th>\n",
       "    </tr>\n",
       "  </thead>\n",
       "  <tbody>\n",
       "    <tr>\n",
       "      <th>0</th>\n",
       "      <td>20060416</td>\n",
       "      <td>PRD0900173</td>\n",
       "      <td>CUST0000000031</td>\n",
       "      <td>0</td>\n",
       "      <td>0</td>\n",
       "    </tr>\n",
       "    <tr>\n",
       "      <th>1</th>\n",
       "      <td>20060416</td>\n",
       "      <td>PRD0900199</td>\n",
       "      <td>CUST0000000031</td>\n",
       "      <td>0</td>\n",
       "      <td>1</td>\n",
       "    </tr>\n",
       "    <tr>\n",
       "      <th>2</th>\n",
       "      <td>20060416</td>\n",
       "      <td>PRD0900867</td>\n",
       "      <td>CUST0000000031</td>\n",
       "      <td>0</td>\n",
       "      <td>2</td>\n",
       "    </tr>\n",
       "    <tr>\n",
       "      <th>3</th>\n",
       "      <td>20060416</td>\n",
       "      <td>PRD0901294</td>\n",
       "      <td>CUST0000000031</td>\n",
       "      <td>0</td>\n",
       "      <td>3</td>\n",
       "    </tr>\n",
       "    <tr>\n",
       "      <th>4</th>\n",
       "      <td>20060416</td>\n",
       "      <td>PRD0901986</td>\n",
       "      <td>CUST0000000031</td>\n",
       "      <td>0</td>\n",
       "      <td>4</td>\n",
       "    </tr>\n",
       "    <tr>\n",
       "      <th>...</th>\n",
       "      <td>...</td>\n",
       "      <td>...</td>\n",
       "      <td>...</td>\n",
       "      <td>...</td>\n",
       "      <td>...</td>\n",
       "    </tr>\n",
       "    <tr>\n",
       "      <th>1486181</th>\n",
       "      <td>20060604</td>\n",
       "      <td>PRD0901722</td>\n",
       "      <td>CUST0000999976</td>\n",
       "      <td>147357</td>\n",
       "      <td>222</td>\n",
       "    </tr>\n",
       "    <tr>\n",
       "      <th>1486182</th>\n",
       "      <td>20060604</td>\n",
       "      <td>PRD0901732</td>\n",
       "      <td>CUST0000999976</td>\n",
       "      <td>147357</td>\n",
       "      <td>2457</td>\n",
       "    </tr>\n",
       "    <tr>\n",
       "      <th>1486183</th>\n",
       "      <td>20060604</td>\n",
       "      <td>PRD0902897</td>\n",
       "      <td>CUST0000999976</td>\n",
       "      <td>147357</td>\n",
       "      <td>1904</td>\n",
       "    </tr>\n",
       "    <tr>\n",
       "      <th>1486184</th>\n",
       "      <td>20060604</td>\n",
       "      <td>PRD0903032</td>\n",
       "      <td>CUST0000999976</td>\n",
       "      <td>147357</td>\n",
       "      <td>223</td>\n",
       "    </tr>\n",
       "    <tr>\n",
       "      <th>1486185</th>\n",
       "      <td>20060604</td>\n",
       "      <td>PRD0904092</td>\n",
       "      <td>CUST0000999976</td>\n",
       "      <td>147357</td>\n",
       "      <td>2608</td>\n",
       "    </tr>\n",
       "  </tbody>\n",
       "</table>\n",
       "<p>1486186 rows × 5 columns</p>\n",
       "</div>"
      ],
      "text/plain": [
       "         TRANSACTION_DT  PRODUCT_ID     CUSTOMER_ID  CART_ID  NEW_ITEM_ID\n",
       "0              20060416  PRD0900173  CUST0000000031        0            0\n",
       "1              20060416  PRD0900199  CUST0000000031        0            1\n",
       "2              20060416  PRD0900867  CUST0000000031        0            2\n",
       "3              20060416  PRD0901294  CUST0000000031        0            3\n",
       "4              20060416  PRD0901986  CUST0000000031        0            4\n",
       "...                 ...         ...             ...      ...          ...\n",
       "1486181        20060604  PRD0901722  CUST0000999976   147357          222\n",
       "1486182        20060604  PRD0901732  CUST0000999976   147357         2457\n",
       "1486183        20060604  PRD0902897  CUST0000999976   147357         1904\n",
       "1486184        20060604  PRD0903032  CUST0000999976   147357          223\n",
       "1486185        20060604  PRD0904092  CUST0000999976   147357         2608\n",
       "\n",
       "[1486186 rows x 5 columns]"
      ]
     },
     "execution_count": 8,
     "metadata": {},
     "output_type": "execute_result"
    }
   ],
   "source": [
    "dataset = pd.read_csv(f\"../cleaned_dataset/{DATASET_NAME}_clean.csv\")\n",
    "\n",
    "# 最多購物籃\n",
    "max_cart_count = dataset.groupby(\"CUSTOMER_ID\")[\"CART_ID\"].nunique().max()\n",
    "print(max_cart_count)\n",
    "\n",
    "dataset"
   ]
  },
  {
   "cell_type": "markdown",
   "id": "a0877d82",
   "metadata": {},
   "source": [
    "# 切分資料集\n",
    "- 分成輸入資料與標籤資料\n",
    "- 訓練集:驗證集:測試集 = 7:1:2"
   ]
  },
  {
   "cell_type": "code",
   "execution_count": 9,
   "id": "73e9cf41",
   "metadata": {},
   "outputs": [],
   "source": [
    "# 切分資料集\n",
    "# train_set_size = int(len(user_cart_itemid_list) * 0.8)\n",
    "# valid_set_size = int(len(user_cart_itemid_list) * 0.1)\n",
    "# test_set_size = len(user_cart_itemid_list)-train_set_size-valid_set_size\n",
    "# train_set, valid_set, test_set = random_split(user_cart_itemid_list, [train_set_size, valid_set_size, test_set_size])\n",
    "# print(len(train_set))\n",
    "# print(len(valid_set))\n",
    "# print(len(test_set))"
   ]
  },
  {
   "cell_type": "code",
   "execution_count": 10,
   "id": "5edaa93d",
   "metadata": {},
   "outputs": [],
   "source": [
    "# 將切割好的資料集暫存起來\n",
    "\n",
    "# # 訓練集\n",
    "# filepath = \"../preprocessing-data/TaFeng_dataset/train_set.pkl\"\n",
    "# with open(filepath, \"wb\") as f:\n",
    "#     pickle.dump(train_set, f)\n",
    "# # 驗證集\n",
    "# filepath = \"../preprocessing-data/TaFeng_dataset/valid_set.pkl\"\n",
    "# with open(filepath, \"wb\") as f:\n",
    "#     pickle.dump(valid_set, f)\n",
    "# # 測試集\n",
    "# filepath = \"../preprocessing-data/TaFeng_dataset/test_set.pkl\"\n",
    "# with open(filepath, \"wb\") as f:\n",
    "#     pickle.dump(test_set, f)"
   ]
  },
  {
   "cell_type": "code",
   "execution_count": 11,
   "id": "b203d0c9",
   "metadata": {},
   "outputs": [],
   "source": [
    "# 讀取之前暫存的資料集\n",
    "\n",
    "# 載入訓練、驗證、測試集\n",
    "with open(f\"../preprocessing-data/{DATASET_NAME}_dataset/train_set.pkl\", \"rb\") as fp:\n",
    "    train_set = pickle.load(fp)\n",
    "with open(f\"../preprocessing-data/{DATASET_NAME}_dataset/valid_set.pkl\", \"rb\") as fp:\n",
    "    valid_set = pickle.load(fp)\n",
    "with open(f\"../preprocessing-data/{DATASET_NAME}_dataset/test_set.pkl\", \"rb\") as fp:\n",
    "    test_set = pickle.load(fp)"
   ]
  },
  {
   "cell_type": "markdown",
   "id": "c9585447",
   "metadata": {},
   "source": [
    "# Batch"
   ]
  },
  {
   "cell_type": "code",
   "execution_count": 12,
   "id": "a209539b",
   "metadata": {
    "scrolled": true
   },
   "outputs": [
    {
     "data": {
      "text/plain": [
       "device(type='cuda')"
      ]
     },
     "execution_count": 12,
     "metadata": {},
     "output_type": "execute_result"
    }
   ],
   "source": [
    "device = torch.device(\"cuda\" if torch.cuda.is_available() else \"cpu\")\n",
    "device"
   ]
  },
  {
   "cell_type": "code",
   "execution_count": 13,
   "id": "b348e2b5",
   "metadata": {},
   "outputs": [],
   "source": [
    "# 定義資料轉換函數(於collate_batch函式中使用)\n",
    "item_index_pipeline = lambda x : [[model.wv.key_to_index[j] for j in i] for i in x] # 取得購物籃中，項目的索引值(只有使用Item2Vec時會需要)\n",
    "item_label_pipeline = lambda x : [model.wv.key_to_index[j] for j in x]"
   ]
  },
  {
   "cell_type": "code",
   "execution_count": 14,
   "id": "92fb3dee",
   "metadata": {},
   "outputs": [],
   "source": [
    "class TensorDataset(Dataset):\n",
    "    # TensorDataset繼承Dataset, 重載__init__, __getitem__, __len__\n",
    "    # 實現將一組Tensor數據封裝成Tensor數據集\n",
    "    # 能夠通過Index得到數據集的數據，能夠通過len，得到數據集大小\n",
    "    def __init__(self, data_tensor):\n",
    "        self.data_tensor = data_tensor\n",
    "    def __getitem__(self, index):\n",
    "        return self.data_tensor[index]\n",
    "    def __len__(self):\n",
    "        return len(self.data_tensor)\n",
    "\n",
    "# 輸出userID, input_list跟label(最後一個購物籃)\n",
    "def collate_batch(batch):\n",
    "    # 使用ID、時間差、訓練的購物籃項目、預測的購物籃項目\n",
    "    userID, input_item_list, label_item_list, input_size_list, label_size_list = [], [], [], [], []\n",
    "    for _user in batch:\n",
    "        #　userID\n",
    "        userID.append(_user[0])\n",
    "        # 所有購物籃的項目ID串列中的最後一個購物籃項目ID\n",
    "#         label_item_list.append(torch.tensor(_user[1][-1]))\n",
    "        label_size_list.append(torch.tensor(_user[2][-1]))\n",
    "        \n",
    "        # 不使用Item2Vec進行項目嵌入\n",
    "        if isI2V == 0:\n",
    "            train_list = _user[1][0:-1]\n",
    "            label_list = torch.tensor(_user[1][-1])\n",
    "        # 使用Item2Vec進行項目嵌入\n",
    "        else:\n",
    "            train_list = item_index_pipeline(_user[1][0:-1])\n",
    "            label_list = torch.tensor(item_label_pipeline(_user[1][-1]))\n",
    "        input_size_list.append(_user[2][0:-1])\n",
    "        \n",
    "        input_item_list.append(train_list) #　所有購物籃的項目ID串列(除了最後一個購物籃)\n",
    "        label_item_list.append(label_list)\n",
    "    \n",
    "    return userID, input_item_list, label_item_list, input_size_list, label_size_list"
   ]
  },
  {
   "cell_type": "code",
   "execution_count": 15,
   "id": "f442f66a",
   "metadata": {},
   "outputs": [],
   "source": [
    "# 轉成 Dataset\n",
    "split_train_ = TensorDataset(train_set)\n",
    "split_valid_ = TensorDataset(valid_set)\n",
    "split_test_ = TensorDataset(test_set)"
   ]
  },
  {
   "cell_type": "code",
   "execution_count": 16,
   "id": "54fe7bc6",
   "metadata": {},
   "outputs": [],
   "source": [
    "# DataLoader \n",
    "train_dataloader = DataLoader(split_train_, batch_size=BATCH_SIZE, shuffle=True, collate_fn=collate_batch, drop_last=True)\n",
    "valid_dataloader = DataLoader(split_valid_, batch_size=BATCH_SIZE, shuffle=True, collate_fn=collate_batch, drop_last=True)\n",
    "test_dataloader = DataLoader(split_test_, batch_size=BATCH_SIZE, shuffle=True, collate_fn=collate_batch, drop_last=True)"
   ]
  },
  {
   "cell_type": "markdown",
   "id": "637657be",
   "metadata": {},
   "source": [
    "# Self-Attention"
   ]
  },
  {
   "cell_type": "code",
   "execution_count": 17,
   "id": "a96171ad",
   "metadata": {},
   "outputs": [],
   "source": [
    "# 使用nn.MultiheadAttention\n",
    "# 輸入一個用戶的一個購物籃，輸出購物籃嵌入\n",
    "class SelfAttention(nn.Module):\n",
    "    def __init__(self, embed_dim, model_dim): #項目向量維度，輸出模型的維度\n",
    "        super(SelfAttention, self).__init__()\n",
    "        self.embed_dim = embed_dim\n",
    "        self.model_dim = model_dim\n",
    "        \n",
    "        # 初始化Q, K, V 矩陣\n",
    "        self.query_matrix = nn.Linear(embed_dim, model_dim)\n",
    "        xavier_uniform_(self.query_matrix.weight)\n",
    "        self.key_matrix = nn.Linear(embed_dim, model_dim)\n",
    "        xavier_uniform_(self.key_matrix.weight)\n",
    "        self.value_matrix = nn.Linear(embed_dim, model_dim)\n",
    "        xavier_uniform_(self.value_matrix.weight)\n",
    "        self.multihead_attn = nn.MultiheadAttention(embed_dim, num_heads=1)\n",
    "        \n",
    "    def forward(self, inputs, attention_mask):\n",
    "        \n",
    "        # 輸入一個項目向量，透過三個可學習的參數矩陣，得到計算所需要的 q,k,v\n",
    "        q = self.query_matrix(inputs)\n",
    "        k = self.key_matrix(inputs)\n",
    "        v = self.value_matrix(inputs)\n",
    "        \n",
    "        attn_output, attn_output_weight = self.multihead_attn(q, k, v, key_padding_mask=attention_mask.transpose(0,1))\n",
    "        \n",
    "        output_mean = torch.tensor([[0 for _ in range(MODEL_DIMENSION)] for _ in range(len(attention_mask))], dtype=torch.float).to(device)\n",
    "        for i, cart in enumerate(attention_mask):\n",
    "            for j, mask in enumerate(cart):\n",
    "                if mask == False:\n",
    "                    output_mean[i] = attn_output[i][j] # 使用最後一個項目作為輸出\n",
    "        basket_embedding = output_mean\n",
    "        \n",
    "        return basket_embedding"
   ]
  },
  {
   "cell_type": "markdown",
   "id": "a3043def",
   "metadata": {},
   "source": [
    "   # LSTM"
   ]
  },
  {
   "cell_type": "code",
   "execution_count": 18,
   "id": "3b8530b2",
   "metadata": {},
   "outputs": [],
   "source": [
    "class LSTM(nn.Module):\n",
    "    def __init__(self, input_size, output_size, hiddenlayer1 = 512, hiddenlayer2 = 256, hiddenlayer3 = 128):\n",
    "        super(LSTM, self).__init__()\n",
    "        self.lstm = torch.nn.LSTM(input_size, HIDDEN_SIZE, 2)\n",
    "        self.hiddenlayer1 = torch.nn.Linear(max_cart_count * HIDDEN_SIZE, hiddenlayer1)\n",
    "        self.hiddenlayer2 = torch.nn.Linear(hiddenlayer1, hiddenlayer1)\n",
    "        self.hiddenlayer3 = torch.nn.Linear(hiddenlayer1, hiddenlayer2)\n",
    "        self.hiddenlayer4 = torch.nn.Linear(hiddenlayer2, hiddenlayer3)\n",
    "        self.embed = torch.nn.Linear(hiddenlayer3, EMBEDDING_DIMENSION)\n",
    "        self.leakyrelu = torch.nn.LeakyReLU()\n",
    "    \n",
    "    def forward(self, inputs):\n",
    "        output, (h,c) = self.lstm(inputs)\n",
    "        hidden1 = self.hiddenlayer1(output.view(max_cart_count * HIDDEN_SIZE))\n",
    "        hidden2 = self.hiddenlayer2(hidden1)\n",
    "        hidden3 = self.hiddenlayer3(hidden2)\n",
    "        hidden4 = self.hiddenlayer4(hidden3)\n",
    "        output = self.embed(hidden4)\n",
    "        return output"
   ]
  },
  {
   "cell_type": "markdown",
   "id": "00cd99b7",
   "metadata": {},
   "source": [
    "# Transformer"
   ]
  },
  {
   "cell_type": "code",
   "execution_count": 19,
   "id": "bc0ed90c",
   "metadata": {},
   "outputs": [],
   "source": [
    "class PositionalEncoding(nn.Module):\n",
    "    def __init__(self, d_model:int, dropout, maxlen:int=500):\n",
    "        super(PositionalEncoding, self).__init__()\n",
    "        # den 是把10000^(2i/d_model)取log_e，前面加負號是求倒數\n",
    "        den = torch.exp(-torch.arange(0, d_model, 2) * math.log(10000) / d_model)\n",
    "        pos = torch.arange(0, maxlen).reshape(maxlen, 1)\n",
    "        pos_embedding = torch.zeros(maxlen, d_model)#.to(device)\n",
    "        pos_embedding[:, 0::2] = torch.sin(pos*den)\n",
    "        pos_embedding[:, 1::2] = torch.cos(pos*den)\n",
    "        \n",
    "        pos_embedding = pos_embedding.unsqueeze(0)\n",
    "        \n",
    "        self.dropout = nn.Dropout(dropout)\n",
    "        self.register_buffer(\"pos_embedding\", pos_embedding)\n",
    "        \n",
    "    def forward(self, token_embedding):\n",
    "        return self.dropout(token_embedding+ self.pos_embedding[:, :token_embedding.size(1), :])\n",
    "    \n",
    "class TransformerEncoder(nn.Module):\n",
    "    def __init__(self, d_model, num_heads=8, num_layers=6):\n",
    "        super(TransformerEncoder, self).__init__()\n",
    "        self.pe = PositionalEncoding(d_model=d_model, dropout=0.5, maxlen=max_cart_count*2)\n",
    "        # 創建 Transformer 模型\n",
    "        self.transformer = nn.TransformerEncoder(\n",
    "            nn.TransformerEncoderLayer(d_model=d_model, nhead=num_heads),\n",
    "            num_layers=num_layers\n",
    "        )\n",
    "    \n",
    "    def forward(self, baskets_embedding):\n",
    "        baskets_embedding_pe = self.pe(baskets_embedding)\n",
    "        \n",
    "        # 購物籃padding的遮罩\n",
    "        padding_mask = ~baskets_embedding.sum(dim=-1).ne(0).transpose(0,1)\n",
    "        \n",
    "        output = self.transformer(baskets_embedding_pe.to(torch.float32), src_key_padding_mask=padding_mask.to(torch.float32))\n",
    "        return output"
   ]
  },
  {
   "cell_type": "markdown",
   "id": "9cdd237c",
   "metadata": {},
   "source": [
    "# MLP層"
   ]
  },
  {
   "cell_type": "code",
   "execution_count": 20,
   "id": "e8fb5303",
   "metadata": {},
   "outputs": [],
   "source": [
    "class MLPforItem(nn.Module):\n",
    "    def __init__(self, embed_dim, hidden_dim, items_dim):\n",
    "        super(MLPforItem, self).__init__()\n",
    "        # hidden layer\n",
    "        self.hidden = nn.Linear(embed_dim, hidden_dim)\n",
    "        xavier_uniform_(self.hidden.weight)\n",
    "        self.norm = nn.BatchNorm1d(hidden_dim, momentum=0.03)\n",
    "        self.relu = nn.ReLU()\n",
    "        # output layer\n",
    "        self.output = nn.Linear(hidden_dim, items_dim)\n",
    "        self.softmax = nn.Softmax(dim=0)\n",
    "    def forward(self, inputs):\n",
    "        y = self.relu(self.norm(self.hidden(inputs)))\n",
    "        return self.output(y)\n",
    "#         return self.softmax(self.output(y))"
   ]
  },
  {
   "cell_type": "code",
   "execution_count": 21,
   "id": "b52aa95b",
   "metadata": {},
   "outputs": [],
   "source": [
    "class MLPforSize(nn.Module):\n",
    "    def __init__(self, embed_dim):\n",
    "        super(MLPforSize, self).__init__()\n",
    "        # predict layer\n",
    "        self.predict = nn.Linear(embed_dim, 1)\n",
    "        self.relu = nn.ReLU()\n",
    "    def forward(self, inputs):\n",
    "        output = self.relu(self.predict(inputs))\n",
    "        return output"
   ]
  },
  {
   "cell_type": "markdown",
   "id": "9afdd949",
   "metadata": {},
   "source": [
    "# 損失函數"
   ]
  },
  {
   "cell_type": "code",
   "execution_count": 22,
   "id": "9b8084b8",
   "metadata": {},
   "outputs": [],
   "source": [
    "# MSE\n",
    "def mean_square_error(prediction, target):\n",
    "    predictions = prediction[0]\n",
    "    targets = torch.tensor([target[0]], dtype=torch.float).to(device)\n",
    "    loss = F.mse_loss(predictions, targets)\n",
    "    for i in range(1, len(prediction)):\n",
    "        predictions = prediction[i]\n",
    "        targets= torch.tensor([target[i]], dtype=torch.float).to(device)\n",
    "        loss += F.mse_loss(predictions, targets)\n",
    "    return loss"
   ]
  },
  {
   "cell_type": "code",
   "execution_count": 23,
   "id": "578a7e8b",
   "metadata": {},
   "outputs": [],
   "source": [
    "# cross_entropy_loss\n",
    "def cross_entropy_loss(predictions, targets):\n",
    "    # 創建稀疏張量的索引和值\n",
    "    indices = []\n",
    "    values = []\n",
    "    for i, t in enumerate(targets):\n",
    "        for v in t:\n",
    "            indices.append([i, v])\n",
    "            values.append(1)\n",
    "            \n",
    "    # 創建稀疏張量\n",
    "    sparse_targets = torch.sparse_coo_tensor(indices=torch.tensor(indices).t(),\n",
    "                                             values=torch.tensor(values, dtype=torch.float32),\n",
    "                                             size=(len(targets), items_count), device=device)\n",
    "    sparse_targets = sparse_targets.to_dense()\n",
    "    \n",
    "    loss = F.binary_cross_entropy_with_logits(predictions, sparse_targets)\n",
    "    return loss"
   ]
  },
  {
   "cell_type": "markdown",
   "id": "08aefe4a",
   "metadata": {},
   "source": [
    "# 評估指標"
   ]
  },
  {
   "cell_type": "code",
   "execution_count": 24,
   "id": "02891cdd",
   "metadata": {},
   "outputs": [],
   "source": [
    "def format_metric(result_dict):\n",
    "    assert type(result_dict) == dict\n",
    "    format_str = []\n",
    "    metrics = np.unique([k for k in result_dict.keys()])\n",
    "    for metric in metrics:\n",
    "        name = '{}'.format(metric)\n",
    "        m = result_dict[name]\n",
    "        if type(m) is float or type(m) is np.float32 or type(m) is np.float64:\n",
    "            format_str.append(\"{}: {:<.4f}\".format(name, m))\n",
    "        elif type(m) is int or type(m) is np.int32 or type(m) is np.int64:\n",
    "            format_str.append(\"{}: {}\".format(name, m))\n",
    "    return \", \".join(format_str)"
   ]
  },
  {
   "cell_type": "markdown",
   "id": "fa92db9d",
   "metadata": {},
   "source": [
    "## F1-score"
   ]
  },
  {
   "cell_type": "code",
   "execution_count": 25,
   "id": "f7cca32b",
   "metadata": {},
   "outputs": [],
   "source": [
    "def calculate_f1_score(predictions, targets, k_list):\n",
    "    \"\"\"\n",
    "    計算 F1-score@K。\n",
    "\n",
    "    Args:\n",
    "        predictions: 二維的預測機率矩陣，大小為 [num_users, num_items]。\n",
    "        targets: 一個包含每個用戶真實標籤的列表，其中每個列表的大小不同。\n",
    "        k_list: 用預測出的K值，計算F1-score@K\n",
    "\n",
    "    Returns:\n",
    "        F1-score@K 分數。\n",
    "    \"\"\"\n",
    "    # 將預測機率矩陣值轉換為 Pytorch 張量\n",
    "    predictions = torch.from_numpy(np.array(predictions, dtype=np.float32))\n",
    "    num_users = len(targets)\n",
    "    f1_score_eval = dict()\n",
    "    \n",
    "    precision_sum = 0.0\n",
    "    recall_sum = 0.0\n",
    "    f1_score_sum = 0.0\n",
    "    for i in range(num_users):\n",
    "        \n",
    "        # 將用戶 i 的真實標籤轉換為 PyTorch 張量。\n",
    "        labels = torch.from_numpy(np.array(targets[i], dtype=np.int64))\n",
    "        # 計算用戶 i 在預測機率矩陣中機率最高的 K 個項目索引\n",
    "        top_k_item_labels = torch.topk(predictions[i], k_list[i])[1]\n",
    "        # 計算用戶 i 的真實標籤和預測標籤的交集 (TP)\n",
    "        true_positives = torch.sum(torch.sum(torch.eq(top_k_item_labels, labels.unsqueeze(1)).to(torch.float32), dim=1)).item()\n",
    "        # 計算用戶 i 的真實標籤和預測標籤的聯集\n",
    "        predicted_positives = k_list[i] # TP+FP\n",
    "        actual_positives = len(labels)  # TP+FN\n",
    "        # 預防 K 預測為0導致 precision 分母為0\n",
    "        if predicted_positives == 0:\n",
    "            precision = 0.0\n",
    "        else:\n",
    "            precision = true_positives / predicted_positives\n",
    "        # 預防實際 K 為0導致 recall 分母為0\n",
    "        if actual_positives == 0:\n",
    "            recall = 0.0\n",
    "        else:\n",
    "            recall = true_positives / actual_positives\n",
    "        # 計算F1-score\n",
    "        if precision + recall == 0:\n",
    "            f1_score = 0.0\n",
    "        else:\n",
    "            f1_score = 2 * precision * recall / (precision + recall)\n",
    "        precision_sum += precision\n",
    "        recall_sum += recall\n",
    "        f1_score_sum += f1_score\n",
    "        \n",
    "    # 計算平均分數\n",
    "    precision = precision_sum / float(num_users)\n",
    "    recall = recall_sum / float(num_users)\n",
    "    f1_score = f1_score_sum / float(num_users)\n",
    "    # 儲存到dict\n",
    "    key = \"{}\".format(\"Recall\")\n",
    "    f1_score_eval[key] = recall\n",
    "    key = \"{}\".format(\"Precision\")\n",
    "    f1_score_eval[key] = precision\n",
    "    key = \"{}\".format(\"F1-score\")\n",
    "    f1_score_eval[key] = f1_score\n",
    "    \n",
    "    return f1_score_eval"
   ]
  },
  {
   "cell_type": "markdown",
   "id": "506ff404",
   "metadata": {},
   "source": [
    "## NDCG"
   ]
  },
  {
   "cell_type": "code",
   "execution_count": 26,
   "id": "4c566188",
   "metadata": {},
   "outputs": [],
   "source": [
    "def calculate_ndcg(basket_predictions, basket_targets, size_predictions, size_targets):\n",
    "    \"\"\"\n",
    "    計算 NDCG@K。\n",
    "\n",
    "    Args:\n",
    "        basket_predictions: 預測購物籃項目\n",
    "        bakset_targets: 實際購物籃項目\n",
    "        size_predictions: 預測購物籃大小\n",
    "        size_targets: 實際購物籃大小  \n",
    "\n",
    "    Returns:\n",
    "        NDCG@K 分數。\n",
    "    \"\"\"\n",
    "    # 將預測機率矩陣轉換為 PyTorch 張量\n",
    "    predictions = torch.from_numpy(np.array(basket_predictions, dtype=np.float32))\n",
    "    num_users = len(basket_targets)\n",
    "    ndcg_eval = dict()\n",
    "    \n",
    "    ndcg_sum = 0.0\n",
    "    for i in range(num_users):\n",
    "        # 將用戶 i 的真實標籤轉換為 PyTorch 張量\n",
    "        labels = torch.from_numpy(np.array(basket_targets[i], dtype=np.int64))\n",
    "        # 計算用戶 i 在預測機率矩陣中機率最高的 K 個項目的索引=標籤\n",
    "        top_k_item_labels = torch.topk(basket_predictions[i], size_predictions[i])[1]\n",
    "        # 計算 DCG@K\n",
    "        dcg_at_k = torch.sum(torch.nan_to_num(torch.div(1.0, torch.log2(torch.arange(size_predictions[i], dtype=torch.float32) +2))) * (torch.eq(top_k_item_labels, labels.unsqueeze(1)).to(torch.float32)))\n",
    "        # 計算 IDCG@K\n",
    "        idcg_at_k = torch.sum(torch.div(1.0, torch.log2(torch.arange(len(labels), dtype=torch.float32) + 2)))\n",
    "        # 計算 NDCG@K * Penalty weight\n",
    "        if torch.eq(idcg_at_k, 0):\n",
    "            ndcg_at_k = idcg_at_k\n",
    "        else:\n",
    "            ndcg_at_k = (dcg_at_k / idcg_at_k) * (size_targets[i] / (size_targets[i] + abs(size_targets[i] - size_predictions[i])))\n",
    "        ndcg_sum += ndcg_at_k.item()\n",
    "    #　計算平均　NDCG@K 分數\n",
    "    ndcg = ndcg_sum / float(num_users)\n",
    "    key = \"{}\".format(\"NDCG\")\n",
    "    ndcg_eval[key] = ndcg\n",
    "\n",
    "    return ndcg_eval"
   ]
  },
  {
   "cell_type": "code",
   "execution_count": 27,
   "id": "4b4fe7dc",
   "metadata": {},
   "outputs": [],
   "source": [
    "def calculate_mae(size_predictions, size_targets):\n",
    "    sum = 0\n",
    "    num_users = len(size_targets)\n",
    "    mae_eval = dict()\n",
    "    for i in range(num_users):\n",
    "        sum += abs(size_predictions[i] - (size_targets[i]).item())\n",
    "    key = \"{}\".format(\"MAE\")\n",
    "    mae_eval[key] = sum / num_users\n",
    "    return mae_eval"
   ]
  },
  {
   "cell_type": "markdown",
   "id": "213301db",
   "metadata": {},
   "source": [
    "# 訓練&測試"
   ]
  },
  {
   "cell_type": "code",
   "execution_count": 28,
   "id": "5d503206",
   "metadata": {},
   "outputs": [],
   "source": [
    "# 訓練模型\n",
    "def train_model():\n",
    "    my_model.train()\n",
    "    loss_list = []\n",
    "    \n",
    "    for batch_idx, (userID, basket_input, basket_label, size_input, size_label) in enumerate(tqdm(train_dataloader)):\n",
    "        optimizer.zero_grad()\n",
    "        basket_output, size_output = my_model(basket_input, size_input)\n",
    "        # 計算損失\n",
    "        loss = ALPHA * mean_square_error(size_output, size_label) + (1 - ALPHA) * cross_entropy_loss(basket_output, basket_label)\n",
    "        loss_list.append(loss.item())\n",
    "        loss.backward()\n",
    "        optimizer.step()\n",
    "        \n",
    "        if (batch_idx%100 == 0) or (batch_idx == len(train_dataloader)-1):\n",
    "            precentage = (100 * batch_idx/len(train_dataloader))\n",
    "            print(f\"Epoch {epoch}: {precentage:.0f}%, loss: {loss.item():.6f}\")\n",
    "            \n",
    "        with torch.no_grad():\n",
    "            basket_output = torch.from_numpy(np.array(basket_output.cpu(), dtype=np.float32))\n",
    "            size_output = np.round(np.squeeze(np.array([_.cpu() for _ in size_output], dtype=np.float32))).astype(int).tolist()\n",
    "            if batch_idx == 0:\n",
    "                basket_outputs = basket_output\n",
    "                basket_labels = basket_label\n",
    "                size_outputs = size_output\n",
    "                size_labels = size_label\n",
    "            else:\n",
    "                basket_outputs = torch.cat( (basket_outputs, basket_output),-2 )\n",
    "                basket_labels = basket_labels + basket_label\n",
    "                size_outputs = size_outputs + size_output\n",
    "                size_labels = size_labels + size_label\n",
    "                \n",
    "    with torch.no_grad():\n",
    "        evaluations = calculate_f1_score(basket_outputs, basket_labels, size_outputs) \n",
    "        res_str = '(' + format_metric(evaluations) + ')'\n",
    "        print(f\"                      {res_str}\\n\")\n",
    "\n",
    "        evaluations = calculate_ndcg(basket_outputs, basket_labels, size_outputs, size_labels) \n",
    "        res_str = '(' + format_metric(evaluations) + ')'\n",
    "        print(f\"                      {res_str}\\n\")\n",
    "\n",
    "        evaluations = calculate_mae(size_outputs, size_labels)\n",
    "        res_str = '(' + format_metric(evaluations) + ')'\n",
    "        print(f\"                      {res_str}\\n\")\n",
    "        \n",
    "    return torch.mean(torch.tensor(loss_list))"
   ]
  },
  {
   "cell_type": "code",
   "execution_count": 29,
   "id": "b0799869",
   "metadata": {},
   "outputs": [],
   "source": [
    "# 驗證模型\n",
    "def evaluate_model():\n",
    "    my_model.eval()\n",
    "    loss_list = []\n",
    "    for batch_idx, (userID, basket_input, basket_label, size_input, size_label) in enumerate(tqdm(valid_dataloader)):\n",
    "        basket_output, size_output= my_model(basket_input, size_input)\n",
    "        # 計算損失\n",
    "        loss = ALPHA * mean_square_error(size_output, size_label) + (1 - ALPHA) * cross_entropy_loss(basket_output, basket_label)\n",
    "        loss_list.append(loss.item())\n",
    "        \n",
    "        with torch.no_grad():\n",
    "            basket_output = torch.from_numpy(np.array(basket_output.cpu(), dtype=np.float32))\n",
    "            size_output = np.round(np.squeeze(np.array([_.cpu() for _ in size_output], dtype=np.float32))).astype(int).tolist()\n",
    "            if batch_idx == 0:\n",
    "                basket_outputs = basket_output\n",
    "                basket_labels = basket_label\n",
    "                size_outputs = size_output\n",
    "                size_labels = size_label\n",
    "            else:\n",
    "                basket_outputs = torch.cat( (basket_outputs, basket_output),-2 )\n",
    "                basket_labels = basket_labels + basket_label\n",
    "                size_outputs = size_outputs + size_output\n",
    "                size_labels = size_labels + size_label\n",
    "        \n",
    "    with torch.no_grad():\n",
    "        evaluations = calculate_f1_score(basket_outputs, basket_labels, size_outputs) \n",
    "        res_str = '(' + format_metric(evaluations) + ')'\n",
    "        print(f\"                      {res_str}\\n\")\n",
    "\n",
    "        evaluations = calculate_ndcg(basket_outputs, basket_labels, size_outputs, size_labels) \n",
    "        res_str = '(' + format_metric(evaluations) + ')'\n",
    "        print(f\"                      {res_str}\\n\")\n",
    "\n",
    "        evaluations = calculate_mae(size_outputs, size_labels)\n",
    "        res_str = '(' + format_metric(evaluations) + ')'\n",
    "        print(f\"                      {res_str}\\n\")\n",
    "        \n",
    "    return torch.mean(torch.tensor(loss_list))"
   ]
  },
  {
   "cell_type": "code",
   "execution_count": 30,
   "id": "5e8d7319",
   "metadata": {},
   "outputs": [],
   "source": [
    "# 測試模型\n",
    "def test_model():\n",
    "    my_model.eval()\n",
    "    loss_list = []\n",
    "    for batch_idx, (userID, basket_input, basket_label, size_input, size_label) in enumerate(tqdm(test_dataloader)):\n",
    "        basket_output, size_output = my_model(basket_input, size_input)\n",
    "        # 計算損失\n",
    "        loss = ALPHA * mean_square_error(size_output, size_label) + (1 - ALPHA) * cross_entropy_loss(basket_output, basket_label)\n",
    "        loss_list.append(loss.item())\n",
    "        \n",
    "        with torch.no_grad():\n",
    "            basket_output = torch.from_numpy(np.array(basket_output.cpu(), dtype=np.float32))\n",
    "            size_output = np.round(np.squeeze(np.array([_.cpu() for _ in size_output], dtype=np.float32))).astype(int).tolist()\n",
    "            if batch_idx == 0:\n",
    "                basket_outputs = basket_output\n",
    "                basket_labels = basket_label\n",
    "                size_outputs = size_output\n",
    "                size_labels = size_label\n",
    "            else:\n",
    "                basket_outputs = torch.cat( (basket_outputs, basket_output),-2 )\n",
    "                basket_labels = basket_labels + basket_label\n",
    "                size_outputs = size_outputs + size_output\n",
    "                size_labels = size_labels + size_label\n",
    "    \n",
    "    with torch.no_grad():\n",
    "        f1_evaluations = calculate_f1_score(basket_outputs, basket_labels, size_outputs)\n",
    "        precision_list = [f1_evaluations[\"Precision\"]]\n",
    "        recall_list =  [f1_evaluations[\"Recall\"]]\n",
    "        f1_list = [f1_evaluations[\"F1-score\"]]\n",
    "        res_str = '(' + format_metric(f1_evaluations) + ')'\n",
    "        print(f\"                      {res_str}\\n\")\n",
    "        \n",
    "        ndcg_evaluations = calculate_ndcg(basket_outputs, basket_labels, size_outputs, size_labels) \n",
    "        ndcg_list = [ndcg_evaluations[\"NDCG\"]]\n",
    "        res_str = '(' + format_metric(ndcg_evaluations) + ')'\n",
    "        print(f\"                      {res_str}\\n\")\n",
    "        \n",
    "        mae_evaluations = calculate_mae(size_outputs, size_labels)\n",
    "        mae_list = [mae_evaluations[\"MAE\"]]\n",
    "        res_str = '(' + format_metric(mae_evaluations) + ')'\n",
    "        print(f\"                      {res_str}\\n\")\n",
    "        \n",
    "    return torch.mean(torch.tensor(loss_list)), recall_list, precision_list, f1_list, ndcg_list, mae_list"
   ]
  },
  {
   "cell_type": "markdown",
   "id": "b1b6c6a9",
   "metadata": {},
   "source": [
    "# MC"
   ]
  },
  {
   "cell_type": "code",
   "execution_count": 31,
   "id": "3ed6dee8",
   "metadata": {},
   "outputs": [],
   "source": [
    "def create_transition_matrix(baskets, items):\n",
    "    # 統計所有項目在前一個購物籃和下一個購物籃中出現的次數，\n",
    "    # 以及在前一個購物籃中出現的總次數\n",
    "    cooccur_counts = {}\n",
    "    prev_basket_counts = {}\n",
    "    for user_baskets in baskets:\n",
    "        for i in range(1, len(user_baskets)):\n",
    "            prev_basket = user_baskets[i-1]\n",
    "            cur_basket = user_baskets[i]\n",
    "            for item1 in prev_basket:\n",
    "                if item1 not in prev_basket_counts:\n",
    "                    prev_basket_counts[item1] = 0\n",
    "                prev_basket_counts[item1] += 1\n",
    "                for item2 in cur_basket:\n",
    "                    if item2 not in cooccur_counts:\n",
    "                        cooccur_counts[item2] = {}\n",
    "                    if item1 not in cooccur_counts[item2]:\n",
    "                        cooccur_counts[item2][item1] = 0\n",
    "                    cooccur_counts[item2][item1] += 1\n",
    "\n",
    "    # 將統計數據轉換為轉移矩陣\n",
    "    # items = sorted(list(prev_basket_counts.keys()))\n",
    "    num_items = len(items)\n",
    "    transition_matrix = np.zeros((num_items, num_items))\n",
    "    for i, item1 in tqdm(enumerate(items)):\n",
    "        for j, item2 in enumerate(items):\n",
    "            if item2 in cooccur_counts and item1 in cooccur_counts[item2]:\n",
    "                cooccur_count = cooccur_counts[item2][item1]\n",
    "                prev_basket_count = prev_basket_counts[item1]\n",
    "                transition_matrix[i, j] = cooccur_count / prev_basket_count\n",
    "    return transition_matrix"
   ]
  },
  {
   "cell_type": "code",
   "execution_count": 32,
   "id": "41ad02ea",
   "metadata": {},
   "outputs": [],
   "source": [
    "def predict_next_basket(users_baskets, transition_matrix, items, top_n=50):\n",
    "    num_users = len(users_baskets)\n",
    "    num_items = len(items)\n",
    "    predictions = []\n",
    "    pred_label = []\n",
    "    for i in range(num_users):\n",
    "        last_basket = users_baskets[i][-1] # 第i個用戶的最後一個購物籃\n",
    "        cur_prediction = np.zeros(num_items)\n",
    "        prev_item_idx = np.array([prev_item for prev_item in last_basket])\n",
    "        for j in range(num_items):\n",
    "            prob = np.sum(transition_matrix[prev_item_idx, j])\n",
    "            cur_prediction[j] = prob * (1/len(last_basket))\n",
    "        predictions.append(cur_prediction)\n",
    "    return predictions"
   ]
  },
  {
   "cell_type": "code",
   "execution_count": 33,
   "id": "36cd123d",
   "metadata": {},
   "outputs": [],
   "source": [
    "mc_item = dataset[\"NEW_ITEM_ID\"].unique() # 所有項目"
   ]
  },
  {
   "cell_type": "code",
   "execution_count": 34,
   "id": "a7fd9194",
   "metadata": {},
   "outputs": [],
   "source": [
    "train_list = []\n",
    "for batch_idx, (userID, basket_input, basket_label, size_input, size_label) in enumerate(train_dataloader):\n",
    "    for i in basket_input:\n",
    "        train_list.append(i)"
   ]
  },
  {
   "cell_type": "code",
   "execution_count": 35,
   "id": "4073c2c3",
   "metadata": {},
   "outputs": [
    {
     "name": "stderr",
     "output_type": "stream",
     "text": [
      "3977it [00:08, 494.42it/s]\n"
     ]
    },
    {
     "name": "stdout",
     "output_type": "stream",
     "text": [
      "transition_matrix_size=tensor([[4.9331e-01, 1.7601e-01, 1.4860e-01,  ..., 0.0000e+00, 0.0000e+00,\n",
      "         0.0000e+00],\n",
      "        [3.0041e-01, 5.3523e-01, 1.1192e-01,  ..., 7.2722e-05, 0.0000e+00,\n",
      "         0.0000e+00],\n",
      "        [2.9213e-01, 1.2669e-01, 4.9516e-01,  ..., 0.0000e+00, 0.0000e+00,\n",
      "         8.3514e-05],\n",
      "        ...,\n",
      "        [0.0000e+00, 0.0000e+00, 0.0000e+00,  ..., 0.0000e+00, 0.0000e+00,\n",
      "         0.0000e+00],\n",
      "        [3.3333e-01, 3.3333e-01, 3.3333e-01,  ..., 0.0000e+00, 0.0000e+00,\n",
      "         0.0000e+00],\n",
      "        [0.0000e+00, 0.0000e+00, 0.0000e+00,  ..., 0.0000e+00, 0.0000e+00,\n",
      "         0.0000e+00]], device='cuda:0', dtype=torch.float64)\n"
     ]
    }
   ],
   "source": [
    "# 建立所有用戶共用的轉移矩陣\n",
    "\n",
    "transition_matrix = create_transition_matrix(train_list, mc_item)\n",
    "transition_array = torch.tensor(transition_matrix, dtype=torch.float64).to(device)\n",
    "print(f\"transition_matrix_size={transition_array}\")"
   ]
  },
  {
   "cell_type": "markdown",
   "id": "1abc8fbc",
   "metadata": {},
   "source": [
    "# 完整模型"
   ]
  },
  {
   "cell_type": "code",
   "execution_count": 36,
   "id": "5ad81bac",
   "metadata": {},
   "outputs": [
    {
     "name": "stdout",
     "output_type": "stream",
     "text": [
      "items_count= 3977\n",
      "tensor([1.8808e+00, 2.1423e-01, 4.4003e-01,  ..., 1.5087e-03, 2.0116e-03,\n",
      "        2.2630e-03], device='cuda:0', dtype=torch.float64)\n"
     ]
    }
   ],
   "source": [
    "# 項目總數\n",
    "items_count = confidences.shape[0]\n",
    "print(\"items_count=\", items_count)\n",
    "# 項目出現次數\n",
    "items_freq = Counter(dataset[\"NEW_ITEM_ID\"])\n",
    "# 計算每個項目出現的比例: items_frq/items_count\n",
    "item_weight = torch.tensor(np.array(list(items_freq.values()))/items_count).to(device)\n",
    "# 按照new_item_id順序排列\n",
    "print(item_weight)"
   ]
  },
  {
   "cell_type": "markdown",
   "id": "975d9e58",
   "metadata": {},
   "source": [
    "## 加上信賴度矩陣"
   ]
  },
  {
   "cell_type": "code",
   "execution_count": 37,
   "id": "5d571c57",
   "metadata": {},
   "outputs": [
    {
     "data": {
      "text/plain": [
       "tensor([[0.0000e+00, 1.8799e-01, 1.5731e-01,  ..., 0.0000e+00, 2.5994e-05,\n",
       "         2.5994e-05],\n",
       "        [3.2452e-01, 0.0000e+00, 5.6406e-02,  ..., 4.4873e-05, 8.9746e-05,\n",
       "         0.0000e+00],\n",
       "        [3.1283e-01, 6.4975e-02, 0.0000e+00,  ..., 1.0338e-04, 5.1690e-05,\n",
       "         0.0000e+00],\n",
       "        ...,\n",
       "        [0.0000e+00, 2.5000e-01, 5.0000e-01,  ..., 0.0000e+00, 0.0000e+00,\n",
       "         0.0000e+00],\n",
       "        [2.5000e-01, 5.0000e-01, 2.5000e-01,  ..., 0.0000e+00, 0.0000e+00,\n",
       "         0.0000e+00],\n",
       "        [2.5000e-01, 0.0000e+00, 0.0000e+00,  ..., 0.0000e+00, 0.0000e+00,\n",
       "         0.0000e+00]], device='cuda:0', dtype=torch.float64)"
      ]
     },
     "execution_count": 37,
     "metadata": {},
     "output_type": "execute_result"
    }
   ],
   "source": [
    "# 信賴度矩陣\n",
    "confidences_array = torch.tensor(confidences, dtype=torch.float64).to(device)\n",
    "confidences_array"
   ]
  },
  {
   "cell_type": "code",
   "execution_count": 38,
   "id": "b00066a0",
   "metadata": {},
   "outputs": [],
   "source": [
    "class MyModel01(nn.Module):\n",
    "    def __init__(self, embed_dim, model_dim, hidden_dim, items_count):\n",
    "        super(MyModel01, self).__init__()\n",
    "        self.model_dim = model_dim\n",
    "        self.embedding = nn.Embedding.from_pretrained(weights, freeze=False)\n",
    "        self.embedding.requires_grad=True\n",
    "        self.basket_embed = SelfAttention(embed_dim=embed_dim, model_dim=model_dim)\n",
    "        self.size_embed = LSTM(1,1)\n",
    "        self.model_encoder = TransformerEncoder(d_model=model_dim, num_heads=NUM_HEAD, num_layers=NUM_LAYER)\n",
    "        # 嵌入維度、隱藏層維度、總項目數量\n",
    "        self.basket_mlp = MLPforItem(model_dim, hidden_dim, items_count)\n",
    "        self.size_mlp = MLPforSize(model_dim)\n",
    "        self.relu = nn.ReLU()\n",
    "        \n",
    "    def forward(self, basket_input, size_input):\n",
    "        \n",
    "        basket_list, size_list, attention_mask, k_list = [], [], [], []\n",
    "        output_list = []\n",
    "        \n",
    "        # 為每個用戶的購物籃加上 padding跟 mask\n",
    "        for user in basket_input:\n",
    "            # 將購物籃項目 ID 轉換為嵌入向量\n",
    "            batch_features = [ self.embedding(torch.tensor(cart).to(device)) for cart in user ]\n",
    "            # 進行 padding\n",
    "            batch_features = rnn_utils.pad_sequence(batch_features, batch_first=True, padding_value=0)\n",
    "            # 購物籃中項目的遮罩\n",
    "            mask = ~batch_features.sum(dim=-1).ne(0)\n",
    "            basket_list.append(batch_features)\n",
    "            attention_mask.append(mask)\n",
    "        \n",
    "        # 預測size_tensor\n",
    "        sizes_input = [torch.tensor(size).to(device) for size in size_input]\n",
    "        tmp_tensor = torch.zeros(max_cart_count)\n",
    "        size_list.append(tmp_tensor)\n",
    "        for size in sizes_input:\n",
    "            size_list.append(size)\n",
    "        size_list = rnn_utils.pad_sequence(size_list, batch_first=True, padding_value=0)[1:]\n",
    "            \n",
    "        # 進入自注意力，輸出形狀(BATCH_SIZE, basket_size, embed_dim)\n",
    "        basket_embedding_list = []\n",
    "        for i,user_inputs in enumerate(basket_list):\n",
    "            basketEmbed = self.basket_embed(user_inputs, attention_mask[i])\n",
    "            sizeEmbed = self.size_embed(torch.tensor([[float(_)] for _ in size_list[i]]).to(device))\n",
    "            \n",
    "            basket_embedding = torch.cat((basketEmbed, sizeEmbed.reshape(1,-1)), 0)\n",
    "            \n",
    "            k_list.append(sizeEmbed)\n",
    "            basket_embedding_list.append(basket_embedding)\n",
    "            \n",
    "        \n",
    "        # 進行購物籃的 padding\n",
    "        input_seq = rnn_utils.pad_sequence(basket_embedding_list, batch_first=True, padding_value=0)\n",
    "        \n",
    "        \n",
    "        # 進入Transformer\n",
    "        basket_embed = self.model_encoder(input_seq.to(device))\n",
    "        \n",
    "        B_s_list = []\n",
    "        K_s_list = []\n",
    "        for i, b in enumerate(basket_embed):\n",
    "            basket_size = len(attention_mask[i])\n",
    "            B_s = b[basket_size-1]  # 取得最後一個購物籃向量\n",
    "            B_s_list.append(B_s)\n",
    "            K_s_list.append(B_s+k_list[i])\n",
    "            \n",
    "        # 進入basket MLP層\n",
    "        p = self.basket_mlp(torch.stack(B_s_list, dim=0))\n",
    "        predictions = predict_next_basket(basket_input, transition_matrix, list(mc_item), 10)\n",
    "        mc_predictions = torch.tensor(np.array(predictions), dtype=torch.float64).to(device)\n",
    "        pc = (self.relu(p.to(torch.float64))+1e-8) @ confidences_array\n",
    "        pw = torch.mul( p, item_weight )\n",
    "        \n",
    "        # z-score for mc_predictions\n",
    "        mc_mean = mc_predictions.mean(dim=1, keepdim = True)\n",
    "        mc_std = mc_predictions.std(dim=1, keepdim =True)\n",
    "        mc_z_score = (mc_predictions - mc_mean) / mc_std\n",
    "        \n",
    "        # z-score for mc_predictions\n",
    "        tr_predictions = torch.add(pc, pw) + p.to(torch.float64)\n",
    "        tr_mean = tr_predictions.mean(dim=1, keepdim = True)\n",
    "        tr_std = tr_predictions.std(dim=1, keepdim =True)\n",
    "        tr_z_score = (tr_predictions - tr_mean) / tr_std\n",
    "        \n",
    "        p_ = torch.mul(BETA, tr_predictions) + torch.mul((1-BETA), mc_z_score + tr_z_score)\n",
    "        \n",
    "        # 進入size MLP層\n",
    "        k = self.size_mlp(torch.stack(K_s_list, dim=0))\n",
    "        \n",
    "        return p_, k"
   ]
  },
  {
   "cell_type": "code",
   "execution_count": 39,
   "id": "88bf8d6f",
   "metadata": {},
   "outputs": [
    {
     "data": {
      "text/plain": [
       "MyModel01(\n",
       "  (embedding): Embedding(3977, 32)\n",
       "  (basket_embed): SelfAttention(\n",
       "    (query_matrix): Linear(in_features=32, out_features=32, bias=True)\n",
       "    (key_matrix): Linear(in_features=32, out_features=32, bias=True)\n",
       "    (value_matrix): Linear(in_features=32, out_features=32, bias=True)\n",
       "    (multihead_attn): MultiheadAttention(\n",
       "      (out_proj): NonDynamicallyQuantizableLinear(in_features=32, out_features=32, bias=True)\n",
       "    )\n",
       "  )\n",
       "  (size_embed): LSTM(\n",
       "    (lstm): LSTM(1, 16, num_layers=2)\n",
       "    (hiddenlayer1): Linear(in_features=704, out_features=512, bias=True)\n",
       "    (hiddenlayer2): Linear(in_features=512, out_features=512, bias=True)\n",
       "    (hiddenlayer3): Linear(in_features=512, out_features=256, bias=True)\n",
       "    (hiddenlayer4): Linear(in_features=256, out_features=128, bias=True)\n",
       "    (embed): Linear(in_features=128, out_features=32, bias=True)\n",
       "    (leakyrelu): LeakyReLU(negative_slope=0.01)\n",
       "  )\n",
       "  (model_encoder): TransformerEncoder(\n",
       "    (pe): PositionalEncoding(\n",
       "      (dropout): Dropout(p=0.5, inplace=False)\n",
       "    )\n",
       "    (transformer): TransformerEncoder(\n",
       "      (layers): ModuleList(\n",
       "        (0-3): 4 x TransformerEncoderLayer(\n",
       "          (self_attn): MultiheadAttention(\n",
       "            (out_proj): NonDynamicallyQuantizableLinear(in_features=32, out_features=32, bias=True)\n",
       "          )\n",
       "          (linear1): Linear(in_features=32, out_features=2048, bias=True)\n",
       "          (dropout): Dropout(p=0.1, inplace=False)\n",
       "          (linear2): Linear(in_features=2048, out_features=32, bias=True)\n",
       "          (norm1): LayerNorm((32,), eps=1e-05, elementwise_affine=True)\n",
       "          (norm2): LayerNorm((32,), eps=1e-05, elementwise_affine=True)\n",
       "          (dropout1): Dropout(p=0.1, inplace=False)\n",
       "          (dropout2): Dropout(p=0.1, inplace=False)\n",
       "        )\n",
       "      )\n",
       "    )\n",
       "  )\n",
       "  (basket_mlp): MLPforItem(\n",
       "    (hidden): Linear(in_features=32, out_features=128, bias=True)\n",
       "    (norm): BatchNorm1d(128, eps=1e-05, momentum=0.03, affine=True, track_running_stats=True)\n",
       "    (relu): ReLU()\n",
       "    (output): Linear(in_features=128, out_features=3977, bias=True)\n",
       "    (softmax): Softmax(dim=0)\n",
       "  )\n",
       "  (size_mlp): MLPforSize(\n",
       "    (predict): Linear(in_features=32, out_features=1, bias=True)\n",
       "    (relu): ReLU()\n",
       "  )\n",
       "  (relu): ReLU()\n",
       ")"
      ]
     },
     "execution_count": 39,
     "metadata": {},
     "output_type": "execute_result"
    }
   ],
   "source": [
    "my_model = MyModel01(embed_dim=EMBEDDING_DIMENSION, model_dim=MODEL_DIMENSION, hidden_dim=HIDDEN_DIMENSION, items_count=items_count).to(device)\n",
    "optimizer = torch.optim.Adam(my_model.parameters(), lr=LEARNING_RATE)\n",
    "my_model.train()"
   ]
  },
  {
   "cell_type": "code",
   "execution_count": 40,
   "id": "dc547691",
   "metadata": {
    "scrolled": false
   },
   "outputs": [
    {
     "name": "stderr",
     "output_type": "stream",
     "text": [
      "  0%|          | 1/1913 [00:00<22:34,  1.41it/s]"
     ]
    },
    {
     "name": "stdout",
     "output_type": "stream",
     "text": [
      "Epoch 1: 0%, loss: 13.273032\n"
     ]
    },
    {
     "name": "stderr",
     "output_type": "stream",
     "text": [
      "  5%|▌         | 101/1913 [00:49<13:50,  2.18it/s]"
     ]
    },
    {
     "name": "stdout",
     "output_type": "stream",
     "text": [
      "Epoch 1: 5%, loss: 20.015028\n"
     ]
    },
    {
     "name": "stderr",
     "output_type": "stream",
     "text": [
      " 11%|█         | 201/1913 [01:39<14:38,  1.95it/s]"
     ]
    },
    {
     "name": "stdout",
     "output_type": "stream",
     "text": [
      "Epoch 1: 10%, loss: 2.092947\n"
     ]
    },
    {
     "name": "stderr",
     "output_type": "stream",
     "text": [
      " 16%|█▌        | 301/1913 [02:29<13:50,  1.94it/s]"
     ]
    },
    {
     "name": "stdout",
     "output_type": "stream",
     "text": [
      "Epoch 1: 16%, loss: 8.699379\n"
     ]
    },
    {
     "name": "stderr",
     "output_type": "stream",
     "text": [
      " 21%|██        | 401/1913 [03:20<13:19,  1.89it/s]"
     ]
    },
    {
     "name": "stdout",
     "output_type": "stream",
     "text": [
      "Epoch 1: 21%, loss: 5.058292\n"
     ]
    },
    {
     "name": "stderr",
     "output_type": "stream",
     "text": [
      " 26%|██▌       | 501/1913 [04:11<12:00,  1.96it/s]"
     ]
    },
    {
     "name": "stdout",
     "output_type": "stream",
     "text": [
      "Epoch 1: 26%, loss: 12.749562\n"
     ]
    },
    {
     "name": "stderr",
     "output_type": "stream",
     "text": [
      " 31%|███▏      | 601/1913 [05:01<10:25,  2.10it/s]"
     ]
    },
    {
     "name": "stdout",
     "output_type": "stream",
     "text": [
      "Epoch 1: 31%, loss: 12.801870\n"
     ]
    },
    {
     "name": "stderr",
     "output_type": "stream",
     "text": [
      " 37%|███▋      | 701/1913 [05:52<10:08,  1.99it/s]"
     ]
    },
    {
     "name": "stdout",
     "output_type": "stream",
     "text": [
      "Epoch 1: 37%, loss: 3.001529\n"
     ]
    },
    {
     "name": "stderr",
     "output_type": "stream",
     "text": [
      " 42%|████▏     | 801/1913 [06:43<09:12,  2.01it/s]"
     ]
    },
    {
     "name": "stdout",
     "output_type": "stream",
     "text": [
      "Epoch 1: 42%, loss: 10.784454\n"
     ]
    },
    {
     "name": "stderr",
     "output_type": "stream",
     "text": [
      " 47%|████▋     | 901/1913 [07:33<08:28,  1.99it/s]"
     ]
    },
    {
     "name": "stdout",
     "output_type": "stream",
     "text": [
      "Epoch 1: 47%, loss: 3.760618\n"
     ]
    },
    {
     "name": "stderr",
     "output_type": "stream",
     "text": [
      " 52%|█████▏    | 1001/1913 [08:24<07:51,  1.93it/s]"
     ]
    },
    {
     "name": "stdout",
     "output_type": "stream",
     "text": [
      "Epoch 1: 52%, loss: 6.934156\n"
     ]
    },
    {
     "name": "stderr",
     "output_type": "stream",
     "text": [
      " 58%|█████▊    | 1101/1913 [09:15<06:50,  1.98it/s]"
     ]
    },
    {
     "name": "stdout",
     "output_type": "stream",
     "text": [
      "Epoch 1: 58%, loss: 2.706340\n"
     ]
    },
    {
     "name": "stderr",
     "output_type": "stream",
     "text": [
      " 63%|██████▎   | 1201/1913 [10:06<06:10,  1.92it/s]"
     ]
    },
    {
     "name": "stdout",
     "output_type": "stream",
     "text": [
      "Epoch 1: 63%, loss: 4.911169\n"
     ]
    },
    {
     "name": "stderr",
     "output_type": "stream",
     "text": [
      " 68%|██████▊   | 1301/1913 [10:58<05:05,  2.01it/s]"
     ]
    },
    {
     "name": "stdout",
     "output_type": "stream",
     "text": [
      "Epoch 1: 68%, loss: 1.887011\n"
     ]
    },
    {
     "name": "stderr",
     "output_type": "stream",
     "text": [
      " 73%|███████▎  | 1401/1913 [11:50<04:09,  2.05it/s]"
     ]
    },
    {
     "name": "stdout",
     "output_type": "stream",
     "text": [
      "Epoch 1: 73%, loss: 1.489897\n"
     ]
    },
    {
     "name": "stderr",
     "output_type": "stream",
     "text": [
      " 78%|███████▊  | 1501/1913 [12:43<03:23,  2.03it/s]"
     ]
    },
    {
     "name": "stdout",
     "output_type": "stream",
     "text": [
      "Epoch 1: 78%, loss: 3.636337\n"
     ]
    },
    {
     "name": "stderr",
     "output_type": "stream",
     "text": [
      " 84%|████████▎ | 1601/1913 [13:35<02:42,  1.93it/s]"
     ]
    },
    {
     "name": "stdout",
     "output_type": "stream",
     "text": [
      "Epoch 1: 84%, loss: 15.064186\n"
     ]
    },
    {
     "name": "stderr",
     "output_type": "stream",
     "text": [
      " 89%|████████▉ | 1701/1913 [14:27<01:44,  2.02it/s]"
     ]
    },
    {
     "name": "stdout",
     "output_type": "stream",
     "text": [
      "Epoch 1: 89%, loss: 5.476195\n"
     ]
    },
    {
     "name": "stderr",
     "output_type": "stream",
     "text": [
      " 94%|█████████▍| 1801/1913 [15:20<00:59,  1.90it/s]"
     ]
    },
    {
     "name": "stdout",
     "output_type": "stream",
     "text": [
      "Epoch 1: 94%, loss: 1.846300\n"
     ]
    },
    {
     "name": "stderr",
     "output_type": "stream",
     "text": [
      " 99%|█████████▉| 1901/1913 [16:12<00:06,  1.81it/s]"
     ]
    },
    {
     "name": "stdout",
     "output_type": "stream",
     "text": [
      "Epoch 1: 99%, loss: 5.518437\n"
     ]
    },
    {
     "name": "stderr",
     "output_type": "stream",
     "text": [
      "100%|██████████| 1913/1913 [16:18<00:00,  1.95it/s]"
     ]
    },
    {
     "name": "stdout",
     "output_type": "stream",
     "text": [
      "Epoch 1: 100%, loss: 1.499722\n"
     ]
    },
    {
     "name": "stderr",
     "output_type": "stream",
     "text": [
      "\n"
     ]
    },
    {
     "name": "stdout",
     "output_type": "stream",
     "text": [
      "                      (F1-score: 0.1257, Precision: 0.1319, Recall: 0.1407)\n",
      "\n",
      "                      (NDCG: 0.1058)\n",
      "\n",
      "                      (MAE: 4.9971)\n",
      "\n",
      "train_loss= tensor(4.4596)\n",
      "--------------------\n"
     ]
    },
    {
     "name": "stderr",
     "output_type": "stream",
     "text": [
      "100%|██████████| 239/239 [01:36<00:00,  2.47it/s]\n"
     ]
    },
    {
     "name": "stdout",
     "output_type": "stream",
     "text": [
      "                      (F1-score: 0.1447, Precision: 0.1461, Recall: 0.1643)\n",
      "\n",
      "                      (NDCG: 0.1215)\n",
      "\n",
      "                      (MAE: 4.6151)\n",
      "\n",
      "val_loss= tensor(3.8044)\n",
      "--------------------\n"
     ]
    },
    {
     "name": "stderr",
     "output_type": "stream",
     "text": [
      "100%|██████████| 239/239 [01:38<00:00,  2.42it/s]\n"
     ]
    },
    {
     "name": "stdout",
     "output_type": "stream",
     "text": [
      "                      (F1-score: 0.1453, Precision: 0.1491, Recall: 0.1623)\n",
      "\n",
      "                      (NDCG: 0.1228)\n",
      "\n",
      "                      (MAE: 4.5476)\n",
      "\n",
      "--------------------\n",
      "[[1, 0.1623353763479029, 0.1491197404593984, 0.14532537524112915, 0.12284765203208682, 4.547594142259414, 3.7110097408294678]]\n",
      "-----------------------------------------------------------------------------------------\n"
     ]
    },
    {
     "name": "stderr",
     "output_type": "stream",
     "text": [
      "  0%|          | 1/1913 [00:00<15:48,  2.02it/s]"
     ]
    },
    {
     "name": "stdout",
     "output_type": "stream",
     "text": [
      "Epoch 2: 0%, loss: 8.584846\n"
     ]
    },
    {
     "name": "stderr",
     "output_type": "stream",
     "text": [
      "  5%|▌         | 101/1913 [00:50<14:30,  2.08it/s]"
     ]
    },
    {
     "name": "stdout",
     "output_type": "stream",
     "text": [
      "Epoch 2: 5%, loss: 3.896847\n"
     ]
    },
    {
     "name": "stderr",
     "output_type": "stream",
     "text": [
      " 11%|█         | 201/1913 [01:39<14:29,  1.97it/s]"
     ]
    },
    {
     "name": "stdout",
     "output_type": "stream",
     "text": [
      "Epoch 2: 10%, loss: 3.070053\n"
     ]
    },
    {
     "name": "stderr",
     "output_type": "stream",
     "text": [
      " 16%|█▌        | 301/1913 [02:29<13:25,  2.00it/s]"
     ]
    },
    {
     "name": "stdout",
     "output_type": "stream",
     "text": [
      "Epoch 2: 16%, loss: 7.910501\n"
     ]
    },
    {
     "name": "stderr",
     "output_type": "stream",
     "text": [
      " 21%|██        | 401/1913 [03:18<12:32,  2.01it/s]"
     ]
    },
    {
     "name": "stdout",
     "output_type": "stream",
     "text": [
      "Epoch 2: 21%, loss: 2.550545\n"
     ]
    },
    {
     "name": "stderr",
     "output_type": "stream",
     "text": [
      " 26%|██▌       | 501/1913 [04:08<11:42,  2.01it/s]"
     ]
    },
    {
     "name": "stdout",
     "output_type": "stream",
     "text": [
      "Epoch 2: 26%, loss: 4.449972\n"
     ]
    },
    {
     "name": "stderr",
     "output_type": "stream",
     "text": [
      " 31%|███▏      | 601/1913 [04:58<10:49,  2.02it/s]"
     ]
    },
    {
     "name": "stdout",
     "output_type": "stream",
     "text": [
      "Epoch 2: 31%, loss: 3.484310\n"
     ]
    },
    {
     "name": "stderr",
     "output_type": "stream",
     "text": [
      " 37%|███▋      | 701/1913 [05:48<10:02,  2.01it/s]"
     ]
    },
    {
     "name": "stdout",
     "output_type": "stream",
     "text": [
      "Epoch 2: 37%, loss: 4.147152\n"
     ]
    },
    {
     "name": "stderr",
     "output_type": "stream",
     "text": [
      " 42%|████▏     | 801/1913 [06:39<09:16,  2.00it/s]"
     ]
    },
    {
     "name": "stdout",
     "output_type": "stream",
     "text": [
      "Epoch 2: 42%, loss: 2.709460\n"
     ]
    },
    {
     "name": "stderr",
     "output_type": "stream",
     "text": [
      " 47%|████▋     | 901/1913 [07:29<08:56,  1.89it/s]"
     ]
    },
    {
     "name": "stdout",
     "output_type": "stream",
     "text": [
      "Epoch 2: 47%, loss: 9.012895\n"
     ]
    },
    {
     "name": "stderr",
     "output_type": "stream",
     "text": [
      " 52%|█████▏    | 1001/1913 [08:21<07:53,  1.93it/s]"
     ]
    },
    {
     "name": "stdout",
     "output_type": "stream",
     "text": [
      "Epoch 2: 52%, loss: 1.161427\n"
     ]
    },
    {
     "name": "stderr",
     "output_type": "stream",
     "text": [
      " 58%|█████▊    | 1101/1913 [09:12<07:03,  1.92it/s]"
     ]
    },
    {
     "name": "stdout",
     "output_type": "stream",
     "text": [
      "Epoch 2: 58%, loss: 2.133862\n"
     ]
    },
    {
     "name": "stderr",
     "output_type": "stream",
     "text": [
      " 63%|██████▎   | 1201/1913 [10:04<06:19,  1.88it/s]"
     ]
    },
    {
     "name": "stdout",
     "output_type": "stream",
     "text": [
      "Epoch 2: 63%, loss: 7.328733\n"
     ]
    },
    {
     "name": "stderr",
     "output_type": "stream",
     "text": [
      " 68%|██████▊   | 1301/1913 [10:55<05:10,  1.97it/s]"
     ]
    },
    {
     "name": "stdout",
     "output_type": "stream",
     "text": [
      "Epoch 2: 68%, loss: 1.261117\n"
     ]
    },
    {
     "name": "stderr",
     "output_type": "stream",
     "text": [
      " 73%|███████▎  | 1401/1913 [11:47<04:31,  1.88it/s]"
     ]
    },
    {
     "name": "stdout",
     "output_type": "stream",
     "text": [
      "Epoch 2: 73%, loss: 4.947854\n"
     ]
    },
    {
     "name": "stderr",
     "output_type": "stream",
     "text": [
      " 78%|███████▊  | 1501/1913 [12:40<03:45,  1.83it/s]"
     ]
    },
    {
     "name": "stdout",
     "output_type": "stream",
     "text": [
      "Epoch 2: 78%, loss: 2.805440\n"
     ]
    },
    {
     "name": "stderr",
     "output_type": "stream",
     "text": [
      " 84%|████████▎ | 1601/1913 [13:32<02:42,  1.92it/s]"
     ]
    },
    {
     "name": "stdout",
     "output_type": "stream",
     "text": [
      "Epoch 2: 84%, loss: 1.423713\n"
     ]
    },
    {
     "name": "stderr",
     "output_type": "stream",
     "text": [
      " 89%|████████▉ | 1701/1913 [14:25<02:03,  1.71it/s]"
     ]
    },
    {
     "name": "stdout",
     "output_type": "stream",
     "text": [
      "Epoch 2: 89%, loss: 2.317603\n"
     ]
    },
    {
     "name": "stderr",
     "output_type": "stream",
     "text": [
      " 94%|█████████▍| 1801/1913 [15:17<00:57,  1.96it/s]"
     ]
    },
    {
     "name": "stdout",
     "output_type": "stream",
     "text": [
      "Epoch 2: 94%, loss: 1.809360\n"
     ]
    },
    {
     "name": "stderr",
     "output_type": "stream",
     "text": [
      " 99%|█████████▉| 1901/1913 [16:09<00:06,  1.90it/s]"
     ]
    },
    {
     "name": "stdout",
     "output_type": "stream",
     "text": [
      "Epoch 2: 99%, loss: 3.387008\n"
     ]
    },
    {
     "name": "stderr",
     "output_type": "stream",
     "text": [
      "100%|██████████| 1913/1913 [16:16<00:00,  1.96it/s]"
     ]
    },
    {
     "name": "stdout",
     "output_type": "stream",
     "text": [
      "Epoch 2: 100%, loss: 3.228712\n"
     ]
    },
    {
     "name": "stderr",
     "output_type": "stream",
     "text": [
      "\n"
     ]
    },
    {
     "name": "stdout",
     "output_type": "stream",
     "text": [
      "                      (F1-score: 0.1524, Precision: 0.1584, Recall: 0.1689)\n",
      "\n",
      "                      (NDCG: 0.1272)\n",
      "\n",
      "                      (MAE: 4.7279)\n",
      "\n",
      "train_loss= tensor(4.1075)\n",
      "--------------------\n"
     ]
    },
    {
     "name": "stderr",
     "output_type": "stream",
     "text": [
      "100%|██████████| 239/239 [01:36<00:00,  2.47it/s]\n"
     ]
    },
    {
     "name": "stdout",
     "output_type": "stream",
     "text": [
      "                      (F1-score: 0.1486, Precision: 0.1570, Recall: 0.1606)\n",
      "\n",
      "                      (NDCG: 0.1291)\n",
      "\n",
      "                      (MAE: 4.4780)\n",
      "\n",
      "val_loss= tensor(3.7364)\n",
      "--------------------\n"
     ]
    },
    {
     "name": "stderr",
     "output_type": "stream",
     "text": [
      "100%|██████████| 239/239 [01:38<00:00,  2.43it/s]\n"
     ]
    },
    {
     "name": "stdout",
     "output_type": "stream",
     "text": [
      "                      (F1-score: 0.1487, Precision: 0.1598, Recall: 0.1577)\n",
      "\n",
      "                      (NDCG: 0.1294)\n",
      "\n",
      "                      (MAE: 4.4467)\n",
      "\n",
      "--------------------\n",
      "[[1, 0.1623353763479029, 0.1491197404593984, 0.14532537524112915, 0.12284765203208682, 4.547594142259414, 3.7110097408294678], [2, 0.15772046516846788, 0.15984749277988602, 0.14872346358957772, 0.12935370769571888, 4.446652719665272, 3.663158416748047]]\n",
      "-----------------------------------------------------------------------------------------\n"
     ]
    },
    {
     "name": "stderr",
     "output_type": "stream",
     "text": [
      "  0%|          | 1/1913 [00:00<15:46,  2.02it/s]"
     ]
    },
    {
     "name": "stdout",
     "output_type": "stream",
     "text": [
      "Epoch 3: 0%, loss: 3.722582\n"
     ]
    },
    {
     "name": "stderr",
     "output_type": "stream",
     "text": [
      "  5%|▌         | 101/1913 [00:50<15:09,  1.99it/s]"
     ]
    },
    {
     "name": "stdout",
     "output_type": "stream",
     "text": [
      "Epoch 3: 5%, loss: 1.859959\n"
     ]
    },
    {
     "name": "stderr",
     "output_type": "stream",
     "text": [
      " 11%|█         | 201/1913 [01:39<14:20,  1.99it/s]"
     ]
    },
    {
     "name": "stdout",
     "output_type": "stream",
     "text": [
      "Epoch 3: 10%, loss: 3.122739\n"
     ]
    },
    {
     "name": "stderr",
     "output_type": "stream",
     "text": [
      " 16%|█▌        | 301/1913 [02:28<12:20,  2.18it/s]"
     ]
    },
    {
     "name": "stdout",
     "output_type": "stream",
     "text": [
      "Epoch 3: 16%, loss: 1.440918\n"
     ]
    },
    {
     "name": "stderr",
     "output_type": "stream",
     "text": [
      " 21%|██        | 401/1913 [03:18<12:52,  1.96it/s]"
     ]
    },
    {
     "name": "stdout",
     "output_type": "stream",
     "text": [
      "Epoch 3: 21%, loss: 8.395105\n"
     ]
    },
    {
     "name": "stderr",
     "output_type": "stream",
     "text": [
      " 26%|██▌       | 501/1913 [04:07<10:56,  2.15it/s]"
     ]
    },
    {
     "name": "stdout",
     "output_type": "stream",
     "text": [
      "Epoch 3: 26%, loss: 7.487584\n"
     ]
    },
    {
     "name": "stderr",
     "output_type": "stream",
     "text": [
      " 31%|███▏      | 601/1913 [04:58<11:19,  1.93it/s]"
     ]
    },
    {
     "name": "stdout",
     "output_type": "stream",
     "text": [
      "Epoch 3: 31%, loss: 2.776084\n"
     ]
    },
    {
     "name": "stderr",
     "output_type": "stream",
     "text": [
      " 37%|███▋      | 701/1913 [05:48<10:08,  1.99it/s]"
     ]
    },
    {
     "name": "stdout",
     "output_type": "stream",
     "text": [
      "Epoch 3: 37%, loss: 0.938413\n"
     ]
    },
    {
     "name": "stderr",
     "output_type": "stream",
     "text": [
      " 42%|████▏     | 801/1913 [06:39<09:06,  2.04it/s]"
     ]
    },
    {
     "name": "stdout",
     "output_type": "stream",
     "text": [
      "Epoch 3: 42%, loss: 2.244662\n"
     ]
    },
    {
     "name": "stderr",
     "output_type": "stream",
     "text": [
      " 47%|████▋     | 901/1913 [07:30<08:28,  1.99it/s]"
     ]
    },
    {
     "name": "stdout",
     "output_type": "stream",
     "text": [
      "Epoch 3: 47%, loss: 1.092842\n"
     ]
    },
    {
     "name": "stderr",
     "output_type": "stream",
     "text": [
      " 52%|█████▏    | 1001/1913 [08:20<07:52,  1.93it/s]"
     ]
    },
    {
     "name": "stdout",
     "output_type": "stream",
     "text": [
      "Epoch 3: 52%, loss: 5.274760\n"
     ]
    },
    {
     "name": "stderr",
     "output_type": "stream",
     "text": [
      " 58%|█████▊    | 1101/1913 [09:11<06:43,  2.01it/s]"
     ]
    },
    {
     "name": "stdout",
     "output_type": "stream",
     "text": [
      "Epoch 3: 58%, loss: 12.865079\n"
     ]
    },
    {
     "name": "stderr",
     "output_type": "stream",
     "text": [
      " 63%|██████▎   | 1201/1913 [10:03<05:45,  2.06it/s]"
     ]
    },
    {
     "name": "stdout",
     "output_type": "stream",
     "text": [
      "Epoch 3: 63%, loss: 6.416319\n"
     ]
    },
    {
     "name": "stderr",
     "output_type": "stream",
     "text": [
      " 68%|██████▊   | 1301/1913 [10:55<05:36,  1.82it/s]"
     ]
    },
    {
     "name": "stdout",
     "output_type": "stream",
     "text": [
      "Epoch 3: 68%, loss: 3.095898\n"
     ]
    },
    {
     "name": "stderr",
     "output_type": "stream",
     "text": [
      " 73%|███████▎  | 1401/1913 [11:47<04:26,  1.92it/s]"
     ]
    },
    {
     "name": "stdout",
     "output_type": "stream",
     "text": [
      "Epoch 3: 73%, loss: 7.193725\n"
     ]
    },
    {
     "name": "stderr",
     "output_type": "stream",
     "text": [
      " 78%|███████▊  | 1501/1913 [12:39<03:24,  2.02it/s]"
     ]
    },
    {
     "name": "stdout",
     "output_type": "stream",
     "text": [
      "Epoch 3: 78%, loss: 1.691630\n"
     ]
    },
    {
     "name": "stderr",
     "output_type": "stream",
     "text": [
      " 84%|████████▎ | 1601/1913 [13:31<02:38,  1.96it/s]"
     ]
    },
    {
     "name": "stdout",
     "output_type": "stream",
     "text": [
      "Epoch 3: 84%, loss: 4.122550\n"
     ]
    },
    {
     "name": "stderr",
     "output_type": "stream",
     "text": [
      " 89%|████████▉ | 1701/1913 [14:23<01:50,  1.91it/s]"
     ]
    },
    {
     "name": "stdout",
     "output_type": "stream",
     "text": [
      "Epoch 3: 89%, loss: 2.250388\n"
     ]
    },
    {
     "name": "stderr",
     "output_type": "stream",
     "text": [
      " 94%|█████████▍| 1801/1913 [15:16<00:56,  1.97it/s]"
     ]
    },
    {
     "name": "stdout",
     "output_type": "stream",
     "text": [
      "Epoch 3: 94%, loss: 2.606878\n"
     ]
    },
    {
     "name": "stderr",
     "output_type": "stream",
     "text": [
      " 99%|█████████▉| 1901/1913 [16:09<00:06,  1.87it/s]"
     ]
    },
    {
     "name": "stdout",
     "output_type": "stream",
     "text": [
      "Epoch 3: 99%, loss: 11.505841\n"
     ]
    },
    {
     "name": "stderr",
     "output_type": "stream",
     "text": [
      "100%|██████████| 1913/1913 [16:15<00:00,  1.96it/s]"
     ]
    },
    {
     "name": "stdout",
     "output_type": "stream",
     "text": [
      "Epoch 3: 100%, loss: 4.468202\n"
     ]
    },
    {
     "name": "stderr",
     "output_type": "stream",
     "text": [
      "\n"
     ]
    },
    {
     "name": "stdout",
     "output_type": "stream",
     "text": [
      "                      (F1-score: 0.1414, Precision: 0.1474, Recall: 0.1549)\n",
      "\n",
      "                      (NDCG: 0.1289)\n",
      "\n",
      "                      (MAE: 4.6873)\n",
      "\n",
      "train_loss= tensor(4.0541)\n",
      "--------------------\n"
     ]
    },
    {
     "name": "stderr",
     "output_type": "stream",
     "text": [
      "100%|██████████| 239/239 [01:37<00:00,  2.46it/s]\n"
     ]
    },
    {
     "name": "stdout",
     "output_type": "stream",
     "text": [
      "                      (F1-score: 0.1288, Precision: 0.1368, Recall: 0.1371)\n",
      "\n",
      "                      (NDCG: 0.1181)\n",
      "\n",
      "                      (MAE: 4.4665)\n",
      "\n",
      "val_loss= tensor(3.7130)\n",
      "--------------------\n"
     ]
    },
    {
     "name": "stderr",
     "output_type": "stream",
     "text": [
      "100%|██████████| 239/239 [01:38<00:00,  2.42it/s]\n"
     ]
    },
    {
     "name": "stdout",
     "output_type": "stream",
     "text": [
      "                      (F1-score: 0.1311, Precision: 0.1403, Recall: 0.1387)\n",
      "\n",
      "                      (NDCG: 0.1206)\n",
      "\n",
      "                      (MAE: 4.4660)\n",
      "\n",
      "--------------------\n",
      "[[1, 0.1623353763479029, 0.1491197404593984, 0.14532537524112915, 0.12284765203208682, 4.547594142259414, 3.7110097408294678], [2, 0.15772046516846788, 0.15984749277988602, 0.14872346358957772, 0.12935370769571888, 4.446652719665272, 3.663158416748047], [3, 0.13874689593249273, 0.1402540292183393, 0.13108652577809662, 0.12064036479508154, 4.466004184100418, 3.649195432662964]]\n",
      "-----------------------------------------------------------------------------------------\n"
     ]
    },
    {
     "name": "stderr",
     "output_type": "stream",
     "text": [
      "  0%|          | 1/1913 [00:00<16:15,  1.96it/s]"
     ]
    },
    {
     "name": "stdout",
     "output_type": "stream",
     "text": [
      "Epoch 4: 0%, loss: 3.649216\n"
     ]
    },
    {
     "name": "stderr",
     "output_type": "stream",
     "text": [
      "  5%|▌         | 101/1913 [00:49<14:35,  2.07it/s]"
     ]
    },
    {
     "name": "stdout",
     "output_type": "stream",
     "text": [
      "Epoch 4: 5%, loss: 1.900447\n"
     ]
    },
    {
     "name": "stderr",
     "output_type": "stream",
     "text": [
      " 11%|█         | 201/1913 [01:39<14:51,  1.92it/s]"
     ]
    },
    {
     "name": "stdout",
     "output_type": "stream",
     "text": [
      "Epoch 4: 10%, loss: 5.704512\n"
     ]
    },
    {
     "name": "stderr",
     "output_type": "stream",
     "text": [
      " 16%|█▌        | 301/1913 [02:29<14:05,  1.91it/s]"
     ]
    },
    {
     "name": "stdout",
     "output_type": "stream",
     "text": [
      "Epoch 4: 16%, loss: 6.954006\n"
     ]
    },
    {
     "name": "stderr",
     "output_type": "stream",
     "text": [
      " 21%|██        | 401/1913 [03:19<12:25,  2.03it/s]"
     ]
    },
    {
     "name": "stdout",
     "output_type": "stream",
     "text": [
      "Epoch 4: 21%, loss: 1.706455\n"
     ]
    },
    {
     "name": "stderr",
     "output_type": "stream",
     "text": [
      " 26%|██▌       | 501/1913 [04:09<11:24,  2.06it/s]"
     ]
    },
    {
     "name": "stdout",
     "output_type": "stream",
     "text": [
      "Epoch 4: 26%, loss: 3.347646\n"
     ]
    },
    {
     "name": "stderr",
     "output_type": "stream",
     "text": [
      " 31%|███▏      | 601/1913 [05:00<11:33,  1.89it/s]"
     ]
    },
    {
     "name": "stdout",
     "output_type": "stream",
     "text": [
      "Epoch 4: 31%, loss: 3.439762\n"
     ]
    },
    {
     "name": "stderr",
     "output_type": "stream",
     "text": [
      " 37%|███▋      | 701/1913 [05:50<09:46,  2.07it/s]"
     ]
    },
    {
     "name": "stdout",
     "output_type": "stream",
     "text": [
      "Epoch 4: 37%, loss: 1.874410\n"
     ]
    },
    {
     "name": "stderr",
     "output_type": "stream",
     "text": [
      " 42%|████▏     | 801/1913 [06:41<09:02,  2.05it/s]"
     ]
    },
    {
     "name": "stdout",
     "output_type": "stream",
     "text": [
      "Epoch 4: 42%, loss: 3.943563\n"
     ]
    },
    {
     "name": "stderr",
     "output_type": "stream",
     "text": [
      " 47%|████▋     | 901/1913 [07:31<07:59,  2.11it/s]"
     ]
    },
    {
     "name": "stdout",
     "output_type": "stream",
     "text": [
      "Epoch 4: 47%, loss: 2.906073\n"
     ]
    },
    {
     "name": "stderr",
     "output_type": "stream",
     "text": [
      " 52%|█████▏    | 1001/1913 [08:22<07:55,  1.92it/s]"
     ]
    },
    {
     "name": "stdout",
     "output_type": "stream",
     "text": [
      "Epoch 4: 52%, loss: 3.428797\n"
     ]
    },
    {
     "name": "stderr",
     "output_type": "stream",
     "text": [
      " 58%|█████▊    | 1101/1913 [09:12<06:58,  1.94it/s]"
     ]
    },
    {
     "name": "stdout",
     "output_type": "stream",
     "text": [
      "Epoch 4: 58%, loss: 4.955753\n"
     ]
    },
    {
     "name": "stderr",
     "output_type": "stream",
     "text": [
      " 63%|██████▎   | 1201/1913 [10:04<06:32,  1.81it/s]"
     ]
    },
    {
     "name": "stdout",
     "output_type": "stream",
     "text": [
      "Epoch 4: 63%, loss: 3.056101\n"
     ]
    },
    {
     "name": "stderr",
     "output_type": "stream",
     "text": [
      " 68%|██████▊   | 1301/1913 [10:55<05:24,  1.89it/s]"
     ]
    },
    {
     "name": "stdout",
     "output_type": "stream",
     "text": [
      "Epoch 4: 68%, loss: 8.100172\n"
     ]
    },
    {
     "name": "stderr",
     "output_type": "stream",
     "text": [
      " 73%|███████▎  | 1401/1913 [11:47<04:29,  1.90it/s]"
     ]
    },
    {
     "name": "stdout",
     "output_type": "stream",
     "text": [
      "Epoch 4: 73%, loss: 4.083669\n"
     ]
    },
    {
     "name": "stderr",
     "output_type": "stream",
     "text": [
      " 78%|███████▊  | 1501/1913 [12:38<03:30,  1.96it/s]"
     ]
    },
    {
     "name": "stdout",
     "output_type": "stream",
     "text": [
      "Epoch 4: 78%, loss: 5.660227\n"
     ]
    },
    {
     "name": "stderr",
     "output_type": "stream",
     "text": [
      " 84%|████████▎ | 1601/1913 [13:30<02:41,  1.93it/s]"
     ]
    },
    {
     "name": "stdout",
     "output_type": "stream",
     "text": [
      "Epoch 4: 84%, loss: 6.765396\n"
     ]
    },
    {
     "name": "stderr",
     "output_type": "stream",
     "text": [
      " 89%|████████▉ | 1701/1913 [14:23<01:55,  1.83it/s]"
     ]
    },
    {
     "name": "stdout",
     "output_type": "stream",
     "text": [
      "Epoch 4: 89%, loss: 3.344168\n"
     ]
    },
    {
     "name": "stderr",
     "output_type": "stream",
     "text": [
      " 94%|█████████▍| 1801/1913 [15:17<01:00,  1.84it/s]"
     ]
    },
    {
     "name": "stdout",
     "output_type": "stream",
     "text": [
      "Epoch 4: 94%, loss: 2.575952\n"
     ]
    },
    {
     "name": "stderr",
     "output_type": "stream",
     "text": [
      " 99%|█████████▉| 1901/1913 [16:10<00:06,  1.87it/s]"
     ]
    },
    {
     "name": "stdout",
     "output_type": "stream",
     "text": [
      "Epoch 4: 99%, loss: 1.857968\n"
     ]
    },
    {
     "name": "stderr",
     "output_type": "stream",
     "text": [
      "100%|██████████| 1913/1913 [16:16<00:00,  1.96it/s]"
     ]
    },
    {
     "name": "stdout",
     "output_type": "stream",
     "text": [
      "Epoch 4: 100%, loss: 6.952617\n"
     ]
    },
    {
     "name": "stderr",
     "output_type": "stream",
     "text": [
      "\n"
     ]
    },
    {
     "name": "stdout",
     "output_type": "stream",
     "text": [
      "                      (F1-score: 0.1364, Precision: 0.1421, Recall: 0.1489)\n",
      "\n",
      "                      (NDCG: 0.1270)\n",
      "\n",
      "                      (MAE: 4.6436)\n",
      "\n",
      "train_loss= tensor(3.9994)\n",
      "--------------------\n"
     ]
    },
    {
     "name": "stderr",
     "output_type": "stream",
     "text": [
      "100%|██████████| 239/239 [01:36<00:00,  2.47it/s]\n"
     ]
    },
    {
     "name": "stdout",
     "output_type": "stream",
     "text": [
      "                      (F1-score: 0.1268, Precision: 0.1279, Recall: 0.1429)\n",
      "\n",
      "                      (NDCG: 0.1181)\n",
      "\n",
      "                      (MAE: 4.5910)\n",
      "\n",
      "val_loss= tensor(3.6913)\n",
      "--------------------\n"
     ]
    },
    {
     "name": "stderr",
     "output_type": "stream",
     "text": [
      "100%|██████████| 239/239 [01:38<00:00,  2.42it/s]\n"
     ]
    },
    {
     "name": "stdout",
     "output_type": "stream",
     "text": [
      "                      (F1-score: 0.1292, Precision: 0.1314, Recall: 0.1442)\n",
      "\n",
      "                      (NDCG: 0.1207)\n",
      "\n",
      "                      (MAE: 4.5638)\n",
      "\n",
      "--------------------\n",
      "[[1, 0.1623353763479029, 0.1491197404593984, 0.14532537524112915, 0.12284765203208682, 4.547594142259414, 3.7110097408294678], [2, 0.15772046516846788, 0.15984749277988602, 0.14872346358957772, 0.12935370769571888, 4.446652719665272, 3.663158416748047], [3, 0.13874689593249273, 0.1402540292183393, 0.13108652577809662, 0.12064036479508154, 4.466004184100418, 3.649195432662964], [4, 0.14421510727960513, 0.13138365125596593, 0.12916245400935225, 0.12067114758192246, 4.563807531380753, 3.6025912761688232]]\n",
      "-----------------------------------------------------------------------------------------\n"
     ]
    },
    {
     "name": "stderr",
     "output_type": "stream",
     "text": [
      "  0%|          | 1/1913 [00:00<15:10,  2.10it/s]"
     ]
    },
    {
     "name": "stdout",
     "output_type": "stream",
     "text": [
      "Epoch 5: 0%, loss: 3.322994\n"
     ]
    },
    {
     "name": "stderr",
     "output_type": "stream",
     "text": [
      "  5%|▌         | 101/1913 [00:49<14:44,  2.05it/s]"
     ]
    },
    {
     "name": "stdout",
     "output_type": "stream",
     "text": [
      "Epoch 5: 5%, loss: 4.734926\n"
     ]
    },
    {
     "name": "stderr",
     "output_type": "stream",
     "text": [
      " 11%|█         | 201/1913 [01:38<14:43,  1.94it/s]"
     ]
    },
    {
     "name": "stdout",
     "output_type": "stream",
     "text": [
      "Epoch 5: 10%, loss: 3.287603\n"
     ]
    },
    {
     "name": "stderr",
     "output_type": "stream",
     "text": [
      " 16%|█▌        | 301/1913 [02:28<13:18,  2.02it/s]"
     ]
    },
    {
     "name": "stdout",
     "output_type": "stream",
     "text": [
      "Epoch 5: 16%, loss: 2.906739\n"
     ]
    },
    {
     "name": "stderr",
     "output_type": "stream",
     "text": [
      " 21%|██        | 401/1913 [03:17<12:33,  2.01it/s]"
     ]
    },
    {
     "name": "stdout",
     "output_type": "stream",
     "text": [
      "Epoch 5: 21%, loss: 6.007374\n"
     ]
    },
    {
     "name": "stderr",
     "output_type": "stream",
     "text": [
      " 26%|██▌       | 501/1913 [04:08<11:11,  2.10it/s]"
     ]
    },
    {
     "name": "stdout",
     "output_type": "stream",
     "text": [
      "Epoch 5: 26%, loss: 1.477191\n"
     ]
    },
    {
     "name": "stderr",
     "output_type": "stream",
     "text": [
      " 31%|███▏      | 601/1913 [04:58<11:03,  1.98it/s]"
     ]
    },
    {
     "name": "stdout",
     "output_type": "stream",
     "text": [
      "Epoch 5: 31%, loss: 5.521462\n"
     ]
    },
    {
     "name": "stderr",
     "output_type": "stream",
     "text": [
      " 37%|███▋      | 701/1913 [05:49<10:18,  1.96it/s]"
     ]
    },
    {
     "name": "stdout",
     "output_type": "stream",
     "text": [
      "Epoch 5: 37%, loss: 2.278682\n"
     ]
    },
    {
     "name": "stderr",
     "output_type": "stream",
     "text": [
      " 42%|████▏     | 801/1913 [06:39<09:19,  1.99it/s]"
     ]
    },
    {
     "name": "stdout",
     "output_type": "stream",
     "text": [
      "Epoch 5: 42%, loss: 1.334794\n"
     ]
    },
    {
     "name": "stderr",
     "output_type": "stream",
     "text": [
      " 47%|████▋     | 901/1913 [07:29<08:26,  2.00it/s]"
     ]
    },
    {
     "name": "stdout",
     "output_type": "stream",
     "text": [
      "Epoch 5: 47%, loss: 1.816132\n"
     ]
    },
    {
     "name": "stderr",
     "output_type": "stream",
     "text": [
      " 52%|█████▏    | 1001/1913 [08:21<07:17,  2.08it/s]"
     ]
    },
    {
     "name": "stdout",
     "output_type": "stream",
     "text": [
      "Epoch 5: 52%, loss: 2.951999\n"
     ]
    },
    {
     "name": "stderr",
     "output_type": "stream",
     "text": [
      " 58%|█████▊    | 1101/1913 [09:11<07:02,  1.92it/s]"
     ]
    },
    {
     "name": "stdout",
     "output_type": "stream",
     "text": [
      "Epoch 5: 58%, loss: 1.638797\n"
     ]
    },
    {
     "name": "stderr",
     "output_type": "stream",
     "text": [
      " 63%|██████▎   | 1201/1913 [10:03<06:03,  1.96it/s]"
     ]
    },
    {
     "name": "stdout",
     "output_type": "stream",
     "text": [
      "Epoch 5: 63%, loss: 3.773955\n"
     ]
    },
    {
     "name": "stderr",
     "output_type": "stream",
     "text": [
      " 68%|██████▊   | 1301/1913 [10:54<05:25,  1.88it/s]"
     ]
    },
    {
     "name": "stdout",
     "output_type": "stream",
     "text": [
      "Epoch 5: 68%, loss: 2.672477\n"
     ]
    },
    {
     "name": "stderr",
     "output_type": "stream",
     "text": [
      " 73%|███████▎  | 1401/1913 [11:46<04:36,  1.85it/s]"
     ]
    },
    {
     "name": "stdout",
     "output_type": "stream",
     "text": [
      "Epoch 5: 73%, loss: 2.362565\n"
     ]
    },
    {
     "name": "stderr",
     "output_type": "stream",
     "text": [
      " 78%|███████▊  | 1501/1913 [12:38<03:36,  1.90it/s]"
     ]
    },
    {
     "name": "stdout",
     "output_type": "stream",
     "text": [
      "Epoch 5: 78%, loss: 5.297885\n"
     ]
    },
    {
     "name": "stderr",
     "output_type": "stream",
     "text": [
      " 84%|████████▎ | 1601/1913 [13:31<02:39,  1.96it/s]"
     ]
    },
    {
     "name": "stdout",
     "output_type": "stream",
     "text": [
      "Epoch 5: 84%, loss: 3.084350\n"
     ]
    },
    {
     "name": "stderr",
     "output_type": "stream",
     "text": [
      " 89%|████████▉ | 1701/1913 [14:23<01:47,  1.97it/s]"
     ]
    },
    {
     "name": "stdout",
     "output_type": "stream",
     "text": [
      "Epoch 5: 89%, loss: 0.893988\n"
     ]
    },
    {
     "name": "stderr",
     "output_type": "stream",
     "text": [
      " 94%|█████████▍| 1801/1913 [15:15<01:02,  1.81it/s]"
     ]
    },
    {
     "name": "stdout",
     "output_type": "stream",
     "text": [
      "Epoch 5: 94%, loss: 4.539412\n"
     ]
    },
    {
     "name": "stderr",
     "output_type": "stream",
     "text": [
      " 99%|█████████▉| 1901/1913 [16:09<00:06,  1.82it/s]"
     ]
    },
    {
     "name": "stdout",
     "output_type": "stream",
     "text": [
      "Epoch 5: 99%, loss: 2.896693\n"
     ]
    },
    {
     "name": "stderr",
     "output_type": "stream",
     "text": [
      "100%|██████████| 1913/1913 [16:15<00:00,  1.96it/s]"
     ]
    },
    {
     "name": "stdout",
     "output_type": "stream",
     "text": [
      "Epoch 5: 100%, loss: 2.746030\n"
     ]
    },
    {
     "name": "stderr",
     "output_type": "stream",
     "text": [
      "\n"
     ]
    },
    {
     "name": "stdout",
     "output_type": "stream",
     "text": [
      "                      (F1-score: 0.1365, Precision: 0.1420, Recall: 0.1490)\n",
      "\n",
      "                      (NDCG: 0.1273)\n",
      "\n",
      "                      (MAE: 4.6255)\n",
      "\n",
      "train_loss= tensor(3.9900)\n",
      "--------------------\n"
     ]
    },
    {
     "name": "stderr",
     "output_type": "stream",
     "text": [
      "100%|██████████| 239/239 [01:36<00:00,  2.47it/s]\n"
     ]
    },
    {
     "name": "stdout",
     "output_type": "stream",
     "text": [
      "                      (F1-score: 0.1264, Precision: 0.1257, Recall: 0.1446)\n",
      "\n",
      "                      (NDCG: 0.1176)\n",
      "\n",
      "                      (MAE: 4.6773)\n",
      "\n",
      "val_loss= tensor(3.7133)\n",
      "--------------------\n"
     ]
    },
    {
     "name": "stderr",
     "output_type": "stream",
     "text": [
      "100%|██████████| 239/239 [01:38<00:00,  2.42it/s]\n"
     ]
    },
    {
     "name": "stdout",
     "output_type": "stream",
     "text": [
      "                      (F1-score: 0.1286, Precision: 0.1290, Recall: 0.1458)\n",
      "\n",
      "                      (NDCG: 0.1206)\n",
      "\n",
      "                      (MAE: 4.6098)\n",
      "\n",
      "--------------------\n",
      "[[1, 0.1623353763479029, 0.1491197404593984, 0.14532537524112915, 0.12284765203208682, 4.547594142259414, 3.7110097408294678], [2, 0.15772046516846788, 0.15984749277988602, 0.14872346358957772, 0.12935370769571888, 4.446652719665272, 3.663158416748047], [3, 0.13874689593249273, 0.1402540292183393, 0.13108652577809662, 0.12064036479508154, 4.466004184100418, 3.649195432662964], [4, 0.14421510727960513, 0.13138365125596593, 0.12916245400935225, 0.12067114758192246, 4.563807531380753, 3.6025912761688232], [5, 0.1457525628082103, 0.12896472072345194, 0.12862752092220742, 0.12058813618418125, 4.609832635983263, 3.6187639236450195]]\n",
      "-----------------------------------------------------------------------------------------\n"
     ]
    },
    {
     "name": "stderr",
     "output_type": "stream",
     "text": [
      "  0%|          | 1/1913 [00:00<17:41,  1.80it/s]"
     ]
    },
    {
     "name": "stdout",
     "output_type": "stream",
     "text": [
      "Epoch 6: 0%, loss: 5.221444\n"
     ]
    },
    {
     "name": "stderr",
     "output_type": "stream",
     "text": [
      "  5%|▌         | 101/1913 [00:50<15:24,  1.96it/s]"
     ]
    },
    {
     "name": "stdout",
     "output_type": "stream",
     "text": [
      "Epoch 6: 5%, loss: 1.538787\n"
     ]
    },
    {
     "name": "stderr",
     "output_type": "stream",
     "text": [
      " 11%|█         | 201/1913 [01:39<14:43,  1.94it/s]"
     ]
    },
    {
     "name": "stdout",
     "output_type": "stream",
     "text": [
      "Epoch 6: 10%, loss: 9.791612\n"
     ]
    },
    {
     "name": "stderr",
     "output_type": "stream",
     "text": [
      " 16%|█▌        | 301/1913 [02:29<14:13,  1.89it/s]"
     ]
    },
    {
     "name": "stdout",
     "output_type": "stream",
     "text": [
      "Epoch 6: 16%, loss: 4.733893\n"
     ]
    },
    {
     "name": "stderr",
     "output_type": "stream",
     "text": [
      " 21%|██        | 401/1913 [03:19<12:16,  2.05it/s]"
     ]
    },
    {
     "name": "stdout",
     "output_type": "stream",
     "text": [
      "Epoch 6: 21%, loss: 2.387881\n"
     ]
    },
    {
     "name": "stderr",
     "output_type": "stream",
     "text": [
      " 26%|██▌       | 501/1913 [04:08<11:41,  2.01it/s]"
     ]
    },
    {
     "name": "stdout",
     "output_type": "stream",
     "text": [
      "Epoch 6: 26%, loss: 4.442219\n"
     ]
    },
    {
     "name": "stderr",
     "output_type": "stream",
     "text": [
      " 31%|███▏      | 601/1913 [04:59<11:02,  1.98it/s]"
     ]
    },
    {
     "name": "stdout",
     "output_type": "stream",
     "text": [
      "Epoch 6: 31%, loss: 11.338547\n"
     ]
    },
    {
     "name": "stderr",
     "output_type": "stream",
     "text": [
      " 37%|███▋      | 701/1913 [05:48<09:34,  2.11it/s]"
     ]
    },
    {
     "name": "stdout",
     "output_type": "stream",
     "text": [
      "Epoch 6: 37%, loss: 2.002128\n"
     ]
    },
    {
     "name": "stderr",
     "output_type": "stream",
     "text": [
      " 42%|████▏     | 801/1913 [06:40<09:37,  1.93it/s]"
     ]
    },
    {
     "name": "stdout",
     "output_type": "stream",
     "text": [
      "Epoch 6: 42%, loss: 5.423754\n"
     ]
    },
    {
     "name": "stderr",
     "output_type": "stream",
     "text": [
      " 47%|████▋     | 901/1913 [07:31<08:14,  2.05it/s]"
     ]
    },
    {
     "name": "stdout",
     "output_type": "stream",
     "text": [
      "Epoch 6: 47%, loss: 3.249643\n"
     ]
    },
    {
     "name": "stderr",
     "output_type": "stream",
     "text": [
      " 52%|█████▏    | 1001/1913 [08:21<07:03,  2.16it/s]"
     ]
    },
    {
     "name": "stdout",
     "output_type": "stream",
     "text": [
      "Epoch 6: 52%, loss: 4.159681\n"
     ]
    },
    {
     "name": "stderr",
     "output_type": "stream",
     "text": [
      " 58%|█████▊    | 1101/1913 [09:12<07:23,  1.83it/s]"
     ]
    },
    {
     "name": "stdout",
     "output_type": "stream",
     "text": [
      "Epoch 6: 58%, loss: 1.618237\n"
     ]
    },
    {
     "name": "stderr",
     "output_type": "stream",
     "text": [
      " 63%|██████▎   | 1201/1913 [10:04<06:42,  1.77it/s]"
     ]
    },
    {
     "name": "stdout",
     "output_type": "stream",
     "text": [
      "Epoch 6: 63%, loss: 3.112524\n"
     ]
    },
    {
     "name": "stderr",
     "output_type": "stream",
     "text": [
      " 68%|██████▊   | 1301/1913 [10:56<05:18,  1.92it/s]"
     ]
    },
    {
     "name": "stdout",
     "output_type": "stream",
     "text": [
      "Epoch 6: 68%, loss: 10.957259\n"
     ]
    },
    {
     "name": "stderr",
     "output_type": "stream",
     "text": [
      " 73%|███████▎  | 1401/1913 [11:47<04:19,  1.98it/s]"
     ]
    },
    {
     "name": "stdout",
     "output_type": "stream",
     "text": [
      "Epoch 6: 73%, loss: 4.527150\n"
     ]
    },
    {
     "name": "stderr",
     "output_type": "stream",
     "text": [
      " 78%|███████▊  | 1501/1913 [12:40<03:30,  1.95it/s]"
     ]
    },
    {
     "name": "stdout",
     "output_type": "stream",
     "text": [
      "Epoch 6: 78%, loss: 2.007965\n"
     ]
    },
    {
     "name": "stderr",
     "output_type": "stream",
     "text": [
      " 84%|████████▎ | 1601/1913 [13:32<02:30,  2.07it/s]"
     ]
    },
    {
     "name": "stdout",
     "output_type": "stream",
     "text": [
      "Epoch 6: 84%, loss: 1.661498\n"
     ]
    },
    {
     "name": "stderr",
     "output_type": "stream",
     "text": [
      " 89%|████████▉ | 1701/1913 [14:24<01:47,  1.97it/s]"
     ]
    },
    {
     "name": "stdout",
     "output_type": "stream",
     "text": [
      "Epoch 6: 89%, loss: 6.333530\n"
     ]
    },
    {
     "name": "stderr",
     "output_type": "stream",
     "text": [
      " 94%|█████████▍| 1801/1913 [15:16<00:57,  1.95it/s]"
     ]
    },
    {
     "name": "stdout",
     "output_type": "stream",
     "text": [
      "Epoch 6: 94%, loss: 3.211380\n"
     ]
    },
    {
     "name": "stderr",
     "output_type": "stream",
     "text": [
      " 99%|█████████▉| 1901/1913 [16:10<00:06,  1.90it/s]"
     ]
    },
    {
     "name": "stdout",
     "output_type": "stream",
     "text": [
      "Epoch 6: 99%, loss: 5.725173\n"
     ]
    },
    {
     "name": "stderr",
     "output_type": "stream",
     "text": [
      "100%|██████████| 1913/1913 [16:16<00:00,  1.96it/s]"
     ]
    },
    {
     "name": "stdout",
     "output_type": "stream",
     "text": [
      "Epoch 6: 100%, loss: 2.855287\n"
     ]
    },
    {
     "name": "stderr",
     "output_type": "stream",
     "text": [
      "\n"
     ]
    },
    {
     "name": "stdout",
     "output_type": "stream",
     "text": [
      "                      (F1-score: 0.1367, Precision: 0.1420, Recall: 0.1492)\n",
      "\n",
      "                      (NDCG: 0.1276)\n",
      "\n",
      "                      (MAE: 4.6153)\n",
      "\n",
      "train_loss= tensor(3.9652)\n",
      "--------------------\n"
     ]
    },
    {
     "name": "stderr",
     "output_type": "stream",
     "text": [
      "100%|██████████| 239/239 [01:36<00:00,  2.47it/s]\n"
     ]
    },
    {
     "name": "stdout",
     "output_type": "stream",
     "text": [
      "                      (F1-score: 0.1275, Precision: 0.1295, Recall: 0.1424)\n",
      "\n",
      "                      (NDCG: 0.1188)\n",
      "\n",
      "                      (MAE: 4.5560)\n",
      "\n",
      "val_loss= tensor(3.6729)\n",
      "--------------------\n"
     ]
    },
    {
     "name": "stderr",
     "output_type": "stream",
     "text": [
      "100%|██████████| 239/239 [01:38<00:00,  2.43it/s]\n"
     ]
    },
    {
     "name": "stdout",
     "output_type": "stream",
     "text": [
      "                      (F1-score: 0.1296, Precision: 0.1325, Recall: 0.1439)\n",
      "\n",
      "                      (NDCG: 0.1209)\n",
      "\n",
      "                      (MAE: 4.5309)\n",
      "\n",
      "--------------------\n",
      "[[1, 0.1623353763479029, 0.1491197404593984, 0.14532537524112915, 0.12284765203208682, 4.547594142259414, 3.7110097408294678], [2, 0.15772046516846788, 0.15984749277988602, 0.14872346358957772, 0.12935370769571888, 4.446652719665272, 3.663158416748047], [3, 0.13874689593249273, 0.1402540292183393, 0.13108652577809662, 0.12064036479508154, 4.466004184100418, 3.649195432662964], [4, 0.14421510727960513, 0.13138365125596593, 0.12916245400935225, 0.12067114758192246, 4.563807531380753, 3.6025912761688232], [5, 0.1457525628082103, 0.12896472072345194, 0.12862752092220742, 0.12058813618418125, 4.609832635983263, 3.6187639236450195], [6, 0.14388316536847123, 0.13247287190011622, 0.12958150799569937, 0.12088576834512461, 4.530857740585774, 3.592007875442505]]\n",
      "-----------------------------------------------------------------------------------------\n"
     ]
    },
    {
     "name": "stderr",
     "output_type": "stream",
     "text": [
      "  0%|          | 1/1913 [00:00<14:34,  2.19it/s]"
     ]
    },
    {
     "name": "stdout",
     "output_type": "stream",
     "text": [
      "Epoch 7: 0%, loss: 5.059426\n"
     ]
    },
    {
     "name": "stderr",
     "output_type": "stream",
     "text": [
      "  5%|▌         | 101/1913 [00:49<14:35,  2.07it/s]"
     ]
    },
    {
     "name": "stdout",
     "output_type": "stream",
     "text": [
      "Epoch 7: 5%, loss: 5.604332\n"
     ]
    },
    {
     "name": "stderr",
     "output_type": "stream",
     "text": [
      " 11%|█         | 201/1913 [01:38<13:28,  2.12it/s]"
     ]
    },
    {
     "name": "stdout",
     "output_type": "stream",
     "text": [
      "Epoch 7: 10%, loss: 8.596675\n"
     ]
    },
    {
     "name": "stderr",
     "output_type": "stream",
     "text": [
      " 16%|█▌        | 301/1913 [02:28<13:54,  1.93it/s]"
     ]
    },
    {
     "name": "stdout",
     "output_type": "stream",
     "text": [
      "Epoch 7: 16%, loss: 4.873820\n"
     ]
    },
    {
     "name": "stderr",
     "output_type": "stream",
     "text": [
      " 21%|██        | 401/1913 [03:17<12:08,  2.08it/s]"
     ]
    },
    {
     "name": "stdout",
     "output_type": "stream",
     "text": [
      "Epoch 7: 21%, loss: 5.024472\n"
     ]
    },
    {
     "name": "stderr",
     "output_type": "stream",
     "text": [
      " 26%|██▌       | 501/1913 [04:07<11:46,  2.00it/s]"
     ]
    },
    {
     "name": "stdout",
     "output_type": "stream",
     "text": [
      "Epoch 7: 26%, loss: 5.449010\n"
     ]
    },
    {
     "name": "stderr",
     "output_type": "stream",
     "text": [
      " 31%|███▏      | 601/1913 [04:57<10:49,  2.02it/s]"
     ]
    },
    {
     "name": "stdout",
     "output_type": "stream",
     "text": [
      "Epoch 7: 31%, loss: 2.228100\n"
     ]
    },
    {
     "name": "stderr",
     "output_type": "stream",
     "text": [
      " 37%|███▋      | 701/1913 [05:47<09:17,  2.17it/s]"
     ]
    },
    {
     "name": "stdout",
     "output_type": "stream",
     "text": [
      "Epoch 7: 37%, loss: 1.157461\n"
     ]
    },
    {
     "name": "stderr",
     "output_type": "stream",
     "text": [
      " 42%|████▏     | 801/1913 [06:38<09:11,  2.01it/s]"
     ]
    },
    {
     "name": "stdout",
     "output_type": "stream",
     "text": [
      "Epoch 7: 42%, loss: 1.926401\n"
     ]
    },
    {
     "name": "stderr",
     "output_type": "stream",
     "text": [
      " 47%|████▋     | 901/1913 [07:29<08:56,  1.89it/s]"
     ]
    },
    {
     "name": "stdout",
     "output_type": "stream",
     "text": [
      "Epoch 7: 47%, loss: 2.088352\n"
     ]
    },
    {
     "name": "stderr",
     "output_type": "stream",
     "text": [
      " 52%|█████▏    | 1001/1913 [08:20<07:10,  2.12it/s]"
     ]
    },
    {
     "name": "stdout",
     "output_type": "stream",
     "text": [
      "Epoch 7: 52%, loss: 1.374711\n"
     ]
    },
    {
     "name": "stderr",
     "output_type": "stream",
     "text": [
      " 58%|█████▊    | 1101/1913 [09:11<07:05,  1.91it/s]"
     ]
    },
    {
     "name": "stdout",
     "output_type": "stream",
     "text": [
      "Epoch 7: 58%, loss: 2.917163\n"
     ]
    },
    {
     "name": "stderr",
     "output_type": "stream",
     "text": [
      " 63%|██████▎   | 1201/1913 [10:03<05:46,  2.06it/s]"
     ]
    },
    {
     "name": "stdout",
     "output_type": "stream",
     "text": [
      "Epoch 7: 63%, loss: 1.800859\n"
     ]
    },
    {
     "name": "stderr",
     "output_type": "stream",
     "text": [
      " 68%|██████▊   | 1301/1913 [10:54<05:18,  1.92it/s]"
     ]
    },
    {
     "name": "stdout",
     "output_type": "stream",
     "text": [
      "Epoch 7: 68%, loss: 5.772680\n"
     ]
    },
    {
     "name": "stderr",
     "output_type": "stream",
     "text": [
      " 73%|███████▎  | 1401/1913 [11:46<04:15,  2.00it/s]"
     ]
    },
    {
     "name": "stdout",
     "output_type": "stream",
     "text": [
      "Epoch 7: 73%, loss: 3.391922\n"
     ]
    },
    {
     "name": "stderr",
     "output_type": "stream",
     "text": [
      " 78%|███████▊  | 1501/1913 [12:37<03:36,  1.90it/s]"
     ]
    },
    {
     "name": "stdout",
     "output_type": "stream",
     "text": [
      "Epoch 7: 78%, loss: 2.279209\n"
     ]
    },
    {
     "name": "stderr",
     "output_type": "stream",
     "text": [
      " 84%|████████▎ | 1601/1913 [13:30<02:47,  1.86it/s]"
     ]
    },
    {
     "name": "stdout",
     "output_type": "stream",
     "text": [
      "Epoch 7: 84%, loss: 6.566912\n"
     ]
    },
    {
     "name": "stderr",
     "output_type": "stream",
     "text": [
      " 89%|████████▉ | 1701/1913 [14:22<01:58,  1.79it/s]"
     ]
    },
    {
     "name": "stdout",
     "output_type": "stream",
     "text": [
      "Epoch 7: 89%, loss: 4.615223\n"
     ]
    },
    {
     "name": "stderr",
     "output_type": "stream",
     "text": [
      " 94%|█████████▍| 1801/1913 [15:15<00:59,  1.87it/s]"
     ]
    },
    {
     "name": "stdout",
     "output_type": "stream",
     "text": [
      "Epoch 7: 94%, loss: 4.139647\n"
     ]
    },
    {
     "name": "stderr",
     "output_type": "stream",
     "text": [
      " 99%|█████████▉| 1901/1913 [16:09<00:06,  1.87it/s]"
     ]
    },
    {
     "name": "stdout",
     "output_type": "stream",
     "text": [
      "Epoch 7: 99%, loss: 1.814891\n"
     ]
    },
    {
     "name": "stderr",
     "output_type": "stream",
     "text": [
      "100%|██████████| 1913/1913 [16:15<00:00,  1.96it/s]"
     ]
    },
    {
     "name": "stdout",
     "output_type": "stream",
     "text": [
      "Epoch 7: 100%, loss: 1.112822\n"
     ]
    },
    {
     "name": "stderr",
     "output_type": "stream",
     "text": [
      "\n"
     ]
    },
    {
     "name": "stdout",
     "output_type": "stream",
     "text": [
      "                      (F1-score: 0.1365, Precision: 0.1420, Recall: 0.1487)\n",
      "\n",
      "                      (NDCG: 0.1275)\n",
      "\n",
      "                      (MAE: 4.6104)\n",
      "\n",
      "train_loss= tensor(3.9707)\n",
      "--------------------\n"
     ]
    },
    {
     "name": "stderr",
     "output_type": "stream",
     "text": [
      "100%|██████████| 239/239 [01:36<00:00,  2.47it/s]\n"
     ]
    },
    {
     "name": "stdout",
     "output_type": "stream",
     "text": [
      "                      (F1-score: 0.1287, Precision: 0.1361, Recall: 0.1383)\n",
      "\n",
      "                      (NDCG: 0.1178)\n",
      "\n",
      "                      (MAE: 4.5199)\n",
      "\n",
      "val_loss= tensor(3.7099)\n",
      "--------------------\n"
     ]
    },
    {
     "name": "stderr",
     "output_type": "stream",
     "text": [
      "100%|██████████| 239/239 [01:38<00:00,  2.42it/s]\n"
     ]
    },
    {
     "name": "stdout",
     "output_type": "stream",
     "text": [
      "                      (F1-score: 0.1298, Precision: 0.1381, Recall: 0.1386)\n",
      "\n",
      "                      (NDCG: 0.1189)\n",
      "\n",
      "                      (MAE: 4.5303)\n",
      "\n",
      "--------------------\n",
      "[[1, 0.1623353763479029, 0.1491197404593984, 0.14532537524112915, 0.12284765203208682, 4.547594142259414, 3.7110097408294678], [2, 0.15772046516846788, 0.15984749277988602, 0.14872346358957772, 0.12935370769571888, 4.446652719665272, 3.663158416748047], [3, 0.13874689593249273, 0.1402540292183393, 0.13108652577809662, 0.12064036479508154, 4.466004184100418, 3.649195432662964], [4, 0.14421510727960513, 0.13138365125596593, 0.12916245400935225, 0.12067114758192246, 4.563807531380753, 3.6025912761688232], [5, 0.1457525628082103, 0.12896472072345194, 0.12862752092220742, 0.12058813618418125, 4.609832635983263, 3.6187639236450195], [6, 0.14388316536847123, 0.13247287190011622, 0.12958150799569937, 0.12088576834512461, 4.530857740585774, 3.592007875442505], [7, 0.13861603116435445, 0.13812669611245082, 0.12982306858132694, 0.11889473345738574, 4.5303347280334725, 3.649562358856201]]\n",
      "-----------------------------------------------------------------------------------------\n"
     ]
    },
    {
     "name": "stderr",
     "output_type": "stream",
     "text": [
      "  0%|          | 1/1913 [00:00<15:38,  2.04it/s]"
     ]
    },
    {
     "name": "stdout",
     "output_type": "stream",
     "text": [
      "Epoch 8: 0%, loss: 3.074939\n"
     ]
    },
    {
     "name": "stderr",
     "output_type": "stream",
     "text": [
      "  5%|▌         | 101/1913 [00:49<14:04,  2.14it/s]"
     ]
    },
    {
     "name": "stdout",
     "output_type": "stream",
     "text": [
      "Epoch 8: 5%, loss: 1.837574\n"
     ]
    },
    {
     "name": "stderr",
     "output_type": "stream",
     "text": [
      " 11%|█         | 201/1913 [01:39<14:09,  2.02it/s]"
     ]
    },
    {
     "name": "stdout",
     "output_type": "stream",
     "text": [
      "Epoch 8: 10%, loss: 6.011651\n"
     ]
    },
    {
     "name": "stderr",
     "output_type": "stream",
     "text": [
      " 16%|█▌        | 301/1913 [02:29<13:32,  1.99it/s]"
     ]
    },
    {
     "name": "stdout",
     "output_type": "stream",
     "text": [
      "Epoch 8: 16%, loss: 6.861510\n"
     ]
    },
    {
     "name": "stderr",
     "output_type": "stream",
     "text": [
      " 21%|██        | 401/1913 [03:18<12:54,  1.95it/s]"
     ]
    },
    {
     "name": "stdout",
     "output_type": "stream",
     "text": [
      "Epoch 8: 21%, loss: 5.083370\n"
     ]
    },
    {
     "name": "stderr",
     "output_type": "stream",
     "text": [
      " 26%|██▌       | 501/1913 [04:08<10:57,  2.15it/s]"
     ]
    },
    {
     "name": "stdout",
     "output_type": "stream",
     "text": [
      "Epoch 8: 26%, loss: 2.575311\n"
     ]
    },
    {
     "name": "stderr",
     "output_type": "stream",
     "text": [
      " 31%|███▏      | 601/1913 [04:57<11:18,  1.93it/s]"
     ]
    },
    {
     "name": "stdout",
     "output_type": "stream",
     "text": [
      "Epoch 8: 31%, loss: 1.609328\n"
     ]
    },
    {
     "name": "stderr",
     "output_type": "stream",
     "text": [
      " 37%|███▋      | 701/1913 [05:48<10:28,  1.93it/s]"
     ]
    },
    {
     "name": "stdout",
     "output_type": "stream",
     "text": [
      "Epoch 8: 37%, loss: 6.325042\n"
     ]
    },
    {
     "name": "stderr",
     "output_type": "stream",
     "text": [
      " 42%|████▏     | 801/1913 [06:39<09:46,  1.89it/s]"
     ]
    },
    {
     "name": "stdout",
     "output_type": "stream",
     "text": [
      "Epoch 8: 42%, loss: 1.752423\n"
     ]
    },
    {
     "name": "stderr",
     "output_type": "stream",
     "text": [
      " 47%|████▋     | 901/1913 [07:30<08:46,  1.92it/s]"
     ]
    },
    {
     "name": "stdout",
     "output_type": "stream",
     "text": [
      "Epoch 8: 47%, loss: 1.304993\n"
     ]
    },
    {
     "name": "stderr",
     "output_type": "stream",
     "text": [
      " 52%|█████▏    | 1001/1913 [08:20<07:28,  2.04it/s]"
     ]
    },
    {
     "name": "stdout",
     "output_type": "stream",
     "text": [
      "Epoch 8: 52%, loss: 3.068162\n"
     ]
    },
    {
     "name": "stderr",
     "output_type": "stream",
     "text": [
      " 58%|█████▊    | 1101/1913 [09:12<07:20,  1.84it/s]"
     ]
    },
    {
     "name": "stdout",
     "output_type": "stream",
     "text": [
      "Epoch 8: 58%, loss: 13.724233\n"
     ]
    },
    {
     "name": "stderr",
     "output_type": "stream",
     "text": [
      " 63%|██████▎   | 1201/1913 [10:04<05:34,  2.13it/s]"
     ]
    },
    {
     "name": "stdout",
     "output_type": "stream",
     "text": [
      "Epoch 8: 63%, loss: 5.584746\n"
     ]
    },
    {
     "name": "stderr",
     "output_type": "stream",
     "text": [
      " 68%|██████▊   | 1301/1913 [10:55<05:19,  1.91it/s]"
     ]
    },
    {
     "name": "stdout",
     "output_type": "stream",
     "text": [
      "Epoch 8: 68%, loss: 3.249636\n"
     ]
    },
    {
     "name": "stderr",
     "output_type": "stream",
     "text": [
      " 73%|███████▎  | 1401/1913 [11:47<04:14,  2.02it/s]"
     ]
    },
    {
     "name": "stdout",
     "output_type": "stream",
     "text": [
      "Epoch 8: 73%, loss: 6.911727\n"
     ]
    },
    {
     "name": "stderr",
     "output_type": "stream",
     "text": [
      " 78%|███████▊  | 1501/1913 [12:38<03:48,  1.80it/s]"
     ]
    },
    {
     "name": "stdout",
     "output_type": "stream",
     "text": [
      "Epoch 8: 78%, loss: 3.868306\n"
     ]
    },
    {
     "name": "stderr",
     "output_type": "stream",
     "text": [
      " 84%|████████▎ | 1601/1913 [13:31<02:48,  1.85it/s]"
     ]
    },
    {
     "name": "stdout",
     "output_type": "stream",
     "text": [
      "Epoch 8: 84%, loss: 1.659505\n"
     ]
    },
    {
     "name": "stderr",
     "output_type": "stream",
     "text": [
      " 89%|████████▉ | 1701/1913 [14:23<01:47,  1.97it/s]"
     ]
    },
    {
     "name": "stdout",
     "output_type": "stream",
     "text": [
      "Epoch 8: 89%, loss: 3.896404\n"
     ]
    },
    {
     "name": "stderr",
     "output_type": "stream",
     "text": [
      " 94%|█████████▍| 1801/1913 [15:17<00:57,  1.94it/s]"
     ]
    },
    {
     "name": "stdout",
     "output_type": "stream",
     "text": [
      "Epoch 8: 94%, loss: 1.589625\n"
     ]
    },
    {
     "name": "stderr",
     "output_type": "stream",
     "text": [
      " 99%|█████████▉| 1901/1913 [16:10<00:06,  1.86it/s]"
     ]
    },
    {
     "name": "stdout",
     "output_type": "stream",
     "text": [
      "Epoch 8: 99%, loss: 2.390862\n"
     ]
    },
    {
     "name": "stderr",
     "output_type": "stream",
     "text": [
      "100%|██████████| 1913/1913 [16:17<00:00,  1.96it/s]"
     ]
    },
    {
     "name": "stdout",
     "output_type": "stream",
     "text": [
      "Epoch 8: 100%, loss: 13.671822\n"
     ]
    },
    {
     "name": "stderr",
     "output_type": "stream",
     "text": [
      "\n"
     ]
    },
    {
     "name": "stdout",
     "output_type": "stream",
     "text": [
      "                      (F1-score: 0.1366, Precision: 0.1420, Recall: 0.1488)\n",
      "\n",
      "                      (NDCG: 0.1274)\n",
      "\n",
      "                      (MAE: 4.5979)\n",
      "\n",
      "train_loss= tensor(3.9515)\n",
      "--------------------\n"
     ]
    },
    {
     "name": "stderr",
     "output_type": "stream",
     "text": [
      "100%|██████████| 239/239 [01:37<00:00,  2.46it/s]\n"
     ]
    },
    {
     "name": "stdout",
     "output_type": "stream",
     "text": [
      "                      (F1-score: 0.1277, Precision: 0.1320, Recall: 0.1404)\n",
      "\n",
      "                      (NDCG: 0.1181)\n",
      "\n",
      "                      (MAE: 4.5277)\n",
      "\n",
      "val_loss= tensor(3.6625)\n",
      "--------------------\n"
     ]
    },
    {
     "name": "stderr",
     "output_type": "stream",
     "text": [
      "100%|██████████| 239/239 [01:38<00:00,  2.42it/s]\n"
     ]
    },
    {
     "name": "stdout",
     "output_type": "stream",
     "text": [
      "                      (F1-score: 0.1296, Precision: 0.1349, Recall: 0.1411)\n",
      "\n",
      "                      (NDCG: 0.1198)\n",
      "\n",
      "                      (MAE: 4.5068)\n",
      "\n",
      "--------------------\n",
      "[[1, 0.1623353763479029, 0.1491197404593984, 0.14532537524112915, 0.12284765203208682, 4.547594142259414, 3.7110097408294678], [2, 0.15772046516846788, 0.15984749277988602, 0.14872346358957772, 0.12935370769571888, 4.446652719665272, 3.663158416748047], [3, 0.13874689593249273, 0.1402540292183393, 0.13108652577809662, 0.12064036479508154, 4.466004184100418, 3.649195432662964], [4, 0.14421510727960513, 0.13138365125596593, 0.12916245400935225, 0.12067114758192246, 4.563807531380753, 3.6025912761688232], [5, 0.1457525628082103, 0.12896472072345194, 0.12862752092220742, 0.12058813618418125, 4.609832635983263, 3.6187639236450195], [6, 0.14388316536847123, 0.13247287190011622, 0.12958150799569937, 0.12088576834512461, 4.530857740585774, 3.592007875442505], [7, 0.13861603116435445, 0.13812669611245082, 0.12982306858132694, 0.11889473345738574, 4.5303347280334725, 3.649562358856201], [8, 0.14109023078951047, 0.13489159116956542, 0.1296105933638906, 0.11981703906035573, 4.506799163179917, 3.5897114276885986]]\n",
      "-----------------------------------------------------------------------------------------\n"
     ]
    },
    {
     "name": "stderr",
     "output_type": "stream",
     "text": [
      "  0%|          | 1/1913 [00:00<14:40,  2.17it/s]"
     ]
    },
    {
     "name": "stdout",
     "output_type": "stream",
     "text": [
      "Epoch 9: 0%, loss: 3.936225\n"
     ]
    },
    {
     "name": "stderr",
     "output_type": "stream",
     "text": [
      "  5%|▌         | 101/1913 [00:49<14:51,  2.03it/s]"
     ]
    },
    {
     "name": "stdout",
     "output_type": "stream",
     "text": [
      "Epoch 9: 5%, loss: 1.858657\n"
     ]
    },
    {
     "name": "stderr",
     "output_type": "stream",
     "text": [
      " 11%|█         | 201/1913 [01:38<14:50,  1.92it/s]"
     ]
    },
    {
     "name": "stdout",
     "output_type": "stream",
     "text": [
      "Epoch 9: 10%, loss: 2.729557\n"
     ]
    },
    {
     "name": "stderr",
     "output_type": "stream",
     "text": [
      " 16%|█▌        | 301/1913 [02:27<12:43,  2.11it/s]"
     ]
    },
    {
     "name": "stdout",
     "output_type": "stream",
     "text": [
      "Epoch 9: 16%, loss: 11.478919\n"
     ]
    },
    {
     "name": "stderr",
     "output_type": "stream",
     "text": [
      " 21%|██        | 401/1913 [03:17<12:06,  2.08it/s]"
     ]
    },
    {
     "name": "stdout",
     "output_type": "stream",
     "text": [
      "Epoch 9: 21%, loss: 5.642249\n"
     ]
    },
    {
     "name": "stderr",
     "output_type": "stream",
     "text": [
      " 26%|██▌       | 501/1913 [04:07<11:43,  2.01it/s]"
     ]
    },
    {
     "name": "stdout",
     "output_type": "stream",
     "text": [
      "Epoch 9: 26%, loss: 4.222875\n"
     ]
    },
    {
     "name": "stderr",
     "output_type": "stream",
     "text": [
      " 31%|███▏      | 601/1913 [04:57<10:55,  2.00it/s]"
     ]
    },
    {
     "name": "stdout",
     "output_type": "stream",
     "text": [
      "Epoch 9: 31%, loss: 7.673342\n"
     ]
    },
    {
     "name": "stderr",
     "output_type": "stream",
     "text": [
      " 37%|███▋      | 701/1913 [05:47<10:36,  1.91it/s]"
     ]
    },
    {
     "name": "stdout",
     "output_type": "stream",
     "text": [
      "Epoch 9: 37%, loss: 2.074151\n"
     ]
    },
    {
     "name": "stderr",
     "output_type": "stream",
     "text": [
      " 42%|████▏     | 801/1913 [06:37<09:04,  2.04it/s]"
     ]
    },
    {
     "name": "stdout",
     "output_type": "stream",
     "text": [
      "Epoch 9: 42%, loss: 2.456325\n"
     ]
    },
    {
     "name": "stderr",
     "output_type": "stream",
     "text": [
      " 47%|████▋     | 901/1913 [07:28<08:30,  1.98it/s]"
     ]
    },
    {
     "name": "stdout",
     "output_type": "stream",
     "text": [
      "Epoch 9: 47%, loss: 2.779412\n"
     ]
    },
    {
     "name": "stderr",
     "output_type": "stream",
     "text": [
      " 52%|█████▏    | 1001/1913 [08:18<07:45,  1.96it/s]"
     ]
    },
    {
     "name": "stdout",
     "output_type": "stream",
     "text": [
      "Epoch 9: 52%, loss: 2.837885\n"
     ]
    },
    {
     "name": "stderr",
     "output_type": "stream",
     "text": [
      " 58%|█████▊    | 1101/1913 [09:10<06:45,  2.00it/s]"
     ]
    },
    {
     "name": "stdout",
     "output_type": "stream",
     "text": [
      "Epoch 9: 58%, loss: 1.738293\n"
     ]
    },
    {
     "name": "stderr",
     "output_type": "stream",
     "text": [
      " 63%|██████▎   | 1201/1913 [10:01<05:56,  2.00it/s]"
     ]
    },
    {
     "name": "stdout",
     "output_type": "stream",
     "text": [
      "Epoch 9: 63%, loss: 4.231092\n"
     ]
    },
    {
     "name": "stderr",
     "output_type": "stream",
     "text": [
      " 68%|██████▊   | 1301/1913 [10:53<05:48,  1.76it/s]"
     ]
    },
    {
     "name": "stdout",
     "output_type": "stream",
     "text": [
      "Epoch 9: 68%, loss: 4.777473\n"
     ]
    },
    {
     "name": "stderr",
     "output_type": "stream",
     "text": [
      " 73%|███████▎  | 1401/1913 [11:44<04:29,  1.90it/s]"
     ]
    },
    {
     "name": "stdout",
     "output_type": "stream",
     "text": [
      "Epoch 9: 73%, loss: 3.001123\n"
     ]
    },
    {
     "name": "stderr",
     "output_type": "stream",
     "text": [
      " 78%|███████▊  | 1501/1913 [12:37<03:26,  1.99it/s]"
     ]
    },
    {
     "name": "stdout",
     "output_type": "stream",
     "text": [
      "Epoch 9: 78%, loss: 5.946947\n"
     ]
    },
    {
     "name": "stderr",
     "output_type": "stream",
     "text": [
      " 84%|████████▎ | 1601/1913 [13:30<02:42,  1.92it/s]"
     ]
    },
    {
     "name": "stdout",
     "output_type": "stream",
     "text": [
      "Epoch 9: 84%, loss: 4.321884\n"
     ]
    },
    {
     "name": "stderr",
     "output_type": "stream",
     "text": [
      " 89%|████████▉ | 1701/1913 [14:23<01:52,  1.88it/s]"
     ]
    },
    {
     "name": "stdout",
     "output_type": "stream",
     "text": [
      "Epoch 9: 89%, loss: 1.559961\n"
     ]
    },
    {
     "name": "stderr",
     "output_type": "stream",
     "text": [
      " 94%|█████████▍| 1801/1913 [15:16<01:00,  1.86it/s]"
     ]
    },
    {
     "name": "stdout",
     "output_type": "stream",
     "text": [
      "Epoch 9: 94%, loss: 4.163465\n"
     ]
    },
    {
     "name": "stderr",
     "output_type": "stream",
     "text": [
      " 99%|█████████▉| 1901/1913 [16:09<00:06,  1.91it/s]"
     ]
    },
    {
     "name": "stdout",
     "output_type": "stream",
     "text": [
      "Epoch 9: 99%, loss: 1.244470\n"
     ]
    },
    {
     "name": "stderr",
     "output_type": "stream",
     "text": [
      "100%|██████████| 1913/1913 [16:16<00:00,  1.96it/s]"
     ]
    },
    {
     "name": "stdout",
     "output_type": "stream",
     "text": [
      "Epoch 9: 100%, loss: 4.132699\n"
     ]
    },
    {
     "name": "stderr",
     "output_type": "stream",
     "text": [
      "\n"
     ]
    },
    {
     "name": "stdout",
     "output_type": "stream",
     "text": [
      "                      (F1-score: 0.1366, Precision: 0.1420, Recall: 0.1489)\n",
      "\n",
      "                      (NDCG: 0.1275)\n",
      "\n",
      "                      (MAE: 4.6019)\n",
      "\n",
      "train_loss= tensor(3.9485)\n",
      "--------------------\n"
     ]
    },
    {
     "name": "stderr",
     "output_type": "stream",
     "text": [
      "100%|██████████| 239/239 [01:37<00:00,  2.46it/s]\n"
     ]
    },
    {
     "name": "stdout",
     "output_type": "stream",
     "text": [
      "                      (F1-score: 0.1293, Precision: 0.1384, Recall: 0.1369)\n",
      "\n",
      "                      (NDCG: 0.1180)\n",
      "\n",
      "                      (MAE: 4.4451)\n",
      "\n",
      "val_loss= tensor(3.7011)\n",
      "--------------------\n"
     ]
    },
    {
     "name": "stderr",
     "output_type": "stream",
     "text": [
      "100%|██████████| 239/239 [01:38<00:00,  2.42it/s]\n"
     ]
    },
    {
     "name": "stdout",
     "output_type": "stream",
     "text": [
      "                      (F1-score: 0.1309, Precision: 0.1408, Recall: 0.1377)\n",
      "\n",
      "                      (NDCG: 0.1198)\n",
      "\n",
      "                      (MAE: 4.4550)\n",
      "\n",
      "--------------------\n",
      "[[1, 0.1623353763479029, 0.1491197404593984, 0.14532537524112915, 0.12284765203208682, 4.547594142259414, 3.7110097408294678], [2, 0.15772046516846788, 0.15984749277988602, 0.14872346358957772, 0.12935370769571888, 4.446652719665272, 3.663158416748047], [3, 0.13874689593249273, 0.1402540292183393, 0.13108652577809662, 0.12064036479508154, 4.466004184100418, 3.649195432662964], [4, 0.14421510727960513, 0.13138365125596593, 0.12916245400935225, 0.12067114758192246, 4.563807531380753, 3.6025912761688232], [5, 0.1457525628082103, 0.12896472072345194, 0.12862752092220742, 0.12058813618418125, 4.609832635983263, 3.6187639236450195], [6, 0.14388316536847123, 0.13247287190011622, 0.12958150799569937, 0.12088576834512461, 4.530857740585774, 3.592007875442505], [7, 0.13861603116435445, 0.13812669611245082, 0.12982306858132694, 0.11889473345738574, 4.5303347280334725, 3.649562358856201], [8, 0.14109023078951047, 0.13489159116956542, 0.1296105933638906, 0.11981703906035573, 4.506799163179917, 3.5897114276885986], [9, 0.13771442082878968, 0.14077606872550236, 0.1308536880212033, 0.11980852390012108, 4.455020920502092, 3.650421619415283]]\n",
      "-----------------------------------------------------------------------------------------\n"
     ]
    },
    {
     "name": "stderr",
     "output_type": "stream",
     "text": [
      "  0%|          | 1/1913 [00:00<14:58,  2.13it/s]"
     ]
    },
    {
     "name": "stdout",
     "output_type": "stream",
     "text": [
      "Epoch 10: 0%, loss: 3.640409\n"
     ]
    },
    {
     "name": "stderr",
     "output_type": "stream",
     "text": [
      "  5%|▌         | 101/1913 [00:49<14:51,  2.03it/s]"
     ]
    },
    {
     "name": "stdout",
     "output_type": "stream",
     "text": [
      "Epoch 10: 5%, loss: 1.733498\n"
     ]
    },
    {
     "name": "stderr",
     "output_type": "stream",
     "text": [
      " 11%|█         | 201/1913 [01:38<13:51,  2.06it/s]"
     ]
    },
    {
     "name": "stdout",
     "output_type": "stream",
     "text": [
      "Epoch 10: 10%, loss: 2.550125\n"
     ]
    },
    {
     "name": "stderr",
     "output_type": "stream",
     "text": [
      " 16%|█▌        | 301/1913 [02:27<12:48,  2.10it/s]"
     ]
    },
    {
     "name": "stdout",
     "output_type": "stream",
     "text": [
      "Epoch 10: 16%, loss: 2.750971\n"
     ]
    },
    {
     "name": "stderr",
     "output_type": "stream",
     "text": [
      " 21%|██        | 401/1913 [03:17<12:09,  2.07it/s]"
     ]
    },
    {
     "name": "stdout",
     "output_type": "stream",
     "text": [
      "Epoch 10: 21%, loss: 4.823424\n"
     ]
    },
    {
     "name": "stderr",
     "output_type": "stream",
     "text": [
      " 26%|██▌       | 501/1913 [04:07<11:51,  1.99it/s]"
     ]
    },
    {
     "name": "stdout",
     "output_type": "stream",
     "text": [
      "Epoch 10: 26%, loss: 1.690527\n"
     ]
    },
    {
     "name": "stderr",
     "output_type": "stream",
     "text": [
      " 31%|███▏      | 601/1913 [04:57<10:34,  2.07it/s]"
     ]
    },
    {
     "name": "stdout",
     "output_type": "stream",
     "text": [
      "Epoch 10: 31%, loss: 2.107506\n"
     ]
    },
    {
     "name": "stderr",
     "output_type": "stream",
     "text": [
      " 37%|███▋      | 701/1913 [05:48<10:12,  1.98it/s]"
     ]
    },
    {
     "name": "stdout",
     "output_type": "stream",
     "text": [
      "Epoch 10: 37%, loss: 2.934848\n"
     ]
    },
    {
     "name": "stderr",
     "output_type": "stream",
     "text": [
      " 42%|████▏     | 801/1913 [06:39<09:03,  2.04it/s]"
     ]
    },
    {
     "name": "stdout",
     "output_type": "stream",
     "text": [
      "Epoch 10: 42%, loss: 2.192706\n"
     ]
    },
    {
     "name": "stderr",
     "output_type": "stream",
     "text": [
      " 47%|████▋     | 901/1913 [07:29<08:38,  1.95it/s]"
     ]
    },
    {
     "name": "stdout",
     "output_type": "stream",
     "text": [
      "Epoch 10: 47%, loss: 2.509179\n"
     ]
    },
    {
     "name": "stderr",
     "output_type": "stream",
     "text": [
      " 52%|█████▏    | 1001/1913 [08:21<07:39,  1.99it/s]"
     ]
    },
    {
     "name": "stdout",
     "output_type": "stream",
     "text": [
      "Epoch 10: 52%, loss: 12.103121\n"
     ]
    },
    {
     "name": "stderr",
     "output_type": "stream",
     "text": [
      " 58%|█████▊    | 1101/1913 [09:12<07:20,  1.84it/s]"
     ]
    },
    {
     "name": "stdout",
     "output_type": "stream",
     "text": [
      "Epoch 10: 58%, loss: 1.634119\n"
     ]
    },
    {
     "name": "stderr",
     "output_type": "stream",
     "text": [
      " 63%|██████▎   | 1201/1913 [10:04<06:09,  1.92it/s]"
     ]
    },
    {
     "name": "stdout",
     "output_type": "stream",
     "text": [
      "Epoch 10: 63%, loss: 1.896681\n"
     ]
    },
    {
     "name": "stderr",
     "output_type": "stream",
     "text": [
      " 68%|██████▊   | 1301/1913 [10:55<05:31,  1.84it/s]"
     ]
    },
    {
     "name": "stdout",
     "output_type": "stream",
     "text": [
      "Epoch 10: 68%, loss: 3.914675\n"
     ]
    },
    {
     "name": "stderr",
     "output_type": "stream",
     "text": [
      " 73%|███████▎  | 1401/1913 [11:47<04:32,  1.88it/s]"
     ]
    },
    {
     "name": "stdout",
     "output_type": "stream",
     "text": [
      "Epoch 10: 73%, loss: 2.264643\n"
     ]
    },
    {
     "name": "stderr",
     "output_type": "stream",
     "text": [
      " 78%|███████▊  | 1501/1913 [12:40<03:46,  1.82it/s]"
     ]
    },
    {
     "name": "stdout",
     "output_type": "stream",
     "text": [
      "Epoch 10: 78%, loss: 1.795808\n"
     ]
    },
    {
     "name": "stderr",
     "output_type": "stream",
     "text": [
      " 84%|████████▎ | 1601/1913 [13:32<02:46,  1.87it/s]"
     ]
    },
    {
     "name": "stdout",
     "output_type": "stream",
     "text": [
      "Epoch 10: 84%, loss: 2.173589\n"
     ]
    },
    {
     "name": "stderr",
     "output_type": "stream",
     "text": [
      " 89%|████████▉ | 1701/1913 [14:24<01:52,  1.89it/s]"
     ]
    },
    {
     "name": "stdout",
     "output_type": "stream",
     "text": [
      "Epoch 10: 89%, loss: 2.068943\n"
     ]
    },
    {
     "name": "stderr",
     "output_type": "stream",
     "text": [
      " 94%|█████████▍| 1801/1913 [15:17<00:59,  1.90it/s]"
     ]
    },
    {
     "name": "stdout",
     "output_type": "stream",
     "text": [
      "Epoch 10: 94%, loss: 5.148981\n"
     ]
    },
    {
     "name": "stderr",
     "output_type": "stream",
     "text": [
      " 99%|█████████▉| 1901/1913 [16:10<00:06,  1.92it/s]"
     ]
    },
    {
     "name": "stdout",
     "output_type": "stream",
     "text": [
      "Epoch 10: 99%, loss: 5.978530\n"
     ]
    },
    {
     "name": "stderr",
     "output_type": "stream",
     "text": [
      "100%|██████████| 1913/1913 [16:16<00:00,  1.96it/s]"
     ]
    },
    {
     "name": "stdout",
     "output_type": "stream",
     "text": [
      "Epoch 10: 100%, loss: 3.444909\n"
     ]
    },
    {
     "name": "stderr",
     "output_type": "stream",
     "text": [
      "\n"
     ]
    },
    {
     "name": "stdout",
     "output_type": "stream",
     "text": [
      "                      (F1-score: 0.1364, Precision: 0.1417, Recall: 0.1487)\n",
      "\n",
      "                      (NDCG: 0.1273)\n",
      "\n",
      "                      (MAE: 4.5869)\n",
      "\n",
      "train_loss= tensor(3.9344)\n",
      "--------------------\n"
     ]
    },
    {
     "name": "stderr",
     "output_type": "stream",
     "text": [
      "100%|██████████| 239/239 [01:36<00:00,  2.47it/s]\n"
     ]
    },
    {
     "name": "stdout",
     "output_type": "stream",
     "text": [
      "                      (F1-score: 0.1266, Precision: 0.1265, Recall: 0.1443)\n",
      "\n",
      "                      (NDCG: 0.1180)\n",
      "\n",
      "                      (MAE: 4.6260)\n",
      "\n",
      "val_loss= tensor(3.6948)\n",
      "--------------------\n"
     ]
    },
    {
     "name": "stderr",
     "output_type": "stream",
     "text": [
      "100%|██████████| 239/239 [01:38<00:00,  2.42it/s]\n"
     ]
    },
    {
     "name": "stdout",
     "output_type": "stream",
     "text": [
      "                      (F1-score: 0.1284, Precision: 0.1291, Recall: 0.1448)\n",
      "\n",
      "                      (NDCG: 0.1206)\n",
      "\n",
      "                      (MAE: 4.5706)\n",
      "\n",
      "--------------------\n",
      "[[1, 0.1623353763479029, 0.1491197404593984, 0.14532537524112915, 0.12284765203208682, 4.547594142259414, 3.7110097408294678], [2, 0.15772046516846788, 0.15984749277988602, 0.14872346358957772, 0.12935370769571888, 4.446652719665272, 3.663158416748047], [3, 0.13874689593249273, 0.1402540292183393, 0.13108652577809662, 0.12064036479508154, 4.466004184100418, 3.649195432662964], [4, 0.14421510727960513, 0.13138365125596593, 0.12916245400935225, 0.12067114758192246, 4.563807531380753, 3.6025912761688232], [5, 0.1457525628082103, 0.12896472072345194, 0.12862752092220742, 0.12058813618418125, 4.609832635983263, 3.6187639236450195], [6, 0.14388316536847123, 0.13247287190011622, 0.12958150799569937, 0.12088576834512461, 4.530857740585774, 3.592007875442505], [7, 0.13861603116435445, 0.13812669611245082, 0.12982306858132694, 0.11889473345738574, 4.5303347280334725, 3.649562358856201], [8, 0.14109023078951047, 0.13489159116956542, 0.1296105933638906, 0.11981703906035573, 4.506799163179917, 3.5897114276885986], [9, 0.13771442082878968, 0.14077606872550236, 0.1308536880212033, 0.11980852390012108, 4.455020920502092, 3.650421619415283], [10, 0.14477868004973884, 0.12910360860857337, 0.12837432053715717, 0.12060955931650763, 4.570606694560669, 3.607699155807495]]\n",
      "-----------------------------------------------------------------------------------------\n"
     ]
    },
    {
     "name": "stderr",
     "output_type": "stream",
     "text": [
      "  0%|          | 1/1913 [00:00<13:55,  2.29it/s]"
     ]
    },
    {
     "name": "stdout",
     "output_type": "stream",
     "text": [
      "Epoch 11: 0%, loss: 3.685874\n"
     ]
    },
    {
     "name": "stderr",
     "output_type": "stream",
     "text": [
      "  5%|▌         | 101/1913 [00:50<15:07,  2.00it/s]"
     ]
    },
    {
     "name": "stdout",
     "output_type": "stream",
     "text": [
      "Epoch 11: 5%, loss: 4.440138\n"
     ]
    },
    {
     "name": "stderr",
     "output_type": "stream",
     "text": [
      " 11%|█         | 201/1913 [01:40<14:19,  1.99it/s]"
     ]
    },
    {
     "name": "stdout",
     "output_type": "stream",
     "text": [
      "Epoch 11: 10%, loss: 1.979110\n"
     ]
    },
    {
     "name": "stderr",
     "output_type": "stream",
     "text": [
      " 16%|█▌        | 301/1913 [02:28<12:34,  2.14it/s]"
     ]
    },
    {
     "name": "stdout",
     "output_type": "stream",
     "text": [
      "Epoch 11: 16%, loss: 2.139385\n"
     ]
    },
    {
     "name": "stderr",
     "output_type": "stream",
     "text": [
      " 21%|██        | 401/1913 [03:18<12:14,  2.06it/s]"
     ]
    },
    {
     "name": "stdout",
     "output_type": "stream",
     "text": [
      "Epoch 11: 21%, loss: 1.126226\n"
     ]
    },
    {
     "name": "stderr",
     "output_type": "stream",
     "text": [
      " 26%|██▌       | 501/1913 [04:08<11:32,  2.04it/s]"
     ]
    },
    {
     "name": "stdout",
     "output_type": "stream",
     "text": [
      "Epoch 11: 26%, loss: 1.760537\n"
     ]
    },
    {
     "name": "stderr",
     "output_type": "stream",
     "text": [
      " 31%|███▏      | 601/1913 [04:58<10:52,  2.01it/s]"
     ]
    },
    {
     "name": "stdout",
     "output_type": "stream",
     "text": [
      "Epoch 11: 31%, loss: 1.807980\n"
     ]
    },
    {
     "name": "stderr",
     "output_type": "stream",
     "text": [
      " 37%|███▋      | 701/1913 [05:48<09:38,  2.09it/s]"
     ]
    },
    {
     "name": "stdout",
     "output_type": "stream",
     "text": [
      "Epoch 11: 37%, loss: 1.818452\n"
     ]
    },
    {
     "name": "stderr",
     "output_type": "stream",
     "text": [
      " 42%|████▏     | 801/1913 [06:38<10:04,  1.84it/s]"
     ]
    },
    {
     "name": "stdout",
     "output_type": "stream",
     "text": [
      "Epoch 11: 42%, loss: 1.963163\n"
     ]
    },
    {
     "name": "stderr",
     "output_type": "stream",
     "text": [
      " 47%|████▋     | 901/1913 [07:29<08:35,  1.96it/s]"
     ]
    },
    {
     "name": "stdout",
     "output_type": "stream",
     "text": [
      "Epoch 11: 47%, loss: 1.822974\n"
     ]
    },
    {
     "name": "stderr",
     "output_type": "stream",
     "text": [
      " 52%|█████▏    | 1001/1913 [08:20<07:34,  2.01it/s]"
     ]
    },
    {
     "name": "stdout",
     "output_type": "stream",
     "text": [
      "Epoch 11: 52%, loss: 3.672318\n"
     ]
    },
    {
     "name": "stderr",
     "output_type": "stream",
     "text": [
      " 58%|█████▊    | 1101/1913 [09:11<07:34,  1.79it/s]"
     ]
    },
    {
     "name": "stdout",
     "output_type": "stream",
     "text": [
      "Epoch 11: 58%, loss: 2.815861\n"
     ]
    },
    {
     "name": "stderr",
     "output_type": "stream",
     "text": [
      " 63%|██████▎   | 1201/1913 [10:03<06:03,  1.96it/s]"
     ]
    },
    {
     "name": "stdout",
     "output_type": "stream",
     "text": [
      "Epoch 11: 63%, loss: 7.265951\n"
     ]
    },
    {
     "name": "stderr",
     "output_type": "stream",
     "text": [
      " 68%|██████▊   | 1301/1913 [10:54<05:25,  1.88it/s]"
     ]
    },
    {
     "name": "stdout",
     "output_type": "stream",
     "text": [
      "Epoch 11: 68%, loss: 5.079908\n"
     ]
    },
    {
     "name": "stderr",
     "output_type": "stream",
     "text": [
      " 73%|███████▎  | 1401/1913 [11:47<04:29,  1.90it/s]"
     ]
    },
    {
     "name": "stdout",
     "output_type": "stream",
     "text": [
      "Epoch 11: 73%, loss: 7.177457\n"
     ]
    },
    {
     "name": "stderr",
     "output_type": "stream",
     "text": [
      " 78%|███████▊  | 1501/1913 [12:42<03:25,  2.00it/s]"
     ]
    },
    {
     "name": "stdout",
     "output_type": "stream",
     "text": [
      "Epoch 11: 78%, loss: 2.647423\n"
     ]
    },
    {
     "name": "stderr",
     "output_type": "stream",
     "text": [
      " 84%|████████▎ | 1601/1913 [13:34<02:48,  1.85it/s]"
     ]
    },
    {
     "name": "stdout",
     "output_type": "stream",
     "text": [
      "Epoch 11: 84%, loss: 2.290742\n"
     ]
    },
    {
     "name": "stderr",
     "output_type": "stream",
     "text": [
      " 89%|████████▉ | 1701/1913 [14:27<01:45,  2.02it/s]"
     ]
    },
    {
     "name": "stdout",
     "output_type": "stream",
     "text": [
      "Epoch 11: 89%, loss: 10.513206\n"
     ]
    },
    {
     "name": "stderr",
     "output_type": "stream",
     "text": [
      " 94%|█████████▍| 1801/1913 [15:19<00:57,  1.96it/s]"
     ]
    },
    {
     "name": "stdout",
     "output_type": "stream",
     "text": [
      "Epoch 11: 94%, loss: 3.485336\n"
     ]
    },
    {
     "name": "stderr",
     "output_type": "stream",
     "text": [
      " 99%|█████████▉| 1901/1913 [16:12<00:06,  1.76it/s]"
     ]
    },
    {
     "name": "stdout",
     "output_type": "stream",
     "text": [
      "Epoch 11: 99%, loss: 4.994830\n"
     ]
    },
    {
     "name": "stderr",
     "output_type": "stream",
     "text": [
      "100%|██████████| 1913/1913 [16:18<00:00,  1.95it/s]"
     ]
    },
    {
     "name": "stdout",
     "output_type": "stream",
     "text": [
      "Epoch 11: 100%, loss: 3.652627\n"
     ]
    },
    {
     "name": "stderr",
     "output_type": "stream",
     "text": [
      "\n"
     ]
    },
    {
     "name": "stdout",
     "output_type": "stream",
     "text": [
      "                      (F1-score: 0.1364, Precision: 0.1418, Recall: 0.1486)\n",
      "\n",
      "                      (NDCG: 0.1273)\n",
      "\n",
      "                      (MAE: 4.5978)\n",
      "\n",
      "train_loss= tensor(3.9452)\n",
      "--------------------\n"
     ]
    },
    {
     "name": "stderr",
     "output_type": "stream",
     "text": [
      "100%|██████████| 239/239 [01:36<00:00,  2.47it/s]\n"
     ]
    },
    {
     "name": "stdout",
     "output_type": "stream",
     "text": [
      "                      (F1-score: 0.1265, Precision: 0.1302, Recall: 0.1399)\n",
      "\n",
      "                      (NDCG: 0.1166)\n",
      "\n",
      "                      (MAE: 4.5873)\n",
      "\n",
      "val_loss= tensor(3.6717)\n",
      "--------------------\n"
     ]
    },
    {
     "name": "stderr",
     "output_type": "stream",
     "text": [
      "100%|██████████| 239/239 [01:38<00:00,  2.43it/s]\n"
     ]
    },
    {
     "name": "stdout",
     "output_type": "stream",
     "text": [
      "                      (F1-score: 0.1283, Precision: 0.1330, Recall: 0.1409)\n",
      "\n",
      "                      (NDCG: 0.1187)\n",
      "\n",
      "                      (MAE: 4.5601)\n",
      "\n",
      "--------------------\n",
      "[[1, 0.1623353763479029, 0.1491197404593984, 0.14532537524112915, 0.12284765203208682, 4.547594142259414, 3.7110097408294678], [2, 0.15772046516846788, 0.15984749277988602, 0.14872346358957772, 0.12935370769571888, 4.446652719665272, 3.663158416748047], [3, 0.13874689593249273, 0.1402540292183393, 0.13108652577809662, 0.12064036479508154, 4.466004184100418, 3.649195432662964], [4, 0.14421510727960513, 0.13138365125596593, 0.12916245400935225, 0.12067114758192246, 4.563807531380753, 3.6025912761688232], [5, 0.1457525628082103, 0.12896472072345194, 0.12862752092220742, 0.12058813618418125, 4.609832635983263, 3.6187639236450195], [6, 0.14388316536847123, 0.13247287190011622, 0.12958150799569937, 0.12088576834512461, 4.530857740585774, 3.592007875442505], [7, 0.13861603116435445, 0.13812669611245082, 0.12982306858132694, 0.11889473345738574, 4.5303347280334725, 3.649562358856201], [8, 0.14109023078951047, 0.13489159116956542, 0.1296105933638906, 0.11981703906035573, 4.506799163179917, 3.5897114276885986], [9, 0.13771442082878968, 0.14077606872550236, 0.1308536880212033, 0.11980852390012108, 4.455020920502092, 3.650421619415283], [10, 0.14477868004973884, 0.12910360860857337, 0.12837432053715717, 0.12060955931650763, 4.570606694560669, 3.607699155807495], [11, 0.14090334660401868, 0.1329712084001304, 0.1283460765493704, 0.11865800575189542, 4.560146443514644, 3.6004252433776855]]\n",
      "-----------------------------------------------------------------------------------------\n"
     ]
    },
    {
     "name": "stderr",
     "output_type": "stream",
     "text": [
      "  0%|          | 1/1913 [00:00<17:03,  1.87it/s]"
     ]
    },
    {
     "name": "stdout",
     "output_type": "stream",
     "text": [
      "Epoch 12: 0%, loss: 5.699781\n"
     ]
    },
    {
     "name": "stderr",
     "output_type": "stream",
     "text": [
      "  5%|▌         | 101/1913 [00:50<14:49,  2.04it/s]"
     ]
    },
    {
     "name": "stdout",
     "output_type": "stream",
     "text": [
      "Epoch 12: 5%, loss: 1.450743\n"
     ]
    },
    {
     "name": "stderr",
     "output_type": "stream",
     "text": [
      " 11%|█         | 201/1913 [01:39<15:08,  1.88it/s]"
     ]
    },
    {
     "name": "stdout",
     "output_type": "stream",
     "text": [
      "Epoch 12: 10%, loss: 3.302693\n"
     ]
    },
    {
     "name": "stderr",
     "output_type": "stream",
     "text": [
      " 16%|█▌        | 301/1913 [02:28<13:34,  1.98it/s]"
     ]
    },
    {
     "name": "stdout",
     "output_type": "stream",
     "text": [
      "Epoch 12: 16%, loss: 1.699268\n"
     ]
    },
    {
     "name": "stderr",
     "output_type": "stream",
     "text": [
      " 21%|██        | 401/1913 [03:18<12:46,  1.97it/s]"
     ]
    },
    {
     "name": "stdout",
     "output_type": "stream",
     "text": [
      "Epoch 12: 21%, loss: 6.506132\n"
     ]
    },
    {
     "name": "stderr",
     "output_type": "stream",
     "text": [
      " 26%|██▌       | 501/1913 [04:07<11:39,  2.02it/s]"
     ]
    },
    {
     "name": "stdout",
     "output_type": "stream",
     "text": [
      "Epoch 12: 26%, loss: 8.148679\n"
     ]
    },
    {
     "name": "stderr",
     "output_type": "stream",
     "text": [
      " 31%|███▏      | 601/1913 [04:57<10:24,  2.10it/s]"
     ]
    },
    {
     "name": "stdout",
     "output_type": "stream",
     "text": [
      "Epoch 12: 31%, loss: 2.805287\n"
     ]
    },
    {
     "name": "stderr",
     "output_type": "stream",
     "text": [
      " 37%|███▋      | 701/1913 [05:47<09:20,  2.16it/s]"
     ]
    },
    {
     "name": "stdout",
     "output_type": "stream",
     "text": [
      "Epoch 12: 37%, loss: 12.948781\n"
     ]
    },
    {
     "name": "stderr",
     "output_type": "stream",
     "text": [
      " 42%|████▏     | 801/1913 [06:37<09:36,  1.93it/s]"
     ]
    },
    {
     "name": "stdout",
     "output_type": "stream",
     "text": [
      "Epoch 12: 42%, loss: 1.794317\n"
     ]
    },
    {
     "name": "stderr",
     "output_type": "stream",
     "text": [
      " 47%|████▋     | 901/1913 [07:28<09:17,  1.82it/s]"
     ]
    },
    {
     "name": "stdout",
     "output_type": "stream",
     "text": [
      "Epoch 12: 47%, loss: 1.487252\n"
     ]
    },
    {
     "name": "stderr",
     "output_type": "stream",
     "text": [
      " 52%|█████▏    | 1001/1913 [08:19<07:34,  2.01it/s]"
     ]
    },
    {
     "name": "stdout",
     "output_type": "stream",
     "text": [
      "Epoch 12: 52%, loss: 2.620374\n"
     ]
    },
    {
     "name": "stderr",
     "output_type": "stream",
     "text": [
      " 58%|█████▊    | 1101/1913 [09:10<07:09,  1.89it/s]"
     ]
    },
    {
     "name": "stdout",
     "output_type": "stream",
     "text": [
      "Epoch 12: 58%, loss: 1.687940\n"
     ]
    },
    {
     "name": "stderr",
     "output_type": "stream",
     "text": [
      " 63%|██████▎   | 1201/1913 [10:02<05:46,  2.06it/s]"
     ]
    },
    {
     "name": "stdout",
     "output_type": "stream",
     "text": [
      "Epoch 12: 63%, loss: 2.000380\n"
     ]
    },
    {
     "name": "stderr",
     "output_type": "stream",
     "text": [
      " 68%|██████▊   | 1301/1913 [10:53<05:13,  1.95it/s]"
     ]
    },
    {
     "name": "stdout",
     "output_type": "stream",
     "text": [
      "Epoch 12: 68%, loss: 2.077775\n"
     ]
    },
    {
     "name": "stderr",
     "output_type": "stream",
     "text": [
      " 73%|███████▎  | 1401/1913 [11:45<04:23,  1.94it/s]"
     ]
    },
    {
     "name": "stdout",
     "output_type": "stream",
     "text": [
      "Epoch 12: 73%, loss: 4.467003\n"
     ]
    },
    {
     "name": "stderr",
     "output_type": "stream",
     "text": [
      " 78%|███████▊  | 1501/1913 [12:37<03:22,  2.04it/s]"
     ]
    },
    {
     "name": "stdout",
     "output_type": "stream",
     "text": [
      "Epoch 12: 78%, loss: 3.643445\n"
     ]
    },
    {
     "name": "stderr",
     "output_type": "stream",
     "text": [
      " 84%|████████▎ | 1601/1913 [13:30<02:58,  1.75it/s]"
     ]
    },
    {
     "name": "stdout",
     "output_type": "stream",
     "text": [
      "Epoch 12: 84%, loss: 3.539688\n"
     ]
    },
    {
     "name": "stderr",
     "output_type": "stream",
     "text": [
      " 89%|████████▉ | 1701/1913 [14:22<02:02,  1.74it/s]"
     ]
    },
    {
     "name": "stdout",
     "output_type": "stream",
     "text": [
      "Epoch 12: 89%, loss: 1.176538\n"
     ]
    },
    {
     "name": "stderr",
     "output_type": "stream",
     "text": [
      " 94%|█████████▍| 1801/1913 [15:15<00:58,  1.90it/s]"
     ]
    },
    {
     "name": "stdout",
     "output_type": "stream",
     "text": [
      "Epoch 12: 94%, loss: 3.401259\n"
     ]
    },
    {
     "name": "stderr",
     "output_type": "stream",
     "text": [
      " 99%|█████████▉| 1901/1913 [16:08<00:06,  1.84it/s]"
     ]
    },
    {
     "name": "stdout",
     "output_type": "stream",
     "text": [
      "Epoch 12: 99%, loss: 3.688149\n"
     ]
    },
    {
     "name": "stderr",
     "output_type": "stream",
     "text": [
      "100%|██████████| 1913/1913 [16:14<00:00,  1.96it/s]"
     ]
    },
    {
     "name": "stdout",
     "output_type": "stream",
     "text": [
      "Epoch 12: 100%, loss: 2.401769\n"
     ]
    },
    {
     "name": "stderr",
     "output_type": "stream",
     "text": [
      "\n"
     ]
    },
    {
     "name": "stdout",
     "output_type": "stream",
     "text": [
      "                      (F1-score: 0.1364, Precision: 0.1417, Recall: 0.1486)\n",
      "\n",
      "                      (NDCG: 0.1272)\n",
      "\n",
      "                      (MAE: 4.5942)\n",
      "\n",
      "train_loss= tensor(3.9286)\n",
      "--------------------\n"
     ]
    },
    {
     "name": "stderr",
     "output_type": "stream",
     "text": [
      "100%|██████████| 239/239 [01:37<00:00,  2.46it/s]\n"
     ]
    },
    {
     "name": "stdout",
     "output_type": "stream",
     "text": [
      "                      (F1-score: 0.1263, Precision: 0.1287, Recall: 0.1410)\n",
      "\n",
      "                      (NDCG: 0.1168)\n",
      "\n",
      "                      (MAE: 4.6020)\n",
      "\n",
      "val_loss= tensor(3.6568)\n",
      "--------------------\n"
     ]
    },
    {
     "name": "stderr",
     "output_type": "stream",
     "text": [
      "100%|██████████| 239/239 [01:38<00:00,  2.42it/s]\n"
     ]
    },
    {
     "name": "stdout",
     "output_type": "stream",
     "text": [
      "                      (F1-score: 0.1292, Precision: 0.1327, Recall: 0.1431)\n",
      "\n",
      "                      (NDCG: 0.1198)\n",
      "\n",
      "                      (MAE: 4.5565)\n",
      "\n",
      "--------------------\n",
      "[[1, 0.1623353763479029, 0.1491197404593984, 0.14532537524112915, 0.12284765203208682, 4.547594142259414, 3.7110097408294678], [2, 0.15772046516846788, 0.15984749277988602, 0.14872346358957772, 0.12935370769571888, 4.446652719665272, 3.663158416748047], [3, 0.13874689593249273, 0.1402540292183393, 0.13108652577809662, 0.12064036479508154, 4.466004184100418, 3.649195432662964], [4, 0.14421510727960513, 0.13138365125596593, 0.12916245400935225, 0.12067114758192246, 4.563807531380753, 3.6025912761688232], [5, 0.1457525628082103, 0.12896472072345194, 0.12862752092220742, 0.12058813618418125, 4.609832635983263, 3.6187639236450195], [6, 0.14388316536847123, 0.13247287190011622, 0.12958150799569937, 0.12088576834512461, 4.530857740585774, 3.592007875442505], [7, 0.13861603116435445, 0.13812669611245082, 0.12982306858132694, 0.11889473345738574, 4.5303347280334725, 3.649562358856201], [8, 0.14109023078951047, 0.13489159116956542, 0.1296105933638906, 0.11981703906035573, 4.506799163179917, 3.5897114276885986], [9, 0.13771442082878968, 0.14077606872550236, 0.1308536880212033, 0.11980852390012108, 4.455020920502092, 3.650421619415283], [10, 0.14477868004973884, 0.12910360860857337, 0.12837432053715717, 0.12060955931650763, 4.570606694560669, 3.607699155807495], [11, 0.14090334660401868, 0.1329712084001304, 0.1283460765493704, 0.11865800575189542, 4.560146443514644, 3.6004252433776855], [12, 0.1431339758766103, 0.13268651171546947, 0.12924682798413475, 0.1197862420961744, 4.556485355648536, 3.5576555728912354]]\n",
      "-----------------------------------------------------------------------------------------\n"
     ]
    },
    {
     "name": "stderr",
     "output_type": "stream",
     "text": [
      "  0%|          | 1/1913 [00:00<16:12,  1.97it/s]"
     ]
    },
    {
     "name": "stdout",
     "output_type": "stream",
     "text": [
      "Epoch 13: 0%, loss: 1.743538\n"
     ]
    },
    {
     "name": "stderr",
     "output_type": "stream",
     "text": [
      "  5%|▌         | 101/1913 [00:49<14:25,  2.09it/s]"
     ]
    },
    {
     "name": "stdout",
     "output_type": "stream",
     "text": [
      "Epoch 13: 5%, loss: 1.627123\n"
     ]
    },
    {
     "name": "stderr",
     "output_type": "stream",
     "text": [
      " 11%|█         | 201/1913 [01:38<13:31,  2.11it/s]"
     ]
    },
    {
     "name": "stdout",
     "output_type": "stream",
     "text": [
      "Epoch 13: 10%, loss: 3.883699\n"
     ]
    },
    {
     "name": "stderr",
     "output_type": "stream",
     "text": [
      " 16%|█▌        | 301/1913 [02:28<12:43,  2.11it/s]"
     ]
    },
    {
     "name": "stdout",
     "output_type": "stream",
     "text": [
      "Epoch 13: 16%, loss: 1.595459\n"
     ]
    },
    {
     "name": "stderr",
     "output_type": "stream",
     "text": [
      " 21%|██        | 401/1913 [03:17<13:32,  1.86it/s]"
     ]
    },
    {
     "name": "stdout",
     "output_type": "stream",
     "text": [
      "Epoch 13: 21%, loss: 10.326053\n"
     ]
    },
    {
     "name": "stderr",
     "output_type": "stream",
     "text": [
      " 26%|██▌       | 501/1913 [04:07<12:02,  1.95it/s]"
     ]
    },
    {
     "name": "stdout",
     "output_type": "stream",
     "text": [
      "Epoch 13: 26%, loss: 1.742359\n"
     ]
    },
    {
     "name": "stderr",
     "output_type": "stream",
     "text": [
      " 31%|███▏      | 601/1913 [04:58<11:22,  1.92it/s]"
     ]
    },
    {
     "name": "stdout",
     "output_type": "stream",
     "text": [
      "Epoch 13: 31%, loss: 2.936227\n"
     ]
    },
    {
     "name": "stderr",
     "output_type": "stream",
     "text": [
      " 37%|███▋      | 701/1913 [05:49<10:44,  1.88it/s]"
     ]
    },
    {
     "name": "stdout",
     "output_type": "stream",
     "text": [
      "Epoch 13: 37%, loss: 5.853917\n"
     ]
    },
    {
     "name": "stderr",
     "output_type": "stream",
     "text": [
      " 42%|████▏     | 801/1913 [06:40<08:46,  2.11it/s]"
     ]
    },
    {
     "name": "stdout",
     "output_type": "stream",
     "text": [
      "Epoch 13: 42%, loss: 2.685123\n"
     ]
    },
    {
     "name": "stderr",
     "output_type": "stream",
     "text": [
      " 47%|████▋     | 901/1913 [07:30<08:33,  1.97it/s]"
     ]
    },
    {
     "name": "stdout",
     "output_type": "stream",
     "text": [
      "Epoch 13: 47%, loss: 1.103704\n"
     ]
    },
    {
     "name": "stderr",
     "output_type": "stream",
     "text": [
      " 52%|█████▏    | 1001/1913 [08:21<08:09,  1.86it/s]"
     ]
    },
    {
     "name": "stdout",
     "output_type": "stream",
     "text": [
      "Epoch 13: 52%, loss: 3.424711\n"
     ]
    },
    {
     "name": "stderr",
     "output_type": "stream",
     "text": [
      " 58%|█████▊    | 1101/1913 [09:12<06:23,  2.12it/s]"
     ]
    },
    {
     "name": "stdout",
     "output_type": "stream",
     "text": [
      "Epoch 13: 58%, loss: 3.905314\n"
     ]
    },
    {
     "name": "stderr",
     "output_type": "stream",
     "text": [
      " 63%|██████▎   | 1201/1913 [10:04<05:58,  1.99it/s]"
     ]
    },
    {
     "name": "stdout",
     "output_type": "stream",
     "text": [
      "Epoch 13: 63%, loss: 2.384876\n"
     ]
    },
    {
     "name": "stderr",
     "output_type": "stream",
     "text": [
      " 68%|██████▊   | 1301/1913 [10:56<05:31,  1.85it/s]"
     ]
    },
    {
     "name": "stdout",
     "output_type": "stream",
     "text": [
      "Epoch 13: 68%, loss: 1.717680\n"
     ]
    },
    {
     "name": "stderr",
     "output_type": "stream",
     "text": [
      " 73%|███████▎  | 1401/1913 [11:47<04:21,  1.96it/s]"
     ]
    },
    {
     "name": "stdout",
     "output_type": "stream",
     "text": [
      "Epoch 13: 73%, loss: 1.546661\n"
     ]
    },
    {
     "name": "stderr",
     "output_type": "stream",
     "text": [
      " 78%|███████▊  | 1501/1913 [12:39<03:35,  1.91it/s]"
     ]
    },
    {
     "name": "stdout",
     "output_type": "stream",
     "text": [
      "Epoch 13: 78%, loss: 4.124743\n"
     ]
    },
    {
     "name": "stderr",
     "output_type": "stream",
     "text": [
      " 84%|████████▎ | 1601/1913 [13:31<02:44,  1.90it/s]"
     ]
    },
    {
     "name": "stdout",
     "output_type": "stream",
     "text": [
      "Epoch 13: 84%, loss: 4.305400\n"
     ]
    },
    {
     "name": "stderr",
     "output_type": "stream",
     "text": [
      " 89%|████████▉ | 1701/1913 [14:23<01:43,  2.04it/s]"
     ]
    },
    {
     "name": "stdout",
     "output_type": "stream",
     "text": [
      "Epoch 13: 89%, loss: 9.809793\n"
     ]
    },
    {
     "name": "stderr",
     "output_type": "stream",
     "text": [
      " 94%|█████████▍| 1801/1913 [15:15<00:59,  1.89it/s]"
     ]
    },
    {
     "name": "stdout",
     "output_type": "stream",
     "text": [
      "Epoch 13: 94%, loss: 3.737885\n"
     ]
    },
    {
     "name": "stderr",
     "output_type": "stream",
     "text": [
      " 99%|█████████▉| 1901/1913 [16:08<00:06,  1.83it/s]"
     ]
    },
    {
     "name": "stdout",
     "output_type": "stream",
     "text": [
      "Epoch 13: 99%, loss: 2.582830\n"
     ]
    },
    {
     "name": "stderr",
     "output_type": "stream",
     "text": [
      "100%|██████████| 1913/1913 [16:14<00:00,  1.96it/s]"
     ]
    },
    {
     "name": "stdout",
     "output_type": "stream",
     "text": [
      "Epoch 13: 100%, loss: 4.428864\n"
     ]
    },
    {
     "name": "stderr",
     "output_type": "stream",
     "text": [
      "\n"
     ]
    },
    {
     "name": "stdout",
     "output_type": "stream",
     "text": [
      "                      (F1-score: 0.1360, Precision: 0.1411, Recall: 0.1485)\n",
      "\n",
      "                      (NDCG: 0.1270)\n",
      "\n",
      "                      (MAE: 4.5904)\n",
      "\n",
      "train_loss= tensor(3.9200)\n",
      "--------------------\n"
     ]
    },
    {
     "name": "stderr",
     "output_type": "stream",
     "text": [
      "100%|██████████| 239/239 [01:36<00:00,  2.47it/s]\n"
     ]
    },
    {
     "name": "stdout",
     "output_type": "stream",
     "text": [
      "                      (F1-score: 0.1292, Precision: 0.1380, Recall: 0.1367)\n",
      "\n",
      "                      (NDCG: 0.1183)\n",
      "\n",
      "                      (MAE: 4.3991)\n",
      "\n",
      "val_loss= tensor(3.6664)\n",
      "--------------------\n"
     ]
    },
    {
     "name": "stderr",
     "output_type": "stream",
     "text": [
      "100%|██████████| 239/239 [01:38<00:00,  2.42it/s]\n"
     ]
    },
    {
     "name": "stdout",
     "output_type": "stream",
     "text": [
      "                      (F1-score: 0.1304, Precision: 0.1401, Recall: 0.1374)\n",
      "\n",
      "                      (NDCG: 0.1204)\n",
      "\n",
      "                      (MAE: 4.4064)\n",
      "\n",
      "--------------------\n",
      "[[1, 0.1623353763479029, 0.1491197404593984, 0.14532537524112915, 0.12284765203208682, 4.547594142259414, 3.7110097408294678], [2, 0.15772046516846788, 0.15984749277988602, 0.14872346358957772, 0.12935370769571888, 4.446652719665272, 3.663158416748047], [3, 0.13874689593249273, 0.1402540292183393, 0.13108652577809662, 0.12064036479508154, 4.466004184100418, 3.649195432662964], [4, 0.14421510727960513, 0.13138365125596593, 0.12916245400935225, 0.12067114758192246, 4.563807531380753, 3.6025912761688232], [5, 0.1457525628082103, 0.12896472072345194, 0.12862752092220742, 0.12058813618418125, 4.609832635983263, 3.6187639236450195], [6, 0.14388316536847123, 0.13247287190011622, 0.12958150799569937, 0.12088576834512461, 4.530857740585774, 3.592007875442505], [7, 0.13861603116435445, 0.13812669611245082, 0.12982306858132694, 0.11889473345738574, 4.5303347280334725, 3.649562358856201], [8, 0.14109023078951047, 0.13489159116956542, 0.1296105933638906, 0.11981703906035573, 4.506799163179917, 3.5897114276885986], [9, 0.13771442082878968, 0.14077606872550236, 0.1308536880212033, 0.11980852390012108, 4.455020920502092, 3.650421619415283], [10, 0.14477868004973884, 0.12910360860857337, 0.12837432053715717, 0.12060955931650763, 4.570606694560669, 3.607699155807495], [11, 0.14090334660401868, 0.1329712084001304, 0.1283460765493704, 0.11865800575189542, 4.560146443514644, 3.6004252433776855], [12, 0.1431339758766103, 0.13268651171546947, 0.12924682798413475, 0.1197862420961744, 4.556485355648536, 3.5576555728912354], [13, 0.1373661366749993, 0.14009271312424967, 0.13040405768191984, 0.12036775500478543, 4.406380753138075, 3.6152336597442627]]\n",
      "-----------------------------------------------------------------------------------------\n"
     ]
    },
    {
     "name": "stderr",
     "output_type": "stream",
     "text": [
      "  0%|          | 1/1913 [00:00<18:31,  1.72it/s]"
     ]
    },
    {
     "name": "stdout",
     "output_type": "stream",
     "text": [
      "Epoch 14: 0%, loss: 2.513405\n"
     ]
    },
    {
     "name": "stderr",
     "output_type": "stream",
     "text": [
      "  5%|▌         | 101/1913 [00:49<14:05,  2.14it/s]"
     ]
    },
    {
     "name": "stdout",
     "output_type": "stream",
     "text": [
      "Epoch 14: 5%, loss: 1.778470\n"
     ]
    },
    {
     "name": "stderr",
     "output_type": "stream",
     "text": [
      " 11%|█         | 201/1913 [01:39<14:58,  1.90it/s]"
     ]
    },
    {
     "name": "stdout",
     "output_type": "stream",
     "text": [
      "Epoch 14: 10%, loss: 5.590887\n"
     ]
    },
    {
     "name": "stderr",
     "output_type": "stream",
     "text": [
      " 16%|█▌        | 301/1913 [02:28<14:00,  1.92it/s]"
     ]
    },
    {
     "name": "stdout",
     "output_type": "stream",
     "text": [
      "Epoch 14: 16%, loss: 2.409095\n"
     ]
    },
    {
     "name": "stderr",
     "output_type": "stream",
     "text": [
      " 21%|██        | 401/1913 [03:18<12:48,  1.97it/s]"
     ]
    },
    {
     "name": "stdout",
     "output_type": "stream",
     "text": [
      "Epoch 14: 21%, loss: 8.715008\n"
     ]
    },
    {
     "name": "stderr",
     "output_type": "stream",
     "text": [
      " 26%|██▌       | 501/1913 [04:08<11:29,  2.05it/s]"
     ]
    },
    {
     "name": "stdout",
     "output_type": "stream",
     "text": [
      "Epoch 14: 26%, loss: 4.903868\n"
     ]
    },
    {
     "name": "stderr",
     "output_type": "stream",
     "text": [
      " 31%|███▏      | 601/1913 [04:58<11:09,  1.96it/s]"
     ]
    },
    {
     "name": "stdout",
     "output_type": "stream",
     "text": [
      "Epoch 14: 31%, loss: 3.434063\n"
     ]
    },
    {
     "name": "stderr",
     "output_type": "stream",
     "text": [
      " 37%|███▋      | 701/1913 [05:48<09:58,  2.03it/s]"
     ]
    },
    {
     "name": "stdout",
     "output_type": "stream",
     "text": [
      "Epoch 14: 37%, loss: 2.600604\n"
     ]
    },
    {
     "name": "stderr",
     "output_type": "stream",
     "text": [
      " 42%|████▏     | 801/1913 [06:38<09:19,  1.99it/s]"
     ]
    },
    {
     "name": "stdout",
     "output_type": "stream",
     "text": [
      "Epoch 14: 42%, loss: 6.643623\n"
     ]
    },
    {
     "name": "stderr",
     "output_type": "stream",
     "text": [
      " 47%|████▋     | 901/1913 [07:29<09:26,  1.79it/s]"
     ]
    },
    {
     "name": "stdout",
     "output_type": "stream",
     "text": [
      "Epoch 14: 47%, loss: 10.653029\n"
     ]
    },
    {
     "name": "stderr",
     "output_type": "stream",
     "text": [
      " 52%|█████▏    | 1001/1913 [08:20<08:17,  1.83it/s]"
     ]
    },
    {
     "name": "stdout",
     "output_type": "stream",
     "text": [
      "Epoch 14: 52%, loss: 7.790378\n"
     ]
    },
    {
     "name": "stderr",
     "output_type": "stream",
     "text": [
      " 58%|█████▊    | 1101/1913 [09:11<07:21,  1.84it/s]"
     ]
    },
    {
     "name": "stdout",
     "output_type": "stream",
     "text": [
      "Epoch 14: 58%, loss: 0.969266\n"
     ]
    },
    {
     "name": "stderr",
     "output_type": "stream",
     "text": [
      " 63%|██████▎   | 1201/1913 [10:02<06:16,  1.89it/s]"
     ]
    },
    {
     "name": "stdout",
     "output_type": "stream",
     "text": [
      "Epoch 14: 63%, loss: 2.606357\n"
     ]
    },
    {
     "name": "stderr",
     "output_type": "stream",
     "text": [
      " 68%|██████▊   | 1301/1913 [10:55<05:07,  1.99it/s]"
     ]
    },
    {
     "name": "stdout",
     "output_type": "stream",
     "text": [
      "Epoch 14: 68%, loss: 2.442711\n"
     ]
    },
    {
     "name": "stderr",
     "output_type": "stream",
     "text": [
      " 73%|███████▎  | 1401/1913 [11:47<04:20,  1.97it/s]"
     ]
    },
    {
     "name": "stdout",
     "output_type": "stream",
     "text": [
      "Epoch 14: 73%, loss: 9.922817\n"
     ]
    },
    {
     "name": "stderr",
     "output_type": "stream",
     "text": [
      " 78%|███████▊  | 1501/1913 [12:38<03:27,  1.98it/s]"
     ]
    },
    {
     "name": "stdout",
     "output_type": "stream",
     "text": [
      "Epoch 14: 78%, loss: 2.280169\n"
     ]
    },
    {
     "name": "stderr",
     "output_type": "stream",
     "text": [
      " 84%|████████▎ | 1601/1913 [13:30<02:45,  1.89it/s]"
     ]
    },
    {
     "name": "stdout",
     "output_type": "stream",
     "text": [
      "Epoch 14: 84%, loss: 8.767168\n"
     ]
    },
    {
     "name": "stderr",
     "output_type": "stream",
     "text": [
      " 89%|████████▉ | 1701/1913 [14:22<01:57,  1.81it/s]"
     ]
    },
    {
     "name": "stdout",
     "output_type": "stream",
     "text": [
      "Epoch 14: 89%, loss: 6.058267\n"
     ]
    },
    {
     "name": "stderr",
     "output_type": "stream",
     "text": [
      " 94%|█████████▍| 1801/1913 [15:15<00:57,  1.94it/s]"
     ]
    },
    {
     "name": "stdout",
     "output_type": "stream",
     "text": [
      "Epoch 14: 94%, loss: 7.141401\n"
     ]
    },
    {
     "name": "stderr",
     "output_type": "stream",
     "text": [
      " 99%|█████████▉| 1901/1913 [16:08<00:06,  1.85it/s]"
     ]
    },
    {
     "name": "stdout",
     "output_type": "stream",
     "text": [
      "Epoch 14: 99%, loss: 2.925468\n"
     ]
    },
    {
     "name": "stderr",
     "output_type": "stream",
     "text": [
      "100%|██████████| 1913/1913 [16:14<00:00,  1.96it/s]"
     ]
    },
    {
     "name": "stdout",
     "output_type": "stream",
     "text": [
      "Epoch 14: 100%, loss: 8.742912\n"
     ]
    },
    {
     "name": "stderr",
     "output_type": "stream",
     "text": [
      "\n"
     ]
    },
    {
     "name": "stdout",
     "output_type": "stream",
     "text": [
      "                      (F1-score: 0.1364, Precision: 0.1418, Recall: 0.1485)\n",
      "\n",
      "                      (NDCG: 0.1273)\n",
      "\n",
      "                      (MAE: 4.5805)\n",
      "\n",
      "train_loss= tensor(3.9153)\n",
      "--------------------\n"
     ]
    },
    {
     "name": "stderr",
     "output_type": "stream",
     "text": [
      "100%|██████████| 239/239 [01:37<00:00,  2.46it/s]\n"
     ]
    },
    {
     "name": "stdout",
     "output_type": "stream",
     "text": [
      "                      (F1-score: 0.1274, Precision: 0.1309, Recall: 0.1408)\n",
      "\n",
      "                      (NDCG: 0.1176)\n",
      "\n",
      "                      (MAE: 4.5345)\n",
      "\n",
      "val_loss= tensor(3.6379)\n",
      "--------------------\n"
     ]
    },
    {
     "name": "stderr",
     "output_type": "stream",
     "text": [
      "100%|██████████| 239/239 [01:38<00:00,  2.41it/s]\n"
     ]
    },
    {
     "name": "stdout",
     "output_type": "stream",
     "text": [
      "                      (F1-score: 0.1295, Precision: 0.1339, Recall: 0.1420)\n",
      "\n",
      "                      (NDCG: 0.1198)\n",
      "\n",
      "                      (MAE: 4.5235)\n",
      "\n",
      "--------------------\n",
      "[[1, 0.1623353763479029, 0.1491197404593984, 0.14532537524112915, 0.12284765203208682, 4.547594142259414, 3.7110097408294678], [2, 0.15772046516846788, 0.15984749277988602, 0.14872346358957772, 0.12935370769571888, 4.446652719665272, 3.663158416748047], [3, 0.13874689593249273, 0.1402540292183393, 0.13108652577809662, 0.12064036479508154, 4.466004184100418, 3.649195432662964], [4, 0.14421510727960513, 0.13138365125596593, 0.12916245400935225, 0.12067114758192246, 4.563807531380753, 3.6025912761688232], [5, 0.1457525628082103, 0.12896472072345194, 0.12862752092220742, 0.12058813618418125, 4.609832635983263, 3.6187639236450195], [6, 0.14388316536847123, 0.13247287190011622, 0.12958150799569937, 0.12088576834512461, 4.530857740585774, 3.592007875442505], [7, 0.13861603116435445, 0.13812669611245082, 0.12982306858132694, 0.11889473345738574, 4.5303347280334725, 3.649562358856201], [8, 0.14109023078951047, 0.13489159116956542, 0.1296105933638906, 0.11981703906035573, 4.506799163179917, 3.5897114276885986], [9, 0.13771442082878968, 0.14077606872550236, 0.1308536880212033, 0.11980852390012108, 4.455020920502092, 3.650421619415283], [10, 0.14477868004973884, 0.12910360860857337, 0.12837432053715717, 0.12060955931650763, 4.570606694560669, 3.607699155807495], [11, 0.14090334660401868, 0.1329712084001304, 0.1283460765493704, 0.11865800575189542, 4.560146443514644, 3.6004252433776855], [12, 0.1431339758766103, 0.13268651171546947, 0.12924682798413475, 0.1197862420961744, 4.556485355648536, 3.5576555728912354], [13, 0.1373661366749993, 0.14009271312424967, 0.13040405768191984, 0.12036775500478543, 4.406380753138075, 3.6152336597442627], [14, 0.14203773816146426, 0.13393652437528342, 0.1294540518833393, 0.11981761121389818, 4.523535564853557, 3.5668959617614746]]\n",
      "-----------------------------------------------------------------------------------------\n"
     ]
    },
    {
     "name": "stderr",
     "output_type": "stream",
     "text": [
      "  0%|          | 1/1913 [00:00<18:09,  1.75it/s]"
     ]
    },
    {
     "name": "stdout",
     "output_type": "stream",
     "text": [
      "Epoch 15: 0%, loss: 5.250687\n"
     ]
    },
    {
     "name": "stderr",
     "output_type": "stream",
     "text": [
      "  5%|▌         | 101/1913 [00:50<14:16,  2.12it/s]"
     ]
    },
    {
     "name": "stdout",
     "output_type": "stream",
     "text": [
      "Epoch 15: 5%, loss: 2.267284\n"
     ]
    },
    {
     "name": "stderr",
     "output_type": "stream",
     "text": [
      " 11%|█         | 201/1913 [01:40<13:29,  2.11it/s]"
     ]
    },
    {
     "name": "stdout",
     "output_type": "stream",
     "text": [
      "Epoch 15: 10%, loss: 3.390244\n"
     ]
    },
    {
     "name": "stderr",
     "output_type": "stream",
     "text": [
      " 16%|█▌        | 301/1913 [02:30<12:30,  2.15it/s]"
     ]
    },
    {
     "name": "stdout",
     "output_type": "stream",
     "text": [
      "Epoch 15: 16%, loss: 11.642509\n"
     ]
    },
    {
     "name": "stderr",
     "output_type": "stream",
     "text": [
      " 21%|██        | 401/1913 [03:19<12:23,  2.03it/s]"
     ]
    },
    {
     "name": "stdout",
     "output_type": "stream",
     "text": [
      "Epoch 15: 21%, loss: 4.757127\n"
     ]
    },
    {
     "name": "stderr",
     "output_type": "stream",
     "text": [
      " 26%|██▌       | 501/1913 [04:09<12:03,  1.95it/s]"
     ]
    },
    {
     "name": "stdout",
     "output_type": "stream",
     "text": [
      "Epoch 15: 26%, loss: 3.235688\n"
     ]
    },
    {
     "name": "stderr",
     "output_type": "stream",
     "text": [
      " 31%|███▏      | 601/1913 [04:59<11:12,  1.95it/s]"
     ]
    },
    {
     "name": "stdout",
     "output_type": "stream",
     "text": [
      "Epoch 15: 31%, loss: 1.817436\n"
     ]
    },
    {
     "name": "stderr",
     "output_type": "stream",
     "text": [
      " 37%|███▋      | 701/1913 [05:49<10:07,  2.00it/s]"
     ]
    },
    {
     "name": "stdout",
     "output_type": "stream",
     "text": [
      "Epoch 15: 37%, loss: 3.751768\n"
     ]
    },
    {
     "name": "stderr",
     "output_type": "stream",
     "text": [
      " 42%|████▏     | 801/1913 [06:40<09:20,  1.98it/s]"
     ]
    },
    {
     "name": "stdout",
     "output_type": "stream",
     "text": [
      "Epoch 15: 42%, loss: 3.001942\n"
     ]
    },
    {
     "name": "stderr",
     "output_type": "stream",
     "text": [
      " 47%|████▋     | 901/1913 [07:31<08:23,  2.01it/s]"
     ]
    },
    {
     "name": "stdout",
     "output_type": "stream",
     "text": [
      "Epoch 15: 47%, loss: 1.815991\n"
     ]
    },
    {
     "name": "stderr",
     "output_type": "stream",
     "text": [
      " 52%|█████▏    | 1001/1913 [08:22<07:21,  2.06it/s]"
     ]
    },
    {
     "name": "stdout",
     "output_type": "stream",
     "text": [
      "Epoch 15: 52%, loss: 2.115762\n"
     ]
    },
    {
     "name": "stderr",
     "output_type": "stream",
     "text": [
      " 58%|█████▊    | 1101/1913 [09:12<07:03,  1.92it/s]"
     ]
    },
    {
     "name": "stdout",
     "output_type": "stream",
     "text": [
      "Epoch 15: 58%, loss: 2.851403\n"
     ]
    },
    {
     "name": "stderr",
     "output_type": "stream",
     "text": [
      " 63%|██████▎   | 1201/1913 [10:03<05:58,  1.99it/s]"
     ]
    },
    {
     "name": "stdout",
     "output_type": "stream",
     "text": [
      "Epoch 15: 63%, loss: 5.411160\n"
     ]
    },
    {
     "name": "stderr",
     "output_type": "stream",
     "text": [
      " 68%|██████▊   | 1301/1913 [10:55<05:08,  1.99it/s]"
     ]
    },
    {
     "name": "stdout",
     "output_type": "stream",
     "text": [
      "Epoch 15: 68%, loss: 5.060153\n"
     ]
    },
    {
     "name": "stderr",
     "output_type": "stream",
     "text": [
      " 73%|███████▎  | 1401/1913 [11:47<04:28,  1.91it/s]"
     ]
    },
    {
     "name": "stdout",
     "output_type": "stream",
     "text": [
      "Epoch 15: 73%, loss: 2.773359\n"
     ]
    },
    {
     "name": "stderr",
     "output_type": "stream",
     "text": [
      " 78%|███████▊  | 1501/1913 [12:40<03:33,  1.93it/s]"
     ]
    },
    {
     "name": "stdout",
     "output_type": "stream",
     "text": [
      "Epoch 15: 78%, loss: 1.678464\n"
     ]
    },
    {
     "name": "stderr",
     "output_type": "stream",
     "text": [
      " 84%|████████▎ | 1601/1913 [13:32<02:37,  1.98it/s]"
     ]
    },
    {
     "name": "stdout",
     "output_type": "stream",
     "text": [
      "Epoch 15: 84%, loss: 2.626308\n"
     ]
    },
    {
     "name": "stderr",
     "output_type": "stream",
     "text": [
      " 89%|████████▉ | 1701/1913 [14:25<01:55,  1.84it/s]"
     ]
    },
    {
     "name": "stdout",
     "output_type": "stream",
     "text": [
      "Epoch 15: 89%, loss: 5.141229\n"
     ]
    },
    {
     "name": "stderr",
     "output_type": "stream",
     "text": [
      " 94%|█████████▍| 1801/1913 [15:16<00:57,  1.96it/s]"
     ]
    },
    {
     "name": "stdout",
     "output_type": "stream",
     "text": [
      "Epoch 15: 94%, loss: 11.362536\n"
     ]
    },
    {
     "name": "stderr",
     "output_type": "stream",
     "text": [
      " 99%|█████████▉| 1901/1913 [16:09<00:06,  1.87it/s]"
     ]
    },
    {
     "name": "stdout",
     "output_type": "stream",
     "text": [
      "Epoch 15: 99%, loss: 2.844572\n"
     ]
    },
    {
     "name": "stderr",
     "output_type": "stream",
     "text": [
      "100%|██████████| 1913/1913 [16:15<00:00,  1.96it/s]"
     ]
    },
    {
     "name": "stdout",
     "output_type": "stream",
     "text": [
      "Epoch 15: 100%, loss: 2.263296\n"
     ]
    },
    {
     "name": "stderr",
     "output_type": "stream",
     "text": [
      "\n"
     ]
    },
    {
     "name": "stdout",
     "output_type": "stream",
     "text": [
      "                      (F1-score: 0.1361, Precision: 0.1413, Recall: 0.1484)\n",
      "\n",
      "                      (NDCG: 0.1271)\n",
      "\n",
      "                      (MAE: 4.5858)\n",
      "\n",
      "train_loss= tensor(3.9051)\n",
      "--------------------\n"
     ]
    },
    {
     "name": "stderr",
     "output_type": "stream",
     "text": [
      "100%|██████████| 239/239 [01:36<00:00,  2.47it/s]\n"
     ]
    },
    {
     "name": "stdout",
     "output_type": "stream",
     "text": [
      "                      (F1-score: 0.1280, Precision: 0.1317, Recall: 0.1407)\n",
      "\n",
      "                      (NDCG: 0.1189)\n",
      "\n",
      "                      (MAE: 4.4712)\n",
      "\n",
      "val_loss= tensor(3.6313)\n",
      "--------------------\n"
     ]
    },
    {
     "name": "stderr",
     "output_type": "stream",
     "text": [
      "100%|██████████| 239/239 [01:38<00:00,  2.42it/s]\n"
     ]
    },
    {
     "name": "stdout",
     "output_type": "stream",
     "text": [
      "                      (F1-score: 0.1292, Precision: 0.1338, Recall: 0.1410)\n",
      "\n",
      "                      (NDCG: 0.1211)\n",
      "\n",
      "                      (MAE: 4.4451)\n",
      "\n",
      "--------------------\n",
      "[[1, 0.1623353763479029, 0.1491197404593984, 0.14532537524112915, 0.12284765203208682, 4.547594142259414, 3.7110097408294678], [2, 0.15772046516846788, 0.15984749277988602, 0.14872346358957772, 0.12935370769571888, 4.446652719665272, 3.663158416748047], [3, 0.13874689593249273, 0.1402540292183393, 0.13108652577809662, 0.12064036479508154, 4.466004184100418, 3.649195432662964], [4, 0.14421510727960513, 0.13138365125596593, 0.12916245400935225, 0.12067114758192246, 4.563807531380753, 3.6025912761688232], [5, 0.1457525628082103, 0.12896472072345194, 0.12862752092220742, 0.12058813618418125, 4.609832635983263, 3.6187639236450195], [6, 0.14388316536847123, 0.13247287190011622, 0.12958150799569937, 0.12088576834512461, 4.530857740585774, 3.592007875442505], [7, 0.13861603116435445, 0.13812669611245082, 0.12982306858132694, 0.11889473345738574, 4.5303347280334725, 3.649562358856201], [8, 0.14109023078951047, 0.13489159116956542, 0.1296105933638906, 0.11981703906035573, 4.506799163179917, 3.5897114276885986], [9, 0.13771442082878968, 0.14077606872550236, 0.1308536880212033, 0.11980852390012108, 4.455020920502092, 3.650421619415283], [10, 0.14477868004973884, 0.12910360860857337, 0.12837432053715717, 0.12060955931650763, 4.570606694560669, 3.607699155807495], [11, 0.14090334660401868, 0.1329712084001304, 0.1283460765493704, 0.11865800575189542, 4.560146443514644, 3.6004252433776855], [12, 0.1431339758766103, 0.13268651171546947, 0.12924682798413475, 0.1197862420961744, 4.556485355648536, 3.5576555728912354], [13, 0.1373661366749993, 0.14009271312424967, 0.13040405768191984, 0.12036775500478543, 4.406380753138075, 3.6152336597442627], [14, 0.14203773816146426, 0.13393652437528342, 0.1294540518833393, 0.11981761121389818, 4.523535564853557, 3.5668959617614746], [15, 0.1409872253962258, 0.13383126981250798, 0.12924971759348747, 0.12105546785795196, 4.445083682008368, 3.556591272354126]]\n",
      "-----------------------------------------------------------------------------------------\n"
     ]
    },
    {
     "name": "stderr",
     "output_type": "stream",
     "text": [
      "  0%|          | 1/1913 [00:00<16:01,  1.99it/s]"
     ]
    },
    {
     "name": "stdout",
     "output_type": "stream",
     "text": [
      "Epoch 16: 0%, loss: 2.327756\n"
     ]
    },
    {
     "name": "stderr",
     "output_type": "stream",
     "text": [
      "  5%|▌         | 101/1913 [00:49<15:14,  1.98it/s]"
     ]
    },
    {
     "name": "stdout",
     "output_type": "stream",
     "text": [
      "Epoch 16: 5%, loss: 2.408679\n"
     ]
    },
    {
     "name": "stderr",
     "output_type": "stream",
     "text": [
      " 11%|█         | 201/1913 [01:39<14:15,  2.00it/s]"
     ]
    },
    {
     "name": "stdout",
     "output_type": "stream",
     "text": [
      "Epoch 16: 10%, loss: 8.219927\n"
     ]
    },
    {
     "name": "stderr",
     "output_type": "stream",
     "text": [
      " 16%|█▌        | 301/1913 [02:28<13:04,  2.05it/s]"
     ]
    },
    {
     "name": "stdout",
     "output_type": "stream",
     "text": [
      "Epoch 16: 16%, loss: 5.463737\n"
     ]
    },
    {
     "name": "stderr",
     "output_type": "stream",
     "text": [
      " 21%|██        | 401/1913 [03:17<12:24,  2.03it/s]"
     ]
    },
    {
     "name": "stdout",
     "output_type": "stream",
     "text": [
      "Epoch 16: 21%, loss: 1.029922\n"
     ]
    },
    {
     "name": "stderr",
     "output_type": "stream",
     "text": [
      " 26%|██▌       | 501/1913 [04:07<11:42,  2.01it/s]"
     ]
    },
    {
     "name": "stdout",
     "output_type": "stream",
     "text": [
      "Epoch 16: 26%, loss: 8.215821\n"
     ]
    },
    {
     "name": "stderr",
     "output_type": "stream",
     "text": [
      " 31%|███▏      | 601/1913 [04:58<11:04,  1.97it/s]"
     ]
    },
    {
     "name": "stdout",
     "output_type": "stream",
     "text": [
      "Epoch 16: 31%, loss: 1.804200\n"
     ]
    },
    {
     "name": "stderr",
     "output_type": "stream",
     "text": [
      " 37%|███▋      | 701/1913 [05:49<10:10,  1.98it/s]"
     ]
    },
    {
     "name": "stdout",
     "output_type": "stream",
     "text": [
      "Epoch 16: 37%, loss: 6.133989\n"
     ]
    },
    {
     "name": "stderr",
     "output_type": "stream",
     "text": [
      " 42%|████▏     | 801/1913 [06:39<10:32,  1.76it/s]"
     ]
    },
    {
     "name": "stdout",
     "output_type": "stream",
     "text": [
      "Epoch 16: 42%, loss: 4.091264\n"
     ]
    },
    {
     "name": "stderr",
     "output_type": "stream",
     "text": [
      " 47%|████▋     | 901/1913 [07:30<08:48,  1.92it/s]"
     ]
    },
    {
     "name": "stdout",
     "output_type": "stream",
     "text": [
      "Epoch 16: 47%, loss: 4.589492\n"
     ]
    },
    {
     "name": "stderr",
     "output_type": "stream",
     "text": [
      " 52%|█████▏    | 1001/1913 [08:21<07:33,  2.01it/s]"
     ]
    },
    {
     "name": "stdout",
     "output_type": "stream",
     "text": [
      "Epoch 16: 52%, loss: 4.208710\n"
     ]
    },
    {
     "name": "stderr",
     "output_type": "stream",
     "text": [
      " 58%|█████▊    | 1101/1913 [09:12<07:00,  1.93it/s]"
     ]
    },
    {
     "name": "stdout",
     "output_type": "stream",
     "text": [
      "Epoch 16: 58%, loss: 1.842744\n"
     ]
    },
    {
     "name": "stderr",
     "output_type": "stream",
     "text": [
      " 63%|██████▎   | 1201/1913 [10:03<06:24,  1.85it/s]"
     ]
    },
    {
     "name": "stdout",
     "output_type": "stream",
     "text": [
      "Epoch 16: 63%, loss: 2.381591\n"
     ]
    },
    {
     "name": "stderr",
     "output_type": "stream",
     "text": [
      " 68%|██████▊   | 1301/1913 [10:55<05:08,  1.98it/s]"
     ]
    },
    {
     "name": "stdout",
     "output_type": "stream",
     "text": [
      "Epoch 16: 68%, loss: 1.932244\n"
     ]
    },
    {
     "name": "stderr",
     "output_type": "stream",
     "text": [
      " 73%|███████▎  | 1401/1913 [11:46<04:29,  1.90it/s]"
     ]
    },
    {
     "name": "stdout",
     "output_type": "stream",
     "text": [
      "Epoch 16: 73%, loss: 1.138535\n"
     ]
    },
    {
     "name": "stderr",
     "output_type": "stream",
     "text": [
      " 78%|███████▊  | 1501/1913 [12:38<03:35,  1.91it/s]"
     ]
    },
    {
     "name": "stdout",
     "output_type": "stream",
     "text": [
      "Epoch 16: 78%, loss: 7.272678\n"
     ]
    },
    {
     "name": "stderr",
     "output_type": "stream",
     "text": [
      " 84%|████████▎ | 1601/1913 [13:30<02:51,  1.82it/s]"
     ]
    },
    {
     "name": "stdout",
     "output_type": "stream",
     "text": [
      "Epoch 16: 84%, loss: 3.645619\n"
     ]
    },
    {
     "name": "stderr",
     "output_type": "stream",
     "text": [
      " 89%|████████▉ | 1701/1913 [14:22<01:51,  1.90it/s]"
     ]
    },
    {
     "name": "stdout",
     "output_type": "stream",
     "text": [
      "Epoch 16: 89%, loss: 3.484366\n"
     ]
    },
    {
     "name": "stderr",
     "output_type": "stream",
     "text": [
      " 94%|█████████▍| 1801/1913 [15:15<01:00,  1.86it/s]"
     ]
    },
    {
     "name": "stdout",
     "output_type": "stream",
     "text": [
      "Epoch 16: 94%, loss: 4.405449\n"
     ]
    },
    {
     "name": "stderr",
     "output_type": "stream",
     "text": [
      " 99%|█████████▉| 1901/1913 [16:08<00:06,  1.97it/s]"
     ]
    },
    {
     "name": "stdout",
     "output_type": "stream",
     "text": [
      "Epoch 16: 99%, loss: 19.745949\n"
     ]
    },
    {
     "name": "stderr",
     "output_type": "stream",
     "text": [
      "100%|██████████| 1913/1913 [16:15<00:00,  1.96it/s]"
     ]
    },
    {
     "name": "stdout",
     "output_type": "stream",
     "text": [
      "Epoch 16: 100%, loss: 1.605774\n"
     ]
    },
    {
     "name": "stderr",
     "output_type": "stream",
     "text": [
      "\n"
     ]
    },
    {
     "name": "stdout",
     "output_type": "stream",
     "text": [
      "                      (F1-score: 0.1362, Precision: 0.1414, Recall: 0.1484)\n",
      "\n",
      "                      (NDCG: 0.1272)\n",
      "\n",
      "                      (MAE: 4.5706)\n",
      "\n",
      "train_loss= tensor(3.8884)\n",
      "--------------------\n"
     ]
    },
    {
     "name": "stderr",
     "output_type": "stream",
     "text": [
      "100%|██████████| 239/239 [01:37<00:00,  2.46it/s]\n"
     ]
    },
    {
     "name": "stdout",
     "output_type": "stream",
     "text": [
      "                      (F1-score: 0.1264, Precision: 0.1283, Recall: 0.1414)\n",
      "\n",
      "                      (NDCG: 0.1176)\n",
      "\n",
      "                      (MAE: 4.5643)\n",
      "\n",
      "val_loss= tensor(3.6237)\n",
      "--------------------\n"
     ]
    },
    {
     "name": "stderr",
     "output_type": "stream",
     "text": [
      "100%|██████████| 239/239 [01:38<00:00,  2.42it/s]\n"
     ]
    },
    {
     "name": "stdout",
     "output_type": "stream",
     "text": [
      "                      (F1-score: 0.1286, Precision: 0.1313, Recall: 0.1428)\n",
      "\n",
      "                      (NDCG: 0.1204)\n",
      "\n",
      "                      (MAE: 4.5377)\n",
      "\n",
      "--------------------\n",
      "[[1, 0.1623353763479029, 0.1491197404593984, 0.14532537524112915, 0.12284765203208682, 4.547594142259414, 3.7110097408294678], [2, 0.15772046516846788, 0.15984749277988602, 0.14872346358957772, 0.12935370769571888, 4.446652719665272, 3.663158416748047], [3, 0.13874689593249273, 0.1402540292183393, 0.13108652577809662, 0.12064036479508154, 4.466004184100418, 3.649195432662964], [4, 0.14421510727960513, 0.13138365125596593, 0.12916245400935225, 0.12067114758192246, 4.563807531380753, 3.6025912761688232], [5, 0.1457525628082103, 0.12896472072345194, 0.12862752092220742, 0.12058813618418125, 4.609832635983263, 3.6187639236450195], [6, 0.14388316536847123, 0.13247287190011622, 0.12958150799569937, 0.12088576834512461, 4.530857740585774, 3.592007875442505], [7, 0.13861603116435445, 0.13812669611245082, 0.12982306858132694, 0.11889473345738574, 4.5303347280334725, 3.649562358856201], [8, 0.14109023078951047, 0.13489159116956542, 0.1296105933638906, 0.11981703906035573, 4.506799163179917, 3.5897114276885986], [9, 0.13771442082878968, 0.14077606872550236, 0.1308536880212033, 0.11980852390012108, 4.455020920502092, 3.650421619415283], [10, 0.14477868004973884, 0.12910360860857337, 0.12837432053715717, 0.12060955931650763, 4.570606694560669, 3.607699155807495], [11, 0.14090334660401868, 0.1329712084001304, 0.1283460765493704, 0.11865800575189542, 4.560146443514644, 3.6004252433776855], [12, 0.1431339758766103, 0.13268651171546947, 0.12924682798413475, 0.1197862420961744, 4.556485355648536, 3.5576555728912354], [13, 0.1373661366749993, 0.14009271312424967, 0.13040405768191984, 0.12036775500478543, 4.406380753138075, 3.6152336597442627], [14, 0.14203773816146426, 0.13393652437528342, 0.1294540518833393, 0.11981761121389818, 4.523535564853557, 3.5668959617614746], [15, 0.1409872253962258, 0.13383126981250798, 0.12924971759348747, 0.12105546785795196, 4.445083682008368, 3.556591272354126], [16, 0.14284324462539574, 0.13127688459285564, 0.12861123353336576, 0.120355751630402, 4.53765690376569, 3.5495219230651855]]\n",
      "-----------------------------------------------------------------------------------------\n"
     ]
    },
    {
     "name": "stderr",
     "output_type": "stream",
     "text": [
      "  0%|          | 1/1913 [00:00<16:18,  1.95it/s]"
     ]
    },
    {
     "name": "stdout",
     "output_type": "stream",
     "text": [
      "Epoch 17: 0%, loss: 5.672775\n"
     ]
    },
    {
     "name": "stderr",
     "output_type": "stream",
     "text": [
      "  5%|▌         | 101/1913 [00:50<14:23,  2.10it/s]"
     ]
    },
    {
     "name": "stdout",
     "output_type": "stream",
     "text": [
      "Epoch 17: 5%, loss: 5.074958\n"
     ]
    },
    {
     "name": "stderr",
     "output_type": "stream",
     "text": [
      " 11%|█         | 201/1913 [01:39<14:02,  2.03it/s]"
     ]
    },
    {
     "name": "stdout",
     "output_type": "stream",
     "text": [
      "Epoch 17: 10%, loss: 3.474921\n"
     ]
    },
    {
     "name": "stderr",
     "output_type": "stream",
     "text": [
      " 16%|█▌        | 301/1913 [02:29<13:52,  1.94it/s]"
     ]
    },
    {
     "name": "stdout",
     "output_type": "stream",
     "text": [
      "Epoch 17: 16%, loss: 3.470215\n"
     ]
    },
    {
     "name": "stderr",
     "output_type": "stream",
     "text": [
      " 21%|██        | 401/1913 [03:18<12:34,  2.00it/s]"
     ]
    },
    {
     "name": "stdout",
     "output_type": "stream",
     "text": [
      "Epoch 17: 21%, loss: 2.730043\n"
     ]
    },
    {
     "name": "stderr",
     "output_type": "stream",
     "text": [
      " 26%|██▌       | 501/1913 [04:08<11:22,  2.07it/s]"
     ]
    },
    {
     "name": "stdout",
     "output_type": "stream",
     "text": [
      "Epoch 17: 26%, loss: 1.489176\n"
     ]
    },
    {
     "name": "stderr",
     "output_type": "stream",
     "text": [
      " 31%|███▏      | 601/1913 [04:58<11:13,  1.95it/s]"
     ]
    },
    {
     "name": "stdout",
     "output_type": "stream",
     "text": [
      "Epoch 17: 31%, loss: 5.781743\n"
     ]
    },
    {
     "name": "stderr",
     "output_type": "stream",
     "text": [
      " 37%|███▋      | 701/1913 [05:49<09:45,  2.07it/s]"
     ]
    },
    {
     "name": "stdout",
     "output_type": "stream",
     "text": [
      "Epoch 17: 37%, loss: 2.048480\n"
     ]
    },
    {
     "name": "stderr",
     "output_type": "stream",
     "text": [
      " 42%|████▏     | 801/1913 [06:40<09:08,  2.03it/s]"
     ]
    },
    {
     "name": "stdout",
     "output_type": "stream",
     "text": [
      "Epoch 17: 42%, loss: 5.271709\n"
     ]
    },
    {
     "name": "stderr",
     "output_type": "stream",
     "text": [
      " 47%|████▋     | 901/1913 [07:31<08:10,  2.06it/s]"
     ]
    },
    {
     "name": "stdout",
     "output_type": "stream",
     "text": [
      "Epoch 17: 47%, loss: 3.569587\n"
     ]
    },
    {
     "name": "stderr",
     "output_type": "stream",
     "text": [
      " 52%|█████▏    | 1001/1913 [08:21<07:38,  1.99it/s]"
     ]
    },
    {
     "name": "stdout",
     "output_type": "stream",
     "text": [
      "Epoch 17: 52%, loss: 3.871469\n"
     ]
    },
    {
     "name": "stderr",
     "output_type": "stream",
     "text": [
      " 58%|█████▊    | 1101/1913 [09:13<07:08,  1.89it/s]"
     ]
    },
    {
     "name": "stdout",
     "output_type": "stream",
     "text": [
      "Epoch 17: 58%, loss: 2.985373\n"
     ]
    },
    {
     "name": "stderr",
     "output_type": "stream",
     "text": [
      " 63%|██████▎   | 1201/1913 [10:04<05:53,  2.01it/s]"
     ]
    },
    {
     "name": "stdout",
     "output_type": "stream",
     "text": [
      "Epoch 17: 63%, loss: 2.112988\n"
     ]
    },
    {
     "name": "stderr",
     "output_type": "stream",
     "text": [
      " 68%|██████▊   | 1301/1913 [10:56<05:12,  1.96it/s]"
     ]
    },
    {
     "name": "stdout",
     "output_type": "stream",
     "text": [
      "Epoch 17: 68%, loss: 0.967827\n"
     ]
    },
    {
     "name": "stderr",
     "output_type": "stream",
     "text": [
      " 73%|███████▎  | 1401/1913 [11:47<04:12,  2.03it/s]"
     ]
    },
    {
     "name": "stdout",
     "output_type": "stream",
     "text": [
      "Epoch 17: 73%, loss: 1.926202\n"
     ]
    },
    {
     "name": "stderr",
     "output_type": "stream",
     "text": [
      " 78%|███████▊  | 1501/1913 [12:39<03:31,  1.95it/s]"
     ]
    },
    {
     "name": "stdout",
     "output_type": "stream",
     "text": [
      "Epoch 17: 78%, loss: 1.781453\n"
     ]
    },
    {
     "name": "stderr",
     "output_type": "stream",
     "text": [
      " 84%|████████▎ | 1601/1913 [13:31<02:38,  1.96it/s]"
     ]
    },
    {
     "name": "stdout",
     "output_type": "stream",
     "text": [
      "Epoch 17: 84%, loss: 5.040307\n"
     ]
    },
    {
     "name": "stderr",
     "output_type": "stream",
     "text": [
      " 89%|████████▉ | 1701/1913 [14:23<01:46,  2.00it/s]"
     ]
    },
    {
     "name": "stdout",
     "output_type": "stream",
     "text": [
      "Epoch 17: 89%, loss: 1.528374\n"
     ]
    },
    {
     "name": "stderr",
     "output_type": "stream",
     "text": [
      " 94%|█████████▍| 1801/1913 [15:16<00:57,  1.94it/s]"
     ]
    },
    {
     "name": "stdout",
     "output_type": "stream",
     "text": [
      "Epoch 17: 94%, loss: 4.246629\n"
     ]
    },
    {
     "name": "stderr",
     "output_type": "stream",
     "text": [
      " 99%|█████████▉| 1901/1913 [16:09<00:06,  1.85it/s]"
     ]
    },
    {
     "name": "stdout",
     "output_type": "stream",
     "text": [
      "Epoch 17: 99%, loss: 7.125297\n"
     ]
    },
    {
     "name": "stderr",
     "output_type": "stream",
     "text": [
      "100%|██████████| 1913/1913 [16:15<00:00,  1.96it/s]"
     ]
    },
    {
     "name": "stdout",
     "output_type": "stream",
     "text": [
      "Epoch 17: 100%, loss: 6.369404\n"
     ]
    },
    {
     "name": "stderr",
     "output_type": "stream",
     "text": [
      "\n"
     ]
    },
    {
     "name": "stdout",
     "output_type": "stream",
     "text": [
      "                      (F1-score: 0.1366, Precision: 0.1417, Recall: 0.1490)\n",
      "\n",
      "                      (NDCG: 0.1275)\n",
      "\n",
      "                      (MAE: 4.5831)\n",
      "\n",
      "train_loss= tensor(3.8929)\n",
      "--------------------\n"
     ]
    },
    {
     "name": "stderr",
     "output_type": "stream",
     "text": [
      "100%|██████████| 239/239 [01:36<00:00,  2.47it/s]\n"
     ]
    },
    {
     "name": "stdout",
     "output_type": "stream",
     "text": [
      "                      (F1-score: 0.1295, Precision: 0.1370, Recall: 0.1385)\n",
      "\n",
      "                      (NDCG: 0.1190)\n",
      "\n",
      "                      (MAE: 4.4168)\n",
      "\n",
      "val_loss= tensor(3.6194)\n",
      "--------------------\n"
     ]
    },
    {
     "name": "stderr",
     "output_type": "stream",
     "text": [
      "100%|██████████| 239/239 [01:38<00:00,  2.42it/s]\n"
     ]
    },
    {
     "name": "stdout",
     "output_type": "stream",
     "text": [
      "                      (F1-score: 0.1313, Precision: 0.1394, Recall: 0.1397)\n",
      "\n",
      "                      (NDCG: 0.1212)\n",
      "\n",
      "                      (MAE: 4.4195)\n",
      "\n",
      "--------------------\n",
      "[[1, 0.1623353763479029, 0.1491197404593984, 0.14532537524112915, 0.12284765203208682, 4.547594142259414, 3.7110097408294678], [2, 0.15772046516846788, 0.15984749277988602, 0.14872346358957772, 0.12935370769571888, 4.446652719665272, 3.663158416748047], [3, 0.13874689593249273, 0.1402540292183393, 0.13108652577809662, 0.12064036479508154, 4.466004184100418, 3.649195432662964], [4, 0.14421510727960513, 0.13138365125596593, 0.12916245400935225, 0.12067114758192246, 4.563807531380753, 3.6025912761688232], [5, 0.1457525628082103, 0.12896472072345194, 0.12862752092220742, 0.12058813618418125, 4.609832635983263, 3.6187639236450195], [6, 0.14388316536847123, 0.13247287190011622, 0.12958150799569937, 0.12088576834512461, 4.530857740585774, 3.592007875442505], [7, 0.13861603116435445, 0.13812669611245082, 0.12982306858132694, 0.11889473345738574, 4.5303347280334725, 3.649562358856201], [8, 0.14109023078951047, 0.13489159116956542, 0.1296105933638906, 0.11981703906035573, 4.506799163179917, 3.5897114276885986], [9, 0.13771442082878968, 0.14077606872550236, 0.1308536880212033, 0.11980852390012108, 4.455020920502092, 3.650421619415283], [10, 0.14477868004973884, 0.12910360860857337, 0.12837432053715717, 0.12060955931650763, 4.570606694560669, 3.607699155807495], [11, 0.14090334660401868, 0.1329712084001304, 0.1283460765493704, 0.11865800575189542, 4.560146443514644, 3.6004252433776855], [12, 0.1431339758766103, 0.13268651171546947, 0.12924682798413475, 0.1197862420961744, 4.556485355648536, 3.5576555728912354], [13, 0.1373661366749993, 0.14009271312424967, 0.13040405768191984, 0.12036775500478543, 4.406380753138075, 3.6152336597442627], [14, 0.14203773816146426, 0.13393652437528342, 0.1294540518833393, 0.11981761121389818, 4.523535564853557, 3.5668959617614746], [15, 0.1409872253962258, 0.13383126981250798, 0.12924971759348747, 0.12105546785795196, 4.445083682008368, 3.556591272354126], [16, 0.14284324462539574, 0.13127688459285564, 0.12861123353336576, 0.120355751630402, 4.53765690376569, 3.5495219230651855], [17, 0.13971277395110332, 0.13939349476142923, 0.13127841574338237, 0.12119204251126826, 4.419456066945607, 3.565661668777466]]\n",
      "-----------------------------------------------------------------------------------------\n"
     ]
    },
    {
     "name": "stderr",
     "output_type": "stream",
     "text": [
      "  0%|          | 1/1913 [00:00<18:11,  1.75it/s]"
     ]
    },
    {
     "name": "stdout",
     "output_type": "stream",
     "text": [
      "Epoch 18: 0%, loss: 2.486605\n"
     ]
    },
    {
     "name": "stderr",
     "output_type": "stream",
     "text": [
      "  5%|▌         | 101/1913 [00:49<14:49,  2.04it/s]"
     ]
    },
    {
     "name": "stdout",
     "output_type": "stream",
     "text": [
      "Epoch 18: 5%, loss: 5.769773\n"
     ]
    },
    {
     "name": "stderr",
     "output_type": "stream",
     "text": [
      " 11%|█         | 201/1913 [01:39<13:55,  2.05it/s]"
     ]
    },
    {
     "name": "stdout",
     "output_type": "stream",
     "text": [
      "Epoch 18: 10%, loss: 3.330873\n"
     ]
    },
    {
     "name": "stderr",
     "output_type": "stream",
     "text": [
      " 16%|█▌        | 301/1913 [02:28<13:30,  1.99it/s]"
     ]
    },
    {
     "name": "stdout",
     "output_type": "stream",
     "text": [
      "Epoch 18: 16%, loss: 1.869184\n"
     ]
    },
    {
     "name": "stderr",
     "output_type": "stream",
     "text": [
      " 21%|██        | 401/1913 [03:17<11:39,  2.16it/s]"
     ]
    },
    {
     "name": "stdout",
     "output_type": "stream",
     "text": [
      "Epoch 18: 21%, loss: 3.983903\n"
     ]
    },
    {
     "name": "stderr",
     "output_type": "stream",
     "text": [
      " 26%|██▌       | 501/1913 [04:07<11:16,  2.09it/s]"
     ]
    },
    {
     "name": "stdout",
     "output_type": "stream",
     "text": [
      "Epoch 18: 26%, loss: 1.720504\n"
     ]
    },
    {
     "name": "stderr",
     "output_type": "stream",
     "text": [
      " 31%|███▏      | 601/1913 [04:58<10:49,  2.02it/s]"
     ]
    },
    {
     "name": "stdout",
     "output_type": "stream",
     "text": [
      "Epoch 18: 31%, loss: 2.403899\n"
     ]
    },
    {
     "name": "stderr",
     "output_type": "stream",
     "text": [
      " 37%|███▋      | 701/1913 [05:48<09:53,  2.04it/s]"
     ]
    },
    {
     "name": "stdout",
     "output_type": "stream",
     "text": [
      "Epoch 18: 37%, loss: 4.818108\n"
     ]
    },
    {
     "name": "stderr",
     "output_type": "stream",
     "text": [
      " 42%|████▏     | 801/1913 [06:39<09:48,  1.89it/s]"
     ]
    },
    {
     "name": "stdout",
     "output_type": "stream",
     "text": [
      "Epoch 18: 42%, loss: 4.890097\n"
     ]
    },
    {
     "name": "stderr",
     "output_type": "stream",
     "text": [
      " 47%|████▋     | 901/1913 [07:30<08:28,  1.99it/s]"
     ]
    },
    {
     "name": "stdout",
     "output_type": "stream",
     "text": [
      "Epoch 18: 47%, loss: 3.134991\n"
     ]
    },
    {
     "name": "stderr",
     "output_type": "stream",
     "text": [
      " 52%|█████▏    | 1001/1913 [08:21<07:57,  1.91it/s]"
     ]
    },
    {
     "name": "stdout",
     "output_type": "stream",
     "text": [
      "Epoch 18: 52%, loss: 10.440329\n"
     ]
    },
    {
     "name": "stderr",
     "output_type": "stream",
     "text": [
      " 58%|█████▊    | 1101/1913 [09:12<06:28,  2.09it/s]"
     ]
    },
    {
     "name": "stdout",
     "output_type": "stream",
     "text": [
      "Epoch 18: 58%, loss: 1.866451\n"
     ]
    },
    {
     "name": "stderr",
     "output_type": "stream",
     "text": [
      " 63%|██████▎   | 1201/1913 [10:03<05:47,  2.05it/s]"
     ]
    },
    {
     "name": "stdout",
     "output_type": "stream",
     "text": [
      "Epoch 18: 63%, loss: 1.847177\n"
     ]
    },
    {
     "name": "stderr",
     "output_type": "stream",
     "text": [
      " 68%|██████▊   | 1301/1913 [10:55<05:20,  1.91it/s]"
     ]
    },
    {
     "name": "stdout",
     "output_type": "stream",
     "text": [
      "Epoch 18: 68%, loss: 1.662320\n"
     ]
    },
    {
     "name": "stderr",
     "output_type": "stream",
     "text": [
      " 73%|███████▎  | 1401/1913 [11:46<04:43,  1.81it/s]"
     ]
    },
    {
     "name": "stdout",
     "output_type": "stream",
     "text": [
      "Epoch 18: 73%, loss: 3.755878\n"
     ]
    },
    {
     "name": "stderr",
     "output_type": "stream",
     "text": [
      " 78%|███████▊  | 1501/1913 [12:38<03:37,  1.89it/s]"
     ]
    },
    {
     "name": "stdout",
     "output_type": "stream",
     "text": [
      "Epoch 18: 78%, loss: 2.495129\n"
     ]
    },
    {
     "name": "stderr",
     "output_type": "stream",
     "text": [
      " 84%|████████▎ | 1601/1913 [13:30<03:00,  1.73it/s]"
     ]
    },
    {
     "name": "stdout",
     "output_type": "stream",
     "text": [
      "Epoch 18: 84%, loss: 3.079516\n"
     ]
    },
    {
     "name": "stderr",
     "output_type": "stream",
     "text": [
      " 89%|████████▉ | 1701/1913 [14:23<01:58,  1.79it/s]"
     ]
    },
    {
     "name": "stdout",
     "output_type": "stream",
     "text": [
      "Epoch 18: 89%, loss: 3.536263\n"
     ]
    },
    {
     "name": "stderr",
     "output_type": "stream",
     "text": [
      " 94%|█████████▍| 1801/1913 [15:16<00:57,  1.96it/s]"
     ]
    },
    {
     "name": "stdout",
     "output_type": "stream",
     "text": [
      "Epoch 18: 94%, loss: 3.198856\n"
     ]
    },
    {
     "name": "stderr",
     "output_type": "stream",
     "text": [
      " 99%|█████████▉| 1901/1913 [16:08<00:06,  1.83it/s]"
     ]
    },
    {
     "name": "stdout",
     "output_type": "stream",
     "text": [
      "Epoch 18: 99%, loss: 8.612655\n"
     ]
    },
    {
     "name": "stderr",
     "output_type": "stream",
     "text": [
      "100%|██████████| 1913/1913 [16:15<00:00,  1.96it/s]"
     ]
    },
    {
     "name": "stdout",
     "output_type": "stream",
     "text": [
      "Epoch 18: 100%, loss: 7.458717\n"
     ]
    },
    {
     "name": "stderr",
     "output_type": "stream",
     "text": [
      "\n"
     ]
    },
    {
     "name": "stdout",
     "output_type": "stream",
     "text": [
      "                      (F1-score: 0.1365, Precision: 0.1418, Recall: 0.1487)\n",
      "\n",
      "                      (NDCG: 0.1275)\n",
      "\n",
      "                      (MAE: 4.5843)\n",
      "\n",
      "train_loss= tensor(3.8830)\n",
      "--------------------\n"
     ]
    },
    {
     "name": "stderr",
     "output_type": "stream",
     "text": [
      "100%|██████████| 239/239 [01:36<00:00,  2.46it/s]\n"
     ]
    },
    {
     "name": "stdout",
     "output_type": "stream",
     "text": [
      "                      (F1-score: 0.1279, Precision: 0.1316, Recall: 0.1404)\n",
      "\n",
      "                      (NDCG: 0.1190)\n",
      "\n",
      "                      (MAE: 4.4728)\n",
      "\n",
      "val_loss= tensor(3.6061)\n",
      "--------------------\n"
     ]
    },
    {
     "name": "stderr",
     "output_type": "stream",
     "text": [
      "100%|██████████| 239/239 [01:38<00:00,  2.42it/s]\n"
     ]
    },
    {
     "name": "stdout",
     "output_type": "stream",
     "text": [
      "                      (F1-score: 0.1298, Precision: 0.1345, Recall: 0.1415)\n",
      "\n",
      "                      (NDCG: 0.1210)\n",
      "\n",
      "                      (MAE: 4.4671)\n",
      "\n",
      "--------------------\n",
      "[[1, 0.1623353763479029, 0.1491197404593984, 0.14532537524112915, 0.12284765203208682, 4.547594142259414, 3.7110097408294678], [2, 0.15772046516846788, 0.15984749277988602, 0.14872346358957772, 0.12935370769571888, 4.446652719665272, 3.663158416748047], [3, 0.13874689593249273, 0.1402540292183393, 0.13108652577809662, 0.12064036479508154, 4.466004184100418, 3.649195432662964], [4, 0.14421510727960513, 0.13138365125596593, 0.12916245400935225, 0.12067114758192246, 4.563807531380753, 3.6025912761688232], [5, 0.1457525628082103, 0.12896472072345194, 0.12862752092220742, 0.12058813618418125, 4.609832635983263, 3.6187639236450195], [6, 0.14388316536847123, 0.13247287190011622, 0.12958150799569937, 0.12088576834512461, 4.530857740585774, 3.592007875442505], [7, 0.13861603116435445, 0.13812669611245082, 0.12982306858132694, 0.11889473345738574, 4.5303347280334725, 3.649562358856201], [8, 0.14109023078951047, 0.13489159116956542, 0.1296105933638906, 0.11981703906035573, 4.506799163179917, 3.5897114276885986], [9, 0.13771442082878968, 0.14077606872550236, 0.1308536880212033, 0.11980852390012108, 4.455020920502092, 3.650421619415283], [10, 0.14477868004973884, 0.12910360860857337, 0.12837432053715717, 0.12060955931650763, 4.570606694560669, 3.607699155807495], [11, 0.14090334660401868, 0.1329712084001304, 0.1283460765493704, 0.11865800575189542, 4.560146443514644, 3.6004252433776855], [12, 0.1431339758766103, 0.13268651171546947, 0.12924682798413475, 0.1197862420961744, 4.556485355648536, 3.5576555728912354], [13, 0.1373661366749993, 0.14009271312424967, 0.13040405768191984, 0.12036775500478543, 4.406380753138075, 3.6152336597442627], [14, 0.14203773816146426, 0.13393652437528342, 0.1294540518833393, 0.11981761121389818, 4.523535564853557, 3.5668959617614746], [15, 0.1409872253962258, 0.13383126981250798, 0.12924971759348747, 0.12105546785795196, 4.445083682008368, 3.556591272354126], [16, 0.14284324462539574, 0.13127688459285564, 0.12861123353336576, 0.120355751630402, 4.53765690376569, 3.5495219230651855], [17, 0.13971277395110332, 0.13939349476142923, 0.13127841574338237, 0.12119204251126826, 4.419456066945607, 3.565661668777466], [18, 0.14152456671333957, 0.1345463183875387, 0.1297823829718727, 0.12095491107744184, 4.467050209205021, 3.5337541103363037]]\n",
      "-----------------------------------------------------------------------------------------\n"
     ]
    },
    {
     "name": "stderr",
     "output_type": "stream",
     "text": [
      "  0%|          | 1/1913 [00:00<19:51,  1.61it/s]"
     ]
    },
    {
     "name": "stdout",
     "output_type": "stream",
     "text": [
      "Epoch 19: 0%, loss: 5.984671\n"
     ]
    },
    {
     "name": "stderr",
     "output_type": "stream",
     "text": [
      "  5%|▌         | 101/1913 [00:50<15:08,  1.99it/s]"
     ]
    },
    {
     "name": "stdout",
     "output_type": "stream",
     "text": [
      "Epoch 19: 5%, loss: 1.629656\n"
     ]
    },
    {
     "name": "stderr",
     "output_type": "stream",
     "text": [
      " 11%|█         | 201/1913 [01:38<14:28,  1.97it/s]"
     ]
    },
    {
     "name": "stdout",
     "output_type": "stream",
     "text": [
      "Epoch 19: 10%, loss: 4.614874\n"
     ]
    },
    {
     "name": "stderr",
     "output_type": "stream",
     "text": [
      " 16%|█▌        | 301/1913 [02:27<14:47,  1.82it/s]"
     ]
    },
    {
     "name": "stdout",
     "output_type": "stream",
     "text": [
      "Epoch 19: 16%, loss: 8.697638\n"
     ]
    },
    {
     "name": "stderr",
     "output_type": "stream",
     "text": [
      " 21%|██        | 401/1913 [03:17<12:27,  2.02it/s]"
     ]
    },
    {
     "name": "stdout",
     "output_type": "stream",
     "text": [
      "Epoch 19: 21%, loss: 7.827480\n"
     ]
    },
    {
     "name": "stderr",
     "output_type": "stream",
     "text": [
      " 26%|██▌       | 501/1913 [04:07<11:40,  2.02it/s]"
     ]
    },
    {
     "name": "stdout",
     "output_type": "stream",
     "text": [
      "Epoch 19: 26%, loss: 2.282637\n"
     ]
    },
    {
     "name": "stderr",
     "output_type": "stream",
     "text": [
      " 31%|███▏      | 601/1913 [04:58<11:17,  1.94it/s]"
     ]
    },
    {
     "name": "stdout",
     "output_type": "stream",
     "text": [
      "Epoch 19: 31%, loss: 1.609807\n"
     ]
    },
    {
     "name": "stderr",
     "output_type": "stream",
     "text": [
      " 37%|███▋      | 701/1913 [05:48<10:12,  1.98it/s]"
     ]
    },
    {
     "name": "stdout",
     "output_type": "stream",
     "text": [
      "Epoch 19: 37%, loss: 0.869747\n"
     ]
    },
    {
     "name": "stderr",
     "output_type": "stream",
     "text": [
      " 42%|████▏     | 801/1913 [06:38<09:06,  2.04it/s]"
     ]
    },
    {
     "name": "stdout",
     "output_type": "stream",
     "text": [
      "Epoch 19: 42%, loss: 1.159476\n"
     ]
    },
    {
     "name": "stderr",
     "output_type": "stream",
     "text": [
      " 47%|████▋     | 901/1913 [07:29<08:20,  2.02it/s]"
     ]
    },
    {
     "name": "stdout",
     "output_type": "stream",
     "text": [
      "Epoch 19: 47%, loss: 1.979341\n"
     ]
    },
    {
     "name": "stderr",
     "output_type": "stream",
     "text": [
      " 52%|█████▏    | 1001/1913 [08:20<07:53,  1.92it/s]"
     ]
    },
    {
     "name": "stdout",
     "output_type": "stream",
     "text": [
      "Epoch 19: 52%, loss: 2.083132\n"
     ]
    },
    {
     "name": "stderr",
     "output_type": "stream",
     "text": [
      " 58%|█████▊    | 1101/1913 [09:11<06:51,  1.97it/s]"
     ]
    },
    {
     "name": "stdout",
     "output_type": "stream",
     "text": [
      "Epoch 19: 58%, loss: 3.637911\n"
     ]
    },
    {
     "name": "stderr",
     "output_type": "stream",
     "text": [
      " 63%|██████▎   | 1201/1913 [10:03<06:05,  1.95it/s]"
     ]
    },
    {
     "name": "stdout",
     "output_type": "stream",
     "text": [
      "Epoch 19: 63%, loss: 2.616687\n"
     ]
    },
    {
     "name": "stderr",
     "output_type": "stream",
     "text": [
      " 68%|██████▊   | 1301/1913 [10:54<05:06,  2.00it/s]"
     ]
    },
    {
     "name": "stdout",
     "output_type": "stream",
     "text": [
      "Epoch 19: 68%, loss: 1.573042\n"
     ]
    },
    {
     "name": "stderr",
     "output_type": "stream",
     "text": [
      " 73%|███████▎  | 1401/1913 [11:45<04:07,  2.07it/s]"
     ]
    },
    {
     "name": "stdout",
     "output_type": "stream",
     "text": [
      "Epoch 19: 73%, loss: 1.422828\n"
     ]
    },
    {
     "name": "stderr",
     "output_type": "stream",
     "text": [
      " 78%|███████▊  | 1501/1913 [12:38<03:40,  1.87it/s]"
     ]
    },
    {
     "name": "stdout",
     "output_type": "stream",
     "text": [
      "Epoch 19: 78%, loss: 4.180170\n"
     ]
    },
    {
     "name": "stderr",
     "output_type": "stream",
     "text": [
      " 84%|████████▎ | 1601/1913 [13:30<02:39,  1.95it/s]"
     ]
    },
    {
     "name": "stdout",
     "output_type": "stream",
     "text": [
      "Epoch 19: 84%, loss: 1.553498\n"
     ]
    },
    {
     "name": "stderr",
     "output_type": "stream",
     "text": [
      " 89%|████████▉ | 1701/1913 [14:23<01:49,  1.93it/s]"
     ]
    },
    {
     "name": "stdout",
     "output_type": "stream",
     "text": [
      "Epoch 19: 89%, loss: 4.349297\n"
     ]
    },
    {
     "name": "stderr",
     "output_type": "stream",
     "text": [
      " 94%|█████████▍| 1801/1913 [15:16<01:01,  1.83it/s]"
     ]
    },
    {
     "name": "stdout",
     "output_type": "stream",
     "text": [
      "Epoch 19: 94%, loss: 1.318038\n"
     ]
    },
    {
     "name": "stderr",
     "output_type": "stream",
     "text": [
      " 99%|█████████▉| 1901/1913 [16:09<00:06,  1.89it/s]"
     ]
    },
    {
     "name": "stdout",
     "output_type": "stream",
     "text": [
      "Epoch 19: 99%, loss: 2.043699\n"
     ]
    },
    {
     "name": "stderr",
     "output_type": "stream",
     "text": [
      "100%|██████████| 1913/1913 [16:16<00:00,  1.96it/s]"
     ]
    },
    {
     "name": "stdout",
     "output_type": "stream",
     "text": [
      "Epoch 19: 100%, loss: 3.356825\n"
     ]
    },
    {
     "name": "stderr",
     "output_type": "stream",
     "text": [
      "\n"
     ]
    },
    {
     "name": "stdout",
     "output_type": "stream",
     "text": [
      "                      (F1-score: 0.1366, Precision: 0.1420, Recall: 0.1488)\n",
      "\n",
      "                      (NDCG: 0.1275)\n",
      "\n",
      "                      (MAE: 4.5764)\n",
      "\n",
      "train_loss= tensor(3.8749)\n",
      "--------------------\n"
     ]
    },
    {
     "name": "stderr",
     "output_type": "stream",
     "text": [
      "100%|██████████| 239/239 [01:37<00:00,  2.46it/s]\n"
     ]
    },
    {
     "name": "stdout",
     "output_type": "stream",
     "text": [
      "                      (F1-score: 0.1263, Precision: 0.1260, Recall: 0.1441)\n",
      "\n",
      "                      (NDCG: 0.1178)\n",
      "\n",
      "                      (MAE: 4.6281)\n",
      "\n",
      "val_loss= tensor(3.6383)\n",
      "--------------------\n"
     ]
    },
    {
     "name": "stderr",
     "output_type": "stream",
     "text": [
      "100%|██████████| 239/239 [01:38<00:00,  2.43it/s]\n"
     ]
    },
    {
     "name": "stdout",
     "output_type": "stream",
     "text": [
      "                      (F1-score: 0.1280, Precision: 0.1285, Recall: 0.1444)\n",
      "\n",
      "                      (NDCG: 0.1208)\n",
      "\n",
      "                      (MAE: 4.5769)\n",
      "\n",
      "--------------------\n",
      "[[1, 0.1623353763479029, 0.1491197404593984, 0.14532537524112915, 0.12284765203208682, 4.547594142259414, 3.7110097408294678], [2, 0.15772046516846788, 0.15984749277988602, 0.14872346358957772, 0.12935370769571888, 4.446652719665272, 3.663158416748047], [3, 0.13874689593249273, 0.1402540292183393, 0.13108652577809662, 0.12064036479508154, 4.466004184100418, 3.649195432662964], [4, 0.14421510727960513, 0.13138365125596593, 0.12916245400935225, 0.12067114758192246, 4.563807531380753, 3.6025912761688232], [5, 0.1457525628082103, 0.12896472072345194, 0.12862752092220742, 0.12058813618418125, 4.609832635983263, 3.6187639236450195], [6, 0.14388316536847123, 0.13247287190011622, 0.12958150799569937, 0.12088576834512461, 4.530857740585774, 3.592007875442505], [7, 0.13861603116435445, 0.13812669611245082, 0.12982306858132694, 0.11889473345738574, 4.5303347280334725, 3.649562358856201], [8, 0.14109023078951047, 0.13489159116956542, 0.1296105933638906, 0.11981703906035573, 4.506799163179917, 3.5897114276885986], [9, 0.13771442082878968, 0.14077606872550236, 0.1308536880212033, 0.11980852390012108, 4.455020920502092, 3.650421619415283], [10, 0.14477868004973884, 0.12910360860857337, 0.12837432053715717, 0.12060955931650763, 4.570606694560669, 3.607699155807495], [11, 0.14090334660401868, 0.1329712084001304, 0.1283460765493704, 0.11865800575189542, 4.560146443514644, 3.6004252433776855], [12, 0.1431339758766103, 0.13268651171546947, 0.12924682798413475, 0.1197862420961744, 4.556485355648536, 3.5576555728912354], [13, 0.1373661366749993, 0.14009271312424967, 0.13040405768191984, 0.12036775500478543, 4.406380753138075, 3.6152336597442627], [14, 0.14203773816146426, 0.13393652437528342, 0.1294540518833393, 0.11981761121389818, 4.523535564853557, 3.5668959617614746], [15, 0.1409872253962258, 0.13383126981250798, 0.12924971759348747, 0.12105546785795196, 4.445083682008368, 3.556591272354126], [16, 0.14284324462539574, 0.13127688459285564, 0.12861123353336576, 0.120355751630402, 4.53765690376569, 3.5495219230651855], [17, 0.13971277395110332, 0.13939349476142923, 0.13127841574338237, 0.12119204251126826, 4.419456066945607, 3.565661668777466], [18, 0.14152456671333957, 0.1345463183875387, 0.1297823829718727, 0.12095491107744184, 4.467050209205021, 3.5337541103363037], [19, 0.14444578093089058, 0.12854323537326479, 0.1279651555043518, 0.120813321918405, 4.576882845188284, 3.55812406539917]]\n",
      "-----------------------------------------------------------------------------------------\n"
     ]
    },
    {
     "name": "stderr",
     "output_type": "stream",
     "text": [
      "  0%|          | 1/1913 [00:00<18:23,  1.73it/s]"
     ]
    },
    {
     "name": "stdout",
     "output_type": "stream",
     "text": [
      "Epoch 20: 0%, loss: 5.954266\n"
     ]
    },
    {
     "name": "stderr",
     "output_type": "stream",
     "text": [
      "  5%|▌         | 101/1913 [00:50<15:07,  2.00it/s]"
     ]
    },
    {
     "name": "stdout",
     "output_type": "stream",
     "text": [
      "Epoch 20: 5%, loss: 3.771298\n"
     ]
    },
    {
     "name": "stderr",
     "output_type": "stream",
     "text": [
      " 11%|█         | 201/1913 [01:39<13:51,  2.06it/s]"
     ]
    },
    {
     "name": "stdout",
     "output_type": "stream",
     "text": [
      "Epoch 20: 10%, loss: 2.205110\n"
     ]
    },
    {
     "name": "stderr",
     "output_type": "stream",
     "text": [
      " 16%|█▌        | 301/1913 [02:29<13:06,  2.05it/s]"
     ]
    },
    {
     "name": "stdout",
     "output_type": "stream",
     "text": [
      "Epoch 20: 16%, loss: 7.226690\n"
     ]
    },
    {
     "name": "stderr",
     "output_type": "stream",
     "text": [
      " 21%|██        | 401/1913 [03:19<13:20,  1.89it/s]"
     ]
    },
    {
     "name": "stdout",
     "output_type": "stream",
     "text": [
      "Epoch 20: 21%, loss: 4.478816\n"
     ]
    },
    {
     "name": "stderr",
     "output_type": "stream",
     "text": [
      " 26%|██▌       | 501/1913 [04:10<12:24,  1.90it/s]"
     ]
    },
    {
     "name": "stdout",
     "output_type": "stream",
     "text": [
      "Epoch 20: 26%, loss: 3.808990\n"
     ]
    },
    {
     "name": "stderr",
     "output_type": "stream",
     "text": [
      " 31%|███▏      | 601/1913 [05:00<10:31,  2.08it/s]"
     ]
    },
    {
     "name": "stdout",
     "output_type": "stream",
     "text": [
      "Epoch 20: 31%, loss: 4.614056\n"
     ]
    },
    {
     "name": "stderr",
     "output_type": "stream",
     "text": [
      " 37%|███▋      | 701/1913 [05:50<10:22,  1.95it/s]"
     ]
    },
    {
     "name": "stdout",
     "output_type": "stream",
     "text": [
      "Epoch 20: 37%, loss: 2.057918\n"
     ]
    },
    {
     "name": "stderr",
     "output_type": "stream",
     "text": [
      " 42%|████▏     | 801/1913 [06:41<09:26,  1.96it/s]"
     ]
    },
    {
     "name": "stdout",
     "output_type": "stream",
     "text": [
      "Epoch 20: 42%, loss: 2.769466\n"
     ]
    },
    {
     "name": "stderr",
     "output_type": "stream",
     "text": [
      " 47%|████▋     | 901/1913 [07:31<09:21,  1.80it/s]"
     ]
    },
    {
     "name": "stdout",
     "output_type": "stream",
     "text": [
      "Epoch 20: 47%, loss: 5.915873\n"
     ]
    },
    {
     "name": "stderr",
     "output_type": "stream",
     "text": [
      " 52%|█████▏    | 1001/1913 [08:22<07:45,  1.96it/s]"
     ]
    },
    {
     "name": "stdout",
     "output_type": "stream",
     "text": [
      "Epoch 20: 52%, loss: 8.061504\n"
     ]
    },
    {
     "name": "stderr",
     "output_type": "stream",
     "text": [
      " 58%|█████▊    | 1101/1913 [09:13<06:56,  1.95it/s]"
     ]
    },
    {
     "name": "stdout",
     "output_type": "stream",
     "text": [
      "Epoch 20: 58%, loss: 3.681702\n"
     ]
    },
    {
     "name": "stderr",
     "output_type": "stream",
     "text": [
      " 63%|██████▎   | 1201/1913 [10:04<06:12,  1.91it/s]"
     ]
    },
    {
     "name": "stdout",
     "output_type": "stream",
     "text": [
      "Epoch 20: 63%, loss: 1.936450\n"
     ]
    },
    {
     "name": "stderr",
     "output_type": "stream",
     "text": [
      " 68%|██████▊   | 1301/1913 [10:57<05:13,  1.95it/s]"
     ]
    },
    {
     "name": "stdout",
     "output_type": "stream",
     "text": [
      "Epoch 20: 68%, loss: 1.412493\n"
     ]
    },
    {
     "name": "stderr",
     "output_type": "stream",
     "text": [
      " 73%|███████▎  | 1401/1913 [11:48<04:10,  2.04it/s]"
     ]
    },
    {
     "name": "stdout",
     "output_type": "stream",
     "text": [
      "Epoch 20: 73%, loss: 3.784414\n"
     ]
    },
    {
     "name": "stderr",
     "output_type": "stream",
     "text": [
      " 78%|███████▊  | 1501/1913 [12:39<03:31,  1.95it/s]"
     ]
    },
    {
     "name": "stdout",
     "output_type": "stream",
     "text": [
      "Epoch 20: 78%, loss: 1.918954\n"
     ]
    },
    {
     "name": "stderr",
     "output_type": "stream",
     "text": [
      " 84%|████████▎ | 1601/1913 [13:31<02:41,  1.93it/s]"
     ]
    },
    {
     "name": "stdout",
     "output_type": "stream",
     "text": [
      "Epoch 20: 84%, loss: 1.712124\n"
     ]
    },
    {
     "name": "stderr",
     "output_type": "stream",
     "text": [
      " 89%|████████▉ | 1701/1913 [14:23<01:50,  1.92it/s]"
     ]
    },
    {
     "name": "stdout",
     "output_type": "stream",
     "text": [
      "Epoch 20: 89%, loss: 3.101719\n"
     ]
    },
    {
     "name": "stderr",
     "output_type": "stream",
     "text": [
      " 94%|█████████▍| 1801/1913 [15:16<00:56,  2.00it/s]"
     ]
    },
    {
     "name": "stdout",
     "output_type": "stream",
     "text": [
      "Epoch 20: 94%, loss: 1.161947\n"
     ]
    },
    {
     "name": "stderr",
     "output_type": "stream",
     "text": [
      " 99%|█████████▉| 1901/1913 [16:08<00:06,  1.95it/s]"
     ]
    },
    {
     "name": "stdout",
     "output_type": "stream",
     "text": [
      "Epoch 20: 99%, loss: 4.540594\n"
     ]
    },
    {
     "name": "stderr",
     "output_type": "stream",
     "text": [
      "100%|██████████| 1913/1913 [16:15<00:00,  1.96it/s]"
     ]
    },
    {
     "name": "stdout",
     "output_type": "stream",
     "text": [
      "Epoch 20: 100%, loss: 3.997965\n"
     ]
    },
    {
     "name": "stderr",
     "output_type": "stream",
     "text": [
      "\n"
     ]
    },
    {
     "name": "stdout",
     "output_type": "stream",
     "text": [
      "                      (F1-score: 0.1366, Precision: 0.1417, Recall: 0.1488)\n",
      "\n",
      "                      (NDCG: 0.1274)\n",
      "\n",
      "                      (MAE: 4.5772)\n",
      "\n",
      "train_loss= tensor(3.8521)\n",
      "--------------------\n"
     ]
    },
    {
     "name": "stderr",
     "output_type": "stream",
     "text": [
      "100%|██████████| 239/239 [01:36<00:00,  2.47it/s]\n"
     ]
    },
    {
     "name": "stdout",
     "output_type": "stream",
     "text": [
      "                      (F1-score: 0.1290, Precision: 0.1353, Recall: 0.1390)\n",
      "\n",
      "                      (NDCG: 0.1198)\n",
      "\n",
      "                      (MAE: 4.3949)\n",
      "\n",
      "val_loss= tensor(3.6027)\n",
      "--------------------\n"
     ]
    },
    {
     "name": "stderr",
     "output_type": "stream",
     "text": [
      "100%|██████████| 239/239 [01:38<00:00,  2.42it/s]\n"
     ]
    },
    {
     "name": "stdout",
     "output_type": "stream",
     "text": [
      "                      (F1-score: 0.1300, Precision: 0.1372, Recall: 0.1389)\n",
      "\n",
      "                      (NDCG: 0.1213)\n",
      "\n",
      "                      (MAE: 4.3975)\n",
      "\n",
      "--------------------\n",
      "[[1, 0.1623353763479029, 0.1491197404593984, 0.14532537524112915, 0.12284765203208682, 4.547594142259414, 3.7110097408294678], [2, 0.15772046516846788, 0.15984749277988602, 0.14872346358957772, 0.12935370769571888, 4.446652719665272, 3.663158416748047], [3, 0.13874689593249273, 0.1402540292183393, 0.13108652577809662, 0.12064036479508154, 4.466004184100418, 3.649195432662964], [4, 0.14421510727960513, 0.13138365125596593, 0.12916245400935225, 0.12067114758192246, 4.563807531380753, 3.6025912761688232], [5, 0.1457525628082103, 0.12896472072345194, 0.12862752092220742, 0.12058813618418125, 4.609832635983263, 3.6187639236450195], [6, 0.14388316536847123, 0.13247287190011622, 0.12958150799569937, 0.12088576834512461, 4.530857740585774, 3.592007875442505], [7, 0.13861603116435445, 0.13812669611245082, 0.12982306858132694, 0.11889473345738574, 4.5303347280334725, 3.649562358856201], [8, 0.14109023078951047, 0.13489159116956542, 0.1296105933638906, 0.11981703906035573, 4.506799163179917, 3.5897114276885986], [9, 0.13771442082878968, 0.14077606872550236, 0.1308536880212033, 0.11980852390012108, 4.455020920502092, 3.650421619415283], [10, 0.14477868004973884, 0.12910360860857337, 0.12837432053715717, 0.12060955931650763, 4.570606694560669, 3.607699155807495], [11, 0.14090334660401868, 0.1329712084001304, 0.1283460765493704, 0.11865800575189542, 4.560146443514644, 3.6004252433776855], [12, 0.1431339758766103, 0.13268651171546947, 0.12924682798413475, 0.1197862420961744, 4.556485355648536, 3.5576555728912354], [13, 0.1373661366749993, 0.14009271312424967, 0.13040405768191984, 0.12036775500478543, 4.406380753138075, 3.6152336597442627], [14, 0.14203773816146426, 0.13393652437528342, 0.1294540518833393, 0.11981761121389818, 4.523535564853557, 3.5668959617614746], [15, 0.1409872253962258, 0.13383126981250798, 0.12924971759348747, 0.12105546785795196, 4.445083682008368, 3.556591272354126], [16, 0.14284324462539574, 0.13127688459285564, 0.12861123353336576, 0.120355751630402, 4.53765690376569, 3.5495219230651855], [17, 0.13971277395110332, 0.13939349476142923, 0.13127841574338237, 0.12119204251126826, 4.419456066945607, 3.565661668777466], [18, 0.14152456671333957, 0.1345463183875387, 0.1297823829718727, 0.12095491107744184, 4.467050209205021, 3.5337541103363037], [19, 0.14444578093089058, 0.12854323537326479, 0.1279651555043518, 0.120813321918405, 4.576882845188284, 3.55812406539917], [20, 0.13890993695070125, 0.13722604394778015, 0.12999175195086016, 0.12127070811043288, 4.397489539748954, 3.55085825920105]]\n",
      "-----------------------------------------------------------------------------------------\n"
     ]
    },
    {
     "name": "stderr",
     "output_type": "stream",
     "text": [
      "  0%|          | 1/1913 [00:00<15:04,  2.11it/s]"
     ]
    },
    {
     "name": "stdout",
     "output_type": "stream",
     "text": [
      "Epoch 21: 0%, loss: 1.335700\n"
     ]
    },
    {
     "name": "stderr",
     "output_type": "stream",
     "text": [
      "  5%|▌         | 101/1913 [00:49<14:36,  2.07it/s]"
     ]
    },
    {
     "name": "stdout",
     "output_type": "stream",
     "text": [
      "Epoch 21: 5%, loss: 1.122093\n"
     ]
    },
    {
     "name": "stderr",
     "output_type": "stream",
     "text": [
      " 11%|█         | 201/1913 [01:38<13:30,  2.11it/s]"
     ]
    },
    {
     "name": "stdout",
     "output_type": "stream",
     "text": [
      "Epoch 21: 10%, loss: 1.057759\n"
     ]
    },
    {
     "name": "stderr",
     "output_type": "stream",
     "text": [
      " 16%|█▌        | 301/1913 [02:27<12:50,  2.09it/s]"
     ]
    },
    {
     "name": "stdout",
     "output_type": "stream",
     "text": [
      "Epoch 21: 16%, loss: 7.806373\n"
     ]
    },
    {
     "name": "stderr",
     "output_type": "stream",
     "text": [
      " 21%|██        | 401/1913 [03:16<12:54,  1.95it/s]"
     ]
    },
    {
     "name": "stdout",
     "output_type": "stream",
     "text": [
      "Epoch 21: 21%, loss: 3.390727\n"
     ]
    },
    {
     "name": "stderr",
     "output_type": "stream",
     "text": [
      " 26%|██▌       | 501/1913 [04:06<11:25,  2.06it/s]"
     ]
    },
    {
     "name": "stdout",
     "output_type": "stream",
     "text": [
      "Epoch 21: 26%, loss: 1.841493\n"
     ]
    },
    {
     "name": "stderr",
     "output_type": "stream",
     "text": [
      " 31%|███▏      | 601/1913 [04:56<10:42,  2.04it/s]"
     ]
    },
    {
     "name": "stdout",
     "output_type": "stream",
     "text": [
      "Epoch 21: 31%, loss: 4.729920\n"
     ]
    },
    {
     "name": "stderr",
     "output_type": "stream",
     "text": [
      " 37%|███▋      | 701/1913 [05:46<09:31,  2.12it/s]"
     ]
    },
    {
     "name": "stdout",
     "output_type": "stream",
     "text": [
      "Epoch 21: 37%, loss: 1.684150\n"
     ]
    },
    {
     "name": "stderr",
     "output_type": "stream",
     "text": [
      " 42%|████▏     | 801/1913 [06:37<09:09,  2.02it/s]"
     ]
    },
    {
     "name": "stdout",
     "output_type": "stream",
     "text": [
      "Epoch 21: 42%, loss: 1.418523\n"
     ]
    },
    {
     "name": "stderr",
     "output_type": "stream",
     "text": [
      " 47%|████▋     | 901/1913 [07:28<08:42,  1.94it/s]"
     ]
    },
    {
     "name": "stdout",
     "output_type": "stream",
     "text": [
      "Epoch 21: 47%, loss: 2.644075\n"
     ]
    },
    {
     "name": "stderr",
     "output_type": "stream",
     "text": [
      " 52%|█████▏    | 1001/1913 [08:18<08:00,  1.90it/s]"
     ]
    },
    {
     "name": "stdout",
     "output_type": "stream",
     "text": [
      "Epoch 21: 52%, loss: 8.052036\n"
     ]
    },
    {
     "name": "stderr",
     "output_type": "stream",
     "text": [
      " 58%|█████▊    | 1101/1913 [09:10<07:02,  1.92it/s]"
     ]
    },
    {
     "name": "stdout",
     "output_type": "stream",
     "text": [
      "Epoch 21: 58%, loss: 4.651117\n"
     ]
    },
    {
     "name": "stderr",
     "output_type": "stream",
     "text": [
      " 63%|██████▎   | 1201/1913 [10:01<05:40,  2.09it/s]"
     ]
    },
    {
     "name": "stdout",
     "output_type": "stream",
     "text": [
      "Epoch 21: 63%, loss: 2.196693\n"
     ]
    },
    {
     "name": "stderr",
     "output_type": "stream",
     "text": [
      " 68%|██████▊   | 1301/1913 [10:53<05:11,  1.97it/s]"
     ]
    },
    {
     "name": "stdout",
     "output_type": "stream",
     "text": [
      "Epoch 21: 68%, loss: 8.384720\n"
     ]
    },
    {
     "name": "stderr",
     "output_type": "stream",
     "text": [
      " 73%|███████▎  | 1401/1913 [11:44<04:18,  1.98it/s]"
     ]
    },
    {
     "name": "stdout",
     "output_type": "stream",
     "text": [
      "Epoch 21: 73%, loss: 5.038697\n"
     ]
    },
    {
     "name": "stderr",
     "output_type": "stream",
     "text": [
      " 78%|███████▊  | 1501/1913 [12:37<03:32,  1.94it/s]"
     ]
    },
    {
     "name": "stdout",
     "output_type": "stream",
     "text": [
      "Epoch 21: 78%, loss: 3.216093\n"
     ]
    },
    {
     "name": "stderr",
     "output_type": "stream",
     "text": [
      " 84%|████████▎ | 1601/1913 [13:29<02:44,  1.90it/s]"
     ]
    },
    {
     "name": "stdout",
     "output_type": "stream",
     "text": [
      "Epoch 21: 84%, loss: 3.991544\n"
     ]
    },
    {
     "name": "stderr",
     "output_type": "stream",
     "text": [
      " 89%|████████▉ | 1701/1913 [14:21<01:51,  1.90it/s]"
     ]
    },
    {
     "name": "stdout",
     "output_type": "stream",
     "text": [
      "Epoch 21: 89%, loss: 2.369614\n"
     ]
    },
    {
     "name": "stderr",
     "output_type": "stream",
     "text": [
      " 94%|█████████▍| 1801/1913 [15:15<00:56,  1.98it/s]"
     ]
    },
    {
     "name": "stdout",
     "output_type": "stream",
     "text": [
      "Epoch 21: 94%, loss: 3.533006\n"
     ]
    },
    {
     "name": "stderr",
     "output_type": "stream",
     "text": [
      " 99%|█████████▉| 1901/1913 [16:07<00:05,  2.00it/s]"
     ]
    },
    {
     "name": "stdout",
     "output_type": "stream",
     "text": [
      "Epoch 21: 99%, loss: 1.969544\n"
     ]
    },
    {
     "name": "stderr",
     "output_type": "stream",
     "text": [
      "100%|██████████| 1913/1913 [16:14<00:00,  1.96it/s]"
     ]
    },
    {
     "name": "stdout",
     "output_type": "stream",
     "text": [
      "Epoch 21: 100%, loss: 4.052097\n"
     ]
    },
    {
     "name": "stderr",
     "output_type": "stream",
     "text": [
      "\n"
     ]
    },
    {
     "name": "stdout",
     "output_type": "stream",
     "text": [
      "                      (F1-score: 0.1368, Precision: 0.1420, Recall: 0.1491)\n",
      "\n",
      "                      (NDCG: 0.1276)\n",
      "\n",
      "                      (MAE: 4.5745)\n",
      "\n",
      "train_loss= tensor(3.8551)\n",
      "--------------------\n"
     ]
    },
    {
     "name": "stderr",
     "output_type": "stream",
     "text": [
      "100%|██████████| 239/239 [01:36<00:00,  2.47it/s]\n"
     ]
    },
    {
     "name": "stdout",
     "output_type": "stream",
     "text": [
      "                      (F1-score: 0.1288, Precision: 0.1335, Recall: 0.1402)\n",
      "\n",
      "                      (NDCG: 0.1201)\n",
      "\n",
      "                      (MAE: 4.4273)\n",
      "\n",
      "val_loss= tensor(3.5920)\n",
      "--------------------\n"
     ]
    },
    {
     "name": "stderr",
     "output_type": "stream",
     "text": [
      "100%|██████████| 239/239 [01:38<00:00,  2.43it/s]\n"
     ]
    },
    {
     "name": "stdout",
     "output_type": "stream",
     "text": [
      "                      (F1-score: 0.1295, Precision: 0.1351, Recall: 0.1401)\n",
      "\n",
      "                      (NDCG: 0.1215)\n",
      "\n",
      "                      (MAE: 4.4231)\n",
      "\n",
      "--------------------\n",
      "[[1, 0.1623353763479029, 0.1491197404593984, 0.14532537524112915, 0.12284765203208682, 4.547594142259414, 3.7110097408294678], [2, 0.15772046516846788, 0.15984749277988602, 0.14872346358957772, 0.12935370769571888, 4.446652719665272, 3.663158416748047], [3, 0.13874689593249273, 0.1402540292183393, 0.13108652577809662, 0.12064036479508154, 4.466004184100418, 3.649195432662964], [4, 0.14421510727960513, 0.13138365125596593, 0.12916245400935225, 0.12067114758192246, 4.563807531380753, 3.6025912761688232], [5, 0.1457525628082103, 0.12896472072345194, 0.12862752092220742, 0.12058813618418125, 4.609832635983263, 3.6187639236450195], [6, 0.14388316536847123, 0.13247287190011622, 0.12958150799569937, 0.12088576834512461, 4.530857740585774, 3.592007875442505], [7, 0.13861603116435445, 0.13812669611245082, 0.12982306858132694, 0.11889473345738574, 4.5303347280334725, 3.649562358856201], [8, 0.14109023078951047, 0.13489159116956542, 0.1296105933638906, 0.11981703906035573, 4.506799163179917, 3.5897114276885986], [9, 0.13771442082878968, 0.14077606872550236, 0.1308536880212033, 0.11980852390012108, 4.455020920502092, 3.650421619415283], [10, 0.14477868004973884, 0.12910360860857337, 0.12837432053715717, 0.12060955931650763, 4.570606694560669, 3.607699155807495], [11, 0.14090334660401868, 0.1329712084001304, 0.1283460765493704, 0.11865800575189542, 4.560146443514644, 3.6004252433776855], [12, 0.1431339758766103, 0.13268651171546947, 0.12924682798413475, 0.1197862420961744, 4.556485355648536, 3.5576555728912354], [13, 0.1373661366749993, 0.14009271312424967, 0.13040405768191984, 0.12036775500478543, 4.406380753138075, 3.6152336597442627], [14, 0.14203773816146426, 0.13393652437528342, 0.1294540518833393, 0.11981761121389818, 4.523535564853557, 3.5668959617614746], [15, 0.1409872253962258, 0.13383126981250798, 0.12924971759348747, 0.12105546785795196, 4.445083682008368, 3.556591272354126], [16, 0.14284324462539574, 0.13127688459285564, 0.12861123353336576, 0.120355751630402, 4.53765690376569, 3.5495219230651855], [17, 0.13971277395110332, 0.13939349476142923, 0.13127841574338237, 0.12119204251126826, 4.419456066945607, 3.565661668777466], [18, 0.14152456671333957, 0.1345463183875387, 0.1297823829718727, 0.12095491107744184, 4.467050209205021, 3.5337541103363037], [19, 0.14444578093089058, 0.12854323537326479, 0.1279651555043518, 0.120813321918405, 4.576882845188284, 3.55812406539917], [20, 0.13890993695070125, 0.13722604394778015, 0.12999175195086016, 0.12127070811043288, 4.397489539748954, 3.55085825920105], [21, 0.1401474778028976, 0.1351428376061223, 0.1294940549999616, 0.12153814045155117, 4.423117154811716, 3.534777879714966]]\n",
      "-----------------------------------------------------------------------------------------\n"
     ]
    },
    {
     "name": "stderr",
     "output_type": "stream",
     "text": [
      "  0%|          | 1/1913 [00:00<16:12,  1.97it/s]"
     ]
    },
    {
     "name": "stdout",
     "output_type": "stream",
     "text": [
      "Epoch 22: 0%, loss: 1.231859\n"
     ]
    },
    {
     "name": "stderr",
     "output_type": "stream",
     "text": [
      "  5%|▌         | 101/1913 [00:49<14:45,  2.05it/s]"
     ]
    },
    {
     "name": "stdout",
     "output_type": "stream",
     "text": [
      "Epoch 22: 5%, loss: 1.812340\n"
     ]
    },
    {
     "name": "stderr",
     "output_type": "stream",
     "text": [
      " 11%|█         | 201/1913 [01:38<14:39,  1.95it/s]"
     ]
    },
    {
     "name": "stdout",
     "output_type": "stream",
     "text": [
      "Epoch 22: 10%, loss: 11.271963\n"
     ]
    },
    {
     "name": "stderr",
     "output_type": "stream",
     "text": [
      " 16%|█▌        | 301/1913 [02:28<13:54,  1.93it/s]"
     ]
    },
    {
     "name": "stdout",
     "output_type": "stream",
     "text": [
      "Epoch 22: 16%, loss: 2.016499\n"
     ]
    },
    {
     "name": "stderr",
     "output_type": "stream",
     "text": [
      " 21%|██        | 401/1913 [03:17<14:00,  1.80it/s]"
     ]
    },
    {
     "name": "stdout",
     "output_type": "stream",
     "text": [
      "Epoch 22: 21%, loss: 4.484914\n"
     ]
    },
    {
     "name": "stderr",
     "output_type": "stream",
     "text": [
      " 26%|██▌       | 501/1913 [04:08<11:26,  2.06it/s]"
     ]
    },
    {
     "name": "stdout",
     "output_type": "stream",
     "text": [
      "Epoch 22: 26%, loss: 7.090495\n"
     ]
    },
    {
     "name": "stderr",
     "output_type": "stream",
     "text": [
      " 31%|███▏      | 601/1913 [04:58<11:23,  1.92it/s]"
     ]
    },
    {
     "name": "stdout",
     "output_type": "stream",
     "text": [
      "Epoch 22: 31%, loss: 2.660985\n"
     ]
    },
    {
     "name": "stderr",
     "output_type": "stream",
     "text": [
      " 37%|███▋      | 701/1913 [05:48<10:15,  1.97it/s]"
     ]
    },
    {
     "name": "stdout",
     "output_type": "stream",
     "text": [
      "Epoch 22: 37%, loss: 2.004095\n"
     ]
    },
    {
     "name": "stderr",
     "output_type": "stream",
     "text": [
      " 42%|████▏     | 801/1913 [06:39<09:28,  1.95it/s]"
     ]
    },
    {
     "name": "stdout",
     "output_type": "stream",
     "text": [
      "Epoch 22: 42%, loss: 5.020541\n"
     ]
    },
    {
     "name": "stderr",
     "output_type": "stream",
     "text": [
      " 47%|████▋     | 901/1913 [07:29<08:15,  2.04it/s]"
     ]
    },
    {
     "name": "stdout",
     "output_type": "stream",
     "text": [
      "Epoch 22: 47%, loss: 5.196096\n"
     ]
    },
    {
     "name": "stderr",
     "output_type": "stream",
     "text": [
      " 52%|█████▏    | 1001/1913 [08:20<07:45,  1.96it/s]"
     ]
    },
    {
     "name": "stdout",
     "output_type": "stream",
     "text": [
      "Epoch 22: 52%, loss: 4.766078\n"
     ]
    },
    {
     "name": "stderr",
     "output_type": "stream",
     "text": [
      " 58%|█████▊    | 1101/1913 [09:11<06:33,  2.06it/s]"
     ]
    },
    {
     "name": "stdout",
     "output_type": "stream",
     "text": [
      "Epoch 22: 58%, loss: 1.153753\n"
     ]
    },
    {
     "name": "stderr",
     "output_type": "stream",
     "text": [
      " 63%|██████▎   | 1201/1913 [10:03<05:48,  2.04it/s]"
     ]
    },
    {
     "name": "stdout",
     "output_type": "stream",
     "text": [
      "Epoch 22: 63%, loss: 2.226754\n"
     ]
    },
    {
     "name": "stderr",
     "output_type": "stream",
     "text": [
      " 68%|██████▊   | 1301/1913 [10:55<05:18,  1.92it/s]"
     ]
    },
    {
     "name": "stdout",
     "output_type": "stream",
     "text": [
      "Epoch 22: 68%, loss: 3.076110\n"
     ]
    },
    {
     "name": "stderr",
     "output_type": "stream",
     "text": [
      " 73%|███████▎  | 1401/1913 [11:46<04:30,  1.90it/s]"
     ]
    },
    {
     "name": "stdout",
     "output_type": "stream",
     "text": [
      "Epoch 22: 73%, loss: 4.694898\n"
     ]
    },
    {
     "name": "stderr",
     "output_type": "stream",
     "text": [
      " 78%|███████▊  | 1501/1913 [12:38<03:36,  1.91it/s]"
     ]
    },
    {
     "name": "stdout",
     "output_type": "stream",
     "text": [
      "Epoch 22: 78%, loss: 6.718097\n"
     ]
    },
    {
     "name": "stderr",
     "output_type": "stream",
     "text": [
      " 84%|████████▎ | 1601/1913 [13:30<02:43,  1.91it/s]"
     ]
    },
    {
     "name": "stdout",
     "output_type": "stream",
     "text": [
      "Epoch 22: 84%, loss: 3.270914\n"
     ]
    },
    {
     "name": "stderr",
     "output_type": "stream",
     "text": [
      " 89%|████████▉ | 1701/1913 [14:24<01:54,  1.86it/s]"
     ]
    },
    {
     "name": "stdout",
     "output_type": "stream",
     "text": [
      "Epoch 22: 89%, loss: 3.047318\n"
     ]
    },
    {
     "name": "stderr",
     "output_type": "stream",
     "text": [
      " 94%|█████████▍| 1801/1913 [15:16<00:58,  1.90it/s]"
     ]
    },
    {
     "name": "stdout",
     "output_type": "stream",
     "text": [
      "Epoch 22: 94%, loss: 3.986001\n"
     ]
    },
    {
     "name": "stderr",
     "output_type": "stream",
     "text": [
      " 99%|█████████▉| 1901/1913 [16:08<00:06,  1.84it/s]"
     ]
    },
    {
     "name": "stdout",
     "output_type": "stream",
     "text": [
      "Epoch 22: 99%, loss: 2.590727\n"
     ]
    },
    {
     "name": "stderr",
     "output_type": "stream",
     "text": [
      "100%|██████████| 1913/1913 [16:15<00:00,  1.96it/s]"
     ]
    },
    {
     "name": "stdout",
     "output_type": "stream",
     "text": [
      "Epoch 22: 100%, loss: 1.128674\n"
     ]
    },
    {
     "name": "stderr",
     "output_type": "stream",
     "text": [
      "\n"
     ]
    },
    {
     "name": "stdout",
     "output_type": "stream",
     "text": [
      "                      (F1-score: 0.1362, Precision: 0.1417, Recall: 0.1481)\n",
      "\n",
      "                      (NDCG: 0.1274)\n",
      "\n",
      "                      (MAE: 4.5678)\n",
      "\n",
      "train_loss= tensor(3.8424)\n",
      "--------------------\n"
     ]
    },
    {
     "name": "stderr",
     "output_type": "stream",
     "text": [
      "100%|██████████| 239/239 [01:37<00:00,  2.46it/s]\n"
     ]
    },
    {
     "name": "stdout",
     "output_type": "stream",
     "text": [
      "                      (F1-score: 0.1254, Precision: 0.1233, Recall: 0.1451)\n",
      "\n",
      "                      (NDCG: 0.1183)\n",
      "\n",
      "                      (MAE: 4.7024)\n",
      "\n",
      "val_loss= tensor(3.7147)\n",
      "--------------------\n"
     ]
    },
    {
     "name": "stderr",
     "output_type": "stream",
     "text": [
      "100%|██████████| 239/239 [01:38<00:00,  2.42it/s]\n"
     ]
    },
    {
     "name": "stdout",
     "output_type": "stream",
     "text": [
      "                      (F1-score: 0.1275, Precision: 0.1263, Recall: 0.1464)\n",
      "\n",
      "                      (NDCG: 0.1208)\n",
      "\n",
      "                      (MAE: 4.6574)\n",
      "\n",
      "--------------------\n",
      "[[1, 0.1623353763479029, 0.1491197404593984, 0.14532537524112915, 0.12284765203208682, 4.547594142259414, 3.7110097408294678], [2, 0.15772046516846788, 0.15984749277988602, 0.14872346358957772, 0.12935370769571888, 4.446652719665272, 3.663158416748047], [3, 0.13874689593249273, 0.1402540292183393, 0.13108652577809662, 0.12064036479508154, 4.466004184100418, 3.649195432662964], [4, 0.14421510727960513, 0.13138365125596593, 0.12916245400935225, 0.12067114758192246, 4.563807531380753, 3.6025912761688232], [5, 0.1457525628082103, 0.12896472072345194, 0.12862752092220742, 0.12058813618418125, 4.609832635983263, 3.6187639236450195], [6, 0.14388316536847123, 0.13247287190011622, 0.12958150799569937, 0.12088576834512461, 4.530857740585774, 3.592007875442505], [7, 0.13861603116435445, 0.13812669611245082, 0.12982306858132694, 0.11889473345738574, 4.5303347280334725, 3.649562358856201], [8, 0.14109023078951047, 0.13489159116956542, 0.1296105933638906, 0.11981703906035573, 4.506799163179917, 3.5897114276885986], [9, 0.13771442082878968, 0.14077606872550236, 0.1308536880212033, 0.11980852390012108, 4.455020920502092, 3.650421619415283], [10, 0.14477868004973884, 0.12910360860857337, 0.12837432053715717, 0.12060955931650763, 4.570606694560669, 3.607699155807495], [11, 0.14090334660401868, 0.1329712084001304, 0.1283460765493704, 0.11865800575189542, 4.560146443514644, 3.6004252433776855], [12, 0.1431339758766103, 0.13268651171546947, 0.12924682798413475, 0.1197862420961744, 4.556485355648536, 3.5576555728912354], [13, 0.1373661366749993, 0.14009271312424967, 0.13040405768191984, 0.12036775500478543, 4.406380753138075, 3.6152336597442627], [14, 0.14203773816146426, 0.13393652437528342, 0.1294540518833393, 0.11981761121389818, 4.523535564853557, 3.5668959617614746], [15, 0.1409872253962258, 0.13383126981250798, 0.12924971759348747, 0.12105546785795196, 4.445083682008368, 3.556591272354126], [16, 0.14284324462539574, 0.13127688459285564, 0.12861123353336576, 0.120355751630402, 4.53765690376569, 3.5495219230651855], [17, 0.13971277395110332, 0.13939349476142923, 0.13127841574338237, 0.12119204251126826, 4.419456066945607, 3.565661668777466], [18, 0.14152456671333957, 0.1345463183875387, 0.1297823829718727, 0.12095491107744184, 4.467050209205021, 3.5337541103363037], [19, 0.14444578093089058, 0.12854323537326479, 0.1279651555043518, 0.120813321918405, 4.576882845188284, 3.55812406539917], [20, 0.13890993695070125, 0.13722604394778015, 0.12999175195086016, 0.12127070811043288, 4.397489539748954, 3.55085825920105], [21, 0.1401474778028976, 0.1351428376061223, 0.1294940549999616, 0.12153814045155117, 4.423117154811716, 3.534777879714966], [22, 0.14635885573653953, 0.1262772891925459, 0.12751131844702518, 0.1207508603734389, 4.6574267782426775, 3.641136884689331]]\n",
      "-----------------------------------------------------------------------------------------\n"
     ]
    },
    {
     "name": "stderr",
     "output_type": "stream",
     "text": [
      "  0%|          | 1/1913 [00:00<13:36,  2.34it/s]"
     ]
    },
    {
     "name": "stdout",
     "output_type": "stream",
     "text": [
      "Epoch 23: 0%, loss: 1.622250\n"
     ]
    },
    {
     "name": "stderr",
     "output_type": "stream",
     "text": [
      "  5%|▌         | 101/1913 [00:49<14:41,  2.05it/s]"
     ]
    },
    {
     "name": "stdout",
     "output_type": "stream",
     "text": [
      "Epoch 23: 5%, loss: 1.510913\n"
     ]
    },
    {
     "name": "stderr",
     "output_type": "stream",
     "text": [
      " 11%|█         | 201/1913 [01:38<14:22,  1.99it/s]"
     ]
    },
    {
     "name": "stdout",
     "output_type": "stream",
     "text": [
      "Epoch 23: 10%, loss: 7.522249\n"
     ]
    },
    {
     "name": "stderr",
     "output_type": "stream",
     "text": [
      " 16%|█▌        | 301/1913 [02:29<13:42,  1.96it/s]"
     ]
    },
    {
     "name": "stdout",
     "output_type": "stream",
     "text": [
      "Epoch 23: 16%, loss: 3.875212\n"
     ]
    },
    {
     "name": "stderr",
     "output_type": "stream",
     "text": [
      " 21%|██        | 401/1913 [03:19<11:54,  2.12it/s]"
     ]
    },
    {
     "name": "stdout",
     "output_type": "stream",
     "text": [
      "Epoch 23: 21%, loss: 3.741515\n"
     ]
    },
    {
     "name": "stderr",
     "output_type": "stream",
     "text": [
      " 26%|██▌       | 501/1913 [04:09<11:31,  2.04it/s]"
     ]
    },
    {
     "name": "stdout",
     "output_type": "stream",
     "text": [
      "Epoch 23: 26%, loss: 4.742274\n"
     ]
    },
    {
     "name": "stderr",
     "output_type": "stream",
     "text": [
      " 31%|███▏      | 601/1913 [04:58<10:29,  2.08it/s]"
     ]
    },
    {
     "name": "stdout",
     "output_type": "stream",
     "text": [
      "Epoch 23: 31%, loss: 5.421271\n"
     ]
    },
    {
     "name": "stderr",
     "output_type": "stream",
     "text": [
      " 37%|███▋      | 701/1913 [05:48<10:48,  1.87it/s]"
     ]
    },
    {
     "name": "stdout",
     "output_type": "stream",
     "text": [
      "Epoch 23: 37%, loss: 7.151515\n"
     ]
    },
    {
     "name": "stderr",
     "output_type": "stream",
     "text": [
      " 42%|████▏     | 801/1913 [06:39<09:46,  1.90it/s]"
     ]
    },
    {
     "name": "stdout",
     "output_type": "stream",
     "text": [
      "Epoch 23: 42%, loss: 3.363824\n"
     ]
    },
    {
     "name": "stderr",
     "output_type": "stream",
     "text": [
      " 47%|████▋     | 901/1913 [07:29<08:23,  2.01it/s]"
     ]
    },
    {
     "name": "stdout",
     "output_type": "stream",
     "text": [
      "Epoch 23: 47%, loss: 4.112684\n"
     ]
    },
    {
     "name": "stderr",
     "output_type": "stream",
     "text": [
      " 52%|█████▏    | 1001/1913 [08:20<07:42,  1.97it/s]"
     ]
    },
    {
     "name": "stdout",
     "output_type": "stream",
     "text": [
      "Epoch 23: 52%, loss: 3.474979\n"
     ]
    },
    {
     "name": "stderr",
     "output_type": "stream",
     "text": [
      " 58%|█████▊    | 1101/1913 [09:11<07:09,  1.89it/s]"
     ]
    },
    {
     "name": "stdout",
     "output_type": "stream",
     "text": [
      "Epoch 23: 58%, loss: 9.119882\n"
     ]
    },
    {
     "name": "stderr",
     "output_type": "stream",
     "text": [
      " 63%|██████▎   | 1201/1913 [10:03<05:39,  2.10it/s]"
     ]
    },
    {
     "name": "stdout",
     "output_type": "stream",
     "text": [
      "Epoch 23: 63%, loss: 1.642563\n"
     ]
    },
    {
     "name": "stderr",
     "output_type": "stream",
     "text": [
      " 68%|██████▊   | 1301/1913 [10:54<05:10,  1.97it/s]"
     ]
    },
    {
     "name": "stdout",
     "output_type": "stream",
     "text": [
      "Epoch 23: 68%, loss: 4.187394\n"
     ]
    },
    {
     "name": "stderr",
     "output_type": "stream",
     "text": [
      " 73%|███████▎  | 1401/1913 [11:45<04:12,  2.02it/s]"
     ]
    },
    {
     "name": "stdout",
     "output_type": "stream",
     "text": [
      "Epoch 23: 73%, loss: 6.562497\n"
     ]
    },
    {
     "name": "stderr",
     "output_type": "stream",
     "text": [
      " 78%|███████▊  | 1501/1913 [12:37<03:32,  1.94it/s]"
     ]
    },
    {
     "name": "stdout",
     "output_type": "stream",
     "text": [
      "Epoch 23: 78%, loss: 3.270461\n"
     ]
    },
    {
     "name": "stderr",
     "output_type": "stream",
     "text": [
      " 84%|████████▎ | 1601/1913 [13:29<02:48,  1.85it/s]"
     ]
    },
    {
     "name": "stdout",
     "output_type": "stream",
     "text": [
      "Epoch 23: 84%, loss: 2.444278\n"
     ]
    },
    {
     "name": "stderr",
     "output_type": "stream",
     "text": [
      " 89%|████████▉ | 1701/1913 [14:22<01:52,  1.88it/s]"
     ]
    },
    {
     "name": "stdout",
     "output_type": "stream",
     "text": [
      "Epoch 23: 89%, loss: 2.582292\n"
     ]
    },
    {
     "name": "stderr",
     "output_type": "stream",
     "text": [
      " 94%|█████████▍| 1801/1913 [15:15<00:59,  1.89it/s]"
     ]
    },
    {
     "name": "stdout",
     "output_type": "stream",
     "text": [
      "Epoch 23: 94%, loss: 5.159502\n"
     ]
    },
    {
     "name": "stderr",
     "output_type": "stream",
     "text": [
      " 99%|█████████▉| 1901/1913 [16:08<00:06,  1.87it/s]"
     ]
    },
    {
     "name": "stdout",
     "output_type": "stream",
     "text": [
      "Epoch 23: 99%, loss: 2.268713\n"
     ]
    },
    {
     "name": "stderr",
     "output_type": "stream",
     "text": [
      "100%|██████████| 1913/1913 [16:14<00:00,  1.96it/s]"
     ]
    },
    {
     "name": "stdout",
     "output_type": "stream",
     "text": [
      "Epoch 23: 100%, loss: 2.061464\n"
     ]
    },
    {
     "name": "stderr",
     "output_type": "stream",
     "text": [
      "\n"
     ]
    },
    {
     "name": "stdout",
     "output_type": "stream",
     "text": [
      "                      (F1-score: 0.1364, Precision: 0.1420, Recall: 0.1480)\n",
      "\n",
      "                      (NDCG: 0.1275)\n",
      "\n",
      "                      (MAE: 4.5466)\n",
      "\n",
      "train_loss= tensor(3.8058)\n",
      "--------------------\n"
     ]
    },
    {
     "name": "stderr",
     "output_type": "stream",
     "text": [
      "100%|██████████| 239/239 [01:36<00:00,  2.47it/s]\n"
     ]
    },
    {
     "name": "stdout",
     "output_type": "stream",
     "text": [
      "                      (F1-score: 0.1258, Precision: 0.1239, Recall: 0.1454)\n",
      "\n",
      "                      (NDCG: 0.1178)\n",
      "\n",
      "                      (MAE: 4.7082)\n",
      "\n",
      "val_loss= tensor(3.7052)\n",
      "--------------------\n"
     ]
    },
    {
     "name": "stderr",
     "output_type": "stream",
     "text": [
      "100%|██████████| 239/239 [01:38<00:00,  2.42it/s]\n"
     ]
    },
    {
     "name": "stdout",
     "output_type": "stream",
     "text": [
      "                      (F1-score: 0.1280, Precision: 0.1268, Recall: 0.1469)\n",
      "\n",
      "                      (NDCG: 0.1210)\n",
      "\n",
      "                      (MAE: 4.6606)\n",
      "\n",
      "--------------------\n",
      "[[1, 0.1623353763479029, 0.1491197404593984, 0.14532537524112915, 0.12284765203208682, 4.547594142259414, 3.7110097408294678], [2, 0.15772046516846788, 0.15984749277988602, 0.14872346358957772, 0.12935370769571888, 4.446652719665272, 3.663158416748047], [3, 0.13874689593249273, 0.1402540292183393, 0.13108652577809662, 0.12064036479508154, 4.466004184100418, 3.649195432662964], [4, 0.14421510727960513, 0.13138365125596593, 0.12916245400935225, 0.12067114758192246, 4.563807531380753, 3.6025912761688232], [5, 0.1457525628082103, 0.12896472072345194, 0.12862752092220742, 0.12058813618418125, 4.609832635983263, 3.6187639236450195], [6, 0.14388316536847123, 0.13247287190011622, 0.12958150799569937, 0.12088576834512461, 4.530857740585774, 3.592007875442505], [7, 0.13861603116435445, 0.13812669611245082, 0.12982306858132694, 0.11889473345738574, 4.5303347280334725, 3.649562358856201], [8, 0.14109023078951047, 0.13489159116956542, 0.1296105933638906, 0.11981703906035573, 4.506799163179917, 3.5897114276885986], [9, 0.13771442082878968, 0.14077606872550236, 0.1308536880212033, 0.11980852390012108, 4.455020920502092, 3.650421619415283], [10, 0.14477868004973884, 0.12910360860857337, 0.12837432053715717, 0.12060955931650763, 4.570606694560669, 3.607699155807495], [11, 0.14090334660401868, 0.1329712084001304, 0.1283460765493704, 0.11865800575189542, 4.560146443514644, 3.6004252433776855], [12, 0.1431339758766103, 0.13268651171546947, 0.12924682798413475, 0.1197862420961744, 4.556485355648536, 3.5576555728912354], [13, 0.1373661366749993, 0.14009271312424967, 0.13040405768191984, 0.12036775500478543, 4.406380753138075, 3.6152336597442627], [14, 0.14203773816146426, 0.13393652437528342, 0.1294540518833393, 0.11981761121389818, 4.523535564853557, 3.5668959617614746], [15, 0.1409872253962258, 0.13383126981250798, 0.12924971759348747, 0.12105546785795196, 4.445083682008368, 3.556591272354126], [16, 0.14284324462539574, 0.13127688459285564, 0.12861123353336576, 0.120355751630402, 4.53765690376569, 3.5495219230651855], [17, 0.13971277395110332, 0.13939349476142923, 0.13127841574338237, 0.12119204251126826, 4.419456066945607, 3.565661668777466], [18, 0.14152456671333957, 0.1345463183875387, 0.1297823829718727, 0.12095491107744184, 4.467050209205021, 3.5337541103363037], [19, 0.14444578093089058, 0.12854323537326479, 0.1279651555043518, 0.120813321918405, 4.576882845188284, 3.55812406539917], [20, 0.13890993695070125, 0.13722604394778015, 0.12999175195086016, 0.12127070811043288, 4.397489539748954, 3.55085825920105], [21, 0.1401474778028976, 0.1351428376061223, 0.1294940549999616, 0.12153814045155117, 4.423117154811716, 3.534777879714966], [22, 0.14635885573653953, 0.1262772891925459, 0.12751131844702518, 0.1207508603734389, 4.6574267782426775, 3.641136884689331], [23, 0.14687565479442571, 0.12683218156466713, 0.12801848964090165, 0.12100770445852287, 4.660564853556485, 3.631561756134033]]\n",
      "-----------------------------------------------------------------------------------------\n"
     ]
    },
    {
     "name": "stderr",
     "output_type": "stream",
     "text": [
      "  0%|          | 1/1913 [00:00<14:54,  2.14it/s]"
     ]
    },
    {
     "name": "stdout",
     "output_type": "stream",
     "text": [
      "Epoch 24: 0%, loss: 7.263120\n"
     ]
    },
    {
     "name": "stderr",
     "output_type": "stream",
     "text": [
      "  5%|▌         | 101/1913 [00:49<14:28,  2.09it/s]"
     ]
    },
    {
     "name": "stdout",
     "output_type": "stream",
     "text": [
      "Epoch 24: 5%, loss: 1.644376\n"
     ]
    },
    {
     "name": "stderr",
     "output_type": "stream",
     "text": [
      " 11%|█         | 201/1913 [01:40<13:01,  2.19it/s]"
     ]
    },
    {
     "name": "stdout",
     "output_type": "stream",
     "text": [
      "Epoch 24: 10%, loss: 2.646354\n"
     ]
    },
    {
     "name": "stderr",
     "output_type": "stream",
     "text": [
      " 16%|█▌        | 301/1913 [02:30<13:27,  2.00it/s]"
     ]
    },
    {
     "name": "stdout",
     "output_type": "stream",
     "text": [
      "Epoch 24: 16%, loss: 1.292511\n"
     ]
    },
    {
     "name": "stderr",
     "output_type": "stream",
     "text": [
      " 21%|██        | 401/1913 [03:19<11:38,  2.17it/s]"
     ]
    },
    {
     "name": "stdout",
     "output_type": "stream",
     "text": [
      "Epoch 24: 21%, loss: 2.718088\n"
     ]
    },
    {
     "name": "stderr",
     "output_type": "stream",
     "text": [
      " 26%|██▌       | 501/1913 [04:09<11:37,  2.03it/s]"
     ]
    },
    {
     "name": "stdout",
     "output_type": "stream",
     "text": [
      "Epoch 24: 26%, loss: 2.117827\n"
     ]
    },
    {
     "name": "stderr",
     "output_type": "stream",
     "text": [
      " 31%|███▏      | 601/1913 [04:59<10:55,  2.00it/s]"
     ]
    },
    {
     "name": "stdout",
     "output_type": "stream",
     "text": [
      "Epoch 24: 31%, loss: 3.221136\n"
     ]
    },
    {
     "name": "stderr",
     "output_type": "stream",
     "text": [
      " 37%|███▋      | 701/1913 [05:49<10:30,  1.92it/s]"
     ]
    },
    {
     "name": "stdout",
     "output_type": "stream",
     "text": [
      "Epoch 24: 37%, loss: 1.624898\n"
     ]
    },
    {
     "name": "stderr",
     "output_type": "stream",
     "text": [
      " 42%|████▏     | 801/1913 [06:40<09:09,  2.02it/s]"
     ]
    },
    {
     "name": "stdout",
     "output_type": "stream",
     "text": [
      "Epoch 24: 42%, loss: 8.824838\n"
     ]
    },
    {
     "name": "stderr",
     "output_type": "stream",
     "text": [
      " 47%|████▋     | 901/1913 [07:30<08:12,  2.05it/s]"
     ]
    },
    {
     "name": "stdout",
     "output_type": "stream",
     "text": [
      "Epoch 24: 47%, loss: 0.971066\n"
     ]
    },
    {
     "name": "stderr",
     "output_type": "stream",
     "text": [
      " 52%|█████▏    | 1001/1913 [08:21<08:04,  1.88it/s]"
     ]
    },
    {
     "name": "stdout",
     "output_type": "stream",
     "text": [
      "Epoch 24: 52%, loss: 1.731373\n"
     ]
    },
    {
     "name": "stderr",
     "output_type": "stream",
     "text": [
      " 58%|█████▊    | 1101/1913 [09:12<06:51,  1.97it/s]"
     ]
    },
    {
     "name": "stdout",
     "output_type": "stream",
     "text": [
      "Epoch 24: 58%, loss: 1.462944\n"
     ]
    },
    {
     "name": "stderr",
     "output_type": "stream",
     "text": [
      " 63%|██████▎   | 1201/1913 [10:04<06:06,  1.94it/s]"
     ]
    },
    {
     "name": "stdout",
     "output_type": "stream",
     "text": [
      "Epoch 24: 63%, loss: 3.736748\n"
     ]
    },
    {
     "name": "stderr",
     "output_type": "stream",
     "text": [
      " 68%|██████▊   | 1301/1913 [10:55<05:11,  1.97it/s]"
     ]
    },
    {
     "name": "stdout",
     "output_type": "stream",
     "text": [
      "Epoch 24: 68%, loss: 2.962996\n"
     ]
    },
    {
     "name": "stderr",
     "output_type": "stream",
     "text": [
      " 73%|███████▎  | 1401/1913 [11:46<04:14,  2.01it/s]"
     ]
    },
    {
     "name": "stdout",
     "output_type": "stream",
     "text": [
      "Epoch 24: 73%, loss: 0.918573\n"
     ]
    },
    {
     "name": "stderr",
     "output_type": "stream",
     "text": [
      " 78%|███████▊  | 1501/1913 [12:38<03:30,  1.95it/s]"
     ]
    },
    {
     "name": "stdout",
     "output_type": "stream",
     "text": [
      "Epoch 24: 78%, loss: 6.151893\n"
     ]
    },
    {
     "name": "stderr",
     "output_type": "stream",
     "text": [
      " 84%|████████▎ | 1601/1913 [13:29<02:34,  2.01it/s]"
     ]
    },
    {
     "name": "stdout",
     "output_type": "stream",
     "text": [
      "Epoch 24: 84%, loss: 1.426484\n"
     ]
    },
    {
     "name": "stderr",
     "output_type": "stream",
     "text": [
      " 89%|████████▉ | 1701/1913 [14:21<01:47,  1.97it/s]"
     ]
    },
    {
     "name": "stdout",
     "output_type": "stream",
     "text": [
      "Epoch 24: 89%, loss: 2.020435\n"
     ]
    },
    {
     "name": "stderr",
     "output_type": "stream",
     "text": [
      " 94%|█████████▍| 1801/1913 [15:14<01:01,  1.83it/s]"
     ]
    },
    {
     "name": "stdout",
     "output_type": "stream",
     "text": [
      "Epoch 24: 94%, loss: 1.506650\n"
     ]
    },
    {
     "name": "stderr",
     "output_type": "stream",
     "text": [
      " 99%|█████████▉| 1901/1913 [16:07<00:06,  1.91it/s]"
     ]
    },
    {
     "name": "stdout",
     "output_type": "stream",
     "text": [
      "Epoch 24: 99%, loss: 3.143384\n"
     ]
    },
    {
     "name": "stderr",
     "output_type": "stream",
     "text": [
      "100%|██████████| 1913/1913 [16:13<00:00,  1.96it/s]"
     ]
    },
    {
     "name": "stdout",
     "output_type": "stream",
     "text": [
      "Epoch 24: 100%, loss: 1.709834\n"
     ]
    },
    {
     "name": "stderr",
     "output_type": "stream",
     "text": [
      "\n"
     ]
    },
    {
     "name": "stdout",
     "output_type": "stream",
     "text": [
      "                      (F1-score: 0.1365, Precision: 0.1424, Recall: 0.1479)\n",
      "\n",
      "                      (NDCG: 0.1277)\n",
      "\n",
      "                      (MAE: 4.5409)\n",
      "\n",
      "train_loss= tensor(3.7822)\n",
      "--------------------\n"
     ]
    },
    {
     "name": "stderr",
     "output_type": "stream",
     "text": [
      "100%|██████████| 239/239 [01:36<00:00,  2.47it/s]\n"
     ]
    },
    {
     "name": "stdout",
     "output_type": "stream",
     "text": [
      "                      (F1-score: 0.1290, Precision: 0.1346, Recall: 0.1405)\n",
      "\n",
      "                      (NDCG: 0.1188)\n",
      "\n",
      "                      (MAE: 4.5183)\n",
      "\n",
      "val_loss= tensor(3.6076)\n",
      "--------------------\n"
     ]
    },
    {
     "name": "stderr",
     "output_type": "stream",
     "text": [
      "100%|██████████| 239/239 [01:38<00:00,  2.43it/s]\n"
     ]
    },
    {
     "name": "stdout",
     "output_type": "stream",
     "text": [
      "                      (F1-score: 0.1296, Precision: 0.1369, Recall: 0.1397)\n",
      "\n",
      "                      (NDCG: 0.1199)\n",
      "\n",
      "                      (MAE: 4.5350)\n",
      "\n",
      "--------------------\n",
      "[[1, 0.1623353763479029, 0.1491197404593984, 0.14532537524112915, 0.12284765203208682, 4.547594142259414, 3.7110097408294678], [2, 0.15772046516846788, 0.15984749277988602, 0.14872346358957772, 0.12935370769571888, 4.446652719665272, 3.663158416748047], [3, 0.13874689593249273, 0.1402540292183393, 0.13108652577809662, 0.12064036479508154, 4.466004184100418, 3.649195432662964], [4, 0.14421510727960513, 0.13138365125596593, 0.12916245400935225, 0.12067114758192246, 4.563807531380753, 3.6025912761688232], [5, 0.1457525628082103, 0.12896472072345194, 0.12862752092220742, 0.12058813618418125, 4.609832635983263, 3.6187639236450195], [6, 0.14388316536847123, 0.13247287190011622, 0.12958150799569937, 0.12088576834512461, 4.530857740585774, 3.592007875442505], [7, 0.13861603116435445, 0.13812669611245082, 0.12982306858132694, 0.11889473345738574, 4.5303347280334725, 3.649562358856201], [8, 0.14109023078951047, 0.13489159116956542, 0.1296105933638906, 0.11981703906035573, 4.506799163179917, 3.5897114276885986], [9, 0.13771442082878968, 0.14077606872550236, 0.1308536880212033, 0.11980852390012108, 4.455020920502092, 3.650421619415283], [10, 0.14477868004973884, 0.12910360860857337, 0.12837432053715717, 0.12060955931650763, 4.570606694560669, 3.607699155807495], [11, 0.14090334660401868, 0.1329712084001304, 0.1283460765493704, 0.11865800575189542, 4.560146443514644, 3.6004252433776855], [12, 0.1431339758766103, 0.13268651171546947, 0.12924682798413475, 0.1197862420961744, 4.556485355648536, 3.5576555728912354], [13, 0.1373661366749993, 0.14009271312424967, 0.13040405768191984, 0.12036775500478543, 4.406380753138075, 3.6152336597442627], [14, 0.14203773816146426, 0.13393652437528342, 0.1294540518833393, 0.11981761121389818, 4.523535564853557, 3.5668959617614746], [15, 0.1409872253962258, 0.13383126981250798, 0.12924971759348747, 0.12105546785795196, 4.445083682008368, 3.556591272354126], [16, 0.14284324462539574, 0.13127688459285564, 0.12861123353336576, 0.120355751630402, 4.53765690376569, 3.5495219230651855], [17, 0.13971277395110332, 0.13939349476142923, 0.13127841574338237, 0.12119204251126826, 4.419456066945607, 3.565661668777466], [18, 0.14152456671333957, 0.1345463183875387, 0.1297823829718727, 0.12095491107744184, 4.467050209205021, 3.5337541103363037], [19, 0.14444578093089058, 0.12854323537326479, 0.1279651555043518, 0.120813321918405, 4.576882845188284, 3.55812406539917], [20, 0.13890993695070125, 0.13722604394778015, 0.12999175195086016, 0.12127070811043288, 4.397489539748954, 3.55085825920105], [21, 0.1401474778028976, 0.1351428376061223, 0.1294940549999616, 0.12153814045155117, 4.423117154811716, 3.534777879714966], [22, 0.14635885573653953, 0.1262772891925459, 0.12751131844702518, 0.1207508603734389, 4.6574267782426775, 3.641136884689331], [23, 0.14687565479442571, 0.12683218156466713, 0.12801848964090165, 0.12100770445852287, 4.660564853556485, 3.631561756134033], [24, 0.13970044978758797, 0.1368777872349955, 0.12959803075177145, 0.11987913236758481, 4.535041841004184, 3.571141481399536]]\n",
      "-----------------------------------------------------------------------------------------\n"
     ]
    },
    {
     "name": "stderr",
     "output_type": "stream",
     "text": [
      "  0%|          | 1/1913 [00:00<18:33,  1.72it/s]"
     ]
    },
    {
     "name": "stdout",
     "output_type": "stream",
     "text": [
      "Epoch 25: 0%, loss: 2.090272\n"
     ]
    },
    {
     "name": "stderr",
     "output_type": "stream",
     "text": [
      "  5%|▌         | 101/1913 [00:50<13:52,  2.18it/s]"
     ]
    },
    {
     "name": "stdout",
     "output_type": "stream",
     "text": [
      "Epoch 25: 5%, loss: 1.983534\n"
     ]
    },
    {
     "name": "stderr",
     "output_type": "stream",
     "text": [
      " 11%|█         | 201/1913 [01:39<13:51,  2.06it/s]"
     ]
    },
    {
     "name": "stdout",
     "output_type": "stream",
     "text": [
      "Epoch 25: 10%, loss: 3.953080\n"
     ]
    },
    {
     "name": "stderr",
     "output_type": "stream",
     "text": [
      " 16%|█▌        | 301/1913 [02:29<13:40,  1.96it/s]"
     ]
    },
    {
     "name": "stdout",
     "output_type": "stream",
     "text": [
      "Epoch 25: 16%, loss: 4.900121\n"
     ]
    },
    {
     "name": "stderr",
     "output_type": "stream",
     "text": [
      " 21%|██        | 401/1913 [03:19<11:43,  2.15it/s]"
     ]
    },
    {
     "name": "stdout",
     "output_type": "stream",
     "text": [
      "Epoch 25: 21%, loss: 2.192188\n"
     ]
    },
    {
     "name": "stderr",
     "output_type": "stream",
     "text": [
      " 26%|██▌       | 501/1913 [04:10<11:28,  2.05it/s]"
     ]
    },
    {
     "name": "stdout",
     "output_type": "stream",
     "text": [
      "Epoch 25: 26%, loss: 9.578378\n"
     ]
    },
    {
     "name": "stderr",
     "output_type": "stream",
     "text": [
      " 31%|███▏      | 601/1913 [05:00<11:01,  1.98it/s]"
     ]
    },
    {
     "name": "stdout",
     "output_type": "stream",
     "text": [
      "Epoch 25: 31%, loss: 2.521460\n"
     ]
    },
    {
     "name": "stderr",
     "output_type": "stream",
     "text": [
      " 37%|███▋      | 701/1913 [05:50<10:01,  2.01it/s]"
     ]
    },
    {
     "name": "stdout",
     "output_type": "stream",
     "text": [
      "Epoch 25: 37%, loss: 3.288707\n"
     ]
    },
    {
     "name": "stderr",
     "output_type": "stream",
     "text": [
      " 42%|████▏     | 801/1913 [06:41<09:48,  1.89it/s]"
     ]
    },
    {
     "name": "stdout",
     "output_type": "stream",
     "text": [
      "Epoch 25: 42%, loss: 4.127858\n"
     ]
    },
    {
     "name": "stderr",
     "output_type": "stream",
     "text": [
      " 47%|████▋     | 901/1913 [07:32<08:43,  1.93it/s]"
     ]
    },
    {
     "name": "stdout",
     "output_type": "stream",
     "text": [
      "Epoch 25: 47%, loss: 12.953112\n"
     ]
    },
    {
     "name": "stderr",
     "output_type": "stream",
     "text": [
      " 52%|█████▏    | 1001/1913 [08:22<07:52,  1.93it/s]"
     ]
    },
    {
     "name": "stdout",
     "output_type": "stream",
     "text": [
      "Epoch 25: 52%, loss: 1.474880\n"
     ]
    },
    {
     "name": "stderr",
     "output_type": "stream",
     "text": [
      " 58%|█████▊    | 1101/1913 [09:13<06:28,  2.09it/s]"
     ]
    },
    {
     "name": "stdout",
     "output_type": "stream",
     "text": [
      "Epoch 25: 58%, loss: 1.494780\n"
     ]
    },
    {
     "name": "stderr",
     "output_type": "stream",
     "text": [
      " 63%|██████▎   | 1201/1913 [10:04<05:36,  2.12it/s]"
     ]
    },
    {
     "name": "stdout",
     "output_type": "stream",
     "text": [
      "Epoch 25: 63%, loss: 6.891895\n"
     ]
    },
    {
     "name": "stderr",
     "output_type": "stream",
     "text": [
      " 68%|██████▊   | 1301/1913 [10:55<05:56,  1.72it/s]"
     ]
    },
    {
     "name": "stdout",
     "output_type": "stream",
     "text": [
      "Epoch 25: 68%, loss: 5.497108\n"
     ]
    },
    {
     "name": "stderr",
     "output_type": "stream",
     "text": [
      " 73%|███████▎  | 1401/1913 [11:47<04:33,  1.87it/s]"
     ]
    },
    {
     "name": "stdout",
     "output_type": "stream",
     "text": [
      "Epoch 25: 73%, loss: 5.175562\n"
     ]
    },
    {
     "name": "stderr",
     "output_type": "stream",
     "text": [
      " 78%|███████▊  | 1501/1913 [12:39<03:25,  2.00it/s]"
     ]
    },
    {
     "name": "stdout",
     "output_type": "stream",
     "text": [
      "Epoch 25: 78%, loss: 2.241995\n"
     ]
    },
    {
     "name": "stderr",
     "output_type": "stream",
     "text": [
      " 84%|████████▎ | 1601/1913 [13:31<02:42,  1.92it/s]"
     ]
    },
    {
     "name": "stdout",
     "output_type": "stream",
     "text": [
      "Epoch 25: 84%, loss: 1.673436\n"
     ]
    },
    {
     "name": "stderr",
     "output_type": "stream",
     "text": [
      " 89%|████████▉ | 1701/1913 [14:23<01:48,  1.95it/s]"
     ]
    },
    {
     "name": "stdout",
     "output_type": "stream",
     "text": [
      "Epoch 25: 89%, loss: 1.531933\n"
     ]
    },
    {
     "name": "stderr",
     "output_type": "stream",
     "text": [
      " 94%|█████████▍| 1801/1913 [15:15<00:56,  2.00it/s]"
     ]
    },
    {
     "name": "stdout",
     "output_type": "stream",
     "text": [
      "Epoch 25: 94%, loss: 11.837576\n"
     ]
    },
    {
     "name": "stderr",
     "output_type": "stream",
     "text": [
      " 99%|█████████▉| 1901/1913 [16:07<00:06,  1.87it/s]"
     ]
    },
    {
     "name": "stdout",
     "output_type": "stream",
     "text": [
      "Epoch 25: 99%, loss: 8.571599\n"
     ]
    },
    {
     "name": "stderr",
     "output_type": "stream",
     "text": [
      "100%|██████████| 1913/1913 [16:14<00:00,  1.96it/s]"
     ]
    },
    {
     "name": "stdout",
     "output_type": "stream",
     "text": [
      "Epoch 25: 100%, loss: 2.467657\n"
     ]
    },
    {
     "name": "stderr",
     "output_type": "stream",
     "text": [
      "\n"
     ]
    },
    {
     "name": "stdout",
     "output_type": "stream",
     "text": [
      "                      (F1-score: 0.1372, Precision: 0.1430, Recall: 0.1486)\n",
      "\n",
      "                      (NDCG: 0.1284)\n",
      "\n",
      "                      (MAE: 4.5123)\n",
      "\n",
      "train_loss= tensor(3.7469)\n",
      "--------------------\n"
     ]
    },
    {
     "name": "stderr",
     "output_type": "stream",
     "text": [
      "100%|██████████| 239/239 [01:36<00:00,  2.47it/s]\n"
     ]
    },
    {
     "name": "stdout",
     "output_type": "stream",
     "text": [
      "                      (F1-score: 0.1277, Precision: 0.1292, Recall: 0.1436)\n",
      "\n",
      "                      (NDCG: 0.1192)\n",
      "\n",
      "                      (MAE: 4.6428)\n",
      "\n",
      "val_loss= tensor(3.7423)\n",
      "--------------------\n"
     ]
    },
    {
     "name": "stderr",
     "output_type": "stream",
     "text": [
      "100%|██████████| 239/239 [01:38<00:00,  2.42it/s]\n"
     ]
    },
    {
     "name": "stdout",
     "output_type": "stream",
     "text": [
      "                      (F1-score: 0.1291, Precision: 0.1316, Recall: 0.1441)\n",
      "\n",
      "                      (NDCG: 0.1219)\n",
      "\n",
      "                      (MAE: 4.6234)\n",
      "\n",
      "--------------------\n",
      "[[1, 0.1623353763479029, 0.1491197404593984, 0.14532537524112915, 0.12284765203208682, 4.547594142259414, 3.7110097408294678], [2, 0.15772046516846788, 0.15984749277988602, 0.14872346358957772, 0.12935370769571888, 4.446652719665272, 3.663158416748047], [3, 0.13874689593249273, 0.1402540292183393, 0.13108652577809662, 0.12064036479508154, 4.466004184100418, 3.649195432662964], [4, 0.14421510727960513, 0.13138365125596593, 0.12916245400935225, 0.12067114758192246, 4.563807531380753, 3.6025912761688232], [5, 0.1457525628082103, 0.12896472072345194, 0.12862752092220742, 0.12058813618418125, 4.609832635983263, 3.6187639236450195], [6, 0.14388316536847123, 0.13247287190011622, 0.12958150799569937, 0.12088576834512461, 4.530857740585774, 3.592007875442505], [7, 0.13861603116435445, 0.13812669611245082, 0.12982306858132694, 0.11889473345738574, 4.5303347280334725, 3.649562358856201], [8, 0.14109023078951047, 0.13489159116956542, 0.1296105933638906, 0.11981703906035573, 4.506799163179917, 3.5897114276885986], [9, 0.13771442082878968, 0.14077606872550236, 0.1308536880212033, 0.11980852390012108, 4.455020920502092, 3.650421619415283], [10, 0.14477868004973884, 0.12910360860857337, 0.12837432053715717, 0.12060955931650763, 4.570606694560669, 3.607699155807495], [11, 0.14090334660401868, 0.1329712084001304, 0.1283460765493704, 0.11865800575189542, 4.560146443514644, 3.6004252433776855], [12, 0.1431339758766103, 0.13268651171546947, 0.12924682798413475, 0.1197862420961744, 4.556485355648536, 3.5576555728912354], [13, 0.1373661366749993, 0.14009271312424967, 0.13040405768191984, 0.12036775500478543, 4.406380753138075, 3.6152336597442627], [14, 0.14203773816146426, 0.13393652437528342, 0.1294540518833393, 0.11981761121389818, 4.523535564853557, 3.5668959617614746], [15, 0.1409872253962258, 0.13383126981250798, 0.12924971759348747, 0.12105546785795196, 4.445083682008368, 3.556591272354126], [16, 0.14284324462539574, 0.13127688459285564, 0.12861123353336576, 0.120355751630402, 4.53765690376569, 3.5495219230651855], [17, 0.13971277395110332, 0.13939349476142923, 0.13127841574338237, 0.12119204251126826, 4.419456066945607, 3.565661668777466], [18, 0.14152456671333957, 0.1345463183875387, 0.1297823829718727, 0.12095491107744184, 4.467050209205021, 3.5337541103363037], [19, 0.14444578093089058, 0.12854323537326479, 0.1279651555043518, 0.120813321918405, 4.576882845188284, 3.55812406539917], [20, 0.13890993695070125, 0.13722604394778015, 0.12999175195086016, 0.12127070811043288, 4.397489539748954, 3.55085825920105], [21, 0.1401474778028976, 0.1351428376061223, 0.1294940549999616, 0.12153814045155117, 4.423117154811716, 3.534777879714966], [22, 0.14635885573653953, 0.1262772891925459, 0.12751131844702518, 0.1207508603734389, 4.6574267782426775, 3.641136884689331], [23, 0.14687565479442571, 0.12683218156466713, 0.12801848964090165, 0.12100770445852287, 4.660564853556485, 3.631561756134033], [24, 0.13970044978758797, 0.1368777872349955, 0.12959803075177145, 0.11987913236758481, 4.535041841004184, 3.571141481399536], [25, 0.14405616502475907, 0.13161069822079696, 0.12910106710664765, 0.12192418006546873, 4.623430962343096, 3.683464288711548]]\n",
      "-----------------------------------------------------------------------------------------\n"
     ]
    },
    {
     "data": {
      "text/html": [
       "<div>\n",
       "<style scoped>\n",
       "    .dataframe tbody tr th:only-of-type {\n",
       "        vertical-align: middle;\n",
       "    }\n",
       "\n",
       "    .dataframe tbody tr th {\n",
       "        vertical-align: top;\n",
       "    }\n",
       "\n",
       "    .dataframe thead th {\n",
       "        text-align: right;\n",
       "    }\n",
       "</style>\n",
       "<table border=\"1\" class=\"dataframe\">\n",
       "  <thead>\n",
       "    <tr style=\"text-align: right;\">\n",
       "      <th></th>\n",
       "      <th>Epoch</th>\n",
       "      <th>Recall</th>\n",
       "      <th>Precision</th>\n",
       "      <th>F1-score</th>\n",
       "      <th>NDCG</th>\n",
       "      <th>MAE</th>\n",
       "      <th>Loss</th>\n",
       "    </tr>\n",
       "  </thead>\n",
       "  <tbody>\n",
       "    <tr>\n",
       "      <th>0</th>\n",
       "      <td>1</td>\n",
       "      <td>0.162335</td>\n",
       "      <td>0.149120</td>\n",
       "      <td>0.145325</td>\n",
       "      <td>0.122848</td>\n",
       "      <td>4.547594</td>\n",
       "      <td>3.711010</td>\n",
       "    </tr>\n",
       "    <tr>\n",
       "      <th>1</th>\n",
       "      <td>2</td>\n",
       "      <td>0.157720</td>\n",
       "      <td>0.159847</td>\n",
       "      <td>0.148723</td>\n",
       "      <td>0.129354</td>\n",
       "      <td>4.446653</td>\n",
       "      <td>3.663158</td>\n",
       "    </tr>\n",
       "    <tr>\n",
       "      <th>2</th>\n",
       "      <td>3</td>\n",
       "      <td>0.138747</td>\n",
       "      <td>0.140254</td>\n",
       "      <td>0.131087</td>\n",
       "      <td>0.120640</td>\n",
       "      <td>4.466004</td>\n",
       "      <td>3.649195</td>\n",
       "    </tr>\n",
       "    <tr>\n",
       "      <th>3</th>\n",
       "      <td>4</td>\n",
       "      <td>0.144215</td>\n",
       "      <td>0.131384</td>\n",
       "      <td>0.129162</td>\n",
       "      <td>0.120671</td>\n",
       "      <td>4.563808</td>\n",
       "      <td>3.602591</td>\n",
       "    </tr>\n",
       "    <tr>\n",
       "      <th>4</th>\n",
       "      <td>5</td>\n",
       "      <td>0.145753</td>\n",
       "      <td>0.128965</td>\n",
       "      <td>0.128628</td>\n",
       "      <td>0.120588</td>\n",
       "      <td>4.609833</td>\n",
       "      <td>3.618764</td>\n",
       "    </tr>\n",
       "    <tr>\n",
       "      <th>5</th>\n",
       "      <td>6</td>\n",
       "      <td>0.143883</td>\n",
       "      <td>0.132473</td>\n",
       "      <td>0.129582</td>\n",
       "      <td>0.120886</td>\n",
       "      <td>4.530858</td>\n",
       "      <td>3.592008</td>\n",
       "    </tr>\n",
       "    <tr>\n",
       "      <th>6</th>\n",
       "      <td>7</td>\n",
       "      <td>0.138616</td>\n",
       "      <td>0.138127</td>\n",
       "      <td>0.129823</td>\n",
       "      <td>0.118895</td>\n",
       "      <td>4.530335</td>\n",
       "      <td>3.649562</td>\n",
       "    </tr>\n",
       "    <tr>\n",
       "      <th>7</th>\n",
       "      <td>8</td>\n",
       "      <td>0.141090</td>\n",
       "      <td>0.134892</td>\n",
       "      <td>0.129611</td>\n",
       "      <td>0.119817</td>\n",
       "      <td>4.506799</td>\n",
       "      <td>3.589711</td>\n",
       "    </tr>\n",
       "    <tr>\n",
       "      <th>8</th>\n",
       "      <td>9</td>\n",
       "      <td>0.137714</td>\n",
       "      <td>0.140776</td>\n",
       "      <td>0.130854</td>\n",
       "      <td>0.119809</td>\n",
       "      <td>4.455021</td>\n",
       "      <td>3.650422</td>\n",
       "    </tr>\n",
       "    <tr>\n",
       "      <th>9</th>\n",
       "      <td>10</td>\n",
       "      <td>0.144779</td>\n",
       "      <td>0.129104</td>\n",
       "      <td>0.128374</td>\n",
       "      <td>0.120610</td>\n",
       "      <td>4.570607</td>\n",
       "      <td>3.607699</td>\n",
       "    </tr>\n",
       "    <tr>\n",
       "      <th>10</th>\n",
       "      <td>11</td>\n",
       "      <td>0.140903</td>\n",
       "      <td>0.132971</td>\n",
       "      <td>0.128346</td>\n",
       "      <td>0.118658</td>\n",
       "      <td>4.560146</td>\n",
       "      <td>3.600425</td>\n",
       "    </tr>\n",
       "    <tr>\n",
       "      <th>11</th>\n",
       "      <td>12</td>\n",
       "      <td>0.143134</td>\n",
       "      <td>0.132687</td>\n",
       "      <td>0.129247</td>\n",
       "      <td>0.119786</td>\n",
       "      <td>4.556485</td>\n",
       "      <td>3.557656</td>\n",
       "    </tr>\n",
       "    <tr>\n",
       "      <th>12</th>\n",
       "      <td>13</td>\n",
       "      <td>0.137366</td>\n",
       "      <td>0.140093</td>\n",
       "      <td>0.130404</td>\n",
       "      <td>0.120368</td>\n",
       "      <td>4.406381</td>\n",
       "      <td>3.615234</td>\n",
       "    </tr>\n",
       "    <tr>\n",
       "      <th>13</th>\n",
       "      <td>14</td>\n",
       "      <td>0.142038</td>\n",
       "      <td>0.133937</td>\n",
       "      <td>0.129454</td>\n",
       "      <td>0.119818</td>\n",
       "      <td>4.523536</td>\n",
       "      <td>3.566896</td>\n",
       "    </tr>\n",
       "    <tr>\n",
       "      <th>14</th>\n",
       "      <td>15</td>\n",
       "      <td>0.140987</td>\n",
       "      <td>0.133831</td>\n",
       "      <td>0.129250</td>\n",
       "      <td>0.121055</td>\n",
       "      <td>4.445084</td>\n",
       "      <td>3.556591</td>\n",
       "    </tr>\n",
       "    <tr>\n",
       "      <th>15</th>\n",
       "      <td>16</td>\n",
       "      <td>0.142843</td>\n",
       "      <td>0.131277</td>\n",
       "      <td>0.128611</td>\n",
       "      <td>0.120356</td>\n",
       "      <td>4.537657</td>\n",
       "      <td>3.549522</td>\n",
       "    </tr>\n",
       "    <tr>\n",
       "      <th>16</th>\n",
       "      <td>17</td>\n",
       "      <td>0.139713</td>\n",
       "      <td>0.139393</td>\n",
       "      <td>0.131278</td>\n",
       "      <td>0.121192</td>\n",
       "      <td>4.419456</td>\n",
       "      <td>3.565662</td>\n",
       "    </tr>\n",
       "    <tr>\n",
       "      <th>17</th>\n",
       "      <td>18</td>\n",
       "      <td>0.141525</td>\n",
       "      <td>0.134546</td>\n",
       "      <td>0.129782</td>\n",
       "      <td>0.120955</td>\n",
       "      <td>4.467050</td>\n",
       "      <td>3.533754</td>\n",
       "    </tr>\n",
       "    <tr>\n",
       "      <th>18</th>\n",
       "      <td>19</td>\n",
       "      <td>0.144446</td>\n",
       "      <td>0.128543</td>\n",
       "      <td>0.127965</td>\n",
       "      <td>0.120813</td>\n",
       "      <td>4.576883</td>\n",
       "      <td>3.558124</td>\n",
       "    </tr>\n",
       "    <tr>\n",
       "      <th>19</th>\n",
       "      <td>20</td>\n",
       "      <td>0.138910</td>\n",
       "      <td>0.137226</td>\n",
       "      <td>0.129992</td>\n",
       "      <td>0.121271</td>\n",
       "      <td>4.397490</td>\n",
       "      <td>3.550858</td>\n",
       "    </tr>\n",
       "    <tr>\n",
       "      <th>20</th>\n",
       "      <td>21</td>\n",
       "      <td>0.140147</td>\n",
       "      <td>0.135143</td>\n",
       "      <td>0.129494</td>\n",
       "      <td>0.121538</td>\n",
       "      <td>4.423117</td>\n",
       "      <td>3.534778</td>\n",
       "    </tr>\n",
       "    <tr>\n",
       "      <th>21</th>\n",
       "      <td>22</td>\n",
       "      <td>0.146359</td>\n",
       "      <td>0.126277</td>\n",
       "      <td>0.127511</td>\n",
       "      <td>0.120751</td>\n",
       "      <td>4.657427</td>\n",
       "      <td>3.641137</td>\n",
       "    </tr>\n",
       "    <tr>\n",
       "      <th>22</th>\n",
       "      <td>23</td>\n",
       "      <td>0.146876</td>\n",
       "      <td>0.126832</td>\n",
       "      <td>0.128018</td>\n",
       "      <td>0.121008</td>\n",
       "      <td>4.660565</td>\n",
       "      <td>3.631562</td>\n",
       "    </tr>\n",
       "    <tr>\n",
       "      <th>23</th>\n",
       "      <td>24</td>\n",
       "      <td>0.139700</td>\n",
       "      <td>0.136878</td>\n",
       "      <td>0.129598</td>\n",
       "      <td>0.119879</td>\n",
       "      <td>4.535042</td>\n",
       "      <td>3.571141</td>\n",
       "    </tr>\n",
       "    <tr>\n",
       "      <th>24</th>\n",
       "      <td>25</td>\n",
       "      <td>0.144056</td>\n",
       "      <td>0.131611</td>\n",
       "      <td>0.129101</td>\n",
       "      <td>0.121924</td>\n",
       "      <td>4.623431</td>\n",
       "      <td>3.683464</td>\n",
       "    </tr>\n",
       "  </tbody>\n",
       "</table>\n",
       "</div>"
      ],
      "text/plain": [
       "    Epoch    Recall  Precision  F1-score      NDCG       MAE      Loss\n",
       "0       1  0.162335   0.149120  0.145325  0.122848  4.547594  3.711010\n",
       "1       2  0.157720   0.159847  0.148723  0.129354  4.446653  3.663158\n",
       "2       3  0.138747   0.140254  0.131087  0.120640  4.466004  3.649195\n",
       "3       4  0.144215   0.131384  0.129162  0.120671  4.563808  3.602591\n",
       "4       5  0.145753   0.128965  0.128628  0.120588  4.609833  3.618764\n",
       "5       6  0.143883   0.132473  0.129582  0.120886  4.530858  3.592008\n",
       "6       7  0.138616   0.138127  0.129823  0.118895  4.530335  3.649562\n",
       "7       8  0.141090   0.134892  0.129611  0.119817  4.506799  3.589711\n",
       "8       9  0.137714   0.140776  0.130854  0.119809  4.455021  3.650422\n",
       "9      10  0.144779   0.129104  0.128374  0.120610  4.570607  3.607699\n",
       "10     11  0.140903   0.132971  0.128346  0.118658  4.560146  3.600425\n",
       "11     12  0.143134   0.132687  0.129247  0.119786  4.556485  3.557656\n",
       "12     13  0.137366   0.140093  0.130404  0.120368  4.406381  3.615234\n",
       "13     14  0.142038   0.133937  0.129454  0.119818  4.523536  3.566896\n",
       "14     15  0.140987   0.133831  0.129250  0.121055  4.445084  3.556591\n",
       "15     16  0.142843   0.131277  0.128611  0.120356  4.537657  3.549522\n",
       "16     17  0.139713   0.139393  0.131278  0.121192  4.419456  3.565662\n",
       "17     18  0.141525   0.134546  0.129782  0.120955  4.467050  3.533754\n",
       "18     19  0.144446   0.128543  0.127965  0.120813  4.576883  3.558124\n",
       "19     20  0.138910   0.137226  0.129992  0.121271  4.397490  3.550858\n",
       "20     21  0.140147   0.135143  0.129494  0.121538  4.423117  3.534778\n",
       "21     22  0.146359   0.126277  0.127511  0.120751  4.657427  3.641137\n",
       "22     23  0.146876   0.126832  0.128018  0.121008  4.660565  3.631562\n",
       "23     24  0.139700   0.136878  0.129598  0.119879  4.535042  3.571141\n",
       "24     25  0.144056   0.131611  0.129101  0.121924  4.623431  3.683464"
      ]
     },
     "execution_count": 40,
     "metadata": {},
     "output_type": "execute_result"
    }
   ],
   "source": [
    "results = []\n",
    "\n",
    "for epoch in range(1, EPOCHS + 1):\n",
    "    train_loss = train_model()\n",
    "    print(\"train_loss=\", train_loss)\n",
    "    print(\"-\"*20)\n",
    "    val_loss = evaluate_model()\n",
    "    print(\"val_loss=\", val_loss)\n",
    "    print(\"-\"*20)\n",
    "    test_loss, recall_list, precision_list, f1_list, ndcg_list, mae_list = test_model()\n",
    "    print(\"-\"*20)\n",
    "    result = [epoch] + recall_list + precision_list + f1_list + ndcg_list + mae_list + [test_loss.item()]\n",
    "    results.append(result)\n",
    "    print(results)\n",
    "    print(\"-\"*89)\n",
    "    \n",
    "    collected = gc.collect()\n",
    "    torch.cuda.empty_cache()\n",
    "    \n",
    "record_df = pd.DataFrame(results, columns=[\"Epoch\", \"Recall\", \"Precision\", \"F1-score\", \"NDCG\", \"MAE\", \"Loss\"])\n",
    "\n",
    "result_folder = \"../result\"\n",
    "if not os.path.exists(result_folder):\n",
    "    os.mkdir(result_folder)\n",
    "record_df.to_csv(result_folder+f\"/{DATASET_NAME}_output.csv\", index=False)\n",
    "\n",
    "record_df\n"
   ]
  }
 ],
 "metadata": {
  "kernelspec": {
   "display_name": "Python 3 (ipykernel)",
   "language": "python",
   "name": "python3"
  },
  "language_info": {
   "codemirror_mode": {
    "name": "ipython",
    "version": 3
   },
   "file_extension": ".py",
   "mimetype": "text/x-python",
   "name": "python",
   "nbconvert_exporter": "python",
   "pygments_lexer": "ipython3",
   "version": "3.11.5"
  }
 },
 "nbformat": 4,
 "nbformat_minor": 5
}
