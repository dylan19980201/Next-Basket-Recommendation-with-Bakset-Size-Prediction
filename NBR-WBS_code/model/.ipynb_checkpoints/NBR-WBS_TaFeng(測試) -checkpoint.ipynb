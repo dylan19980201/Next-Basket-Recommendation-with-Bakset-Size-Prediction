{
 "cells": [
  {
   "cell_type": "markdown",
   "id": "a246ddd9",
   "metadata": {},
   "source": [
    "# 下載套件"
   ]
  },
  {
   "cell_type": "code",
   "execution_count": 1,
   "id": "72209793",
   "metadata": {},
   "outputs": [],
   "source": [
    "import torch\n",
    "import torch.nn as nn\n",
    "from torch import nn, matmul, softmax\n",
    "from torch.nn.init import xavier_uniform_\n",
    "import torch.nn.functional as F\n",
    "import torch.nn.utils.rnn as rnn_utils\n",
    "from torch.autograd import Variable\n",
    "\n",
    "import numpy as np\n",
    "import pandas as pd\n",
    "import gensim\n",
    "from gensim.models import KeyedVectors\n",
    "import pickle\n",
    "import gzip \n",
    "import gc\n",
    "import random"
   ]
  },
  {
   "cell_type": "code",
   "execution_count": 2,
   "id": "e3db86c1",
   "metadata": {},
   "outputs": [],
   "source": [
    "from torch.utils.data import DataLoader, Dataset\n",
    "from torch.utils.data.dataset import random_split\n",
    "\n",
    "from tqdm import tqdm\n",
    "from collections import Counter\n",
    "\n",
    "import math"
   ]
  },
  {
   "cell_type": "markdown",
   "id": "d32d7025",
   "metadata": {},
   "source": [
    "# 參數設置"
   ]
  },
  {
   "cell_type": "code",
   "execution_count": 3,
   "id": "6da217e0",
   "metadata": {},
   "outputs": [],
   "source": [
    "# 超參數\n",
    "EPOCHS = 50\n",
    "LEARNING_RATE = 0.0001 #\n",
    "BATCH_SIZE = 8\n",
    "BETA = 0.5\n",
    "ALPHA = 0.01\n",
    "EMBEDDING_DIMENSION = 32                      # 嵌入維度\n",
    "MODEL_DIMENSION = EMBEDDING_DIMENSION         # 模型維度\n",
    "HIDDEN_DIMENSION = 256                        # NLP 隱藏層維度\n",
    "NUM_HEAD = 8\n",
    "NUM_LAYER = 8\n",
    "\n",
    "isI2V = 1        #1:使用Item2Vec     #0:不使用Item2Vec"
   ]
  },
  {
   "cell_type": "markdown",
   "id": "4283cbc8",
   "metadata": {},
   "source": [
    "# 匯入檔案\n",
    "- item2Vec_TaFeng.32d.model\n",
    "- TaFeng_user_cart_itemid_list.gz\n",
    "- Ta_feng_clean.csv"
   ]
  },
  {
   "cell_type": "code",
   "execution_count": 4,
   "id": "32520298",
   "metadata": {},
   "outputs": [
    {
     "data": {
      "text/plain": [
       "torch.Size([15764, 32])"
      ]
     },
     "execution_count": 4,
     "metadata": {},
     "output_type": "execute_result"
    }
   ],
   "source": [
    "# Load word2Vec pre_train model\n",
    "model_filename = f\"../preprocessing-data/item2vec_models/item2vec_TaFeng.{EMBEDDING_DIMENSION}d.model\"\n",
    "## TaFeng\n",
    "with open(model_filename, \"rb\") as fp:\n",
    "    model = pickle.load(fp)\n",
    "weights = torch.FloatTensor(model.wv.vectors)\n",
    "weights.shape"
   ]
  },
  {
   "cell_type": "code",
   "execution_count": 5,
   "id": "bbe80d00",
   "metadata": {
    "scrolled": true
   },
   "outputs": [
    {
     "data": {
      "text/plain": [
       "[(1113,\n",
       "  array([0., 1.]),\n",
       "  [[0, 1, 2], [3, 4, 5, 6, 7, 8], [9, 10, 11, 12, 13, 14, 15]],\n",
       "  [3, 6, 7]),\n",
       " (5241,\n",
       "  array([0.        , 0.70967742, 1.        ]),\n",
       "  [[16, 17, 18, 19, 20, 21],\n",
       "   [22, 23, 24, 25, 26, 27, 28, 29, 30, 31],\n",
       "   [32, 33, 34, 35, 36, 37, 38, 39, 40, 41, 42, 43, 44, 45, 46, 47],\n",
       "   [48, 49, 50, 51, 52]],\n",
       "  [6, 10, 16, 5])]"
      ]
     },
     "execution_count": 5,
     "metadata": {},
     "output_type": "execute_result"
    }
   ],
   "source": [
    "## TaFeng # TaFeng_user_cart_itemid_list # 用戶id, 購物籃時間差(不會使用到), 此用戶的購物籃串列(每個串列包含多筆項目)。\n",
    "with gzip.open(\"../preprocessing-data/TaFeng_user_cart_Itemid_list.gz\", \"rb\") as fp:\n",
    "    user_cart_itemid_list = pickle.load(fp)\n",
    "user_cart_itemid_list[:2]"
   ]
  },
  {
   "cell_type": "code",
   "execution_count": 6,
   "id": "361c43d7",
   "metadata": {},
   "outputs": [],
   "source": [
    "# Load TaFeng confidences_Matrix\n",
    "with gzip.open(\"../preprocessing-data/confidences/TaFeng_confidences_array.gz\", \"rb\") as fp:\n",
    "    TaFeng_confidences_array = pickle.load(fp)"
   ]
  },
  {
   "cell_type": "code",
   "execution_count": 7,
   "id": "b83d2fe8",
   "metadata": {},
   "outputs": [
    {
     "name": "stdout",
     "output_type": "stream",
     "text": [
      "72\n"
     ]
    },
    {
     "data": {
      "text/html": [
       "<div>\n",
       "<style scoped>\n",
       "    .dataframe tbody tr th:only-of-type {\n",
       "        vertical-align: middle;\n",
       "    }\n",
       "\n",
       "    .dataframe tbody tr th {\n",
       "        vertical-align: top;\n",
       "    }\n",
       "\n",
       "    .dataframe thead th {\n",
       "        text-align: right;\n",
       "    }\n",
       "</style>\n",
       "<table border=\"1\" class=\"dataframe\">\n",
       "  <thead>\n",
       "    <tr style=\"text-align: right;\">\n",
       "      <th></th>\n",
       "      <th>CUSTOMER_ID</th>\n",
       "      <th>PRODUCT_ID</th>\n",
       "      <th>TRANSACTION_DT</th>\n",
       "      <th>CART_ID</th>\n",
       "      <th>NEW_ITEM_ID</th>\n",
       "    </tr>\n",
       "  </thead>\n",
       "  <tbody>\n",
       "    <tr>\n",
       "      <th>0</th>\n",
       "      <td>1113</td>\n",
       "      <td>4902105011621</td>\n",
       "      <td>2000-11-26</td>\n",
       "      <td>0</td>\n",
       "      <td>0</td>\n",
       "    </tr>\n",
       "    <tr>\n",
       "      <th>1</th>\n",
       "      <td>1113</td>\n",
       "      <td>7616100830794</td>\n",
       "      <td>2000-11-26</td>\n",
       "      <td>0</td>\n",
       "      <td>1</td>\n",
       "    </tr>\n",
       "    <tr>\n",
       "      <th>2</th>\n",
       "      <td>1113</td>\n",
       "      <td>4710892632017</td>\n",
       "      <td>2000-11-26</td>\n",
       "      <td>0</td>\n",
       "      <td>2</td>\n",
       "    </tr>\n",
       "    <tr>\n",
       "      <th>3</th>\n",
       "      <td>1113</td>\n",
       "      <td>4710905340113</td>\n",
       "      <td>2000-11-27</td>\n",
       "      <td>1</td>\n",
       "      <td>3</td>\n",
       "    </tr>\n",
       "    <tr>\n",
       "      <th>4</th>\n",
       "      <td>1113</td>\n",
       "      <td>4717362901277</td>\n",
       "      <td>2000-11-27</td>\n",
       "      <td>1</td>\n",
       "      <td>4</td>\n",
       "    </tr>\n",
       "    <tr>\n",
       "      <th>...</th>\n",
       "      <td>...</td>\n",
       "      <td>...</td>\n",
       "      <td>...</td>\n",
       "      <td>...</td>\n",
       "      <td>...</td>\n",
       "    </tr>\n",
       "    <tr>\n",
       "      <th>533054</th>\n",
       "      <td>20002000</td>\n",
       "      <td>4710339772139</td>\n",
       "      <td>2001-01-20</td>\n",
       "      <td>62360</td>\n",
       "      <td>4546</td>\n",
       "    </tr>\n",
       "    <tr>\n",
       "      <th>533055</th>\n",
       "      <td>20002000</td>\n",
       "      <td>20513184</td>\n",
       "      <td>2001-01-20</td>\n",
       "      <td>62360</td>\n",
       "      <td>1351</td>\n",
       "    </tr>\n",
       "    <tr>\n",
       "      <th>533056</th>\n",
       "      <td>20002000</td>\n",
       "      <td>4714800731229</td>\n",
       "      <td>2001-01-20</td>\n",
       "      <td>62360</td>\n",
       "      <td>2946</td>\n",
       "    </tr>\n",
       "    <tr>\n",
       "      <th>533057</th>\n",
       "      <td>20002000</td>\n",
       "      <td>4714541091071</td>\n",
       "      <td>2001-01-20</td>\n",
       "      <td>62360</td>\n",
       "      <td>7382</td>\n",
       "    </tr>\n",
       "    <tr>\n",
       "      <th>533058</th>\n",
       "      <td>20002000</td>\n",
       "      <td>4710018008634</td>\n",
       "      <td>2001-01-20</td>\n",
       "      <td>62360</td>\n",
       "      <td>2629</td>\n",
       "    </tr>\n",
       "  </tbody>\n",
       "</table>\n",
       "<p>533059 rows × 5 columns</p>\n",
       "</div>"
      ],
      "text/plain": [
       "        CUSTOMER_ID     PRODUCT_ID TRANSACTION_DT  CART_ID  NEW_ITEM_ID\n",
       "0              1113  4902105011621     2000-11-26        0            0\n",
       "1              1113  7616100830794     2000-11-26        0            1\n",
       "2              1113  4710892632017     2000-11-26        0            2\n",
       "3              1113  4710905340113     2000-11-27        1            3\n",
       "4              1113  4717362901277     2000-11-27        1            4\n",
       "...             ...            ...            ...      ...          ...\n",
       "533054     20002000  4710339772139     2001-01-20    62360         4546\n",
       "533055     20002000       20513184     2001-01-20    62360         1351\n",
       "533056     20002000  4714800731229     2001-01-20    62360         2946\n",
       "533057     20002000  4714541091071     2001-01-20    62360         7382\n",
       "533058     20002000  4710018008634     2001-01-20    62360         2629\n",
       "\n",
       "[533059 rows x 5 columns]"
      ]
     },
     "execution_count": 7,
     "metadata": {},
     "output_type": "execute_result"
    }
   ],
   "source": [
    "# Ta Feng Dataset\n",
    "TaFeng = pd.read_csv(\"../cleaned_dataset/ta_feng_clean.csv\")\n",
    "\n",
    "# 最多購物籃數\n",
    "max_cart_count = TaFeng.groupby('CUSTOMER_ID')['CART_ID'].nunique().max()\n",
    "print(max_cart_count)\n",
    "\n",
    "TaFeng"
   ]
  },
  {
   "cell_type": "markdown",
   "id": "a0877d82",
   "metadata": {},
   "source": [
    "# 切分資料集\n",
    "- 分成輸入資料與標籤資料\n",
    "- 訓練集:驗證集:測試集 = 7:1:2"
   ]
  },
  {
   "cell_type": "code",
   "execution_count": 8,
   "id": "73e9cf41",
   "metadata": {},
   "outputs": [
    {
     "name": "stdout",
     "output_type": "stream",
     "text": [
      "7457\n",
      "1065\n",
      "2132\n"
     ]
    }
   ],
   "source": [
    "# 切分資料集\n",
    "train_set_size = int(len(user_cart_itemid_list) * 0.7)\n",
    "valid_set_size = int(len(user_cart_itemid_list) * 0.1)\n",
    "test_set_size = len(user_cart_itemid_list)-train_set_size-valid_set_size\n",
    "train_set, valid_set, test_set = random_split(user_cart_itemid_list, [train_set_size, valid_set_size, test_set_size])\n",
    "print(len(train_set))\n",
    "print(len(valid_set))\n",
    "print(len(test_set))"
   ]
  },
  {
   "cell_type": "code",
   "execution_count": 9,
   "id": "5edaa93d",
   "metadata": {},
   "outputs": [],
   "source": [
    "# 將切割好的資料集暫存起來\n",
    "\n",
    "# # 訓練集\n",
    "# filepath = \"../preprocessing-data/TaFeng_dataset/train_set.pkl\"\n",
    "# with open(filepath, \"wb\") as f:\n",
    "#     pickle.dump(train_set, f, pickle.HIGHEST_PROTOCOL)\n",
    "# # 驗證集\n",
    "# filepath = \"../preprocessing-data/TaFeng_dataset/valid_set.pkl\"\n",
    "# with open(filepath, \"wb\") as f:\n",
    "#     pickle.dump(valid_set, f, pickle.HIGHEST_PROTOCOL)\n",
    "# # 測試集\n",
    "# filepath = \"../preprocessing-data/TaFeng_dataset/test_set.pkl\"\n",
    "# with open(filepath, \"wb\") as f:\n",
    "#     pickle.dump(test_set, f, pickle.HIGHEST_PROTOCCOL)"
   ]
  },
  {
   "cell_type": "code",
   "execution_count": 10,
   "id": "b203d0c9",
   "metadata": {},
   "outputs": [],
   "source": [
    "# 讀取之前暫存的資料集\n",
    "\n",
    "# # 載入訓練、驗證、測試集\n",
    "# with open(\"../preprocessing-data/TaFeng_dataset/train_set.pkl\", \"rb\") as fp:\n",
    "#     train_set = pickle.load(fp)\n",
    "# with open(\"../preprocessing-data/TaFeng_dataset/valid_set.pkl\", \"rb\") as fp:\n",
    "#     valid_set = pickle.load(fp)\n",
    "# with open(\"../preprocessing-data/TaFeng_dataset/test_set.pkl\", \"rb\") as fp:\n",
    "#     test_set = pickle.load(fp)"
   ]
  },
  {
   "cell_type": "markdown",
   "id": "c9585447",
   "metadata": {},
   "source": [
    "# Batch"
   ]
  },
  {
   "cell_type": "code",
   "execution_count": 11,
   "id": "a209539b",
   "metadata": {
    "scrolled": true
   },
   "outputs": [
    {
     "data": {
      "text/plain": [
       "device(type='cuda')"
      ]
     },
     "execution_count": 11,
     "metadata": {},
     "output_type": "execute_result"
    }
   ],
   "source": [
    "device = torch.device(\"cuda\" if torch.cuda.is_available() else \"cpu\")\n",
    "device"
   ]
  },
  {
   "cell_type": "code",
   "execution_count": 12,
   "id": "b348e2b5",
   "metadata": {},
   "outputs": [],
   "source": [
    "# 定義資料轉換函數(於collate_batch函式中使用)\n",
    "item_index_pipeline = lambda x:[[model.wv.key_to_index[j] for j in i]for i in x] # 取得購物籃中，項目的索引值(只有使用Item2Vec時會需要)"
   ]
  },
  {
   "cell_type": "code",
   "execution_count": 13,
   "id": "92fb3dee",
   "metadata": {},
   "outputs": [],
   "source": [
    "class TensorDataset(Dataset):\n",
    "    # TensorDataset繼承Dataset, 重載__init__, __getitem__, __len__\n",
    "    # 實現將一組Tensor數據封裝成Tensor數據集\n",
    "    # 能夠通過index得到數據集的數據，能夠通過len，得到數據集大小\n",
    "    def __init__(self, data_tensor):\n",
    "        self.data_tensor = data_tensor\n",
    "    def __getitem__(self, index):\n",
    "        return self.data_tensor[index]\n",
    "    def __len__(self):\n",
    "        return len(self.data_tensor)\n",
    "\n",
    "def collate_batch(batch): # 輸出userID, input_list跟label(最後一個購物籃)\n",
    "    # 使用ID、時間差、訓練的購物籃項目、預測的購物籃項目\n",
    "    userID, input_list, label_list, input_size_list, label_size_list, offsets = [], [], [], [], [], [0]\n",
    "    for _user in batch:\n",
    "        userID.append(_user[0]) # userID\n",
    "        label_list.append(torch.tensor(_user[2][-1])) # 所有購物籃的項目ID串列中的最後一個購物籃項目ID\n",
    "        label_size_list.append(torch.tensor(_user[3][-1]))\n",
    "        \n",
    "        if isI2V == 0: # 不使用Item2Vec進行項目嵌入\n",
    "            train_list = _user[2][0:-1]\n",
    "        else: #　使用Item2Vec進行項目嵌入\n",
    "            train_list = item_index_pipeline(_user[2][0:-1])\n",
    "        input_size_list.append(_user[3][0:-1])\n",
    "        \n",
    "        input_list.append(train_list) # 所有購物籃的項目ID串列(除了最後一個購物籃)\n",
    "        offsets.append(len(train_list))\n",
    "    \n",
    "    return userID, input_list, label_list, input_size_list, label_size_list, offsets"
   ]
  },
  {
   "cell_type": "code",
   "execution_count": 14,
   "id": "f442f66a",
   "metadata": {},
   "outputs": [],
   "source": [
    "# 轉成 Dataset\n",
    "split_train_ = TensorDataset(train_set)\n",
    "split_valid_ = TensorDataset(valid_set)\n",
    "split_test_ = TensorDataset(test_set)"
   ]
  },
  {
   "cell_type": "code",
   "execution_count": 15,
   "id": "54fe7bc6",
   "metadata": {},
   "outputs": [],
   "source": [
    "# DataLoader \n",
    "train_dataloader = DataLoader(split_train_, batch_size=BATCH_SIZE, shuffle=True, collate_fn=collate_batch, drop_last=True)\n",
    "valid_dataloader = DataLoader(split_valid_, batch_size=BATCH_SIZE, shuffle=True, collate_fn=collate_batch, drop_last=True)\n",
    "test_dataloader = DataLoader(split_test_, batch_size=BATCH_SIZE, shuffle=True, collate_fn=collate_batch, drop_last=True)"
   ]
  },
  {
   "cell_type": "markdown",
   "id": "637657be",
   "metadata": {},
   "source": [
    "# Self-Attention"
   ]
  },
  {
   "cell_type": "code",
   "execution_count": 16,
   "id": "a96171ad",
   "metadata": {},
   "outputs": [],
   "source": [
    "# 使用nn.MultiheadAttention\n",
    "# 輸入一個用戶的一個購物籃，輸出購物籃嵌入\n",
    "class SelfAttention(nn.Module):\n",
    "    def __init__(self, embed_dim, model_dim): #項目向量維度，輸出模型的維度\n",
    "        super(SelfAttention, self).__init__()\n",
    "        self.embed_dim = embed_dim\n",
    "        self.model_dim = model_dim\n",
    "        \n",
    "        # 初始化Q, K, V 矩陣\n",
    "        self.query_matrix = nn.Linear(embed_dim, model_dim)\n",
    "        xavier_uniform_(self.query_matrix.weight)\n",
    "        self.key_matrix = nn.Linear(embed_dim, model_dim)\n",
    "        xavier_uniform_(self.key_matrix.weight)\n",
    "        self.value_matrix = nn.Linear(embed_dim, model_dim)\n",
    "        xavier_uniform_(self.value_matrix.weight)\n",
    "        self.multihead_attn = nn.MultiheadAttention(embed_dim, num_heads=1)\n",
    "        \n",
    "    def forward(self, inputs, attention_mask):\n",
    "        \n",
    "        # 輸入一個項目向量，透過三個可學習的參數矩陣，得到計算所需要的 q,k,v\n",
    "        q = self.query_matrix(inputs)\n",
    "        k = self.key_matrix(inputs)\n",
    "        v = self.value_matrix(inputs)\n",
    "        \n",
    "        attn_output, attn_output_weight = self.multihead_attn(q, k, v, key_padding_mask=attention_mask.transpose(0,1))\n",
    "        \n",
    "        output_mean = torch.tensor([[0 for _ in range(MODEL_DIMENSION)] for _ in range(len(attention_mask))], dtype=torch.float).to(device)\n",
    "        for i, cart in enumerate(attention_mask):\n",
    "            for j, mask in enumerate(cart):\n",
    "                if mask == False:\n",
    "                    output_mean[i] = attn_output[i][j] # 使用最後一個項目作為輸出\n",
    "        basket_embedding = output_mean\n",
    "        \n",
    "        return basket_embedding"
   ]
  },
  {
   "cell_type": "markdown",
   "id": "a3043def",
   "metadata": {},
   "source": [
    "   # Basket Size Encoder"
   ]
  },
  {
   "cell_type": "code",
   "execution_count": 17,
   "id": "3b8530b2",
   "metadata": {},
   "outputs": [],
   "source": [
    "class LinearTransformation(nn.Module):\n",
    "    def __init__(self, model_dim, input_dim:int=1):\n",
    "        super(LinearTransformation, self).__init__()\n",
    "        self.embed = torch.nn.Linear(input_dim, model_dim)\n",
    "        self.activate = nn.ReLU()\n",
    "        \n",
    "    def forward(self, inputs):\n",
    "        #print(inputs.type())\n",
    "        #output = torch.tensor([self.embed(basket_size) for basket_size in inputs], dtype=torch.float).to(device)\n",
    "         #print(output1)\n",
    "        #for basket_size in inputs:\n",
    "            #print(basket_size.type())\n",
    "            #basket_size = basket_size.to(torch.float)\n",
    "        output = torch.tensor([(self.embed(basket_size)).tolist() for basket_size in inputs], dtype=torch.float).to(device)\n",
    "        #print(output)\n",
    "        #print(output.type())\n",
    "        #output = self.embed(output1)\n",
    "        return self.activate(output)"
   ]
  },
  {
   "cell_type": "markdown",
   "id": "00cd99b7",
   "metadata": {},
   "source": [
    "# Transformer"
   ]
  },
  {
   "cell_type": "code",
   "execution_count": 18,
   "id": "bc0ed90c",
   "metadata": {},
   "outputs": [],
   "source": [
    "class PositionalEncoding(nn.Module):\n",
    "    def __init__(self, d_model:int, dropout, maxlen:int=500):\n",
    "        super(PositionalEncoding, self).__init__()\n",
    "        # den 是把10000^(2i/d_model)取log_e，前面加負號是求倒數\n",
    "        den = torch.exp(-torch.arange(0, d_model, 2) * math.log(10000) / d_model)\n",
    "        pos = torch.arange(0, maxlen).reshape(maxlen, 1)\n",
    "        pos_embedding = torch.zeros(maxlen, d_model)#.to(device)\n",
    "        pos_embedding[:, 0::2] = torch.sin(pos*den)\n",
    "        pos_embedding[:, 1::2] = torch.cos(pos*den)\n",
    "        \n",
    "        pos_embedding = pos_embedding.unsqueeze(0)\n",
    "        \n",
    "        self.dropout = nn.Dropout(dropout)\n",
    "        self.register_buffer(\"pos_embedding\", pos_embedding)\n",
    "        \n",
    "    def forward(self, token_embedding):\n",
    "        return self.dropout(token_embedding+ self.pos_embedding[:, :token_embedding.size(1), :])\n",
    "    \n",
    "class TransformerEncoder(nn.Module):\n",
    "    def __init__(self, d_model, num_heads=8, num_layers=6):\n",
    "        super(TransformerEncoder, self).__init__()\n",
    "        self.pe = PositionalEncoding(d_model=d_model, dropout=0.5, maxlen=max_cart_count*2)\n",
    "        # 創建 Transformer 模型\n",
    "        self.transformer = nn.TransformerEncoder(\n",
    "            nn.TransformerEncoderLayer(d_model=d_model, nhead=num_heads),\n",
    "            num_layers=num_layers\n",
    "        )\n",
    "    \n",
    "    def forward(self, baskets_embedding):\n",
    "        baskets_embedding_pe = self.pe(baskets_embedding)\n",
    "        \n",
    "        # 購物籃padding的遮罩\n",
    "        padding_mask = ~baskets_embedding.sum(dim=-1).ne(0).transpose(0,1)\n",
    "        \n",
    "        output = self.transformer(baskets_embedding_pe.to(torch.float32), src_key_padding_mask=padding_mask.to(torch.float32))\n",
    "        return output"
   ]
  },
  {
   "cell_type": "markdown",
   "id": "9cdd237c",
   "metadata": {},
   "source": [
    "# MLP層"
   ]
  },
  {
   "cell_type": "code",
   "execution_count": 19,
   "id": "e8fb5303",
   "metadata": {},
   "outputs": [],
   "source": [
    "class MLPLayer(nn.Module):\n",
    "    def __init__(self, embed_dim, hidden_dim, items_dim):\n",
    "        super(MLPLayer, self).__init__()\n",
    "        self.hidden = nn.Linear(embed_dim, hidden_dim) # 隱藏層\n",
    "        xavier_uniform_(self.hidden.weight)\n",
    "        self.norm = nn.BatchNorm1d(hidden_dim, momentum=0.03)\n",
    "        self.activate = nn.ReLU() # ?\n",
    "        self.output = nn.Linear(hidden_dim, items_dim) # 輸出層\n",
    "        \n",
    "    def forward(self, inputs):\n",
    "        y = self.activate(self.norm(self.hidden(inputs)))\n",
    "        return self.output(y)"
   ]
  },
  {
   "cell_type": "code",
   "execution_count": 20,
   "id": "b52aa95b",
   "metadata": {},
   "outputs": [],
   "source": [
    "class MLPLayerForSize(nn.Module):\n",
    "    def __init__(self, embed_dim, hidden_dim):\n",
    "        super(MLPLayerForSize, self).__init__()\n",
    "        self.hidden = nn.Linear(embed_dim, hidden_dim) #隱藏層\n",
    "        xavier_uniform_(self.hidden.weight)\n",
    "        self.norm = nn.BatchNorm1d(hidden_dim, momentum=0.03)\n",
    "        self.activate = nn.ReLU()\n",
    "        self.output = nn.Linear(hidden_dim, 1) # 輸出層\n",
    "        \n",
    "    def forward(self, inputs):\n",
    "        k = self.activate(self.norm(self.hidden(inputs)))\n",
    "        return self.activate(self.output(k))"
   ]
  },
  {
   "cell_type": "markdown",
   "id": "9afdd949",
   "metadata": {},
   "source": [
    "# 損失函數"
   ]
  },
  {
   "cell_type": "code",
   "execution_count": 21,
   "id": "9b8084b8",
   "metadata": {},
   "outputs": [],
   "source": [
    "# MSE\n",
    "def mean_square_error(predictions, target):\n",
    "    #print(\"target\", target)\n",
    "    targets = torch.tensor(target, dtype=torch.float32).unsqueeze(1).to(device)\n",
    "    #print(\"targets\", targets)\n",
    "    #print(\"prediction_size:\", predictions.size())\n",
    "    #print(\"targets_size:\", targets.size())\n",
    "    loss = F.mse_loss(predictions, targets)\n",
    "    #print(\"loss_size:\", loss.size())\n",
    "    #print(\"size_loss\", loss)\n",
    "    return loss"
   ]
  },
  {
   "cell_type": "code",
   "execution_count": 22,
   "id": "578a7e8b",
   "metadata": {},
   "outputs": [],
   "source": [
    "# cross_entropy_loss\n",
    "def cross_entropy_loss(predictions, targets):\n",
    "    # 創建稀疏張量的索引和值\n",
    "    indices = []\n",
    "    values = []\n",
    "    for i, t in enumerate(targets):\n",
    "        for v in t:\n",
    "            indices.append([i, v])\n",
    "            values.append(1)\n",
    "\n",
    "    # 創建稀疏張量\n",
    "    sparse_targets = torch.sparse_coo_tensor(indices=torch.tensor(indices).t(),\n",
    "                                             values=torch.tensor(values, dtype=torch.float16),\n",
    "                                             size=(len(targets), items_count), device=device)\n",
    "    sparse_targets = sparse_targets.to_dense()\n",
    "    \n",
    "    loss = F.binary_cross_entropy_with_logits(predictions, sparse_targets)\n",
    "    #print(\"entropy_size\", loss.size())\n",
    "    #print(\"entropy_loss\", loss)\n",
    "    return loss"
   ]
  },
  {
   "cell_type": "markdown",
   "id": "08aefe4a",
   "metadata": {},
   "source": [
    "# 評估指標"
   ]
  },
  {
   "cell_type": "code",
   "execution_count": 23,
   "id": "308ff8e9",
   "metadata": {},
   "outputs": [],
   "source": [
    "# def format_metric(result_dict):\n",
    "#     assert type(result_dict) == dict\n",
    "#     format_str = []\n",
    "#     metrics = np.unique([k.split('@')[0] for k in result_dict.keys()])\n",
    "#     topks = np.unique([int(k.split('@')[1]) for k in result_dict.keys()])\n",
    "#     for topk in np.sort(topks):\n",
    "#         for metric in np.sort(metrics):\n",
    "#             name = '{}@{}'.format(metric, topk)\n",
    "#             m = result_dict[name]           \n",
    "#             if type(m) is float or type(m) is float or type(m) is np.float32 or type(m) is np.float64:\n",
    "#                 format_str.append('{}: {:<.4f}'.format(name, m))\n",
    "#             elif type(m) is int or type(m) is int or type(m) is np.int32 or type(m) is np.int64:\n",
    "#                 format_str.append('{}: {}'.format(name, m))\n",
    "#     return ', '.join(format_str)"
   ]
  },
  {
   "cell_type": "code",
   "execution_count": 24,
   "id": "02891cdd",
   "metadata": {},
   "outputs": [],
   "source": [
    "def format_metric(result_dict):\n",
    "    assert type(result_dict) == dict\n",
    "    format_str = []\n",
    "    metrics = np.unique([k for k in result_dict.keys()])\n",
    "    #topks = np.unique([int(k.split('@')[1]) for k in result_dict.keys()])\n",
    "    #for topk in np.sort(topks):\n",
    "    for metric in np.sort(metrics):\n",
    "        name = '{}'.format(metric)\n",
    "        m = result_dict[name]\n",
    "        if type(m) is float or type(m) is float or type(m) is np.float32 or type(m) is np.float64:\n",
    "            format_str.append('{}: {:<.4f}'.format(name, m))\n",
    "        elif type(m) is int or type(m) is int or type(m) is np.int32 or type(m) is np.int64:\n",
    "            format_str.append('{}: {}'.format(name, m))\n",
    "    return ', '.join(format_str)"
   ]
  },
  {
   "cell_type": "markdown",
   "id": "b96a4cfe",
   "metadata": {},
   "source": [
    "## HR@K"
   ]
  },
  {
   "cell_type": "code",
   "execution_count": 25,
   "id": "ced1b599",
   "metadata": {},
   "outputs": [],
   "source": [
    "# def calculate_hr_at_k(predictions, labels_list, k_list):\n",
    "#     # 將預測機率矩陣轉換為 PyTorch 張量。\n",
    "#     predictions = torch.from_numpy(np.array(predictions, dtype=np.float32)).to(device)\n",
    "#     num_users = len(labels_list)\n",
    "#     evaluations = dict()\n",
    "#     for k in k_list:\n",
    "#         HR = []\n",
    "#         for i in range(num_users):\n",
    "#             # 將用戶 i 的真實標籤轉換為 PyTorch 張量。\n",
    "#             labels = torch.from_numpy(np.array(labels_list[i], dtype=np.int64)).to(device)\n",
    "#             # 計算用戶 i 在預測機率矩陣中機率最高的 K 個項目的索引。\n",
    "#             top_k_item_indices = torch.topk(predictions[i], k)[1]\n",
    "#             # 將用戶 i 在預測機率矩陣中機率最高的 K 個項目的索引和其真實標籤向量的交集，即為預測正確的項目數量。\n",
    "#             correct_num = torch.sum(torch.sum(torch.eq(top_k_item_indices, labels.unsqueeze(1)), dim=1))\n",
    "#             # 計算 HR。\n",
    "#             HR.append( correct_num.cpu()/len(labels) )\n",
    "#         # 計算 HR@K 分數。\n",
    "#         hr_at_k = np.mean(HR)\n",
    "#         key = '{}@{}'.format('HR',k)\n",
    "#         evaluations[key]=hr_at_k\n",
    "#     return evaluations"
   ]
  },
  {
   "cell_type": "markdown",
   "id": "fa92db9d",
   "metadata": {},
   "source": [
    "## F1-score"
   ]
  },
  {
   "cell_type": "code",
   "execution_count": 26,
   "id": "f7cca32b",
   "metadata": {},
   "outputs": [],
   "source": [
    "def calculate_f1_score_at_k(predictions, labels_list, k_list):\n",
    "    \"\"\"\n",
    "    計算 F1-score@K。\n",
    "\n",
    "    Args:\n",
    "        predictions: 二維的預測機率矩陣，大小為 [num_users, num_items]。\n",
    "        labels_list: 一個包含每個用戶真實標籤的列表，其中每個列表的大小不同。\n",
    "        k: 計算 F1-score@K 的 K 值。\n",
    "\n",
    "    Returns:\n",
    "        F1-score@K 分數。\n",
    "    \"\"\"\n",
    "    # 將預測機率矩陣轉換為 PyTorch 張量。\n",
    "    predictions = torch.from_numpy(np.array(predictions, dtype=np.float32))#.to('cuda')\n",
    "    num_users = len(labels_list)\n",
    "    f1_score_at_k_eval = dict()\n",
    "    \n",
    "    f1_score_sum = 0.0\n",
    "    for i in range(num_users):\n",
    "            #k_list[i] = 5                                  #　測試\n",
    "            # 將用戶 i 的真實標籤轉換為 PyTorch 張量。\n",
    "            labels = torch.from_numpy(np.array(labels_list[i], dtype=np.int64))#.to('cuda')\n",
    "            # 計算用戶 i 在預測機率矩陣中機率最高的 K 個項目的索引。\n",
    "            top_k_item_labels = torch.topk(predictions[i], k_list[i])[1]\n",
    "            # 計算用戶 i 的真實標籤和預測標籤的交集。 # TP\n",
    "            true_positives = torch.sum(torch.sum(torch.eq(top_k_item_labels, labels.unsqueeze(1)).to(torch.float32), dim=1)).item()\n",
    "            # 計算用戶 i 的真實標籤和預測標籤的並集。\n",
    "            predicted_positives = k_list[i] # TP+FP\n",
    "            actual_positives = len(labels) # TP+FN\n",
    "            if predicted_positives == 0:\n",
    "                precision = 0.0\n",
    "            else:\n",
    "                precision = true_positives / predicted_positives\n",
    "            if actual_positives == 0:\n",
    "                recall = 0.0\n",
    "            else:\n",
    "                recall = true_positives / actual_positives\n",
    "#                 print(\"true_positives=\", true_positives)\n",
    "#                 print(\"predicted_positives=\", predicted_positives)\n",
    "#                 print(\"actual_positives=\", actual_positives)\n",
    "#                 print(\"precision=\", precision)\n",
    "#                 print(\"recall=\", recall)\n",
    "            # 計算 F1-score。\n",
    "            if precision + recall == 0:\n",
    "                f1_score = 0.0\n",
    "            else:\n",
    "                f1_score = 2 * precision * recall / (precision + recall)\n",
    "            f1_score_sum += f1_score\n",
    "    # 計算平均 F1-score@K 分數。\n",
    "    f1_score_at_k = f1_score_sum / float(num_users)\n",
    "    key = '{}'.format('F1-score')\n",
    "    f1_score_at_k_eval[key]=f1_score_at_k\n",
    "        \n",
    "    return f1_score_at_k_eval"
   ]
  },
  {
   "cell_type": "code",
   "execution_count": 27,
   "id": "b303cb7e",
   "metadata": {},
   "outputs": [],
   "source": [
    "# def calculate_f1_score_at_k(predictions, labels_list, k):\n",
    "#     \"\"\"\n",
    "#     計算 F1-score@K。\n",
    "\n",
    "#     Args:\n",
    "#         predictions: 二維的預測機率矩陣，大小為 [num_users, num_items]。\n",
    "#         labels_list: 一個包含每個用戶真實標籤的列表，其中每個列表的大小不同。\n",
    "#         k: 計算 F1-score@K 的 K 值。\n",
    "\n",
    "#     Returns:\n",
    "#         F1-score@K 分數。\n",
    "#     \"\"\"\n",
    "#     # 將預測機率矩陣轉換為 PyTorch 張量。\n",
    "#     predictions = torch.from_numpy(np.array(predictions, dtype=np.float32))#.to('cuda')\n",
    "#     num_users = len(labels_list)\n",
    "#     f1_score_at_k_eval = dict()\n",
    "    \n",
    "\n",
    "#     f1_score_sum = 0.0\n",
    "#     for i in range(num_users):\n",
    "#             # 將用戶 i 的真實標籤轉換為 PyTorch 張量。\n",
    "#             labels = torch.from_numpy(np.array(labels_list[i], dtype=np.int64))#.to('cuda')\n",
    "#             # 計算用戶 i 在預測機率矩陣中機率最高的 K 個項目的索引。\n",
    "#             top_k_item_labels = torch.topk(predictions[i], k)[1]\n",
    "#             # 計算用戶 i 的真實標籤和預測標籤的交集。 # TP\n",
    "#             true_positives = torch.sum(torch.sum(torch.eq(top_k_item_labels, labels.unsqueeze(1)).to(torch.float32), dim=1)).item()\n",
    "#             # 計算用戶 i 的真實標籤和預測標籤的並集。\n",
    "#             predicted_positives = k # TP+FP\n",
    "#             actual_positives = len(labels) # TP+FN\n",
    "#             if actual_positives == 0:\n",
    "#                 precision = 0.0\n",
    "#                 recall = 0.0\n",
    "#             else:\n",
    "#                 precision = true_positives / predicted_positives\n",
    "#                 recall = true_positives / actual_positives\n",
    "#             # 計算 F1-score。\n",
    "#             if precision + recall == 0:\n",
    "#                 f1_score = 0.0\n",
    "#             else:\n",
    "#                 f1_score = 2 * precision * recall / (precision + recall)\n",
    "#             f1_score_sum += f1_score\n",
    "#     # 計算平均 F1-score@K 分數。\n",
    "#     f1_score_at_k = f1_score_sum / float(num_users)\n",
    "#     key = '{}'.format('F1-score')\n",
    "#     f1_score_at_k_eval[key]=f1_score_at_k\n",
    "        \n",
    "#     return f1_score_at_k_eval"
   ]
  },
  {
   "cell_type": "markdown",
   "id": "506ff404",
   "metadata": {},
   "source": [
    "## NDCG"
   ]
  },
  {
   "cell_type": "code",
   "execution_count": 28,
   "id": "4c566188",
   "metadata": {},
   "outputs": [],
   "source": [
    "# NDCG@K\n",
    "def calculate_ndcg_at_k(predictions, labels_list, k_list):\n",
    "    # 將預測機率矩陣轉換為 PyTorch 張量。\n",
    "    predictions = torch.from_numpy(np.array(predictions, dtype=np.float32))\n",
    "    num_users = len(labels_list)\n",
    "    ndcg_at_k_eval = dict()\n",
    "    \n",
    "    ndcg_sum = 0.0\n",
    "    for i in range(num_users):\n",
    "        #k_list[i] = 5                                  #　測試\n",
    "        # 將用戶 i 的真實標籤轉換為 PyTorch 張量。\n",
    "        labels = torch.from_numpy(np.array(labels_list[i], dtype=np.int64))\n",
    "        # 計算用戶 i 在預測機率矩陣中機率最高的 K 個項目的索引=標籤。\n",
    "        top_k_item_labels = torch.topk(predictions[i], k_list[i])[1]\n",
    "        # 計算 DCG@K。\n",
    "        dcg_at_k = torch.sum(torch.nan_to_num(torch.div(1.0, torch.log2(torch.arange(k_list[i], dtype=torch.float32) + 2))) * (torch.eq(top_k_item_labels, labels.unsqueeze(1)).to(torch.float32) ))\n",
    "        # 計算 IDCG@K。\n",
    "        idcg_at_k = torch.sum(torch.nan_to_num(torch.div(1.0, torch.log2(torch.arange(min(k_list[i], len(labels)), dtype=torch.float32) + 2))))\n",
    "        # 計算 NDCG@K。\n",
    "        ndcg_at_k = dcg_at_k / idcg_at_k\n",
    "        ndcg_sum += ndcg_at_k.item()\n",
    "    # 計算平均 NDCG@K 分數。\n",
    "    ndcg_at_k = ndcg_sum / float(num_users)\n",
    "    key = '{}'.format('NDCG')\n",
    "    ndcg_at_k_eval[key]=ndcg_at_k\n",
    "        \n",
    "\n",
    "    return ndcg_at_k_eval"
   ]
  },
  {
   "cell_type": "code",
   "execution_count": 29,
   "id": "497b6367",
   "metadata": {},
   "outputs": [],
   "source": [
    "# # NDCG@K\n",
    "# def calculate_ndcg_at_k(predictions, labels_list, k):\n",
    "#     # 將預測機率矩陣轉換為 PyTorch 張量。\n",
    "#     predictions = torch.from_numpy(np.array(predictions, dtype=np.float32))\n",
    "#     num_users = len(labels_list)\n",
    "#     ndcg_at_k_eval = dict()\n",
    "    \n",
    "#     ndcg_sum = 0.0\n",
    "#     for i in range(num_users):\n",
    "#         # 將用戶 i 的真實標籤轉換為 PyTorch 張量。\n",
    "#         labels = torch.from_numpy(np.array(labels_list[i], dtype=np.int64))\n",
    "#         # 計算用戶 i 在預測機率矩陣中機率最高的 K 個項目的索引=標籤。\n",
    "#         top_k_item_labels = torch.topk(predictions[i], k)[1]\n",
    "#         # 計算 DCG@K。\n",
    "#         dcg_at_k = torch.sum(torch.div(1.0, torch.log2(torch.arange(k, dtype=torch.float32) + 2)) * (torch.eq(top_k_item_labels, labels.unsqueeze(1)).to(torch.float32) ))\n",
    "#         # 計算 IDCG@K。\n",
    "#         #idcg_at_k = torch.sum(torch.div(1.0, torch.log2(torch.arange(min(k, len(labels)), dtype=torch.float32) + 2)))\n",
    "#         idcg_at_k = torch.sum(torch.div(1.0, torch.log2(torch.arange(len(labels), dtype=torch.float32) + 2)))\n",
    "#         # 計算 NDCG@K。\n",
    "#         ndcg_at_k = dcg_at_k / idcg_at_k\n",
    "#         ndcg_sum += ndcg_at_k.item()\n",
    "#     # 計算平均 NDCG@K 分數。\n",
    "#     ndcg_at_k = ndcg_sum / float(num_users)\n",
    "#     key = '{}'.format('NDCG')\n",
    "#     ndcg_at_k_eval[key]=ndcg_at_k\n",
    "        \n",
    "\n",
    "#     return ndcg_at_k_eval"
   ]
  },
  {
   "cell_type": "code",
   "execution_count": null,
   "id": "db042304",
   "metadata": {},
   "outputs": [],
   "source": [
    "def c"
   ]
  },
  {
   "cell_type": "markdown",
   "id": "458759fa",
   "metadata": {},
   "source": [
    "## MPR"
   ]
  },
  {
   "cell_type": "code",
   "execution_count": 30,
   "id": "9160a9fa",
   "metadata": {},
   "outputs": [],
   "source": [
    "# #MRR\n",
    "# def calculate_MRR(predictions, labels_list):\n",
    "#     reciprocal_ranks = []\n",
    "#     # 將預測機率矩陣轉換為 numpy 數組。\n",
    "#     predictions = np.array(predictions, dtype=np.float32)\n",
    "#     # 預先排序預測結果（降序）\n",
    "#     sorted_predictions = np.argsort(predictions)[:,::-1]\n",
    "#     # 遍歷每個查詢的預測結果與目標結果\n",
    "#     for pred, targets in zip(sorted_predictions, labels_list):\n",
    "#         # 將目標結果轉換為集合\n",
    "#         target_set = set(targets.numpy())\n",
    "#         # 尋找目標的排名\n",
    "#         rank = next((i + 1 for i, p in enumerate(pred) if p in target_set), 0)\n",
    "#         # 計算倒數排名\n",
    "#         reciprocal_rank = 1 / rank if rank > 0 else 0\n",
    "#         reciprocal_ranks.append(reciprocal_rank)\n",
    "#     # 計算 MRR\n",
    "#     mrr_score = sum(reciprocal_ranks) / len(reciprocal_ranks)\n",
    "#     return mrr_score"
   ]
  },
  {
   "cell_type": "markdown",
   "id": "be5f7b84",
   "metadata": {},
   "source": [
    "## MAP"
   ]
  },
  {
   "cell_type": "code",
   "execution_count": 31,
   "id": "074334ff",
   "metadata": {},
   "outputs": [],
   "source": [
    "# #MAP\n",
    "# def calculate_MAP(predictions, labels_list):\n",
    "#     average_precisions = []\n",
    "#     # 將預測機率矩陣轉換為 numpy 數組。\n",
    "#     predictions = np.array(predictions, dtype=np.float32)\n",
    "#     # 預先排序預測結果（降序）\n",
    "#     sorted_predictions = np.argsort(predictions)[:,::-1]\n",
    "#     # 遍歷每個查詢的預測結果與目標結果\n",
    "#     for pred, targets in zip(sorted_predictions, labels_list):\n",
    "#         # 將目標結果轉換為集合\n",
    "#         target_set = set(targets.numpy())\n",
    "#         # 計算查詢的精確度\n",
    "#         precision = []\n",
    "#         hits = 0\n",
    "#         for i, p in enumerate(pred):\n",
    "#             if p in target_set:\n",
    "#                 hits += 1\n",
    "#                 precision.append(hits / (i + 1))\n",
    "#         # 計算平均精確度\n",
    "#         if precision:\n",
    "#             average_precision = sum(precision) / len(precision)\n",
    "#             average_precisions.append(average_precision)\n",
    "#     # 計算 MAP\n",
    "#     map_score = sum(average_precisions) / len(average_precisions)\n",
    "#     return map_score"
   ]
  },
  {
   "cell_type": "markdown",
   "id": "213301db",
   "metadata": {},
   "source": [
    "# 訓練&測試"
   ]
  },
  {
   "cell_type": "code",
   "execution_count": 32,
   "id": "5d503206",
   "metadata": {},
   "outputs": [],
   "source": [
    "# 訓練模型\n",
    "def train_model():\n",
    "    my_model.train()\n",
    "    loss_list = []\n",
    "    \n",
    "    for batch_idx, (userID, basket_input, basket_label, size_input, size_label, offsets) in enumerate(tqdm(train_dataloader)):\n",
    "        optimizer.zero_grad()\n",
    "        basket_output, size_output, indices = my_model(basket_input, size_input, offsets[1:])\n",
    "        # 計算損失\n",
    "        loss = ALPHA * mean_square_error(size_output, size_label) + (1-ALPHA) * cross_entropy_loss(basket_output , basket_label)\n",
    "        loss_list.append(loss.item())\n",
    "        loss.backward()\n",
    "        optimizer.step()\n",
    "\n",
    "        if (batch_idx%100 == 0) or (batch_idx == len(train_dataloader)-1) :\n",
    "            percentage = (100. * batch_idx/len(train_dataloader))\n",
    "            print(f'Epoch {epoch}: {percentage:.0f}% , Loss: {loss.item():.6f}')\n",
    "\n",
    "        with torch.no_grad():\n",
    "            basket_output = torch.from_numpy(np.array(basket_output.cpu(), dtype=np.float32))\n",
    "            size_output = np.round(np.squeeze(np.array(size_output.cpu(), dtype=np.float32))).astype(int).tolist()\n",
    "            #print(\"size_output\", size_output)\n",
    "            if batch_idx==0:\n",
    "                basket_outputs = basket_output\n",
    "                labels_list = basket_label\n",
    "                size_list = size_output\n",
    "            else:\n",
    "                basket_outputs = torch.cat( (basket_outputs, basket_output ),-2 )\n",
    "                labels_list = labels_list + basket_label\n",
    "                size_list = size_list+size_output\n",
    "#     print(\"basket_outputs.size()\", basket_outputs.size())\n",
    "#     print(\"len(labels_list)\", len(labels_list))\n",
    "#     print(\"len(labels_list[0])\", len(labels_list[0]))\n",
    "#     print(\"size_list\", len(size_list))\n",
    "#     print(\"size\", size_list)\n",
    "    with torch.no_grad():\n",
    "#         evaluations = calculate_hr_at_k(outputs, labels_list, [5,10,20,50])\n",
    "#         res_str = '(' + format_metric(evaluations) + ')'\n",
    "#         print(f\"                      {res_str}\\n\")\n",
    "\n",
    "        evaluations = calculate_f1_score_at_k(basket_outputs, labels_list, size_list)\n",
    "        res_str = '(' + format_metric(evaluations) + ')'\n",
    "        print(f\"                      {res_str}\\n\")\n",
    "\n",
    "        evaluations = calculate_ndcg_at_k(basket_outputs, labels_list, size_list)\n",
    "        res_str = '(' + format_metric(evaluations) + ')'\n",
    "        print(f\"                      {res_str}\\n\")\n",
    "        \n",
    "#         mrr_score = calculate_MRR( outputs, labels_list )\n",
    "#         print(f'MRR: {mrr_score}')\n",
    "#         map_score = calculate_MAP( outputs, labels_list )\n",
    "#         print(f'MAP: {map_score}')\n",
    "\n",
    "    return torch.mean(torch.tensor(loss_list))"
   ]
  },
  {
   "cell_type": "code",
   "execution_count": 33,
   "id": "b0799869",
   "metadata": {},
   "outputs": [],
   "source": [
    "# 驗證模型\n",
    "def evaluate_model():\n",
    "    my_model.eval()\n",
    "    loss_list = []\n",
    "    \n",
    "    for batch_idx, (userID, basket_input, basket_label, size_input, size_label, offsets) in enumerate(tqdm(valid_dataloader)):\n",
    "        basket_output, size_output, indices = my_model(basket_input, size_input, offsets[1:])\n",
    "        # 計算損失\n",
    "        loss = ALPHA * mean_square_error(size_output, size_label) + (1-ALPHA) * cross_entropy_loss(basket_output , basket_label) \n",
    "        loss_list.append(loss.item())\n",
    "        with torch.no_grad():\n",
    "            basket_output = torch.from_numpy(np.array(basket_output.cpu(), dtype=np.float32))\n",
    "            size_output = np.round(np.squeeze(np.array(size_output.cpu(), dtype=np.float32))).astype(int).tolist()\n",
    "            if batch_idx==0:\n",
    "                basket_outputs = basket_output\n",
    "                labels_list = basket_label\n",
    "                size_list = size_output\n",
    "            else:\n",
    "                basket_outputs = torch.cat( (basket_outputs, basket_output ),-2 )\n",
    "                labels_list = labels_list + basket_label\n",
    "                size_list = size_list+size_output\n",
    "\n",
    "    with torch.no_grad():\n",
    "#         evaluations = calculate_hr_at_k(outputs, labels_list, size_list)\n",
    "#         hr_5_rec = evaluations['HR@5']\n",
    "#         res_str = '(' + format_metric(evaluations) + ')'\n",
    "#         print(f\"                      {res_str}\\n\")\n",
    "\n",
    "        evaluations = calculate_f1_score_at_k(basket_outputs, labels_list, size_list)\n",
    "        res_str = '(' + format_metric(evaluations) + ')'\n",
    "        print(f\"                      {res_str}\\n\")\n",
    "\n",
    "        evaluations = calculate_ndcg_at_k(basket_outputs, labels_list, size_list)\n",
    "        res_str = '(' + format_metric(evaluations) + ')'\n",
    "        print(f\"                      {res_str}\\n\")\n",
    "        \n",
    "#         mrr_score = calculate_MRR( outputs, labels_list )\n",
    "#         print(f'MRR: {mrr_score}')\n",
    "#         map_score = calculate_MAP( outputs, labels_list )\n",
    "#         print(f'MAP: {map_score}')\n",
    "\n",
    "    return torch.mean(torch.tensor(loss_list))"
   ]
  },
  {
   "cell_type": "code",
   "execution_count": 34,
   "id": "5e8d7319",
   "metadata": {},
   "outputs": [],
   "source": [
    "# 測試模型\n",
    "def test_model():\n",
    "    my_model.eval()\n",
    "    loss_list = []\n",
    "    \n",
    "    for batch_idx, (userID, basket_input, basket_label, size_input, size_label, offsets) in enumerate(tqdm(test_dataloader)):\n",
    "        basket_output, size_output, indices = my_model(basket_input, size_input, offsets[1:])\n",
    "        # 計算損失\n",
    "        loss = ALPHA * mean_square_error(size_output, size_label) + (1-ALPHA) * cross_entropy_loss(basket_output , basket_label)\n",
    "        loss_list.append(loss.item())\n",
    "        with torch.no_grad():\n",
    "            basket_output = torch.from_numpy(np.array(basket_output.cpu(), dtype=np.float32))\n",
    "            size_output = np.round(np.squeeze(np.array(size_output.cpu(), dtype=np.float32))).astype(int).tolist()\n",
    "            if batch_idx==0:\n",
    "                basket_outputs = basket_output\n",
    "                labels_list = basket_label\n",
    "                size_list = size_output\n",
    "            else:\n",
    "                basket_outputs = torch.cat( (basket_outputs, basket_output ),-2 )\n",
    "                labels_list = labels_list + basket_label\n",
    "                size_list = size_list+size_output\n",
    "\n",
    "    with torch.no_grad():\n",
    "#         hr_evaluations = calculate_hr_at_k(outputs, labels_list, [5,10,20,50])\n",
    "#         hr_5_rec = hr_evaluations['HR@5']\n",
    "#         hr_10_rec = hr_evaluations['HR@10']\n",
    "#         hr_20_rec = hr_evaluations['HR@20']\n",
    "#         hr_50_rec = hr_evaluations['HR@50']\n",
    "#         hr_list = [hr_5_rec, hr_10_rec, hr_20_rec, hr_50_rec]\n",
    "#         res_str = '(' + format_metric(hr_evaluations) + ')'\n",
    "#         print(f\"                      {res_str}\\n\")\n",
    "\n",
    "        f1_evaluations = calculate_f1_score_at_k(basket_outputs, labels_list, size_list)\n",
    "#         f1_5_rec = f1_evaluations['F1-score@5']\n",
    "#         f1_10_rec = f1_evaluations['F1-score@10']\n",
    "#         f1_20_rec = f1_evaluations['F1-score@20']\n",
    "#         f1_50_rec = f1_evaluations['F1-score@50']\n",
    "        f1_list = [f1_evaluations]\n",
    "        res_str = '(' + format_metric(f1_evaluations) + ')'\n",
    "        print(f\"                      {res_str}\\n\")\n",
    "\n",
    "        ndcg_evaluations = calculate_ndcg_at_k(basket_outputs, labels_list, size_list)\n",
    "#         ndcg_5_rec = ndcg_evaluations['NDCG@5']\n",
    "#         ndcg_10_rec = ndcg_evaluations['NDCG@10']\n",
    "#         ndcg_20_rec = ndcg_evaluations['NDCG@20']\n",
    "#         ndcg_50_rec = ndcg_evaluations['NDCG@50']\n",
    "        ndcg_list = [ndcg_evaluations]\n",
    "        res_str = '(' + format_metric(ndcg_evaluations) + ')'\n",
    "        print(f\"                      {res_str}\\n\")\n",
    "        \n",
    "#         mrr_score = calculate_MRR( outputs, labels_list )\n",
    "#         print(f'MRR: {mrr_score}')\n",
    "#         map_score = calculate_MAP( outputs, labels_list )\n",
    "#         print(f'MAP: {map_score}')\n",
    "\n",
    "    return torch.mean(torch.tensor(loss_list)),f1_list,ndcg_list\n",
    "#    return torch.mean(torch.tensor(loss_list)),hr_5_rec,hr_list,f1_list,ndcg_list, mrr_score, map_score"
   ]
  },
  {
   "cell_type": "markdown",
   "id": "1abc8fbc",
   "metadata": {},
   "source": [
    "# 完整模型"
   ]
  },
  {
   "cell_type": "code",
   "execution_count": 35,
   "id": "5ad81bac",
   "metadata": {},
   "outputs": [
    {
     "name": "stdout",
     "output_type": "stream",
     "text": [
      "items_count= 15764\n",
      "tensor([1.7128e-03, 1.1418e-03, 2.4169e-02,  ..., 6.3436e-05, 6.3436e-05,\n",
      "        6.3436e-05], device='cuda:0', dtype=torch.float64)\n"
     ]
    }
   ],
   "source": [
    "# 項目總數\n",
    "items_count = TaFeng_confidences_array.shape[0]\n",
    "print(\"items_count=\",items_count)\n",
    "# 項目出現次數\n",
    "items_frq = Counter(TaFeng[\"NEW_ITEM_ID\"])\n",
    "# 計算每個項目出現的比例: items_frq/items_count\n",
    "item_weight = torch.tensor( np.array( list(items_frq.values()) )/items_count ).to(device)\n",
    "print(item_weight) # 按照new_item_id順序排列"
   ]
  },
  {
   "cell_type": "markdown",
   "id": "975d9e58",
   "metadata": {},
   "source": [
    "## 加上信賴度矩陣"
   ]
  },
  {
   "cell_type": "code",
   "execution_count": 36,
   "id": "5d571c57",
   "metadata": {},
   "outputs": [
    {
     "data": {
      "text/plain": [
       "tensor([[0.0000, 0.0370, 0.0370,  ..., 0.0000, 0.0000, 0.0000],\n",
       "        [0.0556, 0.0000, 0.0556,  ..., 0.0000, 0.0000, 0.0000],\n",
       "        [0.0026, 0.0026, 0.0000,  ..., 0.0000, 0.0000, 0.0000],\n",
       "        ...,\n",
       "        [0.0000, 0.0000, 0.0000,  ..., 0.0000, 0.0000, 0.0000],\n",
       "        [0.0000, 0.0000, 0.0000,  ..., 0.0000, 0.0000, 0.0000],\n",
       "        [0.0000, 0.0000, 0.0000,  ..., 0.0000, 0.0000, 0.0000]],\n",
       "       device='cuda:0', dtype=torch.float64)"
      ]
     },
     "execution_count": 36,
     "metadata": {},
     "output_type": "execute_result"
    }
   ],
   "source": [
    "# 信賴度矩陣\n",
    "confidences_array = torch.tensor(TaFeng_confidences_array,dtype=torch.float64).to(device)\n",
    "confidences_array"
   ]
  },
  {
   "cell_type": "code",
   "execution_count": 37,
   "id": "926dfc91",
   "metadata": {},
   "outputs": [],
   "source": [
    "def Interleave(tensor1, tensor2):\n",
    "    result = torch.stack((tensor1, tensor2), dim=1)\n",
    "    Interleave_tensor = torch.reshape(result, (-1, MODEL_DIMENSION))\n",
    "    #print(\"test3\", Interleave_tensor)\n",
    "    #print(Interleave_tensor.device)\n",
    "    return (Interleave_tensor)"
   ]
  },
  {
   "cell_type": "code",
   "execution_count": 38,
   "id": "b00066a0",
   "metadata": {},
   "outputs": [],
   "source": [
    "class MyModel01(nn.Module):\n",
    "    def __init__(self, embed_dim, model_dim, hidden_dim, items_count):\n",
    "        super(MyModel01, self).__init__()\n",
    "        self.model_dim = model_dim\n",
    "        self.embedding = nn.Embedding.from_pretrained(weights, freeze=False)\n",
    "        self.embedding.requires_grad = True\n",
    "        self.attn = SelfAttention(embed_dim=embed_dim ,model_dim=model_dim)\n",
    "        self.linear_transform = LinearTransformation(model_dim = model_dim)\n",
    "        self.model_encoder = TransformerEncoder(d_model=model_dim , num_heads=NUM_HEAD, num_layers=NUM_LAYER)\n",
    "        self.mlp = MLPLayer(model_dim, hidden_dim, items_count ) # 嵌入維度、隱藏層維度、總項目數量\n",
    "        self.sizemlp = MLPLayerForSize(model_dim, hidden_dim)\n",
    "        self.relu = nn.ReLU()\n",
    "\n",
    "        \n",
    "    def forward(self, basket_input, size_input ,lengths):\n",
    "        \n",
    "        inputs, attention_mask = [], []\n",
    "\n",
    "        # 為每個用戶的購物籃加上 padding跟 mask\n",
    "        for user in basket_input:\n",
    "            # 將購物籃項目 ID 轉換為嵌入向量\n",
    "            batch_features = [ self.embedding(torch.tensor(cart).to(device)) for cart in user ]\n",
    "            # 進行 padding\n",
    "            #print(\"obatch_size\", batch_features)\n",
    "            batch_features = rnn_utils.pad_sequence(batch_features, batch_first=True, padding_value=0)\n",
    "            # 購物籃中項目的遮罩\n",
    "            mask = ~batch_features.sum(dim=-1).ne(0)\n",
    "            #print(\"batch_size\", batch_features.size())\n",
    "            inputs.append(batch_features)\n",
    "            attention_mask.append(mask)\n",
    "\n",
    "            \n",
    "        # 進入自注意力，輸出形狀為 (BATCH_SIZE, basket_size, embed_dim)\n",
    "        basket_embedding_list = []\n",
    "        for i,user_inputs in enumerate(inputs):\n",
    "            test = self.attn(user_inputs,attention_mask[i])\n",
    "            #basket_embedding_list.append(test)\n",
    "            #print(\"test_size\", test.size())\n",
    "            #print(\"test\", test)\n",
    "            \n",
    "            test2 = self.linear_transform(torch.tensor([[float(_)] for _ in size_input[i]]).to(device))\n",
    "            #size_embedding_list.append(test2)\n",
    "            #print(\"test\", test.size())\n",
    "            #print(\"test2\", test2.size())\n",
    "            basket_embedding = Interleave(test, test2)\n",
    "            #print(\"test3\", basket_embedding.size())\n",
    "            basket_embedding_list.append(basket_embedding)\n",
    "            #print(\"test2_size\", test2.size())\n",
    "            #bs_encoder = self.linear_transform()\n",
    "            #basket_embedding_list.append(self.attn(user_inputs,attention_mask[i]))\n",
    "            \n",
    "        \n",
    "        \n",
    "        # 進行購物籃的 padding\n",
    "        input_seq = rnn_utils.pad_sequence(basket_embedding_list, batch_first=True, padding_value=0)\n",
    "        #print(input_seq.size())\n",
    "        \n",
    "        \n",
    "        # 進入Transformer\n",
    "        basket_embed = self.model_encoder(input_seq.to(device))\n",
    "        \n",
    "        B_s_list = []\n",
    "        for i, b in enumerate(basket_embed):\n",
    "            basket_size = len(attention_mask[i])\n",
    "            B_s = b[basket_size-1]  # 取得最後一個購物籃向量\n",
    "            B_s_list.append(B_s)\n",
    "            \n",
    "        # SIZE_MLP\n",
    "        k = self.sizemlp(torch.stack(B_s_list, dim=0))\n",
    "        #print(\"k\", k)\n",
    "        # 進入MLP層\n",
    "        p = self.mlp(torch.stack(B_s_list, dim=0))\n",
    "        pc = (self.relu(p.to(torch.float64))+1e-8) @ confidences_array\n",
    "        pw = torch.mul( p, item_weight )\n",
    "        p_ = torch.mul(BETA, torch.add(pc,pw)) + torch.mul(1-BETA, p.to(torch.float64))\n",
    "        y = p_\n",
    "        Y,indices = torch.topk(y, k=10)\n",
    "        return y, k, indices"
   ]
  },
  {
   "cell_type": "code",
   "execution_count": 39,
   "id": "88bf8d6f",
   "metadata": {},
   "outputs": [
    {
     "data": {
      "text/plain": [
       "MyModel01(\n",
       "  (embedding): Embedding(15764, 32)\n",
       "  (attn): SelfAttention(\n",
       "    (query_matrix): Linear(in_features=32, out_features=32, bias=True)\n",
       "    (key_matrix): Linear(in_features=32, out_features=32, bias=True)\n",
       "    (value_matrix): Linear(in_features=32, out_features=32, bias=True)\n",
       "    (multihead_attn): MultiheadAttention(\n",
       "      (out_proj): NonDynamicallyQuantizableLinear(in_features=32, out_features=32, bias=True)\n",
       "    )\n",
       "  )\n",
       "  (linear_transform): LinearTransformation(\n",
       "    (embed): Linear(in_features=1, out_features=32, bias=True)\n",
       "    (activate): ReLU()\n",
       "  )\n",
       "  (model_encoder): TransformerEncoder(\n",
       "    (pe): PositionalEncoding(\n",
       "      (dropout): Dropout(p=0.5, inplace=False)\n",
       "    )\n",
       "    (transformer): TransformerEncoder(\n",
       "      (layers): ModuleList(\n",
       "        (0-7): 8 x TransformerEncoderLayer(\n",
       "          (self_attn): MultiheadAttention(\n",
       "            (out_proj): NonDynamicallyQuantizableLinear(in_features=32, out_features=32, bias=True)\n",
       "          )\n",
       "          (linear1): Linear(in_features=32, out_features=2048, bias=True)\n",
       "          (dropout): Dropout(p=0.1, inplace=False)\n",
       "          (linear2): Linear(in_features=2048, out_features=32, bias=True)\n",
       "          (norm1): LayerNorm((32,), eps=1e-05, elementwise_affine=True)\n",
       "          (norm2): LayerNorm((32,), eps=1e-05, elementwise_affine=True)\n",
       "          (dropout1): Dropout(p=0.1, inplace=False)\n",
       "          (dropout2): Dropout(p=0.1, inplace=False)\n",
       "        )\n",
       "      )\n",
       "    )\n",
       "  )\n",
       "  (mlp): MLPLayer(\n",
       "    (hidden): Linear(in_features=32, out_features=256, bias=True)\n",
       "    (norm): BatchNorm1d(256, eps=1e-05, momentum=0.03, affine=True, track_running_stats=True)\n",
       "    (activate): ReLU()\n",
       "    (output): Linear(in_features=256, out_features=15764, bias=True)\n",
       "  )\n",
       "  (sizemlp): MLPLayerForSize(\n",
       "    (hidden): Linear(in_features=32, out_features=256, bias=True)\n",
       "    (norm): BatchNorm1d(256, eps=1e-05, momentum=0.03, affine=True, track_running_stats=True)\n",
       "    (activate): ReLU()\n",
       "    (output): Linear(in_features=256, out_features=1, bias=True)\n",
       "  )\n",
       "  (relu): ReLU()\n",
       ")"
      ]
     },
     "execution_count": 39,
     "metadata": {},
     "output_type": "execute_result"
    }
   ],
   "source": [
    "my_model = MyModel01(embed_dim=EMBEDDING_DIMENSION, model_dim=MODEL_DIMENSION,  hidden_dim=HIDDEN_DIMENSION,  items_count=items_count ).to(device)\n",
    "optimizer = torch.optim.Adam(my_model.parameters(),lr=LEARNING_RATE)\n",
    "my_model.train()"
   ]
  },
  {
   "cell_type": "code",
   "execution_count": 40,
   "id": "dc547691",
   "metadata": {
    "scrolled": true
   },
   "outputs": [
    {
     "name": "stderr",
     "output_type": "stream",
     "text": [
      "  0%|          | 1/932 [00:00<14:53,  1.04it/s]"
     ]
    },
    {
     "name": "stdout",
     "output_type": "stream",
     "text": [
      "Epoch 1: 0% , Loss: 1.871141\n"
     ]
    },
    {
     "name": "stderr",
     "output_type": "stream",
     "text": [
      " 11%|█         | 102/932 [00:12<01:44,  7.95it/s]"
     ]
    },
    {
     "name": "stdout",
     "output_type": "stream",
     "text": [
      "Epoch 1: 11% , Loss: 2.404242\n"
     ]
    },
    {
     "name": "stderr",
     "output_type": "stream",
     "text": [
      " 22%|██▏       | 202/932 [00:24<01:30,  8.09it/s]"
     ]
    },
    {
     "name": "stdout",
     "output_type": "stream",
     "text": [
      "Epoch 1: 21% , Loss: 1.052704\n"
     ]
    },
    {
     "name": "stderr",
     "output_type": "stream",
     "text": [
      " 32%|███▏      | 302/932 [00:37<01:20,  7.83it/s]"
     ]
    },
    {
     "name": "stdout",
     "output_type": "stream",
     "text": [
      "Epoch 1: 32% , Loss: 0.660144\n"
     ]
    },
    {
     "name": "stderr",
     "output_type": "stream",
     "text": [
      " 43%|████▎     | 401/932 [00:50<01:09,  7.61it/s]"
     ]
    },
    {
     "name": "stdout",
     "output_type": "stream",
     "text": [
      "Epoch 1: 43% , Loss: 0.883570\n"
     ]
    },
    {
     "name": "stderr",
     "output_type": "stream",
     "text": [
      " 54%|█████▍    | 502/932 [01:04<00:55,  7.77it/s]"
     ]
    },
    {
     "name": "stdout",
     "output_type": "stream",
     "text": [
      "Epoch 1: 54% , Loss: 1.419001\n"
     ]
    },
    {
     "name": "stderr",
     "output_type": "stream",
     "text": [
      " 65%|██████▍   | 602/932 [01:19<00:46,  7.04it/s]"
     ]
    },
    {
     "name": "stdout",
     "output_type": "stream",
     "text": [
      "Epoch 1: 64% , Loss: 3.687261\n"
     ]
    },
    {
     "name": "stderr",
     "output_type": "stream",
     "text": [
      " 75%|███████▌  | 702/932 [01:34<00:34,  6.60it/s]"
     ]
    },
    {
     "name": "stdout",
     "output_type": "stream",
     "text": [
      "Epoch 1: 75% , Loss: 0.357131\n"
     ]
    },
    {
     "name": "stderr",
     "output_type": "stream",
     "text": [
      " 86%|████████▌ | 802/932 [01:51<00:21,  6.11it/s]"
     ]
    },
    {
     "name": "stdout",
     "output_type": "stream",
     "text": [
      "Epoch 1: 86% , Loss: 0.315804\n"
     ]
    },
    {
     "name": "stderr",
     "output_type": "stream",
     "text": [
      " 97%|█████████▋| 901/932 [02:07<00:05,  5.76it/s]"
     ]
    },
    {
     "name": "stdout",
     "output_type": "stream",
     "text": [
      "Epoch 1: 97% , Loss: 0.361199\n"
     ]
    },
    {
     "name": "stderr",
     "output_type": "stream",
     "text": [
      "100%|██████████| 932/932 [02:13<00:00,  6.99it/s]\n"
     ]
    },
    {
     "name": "stdout",
     "output_type": "stream",
     "text": [
      "Epoch 1: 100% , Loss: 0.322591\n",
      "                      (F1-score: 0.0017)\n",
      "\n",
      "                      (NDCG: nan)\n",
      "\n",
      "train_loss= tensor(1.2148)\n",
      "--------------------\n"
     ]
    },
    {
     "name": "stderr",
     "output_type": "stream",
     "text": [
      "100%|██████████| 133/133 [00:09<00:00, 13.34it/s]\n"
     ]
    },
    {
     "name": "stdout",
     "output_type": "stream",
     "text": [
      "                      (F1-score: 0.0000)\n",
      "\n",
      "                      (NDCG: 0.0000)\n",
      "\n",
      "val_loss= tensor(0.7954)\n",
      "--------------------\n"
     ]
    },
    {
     "name": "stderr",
     "output_type": "stream",
     "text": [
      "100%|██████████| 266/266 [00:21<00:00, 12.21it/s]\n"
     ]
    },
    {
     "name": "stdout",
     "output_type": "stream",
     "text": [
      "                      (F1-score: 0.0000)\n",
      "\n",
      "                      (NDCG: 0.0001)\n",
      "\n",
      "--------------------\n",
      "[[1, {'F1-score': 1.3426423200859293e-05}, {'NDCG': 7.968989754081668e-05}, 0.7953537106513977]]\n",
      "-----------------------------------------------------------------------------------------\n"
     ]
    },
    {
     "name": "stderr",
     "output_type": "stream",
     "text": [
      "  0%|          | 2/932 [00:00<01:53,  8.19it/s]"
     ]
    },
    {
     "name": "stdout",
     "output_type": "stream",
     "text": [
      "Epoch 2: 0% , Loss: 0.735265\n"
     ]
    },
    {
     "name": "stderr",
     "output_type": "stream",
     "text": [
      " 11%|█         | 101/932 [00:11<01:35,  8.67it/s]"
     ]
    },
    {
     "name": "stdout",
     "output_type": "stream",
     "text": [
      "Epoch 2: 11% , Loss: 1.085490\n"
     ]
    },
    {
     "name": "stderr",
     "output_type": "stream",
     "text": [
      " 22%|██▏       | 202/932 [00:23<01:42,  7.14it/s]"
     ]
    },
    {
     "name": "stdout",
     "output_type": "stream",
     "text": [
      "Epoch 2: 21% , Loss: 0.401809\n"
     ]
    },
    {
     "name": "stderr",
     "output_type": "stream",
     "text": [
      " 32%|███▏      | 302/932 [00:36<01:26,  7.26it/s]"
     ]
    },
    {
     "name": "stdout",
     "output_type": "stream",
     "text": [
      "Epoch 2: 32% , Loss: 0.792542\n"
     ]
    },
    {
     "name": "stderr",
     "output_type": "stream",
     "text": [
      " 43%|████▎     | 402/932 [00:50<01:10,  7.54it/s]"
     ]
    },
    {
     "name": "stdout",
     "output_type": "stream",
     "text": [
      "Epoch 2: 43% , Loss: 0.287059\n"
     ]
    },
    {
     "name": "stderr",
     "output_type": "stream",
     "text": [
      " 54%|█████▍    | 502/932 [01:04<00:57,  7.48it/s]"
     ]
    },
    {
     "name": "stdout",
     "output_type": "stream",
     "text": [
      "Epoch 2: 54% , Loss: 0.552660\n"
     ]
    },
    {
     "name": "stderr",
     "output_type": "stream",
     "text": [
      " 65%|██████▍   | 602/932 [01:19<00:46,  7.04it/s]"
     ]
    },
    {
     "name": "stdout",
     "output_type": "stream",
     "text": [
      "Epoch 2: 64% , Loss: 0.481072\n"
     ]
    },
    {
     "name": "stderr",
     "output_type": "stream",
     "text": [
      " 75%|███████▌  | 702/932 [01:34<00:34,  6.60it/s]"
     ]
    },
    {
     "name": "stdout",
     "output_type": "stream",
     "text": [
      "Epoch 2: 75% , Loss: 0.267011\n"
     ]
    },
    {
     "name": "stderr",
     "output_type": "stream",
     "text": [
      " 86%|████████▌ | 801/932 [01:50<00:21,  6.23it/s]"
     ]
    },
    {
     "name": "stdout",
     "output_type": "stream",
     "text": [
      "Epoch 2: 86% , Loss: 0.256384\n"
     ]
    },
    {
     "name": "stderr",
     "output_type": "stream",
     "text": [
      " 97%|█████████▋| 901/932 [02:07<00:04,  6.27it/s]"
     ]
    },
    {
     "name": "stdout",
     "output_type": "stream",
     "text": [
      "Epoch 2: 97% , Loss: 0.199892\n"
     ]
    },
    {
     "name": "stderr",
     "output_type": "stream",
     "text": [
      "100%|██████████| 932/932 [02:12<00:00,  7.02it/s]\n"
     ]
    },
    {
     "name": "stdout",
     "output_type": "stream",
     "text": [
      "Epoch 2: 100% , Loss: 0.156024\n",
      "                      (F1-score: 0.0001)\n",
      "\n",
      "                      (NDCG: 0.0001)\n",
      "\n",
      "train_loss= tensor(0.6026)\n",
      "--------------------\n"
     ]
    },
    {
     "name": "stderr",
     "output_type": "stream",
     "text": [
      "100%|██████████| 133/133 [00:09<00:00, 13.74it/s]\n"
     ]
    },
    {
     "name": "stdout",
     "output_type": "stream",
     "text": [
      "                      (F1-score: 0.0001)\n",
      "\n",
      "                      (NDCG: 0.0001)\n",
      "\n",
      "val_loss= tensor(0.6858)\n",
      "--------------------\n"
     ]
    },
    {
     "name": "stderr",
     "output_type": "stream",
     "text": [
      "100%|██████████| 266/266 [00:21<00:00, 12.55it/s]\n"
     ]
    },
    {
     "name": "stdout",
     "output_type": "stream",
     "text": [
      "                      (F1-score: 0.0000)\n",
      "\n",
      "                      (NDCG: 0.0001)\n",
      "\n",
      "--------------------\n",
      "[[1, {'F1-score': 1.3426423200859293e-05}, {'NDCG': 7.968989754081668e-05}, 0.7953537106513977], [2, {'F1-score': 1.3426423200859293e-05}, {'NDCG': 7.968989754081668e-05}, 0.6858023405075073]]\n",
      "-----------------------------------------------------------------------------------------\n"
     ]
    },
    {
     "name": "stderr",
     "output_type": "stream",
     "text": [
      "  0%|          | 1/932 [00:00<01:46,  8.78it/s]"
     ]
    },
    {
     "name": "stdout",
     "output_type": "stream",
     "text": [
      "Epoch 3: 0% , Loss: 0.335597\n"
     ]
    },
    {
     "name": "stderr",
     "output_type": "stream",
     "text": [
      " 11%|█         | 102/932 [00:11<01:33,  8.90it/s]"
     ]
    },
    {
     "name": "stdout",
     "output_type": "stream",
     "text": [
      "Epoch 3: 11% , Loss: 0.903744\n"
     ]
    },
    {
     "name": "stderr",
     "output_type": "stream",
     "text": [
      " 22%|██▏       | 202/932 [00:23<01:25,  8.51it/s]"
     ]
    },
    {
     "name": "stdout",
     "output_type": "stream",
     "text": [
      "Epoch 3: 21% , Loss: 0.149079\n"
     ]
    },
    {
     "name": "stderr",
     "output_type": "stream",
     "text": [
      " 32%|███▏      | 302/932 [00:36<01:30,  6.93it/s]"
     ]
    },
    {
     "name": "stdout",
     "output_type": "stream",
     "text": [
      "Epoch 3: 32% , Loss: 0.152234\n"
     ]
    },
    {
     "name": "stderr",
     "output_type": "stream",
     "text": [
      " 43%|████▎     | 402/932 [00:50<01:24,  6.26it/s]"
     ]
    },
    {
     "name": "stdout",
     "output_type": "stream",
     "text": [
      "Epoch 3: 43% , Loss: 0.738044\n"
     ]
    },
    {
     "name": "stderr",
     "output_type": "stream",
     "text": [
      " 54%|█████▍    | 501/932 [01:04<01:07,  6.36it/s]"
     ]
    },
    {
     "name": "stdout",
     "output_type": "stream",
     "text": [
      "Epoch 3: 54% , Loss: 11.281494\n"
     ]
    },
    {
     "name": "stderr",
     "output_type": "stream",
     "text": [
      " 65%|██████▍   | 602/932 [01:19<00:51,  6.45it/s]"
     ]
    },
    {
     "name": "stdout",
     "output_type": "stream",
     "text": [
      "Epoch 3: 64% , Loss: 0.459297\n"
     ]
    },
    {
     "name": "stderr",
     "output_type": "stream",
     "text": [
      " 75%|███████▌  | 702/932 [01:35<00:34,  6.67it/s]"
     ]
    },
    {
     "name": "stdout",
     "output_type": "stream",
     "text": [
      "Epoch 3: 75% , Loss: 0.239187\n"
     ]
    },
    {
     "name": "stderr",
     "output_type": "stream",
     "text": [
      " 86%|████████▌ | 801/932 [01:51<00:21,  6.15it/s]"
     ]
    },
    {
     "name": "stdout",
     "output_type": "stream",
     "text": [
      "Epoch 3: 86% , Loss: 0.188016\n"
     ]
    },
    {
     "name": "stderr",
     "output_type": "stream",
     "text": [
      " 97%|█████████▋| 901/932 [02:07<00:05,  6.00it/s]"
     ]
    },
    {
     "name": "stdout",
     "output_type": "stream",
     "text": [
      "Epoch 3: 97% , Loss: 1.344258\n"
     ]
    },
    {
     "name": "stderr",
     "output_type": "stream",
     "text": [
      "100%|██████████| 932/932 [02:12<00:00,  7.01it/s]\n"
     ]
    },
    {
     "name": "stdout",
     "output_type": "stream",
     "text": [
      "Epoch 3: 100% , Loss: 0.116152\n",
      "                      (F1-score: 0.0073)\n",
      "\n",
      "                      (NDCG: 0.0110)\n",
      "\n",
      "train_loss= tensor(0.5245)\n",
      "--------------------\n"
     ]
    },
    {
     "name": "stderr",
     "output_type": "stream",
     "text": [
      "100%|██████████| 133/133 [00:09<00:00, 13.57it/s]\n"
     ]
    },
    {
     "name": "stdout",
     "output_type": "stream",
     "text": [
      "                      (F1-score: 0.0189)\n",
      "\n",
      "                      (NDCG: 0.0265)\n",
      "\n",
      "val_loss= tensor(0.5549)\n",
      "--------------------\n"
     ]
    },
    {
     "name": "stderr",
     "output_type": "stream",
     "text": [
      "100%|██████████| 266/266 [00:21<00:00, 12.44it/s]\n"
     ]
    },
    {
     "name": "stdout",
     "output_type": "stream",
     "text": [
      "                      (F1-score: 0.0191)\n",
      "\n",
      "                      (NDCG: 0.0266)\n",
      "\n",
      "--------------------\n",
      "[[1, {'F1-score': 1.3426423200859293e-05}, {'NDCG': 7.968989754081668e-05}, 0.7953537106513977], [2, {'F1-score': 1.3426423200859293e-05}, {'NDCG': 7.968989754081668e-05}, 0.6858023405075073], [3, {'F1-score': 0.019103043976875064}, {'NDCG': 0.026571972600247403}, 0.5548844933509827]]\n",
      "-----------------------------------------------------------------------------------------\n"
     ]
    },
    {
     "name": "stderr",
     "output_type": "stream",
     "text": [
      "  0%|          | 2/932 [00:00<01:49,  8.49it/s]"
     ]
    },
    {
     "name": "stdout",
     "output_type": "stream",
     "text": [
      "Epoch 4: 0% , Loss: 0.194771\n"
     ]
    },
    {
     "name": "stderr",
     "output_type": "stream",
     "text": [
      " 11%|█         | 102/932 [00:11<01:36,  8.58it/s]"
     ]
    },
    {
     "name": "stdout",
     "output_type": "stream",
     "text": [
      "Epoch 4: 11% , Loss: 0.269368\n"
     ]
    },
    {
     "name": "stderr",
     "output_type": "stream",
     "text": [
      " 22%|██▏       | 201/932 [00:23<01:22,  8.87it/s]"
     ]
    },
    {
     "name": "stdout",
     "output_type": "stream",
     "text": [
      "Epoch 4: 21% , Loss: 0.188581\n"
     ]
    },
    {
     "name": "stderr",
     "output_type": "stream",
     "text": [
      " 32%|███▏      | 302/932 [00:36<01:26,  7.29it/s]"
     ]
    },
    {
     "name": "stdout",
     "output_type": "stream",
     "text": [
      "Epoch 4: 32% , Loss: 0.447089\n"
     ]
    },
    {
     "name": "stderr",
     "output_type": "stream",
     "text": [
      " 43%|████▎     | 402/932 [00:50<01:14,  7.10it/s]"
     ]
    },
    {
     "name": "stdout",
     "output_type": "stream",
     "text": [
      "Epoch 4: 43% , Loss: 0.775591\n"
     ]
    },
    {
     "name": "stderr",
     "output_type": "stream",
     "text": [
      " 54%|█████▍    | 502/932 [01:04<01:00,  7.09it/s]"
     ]
    },
    {
     "name": "stdout",
     "output_type": "stream",
     "text": [
      "Epoch 4: 54% , Loss: 0.148497\n"
     ]
    },
    {
     "name": "stderr",
     "output_type": "stream",
     "text": [
      " 65%|██████▍   | 602/932 [01:18<00:48,  6.81it/s]"
     ]
    },
    {
     "name": "stdout",
     "output_type": "stream",
     "text": [
      "Epoch 4: 64% , Loss: 0.246017\n"
     ]
    },
    {
     "name": "stderr",
     "output_type": "stream",
     "text": [
      " 75%|███████▌  | 702/932 [01:34<00:37,  6.21it/s]"
     ]
    },
    {
     "name": "stdout",
     "output_type": "stream",
     "text": [
      "Epoch 4: 75% , Loss: 0.155218\n"
     ]
    },
    {
     "name": "stderr",
     "output_type": "stream",
     "text": [
      " 86%|████████▌ | 801/932 [01:50<00:21,  6.12it/s]"
     ]
    },
    {
     "name": "stdout",
     "output_type": "stream",
     "text": [
      "Epoch 4: 86% , Loss: 0.764037\n"
     ]
    },
    {
     "name": "stderr",
     "output_type": "stream",
     "text": [
      " 97%|█████████▋| 901/932 [02:07<00:05,  6.06it/s]"
     ]
    },
    {
     "name": "stdout",
     "output_type": "stream",
     "text": [
      "Epoch 4: 97% , Loss: 0.296585\n"
     ]
    },
    {
     "name": "stderr",
     "output_type": "stream",
     "text": [
      "100%|██████████| 932/932 [02:12<00:00,  7.02it/s]\n"
     ]
    },
    {
     "name": "stdout",
     "output_type": "stream",
     "text": [
      "Epoch 4: 100% , Loss: 0.102522\n",
      "                      (F1-score: 0.0181)\n",
      "\n",
      "                      (NDCG: 0.0395)\n",
      "\n",
      "train_loss= tensor(0.5055)\n",
      "--------------------\n"
     ]
    },
    {
     "name": "stderr",
     "output_type": "stream",
     "text": [
      "100%|██████████| 133/133 [00:09<00:00, 13.43it/s]\n"
     ]
    },
    {
     "name": "stdout",
     "output_type": "stream",
     "text": [
      "                      (F1-score: 0.0207)\n",
      "\n",
      "                      (NDCG: 0.0449)\n",
      "\n",
      "val_loss= tensor(0.5526)\n",
      "--------------------\n"
     ]
    },
    {
     "name": "stderr",
     "output_type": "stream",
     "text": [
      "100%|██████████| 266/266 [00:21<00:00, 12.43it/s]\n"
     ]
    },
    {
     "name": "stdout",
     "output_type": "stream",
     "text": [
      "                      (F1-score: 0.0210)\n",
      "\n",
      "                      (NDCG: 0.0450)\n",
      "\n",
      "--------------------\n",
      "[[1, {'F1-score': 1.3426423200859293e-05}, {'NDCG': 7.968989754081668e-05}, 0.7953537106513977], [2, {'F1-score': 1.3426423200859293e-05}, {'NDCG': 7.968989754081668e-05}, 0.6858023405075073], [3, {'F1-score': 0.019103043976875064}, {'NDCG': 0.026571972600247403}, 0.5548844933509827], [4, {'F1-score': 0.02096858546187785}, {'NDCG': 0.04502920015834104}, 0.5526114106178284]]\n",
      "-----------------------------------------------------------------------------------------\n"
     ]
    },
    {
     "name": "stderr",
     "output_type": "stream",
     "text": [
      "  0%|          | 2/932 [00:00<01:54,  8.10it/s]"
     ]
    },
    {
     "name": "stdout",
     "output_type": "stream",
     "text": [
      "Epoch 5: 0% , Loss: 0.437877\n"
     ]
    },
    {
     "name": "stderr",
     "output_type": "stream",
     "text": [
      " 11%|█         | 102/932 [00:11<01:38,  8.41it/s]"
     ]
    },
    {
     "name": "stdout",
     "output_type": "stream",
     "text": [
      "Epoch 5: 11% , Loss: 0.262971\n"
     ]
    },
    {
     "name": "stderr",
     "output_type": "stream",
     "text": [
      " 22%|██▏       | 202/932 [00:23<01:27,  8.35it/s]"
     ]
    },
    {
     "name": "stdout",
     "output_type": "stream",
     "text": [
      "Epoch 5: 21% , Loss: 0.665202\n"
     ]
    },
    {
     "name": "stderr",
     "output_type": "stream",
     "text": [
      " 32%|███▏      | 302/932 [00:36<01:21,  7.72it/s]"
     ]
    },
    {
     "name": "stdout",
     "output_type": "stream",
     "text": [
      "Epoch 5: 32% , Loss: 0.242470\n"
     ]
    },
    {
     "name": "stderr",
     "output_type": "stream",
     "text": [
      " 43%|████▎     | 402/932 [00:50<01:17,  6.83it/s]"
     ]
    },
    {
     "name": "stdout",
     "output_type": "stream",
     "text": [
      "Epoch 5: 43% , Loss: 0.158448\n"
     ]
    },
    {
     "name": "stderr",
     "output_type": "stream",
     "text": [
      " 54%|█████▍    | 502/932 [01:04<00:59,  7.17it/s]"
     ]
    },
    {
     "name": "stdout",
     "output_type": "stream",
     "text": [
      "Epoch 5: 54% , Loss: 0.155312\n"
     ]
    },
    {
     "name": "stderr",
     "output_type": "stream",
     "text": [
      " 65%|██████▍   | 602/932 [01:19<00:48,  6.74it/s]"
     ]
    },
    {
     "name": "stdout",
     "output_type": "stream",
     "text": [
      "Epoch 5: 64% , Loss: 0.644190\n"
     ]
    },
    {
     "name": "stderr",
     "output_type": "stream",
     "text": [
      " 75%|███████▌  | 702/932 [01:34<00:37,  6.09it/s]"
     ]
    },
    {
     "name": "stdout",
     "output_type": "stream",
     "text": [
      "Epoch 5: 75% , Loss: 0.098320\n"
     ]
    },
    {
     "name": "stderr",
     "output_type": "stream",
     "text": [
      " 86%|████████▌ | 801/932 [01:50<00:22,  5.79it/s]"
     ]
    },
    {
     "name": "stdout",
     "output_type": "stream",
     "text": [
      "Epoch 5: 86% , Loss: 0.250704\n"
     ]
    },
    {
     "name": "stderr",
     "output_type": "stream",
     "text": [
      " 97%|█████████▋| 901/932 [02:07<00:04,  6.31it/s]"
     ]
    },
    {
     "name": "stdout",
     "output_type": "stream",
     "text": [
      "Epoch 5: 97% , Loss: 0.230367\n"
     ]
    },
    {
     "name": "stderr",
     "output_type": "stream",
     "text": [
      "100%|██████████| 932/932 [02:12<00:00,  7.02it/s]\n"
     ]
    },
    {
     "name": "stdout",
     "output_type": "stream",
     "text": [
      "Epoch 5: 100% , Loss: 1.139004\n",
      "                      (F1-score: 0.0287)\n",
      "\n",
      "                      (NDCG: 0.0545)\n",
      "\n",
      "train_loss= tensor(0.4997)\n",
      "--------------------\n"
     ]
    },
    {
     "name": "stderr",
     "output_type": "stream",
     "text": [
      "100%|██████████| 133/133 [00:09<00:00, 13.45it/s]\n"
     ]
    },
    {
     "name": "stdout",
     "output_type": "stream",
     "text": [
      "                      (F1-score: 0.0380)\n",
      "\n",
      "                      (NDCG: 0.0644)\n",
      "\n",
      "val_loss= tensor(0.5066)\n",
      "--------------------\n"
     ]
    },
    {
     "name": "stderr",
     "output_type": "stream",
     "text": [
      "100%|██████████| 266/266 [00:21<00:00, 12.40it/s]\n"
     ]
    },
    {
     "name": "stdout",
     "output_type": "stream",
     "text": [
      "                      (F1-score: 0.0355)\n",
      "\n",
      "                      (NDCG: 0.0620)\n",
      "\n",
      "--------------------\n",
      "[[1, {'F1-score': 1.3426423200859293e-05}, {'NDCG': 7.968989754081668e-05}, 0.7953537106513977], [2, {'F1-score': 1.3426423200859293e-05}, {'NDCG': 7.968989754081668e-05}, 0.6858023405075073], [3, {'F1-score': 0.019103043976875064}, {'NDCG': 0.026571972600247403}, 0.5548844933509827], [4, {'F1-score': 0.02096858546187785}, {'NDCG': 0.04502920015834104}, 0.5526114106178284], [5, {'F1-score': 0.0354590595521211}, {'NDCG': 0.06195987741413869}, 0.5065855979919434]]\n",
      "-----------------------------------------------------------------------------------------\n"
     ]
    },
    {
     "name": "stderr",
     "output_type": "stream",
     "text": [
      "  0%|          | 2/932 [00:00<01:54,  8.11it/s]"
     ]
    },
    {
     "name": "stdout",
     "output_type": "stream",
     "text": [
      "Epoch 6: 0% , Loss: 0.192236\n"
     ]
    },
    {
     "name": "stderr",
     "output_type": "stream",
     "text": [
      " 11%|█         | 102/932 [00:11<01:43,  8.02it/s]"
     ]
    },
    {
     "name": "stdout",
     "output_type": "stream",
     "text": [
      "Epoch 6: 11% , Loss: 0.847892\n"
     ]
    },
    {
     "name": "stderr",
     "output_type": "stream",
     "text": [
      " 22%|██▏       | 202/932 [00:24<01:27,  8.30it/s]"
     ]
    },
    {
     "name": "stdout",
     "output_type": "stream",
     "text": [
      "Epoch 6: 21% , Loss: 0.261272\n"
     ]
    },
    {
     "name": "stderr",
     "output_type": "stream",
     "text": [
      " 32%|███▏      | 302/932 [00:36<01:21,  7.77it/s]"
     ]
    },
    {
     "name": "stdout",
     "output_type": "stream",
     "text": [
      "Epoch 6: 32% , Loss: 0.116090\n"
     ]
    },
    {
     "name": "stderr",
     "output_type": "stream",
     "text": [
      " 43%|████▎     | 401/932 [00:49<01:13,  7.22it/s]"
     ]
    },
    {
     "name": "stdout",
     "output_type": "stream",
     "text": [
      "Epoch 6: 43% , Loss: 0.832803\n"
     ]
    },
    {
     "name": "stderr",
     "output_type": "stream",
     "text": [
      " 54%|█████▍    | 501/932 [01:03<01:00,  7.08it/s]"
     ]
    },
    {
     "name": "stdout",
     "output_type": "stream",
     "text": [
      "Epoch 6: 54% , Loss: 1.661099\n"
     ]
    },
    {
     "name": "stderr",
     "output_type": "stream",
     "text": [
      " 65%|██████▍   | 602/932 [01:18<00:51,  6.40it/s]"
     ]
    },
    {
     "name": "stdout",
     "output_type": "stream",
     "text": [
      "Epoch 6: 64% , Loss: 0.134118\n"
     ]
    },
    {
     "name": "stderr",
     "output_type": "stream",
     "text": [
      " 75%|███████▌  | 702/932 [01:34<00:34,  6.65it/s]"
     ]
    },
    {
     "name": "stdout",
     "output_type": "stream",
     "text": [
      "Epoch 6: 75% , Loss: 0.458907\n"
     ]
    },
    {
     "name": "stderr",
     "output_type": "stream",
     "text": [
      " 86%|████████▌ | 801/932 [01:50<00:19,  6.58it/s]"
     ]
    },
    {
     "name": "stdout",
     "output_type": "stream",
     "text": [
      "Epoch 6: 86% , Loss: 0.136039\n"
     ]
    },
    {
     "name": "stderr",
     "output_type": "stream",
     "text": [
      " 97%|█████████▋| 901/932 [02:07<00:05,  5.82it/s]"
     ]
    },
    {
     "name": "stdout",
     "output_type": "stream",
     "text": [
      "Epoch 6: 97% , Loss: 0.325725\n"
     ]
    },
    {
     "name": "stderr",
     "output_type": "stream",
     "text": [
      "100%|██████████| 932/932 [02:12<00:00,  7.03it/s]\n"
     ]
    },
    {
     "name": "stdout",
     "output_type": "stream",
     "text": [
      "Epoch 6: 100% , Loss: 0.464223\n",
      "                      (F1-score: 0.0401)\n",
      "\n",
      "                      (NDCG: 0.0673)\n",
      "\n",
      "train_loss= tensor(0.4971)\n",
      "--------------------\n"
     ]
    },
    {
     "name": "stderr",
     "output_type": "stream",
     "text": [
      "100%|██████████| 133/133 [00:10<00:00, 13.28it/s]\n"
     ]
    },
    {
     "name": "stdout",
     "output_type": "stream",
     "text": [
      "                      (F1-score: 0.0399)\n",
      "\n",
      "                      (NDCG: 0.0658)\n",
      "\n",
      "val_loss= tensor(0.4696)\n",
      "--------------------\n"
     ]
    },
    {
     "name": "stderr",
     "output_type": "stream",
     "text": [
      "100%|██████████| 266/266 [00:21<00:00, 12.52it/s]\n"
     ]
    },
    {
     "name": "stdout",
     "output_type": "stream",
     "text": [
      "                      (F1-score: 0.0400)\n",
      "\n",
      "                      (NDCG: 0.0662)\n",
      "\n",
      "--------------------\n",
      "[[1, {'F1-score': 1.3426423200859293e-05}, {'NDCG': 7.968989754081668e-05}, 0.7953537106513977], [2, {'F1-score': 1.3426423200859293e-05}, {'NDCG': 7.968989754081668e-05}, 0.6858023405075073], [3, {'F1-score': 0.019103043976875064}, {'NDCG': 0.026571972600247403}, 0.5548844933509827], [4, {'F1-score': 0.02096858546187785}, {'NDCG': 0.04502920015834104}, 0.5526114106178284], [5, {'F1-score': 0.0354590595521211}, {'NDCG': 0.06195987741413869}, 0.5065855979919434], [6, {'F1-score': 0.04001724550510854}, {'NDCG': 0.0661786503886762}, 0.46960675716400146]]\n",
      "-----------------------------------------------------------------------------------------\n"
     ]
    },
    {
     "name": "stderr",
     "output_type": "stream",
     "text": [
      "  0%|          | 2/932 [00:00<01:37,  9.51it/s]"
     ]
    },
    {
     "name": "stdout",
     "output_type": "stream",
     "text": [
      "Epoch 7: 0% , Loss: 0.143802\n"
     ]
    },
    {
     "name": "stderr",
     "output_type": "stream",
     "text": [
      " 11%|█         | 102/932 [00:11<01:36,  8.60it/s]"
     ]
    },
    {
     "name": "stdout",
     "output_type": "stream",
     "text": [
      "Epoch 7: 11% , Loss: 0.380208\n"
     ]
    },
    {
     "name": "stderr",
     "output_type": "stream",
     "text": [
      " 22%|██▏       | 202/932 [00:23<01:30,  8.06it/s]"
     ]
    },
    {
     "name": "stdout",
     "output_type": "stream",
     "text": [
      "Epoch 7: 21% , Loss: 0.309785\n"
     ]
    },
    {
     "name": "stderr",
     "output_type": "stream",
     "text": [
      " 32%|███▏      | 302/932 [00:36<01:31,  6.91it/s]"
     ]
    },
    {
     "name": "stdout",
     "output_type": "stream",
     "text": [
      "Epoch 7: 32% , Loss: 0.370338\n"
     ]
    },
    {
     "name": "stderr",
     "output_type": "stream",
     "text": [
      " 43%|████▎     | 402/932 [00:50<01:15,  7.03it/s]"
     ]
    },
    {
     "name": "stdout",
     "output_type": "stream",
     "text": [
      "Epoch 7: 43% , Loss: 0.222487\n"
     ]
    },
    {
     "name": "stderr",
     "output_type": "stream",
     "text": [
      " 54%|█████▍    | 502/932 [01:04<01:04,  6.65it/s]"
     ]
    },
    {
     "name": "stdout",
     "output_type": "stream",
     "text": [
      "Epoch 7: 54% , Loss: 0.370643\n"
     ]
    },
    {
     "name": "stderr",
     "output_type": "stream",
     "text": [
      " 65%|██████▍   | 602/932 [01:19<00:50,  6.50it/s]"
     ]
    },
    {
     "name": "stdout",
     "output_type": "stream",
     "text": [
      "Epoch 7: 64% , Loss: 0.122895\n"
     ]
    },
    {
     "name": "stderr",
     "output_type": "stream",
     "text": [
      " 75%|███████▌  | 702/932 [01:34<00:36,  6.36it/s]"
     ]
    },
    {
     "name": "stdout",
     "output_type": "stream",
     "text": [
      "Epoch 7: 75% , Loss: 0.152787\n"
     ]
    },
    {
     "name": "stderr",
     "output_type": "stream",
     "text": [
      " 86%|████████▌ | 802/932 [01:50<00:20,  6.41it/s]"
     ]
    },
    {
     "name": "stdout",
     "output_type": "stream",
     "text": [
      "Epoch 7: 86% , Loss: 0.526620\n"
     ]
    },
    {
     "name": "stderr",
     "output_type": "stream",
     "text": [
      " 97%|█████████▋| 901/932 [02:06<00:05,  5.71it/s]"
     ]
    },
    {
     "name": "stdout",
     "output_type": "stream",
     "text": [
      "Epoch 7: 97% , Loss: 0.195542\n"
     ]
    },
    {
     "name": "stderr",
     "output_type": "stream",
     "text": [
      "100%|██████████| 932/932 [02:12<00:00,  7.03it/s]\n"
     ]
    },
    {
     "name": "stdout",
     "output_type": "stream",
     "text": [
      "Epoch 7: 100% , Loss: 0.424342\n",
      "                      (F1-score: 0.0429)\n",
      "\n",
      "                      (NDCG: 0.0701)\n",
      "\n",
      "train_loss= tensor(0.4954)\n",
      "--------------------\n"
     ]
    },
    {
     "name": "stderr",
     "output_type": "stream",
     "text": [
      "100%|██████████| 133/133 [00:09<00:00, 13.31it/s]\n"
     ]
    },
    {
     "name": "stdout",
     "output_type": "stream",
     "text": [
      "                      (F1-score: 0.0400)\n",
      "\n",
      "                      (NDCG: 0.0660)\n",
      "\n",
      "val_loss= tensor(0.4804)\n",
      "--------------------\n"
     ]
    },
    {
     "name": "stderr",
     "output_type": "stream",
     "text": [
      "100%|██████████| 266/266 [00:21<00:00, 12.38it/s]\n"
     ]
    },
    {
     "name": "stdout",
     "output_type": "stream",
     "text": [
      "                      (F1-score: 0.0378)\n",
      "\n",
      "                      (NDCG: 0.0641)\n",
      "\n",
      "--------------------\n",
      "[[1, {'F1-score': 1.3426423200859293e-05}, {'NDCG': 7.968989754081668e-05}, 0.7953537106513977], [2, {'F1-score': 1.3426423200859293e-05}, {'NDCG': 7.968989754081668e-05}, 0.6858023405075073], [3, {'F1-score': 0.019103043976875064}, {'NDCG': 0.026571972600247403}, 0.5548844933509827], [4, {'F1-score': 0.02096858546187785}, {'NDCG': 0.04502920015834104}, 0.5526114106178284], [5, {'F1-score': 0.0354590595521211}, {'NDCG': 0.06195987741413869}, 0.5065855979919434], [6, {'F1-score': 0.04001724550510854}, {'NDCG': 0.0661786503886762}, 0.46960675716400146], [7, {'F1-score': 0.03779091447649205}, {'NDCG': 0.06406164879707578}, 0.4804374873638153]]\n",
      "-----------------------------------------------------------------------------------------\n"
     ]
    },
    {
     "name": "stderr",
     "output_type": "stream",
     "text": [
      "  0%|          | 2/932 [00:00<01:41,  9.16it/s]"
     ]
    },
    {
     "name": "stdout",
     "output_type": "stream",
     "text": [
      "Epoch 8: 0% , Loss: 0.225279\n"
     ]
    },
    {
     "name": "stderr",
     "output_type": "stream",
     "text": [
      " 11%|█         | 102/932 [00:11<01:40,  8.25it/s]"
     ]
    },
    {
     "name": "stdout",
     "output_type": "stream",
     "text": [
      "Epoch 8: 11% , Loss: 0.149157\n"
     ]
    },
    {
     "name": "stderr",
     "output_type": "stream",
     "text": [
      " 22%|██▏       | 202/932 [00:23<01:25,  8.52it/s]"
     ]
    },
    {
     "name": "stdout",
     "output_type": "stream",
     "text": [
      "Epoch 8: 21% , Loss: 0.809815\n"
     ]
    },
    {
     "name": "stderr",
     "output_type": "stream",
     "text": [
      " 32%|███▏      | 302/932 [00:37<01:22,  7.62it/s]"
     ]
    },
    {
     "name": "stdout",
     "output_type": "stream",
     "text": [
      "Epoch 8: 32% , Loss: 0.110260\n"
     ]
    },
    {
     "name": "stderr",
     "output_type": "stream",
     "text": [
      " 43%|████▎     | 402/932 [00:50<01:08,  7.75it/s]"
     ]
    },
    {
     "name": "stdout",
     "output_type": "stream",
     "text": [
      "Epoch 8: 43% , Loss: 0.074427\n"
     ]
    },
    {
     "name": "stderr",
     "output_type": "stream",
     "text": [
      " 54%|█████▍    | 502/932 [01:04<01:00,  7.07it/s]"
     ]
    },
    {
     "name": "stdout",
     "output_type": "stream",
     "text": [
      "Epoch 8: 54% , Loss: 0.457415\n"
     ]
    },
    {
     "name": "stderr",
     "output_type": "stream",
     "text": [
      " 65%|██████▍   | 602/932 [01:18<00:46,  7.04it/s]"
     ]
    },
    {
     "name": "stdout",
     "output_type": "stream",
     "text": [
      "Epoch 8: 64% , Loss: 0.250953\n"
     ]
    },
    {
     "name": "stderr",
     "output_type": "stream",
     "text": [
      " 75%|███████▌  | 701/932 [01:34<00:37,  6.17it/s]"
     ]
    },
    {
     "name": "stdout",
     "output_type": "stream",
     "text": [
      "Epoch 8: 75% , Loss: 0.108080\n"
     ]
    },
    {
     "name": "stderr",
     "output_type": "stream",
     "text": [
      " 86%|████████▌ | 801/932 [01:50<00:21,  6.04it/s]"
     ]
    },
    {
     "name": "stdout",
     "output_type": "stream",
     "text": [
      "Epoch 8: 86% , Loss: 0.209569\n"
     ]
    },
    {
     "name": "stderr",
     "output_type": "stream",
     "text": [
      " 97%|█████████▋| 901/932 [02:06<00:04,  6.23it/s]"
     ]
    },
    {
     "name": "stdout",
     "output_type": "stream",
     "text": [
      "Epoch 8: 97% , Loss: 1.896675\n"
     ]
    },
    {
     "name": "stderr",
     "output_type": "stream",
     "text": [
      "100%|██████████| 932/932 [02:12<00:00,  7.05it/s]"
     ]
    },
    {
     "name": "stdout",
     "output_type": "stream",
     "text": [
      "Epoch 8: 100% , Loss: 0.667562\n"
     ]
    },
    {
     "name": "stderr",
     "output_type": "stream",
     "text": [
      "\n"
     ]
    },
    {
     "name": "stdout",
     "output_type": "stream",
     "text": [
      "                      (F1-score: 0.0432)\n",
      "\n",
      "                      (NDCG: 0.0703)\n",
      "\n",
      "train_loss= tensor(0.4949)\n",
      "--------------------\n"
     ]
    },
    {
     "name": "stderr",
     "output_type": "stream",
     "text": [
      "100%|██████████| 133/133 [00:09<00:00, 13.36it/s]\n"
     ]
    },
    {
     "name": "stdout",
     "output_type": "stream",
     "text": [
      "                      (F1-score: 0.0414)\n",
      "\n",
      "                      (NDCG: 0.0675)\n",
      "\n",
      "val_loss= tensor(0.4667)\n",
      "--------------------\n"
     ]
    },
    {
     "name": "stderr",
     "output_type": "stream",
     "text": [
      "100%|██████████| 266/266 [00:21<00:00, 12.66it/s]\n"
     ]
    },
    {
     "name": "stdout",
     "output_type": "stream",
     "text": [
      "                      (F1-score: 0.0406)\n",
      "\n",
      "                      (NDCG: 0.0663)\n",
      "\n",
      "--------------------\n",
      "[[1, {'F1-score': 1.3426423200859293e-05}, {'NDCG': 7.968989754081668e-05}, 0.7953537106513977], [2, {'F1-score': 1.3426423200859293e-05}, {'NDCG': 7.968989754081668e-05}, 0.6858023405075073], [3, {'F1-score': 0.019103043976875064}, {'NDCG': 0.026571972600247403}, 0.5548844933509827], [4, {'F1-score': 0.02096858546187785}, {'NDCG': 0.04502920015834104}, 0.5526114106178284], [5, {'F1-score': 0.0354590595521211}, {'NDCG': 0.06195987741413869}, 0.5065855979919434], [6, {'F1-score': 0.04001724550510854}, {'NDCG': 0.0661786503886762}, 0.46960675716400146], [7, {'F1-score': 0.03779091447649205}, {'NDCG': 0.06406164879707578}, 0.4804374873638153], [8, {'F1-score': 0.040584136147165446}, {'NDCG': 0.06627678838943628}, 0.4667186737060547]]\n",
      "-----------------------------------------------------------------------------------------\n"
     ]
    },
    {
     "name": "stderr",
     "output_type": "stream",
     "text": [
      "\r",
      "  0%|          | 0/932 [00:00<?, ?it/s]"
     ]
    },
    {
     "name": "stdout",
     "output_type": "stream",
     "text": [
      "Epoch 9: 0% , Loss: 0.239986"
     ]
    },
    {
     "name": "stderr",
     "output_type": "stream",
     "text": [
      "  0%|          | 2/932 [00:00<01:49,  8.52it/s]"
     ]
    },
    {
     "name": "stdout",
     "output_type": "stream",
     "text": [
      "\n"
     ]
    },
    {
     "name": "stderr",
     "output_type": "stream",
     "text": [
      " 11%|█         | 102/932 [00:11<01:31,  9.08it/s]"
     ]
    },
    {
     "name": "stdout",
     "output_type": "stream",
     "text": [
      "Epoch 9: 11% , Loss: 0.132468\n"
     ]
    },
    {
     "name": "stderr",
     "output_type": "stream",
     "text": [
      " 22%|██▏       | 202/932 [00:23<01:34,  7.73it/s]"
     ]
    },
    {
     "name": "stdout",
     "output_type": "stream",
     "text": [
      "Epoch 9: 21% , Loss: 0.153175\n"
     ]
    },
    {
     "name": "stderr",
     "output_type": "stream",
     "text": [
      " 32%|███▏      | 302/932 [00:35<01:26,  7.28it/s]"
     ]
    },
    {
     "name": "stdout",
     "output_type": "stream",
     "text": [
      "Epoch 9: 32% , Loss: 0.925538\n"
     ]
    },
    {
     "name": "stderr",
     "output_type": "stream",
     "text": [
      " 43%|████▎     | 402/932 [00:49<01:17,  6.86it/s]"
     ]
    },
    {
     "name": "stdout",
     "output_type": "stream",
     "text": [
      "Epoch 9: 43% , Loss: 0.610300\n"
     ]
    },
    {
     "name": "stderr",
     "output_type": "stream",
     "text": [
      " 54%|█████▍    | 502/932 [01:03<00:59,  7.23it/s]"
     ]
    },
    {
     "name": "stdout",
     "output_type": "stream",
     "text": [
      "Epoch 9: 54% , Loss: 0.166837\n"
     ]
    },
    {
     "name": "stderr",
     "output_type": "stream",
     "text": [
      " 65%|██████▍   | 602/932 [01:18<00:54,  6.05it/s]"
     ]
    },
    {
     "name": "stdout",
     "output_type": "stream",
     "text": [
      "Epoch 9: 64% , Loss: 0.129661\n"
     ]
    },
    {
     "name": "stderr",
     "output_type": "stream",
     "text": [
      " 75%|███████▌  | 702/932 [01:33<00:33,  6.91it/s]"
     ]
    },
    {
     "name": "stdout",
     "output_type": "stream",
     "text": [
      "Epoch 9: 75% , Loss: 0.171363\n"
     ]
    },
    {
     "name": "stderr",
     "output_type": "stream",
     "text": [
      " 86%|████████▌ | 801/932 [01:49<00:19,  6.82it/s]"
     ]
    },
    {
     "name": "stdout",
     "output_type": "stream",
     "text": [
      "Epoch 9: 86% , Loss: 0.158658\n"
     ]
    },
    {
     "name": "stderr",
     "output_type": "stream",
     "text": [
      " 97%|█████████▋| 901/932 [02:05<00:06,  5.07it/s]"
     ]
    },
    {
     "name": "stdout",
     "output_type": "stream",
     "text": [
      "Epoch 9: 97% , Loss: 1.325598\n"
     ]
    },
    {
     "name": "stderr",
     "output_type": "stream",
     "text": [
      "100%|██████████| 932/932 [02:11<00:00,  7.11it/s]\n"
     ]
    },
    {
     "name": "stdout",
     "output_type": "stream",
     "text": [
      "Epoch 9: 100% , Loss: 0.329997\n",
      "                      (F1-score: 0.0431)\n",
      "\n",
      "                      (NDCG: 0.0704)\n",
      "\n",
      "train_loss= tensor(0.4928)\n",
      "--------------------\n"
     ]
    },
    {
     "name": "stderr",
     "output_type": "stream",
     "text": [
      "100%|██████████| 133/133 [00:09<00:00, 13.60it/s]\n"
     ]
    },
    {
     "name": "stdout",
     "output_type": "stream",
     "text": [
      "                      (F1-score: 0.0412)\n",
      "\n",
      "                      (NDCG: 0.0658)\n",
      "\n",
      "val_loss= tensor(0.4586)\n",
      "--------------------\n"
     ]
    },
    {
     "name": "stderr",
     "output_type": "stream",
     "text": [
      "100%|██████████| 266/266 [00:21<00:00, 12.62it/s]\n"
     ]
    },
    {
     "name": "stdout",
     "output_type": "stream",
     "text": [
      "                      (F1-score: 0.0406)\n",
      "\n",
      "                      (NDCG: 0.0662)\n",
      "\n",
      "--------------------\n",
      "[[1, {'F1-score': 1.3426423200859293e-05}, {'NDCG': 7.968989754081668e-05}, 0.7953537106513977], [2, {'F1-score': 1.3426423200859293e-05}, {'NDCG': 7.968989754081668e-05}, 0.6858023405075073], [3, {'F1-score': 0.019103043976875064}, {'NDCG': 0.026571972600247403}, 0.5548844933509827], [4, {'F1-score': 0.02096858546187785}, {'NDCG': 0.04502920015834104}, 0.5526114106178284], [5, {'F1-score': 0.0354590595521211}, {'NDCG': 0.06195987741413869}, 0.5065855979919434], [6, {'F1-score': 0.04001724550510854}, {'NDCG': 0.0661786503886762}, 0.46960675716400146], [7, {'F1-score': 0.03779091447649205}, {'NDCG': 0.06406164879707578}, 0.4804374873638153], [8, {'F1-score': 0.040584136147165446}, {'NDCG': 0.06627678838943628}, 0.4667186737060547], [9, {'F1-score': 0.04058952926822324}, {'NDCG': 0.06623147309694748}, 0.45862865447998047]]\n",
      "-----------------------------------------------------------------------------------------\n"
     ]
    },
    {
     "name": "stderr",
     "output_type": "stream",
     "text": [
      "  0%|          | 1/932 [00:00<01:55,  8.07it/s]"
     ]
    },
    {
     "name": "stdout",
     "output_type": "stream",
     "text": [
      "Epoch 10: 0% , Loss: 0.283057\n"
     ]
    },
    {
     "name": "stderr",
     "output_type": "stream",
     "text": [
      " 11%|█         | 102/932 [00:11<01:33,  8.91it/s]"
     ]
    },
    {
     "name": "stdout",
     "output_type": "stream",
     "text": [
      "Epoch 10: 11% , Loss: 0.234483\n"
     ]
    },
    {
     "name": "stderr",
     "output_type": "stream",
     "text": [
      " 22%|██▏       | 202/932 [00:23<01:35,  7.61it/s]"
     ]
    },
    {
     "name": "stdout",
     "output_type": "stream",
     "text": [
      "Epoch 10: 21% , Loss: 1.123505\n"
     ]
    },
    {
     "name": "stderr",
     "output_type": "stream",
     "text": [
      " 32%|███▏      | 302/932 [00:36<01:31,  6.91it/s]"
     ]
    },
    {
     "name": "stdout",
     "output_type": "stream",
     "text": [
      "Epoch 10: 32% , Loss: 5.359150\n"
     ]
    },
    {
     "name": "stderr",
     "output_type": "stream",
     "text": [
      " 43%|████▎     | 402/932 [00:49<01:12,  7.34it/s]"
     ]
    },
    {
     "name": "stdout",
     "output_type": "stream",
     "text": [
      "Epoch 10: 43% , Loss: 0.176389\n"
     ]
    },
    {
     "name": "stderr",
     "output_type": "stream",
     "text": [
      " 54%|█████▍    | 502/932 [01:03<00:59,  7.18it/s]"
     ]
    },
    {
     "name": "stdout",
     "output_type": "stream",
     "text": [
      "Epoch 10: 54% , Loss: 0.271532\n"
     ]
    },
    {
     "name": "stderr",
     "output_type": "stream",
     "text": [
      " 65%|██████▍   | 602/932 [01:18<00:46,  7.11it/s]"
     ]
    },
    {
     "name": "stdout",
     "output_type": "stream",
     "text": [
      "Epoch 10: 64% , Loss: 0.606029\n"
     ]
    },
    {
     "name": "stderr",
     "output_type": "stream",
     "text": [
      " 75%|███████▌  | 701/932 [01:33<00:37,  6.14it/s]"
     ]
    },
    {
     "name": "stdout",
     "output_type": "stream",
     "text": [
      "Epoch 10: 75% , Loss: 0.202424\n"
     ]
    },
    {
     "name": "stderr",
     "output_type": "stream",
     "text": [
      " 86%|████████▌ | 801/932 [01:49<00:19,  6.65it/s]"
     ]
    },
    {
     "name": "stdout",
     "output_type": "stream",
     "text": [
      "Epoch 10: 86% , Loss: 0.278281\n"
     ]
    },
    {
     "name": "stderr",
     "output_type": "stream",
     "text": [
      " 97%|█████████▋| 901/932 [02:05<00:05,  5.85it/s]"
     ]
    },
    {
     "name": "stdout",
     "output_type": "stream",
     "text": [
      "Epoch 10: 97% , Loss: 4.471997\n"
     ]
    },
    {
     "name": "stderr",
     "output_type": "stream",
     "text": [
      "100%|██████████| 932/932 [02:11<00:00,  7.11it/s]\n"
     ]
    },
    {
     "name": "stdout",
     "output_type": "stream",
     "text": [
      "Epoch 10: 100% , Loss: 0.189459\n",
      "                      (F1-score: 0.0430)\n",
      "\n",
      "                      (NDCG: 0.0701)\n",
      "\n",
      "train_loss= tensor(0.4887)\n",
      "--------------------\n"
     ]
    },
    {
     "name": "stderr",
     "output_type": "stream",
     "text": [
      "100%|██████████| 133/133 [00:09<00:00, 13.61it/s]\n"
     ]
    },
    {
     "name": "stdout",
     "output_type": "stream",
     "text": [
      "                      (F1-score: 0.0412)\n",
      "\n",
      "                      (NDCG: 0.0671)\n",
      "\n",
      "val_loss= tensor(0.4818)\n",
      "--------------------\n"
     ]
    },
    {
     "name": "stderr",
     "output_type": "stream",
     "text": [
      "100%|██████████| 266/266 [00:20<00:00, 12.68it/s]\n"
     ]
    },
    {
     "name": "stdout",
     "output_type": "stream",
     "text": [
      "                      (F1-score: 0.0406)\n",
      "\n",
      "                      (NDCG: 0.0670)\n",
      "\n",
      "--------------------\n",
      "[[1, {'F1-score': 1.3426423200859293e-05}, {'NDCG': 7.968989754081668e-05}, 0.7953537106513977], [2, {'F1-score': 1.3426423200859293e-05}, {'NDCG': 7.968989754081668e-05}, 0.6858023405075073], [3, {'F1-score': 0.019103043976875064}, {'NDCG': 0.026571972600247403}, 0.5548844933509827], [4, {'F1-score': 0.02096858546187785}, {'NDCG': 0.04502920015834104}, 0.5526114106178284], [5, {'F1-score': 0.0354590595521211}, {'NDCG': 0.06195987741413869}, 0.5065855979919434], [6, {'F1-score': 0.04001724550510854}, {'NDCG': 0.0661786503886762}, 0.46960675716400146], [7, {'F1-score': 0.03779091447649205}, {'NDCG': 0.06406164879707578}, 0.4804374873638153], [8, {'F1-score': 0.040584136147165446}, {'NDCG': 0.06627678838943628}, 0.4667186737060547], [9, {'F1-score': 0.04058952926822324}, {'NDCG': 0.06623147309694748}, 0.45862865447998047], [10, {'F1-score': 0.040584136147165516}, {'NDCG': 0.0670063053152727}, 0.4817570149898529]]\n",
      "-----------------------------------------------------------------------------------------\n"
     ]
    },
    {
     "name": "stderr",
     "output_type": "stream",
     "text": [
      "\r",
      "  0%|          | 0/932 [00:00<?, ?it/s]"
     ]
    },
    {
     "name": "stdout",
     "output_type": "stream",
     "text": [
      "Epoch 11: 0% , Loss: 0.165231\n"
     ]
    },
    {
     "name": "stderr",
     "output_type": "stream",
     "text": [
      " 11%|█         | 102/932 [00:11<01:36,  8.59it/s]"
     ]
    },
    {
     "name": "stdout",
     "output_type": "stream",
     "text": [
      "Epoch 11: 11% , Loss: 0.370607\n"
     ]
    },
    {
     "name": "stderr",
     "output_type": "stream",
     "text": [
      " 22%|██▏       | 202/932 [00:23<01:35,  7.66it/s]"
     ]
    },
    {
     "name": "stdout",
     "output_type": "stream",
     "text": [
      "Epoch 11: 21% , Loss: 0.175586\n"
     ]
    },
    {
     "name": "stderr",
     "output_type": "stream",
     "text": [
      " 32%|███▏      | 302/932 [00:36<01:21,  7.74it/s]"
     ]
    },
    {
     "name": "stdout",
     "output_type": "stream",
     "text": [
      "Epoch 11: 32% , Loss: 0.147276\n"
     ]
    },
    {
     "name": "stderr",
     "output_type": "stream",
     "text": [
      " 43%|████▎     | 402/932 [00:50<01:14,  7.15it/s]"
     ]
    },
    {
     "name": "stdout",
     "output_type": "stream",
     "text": [
      "Epoch 11: 43% , Loss: 0.198455\n"
     ]
    },
    {
     "name": "stderr",
     "output_type": "stream",
     "text": [
      " 54%|█████▍    | 502/932 [01:04<01:02,  6.87it/s]"
     ]
    },
    {
     "name": "stdout",
     "output_type": "stream",
     "text": [
      "Epoch 11: 54% , Loss: 0.724707\n"
     ]
    },
    {
     "name": "stderr",
     "output_type": "stream",
     "text": [
      " 64%|██████▍   | 601/932 [01:18<00:44,  7.41it/s]"
     ]
    },
    {
     "name": "stdout",
     "output_type": "stream",
     "text": [
      "Epoch 11: 64% , Loss: 0.276878\n"
     ]
    },
    {
     "name": "stderr",
     "output_type": "stream",
     "text": [
      " 75%|███████▌  | 702/932 [01:33<00:35,  6.52it/s]"
     ]
    },
    {
     "name": "stdout",
     "output_type": "stream",
     "text": [
      "Epoch 11: 75% , Loss: 0.103087\n"
     ]
    },
    {
     "name": "stderr",
     "output_type": "stream",
     "text": [
      " 86%|████████▌ | 802/932 [01:49<00:20,  6.32it/s]"
     ]
    },
    {
     "name": "stdout",
     "output_type": "stream",
     "text": [
      "Epoch 11: 86% , Loss: 0.823554\n"
     ]
    },
    {
     "name": "stderr",
     "output_type": "stream",
     "text": [
      " 97%|█████████▋| 901/932 [02:06<00:05,  5.68it/s]"
     ]
    },
    {
     "name": "stdout",
     "output_type": "stream",
     "text": [
      "Epoch 11: 97% , Loss: 1.013798\n"
     ]
    },
    {
     "name": "stderr",
     "output_type": "stream",
     "text": [
      "100%|██████████| 932/932 [02:11<00:00,  7.10it/s]\n"
     ]
    },
    {
     "name": "stdout",
     "output_type": "stream",
     "text": [
      "Epoch 11: 100% , Loss: 0.489251\n",
      "                      (F1-score: 0.0436)\n",
      "\n",
      "                      (NDCG: 0.0708)\n",
      "\n",
      "train_loss= tensor(0.4909)\n",
      "--------------------\n"
     ]
    },
    {
     "name": "stderr",
     "output_type": "stream",
     "text": [
      "100%|██████████| 133/133 [00:09<00:00, 13.33it/s]\n"
     ]
    },
    {
     "name": "stdout",
     "output_type": "stream",
     "text": [
      "                      (F1-score: 0.0409)\n",
      "\n",
      "                      (NDCG: 0.0664)\n",
      "\n",
      "val_loss= tensor(0.4460)\n",
      "--------------------\n"
     ]
    },
    {
     "name": "stderr",
     "output_type": "stream",
     "text": [
      "100%|██████████| 266/266 [00:21<00:00, 12.66it/s]\n"
     ]
    },
    {
     "name": "stdout",
     "output_type": "stream",
     "text": [
      "                      (F1-score: 0.0416)\n",
      "\n",
      "                      (NDCG: 0.0671)\n",
      "\n",
      "--------------------\n",
      "[[1, {'F1-score': 1.3426423200859293e-05}, {'NDCG': 7.968989754081668e-05}, 0.7953537106513977], [2, {'F1-score': 1.3426423200859293e-05}, {'NDCG': 7.968989754081668e-05}, 0.6858023405075073], [3, {'F1-score': 0.019103043976875064}, {'NDCG': 0.026571972600247403}, 0.5548844933509827], [4, {'F1-score': 0.02096858546187785}, {'NDCG': 0.04502920015834104}, 0.5526114106178284], [5, {'F1-score': 0.0354590595521211}, {'NDCG': 0.06195987741413869}, 0.5065855979919434], [6, {'F1-score': 0.04001724550510854}, {'NDCG': 0.0661786503886762}, 0.46960675716400146], [7, {'F1-score': 0.03779091447649205}, {'NDCG': 0.06406164879707578}, 0.4804374873638153], [8, {'F1-score': 0.040584136147165446}, {'NDCG': 0.06627678838943628}, 0.4667186737060547], [9, {'F1-score': 0.04058952926822324}, {'NDCG': 0.06623147309694748}, 0.45862865447998047], [10, {'F1-score': 0.040584136147165516}, {'NDCG': 0.0670063053152727}, 0.4817570149898529], [11, {'F1-score': 0.04158147724217505}, {'NDCG': 0.06707023027093899}, 0.4459657669067383]]\n",
      "-----------------------------------------------------------------------------------------\n"
     ]
    },
    {
     "name": "stderr",
     "output_type": "stream",
     "text": [
      "  0%|          | 2/932 [00:00<01:41,  9.19it/s]"
     ]
    },
    {
     "name": "stdout",
     "output_type": "stream",
     "text": [
      "Epoch 12: 0% , Loss: 0.305913\n"
     ]
    },
    {
     "name": "stderr",
     "output_type": "stream",
     "text": [
      " 11%|█         | 102/932 [00:11<01:35,  8.70it/s]"
     ]
    },
    {
     "name": "stdout",
     "output_type": "stream",
     "text": [
      "Epoch 12: 11% , Loss: 0.195371\n"
     ]
    },
    {
     "name": "stderr",
     "output_type": "stream",
     "text": [
      " 22%|██▏       | 202/932 [00:23<01:21,  8.96it/s]"
     ]
    },
    {
     "name": "stdout",
     "output_type": "stream",
     "text": [
      "Epoch 12: 21% , Loss: 0.561557\n"
     ]
    },
    {
     "name": "stderr",
     "output_type": "stream",
     "text": [
      " 32%|███▏      | 302/932 [00:36<01:23,  7.58it/s]"
     ]
    },
    {
     "name": "stdout",
     "output_type": "stream",
     "text": [
      "Epoch 12: 32% , Loss: 0.222550\n"
     ]
    },
    {
     "name": "stderr",
     "output_type": "stream",
     "text": [
      " 43%|████▎     | 402/932 [00:49<01:14,  7.10it/s]"
     ]
    },
    {
     "name": "stdout",
     "output_type": "stream",
     "text": [
      "Epoch 12: 43% , Loss: 0.718215\n"
     ]
    },
    {
     "name": "stderr",
     "output_type": "stream",
     "text": [
      " 54%|█████▍    | 501/932 [01:03<00:58,  7.43it/s]"
     ]
    },
    {
     "name": "stdout",
     "output_type": "stream",
     "text": [
      "Epoch 12: 54% , Loss: 1.059761\n"
     ]
    },
    {
     "name": "stderr",
     "output_type": "stream",
     "text": [
      " 65%|██████▍   | 602/932 [01:18<00:46,  7.16it/s]"
     ]
    },
    {
     "name": "stdout",
     "output_type": "stream",
     "text": [
      "Epoch 12: 64% , Loss: 0.278218\n"
     ]
    },
    {
     "name": "stderr",
     "output_type": "stream",
     "text": [
      " 75%|███████▌  | 702/932 [01:33<00:34,  6.69it/s]"
     ]
    },
    {
     "name": "stdout",
     "output_type": "stream",
     "text": [
      "Epoch 12: 75% , Loss: 0.637214\n"
     ]
    },
    {
     "name": "stderr",
     "output_type": "stream",
     "text": [
      " 86%|████████▌ | 801/932 [01:49<00:20,  6.34it/s]"
     ]
    },
    {
     "name": "stdout",
     "output_type": "stream",
     "text": [
      "Epoch 12: 86% , Loss: 1.414844\n"
     ]
    },
    {
     "name": "stderr",
     "output_type": "stream",
     "text": [
      " 97%|█████████▋| 901/932 [02:06<00:05,  5.90it/s]"
     ]
    },
    {
     "name": "stdout",
     "output_type": "stream",
     "text": [
      "Epoch 12: 97% , Loss: 0.288414\n"
     ]
    },
    {
     "name": "stderr",
     "output_type": "stream",
     "text": [
      "100%|██████████| 932/932 [02:11<00:00,  7.09it/s]\n"
     ]
    },
    {
     "name": "stdout",
     "output_type": "stream",
     "text": [
      "Epoch 12: 100% , Loss: 0.137887\n",
      "                      (F1-score: 0.0438)\n",
      "\n",
      "                      (NDCG: 0.0708)\n",
      "\n",
      "train_loss= tensor(0.4923)\n",
      "--------------------\n"
     ]
    },
    {
     "name": "stderr",
     "output_type": "stream",
     "text": [
      "100%|██████████| 133/133 [00:09<00:00, 13.36it/s]\n"
     ]
    },
    {
     "name": "stdout",
     "output_type": "stream",
     "text": [
      "                      (F1-score: 0.0395)\n",
      "\n",
      "                      (NDCG: 0.0650)\n",
      "\n",
      "val_loss= tensor(0.4587)\n",
      "--------------------\n"
     ]
    },
    {
     "name": "stderr",
     "output_type": "stream",
     "text": [
      "100%|██████████| 266/266 [00:21<00:00, 12.59it/s]\n"
     ]
    },
    {
     "name": "stdout",
     "output_type": "stream",
     "text": [
      "                      (F1-score: 0.0395)\n",
      "\n",
      "                      (NDCG: 0.0651)\n",
      "\n",
      "--------------------\n",
      "[[1, {'F1-score': 1.3426423200859293e-05}, {'NDCG': 7.968989754081668e-05}, 0.7953537106513977], [2, {'F1-score': 1.3426423200859293e-05}, {'NDCG': 7.968989754081668e-05}, 0.6858023405075073], [3, {'F1-score': 0.019103043976875064}, {'NDCG': 0.026571972600247403}, 0.5548844933509827], [4, {'F1-score': 0.02096858546187785}, {'NDCG': 0.04502920015834104}, 0.5526114106178284], [5, {'F1-score': 0.0354590595521211}, {'NDCG': 0.06195987741413869}, 0.5065855979919434], [6, {'F1-score': 0.04001724550510854}, {'NDCG': 0.0661786503886762}, 0.46960675716400146], [7, {'F1-score': 0.03779091447649205}, {'NDCG': 0.06406164879707578}, 0.4804374873638153], [8, {'F1-score': 0.040584136147165446}, {'NDCG': 0.06627678838943628}, 0.4667186737060547], [9, {'F1-score': 0.04058952926822324}, {'NDCG': 0.06623147309694748}, 0.45862865447998047], [10, {'F1-score': 0.040584136147165516}, {'NDCG': 0.0670063053152727}, 0.4817570149898529], [11, {'F1-score': 0.04158147724217505}, {'NDCG': 0.06707023027093899}, 0.4459657669067383], [12, {'F1-score': 0.03954475830888581}, {'NDCG': 0.06514711363619208}, 0.45868179202079773]]\n",
      "-----------------------------------------------------------------------------------------\n"
     ]
    },
    {
     "name": "stderr",
     "output_type": "stream",
     "text": [
      "\r",
      "  0%|          | 0/932 [00:00<?, ?it/s]"
     ]
    },
    {
     "name": "stdout",
     "output_type": "stream",
     "text": [
      "Epoch 13: 0% , Loss: 0.059182\n"
     ]
    },
    {
     "name": "stderr",
     "output_type": "stream",
     "text": [
      " 11%|█         | 102/932 [00:11<01:36,  8.59it/s]"
     ]
    },
    {
     "name": "stdout",
     "output_type": "stream",
     "text": [
      "Epoch 13: 11% , Loss: 0.168298\n"
     ]
    },
    {
     "name": "stderr",
     "output_type": "stream",
     "text": [
      " 22%|██▏       | 202/932 [00:23<01:27,  8.31it/s]"
     ]
    },
    {
     "name": "stdout",
     "output_type": "stream",
     "text": [
      "Epoch 13: 21% , Loss: 0.230101\n"
     ]
    },
    {
     "name": "stderr",
     "output_type": "stream",
     "text": [
      " 32%|███▏      | 302/932 [00:36<01:17,  8.13it/s]"
     ]
    },
    {
     "name": "stdout",
     "output_type": "stream",
     "text": [
      "Epoch 13: 32% , Loss: 0.161733\n"
     ]
    },
    {
     "name": "stderr",
     "output_type": "stream",
     "text": [
      " 43%|████▎     | 402/932 [00:49<01:10,  7.48it/s]"
     ]
    },
    {
     "name": "stdout",
     "output_type": "stream",
     "text": [
      "Epoch 13: 43% , Loss: 1.688338\n"
     ]
    },
    {
     "name": "stderr",
     "output_type": "stream",
     "text": [
      " 54%|█████▍    | 502/932 [01:03<00:59,  7.22it/s]"
     ]
    },
    {
     "name": "stdout",
     "output_type": "stream",
     "text": [
      "Epoch 13: 54% , Loss: 1.379279\n"
     ]
    },
    {
     "name": "stderr",
     "output_type": "stream",
     "text": [
      " 65%|██████▍   | 602/932 [01:18<00:51,  6.39it/s]"
     ]
    },
    {
     "name": "stdout",
     "output_type": "stream",
     "text": [
      "Epoch 13: 64% , Loss: 0.197540\n"
     ]
    },
    {
     "name": "stderr",
     "output_type": "stream",
     "text": [
      " 75%|███████▌  | 702/932 [01:33<00:34,  6.71it/s]"
     ]
    },
    {
     "name": "stdout",
     "output_type": "stream",
     "text": [
      "Epoch 13: 75% , Loss: 2.293216\n"
     ]
    },
    {
     "name": "stderr",
     "output_type": "stream",
     "text": [
      " 86%|████████▌ | 801/932 [01:48<00:20,  6.53it/s]"
     ]
    },
    {
     "name": "stdout",
     "output_type": "stream",
     "text": [
      "Epoch 13: 86% , Loss: 0.394147\n"
     ]
    },
    {
     "name": "stderr",
     "output_type": "stream",
     "text": [
      " 97%|█████████▋| 901/932 [02:05<00:05,  5.69it/s]"
     ]
    },
    {
     "name": "stdout",
     "output_type": "stream",
     "text": [
      "Epoch 13: 97% , Loss: 0.111779\n"
     ]
    },
    {
     "name": "stderr",
     "output_type": "stream",
     "text": [
      "100%|██████████| 932/932 [02:11<00:00,  7.10it/s]\n"
     ]
    },
    {
     "name": "stdout",
     "output_type": "stream",
     "text": [
      "Epoch 13: 100% , Loss: 0.894473\n",
      "                      (F1-score: 0.0438)\n",
      "\n",
      "                      (NDCG: 0.0709)\n",
      "\n",
      "train_loss= tensor(0.4902)\n",
      "--------------------\n"
     ]
    },
    {
     "name": "stderr",
     "output_type": "stream",
     "text": [
      "100%|██████████| 133/133 [00:09<00:00, 13.66it/s]\n"
     ]
    },
    {
     "name": "stdout",
     "output_type": "stream",
     "text": [
      "                      (F1-score: 0.0411)\n",
      "\n",
      "                      (NDCG: 0.0663)\n",
      "\n",
      "val_loss= tensor(0.4589)\n",
      "--------------------\n"
     ]
    },
    {
     "name": "stderr",
     "output_type": "stream",
     "text": [
      "100%|██████████| 266/266 [00:20<00:00, 12.91it/s]\n"
     ]
    },
    {
     "name": "stdout",
     "output_type": "stream",
     "text": [
      "                      (F1-score: 0.0415)\n",
      "\n",
      "                      (NDCG: 0.0670)\n",
      "\n",
      "--------------------\n",
      "[[1, {'F1-score': 1.3426423200859293e-05}, {'NDCG': 7.968989754081668e-05}, 0.7953537106513977], [2, {'F1-score': 1.3426423200859293e-05}, {'NDCG': 7.968989754081668e-05}, 0.6858023405075073], [3, {'F1-score': 0.019103043976875064}, {'NDCG': 0.026571972600247403}, 0.5548844933509827], [4, {'F1-score': 0.02096858546187785}, {'NDCG': 0.04502920015834104}, 0.5526114106178284], [5, {'F1-score': 0.0354590595521211}, {'NDCG': 0.06195987741413869}, 0.5065855979919434], [6, {'F1-score': 0.04001724550510854}, {'NDCG': 0.0661786503886762}, 0.46960675716400146], [7, {'F1-score': 0.03779091447649205}, {'NDCG': 0.06406164879707578}, 0.4804374873638153], [8, {'F1-score': 0.040584136147165446}, {'NDCG': 0.06627678838943628}, 0.4667186737060547], [9, {'F1-score': 0.04058952926822324}, {'NDCG': 0.06623147309694748}, 0.45862865447998047], [10, {'F1-score': 0.040584136147165516}, {'NDCG': 0.0670063053152727}, 0.4817570149898529], [11, {'F1-score': 0.04158147724217505}, {'NDCG': 0.06707023027093899}, 0.4459657669067383], [12, {'F1-score': 0.03954475830888581}, {'NDCG': 0.06514711363619208}, 0.45868179202079773], [13, {'F1-score': 0.04154666799683949}, {'NDCG': 0.06700901980196736}, 0.45887869596481323]]\n",
      "-----------------------------------------------------------------------------------------\n"
     ]
    },
    {
     "name": "stderr",
     "output_type": "stream",
     "text": [
      "  0%|          | 1/932 [00:00<01:58,  7.85it/s]"
     ]
    },
    {
     "name": "stdout",
     "output_type": "stream",
     "text": [
      "Epoch 14: 0% , Loss: 1.098074\n"
     ]
    },
    {
     "name": "stderr",
     "output_type": "stream",
     "text": [
      " 11%|█         | 101/932 [00:11<01:46,  7.79it/s]"
     ]
    },
    {
     "name": "stdout",
     "output_type": "stream",
     "text": [
      "Epoch 14: 11% , Loss: 0.127235\n"
     ]
    },
    {
     "name": "stderr",
     "output_type": "stream",
     "text": [
      " 22%|██▏       | 202/932 [00:23<01:35,  7.67it/s]"
     ]
    },
    {
     "name": "stdout",
     "output_type": "stream",
     "text": [
      "Epoch 14: 21% , Loss: 0.330990\n"
     ]
    },
    {
     "name": "stderr",
     "output_type": "stream",
     "text": [
      " 32%|███▏      | 302/932 [00:35<01:29,  7.06it/s]"
     ]
    },
    {
     "name": "stdout",
     "output_type": "stream",
     "text": [
      "Epoch 14: 32% , Loss: 0.452341\n"
     ]
    },
    {
     "name": "stderr",
     "output_type": "stream",
     "text": [
      " 43%|████▎     | 402/932 [00:49<01:12,  7.30it/s]"
     ]
    },
    {
     "name": "stdout",
     "output_type": "stream",
     "text": [
      "Epoch 14: 43% , Loss: 0.657588\n"
     ]
    },
    {
     "name": "stderr",
     "output_type": "stream",
     "text": [
      " 54%|█████▍    | 501/932 [01:03<00:59,  7.24it/s]"
     ]
    },
    {
     "name": "stdout",
     "output_type": "stream",
     "text": [
      "Epoch 14: 54% , Loss: 0.272776\n"
     ]
    },
    {
     "name": "stderr",
     "output_type": "stream",
     "text": [
      " 65%|██████▍   | 602/932 [01:17<00:47,  6.98it/s]"
     ]
    },
    {
     "name": "stdout",
     "output_type": "stream",
     "text": [
      "Epoch 14: 64% , Loss: 0.733453\n"
     ]
    },
    {
     "name": "stderr",
     "output_type": "stream",
     "text": [
      " 75%|███████▌  | 702/932 [01:32<00:34,  6.70it/s]"
     ]
    },
    {
     "name": "stdout",
     "output_type": "stream",
     "text": [
      "Epoch 14: 75% , Loss: 0.349296\n"
     ]
    },
    {
     "name": "stderr",
     "output_type": "stream",
     "text": [
      " 86%|████████▌ | 801/932 [01:48<00:21,  5.97it/s]"
     ]
    },
    {
     "name": "stdout",
     "output_type": "stream",
     "text": [
      "Epoch 14: 86% , Loss: 0.289444\n"
     ]
    },
    {
     "name": "stderr",
     "output_type": "stream",
     "text": [
      " 97%|█████████▋| 901/932 [02:04<00:04,  6.26it/s]"
     ]
    },
    {
     "name": "stdout",
     "output_type": "stream",
     "text": [
      "Epoch 14: 97% , Loss: 0.107393\n"
     ]
    },
    {
     "name": "stderr",
     "output_type": "stream",
     "text": [
      "100%|██████████| 932/932 [02:10<00:00,  7.17it/s]\n"
     ]
    },
    {
     "name": "stdout",
     "output_type": "stream",
     "text": [
      "Epoch 14: 100% , Loss: 0.153927\n",
      "                      (F1-score: 0.0433)\n",
      "\n",
      "                      (NDCG: 0.0705)\n",
      "\n",
      "train_loss= tensor(0.4901)\n",
      "--------------------\n"
     ]
    },
    {
     "name": "stderr",
     "output_type": "stream",
     "text": [
      "100%|██████████| 133/133 [00:09<00:00, 13.54it/s]\n"
     ]
    },
    {
     "name": "stdout",
     "output_type": "stream",
     "text": [
      "                      (F1-score: 0.0411)\n",
      "\n",
      "                      (NDCG: 0.0664)\n",
      "\n",
      "val_loss= tensor(0.4501)\n",
      "--------------------\n"
     ]
    },
    {
     "name": "stderr",
     "output_type": "stream",
     "text": [
      "100%|██████████| 266/266 [00:20<00:00, 12.74it/s]\n"
     ]
    },
    {
     "name": "stdout",
     "output_type": "stream",
     "text": [
      "                      (F1-score: 0.0416)\n",
      "\n",
      "                      (NDCG: 0.0672)\n",
      "\n",
      "--------------------\n",
      "[[1, {'F1-score': 1.3426423200859293e-05}, {'NDCG': 7.968989754081668e-05}, 0.7953537106513977], [2, {'F1-score': 1.3426423200859293e-05}, {'NDCG': 7.968989754081668e-05}, 0.6858023405075073], [3, {'F1-score': 0.019103043976875064}, {'NDCG': 0.026571972600247403}, 0.5548844933509827], [4, {'F1-score': 0.02096858546187785}, {'NDCG': 0.04502920015834104}, 0.5526114106178284], [5, {'F1-score': 0.0354590595521211}, {'NDCG': 0.06195987741413869}, 0.5065855979919434], [6, {'F1-score': 0.04001724550510854}, {'NDCG': 0.0661786503886762}, 0.46960675716400146], [7, {'F1-score': 0.03779091447649205}, {'NDCG': 0.06406164879707578}, 0.4804374873638153], [8, {'F1-score': 0.040584136147165446}, {'NDCG': 0.06627678838943628}, 0.4667186737060547], [9, {'F1-score': 0.04058952926822324}, {'NDCG': 0.06623147309694748}, 0.45862865447998047], [10, {'F1-score': 0.040584136147165516}, {'NDCG': 0.0670063053152727}, 0.4817570149898529], [11, {'F1-score': 0.04158147724217505}, {'NDCG': 0.06707023027093899}, 0.4459657669067383], [12, {'F1-score': 0.03954475830888581}, {'NDCG': 0.06514711363619208}, 0.45868179202079773], [13, {'F1-score': 0.04154666799683949}, {'NDCG': 0.06700901980196736}, 0.45887869596481323], [14, {'F1-score': 0.04158147724217507}, {'NDCG': 0.06721850460801358}, 0.45013514161109924]]\n",
      "-----------------------------------------------------------------------------------------\n"
     ]
    },
    {
     "name": "stderr",
     "output_type": "stream",
     "text": [
      "  0%|          | 1/932 [00:00<01:41,  9.13it/s]"
     ]
    },
    {
     "name": "stdout",
     "output_type": "stream",
     "text": [
      "Epoch 15: 0% , Loss: 0.309853\n"
     ]
    },
    {
     "name": "stderr",
     "output_type": "stream",
     "text": [
      " 11%|█         | 102/932 [00:11<01:34,  8.81it/s]"
     ]
    },
    {
     "name": "stdout",
     "output_type": "stream",
     "text": [
      "Epoch 15: 11% , Loss: 1.035041\n"
     ]
    },
    {
     "name": "stderr",
     "output_type": "stream",
     "text": [
      " 22%|██▏       | 202/932 [00:23<01:24,  8.68it/s]"
     ]
    },
    {
     "name": "stdout",
     "output_type": "stream",
     "text": [
      "Epoch 15: 21% , Loss: 0.292164\n"
     ]
    },
    {
     "name": "stderr",
     "output_type": "stream",
     "text": [
      " 32%|███▏      | 302/932 [00:35<01:09,  9.01it/s]"
     ]
    },
    {
     "name": "stdout",
     "output_type": "stream",
     "text": [
      "Epoch 15: 32% , Loss: 2.226663\n"
     ]
    },
    {
     "name": "stderr",
     "output_type": "stream",
     "text": [
      " 43%|████▎     | 402/932 [00:49<01:07,  7.84it/s]"
     ]
    },
    {
     "name": "stdout",
     "output_type": "stream",
     "text": [
      "Epoch 15: 43% , Loss: 0.164669\n"
     ]
    },
    {
     "name": "stderr",
     "output_type": "stream",
     "text": [
      " 54%|█████▍    | 502/932 [01:02<01:03,  6.81it/s]"
     ]
    },
    {
     "name": "stdout",
     "output_type": "stream",
     "text": [
      "Epoch 15: 54% , Loss: 0.223262\n"
     ]
    },
    {
     "name": "stderr",
     "output_type": "stream",
     "text": [
      " 65%|██████▍   | 602/932 [01:17<00:49,  6.67it/s]"
     ]
    },
    {
     "name": "stdout",
     "output_type": "stream",
     "text": [
      "Epoch 15: 64% , Loss: 0.084399\n"
     ]
    },
    {
     "name": "stderr",
     "output_type": "stream",
     "text": [
      " 75%|███████▌  | 702/932 [01:32<00:36,  6.28it/s]"
     ]
    },
    {
     "name": "stdout",
     "output_type": "stream",
     "text": [
      "Epoch 15: 75% , Loss: 0.566856\n"
     ]
    },
    {
     "name": "stderr",
     "output_type": "stream",
     "text": [
      " 86%|████████▌ | 802/932 [01:48<00:20,  6.37it/s]"
     ]
    },
    {
     "name": "stdout",
     "output_type": "stream",
     "text": [
      "Epoch 15: 86% , Loss: 0.300185\n"
     ]
    },
    {
     "name": "stderr",
     "output_type": "stream",
     "text": [
      " 97%|█████████▋| 901/932 [02:04<00:06,  4.93it/s]"
     ]
    },
    {
     "name": "stdout",
     "output_type": "stream",
     "text": [
      "Epoch 15: 97% , Loss: 0.122363\n"
     ]
    },
    {
     "name": "stderr",
     "output_type": "stream",
     "text": [
      "100%|██████████| 932/932 [02:10<00:00,  7.15it/s]\n"
     ]
    },
    {
     "name": "stdout",
     "output_type": "stream",
     "text": [
      "Epoch 15: 100% , Loss: 0.159243\n",
      "                      (F1-score: 0.0430)\n",
      "\n",
      "                      (NDCG: 0.0705)\n",
      "\n",
      "train_loss= tensor(0.4902)\n",
      "--------------------\n"
     ]
    },
    {
     "name": "stderr",
     "output_type": "stream",
     "text": [
      "100%|██████████| 133/133 [00:09<00:00, 13.85it/s]\n"
     ]
    },
    {
     "name": "stdout",
     "output_type": "stream",
     "text": [
      "                      (F1-score: 0.0406)\n",
      "\n",
      "                      (NDCG: 0.0665)\n",
      "\n",
      "val_loss= tensor(0.4638)\n",
      "--------------------\n"
     ]
    },
    {
     "name": "stderr",
     "output_type": "stream",
     "text": [
      "100%|██████████| 266/266 [00:20<00:00, 12.67it/s]\n"
     ]
    },
    {
     "name": "stdout",
     "output_type": "stream",
     "text": [
      "                      (F1-score: 0.0414)\n",
      "\n",
      "                      (NDCG: 0.0676)\n",
      "\n",
      "--------------------\n",
      "[[1, {'F1-score': 1.3426423200859293e-05}, {'NDCG': 7.968989754081668e-05}, 0.7953537106513977], [2, {'F1-score': 1.3426423200859293e-05}, {'NDCG': 7.968989754081668e-05}, 0.6858023405075073], [3, {'F1-score': 0.019103043976875064}, {'NDCG': 0.026571972600247403}, 0.5548844933509827], [4, {'F1-score': 0.02096858546187785}, {'NDCG': 0.04502920015834104}, 0.5526114106178284], [5, {'F1-score': 0.0354590595521211}, {'NDCG': 0.06195987741413869}, 0.5065855979919434], [6, {'F1-score': 0.04001724550510854}, {'NDCG': 0.0661786503886762}, 0.46960675716400146], [7, {'F1-score': 0.03779091447649205}, {'NDCG': 0.06406164879707578}, 0.4804374873638153], [8, {'F1-score': 0.040584136147165446}, {'NDCG': 0.06627678838943628}, 0.4667186737060547], [9, {'F1-score': 0.04058952926822324}, {'NDCG': 0.06623147309694748}, 0.45862865447998047], [10, {'F1-score': 0.040584136147165516}, {'NDCG': 0.0670063053152727}, 0.4817570149898529], [11, {'F1-score': 0.04158147724217505}, {'NDCG': 0.06707023027093899}, 0.4459657669067383], [12, {'F1-score': 0.03954475830888581}, {'NDCG': 0.06514711363619208}, 0.45868179202079773], [13, {'F1-score': 0.04154666799683949}, {'NDCG': 0.06700901980196736}, 0.45887869596481323], [14, {'F1-score': 0.04158147724217507}, {'NDCG': 0.06721850460801358}, 0.45013514161109924], [15, {'F1-score': 0.04138536532509799}, {'NDCG': 0.06757978630021103}, 0.46377432346343994]]\n",
      "-----------------------------------------------------------------------------------------\n"
     ]
    },
    {
     "name": "stderr",
     "output_type": "stream",
     "text": [
      "\r",
      "  0%|          | 0/932 [00:00<?, ?it/s]"
     ]
    },
    {
     "name": "stdout",
     "output_type": "stream",
     "text": [
      "Epoch 16: 0% , Loss: 0.372091\n"
     ]
    },
    {
     "name": "stderr",
     "output_type": "stream",
     "text": [
      " 11%|█         | 102/932 [00:11<01:35,  8.66it/s]"
     ]
    },
    {
     "name": "stdout",
     "output_type": "stream",
     "text": [
      "Epoch 16: 11% , Loss: 0.224647\n"
     ]
    },
    {
     "name": "stderr",
     "output_type": "stream",
     "text": [
      " 22%|██▏       | 202/932 [00:22<01:32,  7.90it/s]"
     ]
    },
    {
     "name": "stdout",
     "output_type": "stream",
     "text": [
      "Epoch 16: 21% , Loss: 0.483337\n"
     ]
    },
    {
     "name": "stderr",
     "output_type": "stream",
     "text": [
      " 32%|███▏      | 302/932 [00:35<01:28,  7.13it/s]"
     ]
    },
    {
     "name": "stdout",
     "output_type": "stream",
     "text": [
      "Epoch 16: 32% , Loss: 0.120148\n"
     ]
    },
    {
     "name": "stderr",
     "output_type": "stream",
     "text": [
      " 43%|████▎     | 402/932 [00:48<01:12,  7.31it/s]"
     ]
    },
    {
     "name": "stdout",
     "output_type": "stream",
     "text": [
      "Epoch 16: 43% , Loss: 0.579423\n"
     ]
    },
    {
     "name": "stderr",
     "output_type": "stream",
     "text": [
      " 54%|█████▍    | 502/932 [01:03<01:04,  6.70it/s]"
     ]
    },
    {
     "name": "stdout",
     "output_type": "stream",
     "text": [
      "Epoch 16: 54% , Loss: 0.313864\n"
     ]
    },
    {
     "name": "stderr",
     "output_type": "stream",
     "text": [
      " 65%|██████▍   | 602/932 [01:17<00:45,  7.19it/s]"
     ]
    },
    {
     "name": "stdout",
     "output_type": "stream",
     "text": [
      "Epoch 16: 64% , Loss: 1.477425\n"
     ]
    },
    {
     "name": "stderr",
     "output_type": "stream",
     "text": [
      " 75%|███████▌  | 702/932 [01:32<00:34,  6.70it/s]"
     ]
    },
    {
     "name": "stdout",
     "output_type": "stream",
     "text": [
      "Epoch 16: 75% , Loss: 0.228083\n"
     ]
    },
    {
     "name": "stderr",
     "output_type": "stream",
     "text": [
      " 86%|████████▌ | 802/932 [01:48<00:19,  6.62it/s]"
     ]
    },
    {
     "name": "stdout",
     "output_type": "stream",
     "text": [
      "Epoch 16: 86% , Loss: 0.208391\n"
     ]
    },
    {
     "name": "stderr",
     "output_type": "stream",
     "text": [
      " 97%|█████████▋| 901/932 [02:04<00:05,  5.97it/s]"
     ]
    },
    {
     "name": "stdout",
     "output_type": "stream",
     "text": [
      "Epoch 16: 97% , Loss: 0.428102\n"
     ]
    },
    {
     "name": "stderr",
     "output_type": "stream",
     "text": [
      "100%|██████████| 932/932 [02:10<00:00,  7.16it/s]"
     ]
    },
    {
     "name": "stdout",
     "output_type": "stream",
     "text": [
      "Epoch 16: 100% , Loss: 1.387656\n"
     ]
    },
    {
     "name": "stderr",
     "output_type": "stream",
     "text": [
      "\n"
     ]
    },
    {
     "name": "stdout",
     "output_type": "stream",
     "text": [
      "                      (F1-score: 0.0436)\n",
      "\n",
      "                      (NDCG: 0.0707)\n",
      "\n",
      "train_loss= tensor(0.4907)\n",
      "--------------------\n"
     ]
    },
    {
     "name": "stderr",
     "output_type": "stream",
     "text": [
      "100%|██████████| 133/133 [00:09<00:00, 13.76it/s]\n"
     ]
    },
    {
     "name": "stdout",
     "output_type": "stream",
     "text": [
      "                      (F1-score: 0.0398)\n",
      "\n",
      "                      (NDCG: 0.0654)\n",
      "\n",
      "val_loss= tensor(0.4493)\n",
      "--------------------\n"
     ]
    },
    {
     "name": "stderr",
     "output_type": "stream",
     "text": [
      "100%|██████████| 266/266 [00:20<00:00, 12.77it/s]\n"
     ]
    },
    {
     "name": "stdout",
     "output_type": "stream",
     "text": [
      "                      (F1-score: 0.0411)\n",
      "\n",
      "                      (NDCG: 0.0667)\n",
      "\n",
      "--------------------\n",
      "[[1, {'F1-score': 1.3426423200859293e-05}, {'NDCG': 7.968989754081668e-05}, 0.7953537106513977], [2, {'F1-score': 1.3426423200859293e-05}, {'NDCG': 7.968989754081668e-05}, 0.6858023405075073], [3, {'F1-score': 0.019103043976875064}, {'NDCG': 0.026571972600247403}, 0.5548844933509827], [4, {'F1-score': 0.02096858546187785}, {'NDCG': 0.04502920015834104}, 0.5526114106178284], [5, {'F1-score': 0.0354590595521211}, {'NDCG': 0.06195987741413869}, 0.5065855979919434], [6, {'F1-score': 0.04001724550510854}, {'NDCG': 0.0661786503886762}, 0.46960675716400146], [7, {'F1-score': 0.03779091447649205}, {'NDCG': 0.06406164879707578}, 0.4804374873638153], [8, {'F1-score': 0.040584136147165446}, {'NDCG': 0.06627678838943628}, 0.4667186737060547], [9, {'F1-score': 0.04058952926822324}, {'NDCG': 0.06623147309694748}, 0.45862865447998047], [10, {'F1-score': 0.040584136147165516}, {'NDCG': 0.0670063053152727}, 0.4817570149898529], [11, {'F1-score': 0.04158147724217505}, {'NDCG': 0.06707023027093899}, 0.4459657669067383], [12, {'F1-score': 0.03954475830888581}, {'NDCG': 0.06514711363619208}, 0.45868179202079773], [13, {'F1-score': 0.04154666799683949}, {'NDCG': 0.06700901980196736}, 0.45887869596481323], [14, {'F1-score': 0.04158147724217507}, {'NDCG': 0.06721850460801358}, 0.45013514161109924], [15, {'F1-score': 0.04138536532509799}, {'NDCG': 0.06757978630021103}, 0.46377432346343994], [16, {'F1-score': 0.041054382350920716}, {'NDCG': 0.0666698455614479}, 0.44927778840065]]\n",
      "-----------------------------------------------------------------------------------------\n"
     ]
    },
    {
     "name": "stderr",
     "output_type": "stream",
     "text": [
      "  0%|          | 2/932 [00:00<01:37,  9.52it/s]"
     ]
    },
    {
     "name": "stdout",
     "output_type": "stream",
     "text": [
      "Epoch 17: 0% , Loss: 0.416465\n"
     ]
    },
    {
     "name": "stderr",
     "output_type": "stream",
     "text": [
      " 11%|█         | 102/932 [00:11<01:40,  8.26it/s]"
     ]
    },
    {
     "name": "stdout",
     "output_type": "stream",
     "text": [
      "Epoch 17: 11% , Loss: 0.342837\n"
     ]
    },
    {
     "name": "stderr",
     "output_type": "stream",
     "text": [
      " 22%|██▏       | 202/932 [00:23<01:25,  8.53it/s]"
     ]
    },
    {
     "name": "stdout",
     "output_type": "stream",
     "text": [
      "Epoch 17: 21% , Loss: 0.682807\n"
     ]
    },
    {
     "name": "stderr",
     "output_type": "stream",
     "text": [
      " 32%|███▏      | 302/932 [00:36<01:17,  8.14it/s]"
     ]
    },
    {
     "name": "stdout",
     "output_type": "stream",
     "text": [
      "Epoch 17: 32% , Loss: 0.148539\n"
     ]
    },
    {
     "name": "stderr",
     "output_type": "stream",
     "text": [
      " 43%|████▎     | 402/932 [00:49<01:14,  7.09it/s]"
     ]
    },
    {
     "name": "stdout",
     "output_type": "stream",
     "text": [
      "Epoch 17: 43% , Loss: 0.263184\n"
     ]
    },
    {
     "name": "stderr",
     "output_type": "stream",
     "text": [
      " 54%|█████▍    | 502/932 [01:03<00:58,  7.40it/s]"
     ]
    },
    {
     "name": "stdout",
     "output_type": "stream",
     "text": [
      "Epoch 17: 54% , Loss: 0.249456\n"
     ]
    },
    {
     "name": "stderr",
     "output_type": "stream",
     "text": [
      " 64%|██████▍   | 601/932 [01:17<00:47,  6.95it/s]"
     ]
    },
    {
     "name": "stdout",
     "output_type": "stream",
     "text": [
      "Epoch 17: 64% , Loss: 0.534884\n"
     ]
    },
    {
     "name": "stderr",
     "output_type": "stream",
     "text": [
      " 75%|███████▌  | 702/932 [01:33<00:33,  6.95it/s]"
     ]
    },
    {
     "name": "stdout",
     "output_type": "stream",
     "text": [
      "Epoch 17: 75% , Loss: 0.354943\n"
     ]
    },
    {
     "name": "stderr",
     "output_type": "stream",
     "text": [
      " 86%|████████▌ | 801/932 [01:48<00:22,  5.88it/s]"
     ]
    },
    {
     "name": "stdout",
     "output_type": "stream",
     "text": [
      "Epoch 17: 86% , Loss: 0.191506\n"
     ]
    },
    {
     "name": "stderr",
     "output_type": "stream",
     "text": [
      " 97%|█████████▋| 901/932 [02:05<00:05,  5.61it/s]"
     ]
    },
    {
     "name": "stdout",
     "output_type": "stream",
     "text": [
      "Epoch 17: 97% , Loss: 0.503502\n"
     ]
    },
    {
     "name": "stderr",
     "output_type": "stream",
     "text": [
      "100%|██████████| 932/932 [02:10<00:00,  7.13it/s]\n"
     ]
    },
    {
     "name": "stdout",
     "output_type": "stream",
     "text": [
      "Epoch 17: 100% , Loss: 0.137547\n",
      "                      (F1-score: 0.0436)\n",
      "\n",
      "                      (NDCG: 0.0706)\n",
      "\n",
      "train_loss= tensor(0.4895)\n",
      "--------------------\n"
     ]
    },
    {
     "name": "stderr",
     "output_type": "stream",
     "text": [
      "100%|██████████| 133/133 [00:09<00:00, 13.56it/s]\n"
     ]
    },
    {
     "name": "stdout",
     "output_type": "stream",
     "text": [
      "                      (F1-score: 0.0411)\n",
      "\n",
      "                      (NDCG: 0.0664)\n",
      "\n",
      "val_loss= tensor(0.4505)\n",
      "--------------------\n"
     ]
    },
    {
     "name": "stderr",
     "output_type": "stream",
     "text": [
      "100%|██████████| 266/266 [00:20<00:00, 12.69it/s]\n"
     ]
    },
    {
     "name": "stdout",
     "output_type": "stream",
     "text": [
      "                      (F1-score: 0.0415)\n",
      "\n",
      "                      (NDCG: 0.0670)\n",
      "\n",
      "--------------------\n",
      "[[1, {'F1-score': 1.3426423200859293e-05}, {'NDCG': 7.968989754081668e-05}, 0.7953537106513977], [2, {'F1-score': 1.3426423200859293e-05}, {'NDCG': 7.968989754081668e-05}, 0.6858023405075073], [3, {'F1-score': 0.019103043976875064}, {'NDCG': 0.026571972600247403}, 0.5548844933509827], [4, {'F1-score': 0.02096858546187785}, {'NDCG': 0.04502920015834104}, 0.5526114106178284], [5, {'F1-score': 0.0354590595521211}, {'NDCG': 0.06195987741413869}, 0.5065855979919434], [6, {'F1-score': 0.04001724550510854}, {'NDCG': 0.0661786503886762}, 0.46960675716400146], [7, {'F1-score': 0.03779091447649205}, {'NDCG': 0.06406164879707578}, 0.4804374873638153], [8, {'F1-score': 0.040584136147165446}, {'NDCG': 0.06627678838943628}, 0.4667186737060547], [9, {'F1-score': 0.04058952926822324}, {'NDCG': 0.06623147309694748}, 0.45862865447998047], [10, {'F1-score': 0.040584136147165516}, {'NDCG': 0.0670063053152727}, 0.4817570149898529], [11, {'F1-score': 0.04158147724217505}, {'NDCG': 0.06707023027093899}, 0.4459657669067383], [12, {'F1-score': 0.03954475830888581}, {'NDCG': 0.06514711363619208}, 0.45868179202079773], [13, {'F1-score': 0.04154666799683949}, {'NDCG': 0.06700901980196736}, 0.45887869596481323], [14, {'F1-score': 0.04158147724217507}, {'NDCG': 0.06721850460801358}, 0.45013514161109924], [15, {'F1-score': 0.04138536532509799}, {'NDCG': 0.06757978630021103}, 0.46377432346343994], [16, {'F1-score': 0.041054382350920716}, {'NDCG': 0.0666698455614479}, 0.44927778840065], [17, {'F1-score': 0.04146422109894341}, {'NDCG': 0.06700026461350403}, 0.45049527287483215]]\n",
      "-----------------------------------------------------------------------------------------\n"
     ]
    },
    {
     "name": "stderr",
     "output_type": "stream",
     "text": [
      "\r",
      "  0%|          | 0/932 [00:00<?, ?it/s]"
     ]
    },
    {
     "name": "stdout",
     "output_type": "stream",
     "text": [
      "Epoch 18: 0% , Loss: 0.171729\n"
     ]
    },
    {
     "name": "stderr",
     "output_type": "stream",
     "text": [
      " 11%|█         | 101/932 [00:11<01:30,  9.14it/s]"
     ]
    },
    {
     "name": "stdout",
     "output_type": "stream",
     "text": [
      "Epoch 18: 11% , Loss: 0.164014\n"
     ]
    },
    {
     "name": "stderr",
     "output_type": "stream",
     "text": [
      " 22%|██▏       | 202/932 [00:23<01:26,  8.42it/s]"
     ]
    },
    {
     "name": "stdout",
     "output_type": "stream",
     "text": [
      "Epoch 18: 21% , Loss: 0.259996\n"
     ]
    },
    {
     "name": "stderr",
     "output_type": "stream",
     "text": [
      " 32%|███▏      | 302/932 [00:36<01:14,  8.47it/s]"
     ]
    },
    {
     "name": "stdout",
     "output_type": "stream",
     "text": [
      "Epoch 18: 32% , Loss: 0.163176\n"
     ]
    },
    {
     "name": "stderr",
     "output_type": "stream",
     "text": [
      " 43%|████▎     | 402/932 [00:49<01:11,  7.40it/s]"
     ]
    },
    {
     "name": "stdout",
     "output_type": "stream",
     "text": [
      "Epoch 18: 43% , Loss: 0.338259\n"
     ]
    },
    {
     "name": "stderr",
     "output_type": "stream",
     "text": [
      " 54%|█████▍    | 502/932 [01:03<01:03,  6.73it/s]"
     ]
    },
    {
     "name": "stdout",
     "output_type": "stream",
     "text": [
      "Epoch 18: 54% , Loss: 0.303518\n"
     ]
    },
    {
     "name": "stderr",
     "output_type": "stream",
     "text": [
      " 64%|██████▍   | 601/932 [01:18<00:51,  6.46it/s]"
     ]
    },
    {
     "name": "stdout",
     "output_type": "stream",
     "text": [
      "Epoch 18: 64% , Loss: 0.139001\n"
     ]
    },
    {
     "name": "stderr",
     "output_type": "stream",
     "text": [
      " 75%|███████▌  | 701/932 [01:33<00:33,  6.80it/s]"
     ]
    },
    {
     "name": "stdout",
     "output_type": "stream",
     "text": [
      "Epoch 18: 75% , Loss: 0.781954\n"
     ]
    },
    {
     "name": "stderr",
     "output_type": "stream",
     "text": [
      " 86%|████████▌ | 802/932 [01:49<00:19,  6.62it/s]"
     ]
    },
    {
     "name": "stdout",
     "output_type": "stream",
     "text": [
      "Epoch 18: 86% , Loss: 0.173116\n"
     ]
    },
    {
     "name": "stderr",
     "output_type": "stream",
     "text": [
      " 97%|█████████▋| 902/932 [02:05<00:05,  5.92it/s]"
     ]
    },
    {
     "name": "stdout",
     "output_type": "stream",
     "text": [
      "Epoch 18: 97% , Loss: 1.633245\n"
     ]
    },
    {
     "name": "stderr",
     "output_type": "stream",
     "text": [
      "100%|██████████| 932/932 [02:10<00:00,  7.13it/s]\n"
     ]
    },
    {
     "name": "stdout",
     "output_type": "stream",
     "text": [
      "Epoch 18: 100% , Loss: 1.318842\n",
      "                      (F1-score: 0.0433)\n",
      "\n",
      "                      (NDCG: 0.0705)\n",
      "\n",
      "train_loss= tensor(0.4905)\n",
      "--------------------\n"
     ]
    },
    {
     "name": "stderr",
     "output_type": "stream",
     "text": [
      "100%|██████████| 133/133 [00:09<00:00, 13.74it/s]\n"
     ]
    },
    {
     "name": "stdout",
     "output_type": "stream",
     "text": [
      "                      (F1-score: 0.0397)\n",
      "\n",
      "                      (NDCG: 0.0651)\n",
      "\n",
      "val_loss= tensor(0.4510)\n",
      "--------------------\n"
     ]
    },
    {
     "name": "stderr",
     "output_type": "stream",
     "text": [
      "100%|██████████| 266/266 [00:21<00:00, 12.61it/s]\n"
     ]
    },
    {
     "name": "stdout",
     "output_type": "stream",
     "text": [
      "                      (F1-score: 0.0411)\n",
      "\n",
      "                      (NDCG: 0.0666)\n",
      "\n",
      "--------------------\n",
      "[[1, {'F1-score': 1.3426423200859293e-05}, {'NDCG': 7.968989754081668e-05}, 0.7953537106513977], [2, {'F1-score': 1.3426423200859293e-05}, {'NDCG': 7.968989754081668e-05}, 0.6858023405075073], [3, {'F1-score': 0.019103043976875064}, {'NDCG': 0.026571972600247403}, 0.5548844933509827], [4, {'F1-score': 0.02096858546187785}, {'NDCG': 0.04502920015834104}, 0.5526114106178284], [5, {'F1-score': 0.0354590595521211}, {'NDCG': 0.06195987741413869}, 0.5065855979919434], [6, {'F1-score': 0.04001724550510854}, {'NDCG': 0.0661786503886762}, 0.46960675716400146], [7, {'F1-score': 0.03779091447649205}, {'NDCG': 0.06406164879707578}, 0.4804374873638153], [8, {'F1-score': 0.040584136147165446}, {'NDCG': 0.06627678838943628}, 0.4667186737060547], [9, {'F1-score': 0.04058952926822324}, {'NDCG': 0.06623147309694748}, 0.45862865447998047], [10, {'F1-score': 0.040584136147165516}, {'NDCG': 0.0670063053152727}, 0.4817570149898529], [11, {'F1-score': 0.04158147724217505}, {'NDCG': 0.06707023027093899}, 0.4459657669067383], [12, {'F1-score': 0.03954475830888581}, {'NDCG': 0.06514711363619208}, 0.45868179202079773], [13, {'F1-score': 0.04154666799683949}, {'NDCG': 0.06700901980196736}, 0.45887869596481323], [14, {'F1-score': 0.04158147724217507}, {'NDCG': 0.06721850460801358}, 0.45013514161109924], [15, {'F1-score': 0.04138536532509799}, {'NDCG': 0.06757978630021103}, 0.46377432346343994], [16, {'F1-score': 0.041054382350920716}, {'NDCG': 0.0666698455614479}, 0.44927778840065], [17, {'F1-score': 0.04146422109894341}, {'NDCG': 0.06700026461350403}, 0.45049527287483215], [18, {'F1-score': 0.04105438235092071}, {'NDCG': 0.06661812614831597}, 0.4510195255279541]]\n",
      "-----------------------------------------------------------------------------------------\n"
     ]
    },
    {
     "name": "stderr",
     "output_type": "stream",
     "text": [
      "\r",
      "  0%|          | 0/932 [00:00<?, ?it/s]"
     ]
    },
    {
     "name": "stdout",
     "output_type": "stream",
     "text": [
      "Epoch 19: 0% , Loss: 0.294974\n"
     ]
    },
    {
     "name": "stderr",
     "output_type": "stream",
     "text": [
      " 11%|█         | 102/932 [00:11<01:46,  7.77it/s]"
     ]
    },
    {
     "name": "stdout",
     "output_type": "stream",
     "text": [
      "Epoch 19: 11% , Loss: 0.105801\n"
     ]
    },
    {
     "name": "stderr",
     "output_type": "stream",
     "text": [
      " 22%|██▏       | 202/932 [00:22<01:24,  8.59it/s]"
     ]
    },
    {
     "name": "stdout",
     "output_type": "stream",
     "text": [
      "Epoch 19: 21% , Loss: 0.471084\n"
     ]
    },
    {
     "name": "stderr",
     "output_type": "stream",
     "text": [
      " 32%|███▏      | 302/932 [00:35<01:27,  7.18it/s]"
     ]
    },
    {
     "name": "stdout",
     "output_type": "stream",
     "text": [
      "Epoch 19: 32% , Loss: 0.508429\n"
     ]
    },
    {
     "name": "stderr",
     "output_type": "stream",
     "text": [
      " 43%|████▎     | 402/932 [00:48<01:11,  7.37it/s]"
     ]
    },
    {
     "name": "stdout",
     "output_type": "stream",
     "text": [
      "Epoch 19: 43% , Loss: 0.860854\n"
     ]
    },
    {
     "name": "stderr",
     "output_type": "stream",
     "text": [
      " 54%|█████▍    | 502/932 [01:02<00:58,  7.38it/s]"
     ]
    },
    {
     "name": "stdout",
     "output_type": "stream",
     "text": [
      "Epoch 19: 54% , Loss: 0.856391\n"
     ]
    },
    {
     "name": "stderr",
     "output_type": "stream",
     "text": [
      " 65%|██████▍   | 602/932 [01:17<00:49,  6.68it/s]"
     ]
    },
    {
     "name": "stdout",
     "output_type": "stream",
     "text": [
      "Epoch 19: 64% , Loss: 0.115294\n"
     ]
    },
    {
     "name": "stderr",
     "output_type": "stream",
     "text": [
      " 75%|███████▌  | 701/932 [01:32<00:37,  6.22it/s]"
     ]
    },
    {
     "name": "stdout",
     "output_type": "stream",
     "text": [
      "Epoch 19: 75% , Loss: 0.087562\n"
     ]
    },
    {
     "name": "stderr",
     "output_type": "stream",
     "text": [
      " 86%|████████▌ | 801/932 [01:48<00:20,  6.30it/s]"
     ]
    },
    {
     "name": "stdout",
     "output_type": "stream",
     "text": [
      "Epoch 19: 86% , Loss: 0.575208\n"
     ]
    },
    {
     "name": "stderr",
     "output_type": "stream",
     "text": [
      " 97%|█████████▋| 901/932 [02:05<00:05,  5.97it/s]"
     ]
    },
    {
     "name": "stdout",
     "output_type": "stream",
     "text": [
      "Epoch 19: 97% , Loss: 0.208105\n"
     ]
    },
    {
     "name": "stderr",
     "output_type": "stream",
     "text": [
      "100%|██████████| 932/932 [02:10<00:00,  7.15it/s]\n"
     ]
    },
    {
     "name": "stdout",
     "output_type": "stream",
     "text": [
      "Epoch 19: 100% , Loss: 0.215397\n",
      "                      (F1-score: 0.0442)\n",
      "\n",
      "                      (NDCG: 0.0714)\n",
      "\n",
      "train_loss= tensor(0.4890)\n",
      "--------------------\n"
     ]
    },
    {
     "name": "stderr",
     "output_type": "stream",
     "text": [
      "100%|██████████| 133/133 [00:09<00:00, 13.61it/s]\n"
     ]
    },
    {
     "name": "stdout",
     "output_type": "stream",
     "text": [
      "                      (F1-score: 0.0407)\n",
      "\n",
      "                      (NDCG: 0.0659)\n",
      "\n",
      "val_loss= tensor(0.4387)\n",
      "--------------------\n"
     ]
    },
    {
     "name": "stderr",
     "output_type": "stream",
     "text": [
      "100%|██████████| 266/266 [00:20<00:00, 12.78it/s]\n"
     ]
    },
    {
     "name": "stdout",
     "output_type": "stream",
     "text": [
      "                      (F1-score: 0.0418)\n",
      "\n",
      "                      (NDCG: 0.0671)\n",
      "\n",
      "--------------------\n",
      "[[1, {'F1-score': 1.3426423200859293e-05}, {'NDCG': 7.968989754081668e-05}, 0.7953537106513977], [2, {'F1-score': 1.3426423200859293e-05}, {'NDCG': 7.968989754081668e-05}, 0.6858023405075073], [3, {'F1-score': 0.019103043976875064}, {'NDCG': 0.026571972600247403}, 0.5548844933509827], [4, {'F1-score': 0.02096858546187785}, {'NDCG': 0.04502920015834104}, 0.5526114106178284], [5, {'F1-score': 0.0354590595521211}, {'NDCG': 0.06195987741413869}, 0.5065855979919434], [6, {'F1-score': 0.04001724550510854}, {'NDCG': 0.0661786503886762}, 0.46960675716400146], [7, {'F1-score': 0.03779091447649205}, {'NDCG': 0.06406164879707578}, 0.4804374873638153], [8, {'F1-score': 0.040584136147165446}, {'NDCG': 0.06627678838943628}, 0.4667186737060547], [9, {'F1-score': 0.04058952926822324}, {'NDCG': 0.06623147309694748}, 0.45862865447998047], [10, {'F1-score': 0.040584136147165516}, {'NDCG': 0.0670063053152727}, 0.4817570149898529], [11, {'F1-score': 0.04158147724217505}, {'NDCG': 0.06707023027093899}, 0.4459657669067383], [12, {'F1-score': 0.03954475830888581}, {'NDCG': 0.06514711363619208}, 0.45868179202079773], [13, {'F1-score': 0.04154666799683949}, {'NDCG': 0.06700901980196736}, 0.45887869596481323], [14, {'F1-score': 0.04158147724217507}, {'NDCG': 0.06721850460801358}, 0.45013514161109924], [15, {'F1-score': 0.04138536532509799}, {'NDCG': 0.06757978630021103}, 0.46377432346343994], [16, {'F1-score': 0.041054382350920716}, {'NDCG': 0.0666698455614479}, 0.44927778840065], [17, {'F1-score': 0.04146422109894341}, {'NDCG': 0.06700026461350403}, 0.45049527287483215], [18, {'F1-score': 0.04105438235092071}, {'NDCG': 0.06661812614831597}, 0.4510195255279541], [19, {'F1-score': 0.041829547777608105}, {'NDCG': 0.06712048681438866}, 0.4386899173259735]]\n",
      "-----------------------------------------------------------------------------------------\n"
     ]
    },
    {
     "name": "stderr",
     "output_type": "stream",
     "text": [
      "  0%|          | 2/932 [00:00<01:45,  8.82it/s]"
     ]
    },
    {
     "name": "stdout",
     "output_type": "stream",
     "text": [
      "Epoch 20: 0% , Loss: 0.321971\n"
     ]
    },
    {
     "name": "stderr",
     "output_type": "stream",
     "text": [
      " 11%|█         | 102/932 [00:11<01:39,  8.36it/s]"
     ]
    },
    {
     "name": "stdout",
     "output_type": "stream",
     "text": [
      "Epoch 20: 11% , Loss: 0.135311\n"
     ]
    },
    {
     "name": "stderr",
     "output_type": "stream",
     "text": [
      " 22%|██▏       | 202/932 [00:23<01:35,  7.61it/s]"
     ]
    },
    {
     "name": "stdout",
     "output_type": "stream",
     "text": [
      "Epoch 20: 21% , Loss: 0.290891\n"
     ]
    },
    {
     "name": "stderr",
     "output_type": "stream",
     "text": [
      " 32%|███▏      | 302/932 [00:35<01:24,  7.46it/s]"
     ]
    },
    {
     "name": "stdout",
     "output_type": "stream",
     "text": [
      "Epoch 20: 32% , Loss: 0.182519\n"
     ]
    },
    {
     "name": "stderr",
     "output_type": "stream",
     "text": [
      " 43%|████▎     | 402/932 [00:49<01:11,  7.41it/s]"
     ]
    },
    {
     "name": "stdout",
     "output_type": "stream",
     "text": [
      "Epoch 20: 43% , Loss: 0.970788\n"
     ]
    },
    {
     "name": "stderr",
     "output_type": "stream",
     "text": [
      " 54%|█████▍    | 502/932 [01:03<00:58,  7.37it/s]"
     ]
    },
    {
     "name": "stdout",
     "output_type": "stream",
     "text": [
      "Epoch 20: 54% , Loss: 0.097121\n"
     ]
    },
    {
     "name": "stderr",
     "output_type": "stream",
     "text": [
      " 64%|██████▍   | 601/932 [01:18<00:51,  6.45it/s]"
     ]
    },
    {
     "name": "stdout",
     "output_type": "stream",
     "text": [
      "Epoch 20: 64% , Loss: 0.192438\n"
     ]
    },
    {
     "name": "stderr",
     "output_type": "stream",
     "text": [
      " 75%|███████▌  | 702/932 [01:33<00:34,  6.58it/s]"
     ]
    },
    {
     "name": "stdout",
     "output_type": "stream",
     "text": [
      "Epoch 20: 75% , Loss: 0.166106\n"
     ]
    },
    {
     "name": "stderr",
     "output_type": "stream",
     "text": [
      " 86%|████████▌ | 802/932 [01:49<00:20,  6.30it/s]"
     ]
    },
    {
     "name": "stdout",
     "output_type": "stream",
     "text": [
      "Epoch 20: 86% , Loss: 0.924573\n"
     ]
    },
    {
     "name": "stderr",
     "output_type": "stream",
     "text": [
      " 97%|█████████▋| 901/932 [02:05<00:05,  6.11it/s]"
     ]
    },
    {
     "name": "stdout",
     "output_type": "stream",
     "text": [
      "Epoch 20: 97% , Loss: 0.447063\n"
     ]
    },
    {
     "name": "stderr",
     "output_type": "stream",
     "text": [
      "100%|██████████| 932/932 [02:10<00:00,  7.12it/s]\n"
     ]
    },
    {
     "name": "stdout",
     "output_type": "stream",
     "text": [
      "Epoch 20: 100% , Loss: 0.164735\n",
      "                      (F1-score: 0.0435)\n",
      "\n",
      "                      (NDCG: 0.0708)\n",
      "\n",
      "train_loss= tensor(0.4900)\n",
      "--------------------\n"
     ]
    },
    {
     "name": "stderr",
     "output_type": "stream",
     "text": [
      "100%|██████████| 133/133 [00:09<00:00, 13.43it/s]\n"
     ]
    },
    {
     "name": "stdout",
     "output_type": "stream",
     "text": [
      "                      (F1-score: 0.0397)\n",
      "\n",
      "                      (NDCG: 0.0652)\n",
      "\n",
      "val_loss= tensor(0.4325)\n",
      "--------------------\n"
     ]
    },
    {
     "name": "stderr",
     "output_type": "stream",
     "text": [
      "100%|██████████| 266/266 [00:21<00:00, 12.50it/s]\n"
     ]
    },
    {
     "name": "stdout",
     "output_type": "stream",
     "text": [
      "                      (F1-score: 0.0409)\n",
      "\n",
      "                      (NDCG: 0.0663)\n",
      "\n",
      "--------------------\n",
      "[[1, {'F1-score': 1.3426423200859293e-05}, {'NDCG': 7.968989754081668e-05}, 0.7953537106513977], [2, {'F1-score': 1.3426423200859293e-05}, {'NDCG': 7.968989754081668e-05}, 0.6858023405075073], [3, {'F1-score': 0.019103043976875064}, {'NDCG': 0.026571972600247403}, 0.5548844933509827], [4, {'F1-score': 0.02096858546187785}, {'NDCG': 0.04502920015834104}, 0.5526114106178284], [5, {'F1-score': 0.0354590595521211}, {'NDCG': 0.06195987741413869}, 0.5065855979919434], [6, {'F1-score': 0.04001724550510854}, {'NDCG': 0.0661786503886762}, 0.46960675716400146], [7, {'F1-score': 0.03779091447649205}, {'NDCG': 0.06406164879707578}, 0.4804374873638153], [8, {'F1-score': 0.040584136147165446}, {'NDCG': 0.06627678838943628}, 0.4667186737060547], [9, {'F1-score': 0.04058952926822324}, {'NDCG': 0.06623147309694748}, 0.45862865447998047], [10, {'F1-score': 0.040584136147165516}, {'NDCG': 0.0670063053152727}, 0.4817570149898529], [11, {'F1-score': 0.04158147724217505}, {'NDCG': 0.06707023027093899}, 0.4459657669067383], [12, {'F1-score': 0.03954475830888581}, {'NDCG': 0.06514711363619208}, 0.45868179202079773], [13, {'F1-score': 0.04154666799683949}, {'NDCG': 0.06700901980196736}, 0.45887869596481323], [14, {'F1-score': 0.04158147724217507}, {'NDCG': 0.06721850460801358}, 0.45013514161109924], [15, {'F1-score': 0.04138536532509799}, {'NDCG': 0.06757978630021103}, 0.46377432346343994], [16, {'F1-score': 0.041054382350920716}, {'NDCG': 0.0666698455614479}, 0.44927778840065], [17, {'F1-score': 0.04146422109894341}, {'NDCG': 0.06700026461350403}, 0.45049527287483215], [18, {'F1-score': 0.04105438235092071}, {'NDCG': 0.06661812614831597}, 0.4510195255279541], [19, {'F1-score': 0.041829547777608105}, {'NDCG': 0.06712048681438866}, 0.4386899173259735], [20, {'F1-score': 0.04093191317352164}, {'NDCG': 0.06627271250520546}, 0.4324909448623657]]\n",
      "-----------------------------------------------------------------------------------------\n"
     ]
    },
    {
     "name": "stderr",
     "output_type": "stream",
     "text": [
      "  0%|          | 2/932 [00:00<01:25, 10.82it/s]"
     ]
    },
    {
     "name": "stdout",
     "output_type": "stream",
     "text": [
      "Epoch 21: 0% , Loss: 0.116052\n"
     ]
    },
    {
     "name": "stderr",
     "output_type": "stream",
     "text": [
      " 11%|█         | 102/932 [00:11<01:31,  9.11it/s]"
     ]
    },
    {
     "name": "stdout",
     "output_type": "stream",
     "text": [
      "Epoch 21: 11% , Loss: 0.107140\n"
     ]
    },
    {
     "name": "stderr",
     "output_type": "stream",
     "text": [
      " 22%|██▏       | 202/932 [00:23<01:35,  7.61it/s]"
     ]
    },
    {
     "name": "stdout",
     "output_type": "stream",
     "text": [
      "Epoch 21: 21% , Loss: 0.564868\n"
     ]
    },
    {
     "name": "stderr",
     "output_type": "stream",
     "text": [
      " 32%|███▏      | 302/932 [00:36<01:16,  8.29it/s]"
     ]
    },
    {
     "name": "stdout",
     "output_type": "stream",
     "text": [
      "Epoch 21: 32% , Loss: 0.154843\n"
     ]
    },
    {
     "name": "stderr",
     "output_type": "stream",
     "text": [
      " 43%|████▎     | 402/932 [00:49<01:09,  7.65it/s]"
     ]
    },
    {
     "name": "stdout",
     "output_type": "stream",
     "text": [
      "Epoch 21: 43% , Loss: 0.190880\n"
     ]
    },
    {
     "name": "stderr",
     "output_type": "stream",
     "text": [
      " 54%|█████▍    | 502/932 [01:03<01:03,  6.81it/s]"
     ]
    },
    {
     "name": "stdout",
     "output_type": "stream",
     "text": [
      "Epoch 21: 54% , Loss: 0.570877\n"
     ]
    },
    {
     "name": "stderr",
     "output_type": "stream",
     "text": [
      " 64%|██████▍   | 601/932 [01:18<00:50,  6.58it/s]"
     ]
    },
    {
     "name": "stdout",
     "output_type": "stream",
     "text": [
      "Epoch 21: 64% , Loss: 0.380783\n"
     ]
    },
    {
     "name": "stderr",
     "output_type": "stream",
     "text": [
      " 75%|███████▌  | 702/932 [01:33<00:34,  6.70it/s]"
     ]
    },
    {
     "name": "stdout",
     "output_type": "stream",
     "text": [
      "Epoch 21: 75% , Loss: 0.254008\n"
     ]
    },
    {
     "name": "stderr",
     "output_type": "stream",
     "text": [
      " 86%|████████▌ | 801/932 [01:49<00:20,  6.41it/s]"
     ]
    },
    {
     "name": "stdout",
     "output_type": "stream",
     "text": [
      "Epoch 21: 86% , Loss: 0.573200\n"
     ]
    },
    {
     "name": "stderr",
     "output_type": "stream",
     "text": [
      " 97%|█████████▋| 901/932 [02:06<00:05,  5.92it/s]"
     ]
    },
    {
     "name": "stdout",
     "output_type": "stream",
     "text": [
      "Epoch 21: 97% , Loss: 0.102205\n"
     ]
    },
    {
     "name": "stderr",
     "output_type": "stream",
     "text": [
      "100%|██████████| 932/932 [02:11<00:00,  7.09it/s]\n"
     ]
    },
    {
     "name": "stdout",
     "output_type": "stream",
     "text": [
      "Epoch 21: 100% , Loss: 0.131342\n",
      "                      (F1-score: 0.0437)\n",
      "\n",
      "                      (NDCG: 0.0711)\n",
      "\n",
      "train_loss= tensor(0.4924)\n",
      "--------------------\n"
     ]
    },
    {
     "name": "stderr",
     "output_type": "stream",
     "text": [
      "100%|██████████| 133/133 [00:09<00:00, 13.46it/s]\n"
     ]
    },
    {
     "name": "stdout",
     "output_type": "stream",
     "text": [
      "                      (F1-score: 0.0408)\n",
      "\n",
      "                      (NDCG: 0.0659)\n",
      "\n",
      "val_loss= tensor(0.4391)\n",
      "--------------------\n"
     ]
    },
    {
     "name": "stderr",
     "output_type": "stream",
     "text": [
      "100%|██████████| 266/266 [00:21<00:00, 12.44it/s]\n"
     ]
    },
    {
     "name": "stdout",
     "output_type": "stream",
     "text": [
      "                      (F1-score: 0.0417)\n",
      "\n",
      "                      (NDCG: 0.0669)\n",
      "\n",
      "--------------------\n",
      "[[1, {'F1-score': 1.3426423200859293e-05}, {'NDCG': 7.968989754081668e-05}, 0.7953537106513977], [2, {'F1-score': 1.3426423200859293e-05}, {'NDCG': 7.968989754081668e-05}, 0.6858023405075073], [3, {'F1-score': 0.019103043976875064}, {'NDCG': 0.026571972600247403}, 0.5548844933509827], [4, {'F1-score': 0.02096858546187785}, {'NDCG': 0.04502920015834104}, 0.5526114106178284], [5, {'F1-score': 0.0354590595521211}, {'NDCG': 0.06195987741413869}, 0.5065855979919434], [6, {'F1-score': 0.04001724550510854}, {'NDCG': 0.0661786503886762}, 0.46960675716400146], [7, {'F1-score': 0.03779091447649205}, {'NDCG': 0.06406164879707578}, 0.4804374873638153], [8, {'F1-score': 0.040584136147165446}, {'NDCG': 0.06627678838943628}, 0.4667186737060547], [9, {'F1-score': 0.04058952926822324}, {'NDCG': 0.06623147309694748}, 0.45862865447998047], [10, {'F1-score': 0.040584136147165516}, {'NDCG': 0.0670063053152727}, 0.4817570149898529], [11, {'F1-score': 0.04158147724217505}, {'NDCG': 0.06707023027093899}, 0.4459657669067383], [12, {'F1-score': 0.03954475830888581}, {'NDCG': 0.06514711363619208}, 0.45868179202079773], [13, {'F1-score': 0.04154666799683949}, {'NDCG': 0.06700901980196736}, 0.45887869596481323], [14, {'F1-score': 0.04158147724217507}, {'NDCG': 0.06721850460801358}, 0.45013514161109924], [15, {'F1-score': 0.04138536532509799}, {'NDCG': 0.06757978630021103}, 0.46377432346343994], [16, {'F1-score': 0.041054382350920716}, {'NDCG': 0.0666698455614479}, 0.44927778840065], [17, {'F1-score': 0.04146422109894341}, {'NDCG': 0.06700026461350403}, 0.45049527287483215], [18, {'F1-score': 0.04105438235092071}, {'NDCG': 0.06661812614831597}, 0.4510195255279541], [19, {'F1-score': 0.041829547777608105}, {'NDCG': 0.06712048681438866}, 0.4386899173259735], [20, {'F1-score': 0.04093191317352164}, {'NDCG': 0.06627271250520546}, 0.4324909448623657], [21, {'F1-score': 0.041712527285200626}, {'NDCG': 0.06686701733422906}, 0.43909600377082825]]\n",
      "-----------------------------------------------------------------------------------------\n"
     ]
    },
    {
     "name": "stderr",
     "output_type": "stream",
     "text": [
      "\r",
      "  0%|          | 0/932 [00:00<?, ?it/s]"
     ]
    },
    {
     "name": "stdout",
     "output_type": "stream",
     "text": [
      "Epoch 22: 0% , Loss: 0.355346\n"
     ]
    },
    {
     "name": "stderr",
     "output_type": "stream",
     "text": [
      " 11%|█         | 101/932 [00:11<01:41,  8.15it/s]"
     ]
    },
    {
     "name": "stdout",
     "output_type": "stream",
     "text": [
      "Epoch 22: 11% , Loss: 1.451865\n"
     ]
    },
    {
     "name": "stderr",
     "output_type": "stream",
     "text": [
      " 22%|██▏       | 202/932 [00:23<01:33,  7.79it/s]"
     ]
    },
    {
     "name": "stdout",
     "output_type": "stream",
     "text": [
      "Epoch 22: 21% , Loss: 0.316176\n"
     ]
    },
    {
     "name": "stderr",
     "output_type": "stream",
     "text": [
      " 32%|███▏      | 302/932 [00:36<01:18,  8.04it/s]"
     ]
    },
    {
     "name": "stdout",
     "output_type": "stream",
     "text": [
      "Epoch 22: 32% , Loss: 0.266545\n"
     ]
    },
    {
     "name": "stderr",
     "output_type": "stream",
     "text": [
      " 43%|████▎     | 402/932 [00:49<01:10,  7.54it/s]"
     ]
    },
    {
     "name": "stdout",
     "output_type": "stream",
     "text": [
      "Epoch 22: 43% , Loss: 0.281763\n"
     ]
    },
    {
     "name": "stderr",
     "output_type": "stream",
     "text": [
      " 54%|█████▍    | 502/932 [01:03<01:04,  6.71it/s]"
     ]
    },
    {
     "name": "stdout",
     "output_type": "stream",
     "text": [
      "Epoch 22: 54% , Loss: 0.194359\n"
     ]
    },
    {
     "name": "stderr",
     "output_type": "stream",
     "text": [
      " 64%|██████▍   | 601/932 [01:18<00:52,  6.26it/s]"
     ]
    },
    {
     "name": "stdout",
     "output_type": "stream",
     "text": [
      "Epoch 22: 64% , Loss: 0.313563\n"
     ]
    },
    {
     "name": "stderr",
     "output_type": "stream",
     "text": [
      " 75%|███████▌  | 701/932 [01:33<00:34,  6.68it/s]"
     ]
    },
    {
     "name": "stdout",
     "output_type": "stream",
     "text": [
      "Epoch 22: 75% , Loss: 0.191397\n"
     ]
    },
    {
     "name": "stderr",
     "output_type": "stream",
     "text": [
      " 86%|████████▌ | 801/932 [01:49<00:21,  6.11it/s]"
     ]
    },
    {
     "name": "stdout",
     "output_type": "stream",
     "text": [
      "Epoch 22: 86% , Loss: 0.397051\n"
     ]
    },
    {
     "name": "stderr",
     "output_type": "stream",
     "text": [
      " 97%|█████████▋| 901/932 [02:06<00:05,  6.07it/s]"
     ]
    },
    {
     "name": "stdout",
     "output_type": "stream",
     "text": [
      "Epoch 22: 97% , Loss: 0.199571\n"
     ]
    },
    {
     "name": "stderr",
     "output_type": "stream",
     "text": [
      "100%|██████████| 932/932 [02:11<00:00,  7.10it/s]"
     ]
    },
    {
     "name": "stdout",
     "output_type": "stream",
     "text": [
      "Epoch 22: 100% , Loss: 1.432986\n"
     ]
    },
    {
     "name": "stderr",
     "output_type": "stream",
     "text": [
      "\n"
     ]
    },
    {
     "name": "stdout",
     "output_type": "stream",
     "text": [
      "                      (F1-score: 0.0437)\n",
      "\n",
      "                      (NDCG: 0.0709)\n",
      "\n",
      "train_loss= tensor(0.4911)\n",
      "--------------------\n"
     ]
    },
    {
     "name": "stderr",
     "output_type": "stream",
     "text": [
      "100%|██████████| 133/133 [00:09<00:00, 13.35it/s]\n"
     ]
    },
    {
     "name": "stdout",
     "output_type": "stream",
     "text": [
      "                      (F1-score: 0.0408)\n",
      "\n",
      "                      (NDCG: 0.0660)\n",
      "\n",
      "val_loss= tensor(0.4465)\n",
      "--------------------\n"
     ]
    },
    {
     "name": "stderr",
     "output_type": "stream",
     "text": [
      "100%|██████████| 266/266 [00:21<00:00, 12.53it/s]\n"
     ]
    },
    {
     "name": "stdout",
     "output_type": "stream",
     "text": [
      "                      (F1-score: 0.0416)\n",
      "\n",
      "                      (NDCG: 0.0666)\n",
      "\n",
      "--------------------\n",
      "[[1, {'F1-score': 1.3426423200859293e-05}, {'NDCG': 7.968989754081668e-05}, 0.7953537106513977], [2, {'F1-score': 1.3426423200859293e-05}, {'NDCG': 7.968989754081668e-05}, 0.6858023405075073], [3, {'F1-score': 0.019103043976875064}, {'NDCG': 0.026571972600247403}, 0.5548844933509827], [4, {'F1-score': 0.02096858546187785}, {'NDCG': 0.04502920015834104}, 0.5526114106178284], [5, {'F1-score': 0.0354590595521211}, {'NDCG': 0.06195987741413869}, 0.5065855979919434], [6, {'F1-score': 0.04001724550510854}, {'NDCG': 0.0661786503886762}, 0.46960675716400146], [7, {'F1-score': 0.03779091447649205}, {'NDCG': 0.06406164879707578}, 0.4804374873638153], [8, {'F1-score': 0.040584136147165446}, {'NDCG': 0.06627678838943628}, 0.4667186737060547], [9, {'F1-score': 0.04058952926822324}, {'NDCG': 0.06623147309694748}, 0.45862865447998047], [10, {'F1-score': 0.040584136147165516}, {'NDCG': 0.0670063053152727}, 0.4817570149898529], [11, {'F1-score': 0.04158147724217505}, {'NDCG': 0.06707023027093899}, 0.4459657669067383], [12, {'F1-score': 0.03954475830888581}, {'NDCG': 0.06514711363619208}, 0.45868179202079773], [13, {'F1-score': 0.04154666799683949}, {'NDCG': 0.06700901980196736}, 0.45887869596481323], [14, {'F1-score': 0.04158147724217507}, {'NDCG': 0.06721850460801358}, 0.45013514161109924], [15, {'F1-score': 0.04138536532509799}, {'NDCG': 0.06757978630021103}, 0.46377432346343994], [16, {'F1-score': 0.041054382350920716}, {'NDCG': 0.0666698455614479}, 0.44927778840065], [17, {'F1-score': 0.04146422109894341}, {'NDCG': 0.06700026461350403}, 0.45049527287483215], [18, {'F1-score': 0.04105438235092071}, {'NDCG': 0.06661812614831597}, 0.4510195255279541], [19, {'F1-score': 0.041829547777608105}, {'NDCG': 0.06712048681438866}, 0.4386899173259735], [20, {'F1-score': 0.04093191317352164}, {'NDCG': 0.06627271250520546}, 0.4324909448623657], [21, {'F1-score': 0.041712527285200626}, {'NDCG': 0.06686701733422906}, 0.43909600377082825], [22, {'F1-score': 0.041596470096774966}, {'NDCG': 0.06663158744629613}, 0.44651371240615845]]\n",
      "-----------------------------------------------------------------------------------------\n"
     ]
    },
    {
     "name": "stderr",
     "output_type": "stream",
     "text": [
      "\r",
      "  0%|          | 0/932 [00:00<?, ?it/s]"
     ]
    },
    {
     "name": "stdout",
     "output_type": "stream",
     "text": [
      "Epoch 23: 0% , Loss: 1.478329\n"
     ]
    },
    {
     "name": "stderr",
     "output_type": "stream",
     "text": [
      " 11%|█         | 102/932 [00:11<01:35,  8.69it/s]"
     ]
    },
    {
     "name": "stdout",
     "output_type": "stream",
     "text": [
      "Epoch 23: 11% , Loss: 0.086289\n"
     ]
    },
    {
     "name": "stderr",
     "output_type": "stream",
     "text": [
      " 22%|██▏       | 202/932 [00:23<01:20,  9.02it/s]"
     ]
    },
    {
     "name": "stdout",
     "output_type": "stream",
     "text": [
      "Epoch 23: 21% , Loss: 0.130467\n"
     ]
    },
    {
     "name": "stderr",
     "output_type": "stream",
     "text": [
      " 32%|███▏      | 302/932 [00:36<01:20,  7.87it/s]"
     ]
    },
    {
     "name": "stdout",
     "output_type": "stream",
     "text": [
      "Epoch 23: 32% , Loss: 0.102641\n"
     ]
    },
    {
     "name": "stderr",
     "output_type": "stream",
     "text": [
      " 43%|████▎     | 402/932 [00:49<01:12,  7.36it/s]"
     ]
    },
    {
     "name": "stdout",
     "output_type": "stream",
     "text": [
      "Epoch 23: 43% , Loss: 2.205749\n"
     ]
    },
    {
     "name": "stderr",
     "output_type": "stream",
     "text": [
      " 54%|█████▍    | 502/932 [01:03<01:04,  6.67it/s]"
     ]
    },
    {
     "name": "stdout",
     "output_type": "stream",
     "text": [
      "Epoch 23: 54% , Loss: 0.159809\n"
     ]
    },
    {
     "name": "stderr",
     "output_type": "stream",
     "text": [
      " 65%|██████▍   | 602/932 [01:18<00:45,  7.22it/s]"
     ]
    },
    {
     "name": "stdout",
     "output_type": "stream",
     "text": [
      "Epoch 23: 64% , Loss: 0.177275\n"
     ]
    },
    {
     "name": "stderr",
     "output_type": "stream",
     "text": [
      " 75%|███████▌  | 702/932 [01:33<00:33,  6.77it/s]"
     ]
    },
    {
     "name": "stdout",
     "output_type": "stream",
     "text": [
      "Epoch 23: 75% , Loss: 0.078429\n"
     ]
    },
    {
     "name": "stderr",
     "output_type": "stream",
     "text": [
      " 86%|████████▌ | 801/932 [01:49<00:20,  6.26it/s]"
     ]
    },
    {
     "name": "stdout",
     "output_type": "stream",
     "text": [
      "Epoch 23: 86% , Loss: 0.262146\n"
     ]
    },
    {
     "name": "stderr",
     "output_type": "stream",
     "text": [
      " 97%|█████████▋| 901/932 [02:05<00:05,  6.07it/s]"
     ]
    },
    {
     "name": "stdout",
     "output_type": "stream",
     "text": [
      "Epoch 23: 97% , Loss: 1.371703\n"
     ]
    },
    {
     "name": "stderr",
     "output_type": "stream",
     "text": [
      "100%|██████████| 932/932 [02:11<00:00,  7.10it/s]\n"
     ]
    },
    {
     "name": "stdout",
     "output_type": "stream",
     "text": [
      "Epoch 23: 100% , Loss: 0.099214\n",
      "                      (F1-score: 0.0443)\n",
      "\n",
      "                      (NDCG: 0.0714)\n",
      "\n",
      "train_loss= tensor(0.4905)\n",
      "--------------------\n"
     ]
    },
    {
     "name": "stderr",
     "output_type": "stream",
     "text": [
      "100%|██████████| 133/133 [00:10<00:00, 13.18it/s]\n"
     ]
    },
    {
     "name": "stdout",
     "output_type": "stream",
     "text": [
      "                      (F1-score: 0.0408)\n",
      "\n",
      "                      (NDCG: 0.0660)\n",
      "\n",
      "val_loss= tensor(0.4402)\n",
      "--------------------\n"
     ]
    },
    {
     "name": "stderr",
     "output_type": "stream",
     "text": [
      "100%|██████████| 266/266 [00:21<00:00, 12.36it/s]\n"
     ]
    },
    {
     "name": "stdout",
     "output_type": "stream",
     "text": [
      "                      (F1-score: 0.0419)\n",
      "\n",
      "                      (NDCG: 0.0673)\n",
      "\n",
      "--------------------\n",
      "[[1, {'F1-score': 1.3426423200859293e-05}, {'NDCG': 7.968989754081668e-05}, 0.7953537106513977], [2, {'F1-score': 1.3426423200859293e-05}, {'NDCG': 7.968989754081668e-05}, 0.6858023405075073], [3, {'F1-score': 0.019103043976875064}, {'NDCG': 0.026571972600247403}, 0.5548844933509827], [4, {'F1-score': 0.02096858546187785}, {'NDCG': 0.04502920015834104}, 0.5526114106178284], [5, {'F1-score': 0.0354590595521211}, {'NDCG': 0.06195987741413869}, 0.5065855979919434], [6, {'F1-score': 0.04001724550510854}, {'NDCG': 0.0661786503886762}, 0.46960675716400146], [7, {'F1-score': 0.03779091447649205}, {'NDCG': 0.06406164879707578}, 0.4804374873638153], [8, {'F1-score': 0.040584136147165446}, {'NDCG': 0.06627678838943628}, 0.4667186737060547], [9, {'F1-score': 0.04058952926822324}, {'NDCG': 0.06623147309694748}, 0.45862865447998047], [10, {'F1-score': 0.040584136147165516}, {'NDCG': 0.0670063053152727}, 0.4817570149898529], [11, {'F1-score': 0.04158147724217505}, {'NDCG': 0.06707023027093899}, 0.4459657669067383], [12, {'F1-score': 0.03954475830888581}, {'NDCG': 0.06514711363619208}, 0.45868179202079773], [13, {'F1-score': 0.04154666799683949}, {'NDCG': 0.06700901980196736}, 0.45887869596481323], [14, {'F1-score': 0.04158147724217507}, {'NDCG': 0.06721850460801358}, 0.45013514161109924], [15, {'F1-score': 0.04138536532509799}, {'NDCG': 0.06757978630021103}, 0.46377432346343994], [16, {'F1-score': 0.041054382350920716}, {'NDCG': 0.0666698455614479}, 0.44927778840065], [17, {'F1-score': 0.04146422109894341}, {'NDCG': 0.06700026461350403}, 0.45049527287483215], [18, {'F1-score': 0.04105438235092071}, {'NDCG': 0.06661812614831597}, 0.4510195255279541], [19, {'F1-score': 0.041829547777608105}, {'NDCG': 0.06712048681438866}, 0.4386899173259735], [20, {'F1-score': 0.04093191317352164}, {'NDCG': 0.06627271250520546}, 0.4324909448623657], [21, {'F1-score': 0.041712527285200626}, {'NDCG': 0.06686701733422906}, 0.43909600377082825], [22, {'F1-score': 0.041596470096774966}, {'NDCG': 0.06663158744629613}, 0.44651371240615845], [23, {'F1-score': 0.04188483304961162}, {'NDCG': 0.06726529695359725}, 0.44020524621009827]]\n",
      "-----------------------------------------------------------------------------------------\n"
     ]
    },
    {
     "name": "stderr",
     "output_type": "stream",
     "text": [
      "\r",
      "  0%|          | 0/932 [00:00<?, ?it/s]"
     ]
    },
    {
     "name": "stdout",
     "output_type": "stream",
     "text": [
      "Epoch 24: 0% , Loss: 0.450923\n"
     ]
    },
    {
     "name": "stderr",
     "output_type": "stream",
     "text": [
      " 11%|█         | 102/932 [00:11<01:35,  8.70it/s]"
     ]
    },
    {
     "name": "stdout",
     "output_type": "stream",
     "text": [
      "Epoch 24: 11% , Loss: 0.201305\n"
     ]
    },
    {
     "name": "stderr",
     "output_type": "stream",
     "text": [
      " 22%|██▏       | 202/932 [00:23<01:23,  8.78it/s]"
     ]
    },
    {
     "name": "stdout",
     "output_type": "stream",
     "text": [
      "Epoch 24: 21% , Loss: 0.662307\n"
     ]
    },
    {
     "name": "stderr",
     "output_type": "stream",
     "text": [
      " 32%|███▏      | 302/932 [00:37<01:14,  8.42it/s]"
     ]
    },
    {
     "name": "stdout",
     "output_type": "stream",
     "text": [
      "Epoch 24: 32% , Loss: 0.147771\n"
     ]
    },
    {
     "name": "stderr",
     "output_type": "stream",
     "text": [
      " 43%|████▎     | 402/932 [00:50<01:16,  6.90it/s]"
     ]
    },
    {
     "name": "stdout",
     "output_type": "stream",
     "text": [
      "Epoch 24: 43% , Loss: 0.737414\n"
     ]
    },
    {
     "name": "stderr",
     "output_type": "stream",
     "text": [
      " 54%|█████▍    | 502/932 [01:04<00:59,  7.20it/s]"
     ]
    },
    {
     "name": "stdout",
     "output_type": "stream",
     "text": [
      "Epoch 24: 54% , Loss: 0.452301\n"
     ]
    },
    {
     "name": "stderr",
     "output_type": "stream",
     "text": [
      " 65%|██████▍   | 602/932 [01:19<00:50,  6.59it/s]"
     ]
    },
    {
     "name": "stdout",
     "output_type": "stream",
     "text": [
      "Epoch 24: 64% , Loss: 0.150340\n"
     ]
    },
    {
     "name": "stderr",
     "output_type": "stream",
     "text": [
      " 75%|███████▌  | 702/932 [01:34<00:34,  6.70it/s]"
     ]
    },
    {
     "name": "stdout",
     "output_type": "stream",
     "text": [
      "Epoch 24: 75% , Loss: 0.149390\n"
     ]
    },
    {
     "name": "stderr",
     "output_type": "stream",
     "text": [
      " 86%|████████▌ | 801/932 [01:50<00:21,  6.08it/s]"
     ]
    },
    {
     "name": "stdout",
     "output_type": "stream",
     "text": [
      "Epoch 24: 86% , Loss: 0.252503\n"
     ]
    },
    {
     "name": "stderr",
     "output_type": "stream",
     "text": [
      " 97%|█████████▋| 901/932 [02:07<00:05,  5.63it/s]"
     ]
    },
    {
     "name": "stdout",
     "output_type": "stream",
     "text": [
      "Epoch 24: 97% , Loss: 0.184850\n"
     ]
    },
    {
     "name": "stderr",
     "output_type": "stream",
     "text": [
      "100%|██████████| 932/932 [02:12<00:00,  7.04it/s]\n"
     ]
    },
    {
     "name": "stdout",
     "output_type": "stream",
     "text": [
      "Epoch 24: 100% , Loss: 0.718791\n",
      "                      (F1-score: 0.0442)\n",
      "\n",
      "                      (NDCG: 0.0711)\n",
      "\n",
      "train_loss= tensor(0.4880)\n",
      "--------------------\n"
     ]
    },
    {
     "name": "stderr",
     "output_type": "stream",
     "text": [
      "100%|██████████| 133/133 [00:10<00:00, 12.95it/s]\n"
     ]
    },
    {
     "name": "stdout",
     "output_type": "stream",
     "text": [
      "                      (F1-score: 0.0407)\n",
      "\n",
      "                      (NDCG: 0.0658)\n",
      "\n",
      "val_loss= tensor(0.4338)\n",
      "--------------------\n"
     ]
    },
    {
     "name": "stderr",
     "output_type": "stream",
     "text": [
      "100%|██████████| 266/266 [00:21<00:00, 12.47it/s]\n"
     ]
    },
    {
     "name": "stdout",
     "output_type": "stream",
     "text": [
      "                      (F1-score: 0.0419)\n",
      "\n",
      "                      (NDCG: 0.0672)\n",
      "\n",
      "--------------------\n",
      "[[1, {'F1-score': 1.3426423200859293e-05}, {'NDCG': 7.968989754081668e-05}, 0.7953537106513977], [2, {'F1-score': 1.3426423200859293e-05}, {'NDCG': 7.968989754081668e-05}, 0.6858023405075073], [3, {'F1-score': 0.019103043976875064}, {'NDCG': 0.026571972600247403}, 0.5548844933509827], [4, {'F1-score': 0.02096858546187785}, {'NDCG': 0.04502920015834104}, 0.5526114106178284], [5, {'F1-score': 0.0354590595521211}, {'NDCG': 0.06195987741413869}, 0.5065855979919434], [6, {'F1-score': 0.04001724550510854}, {'NDCG': 0.0661786503886762}, 0.46960675716400146], [7, {'F1-score': 0.03779091447649205}, {'NDCG': 0.06406164879707578}, 0.4804374873638153], [8, {'F1-score': 0.040584136147165446}, {'NDCG': 0.06627678838943628}, 0.4667186737060547], [9, {'F1-score': 0.04058952926822324}, {'NDCG': 0.06623147309694748}, 0.45862865447998047], [10, {'F1-score': 0.040584136147165516}, {'NDCG': 0.0670063053152727}, 0.4817570149898529], [11, {'F1-score': 0.04158147724217505}, {'NDCG': 0.06707023027093899}, 0.4459657669067383], [12, {'F1-score': 0.03954475830888581}, {'NDCG': 0.06514711363619208}, 0.45868179202079773], [13, {'F1-score': 0.04154666799683949}, {'NDCG': 0.06700901980196736}, 0.45887869596481323], [14, {'F1-score': 0.04158147724217507}, {'NDCG': 0.06721850460801358}, 0.45013514161109924], [15, {'F1-score': 0.04138536532509799}, {'NDCG': 0.06757978630021103}, 0.46377432346343994], [16, {'F1-score': 0.041054382350920716}, {'NDCG': 0.0666698455614479}, 0.44927778840065], [17, {'F1-score': 0.04146422109894341}, {'NDCG': 0.06700026461350403}, 0.45049527287483215], [18, {'F1-score': 0.04105438235092071}, {'NDCG': 0.06661812614831597}, 0.4510195255279541], [19, {'F1-score': 0.041829547777608105}, {'NDCG': 0.06712048681438866}, 0.4386899173259735], [20, {'F1-score': 0.04093191317352164}, {'NDCG': 0.06627271250520546}, 0.4324909448623657], [21, {'F1-score': 0.041712527285200626}, {'NDCG': 0.06686701733422906}, 0.43909600377082825], [22, {'F1-score': 0.041596470096774966}, {'NDCG': 0.06663158744629613}, 0.44651371240615845], [23, {'F1-score': 0.04188483304961162}, {'NDCG': 0.06726529695359725}, 0.44020524621009827], [24, {'F1-score': 0.041875722441415825}, {'NDCG': 0.06715259264762465}, 0.4337669909000397]]\n",
      "-----------------------------------------------------------------------------------------\n"
     ]
    },
    {
     "name": "stderr",
     "output_type": "stream",
     "text": [
      "  0%|          | 2/932 [00:00<01:49,  8.48it/s]"
     ]
    },
    {
     "name": "stdout",
     "output_type": "stream",
     "text": [
      "Epoch 25: 0% , Loss: 1.116852\n"
     ]
    },
    {
     "name": "stderr",
     "output_type": "stream",
     "text": [
      " 11%|█         | 102/932 [00:11<01:38,  8.42it/s]"
     ]
    },
    {
     "name": "stdout",
     "output_type": "stream",
     "text": [
      "Epoch 25: 11% , Loss: 0.132263\n"
     ]
    },
    {
     "name": "stderr",
     "output_type": "stream",
     "text": [
      " 22%|██▏       | 202/932 [00:24<01:30,  8.09it/s]"
     ]
    },
    {
     "name": "stdout",
     "output_type": "stream",
     "text": [
      "Epoch 25: 21% , Loss: 0.562587\n"
     ]
    },
    {
     "name": "stderr",
     "output_type": "stream",
     "text": [
      " 32%|███▏      | 302/932 [00:36<01:26,  7.25it/s]"
     ]
    },
    {
     "name": "stdout",
     "output_type": "stream",
     "text": [
      "Epoch 25: 32% , Loss: 0.168314\n"
     ]
    },
    {
     "name": "stderr",
     "output_type": "stream",
     "text": [
      " 43%|████▎     | 402/932 [00:50<01:16,  6.93it/s]"
     ]
    },
    {
     "name": "stdout",
     "output_type": "stream",
     "text": [
      "Epoch 25: 43% , Loss: 0.173486\n"
     ]
    },
    {
     "name": "stderr",
     "output_type": "stream",
     "text": [
      " 54%|█████▍    | 502/932 [01:04<00:57,  7.49it/s]"
     ]
    },
    {
     "name": "stdout",
     "output_type": "stream",
     "text": [
      "Epoch 25: 54% , Loss: 0.135460\n"
     ]
    },
    {
     "name": "stderr",
     "output_type": "stream",
     "text": [
      " 64%|██████▍   | 601/932 [01:19<00:47,  6.96it/s]"
     ]
    },
    {
     "name": "stdout",
     "output_type": "stream",
     "text": [
      "Epoch 25: 64% , Loss: 0.134821\n"
     ]
    },
    {
     "name": "stderr",
     "output_type": "stream",
     "text": [
      " 75%|███████▌  | 701/932 [01:34<00:36,  6.41it/s]"
     ]
    },
    {
     "name": "stdout",
     "output_type": "stream",
     "text": [
      "Epoch 25: 75% , Loss: 0.193577\n"
     ]
    },
    {
     "name": "stderr",
     "output_type": "stream",
     "text": [
      " 86%|████████▌ | 802/932 [01:50<00:20,  6.26it/s]"
     ]
    },
    {
     "name": "stdout",
     "output_type": "stream",
     "text": [
      "Epoch 25: 86% , Loss: 1.067664\n"
     ]
    },
    {
     "name": "stderr",
     "output_type": "stream",
     "text": [
      " 97%|█████████▋| 901/932 [02:07<00:05,  5.61it/s]"
     ]
    },
    {
     "name": "stdout",
     "output_type": "stream",
     "text": [
      "Epoch 25: 97% , Loss: 0.168374\n"
     ]
    },
    {
     "name": "stderr",
     "output_type": "stream",
     "text": [
      "100%|██████████| 932/932 [02:12<00:00,  7.01it/s]\n"
     ]
    },
    {
     "name": "stdout",
     "output_type": "stream",
     "text": [
      "Epoch 25: 100% , Loss: 0.456131\n",
      "                      (F1-score: 0.0442)\n",
      "\n",
      "                      (NDCG: 0.0714)\n",
      "\n",
      "train_loss= tensor(0.4901)\n",
      "--------------------\n"
     ]
    },
    {
     "name": "stderr",
     "output_type": "stream",
     "text": [
      "100%|██████████| 133/133 [00:10<00:00, 12.65it/s]\n"
     ]
    },
    {
     "name": "stdout",
     "output_type": "stream",
     "text": [
      "                      (F1-score: 0.0408)\n",
      "\n",
      "                      (NDCG: 0.0661)\n",
      "\n",
      "val_loss= tensor(0.4470)\n",
      "--------------------\n"
     ]
    },
    {
     "name": "stderr",
     "output_type": "stream",
     "text": [
      "100%|██████████| 266/266 [00:21<00:00, 12.18it/s]\n"
     ]
    },
    {
     "name": "stdout",
     "output_type": "stream",
     "text": [
      "                      (F1-score: 0.0418)\n",
      "\n",
      "                      (NDCG: 0.0670)\n",
      "\n",
      "--------------------\n",
      "[[1, {'F1-score': 1.3426423200859293e-05}, {'NDCG': 7.968989754081668e-05}, 0.7953537106513977], [2, {'F1-score': 1.3426423200859293e-05}, {'NDCG': 7.968989754081668e-05}, 0.6858023405075073], [3, {'F1-score': 0.019103043976875064}, {'NDCG': 0.026571972600247403}, 0.5548844933509827], [4, {'F1-score': 0.02096858546187785}, {'NDCG': 0.04502920015834104}, 0.5526114106178284], [5, {'F1-score': 0.0354590595521211}, {'NDCG': 0.06195987741413869}, 0.5065855979919434], [6, {'F1-score': 0.04001724550510854}, {'NDCG': 0.0661786503886762}, 0.46960675716400146], [7, {'F1-score': 0.03779091447649205}, {'NDCG': 0.06406164879707578}, 0.4804374873638153], [8, {'F1-score': 0.040584136147165446}, {'NDCG': 0.06627678838943628}, 0.4667186737060547], [9, {'F1-score': 0.04058952926822324}, {'NDCG': 0.06623147309694748}, 0.45862865447998047], [10, {'F1-score': 0.040584136147165516}, {'NDCG': 0.0670063053152727}, 0.4817570149898529], [11, {'F1-score': 0.04158147724217505}, {'NDCG': 0.06707023027093899}, 0.4459657669067383], [12, {'F1-score': 0.03954475830888581}, {'NDCG': 0.06514711363619208}, 0.45868179202079773], [13, {'F1-score': 0.04154666799683949}, {'NDCG': 0.06700901980196736}, 0.45887869596481323], [14, {'F1-score': 0.04158147724217507}, {'NDCG': 0.06721850460801358}, 0.45013514161109924], [15, {'F1-score': 0.04138536532509799}, {'NDCG': 0.06757978630021103}, 0.46377432346343994], [16, {'F1-score': 0.041054382350920716}, {'NDCG': 0.0666698455614479}, 0.44927778840065], [17, {'F1-score': 0.04146422109894341}, {'NDCG': 0.06700026461350403}, 0.45049527287483215], [18, {'F1-score': 0.04105438235092071}, {'NDCG': 0.06661812614831597}, 0.4510195255279541], [19, {'F1-score': 0.041829547777608105}, {'NDCG': 0.06712048681438866}, 0.4386899173259735], [20, {'F1-score': 0.04093191317352164}, {'NDCG': 0.06627271250520546}, 0.4324909448623657], [21, {'F1-score': 0.041712527285200626}, {'NDCG': 0.06686701733422906}, 0.43909600377082825], [22, {'F1-score': 0.041596470096774966}, {'NDCG': 0.06663158744629613}, 0.44651371240615845], [23, {'F1-score': 0.04188483304961162}, {'NDCG': 0.06726529695359725}, 0.44020524621009827], [24, {'F1-score': 0.041875722441415825}, {'NDCG': 0.06715259264762465}, 0.4337669909000397], [25, {'F1-score': 0.041759519766403595}, {'NDCG': 0.0670157974950017}, 0.4470067322254181]]\n",
      "-----------------------------------------------------------------------------------------\n"
     ]
    },
    {
     "name": "stderr",
     "output_type": "stream",
     "text": [
      "\r",
      "  0%|          | 0/932 [00:00<?, ?it/s]"
     ]
    },
    {
     "name": "stdout",
     "output_type": "stream",
     "text": [
      "Epoch 26: 0% , Loss: 0.811866\n"
     ]
    },
    {
     "name": "stderr",
     "output_type": "stream",
     "text": [
      " 11%|█         | 102/932 [00:12<01:38,  8.39it/s]"
     ]
    },
    {
     "name": "stdout",
     "output_type": "stream",
     "text": [
      "Epoch 26: 11% , Loss: 0.422439\n"
     ]
    },
    {
     "name": "stderr",
     "output_type": "stream",
     "text": [
      " 22%|██▏       | 202/932 [00:24<01:29,  8.13it/s]"
     ]
    },
    {
     "name": "stdout",
     "output_type": "stream",
     "text": [
      "Epoch 26: 21% , Loss: 0.302707\n"
     ]
    },
    {
     "name": "stderr",
     "output_type": "stream",
     "text": [
      " 32%|███▏      | 302/932 [00:37<01:25,  7.37it/s]"
     ]
    },
    {
     "name": "stdout",
     "output_type": "stream",
     "text": [
      "Epoch 26: 32% , Loss: 0.953057\n"
     ]
    },
    {
     "name": "stderr",
     "output_type": "stream",
     "text": [
      " 43%|████▎     | 402/932 [00:50<01:13,  7.21it/s]"
     ]
    },
    {
     "name": "stdout",
     "output_type": "stream",
     "text": [
      "Epoch 26: 43% , Loss: 0.254722\n"
     ]
    },
    {
     "name": "stderr",
     "output_type": "stream",
     "text": [
      " 54%|█████▍    | 502/932 [01:04<00:58,  7.35it/s]"
     ]
    },
    {
     "name": "stdout",
     "output_type": "stream",
     "text": [
      "Epoch 26: 54% , Loss: 1.772416\n"
     ]
    },
    {
     "name": "stderr",
     "output_type": "stream",
     "text": [
      " 65%|██████▍   | 602/932 [01:19<00:46,  7.09it/s]"
     ]
    },
    {
     "name": "stdout",
     "output_type": "stream",
     "text": [
      "Epoch 26: 64% , Loss: 0.338892\n"
     ]
    },
    {
     "name": "stderr",
     "output_type": "stream",
     "text": [
      " 75%|███████▌  | 702/932 [01:34<00:34,  6.59it/s]"
     ]
    },
    {
     "name": "stdout",
     "output_type": "stream",
     "text": [
      "Epoch 26: 75% , Loss: 0.494295\n"
     ]
    },
    {
     "name": "stderr",
     "output_type": "stream",
     "text": [
      " 86%|████████▌ | 801/932 [01:50<00:22,  5.74it/s]"
     ]
    },
    {
     "name": "stdout",
     "output_type": "stream",
     "text": [
      "Epoch 26: 86% , Loss: 0.194535\n"
     ]
    },
    {
     "name": "stderr",
     "output_type": "stream",
     "text": [
      " 97%|█████████▋| 901/932 [02:07<00:05,  5.90it/s]"
     ]
    },
    {
     "name": "stdout",
     "output_type": "stream",
     "text": [
      "Epoch 26: 97% , Loss: 0.178034\n"
     ]
    },
    {
     "name": "stderr",
     "output_type": "stream",
     "text": [
      "100%|██████████| 932/932 [02:12<00:00,  7.01it/s]\n"
     ]
    },
    {
     "name": "stdout",
     "output_type": "stream",
     "text": [
      "Epoch 26: 100% , Loss: 0.183363\n",
      "                      (F1-score: 0.0438)\n",
      "\n",
      "                      (NDCG: 0.0711)\n",
      "\n",
      "train_loss= tensor(0.4911)\n",
      "--------------------\n"
     ]
    },
    {
     "name": "stderr",
     "output_type": "stream",
     "text": [
      "100%|██████████| 133/133 [00:10<00:00, 13.08it/s]\n"
     ]
    },
    {
     "name": "stdout",
     "output_type": "stream",
     "text": [
      "                      (F1-score: 0.0406)\n",
      "\n",
      "                      (NDCG: 0.0655)\n",
      "\n",
      "val_loss= tensor(0.4411)\n",
      "--------------------\n"
     ]
    },
    {
     "name": "stderr",
     "output_type": "stream",
     "text": [
      "100%|██████████| 266/266 [00:22<00:00, 12.05it/s]\n"
     ]
    },
    {
     "name": "stdout",
     "output_type": "stream",
     "text": [
      "                      (F1-score: 0.0419)\n",
      "\n",
      "                      (NDCG: 0.0671)\n",
      "\n",
      "--------------------\n",
      "[[1, {'F1-score': 1.3426423200859293e-05}, {'NDCG': 7.968989754081668e-05}, 0.7953537106513977], [2, {'F1-score': 1.3426423200859293e-05}, {'NDCG': 7.968989754081668e-05}, 0.6858023405075073], [3, {'F1-score': 0.019103043976875064}, {'NDCG': 0.026571972600247403}, 0.5548844933509827], [4, {'F1-score': 0.02096858546187785}, {'NDCG': 0.04502920015834104}, 0.5526114106178284], [5, {'F1-score': 0.0354590595521211}, {'NDCG': 0.06195987741413869}, 0.5065855979919434], [6, {'F1-score': 0.04001724550510854}, {'NDCG': 0.0661786503886762}, 0.46960675716400146], [7, {'F1-score': 0.03779091447649205}, {'NDCG': 0.06406164879707578}, 0.4804374873638153], [8, {'F1-score': 0.040584136147165446}, {'NDCG': 0.06627678838943628}, 0.4667186737060547], [9, {'F1-score': 0.04058952926822324}, {'NDCG': 0.06623147309694748}, 0.45862865447998047], [10, {'F1-score': 0.040584136147165516}, {'NDCG': 0.0670063053152727}, 0.4817570149898529], [11, {'F1-score': 0.04158147724217505}, {'NDCG': 0.06707023027093899}, 0.4459657669067383], [12, {'F1-score': 0.03954475830888581}, {'NDCG': 0.06514711363619208}, 0.45868179202079773], [13, {'F1-score': 0.04154666799683949}, {'NDCG': 0.06700901980196736}, 0.45887869596481323], [14, {'F1-score': 0.04158147724217507}, {'NDCG': 0.06721850460801358}, 0.45013514161109924], [15, {'F1-score': 0.04138536532509799}, {'NDCG': 0.06757978630021103}, 0.46377432346343994], [16, {'F1-score': 0.041054382350920716}, {'NDCG': 0.0666698455614479}, 0.44927778840065], [17, {'F1-score': 0.04146422109894341}, {'NDCG': 0.06700026461350403}, 0.45049527287483215], [18, {'F1-score': 0.04105438235092071}, {'NDCG': 0.06661812614831597}, 0.4510195255279541], [19, {'F1-score': 0.041829547777608105}, {'NDCG': 0.06712048681438866}, 0.4386899173259735], [20, {'F1-score': 0.04093191317352164}, {'NDCG': 0.06627271250520546}, 0.4324909448623657], [21, {'F1-score': 0.041712527285200626}, {'NDCG': 0.06686701733422906}, 0.43909600377082825], [22, {'F1-score': 0.041596470096774966}, {'NDCG': 0.06663158744629613}, 0.44651371240615845], [23, {'F1-score': 0.04188483304961162}, {'NDCG': 0.06726529695359725}, 0.44020524621009827], [24, {'F1-score': 0.041875722441415825}, {'NDCG': 0.06715259264762465}, 0.4337669909000397], [25, {'F1-score': 0.041759519766403595}, {'NDCG': 0.0670157974950017}, 0.4470067322254181], [26, {'F1-score': 0.04188483304961165}, {'NDCG': 0.06707479472139052}, 0.44110390543937683]]\n",
      "-----------------------------------------------------------------------------------------\n"
     ]
    },
    {
     "name": "stderr",
     "output_type": "stream",
     "text": [
      "\r",
      "  0%|          | 0/932 [00:00<?, ?it/s]"
     ]
    },
    {
     "name": "stdout",
     "output_type": "stream",
     "text": [
      "Epoch 27: 0% , Loss: 0.301920\n"
     ]
    },
    {
     "name": "stderr",
     "output_type": "stream",
     "text": [
      " 11%|█         | 102/932 [00:11<02:12,  6.26it/s]"
     ]
    },
    {
     "name": "stdout",
     "output_type": "stream",
     "text": [
      "Epoch 27: 11% , Loss: 0.159318\n"
     ]
    },
    {
     "name": "stderr",
     "output_type": "stream",
     "text": [
      " 22%|██▏       | 202/932 [00:23<01:36,  7.58it/s]"
     ]
    },
    {
     "name": "stdout",
     "output_type": "stream",
     "text": [
      "Epoch 27: 21% , Loss: 1.060135\n"
     ]
    },
    {
     "name": "stderr",
     "output_type": "stream",
     "text": [
      " 32%|███▏      | 302/932 [00:36<01:15,  8.35it/s]"
     ]
    },
    {
     "name": "stdout",
     "output_type": "stream",
     "text": [
      "Epoch 27: 32% , Loss: 0.246501\n"
     ]
    },
    {
     "name": "stderr",
     "output_type": "stream",
     "text": [
      " 43%|████▎     | 402/932 [00:49<01:12,  7.32it/s]"
     ]
    },
    {
     "name": "stdout",
     "output_type": "stream",
     "text": [
      "Epoch 27: 43% , Loss: 0.248463\n"
     ]
    },
    {
     "name": "stderr",
     "output_type": "stream",
     "text": [
      " 54%|█████▍    | 502/932 [01:03<01:00,  7.06it/s]"
     ]
    },
    {
     "name": "stdout",
     "output_type": "stream",
     "text": [
      "Epoch 27: 54% , Loss: 0.174038\n"
     ]
    },
    {
     "name": "stderr",
     "output_type": "stream",
     "text": [
      " 65%|██████▍   | 602/932 [01:18<00:54,  6.04it/s]"
     ]
    },
    {
     "name": "stdout",
     "output_type": "stream",
     "text": [
      "Epoch 27: 64% , Loss: 0.949929\n"
     ]
    },
    {
     "name": "stderr",
     "output_type": "stream",
     "text": [
      " 75%|███████▌  | 701/932 [01:34<00:36,  6.33it/s]"
     ]
    },
    {
     "name": "stdout",
     "output_type": "stream",
     "text": [
      "Epoch 27: 75% , Loss: 0.121407\n"
     ]
    },
    {
     "name": "stderr",
     "output_type": "stream",
     "text": [
      " 86%|████████▌ | 801/932 [01:50<00:21,  6.22it/s]"
     ]
    },
    {
     "name": "stdout",
     "output_type": "stream",
     "text": [
      "Epoch 27: 86% , Loss: 0.222796\n"
     ]
    },
    {
     "name": "stderr",
     "output_type": "stream",
     "text": [
      " 97%|█████████▋| 901/932 [02:06<00:05,  6.14it/s]"
     ]
    },
    {
     "name": "stdout",
     "output_type": "stream",
     "text": [
      "Epoch 27: 97% , Loss: 0.253395\n"
     ]
    },
    {
     "name": "stderr",
     "output_type": "stream",
     "text": [
      "100%|██████████| 932/932 [02:12<00:00,  7.04it/s]"
     ]
    },
    {
     "name": "stdout",
     "output_type": "stream",
     "text": [
      "Epoch 27: 100% , Loss: 0.550419\n"
     ]
    },
    {
     "name": "stderr",
     "output_type": "stream",
     "text": [
      "\n"
     ]
    },
    {
     "name": "stdout",
     "output_type": "stream",
     "text": [
      "                      (F1-score: 0.0439)\n",
      "\n",
      "                      (NDCG: 0.0712)\n",
      "\n",
      "train_loss= tensor(0.4906)\n",
      "--------------------\n"
     ]
    },
    {
     "name": "stderr",
     "output_type": "stream",
     "text": [
      "100%|██████████| 133/133 [00:10<00:00, 12.96it/s]\n"
     ]
    },
    {
     "name": "stdout",
     "output_type": "stream",
     "text": [
      "                      (F1-score: 0.0408)\n",
      "\n",
      "                      (NDCG: 0.0661)\n",
      "\n",
      "val_loss= tensor(0.4449)\n",
      "--------------------\n"
     ]
    },
    {
     "name": "stderr",
     "output_type": "stream",
     "text": [
      "100%|██████████| 266/266 [00:21<00:00, 12.12it/s]\n"
     ]
    },
    {
     "name": "stdout",
     "output_type": "stream",
     "text": [
      "                      (F1-score: 0.0419)\n",
      "\n",
      "                      (NDCG: 0.0673)\n",
      "\n",
      "--------------------\n",
      "[[1, {'F1-score': 1.3426423200859293e-05}, {'NDCG': 7.968989754081668e-05}, 0.7953537106513977], [2, {'F1-score': 1.3426423200859293e-05}, {'NDCG': 7.968989754081668e-05}, 0.6858023405075073], [3, {'F1-score': 0.019103043976875064}, {'NDCG': 0.026571972600247403}, 0.5548844933509827], [4, {'F1-score': 0.02096858546187785}, {'NDCG': 0.04502920015834104}, 0.5526114106178284], [5, {'F1-score': 0.0354590595521211}, {'NDCG': 0.06195987741413869}, 0.5065855979919434], [6, {'F1-score': 0.04001724550510854}, {'NDCG': 0.0661786503886762}, 0.46960675716400146], [7, {'F1-score': 0.03779091447649205}, {'NDCG': 0.06406164879707578}, 0.4804374873638153], [8, {'F1-score': 0.040584136147165446}, {'NDCG': 0.06627678838943628}, 0.4667186737060547], [9, {'F1-score': 0.04058952926822324}, {'NDCG': 0.06623147309694748}, 0.45862865447998047], [10, {'F1-score': 0.040584136147165516}, {'NDCG': 0.0670063053152727}, 0.4817570149898529], [11, {'F1-score': 0.04158147724217505}, {'NDCG': 0.06707023027093899}, 0.4459657669067383], [12, {'F1-score': 0.03954475830888581}, {'NDCG': 0.06514711363619208}, 0.45868179202079773], [13, {'F1-score': 0.04154666799683949}, {'NDCG': 0.06700901980196736}, 0.45887869596481323], [14, {'F1-score': 0.04158147724217507}, {'NDCG': 0.06721850460801358}, 0.45013514161109924], [15, {'F1-score': 0.04138536532509799}, {'NDCG': 0.06757978630021103}, 0.46377432346343994], [16, {'F1-score': 0.041054382350920716}, {'NDCG': 0.0666698455614479}, 0.44927778840065], [17, {'F1-score': 0.04146422109894341}, {'NDCG': 0.06700026461350403}, 0.45049527287483215], [18, {'F1-score': 0.04105438235092071}, {'NDCG': 0.06661812614831597}, 0.4510195255279541], [19, {'F1-score': 0.041829547777608105}, {'NDCG': 0.06712048681438866}, 0.4386899173259735], [20, {'F1-score': 0.04093191317352164}, {'NDCG': 0.06627271250520546}, 0.4324909448623657], [21, {'F1-score': 0.041712527285200626}, {'NDCG': 0.06686701733422906}, 0.43909600377082825], [22, {'F1-score': 0.041596470096774966}, {'NDCG': 0.06663158744629613}, 0.44651371240615845], [23, {'F1-score': 0.04188483304961162}, {'NDCG': 0.06726529695359725}, 0.44020524621009827], [24, {'F1-score': 0.041875722441415825}, {'NDCG': 0.06715259264762465}, 0.4337669909000397], [25, {'F1-score': 0.041759519766403595}, {'NDCG': 0.0670157974950017}, 0.4470067322254181], [26, {'F1-score': 0.04188483304961165}, {'NDCG': 0.06707479472139052}, 0.44110390543937683], [27, {'F1-score': 0.04188483304961166}, {'NDCG': 0.06733244635108718}, 0.44488102197647095]]\n",
      "-----------------------------------------------------------------------------------------\n"
     ]
    },
    {
     "name": "stderr",
     "output_type": "stream",
     "text": [
      "\r",
      "  0%|          | 0/932 [00:00<?, ?it/s]"
     ]
    },
    {
     "name": "stdout",
     "output_type": "stream",
     "text": [
      "Epoch 28: 0% , Loss: 0.177891\n"
     ]
    },
    {
     "name": "stderr",
     "output_type": "stream",
     "text": [
      " 11%|█         | 102/932 [00:11<01:39,  8.30it/s]"
     ]
    },
    {
     "name": "stdout",
     "output_type": "stream",
     "text": [
      "Epoch 28: 11% , Loss: 1.066495\n"
     ]
    },
    {
     "name": "stderr",
     "output_type": "stream",
     "text": [
      " 22%|██▏       | 202/932 [00:23<01:39,  7.30it/s]"
     ]
    },
    {
     "name": "stdout",
     "output_type": "stream",
     "text": [
      "Epoch 28: 21% , Loss: 1.062731\n"
     ]
    },
    {
     "name": "stderr",
     "output_type": "stream",
     "text": [
      " 32%|███▏      | 302/932 [00:36<01:21,  7.76it/s]"
     ]
    },
    {
     "name": "stdout",
     "output_type": "stream",
     "text": [
      "Epoch 28: 32% , Loss: 0.461548\n"
     ]
    },
    {
     "name": "stderr",
     "output_type": "stream",
     "text": [
      " 43%|████▎     | 402/932 [00:50<01:15,  7.01it/s]"
     ]
    },
    {
     "name": "stdout",
     "output_type": "stream",
     "text": [
      "Epoch 28: 43% , Loss: 1.285523\n"
     ]
    },
    {
     "name": "stderr",
     "output_type": "stream",
     "text": [
      " 54%|█████▍    | 502/932 [01:04<00:59,  7.19it/s]"
     ]
    },
    {
     "name": "stdout",
     "output_type": "stream",
     "text": [
      "Epoch 28: 54% , Loss: 0.317575\n"
     ]
    },
    {
     "name": "stderr",
     "output_type": "stream",
     "text": [
      " 65%|██████▍   | 602/932 [01:19<00:49,  6.63it/s]"
     ]
    },
    {
     "name": "stdout",
     "output_type": "stream",
     "text": [
      "Epoch 28: 64% , Loss: 0.102832\n"
     ]
    },
    {
     "name": "stderr",
     "output_type": "stream",
     "text": [
      " 75%|███████▌  | 702/932 [01:34<00:34,  6.59it/s]"
     ]
    },
    {
     "name": "stdout",
     "output_type": "stream",
     "text": [
      "Epoch 28: 75% , Loss: 0.061939\n"
     ]
    },
    {
     "name": "stderr",
     "output_type": "stream",
     "text": [
      " 86%|████████▌ | 801/932 [01:50<00:22,  5.94it/s]"
     ]
    },
    {
     "name": "stdout",
     "output_type": "stream",
     "text": [
      "Epoch 28: 86% , Loss: 0.166344\n"
     ]
    },
    {
     "name": "stderr",
     "output_type": "stream",
     "text": [
      " 97%|█████████▋| 901/932 [02:06<00:05,  6.11it/s]"
     ]
    },
    {
     "name": "stdout",
     "output_type": "stream",
     "text": [
      "Epoch 28: 97% , Loss: 0.168153\n"
     ]
    },
    {
     "name": "stderr",
     "output_type": "stream",
     "text": [
      "100%|██████████| 932/932 [02:12<00:00,  7.05it/s]\n"
     ]
    },
    {
     "name": "stdout",
     "output_type": "stream",
     "text": [
      "Epoch 28: 100% , Loss: 0.984677\n",
      "                      (F1-score: 0.0439)\n",
      "\n",
      "                      (NDCG: 0.0713)\n",
      "\n",
      "train_loss= tensor(0.4896)\n",
      "--------------------\n"
     ]
    },
    {
     "name": "stderr",
     "output_type": "stream",
     "text": [
      "100%|██████████| 133/133 [00:10<00:00, 12.29it/s]\n"
     ]
    },
    {
     "name": "stdout",
     "output_type": "stream",
     "text": [
      "                      (F1-score: 0.0408)\n",
      "\n",
      "                      (NDCG: 0.0659)\n",
      "\n",
      "val_loss= tensor(0.4382)\n",
      "--------------------\n"
     ]
    },
    {
     "name": "stderr",
     "output_type": "stream",
     "text": [
      "100%|██████████| 266/266 [00:22<00:00, 12.05it/s]\n"
     ]
    },
    {
     "name": "stdout",
     "output_type": "stream",
     "text": [
      "                      (F1-score: 0.0415)\n",
      "\n",
      "                      (NDCG: 0.0666)\n",
      "\n",
      "--------------------\n",
      "[[1, {'F1-score': 1.3426423200859293e-05}, {'NDCG': 7.968989754081668e-05}, 0.7953537106513977], [2, {'F1-score': 1.3426423200859293e-05}, {'NDCG': 7.968989754081668e-05}, 0.6858023405075073], [3, {'F1-score': 0.019103043976875064}, {'NDCG': 0.026571972600247403}, 0.5548844933509827], [4, {'F1-score': 0.02096858546187785}, {'NDCG': 0.04502920015834104}, 0.5526114106178284], [5, {'F1-score': 0.0354590595521211}, {'NDCG': 0.06195987741413869}, 0.5065855979919434], [6, {'F1-score': 0.04001724550510854}, {'NDCG': 0.0661786503886762}, 0.46960675716400146], [7, {'F1-score': 0.03779091447649205}, {'NDCG': 0.06406164879707578}, 0.4804374873638153], [8, {'F1-score': 0.040584136147165446}, {'NDCG': 0.06627678838943628}, 0.4667186737060547], [9, {'F1-score': 0.04058952926822324}, {'NDCG': 0.06623147309694748}, 0.45862865447998047], [10, {'F1-score': 0.040584136147165516}, {'NDCG': 0.0670063053152727}, 0.4817570149898529], [11, {'F1-score': 0.04158147724217505}, {'NDCG': 0.06707023027093899}, 0.4459657669067383], [12, {'F1-score': 0.03954475830888581}, {'NDCG': 0.06514711363619208}, 0.45868179202079773], [13, {'F1-score': 0.04154666799683949}, {'NDCG': 0.06700901980196736}, 0.45887869596481323], [14, {'F1-score': 0.04158147724217507}, {'NDCG': 0.06721850460801358}, 0.45013514161109924], [15, {'F1-score': 0.04138536532509799}, {'NDCG': 0.06757978630021103}, 0.46377432346343994], [16, {'F1-score': 0.041054382350920716}, {'NDCG': 0.0666698455614479}, 0.44927778840065], [17, {'F1-score': 0.04146422109894341}, {'NDCG': 0.06700026461350403}, 0.45049527287483215], [18, {'F1-score': 0.04105438235092071}, {'NDCG': 0.06661812614831597}, 0.4510195255279541], [19, {'F1-score': 0.041829547777608105}, {'NDCG': 0.06712048681438866}, 0.4386899173259735], [20, {'F1-score': 0.04093191317352164}, {'NDCG': 0.06627271250520546}, 0.4324909448623657], [21, {'F1-score': 0.041712527285200626}, {'NDCG': 0.06686701733422906}, 0.43909600377082825], [22, {'F1-score': 0.041596470096774966}, {'NDCG': 0.06663158744629613}, 0.44651371240615845], [23, {'F1-score': 0.04188483304961162}, {'NDCG': 0.06726529695359725}, 0.44020524621009827], [24, {'F1-score': 0.041875722441415825}, {'NDCG': 0.06715259264762465}, 0.4337669909000397], [25, {'F1-score': 0.041759519766403595}, {'NDCG': 0.0670157974950017}, 0.4470067322254181], [26, {'F1-score': 0.04188483304961165}, {'NDCG': 0.06707479472139052}, 0.44110390543937683], [27, {'F1-score': 0.04188483304961166}, {'NDCG': 0.06733244635108718}, 0.44488102197647095], [28, {'F1-score': 0.041456503823184214}, {'NDCG': 0.06660339801005066}, 0.43816784024238586]]\n",
      "-----------------------------------------------------------------------------------------\n"
     ]
    },
    {
     "name": "stderr",
     "output_type": "stream",
     "text": [
      "\r",
      "  0%|          | 0/932 [00:00<?, ?it/s]"
     ]
    },
    {
     "name": "stdout",
     "output_type": "stream",
     "text": [
      "Epoch 29: 0% , Loss: 0.122365\n"
     ]
    },
    {
     "name": "stderr",
     "output_type": "stream",
     "text": [
      " 11%|█         | 102/932 [00:12<01:35,  8.67it/s]"
     ]
    },
    {
     "name": "stdout",
     "output_type": "stream",
     "text": [
      "Epoch 29: 11% , Loss: 0.438199\n"
     ]
    },
    {
     "name": "stderr",
     "output_type": "stream",
     "text": [
      " 22%|██▏       | 202/932 [00:24<01:29,  8.12it/s]"
     ]
    },
    {
     "name": "stdout",
     "output_type": "stream",
     "text": [
      "Epoch 29: 21% , Loss: 0.265919\n"
     ]
    },
    {
     "name": "stderr",
     "output_type": "stream",
     "text": [
      " 32%|███▏      | 302/932 [00:37<01:32,  6.83it/s]"
     ]
    },
    {
     "name": "stdout",
     "output_type": "stream",
     "text": [
      "Epoch 29: 32% , Loss: 2.251211\n"
     ]
    },
    {
     "name": "stderr",
     "output_type": "stream",
     "text": [
      " 43%|████▎     | 402/932 [00:50<01:09,  7.65it/s]"
     ]
    },
    {
     "name": "stdout",
     "output_type": "stream",
     "text": [
      "Epoch 29: 43% , Loss: 0.601016\n"
     ]
    },
    {
     "name": "stderr",
     "output_type": "stream",
     "text": [
      " 54%|█████▍    | 502/932 [01:04<01:00,  7.09it/s]"
     ]
    },
    {
     "name": "stdout",
     "output_type": "stream",
     "text": [
      "Epoch 29: 54% , Loss: 0.767774\n"
     ]
    },
    {
     "name": "stderr",
     "output_type": "stream",
     "text": [
      " 65%|██████▍   | 602/932 [01:19<00:46,  7.06it/s]"
     ]
    },
    {
     "name": "stdout",
     "output_type": "stream",
     "text": [
      "Epoch 29: 64% , Loss: 0.273040\n"
     ]
    },
    {
     "name": "stderr",
     "output_type": "stream",
     "text": [
      " 75%|███████▌  | 702/932 [01:34<00:35,  6.40it/s]"
     ]
    },
    {
     "name": "stdout",
     "output_type": "stream",
     "text": [
      "Epoch 29: 75% , Loss: 0.137259\n"
     ]
    },
    {
     "name": "stderr",
     "output_type": "stream",
     "text": [
      " 86%|████████▌ | 801/932 [01:50<00:20,  6.45it/s]"
     ]
    },
    {
     "name": "stdout",
     "output_type": "stream",
     "text": [
      "Epoch 29: 86% , Loss: 0.477710\n"
     ]
    },
    {
     "name": "stderr",
     "output_type": "stream",
     "text": [
      " 97%|█████████▋| 901/932 [02:07<00:05,  6.02it/s]"
     ]
    },
    {
     "name": "stdout",
     "output_type": "stream",
     "text": [
      "Epoch 29: 97% , Loss: 0.227204\n"
     ]
    },
    {
     "name": "stderr",
     "output_type": "stream",
     "text": [
      "100%|██████████| 932/932 [02:12<00:00,  7.03it/s]\n"
     ]
    },
    {
     "name": "stdout",
     "output_type": "stream",
     "text": [
      "Epoch 29: 100% , Loss: 0.284377\n",
      "                      (F1-score: 0.0436)\n",
      "\n",
      "                      (NDCG: 0.0709)\n",
      "\n",
      "train_loss= tensor(0.4897)\n",
      "--------------------\n"
     ]
    },
    {
     "name": "stderr",
     "output_type": "stream",
     "text": [
      "100%|██████████| 133/133 [00:10<00:00, 12.72it/s]\n"
     ]
    },
    {
     "name": "stdout",
     "output_type": "stream",
     "text": [
      "                      (F1-score: 0.0407)\n",
      "\n",
      "                      (NDCG: 0.0658)\n",
      "\n",
      "val_loss= tensor(0.4451)\n",
      "--------------------\n"
     ]
    },
    {
     "name": "stderr",
     "output_type": "stream",
     "text": [
      "100%|██████████| 266/266 [00:21<00:00, 12.11it/s]\n"
     ]
    },
    {
     "name": "stdout",
     "output_type": "stream",
     "text": [
      "                      (F1-score: 0.0418)\n",
      "\n",
      "                      (NDCG: 0.0671)\n",
      "\n",
      "--------------------\n",
      "[[1, {'F1-score': 1.3426423200859293e-05}, {'NDCG': 7.968989754081668e-05}, 0.7953537106513977], [2, {'F1-score': 1.3426423200859293e-05}, {'NDCG': 7.968989754081668e-05}, 0.6858023405075073], [3, {'F1-score': 0.019103043976875064}, {'NDCG': 0.026571972600247403}, 0.5548844933509827], [4, {'F1-score': 0.02096858546187785}, {'NDCG': 0.04502920015834104}, 0.5526114106178284], [5, {'F1-score': 0.0354590595521211}, {'NDCG': 0.06195987741413869}, 0.5065855979919434], [6, {'F1-score': 0.04001724550510854}, {'NDCG': 0.0661786503886762}, 0.46960675716400146], [7, {'F1-score': 0.03779091447649205}, {'NDCG': 0.06406164879707578}, 0.4804374873638153], [8, {'F1-score': 0.040584136147165446}, {'NDCG': 0.06627678838943628}, 0.4667186737060547], [9, {'F1-score': 0.04058952926822324}, {'NDCG': 0.06623147309694748}, 0.45862865447998047], [10, {'F1-score': 0.040584136147165516}, {'NDCG': 0.0670063053152727}, 0.4817570149898529], [11, {'F1-score': 0.04158147724217505}, {'NDCG': 0.06707023027093899}, 0.4459657669067383], [12, {'F1-score': 0.03954475830888581}, {'NDCG': 0.06514711363619208}, 0.45868179202079773], [13, {'F1-score': 0.04154666799683949}, {'NDCG': 0.06700901980196736}, 0.45887869596481323], [14, {'F1-score': 0.04158147724217507}, {'NDCG': 0.06721850460801358}, 0.45013514161109924], [15, {'F1-score': 0.04138536532509799}, {'NDCG': 0.06757978630021103}, 0.46377432346343994], [16, {'F1-score': 0.041054382350920716}, {'NDCG': 0.0666698455614479}, 0.44927778840065], [17, {'F1-score': 0.04146422109894341}, {'NDCG': 0.06700026461350403}, 0.45049527287483215], [18, {'F1-score': 0.04105438235092071}, {'NDCG': 0.06661812614831597}, 0.4510195255279541], [19, {'F1-score': 0.041829547777608105}, {'NDCG': 0.06712048681438866}, 0.4386899173259735], [20, {'F1-score': 0.04093191317352164}, {'NDCG': 0.06627271250520546}, 0.4324909448623657], [21, {'F1-score': 0.041712527285200626}, {'NDCG': 0.06686701733422906}, 0.43909600377082825], [22, {'F1-score': 0.041596470096774966}, {'NDCG': 0.06663158744629613}, 0.44651371240615845], [23, {'F1-score': 0.04188483304961162}, {'NDCG': 0.06726529695359725}, 0.44020524621009827], [24, {'F1-score': 0.041875722441415825}, {'NDCG': 0.06715259264762465}, 0.4337669909000397], [25, {'F1-score': 0.041759519766403595}, {'NDCG': 0.0670157974950017}, 0.4470067322254181], [26, {'F1-score': 0.04188483304961165}, {'NDCG': 0.06707479472139052}, 0.44110390543937683], [27, {'F1-score': 0.04188483304961166}, {'NDCG': 0.06733244635108718}, 0.44488102197647095], [28, {'F1-score': 0.041456503823184214}, {'NDCG': 0.06660339801005066}, 0.43816784024238586], [29, {'F1-score': 0.04179939217469705}, {'NDCG': 0.06706785570648044}, 0.4451412856578827]]\n",
      "-----------------------------------------------------------------------------------------\n"
     ]
    },
    {
     "name": "stderr",
     "output_type": "stream",
     "text": [
      "\r",
      "  0%|          | 0/932 [00:00<?, ?it/s]"
     ]
    },
    {
     "name": "stdout",
     "output_type": "stream",
     "text": [
      "Epoch 30: 0% , Loss: 0.262018\n"
     ]
    },
    {
     "name": "stderr",
     "output_type": "stream",
     "text": [
      " 11%|█         | 102/932 [00:12<01:32,  8.93it/s]"
     ]
    },
    {
     "name": "stdout",
     "output_type": "stream",
     "text": [
      "Epoch 30: 11% , Loss: 1.307907\n"
     ]
    },
    {
     "name": "stderr",
     "output_type": "stream",
     "text": [
      " 22%|██▏       | 201/932 [00:24<01:28,  8.28it/s]"
     ]
    },
    {
     "name": "stdout",
     "output_type": "stream",
     "text": [
      "Epoch 30: 21% , Loss: 0.201795\n"
     ]
    },
    {
     "name": "stderr",
     "output_type": "stream",
     "text": [
      " 32%|███▏      | 302/932 [00:36<01:26,  7.25it/s]"
     ]
    },
    {
     "name": "stdout",
     "output_type": "stream",
     "text": [
      "Epoch 30: 32% , Loss: 0.478794\n"
     ]
    },
    {
     "name": "stderr",
     "output_type": "stream",
     "text": [
      " 43%|████▎     | 402/932 [00:50<01:20,  6.59it/s]"
     ]
    },
    {
     "name": "stdout",
     "output_type": "stream",
     "text": [
      "Epoch 30: 43% , Loss: 1.064957\n"
     ]
    },
    {
     "name": "stderr",
     "output_type": "stream",
     "text": [
      " 54%|█████▍    | 501/932 [01:03<01:01,  7.04it/s]"
     ]
    },
    {
     "name": "stdout",
     "output_type": "stream",
     "text": [
      "Epoch 30: 54% , Loss: 0.275422\n"
     ]
    },
    {
     "name": "stderr",
     "output_type": "stream",
     "text": [
      " 65%|██████▍   | 602/932 [01:18<00:58,  5.66it/s]"
     ]
    },
    {
     "name": "stdout",
     "output_type": "stream",
     "text": [
      "Epoch 30: 64% , Loss: 0.151402\n"
     ]
    },
    {
     "name": "stderr",
     "output_type": "stream",
     "text": [
      " 75%|███████▌  | 702/932 [01:34<00:35,  6.44it/s]"
     ]
    },
    {
     "name": "stdout",
     "output_type": "stream",
     "text": [
      "Epoch 30: 75% , Loss: 0.143197\n"
     ]
    },
    {
     "name": "stderr",
     "output_type": "stream",
     "text": [
      " 86%|████████▌ | 801/932 [01:50<00:22,  5.89it/s]"
     ]
    },
    {
     "name": "stdout",
     "output_type": "stream",
     "text": [
      "Epoch 30: 86% , Loss: 0.078969\n"
     ]
    },
    {
     "name": "stderr",
     "output_type": "stream",
     "text": [
      " 97%|█████████▋| 901/932 [02:07<00:05,  5.50it/s]"
     ]
    },
    {
     "name": "stdout",
     "output_type": "stream",
     "text": [
      "Epoch 30: 97% , Loss: 0.222692\n"
     ]
    },
    {
     "name": "stderr",
     "output_type": "stream",
     "text": [
      "100%|██████████| 932/932 [02:12<00:00,  7.02it/s]\n"
     ]
    },
    {
     "name": "stdout",
     "output_type": "stream",
     "text": [
      "Epoch 30: 100% , Loss: 1.085689\n",
      "                      (F1-score: 0.0439)\n",
      "\n",
      "                      (NDCG: 0.0711)\n",
      "\n",
      "train_loss= tensor(0.4898)\n",
      "--------------------\n"
     ]
    },
    {
     "name": "stderr",
     "output_type": "stream",
     "text": [
      "100%|██████████| 133/133 [00:10<00:00, 12.75it/s]\n"
     ]
    },
    {
     "name": "stdout",
     "output_type": "stream",
     "text": [
      "                      (F1-score: 0.0392)\n",
      "\n",
      "                      (NDCG: 0.0647)\n",
      "\n",
      "val_loss= tensor(0.4449)\n",
      "--------------------\n"
     ]
    },
    {
     "name": "stderr",
     "output_type": "stream",
     "text": [
      "100%|██████████| 266/266 [00:21<00:00, 12.10it/s]\n"
     ]
    },
    {
     "name": "stdout",
     "output_type": "stream",
     "text": [
      "                      (F1-score: 0.0407)\n",
      "\n",
      "                      (NDCG: 0.0663)\n",
      "\n",
      "--------------------\n",
      "[[1, {'F1-score': 1.3426423200859293e-05}, {'NDCG': 7.968989754081668e-05}, 0.7953537106513977], [2, {'F1-score': 1.3426423200859293e-05}, {'NDCG': 7.968989754081668e-05}, 0.6858023405075073], [3, {'F1-score': 0.019103043976875064}, {'NDCG': 0.026571972600247403}, 0.5548844933509827], [4, {'F1-score': 0.02096858546187785}, {'NDCG': 0.04502920015834104}, 0.5526114106178284], [5, {'F1-score': 0.0354590595521211}, {'NDCG': 0.06195987741413869}, 0.5065855979919434], [6, {'F1-score': 0.04001724550510854}, {'NDCG': 0.0661786503886762}, 0.46960675716400146], [7, {'F1-score': 0.03779091447649205}, {'NDCG': 0.06406164879707578}, 0.4804374873638153], [8, {'F1-score': 0.040584136147165446}, {'NDCG': 0.06627678838943628}, 0.4667186737060547], [9, {'F1-score': 0.04058952926822324}, {'NDCG': 0.06623147309694748}, 0.45862865447998047], [10, {'F1-score': 0.040584136147165516}, {'NDCG': 0.0670063053152727}, 0.4817570149898529], [11, {'F1-score': 0.04158147724217505}, {'NDCG': 0.06707023027093899}, 0.4459657669067383], [12, {'F1-score': 0.03954475830888581}, {'NDCG': 0.06514711363619208}, 0.45868179202079773], [13, {'F1-score': 0.04154666799683949}, {'NDCG': 0.06700901980196736}, 0.45887869596481323], [14, {'F1-score': 0.04158147724217507}, {'NDCG': 0.06721850460801358}, 0.45013514161109924], [15, {'F1-score': 0.04138536532509799}, {'NDCG': 0.06757978630021103}, 0.46377432346343994], [16, {'F1-score': 0.041054382350920716}, {'NDCG': 0.0666698455614479}, 0.44927778840065], [17, {'F1-score': 0.04146422109894341}, {'NDCG': 0.06700026461350403}, 0.45049527287483215], [18, {'F1-score': 0.04105438235092071}, {'NDCG': 0.06661812614831597}, 0.4510195255279541], [19, {'F1-score': 0.041829547777608105}, {'NDCG': 0.06712048681438866}, 0.4386899173259735], [20, {'F1-score': 0.04093191317352164}, {'NDCG': 0.06627271250520546}, 0.4324909448623657], [21, {'F1-score': 0.041712527285200626}, {'NDCG': 0.06686701733422906}, 0.43909600377082825], [22, {'F1-score': 0.041596470096774966}, {'NDCG': 0.06663158744629613}, 0.44651371240615845], [23, {'F1-score': 0.04188483304961162}, {'NDCG': 0.06726529695359725}, 0.44020524621009827], [24, {'F1-score': 0.041875722441415825}, {'NDCG': 0.06715259264762465}, 0.4337669909000397], [25, {'F1-score': 0.041759519766403595}, {'NDCG': 0.0670157974950017}, 0.4470067322254181], [26, {'F1-score': 0.04188483304961165}, {'NDCG': 0.06707479472139052}, 0.44110390543937683], [27, {'F1-score': 0.04188483304961166}, {'NDCG': 0.06733244635108718}, 0.44488102197647095], [28, {'F1-score': 0.041456503823184214}, {'NDCG': 0.06660339801005066}, 0.43816784024238586], [29, {'F1-score': 0.04179939217469705}, {'NDCG': 0.06706785570648044}, 0.4451412856578827], [30, {'F1-score': 0.04074607712786823}, {'NDCG': 0.06634238444940936}, 0.44493621587753296]]\n",
      "-----------------------------------------------------------------------------------------\n"
     ]
    },
    {
     "name": "stderr",
     "output_type": "stream",
     "text": [
      "  0%|          | 1/932 [00:00<02:14,  6.90it/s]"
     ]
    },
    {
     "name": "stdout",
     "output_type": "stream",
     "text": [
      "Epoch 31: 0% , Loss: 0.196840\n"
     ]
    },
    {
     "name": "stderr",
     "output_type": "stream",
     "text": [
      " 11%|█         | 102/932 [00:11<01:36,  8.64it/s]"
     ]
    },
    {
     "name": "stdout",
     "output_type": "stream",
     "text": [
      "Epoch 31: 11% , Loss: 1.553366\n"
     ]
    },
    {
     "name": "stderr",
     "output_type": "stream",
     "text": [
      " 22%|██▏       | 202/932 [00:24<01:29,  8.14it/s]"
     ]
    },
    {
     "name": "stdout",
     "output_type": "stream",
     "text": [
      "Epoch 31: 21% , Loss: 0.280665\n"
     ]
    },
    {
     "name": "stderr",
     "output_type": "stream",
     "text": [
      " 32%|███▏      | 302/932 [00:36<01:37,  6.48it/s]"
     ]
    },
    {
     "name": "stdout",
     "output_type": "stream",
     "text": [
      "Epoch 31: 32% , Loss: 0.153535\n"
     ]
    },
    {
     "name": "stderr",
     "output_type": "stream",
     "text": [
      " 43%|████▎     | 402/932 [00:49<01:14,  7.13it/s]"
     ]
    },
    {
     "name": "stdout",
     "output_type": "stream",
     "text": [
      "Epoch 31: 43% , Loss: 0.419475\n"
     ]
    },
    {
     "name": "stderr",
     "output_type": "stream",
     "text": [
      " 54%|█████▍    | 502/932 [01:03<00:57,  7.45it/s]"
     ]
    },
    {
     "name": "stdout",
     "output_type": "stream",
     "text": [
      "Epoch 31: 54% , Loss: 0.154437\n"
     ]
    },
    {
     "name": "stderr",
     "output_type": "stream",
     "text": [
      " 65%|██████▍   | 602/932 [01:18<00:47,  7.00it/s]"
     ]
    },
    {
     "name": "stdout",
     "output_type": "stream",
     "text": [
      "Epoch 31: 64% , Loss: 0.328050\n"
     ]
    },
    {
     "name": "stderr",
     "output_type": "stream",
     "text": [
      " 75%|███████▌  | 702/932 [01:33<00:33,  6.80it/s]"
     ]
    },
    {
     "name": "stdout",
     "output_type": "stream",
     "text": [
      "Epoch 31: 75% , Loss: 0.216748\n"
     ]
    },
    {
     "name": "stderr",
     "output_type": "stream",
     "text": [
      " 86%|████████▌ | 801/932 [01:49<00:32,  4.08it/s]"
     ]
    },
    {
     "name": "stdout",
     "output_type": "stream",
     "text": [
      "Epoch 31: 86% , Loss: 0.171604\n"
     ]
    },
    {
     "name": "stderr",
     "output_type": "stream",
     "text": [
      " 97%|█████████▋| 901/932 [02:06<00:05,  6.07it/s]"
     ]
    },
    {
     "name": "stdout",
     "output_type": "stream",
     "text": [
      "Epoch 31: 97% , Loss: 0.297826\n"
     ]
    },
    {
     "name": "stderr",
     "output_type": "stream",
     "text": [
      "100%|██████████| 932/932 [02:11<00:00,  7.09it/s]\n"
     ]
    },
    {
     "name": "stdout",
     "output_type": "stream",
     "text": [
      "Epoch 31: 100% , Loss: 0.384638\n",
      "                      (F1-score: 0.0442)\n",
      "\n",
      "                      (NDCG: 0.0714)\n",
      "\n",
      "train_loss= tensor(0.4887)\n",
      "--------------------\n"
     ]
    },
    {
     "name": "stderr",
     "output_type": "stream",
     "text": [
      "100%|██████████| 133/133 [00:10<00:00, 13.09it/s]\n"
     ]
    },
    {
     "name": "stdout",
     "output_type": "stream",
     "text": [
      "                      (F1-score: 0.0407)\n",
      "\n",
      "                      (NDCG: 0.0659)\n",
      "\n",
      "val_loss= tensor(0.4487)\n",
      "--------------------\n"
     ]
    },
    {
     "name": "stderr",
     "output_type": "stream",
     "text": [
      "100%|██████████| 266/266 [00:21<00:00, 12.18it/s]\n"
     ]
    },
    {
     "name": "stdout",
     "output_type": "stream",
     "text": [
      "                      (F1-score: 0.0416)\n",
      "\n",
      "                      (NDCG: 0.0667)\n",
      "\n",
      "--------------------\n",
      "[[1, {'F1-score': 1.3426423200859293e-05}, {'NDCG': 7.968989754081668e-05}, 0.7953537106513977], [2, {'F1-score': 1.3426423200859293e-05}, {'NDCG': 7.968989754081668e-05}, 0.6858023405075073], [3, {'F1-score': 0.019103043976875064}, {'NDCG': 0.026571972600247403}, 0.5548844933509827], [4, {'F1-score': 0.02096858546187785}, {'NDCG': 0.04502920015834104}, 0.5526114106178284], [5, {'F1-score': 0.0354590595521211}, {'NDCG': 0.06195987741413869}, 0.5065855979919434], [6, {'F1-score': 0.04001724550510854}, {'NDCG': 0.0661786503886762}, 0.46960675716400146], [7, {'F1-score': 0.03779091447649205}, {'NDCG': 0.06406164879707578}, 0.4804374873638153], [8, {'F1-score': 0.040584136147165446}, {'NDCG': 0.06627678838943628}, 0.4667186737060547], [9, {'F1-score': 0.04058952926822324}, {'NDCG': 0.06623147309694748}, 0.45862865447998047], [10, {'F1-score': 0.040584136147165516}, {'NDCG': 0.0670063053152727}, 0.4817570149898529], [11, {'F1-score': 0.04158147724217505}, {'NDCG': 0.06707023027093899}, 0.4459657669067383], [12, {'F1-score': 0.03954475830888581}, {'NDCG': 0.06514711363619208}, 0.45868179202079773], [13, {'F1-score': 0.04154666799683949}, {'NDCG': 0.06700901980196736}, 0.45887869596481323], [14, {'F1-score': 0.04158147724217507}, {'NDCG': 0.06721850460801358}, 0.45013514161109924], [15, {'F1-score': 0.04138536532509799}, {'NDCG': 0.06757978630021103}, 0.46377432346343994], [16, {'F1-score': 0.041054382350920716}, {'NDCG': 0.0666698455614479}, 0.44927778840065], [17, {'F1-score': 0.04146422109894341}, {'NDCG': 0.06700026461350403}, 0.45049527287483215], [18, {'F1-score': 0.04105438235092071}, {'NDCG': 0.06661812614831597}, 0.4510195255279541], [19, {'F1-score': 0.041829547777608105}, {'NDCG': 0.06712048681438866}, 0.4386899173259735], [20, {'F1-score': 0.04093191317352164}, {'NDCG': 0.06627271250520546}, 0.4324909448623657], [21, {'F1-score': 0.041712527285200626}, {'NDCG': 0.06686701733422906}, 0.43909600377082825], [22, {'F1-score': 0.041596470096774966}, {'NDCG': 0.06663158744629613}, 0.44651371240615845], [23, {'F1-score': 0.04188483304961162}, {'NDCG': 0.06726529695359725}, 0.44020524621009827], [24, {'F1-score': 0.041875722441415825}, {'NDCG': 0.06715259264762465}, 0.4337669909000397], [25, {'F1-score': 0.041759519766403595}, {'NDCG': 0.0670157974950017}, 0.4470067322254181], [26, {'F1-score': 0.04188483304961165}, {'NDCG': 0.06707479472139052}, 0.44110390543937683], [27, {'F1-score': 0.04188483304961166}, {'NDCG': 0.06733244635108718}, 0.44488102197647095], [28, {'F1-score': 0.041456503823184214}, {'NDCG': 0.06660339801005066}, 0.43816784024238586], [29, {'F1-score': 0.04179939217469705}, {'NDCG': 0.06706785570648044}, 0.4451412856578827], [30, {'F1-score': 0.04074607712786823}, {'NDCG': 0.06634238444940936}, 0.44493621587753296], [31, {'F1-score': 0.04163511593788657}, {'NDCG': 0.06670226508933574}, 0.44865429401397705]]\n",
      "-----------------------------------------------------------------------------------------\n"
     ]
    },
    {
     "name": "stderr",
     "output_type": "stream",
     "text": [
      "\r",
      "  0%|          | 0/932 [00:00<?, ?it/s]"
     ]
    },
    {
     "name": "stdout",
     "output_type": "stream",
     "text": [
      "Epoch 32: 0% , Loss: 0.399771\n"
     ]
    },
    {
     "name": "stderr",
     "output_type": "stream",
     "text": [
      " 11%|█         | 102/932 [00:11<01:36,  8.63it/s]"
     ]
    },
    {
     "name": "stdout",
     "output_type": "stream",
     "text": [
      "Epoch 32: 11% , Loss: 1.282845\n"
     ]
    },
    {
     "name": "stderr",
     "output_type": "stream",
     "text": [
      " 22%|██▏       | 202/932 [00:23<01:21,  8.90it/s]"
     ]
    },
    {
     "name": "stdout",
     "output_type": "stream",
     "text": [
      "Epoch 32: 21% , Loss: 0.791343\n"
     ]
    },
    {
     "name": "stderr",
     "output_type": "stream",
     "text": [
      " 32%|███▏      | 302/932 [00:36<01:20,  7.80it/s]"
     ]
    },
    {
     "name": "stdout",
     "output_type": "stream",
     "text": [
      "Epoch 32: 32% , Loss: 0.167014\n"
     ]
    },
    {
     "name": "stderr",
     "output_type": "stream",
     "text": [
      " 43%|████▎     | 402/932 [00:49<01:15,  7.02it/s]"
     ]
    },
    {
     "name": "stdout",
     "output_type": "stream",
     "text": [
      "Epoch 32: 43% , Loss: 0.073671\n"
     ]
    },
    {
     "name": "stderr",
     "output_type": "stream",
     "text": [
      " 54%|█████▍    | 502/932 [01:03<01:00,  7.07it/s]"
     ]
    },
    {
     "name": "stdout",
     "output_type": "stream",
     "text": [
      "Epoch 32: 54% , Loss: 0.554200\n"
     ]
    },
    {
     "name": "stderr",
     "output_type": "stream",
     "text": [
      " 65%|██████▍   | 602/932 [01:18<00:49,  6.68it/s]"
     ]
    },
    {
     "name": "stdout",
     "output_type": "stream",
     "text": [
      "Epoch 32: 64% , Loss: 0.227374\n"
     ]
    },
    {
     "name": "stderr",
     "output_type": "stream",
     "text": [
      " 75%|███████▌  | 701/932 [01:33<00:36,  6.35it/s]"
     ]
    },
    {
     "name": "stdout",
     "output_type": "stream",
     "text": [
      "Epoch 32: 75% , Loss: 0.376987\n"
     ]
    },
    {
     "name": "stderr",
     "output_type": "stream",
     "text": [
      " 86%|████████▌ | 802/932 [01:49<00:19,  6.57it/s]"
     ]
    },
    {
     "name": "stdout",
     "output_type": "stream",
     "text": [
      "Epoch 32: 86% , Loss: 0.294113\n"
     ]
    },
    {
     "name": "stderr",
     "output_type": "stream",
     "text": [
      " 97%|█████████▋| 901/932 [02:06<00:05,  5.58it/s]"
     ]
    },
    {
     "name": "stdout",
     "output_type": "stream",
     "text": [
      "Epoch 32: 97% , Loss: 1.980377\n"
     ]
    },
    {
     "name": "stderr",
     "output_type": "stream",
     "text": [
      "100%|██████████| 932/932 [02:11<00:00,  7.08it/s]\n"
     ]
    },
    {
     "name": "stdout",
     "output_type": "stream",
     "text": [
      "Epoch 32: 100% , Loss: 0.180686\n",
      "                      (F1-score: 0.0438)\n",
      "\n",
      "                      (NDCG: 0.0711)\n",
      "\n",
      "train_loss= tensor(0.4899)\n",
      "--------------------\n"
     ]
    },
    {
     "name": "stderr",
     "output_type": "stream",
     "text": [
      "100%|██████████| 133/133 [00:10<00:00, 13.01it/s]\n"
     ]
    },
    {
     "name": "stdout",
     "output_type": "stream",
     "text": [
      "                      (F1-score: 0.0408)\n",
      "\n",
      "                      (NDCG: 0.0659)\n",
      "\n",
      "val_loss= tensor(0.4361)\n",
      "--------------------\n"
     ]
    },
    {
     "name": "stderr",
     "output_type": "stream",
     "text": [
      "100%|██████████| 266/266 [00:21<00:00, 12.25it/s]\n"
     ]
    },
    {
     "name": "stdout",
     "output_type": "stream",
     "text": [
      "                      (F1-score: 0.0418)\n",
      "\n",
      "                      (NDCG: 0.0670)\n",
      "\n",
      "--------------------\n",
      "[[1, {'F1-score': 1.3426423200859293e-05}, {'NDCG': 7.968989754081668e-05}, 0.7953537106513977], [2, {'F1-score': 1.3426423200859293e-05}, {'NDCG': 7.968989754081668e-05}, 0.6858023405075073], [3, {'F1-score': 0.019103043976875064}, {'NDCG': 0.026571972600247403}, 0.5548844933509827], [4, {'F1-score': 0.02096858546187785}, {'NDCG': 0.04502920015834104}, 0.5526114106178284], [5, {'F1-score': 0.0354590595521211}, {'NDCG': 0.06195987741413869}, 0.5065855979919434], [6, {'F1-score': 0.04001724550510854}, {'NDCG': 0.0661786503886762}, 0.46960675716400146], [7, {'F1-score': 0.03779091447649205}, {'NDCG': 0.06406164879707578}, 0.4804374873638153], [8, {'F1-score': 0.040584136147165446}, {'NDCG': 0.06627678838943628}, 0.4667186737060547], [9, {'F1-score': 0.04058952926822324}, {'NDCG': 0.06623147309694748}, 0.45862865447998047], [10, {'F1-score': 0.040584136147165516}, {'NDCG': 0.0670063053152727}, 0.4817570149898529], [11, {'F1-score': 0.04158147724217505}, {'NDCG': 0.06707023027093899}, 0.4459657669067383], [12, {'F1-score': 0.03954475830888581}, {'NDCG': 0.06514711363619208}, 0.45868179202079773], [13, {'F1-score': 0.04154666799683949}, {'NDCG': 0.06700901980196736}, 0.45887869596481323], [14, {'F1-score': 0.04158147724217507}, {'NDCG': 0.06721850460801358}, 0.45013514161109924], [15, {'F1-score': 0.04138536532509799}, {'NDCG': 0.06757978630021103}, 0.46377432346343994], [16, {'F1-score': 0.041054382350920716}, {'NDCG': 0.0666698455614479}, 0.44927778840065], [17, {'F1-score': 0.04146422109894341}, {'NDCG': 0.06700026461350403}, 0.45049527287483215], [18, {'F1-score': 0.04105438235092071}, {'NDCG': 0.06661812614831597}, 0.4510195255279541], [19, {'F1-score': 0.041829547777608105}, {'NDCG': 0.06712048681438866}, 0.4386899173259735], [20, {'F1-score': 0.04093191317352164}, {'NDCG': 0.06627271250520546}, 0.4324909448623657], [21, {'F1-score': 0.041712527285200626}, {'NDCG': 0.06686701733422906}, 0.43909600377082825], [22, {'F1-score': 0.041596470096774966}, {'NDCG': 0.06663158744629613}, 0.44651371240615845], [23, {'F1-score': 0.04188483304961162}, {'NDCG': 0.06726529695359725}, 0.44020524621009827], [24, {'F1-score': 0.041875722441415825}, {'NDCG': 0.06715259264762465}, 0.4337669909000397], [25, {'F1-score': 0.041759519766403595}, {'NDCG': 0.0670157974950017}, 0.4470067322254181], [26, {'F1-score': 0.04188483304961165}, {'NDCG': 0.06707479472139052}, 0.44110390543937683], [27, {'F1-score': 0.04188483304961166}, {'NDCG': 0.06733244635108718}, 0.44488102197647095], [28, {'F1-score': 0.041456503823184214}, {'NDCG': 0.06660339801005066}, 0.43816784024238586], [29, {'F1-score': 0.04179939217469705}, {'NDCG': 0.06706785570648044}, 0.4451412856578827], [30, {'F1-score': 0.04074607712786823}, {'NDCG': 0.06634238444940936}, 0.44493621587753296], [31, {'F1-score': 0.04163511593788657}, {'NDCG': 0.06670226508933574}, 0.44865429401397705], [32, {'F1-score': 0.04179339971514426}, {'NDCG': 0.066950239682276}, 0.4361487329006195]]\n",
      "-----------------------------------------------------------------------------------------\n"
     ]
    },
    {
     "name": "stderr",
     "output_type": "stream",
     "text": [
      "\r",
      "  0%|          | 0/932 [00:00<?, ?it/s]"
     ]
    },
    {
     "name": "stdout",
     "output_type": "stream",
     "text": [
      "Epoch 33: 0% , Loss: 0.426253\n"
     ]
    },
    {
     "name": "stderr",
     "output_type": "stream",
     "text": [
      " 11%|█         | 102/932 [00:12<01:37,  8.50it/s]"
     ]
    },
    {
     "name": "stdout",
     "output_type": "stream",
     "text": [
      "Epoch 33: 11% , Loss: 0.143924\n"
     ]
    },
    {
     "name": "stderr",
     "output_type": "stream",
     "text": [
      " 22%|██▏       | 202/932 [00:24<01:25,  8.58it/s]"
     ]
    },
    {
     "name": "stdout",
     "output_type": "stream",
     "text": [
      "Epoch 33: 21% , Loss: 0.161877\n"
     ]
    },
    {
     "name": "stderr",
     "output_type": "stream",
     "text": [
      " 32%|███▏      | 302/932 [00:36<01:23,  7.57it/s]"
     ]
    },
    {
     "name": "stdout",
     "output_type": "stream",
     "text": [
      "Epoch 33: 32% , Loss: 0.388486\n"
     ]
    },
    {
     "name": "stderr",
     "output_type": "stream",
     "text": [
      " 43%|████▎     | 402/932 [00:49<01:07,  7.83it/s]"
     ]
    },
    {
     "name": "stdout",
     "output_type": "stream",
     "text": [
      "Epoch 33: 43% , Loss: 0.248232\n"
     ]
    },
    {
     "name": "stderr",
     "output_type": "stream",
     "text": [
      " 54%|█████▍    | 502/932 [01:03<00:59,  7.24it/s]"
     ]
    },
    {
     "name": "stdout",
     "output_type": "stream",
     "text": [
      "Epoch 33: 54% , Loss: 1.892125\n"
     ]
    },
    {
     "name": "stderr",
     "output_type": "stream",
     "text": [
      " 65%|██████▍   | 602/932 [01:18<00:49,  6.60it/s]"
     ]
    },
    {
     "name": "stdout",
     "output_type": "stream",
     "text": [
      "Epoch 33: 64% , Loss: 0.307554\n"
     ]
    },
    {
     "name": "stderr",
     "output_type": "stream",
     "text": [
      " 75%|███████▌  | 702/932 [01:33<00:34,  6.60it/s]"
     ]
    },
    {
     "name": "stdout",
     "output_type": "stream",
     "text": [
      "Epoch 33: 75% , Loss: 0.186667\n"
     ]
    },
    {
     "name": "stderr",
     "output_type": "stream",
     "text": [
      " 86%|████████▌ | 802/932 [01:49<00:21,  6.13it/s]"
     ]
    },
    {
     "name": "stdout",
     "output_type": "stream",
     "text": [
      "Epoch 33: 86% , Loss: 0.143684\n"
     ]
    },
    {
     "name": "stderr",
     "output_type": "stream",
     "text": [
      " 97%|█████████▋| 901/932 [02:06<00:05,  5.76it/s]"
     ]
    },
    {
     "name": "stdout",
     "output_type": "stream",
     "text": [
      "Epoch 33: 97% , Loss: 1.293596\n"
     ]
    },
    {
     "name": "stderr",
     "output_type": "stream",
     "text": [
      "100%|██████████| 932/932 [02:11<00:00,  7.07it/s]\n"
     ]
    },
    {
     "name": "stdout",
     "output_type": "stream",
     "text": [
      "Epoch 33: 100% , Loss: 0.199549\n",
      "                      (F1-score: 0.0438)\n",
      "\n",
      "                      (NDCG: 0.0711)\n",
      "\n",
      "train_loss= tensor(0.4878)\n",
      "--------------------\n"
     ]
    },
    {
     "name": "stderr",
     "output_type": "stream",
     "text": [
      "100%|██████████| 133/133 [00:10<00:00, 13.09it/s]\n"
     ]
    },
    {
     "name": "stdout",
     "output_type": "stream",
     "text": [
      "                      (F1-score: 0.0403)\n",
      "\n",
      "                      (NDCG: 0.0655)\n",
      "\n",
      "val_loss= tensor(0.4425)\n",
      "--------------------\n"
     ]
    },
    {
     "name": "stderr",
     "output_type": "stream",
     "text": [
      "100%|██████████| 266/266 [00:21<00:00, 12.31it/s]\n"
     ]
    },
    {
     "name": "stdout",
     "output_type": "stream",
     "text": [
      "                      (F1-score: 0.0403)\n",
      "\n",
      "                      (NDCG: 0.0658)\n",
      "\n",
      "--------------------\n",
      "[[1, {'F1-score': 1.3426423200859293e-05}, {'NDCG': 7.968989754081668e-05}, 0.7953537106513977], [2, {'F1-score': 1.3426423200859293e-05}, {'NDCG': 7.968989754081668e-05}, 0.6858023405075073], [3, {'F1-score': 0.019103043976875064}, {'NDCG': 0.026571972600247403}, 0.5548844933509827], [4, {'F1-score': 0.02096858546187785}, {'NDCG': 0.04502920015834104}, 0.5526114106178284], [5, {'F1-score': 0.0354590595521211}, {'NDCG': 0.06195987741413869}, 0.5065855979919434], [6, {'F1-score': 0.04001724550510854}, {'NDCG': 0.0661786503886762}, 0.46960675716400146], [7, {'F1-score': 0.03779091447649205}, {'NDCG': 0.06406164879707578}, 0.4804374873638153], [8, {'F1-score': 0.040584136147165446}, {'NDCG': 0.06627678838943628}, 0.4667186737060547], [9, {'F1-score': 0.04058952926822324}, {'NDCG': 0.06623147309694748}, 0.45862865447998047], [10, {'F1-score': 0.040584136147165516}, {'NDCG': 0.0670063053152727}, 0.4817570149898529], [11, {'F1-score': 0.04158147724217505}, {'NDCG': 0.06707023027093899}, 0.4459657669067383], [12, {'F1-score': 0.03954475830888581}, {'NDCG': 0.06514711363619208}, 0.45868179202079773], [13, {'F1-score': 0.04154666799683949}, {'NDCG': 0.06700901980196736}, 0.45887869596481323], [14, {'F1-score': 0.04158147724217507}, {'NDCG': 0.06721850460801358}, 0.45013514161109924], [15, {'F1-score': 0.04138536532509799}, {'NDCG': 0.06757978630021103}, 0.46377432346343994], [16, {'F1-score': 0.041054382350920716}, {'NDCG': 0.0666698455614479}, 0.44927778840065], [17, {'F1-score': 0.04146422109894341}, {'NDCG': 0.06700026461350403}, 0.45049527287483215], [18, {'F1-score': 0.04105438235092071}, {'NDCG': 0.06661812614831597}, 0.4510195255279541], [19, {'F1-score': 0.041829547777608105}, {'NDCG': 0.06712048681438866}, 0.4386899173259735], [20, {'F1-score': 0.04093191317352164}, {'NDCG': 0.06627271250520546}, 0.4324909448623657], [21, {'F1-score': 0.041712527285200626}, {'NDCG': 0.06686701733422906}, 0.43909600377082825], [22, {'F1-score': 0.041596470096774966}, {'NDCG': 0.06663158744629613}, 0.44651371240615845], [23, {'F1-score': 0.04188483304961162}, {'NDCG': 0.06726529695359725}, 0.44020524621009827], [24, {'F1-score': 0.041875722441415825}, {'NDCG': 0.06715259264762465}, 0.4337669909000397], [25, {'F1-score': 0.041759519766403595}, {'NDCG': 0.0670157974950017}, 0.4470067322254181], [26, {'F1-score': 0.04188483304961165}, {'NDCG': 0.06707479472139052}, 0.44110390543937683], [27, {'F1-score': 0.04188483304961166}, {'NDCG': 0.06733244635108718}, 0.44488102197647095], [28, {'F1-score': 0.041456503823184214}, {'NDCG': 0.06660339801005066}, 0.43816784024238586], [29, {'F1-score': 0.04179939217469705}, {'NDCG': 0.06706785570648044}, 0.4451412856578827], [30, {'F1-score': 0.04074607712786823}, {'NDCG': 0.06634238444940936}, 0.44493621587753296], [31, {'F1-score': 0.04163511593788657}, {'NDCG': 0.06670226508933574}, 0.44865429401397705], [32, {'F1-score': 0.04179339971514426}, {'NDCG': 0.066950239682276}, 0.4361487329006195], [33, {'F1-score': 0.040294844051835796}, {'NDCG': 0.06575927603289597}, 0.442504346370697]]\n",
      "-----------------------------------------------------------------------------------------\n"
     ]
    },
    {
     "name": "stderr",
     "output_type": "stream",
     "text": [
      "  0%|          | 1/932 [00:00<01:37,  9.52it/s]"
     ]
    },
    {
     "name": "stdout",
     "output_type": "stream",
     "text": [
      "Epoch 34: 0% , Loss: 0.528027\n"
     ]
    },
    {
     "name": "stderr",
     "output_type": "stream",
     "text": [
      " 11%|█         | 102/932 [00:12<01:45,  7.85it/s]"
     ]
    },
    {
     "name": "stdout",
     "output_type": "stream",
     "text": [
      "Epoch 34: 11% , Loss: 0.799853\n"
     ]
    },
    {
     "name": "stderr",
     "output_type": "stream",
     "text": [
      " 22%|██▏       | 202/932 [00:23<01:29,  8.18it/s]"
     ]
    },
    {
     "name": "stdout",
     "output_type": "stream",
     "text": [
      "Epoch 34: 21% , Loss: 0.322307\n"
     ]
    },
    {
     "name": "stderr",
     "output_type": "stream",
     "text": [
      " 32%|███▏      | 302/932 [00:36<01:20,  7.78it/s]"
     ]
    },
    {
     "name": "stdout",
     "output_type": "stream",
     "text": [
      "Epoch 34: 32% , Loss: 0.324832\n"
     ]
    },
    {
     "name": "stderr",
     "output_type": "stream",
     "text": [
      " 43%|████▎     | 402/932 [00:49<01:14,  7.14it/s]"
     ]
    },
    {
     "name": "stdout",
     "output_type": "stream",
     "text": [
      "Epoch 34: 43% , Loss: 0.372270\n"
     ]
    },
    {
     "name": "stderr",
     "output_type": "stream",
     "text": [
      " 54%|█████▍    | 502/932 [01:03<01:00,  7.11it/s]"
     ]
    },
    {
     "name": "stdout",
     "output_type": "stream",
     "text": [
      "Epoch 34: 54% , Loss: 0.506059\n"
     ]
    },
    {
     "name": "stderr",
     "output_type": "stream",
     "text": [
      " 65%|██████▍   | 602/932 [01:18<00:46,  7.05it/s]"
     ]
    },
    {
     "name": "stdout",
     "output_type": "stream",
     "text": [
      "Epoch 34: 64% , Loss: 0.211662\n"
     ]
    },
    {
     "name": "stderr",
     "output_type": "stream",
     "text": [
      " 75%|███████▌  | 701/932 [01:33<00:32,  7.04it/s]"
     ]
    },
    {
     "name": "stdout",
     "output_type": "stream",
     "text": [
      "Epoch 34: 75% , Loss: 0.154972\n"
     ]
    },
    {
     "name": "stderr",
     "output_type": "stream",
     "text": [
      " 86%|████████▌ | 801/932 [01:49<00:25,  5.20it/s]"
     ]
    },
    {
     "name": "stdout",
     "output_type": "stream",
     "text": [
      "Epoch 34: 86% , Loss: 0.229694\n"
     ]
    },
    {
     "name": "stderr",
     "output_type": "stream",
     "text": [
      " 97%|█████████▋| 901/932 [02:06<00:04,  6.42it/s]"
     ]
    },
    {
     "name": "stdout",
     "output_type": "stream",
     "text": [
      "Epoch 34: 97% , Loss: 0.343569\n"
     ]
    },
    {
     "name": "stderr",
     "output_type": "stream",
     "text": [
      "100%|██████████| 932/932 [02:11<00:00,  7.08it/s]"
     ]
    },
    {
     "name": "stdout",
     "output_type": "stream",
     "text": [
      "Epoch 34: 100% , Loss: 0.459570\n"
     ]
    },
    {
     "name": "stderr",
     "output_type": "stream",
     "text": [
      "\n"
     ]
    },
    {
     "name": "stdout",
     "output_type": "stream",
     "text": [
      "                      (F1-score: 0.0446)\n",
      "\n",
      "                      (NDCG: 0.0717)\n",
      "\n",
      "train_loss= tensor(0.4885)\n",
      "--------------------\n"
     ]
    },
    {
     "name": "stderr",
     "output_type": "stream",
     "text": [
      "100%|██████████| 133/133 [00:10<00:00, 12.89it/s]\n"
     ]
    },
    {
     "name": "stdout",
     "output_type": "stream",
     "text": [
      "                      (F1-score: 0.0395)\n",
      "\n",
      "                      (NDCG: 0.0649)\n",
      "\n",
      "val_loss= tensor(0.4416)\n",
      "--------------------\n"
     ]
    },
    {
     "name": "stderr",
     "output_type": "stream",
     "text": [
      "100%|██████████| 266/266 [00:22<00:00, 12.00it/s]\n"
     ]
    },
    {
     "name": "stdout",
     "output_type": "stream",
     "text": [
      "                      (F1-score: 0.0394)\n",
      "\n",
      "                      (NDCG: 0.0653)\n",
      "\n",
      "--------------------\n",
      "[[1, {'F1-score': 1.3426423200859293e-05}, {'NDCG': 7.968989754081668e-05}, 0.7953537106513977], [2, {'F1-score': 1.3426423200859293e-05}, {'NDCG': 7.968989754081668e-05}, 0.6858023405075073], [3, {'F1-score': 0.019103043976875064}, {'NDCG': 0.026571972600247403}, 0.5548844933509827], [4, {'F1-score': 0.02096858546187785}, {'NDCG': 0.04502920015834104}, 0.5526114106178284], [5, {'F1-score': 0.0354590595521211}, {'NDCG': 0.06195987741413869}, 0.5065855979919434], [6, {'F1-score': 0.04001724550510854}, {'NDCG': 0.0661786503886762}, 0.46960675716400146], [7, {'F1-score': 0.03779091447649205}, {'NDCG': 0.06406164879707578}, 0.4804374873638153], [8, {'F1-score': 0.040584136147165446}, {'NDCG': 0.06627678838943628}, 0.4667186737060547], [9, {'F1-score': 0.04058952926822324}, {'NDCG': 0.06623147309694748}, 0.45862865447998047], [10, {'F1-score': 0.040584136147165516}, {'NDCG': 0.0670063053152727}, 0.4817570149898529], [11, {'F1-score': 0.04158147724217505}, {'NDCG': 0.06707023027093899}, 0.4459657669067383], [12, {'F1-score': 0.03954475830888581}, {'NDCG': 0.06514711363619208}, 0.45868179202079773], [13, {'F1-score': 0.04154666799683949}, {'NDCG': 0.06700901980196736}, 0.45887869596481323], [14, {'F1-score': 0.04158147724217507}, {'NDCG': 0.06721850460801358}, 0.45013514161109924], [15, {'F1-score': 0.04138536532509799}, {'NDCG': 0.06757978630021103}, 0.46377432346343994], [16, {'F1-score': 0.041054382350920716}, {'NDCG': 0.0666698455614479}, 0.44927778840065], [17, {'F1-score': 0.04146422109894341}, {'NDCG': 0.06700026461350403}, 0.45049527287483215], [18, {'F1-score': 0.04105438235092071}, {'NDCG': 0.06661812614831597}, 0.4510195255279541], [19, {'F1-score': 0.041829547777608105}, {'NDCG': 0.06712048681438866}, 0.4386899173259735], [20, {'F1-score': 0.04093191317352164}, {'NDCG': 0.06627271250520546}, 0.4324909448623657], [21, {'F1-score': 0.041712527285200626}, {'NDCG': 0.06686701733422906}, 0.43909600377082825], [22, {'F1-score': 0.041596470096774966}, {'NDCG': 0.06663158744629613}, 0.44651371240615845], [23, {'F1-score': 0.04188483304961162}, {'NDCG': 0.06726529695359725}, 0.44020524621009827], [24, {'F1-score': 0.041875722441415825}, {'NDCG': 0.06715259264762465}, 0.4337669909000397], [25, {'F1-score': 0.041759519766403595}, {'NDCG': 0.0670157974950017}, 0.4470067322254181], [26, {'F1-score': 0.04188483304961165}, {'NDCG': 0.06707479472139052}, 0.44110390543937683], [27, {'F1-score': 0.04188483304961166}, {'NDCG': 0.06733244635108718}, 0.44488102197647095], [28, {'F1-score': 0.041456503823184214}, {'NDCG': 0.06660339801005066}, 0.43816784024238586], [29, {'F1-score': 0.04179939217469705}, {'NDCG': 0.06706785570648044}, 0.4451412856578827], [30, {'F1-score': 0.04074607712786823}, {'NDCG': 0.06634238444940936}, 0.44493621587753296], [31, {'F1-score': 0.04163511593788657}, {'NDCG': 0.06670226508933574}, 0.44865429401397705], [32, {'F1-score': 0.04179339971514426}, {'NDCG': 0.066950239682276}, 0.4361487329006195], [33, {'F1-score': 0.040294844051835796}, {'NDCG': 0.06575927603289597}, 0.442504346370697], [34, {'F1-score': 0.03942821066210796}, {'NDCG': 0.06529323660061323}, 0.44157904386520386]]\n",
      "-----------------------------------------------------------------------------------------\n"
     ]
    },
    {
     "name": "stderr",
     "output_type": "stream",
     "text": [
      "  0%|          | 2/932 [00:00<02:22,  6.53it/s]"
     ]
    },
    {
     "name": "stdout",
     "output_type": "stream",
     "text": [
      "Epoch 35: 0% , Loss: 0.647290\n"
     ]
    },
    {
     "name": "stderr",
     "output_type": "stream",
     "text": [
      " 11%|█         | 102/932 [00:11<01:39,  8.33it/s]"
     ]
    },
    {
     "name": "stdout",
     "output_type": "stream",
     "text": [
      "Epoch 35: 11% , Loss: 0.180577\n"
     ]
    },
    {
     "name": "stderr",
     "output_type": "stream",
     "text": [
      " 22%|██▏       | 202/932 [00:23<01:26,  8.40it/s]"
     ]
    },
    {
     "name": "stdout",
     "output_type": "stream",
     "text": [
      "Epoch 35: 21% , Loss: 0.186014\n"
     ]
    },
    {
     "name": "stderr",
     "output_type": "stream",
     "text": [
      " 32%|███▏      | 302/932 [00:35<01:15,  8.39it/s]"
     ]
    },
    {
     "name": "stdout",
     "output_type": "stream",
     "text": [
      "Epoch 35: 32% , Loss: 0.781615\n"
     ]
    },
    {
     "name": "stderr",
     "output_type": "stream",
     "text": [
      " 43%|████▎     | 402/932 [00:49<01:22,  6.45it/s]"
     ]
    },
    {
     "name": "stdout",
     "output_type": "stream",
     "text": [
      "Epoch 35: 43% , Loss: 0.736556\n"
     ]
    },
    {
     "name": "stderr",
     "output_type": "stream",
     "text": [
      " 54%|█████▍    | 502/932 [01:03<01:04,  6.68it/s]"
     ]
    },
    {
     "name": "stdout",
     "output_type": "stream",
     "text": [
      "Epoch 35: 54% , Loss: 0.394468\n"
     ]
    },
    {
     "name": "stderr",
     "output_type": "stream",
     "text": [
      " 65%|██████▍   | 602/932 [01:18<00:49,  6.73it/s]"
     ]
    },
    {
     "name": "stdout",
     "output_type": "stream",
     "text": [
      "Epoch 35: 64% , Loss: 0.122061\n"
     ]
    },
    {
     "name": "stderr",
     "output_type": "stream",
     "text": [
      " 75%|███████▌  | 701/932 [01:33<00:34,  6.74it/s]"
     ]
    },
    {
     "name": "stdout",
     "output_type": "stream",
     "text": [
      "Epoch 35: 75% , Loss: 0.673497\n"
     ]
    },
    {
     "name": "stderr",
     "output_type": "stream",
     "text": [
      " 86%|████████▌ | 802/932 [01:50<00:20,  6.27it/s]"
     ]
    },
    {
     "name": "stdout",
     "output_type": "stream",
     "text": [
      "Epoch 35: 86% , Loss: 0.160746\n"
     ]
    },
    {
     "name": "stderr",
     "output_type": "stream",
     "text": [
      " 97%|█████████▋| 901/932 [02:06<00:04,  6.30it/s]"
     ]
    },
    {
     "name": "stdout",
     "output_type": "stream",
     "text": [
      "Epoch 35: 97% , Loss: 0.124914\n"
     ]
    },
    {
     "name": "stderr",
     "output_type": "stream",
     "text": [
      "100%|██████████| 932/932 [02:11<00:00,  7.07it/s]\n"
     ]
    },
    {
     "name": "stdout",
     "output_type": "stream",
     "text": [
      "Epoch 35: 100% , Loss: 0.274532\n",
      "                      (F1-score: 0.0438)\n",
      "\n",
      "                      (NDCG: 0.0712)\n",
      "\n",
      "train_loss= tensor(0.4902)\n",
      "--------------------\n"
     ]
    },
    {
     "name": "stderr",
     "output_type": "stream",
     "text": [
      "100%|██████████| 133/133 [00:10<00:00, 12.57it/s]\n"
     ]
    },
    {
     "name": "stdout",
     "output_type": "stream",
     "text": [
      "                      (F1-score: 0.0408)\n",
      "\n",
      "                      (NDCG: 0.0660)\n",
      "\n",
      "val_loss= tensor(0.4472)\n",
      "--------------------\n"
     ]
    },
    {
     "name": "stderr",
     "output_type": "stream",
     "text": [
      "100%|██████████| 266/266 [00:21<00:00, 12.12it/s]\n"
     ]
    },
    {
     "name": "stdout",
     "output_type": "stream",
     "text": [
      "                      (F1-score: 0.0418)\n",
      "\n",
      "                      (NDCG: 0.0672)\n",
      "\n",
      "--------------------\n",
      "[[1, {'F1-score': 1.3426423200859293e-05}, {'NDCG': 7.968989754081668e-05}, 0.7953537106513977], [2, {'F1-score': 1.3426423200859293e-05}, {'NDCG': 7.968989754081668e-05}, 0.6858023405075073], [3, {'F1-score': 0.019103043976875064}, {'NDCG': 0.026571972600247403}, 0.5548844933509827], [4, {'F1-score': 0.02096858546187785}, {'NDCG': 0.04502920015834104}, 0.5526114106178284], [5, {'F1-score': 0.0354590595521211}, {'NDCG': 0.06195987741413869}, 0.5065855979919434], [6, {'F1-score': 0.04001724550510854}, {'NDCG': 0.0661786503886762}, 0.46960675716400146], [7, {'F1-score': 0.03779091447649205}, {'NDCG': 0.06406164879707578}, 0.4804374873638153], [8, {'F1-score': 0.040584136147165446}, {'NDCG': 0.06627678838943628}, 0.4667186737060547], [9, {'F1-score': 0.04058952926822324}, {'NDCG': 0.06623147309694748}, 0.45862865447998047], [10, {'F1-score': 0.040584136147165516}, {'NDCG': 0.0670063053152727}, 0.4817570149898529], [11, {'F1-score': 0.04158147724217505}, {'NDCG': 0.06707023027093899}, 0.4459657669067383], [12, {'F1-score': 0.03954475830888581}, {'NDCG': 0.06514711363619208}, 0.45868179202079773], [13, {'F1-score': 0.04154666799683949}, {'NDCG': 0.06700901980196736}, 0.45887869596481323], [14, {'F1-score': 0.04158147724217507}, {'NDCG': 0.06721850460801358}, 0.45013514161109924], [15, {'F1-score': 0.04138536532509799}, {'NDCG': 0.06757978630021103}, 0.46377432346343994], [16, {'F1-score': 0.041054382350920716}, {'NDCG': 0.0666698455614479}, 0.44927778840065], [17, {'F1-score': 0.04146422109894341}, {'NDCG': 0.06700026461350403}, 0.45049527287483215], [18, {'F1-score': 0.04105438235092071}, {'NDCG': 0.06661812614831597}, 0.4510195255279541], [19, {'F1-score': 0.041829547777608105}, {'NDCG': 0.06712048681438866}, 0.4386899173259735], [20, {'F1-score': 0.04093191317352164}, {'NDCG': 0.06627271250520546}, 0.4324909448623657], [21, {'F1-score': 0.041712527285200626}, {'NDCG': 0.06686701733422906}, 0.43909600377082825], [22, {'F1-score': 0.041596470096774966}, {'NDCG': 0.06663158744629613}, 0.44651371240615845], [23, {'F1-score': 0.04188483304961162}, {'NDCG': 0.06726529695359725}, 0.44020524621009827], [24, {'F1-score': 0.041875722441415825}, {'NDCG': 0.06715259264762465}, 0.4337669909000397], [25, {'F1-score': 0.041759519766403595}, {'NDCG': 0.0670157974950017}, 0.4470067322254181], [26, {'F1-score': 0.04188483304961165}, {'NDCG': 0.06707479472139052}, 0.44110390543937683], [27, {'F1-score': 0.04188483304961166}, {'NDCG': 0.06733244635108718}, 0.44488102197647095], [28, {'F1-score': 0.041456503823184214}, {'NDCG': 0.06660339801005066}, 0.43816784024238586], [29, {'F1-score': 0.04179939217469705}, {'NDCG': 0.06706785570648044}, 0.4451412856578827], [30, {'F1-score': 0.04074607712786823}, {'NDCG': 0.06634238444940936}, 0.44493621587753296], [31, {'F1-score': 0.04163511593788657}, {'NDCG': 0.06670226508933574}, 0.44865429401397705], [32, {'F1-score': 0.04179339971514426}, {'NDCG': 0.066950239682276}, 0.4361487329006195], [33, {'F1-score': 0.040294844051835796}, {'NDCG': 0.06575927603289597}, 0.442504346370697], [34, {'F1-score': 0.03942821066210796}, {'NDCG': 0.06529323660061323}, 0.44157904386520386], [35, {'F1-score': 0.041790848087205575}, {'NDCG': 0.06717998595712216}, 0.4472059905529022]]\n",
      "-----------------------------------------------------------------------------------------\n"
     ]
    },
    {
     "name": "stderr",
     "output_type": "stream",
     "text": [
      "  0%|          | 1/932 [00:00<01:51,  8.33it/s]"
     ]
    },
    {
     "name": "stdout",
     "output_type": "stream",
     "text": [
      "Epoch 36: 0% , Loss: 0.352544\n"
     ]
    },
    {
     "name": "stderr",
     "output_type": "stream",
     "text": [
      " 11%|█         | 102/932 [00:12<01:37,  8.49it/s]"
     ]
    },
    {
     "name": "stdout",
     "output_type": "stream",
     "text": [
      "Epoch 36: 11% , Loss: 0.167980\n"
     ]
    },
    {
     "name": "stderr",
     "output_type": "stream",
     "text": [
      " 22%|██▏       | 202/932 [00:24<01:24,  8.65it/s]"
     ]
    },
    {
     "name": "stdout",
     "output_type": "stream",
     "text": [
      "Epoch 36: 21% , Loss: 0.178468\n"
     ]
    },
    {
     "name": "stderr",
     "output_type": "stream",
     "text": [
      " 32%|███▏      | 302/932 [00:37<01:18,  8.04it/s]"
     ]
    },
    {
     "name": "stdout",
     "output_type": "stream",
     "text": [
      "Epoch 36: 32% , Loss: 0.146922\n"
     ]
    },
    {
     "name": "stderr",
     "output_type": "stream",
     "text": [
      " 43%|████▎     | 402/932 [00:50<01:06,  8.00it/s]"
     ]
    },
    {
     "name": "stdout",
     "output_type": "stream",
     "text": [
      "Epoch 36: 43% , Loss: 0.741030\n"
     ]
    },
    {
     "name": "stderr",
     "output_type": "stream",
     "text": [
      " 54%|█████▍    | 502/932 [01:04<00:56,  7.59it/s]"
     ]
    },
    {
     "name": "stdout",
     "output_type": "stream",
     "text": [
      "Epoch 36: 54% , Loss: 0.285515\n"
     ]
    },
    {
     "name": "stderr",
     "output_type": "stream",
     "text": [
      " 65%|██████▍   | 602/932 [01:19<00:46,  7.08it/s]"
     ]
    },
    {
     "name": "stdout",
     "output_type": "stream",
     "text": [
      "Epoch 36: 64% , Loss: 0.143711\n"
     ]
    },
    {
     "name": "stderr",
     "output_type": "stream",
     "text": [
      " 75%|███████▌  | 702/932 [01:34<00:36,  6.38it/s]"
     ]
    },
    {
     "name": "stdout",
     "output_type": "stream",
     "text": [
      "Epoch 36: 75% , Loss: 0.946049\n"
     ]
    },
    {
     "name": "stderr",
     "output_type": "stream",
     "text": [
      " 86%|████████▌ | 801/932 [01:50<00:20,  6.40it/s]"
     ]
    },
    {
     "name": "stdout",
     "output_type": "stream",
     "text": [
      "Epoch 36: 86% , Loss: 0.175907\n"
     ]
    },
    {
     "name": "stderr",
     "output_type": "stream",
     "text": [
      " 97%|█████████▋| 901/932 [02:07<00:05,  6.18it/s]"
     ]
    },
    {
     "name": "stdout",
     "output_type": "stream",
     "text": [
      "Epoch 36: 97% , Loss: 2.490669\n"
     ]
    },
    {
     "name": "stderr",
     "output_type": "stream",
     "text": [
      "100%|██████████| 932/932 [02:12<00:00,  7.04it/s]"
     ]
    },
    {
     "name": "stdout",
     "output_type": "stream",
     "text": [
      "Epoch 36: 100% , Loss: 1.304913\n"
     ]
    },
    {
     "name": "stderr",
     "output_type": "stream",
     "text": [
      "\n"
     ]
    },
    {
     "name": "stdout",
     "output_type": "stream",
     "text": [
      "                      (F1-score: 0.0440)\n",
      "\n",
      "                      (NDCG: 0.0712)\n",
      "\n",
      "train_loss= tensor(0.4872)\n",
      "--------------------\n"
     ]
    },
    {
     "name": "stderr",
     "output_type": "stream",
     "text": [
      "100%|██████████| 133/133 [00:10<00:00, 12.88it/s]\n"
     ]
    },
    {
     "name": "stdout",
     "output_type": "stream",
     "text": [
      "                      (F1-score: 0.0404)\n",
      "\n",
      "                      (NDCG: 0.0657)\n",
      "\n",
      "val_loss= tensor(0.4444)\n",
      "--------------------\n"
     ]
    },
    {
     "name": "stderr",
     "output_type": "stream",
     "text": [
      "100%|██████████| 266/266 [00:21<00:00, 12.35it/s]\n"
     ]
    },
    {
     "name": "stdout",
     "output_type": "stream",
     "text": [
      "                      (F1-score: 0.0417)\n",
      "\n",
      "                      (NDCG: 0.0668)\n",
      "\n",
      "--------------------\n",
      "[[1, {'F1-score': 1.3426423200859293e-05}, {'NDCG': 7.968989754081668e-05}, 0.7953537106513977], [2, {'F1-score': 1.3426423200859293e-05}, {'NDCG': 7.968989754081668e-05}, 0.6858023405075073], [3, {'F1-score': 0.019103043976875064}, {'NDCG': 0.026571972600247403}, 0.5548844933509827], [4, {'F1-score': 0.02096858546187785}, {'NDCG': 0.04502920015834104}, 0.5526114106178284], [5, {'F1-score': 0.0354590595521211}, {'NDCG': 0.06195987741413869}, 0.5065855979919434], [6, {'F1-score': 0.04001724550510854}, {'NDCG': 0.0661786503886762}, 0.46960675716400146], [7, {'F1-score': 0.03779091447649205}, {'NDCG': 0.06406164879707578}, 0.4804374873638153], [8, {'F1-score': 0.040584136147165446}, {'NDCG': 0.06627678838943628}, 0.4667186737060547], [9, {'F1-score': 0.04058952926822324}, {'NDCG': 0.06623147309694748}, 0.45862865447998047], [10, {'F1-score': 0.040584136147165516}, {'NDCG': 0.0670063053152727}, 0.4817570149898529], [11, {'F1-score': 0.04158147724217505}, {'NDCG': 0.06707023027093899}, 0.4459657669067383], [12, {'F1-score': 0.03954475830888581}, {'NDCG': 0.06514711363619208}, 0.45868179202079773], [13, {'F1-score': 0.04154666799683949}, {'NDCG': 0.06700901980196736}, 0.45887869596481323], [14, {'F1-score': 0.04158147724217507}, {'NDCG': 0.06721850460801358}, 0.45013514161109924], [15, {'F1-score': 0.04138536532509799}, {'NDCG': 0.06757978630021103}, 0.46377432346343994], [16, {'F1-score': 0.041054382350920716}, {'NDCG': 0.0666698455614479}, 0.44927778840065], [17, {'F1-score': 0.04146422109894341}, {'NDCG': 0.06700026461350403}, 0.45049527287483215], [18, {'F1-score': 0.04105438235092071}, {'NDCG': 0.06661812614831597}, 0.4510195255279541], [19, {'F1-score': 0.041829547777608105}, {'NDCG': 0.06712048681438866}, 0.4386899173259735], [20, {'F1-score': 0.04093191317352164}, {'NDCG': 0.06627271250520546}, 0.4324909448623657], [21, {'F1-score': 0.041712527285200626}, {'NDCG': 0.06686701733422906}, 0.43909600377082825], [22, {'F1-score': 0.041596470096774966}, {'NDCG': 0.06663158744629613}, 0.44651371240615845], [23, {'F1-score': 0.04188483304961162}, {'NDCG': 0.06726529695359725}, 0.44020524621009827], [24, {'F1-score': 0.041875722441415825}, {'NDCG': 0.06715259264762465}, 0.4337669909000397], [25, {'F1-score': 0.041759519766403595}, {'NDCG': 0.0670157974950017}, 0.4470067322254181], [26, {'F1-score': 0.04188483304961165}, {'NDCG': 0.06707479472139052}, 0.44110390543937683], [27, {'F1-score': 0.04188483304961166}, {'NDCG': 0.06733244635108718}, 0.44488102197647095], [28, {'F1-score': 0.041456503823184214}, {'NDCG': 0.06660339801005066}, 0.43816784024238586], [29, {'F1-score': 0.04179939217469705}, {'NDCG': 0.06706785570648044}, 0.4451412856578827], [30, {'F1-score': 0.04074607712786823}, {'NDCG': 0.06634238444940936}, 0.44493621587753296], [31, {'F1-score': 0.04163511593788657}, {'NDCG': 0.06670226508933574}, 0.44865429401397705], [32, {'F1-score': 0.04179339971514426}, {'NDCG': 0.066950239682276}, 0.4361487329006195], [33, {'F1-score': 0.040294844051835796}, {'NDCG': 0.06575927603289597}, 0.442504346370697], [34, {'F1-score': 0.03942821066210796}, {'NDCG': 0.06529323660061323}, 0.44157904386520386], [35, {'F1-score': 0.041790848087205575}, {'NDCG': 0.06717998595712216}, 0.4472059905529022], [36, {'F1-score': 0.04169101957490024}, {'NDCG': 0.06682919933201563}, 0.4444219172000885]]\n",
      "-----------------------------------------------------------------------------------------\n"
     ]
    },
    {
     "name": "stderr",
     "output_type": "stream",
     "text": [
      "  0%|          | 2/932 [00:00<01:51,  8.37it/s]"
     ]
    },
    {
     "name": "stdout",
     "output_type": "stream",
     "text": [
      "Epoch 37: 0% , Loss: 0.582229\n"
     ]
    },
    {
     "name": "stderr",
     "output_type": "stream",
     "text": [
      " 11%|█         | 102/932 [00:11<01:34,  8.80it/s]"
     ]
    },
    {
     "name": "stdout",
     "output_type": "stream",
     "text": [
      "Epoch 37: 11% , Loss: 0.475118\n"
     ]
    },
    {
     "name": "stderr",
     "output_type": "stream",
     "text": [
      " 22%|██▏       | 202/932 [00:24<01:26,  8.44it/s]"
     ]
    },
    {
     "name": "stdout",
     "output_type": "stream",
     "text": [
      "Epoch 37: 21% , Loss: 0.119502\n"
     ]
    },
    {
     "name": "stderr",
     "output_type": "stream",
     "text": [
      " 32%|███▏      | 302/932 [00:36<01:27,  7.18it/s]"
     ]
    },
    {
     "name": "stdout",
     "output_type": "stream",
     "text": [
      "Epoch 37: 32% , Loss: 0.126390\n"
     ]
    },
    {
     "name": "stderr",
     "output_type": "stream",
     "text": [
      " 43%|████▎     | 402/932 [00:50<01:14,  7.13it/s]"
     ]
    },
    {
     "name": "stdout",
     "output_type": "stream",
     "text": [
      "Epoch 37: 43% , Loss: 0.066534\n"
     ]
    },
    {
     "name": "stderr",
     "output_type": "stream",
     "text": [
      " 54%|█████▍    | 502/932 [01:03<01:00,  7.08it/s]"
     ]
    },
    {
     "name": "stdout",
     "output_type": "stream",
     "text": [
      "Epoch 37: 54% , Loss: 0.151934\n"
     ]
    },
    {
     "name": "stderr",
     "output_type": "stream",
     "text": [
      " 65%|██████▍   | 602/932 [01:18<00:49,  6.68it/s]"
     ]
    },
    {
     "name": "stdout",
     "output_type": "stream",
     "text": [
      "Epoch 37: 64% , Loss: 0.371029\n"
     ]
    },
    {
     "name": "stderr",
     "output_type": "stream",
     "text": [
      " 75%|███████▌  | 702/932 [01:34<00:34,  6.68it/s]"
     ]
    },
    {
     "name": "stdout",
     "output_type": "stream",
     "text": [
      "Epoch 37: 75% , Loss: 0.163092\n"
     ]
    },
    {
     "name": "stderr",
     "output_type": "stream",
     "text": [
      " 86%|████████▌ | 801/932 [01:50<00:22,  5.73it/s]"
     ]
    },
    {
     "name": "stdout",
     "output_type": "stream",
     "text": [
      "Epoch 37: 86% , Loss: 0.119423\n"
     ]
    },
    {
     "name": "stderr",
     "output_type": "stream",
     "text": [
      " 97%|█████████▋| 901/932 [02:07<00:06,  4.64it/s]"
     ]
    },
    {
     "name": "stdout",
     "output_type": "stream",
     "text": [
      "Epoch 37: 97% , Loss: 0.236537\n"
     ]
    },
    {
     "name": "stderr",
     "output_type": "stream",
     "text": [
      "100%|██████████| 932/932 [02:12<00:00,  7.04it/s]"
     ]
    },
    {
     "name": "stdout",
     "output_type": "stream",
     "text": [
      "Epoch 37: 100% , Loss: 0.269912\n"
     ]
    },
    {
     "name": "stderr",
     "output_type": "stream",
     "text": [
      "\n"
     ]
    },
    {
     "name": "stdout",
     "output_type": "stream",
     "text": [
      "                      (F1-score: 0.0442)\n",
      "\n",
      "                      (NDCG: 0.0713)\n",
      "\n",
      "train_loss= tensor(0.4899)\n",
      "--------------------\n"
     ]
    },
    {
     "name": "stderr",
     "output_type": "stream",
     "text": [
      "100%|██████████| 133/133 [00:10<00:00, 13.02it/s]\n"
     ]
    },
    {
     "name": "stdout",
     "output_type": "stream",
     "text": [
      "                      (F1-score: 0.0408)\n",
      "\n",
      "                      (NDCG: 0.0658)\n",
      "\n",
      "val_loss= tensor(0.4472)\n",
      "--------------------\n"
     ]
    },
    {
     "name": "stderr",
     "output_type": "stream",
     "text": [
      "100%|██████████| 266/266 [00:21<00:00, 12.22it/s]\n"
     ]
    },
    {
     "name": "stdout",
     "output_type": "stream",
     "text": [
      "                      (F1-score: 0.0419)\n",
      "\n",
      "                      (NDCG: 0.0671)\n",
      "\n",
      "--------------------\n",
      "[[1, {'F1-score': 1.3426423200859293e-05}, {'NDCG': 7.968989754081668e-05}, 0.7953537106513977], [2, {'F1-score': 1.3426423200859293e-05}, {'NDCG': 7.968989754081668e-05}, 0.6858023405075073], [3, {'F1-score': 0.019103043976875064}, {'NDCG': 0.026571972600247403}, 0.5548844933509827], [4, {'F1-score': 0.02096858546187785}, {'NDCG': 0.04502920015834104}, 0.5526114106178284], [5, {'F1-score': 0.0354590595521211}, {'NDCG': 0.06195987741413869}, 0.5065855979919434], [6, {'F1-score': 0.04001724550510854}, {'NDCG': 0.0661786503886762}, 0.46960675716400146], [7, {'F1-score': 0.03779091447649205}, {'NDCG': 0.06406164879707578}, 0.4804374873638153], [8, {'F1-score': 0.040584136147165446}, {'NDCG': 0.06627678838943628}, 0.4667186737060547], [9, {'F1-score': 0.04058952926822324}, {'NDCG': 0.06623147309694748}, 0.45862865447998047], [10, {'F1-score': 0.040584136147165516}, {'NDCG': 0.0670063053152727}, 0.4817570149898529], [11, {'F1-score': 0.04158147724217505}, {'NDCG': 0.06707023027093899}, 0.4459657669067383], [12, {'F1-score': 0.03954475830888581}, {'NDCG': 0.06514711363619208}, 0.45868179202079773], [13, {'F1-score': 0.04154666799683949}, {'NDCG': 0.06700901980196736}, 0.45887869596481323], [14, {'F1-score': 0.04158147724217507}, {'NDCG': 0.06721850460801358}, 0.45013514161109924], [15, {'F1-score': 0.04138536532509799}, {'NDCG': 0.06757978630021103}, 0.46377432346343994], [16, {'F1-score': 0.041054382350920716}, {'NDCG': 0.0666698455614479}, 0.44927778840065], [17, {'F1-score': 0.04146422109894341}, {'NDCG': 0.06700026461350403}, 0.45049527287483215], [18, {'F1-score': 0.04105438235092071}, {'NDCG': 0.06661812614831597}, 0.4510195255279541], [19, {'F1-score': 0.041829547777608105}, {'NDCG': 0.06712048681438866}, 0.4386899173259735], [20, {'F1-score': 0.04093191317352164}, {'NDCG': 0.06627271250520546}, 0.4324909448623657], [21, {'F1-score': 0.041712527285200626}, {'NDCG': 0.06686701733422906}, 0.43909600377082825], [22, {'F1-score': 0.041596470096774966}, {'NDCG': 0.06663158744629613}, 0.44651371240615845], [23, {'F1-score': 0.04188483304961162}, {'NDCG': 0.06726529695359725}, 0.44020524621009827], [24, {'F1-score': 0.041875722441415825}, {'NDCG': 0.06715259264762465}, 0.4337669909000397], [25, {'F1-score': 0.041759519766403595}, {'NDCG': 0.0670157974950017}, 0.4470067322254181], [26, {'F1-score': 0.04188483304961165}, {'NDCG': 0.06707479472139052}, 0.44110390543937683], [27, {'F1-score': 0.04188483304961166}, {'NDCG': 0.06733244635108718}, 0.44488102197647095], [28, {'F1-score': 0.041456503823184214}, {'NDCG': 0.06660339801005066}, 0.43816784024238586], [29, {'F1-score': 0.04179939217469705}, {'NDCG': 0.06706785570648044}, 0.4451412856578827], [30, {'F1-score': 0.04074607712786823}, {'NDCG': 0.06634238444940936}, 0.44493621587753296], [31, {'F1-score': 0.04163511593788657}, {'NDCG': 0.06670226508933574}, 0.44865429401397705], [32, {'F1-score': 0.04179339971514426}, {'NDCG': 0.066950239682276}, 0.4361487329006195], [33, {'F1-score': 0.040294844051835796}, {'NDCG': 0.06575927603289597}, 0.442504346370697], [34, {'F1-score': 0.03942821066210796}, {'NDCG': 0.06529323660061323}, 0.44157904386520386], [35, {'F1-score': 0.041790848087205575}, {'NDCG': 0.06717998595712216}, 0.4472059905529022], [36, {'F1-score': 0.04169101957490024}, {'NDCG': 0.06682919933201563}, 0.4444219172000885], [37, {'F1-score': 0.04188483304961165}, {'NDCG': 0.06707479472139052}, 0.44721364974975586]]\n",
      "-----------------------------------------------------------------------------------------\n"
     ]
    },
    {
     "name": "stderr",
     "output_type": "stream",
     "text": [
      "  0%|          | 2/932 [00:00<02:08,  7.22it/s]"
     ]
    },
    {
     "name": "stdout",
     "output_type": "stream",
     "text": [
      "Epoch 38: 0% , Loss: 0.505199\n"
     ]
    },
    {
     "name": "stderr",
     "output_type": "stream",
     "text": [
      " 11%|█         | 102/932 [00:11<01:33,  8.86it/s]"
     ]
    },
    {
     "name": "stdout",
     "output_type": "stream",
     "text": [
      "Epoch 38: 11% , Loss: 0.137824\n"
     ]
    },
    {
     "name": "stderr",
     "output_type": "stream",
     "text": [
      " 22%|██▏       | 202/932 [00:24<01:29,  8.17it/s]"
     ]
    },
    {
     "name": "stdout",
     "output_type": "stream",
     "text": [
      "Epoch 38: 21% , Loss: 0.158788\n"
     ]
    },
    {
     "name": "stderr",
     "output_type": "stream",
     "text": [
      " 32%|███▏      | 302/932 [00:36<01:17,  8.09it/s]"
     ]
    },
    {
     "name": "stdout",
     "output_type": "stream",
     "text": [
      "Epoch 38: 32% , Loss: 0.709336\n"
     ]
    },
    {
     "name": "stderr",
     "output_type": "stream",
     "text": [
      " 43%|████▎     | 402/932 [00:50<01:08,  7.73it/s]"
     ]
    },
    {
     "name": "stdout",
     "output_type": "stream",
     "text": [
      "Epoch 38: 43% , Loss: 0.601586\n"
     ]
    },
    {
     "name": "stderr",
     "output_type": "stream",
     "text": [
      " 54%|█████▍    | 502/932 [01:04<00:57,  7.43it/s]"
     ]
    },
    {
     "name": "stdout",
     "output_type": "stream",
     "text": [
      "Epoch 38: 54% , Loss: 0.362049\n"
     ]
    },
    {
     "name": "stderr",
     "output_type": "stream",
     "text": [
      " 64%|██████▍   | 601/932 [01:19<00:57,  5.71it/s]"
     ]
    },
    {
     "name": "stdout",
     "output_type": "stream",
     "text": [
      "Epoch 38: 64% , Loss: 0.168849\n"
     ]
    },
    {
     "name": "stderr",
     "output_type": "stream",
     "text": [
      " 75%|███████▌  | 701/932 [01:34<00:39,  5.86it/s]"
     ]
    },
    {
     "name": "stdout",
     "output_type": "stream",
     "text": [
      "Epoch 38: 75% , Loss: 0.815556\n"
     ]
    },
    {
     "name": "stderr",
     "output_type": "stream",
     "text": [
      " 86%|████████▌ | 802/932 [01:50<00:20,  6.30it/s]"
     ]
    },
    {
     "name": "stdout",
     "output_type": "stream",
     "text": [
      "Epoch 38: 86% , Loss: 0.495927\n"
     ]
    },
    {
     "name": "stderr",
     "output_type": "stream",
     "text": [
      " 97%|█████████▋| 901/932 [02:07<00:04,  6.30it/s]"
     ]
    },
    {
     "name": "stdout",
     "output_type": "stream",
     "text": [
      "Epoch 38: 97% , Loss: 0.174926\n"
     ]
    },
    {
     "name": "stderr",
     "output_type": "stream",
     "text": [
      "100%|██████████| 932/932 [02:12<00:00,  7.03it/s]\n"
     ]
    },
    {
     "name": "stdout",
     "output_type": "stream",
     "text": [
      "Epoch 38: 100% , Loss: 0.728235\n",
      "                      (F1-score: 0.0443)\n",
      "\n",
      "                      (NDCG: 0.0715)\n",
      "\n",
      "train_loss= tensor(0.4890)\n",
      "--------------------\n"
     ]
    },
    {
     "name": "stderr",
     "output_type": "stream",
     "text": [
      "100%|██████████| 133/133 [00:10<00:00, 12.83it/s]\n"
     ]
    },
    {
     "name": "stdout",
     "output_type": "stream",
     "text": [
      "                      (F1-score: 0.0408)\n",
      "\n",
      "                      (NDCG: 0.0659)\n",
      "\n",
      "val_loss= tensor(0.4373)\n",
      "--------------------\n"
     ]
    },
    {
     "name": "stderr",
     "output_type": "stream",
     "text": [
      "100%|██████████| 266/266 [00:21<00:00, 12.26it/s]\n"
     ]
    },
    {
     "name": "stdout",
     "output_type": "stream",
     "text": [
      "                      (F1-score: 0.0418)\n",
      "\n",
      "                      (NDCG: 0.0669)\n",
      "\n",
      "--------------------\n",
      "[[1, {'F1-score': 1.3426423200859293e-05}, {'NDCG': 7.968989754081668e-05}, 0.7953537106513977], [2, {'F1-score': 1.3426423200859293e-05}, {'NDCG': 7.968989754081668e-05}, 0.6858023405075073], [3, {'F1-score': 0.019103043976875064}, {'NDCG': 0.026571972600247403}, 0.5548844933509827], [4, {'F1-score': 0.02096858546187785}, {'NDCG': 0.04502920015834104}, 0.5526114106178284], [5, {'F1-score': 0.0354590595521211}, {'NDCG': 0.06195987741413869}, 0.5065855979919434], [6, {'F1-score': 0.04001724550510854}, {'NDCG': 0.0661786503886762}, 0.46960675716400146], [7, {'F1-score': 0.03779091447649205}, {'NDCG': 0.06406164879707578}, 0.4804374873638153], [8, {'F1-score': 0.040584136147165446}, {'NDCG': 0.06627678838943628}, 0.4667186737060547], [9, {'F1-score': 0.04058952926822324}, {'NDCG': 0.06623147309694748}, 0.45862865447998047], [10, {'F1-score': 0.040584136147165516}, {'NDCG': 0.0670063053152727}, 0.4817570149898529], [11, {'F1-score': 0.04158147724217505}, {'NDCG': 0.06707023027093899}, 0.4459657669067383], [12, {'F1-score': 0.03954475830888581}, {'NDCG': 0.06514711363619208}, 0.45868179202079773], [13, {'F1-score': 0.04154666799683949}, {'NDCG': 0.06700901980196736}, 0.45887869596481323], [14, {'F1-score': 0.04158147724217507}, {'NDCG': 0.06721850460801358}, 0.45013514161109924], [15, {'F1-score': 0.04138536532509799}, {'NDCG': 0.06757978630021103}, 0.46377432346343994], [16, {'F1-score': 0.041054382350920716}, {'NDCG': 0.0666698455614479}, 0.44927778840065], [17, {'F1-score': 0.04146422109894341}, {'NDCG': 0.06700026461350403}, 0.45049527287483215], [18, {'F1-score': 0.04105438235092071}, {'NDCG': 0.06661812614831597}, 0.4510195255279541], [19, {'F1-score': 0.041829547777608105}, {'NDCG': 0.06712048681438866}, 0.4386899173259735], [20, {'F1-score': 0.04093191317352164}, {'NDCG': 0.06627271250520546}, 0.4324909448623657], [21, {'F1-score': 0.041712527285200626}, {'NDCG': 0.06686701733422906}, 0.43909600377082825], [22, {'F1-score': 0.041596470096774966}, {'NDCG': 0.06663158744629613}, 0.44651371240615845], [23, {'F1-score': 0.04188483304961162}, {'NDCG': 0.06726529695359725}, 0.44020524621009827], [24, {'F1-score': 0.041875722441415825}, {'NDCG': 0.06715259264762465}, 0.4337669909000397], [25, {'F1-score': 0.041759519766403595}, {'NDCG': 0.0670157974950017}, 0.4470067322254181], [26, {'F1-score': 0.04188483304961165}, {'NDCG': 0.06707479472139052}, 0.44110390543937683], [27, {'F1-score': 0.04188483304961166}, {'NDCG': 0.06733244635108718}, 0.44488102197647095], [28, {'F1-score': 0.041456503823184214}, {'NDCG': 0.06660339801005066}, 0.43816784024238586], [29, {'F1-score': 0.04179939217469705}, {'NDCG': 0.06706785570648044}, 0.4451412856578827], [30, {'F1-score': 0.04074607712786823}, {'NDCG': 0.06634238444940936}, 0.44493621587753296], [31, {'F1-score': 0.04163511593788657}, {'NDCG': 0.06670226508933574}, 0.44865429401397705], [32, {'F1-score': 0.04179339971514426}, {'NDCG': 0.066950239682276}, 0.4361487329006195], [33, {'F1-score': 0.040294844051835796}, {'NDCG': 0.06575927603289597}, 0.442504346370697], [34, {'F1-score': 0.03942821066210796}, {'NDCG': 0.06529323660061323}, 0.44157904386520386], [35, {'F1-score': 0.041790848087205575}, {'NDCG': 0.06717998595712216}, 0.4472059905529022], [36, {'F1-score': 0.04169101957490024}, {'NDCG': 0.06682919933201563}, 0.4444219172000885], [37, {'F1-score': 0.04188483304961165}, {'NDCG': 0.06707479472139052}, 0.44721364974975586], [38, {'F1-score': 0.04181253692468395}, {'NDCG': 0.06693259432659786}, 0.43728116154670715]]\n",
      "-----------------------------------------------------------------------------------------\n"
     ]
    },
    {
     "name": "stderr",
     "output_type": "stream",
     "text": [
      "  0%|          | 2/932 [00:00<02:09,  7.20it/s]"
     ]
    },
    {
     "name": "stdout",
     "output_type": "stream",
     "text": [
      "Epoch 39: 0% , Loss: 0.540831\n"
     ]
    },
    {
     "name": "stderr",
     "output_type": "stream",
     "text": [
      " 11%|█         | 102/932 [00:11<01:31,  9.12it/s]"
     ]
    },
    {
     "name": "stdout",
     "output_type": "stream",
     "text": [
      "Epoch 39: 11% , Loss: 0.178719\n"
     ]
    },
    {
     "name": "stderr",
     "output_type": "stream",
     "text": [
      " 22%|██▏       | 201/932 [00:23<01:33,  7.79it/s]"
     ]
    },
    {
     "name": "stdout",
     "output_type": "stream",
     "text": [
      "Epoch 39: 21% , Loss: 0.449876\n"
     ]
    },
    {
     "name": "stderr",
     "output_type": "stream",
     "text": [
      " 32%|███▏      | 302/932 [00:36<01:25,  7.41it/s]"
     ]
    },
    {
     "name": "stdout",
     "output_type": "stream",
     "text": [
      "Epoch 39: 32% , Loss: 0.258395\n"
     ]
    },
    {
     "name": "stderr",
     "output_type": "stream",
     "text": [
      " 43%|████▎     | 402/932 [00:49<01:08,  7.76it/s]"
     ]
    },
    {
     "name": "stdout",
     "output_type": "stream",
     "text": [
      "Epoch 39: 43% , Loss: 0.344053\n"
     ]
    },
    {
     "name": "stderr",
     "output_type": "stream",
     "text": [
      " 54%|█████▍    | 502/932 [01:03<00:56,  7.65it/s]"
     ]
    },
    {
     "name": "stdout",
     "output_type": "stream",
     "text": [
      "Epoch 39: 54% , Loss: 0.158742\n"
     ]
    },
    {
     "name": "stderr",
     "output_type": "stream",
     "text": [
      " 65%|██████▍   | 602/932 [01:18<00:51,  6.41it/s]"
     ]
    },
    {
     "name": "stdout",
     "output_type": "stream",
     "text": [
      "Epoch 39: 64% , Loss: 0.442908\n"
     ]
    },
    {
     "name": "stderr",
     "output_type": "stream",
     "text": [
      " 75%|███████▌  | 702/932 [01:33<00:36,  6.27it/s]"
     ]
    },
    {
     "name": "stdout",
     "output_type": "stream",
     "text": [
      "Epoch 39: 75% , Loss: 0.191882\n"
     ]
    },
    {
     "name": "stderr",
     "output_type": "stream",
     "text": [
      " 86%|████████▌ | 801/932 [01:49<00:22,  5.88it/s]"
     ]
    },
    {
     "name": "stdout",
     "output_type": "stream",
     "text": [
      "Epoch 39: 86% , Loss: 0.966334\n"
     ]
    },
    {
     "name": "stderr",
     "output_type": "stream",
     "text": [
      " 97%|█████████▋| 901/932 [02:06<00:05,  6.16it/s]"
     ]
    },
    {
     "name": "stdout",
     "output_type": "stream",
     "text": [
      "Epoch 39: 97% , Loss: 0.415087\n"
     ]
    },
    {
     "name": "stderr",
     "output_type": "stream",
     "text": [
      "100%|██████████| 932/932 [02:11<00:00,  7.07it/s]\n"
     ]
    },
    {
     "name": "stdout",
     "output_type": "stream",
     "text": [
      "Epoch 39: 100% , Loss: 0.133230\n",
      "                      (F1-score: 0.0442)\n",
      "\n",
      "                      (NDCG: 0.0714)\n",
      "\n",
      "train_loss= tensor(0.4888)\n",
      "--------------------\n"
     ]
    },
    {
     "name": "stderr",
     "output_type": "stream",
     "text": [
      "100%|██████████| 133/133 [00:10<00:00, 12.74it/s]\n"
     ]
    },
    {
     "name": "stdout",
     "output_type": "stream",
     "text": [
      "                      (F1-score: 0.0408)\n",
      "\n",
      "                      (NDCG: 0.0659)\n",
      "\n",
      "val_loss= tensor(0.4386)\n",
      "--------------------\n"
     ]
    },
    {
     "name": "stderr",
     "output_type": "stream",
     "text": [
      "100%|██████████| 266/266 [00:21<00:00, 12.33it/s]\n"
     ]
    },
    {
     "name": "stdout",
     "output_type": "stream",
     "text": [
      "                      (F1-score: 0.0419)\n",
      "\n",
      "                      (NDCG: 0.0671)\n",
      "\n",
      "--------------------\n",
      "[[1, {'F1-score': 1.3426423200859293e-05}, {'NDCG': 7.968989754081668e-05}, 0.7953537106513977], [2, {'F1-score': 1.3426423200859293e-05}, {'NDCG': 7.968989754081668e-05}, 0.6858023405075073], [3, {'F1-score': 0.019103043976875064}, {'NDCG': 0.026571972600247403}, 0.5548844933509827], [4, {'F1-score': 0.02096858546187785}, {'NDCG': 0.04502920015834104}, 0.5526114106178284], [5, {'F1-score': 0.0354590595521211}, {'NDCG': 0.06195987741413869}, 0.5065855979919434], [6, {'F1-score': 0.04001724550510854}, {'NDCG': 0.0661786503886762}, 0.46960675716400146], [7, {'F1-score': 0.03779091447649205}, {'NDCG': 0.06406164879707578}, 0.4804374873638153], [8, {'F1-score': 0.040584136147165446}, {'NDCG': 0.06627678838943628}, 0.4667186737060547], [9, {'F1-score': 0.04058952926822324}, {'NDCG': 0.06623147309694748}, 0.45862865447998047], [10, {'F1-score': 0.040584136147165516}, {'NDCG': 0.0670063053152727}, 0.4817570149898529], [11, {'F1-score': 0.04158147724217505}, {'NDCG': 0.06707023027093899}, 0.4459657669067383], [12, {'F1-score': 0.03954475830888581}, {'NDCG': 0.06514711363619208}, 0.45868179202079773], [13, {'F1-score': 0.04154666799683949}, {'NDCG': 0.06700901980196736}, 0.45887869596481323], [14, {'F1-score': 0.04158147724217507}, {'NDCG': 0.06721850460801358}, 0.45013514161109924], [15, {'F1-score': 0.04138536532509799}, {'NDCG': 0.06757978630021103}, 0.46377432346343994], [16, {'F1-score': 0.041054382350920716}, {'NDCG': 0.0666698455614479}, 0.44927778840065], [17, {'F1-score': 0.04146422109894341}, {'NDCG': 0.06700026461350403}, 0.45049527287483215], [18, {'F1-score': 0.04105438235092071}, {'NDCG': 0.06661812614831597}, 0.4510195255279541], [19, {'F1-score': 0.041829547777608105}, {'NDCG': 0.06712048681438866}, 0.4386899173259735], [20, {'F1-score': 0.04093191317352164}, {'NDCG': 0.06627271250520546}, 0.4324909448623657], [21, {'F1-score': 0.041712527285200626}, {'NDCG': 0.06686701733422906}, 0.43909600377082825], [22, {'F1-score': 0.041596470096774966}, {'NDCG': 0.06663158744629613}, 0.44651371240615845], [23, {'F1-score': 0.04188483304961162}, {'NDCG': 0.06726529695359725}, 0.44020524621009827], [24, {'F1-score': 0.041875722441415825}, {'NDCG': 0.06715259264762465}, 0.4337669909000397], [25, {'F1-score': 0.041759519766403595}, {'NDCG': 0.0670157974950017}, 0.4470067322254181], [26, {'F1-score': 0.04188483304961165}, {'NDCG': 0.06707479472139052}, 0.44110390543937683], [27, {'F1-score': 0.04188483304961166}, {'NDCG': 0.06733244635108718}, 0.44488102197647095], [28, {'F1-score': 0.041456503823184214}, {'NDCG': 0.06660339801005066}, 0.43816784024238586], [29, {'F1-score': 0.04179939217469705}, {'NDCG': 0.06706785570648044}, 0.4451412856578827], [30, {'F1-score': 0.04074607712786823}, {'NDCG': 0.06634238444940936}, 0.44493621587753296], [31, {'F1-score': 0.04163511593788657}, {'NDCG': 0.06670226508933574}, 0.44865429401397705], [32, {'F1-score': 0.04179339971514426}, {'NDCG': 0.066950239682276}, 0.4361487329006195], [33, {'F1-score': 0.040294844051835796}, {'NDCG': 0.06575927603289597}, 0.442504346370697], [34, {'F1-score': 0.03942821066210796}, {'NDCG': 0.06529323660061323}, 0.44157904386520386], [35, {'F1-score': 0.041790848087205575}, {'NDCG': 0.06717998595712216}, 0.4472059905529022], [36, {'F1-score': 0.04169101957490024}, {'NDCG': 0.06682919933201563}, 0.4444219172000885], [37, {'F1-score': 0.04188483304961165}, {'NDCG': 0.06707479472139052}, 0.44721364974975586], [38, {'F1-score': 0.04181253692468395}, {'NDCG': 0.06693259432659786}, 0.43728116154670715], [39, {'F1-score': 0.04188483304961164}, {'NDCG': 0.06707479472139052}, 0.4385536015033722]]\n",
      "-----------------------------------------------------------------------------------------\n"
     ]
    },
    {
     "name": "stderr",
     "output_type": "stream",
     "text": [
      "  0%|          | 2/932 [00:00<01:49,  8.46it/s]"
     ]
    },
    {
     "name": "stdout",
     "output_type": "stream",
     "text": [
      "Epoch 40: 0% , Loss: 0.244135\n"
     ]
    },
    {
     "name": "stderr",
     "output_type": "stream",
     "text": [
      " 11%|█         | 102/932 [00:12<01:36,  8.64it/s]"
     ]
    },
    {
     "name": "stdout",
     "output_type": "stream",
     "text": [
      "Epoch 40: 11% , Loss: 1.601272\n"
     ]
    },
    {
     "name": "stderr",
     "output_type": "stream",
     "text": [
      " 22%|██▏       | 202/932 [00:24<01:32,  7.86it/s]"
     ]
    },
    {
     "name": "stdout",
     "output_type": "stream",
     "text": [
      "Epoch 40: 21% , Loss: 0.634556\n"
     ]
    },
    {
     "name": "stderr",
     "output_type": "stream",
     "text": [
      " 32%|███▏      | 302/932 [00:36<01:25,  7.34it/s]"
     ]
    },
    {
     "name": "stdout",
     "output_type": "stream",
     "text": [
      "Epoch 40: 32% , Loss: 0.697689\n"
     ]
    },
    {
     "name": "stderr",
     "output_type": "stream",
     "text": [
      " 43%|████▎     | 402/932 [00:50<01:15,  7.05it/s]"
     ]
    },
    {
     "name": "stdout",
     "output_type": "stream",
     "text": [
      "Epoch 40: 43% , Loss: 0.169253\n"
     ]
    },
    {
     "name": "stderr",
     "output_type": "stream",
     "text": [
      " 54%|█████▍    | 502/932 [01:04<01:01,  6.99it/s]"
     ]
    },
    {
     "name": "stdout",
     "output_type": "stream",
     "text": [
      "Epoch 40: 54% , Loss: 0.270534\n"
     ]
    },
    {
     "name": "stderr",
     "output_type": "stream",
     "text": [
      " 65%|██████▍   | 602/932 [01:18<00:49,  6.70it/s]"
     ]
    },
    {
     "name": "stdout",
     "output_type": "stream",
     "text": [
      "Epoch 40: 64% , Loss: 0.167824\n"
     ]
    },
    {
     "name": "stderr",
     "output_type": "stream",
     "text": [
      " 75%|███████▌  | 701/932 [01:33<00:35,  6.47it/s]"
     ]
    },
    {
     "name": "stdout",
     "output_type": "stream",
     "text": [
      "Epoch 40: 75% , Loss: 0.588785\n"
     ]
    },
    {
     "name": "stderr",
     "output_type": "stream",
     "text": [
      " 86%|████████▌ | 801/932 [01:49<00:19,  6.71it/s]"
     ]
    },
    {
     "name": "stdout",
     "output_type": "stream",
     "text": [
      "Epoch 40: 86% , Loss: 0.860120\n"
     ]
    },
    {
     "name": "stderr",
     "output_type": "stream",
     "text": [
      " 97%|█████████▋| 901/932 [02:06<00:05,  5.90it/s]"
     ]
    },
    {
     "name": "stdout",
     "output_type": "stream",
     "text": [
      "Epoch 40: 97% , Loss: 0.451797\n"
     ]
    },
    {
     "name": "stderr",
     "output_type": "stream",
     "text": [
      "100%|██████████| 932/932 [02:11<00:00,  7.07it/s]\n"
     ]
    },
    {
     "name": "stdout",
     "output_type": "stream",
     "text": [
      "Epoch 40: 100% , Loss: 0.359862\n",
      "                      (F1-score: 0.0437)\n",
      "\n",
      "                      (NDCG: 0.0711)\n",
      "\n",
      "train_loss= tensor(0.4883)\n",
      "--------------------\n"
     ]
    },
    {
     "name": "stderr",
     "output_type": "stream",
     "text": [
      "100%|██████████| 133/133 [00:10<00:00, 12.83it/s]\n"
     ]
    },
    {
     "name": "stdout",
     "output_type": "stream",
     "text": [
      "                      (F1-score: 0.0404)\n",
      "\n",
      "                      (NDCG: 0.0657)\n",
      "\n",
      "val_loss= tensor(0.4536)\n",
      "--------------------\n"
     ]
    },
    {
     "name": "stderr",
     "output_type": "stream",
     "text": [
      "100%|██████████| 266/266 [00:21<00:00, 12.18it/s]\n"
     ]
    },
    {
     "name": "stdout",
     "output_type": "stream",
     "text": [
      "                      (F1-score: 0.0418)\n",
      "\n",
      "                      (NDCG: 0.0669)\n",
      "\n",
      "--------------------\n",
      "[[1, {'F1-score': 1.3426423200859293e-05}, {'NDCG': 7.968989754081668e-05}, 0.7953537106513977], [2, {'F1-score': 1.3426423200859293e-05}, {'NDCG': 7.968989754081668e-05}, 0.6858023405075073], [3, {'F1-score': 0.019103043976875064}, {'NDCG': 0.026571972600247403}, 0.5548844933509827], [4, {'F1-score': 0.02096858546187785}, {'NDCG': 0.04502920015834104}, 0.5526114106178284], [5, {'F1-score': 0.0354590595521211}, {'NDCG': 0.06195987741413869}, 0.5065855979919434], [6, {'F1-score': 0.04001724550510854}, {'NDCG': 0.0661786503886762}, 0.46960675716400146], [7, {'F1-score': 0.03779091447649205}, {'NDCG': 0.06406164879707578}, 0.4804374873638153], [8, {'F1-score': 0.040584136147165446}, {'NDCG': 0.06627678838943628}, 0.4667186737060547], [9, {'F1-score': 0.04058952926822324}, {'NDCG': 0.06623147309694748}, 0.45862865447998047], [10, {'F1-score': 0.040584136147165516}, {'NDCG': 0.0670063053152727}, 0.4817570149898529], [11, {'F1-score': 0.04158147724217505}, {'NDCG': 0.06707023027093899}, 0.4459657669067383], [12, {'F1-score': 0.03954475830888581}, {'NDCG': 0.06514711363619208}, 0.45868179202079773], [13, {'F1-score': 0.04154666799683949}, {'NDCG': 0.06700901980196736}, 0.45887869596481323], [14, {'F1-score': 0.04158147724217507}, {'NDCG': 0.06721850460801358}, 0.45013514161109924], [15, {'F1-score': 0.04138536532509799}, {'NDCG': 0.06757978630021103}, 0.46377432346343994], [16, {'F1-score': 0.041054382350920716}, {'NDCG': 0.0666698455614479}, 0.44927778840065], [17, {'F1-score': 0.04146422109894341}, {'NDCG': 0.06700026461350403}, 0.45049527287483215], [18, {'F1-score': 0.04105438235092071}, {'NDCG': 0.06661812614831597}, 0.4510195255279541], [19, {'F1-score': 0.041829547777608105}, {'NDCG': 0.06712048681438866}, 0.4386899173259735], [20, {'F1-score': 0.04093191317352164}, {'NDCG': 0.06627271250520546}, 0.4324909448623657], [21, {'F1-score': 0.041712527285200626}, {'NDCG': 0.06686701733422906}, 0.43909600377082825], [22, {'F1-score': 0.041596470096774966}, {'NDCG': 0.06663158744629613}, 0.44651371240615845], [23, {'F1-score': 0.04188483304961162}, {'NDCG': 0.06726529695359725}, 0.44020524621009827], [24, {'F1-score': 0.041875722441415825}, {'NDCG': 0.06715259264762465}, 0.4337669909000397], [25, {'F1-score': 0.041759519766403595}, {'NDCG': 0.0670157974950017}, 0.4470067322254181], [26, {'F1-score': 0.04188483304961165}, {'NDCG': 0.06707479472139052}, 0.44110390543937683], [27, {'F1-score': 0.04188483304961166}, {'NDCG': 0.06733244635108718}, 0.44488102197647095], [28, {'F1-score': 0.041456503823184214}, {'NDCG': 0.06660339801005066}, 0.43816784024238586], [29, {'F1-score': 0.04179939217469705}, {'NDCG': 0.06706785570648044}, 0.4451412856578827], [30, {'F1-score': 0.04074607712786823}, {'NDCG': 0.06634238444940936}, 0.44493621587753296], [31, {'F1-score': 0.04163511593788657}, {'NDCG': 0.06670226508933574}, 0.44865429401397705], [32, {'F1-score': 0.04179339971514426}, {'NDCG': 0.066950239682276}, 0.4361487329006195], [33, {'F1-score': 0.040294844051835796}, {'NDCG': 0.06575927603289597}, 0.442504346370697], [34, {'F1-score': 0.03942821066210796}, {'NDCG': 0.06529323660061323}, 0.44157904386520386], [35, {'F1-score': 0.041790848087205575}, {'NDCG': 0.06717998595712216}, 0.4472059905529022], [36, {'F1-score': 0.04169101957490024}, {'NDCG': 0.06682919933201563}, 0.4444219172000885], [37, {'F1-score': 0.04188483304961165}, {'NDCG': 0.06707479472139052}, 0.44721364974975586], [38, {'F1-score': 0.04181253692468395}, {'NDCG': 0.06693259432659786}, 0.43728116154670715], [39, {'F1-score': 0.04188483304961164}, {'NDCG': 0.06707479472139052}, 0.4385536015033722], [40, {'F1-score': 0.041766867088420895}, {'NDCG': 0.06691069729780232}, 0.4536215364933014]]\n",
      "-----------------------------------------------------------------------------------------\n"
     ]
    },
    {
     "name": "stderr",
     "output_type": "stream",
     "text": [
      "\r",
      "  0%|          | 0/932 [00:00<?, ?it/s]"
     ]
    },
    {
     "name": "stdout",
     "output_type": "stream",
     "text": [
      "Epoch 41: 0% , Loss: 0.225223\n"
     ]
    },
    {
     "name": "stderr",
     "output_type": "stream",
     "text": [
      " 11%|█         | 102/932 [00:11<01:39,  8.35it/s]"
     ]
    },
    {
     "name": "stdout",
     "output_type": "stream",
     "text": [
      "Epoch 41: 11% , Loss: 0.154232\n"
     ]
    },
    {
     "name": "stderr",
     "output_type": "stream",
     "text": [
      " 22%|██▏       | 202/932 [00:23<01:29,  8.17it/s]"
     ]
    },
    {
     "name": "stdout",
     "output_type": "stream",
     "text": [
      "Epoch 41: 21% , Loss: 0.480755\n"
     ]
    },
    {
     "name": "stderr",
     "output_type": "stream",
     "text": [
      " 32%|███▏      | 302/932 [00:36<01:22,  7.61it/s]"
     ]
    },
    {
     "name": "stdout",
     "output_type": "stream",
     "text": [
      "Epoch 41: 32% , Loss: 0.132142\n"
     ]
    },
    {
     "name": "stderr",
     "output_type": "stream",
     "text": [
      " 43%|████▎     | 402/932 [00:50<01:16,  6.91it/s]"
     ]
    },
    {
     "name": "stdout",
     "output_type": "stream",
     "text": [
      "Epoch 41: 43% , Loss: 0.293260\n"
     ]
    },
    {
     "name": "stderr",
     "output_type": "stream",
     "text": [
      " 54%|█████▍    | 502/932 [01:03<00:59,  7.28it/s]"
     ]
    },
    {
     "name": "stdout",
     "output_type": "stream",
     "text": [
      "Epoch 41: 54% , Loss: 0.759217\n"
     ]
    },
    {
     "name": "stderr",
     "output_type": "stream",
     "text": [
      " 65%|██████▍   | 602/932 [01:18<00:48,  6.81it/s]"
     ]
    },
    {
     "name": "stdout",
     "output_type": "stream",
     "text": [
      "Epoch 41: 64% , Loss: 0.237792\n"
     ]
    },
    {
     "name": "stderr",
     "output_type": "stream",
     "text": [
      " 75%|███████▌  | 701/932 [01:33<00:37,  6.16it/s]"
     ]
    },
    {
     "name": "stdout",
     "output_type": "stream",
     "text": [
      "Epoch 41: 75% , Loss: 0.477913\n"
     ]
    },
    {
     "name": "stderr",
     "output_type": "stream",
     "text": [
      " 86%|████████▌ | 801/932 [01:49<00:21,  6.02it/s]"
     ]
    },
    {
     "name": "stdout",
     "output_type": "stream",
     "text": [
      "Epoch 41: 86% , Loss: 0.342874\n"
     ]
    },
    {
     "name": "stderr",
     "output_type": "stream",
     "text": [
      " 97%|█████████▋| 901/932 [02:06<00:05,  6.00it/s]"
     ]
    },
    {
     "name": "stdout",
     "output_type": "stream",
     "text": [
      "Epoch 41: 97% , Loss: 0.231919\n"
     ]
    },
    {
     "name": "stderr",
     "output_type": "stream",
     "text": [
      "100%|██████████| 932/932 [02:11<00:00,  7.07it/s]\n"
     ]
    },
    {
     "name": "stdout",
     "output_type": "stream",
     "text": [
      "Epoch 41: 100% , Loss: 0.144596\n",
      "                      (F1-score: 0.0446)\n",
      "\n",
      "                      (NDCG: 0.0718)\n",
      "\n",
      "train_loss= tensor(0.4890)\n",
      "--------------------\n"
     ]
    },
    {
     "name": "stderr",
     "output_type": "stream",
     "text": [
      "100%|██████████| 133/133 [00:10<00:00, 12.49it/s]\n"
     ]
    },
    {
     "name": "stdout",
     "output_type": "stream",
     "text": [
      "                      (F1-score: 0.0401)\n",
      "\n",
      "                      (NDCG: 0.0656)\n",
      "\n",
      "val_loss= tensor(0.4447)\n",
      "--------------------\n"
     ]
    },
    {
     "name": "stderr",
     "output_type": "stream",
     "text": [
      "100%|██████████| 266/266 [00:21<00:00, 12.30it/s]\n"
     ]
    },
    {
     "name": "stdout",
     "output_type": "stream",
     "text": [
      "                      (F1-score: 0.0415)\n",
      "\n",
      "                      (NDCG: 0.0668)\n",
      "\n",
      "--------------------\n",
      "[[1, {'F1-score': 1.3426423200859293e-05}, {'NDCG': 7.968989754081668e-05}, 0.7953537106513977], [2, {'F1-score': 1.3426423200859293e-05}, {'NDCG': 7.968989754081668e-05}, 0.6858023405075073], [3, {'F1-score': 0.019103043976875064}, {'NDCG': 0.026571972600247403}, 0.5548844933509827], [4, {'F1-score': 0.02096858546187785}, {'NDCG': 0.04502920015834104}, 0.5526114106178284], [5, {'F1-score': 0.0354590595521211}, {'NDCG': 0.06195987741413869}, 0.5065855979919434], [6, {'F1-score': 0.04001724550510854}, {'NDCG': 0.0661786503886762}, 0.46960675716400146], [7, {'F1-score': 0.03779091447649205}, {'NDCG': 0.06406164879707578}, 0.4804374873638153], [8, {'F1-score': 0.040584136147165446}, {'NDCG': 0.06627678838943628}, 0.4667186737060547], [9, {'F1-score': 0.04058952926822324}, {'NDCG': 0.06623147309694748}, 0.45862865447998047], [10, {'F1-score': 0.040584136147165516}, {'NDCG': 0.0670063053152727}, 0.4817570149898529], [11, {'F1-score': 0.04158147724217505}, {'NDCG': 0.06707023027093899}, 0.4459657669067383], [12, {'F1-score': 0.03954475830888581}, {'NDCG': 0.06514711363619208}, 0.45868179202079773], [13, {'F1-score': 0.04154666799683949}, {'NDCG': 0.06700901980196736}, 0.45887869596481323], [14, {'F1-score': 0.04158147724217507}, {'NDCG': 0.06721850460801358}, 0.45013514161109924], [15, {'F1-score': 0.04138536532509799}, {'NDCG': 0.06757978630021103}, 0.46377432346343994], [16, {'F1-score': 0.041054382350920716}, {'NDCG': 0.0666698455614479}, 0.44927778840065], [17, {'F1-score': 0.04146422109894341}, {'NDCG': 0.06700026461350403}, 0.45049527287483215], [18, {'F1-score': 0.04105438235092071}, {'NDCG': 0.06661812614831597}, 0.4510195255279541], [19, {'F1-score': 0.041829547777608105}, {'NDCG': 0.06712048681438866}, 0.4386899173259735], [20, {'F1-score': 0.04093191317352164}, {'NDCG': 0.06627271250520546}, 0.4324909448623657], [21, {'F1-score': 0.041712527285200626}, {'NDCG': 0.06686701733422906}, 0.43909600377082825], [22, {'F1-score': 0.041596470096774966}, {'NDCG': 0.06663158744629613}, 0.44651371240615845], [23, {'F1-score': 0.04188483304961162}, {'NDCG': 0.06726529695359725}, 0.44020524621009827], [24, {'F1-score': 0.041875722441415825}, {'NDCG': 0.06715259264762465}, 0.4337669909000397], [25, {'F1-score': 0.041759519766403595}, {'NDCG': 0.0670157974950017}, 0.4470067322254181], [26, {'F1-score': 0.04188483304961165}, {'NDCG': 0.06707479472139052}, 0.44110390543937683], [27, {'F1-score': 0.04188483304961166}, {'NDCG': 0.06733244635108718}, 0.44488102197647095], [28, {'F1-score': 0.041456503823184214}, {'NDCG': 0.06660339801005066}, 0.43816784024238586], [29, {'F1-score': 0.04179939217469705}, {'NDCG': 0.06706785570648044}, 0.4451412856578827], [30, {'F1-score': 0.04074607712786823}, {'NDCG': 0.06634238444940936}, 0.44493621587753296], [31, {'F1-score': 0.04163511593788657}, {'NDCG': 0.06670226508933574}, 0.44865429401397705], [32, {'F1-score': 0.04179339971514426}, {'NDCG': 0.066950239682276}, 0.4361487329006195], [33, {'F1-score': 0.040294844051835796}, {'NDCG': 0.06575927603289597}, 0.442504346370697], [34, {'F1-score': 0.03942821066210796}, {'NDCG': 0.06529323660061323}, 0.44157904386520386], [35, {'F1-score': 0.041790848087205575}, {'NDCG': 0.06717998595712216}, 0.4472059905529022], [36, {'F1-score': 0.04169101957490024}, {'NDCG': 0.06682919933201563}, 0.4444219172000885], [37, {'F1-score': 0.04188483304961165}, {'NDCG': 0.06707479472139052}, 0.44721364974975586], [38, {'F1-score': 0.04181253692468395}, {'NDCG': 0.06693259432659786}, 0.43728116154670715], [39, {'F1-score': 0.04188483304961164}, {'NDCG': 0.06707479472139052}, 0.4385536015033722], [40, {'F1-score': 0.041766867088420895}, {'NDCG': 0.06691069729780232}, 0.4536215364933014], [41, {'F1-score': 0.04152664370220594}, {'NDCG': 0.06679002065351583}, 0.44467735290527344]]\n",
      "-----------------------------------------------------------------------------------------\n"
     ]
    },
    {
     "name": "stderr",
     "output_type": "stream",
     "text": [
      "\r",
      "  0%|          | 0/932 [00:00<?, ?it/s]"
     ]
    },
    {
     "name": "stdout",
     "output_type": "stream",
     "text": [
      "Epoch 42: 0% , Loss: 0.288163\n"
     ]
    },
    {
     "name": "stderr",
     "output_type": "stream",
     "text": [
      " 11%|█         | 102/932 [00:11<01:37,  8.52it/s]"
     ]
    },
    {
     "name": "stdout",
     "output_type": "stream",
     "text": [
      "Epoch 42: 11% , Loss: 0.249586\n"
     ]
    },
    {
     "name": "stderr",
     "output_type": "stream",
     "text": [
      " 22%|██▏       | 202/932 [00:23<01:28,  8.27it/s]"
     ]
    },
    {
     "name": "stdout",
     "output_type": "stream",
     "text": [
      "Epoch 42: 21% , Loss: 0.148833\n"
     ]
    },
    {
     "name": "stderr",
     "output_type": "stream",
     "text": [
      " 32%|███▏      | 302/932 [00:36<01:18,  8.01it/s]"
     ]
    },
    {
     "name": "stdout",
     "output_type": "stream",
     "text": [
      "Epoch 42: 32% , Loss: 0.310776\n"
     ]
    },
    {
     "name": "stderr",
     "output_type": "stream",
     "text": [
      " 43%|████▎     | 402/932 [00:50<01:14,  7.08it/s]"
     ]
    },
    {
     "name": "stdout",
     "output_type": "stream",
     "text": [
      "Epoch 42: 43% , Loss: 1.675353\n"
     ]
    },
    {
     "name": "stderr",
     "output_type": "stream",
     "text": [
      " 54%|█████▍    | 502/932 [01:04<01:02,  6.84it/s]"
     ]
    },
    {
     "name": "stdout",
     "output_type": "stream",
     "text": [
      "Epoch 42: 54% , Loss: 0.258218\n"
     ]
    },
    {
     "name": "stderr",
     "output_type": "stream",
     "text": [
      " 65%|██████▍   | 602/932 [01:18<00:45,  7.22it/s]"
     ]
    },
    {
     "name": "stdout",
     "output_type": "stream",
     "text": [
      "Epoch 42: 64% , Loss: 0.873926\n"
     ]
    },
    {
     "name": "stderr",
     "output_type": "stream",
     "text": [
      " 75%|███████▌  | 701/932 [01:34<00:38,  6.07it/s]"
     ]
    },
    {
     "name": "stdout",
     "output_type": "stream",
     "text": [
      "Epoch 42: 75% , Loss: 0.900123\n"
     ]
    },
    {
     "name": "stderr",
     "output_type": "stream",
     "text": [
      " 86%|████████▌ | 801/932 [01:50<00:20,  6.24it/s]"
     ]
    },
    {
     "name": "stdout",
     "output_type": "stream",
     "text": [
      "Epoch 42: 86% , Loss: 0.157067\n"
     ]
    },
    {
     "name": "stderr",
     "output_type": "stream",
     "text": [
      " 97%|█████████▋| 901/932 [02:07<00:05,  5.89it/s]"
     ]
    },
    {
     "name": "stdout",
     "output_type": "stream",
     "text": [
      "Epoch 42: 97% , Loss: 0.352601\n"
     ]
    },
    {
     "name": "stderr",
     "output_type": "stream",
     "text": [
      "100%|██████████| 932/932 [02:12<00:00,  7.04it/s]"
     ]
    },
    {
     "name": "stdout",
     "output_type": "stream",
     "text": [
      "Epoch 42: 100% , Loss: 0.276089\n"
     ]
    },
    {
     "name": "stderr",
     "output_type": "stream",
     "text": [
      "\n"
     ]
    },
    {
     "name": "stdout",
     "output_type": "stream",
     "text": [
      "                      (F1-score: 0.0436)\n",
      "\n",
      "                      (NDCG: 0.0711)\n",
      "\n",
      "train_loss= tensor(0.4887)\n",
      "--------------------\n"
     ]
    },
    {
     "name": "stderr",
     "output_type": "stream",
     "text": [
      "100%|██████████| 133/133 [00:10<00:00, 12.84it/s]\n"
     ]
    },
    {
     "name": "stdout",
     "output_type": "stream",
     "text": [
      "                      (F1-score: 0.0408)\n",
      "\n",
      "                      (NDCG: 0.0659)\n",
      "\n",
      "val_loss= tensor(0.4418)\n",
      "--------------------\n"
     ]
    },
    {
     "name": "stderr",
     "output_type": "stream",
     "text": [
      "100%|██████████| 266/266 [00:22<00:00, 12.08it/s]\n"
     ]
    },
    {
     "name": "stdout",
     "output_type": "stream",
     "text": [
      "                      (F1-score: 0.0419)\n",
      "\n",
      "                      (NDCG: 0.0671)\n",
      "\n",
      "--------------------\n",
      "[[1, {'F1-score': 1.3426423200859293e-05}, {'NDCG': 7.968989754081668e-05}, 0.7953537106513977], [2, {'F1-score': 1.3426423200859293e-05}, {'NDCG': 7.968989754081668e-05}, 0.6858023405075073], [3, {'F1-score': 0.019103043976875064}, {'NDCG': 0.026571972600247403}, 0.5548844933509827], [4, {'F1-score': 0.02096858546187785}, {'NDCG': 0.04502920015834104}, 0.5526114106178284], [5, {'F1-score': 0.0354590595521211}, {'NDCG': 0.06195987741413869}, 0.5065855979919434], [6, {'F1-score': 0.04001724550510854}, {'NDCG': 0.0661786503886762}, 0.46960675716400146], [7, {'F1-score': 0.03779091447649205}, {'NDCG': 0.06406164879707578}, 0.4804374873638153], [8, {'F1-score': 0.040584136147165446}, {'NDCG': 0.06627678838943628}, 0.4667186737060547], [9, {'F1-score': 0.04058952926822324}, {'NDCG': 0.06623147309694748}, 0.45862865447998047], [10, {'F1-score': 0.040584136147165516}, {'NDCG': 0.0670063053152727}, 0.4817570149898529], [11, {'F1-score': 0.04158147724217505}, {'NDCG': 0.06707023027093899}, 0.4459657669067383], [12, {'F1-score': 0.03954475830888581}, {'NDCG': 0.06514711363619208}, 0.45868179202079773], [13, {'F1-score': 0.04154666799683949}, {'NDCG': 0.06700901980196736}, 0.45887869596481323], [14, {'F1-score': 0.04158147724217507}, {'NDCG': 0.06721850460801358}, 0.45013514161109924], [15, {'F1-score': 0.04138536532509799}, {'NDCG': 0.06757978630021103}, 0.46377432346343994], [16, {'F1-score': 0.041054382350920716}, {'NDCG': 0.0666698455614479}, 0.44927778840065], [17, {'F1-score': 0.04146422109894341}, {'NDCG': 0.06700026461350403}, 0.45049527287483215], [18, {'F1-score': 0.04105438235092071}, {'NDCG': 0.06661812614831597}, 0.4510195255279541], [19, {'F1-score': 0.041829547777608105}, {'NDCG': 0.06712048681438866}, 0.4386899173259735], [20, {'F1-score': 0.04093191317352164}, {'NDCG': 0.06627271250520546}, 0.4324909448623657], [21, {'F1-score': 0.041712527285200626}, {'NDCG': 0.06686701733422906}, 0.43909600377082825], [22, {'F1-score': 0.041596470096774966}, {'NDCG': 0.06663158744629613}, 0.44651371240615845], [23, {'F1-score': 0.04188483304961162}, {'NDCG': 0.06726529695359725}, 0.44020524621009827], [24, {'F1-score': 0.041875722441415825}, {'NDCG': 0.06715259264762465}, 0.4337669909000397], [25, {'F1-score': 0.041759519766403595}, {'NDCG': 0.0670157974950017}, 0.4470067322254181], [26, {'F1-score': 0.04188483304961165}, {'NDCG': 0.06707479472139052}, 0.44110390543937683], [27, {'F1-score': 0.04188483304961166}, {'NDCG': 0.06733244635108718}, 0.44488102197647095], [28, {'F1-score': 0.041456503823184214}, {'NDCG': 0.06660339801005066}, 0.43816784024238586], [29, {'F1-score': 0.04179939217469705}, {'NDCG': 0.06706785570648044}, 0.4451412856578827], [30, {'F1-score': 0.04074607712786823}, {'NDCG': 0.06634238444940936}, 0.44493621587753296], [31, {'F1-score': 0.04163511593788657}, {'NDCG': 0.06670226508933574}, 0.44865429401397705], [32, {'F1-score': 0.04179339971514426}, {'NDCG': 0.066950239682276}, 0.4361487329006195], [33, {'F1-score': 0.040294844051835796}, {'NDCG': 0.06575927603289597}, 0.442504346370697], [34, {'F1-score': 0.03942821066210796}, {'NDCG': 0.06529323660061323}, 0.44157904386520386], [35, {'F1-score': 0.041790848087205575}, {'NDCG': 0.06717998595712216}, 0.4472059905529022], [36, {'F1-score': 0.04169101957490024}, {'NDCG': 0.06682919933201563}, 0.4444219172000885], [37, {'F1-score': 0.04188483304961165}, {'NDCG': 0.06707479472139052}, 0.44721364974975586], [38, {'F1-score': 0.04181253692468395}, {'NDCG': 0.06693259432659786}, 0.43728116154670715], [39, {'F1-score': 0.04188483304961164}, {'NDCG': 0.06707479472139052}, 0.4385536015033722], [40, {'F1-score': 0.041766867088420895}, {'NDCG': 0.06691069729780232}, 0.4536215364933014], [41, {'F1-score': 0.04152664370220594}, {'NDCG': 0.06679002065351583}, 0.44467735290527344], [42, {'F1-score': 0.04188483304961162}, {'NDCG': 0.06714686300759588}, 0.4418374300003052]]\n",
      "-----------------------------------------------------------------------------------------\n"
     ]
    },
    {
     "name": "stderr",
     "output_type": "stream",
     "text": [
      "  0%|          | 2/932 [00:00<01:41,  9.21it/s]"
     ]
    },
    {
     "name": "stdout",
     "output_type": "stream",
     "text": [
      "Epoch 43: 0% , Loss: 0.308496\n"
     ]
    },
    {
     "name": "stderr",
     "output_type": "stream",
     "text": [
      " 11%|█         | 102/932 [00:11<01:36,  8.62it/s]"
     ]
    },
    {
     "name": "stdout",
     "output_type": "stream",
     "text": [
      "Epoch 43: 11% , Loss: 0.341323\n"
     ]
    },
    {
     "name": "stderr",
     "output_type": "stream",
     "text": [
      " 22%|██▏       | 202/932 [00:23<01:30,  8.10it/s]"
     ]
    },
    {
     "name": "stdout",
     "output_type": "stream",
     "text": [
      "Epoch 43: 21% , Loss: 0.946023\n"
     ]
    },
    {
     "name": "stderr",
     "output_type": "stream",
     "text": [
      " 32%|███▏      | 302/932 [00:36<01:24,  7.46it/s]"
     ]
    },
    {
     "name": "stdout",
     "output_type": "stream",
     "text": [
      "Epoch 43: 32% , Loss: 0.326161\n"
     ]
    },
    {
     "name": "stderr",
     "output_type": "stream",
     "text": [
      " 43%|████▎     | 402/932 [00:49<01:09,  7.68it/s]"
     ]
    },
    {
     "name": "stdout",
     "output_type": "stream",
     "text": [
      "Epoch 43: 43% , Loss: 0.201168\n"
     ]
    },
    {
     "name": "stderr",
     "output_type": "stream",
     "text": [
      " 54%|█████▍    | 502/932 [01:04<01:01,  7.02it/s]"
     ]
    },
    {
     "name": "stdout",
     "output_type": "stream",
     "text": [
      "Epoch 43: 54% , Loss: 0.392070\n"
     ]
    },
    {
     "name": "stderr",
     "output_type": "stream",
     "text": [
      " 65%|██████▍   | 602/932 [01:18<00:51,  6.44it/s]"
     ]
    },
    {
     "name": "stdout",
     "output_type": "stream",
     "text": [
      "Epoch 43: 64% , Loss: 0.159439\n"
     ]
    },
    {
     "name": "stderr",
     "output_type": "stream",
     "text": [
      " 75%|███████▌  | 702/932 [01:33<00:34,  6.58it/s]"
     ]
    },
    {
     "name": "stdout",
     "output_type": "stream",
     "text": [
      "Epoch 43: 75% , Loss: 0.211704\n"
     ]
    },
    {
     "name": "stderr",
     "output_type": "stream",
     "text": [
      " 86%|████████▌ | 801/932 [01:49<00:20,  6.38it/s]"
     ]
    },
    {
     "name": "stdout",
     "output_type": "stream",
     "text": [
      "Epoch 43: 86% , Loss: 0.231461\n"
     ]
    },
    {
     "name": "stderr",
     "output_type": "stream",
     "text": [
      " 97%|█████████▋| 901/932 [02:06<00:06,  5.04it/s]"
     ]
    },
    {
     "name": "stdout",
     "output_type": "stream",
     "text": [
      "Epoch 43: 97% , Loss: 0.121180\n"
     ]
    },
    {
     "name": "stderr",
     "output_type": "stream",
     "text": [
      "100%|██████████| 932/932 [02:11<00:00,  7.08it/s]"
     ]
    },
    {
     "name": "stdout",
     "output_type": "stream",
     "text": [
      "Epoch 43: 100% , Loss: 0.749340\n"
     ]
    },
    {
     "name": "stderr",
     "output_type": "stream",
     "text": [
      "\n"
     ]
    },
    {
     "name": "stdout",
     "output_type": "stream",
     "text": [
      "                      (F1-score: 0.0440)\n",
      "\n",
      "                      (NDCG: 0.0713)\n",
      "\n",
      "train_loss= tensor(0.4897)\n",
      "--------------------\n"
     ]
    },
    {
     "name": "stderr",
     "output_type": "stream",
     "text": [
      "100%|██████████| 133/133 [00:10<00:00, 12.84it/s]\n"
     ]
    },
    {
     "name": "stdout",
     "output_type": "stream",
     "text": [
      "                      (F1-score: 0.0397)\n",
      "\n",
      "                      (NDCG: 0.0652)\n",
      "\n",
      "val_loss= tensor(0.4323)\n",
      "--------------------\n"
     ]
    },
    {
     "name": "stderr",
     "output_type": "stream",
     "text": [
      "100%|██████████| 266/266 [00:22<00:00, 12.03it/s]\n"
     ]
    },
    {
     "name": "stdout",
     "output_type": "stream",
     "text": [
      "                      (F1-score: 0.0411)\n",
      "\n",
      "                      (NDCG: 0.0667)\n",
      "\n",
      "--------------------\n",
      "[[1, {'F1-score': 1.3426423200859293e-05}, {'NDCG': 7.968989754081668e-05}, 0.7953537106513977], [2, {'F1-score': 1.3426423200859293e-05}, {'NDCG': 7.968989754081668e-05}, 0.6858023405075073], [3, {'F1-score': 0.019103043976875064}, {'NDCG': 0.026571972600247403}, 0.5548844933509827], [4, {'F1-score': 0.02096858546187785}, {'NDCG': 0.04502920015834104}, 0.5526114106178284], [5, {'F1-score': 0.0354590595521211}, {'NDCG': 0.06195987741413869}, 0.5065855979919434], [6, {'F1-score': 0.04001724550510854}, {'NDCG': 0.0661786503886762}, 0.46960675716400146], [7, {'F1-score': 0.03779091447649205}, {'NDCG': 0.06406164879707578}, 0.4804374873638153], [8, {'F1-score': 0.040584136147165446}, {'NDCG': 0.06627678838943628}, 0.4667186737060547], [9, {'F1-score': 0.04058952926822324}, {'NDCG': 0.06623147309694748}, 0.45862865447998047], [10, {'F1-score': 0.040584136147165516}, {'NDCG': 0.0670063053152727}, 0.4817570149898529], [11, {'F1-score': 0.04158147724217505}, {'NDCG': 0.06707023027093899}, 0.4459657669067383], [12, {'F1-score': 0.03954475830888581}, {'NDCG': 0.06514711363619208}, 0.45868179202079773], [13, {'F1-score': 0.04154666799683949}, {'NDCG': 0.06700901980196736}, 0.45887869596481323], [14, {'F1-score': 0.04158147724217507}, {'NDCG': 0.06721850460801358}, 0.45013514161109924], [15, {'F1-score': 0.04138536532509799}, {'NDCG': 0.06757978630021103}, 0.46377432346343994], [16, {'F1-score': 0.041054382350920716}, {'NDCG': 0.0666698455614479}, 0.44927778840065], [17, {'F1-score': 0.04146422109894341}, {'NDCG': 0.06700026461350403}, 0.45049527287483215], [18, {'F1-score': 0.04105438235092071}, {'NDCG': 0.06661812614831597}, 0.4510195255279541], [19, {'F1-score': 0.041829547777608105}, {'NDCG': 0.06712048681438866}, 0.4386899173259735], [20, {'F1-score': 0.04093191317352164}, {'NDCG': 0.06627271250520546}, 0.4324909448623657], [21, {'F1-score': 0.041712527285200626}, {'NDCG': 0.06686701733422906}, 0.43909600377082825], [22, {'F1-score': 0.041596470096774966}, {'NDCG': 0.06663158744629613}, 0.44651371240615845], [23, {'F1-score': 0.04188483304961162}, {'NDCG': 0.06726529695359725}, 0.44020524621009827], [24, {'F1-score': 0.041875722441415825}, {'NDCG': 0.06715259264762465}, 0.4337669909000397], [25, {'F1-score': 0.041759519766403595}, {'NDCG': 0.0670157974950017}, 0.4470067322254181], [26, {'F1-score': 0.04188483304961165}, {'NDCG': 0.06707479472139052}, 0.44110390543937683], [27, {'F1-score': 0.04188483304961166}, {'NDCG': 0.06733244635108718}, 0.44488102197647095], [28, {'F1-score': 0.041456503823184214}, {'NDCG': 0.06660339801005066}, 0.43816784024238586], [29, {'F1-score': 0.04179939217469705}, {'NDCG': 0.06706785570648044}, 0.4451412856578827], [30, {'F1-score': 0.04074607712786823}, {'NDCG': 0.06634238444940936}, 0.44493621587753296], [31, {'F1-score': 0.04163511593788657}, {'NDCG': 0.06670226508933574}, 0.44865429401397705], [32, {'F1-score': 0.04179339971514426}, {'NDCG': 0.066950239682276}, 0.4361487329006195], [33, {'F1-score': 0.040294844051835796}, {'NDCG': 0.06575927603289597}, 0.442504346370697], [34, {'F1-score': 0.03942821066210796}, {'NDCG': 0.06529323660061323}, 0.44157904386520386], [35, {'F1-score': 0.041790848087205575}, {'NDCG': 0.06717998595712216}, 0.4472059905529022], [36, {'F1-score': 0.04169101957490024}, {'NDCG': 0.06682919933201563}, 0.4444219172000885], [37, {'F1-score': 0.04188483304961165}, {'NDCG': 0.06707479472139052}, 0.44721364974975586], [38, {'F1-score': 0.04181253692468395}, {'NDCG': 0.06693259432659786}, 0.43728116154670715], [39, {'F1-score': 0.04188483304961164}, {'NDCG': 0.06707479472139052}, 0.4385536015033722], [40, {'F1-score': 0.041766867088420895}, {'NDCG': 0.06691069729780232}, 0.4536215364933014], [41, {'F1-score': 0.04152664370220594}, {'NDCG': 0.06679002065351583}, 0.44467735290527344], [42, {'F1-score': 0.04188483304961162}, {'NDCG': 0.06714686300759588}, 0.4418374300003052], [43, {'F1-score': 0.04106294989995311}, {'NDCG': 0.06674046975147344}, 0.4322861433029175]]\n",
      "-----------------------------------------------------------------------------------------\n"
     ]
    },
    {
     "name": "stderr",
     "output_type": "stream",
     "text": [
      "  0%|          | 3/932 [00:00<01:44,  8.92it/s]"
     ]
    },
    {
     "name": "stdout",
     "output_type": "stream",
     "text": [
      "Epoch 44: 0% , Loss: 0.237682\n"
     ]
    },
    {
     "name": "stderr",
     "output_type": "stream",
     "text": [
      " 11%|█         | 102/932 [00:11<01:42,  8.07it/s]"
     ]
    },
    {
     "name": "stdout",
     "output_type": "stream",
     "text": [
      "Epoch 44: 11% , Loss: 0.412201\n"
     ]
    },
    {
     "name": "stderr",
     "output_type": "stream",
     "text": [
      " 22%|██▏       | 202/932 [00:24<01:29,  8.11it/s]"
     ]
    },
    {
     "name": "stdout",
     "output_type": "stream",
     "text": [
      "Epoch 44: 21% , Loss: 1.584885\n"
     ]
    },
    {
     "name": "stderr",
     "output_type": "stream",
     "text": [
      " 32%|███▏      | 302/932 [00:36<01:14,  8.43it/s]"
     ]
    },
    {
     "name": "stdout",
     "output_type": "stream",
     "text": [
      "Epoch 44: 32% , Loss: 0.138313\n"
     ]
    },
    {
     "name": "stderr",
     "output_type": "stream",
     "text": [
      " 43%|████▎     | 402/932 [00:50<01:10,  7.55it/s]"
     ]
    },
    {
     "name": "stdout",
     "output_type": "stream",
     "text": [
      "Epoch 44: 43% , Loss: 0.489923\n"
     ]
    },
    {
     "name": "stderr",
     "output_type": "stream",
     "text": [
      " 54%|█████▍    | 502/932 [01:04<01:03,  6.76it/s]"
     ]
    },
    {
     "name": "stdout",
     "output_type": "stream",
     "text": [
      "Epoch 44: 54% , Loss: 0.239275\n"
     ]
    },
    {
     "name": "stderr",
     "output_type": "stream",
     "text": [
      " 65%|██████▍   | 602/932 [01:19<00:55,  5.90it/s]"
     ]
    },
    {
     "name": "stdout",
     "output_type": "stream",
     "text": [
      "Epoch 44: 64% , Loss: 0.644563\n"
     ]
    },
    {
     "name": "stderr",
     "output_type": "stream",
     "text": [
      " 75%|███████▌  | 701/932 [01:34<00:39,  5.92it/s]"
     ]
    },
    {
     "name": "stdout",
     "output_type": "stream",
     "text": [
      "Epoch 44: 75% , Loss: 0.258403\n"
     ]
    },
    {
     "name": "stderr",
     "output_type": "stream",
     "text": [
      " 86%|████████▌ | 801/932 [01:50<00:21,  6.02it/s]"
     ]
    },
    {
     "name": "stdout",
     "output_type": "stream",
     "text": [
      "Epoch 44: 86% , Loss: 1.382360\n"
     ]
    },
    {
     "name": "stderr",
     "output_type": "stream",
     "text": [
      " 97%|█████████▋| 901/932 [02:07<00:05,  6.17it/s]"
     ]
    },
    {
     "name": "stdout",
     "output_type": "stream",
     "text": [
      "Epoch 44: 97% , Loss: 0.770454\n"
     ]
    },
    {
     "name": "stderr",
     "output_type": "stream",
     "text": [
      "100%|██████████| 932/932 [02:12<00:00,  7.03it/s]\n"
     ]
    },
    {
     "name": "stdout",
     "output_type": "stream",
     "text": [
      "Epoch 44: 100% , Loss: 0.166261\n",
      "                      (F1-score: 0.0446)\n",
      "\n",
      "                      (NDCG: 0.0718)\n",
      "\n",
      "train_loss= tensor(0.4901)\n",
      "--------------------\n"
     ]
    },
    {
     "name": "stderr",
     "output_type": "stream",
     "text": [
      "100%|██████████| 133/133 [00:10<00:00, 12.55it/s]\n"
     ]
    },
    {
     "name": "stdout",
     "output_type": "stream",
     "text": [
      "                      (F1-score: 0.0408)\n",
      "\n",
      "                      (NDCG: 0.0660)\n",
      "\n",
      "val_loss= tensor(0.4347)\n",
      "--------------------\n"
     ]
    },
    {
     "name": "stderr",
     "output_type": "stream",
     "text": [
      "100%|██████████| 266/266 [00:22<00:00, 12.02it/s]\n"
     ]
    },
    {
     "name": "stdout",
     "output_type": "stream",
     "text": [
      "                      (F1-score: 0.0418)\n",
      "\n",
      "                      (NDCG: 0.0672)\n",
      "\n",
      "--------------------\n",
      "[[1, {'F1-score': 1.3426423200859293e-05}, {'NDCG': 7.968989754081668e-05}, 0.7953537106513977], [2, {'F1-score': 1.3426423200859293e-05}, {'NDCG': 7.968989754081668e-05}, 0.6858023405075073], [3, {'F1-score': 0.019103043976875064}, {'NDCG': 0.026571972600247403}, 0.5548844933509827], [4, {'F1-score': 0.02096858546187785}, {'NDCG': 0.04502920015834104}, 0.5526114106178284], [5, {'F1-score': 0.0354590595521211}, {'NDCG': 0.06195987741413869}, 0.5065855979919434], [6, {'F1-score': 0.04001724550510854}, {'NDCG': 0.0661786503886762}, 0.46960675716400146], [7, {'F1-score': 0.03779091447649205}, {'NDCG': 0.06406164879707578}, 0.4804374873638153], [8, {'F1-score': 0.040584136147165446}, {'NDCG': 0.06627678838943628}, 0.4667186737060547], [9, {'F1-score': 0.04058952926822324}, {'NDCG': 0.06623147309694748}, 0.45862865447998047], [10, {'F1-score': 0.040584136147165516}, {'NDCG': 0.0670063053152727}, 0.4817570149898529], [11, {'F1-score': 0.04158147724217505}, {'NDCG': 0.06707023027093899}, 0.4459657669067383], [12, {'F1-score': 0.03954475830888581}, {'NDCG': 0.06514711363619208}, 0.45868179202079773], [13, {'F1-score': 0.04154666799683949}, {'NDCG': 0.06700901980196736}, 0.45887869596481323], [14, {'F1-score': 0.04158147724217507}, {'NDCG': 0.06721850460801358}, 0.45013514161109924], [15, {'F1-score': 0.04138536532509799}, {'NDCG': 0.06757978630021103}, 0.46377432346343994], [16, {'F1-score': 0.041054382350920716}, {'NDCG': 0.0666698455614479}, 0.44927778840065], [17, {'F1-score': 0.04146422109894341}, {'NDCG': 0.06700026461350403}, 0.45049527287483215], [18, {'F1-score': 0.04105438235092071}, {'NDCG': 0.06661812614831597}, 0.4510195255279541], [19, {'F1-score': 0.041829547777608105}, {'NDCG': 0.06712048681438866}, 0.4386899173259735], [20, {'F1-score': 0.04093191317352164}, {'NDCG': 0.06627271250520546}, 0.4324909448623657], [21, {'F1-score': 0.041712527285200626}, {'NDCG': 0.06686701733422906}, 0.43909600377082825], [22, {'F1-score': 0.041596470096774966}, {'NDCG': 0.06663158744629613}, 0.44651371240615845], [23, {'F1-score': 0.04188483304961162}, {'NDCG': 0.06726529695359725}, 0.44020524621009827], [24, {'F1-score': 0.041875722441415825}, {'NDCG': 0.06715259264762465}, 0.4337669909000397], [25, {'F1-score': 0.041759519766403595}, {'NDCG': 0.0670157974950017}, 0.4470067322254181], [26, {'F1-score': 0.04188483304961165}, {'NDCG': 0.06707479472139052}, 0.44110390543937683], [27, {'F1-score': 0.04188483304961166}, {'NDCG': 0.06733244635108718}, 0.44488102197647095], [28, {'F1-score': 0.041456503823184214}, {'NDCG': 0.06660339801005066}, 0.43816784024238586], [29, {'F1-score': 0.04179939217469705}, {'NDCG': 0.06706785570648044}, 0.4451412856578827], [30, {'F1-score': 0.04074607712786823}, {'NDCG': 0.06634238444940936}, 0.44493621587753296], [31, {'F1-score': 0.04163511593788657}, {'NDCG': 0.06670226508933574}, 0.44865429401397705], [32, {'F1-score': 0.04179339971514426}, {'NDCG': 0.066950239682276}, 0.4361487329006195], [33, {'F1-score': 0.040294844051835796}, {'NDCG': 0.06575927603289597}, 0.442504346370697], [34, {'F1-score': 0.03942821066210796}, {'NDCG': 0.06529323660061323}, 0.44157904386520386], [35, {'F1-score': 0.041790848087205575}, {'NDCG': 0.06717998595712216}, 0.4472059905529022], [36, {'F1-score': 0.04169101957490024}, {'NDCG': 0.06682919933201563}, 0.4444219172000885], [37, {'F1-score': 0.04188483304961165}, {'NDCG': 0.06707479472139052}, 0.44721364974975586], [38, {'F1-score': 0.04181253692468395}, {'NDCG': 0.06693259432659786}, 0.43728116154670715], [39, {'F1-score': 0.04188483304961164}, {'NDCG': 0.06707479472139052}, 0.4385536015033722], [40, {'F1-score': 0.041766867088420895}, {'NDCG': 0.06691069729780232}, 0.4536215364933014], [41, {'F1-score': 0.04152664370220594}, {'NDCG': 0.06679002065351583}, 0.44467735290527344], [42, {'F1-score': 0.04188483304961162}, {'NDCG': 0.06714686300759588}, 0.4418374300003052], [43, {'F1-score': 0.04106294989995311}, {'NDCG': 0.06674046975147344}, 0.4322861433029175], [44, {'F1-score': 0.04179084808720564}, {'NDCG': 0.06718674410288607}, 0.43474480509757996]]\n",
      "-----------------------------------------------------------------------------------------\n"
     ]
    },
    {
     "name": "stderr",
     "output_type": "stream",
     "text": [
      "\r",
      "  0%|          | 0/932 [00:00<?, ?it/s]"
     ]
    },
    {
     "name": "stdout",
     "output_type": "stream",
     "text": [
      "Epoch 45: 0% , Loss: 0.163473\n"
     ]
    },
    {
     "name": "stderr",
     "output_type": "stream",
     "text": [
      " 11%|█         | 102/932 [00:11<01:38,  8.39it/s]"
     ]
    },
    {
     "name": "stdout",
     "output_type": "stream",
     "text": [
      "Epoch 45: 11% , Loss: 0.512975\n"
     ]
    },
    {
     "name": "stderr",
     "output_type": "stream",
     "text": [
      " 22%|██▏       | 202/932 [00:23<01:39,  7.36it/s]"
     ]
    },
    {
     "name": "stdout",
     "output_type": "stream",
     "text": [
      "Epoch 45: 21% , Loss: 0.622499\n"
     ]
    },
    {
     "name": "stderr",
     "output_type": "stream",
     "text": [
      " 32%|███▏      | 302/932 [00:36<01:20,  7.86it/s]"
     ]
    },
    {
     "name": "stdout",
     "output_type": "stream",
     "text": [
      "Epoch 45: 32% , Loss: 0.097368\n"
     ]
    },
    {
     "name": "stderr",
     "output_type": "stream",
     "text": [
      " 43%|████▎     | 402/932 [00:50<01:11,  7.38it/s]"
     ]
    },
    {
     "name": "stdout",
     "output_type": "stream",
     "text": [
      "Epoch 45: 43% , Loss: 0.653197\n"
     ]
    },
    {
     "name": "stderr",
     "output_type": "stream",
     "text": [
      " 54%|█████▍    | 502/932 [01:04<01:06,  6.46it/s]"
     ]
    },
    {
     "name": "stdout",
     "output_type": "stream",
     "text": [
      "Epoch 45: 54% , Loss: 0.693134\n"
     ]
    },
    {
     "name": "stderr",
     "output_type": "stream",
     "text": [
      " 64%|██████▍   | 601/932 [01:18<00:49,  6.73it/s]"
     ]
    },
    {
     "name": "stdout",
     "output_type": "stream",
     "text": [
      "Epoch 45: 64% , Loss: 0.471193\n"
     ]
    },
    {
     "name": "stderr",
     "output_type": "stream",
     "text": [
      " 75%|███████▌  | 701/932 [01:34<00:35,  6.54it/s]"
     ]
    },
    {
     "name": "stdout",
     "output_type": "stream",
     "text": [
      "Epoch 45: 75% , Loss: 1.045080\n"
     ]
    },
    {
     "name": "stderr",
     "output_type": "stream",
     "text": [
      " 86%|████████▌ | 801/932 [01:50<00:21,  6.13it/s]"
     ]
    },
    {
     "name": "stdout",
     "output_type": "stream",
     "text": [
      "Epoch 45: 86% , Loss: 0.257912\n"
     ]
    },
    {
     "name": "stderr",
     "output_type": "stream",
     "text": [
      " 97%|█████████▋| 901/932 [02:07<00:05,  5.74it/s]"
     ]
    },
    {
     "name": "stdout",
     "output_type": "stream",
     "text": [
      "Epoch 45: 97% , Loss: 0.061561\n"
     ]
    },
    {
     "name": "stderr",
     "output_type": "stream",
     "text": [
      "100%|██████████| 932/932 [02:12<00:00,  7.01it/s]\n"
     ]
    },
    {
     "name": "stdout",
     "output_type": "stream",
     "text": [
      "Epoch 45: 100% , Loss: 0.340961\n",
      "                      (F1-score: 0.0443)\n",
      "\n",
      "                      (NDCG: 0.0715)\n",
      "\n",
      "train_loss= tensor(0.4878)\n",
      "--------------------\n"
     ]
    },
    {
     "name": "stderr",
     "output_type": "stream",
     "text": [
      "100%|██████████| 133/133 [00:10<00:00, 12.94it/s]\n"
     ]
    },
    {
     "name": "stdout",
     "output_type": "stream",
     "text": [
      "                      (F1-score: 0.0408)\n",
      "\n",
      "                      (NDCG: 0.0659)\n",
      "\n",
      "val_loss= tensor(0.4368)\n",
      "--------------------\n"
     ]
    },
    {
     "name": "stderr",
     "output_type": "stream",
     "text": [
      "100%|██████████| 266/266 [00:21<00:00, 12.38it/s]\n"
     ]
    },
    {
     "name": "stdout",
     "output_type": "stream",
     "text": [
      "                      (F1-score: 0.0418)\n",
      "\n",
      "                      (NDCG: 0.0670)\n",
      "\n",
      "--------------------\n",
      "[[1, {'F1-score': 1.3426423200859293e-05}, {'NDCG': 7.968989754081668e-05}, 0.7953537106513977], [2, {'F1-score': 1.3426423200859293e-05}, {'NDCG': 7.968989754081668e-05}, 0.6858023405075073], [3, {'F1-score': 0.019103043976875064}, {'NDCG': 0.026571972600247403}, 0.5548844933509827], [4, {'F1-score': 0.02096858546187785}, {'NDCG': 0.04502920015834104}, 0.5526114106178284], [5, {'F1-score': 0.0354590595521211}, {'NDCG': 0.06195987741413869}, 0.5065855979919434], [6, {'F1-score': 0.04001724550510854}, {'NDCG': 0.0661786503886762}, 0.46960675716400146], [7, {'F1-score': 0.03779091447649205}, {'NDCG': 0.06406164879707578}, 0.4804374873638153], [8, {'F1-score': 0.040584136147165446}, {'NDCG': 0.06627678838943628}, 0.4667186737060547], [9, {'F1-score': 0.04058952926822324}, {'NDCG': 0.06623147309694748}, 0.45862865447998047], [10, {'F1-score': 0.040584136147165516}, {'NDCG': 0.0670063053152727}, 0.4817570149898529], [11, {'F1-score': 0.04158147724217505}, {'NDCG': 0.06707023027093899}, 0.4459657669067383], [12, {'F1-score': 0.03954475830888581}, {'NDCG': 0.06514711363619208}, 0.45868179202079773], [13, {'F1-score': 0.04154666799683949}, {'NDCG': 0.06700901980196736}, 0.45887869596481323], [14, {'F1-score': 0.04158147724217507}, {'NDCG': 0.06721850460801358}, 0.45013514161109924], [15, {'F1-score': 0.04138536532509799}, {'NDCG': 0.06757978630021103}, 0.46377432346343994], [16, {'F1-score': 0.041054382350920716}, {'NDCG': 0.0666698455614479}, 0.44927778840065], [17, {'F1-score': 0.04146422109894341}, {'NDCG': 0.06700026461350403}, 0.45049527287483215], [18, {'F1-score': 0.04105438235092071}, {'NDCG': 0.06661812614831597}, 0.4510195255279541], [19, {'F1-score': 0.041829547777608105}, {'NDCG': 0.06712048681438866}, 0.4386899173259735], [20, {'F1-score': 0.04093191317352164}, {'NDCG': 0.06627271250520546}, 0.4324909448623657], [21, {'F1-score': 0.041712527285200626}, {'NDCG': 0.06686701733422906}, 0.43909600377082825], [22, {'F1-score': 0.041596470096774966}, {'NDCG': 0.06663158744629613}, 0.44651371240615845], [23, {'F1-score': 0.04188483304961162}, {'NDCG': 0.06726529695359725}, 0.44020524621009827], [24, {'F1-score': 0.041875722441415825}, {'NDCG': 0.06715259264762465}, 0.4337669909000397], [25, {'F1-score': 0.041759519766403595}, {'NDCG': 0.0670157974950017}, 0.4470067322254181], [26, {'F1-score': 0.04188483304961165}, {'NDCG': 0.06707479472139052}, 0.44110390543937683], [27, {'F1-score': 0.04188483304961166}, {'NDCG': 0.06733244635108718}, 0.44488102197647095], [28, {'F1-score': 0.041456503823184214}, {'NDCG': 0.06660339801005066}, 0.43816784024238586], [29, {'F1-score': 0.04179939217469705}, {'NDCG': 0.06706785570648044}, 0.4451412856578827], [30, {'F1-score': 0.04074607712786823}, {'NDCG': 0.06634238444940936}, 0.44493621587753296], [31, {'F1-score': 0.04163511593788657}, {'NDCG': 0.06670226508933574}, 0.44865429401397705], [32, {'F1-score': 0.04179339971514426}, {'NDCG': 0.066950239682276}, 0.4361487329006195], [33, {'F1-score': 0.040294844051835796}, {'NDCG': 0.06575927603289597}, 0.442504346370697], [34, {'F1-score': 0.03942821066210796}, {'NDCG': 0.06529323660061323}, 0.44157904386520386], [35, {'F1-score': 0.041790848087205575}, {'NDCG': 0.06717998595712216}, 0.4472059905529022], [36, {'F1-score': 0.04169101957490024}, {'NDCG': 0.06682919933201563}, 0.4444219172000885], [37, {'F1-score': 0.04188483304961165}, {'NDCG': 0.06707479472139052}, 0.44721364974975586], [38, {'F1-score': 0.04181253692468395}, {'NDCG': 0.06693259432659786}, 0.43728116154670715], [39, {'F1-score': 0.04188483304961164}, {'NDCG': 0.06707479472139052}, 0.4385536015033722], [40, {'F1-score': 0.041766867088420895}, {'NDCG': 0.06691069729780232}, 0.4536215364933014], [41, {'F1-score': 0.04152664370220594}, {'NDCG': 0.06679002065351583}, 0.44467735290527344], [42, {'F1-score': 0.04188483304961162}, {'NDCG': 0.06714686300759588}, 0.4418374300003052], [43, {'F1-score': 0.04106294989995311}, {'NDCG': 0.06674046975147344}, 0.4322861433029175], [44, {'F1-score': 0.04179084808720564}, {'NDCG': 0.06718674410288607}, 0.43474480509757996], [45, {'F1-score': 0.041806512247606585}, {'NDCG': 0.06698748321251426}, 0.43682339787483215]]\n",
      "-----------------------------------------------------------------------------------------\n"
     ]
    },
    {
     "name": "stderr",
     "output_type": "stream",
     "text": [
      "  0%|          | 1/932 [00:00<02:17,  6.79it/s]"
     ]
    },
    {
     "name": "stdout",
     "output_type": "stream",
     "text": [
      "Epoch 46: 0% , Loss: 0.824272\n"
     ]
    },
    {
     "name": "stderr",
     "output_type": "stream",
     "text": [
      " 11%|█         | 102/932 [00:11<01:31,  9.04it/s]"
     ]
    },
    {
     "name": "stdout",
     "output_type": "stream",
     "text": [
      "Epoch 46: 11% , Loss: 0.528016\n"
     ]
    },
    {
     "name": "stderr",
     "output_type": "stream",
     "text": [
      " 22%|██▏       | 202/932 [00:23<01:23,  8.70it/s]"
     ]
    },
    {
     "name": "stdout",
     "output_type": "stream",
     "text": [
      "Epoch 46: 21% , Loss: 0.643581\n"
     ]
    },
    {
     "name": "stderr",
     "output_type": "stream",
     "text": [
      " 32%|███▏      | 302/932 [00:36<01:19,  7.91it/s]"
     ]
    },
    {
     "name": "stdout",
     "output_type": "stream",
     "text": [
      "Epoch 46: 32% , Loss: 2.291794\n"
     ]
    },
    {
     "name": "stderr",
     "output_type": "stream",
     "text": [
      " 43%|████▎     | 402/932 [00:49<01:12,  7.31it/s]"
     ]
    },
    {
     "name": "stdout",
     "output_type": "stream",
     "text": [
      "Epoch 46: 43% , Loss: 0.134861\n"
     ]
    },
    {
     "name": "stderr",
     "output_type": "stream",
     "text": [
      " 54%|█████▍    | 502/932 [01:04<01:05,  6.57it/s]"
     ]
    },
    {
     "name": "stdout",
     "output_type": "stream",
     "text": [
      "Epoch 46: 54% , Loss: 0.237585\n"
     ]
    },
    {
     "name": "stderr",
     "output_type": "stream",
     "text": [
      " 65%|██████▍   | 602/932 [01:19<00:49,  6.61it/s]"
     ]
    },
    {
     "name": "stdout",
     "output_type": "stream",
     "text": [
      "Epoch 46: 64% , Loss: 0.529518\n"
     ]
    },
    {
     "name": "stderr",
     "output_type": "stream",
     "text": [
      " 75%|███████▌  | 702/932 [01:34<00:33,  6.94it/s]"
     ]
    },
    {
     "name": "stdout",
     "output_type": "stream",
     "text": [
      "Epoch 46: 75% , Loss: 0.202858\n"
     ]
    },
    {
     "name": "stderr",
     "output_type": "stream",
     "text": [
      " 86%|████████▌ | 801/932 [01:50<00:20,  6.42it/s]"
     ]
    },
    {
     "name": "stdout",
     "output_type": "stream",
     "text": [
      "Epoch 46: 86% , Loss: 0.584114\n"
     ]
    },
    {
     "name": "stderr",
     "output_type": "stream",
     "text": [
      " 97%|█████████▋| 901/932 [02:07<00:05,  5.95it/s]"
     ]
    },
    {
     "name": "stdout",
     "output_type": "stream",
     "text": [
      "Epoch 46: 97% , Loss: 0.373163\n"
     ]
    },
    {
     "name": "stderr",
     "output_type": "stream",
     "text": [
      "100%|██████████| 932/932 [02:12<00:00,  7.05it/s]\n"
     ]
    },
    {
     "name": "stdout",
     "output_type": "stream",
     "text": [
      "Epoch 46: 100% , Loss: 0.111904\n",
      "                      (F1-score: 0.0442)\n",
      "\n",
      "                      (NDCG: 0.0713)\n",
      "\n",
      "train_loss= tensor(0.4889)\n",
      "--------------------\n"
     ]
    },
    {
     "name": "stderr",
     "output_type": "stream",
     "text": [
      "100%|██████████| 133/133 [00:10<00:00, 13.02it/s]\n"
     ]
    },
    {
     "name": "stdout",
     "output_type": "stream",
     "text": [
      "                      (F1-score: 0.0408)\n",
      "\n",
      "                      (NDCG: 0.0660)\n",
      "\n",
      "val_loss= tensor(0.4366)\n",
      "--------------------\n"
     ]
    },
    {
     "name": "stderr",
     "output_type": "stream",
     "text": [
      "100%|██████████| 266/266 [00:22<00:00, 12.03it/s]\n"
     ]
    },
    {
     "name": "stdout",
     "output_type": "stream",
     "text": [
      "                      (F1-score: 0.0418)\n",
      "\n",
      "                      (NDCG: 0.0671)\n",
      "\n",
      "--------------------\n",
      "[[1, {'F1-score': 1.3426423200859293e-05}, {'NDCG': 7.968989754081668e-05}, 0.7953537106513977], [2, {'F1-score': 1.3426423200859293e-05}, {'NDCG': 7.968989754081668e-05}, 0.6858023405075073], [3, {'F1-score': 0.019103043976875064}, {'NDCG': 0.026571972600247403}, 0.5548844933509827], [4, {'F1-score': 0.02096858546187785}, {'NDCG': 0.04502920015834104}, 0.5526114106178284], [5, {'F1-score': 0.0354590595521211}, {'NDCG': 0.06195987741413869}, 0.5065855979919434], [6, {'F1-score': 0.04001724550510854}, {'NDCG': 0.0661786503886762}, 0.46960675716400146], [7, {'F1-score': 0.03779091447649205}, {'NDCG': 0.06406164879707578}, 0.4804374873638153], [8, {'F1-score': 0.040584136147165446}, {'NDCG': 0.06627678838943628}, 0.4667186737060547], [9, {'F1-score': 0.04058952926822324}, {'NDCG': 0.06623147309694748}, 0.45862865447998047], [10, {'F1-score': 0.040584136147165516}, {'NDCG': 0.0670063053152727}, 0.4817570149898529], [11, {'F1-score': 0.04158147724217505}, {'NDCG': 0.06707023027093899}, 0.4459657669067383], [12, {'F1-score': 0.03954475830888581}, {'NDCG': 0.06514711363619208}, 0.45868179202079773], [13, {'F1-score': 0.04154666799683949}, {'NDCG': 0.06700901980196736}, 0.45887869596481323], [14, {'F1-score': 0.04158147724217507}, {'NDCG': 0.06721850460801358}, 0.45013514161109924], [15, {'F1-score': 0.04138536532509799}, {'NDCG': 0.06757978630021103}, 0.46377432346343994], [16, {'F1-score': 0.041054382350920716}, {'NDCG': 0.0666698455614479}, 0.44927778840065], [17, {'F1-score': 0.04146422109894341}, {'NDCG': 0.06700026461350403}, 0.45049527287483215], [18, {'F1-score': 0.04105438235092071}, {'NDCG': 0.06661812614831597}, 0.4510195255279541], [19, {'F1-score': 0.041829547777608105}, {'NDCG': 0.06712048681438866}, 0.4386899173259735], [20, {'F1-score': 0.04093191317352164}, {'NDCG': 0.06627271250520546}, 0.4324909448623657], [21, {'F1-score': 0.041712527285200626}, {'NDCG': 0.06686701733422906}, 0.43909600377082825], [22, {'F1-score': 0.041596470096774966}, {'NDCG': 0.06663158744629613}, 0.44651371240615845], [23, {'F1-score': 0.04188483304961162}, {'NDCG': 0.06726529695359725}, 0.44020524621009827], [24, {'F1-score': 0.041875722441415825}, {'NDCG': 0.06715259264762465}, 0.4337669909000397], [25, {'F1-score': 0.041759519766403595}, {'NDCG': 0.0670157974950017}, 0.4470067322254181], [26, {'F1-score': 0.04188483304961165}, {'NDCG': 0.06707479472139052}, 0.44110390543937683], [27, {'F1-score': 0.04188483304961166}, {'NDCG': 0.06733244635108718}, 0.44488102197647095], [28, {'F1-score': 0.041456503823184214}, {'NDCG': 0.06660339801005066}, 0.43816784024238586], [29, {'F1-score': 0.04179939217469705}, {'NDCG': 0.06706785570648044}, 0.4451412856578827], [30, {'F1-score': 0.04074607712786823}, {'NDCG': 0.06634238444940936}, 0.44493621587753296], [31, {'F1-score': 0.04163511593788657}, {'NDCG': 0.06670226508933574}, 0.44865429401397705], [32, {'F1-score': 0.04179339971514426}, {'NDCG': 0.066950239682276}, 0.4361487329006195], [33, {'F1-score': 0.040294844051835796}, {'NDCG': 0.06575927603289597}, 0.442504346370697], [34, {'F1-score': 0.03942821066210796}, {'NDCG': 0.06529323660061323}, 0.44157904386520386], [35, {'F1-score': 0.041790848087205575}, {'NDCG': 0.06717998595712216}, 0.4472059905529022], [36, {'F1-score': 0.04169101957490024}, {'NDCG': 0.06682919933201563}, 0.4444219172000885], [37, {'F1-score': 0.04188483304961165}, {'NDCG': 0.06707479472139052}, 0.44721364974975586], [38, {'F1-score': 0.04181253692468395}, {'NDCG': 0.06693259432659786}, 0.43728116154670715], [39, {'F1-score': 0.04188483304961164}, {'NDCG': 0.06707479472139052}, 0.4385536015033722], [40, {'F1-score': 0.041766867088420895}, {'NDCG': 0.06691069729780232}, 0.4536215364933014], [41, {'F1-score': 0.04152664370220594}, {'NDCG': 0.06679002065351583}, 0.44467735290527344], [42, {'F1-score': 0.04188483304961162}, {'NDCG': 0.06714686300759588}, 0.4418374300003052], [43, {'F1-score': 0.04106294989995311}, {'NDCG': 0.06674046975147344}, 0.4322861433029175], [44, {'F1-score': 0.04179084808720564}, {'NDCG': 0.06718674410288607}, 0.43474480509757996], [45, {'F1-score': 0.041806512247606585}, {'NDCG': 0.06698748321251426}, 0.43682339787483215], [46, {'F1-score': 0.0417570464779192}, {'NDCG': 0.06707446923115312}, 0.4366386830806732]]\n",
      "-----------------------------------------------------------------------------------------\n"
     ]
    },
    {
     "name": "stderr",
     "output_type": "stream",
     "text": [
      "  0%|          | 2/932 [00:00<01:48,  8.61it/s]"
     ]
    },
    {
     "name": "stdout",
     "output_type": "stream",
     "text": [
      "Epoch 47: 0% , Loss: 0.170789\n"
     ]
    },
    {
     "name": "stderr",
     "output_type": "stream",
     "text": [
      " 11%|█         | 102/932 [00:11<01:38,  8.43it/s]"
     ]
    },
    {
     "name": "stdout",
     "output_type": "stream",
     "text": [
      "Epoch 47: 11% , Loss: 0.296487\n"
     ]
    },
    {
     "name": "stderr",
     "output_type": "stream",
     "text": [
      " 22%|██▏       | 202/932 [00:24<01:29,  8.12it/s]"
     ]
    },
    {
     "name": "stdout",
     "output_type": "stream",
     "text": [
      "Epoch 47: 21% , Loss: 0.274107\n"
     ]
    },
    {
     "name": "stderr",
     "output_type": "stream",
     "text": [
      " 32%|███▏      | 302/932 [00:36<01:25,  7.39it/s]"
     ]
    },
    {
     "name": "stdout",
     "output_type": "stream",
     "text": [
      "Epoch 47: 32% , Loss: 0.150917\n"
     ]
    },
    {
     "name": "stderr",
     "output_type": "stream",
     "text": [
      " 43%|████▎     | 402/932 [00:50<01:16,  6.93it/s]"
     ]
    },
    {
     "name": "stdout",
     "output_type": "stream",
     "text": [
      "Epoch 47: 43% , Loss: 0.205147\n"
     ]
    },
    {
     "name": "stderr",
     "output_type": "stream",
     "text": [
      " 54%|█████▍    | 502/932 [01:04<01:01,  7.03it/s]"
     ]
    },
    {
     "name": "stdout",
     "output_type": "stream",
     "text": [
      "Epoch 47: 54% , Loss: 0.323309\n"
     ]
    },
    {
     "name": "stderr",
     "output_type": "stream",
     "text": [
      " 65%|██████▍   | 602/932 [01:19<00:49,  6.62it/s]"
     ]
    },
    {
     "name": "stdout",
     "output_type": "stream",
     "text": [
      "Epoch 47: 64% , Loss: 0.214938\n"
     ]
    },
    {
     "name": "stderr",
     "output_type": "stream",
     "text": [
      " 75%|███████▌  | 701/932 [01:34<00:36,  6.33it/s]"
     ]
    },
    {
     "name": "stdout",
     "output_type": "stream",
     "text": [
      "Epoch 47: 75% , Loss: 0.124432\n"
     ]
    },
    {
     "name": "stderr",
     "output_type": "stream",
     "text": [
      " 86%|████████▌ | 801/932 [01:50<00:21,  5.95it/s]"
     ]
    },
    {
     "name": "stdout",
     "output_type": "stream",
     "text": [
      "Epoch 47: 86% , Loss: 0.182476\n"
     ]
    },
    {
     "name": "stderr",
     "output_type": "stream",
     "text": [
      " 97%|█████████▋| 901/932 [02:07<00:05,  6.15it/s]"
     ]
    },
    {
     "name": "stdout",
     "output_type": "stream",
     "text": [
      "Epoch 47: 97% , Loss: 0.181207\n"
     ]
    },
    {
     "name": "stderr",
     "output_type": "stream",
     "text": [
      "100%|██████████| 932/932 [02:12<00:00,  7.03it/s]\n"
     ]
    },
    {
     "name": "stdout",
     "output_type": "stream",
     "text": [
      "Epoch 47: 100% , Loss: 0.283505\n",
      "                      (F1-score: 0.0441)\n",
      "\n",
      "                      (NDCG: 0.0714)\n",
      "\n",
      "train_loss= tensor(0.4894)\n",
      "--------------------\n"
     ]
    },
    {
     "name": "stderr",
     "output_type": "stream",
     "text": [
      "100%|██████████| 133/133 [00:10<00:00, 12.77it/s]\n"
     ]
    },
    {
     "name": "stdout",
     "output_type": "stream",
     "text": [
      "                      (F1-score: 0.0401)\n",
      "\n",
      "                      (NDCG: 0.0655)\n",
      "\n",
      "val_loss= tensor(0.4361)\n",
      "--------------------\n"
     ]
    },
    {
     "name": "stderr",
     "output_type": "stream",
     "text": [
      "100%|██████████| 266/266 [00:21<00:00, 12.22it/s]\n"
     ]
    },
    {
     "name": "stdout",
     "output_type": "stream",
     "text": [
      "                      (F1-score: 0.0418)\n",
      "\n",
      "                      (NDCG: 0.0670)\n",
      "\n",
      "--------------------\n",
      "[[1, {'F1-score': 1.3426423200859293e-05}, {'NDCG': 7.968989754081668e-05}, 0.7953537106513977], [2, {'F1-score': 1.3426423200859293e-05}, {'NDCG': 7.968989754081668e-05}, 0.6858023405075073], [3, {'F1-score': 0.019103043976875064}, {'NDCG': 0.026571972600247403}, 0.5548844933509827], [4, {'F1-score': 0.02096858546187785}, {'NDCG': 0.04502920015834104}, 0.5526114106178284], [5, {'F1-score': 0.0354590595521211}, {'NDCG': 0.06195987741413869}, 0.5065855979919434], [6, {'F1-score': 0.04001724550510854}, {'NDCG': 0.0661786503886762}, 0.46960675716400146], [7, {'F1-score': 0.03779091447649205}, {'NDCG': 0.06406164879707578}, 0.4804374873638153], [8, {'F1-score': 0.040584136147165446}, {'NDCG': 0.06627678838943628}, 0.4667186737060547], [9, {'F1-score': 0.04058952926822324}, {'NDCG': 0.06623147309694748}, 0.45862865447998047], [10, {'F1-score': 0.040584136147165516}, {'NDCG': 0.0670063053152727}, 0.4817570149898529], [11, {'F1-score': 0.04158147724217505}, {'NDCG': 0.06707023027093899}, 0.4459657669067383], [12, {'F1-score': 0.03954475830888581}, {'NDCG': 0.06514711363619208}, 0.45868179202079773], [13, {'F1-score': 0.04154666799683949}, {'NDCG': 0.06700901980196736}, 0.45887869596481323], [14, {'F1-score': 0.04158147724217507}, {'NDCG': 0.06721850460801358}, 0.45013514161109924], [15, {'F1-score': 0.04138536532509799}, {'NDCG': 0.06757978630021103}, 0.46377432346343994], [16, {'F1-score': 0.041054382350920716}, {'NDCG': 0.0666698455614479}, 0.44927778840065], [17, {'F1-score': 0.04146422109894341}, {'NDCG': 0.06700026461350403}, 0.45049527287483215], [18, {'F1-score': 0.04105438235092071}, {'NDCG': 0.06661812614831597}, 0.4510195255279541], [19, {'F1-score': 0.041829547777608105}, {'NDCG': 0.06712048681438866}, 0.4386899173259735], [20, {'F1-score': 0.04093191317352164}, {'NDCG': 0.06627271250520546}, 0.4324909448623657], [21, {'F1-score': 0.041712527285200626}, {'NDCG': 0.06686701733422906}, 0.43909600377082825], [22, {'F1-score': 0.041596470096774966}, {'NDCG': 0.06663158744629613}, 0.44651371240615845], [23, {'F1-score': 0.04188483304961162}, {'NDCG': 0.06726529695359725}, 0.44020524621009827], [24, {'F1-score': 0.041875722441415825}, {'NDCG': 0.06715259264762465}, 0.4337669909000397], [25, {'F1-score': 0.041759519766403595}, {'NDCG': 0.0670157974950017}, 0.4470067322254181], [26, {'F1-score': 0.04188483304961165}, {'NDCG': 0.06707479472139052}, 0.44110390543937683], [27, {'F1-score': 0.04188483304961166}, {'NDCG': 0.06733244635108718}, 0.44488102197647095], [28, {'F1-score': 0.041456503823184214}, {'NDCG': 0.06660339801005066}, 0.43816784024238586], [29, {'F1-score': 0.04179939217469705}, {'NDCG': 0.06706785570648044}, 0.4451412856578827], [30, {'F1-score': 0.04074607712786823}, {'NDCG': 0.06634238444940936}, 0.44493621587753296], [31, {'F1-score': 0.04163511593788657}, {'NDCG': 0.06670226508933574}, 0.44865429401397705], [32, {'F1-score': 0.04179339971514426}, {'NDCG': 0.066950239682276}, 0.4361487329006195], [33, {'F1-score': 0.040294844051835796}, {'NDCG': 0.06575927603289597}, 0.442504346370697], [34, {'F1-score': 0.03942821066210796}, {'NDCG': 0.06529323660061323}, 0.44157904386520386], [35, {'F1-score': 0.041790848087205575}, {'NDCG': 0.06717998595712216}, 0.4472059905529022], [36, {'F1-score': 0.04169101957490024}, {'NDCG': 0.06682919933201563}, 0.4444219172000885], [37, {'F1-score': 0.04188483304961165}, {'NDCG': 0.06707479472139052}, 0.44721364974975586], [38, {'F1-score': 0.04181253692468395}, {'NDCG': 0.06693259432659786}, 0.43728116154670715], [39, {'F1-score': 0.04188483304961164}, {'NDCG': 0.06707479472139052}, 0.4385536015033722], [40, {'F1-score': 0.041766867088420895}, {'NDCG': 0.06691069729780232}, 0.4536215364933014], [41, {'F1-score': 0.04152664370220594}, {'NDCG': 0.06679002065351583}, 0.44467735290527344], [42, {'F1-score': 0.04188483304961162}, {'NDCG': 0.06714686300759588}, 0.4418374300003052], [43, {'F1-score': 0.04106294989995311}, {'NDCG': 0.06674046975147344}, 0.4322861433029175], [44, {'F1-score': 0.04179084808720564}, {'NDCG': 0.06718674410288607}, 0.43474480509757996], [45, {'F1-score': 0.041806512247606585}, {'NDCG': 0.06698748321251426}, 0.43682339787483215], [46, {'F1-score': 0.0417570464779192}, {'NDCG': 0.06707446923115312}, 0.4366386830806732], [47, {'F1-score': 0.041805500184069956}, {'NDCG': 0.06703487968534455}, 0.43605875968933105]]\n",
      "-----------------------------------------------------------------------------------------\n"
     ]
    },
    {
     "name": "stderr",
     "output_type": "stream",
     "text": [
      "\r",
      "  0%|          | 0/932 [00:00<?, ?it/s]"
     ]
    },
    {
     "name": "stdout",
     "output_type": "stream",
     "text": [
      "Epoch 48: 0% , Loss: 0.207666\n"
     ]
    },
    {
     "name": "stderr",
     "output_type": "stream",
     "text": [
      " 11%|█         | 102/932 [00:11<01:30,  9.17it/s]"
     ]
    },
    {
     "name": "stdout",
     "output_type": "stream",
     "text": [
      "Epoch 48: 11% , Loss: 0.781078\n"
     ]
    },
    {
     "name": "stderr",
     "output_type": "stream",
     "text": [
      " 22%|██▏       | 202/932 [00:23<01:31,  8.02it/s]"
     ]
    },
    {
     "name": "stdout",
     "output_type": "stream",
     "text": [
      "Epoch 48: 21% , Loss: 0.122335\n"
     ]
    },
    {
     "name": "stderr",
     "output_type": "stream",
     "text": [
      " 32%|███▏      | 302/932 [00:36<01:23,  7.59it/s]"
     ]
    },
    {
     "name": "stdout",
     "output_type": "stream",
     "text": [
      "Epoch 48: 32% , Loss: 0.222695\n"
     ]
    },
    {
     "name": "stderr",
     "output_type": "stream",
     "text": [
      " 43%|████▎     | 402/932 [00:50<01:13,  7.22it/s]"
     ]
    },
    {
     "name": "stdout",
     "output_type": "stream",
     "text": [
      "Epoch 48: 43% , Loss: 0.136489\n"
     ]
    },
    {
     "name": "stderr",
     "output_type": "stream",
     "text": [
      " 54%|█████▍    | 502/932 [01:04<01:05,  6.56it/s]"
     ]
    },
    {
     "name": "stdout",
     "output_type": "stream",
     "text": [
      "Epoch 48: 54% , Loss: 0.267100\n"
     ]
    },
    {
     "name": "stderr",
     "output_type": "stream",
     "text": [
      " 65%|██████▍   | 602/932 [01:19<00:50,  6.51it/s]"
     ]
    },
    {
     "name": "stdout",
     "output_type": "stream",
     "text": [
      "Epoch 48: 64% , Loss: 1.082147\n"
     ]
    },
    {
     "name": "stderr",
     "output_type": "stream",
     "text": [
      " 75%|███████▌  | 701/932 [01:34<00:36,  6.38it/s]"
     ]
    },
    {
     "name": "stdout",
     "output_type": "stream",
     "text": [
      "Epoch 48: 75% , Loss: 0.052858\n"
     ]
    },
    {
     "name": "stderr",
     "output_type": "stream",
     "text": [
      " 86%|████████▌ | 801/932 [01:50<00:21,  6.19it/s]"
     ]
    },
    {
     "name": "stdout",
     "output_type": "stream",
     "text": [
      "Epoch 48: 86% , Loss: 0.217893\n"
     ]
    },
    {
     "name": "stderr",
     "output_type": "stream",
     "text": [
      " 97%|█████████▋| 901/932 [02:07<00:05,  6.09it/s]"
     ]
    },
    {
     "name": "stdout",
     "output_type": "stream",
     "text": [
      "Epoch 48: 97% , Loss: 0.224028\n"
     ]
    },
    {
     "name": "stderr",
     "output_type": "stream",
     "text": [
      "100%|██████████| 932/932 [02:12<00:00,  7.04it/s]\n"
     ]
    },
    {
     "name": "stdout",
     "output_type": "stream",
     "text": [
      "Epoch 48: 100% , Loss: 1.086657\n",
      "                      (F1-score: 0.0441)\n",
      "\n",
      "                      (NDCG: 0.0714)\n",
      "\n",
      "train_loss= tensor(0.4892)\n",
      "--------------------\n"
     ]
    },
    {
     "name": "stderr",
     "output_type": "stream",
     "text": [
      "100%|██████████| 133/133 [00:10<00:00, 12.89it/s]\n"
     ]
    },
    {
     "name": "stdout",
     "output_type": "stream",
     "text": [
      "                      (F1-score: 0.0406)\n",
      "\n",
      "                      (NDCG: 0.0658)\n",
      "\n",
      "val_loss= tensor(0.4359)\n",
      "--------------------\n"
     ]
    },
    {
     "name": "stderr",
     "output_type": "stream",
     "text": [
      "100%|██████████| 266/266 [00:21<00:00, 12.15it/s]\n"
     ]
    },
    {
     "name": "stdout",
     "output_type": "stream",
     "text": [
      "                      (F1-score: 0.0419)\n",
      "\n",
      "                      (NDCG: 0.0671)\n",
      "\n",
      "--------------------\n",
      "[[1, {'F1-score': 1.3426423200859293e-05}, {'NDCG': 7.968989754081668e-05}, 0.7953537106513977], [2, {'F1-score': 1.3426423200859293e-05}, {'NDCG': 7.968989754081668e-05}, 0.6858023405075073], [3, {'F1-score': 0.019103043976875064}, {'NDCG': 0.026571972600247403}, 0.5548844933509827], [4, {'F1-score': 0.02096858546187785}, {'NDCG': 0.04502920015834104}, 0.5526114106178284], [5, {'F1-score': 0.0354590595521211}, {'NDCG': 0.06195987741413869}, 0.5065855979919434], [6, {'F1-score': 0.04001724550510854}, {'NDCG': 0.0661786503886762}, 0.46960675716400146], [7, {'F1-score': 0.03779091447649205}, {'NDCG': 0.06406164879707578}, 0.4804374873638153], [8, {'F1-score': 0.040584136147165446}, {'NDCG': 0.06627678838943628}, 0.4667186737060547], [9, {'F1-score': 0.04058952926822324}, {'NDCG': 0.06623147309694748}, 0.45862865447998047], [10, {'F1-score': 0.040584136147165516}, {'NDCG': 0.0670063053152727}, 0.4817570149898529], [11, {'F1-score': 0.04158147724217505}, {'NDCG': 0.06707023027093899}, 0.4459657669067383], [12, {'F1-score': 0.03954475830888581}, {'NDCG': 0.06514711363619208}, 0.45868179202079773], [13, {'F1-score': 0.04154666799683949}, {'NDCG': 0.06700901980196736}, 0.45887869596481323], [14, {'F1-score': 0.04158147724217507}, {'NDCG': 0.06721850460801358}, 0.45013514161109924], [15, {'F1-score': 0.04138536532509799}, {'NDCG': 0.06757978630021103}, 0.46377432346343994], [16, {'F1-score': 0.041054382350920716}, {'NDCG': 0.0666698455614479}, 0.44927778840065], [17, {'F1-score': 0.04146422109894341}, {'NDCG': 0.06700026461350403}, 0.45049527287483215], [18, {'F1-score': 0.04105438235092071}, {'NDCG': 0.06661812614831597}, 0.4510195255279541], [19, {'F1-score': 0.041829547777608105}, {'NDCG': 0.06712048681438866}, 0.4386899173259735], [20, {'F1-score': 0.04093191317352164}, {'NDCG': 0.06627271250520546}, 0.4324909448623657], [21, {'F1-score': 0.041712527285200626}, {'NDCG': 0.06686701733422906}, 0.43909600377082825], [22, {'F1-score': 0.041596470096774966}, {'NDCG': 0.06663158744629613}, 0.44651371240615845], [23, {'F1-score': 0.04188483304961162}, {'NDCG': 0.06726529695359725}, 0.44020524621009827], [24, {'F1-score': 0.041875722441415825}, {'NDCG': 0.06715259264762465}, 0.4337669909000397], [25, {'F1-score': 0.041759519766403595}, {'NDCG': 0.0670157974950017}, 0.4470067322254181], [26, {'F1-score': 0.04188483304961165}, {'NDCG': 0.06707479472139052}, 0.44110390543937683], [27, {'F1-score': 0.04188483304961166}, {'NDCG': 0.06733244635108718}, 0.44488102197647095], [28, {'F1-score': 0.041456503823184214}, {'NDCG': 0.06660339801005066}, 0.43816784024238586], [29, {'F1-score': 0.04179939217469705}, {'NDCG': 0.06706785570648044}, 0.4451412856578827], [30, {'F1-score': 0.04074607712786823}, {'NDCG': 0.06634238444940936}, 0.44493621587753296], [31, {'F1-score': 0.04163511593788657}, {'NDCG': 0.06670226508933574}, 0.44865429401397705], [32, {'F1-score': 0.04179339971514426}, {'NDCG': 0.066950239682276}, 0.4361487329006195], [33, {'F1-score': 0.040294844051835796}, {'NDCG': 0.06575927603289597}, 0.442504346370697], [34, {'F1-score': 0.03942821066210796}, {'NDCG': 0.06529323660061323}, 0.44157904386520386], [35, {'F1-score': 0.041790848087205575}, {'NDCG': 0.06717998595712216}, 0.4472059905529022], [36, {'F1-score': 0.04169101957490024}, {'NDCG': 0.06682919933201563}, 0.4444219172000885], [37, {'F1-score': 0.04188483304961165}, {'NDCG': 0.06707479472139052}, 0.44721364974975586], [38, {'F1-score': 0.04181253692468395}, {'NDCG': 0.06693259432659786}, 0.43728116154670715], [39, {'F1-score': 0.04188483304961164}, {'NDCG': 0.06707479472139052}, 0.4385536015033722], [40, {'F1-score': 0.041766867088420895}, {'NDCG': 0.06691069729780232}, 0.4536215364933014], [41, {'F1-score': 0.04152664370220594}, {'NDCG': 0.06679002065351583}, 0.44467735290527344], [42, {'F1-score': 0.04188483304961162}, {'NDCG': 0.06714686300759588}, 0.4418374300003052], [43, {'F1-score': 0.04106294989995311}, {'NDCG': 0.06674046975147344}, 0.4322861433029175], [44, {'F1-score': 0.04179084808720564}, {'NDCG': 0.06718674410288607}, 0.43474480509757996], [45, {'F1-score': 0.041806512247606585}, {'NDCG': 0.06698748321251426}, 0.43682339787483215], [46, {'F1-score': 0.0417570464779192}, {'NDCG': 0.06707446923115312}, 0.4366386830806732], [47, {'F1-score': 0.041805500184069956}, {'NDCG': 0.06703487968534455}, 0.43605875968933105], [48, {'F1-score': 0.041884833049611665}, {'NDCG': 0.06714686300759588}, 0.4358692765235901]]\n",
      "-----------------------------------------------------------------------------------------\n"
     ]
    },
    {
     "name": "stderr",
     "output_type": "stream",
     "text": [
      "  0%|          | 2/932 [00:00<01:50,  8.40it/s]"
     ]
    },
    {
     "name": "stdout",
     "output_type": "stream",
     "text": [
      "Epoch 49: 0% , Loss: 1.838018\n"
     ]
    },
    {
     "name": "stderr",
     "output_type": "stream",
     "text": [
      " 11%|█         | 101/932 [00:11<01:48,  7.67it/s]"
     ]
    },
    {
     "name": "stdout",
     "output_type": "stream",
     "text": [
      "Epoch 49: 11% , Loss: 0.361294\n"
     ]
    },
    {
     "name": "stderr",
     "output_type": "stream",
     "text": [
      " 22%|██▏       | 202/932 [00:24<01:29,  8.12it/s]"
     ]
    },
    {
     "name": "stdout",
     "output_type": "stream",
     "text": [
      "Epoch 49: 21% , Loss: 0.163563\n"
     ]
    },
    {
     "name": "stderr",
     "output_type": "stream",
     "text": [
      " 32%|███▏      | 302/932 [00:36<01:29,  7.06it/s]"
     ]
    },
    {
     "name": "stdout",
     "output_type": "stream",
     "text": [
      "Epoch 49: 32% , Loss: 0.775851\n"
     ]
    },
    {
     "name": "stderr",
     "output_type": "stream",
     "text": [
      " 43%|████▎     | 402/932 [00:50<01:12,  7.36it/s]"
     ]
    },
    {
     "name": "stdout",
     "output_type": "stream",
     "text": [
      "Epoch 49: 43% , Loss: 0.344477\n"
     ]
    },
    {
     "name": "stderr",
     "output_type": "stream",
     "text": [
      " 54%|█████▍    | 502/932 [01:04<01:04,  6.65it/s]"
     ]
    },
    {
     "name": "stdout",
     "output_type": "stream",
     "text": [
      "Epoch 49: 54% , Loss: 0.129501\n"
     ]
    },
    {
     "name": "stderr",
     "output_type": "stream",
     "text": [
      " 65%|██████▍   | 602/932 [01:19<00:56,  5.87it/s]"
     ]
    },
    {
     "name": "stdout",
     "output_type": "stream",
     "text": [
      "Epoch 49: 64% , Loss: 0.109606\n"
     ]
    },
    {
     "name": "stderr",
     "output_type": "stream",
     "text": [
      " 75%|███████▌  | 702/932 [01:34<00:34,  6.62it/s]"
     ]
    },
    {
     "name": "stdout",
     "output_type": "stream",
     "text": [
      "Epoch 49: 75% , Loss: 1.396914\n"
     ]
    },
    {
     "name": "stderr",
     "output_type": "stream",
     "text": [
      " 86%|████████▌ | 801/932 [01:50<00:20,  6.36it/s]"
     ]
    },
    {
     "name": "stdout",
     "output_type": "stream",
     "text": [
      "Epoch 49: 86% , Loss: 0.534165\n"
     ]
    },
    {
     "name": "stderr",
     "output_type": "stream",
     "text": [
      " 97%|█████████▋| 901/932 [02:07<00:05,  5.70it/s]"
     ]
    },
    {
     "name": "stdout",
     "output_type": "stream",
     "text": [
      "Epoch 49: 97% , Loss: 0.746759\n"
     ]
    },
    {
     "name": "stderr",
     "output_type": "stream",
     "text": [
      "100%|██████████| 932/932 [02:13<00:00,  7.01it/s]\n"
     ]
    },
    {
     "name": "stdout",
     "output_type": "stream",
     "text": [
      "Epoch 49: 100% , Loss: 0.131515\n",
      "                      (F1-score: 0.0439)\n",
      "\n",
      "                      (NDCG: 0.0713)\n",
      "\n",
      "train_loss= tensor(0.4889)\n",
      "--------------------\n"
     ]
    },
    {
     "name": "stderr",
     "output_type": "stream",
     "text": [
      "100%|██████████| 133/133 [00:10<00:00, 13.14it/s]\n"
     ]
    },
    {
     "name": "stdout",
     "output_type": "stream",
     "text": [
      "                      (F1-score: 0.0400)\n",
      "\n",
      "                      (NDCG: 0.0653)\n",
      "\n",
      "val_loss= tensor(0.4386)\n",
      "--------------------\n"
     ]
    },
    {
     "name": "stderr",
     "output_type": "stream",
     "text": [
      "100%|██████████| 266/266 [00:22<00:00, 11.96it/s]\n"
     ]
    },
    {
     "name": "stdout",
     "output_type": "stream",
     "text": [
      "                      (F1-score: 0.0417)\n",
      "\n",
      "                      (NDCG: 0.0669)\n",
      "\n",
      "--------------------\n",
      "[[1, {'F1-score': 1.3426423200859293e-05}, {'NDCG': 7.968989754081668e-05}, 0.7953537106513977], [2, {'F1-score': 1.3426423200859293e-05}, {'NDCG': 7.968989754081668e-05}, 0.6858023405075073], [3, {'F1-score': 0.019103043976875064}, {'NDCG': 0.026571972600247403}, 0.5548844933509827], [4, {'F1-score': 0.02096858546187785}, {'NDCG': 0.04502920015834104}, 0.5526114106178284], [5, {'F1-score': 0.0354590595521211}, {'NDCG': 0.06195987741413869}, 0.5065855979919434], [6, {'F1-score': 0.04001724550510854}, {'NDCG': 0.0661786503886762}, 0.46960675716400146], [7, {'F1-score': 0.03779091447649205}, {'NDCG': 0.06406164879707578}, 0.4804374873638153], [8, {'F1-score': 0.040584136147165446}, {'NDCG': 0.06627678838943628}, 0.4667186737060547], [9, {'F1-score': 0.04058952926822324}, {'NDCG': 0.06623147309694748}, 0.45862865447998047], [10, {'F1-score': 0.040584136147165516}, {'NDCG': 0.0670063053152727}, 0.4817570149898529], [11, {'F1-score': 0.04158147724217505}, {'NDCG': 0.06707023027093899}, 0.4459657669067383], [12, {'F1-score': 0.03954475830888581}, {'NDCG': 0.06514711363619208}, 0.45868179202079773], [13, {'F1-score': 0.04154666799683949}, {'NDCG': 0.06700901980196736}, 0.45887869596481323], [14, {'F1-score': 0.04158147724217507}, {'NDCG': 0.06721850460801358}, 0.45013514161109924], [15, {'F1-score': 0.04138536532509799}, {'NDCG': 0.06757978630021103}, 0.46377432346343994], [16, {'F1-score': 0.041054382350920716}, {'NDCG': 0.0666698455614479}, 0.44927778840065], [17, {'F1-score': 0.04146422109894341}, {'NDCG': 0.06700026461350403}, 0.45049527287483215], [18, {'F1-score': 0.04105438235092071}, {'NDCG': 0.06661812614831597}, 0.4510195255279541], [19, {'F1-score': 0.041829547777608105}, {'NDCG': 0.06712048681438866}, 0.4386899173259735], [20, {'F1-score': 0.04093191317352164}, {'NDCG': 0.06627271250520546}, 0.4324909448623657], [21, {'F1-score': 0.041712527285200626}, {'NDCG': 0.06686701733422906}, 0.43909600377082825], [22, {'F1-score': 0.041596470096774966}, {'NDCG': 0.06663158744629613}, 0.44651371240615845], [23, {'F1-score': 0.04188483304961162}, {'NDCG': 0.06726529695359725}, 0.44020524621009827], [24, {'F1-score': 0.041875722441415825}, {'NDCG': 0.06715259264762465}, 0.4337669909000397], [25, {'F1-score': 0.041759519766403595}, {'NDCG': 0.0670157974950017}, 0.4470067322254181], [26, {'F1-score': 0.04188483304961165}, {'NDCG': 0.06707479472139052}, 0.44110390543937683], [27, {'F1-score': 0.04188483304961166}, {'NDCG': 0.06733244635108718}, 0.44488102197647095], [28, {'F1-score': 0.041456503823184214}, {'NDCG': 0.06660339801005066}, 0.43816784024238586], [29, {'F1-score': 0.04179939217469705}, {'NDCG': 0.06706785570648044}, 0.4451412856578827], [30, {'F1-score': 0.04074607712786823}, {'NDCG': 0.06634238444940936}, 0.44493621587753296], [31, {'F1-score': 0.04163511593788657}, {'NDCG': 0.06670226508933574}, 0.44865429401397705], [32, {'F1-score': 0.04179339971514426}, {'NDCG': 0.066950239682276}, 0.4361487329006195], [33, {'F1-score': 0.040294844051835796}, {'NDCG': 0.06575927603289597}, 0.442504346370697], [34, {'F1-score': 0.03942821066210796}, {'NDCG': 0.06529323660061323}, 0.44157904386520386], [35, {'F1-score': 0.041790848087205575}, {'NDCG': 0.06717998595712216}, 0.4472059905529022], [36, {'F1-score': 0.04169101957490024}, {'NDCG': 0.06682919933201563}, 0.4444219172000885], [37, {'F1-score': 0.04188483304961165}, {'NDCG': 0.06707479472139052}, 0.44721364974975586], [38, {'F1-score': 0.04181253692468395}, {'NDCG': 0.06693259432659786}, 0.43728116154670715], [39, {'F1-score': 0.04188483304961164}, {'NDCG': 0.06707479472139052}, 0.4385536015033722], [40, {'F1-score': 0.041766867088420895}, {'NDCG': 0.06691069729780232}, 0.4536215364933014], [41, {'F1-score': 0.04152664370220594}, {'NDCG': 0.06679002065351583}, 0.44467735290527344], [42, {'F1-score': 0.04188483304961162}, {'NDCG': 0.06714686300759588}, 0.4418374300003052], [43, {'F1-score': 0.04106294989995311}, {'NDCG': 0.06674046975147344}, 0.4322861433029175], [44, {'F1-score': 0.04179084808720564}, {'NDCG': 0.06718674410288607}, 0.43474480509757996], [45, {'F1-score': 0.041806512247606585}, {'NDCG': 0.06698748321251426}, 0.43682339787483215], [46, {'F1-score': 0.0417570464779192}, {'NDCG': 0.06707446923115312}, 0.4366386830806732], [47, {'F1-score': 0.041805500184069956}, {'NDCG': 0.06703487968534455}, 0.43605875968933105], [48, {'F1-score': 0.041884833049611665}, {'NDCG': 0.06714686300759588}, 0.4358692765235901], [49, {'F1-score': 0.04166004726606064}, {'NDCG': 0.0669479221210612}, 0.4386000633239746]]\n",
      "-----------------------------------------------------------------------------------------\n"
     ]
    },
    {
     "name": "stderr",
     "output_type": "stream",
     "text": [
      "  0%|          | 2/932 [00:00<01:42,  9.09it/s]"
     ]
    },
    {
     "name": "stdout",
     "output_type": "stream",
     "text": [
      "Epoch 50: 0% , Loss: 0.183191\n"
     ]
    },
    {
     "name": "stderr",
     "output_type": "stream",
     "text": [
      " 11%|█         | 102/932 [00:11<01:29,  9.28it/s]"
     ]
    },
    {
     "name": "stdout",
     "output_type": "stream",
     "text": [
      "Epoch 50: 11% , Loss: 0.305068\n"
     ]
    },
    {
     "name": "stderr",
     "output_type": "stream",
     "text": [
      " 22%|██▏       | 202/932 [00:23<01:37,  7.47it/s]"
     ]
    },
    {
     "name": "stdout",
     "output_type": "stream",
     "text": [
      "Epoch 50: 21% , Loss: 0.165767\n"
     ]
    },
    {
     "name": "stderr",
     "output_type": "stream",
     "text": [
      " 32%|███▏      | 302/932 [00:36<01:21,  7.74it/s]"
     ]
    },
    {
     "name": "stdout",
     "output_type": "stream",
     "text": [
      "Epoch 50: 32% , Loss: 0.797306\n"
     ]
    },
    {
     "name": "stderr",
     "output_type": "stream",
     "text": [
      " 43%|████▎     | 402/932 [00:49<01:10,  7.52it/s]"
     ]
    },
    {
     "name": "stdout",
     "output_type": "stream",
     "text": [
      "Epoch 50: 43% , Loss: 0.310388\n"
     ]
    },
    {
     "name": "stderr",
     "output_type": "stream",
     "text": [
      " 54%|█████▍    | 502/932 [01:04<01:01,  7.03it/s]"
     ]
    },
    {
     "name": "stdout",
     "output_type": "stream",
     "text": [
      "Epoch 50: 54% , Loss: 0.369118\n"
     ]
    },
    {
     "name": "stderr",
     "output_type": "stream",
     "text": [
      " 65%|██████▍   | 602/932 [01:19<00:47,  6.95it/s]"
     ]
    },
    {
     "name": "stdout",
     "output_type": "stream",
     "text": [
      "Epoch 50: 64% , Loss: 0.230193\n"
     ]
    },
    {
     "name": "stderr",
     "output_type": "stream",
     "text": [
      " 75%|███████▌  | 702/932 [01:34<00:36,  6.22it/s]"
     ]
    },
    {
     "name": "stdout",
     "output_type": "stream",
     "text": [
      "Epoch 50: 75% , Loss: 0.152473\n"
     ]
    },
    {
     "name": "stderr",
     "output_type": "stream",
     "text": [
      " 86%|████████▌ | 801/932 [01:50<00:20,  6.30it/s]"
     ]
    },
    {
     "name": "stdout",
     "output_type": "stream",
     "text": [
      "Epoch 50: 86% , Loss: 0.366124\n"
     ]
    },
    {
     "name": "stderr",
     "output_type": "stream",
     "text": [
      " 97%|█████████▋| 901/932 [02:07<00:05,  5.55it/s]"
     ]
    },
    {
     "name": "stdout",
     "output_type": "stream",
     "text": [
      "Epoch 50: 97% , Loss: 0.496003\n"
     ]
    },
    {
     "name": "stderr",
     "output_type": "stream",
     "text": [
      "100%|██████████| 932/932 [02:12<00:00,  7.02it/s]\n"
     ]
    },
    {
     "name": "stdout",
     "output_type": "stream",
     "text": [
      "Epoch 50: 100% , Loss: 0.694699\n",
      "                      (F1-score: 0.0443)\n",
      "\n",
      "                      (NDCG: 0.0716)\n",
      "\n",
      "train_loss= tensor(0.4881)\n",
      "--------------------\n"
     ]
    },
    {
     "name": "stderr",
     "output_type": "stream",
     "text": [
      "100%|██████████| 133/133 [00:10<00:00, 12.16it/s]\n"
     ]
    },
    {
     "name": "stdout",
     "output_type": "stream",
     "text": [
      "                      (F1-score: 0.0401)\n",
      "\n",
      "                      (NDCG: 0.0655)\n",
      "\n",
      "val_loss= tensor(0.4386)\n",
      "--------------------\n"
     ]
    },
    {
     "name": "stderr",
     "output_type": "stream",
     "text": [
      "100%|██████████| 266/266 [00:21<00:00, 12.17it/s]\n"
     ]
    },
    {
     "name": "stdout",
     "output_type": "stream",
     "text": [
      "                      (F1-score: 0.0418)\n",
      "\n",
      "                      (NDCG: 0.0670)\n",
      "\n",
      "--------------------\n",
      "[[1, {'F1-score': 1.3426423200859293e-05}, {'NDCG': 7.968989754081668e-05}, 0.7953537106513977], [2, {'F1-score': 1.3426423200859293e-05}, {'NDCG': 7.968989754081668e-05}, 0.6858023405075073], [3, {'F1-score': 0.019103043976875064}, {'NDCG': 0.026571972600247403}, 0.5548844933509827], [4, {'F1-score': 0.02096858546187785}, {'NDCG': 0.04502920015834104}, 0.5526114106178284], [5, {'F1-score': 0.0354590595521211}, {'NDCG': 0.06195987741413869}, 0.5065855979919434], [6, {'F1-score': 0.04001724550510854}, {'NDCG': 0.0661786503886762}, 0.46960675716400146], [7, {'F1-score': 0.03779091447649205}, {'NDCG': 0.06406164879707578}, 0.4804374873638153], [8, {'F1-score': 0.040584136147165446}, {'NDCG': 0.06627678838943628}, 0.4667186737060547], [9, {'F1-score': 0.04058952926822324}, {'NDCG': 0.06623147309694748}, 0.45862865447998047], [10, {'F1-score': 0.040584136147165516}, {'NDCG': 0.0670063053152727}, 0.4817570149898529], [11, {'F1-score': 0.04158147724217505}, {'NDCG': 0.06707023027093899}, 0.4459657669067383], [12, {'F1-score': 0.03954475830888581}, {'NDCG': 0.06514711363619208}, 0.45868179202079773], [13, {'F1-score': 0.04154666799683949}, {'NDCG': 0.06700901980196736}, 0.45887869596481323], [14, {'F1-score': 0.04158147724217507}, {'NDCG': 0.06721850460801358}, 0.45013514161109924], [15, {'F1-score': 0.04138536532509799}, {'NDCG': 0.06757978630021103}, 0.46377432346343994], [16, {'F1-score': 0.041054382350920716}, {'NDCG': 0.0666698455614479}, 0.44927778840065], [17, {'F1-score': 0.04146422109894341}, {'NDCG': 0.06700026461350403}, 0.45049527287483215], [18, {'F1-score': 0.04105438235092071}, {'NDCG': 0.06661812614831597}, 0.4510195255279541], [19, {'F1-score': 0.041829547777608105}, {'NDCG': 0.06712048681438866}, 0.4386899173259735], [20, {'F1-score': 0.04093191317352164}, {'NDCG': 0.06627271250520546}, 0.4324909448623657], [21, {'F1-score': 0.041712527285200626}, {'NDCG': 0.06686701733422906}, 0.43909600377082825], [22, {'F1-score': 0.041596470096774966}, {'NDCG': 0.06663158744629613}, 0.44651371240615845], [23, {'F1-score': 0.04188483304961162}, {'NDCG': 0.06726529695359725}, 0.44020524621009827], [24, {'F1-score': 0.041875722441415825}, {'NDCG': 0.06715259264762465}, 0.4337669909000397], [25, {'F1-score': 0.041759519766403595}, {'NDCG': 0.0670157974950017}, 0.4470067322254181], [26, {'F1-score': 0.04188483304961165}, {'NDCG': 0.06707479472139052}, 0.44110390543937683], [27, {'F1-score': 0.04188483304961166}, {'NDCG': 0.06733244635108718}, 0.44488102197647095], [28, {'F1-score': 0.041456503823184214}, {'NDCG': 0.06660339801005066}, 0.43816784024238586], [29, {'F1-score': 0.04179939217469705}, {'NDCG': 0.06706785570648044}, 0.4451412856578827], [30, {'F1-score': 0.04074607712786823}, {'NDCG': 0.06634238444940936}, 0.44493621587753296], [31, {'F1-score': 0.04163511593788657}, {'NDCG': 0.06670226508933574}, 0.44865429401397705], [32, {'F1-score': 0.04179339971514426}, {'NDCG': 0.066950239682276}, 0.4361487329006195], [33, {'F1-score': 0.040294844051835796}, {'NDCG': 0.06575927603289597}, 0.442504346370697], [34, {'F1-score': 0.03942821066210796}, {'NDCG': 0.06529323660061323}, 0.44157904386520386], [35, {'F1-score': 0.041790848087205575}, {'NDCG': 0.06717998595712216}, 0.4472059905529022], [36, {'F1-score': 0.04169101957490024}, {'NDCG': 0.06682919933201563}, 0.4444219172000885], [37, {'F1-score': 0.04188483304961165}, {'NDCG': 0.06707479472139052}, 0.44721364974975586], [38, {'F1-score': 0.04181253692468395}, {'NDCG': 0.06693259432659786}, 0.43728116154670715], [39, {'F1-score': 0.04188483304961164}, {'NDCG': 0.06707479472139052}, 0.4385536015033722], [40, {'F1-score': 0.041766867088420895}, {'NDCG': 0.06691069729780232}, 0.4536215364933014], [41, {'F1-score': 0.04152664370220594}, {'NDCG': 0.06679002065351583}, 0.44467735290527344], [42, {'F1-score': 0.04188483304961162}, {'NDCG': 0.06714686300759588}, 0.4418374300003052], [43, {'F1-score': 0.04106294989995311}, {'NDCG': 0.06674046975147344}, 0.4322861433029175], [44, {'F1-score': 0.04179084808720564}, {'NDCG': 0.06718674410288607}, 0.43474480509757996], [45, {'F1-score': 0.041806512247606585}, {'NDCG': 0.06698748321251426}, 0.43682339787483215], [46, {'F1-score': 0.0417570464779192}, {'NDCG': 0.06707446923115312}, 0.4366386830806732], [47, {'F1-score': 0.041805500184069956}, {'NDCG': 0.06703487968534455}, 0.43605875968933105], [48, {'F1-score': 0.041884833049611665}, {'NDCG': 0.06714686300759588}, 0.4358692765235901], [49, {'F1-score': 0.04166004726606064}, {'NDCG': 0.0669479221210612}, 0.4386000633239746], [50, {'F1-score': 0.04175021491206642}, {'NDCG': 0.06698886797014147}, 0.43857070803642273]]\n",
      "-----------------------------------------------------------------------------------------\n"
     ]
    },
    {
     "data": {
      "text/html": [
       "<div>\n",
       "<style scoped>\n",
       "    .dataframe tbody tr th:only-of-type {\n",
       "        vertical-align: middle;\n",
       "    }\n",
       "\n",
       "    .dataframe tbody tr th {\n",
       "        vertical-align: top;\n",
       "    }\n",
       "\n",
       "    .dataframe thead th {\n",
       "        text-align: right;\n",
       "    }\n",
       "</style>\n",
       "<table border=\"1\" class=\"dataframe\">\n",
       "  <thead>\n",
       "    <tr style=\"text-align: right;\">\n",
       "      <th></th>\n",
       "      <th>Epoch</th>\n",
       "      <th>F1-score</th>\n",
       "      <th>NDCG</th>\n",
       "      <th>val_loss</th>\n",
       "    </tr>\n",
       "  </thead>\n",
       "  <tbody>\n",
       "    <tr>\n",
       "      <th>0</th>\n",
       "      <td>1</td>\n",
       "      <td>{'F1-score': 1.3426423200859293e-05}</td>\n",
       "      <td>{'NDCG': 7.968989754081668e-05}</td>\n",
       "      <td>0.795354</td>\n",
       "    </tr>\n",
       "    <tr>\n",
       "      <th>1</th>\n",
       "      <td>2</td>\n",
       "      <td>{'F1-score': 1.3426423200859293e-05}</td>\n",
       "      <td>{'NDCG': 7.968989754081668e-05}</td>\n",
       "      <td>0.685802</td>\n",
       "    </tr>\n",
       "    <tr>\n",
       "      <th>2</th>\n",
       "      <td>3</td>\n",
       "      <td>{'F1-score': 0.019103043976875064}</td>\n",
       "      <td>{'NDCG': 0.026571972600247403}</td>\n",
       "      <td>0.554884</td>\n",
       "    </tr>\n",
       "    <tr>\n",
       "      <th>3</th>\n",
       "      <td>4</td>\n",
       "      <td>{'F1-score': 0.02096858546187785}</td>\n",
       "      <td>{'NDCG': 0.04502920015834104}</td>\n",
       "      <td>0.552611</td>\n",
       "    </tr>\n",
       "    <tr>\n",
       "      <th>4</th>\n",
       "      <td>5</td>\n",
       "      <td>{'F1-score': 0.0354590595521211}</td>\n",
       "      <td>{'NDCG': 0.06195987741413869}</td>\n",
       "      <td>0.506586</td>\n",
       "    </tr>\n",
       "    <tr>\n",
       "      <th>5</th>\n",
       "      <td>6</td>\n",
       "      <td>{'F1-score': 0.04001724550510854}</td>\n",
       "      <td>{'NDCG': 0.0661786503886762}</td>\n",
       "      <td>0.469607</td>\n",
       "    </tr>\n",
       "    <tr>\n",
       "      <th>6</th>\n",
       "      <td>7</td>\n",
       "      <td>{'F1-score': 0.03779091447649205}</td>\n",
       "      <td>{'NDCG': 0.06406164879707578}</td>\n",
       "      <td>0.480437</td>\n",
       "    </tr>\n",
       "    <tr>\n",
       "      <th>7</th>\n",
       "      <td>8</td>\n",
       "      <td>{'F1-score': 0.040584136147165446}</td>\n",
       "      <td>{'NDCG': 0.06627678838943628}</td>\n",
       "      <td>0.466719</td>\n",
       "    </tr>\n",
       "    <tr>\n",
       "      <th>8</th>\n",
       "      <td>9</td>\n",
       "      <td>{'F1-score': 0.04058952926822324}</td>\n",
       "      <td>{'NDCG': 0.06623147309694748}</td>\n",
       "      <td>0.458629</td>\n",
       "    </tr>\n",
       "    <tr>\n",
       "      <th>9</th>\n",
       "      <td>10</td>\n",
       "      <td>{'F1-score': 0.040584136147165516}</td>\n",
       "      <td>{'NDCG': 0.0670063053152727}</td>\n",
       "      <td>0.481757</td>\n",
       "    </tr>\n",
       "    <tr>\n",
       "      <th>10</th>\n",
       "      <td>11</td>\n",
       "      <td>{'F1-score': 0.04158147724217505}</td>\n",
       "      <td>{'NDCG': 0.06707023027093899}</td>\n",
       "      <td>0.445966</td>\n",
       "    </tr>\n",
       "    <tr>\n",
       "      <th>11</th>\n",
       "      <td>12</td>\n",
       "      <td>{'F1-score': 0.03954475830888581}</td>\n",
       "      <td>{'NDCG': 0.06514711363619208}</td>\n",
       "      <td>0.458682</td>\n",
       "    </tr>\n",
       "    <tr>\n",
       "      <th>12</th>\n",
       "      <td>13</td>\n",
       "      <td>{'F1-score': 0.04154666799683949}</td>\n",
       "      <td>{'NDCG': 0.06700901980196736}</td>\n",
       "      <td>0.458879</td>\n",
       "    </tr>\n",
       "    <tr>\n",
       "      <th>13</th>\n",
       "      <td>14</td>\n",
       "      <td>{'F1-score': 0.04158147724217507}</td>\n",
       "      <td>{'NDCG': 0.06721850460801358}</td>\n",
       "      <td>0.450135</td>\n",
       "    </tr>\n",
       "    <tr>\n",
       "      <th>14</th>\n",
       "      <td>15</td>\n",
       "      <td>{'F1-score': 0.04138536532509799}</td>\n",
       "      <td>{'NDCG': 0.06757978630021103}</td>\n",
       "      <td>0.463774</td>\n",
       "    </tr>\n",
       "    <tr>\n",
       "      <th>15</th>\n",
       "      <td>16</td>\n",
       "      <td>{'F1-score': 0.041054382350920716}</td>\n",
       "      <td>{'NDCG': 0.0666698455614479}</td>\n",
       "      <td>0.449278</td>\n",
       "    </tr>\n",
       "    <tr>\n",
       "      <th>16</th>\n",
       "      <td>17</td>\n",
       "      <td>{'F1-score': 0.04146422109894341}</td>\n",
       "      <td>{'NDCG': 0.06700026461350403}</td>\n",
       "      <td>0.450495</td>\n",
       "    </tr>\n",
       "    <tr>\n",
       "      <th>17</th>\n",
       "      <td>18</td>\n",
       "      <td>{'F1-score': 0.04105438235092071}</td>\n",
       "      <td>{'NDCG': 0.06661812614831597}</td>\n",
       "      <td>0.451020</td>\n",
       "    </tr>\n",
       "    <tr>\n",
       "      <th>18</th>\n",
       "      <td>19</td>\n",
       "      <td>{'F1-score': 0.041829547777608105}</td>\n",
       "      <td>{'NDCG': 0.06712048681438866}</td>\n",
       "      <td>0.438690</td>\n",
       "    </tr>\n",
       "    <tr>\n",
       "      <th>19</th>\n",
       "      <td>20</td>\n",
       "      <td>{'F1-score': 0.04093191317352164}</td>\n",
       "      <td>{'NDCG': 0.06627271250520546}</td>\n",
       "      <td>0.432491</td>\n",
       "    </tr>\n",
       "    <tr>\n",
       "      <th>20</th>\n",
       "      <td>21</td>\n",
       "      <td>{'F1-score': 0.041712527285200626}</td>\n",
       "      <td>{'NDCG': 0.06686701733422906}</td>\n",
       "      <td>0.439096</td>\n",
       "    </tr>\n",
       "    <tr>\n",
       "      <th>21</th>\n",
       "      <td>22</td>\n",
       "      <td>{'F1-score': 0.041596470096774966}</td>\n",
       "      <td>{'NDCG': 0.06663158744629613}</td>\n",
       "      <td>0.446514</td>\n",
       "    </tr>\n",
       "    <tr>\n",
       "      <th>22</th>\n",
       "      <td>23</td>\n",
       "      <td>{'F1-score': 0.04188483304961162}</td>\n",
       "      <td>{'NDCG': 0.06726529695359725}</td>\n",
       "      <td>0.440205</td>\n",
       "    </tr>\n",
       "    <tr>\n",
       "      <th>23</th>\n",
       "      <td>24</td>\n",
       "      <td>{'F1-score': 0.041875722441415825}</td>\n",
       "      <td>{'NDCG': 0.06715259264762465}</td>\n",
       "      <td>0.433767</td>\n",
       "    </tr>\n",
       "    <tr>\n",
       "      <th>24</th>\n",
       "      <td>25</td>\n",
       "      <td>{'F1-score': 0.041759519766403595}</td>\n",
       "      <td>{'NDCG': 0.0670157974950017}</td>\n",
       "      <td>0.447007</td>\n",
       "    </tr>\n",
       "    <tr>\n",
       "      <th>25</th>\n",
       "      <td>26</td>\n",
       "      <td>{'F1-score': 0.04188483304961165}</td>\n",
       "      <td>{'NDCG': 0.06707479472139052}</td>\n",
       "      <td>0.441104</td>\n",
       "    </tr>\n",
       "    <tr>\n",
       "      <th>26</th>\n",
       "      <td>27</td>\n",
       "      <td>{'F1-score': 0.04188483304961166}</td>\n",
       "      <td>{'NDCG': 0.06733244635108718}</td>\n",
       "      <td>0.444881</td>\n",
       "    </tr>\n",
       "    <tr>\n",
       "      <th>27</th>\n",
       "      <td>28</td>\n",
       "      <td>{'F1-score': 0.041456503823184214}</td>\n",
       "      <td>{'NDCG': 0.06660339801005066}</td>\n",
       "      <td>0.438168</td>\n",
       "    </tr>\n",
       "    <tr>\n",
       "      <th>28</th>\n",
       "      <td>29</td>\n",
       "      <td>{'F1-score': 0.04179939217469705}</td>\n",
       "      <td>{'NDCG': 0.06706785570648044}</td>\n",
       "      <td>0.445141</td>\n",
       "    </tr>\n",
       "    <tr>\n",
       "      <th>29</th>\n",
       "      <td>30</td>\n",
       "      <td>{'F1-score': 0.04074607712786823}</td>\n",
       "      <td>{'NDCG': 0.06634238444940936}</td>\n",
       "      <td>0.444936</td>\n",
       "    </tr>\n",
       "    <tr>\n",
       "      <th>30</th>\n",
       "      <td>31</td>\n",
       "      <td>{'F1-score': 0.04163511593788657}</td>\n",
       "      <td>{'NDCG': 0.06670226508933574}</td>\n",
       "      <td>0.448654</td>\n",
       "    </tr>\n",
       "    <tr>\n",
       "      <th>31</th>\n",
       "      <td>32</td>\n",
       "      <td>{'F1-score': 0.04179339971514426}</td>\n",
       "      <td>{'NDCG': 0.066950239682276}</td>\n",
       "      <td>0.436149</td>\n",
       "    </tr>\n",
       "    <tr>\n",
       "      <th>32</th>\n",
       "      <td>33</td>\n",
       "      <td>{'F1-score': 0.040294844051835796}</td>\n",
       "      <td>{'NDCG': 0.06575927603289597}</td>\n",
       "      <td>0.442504</td>\n",
       "    </tr>\n",
       "    <tr>\n",
       "      <th>33</th>\n",
       "      <td>34</td>\n",
       "      <td>{'F1-score': 0.03942821066210796}</td>\n",
       "      <td>{'NDCG': 0.06529323660061323}</td>\n",
       "      <td>0.441579</td>\n",
       "    </tr>\n",
       "    <tr>\n",
       "      <th>34</th>\n",
       "      <td>35</td>\n",
       "      <td>{'F1-score': 0.041790848087205575}</td>\n",
       "      <td>{'NDCG': 0.06717998595712216}</td>\n",
       "      <td>0.447206</td>\n",
       "    </tr>\n",
       "    <tr>\n",
       "      <th>35</th>\n",
       "      <td>36</td>\n",
       "      <td>{'F1-score': 0.04169101957490024}</td>\n",
       "      <td>{'NDCG': 0.06682919933201563}</td>\n",
       "      <td>0.444422</td>\n",
       "    </tr>\n",
       "    <tr>\n",
       "      <th>36</th>\n",
       "      <td>37</td>\n",
       "      <td>{'F1-score': 0.04188483304961165}</td>\n",
       "      <td>{'NDCG': 0.06707479472139052}</td>\n",
       "      <td>0.447214</td>\n",
       "    </tr>\n",
       "    <tr>\n",
       "      <th>37</th>\n",
       "      <td>38</td>\n",
       "      <td>{'F1-score': 0.04181253692468395}</td>\n",
       "      <td>{'NDCG': 0.06693259432659786}</td>\n",
       "      <td>0.437281</td>\n",
       "    </tr>\n",
       "    <tr>\n",
       "      <th>38</th>\n",
       "      <td>39</td>\n",
       "      <td>{'F1-score': 0.04188483304961164}</td>\n",
       "      <td>{'NDCG': 0.06707479472139052}</td>\n",
       "      <td>0.438554</td>\n",
       "    </tr>\n",
       "    <tr>\n",
       "      <th>39</th>\n",
       "      <td>40</td>\n",
       "      <td>{'F1-score': 0.041766867088420895}</td>\n",
       "      <td>{'NDCG': 0.06691069729780232}</td>\n",
       "      <td>0.453622</td>\n",
       "    </tr>\n",
       "    <tr>\n",
       "      <th>40</th>\n",
       "      <td>41</td>\n",
       "      <td>{'F1-score': 0.04152664370220594}</td>\n",
       "      <td>{'NDCG': 0.06679002065351583}</td>\n",
       "      <td>0.444677</td>\n",
       "    </tr>\n",
       "    <tr>\n",
       "      <th>41</th>\n",
       "      <td>42</td>\n",
       "      <td>{'F1-score': 0.04188483304961162}</td>\n",
       "      <td>{'NDCG': 0.06714686300759588}</td>\n",
       "      <td>0.441837</td>\n",
       "    </tr>\n",
       "    <tr>\n",
       "      <th>42</th>\n",
       "      <td>43</td>\n",
       "      <td>{'F1-score': 0.04106294989995311}</td>\n",
       "      <td>{'NDCG': 0.06674046975147344}</td>\n",
       "      <td>0.432286</td>\n",
       "    </tr>\n",
       "    <tr>\n",
       "      <th>43</th>\n",
       "      <td>44</td>\n",
       "      <td>{'F1-score': 0.04179084808720564}</td>\n",
       "      <td>{'NDCG': 0.06718674410288607}</td>\n",
       "      <td>0.434745</td>\n",
       "    </tr>\n",
       "    <tr>\n",
       "      <th>44</th>\n",
       "      <td>45</td>\n",
       "      <td>{'F1-score': 0.041806512247606585}</td>\n",
       "      <td>{'NDCG': 0.06698748321251426}</td>\n",
       "      <td>0.436823</td>\n",
       "    </tr>\n",
       "    <tr>\n",
       "      <th>45</th>\n",
       "      <td>46</td>\n",
       "      <td>{'F1-score': 0.0417570464779192}</td>\n",
       "      <td>{'NDCG': 0.06707446923115312}</td>\n",
       "      <td>0.436639</td>\n",
       "    </tr>\n",
       "    <tr>\n",
       "      <th>46</th>\n",
       "      <td>47</td>\n",
       "      <td>{'F1-score': 0.041805500184069956}</td>\n",
       "      <td>{'NDCG': 0.06703487968534455}</td>\n",
       "      <td>0.436059</td>\n",
       "    </tr>\n",
       "    <tr>\n",
       "      <th>47</th>\n",
       "      <td>48</td>\n",
       "      <td>{'F1-score': 0.041884833049611665}</td>\n",
       "      <td>{'NDCG': 0.06714686300759588}</td>\n",
       "      <td>0.435869</td>\n",
       "    </tr>\n",
       "    <tr>\n",
       "      <th>48</th>\n",
       "      <td>49</td>\n",
       "      <td>{'F1-score': 0.04166004726606064}</td>\n",
       "      <td>{'NDCG': 0.0669479221210612}</td>\n",
       "      <td>0.438600</td>\n",
       "    </tr>\n",
       "    <tr>\n",
       "      <th>49</th>\n",
       "      <td>50</td>\n",
       "      <td>{'F1-score': 0.04175021491206642}</td>\n",
       "      <td>{'NDCG': 0.06698886797014147}</td>\n",
       "      <td>0.438571</td>\n",
       "    </tr>\n",
       "  </tbody>\n",
       "</table>\n",
       "</div>"
      ],
      "text/plain": [
       "    Epoch                              F1-score  \\\n",
       "0       1  {'F1-score': 1.3426423200859293e-05}   \n",
       "1       2  {'F1-score': 1.3426423200859293e-05}   \n",
       "2       3    {'F1-score': 0.019103043976875064}   \n",
       "3       4     {'F1-score': 0.02096858546187785}   \n",
       "4       5      {'F1-score': 0.0354590595521211}   \n",
       "5       6     {'F1-score': 0.04001724550510854}   \n",
       "6       7     {'F1-score': 0.03779091447649205}   \n",
       "7       8    {'F1-score': 0.040584136147165446}   \n",
       "8       9     {'F1-score': 0.04058952926822324}   \n",
       "9      10    {'F1-score': 0.040584136147165516}   \n",
       "10     11     {'F1-score': 0.04158147724217505}   \n",
       "11     12     {'F1-score': 0.03954475830888581}   \n",
       "12     13     {'F1-score': 0.04154666799683949}   \n",
       "13     14     {'F1-score': 0.04158147724217507}   \n",
       "14     15     {'F1-score': 0.04138536532509799}   \n",
       "15     16    {'F1-score': 0.041054382350920716}   \n",
       "16     17     {'F1-score': 0.04146422109894341}   \n",
       "17     18     {'F1-score': 0.04105438235092071}   \n",
       "18     19    {'F1-score': 0.041829547777608105}   \n",
       "19     20     {'F1-score': 0.04093191317352164}   \n",
       "20     21    {'F1-score': 0.041712527285200626}   \n",
       "21     22    {'F1-score': 0.041596470096774966}   \n",
       "22     23     {'F1-score': 0.04188483304961162}   \n",
       "23     24    {'F1-score': 0.041875722441415825}   \n",
       "24     25    {'F1-score': 0.041759519766403595}   \n",
       "25     26     {'F1-score': 0.04188483304961165}   \n",
       "26     27     {'F1-score': 0.04188483304961166}   \n",
       "27     28    {'F1-score': 0.041456503823184214}   \n",
       "28     29     {'F1-score': 0.04179939217469705}   \n",
       "29     30     {'F1-score': 0.04074607712786823}   \n",
       "30     31     {'F1-score': 0.04163511593788657}   \n",
       "31     32     {'F1-score': 0.04179339971514426}   \n",
       "32     33    {'F1-score': 0.040294844051835796}   \n",
       "33     34     {'F1-score': 0.03942821066210796}   \n",
       "34     35    {'F1-score': 0.041790848087205575}   \n",
       "35     36     {'F1-score': 0.04169101957490024}   \n",
       "36     37     {'F1-score': 0.04188483304961165}   \n",
       "37     38     {'F1-score': 0.04181253692468395}   \n",
       "38     39     {'F1-score': 0.04188483304961164}   \n",
       "39     40    {'F1-score': 0.041766867088420895}   \n",
       "40     41     {'F1-score': 0.04152664370220594}   \n",
       "41     42     {'F1-score': 0.04188483304961162}   \n",
       "42     43     {'F1-score': 0.04106294989995311}   \n",
       "43     44     {'F1-score': 0.04179084808720564}   \n",
       "44     45    {'F1-score': 0.041806512247606585}   \n",
       "45     46      {'F1-score': 0.0417570464779192}   \n",
       "46     47    {'F1-score': 0.041805500184069956}   \n",
       "47     48    {'F1-score': 0.041884833049611665}   \n",
       "48     49     {'F1-score': 0.04166004726606064}   \n",
       "49     50     {'F1-score': 0.04175021491206642}   \n",
       "\n",
       "                               NDCG  val_loss  \n",
       "0   {'NDCG': 7.968989754081668e-05}  0.795354  \n",
       "1   {'NDCG': 7.968989754081668e-05}  0.685802  \n",
       "2    {'NDCG': 0.026571972600247403}  0.554884  \n",
       "3     {'NDCG': 0.04502920015834104}  0.552611  \n",
       "4     {'NDCG': 0.06195987741413869}  0.506586  \n",
       "5      {'NDCG': 0.0661786503886762}  0.469607  \n",
       "6     {'NDCG': 0.06406164879707578}  0.480437  \n",
       "7     {'NDCG': 0.06627678838943628}  0.466719  \n",
       "8     {'NDCG': 0.06623147309694748}  0.458629  \n",
       "9      {'NDCG': 0.0670063053152727}  0.481757  \n",
       "10    {'NDCG': 0.06707023027093899}  0.445966  \n",
       "11    {'NDCG': 0.06514711363619208}  0.458682  \n",
       "12    {'NDCG': 0.06700901980196736}  0.458879  \n",
       "13    {'NDCG': 0.06721850460801358}  0.450135  \n",
       "14    {'NDCG': 0.06757978630021103}  0.463774  \n",
       "15     {'NDCG': 0.0666698455614479}  0.449278  \n",
       "16    {'NDCG': 0.06700026461350403}  0.450495  \n",
       "17    {'NDCG': 0.06661812614831597}  0.451020  \n",
       "18    {'NDCG': 0.06712048681438866}  0.438690  \n",
       "19    {'NDCG': 0.06627271250520546}  0.432491  \n",
       "20    {'NDCG': 0.06686701733422906}  0.439096  \n",
       "21    {'NDCG': 0.06663158744629613}  0.446514  \n",
       "22    {'NDCG': 0.06726529695359725}  0.440205  \n",
       "23    {'NDCG': 0.06715259264762465}  0.433767  \n",
       "24     {'NDCG': 0.0670157974950017}  0.447007  \n",
       "25    {'NDCG': 0.06707479472139052}  0.441104  \n",
       "26    {'NDCG': 0.06733244635108718}  0.444881  \n",
       "27    {'NDCG': 0.06660339801005066}  0.438168  \n",
       "28    {'NDCG': 0.06706785570648044}  0.445141  \n",
       "29    {'NDCG': 0.06634238444940936}  0.444936  \n",
       "30    {'NDCG': 0.06670226508933574}  0.448654  \n",
       "31      {'NDCG': 0.066950239682276}  0.436149  \n",
       "32    {'NDCG': 0.06575927603289597}  0.442504  \n",
       "33    {'NDCG': 0.06529323660061323}  0.441579  \n",
       "34    {'NDCG': 0.06717998595712216}  0.447206  \n",
       "35    {'NDCG': 0.06682919933201563}  0.444422  \n",
       "36    {'NDCG': 0.06707479472139052}  0.447214  \n",
       "37    {'NDCG': 0.06693259432659786}  0.437281  \n",
       "38    {'NDCG': 0.06707479472139052}  0.438554  \n",
       "39    {'NDCG': 0.06691069729780232}  0.453622  \n",
       "40    {'NDCG': 0.06679002065351583}  0.444677  \n",
       "41    {'NDCG': 0.06714686300759588}  0.441837  \n",
       "42    {'NDCG': 0.06674046975147344}  0.432286  \n",
       "43    {'NDCG': 0.06718674410288607}  0.434745  \n",
       "44    {'NDCG': 0.06698748321251426}  0.436823  \n",
       "45    {'NDCG': 0.06707446923115312}  0.436639  \n",
       "46    {'NDCG': 0.06703487968534455}  0.436059  \n",
       "47    {'NDCG': 0.06714686300759588}  0.435869  \n",
       "48     {'NDCG': 0.0669479221210612}  0.438600  \n",
       "49    {'NDCG': 0.06698886797014147}  0.438571  "
      ]
     },
     "execution_count": 40,
     "metadata": {},
     "output_type": "execute_result"
    }
   ],
   "source": [
    "# 消融實驗 w/o Item2vec and Confidence\n",
    "# MyModel02\n",
    "# 固定參數: epochs35 Transformer_layer=4 batch_size=8 embedding_size=32 hidden_size=128 lr=0.0001 num_layer=4 num_head=4\n",
    "\n",
    "results = []\n",
    "\n",
    "for epoch in range( 1  , EPOCHS + 1 ):\n",
    "    train_loss = train_model()\n",
    "    print(\"train_loss=\",train_loss)\n",
    "    print('-'*20)\n",
    "    val_loss = evaluate_model()\n",
    "    print(\"val_loss=\",val_loss)\n",
    "    print('-' * 20)\n",
    "    test_loss,f1_list,ndcg_list = test_model()\n",
    "    print('-' * 20)\n",
    "    result = [epoch] + f1_list + ndcg_list + [val_loss.item()]\n",
    "#     result = [epoch] + hr_list + f1_list + ndcg_list + [mrr_score,map_score] + [val_loss.item()]\n",
    "    results.append(result)\n",
    "    print(results)\n",
    "    print('-' * 89)\n",
    "    \n",
    "    collected = gc.collect()\n",
    "    torch.cuda.empty_cache()\n",
    "\n",
    "record_df = pd.DataFrame(results,columns=['Epoch','F1-score','NDCG','val_loss'])\n",
    "# record_df = pd.DataFrame(results,columns=['Epoch','HR@5', 'HR@10', 'HR@20', 'HR@50', 'F1-score@5', 'F1-score@10', 'F1-score@20', 'F1-score@50',\n",
    "#                            'NDCG@5', 'NDCG@10', 'NDCG@20', 'NDCG@50','MRR','MAP','val_loss'])\n",
    "record_df"
   ]
  },
  {
   "cell_type": "code",
   "execution_count": 41,
   "id": "4ff67314",
   "metadata": {},
   "outputs": [
    {
     "name": "stdout",
     "output_type": "stream",
     "text": [
      "tensor([0, 9])\n"
     ]
    },
    {
     "ename": "IndexError",
     "evalue": "Dimension out of range (expected to be in range of [-1, 0], but got 1)",
     "output_type": "error",
     "traceback": [
      "\u001b[1;31m---------------------------------------------------------------------------\u001b[0m",
      "\u001b[1;31mIndexError\u001b[0m                                Traceback (most recent call last)",
      "Cell \u001b[1;32mIn[41], line 4\u001b[0m\n\u001b[0;32m      2\u001b[0m mask \u001b[38;5;241m=\u001b[39m a\u001b[38;5;241m.\u001b[39msum(dim\u001b[38;5;241m=\u001b[39m\u001b[38;5;241m-\u001b[39m\u001b[38;5;241m1\u001b[39m)\n\u001b[0;32m      3\u001b[0m \u001b[38;5;28mprint\u001b[39m(mask)\n\u001b[1;32m----> 4\u001b[0m \u001b[38;5;28mprint\u001b[39m(mask\u001b[38;5;241m.\u001b[39mne(\u001b[38;5;241m0\u001b[39m)\u001b[38;5;241m.\u001b[39mtranspose(\u001b[38;5;241m0\u001b[39m,\u001b[38;5;241m1\u001b[39m))\n",
      "\u001b[1;31mIndexError\u001b[0m: Dimension out of range (expected to be in range of [-1, 0], but got 1)"
     ]
    }
   ],
   "source": [
    "a = torch.tensor([[0,0,0],[4,5,0]])\n",
    "mask = a.sum(dim=-1)\n",
    "print(mask)\n",
    "print(mask.ne(0).transpose(0,1))\n",
    "# 目的:相讓用戶的某個購物籃大小相同，再用key padding mask去遮padding的部分\n",
    "# 某位user的shape - (batch_size, cart的數量, item的維度)\n",
    "# 因為你padding所以代表某位用戶的cart裡面的item數量都相同\n",
    "# 代表可能是\n",
    "# [[[0,1,...,30,31],  ->第一個購物籃\n",
    "#   [32,33...,62,63],\n",
    "#   [0,0,...,0,0],],\n",
    "#  [[0,1,...,30,31],  ->第二個購物籃\n",
    "#   [32,33...,62,63],\n",
    "#   [64,65,...,94,95]]]\n",
    "# 所以sum(dim=-1)代表[0,0,0,0]是padding的\n",
    "# .ne為not equal代表不等於0:  0:false  不是0:true\n",
    "# ~代表false->true, true->false"
   ]
  },
  {
   "cell_type": "code",
   "execution_count": null,
   "id": "0da1be2c",
   "metadata": {},
   "outputs": [],
   "source": [
    "test = torch.zeros((2, 4))\n",
    "test"
   ]
  },
  {
   "cell_type": "code",
   "execution_count": null,
   "id": "57304f57",
   "metadata": {},
   "outputs": [],
   "source": [
    "# 創建兩個矩陣\n",
    "tensor1 = torch.tensor([[1, 2, 3],\n",
    "                        [4, 5, 6]])\n",
    "\n",
    "tensor2 = torch.tensor([[7, 8, 9],\n",
    "                        [10, 11, 12]])\n",
    "print(tensor1.size())\n",
    "# 按照行進行交叉穿插\n",
    "\n",
    "# 按照行進行交叉穿插\n",
    "result_column = torch.stack([(tensor1[:, i].tolist(), tensor2[:, i].tolist()) for i in range(tensor1.size(1))]).t().reshape(-1)"
   ]
  },
  {
   "cell_type": "code",
   "execution_count": null,
   "id": "3eb4b116",
   "metadata": {},
   "outputs": [],
   "source": [
    "#a = torch.stack((tensor1, tensor2), dim=1).numpy()\n",
    "#tensor3 = torch.from_numpy(a.reshape(-1,3)) # 3是 EMBEDDING_DIMENSION\n",
    "a = torch.stack((tensor1, tensor2), dim=1)\n",
    "tensor3= torch.reshape(a, (-1, 3))\n",
    "\n",
    "print(tensor3)"
   ]
  },
  {
   "cell_type": "code",
   "execution_count": null,
   "id": "654e609f",
   "metadata": {},
   "outputs": [],
   "source": [
    "def multiply2(x):\n",
    "    print(x)\n",
    "    alist = []\n",
    "    alist.append(x)\n",
    "    #print(alist)\n",
    "    return alist"
   ]
  },
  {
   "cell_type": "code",
   "execution_count": null,
   "id": "a85d0442",
   "metadata": {},
   "outputs": [],
   "source": [
    "a = [1,2]\n",
    "a = torch.tensor([[_] for _ in a])\n",
    "c = multiply2(a)\n",
    "#c = torch.tensor([multiply2(x) for x in a])\n",
    "\n",
    "#a\n",
    "#c\n",
    "\n",
    "#print(np.array(a).shape)"
   ]
  },
  {
   "cell_type": "code",
   "execution_count": null,
   "id": "bbf27932",
   "metadata": {},
   "outputs": [],
   "source": [
    "for batch_idx, (userID, basket_input, basket_label, size_input, size_label, offsets) in enumerate(train_dataloader):\n",
    "    print(basket_input)\n",
    "    #for user in basket_input:\n",
    "        #print(user)"
   ]
  },
  {
   "cell_type": "code",
   "execution_count": null,
   "id": "d8274dd0",
   "metadata": {},
   "outputs": [],
   "source": [
    "a = [\"a\",\"b\",\"c\",\"d\"]\n",
    "a= \", \".join(a)\n",
    "print(a)"
   ]
  },
  {
   "cell_type": "code",
   "execution_count": null,
   "id": "48554d40",
   "metadata": {},
   "outputs": [],
   "source": [
    "x = torch.arange(1., 6.)\n",
    "torch.topk(x, 9)"
   ]
  },
  {
   "cell_type": "code",
   "execution_count": null,
   "id": "ad1adf32",
   "metadata": {},
   "outputs": [],
   "source": [
    "x = torch.arange(1)\n",
    "print(x)"
   ]
  },
  {
   "cell_type": "code",
   "execution_count": null,
   "id": "d5ea8102",
   "metadata": {},
   "outputs": [],
   "source": []
  }
 ],
 "metadata": {
  "kernelspec": {
   "display_name": "Python 3 (ipykernel)",
   "language": "python",
   "name": "python3"
  },
  "language_info": {
   "codemirror_mode": {
    "name": "ipython",
    "version": 3
   },
   "file_extension": ".py",
   "mimetype": "text/x-python",
   "name": "python",
   "nbconvert_exporter": "python",
   "pygments_lexer": "ipython3",
   "version": "3.11.5"
  }
 },
 "nbformat": 4,
 "nbformat_minor": 5
}
