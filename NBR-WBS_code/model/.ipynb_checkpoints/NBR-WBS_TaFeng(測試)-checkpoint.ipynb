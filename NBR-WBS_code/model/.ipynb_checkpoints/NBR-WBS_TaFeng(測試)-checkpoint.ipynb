{
 "cells": [
  {
   "cell_type": "markdown",
   "id": "a246ddd9",
   "metadata": {},
   "source": [
    "# 下載套件"
   ]
  },
  {
   "cell_type": "code",
   "execution_count": 1,
   "id": "72209793",
   "metadata": {},
   "outputs": [],
   "source": [
    "import torch\n",
    "import torch.nn as nn\n",
    "from torch import nn, matmul, softmax\n",
    "from torch.nn.init import xavier_uniform_\n",
    "import torch.nn.functional as F\n",
    "import torch.nn.utils.rnn as rnn_utils\n",
    "from torch.autograd import Variable\n",
    "\n",
    "import numpy as np\n",
    "import pandas as pd\n",
    "import gensim\n",
    "from gensim.models import KeyedVectors\n",
    "import pickle\n",
    "import gzip \n",
    "import gc\n",
    "import random"
   ]
  },
  {
   "cell_type": "code",
   "execution_count": 2,
   "id": "e3db86c1",
   "metadata": {},
   "outputs": [],
   "source": [
    "from torch.utils.data import DataLoader, Dataset\n",
    "from torch.utils.data.dataset import random_split\n",
    "\n",
    "from tqdm import tqdm\n",
    "from collections import Counter\n",
    "\n",
    "import math"
   ]
  },
  {
   "cell_type": "markdown",
   "id": "d32d7025",
   "metadata": {},
   "source": [
    "# 參數設置"
   ]
  },
  {
   "cell_type": "code",
   "execution_count": 3,
   "id": "6da217e0",
   "metadata": {},
   "outputs": [],
   "source": [
    "# 超參數\n",
    "EPOCHS = 50\n",
    "LEARNING_RATE = 0.0001 #\n",
    "BATCH_SIZE = 8\n",
    "BETA = 0.5\n",
    "ALPHA = 0.01\n",
    "EMBEDDING_DIMENSION = 32                      # 嵌入維度\n",
    "MODEL_DIMENSION = EMBEDDING_DIMENSION         # 模型維度\n",
    "HIDDEN_DIMENSION = 256                        # NLP 隱藏層維度\n",
    "NUM_HEAD = 8\n",
    "NUM_LAYER = 8\n",
    "\n",
    "isI2V = 1        #1:使用Item2Vec     #0:不使用Item2Vec"
   ]
  },
  {
   "cell_type": "markdown",
   "id": "4283cbc8",
   "metadata": {},
   "source": [
    "# 匯入檔案\n",
    "- item2Vec_TaFeng.32d.model\n",
    "- TaFeng_user_cart_itemid_list.gz\n",
    "- Ta_feng_clean.csv"
   ]
  },
  {
   "cell_type": "code",
   "execution_count": 4,
   "id": "32520298",
   "metadata": {},
   "outputs": [
    {
     "data": {
      "text/plain": [
       "torch.Size([15764, 32])"
      ]
     },
     "execution_count": 4,
     "metadata": {},
     "output_type": "execute_result"
    }
   ],
   "source": [
    "# Load word2Vec pre_train model\n",
    "model_filename = f\"../preprocessing-data/item2vec_models/item2vec_TaFeng.{EMBEDDING_DIMENSION}d.model\"\n",
    "## TaFeng\n",
    "with open(model_filename, \"rb\") as fp:\n",
    "    model = pickle.load(fp)\n",
    "weights = torch.FloatTensor(model.wv.vectors)\n",
    "weights.shape"
   ]
  },
  {
   "cell_type": "code",
   "execution_count": 5,
   "id": "bbe80d00",
   "metadata": {
    "scrolled": true
   },
   "outputs": [
    {
     "data": {
      "text/plain": [
       "[(1113,\n",
       "  array([0., 1.]),\n",
       "  [[0, 1, 2], [3, 4, 5, 6, 7, 8], [9, 10, 11, 12, 13, 14, 15]],\n",
       "  [3, 6, 7]),\n",
       " (5241,\n",
       "  array([0.        , 0.70967742, 1.        ]),\n",
       "  [[16, 17, 18, 19, 20, 21],\n",
       "   [22, 23, 24, 25, 26, 27, 28, 29, 30, 31],\n",
       "   [32, 33, 34, 35, 36, 37, 38, 39, 40, 41, 42, 43, 44, 45, 46, 47],\n",
       "   [48, 49, 50, 51, 52]],\n",
       "  [6, 10, 16, 5])]"
      ]
     },
     "execution_count": 5,
     "metadata": {},
     "output_type": "execute_result"
    }
   ],
   "source": [
    "## TaFeng # TaFeng_user_cart_itemid_list # 用戶id, 購物籃時間差(不會使用到), 此用戶的購物籃串列(每個串列包含多筆項目)。\n",
    "with gzip.open(\"../preprocessing-data/TaFeng_user_cart_Itemid_list.gz\", \"rb\") as fp:\n",
    "    user_cart_itemid_list = pickle.load(fp)\n",
    "user_cart_itemid_list[:2]"
   ]
  },
  {
   "cell_type": "code",
   "execution_count": 6,
   "id": "361c43d7",
   "metadata": {},
   "outputs": [],
   "source": [
    "# Load TaFeng confidences_Matrix\n",
    "with gzip.open(\"../preprocessing-data/confidences/TaFeng_confidences_array.gz\", \"rb\") as fp:\n",
    "    TaFeng_confidences_array = pickle.load(fp)"
   ]
  },
  {
   "cell_type": "code",
   "execution_count": 7,
   "id": "b83d2fe8",
   "metadata": {},
   "outputs": [
    {
     "name": "stdout",
     "output_type": "stream",
     "text": [
      "72\n"
     ]
    },
    {
     "data": {
      "text/html": [
       "<div>\n",
       "<style scoped>\n",
       "    .dataframe tbody tr th:only-of-type {\n",
       "        vertical-align: middle;\n",
       "    }\n",
       "\n",
       "    .dataframe tbody tr th {\n",
       "        vertical-align: top;\n",
       "    }\n",
       "\n",
       "    .dataframe thead th {\n",
       "        text-align: right;\n",
       "    }\n",
       "</style>\n",
       "<table border=\"1\" class=\"dataframe\">\n",
       "  <thead>\n",
       "    <tr style=\"text-align: right;\">\n",
       "      <th></th>\n",
       "      <th>CUSTOMER_ID</th>\n",
       "      <th>PRODUCT_ID</th>\n",
       "      <th>TRANSACTION_DT</th>\n",
       "      <th>CART_ID</th>\n",
       "      <th>NEW_ITEM_ID</th>\n",
       "    </tr>\n",
       "  </thead>\n",
       "  <tbody>\n",
       "    <tr>\n",
       "      <th>0</th>\n",
       "      <td>1113</td>\n",
       "      <td>4902105011621</td>\n",
       "      <td>2000-11-26</td>\n",
       "      <td>0</td>\n",
       "      <td>0</td>\n",
       "    </tr>\n",
       "    <tr>\n",
       "      <th>1</th>\n",
       "      <td>1113</td>\n",
       "      <td>7616100830794</td>\n",
       "      <td>2000-11-26</td>\n",
       "      <td>0</td>\n",
       "      <td>1</td>\n",
       "    </tr>\n",
       "    <tr>\n",
       "      <th>2</th>\n",
       "      <td>1113</td>\n",
       "      <td>4710892632017</td>\n",
       "      <td>2000-11-26</td>\n",
       "      <td>0</td>\n",
       "      <td>2</td>\n",
       "    </tr>\n",
       "    <tr>\n",
       "      <th>3</th>\n",
       "      <td>1113</td>\n",
       "      <td>4710905340113</td>\n",
       "      <td>2000-11-27</td>\n",
       "      <td>1</td>\n",
       "      <td>3</td>\n",
       "    </tr>\n",
       "    <tr>\n",
       "      <th>4</th>\n",
       "      <td>1113</td>\n",
       "      <td>4717362901277</td>\n",
       "      <td>2000-11-27</td>\n",
       "      <td>1</td>\n",
       "      <td>4</td>\n",
       "    </tr>\n",
       "    <tr>\n",
       "      <th>...</th>\n",
       "      <td>...</td>\n",
       "      <td>...</td>\n",
       "      <td>...</td>\n",
       "      <td>...</td>\n",
       "      <td>...</td>\n",
       "    </tr>\n",
       "    <tr>\n",
       "      <th>533054</th>\n",
       "      <td>20002000</td>\n",
       "      <td>4710339772139</td>\n",
       "      <td>2001-01-20</td>\n",
       "      <td>62360</td>\n",
       "      <td>4546</td>\n",
       "    </tr>\n",
       "    <tr>\n",
       "      <th>533055</th>\n",
       "      <td>20002000</td>\n",
       "      <td>20513184</td>\n",
       "      <td>2001-01-20</td>\n",
       "      <td>62360</td>\n",
       "      <td>1351</td>\n",
       "    </tr>\n",
       "    <tr>\n",
       "      <th>533056</th>\n",
       "      <td>20002000</td>\n",
       "      <td>4714800731229</td>\n",
       "      <td>2001-01-20</td>\n",
       "      <td>62360</td>\n",
       "      <td>2946</td>\n",
       "    </tr>\n",
       "    <tr>\n",
       "      <th>533057</th>\n",
       "      <td>20002000</td>\n",
       "      <td>4714541091071</td>\n",
       "      <td>2001-01-20</td>\n",
       "      <td>62360</td>\n",
       "      <td>7382</td>\n",
       "    </tr>\n",
       "    <tr>\n",
       "      <th>533058</th>\n",
       "      <td>20002000</td>\n",
       "      <td>4710018008634</td>\n",
       "      <td>2001-01-20</td>\n",
       "      <td>62360</td>\n",
       "      <td>2629</td>\n",
       "    </tr>\n",
       "  </tbody>\n",
       "</table>\n",
       "<p>533059 rows × 5 columns</p>\n",
       "</div>"
      ],
      "text/plain": [
       "        CUSTOMER_ID     PRODUCT_ID TRANSACTION_DT  CART_ID  NEW_ITEM_ID\n",
       "0              1113  4902105011621     2000-11-26        0            0\n",
       "1              1113  7616100830794     2000-11-26        0            1\n",
       "2              1113  4710892632017     2000-11-26        0            2\n",
       "3              1113  4710905340113     2000-11-27        1            3\n",
       "4              1113  4717362901277     2000-11-27        1            4\n",
       "...             ...            ...            ...      ...          ...\n",
       "533054     20002000  4710339772139     2001-01-20    62360         4546\n",
       "533055     20002000       20513184     2001-01-20    62360         1351\n",
       "533056     20002000  4714800731229     2001-01-20    62360         2946\n",
       "533057     20002000  4714541091071     2001-01-20    62360         7382\n",
       "533058     20002000  4710018008634     2001-01-20    62360         2629\n",
       "\n",
       "[533059 rows x 5 columns]"
      ]
     },
     "execution_count": 7,
     "metadata": {},
     "output_type": "execute_result"
    }
   ],
   "source": [
    "# Ta Feng Dataset\n",
    "TaFeng = pd.read_csv(\"../cleaned_dataset/ta_feng_clean.csv\")\n",
    "\n",
    "# 最多購物籃數\n",
    "max_cart_count = TaFeng.groupby('CUSTOMER_ID')['CART_ID'].nunique().max()\n",
    "print(max_cart_count)\n",
    "\n",
    "TaFeng"
   ]
  },
  {
   "cell_type": "markdown",
   "id": "a0877d82",
   "metadata": {},
   "source": [
    "# 切分資料集\n",
    "- 分成輸入資料與標籤資料\n",
    "- 訓練集:驗證集:測試集 = 7:1:2"
   ]
  },
  {
   "cell_type": "code",
   "execution_count": 8,
   "id": "73e9cf41",
   "metadata": {},
   "outputs": [
    {
     "name": "stdout",
     "output_type": "stream",
     "text": [
      "7457\n",
      "1065\n",
      "2132\n"
     ]
    }
   ],
   "source": [
    "# 切分資料集\n",
    "train_set_size = int(len(user_cart_itemid_list) * 0.7)\n",
    "valid_set_size = int(len(user_cart_itemid_list) * 0.1)\n",
    "test_set_size = len(user_cart_itemid_list)-train_set_size-valid_set_size\n",
    "train_set, valid_set, test_set = random_split(user_cart_itemid_list, [train_set_size, valid_set_size, test_set_size])\n",
    "print(len(train_set))\n",
    "print(len(valid_set))\n",
    "print(len(test_set))"
   ]
  },
  {
   "cell_type": "code",
   "execution_count": 9,
   "id": "5edaa93d",
   "metadata": {},
   "outputs": [],
   "source": [
    "# 將切割好的資料集暫存起來\n",
    "\n",
    "# # 訓練集\n",
    "# filepath = \"../preprocessing-data/TaFeng_dataset/train_set.pkl\"\n",
    "# with open(filepath, \"wb\") as f:\n",
    "#     pickle.dump(train_set, f, pickle.HIGHEST_PROTOCOL)\n",
    "# # 驗證集\n",
    "# filepath = \"../preprocessing-data/TaFeng_dataset/valid_set.pkl\"\n",
    "# with open(filepath, \"wb\") as f:\n",
    "#     pickle.dump(valid_set, f, pickle.HIGHEST_PROTOCOL)\n",
    "# # 測試集\n",
    "# filepath = \"../preprocessing-data/TaFeng_dataset/test_set.pkl\"\n",
    "# with open(filepath, \"wb\") as f:\n",
    "#     pickle.dump(test_set, f, pickle.HIGHEST_PROTOCCOL)"
   ]
  },
  {
   "cell_type": "code",
   "execution_count": 10,
   "id": "b203d0c9",
   "metadata": {},
   "outputs": [],
   "source": [
    "# 讀取之前暫存的資料集\n",
    "\n",
    "# # 載入訓練、驗證、測試集\n",
    "# with open(\"../preprocessing-data/TaFeng_dataset/train_set.pkl\", \"rb\") as fp:\n",
    "#     train_set = pickle.load(fp)\n",
    "# with open(\"../preprocessing-data/TaFeng_dataset/valid_set.pkl\", \"rb\") as fp:\n",
    "#     valid_set = pickle.load(fp)\n",
    "# with open(\"../preprocessing-data/TaFeng_dataset/test_set.pkl\", \"rb\") as fp:\n",
    "#     test_set = pickle.load(fp)"
   ]
  },
  {
   "cell_type": "markdown",
   "id": "c9585447",
   "metadata": {},
   "source": [
    "# Batch"
   ]
  },
  {
   "cell_type": "code",
   "execution_count": 11,
   "id": "a209539b",
   "metadata": {
    "scrolled": true
   },
   "outputs": [
    {
     "data": {
      "text/plain": [
       "device(type='cuda')"
      ]
     },
     "execution_count": 11,
     "metadata": {},
     "output_type": "execute_result"
    }
   ],
   "source": [
    "device = torch.device(\"cuda\" if torch.cuda.is_available() else \"cpu\")\n",
    "device"
   ]
  },
  {
   "cell_type": "code",
   "execution_count": 12,
   "id": "b348e2b5",
   "metadata": {},
   "outputs": [],
   "source": [
    "# 定義資料轉換函數(於collate_batch函式中使用)\n",
    "item_index_pipeline = lambda x:[[model.wv.key_to_index[j] for j in i]for i in x] # 取得購物籃中，項目的索引值(只有使用Item2Vec時會需要)"
   ]
  },
  {
   "cell_type": "code",
   "execution_count": 13,
   "id": "92fb3dee",
   "metadata": {},
   "outputs": [],
   "source": [
    "class TensorDataset(Dataset):\n",
    "    # TensorDataset繼承Dataset, 重載__init__, __getitem__, __len__\n",
    "    # 實現將一組Tensor數據封裝成Tensor數據集\n",
    "    # 能夠通過index得到數據集的數據，能夠通過len，得到數據集大小\n",
    "    def __init__(self, data_tensor):\n",
    "        self.data_tensor = data_tensor\n",
    "    def __getitem__(self, index):\n",
    "        return self.data_tensor[index]\n",
    "    def __len__(self):\n",
    "        return len(self.data_tensor)\n",
    "\n",
    "def collate_batch(batch): # 輸出userID, input_list跟label(最後一個購物籃)\n",
    "    # 使用ID、時間差、訓練的購物籃項目、預測的購物籃項目\n",
    "    userID, input_list, label_list, input_size_list, label_size_list, offsets = [], [], [], [], [], [0]\n",
    "    for _user in batch:\n",
    "        userID.append(_user[0]) # userID\n",
    "        label_list.append(torch.tensor(_user[2][-1])) # 所有購物籃的項目ID串列中的最後一個購物籃項目ID\n",
    "        label_size_list.append(torch.tensor(_user[3][-1]))\n",
    "        \n",
    "        if isI2V == 0: # 不使用Item2Vec進行項目嵌入\n",
    "            train_list = _user[2][0:-1]\n",
    "        else: #　使用Item2Vec進行項目嵌入\n",
    "            train_list = item_index_pipeline(_user[2][0:-1])\n",
    "        input_size_list.append(_user[3][0:-1])\n",
    "        \n",
    "        input_list.append(train_list) # 所有購物籃的項目ID串列(除了最後一個購物籃)\n",
    "        offsets.append(len(train_list))\n",
    "    \n",
    "    return userID, input_list, label_list, input_size_list, label_size_list, offsets"
   ]
  },
  {
   "cell_type": "code",
   "execution_count": 14,
   "id": "f442f66a",
   "metadata": {},
   "outputs": [],
   "source": [
    "# 轉成 Dataset\n",
    "split_train_ = TensorDataset(train_set)\n",
    "split_valid_ = TensorDataset(valid_set)\n",
    "split_test_ = TensorDataset(test_set)"
   ]
  },
  {
   "cell_type": "code",
   "execution_count": 15,
   "id": "54fe7bc6",
   "metadata": {},
   "outputs": [],
   "source": [
    "# DataLoader \n",
    "train_dataloader = DataLoader(split_train_, batch_size=BATCH_SIZE, shuffle=True, collate_fn=collate_batch, drop_last=True)\n",
    "valid_dataloader = DataLoader(split_valid_, batch_size=BATCH_SIZE, shuffle=True, collate_fn=collate_batch, drop_last=True)\n",
    "test_dataloader = DataLoader(split_test_, batch_size=BATCH_SIZE, shuffle=True, collate_fn=collate_batch, drop_last=True)"
   ]
  },
  {
   "cell_type": "markdown",
   "id": "637657be",
   "metadata": {},
   "source": [
    "# Self-Attention"
   ]
  },
  {
   "cell_type": "code",
   "execution_count": 16,
   "id": "a96171ad",
   "metadata": {},
   "outputs": [],
   "source": [
    "# 使用nn.MultiheadAttention\n",
    "# 輸入一個用戶的一個購物籃，輸出購物籃嵌入\n",
    "class SelfAttention(nn.Module):\n",
    "    def __init__(self, embed_dim, model_dim): #項目向量維度，輸出模型的維度\n",
    "        super(SelfAttention, self).__init__()\n",
    "        self.embed_dim = embed_dim\n",
    "        self.model_dim = model_dim\n",
    "        \n",
    "        # 初始化Q, K, V 矩陣\n",
    "        self.query_matrix = nn.Linear(embed_dim, model_dim)\n",
    "        xavier_uniform_(self.query_matrix.weight)\n",
    "        self.key_matrix = nn.Linear(embed_dim, model_dim)\n",
    "        xavier_uniform_(self.key_matrix.weight)\n",
    "        self.value_matrix = nn.Linear(embed_dim, model_dim)\n",
    "        xavier_uniform_(self.value_matrix.weight)\n",
    "        self.multihead_attn = nn.MultiheadAttention(embed_dim, num_heads=1)\n",
    "        \n",
    "    def forward(self, inputs, attention_mask):\n",
    "        \n",
    "        # 輸入一個項目向量，透過三個可學習的參數矩陣，得到計算所需要的 q,k,v\n",
    "        q = self.query_matrix(inputs)\n",
    "        k = self.key_matrix(inputs)\n",
    "        v = self.value_matrix(inputs)\n",
    "        \n",
    "        attn_output, attn_output_weight = self.multihead_attn(q, k, v, key_padding_mask=attention_mask.transpose(0,1))\n",
    "        \n",
    "        output_mean = torch.tensor([[0 for _ in range(MODEL_DIMENSION)] for _ in range(len(attention_mask))], dtype=torch.float).to(device)\n",
    "        for i, cart in enumerate(attention_mask):\n",
    "            for j, mask in enumerate(cart):\n",
    "                if mask == False:\n",
    "                    output_mean[i] = attn_output[i][j] # 使用最後一個項目作為輸出\n",
    "        basket_embedding = output_mean\n",
    "        \n",
    "        return basket_embedding"
   ]
  },
  {
   "cell_type": "markdown",
   "id": "a3043def",
   "metadata": {},
   "source": [
    "   # Basket Size Encoder"
   ]
  },
  {
   "cell_type": "code",
   "execution_count": 17,
   "id": "3b8530b2",
   "metadata": {},
   "outputs": [],
   "source": [
    "class LinearTransformation(nn.Module):\n",
    "    def __init__(self, model_dim, input_dim:int=1):\n",
    "        super(LinearTransformation, self).__init__()\n",
    "        self.embed = torch.nn.Linear(input_dim, model_dim)\n",
    "        self.activate = nn.ReLU()\n",
    "        \n",
    "    def forward(self, inputs):\n",
    "        #print(inputs.type())\n",
    "        #output = torch.tensor([self.embed(basket_size) for basket_size in inputs], dtype=torch.float).to(device)\n",
    "         #print(output1)\n",
    "        #for basket_size in inputs:\n",
    "            #print(basket_size.type())\n",
    "            #basket_size = basket_size.to(torch.float)\n",
    "        output = torch.tensor([(self.embed(basket_size)).tolist() for basket_size in inputs], dtype=torch.float).to(device)\n",
    "        #print(output)\n",
    "        #print(output.type())\n",
    "        #output = self.embed(output1)\n",
    "        return self.activate(output)"
   ]
  },
  {
   "cell_type": "markdown",
   "id": "00cd99b7",
   "metadata": {},
   "source": [
    "# Transformer"
   ]
  },
  {
   "cell_type": "code",
   "execution_count": 18,
   "id": "bc0ed90c",
   "metadata": {},
   "outputs": [],
   "source": [
    "class PositionalEncoding(nn.Module):\n",
    "    def __init__(self, d_model:int, dropout, maxlen:int=500):\n",
    "        super(PositionalEncoding, self).__init__()\n",
    "        # den 是把10000^(2i/d_model)取log_e，前面加負號是求倒數\n",
    "        den = torch.exp(-torch.arange(0, d_model, 2) * math.log(10000) / d_model)\n",
    "        pos = torch.arange(0, maxlen).reshape(maxlen, 1)\n",
    "        pos_embedding = torch.zeros(maxlen, d_model)#.to(device)\n",
    "        pos_embedding[:, 0::2] = torch.sin(pos*den)\n",
    "        pos_embedding[:, 1::2] = torch.cos(pos*den)\n",
    "        \n",
    "        pos_embedding = pos_embedding.unsqueeze(0)\n",
    "        \n",
    "        self.dropout = nn.Dropout(dropout)\n",
    "        self.register_buffer(\"pos_embedding\", pos_embedding)\n",
    "        \n",
    "    def forward(self, token_embedding):\n",
    "        return self.dropout(token_embedding+ self.pos_embedding[:, :token_embedding.size(1), :])\n",
    "    \n",
    "class TransformerEncoder(nn.Module):\n",
    "    def __init__(self, d_model, num_heads=8, num_layers=6):\n",
    "        super(TransformerEncoder, self).__init__()\n",
    "        self.pe = PositionalEncoding(d_model=d_model, dropout=0.5, maxlen=max_cart_count*2)\n",
    "        # 創建 Transformer 模型\n",
    "        self.transformer = nn.TransformerEncoder(\n",
    "            nn.TransformerEncoderLayer(d_model=d_model, nhead=num_heads),\n",
    "            num_layers=num_layers\n",
    "        )\n",
    "    \n",
    "    def forward(self, baskets_embedding):\n",
    "        baskets_embedding_pe = self.pe(baskets_embedding)\n",
    "        \n",
    "        # 購物籃padding的遮罩\n",
    "        padding_mask = ~baskets_embedding.sum(dim=-1).ne(0).transpose(0,1)\n",
    "        \n",
    "        output = self.transformer(baskets_embedding_pe.to(torch.float32), src_key_padding_mask=padding_mask.to(torch.float32))\n",
    "        return output"
   ]
  },
  {
   "cell_type": "markdown",
   "id": "9cdd237c",
   "metadata": {},
   "source": [
    "# MLP層"
   ]
  },
  {
   "cell_type": "code",
   "execution_count": 19,
   "id": "e8fb5303",
   "metadata": {},
   "outputs": [],
   "source": [
    "class MLPLayer(nn.Module):\n",
    "    def __init__(self, embed_dim, hidden_dim, items_dim):\n",
    "        super(MLPLayer, self).__init__()\n",
    "        self.hidden = nn.Linear(embed_dim, hidden_dim) # 隱藏層\n",
    "        xavier_uniform_(self.hidden.weight)\n",
    "        self.norm = nn.BatchNorm1d(hidden_dim, momentum=0.03)\n",
    "        self.activate = nn.ReLU() # ?\n",
    "        self.output = nn.Linear(hidden_dim, items_dim) # 輸出層\n",
    "        \n",
    "    def forward(self, inputs):\n",
    "        y = self.activate(self.norm(self.hidden(inputs)))\n",
    "        return self.output(y)"
   ]
  },
  {
   "cell_type": "code",
   "execution_count": 20,
   "id": "b52aa95b",
   "metadata": {},
   "outputs": [],
   "source": [
    "class MLPLayerForSize(nn.Module):\n",
    "    def __init__(self, embed_dim, hidden_dim):\n",
    "        super(MLPLayerForSize, self).__init__()\n",
    "        self.hidden = nn.Linear(embed_dim, hidden_dim) #隱藏層\n",
    "        xavier_uniform_(self.hidden.weight)\n",
    "        self.norm = nn.BatchNorm1d(hidden_dim, momentum=0.03)\n",
    "        self.activate = nn.ReLU()\n",
    "        self.output = nn.Linear(hidden_dim, 1) # 輸出層\n",
    "        \n",
    "    def forward(self, inputs):\n",
    "        k = self.activate(self.norm(self.hidden(inputs)))\n",
    "        return self.activate(self.output(k))"
   ]
  },
  {
   "cell_type": "markdown",
   "id": "9afdd949",
   "metadata": {},
   "source": [
    "# 損失函數"
   ]
  },
  {
   "cell_type": "code",
   "execution_count": 21,
   "id": "9b8084b8",
   "metadata": {},
   "outputs": [],
   "source": [
    "# MSE\n",
    "def mean_square_error(predictions, target):\n",
    "    #print(\"target\", target)\n",
    "    targets = torch.tensor(target, dtype=torch.float32).unsqueeze(1).to(device)\n",
    "    #print(\"targets\", targets)\n",
    "    #print(\"prediction_size:\", predictions.size())\n",
    "    #print(\"targets_size:\", targets.size())\n",
    "    loss = F.mse_loss(predictions, targets)\n",
    "    #print(\"loss_size:\", loss.size())\n",
    "    #print(\"size_loss\", loss)\n",
    "    return loss"
   ]
  },
  {
   "cell_type": "code",
   "execution_count": 22,
   "id": "578a7e8b",
   "metadata": {},
   "outputs": [],
   "source": [
    "# cross_entropy_loss\n",
    "def cross_entropy_loss(predictions, targets):\n",
    "    # 創建稀疏張量的索引和值\n",
    "    indices = []\n",
    "    values = []\n",
    "    for i, t in enumerate(targets):\n",
    "        for v in t:\n",
    "            indices.append([i, v])\n",
    "            values.append(1)\n",
    "\n",
    "    # 創建稀疏張量\n",
    "    sparse_targets = torch.sparse_coo_tensor(indices=torch.tensor(indices).t(),\n",
    "                                             values=torch.tensor(values, dtype=torch.float16),\n",
    "                                             size=(len(targets), items_count), device=device)\n",
    "    sparse_targets = sparse_targets.to_dense()\n",
    "    \n",
    "    loss = F.binary_cross_entropy_with_logits(predictions, sparse_targets)\n",
    "    #print(\"entropy_size\", loss.size())\n",
    "    #print(\"entropy_loss\", loss)\n",
    "    return loss"
   ]
  },
  {
   "cell_type": "markdown",
   "id": "08aefe4a",
   "metadata": {},
   "source": [
    "# 評估指標"
   ]
  },
  {
   "cell_type": "code",
   "execution_count": 23,
   "id": "308ff8e9",
   "metadata": {},
   "outputs": [],
   "source": [
    "# def format_metric(result_dict):\n",
    "#     assert type(result_dict) == dict\n",
    "#     format_str = []\n",
    "#     metrics = np.unique([k.split('@')[0] for k in result_dict.keys()])\n",
    "#     topks = np.unique([int(k.split('@')[1]) for k in result_dict.keys()])\n",
    "#     for topk in np.sort(topks):\n",
    "#         for metric in np.sort(metrics):\n",
    "#             name = '{}@{}'.format(metric, topk)\n",
    "#             m = result_dict[name]           \n",
    "#             if type(m) is float or type(m) is float or type(m) is np.float32 or type(m) is np.float64:\n",
    "#                 format_str.append('{}: {:<.4f}'.format(name, m))\n",
    "#             elif type(m) is int or type(m) is int or type(m) is np.int32 or type(m) is np.int64:\n",
    "#                 format_str.append('{}: {}'.format(name, m))\n",
    "#     return ', '.join(format_str)"
   ]
  },
  {
   "cell_type": "code",
   "execution_count": 24,
   "id": "02891cdd",
   "metadata": {},
   "outputs": [],
   "source": [
    "def format_metric(result_dict):\n",
    "    assert type(result_dict) == dict\n",
    "    format_str = []\n",
    "    metrics = np.unique([k for k in result_dict.keys()])\n",
    "    #topks = np.unique([int(k.split('@')[1]) for k in result_dict.keys()])\n",
    "    #for topk in np.sort(topks):\n",
    "    for metric in np.sort(metrics):\n",
    "        name = '{}'.format(metric)\n",
    "        m = result_dict[name]\n",
    "        if type(m) is float or type(m) is float or type(m) is np.float32 or type(m) is np.float64:\n",
    "            format_str.append('{}: {:<.4f}'.format(name, m))\n",
    "        elif type(m) is int or type(m) is int or type(m) is np.int32 or type(m) is np.int64:\n",
    "            format_str.append('{}: {}'.format(name, m))\n",
    "    return ', '.join(format_str)"
   ]
  },
  {
   "cell_type": "markdown",
   "id": "b96a4cfe",
   "metadata": {},
   "source": [
    "## HR@K"
   ]
  },
  {
   "cell_type": "code",
   "execution_count": 25,
   "id": "ced1b599",
   "metadata": {},
   "outputs": [],
   "source": [
    "# def calculate_hr_at_k(predictions, labels_list, k_list):\n",
    "#     # 將預測機率矩陣轉換為 PyTorch 張量。\n",
    "#     predictions = torch.from_numpy(np.array(predictions, dtype=np.float32)).to(device)\n",
    "#     num_users = len(labels_list)\n",
    "#     evaluations = dict()\n",
    "#     for k in k_list:\n",
    "#         HR = []\n",
    "#         for i in range(num_users):\n",
    "#             # 將用戶 i 的真實標籤轉換為 PyTorch 張量。\n",
    "#             labels = torch.from_numpy(np.array(labels_list[i], dtype=np.int64)).to(device)\n",
    "#             # 計算用戶 i 在預測機率矩陣中機率最高的 K 個項目的索引。\n",
    "#             top_k_item_indices = torch.topk(predictions[i], k)[1]\n",
    "#             # 將用戶 i 在預測機率矩陣中機率最高的 K 個項目的索引和其真實標籤向量的交集，即為預測正確的項目數量。\n",
    "#             correct_num = torch.sum(torch.sum(torch.eq(top_k_item_indices, labels.unsqueeze(1)), dim=1))\n",
    "#             # 計算 HR。\n",
    "#             HR.append( correct_num.cpu()/len(labels) )\n",
    "#         # 計算 HR@K 分數。\n",
    "#         hr_at_k = np.mean(HR)\n",
    "#         key = '{}@{}'.format('HR',k)\n",
    "#         evaluations[key]=hr_at_k\n",
    "#     return evaluations"
   ]
  },
  {
   "cell_type": "markdown",
   "id": "fa92db9d",
   "metadata": {},
   "source": [
    "## F1-score"
   ]
  },
  {
   "cell_type": "code",
   "execution_count": 26,
   "id": "f7cca32b",
   "metadata": {},
   "outputs": [],
   "source": [
    "def calculate_f1_score_at_k(predictions, labels_list, k_list):\n",
    "    \"\"\"\n",
    "    計算 F1-score@K。\n",
    "\n",
    "    Args:\n",
    "        predictions: 二維的預測機率矩陣，大小為 [num_users, num_items]。\n",
    "        labels_list: 一個包含每個用戶真實標籤的列表，其中每個列表的大小不同。\n",
    "        k: 計算 F1-score@K 的 K 值。\n",
    "\n",
    "    Returns:\n",
    "        F1-score@K 分數。\n",
    "    \"\"\"\n",
    "    # 將預測機率矩陣轉換為 PyTorch 張量。\n",
    "    predictions = torch.from_numpy(np.array(predictions, dtype=np.float32))#.to('cuda')\n",
    "    num_users = len(labels_list)\n",
    "    f1_score_at_k_eval = dict()\n",
    "    \n",
    "    f1_score_sum = 0.0\n",
    "    for i in range(num_users):\n",
    "            #k_list[i] = 5                                  #　測試\n",
    "            # 將用戶 i 的真實標籤轉換為 PyTorch 張量。\n",
    "            labels = torch.from_numpy(np.array(labels_list[i], dtype=np.int64))#.to('cuda')\n",
    "            # 計算用戶 i 在預測機率矩陣中機率最高的 K 個項目的索引。\n",
    "            top_k_item_labels = torch.topk(predictions[i], k_list[i])[1]\n",
    "            # 計算用戶 i 的真實標籤和預測標籤的交集。 # TP\n",
    "            true_positives = torch.sum(torch.sum(torch.eq(top_k_item_labels, labels.unsqueeze(1)).to(torch.float32), dim=1)).item()\n",
    "            # 計算用戶 i 的真實標籤和預測標籤的並集。\n",
    "            predicted_positives = k_list[i] # TP+FP\n",
    "            actual_positives = len(labels) # TP+FN\n",
    "            if predicted_positives == 0:\n",
    "                precision = 0.0\n",
    "            else:\n",
    "                precision = true_positives / predicted_positives\n",
    "            if actual_positives == 0:\n",
    "                recall = 0.0\n",
    "            else:\n",
    "                recall = true_positives / actual_positives\n",
    "#                 print(\"true_positives=\", true_positives)\n",
    "#                 print(\"predicted_positives=\", predicted_positives)\n",
    "#                 print(\"actual_positives=\", actual_positives)\n",
    "#                 print(\"precision=\", precision)\n",
    "#                 print(\"recall=\", recall)\n",
    "            # 計算 F1-score。\n",
    "            if precision + recall == 0:\n",
    "                f1_score = 0.0\n",
    "            else:\n",
    "                f1_score = 2 * precision * recall / (precision + recall)\n",
    "            f1_score_sum += f1_score\n",
    "    # 計算平均 F1-score@K 分數。\n",
    "    f1_score_at_k = f1_score_sum / float(num_users)\n",
    "    key = '{}'.format('F1-score')\n",
    "    f1_score_at_k_eval[key]=f1_score_at_k\n",
    "        \n",
    "    return f1_score_at_k_eval"
   ]
  },
  {
   "cell_type": "code",
   "execution_count": 27,
   "id": "b303cb7e",
   "metadata": {},
   "outputs": [],
   "source": [
    "# def calculate_f1_score_at_k(predictions, labels_list, k):\n",
    "#     \"\"\"\n",
    "#     計算 F1-score@K。\n",
    "\n",
    "#     Args:\n",
    "#         predictions: 二維的預測機率矩陣，大小為 [num_users, num_items]。\n",
    "#         labels_list: 一個包含每個用戶真實標籤的列表，其中每個列表的大小不同。\n",
    "#         k: 計算 F1-score@K 的 K 值。\n",
    "\n",
    "#     Returns:\n",
    "#         F1-score@K 分數。\n",
    "#     \"\"\"\n",
    "#     # 將預測機率矩陣轉換為 PyTorch 張量。\n",
    "#     predictions = torch.from_numpy(np.array(predictions, dtype=np.float32))#.to('cuda')\n",
    "#     num_users = len(labels_list)\n",
    "#     f1_score_at_k_eval = dict()\n",
    "    \n",
    "\n",
    "#     f1_score_sum = 0.0\n",
    "#     for i in range(num_users):\n",
    "#             # 將用戶 i 的真實標籤轉換為 PyTorch 張量。\n",
    "#             labels = torch.from_numpy(np.array(labels_list[i], dtype=np.int64))#.to('cuda')\n",
    "#             # 計算用戶 i 在預測機率矩陣中機率最高的 K 個項目的索引。\n",
    "#             top_k_item_labels = torch.topk(predictions[i], k)[1]\n",
    "#             # 計算用戶 i 的真實標籤和預測標籤的交集。 # TP\n",
    "#             true_positives = torch.sum(torch.sum(torch.eq(top_k_item_labels, labels.unsqueeze(1)).to(torch.float32), dim=1)).item()\n",
    "#             # 計算用戶 i 的真實標籤和預測標籤的並集。\n",
    "#             predicted_positives = k # TP+FP\n",
    "#             actual_positives = len(labels) # TP+FN\n",
    "#             if actual_positives == 0:\n",
    "#                 precision = 0.0\n",
    "#                 recall = 0.0\n",
    "#             else:\n",
    "#                 precision = true_positives / predicted_positives\n",
    "#                 recall = true_positives / actual_positives\n",
    "#             # 計算 F1-score。\n",
    "#             if precision + recall == 0:\n",
    "#                 f1_score = 0.0\n",
    "#             else:\n",
    "#                 f1_score = 2 * precision * recall / (precision + recall)\n",
    "#             f1_score_sum += f1_score\n",
    "#     # 計算平均 F1-score@K 分數。\n",
    "#     f1_score_at_k = f1_score_sum / float(num_users)\n",
    "#     key = '{}'.format('F1-score')\n",
    "#     f1_score_at_k_eval[key]=f1_score_at_k\n",
    "        \n",
    "#     return f1_score_at_k_eval"
   ]
  },
  {
   "cell_type": "markdown",
   "id": "506ff404",
   "metadata": {},
   "source": [
    "## NDCG"
   ]
  },
  {
   "cell_type": "code",
   "execution_count": 28,
   "id": "4c566188",
   "metadata": {},
   "outputs": [],
   "source": [
    "# NDCG@K\n",
    "def calculate_ndcg_at_k(predictions, labels_list, k_list):\n",
    "    # 將預測機率矩陣轉換為 PyTorch 張量。\n",
    "    predictions = torch.from_numpy(np.array(predictions, dtype=np.float32))\n",
    "    num_users = len(labels_list)\n",
    "    ndcg_at_k_eval = dict()\n",
    "    \n",
    "    ndcg_sum = 0.0\n",
    "    for i in range(num_users):\n",
    "        #k_list[i] = 5                                  #　測試\n",
    "        # 將用戶 i 的真實標籤轉換為 PyTorch 張量。\n",
    "        labels = torch.from_numpy(np.array(labels_list[i], dtype=np.int64))\n",
    "        # 計算用戶 i 在預測機率矩陣中機率最高的 K 個項目的索引=標籤。\n",
    "        top_k_item_labels = torch.topk(predictions[i], k_list[i])[1]\n",
    "        # 計算 DCG@K。\n",
    "        dcg_at_k = torch.sum(torch.div(1.0, torch.log2(torch.arange(k_list[i], dtype=torch.float32) + 2)) * (torch.eq(top_k_item_labels, labels.unsqueeze(1)).to(torch.float32) ))\n",
    "        # 計算 IDCG@K。\n",
    "        idcg_at_k = torch.sum(torch.div(1.0, torch.log2(torch.arange(min(k_list[i], len(labels)), dtype=torch.float32) + 2)))\n",
    "        # 計算 NDCG@K。\n",
    "        ndcg_at_k = dcg_at_k / idcg_at_k\n",
    "        ndcg_sum += ndcg_at_k.item()\n",
    "    # 計算平均 NDCG@K 分數。\n",
    "    ndcg_at_k = ndcg_sum / float(num_users)\n",
    "    key = '{}'.format('NDCG')\n",
    "    ndcg_at_k_eval[key]=ndcg_at_k\n",
    "        \n",
    "\n",
    "    return ndcg_at_k_eval"
   ]
  },
  {
   "cell_type": "code",
   "execution_count": 29,
   "id": "497b6367",
   "metadata": {},
   "outputs": [],
   "source": [
    "# # NDCG@K\n",
    "# def calculate_ndcg_at_k(predictions, labels_list, k):\n",
    "#     # 將預測機率矩陣轉換為 PyTorch 張量。\n",
    "#     predictions = torch.from_numpy(np.array(predictions, dtype=np.float32))\n",
    "#     num_users = len(labels_list)\n",
    "#     ndcg_at_k_eval = dict()\n",
    "    \n",
    "#     ndcg_sum = 0.0\n",
    "#     for i in range(num_users):\n",
    "#         # 將用戶 i 的真實標籤轉換為 PyTorch 張量。\n",
    "#         labels = torch.from_numpy(np.array(labels_list[i], dtype=np.int64))\n",
    "#         # 計算用戶 i 在預測機率矩陣中機率最高的 K 個項目的索引=標籤。\n",
    "#         top_k_item_labels = torch.topk(predictions[i], k)[1]\n",
    "#         # 計算 DCG@K。\n",
    "#         dcg_at_k = torch.sum(torch.div(1.0, torch.log2(torch.arange(k, dtype=torch.float32) + 2)) * (torch.eq(top_k_item_labels, labels.unsqueeze(1)).to(torch.float32) ))\n",
    "#         # 計算 IDCG@K。\n",
    "#         #idcg_at_k = torch.sum(torch.div(1.0, torch.log2(torch.arange(min(k, len(labels)), dtype=torch.float32) + 2)))\n",
    "#         idcg_at_k = torch.sum(torch.div(1.0, torch.log2(torch.arange(len(labels), dtype=torch.float32) + 2)))\n",
    "#         # 計算 NDCG@K。\n",
    "#         ndcg_at_k = dcg_at_k / idcg_at_k\n",
    "#         ndcg_sum += ndcg_at_k.item()\n",
    "#     # 計算平均 NDCG@K 分數。\n",
    "#     ndcg_at_k = ndcg_sum / float(num_users)\n",
    "#     key = '{}'.format('NDCG')\n",
    "#     ndcg_at_k_eval[key]=ndcg_at_k\n",
    "        \n",
    "\n",
    "#     return ndcg_at_k_eval"
   ]
  },
  {
   "cell_type": "markdown",
   "id": "458759fa",
   "metadata": {},
   "source": [
    "## MPR"
   ]
  },
  {
   "cell_type": "code",
   "execution_count": 30,
   "id": "9160a9fa",
   "metadata": {},
   "outputs": [],
   "source": [
    "# #MRR\n",
    "# def calculate_MRR(predictions, labels_list):\n",
    "#     reciprocal_ranks = []\n",
    "#     # 將預測機率矩陣轉換為 numpy 數組。\n",
    "#     predictions = np.array(predictions, dtype=np.float32)\n",
    "#     # 預先排序預測結果（降序）\n",
    "#     sorted_predictions = np.argsort(predictions)[:,::-1]\n",
    "#     # 遍歷每個查詢的預測結果與目標結果\n",
    "#     for pred, targets in zip(sorted_predictions, labels_list):\n",
    "#         # 將目標結果轉換為集合\n",
    "#         target_set = set(targets.numpy())\n",
    "#         # 尋找目標的排名\n",
    "#         rank = next((i + 1 for i, p in enumerate(pred) if p in target_set), 0)\n",
    "#         # 計算倒數排名\n",
    "#         reciprocal_rank = 1 / rank if rank > 0 else 0\n",
    "#         reciprocal_ranks.append(reciprocal_rank)\n",
    "#     # 計算 MRR\n",
    "#     mrr_score = sum(reciprocal_ranks) / len(reciprocal_ranks)\n",
    "#     return mrr_score"
   ]
  },
  {
   "cell_type": "markdown",
   "id": "be5f7b84",
   "metadata": {},
   "source": [
    "## MAP"
   ]
  },
  {
   "cell_type": "code",
   "execution_count": 31,
   "id": "074334ff",
   "metadata": {},
   "outputs": [],
   "source": [
    "# #MAP\n",
    "# def calculate_MAP(predictions, labels_list):\n",
    "#     average_precisions = []\n",
    "#     # 將預測機率矩陣轉換為 numpy 數組。\n",
    "#     predictions = np.array(predictions, dtype=np.float32)\n",
    "#     # 預先排序預測結果（降序）\n",
    "#     sorted_predictions = np.argsort(predictions)[:,::-1]\n",
    "#     # 遍歷每個查詢的預測結果與目標結果\n",
    "#     for pred, targets in zip(sorted_predictions, labels_list):\n",
    "#         # 將目標結果轉換為集合\n",
    "#         target_set = set(targets.numpy())\n",
    "#         # 計算查詢的精確度\n",
    "#         precision = []\n",
    "#         hits = 0\n",
    "#         for i, p in enumerate(pred):\n",
    "#             if p in target_set:\n",
    "#                 hits += 1\n",
    "#                 precision.append(hits / (i + 1))\n",
    "#         # 計算平均精確度\n",
    "#         if precision:\n",
    "#             average_precision = sum(precision) / len(precision)\n",
    "#             average_precisions.append(average_precision)\n",
    "#     # 計算 MAP\n",
    "#     map_score = sum(average_precisions) / len(average_precisions)\n",
    "#     return map_score"
   ]
  },
  {
   "cell_type": "markdown",
   "id": "213301db",
   "metadata": {},
   "source": [
    "# 訓練&測試"
   ]
  },
  {
   "cell_type": "code",
   "execution_count": 32,
   "id": "5d503206",
   "metadata": {},
   "outputs": [],
   "source": [
    "# 訓練模型\n",
    "def train_model():\n",
    "    my_model.train()\n",
    "    loss_list = []\n",
    "    \n",
    "    for batch_idx, (userID, basket_input, basket_label, size_input, size_label, offsets) in enumerate(tqdm(train_dataloader)):\n",
    "        optimizer.zero_grad()\n",
    "        basket_output, size_output, indices = my_model(basket_input, size_input, offsets[1:])\n",
    "        # 計算損失\n",
    "        loss = ALPHA * mean_square_error(size_output, size_label) + (1-ALPHA) * cross_entropy_loss(basket_output , basket_label)\n",
    "        loss_list.append(loss.item())\n",
    "        loss.backward()\n",
    "        optimizer.step()\n",
    "\n",
    "        if (batch_idx%100 == 0) or (batch_idx == len(train_dataloader)-1) :\n",
    "            percentage = (100. * batch_idx/len(train_dataloader))\n",
    "            print(f'Epoch {epoch}: {percentage:.0f}% , Loss: {loss.item():.6f}')\n",
    "\n",
    "        with torch.no_grad():\n",
    "            basket_output = torch.from_numpy(np.array(basket_output.cpu(), dtype=np.float32))\n",
    "            size_output = np.round(np.squeeze(np.array(size_output.cpu(), dtype=np.float32))).astype(int).tolist()\n",
    "            #print(\"size_output\", size_output)\n",
    "            if batch_idx==0:\n",
    "                basket_outputs = basket_output\n",
    "                labels_list = basket_label\n",
    "                size_list = size_output\n",
    "            else:\n",
    "                basket_outputs = torch.cat( (basket_outputs, basket_output ),-2 )\n",
    "                labels_list = labels_list + basket_label\n",
    "                size_list = size_list+size_output\n",
    "#     print(\"basket_outputs.size()\", basket_outputs.size())\n",
    "#     print(\"len(labels_list)\", len(labels_list))\n",
    "#     print(\"len(labels_list[0])\", len(labels_list[0]))\n",
    "#     print(\"size_list\", len(size_list))\n",
    "#     print(\"size\", size_list)\n",
    "    with torch.no_grad():\n",
    "#         evaluations = calculate_hr_at_k(outputs, labels_list, [5,10,20,50])\n",
    "#         res_str = '(' + format_metric(evaluations) + ')'\n",
    "#         print(f\"                      {res_str}\\n\")\n",
    "\n",
    "        evaluations = calculate_f1_score_at_k(basket_outputs, labels_list, size_list)\n",
    "        res_str = '(' + format_metric(evaluations) + ')'\n",
    "        print(f\"                      {res_str}\\n\")\n",
    "\n",
    "        evaluations = calculate_ndcg_at_k(basket_outputs, labels_list, size_list)\n",
    "        res_str = '(' + format_metric(evaluations) + ')'\n",
    "        print(f\"                      {res_str}\\n\")\n",
    "        \n",
    "#         mrr_score = calculate_MRR( outputs, labels_list )\n",
    "#         print(f'MRR: {mrr_score}')\n",
    "#         map_score = calculate_MAP( outputs, labels_list )\n",
    "#         print(f'MAP: {map_score}')\n",
    "\n",
    "    return torch.mean(torch.tensor(loss_list))"
   ]
  },
  {
   "cell_type": "code",
   "execution_count": 33,
   "id": "b0799869",
   "metadata": {},
   "outputs": [],
   "source": [
    "# 驗證模型\n",
    "def evaluate_model():\n",
    "    my_model.eval()\n",
    "    loss_list = []\n",
    "    \n",
    "    for batch_idx, (userID, basket_input, basket_label, size_input, size_label, offsets) in enumerate(tqdm(valid_dataloader)):\n",
    "        basket_output, size_output, indices = my_model(basket_input, size_input, offsets[1:])\n",
    "        # 計算損失\n",
    "        loss = ALPHA * mean_square_error(size_output, size_label) + (1-ALPHA) * cross_entropy_loss(basket_output , basket_label) \n",
    "        loss_list.append(loss.item())\n",
    "        with torch.no_grad():\n",
    "            basket_output = torch.from_numpy(np.array(basket_output.cpu(), dtype=np.float32))\n",
    "            size_output = np.round(np.squeeze(np.array(size_output.cpu(), dtype=np.float32))).astype(int).tolist()\n",
    "            if batch_idx==0:\n",
    "                basket_outputs = basket_output\n",
    "                labels_list = basket_label\n",
    "                size_list = size_output\n",
    "            else:\n",
    "                basket_outputs = torch.cat( (basket_outputs, basket_output ),-2 )\n",
    "                labels_list = labels_list + basket_label\n",
    "                size_list = size_list+size_output\n",
    "\n",
    "    with torch.no_grad():\n",
    "#         evaluations = calculate_hr_at_k(outputs, labels_list, size_list)\n",
    "#         hr_5_rec = evaluations['HR@5']\n",
    "#         res_str = '(' + format_metric(evaluations) + ')'\n",
    "#         print(f\"                      {res_str}\\n\")\n",
    "\n",
    "        evaluations = calculate_f1_score_at_k(basket_outputs, labels_list, size_list)\n",
    "        res_str = '(' + format_metric(evaluations) + ')'\n",
    "        print(f\"                      {res_str}\\n\")\n",
    "\n",
    "        evaluations = calculate_ndcg_at_k(basket_outputs, labels_list, size_list)\n",
    "        res_str = '(' + format_metric(evaluations) + ')'\n",
    "        print(f\"                      {res_str}\\n\")\n",
    "        \n",
    "#         mrr_score = calculate_MRR( outputs, labels_list )\n",
    "#         print(f'MRR: {mrr_score}')\n",
    "#         map_score = calculate_MAP( outputs, labels_list )\n",
    "#         print(f'MAP: {map_score}')\n",
    "\n",
    "    return torch.mean(torch.tensor(loss_list))"
   ]
  },
  {
   "cell_type": "code",
   "execution_count": 34,
   "id": "5e8d7319",
   "metadata": {},
   "outputs": [],
   "source": [
    "# 測試模型\n",
    "def test_model():\n",
    "    my_model.eval()\n",
    "    loss_list = []\n",
    "    \n",
    "    for batch_idx, (userID, basket_input, basket_label, size_input, size_label, offsets) in enumerate(tqdm(test_dataloader)):\n",
    "        basket_output, size_output, indices = my_model(basket_input, size_input, offsets[1:])\n",
    "        # 計算損失\n",
    "        loss = ALPHA * mean_square_error(size_output, size_label) + (1-ALPHA) * cross_entropy_loss(basket_output , basket_label)\n",
    "        loss_list.append(loss.item())\n",
    "        with torch.no_grad():\n",
    "            basket_output = torch.from_numpy(np.array(basket_output.cpu(), dtype=np.float32))\n",
    "            size_output = np.round(np.squeeze(np.array(size_output.cpu(), dtype=np.float32))).astype(int).tolist()\n",
    "            if batch_idx==0:\n",
    "                basket_outputs = basket_output\n",
    "                labels_list = basket_label\n",
    "                size_list = size_output\n",
    "            else:\n",
    "                basket_outputs = torch.cat( (basket_outputs, basket_output ),-2 )\n",
    "                labels_list = labels_list + basket_label\n",
    "                size_list = size_list+size_output\n",
    "\n",
    "    with torch.no_grad():\n",
    "#         hr_evaluations = calculate_hr_at_k(outputs, labels_list, [5,10,20,50])\n",
    "#         hr_5_rec = hr_evaluations['HR@5']\n",
    "#         hr_10_rec = hr_evaluations['HR@10']\n",
    "#         hr_20_rec = hr_evaluations['HR@20']\n",
    "#         hr_50_rec = hr_evaluations['HR@50']\n",
    "#         hr_list = [hr_5_rec, hr_10_rec, hr_20_rec, hr_50_rec]\n",
    "#         res_str = '(' + format_metric(hr_evaluations) + ')'\n",
    "#         print(f\"                      {res_str}\\n\")\n",
    "\n",
    "        f1_evaluations = calculate_f1_score_at_k(basket_outputs, labels_list, size_list)\n",
    "#         f1_5_rec = f1_evaluations['F1-score@5']\n",
    "#         f1_10_rec = f1_evaluations['F1-score@10']\n",
    "#         f1_20_rec = f1_evaluations['F1-score@20']\n",
    "#         f1_50_rec = f1_evaluations['F1-score@50']\n",
    "        f1_list = [f1_evaluations]\n",
    "        res_str = '(' + format_metric(f1_evaluations) + ')'\n",
    "        print(f\"                      {res_str}\\n\")\n",
    "\n",
    "        ndcg_evaluations = calculate_ndcg_at_k(basket_outputs, labels_list, size_list)\n",
    "#         ndcg_5_rec = ndcg_evaluations['NDCG@5']\n",
    "#         ndcg_10_rec = ndcg_evaluations['NDCG@10']\n",
    "#         ndcg_20_rec = ndcg_evaluations['NDCG@20']\n",
    "#         ndcg_50_rec = ndcg_evaluations['NDCG@50']\n",
    "        ndcg_list = [ndcg_evaluations]\n",
    "        res_str = '(' + format_metric(ndcg_evaluations) + ')'\n",
    "        print(f\"                      {res_str}\\n\")\n",
    "        \n",
    "#         mrr_score = calculate_MRR( outputs, labels_list )\n",
    "#         print(f'MRR: {mrr_score}')\n",
    "#         map_score = calculate_MAP( outputs, labels_list )\n",
    "#         print(f'MAP: {map_score}')\n",
    "\n",
    "    return torch.mean(torch.tensor(loss_list)),f1_list,ndcg_list\n",
    "#    return torch.mean(torch.tensor(loss_list)),hr_5_rec,hr_list,f1_list,ndcg_list, mrr_score, map_score"
   ]
  },
  {
   "cell_type": "markdown",
   "id": "1abc8fbc",
   "metadata": {},
   "source": [
    "# 完整模型"
   ]
  },
  {
   "cell_type": "code",
   "execution_count": 35,
   "id": "5ad81bac",
   "metadata": {},
   "outputs": [
    {
     "name": "stdout",
     "output_type": "stream",
     "text": [
      "items_count= 15764\n",
      "tensor([1.7128e-03, 1.1418e-03, 2.4169e-02,  ..., 6.3436e-05, 6.3436e-05,\n",
      "        6.3436e-05], device='cuda:0', dtype=torch.float64)\n"
     ]
    }
   ],
   "source": [
    "# 項目總數\n",
    "items_count = TaFeng_confidences_array.shape[0]\n",
    "print(\"items_count=\",items_count)\n",
    "# 項目出現次數\n",
    "items_frq = Counter(TaFeng[\"NEW_ITEM_ID\"])\n",
    "# 計算每個項目出現的比例: items_frq/items_count\n",
    "item_weight = torch.tensor( np.array( list(items_frq.values()) )/items_count ).to(device)\n",
    "print(item_weight) # 按照new_item_id順序排列"
   ]
  },
  {
   "cell_type": "markdown",
   "id": "975d9e58",
   "metadata": {},
   "source": [
    "## 加上信賴度矩陣"
   ]
  },
  {
   "cell_type": "code",
   "execution_count": 36,
   "id": "5d571c57",
   "metadata": {},
   "outputs": [
    {
     "data": {
      "text/plain": [
       "tensor([[0.0000, 0.0370, 0.0370,  ..., 0.0000, 0.0000, 0.0000],\n",
       "        [0.0556, 0.0000, 0.0556,  ..., 0.0000, 0.0000, 0.0000],\n",
       "        [0.0026, 0.0026, 0.0000,  ..., 0.0000, 0.0000, 0.0000],\n",
       "        ...,\n",
       "        [0.0000, 0.0000, 0.0000,  ..., 0.0000, 0.0000, 0.0000],\n",
       "        [0.0000, 0.0000, 0.0000,  ..., 0.0000, 0.0000, 0.0000],\n",
       "        [0.0000, 0.0000, 0.0000,  ..., 0.0000, 0.0000, 0.0000]],\n",
       "       device='cuda:0', dtype=torch.float64)"
      ]
     },
     "execution_count": 36,
     "metadata": {},
     "output_type": "execute_result"
    }
   ],
   "source": [
    "# 信賴度矩陣\n",
    "confidences_array = torch.tensor(TaFeng_confidences_array,dtype=torch.float64).to(device)\n",
    "confidences_array"
   ]
  },
  {
   "cell_type": "code",
   "execution_count": 37,
   "id": "926dfc91",
   "metadata": {},
   "outputs": [],
   "source": [
    "def Interleave(tensor1, tensor2):\n",
    "    result = torch.stack((tensor1, tensor2), dim=1)\n",
    "    Interleave_tensor = torch.reshape(result, (-1, MODEL_DIMENSION))\n",
    "    #print(\"test3\", Interleave_tensor)\n",
    "    #print(Interleave_tensor.device)\n",
    "    return (Interleave_tensor)"
   ]
  },
  {
   "cell_type": "code",
   "execution_count": 38,
   "id": "b00066a0",
   "metadata": {},
   "outputs": [],
   "source": [
    "class MyModel01(nn.Module):\n",
    "    def __init__(self, embed_dim, model_dim, hidden_dim, items_count):\n",
    "        super(MyModel01, self).__init__()\n",
    "        self.model_dim = model_dim\n",
    "        self.embedding = nn.Embedding.from_pretrained(weights, freeze=False)\n",
    "        self.embedding.requires_grad = True\n",
    "        self.attn = SelfAttention(embed_dim=embed_dim ,model_dim=model_dim)\n",
    "        self.linear_transform = LinearTransformation(model_dim = model_dim)\n",
    "        self.model_encoder = TransformerEncoder(d_model=model_dim , num_heads=NUM_HEAD, num_layers=NUM_LAYER)\n",
    "        self.mlp = MLPLayer(model_dim, hidden_dim, items_count ) # 嵌入維度、隱藏層維度、總項目數量\n",
    "        self.sizemlp = MLPLayerForSize(model_dim, hidden_dim)\n",
    "        self.relu = nn.ReLU()\n",
    "\n",
    "        \n",
    "    def forward(self, basket_input, size_input ,lengths):\n",
    "        \n",
    "        inputs, attention_mask = [], []\n",
    "\n",
    "        # 為每個用戶的購物籃加上 padding跟 mask\n",
    "        for user in basket_input:\n",
    "            # 將購物籃項目 ID 轉換為嵌入向量\n",
    "            batch_features = [ self.embedding(torch.tensor(cart).to(device)) for cart in user ]\n",
    "            # 進行 padding\n",
    "            #print(\"obatch_size\", batch_features)\n",
    "            batch_features = rnn_utils.pad_sequence(batch_features, batch_first=True, padding_value=0)\n",
    "            # 購物籃中項目的遮罩\n",
    "            mask = ~batch_features.sum(dim=-1).ne(0)\n",
    "            #print(\"batch_size\", batch_features.size())\n",
    "            inputs.append(batch_features)\n",
    "            attention_mask.append(mask)\n",
    "\n",
    "            \n",
    "        # 進入自注意力，輸出形狀為 (BATCH_SIZE, basket_size, embed_dim)\n",
    "        basket_embedding_list = []\n",
    "        for i,user_inputs in enumerate(inputs):\n",
    "            test = self.attn(user_inputs,attention_mask[i])\n",
    "            #basket_embedding_list.append(test)\n",
    "            #print(\"test_size\", test.size())\n",
    "            #print(\"test\", test)\n",
    "            \n",
    "            test2 = self.linear_transform(torch.tensor([[float(_)] for _ in size_input[i]]).to(device))\n",
    "            #size_embedding_list.append(test2)\n",
    "            #print(\"test\", test.size())\n",
    "            #print(\"test2\", test2.size())\n",
    "            basket_embedding = Interleave(test, test2)\n",
    "            #print(\"test3\", basket_embedding.size())\n",
    "            basket_embedding_list.append(basket_embedding)\n",
    "            #print(\"test2_size\", test2.size())\n",
    "            #bs_encoder = self.linear_transform()\n",
    "            #basket_embedding_list.append(self.attn(user_inputs,attention_mask[i]))\n",
    "            \n",
    "        \n",
    "        \n",
    "        # 進行購物籃的 padding\n",
    "        input_seq = rnn_utils.pad_sequence(basket_embedding_list, batch_first=True, padding_value=0)\n",
    "        #print(input_seq.size())\n",
    "        \n",
    "        \n",
    "        # 進入Transformer\n",
    "        basket_embed = self.model_encoder(input_seq.to(device))\n",
    "        \n",
    "        B_s_list = []\n",
    "        for i, b in enumerate(basket_embed):\n",
    "            basket_size = len(attention_mask[i])\n",
    "            B_s = b[basket_size-1]  # 取得最後一個購物籃向量\n",
    "            B_s_list.append(B_s)\n",
    "            \n",
    "        # SIZE_MLP\n",
    "        k = self.sizemlp(torch.stack(B_s_list, dim=0))\n",
    "        #print(\"k\", k)\n",
    "        # 進入MLP層\n",
    "        p = self.mlp(torch.stack(B_s_list, dim=0))\n",
    "        pc = (self.relu(p.to(torch.float64))+1e-8) @ confidences_array\n",
    "        pw = torch.mul( p, item_weight )\n",
    "        p_ = torch.mul(BETA, torch.add(pc,pw)) + torch.mul(1-BETA, p.to(torch.float64))\n",
    "        y = p_\n",
    "        Y,indices = torch.topk(y, k=10)\n",
    "        return y, k, indices"
   ]
  },
  {
   "cell_type": "code",
   "execution_count": 39,
   "id": "88bf8d6f",
   "metadata": {},
   "outputs": [
    {
     "data": {
      "text/plain": [
       "MyModel01(\n",
       "  (embedding): Embedding(15764, 32)\n",
       "  (attn): SelfAttention(\n",
       "    (query_matrix): Linear(in_features=32, out_features=32, bias=True)\n",
       "    (key_matrix): Linear(in_features=32, out_features=32, bias=True)\n",
       "    (value_matrix): Linear(in_features=32, out_features=32, bias=True)\n",
       "    (multihead_attn): MultiheadAttention(\n",
       "      (out_proj): NonDynamicallyQuantizableLinear(in_features=32, out_features=32, bias=True)\n",
       "    )\n",
       "  )\n",
       "  (linear_transform): LinearTransformation(\n",
       "    (embed): Linear(in_features=1, out_features=32, bias=True)\n",
       "    (activate): ReLU()\n",
       "  )\n",
       "  (model_encoder): TransformerEncoder(\n",
       "    (pe): PositionalEncoding(\n",
       "      (dropout): Dropout(p=0.5, inplace=False)\n",
       "    )\n",
       "    (transformer): TransformerEncoder(\n",
       "      (layers): ModuleList(\n",
       "        (0-7): 8 x TransformerEncoderLayer(\n",
       "          (self_attn): MultiheadAttention(\n",
       "            (out_proj): NonDynamicallyQuantizableLinear(in_features=32, out_features=32, bias=True)\n",
       "          )\n",
       "          (linear1): Linear(in_features=32, out_features=2048, bias=True)\n",
       "          (dropout): Dropout(p=0.1, inplace=False)\n",
       "          (linear2): Linear(in_features=2048, out_features=32, bias=True)\n",
       "          (norm1): LayerNorm((32,), eps=1e-05, elementwise_affine=True)\n",
       "          (norm2): LayerNorm((32,), eps=1e-05, elementwise_affine=True)\n",
       "          (dropout1): Dropout(p=0.1, inplace=False)\n",
       "          (dropout2): Dropout(p=0.1, inplace=False)\n",
       "        )\n",
       "      )\n",
       "    )\n",
       "  )\n",
       "  (mlp): MLPLayer(\n",
       "    (hidden): Linear(in_features=32, out_features=256, bias=True)\n",
       "    (norm): BatchNorm1d(256, eps=1e-05, momentum=0.03, affine=True, track_running_stats=True)\n",
       "    (activate): ReLU()\n",
       "    (output): Linear(in_features=256, out_features=15764, bias=True)\n",
       "  )\n",
       "  (sizemlp): MLPLayerForSize(\n",
       "    (hidden): Linear(in_features=32, out_features=256, bias=True)\n",
       "    (norm): BatchNorm1d(256, eps=1e-05, momentum=0.03, affine=True, track_running_stats=True)\n",
       "    (activate): ReLU()\n",
       "    (output): Linear(in_features=256, out_features=1, bias=True)\n",
       "  )\n",
       "  (relu): ReLU()\n",
       ")"
      ]
     },
     "execution_count": 39,
     "metadata": {},
     "output_type": "execute_result"
    }
   ],
   "source": [
    "my_model = MyModel01(embed_dim=EMBEDDING_DIMENSION, model_dim=MODEL_DIMENSION,  hidden_dim=HIDDEN_DIMENSION,  items_count=items_count ).to(device)\n",
    "optimizer = torch.optim.Adam(my_model.parameters(),lr=LEARNING_RATE)\n",
    "my_model.train()"
   ]
  },
  {
   "cell_type": "code",
   "execution_count": 40,
   "id": "dc547691",
   "metadata": {
    "scrolled": true
   },
   "outputs": [
    {
     "name": "stderr",
     "output_type": "stream",
     "text": [
      "  0%|          | 2/932 [00:00<06:30,  2.38it/s]"
     ]
    },
    {
     "name": "stdout",
     "output_type": "stream",
     "text": [
      "Epoch 1: 0% , Loss: 2.554677\n"
     ]
    },
    {
     "name": "stderr",
     "output_type": "stream",
     "text": [
      " 11%|█         | 102/932 [00:12<01:38,  8.44it/s]"
     ]
    },
    {
     "name": "stdout",
     "output_type": "stream",
     "text": [
      "Epoch 1: 11% , Loss: 1.525917\n"
     ]
    },
    {
     "name": "stderr",
     "output_type": "stream",
     "text": [
      " 22%|██▏       | 202/932 [00:24<01:41,  7.20it/s]"
     ]
    },
    {
     "name": "stdout",
     "output_type": "stream",
     "text": [
      "Epoch 1: 21% , Loss: 0.660519\n"
     ]
    },
    {
     "name": "stderr",
     "output_type": "stream",
     "text": [
      " 32%|███▏      | 302/932 [00:36<01:25,  7.41it/s]"
     ]
    },
    {
     "name": "stdout",
     "output_type": "stream",
     "text": [
      "Epoch 1: 32% , Loss: 1.711281\n"
     ]
    },
    {
     "name": "stderr",
     "output_type": "stream",
     "text": [
      " 43%|████▎     | 402/932 [00:50<01:11,  7.38it/s]"
     ]
    },
    {
     "name": "stdout",
     "output_type": "stream",
     "text": [
      "Epoch 1: 43% , Loss: 1.165825\n"
     ]
    },
    {
     "name": "stderr",
     "output_type": "stream",
     "text": [
      " 54%|█████▍    | 502/932 [01:04<01:01,  7.02it/s]"
     ]
    },
    {
     "name": "stdout",
     "output_type": "stream",
     "text": [
      "Epoch 1: 54% , Loss: 0.946176\n"
     ]
    },
    {
     "name": "stderr",
     "output_type": "stream",
     "text": [
      " 65%|██████▍   | 602/932 [01:19<00:49,  6.66it/s]"
     ]
    },
    {
     "name": "stdout",
     "output_type": "stream",
     "text": [
      "Epoch 1: 64% , Loss: 0.761502\n"
     ]
    },
    {
     "name": "stderr",
     "output_type": "stream",
     "text": [
      " 75%|███████▌  | 702/932 [01:35<00:34,  6.63it/s]"
     ]
    },
    {
     "name": "stdout",
     "output_type": "stream",
     "text": [
      "Epoch 1: 75% , Loss: 0.593287\n"
     ]
    },
    {
     "name": "stderr",
     "output_type": "stream",
     "text": [
      " 86%|████████▌ | 801/932 [01:51<00:21,  6.22it/s]"
     ]
    },
    {
     "name": "stdout",
     "output_type": "stream",
     "text": [
      "Epoch 1: 86% , Loss: 0.479501\n"
     ]
    },
    {
     "name": "stderr",
     "output_type": "stream",
     "text": [
      " 97%|█████████▋| 901/932 [02:07<00:04,  6.26it/s]"
     ]
    },
    {
     "name": "stdout",
     "output_type": "stream",
     "text": [
      "Epoch 1: 97% , Loss: 0.569800\n"
     ]
    },
    {
     "name": "stderr",
     "output_type": "stream",
     "text": [
      "100%|██████████| 932/932 [02:13<00:00,  7.01it/s]\n"
     ]
    },
    {
     "name": "stdout",
     "output_type": "stream",
     "text": [
      "Epoch 1: 100% , Loss: 0.479735\n",
      "                      (F1-score: 0.0033)\n",
      "\n",
      "                      (NDCG: nan)\n",
      "\n",
      "train_loss= tensor(1.0947)\n",
      "--------------------\n"
     ]
    },
    {
     "name": "stderr",
     "output_type": "stream",
     "text": [
      "100%|██████████| 133/133 [00:09<00:00, 13.34it/s]\n"
     ]
    },
    {
     "name": "stdout",
     "output_type": "stream",
     "text": [
      "                      (F1-score: 0.0000)\n",
      "\n",
      "                      (NDCG: 0.0000)\n",
      "\n",
      "val_loss= tensor(0.7670)\n",
      "--------------------\n"
     ]
    },
    {
     "name": "stderr",
     "output_type": "stream",
     "text": [
      "100%|██████████| 266/266 [00:20<00:00, 12.77it/s]\n"
     ]
    },
    {
     "name": "stdout",
     "output_type": "stream",
     "text": [
      "                      (F1-score: 0.0000)\n",
      "\n",
      "                      (NDCG: 0.0001)\n",
      "\n",
      "--------------------\n",
      "[[1, {'F1-score': 4.699248120300752e-05}, {'NDCG': 5.563101696228623e-05}, 0.7670180201530457]]\n",
      "-----------------------------------------------------------------------------------------\n"
     ]
    },
    {
     "name": "stderr",
     "output_type": "stream",
     "text": [
      "\r",
      "  0%|          | 0/932 [00:00<?, ?it/s]"
     ]
    },
    {
     "name": "stdout",
     "output_type": "stream",
     "text": [
      "Epoch 2: 0% , Loss: 0.730776\n"
     ]
    },
    {
     "name": "stderr",
     "output_type": "stream",
     "text": [
      " 11%|█         | 102/932 [00:11<01:39,  8.31it/s]"
     ]
    },
    {
     "name": "stdout",
     "output_type": "stream",
     "text": [
      "Epoch 2: 11% , Loss: 0.307347\n"
     ]
    },
    {
     "name": "stderr",
     "output_type": "stream",
     "text": [
      " 22%|██▏       | 202/932 [00:23<01:32,  7.89it/s]"
     ]
    },
    {
     "name": "stdout",
     "output_type": "stream",
     "text": [
      "Epoch 2: 21% , Loss: 0.590115\n"
     ]
    },
    {
     "name": "stderr",
     "output_type": "stream",
     "text": [
      " 32%|███▏      | 302/932 [00:35<01:21,  7.75it/s]"
     ]
    },
    {
     "name": "stdout",
     "output_type": "stream",
     "text": [
      "Epoch 2: 32% , Loss: 0.322286\n"
     ]
    },
    {
     "name": "stderr",
     "output_type": "stream",
     "text": [
      " 43%|████▎     | 402/932 [00:49<01:10,  7.55it/s]"
     ]
    },
    {
     "name": "stdout",
     "output_type": "stream",
     "text": [
      "Epoch 2: 43% , Loss: 0.515874\n"
     ]
    },
    {
     "name": "stderr",
     "output_type": "stream",
     "text": [
      " 54%|█████▍    | 502/932 [01:03<00:56,  7.59it/s]"
     ]
    },
    {
     "name": "stdout",
     "output_type": "stream",
     "text": [
      "Epoch 2: 54% , Loss: 0.425731\n"
     ]
    },
    {
     "name": "stderr",
     "output_type": "stream",
     "text": [
      " 65%|██████▍   | 602/932 [01:19<00:50,  6.55it/s]"
     ]
    },
    {
     "name": "stdout",
     "output_type": "stream",
     "text": [
      "Epoch 2: 64% , Loss: 0.534486\n"
     ]
    },
    {
     "name": "stderr",
     "output_type": "stream",
     "text": [
      " 75%|███████▌  | 702/932 [01:34<00:36,  6.38it/s]"
     ]
    },
    {
     "name": "stdout",
     "output_type": "stream",
     "text": [
      "Epoch 2: 75% , Loss: 0.936652\n"
     ]
    },
    {
     "name": "stderr",
     "output_type": "stream",
     "text": [
      " 86%|████████▌ | 801/932 [01:50<00:21,  6.04it/s]"
     ]
    },
    {
     "name": "stdout",
     "output_type": "stream",
     "text": [
      "Epoch 2: 86% , Loss: 0.816016\n"
     ]
    },
    {
     "name": "stderr",
     "output_type": "stream",
     "text": [
      " 97%|█████████▋| 901/932 [02:07<00:05,  5.93it/s]"
     ]
    },
    {
     "name": "stdout",
     "output_type": "stream",
     "text": [
      "Epoch 2: 97% , Loss: 0.129571\n"
     ]
    },
    {
     "name": "stderr",
     "output_type": "stream",
     "text": [
      "100%|██████████| 932/932 [02:13<00:00,  7.00it/s]\n"
     ]
    },
    {
     "name": "stdout",
     "output_type": "stream",
     "text": [
      "Epoch 2: 100% , Loss: 0.175646\n",
      "                      (F1-score: 0.0001)\n",
      "\n",
      "                      (NDCG: 0.0002)\n",
      "\n",
      "train_loss= tensor(0.6056)\n",
      "--------------------\n"
     ]
    },
    {
     "name": "stderr",
     "output_type": "stream",
     "text": [
      "100%|██████████| 133/133 [00:10<00:00, 13.10it/s]\n"
     ]
    },
    {
     "name": "stdout",
     "output_type": "stream",
     "text": [
      "                      (F1-score: 0.0000)\n",
      "\n",
      "                      (NDCG: 0.0000)\n",
      "\n",
      "val_loss= tensor(0.7159)\n",
      "--------------------\n"
     ]
    },
    {
     "name": "stderr",
     "output_type": "stream",
     "text": [
      "100%|██████████| 266/266 [00:20<00:00, 12.75it/s]\n"
     ]
    },
    {
     "name": "stdout",
     "output_type": "stream",
     "text": [
      "                      (F1-score: 0.0001)\n",
      "\n",
      "                      (NDCG: 0.0001)\n",
      "\n",
      "--------------------\n",
      "[[1, {'F1-score': 4.699248120300752e-05}, {'NDCG': 5.563101696228623e-05}, 0.7670180201530457], [2, {'F1-score': 0.00011487050960735171}, {'NDCG': 0.00014315448225216758}, 0.715857744216919]]\n",
      "-----------------------------------------------------------------------------------------\n"
     ]
    },
    {
     "name": "stderr",
     "output_type": "stream",
     "text": [
      "\r",
      "  0%|          | 0/932 [00:00<?, ?it/s]"
     ]
    },
    {
     "name": "stdout",
     "output_type": "stream",
     "text": [
      "Epoch 3: 0% , Loss: 0.189215"
     ]
    },
    {
     "name": "stderr",
     "output_type": "stream",
     "text": [
      "\r",
      "  0%|          | 2/932 [00:00<01:30, 10.23it/s]"
     ]
    },
    {
     "name": "stdout",
     "output_type": "stream",
     "text": [
      "\n"
     ]
    },
    {
     "name": "stderr",
     "output_type": "stream",
     "text": [
      " 11%|█         | 102/932 [00:11<01:29,  9.32it/s]"
     ]
    },
    {
     "name": "stdout",
     "output_type": "stream",
     "text": [
      "Epoch 3: 11% , Loss: 0.323586\n"
     ]
    },
    {
     "name": "stderr",
     "output_type": "stream",
     "text": [
      " 22%|██▏       | 202/932 [00:23<01:46,  6.87it/s]"
     ]
    },
    {
     "name": "stdout",
     "output_type": "stream",
     "text": [
      "Epoch 3: 21% , Loss: 0.420402\n"
     ]
    },
    {
     "name": "stderr",
     "output_type": "stream",
     "text": [
      " 32%|███▏      | 302/932 [00:36<01:27,  7.22it/s]"
     ]
    },
    {
     "name": "stdout",
     "output_type": "stream",
     "text": [
      "Epoch 3: 32% , Loss: 0.120821\n"
     ]
    },
    {
     "name": "stderr",
     "output_type": "stream",
     "text": [
      " 43%|████▎     | 402/932 [00:50<01:10,  7.55it/s]"
     ]
    },
    {
     "name": "stdout",
     "output_type": "stream",
     "text": [
      "Epoch 3: 43% , Loss: 0.299454\n"
     ]
    },
    {
     "name": "stderr",
     "output_type": "stream",
     "text": [
      " 54%|█████▍    | 502/932 [01:03<00:57,  7.50it/s]"
     ]
    },
    {
     "name": "stdout",
     "output_type": "stream",
     "text": [
      "Epoch 3: 54% , Loss: 0.162559\n"
     ]
    },
    {
     "name": "stderr",
     "output_type": "stream",
     "text": [
      " 64%|██████▍   | 601/932 [01:18<00:48,  6.88it/s]"
     ]
    },
    {
     "name": "stdout",
     "output_type": "stream",
     "text": [
      "Epoch 3: 64% , Loss: 0.327288\n"
     ]
    },
    {
     "name": "stderr",
     "output_type": "stream",
     "text": [
      " 75%|███████▌  | 702/932 [01:34<00:33,  6.86it/s]"
     ]
    },
    {
     "name": "stdout",
     "output_type": "stream",
     "text": [
      "Epoch 3: 75% , Loss: 0.718848\n"
     ]
    },
    {
     "name": "stderr",
     "output_type": "stream",
     "text": [
      " 86%|████████▌ | 801/932 [01:50<00:24,  5.38it/s]"
     ]
    },
    {
     "name": "stdout",
     "output_type": "stream",
     "text": [
      "Epoch 3: 86% , Loss: 0.358072\n"
     ]
    },
    {
     "name": "stderr",
     "output_type": "stream",
     "text": [
      " 97%|█████████▋| 901/932 [02:07<00:05,  6.11it/s]"
     ]
    },
    {
     "name": "stdout",
     "output_type": "stream",
     "text": [
      "Epoch 3: 97% , Loss: 0.206639\n"
     ]
    },
    {
     "name": "stderr",
     "output_type": "stream",
     "text": [
      "100%|██████████| 932/932 [02:12<00:00,  7.01it/s]\n"
     ]
    },
    {
     "name": "stdout",
     "output_type": "stream",
     "text": [
      "Epoch 3: 100% , Loss: 0.658273\n",
      "                      (F1-score: 0.0075)\n",
      "\n",
      "                      (NDCG: 0.0100)\n",
      "\n",
      "train_loss= tensor(0.5068)\n",
      "--------------------\n"
     ]
    },
    {
     "name": "stderr",
     "output_type": "stream",
     "text": [
      "100%|██████████| 133/133 [00:10<00:00, 13.10it/s]\n"
     ]
    },
    {
     "name": "stdout",
     "output_type": "stream",
     "text": [
      "                      (F1-score: 0.0164)\n",
      "\n",
      "                      (NDCG: 0.0196)\n",
      "\n",
      "val_loss= tensor(0.6940)\n",
      "--------------------\n"
     ]
    },
    {
     "name": "stderr",
     "output_type": "stream",
     "text": [
      "100%|██████████| 266/266 [00:20<00:00, 12.71it/s]\n"
     ]
    },
    {
     "name": "stdout",
     "output_type": "stream",
     "text": [
      "                      (F1-score: 0.0184)\n",
      "\n",
      "                      (NDCG: 0.0218)\n",
      "\n",
      "--------------------\n",
      "[[1, {'F1-score': 4.699248120300752e-05}, {'NDCG': 5.563101696228623e-05}, 0.7670180201530457], [2, {'F1-score': 0.00011487050960735171}, {'NDCG': 0.00014315448225216758}, 0.715857744216919], [3, {'F1-score': 0.018416218112489686}, {'NDCG': 0.021840268549950498}, 0.6940310597419739]]\n",
      "-----------------------------------------------------------------------------------------\n"
     ]
    },
    {
     "name": "stderr",
     "output_type": "stream",
     "text": [
      "  0%|          | 1/932 [00:00<01:48,  8.56it/s]"
     ]
    },
    {
     "name": "stdout",
     "output_type": "stream",
     "text": [
      "Epoch 4: 0% , Loss: 1.556207\n"
     ]
    },
    {
     "name": "stderr",
     "output_type": "stream",
     "text": [
      " 11%|█         | 102/932 [00:11<01:29,  9.28it/s]"
     ]
    },
    {
     "name": "stdout",
     "output_type": "stream",
     "text": [
      "Epoch 4: 11% , Loss: 0.147942\n"
     ]
    },
    {
     "name": "stderr",
     "output_type": "stream",
     "text": [
      " 22%|██▏       | 202/932 [00:23<01:24,  8.63it/s]"
     ]
    },
    {
     "name": "stdout",
     "output_type": "stream",
     "text": [
      "Epoch 4: 21% , Loss: 0.304317\n"
     ]
    },
    {
     "name": "stderr",
     "output_type": "stream",
     "text": [
      " 32%|███▏      | 302/932 [00:36<01:20,  7.80it/s]"
     ]
    },
    {
     "name": "stdout",
     "output_type": "stream",
     "text": [
      "Epoch 4: 32% , Loss: 0.570779\n"
     ]
    },
    {
     "name": "stderr",
     "output_type": "stream",
     "text": [
      " 43%|████▎     | 402/932 [00:50<01:08,  7.78it/s]"
     ]
    },
    {
     "name": "stdout",
     "output_type": "stream",
     "text": [
      "Epoch 4: 43% , Loss: 0.437314\n"
     ]
    },
    {
     "name": "stderr",
     "output_type": "stream",
     "text": [
      " 54%|█████▍    | 502/932 [01:04<01:17,  5.52it/s]"
     ]
    },
    {
     "name": "stdout",
     "output_type": "stream",
     "text": [
      "Epoch 4: 54% , Loss: 0.205409\n"
     ]
    },
    {
     "name": "stderr",
     "output_type": "stream",
     "text": [
      " 65%|██████▍   | 602/932 [01:19<00:47,  6.90it/s]"
     ]
    },
    {
     "name": "stdout",
     "output_type": "stream",
     "text": [
      "Epoch 4: 64% , Loss: 0.286029\n"
     ]
    },
    {
     "name": "stderr",
     "output_type": "stream",
     "text": [
      " 75%|███████▌  | 701/932 [01:34<00:38,  6.06it/s]"
     ]
    },
    {
     "name": "stdout",
     "output_type": "stream",
     "text": [
      "Epoch 4: 75% , Loss: 0.177132\n"
     ]
    },
    {
     "name": "stderr",
     "output_type": "stream",
     "text": [
      " 86%|████████▌ | 801/932 [01:51<00:20,  6.32it/s]"
     ]
    },
    {
     "name": "stdout",
     "output_type": "stream",
     "text": [
      "Epoch 4: 86% , Loss: 0.161847\n"
     ]
    },
    {
     "name": "stderr",
     "output_type": "stream",
     "text": [
      " 97%|█████████▋| 901/932 [02:07<00:05,  5.83it/s]"
     ]
    },
    {
     "name": "stdout",
     "output_type": "stream",
     "text": [
      "Epoch 4: 97% , Loss: 0.760349\n"
     ]
    },
    {
     "name": "stderr",
     "output_type": "stream",
     "text": [
      "100%|██████████| 932/932 [02:12<00:00,  7.02it/s]\n"
     ]
    },
    {
     "name": "stdout",
     "output_type": "stream",
     "text": [
      "Epoch 4: 100% , Loss: 0.207495\n",
      "                      (F1-score: 0.0174)\n",
      "\n",
      "                      (NDCG: 0.0362)\n",
      "\n",
      "train_loss= tensor(0.4857)\n",
      "--------------------\n"
     ]
    },
    {
     "name": "stderr",
     "output_type": "stream",
     "text": [
      "100%|██████████| 133/133 [00:09<00:00, 13.34it/s]\n"
     ]
    },
    {
     "name": "stdout",
     "output_type": "stream",
     "text": [
      "                      (F1-score: 0.0244)\n",
      "\n",
      "                      (NDCG: 0.0470)\n",
      "\n",
      "val_loss= tensor(0.7274)\n",
      "--------------------\n"
     ]
    },
    {
     "name": "stderr",
     "output_type": "stream",
     "text": [
      "100%|██████████| 266/266 [00:20<00:00, 12.69it/s]\n"
     ]
    },
    {
     "name": "stdout",
     "output_type": "stream",
     "text": [
      "                      (F1-score: 0.0264)\n",
      "\n",
      "                      (NDCG: 0.0501)\n",
      "\n",
      "--------------------\n",
      "[[1, {'F1-score': 4.699248120300752e-05}, {'NDCG': 5.563101696228623e-05}, 0.7670180201530457], [2, {'F1-score': 0.00011487050960735171}, {'NDCG': 0.00014315448225216758}, 0.715857744216919], [3, {'F1-score': 0.018416218112489686}, {'NDCG': 0.021840268549950498}, 0.6940310597419739], [4, {'F1-score': 0.02642099617829246}, {'NDCG': 0.050063680437274445}, 0.7274060845375061]]\n",
      "-----------------------------------------------------------------------------------------\n"
     ]
    },
    {
     "name": "stderr",
     "output_type": "stream",
     "text": [
      "  0%|          | 1/932 [00:00<01:43,  9.01it/s]"
     ]
    },
    {
     "name": "stdout",
     "output_type": "stream",
     "text": [
      "Epoch 5: 0% , Loss: 0.330882\n"
     ]
    },
    {
     "name": "stderr",
     "output_type": "stream",
     "text": [
      " 11%|█         | 101/932 [00:11<01:47,  7.71it/s]"
     ]
    },
    {
     "name": "stdout",
     "output_type": "stream",
     "text": [
      "Epoch 5: 11% , Loss: 0.163610\n"
     ]
    },
    {
     "name": "stderr",
     "output_type": "stream",
     "text": [
      " 22%|██▏       | 202/932 [00:23<01:43,  7.05it/s]"
     ]
    },
    {
     "name": "stdout",
     "output_type": "stream",
     "text": [
      "Epoch 5: 21% , Loss: 1.617410\n"
     ]
    },
    {
     "name": "stderr",
     "output_type": "stream",
     "text": [
      " 32%|███▏      | 302/932 [00:36<01:19,  7.91it/s]"
     ]
    },
    {
     "name": "stdout",
     "output_type": "stream",
     "text": [
      "Epoch 5: 32% , Loss: 0.395101\n"
     ]
    },
    {
     "name": "stderr",
     "output_type": "stream",
     "text": [
      " 43%|████▎     | 402/932 [00:49<01:08,  7.75it/s]"
     ]
    },
    {
     "name": "stdout",
     "output_type": "stream",
     "text": [
      "Epoch 5: 43% , Loss: 0.302436\n"
     ]
    },
    {
     "name": "stderr",
     "output_type": "stream",
     "text": [
      " 54%|█████▍    | 502/932 [01:04<00:59,  7.18it/s]"
     ]
    },
    {
     "name": "stdout",
     "output_type": "stream",
     "text": [
      "Epoch 5: 54% , Loss: 0.581276\n"
     ]
    },
    {
     "name": "stderr",
     "output_type": "stream",
     "text": [
      " 65%|██████▍   | 602/932 [01:19<00:53,  6.18it/s]"
     ]
    },
    {
     "name": "stdout",
     "output_type": "stream",
     "text": [
      "Epoch 5: 64% , Loss: 1.072865\n"
     ]
    },
    {
     "name": "stderr",
     "output_type": "stream",
     "text": [
      " 75%|███████▌  | 702/932 [01:34<00:35,  6.40it/s]"
     ]
    },
    {
     "name": "stdout",
     "output_type": "stream",
     "text": [
      "Epoch 5: 75% , Loss: 0.785249\n"
     ]
    },
    {
     "name": "stderr",
     "output_type": "stream",
     "text": [
      " 86%|████████▌ | 802/932 [01:50<00:20,  6.44it/s]"
     ]
    },
    {
     "name": "stdout",
     "output_type": "stream",
     "text": [
      "Epoch 5: 86% , Loss: 0.101885\n"
     ]
    },
    {
     "name": "stderr",
     "output_type": "stream",
     "text": [
      " 97%|█████████▋| 901/932 [02:07<00:06,  5.09it/s]"
     ]
    },
    {
     "name": "stdout",
     "output_type": "stream",
     "text": [
      "Epoch 5: 97% , Loss: 0.203711\n"
     ]
    },
    {
     "name": "stderr",
     "output_type": "stream",
     "text": [
      "100%|██████████| 932/932 [02:12<00:00,  7.04it/s]"
     ]
    },
    {
     "name": "stdout",
     "output_type": "stream",
     "text": [
      "Epoch 5: 100% , Loss: 0.133485\n"
     ]
    },
    {
     "name": "stderr",
     "output_type": "stream",
     "text": [
      "\n"
     ]
    },
    {
     "name": "stdout",
     "output_type": "stream",
     "text": [
      "                      (F1-score: 0.0250)\n",
      "\n",
      "                      (NDCG: 0.0502)\n",
      "\n",
      "train_loss= tensor(0.4730)\n",
      "--------------------\n"
     ]
    },
    {
     "name": "stderr",
     "output_type": "stream",
     "text": [
      "100%|██████████| 133/133 [00:10<00:00, 13.09it/s]\n"
     ]
    },
    {
     "name": "stdout",
     "output_type": "stream",
     "text": [
      "                      (F1-score: 0.0302)\n",
      "\n",
      "                      (NDCG: 0.0541)\n",
      "\n",
      "val_loss= tensor(0.6694)\n",
      "--------------------\n"
     ]
    },
    {
     "name": "stderr",
     "output_type": "stream",
     "text": [
      "100%|██████████| 266/266 [00:21<00:00, 12.64it/s]\n"
     ]
    },
    {
     "name": "stdout",
     "output_type": "stream",
     "text": [
      "                      (F1-score: 0.0318)\n",
      "\n",
      "                      (NDCG: 0.0567)\n",
      "\n",
      "--------------------\n",
      "[[1, {'F1-score': 4.699248120300752e-05}, {'NDCG': 5.563101696228623e-05}, 0.7670180201530457], [2, {'F1-score': 0.00011487050960735171}, {'NDCG': 0.00014315448225216758}, 0.715857744216919], [3, {'F1-score': 0.018416218112489686}, {'NDCG': 0.021840268549950498}, 0.6940310597419739], [4, {'F1-score': 0.02642099617829246}, {'NDCG': 0.050063680437274445}, 0.7274060845375061], [5, {'F1-score': 0.03184700578141456}, {'NDCG': 0.0567162063399932}, 0.6694043874740601]]\n",
      "-----------------------------------------------------------------------------------------\n"
     ]
    },
    {
     "name": "stderr",
     "output_type": "stream",
     "text": [
      "  0%|          | 2/932 [00:00<02:10,  7.10it/s]"
     ]
    },
    {
     "name": "stdout",
     "output_type": "stream",
     "text": [
      "Epoch 6: 0% , Loss: 0.169421\n"
     ]
    },
    {
     "name": "stderr",
     "output_type": "stream",
     "text": [
      " 11%|█         | 102/932 [00:11<01:46,  7.79it/s]"
     ]
    },
    {
     "name": "stdout",
     "output_type": "stream",
     "text": [
      "Epoch 6: 11% , Loss: 0.318565\n"
     ]
    },
    {
     "name": "stderr",
     "output_type": "stream",
     "text": [
      " 22%|██▏       | 202/932 [00:24<01:35,  7.64it/s]"
     ]
    },
    {
     "name": "stdout",
     "output_type": "stream",
     "text": [
      "Epoch 6: 21% , Loss: 0.429092\n"
     ]
    },
    {
     "name": "stderr",
     "output_type": "stream",
     "text": [
      " 32%|███▏      | 302/932 [00:37<01:25,  7.36it/s]"
     ]
    },
    {
     "name": "stdout",
     "output_type": "stream",
     "text": [
      "Epoch 6: 32% , Loss: 0.287315\n"
     ]
    },
    {
     "name": "stderr",
     "output_type": "stream",
     "text": [
      " 43%|████▎     | 402/932 [00:50<01:15,  7.06it/s]"
     ]
    },
    {
     "name": "stdout",
     "output_type": "stream",
     "text": [
      "Epoch 6: 43% , Loss: 1.799733\n"
     ]
    },
    {
     "name": "stderr",
     "output_type": "stream",
     "text": [
      " 54%|█████▍    | 502/932 [01:04<01:07,  6.35it/s]"
     ]
    },
    {
     "name": "stdout",
     "output_type": "stream",
     "text": [
      "Epoch 6: 54% , Loss: 0.170321\n"
     ]
    },
    {
     "name": "stderr",
     "output_type": "stream",
     "text": [
      " 64%|██████▍   | 601/932 [01:19<00:50,  6.54it/s]"
     ]
    },
    {
     "name": "stdout",
     "output_type": "stream",
     "text": [
      "Epoch 6: 64% , Loss: 1.281338\n"
     ]
    },
    {
     "name": "stderr",
     "output_type": "stream",
     "text": [
      " 75%|███████▌  | 702/932 [01:35<00:35,  6.46it/s]"
     ]
    },
    {
     "name": "stdout",
     "output_type": "stream",
     "text": [
      "Epoch 6: 75% , Loss: 1.139253\n"
     ]
    },
    {
     "name": "stderr",
     "output_type": "stream",
     "text": [
      " 86%|████████▌ | 801/932 [01:51<00:21,  5.99it/s]"
     ]
    },
    {
     "name": "stdout",
     "output_type": "stream",
     "text": [
      "Epoch 6: 86% , Loss: 0.121350\n"
     ]
    },
    {
     "name": "stderr",
     "output_type": "stream",
     "text": [
      " 97%|█████████▋| 901/932 [02:08<00:05,  5.58it/s]"
     ]
    },
    {
     "name": "stdout",
     "output_type": "stream",
     "text": [
      "Epoch 6: 97% , Loss: 0.181197\n"
     ]
    },
    {
     "name": "stderr",
     "output_type": "stream",
     "text": [
      "100%|██████████| 932/932 [02:13<00:00,  6.98it/s]\n"
     ]
    },
    {
     "name": "stdout",
     "output_type": "stream",
     "text": [
      "Epoch 6: 100% , Loss: 0.396717\n",
      "                      (F1-score: 0.0383)\n",
      "\n",
      "                      (NDCG: 0.0652)\n",
      "\n",
      "train_loss= tensor(0.4656)\n",
      "--------------------\n"
     ]
    },
    {
     "name": "stderr",
     "output_type": "stream",
     "text": [
      "100%|██████████| 133/133 [00:10<00:00, 13.13it/s]\n"
     ]
    },
    {
     "name": "stdout",
     "output_type": "stream",
     "text": [
      "                      (F1-score: 0.0419)\n",
      "\n",
      "                      (NDCG: 0.0662)\n",
      "\n",
      "val_loss= tensor(0.6242)\n",
      "--------------------\n"
     ]
    },
    {
     "name": "stderr",
     "output_type": "stream",
     "text": [
      "100%|██████████| 266/266 [00:20<00:00, 12.76it/s]\n"
     ]
    },
    {
     "name": "stdout",
     "output_type": "stream",
     "text": [
      "                      (F1-score: 0.0422)\n",
      "\n",
      "                      (NDCG: 0.0682)\n",
      "\n",
      "--------------------\n",
      "[[1, {'F1-score': 4.699248120300752e-05}, {'NDCG': 5.563101696228623e-05}, 0.7670180201530457], [2, {'F1-score': 0.00011487050960735171}, {'NDCG': 0.00014315448225216758}, 0.715857744216919], [3, {'F1-score': 0.018416218112489686}, {'NDCG': 0.021840268549950498}, 0.6940310597419739], [4, {'F1-score': 0.02642099617829246}, {'NDCG': 0.050063680437274445}, 0.7274060845375061], [5, {'F1-score': 0.03184700578141456}, {'NDCG': 0.0567162063399932}, 0.6694043874740601], [6, {'F1-score': 0.04223931158741518}, {'NDCG': 0.06820185580535938}, 0.6241940259933472]]\n",
      "-----------------------------------------------------------------------------------------\n"
     ]
    },
    {
     "name": "stderr",
     "output_type": "stream",
     "text": [
      "  0%|          | 2/932 [00:00<01:33,  9.90it/s]"
     ]
    },
    {
     "name": "stdout",
     "output_type": "stream",
     "text": [
      "Epoch 7: 0% , Loss: 0.172564\n"
     ]
    },
    {
     "name": "stderr",
     "output_type": "stream",
     "text": [
      " 11%|█         | 101/932 [00:11<01:44,  7.97it/s]"
     ]
    },
    {
     "name": "stdout",
     "output_type": "stream",
     "text": [
      "Epoch 7: 11% , Loss: 0.052647\n"
     ]
    },
    {
     "name": "stderr",
     "output_type": "stream",
     "text": [
      " 22%|██▏       | 202/932 [00:24<01:46,  6.88it/s]"
     ]
    },
    {
     "name": "stdout",
     "output_type": "stream",
     "text": [
      "Epoch 7: 21% , Loss: 1.342179\n"
     ]
    },
    {
     "name": "stderr",
     "output_type": "stream",
     "text": [
      " 32%|███▏      | 301/932 [00:36<01:27,  7.20it/s]"
     ]
    },
    {
     "name": "stdout",
     "output_type": "stream",
     "text": [
      "Epoch 7: 32% , Loss: 0.381679\n"
     ]
    },
    {
     "name": "stderr",
     "output_type": "stream",
     "text": [
      " 43%|████▎     | 402/932 [00:50<01:17,  6.83it/s]"
     ]
    },
    {
     "name": "stdout",
     "output_type": "stream",
     "text": [
      "Epoch 7: 43% , Loss: 0.197419\n"
     ]
    },
    {
     "name": "stderr",
     "output_type": "stream",
     "text": [
      " 54%|█████▍    | 502/932 [01:04<00:58,  7.38it/s]"
     ]
    },
    {
     "name": "stdout",
     "output_type": "stream",
     "text": [
      "Epoch 7: 54% , Loss: 0.212909\n"
     ]
    },
    {
     "name": "stderr",
     "output_type": "stream",
     "text": [
      " 65%|██████▍   | 602/932 [01:19<00:48,  6.82it/s]"
     ]
    },
    {
     "name": "stdout",
     "output_type": "stream",
     "text": [
      "Epoch 7: 64% , Loss: 0.116715\n"
     ]
    },
    {
     "name": "stderr",
     "output_type": "stream",
     "text": [
      " 75%|███████▌  | 701/932 [01:34<00:34,  6.63it/s]"
     ]
    },
    {
     "name": "stdout",
     "output_type": "stream",
     "text": [
      "Epoch 7: 75% , Loss: 0.252427\n"
     ]
    },
    {
     "name": "stderr",
     "output_type": "stream",
     "text": [
      " 86%|████████▌ | 801/932 [01:50<00:22,  5.95it/s]"
     ]
    },
    {
     "name": "stdout",
     "output_type": "stream",
     "text": [
      "Epoch 7: 86% , Loss: 0.188714\n"
     ]
    },
    {
     "name": "stderr",
     "output_type": "stream",
     "text": [
      " 97%|█████████▋| 901/932 [02:07<00:04,  6.45it/s]"
     ]
    },
    {
     "name": "stdout",
     "output_type": "stream",
     "text": [
      "Epoch 7: 97% , Loss: 0.256313\n"
     ]
    },
    {
     "name": "stderr",
     "output_type": "stream",
     "text": [
      "100%|██████████| 932/932 [02:12<00:00,  7.01it/s]\n"
     ]
    },
    {
     "name": "stdout",
     "output_type": "stream",
     "text": [
      "Epoch 7: 100% , Loss: 0.271539\n",
      "                      (F1-score: 0.0420)\n",
      "\n",
      "                      (NDCG: 0.0688)\n",
      "\n",
      "train_loss= tensor(0.4635)\n",
      "--------------------\n"
     ]
    },
    {
     "name": "stderr",
     "output_type": "stream",
     "text": [
      "100%|██████████| 133/133 [00:10<00:00, 13.01it/s]\n"
     ]
    },
    {
     "name": "stdout",
     "output_type": "stream",
     "text": [
      "                      (F1-score: 0.0430)\n",
      "\n",
      "                      (NDCG: 0.0670)\n",
      "\n",
      "val_loss= tensor(0.6142)\n",
      "--------------------\n"
     ]
    },
    {
     "name": "stderr",
     "output_type": "stream",
     "text": [
      "100%|██████████| 266/266 [00:20<00:00, 12.81it/s]\n"
     ]
    },
    {
     "name": "stdout",
     "output_type": "stream",
     "text": [
      "                      (F1-score: 0.0447)\n",
      "\n",
      "                      (NDCG: 0.0703)\n",
      "\n",
      "--------------------\n",
      "[[1, {'F1-score': 4.699248120300752e-05}, {'NDCG': 5.563101696228623e-05}, 0.7670180201530457], [2, {'F1-score': 0.00011487050960735171}, {'NDCG': 0.00014315448225216758}, 0.715857744216919], [3, {'F1-score': 0.018416218112489686}, {'NDCG': 0.021840268549950498}, 0.6940310597419739], [4, {'F1-score': 0.02642099617829246}, {'NDCG': 0.050063680437274445}, 0.7274060845375061], [5, {'F1-score': 0.03184700578141456}, {'NDCG': 0.0567162063399932}, 0.6694043874740601], [6, {'F1-score': 0.04223931158741518}, {'NDCG': 0.06820185580535938}, 0.6241940259933472], [7, {'F1-score': 0.04472424625645027}, {'NDCG': 0.07029548350763612}, 0.6142300963401794]]\n",
      "-----------------------------------------------------------------------------------------\n"
     ]
    },
    {
     "name": "stderr",
     "output_type": "stream",
     "text": [
      "  0%|          | 2/932 [00:00<01:37,  9.55it/s]"
     ]
    },
    {
     "name": "stdout",
     "output_type": "stream",
     "text": [
      "Epoch 8: 0% , Loss: 0.140106\n"
     ]
    },
    {
     "name": "stderr",
     "output_type": "stream",
     "text": [
      " 11%|█         | 102/932 [00:11<01:52,  7.41it/s]"
     ]
    },
    {
     "name": "stdout",
     "output_type": "stream",
     "text": [
      "Epoch 8: 11% , Loss: 0.227095\n"
     ]
    },
    {
     "name": "stderr",
     "output_type": "stream",
     "text": [
      " 22%|██▏       | 202/932 [00:23<01:33,  7.79it/s]"
     ]
    },
    {
     "name": "stdout",
     "output_type": "stream",
     "text": [
      "Epoch 8: 21% , Loss: 0.407474\n"
     ]
    },
    {
     "name": "stderr",
     "output_type": "stream",
     "text": [
      " 32%|███▏      | 302/932 [00:37<01:32,  6.84it/s]"
     ]
    },
    {
     "name": "stdout",
     "output_type": "stream",
     "text": [
      "Epoch 8: 32% , Loss: 0.190153\n"
     ]
    },
    {
     "name": "stderr",
     "output_type": "stream",
     "text": [
      " 43%|████▎     | 402/932 [00:50<01:08,  7.68it/s]"
     ]
    },
    {
     "name": "stdout",
     "output_type": "stream",
     "text": [
      "Epoch 8: 43% , Loss: 1.240739\n"
     ]
    },
    {
     "name": "stderr",
     "output_type": "stream",
     "text": [
      " 54%|█████▍    | 501/932 [01:04<01:00,  7.14it/s]"
     ]
    },
    {
     "name": "stdout",
     "output_type": "stream",
     "text": [
      "Epoch 8: 54% , Loss: 0.155816\n"
     ]
    },
    {
     "name": "stderr",
     "output_type": "stream",
     "text": [
      " 65%|██████▍   | 602/932 [01:19<00:47,  6.90it/s]"
     ]
    },
    {
     "name": "stdout",
     "output_type": "stream",
     "text": [
      "Epoch 8: 64% , Loss: 0.338004\n"
     ]
    },
    {
     "name": "stderr",
     "output_type": "stream",
     "text": [
      " 75%|███████▌  | 702/932 [01:35<00:36,  6.27it/s]"
     ]
    },
    {
     "name": "stdout",
     "output_type": "stream",
     "text": [
      "Epoch 8: 75% , Loss: 1.414753\n"
     ]
    },
    {
     "name": "stderr",
     "output_type": "stream",
     "text": [
      " 86%|████████▌ | 801/932 [01:51<00:24,  5.33it/s]"
     ]
    },
    {
     "name": "stdout",
     "output_type": "stream",
     "text": [
      "Epoch 8: 86% , Loss: 0.887243\n"
     ]
    },
    {
     "name": "stderr",
     "output_type": "stream",
     "text": [
      " 97%|█████████▋| 901/932 [02:07<00:05,  5.87it/s]"
     ]
    },
    {
     "name": "stdout",
     "output_type": "stream",
     "text": [
      "Epoch 8: 97% , Loss: 1.314932\n"
     ]
    },
    {
     "name": "stderr",
     "output_type": "stream",
     "text": [
      "100%|██████████| 932/932 [02:13<00:00,  7.01it/s]\n"
     ]
    },
    {
     "name": "stdout",
     "output_type": "stream",
     "text": [
      "Epoch 8: 100% , Loss: 0.938808\n",
      "                      (F1-score: 0.0418)\n",
      "\n",
      "                      (NDCG: 0.0687)\n",
      "\n",
      "train_loss= tensor(0.4615)\n",
      "--------------------\n"
     ]
    },
    {
     "name": "stderr",
     "output_type": "stream",
     "text": [
      "100%|██████████| 133/133 [00:09<00:00, 13.40it/s]\n"
     ]
    },
    {
     "name": "stdout",
     "output_type": "stream",
     "text": [
      "                      (F1-score: 0.0389)\n",
      "\n",
      "                      (NDCG: 0.0645)\n",
      "\n",
      "val_loss= tensor(0.5995)\n",
      "--------------------\n"
     ]
    },
    {
     "name": "stderr",
     "output_type": "stream",
     "text": [
      "100%|██████████| 266/266 [00:21<00:00, 12.66it/s]\n"
     ]
    },
    {
     "name": "stdout",
     "output_type": "stream",
     "text": [
      "                      (F1-score: 0.0429)\n",
      "\n",
      "                      (NDCG: 0.0693)\n",
      "\n",
      "--------------------\n",
      "[[1, {'F1-score': 4.699248120300752e-05}, {'NDCG': 5.563101696228623e-05}, 0.7670180201530457], [2, {'F1-score': 0.00011487050960735171}, {'NDCG': 0.00014315448225216758}, 0.715857744216919], [3, {'F1-score': 0.018416218112489686}, {'NDCG': 0.021840268549950498}, 0.6940310597419739], [4, {'F1-score': 0.02642099617829246}, {'NDCG': 0.050063680437274445}, 0.7274060845375061], [5, {'F1-score': 0.03184700578141456}, {'NDCG': 0.0567162063399932}, 0.6694043874740601], [6, {'F1-score': 0.04223931158741518}, {'NDCG': 0.06820185580535938}, 0.6241940259933472], [7, {'F1-score': 0.04472424625645027}, {'NDCG': 0.07029548350763612}, 0.6142300963401794], [8, {'F1-score': 0.04290899937899723}, {'NDCG': 0.06925275580803479}, 0.5995289087295532]]\n",
      "-----------------------------------------------------------------------------------------\n"
     ]
    },
    {
     "name": "stderr",
     "output_type": "stream",
     "text": [
      "  0%|          | 2/932 [00:00<01:42,  9.09it/s]"
     ]
    },
    {
     "name": "stdout",
     "output_type": "stream",
     "text": [
      "Epoch 9: 0% , Loss: 0.333732\n"
     ]
    },
    {
     "name": "stderr",
     "output_type": "stream",
     "text": [
      " 11%|█         | 102/932 [00:11<01:38,  8.42it/s]"
     ]
    },
    {
     "name": "stdout",
     "output_type": "stream",
     "text": [
      "Epoch 9: 11% , Loss: 0.079420\n"
     ]
    },
    {
     "name": "stderr",
     "output_type": "stream",
     "text": [
      " 22%|██▏       | 202/932 [00:23<01:17,  9.44it/s]"
     ]
    },
    {
     "name": "stdout",
     "output_type": "stream",
     "text": [
      "Epoch 9: 21% , Loss: 0.175412\n"
     ]
    },
    {
     "name": "stderr",
     "output_type": "stream",
     "text": [
      " 32%|███▏      | 302/932 [00:36<01:22,  7.65it/s]"
     ]
    },
    {
     "name": "stdout",
     "output_type": "stream",
     "text": [
      "Epoch 9: 32% , Loss: 0.222423\n"
     ]
    },
    {
     "name": "stderr",
     "output_type": "stream",
     "text": [
      " 43%|████▎     | 401/932 [00:50<01:25,  6.21it/s]"
     ]
    },
    {
     "name": "stdout",
     "output_type": "stream",
     "text": [
      "Epoch 9: 43% , Loss: 0.343781\n"
     ]
    },
    {
     "name": "stderr",
     "output_type": "stream",
     "text": [
      " 54%|█████▍    | 502/932 [01:04<00:55,  7.71it/s]"
     ]
    },
    {
     "name": "stdout",
     "output_type": "stream",
     "text": [
      "Epoch 9: 54% , Loss: 0.172270\n"
     ]
    },
    {
     "name": "stderr",
     "output_type": "stream",
     "text": [
      " 65%|██████▍   | 602/932 [01:19<00:52,  6.27it/s]"
     ]
    },
    {
     "name": "stdout",
     "output_type": "stream",
     "text": [
      "Epoch 9: 64% , Loss: 0.184766\n"
     ]
    },
    {
     "name": "stderr",
     "output_type": "stream",
     "text": [
      " 75%|███████▌  | 701/932 [01:34<00:39,  5.88it/s]"
     ]
    },
    {
     "name": "stdout",
     "output_type": "stream",
     "text": [
      "Epoch 9: 75% , Loss: 1.409038\n"
     ]
    },
    {
     "name": "stderr",
     "output_type": "stream",
     "text": [
      " 86%|████████▌ | 801/932 [01:50<00:21,  6.21it/s]"
     ]
    },
    {
     "name": "stdout",
     "output_type": "stream",
     "text": [
      "Epoch 9: 86% , Loss: 0.727238\n"
     ]
    },
    {
     "name": "stderr",
     "output_type": "stream",
     "text": [
      " 97%|█████████▋| 901/932 [02:07<00:05,  6.01it/s]"
     ]
    },
    {
     "name": "stdout",
     "output_type": "stream",
     "text": [
      "Epoch 9: 97% , Loss: 0.179346\n"
     ]
    },
    {
     "name": "stderr",
     "output_type": "stream",
     "text": [
      "100%|██████████| 932/932 [02:13<00:00,  7.01it/s]"
     ]
    },
    {
     "name": "stdout",
     "output_type": "stream",
     "text": [
      "Epoch 9: 100% , Loss: 0.675200\n"
     ]
    },
    {
     "name": "stderr",
     "output_type": "stream",
     "text": [
      "\n"
     ]
    },
    {
     "name": "stdout",
     "output_type": "stream",
     "text": [
      "                      (F1-score: 0.0417)\n",
      "\n",
      "                      (NDCG: 0.0688)\n",
      "\n",
      "train_loss= tensor(0.4608)\n",
      "--------------------\n"
     ]
    },
    {
     "name": "stderr",
     "output_type": "stream",
     "text": [
      "100%|██████████| 133/133 [00:10<00:00, 13.25it/s]\n"
     ]
    },
    {
     "name": "stdout",
     "output_type": "stream",
     "text": [
      "                      (F1-score: 0.0392)\n",
      "\n",
      "                      (NDCG: 0.0638)\n",
      "\n",
      "val_loss= tensor(0.5936)\n",
      "--------------------\n"
     ]
    },
    {
     "name": "stderr",
     "output_type": "stream",
     "text": [
      "100%|██████████| 266/266 [00:20<00:00, 12.73it/s]\n"
     ]
    },
    {
     "name": "stdout",
     "output_type": "stream",
     "text": [
      "                      (F1-score: 0.0436)\n",
      "\n",
      "                      (NDCG: 0.0693)\n",
      "\n",
      "--------------------\n",
      "[[1, {'F1-score': 4.699248120300752e-05}, {'NDCG': 5.563101696228623e-05}, 0.7670180201530457], [2, {'F1-score': 0.00011487050960735171}, {'NDCG': 0.00014315448225216758}, 0.715857744216919], [3, {'F1-score': 0.018416218112489686}, {'NDCG': 0.021840268549950498}, 0.6940310597419739], [4, {'F1-score': 0.02642099617829246}, {'NDCG': 0.050063680437274445}, 0.7274060845375061], [5, {'F1-score': 0.03184700578141456}, {'NDCG': 0.0567162063399932}, 0.6694043874740601], [6, {'F1-score': 0.04223931158741518}, {'NDCG': 0.06820185580535938}, 0.6241940259933472], [7, {'F1-score': 0.04472424625645027}, {'NDCG': 0.07029548350763612}, 0.6142300963401794], [8, {'F1-score': 0.04290899937899723}, {'NDCG': 0.06925275580803479}, 0.5995289087295532], [9, {'F1-score': 0.04355782601394225}, {'NDCG': 0.06926687848684203}, 0.5936050415039062]]\n",
      "-----------------------------------------------------------------------------------------\n"
     ]
    },
    {
     "name": "stderr",
     "output_type": "stream",
     "text": [
      "\r",
      "  0%|          | 0/932 [00:00<?, ?it/s]"
     ]
    },
    {
     "name": "stdout",
     "output_type": "stream",
     "text": [
      "Epoch 10: 0% , Loss: 0.132568"
     ]
    },
    {
     "name": "stderr",
     "output_type": "stream",
     "text": [
      "  0%|          | 2/932 [00:00<01:59,  7.77it/s]"
     ]
    },
    {
     "name": "stdout",
     "output_type": "stream",
     "text": [
      "\n"
     ]
    },
    {
     "name": "stderr",
     "output_type": "stream",
     "text": [
      " 11%|█         | 102/932 [00:11<01:35,  8.73it/s]"
     ]
    },
    {
     "name": "stdout",
     "output_type": "stream",
     "text": [
      "Epoch 10: 11% , Loss: 0.320375\n"
     ]
    },
    {
     "name": "stderr",
     "output_type": "stream",
     "text": [
      " 22%|██▏       | 202/932 [00:23<01:29,  8.19it/s]"
     ]
    },
    {
     "name": "stdout",
     "output_type": "stream",
     "text": [
      "Epoch 10: 21% , Loss: 0.573460\n"
     ]
    },
    {
     "name": "stderr",
     "output_type": "stream",
     "text": [
      " 32%|███▏      | 302/932 [00:36<01:23,  7.56it/s]"
     ]
    },
    {
     "name": "stdout",
     "output_type": "stream",
     "text": [
      "Epoch 10: 32% , Loss: 0.380579\n"
     ]
    },
    {
     "name": "stderr",
     "output_type": "stream",
     "text": [
      " 43%|████▎     | 402/932 [00:49<01:08,  7.79it/s]"
     ]
    },
    {
     "name": "stdout",
     "output_type": "stream",
     "text": [
      "Epoch 10: 43% , Loss: 1.084065\n"
     ]
    },
    {
     "name": "stderr",
     "output_type": "stream",
     "text": [
      " 54%|█████▍    | 502/932 [01:03<01:02,  6.83it/s]"
     ]
    },
    {
     "name": "stdout",
     "output_type": "stream",
     "text": [
      "Epoch 10: 54% , Loss: 0.213292\n"
     ]
    },
    {
     "name": "stderr",
     "output_type": "stream",
     "text": [
      " 65%|██████▍   | 602/932 [01:18<00:50,  6.52it/s]"
     ]
    },
    {
     "name": "stdout",
     "output_type": "stream",
     "text": [
      "Epoch 10: 64% , Loss: 0.083465\n"
     ]
    },
    {
     "name": "stderr",
     "output_type": "stream",
     "text": [
      " 75%|███████▌  | 702/932 [01:34<00:33,  6.82it/s]"
     ]
    },
    {
     "name": "stdout",
     "output_type": "stream",
     "text": [
      "Epoch 10: 75% , Loss: 0.240724\n"
     ]
    },
    {
     "name": "stderr",
     "output_type": "stream",
     "text": [
      " 86%|████████▌ | 801/932 [01:50<00:20,  6.34it/s]"
     ]
    },
    {
     "name": "stdout",
     "output_type": "stream",
     "text": [
      "Epoch 10: 86% , Loss: 0.636549\n"
     ]
    },
    {
     "name": "stderr",
     "output_type": "stream",
     "text": [
      " 97%|█████████▋| 901/932 [02:06<00:05,  5.78it/s]"
     ]
    },
    {
     "name": "stdout",
     "output_type": "stream",
     "text": [
      "Epoch 10: 97% , Loss: 0.196829\n"
     ]
    },
    {
     "name": "stderr",
     "output_type": "stream",
     "text": [
      "100%|██████████| 932/932 [02:12<00:00,  7.02it/s]"
     ]
    },
    {
     "name": "stdout",
     "output_type": "stream",
     "text": [
      "Epoch 10: 100% , Loss: 0.726325\n"
     ]
    },
    {
     "name": "stderr",
     "output_type": "stream",
     "text": [
      "\n"
     ]
    },
    {
     "name": "stdout",
     "output_type": "stream",
     "text": [
      "                      (F1-score: 0.0424)\n",
      "\n",
      "                      (NDCG: 0.0693)\n",
      "\n",
      "train_loss= tensor(0.4552)\n",
      "--------------------\n"
     ]
    },
    {
     "name": "stderr",
     "output_type": "stream",
     "text": [
      "100%|██████████| 133/133 [00:10<00:00, 13.22it/s]\n"
     ]
    },
    {
     "name": "stdout",
     "output_type": "stream",
     "text": [
      "                      (F1-score: 0.0409)\n",
      "\n",
      "                      (NDCG: 0.0653)\n",
      "\n",
      "val_loss= tensor(0.5631)\n",
      "--------------------\n"
     ]
    },
    {
     "name": "stderr",
     "output_type": "stream",
     "text": [
      "100%|██████████| 266/266 [00:20<00:00, 12.80it/s]\n"
     ]
    },
    {
     "name": "stdout",
     "output_type": "stream",
     "text": [
      "                      (F1-score: 0.0452)\n",
      "\n",
      "                      (NDCG: 0.0703)\n",
      "\n",
      "--------------------\n",
      "[[1, {'F1-score': 4.699248120300752e-05}, {'NDCG': 5.563101696228623e-05}, 0.7670180201530457], [2, {'F1-score': 0.00011487050960735171}, {'NDCG': 0.00014315448225216758}, 0.715857744216919], [3, {'F1-score': 0.018416218112489686}, {'NDCG': 0.021840268549950498}, 0.6940310597419739], [4, {'F1-score': 0.02642099617829246}, {'NDCG': 0.050063680437274445}, 0.7274060845375061], [5, {'F1-score': 0.03184700578141456}, {'NDCG': 0.0567162063399932}, 0.6694043874740601], [6, {'F1-score': 0.04223931158741518}, {'NDCG': 0.06820185580535938}, 0.6241940259933472], [7, {'F1-score': 0.04472424625645027}, {'NDCG': 0.07029548350763612}, 0.6142300963401794], [8, {'F1-score': 0.04290899937899723}, {'NDCG': 0.06925275580803479}, 0.5995289087295532], [9, {'F1-score': 0.04355782601394225}, {'NDCG': 0.06926687848684203}, 0.5936050415039062], [10, {'F1-score': 0.04515040172211956}, {'NDCG': 0.07034251727758997}, 0.5631183981895447]]\n",
      "-----------------------------------------------------------------------------------------\n"
     ]
    },
    {
     "name": "stderr",
     "output_type": "stream",
     "text": [
      "  0%|          | 1/932 [00:00<01:35,  9.71it/s]"
     ]
    },
    {
     "name": "stdout",
     "output_type": "stream",
     "text": [
      "Epoch 11: 0% , Loss: 0.468896\n"
     ]
    },
    {
     "name": "stderr",
     "output_type": "stream",
     "text": [
      " 11%|█         | 102/932 [00:11<01:41,  8.21it/s]"
     ]
    },
    {
     "name": "stdout",
     "output_type": "stream",
     "text": [
      "Epoch 11: 11% , Loss: 0.164408\n"
     ]
    },
    {
     "name": "stderr",
     "output_type": "stream",
     "text": [
      " 22%|██▏       | 202/932 [00:23<01:35,  7.63it/s]"
     ]
    },
    {
     "name": "stdout",
     "output_type": "stream",
     "text": [
      "Epoch 11: 21% , Loss: 0.286022\n"
     ]
    },
    {
     "name": "stderr",
     "output_type": "stream",
     "text": [
      " 32%|███▏      | 302/932 [00:36<01:18,  7.98it/s]"
     ]
    },
    {
     "name": "stdout",
     "output_type": "stream",
     "text": [
      "Epoch 11: 32% , Loss: 0.103320\n"
     ]
    },
    {
     "name": "stderr",
     "output_type": "stream",
     "text": [
      " 43%|████▎     | 402/932 [00:49<01:11,  7.40it/s]"
     ]
    },
    {
     "name": "stdout",
     "output_type": "stream",
     "text": [
      "Epoch 11: 43% , Loss: 0.244905\n"
     ]
    },
    {
     "name": "stderr",
     "output_type": "stream",
     "text": [
      " 54%|█████▍    | 502/932 [01:04<00:56,  7.61it/s]"
     ]
    },
    {
     "name": "stdout",
     "output_type": "stream",
     "text": [
      "Epoch 11: 54% , Loss: 0.230551\n"
     ]
    },
    {
     "name": "stderr",
     "output_type": "stream",
     "text": [
      " 65%|██████▍   | 602/932 [01:19<00:48,  6.76it/s]"
     ]
    },
    {
     "name": "stdout",
     "output_type": "stream",
     "text": [
      "Epoch 11: 64% , Loss: 0.123547\n"
     ]
    },
    {
     "name": "stderr",
     "output_type": "stream",
     "text": [
      " 75%|███████▌  | 701/932 [01:34<00:44,  5.14it/s]"
     ]
    },
    {
     "name": "stdout",
     "output_type": "stream",
     "text": [
      "Epoch 11: 75% , Loss: 0.846353\n"
     ]
    },
    {
     "name": "stderr",
     "output_type": "stream",
     "text": [
      " 86%|████████▌ | 802/932 [01:50<00:21,  6.17it/s]"
     ]
    },
    {
     "name": "stdout",
     "output_type": "stream",
     "text": [
      "Epoch 11: 86% , Loss: 0.369516\n"
     ]
    },
    {
     "name": "stderr",
     "output_type": "stream",
     "text": [
      " 97%|█████████▋| 901/932 [02:07<00:05,  6.08it/s]"
     ]
    },
    {
     "name": "stdout",
     "output_type": "stream",
     "text": [
      "Epoch 11: 97% , Loss: 0.151614\n"
     ]
    },
    {
     "name": "stderr",
     "output_type": "stream",
     "text": [
      "100%|██████████| 932/932 [02:12<00:00,  7.02it/s]\n"
     ]
    },
    {
     "name": "stdout",
     "output_type": "stream",
     "text": [
      "Epoch 11: 100% , Loss: 1.059165\n",
      "                      (F1-score: 0.0420)\n",
      "\n",
      "                      (NDCG: 0.0690)\n",
      "\n",
      "train_loss= tensor(0.4535)\n",
      "--------------------\n"
     ]
    },
    {
     "name": "stderr",
     "output_type": "stream",
     "text": [
      "100%|██████████| 133/133 [00:09<00:00, 13.38it/s]\n"
     ]
    },
    {
     "name": "stdout",
     "output_type": "stream",
     "text": [
      "                      (F1-score: 0.0427)\n",
      "\n",
      "                      (NDCG: 0.0663)\n",
      "\n",
      "val_loss= tensor(0.5812)\n",
      "--------------------\n"
     ]
    },
    {
     "name": "stderr",
     "output_type": "stream",
     "text": [
      "100%|██████████| 266/266 [00:21<00:00, 12.61it/s]\n"
     ]
    },
    {
     "name": "stdout",
     "output_type": "stream",
     "text": [
      "                      (F1-score: 0.0444)\n",
      "\n",
      "                      (NDCG: 0.0697)\n",
      "\n",
      "--------------------\n",
      "[[1, {'F1-score': 4.699248120300752e-05}, {'NDCG': 5.563101696228623e-05}, 0.7670180201530457], [2, {'F1-score': 0.00011487050960735171}, {'NDCG': 0.00014315448225216758}, 0.715857744216919], [3, {'F1-score': 0.018416218112489686}, {'NDCG': 0.021840268549950498}, 0.6940310597419739], [4, {'F1-score': 0.02642099617829246}, {'NDCG': 0.050063680437274445}, 0.7274060845375061], [5, {'F1-score': 0.03184700578141456}, {'NDCG': 0.0567162063399932}, 0.6694043874740601], [6, {'F1-score': 0.04223931158741518}, {'NDCG': 0.06820185580535938}, 0.6241940259933472], [7, {'F1-score': 0.04472424625645027}, {'NDCG': 0.07029548350763612}, 0.6142300963401794], [8, {'F1-score': 0.04290899937899723}, {'NDCG': 0.06925275580803479}, 0.5995289087295532], [9, {'F1-score': 0.04355782601394225}, {'NDCG': 0.06926687848684203}, 0.5936050415039062], [10, {'F1-score': 0.04515040172211956}, {'NDCG': 0.07034251727758997}, 0.5631183981895447], [11, {'F1-score': 0.04443880060696239}, {'NDCG': 0.06966079903164304}, 0.5811899900436401]]\n",
      "-----------------------------------------------------------------------------------------\n"
     ]
    },
    {
     "name": "stderr",
     "output_type": "stream",
     "text": [
      "  0%|          | 3/932 [00:00<01:41,  9.13it/s]"
     ]
    },
    {
     "name": "stdout",
     "output_type": "stream",
     "text": [
      "Epoch 12: 0% , Loss: 0.157417\n"
     ]
    },
    {
     "name": "stderr",
     "output_type": "stream",
     "text": [
      " 11%|█         | 102/932 [00:11<01:34,  8.77it/s]"
     ]
    },
    {
     "name": "stdout",
     "output_type": "stream",
     "text": [
      "Epoch 12: 11% , Loss: 0.125235\n"
     ]
    },
    {
     "name": "stderr",
     "output_type": "stream",
     "text": [
      " 22%|██▏       | 202/932 [00:23<01:29,  8.15it/s]"
     ]
    },
    {
     "name": "stdout",
     "output_type": "stream",
     "text": [
      "Epoch 12: 21% , Loss: 0.485414\n"
     ]
    },
    {
     "name": "stderr",
     "output_type": "stream",
     "text": [
      " 32%|███▏      | 302/932 [00:36<01:24,  7.45it/s]"
     ]
    },
    {
     "name": "stdout",
     "output_type": "stream",
     "text": [
      "Epoch 12: 32% , Loss: 0.114781\n"
     ]
    },
    {
     "name": "stderr",
     "output_type": "stream",
     "text": [
      " 43%|████▎     | 401/932 [00:49<01:20,  6.61it/s]"
     ]
    },
    {
     "name": "stdout",
     "output_type": "stream",
     "text": [
      "Epoch 12: 43% , Loss: 0.586614\n"
     ]
    },
    {
     "name": "stderr",
     "output_type": "stream",
     "text": [
      " 54%|█████▍    | 502/932 [01:04<01:01,  7.00it/s]"
     ]
    },
    {
     "name": "stdout",
     "output_type": "stream",
     "text": [
      "Epoch 12: 54% , Loss: 0.107692\n"
     ]
    },
    {
     "name": "stderr",
     "output_type": "stream",
     "text": [
      " 64%|██████▍   | 601/932 [01:18<00:53,  6.24it/s]"
     ]
    },
    {
     "name": "stdout",
     "output_type": "stream",
     "text": [
      "Epoch 12: 64% , Loss: 0.171462\n"
     ]
    },
    {
     "name": "stderr",
     "output_type": "stream",
     "text": [
      " 75%|███████▌  | 701/932 [01:34<00:37,  6.15it/s]"
     ]
    },
    {
     "name": "stdout",
     "output_type": "stream",
     "text": [
      "Epoch 12: 75% , Loss: 0.175924\n"
     ]
    },
    {
     "name": "stderr",
     "output_type": "stream",
     "text": [
      " 86%|████████▌ | 801/932 [01:50<00:23,  5.52it/s]"
     ]
    },
    {
     "name": "stdout",
     "output_type": "stream",
     "text": [
      "Epoch 12: 86% , Loss: 0.168582\n"
     ]
    },
    {
     "name": "stderr",
     "output_type": "stream",
     "text": [
      " 97%|█████████▋| 901/932 [02:07<00:05,  6.05it/s]"
     ]
    },
    {
     "name": "stdout",
     "output_type": "stream",
     "text": [
      "Epoch 12: 97% , Loss: 0.983028\n"
     ]
    },
    {
     "name": "stderr",
     "output_type": "stream",
     "text": [
      "100%|██████████| 932/932 [02:12<00:00,  7.03it/s]\n"
     ]
    },
    {
     "name": "stdout",
     "output_type": "stream",
     "text": [
      "Epoch 12: 100% , Loss: 0.313759\n",
      "                      (F1-score: 0.0422)\n",
      "\n",
      "                      (NDCG: 0.0690)\n",
      "\n",
      "train_loss= tensor(0.4534)\n",
      "--------------------\n"
     ]
    },
    {
     "name": "stderr",
     "output_type": "stream",
     "text": [
      "100%|██████████| 133/133 [00:10<00:00, 13.30it/s]\n"
     ]
    },
    {
     "name": "stdout",
     "output_type": "stream",
     "text": [
      "                      (F1-score: 0.0415)\n",
      "\n",
      "                      (NDCG: 0.0658)\n",
      "\n",
      "val_loss= tensor(0.5720)\n",
      "--------------------\n"
     ]
    },
    {
     "name": "stderr",
     "output_type": "stream",
     "text": [
      "100%|██████████| 266/266 [00:20<00:00, 12.86it/s]\n"
     ]
    },
    {
     "name": "stdout",
     "output_type": "stream",
     "text": [
      "                      (F1-score: 0.0449)\n",
      "\n",
      "                      (NDCG: 0.0701)\n",
      "\n",
      "--------------------\n",
      "[[1, {'F1-score': 4.699248120300752e-05}, {'NDCG': 5.563101696228623e-05}, 0.7670180201530457], [2, {'F1-score': 0.00011487050960735171}, {'NDCG': 0.00014315448225216758}, 0.715857744216919], [3, {'F1-score': 0.018416218112489686}, {'NDCG': 0.021840268549950498}, 0.6940310597419739], [4, {'F1-score': 0.02642099617829246}, {'NDCG': 0.050063680437274445}, 0.7274060845375061], [5, {'F1-score': 0.03184700578141456}, {'NDCG': 0.0567162063399932}, 0.6694043874740601], [6, {'F1-score': 0.04223931158741518}, {'NDCG': 0.06820185580535938}, 0.6241940259933472], [7, {'F1-score': 0.04472424625645027}, {'NDCG': 0.07029548350763612}, 0.6142300963401794], [8, {'F1-score': 0.04290899937899723}, {'NDCG': 0.06925275580803479}, 0.5995289087295532], [9, {'F1-score': 0.04355782601394225}, {'NDCG': 0.06926687848684203}, 0.5936050415039062], [10, {'F1-score': 0.04515040172211956}, {'NDCG': 0.07034251727758997}, 0.5631183981895447], [11, {'F1-score': 0.04443880060696239}, {'NDCG': 0.06966079903164304}, 0.5811899900436401], [12, {'F1-score': 0.04493371631063535}, {'NDCG': 0.07014683947751396}, 0.5719975233078003]]\n",
      "-----------------------------------------------------------------------------------------\n"
     ]
    },
    {
     "name": "stderr",
     "output_type": "stream",
     "text": [
      "\r",
      "  0%|          | 0/932 [00:00<?, ?it/s]"
     ]
    },
    {
     "name": "stdout",
     "output_type": "stream",
     "text": [
      "Epoch 13: 0% , Loss: 0.486359"
     ]
    },
    {
     "name": "stderr",
     "output_type": "stream",
     "text": [
      "  0%|          | 2/932 [00:00<01:51,  8.36it/s]"
     ]
    },
    {
     "name": "stdout",
     "output_type": "stream",
     "text": [
      "\n"
     ]
    },
    {
     "name": "stderr",
     "output_type": "stream",
     "text": [
      " 11%|█         | 102/932 [00:11<01:33,  8.87it/s]"
     ]
    },
    {
     "name": "stdout",
     "output_type": "stream",
     "text": [
      "Epoch 13: 11% , Loss: 1.713388\n"
     ]
    },
    {
     "name": "stderr",
     "output_type": "stream",
     "text": [
      " 22%|██▏       | 202/932 [00:23<01:24,  8.68it/s]"
     ]
    },
    {
     "name": "stdout",
     "output_type": "stream",
     "text": [
      "Epoch 13: 21% , Loss: 0.442114\n"
     ]
    },
    {
     "name": "stderr",
     "output_type": "stream",
     "text": [
      " 32%|███▏      | 302/932 [00:36<01:15,  8.30it/s]"
     ]
    },
    {
     "name": "stdout",
     "output_type": "stream",
     "text": [
      "Epoch 13: 32% , Loss: 0.121292\n"
     ]
    },
    {
     "name": "stderr",
     "output_type": "stream",
     "text": [
      " 43%|████▎     | 401/932 [00:49<01:07,  7.90it/s]"
     ]
    },
    {
     "name": "stdout",
     "output_type": "stream",
     "text": [
      "Epoch 13: 43% , Loss: 0.536788\n"
     ]
    },
    {
     "name": "stderr",
     "output_type": "stream",
     "text": [
      " 54%|█████▍    | 502/932 [01:04<01:05,  6.61it/s]"
     ]
    },
    {
     "name": "stdout",
     "output_type": "stream",
     "text": [
      "Epoch 13: 54% , Loss: 0.205340\n"
     ]
    },
    {
     "name": "stderr",
     "output_type": "stream",
     "text": [
      " 65%|██████▍   | 602/932 [01:19<00:49,  6.62it/s]"
     ]
    },
    {
     "name": "stdout",
     "output_type": "stream",
     "text": [
      "Epoch 13: 64% , Loss: 0.358341\n"
     ]
    },
    {
     "name": "stderr",
     "output_type": "stream",
     "text": [
      " 75%|███████▌  | 702/932 [01:34<00:36,  6.24it/s]"
     ]
    },
    {
     "name": "stdout",
     "output_type": "stream",
     "text": [
      "Epoch 13: 75% , Loss: 0.127786\n"
     ]
    },
    {
     "name": "stderr",
     "output_type": "stream",
     "text": [
      " 86%|████████▌ | 802/932 [01:50<00:21,  6.13it/s]"
     ]
    },
    {
     "name": "stdout",
     "output_type": "stream",
     "text": [
      "Epoch 13: 86% , Loss: 0.250940\n"
     ]
    },
    {
     "name": "stderr",
     "output_type": "stream",
     "text": [
      " 97%|█████████▋| 902/932 [02:07<00:04,  6.16it/s]"
     ]
    },
    {
     "name": "stdout",
     "output_type": "stream",
     "text": [
      "Epoch 13: 97% , Loss: 1.090062\n"
     ]
    },
    {
     "name": "stderr",
     "output_type": "stream",
     "text": [
      "100%|██████████| 932/932 [02:12<00:00,  7.02it/s]\n"
     ]
    },
    {
     "name": "stdout",
     "output_type": "stream",
     "text": [
      "Epoch 13: 100% , Loss: 0.140914\n",
      "                      (F1-score: 0.0428)\n",
      "\n",
      "                      (NDCG: 0.0696)\n",
      "\n",
      "train_loss= tensor(0.4524)\n",
      "--------------------\n"
     ]
    },
    {
     "name": "stderr",
     "output_type": "stream",
     "text": [
      "100%|██████████| 133/133 [00:10<00:00, 13.09it/s]\n"
     ]
    },
    {
     "name": "stdout",
     "output_type": "stream",
     "text": [
      "                      (F1-score: 0.0417)\n",
      "\n",
      "                      (NDCG: 0.0667)\n",
      "\n",
      "val_loss= tensor(0.5907)\n",
      "--------------------\n"
     ]
    },
    {
     "name": "stderr",
     "output_type": "stream",
     "text": [
      "100%|██████████| 266/266 [00:21<00:00, 12.61it/s]\n"
     ]
    },
    {
     "name": "stdout",
     "output_type": "stream",
     "text": [
      "                      (F1-score: 0.0457)\n",
      "\n",
      "                      (NDCG: 0.0710)\n",
      "\n",
      "--------------------\n",
      "[[1, {'F1-score': 4.699248120300752e-05}, {'NDCG': 5.563101696228623e-05}, 0.7670180201530457], [2, {'F1-score': 0.00011487050960735171}, {'NDCG': 0.00014315448225216758}, 0.715857744216919], [3, {'F1-score': 0.018416218112489686}, {'NDCG': 0.021840268549950498}, 0.6940310597419739], [4, {'F1-score': 0.02642099617829246}, {'NDCG': 0.050063680437274445}, 0.7274060845375061], [5, {'F1-score': 0.03184700578141456}, {'NDCG': 0.0567162063399932}, 0.6694043874740601], [6, {'F1-score': 0.04223931158741518}, {'NDCG': 0.06820185580535938}, 0.6241940259933472], [7, {'F1-score': 0.04472424625645027}, {'NDCG': 0.07029548350763612}, 0.6142300963401794], [8, {'F1-score': 0.04290899937899723}, {'NDCG': 0.06925275580803479}, 0.5995289087295532], [9, {'F1-score': 0.04355782601394225}, {'NDCG': 0.06926687848684203}, 0.5936050415039062], [10, {'F1-score': 0.04515040172211956}, {'NDCG': 0.07034251727758997}, 0.5631183981895447], [11, {'F1-score': 0.04443880060696239}, {'NDCG': 0.06966079903164304}, 0.5811899900436401], [12, {'F1-score': 0.04493371631063535}, {'NDCG': 0.07014683947751396}, 0.5719975233078003], [13, {'F1-score': 0.04565093364193787}, {'NDCG': 0.07099754219748695}, 0.5907054543495178]]\n",
      "-----------------------------------------------------------------------------------------\n"
     ]
    },
    {
     "name": "stderr",
     "output_type": "stream",
     "text": [
      "  0%|          | 3/932 [00:00<01:35,  9.69it/s]"
     ]
    },
    {
     "name": "stdout",
     "output_type": "stream",
     "text": [
      "Epoch 14: 0% , Loss: 0.358183\n"
     ]
    },
    {
     "name": "stderr",
     "output_type": "stream",
     "text": [
      " 11%|█         | 102/932 [00:11<01:36,  8.63it/s]"
     ]
    },
    {
     "name": "stdout",
     "output_type": "stream",
     "text": [
      "Epoch 14: 11% , Loss: 0.066997\n"
     ]
    },
    {
     "name": "stderr",
     "output_type": "stream",
     "text": [
      " 22%|██▏       | 202/932 [00:23<01:30,  8.08it/s]"
     ]
    },
    {
     "name": "stdout",
     "output_type": "stream",
     "text": [
      "Epoch 14: 21% , Loss: 0.265772\n"
     ]
    },
    {
     "name": "stderr",
     "output_type": "stream",
     "text": [
      " 32%|███▏      | 302/932 [00:36<01:16,  8.24it/s]"
     ]
    },
    {
     "name": "stdout",
     "output_type": "stream",
     "text": [
      "Epoch 14: 32% , Loss: 0.253525\n"
     ]
    },
    {
     "name": "stderr",
     "output_type": "stream",
     "text": [
      " 43%|████▎     | 402/932 [00:49<01:07,  7.81it/s]"
     ]
    },
    {
     "name": "stdout",
     "output_type": "stream",
     "text": [
      "Epoch 14: 43% , Loss: 0.093270\n"
     ]
    },
    {
     "name": "stderr",
     "output_type": "stream",
     "text": [
      " 54%|█████▍    | 502/932 [01:04<01:01,  6.97it/s]"
     ]
    },
    {
     "name": "stdout",
     "output_type": "stream",
     "text": [
      "Epoch 14: 54% , Loss: 0.286678\n"
     ]
    },
    {
     "name": "stderr",
     "output_type": "stream",
     "text": [
      " 65%|██████▍   | 602/932 [01:18<00:51,  6.40it/s]"
     ]
    },
    {
     "name": "stdout",
     "output_type": "stream",
     "text": [
      "Epoch 14: 64% , Loss: 0.770174\n"
     ]
    },
    {
     "name": "stderr",
     "output_type": "stream",
     "text": [
      " 75%|███████▌  | 701/932 [01:34<00:35,  6.49it/s]"
     ]
    },
    {
     "name": "stdout",
     "output_type": "stream",
     "text": [
      "Epoch 14: 75% , Loss: 0.421569\n"
     ]
    },
    {
     "name": "stderr",
     "output_type": "stream",
     "text": [
      " 86%|████████▌ | 801/932 [01:50<00:23,  5.65it/s]"
     ]
    },
    {
     "name": "stdout",
     "output_type": "stream",
     "text": [
      "Epoch 14: 86% , Loss: 0.214834\n"
     ]
    },
    {
     "name": "stderr",
     "output_type": "stream",
     "text": [
      " 97%|█████████▋| 902/932 [02:07<00:04,  6.25it/s]"
     ]
    },
    {
     "name": "stdout",
     "output_type": "stream",
     "text": [
      "Epoch 14: 97% , Loss: 0.937168\n"
     ]
    },
    {
     "name": "stderr",
     "output_type": "stream",
     "text": [
      "100%|██████████| 932/932 [02:12<00:00,  7.02it/s]\n"
     ]
    },
    {
     "name": "stdout",
     "output_type": "stream",
     "text": [
      "Epoch 14: 100% , Loss: 0.225086\n",
      "                      (F1-score: 0.0429)\n",
      "\n",
      "                      (NDCG: 0.0695)\n",
      "\n",
      "train_loss= tensor(0.4496)\n",
      "--------------------\n"
     ]
    },
    {
     "name": "stderr",
     "output_type": "stream",
     "text": [
      "100%|██████████| 133/133 [00:10<00:00, 13.26it/s]\n"
     ]
    },
    {
     "name": "stdout",
     "output_type": "stream",
     "text": [
      "                      (F1-score: 0.0403)\n",
      "\n",
      "                      (NDCG: 0.0654)\n",
      "\n",
      "val_loss= tensor(0.6000)\n",
      "--------------------\n"
     ]
    },
    {
     "name": "stderr",
     "output_type": "stream",
     "text": [
      "100%|██████████| 266/266 [00:21<00:00, 12.63it/s]\n"
     ]
    },
    {
     "name": "stdout",
     "output_type": "stream",
     "text": [
      "                      (F1-score: 0.0446)\n",
      "\n",
      "                      (NDCG: 0.0697)\n",
      "\n",
      "--------------------\n",
      "[[1, {'F1-score': 4.699248120300752e-05}, {'NDCG': 5.563101696228623e-05}, 0.7670180201530457], [2, {'F1-score': 0.00011487050960735171}, {'NDCG': 0.00014315448225216758}, 0.715857744216919], [3, {'F1-score': 0.018416218112489686}, {'NDCG': 0.021840268549950498}, 0.6940310597419739], [4, {'F1-score': 0.02642099617829246}, {'NDCG': 0.050063680437274445}, 0.7274060845375061], [5, {'F1-score': 0.03184700578141456}, {'NDCG': 0.0567162063399932}, 0.6694043874740601], [6, {'F1-score': 0.04223931158741518}, {'NDCG': 0.06820185580535938}, 0.6241940259933472], [7, {'F1-score': 0.04472424625645027}, {'NDCG': 0.07029548350763612}, 0.6142300963401794], [8, {'F1-score': 0.04290899937899723}, {'NDCG': 0.06925275580803479}, 0.5995289087295532], [9, {'F1-score': 0.04355782601394225}, {'NDCG': 0.06926687848684203}, 0.5936050415039062], [10, {'F1-score': 0.04515040172211956}, {'NDCG': 0.07034251727758997}, 0.5631183981895447], [11, {'F1-score': 0.04443880060696239}, {'NDCG': 0.06966079903164304}, 0.5811899900436401], [12, {'F1-score': 0.04493371631063535}, {'NDCG': 0.07014683947751396}, 0.5719975233078003], [13, {'F1-score': 0.04565093364193787}, {'NDCG': 0.07099754219748695}, 0.5907054543495178], [14, {'F1-score': 0.04460370476914024}, {'NDCG': 0.06966909922876473}, 0.6000447869300842]]\n",
      "-----------------------------------------------------------------------------------------\n"
     ]
    },
    {
     "name": "stderr",
     "output_type": "stream",
     "text": [
      "  0%|          | 2/932 [00:00<01:52,  8.28it/s]"
     ]
    },
    {
     "name": "stdout",
     "output_type": "stream",
     "text": [
      "Epoch 15: 0% , Loss: 0.460721\n"
     ]
    },
    {
     "name": "stderr",
     "output_type": "stream",
     "text": [
      " 11%|█         | 102/932 [00:11<01:38,  8.45it/s]"
     ]
    },
    {
     "name": "stdout",
     "output_type": "stream",
     "text": [
      "Epoch 15: 11% , Loss: 0.321909\n"
     ]
    },
    {
     "name": "stderr",
     "output_type": "stream",
     "text": [
      " 22%|██▏       | 202/932 [00:24<01:31,  7.94it/s]"
     ]
    },
    {
     "name": "stdout",
     "output_type": "stream",
     "text": [
      "Epoch 15: 21% , Loss: 0.199245\n"
     ]
    },
    {
     "name": "stderr",
     "output_type": "stream",
     "text": [
      " 32%|███▏      | 302/932 [00:36<01:18,  8.07it/s]"
     ]
    },
    {
     "name": "stdout",
     "output_type": "stream",
     "text": [
      "Epoch 15: 32% , Loss: 0.335246\n"
     ]
    },
    {
     "name": "stderr",
     "output_type": "stream",
     "text": [
      " 43%|████▎     | 402/932 [00:49<01:08,  7.71it/s]"
     ]
    },
    {
     "name": "stdout",
     "output_type": "stream",
     "text": [
      "Epoch 15: 43% , Loss: 1.114847\n"
     ]
    },
    {
     "name": "stderr",
     "output_type": "stream",
     "text": [
      " 54%|█████▍    | 501/932 [01:04<01:10,  6.10it/s]"
     ]
    },
    {
     "name": "stdout",
     "output_type": "stream",
     "text": [
      "Epoch 15: 54% , Loss: 0.151707\n"
     ]
    },
    {
     "name": "stderr",
     "output_type": "stream",
     "text": [
      " 65%|██████▍   | 602/932 [01:19<00:49,  6.65it/s]"
     ]
    },
    {
     "name": "stdout",
     "output_type": "stream",
     "text": [
      "Epoch 15: 64% , Loss: 0.640566\n"
     ]
    },
    {
     "name": "stderr",
     "output_type": "stream",
     "text": [
      " 75%|███████▌  | 702/932 [01:34<00:36,  6.38it/s]"
     ]
    },
    {
     "name": "stdout",
     "output_type": "stream",
     "text": [
      "Epoch 15: 75% , Loss: 0.242936\n"
     ]
    },
    {
     "name": "stderr",
     "output_type": "stream",
     "text": [
      " 86%|████████▌ | 802/932 [01:51<00:21,  6.10it/s]"
     ]
    },
    {
     "name": "stdout",
     "output_type": "stream",
     "text": [
      "Epoch 15: 86% , Loss: 0.187166\n"
     ]
    },
    {
     "name": "stderr",
     "output_type": "stream",
     "text": [
      " 97%|█████████▋| 901/932 [02:07<00:05,  5.91it/s]"
     ]
    },
    {
     "name": "stdout",
     "output_type": "stream",
     "text": [
      "Epoch 15: 97% , Loss: 0.207495\n"
     ]
    },
    {
     "name": "stderr",
     "output_type": "stream",
     "text": [
      "100%|██████████| 932/932 [02:13<00:00,  7.00it/s]\n"
     ]
    },
    {
     "name": "stdout",
     "output_type": "stream",
     "text": [
      "Epoch 15: 100% , Loss: 0.122564\n",
      "                      (F1-score: 0.0433)\n",
      "\n",
      "                      (NDCG: 0.0700)\n",
      "\n",
      "train_loss= tensor(0.4483)\n",
      "--------------------\n"
     ]
    },
    {
     "name": "stderr",
     "output_type": "stream",
     "text": [
      "100%|██████████| 133/133 [00:09<00:00, 13.32it/s]\n"
     ]
    },
    {
     "name": "stdout",
     "output_type": "stream",
     "text": [
      "                      (F1-score: 0.0412)\n",
      "\n",
      "                      (NDCG: 0.0657)\n",
      "\n",
      "val_loss= tensor(0.5761)\n",
      "--------------------\n"
     ]
    },
    {
     "name": "stderr",
     "output_type": "stream",
     "text": [
      "100%|██████████| 266/266 [00:20<00:00, 12.83it/s]\n"
     ]
    },
    {
     "name": "stdout",
     "output_type": "stream",
     "text": [
      "                      (F1-score: 0.0452)\n",
      "\n",
      "                      (NDCG: 0.0704)\n",
      "\n",
      "--------------------\n",
      "[[1, {'F1-score': 4.699248120300752e-05}, {'NDCG': 5.563101696228623e-05}, 0.7670180201530457], [2, {'F1-score': 0.00011487050960735171}, {'NDCG': 0.00014315448225216758}, 0.715857744216919], [3, {'F1-score': 0.018416218112489686}, {'NDCG': 0.021840268549950498}, 0.6940310597419739], [4, {'F1-score': 0.02642099617829246}, {'NDCG': 0.050063680437274445}, 0.7274060845375061], [5, {'F1-score': 0.03184700578141456}, {'NDCG': 0.0567162063399932}, 0.6694043874740601], [6, {'F1-score': 0.04223931158741518}, {'NDCG': 0.06820185580535938}, 0.6241940259933472], [7, {'F1-score': 0.04472424625645027}, {'NDCG': 0.07029548350763612}, 0.6142300963401794], [8, {'F1-score': 0.04290899937899723}, {'NDCG': 0.06925275580803479}, 0.5995289087295532], [9, {'F1-score': 0.04355782601394225}, {'NDCG': 0.06926687848684203}, 0.5936050415039062], [10, {'F1-score': 0.04515040172211956}, {'NDCG': 0.07034251727758997}, 0.5631183981895447], [11, {'F1-score': 0.04443880060696239}, {'NDCG': 0.06966079903164304}, 0.5811899900436401], [12, {'F1-score': 0.04493371631063535}, {'NDCG': 0.07014683947751396}, 0.5719975233078003], [13, {'F1-score': 0.04565093364193787}, {'NDCG': 0.07099754219748695}, 0.5907054543495178], [14, {'F1-score': 0.04460370476914024}, {'NDCG': 0.06966909922876473}, 0.6000447869300842], [15, {'F1-score': 0.04515451072586205}, {'NDCG': 0.0703947995509252}, 0.5761183500289917]]\n",
      "-----------------------------------------------------------------------------------------\n"
     ]
    },
    {
     "name": "stderr",
     "output_type": "stream",
     "text": [
      "  0%|          | 1/932 [00:00<01:49,  8.47it/s]"
     ]
    },
    {
     "name": "stdout",
     "output_type": "stream",
     "text": [
      "Epoch 16: 0% , Loss: 0.151084\n"
     ]
    },
    {
     "name": "stderr",
     "output_type": "stream",
     "text": [
      " 11%|█         | 102/932 [00:11<01:39,  8.36it/s]"
     ]
    },
    {
     "name": "stdout",
     "output_type": "stream",
     "text": [
      "Epoch 16: 11% , Loss: 0.114001\n"
     ]
    },
    {
     "name": "stderr",
     "output_type": "stream",
     "text": [
      " 22%|██▏       | 202/932 [00:24<01:31,  7.96it/s]"
     ]
    },
    {
     "name": "stdout",
     "output_type": "stream",
     "text": [
      "Epoch 16: 21% , Loss: 0.453407\n"
     ]
    },
    {
     "name": "stderr",
     "output_type": "stream",
     "text": [
      " 32%|███▏      | 302/932 [00:36<01:22,  7.66it/s]"
     ]
    },
    {
     "name": "stdout",
     "output_type": "stream",
     "text": [
      "Epoch 16: 32% , Loss: 0.344321\n"
     ]
    },
    {
     "name": "stderr",
     "output_type": "stream",
     "text": [
      " 43%|████▎     | 402/932 [00:50<01:17,  6.81it/s]"
     ]
    },
    {
     "name": "stdout",
     "output_type": "stream",
     "text": [
      "Epoch 16: 43% , Loss: 0.279230\n"
     ]
    },
    {
     "name": "stderr",
     "output_type": "stream",
     "text": [
      " 54%|█████▍    | 502/932 [01:04<01:02,  6.93it/s]"
     ]
    },
    {
     "name": "stdout",
     "output_type": "stream",
     "text": [
      "Epoch 16: 54% , Loss: 0.091901\n"
     ]
    },
    {
     "name": "stderr",
     "output_type": "stream",
     "text": [
      " 65%|██████▍   | 602/932 [01:19<00:50,  6.56it/s]"
     ]
    },
    {
     "name": "stdout",
     "output_type": "stream",
     "text": [
      "Epoch 16: 64% , Loss: 0.348221\n"
     ]
    },
    {
     "name": "stderr",
     "output_type": "stream",
     "text": [
      " 75%|███████▌  | 702/932 [01:35<00:34,  6.68it/s]"
     ]
    },
    {
     "name": "stdout",
     "output_type": "stream",
     "text": [
      "Epoch 16: 75% , Loss: 0.197043\n"
     ]
    },
    {
     "name": "stderr",
     "output_type": "stream",
     "text": [
      " 86%|████████▌ | 802/932 [01:51<00:20,  6.43it/s]"
     ]
    },
    {
     "name": "stdout",
     "output_type": "stream",
     "text": [
      "Epoch 16: 86% , Loss: 0.188549\n"
     ]
    },
    {
     "name": "stderr",
     "output_type": "stream",
     "text": [
      " 97%|█████████▋| 901/932 [02:07<00:05,  6.05it/s]"
     ]
    },
    {
     "name": "stdout",
     "output_type": "stream",
     "text": [
      "Epoch 16: 97% , Loss: 1.389257\n"
     ]
    },
    {
     "name": "stderr",
     "output_type": "stream",
     "text": [
      "100%|██████████| 932/932 [02:13<00:00,  7.00it/s]\n"
     ]
    },
    {
     "name": "stdout",
     "output_type": "stream",
     "text": [
      "Epoch 16: 100% , Loss: 0.180738\n",
      "                      (F1-score: 0.0426)\n",
      "\n",
      "                      (NDCG: 0.0692)\n",
      "\n",
      "train_loss= tensor(0.4492)\n",
      "--------------------\n"
     ]
    },
    {
     "name": "stderr",
     "output_type": "stream",
     "text": [
      "100%|██████████| 133/133 [00:10<00:00, 13.16it/s]\n"
     ]
    },
    {
     "name": "stdout",
     "output_type": "stream",
     "text": [
      "                      (F1-score: 0.0433)\n",
      "\n",
      "                      (NDCG: 0.0673)\n",
      "\n",
      "val_loss= tensor(0.5788)\n",
      "--------------------\n"
     ]
    },
    {
     "name": "stderr",
     "output_type": "stream",
     "text": [
      "100%|██████████| 266/266 [00:20<00:00, 12.87it/s]\n"
     ]
    },
    {
     "name": "stdout",
     "output_type": "stream",
     "text": [
      "                      (F1-score: 0.0470)\n",
      "\n",
      "                      (NDCG: 0.0719)\n",
      "\n",
      "--------------------\n",
      "[[1, {'F1-score': 4.699248120300752e-05}, {'NDCG': 5.563101696228623e-05}, 0.7670180201530457], [2, {'F1-score': 0.00011487050960735171}, {'NDCG': 0.00014315448225216758}, 0.715857744216919], [3, {'F1-score': 0.018416218112489686}, {'NDCG': 0.021840268549950498}, 0.6940310597419739], [4, {'F1-score': 0.02642099617829246}, {'NDCG': 0.050063680437274445}, 0.7274060845375061], [5, {'F1-score': 0.03184700578141456}, {'NDCG': 0.0567162063399932}, 0.6694043874740601], [6, {'F1-score': 0.04223931158741518}, {'NDCG': 0.06820185580535938}, 0.6241940259933472], [7, {'F1-score': 0.04472424625645027}, {'NDCG': 0.07029548350763612}, 0.6142300963401794], [8, {'F1-score': 0.04290899937899723}, {'NDCG': 0.06925275580803479}, 0.5995289087295532], [9, {'F1-score': 0.04355782601394225}, {'NDCG': 0.06926687848684203}, 0.5936050415039062], [10, {'F1-score': 0.04515040172211956}, {'NDCG': 0.07034251727758997}, 0.5631183981895447], [11, {'F1-score': 0.04443880060696239}, {'NDCG': 0.06966079903164304}, 0.5811899900436401], [12, {'F1-score': 0.04493371631063535}, {'NDCG': 0.07014683947751396}, 0.5719975233078003], [13, {'F1-score': 0.04565093364193787}, {'NDCG': 0.07099754219748695}, 0.5907054543495178], [14, {'F1-score': 0.04460370476914024}, {'NDCG': 0.06966909922876473}, 0.6000447869300842], [15, {'F1-score': 0.04515451072586205}, {'NDCG': 0.0703947995509252}, 0.5761183500289917], [16, {'F1-score': 0.04701275208181636}, {'NDCG': 0.07190614512288257}, 0.5787864327430725]]\n",
      "-----------------------------------------------------------------------------------------\n"
     ]
    },
    {
     "name": "stderr",
     "output_type": "stream",
     "text": [
      "  0%|          | 1/932 [00:00<01:38,  9.43it/s]"
     ]
    },
    {
     "name": "stdout",
     "output_type": "stream",
     "text": [
      "Epoch 17: 0% , Loss: 0.239082\n"
     ]
    },
    {
     "name": "stderr",
     "output_type": "stream",
     "text": [
      " 11%|█         | 102/932 [00:11<01:32,  8.93it/s]"
     ]
    },
    {
     "name": "stdout",
     "output_type": "stream",
     "text": [
      "Epoch 17: 11% , Loss: 0.220047\n"
     ]
    },
    {
     "name": "stderr",
     "output_type": "stream",
     "text": [
      " 22%|██▏       | 202/932 [00:23<01:30,  8.02it/s]"
     ]
    },
    {
     "name": "stdout",
     "output_type": "stream",
     "text": [
      "Epoch 17: 21% , Loss: 0.175617\n"
     ]
    },
    {
     "name": "stderr",
     "output_type": "stream",
     "text": [
      " 32%|███▏      | 302/932 [00:36<01:21,  7.74it/s]"
     ]
    },
    {
     "name": "stdout",
     "output_type": "stream",
     "text": [
      "Epoch 17: 32% , Loss: 0.282839\n"
     ]
    },
    {
     "name": "stderr",
     "output_type": "stream",
     "text": [
      " 43%|████▎     | 402/932 [00:49<01:14,  7.13it/s]"
     ]
    },
    {
     "name": "stdout",
     "output_type": "stream",
     "text": [
      "Epoch 17: 43% , Loss: 0.123972\n"
     ]
    },
    {
     "name": "stderr",
     "output_type": "stream",
     "text": [
      " 54%|█████▍    | 502/932 [01:03<00:59,  7.17it/s]"
     ]
    },
    {
     "name": "stdout",
     "output_type": "stream",
     "text": [
      "Epoch 17: 54% , Loss: 0.181665\n"
     ]
    },
    {
     "name": "stderr",
     "output_type": "stream",
     "text": [
      " 65%|██████▍   | 602/932 [01:18<00:46,  7.04it/s]"
     ]
    },
    {
     "name": "stdout",
     "output_type": "stream",
     "text": [
      "Epoch 17: 64% , Loss: 0.265471\n"
     ]
    },
    {
     "name": "stderr",
     "output_type": "stream",
     "text": [
      " 75%|███████▌  | 701/932 [01:34<00:34,  6.66it/s]"
     ]
    },
    {
     "name": "stdout",
     "output_type": "stream",
     "text": [
      "Epoch 17: 75% , Loss: 0.158157\n"
     ]
    },
    {
     "name": "stderr",
     "output_type": "stream",
     "text": [
      " 86%|████████▌ | 801/932 [01:50<00:21,  6.11it/s]"
     ]
    },
    {
     "name": "stdout",
     "output_type": "stream",
     "text": [
      "Epoch 17: 86% , Loss: 0.164206\n"
     ]
    },
    {
     "name": "stderr",
     "output_type": "stream",
     "text": [
      " 97%|█████████▋| 901/932 [02:07<00:05,  5.98it/s]"
     ]
    },
    {
     "name": "stdout",
     "output_type": "stream",
     "text": [
      "Epoch 17: 97% , Loss: 0.754362\n"
     ]
    },
    {
     "name": "stderr",
     "output_type": "stream",
     "text": [
      "100%|██████████| 932/932 [02:13<00:00,  7.00it/s]"
     ]
    },
    {
     "name": "stdout",
     "output_type": "stream",
     "text": [
      "Epoch 17: 100% , Loss: 0.288947\n"
     ]
    },
    {
     "name": "stderr",
     "output_type": "stream",
     "text": [
      "\n"
     ]
    },
    {
     "name": "stdout",
     "output_type": "stream",
     "text": [
      "                      (F1-score: 0.0428)\n",
      "\n",
      "                      (NDCG: 0.0695)\n",
      "\n",
      "train_loss= tensor(0.4488)\n",
      "--------------------\n"
     ]
    },
    {
     "name": "stderr",
     "output_type": "stream",
     "text": [
      "100%|██████████| 133/133 [00:10<00:00, 13.23it/s]\n"
     ]
    },
    {
     "name": "stdout",
     "output_type": "stream",
     "text": [
      "                      (F1-score: 0.0406)\n",
      "\n",
      "                      (NDCG: 0.0655)\n",
      "\n",
      "val_loss= tensor(0.5855)\n",
      "--------------------\n"
     ]
    },
    {
     "name": "stderr",
     "output_type": "stream",
     "text": [
      "100%|██████████| 266/266 [00:20<00:00, 12.80it/s]\n"
     ]
    },
    {
     "name": "stdout",
     "output_type": "stream",
     "text": [
      "                      (F1-score: 0.0440)\n",
      "\n",
      "                      (NDCG: 0.0697)\n",
      "\n",
      "--------------------\n",
      "[[1, {'F1-score': 4.699248120300752e-05}, {'NDCG': 5.563101696228623e-05}, 0.7670180201530457], [2, {'F1-score': 0.00011487050960735171}, {'NDCG': 0.00014315448225216758}, 0.715857744216919], [3, {'F1-score': 0.018416218112489686}, {'NDCG': 0.021840268549950498}, 0.6940310597419739], [4, {'F1-score': 0.02642099617829246}, {'NDCG': 0.050063680437274445}, 0.7274060845375061], [5, {'F1-score': 0.03184700578141456}, {'NDCG': 0.0567162063399932}, 0.6694043874740601], [6, {'F1-score': 0.04223931158741518}, {'NDCG': 0.06820185580535938}, 0.6241940259933472], [7, {'F1-score': 0.04472424625645027}, {'NDCG': 0.07029548350763612}, 0.6142300963401794], [8, {'F1-score': 0.04290899937899723}, {'NDCG': 0.06925275580803479}, 0.5995289087295532], [9, {'F1-score': 0.04355782601394225}, {'NDCG': 0.06926687848684203}, 0.5936050415039062], [10, {'F1-score': 0.04515040172211956}, {'NDCG': 0.07034251727758997}, 0.5631183981895447], [11, {'F1-score': 0.04443880060696239}, {'NDCG': 0.06966079903164304}, 0.5811899900436401], [12, {'F1-score': 0.04493371631063535}, {'NDCG': 0.07014683947751396}, 0.5719975233078003], [13, {'F1-score': 0.04565093364193787}, {'NDCG': 0.07099754219748695}, 0.5907054543495178], [14, {'F1-score': 0.04460370476914024}, {'NDCG': 0.06966909922876473}, 0.6000447869300842], [15, {'F1-score': 0.04515451072586205}, {'NDCG': 0.0703947995509252}, 0.5761183500289917], [16, {'F1-score': 0.04701275208181636}, {'NDCG': 0.07190614512288257}, 0.5787864327430725], [17, {'F1-score': 0.04395315981777069}, {'NDCG': 0.0696789747125056}, 0.5855261087417603]]\n",
      "-----------------------------------------------------------------------------------------\n"
     ]
    },
    {
     "name": "stderr",
     "output_type": "stream",
     "text": [
      "\r",
      "  0%|          | 0/932 [00:00<?, ?it/s]"
     ]
    },
    {
     "name": "stdout",
     "output_type": "stream",
     "text": [
      "Epoch 18: 0% , Loss: 0.542708\n"
     ]
    },
    {
     "name": "stderr",
     "output_type": "stream",
     "text": [
      " 11%|█         | 101/932 [00:11<01:33,  8.88it/s]"
     ]
    },
    {
     "name": "stdout",
     "output_type": "stream",
     "text": [
      "Epoch 18: 11% , Loss: 0.280532\n"
     ]
    },
    {
     "name": "stderr",
     "output_type": "stream",
     "text": [
      " 22%|██▏       | 202/932 [00:23<01:29,  8.18it/s]"
     ]
    },
    {
     "name": "stdout",
     "output_type": "stream",
     "text": [
      "Epoch 18: 21% , Loss: 0.089920\n"
     ]
    },
    {
     "name": "stderr",
     "output_type": "stream",
     "text": [
      " 32%|███▏      | 302/932 [00:36<01:22,  7.61it/s]"
     ]
    },
    {
     "name": "stdout",
     "output_type": "stream",
     "text": [
      "Epoch 18: 32% , Loss: 0.492942\n"
     ]
    },
    {
     "name": "stderr",
     "output_type": "stream",
     "text": [
      " 43%|████▎     | 402/932 [00:49<01:09,  7.66it/s]"
     ]
    },
    {
     "name": "stdout",
     "output_type": "stream",
     "text": [
      "Epoch 18: 43% , Loss: 0.172720\n"
     ]
    },
    {
     "name": "stderr",
     "output_type": "stream",
     "text": [
      " 54%|█████▍    | 502/932 [01:03<01:08,  6.28it/s]"
     ]
    },
    {
     "name": "stdout",
     "output_type": "stream",
     "text": [
      "Epoch 18: 54% , Loss: 3.753786\n"
     ]
    },
    {
     "name": "stderr",
     "output_type": "stream",
     "text": [
      " 65%|██████▍   | 602/932 [01:18<01:00,  5.45it/s]"
     ]
    },
    {
     "name": "stdout",
     "output_type": "stream",
     "text": [
      "Epoch 18: 64% , Loss: 0.925485\n"
     ]
    },
    {
     "name": "stderr",
     "output_type": "stream",
     "text": [
      " 75%|███████▌  | 702/932 [01:34<00:33,  6.77it/s]"
     ]
    },
    {
     "name": "stdout",
     "output_type": "stream",
     "text": [
      "Epoch 18: 75% , Loss: 0.126523\n"
     ]
    },
    {
     "name": "stderr",
     "output_type": "stream",
     "text": [
      " 86%|████████▌ | 801/932 [01:50<00:20,  6.39it/s]"
     ]
    },
    {
     "name": "stdout",
     "output_type": "stream",
     "text": [
      "Epoch 18: 86% , Loss: 0.216883\n"
     ]
    },
    {
     "name": "stderr",
     "output_type": "stream",
     "text": [
      " 97%|█████████▋| 901/932 [02:06<00:05,  6.02it/s]"
     ]
    },
    {
     "name": "stdout",
     "output_type": "stream",
     "text": [
      "Epoch 18: 97% , Loss: 0.298295\n"
     ]
    },
    {
     "name": "stderr",
     "output_type": "stream",
     "text": [
      "100%|██████████| 932/932 [02:12<00:00,  7.04it/s]\n"
     ]
    },
    {
     "name": "stdout",
     "output_type": "stream",
     "text": [
      "Epoch 18: 100% , Loss: 0.391875\n",
      "                      (F1-score: 0.0428)\n",
      "\n",
      "                      (NDCG: 0.0693)\n",
      "\n",
      "train_loss= tensor(0.4485)\n",
      "--------------------\n"
     ]
    },
    {
     "name": "stderr",
     "output_type": "stream",
     "text": [
      "100%|██████████| 133/133 [00:10<00:00, 13.06it/s]\n"
     ]
    },
    {
     "name": "stdout",
     "output_type": "stream",
     "text": [
      "                      (F1-score: 0.0421)\n",
      "\n",
      "                      (NDCG: 0.0665)\n",
      "\n",
      "val_loss= tensor(0.5889)\n",
      "--------------------\n"
     ]
    },
    {
     "name": "stderr",
     "output_type": "stream",
     "text": [
      "100%|██████████| 266/266 [00:21<00:00, 12.56it/s]\n"
     ]
    },
    {
     "name": "stdout",
     "output_type": "stream",
     "text": [
      "                      (F1-score: 0.0451)\n",
      "\n",
      "                      (NDCG: 0.0701)\n",
      "\n",
      "--------------------\n",
      "[[1, {'F1-score': 4.699248120300752e-05}, {'NDCG': 5.563101696228623e-05}, 0.7670180201530457], [2, {'F1-score': 0.00011487050960735171}, {'NDCG': 0.00014315448225216758}, 0.715857744216919], [3, {'F1-score': 0.018416218112489686}, {'NDCG': 0.021840268549950498}, 0.6940310597419739], [4, {'F1-score': 0.02642099617829246}, {'NDCG': 0.050063680437274445}, 0.7274060845375061], [5, {'F1-score': 0.03184700578141456}, {'NDCG': 0.0567162063399932}, 0.6694043874740601], [6, {'F1-score': 0.04223931158741518}, {'NDCG': 0.06820185580535938}, 0.6241940259933472], [7, {'F1-score': 0.04472424625645027}, {'NDCG': 0.07029548350763612}, 0.6142300963401794], [8, {'F1-score': 0.04290899937899723}, {'NDCG': 0.06925275580803479}, 0.5995289087295532], [9, {'F1-score': 0.04355782601394225}, {'NDCG': 0.06926687848684203}, 0.5936050415039062], [10, {'F1-score': 0.04515040172211956}, {'NDCG': 0.07034251727758997}, 0.5631183981895447], [11, {'F1-score': 0.04443880060696239}, {'NDCG': 0.06966079903164304}, 0.5811899900436401], [12, {'F1-score': 0.04493371631063535}, {'NDCG': 0.07014683947751396}, 0.5719975233078003], [13, {'F1-score': 0.04565093364193787}, {'NDCG': 0.07099754219748695}, 0.5907054543495178], [14, {'F1-score': 0.04460370476914024}, {'NDCG': 0.06966909922876473}, 0.6000447869300842], [15, {'F1-score': 0.04515451072586205}, {'NDCG': 0.0703947995509252}, 0.5761183500289917], [16, {'F1-score': 0.04701275208181636}, {'NDCG': 0.07190614512288257}, 0.5787864327430725], [17, {'F1-score': 0.04395315981777069}, {'NDCG': 0.0696789747125056}, 0.5855261087417603], [18, {'F1-score': 0.04512002444079792}, {'NDCG': 0.07008551670189359}, 0.5888639688491821]]\n",
      "-----------------------------------------------------------------------------------------\n"
     ]
    },
    {
     "name": "stderr",
     "output_type": "stream",
     "text": [
      "\r",
      "  0%|          | 0/932 [00:00<?, ?it/s]"
     ]
    },
    {
     "name": "stdout",
     "output_type": "stream",
     "text": [
      "Epoch 19: 0% , Loss: 0.142746"
     ]
    },
    {
     "name": "stderr",
     "output_type": "stream",
     "text": [
      "\r",
      "  0%|          | 1/932 [00:00<01:47,  8.69it/s]"
     ]
    },
    {
     "name": "stdout",
     "output_type": "stream",
     "text": [
      "\n"
     ]
    },
    {
     "name": "stderr",
     "output_type": "stream",
     "text": [
      " 11%|█         | 102/932 [00:11<01:27,  9.49it/s]"
     ]
    },
    {
     "name": "stdout",
     "output_type": "stream",
     "text": [
      "Epoch 19: 11% , Loss: 0.672182\n"
     ]
    },
    {
     "name": "stderr",
     "output_type": "stream",
     "text": [
      " 22%|██▏       | 202/932 [00:24<01:34,  7.76it/s]"
     ]
    },
    {
     "name": "stdout",
     "output_type": "stream",
     "text": [
      "Epoch 19: 21% , Loss: 0.238467\n"
     ]
    },
    {
     "name": "stderr",
     "output_type": "stream",
     "text": [
      " 32%|███▏      | 302/932 [00:36<01:16,  8.27it/s]"
     ]
    },
    {
     "name": "stdout",
     "output_type": "stream",
     "text": [
      "Epoch 19: 32% , Loss: 0.631397\n"
     ]
    },
    {
     "name": "stderr",
     "output_type": "stream",
     "text": [
      " 43%|████▎     | 402/932 [00:49<01:09,  7.62it/s]"
     ]
    },
    {
     "name": "stdout",
     "output_type": "stream",
     "text": [
      "Epoch 19: 43% , Loss: 0.177103\n"
     ]
    },
    {
     "name": "stderr",
     "output_type": "stream",
     "text": [
      " 54%|█████▍    | 502/932 [01:03<00:58,  7.38it/s]"
     ]
    },
    {
     "name": "stdout",
     "output_type": "stream",
     "text": [
      "Epoch 19: 54% , Loss: 0.168015\n"
     ]
    },
    {
     "name": "stderr",
     "output_type": "stream",
     "text": [
      " 65%|██████▍   | 602/932 [01:18<00:50,  6.51it/s]"
     ]
    },
    {
     "name": "stdout",
     "output_type": "stream",
     "text": [
      "Epoch 19: 64% , Loss: 0.175163\n"
     ]
    },
    {
     "name": "stderr",
     "output_type": "stream",
     "text": [
      " 75%|███████▌  | 702/932 [01:33<00:35,  6.51it/s]"
     ]
    },
    {
     "name": "stdout",
     "output_type": "stream",
     "text": [
      "Epoch 19: 75% , Loss: 0.801649\n"
     ]
    },
    {
     "name": "stderr",
     "output_type": "stream",
     "text": [
      " 86%|████████▌ | 801/932 [01:49<00:21,  6.00it/s]"
     ]
    },
    {
     "name": "stdout",
     "output_type": "stream",
     "text": [
      "Epoch 19: 86% , Loss: 0.317569\n"
     ]
    },
    {
     "name": "stderr",
     "output_type": "stream",
     "text": [
      " 97%|█████████▋| 901/932 [02:06<00:05,  5.93it/s]"
     ]
    },
    {
     "name": "stdout",
     "output_type": "stream",
     "text": [
      "Epoch 19: 97% , Loss: 0.812172\n"
     ]
    },
    {
     "name": "stderr",
     "output_type": "stream",
     "text": [
      "100%|██████████| 932/932 [02:11<00:00,  7.10it/s]\n"
     ]
    },
    {
     "name": "stdout",
     "output_type": "stream",
     "text": [
      "Epoch 19: 100% , Loss: 1.528484\n",
      "                      (F1-score: 0.0431)\n",
      "\n",
      "                      (NDCG: 0.0696)\n",
      "\n",
      "train_loss= tensor(0.4443)\n",
      "--------------------\n"
     ]
    },
    {
     "name": "stderr",
     "output_type": "stream",
     "text": [
      "100%|██████████| 133/133 [00:10<00:00, 12.94it/s]\n"
     ]
    },
    {
     "name": "stdout",
     "output_type": "stream",
     "text": [
      "                      (F1-score: 0.0403)\n",
      "\n",
      "                      (NDCG: 0.0654)\n",
      "\n",
      "val_loss= tensor(0.5673)\n",
      "--------------------\n"
     ]
    },
    {
     "name": "stderr",
     "output_type": "stream",
     "text": [
      "100%|██████████| 266/266 [00:20<00:00, 12.92it/s]\n"
     ]
    },
    {
     "name": "stdout",
     "output_type": "stream",
     "text": [
      "                      (F1-score: 0.0459)\n",
      "\n",
      "                      (NDCG: 0.0709)\n",
      "\n",
      "--------------------\n",
      "[[1, {'F1-score': 4.699248120300752e-05}, {'NDCG': 5.563101696228623e-05}, 0.7670180201530457], [2, {'F1-score': 0.00011487050960735171}, {'NDCG': 0.00014315448225216758}, 0.715857744216919], [3, {'F1-score': 0.018416218112489686}, {'NDCG': 0.021840268549950498}, 0.6940310597419739], [4, {'F1-score': 0.02642099617829246}, {'NDCG': 0.050063680437274445}, 0.7274060845375061], [5, {'F1-score': 0.03184700578141456}, {'NDCG': 0.0567162063399932}, 0.6694043874740601], [6, {'F1-score': 0.04223931158741518}, {'NDCG': 0.06820185580535938}, 0.6241940259933472], [7, {'F1-score': 0.04472424625645027}, {'NDCG': 0.07029548350763612}, 0.6142300963401794], [8, {'F1-score': 0.04290899937899723}, {'NDCG': 0.06925275580803479}, 0.5995289087295532], [9, {'F1-score': 0.04355782601394225}, {'NDCG': 0.06926687848684203}, 0.5936050415039062], [10, {'F1-score': 0.04515040172211956}, {'NDCG': 0.07034251727758997}, 0.5631183981895447], [11, {'F1-score': 0.04443880060696239}, {'NDCG': 0.06966079903164304}, 0.5811899900436401], [12, {'F1-score': 0.04493371631063535}, {'NDCG': 0.07014683947751396}, 0.5719975233078003], [13, {'F1-score': 0.04565093364193787}, {'NDCG': 0.07099754219748695}, 0.5907054543495178], [14, {'F1-score': 0.04460370476914024}, {'NDCG': 0.06966909922876473}, 0.6000447869300842], [15, {'F1-score': 0.04515451072586205}, {'NDCG': 0.0703947995509252}, 0.5761183500289917], [16, {'F1-score': 0.04701275208181636}, {'NDCG': 0.07190614512288257}, 0.5787864327430725], [17, {'F1-score': 0.04395315981777069}, {'NDCG': 0.0696789747125056}, 0.5855261087417603], [18, {'F1-score': 0.04512002444079792}, {'NDCG': 0.07008551670189359}, 0.5888639688491821], [19, {'F1-score': 0.04589398412900888}, {'NDCG': 0.07090936102589271}, 0.5673319101333618]]\n",
      "-----------------------------------------------------------------------------------------\n"
     ]
    },
    {
     "name": "stderr",
     "output_type": "stream",
     "text": [
      "\r",
      "  0%|          | 0/932 [00:00<?, ?it/s]"
     ]
    },
    {
     "name": "stdout",
     "output_type": "stream",
     "text": [
      "Epoch 20: 0% , Loss: 0.638559\n"
     ]
    },
    {
     "name": "stderr",
     "output_type": "stream",
     "text": [
      " 11%|█         | 102/932 [00:12<01:38,  8.44it/s]"
     ]
    },
    {
     "name": "stdout",
     "output_type": "stream",
     "text": [
      "Epoch 20: 11% , Loss: 0.198403\n"
     ]
    },
    {
     "name": "stderr",
     "output_type": "stream",
     "text": [
      " 22%|██▏       | 202/932 [00:23<01:31,  7.95it/s]"
     ]
    },
    {
     "name": "stdout",
     "output_type": "stream",
     "text": [
      "Epoch 20: 21% , Loss: 0.234073\n"
     ]
    },
    {
     "name": "stderr",
     "output_type": "stream",
     "text": [
      " 32%|███▏      | 302/932 [00:36<01:19,  7.96it/s]"
     ]
    },
    {
     "name": "stdout",
     "output_type": "stream",
     "text": [
      "Epoch 20: 32% , Loss: 0.183277\n"
     ]
    },
    {
     "name": "stderr",
     "output_type": "stream",
     "text": [
      " 43%|████▎     | 402/932 [00:49<01:08,  7.76it/s]"
     ]
    },
    {
     "name": "stdout",
     "output_type": "stream",
     "text": [
      "Epoch 20: 43% , Loss: 0.548345\n"
     ]
    },
    {
     "name": "stderr",
     "output_type": "stream",
     "text": [
      " 54%|█████▍    | 502/932 [01:03<01:09,  6.16it/s]"
     ]
    },
    {
     "name": "stdout",
     "output_type": "stream",
     "text": [
      "Epoch 20: 54% , Loss: 0.209751\n"
     ]
    },
    {
     "name": "stderr",
     "output_type": "stream",
     "text": [
      " 65%|██████▍   | 602/932 [01:18<00:47,  7.00it/s]"
     ]
    },
    {
     "name": "stdout",
     "output_type": "stream",
     "text": [
      "Epoch 20: 64% , Loss: 0.137632\n"
     ]
    },
    {
     "name": "stderr",
     "output_type": "stream",
     "text": [
      " 75%|███████▌  | 702/932 [01:33<00:32,  7.16it/s]"
     ]
    },
    {
     "name": "stdout",
     "output_type": "stream",
     "text": [
      "Epoch 20: 75% , Loss: 0.194861\n"
     ]
    },
    {
     "name": "stderr",
     "output_type": "stream",
     "text": [
      " 86%|████████▌ | 801/932 [01:49<00:26,  4.92it/s]"
     ]
    },
    {
     "name": "stdout",
     "output_type": "stream",
     "text": [
      "Epoch 20: 86% , Loss: 0.424047\n"
     ]
    },
    {
     "name": "stderr",
     "output_type": "stream",
     "text": [
      " 97%|█████████▋| 901/932 [02:05<00:04,  6.41it/s]"
     ]
    },
    {
     "name": "stdout",
     "output_type": "stream",
     "text": [
      "Epoch 20: 97% , Loss: 0.318253\n"
     ]
    },
    {
     "name": "stderr",
     "output_type": "stream",
     "text": [
      "100%|██████████| 932/932 [02:11<00:00,  7.09it/s]\n"
     ]
    },
    {
     "name": "stdout",
     "output_type": "stream",
     "text": [
      "Epoch 20: 100% , Loss: 0.060915\n",
      "                      (F1-score: 0.0425)\n",
      "\n",
      "                      (NDCG: 0.0691)\n",
      "\n",
      "train_loss= tensor(0.4417)\n",
      "--------------------\n"
     ]
    },
    {
     "name": "stderr",
     "output_type": "stream",
     "text": [
      "100%|██████████| 133/133 [00:10<00:00, 13.12it/s]\n"
     ]
    },
    {
     "name": "stdout",
     "output_type": "stream",
     "text": [
      "                      (F1-score: 0.0404)\n",
      "\n",
      "                      (NDCG: 0.0646)\n",
      "\n",
      "val_loss= tensor(0.6079)\n",
      "--------------------\n"
     ]
    },
    {
     "name": "stderr",
     "output_type": "stream",
     "text": [
      "100%|██████████| 266/266 [00:21<00:00, 12.62it/s]\n"
     ]
    },
    {
     "name": "stdout",
     "output_type": "stream",
     "text": [
      "                      (F1-score: 0.0435)\n",
      "\n",
      "                      (NDCG: 0.0694)\n",
      "\n",
      "--------------------\n",
      "[[1, {'F1-score': 4.699248120300752e-05}, {'NDCG': 5.563101696228623e-05}, 0.7670180201530457], [2, {'F1-score': 0.00011487050960735171}, {'NDCG': 0.00014315448225216758}, 0.715857744216919], [3, {'F1-score': 0.018416218112489686}, {'NDCG': 0.021840268549950498}, 0.6940310597419739], [4, {'F1-score': 0.02642099617829246}, {'NDCG': 0.050063680437274445}, 0.7274060845375061], [5, {'F1-score': 0.03184700578141456}, {'NDCG': 0.0567162063399932}, 0.6694043874740601], [6, {'F1-score': 0.04223931158741518}, {'NDCG': 0.06820185580535938}, 0.6241940259933472], [7, {'F1-score': 0.04472424625645027}, {'NDCG': 0.07029548350763612}, 0.6142300963401794], [8, {'F1-score': 0.04290899937899723}, {'NDCG': 0.06925275580803479}, 0.5995289087295532], [9, {'F1-score': 0.04355782601394225}, {'NDCG': 0.06926687848684203}, 0.5936050415039062], [10, {'F1-score': 0.04515040172211956}, {'NDCG': 0.07034251727758997}, 0.5631183981895447], [11, {'F1-score': 0.04443880060696239}, {'NDCG': 0.06966079903164304}, 0.5811899900436401], [12, {'F1-score': 0.04493371631063535}, {'NDCG': 0.07014683947751396}, 0.5719975233078003], [13, {'F1-score': 0.04565093364193787}, {'NDCG': 0.07099754219748695}, 0.5907054543495178], [14, {'F1-score': 0.04460370476914024}, {'NDCG': 0.06966909922876473}, 0.6000447869300842], [15, {'F1-score': 0.04515451072586205}, {'NDCG': 0.0703947995509252}, 0.5761183500289917], [16, {'F1-score': 0.04701275208181636}, {'NDCG': 0.07190614512288257}, 0.5787864327430725], [17, {'F1-score': 0.04395315981777069}, {'NDCG': 0.0696789747125056}, 0.5855261087417603], [18, {'F1-score': 0.04512002444079792}, {'NDCG': 0.07008551670189359}, 0.5888639688491821], [19, {'F1-score': 0.04589398412900888}, {'NDCG': 0.07090936102589271}, 0.5673319101333618], [20, {'F1-score': 0.04354598355720392}, {'NDCG': 0.06940149212662215}, 0.6078929305076599]]\n",
      "-----------------------------------------------------------------------------------------\n"
     ]
    },
    {
     "name": "stderr",
     "output_type": "stream",
     "text": [
      "  0%|          | 2/932 [00:00<01:51,  8.31it/s]"
     ]
    },
    {
     "name": "stdout",
     "output_type": "stream",
     "text": [
      "Epoch 21: 0% , Loss: 0.573057\n"
     ]
    },
    {
     "name": "stderr",
     "output_type": "stream",
     "text": [
      " 11%|█         | 102/932 [00:11<01:35,  8.70it/s]"
     ]
    },
    {
     "name": "stdout",
     "output_type": "stream",
     "text": [
      "Epoch 21: 11% , Loss: 0.109263\n"
     ]
    },
    {
     "name": "stderr",
     "output_type": "stream",
     "text": [
      " 22%|██▏       | 202/932 [00:23<01:23,  8.70it/s]"
     ]
    },
    {
     "name": "stdout",
     "output_type": "stream",
     "text": [
      "Epoch 21: 21% , Loss: 0.182167\n"
     ]
    },
    {
     "name": "stderr",
     "output_type": "stream",
     "text": [
      " 32%|███▏      | 302/932 [00:35<01:20,  7.85it/s]"
     ]
    },
    {
     "name": "stdout",
     "output_type": "stream",
     "text": [
      "Epoch 21: 32% , Loss: 1.513366\n"
     ]
    },
    {
     "name": "stderr",
     "output_type": "stream",
     "text": [
      " 43%|████▎     | 402/932 [00:49<01:07,  7.87it/s]"
     ]
    },
    {
     "name": "stdout",
     "output_type": "stream",
     "text": [
      "Epoch 21: 43% , Loss: 0.229529\n"
     ]
    },
    {
     "name": "stderr",
     "output_type": "stream",
     "text": [
      " 54%|█████▍    | 502/932 [01:03<01:00,  7.12it/s]"
     ]
    },
    {
     "name": "stdout",
     "output_type": "stream",
     "text": [
      "Epoch 21: 54% , Loss: 0.773508\n"
     ]
    },
    {
     "name": "stderr",
     "output_type": "stream",
     "text": [
      " 65%|██████▍   | 602/932 [01:18<00:48,  6.83it/s]"
     ]
    },
    {
     "name": "stdout",
     "output_type": "stream",
     "text": [
      "Epoch 21: 64% , Loss: 0.541495\n"
     ]
    },
    {
     "name": "stderr",
     "output_type": "stream",
     "text": [
      " 75%|███████▌  | 701/932 [01:33<00:35,  6.55it/s]"
     ]
    },
    {
     "name": "stdout",
     "output_type": "stream",
     "text": [
      "Epoch 21: 75% , Loss: 0.227991\n"
     ]
    },
    {
     "name": "stderr",
     "output_type": "stream",
     "text": [
      " 86%|████████▌ | 801/932 [01:50<00:21,  6.14it/s]"
     ]
    },
    {
     "name": "stdout",
     "output_type": "stream",
     "text": [
      "Epoch 21: 86% , Loss: 0.463118\n"
     ]
    },
    {
     "name": "stderr",
     "output_type": "stream",
     "text": [
      " 97%|█████████▋| 901/932 [02:07<00:05,  5.95it/s]"
     ]
    },
    {
     "name": "stdout",
     "output_type": "stream",
     "text": [
      "Epoch 21: 97% , Loss: 0.238467\n"
     ]
    },
    {
     "name": "stderr",
     "output_type": "stream",
     "text": [
      "100%|██████████| 932/932 [02:12<00:00,  7.01it/s]"
     ]
    },
    {
     "name": "stdout",
     "output_type": "stream",
     "text": [
      "Epoch 21: 100% , Loss: 0.919461\n"
     ]
    },
    {
     "name": "stderr",
     "output_type": "stream",
     "text": [
      "\n"
     ]
    },
    {
     "name": "stdout",
     "output_type": "stream",
     "text": [
      "                      (F1-score: 0.0433)\n",
      "\n",
      "                      (NDCG: 0.0698)\n",
      "\n",
      "train_loss= tensor(0.4415)\n",
      "--------------------\n"
     ]
    },
    {
     "name": "stderr",
     "output_type": "stream",
     "text": [
      "100%|██████████| 133/133 [00:09<00:00, 13.32it/s]\n"
     ]
    },
    {
     "name": "stdout",
     "output_type": "stream",
     "text": [
      "                      (F1-score: 0.0408)\n",
      "\n",
      "                      (NDCG: 0.0654)\n",
      "\n",
      "val_loss= tensor(0.5780)\n",
      "--------------------\n"
     ]
    },
    {
     "name": "stderr",
     "output_type": "stream",
     "text": [
      "100%|██████████| 266/266 [00:20<00:00, 12.69it/s]\n"
     ]
    },
    {
     "name": "stdout",
     "output_type": "stream",
     "text": [
      "                      (F1-score: 0.0450)\n",
      "\n",
      "                      (NDCG: 0.0702)\n",
      "\n",
      "--------------------\n",
      "[[1, {'F1-score': 4.699248120300752e-05}, {'NDCG': 5.563101696228623e-05}, 0.7670180201530457], [2, {'F1-score': 0.00011487050960735171}, {'NDCG': 0.00014315448225216758}, 0.715857744216919], [3, {'F1-score': 0.018416218112489686}, {'NDCG': 0.021840268549950498}, 0.6940310597419739], [4, {'F1-score': 0.02642099617829246}, {'NDCG': 0.050063680437274445}, 0.7274060845375061], [5, {'F1-score': 0.03184700578141456}, {'NDCG': 0.0567162063399932}, 0.6694043874740601], [6, {'F1-score': 0.04223931158741518}, {'NDCG': 0.06820185580535938}, 0.6241940259933472], [7, {'F1-score': 0.04472424625645027}, {'NDCG': 0.07029548350763612}, 0.6142300963401794], [8, {'F1-score': 0.04290899937899723}, {'NDCG': 0.06925275580803479}, 0.5995289087295532], [9, {'F1-score': 0.04355782601394225}, {'NDCG': 0.06926687848684203}, 0.5936050415039062], [10, {'F1-score': 0.04515040172211956}, {'NDCG': 0.07034251727758997}, 0.5631183981895447], [11, {'F1-score': 0.04443880060696239}, {'NDCG': 0.06966079903164304}, 0.5811899900436401], [12, {'F1-score': 0.04493371631063535}, {'NDCG': 0.07014683947751396}, 0.5719975233078003], [13, {'F1-score': 0.04565093364193787}, {'NDCG': 0.07099754219748695}, 0.5907054543495178], [14, {'F1-score': 0.04460370476914024}, {'NDCG': 0.06966909922876473}, 0.6000447869300842], [15, {'F1-score': 0.04515451072586205}, {'NDCG': 0.0703947995509252}, 0.5761183500289917], [16, {'F1-score': 0.04701275208181636}, {'NDCG': 0.07190614512288257}, 0.5787864327430725], [17, {'F1-score': 0.04395315981777069}, {'NDCG': 0.0696789747125056}, 0.5855261087417603], [18, {'F1-score': 0.04512002444079792}, {'NDCG': 0.07008551670189359}, 0.5888639688491821], [19, {'F1-score': 0.04589398412900888}, {'NDCG': 0.07090936102589271}, 0.5673319101333618], [20, {'F1-score': 0.04354598355720392}, {'NDCG': 0.06940149212662215}, 0.6078929305076599], [21, {'F1-score': 0.04496149679798609}, {'NDCG': 0.07024026605391637}, 0.5779813528060913]]\n",
      "-----------------------------------------------------------------------------------------\n"
     ]
    },
    {
     "name": "stderr",
     "output_type": "stream",
     "text": [
      "\r",
      "  0%|          | 0/932 [00:00<?, ?it/s]"
     ]
    },
    {
     "name": "stdout",
     "output_type": "stream",
     "text": [
      "Epoch 22: 0% , Loss: 0.083878\n"
     ]
    },
    {
     "name": "stderr",
     "output_type": "stream",
     "text": [
      " 11%|█         | 102/932 [00:11<01:35,  8.72it/s]"
     ]
    },
    {
     "name": "stdout",
     "output_type": "stream",
     "text": [
      "Epoch 22: 11% , Loss: 0.170349\n"
     ]
    },
    {
     "name": "stderr",
     "output_type": "stream",
     "text": [
      " 22%|██▏       | 202/932 [00:24<01:35,  7.68it/s]"
     ]
    },
    {
     "name": "stdout",
     "output_type": "stream",
     "text": [
      "Epoch 22: 21% , Loss: 0.156926\n"
     ]
    },
    {
     "name": "stderr",
     "output_type": "stream",
     "text": [
      " 32%|███▏      | 302/932 [00:36<01:22,  7.67it/s]"
     ]
    },
    {
     "name": "stdout",
     "output_type": "stream",
     "text": [
      "Epoch 22: 32% , Loss: 0.565727\n"
     ]
    },
    {
     "name": "stderr",
     "output_type": "stream",
     "text": [
      " 43%|████▎     | 402/932 [00:50<01:15,  7.00it/s]"
     ]
    },
    {
     "name": "stdout",
     "output_type": "stream",
     "text": [
      "Epoch 22: 43% , Loss: 0.084594\n"
     ]
    },
    {
     "name": "stderr",
     "output_type": "stream",
     "text": [
      " 54%|█████▍    | 502/932 [01:04<01:01,  6.96it/s]"
     ]
    },
    {
     "name": "stdout",
     "output_type": "stream",
     "text": [
      "Epoch 22: 54% , Loss: 0.111245\n"
     ]
    },
    {
     "name": "stderr",
     "output_type": "stream",
     "text": [
      " 65%|██████▍   | 602/932 [01:19<00:48,  6.85it/s]"
     ]
    },
    {
     "name": "stdout",
     "output_type": "stream",
     "text": [
      "Epoch 22: 64% , Loss: 0.109080\n"
     ]
    },
    {
     "name": "stderr",
     "output_type": "stream",
     "text": [
      " 75%|███████▌  | 701/932 [01:34<00:38,  6.01it/s]"
     ]
    },
    {
     "name": "stdout",
     "output_type": "stream",
     "text": [
      "Epoch 22: 75% , Loss: 0.820682\n"
     ]
    },
    {
     "name": "stderr",
     "output_type": "stream",
     "text": [
      " 86%|████████▌ | 801/932 [01:50<00:20,  6.33it/s]"
     ]
    },
    {
     "name": "stdout",
     "output_type": "stream",
     "text": [
      "Epoch 22: 86% , Loss: 0.157950\n"
     ]
    },
    {
     "name": "stderr",
     "output_type": "stream",
     "text": [
      " 97%|█████████▋| 902/932 [02:07<00:05,  5.98it/s]"
     ]
    },
    {
     "name": "stdout",
     "output_type": "stream",
     "text": [
      "Epoch 22: 97% , Loss: 0.059011\n"
     ]
    },
    {
     "name": "stderr",
     "output_type": "stream",
     "text": [
      "100%|██████████| 932/932 [02:12<00:00,  7.04it/s]\n"
     ]
    },
    {
     "name": "stdout",
     "output_type": "stream",
     "text": [
      "Epoch 22: 100% , Loss: 0.331917\n",
      "                      (F1-score: 0.0439)\n",
      "\n",
      "                      (NDCG: 0.0702)\n",
      "\n",
      "train_loss= tensor(0.4407)\n",
      "--------------------\n"
     ]
    },
    {
     "name": "stderr",
     "output_type": "stream",
     "text": [
      "100%|██████████| 133/133 [00:10<00:00, 13.27it/s]\n"
     ]
    },
    {
     "name": "stdout",
     "output_type": "stream",
     "text": [
      "                      (F1-score: 0.0420)\n",
      "\n",
      "                      (NDCG: 0.0666)\n",
      "\n",
      "val_loss= tensor(0.5800)\n",
      "--------------------\n"
     ]
    },
    {
     "name": "stderr",
     "output_type": "stream",
     "text": [
      "100%|██████████| 266/266 [00:20<00:00, 12.76it/s]\n"
     ]
    },
    {
     "name": "stdout",
     "output_type": "stream",
     "text": [
      "                      (F1-score: 0.0463)\n",
      "\n",
      "                      (NDCG: 0.0710)\n",
      "\n",
      "--------------------\n",
      "[[1, {'F1-score': 4.699248120300752e-05}, {'NDCG': 5.563101696228623e-05}, 0.7670180201530457], [2, {'F1-score': 0.00011487050960735171}, {'NDCG': 0.00014315448225216758}, 0.715857744216919], [3, {'F1-score': 0.018416218112489686}, {'NDCG': 0.021840268549950498}, 0.6940310597419739], [4, {'F1-score': 0.02642099617829246}, {'NDCG': 0.050063680437274445}, 0.7274060845375061], [5, {'F1-score': 0.03184700578141456}, {'NDCG': 0.0567162063399932}, 0.6694043874740601], [6, {'F1-score': 0.04223931158741518}, {'NDCG': 0.06820185580535938}, 0.6241940259933472], [7, {'F1-score': 0.04472424625645027}, {'NDCG': 0.07029548350763612}, 0.6142300963401794], [8, {'F1-score': 0.04290899937899723}, {'NDCG': 0.06925275580803479}, 0.5995289087295532], [9, {'F1-score': 0.04355782601394225}, {'NDCG': 0.06926687848684203}, 0.5936050415039062], [10, {'F1-score': 0.04515040172211956}, {'NDCG': 0.07034251727758997}, 0.5631183981895447], [11, {'F1-score': 0.04443880060696239}, {'NDCG': 0.06966079903164304}, 0.5811899900436401], [12, {'F1-score': 0.04493371631063535}, {'NDCG': 0.07014683947751396}, 0.5719975233078003], [13, {'F1-score': 0.04565093364193787}, {'NDCG': 0.07099754219748695}, 0.5907054543495178], [14, {'F1-score': 0.04460370476914024}, {'NDCG': 0.06966909922876473}, 0.6000447869300842], [15, {'F1-score': 0.04515451072586205}, {'NDCG': 0.0703947995509252}, 0.5761183500289917], [16, {'F1-score': 0.04701275208181636}, {'NDCG': 0.07190614512288257}, 0.5787864327430725], [17, {'F1-score': 0.04395315981777069}, {'NDCG': 0.0696789747125056}, 0.5855261087417603], [18, {'F1-score': 0.04512002444079792}, {'NDCG': 0.07008551670189359}, 0.5888639688491821], [19, {'F1-score': 0.04589398412900888}, {'NDCG': 0.07090936102589271}, 0.5673319101333618], [20, {'F1-score': 0.04354598355720392}, {'NDCG': 0.06940149212662215}, 0.6078929305076599], [21, {'F1-score': 0.04496149679798609}, {'NDCG': 0.07024026605391637}, 0.5779813528060913], [22, {'F1-score': 0.04627983692977624}, {'NDCG': 0.07102968256843549}, 0.5800273418426514]]\n",
      "-----------------------------------------------------------------------------------------\n"
     ]
    },
    {
     "name": "stderr",
     "output_type": "stream",
     "text": [
      "  0%|          | 2/932 [00:00<01:48,  8.61it/s]"
     ]
    },
    {
     "name": "stdout",
     "output_type": "stream",
     "text": [
      "Epoch 23: 0% , Loss: 4.377889\n"
     ]
    },
    {
     "name": "stderr",
     "output_type": "stream",
     "text": [
      " 11%|█         | 101/932 [00:11<01:39,  8.37it/s]"
     ]
    },
    {
     "name": "stdout",
     "output_type": "stream",
     "text": [
      "Epoch 23: 11% , Loss: 0.549240\n"
     ]
    },
    {
     "name": "stderr",
     "output_type": "stream",
     "text": [
      " 22%|██▏       | 202/932 [00:23<01:27,  8.31it/s]"
     ]
    },
    {
     "name": "stdout",
     "output_type": "stream",
     "text": [
      "Epoch 23: 21% , Loss: 0.191928\n"
     ]
    },
    {
     "name": "stderr",
     "output_type": "stream",
     "text": [
      " 32%|███▏      | 301/932 [00:36<01:17,  8.13it/s]"
     ]
    },
    {
     "name": "stdout",
     "output_type": "stream",
     "text": [
      "Epoch 23: 32% , Loss: 0.148046\n"
     ]
    },
    {
     "name": "stderr",
     "output_type": "stream",
     "text": [
      " 43%|████▎     | 402/932 [00:49<01:07,  7.83it/s]"
     ]
    },
    {
     "name": "stdout",
     "output_type": "stream",
     "text": [
      "Epoch 23: 43% , Loss: 0.097586\n"
     ]
    },
    {
     "name": "stderr",
     "output_type": "stream",
     "text": [
      " 54%|█████▍    | 501/932 [01:03<00:58,  7.33it/s]"
     ]
    },
    {
     "name": "stdout",
     "output_type": "stream",
     "text": [
      "Epoch 23: 54% , Loss: 0.197012\n"
     ]
    },
    {
     "name": "stderr",
     "output_type": "stream",
     "text": [
      " 65%|██████▍   | 602/932 [01:19<00:49,  6.72it/s]"
     ]
    },
    {
     "name": "stdout",
     "output_type": "stream",
     "text": [
      "Epoch 23: 64% , Loss: 0.058063\n"
     ]
    },
    {
     "name": "stderr",
     "output_type": "stream",
     "text": [
      " 75%|███████▌  | 702/932 [01:34<00:37,  6.20it/s]"
     ]
    },
    {
     "name": "stdout",
     "output_type": "stream",
     "text": [
      "Epoch 23: 75% , Loss: 0.282360\n"
     ]
    },
    {
     "name": "stderr",
     "output_type": "stream",
     "text": [
      " 86%|████████▌ | 802/932 [01:51<00:20,  6.25it/s]"
     ]
    },
    {
     "name": "stdout",
     "output_type": "stream",
     "text": [
      "Epoch 23: 86% , Loss: 0.214274\n"
     ]
    },
    {
     "name": "stderr",
     "output_type": "stream",
     "text": [
      " 97%|█████████▋| 902/932 [02:07<00:04,  6.12it/s]"
     ]
    },
    {
     "name": "stdout",
     "output_type": "stream",
     "text": [
      "Epoch 23: 97% , Loss: 0.182656\n"
     ]
    },
    {
     "name": "stderr",
     "output_type": "stream",
     "text": [
      "100%|██████████| 932/932 [02:12<00:00,  7.02it/s]\n"
     ]
    },
    {
     "name": "stdout",
     "output_type": "stream",
     "text": [
      "Epoch 23: 100% , Loss: 1.295780\n",
      "                      (F1-score: 0.0436)\n",
      "\n",
      "                      (NDCG: 0.0698)\n",
      "\n",
      "train_loss= tensor(0.4368)\n",
      "--------------------\n"
     ]
    },
    {
     "name": "stderr",
     "output_type": "stream",
     "text": [
      "100%|██████████| 133/133 [00:10<00:00, 13.09it/s]\n"
     ]
    },
    {
     "name": "stdout",
     "output_type": "stream",
     "text": [
      "                      (F1-score: 0.0426)\n",
      "\n",
      "                      (NDCG: 0.0670)\n",
      "\n",
      "val_loss= tensor(0.5471)\n",
      "--------------------\n"
     ]
    },
    {
     "name": "stderr",
     "output_type": "stream",
     "text": [
      "100%|██████████| 266/266 [00:20<00:00, 12.80it/s]\n"
     ]
    },
    {
     "name": "stdout",
     "output_type": "stream",
     "text": [
      "                      (F1-score: 0.0460)\n",
      "\n",
      "                      (NDCG: 0.0707)\n",
      "\n",
      "--------------------\n",
      "[[1, {'F1-score': 4.699248120300752e-05}, {'NDCG': 5.563101696228623e-05}, 0.7670180201530457], [2, {'F1-score': 0.00011487050960735171}, {'NDCG': 0.00014315448225216758}, 0.715857744216919], [3, {'F1-score': 0.018416218112489686}, {'NDCG': 0.021840268549950498}, 0.6940310597419739], [4, {'F1-score': 0.02642099617829246}, {'NDCG': 0.050063680437274445}, 0.7274060845375061], [5, {'F1-score': 0.03184700578141456}, {'NDCG': 0.0567162063399932}, 0.6694043874740601], [6, {'F1-score': 0.04223931158741518}, {'NDCG': 0.06820185580535938}, 0.6241940259933472], [7, {'F1-score': 0.04472424625645027}, {'NDCG': 0.07029548350763612}, 0.6142300963401794], [8, {'F1-score': 0.04290899937899723}, {'NDCG': 0.06925275580803479}, 0.5995289087295532], [9, {'F1-score': 0.04355782601394225}, {'NDCG': 0.06926687848684203}, 0.5936050415039062], [10, {'F1-score': 0.04515040172211956}, {'NDCG': 0.07034251727758997}, 0.5631183981895447], [11, {'F1-score': 0.04443880060696239}, {'NDCG': 0.06966079903164304}, 0.5811899900436401], [12, {'F1-score': 0.04493371631063535}, {'NDCG': 0.07014683947751396}, 0.5719975233078003], [13, {'F1-score': 0.04565093364193787}, {'NDCG': 0.07099754219748695}, 0.5907054543495178], [14, {'F1-score': 0.04460370476914024}, {'NDCG': 0.06966909922876473}, 0.6000447869300842], [15, {'F1-score': 0.04515451072586205}, {'NDCG': 0.0703947995509252}, 0.5761183500289917], [16, {'F1-score': 0.04701275208181636}, {'NDCG': 0.07190614512288257}, 0.5787864327430725], [17, {'F1-score': 0.04395315981777069}, {'NDCG': 0.0696789747125056}, 0.5855261087417603], [18, {'F1-score': 0.04512002444079792}, {'NDCG': 0.07008551670189359}, 0.5888639688491821], [19, {'F1-score': 0.04589398412900888}, {'NDCG': 0.07090936102589271}, 0.5673319101333618], [20, {'F1-score': 0.04354598355720392}, {'NDCG': 0.06940149212662215}, 0.6078929305076599], [21, {'F1-score': 0.04496149679798609}, {'NDCG': 0.07024026605391637}, 0.5779813528060913], [22, {'F1-score': 0.04627983692977624}, {'NDCG': 0.07102968256843549}, 0.5800273418426514], [23, {'F1-score': 0.045970301863114446}, {'NDCG': 0.07065959585851576}, 0.5470777750015259]]\n",
      "-----------------------------------------------------------------------------------------\n"
     ]
    },
    {
     "name": "stderr",
     "output_type": "stream",
     "text": [
      "  0%|          | 3/932 [00:00<01:30, 10.31it/s]"
     ]
    },
    {
     "name": "stdout",
     "output_type": "stream",
     "text": [
      "Epoch 24: 0% , Loss: 0.973967\n"
     ]
    },
    {
     "name": "stderr",
     "output_type": "stream",
     "text": [
      " 11%|█         | 102/932 [00:11<01:35,  8.70it/s]"
     ]
    },
    {
     "name": "stdout",
     "output_type": "stream",
     "text": [
      "Epoch 24: 11% , Loss: 1.096107\n"
     ]
    },
    {
     "name": "stderr",
     "output_type": "stream",
     "text": [
      " 22%|██▏       | 202/932 [00:23<01:28,  8.22it/s]"
     ]
    },
    {
     "name": "stdout",
     "output_type": "stream",
     "text": [
      "Epoch 24: 21% , Loss: 0.172730\n"
     ]
    },
    {
     "name": "stderr",
     "output_type": "stream",
     "text": [
      " 32%|███▏      | 302/932 [00:36<01:26,  7.31it/s]"
     ]
    },
    {
     "name": "stdout",
     "output_type": "stream",
     "text": [
      "Epoch 24: 32% , Loss: 0.465094\n"
     ]
    },
    {
     "name": "stderr",
     "output_type": "stream",
     "text": [
      " 43%|████▎     | 401/932 [00:49<01:12,  7.29it/s]"
     ]
    },
    {
     "name": "stdout",
     "output_type": "stream",
     "text": [
      "Epoch 24: 43% , Loss: 0.152548\n"
     ]
    },
    {
     "name": "stderr",
     "output_type": "stream",
     "text": [
      " 54%|█████▍    | 502/932 [01:03<01:01,  7.00it/s]"
     ]
    },
    {
     "name": "stdout",
     "output_type": "stream",
     "text": [
      "Epoch 24: 54% , Loss: 0.077077\n"
     ]
    },
    {
     "name": "stderr",
     "output_type": "stream",
     "text": [
      " 65%|██████▍   | 602/932 [01:18<00:46,  7.03it/s]"
     ]
    },
    {
     "name": "stdout",
     "output_type": "stream",
     "text": [
      "Epoch 24: 64% , Loss: 0.108644\n"
     ]
    },
    {
     "name": "stderr",
     "output_type": "stream",
     "text": [
      " 75%|███████▌  | 701/932 [01:33<00:34,  6.75it/s]"
     ]
    },
    {
     "name": "stdout",
     "output_type": "stream",
     "text": [
      "Epoch 24: 75% , Loss: 0.527536\n"
     ]
    },
    {
     "name": "stderr",
     "output_type": "stream",
     "text": [
      " 86%|████████▌ | 801/932 [01:50<00:20,  6.39it/s]"
     ]
    },
    {
     "name": "stdout",
     "output_type": "stream",
     "text": [
      "Epoch 24: 86% , Loss: 0.573045\n"
     ]
    },
    {
     "name": "stderr",
     "output_type": "stream",
     "text": [
      " 97%|█████████▋| 901/932 [02:07<00:05,  6.19it/s]"
     ]
    },
    {
     "name": "stdout",
     "output_type": "stream",
     "text": [
      "Epoch 24: 97% , Loss: 0.637558\n"
     ]
    },
    {
     "name": "stderr",
     "output_type": "stream",
     "text": [
      "100%|██████████| 932/932 [02:12<00:00,  7.03it/s]"
     ]
    },
    {
     "name": "stdout",
     "output_type": "stream",
     "text": [
      "Epoch 24: 100% , Loss: 0.348559\n"
     ]
    },
    {
     "name": "stderr",
     "output_type": "stream",
     "text": [
      "\n"
     ]
    },
    {
     "name": "stdout",
     "output_type": "stream",
     "text": [
      "                      (F1-score: 0.0441)\n",
      "\n",
      "                      (NDCG: 0.0703)\n",
      "\n",
      "train_loss= tensor(0.4391)\n",
      "--------------------\n"
     ]
    },
    {
     "name": "stderr",
     "output_type": "stream",
     "text": [
      "100%|██████████| 133/133 [00:10<00:00, 13.03it/s]\n"
     ]
    },
    {
     "name": "stdout",
     "output_type": "stream",
     "text": [
      "                      (F1-score: 0.0412)\n",
      "\n",
      "                      (NDCG: 0.0653)\n",
      "\n",
      "val_loss= tensor(0.5514)\n",
      "--------------------\n"
     ]
    },
    {
     "name": "stderr",
     "output_type": "stream",
     "text": [
      "100%|██████████| 266/266 [00:21<00:00, 12.61it/s]\n"
     ]
    },
    {
     "name": "stdout",
     "output_type": "stream",
     "text": [
      "                      (F1-score: 0.0464)\n",
      "\n",
      "                      (NDCG: 0.0708)\n",
      "\n",
      "--------------------\n",
      "[[1, {'F1-score': 4.699248120300752e-05}, {'NDCG': 5.563101696228623e-05}, 0.7670180201530457], [2, {'F1-score': 0.00011487050960735171}, {'NDCG': 0.00014315448225216758}, 0.715857744216919], [3, {'F1-score': 0.018416218112489686}, {'NDCG': 0.021840268549950498}, 0.6940310597419739], [4, {'F1-score': 0.02642099617829246}, {'NDCG': 0.050063680437274445}, 0.7274060845375061], [5, {'F1-score': 0.03184700578141456}, {'NDCG': 0.0567162063399932}, 0.6694043874740601], [6, {'F1-score': 0.04223931158741518}, {'NDCG': 0.06820185580535938}, 0.6241940259933472], [7, {'F1-score': 0.04472424625645027}, {'NDCG': 0.07029548350763612}, 0.6142300963401794], [8, {'F1-score': 0.04290899937899723}, {'NDCG': 0.06925275580803479}, 0.5995289087295532], [9, {'F1-score': 0.04355782601394225}, {'NDCG': 0.06926687848684203}, 0.5936050415039062], [10, {'F1-score': 0.04515040172211956}, {'NDCG': 0.07034251727758997}, 0.5631183981895447], [11, {'F1-score': 0.04443880060696239}, {'NDCG': 0.06966079903164304}, 0.5811899900436401], [12, {'F1-score': 0.04493371631063535}, {'NDCG': 0.07014683947751396}, 0.5719975233078003], [13, {'F1-score': 0.04565093364193787}, {'NDCG': 0.07099754219748695}, 0.5907054543495178], [14, {'F1-score': 0.04460370476914024}, {'NDCG': 0.06966909922876473}, 0.6000447869300842], [15, {'F1-score': 0.04515451072586205}, {'NDCG': 0.0703947995509252}, 0.5761183500289917], [16, {'F1-score': 0.04701275208181636}, {'NDCG': 0.07190614512288257}, 0.5787864327430725], [17, {'F1-score': 0.04395315981777069}, {'NDCG': 0.0696789747125056}, 0.5855261087417603], [18, {'F1-score': 0.04512002444079792}, {'NDCG': 0.07008551670189359}, 0.5888639688491821], [19, {'F1-score': 0.04589398412900888}, {'NDCG': 0.07090936102589271}, 0.5673319101333618], [20, {'F1-score': 0.04354598355720392}, {'NDCG': 0.06940149212662215}, 0.6078929305076599], [21, {'F1-score': 0.04496149679798609}, {'NDCG': 0.07024026605391637}, 0.5779813528060913], [22, {'F1-score': 0.04627983692977624}, {'NDCG': 0.07102968256843549}, 0.5800273418426514], [23, {'F1-score': 0.045970301863114446}, {'NDCG': 0.07065959585851576}, 0.5470777750015259], [24, {'F1-score': 0.0463723383857829}, {'NDCG': 0.07075474591036432}, 0.5513803362846375]]\n",
      "-----------------------------------------------------------------------------------------\n"
     ]
    },
    {
     "name": "stderr",
     "output_type": "stream",
     "text": [
      "  0%|          | 2/932 [00:00<01:53,  8.19it/s]"
     ]
    },
    {
     "name": "stdout",
     "output_type": "stream",
     "text": [
      "Epoch 25: 0% , Loss: 0.092033\n"
     ]
    },
    {
     "name": "stderr",
     "output_type": "stream",
     "text": [
      " 11%|█         | 102/932 [00:11<01:33,  8.88it/s]"
     ]
    },
    {
     "name": "stdout",
     "output_type": "stream",
     "text": [
      "Epoch 25: 11% , Loss: 0.238849\n"
     ]
    },
    {
     "name": "stderr",
     "output_type": "stream",
     "text": [
      " 22%|██▏       | 202/932 [00:24<01:41,  7.18it/s]"
     ]
    },
    {
     "name": "stdout",
     "output_type": "stream",
     "text": [
      "Epoch 25: 21% , Loss: 0.875798\n"
     ]
    },
    {
     "name": "stderr",
     "output_type": "stream",
     "text": [
      " 32%|███▏      | 302/932 [00:38<01:23,  7.52it/s]"
     ]
    },
    {
     "name": "stdout",
     "output_type": "stream",
     "text": [
      "Epoch 25: 32% , Loss: 0.404049\n"
     ]
    },
    {
     "name": "stderr",
     "output_type": "stream",
     "text": [
      " 43%|████▎     | 402/932 [00:52<01:11,  7.42it/s]"
     ]
    },
    {
     "name": "stdout",
     "output_type": "stream",
     "text": [
      "Epoch 25: 43% , Loss: 0.199063\n"
     ]
    },
    {
     "name": "stderr",
     "output_type": "stream",
     "text": [
      " 54%|█████▍    | 502/932 [01:06<01:01,  7.01it/s]"
     ]
    },
    {
     "name": "stdout",
     "output_type": "stream",
     "text": [
      "Epoch 25: 54% , Loss: 0.238914\n"
     ]
    },
    {
     "name": "stderr",
     "output_type": "stream",
     "text": [
      " 65%|██████▍   | 602/932 [01:20<00:53,  6.21it/s]"
     ]
    },
    {
     "name": "stdout",
     "output_type": "stream",
     "text": [
      "Epoch 25: 64% , Loss: 0.154059\n"
     ]
    },
    {
     "name": "stderr",
     "output_type": "stream",
     "text": [
      " 75%|███████▌  | 701/932 [01:36<00:37,  6.15it/s]"
     ]
    },
    {
     "name": "stdout",
     "output_type": "stream",
     "text": [
      "Epoch 25: 75% , Loss: 0.540269\n"
     ]
    },
    {
     "name": "stderr",
     "output_type": "stream",
     "text": [
      " 86%|████████▌ | 801/932 [01:52<00:19,  6.66it/s]"
     ]
    },
    {
     "name": "stdout",
     "output_type": "stream",
     "text": [
      "Epoch 25: 86% , Loss: 0.492182\n"
     ]
    },
    {
     "name": "stderr",
     "output_type": "stream",
     "text": [
      " 97%|█████████▋| 901/932 [02:08<00:05,  5.61it/s]"
     ]
    },
    {
     "name": "stdout",
     "output_type": "stream",
     "text": [
      "Epoch 25: 97% , Loss: 1.330141\n"
     ]
    },
    {
     "name": "stderr",
     "output_type": "stream",
     "text": [
      "100%|██████████| 932/932 [02:13<00:00,  6.96it/s]\n"
     ]
    },
    {
     "name": "stdout",
     "output_type": "stream",
     "text": [
      "Epoch 25: 100% , Loss: 0.366578\n",
      "                      (F1-score: 0.0433)\n",
      "\n",
      "                      (NDCG: 0.0696)\n",
      "\n",
      "train_loss= tensor(0.4338)\n",
      "--------------------\n"
     ]
    },
    {
     "name": "stderr",
     "output_type": "stream",
     "text": [
      "100%|██████████| 133/133 [00:10<00:00, 12.47it/s]\n"
     ]
    },
    {
     "name": "stdout",
     "output_type": "stream",
     "text": [
      "                      (F1-score: 0.0434)\n",
      "\n",
      "                      (NDCG: 0.0677)\n",
      "\n",
      "val_loss= tensor(0.5656)\n",
      "--------------------\n"
     ]
    },
    {
     "name": "stderr",
     "output_type": "stream",
     "text": [
      "100%|██████████| 266/266 [00:21<00:00, 12.45it/s]\n"
     ]
    },
    {
     "name": "stdout",
     "output_type": "stream",
     "text": [
      "                      (F1-score: 0.0452)\n",
      "\n",
      "                      (NDCG: 0.0701)\n",
      "\n",
      "--------------------\n",
      "[[1, {'F1-score': 4.699248120300752e-05}, {'NDCG': 5.563101696228623e-05}, 0.7670180201530457], [2, {'F1-score': 0.00011487050960735171}, {'NDCG': 0.00014315448225216758}, 0.715857744216919], [3, {'F1-score': 0.018416218112489686}, {'NDCG': 0.021840268549950498}, 0.6940310597419739], [4, {'F1-score': 0.02642099617829246}, {'NDCG': 0.050063680437274445}, 0.7274060845375061], [5, {'F1-score': 0.03184700578141456}, {'NDCG': 0.0567162063399932}, 0.6694043874740601], [6, {'F1-score': 0.04223931158741518}, {'NDCG': 0.06820185580535938}, 0.6241940259933472], [7, {'F1-score': 0.04472424625645027}, {'NDCG': 0.07029548350763612}, 0.6142300963401794], [8, {'F1-score': 0.04290899937899723}, {'NDCG': 0.06925275580803479}, 0.5995289087295532], [9, {'F1-score': 0.04355782601394225}, {'NDCG': 0.06926687848684203}, 0.5936050415039062], [10, {'F1-score': 0.04515040172211956}, {'NDCG': 0.07034251727758997}, 0.5631183981895447], [11, {'F1-score': 0.04443880060696239}, {'NDCG': 0.06966079903164304}, 0.5811899900436401], [12, {'F1-score': 0.04493371631063535}, {'NDCG': 0.07014683947751396}, 0.5719975233078003], [13, {'F1-score': 0.04565093364193787}, {'NDCG': 0.07099754219748695}, 0.5907054543495178], [14, {'F1-score': 0.04460370476914024}, {'NDCG': 0.06966909922876473}, 0.6000447869300842], [15, {'F1-score': 0.04515451072586205}, {'NDCG': 0.0703947995509252}, 0.5761183500289917], [16, {'F1-score': 0.04701275208181636}, {'NDCG': 0.07190614512288257}, 0.5787864327430725], [17, {'F1-score': 0.04395315981777069}, {'NDCG': 0.0696789747125056}, 0.5855261087417603], [18, {'F1-score': 0.04512002444079792}, {'NDCG': 0.07008551670189359}, 0.5888639688491821], [19, {'F1-score': 0.04589398412900888}, {'NDCG': 0.07090936102589271}, 0.5673319101333618], [20, {'F1-score': 0.04354598355720392}, {'NDCG': 0.06940149212662215}, 0.6078929305076599], [21, {'F1-score': 0.04496149679798609}, {'NDCG': 0.07024026605391637}, 0.5779813528060913], [22, {'F1-score': 0.04627983692977624}, {'NDCG': 0.07102968256843549}, 0.5800273418426514], [23, {'F1-score': 0.045970301863114446}, {'NDCG': 0.07065959585851576}, 0.5470777750015259], [24, {'F1-score': 0.0463723383857829}, {'NDCG': 0.07075474591036432}, 0.5513803362846375], [25, {'F1-score': 0.04518623687723846}, {'NDCG': 0.07005241675358406}, 0.565579891204834]]\n",
      "-----------------------------------------------------------------------------------------\n"
     ]
    },
    {
     "name": "stderr",
     "output_type": "stream",
     "text": [
      "  0%|          | 2/932 [00:00<01:50,  8.44it/s]"
     ]
    },
    {
     "name": "stdout",
     "output_type": "stream",
     "text": [
      "Epoch 26: 0% , Loss: 0.090788\n"
     ]
    },
    {
     "name": "stderr",
     "output_type": "stream",
     "text": [
      " 11%|█         | 102/932 [00:11<01:33,  8.83it/s]"
     ]
    },
    {
     "name": "stdout",
     "output_type": "stream",
     "text": [
      "Epoch 26: 11% , Loss: 0.628974\n"
     ]
    },
    {
     "name": "stderr",
     "output_type": "stream",
     "text": [
      " 22%|██▏       | 202/932 [00:23<01:27,  8.34it/s]"
     ]
    },
    {
     "name": "stdout",
     "output_type": "stream",
     "text": [
      "Epoch 26: 21% , Loss: 0.317169\n"
     ]
    },
    {
     "name": "stderr",
     "output_type": "stream",
     "text": [
      " 32%|███▏      | 302/932 [00:36<01:20,  7.78it/s]"
     ]
    },
    {
     "name": "stdout",
     "output_type": "stream",
     "text": [
      "Epoch 26: 32% , Loss: 0.465563\n"
     ]
    },
    {
     "name": "stderr",
     "output_type": "stream",
     "text": [
      " 43%|████▎     | 402/932 [00:49<01:10,  7.56it/s]"
     ]
    },
    {
     "name": "stdout",
     "output_type": "stream",
     "text": [
      "Epoch 26: 43% , Loss: 1.500079\n"
     ]
    },
    {
     "name": "stderr",
     "output_type": "stream",
     "text": [
      " 54%|█████▍    | 502/932 [01:04<00:59,  7.25it/s]"
     ]
    },
    {
     "name": "stdout",
     "output_type": "stream",
     "text": [
      "Epoch 26: 54% , Loss: 0.152767\n"
     ]
    },
    {
     "name": "stderr",
     "output_type": "stream",
     "text": [
      " 65%|██████▍   | 602/932 [01:18<00:47,  6.96it/s]"
     ]
    },
    {
     "name": "stdout",
     "output_type": "stream",
     "text": [
      "Epoch 26: 64% , Loss: 0.675404\n"
     ]
    },
    {
     "name": "stderr",
     "output_type": "stream",
     "text": [
      " 75%|███████▌  | 702/932 [01:33<00:34,  6.62it/s]"
     ]
    },
    {
     "name": "stdout",
     "output_type": "stream",
     "text": [
      "Epoch 26: 75% , Loss: 0.109578\n"
     ]
    },
    {
     "name": "stderr",
     "output_type": "stream",
     "text": [
      " 86%|████████▌ | 801/932 [01:49<00:20,  6.41it/s]"
     ]
    },
    {
     "name": "stdout",
     "output_type": "stream",
     "text": [
      "Epoch 26: 86% , Loss: 0.165542\n"
     ]
    },
    {
     "name": "stderr",
     "output_type": "stream",
     "text": [
      " 97%|█████████▋| 901/932 [02:06<00:05,  6.10it/s]"
     ]
    },
    {
     "name": "stdout",
     "output_type": "stream",
     "text": [
      "Epoch 26: 97% , Loss: 0.156182\n"
     ]
    },
    {
     "name": "stderr",
     "output_type": "stream",
     "text": [
      "100%|██████████| 932/932 [02:11<00:00,  7.08it/s]\n"
     ]
    },
    {
     "name": "stdout",
     "output_type": "stream",
     "text": [
      "Epoch 26: 100% , Loss: 0.266218\n",
      "                      (F1-score: 0.0435)\n",
      "\n",
      "                      (NDCG: 0.0697)\n",
      "\n",
      "train_loss= tensor(0.4358)\n",
      "--------------------\n"
     ]
    },
    {
     "name": "stderr",
     "output_type": "stream",
     "text": [
      "100%|██████████| 133/133 [00:10<00:00, 12.95it/s]\n"
     ]
    },
    {
     "name": "stdout",
     "output_type": "stream",
     "text": [
      "                      (F1-score: 0.0429)\n",
      "\n",
      "                      (NDCG: 0.0672)\n",
      "\n",
      "val_loss= tensor(0.5643)\n",
      "--------------------\n"
     ]
    },
    {
     "name": "stderr",
     "output_type": "stream",
     "text": [
      "100%|██████████| 266/266 [00:21<00:00, 12.42it/s]\n"
     ]
    },
    {
     "name": "stdout",
     "output_type": "stream",
     "text": [
      "                      (F1-score: 0.0458)\n",
      "\n",
      "                      (NDCG: 0.0705)\n",
      "\n",
      "--------------------\n",
      "[[1, {'F1-score': 4.699248120300752e-05}, {'NDCG': 5.563101696228623e-05}, 0.7670180201530457], [2, {'F1-score': 0.00011487050960735171}, {'NDCG': 0.00014315448225216758}, 0.715857744216919], [3, {'F1-score': 0.018416218112489686}, {'NDCG': 0.021840268549950498}, 0.6940310597419739], [4, {'F1-score': 0.02642099617829246}, {'NDCG': 0.050063680437274445}, 0.7274060845375061], [5, {'F1-score': 0.03184700578141456}, {'NDCG': 0.0567162063399932}, 0.6694043874740601], [6, {'F1-score': 0.04223931158741518}, {'NDCG': 0.06820185580535938}, 0.6241940259933472], [7, {'F1-score': 0.04472424625645027}, {'NDCG': 0.07029548350763612}, 0.6142300963401794], [8, {'F1-score': 0.04290899937899723}, {'NDCG': 0.06925275580803479}, 0.5995289087295532], [9, {'F1-score': 0.04355782601394225}, {'NDCG': 0.06926687848684203}, 0.5936050415039062], [10, {'F1-score': 0.04515040172211956}, {'NDCG': 0.07034251727758997}, 0.5631183981895447], [11, {'F1-score': 0.04443880060696239}, {'NDCG': 0.06966079903164304}, 0.5811899900436401], [12, {'F1-score': 0.04493371631063535}, {'NDCG': 0.07014683947751396}, 0.5719975233078003], [13, {'F1-score': 0.04565093364193787}, {'NDCG': 0.07099754219748695}, 0.5907054543495178], [14, {'F1-score': 0.04460370476914024}, {'NDCG': 0.06966909922876473}, 0.6000447869300842], [15, {'F1-score': 0.04515451072586205}, {'NDCG': 0.0703947995509252}, 0.5761183500289917], [16, {'F1-score': 0.04701275208181636}, {'NDCG': 0.07190614512288257}, 0.5787864327430725], [17, {'F1-score': 0.04395315981777069}, {'NDCG': 0.0696789747125056}, 0.5855261087417603], [18, {'F1-score': 0.04512002444079792}, {'NDCG': 0.07008551670189359}, 0.5888639688491821], [19, {'F1-score': 0.04589398412900888}, {'NDCG': 0.07090936102589271}, 0.5673319101333618], [20, {'F1-score': 0.04354598355720392}, {'NDCG': 0.06940149212662215}, 0.6078929305076599], [21, {'F1-score': 0.04496149679798609}, {'NDCG': 0.07024026605391637}, 0.5779813528060913], [22, {'F1-score': 0.04627983692977624}, {'NDCG': 0.07102968256843549}, 0.5800273418426514], [23, {'F1-score': 0.045970301863114446}, {'NDCG': 0.07065959585851576}, 0.5470777750015259], [24, {'F1-score': 0.0463723383857829}, {'NDCG': 0.07075474591036432}, 0.5513803362846375], [25, {'F1-score': 0.04518623687723846}, {'NDCG': 0.07005241675358406}, 0.565579891204834], [26, {'F1-score': 0.045791294911088916}, {'NDCG': 0.07047046630650311}, 0.5642924904823303]]\n",
      "-----------------------------------------------------------------------------------------\n"
     ]
    },
    {
     "name": "stderr",
     "output_type": "stream",
     "text": [
      "  0%|          | 2/932 [00:00<01:58,  7.84it/s]"
     ]
    },
    {
     "name": "stdout",
     "output_type": "stream",
     "text": [
      "Epoch 27: 0% , Loss: 0.599277\n"
     ]
    },
    {
     "name": "stderr",
     "output_type": "stream",
     "text": [
      " 11%|█         | 102/932 [00:11<01:37,  8.54it/s]"
     ]
    },
    {
     "name": "stdout",
     "output_type": "stream",
     "text": [
      "Epoch 27: 11% , Loss: 0.719307\n"
     ]
    },
    {
     "name": "stderr",
     "output_type": "stream",
     "text": [
      " 22%|██▏       | 202/932 [00:24<01:31,  7.99it/s]"
     ]
    },
    {
     "name": "stdout",
     "output_type": "stream",
     "text": [
      "Epoch 27: 21% , Loss: 0.181290\n"
     ]
    },
    {
     "name": "stderr",
     "output_type": "stream",
     "text": [
      " 32%|███▏      | 302/932 [00:36<01:20,  7.84it/s]"
     ]
    },
    {
     "name": "stdout",
     "output_type": "stream",
     "text": [
      "Epoch 27: 32% , Loss: 0.803737\n"
     ]
    },
    {
     "name": "stderr",
     "output_type": "stream",
     "text": [
      " 43%|████▎     | 402/932 [00:49<01:07,  7.86it/s]"
     ]
    },
    {
     "name": "stdout",
     "output_type": "stream",
     "text": [
      "Epoch 27: 43% , Loss: 0.451563\n"
     ]
    },
    {
     "name": "stderr",
     "output_type": "stream",
     "text": [
      " 54%|█████▍    | 502/932 [01:03<01:03,  6.75it/s]"
     ]
    },
    {
     "name": "stdout",
     "output_type": "stream",
     "text": [
      "Epoch 27: 54% , Loss: 0.143958\n"
     ]
    },
    {
     "name": "stderr",
     "output_type": "stream",
     "text": [
      " 65%|██████▍   | 602/932 [01:18<00:48,  6.79it/s]"
     ]
    },
    {
     "name": "stdout",
     "output_type": "stream",
     "text": [
      "Epoch 27: 64% , Loss: 0.089871\n"
     ]
    },
    {
     "name": "stderr",
     "output_type": "stream",
     "text": [
      " 75%|███████▌  | 702/932 [01:33<00:36,  6.33it/s]"
     ]
    },
    {
     "name": "stdout",
     "output_type": "stream",
     "text": [
      "Epoch 27: 75% , Loss: 0.320394\n"
     ]
    },
    {
     "name": "stderr",
     "output_type": "stream",
     "text": [
      " 86%|████████▌ | 802/932 [01:49<00:21,  6.07it/s]"
     ]
    },
    {
     "name": "stdout",
     "output_type": "stream",
     "text": [
      "Epoch 27: 86% , Loss: 1.061735\n"
     ]
    },
    {
     "name": "stderr",
     "output_type": "stream",
     "text": [
      " 97%|█████████▋| 902/932 [02:05<00:05,  5.86it/s]"
     ]
    },
    {
     "name": "stdout",
     "output_type": "stream",
     "text": [
      "Epoch 27: 97% , Loss: 0.607441\n"
     ]
    },
    {
     "name": "stderr",
     "output_type": "stream",
     "text": [
      "100%|██████████| 932/932 [02:10<00:00,  7.12it/s]\n"
     ]
    },
    {
     "name": "stdout",
     "output_type": "stream",
     "text": [
      "Epoch 27: 100% , Loss: 0.187954\n",
      "                      (F1-score: 0.0438)\n",
      "\n",
      "                      (NDCG: 0.0696)\n",
      "\n",
      "train_loss= tensor(0.4243)\n",
      "--------------------\n"
     ]
    },
    {
     "name": "stderr",
     "output_type": "stream",
     "text": [
      "100%|██████████| 133/133 [00:10<00:00, 13.04it/s]\n"
     ]
    },
    {
     "name": "stdout",
     "output_type": "stream",
     "text": [
      "                      (F1-score: 0.0421)\n",
      "\n",
      "                      (NDCG: 0.0670)\n",
      "\n",
      "val_loss= tensor(0.5899)\n",
      "--------------------\n"
     ]
    },
    {
     "name": "stderr",
     "output_type": "stream",
     "text": [
      "100%|██████████| 266/266 [00:21<00:00, 12.50it/s]\n"
     ]
    },
    {
     "name": "stdout",
     "output_type": "stream",
     "text": [
      "                      (F1-score: 0.0452)\n",
      "\n",
      "                      (NDCG: 0.0712)\n",
      "\n",
      "--------------------\n",
      "[[1, {'F1-score': 4.699248120300752e-05}, {'NDCG': 5.563101696228623e-05}, 0.7670180201530457], [2, {'F1-score': 0.00011487050960735171}, {'NDCG': 0.00014315448225216758}, 0.715857744216919], [3, {'F1-score': 0.018416218112489686}, {'NDCG': 0.021840268549950498}, 0.6940310597419739], [4, {'F1-score': 0.02642099617829246}, {'NDCG': 0.050063680437274445}, 0.7274060845375061], [5, {'F1-score': 0.03184700578141456}, {'NDCG': 0.0567162063399932}, 0.6694043874740601], [6, {'F1-score': 0.04223931158741518}, {'NDCG': 0.06820185580535938}, 0.6241940259933472], [7, {'F1-score': 0.04472424625645027}, {'NDCG': 0.07029548350763612}, 0.6142300963401794], [8, {'F1-score': 0.04290899937899723}, {'NDCG': 0.06925275580803479}, 0.5995289087295532], [9, {'F1-score': 0.04355782601394225}, {'NDCG': 0.06926687848684203}, 0.5936050415039062], [10, {'F1-score': 0.04515040172211956}, {'NDCG': 0.07034251727758997}, 0.5631183981895447], [11, {'F1-score': 0.04443880060696239}, {'NDCG': 0.06966079903164304}, 0.5811899900436401], [12, {'F1-score': 0.04493371631063535}, {'NDCG': 0.07014683947751396}, 0.5719975233078003], [13, {'F1-score': 0.04565093364193787}, {'NDCG': 0.07099754219748695}, 0.5907054543495178], [14, {'F1-score': 0.04460370476914024}, {'NDCG': 0.06966909922876473}, 0.6000447869300842], [15, {'F1-score': 0.04515451072586205}, {'NDCG': 0.0703947995509252}, 0.5761183500289917], [16, {'F1-score': 0.04701275208181636}, {'NDCG': 0.07190614512288257}, 0.5787864327430725], [17, {'F1-score': 0.04395315981777069}, {'NDCG': 0.0696789747125056}, 0.5855261087417603], [18, {'F1-score': 0.04512002444079792}, {'NDCG': 0.07008551670189359}, 0.5888639688491821], [19, {'F1-score': 0.04589398412900888}, {'NDCG': 0.07090936102589271}, 0.5673319101333618], [20, {'F1-score': 0.04354598355720392}, {'NDCG': 0.06940149212662215}, 0.6078929305076599], [21, {'F1-score': 0.04496149679798609}, {'NDCG': 0.07024026605391637}, 0.5779813528060913], [22, {'F1-score': 0.04627983692977624}, {'NDCG': 0.07102968256843549}, 0.5800273418426514], [23, {'F1-score': 0.045970301863114446}, {'NDCG': 0.07065959585851576}, 0.5470777750015259], [24, {'F1-score': 0.0463723383857829}, {'NDCG': 0.07075474591036432}, 0.5513803362846375], [25, {'F1-score': 0.04518623687723846}, {'NDCG': 0.07005241675358406}, 0.565579891204834], [26, {'F1-score': 0.045791294911088916}, {'NDCG': 0.07047046630650311}, 0.5642924904823303], [27, {'F1-score': 0.04516315284252287}, {'NDCG': 0.07118766886161122}, 0.5898812413215637]]\n",
      "-----------------------------------------------------------------------------------------\n"
     ]
    },
    {
     "name": "stderr",
     "output_type": "stream",
     "text": [
      "  0%|          | 1/932 [00:00<01:37,  9.52it/s]"
     ]
    },
    {
     "name": "stdout",
     "output_type": "stream",
     "text": [
      "Epoch 28: 0% , Loss: 4.151536\n"
     ]
    },
    {
     "name": "stderr",
     "output_type": "stream",
     "text": [
      " 11%|█         | 102/932 [00:11<01:38,  8.40it/s]"
     ]
    },
    {
     "name": "stdout",
     "output_type": "stream",
     "text": [
      "Epoch 28: 11% , Loss: 0.436793\n"
     ]
    },
    {
     "name": "stderr",
     "output_type": "stream",
     "text": [
      " 22%|██▏       | 202/932 [00:23<01:39,  7.36it/s]"
     ]
    },
    {
     "name": "stdout",
     "output_type": "stream",
     "text": [
      "Epoch 28: 21% , Loss: 0.198560\n"
     ]
    },
    {
     "name": "stderr",
     "output_type": "stream",
     "text": [
      " 32%|███▏      | 302/932 [00:36<01:14,  8.45it/s]"
     ]
    },
    {
     "name": "stdout",
     "output_type": "stream",
     "text": [
      "Epoch 28: 32% , Loss: 0.277227\n"
     ]
    },
    {
     "name": "stderr",
     "output_type": "stream",
     "text": [
      " 43%|████▎     | 402/932 [00:49<01:07,  7.84it/s]"
     ]
    },
    {
     "name": "stdout",
     "output_type": "stream",
     "text": [
      "Epoch 28: 43% , Loss: 0.419996\n"
     ]
    },
    {
     "name": "stderr",
     "output_type": "stream",
     "text": [
      " 54%|█████▍    | 502/932 [01:03<00:57,  7.52it/s]"
     ]
    },
    {
     "name": "stdout",
     "output_type": "stream",
     "text": [
      "Epoch 28: 54% , Loss: 2.324243\n"
     ]
    },
    {
     "name": "stderr",
     "output_type": "stream",
     "text": [
      " 65%|██████▍   | 602/932 [01:18<00:47,  7.01it/s]"
     ]
    },
    {
     "name": "stdout",
     "output_type": "stream",
     "text": [
      "Epoch 28: 64% , Loss: 0.547091\n"
     ]
    },
    {
     "name": "stderr",
     "output_type": "stream",
     "text": [
      " 75%|███████▌  | 701/932 [01:33<00:34,  6.74it/s]"
     ]
    },
    {
     "name": "stdout",
     "output_type": "stream",
     "text": [
      "Epoch 28: 75% , Loss: 0.241647\n"
     ]
    },
    {
     "name": "stderr",
     "output_type": "stream",
     "text": [
      " 86%|████████▌ | 801/932 [01:49<00:20,  6.51it/s]"
     ]
    },
    {
     "name": "stdout",
     "output_type": "stream",
     "text": [
      "Epoch 28: 86% , Loss: 0.112131\n"
     ]
    },
    {
     "name": "stderr",
     "output_type": "stream",
     "text": [
      " 97%|█████████▋| 901/932 [02:05<00:05,  5.32it/s]"
     ]
    },
    {
     "name": "stdout",
     "output_type": "stream",
     "text": [
      "Epoch 28: 97% , Loss: 0.367233\n"
     ]
    },
    {
     "name": "stderr",
     "output_type": "stream",
     "text": [
      "100%|██████████| 932/932 [02:11<00:00,  7.10it/s]"
     ]
    },
    {
     "name": "stdout",
     "output_type": "stream",
     "text": [
      "Epoch 28: 100% , Loss: 0.097413\n"
     ]
    },
    {
     "name": "stderr",
     "output_type": "stream",
     "text": [
      "\n"
     ]
    },
    {
     "name": "stdout",
     "output_type": "stream",
     "text": [
      "                      (F1-score: 0.0439)\n",
      "\n",
      "                      (NDCG: 0.0699)\n",
      "\n",
      "train_loss= tensor(0.4274)\n",
      "--------------------\n"
     ]
    },
    {
     "name": "stderr",
     "output_type": "stream",
     "text": [
      "100%|██████████| 133/133 [00:10<00:00, 12.58it/s]\n"
     ]
    },
    {
     "name": "stdout",
     "output_type": "stream",
     "text": [
      "                      (F1-score: 0.0428)\n",
      "\n",
      "                      (NDCG: 0.0670)\n",
      "\n",
      "val_loss= tensor(0.5654)\n",
      "--------------------\n"
     ]
    },
    {
     "name": "stderr",
     "output_type": "stream",
     "text": [
      "100%|██████████| 266/266 [00:21<00:00, 12.47it/s]\n"
     ]
    },
    {
     "name": "stdout",
     "output_type": "stream",
     "text": [
      "                      (F1-score: 0.0458)\n",
      "\n",
      "                      (NDCG: 0.0705)\n",
      "\n",
      "--------------------\n",
      "[[1, {'F1-score': 4.699248120300752e-05}, {'NDCG': 5.563101696228623e-05}, 0.7670180201530457], [2, {'F1-score': 0.00011487050960735171}, {'NDCG': 0.00014315448225216758}, 0.715857744216919], [3, {'F1-score': 0.018416218112489686}, {'NDCG': 0.021840268549950498}, 0.6940310597419739], [4, {'F1-score': 0.02642099617829246}, {'NDCG': 0.050063680437274445}, 0.7274060845375061], [5, {'F1-score': 0.03184700578141456}, {'NDCG': 0.0567162063399932}, 0.6694043874740601], [6, {'F1-score': 0.04223931158741518}, {'NDCG': 0.06820185580535938}, 0.6241940259933472], [7, {'F1-score': 0.04472424625645027}, {'NDCG': 0.07029548350763612}, 0.6142300963401794], [8, {'F1-score': 0.04290899937899723}, {'NDCG': 0.06925275580803479}, 0.5995289087295532], [9, {'F1-score': 0.04355782601394225}, {'NDCG': 0.06926687848684203}, 0.5936050415039062], [10, {'F1-score': 0.04515040172211956}, {'NDCG': 0.07034251727758997}, 0.5631183981895447], [11, {'F1-score': 0.04443880060696239}, {'NDCG': 0.06966079903164304}, 0.5811899900436401], [12, {'F1-score': 0.04493371631063535}, {'NDCG': 0.07014683947751396}, 0.5719975233078003], [13, {'F1-score': 0.04565093364193787}, {'NDCG': 0.07099754219748695}, 0.5907054543495178], [14, {'F1-score': 0.04460370476914024}, {'NDCG': 0.06966909922876473}, 0.6000447869300842], [15, {'F1-score': 0.04515451072586205}, {'NDCG': 0.0703947995509252}, 0.5761183500289917], [16, {'F1-score': 0.04701275208181636}, {'NDCG': 0.07190614512288257}, 0.5787864327430725], [17, {'F1-score': 0.04395315981777069}, {'NDCG': 0.0696789747125056}, 0.5855261087417603], [18, {'F1-score': 0.04512002444079792}, {'NDCG': 0.07008551670189359}, 0.5888639688491821], [19, {'F1-score': 0.04589398412900888}, {'NDCG': 0.07090936102589271}, 0.5673319101333618], [20, {'F1-score': 0.04354598355720392}, {'NDCG': 0.06940149212662215}, 0.6078929305076599], [21, {'F1-score': 0.04496149679798609}, {'NDCG': 0.07024026605391637}, 0.5779813528060913], [22, {'F1-score': 0.04627983692977624}, {'NDCG': 0.07102968256843549}, 0.5800273418426514], [23, {'F1-score': 0.045970301863114446}, {'NDCG': 0.07065959585851576}, 0.5470777750015259], [24, {'F1-score': 0.0463723383857829}, {'NDCG': 0.07075474591036432}, 0.5513803362846375], [25, {'F1-score': 0.04518623687723846}, {'NDCG': 0.07005241675358406}, 0.565579891204834], [26, {'F1-score': 0.045791294911088916}, {'NDCG': 0.07047046630650311}, 0.5642924904823303], [27, {'F1-score': 0.04516315284252287}, {'NDCG': 0.07118766886161122}, 0.5898812413215637], [28, {'F1-score': 0.04576475042192481}, {'NDCG': 0.07046511895863578}, 0.5653799176216125]]\n",
      "-----------------------------------------------------------------------------------------\n"
     ]
    },
    {
     "name": "stderr",
     "output_type": "stream",
     "text": [
      "  0%|          | 2/932 [00:00<01:30, 10.26it/s]"
     ]
    },
    {
     "name": "stdout",
     "output_type": "stream",
     "text": [
      "Epoch 29: 0% , Loss: 0.110747\n"
     ]
    },
    {
     "name": "stderr",
     "output_type": "stream",
     "text": [
      " 11%|█         | 102/932 [00:11<01:31,  9.04it/s]"
     ]
    },
    {
     "name": "stdout",
     "output_type": "stream",
     "text": [
      "Epoch 29: 11% , Loss: 0.199805\n"
     ]
    },
    {
     "name": "stderr",
     "output_type": "stream",
     "text": [
      " 22%|██▏       | 202/932 [00:23<01:30,  8.09it/s]"
     ]
    },
    {
     "name": "stdout",
     "output_type": "stream",
     "text": [
      "Epoch 29: 21% , Loss: 0.116903\n"
     ]
    },
    {
     "name": "stderr",
     "output_type": "stream",
     "text": [
      " 32%|███▏      | 302/932 [00:36<01:20,  7.79it/s]"
     ]
    },
    {
     "name": "stdout",
     "output_type": "stream",
     "text": [
      "Epoch 29: 32% , Loss: 2.104032\n"
     ]
    },
    {
     "name": "stderr",
     "output_type": "stream",
     "text": [
      " 43%|████▎     | 402/932 [00:49<01:11,  7.44it/s]"
     ]
    },
    {
     "name": "stdout",
     "output_type": "stream",
     "text": [
      "Epoch 29: 43% , Loss: 0.111605\n"
     ]
    },
    {
     "name": "stderr",
     "output_type": "stream",
     "text": [
      " 54%|█████▍    | 502/932 [01:03<01:01,  7.00it/s]"
     ]
    },
    {
     "name": "stdout",
     "output_type": "stream",
     "text": [
      "Epoch 29: 54% , Loss: 0.212822\n"
     ]
    },
    {
     "name": "stderr",
     "output_type": "stream",
     "text": [
      " 65%|██████▍   | 602/932 [01:18<00:47,  6.97it/s]"
     ]
    },
    {
     "name": "stdout",
     "output_type": "stream",
     "text": [
      "Epoch 29: 64% , Loss: 0.181038\n"
     ]
    },
    {
     "name": "stderr",
     "output_type": "stream",
     "text": [
      " 75%|███████▌  | 702/932 [01:33<00:34,  6.75it/s]"
     ]
    },
    {
     "name": "stdout",
     "output_type": "stream",
     "text": [
      "Epoch 29: 75% , Loss: 0.181803\n"
     ]
    },
    {
     "name": "stderr",
     "output_type": "stream",
     "text": [
      " 86%|████████▌ | 802/932 [01:48<00:20,  6.33it/s]"
     ]
    },
    {
     "name": "stdout",
     "output_type": "stream",
     "text": [
      "Epoch 29: 86% , Loss: 0.487116\n"
     ]
    },
    {
     "name": "stderr",
     "output_type": "stream",
     "text": [
      " 97%|█████████▋| 901/932 [02:05<00:05,  5.78it/s]"
     ]
    },
    {
     "name": "stdout",
     "output_type": "stream",
     "text": [
      "Epoch 29: 97% , Loss: 0.613568\n"
     ]
    },
    {
     "name": "stderr",
     "output_type": "stream",
     "text": [
      "100%|██████████| 932/932 [02:10<00:00,  7.13it/s]\n"
     ]
    },
    {
     "name": "stdout",
     "output_type": "stream",
     "text": [
      "Epoch 29: 100% , Loss: 0.118484\n",
      "                      (F1-score: 0.0437)\n",
      "\n",
      "                      (NDCG: 0.0698)\n",
      "\n",
      "train_loss= tensor(0.4232)\n",
      "--------------------\n"
     ]
    },
    {
     "name": "stderr",
     "output_type": "stream",
     "text": [
      "100%|██████████| 133/133 [00:10<00:00, 12.90it/s]\n"
     ]
    },
    {
     "name": "stdout",
     "output_type": "stream",
     "text": [
      "                      (F1-score: 0.0413)\n",
      "\n",
      "                      (NDCG: 0.0667)\n",
      "\n",
      "val_loss= tensor(0.5656)\n",
      "--------------------\n"
     ]
    },
    {
     "name": "stderr",
     "output_type": "stream",
     "text": [
      "100%|██████████| 266/266 [00:21<00:00, 12.42it/s]\n"
     ]
    },
    {
     "name": "stdout",
     "output_type": "stream",
     "text": [
      "                      (F1-score: 0.0465)\n",
      "\n",
      "                      (NDCG: 0.0710)\n",
      "\n",
      "--------------------\n",
      "[[1, {'F1-score': 4.699248120300752e-05}, {'NDCG': 5.563101696228623e-05}, 0.7670180201530457], [2, {'F1-score': 0.00011487050960735171}, {'NDCG': 0.00014315448225216758}, 0.715857744216919], [3, {'F1-score': 0.018416218112489686}, {'NDCG': 0.021840268549950498}, 0.6940310597419739], [4, {'F1-score': 0.02642099617829246}, {'NDCG': 0.050063680437274445}, 0.7274060845375061], [5, {'F1-score': 0.03184700578141456}, {'NDCG': 0.0567162063399932}, 0.6694043874740601], [6, {'F1-score': 0.04223931158741518}, {'NDCG': 0.06820185580535938}, 0.6241940259933472], [7, {'F1-score': 0.04472424625645027}, {'NDCG': 0.07029548350763612}, 0.6142300963401794], [8, {'F1-score': 0.04290899937899723}, {'NDCG': 0.06925275580803479}, 0.5995289087295532], [9, {'F1-score': 0.04355782601394225}, {'NDCG': 0.06926687848684203}, 0.5936050415039062], [10, {'F1-score': 0.04515040172211956}, {'NDCG': 0.07034251727758997}, 0.5631183981895447], [11, {'F1-score': 0.04443880060696239}, {'NDCG': 0.06966079903164304}, 0.5811899900436401], [12, {'F1-score': 0.04493371631063535}, {'NDCG': 0.07014683947751396}, 0.5719975233078003], [13, {'F1-score': 0.04565093364193787}, {'NDCG': 0.07099754219748695}, 0.5907054543495178], [14, {'F1-score': 0.04460370476914024}, {'NDCG': 0.06966909922876473}, 0.6000447869300842], [15, {'F1-score': 0.04515451072586205}, {'NDCG': 0.0703947995509252}, 0.5761183500289917], [16, {'F1-score': 0.04701275208181636}, {'NDCG': 0.07190614512288257}, 0.5787864327430725], [17, {'F1-score': 0.04395315981777069}, {'NDCG': 0.0696789747125056}, 0.5855261087417603], [18, {'F1-score': 0.04512002444079792}, {'NDCG': 0.07008551670189359}, 0.5888639688491821], [19, {'F1-score': 0.04589398412900888}, {'NDCG': 0.07090936102589271}, 0.5673319101333618], [20, {'F1-score': 0.04354598355720392}, {'NDCG': 0.06940149212662215}, 0.6078929305076599], [21, {'F1-score': 0.04496149679798609}, {'NDCG': 0.07024026605391637}, 0.5779813528060913], [22, {'F1-score': 0.04627983692977624}, {'NDCG': 0.07102968256843549}, 0.5800273418426514], [23, {'F1-score': 0.045970301863114446}, {'NDCG': 0.07065959585851576}, 0.5470777750015259], [24, {'F1-score': 0.0463723383857829}, {'NDCG': 0.07075474591036432}, 0.5513803362846375], [25, {'F1-score': 0.04518623687723846}, {'NDCG': 0.07005241675358406}, 0.565579891204834], [26, {'F1-score': 0.045791294911088916}, {'NDCG': 0.07047046630650311}, 0.5642924904823303], [27, {'F1-score': 0.04516315284252287}, {'NDCG': 0.07118766886161122}, 0.5898812413215637], [28, {'F1-score': 0.04576475042192481}, {'NDCG': 0.07046511895863578}, 0.5653799176216125], [29, {'F1-score': 0.0465399900159111}, {'NDCG': 0.07098571418546476}, 0.5656462907791138]]\n",
      "-----------------------------------------------------------------------------------------\n"
     ]
    },
    {
     "name": "stderr",
     "output_type": "stream",
     "text": [
      "  0%|          | 2/932 [00:00<01:39,  9.30it/s]"
     ]
    },
    {
     "name": "stdout",
     "output_type": "stream",
     "text": [
      "Epoch 30: 0% , Loss: 0.105891\n"
     ]
    },
    {
     "name": "stderr",
     "output_type": "stream",
     "text": [
      " 11%|█         | 102/932 [00:11<01:28,  9.36it/s]"
     ]
    },
    {
     "name": "stdout",
     "output_type": "stream",
     "text": [
      "Epoch 30: 11% , Loss: 2.057165\n"
     ]
    },
    {
     "name": "stderr",
     "output_type": "stream",
     "text": [
      " 22%|██▏       | 202/932 [00:23<01:21,  8.98it/s]"
     ]
    },
    {
     "name": "stdout",
     "output_type": "stream",
     "text": [
      "Epoch 30: 21% , Loss: 0.785969\n"
     ]
    },
    {
     "name": "stderr",
     "output_type": "stream",
     "text": [
      " 32%|███▏      | 302/932 [00:35<01:20,  7.79it/s]"
     ]
    },
    {
     "name": "stdout",
     "output_type": "stream",
     "text": [
      "Epoch 30: 32% , Loss: 0.574387\n"
     ]
    },
    {
     "name": "stderr",
     "output_type": "stream",
     "text": [
      " 43%|████▎     | 402/932 [00:49<01:10,  7.57it/s]"
     ]
    },
    {
     "name": "stdout",
     "output_type": "stream",
     "text": [
      "Epoch 30: 43% , Loss: 0.205238\n"
     ]
    },
    {
     "name": "stderr",
     "output_type": "stream",
     "text": [
      " 54%|█████▍    | 502/932 [01:03<00:59,  7.20it/s]"
     ]
    },
    {
     "name": "stdout",
     "output_type": "stream",
     "text": [
      "Epoch 30: 54% , Loss: 0.185042\n"
     ]
    },
    {
     "name": "stderr",
     "output_type": "stream",
     "text": [
      " 64%|██████▍   | 601/932 [01:17<00:48,  6.84it/s]"
     ]
    },
    {
     "name": "stdout",
     "output_type": "stream",
     "text": [
      "Epoch 30: 64% , Loss: 0.074646\n"
     ]
    },
    {
     "name": "stderr",
     "output_type": "stream",
     "text": [
      " 75%|███████▌  | 701/932 [01:33<00:37,  6.13it/s]"
     ]
    },
    {
     "name": "stdout",
     "output_type": "stream",
     "text": [
      "Epoch 30: 75% , Loss: 0.332428\n"
     ]
    },
    {
     "name": "stderr",
     "output_type": "stream",
     "text": [
      " 86%|████████▌ | 802/932 [01:49<00:20,  6.44it/s]"
     ]
    },
    {
     "name": "stdout",
     "output_type": "stream",
     "text": [
      "Epoch 30: 86% , Loss: 0.150257\n"
     ]
    },
    {
     "name": "stderr",
     "output_type": "stream",
     "text": [
      " 97%|█████████▋| 901/932 [02:05<00:05,  6.08it/s]"
     ]
    },
    {
     "name": "stdout",
     "output_type": "stream",
     "text": [
      "Epoch 30: 97% , Loss: 0.744586\n"
     ]
    },
    {
     "name": "stderr",
     "output_type": "stream",
     "text": [
      "100%|██████████| 932/932 [02:11<00:00,  7.11it/s]"
     ]
    },
    {
     "name": "stdout",
     "output_type": "stream",
     "text": [
      "Epoch 30: 100% , Loss: 2.004312\n"
     ]
    },
    {
     "name": "stderr",
     "output_type": "stream",
     "text": [
      "\n"
     ]
    },
    {
     "name": "stdout",
     "output_type": "stream",
     "text": [
      "                      (F1-score: 0.0442)\n",
      "\n",
      "                      (NDCG: 0.0701)\n",
      "\n",
      "train_loss= tensor(0.4216)\n",
      "--------------------\n"
     ]
    },
    {
     "name": "stderr",
     "output_type": "stream",
     "text": [
      "100%|██████████| 133/133 [00:10<00:00, 12.95it/s]\n"
     ]
    },
    {
     "name": "stdout",
     "output_type": "stream",
     "text": [
      "                      (F1-score: 0.0412)\n",
      "\n",
      "                      (NDCG: 0.0667)\n",
      "\n",
      "val_loss= tensor(0.5792)\n",
      "--------------------\n"
     ]
    },
    {
     "name": "stderr",
     "output_type": "stream",
     "text": [
      "100%|██████████| 266/266 [00:21<00:00, 12.38it/s]\n"
     ]
    },
    {
     "name": "stdout",
     "output_type": "stream",
     "text": [
      "                      (F1-score: 0.0453)\n",
      "\n",
      "                      (NDCG: 0.0703)\n",
      "\n",
      "--------------------\n",
      "[[1, {'F1-score': 4.699248120300752e-05}, {'NDCG': 5.563101696228623e-05}, 0.7670180201530457], [2, {'F1-score': 0.00011487050960735171}, {'NDCG': 0.00014315448225216758}, 0.715857744216919], [3, {'F1-score': 0.018416218112489686}, {'NDCG': 0.021840268549950498}, 0.6940310597419739], [4, {'F1-score': 0.02642099617829246}, {'NDCG': 0.050063680437274445}, 0.7274060845375061], [5, {'F1-score': 0.03184700578141456}, {'NDCG': 0.0567162063399932}, 0.6694043874740601], [6, {'F1-score': 0.04223931158741518}, {'NDCG': 0.06820185580535938}, 0.6241940259933472], [7, {'F1-score': 0.04472424625645027}, {'NDCG': 0.07029548350763612}, 0.6142300963401794], [8, {'F1-score': 0.04290899937899723}, {'NDCG': 0.06925275580803479}, 0.5995289087295532], [9, {'F1-score': 0.04355782601394225}, {'NDCG': 0.06926687848684203}, 0.5936050415039062], [10, {'F1-score': 0.04515040172211956}, {'NDCG': 0.07034251727758997}, 0.5631183981895447], [11, {'F1-score': 0.04443880060696239}, {'NDCG': 0.06966079903164304}, 0.5811899900436401], [12, {'F1-score': 0.04493371631063535}, {'NDCG': 0.07014683947751396}, 0.5719975233078003], [13, {'F1-score': 0.04565093364193787}, {'NDCG': 0.07099754219748695}, 0.5907054543495178], [14, {'F1-score': 0.04460370476914024}, {'NDCG': 0.06966909922876473}, 0.6000447869300842], [15, {'F1-score': 0.04515451072586205}, {'NDCG': 0.0703947995509252}, 0.5761183500289917], [16, {'F1-score': 0.04701275208181636}, {'NDCG': 0.07190614512288257}, 0.5787864327430725], [17, {'F1-score': 0.04395315981777069}, {'NDCG': 0.0696789747125056}, 0.5855261087417603], [18, {'F1-score': 0.04512002444079792}, {'NDCG': 0.07008551670189359}, 0.5888639688491821], [19, {'F1-score': 0.04589398412900888}, {'NDCG': 0.07090936102589271}, 0.5673319101333618], [20, {'F1-score': 0.04354598355720392}, {'NDCG': 0.06940149212662215}, 0.6078929305076599], [21, {'F1-score': 0.04496149679798609}, {'NDCG': 0.07024026605391637}, 0.5779813528060913], [22, {'F1-score': 0.04627983692977624}, {'NDCG': 0.07102968256843549}, 0.5800273418426514], [23, {'F1-score': 0.045970301863114446}, {'NDCG': 0.07065959585851576}, 0.5470777750015259], [24, {'F1-score': 0.0463723383857829}, {'NDCG': 0.07075474591036432}, 0.5513803362846375], [25, {'F1-score': 0.04518623687723846}, {'NDCG': 0.07005241675358406}, 0.565579891204834], [26, {'F1-score': 0.045791294911088916}, {'NDCG': 0.07047046630650311}, 0.5642924904823303], [27, {'F1-score': 0.04516315284252287}, {'NDCG': 0.07118766886161122}, 0.5898812413215637], [28, {'F1-score': 0.04576475042192481}, {'NDCG': 0.07046511895863578}, 0.5653799176216125], [29, {'F1-score': 0.0465399900159111}, {'NDCG': 0.07098571418546476}, 0.5656462907791138], [30, {'F1-score': 0.04531047734974595}, {'NDCG': 0.0702926691821111}, 0.5791805386543274]]\n",
      "-----------------------------------------------------------------------------------------\n"
     ]
    },
    {
     "name": "stderr",
     "output_type": "stream",
     "text": [
      "  0%|          | 2/932 [00:00<01:39,  9.34it/s]"
     ]
    },
    {
     "name": "stdout",
     "output_type": "stream",
     "text": [
      "Epoch 31: 0% , Loss: 0.953092\n"
     ]
    },
    {
     "name": "stderr",
     "output_type": "stream",
     "text": [
      " 11%|█         | 102/932 [00:11<01:36,  8.61it/s]"
     ]
    },
    {
     "name": "stdout",
     "output_type": "stream",
     "text": [
      "Epoch 31: 11% , Loss: 0.168014\n"
     ]
    },
    {
     "name": "stderr",
     "output_type": "stream",
     "text": [
      " 22%|██▏       | 202/932 [00:23<01:26,  8.43it/s]"
     ]
    },
    {
     "name": "stdout",
     "output_type": "stream",
     "text": [
      "Epoch 31: 21% , Loss: 0.168342\n"
     ]
    },
    {
     "name": "stderr",
     "output_type": "stream",
     "text": [
      " 32%|███▏      | 302/932 [00:36<01:25,  7.36it/s]"
     ]
    },
    {
     "name": "stdout",
     "output_type": "stream",
     "text": [
      "Epoch 31: 32% , Loss: 0.640922\n"
     ]
    },
    {
     "name": "stderr",
     "output_type": "stream",
     "text": [
      " 43%|████▎     | 402/932 [00:49<01:16,  6.94it/s]"
     ]
    },
    {
     "name": "stdout",
     "output_type": "stream",
     "text": [
      "Epoch 31: 43% , Loss: 0.204692\n"
     ]
    },
    {
     "name": "stderr",
     "output_type": "stream",
     "text": [
      " 54%|█████▍    | 502/932 [01:03<01:01,  6.97it/s]"
     ]
    },
    {
     "name": "stdout",
     "output_type": "stream",
     "text": [
      "Epoch 31: 54% , Loss: 0.657742\n"
     ]
    },
    {
     "name": "stderr",
     "output_type": "stream",
     "text": [
      " 65%|██████▍   | 602/932 [01:18<00:53,  6.18it/s]"
     ]
    },
    {
     "name": "stdout",
     "output_type": "stream",
     "text": [
      "Epoch 31: 64% , Loss: 0.194033\n"
     ]
    },
    {
     "name": "stderr",
     "output_type": "stream",
     "text": [
      " 75%|███████▌  | 701/932 [01:33<00:36,  6.35it/s]"
     ]
    },
    {
     "name": "stdout",
     "output_type": "stream",
     "text": [
      "Epoch 31: 75% , Loss: 0.355868\n"
     ]
    },
    {
     "name": "stderr",
     "output_type": "stream",
     "text": [
      " 86%|████████▌ | 802/932 [01:49<00:21,  6.00it/s]"
     ]
    },
    {
     "name": "stdout",
     "output_type": "stream",
     "text": [
      "Epoch 31: 86% , Loss: 0.380749\n"
     ]
    },
    {
     "name": "stderr",
     "output_type": "stream",
     "text": [
      " 97%|█████████▋| 901/932 [02:06<00:05,  6.07it/s]"
     ]
    },
    {
     "name": "stdout",
     "output_type": "stream",
     "text": [
      "Epoch 31: 97% , Loss: 0.144080\n"
     ]
    },
    {
     "name": "stderr",
     "output_type": "stream",
     "text": [
      "100%|██████████| 932/932 [02:11<00:00,  7.09it/s]"
     ]
    },
    {
     "name": "stdout",
     "output_type": "stream",
     "text": [
      "Epoch 31: 100% , Loss: 0.228461\n"
     ]
    },
    {
     "name": "stderr",
     "output_type": "stream",
     "text": [
      "\n"
     ]
    },
    {
     "name": "stdout",
     "output_type": "stream",
     "text": [
      "                      (F1-score: 0.0438)\n",
      "\n",
      "                      (NDCG: 0.0697)\n",
      "\n",
      "train_loss= tensor(0.4171)\n",
      "--------------------\n"
     ]
    },
    {
     "name": "stderr",
     "output_type": "stream",
     "text": [
      "100%|██████████| 133/133 [00:10<00:00, 12.67it/s]\n"
     ]
    },
    {
     "name": "stdout",
     "output_type": "stream",
     "text": [
      "                      (F1-score: 0.0405)\n",
      "\n",
      "                      (NDCG: 0.0658)\n",
      "\n",
      "val_loss= tensor(0.5722)\n",
      "--------------------\n"
     ]
    },
    {
     "name": "stderr",
     "output_type": "stream",
     "text": [
      "100%|██████████| 266/266 [00:21<00:00, 12.43it/s]\n"
     ]
    },
    {
     "name": "stdout",
     "output_type": "stream",
     "text": [
      "                      (F1-score: 0.0457)\n",
      "\n",
      "                      (NDCG: 0.0708)\n",
      "\n",
      "--------------------\n",
      "[[1, {'F1-score': 4.699248120300752e-05}, {'NDCG': 5.563101696228623e-05}, 0.7670180201530457], [2, {'F1-score': 0.00011487050960735171}, {'NDCG': 0.00014315448225216758}, 0.715857744216919], [3, {'F1-score': 0.018416218112489686}, {'NDCG': 0.021840268549950498}, 0.6940310597419739], [4, {'F1-score': 0.02642099617829246}, {'NDCG': 0.050063680437274445}, 0.7274060845375061], [5, {'F1-score': 0.03184700578141456}, {'NDCG': 0.0567162063399932}, 0.6694043874740601], [6, {'F1-score': 0.04223931158741518}, {'NDCG': 0.06820185580535938}, 0.6241940259933472], [7, {'F1-score': 0.04472424625645027}, {'NDCG': 0.07029548350763612}, 0.6142300963401794], [8, {'F1-score': 0.04290899937899723}, {'NDCG': 0.06925275580803479}, 0.5995289087295532], [9, {'F1-score': 0.04355782601394225}, {'NDCG': 0.06926687848684203}, 0.5936050415039062], [10, {'F1-score': 0.04515040172211956}, {'NDCG': 0.07034251727758997}, 0.5631183981895447], [11, {'F1-score': 0.04443880060696239}, {'NDCG': 0.06966079903164304}, 0.5811899900436401], [12, {'F1-score': 0.04493371631063535}, {'NDCG': 0.07014683947751396}, 0.5719975233078003], [13, {'F1-score': 0.04565093364193787}, {'NDCG': 0.07099754219748695}, 0.5907054543495178], [14, {'F1-score': 0.04460370476914024}, {'NDCG': 0.06966909922876473}, 0.6000447869300842], [15, {'F1-score': 0.04515451072586205}, {'NDCG': 0.0703947995509252}, 0.5761183500289917], [16, {'F1-score': 0.04701275208181636}, {'NDCG': 0.07190614512288257}, 0.5787864327430725], [17, {'F1-score': 0.04395315981777069}, {'NDCG': 0.0696789747125056}, 0.5855261087417603], [18, {'F1-score': 0.04512002444079792}, {'NDCG': 0.07008551670189359}, 0.5888639688491821], [19, {'F1-score': 0.04589398412900888}, {'NDCG': 0.07090936102589271}, 0.5673319101333618], [20, {'F1-score': 0.04354598355720392}, {'NDCG': 0.06940149212662215}, 0.6078929305076599], [21, {'F1-score': 0.04496149679798609}, {'NDCG': 0.07024026605391637}, 0.5779813528060913], [22, {'F1-score': 0.04627983692977624}, {'NDCG': 0.07102968256843549}, 0.5800273418426514], [23, {'F1-score': 0.045970301863114446}, {'NDCG': 0.07065959585851576}, 0.5470777750015259], [24, {'F1-score': 0.0463723383857829}, {'NDCG': 0.07075474591036432}, 0.5513803362846375], [25, {'F1-score': 0.04518623687723846}, {'NDCG': 0.07005241675358406}, 0.565579891204834], [26, {'F1-score': 0.045791294911088916}, {'NDCG': 0.07047046630650311}, 0.5642924904823303], [27, {'F1-score': 0.04516315284252287}, {'NDCG': 0.07118766886161122}, 0.5898812413215637], [28, {'F1-score': 0.04576475042192481}, {'NDCG': 0.07046511895863578}, 0.5653799176216125], [29, {'F1-score': 0.0465399900159111}, {'NDCG': 0.07098571418546476}, 0.5656462907791138], [30, {'F1-score': 0.04531047734974595}, {'NDCG': 0.0702926691821111}, 0.5791805386543274], [31, {'F1-score': 0.0457223058531297}, {'NDCG': 0.07075386763466313}, 0.572213888168335]]\n",
      "-----------------------------------------------------------------------------------------\n"
     ]
    },
    {
     "name": "stderr",
     "output_type": "stream",
     "text": [
      "  0%|          | 1/932 [00:00<01:42,  9.09it/s]"
     ]
    },
    {
     "name": "stdout",
     "output_type": "stream",
     "text": [
      "Epoch 32: 0% , Loss: 0.466951\n"
     ]
    },
    {
     "name": "stderr",
     "output_type": "stream",
     "text": [
      " 11%|█         | 102/932 [00:11<01:46,  7.83it/s]"
     ]
    },
    {
     "name": "stdout",
     "output_type": "stream",
     "text": [
      "Epoch 32: 11% , Loss: 0.600532\n"
     ]
    },
    {
     "name": "stderr",
     "output_type": "stream",
     "text": [
      " 22%|██▏       | 202/932 [00:24<01:25,  8.58it/s]"
     ]
    },
    {
     "name": "stdout",
     "output_type": "stream",
     "text": [
      "Epoch 32: 21% , Loss: 0.537054\n"
     ]
    },
    {
     "name": "stderr",
     "output_type": "stream",
     "text": [
      " 32%|███▏      | 302/932 [00:36<01:20,  7.87it/s]"
     ]
    },
    {
     "name": "stdout",
     "output_type": "stream",
     "text": [
      "Epoch 32: 32% , Loss: 0.824920\n"
     ]
    },
    {
     "name": "stderr",
     "output_type": "stream",
     "text": [
      " 43%|████▎     | 402/932 [00:49<01:07,  7.84it/s]"
     ]
    },
    {
     "name": "stdout",
     "output_type": "stream",
     "text": [
      "Epoch 32: 43% , Loss: 0.077568\n"
     ]
    },
    {
     "name": "stderr",
     "output_type": "stream",
     "text": [
      " 54%|█████▍    | 502/932 [01:03<01:04,  6.64it/s]"
     ]
    },
    {
     "name": "stdout",
     "output_type": "stream",
     "text": [
      "Epoch 32: 54% , Loss: 0.816916\n"
     ]
    },
    {
     "name": "stderr",
     "output_type": "stream",
     "text": [
      " 65%|██████▍   | 602/932 [01:18<00:48,  6.74it/s]"
     ]
    },
    {
     "name": "stdout",
     "output_type": "stream",
     "text": [
      "Epoch 32: 64% , Loss: 0.278418\n"
     ]
    },
    {
     "name": "stderr",
     "output_type": "stream",
     "text": [
      " 75%|███████▌  | 702/932 [01:33<00:34,  6.64it/s]"
     ]
    },
    {
     "name": "stdout",
     "output_type": "stream",
     "text": [
      "Epoch 32: 75% , Loss: 0.245137\n"
     ]
    },
    {
     "name": "stderr",
     "output_type": "stream",
     "text": [
      " 86%|████████▌ | 801/932 [01:49<00:20,  6.39it/s]"
     ]
    },
    {
     "name": "stdout",
     "output_type": "stream",
     "text": [
      "Epoch 32: 86% , Loss: 0.267407\n"
     ]
    },
    {
     "name": "stderr",
     "output_type": "stream",
     "text": [
      " 97%|█████████▋| 901/932 [02:06<00:05,  5.51it/s]"
     ]
    },
    {
     "name": "stdout",
     "output_type": "stream",
     "text": [
      "Epoch 32: 97% , Loss: 0.273248\n"
     ]
    },
    {
     "name": "stderr",
     "output_type": "stream",
     "text": [
      "100%|██████████| 932/932 [02:11<00:00,  7.08it/s]\n"
     ]
    },
    {
     "name": "stdout",
     "output_type": "stream",
     "text": [
      "Epoch 32: 100% , Loss: 0.197642\n",
      "                      (F1-score: 0.0442)\n",
      "\n",
      "                      (NDCG: 0.0700)\n",
      "\n",
      "train_loss= tensor(0.4142)\n",
      "--------------------\n"
     ]
    },
    {
     "name": "stderr",
     "output_type": "stream",
     "text": [
      "100%|██████████| 133/133 [00:10<00:00, 12.71it/s]\n"
     ]
    },
    {
     "name": "stdout",
     "output_type": "stream",
     "text": [
      "                      (F1-score: 0.0410)\n",
      "\n",
      "                      (NDCG: 0.0665)\n",
      "\n",
      "val_loss= tensor(0.6482)\n",
      "--------------------\n"
     ]
    },
    {
     "name": "stderr",
     "output_type": "stream",
     "text": [
      "100%|██████████| 266/266 [00:21<00:00, 12.56it/s]\n"
     ]
    },
    {
     "name": "stdout",
     "output_type": "stream",
     "text": [
      "                      (F1-score: 0.0466)\n",
      "\n",
      "                      (NDCG: 0.0722)\n",
      "\n",
      "--------------------\n",
      "[[1, {'F1-score': 4.699248120300752e-05}, {'NDCG': 5.563101696228623e-05}, 0.7670180201530457], [2, {'F1-score': 0.00011487050960735171}, {'NDCG': 0.00014315448225216758}, 0.715857744216919], [3, {'F1-score': 0.018416218112489686}, {'NDCG': 0.021840268549950498}, 0.6940310597419739], [4, {'F1-score': 0.02642099617829246}, {'NDCG': 0.050063680437274445}, 0.7274060845375061], [5, {'F1-score': 0.03184700578141456}, {'NDCG': 0.0567162063399932}, 0.6694043874740601], [6, {'F1-score': 0.04223931158741518}, {'NDCG': 0.06820185580535938}, 0.6241940259933472], [7, {'F1-score': 0.04472424625645027}, {'NDCG': 0.07029548350763612}, 0.6142300963401794], [8, {'F1-score': 0.04290899937899723}, {'NDCG': 0.06925275580803479}, 0.5995289087295532], [9, {'F1-score': 0.04355782601394225}, {'NDCG': 0.06926687848684203}, 0.5936050415039062], [10, {'F1-score': 0.04515040172211956}, {'NDCG': 0.07034251727758997}, 0.5631183981895447], [11, {'F1-score': 0.04443880060696239}, {'NDCG': 0.06966079903164304}, 0.5811899900436401], [12, {'F1-score': 0.04493371631063535}, {'NDCG': 0.07014683947751396}, 0.5719975233078003], [13, {'F1-score': 0.04565093364193787}, {'NDCG': 0.07099754219748695}, 0.5907054543495178], [14, {'F1-score': 0.04460370476914024}, {'NDCG': 0.06966909922876473}, 0.6000447869300842], [15, {'F1-score': 0.04515451072586205}, {'NDCG': 0.0703947995509252}, 0.5761183500289917], [16, {'F1-score': 0.04701275208181636}, {'NDCG': 0.07190614512288257}, 0.5787864327430725], [17, {'F1-score': 0.04395315981777069}, {'NDCG': 0.0696789747125056}, 0.5855261087417603], [18, {'F1-score': 0.04512002444079792}, {'NDCG': 0.07008551670189359}, 0.5888639688491821], [19, {'F1-score': 0.04589398412900888}, {'NDCG': 0.07090936102589271}, 0.5673319101333618], [20, {'F1-score': 0.04354598355720392}, {'NDCG': 0.06940149212662215}, 0.6078929305076599], [21, {'F1-score': 0.04496149679798609}, {'NDCG': 0.07024026605391637}, 0.5779813528060913], [22, {'F1-score': 0.04627983692977624}, {'NDCG': 0.07102968256843549}, 0.5800273418426514], [23, {'F1-score': 0.045970301863114446}, {'NDCG': 0.07065959585851576}, 0.5470777750015259], [24, {'F1-score': 0.0463723383857829}, {'NDCG': 0.07075474591036432}, 0.5513803362846375], [25, {'F1-score': 0.04518623687723846}, {'NDCG': 0.07005241675358406}, 0.565579891204834], [26, {'F1-score': 0.045791294911088916}, {'NDCG': 0.07047046630650311}, 0.5642924904823303], [27, {'F1-score': 0.04516315284252287}, {'NDCG': 0.07118766886161122}, 0.5898812413215637], [28, {'F1-score': 0.04576475042192481}, {'NDCG': 0.07046511895863578}, 0.5653799176216125], [29, {'F1-score': 0.0465399900159111}, {'NDCG': 0.07098571418546476}, 0.5656462907791138], [30, {'F1-score': 0.04531047734974595}, {'NDCG': 0.0702926691821111}, 0.5791805386543274], [31, {'F1-score': 0.0457223058531297}, {'NDCG': 0.07075386763466313}, 0.572213888168335], [32, {'F1-score': 0.046583669062952124}, {'NDCG': 0.07216073586815562}, 0.6482391357421875]]\n",
      "-----------------------------------------------------------------------------------------\n"
     ]
    },
    {
     "name": "stderr",
     "output_type": "stream",
     "text": [
      "  0%|          | 1/932 [00:00<01:37,  9.52it/s]"
     ]
    },
    {
     "name": "stdout",
     "output_type": "stream",
     "text": [
      "Epoch 33: 0% , Loss: 0.197079\n"
     ]
    },
    {
     "name": "stderr",
     "output_type": "stream",
     "text": [
      " 11%|█         | 102/932 [00:11<01:52,  7.37it/s]"
     ]
    },
    {
     "name": "stdout",
     "output_type": "stream",
     "text": [
      "Epoch 33: 11% , Loss: 1.611516\n"
     ]
    },
    {
     "name": "stderr",
     "output_type": "stream",
     "text": [
      " 22%|██▏       | 202/932 [00:23<01:26,  8.45it/s]"
     ]
    },
    {
     "name": "stdout",
     "output_type": "stream",
     "text": [
      "Epoch 33: 21% , Loss: 0.189523\n"
     ]
    },
    {
     "name": "stderr",
     "output_type": "stream",
     "text": [
      " 32%|███▏      | 302/932 [00:36<01:21,  7.78it/s]"
     ]
    },
    {
     "name": "stdout",
     "output_type": "stream",
     "text": [
      "Epoch 33: 32% , Loss: 0.178754\n"
     ]
    },
    {
     "name": "stderr",
     "output_type": "stream",
     "text": [
      " 43%|████▎     | 402/932 [00:49<01:08,  7.76it/s]"
     ]
    },
    {
     "name": "stdout",
     "output_type": "stream",
     "text": [
      "Epoch 33: 43% , Loss: 0.205635\n"
     ]
    },
    {
     "name": "stderr",
     "output_type": "stream",
     "text": [
      " 54%|█████▍    | 502/932 [01:03<01:01,  7.00it/s]"
     ]
    },
    {
     "name": "stdout",
     "output_type": "stream",
     "text": [
      "Epoch 33: 54% , Loss: 0.310169\n"
     ]
    },
    {
     "name": "stderr",
     "output_type": "stream",
     "text": [
      " 65%|██████▍   | 602/932 [01:17<00:45,  7.18it/s]"
     ]
    },
    {
     "name": "stdout",
     "output_type": "stream",
     "text": [
      "Epoch 33: 64% , Loss: 0.784671\n"
     ]
    },
    {
     "name": "stderr",
     "output_type": "stream",
     "text": [
      " 75%|███████▌  | 701/932 [01:33<00:34,  6.61it/s]"
     ]
    },
    {
     "name": "stdout",
     "output_type": "stream",
     "text": [
      "Epoch 33: 75% , Loss: 0.167345\n"
     ]
    },
    {
     "name": "stderr",
     "output_type": "stream",
     "text": [
      " 86%|████████▌ | 801/932 [01:49<00:21,  6.09it/s]"
     ]
    },
    {
     "name": "stdout",
     "output_type": "stream",
     "text": [
      "Epoch 33: 86% , Loss: 1.039686\n"
     ]
    },
    {
     "name": "stderr",
     "output_type": "stream",
     "text": [
      " 97%|█████████▋| 901/932 [02:05<00:05,  6.18it/s]"
     ]
    },
    {
     "name": "stdout",
     "output_type": "stream",
     "text": [
      "Epoch 33: 97% , Loss: 0.625144\n"
     ]
    },
    {
     "name": "stderr",
     "output_type": "stream",
     "text": [
      "100%|██████████| 932/932 [02:11<00:00,  7.10it/s]"
     ]
    },
    {
     "name": "stdout",
     "output_type": "stream",
     "text": [
      "Epoch 33: 100% , Loss: 0.196044\n"
     ]
    },
    {
     "name": "stderr",
     "output_type": "stream",
     "text": [
      "\n"
     ]
    },
    {
     "name": "stdout",
     "output_type": "stream",
     "text": [
      "                      (F1-score: 0.0450)\n",
      "\n",
      "                      (NDCG: 0.0703)\n",
      "\n",
      "train_loss= tensor(0.4124)\n",
      "--------------------\n"
     ]
    },
    {
     "name": "stderr",
     "output_type": "stream",
     "text": [
      "100%|██████████| 133/133 [00:10<00:00, 12.55it/s]\n"
     ]
    },
    {
     "name": "stdout",
     "output_type": "stream",
     "text": [
      "                      (F1-score: 0.0434)\n",
      "\n",
      "                      (NDCG: 0.0679)\n",
      "\n",
      "val_loss= tensor(0.6065)\n",
      "--------------------\n"
     ]
    },
    {
     "name": "stderr",
     "output_type": "stream",
     "text": [
      "100%|██████████| 266/266 [00:21<00:00, 12.56it/s]\n"
     ]
    },
    {
     "name": "stdout",
     "output_type": "stream",
     "text": [
      "                      (F1-score: 0.0465)\n",
      "\n",
      "                      (NDCG: 0.0713)\n",
      "\n",
      "--------------------\n",
      "[[1, {'F1-score': 4.699248120300752e-05}, {'NDCG': 5.563101696228623e-05}, 0.7670180201530457], [2, {'F1-score': 0.00011487050960735171}, {'NDCG': 0.00014315448225216758}, 0.715857744216919], [3, {'F1-score': 0.018416218112489686}, {'NDCG': 0.021840268549950498}, 0.6940310597419739], [4, {'F1-score': 0.02642099617829246}, {'NDCG': 0.050063680437274445}, 0.7274060845375061], [5, {'F1-score': 0.03184700578141456}, {'NDCG': 0.0567162063399932}, 0.6694043874740601], [6, {'F1-score': 0.04223931158741518}, {'NDCG': 0.06820185580535938}, 0.6241940259933472], [7, {'F1-score': 0.04472424625645027}, {'NDCG': 0.07029548350763612}, 0.6142300963401794], [8, {'F1-score': 0.04290899937899723}, {'NDCG': 0.06925275580803479}, 0.5995289087295532], [9, {'F1-score': 0.04355782601394225}, {'NDCG': 0.06926687848684203}, 0.5936050415039062], [10, {'F1-score': 0.04515040172211956}, {'NDCG': 0.07034251727758997}, 0.5631183981895447], [11, {'F1-score': 0.04443880060696239}, {'NDCG': 0.06966079903164304}, 0.5811899900436401], [12, {'F1-score': 0.04493371631063535}, {'NDCG': 0.07014683947751396}, 0.5719975233078003], [13, {'F1-score': 0.04565093364193787}, {'NDCG': 0.07099754219748695}, 0.5907054543495178], [14, {'F1-score': 0.04460370476914024}, {'NDCG': 0.06966909922876473}, 0.6000447869300842], [15, {'F1-score': 0.04515451072586205}, {'NDCG': 0.0703947995509252}, 0.5761183500289917], [16, {'F1-score': 0.04701275208181636}, {'NDCG': 0.07190614512288257}, 0.5787864327430725], [17, {'F1-score': 0.04395315981777069}, {'NDCG': 0.0696789747125056}, 0.5855261087417603], [18, {'F1-score': 0.04512002444079792}, {'NDCG': 0.07008551670189359}, 0.5888639688491821], [19, {'F1-score': 0.04589398412900888}, {'NDCG': 0.07090936102589271}, 0.5673319101333618], [20, {'F1-score': 0.04354598355720392}, {'NDCG': 0.06940149212662215}, 0.6078929305076599], [21, {'F1-score': 0.04496149679798609}, {'NDCG': 0.07024026605391637}, 0.5779813528060913], [22, {'F1-score': 0.04627983692977624}, {'NDCG': 0.07102968256843549}, 0.5800273418426514], [23, {'F1-score': 0.045970301863114446}, {'NDCG': 0.07065959585851576}, 0.5470777750015259], [24, {'F1-score': 0.0463723383857829}, {'NDCG': 0.07075474591036432}, 0.5513803362846375], [25, {'F1-score': 0.04518623687723846}, {'NDCG': 0.07005241675358406}, 0.565579891204834], [26, {'F1-score': 0.045791294911088916}, {'NDCG': 0.07047046630650311}, 0.5642924904823303], [27, {'F1-score': 0.04516315284252287}, {'NDCG': 0.07118766886161122}, 0.5898812413215637], [28, {'F1-score': 0.04576475042192481}, {'NDCG': 0.07046511895863578}, 0.5653799176216125], [29, {'F1-score': 0.0465399900159111}, {'NDCG': 0.07098571418546476}, 0.5656462907791138], [30, {'F1-score': 0.04531047734974595}, {'NDCG': 0.0702926691821111}, 0.5791805386543274], [31, {'F1-score': 0.0457223058531297}, {'NDCG': 0.07075386763466313}, 0.572213888168335], [32, {'F1-score': 0.046583669062952124}, {'NDCG': 0.07216073586815562}, 0.6482391357421875], [33, {'F1-score': 0.04647101286346337}, {'NDCG': 0.07128521838379477}, 0.6065346002578735]]\n",
      "-----------------------------------------------------------------------------------------\n"
     ]
    },
    {
     "name": "stderr",
     "output_type": "stream",
     "text": [
      "  0%|          | 2/932 [00:00<02:02,  7.61it/s]"
     ]
    },
    {
     "name": "stdout",
     "output_type": "stream",
     "text": [
      "Epoch 34: 0% , Loss: 1.494952\n"
     ]
    },
    {
     "name": "stderr",
     "output_type": "stream",
     "text": [
      " 11%|█         | 102/932 [00:11<01:36,  8.63it/s]"
     ]
    },
    {
     "name": "stdout",
     "output_type": "stream",
     "text": [
      "Epoch 34: 11% , Loss: 0.673664\n"
     ]
    },
    {
     "name": "stderr",
     "output_type": "stream",
     "text": [
      " 22%|██▏       | 202/932 [00:23<01:30,  8.08it/s]"
     ]
    },
    {
     "name": "stdout",
     "output_type": "stream",
     "text": [
      "Epoch 34: 21% , Loss: 0.263246\n"
     ]
    },
    {
     "name": "stderr",
     "output_type": "stream",
     "text": [
      " 32%|███▏      | 302/932 [00:36<01:24,  7.48it/s]"
     ]
    },
    {
     "name": "stdout",
     "output_type": "stream",
     "text": [
      "Epoch 34: 32% , Loss: 0.160410\n"
     ]
    },
    {
     "name": "stderr",
     "output_type": "stream",
     "text": [
      " 43%|████▎     | 402/932 [00:50<01:12,  7.33it/s]"
     ]
    },
    {
     "name": "stdout",
     "output_type": "stream",
     "text": [
      "Epoch 34: 43% , Loss: 2.164211\n"
     ]
    },
    {
     "name": "stderr",
     "output_type": "stream",
     "text": [
      " 54%|█████▍    | 501/932 [01:03<01:03,  6.79it/s]"
     ]
    },
    {
     "name": "stdout",
     "output_type": "stream",
     "text": [
      "Epoch 34: 54% , Loss: 0.245423\n"
     ]
    },
    {
     "name": "stderr",
     "output_type": "stream",
     "text": [
      " 65%|██████▍   | 602/932 [01:18<00:51,  6.44it/s]"
     ]
    },
    {
     "name": "stdout",
     "output_type": "stream",
     "text": [
      "Epoch 34: 64% , Loss: 0.211358\n"
     ]
    },
    {
     "name": "stderr",
     "output_type": "stream",
     "text": [
      " 75%|███████▌  | 702/932 [01:33<00:34,  6.65it/s]"
     ]
    },
    {
     "name": "stdout",
     "output_type": "stream",
     "text": [
      "Epoch 34: 75% , Loss: 0.096862\n"
     ]
    },
    {
     "name": "stderr",
     "output_type": "stream",
     "text": [
      " 86%|████████▌ | 801/932 [01:49<00:21,  6.03it/s]"
     ]
    },
    {
     "name": "stdout",
     "output_type": "stream",
     "text": [
      "Epoch 34: 86% , Loss: 0.358255\n"
     ]
    },
    {
     "name": "stderr",
     "output_type": "stream",
     "text": [
      " 97%|█████████▋| 901/932 [02:06<00:05,  5.44it/s]"
     ]
    },
    {
     "name": "stdout",
     "output_type": "stream",
     "text": [
      "Epoch 34: 97% , Loss: 0.219223\n"
     ]
    },
    {
     "name": "stderr",
     "output_type": "stream",
     "text": [
      "100%|██████████| 932/932 [02:11<00:00,  7.08it/s]\n"
     ]
    },
    {
     "name": "stdout",
     "output_type": "stream",
     "text": [
      "Epoch 34: 100% , Loss: 1.225024\n",
      "                      (F1-score: 0.0446)\n",
      "\n",
      "                      (NDCG: 0.0704)\n",
      "\n",
      "train_loss= tensor(0.4144)\n",
      "--------------------\n"
     ]
    },
    {
     "name": "stderr",
     "output_type": "stream",
     "text": [
      "100%|██████████| 133/133 [00:09<00:00, 13.33it/s]\n"
     ]
    },
    {
     "name": "stdout",
     "output_type": "stream",
     "text": [
      "                      (F1-score: 0.0414)\n",
      "\n",
      "                      (NDCG: 0.0671)\n",
      "\n",
      "val_loss= tensor(0.6181)\n",
      "--------------------\n"
     ]
    },
    {
     "name": "stderr",
     "output_type": "stream",
     "text": [
      "100%|██████████| 266/266 [00:21<00:00, 12.63it/s]\n"
     ]
    },
    {
     "name": "stdout",
     "output_type": "stream",
     "text": [
      "                      (F1-score: 0.0456)\n",
      "\n",
      "                      (NDCG: 0.0707)\n",
      "\n",
      "--------------------\n",
      "[[1, {'F1-score': 4.699248120300752e-05}, {'NDCG': 5.563101696228623e-05}, 0.7670180201530457], [2, {'F1-score': 0.00011487050960735171}, {'NDCG': 0.00014315448225216758}, 0.715857744216919], [3, {'F1-score': 0.018416218112489686}, {'NDCG': 0.021840268549950498}, 0.6940310597419739], [4, {'F1-score': 0.02642099617829246}, {'NDCG': 0.050063680437274445}, 0.7274060845375061], [5, {'F1-score': 0.03184700578141456}, {'NDCG': 0.0567162063399932}, 0.6694043874740601], [6, {'F1-score': 0.04223931158741518}, {'NDCG': 0.06820185580535938}, 0.6241940259933472], [7, {'F1-score': 0.04472424625645027}, {'NDCG': 0.07029548350763612}, 0.6142300963401794], [8, {'F1-score': 0.04290899937899723}, {'NDCG': 0.06925275580803479}, 0.5995289087295532], [9, {'F1-score': 0.04355782601394225}, {'NDCG': 0.06926687848684203}, 0.5936050415039062], [10, {'F1-score': 0.04515040172211956}, {'NDCG': 0.07034251727758997}, 0.5631183981895447], [11, {'F1-score': 0.04443880060696239}, {'NDCG': 0.06966079903164304}, 0.5811899900436401], [12, {'F1-score': 0.04493371631063535}, {'NDCG': 0.07014683947751396}, 0.5719975233078003], [13, {'F1-score': 0.04565093364193787}, {'NDCG': 0.07099754219748695}, 0.5907054543495178], [14, {'F1-score': 0.04460370476914024}, {'NDCG': 0.06966909922876473}, 0.6000447869300842], [15, {'F1-score': 0.04515451072586205}, {'NDCG': 0.0703947995509252}, 0.5761183500289917], [16, {'F1-score': 0.04701275208181636}, {'NDCG': 0.07190614512288257}, 0.5787864327430725], [17, {'F1-score': 0.04395315981777069}, {'NDCG': 0.0696789747125056}, 0.5855261087417603], [18, {'F1-score': 0.04512002444079792}, {'NDCG': 0.07008551670189359}, 0.5888639688491821], [19, {'F1-score': 0.04589398412900888}, {'NDCG': 0.07090936102589271}, 0.5673319101333618], [20, {'F1-score': 0.04354598355720392}, {'NDCG': 0.06940149212662215}, 0.6078929305076599], [21, {'F1-score': 0.04496149679798609}, {'NDCG': 0.07024026605391637}, 0.5779813528060913], [22, {'F1-score': 0.04627983692977624}, {'NDCG': 0.07102968256843549}, 0.5800273418426514], [23, {'F1-score': 0.045970301863114446}, {'NDCG': 0.07065959585851576}, 0.5470777750015259], [24, {'F1-score': 0.0463723383857829}, {'NDCG': 0.07075474591036432}, 0.5513803362846375], [25, {'F1-score': 0.04518623687723846}, {'NDCG': 0.07005241675358406}, 0.565579891204834], [26, {'F1-score': 0.045791294911088916}, {'NDCG': 0.07047046630650311}, 0.5642924904823303], [27, {'F1-score': 0.04516315284252287}, {'NDCG': 0.07118766886161122}, 0.5898812413215637], [28, {'F1-score': 0.04576475042192481}, {'NDCG': 0.07046511895863578}, 0.5653799176216125], [29, {'F1-score': 0.0465399900159111}, {'NDCG': 0.07098571418546476}, 0.5656462907791138], [30, {'F1-score': 0.04531047734974595}, {'NDCG': 0.0702926691821111}, 0.5791805386543274], [31, {'F1-score': 0.0457223058531297}, {'NDCG': 0.07075386763466313}, 0.572213888168335], [32, {'F1-score': 0.046583669062952124}, {'NDCG': 0.07216073586815562}, 0.6482391357421875], [33, {'F1-score': 0.04647101286346337}, {'NDCG': 0.07128521838379477}, 0.6065346002578735], [34, {'F1-score': 0.0456100121455687}, {'NDCG': 0.07065318853426304}, 0.6181027889251709]]\n",
      "-----------------------------------------------------------------------------------------\n"
     ]
    },
    {
     "name": "stderr",
     "output_type": "stream",
     "text": [
      "\r",
      "  0%|          | 0/932 [00:00<?, ?it/s]"
     ]
    },
    {
     "name": "stdout",
     "output_type": "stream",
     "text": [
      "Epoch 35: 0% , Loss: 0.222876\n"
     ]
    },
    {
     "name": "stderr",
     "output_type": "stream",
     "text": [
      " 11%|█         | 102/932 [00:11<01:35,  8.66it/s]"
     ]
    },
    {
     "name": "stdout",
     "output_type": "stream",
     "text": [
      "Epoch 35: 11% , Loss: 0.360283\n"
     ]
    },
    {
     "name": "stderr",
     "output_type": "stream",
     "text": [
      " 22%|██▏       | 202/932 [00:23<01:31,  7.94it/s]"
     ]
    },
    {
     "name": "stdout",
     "output_type": "stream",
     "text": [
      "Epoch 35: 21% , Loss: 0.856393\n"
     ]
    },
    {
     "name": "stderr",
     "output_type": "stream",
     "text": [
      " 32%|███▏      | 302/932 [00:35<01:16,  8.24it/s]"
     ]
    },
    {
     "name": "stdout",
     "output_type": "stream",
     "text": [
      "Epoch 35: 32% , Loss: 0.113565\n"
     ]
    },
    {
     "name": "stderr",
     "output_type": "stream",
     "text": [
      " 43%|████▎     | 401/932 [00:48<01:25,  6.24it/s]"
     ]
    },
    {
     "name": "stdout",
     "output_type": "stream",
     "text": [
      "Epoch 35: 43% , Loss: 0.216553\n"
     ]
    },
    {
     "name": "stderr",
     "output_type": "stream",
     "text": [
      " 54%|█████▍    | 502/932 [01:02<00:59,  7.20it/s]"
     ]
    },
    {
     "name": "stdout",
     "output_type": "stream",
     "text": [
      "Epoch 35: 54% , Loss: 0.055382\n"
     ]
    },
    {
     "name": "stderr",
     "output_type": "stream",
     "text": [
      " 65%|██████▍   | 602/932 [01:17<00:49,  6.73it/s]"
     ]
    },
    {
     "name": "stdout",
     "output_type": "stream",
     "text": [
      "Epoch 35: 64% , Loss: 0.195699\n"
     ]
    },
    {
     "name": "stderr",
     "output_type": "stream",
     "text": [
      " 75%|███████▌  | 702/932 [01:33<00:35,  6.51it/s]"
     ]
    },
    {
     "name": "stdout",
     "output_type": "stream",
     "text": [
      "Epoch 35: 75% , Loss: 0.068482\n"
     ]
    },
    {
     "name": "stderr",
     "output_type": "stream",
     "text": [
      " 86%|████████▌ | 802/932 [01:49<00:21,  6.06it/s]"
     ]
    },
    {
     "name": "stdout",
     "output_type": "stream",
     "text": [
      "Epoch 35: 86% , Loss: 0.248482\n"
     ]
    },
    {
     "name": "stderr",
     "output_type": "stream",
     "text": [
      " 97%|█████████▋| 901/932 [02:05<00:05,  5.96it/s]"
     ]
    },
    {
     "name": "stdout",
     "output_type": "stream",
     "text": [
      "Epoch 35: 97% , Loss: 1.227940\n"
     ]
    },
    {
     "name": "stderr",
     "output_type": "stream",
     "text": [
      "100%|██████████| 932/932 [02:10<00:00,  7.11it/s]"
     ]
    },
    {
     "name": "stdout",
     "output_type": "stream",
     "text": [
      "Epoch 35: 100% , Loss: 0.207566\n"
     ]
    },
    {
     "name": "stderr",
     "output_type": "stream",
     "text": [
      "\n"
     ]
    },
    {
     "name": "stdout",
     "output_type": "stream",
     "text": [
      "                      (F1-score: 0.0448)\n",
      "\n",
      "                      (NDCG: 0.0701)\n",
      "\n",
      "train_loss= tensor(0.4072)\n",
      "--------------------\n"
     ]
    },
    {
     "name": "stderr",
     "output_type": "stream",
     "text": [
      "100%|██████████| 133/133 [00:10<00:00, 12.85it/s]\n"
     ]
    },
    {
     "name": "stdout",
     "output_type": "stream",
     "text": [
      "                      (F1-score: 0.0422)\n",
      "\n",
      "                      (NDCG: 0.0672)\n",
      "\n",
      "val_loss= tensor(0.6007)\n",
      "--------------------\n"
     ]
    },
    {
     "name": "stderr",
     "output_type": "stream",
     "text": [
      "100%|██████████| 266/266 [00:21<00:00, 12.64it/s]\n"
     ]
    },
    {
     "name": "stdout",
     "output_type": "stream",
     "text": [
      "                      (F1-score: 0.0453)\n",
      "\n",
      "                      (NDCG: 0.0706)\n",
      "\n",
      "--------------------\n",
      "[[1, {'F1-score': 4.699248120300752e-05}, {'NDCG': 5.563101696228623e-05}, 0.7670180201530457], [2, {'F1-score': 0.00011487050960735171}, {'NDCG': 0.00014315448225216758}, 0.715857744216919], [3, {'F1-score': 0.018416218112489686}, {'NDCG': 0.021840268549950498}, 0.6940310597419739], [4, {'F1-score': 0.02642099617829246}, {'NDCG': 0.050063680437274445}, 0.7274060845375061], [5, {'F1-score': 0.03184700578141456}, {'NDCG': 0.0567162063399932}, 0.6694043874740601], [6, {'F1-score': 0.04223931158741518}, {'NDCG': 0.06820185580535938}, 0.6241940259933472], [7, {'F1-score': 0.04472424625645027}, {'NDCG': 0.07029548350763612}, 0.6142300963401794], [8, {'F1-score': 0.04290899937899723}, {'NDCG': 0.06925275580803479}, 0.5995289087295532], [9, {'F1-score': 0.04355782601394225}, {'NDCG': 0.06926687848684203}, 0.5936050415039062], [10, {'F1-score': 0.04515040172211956}, {'NDCG': 0.07034251727758997}, 0.5631183981895447], [11, {'F1-score': 0.04443880060696239}, {'NDCG': 0.06966079903164304}, 0.5811899900436401], [12, {'F1-score': 0.04493371631063535}, {'NDCG': 0.07014683947751396}, 0.5719975233078003], [13, {'F1-score': 0.04565093364193787}, {'NDCG': 0.07099754219748695}, 0.5907054543495178], [14, {'F1-score': 0.04460370476914024}, {'NDCG': 0.06966909922876473}, 0.6000447869300842], [15, {'F1-score': 0.04515451072586205}, {'NDCG': 0.0703947995509252}, 0.5761183500289917], [16, {'F1-score': 0.04701275208181636}, {'NDCG': 0.07190614512288257}, 0.5787864327430725], [17, {'F1-score': 0.04395315981777069}, {'NDCG': 0.0696789747125056}, 0.5855261087417603], [18, {'F1-score': 0.04512002444079792}, {'NDCG': 0.07008551670189359}, 0.5888639688491821], [19, {'F1-score': 0.04589398412900888}, {'NDCG': 0.07090936102589271}, 0.5673319101333618], [20, {'F1-score': 0.04354598355720392}, {'NDCG': 0.06940149212662215}, 0.6078929305076599], [21, {'F1-score': 0.04496149679798609}, {'NDCG': 0.07024026605391637}, 0.5779813528060913], [22, {'F1-score': 0.04627983692977624}, {'NDCG': 0.07102968256843549}, 0.5800273418426514], [23, {'F1-score': 0.045970301863114446}, {'NDCG': 0.07065959585851576}, 0.5470777750015259], [24, {'F1-score': 0.0463723383857829}, {'NDCG': 0.07075474591036432}, 0.5513803362846375], [25, {'F1-score': 0.04518623687723846}, {'NDCG': 0.07005241675358406}, 0.565579891204834], [26, {'F1-score': 0.045791294911088916}, {'NDCG': 0.07047046630650311}, 0.5642924904823303], [27, {'F1-score': 0.04516315284252287}, {'NDCG': 0.07118766886161122}, 0.5898812413215637], [28, {'F1-score': 0.04576475042192481}, {'NDCG': 0.07046511895863578}, 0.5653799176216125], [29, {'F1-score': 0.0465399900159111}, {'NDCG': 0.07098571418546476}, 0.5656462907791138], [30, {'F1-score': 0.04531047734974595}, {'NDCG': 0.0702926691821111}, 0.5791805386543274], [31, {'F1-score': 0.0457223058531297}, {'NDCG': 0.07075386763466313}, 0.572213888168335], [32, {'F1-score': 0.046583669062952124}, {'NDCG': 0.07216073586815562}, 0.6482391357421875], [33, {'F1-score': 0.04647101286346337}, {'NDCG': 0.07128521838379477}, 0.6065346002578735], [34, {'F1-score': 0.0456100121455687}, {'NDCG': 0.07065318853426304}, 0.6181027889251709], [35, {'F1-score': 0.04528497897632059}, {'NDCG': 0.07061878128740516}, 0.6007017493247986]]\n",
      "-----------------------------------------------------------------------------------------\n"
     ]
    },
    {
     "name": "stderr",
     "output_type": "stream",
     "text": [
      "\r",
      "  0%|          | 0/932 [00:00<?, ?it/s]"
     ]
    },
    {
     "name": "stdout",
     "output_type": "stream",
     "text": [
      "Epoch 36: 0% , Loss: 0.184199\n"
     ]
    },
    {
     "name": "stderr",
     "output_type": "stream",
     "text": [
      " 11%|█         | 102/932 [00:11<01:38,  8.43it/s]"
     ]
    },
    {
     "name": "stdout",
     "output_type": "stream",
     "text": [
      "Epoch 36: 11% , Loss: 0.354910\n"
     ]
    },
    {
     "name": "stderr",
     "output_type": "stream",
     "text": [
      " 22%|██▏       | 202/932 [00:23<01:31,  7.97it/s]"
     ]
    },
    {
     "name": "stdout",
     "output_type": "stream",
     "text": [
      "Epoch 36: 21% , Loss: 0.183041\n"
     ]
    },
    {
     "name": "stderr",
     "output_type": "stream",
     "text": [
      " 32%|███▏      | 302/932 [00:36<01:19,  7.92it/s]"
     ]
    },
    {
     "name": "stdout",
     "output_type": "stream",
     "text": [
      "Epoch 36: 32% , Loss: 0.216356\n"
     ]
    },
    {
     "name": "stderr",
     "output_type": "stream",
     "text": [
      " 43%|████▎     | 402/932 [00:49<01:09,  7.65it/s]"
     ]
    },
    {
     "name": "stdout",
     "output_type": "stream",
     "text": [
      "Epoch 36: 43% , Loss: 0.539146\n"
     ]
    },
    {
     "name": "stderr",
     "output_type": "stream",
     "text": [
      " 54%|█████▍    | 502/932 [01:03<01:04,  6.70it/s]"
     ]
    },
    {
     "name": "stdout",
     "output_type": "stream",
     "text": [
      "Epoch 36: 54% , Loss: 0.119283\n"
     ]
    },
    {
     "name": "stderr",
     "output_type": "stream",
     "text": [
      " 65%|██████▍   | 602/932 [01:17<00:48,  6.81it/s]"
     ]
    },
    {
     "name": "stdout",
     "output_type": "stream",
     "text": [
      "Epoch 36: 64% , Loss: 0.576789\n"
     ]
    },
    {
     "name": "stderr",
     "output_type": "stream",
     "text": [
      " 75%|███████▌  | 702/932 [01:33<00:34,  6.70it/s]"
     ]
    },
    {
     "name": "stdout",
     "output_type": "stream",
     "text": [
      "Epoch 36: 75% , Loss: 0.062667\n"
     ]
    },
    {
     "name": "stderr",
     "output_type": "stream",
     "text": [
      " 86%|████████▌ | 801/932 [01:48<00:22,  5.71it/s]"
     ]
    },
    {
     "name": "stdout",
     "output_type": "stream",
     "text": [
      "Epoch 36: 86% , Loss: 0.418743\n"
     ]
    },
    {
     "name": "stderr",
     "output_type": "stream",
     "text": [
      " 97%|█████████▋| 901/932 [02:05<00:05,  5.96it/s]"
     ]
    },
    {
     "name": "stdout",
     "output_type": "stream",
     "text": [
      "Epoch 36: 97% , Loss: 1.200269\n"
     ]
    },
    {
     "name": "stderr",
     "output_type": "stream",
     "text": [
      "100%|██████████| 932/932 [02:10<00:00,  7.15it/s]\n"
     ]
    },
    {
     "name": "stdout",
     "output_type": "stream",
     "text": [
      "Epoch 36: 100% , Loss: 0.487856\n",
      "                      (F1-score: 0.0442)\n",
      "\n",
      "                      (NDCG: 0.0699)\n",
      "\n",
      "train_loss= tensor(0.4041)\n",
      "--------------------\n"
     ]
    },
    {
     "name": "stderr",
     "output_type": "stream",
     "text": [
      "100%|██████████| 133/133 [00:09<00:00, 13.32it/s]\n"
     ]
    },
    {
     "name": "stdout",
     "output_type": "stream",
     "text": [
      "                      (F1-score: 0.0425)\n",
      "\n",
      "                      (NDCG: 0.0677)\n",
      "\n",
      "val_loss= tensor(0.6269)\n",
      "--------------------\n"
     ]
    },
    {
     "name": "stderr",
     "output_type": "stream",
     "text": [
      "100%|██████████| 266/266 [00:21<00:00, 12.33it/s]\n"
     ]
    },
    {
     "name": "stdout",
     "output_type": "stream",
     "text": [
      "                      (F1-score: 0.0449)\n",
      "\n",
      "                      (NDCG: 0.0705)\n",
      "\n",
      "--------------------\n",
      "[[1, {'F1-score': 4.699248120300752e-05}, {'NDCG': 5.563101696228623e-05}, 0.7670180201530457], [2, {'F1-score': 0.00011487050960735171}, {'NDCG': 0.00014315448225216758}, 0.715857744216919], [3, {'F1-score': 0.018416218112489686}, {'NDCG': 0.021840268549950498}, 0.6940310597419739], [4, {'F1-score': 0.02642099617829246}, {'NDCG': 0.050063680437274445}, 0.7274060845375061], [5, {'F1-score': 0.03184700578141456}, {'NDCG': 0.0567162063399932}, 0.6694043874740601], [6, {'F1-score': 0.04223931158741518}, {'NDCG': 0.06820185580535938}, 0.6241940259933472], [7, {'F1-score': 0.04472424625645027}, {'NDCG': 0.07029548350763612}, 0.6142300963401794], [8, {'F1-score': 0.04290899937899723}, {'NDCG': 0.06925275580803479}, 0.5995289087295532], [9, {'F1-score': 0.04355782601394225}, {'NDCG': 0.06926687848684203}, 0.5936050415039062], [10, {'F1-score': 0.04515040172211956}, {'NDCG': 0.07034251727758997}, 0.5631183981895447], [11, {'F1-score': 0.04443880060696239}, {'NDCG': 0.06966079903164304}, 0.5811899900436401], [12, {'F1-score': 0.04493371631063535}, {'NDCG': 0.07014683947751396}, 0.5719975233078003], [13, {'F1-score': 0.04565093364193787}, {'NDCG': 0.07099754219748695}, 0.5907054543495178], [14, {'F1-score': 0.04460370476914024}, {'NDCG': 0.06966909922876473}, 0.6000447869300842], [15, {'F1-score': 0.04515451072586205}, {'NDCG': 0.0703947995509252}, 0.5761183500289917], [16, {'F1-score': 0.04701275208181636}, {'NDCG': 0.07190614512288257}, 0.5787864327430725], [17, {'F1-score': 0.04395315981777069}, {'NDCG': 0.0696789747125056}, 0.5855261087417603], [18, {'F1-score': 0.04512002444079792}, {'NDCG': 0.07008551670189359}, 0.5888639688491821], [19, {'F1-score': 0.04589398412900888}, {'NDCG': 0.07090936102589271}, 0.5673319101333618], [20, {'F1-score': 0.04354598355720392}, {'NDCG': 0.06940149212662215}, 0.6078929305076599], [21, {'F1-score': 0.04496149679798609}, {'NDCG': 0.07024026605391637}, 0.5779813528060913], [22, {'F1-score': 0.04627983692977624}, {'NDCG': 0.07102968256843549}, 0.5800273418426514], [23, {'F1-score': 0.045970301863114446}, {'NDCG': 0.07065959585851576}, 0.5470777750015259], [24, {'F1-score': 0.0463723383857829}, {'NDCG': 0.07075474591036432}, 0.5513803362846375], [25, {'F1-score': 0.04518623687723846}, {'NDCG': 0.07005241675358406}, 0.565579891204834], [26, {'F1-score': 0.045791294911088916}, {'NDCG': 0.07047046630650311}, 0.5642924904823303], [27, {'F1-score': 0.04516315284252287}, {'NDCG': 0.07118766886161122}, 0.5898812413215637], [28, {'F1-score': 0.04576475042192481}, {'NDCG': 0.07046511895863578}, 0.5653799176216125], [29, {'F1-score': 0.0465399900159111}, {'NDCG': 0.07098571418546476}, 0.5656462907791138], [30, {'F1-score': 0.04531047734974595}, {'NDCG': 0.0702926691821111}, 0.5791805386543274], [31, {'F1-score': 0.0457223058531297}, {'NDCG': 0.07075386763466313}, 0.572213888168335], [32, {'F1-score': 0.046583669062952124}, {'NDCG': 0.07216073586815562}, 0.6482391357421875], [33, {'F1-score': 0.04647101286346337}, {'NDCG': 0.07128521838379477}, 0.6065346002578735], [34, {'F1-score': 0.0456100121455687}, {'NDCG': 0.07065318853426304}, 0.6181027889251709], [35, {'F1-score': 0.04528497897632059}, {'NDCG': 0.07061878128740516}, 0.6007017493247986], [36, {'F1-score': 0.04486473654810486}, {'NDCG': 0.07047449536901668}, 0.6269128918647766]]\n",
      "-----------------------------------------------------------------------------------------\n"
     ]
    },
    {
     "name": "stderr",
     "output_type": "stream",
     "text": [
      "  0%|          | 2/932 [00:00<01:44,  8.90it/s]"
     ]
    },
    {
     "name": "stdout",
     "output_type": "stream",
     "text": [
      "Epoch 37: 0% , Loss: 1.219223\n"
     ]
    },
    {
     "name": "stderr",
     "output_type": "stream",
     "text": [
      " 11%|█         | 102/932 [00:11<01:47,  7.74it/s]"
     ]
    },
    {
     "name": "stdout",
     "output_type": "stream",
     "text": [
      "Epoch 37: 11% , Loss: 0.100572\n"
     ]
    },
    {
     "name": "stderr",
     "output_type": "stream",
     "text": [
      " 22%|██▏       | 202/932 [00:23<01:29,  8.17it/s]"
     ]
    },
    {
     "name": "stdout",
     "output_type": "stream",
     "text": [
      "Epoch 37: 21% , Loss: 0.157713\n"
     ]
    },
    {
     "name": "stderr",
     "output_type": "stream",
     "text": [
      " 32%|███▏      | 302/932 [00:35<01:18,  8.07it/s]"
     ]
    },
    {
     "name": "stdout",
     "output_type": "stream",
     "text": [
      "Epoch 37: 32% , Loss: 1.254582\n"
     ]
    },
    {
     "name": "stderr",
     "output_type": "stream",
     "text": [
      " 43%|████▎     | 402/932 [00:48<01:07,  7.91it/s]"
     ]
    },
    {
     "name": "stdout",
     "output_type": "stream",
     "text": [
      "Epoch 37: 43% , Loss: 0.233824\n"
     ]
    },
    {
     "name": "stderr",
     "output_type": "stream",
     "text": [
      " 54%|█████▍    | 502/932 [01:02<01:03,  6.81it/s]"
     ]
    },
    {
     "name": "stdout",
     "output_type": "stream",
     "text": [
      "Epoch 37: 54% , Loss: 0.145339\n"
     ]
    },
    {
     "name": "stderr",
     "output_type": "stream",
     "text": [
      " 64%|██████▍   | 601/932 [01:16<00:47,  6.97it/s]"
     ]
    },
    {
     "name": "stdout",
     "output_type": "stream",
     "text": [
      "Epoch 37: 64% , Loss: 1.673637\n"
     ]
    },
    {
     "name": "stderr",
     "output_type": "stream",
     "text": [
      " 75%|███████▌  | 701/932 [01:32<00:37,  6.09it/s]"
     ]
    },
    {
     "name": "stdout",
     "output_type": "stream",
     "text": [
      "Epoch 37: 75% , Loss: 0.194881\n"
     ]
    },
    {
     "name": "stderr",
     "output_type": "stream",
     "text": [
      " 86%|████████▌ | 801/932 [01:48<00:19,  6.76it/s]"
     ]
    },
    {
     "name": "stdout",
     "output_type": "stream",
     "text": [
      "Epoch 37: 86% , Loss: 0.224921\n"
     ]
    },
    {
     "name": "stderr",
     "output_type": "stream",
     "text": [
      " 97%|█████████▋| 901/932 [02:05<00:05,  5.89it/s]"
     ]
    },
    {
     "name": "stdout",
     "output_type": "stream",
     "text": [
      "Epoch 37: 97% , Loss: 0.317255\n"
     ]
    },
    {
     "name": "stderr",
     "output_type": "stream",
     "text": [
      "100%|██████████| 932/932 [02:10<00:00,  7.15it/s]\n"
     ]
    },
    {
     "name": "stdout",
     "output_type": "stream",
     "text": [
      "Epoch 37: 100% , Loss: 0.118895\n",
      "                      (F1-score: 0.0445)\n",
      "\n",
      "                      (NDCG: 0.0700)\n",
      "\n",
      "train_loss= tensor(0.4015)\n",
      "--------------------\n"
     ]
    },
    {
     "name": "stderr",
     "output_type": "stream",
     "text": [
      "100%|██████████| 133/133 [00:10<00:00, 12.96it/s]\n"
     ]
    },
    {
     "name": "stdout",
     "output_type": "stream",
     "text": [
      "                      (F1-score: 0.0408)\n",
      "\n",
      "                      (NDCG: 0.0657)\n",
      "\n",
      "val_loss= tensor(0.5920)\n",
      "--------------------\n"
     ]
    },
    {
     "name": "stderr",
     "output_type": "stream",
     "text": [
      "100%|██████████| 266/266 [00:21<00:00, 12.58it/s]\n"
     ]
    },
    {
     "name": "stdout",
     "output_type": "stream",
     "text": [
      "                      (F1-score: 0.0452)\n",
      "\n",
      "                      (NDCG: 0.0708)\n",
      "\n",
      "--------------------\n",
      "[[1, {'F1-score': 4.699248120300752e-05}, {'NDCG': 5.563101696228623e-05}, 0.7670180201530457], [2, {'F1-score': 0.00011487050960735171}, {'NDCG': 0.00014315448225216758}, 0.715857744216919], [3, {'F1-score': 0.018416218112489686}, {'NDCG': 0.021840268549950498}, 0.6940310597419739], [4, {'F1-score': 0.02642099617829246}, {'NDCG': 0.050063680437274445}, 0.7274060845375061], [5, {'F1-score': 0.03184700578141456}, {'NDCG': 0.0567162063399932}, 0.6694043874740601], [6, {'F1-score': 0.04223931158741518}, {'NDCG': 0.06820185580535938}, 0.6241940259933472], [7, {'F1-score': 0.04472424625645027}, {'NDCG': 0.07029548350763612}, 0.6142300963401794], [8, {'F1-score': 0.04290899937899723}, {'NDCG': 0.06925275580803479}, 0.5995289087295532], [9, {'F1-score': 0.04355782601394225}, {'NDCG': 0.06926687848684203}, 0.5936050415039062], [10, {'F1-score': 0.04515040172211956}, {'NDCG': 0.07034251727758997}, 0.5631183981895447], [11, {'F1-score': 0.04443880060696239}, {'NDCG': 0.06966079903164304}, 0.5811899900436401], [12, {'F1-score': 0.04493371631063535}, {'NDCG': 0.07014683947751396}, 0.5719975233078003], [13, {'F1-score': 0.04565093364193787}, {'NDCG': 0.07099754219748695}, 0.5907054543495178], [14, {'F1-score': 0.04460370476914024}, {'NDCG': 0.06966909922876473}, 0.6000447869300842], [15, {'F1-score': 0.04515451072586205}, {'NDCG': 0.0703947995509252}, 0.5761183500289917], [16, {'F1-score': 0.04701275208181636}, {'NDCG': 0.07190614512288257}, 0.5787864327430725], [17, {'F1-score': 0.04395315981777069}, {'NDCG': 0.0696789747125056}, 0.5855261087417603], [18, {'F1-score': 0.04512002444079792}, {'NDCG': 0.07008551670189359}, 0.5888639688491821], [19, {'F1-score': 0.04589398412900888}, {'NDCG': 0.07090936102589271}, 0.5673319101333618], [20, {'F1-score': 0.04354598355720392}, {'NDCG': 0.06940149212662215}, 0.6078929305076599], [21, {'F1-score': 0.04496149679798609}, {'NDCG': 0.07024026605391637}, 0.5779813528060913], [22, {'F1-score': 0.04627983692977624}, {'NDCG': 0.07102968256843549}, 0.5800273418426514], [23, {'F1-score': 0.045970301863114446}, {'NDCG': 0.07065959585851576}, 0.5470777750015259], [24, {'F1-score': 0.0463723383857829}, {'NDCG': 0.07075474591036432}, 0.5513803362846375], [25, {'F1-score': 0.04518623687723846}, {'NDCG': 0.07005241675358406}, 0.565579891204834], [26, {'F1-score': 0.045791294911088916}, {'NDCG': 0.07047046630650311}, 0.5642924904823303], [27, {'F1-score': 0.04516315284252287}, {'NDCG': 0.07118766886161122}, 0.5898812413215637], [28, {'F1-score': 0.04576475042192481}, {'NDCG': 0.07046511895863578}, 0.5653799176216125], [29, {'F1-score': 0.0465399900159111}, {'NDCG': 0.07098571418546476}, 0.5656462907791138], [30, {'F1-score': 0.04531047734974595}, {'NDCG': 0.0702926691821111}, 0.5791805386543274], [31, {'F1-score': 0.0457223058531297}, {'NDCG': 0.07075386763466313}, 0.572213888168335], [32, {'F1-score': 0.046583669062952124}, {'NDCG': 0.07216073586815562}, 0.6482391357421875], [33, {'F1-score': 0.04647101286346337}, {'NDCG': 0.07128521838379477}, 0.6065346002578735], [34, {'F1-score': 0.0456100121455687}, {'NDCG': 0.07065318853426304}, 0.6181027889251709], [35, {'F1-score': 0.04528497897632059}, {'NDCG': 0.07061878128740516}, 0.6007017493247986], [36, {'F1-score': 0.04486473654810486}, {'NDCG': 0.07047449536901668}, 0.6269128918647766], [37, {'F1-score': 0.045164433983955865}, {'NDCG': 0.07079721007082976}, 0.5920420289039612]]\n",
      "-----------------------------------------------------------------------------------------\n"
     ]
    },
    {
     "name": "stderr",
     "output_type": "stream",
     "text": [
      "  0%|          | 2/932 [00:00<02:04,  7.44it/s]"
     ]
    },
    {
     "name": "stdout",
     "output_type": "stream",
     "text": [
      "Epoch 38: 0% , Loss: 0.325711\n"
     ]
    },
    {
     "name": "stderr",
     "output_type": "stream",
     "text": [
      " 11%|█         | 101/932 [00:11<01:41,  8.20it/s]"
     ]
    },
    {
     "name": "stdout",
     "output_type": "stream",
     "text": [
      "Epoch 38: 11% , Loss: 0.188965\n"
     ]
    },
    {
     "name": "stderr",
     "output_type": "stream",
     "text": [
      " 22%|██▏       | 202/932 [00:23<01:35,  7.66it/s]"
     ]
    },
    {
     "name": "stdout",
     "output_type": "stream",
     "text": [
      "Epoch 38: 21% , Loss: 0.290403\n"
     ]
    },
    {
     "name": "stderr",
     "output_type": "stream",
     "text": [
      " 32%|███▏      | 302/932 [00:36<01:25,  7.35it/s]"
     ]
    },
    {
     "name": "stdout",
     "output_type": "stream",
     "text": [
      "Epoch 38: 32% , Loss: 0.265139\n"
     ]
    },
    {
     "name": "stderr",
     "output_type": "stream",
     "text": [
      " 43%|████▎     | 402/932 [00:49<01:07,  7.82it/s]"
     ]
    },
    {
     "name": "stdout",
     "output_type": "stream",
     "text": [
      "Epoch 38: 43% , Loss: 0.161375\n"
     ]
    },
    {
     "name": "stderr",
     "output_type": "stream",
     "text": [
      " 54%|█████▍    | 502/932 [01:03<01:10,  6.13it/s]"
     ]
    },
    {
     "name": "stdout",
     "output_type": "stream",
     "text": [
      "Epoch 38: 54% , Loss: 1.793494\n"
     ]
    },
    {
     "name": "stderr",
     "output_type": "stream",
     "text": [
      " 65%|██████▍   | 602/932 [01:17<00:47,  6.88it/s]"
     ]
    },
    {
     "name": "stdout",
     "output_type": "stream",
     "text": [
      "Epoch 38: 64% , Loss: 0.081821\n"
     ]
    },
    {
     "name": "stderr",
     "output_type": "stream",
     "text": [
      " 75%|███████▌  | 702/932 [01:32<00:33,  6.80it/s]"
     ]
    },
    {
     "name": "stdout",
     "output_type": "stream",
     "text": [
      "Epoch 38: 75% , Loss: 0.280430\n"
     ]
    },
    {
     "name": "stderr",
     "output_type": "stream",
     "text": [
      " 86%|████████▌ | 801/932 [01:48<00:21,  6.23it/s]"
     ]
    },
    {
     "name": "stdout",
     "output_type": "stream",
     "text": [
      "Epoch 38: 86% , Loss: 0.211225\n"
     ]
    },
    {
     "name": "stderr",
     "output_type": "stream",
     "text": [
      " 97%|█████████▋| 901/932 [02:05<00:04,  6.23it/s]"
     ]
    },
    {
     "name": "stdout",
     "output_type": "stream",
     "text": [
      "Epoch 38: 97% , Loss: 0.181847\n"
     ]
    },
    {
     "name": "stderr",
     "output_type": "stream",
     "text": [
      "100%|██████████| 932/932 [02:10<00:00,  7.12it/s]\n"
     ]
    },
    {
     "name": "stdout",
     "output_type": "stream",
     "text": [
      "Epoch 38: 100% , Loss: 0.262407\n",
      "                      (F1-score: 0.0449)\n",
      "\n",
      "                      (NDCG: 0.0703)\n",
      "\n",
      "train_loss= tensor(0.3995)\n",
      "--------------------\n"
     ]
    },
    {
     "name": "stderr",
     "output_type": "stream",
     "text": [
      "100%|██████████| 133/133 [00:10<00:00, 12.76it/s]\n"
     ]
    },
    {
     "name": "stdout",
     "output_type": "stream",
     "text": [
      "                      (F1-score: 0.0421)\n",
      "\n",
      "                      (NDCG: 0.0685)\n",
      "\n",
      "val_loss= tensor(0.6621)\n",
      "--------------------\n"
     ]
    },
    {
     "name": "stderr",
     "output_type": "stream",
     "text": [
      "100%|██████████| 266/266 [00:20<00:00, 12.67it/s]\n"
     ]
    },
    {
     "name": "stdout",
     "output_type": "stream",
     "text": [
      "                      (F1-score: 0.0455)\n",
      "\n",
      "                      (NDCG: 0.0717)\n",
      "\n",
      "--------------------\n",
      "[[1, {'F1-score': 4.699248120300752e-05}, {'NDCG': 5.563101696228623e-05}, 0.7670180201530457], [2, {'F1-score': 0.00011487050960735171}, {'NDCG': 0.00014315448225216758}, 0.715857744216919], [3, {'F1-score': 0.018416218112489686}, {'NDCG': 0.021840268549950498}, 0.6940310597419739], [4, {'F1-score': 0.02642099617829246}, {'NDCG': 0.050063680437274445}, 0.7274060845375061], [5, {'F1-score': 0.03184700578141456}, {'NDCG': 0.0567162063399932}, 0.6694043874740601], [6, {'F1-score': 0.04223931158741518}, {'NDCG': 0.06820185580535938}, 0.6241940259933472], [7, {'F1-score': 0.04472424625645027}, {'NDCG': 0.07029548350763612}, 0.6142300963401794], [8, {'F1-score': 0.04290899937899723}, {'NDCG': 0.06925275580803479}, 0.5995289087295532], [9, {'F1-score': 0.04355782601394225}, {'NDCG': 0.06926687848684203}, 0.5936050415039062], [10, {'F1-score': 0.04515040172211956}, {'NDCG': 0.07034251727758997}, 0.5631183981895447], [11, {'F1-score': 0.04443880060696239}, {'NDCG': 0.06966079903164304}, 0.5811899900436401], [12, {'F1-score': 0.04493371631063535}, {'NDCG': 0.07014683947751396}, 0.5719975233078003], [13, {'F1-score': 0.04565093364193787}, {'NDCG': 0.07099754219748695}, 0.5907054543495178], [14, {'F1-score': 0.04460370476914024}, {'NDCG': 0.06966909922876473}, 0.6000447869300842], [15, {'F1-score': 0.04515451072586205}, {'NDCG': 0.0703947995509252}, 0.5761183500289917], [16, {'F1-score': 0.04701275208181636}, {'NDCG': 0.07190614512288257}, 0.5787864327430725], [17, {'F1-score': 0.04395315981777069}, {'NDCG': 0.0696789747125056}, 0.5855261087417603], [18, {'F1-score': 0.04512002444079792}, {'NDCG': 0.07008551670189359}, 0.5888639688491821], [19, {'F1-score': 0.04589398412900888}, {'NDCG': 0.07090936102589271}, 0.5673319101333618], [20, {'F1-score': 0.04354598355720392}, {'NDCG': 0.06940149212662215}, 0.6078929305076599], [21, {'F1-score': 0.04496149679798609}, {'NDCG': 0.07024026605391637}, 0.5779813528060913], [22, {'F1-score': 0.04627983692977624}, {'NDCG': 0.07102968256843549}, 0.5800273418426514], [23, {'F1-score': 0.045970301863114446}, {'NDCG': 0.07065959585851576}, 0.5470777750015259], [24, {'F1-score': 0.0463723383857829}, {'NDCG': 0.07075474591036432}, 0.5513803362846375], [25, {'F1-score': 0.04518623687723846}, {'NDCG': 0.07005241675358406}, 0.565579891204834], [26, {'F1-score': 0.045791294911088916}, {'NDCG': 0.07047046630650311}, 0.5642924904823303], [27, {'F1-score': 0.04516315284252287}, {'NDCG': 0.07118766886161122}, 0.5898812413215637], [28, {'F1-score': 0.04576475042192481}, {'NDCG': 0.07046511895863578}, 0.5653799176216125], [29, {'F1-score': 0.0465399900159111}, {'NDCG': 0.07098571418546476}, 0.5656462907791138], [30, {'F1-score': 0.04531047734974595}, {'NDCG': 0.0702926691821111}, 0.5791805386543274], [31, {'F1-score': 0.0457223058531297}, {'NDCG': 0.07075386763466313}, 0.572213888168335], [32, {'F1-score': 0.046583669062952124}, {'NDCG': 0.07216073586815562}, 0.6482391357421875], [33, {'F1-score': 0.04647101286346337}, {'NDCG': 0.07128521838379477}, 0.6065346002578735], [34, {'F1-score': 0.0456100121455687}, {'NDCG': 0.07065318853426304}, 0.6181027889251709], [35, {'F1-score': 0.04528497897632059}, {'NDCG': 0.07061878128740516}, 0.6007017493247986], [36, {'F1-score': 0.04486473654810486}, {'NDCG': 0.07047449536901668}, 0.6269128918647766], [37, {'F1-score': 0.045164433983955865}, {'NDCG': 0.07079721007082976}, 0.5920420289039612], [38, {'F1-score': 0.04546165401054673}, {'NDCG': 0.07172966375946999}, 0.6620692610740662]]\n",
      "-----------------------------------------------------------------------------------------\n"
     ]
    },
    {
     "name": "stderr",
     "output_type": "stream",
     "text": [
      "  0%|          | 1/932 [00:00<02:01,  7.69it/s]"
     ]
    },
    {
     "name": "stdout",
     "output_type": "stream",
     "text": [
      "Epoch 39: 0% , Loss: 1.256245\n"
     ]
    },
    {
     "name": "stderr",
     "output_type": "stream",
     "text": [
      " 11%|█         | 102/932 [00:12<01:36,  8.58it/s]"
     ]
    },
    {
     "name": "stdout",
     "output_type": "stream",
     "text": [
      "Epoch 39: 11% , Loss: 0.349178\n"
     ]
    },
    {
     "name": "stderr",
     "output_type": "stream",
     "text": [
      " 22%|██▏       | 202/932 [00:23<01:19,  9.14it/s]"
     ]
    },
    {
     "name": "stdout",
     "output_type": "stream",
     "text": [
      "Epoch 39: 21% , Loss: 0.482697\n"
     ]
    },
    {
     "name": "stderr",
     "output_type": "stream",
     "text": [
      " 32%|███▏      | 302/932 [00:36<01:18,  7.99it/s]"
     ]
    },
    {
     "name": "stdout",
     "output_type": "stream",
     "text": [
      "Epoch 39: 32% , Loss: 0.740880\n"
     ]
    },
    {
     "name": "stderr",
     "output_type": "stream",
     "text": [
      " 43%|████▎     | 402/932 [00:49<01:11,  7.41it/s]"
     ]
    },
    {
     "name": "stdout",
     "output_type": "stream",
     "text": [
      "Epoch 39: 43% , Loss: 0.106591\n"
     ]
    },
    {
     "name": "stderr",
     "output_type": "stream",
     "text": [
      " 54%|█████▍    | 502/932 [01:03<01:01,  6.97it/s]"
     ]
    },
    {
     "name": "stdout",
     "output_type": "stream",
     "text": [
      "Epoch 39: 54% , Loss: 0.469873\n"
     ]
    },
    {
     "name": "stderr",
     "output_type": "stream",
     "text": [
      " 65%|██████▍   | 602/932 [01:17<00:48,  6.76it/s]"
     ]
    },
    {
     "name": "stdout",
     "output_type": "stream",
     "text": [
      "Epoch 39: 64% , Loss: 0.122414\n"
     ]
    },
    {
     "name": "stderr",
     "output_type": "stream",
     "text": [
      " 75%|███████▌  | 702/932 [01:33<00:34,  6.73it/s]"
     ]
    },
    {
     "name": "stdout",
     "output_type": "stream",
     "text": [
      "Epoch 39: 75% , Loss: 0.477254\n"
     ]
    },
    {
     "name": "stderr",
     "output_type": "stream",
     "text": [
      " 86%|████████▌ | 802/932 [01:49<00:19,  6.67it/s]"
     ]
    },
    {
     "name": "stdout",
     "output_type": "stream",
     "text": [
      "Epoch 39: 86% , Loss: 0.197939\n"
     ]
    },
    {
     "name": "stderr",
     "output_type": "stream",
     "text": [
      " 97%|█████████▋| 902/932 [02:05<00:05,  5.57it/s]"
     ]
    },
    {
     "name": "stdout",
     "output_type": "stream",
     "text": [
      "Epoch 39: 97% , Loss: 0.131475\n"
     ]
    },
    {
     "name": "stderr",
     "output_type": "stream",
     "text": [
      "100%|██████████| 932/932 [02:10<00:00,  7.12it/s]\n"
     ]
    },
    {
     "name": "stdout",
     "output_type": "stream",
     "text": [
      "Epoch 39: 100% , Loss: 0.187266\n",
      "                      (F1-score: 0.0449)\n",
      "\n",
      "                      (NDCG: 0.0702)\n",
      "\n",
      "train_loss= tensor(0.3981)\n",
      "--------------------\n"
     ]
    },
    {
     "name": "stderr",
     "output_type": "stream",
     "text": [
      "100%|██████████| 133/133 [00:10<00:00, 12.50it/s]\n"
     ]
    },
    {
     "name": "stdout",
     "output_type": "stream",
     "text": [
      "                      (F1-score: 0.0415)\n",
      "\n",
      "                      (NDCG: 0.0676)\n",
      "\n",
      "val_loss= tensor(0.6213)\n",
      "--------------------\n"
     ]
    },
    {
     "name": "stderr",
     "output_type": "stream",
     "text": [
      "100%|██████████| 266/266 [00:21<00:00, 12.47it/s]\n"
     ]
    },
    {
     "name": "stdout",
     "output_type": "stream",
     "text": [
      "                      (F1-score: 0.0459)\n",
      "\n",
      "                      (NDCG: 0.0712)\n",
      "\n",
      "--------------------\n",
      "[[1, {'F1-score': 4.699248120300752e-05}, {'NDCG': 5.563101696228623e-05}, 0.7670180201530457], [2, {'F1-score': 0.00011487050960735171}, {'NDCG': 0.00014315448225216758}, 0.715857744216919], [3, {'F1-score': 0.018416218112489686}, {'NDCG': 0.021840268549950498}, 0.6940310597419739], [4, {'F1-score': 0.02642099617829246}, {'NDCG': 0.050063680437274445}, 0.7274060845375061], [5, {'F1-score': 0.03184700578141456}, {'NDCG': 0.0567162063399932}, 0.6694043874740601], [6, {'F1-score': 0.04223931158741518}, {'NDCG': 0.06820185580535938}, 0.6241940259933472], [7, {'F1-score': 0.04472424625645027}, {'NDCG': 0.07029548350763612}, 0.6142300963401794], [8, {'F1-score': 0.04290899937899723}, {'NDCG': 0.06925275580803479}, 0.5995289087295532], [9, {'F1-score': 0.04355782601394225}, {'NDCG': 0.06926687848684203}, 0.5936050415039062], [10, {'F1-score': 0.04515040172211956}, {'NDCG': 0.07034251727758997}, 0.5631183981895447], [11, {'F1-score': 0.04443880060696239}, {'NDCG': 0.06966079903164304}, 0.5811899900436401], [12, {'F1-score': 0.04493371631063535}, {'NDCG': 0.07014683947751396}, 0.5719975233078003], [13, {'F1-score': 0.04565093364193787}, {'NDCG': 0.07099754219748695}, 0.5907054543495178], [14, {'F1-score': 0.04460370476914024}, {'NDCG': 0.06966909922876473}, 0.6000447869300842], [15, {'F1-score': 0.04515451072586205}, {'NDCG': 0.0703947995509252}, 0.5761183500289917], [16, {'F1-score': 0.04701275208181636}, {'NDCG': 0.07190614512288257}, 0.5787864327430725], [17, {'F1-score': 0.04395315981777069}, {'NDCG': 0.0696789747125056}, 0.5855261087417603], [18, {'F1-score': 0.04512002444079792}, {'NDCG': 0.07008551670189359}, 0.5888639688491821], [19, {'F1-score': 0.04589398412900888}, {'NDCG': 0.07090936102589271}, 0.5673319101333618], [20, {'F1-score': 0.04354598355720392}, {'NDCG': 0.06940149212662215}, 0.6078929305076599], [21, {'F1-score': 0.04496149679798609}, {'NDCG': 0.07024026605391637}, 0.5779813528060913], [22, {'F1-score': 0.04627983692977624}, {'NDCG': 0.07102968256843549}, 0.5800273418426514], [23, {'F1-score': 0.045970301863114446}, {'NDCG': 0.07065959585851576}, 0.5470777750015259], [24, {'F1-score': 0.0463723383857829}, {'NDCG': 0.07075474591036432}, 0.5513803362846375], [25, {'F1-score': 0.04518623687723846}, {'NDCG': 0.07005241675358406}, 0.565579891204834], [26, {'F1-score': 0.045791294911088916}, {'NDCG': 0.07047046630650311}, 0.5642924904823303], [27, {'F1-score': 0.04516315284252287}, {'NDCG': 0.07118766886161122}, 0.5898812413215637], [28, {'F1-score': 0.04576475042192481}, {'NDCG': 0.07046511895863578}, 0.5653799176216125], [29, {'F1-score': 0.0465399900159111}, {'NDCG': 0.07098571418546476}, 0.5656462907791138], [30, {'F1-score': 0.04531047734974595}, {'NDCG': 0.0702926691821111}, 0.5791805386543274], [31, {'F1-score': 0.0457223058531297}, {'NDCG': 0.07075386763466313}, 0.572213888168335], [32, {'F1-score': 0.046583669062952124}, {'NDCG': 0.07216073586815562}, 0.6482391357421875], [33, {'F1-score': 0.04647101286346337}, {'NDCG': 0.07128521838379477}, 0.6065346002578735], [34, {'F1-score': 0.0456100121455687}, {'NDCG': 0.07065318853426304}, 0.6181027889251709], [35, {'F1-score': 0.04528497897632059}, {'NDCG': 0.07061878128740516}, 0.6007017493247986], [36, {'F1-score': 0.04486473654810486}, {'NDCG': 0.07047449536901668}, 0.6269128918647766], [37, {'F1-score': 0.045164433983955865}, {'NDCG': 0.07079721007082976}, 0.5920420289039612], [38, {'F1-score': 0.04546165401054673}, {'NDCG': 0.07172966375946999}, 0.6620692610740662], [39, {'F1-score': 0.04594511935240465}, {'NDCG': 0.07116381551447164}, 0.6213195323944092]]\n",
      "-----------------------------------------------------------------------------------------\n"
     ]
    },
    {
     "name": "stderr",
     "output_type": "stream",
     "text": [
      "\r",
      "  0%|          | 0/932 [00:00<?, ?it/s]"
     ]
    },
    {
     "name": "stdout",
     "output_type": "stream",
     "text": [
      "Epoch 40: 0% , Loss: 0.159306\n"
     ]
    },
    {
     "name": "stderr",
     "output_type": "stream",
     "text": [
      " 11%|█         | 102/932 [00:11<01:27,  9.45it/s]"
     ]
    },
    {
     "name": "stdout",
     "output_type": "stream",
     "text": [
      "Epoch 40: 11% , Loss: 0.240527\n"
     ]
    },
    {
     "name": "stderr",
     "output_type": "stream",
     "text": [
      " 22%|██▏       | 202/932 [00:23<01:26,  8.48it/s]"
     ]
    },
    {
     "name": "stdout",
     "output_type": "stream",
     "text": [
      "Epoch 40: 21% , Loss: 0.540720\n"
     ]
    },
    {
     "name": "stderr",
     "output_type": "stream",
     "text": [
      " 32%|███▏      | 302/932 [00:36<01:21,  7.73it/s]"
     ]
    },
    {
     "name": "stdout",
     "output_type": "stream",
     "text": [
      "Epoch 40: 32% , Loss: 0.060223\n"
     ]
    },
    {
     "name": "stderr",
     "output_type": "stream",
     "text": [
      " 43%|████▎     | 402/932 [00:49<01:19,  6.64it/s]"
     ]
    },
    {
     "name": "stdout",
     "output_type": "stream",
     "text": [
      "Epoch 40: 43% , Loss: 0.199556\n"
     ]
    },
    {
     "name": "stderr",
     "output_type": "stream",
     "text": [
      " 54%|█████▍    | 502/932 [01:03<00:59,  7.24it/s]"
     ]
    },
    {
     "name": "stdout",
     "output_type": "stream",
     "text": [
      "Epoch 40: 54% , Loss: 0.075238\n"
     ]
    },
    {
     "name": "stderr",
     "output_type": "stream",
     "text": [
      " 65%|██████▍   | 602/932 [01:18<00:47,  7.00it/s]"
     ]
    },
    {
     "name": "stdout",
     "output_type": "stream",
     "text": [
      "Epoch 40: 64% , Loss: 0.683081\n"
     ]
    },
    {
     "name": "stderr",
     "output_type": "stream",
     "text": [
      " 75%|███████▌  | 701/932 [01:33<00:34,  6.64it/s]"
     ]
    },
    {
     "name": "stdout",
     "output_type": "stream",
     "text": [
      "Epoch 40: 75% , Loss: 0.209799\n"
     ]
    },
    {
     "name": "stderr",
     "output_type": "stream",
     "text": [
      " 86%|████████▌ | 802/932 [01:49<00:21,  5.93it/s]"
     ]
    },
    {
     "name": "stdout",
     "output_type": "stream",
     "text": [
      "Epoch 40: 86% , Loss: 0.359646\n"
     ]
    },
    {
     "name": "stderr",
     "output_type": "stream",
     "text": [
      " 97%|█████████▋| 901/932 [02:05<00:05,  5.76it/s]"
     ]
    },
    {
     "name": "stdout",
     "output_type": "stream",
     "text": [
      "Epoch 40: 97% , Loss: 0.076871\n"
     ]
    },
    {
     "name": "stderr",
     "output_type": "stream",
     "text": [
      "100%|██████████| 932/932 [02:10<00:00,  7.12it/s]"
     ]
    },
    {
     "name": "stdout",
     "output_type": "stream",
     "text": [
      "Epoch 40: 100% , Loss: 0.398823\n"
     ]
    },
    {
     "name": "stderr",
     "output_type": "stream",
     "text": [
      "\n"
     ]
    },
    {
     "name": "stdout",
     "output_type": "stream",
     "text": [
      "                      (F1-score: 0.0449)\n",
      "\n",
      "                      (NDCG: 0.0699)\n",
      "\n",
      "train_loss= tensor(0.3940)\n",
      "--------------------\n"
     ]
    },
    {
     "name": "stderr",
     "output_type": "stream",
     "text": [
      "100%|██████████| 133/133 [00:10<00:00, 13.01it/s]\n"
     ]
    },
    {
     "name": "stdout",
     "output_type": "stream",
     "text": [
      "                      (F1-score: 0.0423)\n",
      "\n",
      "                      (NDCG: 0.0681)\n",
      "\n",
      "val_loss= tensor(0.6463)\n",
      "--------------------\n"
     ]
    },
    {
     "name": "stderr",
     "output_type": "stream",
     "text": [
      "100%|██████████| 266/266 [00:21<00:00, 12.62it/s]\n"
     ]
    },
    {
     "name": "stdout",
     "output_type": "stream",
     "text": [
      "                      (F1-score: 0.0458)\n",
      "\n",
      "                      (NDCG: 0.0716)\n",
      "\n",
      "--------------------\n",
      "[[1, {'F1-score': 4.699248120300752e-05}, {'NDCG': 5.563101696228623e-05}, 0.7670180201530457], [2, {'F1-score': 0.00011487050960735171}, {'NDCG': 0.00014315448225216758}, 0.715857744216919], [3, {'F1-score': 0.018416218112489686}, {'NDCG': 0.021840268549950498}, 0.6940310597419739], [4, {'F1-score': 0.02642099617829246}, {'NDCG': 0.050063680437274445}, 0.7274060845375061], [5, {'F1-score': 0.03184700578141456}, {'NDCG': 0.0567162063399932}, 0.6694043874740601], [6, {'F1-score': 0.04223931158741518}, {'NDCG': 0.06820185580535938}, 0.6241940259933472], [7, {'F1-score': 0.04472424625645027}, {'NDCG': 0.07029548350763612}, 0.6142300963401794], [8, {'F1-score': 0.04290899937899723}, {'NDCG': 0.06925275580803479}, 0.5995289087295532], [9, {'F1-score': 0.04355782601394225}, {'NDCG': 0.06926687848684203}, 0.5936050415039062], [10, {'F1-score': 0.04515040172211956}, {'NDCG': 0.07034251727758997}, 0.5631183981895447], [11, {'F1-score': 0.04443880060696239}, {'NDCG': 0.06966079903164304}, 0.5811899900436401], [12, {'F1-score': 0.04493371631063535}, {'NDCG': 0.07014683947751396}, 0.5719975233078003], [13, {'F1-score': 0.04565093364193787}, {'NDCG': 0.07099754219748695}, 0.5907054543495178], [14, {'F1-score': 0.04460370476914024}, {'NDCG': 0.06966909922876473}, 0.6000447869300842], [15, {'F1-score': 0.04515451072586205}, {'NDCG': 0.0703947995509252}, 0.5761183500289917], [16, {'F1-score': 0.04701275208181636}, {'NDCG': 0.07190614512288257}, 0.5787864327430725], [17, {'F1-score': 0.04395315981777069}, {'NDCG': 0.0696789747125056}, 0.5855261087417603], [18, {'F1-score': 0.04512002444079792}, {'NDCG': 0.07008551670189359}, 0.5888639688491821], [19, {'F1-score': 0.04589398412900888}, {'NDCG': 0.07090936102589271}, 0.5673319101333618], [20, {'F1-score': 0.04354598355720392}, {'NDCG': 0.06940149212662215}, 0.6078929305076599], [21, {'F1-score': 0.04496149679798609}, {'NDCG': 0.07024026605391637}, 0.5779813528060913], [22, {'F1-score': 0.04627983692977624}, {'NDCG': 0.07102968256843549}, 0.5800273418426514], [23, {'F1-score': 0.045970301863114446}, {'NDCG': 0.07065959585851576}, 0.5470777750015259], [24, {'F1-score': 0.0463723383857829}, {'NDCG': 0.07075474591036432}, 0.5513803362846375], [25, {'F1-score': 0.04518623687723846}, {'NDCG': 0.07005241675358406}, 0.565579891204834], [26, {'F1-score': 0.045791294911088916}, {'NDCG': 0.07047046630650311}, 0.5642924904823303], [27, {'F1-score': 0.04516315284252287}, {'NDCG': 0.07118766886161122}, 0.5898812413215637], [28, {'F1-score': 0.04576475042192481}, {'NDCG': 0.07046511895863578}, 0.5653799176216125], [29, {'F1-score': 0.0465399900159111}, {'NDCG': 0.07098571418546476}, 0.5656462907791138], [30, {'F1-score': 0.04531047734974595}, {'NDCG': 0.0702926691821111}, 0.5791805386543274], [31, {'F1-score': 0.0457223058531297}, {'NDCG': 0.07075386763466313}, 0.572213888168335], [32, {'F1-score': 0.046583669062952124}, {'NDCG': 0.07216073586815562}, 0.6482391357421875], [33, {'F1-score': 0.04647101286346337}, {'NDCG': 0.07128521838379477}, 0.6065346002578735], [34, {'F1-score': 0.0456100121455687}, {'NDCG': 0.07065318853426304}, 0.6181027889251709], [35, {'F1-score': 0.04528497897632059}, {'NDCG': 0.07061878128740516}, 0.6007017493247986], [36, {'F1-score': 0.04486473654810486}, {'NDCG': 0.07047449536901668}, 0.6269128918647766], [37, {'F1-score': 0.045164433983955865}, {'NDCG': 0.07079721007082976}, 0.5920420289039612], [38, {'F1-score': 0.04546165401054673}, {'NDCG': 0.07172966375946999}, 0.6620692610740662], [39, {'F1-score': 0.04594511935240465}, {'NDCG': 0.07116381551447164}, 0.6213195323944092], [40, {'F1-score': 0.045820011000115846}, {'NDCG': 0.07160317251297708}, 0.6462869048118591]]\n",
      "-----------------------------------------------------------------------------------------\n"
     ]
    },
    {
     "name": "stderr",
     "output_type": "stream",
     "text": [
      "  0%|          | 2/932 [00:00<01:44,  8.89it/s]"
     ]
    },
    {
     "name": "stdout",
     "output_type": "stream",
     "text": [
      "Epoch 41: 0% , Loss: 0.248758\n"
     ]
    },
    {
     "name": "stderr",
     "output_type": "stream",
     "text": [
      " 11%|█         | 102/932 [00:11<01:32,  8.97it/s]"
     ]
    },
    {
     "name": "stdout",
     "output_type": "stream",
     "text": [
      "Epoch 41: 11% , Loss: 0.104897\n"
     ]
    },
    {
     "name": "stderr",
     "output_type": "stream",
     "text": [
      " 22%|██▏       | 202/932 [00:23<01:26,  8.43it/s]"
     ]
    },
    {
     "name": "stdout",
     "output_type": "stream",
     "text": [
      "Epoch 41: 21% , Loss: 0.065729\n"
     ]
    },
    {
     "name": "stderr",
     "output_type": "stream",
     "text": [
      " 32%|███▏      | 302/932 [00:36<01:22,  7.67it/s]"
     ]
    },
    {
     "name": "stdout",
     "output_type": "stream",
     "text": [
      "Epoch 41: 32% , Loss: 0.269558\n"
     ]
    },
    {
     "name": "stderr",
     "output_type": "stream",
     "text": [
      " 43%|████▎     | 402/932 [00:49<01:14,  7.16it/s]"
     ]
    },
    {
     "name": "stdout",
     "output_type": "stream",
     "text": [
      "Epoch 41: 43% , Loss: 0.250356\n"
     ]
    },
    {
     "name": "stderr",
     "output_type": "stream",
     "text": [
      " 54%|█████▍    | 502/932 [01:03<00:58,  7.40it/s]"
     ]
    },
    {
     "name": "stdout",
     "output_type": "stream",
     "text": [
      "Epoch 41: 54% , Loss: 1.273102\n"
     ]
    },
    {
     "name": "stderr",
     "output_type": "stream",
     "text": [
      " 65%|██████▍   | 602/932 [01:18<00:47,  6.96it/s]"
     ]
    },
    {
     "name": "stdout",
     "output_type": "stream",
     "text": [
      "Epoch 41: 64% , Loss: 0.106155\n"
     ]
    },
    {
     "name": "stderr",
     "output_type": "stream",
     "text": [
      " 75%|███████▌  | 702/932 [01:33<00:33,  6.78it/s]"
     ]
    },
    {
     "name": "stdout",
     "output_type": "stream",
     "text": [
      "Epoch 41: 75% , Loss: 0.293618\n"
     ]
    },
    {
     "name": "stderr",
     "output_type": "stream",
     "text": [
      " 86%|████████▌ | 802/932 [01:49<00:19,  6.58it/s]"
     ]
    },
    {
     "name": "stdout",
     "output_type": "stream",
     "text": [
      "Epoch 41: 86% , Loss: 0.988913\n"
     ]
    },
    {
     "name": "stderr",
     "output_type": "stream",
     "text": [
      " 97%|█████████▋| 901/932 [02:05<00:05,  6.14it/s]"
     ]
    },
    {
     "name": "stdout",
     "output_type": "stream",
     "text": [
      "Epoch 41: 97% , Loss: 0.192991\n"
     ]
    },
    {
     "name": "stderr",
     "output_type": "stream",
     "text": [
      "100%|██████████| 932/932 [02:10<00:00,  7.13it/s]\n"
     ]
    },
    {
     "name": "stdout",
     "output_type": "stream",
     "text": [
      "Epoch 41: 100% , Loss: 0.232601\n",
      "                      (F1-score: 0.0449)\n",
      "\n",
      "                      (NDCG: 0.0701)\n",
      "\n",
      "train_loss= tensor(0.3879)\n",
      "--------------------\n"
     ]
    },
    {
     "name": "stderr",
     "output_type": "stream",
     "text": [
      "100%|██████████| 133/133 [00:10<00:00, 12.96it/s]\n"
     ]
    },
    {
     "name": "stdout",
     "output_type": "stream",
     "text": [
      "                      (F1-score: 0.0417)\n",
      "\n",
      "                      (NDCG: 0.0669)\n",
      "\n",
      "val_loss= tensor(0.6194)\n",
      "--------------------\n"
     ]
    },
    {
     "name": "stderr",
     "output_type": "stream",
     "text": [
      "100%|██████████| 266/266 [00:21<00:00, 12.44it/s]\n"
     ]
    },
    {
     "name": "stdout",
     "output_type": "stream",
     "text": [
      "                      (F1-score: 0.0462)\n",
      "\n",
      "                      (NDCG: 0.0713)\n",
      "\n",
      "--------------------\n",
      "[[1, {'F1-score': 4.699248120300752e-05}, {'NDCG': 5.563101696228623e-05}, 0.7670180201530457], [2, {'F1-score': 0.00011487050960735171}, {'NDCG': 0.00014315448225216758}, 0.715857744216919], [3, {'F1-score': 0.018416218112489686}, {'NDCG': 0.021840268549950498}, 0.6940310597419739], [4, {'F1-score': 0.02642099617829246}, {'NDCG': 0.050063680437274445}, 0.7274060845375061], [5, {'F1-score': 0.03184700578141456}, {'NDCG': 0.0567162063399932}, 0.6694043874740601], [6, {'F1-score': 0.04223931158741518}, {'NDCG': 0.06820185580535938}, 0.6241940259933472], [7, {'F1-score': 0.04472424625645027}, {'NDCG': 0.07029548350763612}, 0.6142300963401794], [8, {'F1-score': 0.04290899937899723}, {'NDCG': 0.06925275580803479}, 0.5995289087295532], [9, {'F1-score': 0.04355782601394225}, {'NDCG': 0.06926687848684203}, 0.5936050415039062], [10, {'F1-score': 0.04515040172211956}, {'NDCG': 0.07034251727758997}, 0.5631183981895447], [11, {'F1-score': 0.04443880060696239}, {'NDCG': 0.06966079903164304}, 0.5811899900436401], [12, {'F1-score': 0.04493371631063535}, {'NDCG': 0.07014683947751396}, 0.5719975233078003], [13, {'F1-score': 0.04565093364193787}, {'NDCG': 0.07099754219748695}, 0.5907054543495178], [14, {'F1-score': 0.04460370476914024}, {'NDCG': 0.06966909922876473}, 0.6000447869300842], [15, {'F1-score': 0.04515451072586205}, {'NDCG': 0.0703947995509252}, 0.5761183500289917], [16, {'F1-score': 0.04701275208181636}, {'NDCG': 0.07190614512288257}, 0.5787864327430725], [17, {'F1-score': 0.04395315981777069}, {'NDCG': 0.0696789747125056}, 0.5855261087417603], [18, {'F1-score': 0.04512002444079792}, {'NDCG': 0.07008551670189359}, 0.5888639688491821], [19, {'F1-score': 0.04589398412900888}, {'NDCG': 0.07090936102589271}, 0.5673319101333618], [20, {'F1-score': 0.04354598355720392}, {'NDCG': 0.06940149212662215}, 0.6078929305076599], [21, {'F1-score': 0.04496149679798609}, {'NDCG': 0.07024026605391637}, 0.5779813528060913], [22, {'F1-score': 0.04627983692977624}, {'NDCG': 0.07102968256843549}, 0.5800273418426514], [23, {'F1-score': 0.045970301863114446}, {'NDCG': 0.07065959585851576}, 0.5470777750015259], [24, {'F1-score': 0.0463723383857829}, {'NDCG': 0.07075474591036432}, 0.5513803362846375], [25, {'F1-score': 0.04518623687723846}, {'NDCG': 0.07005241675358406}, 0.565579891204834], [26, {'F1-score': 0.045791294911088916}, {'NDCG': 0.07047046630650311}, 0.5642924904823303], [27, {'F1-score': 0.04516315284252287}, {'NDCG': 0.07118766886161122}, 0.5898812413215637], [28, {'F1-score': 0.04576475042192481}, {'NDCG': 0.07046511895863578}, 0.5653799176216125], [29, {'F1-score': 0.0465399900159111}, {'NDCG': 0.07098571418546476}, 0.5656462907791138], [30, {'F1-score': 0.04531047734974595}, {'NDCG': 0.0702926691821111}, 0.5791805386543274], [31, {'F1-score': 0.0457223058531297}, {'NDCG': 0.07075386763466313}, 0.572213888168335], [32, {'F1-score': 0.046583669062952124}, {'NDCG': 0.07216073586815562}, 0.6482391357421875], [33, {'F1-score': 0.04647101286346337}, {'NDCG': 0.07128521838379477}, 0.6065346002578735], [34, {'F1-score': 0.0456100121455687}, {'NDCG': 0.07065318853426304}, 0.6181027889251709], [35, {'F1-score': 0.04528497897632059}, {'NDCG': 0.07061878128740516}, 0.6007017493247986], [36, {'F1-score': 0.04486473654810486}, {'NDCG': 0.07047449536901668}, 0.6269128918647766], [37, {'F1-score': 0.045164433983955865}, {'NDCG': 0.07079721007082976}, 0.5920420289039612], [38, {'F1-score': 0.04546165401054673}, {'NDCG': 0.07172966375946999}, 0.6620692610740662], [39, {'F1-score': 0.04594511935240465}, {'NDCG': 0.07116381551447164}, 0.6213195323944092], [40, {'F1-score': 0.045820011000115846}, {'NDCG': 0.07160317251297708}, 0.6462869048118591], [41, {'F1-score': 0.046237982643000476}, {'NDCG': 0.07130319708293038}, 0.6194282174110413]]\n",
      "-----------------------------------------------------------------------------------------\n"
     ]
    },
    {
     "name": "stderr",
     "output_type": "stream",
     "text": [
      "  0%|          | 2/932 [00:00<01:57,  7.89it/s]"
     ]
    },
    {
     "name": "stdout",
     "output_type": "stream",
     "text": [
      "Epoch 42: 0% , Loss: 0.111594\n"
     ]
    },
    {
     "name": "stderr",
     "output_type": "stream",
     "text": [
      " 11%|█         | 102/932 [00:11<01:35,  8.72it/s]"
     ]
    },
    {
     "name": "stdout",
     "output_type": "stream",
     "text": [
      "Epoch 42: 11% , Loss: 0.165733\n"
     ]
    },
    {
     "name": "stderr",
     "output_type": "stream",
     "text": [
      " 22%|██▏       | 202/932 [00:22<01:24,  8.65it/s]"
     ]
    },
    {
     "name": "stdout",
     "output_type": "stream",
     "text": [
      "Epoch 42: 21% , Loss: 0.233609\n"
     ]
    },
    {
     "name": "stderr",
     "output_type": "stream",
     "text": [
      " 32%|███▏      | 302/932 [00:35<01:24,  7.43it/s]"
     ]
    },
    {
     "name": "stdout",
     "output_type": "stream",
     "text": [
      "Epoch 42: 32% , Loss: 0.125457\n"
     ]
    },
    {
     "name": "stderr",
     "output_type": "stream",
     "text": [
      " 43%|████▎     | 402/932 [00:49<01:15,  7.05it/s]"
     ]
    },
    {
     "name": "stdout",
     "output_type": "stream",
     "text": [
      "Epoch 42: 43% , Loss: 0.202283\n"
     ]
    },
    {
     "name": "stderr",
     "output_type": "stream",
     "text": [
      " 54%|█████▍    | 502/932 [01:02<01:06,  6.51it/s]"
     ]
    },
    {
     "name": "stdout",
     "output_type": "stream",
     "text": [
      "Epoch 42: 54% , Loss: 0.287035\n"
     ]
    },
    {
     "name": "stderr",
     "output_type": "stream",
     "text": [
      " 65%|██████▍   | 602/932 [01:17<00:51,  6.46it/s]"
     ]
    },
    {
     "name": "stdout",
     "output_type": "stream",
     "text": [
      "Epoch 42: 64% , Loss: 0.441950\n"
     ]
    },
    {
     "name": "stderr",
     "output_type": "stream",
     "text": [
      " 75%|███████▌  | 702/932 [01:32<00:33,  6.78it/s]"
     ]
    },
    {
     "name": "stdout",
     "output_type": "stream",
     "text": [
      "Epoch 42: 75% , Loss: 0.230807\n"
     ]
    },
    {
     "name": "stderr",
     "output_type": "stream",
     "text": [
      " 86%|████████▌ | 801/932 [01:48<00:20,  6.24it/s]"
     ]
    },
    {
     "name": "stdout",
     "output_type": "stream",
     "text": [
      "Epoch 42: 86% , Loss: 0.109604\n"
     ]
    },
    {
     "name": "stderr",
     "output_type": "stream",
     "text": [
      " 97%|█████████▋| 901/932 [02:05<00:05,  5.74it/s]"
     ]
    },
    {
     "name": "stdout",
     "output_type": "stream",
     "text": [
      "Epoch 42: 97% , Loss: 0.150090\n"
     ]
    },
    {
     "name": "stderr",
     "output_type": "stream",
     "text": [
      "100%|██████████| 932/932 [02:10<00:00,  7.13it/s]\n"
     ]
    },
    {
     "name": "stdout",
     "output_type": "stream",
     "text": [
      "Epoch 42: 100% , Loss: 0.239625\n",
      "                      (F1-score: 0.0457)\n",
      "\n",
      "                      (NDCG: 0.0706)\n",
      "\n",
      "train_loss= tensor(0.3885)\n",
      "--------------------\n"
     ]
    },
    {
     "name": "stderr",
     "output_type": "stream",
     "text": [
      "100%|██████████| 133/133 [00:10<00:00, 13.06it/s]\n"
     ]
    },
    {
     "name": "stdout",
     "output_type": "stream",
     "text": [
      "                      (F1-score: 0.0419)\n",
      "\n",
      "                      (NDCG: 0.0681)\n",
      "\n",
      "val_loss= tensor(0.6354)\n",
      "--------------------\n"
     ]
    },
    {
     "name": "stderr",
     "output_type": "stream",
     "text": [
      "100%|██████████| 266/266 [00:20<00:00, 12.82it/s]\n"
     ]
    },
    {
     "name": "stdout",
     "output_type": "stream",
     "text": [
      "                      (F1-score: 0.0457)\n",
      "\n",
      "                      (NDCG: 0.0717)\n",
      "\n",
      "--------------------\n",
      "[[1, {'F1-score': 4.699248120300752e-05}, {'NDCG': 5.563101696228623e-05}, 0.7670180201530457], [2, {'F1-score': 0.00011487050960735171}, {'NDCG': 0.00014315448225216758}, 0.715857744216919], [3, {'F1-score': 0.018416218112489686}, {'NDCG': 0.021840268549950498}, 0.6940310597419739], [4, {'F1-score': 0.02642099617829246}, {'NDCG': 0.050063680437274445}, 0.7274060845375061], [5, {'F1-score': 0.03184700578141456}, {'NDCG': 0.0567162063399932}, 0.6694043874740601], [6, {'F1-score': 0.04223931158741518}, {'NDCG': 0.06820185580535938}, 0.6241940259933472], [7, {'F1-score': 0.04472424625645027}, {'NDCG': 0.07029548350763612}, 0.6142300963401794], [8, {'F1-score': 0.04290899937899723}, {'NDCG': 0.06925275580803479}, 0.5995289087295532], [9, {'F1-score': 0.04355782601394225}, {'NDCG': 0.06926687848684203}, 0.5936050415039062], [10, {'F1-score': 0.04515040172211956}, {'NDCG': 0.07034251727758997}, 0.5631183981895447], [11, {'F1-score': 0.04443880060696239}, {'NDCG': 0.06966079903164304}, 0.5811899900436401], [12, {'F1-score': 0.04493371631063535}, {'NDCG': 0.07014683947751396}, 0.5719975233078003], [13, {'F1-score': 0.04565093364193787}, {'NDCG': 0.07099754219748695}, 0.5907054543495178], [14, {'F1-score': 0.04460370476914024}, {'NDCG': 0.06966909922876473}, 0.6000447869300842], [15, {'F1-score': 0.04515451072586205}, {'NDCG': 0.0703947995509252}, 0.5761183500289917], [16, {'F1-score': 0.04701275208181636}, {'NDCG': 0.07190614512288257}, 0.5787864327430725], [17, {'F1-score': 0.04395315981777069}, {'NDCG': 0.0696789747125056}, 0.5855261087417603], [18, {'F1-score': 0.04512002444079792}, {'NDCG': 0.07008551670189359}, 0.5888639688491821], [19, {'F1-score': 0.04589398412900888}, {'NDCG': 0.07090936102589271}, 0.5673319101333618], [20, {'F1-score': 0.04354598355720392}, {'NDCG': 0.06940149212662215}, 0.6078929305076599], [21, {'F1-score': 0.04496149679798609}, {'NDCG': 0.07024026605391637}, 0.5779813528060913], [22, {'F1-score': 0.04627983692977624}, {'NDCG': 0.07102968256843549}, 0.5800273418426514], [23, {'F1-score': 0.045970301863114446}, {'NDCG': 0.07065959585851576}, 0.5470777750015259], [24, {'F1-score': 0.0463723383857829}, {'NDCG': 0.07075474591036432}, 0.5513803362846375], [25, {'F1-score': 0.04518623687723846}, {'NDCG': 0.07005241675358406}, 0.565579891204834], [26, {'F1-score': 0.045791294911088916}, {'NDCG': 0.07047046630650311}, 0.5642924904823303], [27, {'F1-score': 0.04516315284252287}, {'NDCG': 0.07118766886161122}, 0.5898812413215637], [28, {'F1-score': 0.04576475042192481}, {'NDCG': 0.07046511895863578}, 0.5653799176216125], [29, {'F1-score': 0.0465399900159111}, {'NDCG': 0.07098571418546476}, 0.5656462907791138], [30, {'F1-score': 0.04531047734974595}, {'NDCG': 0.0702926691821111}, 0.5791805386543274], [31, {'F1-score': 0.0457223058531297}, {'NDCG': 0.07075386763466313}, 0.572213888168335], [32, {'F1-score': 0.046583669062952124}, {'NDCG': 0.07216073586815562}, 0.6482391357421875], [33, {'F1-score': 0.04647101286346337}, {'NDCG': 0.07128521838379477}, 0.6065346002578735], [34, {'F1-score': 0.0456100121455687}, {'NDCG': 0.07065318853426304}, 0.6181027889251709], [35, {'F1-score': 0.04528497897632059}, {'NDCG': 0.07061878128740516}, 0.6007017493247986], [36, {'F1-score': 0.04486473654810486}, {'NDCG': 0.07047449536901668}, 0.6269128918647766], [37, {'F1-score': 0.045164433983955865}, {'NDCG': 0.07079721007082976}, 0.5920420289039612], [38, {'F1-score': 0.04546165401054673}, {'NDCG': 0.07172966375946999}, 0.6620692610740662], [39, {'F1-score': 0.04594511935240465}, {'NDCG': 0.07116381551447164}, 0.6213195323944092], [40, {'F1-score': 0.045820011000115846}, {'NDCG': 0.07160317251297708}, 0.6462869048118591], [41, {'F1-score': 0.046237982643000476}, {'NDCG': 0.07130319708293038}, 0.6194282174110413], [42, {'F1-score': 0.04572700800205913}, {'NDCG': 0.07172171357682997}, 0.635358989238739]]\n",
      "-----------------------------------------------------------------------------------------\n"
     ]
    },
    {
     "name": "stderr",
     "output_type": "stream",
     "text": [
      "  0%|          | 2/932 [00:00<01:47,  8.62it/s]"
     ]
    },
    {
     "name": "stdout",
     "output_type": "stream",
     "text": [
      "Epoch 43: 0% , Loss: 0.189819\n"
     ]
    },
    {
     "name": "stderr",
     "output_type": "stream",
     "text": [
      " 11%|█         | 102/932 [00:11<01:34,  8.78it/s]"
     ]
    },
    {
     "name": "stdout",
     "output_type": "stream",
     "text": [
      "Epoch 43: 11% , Loss: 0.130139\n"
     ]
    },
    {
     "name": "stderr",
     "output_type": "stream",
     "text": [
      " 22%|██▏       | 202/932 [00:23<01:34,  7.75it/s]"
     ]
    },
    {
     "name": "stdout",
     "output_type": "stream",
     "text": [
      "Epoch 43: 21% , Loss: 0.187649\n"
     ]
    },
    {
     "name": "stderr",
     "output_type": "stream",
     "text": [
      " 32%|███▏      | 302/932 [00:36<01:22,  7.66it/s]"
     ]
    },
    {
     "name": "stdout",
     "output_type": "stream",
     "text": [
      "Epoch 43: 32% , Loss: 0.067779\n"
     ]
    },
    {
     "name": "stderr",
     "output_type": "stream",
     "text": [
      " 43%|████▎     | 402/932 [00:49<01:07,  7.87it/s]"
     ]
    },
    {
     "name": "stdout",
     "output_type": "stream",
     "text": [
      "Epoch 43: 43% , Loss: 0.183689\n"
     ]
    },
    {
     "name": "stderr",
     "output_type": "stream",
     "text": [
      " 54%|█████▍    | 502/932 [01:03<00:59,  7.23it/s]"
     ]
    },
    {
     "name": "stdout",
     "output_type": "stream",
     "text": [
      "Epoch 43: 54% , Loss: 1.415302\n"
     ]
    },
    {
     "name": "stderr",
     "output_type": "stream",
     "text": [
      " 65%|██████▍   | 602/932 [01:17<00:49,  6.70it/s]"
     ]
    },
    {
     "name": "stdout",
     "output_type": "stream",
     "text": [
      "Epoch 43: 64% , Loss: 0.350329\n"
     ]
    },
    {
     "name": "stderr",
     "output_type": "stream",
     "text": [
      " 75%|███████▌  | 701/932 [01:32<00:33,  6.94it/s]"
     ]
    },
    {
     "name": "stdout",
     "output_type": "stream",
     "text": [
      "Epoch 43: 75% , Loss: 0.118835\n"
     ]
    },
    {
     "name": "stderr",
     "output_type": "stream",
     "text": [
      " 86%|████████▌ | 802/932 [01:49<00:20,  6.29it/s]"
     ]
    },
    {
     "name": "stdout",
     "output_type": "stream",
     "text": [
      "Epoch 43: 86% , Loss: 0.086203\n"
     ]
    },
    {
     "name": "stderr",
     "output_type": "stream",
     "text": [
      " 97%|█████████▋| 902/932 [02:05<00:05,  5.99it/s]"
     ]
    },
    {
     "name": "stdout",
     "output_type": "stream",
     "text": [
      "Epoch 43: 97% , Loss: 0.401554\n"
     ]
    },
    {
     "name": "stderr",
     "output_type": "stream",
     "text": [
      "100%|██████████| 932/932 [02:10<00:00,  7.13it/s]"
     ]
    },
    {
     "name": "stdout",
     "output_type": "stream",
     "text": [
      "Epoch 43: 100% , Loss: 1.585524\n"
     ]
    },
    {
     "name": "stderr",
     "output_type": "stream",
     "text": [
      "\n"
     ]
    },
    {
     "name": "stdout",
     "output_type": "stream",
     "text": [
      "                      (F1-score: 0.0451)\n",
      "\n",
      "                      (NDCG: 0.0701)\n",
      "\n",
      "train_loss= tensor(0.3849)\n",
      "--------------------\n"
     ]
    },
    {
     "name": "stderr",
     "output_type": "stream",
     "text": [
      "100%|██████████| 133/133 [00:10<00:00, 12.79it/s]\n"
     ]
    },
    {
     "name": "stdout",
     "output_type": "stream",
     "text": [
      "                      (F1-score: 0.0427)\n",
      "\n",
      "                      (NDCG: 0.0681)\n",
      "\n",
      "val_loss= tensor(0.6523)\n",
      "--------------------\n"
     ]
    },
    {
     "name": "stderr",
     "output_type": "stream",
     "text": [
      "100%|██████████| 266/266 [00:20<00:00, 12.67it/s]\n"
     ]
    },
    {
     "name": "stdout",
     "output_type": "stream",
     "text": [
      "                      (F1-score: 0.0457)\n",
      "\n",
      "                      (NDCG: 0.0722)\n",
      "\n",
      "--------------------\n",
      "[[1, {'F1-score': 4.699248120300752e-05}, {'NDCG': 5.563101696228623e-05}, 0.7670180201530457], [2, {'F1-score': 0.00011487050960735171}, {'NDCG': 0.00014315448225216758}, 0.715857744216919], [3, {'F1-score': 0.018416218112489686}, {'NDCG': 0.021840268549950498}, 0.6940310597419739], [4, {'F1-score': 0.02642099617829246}, {'NDCG': 0.050063680437274445}, 0.7274060845375061], [5, {'F1-score': 0.03184700578141456}, {'NDCG': 0.0567162063399932}, 0.6694043874740601], [6, {'F1-score': 0.04223931158741518}, {'NDCG': 0.06820185580535938}, 0.6241940259933472], [7, {'F1-score': 0.04472424625645027}, {'NDCG': 0.07029548350763612}, 0.6142300963401794], [8, {'F1-score': 0.04290899937899723}, {'NDCG': 0.06925275580803479}, 0.5995289087295532], [9, {'F1-score': 0.04355782601394225}, {'NDCG': 0.06926687848684203}, 0.5936050415039062], [10, {'F1-score': 0.04515040172211956}, {'NDCG': 0.07034251727758997}, 0.5631183981895447], [11, {'F1-score': 0.04443880060696239}, {'NDCG': 0.06966079903164304}, 0.5811899900436401], [12, {'F1-score': 0.04493371631063535}, {'NDCG': 0.07014683947751396}, 0.5719975233078003], [13, {'F1-score': 0.04565093364193787}, {'NDCG': 0.07099754219748695}, 0.5907054543495178], [14, {'F1-score': 0.04460370476914024}, {'NDCG': 0.06966909922876473}, 0.6000447869300842], [15, {'F1-score': 0.04515451072586205}, {'NDCG': 0.0703947995509252}, 0.5761183500289917], [16, {'F1-score': 0.04701275208181636}, {'NDCG': 0.07190614512288257}, 0.5787864327430725], [17, {'F1-score': 0.04395315981777069}, {'NDCG': 0.0696789747125056}, 0.5855261087417603], [18, {'F1-score': 0.04512002444079792}, {'NDCG': 0.07008551670189359}, 0.5888639688491821], [19, {'F1-score': 0.04589398412900888}, {'NDCG': 0.07090936102589271}, 0.5673319101333618], [20, {'F1-score': 0.04354598355720392}, {'NDCG': 0.06940149212662215}, 0.6078929305076599], [21, {'F1-score': 0.04496149679798609}, {'NDCG': 0.07024026605391637}, 0.5779813528060913], [22, {'F1-score': 0.04627983692977624}, {'NDCG': 0.07102968256843549}, 0.5800273418426514], [23, {'F1-score': 0.045970301863114446}, {'NDCG': 0.07065959585851576}, 0.5470777750015259], [24, {'F1-score': 0.0463723383857829}, {'NDCG': 0.07075474591036432}, 0.5513803362846375], [25, {'F1-score': 0.04518623687723846}, {'NDCG': 0.07005241675358406}, 0.565579891204834], [26, {'F1-score': 0.045791294911088916}, {'NDCG': 0.07047046630650311}, 0.5642924904823303], [27, {'F1-score': 0.04516315284252287}, {'NDCG': 0.07118766886161122}, 0.5898812413215637], [28, {'F1-score': 0.04576475042192481}, {'NDCG': 0.07046511895863578}, 0.5653799176216125], [29, {'F1-score': 0.0465399900159111}, {'NDCG': 0.07098571418546476}, 0.5656462907791138], [30, {'F1-score': 0.04531047734974595}, {'NDCG': 0.0702926691821111}, 0.5791805386543274], [31, {'F1-score': 0.0457223058531297}, {'NDCG': 0.07075386763466313}, 0.572213888168335], [32, {'F1-score': 0.046583669062952124}, {'NDCG': 0.07216073586815562}, 0.6482391357421875], [33, {'F1-score': 0.04647101286346337}, {'NDCG': 0.07128521838379477}, 0.6065346002578735], [34, {'F1-score': 0.0456100121455687}, {'NDCG': 0.07065318853426304}, 0.6181027889251709], [35, {'F1-score': 0.04528497897632059}, {'NDCG': 0.07061878128740516}, 0.6007017493247986], [36, {'F1-score': 0.04486473654810486}, {'NDCG': 0.07047449536901668}, 0.6269128918647766], [37, {'F1-score': 0.045164433983955865}, {'NDCG': 0.07079721007082976}, 0.5920420289039612], [38, {'F1-score': 0.04546165401054673}, {'NDCG': 0.07172966375946999}, 0.6620692610740662], [39, {'F1-score': 0.04594511935240465}, {'NDCG': 0.07116381551447164}, 0.6213195323944092], [40, {'F1-score': 0.045820011000115846}, {'NDCG': 0.07160317251297708}, 0.6462869048118591], [41, {'F1-score': 0.046237982643000476}, {'NDCG': 0.07130319708293038}, 0.6194282174110413], [42, {'F1-score': 0.04572700800205913}, {'NDCG': 0.07172171357682997}, 0.635358989238739], [43, {'F1-score': 0.045704030208791165}, {'NDCG': 0.07221588557866171}, 0.6522656679153442]]\n",
      "-----------------------------------------------------------------------------------------\n"
     ]
    },
    {
     "name": "stderr",
     "output_type": "stream",
     "text": [
      "  0%|          | 2/932 [00:00<02:00,  7.71it/s]"
     ]
    },
    {
     "name": "stdout",
     "output_type": "stream",
     "text": [
      "Epoch 44: 0% , Loss: 0.293185\n"
     ]
    },
    {
     "name": "stderr",
     "output_type": "stream",
     "text": [
      " 11%|█         | 102/932 [00:11<01:42,  8.12it/s]"
     ]
    },
    {
     "name": "stdout",
     "output_type": "stream",
     "text": [
      "Epoch 44: 11% , Loss: 0.327061\n"
     ]
    },
    {
     "name": "stderr",
     "output_type": "stream",
     "text": [
      " 22%|██▏       | 201/932 [00:23<01:24,  8.65it/s]"
     ]
    },
    {
     "name": "stdout",
     "output_type": "stream",
     "text": [
      "Epoch 44: 21% , Loss: 0.889245\n"
     ]
    },
    {
     "name": "stderr",
     "output_type": "stream",
     "text": [
      " 32%|███▏      | 302/932 [00:35<01:20,  7.84it/s]"
     ]
    },
    {
     "name": "stdout",
     "output_type": "stream",
     "text": [
      "Epoch 44: 32% , Loss: 0.545560\n"
     ]
    },
    {
     "name": "stderr",
     "output_type": "stream",
     "text": [
      " 43%|████▎     | 402/932 [00:48<01:05,  8.05it/s]"
     ]
    },
    {
     "name": "stdout",
     "output_type": "stream",
     "text": [
      "Epoch 44: 43% , Loss: 0.270344\n"
     ]
    },
    {
     "name": "stderr",
     "output_type": "stream",
     "text": [
      " 54%|█████▍    | 502/932 [01:02<00:58,  7.40it/s]"
     ]
    },
    {
     "name": "stdout",
     "output_type": "stream",
     "text": [
      "Epoch 44: 54% , Loss: 0.186218\n"
     ]
    },
    {
     "name": "stderr",
     "output_type": "stream",
     "text": [
      " 65%|██████▍   | 602/932 [01:17<00:46,  7.06it/s]"
     ]
    },
    {
     "name": "stdout",
     "output_type": "stream",
     "text": [
      "Epoch 44: 64% , Loss: 0.392476\n"
     ]
    },
    {
     "name": "stderr",
     "output_type": "stream",
     "text": [
      " 75%|███████▌  | 702/932 [01:32<00:33,  6.92it/s]"
     ]
    },
    {
     "name": "stdout",
     "output_type": "stream",
     "text": [
      "Epoch 44: 75% , Loss: 0.576649\n"
     ]
    },
    {
     "name": "stderr",
     "output_type": "stream",
     "text": [
      " 86%|████████▌ | 802/932 [01:48<00:20,  6.22it/s]"
     ]
    },
    {
     "name": "stdout",
     "output_type": "stream",
     "text": [
      "Epoch 44: 86% , Loss: 1.070851\n"
     ]
    },
    {
     "name": "stderr",
     "output_type": "stream",
     "text": [
      " 97%|█████████▋| 902/932 [02:05<00:04,  6.58it/s]"
     ]
    },
    {
     "name": "stdout",
     "output_type": "stream",
     "text": [
      "Epoch 44: 97% , Loss: 0.143565\n"
     ]
    },
    {
     "name": "stderr",
     "output_type": "stream",
     "text": [
      "100%|██████████| 932/932 [02:10<00:00,  7.14it/s]"
     ]
    },
    {
     "name": "stdout",
     "output_type": "stream",
     "text": [
      "Epoch 44: 100% , Loss: 0.227208\n"
     ]
    },
    {
     "name": "stderr",
     "output_type": "stream",
     "text": [
      "\n"
     ]
    },
    {
     "name": "stdout",
     "output_type": "stream",
     "text": [
      "                      (F1-score: 0.0453)\n",
      "\n",
      "                      (NDCG: 0.0705)\n",
      "\n",
      "train_loss= tensor(0.3827)\n",
      "--------------------\n"
     ]
    },
    {
     "name": "stderr",
     "output_type": "stream",
     "text": [
      "100%|██████████| 133/133 [00:10<00:00, 13.29it/s]\n"
     ]
    },
    {
     "name": "stdout",
     "output_type": "stream",
     "text": [
      "                      (F1-score: 0.0421)\n",
      "\n",
      "                      (NDCG: 0.0686)\n",
      "\n",
      "val_loss= tensor(0.6698)\n",
      "--------------------\n"
     ]
    },
    {
     "name": "stderr",
     "output_type": "stream",
     "text": [
      "100%|██████████| 266/266 [00:21<00:00, 12.62it/s]\n"
     ]
    },
    {
     "name": "stdout",
     "output_type": "stream",
     "text": [
      "                      (F1-score: 0.0453)\n",
      "\n",
      "                      (NDCG: 0.0716)\n",
      "\n",
      "--------------------\n",
      "[[1, {'F1-score': 4.699248120300752e-05}, {'NDCG': 5.563101696228623e-05}, 0.7670180201530457], [2, {'F1-score': 0.00011487050960735171}, {'NDCG': 0.00014315448225216758}, 0.715857744216919], [3, {'F1-score': 0.018416218112489686}, {'NDCG': 0.021840268549950498}, 0.6940310597419739], [4, {'F1-score': 0.02642099617829246}, {'NDCG': 0.050063680437274445}, 0.7274060845375061], [5, {'F1-score': 0.03184700578141456}, {'NDCG': 0.0567162063399932}, 0.6694043874740601], [6, {'F1-score': 0.04223931158741518}, {'NDCG': 0.06820185580535938}, 0.6241940259933472], [7, {'F1-score': 0.04472424625645027}, {'NDCG': 0.07029548350763612}, 0.6142300963401794], [8, {'F1-score': 0.04290899937899723}, {'NDCG': 0.06925275580803479}, 0.5995289087295532], [9, {'F1-score': 0.04355782601394225}, {'NDCG': 0.06926687848684203}, 0.5936050415039062], [10, {'F1-score': 0.04515040172211956}, {'NDCG': 0.07034251727758997}, 0.5631183981895447], [11, {'F1-score': 0.04443880060696239}, {'NDCG': 0.06966079903164304}, 0.5811899900436401], [12, {'F1-score': 0.04493371631063535}, {'NDCG': 0.07014683947751396}, 0.5719975233078003], [13, {'F1-score': 0.04565093364193787}, {'NDCG': 0.07099754219748695}, 0.5907054543495178], [14, {'F1-score': 0.04460370476914024}, {'NDCG': 0.06966909922876473}, 0.6000447869300842], [15, {'F1-score': 0.04515451072586205}, {'NDCG': 0.0703947995509252}, 0.5761183500289917], [16, {'F1-score': 0.04701275208181636}, {'NDCG': 0.07190614512288257}, 0.5787864327430725], [17, {'F1-score': 0.04395315981777069}, {'NDCG': 0.0696789747125056}, 0.5855261087417603], [18, {'F1-score': 0.04512002444079792}, {'NDCG': 0.07008551670189359}, 0.5888639688491821], [19, {'F1-score': 0.04589398412900888}, {'NDCG': 0.07090936102589271}, 0.5673319101333618], [20, {'F1-score': 0.04354598355720392}, {'NDCG': 0.06940149212662215}, 0.6078929305076599], [21, {'F1-score': 0.04496149679798609}, {'NDCG': 0.07024026605391637}, 0.5779813528060913], [22, {'F1-score': 0.04627983692977624}, {'NDCG': 0.07102968256843549}, 0.5800273418426514], [23, {'F1-score': 0.045970301863114446}, {'NDCG': 0.07065959585851576}, 0.5470777750015259], [24, {'F1-score': 0.0463723383857829}, {'NDCG': 0.07075474591036432}, 0.5513803362846375], [25, {'F1-score': 0.04518623687723846}, {'NDCG': 0.07005241675358406}, 0.565579891204834], [26, {'F1-score': 0.045791294911088916}, {'NDCG': 0.07047046630650311}, 0.5642924904823303], [27, {'F1-score': 0.04516315284252287}, {'NDCG': 0.07118766886161122}, 0.5898812413215637], [28, {'F1-score': 0.04576475042192481}, {'NDCG': 0.07046511895863578}, 0.5653799176216125], [29, {'F1-score': 0.0465399900159111}, {'NDCG': 0.07098571418546476}, 0.5656462907791138], [30, {'F1-score': 0.04531047734974595}, {'NDCG': 0.0702926691821111}, 0.5791805386543274], [31, {'F1-score': 0.0457223058531297}, {'NDCG': 0.07075386763466313}, 0.572213888168335], [32, {'F1-score': 0.046583669062952124}, {'NDCG': 0.07216073586815562}, 0.6482391357421875], [33, {'F1-score': 0.04647101286346337}, {'NDCG': 0.07128521838379477}, 0.6065346002578735], [34, {'F1-score': 0.0456100121455687}, {'NDCG': 0.07065318853426304}, 0.6181027889251709], [35, {'F1-score': 0.04528497897632059}, {'NDCG': 0.07061878128740516}, 0.6007017493247986], [36, {'F1-score': 0.04486473654810486}, {'NDCG': 0.07047449536901668}, 0.6269128918647766], [37, {'F1-score': 0.045164433983955865}, {'NDCG': 0.07079721007082976}, 0.5920420289039612], [38, {'F1-score': 0.04546165401054673}, {'NDCG': 0.07172966375946999}, 0.6620692610740662], [39, {'F1-score': 0.04594511935240465}, {'NDCG': 0.07116381551447164}, 0.6213195323944092], [40, {'F1-score': 0.045820011000115846}, {'NDCG': 0.07160317251297708}, 0.6462869048118591], [41, {'F1-score': 0.046237982643000476}, {'NDCG': 0.07130319708293038}, 0.6194282174110413], [42, {'F1-score': 0.04572700800205913}, {'NDCG': 0.07172171357682997}, 0.635358989238739], [43, {'F1-score': 0.045704030208791165}, {'NDCG': 0.07221588557866171}, 0.6522656679153442], [44, {'F1-score': 0.04529335768873681}, {'NDCG': 0.07160032948801168}, 0.6697895526885986]]\n",
      "-----------------------------------------------------------------------------------------\n"
     ]
    },
    {
     "name": "stderr",
     "output_type": "stream",
     "text": [
      "  0%|          | 2/932 [00:00<02:03,  7.56it/s]"
     ]
    },
    {
     "name": "stdout",
     "output_type": "stream",
     "text": [
      "Epoch 45: 0% , Loss: 0.094173\n"
     ]
    },
    {
     "name": "stderr",
     "output_type": "stream",
     "text": [
      " 11%|█         | 102/932 [00:11<01:39,  8.38it/s]"
     ]
    },
    {
     "name": "stdout",
     "output_type": "stream",
     "text": [
      "Epoch 45: 11% , Loss: 0.140043\n"
     ]
    },
    {
     "name": "stderr",
     "output_type": "stream",
     "text": [
      " 22%|██▏       | 202/932 [00:23<01:36,  7.53it/s]"
     ]
    },
    {
     "name": "stdout",
     "output_type": "stream",
     "text": [
      "Epoch 45: 21% , Loss: 1.167779\n"
     ]
    },
    {
     "name": "stderr",
     "output_type": "stream",
     "text": [
      " 32%|███▏      | 302/932 [00:36<01:39,  6.33it/s]"
     ]
    },
    {
     "name": "stdout",
     "output_type": "stream",
     "text": [
      "Epoch 45: 32% , Loss: 1.061822\n"
     ]
    },
    {
     "name": "stderr",
     "output_type": "stream",
     "text": [
      " 43%|████▎     | 402/932 [00:50<01:06,  7.95it/s]"
     ]
    },
    {
     "name": "stdout",
     "output_type": "stream",
     "text": [
      "Epoch 45: 43% , Loss: 0.108416\n"
     ]
    },
    {
     "name": "stderr",
     "output_type": "stream",
     "text": [
      " 54%|█████▍    | 502/932 [01:03<00:59,  7.28it/s]"
     ]
    },
    {
     "name": "stdout",
     "output_type": "stream",
     "text": [
      "Epoch 45: 54% , Loss: 0.204968\n"
     ]
    },
    {
     "name": "stderr",
     "output_type": "stream",
     "text": [
      " 65%|██████▍   | 602/932 [01:18<00:47,  6.88it/s]"
     ]
    },
    {
     "name": "stdout",
     "output_type": "stream",
     "text": [
      "Epoch 45: 64% , Loss: 0.172881\n"
     ]
    },
    {
     "name": "stderr",
     "output_type": "stream",
     "text": [
      " 75%|███████▌  | 702/932 [01:33<00:33,  6.88it/s]"
     ]
    },
    {
     "name": "stdout",
     "output_type": "stream",
     "text": [
      "Epoch 45: 75% , Loss: 0.070219\n"
     ]
    },
    {
     "name": "stderr",
     "output_type": "stream",
     "text": [
      " 86%|████████▌ | 802/932 [01:49<00:21,  6.14it/s]"
     ]
    },
    {
     "name": "stdout",
     "output_type": "stream",
     "text": [
      "Epoch 45: 86% , Loss: 0.156474\n"
     ]
    },
    {
     "name": "stderr",
     "output_type": "stream",
     "text": [
      " 97%|█████████▋| 901/932 [02:05<00:04,  6.32it/s]"
     ]
    },
    {
     "name": "stdout",
     "output_type": "stream",
     "text": [
      "Epoch 45: 97% , Loss: 0.219124\n"
     ]
    },
    {
     "name": "stderr",
     "output_type": "stream",
     "text": [
      "100%|██████████| 932/932 [02:10<00:00,  7.14it/s]"
     ]
    },
    {
     "name": "stdout",
     "output_type": "stream",
     "text": [
      "Epoch 45: 100% , Loss: 4.158526\n"
     ]
    },
    {
     "name": "stderr",
     "output_type": "stream",
     "text": [
      "\n"
     ]
    },
    {
     "name": "stdout",
     "output_type": "stream",
     "text": [
      "                      (F1-score: 0.0445)\n",
      "\n",
      "                      (NDCG: 0.0698)\n",
      "\n",
      "train_loss= tensor(0.3832)\n",
      "--------------------\n"
     ]
    },
    {
     "name": "stderr",
     "output_type": "stream",
     "text": [
      "100%|██████████| 133/133 [00:10<00:00, 12.58it/s]\n"
     ]
    },
    {
     "name": "stdout",
     "output_type": "stream",
     "text": [
      "                      (F1-score: 0.0429)\n",
      "\n",
      "                      (NDCG: 0.0689)\n",
      "\n",
      "val_loss= tensor(0.6849)\n",
      "--------------------\n"
     ]
    },
    {
     "name": "stderr",
     "output_type": "stream",
     "text": [
      "100%|██████████| 266/266 [00:21<00:00, 12.47it/s]\n"
     ]
    },
    {
     "name": "stdout",
     "output_type": "stream",
     "text": [
      "                      (F1-score: 0.0458)\n",
      "\n",
      "                      (NDCG: 0.0733)\n",
      "\n",
      "--------------------\n",
      "[[1, {'F1-score': 4.699248120300752e-05}, {'NDCG': 5.563101696228623e-05}, 0.7670180201530457], [2, {'F1-score': 0.00011487050960735171}, {'NDCG': 0.00014315448225216758}, 0.715857744216919], [3, {'F1-score': 0.018416218112489686}, {'NDCG': 0.021840268549950498}, 0.6940310597419739], [4, {'F1-score': 0.02642099617829246}, {'NDCG': 0.050063680437274445}, 0.7274060845375061], [5, {'F1-score': 0.03184700578141456}, {'NDCG': 0.0567162063399932}, 0.6694043874740601], [6, {'F1-score': 0.04223931158741518}, {'NDCG': 0.06820185580535938}, 0.6241940259933472], [7, {'F1-score': 0.04472424625645027}, {'NDCG': 0.07029548350763612}, 0.6142300963401794], [8, {'F1-score': 0.04290899937899723}, {'NDCG': 0.06925275580803479}, 0.5995289087295532], [9, {'F1-score': 0.04355782601394225}, {'NDCG': 0.06926687848684203}, 0.5936050415039062], [10, {'F1-score': 0.04515040172211956}, {'NDCG': 0.07034251727758997}, 0.5631183981895447], [11, {'F1-score': 0.04443880060696239}, {'NDCG': 0.06966079903164304}, 0.5811899900436401], [12, {'F1-score': 0.04493371631063535}, {'NDCG': 0.07014683947751396}, 0.5719975233078003], [13, {'F1-score': 0.04565093364193787}, {'NDCG': 0.07099754219748695}, 0.5907054543495178], [14, {'F1-score': 0.04460370476914024}, {'NDCG': 0.06966909922876473}, 0.6000447869300842], [15, {'F1-score': 0.04515451072586205}, {'NDCG': 0.0703947995509252}, 0.5761183500289917], [16, {'F1-score': 0.04701275208181636}, {'NDCG': 0.07190614512288257}, 0.5787864327430725], [17, {'F1-score': 0.04395315981777069}, {'NDCG': 0.0696789747125056}, 0.5855261087417603], [18, {'F1-score': 0.04512002444079792}, {'NDCG': 0.07008551670189359}, 0.5888639688491821], [19, {'F1-score': 0.04589398412900888}, {'NDCG': 0.07090936102589271}, 0.5673319101333618], [20, {'F1-score': 0.04354598355720392}, {'NDCG': 0.06940149212662215}, 0.6078929305076599], [21, {'F1-score': 0.04496149679798609}, {'NDCG': 0.07024026605391637}, 0.5779813528060913], [22, {'F1-score': 0.04627983692977624}, {'NDCG': 0.07102968256843549}, 0.5800273418426514], [23, {'F1-score': 0.045970301863114446}, {'NDCG': 0.07065959585851576}, 0.5470777750015259], [24, {'F1-score': 0.0463723383857829}, {'NDCG': 0.07075474591036432}, 0.5513803362846375], [25, {'F1-score': 0.04518623687723846}, {'NDCG': 0.07005241675358406}, 0.565579891204834], [26, {'F1-score': 0.045791294911088916}, {'NDCG': 0.07047046630650311}, 0.5642924904823303], [27, {'F1-score': 0.04516315284252287}, {'NDCG': 0.07118766886161122}, 0.5898812413215637], [28, {'F1-score': 0.04576475042192481}, {'NDCG': 0.07046511895863578}, 0.5653799176216125], [29, {'F1-score': 0.0465399900159111}, {'NDCG': 0.07098571418546476}, 0.5656462907791138], [30, {'F1-score': 0.04531047734974595}, {'NDCG': 0.0702926691821111}, 0.5791805386543274], [31, {'F1-score': 0.0457223058531297}, {'NDCG': 0.07075386763466313}, 0.572213888168335], [32, {'F1-score': 0.046583669062952124}, {'NDCG': 0.07216073586815562}, 0.6482391357421875], [33, {'F1-score': 0.04647101286346337}, {'NDCG': 0.07128521838379477}, 0.6065346002578735], [34, {'F1-score': 0.0456100121455687}, {'NDCG': 0.07065318853426304}, 0.6181027889251709], [35, {'F1-score': 0.04528497897632059}, {'NDCG': 0.07061878128740516}, 0.6007017493247986], [36, {'F1-score': 0.04486473654810486}, {'NDCG': 0.07047449536901668}, 0.6269128918647766], [37, {'F1-score': 0.045164433983955865}, {'NDCG': 0.07079721007082976}, 0.5920420289039612], [38, {'F1-score': 0.04546165401054673}, {'NDCG': 0.07172966375946999}, 0.6620692610740662], [39, {'F1-score': 0.04594511935240465}, {'NDCG': 0.07116381551447164}, 0.6213195323944092], [40, {'F1-score': 0.045820011000115846}, {'NDCG': 0.07160317251297708}, 0.6462869048118591], [41, {'F1-score': 0.046237982643000476}, {'NDCG': 0.07130319708293038}, 0.6194282174110413], [42, {'F1-score': 0.04572700800205913}, {'NDCG': 0.07172171357682997}, 0.635358989238739], [43, {'F1-score': 0.045704030208791165}, {'NDCG': 0.07221588557866171}, 0.6522656679153442], [44, {'F1-score': 0.04529335768873681}, {'NDCG': 0.07160032948801168}, 0.6697895526885986], [45, {'F1-score': 0.045837764232223493}, {'NDCG': 0.07334194507246795}, 0.6848845481872559]]\n",
      "-----------------------------------------------------------------------------------------\n"
     ]
    },
    {
     "name": "stderr",
     "output_type": "stream",
     "text": [
      "  0%|          | 1/932 [00:00<01:56,  8.00it/s]"
     ]
    },
    {
     "name": "stdout",
     "output_type": "stream",
     "text": [
      "Epoch 46: 0% , Loss: 0.282860\n"
     ]
    },
    {
     "name": "stderr",
     "output_type": "stream",
     "text": [
      " 11%|█         | 103/932 [00:11<01:30,  9.11it/s]"
     ]
    },
    {
     "name": "stdout",
     "output_type": "stream",
     "text": [
      "Epoch 46: 11% , Loss: 0.212962\n"
     ]
    },
    {
     "name": "stderr",
     "output_type": "stream",
     "text": [
      " 22%|██▏       | 202/932 [00:22<01:27,  8.35it/s]"
     ]
    },
    {
     "name": "stdout",
     "output_type": "stream",
     "text": [
      "Epoch 46: 21% , Loss: 0.415705\n"
     ]
    },
    {
     "name": "stderr",
     "output_type": "stream",
     "text": [
      " 32%|███▏      | 302/932 [00:35<01:28,  7.12it/s]"
     ]
    },
    {
     "name": "stdout",
     "output_type": "stream",
     "text": [
      "Epoch 46: 32% , Loss: 0.129532\n"
     ]
    },
    {
     "name": "stderr",
     "output_type": "stream",
     "text": [
      " 43%|████▎     | 402/932 [00:49<01:13,  7.24it/s]"
     ]
    },
    {
     "name": "stdout",
     "output_type": "stream",
     "text": [
      "Epoch 46: 43% , Loss: 0.269715\n"
     ]
    },
    {
     "name": "stderr",
     "output_type": "stream",
     "text": [
      " 54%|█████▍    | 502/932 [01:03<00:58,  7.36it/s]"
     ]
    },
    {
     "name": "stdout",
     "output_type": "stream",
     "text": [
      "Epoch 46: 54% , Loss: 0.254279\n"
     ]
    },
    {
     "name": "stderr",
     "output_type": "stream",
     "text": [
      " 65%|██████▍   | 602/932 [01:17<00:52,  6.26it/s]"
     ]
    },
    {
     "name": "stdout",
     "output_type": "stream",
     "text": [
      "Epoch 46: 64% , Loss: 0.050268\n"
     ]
    },
    {
     "name": "stderr",
     "output_type": "stream",
     "text": [
      " 75%|███████▌  | 702/932 [01:33<00:35,  6.50it/s]"
     ]
    },
    {
     "name": "stdout",
     "output_type": "stream",
     "text": [
      "Epoch 46: 75% , Loss: 0.280279\n"
     ]
    },
    {
     "name": "stderr",
     "output_type": "stream",
     "text": [
      " 86%|████████▌ | 801/932 [01:49<00:21,  6.12it/s]"
     ]
    },
    {
     "name": "stdout",
     "output_type": "stream",
     "text": [
      "Epoch 46: 86% , Loss: 0.154788\n"
     ]
    },
    {
     "name": "stderr",
     "output_type": "stream",
     "text": [
      " 97%|█████████▋| 901/932 [02:05<00:05,  5.60it/s]"
     ]
    },
    {
     "name": "stdout",
     "output_type": "stream",
     "text": [
      "Epoch 46: 97% , Loss: 0.595616\n"
     ]
    },
    {
     "name": "stderr",
     "output_type": "stream",
     "text": [
      "100%|██████████| 932/932 [02:10<00:00,  7.12it/s]\n"
     ]
    },
    {
     "name": "stdout",
     "output_type": "stream",
     "text": [
      "Epoch 46: 100% , Loss: 0.188291\n",
      "                      (F1-score: 0.0461)\n",
      "\n",
      "                      (NDCG: 0.0711)\n",
      "\n",
      "train_loss= tensor(0.3772)\n",
      "--------------------\n"
     ]
    },
    {
     "name": "stderr",
     "output_type": "stream",
     "text": [
      "100%|██████████| 133/133 [00:10<00:00, 12.68it/s]\n"
     ]
    },
    {
     "name": "stdout",
     "output_type": "stream",
     "text": [
      "                      (F1-score: 0.0422)\n",
      "\n",
      "                      (NDCG: 0.0685)\n",
      "\n",
      "val_loss= tensor(0.6363)\n",
      "--------------------\n"
     ]
    },
    {
     "name": "stderr",
     "output_type": "stream",
     "text": [
      "100%|██████████| 266/266 [00:21<00:00, 12.13it/s]\n"
     ]
    },
    {
     "name": "stdout",
     "output_type": "stream",
     "text": [
      "                      (F1-score: 0.0457)\n",
      "\n",
      "                      (NDCG: 0.0723)\n",
      "\n",
      "--------------------\n",
      "[[1, {'F1-score': 4.699248120300752e-05}, {'NDCG': 5.563101696228623e-05}, 0.7670180201530457], [2, {'F1-score': 0.00011487050960735171}, {'NDCG': 0.00014315448225216758}, 0.715857744216919], [3, {'F1-score': 0.018416218112489686}, {'NDCG': 0.021840268549950498}, 0.6940310597419739], [4, {'F1-score': 0.02642099617829246}, {'NDCG': 0.050063680437274445}, 0.7274060845375061], [5, {'F1-score': 0.03184700578141456}, {'NDCG': 0.0567162063399932}, 0.6694043874740601], [6, {'F1-score': 0.04223931158741518}, {'NDCG': 0.06820185580535938}, 0.6241940259933472], [7, {'F1-score': 0.04472424625645027}, {'NDCG': 0.07029548350763612}, 0.6142300963401794], [8, {'F1-score': 0.04290899937899723}, {'NDCG': 0.06925275580803479}, 0.5995289087295532], [9, {'F1-score': 0.04355782601394225}, {'NDCG': 0.06926687848684203}, 0.5936050415039062], [10, {'F1-score': 0.04515040172211956}, {'NDCG': 0.07034251727758997}, 0.5631183981895447], [11, {'F1-score': 0.04443880060696239}, {'NDCG': 0.06966079903164304}, 0.5811899900436401], [12, {'F1-score': 0.04493371631063535}, {'NDCG': 0.07014683947751396}, 0.5719975233078003], [13, {'F1-score': 0.04565093364193787}, {'NDCG': 0.07099754219748695}, 0.5907054543495178], [14, {'F1-score': 0.04460370476914024}, {'NDCG': 0.06966909922876473}, 0.6000447869300842], [15, {'F1-score': 0.04515451072586205}, {'NDCG': 0.0703947995509252}, 0.5761183500289917], [16, {'F1-score': 0.04701275208181636}, {'NDCG': 0.07190614512288257}, 0.5787864327430725], [17, {'F1-score': 0.04395315981777069}, {'NDCG': 0.0696789747125056}, 0.5855261087417603], [18, {'F1-score': 0.04512002444079792}, {'NDCG': 0.07008551670189359}, 0.5888639688491821], [19, {'F1-score': 0.04589398412900888}, {'NDCG': 0.07090936102589271}, 0.5673319101333618], [20, {'F1-score': 0.04354598355720392}, {'NDCG': 0.06940149212662215}, 0.6078929305076599], [21, {'F1-score': 0.04496149679798609}, {'NDCG': 0.07024026605391637}, 0.5779813528060913], [22, {'F1-score': 0.04627983692977624}, {'NDCG': 0.07102968256843549}, 0.5800273418426514], [23, {'F1-score': 0.045970301863114446}, {'NDCG': 0.07065959585851576}, 0.5470777750015259], [24, {'F1-score': 0.0463723383857829}, {'NDCG': 0.07075474591036432}, 0.5513803362846375], [25, {'F1-score': 0.04518623687723846}, {'NDCG': 0.07005241675358406}, 0.565579891204834], [26, {'F1-score': 0.045791294911088916}, {'NDCG': 0.07047046630650311}, 0.5642924904823303], [27, {'F1-score': 0.04516315284252287}, {'NDCG': 0.07118766886161122}, 0.5898812413215637], [28, {'F1-score': 0.04576475042192481}, {'NDCG': 0.07046511895863578}, 0.5653799176216125], [29, {'F1-score': 0.0465399900159111}, {'NDCG': 0.07098571418546476}, 0.5656462907791138], [30, {'F1-score': 0.04531047734974595}, {'NDCG': 0.0702926691821111}, 0.5791805386543274], [31, {'F1-score': 0.0457223058531297}, {'NDCG': 0.07075386763466313}, 0.572213888168335], [32, {'F1-score': 0.046583669062952124}, {'NDCG': 0.07216073586815562}, 0.6482391357421875], [33, {'F1-score': 0.04647101286346337}, {'NDCG': 0.07128521838379477}, 0.6065346002578735], [34, {'F1-score': 0.0456100121455687}, {'NDCG': 0.07065318853426304}, 0.6181027889251709], [35, {'F1-score': 0.04528497897632059}, {'NDCG': 0.07061878128740516}, 0.6007017493247986], [36, {'F1-score': 0.04486473654810486}, {'NDCG': 0.07047449536901668}, 0.6269128918647766], [37, {'F1-score': 0.045164433983955865}, {'NDCG': 0.07079721007082976}, 0.5920420289039612], [38, {'F1-score': 0.04546165401054673}, {'NDCG': 0.07172966375946999}, 0.6620692610740662], [39, {'F1-score': 0.04594511935240465}, {'NDCG': 0.07116381551447164}, 0.6213195323944092], [40, {'F1-score': 0.045820011000115846}, {'NDCG': 0.07160317251297708}, 0.6462869048118591], [41, {'F1-score': 0.046237982643000476}, {'NDCG': 0.07130319708293038}, 0.6194282174110413], [42, {'F1-score': 0.04572700800205913}, {'NDCG': 0.07172171357682997}, 0.635358989238739], [43, {'F1-score': 0.045704030208791165}, {'NDCG': 0.07221588557866171}, 0.6522656679153442], [44, {'F1-score': 0.04529335768873681}, {'NDCG': 0.07160032948801168}, 0.6697895526885986], [45, {'F1-score': 0.045837764232223493}, {'NDCG': 0.07334194507246795}, 0.6848845481872559], [46, {'F1-score': 0.04568805972926344}, {'NDCG': 0.07233105897483297}, 0.6363197565078735]]\n",
      "-----------------------------------------------------------------------------------------\n"
     ]
    },
    {
     "name": "stderr",
     "output_type": "stream",
     "text": [
      "  0%|          | 2/932 [00:00<01:43,  9.02it/s]"
     ]
    },
    {
     "name": "stdout",
     "output_type": "stream",
     "text": [
      "Epoch 47: 0% , Loss: 0.137724\n"
     ]
    },
    {
     "name": "stderr",
     "output_type": "stream",
     "text": [
      " 11%|█         | 102/932 [00:11<01:38,  8.40it/s]"
     ]
    },
    {
     "name": "stdout",
     "output_type": "stream",
     "text": [
      "Epoch 47: 11% , Loss: 0.249867\n"
     ]
    },
    {
     "name": "stderr",
     "output_type": "stream",
     "text": [
      " 22%|██▏       | 202/932 [00:23<01:26,  8.40it/s]"
     ]
    },
    {
     "name": "stdout",
     "output_type": "stream",
     "text": [
      "Epoch 47: 21% , Loss: 0.778428\n"
     ]
    },
    {
     "name": "stderr",
     "output_type": "stream",
     "text": [
      " 32%|███▏      | 302/932 [00:36<01:21,  7.73it/s]"
     ]
    },
    {
     "name": "stdout",
     "output_type": "stream",
     "text": [
      "Epoch 47: 32% , Loss: 0.281534\n"
     ]
    },
    {
     "name": "stderr",
     "output_type": "stream",
     "text": [
      " 43%|████▎     | 402/932 [00:49<01:11,  7.45it/s]"
     ]
    },
    {
     "name": "stdout",
     "output_type": "stream",
     "text": [
      "Epoch 47: 43% , Loss: 0.367285\n"
     ]
    },
    {
     "name": "stderr",
     "output_type": "stream",
     "text": [
      " 54%|█████▍    | 502/932 [01:04<01:02,  6.92it/s]"
     ]
    },
    {
     "name": "stdout",
     "output_type": "stream",
     "text": [
      "Epoch 47: 54% , Loss: 0.152370\n"
     ]
    },
    {
     "name": "stderr",
     "output_type": "stream",
     "text": [
      " 65%|██████▍   | 602/932 [01:18<00:49,  6.65it/s]"
     ]
    },
    {
     "name": "stdout",
     "output_type": "stream",
     "text": [
      "Epoch 47: 64% , Loss: 0.106201\n"
     ]
    },
    {
     "name": "stderr",
     "output_type": "stream",
     "text": [
      " 75%|███████▌  | 701/932 [01:33<00:37,  6.20it/s]"
     ]
    },
    {
     "name": "stdout",
     "output_type": "stream",
     "text": [
      "Epoch 47: 75% , Loss: 0.180693\n"
     ]
    },
    {
     "name": "stderr",
     "output_type": "stream",
     "text": [
      " 86%|████████▌ | 802/932 [01:49<00:21,  6.03it/s]"
     ]
    },
    {
     "name": "stdout",
     "output_type": "stream",
     "text": [
      "Epoch 47: 86% , Loss: 0.071434\n"
     ]
    },
    {
     "name": "stderr",
     "output_type": "stream",
     "text": [
      " 97%|█████████▋| 901/932 [02:06<00:05,  5.85it/s]"
     ]
    },
    {
     "name": "stdout",
     "output_type": "stream",
     "text": [
      "Epoch 47: 97% , Loss: 0.051194\n"
     ]
    },
    {
     "name": "stderr",
     "output_type": "stream",
     "text": [
      "100%|██████████| 932/932 [02:11<00:00,  7.08it/s]\n"
     ]
    },
    {
     "name": "stdout",
     "output_type": "stream",
     "text": [
      "Epoch 47: 100% , Loss: 0.048465\n",
      "                      (F1-score: 0.0451)\n",
      "\n",
      "                      (NDCG: 0.0702)\n",
      "\n",
      "train_loss= tensor(0.3707)\n",
      "--------------------\n"
     ]
    },
    {
     "name": "stderr",
     "output_type": "stream",
     "text": [
      "100%|██████████| 133/133 [00:10<00:00, 12.85it/s]\n"
     ]
    },
    {
     "name": "stdout",
     "output_type": "stream",
     "text": [
      "                      (F1-score: 0.0432)\n",
      "\n",
      "                      (NDCG: 0.0689)\n",
      "\n",
      "val_loss= tensor(0.6792)\n",
      "--------------------\n"
     ]
    },
    {
     "name": "stderr",
     "output_type": "stream",
     "text": [
      "100%|██████████| 266/266 [00:21<00:00, 12.43it/s]\n"
     ]
    },
    {
     "name": "stdout",
     "output_type": "stream",
     "text": [
      "                      (F1-score: 0.0456)\n",
      "\n",
      "                      (NDCG: 0.0719)\n",
      "\n",
      "--------------------\n",
      "[[1, {'F1-score': 4.699248120300752e-05}, {'NDCG': 5.563101696228623e-05}, 0.7670180201530457], [2, {'F1-score': 0.00011487050960735171}, {'NDCG': 0.00014315448225216758}, 0.715857744216919], [3, {'F1-score': 0.018416218112489686}, {'NDCG': 0.021840268549950498}, 0.6940310597419739], [4, {'F1-score': 0.02642099617829246}, {'NDCG': 0.050063680437274445}, 0.7274060845375061], [5, {'F1-score': 0.03184700578141456}, {'NDCG': 0.0567162063399932}, 0.6694043874740601], [6, {'F1-score': 0.04223931158741518}, {'NDCG': 0.06820185580535938}, 0.6241940259933472], [7, {'F1-score': 0.04472424625645027}, {'NDCG': 0.07029548350763612}, 0.6142300963401794], [8, {'F1-score': 0.04290899937899723}, {'NDCG': 0.06925275580803479}, 0.5995289087295532], [9, {'F1-score': 0.04355782601394225}, {'NDCG': 0.06926687848684203}, 0.5936050415039062], [10, {'F1-score': 0.04515040172211956}, {'NDCG': 0.07034251727758997}, 0.5631183981895447], [11, {'F1-score': 0.04443880060696239}, {'NDCG': 0.06966079903164304}, 0.5811899900436401], [12, {'F1-score': 0.04493371631063535}, {'NDCG': 0.07014683947751396}, 0.5719975233078003], [13, {'F1-score': 0.04565093364193787}, {'NDCG': 0.07099754219748695}, 0.5907054543495178], [14, {'F1-score': 0.04460370476914024}, {'NDCG': 0.06966909922876473}, 0.6000447869300842], [15, {'F1-score': 0.04515451072586205}, {'NDCG': 0.0703947995509252}, 0.5761183500289917], [16, {'F1-score': 0.04701275208181636}, {'NDCG': 0.07190614512288257}, 0.5787864327430725], [17, {'F1-score': 0.04395315981777069}, {'NDCG': 0.0696789747125056}, 0.5855261087417603], [18, {'F1-score': 0.04512002444079792}, {'NDCG': 0.07008551670189359}, 0.5888639688491821], [19, {'F1-score': 0.04589398412900888}, {'NDCG': 0.07090936102589271}, 0.5673319101333618], [20, {'F1-score': 0.04354598355720392}, {'NDCG': 0.06940149212662215}, 0.6078929305076599], [21, {'F1-score': 0.04496149679798609}, {'NDCG': 0.07024026605391637}, 0.5779813528060913], [22, {'F1-score': 0.04627983692977624}, {'NDCG': 0.07102968256843549}, 0.5800273418426514], [23, {'F1-score': 0.045970301863114446}, {'NDCG': 0.07065959585851576}, 0.5470777750015259], [24, {'F1-score': 0.0463723383857829}, {'NDCG': 0.07075474591036432}, 0.5513803362846375], [25, {'F1-score': 0.04518623687723846}, {'NDCG': 0.07005241675358406}, 0.565579891204834], [26, {'F1-score': 0.045791294911088916}, {'NDCG': 0.07047046630650311}, 0.5642924904823303], [27, {'F1-score': 0.04516315284252287}, {'NDCG': 0.07118766886161122}, 0.5898812413215637], [28, {'F1-score': 0.04576475042192481}, {'NDCG': 0.07046511895863578}, 0.5653799176216125], [29, {'F1-score': 0.0465399900159111}, {'NDCG': 0.07098571418546476}, 0.5656462907791138], [30, {'F1-score': 0.04531047734974595}, {'NDCG': 0.0702926691821111}, 0.5791805386543274], [31, {'F1-score': 0.0457223058531297}, {'NDCG': 0.07075386763466313}, 0.572213888168335], [32, {'F1-score': 0.046583669062952124}, {'NDCG': 0.07216073586815562}, 0.6482391357421875], [33, {'F1-score': 0.04647101286346337}, {'NDCG': 0.07128521838379477}, 0.6065346002578735], [34, {'F1-score': 0.0456100121455687}, {'NDCG': 0.07065318853426304}, 0.6181027889251709], [35, {'F1-score': 0.04528497897632059}, {'NDCG': 0.07061878128740516}, 0.6007017493247986], [36, {'F1-score': 0.04486473654810486}, {'NDCG': 0.07047449536901668}, 0.6269128918647766], [37, {'F1-score': 0.045164433983955865}, {'NDCG': 0.07079721007082976}, 0.5920420289039612], [38, {'F1-score': 0.04546165401054673}, {'NDCG': 0.07172966375946999}, 0.6620692610740662], [39, {'F1-score': 0.04594511935240465}, {'NDCG': 0.07116381551447164}, 0.6213195323944092], [40, {'F1-score': 0.045820011000115846}, {'NDCG': 0.07160317251297708}, 0.6462869048118591], [41, {'F1-score': 0.046237982643000476}, {'NDCG': 0.07130319708293038}, 0.6194282174110413], [42, {'F1-score': 0.04572700800205913}, {'NDCG': 0.07172171357682997}, 0.635358989238739], [43, {'F1-score': 0.045704030208791165}, {'NDCG': 0.07221588557866171}, 0.6522656679153442], [44, {'F1-score': 0.04529335768873681}, {'NDCG': 0.07160032948801168}, 0.6697895526885986], [45, {'F1-score': 0.045837764232223493}, {'NDCG': 0.07334194507246795}, 0.6848845481872559], [46, {'F1-score': 0.04568805972926344}, {'NDCG': 0.07233105897483297}, 0.6363197565078735], [47, {'F1-score': 0.04560691785968839}, {'NDCG': 0.07192781428400342}, 0.6792043447494507]]\n",
      "-----------------------------------------------------------------------------------------\n"
     ]
    },
    {
     "name": "stderr",
     "output_type": "stream",
     "text": [
      "\r",
      "  0%|          | 0/932 [00:00<?, ?it/s]"
     ]
    },
    {
     "name": "stdout",
     "output_type": "stream",
     "text": [
      "Epoch 48: 0% , Loss: 0.487995\n"
     ]
    },
    {
     "name": "stderr",
     "output_type": "stream",
     "text": [
      " 11%|█         | 102/932 [00:11<01:35,  8.68it/s]"
     ]
    },
    {
     "name": "stdout",
     "output_type": "stream",
     "text": [
      "Epoch 48: 11% , Loss: 0.144686\n"
     ]
    },
    {
     "name": "stderr",
     "output_type": "stream",
     "text": [
      " 22%|██▏       | 202/932 [00:24<01:22,  8.84it/s]"
     ]
    },
    {
     "name": "stdout",
     "output_type": "stream",
     "text": [
      "Epoch 48: 21% , Loss: 0.190812\n"
     ]
    },
    {
     "name": "stderr",
     "output_type": "stream",
     "text": [
      " 32%|███▏      | 302/932 [00:36<01:19,  7.90it/s]"
     ]
    },
    {
     "name": "stdout",
     "output_type": "stream",
     "text": [
      "Epoch 48: 32% , Loss: 0.170973\n"
     ]
    },
    {
     "name": "stderr",
     "output_type": "stream",
     "text": [
      " 43%|████▎     | 402/932 [00:50<01:09,  7.67it/s]"
     ]
    },
    {
     "name": "stdout",
     "output_type": "stream",
     "text": [
      "Epoch 48: 43% , Loss: 0.473132\n"
     ]
    },
    {
     "name": "stderr",
     "output_type": "stream",
     "text": [
      " 54%|█████▍    | 502/932 [01:04<01:00,  7.05it/s]"
     ]
    },
    {
     "name": "stdout",
     "output_type": "stream",
     "text": [
      "Epoch 48: 54% , Loss: 0.457629\n"
     ]
    },
    {
     "name": "stderr",
     "output_type": "stream",
     "text": [
      " 65%|██████▍   | 602/932 [01:18<00:49,  6.67it/s]"
     ]
    },
    {
     "name": "stdout",
     "output_type": "stream",
     "text": [
      "Epoch 48: 64% , Loss: 0.289145\n"
     ]
    },
    {
     "name": "stderr",
     "output_type": "stream",
     "text": [
      " 75%|███████▌  | 702/932 [01:34<00:35,  6.55it/s]"
     ]
    },
    {
     "name": "stdout",
     "output_type": "stream",
     "text": [
      "Epoch 48: 75% , Loss: 0.160370\n"
     ]
    },
    {
     "name": "stderr",
     "output_type": "stream",
     "text": [
      " 86%|████████▌ | 801/932 [01:49<00:21,  6.04it/s]"
     ]
    },
    {
     "name": "stdout",
     "output_type": "stream",
     "text": [
      "Epoch 48: 86% , Loss: 0.705848\n"
     ]
    },
    {
     "name": "stderr",
     "output_type": "stream",
     "text": [
      " 97%|█████████▋| 901/932 [02:06<00:05,  6.04it/s]"
     ]
    },
    {
     "name": "stdout",
     "output_type": "stream",
     "text": [
      "Epoch 48: 97% , Loss: 0.128853\n"
     ]
    },
    {
     "name": "stderr",
     "output_type": "stream",
     "text": [
      "100%|██████████| 932/932 [02:11<00:00,  7.09it/s]\n"
     ]
    },
    {
     "name": "stdout",
     "output_type": "stream",
     "text": [
      "Epoch 48: 100% , Loss: 0.153681\n",
      "                      (F1-score: 0.0449)\n",
      "\n",
      "                      (NDCG: 0.0699)\n",
      "\n",
      "train_loss= tensor(0.3746)\n",
      "--------------------\n"
     ]
    },
    {
     "name": "stderr",
     "output_type": "stream",
     "text": [
      "100%|██████████| 133/133 [00:10<00:00, 12.76it/s]\n"
     ]
    },
    {
     "name": "stdout",
     "output_type": "stream",
     "text": [
      "                      (F1-score: 0.0433)\n",
      "\n",
      "                      (NDCG: 0.0691)\n",
      "\n",
      "val_loss= tensor(0.6236)\n",
      "--------------------\n"
     ]
    },
    {
     "name": "stderr",
     "output_type": "stream",
     "text": [
      "100%|██████████| 266/266 [00:21<00:00, 12.54it/s]\n"
     ]
    },
    {
     "name": "stdout",
     "output_type": "stream",
     "text": [
      "                      (F1-score: 0.0454)\n",
      "\n",
      "                      (NDCG: 0.0712)\n",
      "\n",
      "--------------------\n",
      "[[1, {'F1-score': 4.699248120300752e-05}, {'NDCG': 5.563101696228623e-05}, 0.7670180201530457], [2, {'F1-score': 0.00011487050960735171}, {'NDCG': 0.00014315448225216758}, 0.715857744216919], [3, {'F1-score': 0.018416218112489686}, {'NDCG': 0.021840268549950498}, 0.6940310597419739], [4, {'F1-score': 0.02642099617829246}, {'NDCG': 0.050063680437274445}, 0.7274060845375061], [5, {'F1-score': 0.03184700578141456}, {'NDCG': 0.0567162063399932}, 0.6694043874740601], [6, {'F1-score': 0.04223931158741518}, {'NDCG': 0.06820185580535938}, 0.6241940259933472], [7, {'F1-score': 0.04472424625645027}, {'NDCG': 0.07029548350763612}, 0.6142300963401794], [8, {'F1-score': 0.04290899937899723}, {'NDCG': 0.06925275580803479}, 0.5995289087295532], [9, {'F1-score': 0.04355782601394225}, {'NDCG': 0.06926687848684203}, 0.5936050415039062], [10, {'F1-score': 0.04515040172211956}, {'NDCG': 0.07034251727758997}, 0.5631183981895447], [11, {'F1-score': 0.04443880060696239}, {'NDCG': 0.06966079903164304}, 0.5811899900436401], [12, {'F1-score': 0.04493371631063535}, {'NDCG': 0.07014683947751396}, 0.5719975233078003], [13, {'F1-score': 0.04565093364193787}, {'NDCG': 0.07099754219748695}, 0.5907054543495178], [14, {'F1-score': 0.04460370476914024}, {'NDCG': 0.06966909922876473}, 0.6000447869300842], [15, {'F1-score': 0.04515451072586205}, {'NDCG': 0.0703947995509252}, 0.5761183500289917], [16, {'F1-score': 0.04701275208181636}, {'NDCG': 0.07190614512288257}, 0.5787864327430725], [17, {'F1-score': 0.04395315981777069}, {'NDCG': 0.0696789747125056}, 0.5855261087417603], [18, {'F1-score': 0.04512002444079792}, {'NDCG': 0.07008551670189359}, 0.5888639688491821], [19, {'F1-score': 0.04589398412900888}, {'NDCG': 0.07090936102589271}, 0.5673319101333618], [20, {'F1-score': 0.04354598355720392}, {'NDCG': 0.06940149212662215}, 0.6078929305076599], [21, {'F1-score': 0.04496149679798609}, {'NDCG': 0.07024026605391637}, 0.5779813528060913], [22, {'F1-score': 0.04627983692977624}, {'NDCG': 0.07102968256843549}, 0.5800273418426514], [23, {'F1-score': 0.045970301863114446}, {'NDCG': 0.07065959585851576}, 0.5470777750015259], [24, {'F1-score': 0.0463723383857829}, {'NDCG': 0.07075474591036432}, 0.5513803362846375], [25, {'F1-score': 0.04518623687723846}, {'NDCG': 0.07005241675358406}, 0.565579891204834], [26, {'F1-score': 0.045791294911088916}, {'NDCG': 0.07047046630650311}, 0.5642924904823303], [27, {'F1-score': 0.04516315284252287}, {'NDCG': 0.07118766886161122}, 0.5898812413215637], [28, {'F1-score': 0.04576475042192481}, {'NDCG': 0.07046511895863578}, 0.5653799176216125], [29, {'F1-score': 0.0465399900159111}, {'NDCG': 0.07098571418546476}, 0.5656462907791138], [30, {'F1-score': 0.04531047734974595}, {'NDCG': 0.0702926691821111}, 0.5791805386543274], [31, {'F1-score': 0.0457223058531297}, {'NDCG': 0.07075386763466313}, 0.572213888168335], [32, {'F1-score': 0.046583669062952124}, {'NDCG': 0.07216073586815562}, 0.6482391357421875], [33, {'F1-score': 0.04647101286346337}, {'NDCG': 0.07128521838379477}, 0.6065346002578735], [34, {'F1-score': 0.0456100121455687}, {'NDCG': 0.07065318853426304}, 0.6181027889251709], [35, {'F1-score': 0.04528497897632059}, {'NDCG': 0.07061878128740516}, 0.6007017493247986], [36, {'F1-score': 0.04486473654810486}, {'NDCG': 0.07047449536901668}, 0.6269128918647766], [37, {'F1-score': 0.045164433983955865}, {'NDCG': 0.07079721007082976}, 0.5920420289039612], [38, {'F1-score': 0.04546165401054673}, {'NDCG': 0.07172966375946999}, 0.6620692610740662], [39, {'F1-score': 0.04594511935240465}, {'NDCG': 0.07116381551447164}, 0.6213195323944092], [40, {'F1-score': 0.045820011000115846}, {'NDCG': 0.07160317251297708}, 0.6462869048118591], [41, {'F1-score': 0.046237982643000476}, {'NDCG': 0.07130319708293038}, 0.6194282174110413], [42, {'F1-score': 0.04572700800205913}, {'NDCG': 0.07172171357682997}, 0.635358989238739], [43, {'F1-score': 0.045704030208791165}, {'NDCG': 0.07221588557866171}, 0.6522656679153442], [44, {'F1-score': 0.04529335768873681}, {'NDCG': 0.07160032948801168}, 0.6697895526885986], [45, {'F1-score': 0.045837764232223493}, {'NDCG': 0.07334194507246795}, 0.6848845481872559], [46, {'F1-score': 0.04568805972926344}, {'NDCG': 0.07233105897483297}, 0.6363197565078735], [47, {'F1-score': 0.04560691785968839}, {'NDCG': 0.07192781428400342}, 0.6792043447494507], [48, {'F1-score': 0.04537988432309903}, {'NDCG': 0.07124095615629751}, 0.6235930323600769]]\n",
      "-----------------------------------------------------------------------------------------\n"
     ]
    },
    {
     "name": "stderr",
     "output_type": "stream",
     "text": [
      "  0%|          | 2/932 [00:00<01:39,  9.32it/s]"
     ]
    },
    {
     "name": "stdout",
     "output_type": "stream",
     "text": [
      "Epoch 49: 0% , Loss: 0.118545\n"
     ]
    },
    {
     "name": "stderr",
     "output_type": "stream",
     "text": [
      " 11%|█         | 102/932 [00:11<01:31,  9.06it/s]"
     ]
    },
    {
     "name": "stdout",
     "output_type": "stream",
     "text": [
      "Epoch 49: 11% , Loss: 0.366580\n"
     ]
    },
    {
     "name": "stderr",
     "output_type": "stream",
     "text": [
      " 22%|██▏       | 202/932 [00:23<01:33,  7.84it/s]"
     ]
    },
    {
     "name": "stdout",
     "output_type": "stream",
     "text": [
      "Epoch 49: 21% , Loss: 0.508349\n"
     ]
    },
    {
     "name": "stderr",
     "output_type": "stream",
     "text": [
      " 32%|███▏      | 302/932 [00:36<01:22,  7.62it/s]"
     ]
    },
    {
     "name": "stdout",
     "output_type": "stream",
     "text": [
      "Epoch 49: 32% , Loss: 0.100923\n"
     ]
    },
    {
     "name": "stderr",
     "output_type": "stream",
     "text": [
      " 43%|████▎     | 402/932 [00:49<01:09,  7.58it/s]"
     ]
    },
    {
     "name": "stdout",
     "output_type": "stream",
     "text": [
      "Epoch 49: 43% , Loss: 0.149933\n"
     ]
    },
    {
     "name": "stderr",
     "output_type": "stream",
     "text": [
      " 54%|█████▍    | 501/932 [01:03<00:58,  7.34it/s]"
     ]
    },
    {
     "name": "stdout",
     "output_type": "stream",
     "text": [
      "Epoch 49: 54% , Loss: 0.146695\n"
     ]
    },
    {
     "name": "stderr",
     "output_type": "stream",
     "text": [
      " 65%|██████▍   | 602/932 [01:18<00:46,  7.04it/s]"
     ]
    },
    {
     "name": "stdout",
     "output_type": "stream",
     "text": [
      "Epoch 49: 64% , Loss: 0.224832\n"
     ]
    },
    {
     "name": "stderr",
     "output_type": "stream",
     "text": [
      " 75%|███████▌  | 702/932 [01:33<00:34,  6.67it/s]"
     ]
    },
    {
     "name": "stdout",
     "output_type": "stream",
     "text": [
      "Epoch 49: 75% , Loss: 0.296573\n"
     ]
    },
    {
     "name": "stderr",
     "output_type": "stream",
     "text": [
      " 86%|████████▌ | 801/932 [01:49<00:21,  6.07it/s]"
     ]
    },
    {
     "name": "stdout",
     "output_type": "stream",
     "text": [
      "Epoch 49: 86% , Loss: 0.143335\n"
     ]
    },
    {
     "name": "stderr",
     "output_type": "stream",
     "text": [
      " 97%|█████████▋| 901/932 [02:06<00:05,  5.81it/s]"
     ]
    },
    {
     "name": "stdout",
     "output_type": "stream",
     "text": [
      "Epoch 49: 97% , Loss: 0.267893\n"
     ]
    },
    {
     "name": "stderr",
     "output_type": "stream",
     "text": [
      "100%|██████████| 932/932 [02:11<00:00,  7.09it/s]\n"
     ]
    },
    {
     "name": "stdout",
     "output_type": "stream",
     "text": [
      "Epoch 49: 100% , Loss: 0.196981\n",
      "                      (F1-score: 0.0451)\n",
      "\n",
      "                      (NDCG: 0.0701)\n",
      "\n",
      "train_loss= tensor(0.3695)\n",
      "--------------------\n"
     ]
    },
    {
     "name": "stderr",
     "output_type": "stream",
     "text": [
      "100%|██████████| 133/133 [00:10<00:00, 12.63it/s]\n"
     ]
    },
    {
     "name": "stdout",
     "output_type": "stream",
     "text": [
      "                      (F1-score: 0.0418)\n",
      "\n",
      "                      (NDCG: 0.0693)\n",
      "\n",
      "val_loss= tensor(0.6953)\n",
      "--------------------\n"
     ]
    },
    {
     "name": "stderr",
     "output_type": "stream",
     "text": [
      "100%|██████████| 266/266 [00:21<00:00, 12.54it/s]\n"
     ]
    },
    {
     "name": "stdout",
     "output_type": "stream",
     "text": [
      "                      (F1-score: 0.0459)\n",
      "\n",
      "                      (NDCG: 0.0727)\n",
      "\n",
      "--------------------\n",
      "[[1, {'F1-score': 4.699248120300752e-05}, {'NDCG': 5.563101696228623e-05}, 0.7670180201530457], [2, {'F1-score': 0.00011487050960735171}, {'NDCG': 0.00014315448225216758}, 0.715857744216919], [3, {'F1-score': 0.018416218112489686}, {'NDCG': 0.021840268549950498}, 0.6940310597419739], [4, {'F1-score': 0.02642099617829246}, {'NDCG': 0.050063680437274445}, 0.7274060845375061], [5, {'F1-score': 0.03184700578141456}, {'NDCG': 0.0567162063399932}, 0.6694043874740601], [6, {'F1-score': 0.04223931158741518}, {'NDCG': 0.06820185580535938}, 0.6241940259933472], [7, {'F1-score': 0.04472424625645027}, {'NDCG': 0.07029548350763612}, 0.6142300963401794], [8, {'F1-score': 0.04290899937899723}, {'NDCG': 0.06925275580803479}, 0.5995289087295532], [9, {'F1-score': 0.04355782601394225}, {'NDCG': 0.06926687848684203}, 0.5936050415039062], [10, {'F1-score': 0.04515040172211956}, {'NDCG': 0.07034251727758997}, 0.5631183981895447], [11, {'F1-score': 0.04443880060696239}, {'NDCG': 0.06966079903164304}, 0.5811899900436401], [12, {'F1-score': 0.04493371631063535}, {'NDCG': 0.07014683947751396}, 0.5719975233078003], [13, {'F1-score': 0.04565093364193787}, {'NDCG': 0.07099754219748695}, 0.5907054543495178], [14, {'F1-score': 0.04460370476914024}, {'NDCG': 0.06966909922876473}, 0.6000447869300842], [15, {'F1-score': 0.04515451072586205}, {'NDCG': 0.0703947995509252}, 0.5761183500289917], [16, {'F1-score': 0.04701275208181636}, {'NDCG': 0.07190614512288257}, 0.5787864327430725], [17, {'F1-score': 0.04395315981777069}, {'NDCG': 0.0696789747125056}, 0.5855261087417603], [18, {'F1-score': 0.04512002444079792}, {'NDCG': 0.07008551670189359}, 0.5888639688491821], [19, {'F1-score': 0.04589398412900888}, {'NDCG': 0.07090936102589271}, 0.5673319101333618], [20, {'F1-score': 0.04354598355720392}, {'NDCG': 0.06940149212662215}, 0.6078929305076599], [21, {'F1-score': 0.04496149679798609}, {'NDCG': 0.07024026605391637}, 0.5779813528060913], [22, {'F1-score': 0.04627983692977624}, {'NDCG': 0.07102968256843549}, 0.5800273418426514], [23, {'F1-score': 0.045970301863114446}, {'NDCG': 0.07065959585851576}, 0.5470777750015259], [24, {'F1-score': 0.0463723383857829}, {'NDCG': 0.07075474591036432}, 0.5513803362846375], [25, {'F1-score': 0.04518623687723846}, {'NDCG': 0.07005241675358406}, 0.565579891204834], [26, {'F1-score': 0.045791294911088916}, {'NDCG': 0.07047046630650311}, 0.5642924904823303], [27, {'F1-score': 0.04516315284252287}, {'NDCG': 0.07118766886161122}, 0.5898812413215637], [28, {'F1-score': 0.04576475042192481}, {'NDCG': 0.07046511895863578}, 0.5653799176216125], [29, {'F1-score': 0.0465399900159111}, {'NDCG': 0.07098571418546476}, 0.5656462907791138], [30, {'F1-score': 0.04531047734974595}, {'NDCG': 0.0702926691821111}, 0.5791805386543274], [31, {'F1-score': 0.0457223058531297}, {'NDCG': 0.07075386763466313}, 0.572213888168335], [32, {'F1-score': 0.046583669062952124}, {'NDCG': 0.07216073586815562}, 0.6482391357421875], [33, {'F1-score': 0.04647101286346337}, {'NDCG': 0.07128521838379477}, 0.6065346002578735], [34, {'F1-score': 0.0456100121455687}, {'NDCG': 0.07065318853426304}, 0.6181027889251709], [35, {'F1-score': 0.04528497897632059}, {'NDCG': 0.07061878128740516}, 0.6007017493247986], [36, {'F1-score': 0.04486473654810486}, {'NDCG': 0.07047449536901668}, 0.6269128918647766], [37, {'F1-score': 0.045164433983955865}, {'NDCG': 0.07079721007082976}, 0.5920420289039612], [38, {'F1-score': 0.04546165401054673}, {'NDCG': 0.07172966375946999}, 0.6620692610740662], [39, {'F1-score': 0.04594511935240465}, {'NDCG': 0.07116381551447164}, 0.6213195323944092], [40, {'F1-score': 0.045820011000115846}, {'NDCG': 0.07160317251297708}, 0.6462869048118591], [41, {'F1-score': 0.046237982643000476}, {'NDCG': 0.07130319708293038}, 0.6194282174110413], [42, {'F1-score': 0.04572700800205913}, {'NDCG': 0.07172171357682997}, 0.635358989238739], [43, {'F1-score': 0.045704030208791165}, {'NDCG': 0.07221588557866171}, 0.6522656679153442], [44, {'F1-score': 0.04529335768873681}, {'NDCG': 0.07160032948801168}, 0.6697895526885986], [45, {'F1-score': 0.045837764232223493}, {'NDCG': 0.07334194507246795}, 0.6848845481872559], [46, {'F1-score': 0.04568805972926344}, {'NDCG': 0.07233105897483297}, 0.6363197565078735], [47, {'F1-score': 0.04560691785968839}, {'NDCG': 0.07192781428400342}, 0.6792043447494507], [48, {'F1-score': 0.04537988432309903}, {'NDCG': 0.07124095615629751}, 0.6235930323600769], [49, {'F1-score': 0.04589077543084001}, {'NDCG': 0.07274710354955405}, 0.6953161954879761]]\n",
      "-----------------------------------------------------------------------------------------\n"
     ]
    },
    {
     "name": "stderr",
     "output_type": "stream",
     "text": [
      "  0%|          | 1/932 [00:00<02:05,  7.41it/s]"
     ]
    },
    {
     "name": "stdout",
     "output_type": "stream",
     "text": [
      "Epoch 50: 0% , Loss: 0.371363\n"
     ]
    },
    {
     "name": "stderr",
     "output_type": "stream",
     "text": [
      " 11%|█         | 102/932 [00:11<01:34,  8.82it/s]"
     ]
    },
    {
     "name": "stdout",
     "output_type": "stream",
     "text": [
      "Epoch 50: 11% , Loss: 0.172691\n"
     ]
    },
    {
     "name": "stderr",
     "output_type": "stream",
     "text": [
      " 22%|██▏       | 202/932 [00:23<01:27,  8.37it/s]"
     ]
    },
    {
     "name": "stdout",
     "output_type": "stream",
     "text": [
      "Epoch 50: 21% , Loss: 0.223532\n"
     ]
    },
    {
     "name": "stderr",
     "output_type": "stream",
     "text": [
      " 32%|███▏      | 302/932 [00:35<01:15,  8.36it/s]"
     ]
    },
    {
     "name": "stdout",
     "output_type": "stream",
     "text": [
      "Epoch 50: 32% , Loss: 1.193944\n"
     ]
    },
    {
     "name": "stderr",
     "output_type": "stream",
     "text": [
      " 43%|████▎     | 402/932 [00:49<01:14,  7.09it/s]"
     ]
    },
    {
     "name": "stdout",
     "output_type": "stream",
     "text": [
      "Epoch 50: 43% , Loss: 0.198015\n"
     ]
    },
    {
     "name": "stderr",
     "output_type": "stream",
     "text": [
      " 54%|█████▍    | 502/932 [01:03<01:03,  6.81it/s]"
     ]
    },
    {
     "name": "stdout",
     "output_type": "stream",
     "text": [
      "Epoch 50: 54% , Loss: 0.165805\n"
     ]
    },
    {
     "name": "stderr",
     "output_type": "stream",
     "text": [
      " 65%|██████▍   | 602/932 [01:17<00:48,  6.86it/s]"
     ]
    },
    {
     "name": "stdout",
     "output_type": "stream",
     "text": [
      "Epoch 50: 64% , Loss: 0.264479\n"
     ]
    },
    {
     "name": "stderr",
     "output_type": "stream",
     "text": [
      " 75%|███████▌  | 701/932 [01:32<00:36,  6.27it/s]"
     ]
    },
    {
     "name": "stdout",
     "output_type": "stream",
     "text": [
      "Epoch 50: 75% , Loss: 0.179652\n"
     ]
    },
    {
     "name": "stderr",
     "output_type": "stream",
     "text": [
      " 86%|████████▌ | 801/932 [01:49<00:23,  5.48it/s]"
     ]
    },
    {
     "name": "stdout",
     "output_type": "stream",
     "text": [
      "Epoch 50: 86% , Loss: 0.155983\n"
     ]
    },
    {
     "name": "stderr",
     "output_type": "stream",
     "text": [
      " 97%|█████████▋| 901/932 [02:05<00:05,  5.86it/s]"
     ]
    },
    {
     "name": "stdout",
     "output_type": "stream",
     "text": [
      "Epoch 50: 97% , Loss: 0.070439\n"
     ]
    },
    {
     "name": "stderr",
     "output_type": "stream",
     "text": [
      "100%|██████████| 932/932 [02:10<00:00,  7.12it/s]\n"
     ]
    },
    {
     "name": "stdout",
     "output_type": "stream",
     "text": [
      "Epoch 50: 100% , Loss: 0.154496\n",
      "                      (F1-score: 0.0462)\n",
      "\n",
      "                      (NDCG: 0.0708)\n",
      "\n",
      "train_loss= tensor(0.3768)\n",
      "--------------------\n"
     ]
    },
    {
     "name": "stderr",
     "output_type": "stream",
     "text": [
      "100%|██████████| 133/133 [00:10<00:00, 12.51it/s]\n"
     ]
    },
    {
     "name": "stdout",
     "output_type": "stream",
     "text": [
      "                      (F1-score: 0.0423)\n",
      "\n",
      "                      (NDCG: 0.0681)\n",
      "\n",
      "val_loss= tensor(0.6300)\n",
      "--------------------\n"
     ]
    },
    {
     "name": "stderr",
     "output_type": "stream",
     "text": [
      "100%|██████████| 266/266 [00:21<00:00, 12.54it/s]\n"
     ]
    },
    {
     "name": "stdout",
     "output_type": "stream",
     "text": [
      "                      (F1-score: 0.0455)\n",
      "\n",
      "                      (NDCG: 0.0710)\n",
      "\n",
      "--------------------\n",
      "[[1, {'F1-score': 4.699248120300752e-05}, {'NDCG': 5.563101696228623e-05}, 0.7670180201530457], [2, {'F1-score': 0.00011487050960735171}, {'NDCG': 0.00014315448225216758}, 0.715857744216919], [3, {'F1-score': 0.018416218112489686}, {'NDCG': 0.021840268549950498}, 0.6940310597419739], [4, {'F1-score': 0.02642099617829246}, {'NDCG': 0.050063680437274445}, 0.7274060845375061], [5, {'F1-score': 0.03184700578141456}, {'NDCG': 0.0567162063399932}, 0.6694043874740601], [6, {'F1-score': 0.04223931158741518}, {'NDCG': 0.06820185580535938}, 0.6241940259933472], [7, {'F1-score': 0.04472424625645027}, {'NDCG': 0.07029548350763612}, 0.6142300963401794], [8, {'F1-score': 0.04290899937899723}, {'NDCG': 0.06925275580803479}, 0.5995289087295532], [9, {'F1-score': 0.04355782601394225}, {'NDCG': 0.06926687848684203}, 0.5936050415039062], [10, {'F1-score': 0.04515040172211956}, {'NDCG': 0.07034251727758997}, 0.5631183981895447], [11, {'F1-score': 0.04443880060696239}, {'NDCG': 0.06966079903164304}, 0.5811899900436401], [12, {'F1-score': 0.04493371631063535}, {'NDCG': 0.07014683947751396}, 0.5719975233078003], [13, {'F1-score': 0.04565093364193787}, {'NDCG': 0.07099754219748695}, 0.5907054543495178], [14, {'F1-score': 0.04460370476914024}, {'NDCG': 0.06966909922876473}, 0.6000447869300842], [15, {'F1-score': 0.04515451072586205}, {'NDCG': 0.0703947995509252}, 0.5761183500289917], [16, {'F1-score': 0.04701275208181636}, {'NDCG': 0.07190614512288257}, 0.5787864327430725], [17, {'F1-score': 0.04395315981777069}, {'NDCG': 0.0696789747125056}, 0.5855261087417603], [18, {'F1-score': 0.04512002444079792}, {'NDCG': 0.07008551670189359}, 0.5888639688491821], [19, {'F1-score': 0.04589398412900888}, {'NDCG': 0.07090936102589271}, 0.5673319101333618], [20, {'F1-score': 0.04354598355720392}, {'NDCG': 0.06940149212662215}, 0.6078929305076599], [21, {'F1-score': 0.04496149679798609}, {'NDCG': 0.07024026605391637}, 0.5779813528060913], [22, {'F1-score': 0.04627983692977624}, {'NDCG': 0.07102968256843549}, 0.5800273418426514], [23, {'F1-score': 0.045970301863114446}, {'NDCG': 0.07065959585851576}, 0.5470777750015259], [24, {'F1-score': 0.0463723383857829}, {'NDCG': 0.07075474591036432}, 0.5513803362846375], [25, {'F1-score': 0.04518623687723846}, {'NDCG': 0.07005241675358406}, 0.565579891204834], [26, {'F1-score': 0.045791294911088916}, {'NDCG': 0.07047046630650311}, 0.5642924904823303], [27, {'F1-score': 0.04516315284252287}, {'NDCG': 0.07118766886161122}, 0.5898812413215637], [28, {'F1-score': 0.04576475042192481}, {'NDCG': 0.07046511895863578}, 0.5653799176216125], [29, {'F1-score': 0.0465399900159111}, {'NDCG': 0.07098571418546476}, 0.5656462907791138], [30, {'F1-score': 0.04531047734974595}, {'NDCG': 0.0702926691821111}, 0.5791805386543274], [31, {'F1-score': 0.0457223058531297}, {'NDCG': 0.07075386763466313}, 0.572213888168335], [32, {'F1-score': 0.046583669062952124}, {'NDCG': 0.07216073586815562}, 0.6482391357421875], [33, {'F1-score': 0.04647101286346337}, {'NDCG': 0.07128521838379477}, 0.6065346002578735], [34, {'F1-score': 0.0456100121455687}, {'NDCG': 0.07065318853426304}, 0.6181027889251709], [35, {'F1-score': 0.04528497897632059}, {'NDCG': 0.07061878128740516}, 0.6007017493247986], [36, {'F1-score': 0.04486473654810486}, {'NDCG': 0.07047449536901668}, 0.6269128918647766], [37, {'F1-score': 0.045164433983955865}, {'NDCG': 0.07079721007082976}, 0.5920420289039612], [38, {'F1-score': 0.04546165401054673}, {'NDCG': 0.07172966375946999}, 0.6620692610740662], [39, {'F1-score': 0.04594511935240465}, {'NDCG': 0.07116381551447164}, 0.6213195323944092], [40, {'F1-score': 0.045820011000115846}, {'NDCG': 0.07160317251297708}, 0.6462869048118591], [41, {'F1-score': 0.046237982643000476}, {'NDCG': 0.07130319708293038}, 0.6194282174110413], [42, {'F1-score': 0.04572700800205913}, {'NDCG': 0.07172171357682997}, 0.635358989238739], [43, {'F1-score': 0.045704030208791165}, {'NDCG': 0.07221588557866171}, 0.6522656679153442], [44, {'F1-score': 0.04529335768873681}, {'NDCG': 0.07160032948801168}, 0.6697895526885986], [45, {'F1-score': 0.045837764232223493}, {'NDCG': 0.07334194507246795}, 0.6848845481872559], [46, {'F1-score': 0.04568805972926344}, {'NDCG': 0.07233105897483297}, 0.6363197565078735], [47, {'F1-score': 0.04560691785968839}, {'NDCG': 0.07192781428400342}, 0.6792043447494507], [48, {'F1-score': 0.04537988432309903}, {'NDCG': 0.07124095615629751}, 0.6235930323600769], [49, {'F1-score': 0.04589077543084001}, {'NDCG': 0.07274710354955405}, 0.6953161954879761], [50, {'F1-score': 0.04550314717467871}, {'NDCG': 0.07099768885453336}, 0.6300094127655029]]\n",
      "-----------------------------------------------------------------------------------------\n"
     ]
    },
    {
     "data": {
      "text/html": [
       "<div>\n",
       "<style scoped>\n",
       "    .dataframe tbody tr th:only-of-type {\n",
       "        vertical-align: middle;\n",
       "    }\n",
       "\n",
       "    .dataframe tbody tr th {\n",
       "        vertical-align: top;\n",
       "    }\n",
       "\n",
       "    .dataframe thead th {\n",
       "        text-align: right;\n",
       "    }\n",
       "</style>\n",
       "<table border=\"1\" class=\"dataframe\">\n",
       "  <thead>\n",
       "    <tr style=\"text-align: right;\">\n",
       "      <th></th>\n",
       "      <th>Epoch</th>\n",
       "      <th>F1-score</th>\n",
       "      <th>NDCG</th>\n",
       "      <th>val_loss</th>\n",
       "    </tr>\n",
       "  </thead>\n",
       "  <tbody>\n",
       "    <tr>\n",
       "      <th>0</th>\n",
       "      <td>1</td>\n",
       "      <td>{'F1-score': 4.699248120300752e-05}</td>\n",
       "      <td>{'NDCG': 5.563101696228623e-05}</td>\n",
       "      <td>0.767018</td>\n",
       "    </tr>\n",
       "    <tr>\n",
       "      <th>1</th>\n",
       "      <td>2</td>\n",
       "      <td>{'F1-score': 0.00011487050960735171}</td>\n",
       "      <td>{'NDCG': 0.00014315448225216758}</td>\n",
       "      <td>0.715858</td>\n",
       "    </tr>\n",
       "    <tr>\n",
       "      <th>2</th>\n",
       "      <td>3</td>\n",
       "      <td>{'F1-score': 0.018416218112489686}</td>\n",
       "      <td>{'NDCG': 0.021840268549950498}</td>\n",
       "      <td>0.694031</td>\n",
       "    </tr>\n",
       "    <tr>\n",
       "      <th>3</th>\n",
       "      <td>4</td>\n",
       "      <td>{'F1-score': 0.02642099617829246}</td>\n",
       "      <td>{'NDCG': 0.050063680437274445}</td>\n",
       "      <td>0.727406</td>\n",
       "    </tr>\n",
       "    <tr>\n",
       "      <th>4</th>\n",
       "      <td>5</td>\n",
       "      <td>{'F1-score': 0.03184700578141456}</td>\n",
       "      <td>{'NDCG': 0.0567162063399932}</td>\n",
       "      <td>0.669404</td>\n",
       "    </tr>\n",
       "    <tr>\n",
       "      <th>5</th>\n",
       "      <td>6</td>\n",
       "      <td>{'F1-score': 0.04223931158741518}</td>\n",
       "      <td>{'NDCG': 0.06820185580535938}</td>\n",
       "      <td>0.624194</td>\n",
       "    </tr>\n",
       "    <tr>\n",
       "      <th>6</th>\n",
       "      <td>7</td>\n",
       "      <td>{'F1-score': 0.04472424625645027}</td>\n",
       "      <td>{'NDCG': 0.07029548350763612}</td>\n",
       "      <td>0.614230</td>\n",
       "    </tr>\n",
       "    <tr>\n",
       "      <th>7</th>\n",
       "      <td>8</td>\n",
       "      <td>{'F1-score': 0.04290899937899723}</td>\n",
       "      <td>{'NDCG': 0.06925275580803479}</td>\n",
       "      <td>0.599529</td>\n",
       "    </tr>\n",
       "    <tr>\n",
       "      <th>8</th>\n",
       "      <td>9</td>\n",
       "      <td>{'F1-score': 0.04355782601394225}</td>\n",
       "      <td>{'NDCG': 0.06926687848684203}</td>\n",
       "      <td>0.593605</td>\n",
       "    </tr>\n",
       "    <tr>\n",
       "      <th>9</th>\n",
       "      <td>10</td>\n",
       "      <td>{'F1-score': 0.04515040172211956}</td>\n",
       "      <td>{'NDCG': 0.07034251727758997}</td>\n",
       "      <td>0.563118</td>\n",
       "    </tr>\n",
       "    <tr>\n",
       "      <th>10</th>\n",
       "      <td>11</td>\n",
       "      <td>{'F1-score': 0.04443880060696239}</td>\n",
       "      <td>{'NDCG': 0.06966079903164304}</td>\n",
       "      <td>0.581190</td>\n",
       "    </tr>\n",
       "    <tr>\n",
       "      <th>11</th>\n",
       "      <td>12</td>\n",
       "      <td>{'F1-score': 0.04493371631063535}</td>\n",
       "      <td>{'NDCG': 0.07014683947751396}</td>\n",
       "      <td>0.571998</td>\n",
       "    </tr>\n",
       "    <tr>\n",
       "      <th>12</th>\n",
       "      <td>13</td>\n",
       "      <td>{'F1-score': 0.04565093364193787}</td>\n",
       "      <td>{'NDCG': 0.07099754219748695}</td>\n",
       "      <td>0.590705</td>\n",
       "    </tr>\n",
       "    <tr>\n",
       "      <th>13</th>\n",
       "      <td>14</td>\n",
       "      <td>{'F1-score': 0.04460370476914024}</td>\n",
       "      <td>{'NDCG': 0.06966909922876473}</td>\n",
       "      <td>0.600045</td>\n",
       "    </tr>\n",
       "    <tr>\n",
       "      <th>14</th>\n",
       "      <td>15</td>\n",
       "      <td>{'F1-score': 0.04515451072586205}</td>\n",
       "      <td>{'NDCG': 0.0703947995509252}</td>\n",
       "      <td>0.576118</td>\n",
       "    </tr>\n",
       "    <tr>\n",
       "      <th>15</th>\n",
       "      <td>16</td>\n",
       "      <td>{'F1-score': 0.04701275208181636}</td>\n",
       "      <td>{'NDCG': 0.07190614512288257}</td>\n",
       "      <td>0.578786</td>\n",
       "    </tr>\n",
       "    <tr>\n",
       "      <th>16</th>\n",
       "      <td>17</td>\n",
       "      <td>{'F1-score': 0.04395315981777069}</td>\n",
       "      <td>{'NDCG': 0.0696789747125056}</td>\n",
       "      <td>0.585526</td>\n",
       "    </tr>\n",
       "    <tr>\n",
       "      <th>17</th>\n",
       "      <td>18</td>\n",
       "      <td>{'F1-score': 0.04512002444079792}</td>\n",
       "      <td>{'NDCG': 0.07008551670189359}</td>\n",
       "      <td>0.588864</td>\n",
       "    </tr>\n",
       "    <tr>\n",
       "      <th>18</th>\n",
       "      <td>19</td>\n",
       "      <td>{'F1-score': 0.04589398412900888}</td>\n",
       "      <td>{'NDCG': 0.07090936102589271}</td>\n",
       "      <td>0.567332</td>\n",
       "    </tr>\n",
       "    <tr>\n",
       "      <th>19</th>\n",
       "      <td>20</td>\n",
       "      <td>{'F1-score': 0.04354598355720392}</td>\n",
       "      <td>{'NDCG': 0.06940149212662215}</td>\n",
       "      <td>0.607893</td>\n",
       "    </tr>\n",
       "    <tr>\n",
       "      <th>20</th>\n",
       "      <td>21</td>\n",
       "      <td>{'F1-score': 0.04496149679798609}</td>\n",
       "      <td>{'NDCG': 0.07024026605391637}</td>\n",
       "      <td>0.577981</td>\n",
       "    </tr>\n",
       "    <tr>\n",
       "      <th>21</th>\n",
       "      <td>22</td>\n",
       "      <td>{'F1-score': 0.04627983692977624}</td>\n",
       "      <td>{'NDCG': 0.07102968256843549}</td>\n",
       "      <td>0.580027</td>\n",
       "    </tr>\n",
       "    <tr>\n",
       "      <th>22</th>\n",
       "      <td>23</td>\n",
       "      <td>{'F1-score': 0.045970301863114446}</td>\n",
       "      <td>{'NDCG': 0.07065959585851576}</td>\n",
       "      <td>0.547078</td>\n",
       "    </tr>\n",
       "    <tr>\n",
       "      <th>23</th>\n",
       "      <td>24</td>\n",
       "      <td>{'F1-score': 0.0463723383857829}</td>\n",
       "      <td>{'NDCG': 0.07075474591036432}</td>\n",
       "      <td>0.551380</td>\n",
       "    </tr>\n",
       "    <tr>\n",
       "      <th>24</th>\n",
       "      <td>25</td>\n",
       "      <td>{'F1-score': 0.04518623687723846}</td>\n",
       "      <td>{'NDCG': 0.07005241675358406}</td>\n",
       "      <td>0.565580</td>\n",
       "    </tr>\n",
       "    <tr>\n",
       "      <th>25</th>\n",
       "      <td>26</td>\n",
       "      <td>{'F1-score': 0.045791294911088916}</td>\n",
       "      <td>{'NDCG': 0.07047046630650311}</td>\n",
       "      <td>0.564292</td>\n",
       "    </tr>\n",
       "    <tr>\n",
       "      <th>26</th>\n",
       "      <td>27</td>\n",
       "      <td>{'F1-score': 0.04516315284252287}</td>\n",
       "      <td>{'NDCG': 0.07118766886161122}</td>\n",
       "      <td>0.589881</td>\n",
       "    </tr>\n",
       "    <tr>\n",
       "      <th>27</th>\n",
       "      <td>28</td>\n",
       "      <td>{'F1-score': 0.04576475042192481}</td>\n",
       "      <td>{'NDCG': 0.07046511895863578}</td>\n",
       "      <td>0.565380</td>\n",
       "    </tr>\n",
       "    <tr>\n",
       "      <th>28</th>\n",
       "      <td>29</td>\n",
       "      <td>{'F1-score': 0.0465399900159111}</td>\n",
       "      <td>{'NDCG': 0.07098571418546476}</td>\n",
       "      <td>0.565646</td>\n",
       "    </tr>\n",
       "    <tr>\n",
       "      <th>29</th>\n",
       "      <td>30</td>\n",
       "      <td>{'F1-score': 0.04531047734974595}</td>\n",
       "      <td>{'NDCG': 0.0702926691821111}</td>\n",
       "      <td>0.579181</td>\n",
       "    </tr>\n",
       "    <tr>\n",
       "      <th>30</th>\n",
       "      <td>31</td>\n",
       "      <td>{'F1-score': 0.0457223058531297}</td>\n",
       "      <td>{'NDCG': 0.07075386763466313}</td>\n",
       "      <td>0.572214</td>\n",
       "    </tr>\n",
       "    <tr>\n",
       "      <th>31</th>\n",
       "      <td>32</td>\n",
       "      <td>{'F1-score': 0.046583669062952124}</td>\n",
       "      <td>{'NDCG': 0.07216073586815562}</td>\n",
       "      <td>0.648239</td>\n",
       "    </tr>\n",
       "    <tr>\n",
       "      <th>32</th>\n",
       "      <td>33</td>\n",
       "      <td>{'F1-score': 0.04647101286346337}</td>\n",
       "      <td>{'NDCG': 0.07128521838379477}</td>\n",
       "      <td>0.606535</td>\n",
       "    </tr>\n",
       "    <tr>\n",
       "      <th>33</th>\n",
       "      <td>34</td>\n",
       "      <td>{'F1-score': 0.0456100121455687}</td>\n",
       "      <td>{'NDCG': 0.07065318853426304}</td>\n",
       "      <td>0.618103</td>\n",
       "    </tr>\n",
       "    <tr>\n",
       "      <th>34</th>\n",
       "      <td>35</td>\n",
       "      <td>{'F1-score': 0.04528497897632059}</td>\n",
       "      <td>{'NDCG': 0.07061878128740516}</td>\n",
       "      <td>0.600702</td>\n",
       "    </tr>\n",
       "    <tr>\n",
       "      <th>35</th>\n",
       "      <td>36</td>\n",
       "      <td>{'F1-score': 0.04486473654810486}</td>\n",
       "      <td>{'NDCG': 0.07047449536901668}</td>\n",
       "      <td>0.626913</td>\n",
       "    </tr>\n",
       "    <tr>\n",
       "      <th>36</th>\n",
       "      <td>37</td>\n",
       "      <td>{'F1-score': 0.045164433983955865}</td>\n",
       "      <td>{'NDCG': 0.07079721007082976}</td>\n",
       "      <td>0.592042</td>\n",
       "    </tr>\n",
       "    <tr>\n",
       "      <th>37</th>\n",
       "      <td>38</td>\n",
       "      <td>{'F1-score': 0.04546165401054673}</td>\n",
       "      <td>{'NDCG': 0.07172966375946999}</td>\n",
       "      <td>0.662069</td>\n",
       "    </tr>\n",
       "    <tr>\n",
       "      <th>38</th>\n",
       "      <td>39</td>\n",
       "      <td>{'F1-score': 0.04594511935240465}</td>\n",
       "      <td>{'NDCG': 0.07116381551447164}</td>\n",
       "      <td>0.621320</td>\n",
       "    </tr>\n",
       "    <tr>\n",
       "      <th>39</th>\n",
       "      <td>40</td>\n",
       "      <td>{'F1-score': 0.045820011000115846}</td>\n",
       "      <td>{'NDCG': 0.07160317251297708}</td>\n",
       "      <td>0.646287</td>\n",
       "    </tr>\n",
       "    <tr>\n",
       "      <th>40</th>\n",
       "      <td>41</td>\n",
       "      <td>{'F1-score': 0.046237982643000476}</td>\n",
       "      <td>{'NDCG': 0.07130319708293038}</td>\n",
       "      <td>0.619428</td>\n",
       "    </tr>\n",
       "    <tr>\n",
       "      <th>41</th>\n",
       "      <td>42</td>\n",
       "      <td>{'F1-score': 0.04572700800205913}</td>\n",
       "      <td>{'NDCG': 0.07172171357682997}</td>\n",
       "      <td>0.635359</td>\n",
       "    </tr>\n",
       "    <tr>\n",
       "      <th>42</th>\n",
       "      <td>43</td>\n",
       "      <td>{'F1-score': 0.045704030208791165}</td>\n",
       "      <td>{'NDCG': 0.07221588557866171}</td>\n",
       "      <td>0.652266</td>\n",
       "    </tr>\n",
       "    <tr>\n",
       "      <th>43</th>\n",
       "      <td>44</td>\n",
       "      <td>{'F1-score': 0.04529335768873681}</td>\n",
       "      <td>{'NDCG': 0.07160032948801168}</td>\n",
       "      <td>0.669790</td>\n",
       "    </tr>\n",
       "    <tr>\n",
       "      <th>44</th>\n",
       "      <td>45</td>\n",
       "      <td>{'F1-score': 0.045837764232223493}</td>\n",
       "      <td>{'NDCG': 0.07334194507246795}</td>\n",
       "      <td>0.684885</td>\n",
       "    </tr>\n",
       "    <tr>\n",
       "      <th>45</th>\n",
       "      <td>46</td>\n",
       "      <td>{'F1-score': 0.04568805972926344}</td>\n",
       "      <td>{'NDCG': 0.07233105897483297}</td>\n",
       "      <td>0.636320</td>\n",
       "    </tr>\n",
       "    <tr>\n",
       "      <th>46</th>\n",
       "      <td>47</td>\n",
       "      <td>{'F1-score': 0.04560691785968839}</td>\n",
       "      <td>{'NDCG': 0.07192781428400342}</td>\n",
       "      <td>0.679204</td>\n",
       "    </tr>\n",
       "    <tr>\n",
       "      <th>47</th>\n",
       "      <td>48</td>\n",
       "      <td>{'F1-score': 0.04537988432309903}</td>\n",
       "      <td>{'NDCG': 0.07124095615629751}</td>\n",
       "      <td>0.623593</td>\n",
       "    </tr>\n",
       "    <tr>\n",
       "      <th>48</th>\n",
       "      <td>49</td>\n",
       "      <td>{'F1-score': 0.04589077543084001}</td>\n",
       "      <td>{'NDCG': 0.07274710354955405}</td>\n",
       "      <td>0.695316</td>\n",
       "    </tr>\n",
       "    <tr>\n",
       "      <th>49</th>\n",
       "      <td>50</td>\n",
       "      <td>{'F1-score': 0.04550314717467871}</td>\n",
       "      <td>{'NDCG': 0.07099768885453336}</td>\n",
       "      <td>0.630009</td>\n",
       "    </tr>\n",
       "  </tbody>\n",
       "</table>\n",
       "</div>"
      ],
      "text/plain": [
       "    Epoch                              F1-score  \\\n",
       "0       1   {'F1-score': 4.699248120300752e-05}   \n",
       "1       2  {'F1-score': 0.00011487050960735171}   \n",
       "2       3    {'F1-score': 0.018416218112489686}   \n",
       "3       4     {'F1-score': 0.02642099617829246}   \n",
       "4       5     {'F1-score': 0.03184700578141456}   \n",
       "5       6     {'F1-score': 0.04223931158741518}   \n",
       "6       7     {'F1-score': 0.04472424625645027}   \n",
       "7       8     {'F1-score': 0.04290899937899723}   \n",
       "8       9     {'F1-score': 0.04355782601394225}   \n",
       "9      10     {'F1-score': 0.04515040172211956}   \n",
       "10     11     {'F1-score': 0.04443880060696239}   \n",
       "11     12     {'F1-score': 0.04493371631063535}   \n",
       "12     13     {'F1-score': 0.04565093364193787}   \n",
       "13     14     {'F1-score': 0.04460370476914024}   \n",
       "14     15     {'F1-score': 0.04515451072586205}   \n",
       "15     16     {'F1-score': 0.04701275208181636}   \n",
       "16     17     {'F1-score': 0.04395315981777069}   \n",
       "17     18     {'F1-score': 0.04512002444079792}   \n",
       "18     19     {'F1-score': 0.04589398412900888}   \n",
       "19     20     {'F1-score': 0.04354598355720392}   \n",
       "20     21     {'F1-score': 0.04496149679798609}   \n",
       "21     22     {'F1-score': 0.04627983692977624}   \n",
       "22     23    {'F1-score': 0.045970301863114446}   \n",
       "23     24      {'F1-score': 0.0463723383857829}   \n",
       "24     25     {'F1-score': 0.04518623687723846}   \n",
       "25     26    {'F1-score': 0.045791294911088916}   \n",
       "26     27     {'F1-score': 0.04516315284252287}   \n",
       "27     28     {'F1-score': 0.04576475042192481}   \n",
       "28     29      {'F1-score': 0.0465399900159111}   \n",
       "29     30     {'F1-score': 0.04531047734974595}   \n",
       "30     31      {'F1-score': 0.0457223058531297}   \n",
       "31     32    {'F1-score': 0.046583669062952124}   \n",
       "32     33     {'F1-score': 0.04647101286346337}   \n",
       "33     34      {'F1-score': 0.0456100121455687}   \n",
       "34     35     {'F1-score': 0.04528497897632059}   \n",
       "35     36     {'F1-score': 0.04486473654810486}   \n",
       "36     37    {'F1-score': 0.045164433983955865}   \n",
       "37     38     {'F1-score': 0.04546165401054673}   \n",
       "38     39     {'F1-score': 0.04594511935240465}   \n",
       "39     40    {'F1-score': 0.045820011000115846}   \n",
       "40     41    {'F1-score': 0.046237982643000476}   \n",
       "41     42     {'F1-score': 0.04572700800205913}   \n",
       "42     43    {'F1-score': 0.045704030208791165}   \n",
       "43     44     {'F1-score': 0.04529335768873681}   \n",
       "44     45    {'F1-score': 0.045837764232223493}   \n",
       "45     46     {'F1-score': 0.04568805972926344}   \n",
       "46     47     {'F1-score': 0.04560691785968839}   \n",
       "47     48     {'F1-score': 0.04537988432309903}   \n",
       "48     49     {'F1-score': 0.04589077543084001}   \n",
       "49     50     {'F1-score': 0.04550314717467871}   \n",
       "\n",
       "                                NDCG  val_loss  \n",
       "0    {'NDCG': 5.563101696228623e-05}  0.767018  \n",
       "1   {'NDCG': 0.00014315448225216758}  0.715858  \n",
       "2     {'NDCG': 0.021840268549950498}  0.694031  \n",
       "3     {'NDCG': 0.050063680437274445}  0.727406  \n",
       "4       {'NDCG': 0.0567162063399932}  0.669404  \n",
       "5      {'NDCG': 0.06820185580535938}  0.624194  \n",
       "6      {'NDCG': 0.07029548350763612}  0.614230  \n",
       "7      {'NDCG': 0.06925275580803479}  0.599529  \n",
       "8      {'NDCG': 0.06926687848684203}  0.593605  \n",
       "9      {'NDCG': 0.07034251727758997}  0.563118  \n",
       "10     {'NDCG': 0.06966079903164304}  0.581190  \n",
       "11     {'NDCG': 0.07014683947751396}  0.571998  \n",
       "12     {'NDCG': 0.07099754219748695}  0.590705  \n",
       "13     {'NDCG': 0.06966909922876473}  0.600045  \n",
       "14      {'NDCG': 0.0703947995509252}  0.576118  \n",
       "15     {'NDCG': 0.07190614512288257}  0.578786  \n",
       "16      {'NDCG': 0.0696789747125056}  0.585526  \n",
       "17     {'NDCG': 0.07008551670189359}  0.588864  \n",
       "18     {'NDCG': 0.07090936102589271}  0.567332  \n",
       "19     {'NDCG': 0.06940149212662215}  0.607893  \n",
       "20     {'NDCG': 0.07024026605391637}  0.577981  \n",
       "21     {'NDCG': 0.07102968256843549}  0.580027  \n",
       "22     {'NDCG': 0.07065959585851576}  0.547078  \n",
       "23     {'NDCG': 0.07075474591036432}  0.551380  \n",
       "24     {'NDCG': 0.07005241675358406}  0.565580  \n",
       "25     {'NDCG': 0.07047046630650311}  0.564292  \n",
       "26     {'NDCG': 0.07118766886161122}  0.589881  \n",
       "27     {'NDCG': 0.07046511895863578}  0.565380  \n",
       "28     {'NDCG': 0.07098571418546476}  0.565646  \n",
       "29      {'NDCG': 0.0702926691821111}  0.579181  \n",
       "30     {'NDCG': 0.07075386763466313}  0.572214  \n",
       "31     {'NDCG': 0.07216073586815562}  0.648239  \n",
       "32     {'NDCG': 0.07128521838379477}  0.606535  \n",
       "33     {'NDCG': 0.07065318853426304}  0.618103  \n",
       "34     {'NDCG': 0.07061878128740516}  0.600702  \n",
       "35     {'NDCG': 0.07047449536901668}  0.626913  \n",
       "36     {'NDCG': 0.07079721007082976}  0.592042  \n",
       "37     {'NDCG': 0.07172966375946999}  0.662069  \n",
       "38     {'NDCG': 0.07116381551447164}  0.621320  \n",
       "39     {'NDCG': 0.07160317251297708}  0.646287  \n",
       "40     {'NDCG': 0.07130319708293038}  0.619428  \n",
       "41     {'NDCG': 0.07172171357682997}  0.635359  \n",
       "42     {'NDCG': 0.07221588557866171}  0.652266  \n",
       "43     {'NDCG': 0.07160032948801168}  0.669790  \n",
       "44     {'NDCG': 0.07334194507246795}  0.684885  \n",
       "45     {'NDCG': 0.07233105897483297}  0.636320  \n",
       "46     {'NDCG': 0.07192781428400342}  0.679204  \n",
       "47     {'NDCG': 0.07124095615629751}  0.623593  \n",
       "48     {'NDCG': 0.07274710354955405}  0.695316  \n",
       "49     {'NDCG': 0.07099768885453336}  0.630009  "
      ]
     },
     "execution_count": 40,
     "metadata": {},
     "output_type": "execute_result"
    }
   ],
   "source": [
    "# 消融實驗 w/o Item2vec and Confidence\n",
    "# MyModel02\n",
    "# 固定參數: epochs35 Transformer_layer=4 batch_size=8 embedding_size=32 hidden_size=128 lr=0.0001 num_layer=4 num_head=4\n",
    "\n",
    "results = []\n",
    "\n",
    "for epoch in range( 1  , EPOCHS + 1 ):\n",
    "    train_loss = train_model()\n",
    "    print(\"train_loss=\",train_loss)\n",
    "    print('-'*20)\n",
    "    val_loss = evaluate_model()\n",
    "    print(\"val_loss=\",val_loss)\n",
    "    print('-' * 20)\n",
    "    test_loss,f1_list,ndcg_list = test_model()\n",
    "    print('-' * 20)\n",
    "    result = [epoch] + f1_list + ndcg_list + [val_loss.item()]\n",
    "#     result = [epoch] + hr_list + f1_list + ndcg_list + [mrr_score,map_score] + [val_loss.item()]\n",
    "    results.append(result)\n",
    "    print(results)\n",
    "    print('-' * 89)\n",
    "    \n",
    "    collected = gc.collect()\n",
    "    torch.cuda.empty_cache()\n",
    "\n",
    "record_df = pd.DataFrame(results,columns=['Epoch','F1-score','NDCG','val_loss'])\n",
    "# record_df = pd.DataFrame(results,columns=['Epoch','HR@5', 'HR@10', 'HR@20', 'HR@50', 'F1-score@5', 'F1-score@10', 'F1-score@20', 'F1-score@50',\n",
    "#                            'NDCG@5', 'NDCG@10', 'NDCG@20', 'NDCG@50','MRR','MAP','val_loss'])\n",
    "record_df"
   ]
  },
  {
   "cell_type": "code",
   "execution_count": 41,
   "id": "4ff67314",
   "metadata": {},
   "outputs": [
    {
     "name": "stdout",
     "output_type": "stream",
     "text": [
      "tensor([0, 9])\n"
     ]
    },
    {
     "ename": "IndexError",
     "evalue": "Dimension out of range (expected to be in range of [-1, 0], but got 1)",
     "output_type": "error",
     "traceback": [
      "\u001b[1;31m---------------------------------------------------------------------------\u001b[0m",
      "\u001b[1;31mIndexError\u001b[0m                                Traceback (most recent call last)",
      "Cell \u001b[1;32mIn[41], line 4\u001b[0m\n\u001b[0;32m      2\u001b[0m mask \u001b[38;5;241m=\u001b[39m a\u001b[38;5;241m.\u001b[39msum(dim\u001b[38;5;241m=\u001b[39m\u001b[38;5;241m-\u001b[39m\u001b[38;5;241m1\u001b[39m)\n\u001b[0;32m      3\u001b[0m \u001b[38;5;28mprint\u001b[39m(mask)\n\u001b[1;32m----> 4\u001b[0m \u001b[38;5;28mprint\u001b[39m(mask\u001b[38;5;241m.\u001b[39mne(\u001b[38;5;241m0\u001b[39m)\u001b[38;5;241m.\u001b[39mtranspose(\u001b[38;5;241m0\u001b[39m,\u001b[38;5;241m1\u001b[39m))\n",
      "\u001b[1;31mIndexError\u001b[0m: Dimension out of range (expected to be in range of [-1, 0], but got 1)"
     ]
    }
   ],
   "source": [
    "a = torch.tensor([[0,0,0],[4,5,0]])\n",
    "mask = a.sum(dim=-1)\n",
    "print(mask)\n",
    "print(mask.ne(0).transpose(0,1))\n",
    "# 目的:相讓用戶的某個購物籃大小相同，再用key padding mask去遮padding的部分\n",
    "# 某位user的shape - (batch_size, cart的數量, item的維度)\n",
    "# 因為你padding所以代表某位用戶的cart裡面的item數量都相同\n",
    "# 代表可能是\n",
    "# [[[0,1,...,30,31],  ->第一個購物籃\n",
    "#   [32,33...,62,63],\n",
    "#   [0,0,...,0,0],],\n",
    "#  [[0,1,...,30,31],  ->第二個購物籃\n",
    "#   [32,33...,62,63],\n",
    "#   [64,65,...,94,95]]]\n",
    "# 所以sum(dim=-1)代表[0,0,0,0]是padding的\n",
    "# .ne為not equal代表不等於0:  0:false  不是0:true\n",
    "# ~代表false->true, true->false"
   ]
  },
  {
   "cell_type": "code",
   "execution_count": null,
   "id": "0da1be2c",
   "metadata": {},
   "outputs": [],
   "source": [
    "test = torch.zeros((2, 4))\n",
    "test"
   ]
  },
  {
   "cell_type": "code",
   "execution_count": null,
   "id": "57304f57",
   "metadata": {},
   "outputs": [],
   "source": [
    "# 創建兩個矩陣\n",
    "tensor1 = torch.tensor([[1, 2, 3],\n",
    "                        [4, 5, 6]])\n",
    "\n",
    "tensor2 = torch.tensor([[7, 8, 9],\n",
    "                        [10, 11, 12]])\n",
    "print(tensor1.size())\n",
    "# 按照行進行交叉穿插\n",
    "\n",
    "# 按照行進行交叉穿插\n",
    "result_column = torch.stack([(tensor1[:, i].tolist(), tensor2[:, i].tolist()) for i in range(tensor1.size(1))]).t().reshape(-1)"
   ]
  },
  {
   "cell_type": "code",
   "execution_count": null,
   "id": "3eb4b116",
   "metadata": {},
   "outputs": [],
   "source": [
    "#a = torch.stack((tensor1, tensor2), dim=1).numpy()\n",
    "#tensor3 = torch.from_numpy(a.reshape(-1,3)) # 3是 EMBEDDING_DIMENSION\n",
    "a = torch.stack((tensor1, tensor2), dim=1)\n",
    "tensor3= torch.reshape(a, (-1, 3))\n",
    "\n",
    "print(tensor3)"
   ]
  },
  {
   "cell_type": "code",
   "execution_count": null,
   "id": "654e609f",
   "metadata": {},
   "outputs": [],
   "source": [
    "def multiply2(x):\n",
    "    print(x)\n",
    "    alist = []\n",
    "    alist.append(x)\n",
    "    #print(alist)\n",
    "    return alist"
   ]
  },
  {
   "cell_type": "code",
   "execution_count": null,
   "id": "a85d0442",
   "metadata": {},
   "outputs": [],
   "source": [
    "a = [1,2]\n",
    "a = torch.tensor([[_] for _ in a])\n",
    "c = multiply2(a)\n",
    "#c = torch.tensor([multiply2(x) for x in a])\n",
    "\n",
    "#a\n",
    "#c\n",
    "\n",
    "#print(np.array(a).shape)"
   ]
  },
  {
   "cell_type": "code",
   "execution_count": null,
   "id": "bbf27932",
   "metadata": {},
   "outputs": [],
   "source": [
    "for batch_idx, (userID, basket_input, basket_label, size_input, size_label, offsets) in enumerate(train_dataloader):\n",
    "    print(basket_input)\n",
    "    #for user in basket_input:\n",
    "        #print(user)"
   ]
  },
  {
   "cell_type": "code",
   "execution_count": null,
   "id": "d8274dd0",
   "metadata": {},
   "outputs": [],
   "source": [
    "a = [\"a\",\"b\",\"c\",\"d\"]\n",
    "a= \", \".join(a)\n",
    "print(a)"
   ]
  },
  {
   "cell_type": "code",
   "execution_count": null,
   "id": "48554d40",
   "metadata": {},
   "outputs": [],
   "source": [
    "x = torch.arange(1., 6.)\n",
    "torch.topk(x, 9)"
   ]
  },
  {
   "cell_type": "code",
   "execution_count": null,
   "id": "ad1adf32",
   "metadata": {},
   "outputs": [],
   "source": [
    "x = torch.arange(1)\n",
    "print(x)"
   ]
  },
  {
   "cell_type": "code",
   "execution_count": null,
   "id": "d5ea8102",
   "metadata": {},
   "outputs": [],
   "source": []
  }
 ],
 "metadata": {
  "kernelspec": {
   "display_name": "Python 3 (ipykernel)",
   "language": "python",
   "name": "python3"
  },
  "language_info": {
   "codemirror_mode": {
    "name": "ipython",
    "version": 3
   },
   "file_extension": ".py",
   "mimetype": "text/x-python",
   "name": "python",
   "nbconvert_exporter": "python",
   "pygments_lexer": "ipython3",
   "version": "3.11.5"
  }
 },
 "nbformat": 4,
 "nbformat_minor": 5
}
