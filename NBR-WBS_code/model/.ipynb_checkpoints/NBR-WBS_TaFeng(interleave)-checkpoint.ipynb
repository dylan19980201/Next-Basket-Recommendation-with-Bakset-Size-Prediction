{
 "cells": [
  {
   "cell_type": "markdown",
   "id": "a246ddd9",
   "metadata": {},
   "source": [
    "# 下載套件"
   ]
  },
  {
   "cell_type": "code",
   "execution_count": 1,
   "id": "72209793",
   "metadata": {},
   "outputs": [],
   "source": [
    "import torch\n",
    "import torch.nn as nn\n",
    "from torch import nn, matmul, softmax\n",
    "from torch.nn.init import xavier_uniform_\n",
    "import torch.nn.functional as F\n",
    "import torch.nn.utils.rnn as rnn_utils\n",
    "from torch.autograd import Variable\n",
    "\n",
    "import numpy as np\n",
    "import pandas as pd\n",
    "import gensim\n",
    "from gensim.models import KeyedVectors\n",
    "import pickle\n",
    "import gzip \n",
    "import gc\n",
    "import random"
   ]
  },
  {
   "cell_type": "code",
   "execution_count": 2,
   "id": "e3db86c1",
   "metadata": {},
   "outputs": [],
   "source": [
    "from torch.utils.data import DataLoader, Dataset\n",
    "from torch.utils.data.dataset import random_split\n",
    "\n",
    "from tqdm import tqdm\n",
    "from collections import Counter\n",
    "\n",
    "import math"
   ]
  },
  {
   "cell_type": "markdown",
   "id": "d32d7025",
   "metadata": {},
   "source": [
    "# 參數設置"
   ]
  },
  {
   "cell_type": "code",
   "execution_count": 3,
   "id": "6da217e0",
   "metadata": {},
   "outputs": [],
   "source": [
    "# 超參數\n",
    "EPOCHS = 25\n",
    "LEARNING_RATE = 0.0001                # Learning_rate    TaFeng = 0.01         Dunnhumby = 0.0001\n",
    "BATCH_SIZE = 8\n",
    "ALPHA = 0.01\n",
    "BETA = 0.95                         # TaFeng = 0.95, Dunnhumby = 0.001\n",
    "EMBEDDING_DIMENSION = 32               # 嵌入維度   TaFeng = 32, Dunnhumby = 32\n",
    "MODEL_DIMENSION = EMBEDDING_DIMENSION  # 模型維度\n",
    "HIDDEN_DIMENSION = 128                 # MLP 隱藏層維度\n",
    "HIDDEN_SIZE = 16                       # LSTM 隱藏層維度\n",
    "NUM_HEAD = 4\n",
    "NUM_LAYER = 4\n",
    "\n",
    "isMC = 1\n",
    "isI2V = 1"
   ]
  },
  {
   "cell_type": "markdown",
   "id": "4283cbc8",
   "metadata": {},
   "source": [
    "# 匯入檔案\n",
    "- item2Vec_TaFeng.32d.model\n",
    "- TaFeng_user_cart_itemid_list.gz\n",
    "- Ta_feng_clean.csv"
   ]
  },
  {
   "cell_type": "code",
   "execution_count": 4,
   "id": "3715f2a4",
   "metadata": {},
   "outputs": [],
   "source": [
    "# 資料集\n",
    "DATASET_NAME = \"TaFeng\"     # 讀取TaFeng資料\n",
    "# DATASET_NAME = \"Dunnhumby\"  # 讀取Dunnhumby資料\n",
    "# DATASET_NAME = \"Instacart\"  # 讀取Instacart資料"
   ]
  },
  {
   "cell_type": "code",
   "execution_count": 5,
   "id": "32520298",
   "metadata": {},
   "outputs": [
    {
     "data": {
      "text/plain": [
       "torch.Size([15764, 32])"
      ]
     },
     "execution_count": 5,
     "metadata": {},
     "output_type": "execute_result"
    }
   ],
   "source": [
    "# load word2Vec pre_train model\n",
    "model_filename = f\"../preprocessing-data/item2vec_models/item2vec_{DATASET_NAME}.{EMBEDDING_DIMENSION}d.model\"\n",
    "# {DATASET}\n",
    "with open(model_filename, \"rb\") as fp:\n",
    "    model = pickle.load(fp)\n",
    "weights = torch.FloatTensor(model.wv.vectors)\n",
    "weights.shape"
   ]
  },
  {
   "cell_type": "code",
   "execution_count": 6,
   "id": "bbe80d00",
   "metadata": {
    "scrolled": true
   },
   "outputs": [
    {
     "data": {
      "text/plain": [
       "[(1113,\n",
       "  [[0, 1, 2], [3, 4, 5, 6, 7, 8], [9, 10, 11, 12, 13, 14, 15]],\n",
       "  [3, 6, 7]),\n",
       " (5241,\n",
       "  [[16, 17, 18, 19, 20, 21],\n",
       "   [22, 23, 24, 25, 26, 27, 28, 29, 30, 31],\n",
       "   [32, 33, 34, 35, 36, 37, 38, 39, 40, 41, 42, 43, 44, 45, 46, 47],\n",
       "   [48, 49, 50, 51, 52]],\n",
       "  [6, 10, 16, 5])]"
      ]
     },
     "execution_count": 6,
     "metadata": {},
     "output_type": "execute_result"
    }
   ],
   "source": [
    "# {DATASET} user_cart_itemid_list 用戶id, 購物籃時間差(不會使用到), 此用戶的購物籃串列(每個串列包含多項目)。\n",
    "with gzip.open(f\"../preprocessing-data/{DATASET_NAME}_user_cart_itemid_list.gz\", \"rb\") as fp:\n",
    "    user_cart_itemid_list = pickle.load(fp)\n",
    "user_cart_itemid_list[:2]"
   ]
  },
  {
   "cell_type": "code",
   "execution_count": 7,
   "id": "361c43d7",
   "metadata": {},
   "outputs": [],
   "source": [
    "# Load {DATASET} confidences_Matrix\n",
    "with gzip.open(f\"../preprocessing-data/confidences/{DATASET_NAME}_confidences_array.gz\", \"rb\") as fp:\n",
    "    confidences = pickle.load(fp)"
   ]
  },
  {
   "cell_type": "code",
   "execution_count": 8,
   "id": "b83d2fe8",
   "metadata": {},
   "outputs": [
    {
     "name": "stdout",
     "output_type": "stream",
     "text": [
      "72\n"
     ]
    },
    {
     "data": {
      "text/html": [
       "<div>\n",
       "<style scoped>\n",
       "    .dataframe tbody tr th:only-of-type {\n",
       "        vertical-align: middle;\n",
       "    }\n",
       "\n",
       "    .dataframe tbody tr th {\n",
       "        vertical-align: top;\n",
       "    }\n",
       "\n",
       "    .dataframe thead th {\n",
       "        text-align: right;\n",
       "    }\n",
       "</style>\n",
       "<table border=\"1\" class=\"dataframe\">\n",
       "  <thead>\n",
       "    <tr style=\"text-align: right;\">\n",
       "      <th></th>\n",
       "      <th>CUSTOMER_ID</th>\n",
       "      <th>PRODUCT_ID</th>\n",
       "      <th>TRANSACTION_DT</th>\n",
       "      <th>CART_ID</th>\n",
       "      <th>NEW_ITEM_ID</th>\n",
       "    </tr>\n",
       "  </thead>\n",
       "  <tbody>\n",
       "    <tr>\n",
       "      <th>0</th>\n",
       "      <td>1113</td>\n",
       "      <td>4902105011621</td>\n",
       "      <td>2000-11-26</td>\n",
       "      <td>0</td>\n",
       "      <td>0</td>\n",
       "    </tr>\n",
       "    <tr>\n",
       "      <th>1</th>\n",
       "      <td>1113</td>\n",
       "      <td>7616100830794</td>\n",
       "      <td>2000-11-26</td>\n",
       "      <td>0</td>\n",
       "      <td>1</td>\n",
       "    </tr>\n",
       "    <tr>\n",
       "      <th>2</th>\n",
       "      <td>1113</td>\n",
       "      <td>4710892632017</td>\n",
       "      <td>2000-11-26</td>\n",
       "      <td>0</td>\n",
       "      <td>2</td>\n",
       "    </tr>\n",
       "    <tr>\n",
       "      <th>3</th>\n",
       "      <td>1113</td>\n",
       "      <td>4710905340113</td>\n",
       "      <td>2000-11-27</td>\n",
       "      <td>1</td>\n",
       "      <td>3</td>\n",
       "    </tr>\n",
       "    <tr>\n",
       "      <th>4</th>\n",
       "      <td>1113</td>\n",
       "      <td>4717362901277</td>\n",
       "      <td>2000-11-27</td>\n",
       "      <td>1</td>\n",
       "      <td>4</td>\n",
       "    </tr>\n",
       "    <tr>\n",
       "      <th>...</th>\n",
       "      <td>...</td>\n",
       "      <td>...</td>\n",
       "      <td>...</td>\n",
       "      <td>...</td>\n",
       "      <td>...</td>\n",
       "    </tr>\n",
       "    <tr>\n",
       "      <th>533054</th>\n",
       "      <td>20002000</td>\n",
       "      <td>4710339772139</td>\n",
       "      <td>2001-01-20</td>\n",
       "      <td>62360</td>\n",
       "      <td>4546</td>\n",
       "    </tr>\n",
       "    <tr>\n",
       "      <th>533055</th>\n",
       "      <td>20002000</td>\n",
       "      <td>20513184</td>\n",
       "      <td>2001-01-20</td>\n",
       "      <td>62360</td>\n",
       "      <td>1351</td>\n",
       "    </tr>\n",
       "    <tr>\n",
       "      <th>533056</th>\n",
       "      <td>20002000</td>\n",
       "      <td>4714800731229</td>\n",
       "      <td>2001-01-20</td>\n",
       "      <td>62360</td>\n",
       "      <td>2946</td>\n",
       "    </tr>\n",
       "    <tr>\n",
       "      <th>533057</th>\n",
       "      <td>20002000</td>\n",
       "      <td>4714541091071</td>\n",
       "      <td>2001-01-20</td>\n",
       "      <td>62360</td>\n",
       "      <td>7382</td>\n",
       "    </tr>\n",
       "    <tr>\n",
       "      <th>533058</th>\n",
       "      <td>20002000</td>\n",
       "      <td>4710018008634</td>\n",
       "      <td>2001-01-20</td>\n",
       "      <td>62360</td>\n",
       "      <td>2629</td>\n",
       "    </tr>\n",
       "  </tbody>\n",
       "</table>\n",
       "<p>533059 rows × 5 columns</p>\n",
       "</div>"
      ],
      "text/plain": [
       "        CUSTOMER_ID     PRODUCT_ID TRANSACTION_DT  CART_ID  NEW_ITEM_ID\n",
       "0              1113  4902105011621     2000-11-26        0            0\n",
       "1              1113  7616100830794     2000-11-26        0            1\n",
       "2              1113  4710892632017     2000-11-26        0            2\n",
       "3              1113  4710905340113     2000-11-27        1            3\n",
       "4              1113  4717362901277     2000-11-27        1            4\n",
       "...             ...            ...            ...      ...          ...\n",
       "533054     20002000  4710339772139     2001-01-20    62360         4546\n",
       "533055     20002000       20513184     2001-01-20    62360         1351\n",
       "533056     20002000  4714800731229     2001-01-20    62360         2946\n",
       "533057     20002000  4714541091071     2001-01-20    62360         7382\n",
       "533058     20002000  4710018008634     2001-01-20    62360         2629\n",
       "\n",
       "[533059 rows x 5 columns]"
      ]
     },
     "execution_count": 8,
     "metadata": {},
     "output_type": "execute_result"
    }
   ],
   "source": [
    "dataset = pd.read_csv(f\"../cleaned_dataset/{DATASET_NAME}_clean.csv\")\n",
    "\n",
    "# 最多購物籃\n",
    "max_cart_count = dataset.groupby(\"CUSTOMER_ID\")[\"CART_ID\"].nunique().max()\n",
    "print(max_cart_count)\n",
    "\n",
    "dataset"
   ]
  },
  {
   "cell_type": "markdown",
   "id": "a0877d82",
   "metadata": {},
   "source": [
    "# 切分資料集\n",
    "- 分成輸入資料與標籤資料\n",
    "- 訓練集:驗證集:測試集 = 7:1:2"
   ]
  },
  {
   "cell_type": "code",
   "execution_count": 9,
   "id": "73e9cf41",
   "metadata": {},
   "outputs": [],
   "source": [
    "# 切分資料集\n",
    "# train_set_size = int(len(user_cart_itemid_list) * 0.8)\n",
    "# valid_set_size = int(len(user_cart_itemid_list) * 0.1)\n",
    "# test_set_size = len(user_cart_itemid_list)-train_set_size-valid_set_size\n",
    "# train_set, valid_set, test_set = random_split(user_cart_itemid_list, [train_set_size, valid_set_size, test_set_size])\n",
    "# print(len(train_set))\n",
    "# print(len(valid_set))\n",
    "# print(len(test_set))"
   ]
  },
  {
   "cell_type": "code",
   "execution_count": 10,
   "id": "5edaa93d",
   "metadata": {},
   "outputs": [],
   "source": [
    "# 將切割好的資料集暫存起來\n",
    "\n",
    "# # 訓練集\n",
    "# filepath = \"../preprocessing-data/TaFeng_dataset/train_set.pkl\"\n",
    "# with open(filepath, \"wb\") as f:\n",
    "#     pickle.dump(train_set, f)\n",
    "# # 驗證集\n",
    "# filepath = \"../preprocessing-data/TaFeng_dataset/valid_set.pkl\"\n",
    "# with open(filepath, \"wb\") as f:\n",
    "#     pickle.dump(valid_set, f)\n",
    "# # 測試集\n",
    "# filepath = \"../preprocessing-data/TaFeng_dataset/test_set.pkl\"\n",
    "# with open(filepath, \"wb\") as f:\n",
    "#     pickle.dump(test_set, f)"
   ]
  },
  {
   "cell_type": "code",
   "execution_count": 11,
   "id": "b203d0c9",
   "metadata": {},
   "outputs": [],
   "source": [
    "# 讀取之前暫存的資料集\n",
    "\n",
    "# 載入訓練、驗證、測試集\n",
    "with open(\"../preprocessing-data/TaFeng_dataset/train_set.pkl\", \"rb\") as fp:\n",
    "    train_set = pickle.load(fp)\n",
    "with open(\"../preprocessing-data/TaFeng_dataset/valid_set.pkl\", \"rb\") as fp:\n",
    "    valid_set = pickle.load(fp)\n",
    "with open(\"../preprocessing-data/TaFeng_dataset/test_set.pkl\", \"rb\") as fp:\n",
    "    test_set = pickle.load(fp)"
   ]
  },
  {
   "cell_type": "markdown",
   "id": "c9585447",
   "metadata": {},
   "source": [
    "# Batch"
   ]
  },
  {
   "cell_type": "code",
   "execution_count": 12,
   "id": "a209539b",
   "metadata": {
    "scrolled": true
   },
   "outputs": [
    {
     "data": {
      "text/plain": [
       "device(type='cuda')"
      ]
     },
     "execution_count": 12,
     "metadata": {},
     "output_type": "execute_result"
    }
   ],
   "source": [
    "device = torch.device(\"cuda\" if torch.cuda.is_available() else \"cpu\")\n",
    "device"
   ]
  },
  {
   "cell_type": "code",
   "execution_count": 13,
   "id": "b348e2b5",
   "metadata": {},
   "outputs": [],
   "source": [
    "# 定義資料轉換函數(於collate_batch函式中使用)\n",
    "item_index_pipeline = lambda x : [[model.wv.key_to_index[j] for j in i] for i in x] # 取得購物籃中，項目的索引值(只有使用Item2Vec時會需要)\n",
    "item_label_pipeline = lambda x : [model.wv.key_to_index[j] for j in x]"
   ]
  },
  {
   "cell_type": "code",
   "execution_count": 14,
   "id": "92fb3dee",
   "metadata": {},
   "outputs": [],
   "source": [
    "class TensorDataset(Dataset):\n",
    "    # TensorDataset繼承Dataset, 重載__init__, __getitem__, __len__\n",
    "    # 實現將一組Tensor數據封裝成Tensor數據集\n",
    "    # 能夠通過Index得到數據集的數據，能夠通過len，得到數據集大小\n",
    "    def __init__(self, data_tensor):\n",
    "        self.data_tensor = data_tensor\n",
    "    def __getitem__(self, index):\n",
    "        return self.data_tensor[index]\n",
    "    def __len__(self):\n",
    "        return len(self.data_tensor)\n",
    "\n",
    "# 輸出userID, input_list跟label(最後一個購物籃)\n",
    "def collate_batch(batch):\n",
    "    # 使用ID、時間差、訓練的購物籃項目、預測的購物籃項目\n",
    "    userID, input_item_list, label_item_list, input_size_list, label_size_list = [], [], [], [], []\n",
    "    for _user in batch:\n",
    "        #　userID\n",
    "        userID.append(_user[0])\n",
    "        # 所有購物籃的項目ID串列中的最後一個購物籃項目ID\n",
    "#         label_item_list.append(torch.tensor(_user[1][-1]))\n",
    "        label_size_list.append(torch.tensor(_user[2][-1]))\n",
    "        \n",
    "        # 不使用Item2Vec進行項目嵌入\n",
    "        if isI2V == 0:\n",
    "            train_list = _user[1][0:-1]\n",
    "            label_list = torch.tensor(_user[1][-1])\n",
    "        # 使用Item2Vec進行項目嵌入\n",
    "        else:\n",
    "            train_list = item_index_pipeline(_user[1][0:-1])\n",
    "            label_list = torch.tensor(item_label_pipeline(_user[1][-1]))\n",
    "        input_size_list.append(_user[2][0:-1])\n",
    "        \n",
    "        input_item_list.append(train_list) #　所有購物籃的項目ID串列(除了最後一個購物籃)\n",
    "        label_item_list.append(label_list)\n",
    "    \n",
    "    return userID, input_item_list, label_item_list, input_size_list, label_size_list"
   ]
  },
  {
   "cell_type": "code",
   "execution_count": 15,
   "id": "f442f66a",
   "metadata": {},
   "outputs": [],
   "source": [
    "# 轉成 Dataset\n",
    "split_train_ = TensorDataset(train_set)\n",
    "split_valid_ = TensorDataset(valid_set)\n",
    "split_test_ = TensorDataset(test_set)"
   ]
  },
  {
   "cell_type": "code",
   "execution_count": 16,
   "id": "54fe7bc6",
   "metadata": {},
   "outputs": [],
   "source": [
    "# DataLoader \n",
    "train_dataloader = DataLoader(split_train_, batch_size=BATCH_SIZE, shuffle=True, collate_fn=collate_batch, drop_last=True)\n",
    "valid_dataloader = DataLoader(split_valid_, batch_size=BATCH_SIZE, shuffle=True, collate_fn=collate_batch, drop_last=True)\n",
    "test_dataloader = DataLoader(split_test_, batch_size=BATCH_SIZE, shuffle=True, collate_fn=collate_batch, drop_last=True)"
   ]
  },
  {
   "cell_type": "markdown",
   "id": "637657be",
   "metadata": {},
   "source": [
    "# Self-Attention"
   ]
  },
  {
   "cell_type": "code",
   "execution_count": 17,
   "id": "a96171ad",
   "metadata": {},
   "outputs": [],
   "source": [
    "# 使用nn.MultiheadAttention\n",
    "# 輸入一個用戶的一個購物籃，輸出購物籃嵌入\n",
    "class SelfAttention(nn.Module):\n",
    "    def __init__(self, embed_dim, model_dim): #項目向量維度，輸出模型的維度\n",
    "        super(SelfAttention, self).__init__()\n",
    "        self.embed_dim = embed_dim\n",
    "        self.model_dim = model_dim\n",
    "        \n",
    "        # 初始化Q, K, V 矩陣\n",
    "        self.query_matrix = nn.Linear(embed_dim, model_dim)\n",
    "        xavier_uniform_(self.query_matrix.weight)\n",
    "        self.key_matrix = nn.Linear(embed_dim, model_dim)\n",
    "        xavier_uniform_(self.key_matrix.weight)\n",
    "        self.value_matrix = nn.Linear(embed_dim, model_dim)\n",
    "        xavier_uniform_(self.value_matrix.weight)\n",
    "        self.multihead_attn = nn.MultiheadAttention(embed_dim, num_heads=1)\n",
    "        \n",
    "    def forward(self, inputs, attention_mask):\n",
    "        \n",
    "        # 輸入一個項目向量，透過三個可學習的參數矩陣，得到計算所需要的 q,k,v\n",
    "        q = self.query_matrix(inputs)\n",
    "        k = self.key_matrix(inputs)\n",
    "        v = self.value_matrix(inputs)\n",
    "        \n",
    "        attn_output, attn_output_weight = self.multihead_attn(q, k, v, key_padding_mask=attention_mask.transpose(0,1))\n",
    "        \n",
    "        output_mean = torch.tensor([[0 for _ in range(MODEL_DIMENSION)] for _ in range(len(attention_mask))], dtype=torch.float).to(device)\n",
    "        for i, cart in enumerate(attention_mask):\n",
    "            for j, mask in enumerate(cart):\n",
    "                if mask == False:\n",
    "                    output_mean[i] = attn_output[i][j] # 使用最後一個項目作為輸出\n",
    "        basket_embedding = output_mean\n",
    "        \n",
    "        return basket_embedding"
   ]
  },
  {
   "cell_type": "markdown",
   "id": "a3043def",
   "metadata": {},
   "source": [
    "   # LSTM"
   ]
  },
  {
   "cell_type": "code",
   "execution_count": 18,
   "id": "3b8530b2",
   "metadata": {},
   "outputs": [],
   "source": [
    "class LSTM(nn.Module):\n",
    "    def __init__(self, input_size, output_size):\n",
    "        super(LSTM, self).__init__()\n",
    "        self.lstm = torch.nn.LSTM(input_size, HIDDEN_SIZE, 2)\n",
    "        self.hiddenlayer1 = torch.nn.Linear(max_cart_count * HIDDEN_SIZE, 512)\n",
    "        self.hiddenlayer2 = torch.nn.Linear(512, 512)\n",
    "        self.hiddenlayer3 = torch.nn.Linear(512, 256)\n",
    "        self.hiddenlayer4 = torch.nn.Linear(256, 128)\n",
    "        self.embed = torch.nn.Linear(128, EMBEDDING_DIMENSION)\n",
    "        self.leakyrelu = torch.nn.LeakyReLU()\n",
    "    \n",
    "    def forward(self, inputs):\n",
    "        output, (h,c) = self.lstm(inputs)\n",
    "        hidden1 = self.hiddenlayer1(output.view(max_cart_count * HIDDEN_SIZE))\n",
    "        hidden2 = self.hiddenlayer2(hidden1)\n",
    "        hidden3 = self.hiddenlayer3(hidden2)\n",
    "        hidden4 = self.hiddenlayer4(hidden3)\n",
    "        output = self.embed(hidden4)\n",
    "        return output"
   ]
  },
  {
   "cell_type": "markdown",
   "id": "00cd99b7",
   "metadata": {},
   "source": [
    "# Transformer"
   ]
  },
  {
   "cell_type": "code",
   "execution_count": 19,
   "id": "bc0ed90c",
   "metadata": {},
   "outputs": [],
   "source": [
    "class PositionalEncoding(nn.Module):\n",
    "    def __init__(self, d_model:int, dropout, maxlen:int=500):\n",
    "        super(PositionalEncoding, self).__init__()\n",
    "        # den 是把10000^(2i/d_model)取log_e，前面加負號是求倒數\n",
    "        den = torch.exp(-torch.arange(0, d_model, 2) * math.log(10000) / d_model)\n",
    "        pos = torch.arange(0, maxlen).reshape(maxlen, 1)\n",
    "        pos_embedding = torch.zeros(maxlen, d_model)#.to(device)\n",
    "        pos_embedding[:, 0::2] = torch.sin(pos*den)\n",
    "        pos_embedding[:, 1::2] = torch.cos(pos*den)\n",
    "        \n",
    "        pos_embedding = pos_embedding.unsqueeze(0)\n",
    "        \n",
    "        self.dropout = nn.Dropout(dropout)\n",
    "        self.register_buffer(\"pos_embedding\", pos_embedding)\n",
    "        \n",
    "    def forward(self, token_embedding):\n",
    "        return self.dropout(token_embedding+ self.pos_embedding[:, :token_embedding.size(1), :])\n",
    "    \n",
    "class TransformerEncoder(nn.Module):\n",
    "    def __init__(self, d_model, num_heads=8, num_layers=6):\n",
    "        super(TransformerEncoder, self).__init__()\n",
    "        self.pe = PositionalEncoding(d_model=d_model, dropout=0.5, maxlen=max_cart_count*2)\n",
    "        # 創建 Transformer 模型\n",
    "        self.transformer = nn.TransformerEncoder(\n",
    "            nn.TransformerEncoderLayer(d_model=d_model, nhead=num_heads),\n",
    "            num_layers=num_layers\n",
    "        )\n",
    "    \n",
    "    def forward(self, baskets_embedding):\n",
    "        baskets_embedding_pe = self.pe(baskets_embedding)\n",
    "        \n",
    "        # 購物籃padding的遮罩\n",
    "        padding_mask = ~baskets_embedding.sum(dim=-1).ne(0).transpose(0,1)\n",
    "        \n",
    "        output = self.transformer(baskets_embedding_pe.to(torch.float32), src_key_padding_mask=padding_mask.to(torch.float32))\n",
    "        return output"
   ]
  },
  {
   "cell_type": "markdown",
   "id": "9cdd237c",
   "metadata": {},
   "source": [
    "# MLP層"
   ]
  },
  {
   "cell_type": "code",
   "execution_count": 20,
   "id": "e8fb5303",
   "metadata": {},
   "outputs": [],
   "source": [
    "class MLPforItem(nn.Module):\n",
    "    def __init__(self, embed_dim, hidden_dim, items_dim):\n",
    "        super(MLPforItem, self).__init__()\n",
    "        # hidden layer\n",
    "        self.hidden = nn.Linear(embed_dim, hidden_dim)\n",
    "        xavier_uniform_(self.hidden.weight)\n",
    "        self.norm = nn.BatchNorm1d(hidden_dim, momentum=0.03)\n",
    "        self.relu = nn.ReLU()\n",
    "        # output layer\n",
    "        self.output = nn.Linear(hidden_dim, items_dim)\n",
    "        self.softmax = nn.Softmax(dim=0)\n",
    "    def forward(self, inputs):\n",
    "        y = self.relu(self.norm(self.hidden(inputs)))\n",
    "        return self.output(y)\n",
    "#         return self.softmax(self.output(y))"
   ]
  },
  {
   "cell_type": "code",
   "execution_count": 21,
   "id": "b52aa95b",
   "metadata": {},
   "outputs": [],
   "source": [
    "class MLPforSize(nn.Module):\n",
    "    def __init__(self, embed_dim):\n",
    "        super(MLPforSize, self).__init__()\n",
    "        # predict layer\n",
    "        self.predict = nn.Linear(embed_dim, 1)\n",
    "        self.leakyrelu = torch.nn.LeakyReLU()\n",
    "    def forward(self, inputs):\n",
    "        output = self.leakyrelu(self.predict(inputs))\n",
    "        return output"
   ]
  },
  {
   "cell_type": "markdown",
   "id": "9afdd949",
   "metadata": {},
   "source": [
    "# 損失函數"
   ]
  },
  {
   "cell_type": "code",
   "execution_count": 22,
   "id": "9b8084b8",
   "metadata": {},
   "outputs": [],
   "source": [
    "# MSE\n",
    "def mean_square_error(prediction, target):\n",
    "    predictions = prediction[0]\n",
    "    targets = torch.tensor([target[0]], dtype=torch.float).to(device)\n",
    "    loss = F.mse_loss(predictions, targets)\n",
    "    for i in range(1, len(prediction)):\n",
    "        predictions = prediction[i]\n",
    "        targets= torch.tensor([target[i]], dtype=torch.float).to(device)\n",
    "        loss += F.mse_loss(predictions, targets)\n",
    "    return loss"
   ]
  },
  {
   "cell_type": "code",
   "execution_count": 23,
   "id": "578a7e8b",
   "metadata": {},
   "outputs": [],
   "source": [
    "# cross_entropy_loss\n",
    "def cross_entropy_loss(predictions, targets):\n",
    "    # 創建稀疏張量的索引和值\n",
    "    indices = []\n",
    "    values = []\n",
    "    for i, t in enumerate(targets):\n",
    "        for v in t:\n",
    "            indices.append([i, v])\n",
    "            values.append(1)\n",
    "            \n",
    "    # 創建稀疏張量\n",
    "    sparse_targets = torch.sparse_coo_tensor(indices=torch.tensor(indices).t(),\n",
    "                                             values=torch.tensor(values, dtype=torch.float32),\n",
    "                                             size=(len(targets), items_count), device=device)\n",
    "    sparse_targets = sparse_targets.to_dense()\n",
    "    \n",
    "    loss = F.binary_cross_entropy_with_logits(predictions, sparse_targets)\n",
    "    return loss"
   ]
  },
  {
   "cell_type": "markdown",
   "id": "08aefe4a",
   "metadata": {},
   "source": [
    "# 評估指標"
   ]
  },
  {
   "cell_type": "code",
   "execution_count": 24,
   "id": "02891cdd",
   "metadata": {},
   "outputs": [],
   "source": [
    "def format_metric(result_dict):\n",
    "    assert type(result_dict) == dict\n",
    "    format_str = []\n",
    "    metrics = np.unique([k for k in result_dict.keys()])\n",
    "    for metric in metrics:\n",
    "        name = '{}'.format(metric)\n",
    "        m = result_dict[name]\n",
    "        if type(m) is float or type(m) is np.float32 or type(m) is np.float64:\n",
    "            format_str.append(\"{}: {:<.4f}\".format(name, m))\n",
    "        elif type(m) is int or type(m) is np.int32 or type(m) is np.int64:\n",
    "            format_str.append(\"{}: {}\".format(name, m))\n",
    "    return \", \".join(format_str)"
   ]
  },
  {
   "cell_type": "markdown",
   "id": "fa92db9d",
   "metadata": {},
   "source": [
    "## F1-score"
   ]
  },
  {
   "cell_type": "code",
   "execution_count": 25,
   "id": "f7cca32b",
   "metadata": {},
   "outputs": [],
   "source": [
    "def calculate_f1_score(predictions, targets, k_list):\n",
    "    \"\"\"\n",
    "    計算 F1-score@K。\n",
    "\n",
    "    Args:\n",
    "        predictions: 二維的預測機率矩陣，大小為 [num_users, num_items]。\n",
    "        targets: 一個包含每個用戶真實標籤的列表，其中每個列表的大小不同。\n",
    "        k_list: 用預測出的K值，計算F1-score@K\n",
    "\n",
    "    Returns:\n",
    "        F1-score@K 分數。\n",
    "    \"\"\"\n",
    "    # 將預測機率矩陣值轉換為 Pytorch 張量\n",
    "    predictions = torch.from_numpy(np.array(predictions, dtype=np.float32))\n",
    "    num_users = len(targets)\n",
    "    f1_score_eval = dict()\n",
    "    \n",
    "    precision_sum = 0.0\n",
    "    recall_sum = 0.0\n",
    "    f1_score_sum = 0.0\n",
    "    for i in range(num_users):\n",
    "        \n",
    "        # 將用戶 i 的真實標籤轉換為 PyTorch 張量。\n",
    "        labels = torch.from_numpy(np.array(targets[i], dtype=np.int64))\n",
    "        # 計算用戶 i 在預測機率矩陣中機率最高的 K 個項目索引\n",
    "        top_k_item_labels = torch.topk(predictions[i], k_list[i])[1]\n",
    "        # 計算用戶 i 的真實標籤和預測標籤的交集 (TP)\n",
    "        true_positives = torch.sum(torch.sum(torch.eq(top_k_item_labels, labels.unsqueeze(1)).to(torch.float32), dim=1)).item()\n",
    "        # 計算用戶 i 的真實標籤和預測標籤的聯集\n",
    "        predicted_positives = k_list[i] # TP+FP\n",
    "        actual_positives = len(labels)  # TP+FN\n",
    "        # 預防 K 預測為0導致 precision 分母為0\n",
    "        if predicted_positives == 0:\n",
    "            precision = 0.0\n",
    "        else:\n",
    "            precision = true_positives / predicted_positives\n",
    "        # 預防實際 K 為0導致 recall 分母為0\n",
    "        if actual_positives == 0:\n",
    "            recall = 0.0\n",
    "        else:\n",
    "            recall = true_positives / actual_positives\n",
    "        # 計算F1-score\n",
    "        if precision + recall == 0:\n",
    "            f1_score = 0.0\n",
    "        else:\n",
    "            f1_score = 2 * precision * recall / (precision + recall)\n",
    "        precision_sum += precision\n",
    "        recall_sum += recall\n",
    "        f1_score_sum += f1_score\n",
    "        \n",
    "    # 計算平均分數\n",
    "    precision = precision_sum / float(num_users)\n",
    "    recall = recall_sum / float(num_users)\n",
    "    f1_score = f1_score_sum / float(num_users)\n",
    "    # 儲存到dict\n",
    "    key = \"{}\".format(\"Recall\")\n",
    "    f1_score_eval[key] = recall\n",
    "    key = \"{}\".format(\"Precision\")\n",
    "    f1_score_eval[key] = precision\n",
    "    key = \"{}\".format(\"F1-score\")\n",
    "    f1_score_eval[key] = f1_score\n",
    "    \n",
    "    return f1_score_eval"
   ]
  },
  {
   "cell_type": "markdown",
   "id": "506ff404",
   "metadata": {},
   "source": [
    "## NDCG"
   ]
  },
  {
   "cell_type": "code",
   "execution_count": 26,
   "id": "4c566188",
   "metadata": {},
   "outputs": [],
   "source": [
    "def calculate_ndcg(basket_predictions, basket_targets, size_predictions, size_targets):\n",
    "    \"\"\"\n",
    "    計算 NDCG@K。\n",
    "\n",
    "    Args:\n",
    "        basket_predictions: 預測購物籃項目\n",
    "        bakset_targets: 實際購物籃項目\n",
    "        size_predictions: 預測購物籃大小\n",
    "        size_targets: 實際購物籃大小  \n",
    "\n",
    "    Returns:\n",
    "        NDCG@K 分數。\n",
    "    \"\"\"\n",
    "    # 將預測機率矩陣轉換為 PyTorch 張量\n",
    "    predictions = torch.from_numpy(np.array(basket_predictions, dtype=np.float32))\n",
    "    num_users = len(basket_targets)\n",
    "    ndcg_eval = dict()\n",
    "    \n",
    "    ndcg_sum = 0.0\n",
    "    for i in range(num_users):\n",
    "        # 將用戶 i 的真實標籤轉換為 PyTorch 張量\n",
    "        labels = torch.from_numpy(np.array(basket_targets[i], dtype=np.int64))\n",
    "        # 計算用戶 i 在預測機率矩陣中機率最高的 K 個項目的索引=標籤\n",
    "        top_k_item_labels = torch.topk(basket_predictions[i], size_predictions[i])[1]\n",
    "        # 計算 DCG@K\n",
    "        dcg_at_k = torch.sum(torch.nan_to_num(torch.div(1.0, torch.log2(torch.arange(size_predictions[i], dtype=torch.float32) +2))) * (torch.eq(top_k_item_labels, labels.unsqueeze(1)).to(torch.float32)))\n",
    "        # 計算 IDCG@K\n",
    "        idcg_at_k = torch.sum(torch.div(1.0, torch.log2(torch.arange(len(labels), dtype=torch.float32) + 2)))\n",
    "        # 計算 NDCG@K * Penalty weight\n",
    "        if torch.eq(idcg_at_k, 0):\n",
    "            ndcg_at_k = idcg_at_k\n",
    "        else:\n",
    "            ndcg_at_k = (dcg_at_k / idcg_at_k) * (size_targets[i] / (size_targets[i] + abs(size_targets[i] - size_predictions[i])))\n",
    "        ndcg_sum += ndcg_at_k.item()\n",
    "    #　計算平均　NDCG@K 分數\n",
    "    ndcg = ndcg_sum / float(num_users)\n",
    "    key = \"{}\".format(\"NDCG\")\n",
    "    ndcg_eval[key] = ndcg\n",
    "\n",
    "    return ndcg_eval"
   ]
  },
  {
   "cell_type": "code",
   "execution_count": 27,
   "id": "4b4fe7dc",
   "metadata": {},
   "outputs": [],
   "source": [
    "def calculate_mae(size_predictions, size_targets):\n",
    "    sum = 0\n",
    "    num_users = len(size_targets)\n",
    "    mae_eval = dict()\n",
    "    for i in range(num_users):\n",
    "        sum += abs(size_predictions[i] - (size_targets[i]).item())\n",
    "    key = \"{}\".format(\"MAE\")\n",
    "    mae_eval[key] = sum / num_users\n",
    "    return mae_eval"
   ]
  },
  {
   "cell_type": "markdown",
   "id": "213301db",
   "metadata": {},
   "source": [
    "# 訓練&測試"
   ]
  },
  {
   "cell_type": "code",
   "execution_count": 28,
   "id": "5d503206",
   "metadata": {},
   "outputs": [],
   "source": [
    "# 訓練模型\n",
    "def train_model():\n",
    "    my_model.train()\n",
    "    loss_list = []\n",
    "    \n",
    "    for batch_idx, (userID, basket_input, basket_label, size_input, size_label) in enumerate(tqdm(train_dataloader)):\n",
    "        optimizer.zero_grad()\n",
    "        basket_output, size_output = my_model(basket_input, size_input)\n",
    "        # 計算損失\n",
    "        loss = ALPHA * mean_square_error(size_output, size_label) + (1 - ALPHA) * cross_entropy_loss(basket_output, basket_label)\n",
    "        loss_list.append(loss.item())\n",
    "        loss.backward()\n",
    "        optimizer.step()\n",
    "        \n",
    "        if (batch_idx%100 == 0) or (batch_idx == len(train_dataloader)-1):\n",
    "            precentage = (100 * batch_idx/len(train_dataloader))\n",
    "            print(f\"Epoch {epoch}: {precentage:.0f}%, loss: {loss.item():.6f}\")\n",
    "            \n",
    "        with torch.no_grad():\n",
    "            basket_output = torch.from_numpy(np.array(basket_output.cpu(), dtype=np.float32))\n",
    "            size_output = np.round(np.squeeze(np.array([_.cpu() for _ in size_output], dtype=np.float32))).astype(int).tolist()\n",
    "            if batch_idx == 0:\n",
    "                basket_outputs = basket_output\n",
    "                basket_labels = basket_label\n",
    "                size_outputs = size_output\n",
    "                size_labels = size_label\n",
    "            else:\n",
    "                basket_outputs = torch.cat( (basket_outputs, basket_output),-2 )\n",
    "                basket_labels = basket_labels + basket_label\n",
    "                size_outputs = size_outputs + size_output\n",
    "                size_labels = size_labels + size_label\n",
    "                \n",
    "    with torch.no_grad():\n",
    "        evaluations = calculate_f1_score(basket_outputs, basket_labels, size_outputs) \n",
    "        res_str = '(' + format_metric(evaluations) + ')'\n",
    "        print(f\"                      {res_str}\\n\")\n",
    "\n",
    "        evaluations = calculate_ndcg(basket_outputs, basket_labels, size_outputs, size_labels) \n",
    "        res_str = '(' + format_metric(evaluations) + ')'\n",
    "        print(f\"                      {res_str}\\n\")\n",
    "\n",
    "        evaluations = calculate_mae(size_outputs, size_labels)\n",
    "        res_str = '(' + format_metric(evaluations) + ')'\n",
    "        print(f\"                      {res_str}\\n\")\n",
    "        \n",
    "    return torch.mean(torch.tensor(loss_list))"
   ]
  },
  {
   "cell_type": "code",
   "execution_count": 29,
   "id": "b0799869",
   "metadata": {},
   "outputs": [],
   "source": [
    "# 驗證模型\n",
    "def evaluate_model():\n",
    "    my_model.eval()\n",
    "    loss_list = []\n",
    "    for batch_idx, (userID, basket_input, basket_label, size_input, size_label) in enumerate(tqdm(valid_dataloader)):\n",
    "        basket_output, size_output= my_model(basket_input, size_input)\n",
    "        # 計算損失\n",
    "        loss = ALPHA * mean_square_error(size_output, size_label) + (1 - ALPHA) * cross_entropy_loss(basket_output, basket_label)\n",
    "        loss_list.append(loss.item())\n",
    "        \n",
    "        with torch.no_grad():\n",
    "            basket_output = torch.from_numpy(np.array(basket_output.cpu(), dtype=np.float32))\n",
    "            size_output = np.round(np.squeeze(np.array([_.cpu() for _ in size_output], dtype=np.float32))).astype(int).tolist()\n",
    "            if batch_idx == 0:\n",
    "                basket_outputs = basket_output\n",
    "                basket_labels = basket_label\n",
    "                size_outputs = size_output\n",
    "                size_labels = size_label\n",
    "            else:\n",
    "                basket_outputs = torch.cat( (basket_outputs, basket_output),-2 )\n",
    "                basket_labels = basket_labels + basket_label\n",
    "                size_outputs = size_outputs + size_output\n",
    "                size_labels = size_labels + size_label\n",
    "        \n",
    "    with torch.no_grad():\n",
    "        evaluations = calculate_f1_score(basket_outputs, basket_labels, size_outputs) \n",
    "        res_str = '(' + format_metric(evaluations) + ')'\n",
    "        print(f\"                      {res_str}\\n\")\n",
    "\n",
    "        evaluations = calculate_ndcg(basket_outputs, basket_labels, size_outputs, size_labels) \n",
    "        res_str = '(' + format_metric(evaluations) + ')'\n",
    "        print(f\"                      {res_str}\\n\")\n",
    "\n",
    "        evaluations = calculate_mae(size_outputs, size_labels)\n",
    "        res_str = '(' + format_metric(evaluations) + ')'\n",
    "        print(f\"                      {res_str}\\n\")\n",
    "        \n",
    "    return torch.mean(torch.tensor(loss_list))"
   ]
  },
  {
   "cell_type": "code",
   "execution_count": 30,
   "id": "5e8d7319",
   "metadata": {},
   "outputs": [],
   "source": [
    "# 測試模型\n",
    "def test_model():\n",
    "    my_model.eval()\n",
    "    loss_list = []\n",
    "    for batch_idx, (userID, basket_input, basket_label, size_input, size_label) in enumerate(tqdm(test_dataloader)):\n",
    "        basket_output, size_output = my_model(basket_input, size_input)\n",
    "        # 計算損失\n",
    "        loss = ALPHA * mean_square_error(size_output, size_label) + (1 - ALPHA) * cross_entropy_loss(basket_output, basket_label)\n",
    "        loss_list.append(loss.item())\n",
    "        \n",
    "        with torch.no_grad():\n",
    "            basket_output = torch.from_numpy(np.array(basket_output.cpu(), dtype=np.float32))\n",
    "            size_output = np.round(np.squeeze(np.array([_.cpu() for _ in size_output], dtype=np.float32))).astype(int).tolist()\n",
    "            if batch_idx == 0:\n",
    "                basket_outputs = basket_output\n",
    "                basket_labels = basket_label\n",
    "                size_outputs = size_output\n",
    "                size_labels = size_label\n",
    "            else:\n",
    "                basket_outputs = torch.cat( (basket_outputs, basket_output),-2 )\n",
    "                basket_labels = basket_labels + basket_label\n",
    "                size_outputs = size_outputs + size_output\n",
    "                size_labels = size_labels + size_label\n",
    "    \n",
    "    with torch.no_grad():\n",
    "        f1_evaluations = calculate_f1_score(basket_outputs, basket_labels, size_outputs)\n",
    "        precision_list = [f1_evaluations[\"Precision\"]]\n",
    "        recall_list =  [f1_evaluations[\"Recall\"]]\n",
    "        f1_list = [f1_evaluations[\"F1-score\"]]\n",
    "        res_str = '(' + format_metric(f1_evaluations) + ')'\n",
    "        print(f\"                      {res_str}\\n\")\n",
    "        \n",
    "        ndcg_evaluations = calculate_ndcg(basket_outputs, basket_labels, size_outputs, size_labels) \n",
    "        ndcg_list = [ndcg_evaluations[\"NDCG\"]]\n",
    "        res_str = '(' + format_metric(ndcg_evaluations) + ')'\n",
    "        print(f\"                      {res_str}\\n\")\n",
    "        \n",
    "        mae_evaluations = calculate_mae(size_outputs, size_labels)\n",
    "        mae_list = [mae_evaluations[\"MAE\"]]\n",
    "        res_str = '(' + format_metric(mae_evaluations) + ')'\n",
    "        print(f\"                      {res_str}\\n\")\n",
    "        \n",
    "    return torch.mean(torch.tensor(loss_list)), recall_list, precision_list, f1_list, ndcg_list, mae_list"
   ]
  },
  {
   "cell_type": "markdown",
   "id": "b1b6c6a9",
   "metadata": {},
   "source": [
    "# MC"
   ]
  },
  {
   "cell_type": "code",
   "execution_count": 31,
   "id": "3ed6dee8",
   "metadata": {},
   "outputs": [],
   "source": [
    "def create_transition_matrix(baskets, items):\n",
    "    # 統計所有項目在前一個購物籃和下一個購物籃中出現的次數，\n",
    "    # 以及在前一個購物籃中出現的總次數\n",
    "    cooccur_counts = {}\n",
    "    prev_basket_counts = {}\n",
    "    for user_baskets in baskets:\n",
    "        for i in range(1, len(user_baskets)):\n",
    "            prev_basket = user_baskets[i-1]\n",
    "            cur_basket = user_baskets[i]\n",
    "            for item1 in prev_basket:\n",
    "                if item1 not in prev_basket_counts:\n",
    "                    prev_basket_counts[item1] = 0\n",
    "                prev_basket_counts[item1] += 1\n",
    "                for item2 in cur_basket:\n",
    "                    if item2 not in cooccur_counts:\n",
    "                        cooccur_counts[item2] = {}\n",
    "                    if item1 not in cooccur_counts[item2]:\n",
    "                        cooccur_counts[item2][item1] = 0\n",
    "                    cooccur_counts[item2][item1] += 1\n",
    "\n",
    "    # 將統計數據轉換為轉移矩陣\n",
    "    # items = sorted(list(prev_basket_counts.keys()))\n",
    "    num_items = len(items)\n",
    "    transition_matrix = np.zeros((num_items, num_items))\n",
    "    for i, item1 in tqdm(enumerate(items)):\n",
    "        for j, item2 in enumerate(items):\n",
    "            if item2 in cooccur_counts and item1 in cooccur_counts[item2]:\n",
    "                cooccur_count = cooccur_counts[item2][item1]\n",
    "                prev_basket_count = prev_basket_counts[item1]\n",
    "                transition_matrix[i, j] = cooccur_count / prev_basket_count\n",
    "    return transition_matrix"
   ]
  },
  {
   "cell_type": "code",
   "execution_count": 32,
   "id": "41ad02ea",
   "metadata": {},
   "outputs": [],
   "source": [
    "def predict_next_basket(users_baskets, transition_matrix, items, top_n=50):\n",
    "    num_users = len(users_baskets)\n",
    "    num_items = len(items)\n",
    "    predictions = []\n",
    "    pred_label = []\n",
    "    for i in range(num_users):\n",
    "        last_basket = users_baskets[i][-1] # 第i個用戶的最後一個購物籃\n",
    "        cur_prediction = np.zeros(num_items)\n",
    "        prev_item_idx = np.array([prev_item for prev_item in last_basket])\n",
    "        for j in range(num_items):\n",
    "            prob = np.sum(transition_matrix[prev_item_idx, j])\n",
    "            cur_prediction[j] = prob * (1/len(last_basket))\n",
    "        predictions.append(cur_prediction)\n",
    "    return predictions"
   ]
  },
  {
   "cell_type": "code",
   "execution_count": 33,
   "id": "36cd123d",
   "metadata": {},
   "outputs": [],
   "source": [
    "mc_item = dataset[\"NEW_ITEM_ID\"].unique() # 所有項目"
   ]
  },
  {
   "cell_type": "code",
   "execution_count": 34,
   "id": "a7fd9194",
   "metadata": {},
   "outputs": [],
   "source": [
    "train_list = []\n",
    "for batch_idx, (userID, basket_input, basket_label, size_input, size_label) in enumerate(train_dataloader):\n",
    "    for i in basket_input:\n",
    "        train_list.append(i)"
   ]
  },
  {
   "cell_type": "code",
   "execution_count": 35,
   "id": "4073c2c3",
   "metadata": {},
   "outputs": [
    {
     "name": "stderr",
     "output_type": "stream",
     "text": [
      "15764it [01:21, 194.42it/s]\n"
     ]
    },
    {
     "name": "stdout",
     "output_type": "stream",
     "text": [
      "transition_matrix_size=tensor([[1.1461e-01, 8.7671e-02, 3.3790e-02,  ..., 4.5662e-04, 0.0000e+00,\n",
      "         0.0000e+00],\n",
      "        [4.7967e-02, 6.9864e-02, 2.9197e-02,  ..., 0.0000e+00, 0.0000e+00,\n",
      "         0.0000e+00],\n",
      "        [7.2403e-02, 4.4071e-02, 1.9412e-01,  ..., 0.0000e+00, 0.0000e+00,\n",
      "         0.0000e+00],\n",
      "        ...,\n",
      "        [0.0000e+00, 0.0000e+00, 0.0000e+00,  ..., 0.0000e+00, 0.0000e+00,\n",
      "         0.0000e+00],\n",
      "        [0.0000e+00, 0.0000e+00, 0.0000e+00,  ..., 0.0000e+00, 0.0000e+00,\n",
      "         0.0000e+00],\n",
      "        [0.0000e+00, 1.0000e+00, 0.0000e+00,  ..., 0.0000e+00, 0.0000e+00,\n",
      "         0.0000e+00]], device='cuda:0', dtype=torch.float64)\n"
     ]
    }
   ],
   "source": [
    "# 建立所有用戶共用的轉移矩陣\n",
    "\n",
    "transition_matrix= create_transition_matrix(train_list, mc_item)\n",
    "transition_array = torch.tensor(transition_matrix, dtype=torch.float64).to(device)\n",
    "print(f\"transition_matrix_size={transition_array}\")"
   ]
  },
  {
   "cell_type": "markdown",
   "id": "1abc8fbc",
   "metadata": {},
   "source": [
    "# 完整模型"
   ]
  },
  {
   "cell_type": "code",
   "execution_count": 36,
   "id": "5ad81bac",
   "metadata": {},
   "outputs": [
    {
     "name": "stdout",
     "output_type": "stream",
     "text": [
      "items_count= 15764\n",
      "tensor([1.7128e-03, 1.1418e-03, 2.4169e-02,  ..., 6.3436e-05, 6.3436e-05,\n",
      "        6.3436e-05], device='cuda:0', dtype=torch.float64)\n"
     ]
    }
   ],
   "source": [
    "# 項目總數\n",
    "items_count = confidences.shape[0]\n",
    "print(\"items_count=\", items_count)\n",
    "# 項目出現次數\n",
    "items_freq = Counter(dataset[\"NEW_ITEM_ID\"])\n",
    "# 計算每個項目出現的比例: items_frq/items_count\n",
    "item_weight = torch.tensor(np.array(list(items_freq.values()))/items_count).to(device)\n",
    "# 按照new_item_id順序排列\n",
    "print(item_weight)"
   ]
  },
  {
   "cell_type": "markdown",
   "id": "975d9e58",
   "metadata": {},
   "source": [
    "## 加上信賴度矩陣"
   ]
  },
  {
   "cell_type": "code",
   "execution_count": 37,
   "id": "5d571c57",
   "metadata": {},
   "outputs": [
    {
     "data": {
      "text/plain": [
       "tensor([[0.0000, 0.1909, 0.0727,  ..., 0.0000, 0.0000, 0.0000],\n",
       "        [0.0163, 0.0000, 0.0572,  ..., 0.0000, 0.0000, 0.0006],\n",
       "        [0.0049, 0.0049, 0.0000,  ..., 0.0000, 0.0000, 0.0000],\n",
       "        ...,\n",
       "        [0.0000, 0.0000, 0.0000,  ..., 0.0000, 0.0000, 0.0000],\n",
       "        [0.0000, 0.0000, 0.0000,  ..., 0.0000, 0.0000, 0.0000],\n",
       "        [0.0000, 0.0000, 0.0000,  ..., 0.0000, 0.0000, 0.0000]],\n",
       "       device='cuda:0', dtype=torch.float64)"
      ]
     },
     "execution_count": 37,
     "metadata": {},
     "output_type": "execute_result"
    }
   ],
   "source": [
    "# 信賴度矩陣\n",
    "confidences_array = torch.tensor(confidences, dtype=torch.float64).to(device)\n",
    "confidences_array"
   ]
  },
  {
   "cell_type": "code",
   "execution_count": 38,
   "id": "926dfc91",
   "metadata": {},
   "outputs": [],
   "source": [
    "def Interleave(tensor1, tensor2):\n",
    "    tensor2 = tensor2.repeat(tensor1.shape[0], 1)\n",
    "    result = torch.stack((tensor1, tensor2), dim=1)\n",
    "    Interleave_tensor = torch.reshape(result, (-1, MODEL_DIMENSION))\n",
    "\n",
    "    return (Interleave_tensor)"
   ]
  },
  {
   "cell_type": "code",
   "execution_count": 39,
   "id": "b00066a0",
   "metadata": {},
   "outputs": [],
   "source": [
    "class MyModel01(nn.Module):\n",
    "    def __init__(self, embed_dim, model_dim, hidden_dim, items_count):\n",
    "        super(MyModel01, self).__init__()\n",
    "        self.model_dim = model_dim\n",
    "        self.embedding = nn.Embedding.from_pretrained(weights, freeze=False)\n",
    "        self.embedding.requires_grad=True\n",
    "        self.basket_embed = SelfAttention(embed_dim=embed_dim, model_dim=model_dim)\n",
    "        self.size_embed = LSTM(1,1)\n",
    "        self.model_encoder = TransformerEncoder(d_model=model_dim, num_heads=NUM_HEAD, num_layers=NUM_LAYER)\n",
    "        # 嵌入維度、隱藏層維度、總項目數量\n",
    "        self.basket_mlp = MLPforItem(model_dim, hidden_dim, items_count)\n",
    "        self.size_mlp = MLPforSize(model_dim)\n",
    "        self.relu = nn.ReLU()\n",
    "#         self.softmax = nn.Softmax(dim=0)\n",
    "\n",
    "        \n",
    "    def forward(self, basket_input, size_input):\n",
    "        \n",
    "        basket_list, size_list, attention_mask, k_list = [], [], [], []\n",
    "        output_list = []\n",
    "        \n",
    "        # 為每個用戶的購物籃加上 padding跟 mask\n",
    "        for user in basket_input:\n",
    "            # 將購物籃項目 ID 轉換為嵌入向量\n",
    "            batch_features = [ self.embedding(torch.tensor(cart).to(device)) for cart in user ]\n",
    "            # 進行 padding\n",
    "            batch_features = rnn_utils.pad_sequence(batch_features, batch_first=True, padding_value=0)\n",
    "            # 購物籃中項目的遮罩\n",
    "            mask = ~batch_features.sum(dim=-1).ne(0)\n",
    "            basket_list.append(batch_features)\n",
    "            attention_mask.append(mask)\n",
    "        \n",
    "        # 預測size_tensor\n",
    "        sizes_input = [torch.tensor(size).to(device) for size in size_input]\n",
    "        tmp_tensor = torch.zeros(max_cart_count)\n",
    "        size_list.append(tmp_tensor)\n",
    "        for size in sizes_input:\n",
    "            size_list.append(size)\n",
    "        size_list = rnn_utils.pad_sequence(size_list, batch_first=True, padding_value=0)[1:]\n",
    "            \n",
    "        # 進入自注意力，輸出形狀(BATCH_SIZE, basket_size, embed_dim)\n",
    "        basket_embedding_list = []\n",
    "        for i,user_inputs in enumerate(basket_list):\n",
    "            basketEmbed = self.basket_embed(user_inputs, attention_mask[i])\n",
    "            sizeEmbed = self.size_embed(torch.tensor([[float(_)] for _ in size_list[i]]).to(device)).reshape(1,-1)\n",
    "            \n",
    "            basket_embedding = Interleave(basketEmbed, sizeEmbed)\n",
    "\n",
    "            basket_embedding_list.append(basket_embedding)\n",
    "            \n",
    "        for i, user_inputs in enumerate(size_list):\n",
    "            k_list.append(self.size_embed(torch.tensor([[float(_)] for _ in size_list[i]]).to(device)))\n",
    "            \n",
    "        \n",
    "        # 進行購物籃的 padding\n",
    "        input_seq = rnn_utils.pad_sequence(basket_embedding_list, batch_first=True, padding_value=0)\n",
    "        #print(input_seq.size())\n",
    "        \n",
    "        \n",
    "        # 進入Transformer\n",
    "        basket_embed = self.model_encoder(input_seq.to(device))\n",
    "        \n",
    "        B_s_list = []\n",
    "        for i, b in enumerate(basket_embed):\n",
    "            basket_size = len(attention_mask[i])\n",
    "            B_s = b[basket_size-1]  # 取得最後一個購物籃向量\n",
    "            B_s_list.append(B_s)\n",
    "            \n",
    "        # 進入basket MLP層\n",
    "        p = self.basket_mlp(torch.stack(B_s_list, dim=0))\n",
    "        predictions = predict_next_basket(basket_input, transition_matrix, list(mc_item), 10)\n",
    "        mc_predictions = torch.tensor(np.array(predictions), dtype=torch.float64).to(device)\n",
    "        pc = (self.relu(p.to(torch.float64))+1e-8) @ confidences_array\n",
    "        pw = torch.mul( p, item_weight )\n",
    "        \n",
    "        # z-score for mc_predictions\n",
    "        mc_mean = mc_predictions.mean(dim=1, keepdim = True)\n",
    "        mc_std = mc_predictions.std(dim=1, keepdim =True)\n",
    "        mc_z_score = (mc_predictions - mc_mean) / mc_std\n",
    "        \n",
    "        # z-score for mc_predictions\n",
    "        tr_predictions = torch.add(pc, pw) + p.to(torch.float64)\n",
    "        tr_mean = tr_predictions.mean(dim=1, keepdim = True)\n",
    "        tr_std = tr_predictions.std(dim=1, keepdim =True)\n",
    "        tr_z_score = (tr_predictions - tr_mean) / tr_std\n",
    "        \n",
    "        p_ = torch.mul(BETA, tr_predictions) + torch.mul((1-BETA), mc_z_score + tr_z_score)\n",
    "        \n",
    "        # 進入size MLP層\n",
    "        k = self.size_mlp(torch.stack(k_list, dim=0))\n",
    "        \n",
    "        return p_, k"
   ]
  },
  {
   "cell_type": "code",
   "execution_count": 40,
   "id": "88bf8d6f",
   "metadata": {},
   "outputs": [
    {
     "data": {
      "text/plain": [
       "MyModel01(\n",
       "  (embedding): Embedding(15764, 32)\n",
       "  (basket_embed): SelfAttention(\n",
       "    (query_matrix): Linear(in_features=32, out_features=32, bias=True)\n",
       "    (key_matrix): Linear(in_features=32, out_features=32, bias=True)\n",
       "    (value_matrix): Linear(in_features=32, out_features=32, bias=True)\n",
       "    (multihead_attn): MultiheadAttention(\n",
       "      (out_proj): NonDynamicallyQuantizableLinear(in_features=32, out_features=32, bias=True)\n",
       "    )\n",
       "  )\n",
       "  (size_embed): LSTM(\n",
       "    (lstm): LSTM(1, 16, num_layers=2)\n",
       "    (hiddenlayer1): Linear(in_features=1152, out_features=512, bias=True)\n",
       "    (hiddenlayer2): Linear(in_features=512, out_features=512, bias=True)\n",
       "    (hiddenlayer3): Linear(in_features=512, out_features=256, bias=True)\n",
       "    (hiddenlayer4): Linear(in_features=256, out_features=128, bias=True)\n",
       "    (embed): Linear(in_features=128, out_features=32, bias=True)\n",
       "    (leakyrelu): LeakyReLU(negative_slope=0.01)\n",
       "  )\n",
       "  (model_encoder): TransformerEncoder(\n",
       "    (pe): PositionalEncoding(\n",
       "      (dropout): Dropout(p=0.5, inplace=False)\n",
       "    )\n",
       "    (transformer): TransformerEncoder(\n",
       "      (layers): ModuleList(\n",
       "        (0-3): 4 x TransformerEncoderLayer(\n",
       "          (self_attn): MultiheadAttention(\n",
       "            (out_proj): NonDynamicallyQuantizableLinear(in_features=32, out_features=32, bias=True)\n",
       "          )\n",
       "          (linear1): Linear(in_features=32, out_features=2048, bias=True)\n",
       "          (dropout): Dropout(p=0.1, inplace=False)\n",
       "          (linear2): Linear(in_features=2048, out_features=32, bias=True)\n",
       "          (norm1): LayerNorm((32,), eps=1e-05, elementwise_affine=True)\n",
       "          (norm2): LayerNorm((32,), eps=1e-05, elementwise_affine=True)\n",
       "          (dropout1): Dropout(p=0.1, inplace=False)\n",
       "          (dropout2): Dropout(p=0.1, inplace=False)\n",
       "        )\n",
       "      )\n",
       "    )\n",
       "  )\n",
       "  (basket_mlp): MLPforItem(\n",
       "    (hidden): Linear(in_features=32, out_features=128, bias=True)\n",
       "    (norm): BatchNorm1d(128, eps=1e-05, momentum=0.03, affine=True, track_running_stats=True)\n",
       "    (relu): ReLU()\n",
       "    (output): Linear(in_features=128, out_features=15764, bias=True)\n",
       "    (softmax): Softmax(dim=0)\n",
       "  )\n",
       "  (size_mlp): MLPforSize(\n",
       "    (predict): Linear(in_features=32, out_features=1, bias=True)\n",
       "    (leakyrelu): LeakyReLU(negative_slope=0.01)\n",
       "  )\n",
       "  (relu): ReLU()\n",
       ")"
      ]
     },
     "execution_count": 40,
     "metadata": {},
     "output_type": "execute_result"
    }
   ],
   "source": [
    "my_model = MyModel01(embed_dim=EMBEDDING_DIMENSION, model_dim=MODEL_DIMENSION, hidden_dim=HIDDEN_DIMENSION, items_count=items_count).to(device)\n",
    "optimizer = torch.optim.Adam(my_model.parameters(), lr=LEARNING_RATE)\n",
    "my_model.train()"
   ]
  },
  {
   "cell_type": "code",
   "execution_count": null,
   "id": "dc547691",
   "metadata": {
    "scrolled": false
   },
   "outputs": [
    {
     "name": "stderr",
     "output_type": "stream",
     "text": [
      "  0%|          | 1/1065 [00:00<15:19,  1.16it/s]"
     ]
    },
    {
     "name": "stdout",
     "output_type": "stream",
     "text": [
      "Epoch 1: 0%, loss: 15.782550\n"
     ]
    },
    {
     "name": "stderr",
     "output_type": "stream",
     "text": [
      "  9%|▉         | 101/1065 [00:46<07:39,  2.10it/s]"
     ]
    },
    {
     "name": "stdout",
     "output_type": "stream",
     "text": [
      "Epoch 1: 9%, loss: 2.553393\n"
     ]
    },
    {
     "name": "stderr",
     "output_type": "stream",
     "text": [
      " 19%|█▉        | 201/1065 [01:34<06:42,  2.15it/s]"
     ]
    },
    {
     "name": "stdout",
     "output_type": "stream",
     "text": [
      "Epoch 1: 19%, loss: 1.373273\n"
     ]
    },
    {
     "name": "stderr",
     "output_type": "stream",
     "text": [
      " 28%|██▊       | 301/1065 [02:21<06:04,  2.10it/s]"
     ]
    },
    {
     "name": "stdout",
     "output_type": "stream",
     "text": [
      "Epoch 1: 28%, loss: 2.579129\n"
     ]
    },
    {
     "name": "stderr",
     "output_type": "stream",
     "text": [
      " 38%|███▊      | 401/1065 [03:09<05:17,  2.09it/s]"
     ]
    },
    {
     "name": "stdout",
     "output_type": "stream",
     "text": [
      "Epoch 1: 38%, loss: 7.714243\n"
     ]
    },
    {
     "name": "stderr",
     "output_type": "stream",
     "text": [
      " 47%|████▋     | 501/1065 [03:58<04:36,  2.04it/s]"
     ]
    },
    {
     "name": "stdout",
     "output_type": "stream",
     "text": [
      "Epoch 1: 47%, loss: 1.765433\n"
     ]
    },
    {
     "name": "stderr",
     "output_type": "stream",
     "text": [
      " 56%|█████▋    | 601/1065 [04:48<03:49,  2.02it/s]"
     ]
    },
    {
     "name": "stdout",
     "output_type": "stream",
     "text": [
      "Epoch 1: 56%, loss: 1.365056\n"
     ]
    },
    {
     "name": "stderr",
     "output_type": "stream",
     "text": [
      " 66%|██████▌   | 701/1065 [05:38<03:01,  2.01it/s]"
     ]
    },
    {
     "name": "stdout",
     "output_type": "stream",
     "text": [
      "Epoch 1: 66%, loss: 2.115853\n"
     ]
    },
    {
     "name": "stderr",
     "output_type": "stream",
     "text": [
      " 75%|███████▌  | 801/1065 [06:29<02:16,  1.94it/s]"
     ]
    },
    {
     "name": "stdout",
     "output_type": "stream",
     "text": [
      "Epoch 1: 75%, loss: 1.617540\n"
     ]
    },
    {
     "name": "stderr",
     "output_type": "stream",
     "text": [
      " 85%|████████▍ | 901/1065 [07:20<01:25,  1.93it/s]"
     ]
    },
    {
     "name": "stdout",
     "output_type": "stream",
     "text": [
      "Epoch 1: 85%, loss: 1.486628\n"
     ]
    },
    {
     "name": "stderr",
     "output_type": "stream",
     "text": [
      " 94%|█████████▍| 1001/1065 [08:12<00:32,  1.96it/s]"
     ]
    },
    {
     "name": "stdout",
     "output_type": "stream",
     "text": [
      "Epoch 1: 94%, loss: 6.007133\n"
     ]
    },
    {
     "name": "stderr",
     "output_type": "stream",
     "text": [
      "100%|██████████| 1065/1065 [08:46<00:00,  2.02it/s]"
     ]
    },
    {
     "name": "stdout",
     "output_type": "stream",
     "text": [
      "Epoch 1: 100%, loss: 7.811971\n"
     ]
    },
    {
     "name": "stderr",
     "output_type": "stream",
     "text": [
      "\n"
     ]
    },
    {
     "name": "stdout",
     "output_type": "stream",
     "text": [
      "                      (F1-score: 0.0208, Precision: 0.0208, Recall: 0.0248)\n",
      "\n",
      "                      (NDCG: 0.0199)\n",
      "\n",
      "                      (MAE: 4.5224)\n",
      "\n",
      "train_loss= tensor(3.8900)\n",
      "--------------------\n"
     ]
    },
    {
     "name": "stderr",
     "output_type": "stream",
     "text": [
      "100%|██████████| 133/133 [01:01<00:00,  2.16it/s]\n"
     ]
    },
    {
     "name": "stdout",
     "output_type": "stream",
     "text": [
      "                      (F1-score: 0.0147, Precision: 0.0163, Recall: 0.0155)\n",
      "\n",
      "                      (NDCG: 0.0166)\n",
      "\n",
      "                      (MAE: 4.0555)\n",
      "\n",
      "val_loss= tensor(3.3853)\n",
      "--------------------\n"
     ]
    },
    {
     "name": "stderr",
     "output_type": "stream",
     "text": [
      "100%|██████████| 133/133 [01:01<00:00,  2.16it/s]\n"
     ]
    },
    {
     "name": "stdout",
     "output_type": "stream",
     "text": [
      "                      (F1-score: 0.0181, Precision: 0.0186, Recall: 0.0203)\n",
      "\n",
      "                      (NDCG: 0.0196)\n",
      "\n",
      "                      (MAE: 3.8553)\n",
      "\n",
      "--------------------\n",
      "[[1, 0.02029609717472632, 0.018581949173363355, 0.018078442077664302, 0.01960581739930282, 3.8552631578947367, 3.172483205795288]]\n",
      "-----------------------------------------------------------------------------------------\n"
     ]
    },
    {
     "name": "stderr",
     "output_type": "stream",
     "text": [
      "  0%|          | 1/1065 [00:00<10:51,  1.63it/s]"
     ]
    },
    {
     "name": "stdout",
     "output_type": "stream",
     "text": [
      "Epoch 2: 0%, loss: 5.128316\n"
     ]
    },
    {
     "name": "stderr",
     "output_type": "stream",
     "text": [
      "  9%|▉         | 101/1065 [00:47<07:39,  2.10it/s]"
     ]
    },
    {
     "name": "stdout",
     "output_type": "stream",
     "text": [
      "Epoch 2: 9%, loss: 1.416992\n"
     ]
    },
    {
     "name": "stderr",
     "output_type": "stream",
     "text": [
      " 19%|█▉        | 201/1065 [01:35<06:46,  2.12it/s]"
     ]
    },
    {
     "name": "stdout",
     "output_type": "stream",
     "text": [
      "Epoch 2: 19%, loss: 2.605891\n"
     ]
    },
    {
     "name": "stderr",
     "output_type": "stream",
     "text": [
      " 28%|██▊       | 301/1065 [02:23<06:15,  2.04it/s]"
     ]
    },
    {
     "name": "stdout",
     "output_type": "stream",
     "text": [
      "Epoch 2: 28%, loss: 0.846544\n"
     ]
    },
    {
     "name": "stderr",
     "output_type": "stream",
     "text": [
      " 38%|███▊      | 401/1065 [03:12<05:28,  2.02it/s]"
     ]
    },
    {
     "name": "stdout",
     "output_type": "stream",
     "text": [
      "Epoch 2: 38%, loss: 1.168785\n"
     ]
    },
    {
     "name": "stderr",
     "output_type": "stream",
     "text": [
      " 47%|████▋     | 501/1065 [04:02<04:41,  2.01it/s]"
     ]
    },
    {
     "name": "stdout",
     "output_type": "stream",
     "text": [
      "Epoch 2: 47%, loss: 1.559311\n"
     ]
    },
    {
     "name": "stderr",
     "output_type": "stream",
     "text": [
      " 56%|█████▋    | 601/1065 [04:51<03:52,  2.00it/s]"
     ]
    },
    {
     "name": "stdout",
     "output_type": "stream",
     "text": [
      "Epoch 2: 56%, loss: 1.582226\n"
     ]
    },
    {
     "name": "stderr",
     "output_type": "stream",
     "text": [
      " 66%|██████▌   | 701/1065 [05:42<03:05,  1.96it/s]"
     ]
    },
    {
     "name": "stdout",
     "output_type": "stream",
     "text": [
      "Epoch 2: 66%, loss: 0.688810\n"
     ]
    },
    {
     "name": "stderr",
     "output_type": "stream",
     "text": [
      " 75%|███████▌  | 801/1065 [06:34<02:17,  1.92it/s]"
     ]
    },
    {
     "name": "stdout",
     "output_type": "stream",
     "text": [
      "Epoch 2: 75%, loss: 2.512987\n"
     ]
    },
    {
     "name": "stderr",
     "output_type": "stream",
     "text": [
      " 85%|████████▍ | 901/1065 [07:26<01:25,  1.92it/s]"
     ]
    },
    {
     "name": "stdout",
     "output_type": "stream",
     "text": [
      "Epoch 2: 85%, loss: 1.242877\n"
     ]
    },
    {
     "name": "stderr",
     "output_type": "stream",
     "text": [
      " 94%|█████████▍| 1001/1065 [08:18<00:33,  1.92it/s]"
     ]
    },
    {
     "name": "stdout",
     "output_type": "stream",
     "text": [
      "Epoch 2: 94%, loss: 13.380835\n"
     ]
    },
    {
     "name": "stderr",
     "output_type": "stream",
     "text": [
      "100%|██████████| 1065/1065 [08:52<00:00,  2.00it/s]"
     ]
    },
    {
     "name": "stdout",
     "output_type": "stream",
     "text": [
      "Epoch 2: 100%, loss: 2.717307\n"
     ]
    },
    {
     "name": "stderr",
     "output_type": "stream",
     "text": [
      "\n"
     ]
    },
    {
     "name": "stdout",
     "output_type": "stream",
     "text": [
      "                      (F1-score: 0.0122, Precision: 0.0122, Recall: 0.0142)\n",
      "\n",
      "                      (NDCG: 0.0132)\n",
      "\n",
      "                      (MAE: 4.0989)\n",
      "\n",
      "train_loss= tensor(3.0709)\n",
      "--------------------\n"
     ]
    },
    {
     "name": "stderr",
     "output_type": "stream",
     "text": [
      "100%|██████████| 133/133 [01:01<00:00,  2.16it/s]\n"
     ]
    },
    {
     "name": "stdout",
     "output_type": "stream",
     "text": [
      "                      (F1-score: 0.0064, Precision: 0.0061, Recall: 0.0077)\n",
      "\n",
      "                      (NDCG: 0.0068)\n",
      "\n",
      "                      (MAE: 4.0602)\n",
      "\n",
      "val_loss= tensor(3.0932)\n",
      "--------------------\n"
     ]
    },
    {
     "name": "stderr",
     "output_type": "stream",
     "text": [
      "100%|██████████| 133/133 [01:01<00:00,  2.16it/s]\n"
     ]
    },
    {
     "name": "stdout",
     "output_type": "stream",
     "text": [
      "                      (F1-score: 0.0079, Precision: 0.0076, Recall: 0.0096)\n",
      "\n",
      "                      (NDCG: 0.0089)\n",
      "\n",
      "                      (MAE: 3.9239)\n",
      "\n",
      "--------------------\n",
      "[[1, 0.02029609717472632, 0.018581949173363355, 0.018078442077664302, 0.01960581739930282, 3.8552631578947367, 3.172483205795288], [2, 0.009590029569436501, 0.00760657379133717, 0.007906975735404888, 0.008938333026616644, 3.9238721804511276, 2.9250130653381348]]\n",
      "-----------------------------------------------------------------------------------------\n"
     ]
    },
    {
     "name": "stderr",
     "output_type": "stream",
     "text": [
      "  0%|          | 1/1065 [00:00<11:30,  1.54it/s]"
     ]
    },
    {
     "name": "stdout",
     "output_type": "stream",
     "text": [
      "Epoch 3: 0%, loss: 75.854263\n"
     ]
    },
    {
     "name": "stderr",
     "output_type": "stream",
     "text": [
      "  9%|▉         | 101/1065 [00:47<07:31,  2.13it/s]"
     ]
    },
    {
     "name": "stdout",
     "output_type": "stream",
     "text": [
      "Epoch 3: 9%, loss: 2.166118\n"
     ]
    },
    {
     "name": "stderr",
     "output_type": "stream",
     "text": [
      " 19%|█▉        | 201/1065 [01:35<06:47,  2.12it/s]"
     ]
    },
    {
     "name": "stdout",
     "output_type": "stream",
     "text": [
      "Epoch 3: 19%, loss: 0.397492\n"
     ]
    },
    {
     "name": "stderr",
     "output_type": "stream",
     "text": [
      " 28%|██▊       | 301/1065 [02:23<06:11,  2.06it/s]"
     ]
    },
    {
     "name": "stdout",
     "output_type": "stream",
     "text": [
      "Epoch 3: 28%, loss: 1.512444\n"
     ]
    },
    {
     "name": "stderr",
     "output_type": "stream",
     "text": [
      " 38%|███▊      | 401/1065 [03:12<05:18,  2.09it/s]"
     ]
    },
    {
     "name": "stdout",
     "output_type": "stream",
     "text": [
      "Epoch 3: 38%, loss: 1.681528\n"
     ]
    },
    {
     "name": "stderr",
     "output_type": "stream",
     "text": [
      " 47%|████▋     | 501/1065 [04:02<04:42,  2.00it/s]"
     ]
    },
    {
     "name": "stdout",
     "output_type": "stream",
     "text": [
      "Epoch 3: 47%, loss: 18.020752\n"
     ]
    },
    {
     "name": "stderr",
     "output_type": "stream",
     "text": [
      " 56%|█████▋    | 601/1065 [04:53<04:11,  1.85it/s]"
     ]
    },
    {
     "name": "stdout",
     "output_type": "stream",
     "text": [
      "Epoch 3: 56%, loss: 6.957421\n"
     ]
    },
    {
     "name": "stderr",
     "output_type": "stream",
     "text": [
      " 66%|██████▌   | 701/1065 [05:44<03:10,  1.91it/s]"
     ]
    },
    {
     "name": "stdout",
     "output_type": "stream",
     "text": [
      "Epoch 3: 66%, loss: 1.309604\n"
     ]
    },
    {
     "name": "stderr",
     "output_type": "stream",
     "text": [
      " 75%|███████▌  | 801/1065 [06:37<02:28,  1.78it/s]"
     ]
    },
    {
     "name": "stdout",
     "output_type": "stream",
     "text": [
      "Epoch 3: 75%, loss: 3.283411\n"
     ]
    },
    {
     "name": "stderr",
     "output_type": "stream",
     "text": [
      " 85%|████████▍ | 901/1065 [07:31<01:26,  1.89it/s]"
     ]
    },
    {
     "name": "stdout",
     "output_type": "stream",
     "text": [
      "Epoch 3: 85%, loss: 1.816372\n"
     ]
    },
    {
     "name": "stderr",
     "output_type": "stream",
     "text": [
      " 94%|█████████▍| 1001/1065 [08:24<00:33,  1.89it/s]"
     ]
    },
    {
     "name": "stdout",
     "output_type": "stream",
     "text": [
      "Epoch 3: 94%, loss: 11.750319\n"
     ]
    },
    {
     "name": "stderr",
     "output_type": "stream",
     "text": [
      "100%|██████████| 1065/1065 [09:00<00:00,  1.97it/s]"
     ]
    },
    {
     "name": "stdout",
     "output_type": "stream",
     "text": [
      "Epoch 3: 100%, loss: 1.676036\n"
     ]
    },
    {
     "name": "stderr",
     "output_type": "stream",
     "text": [
      "\n"
     ]
    },
    {
     "name": "stdout",
     "output_type": "stream",
     "text": [
      "                      (F1-score: 0.0089, Precision: 0.0086, Recall: 0.0107)\n",
      "\n",
      "                      (NDCG: 0.0099)\n",
      "\n",
      "                      (MAE: 4.0725)\n",
      "\n",
      "train_loss= tensor(2.9286)\n",
      "--------------------\n"
     ]
    },
    {
     "name": "stderr",
     "output_type": "stream",
     "text": [
      "100%|██████████| 133/133 [01:02<00:00,  2.13it/s]\n"
     ]
    },
    {
     "name": "stdout",
     "output_type": "stream",
     "text": [
      "                      (F1-score: 0.0096, Precision: 0.0100, Recall: 0.0104)\n",
      "\n",
      "                      (NDCG: 0.0111)\n",
      "\n",
      "                      (MAE: 3.9868)\n",
      "\n",
      "val_loss= tensor(3.1509)\n",
      "--------------------\n"
     ]
    },
    {
     "name": "stderr",
     "output_type": "stream",
     "text": [
      "100%|██████████| 133/133 [01:01<00:00,  2.16it/s]\n"
     ]
    },
    {
     "name": "stdout",
     "output_type": "stream",
     "text": [
      "                      (F1-score: 0.0109, Precision: 0.0111, Recall: 0.0120)\n",
      "\n",
      "                      (NDCG: 0.0129)\n",
      "\n",
      "                      (MAE: 3.8092)\n",
      "\n",
      "--------------------\n",
      "[[1, 0.02029609717472632, 0.018581949173363355, 0.018078442077664302, 0.01960581739930282, 3.8552631578947367, 3.172483205795288], [2, 0.009590029569436501, 0.00760657379133717, 0.007906975735404888, 0.008938333026616644, 3.9238721804511276, 2.9250130653381348], [3, 0.011967358626246843, 0.011143999066931393, 0.01089151645222206, 0.012903555974721405, 3.8092105263157894, 2.9684085845947266]]\n",
      "-----------------------------------------------------------------------------------------\n"
     ]
    },
    {
     "name": "stderr",
     "output_type": "stream",
     "text": [
      "  0%|          | 1/1065 [00:00<09:53,  1.79it/s]"
     ]
    },
    {
     "name": "stdout",
     "output_type": "stream",
     "text": [
      "Epoch 4: 0%, loss: 2.965855\n"
     ]
    },
    {
     "name": "stderr",
     "output_type": "stream",
     "text": [
      "  9%|▉         | 101/1065 [00:47<07:35,  2.12it/s]"
     ]
    },
    {
     "name": "stdout",
     "output_type": "stream",
     "text": [
      "Epoch 4: 9%, loss: 1.292577\n"
     ]
    },
    {
     "name": "stderr",
     "output_type": "stream",
     "text": [
      " 19%|█▉        | 201/1065 [01:33<06:44,  2.13it/s]"
     ]
    },
    {
     "name": "stdout",
     "output_type": "stream",
     "text": [
      "Epoch 4: 19%, loss: 1.976041\n"
     ]
    },
    {
     "name": "stderr",
     "output_type": "stream",
     "text": [
      " 28%|██▊       | 301/1065 [02:21<06:14,  2.04it/s]"
     ]
    },
    {
     "name": "stdout",
     "output_type": "stream",
     "text": [
      "Epoch 4: 28%, loss: 7.490748\n"
     ]
    },
    {
     "name": "stderr",
     "output_type": "stream",
     "text": [
      " 38%|███▊      | 401/1065 [03:09<05:27,  2.03it/s]"
     ]
    },
    {
     "name": "stdout",
     "output_type": "stream",
     "text": [
      "Epoch 4: 38%, loss: 2.188205\n"
     ]
    },
    {
     "name": "stderr",
     "output_type": "stream",
     "text": [
      " 47%|████▋     | 501/1065 [03:58<04:39,  2.02it/s]"
     ]
    },
    {
     "name": "stdout",
     "output_type": "stream",
     "text": [
      "Epoch 4: 47%, loss: 2.015631\n"
     ]
    },
    {
     "name": "stderr",
     "output_type": "stream",
     "text": [
      " 56%|█████▋    | 601/1065 [04:47<03:47,  2.04it/s]"
     ]
    },
    {
     "name": "stdout",
     "output_type": "stream",
     "text": [
      "Epoch 4: 56%, loss: 1.075407\n"
     ]
    },
    {
     "name": "stderr",
     "output_type": "stream",
     "text": [
      " 66%|██████▌   | 701/1065 [05:38<03:06,  1.95it/s]"
     ]
    },
    {
     "name": "stdout",
     "output_type": "stream",
     "text": [
      "Epoch 4: 66%, loss: 6.597682\n"
     ]
    },
    {
     "name": "stderr",
     "output_type": "stream",
     "text": [
      " 75%|███████▌  | 801/1065 [06:30<02:18,  1.90it/s]"
     ]
    },
    {
     "name": "stdout",
     "output_type": "stream",
     "text": [
      "Epoch 4: 75%, loss: 0.709302\n"
     ]
    },
    {
     "name": "stderr",
     "output_type": "stream",
     "text": [
      " 85%|████████▍ | 901/1065 [07:22<01:25,  1.93it/s]"
     ]
    },
    {
     "name": "stdout",
     "output_type": "stream",
     "text": [
      "Epoch 4: 85%, loss: 2.093791\n"
     ]
    },
    {
     "name": "stderr",
     "output_type": "stream",
     "text": [
      " 94%|█████████▍| 1001/1065 [08:15<00:34,  1.85it/s]"
     ]
    },
    {
     "name": "stdout",
     "output_type": "stream",
     "text": [
      "Epoch 4: 94%, loss: 0.460504\n"
     ]
    },
    {
     "name": "stderr",
     "output_type": "stream",
     "text": [
      "100%|██████████| 1065/1065 [08:50<00:00,  2.01it/s]"
     ]
    },
    {
     "name": "stdout",
     "output_type": "stream",
     "text": [
      "Epoch 4: 100%, loss: 0.421061\n"
     ]
    },
    {
     "name": "stderr",
     "output_type": "stream",
     "text": [
      "\n"
     ]
    },
    {
     "name": "stdout",
     "output_type": "stream",
     "text": [
      "                      (F1-score: 0.0147, Precision: 0.0145, Recall: 0.0172)\n",
      "\n",
      "                      (NDCG: 0.0173)\n",
      "\n",
      "                      (MAE: 4.0588)\n",
      "\n",
      "train_loss= tensor(2.8908)\n",
      "--------------------\n"
     ]
    },
    {
     "name": "stderr",
     "output_type": "stream",
     "text": [
      "100%|██████████| 133/133 [01:02<00:00,  2.14it/s]\n"
     ]
    },
    {
     "name": "stdout",
     "output_type": "stream",
     "text": [
      "                      (F1-score: 0.0153, Precision: 0.0159, Recall: 0.0168)\n",
      "\n",
      "                      (NDCG: 0.0187)\n",
      "\n",
      "                      (MAE: 3.9577)\n",
      "\n",
      "val_loss= tensor(3.0021)\n",
      "--------------------\n"
     ]
    },
    {
     "name": "stderr",
     "output_type": "stream",
     "text": [
      "100%|██████████| 133/133 [01:02<00:00,  2.14it/s]\n"
     ]
    },
    {
     "name": "stdout",
     "output_type": "stream",
     "text": [
      "                      (F1-score: 0.0187, Precision: 0.0189, Recall: 0.0212)\n",
      "\n",
      "                      (NDCG: 0.0232)\n",
      "\n",
      "                      (MAE: 3.8224)\n",
      "\n",
      "--------------------\n",
      "[[1, 0.02029609717472632, 0.018581949173363355, 0.018078442077664302, 0.01960581739930282, 3.8552631578947367, 3.172483205795288], [2, 0.009590029569436501, 0.00760657379133717, 0.007906975735404888, 0.008938333026616644, 3.9238721804511276, 2.9250130653381348], [3, 0.011967358626246843, 0.011143999066931393, 0.01089151645222206, 0.012903555974721405, 3.8092105263157894, 2.9684085845947266], [4, 0.021195197412356294, 0.018915970091327686, 0.01870228023713083, 0.023160792382160917, 3.8223684210526314, 2.873953342437744]]\n",
      "-----------------------------------------------------------------------------------------\n"
     ]
    },
    {
     "name": "stderr",
     "output_type": "stream",
     "text": [
      "  0%|          | 1/1065 [00:00<09:35,  1.85it/s]"
     ]
    },
    {
     "name": "stdout",
     "output_type": "stream",
     "text": [
      "Epoch 5: 0%, loss: 2.231581\n"
     ]
    },
    {
     "name": "stderr",
     "output_type": "stream",
     "text": [
      "  9%|▉         | 101/1065 [00:48<07:35,  2.12it/s]"
     ]
    },
    {
     "name": "stdout",
     "output_type": "stream",
     "text": [
      "Epoch 5: 9%, loss: 0.535600\n"
     ]
    },
    {
     "name": "stderr",
     "output_type": "stream",
     "text": [
      " 19%|█▉        | 201/1065 [01:36<06:46,  2.12it/s]"
     ]
    },
    {
     "name": "stdout",
     "output_type": "stream",
     "text": [
      "Epoch 5: 19%, loss: 1.890667\n"
     ]
    },
    {
     "name": "stderr",
     "output_type": "stream",
     "text": [
      " 28%|██▊       | 301/1065 [02:24<06:24,  1.99it/s]"
     ]
    },
    {
     "name": "stdout",
     "output_type": "stream",
     "text": [
      "Epoch 5: 28%, loss: 8.408031\n"
     ]
    },
    {
     "name": "stderr",
     "output_type": "stream",
     "text": [
      " 38%|███▊      | 401/1065 [03:13<05:31,  2.00it/s]"
     ]
    },
    {
     "name": "stdout",
     "output_type": "stream",
     "text": [
      "Epoch 5: 38%, loss: 1.151742\n"
     ]
    },
    {
     "name": "stderr",
     "output_type": "stream",
     "text": [
      " 47%|████▋     | 501/1065 [04:03<04:49,  1.95it/s]"
     ]
    },
    {
     "name": "stdout",
     "output_type": "stream",
     "text": [
      "Epoch 5: 47%, loss: 2.397602\n"
     ]
    },
    {
     "name": "stderr",
     "output_type": "stream",
     "text": [
      " 56%|█████▋    | 601/1065 [04:53<03:48,  2.03it/s]"
     ]
    },
    {
     "name": "stdout",
     "output_type": "stream",
     "text": [
      "Epoch 5: 56%, loss: 1.949600\n"
     ]
    },
    {
     "name": "stderr",
     "output_type": "stream",
     "text": [
      " 66%|██████▌   | 701/1065 [05:44<03:04,  1.97it/s]"
     ]
    },
    {
     "name": "stdout",
     "output_type": "stream",
     "text": [
      "Epoch 5: 66%, loss: 0.384221\n"
     ]
    },
    {
     "name": "stderr",
     "output_type": "stream",
     "text": [
      " 75%|███████▌  | 801/1065 [06:35<02:17,  1.92it/s]"
     ]
    },
    {
     "name": "stdout",
     "output_type": "stream",
     "text": [
      "Epoch 5: 75%, loss: 21.092087\n"
     ]
    },
    {
     "name": "stderr",
     "output_type": "stream",
     "text": [
      " 85%|████████▍ | 901/1065 [07:26<01:24,  1.95it/s]"
     ]
    },
    {
     "name": "stdout",
     "output_type": "stream",
     "text": [
      "Epoch 5: 85%, loss: 4.940780\n"
     ]
    },
    {
     "name": "stderr",
     "output_type": "stream",
     "text": [
      " 94%|█████████▍| 1001/1065 [08:17<00:33,  1.94it/s]"
     ]
    },
    {
     "name": "stdout",
     "output_type": "stream",
     "text": [
      "Epoch 5: 94%, loss: 1.175025\n"
     ]
    },
    {
     "name": "stderr",
     "output_type": "stream",
     "text": [
      "100%|██████████| 1065/1065 [08:51<00:00,  2.00it/s]"
     ]
    },
    {
     "name": "stdout",
     "output_type": "stream",
     "text": [
      "Epoch 5: 100%, loss: 87.038246\n"
     ]
    },
    {
     "name": "stderr",
     "output_type": "stream",
     "text": [
      "\n"
     ]
    },
    {
     "name": "stdout",
     "output_type": "stream",
     "text": [
      "                      (F1-score: 0.0238, Precision: 0.0234, Recall: 0.0280)\n",
      "\n",
      "                      (NDCG: 0.0270)\n",
      "\n",
      "                      (MAE: 4.0411)\n",
      "\n",
      "train_loss= tensor(2.8717)\n",
      "--------------------\n"
     ]
    },
    {
     "name": "stderr",
     "output_type": "stream",
     "text": [
      "100%|██████████| 133/133 [01:02<00:00,  2.14it/s]\n"
     ]
    },
    {
     "name": "stdout",
     "output_type": "stream",
     "text": [
      "                      (F1-score: 0.0245, Precision: 0.0228, Recall: 0.0311)\n",
      "\n",
      "                      (NDCG: 0.0276)\n",
      "\n",
      "                      (MAE: 4.4803)\n",
      "\n",
      "val_loss= tensor(3.0315)\n",
      "--------------------\n"
     ]
    },
    {
     "name": "stderr",
     "output_type": "stream",
     "text": [
      "100%|██████████| 133/133 [01:02<00:00,  2.14it/s]\n"
     ]
    },
    {
     "name": "stdout",
     "output_type": "stream",
     "text": [
      "                      (F1-score: 0.0308, Precision: 0.0277, Recall: 0.0405)\n",
      "\n",
      "                      (NDCG: 0.0320)\n",
      "\n",
      "                      (MAE: 4.5827)\n",
      "\n",
      "--------------------\n",
      "[[1, 0.02029609717472632, 0.018581949173363355, 0.018078442077664302, 0.01960581739930282, 3.8552631578947367, 3.172483205795288], [2, 0.009590029569436501, 0.00760657379133717, 0.007906975735404888, 0.008938333026616644, 3.9238721804511276, 2.9250130653381348], [3, 0.011967358626246843, 0.011143999066931393, 0.01089151645222206, 0.012903555974721405, 3.8092105263157894, 2.9684085845947266], [4, 0.021195197412356294, 0.018915970091327686, 0.01870228023713083, 0.023160792382160917, 3.8223684210526314, 2.873953342437744], [5, 0.040541936253517784, 0.027653987141562662, 0.030835359563487232, 0.032018667065076306, 4.582706766917293, 3.0609941482543945]]\n",
      "-----------------------------------------------------------------------------------------\n"
     ]
    },
    {
     "name": "stderr",
     "output_type": "stream",
     "text": [
      "  0%|          | 1/1065 [00:00<10:43,  1.65it/s]"
     ]
    },
    {
     "name": "stdout",
     "output_type": "stream",
     "text": [
      "Epoch 6: 0%, loss: 4.911430\n"
     ]
    },
    {
     "name": "stderr",
     "output_type": "stream",
     "text": [
      "  9%|▉         | 101/1065 [00:47<07:36,  2.11it/s]"
     ]
    },
    {
     "name": "stdout",
     "output_type": "stream",
     "text": [
      "Epoch 6: 9%, loss: 3.198394\n"
     ]
    },
    {
     "name": "stderr",
     "output_type": "stream",
     "text": [
      " 19%|█▉        | 201/1065 [01:35<06:59,  2.06it/s]"
     ]
    },
    {
     "name": "stdout",
     "output_type": "stream",
     "text": [
      "Epoch 6: 19%, loss: 1.652005\n"
     ]
    },
    {
     "name": "stderr",
     "output_type": "stream",
     "text": [
      " 28%|██▊       | 301/1065 [02:24<06:09,  2.07it/s]"
     ]
    },
    {
     "name": "stdout",
     "output_type": "stream",
     "text": [
      "Epoch 6: 28%, loss: 3.713318\n"
     ]
    },
    {
     "name": "stderr",
     "output_type": "stream",
     "text": [
      " 38%|███▊      | 401/1065 [03:14<05:25,  2.04it/s]"
     ]
    },
    {
     "name": "stdout",
     "output_type": "stream",
     "text": [
      "Epoch 6: 38%, loss: 4.997760\n"
     ]
    },
    {
     "name": "stderr",
     "output_type": "stream",
     "text": [
      " 47%|████▋     | 501/1065 [04:03<04:38,  2.02it/s]"
     ]
    },
    {
     "name": "stdout",
     "output_type": "stream",
     "text": [
      "Epoch 6: 47%, loss: 1.312597\n"
     ]
    },
    {
     "name": "stderr",
     "output_type": "stream",
     "text": [
      " 56%|█████▋    | 601/1065 [04:53<03:50,  2.01it/s]"
     ]
    },
    {
     "name": "stdout",
     "output_type": "stream",
     "text": [
      "Epoch 6: 56%, loss: 4.494370\n"
     ]
    },
    {
     "name": "stderr",
     "output_type": "stream",
     "text": [
      " 66%|██████▌   | 701/1065 [05:43<02:59,  2.02it/s]"
     ]
    },
    {
     "name": "stdout",
     "output_type": "stream",
     "text": [
      "Epoch 6: 66%, loss: 0.829161\n"
     ]
    },
    {
     "name": "stderr",
     "output_type": "stream",
     "text": [
      " 75%|███████▌  | 801/1065 [06:35<02:24,  1.83it/s]"
     ]
    },
    {
     "name": "stdout",
     "output_type": "stream",
     "text": [
      "Epoch 6: 75%, loss: 1.289896\n"
     ]
    },
    {
     "name": "stderr",
     "output_type": "stream",
     "text": [
      " 85%|████████▍ | 901/1065 [07:28<01:25,  1.92it/s]"
     ]
    },
    {
     "name": "stdout",
     "output_type": "stream",
     "text": [
      "Epoch 6: 85%, loss: 1.269651\n"
     ]
    },
    {
     "name": "stderr",
     "output_type": "stream",
     "text": [
      " 94%|█████████▍| 1001/1065 [08:20<00:32,  1.96it/s]"
     ]
    },
    {
     "name": "stdout",
     "output_type": "stream",
     "text": [
      "Epoch 6: 94%, loss: 4.617815\n"
     ]
    },
    {
     "name": "stderr",
     "output_type": "stream",
     "text": [
      "100%|██████████| 1065/1065 [08:53<00:00,  2.00it/s]"
     ]
    },
    {
     "name": "stdout",
     "output_type": "stream",
     "text": [
      "Epoch 6: 100%, loss: 0.671580\n"
     ]
    },
    {
     "name": "stderr",
     "output_type": "stream",
     "text": [
      "\n"
     ]
    },
    {
     "name": "stdout",
     "output_type": "stream",
     "text": [
      "                      (F1-score: 0.0381, Precision: 0.0376, Recall: 0.0446)\n",
      "\n",
      "                      (NDCG: 0.0382)\n",
      "\n",
      "                      (MAE: 4.0245)\n",
      "\n",
      "train_loss= tensor(2.8391)\n",
      "--------------------\n"
     ]
    },
    {
     "name": "stderr",
     "output_type": "stream",
     "text": [
      "100%|██████████| 133/133 [01:01<00:00,  2.16it/s]\n"
     ]
    },
    {
     "name": "stdout",
     "output_type": "stream",
     "text": [
      "                      (F1-score: 0.0383, Precision: 0.0397, Recall: 0.0423)\n",
      "\n",
      "                      (NDCG: 0.0384)\n",
      "\n",
      "                      (MAE: 3.9831)\n",
      "\n",
      "val_loss= tensor(2.9657)\n",
      "--------------------\n"
     ]
    },
    {
     "name": "stderr",
     "output_type": "stream",
     "text": [
      "100%|██████████| 133/133 [01:01<00:00,  2.17it/s]\n"
     ]
    },
    {
     "name": "stdout",
     "output_type": "stream",
     "text": [
      "                      (F1-score: 0.0466, Precision: 0.0468, Recall: 0.0533)\n",
      "\n",
      "                      (NDCG: 0.0448)\n",
      "\n",
      "                      (MAE: 3.8600)\n",
      "\n",
      "--------------------\n",
      "[[1, 0.02029609717472632, 0.018581949173363355, 0.018078442077664302, 0.01960581739930282, 3.8552631578947367, 3.172483205795288], [2, 0.009590029569436501, 0.00760657379133717, 0.007906975735404888, 0.008938333026616644, 3.9238721804511276, 2.9250130653381348], [3, 0.011967358626246843, 0.011143999066931393, 0.01089151645222206, 0.012903555974721405, 3.8092105263157894, 2.9684085845947266], [4, 0.021195197412356294, 0.018915970091327686, 0.01870228023713083, 0.023160792382160917, 3.8223684210526314, 2.873953342437744], [5, 0.040541936253517784, 0.027653987141562662, 0.030835359563487232, 0.032018667065076306, 4.582706766917293, 3.0609941482543945], [6, 0.05333958316388954, 0.04676110440016118, 0.046567730752848945, 0.04477785829248089, 3.8599624060150375, 2.8226137161254883]]\n",
      "-----------------------------------------------------------------------------------------\n"
     ]
    },
    {
     "name": "stderr",
     "output_type": "stream",
     "text": [
      "  0%|          | 1/1065 [00:00<09:26,  1.88it/s]"
     ]
    },
    {
     "name": "stdout",
     "output_type": "stream",
     "text": [
      "Epoch 7: 0%, loss: 0.720405\n"
     ]
    },
    {
     "name": "stderr",
     "output_type": "stream",
     "text": [
      "  9%|▉         | 101/1065 [00:47<07:33,  2.13it/s]"
     ]
    },
    {
     "name": "stdout",
     "output_type": "stream",
     "text": [
      "Epoch 7: 9%, loss: 17.093369\n"
     ]
    },
    {
     "name": "stderr",
     "output_type": "stream",
     "text": [
      " 19%|█▉        | 201/1065 [01:34<06:43,  2.14it/s]"
     ]
    },
    {
     "name": "stdout",
     "output_type": "stream",
     "text": [
      "Epoch 7: 19%, loss: 2.211728\n"
     ]
    },
    {
     "name": "stderr",
     "output_type": "stream",
     "text": [
      " 28%|██▊       | 301/1065 [02:22<06:28,  1.97it/s]"
     ]
    },
    {
     "name": "stdout",
     "output_type": "stream",
     "text": [
      "Epoch 7: 28%, loss: 3.350313\n"
     ]
    },
    {
     "name": "stderr",
     "output_type": "stream",
     "text": [
      " 38%|███▊      | 401/1065 [03:11<05:11,  2.13it/s]"
     ]
    },
    {
     "name": "stdout",
     "output_type": "stream",
     "text": [
      "Epoch 7: 38%, loss: 0.943620\n"
     ]
    },
    {
     "name": "stderr",
     "output_type": "stream",
     "text": [
      " 47%|████▋     | 501/1065 [05:01<12:48,  1.36s/it]"
     ]
    },
    {
     "name": "stdout",
     "output_type": "stream",
     "text": [
      "Epoch 7: 47%, loss: 15.594068\n"
     ]
    },
    {
     "name": "stderr",
     "output_type": "stream",
     "text": [
      " 56%|█████▋    | 601/1065 [07:15<10:21,  1.34s/it]"
     ]
    },
    {
     "name": "stdout",
     "output_type": "stream",
     "text": [
      "Epoch 7: 56%, loss: 1.698717\n"
     ]
    },
    {
     "name": "stderr",
     "output_type": "stream",
     "text": [
      " 66%|██████▌   | 701/1065 [09:31<08:22,  1.38s/it]"
     ]
    },
    {
     "name": "stdout",
     "output_type": "stream",
     "text": [
      "Epoch 7: 66%, loss: 3.269569\n"
     ]
    },
    {
     "name": "stderr",
     "output_type": "stream",
     "text": [
      " 75%|███████▌  | 801/1065 [11:45<05:54,  1.34s/it]"
     ]
    },
    {
     "name": "stdout",
     "output_type": "stream",
     "text": [
      "Epoch 7: 75%, loss: 3.565442\n"
     ]
    },
    {
     "name": "stderr",
     "output_type": "stream",
     "text": [
      " 85%|████████▍ | 901/1065 [14:01<03:45,  1.37s/it]"
     ]
    },
    {
     "name": "stdout",
     "output_type": "stream",
     "text": [
      "Epoch 7: 85%, loss: 2.139772\n"
     ]
    },
    {
     "name": "stderr",
     "output_type": "stream",
     "text": [
      " 94%|█████████▍| 1001/1065 [16:16<01:22,  1.28s/it]"
     ]
    },
    {
     "name": "stdout",
     "output_type": "stream",
     "text": [
      "Epoch 7: 94%, loss: 1.702062\n"
     ]
    },
    {
     "name": "stderr",
     "output_type": "stream",
     "text": [
      "100%|██████████| 1065/1065 [17:40<00:00,  1.00it/s]"
     ]
    },
    {
     "name": "stdout",
     "output_type": "stream",
     "text": [
      "Epoch 7: 100%, loss: 0.644017\n"
     ]
    },
    {
     "name": "stderr",
     "output_type": "stream",
     "text": [
      "\n"
     ]
    },
    {
     "name": "stdout",
     "output_type": "stream",
     "text": [
      "                      (F1-score: 0.0459, Precision: 0.0455, Recall: 0.0534)\n",
      "\n",
      "                      (NDCG: 0.0430)\n",
      "\n",
      "                      (MAE: 4.0072)\n",
      "\n",
      "train_loss= tensor(2.8201)\n",
      "--------------------\n"
     ]
    },
    {
     "name": "stderr",
     "output_type": "stream",
     "text": [
      "100%|██████████| 133/133 [02:48<00:00,  1.26s/it]\n"
     ]
    },
    {
     "name": "stdout",
     "output_type": "stream",
     "text": [
      "                      (F1-score: 0.0397, Precision: 0.0432, Recall: 0.0419)\n",
      "\n",
      "                      (NDCG: 0.0386)\n",
      "\n",
      "                      (MAE: 3.9492)\n",
      "\n",
      "val_loss= tensor(3.0806)\n",
      "--------------------\n"
     ]
    },
    {
     "name": "stderr",
     "output_type": "stream",
     "text": [
      "100%|██████████| 133/133 [02:42<00:00,  1.22s/it]\n"
     ]
    },
    {
     "name": "stdout",
     "output_type": "stream",
     "text": [
      "                      (F1-score: 0.0500, Precision: 0.0519, Recall: 0.0552)\n",
      "\n",
      "                      (NDCG: 0.0469)\n",
      "\n",
      "                      (MAE: 3.7989)\n",
      "\n",
      "--------------------\n",
      "[[1, 0.02029609717472632, 0.018581949173363355, 0.018078442077664302, 0.01960581739930282, 3.8552631578947367, 3.172483205795288], [2, 0.009590029569436501, 0.00760657379133717, 0.007906975735404888, 0.008938333026616644, 3.9238721804511276, 2.9250130653381348], [3, 0.011967358626246843, 0.011143999066931393, 0.01089151645222206, 0.012903555974721405, 3.8092105263157894, 2.9684085845947266], [4, 0.021195197412356294, 0.018915970091327686, 0.01870228023713083, 0.023160792382160917, 3.8223684210526314, 2.873953342437744], [5, 0.040541936253517784, 0.027653987141562662, 0.030835359563487232, 0.032018667065076306, 4.582706766917293, 3.0609941482543945], [6, 0.05333958316388954, 0.04676110440016118, 0.046567730752848945, 0.04477785829248089, 3.8599624060150375, 2.8226137161254883], [7, 0.05520259108170555, 0.051936129469577146, 0.04995748211957907, 0.04690858875961512, 3.7988721804511276, 2.906280755996704]]\n",
      "-----------------------------------------------------------------------------------------\n"
     ]
    },
    {
     "name": "stderr",
     "output_type": "stream",
     "text": [
      "  0%|          | 1/1065 [00:01<25:13,  1.42s/it]"
     ]
    },
    {
     "name": "stdout",
     "output_type": "stream",
     "text": [
      "Epoch 8: 0%, loss: 0.975069\n"
     ]
    },
    {
     "name": "stderr",
     "output_type": "stream",
     "text": [
      "  9%|▉         | 101/1065 [02:07<20:36,  1.28s/it]"
     ]
    },
    {
     "name": "stdout",
     "output_type": "stream",
     "text": [
      "Epoch 8: 9%, loss: 1.616190\n"
     ]
    },
    {
     "name": "stderr",
     "output_type": "stream",
     "text": [
      " 19%|█▉        | 201/1065 [04:15<17:53,  1.24s/it]"
     ]
    },
    {
     "name": "stdout",
     "output_type": "stream",
     "text": [
      "Epoch 8: 19%, loss: 4.401460\n"
     ]
    },
    {
     "name": "stderr",
     "output_type": "stream",
     "text": [
      " 28%|██▊       | 301/1065 [06:23<15:58,  1.25s/it]"
     ]
    },
    {
     "name": "stdout",
     "output_type": "stream",
     "text": [
      "Epoch 8: 28%, loss: 3.763990\n"
     ]
    },
    {
     "name": "stderr",
     "output_type": "stream",
     "text": [
      " 38%|███▊      | 401/1065 [08:29<13:58,  1.26s/it]"
     ]
    },
    {
     "name": "stdout",
     "output_type": "stream",
     "text": [
      "Epoch 8: 38%, loss: 6.435505\n"
     ]
    },
    {
     "name": "stderr",
     "output_type": "stream",
     "text": [
      " 47%|████▋     | 501/1065 [10:37<11:56,  1.27s/it]"
     ]
    },
    {
     "name": "stdout",
     "output_type": "stream",
     "text": [
      "Epoch 8: 47%, loss: 1.423793\n"
     ]
    },
    {
     "name": "stderr",
     "output_type": "stream",
     "text": [
      " 56%|█████▋    | 601/1065 [12:46<09:51,  1.27s/it]"
     ]
    },
    {
     "name": "stdout",
     "output_type": "stream",
     "text": [
      "Epoch 8: 56%, loss: 0.709940\n"
     ]
    },
    {
     "name": "stderr",
     "output_type": "stream",
     "text": [
      " 66%|██████▌   | 701/1065 [14:56<07:47,  1.29s/it]"
     ]
    },
    {
     "name": "stdout",
     "output_type": "stream",
     "text": [
      "Epoch 8: 66%, loss: 2.413850\n"
     ]
    },
    {
     "name": "stderr",
     "output_type": "stream",
     "text": [
      " 75%|███████▌  | 801/1065 [17:06<05:50,  1.33s/it]"
     ]
    },
    {
     "name": "stdout",
     "output_type": "stream",
     "text": [
      "Epoch 8: 75%, loss: 0.339773\n"
     ]
    },
    {
     "name": "stderr",
     "output_type": "stream",
     "text": [
      " 85%|████████▍ | 901/1065 [19:20<03:43,  1.37s/it]"
     ]
    },
    {
     "name": "stdout",
     "output_type": "stream",
     "text": [
      "Epoch 8: 85%, loss: 3.227978\n"
     ]
    },
    {
     "name": "stderr",
     "output_type": "stream",
     "text": [
      " 94%|█████████▍| 1001/1065 [21:35<01:25,  1.34s/it]"
     ]
    },
    {
     "name": "stdout",
     "output_type": "stream",
     "text": [
      "Epoch 8: 94%, loss: 4.342898\n"
     ]
    },
    {
     "name": "stderr",
     "output_type": "stream",
     "text": [
      "100%|██████████| 1065/1065 [23:03<00:00,  1.30s/it]"
     ]
    },
    {
     "name": "stdout",
     "output_type": "stream",
     "text": [
      "Epoch 8: 100%, loss: 1.853720\n"
     ]
    },
    {
     "name": "stderr",
     "output_type": "stream",
     "text": [
      "\n"
     ]
    },
    {
     "name": "stdout",
     "output_type": "stream",
     "text": [
      "                      (F1-score: 0.0459, Precision: 0.0456, Recall: 0.0534)\n",
      "\n",
      "                      (NDCG: 0.0431)\n",
      "\n",
      "                      (MAE: 4.0174)\n",
      "\n",
      "train_loss= tensor(2.8210)\n",
      "--------------------\n"
     ]
    },
    {
     "name": "stderr",
     "output_type": "stream",
     "text": [
      "100%|██████████| 133/133 [02:44<00:00,  1.24s/it]\n"
     ]
    },
    {
     "name": "stdout",
     "output_type": "stream",
     "text": [
      "                      (F1-score: 0.0391, Precision: 0.0401, Recall: 0.0437)\n",
      "\n",
      "                      (NDCG: 0.0385)\n",
      "\n",
      "                      (MAE: 3.9596)\n",
      "\n",
      "val_loss= tensor(2.9203)\n",
      "--------------------\n"
     ]
    },
    {
     "name": "stderr",
     "output_type": "stream",
     "text": [
      "100%|██████████| 133/133 [02:40<00:00,  1.21s/it]\n"
     ]
    },
    {
     "name": "stdout",
     "output_type": "stream",
     "text": [
      "                      (F1-score: 0.0486, Precision: 0.0481, Recall: 0.0560)\n",
      "\n",
      "                      (NDCG: 0.0463)\n",
      "\n",
      "                      (MAE: 3.8656)\n",
      "\n",
      "--------------------\n",
      "[[1, 0.02029609717472632, 0.018581949173363355, 0.018078442077664302, 0.01960581739930282, 3.8552631578947367, 3.172483205795288], [2, 0.009590029569436501, 0.00760657379133717, 0.007906975735404888, 0.008938333026616644, 3.9238721804511276, 2.9250130653381348], [3, 0.011967358626246843, 0.011143999066931393, 0.01089151645222206, 0.012903555974721405, 3.8092105263157894, 2.9684085845947266], [4, 0.021195197412356294, 0.018915970091327686, 0.01870228023713083, 0.023160792382160917, 3.8223684210526314, 2.873953342437744], [5, 0.040541936253517784, 0.027653987141562662, 0.030835359563487232, 0.032018667065076306, 4.582706766917293, 3.0609941482543945], [6, 0.05333958316388954, 0.04676110440016118, 0.046567730752848945, 0.04477785829248089, 3.8599624060150375, 2.8226137161254883], [7, 0.05520259108170555, 0.051936129469577146, 0.04995748211957907, 0.04690858875961512, 3.7988721804511276, 2.906280755996704], [8, 0.05600277973580372, 0.048132302235960746, 0.04855753573739102, 0.046325552507471716, 3.8656015037593985, 2.809469699859619]]\n",
      "-----------------------------------------------------------------------------------------\n"
     ]
    },
    {
     "name": "stderr",
     "output_type": "stream",
     "text": [
      "  0%|          | 1/1065 [00:01<26:02,  1.47s/it]"
     ]
    },
    {
     "name": "stdout",
     "output_type": "stream",
     "text": [
      "Epoch 9: 0%, loss: 0.474783\n"
     ]
    },
    {
     "name": "stderr",
     "output_type": "stream",
     "text": [
      "  9%|▉         | 101/1065 [02:07<20:03,  1.25s/it]"
     ]
    },
    {
     "name": "stdout",
     "output_type": "stream",
     "text": [
      "Epoch 9: 9%, loss: 1.179914\n"
     ]
    },
    {
     "name": "stderr",
     "output_type": "stream",
     "text": [
      " 19%|█▉        | 201/1065 [04:12<17:38,  1.23s/it]"
     ]
    },
    {
     "name": "stdout",
     "output_type": "stream",
     "text": [
      "Epoch 9: 19%, loss: 1.324265\n"
     ]
    },
    {
     "name": "stderr",
     "output_type": "stream",
     "text": [
      " 28%|██▊       | 301/1065 [06:18<16:00,  1.26s/it]"
     ]
    },
    {
     "name": "stdout",
     "output_type": "stream",
     "text": [
      "Epoch 9: 28%, loss: 1.267515\n"
     ]
    },
    {
     "name": "stderr",
     "output_type": "stream",
     "text": [
      " 38%|███▊      | 401/1065 [07:59<05:18,  2.08it/s]"
     ]
    },
    {
     "name": "stdout",
     "output_type": "stream",
     "text": [
      "Epoch 9: 38%, loss: 2.342163\n"
     ]
    },
    {
     "name": "stderr",
     "output_type": "stream",
     "text": [
      " 47%|████▋     | 501/1065 [08:48<04:39,  2.02it/s]"
     ]
    },
    {
     "name": "stdout",
     "output_type": "stream",
     "text": [
      "Epoch 9: 47%, loss: 25.632729\n"
     ]
    },
    {
     "name": "stderr",
     "output_type": "stream",
     "text": [
      " 56%|█████▋    | 601/1065 [09:37<03:51,  2.00it/s]"
     ]
    },
    {
     "name": "stdout",
     "output_type": "stream",
     "text": [
      "Epoch 9: 56%, loss: 1.702482\n"
     ]
    },
    {
     "name": "stderr",
     "output_type": "stream",
     "text": [
      " 66%|██████▌   | 701/1065 [10:28<03:04,  1.97it/s]"
     ]
    },
    {
     "name": "stdout",
     "output_type": "stream",
     "text": [
      "Epoch 9: 66%, loss: 1.364463\n"
     ]
    },
    {
     "name": "stderr",
     "output_type": "stream",
     "text": [
      " 75%|███████▌  | 801/1065 [11:20<02:23,  1.83it/s]"
     ]
    },
    {
     "name": "stdout",
     "output_type": "stream",
     "text": [
      "Epoch 9: 75%, loss: 1.003055\n"
     ]
    },
    {
     "name": "stderr",
     "output_type": "stream",
     "text": [
      " 85%|████████▍ | 901/1065 [12:12<01:23,  1.96it/s]"
     ]
    },
    {
     "name": "stdout",
     "output_type": "stream",
     "text": [
      "Epoch 9: 85%, loss: 6.388773\n"
     ]
    },
    {
     "name": "stderr",
     "output_type": "stream",
     "text": [
      " 94%|█████████▍| 1001/1065 [13:05<00:33,  1.93it/s]"
     ]
    },
    {
     "name": "stdout",
     "output_type": "stream",
     "text": [
      "Epoch 9: 94%, loss: 0.452716\n"
     ]
    },
    {
     "name": "stderr",
     "output_type": "stream",
     "text": [
      "100%|██████████| 1065/1065 [13:39<00:00,  1.30it/s]"
     ]
    },
    {
     "name": "stdout",
     "output_type": "stream",
     "text": [
      "Epoch 9: 100%, loss: 0.958262\n"
     ]
    },
    {
     "name": "stderr",
     "output_type": "stream",
     "text": [
      "\n"
     ]
    },
    {
     "name": "stdout",
     "output_type": "stream",
     "text": [
      "                      (F1-score: 0.0468, Precision: 0.0465, Recall: 0.0546)\n",
      "\n",
      "                      (NDCG: 0.0436)\n",
      "\n",
      "                      (MAE: 4.0025)\n",
      "\n",
      "train_loss= tensor(2.7984)\n",
      "--------------------\n"
     ]
    },
    {
     "name": "stderr",
     "output_type": "stream",
     "text": [
      "100%|██████████| 133/133 [01:01<00:00,  2.15it/s]\n"
     ]
    },
    {
     "name": "stdout",
     "output_type": "stream",
     "text": [
      "                      (F1-score: 0.0402, Precision: 0.0421, Recall: 0.0444)\n",
      "\n",
      "                      (NDCG: 0.0392)\n",
      "\n",
      "                      (MAE: 3.9305)\n",
      "\n",
      "val_loss= tensor(2.8622)\n",
      "--------------------\n"
     ]
    },
    {
     "name": "stderr",
     "output_type": "stream",
     "text": [
      "100%|██████████| 133/133 [01:01<00:00,  2.16it/s]\n"
     ]
    },
    {
     "name": "stdout",
     "output_type": "stream",
     "text": [
      "                      (F1-score: 0.0508, Precision: 0.0519, Recall: 0.0572)\n",
      "\n",
      "                      (NDCG: 0.0471)\n",
      "\n",
      "                      (MAE: 3.8393)\n",
      "\n",
      "--------------------\n",
      "[[1, 0.02029609717472632, 0.018581949173363355, 0.018078442077664302, 0.01960581739930282, 3.8552631578947367, 3.172483205795288], [2, 0.009590029569436501, 0.00760657379133717, 0.007906975735404888, 0.008938333026616644, 3.9238721804511276, 2.9250130653381348], [3, 0.011967358626246843, 0.011143999066931393, 0.01089151645222206, 0.012903555974721405, 3.8092105263157894, 2.9684085845947266], [4, 0.021195197412356294, 0.018915970091327686, 0.01870228023713083, 0.023160792382160917, 3.8223684210526314, 2.873953342437744], [5, 0.040541936253517784, 0.027653987141562662, 0.030835359563487232, 0.032018667065076306, 4.582706766917293, 3.0609941482543945], [6, 0.05333958316388954, 0.04676110440016118, 0.046567730752848945, 0.04477785829248089, 3.8599624060150375, 2.8226137161254883], [7, 0.05520259108170555, 0.051936129469577146, 0.04995748211957907, 0.04690858875961512, 3.7988721804511276, 2.906280755996704], [8, 0.05600277973580372, 0.048132302235960746, 0.04855753573739102, 0.046325552507471716, 3.8656015037593985, 2.809469699859619], [9, 0.057230622127213936, 0.05187942965709248, 0.05077337167418554, 0.047070231352568624, 3.8392857142857144, 2.7783992290496826]]\n",
      "-----------------------------------------------------------------------------------------\n"
     ]
    },
    {
     "name": "stderr",
     "output_type": "stream",
     "text": [
      "  0%|          | 1/1065 [00:00<09:27,  1.88it/s]"
     ]
    },
    {
     "name": "stdout",
     "output_type": "stream",
     "text": [
      "Epoch 10: 0%, loss: 5.573338\n"
     ]
    },
    {
     "name": "stderr",
     "output_type": "stream",
     "text": [
      "  9%|▉         | 101/1065 [00:47<07:29,  2.14it/s]"
     ]
    },
    {
     "name": "stdout",
     "output_type": "stream",
     "text": [
      "Epoch 10: 9%, loss: 0.795440\n"
     ]
    },
    {
     "name": "stderr",
     "output_type": "stream",
     "text": [
      " 19%|█▉        | 201/1065 [01:34<06:54,  2.09it/s]"
     ]
    },
    {
     "name": "stdout",
     "output_type": "stream",
     "text": [
      "Epoch 10: 19%, loss: 2.024065\n"
     ]
    },
    {
     "name": "stderr",
     "output_type": "stream",
     "text": [
      " 28%|██▊       | 301/1065 [02:23<06:23,  1.99it/s]"
     ]
    },
    {
     "name": "stdout",
     "output_type": "stream",
     "text": [
      "Epoch 10: 28%, loss: 5.648926\n"
     ]
    },
    {
     "name": "stderr",
     "output_type": "stream",
     "text": [
      " 38%|███▊      | 401/1065 [03:12<05:28,  2.02it/s]"
     ]
    },
    {
     "name": "stdout",
     "output_type": "stream",
     "text": [
      "Epoch 10: 38%, loss: 1.034285\n"
     ]
    },
    {
     "name": "stderr",
     "output_type": "stream",
     "text": [
      " 47%|████▋     | 501/1065 [04:02<04:36,  2.04it/s]"
     ]
    },
    {
     "name": "stdout",
     "output_type": "stream",
     "text": [
      "Epoch 10: 47%, loss: 3.880951\n"
     ]
    },
    {
     "name": "stderr",
     "output_type": "stream",
     "text": [
      " 56%|█████▋    | 601/1065 [04:52<03:53,  1.98it/s]"
     ]
    },
    {
     "name": "stdout",
     "output_type": "stream",
     "text": [
      "Epoch 10: 56%, loss: 3.076118\n"
     ]
    },
    {
     "name": "stderr",
     "output_type": "stream",
     "text": [
      " 66%|██████▌   | 701/1065 [05:41<03:00,  2.01it/s]"
     ]
    },
    {
     "name": "stdout",
     "output_type": "stream",
     "text": [
      "Epoch 10: 66%, loss: 1.834681\n"
     ]
    },
    {
     "name": "stderr",
     "output_type": "stream",
     "text": [
      " 75%|███████▌  | 801/1065 [06:32<02:10,  2.02it/s]"
     ]
    },
    {
     "name": "stdout",
     "output_type": "stream",
     "text": [
      "Epoch 10: 75%, loss: 24.628883\n"
     ]
    },
    {
     "name": "stderr",
     "output_type": "stream",
     "text": [
      " 85%|████████▍ | 901/1065 [07:22<01:21,  2.00it/s]"
     ]
    },
    {
     "name": "stdout",
     "output_type": "stream",
     "text": [
      "Epoch 10: 85%, loss: 4.718542\n"
     ]
    },
    {
     "name": "stderr",
     "output_type": "stream",
     "text": [
      " 94%|█████████▍| 1001/1065 [08:14<00:32,  1.94it/s]"
     ]
    },
    {
     "name": "stdout",
     "output_type": "stream",
     "text": [
      "Epoch 10: 94%, loss: 4.083447\n"
     ]
    },
    {
     "name": "stderr",
     "output_type": "stream",
     "text": [
      "100%|██████████| 1065/1065 [08:47<00:00,  2.02it/s]"
     ]
    },
    {
     "name": "stdout",
     "output_type": "stream",
     "text": [
      "Epoch 10: 100%, loss: 3.219360\n"
     ]
    },
    {
     "name": "stderr",
     "output_type": "stream",
     "text": [
      "\n"
     ]
    },
    {
     "name": "stdout",
     "output_type": "stream",
     "text": [
      "                      (F1-score: 0.0456, Precision: 0.0449, Recall: 0.0533)\n",
      "\n",
      "                      (NDCG: 0.0428)\n",
      "\n",
      "                      (MAE: 3.9942)\n",
      "\n",
      "train_loss= tensor(2.7999)\n",
      "--------------------\n"
     ]
    },
    {
     "name": "stderr",
     "output_type": "stream",
     "text": [
      "100%|██████████| 133/133 [01:01<00:00,  2.18it/s]\n"
     ]
    },
    {
     "name": "stdout",
     "output_type": "stream",
     "text": [
      "                      (F1-score: 0.0409, Precision: 0.0450, Recall: 0.0428)\n",
      "\n",
      "                      (NDCG: 0.0391)\n",
      "\n",
      "                      (MAE: 3.9445)\n",
      "\n",
      "val_loss= tensor(3.0286)\n",
      "--------------------\n"
     ]
    },
    {
     "name": "stderr",
     "output_type": "stream",
     "text": [
      "100%|██████████| 133/133 [01:00<00:00,  2.19it/s]\n"
     ]
    },
    {
     "name": "stdout",
     "output_type": "stream",
     "text": [
      "                      (F1-score: 0.0498, Precision: 0.0535, Recall: 0.0528)\n",
      "\n",
      "                      (NDCG: 0.0470)\n",
      "\n",
      "                      (MAE: 3.7603)\n",
      "\n",
      "--------------------\n",
      "[[1, 0.02029609717472632, 0.018581949173363355, 0.018078442077664302, 0.01960581739930282, 3.8552631578947367, 3.172483205795288], [2, 0.009590029569436501, 0.00760657379133717, 0.007906975735404888, 0.008938333026616644, 3.9238721804511276, 2.9250130653381348], [3, 0.011967358626246843, 0.011143999066931393, 0.01089151645222206, 0.012903555974721405, 3.8092105263157894, 2.9684085845947266], [4, 0.021195197412356294, 0.018915970091327686, 0.01870228023713083, 0.023160792382160917, 3.8223684210526314, 2.873953342437744], [5, 0.040541936253517784, 0.027653987141562662, 0.030835359563487232, 0.032018667065076306, 4.582706766917293, 3.0609941482543945], [6, 0.05333958316388954, 0.04676110440016118, 0.046567730752848945, 0.04477785829248089, 3.8599624060150375, 2.8226137161254883], [7, 0.05520259108170555, 0.051936129469577146, 0.04995748211957907, 0.04690858875961512, 3.7988721804511276, 2.906280755996704], [8, 0.05600277973580372, 0.048132302235960746, 0.04855753573739102, 0.046325552507471716, 3.8656015037593985, 2.809469699859619], [9, 0.057230622127213936, 0.05187942965709248, 0.05077337167418554, 0.047070231352568624, 3.8392857142857144, 2.7783992290496826], [10, 0.05283215591612335, 0.05347535203079826, 0.04978469890003739, 0.04704430528051619, 3.7603383458646618, 2.8404598236083984]]\n",
      "-----------------------------------------------------------------------------------------\n"
     ]
    },
    {
     "name": "stderr",
     "output_type": "stream",
     "text": [
      "  0%|          | 1/1065 [00:00<11:21,  1.56it/s]"
     ]
    },
    {
     "name": "stdout",
     "output_type": "stream",
     "text": [
      "Epoch 11: 0%, loss: 0.441584\n"
     ]
    },
    {
     "name": "stderr",
     "output_type": "stream",
     "text": [
      "  9%|▉         | 101/1065 [00:46<07:24,  2.17it/s]"
     ]
    },
    {
     "name": "stdout",
     "output_type": "stream",
     "text": [
      "Epoch 11: 9%, loss: 0.617748\n"
     ]
    },
    {
     "name": "stderr",
     "output_type": "stream",
     "text": [
      " 19%|█▉        | 201/1065 [01:33<06:38,  2.17it/s]"
     ]
    },
    {
     "name": "stdout",
     "output_type": "stream",
     "text": [
      "Epoch 11: 19%, loss: 1.094208\n"
     ]
    },
    {
     "name": "stderr",
     "output_type": "stream",
     "text": [
      " 28%|██▊       | 301/1065 [02:20<05:57,  2.14it/s]"
     ]
    },
    {
     "name": "stdout",
     "output_type": "stream",
     "text": [
      "Epoch 11: 28%, loss: 7.713304\n"
     ]
    },
    {
     "name": "stderr",
     "output_type": "stream",
     "text": [
      " 38%|███▊      | 401/1065 [03:08<05:19,  2.08it/s]"
     ]
    },
    {
     "name": "stdout",
     "output_type": "stream",
     "text": [
      "Epoch 11: 38%, loss: 1.665089\n"
     ]
    },
    {
     "name": "stderr",
     "output_type": "stream",
     "text": [
      " 47%|████▋     | 501/1065 [03:56<04:35,  2.05it/s]"
     ]
    },
    {
     "name": "stdout",
     "output_type": "stream",
     "text": [
      "Epoch 11: 47%, loss: 1.997834\n"
     ]
    },
    {
     "name": "stderr",
     "output_type": "stream",
     "text": [
      " 56%|█████▋    | 601/1065 [04:45<03:51,  2.00it/s]"
     ]
    },
    {
     "name": "stdout",
     "output_type": "stream",
     "text": [
      "Epoch 11: 56%, loss: 1.278293\n"
     ]
    },
    {
     "name": "stderr",
     "output_type": "stream",
     "text": [
      " 66%|██████▌   | 701/1065 [05:35<03:01,  2.01it/s]"
     ]
    },
    {
     "name": "stdout",
     "output_type": "stream",
     "text": [
      "Epoch 11: 66%, loss: 2.153717\n"
     ]
    },
    {
     "name": "stderr",
     "output_type": "stream",
     "text": [
      " 75%|███████▌  | 801/1065 [06:25<02:16,  1.94it/s]"
     ]
    },
    {
     "name": "stdout",
     "output_type": "stream",
     "text": [
      "Epoch 11: 75%, loss: 1.049459\n"
     ]
    },
    {
     "name": "stderr",
     "output_type": "stream",
     "text": [
      " 85%|████████▍ | 901/1065 [07:16<01:22,  1.98it/s]"
     ]
    },
    {
     "name": "stdout",
     "output_type": "stream",
     "text": [
      "Epoch 11: 85%, loss: 6.944921\n"
     ]
    },
    {
     "name": "stderr",
     "output_type": "stream",
     "text": [
      " 94%|█████████▍| 1001/1065 [08:08<00:32,  1.98it/s]"
     ]
    },
    {
     "name": "stdout",
     "output_type": "stream",
     "text": [
      "Epoch 11: 94%, loss: 2.437657\n"
     ]
    },
    {
     "name": "stderr",
     "output_type": "stream",
     "text": [
      "100%|██████████| 1065/1065 [08:41<00:00,  2.04it/s]"
     ]
    },
    {
     "name": "stdout",
     "output_type": "stream",
     "text": [
      "Epoch 11: 100%, loss: 2.418535\n"
     ]
    },
    {
     "name": "stderr",
     "output_type": "stream",
     "text": [
      "\n"
     ]
    },
    {
     "name": "stdout",
     "output_type": "stream",
     "text": [
      "                      (F1-score: 0.0457, Precision: 0.0454, Recall: 0.0533)\n",
      "\n",
      "                      (NDCG: 0.0431)\n",
      "\n",
      "                      (MAE: 3.9886)\n",
      "\n",
      "train_loss= tensor(2.8006)\n",
      "--------------------\n"
     ]
    },
    {
     "name": "stderr",
     "output_type": "stream",
     "text": [
      "100%|██████████| 133/133 [01:01<00:00,  2.18it/s]\n"
     ]
    },
    {
     "name": "stdout",
     "output_type": "stream",
     "text": [
      "                      (F1-score: 0.0398, Precision: 0.0409, Recall: 0.0447)\n",
      "\n",
      "                      (NDCG: 0.0389)\n",
      "\n",
      "                      (MAE: 3.9530)\n",
      "\n",
      "val_loss= tensor(2.8325)\n",
      "--------------------\n"
     ]
    },
    {
     "name": "stderr",
     "output_type": "stream",
     "text": [
      "100%|██████████| 133/133 [01:00<00:00,  2.19it/s]\n"
     ]
    },
    {
     "name": "stdout",
     "output_type": "stream",
     "text": [
      "                      (F1-score: 0.0489, Precision: 0.0486, Recall: 0.0562)\n",
      "\n",
      "                      (NDCG: 0.0461)\n",
      "\n",
      "                      (MAE: 3.8769)\n",
      "\n",
      "--------------------\n",
      "[[1, 0.02029609717472632, 0.018581949173363355, 0.018078442077664302, 0.01960581739930282, 3.8552631578947367, 3.172483205795288], [2, 0.009590029569436501, 0.00760657379133717, 0.007906975735404888, 0.008938333026616644, 3.9238721804511276, 2.9250130653381348], [3, 0.011967358626246843, 0.011143999066931393, 0.01089151645222206, 0.012903555974721405, 3.8092105263157894, 2.9684085845947266], [4, 0.021195197412356294, 0.018915970091327686, 0.01870228023713083, 0.023160792382160917, 3.8223684210526314, 2.873953342437744], [5, 0.040541936253517784, 0.027653987141562662, 0.030835359563487232, 0.032018667065076306, 4.582706766917293, 3.0609941482543945], [6, 0.05333958316388954, 0.04676110440016118, 0.046567730752848945, 0.04477785829248089, 3.8599624060150375, 2.8226137161254883], [7, 0.05520259108170555, 0.051936129469577146, 0.04995748211957907, 0.04690858875961512, 3.7988721804511276, 2.906280755996704], [8, 0.05600277973580372, 0.048132302235960746, 0.04855753573739102, 0.046325552507471716, 3.8656015037593985, 2.809469699859619], [9, 0.057230622127213936, 0.05187942965709248, 0.05077337167418554, 0.047070231352568624, 3.8392857142857144, 2.7783992290496826], [10, 0.05283215591612335, 0.05347535203079826, 0.04978469890003739, 0.04704430528051619, 3.7603383458646618, 2.8404598236083984], [11, 0.05619967443754462, 0.048559577836118265, 0.048881677243660784, 0.04608898158482787, 3.8768796992481205, 2.7589828968048096]]\n",
      "-----------------------------------------------------------------------------------------\n"
     ]
    },
    {
     "name": "stderr",
     "output_type": "stream",
     "text": [
      "  0%|          | 1/1065 [00:00<09:28,  1.87it/s]"
     ]
    },
    {
     "name": "stdout",
     "output_type": "stream",
     "text": [
      "Epoch 12: 0%, loss: 2.678365\n"
     ]
    },
    {
     "name": "stderr",
     "output_type": "stream",
     "text": [
      "  9%|▉         | 101/1065 [00:46<07:24,  2.17it/s]"
     ]
    },
    {
     "name": "stdout",
     "output_type": "stream",
     "text": [
      "Epoch 12: 9%, loss: 3.587909\n"
     ]
    },
    {
     "name": "stderr",
     "output_type": "stream",
     "text": [
      " 19%|█▉        | 201/1065 [01:33<06:47,  2.12it/s]"
     ]
    },
    {
     "name": "stdout",
     "output_type": "stream",
     "text": [
      "Epoch 12: 19%, loss: 0.355208\n"
     ]
    },
    {
     "name": "stderr",
     "output_type": "stream",
     "text": [
      " 28%|██▊       | 301/1065 [02:20<05:59,  2.13it/s]"
     ]
    },
    {
     "name": "stdout",
     "output_type": "stream",
     "text": [
      "Epoch 12: 28%, loss: 1.067073\n"
     ]
    },
    {
     "name": "stderr",
     "output_type": "stream",
     "text": [
      " 38%|███▊      | 401/1065 [03:08<05:21,  2.06it/s]"
     ]
    },
    {
     "name": "stdout",
     "output_type": "stream",
     "text": [
      "Epoch 12: 38%, loss: 0.708505\n"
     ]
    },
    {
     "name": "stderr",
     "output_type": "stream",
     "text": [
      " 47%|████▋     | 501/1065 [03:57<04:37,  2.03it/s]"
     ]
    },
    {
     "name": "stdout",
     "output_type": "stream",
     "text": [
      "Epoch 12: 47%, loss: 1.232413\n"
     ]
    },
    {
     "name": "stderr",
     "output_type": "stream",
     "text": [
      " 56%|█████▋    | 601/1065 [04:46<03:50,  2.02it/s]"
     ]
    },
    {
     "name": "stdout",
     "output_type": "stream",
     "text": [
      "Epoch 12: 56%, loss: 0.940466\n"
     ]
    },
    {
     "name": "stderr",
     "output_type": "stream",
     "text": [
      " 66%|██████▌   | 701/1065 [05:36<03:06,  1.96it/s]"
     ]
    },
    {
     "name": "stdout",
     "output_type": "stream",
     "text": [
      "Epoch 12: 66%, loss: 5.550719\n"
     ]
    },
    {
     "name": "stderr",
     "output_type": "stream",
     "text": [
      " 75%|███████▌  | 801/1065 [06:27<02:13,  1.98it/s]"
     ]
    },
    {
     "name": "stdout",
     "output_type": "stream",
     "text": [
      "Epoch 12: 75%, loss: 2.803089\n"
     ]
    },
    {
     "name": "stderr",
     "output_type": "stream",
     "text": [
      " 85%|████████▍ | 901/1065 [07:18<01:24,  1.95it/s]"
     ]
    },
    {
     "name": "stdout",
     "output_type": "stream",
     "text": [
      "Epoch 12: 85%, loss: 0.895850\n"
     ]
    },
    {
     "name": "stderr",
     "output_type": "stream",
     "text": [
      " 94%|█████████▍| 1001/1065 [08:10<00:35,  1.82it/s]"
     ]
    },
    {
     "name": "stdout",
     "output_type": "stream",
     "text": [
      "Epoch 12: 94%, loss: 1.828848\n"
     ]
    },
    {
     "name": "stderr",
     "output_type": "stream",
     "text": [
      "100%|██████████| 1065/1065 [08:43<00:00,  2.03it/s]"
     ]
    },
    {
     "name": "stdout",
     "output_type": "stream",
     "text": [
      "Epoch 12: 100%, loss: 1.623730\n"
     ]
    },
    {
     "name": "stderr",
     "output_type": "stream",
     "text": [
      "\n"
     ]
    },
    {
     "name": "stdout",
     "output_type": "stream",
     "text": [
      "                      (F1-score: 0.0454, Precision: 0.0454, Recall: 0.0525)\n",
      "\n",
      "                      (NDCG: 0.0427)\n",
      "\n",
      "                      (MAE: 3.9851)\n",
      "\n",
      "train_loss= tensor(2.7753)\n",
      "--------------------\n"
     ]
    },
    {
     "name": "stderr",
     "output_type": "stream",
     "text": [
      "100%|██████████| 133/133 [01:02<00:00,  2.12it/s]\n"
     ]
    },
    {
     "name": "stdout",
     "output_type": "stream",
     "text": [
      "                      (F1-score: 0.0408, Precision: 0.0424, Recall: 0.0451)\n",
      "\n",
      "                      (NDCG: 0.0397)\n",
      "\n",
      "                      (MAE: 3.9521)\n",
      "\n",
      "val_loss= tensor(2.8745)\n",
      "--------------------\n"
     ]
    },
    {
     "name": "stderr",
     "output_type": "stream",
     "text": [
      "100%|██████████| 133/133 [01:01<00:00,  2.17it/s]\n"
     ]
    },
    {
     "name": "stdout",
     "output_type": "stream",
     "text": [
      "                      (F1-score: 0.0513, Precision: 0.0510, Recall: 0.0590)\n",
      "\n",
      "                      (NDCG: 0.0470)\n",
      "\n",
      "                      (MAE: 3.8712)\n",
      "\n",
      "--------------------\n",
      "[[1, 0.02029609717472632, 0.018581949173363355, 0.018078442077664302, 0.01960581739930282, 3.8552631578947367, 3.172483205795288], [2, 0.009590029569436501, 0.00760657379133717, 0.007906975735404888, 0.008938333026616644, 3.9238721804511276, 2.9250130653381348], [3, 0.011967358626246843, 0.011143999066931393, 0.01089151645222206, 0.012903555974721405, 3.8092105263157894, 2.9684085845947266], [4, 0.021195197412356294, 0.018915970091327686, 0.01870228023713083, 0.023160792382160917, 3.8223684210526314, 2.873953342437744], [5, 0.040541936253517784, 0.027653987141562662, 0.030835359563487232, 0.032018667065076306, 4.582706766917293, 3.0609941482543945], [6, 0.05333958316388954, 0.04676110440016118, 0.046567730752848945, 0.04477785829248089, 3.8599624060150375, 2.8226137161254883], [7, 0.05520259108170555, 0.051936129469577146, 0.04995748211957907, 0.04690858875961512, 3.7988721804511276, 2.906280755996704], [8, 0.05600277973580372, 0.048132302235960746, 0.04855753573739102, 0.046325552507471716, 3.8656015037593985, 2.809469699859619], [9, 0.057230622127213936, 0.05187942965709248, 0.05077337167418554, 0.047070231352568624, 3.8392857142857144, 2.7783992290496826], [10, 0.05283215591612335, 0.05347535203079826, 0.04978469890003739, 0.04704430528051619, 3.7603383458646618, 2.8404598236083984], [11, 0.05619967443754462, 0.048559577836118265, 0.048881677243660784, 0.04608898158482787, 3.8768796992481205, 2.7589828968048096], [12, 0.05903945693923916, 0.05096274189373869, 0.051319745111325456, 0.04695818555467811, 3.8712406015037595, 2.7676870822906494]]\n",
      "-----------------------------------------------------------------------------------------\n"
     ]
    },
    {
     "name": "stderr",
     "output_type": "stream",
     "text": [
      "  0%|          | 1/1065 [00:00<11:15,  1.58it/s]"
     ]
    },
    {
     "name": "stdout",
     "output_type": "stream",
     "text": [
      "Epoch 13: 0%, loss: 0.501918\n"
     ]
    },
    {
     "name": "stderr",
     "output_type": "stream",
     "text": [
      "  9%|▉         | 101/1065 [00:46<07:32,  2.13it/s]"
     ]
    },
    {
     "name": "stdout",
     "output_type": "stream",
     "text": [
      "Epoch 13: 9%, loss: 1.182139\n"
     ]
    },
    {
     "name": "stderr",
     "output_type": "stream",
     "text": [
      " 19%|█▉        | 201/1065 [01:34<06:46,  2.13it/s]"
     ]
    },
    {
     "name": "stdout",
     "output_type": "stream",
     "text": [
      "Epoch 13: 19%, loss: 1.018824\n"
     ]
    },
    {
     "name": "stderr",
     "output_type": "stream",
     "text": [
      " 28%|██▊       | 301/1065 [02:22<06:09,  2.07it/s]"
     ]
    },
    {
     "name": "stdout",
     "output_type": "stream",
     "text": [
      "Epoch 13: 28%, loss: 3.086582\n"
     ]
    },
    {
     "name": "stderr",
     "output_type": "stream",
     "text": [
      " 38%|███▊      | 401/1065 [03:10<05:17,  2.09it/s]"
     ]
    },
    {
     "name": "stdout",
     "output_type": "stream",
     "text": [
      "Epoch 13: 38%, loss: 0.934302\n"
     ]
    },
    {
     "name": "stderr",
     "output_type": "stream",
     "text": [
      " 47%|████▋     | 501/1065 [04:00<04:40,  2.01it/s]"
     ]
    },
    {
     "name": "stdout",
     "output_type": "stream",
     "text": [
      "Epoch 13: 47%, loss: 0.507993\n"
     ]
    },
    {
     "name": "stderr",
     "output_type": "stream",
     "text": [
      " 56%|█████▋    | 601/1065 [04:49<03:48,  2.03it/s]"
     ]
    },
    {
     "name": "stdout",
     "output_type": "stream",
     "text": [
      "Epoch 13: 56%, loss: 2.760075\n"
     ]
    },
    {
     "name": "stderr",
     "output_type": "stream",
     "text": [
      " 66%|██████▌   | 701/1065 [05:40<03:05,  1.96it/s]"
     ]
    },
    {
     "name": "stdout",
     "output_type": "stream",
     "text": [
      "Epoch 13: 66%, loss: 0.425718\n"
     ]
    },
    {
     "name": "stderr",
     "output_type": "stream",
     "text": [
      " 75%|███████▌  | 801/1065 [06:31<02:15,  1.94it/s]"
     ]
    },
    {
     "name": "stdout",
     "output_type": "stream",
     "text": [
      "Epoch 13: 75%, loss: 2.762150\n"
     ]
    },
    {
     "name": "stderr",
     "output_type": "stream",
     "text": [
      " 85%|████████▍ | 901/1065 [07:22<01:23,  1.98it/s]"
     ]
    },
    {
     "name": "stdout",
     "output_type": "stream",
     "text": [
      "Epoch 13: 85%, loss: 1.995942\n"
     ]
    },
    {
     "name": "stderr",
     "output_type": "stream",
     "text": [
      " 94%|█████████▍| 1001/1065 [08:13<00:32,  1.95it/s]"
     ]
    },
    {
     "name": "stdout",
     "output_type": "stream",
     "text": [
      "Epoch 13: 94%, loss: 2.464520\n"
     ]
    },
    {
     "name": "stderr",
     "output_type": "stream",
     "text": [
      "100%|██████████| 1065/1065 [08:47<00:00,  2.02it/s]"
     ]
    },
    {
     "name": "stdout",
     "output_type": "stream",
     "text": [
      "Epoch 13: 100%, loss: 4.924907\n"
     ]
    },
    {
     "name": "stderr",
     "output_type": "stream",
     "text": [
      "\n"
     ]
    },
    {
     "name": "stdout",
     "output_type": "stream",
     "text": [
      "                      (F1-score: 0.0457, Precision: 0.0451, Recall: 0.0534)\n",
      "\n",
      "                      (NDCG: 0.0429)\n",
      "\n",
      "                      (MAE: 3.9858)\n",
      "\n",
      "train_loss= tensor(2.7827)\n",
      "--------------------\n"
     ]
    },
    {
     "name": "stderr",
     "output_type": "stream",
     "text": [
      "100%|██████████| 133/133 [01:01<00:00,  2.17it/s]\n"
     ]
    },
    {
     "name": "stdout",
     "output_type": "stream",
     "text": [
      "                      (F1-score: 0.0410, Precision: 0.0361, Recall: 0.0556)\n",
      "\n",
      "                      (NDCG: 0.0369)\n",
      "\n",
      "                      (MAE: 5.0573)\n",
      "\n",
      "val_loss= tensor(3.3444)\n",
      "--------------------\n"
     ]
    },
    {
     "name": "stderr",
     "output_type": "stream",
     "text": [
      "100%|██████████| 133/133 [01:01<00:00,  2.18it/s]\n"
     ]
    },
    {
     "name": "stdout",
     "output_type": "stream",
     "text": [
      "                      (F1-score: 0.0482, Precision: 0.0414, Recall: 0.0676)\n",
      "\n",
      "                      (NDCG: 0.0416)\n",
      "\n",
      "                      (MAE: 5.1898)\n",
      "\n",
      "--------------------\n",
      "[[1, 0.02029609717472632, 0.018581949173363355, 0.018078442077664302, 0.01960581739930282, 3.8552631578947367, 3.172483205795288], [2, 0.009590029569436501, 0.00760657379133717, 0.007906975735404888, 0.008938333026616644, 3.9238721804511276, 2.9250130653381348], [3, 0.011967358626246843, 0.011143999066931393, 0.01089151645222206, 0.012903555974721405, 3.8092105263157894, 2.9684085845947266], [4, 0.021195197412356294, 0.018915970091327686, 0.01870228023713083, 0.023160792382160917, 3.8223684210526314, 2.873953342437744], [5, 0.040541936253517784, 0.027653987141562662, 0.030835359563487232, 0.032018667065076306, 4.582706766917293, 3.0609941482543945], [6, 0.05333958316388954, 0.04676110440016118, 0.046567730752848945, 0.04477785829248089, 3.8599624060150375, 2.8226137161254883], [7, 0.05520259108170555, 0.051936129469577146, 0.04995748211957907, 0.04690858875961512, 3.7988721804511276, 2.906280755996704], [8, 0.05600277973580372, 0.048132302235960746, 0.04855753573739102, 0.046325552507471716, 3.8656015037593985, 2.809469699859619], [9, 0.057230622127213936, 0.05187942965709248, 0.05077337167418554, 0.047070231352568624, 3.8392857142857144, 2.7783992290496826], [10, 0.05283215591612335, 0.05347535203079826, 0.04978469890003739, 0.04704430528051619, 3.7603383458646618, 2.8404598236083984], [11, 0.05619967443754462, 0.048559577836118265, 0.048881677243660784, 0.04608898158482787, 3.8768796992481205, 2.7589828968048096], [12, 0.05903945693923916, 0.05096274189373869, 0.051319745111325456, 0.04695818555467811, 3.8712406015037595, 2.7676870822906494], [13, 0.06764331329659697, 0.041373704926184446, 0.04816735215972501, 0.04164087003940731, 5.18984962406015, 3.4510347843170166]]\n",
      "-----------------------------------------------------------------------------------------\n"
     ]
    },
    {
     "name": "stderr",
     "output_type": "stream",
     "text": [
      "  0%|          | 1/1065 [00:00<11:47,  1.50it/s]"
     ]
    },
    {
     "name": "stdout",
     "output_type": "stream",
     "text": [
      "Epoch 14: 0%, loss: 1.398512\n"
     ]
    },
    {
     "name": "stderr",
     "output_type": "stream",
     "text": [
      "  9%|▉         | 101/1065 [00:46<07:26,  2.16it/s]"
     ]
    },
    {
     "name": "stdout",
     "output_type": "stream",
     "text": [
      "Epoch 14: 9%, loss: 1.262596\n"
     ]
    },
    {
     "name": "stderr",
     "output_type": "stream",
     "text": [
      " 19%|█▉        | 201/1065 [01:34<06:42,  2.14it/s]"
     ]
    },
    {
     "name": "stdout",
     "output_type": "stream",
     "text": [
      "Epoch 14: 19%, loss: 2.263037\n"
     ]
    },
    {
     "name": "stderr",
     "output_type": "stream",
     "text": [
      " 28%|██▊       | 301/1065 [02:21<06:06,  2.09it/s]"
     ]
    },
    {
     "name": "stdout",
     "output_type": "stream",
     "text": [
      "Epoch 14: 28%, loss: 1.959311\n"
     ]
    },
    {
     "name": "stderr",
     "output_type": "stream",
     "text": [
      " 38%|███▊      | 401/1065 [03:09<05:13,  2.12it/s]"
     ]
    },
    {
     "name": "stdout",
     "output_type": "stream",
     "text": [
      "Epoch 14: 38%, loss: 3.003339\n"
     ]
    },
    {
     "name": "stderr",
     "output_type": "stream",
     "text": [
      " 47%|████▋     | 501/1065 [03:58<04:34,  2.05it/s]"
     ]
    },
    {
     "name": "stdout",
     "output_type": "stream",
     "text": [
      "Epoch 14: 47%, loss: 2.289382\n"
     ]
    },
    {
     "name": "stderr",
     "output_type": "stream",
     "text": [
      " 56%|█████▋    | 601/1065 [04:48<03:49,  2.02it/s]"
     ]
    },
    {
     "name": "stdout",
     "output_type": "stream",
     "text": [
      "Epoch 14: 56%, loss: 0.963472\n"
     ]
    },
    {
     "name": "stderr",
     "output_type": "stream",
     "text": [
      " 66%|██████▌   | 701/1065 [05:39<03:03,  1.98it/s]"
     ]
    },
    {
     "name": "stdout",
     "output_type": "stream",
     "text": [
      "Epoch 14: 66%, loss: 0.632338\n"
     ]
    },
    {
     "name": "stderr",
     "output_type": "stream",
     "text": [
      " 75%|███████▌  | 801/1065 [06:30<02:13,  1.98it/s]"
     ]
    },
    {
     "name": "stdout",
     "output_type": "stream",
     "text": [
      "Epoch 14: 75%, loss: 1.745639\n"
     ]
    },
    {
     "name": "stderr",
     "output_type": "stream",
     "text": [
      " 85%|████████▍ | 901/1065 [07:21<01:21,  2.02it/s]"
     ]
    },
    {
     "name": "stdout",
     "output_type": "stream",
     "text": [
      "Epoch 14: 85%, loss: 1.706227\n"
     ]
    },
    {
     "name": "stderr",
     "output_type": "stream",
     "text": [
      " 94%|█████████▍| 1001/1065 [08:13<00:34,  1.86it/s]"
     ]
    },
    {
     "name": "stdout",
     "output_type": "stream",
     "text": [
      "Epoch 14: 94%, loss: 3.757135\n"
     ]
    },
    {
     "name": "stderr",
     "output_type": "stream",
     "text": [
      "100%|██████████| 1065/1065 [08:47<00:00,  2.02it/s]"
     ]
    },
    {
     "name": "stdout",
     "output_type": "stream",
     "text": [
      "Epoch 14: 100%, loss: 0.570643\n"
     ]
    },
    {
     "name": "stderr",
     "output_type": "stream",
     "text": [
      "\n"
     ]
    },
    {
     "name": "stdout",
     "output_type": "stream",
     "text": [
      "                      (F1-score: 0.0455, Precision: 0.0451, Recall: 0.0530)\n",
      "\n",
      "                      (NDCG: 0.0427)\n",
      "\n",
      "                      (MAE: 3.9854)\n",
      "\n",
      "train_loss= tensor(2.7781)\n",
      "--------------------\n"
     ]
    },
    {
     "name": "stderr",
     "output_type": "stream",
     "text": [
      "100%|██████████| 133/133 [01:01<00:00,  2.16it/s]\n"
     ]
    },
    {
     "name": "stdout",
     "output_type": "stream",
     "text": [
      "                      (F1-score: 0.0406, Precision: 0.0435, Recall: 0.0435)\n",
      "\n",
      "                      (NDCG: 0.0395)\n",
      "\n",
      "                      (MAE: 3.8947)\n",
      "\n",
      "val_loss= tensor(2.9696)\n",
      "--------------------\n"
     ]
    },
    {
     "name": "stderr",
     "output_type": "stream",
     "text": [
      "100%|██████████| 133/133 [01:01<00:00,  2.18it/s]\n"
     ]
    },
    {
     "name": "stdout",
     "output_type": "stream",
     "text": [
      "                      (F1-score: 0.0505, Precision: 0.0527, Recall: 0.0552)\n",
      "\n",
      "                      (NDCG: 0.0470)\n",
      "\n",
      "                      (MAE: 3.7707)\n",
      "\n",
      "--------------------\n",
      "[[1, 0.02029609717472632, 0.018581949173363355, 0.018078442077664302, 0.01960581739930282, 3.8552631578947367, 3.172483205795288], [2, 0.009590029569436501, 0.00760657379133717, 0.007906975735404888, 0.008938333026616644, 3.9238721804511276, 2.9250130653381348], [3, 0.011967358626246843, 0.011143999066931393, 0.01089151645222206, 0.012903555974721405, 3.8092105263157894, 2.9684085845947266], [4, 0.021195197412356294, 0.018915970091327686, 0.01870228023713083, 0.023160792382160917, 3.8223684210526314, 2.873953342437744], [5, 0.040541936253517784, 0.027653987141562662, 0.030835359563487232, 0.032018667065076306, 4.582706766917293, 3.0609941482543945], [6, 0.05333958316388954, 0.04676110440016118, 0.046567730752848945, 0.04477785829248089, 3.8599624060150375, 2.8226137161254883], [7, 0.05520259108170555, 0.051936129469577146, 0.04995748211957907, 0.04690858875961512, 3.7988721804511276, 2.906280755996704], [8, 0.05600277973580372, 0.048132302235960746, 0.04855753573739102, 0.046325552507471716, 3.8656015037593985, 2.809469699859619], [9, 0.057230622127213936, 0.05187942965709248, 0.05077337167418554, 0.047070231352568624, 3.8392857142857144, 2.7783992290496826], [10, 0.05283215591612335, 0.05347535203079826, 0.04978469890003739, 0.04704430528051619, 3.7603383458646618, 2.8404598236083984], [11, 0.05619967443754462, 0.048559577836118265, 0.048881677243660784, 0.04608898158482787, 3.8768796992481205, 2.7589828968048096], [12, 0.05903945693923916, 0.05096274189373869, 0.051319745111325456, 0.04695818555467811, 3.8712406015037595, 2.7676870822906494], [13, 0.06764331329659697, 0.041373704926184446, 0.04816735215972501, 0.04164087003940731, 5.18984962406015, 3.4510347843170166], [14, 0.05520855758947065, 0.05265417304468293, 0.05051751849760101, 0.047034694645133684, 3.7706766917293235, 2.846810817718506]]\n",
      "-----------------------------------------------------------------------------------------\n"
     ]
    },
    {
     "name": "stderr",
     "output_type": "stream",
     "text": [
      "  0%|          | 1/1065 [00:00<10:20,  1.72it/s]"
     ]
    },
    {
     "name": "stdout",
     "output_type": "stream",
     "text": [
      "Epoch 15: 0%, loss: 0.626616\n"
     ]
    },
    {
     "name": "stderr",
     "output_type": "stream",
     "text": [
      "  9%|▉         | 101/1065 [00:46<07:27,  2.15it/s]"
     ]
    },
    {
     "name": "stdout",
     "output_type": "stream",
     "text": [
      "Epoch 15: 9%, loss: 4.758007\n"
     ]
    },
    {
     "name": "stderr",
     "output_type": "stream",
     "text": [
      " 19%|█▉        | 201/1065 [01:33<06:44,  2.14it/s]"
     ]
    },
    {
     "name": "stdout",
     "output_type": "stream",
     "text": [
      "Epoch 15: 19%, loss: 6.043697\n"
     ]
    },
    {
     "name": "stderr",
     "output_type": "stream",
     "text": [
      " 28%|██▊       | 301/1065 [02:21<06:09,  2.07it/s]"
     ]
    },
    {
     "name": "stdout",
     "output_type": "stream",
     "text": [
      "Epoch 15: 28%, loss: 1.544505\n"
     ]
    },
    {
     "name": "stderr",
     "output_type": "stream",
     "text": [
      " 38%|███▊      | 401/1065 [03:09<05:24,  2.05it/s]"
     ]
    },
    {
     "name": "stdout",
     "output_type": "stream",
     "text": [
      "Epoch 15: 38%, loss: 3.489284\n"
     ]
    },
    {
     "name": "stderr",
     "output_type": "stream",
     "text": [
      " 47%|████▋     | 501/1065 [03:58<05:02,  1.87it/s]"
     ]
    },
    {
     "name": "stdout",
     "output_type": "stream",
     "text": [
      "Epoch 15: 47%, loss: 20.484608\n"
     ]
    },
    {
     "name": "stderr",
     "output_type": "stream",
     "text": [
      " 48%|████▊     | 513/1065 [04:04<04:22,  2.10it/s]"
     ]
    }
   ],
   "source": [
    "results = []\n",
    "\n",
    "for epoch in range(1, EPOCHS + 1):\n",
    "    train_loss = train_model()\n",
    "    print(\"train_loss=\", train_loss)\n",
    "    print(\"-\"*20)\n",
    "    val_loss = evaluate_model()\n",
    "    print(\"val_loss=\", val_loss)\n",
    "    print(\"-\"*20)\n",
    "    test_loss, recall_list, precision_list, f1_list, ndcg_list, mae_list = test_model()\n",
    "    print(\"-\"*20)\n",
    "    result = [epoch] + recall_list + precision_list + f1_list + ndcg_list + mae_list + [test_loss.item()]\n",
    "    results.append(result)\n",
    "    print(results)\n",
    "    print(\"-\"*89)\n",
    "    \n",
    "    collected = gc.collect()\n",
    "    torch.cuda.empty_cache()\n",
    "    \n",
    "record_df = pd.DataFrame(results, columns=[\"Epoch\", \"Recall\", \"Precision\", \"F1-score\", \"NDCG\", \"MAE\", \"Loss\"])\n",
    "\n",
    "result_folder = \"../result\"\n",
    "if not os.path.exists(result_folder):\n",
    "    os.mkdir(result_folder)\n",
    "record_df.to_csv(result_folder+f\"/{DATASET_NAME}_output_test.csv\", index=False)\n",
    "\n",
    "record_df\n"
   ]
  }
 ],
 "metadata": {
  "kernelspec": {
   "display_name": "Python 3 (ipykernel)",
   "language": "python",
   "name": "python3"
  },
  "language_info": {
   "codemirror_mode": {
    "name": "ipython",
    "version": 3
   },
   "file_extension": ".py",
   "mimetype": "text/x-python",
   "name": "python",
   "nbconvert_exporter": "python",
   "pygments_lexer": "ipython3",
   "version": "3.11.5"
  }
 },
 "nbformat": 4,
 "nbformat_minor": 5
}
