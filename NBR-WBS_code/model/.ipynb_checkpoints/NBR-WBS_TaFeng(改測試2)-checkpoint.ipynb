{
 "cells": [
  {
   "cell_type": "markdown",
   "id": "a246ddd9",
   "metadata": {},
   "source": [
    "# 下載套件"
   ]
  },
  {
   "cell_type": "code",
   "execution_count": 1,
   "id": "72209793",
   "metadata": {},
   "outputs": [],
   "source": [
    "import torch\n",
    "import torch.nn as nn\n",
    "from torch import nn, matmul, softmax\n",
    "from torch.nn.init import xavier_uniform_\n",
    "import torch.nn.functional as F\n",
    "import torch.nn.utils.rnn as rnn_utils\n",
    "from torch.autograd import Variable\n",
    "\n",
    "import numpy as np\n",
    "import pandas as pd\n",
    "import gensim\n",
    "from gensim.models import KeyedVectors\n",
    "import pickle\n",
    "import gzip \n",
    "import gc\n",
    "import random"
   ]
  },
  {
   "cell_type": "code",
   "execution_count": 2,
   "id": "e3db86c1",
   "metadata": {},
   "outputs": [],
   "source": [
    "from torch.utils.data import DataLoader, Dataset\n",
    "from torch.utils.data.dataset import random_split\n",
    "\n",
    "from tqdm import tqdm\n",
    "from collections import Counter\n",
    "\n",
    "import math"
   ]
  },
  {
   "cell_type": "markdown",
   "id": "d32d7025",
   "metadata": {},
   "source": [
    "# 參數設置"
   ]
  },
  {
   "cell_type": "code",
   "execution_count": 3,
   "id": "6da217e0",
   "metadata": {},
   "outputs": [],
   "source": [
    "# 超參數\n",
    "EPOCHS = 50\n",
    "LEARNING_RATE = 0.0001 #\n",
    "BATCH_SIZE = 8\n",
    "BETA = 0.5\n",
    "ALPHA = 0.03\n",
    "EMBEDDING_DIMENSION = 32                      # 嵌入維度\n",
    "MODEL_DIMENSION = EMBEDDING_DIMENSION         # 模型維度\n",
    "HIDDEN_DIMENSION = 128                       # NLP 隱藏層維度\n",
    "NUM_HEAD = 4\n",
    "NUM_LAYER = 4\n",
    "\n",
    "isI2V = 1        #1:使用Item2Vec     #0:不使用Item2Vec"
   ]
  },
  {
   "cell_type": "markdown",
   "id": "4283cbc8",
   "metadata": {},
   "source": [
    "# 匯入檔案\n",
    "- item2Vec_TaFeng.32d.model\n",
    "- TaFeng_user_cart_itemid_list.gz\n",
    "- Ta_feng_clean.csv"
   ]
  },
  {
   "cell_type": "code",
   "execution_count": 4,
   "id": "34630155",
   "metadata": {},
   "outputs": [
    {
     "data": {
      "text/plain": [
       "torch.Size([15764, 32])"
      ]
     },
     "execution_count": 4,
     "metadata": {},
     "output_type": "execute_result"
    }
   ],
   "source": [
    "# Load word2Vec pre_train model\n",
    "model_filename = f\"../preprocessing-data/item2vec_models/item2vec_TaFeng.{EMBEDDING_DIMENSION}d.model\"\n",
    "## TaFeng\n",
    "with open(model_filename, \"rb\") as fp:\n",
    "    model = pickle.load(fp)\n",
    "weights = torch.FloatTensor(model.wv.vectors)\n",
    "weights.shape"
   ]
  },
  {
   "cell_type": "code",
   "execution_count": 5,
   "id": "bbe80d00",
   "metadata": {
    "scrolled": true
   },
   "outputs": [
    {
     "data": {
      "text/plain": [
       "[(1113,\n",
       "  array([0., 1.]),\n",
       "  [[0, 1, 2], [3, 4, 5, 6, 7, 8], [9, 10, 11, 12, 13, 14, 15]],\n",
       "  [3, 6, 7]),\n",
       " (5241,\n",
       "  array([0.        , 0.70967742, 1.        ]),\n",
       "  [[16, 17, 18, 19, 20, 21],\n",
       "   [22, 23, 24, 25, 26, 27, 28, 29, 30, 31],\n",
       "   [32, 33, 34, 35, 36, 37, 38, 39, 40, 41, 42, 43, 44, 45, 46, 47],\n",
       "   [48, 49, 50, 51, 52]],\n",
       "  [6, 10, 16, 5])]"
      ]
     },
     "execution_count": 5,
     "metadata": {},
     "output_type": "execute_result"
    }
   ],
   "source": [
    "## TaFeng # TaFeng_user_cart_itemid_list # 用戶id, 購物籃時間差(不會使用到), 此用戶的購物籃串列(每個串列包含多筆項目)。\n",
    "with gzip.open(\"../preprocessing-data/TaFeng_user_cart_Itemid_list.gz\", \"rb\") as fp:\n",
    "    user_cart_itemid_list = pickle.load(fp)\n",
    "user_cart_itemid_list[:2]"
   ]
  },
  {
   "cell_type": "code",
   "execution_count": 6,
   "id": "361c43d7",
   "metadata": {},
   "outputs": [],
   "source": [
    "# Load TaFeng confidences_Matrix\n",
    "with gzip.open(\"../preprocessing-data/confidences/TaFeng_confidences_array.gz\", \"rb\") as fp:\n",
    "    TaFeng_confidences_array = pickle.load(fp)"
   ]
  },
  {
   "cell_type": "code",
   "execution_count": 7,
   "id": "b83d2fe8",
   "metadata": {},
   "outputs": [
    {
     "name": "stdout",
     "output_type": "stream",
     "text": [
      "72\n"
     ]
    },
    {
     "data": {
      "text/html": [
       "<div>\n",
       "<style scoped>\n",
       "    .dataframe tbody tr th:only-of-type {\n",
       "        vertical-align: middle;\n",
       "    }\n",
       "\n",
       "    .dataframe tbody tr th {\n",
       "        vertical-align: top;\n",
       "    }\n",
       "\n",
       "    .dataframe thead th {\n",
       "        text-align: right;\n",
       "    }\n",
       "</style>\n",
       "<table border=\"1\" class=\"dataframe\">\n",
       "  <thead>\n",
       "    <tr style=\"text-align: right;\">\n",
       "      <th></th>\n",
       "      <th>CUSTOMER_ID</th>\n",
       "      <th>PRODUCT_ID</th>\n",
       "      <th>TRANSACTION_DT</th>\n",
       "      <th>CART_ID</th>\n",
       "      <th>NEW_ITEM_ID</th>\n",
       "    </tr>\n",
       "  </thead>\n",
       "  <tbody>\n",
       "    <tr>\n",
       "      <th>0</th>\n",
       "      <td>1113</td>\n",
       "      <td>4902105011621</td>\n",
       "      <td>2000-11-26</td>\n",
       "      <td>0</td>\n",
       "      <td>0</td>\n",
       "    </tr>\n",
       "    <tr>\n",
       "      <th>1</th>\n",
       "      <td>1113</td>\n",
       "      <td>7616100830794</td>\n",
       "      <td>2000-11-26</td>\n",
       "      <td>0</td>\n",
       "      <td>1</td>\n",
       "    </tr>\n",
       "    <tr>\n",
       "      <th>2</th>\n",
       "      <td>1113</td>\n",
       "      <td>4710892632017</td>\n",
       "      <td>2000-11-26</td>\n",
       "      <td>0</td>\n",
       "      <td>2</td>\n",
       "    </tr>\n",
       "    <tr>\n",
       "      <th>3</th>\n",
       "      <td>1113</td>\n",
       "      <td>4710905340113</td>\n",
       "      <td>2000-11-27</td>\n",
       "      <td>1</td>\n",
       "      <td>3</td>\n",
       "    </tr>\n",
       "    <tr>\n",
       "      <th>4</th>\n",
       "      <td>1113</td>\n",
       "      <td>4717362901277</td>\n",
       "      <td>2000-11-27</td>\n",
       "      <td>1</td>\n",
       "      <td>4</td>\n",
       "    </tr>\n",
       "    <tr>\n",
       "      <th>...</th>\n",
       "      <td>...</td>\n",
       "      <td>...</td>\n",
       "      <td>...</td>\n",
       "      <td>...</td>\n",
       "      <td>...</td>\n",
       "    </tr>\n",
       "    <tr>\n",
       "      <th>533054</th>\n",
       "      <td>20002000</td>\n",
       "      <td>4710339772139</td>\n",
       "      <td>2001-01-20</td>\n",
       "      <td>62360</td>\n",
       "      <td>4546</td>\n",
       "    </tr>\n",
       "    <tr>\n",
       "      <th>533055</th>\n",
       "      <td>20002000</td>\n",
       "      <td>20513184</td>\n",
       "      <td>2001-01-20</td>\n",
       "      <td>62360</td>\n",
       "      <td>1351</td>\n",
       "    </tr>\n",
       "    <tr>\n",
       "      <th>533056</th>\n",
       "      <td>20002000</td>\n",
       "      <td>4714800731229</td>\n",
       "      <td>2001-01-20</td>\n",
       "      <td>62360</td>\n",
       "      <td>2946</td>\n",
       "    </tr>\n",
       "    <tr>\n",
       "      <th>533057</th>\n",
       "      <td>20002000</td>\n",
       "      <td>4714541091071</td>\n",
       "      <td>2001-01-20</td>\n",
       "      <td>62360</td>\n",
       "      <td>7382</td>\n",
       "    </tr>\n",
       "    <tr>\n",
       "      <th>533058</th>\n",
       "      <td>20002000</td>\n",
       "      <td>4710018008634</td>\n",
       "      <td>2001-01-20</td>\n",
       "      <td>62360</td>\n",
       "      <td>2629</td>\n",
       "    </tr>\n",
       "  </tbody>\n",
       "</table>\n",
       "<p>533059 rows × 5 columns</p>\n",
       "</div>"
      ],
      "text/plain": [
       "        CUSTOMER_ID     PRODUCT_ID TRANSACTION_DT  CART_ID  NEW_ITEM_ID\n",
       "0              1113  4902105011621     2000-11-26        0            0\n",
       "1              1113  7616100830794     2000-11-26        0            1\n",
       "2              1113  4710892632017     2000-11-26        0            2\n",
       "3              1113  4710905340113     2000-11-27        1            3\n",
       "4              1113  4717362901277     2000-11-27        1            4\n",
       "...             ...            ...            ...      ...          ...\n",
       "533054     20002000  4710339772139     2001-01-20    62360         4546\n",
       "533055     20002000       20513184     2001-01-20    62360         1351\n",
       "533056     20002000  4714800731229     2001-01-20    62360         2946\n",
       "533057     20002000  4714541091071     2001-01-20    62360         7382\n",
       "533058     20002000  4710018008634     2001-01-20    62360         2629\n",
       "\n",
       "[533059 rows x 5 columns]"
      ]
     },
     "execution_count": 7,
     "metadata": {},
     "output_type": "execute_result"
    }
   ],
   "source": [
    "# Ta Feng Dataset\n",
    "TaFeng = pd.read_csv(\"../cleaned_dataset/ta_feng_clean.csv\")\n",
    "\n",
    "# 最多購物籃數\n",
    "max_cart_count = TaFeng.groupby('CUSTOMER_ID')['CART_ID'].nunique().max()\n",
    "print(max_cart_count)\n",
    "\n",
    "TaFeng"
   ]
  },
  {
   "cell_type": "markdown",
   "id": "a0877d82",
   "metadata": {},
   "source": [
    "# 切分資料集\n",
    "- 分成輸入資料與標籤資料\n",
    "- 訓練集:驗證集:測試集 = 8:1:1"
   ]
  },
  {
   "cell_type": "code",
   "execution_count": 8,
   "id": "73e9cf41",
   "metadata": {},
   "outputs": [
    {
     "name": "stdout",
     "output_type": "stream",
     "text": [
      "8523\n",
      "1065\n",
      "1066\n"
     ]
    }
   ],
   "source": [
    "# 切分資料集\n",
    "train_set_size = int(len(user_cart_itemid_list) * 0.8)\n",
    "valid_set_size = int(len(user_cart_itemid_list) * 0.1)\n",
    "test_set_size = len(user_cart_itemid_list)-train_set_size-valid_set_size\n",
    "train_set, valid_set, test_set = random_split(user_cart_itemid_list, [train_set_size, valid_set_size, test_set_size])\n",
    "print(len(train_set))\n",
    "print(len(valid_set))\n",
    "print(len(test_set))"
   ]
  },
  {
   "cell_type": "code",
   "execution_count": 9,
   "id": "5edaa93d",
   "metadata": {},
   "outputs": [],
   "source": [
    "# #將切割好的資料集暫存起來\n",
    "\n",
    "# # 訓練集\n",
    "# filepath = \"../preprocessing-data/TaFeng_dataset/train_set.pkl\"\n",
    "# with open(filepath, \"wb\") as f:\n",
    "#     pickle.dump(train_set, f)\n",
    "# # 驗證集\n",
    "# filepath = \"../preprocessing-data/TaFeng_dataset/valid_set.pkl\"\n",
    "# with open(filepath, \"wb\") as f:\n",
    "#     pickle.dump(valid_set, f)\n",
    "# # 測試集\n",
    "# filepath = \"../preprocessing-data/TaFeng_dataset/test_set.pkl\"\n",
    "# with open(filepath, \"wb\") as f:\n",
    "#     pickle.dump(test_set, f)"
   ]
  },
  {
   "cell_type": "code",
   "execution_count": 10,
   "id": "b203d0c9",
   "metadata": {},
   "outputs": [],
   "source": [
    "# 讀取之前暫存的資料集\n",
    "\n",
    "# # 載入訓練、驗證、測試集\n",
    "# with open(\"../preprocessing-data/TaFeng_dataset/train_set.pkl\", \"rb\") as fp:\n",
    "#     train_set = pickle.load(fp)\n",
    "# with open(\"../preprocessing-data/TaFeng_dataset/valid_set.pkl\", \"rb\") as fp:\n",
    "#     valid_set = pickle.load(fp)\n",
    "# with open(\"../preprocessing-data/TaFeng_dataset/test_set.pkl\", \"rb\") as fp:\n",
    "#     test_set = pickle.load(fp)"
   ]
  },
  {
   "cell_type": "markdown",
   "id": "c9585447",
   "metadata": {},
   "source": [
    "# Batch"
   ]
  },
  {
   "cell_type": "code",
   "execution_count": 11,
   "id": "a209539b",
   "metadata": {
    "scrolled": true
   },
   "outputs": [
    {
     "data": {
      "text/plain": [
       "device(type='cuda')"
      ]
     },
     "execution_count": 11,
     "metadata": {},
     "output_type": "execute_result"
    }
   ],
   "source": [
    "device = torch.device(\"cuda\" if torch.cuda.is_available() else \"cpu\")\n",
    "device"
   ]
  },
  {
   "cell_type": "code",
   "execution_count": 12,
   "id": "b348e2b5",
   "metadata": {},
   "outputs": [],
   "source": [
    "# 定義資料轉換函數(於collate_batch函式中使用)\n",
    "item_index_pipeline = lambda x:[[model.wv.key_to_index[j] for j in i]for i in x] # 取得購物籃中，項目的索引值(只有使用Item2Vec時會需要)"
   ]
  },
  {
   "cell_type": "code",
   "execution_count": 13,
   "id": "92fb3dee",
   "metadata": {},
   "outputs": [],
   "source": [
    "class TensorDataset(Dataset):\n",
    "    # TensorDataset繼承Dataset, 重載__init__, __getitem__, __len__\n",
    "    # 實現將一組Tensor數據封裝成Tensor數據集\n",
    "    # 能夠通過index得到數據集的數據，能夠通過len，得到數據集大小\n",
    "    def __init__(self, data_tensor):\n",
    "        self.data_tensor = data_tensor\n",
    "    def __getitem__(self, index):\n",
    "        return self.data_tensor[index]\n",
    "    def __len__(self):\n",
    "        return len(self.data_tensor)\n",
    "\n",
    "def collate_batch(batch): # 輸出userID, input_list跟label(最後一個購物籃)\n",
    "    # 使用ID、時間差、訓練的購物籃項目、預測的購物籃項目\n",
    "    userID, input_list, label_list, input_size_list, label_size_list, offsets = [], [], [], [], [], [0]\n",
    "    for _user in batch:\n",
    "        userID.append(_user[0]) # userID\n",
    "        label_list.append(torch.tensor(_user[2][-1])) # 所有購物籃的項目ID串列中的最後一個購物籃項目ID\n",
    "        label_size_list.append(torch.tensor(_user[3][-1]))\n",
    "        \n",
    "        if isI2V == 0: # 不使用Item2Vec進行項目嵌入\n",
    "            train_list = _user[2][0:-1]\n",
    "        else: #　使用Item2Vec進行項目嵌入\n",
    "            train_list = item_index_pipeline(_user[2][0:-1])\n",
    "        input_size_list.append(_user[3][0:-1])\n",
    "        \n",
    "        input_list.append(train_list) # 所有購物籃的項目ID串列(除了最後一個購物籃)\n",
    "        offsets.append(len(train_list))\n",
    "    \n",
    "    return userID, input_list, label_list, input_size_list, label_size_list, offsets"
   ]
  },
  {
   "cell_type": "code",
   "execution_count": 14,
   "id": "f442f66a",
   "metadata": {},
   "outputs": [],
   "source": [
    "# 轉成 Dataset\n",
    "split_train_ = TensorDataset(train_set)\n",
    "split_valid_ = TensorDataset(valid_set)\n",
    "split_test_ = TensorDataset(test_set)"
   ]
  },
  {
   "cell_type": "code",
   "execution_count": 15,
   "id": "54fe7bc6",
   "metadata": {},
   "outputs": [],
   "source": [
    "# DataLoader \n",
    "train_dataloader = DataLoader(split_train_, batch_size=BATCH_SIZE, shuffle=True, collate_fn=collate_batch, drop_last=True)\n",
    "valid_dataloader = DataLoader(split_valid_, batch_size=BATCH_SIZE, shuffle=True, collate_fn=collate_batch, drop_last=True)\n",
    "test_dataloader = DataLoader(split_test_, batch_size=BATCH_SIZE, shuffle=True, collate_fn=collate_batch, drop_last=True)"
   ]
  },
  {
   "cell_type": "markdown",
   "id": "637657be",
   "metadata": {},
   "source": [
    "# Self-Attention"
   ]
  },
  {
   "cell_type": "code",
   "execution_count": 16,
   "id": "a96171ad",
   "metadata": {},
   "outputs": [],
   "source": [
    "# 使用nn.MultiheadAttention\n",
    "# 輸入一個用戶的一個購物籃，輸出購物籃嵌入\n",
    "class SelfAttention(nn.Module):\n",
    "    def __init__(self, embed_dim, model_dim): #項目向量維度，輸出模型的維度\n",
    "        super(SelfAttention, self).__init__()\n",
    "        self.embed_dim = embed_dim\n",
    "        self.model_dim = model_dim\n",
    "        \n",
    "        # 初始化Q, K, V 矩陣\n",
    "        self.query_matrix = nn.Linear(embed_dim, model_dim)\n",
    "        xavier_uniform_(self.query_matrix.weight)\n",
    "        self.key_matrix = nn.Linear(embed_dim, model_dim)\n",
    "        xavier_uniform_(self.key_matrix.weight)\n",
    "        self.value_matrix = nn.Linear(embed_dim, model_dim)\n",
    "        xavier_uniform_(self.value_matrix.weight)\n",
    "        self.multihead_attn = nn.MultiheadAttention(embed_dim, num_heads=1)\n",
    "        \n",
    "    def forward(self, inputs, attention_mask):\n",
    "        \n",
    "        # 輸入一個項目向量，透過三個可學習的參數矩陣，得到計算所需要的 q,k,v\n",
    "        q = self.query_matrix(inputs)\n",
    "        k = self.key_matrix(inputs)\n",
    "        v = self.value_matrix(inputs)\n",
    "        \n",
    "        attn_output, attn_output_weight = self.multihead_attn(q, k, v, key_padding_mask=attention_mask.transpose(0,1))\n",
    "        \n",
    "        output_mean = torch.tensor([[0 for _ in range(MODEL_DIMENSION)] for _ in range(len(attention_mask))], dtype=torch.float).to(device)\n",
    "        for i, cart in enumerate(attention_mask):\n",
    "            for j, mask in enumerate(cart):\n",
    "                if mask == False:\n",
    "                    output_mean[i] = attn_output[i][j] # 使用最後一個項目作為輸出\n",
    "        basket_embedding = output_mean\n",
    "        \n",
    "        return basket_embedding"
   ]
  },
  {
   "cell_type": "markdown",
   "id": "a3043def",
   "metadata": {},
   "source": [
    "   # Basket Size Encoder"
   ]
  },
  {
   "cell_type": "code",
   "execution_count": 17,
   "id": "3b8530b2",
   "metadata": {},
   "outputs": [],
   "source": [
    "class LinearTransformation(nn.Module):\n",
    "    def __init__(self, model_dim, input_dim:int=1):\n",
    "        super(LinearTransformation, self).__init__()\n",
    "        self.embed = torch.nn.Linear(input_dim, model_dim)\n",
    "        self.activate = nn.ReLU()\n",
    "        \n",
    "    def forward(self, inputs):\n",
    "        #print(inputs.type())\n",
    "        #output = torch.tensor([self.embed(basket_size) for basket_size in inputs], dtype=torch.float).to(device)\n",
    "         #print(output1)\n",
    "        #for basket_size in inputs:\n",
    "            #print(basket_size.type())\n",
    "            #basket_size = basket_size.to(torch.float)\n",
    "        output = torch.tensor([(self.embed(basket_size)).tolist() for basket_size in inputs], dtype=torch.float).to(device)\n",
    "        #print(output)\n",
    "        #print(output.type())\n",
    "        #output = self.embed(output1)\n",
    "        return self.activate(output)"
   ]
  },
  {
   "cell_type": "code",
   "execution_count": 18,
   "id": "f31a716d",
   "metadata": {},
   "outputs": [],
   "source": [
    "class SizeEmbedding(nn.Module):\n",
    "    def __init__(self, input_size, output_size):\n",
    "        super(SizeEmbedding, self).__init__()\n",
    "        self.lstm = torch.nn.LSTM(input_size, 16, 2)\n",
    "        self.hiddenlayer1 = torch.nn.Linear(72*16, 512)\n",
    "        self.hiddenlayer2 = torch.nn.Linear(512, 128)\n",
    "        self.embed = torch.nn.Linear(128, 32)\n",
    "        self.predict = torch.nn.Linear(32, 1)\n",
    "        self.relu = torch.nn.ReLU()\n",
    "        self.leakyrelu = torch.nn.LeakyReLU()\n",
    "    def forward(self, inputs):\n",
    "        #print(\"input\", inputs)\n",
    "        output, (h, c) = self.lstm(inputs)\n",
    "        output = self.leakyrelu(self.hiddenlayer1(output.view(72*16)))\n",
    "        output = self.leakyrelu(self.hiddenlayer2(output))\n",
    "        output = self.leakyrelu(self.embed(output))\n",
    "        output = self.relu(self.predict(output))\n",
    "        return output"
   ]
  },
  {
   "cell_type": "markdown",
   "id": "00cd99b7",
   "metadata": {},
   "source": [
    "# Transformer"
   ]
  },
  {
   "cell_type": "code",
   "execution_count": 19,
   "id": "bc0ed90c",
   "metadata": {},
   "outputs": [],
   "source": [
    "class PositionalEncoding(nn.Module):\n",
    "    def __init__(self, d_model:int, dropout, maxlen:int=500):\n",
    "        super(PositionalEncoding, self).__init__()\n",
    "        # den 是把10000^(2i/d_model)取log_e，前面加負號是求倒數\n",
    "        den = torch.exp(-torch.arange(0, d_model, 2) * math.log(10000) / d_model)\n",
    "        pos = torch.arange(0, maxlen).reshape(maxlen, 1)\n",
    "        pos_embedding = torch.zeros(maxlen, d_model)#.to(device)\n",
    "        pos_embedding[:, 0::2] = torch.sin(pos*den)\n",
    "        pos_embedding[:, 1::2] = torch.cos(pos*den)\n",
    "        \n",
    "        pos_embedding = pos_embedding.unsqueeze(0)\n",
    "        \n",
    "        self.dropout = nn.Dropout(dropout)\n",
    "        self.register_buffer(\"pos_embedding\", pos_embedding)\n",
    "        \n",
    "    def forward(self, token_embedding):\n",
    "        return self.dropout(token_embedding+ self.pos_embedding[:, :token_embedding.size(1), :])\n",
    "    \n",
    "class TransformerEncoder(nn.Module):\n",
    "    def __init__(self, d_model, num_heads=8, num_layers=6):\n",
    "        super(TransformerEncoder, self).__init__()\n",
    "        self.pe = PositionalEncoding(d_model=d_model, dropout=0.5, maxlen=max_cart_count*2)\n",
    "        # 創建 Transformer 模型\n",
    "        self.transformer = nn.TransformerEncoder(\n",
    "            nn.TransformerEncoderLayer(d_model=d_model, nhead=num_heads),\n",
    "            num_layers=num_layers\n",
    "        )\n",
    "    \n",
    "    def forward(self, baskets_embedding):\n",
    "        baskets_embedding_pe = self.pe(baskets_embedding)\n",
    "        \n",
    "        # 購物籃padding的遮罩\n",
    "        padding_mask = ~baskets_embedding.sum(dim=-1).ne(0).transpose(0,1)\n",
    "        \n",
    "        output = self.transformer(baskets_embedding_pe.to(torch.float32), src_key_padding_mask=padding_mask.to(torch.float32))\n",
    "        return output"
   ]
  },
  {
   "cell_type": "markdown",
   "id": "9cdd237c",
   "metadata": {},
   "source": [
    "# MLP層"
   ]
  },
  {
   "cell_type": "code",
   "execution_count": 20,
   "id": "e8fb5303",
   "metadata": {},
   "outputs": [],
   "source": [
    "class MLPLayer(nn.Module):\n",
    "    def __init__(self, embed_dim, hidden_dim, items_dim):\n",
    "        super(MLPLayer, self).__init__()\n",
    "        self.hidden = nn.Linear(embed_dim, hidden_dim) # 隱藏層\n",
    "        xavier_uniform_(self.hidden.weight)\n",
    "        self.norm = nn.BatchNorm1d(hidden_dim, momentum=0.03)\n",
    "        self.activate = nn.ReLU() # ?\n",
    "        self.output = nn.Linear(hidden_dim, items_dim) # 輸出層\n",
    "        \n",
    "    def forward(self, inputs):\n",
    "        y = self.activate(self.norm(self.hidden(inputs)))\n",
    "        return self.output(y)"
   ]
  },
  {
   "cell_type": "code",
   "execution_count": 21,
   "id": "b52aa95b",
   "metadata": {},
   "outputs": [],
   "source": [
    "class MLPLayerForSize(nn.Module):\n",
    "    def __init__(self, embed_dim, hidden_dim):\n",
    "        super(MLPLayerForSize, self).__init__()\n",
    "        self.hidden = nn.Linear(embed_dim, hidden_dim) #隱藏層\n",
    "        #xavier_uniform_(self.hidden.weight)\n",
    "        self.hidden2 = nn.Linear(hidden_dim, 512)\n",
    "        self.hidden3 = nn.Linear(512, 256)\n",
    "        self.hidden4 = nn.Linear(256, 32)\n",
    "        self.predict = nn.Linear(32, 1) # 輸出層\n",
    "        #self.norm = nn.BatchNorm1d(hidden_dim, momentum=0.03)\n",
    "        self.relu = nn.ReLU()\n",
    "        self.leakyrelu = nn.LeakyReLU()\n",
    "        \n",
    "    def forward(self, inputs):\n",
    "        output = self.leakyrelu(self.hidden(inputs))\n",
    "        output = self.leakyrelu(self.hidden2(output))\n",
    "        output = self.leakyrelu(self.hidden3(output))\n",
    "        output = self.leakyrelu(self.hidden4(output))\n",
    "        return self.relu(self.predict(output))\n",
    "        #k = self.activate(self.norm(self.hidden(inputs)))\n",
    "        #return self.activate(self.output(k))"
   ]
  },
  {
   "cell_type": "markdown",
   "id": "9afdd949",
   "metadata": {},
   "source": [
    "# 損失函數"
   ]
  },
  {
   "cell_type": "code",
   "execution_count": 22,
   "id": "9b8084b8",
   "metadata": {},
   "outputs": [],
   "source": [
    "# MSE\n",
    "def mean_square_error(prediction, target):\n",
    "#     targets = torch.tensor([target[0]], dtype=torch.float).to(device)\n",
    "#     print(\"target\", targets)\n",
    "#     loss = F.mse_loss(predictions, targets)\n",
    "#     return loss\n",
    "    loss_func = torch.nn.MSELoss()\n",
    "    predictions = prediction[0]\n",
    "    targets = torch.tensor([target[0]], dtype=torch.float).to(device)\n",
    "    loss = loss_func(predictions, targets)\n",
    "    for i in range(1,len(prediction)):\n",
    "        predictions = prediction[i]\n",
    "        targets = torch.tensor([target[i]], dtype=torch.float).to(device)\n",
    "        loss += loss_func(predictions, targets)\n",
    "    return loss"
   ]
  },
  {
   "cell_type": "code",
   "execution_count": 23,
   "id": "578a7e8b",
   "metadata": {},
   "outputs": [],
   "source": [
    "# cross_entropy_loss\n",
    "def cross_entropy_loss(predictions, targets):\n",
    "    # 創建稀疏張量的索引和值\n",
    "    indices = []\n",
    "    values = []\n",
    "    for i, t in enumerate(targets):\n",
    "        for v in t:\n",
    "            indices.append([i, v])\n",
    "            values.append(1)\n",
    "\n",
    "    # 創建稀疏張量\n",
    "    sparse_targets = torch.sparse_coo_tensor(indices=torch.tensor(indices).t(),\n",
    "                                             values=torch.tensor(values, dtype=torch.float16),\n",
    "                                             size=(len(targets), items_count), device=device)\n",
    "    sparse_targets = sparse_targets.to_dense()\n",
    "    \n",
    "    loss = F.binary_cross_entropy_with_logits(predictions, sparse_targets)\n",
    "    #print(\"entropy_size\", loss.size())\n",
    "    #print(\"entropy_loss\", loss)\n",
    "    return loss"
   ]
  },
  {
   "cell_type": "markdown",
   "id": "08aefe4a",
   "metadata": {},
   "source": [
    "# 評估指標"
   ]
  },
  {
   "cell_type": "code",
   "execution_count": 24,
   "id": "308ff8e9",
   "metadata": {},
   "outputs": [],
   "source": [
    "# def format_metric(result_dict):\n",
    "#     assert type(result_dict) == dict\n",
    "#     format_str = []\n",
    "#     metrics = np.unique([k.split('@')[0] for k in result_dict.keys()])\n",
    "#     topks = np.unique([int(k.split('@')[1]) for k in result_dict.keys()])\n",
    "#     for topk in np.sort(topks):\n",
    "#         for metric in np.sort(metrics):\n",
    "#             name = '{}@{}'.format(metric, topk)\n",
    "#             m = result_dict[name]           \n",
    "#             if type(m) is float or type(m) is float or type(m) is np.float32 or type(m) is np.float64:\n",
    "#                 format_str.append('{}: {:<.4f}'.format(name, m))\n",
    "#             elif type(m) is int or type(m) is int or type(m) is np.int32 or type(m) is np.int64:\n",
    "#                 format_str.append('{}: {}'.format(name, m))\n",
    "#     return ', '.join(format_str)"
   ]
  },
  {
   "cell_type": "code",
   "execution_count": 25,
   "id": "02891cdd",
   "metadata": {},
   "outputs": [],
   "source": [
    "def format_metric(result_dict):\n",
    "    assert type(result_dict) == dict\n",
    "    format_str = []\n",
    "    metrics = np.unique([k for k in result_dict.keys()])\n",
    "    #topks = np.unique([int(k.split('@')[1]) for k in result_dict.keys()])\n",
    "    #for topk in np.sort(topks):\n",
    "    for metric in np.sort(metrics):\n",
    "        name = '{}'.format(metric)\n",
    "        m = result_dict[name]\n",
    "        if type(m) is float or type(m) is float or type(m) is np.float32 or type(m) is np.float64:\n",
    "            format_str.append('{}: {:<.4f}'.format(name, m))\n",
    "        elif type(m) is int or type(m) is int or type(m) is np.int32 or type(m) is np.int64:\n",
    "            format_str.append('{}: {}'.format(name, m))\n",
    "    return ', '.join(format_str)"
   ]
  },
  {
   "cell_type": "markdown",
   "id": "b96a4cfe",
   "metadata": {},
   "source": [
    "## HR@K"
   ]
  },
  {
   "cell_type": "code",
   "execution_count": 26,
   "id": "ced1b599",
   "metadata": {},
   "outputs": [],
   "source": [
    "# def calculate_hr_at_k(predictions, labels_list, k_list):\n",
    "#     # 將預測機率矩陣轉換為 PyTorch 張量。\n",
    "#     predictions = torch.from_numpy(np.array(predictions, dtype=np.float32)).to(device)\n",
    "#     num_users = len(labels_list)\n",
    "#     evaluations = dict()\n",
    "#     for k in k_list:\n",
    "#         HR = []\n",
    "#         for i in range(num_users):\n",
    "#             # 將用戶 i 的真實標籤轉換為 PyTorch 張量。\n",
    "#             labels = torch.from_numpy(np.array(labels_list[i], dtype=np.int64)).to(device)\n",
    "#             # 計算用戶 i 在預測機率矩陣中機率最高的 K 個項目的索引。\n",
    "#             top_k_item_indices = torch.topk(predictions[i], k)[1]\n",
    "#             # 將用戶 i 在預測機率矩陣中機率最高的 K 個項目的索引和其真實標籤向量的交集，即為預測正確的項目數量。\n",
    "#             correct_num = torch.sum(torch.sum(torch.eq(top_k_item_indices, labels.unsqueeze(1)), dim=1))\n",
    "#             # 計算 HR。\n",
    "#             HR.append( correct_num.cpu()/len(labels) )\n",
    "#         # 計算 HR@K 分數。\n",
    "#         hr_at_k = np.mean(HR)\n",
    "#         key = '{}@{}'.format('HR',k)\n",
    "#         evaluations[key]=hr_at_k\n",
    "#     return evaluations"
   ]
  },
  {
   "cell_type": "markdown",
   "id": "fa92db9d",
   "metadata": {},
   "source": [
    "## F1-score"
   ]
  },
  {
   "cell_type": "code",
   "execution_count": 27,
   "id": "f7cca32b",
   "metadata": {},
   "outputs": [],
   "source": [
    "def calculate_f1_score_at_k(predictions, labels_list, k_list):\n",
    "    \"\"\"\n",
    "    計算 F1-score@K。\n",
    "\n",
    "    Args:\n",
    "        predictions: 二維的預測機率矩陣，大小為 [num_users, num_items]。\n",
    "        labels_list: 一個包含每個用戶真實標籤的列表，其中每個列表的大小不同。\n",
    "        k: 計算 F1-score@K 的 K 值。\n",
    "\n",
    "    Returns:\n",
    "        F1-score@K 分數。\n",
    "    \"\"\"\n",
    "    # 將預測機率矩陣轉換為 PyTorch 張量。\n",
    "    predictions = torch.from_numpy(np.array(predictions, dtype=np.float32))#.to('cuda')\n",
    "    num_users = len(labels_list)\n",
    "    f1_score_at_k_eval = dict()\n",
    "    \n",
    "    f1_score_sum = 0.0\n",
    "    for i in range(num_users):\n",
    "            # 將用戶 i 的真實標籤轉換為 PyTorch 張量。\n",
    "            labels = torch.from_numpy(np.array(labels_list[i], dtype=np.int64))#.to('cuda')\n",
    "            # 計算用戶 i 在預測機率矩陣中機率最高的 K 個項目的索引。\n",
    "            top_k_item_labels = torch.topk(predictions[i], k_list[i])[1]\n",
    "            # 計算用戶 i 的真實標籤和預測標籤的交集。 # TP\n",
    "            true_positives = torch.sum(torch.sum(torch.eq(top_k_item_labels, labels.unsqueeze(1)).to(torch.float32), dim=1)).item()\n",
    "            # 計算用戶 i 的真實標籤和預測標籤的並集。\n",
    "            predicted_positives = k_list[i] # TP+FP\n",
    "            actual_positives = len(labels) # TP+FN\n",
    "            if predicted_positives == 0:\n",
    "                precision = 0.0\n",
    "            else:\n",
    "                precision = true_positives / predicted_positives\n",
    "            if actual_positives == 0:\n",
    "                recall = 0.0\n",
    "            else:\n",
    "                recall = true_positives / actual_positives\n",
    "#                 print(\"true_positives=\", true_positives)\n",
    "#                 print(\"predicted_positives=\", predicted_positives)\n",
    "#                 print(\"actual_positives=\", actual_positives)\n",
    "#                 print(\"precision=\", precision)\n",
    "#                 print(\"recall=\", recall)\n",
    "            # 計算 F1-score。\n",
    "            if precision + recall == 0:\n",
    "                f1_score = 0.0\n",
    "            else:\n",
    "                f1_score = 2 * precision * recall / (precision + recall)\n",
    "            f1_score_sum += f1_score\n",
    "    # 計算平均 F1-score@K 分數。\n",
    "    f1_score_at_k = f1_score_sum / float(num_users)\n",
    "    key = '{}'.format('F1-score')\n",
    "    f1_score_at_k_eval[key]=f1_score_at_k\n",
    "        \n",
    "    return f1_score_at_k_eval"
   ]
  },
  {
   "cell_type": "code",
   "execution_count": 28,
   "id": "b303cb7e",
   "metadata": {},
   "outputs": [],
   "source": [
    "# def calculate_f1_score_at_k(predictions, labels_list, k):\n",
    "#     \"\"\"\n",
    "#     計算 F1-score@K。\n",
    "\n",
    "#     Args:\n",
    "#         predictions: 二維的預測機率矩陣，大小為 [num_users, num_items]。\n",
    "#         labels_list: 一個包含每個用戶真實標籤的列表，其中每個列表的大小不同。\n",
    "#         k: 計算 F1-score@K 的 K 值。\n",
    "\n",
    "#     Returns:\n",
    "#         F1-score@K 分數。\n",
    "#     \"\"\"\n",
    "#     # 將預測機率矩陣轉換為 PyTorch 張量。\n",
    "#     predictions = torch.from_numpy(np.array(predictions, dtype=np.float32))#.to('cuda')\n",
    "#     num_users = len(labels_list)\n",
    "#     f1_score_at_k_eval = dict()\n",
    "    \n",
    "\n",
    "#     f1_score_sum = 0.0\n",
    "#     for i in range(num_users):\n",
    "#             # 將用戶 i 的真實標籤轉換為 PyTorch 張量。\n",
    "#             labels = torch.from_numpy(np.array(labels_list[i], dtype=np.int64))#.to('cuda')\n",
    "#             # 計算用戶 i 在預測機率矩陣中機率最高的 K 個項目的索引。\n",
    "#             top_k_item_labels = torch.topk(predictions[i], k)[1]\n",
    "#             # 計算用戶 i 的真實標籤和預測標籤的交集。 # TP\n",
    "#             true_positives = torch.sum(torch.sum(torch.eq(top_k_item_labels, labels.unsqueeze(1)).to(torch.float32), dim=1)).item()\n",
    "#             # 計算用戶 i 的真實標籤和預測標籤的並集。\n",
    "#             predicted_positives = k # TP+FP\n",
    "#             actual_positives = len(labels) # TP+FN\n",
    "#             if actual_positives == 0:\n",
    "#                 precision = 0.0\n",
    "#                 recall = 0.0\n",
    "#             else:\n",
    "#                 precision = true_positives / predicted_positives\n",
    "#                 recall = true_positives / actual_positives\n",
    "#             # 計算 F1-score。\n",
    "#             if precision + recall == 0:\n",
    "#                 f1_score = 0.0\n",
    "#             else:\n",
    "#                 f1_score = 2 * precision * recall / (precision + recall)\n",
    "#             f1_score_sum += f1_score\n",
    "#     # 計算平均 F1-score@K 分數。\n",
    "#     f1_score_at_k = f1_score_sum / float(num_users)\n",
    "#     key = '{}'.format('F1-score')\n",
    "#     f1_score_at_k_eval[key]=f1_score_at_k\n",
    "        \n",
    "#     return f1_score_at_k_eval"
   ]
  },
  {
   "cell_type": "markdown",
   "id": "506ff404",
   "metadata": {},
   "source": [
    "## NDCG"
   ]
  },
  {
   "cell_type": "code",
   "execution_count": 29,
   "id": "4c566188",
   "metadata": {},
   "outputs": [],
   "source": [
    "# NDCG@K\n",
    "def calculate_ndcg_at_k(predictions, labels_list, k_list):\n",
    "    # 將預測機率矩陣轉換為 PyTorch 張量。\n",
    "    predictions = torch.from_numpy(np.array(predictions, dtype=np.float32))\n",
    "    num_users = len(labels_list)\n",
    "    ndcg_at_k_eval = dict()\n",
    "    \n",
    "    ndcg_sum = 0.0\n",
    "    for i in range(num_users):\n",
    "        # 將用戶 i 的真實標籤轉換為 PyTorch 張量。\n",
    "        labels = torch.from_numpy(np.array(labels_list[i], dtype=np.int64))\n",
    "        # 計算用戶 i 在預測機率矩陣中機率最高的 K 個項目的索引=標籤。\n",
    "        top_k_item_labels = torch.topk(predictions[i], k_list[i])[1]\n",
    "        # 計算 DCG@K。\n",
    "        dcg_at_k = torch.sum(torch.nan_to_num(torch.div(1.0, torch.log2(torch.arange(k_list[i], dtype=torch.float32) + 2))) * (torch.eq(top_k_item_labels, labels.unsqueeze(1)).to(torch.float32) ))  \n",
    "        # 計算 IDCG@K。\n",
    "        idcg_at_k = torch.sum(torch.nan_to_num(torch.div(1.0, torch.log2(torch.arange(min(k_list[i], len(labels)), dtype=torch.float32) + 2))))  \n",
    "        # 計算 NDCG@K。\n",
    "        if torch.eq(idcg_at_k, 0):\n",
    "            ndcg_at_k = idcg_at_k\n",
    "        else:\n",
    "            ndcg_at_k = dcg_at_k / idcg_at_k\n",
    "        ndcg_sum += ndcg_at_k.item()\n",
    "    # 計算平均 NDCG@K 分數。\n",
    "    ndcg_at_k = ndcg_sum / float(num_users)\n",
    "    key = '{}'.format('NDCG')\n",
    "    ndcg_at_k_eval[key]=ndcg_at_k\n",
    "        \n",
    "\n",
    "    return ndcg_at_k_eval"
   ]
  },
  {
   "cell_type": "code",
   "execution_count": 30,
   "id": "497b6367",
   "metadata": {},
   "outputs": [],
   "source": [
    "# # NDCG@K\n",
    "# def calculate_ndcg_at_k(predictions, labels_list, k):\n",
    "#     # 將預測機率矩陣轉換為 PyTorch 張量。\n",
    "#     predictions = torch.from_numpy(np.array(predictions, dtype=np.float32))\n",
    "#     num_users = len(labels_list)\n",
    "#     ndcg_at_k_eval = dict()\n",
    "    \n",
    "#     ndcg_sum = 0.0\n",
    "#     for i in range(num_users):\n",
    "#         # 將用戶 i 的真實標籤轉換為 PyTorch 張量。\n",
    "#         labels = torch.from_numpy(np.array(labels_list[i], dtype=np.int64))\n",
    "#         # 計算用戶 i 在預測機率矩陣中機率最高的 K 個項目的索引=標籤。\n",
    "#         top_k_item_labels = torch.topk(predictions[i], k)[1]\n",
    "#         # 計算 DCG@K。\n",
    "#         dcg_at_k = torch.sum(torch.div(1.0, torch.log2(torch.arange(k, dtype=torch.float32) + 2)) * (torch.eq(top_k_item_labels, labels.unsqueeze(1)).to(torch.float32) ))\n",
    "#         # 計算 IDCG@K。\n",
    "#         #idcg_at_k = torch.sum(torch.div(1.0, torch.log2(torch.arange(min(k, len(labels)), dtype=torch.float32) + 2)))\n",
    "#         idcg_at_k = torch.sum(torch.div(1.0, torch.log2(torch.arange(len(labels), dtype=torch.float32) + 2)))\n",
    "#         # 計算 NDCG@K。\n",
    "#         ndcg_at_k = dcg_at_k / idcg_at_k\n",
    "#         ndcg_sum += ndcg_at_k.item()\n",
    "#     # 計算平均 NDCG@K 分數。\n",
    "#     ndcg_at_k = ndcg_sum / float(num_users)\n",
    "#     key = '{}'.format('NDCG')\n",
    "#     ndcg_at_k_eval[key]=ndcg_at_k\n",
    "        \n",
    "\n",
    "#     return ndcg_at_k_eval"
   ]
  },
  {
   "cell_type": "code",
   "execution_count": 31,
   "id": "4b4fe7dc",
   "metadata": {},
   "outputs": [],
   "source": [
    "def calculate_mae(k_list, labels_list):\n",
    "    sum = 0\n",
    "    num_users = len(k_list)\n",
    "    mae_eval = dict()\n",
    "    for i in range(num_users):\n",
    "        sum += abs(k_list[i] - (labels_list[i]).item())\n",
    "    key = '{}'.format('MAE')\n",
    "    mae_eval[key] = sum / num_users\n",
    "    return mae_eval"
   ]
  },
  {
   "cell_type": "markdown",
   "id": "458759fa",
   "metadata": {},
   "source": [
    "## MPR"
   ]
  },
  {
   "cell_type": "code",
   "execution_count": 32,
   "id": "9160a9fa",
   "metadata": {},
   "outputs": [],
   "source": [
    "# #MRR\n",
    "# def calculate_MRR(predictions, labels_list):\n",
    "#     reciprocal_ranks = []\n",
    "#     # 將預測機率矩陣轉換為 numpy 數組。\n",
    "#     predictions = np.array(predictions, dtype=np.float32)\n",
    "#     # 預先排序預測結果（降序）\n",
    "#     sorted_predictions = np.argsort(predictions)[:,::-1]\n",
    "#     # 遍歷每個查詢的預測結果與目標結果\n",
    "#     for pred, targets in zip(sorted_predictions, labels_list):\n",
    "#         # 將目標結果轉換為集合\n",
    "#         target_set = set(targets.numpy())\n",
    "#         # 尋找目標的排名\n",
    "#         rank = next((i + 1 for i, p in enumerate(pred) if p in target_set), 0)\n",
    "#         # 計算倒數排名\n",
    "#         reciprocal_rank = 1 / rank if rank > 0 else 0\n",
    "#         reciprocal_ranks.append(reciprocal_rank)\n",
    "#     # 計算 MRR\n",
    "#     mrr_score = sum(reciprocal_ranks) / len(reciprocal_ranks)\n",
    "#     return mrr_score"
   ]
  },
  {
   "cell_type": "markdown",
   "id": "be5f7b84",
   "metadata": {},
   "source": [
    "## MAP"
   ]
  },
  {
   "cell_type": "code",
   "execution_count": 33,
   "id": "074334ff",
   "metadata": {},
   "outputs": [],
   "source": [
    "# #MAP\n",
    "# def calculate_MAP(predictions, labels_list):\n",
    "#     average_precisions = []\n",
    "#     # 將預測機率矩陣轉換為 numpy 數組。\n",
    "#     predictions = np.array(predictions, dtype=np.float32)\n",
    "#     # 預先排序預測結果（降序）\n",
    "#     sorted_predictions = np.argsort(predictions)[:,::-1]\n",
    "#     # 遍歷每個查詢的預測結果與目標結果\n",
    "#     for pred, targets in zip(sorted_predictions, labels_list):\n",
    "#         # 將目標結果轉換為集合\n",
    "#         target_set = set(targets.numpy())\n",
    "#         # 計算查詢的精確度\n",
    "#         precision = []\n",
    "#         hits = 0\n",
    "#         for i, p in enumerate(pred):\n",
    "#             if p in target_set:\n",
    "#                 hits += 1\n",
    "#                 precision.append(hits / (i + 1))\n",
    "#         # 計算平均精確度\n",
    "#         if precision:\n",
    "#             average_precision = sum(precision) / len(precision)\n",
    "#             average_precisions.append(average_precision)\n",
    "#     # 計算 MAP\n",
    "#     map_score = sum(average_precisions) / len(average_precisions)\n",
    "#     return map_score"
   ]
  },
  {
   "cell_type": "markdown",
   "id": "213301db",
   "metadata": {},
   "source": [
    "# 訓練&測試"
   ]
  },
  {
   "cell_type": "code",
   "execution_count": 34,
   "id": "5d503206",
   "metadata": {},
   "outputs": [],
   "source": [
    "# 訓練模型\n",
    "def train_model():\n",
    "    my_model.train()\n",
    "    loss_list = []\n",
    "    \n",
    "    for batch_idx, (userID, basket_input, basket_label, size_input, size_label, offsets) in enumerate(tqdm(train_dataloader)):\n",
    "        optimizer.zero_grad()\n",
    "        basket_output, size_output, indices = my_model(basket_input, size_input, offsets[1:])\n",
    "        # 計算損失\n",
    "        loss = ALPHA * mean_square_error(size_output, size_label) + (1-ALPHA) * cross_entropy_loss(basket_output , basket_label)\n",
    "        #loss = mean_square_error(size_output, size_label)\n",
    "        loss_list.append(loss.item())\n",
    "        loss.backward()\n",
    "        optimizer.step()\n",
    "\n",
    "        if (batch_idx%100 == 0) or (batch_idx == len(train_dataloader)-1) :\n",
    "            percentage = (100. * batch_idx/len(train_dataloader))\n",
    "            print(f'Epoch {epoch}: {percentage:.0f}% , Loss: {loss.item():.6f}')\n",
    "\n",
    "        with torch.no_grad():\n",
    "            basket_output = torch.from_numpy(np.array(basket_output.cpu(), dtype=np.float32))\n",
    "            size_output = np.round(np.squeeze(np.array([_.cpu() for _ in size_output], dtype=np.float32))).astype(int).tolist()\n",
    "            #size_output = np.round(np.squeeze(np.array(size_output.cpu(), dtype=np.float32))).astype(int).tolist()\n",
    "            #print(\"size_output\", size_output)\n",
    "            if batch_idx==0:\n",
    "                basket_outputs = basket_output\n",
    "                labels_list = basket_label\n",
    "                size_list = size_output\n",
    "                size_labels_list = size_label\n",
    "            else:\n",
    "                basket_outputs = torch.cat( (basket_outputs, basket_output ),-2 )\n",
    "                labels_list = labels_list + basket_label\n",
    "                size_list = size_list+size_output\n",
    "                size_labels_list = size_labels_list + size_label\n",
    "#     print(\"basket_outputs.size()\", basket_outputs.size())\n",
    "#     print(\"len(labels_list)\", len(labels_list))\n",
    "#     print(\"len(labels_list[0])\", len(labels_list[0]))\n",
    "#     print(\"size_list\", len(size_list))\n",
    "#     print(\"size\", size_list)\n",
    "    with torch.no_grad():\n",
    "#        print(\"size_list\", size_list)\n",
    "#         evaluations = calculate_hr_at_k(outputs, labels_list, [5,10,20,50])\n",
    "#         res_str = '(' + format_metric(evaluations) + ')'\n",
    "#         print(f\"                      {res_str}\\n\")\n",
    "\n",
    "        evaluations = calculate_f1_score_at_k(basket_outputs, labels_list, size_list) \n",
    "        res_str = '(' + format_metric(evaluations) + ')'\n",
    "        print(f\"                      {res_str}\\n\")\n",
    "\n",
    "        evaluations = calculate_ndcg_at_k(basket_outputs, labels_list, size_list) \n",
    "        res_str = '(' + format_metric(evaluations) + ')'\n",
    "        print(f\"                      {res_str}\\n\")\n",
    "        \n",
    "        evaluations = calculate_mae(size_list, size_labels_list)\n",
    "        res_str = '(' + format_metric(evaluations) + ')'\n",
    "        print(f\"                      {res_str}\\n\")\n",
    "        \n",
    "#         mrr_score = calculate_MRR( outputs, labels_list )\n",
    "#         print(f'MRR: {mrr_score}')\n",
    "#         map_score = calculate_MAP( outputs, labels_list )\n",
    "#         print(f'MAP: {map_score}')\n",
    "    #print(loss_list)\n",
    "    return torch.mean(torch.tensor(loss_list))"
   ]
  },
  {
   "cell_type": "code",
   "execution_count": 35,
   "id": "b0799869",
   "metadata": {},
   "outputs": [],
   "source": [
    "# 驗證模型\n",
    "def evaluate_model():\n",
    "    my_model.eval()\n",
    "    loss_list = []\n",
    "    \n",
    "    for batch_idx, (userID, basket_input, basket_label, size_input, size_label, offsets) in enumerate(tqdm(valid_dataloader)):\n",
    "        basket_output, size_output, indices = my_model(basket_input, size_input, offsets[1:])\n",
    "        # 計算損失\n",
    "        loss = ALPHA * mean_square_error(size_output, size_label) + (1-ALPHA) * cross_entropy_loss(basket_output , basket_label) \n",
    "        #loss = mean_square_error(size_output, size_label)\n",
    "        loss_list.append(loss.item())\n",
    "        with torch.no_grad():\n",
    "            basket_output = torch.from_numpy(np.array(basket_output.cpu(), dtype=np.float32))\n",
    "            size_output = np.round(np.squeeze(np.array([_.cpu() for _ in size_output], dtype=np.float32))).astype(int).tolist()\n",
    "            #size_output = np.round(np.squeeze(np.array(size_output.cpu(), dtype=np.float32))).astype(int).tolist()\n",
    "            if batch_idx==0:\n",
    "                basket_outputs = basket_output\n",
    "                labels_list = basket_label\n",
    "                size_list = size_output\n",
    "                size_labels_list = size_label\n",
    "            else:\n",
    "                basket_outputs = torch.cat( (basket_outputs, basket_output ),-2 )\n",
    "                labels_list = labels_list + basket_label\n",
    "                size_list = size_list+size_output\n",
    "                size_labels_list = size_labels_list + size_label\n",
    "\n",
    "    with torch.no_grad():\n",
    "#         evaluations = calculate_hr_at_k(outputs, labels_list, size_list)\n",
    "#         hr_5_rec = evaluations['HR@5']\n",
    "#         res_str = '(' + format_metric(evaluations) + ')'\n",
    "#         print(f\"                      {res_str}\\n\")\n",
    "\n",
    "        evaluations = calculate_f1_score_at_k(basket_outputs, labels_list, size_list)\n",
    "        res_str = '(' + format_metric(evaluations) + ')'\n",
    "        print(f\"                      {res_str}\\n\")\n",
    "\n",
    "        evaluations = calculate_ndcg_at_k(basket_outputs, labels_list, size_list) \n",
    "        res_str = '(' + format_metric(evaluations) + ')'\n",
    "        print(f\"                      {res_str}\\n\")\n",
    "        \n",
    "        evaluations = calculate_mae(size_list, size_labels_list)\n",
    "        res_str = '(' + format_metric(evaluations) + ')'\n",
    "        print(f\"                      {res_str}\\n\")\n",
    "        \n",
    "#         mrr_score = calculate_MRR( outputs, labels_list )\n",
    "#         print(f'MRR: {mrr_score}')\n",
    "#         map_score = calculate_MAP( outputs, labels_list )\n",
    "#         print(f'MAP: {map_score}')\n",
    "\n",
    "    return torch.mean(torch.tensor(loss_list))"
   ]
  },
  {
   "cell_type": "code",
   "execution_count": 36,
   "id": "5e8d7319",
   "metadata": {},
   "outputs": [],
   "source": [
    "# 測試模型\n",
    "def test_model():\n",
    "    my_model.eval()\n",
    "    loss_list = []\n",
    "    \n",
    "    for batch_idx, (userID, basket_input, basket_label, size_input, size_label, offsets) in enumerate(tqdm(test_dataloader)):\n",
    "        basket_output, size_output, indices = my_model(basket_input, size_input, offsets[1:])\n",
    "        # 計算損失\n",
    "        loss = ALPHA * mean_square_error(size_output, size_label) + (1-ALPHA) * cross_entropy_loss(basket_output , basket_label)\n",
    "        loss_list.append(loss.item())\n",
    "        with torch.no_grad():\n",
    "            basket_output = torch.from_numpy(np.array(basket_output.cpu(), dtype=np.float32))\n",
    "            size_output = np.round(np.squeeze(np.array([_.cpu() for _ in size_output], dtype=np.float32))).astype(int).tolist()\n",
    "            #size_output = np.round(np.squeeze(np.array(size_output.cpu(), dtype=np.float32))).astype(int).tolist()\n",
    "            if batch_idx==0:\n",
    "                basket_outputs = basket_output\n",
    "                labels_list = basket_label\n",
    "                size_list = size_output\n",
    "                size_labels_list = size_label\n",
    "            else:\n",
    "                basket_outputs = torch.cat( (basket_outputs, basket_output ),-2 )\n",
    "                labels_list = labels_list + basket_label\n",
    "                size_list = size_list+size_output\n",
    "                size_labels_list = size_labels_list + size_label\n",
    "\n",
    "    with torch.no_grad():\n",
    "#         hr_evaluations = calculate_hr_at_k(outputs, labels_list, [5,10,20,50])\n",
    "#         hr_5_rec = hr_evaluations['HR@5']\n",
    "#         hr_10_rec = hr_evaluations['HR@10']\n",
    "#         hr_20_rec = hr_evaluations['HR@20']\n",
    "#         hr_50_rec = hr_evaluations['HR@50']\n",
    "#         hr_list = [hr_5_rec, hr_10_rec, hr_20_rec, hr_50_rec]\n",
    "#         res_str = '(' + format_metric(hr_evaluations) + ')'\n",
    "#         print(f\"                      {res_str}\\n\")\n",
    "\n",
    "        f1_evaluations = calculate_f1_score_at_k(basket_outputs, labels_list, size_list) \n",
    "#         f1_5_rec = f1_evaluations['F1-score@5']\n",
    "#         f1_10_rec = f1_evaluations['F1-score@10']\n",
    "#         f1_20_rec = f1_evaluations['F1-score@20']\n",
    "#         f1_50_rec = f1_evaluations['F1-score@50']\n",
    "        f1_list = [f1_evaluations]\n",
    "        res_str = '(' + format_metric(f1_evaluations) + ')'\n",
    "        print(f\"                      {res_str}\\n\")\n",
    "\n",
    "        ndcg_evaluations = calculate_ndcg_at_k(basket_outputs, labels_list, size_list)\n",
    "#         ndcg_5_rec = ndcg_evaluations['NDCG@5']\n",
    "#         ndcg_10_rec = ndcg_evaluations['NDCG@10']\n",
    "#         ndcg_20_rec = ndcg_evaluations['NDCG@20']\n",
    "#         ndcg_50_rec = ndcg_evaluations['NDCG@50']\n",
    "        ndcg_list = [ndcg_evaluations]\n",
    "        res_str = '(' + format_metric(ndcg_evaluations) + ')'\n",
    "        print(f\"                      {res_str}\\n\")\n",
    "        \n",
    "        mae_evaluations = calculate_mae(size_list, size_labels_list)\n",
    "        mae_list = [mae_evaluations]\n",
    "        res_str = '(' + format_metric(mae_evaluations) + ')'\n",
    "        print(f\"                      {res_str}\\n\")\n",
    "        \n",
    "#         mrr_score = calculate_MRR( outputs, labels_list )\n",
    "#         print(f'MRR: {mrr_score}')\n",
    "#         map_score = calculate_MAP( outputs, labels_list )\n",
    "#         print(f'MAP: {map_score}')\n",
    "\n",
    "    return torch.mean(torch.tensor(loss_list)),f1_list,ndcg_list, mae_list\n",
    "#    return torch.mean(torch.tensor(loss_list)),hr_5_rec,hr_list,f1_list,ndcg_list, mrr_score, map_score"
   ]
  },
  {
   "cell_type": "markdown",
   "id": "1abc8fbc",
   "metadata": {},
   "source": [
    "# 完整模型"
   ]
  },
  {
   "cell_type": "code",
   "execution_count": 37,
   "id": "5ad81bac",
   "metadata": {},
   "outputs": [
    {
     "name": "stdout",
     "output_type": "stream",
     "text": [
      "items_count= 15764\n",
      "tensor([1.7128e-03, 1.1418e-03, 2.4169e-02,  ..., 6.3436e-05, 6.3436e-05,\n",
      "        6.3436e-05], device='cuda:0', dtype=torch.float64)\n"
     ]
    }
   ],
   "source": [
    "# 項目總數\n",
    "items_count = TaFeng_confidences_array.shape[0]\n",
    "print(\"items_count=\",items_count)\n",
    "# 項目出現次數\n",
    "items_frq = Counter(TaFeng[\"NEW_ITEM_ID\"])\n",
    "# 計算每個項目出現的比例: items_frq/items_count\n",
    "item_weight = torch.tensor( np.array( list(items_frq.values()) )/items_count ).to(device)\n",
    "print(item_weight) # 按照new_item_id順序排列"
   ]
  },
  {
   "cell_type": "markdown",
   "id": "975d9e58",
   "metadata": {},
   "source": [
    "## 加上信賴度矩陣"
   ]
  },
  {
   "cell_type": "code",
   "execution_count": 38,
   "id": "5d571c57",
   "metadata": {},
   "outputs": [
    {
     "data": {
      "text/plain": [
       "tensor([[0.0000, 0.0370, 0.0370,  ..., 0.0000, 0.0000, 0.0000],\n",
       "        [0.0556, 0.0000, 0.0556,  ..., 0.0000, 0.0000, 0.0000],\n",
       "        [0.0026, 0.0026, 0.0000,  ..., 0.0000, 0.0000, 0.0000],\n",
       "        ...,\n",
       "        [0.0000, 0.0000, 0.0000,  ..., 0.0000, 0.0000, 0.0000],\n",
       "        [0.0000, 0.0000, 0.0000,  ..., 0.0000, 0.0000, 0.0000],\n",
       "        [0.0000, 0.0000, 0.0000,  ..., 0.0000, 0.0000, 0.0000]],\n",
       "       device='cuda:0', dtype=torch.float64)"
      ]
     },
     "execution_count": 38,
     "metadata": {},
     "output_type": "execute_result"
    }
   ],
   "source": [
    "# 信賴度矩陣\n",
    "confidences_array = torch.tensor(TaFeng_confidences_array,dtype=torch.float64).to(device)\n",
    "confidences_array"
   ]
  },
  {
   "cell_type": "code",
   "execution_count": 39,
   "id": "926dfc91",
   "metadata": {},
   "outputs": [],
   "source": [
    "def Interleave(tensor1, tensor2):\n",
    "    result = torch.stack((tensor1, tensor2), dim=1)\n",
    "    Interleave_tensor = torch.reshape(result, (-1, MODEL_DIMENSION))\n",
    "    #print(\"test3\", Interleave_tensor)\n",
    "    #print(Interleave_tensor.device)\n",
    "    return (Interleave_tensor)"
   ]
  },
  {
   "cell_type": "code",
   "execution_count": 40,
   "id": "b00066a0",
   "metadata": {},
   "outputs": [],
   "source": [
    "class MyModel01(nn.Module):\n",
    "    def __init__(self, embed_dim, model_dim, hidden_dim, items_count):\n",
    "        super(MyModel01, self).__init__()\n",
    "        self.model_dim = model_dim\n",
    "        self.embedding = nn.Embedding.from_pretrained(weights, freeze=False)\n",
    "        self.embedding.requires_grad = True\n",
    "        self.attn = SelfAttention(embed_dim=embed_dim ,model_dim=model_dim)\n",
    "        self.linear_transform = LinearTransformation(model_dim = model_dim)\n",
    "        self.size_embed = SizeEmbedding(1, 1)\n",
    "        self.model_encoder = TransformerEncoder(d_model=model_dim , num_heads=NUM_HEAD, num_layers=NUM_LAYER)\n",
    "        self.mlp = MLPLayer(model_dim, hidden_dim, items_count ) # 嵌入維度、隱藏層維度、總項目數量\n",
    "        self.sizemlp = MLPLayerForSize(model_dim, hidden_dim)\n",
    "        self.relu = nn.ReLU()\n",
    "\n",
    "        \n",
    "    def forward(self, basket_input, size_input ,lengths):\n",
    "        \n",
    "        inputs, attention_mask = [], []\n",
    "        output_list = []\n",
    "        # size_embedding\n",
    "        tmp_tensor = torch.zeros(max_cart_count)\n",
    "        #print(\"before\", size_input)\n",
    "        sizes_input = [torch.tensor(size).to(device) for size in size_input]\n",
    "        size_list = list()\n",
    "        size_list.append(tmp_tensor)\n",
    "        for ele in sizes_input:\n",
    "            size_list.append(ele)\n",
    "        sizes_input = rnn_utils.pad_sequence(size_list, batch_first=True, padding_value=0)[1:]\n",
    "        for i,user_inputs in enumerate(size_input):\n",
    "            output = self.size_embed(torch.tensor([[float(_)] for _ in sizes_input[i]]).to(device))\n",
    "            #print(user_inputs)\n",
    "            #output = self.size_embed(torch.as_tensor(user_inputs).to(device)) 1D\n",
    "            output_list.append(output)   \n",
    "\n",
    "        # 為每個用戶的購物籃加上 padding跟 mask\n",
    "        for user in basket_input:\n",
    "            # 將購物籃項目 ID 轉換為嵌入向量\n",
    "            batch_features = [ self.embedding(torch.tensor(cart).to(device)) for cart in user ]\n",
    "            # 進行 padding\n",
    "            #print(\"obatch_size\", batch_features)\n",
    "            batch_features = rnn_utils.pad_sequence(batch_features, batch_first=True, padding_value=0)\n",
    "            # 購物籃中項目的遮罩\n",
    "            mask = ~batch_features.sum(dim=-1).ne(0)\n",
    "            #print(\"batch_size\", batch_features.size())\n",
    "            inputs.append(batch_features)\n",
    "            attention_mask.append(mask)\n",
    "\n",
    "            \n",
    "        # 進入自注意力，輸出形狀為 (BATCH_SIZE, basket_size, embed_dim)\n",
    "        basket_embedding_list = []\n",
    "        for i,user_inputs in enumerate(inputs):\n",
    "            test = self.attn(user_inputs,attention_mask[i])\n",
    "            #basket_embedding_list.append(test)\n",
    "            #print(\"test_size\", test.size())\n",
    "            #print(\"test\", test)\n",
    "            \n",
    "            ## test2 = self.linear_transform(torch.tensor([[float(_)] for _ in size_input[i]]).to(device))\n",
    "            ## basket_embedding = Interleave(test, test2)\n",
    "            ## basket_embedding_list.append(basket_embedding)\n",
    "            #size_embedding_list.append(test2)\n",
    "            #print(\"test\", test.size())\n",
    "            #print(\"test2\", test2.size())\n",
    "            #print(\"test3\", basket_embedding.size())\n",
    "            basket_embedding_list.append(test)\n",
    "            #print(\"test2_size\", test2.size())\n",
    "            #bs_encoder = self.linear_transform()\n",
    "            #basket_embedding_list.append(self.attn(user_inputs,attention_mask[i]))\n",
    "            \n",
    "        \n",
    "        \n",
    "        # 進行購物籃的 padding\n",
    "        input_seq = rnn_utils.pad_sequence(basket_embedding_list, batch_first=True, padding_value=0)\n",
    "        #print(input_seq.size())\n",
    "        \n",
    "        \n",
    "        \n",
    "        # 進入Transformer\n",
    "        basket_embed = self.model_encoder(input_seq.to(device))\n",
    "        \n",
    "        B_s_list = []\n",
    "        for i, b in enumerate(basket_embed):\n",
    "            basket_size = len(attention_mask[i])\n",
    "            B_s = b[basket_size-1]  # 取得最後一個購物籃向量\n",
    "            B_s_list.append(B_s)\n",
    "            \n",
    "        # SIZE_MLP\n",
    "        ## k = self.sizemlp(torch.stack(B_s_list, dim=0))\n",
    "        #print(\"k\", k)\n",
    "        # 進入MLP層\n",
    "        p = self.mlp(torch.stack(B_s_list, dim=0))\n",
    "        pc = (self.relu(p.to(torch.float64))+1e-8) @ confidences_array\n",
    "        pw = torch.mul( p, item_weight )\n",
    "        p_ = torch.mul(BETA, torch.add(pc,pw)) + torch.mul(1-BETA, p.to(torch.float64))\n",
    "        y = p_\n",
    "        Y,indices = torch.topk(y, k=10)\n",
    "        return y, output_list, indices"
   ]
  },
  {
   "cell_type": "code",
   "execution_count": 41,
   "id": "88bf8d6f",
   "metadata": {},
   "outputs": [
    {
     "data": {
      "text/plain": [
       "MyModel01(\n",
       "  (embedding): Embedding(15764, 32)\n",
       "  (attn): SelfAttention(\n",
       "    (query_matrix): Linear(in_features=32, out_features=32, bias=True)\n",
       "    (key_matrix): Linear(in_features=32, out_features=32, bias=True)\n",
       "    (value_matrix): Linear(in_features=32, out_features=32, bias=True)\n",
       "    (multihead_attn): MultiheadAttention(\n",
       "      (out_proj): NonDynamicallyQuantizableLinear(in_features=32, out_features=32, bias=True)\n",
       "    )\n",
       "  )\n",
       "  (linear_transform): LinearTransformation(\n",
       "    (embed): Linear(in_features=1, out_features=32, bias=True)\n",
       "    (activate): ReLU()\n",
       "  )\n",
       "  (size_embed): SizeEmbedding(\n",
       "    (lstm): LSTM(1, 16, num_layers=2)\n",
       "    (hiddenlayer1): Linear(in_features=1152, out_features=512, bias=True)\n",
       "    (hiddenlayer2): Linear(in_features=512, out_features=128, bias=True)\n",
       "    (embed): Linear(in_features=128, out_features=32, bias=True)\n",
       "    (predict): Linear(in_features=32, out_features=1, bias=True)\n",
       "    (relu): ReLU()\n",
       "    (leakyrelu): LeakyReLU(negative_slope=0.01)\n",
       "  )\n",
       "  (model_encoder): TransformerEncoder(\n",
       "    (pe): PositionalEncoding(\n",
       "      (dropout): Dropout(p=0.5, inplace=False)\n",
       "    )\n",
       "    (transformer): TransformerEncoder(\n",
       "      (layers): ModuleList(\n",
       "        (0-3): 4 x TransformerEncoderLayer(\n",
       "          (self_attn): MultiheadAttention(\n",
       "            (out_proj): NonDynamicallyQuantizableLinear(in_features=32, out_features=32, bias=True)\n",
       "          )\n",
       "          (linear1): Linear(in_features=32, out_features=2048, bias=True)\n",
       "          (dropout): Dropout(p=0.1, inplace=False)\n",
       "          (linear2): Linear(in_features=2048, out_features=32, bias=True)\n",
       "          (norm1): LayerNorm((32,), eps=1e-05, elementwise_affine=True)\n",
       "          (norm2): LayerNorm((32,), eps=1e-05, elementwise_affine=True)\n",
       "          (dropout1): Dropout(p=0.1, inplace=False)\n",
       "          (dropout2): Dropout(p=0.1, inplace=False)\n",
       "        )\n",
       "      )\n",
       "    )\n",
       "  )\n",
       "  (mlp): MLPLayer(\n",
       "    (hidden): Linear(in_features=32, out_features=128, bias=True)\n",
       "    (norm): BatchNorm1d(128, eps=1e-05, momentum=0.03, affine=True, track_running_stats=True)\n",
       "    (activate): ReLU()\n",
       "    (output): Linear(in_features=128, out_features=15764, bias=True)\n",
       "  )\n",
       "  (sizemlp): MLPLayerForSize(\n",
       "    (hidden): Linear(in_features=32, out_features=128, bias=True)\n",
       "    (hidden2): Linear(in_features=128, out_features=512, bias=True)\n",
       "    (hidden3): Linear(in_features=512, out_features=256, bias=True)\n",
       "    (hidden4): Linear(in_features=256, out_features=32, bias=True)\n",
       "    (predict): Linear(in_features=32, out_features=1, bias=True)\n",
       "    (relu): ReLU()\n",
       "    (leakyrelu): LeakyReLU(negative_slope=0.01)\n",
       "  )\n",
       "  (relu): ReLU()\n",
       ")"
      ]
     },
     "execution_count": 41,
     "metadata": {},
     "output_type": "execute_result"
    }
   ],
   "source": [
    "my_model = MyModel01(embed_dim=EMBEDDING_DIMENSION, model_dim=MODEL_DIMENSION,  hidden_dim=HIDDEN_DIMENSION,  items_count=items_count ).to(device)\n",
    "optimizer = torch.optim.Adam(my_model.parameters(),lr=LEARNING_RATE)\n",
    "my_model.train()"
   ]
  },
  {
   "cell_type": "code",
   "execution_count": null,
   "id": "dc547691",
   "metadata": {
    "scrolled": true
   },
   "outputs": [
    {
     "name": "stderr",
     "output_type": "stream",
     "text": [
      "  0%|          | 2/1065 [00:00<03:29,  5.07it/s]"
     ]
    },
    {
     "name": "stdout",
     "output_type": "stream",
     "text": [
      "Epoch 1: 0% , Loss: 15.769398\n"
     ]
    },
    {
     "name": "stderr",
     "output_type": "stream",
     "text": [
      " 10%|▉         | 102/1065 [00:17<02:19,  6.90it/s]"
     ]
    },
    {
     "name": "stdout",
     "output_type": "stream",
     "text": [
      "Epoch 1: 9% , Loss: 2.024630\n"
     ]
    },
    {
     "name": "stderr",
     "output_type": "stream",
     "text": [
      " 19%|█▉        | 201/1065 [01:05<09:50,  1.46it/s]"
     ]
    },
    {
     "name": "stdout",
     "output_type": "stream",
     "text": [
      "Epoch 1: 19% , Loss: 8.686179\n"
     ]
    },
    {
     "name": "stderr",
     "output_type": "stream",
     "text": [
      " 28%|██▊       | 301/1065 [02:03<06:33,  1.94it/s]"
     ]
    },
    {
     "name": "stdout",
     "output_type": "stream",
     "text": [
      "Epoch 1: 28% , Loss: 7.060096\n"
     ]
    },
    {
     "name": "stderr",
     "output_type": "stream",
     "text": [
      " 38%|███▊      | 401/1065 [02:58<06:24,  1.73it/s]"
     ]
    },
    {
     "name": "stdout",
     "output_type": "stream",
     "text": [
      "Epoch 1: 38% , Loss: 43.601639\n"
     ]
    },
    {
     "name": "stderr",
     "output_type": "stream",
     "text": [
      " 47%|████▋     | 501/1065 [03:53<04:48,  1.95it/s]"
     ]
    },
    {
     "name": "stdout",
     "output_type": "stream",
     "text": [
      "Epoch 1: 47% , Loss: 10.185518\n"
     ]
    },
    {
     "name": "stderr",
     "output_type": "stream",
     "text": [
      " 56%|█████▋    | 601/1065 [04:49<04:03,  1.91it/s]"
     ]
    },
    {
     "name": "stdout",
     "output_type": "stream",
     "text": [
      "Epoch 1: 56% , Loss: 4.418181\n"
     ]
    },
    {
     "name": "stderr",
     "output_type": "stream",
     "text": [
      " 66%|██████▌   | 701/1065 [05:46<03:12,  1.90it/s]"
     ]
    },
    {
     "name": "stdout",
     "output_type": "stream",
     "text": [
      "Epoch 1: 66% , Loss: 7.309865\n"
     ]
    },
    {
     "name": "stderr",
     "output_type": "stream",
     "text": [
      " 75%|███████▌  | 801/1065 [06:43<02:13,  1.97it/s]"
     ]
    },
    {
     "name": "stdout",
     "output_type": "stream",
     "text": [
      "Epoch 1: 75% , Loss: 14.197412\n"
     ]
    },
    {
     "name": "stderr",
     "output_type": "stream",
     "text": [
      " 85%|████████▍ | 901/1065 [07:38<01:26,  1.90it/s]"
     ]
    },
    {
     "name": "stdout",
     "output_type": "stream",
     "text": [
      "Epoch 1: 85% , Loss: 15.783652\n"
     ]
    },
    {
     "name": "stderr",
     "output_type": "stream",
     "text": [
      " 94%|█████████▍| 1001/1065 [08:33<00:33,  1.93it/s]"
     ]
    },
    {
     "name": "stdout",
     "output_type": "stream",
     "text": [
      "Epoch 1: 94% , Loss: 13.319625\n"
     ]
    },
    {
     "name": "stderr",
     "output_type": "stream",
     "text": [
      "100%|██████████| 1065/1065 [09:07<00:00,  1.94it/s]"
     ]
    },
    {
     "name": "stdout",
     "output_type": "stream",
     "text": [
      "Epoch 1: 100% , Loss: 5.205580\n"
     ]
    },
    {
     "name": "stderr",
     "output_type": "stream",
     "text": [
      "\n"
     ]
    },
    {
     "name": "stdout",
     "output_type": "stream",
     "text": [
      "                      (F1-score: 0.0067)\n",
      "\n",
      "                      (NDCG: 0.0133)\n",
      "\n",
      "                      (MAE: 4.8230)\n",
      "\n",
      "train_loss= tensor(12.1856)\n",
      "--------------------\n"
     ]
    },
    {
     "name": "stderr",
     "output_type": "stream",
     "text": [
      "100%|██████████| 133/133 [00:47<00:00,  2.77it/s]\n"
     ]
    },
    {
     "name": "stdout",
     "output_type": "stream",
     "text": [
      "                      (F1-score: 0.0000)\n",
      "\n",
      "                      (NDCG: 0.0001)\n",
      "\n",
      "                      (MAE: 4.8224)\n",
      "\n",
      "val_loss= tensor(12.2280)\n",
      "--------------------\n"
     ]
    },
    {
     "name": "stderr",
     "output_type": "stream",
     "text": [
      "100%|██████████| 133/133 [00:46<00:00,  2.85it/s]\n"
     ]
    },
    {
     "name": "stdout",
     "output_type": "stream",
     "text": [
      "                      (F1-score: 0.0000)\n",
      "\n",
      "                      (NDCG: 0.0001)\n",
      "\n",
      "                      (MAE: 4.8271)\n",
      "\n",
      "--------------------\n",
      "[[1, {'F1-score': 4.1771094402673345e-05}, {'NDCG': 8.545867062376855e-05}, {'MAE': 4.827067669172933}, 12.228038787841797]]\n",
      "-----------------------------------------------------------------------------------------\n"
     ]
    },
    {
     "name": "stderr",
     "output_type": "stream",
     "text": [
      "  0%|          | 1/1065 [00:00<07:04,  2.51it/s]"
     ]
    },
    {
     "name": "stdout",
     "output_type": "stream",
     "text": [
      "Epoch 2: 0% , Loss: 101.005714\n"
     ]
    },
    {
     "name": "stderr",
     "output_type": "stream",
     "text": [
      "  9%|▉         | 101/1065 [00:46<06:57,  2.31it/s]"
     ]
    },
    {
     "name": "stdout",
     "output_type": "stream",
     "text": [
      "Epoch 2: 9% , Loss: 5.631086\n"
     ]
    },
    {
     "name": "stderr",
     "output_type": "stream",
     "text": [
      " 19%|█▉        | 201/1065 [01:41<09:41,  1.49it/s]"
     ]
    },
    {
     "name": "stdout",
     "output_type": "stream",
     "text": [
      "Epoch 2: 19% , Loss: 9.101867\n"
     ]
    },
    {
     "name": "stderr",
     "output_type": "stream",
     "text": [
      " 28%|██▊       | 301/1065 [02:34<05:57,  2.14it/s]"
     ]
    },
    {
     "name": "stdout",
     "output_type": "stream",
     "text": [
      "Epoch 2: 28% , Loss: 16.641344\n"
     ]
    },
    {
     "name": "stderr",
     "output_type": "stream",
     "text": [
      " 38%|███▊      | 401/1065 [03:31<05:58,  1.85it/s]"
     ]
    },
    {
     "name": "stdout",
     "output_type": "stream",
     "text": [
      "Epoch 2: 38% , Loss: 3.051579\n"
     ]
    },
    {
     "name": "stderr",
     "output_type": "stream",
     "text": [
      " 47%|████▋     | 501/1065 [04:27<04:39,  2.01it/s]"
     ]
    },
    {
     "name": "stdout",
     "output_type": "stream",
     "text": [
      "Epoch 2: 47% , Loss: 7.059961\n"
     ]
    },
    {
     "name": "stderr",
     "output_type": "stream",
     "text": [
      " 56%|█████▋    | 601/1065 [05:24<04:04,  1.89it/s]"
     ]
    },
    {
     "name": "stdout",
     "output_type": "stream",
     "text": [
      "Epoch 2: 56% , Loss: 1.242775\n"
     ]
    },
    {
     "name": "stderr",
     "output_type": "stream",
     "text": [
      " 66%|██████▌   | 701/1065 [06:17<03:14,  1.87it/s]"
     ]
    },
    {
     "name": "stdout",
     "output_type": "stream",
     "text": [
      "Epoch 2: 66% , Loss: 7.126591\n"
     ]
    },
    {
     "name": "stderr",
     "output_type": "stream",
     "text": [
      " 75%|███████▌  | 801/1065 [07:13<02:38,  1.67it/s]"
     ]
    },
    {
     "name": "stdout",
     "output_type": "stream",
     "text": [
      "Epoch 2: 75% , Loss: 5.748087\n"
     ]
    },
    {
     "name": "stderr",
     "output_type": "stream",
     "text": [
      " 85%|████████▍ | 901/1065 [08:09<01:30,  1.82it/s]"
     ]
    },
    {
     "name": "stdout",
     "output_type": "stream",
     "text": [
      "Epoch 2: 85% , Loss: 2.950309\n"
     ]
    },
    {
     "name": "stderr",
     "output_type": "stream",
     "text": [
      " 94%|█████████▍| 1001/1065 [09:04<00:33,  1.92it/s]"
     ]
    },
    {
     "name": "stdout",
     "output_type": "stream",
     "text": [
      "Epoch 2: 94% , Loss: 0.838223\n"
     ]
    },
    {
     "name": "stderr",
     "output_type": "stream",
     "text": [
      "100%|██████████| 1065/1065 [09:40<00:00,  1.84it/s]"
     ]
    },
    {
     "name": "stdout",
     "output_type": "stream",
     "text": [
      "Epoch 2: 100% , Loss: 12.623942\n"
     ]
    },
    {
     "name": "stderr",
     "output_type": "stream",
     "text": [
      "\n"
     ]
    },
    {
     "name": "stdout",
     "output_type": "stream",
     "text": [
      "                      (F1-score: 0.0001)\n",
      "\n",
      "                      (NDCG: 0.0001)\n",
      "\n",
      "                      (MAE: 4.1324)\n",
      "\n",
      "train_loss= tensor(8.9392)\n",
      "--------------------\n"
     ]
    },
    {
     "name": "stderr",
     "output_type": "stream",
     "text": [
      "100%|██████████| 133/133 [00:51<00:00,  2.58it/s]\n"
     ]
    },
    {
     "name": "stdout",
     "output_type": "stream",
     "text": [
      "                      (F1-score: 0.0000)\n",
      "\n",
      "                      (NDCG: 0.0000)\n",
      "\n",
      "                      (MAE: 4.1758)\n",
      "\n",
      "val_loss= tensor(10.4066)\n",
      "--------------------\n"
     ]
    },
    {
     "name": "stderr",
     "output_type": "stream",
     "text": [
      "100%|██████████| 133/133 [00:45<00:00,  2.94it/s]\n"
     ]
    },
    {
     "name": "stdout",
     "output_type": "stream",
     "text": [
      "                      (F1-score: 0.0000)\n",
      "\n",
      "                      (NDCG: 0.0000)\n",
      "\n",
      "                      (MAE: 4.1729)\n",
      "\n",
      "--------------------\n",
      "[[1, {'F1-score': 4.1771094402673345e-05}, {'NDCG': 8.545867062376855e-05}, {'MAE': 4.827067669172933}, 12.228038787841797], [2, {'F1-score': 0.0}, {'NDCG': 0.0}, {'MAE': 4.172932330827067}, 10.406564712524414]]\n",
      "-----------------------------------------------------------------------------------------\n"
     ]
    },
    {
     "name": "stderr",
     "output_type": "stream",
     "text": [
      "  0%|          | 1/1065 [00:00<07:21,  2.41it/s]"
     ]
    },
    {
     "name": "stdout",
     "output_type": "stream",
     "text": [
      "Epoch 3: 0% , Loss: 8.760856\n"
     ]
    },
    {
     "name": "stderr",
     "output_type": "stream",
     "text": [
      "  9%|▉         | 101/1065 [00:45<06:22,  2.52it/s]"
     ]
    },
    {
     "name": "stdout",
     "output_type": "stream",
     "text": [
      "Epoch 3: 9% , Loss: 7.174038\n"
     ]
    },
    {
     "name": "stderr",
     "output_type": "stream",
     "text": [
      " 19%|█▉        | 201/1065 [01:37<09:00,  1.60it/s]"
     ]
    },
    {
     "name": "stdout",
     "output_type": "stream",
     "text": [
      "Epoch 3: 19% , Loss: 6.041866\n"
     ]
    },
    {
     "name": "stderr",
     "output_type": "stream",
     "text": [
      " 28%|██▊       | 301/1065 [02:36<06:49,  1.87it/s]"
     ]
    },
    {
     "name": "stdout",
     "output_type": "stream",
     "text": [
      "Epoch 3: 28% , Loss: 6.771670\n"
     ]
    },
    {
     "name": "stderr",
     "output_type": "stream",
     "text": [
      " 38%|███▊      | 401/1065 [03:30<06:11,  1.79it/s]"
     ]
    },
    {
     "name": "stdout",
     "output_type": "stream",
     "text": [
      "Epoch 3: 38% , Loss: 2.195432\n"
     ]
    },
    {
     "name": "stderr",
     "output_type": "stream",
     "text": [
      " 47%|████▋     | 501/1065 [04:27<05:03,  1.86it/s]"
     ]
    },
    {
     "name": "stdout",
     "output_type": "stream",
     "text": [
      "Epoch 3: 47% , Loss: 2.594044\n"
     ]
    },
    {
     "name": "stderr",
     "output_type": "stream",
     "text": [
      " 56%|█████▋    | 601/1065 [05:21<04:49,  1.60it/s]"
     ]
    },
    {
     "name": "stdout",
     "output_type": "stream",
     "text": [
      "Epoch 3: 56% , Loss: 3.195455\n"
     ]
    },
    {
     "name": "stderr",
     "output_type": "stream",
     "text": [
      " 66%|██████▌   | 701/1065 [06:21<03:25,  1.77it/s]"
     ]
    },
    {
     "name": "stdout",
     "output_type": "stream",
     "text": [
      "Epoch 3: 66% , Loss: 1.655221\n"
     ]
    },
    {
     "name": "stderr",
     "output_type": "stream",
     "text": [
      " 75%|███████▌  | 801/1065 [07:16<02:24,  1.83it/s]"
     ]
    },
    {
     "name": "stdout",
     "output_type": "stream",
     "text": [
      "Epoch 3: 75% , Loss: 22.634926\n"
     ]
    },
    {
     "name": "stderr",
     "output_type": "stream",
     "text": [
      " 85%|████████▍ | 901/1065 [08:12<01:33,  1.75it/s]"
     ]
    },
    {
     "name": "stdout",
     "output_type": "stream",
     "text": [
      "Epoch 3: 85% , Loss: 5.821466\n"
     ]
    },
    {
     "name": "stderr",
     "output_type": "stream",
     "text": [
      " 94%|█████████▍| 1001/1065 [09:09<00:39,  1.62it/s]"
     ]
    },
    {
     "name": "stdout",
     "output_type": "stream",
     "text": [
      "Epoch 3: 94% , Loss: 0.848526\n"
     ]
    },
    {
     "name": "stderr",
     "output_type": "stream",
     "text": [
      "100%|██████████| 1065/1065 [09:45<00:00,  1.82it/s]"
     ]
    },
    {
     "name": "stdout",
     "output_type": "stream",
     "text": [
      "Epoch 3: 100% , Loss: 21.681154\n"
     ]
    },
    {
     "name": "stderr",
     "output_type": "stream",
     "text": [
      "\n"
     ]
    },
    {
     "name": "stdout",
     "output_type": "stream",
     "text": [
      "                      (F1-score: 0.0022)\n",
      "\n",
      "                      (NDCG: 0.0020)\n",
      "\n",
      "                      (MAE: 4.0198)\n",
      "\n",
      "train_loss= tensor(8.4230)\n",
      "--------------------\n"
     ]
    },
    {
     "name": "stderr",
     "output_type": "stream",
     "text": [
      "100%|██████████| 133/133 [00:50<00:00,  2.64it/s]\n"
     ]
    },
    {
     "name": "stdout",
     "output_type": "stream",
     "text": [
      "                      (F1-score: 0.0127)\n",
      "\n",
      "                      (NDCG: 0.0137)\n",
      "\n",
      "                      (MAE: 4.0376)\n",
      "\n",
      "val_loss= tensor(10.1802)\n",
      "--------------------\n"
     ]
    },
    {
     "name": "stderr",
     "output_type": "stream",
     "text": [
      "100%|██████████| 133/133 [00:45<00:00,  2.90it/s]\n"
     ]
    },
    {
     "name": "stdout",
     "output_type": "stream",
     "text": [
      "                      (F1-score: 0.0128)\n",
      "\n",
      "                      (NDCG: 0.0138)\n",
      "\n",
      "                      (MAE: 4.0442)\n",
      "\n",
      "--------------------\n",
      "[[1, {'F1-score': 4.1771094402673345e-05}, {'NDCG': 8.545867062376855e-05}, {'MAE': 4.827067669172933}, 12.228038787841797], [2, {'F1-score': 0.0}, {'NDCG': 0.0}, {'MAE': 4.172932330827067}, 10.406564712524414], [3, {'F1-score': 0.012814380349113991}, {'NDCG': 0.013789705904130648}, {'MAE': 4.044172932330827}, 10.180235862731934]]\n",
      "-----------------------------------------------------------------------------------------\n"
     ]
    },
    {
     "name": "stderr",
     "output_type": "stream",
     "text": [
      "  0%|          | 1/1065 [00:00<07:22,  2.40it/s]"
     ]
    },
    {
     "name": "stdout",
     "output_type": "stream",
     "text": [
      "Epoch 4: 0% , Loss: 12.364757\n"
     ]
    },
    {
     "name": "stderr",
     "output_type": "stream",
     "text": [
      "  9%|▉         | 101/1065 [00:42<08:53,  1.81it/s]"
     ]
    },
    {
     "name": "stdout",
     "output_type": "stream",
     "text": [
      "Epoch 4: 9% , Loss: 23.267809\n"
     ]
    },
    {
     "name": "stderr",
     "output_type": "stream",
     "text": [
      " 19%|█▉        | 201/1065 [01:35<07:32,  1.91it/s]"
     ]
    },
    {
     "name": "stdout",
     "output_type": "stream",
     "text": [
      "Epoch 4: 19% , Loss: 8.151315\n"
     ]
    },
    {
     "name": "stderr",
     "output_type": "stream",
     "text": [
      " 28%|██▊       | 301/1065 [02:31<06:10,  2.06it/s]"
     ]
    },
    {
     "name": "stdout",
     "output_type": "stream",
     "text": [
      "Epoch 4: 28% , Loss: 15.439570\n"
     ]
    },
    {
     "name": "stderr",
     "output_type": "stream",
     "text": [
      " 38%|███▊      | 401/1065 [03:29<06:14,  1.77it/s]"
     ]
    },
    {
     "name": "stdout",
     "output_type": "stream",
     "text": [
      "Epoch 4: 38% , Loss: 1.842739\n"
     ]
    },
    {
     "name": "stderr",
     "output_type": "stream",
     "text": [
      " 47%|████▋     | 501/1065 [04:26<05:09,  1.82it/s]"
     ]
    },
    {
     "name": "stdout",
     "output_type": "stream",
     "text": [
      "Epoch 4: 47% , Loss: 9.971699\n"
     ]
    },
    {
     "name": "stderr",
     "output_type": "stream",
     "text": [
      " 56%|█████▋    | 601/1065 [05:22<04:12,  1.84it/s]"
     ]
    },
    {
     "name": "stdout",
     "output_type": "stream",
     "text": [
      "Epoch 4: 56% , Loss: 60.419460\n"
     ]
    },
    {
     "name": "stderr",
     "output_type": "stream",
     "text": [
      " 66%|██████▌   | 701/1065 [06:15<03:06,  1.96it/s]"
     ]
    },
    {
     "name": "stdout",
     "output_type": "stream",
     "text": [
      "Epoch 4: 66% , Loss: 4.291438\n"
     ]
    },
    {
     "name": "stderr",
     "output_type": "stream",
     "text": [
      " 75%|███████▌  | 801/1065 [07:13<02:38,  1.67it/s]"
     ]
    },
    {
     "name": "stdout",
     "output_type": "stream",
     "text": [
      "Epoch 4: 75% , Loss: 6.678599\n"
     ]
    },
    {
     "name": "stderr",
     "output_type": "stream",
     "text": [
      " 85%|████████▍ | 901/1065 [08:09<01:26,  1.90it/s]"
     ]
    },
    {
     "name": "stdout",
     "output_type": "stream",
     "text": [
      "Epoch 4: 85% , Loss: 3.622763\n"
     ]
    },
    {
     "name": "stderr",
     "output_type": "stream",
     "text": [
      " 94%|█████████▍| 1001/1065 [09:04<00:32,  1.99it/s]"
     ]
    },
    {
     "name": "stdout",
     "output_type": "stream",
     "text": [
      "Epoch 4: 94% , Loss: 12.310138\n"
     ]
    },
    {
     "name": "stderr",
     "output_type": "stream",
     "text": [
      "100%|██████████| 1065/1065 [09:40<00:00,  1.83it/s]"
     ]
    },
    {
     "name": "stdout",
     "output_type": "stream",
     "text": [
      "Epoch 4: 100% , Loss: 18.922981\n"
     ]
    },
    {
     "name": "stderr",
     "output_type": "stream",
     "text": [
      "\n"
     ]
    },
    {
     "name": "stdout",
     "output_type": "stream",
     "text": [
      "                      (F1-score: 0.0145)\n",
      "\n",
      "                      (NDCG: 0.0252)\n",
      "\n",
      "                      (MAE: 3.9972)\n",
      "\n",
      "train_loss= tensor(8.3218)\n",
      "--------------------\n"
     ]
    },
    {
     "name": "stderr",
     "output_type": "stream",
     "text": [
      "100%|██████████| 133/133 [00:50<00:00,  2.61it/s]\n"
     ]
    },
    {
     "name": "stdout",
     "output_type": "stream",
     "text": [
      "                      (F1-score: 0.0195)\n",
      "\n",
      "                      (NDCG: 0.0422)\n",
      "\n",
      "                      (MAE: 3.9352)\n",
      "\n",
      "val_loss= tensor(10.2710)\n",
      "--------------------\n"
     ]
    },
    {
     "name": "stderr",
     "output_type": "stream",
     "text": [
      "100%|██████████| 133/133 [00:45<00:00,  2.94it/s]\n"
     ]
    },
    {
     "name": "stdout",
     "output_type": "stream",
     "text": [
      "                      (F1-score: 0.0197)\n",
      "\n",
      "                      (NDCG: 0.0424)\n",
      "\n",
      "                      (MAE: 3.9248)\n",
      "\n",
      "--------------------\n",
      "[[1, {'F1-score': 4.1771094402673345e-05}, {'NDCG': 8.545867062376855e-05}, {'MAE': 4.827067669172933}, 12.228038787841797], [2, {'F1-score': 0.0}, {'NDCG': 0.0}, {'MAE': 4.172932330827067}, 10.406564712524414], [3, {'F1-score': 0.012814380349113991}, {'NDCG': 0.013789705904130648}, {'MAE': 4.044172932330827}, 10.180235862731934], [4, {'F1-score': 0.019728655244801822}, {'NDCG': 0.042426276983539186}, {'MAE': 3.924812030075188}, 10.27104377746582]]\n",
      "-----------------------------------------------------------------------------------------\n"
     ]
    },
    {
     "name": "stderr",
     "output_type": "stream",
     "text": [
      "  0%|          | 1/1065 [00:00<07:26,  2.38it/s]"
     ]
    },
    {
     "name": "stdout",
     "output_type": "stream",
     "text": [
      "Epoch 5: 0% , Loss: 2.056179\n"
     ]
    },
    {
     "name": "stderr",
     "output_type": "stream",
     "text": [
      "  9%|▉         | 101/1065 [00:45<08:16,  1.94it/s]"
     ]
    },
    {
     "name": "stdout",
     "output_type": "stream",
     "text": [
      "Epoch 5: 9% , Loss: 10.853334\n"
     ]
    },
    {
     "name": "stderr",
     "output_type": "stream",
     "text": [
      " 19%|█▉        | 201/1065 [01:35<07:02,  2.05it/s]"
     ]
    },
    {
     "name": "stdout",
     "output_type": "stream",
     "text": [
      "Epoch 5: 19% , Loss: 1.099310\n"
     ]
    },
    {
     "name": "stderr",
     "output_type": "stream",
     "text": [
      " 28%|██▊       | 301/1065 [02:30<07:55,  1.61it/s]"
     ]
    },
    {
     "name": "stdout",
     "output_type": "stream",
     "text": [
      "Epoch 5: 28% , Loss: 14.053943\n"
     ]
    },
    {
     "name": "stderr",
     "output_type": "stream",
     "text": [
      " 38%|███▊      | 401/1065 [03:28<05:26,  2.04it/s]"
     ]
    },
    {
     "name": "stdout",
     "output_type": "stream",
     "text": [
      "Epoch 5: 38% , Loss: 6.892092\n"
     ]
    },
    {
     "name": "stderr",
     "output_type": "stream",
     "text": [
      " 47%|████▋     | 501/1065 [04:23<07:31,  1.25it/s]"
     ]
    },
    {
     "name": "stdout",
     "output_type": "stream",
     "text": [
      "Epoch 5: 47% , Loss: 7.127587\n"
     ]
    },
    {
     "name": "stderr",
     "output_type": "stream",
     "text": [
      " 56%|█████▋    | 601/1065 [05:25<03:57,  1.95it/s]"
     ]
    },
    {
     "name": "stdout",
     "output_type": "stream",
     "text": [
      "Epoch 5: 56% , Loss: 4.657525\n"
     ]
    },
    {
     "name": "stderr",
     "output_type": "stream",
     "text": [
      " 66%|██████▌   | 701/1065 [06:21<03:40,  1.65it/s]"
     ]
    },
    {
     "name": "stdout",
     "output_type": "stream",
     "text": [
      "Epoch 5: 66% , Loss: 3.049886\n"
     ]
    },
    {
     "name": "stderr",
     "output_type": "stream",
     "text": [
      " 75%|███████▌  | 801/1065 [07:18<02:25,  1.81it/s]"
     ]
    },
    {
     "name": "stdout",
     "output_type": "stream",
     "text": [
      "Epoch 5: 75% , Loss: 3.422980\n"
     ]
    },
    {
     "name": "stderr",
     "output_type": "stream",
     "text": [
      " 85%|████████▍ | 901/1065 [08:13<01:25,  1.93it/s]"
     ]
    },
    {
     "name": "stdout",
     "output_type": "stream",
     "text": [
      "Epoch 5: 85% , Loss: 6.109387\n"
     ]
    },
    {
     "name": "stderr",
     "output_type": "stream",
     "text": [
      " 94%|█████████▍| 1001/1065 [09:09<00:31,  2.02it/s]"
     ]
    },
    {
     "name": "stdout",
     "output_type": "stream",
     "text": [
      "Epoch 5: 94% , Loss: 19.531780\n"
     ]
    },
    {
     "name": "stderr",
     "output_type": "stream",
     "text": [
      "100%|██████████| 1065/1065 [09:44<00:00,  1.82it/s]"
     ]
    },
    {
     "name": "stdout",
     "output_type": "stream",
     "text": [
      "Epoch 5: 100% , Loss: 5.782711\n"
     ]
    },
    {
     "name": "stderr",
     "output_type": "stream",
     "text": [
      "\n"
     ]
    },
    {
     "name": "stdout",
     "output_type": "stream",
     "text": [
      "                      (F1-score: 0.0227)\n",
      "\n",
      "                      (NDCG: 0.0452)\n",
      "\n",
      "                      (MAE: 4.0015)\n",
      "\n",
      "train_loss= tensor(8.2441)\n",
      "--------------------\n"
     ]
    },
    {
     "name": "stderr",
     "output_type": "stream",
     "text": [
      "100%|██████████| 133/133 [00:52<00:00,  2.53it/s]\n"
     ]
    },
    {
     "name": "stdout",
     "output_type": "stream",
     "text": [
      "                      (F1-score: 0.0277)\n",
      "\n",
      "                      (NDCG: 0.0509)\n",
      "\n",
      "                      (MAE: 3.9991)\n",
      "\n",
      "val_loss= tensor(10.0671)\n",
      "--------------------\n"
     ]
    },
    {
     "name": "stderr",
     "output_type": "stream",
     "text": [
      "100%|██████████| 133/133 [00:45<00:00,  2.93it/s]\n"
     ]
    },
    {
     "name": "stdout",
     "output_type": "stream",
     "text": [
      "                      (F1-score: 0.0278)\n",
      "\n",
      "                      (NDCG: 0.0508)\n",
      "\n",
      "                      (MAE: 3.9981)\n",
      "\n",
      "--------------------\n",
      "[[1, {'F1-score': 4.1771094402673345e-05}, {'NDCG': 8.545867062376855e-05}, {'MAE': 4.827067669172933}, 12.228038787841797], [2, {'F1-score': 0.0}, {'NDCG': 0.0}, {'MAE': 4.172932330827067}, 10.406564712524414], [3, {'F1-score': 0.012814380349113991}, {'NDCG': 0.013789705904130648}, {'MAE': 4.044172932330827}, 10.180235862731934], [4, {'F1-score': 0.019728655244801822}, {'NDCG': 0.042426276983539186}, {'MAE': 3.924812030075188}, 10.27104377746582], [5, {'F1-score': 0.027809576345933028}, {'NDCG': 0.0508072271459925}, {'MAE': 3.9981203007518795}, 10.06705093383789]]\n",
      "-----------------------------------------------------------------------------------------\n"
     ]
    },
    {
     "name": "stderr",
     "output_type": "stream",
     "text": [
      "  0%|          | 1/1065 [00:00<05:59,  2.96it/s]"
     ]
    },
    {
     "name": "stdout",
     "output_type": "stream",
     "text": [
      "Epoch 6: 0% , Loss: 44.819248\n"
     ]
    },
    {
     "name": "stderr",
     "output_type": "stream",
     "text": [
      "  9%|▉         | 101/1065 [00:45<07:26,  2.16it/s]"
     ]
    },
    {
     "name": "stdout",
     "output_type": "stream",
     "text": [
      "Epoch 6: 9% , Loss: 1.315860\n"
     ]
    },
    {
     "name": "stderr",
     "output_type": "stream",
     "text": [
      " 19%|█▉        | 201/1065 [01:35<08:22,  1.72it/s]"
     ]
    },
    {
     "name": "stdout",
     "output_type": "stream",
     "text": [
      "Epoch 6: 19% , Loss: 18.429499\n"
     ]
    },
    {
     "name": "stderr",
     "output_type": "stream",
     "text": [
      " 28%|██▊       | 301/1065 [02:33<07:08,  1.78it/s]"
     ]
    },
    {
     "name": "stdout",
     "output_type": "stream",
     "text": [
      "Epoch 6: 28% , Loss: 1.896119\n"
     ]
    },
    {
     "name": "stderr",
     "output_type": "stream",
     "text": [
      " 38%|███▊      | 401/1065 [03:28<06:14,  1.77it/s]"
     ]
    },
    {
     "name": "stdout",
     "output_type": "stream",
     "text": [
      "Epoch 6: 38% , Loss: 25.505486\n"
     ]
    },
    {
     "name": "stderr",
     "output_type": "stream",
     "text": [
      " 47%|████▋     | 501/1065 [04:23<05:35,  1.68it/s]"
     ]
    },
    {
     "name": "stdout",
     "output_type": "stream",
     "text": [
      "Epoch 6: 47% , Loss: 5.276303\n"
     ]
    },
    {
     "name": "stderr",
     "output_type": "stream",
     "text": [
      " 56%|█████▋    | 601/1065 [05:22<04:07,  1.88it/s]"
     ]
    },
    {
     "name": "stdout",
     "output_type": "stream",
     "text": [
      "Epoch 6: 56% , Loss: 4.510486\n"
     ]
    },
    {
     "name": "stderr",
     "output_type": "stream",
     "text": [
      " 66%|██████▌   | 701/1065 [06:19<03:36,  1.68it/s]"
     ]
    },
    {
     "name": "stdout",
     "output_type": "stream",
     "text": [
      "Epoch 6: 66% , Loss: 1.368011\n"
     ]
    },
    {
     "name": "stderr",
     "output_type": "stream",
     "text": [
      " 75%|███████▌  | 801/1065 [07:15<02:22,  1.86it/s]"
     ]
    },
    {
     "name": "stdout",
     "output_type": "stream",
     "text": [
      "Epoch 6: 75% , Loss: 2.912151\n"
     ]
    },
    {
     "name": "stderr",
     "output_type": "stream",
     "text": [
      " 85%|████████▍ | 901/1065 [08:09<01:29,  1.84it/s]"
     ]
    },
    {
     "name": "stdout",
     "output_type": "stream",
     "text": [
      "Epoch 6: 85% , Loss: 4.503665\n"
     ]
    },
    {
     "name": "stderr",
     "output_type": "stream",
     "text": [
      " 94%|█████████▍| 1001/1065 [09:07<00:33,  1.89it/s]"
     ]
    },
    {
     "name": "stdout",
     "output_type": "stream",
     "text": [
      "Epoch 6: 94% , Loss: 2.037779\n"
     ]
    },
    {
     "name": "stderr",
     "output_type": "stream",
     "text": [
      "100%|██████████| 1065/1065 [09:42<00:00,  1.83it/s]"
     ]
    },
    {
     "name": "stdout",
     "output_type": "stream",
     "text": [
      "Epoch 6: 100% , Loss: 2.851951\n"
     ]
    },
    {
     "name": "stderr",
     "output_type": "stream",
     "text": [
      "\n"
     ]
    },
    {
     "name": "stdout",
     "output_type": "stream",
     "text": [
      "                      (F1-score: 0.0358)\n",
      "\n",
      "                      (NDCG: 0.0597)\n",
      "\n",
      "                      (MAE: 3.9785)\n",
      "\n",
      "train_loss= tensor(8.2181)\n",
      "--------------------\n"
     ]
    },
    {
     "name": "stderr",
     "output_type": "stream",
     "text": [
      "100%|██████████| 133/133 [00:50<00:00,  2.63it/s]\n"
     ]
    },
    {
     "name": "stdout",
     "output_type": "stream",
     "text": [
      "                      (F1-score: 0.0425)\n",
      "\n",
      "                      (NDCG: 0.0669)\n",
      "\n",
      "                      (MAE: 4.1664)\n",
      "\n",
      "val_loss= tensor(10.0207)\n",
      "--------------------\n"
     ]
    },
    {
     "name": "stderr",
     "output_type": "stream",
     "text": [
      "100%|██████████| 133/133 [00:46<00:00,  2.89it/s]\n"
     ]
    },
    {
     "name": "stdout",
     "output_type": "stream",
     "text": [
      "                      (F1-score: 0.0431)\n",
      "\n",
      "                      (NDCG: 0.0669)\n",
      "\n",
      "                      (MAE: 4.1645)\n",
      "\n",
      "--------------------\n",
      "[[1, {'F1-score': 4.1771094402673345e-05}, {'NDCG': 8.545867062376855e-05}, {'MAE': 4.827067669172933}, 12.228038787841797], [2, {'F1-score': 0.0}, {'NDCG': 0.0}, {'MAE': 4.172932330827067}, 10.406564712524414], [3, {'F1-score': 0.012814380349113991}, {'NDCG': 0.013789705904130648}, {'MAE': 4.044172932330827}, 10.180235862731934], [4, {'F1-score': 0.019728655244801822}, {'NDCG': 0.042426276983539186}, {'MAE': 3.924812030075188}, 10.27104377746582], [5, {'F1-score': 0.027809576345933028}, {'NDCG': 0.0508072271459925}, {'MAE': 3.9981203007518795}, 10.06705093383789], [6, {'F1-score': 0.04313347594182737}, {'NDCG': 0.06686435966871511}, {'MAE': 4.1644736842105265}, 10.020689964294434]]\n",
      "-----------------------------------------------------------------------------------------\n"
     ]
    },
    {
     "name": "stderr",
     "output_type": "stream",
     "text": [
      "  0%|          | 1/1065 [00:00<06:58,  2.54it/s]"
     ]
    },
    {
     "name": "stdout",
     "output_type": "stream",
     "text": [
      "Epoch 7: 0% , Loss: 2.794353\n"
     ]
    },
    {
     "name": "stderr",
     "output_type": "stream",
     "text": [
      "  9%|▉         | 101/1065 [00:46<07:35,  2.11it/s]"
     ]
    },
    {
     "name": "stdout",
     "output_type": "stream",
     "text": [
      "Epoch 7: 9% , Loss: 2.740430\n"
     ]
    },
    {
     "name": "stderr",
     "output_type": "stream",
     "text": [
      " 19%|█▉        | 201/1065 [01:40<07:42,  1.87it/s]"
     ]
    },
    {
     "name": "stdout",
     "output_type": "stream",
     "text": [
      "Epoch 7: 19% , Loss: 16.963753\n"
     ]
    },
    {
     "name": "stderr",
     "output_type": "stream",
     "text": [
      " 28%|██▊       | 301/1065 [02:36<06:20,  2.01it/s]"
     ]
    },
    {
     "name": "stdout",
     "output_type": "stream",
     "text": [
      "Epoch 7: 28% , Loss: 2.547457\n"
     ]
    },
    {
     "name": "stderr",
     "output_type": "stream",
     "text": [
      " 38%|███▊      | 401/1065 [03:33<06:52,  1.61it/s]"
     ]
    },
    {
     "name": "stdout",
     "output_type": "stream",
     "text": [
      "Epoch 7: 38% , Loss: 7.945308\n"
     ]
    },
    {
     "name": "stderr",
     "output_type": "stream",
     "text": [
      " 47%|████▋     | 501/1065 [04:30<05:31,  1.70it/s]"
     ]
    },
    {
     "name": "stdout",
     "output_type": "stream",
     "text": [
      "Epoch 7: 47% , Loss: 1.327920\n"
     ]
    },
    {
     "name": "stderr",
     "output_type": "stream",
     "text": [
      " 56%|█████▋    | 601/1065 [05:27<04:06,  1.88it/s]"
     ]
    },
    {
     "name": "stdout",
     "output_type": "stream",
     "text": [
      "Epoch 7: 56% , Loss: 4.405871\n"
     ]
    },
    {
     "name": "stderr",
     "output_type": "stream",
     "text": [
      " 66%|██████▌   | 701/1065 [06:20<03:20,  1.82it/s]"
     ]
    },
    {
     "name": "stdout",
     "output_type": "stream",
     "text": [
      "Epoch 7: 66% , Loss: 2.708085\n"
     ]
    },
    {
     "name": "stderr",
     "output_type": "stream",
     "text": [
      " 75%|███████▌  | 801/1065 [07:14<02:25,  1.82it/s]"
     ]
    },
    {
     "name": "stdout",
     "output_type": "stream",
     "text": [
      "Epoch 7: 75% , Loss: 5.977556\n"
     ]
    },
    {
     "name": "stderr",
     "output_type": "stream",
     "text": [
      " 85%|████████▍ | 901/1065 [08:09<01:38,  1.67it/s]"
     ]
    },
    {
     "name": "stdout",
     "output_type": "stream",
     "text": [
      "Epoch 7: 85% , Loss: 1.499638\n"
     ]
    },
    {
     "name": "stderr",
     "output_type": "stream",
     "text": [
      " 94%|█████████▍| 1001/1065 [09:04<00:35,  1.81it/s]"
     ]
    },
    {
     "name": "stdout",
     "output_type": "stream",
     "text": [
      "Epoch 7: 94% , Loss: 17.019451\n"
     ]
    },
    {
     "name": "stderr",
     "output_type": "stream",
     "text": [
      "100%|██████████| 1065/1065 [09:41<00:00,  1.83it/s]"
     ]
    },
    {
     "name": "stdout",
     "output_type": "stream",
     "text": [
      "Epoch 7: 100% , Loss: 12.324676\n"
     ]
    },
    {
     "name": "stderr",
     "output_type": "stream",
     "text": [
      "\n"
     ]
    },
    {
     "name": "stdout",
     "output_type": "stream",
     "text": [
      "                      (F1-score: 0.0456)\n",
      "\n",
      "                      (NDCG: 0.0693)\n",
      "\n",
      "                      (MAE: 3.9745)\n",
      "\n",
      "train_loss= tensor(8.1903)\n",
      "--------------------\n"
     ]
    },
    {
     "name": "stderr",
     "output_type": "stream",
     "text": [
      "100%|██████████| 133/133 [00:51<00:00,  2.58it/s]\n"
     ]
    },
    {
     "name": "stdout",
     "output_type": "stream",
     "text": [
      "                      (F1-score: 0.0454)\n",
      "\n",
      "                      (NDCG: 0.0691)\n",
      "\n",
      "                      (MAE: 3.9915)\n",
      "\n",
      "val_loss= tensor(9.9637)\n",
      "--------------------\n"
     ]
    },
    {
     "name": "stderr",
     "output_type": "stream",
     "text": [
      "100%|██████████| 133/133 [00:46<00:00,  2.89it/s]\n"
     ]
    },
    {
     "name": "stdout",
     "output_type": "stream",
     "text": [
      "                      (F1-score: 0.0451)\n",
      "\n",
      "                      (NDCG: 0.0691)\n",
      "\n",
      "                      (MAE: 3.9906)\n",
      "\n",
      "--------------------\n",
      "[[1, {'F1-score': 4.1771094402673345e-05}, {'NDCG': 8.545867062376855e-05}, {'MAE': 4.827067669172933}, 12.228038787841797], [2, {'F1-score': 0.0}, {'NDCG': 0.0}, {'MAE': 4.172932330827067}, 10.406564712524414], [3, {'F1-score': 0.012814380349113991}, {'NDCG': 0.013789705904130648}, {'MAE': 4.044172932330827}, 10.180235862731934], [4, {'F1-score': 0.019728655244801822}, {'NDCG': 0.042426276983539186}, {'MAE': 3.924812030075188}, 10.27104377746582], [5, {'F1-score': 0.027809576345933028}, {'NDCG': 0.0508072271459925}, {'MAE': 3.9981203007518795}, 10.06705093383789], [6, {'F1-score': 0.04313347594182737}, {'NDCG': 0.06686435966871511}, {'MAE': 4.1644736842105265}, 10.020689964294434], [7, {'F1-score': 0.04513285659533101}, {'NDCG': 0.06909855229857105}, {'MAE': 3.9906015037593985}, 9.96373176574707]]\n",
      "-----------------------------------------------------------------------------------------\n"
     ]
    },
    {
     "name": "stderr",
     "output_type": "stream",
     "text": [
      "  0%|          | 1/1065 [00:00<06:20,  2.79it/s]"
     ]
    },
    {
     "name": "stdout",
     "output_type": "stream",
     "text": [
      "Epoch 8: 0% , Loss: 4.792487\n"
     ]
    },
    {
     "name": "stderr",
     "output_type": "stream",
     "text": [
      "  9%|▉         | 101/1065 [00:45<07:20,  2.19it/s]"
     ]
    },
    {
     "name": "stdout",
     "output_type": "stream",
     "text": [
      "Epoch 8: 9% , Loss: 3.136439\n"
     ]
    },
    {
     "name": "stderr",
     "output_type": "stream",
     "text": [
      " 19%|█▉        | 201/1065 [01:35<11:24,  1.26it/s]"
     ]
    },
    {
     "name": "stdout",
     "output_type": "stream",
     "text": [
      "Epoch 8: 19% , Loss: 4.588434\n"
     ]
    },
    {
     "name": "stderr",
     "output_type": "stream",
     "text": [
      " 28%|██▊       | 301/1065 [02:34<07:42,  1.65it/s]"
     ]
    },
    {
     "name": "stdout",
     "output_type": "stream",
     "text": [
      "Epoch 8: 28% , Loss: 6.456905\n"
     ]
    },
    {
     "name": "stderr",
     "output_type": "stream",
     "text": [
      " 38%|███▊      | 401/1065 [03:30<06:13,  1.78it/s]"
     ]
    },
    {
     "name": "stdout",
     "output_type": "stream",
     "text": [
      "Epoch 8: 38% , Loss: 10.179335\n"
     ]
    },
    {
     "name": "stderr",
     "output_type": "stream",
     "text": [
      " 47%|████▋     | 501/1065 [04:25<05:51,  1.60it/s]"
     ]
    },
    {
     "name": "stdout",
     "output_type": "stream",
     "text": [
      "Epoch 8: 47% , Loss: 7.644612\n"
     ]
    },
    {
     "name": "stderr",
     "output_type": "stream",
     "text": [
      " 56%|█████▋    | 601/1065 [05:25<03:59,  1.94it/s]"
     ]
    },
    {
     "name": "stdout",
     "output_type": "stream",
     "text": [
      "Epoch 8: 56% , Loss: 24.877062\n"
     ]
    },
    {
     "name": "stderr",
     "output_type": "stream",
     "text": [
      " 66%|██████▌   | 701/1065 [06:22<03:03,  1.99it/s]"
     ]
    },
    {
     "name": "stdout",
     "output_type": "stream",
     "text": [
      "Epoch 8: 66% , Loss: 2.913022\n"
     ]
    },
    {
     "name": "stderr",
     "output_type": "stream",
     "text": [
      " 75%|███████▌  | 801/1065 [07:18<02:31,  1.75it/s]"
     ]
    },
    {
     "name": "stdout",
     "output_type": "stream",
     "text": [
      "Epoch 8: 75% , Loss: 6.584341\n"
     ]
    },
    {
     "name": "stderr",
     "output_type": "stream",
     "text": [
      " 85%|████████▍ | 901/1065 [08:14<01:27,  1.88it/s]"
     ]
    },
    {
     "name": "stdout",
     "output_type": "stream",
     "text": [
      "Epoch 8: 85% , Loss: 1.942009\n"
     ]
    },
    {
     "name": "stderr",
     "output_type": "stream",
     "text": [
      " 94%|█████████▍| 1001/1065 [09:09<00:38,  1.66it/s]"
     ]
    },
    {
     "name": "stdout",
     "output_type": "stream",
     "text": [
      "Epoch 8: 94% , Loss: 15.126078\n"
     ]
    },
    {
     "name": "stderr",
     "output_type": "stream",
     "text": [
      "100%|██████████| 1065/1065 [09:44<00:00,  1.82it/s]"
     ]
    },
    {
     "name": "stdout",
     "output_type": "stream",
     "text": [
      "Epoch 8: 100% , Loss: 3.563010\n"
     ]
    },
    {
     "name": "stderr",
     "output_type": "stream",
     "text": [
      "\n"
     ]
    },
    {
     "name": "stdout",
     "output_type": "stream",
     "text": [
      "                      (F1-score: 0.0453)\n",
      "\n",
      "                      (NDCG: 0.0689)\n",
      "\n",
      "                      (MAE: 3.9568)\n",
      "\n",
      "train_loss= tensor(8.1476)\n",
      "--------------------\n"
     ]
    },
    {
     "name": "stderr",
     "output_type": "stream",
     "text": [
      "100%|██████████| 133/133 [00:51<00:00,  2.60it/s]\n"
     ]
    },
    {
     "name": "stdout",
     "output_type": "stream",
     "text": [
      "                      (F1-score: 0.0465)\n",
      "\n",
      "                      (NDCG: 0.0706)\n",
      "\n",
      "                      (MAE: 3.8985)\n",
      "\n",
      "val_loss= tensor(10.0876)\n",
      "--------------------\n"
     ]
    },
    {
     "name": "stderr",
     "output_type": "stream",
     "text": [
      "100%|██████████| 133/133 [00:45<00:00,  2.95it/s]\n"
     ]
    },
    {
     "name": "stdout",
     "output_type": "stream",
     "text": [
      "                      (F1-score: 0.0454)\n",
      "\n",
      "                      (NDCG: 0.0695)\n",
      "\n",
      "                      (MAE: 3.8844)\n",
      "\n",
      "--------------------\n",
      "[[1, {'F1-score': 4.1771094402673345e-05}, {'NDCG': 8.545867062376855e-05}, {'MAE': 4.827067669172933}, 12.228038787841797], [2, {'F1-score': 0.0}, {'NDCG': 0.0}, {'MAE': 4.172932330827067}, 10.406564712524414], [3, {'F1-score': 0.012814380349113991}, {'NDCG': 0.013789705904130648}, {'MAE': 4.044172932330827}, 10.180235862731934], [4, {'F1-score': 0.019728655244801822}, {'NDCG': 0.042426276983539186}, {'MAE': 3.924812030075188}, 10.27104377746582], [5, {'F1-score': 0.027809576345933028}, {'NDCG': 0.0508072271459925}, {'MAE': 3.9981203007518795}, 10.06705093383789], [6, {'F1-score': 0.04313347594182737}, {'NDCG': 0.06686435966871511}, {'MAE': 4.1644736842105265}, 10.020689964294434], [7, {'F1-score': 0.04513285659533101}, {'NDCG': 0.06909855229857105}, {'MAE': 3.9906015037593985}, 9.96373176574707], [8, {'F1-score': 0.045441685393334305}, {'NDCG': 0.06952707130721021}, {'MAE': 3.8843984962406015}, 10.087576866149902]]\n",
      "-----------------------------------------------------------------------------------------\n"
     ]
    },
    {
     "name": "stderr",
     "output_type": "stream",
     "text": [
      "  0%|          | 1/1065 [00:00<08:54,  1.99it/s]"
     ]
    },
    {
     "name": "stdout",
     "output_type": "stream",
     "text": [
      "Epoch 9: 0% , Loss: 6.140897\n"
     ]
    },
    {
     "name": "stderr",
     "output_type": "stream",
     "text": [
      "  9%|▉         | 101/1065 [00:47<06:32,  2.45it/s]"
     ]
    },
    {
     "name": "stdout",
     "output_type": "stream",
     "text": [
      "Epoch 9: 9% , Loss: 12.536983\n"
     ]
    },
    {
     "name": "stderr",
     "output_type": "stream",
     "text": [
      " 19%|█▉        | 201/1065 [01:39<07:48,  1.84it/s]"
     ]
    },
    {
     "name": "stdout",
     "output_type": "stream",
     "text": [
      "Epoch 9: 19% , Loss: 3.670310\n"
     ]
    },
    {
     "name": "stderr",
     "output_type": "stream",
     "text": [
      " 28%|██▊       | 301/1065 [02:33<07:14,  1.76it/s]"
     ]
    },
    {
     "name": "stdout",
     "output_type": "stream",
     "text": [
      "Epoch 9: 28% , Loss: 2.728452\n"
     ]
    },
    {
     "name": "stderr",
     "output_type": "stream",
     "text": [
      " 38%|███▊      | 401/1065 [03:29<07:48,  1.42it/s]"
     ]
    },
    {
     "name": "stdout",
     "output_type": "stream",
     "text": [
      "Epoch 9: 38% , Loss: 15.312948\n"
     ]
    },
    {
     "name": "stderr",
     "output_type": "stream",
     "text": [
      " 47%|████▋     | 501/1065 [04:26<05:09,  1.82it/s]"
     ]
    },
    {
     "name": "stdout",
     "output_type": "stream",
     "text": [
      "Epoch 9: 47% , Loss: 10.682307\n"
     ]
    },
    {
     "name": "stderr",
     "output_type": "stream",
     "text": [
      " 56%|█████▋    | 601/1065 [05:22<03:59,  1.94it/s]"
     ]
    },
    {
     "name": "stdout",
     "output_type": "stream",
     "text": [
      "Epoch 9: 56% , Loss: 6.155042\n"
     ]
    },
    {
     "name": "stderr",
     "output_type": "stream",
     "text": [
      " 66%|██████▌   | 701/1065 [06:20<03:13,  1.88it/s]"
     ]
    },
    {
     "name": "stdout",
     "output_type": "stream",
     "text": [
      "Epoch 9: 66% , Loss: 23.185001\n"
     ]
    },
    {
     "name": "stderr",
     "output_type": "stream",
     "text": [
      " 75%|███████▌  | 801/1065 [07:16<02:31,  1.74it/s]"
     ]
    },
    {
     "name": "stdout",
     "output_type": "stream",
     "text": [
      "Epoch 9: 75% , Loss: 3.577776\n"
     ]
    },
    {
     "name": "stderr",
     "output_type": "stream",
     "text": [
      " 85%|████████▍ | 901/1065 [08:11<01:24,  1.93it/s]"
     ]
    },
    {
     "name": "stdout",
     "output_type": "stream",
     "text": [
      "Epoch 9: 85% , Loss: 7.035682\n"
     ]
    },
    {
     "name": "stderr",
     "output_type": "stream",
     "text": [
      " 94%|█████████▍| 1001/1065 [09:06<00:40,  1.59it/s]"
     ]
    },
    {
     "name": "stdout",
     "output_type": "stream",
     "text": [
      "Epoch 9: 94% , Loss: 5.973747\n"
     ]
    },
    {
     "name": "stderr",
     "output_type": "stream",
     "text": [
      "100%|██████████| 1065/1065 [09:41<00:00,  1.83it/s]"
     ]
    },
    {
     "name": "stdout",
     "output_type": "stream",
     "text": [
      "Epoch 9: 100% , Loss: 1.858189\n"
     ]
    },
    {
     "name": "stderr",
     "output_type": "stream",
     "text": [
      "\n"
     ]
    },
    {
     "name": "stdout",
     "output_type": "stream",
     "text": [
      "                      (F1-score: 0.0451)\n",
      "\n",
      "                      (NDCG: 0.0690)\n",
      "\n",
      "                      (MAE: 3.9673)\n",
      "\n",
      "train_loss= tensor(8.1512)\n",
      "--------------------\n"
     ]
    },
    {
     "name": "stderr",
     "output_type": "stream",
     "text": [
      "100%|██████████| 133/133 [00:51<00:00,  2.56it/s]\n"
     ]
    },
    {
     "name": "stdout",
     "output_type": "stream",
     "text": [
      "                      (F1-score: 0.0455)\n",
      "\n",
      "                      (NDCG: 0.0692)\n",
      "\n",
      "                      (MAE: 4.0771)\n",
      "\n",
      "val_loss= tensor(9.8579)\n",
      "--------------------\n"
     ]
    },
    {
     "name": "stderr",
     "output_type": "stream",
     "text": [
      "100%|██████████| 133/133 [00:46<00:00,  2.88it/s]\n"
     ]
    },
    {
     "name": "stdout",
     "output_type": "stream",
     "text": [
      "                      (F1-score: 0.0451)\n",
      "\n",
      "                      (NDCG: 0.0688)\n",
      "\n",
      "                      (MAE: 4.0752)\n",
      "\n",
      "--------------------\n",
      "[[1, {'F1-score': 4.1771094402673345e-05}, {'NDCG': 8.545867062376855e-05}, {'MAE': 4.827067669172933}, 12.228038787841797], [2, {'F1-score': 0.0}, {'NDCG': 0.0}, {'MAE': 4.172932330827067}, 10.406564712524414], [3, {'F1-score': 0.012814380349113991}, {'NDCG': 0.013789705904130648}, {'MAE': 4.044172932330827}, 10.180235862731934], [4, {'F1-score': 0.019728655244801822}, {'NDCG': 0.042426276983539186}, {'MAE': 3.924812030075188}, 10.27104377746582], [5, {'F1-score': 0.027809576345933028}, {'NDCG': 0.0508072271459925}, {'MAE': 3.9981203007518795}, 10.06705093383789], [6, {'F1-score': 0.04313347594182737}, {'NDCG': 0.06686435966871511}, {'MAE': 4.1644736842105265}, 10.020689964294434], [7, {'F1-score': 0.04513285659533101}, {'NDCG': 0.06909855229857105}, {'MAE': 3.9906015037593985}, 9.96373176574707], [8, {'F1-score': 0.045441685393334305}, {'NDCG': 0.06952707130721021}, {'MAE': 3.8843984962406015}, 10.087576866149902], [9, {'F1-score': 0.045130280851725504}, {'NDCG': 0.0688168445875154}, {'MAE': 4.075187969924812}, 9.857915878295898]]\n",
      "-----------------------------------------------------------------------------------------\n"
     ]
    },
    {
     "name": "stderr",
     "output_type": "stream",
     "text": [
      "  0%|          | 1/1065 [00:00<06:16,  2.82it/s]"
     ]
    },
    {
     "name": "stdout",
     "output_type": "stream",
     "text": [
      "Epoch 10: 0% , Loss: 2.348483\n"
     ]
    },
    {
     "name": "stderr",
     "output_type": "stream",
     "text": [
      "  9%|▉         | 101/1065 [00:45<08:39,  1.85it/s]"
     ]
    },
    {
     "name": "stdout",
     "output_type": "stream",
     "text": [
      "Epoch 10: 9% , Loss: 3.652339\n"
     ]
    },
    {
     "name": "stderr",
     "output_type": "stream",
     "text": [
      " 19%|█▉        | 201/1065 [01:33<08:25,  1.71it/s]"
     ]
    },
    {
     "name": "stdout",
     "output_type": "stream",
     "text": [
      "Epoch 10: 19% , Loss: 16.761953\n"
     ]
    },
    {
     "name": "stderr",
     "output_type": "stream",
     "text": [
      " 28%|██▊       | 301/1065 [02:31<06:24,  1.99it/s]"
     ]
    },
    {
     "name": "stdout",
     "output_type": "stream",
     "text": [
      "Epoch 10: 28% , Loss: 2.749145\n"
     ]
    },
    {
     "name": "stderr",
     "output_type": "stream",
     "text": [
      " 38%|███▊      | 401/1065 [03:28<05:57,  1.86it/s]"
     ]
    },
    {
     "name": "stdout",
     "output_type": "stream",
     "text": [
      "Epoch 10: 38% , Loss: 6.654150\n"
     ]
    },
    {
     "name": "stderr",
     "output_type": "stream",
     "text": [
      " 47%|████▋     | 501/1065 [04:26<06:33,  1.43it/s]"
     ]
    },
    {
     "name": "stdout",
     "output_type": "stream",
     "text": [
      "Epoch 10: 47% , Loss: 33.520050\n"
     ]
    },
    {
     "name": "stderr",
     "output_type": "stream",
     "text": [
      " 56%|█████▋    | 601/1065 [05:20<03:42,  2.08it/s]"
     ]
    },
    {
     "name": "stdout",
     "output_type": "stream",
     "text": [
      "Epoch 10: 56% , Loss: 7.343439\n"
     ]
    },
    {
     "name": "stderr",
     "output_type": "stream",
     "text": [
      " 66%|██████▌   | 701/1065 [06:16<03:09,  1.92it/s]"
     ]
    },
    {
     "name": "stdout",
     "output_type": "stream",
     "text": [
      "Epoch 10: 66% , Loss: 7.392451\n"
     ]
    },
    {
     "name": "stderr",
     "output_type": "stream",
     "text": [
      " 75%|███████▌  | 801/1065 [07:12<02:20,  1.88it/s]"
     ]
    },
    {
     "name": "stdout",
     "output_type": "stream",
     "text": [
      "Epoch 10: 75% , Loss: 4.071515\n"
     ]
    },
    {
     "name": "stderr",
     "output_type": "stream",
     "text": [
      " 85%|████████▍ | 901/1065 [08:09<01:32,  1.78it/s]"
     ]
    },
    {
     "name": "stdout",
     "output_type": "stream",
     "text": [
      "Epoch 10: 85% , Loss: 3.052512\n"
     ]
    },
    {
     "name": "stderr",
     "output_type": "stream",
     "text": [
      " 94%|█████████▍| 1001/1065 [09:06<00:34,  1.86it/s]"
     ]
    },
    {
     "name": "stdout",
     "output_type": "stream",
     "text": [
      "Epoch 10: 94% , Loss: 3.294939\n"
     ]
    },
    {
     "name": "stderr",
     "output_type": "stream",
     "text": [
      "100%|██████████| 1065/1065 [09:43<00:00,  1.83it/s]"
     ]
    },
    {
     "name": "stdout",
     "output_type": "stream",
     "text": [
      "Epoch 10: 100% , Loss: 2.077492\n"
     ]
    },
    {
     "name": "stderr",
     "output_type": "stream",
     "text": [
      "\n"
     ]
    },
    {
     "name": "stdout",
     "output_type": "stream",
     "text": [
      "                      (F1-score: 0.0458)\n",
      "\n",
      "                      (NDCG: 0.0693)\n",
      "\n",
      "                      (MAE: 3.9417)\n",
      "\n",
      "train_loss= tensor(8.0945)\n",
      "--------------------\n"
     ]
    },
    {
     "name": "stderr",
     "output_type": "stream",
     "text": [
      "100%|██████████| 133/133 [00:51<00:00,  2.58it/s]\n"
     ]
    },
    {
     "name": "stdout",
     "output_type": "stream",
     "text": [
      "                      (F1-score: 0.0464)\n",
      "\n",
      "                      (NDCG: 0.0698)\n",
      "\n",
      "                      (MAE: 3.9173)\n",
      "\n",
      "val_loss= tensor(9.9667)\n",
      "--------------------\n"
     ]
    },
    {
     "name": "stderr",
     "output_type": "stream",
     "text": [
      "100%|██████████| 133/133 [00:45<00:00,  2.91it/s]\n"
     ]
    },
    {
     "name": "stdout",
     "output_type": "stream",
     "text": [
      "                      (F1-score: 0.0455)\n",
      "\n",
      "                      (NDCG: 0.0693)\n",
      "\n",
      "                      (MAE: 3.9164)\n",
      "\n",
      "--------------------\n",
      "[[1, {'F1-score': 4.1771094402673345e-05}, {'NDCG': 8.545867062376855e-05}, {'MAE': 4.827067669172933}, 12.228038787841797], [2, {'F1-score': 0.0}, {'NDCG': 0.0}, {'MAE': 4.172932330827067}, 10.406564712524414], [3, {'F1-score': 0.012814380349113991}, {'NDCG': 0.013789705904130648}, {'MAE': 4.044172932330827}, 10.180235862731934], [4, {'F1-score': 0.019728655244801822}, {'NDCG': 0.042426276983539186}, {'MAE': 3.924812030075188}, 10.27104377746582], [5, {'F1-score': 0.027809576345933028}, {'NDCG': 0.0508072271459925}, {'MAE': 3.9981203007518795}, 10.06705093383789], [6, {'F1-score': 0.04313347594182737}, {'NDCG': 0.06686435966871511}, {'MAE': 4.1644736842105265}, 10.020689964294434], [7, {'F1-score': 0.04513285659533101}, {'NDCG': 0.06909855229857105}, {'MAE': 3.9906015037593985}, 9.96373176574707], [8, {'F1-score': 0.045441685393334305}, {'NDCG': 0.06952707130721021}, {'MAE': 3.8843984962406015}, 10.087576866149902], [9, {'F1-score': 0.045130280851725504}, {'NDCG': 0.0688168445875154}, {'MAE': 4.075187969924812}, 9.857915878295898], [10, {'F1-score': 0.04552397942984522}, {'NDCG': 0.06929526838326924}, {'MAE': 3.9163533834586466}, 9.966713905334473]]\n",
      "-----------------------------------------------------------------------------------------\n"
     ]
    },
    {
     "name": "stderr",
     "output_type": "stream",
     "text": [
      "  0%|          | 1/1065 [00:00<15:47,  1.12it/s]"
     ]
    },
    {
     "name": "stdout",
     "output_type": "stream",
     "text": [
      "Epoch 11: 0% , Loss: 12.794688\n"
     ]
    },
    {
     "name": "stderr",
     "output_type": "stream",
     "text": [
      "  9%|▉         | 101/1065 [00:43<07:49,  2.05it/s]"
     ]
    },
    {
     "name": "stdout",
     "output_type": "stream",
     "text": [
      "Epoch 11: 9% , Loss: 6.530853\n"
     ]
    },
    {
     "name": "stderr",
     "output_type": "stream",
     "text": [
      " 19%|█▉        | 201/1065 [01:33<07:07,  2.02it/s]"
     ]
    },
    {
     "name": "stdout",
     "output_type": "stream",
     "text": [
      "Epoch 11: 19% , Loss: 4.981260\n"
     ]
    },
    {
     "name": "stderr",
     "output_type": "stream",
     "text": [
      " 28%|██▊       | 301/1065 [02:31<06:55,  1.84it/s]"
     ]
    },
    {
     "name": "stdout",
     "output_type": "stream",
     "text": [
      "Epoch 11: 28% , Loss: 9.213446\n"
     ]
    },
    {
     "name": "stderr",
     "output_type": "stream",
     "text": [
      " 38%|███▊      | 401/1065 [03:26<07:17,  1.52it/s]"
     ]
    },
    {
     "name": "stdout",
     "output_type": "stream",
     "text": [
      "Epoch 11: 38% , Loss: 18.347422\n"
     ]
    },
    {
     "name": "stderr",
     "output_type": "stream",
     "text": [
      " 47%|████▋     | 501/1065 [04:24<05:12,  1.80it/s]"
     ]
    },
    {
     "name": "stdout",
     "output_type": "stream",
     "text": [
      "Epoch 11: 47% , Loss: 2.459239\n"
     ]
    },
    {
     "name": "stderr",
     "output_type": "stream",
     "text": [
      " 56%|█████▋    | 601/1065 [05:19<04:28,  1.73it/s]"
     ]
    },
    {
     "name": "stdout",
     "output_type": "stream",
     "text": [
      "Epoch 11: 56% , Loss: 5.312658\n"
     ]
    },
    {
     "name": "stderr",
     "output_type": "stream",
     "text": [
      " 66%|██████▌   | 701/1065 [06:15<03:43,  1.63it/s]"
     ]
    },
    {
     "name": "stdout",
     "output_type": "stream",
     "text": [
      "Epoch 11: 66% , Loss: 2.603636\n"
     ]
    },
    {
     "name": "stderr",
     "output_type": "stream",
     "text": [
      " 75%|███████▌  | 801/1065 [07:12<02:52,  1.53it/s]"
     ]
    },
    {
     "name": "stdout",
     "output_type": "stream",
     "text": [
      "Epoch 11: 75% , Loss: 12.378437\n"
     ]
    },
    {
     "name": "stderr",
     "output_type": "stream",
     "text": [
      " 85%|████████▍ | 901/1065 [08:08<01:19,  2.07it/s]"
     ]
    },
    {
     "name": "stdout",
     "output_type": "stream",
     "text": [
      "Epoch 11: 85% , Loss: 2.037982\n"
     ]
    },
    {
     "name": "stderr",
     "output_type": "stream",
     "text": [
      " 94%|█████████▍| 1001/1065 [09:09<00:35,  1.82it/s]"
     ]
    },
    {
     "name": "stdout",
     "output_type": "stream",
     "text": [
      "Epoch 11: 94% , Loss: 2.694791\n"
     ]
    },
    {
     "name": "stderr",
     "output_type": "stream",
     "text": [
      "100%|██████████| 1065/1065 [09:45<00:00,  1.82it/s]"
     ]
    },
    {
     "name": "stdout",
     "output_type": "stream",
     "text": [
      "Epoch 11: 100% , Loss: 25.590797\n"
     ]
    },
    {
     "name": "stderr",
     "output_type": "stream",
     "text": [
      "\n"
     ]
    },
    {
     "name": "stdout",
     "output_type": "stream",
     "text": [
      "                      (F1-score: 0.0455)\n",
      "\n",
      "                      (NDCG: 0.0690)\n",
      "\n",
      "                      (MAE: 3.9488)\n",
      "\n",
      "train_loss= tensor(8.1058)\n",
      "--------------------\n"
     ]
    },
    {
     "name": "stderr",
     "output_type": "stream",
     "text": [
      "100%|██████████| 133/133 [00:51<00:00,  2.59it/s]\n"
     ]
    },
    {
     "name": "stdout",
     "output_type": "stream",
     "text": [
      "                      (F1-score: 0.0450)\n",
      "\n",
      "                      (NDCG: 0.0690)\n",
      "\n",
      "                      (MAE: 4.2359)\n",
      "\n",
      "val_loss= tensor(9.9366)\n",
      "--------------------\n"
     ]
    },
    {
     "name": "stderr",
     "output_type": "stream",
     "text": [
      "100%|██████████| 133/133 [00:46<00:00,  2.89it/s]\n"
     ]
    },
    {
     "name": "stdout",
     "output_type": "stream",
     "text": [
      "                      (F1-score: 0.0453)\n",
      "\n",
      "                      (NDCG: 0.0692)\n",
      "\n",
      "                      (MAE: 4.2368)\n",
      "\n",
      "--------------------\n",
      "[[1, {'F1-score': 4.1771094402673345e-05}, {'NDCG': 8.545867062376855e-05}, {'MAE': 4.827067669172933}, 12.228038787841797], [2, {'F1-score': 0.0}, {'NDCG': 0.0}, {'MAE': 4.172932330827067}, 10.406564712524414], [3, {'F1-score': 0.012814380349113991}, {'NDCG': 0.013789705904130648}, {'MAE': 4.044172932330827}, 10.180235862731934], [4, {'F1-score': 0.019728655244801822}, {'NDCG': 0.042426276983539186}, {'MAE': 3.924812030075188}, 10.27104377746582], [5, {'F1-score': 0.027809576345933028}, {'NDCG': 0.0508072271459925}, {'MAE': 3.9981203007518795}, 10.06705093383789], [6, {'F1-score': 0.04313347594182737}, {'NDCG': 0.06686435966871511}, {'MAE': 4.1644736842105265}, 10.020689964294434], [7, {'F1-score': 0.04513285659533101}, {'NDCG': 0.06909855229857105}, {'MAE': 3.9906015037593985}, 9.96373176574707], [8, {'F1-score': 0.045441685393334305}, {'NDCG': 0.06952707130721021}, {'MAE': 3.8843984962406015}, 10.087576866149902], [9, {'F1-score': 0.045130280851725504}, {'NDCG': 0.0688168445875154}, {'MAE': 4.075187969924812}, 9.857915878295898], [10, {'F1-score': 0.04552397942984522}, {'NDCG': 0.06929526838326924}, {'MAE': 3.9163533834586466}, 9.966713905334473], [11, {'F1-score': 0.04527954451481179}, {'NDCG': 0.06923387377852}, {'MAE': 4.2368421052631575}, 9.936558723449707]]\n",
      "-----------------------------------------------------------------------------------------\n"
     ]
    },
    {
     "name": "stderr",
     "output_type": "stream",
     "text": [
      "  0%|          | 1/1065 [00:00<09:03,  1.96it/s]"
     ]
    },
    {
     "name": "stdout",
     "output_type": "stream",
     "text": [
      "Epoch 12: 0% , Loss: 3.805374\n"
     ]
    },
    {
     "name": "stderr",
     "output_type": "stream",
     "text": [
      "  9%|▉         | 101/1065 [00:45<07:13,  2.22it/s]"
     ]
    },
    {
     "name": "stdout",
     "output_type": "stream",
     "text": [
      "Epoch 12: 9% , Loss: 3.675734\n"
     ]
    },
    {
     "name": "stderr",
     "output_type": "stream",
     "text": [
      " 19%|█▉        | 201/1065 [01:31<05:39,  2.55it/s]"
     ]
    },
    {
     "name": "stdout",
     "output_type": "stream",
     "text": [
      "Epoch 12: 19% , Loss: 3.806146\n"
     ]
    },
    {
     "name": "stderr",
     "output_type": "stream",
     "text": [
      " 28%|██▊       | 301/1065 [02:29<06:22,  2.00it/s]"
     ]
    },
    {
     "name": "stdout",
     "output_type": "stream",
     "text": [
      "Epoch 12: 28% , Loss: 3.697217\n"
     ]
    },
    {
     "name": "stderr",
     "output_type": "stream",
     "text": [
      " 38%|███▊      | 401/1065 [03:28<09:01,  1.23it/s]"
     ]
    },
    {
     "name": "stdout",
     "output_type": "stream",
     "text": [
      "Epoch 12: 38% , Loss: 8.564436\n"
     ]
    },
    {
     "name": "stderr",
     "output_type": "stream",
     "text": [
      " 47%|████▋     | 501/1065 [04:24<05:21,  1.75it/s]"
     ]
    },
    {
     "name": "stdout",
     "output_type": "stream",
     "text": [
      "Epoch 12: 47% , Loss: 4.576421\n"
     ]
    },
    {
     "name": "stderr",
     "output_type": "stream",
     "text": [
      " 56%|█████▋    | 601/1065 [05:17<02:02,  3.77it/s]"
     ]
    },
    {
     "name": "stdout",
     "output_type": "stream",
     "text": [
      "Epoch 12: 56% , Loss: 9.120883\n"
     ]
    },
    {
     "name": "stderr",
     "output_type": "stream",
     "text": [
      " 66%|██████▌   | 701/1065 [05:43<01:34,  3.86it/s]"
     ]
    },
    {
     "name": "stdout",
     "output_type": "stream",
     "text": [
      "Epoch 12: 66% , Loss: 4.429444\n"
     ]
    },
    {
     "name": "stderr",
     "output_type": "stream",
     "text": [
      " 75%|███████▌  | 801/1065 [06:09<01:10,  3.77it/s]"
     ]
    },
    {
     "name": "stdout",
     "output_type": "stream",
     "text": [
      "Epoch 12: 75% , Loss: 7.788974\n"
     ]
    },
    {
     "name": "stderr",
     "output_type": "stream",
     "text": [
      " 85%|████████▍ | 901/1065 [06:36<00:46,  3.51it/s]"
     ]
    },
    {
     "name": "stdout",
     "output_type": "stream",
     "text": [
      "Epoch 12: 85% , Loss: 11.391230\n"
     ]
    },
    {
     "name": "stderr",
     "output_type": "stream",
     "text": [
      " 94%|█████████▍| 1001/1065 [07:04<00:20,  3.11it/s]"
     ]
    },
    {
     "name": "stdout",
     "output_type": "stream",
     "text": [
      "Epoch 12: 94% , Loss: 10.908145\n"
     ]
    },
    {
     "name": "stderr",
     "output_type": "stream",
     "text": [
      "100%|██████████| 1065/1065 [07:22<00:00,  2.40it/s]"
     ]
    },
    {
     "name": "stdout",
     "output_type": "stream",
     "text": [
      "Epoch 12: 100% , Loss: 7.333781\n"
     ]
    },
    {
     "name": "stderr",
     "output_type": "stream",
     "text": [
      "\n"
     ]
    },
    {
     "name": "stdout",
     "output_type": "stream",
     "text": [
      "                      (F1-score: 0.0455)\n",
      "\n",
      "                      (NDCG: 0.0692)\n",
      "\n",
      "                      (MAE: 3.9399)\n",
      "\n",
      "train_loss= tensor(8.0833)\n",
      "--------------------\n"
     ]
    },
    {
     "name": "stderr",
     "output_type": "stream",
     "text": [
      "100%|██████████| 133/133 [00:17<00:00,  7.80it/s]\n"
     ]
    },
    {
     "name": "stdout",
     "output_type": "stream",
     "text": [
      "                      (F1-score: 0.0453)\n",
      "\n",
      "                      (NDCG: 0.0694)\n",
      "\n",
      "                      (MAE: 4.2754)\n",
      "\n",
      "val_loss= tensor(9.9339)\n",
      "--------------------\n"
     ]
    },
    {
     "name": "stderr",
     "output_type": "stream",
     "text": [
      "100%|██████████| 133/133 [00:16<00:00,  7.95it/s]\n"
     ]
    },
    {
     "name": "stdout",
     "output_type": "stream",
     "text": [
      "                      (F1-score: 0.0454)\n",
      "\n",
      "                      (NDCG: 0.0693)\n",
      "\n",
      "                      (MAE: 4.2838)\n",
      "\n",
      "--------------------\n",
      "[[1, {'F1-score': 4.1771094402673345e-05}, {'NDCG': 8.545867062376855e-05}, {'MAE': 4.827067669172933}, 12.228038787841797], [2, {'F1-score': 0.0}, {'NDCG': 0.0}, {'MAE': 4.172932330827067}, 10.406564712524414], [3, {'F1-score': 0.012814380349113991}, {'NDCG': 0.013789705904130648}, {'MAE': 4.044172932330827}, 10.180235862731934], [4, {'F1-score': 0.019728655244801822}, {'NDCG': 0.042426276983539186}, {'MAE': 3.924812030075188}, 10.27104377746582], [5, {'F1-score': 0.027809576345933028}, {'NDCG': 0.0508072271459925}, {'MAE': 3.9981203007518795}, 10.06705093383789], [6, {'F1-score': 0.04313347594182737}, {'NDCG': 0.06686435966871511}, {'MAE': 4.1644736842105265}, 10.020689964294434], [7, {'F1-score': 0.04513285659533101}, {'NDCG': 0.06909855229857105}, {'MAE': 3.9906015037593985}, 9.96373176574707], [8, {'F1-score': 0.045441685393334305}, {'NDCG': 0.06952707130721021}, {'MAE': 3.8843984962406015}, 10.087576866149902], [9, {'F1-score': 0.045130280851725504}, {'NDCG': 0.0688168445875154}, {'MAE': 4.075187969924812}, 9.857915878295898], [10, {'F1-score': 0.04552397942984522}, {'NDCG': 0.06929526838326924}, {'MAE': 3.9163533834586466}, 9.966713905334473], [11, {'F1-score': 0.04527954451481179}, {'NDCG': 0.06923387377852}, {'MAE': 4.2368421052631575}, 9.936558723449707], [12, {'F1-score': 0.04544124764304432}, {'NDCG': 0.06932935343102965}, {'MAE': 4.283834586466165}, 9.93392276763916]]\n",
      "-----------------------------------------------------------------------------------------\n"
     ]
    },
    {
     "name": "stderr",
     "output_type": "stream",
     "text": [
      "  0%|          | 1/1065 [00:00<04:04,  4.36it/s]"
     ]
    },
    {
     "name": "stdout",
     "output_type": "stream",
     "text": [
      "Epoch 13: 0% , Loss: 4.272194\n"
     ]
    },
    {
     "name": "stderr",
     "output_type": "stream",
     "text": [
      "  9%|▉         | 101/1065 [00:21<03:23,  4.73it/s]"
     ]
    },
    {
     "name": "stdout",
     "output_type": "stream",
     "text": [
      "Epoch 13: 9% , Loss: 3.159099\n"
     ]
    },
    {
     "name": "stderr",
     "output_type": "stream",
     "text": [
      " 19%|█▉        | 201/1065 [00:44<03:21,  4.28it/s]"
     ]
    },
    {
     "name": "stdout",
     "output_type": "stream",
     "text": [
      "Epoch 13: 19% , Loss: 5.209439\n"
     ]
    },
    {
     "name": "stderr",
     "output_type": "stream",
     "text": [
      " 28%|██▊       | 301/1065 [01:07<03:01,  4.21it/s]"
     ]
    },
    {
     "name": "stdout",
     "output_type": "stream",
     "text": [
      "Epoch 13: 28% , Loss: 7.003904\n"
     ]
    },
    {
     "name": "stderr",
     "output_type": "stream",
     "text": [
      " 38%|███▊      | 401/1065 [01:31<02:36,  4.24it/s]"
     ]
    },
    {
     "name": "stdout",
     "output_type": "stream",
     "text": [
      "Epoch 13: 38% , Loss: 1.569688\n"
     ]
    },
    {
     "name": "stderr",
     "output_type": "stream",
     "text": [
      " 47%|████▋     | 501/1065 [01:56<02:18,  4.06it/s]"
     ]
    },
    {
     "name": "stdout",
     "output_type": "stream",
     "text": [
      "Epoch 13: 47% , Loss: 8.099050\n"
     ]
    },
    {
     "name": "stderr",
     "output_type": "stream",
     "text": [
      " 56%|█████▋    | 601/1065 [02:21<01:55,  4.03it/s]"
     ]
    },
    {
     "name": "stdout",
     "output_type": "stream",
     "text": [
      "Epoch 13: 56% , Loss: 13.236321\n"
     ]
    },
    {
     "name": "stderr",
     "output_type": "stream",
     "text": [
      " 66%|██████▌   | 701/1065 [02:47<01:38,  3.71it/s]"
     ]
    },
    {
     "name": "stdout",
     "output_type": "stream",
     "text": [
      "Epoch 13: 66% , Loss: 5.965711\n"
     ]
    },
    {
     "name": "stderr",
     "output_type": "stream",
     "text": [
      " 75%|███████▌  | 801/1065 [03:13<01:08,  3.87it/s]"
     ]
    },
    {
     "name": "stdout",
     "output_type": "stream",
     "text": [
      "Epoch 13: 75% , Loss: 3.683656\n"
     ]
    },
    {
     "name": "stderr",
     "output_type": "stream",
     "text": [
      " 85%|████████▍ | 901/1065 [03:40<00:42,  3.83it/s]"
     ]
    },
    {
     "name": "stdout",
     "output_type": "stream",
     "text": [
      "Epoch 13: 85% , Loss: 1.686755\n"
     ]
    },
    {
     "name": "stderr",
     "output_type": "stream",
     "text": [
      " 94%|█████████▍| 1001/1065 [04:08<00:17,  3.71it/s]"
     ]
    },
    {
     "name": "stdout",
     "output_type": "stream",
     "text": [
      "Epoch 13: 94% , Loss: 1.613798\n"
     ]
    },
    {
     "name": "stderr",
     "output_type": "stream",
     "text": [
      "100%|██████████| 1065/1065 [04:27<00:00,  3.99it/s]"
     ]
    },
    {
     "name": "stdout",
     "output_type": "stream",
     "text": [
      "Epoch 13: 100% , Loss: 43.122063\n"
     ]
    },
    {
     "name": "stderr",
     "output_type": "stream",
     "text": [
      "\n"
     ]
    },
    {
     "name": "stdout",
     "output_type": "stream",
     "text": [
      "                      (F1-score: 0.0453)\n",
      "\n",
      "                      (NDCG: 0.0690)\n",
      "\n",
      "                      (MAE: 3.9495)\n",
      "\n",
      "train_loss= tensor(8.0808)\n",
      "--------------------\n"
     ]
    },
    {
     "name": "stderr",
     "output_type": "stream",
     "text": [
      "100%|██████████| 133/133 [00:17<00:00,  7.79it/s]\n"
     ]
    },
    {
     "name": "stdout",
     "output_type": "stream",
     "text": [
      "                      (F1-score: 0.0463)\n",
      "\n",
      "                      (NDCG: 0.0700)\n",
      "\n",
      "                      (MAE: 4.0451)\n",
      "\n",
      "val_loss= tensor(9.7837)\n",
      "--------------------\n"
     ]
    },
    {
     "name": "stderr",
     "output_type": "stream",
     "text": [
      "100%|██████████| 133/133 [00:16<00:00,  7.87it/s]\n"
     ]
    },
    {
     "name": "stdout",
     "output_type": "stream",
     "text": [
      "                      (F1-score: 0.0464)\n",
      "\n",
      "                      (NDCG: 0.0697)\n",
      "\n",
      "                      (MAE: 4.0526)\n",
      "\n",
      "--------------------\n",
      "[[1, {'F1-score': 4.1771094402673345e-05}, {'NDCG': 8.545867062376855e-05}, {'MAE': 4.827067669172933}, 12.228038787841797], [2, {'F1-score': 0.0}, {'NDCG': 0.0}, {'MAE': 4.172932330827067}, 10.406564712524414], [3, {'F1-score': 0.012814380349113991}, {'NDCG': 0.013789705904130648}, {'MAE': 4.044172932330827}, 10.180235862731934], [4, {'F1-score': 0.019728655244801822}, {'NDCG': 0.042426276983539186}, {'MAE': 3.924812030075188}, 10.27104377746582], [5, {'F1-score': 0.027809576345933028}, {'NDCG': 0.0508072271459925}, {'MAE': 3.9981203007518795}, 10.06705093383789], [6, {'F1-score': 0.04313347594182737}, {'NDCG': 0.06686435966871511}, {'MAE': 4.1644736842105265}, 10.020689964294434], [7, {'F1-score': 0.04513285659533101}, {'NDCG': 0.06909855229857105}, {'MAE': 3.9906015037593985}, 9.96373176574707], [8, {'F1-score': 0.045441685393334305}, {'NDCG': 0.06952707130721021}, {'MAE': 3.8843984962406015}, 10.087576866149902], [9, {'F1-score': 0.045130280851725504}, {'NDCG': 0.0688168445875154}, {'MAE': 4.075187969924812}, 9.857915878295898], [10, {'F1-score': 0.04552397942984522}, {'NDCG': 0.06929526838326924}, {'MAE': 3.9163533834586466}, 9.966713905334473], [11, {'F1-score': 0.04527954451481179}, {'NDCG': 0.06923387377852}, {'MAE': 4.2368421052631575}, 9.936558723449707], [12, {'F1-score': 0.04544124764304432}, {'NDCG': 0.06932935343102965}, {'MAE': 4.283834586466165}, 9.93392276763916], [13, {'F1-score': 0.04635016026428295}, {'NDCG': 0.06971331463454473}, {'MAE': 4.052631578947368}, 9.783748626708984]]\n",
      "-----------------------------------------------------------------------------------------\n"
     ]
    },
    {
     "name": "stderr",
     "output_type": "stream",
     "text": [
      "  0%|          | 2/1065 [00:00<03:38,  4.86it/s]"
     ]
    },
    {
     "name": "stdout",
     "output_type": "stream",
     "text": [
      "Epoch 14: 0% , Loss: 1.722717\n"
     ]
    },
    {
     "name": "stderr",
     "output_type": "stream",
     "text": [
      "  9%|▉         | 101/1065 [00:22<03:43,  4.31it/s]"
     ]
    },
    {
     "name": "stdout",
     "output_type": "stream",
     "text": [
      "Epoch 14: 9% , Loss: 3.423533\n"
     ]
    },
    {
     "name": "stderr",
     "output_type": "stream",
     "text": [
      " 19%|█▉        | 201/1065 [00:45<03:08,  4.59it/s]"
     ]
    },
    {
     "name": "stdout",
     "output_type": "stream",
     "text": [
      "Epoch 14: 19% , Loss: 68.285522\n"
     ]
    },
    {
     "name": "stderr",
     "output_type": "stream",
     "text": [
      " 28%|██▊       | 301/1065 [01:08<02:51,  4.46it/s]"
     ]
    },
    {
     "name": "stdout",
     "output_type": "stream",
     "text": [
      "Epoch 14: 28% , Loss: 22.570629\n"
     ]
    },
    {
     "name": "stderr",
     "output_type": "stream",
     "text": [
      " 38%|███▊      | 401/1065 [01:32<02:41,  4.10it/s]"
     ]
    },
    {
     "name": "stdout",
     "output_type": "stream",
     "text": [
      "Epoch 14: 38% , Loss: 2.789822\n"
     ]
    },
    {
     "name": "stderr",
     "output_type": "stream",
     "text": [
      " 47%|████▋     | 501/1065 [01:56<02:12,  4.25it/s]"
     ]
    },
    {
     "name": "stdout",
     "output_type": "stream",
     "text": [
      "Epoch 14: 47% , Loss: 0.963228\n"
     ]
    },
    {
     "name": "stderr",
     "output_type": "stream",
     "text": [
      " 56%|█████▋    | 601/1065 [02:21<01:54,  4.07it/s]"
     ]
    },
    {
     "name": "stdout",
     "output_type": "stream",
     "text": [
      "Epoch 14: 56% , Loss: 11.547993\n"
     ]
    },
    {
     "name": "stderr",
     "output_type": "stream",
     "text": [
      " 66%|██████▌   | 701/1065 [02:47<01:39,  3.68it/s]"
     ]
    },
    {
     "name": "stdout",
     "output_type": "stream",
     "text": [
      "Epoch 14: 66% , Loss: 3.717853\n"
     ]
    },
    {
     "name": "stderr",
     "output_type": "stream",
     "text": [
      " 75%|███████▌  | 801/1065 [03:14<01:10,  3.75it/s]"
     ]
    },
    {
     "name": "stdout",
     "output_type": "stream",
     "text": [
      "Epoch 14: 75% , Loss: 17.793846\n"
     ]
    },
    {
     "name": "stderr",
     "output_type": "stream",
     "text": [
      " 85%|████████▍ | 901/1065 [03:41<00:49,  3.33it/s]"
     ]
    },
    {
     "name": "stdout",
     "output_type": "stream",
     "text": [
      "Epoch 14: 85% , Loss: 2.349420\n"
     ]
    },
    {
     "name": "stderr",
     "output_type": "stream",
     "text": [
      " 94%|█████████▍| 1001/1065 [04:09<00:18,  3.51it/s]"
     ]
    },
    {
     "name": "stdout",
     "output_type": "stream",
     "text": [
      "Epoch 14: 94% , Loss: 2.021710\n"
     ]
    },
    {
     "name": "stderr",
     "output_type": "stream",
     "text": [
      "100%|██████████| 1065/1065 [04:28<00:00,  3.97it/s]"
     ]
    },
    {
     "name": "stdout",
     "output_type": "stream",
     "text": [
      "Epoch 14: 100% , Loss: 6.621449\n"
     ]
    },
    {
     "name": "stderr",
     "output_type": "stream",
     "text": [
      "\n"
     ]
    },
    {
     "name": "stdout",
     "output_type": "stream",
     "text": [
      "                      (F1-score: 0.0452)\n",
      "\n",
      "                      (NDCG: 0.0688)\n",
      "\n",
      "                      (MAE: 3.9460)\n",
      "\n",
      "train_loss= tensor(8.0549)\n",
      "--------------------\n"
     ]
    },
    {
     "name": "stderr",
     "output_type": "stream",
     "text": [
      "100%|██████████| 133/133 [00:16<00:00,  7.89it/s]\n"
     ]
    },
    {
     "name": "stdout",
     "output_type": "stream",
     "text": [
      "                      (F1-score: 0.0460)\n",
      "\n",
      "                      (NDCG: 0.0695)\n",
      "\n",
      "                      (MAE: 4.2885)\n",
      "\n",
      "val_loss= tensor(10.0101)\n",
      "--------------------\n"
     ]
    },
    {
     "name": "stderr",
     "output_type": "stream",
     "text": [
      "100%|██████████| 133/133 [00:16<00:00,  7.87it/s]\n"
     ]
    },
    {
     "name": "stdout",
     "output_type": "stream",
     "text": [
      "                      (F1-score: 0.0460)\n",
      "\n",
      "                      (NDCG: 0.0698)\n",
      "\n",
      "                      (MAE: 4.2942)\n",
      "\n",
      "--------------------\n",
      "[[1, {'F1-score': 4.1771094402673345e-05}, {'NDCG': 8.545867062376855e-05}, {'MAE': 4.827067669172933}, 12.228038787841797], [2, {'F1-score': 0.0}, {'NDCG': 0.0}, {'MAE': 4.172932330827067}, 10.406564712524414], [3, {'F1-score': 0.012814380349113991}, {'NDCG': 0.013789705904130648}, {'MAE': 4.044172932330827}, 10.180235862731934], [4, {'F1-score': 0.019728655244801822}, {'NDCG': 0.042426276983539186}, {'MAE': 3.924812030075188}, 10.27104377746582], [5, {'F1-score': 0.027809576345933028}, {'NDCG': 0.0508072271459925}, {'MAE': 3.9981203007518795}, 10.06705093383789], [6, {'F1-score': 0.04313347594182737}, {'NDCG': 0.06686435966871511}, {'MAE': 4.1644736842105265}, 10.020689964294434], [7, {'F1-score': 0.04513285659533101}, {'NDCG': 0.06909855229857105}, {'MAE': 3.9906015037593985}, 9.96373176574707], [8, {'F1-score': 0.045441685393334305}, {'NDCG': 0.06952707130721021}, {'MAE': 3.8843984962406015}, 10.087576866149902], [9, {'F1-score': 0.045130280851725504}, {'NDCG': 0.0688168445875154}, {'MAE': 4.075187969924812}, 9.857915878295898], [10, {'F1-score': 0.04552397942984522}, {'NDCG': 0.06929526838326924}, {'MAE': 3.9163533834586466}, 9.966713905334473], [11, {'F1-score': 0.04527954451481179}, {'NDCG': 0.06923387377852}, {'MAE': 4.2368421052631575}, 9.936558723449707], [12, {'F1-score': 0.04544124764304432}, {'NDCG': 0.06932935343102965}, {'MAE': 4.283834586466165}, 9.93392276763916], [13, {'F1-score': 0.04635016026428295}, {'NDCG': 0.06971331463454473}, {'MAE': 4.052631578947368}, 9.783748626708984], [14, {'F1-score': 0.04598700006743969}, {'NDCG': 0.06980015553316955}, {'MAE': 4.294172932330827}, 10.010079383850098]]\n",
      "-----------------------------------------------------------------------------------------\n"
     ]
    },
    {
     "name": "stderr",
     "output_type": "stream",
     "text": [
      "  0%|          | 2/1065 [00:00<03:35,  4.93it/s]"
     ]
    },
    {
     "name": "stdout",
     "output_type": "stream",
     "text": [
      "Epoch 15: 0% , Loss: 2.498472\n"
     ]
    },
    {
     "name": "stderr",
     "output_type": "stream",
     "text": [
      "  9%|▉         | 101/1065 [00:22<03:31,  4.56it/s]"
     ]
    },
    {
     "name": "stdout",
     "output_type": "stream",
     "text": [
      "Epoch 15: 9% , Loss: 10.720948\n"
     ]
    },
    {
     "name": "stderr",
     "output_type": "stream",
     "text": [
      " 19%|█▉        | 201/1065 [00:44<03:09,  4.57it/s]"
     ]
    },
    {
     "name": "stdout",
     "output_type": "stream",
     "text": [
      "Epoch 15: 19% , Loss: 2.495188\n"
     ]
    },
    {
     "name": "stderr",
     "output_type": "stream",
     "text": [
      " 28%|██▊       | 301/1065 [01:08<03:06,  4.11it/s]"
     ]
    },
    {
     "name": "stdout",
     "output_type": "stream",
     "text": [
      "Epoch 15: 28% , Loss: 6.268511\n"
     ]
    },
    {
     "name": "stderr",
     "output_type": "stream",
     "text": [
      " 38%|███▊      | 401/1065 [01:32<02:41,  4.12it/s]"
     ]
    },
    {
     "name": "stdout",
     "output_type": "stream",
     "text": [
      "Epoch 15: 38% , Loss: 1.634836\n"
     ]
    },
    {
     "name": "stderr",
     "output_type": "stream",
     "text": [
      " 47%|████▋     | 501/1065 [01:56<02:20,  4.02it/s]"
     ]
    },
    {
     "name": "stdout",
     "output_type": "stream",
     "text": [
      "Epoch 15: 47% , Loss: 2.852001\n"
     ]
    },
    {
     "name": "stderr",
     "output_type": "stream",
     "text": [
      " 56%|█████▋    | 601/1065 [02:22<01:55,  4.03it/s]"
     ]
    },
    {
     "name": "stdout",
     "output_type": "stream",
     "text": [
      "Epoch 15: 56% , Loss: 2.190843\n"
     ]
    },
    {
     "name": "stderr",
     "output_type": "stream",
     "text": [
      " 66%|██████▌   | 701/1065 [02:58<04:24,  1.38it/s]"
     ]
    },
    {
     "name": "stdout",
     "output_type": "stream",
     "text": [
      "Epoch 15: 66% , Loss: 3.364130\n"
     ]
    },
    {
     "name": "stderr",
     "output_type": "stream",
     "text": [
      " 75%|███████▌  | 801/1065 [03:56<02:27,  1.79it/s]"
     ]
    },
    {
     "name": "stdout",
     "output_type": "stream",
     "text": [
      "Epoch 15: 75% , Loss: 6.589821\n"
     ]
    },
    {
     "name": "stderr",
     "output_type": "stream",
     "text": [
      " 85%|████████▍ | 901/1065 [04:58<01:49,  1.50it/s]"
     ]
    },
    {
     "name": "stdout",
     "output_type": "stream",
     "text": [
      "Epoch 15: 85% , Loss: 2.686239\n"
     ]
    },
    {
     "name": "stderr",
     "output_type": "stream",
     "text": [
      " 94%|█████████▍| 1001/1065 [05:57<00:35,  1.80it/s]"
     ]
    },
    {
     "name": "stdout",
     "output_type": "stream",
     "text": [
      "Epoch 15: 94% , Loss: 7.623301\n"
     ]
    },
    {
     "name": "stderr",
     "output_type": "stream",
     "text": [
      "100%|██████████| 1065/1065 [06:35<00:00,  2.70it/s]"
     ]
    },
    {
     "name": "stdout",
     "output_type": "stream",
     "text": [
      "Epoch 15: 100% , Loss: 2.394703\n"
     ]
    },
    {
     "name": "stderr",
     "output_type": "stream",
     "text": [
      "\n"
     ]
    },
    {
     "name": "stdout",
     "output_type": "stream",
     "text": [
      "                      (F1-score: 0.0453)\n",
      "\n",
      "                      (NDCG: 0.0689)\n",
      "\n",
      "                      (MAE: 3.9373)\n",
      "\n",
      "train_loss= tensor(8.0485)\n",
      "--------------------\n"
     ]
    },
    {
     "name": "stderr",
     "output_type": "stream",
     "text": [
      "100%|██████████| 133/133 [00:51<00:00,  2.58it/s]\n"
     ]
    },
    {
     "name": "stdout",
     "output_type": "stream",
     "text": [
      "                      (F1-score: 0.0464)\n",
      "\n",
      "                      (NDCG: 0.0699)\n",
      "\n",
      "                      (MAE: 3.9258)\n",
      "\n",
      "val_loss= tensor(9.8632)\n",
      "--------------------\n"
     ]
    },
    {
     "name": "stderr",
     "output_type": "stream",
     "text": [
      "100%|██████████| 133/133 [00:52<00:00,  2.54it/s]\n"
     ]
    },
    {
     "name": "stdout",
     "output_type": "stream",
     "text": [
      "                      (F1-score: 0.0456)\n",
      "\n",
      "                      (NDCG: 0.0690)\n",
      "\n",
      "                      (MAE: 3.9352)\n",
      "\n",
      "--------------------\n",
      "[[1, {'F1-score': 4.1771094402673345e-05}, {'NDCG': 8.545867062376855e-05}, {'MAE': 4.827067669172933}, 12.228038787841797], [2, {'F1-score': 0.0}, {'NDCG': 0.0}, {'MAE': 4.172932330827067}, 10.406564712524414], [3, {'F1-score': 0.012814380349113991}, {'NDCG': 0.013789705904130648}, {'MAE': 4.044172932330827}, 10.180235862731934], [4, {'F1-score': 0.019728655244801822}, {'NDCG': 0.042426276983539186}, {'MAE': 3.924812030075188}, 10.27104377746582], [5, {'F1-score': 0.027809576345933028}, {'NDCG': 0.0508072271459925}, {'MAE': 3.9981203007518795}, 10.06705093383789], [6, {'F1-score': 0.04313347594182737}, {'NDCG': 0.06686435966871511}, {'MAE': 4.1644736842105265}, 10.020689964294434], [7, {'F1-score': 0.04513285659533101}, {'NDCG': 0.06909855229857105}, {'MAE': 3.9906015037593985}, 9.96373176574707], [8, {'F1-score': 0.045441685393334305}, {'NDCG': 0.06952707130721021}, {'MAE': 3.8843984962406015}, 10.087576866149902], [9, {'F1-score': 0.045130280851725504}, {'NDCG': 0.0688168445875154}, {'MAE': 4.075187969924812}, 9.857915878295898], [10, {'F1-score': 0.04552397942984522}, {'NDCG': 0.06929526838326924}, {'MAE': 3.9163533834586466}, 9.966713905334473], [11, {'F1-score': 0.04527954451481179}, {'NDCG': 0.06923387377852}, {'MAE': 4.2368421052631575}, 9.936558723449707], [12, {'F1-score': 0.04544124764304432}, {'NDCG': 0.06932935343102965}, {'MAE': 4.283834586466165}, 9.93392276763916], [13, {'F1-score': 0.04635016026428295}, {'NDCG': 0.06971331463454473}, {'MAE': 4.052631578947368}, 9.783748626708984], [14, {'F1-score': 0.04598700006743969}, {'NDCG': 0.06980015553316955}, {'MAE': 4.294172932330827}, 10.010079383850098], [15, {'F1-score': 0.04557546047238463}, {'NDCG': 0.06904085727646611}, {'MAE': 3.9351503759398496}, 9.863205909729004]]\n",
      "-----------------------------------------------------------------------------------------\n"
     ]
    },
    {
     "name": "stderr",
     "output_type": "stream",
     "text": [
      "  0%|          | 1/1065 [00:00<15:03,  1.18it/s]"
     ]
    },
    {
     "name": "stdout",
     "output_type": "stream",
     "text": [
      "Epoch 16: 0% , Loss: 4.019419\n"
     ]
    },
    {
     "name": "stderr",
     "output_type": "stream",
     "text": [
      "  9%|▉         | 101/1065 [00:50<07:45,  2.07it/s]"
     ]
    },
    {
     "name": "stdout",
     "output_type": "stream",
     "text": [
      "Epoch 16: 9% , Loss: 5.727976\n"
     ]
    },
    {
     "name": "stderr",
     "output_type": "stream",
     "text": [
      " 19%|█▉        | 201/1065 [01:42<06:07,  2.35it/s]"
     ]
    },
    {
     "name": "stdout",
     "output_type": "stream",
     "text": [
      "Epoch 16: 19% , Loss: 6.482346\n"
     ]
    },
    {
     "name": "stderr",
     "output_type": "stream",
     "text": [
      " 28%|██▊       | 301/1065 [02:32<06:54,  1.84it/s]"
     ]
    },
    {
     "name": "stdout",
     "output_type": "stream",
     "text": [
      "Epoch 16: 28% , Loss: 12.398651\n"
     ]
    },
    {
     "name": "stderr",
     "output_type": "stream",
     "text": [
      " 38%|███▊      | 401/1065 [03:25<05:48,  1.90it/s]"
     ]
    },
    {
     "name": "stdout",
     "output_type": "stream",
     "text": [
      "Epoch 16: 38% , Loss: 11.508228\n"
     ]
    },
    {
     "name": "stderr",
     "output_type": "stream",
     "text": [
      " 47%|████▋     | 501/1065 [04:15<05:23,  1.74it/s]"
     ]
    },
    {
     "name": "stdout",
     "output_type": "stream",
     "text": [
      "Epoch 16: 47% , Loss: 10.587963\n"
     ]
    },
    {
     "name": "stderr",
     "output_type": "stream",
     "text": [
      " 56%|█████▋    | 601/1065 [05:04<03:45,  2.06it/s]"
     ]
    },
    {
     "name": "stdout",
     "output_type": "stream",
     "text": [
      "Epoch 16: 56% , Loss: 21.529360\n"
     ]
    },
    {
     "name": "stderr",
     "output_type": "stream",
     "text": [
      " 66%|██████▌   | 701/1065 [05:58<03:11,  1.90it/s]"
     ]
    },
    {
     "name": "stdout",
     "output_type": "stream",
     "text": [
      "Epoch 16: 66% , Loss: 4.024277\n"
     ]
    },
    {
     "name": "stderr",
     "output_type": "stream",
     "text": [
      " 75%|███████▌  | 801/1065 [06:59<02:20,  1.88it/s]"
     ]
    },
    {
     "name": "stdout",
     "output_type": "stream",
     "text": [
      "Epoch 16: 75% , Loss: 4.931441\n"
     ]
    },
    {
     "name": "stderr",
     "output_type": "stream",
     "text": [
      " 85%|████████▍ | 901/1065 [08:00<01:53,  1.44it/s]"
     ]
    },
    {
     "name": "stdout",
     "output_type": "stream",
     "text": [
      "Epoch 16: 85% , Loss: 31.532461\n"
     ]
    },
    {
     "name": "stderr",
     "output_type": "stream",
     "text": [
      " 94%|█████████▍| 1001/1065 [09:00<00:57,  1.12it/s]"
     ]
    },
    {
     "name": "stdout",
     "output_type": "stream",
     "text": [
      "Epoch 16: 94% , Loss: 3.204492\n"
     ]
    },
    {
     "name": "stderr",
     "output_type": "stream",
     "text": [
      "100%|██████████| 1065/1065 [09:36<00:00,  1.85it/s]"
     ]
    },
    {
     "name": "stdout",
     "output_type": "stream",
     "text": [
      "Epoch 16: 100% , Loss: 5.703580\n"
     ]
    },
    {
     "name": "stderr",
     "output_type": "stream",
     "text": [
      "\n"
     ]
    },
    {
     "name": "stdout",
     "output_type": "stream",
     "text": [
      "                      (F1-score: 0.0453)\n",
      "\n",
      "                      (NDCG: 0.0688)\n",
      "\n",
      "                      (MAE: 3.9304)\n",
      "\n",
      "train_loss= tensor(8.0537)\n",
      "--------------------\n"
     ]
    },
    {
     "name": "stderr",
     "output_type": "stream",
     "text": [
      "100%|██████████| 133/133 [00:52<00:00,  2.53it/s]\n"
     ]
    },
    {
     "name": "stdout",
     "output_type": "stream",
     "text": [
      "                      (F1-score: 0.0471)\n",
      "\n",
      "                      (NDCG: 0.0705)\n",
      "\n",
      "                      (MAE: 4.1175)\n",
      "\n",
      "val_loss= tensor(9.7911)\n",
      "--------------------\n"
     ]
    },
    {
     "name": "stderr",
     "output_type": "stream",
     "text": [
      "100%|██████████| 133/133 [00:52<00:00,  2.53it/s]\n"
     ]
    },
    {
     "name": "stdout",
     "output_type": "stream",
     "text": [
      "                      (F1-score: 0.0460)\n",
      "\n",
      "                      (NDCG: 0.0695)\n",
      "\n",
      "                      (MAE: 4.1118)\n",
      "\n",
      "--------------------\n",
      "[[1, {'F1-score': 4.1771094402673345e-05}, {'NDCG': 8.545867062376855e-05}, {'MAE': 4.827067669172933}, 12.228038787841797], [2, {'F1-score': 0.0}, {'NDCG': 0.0}, {'MAE': 4.172932330827067}, 10.406564712524414], [3, {'F1-score': 0.012814380349113991}, {'NDCG': 0.013789705904130648}, {'MAE': 4.044172932330827}, 10.180235862731934], [4, {'F1-score': 0.019728655244801822}, {'NDCG': 0.042426276983539186}, {'MAE': 3.924812030075188}, 10.27104377746582], [5, {'F1-score': 0.027809576345933028}, {'NDCG': 0.0508072271459925}, {'MAE': 3.9981203007518795}, 10.06705093383789], [6, {'F1-score': 0.04313347594182737}, {'NDCG': 0.06686435966871511}, {'MAE': 4.1644736842105265}, 10.020689964294434], [7, {'F1-score': 0.04513285659533101}, {'NDCG': 0.06909855229857105}, {'MAE': 3.9906015037593985}, 9.96373176574707], [8, {'F1-score': 0.045441685393334305}, {'NDCG': 0.06952707130721021}, {'MAE': 3.8843984962406015}, 10.087576866149902], [9, {'F1-score': 0.045130280851725504}, {'NDCG': 0.0688168445875154}, {'MAE': 4.075187969924812}, 9.857915878295898], [10, {'F1-score': 0.04552397942984522}, {'NDCG': 0.06929526838326924}, {'MAE': 3.9163533834586466}, 9.966713905334473], [11, {'F1-score': 0.04527954451481179}, {'NDCG': 0.06923387377852}, {'MAE': 4.2368421052631575}, 9.936558723449707], [12, {'F1-score': 0.04544124764304432}, {'NDCG': 0.06932935343102965}, {'MAE': 4.283834586466165}, 9.93392276763916], [13, {'F1-score': 0.04635016026428295}, {'NDCG': 0.06971331463454473}, {'MAE': 4.052631578947368}, 9.783748626708984], [14, {'F1-score': 0.04598700006743969}, {'NDCG': 0.06980015553316955}, {'MAE': 4.294172932330827}, 10.010079383850098], [15, {'F1-score': 0.04557546047238463}, {'NDCG': 0.06904085727646611}, {'MAE': 3.9351503759398496}, 9.863205909729004], [16, {'F1-score': 0.04600217515605764}, {'NDCG': 0.06953545096960563}, {'MAE': 4.1118421052631575}, 9.791077613830566]]\n",
      "-----------------------------------------------------------------------------------------\n"
     ]
    },
    {
     "name": "stderr",
     "output_type": "stream",
     "text": [
      "  0%|          | 1/1065 [00:00<07:51,  2.26it/s]"
     ]
    },
    {
     "name": "stdout",
     "output_type": "stream",
     "text": [
      "Epoch 17: 0% , Loss: 28.350351\n"
     ]
    },
    {
     "name": "stderr",
     "output_type": "stream",
     "text": [
      "  9%|▉         | 101/1065 [00:49<10:46,  1.49it/s]"
     ]
    },
    {
     "name": "stdout",
     "output_type": "stream",
     "text": [
      "Epoch 17: 9% , Loss: 82.007736\n"
     ]
    },
    {
     "name": "stderr",
     "output_type": "stream",
     "text": [
      " 19%|█▉        | 201/1065 [01:40<06:34,  2.19it/s]"
     ]
    },
    {
     "name": "stdout",
     "output_type": "stream",
     "text": [
      "Epoch 17: 19% , Loss: 7.953668\n"
     ]
    },
    {
     "name": "stderr",
     "output_type": "stream",
     "text": [
      " 28%|██▊       | 301/1065 [02:31<06:55,  1.84it/s]"
     ]
    },
    {
     "name": "stdout",
     "output_type": "stream",
     "text": [
      "Epoch 17: 28% , Loss: 3.700540\n"
     ]
    },
    {
     "name": "stderr",
     "output_type": "stream",
     "text": [
      " 38%|███▊      | 401/1065 [03:24<06:13,  1.78it/s]"
     ]
    },
    {
     "name": "stdout",
     "output_type": "stream",
     "text": [
      "Epoch 17: 38% , Loss: 3.550739\n"
     ]
    },
    {
     "name": "stderr",
     "output_type": "stream",
     "text": [
      " 47%|████▋     | 501/1065 [04:14<04:07,  2.27it/s]"
     ]
    },
    {
     "name": "stdout",
     "output_type": "stream",
     "text": [
      "Epoch 17: 47% , Loss: 14.725822\n"
     ]
    },
    {
     "name": "stderr",
     "output_type": "stream",
     "text": [
      " 56%|█████▋    | 601/1065 [05:05<04:05,  1.89it/s]"
     ]
    },
    {
     "name": "stdout",
     "output_type": "stream",
     "text": [
      "Epoch 17: 56% , Loss: 1.536963\n"
     ]
    },
    {
     "name": "stderr",
     "output_type": "stream",
     "text": [
      " 66%|██████▌   | 701/1065 [05:57<03:25,  1.77it/s]"
     ]
    },
    {
     "name": "stdout",
     "output_type": "stream",
     "text": [
      "Epoch 17: 66% , Loss: 5.968452\n"
     ]
    },
    {
     "name": "stderr",
     "output_type": "stream",
     "text": [
      " 75%|███████▌  | 801/1065 [06:57<01:36,  2.72it/s]"
     ]
    },
    {
     "name": "stdout",
     "output_type": "stream",
     "text": [
      "Epoch 17: 75% , Loss: 2.395062\n"
     ]
    },
    {
     "name": "stderr",
     "output_type": "stream",
     "text": [
      " 85%|████████▍ | 901/1065 [07:24<00:43,  3.80it/s]"
     ]
    },
    {
     "name": "stdout",
     "output_type": "stream",
     "text": [
      "Epoch 17: 85% , Loss: 4.207467\n"
     ]
    },
    {
     "name": "stderr",
     "output_type": "stream",
     "text": [
      " 94%|█████████▍| 1001/1065 [07:51<00:16,  3.81it/s]"
     ]
    },
    {
     "name": "stdout",
     "output_type": "stream",
     "text": [
      "Epoch 17: 94% , Loss: 8.132550\n"
     ]
    },
    {
     "name": "stderr",
     "output_type": "stream",
     "text": [
      "100%|██████████| 1065/1065 [08:09<00:00,  2.18it/s]"
     ]
    },
    {
     "name": "stdout",
     "output_type": "stream",
     "text": [
      "Epoch 17: 100% , Loss: 5.286747\n"
     ]
    },
    {
     "name": "stderr",
     "output_type": "stream",
     "text": [
      "\n"
     ]
    },
    {
     "name": "stdout",
     "output_type": "stream",
     "text": [
      "                      (F1-score: 0.0450)\n",
      "\n",
      "                      (NDCG: 0.0687)\n",
      "\n",
      "                      (MAE: 3.9326)\n",
      "\n",
      "train_loss= tensor(8.0212)\n",
      "--------------------\n"
     ]
    },
    {
     "name": "stderr",
     "output_type": "stream",
     "text": [
      "100%|██████████| 133/133 [00:17<00:00,  7.82it/s]\n"
     ]
    },
    {
     "name": "stdout",
     "output_type": "stream",
     "text": [
      "                      (F1-score: 0.0445)\n",
      "\n",
      "                      (NDCG: 0.0689)\n",
      "\n",
      "                      (MAE: 4.4286)\n",
      "\n",
      "val_loss= tensor(10.3029)\n",
      "--------------------\n"
     ]
    },
    {
     "name": "stderr",
     "output_type": "stream",
     "text": [
      "100%|██████████| 133/133 [00:16<00:00,  8.01it/s]\n"
     ]
    },
    {
     "name": "stdout",
     "output_type": "stream",
     "text": [
      "                      (F1-score: 0.0445)\n",
      "\n",
      "                      (NDCG: 0.0689)\n",
      "\n",
      "                      (MAE: 4.4333)\n",
      "\n",
      "--------------------\n",
      "[[1, {'F1-score': 4.1771094402673345e-05}, {'NDCG': 8.545867062376855e-05}, {'MAE': 4.827067669172933}, 12.228038787841797], [2, {'F1-score': 0.0}, {'NDCG': 0.0}, {'MAE': 4.172932330827067}, 10.406564712524414], [3, {'F1-score': 0.012814380349113991}, {'NDCG': 0.013789705904130648}, {'MAE': 4.044172932330827}, 10.180235862731934], [4, {'F1-score': 0.019728655244801822}, {'NDCG': 0.042426276983539186}, {'MAE': 3.924812030075188}, 10.27104377746582], [5, {'F1-score': 0.027809576345933028}, {'NDCG': 0.0508072271459925}, {'MAE': 3.9981203007518795}, 10.06705093383789], [6, {'F1-score': 0.04313347594182737}, {'NDCG': 0.06686435966871511}, {'MAE': 4.1644736842105265}, 10.020689964294434], [7, {'F1-score': 0.04513285659533101}, {'NDCG': 0.06909855229857105}, {'MAE': 3.9906015037593985}, 9.96373176574707], [8, {'F1-score': 0.045441685393334305}, {'NDCG': 0.06952707130721021}, {'MAE': 3.8843984962406015}, 10.087576866149902], [9, {'F1-score': 0.045130280851725504}, {'NDCG': 0.0688168445875154}, {'MAE': 4.075187969924812}, 9.857915878295898], [10, {'F1-score': 0.04552397942984522}, {'NDCG': 0.06929526838326924}, {'MAE': 3.9163533834586466}, 9.966713905334473], [11, {'F1-score': 0.04527954451481179}, {'NDCG': 0.06923387377852}, {'MAE': 4.2368421052631575}, 9.936558723449707], [12, {'F1-score': 0.04544124764304432}, {'NDCG': 0.06932935343102965}, {'MAE': 4.283834586466165}, 9.93392276763916], [13, {'F1-score': 0.04635016026428295}, {'NDCG': 0.06971331463454473}, {'MAE': 4.052631578947368}, 9.783748626708984], [14, {'F1-score': 0.04598700006743969}, {'NDCG': 0.06980015553316955}, {'MAE': 4.294172932330827}, 10.010079383850098], [15, {'F1-score': 0.04557546047238463}, {'NDCG': 0.06904085727646611}, {'MAE': 3.9351503759398496}, 9.863205909729004], [16, {'F1-score': 0.04600217515605764}, {'NDCG': 0.06953545096960563}, {'MAE': 4.1118421052631575}, 9.791077613830566], [17, {'F1-score': 0.0444614388548676}, {'NDCG': 0.06885833612510137}, {'MAE': 4.43327067669173}, 10.302906036376953]]\n",
      "-----------------------------------------------------------------------------------------\n"
     ]
    },
    {
     "name": "stderr",
     "output_type": "stream",
     "text": [
      "  0%|          | 2/1065 [00:00<02:42,  6.52it/s]"
     ]
    },
    {
     "name": "stdout",
     "output_type": "stream",
     "text": [
      "Epoch 18: 0% , Loss: 13.545792\n"
     ]
    },
    {
     "name": "stderr",
     "output_type": "stream",
     "text": [
      "  9%|▉         | 101/1065 [00:41<10:05,  1.59it/s]"
     ]
    },
    {
     "name": "stdout",
     "output_type": "stream",
     "text": [
      "Epoch 18: 9% , Loss: 1.677678\n"
     ]
    },
    {
     "name": "stderr",
     "output_type": "stream",
     "text": [
      " 19%|█▉        | 201/1065 [01:37<07:26,  1.93it/s]"
     ]
    },
    {
     "name": "stdout",
     "output_type": "stream",
     "text": [
      "Epoch 18: 19% , Loss: 4.274988\n"
     ]
    },
    {
     "name": "stderr",
     "output_type": "stream",
     "text": [
      " 28%|██▊       | 301/1065 [02:34<06:46,  1.88it/s]"
     ]
    },
    {
     "name": "stdout",
     "output_type": "stream",
     "text": [
      "Epoch 18: 28% , Loss: 2.984927\n"
     ]
    },
    {
     "name": "stderr",
     "output_type": "stream",
     "text": [
      " 38%|███▊      | 401/1065 [03:29<06:28,  1.71it/s]"
     ]
    },
    {
     "name": "stdout",
     "output_type": "stream",
     "text": [
      "Epoch 18: 38% , Loss: 2.003647\n"
     ]
    },
    {
     "name": "stderr",
     "output_type": "stream",
     "text": [
      " 47%|████▋     | 501/1065 [04:21<05:12,  1.81it/s]"
     ]
    },
    {
     "name": "stdout",
     "output_type": "stream",
     "text": [
      "Epoch 18: 47% , Loss: 4.776793\n"
     ]
    },
    {
     "name": "stderr",
     "output_type": "stream",
     "text": [
      " 56%|█████▋    | 601/1065 [05:16<03:48,  2.03it/s]"
     ]
    },
    {
     "name": "stdout",
     "output_type": "stream",
     "text": [
      "Epoch 18: 56% , Loss: 6.210422\n"
     ]
    },
    {
     "name": "stderr",
     "output_type": "stream",
     "text": [
      " 66%|██████▌   | 701/1065 [06:12<03:18,  1.83it/s]"
     ]
    },
    {
     "name": "stdout",
     "output_type": "stream",
     "text": [
      "Epoch 18: 66% , Loss: 1.662713\n"
     ]
    },
    {
     "name": "stderr",
     "output_type": "stream",
     "text": [
      " 75%|███████▌  | 801/1065 [07:03<02:14,  1.96it/s]"
     ]
    },
    {
     "name": "stdout",
     "output_type": "stream",
     "text": [
      "Epoch 18: 75% , Loss: 5.343212\n"
     ]
    },
    {
     "name": "stderr",
     "output_type": "stream",
     "text": [
      " 85%|████████▍ | 901/1065 [07:56<01:30,  1.81it/s]"
     ]
    },
    {
     "name": "stdout",
     "output_type": "stream",
     "text": [
      "Epoch 18: 85% , Loss: 7.489756\n"
     ]
    },
    {
     "name": "stderr",
     "output_type": "stream",
     "text": [
      " 94%|█████████▍| 1001/1065 [08:52<00:34,  1.85it/s]"
     ]
    },
    {
     "name": "stdout",
     "output_type": "stream",
     "text": [
      "Epoch 18: 94% , Loss: 4.870623\n"
     ]
    },
    {
     "name": "stderr",
     "output_type": "stream",
     "text": [
      "100%|██████████| 1065/1065 [09:27<00:00,  1.88it/s]"
     ]
    },
    {
     "name": "stdout",
     "output_type": "stream",
     "text": [
      "Epoch 18: 100% , Loss: 1.974901\n"
     ]
    },
    {
     "name": "stderr",
     "output_type": "stream",
     "text": [
      "\n"
     ]
    },
    {
     "name": "stdout",
     "output_type": "stream",
     "text": [
      "                      (F1-score: 0.0452)\n",
      "\n",
      "                      (NDCG: 0.0686)\n",
      "\n",
      "                      (MAE: 3.9279)\n",
      "\n",
      "train_loss= tensor(8.0148)\n",
      "--------------------\n"
     ]
    },
    {
     "name": "stderr",
     "output_type": "stream",
     "text": [
      "100%|██████████| 133/133 [00:46<00:00,  2.88it/s]\n"
     ]
    },
    {
     "name": "stdout",
     "output_type": "stream",
     "text": [
      "                      (F1-score: 0.0453)\n",
      "\n",
      "                      (NDCG: 0.0691)\n",
      "\n",
      "                      (MAE: 4.1466)\n",
      "\n",
      "val_loss= tensor(9.8231)\n",
      "--------------------\n"
     ]
    },
    {
     "name": "stderr",
     "output_type": "stream",
     "text": [
      "100%|██████████| 133/133 [00:47<00:00,  2.78it/s]\n"
     ]
    },
    {
     "name": "stdout",
     "output_type": "stream",
     "text": [
      "                      (F1-score: 0.0450)\n",
      "\n",
      "                      (NDCG: 0.0688)\n",
      "\n",
      "                      (MAE: 4.1447)\n",
      "\n",
      "--------------------\n",
      "[[1, {'F1-score': 4.1771094402673345e-05}, {'NDCG': 8.545867062376855e-05}, {'MAE': 4.827067669172933}, 12.228038787841797], [2, {'F1-score': 0.0}, {'NDCG': 0.0}, {'MAE': 4.172932330827067}, 10.406564712524414], [3, {'F1-score': 0.012814380349113991}, {'NDCG': 0.013789705904130648}, {'MAE': 4.044172932330827}, 10.180235862731934], [4, {'F1-score': 0.019728655244801822}, {'NDCG': 0.042426276983539186}, {'MAE': 3.924812030075188}, 10.27104377746582], [5, {'F1-score': 0.027809576345933028}, {'NDCG': 0.0508072271459925}, {'MAE': 3.9981203007518795}, 10.06705093383789], [6, {'F1-score': 0.04313347594182737}, {'NDCG': 0.06686435966871511}, {'MAE': 4.1644736842105265}, 10.020689964294434], [7, {'F1-score': 0.04513285659533101}, {'NDCG': 0.06909855229857105}, {'MAE': 3.9906015037593985}, 9.96373176574707], [8, {'F1-score': 0.045441685393334305}, {'NDCG': 0.06952707130721021}, {'MAE': 3.8843984962406015}, 10.087576866149902], [9, {'F1-score': 0.045130280851725504}, {'NDCG': 0.0688168445875154}, {'MAE': 4.075187969924812}, 9.857915878295898], [10, {'F1-score': 0.04552397942984522}, {'NDCG': 0.06929526838326924}, {'MAE': 3.9163533834586466}, 9.966713905334473], [11, {'F1-score': 0.04527954451481179}, {'NDCG': 0.06923387377852}, {'MAE': 4.2368421052631575}, 9.936558723449707], [12, {'F1-score': 0.04544124764304432}, {'NDCG': 0.06932935343102965}, {'MAE': 4.283834586466165}, 9.93392276763916], [13, {'F1-score': 0.04635016026428295}, {'NDCG': 0.06971331463454473}, {'MAE': 4.052631578947368}, 9.783748626708984], [14, {'F1-score': 0.04598700006743969}, {'NDCG': 0.06980015553316955}, {'MAE': 4.294172932330827}, 10.010079383850098], [15, {'F1-score': 0.04557546047238463}, {'NDCG': 0.06904085727646611}, {'MAE': 3.9351503759398496}, 9.863205909729004], [16, {'F1-score': 0.04600217515605764}, {'NDCG': 0.06953545096960563}, {'MAE': 4.1118421052631575}, 9.791077613830566], [17, {'F1-score': 0.0444614388548676}, {'NDCG': 0.06885833612510137}, {'MAE': 4.43327067669173}, 10.302906036376953], [18, {'F1-score': 0.044953105088883255}, {'NDCG': 0.06880327245689705}, {'MAE': 4.144736842105263}, 9.823137283325195]]\n",
      "-----------------------------------------------------------------------------------------\n"
     ]
    },
    {
     "name": "stderr",
     "output_type": "stream",
     "text": [
      "  0%|          | 1/1065 [00:00<07:37,  2.33it/s]"
     ]
    },
    {
     "name": "stdout",
     "output_type": "stream",
     "text": [
      "Epoch 19: 0% , Loss: 2.407283\n"
     ]
    },
    {
     "name": "stderr",
     "output_type": "stream",
     "text": [
      "  9%|▉         | 101/1065 [00:46<09:35,  1.67it/s]"
     ]
    },
    {
     "name": "stdout",
     "output_type": "stream",
     "text": [
      "Epoch 19: 9% , Loss: 5.341637\n"
     ]
    },
    {
     "name": "stderr",
     "output_type": "stream",
     "text": [
      " 19%|█▉        | 201/1065 [01:42<07:14,  1.99it/s]"
     ]
    },
    {
     "name": "stdout",
     "output_type": "stream",
     "text": [
      "Epoch 19: 19% , Loss: 8.411066\n"
     ]
    },
    {
     "name": "stderr",
     "output_type": "stream",
     "text": [
      " 28%|██▊       | 301/1065 [02:37<07:30,  1.70it/s]"
     ]
    },
    {
     "name": "stdout",
     "output_type": "stream",
     "text": [
      "Epoch 19: 28% , Loss: 6.832526\n"
     ]
    },
    {
     "name": "stderr",
     "output_type": "stream",
     "text": [
      " 38%|███▊      | 401/1065 [03:30<07:00,  1.58it/s]"
     ]
    },
    {
     "name": "stdout",
     "output_type": "stream",
     "text": [
      "Epoch 19: 38% , Loss: 15.609971\n"
     ]
    },
    {
     "name": "stderr",
     "output_type": "stream",
     "text": [
      " 47%|████▋     | 501/1065 [04:25<05:53,  1.59it/s]"
     ]
    },
    {
     "name": "stdout",
     "output_type": "stream",
     "text": [
      "Epoch 19: 47% , Loss: 15.910512\n"
     ]
    },
    {
     "name": "stderr",
     "output_type": "stream",
     "text": [
      " 56%|█████▋    | 601/1065 [05:21<04:15,  1.82it/s]"
     ]
    },
    {
     "name": "stdout",
     "output_type": "stream",
     "text": [
      "Epoch 19: 56% , Loss: 2.012780\n"
     ]
    },
    {
     "name": "stderr",
     "output_type": "stream",
     "text": [
      " 66%|██████▌   | 701/1065 [06:15<02:59,  2.03it/s]"
     ]
    },
    {
     "name": "stdout",
     "output_type": "stream",
     "text": [
      "Epoch 19: 66% , Loss: 2.443036\n"
     ]
    },
    {
     "name": "stderr",
     "output_type": "stream",
     "text": [
      " 75%|███████▌  | 801/1065 [07:12<03:11,  1.38it/s]"
     ]
    },
    {
     "name": "stdout",
     "output_type": "stream",
     "text": [
      "Epoch 19: 75% , Loss: 13.644399\n"
     ]
    },
    {
     "name": "stderr",
     "output_type": "stream",
     "text": [
      " 85%|████████▍ | 901/1065 [08:07<01:27,  1.87it/s]"
     ]
    },
    {
     "name": "stdout",
     "output_type": "stream",
     "text": [
      "Epoch 19: 85% , Loss: 10.167652\n"
     ]
    },
    {
     "name": "stderr",
     "output_type": "stream",
     "text": [
      " 94%|█████████▍| 1001/1065 [09:03<00:33,  1.92it/s]"
     ]
    },
    {
     "name": "stdout",
     "output_type": "stream",
     "text": [
      "Epoch 19: 94% , Loss: 209.380173\n"
     ]
    },
    {
     "name": "stderr",
     "output_type": "stream",
     "text": [
      "100%|██████████| 1065/1065 [09:38<00:00,  1.84it/s]"
     ]
    },
    {
     "name": "stdout",
     "output_type": "stream",
     "text": [
      "Epoch 19: 100% , Loss: 7.694575\n"
     ]
    },
    {
     "name": "stderr",
     "output_type": "stream",
     "text": [
      "\n"
     ]
    },
    {
     "name": "stdout",
     "output_type": "stream",
     "text": [
      "                      (F1-score: 0.0455)\n",
      "\n",
      "                      (NDCG: 0.0692)\n",
      "\n",
      "                      (MAE: 3.9412)\n",
      "\n",
      "train_loss= tensor(8.0027)\n",
      "--------------------\n"
     ]
    },
    {
     "name": "stderr",
     "output_type": "stream",
     "text": [
      "100%|██████████| 133/133 [00:47<00:00,  2.83it/s]\n"
     ]
    },
    {
     "name": "stdout",
     "output_type": "stream",
     "text": [
      "                      (F1-score: 0.0451)\n",
      "\n",
      "                      (NDCG: 0.0695)\n",
      "\n",
      "                      (MAE: 3.9098)\n",
      "\n",
      "val_loss= tensor(9.9604)\n",
      "--------------------\n"
     ]
    },
    {
     "name": "stderr",
     "output_type": "stream",
     "text": [
      "100%|██████████| 133/133 [00:47<00:00,  2.78it/s]\n"
     ]
    },
    {
     "name": "stdout",
     "output_type": "stream",
     "text": [
      "                      (F1-score: 0.0463)\n",
      "\n",
      "                      (NDCG: 0.0708)\n",
      "\n",
      "                      (MAE: 3.9079)\n",
      "\n",
      "--------------------\n",
      "[[1, {'F1-score': 4.1771094402673345e-05}, {'NDCG': 8.545867062376855e-05}, {'MAE': 4.827067669172933}, 12.228038787841797], [2, {'F1-score': 0.0}, {'NDCG': 0.0}, {'MAE': 4.172932330827067}, 10.406564712524414], [3, {'F1-score': 0.012814380349113991}, {'NDCG': 0.013789705904130648}, {'MAE': 4.044172932330827}, 10.180235862731934], [4, {'F1-score': 0.019728655244801822}, {'NDCG': 0.042426276983539186}, {'MAE': 3.924812030075188}, 10.27104377746582], [5, {'F1-score': 0.027809576345933028}, {'NDCG': 0.0508072271459925}, {'MAE': 3.9981203007518795}, 10.06705093383789], [6, {'F1-score': 0.04313347594182737}, {'NDCG': 0.06686435966871511}, {'MAE': 4.1644736842105265}, 10.020689964294434], [7, {'F1-score': 0.04513285659533101}, {'NDCG': 0.06909855229857105}, {'MAE': 3.9906015037593985}, 9.96373176574707], [8, {'F1-score': 0.045441685393334305}, {'NDCG': 0.06952707130721021}, {'MAE': 3.8843984962406015}, 10.087576866149902], [9, {'F1-score': 0.045130280851725504}, {'NDCG': 0.0688168445875154}, {'MAE': 4.075187969924812}, 9.857915878295898], [10, {'F1-score': 0.04552397942984522}, {'NDCG': 0.06929526838326924}, {'MAE': 3.9163533834586466}, 9.966713905334473], [11, {'F1-score': 0.04527954451481179}, {'NDCG': 0.06923387377852}, {'MAE': 4.2368421052631575}, 9.936558723449707], [12, {'F1-score': 0.04544124764304432}, {'NDCG': 0.06932935343102965}, {'MAE': 4.283834586466165}, 9.93392276763916], [13, {'F1-score': 0.04635016026428295}, {'NDCG': 0.06971331463454473}, {'MAE': 4.052631578947368}, 9.783748626708984], [14, {'F1-score': 0.04598700006743969}, {'NDCG': 0.06980015553316955}, {'MAE': 4.294172932330827}, 10.010079383850098], [15, {'F1-score': 0.04557546047238463}, {'NDCG': 0.06904085727646611}, {'MAE': 3.9351503759398496}, 9.863205909729004], [16, {'F1-score': 0.04600217515605764}, {'NDCG': 0.06953545096960563}, {'MAE': 4.1118421052631575}, 9.791077613830566], [17, {'F1-score': 0.0444614388548676}, {'NDCG': 0.06885833612510137}, {'MAE': 4.43327067669173}, 10.302906036376953], [18, {'F1-score': 0.044953105088883255}, {'NDCG': 0.06880327245689705}, {'MAE': 4.144736842105263}, 9.823137283325195], [19, {'F1-score': 0.0463191580226739}, {'NDCG': 0.07081282137073856}, {'MAE': 3.9078947368421053}, 9.960440635681152]]\n",
      "-----------------------------------------------------------------------------------------\n"
     ]
    },
    {
     "name": "stderr",
     "output_type": "stream",
     "text": [
      "  0%|          | 1/1065 [00:00<06:35,  2.69it/s]"
     ]
    },
    {
     "name": "stdout",
     "output_type": "stream",
     "text": [
      "Epoch 20: 0% , Loss: 9.589964\n"
     ]
    },
    {
     "name": "stderr",
     "output_type": "stream",
     "text": [
      "  9%|▉         | 101/1065 [00:48<08:11,  1.96it/s]"
     ]
    },
    {
     "name": "stdout",
     "output_type": "stream",
     "text": [
      "Epoch 20: 9% , Loss: 16.528818\n"
     ]
    },
    {
     "name": "stderr",
     "output_type": "stream",
     "text": [
      " 19%|█▉        | 201/1065 [01:43<07:09,  2.01it/s]"
     ]
    },
    {
     "name": "stdout",
     "output_type": "stream",
     "text": [
      "Epoch 20: 19% , Loss: 5.230177\n"
     ]
    },
    {
     "name": "stderr",
     "output_type": "stream",
     "text": [
      " 28%|██▊       | 301/1065 [02:36<07:20,  1.73it/s]"
     ]
    },
    {
     "name": "stdout",
     "output_type": "stream",
     "text": [
      "Epoch 20: 28% , Loss: 7.704535\n"
     ]
    },
    {
     "name": "stderr",
     "output_type": "stream",
     "text": [
      " 38%|███▊      | 401/1065 [03:33<06:24,  1.72it/s]"
     ]
    },
    {
     "name": "stdout",
     "output_type": "stream",
     "text": [
      "Epoch 20: 38% , Loss: 15.276093\n"
     ]
    },
    {
     "name": "stderr",
     "output_type": "stream",
     "text": [
      " 47%|████▋     | 501/1065 [04:27<05:39,  1.66it/s]"
     ]
    },
    {
     "name": "stdout",
     "output_type": "stream",
     "text": [
      "Epoch 20: 47% , Loss: 4.724447\n"
     ]
    },
    {
     "name": "stderr",
     "output_type": "stream",
     "text": [
      " 56%|█████▋    | 601/1065 [05:22<04:05,  1.89it/s]"
     ]
    },
    {
     "name": "stdout",
     "output_type": "stream",
     "text": [
      "Epoch 20: 56% , Loss: 3.494326\n"
     ]
    },
    {
     "name": "stderr",
     "output_type": "stream",
     "text": [
      " 66%|██████▌   | 701/1065 [06:17<03:19,  1.83it/s]"
     ]
    },
    {
     "name": "stdout",
     "output_type": "stream",
     "text": [
      "Epoch 20: 66% , Loss: 1.224214\n"
     ]
    },
    {
     "name": "stderr",
     "output_type": "stream",
     "text": [
      " 75%|███████▌  | 801/1065 [07:15<02:15,  1.95it/s]"
     ]
    },
    {
     "name": "stdout",
     "output_type": "stream",
     "text": [
      "Epoch 20: 75% , Loss: 4.792298\n"
     ]
    },
    {
     "name": "stderr",
     "output_type": "stream",
     "text": [
      " 85%|████████▍ | 901/1065 [08:11<02:30,  1.09it/s]"
     ]
    },
    {
     "name": "stdout",
     "output_type": "stream",
     "text": [
      "Epoch 20: 85% , Loss: 24.189327\n"
     ]
    },
    {
     "name": "stderr",
     "output_type": "stream",
     "text": [
      " 94%|█████████▍| 1001/1065 [09:04<00:31,  2.04it/s]"
     ]
    },
    {
     "name": "stdout",
     "output_type": "stream",
     "text": [
      "Epoch 20: 94% , Loss: 4.517920\n"
     ]
    },
    {
     "name": "stderr",
     "output_type": "stream",
     "text": [
      "100%|██████████| 1065/1065 [09:39<00:00,  1.84it/s]"
     ]
    },
    {
     "name": "stdout",
     "output_type": "stream",
     "text": [
      "Epoch 20: 100% , Loss: 4.133296\n"
     ]
    },
    {
     "name": "stderr",
     "output_type": "stream",
     "text": [
      "\n"
     ]
    },
    {
     "name": "stdout",
     "output_type": "stream",
     "text": [
      "                      (F1-score: 0.0454)\n",
      "\n",
      "                      (NDCG: 0.0691)\n",
      "\n",
      "                      (MAE: 3.9224)\n",
      "\n",
      "train_loss= tensor(7.9749)\n",
      "--------------------\n"
     ]
    },
    {
     "name": "stderr",
     "output_type": "stream",
     "text": [
      "100%|██████████| 133/133 [00:45<00:00,  2.95it/s]\n"
     ]
    },
    {
     "name": "stdout",
     "output_type": "stream",
     "text": [
      "                      (F1-score: 0.0449)\n",
      "\n",
      "                      (NDCG: 0.0688)\n",
      "\n",
      "                      (MAE: 4.2105)\n",
      "\n",
      "val_loss= tensor(9.8529)\n",
      "--------------------\n"
     ]
    },
    {
     "name": "stderr",
     "output_type": "stream",
     "text": [
      "100%|██████████| 133/133 [00:47<00:00,  2.80it/s]\n"
     ]
    },
    {
     "name": "stdout",
     "output_type": "stream",
     "text": [
      "                      (F1-score: 0.0448)\n",
      "\n",
      "                      (NDCG: 0.0686)\n",
      "\n",
      "                      (MAE: 4.2058)\n",
      "\n",
      "--------------------\n",
      "[[1, {'F1-score': 4.1771094402673345e-05}, {'NDCG': 8.545867062376855e-05}, {'MAE': 4.827067669172933}, 12.228038787841797], [2, {'F1-score': 0.0}, {'NDCG': 0.0}, {'MAE': 4.172932330827067}, 10.406564712524414], [3, {'F1-score': 0.012814380349113991}, {'NDCG': 0.013789705904130648}, {'MAE': 4.044172932330827}, 10.180235862731934], [4, {'F1-score': 0.019728655244801822}, {'NDCG': 0.042426276983539186}, {'MAE': 3.924812030075188}, 10.27104377746582], [5, {'F1-score': 0.027809576345933028}, {'NDCG': 0.0508072271459925}, {'MAE': 3.9981203007518795}, 10.06705093383789], [6, {'F1-score': 0.04313347594182737}, {'NDCG': 0.06686435966871511}, {'MAE': 4.1644736842105265}, 10.020689964294434], [7, {'F1-score': 0.04513285659533101}, {'NDCG': 0.06909855229857105}, {'MAE': 3.9906015037593985}, 9.96373176574707], [8, {'F1-score': 0.045441685393334305}, {'NDCG': 0.06952707130721021}, {'MAE': 3.8843984962406015}, 10.087576866149902], [9, {'F1-score': 0.045130280851725504}, {'NDCG': 0.0688168445875154}, {'MAE': 4.075187969924812}, 9.857915878295898], [10, {'F1-score': 0.04552397942984522}, {'NDCG': 0.06929526838326924}, {'MAE': 3.9163533834586466}, 9.966713905334473], [11, {'F1-score': 0.04527954451481179}, {'NDCG': 0.06923387377852}, {'MAE': 4.2368421052631575}, 9.936558723449707], [12, {'F1-score': 0.04544124764304432}, {'NDCG': 0.06932935343102965}, {'MAE': 4.283834586466165}, 9.93392276763916], [13, {'F1-score': 0.04635016026428295}, {'NDCG': 0.06971331463454473}, {'MAE': 4.052631578947368}, 9.783748626708984], [14, {'F1-score': 0.04598700006743969}, {'NDCG': 0.06980015553316955}, {'MAE': 4.294172932330827}, 10.010079383850098], [15, {'F1-score': 0.04557546047238463}, {'NDCG': 0.06904085727646611}, {'MAE': 3.9351503759398496}, 9.863205909729004], [16, {'F1-score': 0.04600217515605764}, {'NDCG': 0.06953545096960563}, {'MAE': 4.1118421052631575}, 9.791077613830566], [17, {'F1-score': 0.0444614388548676}, {'NDCG': 0.06885833612510137}, {'MAE': 4.43327067669173}, 10.302906036376953], [18, {'F1-score': 0.044953105088883255}, {'NDCG': 0.06880327245689705}, {'MAE': 4.144736842105263}, 9.823137283325195], [19, {'F1-score': 0.0463191580226739}, {'NDCG': 0.07081282137073856}, {'MAE': 3.9078947368421053}, 9.960440635681152], [20, {'F1-score': 0.04484886492765434}, {'NDCG': 0.06864973495161175}, {'MAE': 4.205827067669173}, 9.852874755859375]]\n",
      "-----------------------------------------------------------------------------------------\n"
     ]
    },
    {
     "name": "stderr",
     "output_type": "stream",
     "text": [
      "  0%|          | 1/1065 [00:00<08:14,  2.15it/s]"
     ]
    },
    {
     "name": "stdout",
     "output_type": "stream",
     "text": [
      "Epoch 21: 0% , Loss: 2.864442\n"
     ]
    },
    {
     "name": "stderr",
     "output_type": "stream",
     "text": [
      "  9%|▉         | 101/1065 [00:43<08:20,  1.93it/s]"
     ]
    },
    {
     "name": "stdout",
     "output_type": "stream",
     "text": [
      "Epoch 21: 9% , Loss: 2.279468\n"
     ]
    },
    {
     "name": "stderr",
     "output_type": "stream",
     "text": [
      " 19%|█▉        | 201/1065 [01:39<10:12,  1.41it/s]"
     ]
    },
    {
     "name": "stdout",
     "output_type": "stream",
     "text": [
      "Epoch 21: 19% , Loss: 3.489372\n"
     ]
    },
    {
     "name": "stderr",
     "output_type": "stream",
     "text": [
      " 28%|██▊       | 301/1065 [02:35<06:42,  1.90it/s]"
     ]
    },
    {
     "name": "stdout",
     "output_type": "stream",
     "text": [
      "Epoch 21: 28% , Loss: 1.214521\n"
     ]
    },
    {
     "name": "stderr",
     "output_type": "stream",
     "text": [
      " 38%|███▊      | 401/1065 [03:30<06:06,  1.81it/s]"
     ]
    },
    {
     "name": "stdout",
     "output_type": "stream",
     "text": [
      "Epoch 21: 38% , Loss: 11.193197\n"
     ]
    },
    {
     "name": "stderr",
     "output_type": "stream",
     "text": [
      " 47%|████▋     | 501/1065 [04:25<05:03,  1.86it/s]"
     ]
    },
    {
     "name": "stdout",
     "output_type": "stream",
     "text": [
      "Epoch 21: 47% , Loss: 5.031997\n"
     ]
    },
    {
     "name": "stderr",
     "output_type": "stream",
     "text": [
      " 56%|█████▋    | 601/1065 [05:21<03:41,  2.10it/s]"
     ]
    },
    {
     "name": "stdout",
     "output_type": "stream",
     "text": [
      "Epoch 21: 56% , Loss: 5.616624\n"
     ]
    },
    {
     "name": "stderr",
     "output_type": "stream",
     "text": [
      " 66%|██████▌   | 701/1065 [06:18<02:53,  2.10it/s]"
     ]
    },
    {
     "name": "stdout",
     "output_type": "stream",
     "text": [
      "Epoch 21: 66% , Loss: 3.021915\n"
     ]
    },
    {
     "name": "stderr",
     "output_type": "stream",
     "text": [
      " 75%|███████▌  | 801/1065 [07:12<02:24,  1.82it/s]"
     ]
    },
    {
     "name": "stdout",
     "output_type": "stream",
     "text": [
      "Epoch 21: 75% , Loss: 2.281417\n"
     ]
    },
    {
     "name": "stderr",
     "output_type": "stream",
     "text": [
      " 85%|████████▍ | 901/1065 [08:07<01:16,  2.13it/s]"
     ]
    },
    {
     "name": "stdout",
     "output_type": "stream",
     "text": [
      "Epoch 21: 85% , Loss: 1.429389\n"
     ]
    },
    {
     "name": "stderr",
     "output_type": "stream",
     "text": [
      " 94%|█████████▍| 1001/1065 [09:00<00:36,  1.77it/s]"
     ]
    },
    {
     "name": "stdout",
     "output_type": "stream",
     "text": [
      "Epoch 21: 94% , Loss: 2.483129\n"
     ]
    },
    {
     "name": "stderr",
     "output_type": "stream",
     "text": [
      "100%|██████████| 1065/1065 [09:36<00:00,  1.85it/s]"
     ]
    },
    {
     "name": "stdout",
     "output_type": "stream",
     "text": [
      "Epoch 21: 100% , Loss: 14.756727\n"
     ]
    },
    {
     "name": "stderr",
     "output_type": "stream",
     "text": [
      "\n"
     ]
    },
    {
     "name": "stdout",
     "output_type": "stream",
     "text": [
      "                      (F1-score: 0.0457)\n",
      "\n",
      "                      (NDCG: 0.0691)\n",
      "\n",
      "                      (MAE: 3.9197)\n",
      "\n",
      "train_loss= tensor(8.0170)\n",
      "--------------------\n"
     ]
    },
    {
     "name": "stderr",
     "output_type": "stream",
     "text": [
      "100%|██████████| 133/133 [00:47<00:00,  2.80it/s]\n"
     ]
    },
    {
     "name": "stdout",
     "output_type": "stream",
     "text": [
      "                      (F1-score: 0.0462)\n",
      "\n",
      "                      (NDCG: 0.0698)\n",
      "\n",
      "                      (MAE: 3.9756)\n",
      "\n",
      "val_loss= tensor(9.7680)\n",
      "--------------------\n"
     ]
    },
    {
     "name": "stderr",
     "output_type": "stream",
     "text": [
      "100%|██████████| 133/133 [00:47<00:00,  2.80it/s]\n"
     ]
    },
    {
     "name": "stdout",
     "output_type": "stream",
     "text": [
      "                      (F1-score: 0.0456)\n",
      "\n",
      "                      (NDCG: 0.0694)\n",
      "\n",
      "                      (MAE: 3.9906)\n",
      "\n",
      "--------------------\n",
      "[[1, {'F1-score': 4.1771094402673345e-05}, {'NDCG': 8.545867062376855e-05}, {'MAE': 4.827067669172933}, 12.228038787841797], [2, {'F1-score': 0.0}, {'NDCG': 0.0}, {'MAE': 4.172932330827067}, 10.406564712524414], [3, {'F1-score': 0.012814380349113991}, {'NDCG': 0.013789705904130648}, {'MAE': 4.044172932330827}, 10.180235862731934], [4, {'F1-score': 0.019728655244801822}, {'NDCG': 0.042426276983539186}, {'MAE': 3.924812030075188}, 10.27104377746582], [5, {'F1-score': 0.027809576345933028}, {'NDCG': 0.0508072271459925}, {'MAE': 3.9981203007518795}, 10.06705093383789], [6, {'F1-score': 0.04313347594182737}, {'NDCG': 0.06686435966871511}, {'MAE': 4.1644736842105265}, 10.020689964294434], [7, {'F1-score': 0.04513285659533101}, {'NDCG': 0.06909855229857105}, {'MAE': 3.9906015037593985}, 9.96373176574707], [8, {'F1-score': 0.045441685393334305}, {'NDCG': 0.06952707130721021}, {'MAE': 3.8843984962406015}, 10.087576866149902], [9, {'F1-score': 0.045130280851725504}, {'NDCG': 0.0688168445875154}, {'MAE': 4.075187969924812}, 9.857915878295898], [10, {'F1-score': 0.04552397942984522}, {'NDCG': 0.06929526838326924}, {'MAE': 3.9163533834586466}, 9.966713905334473], [11, {'F1-score': 0.04527954451481179}, {'NDCG': 0.06923387377852}, {'MAE': 4.2368421052631575}, 9.936558723449707], [12, {'F1-score': 0.04544124764304432}, {'NDCG': 0.06932935343102965}, {'MAE': 4.283834586466165}, 9.93392276763916], [13, {'F1-score': 0.04635016026428295}, {'NDCG': 0.06971331463454473}, {'MAE': 4.052631578947368}, 9.783748626708984], [14, {'F1-score': 0.04598700006743969}, {'NDCG': 0.06980015553316955}, {'MAE': 4.294172932330827}, 10.010079383850098], [15, {'F1-score': 0.04557546047238463}, {'NDCG': 0.06904085727646611}, {'MAE': 3.9351503759398496}, 9.863205909729004], [16, {'F1-score': 0.04600217515605764}, {'NDCG': 0.06953545096960563}, {'MAE': 4.1118421052631575}, 9.791077613830566], [17, {'F1-score': 0.0444614388548676}, {'NDCG': 0.06885833612510137}, {'MAE': 4.43327067669173}, 10.302906036376953], [18, {'F1-score': 0.044953105088883255}, {'NDCG': 0.06880327245689705}, {'MAE': 4.144736842105263}, 9.823137283325195], [19, {'F1-score': 0.0463191580226739}, {'NDCG': 0.07081282137073856}, {'MAE': 3.9078947368421053}, 9.960440635681152], [20, {'F1-score': 0.04484886492765434}, {'NDCG': 0.06864973495161175}, {'MAE': 4.205827067669173}, 9.852874755859375], [21, {'F1-score': 0.0456031228981218}, {'NDCG': 0.06937222206734009}, {'MAE': 3.9906015037593985}, 9.767979621887207]]\n",
      "-----------------------------------------------------------------------------------------\n"
     ]
    },
    {
     "name": "stderr",
     "output_type": "stream",
     "text": [
      "  0%|          | 1/1065 [00:00<08:07,  2.18it/s]"
     ]
    },
    {
     "name": "stdout",
     "output_type": "stream",
     "text": [
      "Epoch 22: 0% , Loss: 2.680148\n"
     ]
    },
    {
     "name": "stderr",
     "output_type": "stream",
     "text": [
      "  9%|▉         | 101/1065 [00:46<07:10,  2.24it/s]"
     ]
    },
    {
     "name": "stdout",
     "output_type": "stream",
     "text": [
      "Epoch 22: 9% , Loss: 6.977394\n"
     ]
    },
    {
     "name": "stderr",
     "output_type": "stream",
     "text": [
      " 19%|█▉        | 201/1065 [01:40<07:35,  1.90it/s]"
     ]
    },
    {
     "name": "stdout",
     "output_type": "stream",
     "text": [
      "Epoch 22: 19% , Loss: 10.715479\n"
     ]
    },
    {
     "name": "stderr",
     "output_type": "stream",
     "text": [
      " 28%|██▊       | 301/1065 [02:34<06:28,  1.96it/s]"
     ]
    },
    {
     "name": "stdout",
     "output_type": "stream",
     "text": [
      "Epoch 22: 28% , Loss: 10.484638\n"
     ]
    },
    {
     "name": "stderr",
     "output_type": "stream",
     "text": [
      " 38%|███▊      | 401/1065 [03:30<06:07,  1.81it/s]"
     ]
    },
    {
     "name": "stdout",
     "output_type": "stream",
     "text": [
      "Epoch 22: 38% , Loss: 4.168612\n"
     ]
    },
    {
     "name": "stderr",
     "output_type": "stream",
     "text": [
      " 47%|████▋     | 501/1065 [04:25<05:05,  1.85it/s]"
     ]
    },
    {
     "name": "stdout",
     "output_type": "stream",
     "text": [
      "Epoch 22: 47% , Loss: 5.432338\n"
     ]
    },
    {
     "name": "stderr",
     "output_type": "stream",
     "text": [
      " 56%|█████▋    | 601/1065 [05:19<04:34,  1.69it/s]"
     ]
    },
    {
     "name": "stdout",
     "output_type": "stream",
     "text": [
      "Epoch 22: 56% , Loss: 6.859362\n"
     ]
    },
    {
     "name": "stderr",
     "output_type": "stream",
     "text": [
      " 66%|██████▌   | 701/1065 [06:14<03:28,  1.75it/s]"
     ]
    },
    {
     "name": "stdout",
     "output_type": "stream",
     "text": [
      "Epoch 22: 66% , Loss: 3.782676\n"
     ]
    },
    {
     "name": "stderr",
     "output_type": "stream",
     "text": [
      " 75%|███████▌  | 801/1065 [07:09<02:13,  1.98it/s]"
     ]
    },
    {
     "name": "stdout",
     "output_type": "stream",
     "text": [
      "Epoch 22: 75% , Loss: 3.199055\n"
     ]
    },
    {
     "name": "stderr",
     "output_type": "stream",
     "text": [
      " 85%|████████▍ | 901/1065 [08:04<01:29,  1.83it/s]"
     ]
    },
    {
     "name": "stdout",
     "output_type": "stream",
     "text": [
      "Epoch 22: 85% , Loss: 1.612560\n"
     ]
    },
    {
     "name": "stderr",
     "output_type": "stream",
     "text": [
      " 94%|█████████▍| 1001/1065 [09:00<00:38,  1.66it/s]"
     ]
    },
    {
     "name": "stdout",
     "output_type": "stream",
     "text": [
      "Epoch 22: 94% , Loss: 3.833734\n"
     ]
    },
    {
     "name": "stderr",
     "output_type": "stream",
     "text": [
      "100%|██████████| 1065/1065 [09:36<00:00,  1.85it/s]"
     ]
    },
    {
     "name": "stdout",
     "output_type": "stream",
     "text": [
      "Epoch 22: 100% , Loss: 9.264433\n"
     ]
    },
    {
     "name": "stderr",
     "output_type": "stream",
     "text": [
      "\n"
     ]
    },
    {
     "name": "stdout",
     "output_type": "stream",
     "text": [
      "                      (F1-score: 0.0454)\n",
      "\n",
      "                      (NDCG: 0.0689)\n",
      "\n",
      "                      (MAE: 3.9194)\n",
      "\n",
      "train_loss= tensor(7.9714)\n",
      "--------------------\n"
     ]
    },
    {
     "name": "stderr",
     "output_type": "stream",
     "text": [
      "100%|██████████| 133/133 [00:50<00:00,  2.65it/s]\n"
     ]
    },
    {
     "name": "stdout",
     "output_type": "stream",
     "text": [
      "                      (F1-score: 0.0458)\n",
      "\n",
      "                      (NDCG: 0.0695)\n",
      "\n",
      "                      (MAE: 4.0611)\n",
      "\n",
      "val_loss= tensor(9.7623)\n",
      "--------------------\n"
     ]
    },
    {
     "name": "stderr",
     "output_type": "stream",
     "text": [
      "100%|██████████| 133/133 [00:44<00:00,  2.96it/s]\n"
     ]
    },
    {
     "name": "stdout",
     "output_type": "stream",
     "text": [
      "                      (F1-score: 0.0458)\n",
      "\n",
      "                      (NDCG: 0.0695)\n",
      "\n",
      "                      (MAE: 4.0564)\n",
      "\n",
      "--------------------\n",
      "[[1, {'F1-score': 4.1771094402673345e-05}, {'NDCG': 8.545867062376855e-05}, {'MAE': 4.827067669172933}, 12.228038787841797], [2, {'F1-score': 0.0}, {'NDCG': 0.0}, {'MAE': 4.172932330827067}, 10.406564712524414], [3, {'F1-score': 0.012814380349113991}, {'NDCG': 0.013789705904130648}, {'MAE': 4.044172932330827}, 10.180235862731934], [4, {'F1-score': 0.019728655244801822}, {'NDCG': 0.042426276983539186}, {'MAE': 3.924812030075188}, 10.27104377746582], [5, {'F1-score': 0.027809576345933028}, {'NDCG': 0.0508072271459925}, {'MAE': 3.9981203007518795}, 10.06705093383789], [6, {'F1-score': 0.04313347594182737}, {'NDCG': 0.06686435966871511}, {'MAE': 4.1644736842105265}, 10.020689964294434], [7, {'F1-score': 0.04513285659533101}, {'NDCG': 0.06909855229857105}, {'MAE': 3.9906015037593985}, 9.96373176574707], [8, {'F1-score': 0.045441685393334305}, {'NDCG': 0.06952707130721021}, {'MAE': 3.8843984962406015}, 10.087576866149902], [9, {'F1-score': 0.045130280851725504}, {'NDCG': 0.0688168445875154}, {'MAE': 4.075187969924812}, 9.857915878295898], [10, {'F1-score': 0.04552397942984522}, {'NDCG': 0.06929526838326924}, {'MAE': 3.9163533834586466}, 9.966713905334473], [11, {'F1-score': 0.04527954451481179}, {'NDCG': 0.06923387377852}, {'MAE': 4.2368421052631575}, 9.936558723449707], [12, {'F1-score': 0.04544124764304432}, {'NDCG': 0.06932935343102965}, {'MAE': 4.283834586466165}, 9.93392276763916], [13, {'F1-score': 0.04635016026428295}, {'NDCG': 0.06971331463454473}, {'MAE': 4.052631578947368}, 9.783748626708984], [14, {'F1-score': 0.04598700006743969}, {'NDCG': 0.06980015553316955}, {'MAE': 4.294172932330827}, 10.010079383850098], [15, {'F1-score': 0.04557546047238463}, {'NDCG': 0.06904085727646611}, {'MAE': 3.9351503759398496}, 9.863205909729004], [16, {'F1-score': 0.04600217515605764}, {'NDCG': 0.06953545096960563}, {'MAE': 4.1118421052631575}, 9.791077613830566], [17, {'F1-score': 0.0444614388548676}, {'NDCG': 0.06885833612510137}, {'MAE': 4.43327067669173}, 10.302906036376953], [18, {'F1-score': 0.044953105088883255}, {'NDCG': 0.06880327245689705}, {'MAE': 4.144736842105263}, 9.823137283325195], [19, {'F1-score': 0.0463191580226739}, {'NDCG': 0.07081282137073856}, {'MAE': 3.9078947368421053}, 9.960440635681152], [20, {'F1-score': 0.04484886492765434}, {'NDCG': 0.06864973495161175}, {'MAE': 4.205827067669173}, 9.852874755859375], [21, {'F1-score': 0.0456031228981218}, {'NDCG': 0.06937222206734009}, {'MAE': 3.9906015037593985}, 9.767979621887207], [22, {'F1-score': 0.04583258565951394}, {'NDCG': 0.06950625666956368}, {'MAE': 4.056390977443609}, 9.762333869934082]]\n",
      "-----------------------------------------------------------------------------------------\n"
     ]
    },
    {
     "name": "stderr",
     "output_type": "stream",
     "text": [
      "  0%|          | 1/1065 [00:00<08:06,  2.19it/s]"
     ]
    },
    {
     "name": "stdout",
     "output_type": "stream",
     "text": [
      "Epoch 23: 0% , Loss: 2.647871\n"
     ]
    },
    {
     "name": "stderr",
     "output_type": "stream",
     "text": [
      "  9%|▉         | 101/1065 [00:45<06:56,  2.32it/s]"
     ]
    },
    {
     "name": "stdout",
     "output_type": "stream",
     "text": [
      "Epoch 23: 9% , Loss: 4.816072\n"
     ]
    },
    {
     "name": "stderr",
     "output_type": "stream",
     "text": [
      " 19%|█▉        | 201/1065 [01:38<08:33,  1.68it/s]"
     ]
    },
    {
     "name": "stdout",
     "output_type": "stream",
     "text": [
      "Epoch 23: 19% , Loss: 12.179029\n"
     ]
    },
    {
     "name": "stderr",
     "output_type": "stream",
     "text": [
      " 28%|██▊       | 301/1065 [02:32<07:12,  1.77it/s]"
     ]
    },
    {
     "name": "stdout",
     "output_type": "stream",
     "text": [
      "Epoch 23: 28% , Loss: 3.653260\n"
     ]
    },
    {
     "name": "stderr",
     "output_type": "stream",
     "text": [
      " 38%|███▊      | 401/1065 [03:21<02:38,  4.19it/s]"
     ]
    },
    {
     "name": "stdout",
     "output_type": "stream",
     "text": [
      "Epoch 23: 38% , Loss: 7.661916\n"
     ]
    },
    {
     "name": "stderr",
     "output_type": "stream",
     "text": [
      " 47%|████▋     | 501/1065 [03:46<02:20,  4.02it/s]"
     ]
    },
    {
     "name": "stdout",
     "output_type": "stream",
     "text": [
      "Epoch 23: 47% , Loss: 15.226052\n"
     ]
    },
    {
     "name": "stderr",
     "output_type": "stream",
     "text": [
      " 56%|█████▋    | 601/1065 [04:11<01:58,  3.90it/s]"
     ]
    },
    {
     "name": "stdout",
     "output_type": "stream",
     "text": [
      "Epoch 23: 56% , Loss: 5.663381\n"
     ]
    },
    {
     "name": "stderr",
     "output_type": "stream",
     "text": [
      " 66%|██████▌   | 701/1065 [04:48<03:35,  1.69it/s]"
     ]
    },
    {
     "name": "stdout",
     "output_type": "stream",
     "text": [
      "Epoch 23: 66% , Loss: 2.698586\n"
     ]
    },
    {
     "name": "stderr",
     "output_type": "stream",
     "text": [
      " 75%|███████▌  | 801/1065 [05:50<02:30,  1.76it/s]"
     ]
    },
    {
     "name": "stdout",
     "output_type": "stream",
     "text": [
      "Epoch 23: 75% , Loss: 10.172887\n"
     ]
    },
    {
     "name": "stderr",
     "output_type": "stream",
     "text": [
      " 85%|████████▍ | 901/1065 [06:49<01:48,  1.51it/s]"
     ]
    },
    {
     "name": "stdout",
     "output_type": "stream",
     "text": [
      "Epoch 23: 85% , Loss: 13.094978\n"
     ]
    },
    {
     "name": "stderr",
     "output_type": "stream",
     "text": [
      " 94%|█████████▍| 1001/1065 [07:53<00:39,  1.63it/s]"
     ]
    },
    {
     "name": "stdout",
     "output_type": "stream",
     "text": [
      "Epoch 23: 94% , Loss: 5.083498\n"
     ]
    },
    {
     "name": "stderr",
     "output_type": "stream",
     "text": [
      "100%|██████████| 1065/1065 [08:30<00:00,  2.09it/s]"
     ]
    },
    {
     "name": "stdout",
     "output_type": "stream",
     "text": [
      "Epoch 23: 100% , Loss: 5.431063\n"
     ]
    },
    {
     "name": "stderr",
     "output_type": "stream",
     "text": [
      "\n"
     ]
    },
    {
     "name": "stdout",
     "output_type": "stream",
     "text": [
      "                      (F1-score: 0.0448)\n",
      "\n",
      "                      (NDCG: 0.0686)\n",
      "\n",
      "                      (MAE: 3.9205)\n",
      "\n",
      "train_loss= tensor(7.9938)\n",
      "--------------------\n"
     ]
    },
    {
     "name": "stderr",
     "output_type": "stream",
     "text": [
      "100%|██████████| 133/133 [00:53<00:00,  2.48it/s]\n"
     ]
    },
    {
     "name": "stdout",
     "output_type": "stream",
     "text": [
      "                      (F1-score: 0.0454)\n",
      "\n",
      "                      (NDCG: 0.0690)\n",
      "\n",
      "                      (MAE: 4.1100)\n",
      "\n",
      "val_loss= tensor(9.7720)\n",
      "--------------------\n"
     ]
    },
    {
     "name": "stderr",
     "output_type": "stream",
     "text": [
      "100%|██████████| 133/133 [00:52<00:00,  2.54it/s]\n"
     ]
    },
    {
     "name": "stdout",
     "output_type": "stream",
     "text": [
      "                      (F1-score: 0.0457)\n",
      "\n",
      "                      (NDCG: 0.0690)\n",
      "\n",
      "                      (MAE: 4.1090)\n",
      "\n",
      "--------------------\n",
      "[[1, {'F1-score': 4.1771094402673345e-05}, {'NDCG': 8.545867062376855e-05}, {'MAE': 4.827067669172933}, 12.228038787841797], [2, {'F1-score': 0.0}, {'NDCG': 0.0}, {'MAE': 4.172932330827067}, 10.406564712524414], [3, {'F1-score': 0.012814380349113991}, {'NDCG': 0.013789705904130648}, {'MAE': 4.044172932330827}, 10.180235862731934], [4, {'F1-score': 0.019728655244801822}, {'NDCG': 0.042426276983539186}, {'MAE': 3.924812030075188}, 10.27104377746582], [5, {'F1-score': 0.027809576345933028}, {'NDCG': 0.0508072271459925}, {'MAE': 3.9981203007518795}, 10.06705093383789], [6, {'F1-score': 0.04313347594182737}, {'NDCG': 0.06686435966871511}, {'MAE': 4.1644736842105265}, 10.020689964294434], [7, {'F1-score': 0.04513285659533101}, {'NDCG': 0.06909855229857105}, {'MAE': 3.9906015037593985}, 9.96373176574707], [8, {'F1-score': 0.045441685393334305}, {'NDCG': 0.06952707130721021}, {'MAE': 3.8843984962406015}, 10.087576866149902], [9, {'F1-score': 0.045130280851725504}, {'NDCG': 0.0688168445875154}, {'MAE': 4.075187969924812}, 9.857915878295898], [10, {'F1-score': 0.04552397942984522}, {'NDCG': 0.06929526838326924}, {'MAE': 3.9163533834586466}, 9.966713905334473], [11, {'F1-score': 0.04527954451481179}, {'NDCG': 0.06923387377852}, {'MAE': 4.2368421052631575}, 9.936558723449707], [12, {'F1-score': 0.04544124764304432}, {'NDCG': 0.06932935343102965}, {'MAE': 4.283834586466165}, 9.93392276763916], [13, {'F1-score': 0.04635016026428295}, {'NDCG': 0.06971331463454473}, {'MAE': 4.052631578947368}, 9.783748626708984], [14, {'F1-score': 0.04598700006743969}, {'NDCG': 0.06980015553316955}, {'MAE': 4.294172932330827}, 10.010079383850098], [15, {'F1-score': 0.04557546047238463}, {'NDCG': 0.06904085727646611}, {'MAE': 3.9351503759398496}, 9.863205909729004], [16, {'F1-score': 0.04600217515605764}, {'NDCG': 0.06953545096960563}, {'MAE': 4.1118421052631575}, 9.791077613830566], [17, {'F1-score': 0.0444614388548676}, {'NDCG': 0.06885833612510137}, {'MAE': 4.43327067669173}, 10.302906036376953], [18, {'F1-score': 0.044953105088883255}, {'NDCG': 0.06880327245689705}, {'MAE': 4.144736842105263}, 9.823137283325195], [19, {'F1-score': 0.0463191580226739}, {'NDCG': 0.07081282137073856}, {'MAE': 3.9078947368421053}, 9.960440635681152], [20, {'F1-score': 0.04484886492765434}, {'NDCG': 0.06864973495161175}, {'MAE': 4.205827067669173}, 9.852874755859375], [21, {'F1-score': 0.0456031228981218}, {'NDCG': 0.06937222206734009}, {'MAE': 3.9906015037593985}, 9.767979621887207], [22, {'F1-score': 0.04583258565951394}, {'NDCG': 0.06950625666956368}, {'MAE': 4.056390977443609}, 9.762333869934082], [23, {'F1-score': 0.04567524986098043}, {'NDCG': 0.06900454290505302}, {'MAE': 4.109022556390977}, 9.772006034851074]]\n",
      "-----------------------------------------------------------------------------------------\n"
     ]
    },
    {
     "name": "stderr",
     "output_type": "stream",
     "text": [
      "  0%|          | 1/1065 [00:00<07:51,  2.26it/s]"
     ]
    },
    {
     "name": "stdout",
     "output_type": "stream",
     "text": [
      "Epoch 24: 0% , Loss: 1.908734\n"
     ]
    },
    {
     "name": "stderr",
     "output_type": "stream",
     "text": [
      "  9%|▉         | 101/1065 [00:50<08:13,  1.95it/s]"
     ]
    },
    {
     "name": "stdout",
     "output_type": "stream",
     "text": [
      "Epoch 24: 9% , Loss: 3.417369\n"
     ]
    },
    {
     "name": "stderr",
     "output_type": "stream",
     "text": [
      " 19%|█▉        | 201/1065 [01:41<06:34,  2.19it/s]"
     ]
    },
    {
     "name": "stdout",
     "output_type": "stream",
     "text": [
      "Epoch 24: 19% , Loss: 10.363006\n"
     ]
    },
    {
     "name": "stderr",
     "output_type": "stream",
     "text": [
      " 28%|██▊       | 301/1065 [02:33<06:51,  1.85it/s]"
     ]
    },
    {
     "name": "stdout",
     "output_type": "stream",
     "text": [
      "Epoch 24: 28% , Loss: 3.519042\n"
     ]
    },
    {
     "name": "stderr",
     "output_type": "stream",
     "text": [
      " 38%|███▊      | 401/1065 [03:27<05:32,  2.00it/s]"
     ]
    },
    {
     "name": "stdout",
     "output_type": "stream",
     "text": [
      "Epoch 24: 38% , Loss: 4.616043\n"
     ]
    },
    {
     "name": "stderr",
     "output_type": "stream",
     "text": [
      " 47%|████▋     | 501/1065 [04:18<04:26,  2.12it/s]"
     ]
    },
    {
     "name": "stdout",
     "output_type": "stream",
     "text": [
      "Epoch 24: 47% , Loss: 4.598529\n"
     ]
    },
    {
     "name": "stderr",
     "output_type": "stream",
     "text": [
      " 56%|█████▋    | 601/1065 [05:08<03:27,  2.24it/s]"
     ]
    },
    {
     "name": "stdout",
     "output_type": "stream",
     "text": [
      "Epoch 24: 56% , Loss: 2.092608\n"
     ]
    },
    {
     "name": "stderr",
     "output_type": "stream",
     "text": [
      " 66%|██████▌   | 701/1065 [06:05<04:55,  1.23it/s]"
     ]
    },
    {
     "name": "stdout",
     "output_type": "stream",
     "text": [
      "Epoch 24: 66% , Loss: 3.723685\n"
     ]
    },
    {
     "name": "stderr",
     "output_type": "stream",
     "text": [
      " 75%|███████▌  | 801/1065 [07:06<02:54,  1.51it/s]"
     ]
    },
    {
     "name": "stdout",
     "output_type": "stream",
     "text": [
      "Epoch 24: 75% , Loss: 4.306785\n"
     ]
    },
    {
     "name": "stderr",
     "output_type": "stream",
     "text": [
      " 85%|████████▍ | 901/1065 [08:05<01:42,  1.60it/s]"
     ]
    },
    {
     "name": "stdout",
     "output_type": "stream",
     "text": [
      "Epoch 24: 85% , Loss: 3.329141\n"
     ]
    },
    {
     "name": "stderr",
     "output_type": "stream",
     "text": [
      " 94%|█████████▍| 1001/1065 [09:03<00:36,  1.77it/s]"
     ]
    },
    {
     "name": "stdout",
     "output_type": "stream",
     "text": [
      "Epoch 24: 94% , Loss: 9.633215\n"
     ]
    },
    {
     "name": "stderr",
     "output_type": "stream",
     "text": [
      "100%|██████████| 1065/1065 [09:39<00:00,  1.84it/s]"
     ]
    },
    {
     "name": "stdout",
     "output_type": "stream",
     "text": [
      "Epoch 24: 100% , Loss: 24.888020\n"
     ]
    },
    {
     "name": "stderr",
     "output_type": "stream",
     "text": [
      "\n"
     ]
    },
    {
     "name": "stdout",
     "output_type": "stream",
     "text": [
      "                      (F1-score: 0.0457)\n",
      "\n",
      "                      (NDCG: 0.0691)\n",
      "\n",
      "                      (MAE: 3.9190)\n",
      "\n",
      "train_loss= tensor(7.9512)\n",
      "--------------------\n"
     ]
    },
    {
     "name": "stderr",
     "output_type": "stream",
     "text": [
      "100%|██████████| 133/133 [00:54<00:00,  2.45it/s]\n"
     ]
    },
    {
     "name": "stdout",
     "output_type": "stream",
     "text": [
      "                      (F1-score: 0.0463)\n",
      "\n",
      "                      (NDCG: 0.0699)\n",
      "\n",
      "                      (MAE: 3.9229)\n",
      "\n",
      "val_loss= tensor(9.8992)\n",
      "--------------------\n"
     ]
    },
    {
     "name": "stderr",
     "output_type": "stream",
     "text": [
      "100%|██████████| 133/133 [00:52<00:00,  2.54it/s]\n"
     ]
    },
    {
     "name": "stdout",
     "output_type": "stream",
     "text": [
      "                      (F1-score: 0.0466)\n",
      "\n",
      "                      (NDCG: 0.0701)\n",
      "\n",
      "                      (MAE: 3.9229)\n",
      "\n",
      "--------------------\n",
      "[[1, {'F1-score': 4.1771094402673345e-05}, {'NDCG': 8.545867062376855e-05}, {'MAE': 4.827067669172933}, 12.228038787841797], [2, {'F1-score': 0.0}, {'NDCG': 0.0}, {'MAE': 4.172932330827067}, 10.406564712524414], [3, {'F1-score': 0.012814380349113991}, {'NDCG': 0.013789705904130648}, {'MAE': 4.044172932330827}, 10.180235862731934], [4, {'F1-score': 0.019728655244801822}, {'NDCG': 0.042426276983539186}, {'MAE': 3.924812030075188}, 10.27104377746582], [5, {'F1-score': 0.027809576345933028}, {'NDCG': 0.0508072271459925}, {'MAE': 3.9981203007518795}, 10.06705093383789], [6, {'F1-score': 0.04313347594182737}, {'NDCG': 0.06686435966871511}, {'MAE': 4.1644736842105265}, 10.020689964294434], [7, {'F1-score': 0.04513285659533101}, {'NDCG': 0.06909855229857105}, {'MAE': 3.9906015037593985}, 9.96373176574707], [8, {'F1-score': 0.045441685393334305}, {'NDCG': 0.06952707130721021}, {'MAE': 3.8843984962406015}, 10.087576866149902], [9, {'F1-score': 0.045130280851725504}, {'NDCG': 0.0688168445875154}, {'MAE': 4.075187969924812}, 9.857915878295898], [10, {'F1-score': 0.04552397942984522}, {'NDCG': 0.06929526838326924}, {'MAE': 3.9163533834586466}, 9.966713905334473], [11, {'F1-score': 0.04527954451481179}, {'NDCG': 0.06923387377852}, {'MAE': 4.2368421052631575}, 9.936558723449707], [12, {'F1-score': 0.04544124764304432}, {'NDCG': 0.06932935343102965}, {'MAE': 4.283834586466165}, 9.93392276763916], [13, {'F1-score': 0.04635016026428295}, {'NDCG': 0.06971331463454473}, {'MAE': 4.052631578947368}, 9.783748626708984], [14, {'F1-score': 0.04598700006743969}, {'NDCG': 0.06980015553316955}, {'MAE': 4.294172932330827}, 10.010079383850098], [15, {'F1-score': 0.04557546047238463}, {'NDCG': 0.06904085727646611}, {'MAE': 3.9351503759398496}, 9.863205909729004], [16, {'F1-score': 0.04600217515605764}, {'NDCG': 0.06953545096960563}, {'MAE': 4.1118421052631575}, 9.791077613830566], [17, {'F1-score': 0.0444614388548676}, {'NDCG': 0.06885833612510137}, {'MAE': 4.43327067669173}, 10.302906036376953], [18, {'F1-score': 0.044953105088883255}, {'NDCG': 0.06880327245689705}, {'MAE': 4.144736842105263}, 9.823137283325195], [19, {'F1-score': 0.0463191580226739}, {'NDCG': 0.07081282137073856}, {'MAE': 3.9078947368421053}, 9.960440635681152], [20, {'F1-score': 0.04484886492765434}, {'NDCG': 0.06864973495161175}, {'MAE': 4.205827067669173}, 9.852874755859375], [21, {'F1-score': 0.0456031228981218}, {'NDCG': 0.06937222206734009}, {'MAE': 3.9906015037593985}, 9.767979621887207], [22, {'F1-score': 0.04583258565951394}, {'NDCG': 0.06950625666956368}, {'MAE': 4.056390977443609}, 9.762333869934082], [23, {'F1-score': 0.04567524986098043}, {'NDCG': 0.06900454290505302}, {'MAE': 4.109022556390977}, 9.772006034851074], [24, {'F1-score': 0.04658097224873822}, {'NDCG': 0.0700591961867211}, {'MAE': 3.922932330827068}, 9.899181365966797]]\n",
      "-----------------------------------------------------------------------------------------\n"
     ]
    },
    {
     "name": "stderr",
     "output_type": "stream",
     "text": [
      "  0%|          | 1/1065 [00:00<08:15,  2.15it/s]"
     ]
    },
    {
     "name": "stdout",
     "output_type": "stream",
     "text": [
      "Epoch 25: 0% , Loss: 9.652039\n"
     ]
    },
    {
     "name": "stderr",
     "output_type": "stream",
     "text": [
      "  9%|▉         | 101/1065 [00:50<07:31,  2.13it/s]"
     ]
    },
    {
     "name": "stdout",
     "output_type": "stream",
     "text": [
      "Epoch 25: 9% , Loss: 3.415623\n"
     ]
    },
    {
     "name": "stderr",
     "output_type": "stream",
     "text": [
      " 19%|█▉        | 201/1065 [01:41<06:25,  2.24it/s]"
     ]
    },
    {
     "name": "stdout",
     "output_type": "stream",
     "text": [
      "Epoch 25: 19% , Loss: 6.997137\n"
     ]
    },
    {
     "name": "stderr",
     "output_type": "stream",
     "text": [
      " 28%|██▊       | 301/1065 [02:32<06:43,  1.89it/s]"
     ]
    },
    {
     "name": "stdout",
     "output_type": "stream",
     "text": [
      "Epoch 25: 28% , Loss: 3.859052\n"
     ]
    },
    {
     "name": "stderr",
     "output_type": "stream",
     "text": [
      " 38%|███▊      | 401/1065 [03:21<05:48,  1.90it/s]"
     ]
    },
    {
     "name": "stdout",
     "output_type": "stream",
     "text": [
      "Epoch 25: 38% , Loss: 7.110712\n"
     ]
    },
    {
     "name": "stderr",
     "output_type": "stream",
     "text": [
      " 47%|████▋     | 501/1065 [04:13<05:00,  1.88it/s]"
     ]
    },
    {
     "name": "stdout",
     "output_type": "stream",
     "text": [
      "Epoch 25: 47% , Loss: 5.739385\n"
     ]
    },
    {
     "name": "stderr",
     "output_type": "stream",
     "text": [
      " 56%|█████▋    | 601/1065 [05:04<03:49,  2.02it/s]"
     ]
    },
    {
     "name": "stdout",
     "output_type": "stream",
     "text": [
      "Epoch 25: 56% , Loss: 1.507990\n"
     ]
    },
    {
     "name": "stderr",
     "output_type": "stream",
     "text": [
      " 66%|██████▌   | 701/1065 [05:37<01:31,  3.99it/s]"
     ]
    },
    {
     "name": "stdout",
     "output_type": "stream",
     "text": [
      "Epoch 25: 66% , Loss: 8.526025\n"
     ]
    },
    {
     "name": "stderr",
     "output_type": "stream",
     "text": [
      " 75%|███████▌  | 802/1065 [06:03<00:50,  5.19it/s]"
     ]
    },
    {
     "name": "stdout",
     "output_type": "stream",
     "text": [
      "Epoch 25: 75% , Loss: 7.889120\n"
     ]
    },
    {
     "name": "stderr",
     "output_type": "stream",
     "text": [
      " 85%|████████▍ | 901/1065 [06:55<01:31,  1.79it/s]"
     ]
    },
    {
     "name": "stdout",
     "output_type": "stream",
     "text": [
      "Epoch 25: 85% , Loss: 9.148681\n"
     ]
    },
    {
     "name": "stderr",
     "output_type": "stream",
     "text": [
      " 94%|█████████▍| 1001/1065 [08:00<00:42,  1.51it/s]"
     ]
    },
    {
     "name": "stdout",
     "output_type": "stream",
     "text": [
      "Epoch 25: 94% , Loss: 4.559057\n"
     ]
    },
    {
     "name": "stderr",
     "output_type": "stream",
     "text": [
      "100%|██████████| 1065/1065 [08:40<00:00,  2.05it/s]"
     ]
    },
    {
     "name": "stdout",
     "output_type": "stream",
     "text": [
      "Epoch 25: 100% , Loss: 2.836994\n"
     ]
    },
    {
     "name": "stderr",
     "output_type": "stream",
     "text": [
      "\n"
     ]
    },
    {
     "name": "stdout",
     "output_type": "stream",
     "text": [
      "                      (F1-score: 0.0457)\n",
      "\n",
      "                      (NDCG: 0.0691)\n",
      "\n",
      "                      (MAE: 3.9049)\n",
      "\n",
      "train_loss= tensor(7.9354)\n",
      "--------------------\n"
     ]
    },
    {
     "name": "stderr",
     "output_type": "stream",
     "text": [
      "100%|██████████| 133/133 [00:55<00:00,  2.39it/s]\n"
     ]
    },
    {
     "name": "stdout",
     "output_type": "stream",
     "text": [
      "                      (F1-score: 0.0452)\n",
      "\n",
      "                      (NDCG: 0.0688)\n",
      "\n",
      "                      (MAE: 4.0808)\n",
      "\n",
      "val_loss= tensor(9.8382)\n",
      "--------------------\n"
     ]
    },
    {
     "name": "stderr",
     "output_type": "stream",
     "text": [
      "100%|██████████| 133/133 [00:53<00:00,  2.51it/s]\n"
     ]
    },
    {
     "name": "stdout",
     "output_type": "stream",
     "text": [
      "                      (F1-score: 0.0454)\n",
      "\n",
      "                      (NDCG: 0.0690)\n",
      "\n",
      "                      (MAE: 4.0724)\n",
      "\n",
      "--------------------\n",
      "[[1, {'F1-score': 4.1771094402673345e-05}, {'NDCG': 8.545867062376855e-05}, {'MAE': 4.827067669172933}, 12.228038787841797], [2, {'F1-score': 0.0}, {'NDCG': 0.0}, {'MAE': 4.172932330827067}, 10.406564712524414], [3, {'F1-score': 0.012814380349113991}, {'NDCG': 0.013789705904130648}, {'MAE': 4.044172932330827}, 10.180235862731934], [4, {'F1-score': 0.019728655244801822}, {'NDCG': 0.042426276983539186}, {'MAE': 3.924812030075188}, 10.27104377746582], [5, {'F1-score': 0.027809576345933028}, {'NDCG': 0.0508072271459925}, {'MAE': 3.9981203007518795}, 10.06705093383789], [6, {'F1-score': 0.04313347594182737}, {'NDCG': 0.06686435966871511}, {'MAE': 4.1644736842105265}, 10.020689964294434], [7, {'F1-score': 0.04513285659533101}, {'NDCG': 0.06909855229857105}, {'MAE': 3.9906015037593985}, 9.96373176574707], [8, {'F1-score': 0.045441685393334305}, {'NDCG': 0.06952707130721021}, {'MAE': 3.8843984962406015}, 10.087576866149902], [9, {'F1-score': 0.045130280851725504}, {'NDCG': 0.0688168445875154}, {'MAE': 4.075187969924812}, 9.857915878295898], [10, {'F1-score': 0.04552397942984522}, {'NDCG': 0.06929526838326924}, {'MAE': 3.9163533834586466}, 9.966713905334473], [11, {'F1-score': 0.04527954451481179}, {'NDCG': 0.06923387377852}, {'MAE': 4.2368421052631575}, 9.936558723449707], [12, {'F1-score': 0.04544124764304432}, {'NDCG': 0.06932935343102965}, {'MAE': 4.283834586466165}, 9.93392276763916], [13, {'F1-score': 0.04635016026428295}, {'NDCG': 0.06971331463454473}, {'MAE': 4.052631578947368}, 9.783748626708984], [14, {'F1-score': 0.04598700006743969}, {'NDCG': 0.06980015553316955}, {'MAE': 4.294172932330827}, 10.010079383850098], [15, {'F1-score': 0.04557546047238463}, {'NDCG': 0.06904085727646611}, {'MAE': 3.9351503759398496}, 9.863205909729004], [16, {'F1-score': 0.04600217515605764}, {'NDCG': 0.06953545096960563}, {'MAE': 4.1118421052631575}, 9.791077613830566], [17, {'F1-score': 0.0444614388548676}, {'NDCG': 0.06885833612510137}, {'MAE': 4.43327067669173}, 10.302906036376953], [18, {'F1-score': 0.044953105088883255}, {'NDCG': 0.06880327245689705}, {'MAE': 4.144736842105263}, 9.823137283325195], [19, {'F1-score': 0.0463191580226739}, {'NDCG': 0.07081282137073856}, {'MAE': 3.9078947368421053}, 9.960440635681152], [20, {'F1-score': 0.04484886492765434}, {'NDCG': 0.06864973495161175}, {'MAE': 4.205827067669173}, 9.852874755859375], [21, {'F1-score': 0.0456031228981218}, {'NDCG': 0.06937222206734009}, {'MAE': 3.9906015037593985}, 9.767979621887207], [22, {'F1-score': 0.04583258565951394}, {'NDCG': 0.06950625666956368}, {'MAE': 4.056390977443609}, 9.762333869934082], [23, {'F1-score': 0.04567524986098043}, {'NDCG': 0.06900454290505302}, {'MAE': 4.109022556390977}, 9.772006034851074], [24, {'F1-score': 0.04658097224873822}, {'NDCG': 0.0700591961867211}, {'MAE': 3.922932330827068}, 9.899181365966797], [25, {'F1-score': 0.04544520707333022}, {'NDCG': 0.06904575803765285}, {'MAE': 4.072368421052632}, 9.838201522827148]]\n",
      "-----------------------------------------------------------------------------------------\n"
     ]
    },
    {
     "name": "stderr",
     "output_type": "stream",
     "text": [
      "  0%|          | 1/1065 [00:00<08:27,  2.10it/s]"
     ]
    },
    {
     "name": "stdout",
     "output_type": "stream",
     "text": [
      "Epoch 26: 0% , Loss: 3.414796\n"
     ]
    },
    {
     "name": "stderr",
     "output_type": "stream",
     "text": [
      "  9%|▉         | 101/1065 [00:50<06:12,  2.59it/s]"
     ]
    },
    {
     "name": "stdout",
     "output_type": "stream",
     "text": [
      "Epoch 26: 9% , Loss: 2.620574\n"
     ]
    },
    {
     "name": "stderr",
     "output_type": "stream",
     "text": [
      " 19%|█▉        | 201/1065 [01:41<08:15,  1.74it/s]"
     ]
    },
    {
     "name": "stdout",
     "output_type": "stream",
     "text": [
      "Epoch 26: 19% , Loss: 4.497066\n"
     ]
    },
    {
     "name": "stderr",
     "output_type": "stream",
     "text": [
      " 28%|██▊       | 301/1065 [02:34<06:20,  2.01it/s]"
     ]
    },
    {
     "name": "stdout",
     "output_type": "stream",
     "text": [
      "Epoch 26: 28% , Loss: 5.429875\n"
     ]
    },
    {
     "name": "stderr",
     "output_type": "stream",
     "text": [
      " 38%|███▊      | 401/1065 [03:28<05:51,  1.89it/s]"
     ]
    },
    {
     "name": "stdout",
     "output_type": "stream",
     "text": [
      "Epoch 26: 38% , Loss: 2.545314\n"
     ]
    },
    {
     "name": "stderr",
     "output_type": "stream",
     "text": [
      " 47%|████▋     | 501/1065 [04:20<05:21,  1.75it/s]"
     ]
    },
    {
     "name": "stdout",
     "output_type": "stream",
     "text": [
      "Epoch 26: 47% , Loss: 3.955168\n"
     ]
    },
    {
     "name": "stderr",
     "output_type": "stream",
     "text": [
      " 56%|█████▋    | 601/1065 [05:14<04:41,  1.65it/s]"
     ]
    },
    {
     "name": "stdout",
     "output_type": "stream",
     "text": [
      "Epoch 26: 56% , Loss: 18.936695\n"
     ]
    },
    {
     "name": "stderr",
     "output_type": "stream",
     "text": [
      " 66%|██████▌   | 701/1065 [06:02<02:55,  2.07it/s]"
     ]
    },
    {
     "name": "stdout",
     "output_type": "stream",
     "text": [
      "Epoch 26: 66% , Loss: 8.286605\n"
     ]
    },
    {
     "name": "stderr",
     "output_type": "stream",
     "text": [
      " 75%|███████▌  | 801/1065 [06:55<02:16,  1.93it/s]"
     ]
    },
    {
     "name": "stdout",
     "output_type": "stream",
     "text": [
      "Epoch 26: 75% , Loss: 6.473823\n"
     ]
    },
    {
     "name": "stderr",
     "output_type": "stream",
     "text": [
      " 85%|████████▍ | 901/1065 [07:57<01:41,  1.62it/s]"
     ]
    },
    {
     "name": "stdout",
     "output_type": "stream",
     "text": [
      "Epoch 26: 85% , Loss: 2.593622\n"
     ]
    },
    {
     "name": "stderr",
     "output_type": "stream",
     "text": [
      " 94%|█████████▍| 1001/1065 [08:57<00:44,  1.42it/s]"
     ]
    },
    {
     "name": "stdout",
     "output_type": "stream",
     "text": [
      "Epoch 26: 94% , Loss: 5.750503\n"
     ]
    },
    {
     "name": "stderr",
     "output_type": "stream",
     "text": [
      "100%|██████████| 1065/1065 [09:38<00:00,  1.84it/s]"
     ]
    },
    {
     "name": "stdout",
     "output_type": "stream",
     "text": [
      "Epoch 26: 100% , Loss: 13.072206\n"
     ]
    },
    {
     "name": "stderr",
     "output_type": "stream",
     "text": [
      "\n"
     ]
    },
    {
     "name": "stdout",
     "output_type": "stream",
     "text": [
      "                      (F1-score: 0.0457)\n",
      "\n",
      "                      (NDCG: 0.0692)\n",
      "\n",
      "                      (MAE: 3.9049)\n",
      "\n",
      "train_loss= tensor(7.9404)\n",
      "--------------------\n"
     ]
    },
    {
     "name": "stderr",
     "output_type": "stream",
     "text": [
      "100%|██████████| 133/133 [00:54<00:00,  2.44it/s]\n"
     ]
    },
    {
     "name": "stdout",
     "output_type": "stream",
     "text": [
      "                      (F1-score: 0.0458)\n",
      "\n",
      "                      (NDCG: 0.0692)\n",
      "\n",
      "                      (MAE: 3.9944)\n",
      "\n",
      "val_loss= tensor(9.7567)\n",
      "--------------------\n"
     ]
    },
    {
     "name": "stderr",
     "output_type": "stream",
     "text": [
      "100%|██████████| 133/133 [00:53<00:00,  2.47it/s]\n"
     ]
    },
    {
     "name": "stdout",
     "output_type": "stream",
     "text": [
      "                      (F1-score: 0.0469)\n",
      "\n",
      "                      (NDCG: 0.0698)\n",
      "\n",
      "                      (MAE: 3.9859)\n",
      "\n",
      "--------------------\n",
      "[[1, {'F1-score': 4.1771094402673345e-05}, {'NDCG': 8.545867062376855e-05}, {'MAE': 4.827067669172933}, 12.228038787841797], [2, {'F1-score': 0.0}, {'NDCG': 0.0}, {'MAE': 4.172932330827067}, 10.406564712524414], [3, {'F1-score': 0.012814380349113991}, {'NDCG': 0.013789705904130648}, {'MAE': 4.044172932330827}, 10.180235862731934], [4, {'F1-score': 0.019728655244801822}, {'NDCG': 0.042426276983539186}, {'MAE': 3.924812030075188}, 10.27104377746582], [5, {'F1-score': 0.027809576345933028}, {'NDCG': 0.0508072271459925}, {'MAE': 3.9981203007518795}, 10.06705093383789], [6, {'F1-score': 0.04313347594182737}, {'NDCG': 0.06686435966871511}, {'MAE': 4.1644736842105265}, 10.020689964294434], [7, {'F1-score': 0.04513285659533101}, {'NDCG': 0.06909855229857105}, {'MAE': 3.9906015037593985}, 9.96373176574707], [8, {'F1-score': 0.045441685393334305}, {'NDCG': 0.06952707130721021}, {'MAE': 3.8843984962406015}, 10.087576866149902], [9, {'F1-score': 0.045130280851725504}, {'NDCG': 0.0688168445875154}, {'MAE': 4.075187969924812}, 9.857915878295898], [10, {'F1-score': 0.04552397942984522}, {'NDCG': 0.06929526838326924}, {'MAE': 3.9163533834586466}, 9.966713905334473], [11, {'F1-score': 0.04527954451481179}, {'NDCG': 0.06923387377852}, {'MAE': 4.2368421052631575}, 9.936558723449707], [12, {'F1-score': 0.04544124764304432}, {'NDCG': 0.06932935343102965}, {'MAE': 4.283834586466165}, 9.93392276763916], [13, {'F1-score': 0.04635016026428295}, {'NDCG': 0.06971331463454473}, {'MAE': 4.052631578947368}, 9.783748626708984], [14, {'F1-score': 0.04598700006743969}, {'NDCG': 0.06980015553316955}, {'MAE': 4.294172932330827}, 10.010079383850098], [15, {'F1-score': 0.04557546047238463}, {'NDCG': 0.06904085727646611}, {'MAE': 3.9351503759398496}, 9.863205909729004], [16, {'F1-score': 0.04600217515605764}, {'NDCG': 0.06953545096960563}, {'MAE': 4.1118421052631575}, 9.791077613830566], [17, {'F1-score': 0.0444614388548676}, {'NDCG': 0.06885833612510137}, {'MAE': 4.43327067669173}, 10.302906036376953], [18, {'F1-score': 0.044953105088883255}, {'NDCG': 0.06880327245689705}, {'MAE': 4.144736842105263}, 9.823137283325195], [19, {'F1-score': 0.0463191580226739}, {'NDCG': 0.07081282137073856}, {'MAE': 3.9078947368421053}, 9.960440635681152], [20, {'F1-score': 0.04484886492765434}, {'NDCG': 0.06864973495161175}, {'MAE': 4.205827067669173}, 9.852874755859375], [21, {'F1-score': 0.0456031228981218}, {'NDCG': 0.06937222206734009}, {'MAE': 3.9906015037593985}, 9.767979621887207], [22, {'F1-score': 0.04583258565951394}, {'NDCG': 0.06950625666956368}, {'MAE': 4.056390977443609}, 9.762333869934082], [23, {'F1-score': 0.04567524986098043}, {'NDCG': 0.06900454290505302}, {'MAE': 4.109022556390977}, 9.772006034851074], [24, {'F1-score': 0.04658097224873822}, {'NDCG': 0.0700591961867211}, {'MAE': 3.922932330827068}, 9.899181365966797], [25, {'F1-score': 0.04544520707333022}, {'NDCG': 0.06904575803765285}, {'MAE': 4.072368421052632}, 9.838201522827148], [26, {'F1-score': 0.04691168098997397}, {'NDCG': 0.06977327419024773}, {'MAE': 3.9859022556390977}, 9.75668716430664]]\n",
      "-----------------------------------------------------------------------------------------\n"
     ]
    },
    {
     "name": "stderr",
     "output_type": "stream",
     "text": [
      "  0%|          | 1/1065 [00:00<09:02,  1.96it/s]"
     ]
    },
    {
     "name": "stdout",
     "output_type": "stream",
     "text": [
      "Epoch 27: 0% , Loss: 8.794498\n"
     ]
    },
    {
     "name": "stderr",
     "output_type": "stream",
     "text": [
      "  9%|▉         | 101/1065 [00:51<07:12,  2.23it/s]"
     ]
    },
    {
     "name": "stdout",
     "output_type": "stream",
     "text": [
      "Epoch 27: 9% , Loss: 2.118957\n"
     ]
    },
    {
     "name": "stderr",
     "output_type": "stream",
     "text": [
      " 19%|█▉        | 201/1065 [01:41<07:04,  2.04it/s]"
     ]
    },
    {
     "name": "stdout",
     "output_type": "stream",
     "text": [
      "Epoch 27: 19% , Loss: 7.788835\n"
     ]
    },
    {
     "name": "stderr",
     "output_type": "stream",
     "text": [
      " 28%|██▊       | 301/1065 [02:34<06:35,  1.93it/s]"
     ]
    },
    {
     "name": "stdout",
     "output_type": "stream",
     "text": [
      "Epoch 27: 28% , Loss: 8.384045\n"
     ]
    },
    {
     "name": "stderr",
     "output_type": "stream",
     "text": [
      " 38%|███▊      | 401/1065 [03:25<06:12,  1.78it/s]"
     ]
    },
    {
     "name": "stdout",
     "output_type": "stream",
     "text": [
      "Epoch 27: 38% , Loss: 5.524663\n"
     ]
    },
    {
     "name": "stderr",
     "output_type": "stream",
     "text": [
      " 47%|████▋     | 501/1065 [04:18<04:30,  2.08it/s]"
     ]
    },
    {
     "name": "stdout",
     "output_type": "stream",
     "text": [
      "Epoch 27: 47% , Loss: 3.850637\n"
     ]
    },
    {
     "name": "stderr",
     "output_type": "stream",
     "text": [
      " 56%|█████▋    | 601/1065 [05:11<02:29,  3.10it/s]"
     ]
    },
    {
     "name": "stdout",
     "output_type": "stream",
     "text": [
      "Epoch 27: 56% , Loss: 10.501876\n"
     ]
    },
    {
     "name": "stderr",
     "output_type": "stream",
     "text": [
      " 66%|██████▌   | 701/1065 [06:01<02:50,  2.13it/s]"
     ]
    },
    {
     "name": "stdout",
     "output_type": "stream",
     "text": [
      "Epoch 27: 66% , Loss: 3.060228\n"
     ]
    },
    {
     "name": "stderr",
     "output_type": "stream",
     "text": [
      " 75%|███████▌  | 801/1065 [06:52<02:01,  2.17it/s]"
     ]
    },
    {
     "name": "stdout",
     "output_type": "stream",
     "text": [
      "Epoch 27: 75% , Loss: 23.254778\n"
     ]
    },
    {
     "name": "stderr",
     "output_type": "stream",
     "text": [
      " 85%|████████▍ | 901/1065 [07:52<01:29,  1.84it/s]"
     ]
    },
    {
     "name": "stdout",
     "output_type": "stream",
     "text": [
      "Epoch 27: 85% , Loss: 5.764729\n"
     ]
    },
    {
     "name": "stderr",
     "output_type": "stream",
     "text": [
      " 94%|█████████▍| 1001/1065 [08:55<00:40,  1.60it/s]"
     ]
    },
    {
     "name": "stdout",
     "output_type": "stream",
     "text": [
      "Epoch 27: 94% , Loss: 1.497101\n"
     ]
    },
    {
     "name": "stderr",
     "output_type": "stream",
     "text": [
      "100%|██████████| 1065/1065 [09:38<00:00,  1.84it/s]"
     ]
    },
    {
     "name": "stdout",
     "output_type": "stream",
     "text": [
      "Epoch 27: 100% , Loss: 1.706878\n"
     ]
    },
    {
     "name": "stderr",
     "output_type": "stream",
     "text": [
      "\n"
     ]
    },
    {
     "name": "stdout",
     "output_type": "stream",
     "text": [
      "                      (F1-score: 0.0461)\n",
      "\n",
      "                      (NDCG: 0.0695)\n",
      "\n",
      "                      (MAE: 3.9151)\n",
      "\n",
      "train_loss= tensor(7.9374)\n",
      "--------------------\n"
     ]
    },
    {
     "name": "stderr",
     "output_type": "stream",
     "text": [
      "100%|██████████| 133/133 [00:54<00:00,  2.45it/s]\n"
     ]
    },
    {
     "name": "stdout",
     "output_type": "stream",
     "text": [
      "                      (F1-score: 0.0451)\n",
      "\n",
      "                      (NDCG: 0.0688)\n",
      "\n",
      "                      (MAE: 4.1635)\n",
      "\n",
      "val_loss= tensor(9.8416)\n",
      "--------------------\n"
     ]
    },
    {
     "name": "stderr",
     "output_type": "stream",
     "text": [
      "100%|██████████| 133/133 [00:54<00:00,  2.43it/s]\n"
     ]
    },
    {
     "name": "stdout",
     "output_type": "stream",
     "text": [
      "                      (F1-score: 0.0444)\n",
      "\n",
      "                      (NDCG: 0.0684)\n",
      "\n",
      "                      (MAE: 4.1626)\n",
      "\n",
      "--------------------\n",
      "[[1, {'F1-score': 4.1771094402673345e-05}, {'NDCG': 8.545867062376855e-05}, {'MAE': 4.827067669172933}, 12.228038787841797], [2, {'F1-score': 0.0}, {'NDCG': 0.0}, {'MAE': 4.172932330827067}, 10.406564712524414], [3, {'F1-score': 0.012814380349113991}, {'NDCG': 0.013789705904130648}, {'MAE': 4.044172932330827}, 10.180235862731934], [4, {'F1-score': 0.019728655244801822}, {'NDCG': 0.042426276983539186}, {'MAE': 3.924812030075188}, 10.27104377746582], [5, {'F1-score': 0.027809576345933028}, {'NDCG': 0.0508072271459925}, {'MAE': 3.9981203007518795}, 10.06705093383789], [6, {'F1-score': 0.04313347594182737}, {'NDCG': 0.06686435966871511}, {'MAE': 4.1644736842105265}, 10.020689964294434], [7, {'F1-score': 0.04513285659533101}, {'NDCG': 0.06909855229857105}, {'MAE': 3.9906015037593985}, 9.96373176574707], [8, {'F1-score': 0.045441685393334305}, {'NDCG': 0.06952707130721021}, {'MAE': 3.8843984962406015}, 10.087576866149902], [9, {'F1-score': 0.045130280851725504}, {'NDCG': 0.0688168445875154}, {'MAE': 4.075187969924812}, 9.857915878295898], [10, {'F1-score': 0.04552397942984522}, {'NDCG': 0.06929526838326924}, {'MAE': 3.9163533834586466}, 9.966713905334473], [11, {'F1-score': 0.04527954451481179}, {'NDCG': 0.06923387377852}, {'MAE': 4.2368421052631575}, 9.936558723449707], [12, {'F1-score': 0.04544124764304432}, {'NDCG': 0.06932935343102965}, {'MAE': 4.283834586466165}, 9.93392276763916], [13, {'F1-score': 0.04635016026428295}, {'NDCG': 0.06971331463454473}, {'MAE': 4.052631578947368}, 9.783748626708984], [14, {'F1-score': 0.04598700006743969}, {'NDCG': 0.06980015553316955}, {'MAE': 4.294172932330827}, 10.010079383850098], [15, {'F1-score': 0.04557546047238463}, {'NDCG': 0.06904085727646611}, {'MAE': 3.9351503759398496}, 9.863205909729004], [16, {'F1-score': 0.04600217515605764}, {'NDCG': 0.06953545096960563}, {'MAE': 4.1118421052631575}, 9.791077613830566], [17, {'F1-score': 0.0444614388548676}, {'NDCG': 0.06885833612510137}, {'MAE': 4.43327067669173}, 10.302906036376953], [18, {'F1-score': 0.044953105088883255}, {'NDCG': 0.06880327245689705}, {'MAE': 4.144736842105263}, 9.823137283325195], [19, {'F1-score': 0.0463191580226739}, {'NDCG': 0.07081282137073856}, {'MAE': 3.9078947368421053}, 9.960440635681152], [20, {'F1-score': 0.04484886492765434}, {'NDCG': 0.06864973495161175}, {'MAE': 4.205827067669173}, 9.852874755859375], [21, {'F1-score': 0.0456031228981218}, {'NDCG': 0.06937222206734009}, {'MAE': 3.9906015037593985}, 9.767979621887207], [22, {'F1-score': 0.04583258565951394}, {'NDCG': 0.06950625666956368}, {'MAE': 4.056390977443609}, 9.762333869934082], [23, {'F1-score': 0.04567524986098043}, {'NDCG': 0.06900454290505302}, {'MAE': 4.109022556390977}, 9.772006034851074], [24, {'F1-score': 0.04658097224873822}, {'NDCG': 0.0700591961867211}, {'MAE': 3.922932330827068}, 9.899181365966797], [25, {'F1-score': 0.04544520707333022}, {'NDCG': 0.06904575803765285}, {'MAE': 4.072368421052632}, 9.838201522827148], [26, {'F1-score': 0.04691168098997397}, {'NDCG': 0.06977327419024773}, {'MAE': 3.9859022556390977}, 9.75668716430664], [27, {'F1-score': 0.04441374870575312}, {'NDCG': 0.06837516863256189}, {'MAE': 4.162593984962406}, 9.841572761535645]]\n",
      "-----------------------------------------------------------------------------------------\n"
     ]
    },
    {
     "name": "stderr",
     "output_type": "stream",
     "text": [
      "  0%|          | 1/1065 [00:00<09:14,  1.92it/s]"
     ]
    },
    {
     "name": "stdout",
     "output_type": "stream",
     "text": [
      "Epoch 28: 0% , Loss: 6.755083\n"
     ]
    },
    {
     "name": "stderr",
     "output_type": "stream",
     "text": [
      "  9%|▉         | 101/1065 [00:52<07:38,  2.10it/s]"
     ]
    },
    {
     "name": "stdout",
     "output_type": "stream",
     "text": [
      "Epoch 28: 9% , Loss: 3.943525\n"
     ]
    },
    {
     "name": "stderr",
     "output_type": "stream",
     "text": [
      " 19%|█▉        | 201/1065 [01:42<07:46,  1.85it/s]"
     ]
    },
    {
     "name": "stdout",
     "output_type": "stream",
     "text": [
      "Epoch 28: 19% , Loss: 3.594913\n"
     ]
    },
    {
     "name": "stderr",
     "output_type": "stream",
     "text": [
      " 28%|██▊       | 301/1065 [02:34<05:40,  2.25it/s]"
     ]
    },
    {
     "name": "stdout",
     "output_type": "stream",
     "text": [
      "Epoch 28: 28% , Loss: 2.418986\n"
     ]
    },
    {
     "name": "stderr",
     "output_type": "stream",
     "text": [
      " 38%|███▊      | 401/1065 [03:24<06:16,  1.76it/s]"
     ]
    },
    {
     "name": "stdout",
     "output_type": "stream",
     "text": [
      "Epoch 28: 38% , Loss: 13.862040\n"
     ]
    },
    {
     "name": "stderr",
     "output_type": "stream",
     "text": [
      " 47%|████▋     | 501/1065 [04:17<05:43,  1.64it/s]"
     ]
    },
    {
     "name": "stdout",
     "output_type": "stream",
     "text": [
      "Epoch 28: 47% , Loss: 11.736371\n"
     ]
    },
    {
     "name": "stderr",
     "output_type": "stream",
     "text": [
      " 56%|█████▋    | 601/1065 [05:08<03:21,  2.30it/s]"
     ]
    },
    {
     "name": "stdout",
     "output_type": "stream",
     "text": [
      "Epoch 28: 56% , Loss: 37.409603\n"
     ]
    },
    {
     "name": "stderr",
     "output_type": "stream",
     "text": [
      " 66%|██████▌   | 701/1065 [05:59<03:05,  1.96it/s]"
     ]
    },
    {
     "name": "stdout",
     "output_type": "stream",
     "text": [
      "Epoch 28: 66% , Loss: 22.234196\n"
     ]
    },
    {
     "name": "stderr",
     "output_type": "stream",
     "text": [
      " 75%|███████▌  | 801/1065 [06:52<02:35,  1.69it/s]"
     ]
    },
    {
     "name": "stdout",
     "output_type": "stream",
     "text": [
      "Epoch 28: 75% , Loss: 2.986230\n"
     ]
    },
    {
     "name": "stderr",
     "output_type": "stream",
     "text": [
      " 85%|████████▍ | 901/1065 [07:57<02:06,  1.30it/s]"
     ]
    },
    {
     "name": "stdout",
     "output_type": "stream",
     "text": [
      "Epoch 28: 85% , Loss: 26.187420\n"
     ]
    },
    {
     "name": "stderr",
     "output_type": "stream",
     "text": [
      " 94%|█████████▍| 1001/1065 [08:58<00:33,  1.92it/s]"
     ]
    },
    {
     "name": "stdout",
     "output_type": "stream",
     "text": [
      "Epoch 28: 94% , Loss: 9.804207\n"
     ]
    },
    {
     "name": "stderr",
     "output_type": "stream",
     "text": [
      "100%|██████████| 1065/1065 [09:38<00:00,  1.84it/s]"
     ]
    },
    {
     "name": "stdout",
     "output_type": "stream",
     "text": [
      "Epoch 28: 100% , Loss: 17.793413\n"
     ]
    },
    {
     "name": "stderr",
     "output_type": "stream",
     "text": [
      "\n"
     ]
    },
    {
     "name": "stdout",
     "output_type": "stream",
     "text": [
      "                      (F1-score: 0.0458)\n",
      "\n",
      "                      (NDCG: 0.0693)\n",
      "\n",
      "                      (MAE: 3.9133)\n",
      "\n",
      "train_loss= tensor(7.9408)\n",
      "--------------------\n"
     ]
    },
    {
     "name": "stderr",
     "output_type": "stream",
     "text": [
      "100%|██████████| 133/133 [00:55<00:00,  2.41it/s]\n"
     ]
    },
    {
     "name": "stdout",
     "output_type": "stream",
     "text": [
      "                      (F1-score: 0.0449)\n",
      "\n",
      "                      (NDCG: 0.0690)\n",
      "\n",
      "                      (MAE: 4.3534)\n",
      "\n",
      "val_loss= tensor(10.0415)\n",
      "--------------------\n"
     ]
    },
    {
     "name": "stderr",
     "output_type": "stream",
     "text": [
      "100%|██████████| 133/133 [00:54<00:00,  2.44it/s]\n"
     ]
    },
    {
     "name": "stdout",
     "output_type": "stream",
     "text": [
      "                      (F1-score: 0.0442)\n",
      "\n",
      "                      (NDCG: 0.0685)\n",
      "\n",
      "                      (MAE: 4.3412)\n",
      "\n",
      "--------------------\n",
      "[[1, {'F1-score': 4.1771094402673345e-05}, {'NDCG': 8.545867062376855e-05}, {'MAE': 4.827067669172933}, 12.228038787841797], [2, {'F1-score': 0.0}, {'NDCG': 0.0}, {'MAE': 4.172932330827067}, 10.406564712524414], [3, {'F1-score': 0.012814380349113991}, {'NDCG': 0.013789705904130648}, {'MAE': 4.044172932330827}, 10.180235862731934], [4, {'F1-score': 0.019728655244801822}, {'NDCG': 0.042426276983539186}, {'MAE': 3.924812030075188}, 10.27104377746582], [5, {'F1-score': 0.027809576345933028}, {'NDCG': 0.0508072271459925}, {'MAE': 3.9981203007518795}, 10.06705093383789], [6, {'F1-score': 0.04313347594182737}, {'NDCG': 0.06686435966871511}, {'MAE': 4.1644736842105265}, 10.020689964294434], [7, {'F1-score': 0.04513285659533101}, {'NDCG': 0.06909855229857105}, {'MAE': 3.9906015037593985}, 9.96373176574707], [8, {'F1-score': 0.045441685393334305}, {'NDCG': 0.06952707130721021}, {'MAE': 3.8843984962406015}, 10.087576866149902], [9, {'F1-score': 0.045130280851725504}, {'NDCG': 0.0688168445875154}, {'MAE': 4.075187969924812}, 9.857915878295898], [10, {'F1-score': 0.04552397942984522}, {'NDCG': 0.06929526838326924}, {'MAE': 3.9163533834586466}, 9.966713905334473], [11, {'F1-score': 0.04527954451481179}, {'NDCG': 0.06923387377852}, {'MAE': 4.2368421052631575}, 9.936558723449707], [12, {'F1-score': 0.04544124764304432}, {'NDCG': 0.06932935343102965}, {'MAE': 4.283834586466165}, 9.93392276763916], [13, {'F1-score': 0.04635016026428295}, {'NDCG': 0.06971331463454473}, {'MAE': 4.052631578947368}, 9.783748626708984], [14, {'F1-score': 0.04598700006743969}, {'NDCG': 0.06980015553316955}, {'MAE': 4.294172932330827}, 10.010079383850098], [15, {'F1-score': 0.04557546047238463}, {'NDCG': 0.06904085727646611}, {'MAE': 3.9351503759398496}, 9.863205909729004], [16, {'F1-score': 0.04600217515605764}, {'NDCG': 0.06953545096960563}, {'MAE': 4.1118421052631575}, 9.791077613830566], [17, {'F1-score': 0.0444614388548676}, {'NDCG': 0.06885833612510137}, {'MAE': 4.43327067669173}, 10.302906036376953], [18, {'F1-score': 0.044953105088883255}, {'NDCG': 0.06880327245689705}, {'MAE': 4.144736842105263}, 9.823137283325195], [19, {'F1-score': 0.0463191580226739}, {'NDCG': 0.07081282137073856}, {'MAE': 3.9078947368421053}, 9.960440635681152], [20, {'F1-score': 0.04484886492765434}, {'NDCG': 0.06864973495161175}, {'MAE': 4.205827067669173}, 9.852874755859375], [21, {'F1-score': 0.0456031228981218}, {'NDCG': 0.06937222206734009}, {'MAE': 3.9906015037593985}, 9.767979621887207], [22, {'F1-score': 0.04583258565951394}, {'NDCG': 0.06950625666956368}, {'MAE': 4.056390977443609}, 9.762333869934082], [23, {'F1-score': 0.04567524986098043}, {'NDCG': 0.06900454290505302}, {'MAE': 4.109022556390977}, 9.772006034851074], [24, {'F1-score': 0.04658097224873822}, {'NDCG': 0.0700591961867211}, {'MAE': 3.922932330827068}, 9.899181365966797], [25, {'F1-score': 0.04544520707333022}, {'NDCG': 0.06904575803765285}, {'MAE': 4.072368421052632}, 9.838201522827148], [26, {'F1-score': 0.04691168098997397}, {'NDCG': 0.06977327419024773}, {'MAE': 3.9859022556390977}, 9.75668716430664], [27, {'F1-score': 0.04441374870575312}, {'NDCG': 0.06837516863256189}, {'MAE': 4.162593984962406}, 9.841572761535645], [28, {'F1-score': 0.04416134919855646}, {'NDCG': 0.06853503274164141}, {'MAE': 4.341165413533835}, 10.041533470153809]]\n",
      "-----------------------------------------------------------------------------------------\n"
     ]
    },
    {
     "name": "stderr",
     "output_type": "stream",
     "text": [
      "  0%|          | 1/1065 [00:00<06:57,  2.55it/s]"
     ]
    },
    {
     "name": "stdout",
     "output_type": "stream",
     "text": [
      "Epoch 29: 0% , Loss: 6.738862\n"
     ]
    },
    {
     "name": "stderr",
     "output_type": "stream",
     "text": [
      "  9%|▉         | 101/1065 [00:51<07:54,  2.03it/s]"
     ]
    },
    {
     "name": "stdout",
     "output_type": "stream",
     "text": [
      "Epoch 29: 9% , Loss: 11.714697\n"
     ]
    },
    {
     "name": "stderr",
     "output_type": "stream",
     "text": [
      " 19%|█▉        | 201/1065 [01:43<06:11,  2.33it/s]"
     ]
    },
    {
     "name": "stdout",
     "output_type": "stream",
     "text": [
      "Epoch 29: 19% , Loss: 3.338271\n"
     ]
    },
    {
     "name": "stderr",
     "output_type": "stream",
     "text": [
      " 28%|██▊       | 301/1065 [02:35<06:38,  1.92it/s]"
     ]
    },
    {
     "name": "stdout",
     "output_type": "stream",
     "text": [
      "Epoch 29: 28% , Loss: 7.551490\n"
     ]
    },
    {
     "name": "stderr",
     "output_type": "stream",
     "text": [
      " 38%|███▊      | 401/1065 [03:28<07:01,  1.58it/s]"
     ]
    },
    {
     "name": "stdout",
     "output_type": "stream",
     "text": [
      "Epoch 29: 38% , Loss: 1.663396\n"
     ]
    },
    {
     "name": "stderr",
     "output_type": "stream",
     "text": [
      " 47%|████▋     | 501/1065 [04:20<04:28,  2.10it/s]"
     ]
    },
    {
     "name": "stdout",
     "output_type": "stream",
     "text": [
      "Epoch 29: 47% , Loss: 6.020936\n"
     ]
    },
    {
     "name": "stderr",
     "output_type": "stream",
     "text": [
      " 56%|█████▋    | 601/1065 [05:10<03:37,  2.14it/s]"
     ]
    },
    {
     "name": "stdout",
     "output_type": "stream",
     "text": [
      "Epoch 29: 56% , Loss: 4.091140\n"
     ]
    },
    {
     "name": "stderr",
     "output_type": "stream",
     "text": [
      " 66%|██████▌   | 701/1065 [06:00<04:40,  1.30it/s]"
     ]
    },
    {
     "name": "stdout",
     "output_type": "stream",
     "text": [
      "Epoch 29: 66% , Loss: 1.587344\n"
     ]
    },
    {
     "name": "stderr",
     "output_type": "stream",
     "text": [
      " 75%|███████▌  | 801/1065 [06:54<02:18,  1.91it/s]"
     ]
    },
    {
     "name": "stdout",
     "output_type": "stream",
     "text": [
      "Epoch 29: 75% , Loss: 6.248365\n"
     ]
    },
    {
     "name": "stderr",
     "output_type": "stream",
     "text": [
      " 85%|████████▍ | 901/1065 [07:55<01:39,  1.65it/s]"
     ]
    },
    {
     "name": "stdout",
     "output_type": "stream",
     "text": [
      "Epoch 29: 85% , Loss: 4.769991\n"
     ]
    },
    {
     "name": "stderr",
     "output_type": "stream",
     "text": [
      " 94%|█████████▍| 1001/1065 [08:57<00:34,  1.86it/s]"
     ]
    },
    {
     "name": "stdout",
     "output_type": "stream",
     "text": [
      "Epoch 29: 94% , Loss: 12.263720\n"
     ]
    },
    {
     "name": "stderr",
     "output_type": "stream",
     "text": [
      "100%|██████████| 1065/1065 [09:35<00:00,  1.85it/s]"
     ]
    },
    {
     "name": "stdout",
     "output_type": "stream",
     "text": [
      "Epoch 29: 100% , Loss: 9.178840\n"
     ]
    },
    {
     "name": "stderr",
     "output_type": "stream",
     "text": [
      "\n"
     ]
    },
    {
     "name": "stdout",
     "output_type": "stream",
     "text": [
      "                      (F1-score: 0.0460)\n",
      "\n",
      "                      (NDCG: 0.0695)\n",
      "\n",
      "                      (MAE: 3.9100)\n",
      "\n",
      "train_loss= tensor(7.9512)\n",
      "--------------------\n"
     ]
    },
    {
     "name": "stderr",
     "output_type": "stream",
     "text": [
      "100%|██████████| 133/133 [00:54<00:00,  2.44it/s]\n"
     ]
    },
    {
     "name": "stdout",
     "output_type": "stream",
     "text": [
      "                      (F1-score: 0.0452)\n",
      "\n",
      "                      (NDCG: 0.0689)\n",
      "\n",
      "                      (MAE: 4.2124)\n",
      "\n",
      "val_loss= tensor(9.8724)\n",
      "--------------------\n"
     ]
    },
    {
     "name": "stderr",
     "output_type": "stream",
     "text": [
      "100%|██████████| 133/133 [00:52<00:00,  2.52it/s]\n"
     ]
    },
    {
     "name": "stdout",
     "output_type": "stream",
     "text": [
      "                      (F1-score: 0.0441)\n",
      "\n",
      "                      (NDCG: 0.0681)\n",
      "\n",
      "                      (MAE: 4.2171)\n",
      "\n",
      "--------------------\n",
      "[[1, {'F1-score': 4.1771094402673345e-05}, {'NDCG': 8.545867062376855e-05}, {'MAE': 4.827067669172933}, 12.228038787841797], [2, {'F1-score': 0.0}, {'NDCG': 0.0}, {'MAE': 4.172932330827067}, 10.406564712524414], [3, {'F1-score': 0.012814380349113991}, {'NDCG': 0.013789705904130648}, {'MAE': 4.044172932330827}, 10.180235862731934], [4, {'F1-score': 0.019728655244801822}, {'NDCG': 0.042426276983539186}, {'MAE': 3.924812030075188}, 10.27104377746582], [5, {'F1-score': 0.027809576345933028}, {'NDCG': 0.0508072271459925}, {'MAE': 3.9981203007518795}, 10.06705093383789], [6, {'F1-score': 0.04313347594182737}, {'NDCG': 0.06686435966871511}, {'MAE': 4.1644736842105265}, 10.020689964294434], [7, {'F1-score': 0.04513285659533101}, {'NDCG': 0.06909855229857105}, {'MAE': 3.9906015037593985}, 9.96373176574707], [8, {'F1-score': 0.045441685393334305}, {'NDCG': 0.06952707130721021}, {'MAE': 3.8843984962406015}, 10.087576866149902], [9, {'F1-score': 0.045130280851725504}, {'NDCG': 0.0688168445875154}, {'MAE': 4.075187969924812}, 9.857915878295898], [10, {'F1-score': 0.04552397942984522}, {'NDCG': 0.06929526838326924}, {'MAE': 3.9163533834586466}, 9.966713905334473], [11, {'F1-score': 0.04527954451481179}, {'NDCG': 0.06923387377852}, {'MAE': 4.2368421052631575}, 9.936558723449707], [12, {'F1-score': 0.04544124764304432}, {'NDCG': 0.06932935343102965}, {'MAE': 4.283834586466165}, 9.93392276763916], [13, {'F1-score': 0.04635016026428295}, {'NDCG': 0.06971331463454473}, {'MAE': 4.052631578947368}, 9.783748626708984], [14, {'F1-score': 0.04598700006743969}, {'NDCG': 0.06980015553316955}, {'MAE': 4.294172932330827}, 10.010079383850098], [15, {'F1-score': 0.04557546047238463}, {'NDCG': 0.06904085727646611}, {'MAE': 3.9351503759398496}, 9.863205909729004], [16, {'F1-score': 0.04600217515605764}, {'NDCG': 0.06953545096960563}, {'MAE': 4.1118421052631575}, 9.791077613830566], [17, {'F1-score': 0.0444614388548676}, {'NDCG': 0.06885833612510137}, {'MAE': 4.43327067669173}, 10.302906036376953], [18, {'F1-score': 0.044953105088883255}, {'NDCG': 0.06880327245689705}, {'MAE': 4.144736842105263}, 9.823137283325195], [19, {'F1-score': 0.0463191580226739}, {'NDCG': 0.07081282137073856}, {'MAE': 3.9078947368421053}, 9.960440635681152], [20, {'F1-score': 0.04484886492765434}, {'NDCG': 0.06864973495161175}, {'MAE': 4.205827067669173}, 9.852874755859375], [21, {'F1-score': 0.0456031228981218}, {'NDCG': 0.06937222206734009}, {'MAE': 3.9906015037593985}, 9.767979621887207], [22, {'F1-score': 0.04583258565951394}, {'NDCG': 0.06950625666956368}, {'MAE': 4.056390977443609}, 9.762333869934082], [23, {'F1-score': 0.04567524986098043}, {'NDCG': 0.06900454290505302}, {'MAE': 4.109022556390977}, 9.772006034851074], [24, {'F1-score': 0.04658097224873822}, {'NDCG': 0.0700591961867211}, {'MAE': 3.922932330827068}, 9.899181365966797], [25, {'F1-score': 0.04544520707333022}, {'NDCG': 0.06904575803765285}, {'MAE': 4.072368421052632}, 9.838201522827148], [26, {'F1-score': 0.04691168098997397}, {'NDCG': 0.06977327419024773}, {'MAE': 3.9859022556390977}, 9.75668716430664], [27, {'F1-score': 0.04441374870575312}, {'NDCG': 0.06837516863256189}, {'MAE': 4.162593984962406}, 9.841572761535645], [28, {'F1-score': 0.04416134919855646}, {'NDCG': 0.06853503274164141}, {'MAE': 4.341165413533835}, 10.041533470153809], [29, {'F1-score': 0.04412241521628289}, {'NDCG': 0.06814411034128327}, {'MAE': 4.217105263157895}, 9.87244987487793]]\n",
      "-----------------------------------------------------------------------------------------\n"
     ]
    },
    {
     "name": "stderr",
     "output_type": "stream",
     "text": [
      "  0%|          | 1/1065 [00:00<06:49,  2.60it/s]"
     ]
    },
    {
     "name": "stdout",
     "output_type": "stream",
     "text": [
      "Epoch 30: 0% , Loss: 2.491838\n"
     ]
    },
    {
     "name": "stderr",
     "output_type": "stream",
     "text": [
      "  9%|▉         | 101/1065 [00:49<06:51,  2.34it/s]"
     ]
    },
    {
     "name": "stdout",
     "output_type": "stream",
     "text": [
      "Epoch 30: 9% , Loss: 2.030217\n"
     ]
    },
    {
     "name": "stderr",
     "output_type": "stream",
     "text": [
      " 19%|█▉        | 201/1065 [01:39<06:31,  2.21it/s]"
     ]
    },
    {
     "name": "stdout",
     "output_type": "stream",
     "text": [
      "Epoch 30: 19% , Loss: 6.781007\n"
     ]
    },
    {
     "name": "stderr",
     "output_type": "stream",
     "text": [
      " 28%|██▊       | 301/1065 [02:33<06:49,  1.87it/s]"
     ]
    },
    {
     "name": "stdout",
     "output_type": "stream",
     "text": [
      "Epoch 30: 28% , Loss: 5.628807\n"
     ]
    },
    {
     "name": "stderr",
     "output_type": "stream",
     "text": [
      " 38%|███▊      | 401/1065 [03:28<05:16,  2.10it/s]"
     ]
    },
    {
     "name": "stdout",
     "output_type": "stream",
     "text": [
      "Epoch 30: 38% , Loss: 2.717921\n"
     ]
    },
    {
     "name": "stderr",
     "output_type": "stream",
     "text": [
      " 47%|████▋     | 501/1065 [04:21<04:57,  1.89it/s]"
     ]
    },
    {
     "name": "stdout",
     "output_type": "stream",
     "text": [
      "Epoch 30: 47% , Loss: 2.260804\n"
     ]
    },
    {
     "name": "stderr",
     "output_type": "stream",
     "text": [
      " 56%|█████▋    | 601/1065 [05:12<04:26,  1.74it/s]"
     ]
    },
    {
     "name": "stdout",
     "output_type": "stream",
     "text": [
      "Epoch 30: 56% , Loss: 3.476762\n"
     ]
    },
    {
     "name": "stderr",
     "output_type": "stream",
     "text": [
      " 66%|██████▌   | 701/1065 [06:03<03:03,  1.98it/s]"
     ]
    },
    {
     "name": "stdout",
     "output_type": "stream",
     "text": [
      "Epoch 30: 66% , Loss: 13.609161\n"
     ]
    },
    {
     "name": "stderr",
     "output_type": "stream",
     "text": [
      " 75%|███████▌  | 801/1065 [06:57<02:20,  1.88it/s]"
     ]
    },
    {
     "name": "stdout",
     "output_type": "stream",
     "text": [
      "Epoch 30: 75% , Loss: 2.966519\n"
     ]
    },
    {
     "name": "stderr",
     "output_type": "stream",
     "text": [
      " 85%|████████▍ | 901/1065 [07:58<01:28,  1.85it/s]"
     ]
    },
    {
     "name": "stdout",
     "output_type": "stream",
     "text": [
      "Epoch 30: 85% , Loss: 3.451793\n"
     ]
    },
    {
     "name": "stderr",
     "output_type": "stream",
     "text": [
      " 94%|█████████▍| 1001/1065 [08:58<00:31,  2.03it/s]"
     ]
    },
    {
     "name": "stdout",
     "output_type": "stream",
     "text": [
      "Epoch 30: 94% , Loss: 5.694644\n"
     ]
    },
    {
     "name": "stderr",
     "output_type": "stream",
     "text": [
      "100%|██████████| 1065/1065 [09:37<00:00,  1.84it/s]"
     ]
    },
    {
     "name": "stdout",
     "output_type": "stream",
     "text": [
      "Epoch 30: 100% , Loss: 4.316599\n"
     ]
    },
    {
     "name": "stderr",
     "output_type": "stream",
     "text": [
      "\n"
     ]
    },
    {
     "name": "stdout",
     "output_type": "stream",
     "text": [
      "                      (F1-score: 0.0454)\n",
      "\n",
      "                      (NDCG: 0.0690)\n",
      "\n",
      "                      (MAE: 3.9063)\n",
      "\n",
      "train_loss= tensor(7.9310)\n",
      "--------------------\n"
     ]
    },
    {
     "name": "stderr",
     "output_type": "stream",
     "text": [
      "100%|██████████| 133/133 [00:54<00:00,  2.46it/s]\n"
     ]
    },
    {
     "name": "stdout",
     "output_type": "stream",
     "text": [
      "                      (F1-score: 0.0452)\n",
      "\n",
      "                      (NDCG: 0.0694)\n",
      "\n",
      "                      (MAE: 4.3788)\n",
      "\n",
      "val_loss= tensor(10.1346)\n",
      "--------------------\n"
     ]
    },
    {
     "name": "stderr",
     "output_type": "stream",
     "text": [
      "100%|██████████| 133/133 [00:53<00:00,  2.46it/s]\n"
     ]
    },
    {
     "name": "stdout",
     "output_type": "stream",
     "text": [
      "                      (F1-score: 0.0438)\n",
      "\n",
      "                      (NDCG: 0.0682)\n",
      "\n",
      "                      (MAE: 4.3665)\n",
      "\n",
      "--------------------\n",
      "[[1, {'F1-score': 4.1771094402673345e-05}, {'NDCG': 8.545867062376855e-05}, {'MAE': 4.827067669172933}, 12.228038787841797], [2, {'F1-score': 0.0}, {'NDCG': 0.0}, {'MAE': 4.172932330827067}, 10.406564712524414], [3, {'F1-score': 0.012814380349113991}, {'NDCG': 0.013789705904130648}, {'MAE': 4.044172932330827}, 10.180235862731934], [4, {'F1-score': 0.019728655244801822}, {'NDCG': 0.042426276983539186}, {'MAE': 3.924812030075188}, 10.27104377746582], [5, {'F1-score': 0.027809576345933028}, {'NDCG': 0.0508072271459925}, {'MAE': 3.9981203007518795}, 10.06705093383789], [6, {'F1-score': 0.04313347594182737}, {'NDCG': 0.06686435966871511}, {'MAE': 4.1644736842105265}, 10.020689964294434], [7, {'F1-score': 0.04513285659533101}, {'NDCG': 0.06909855229857105}, {'MAE': 3.9906015037593985}, 9.96373176574707], [8, {'F1-score': 0.045441685393334305}, {'NDCG': 0.06952707130721021}, {'MAE': 3.8843984962406015}, 10.087576866149902], [9, {'F1-score': 0.045130280851725504}, {'NDCG': 0.0688168445875154}, {'MAE': 4.075187969924812}, 9.857915878295898], [10, {'F1-score': 0.04552397942984522}, {'NDCG': 0.06929526838326924}, {'MAE': 3.9163533834586466}, 9.966713905334473], [11, {'F1-score': 0.04527954451481179}, {'NDCG': 0.06923387377852}, {'MAE': 4.2368421052631575}, 9.936558723449707], [12, {'F1-score': 0.04544124764304432}, {'NDCG': 0.06932935343102965}, {'MAE': 4.283834586466165}, 9.93392276763916], [13, {'F1-score': 0.04635016026428295}, {'NDCG': 0.06971331463454473}, {'MAE': 4.052631578947368}, 9.783748626708984], [14, {'F1-score': 0.04598700006743969}, {'NDCG': 0.06980015553316955}, {'MAE': 4.294172932330827}, 10.010079383850098], [15, {'F1-score': 0.04557546047238463}, {'NDCG': 0.06904085727646611}, {'MAE': 3.9351503759398496}, 9.863205909729004], [16, {'F1-score': 0.04600217515605764}, {'NDCG': 0.06953545096960563}, {'MAE': 4.1118421052631575}, 9.791077613830566], [17, {'F1-score': 0.0444614388548676}, {'NDCG': 0.06885833612510137}, {'MAE': 4.43327067669173}, 10.302906036376953], [18, {'F1-score': 0.044953105088883255}, {'NDCG': 0.06880327245689705}, {'MAE': 4.144736842105263}, 9.823137283325195], [19, {'F1-score': 0.0463191580226739}, {'NDCG': 0.07081282137073856}, {'MAE': 3.9078947368421053}, 9.960440635681152], [20, {'F1-score': 0.04484886492765434}, {'NDCG': 0.06864973495161175}, {'MAE': 4.205827067669173}, 9.852874755859375], [21, {'F1-score': 0.0456031228981218}, {'NDCG': 0.06937222206734009}, {'MAE': 3.9906015037593985}, 9.767979621887207], [22, {'F1-score': 0.04583258565951394}, {'NDCG': 0.06950625666956368}, {'MAE': 4.056390977443609}, 9.762333869934082], [23, {'F1-score': 0.04567524986098043}, {'NDCG': 0.06900454290505302}, {'MAE': 4.109022556390977}, 9.772006034851074], [24, {'F1-score': 0.04658097224873822}, {'NDCG': 0.0700591961867211}, {'MAE': 3.922932330827068}, 9.899181365966797], [25, {'F1-score': 0.04544520707333022}, {'NDCG': 0.06904575803765285}, {'MAE': 4.072368421052632}, 9.838201522827148], [26, {'F1-score': 0.04691168098997397}, {'NDCG': 0.06977327419024773}, {'MAE': 3.9859022556390977}, 9.75668716430664], [27, {'F1-score': 0.04441374870575312}, {'NDCG': 0.06837516863256189}, {'MAE': 4.162593984962406}, 9.841572761535645], [28, {'F1-score': 0.04416134919855646}, {'NDCG': 0.06853503274164141}, {'MAE': 4.341165413533835}, 10.041533470153809], [29, {'F1-score': 0.04412241521628289}, {'NDCG': 0.06814411034128327}, {'MAE': 4.217105263157895}, 9.87244987487793], [30, {'F1-score': 0.043802536679448306}, {'NDCG': 0.06823168578907791}, {'MAE': 4.366541353383458}, 10.134610176086426]]\n",
      "-----------------------------------------------------------------------------------------\n"
     ]
    },
    {
     "name": "stderr",
     "output_type": "stream",
     "text": [
      "  0%|          | 1/1065 [00:00<13:33,  1.31it/s]"
     ]
    },
    {
     "name": "stdout",
     "output_type": "stream",
     "text": [
      "Epoch 31: 0% , Loss: 26.947258\n"
     ]
    },
    {
     "name": "stderr",
     "output_type": "stream",
     "text": [
      "  9%|▉         | 101/1065 [00:53<08:27,  1.90it/s]"
     ]
    },
    {
     "name": "stdout",
     "output_type": "stream",
     "text": [
      "Epoch 31: 9% , Loss: 10.199359\n"
     ]
    },
    {
     "name": "stderr",
     "output_type": "stream",
     "text": [
      " 19%|█▉        | 201/1065 [01:44<06:56,  2.08it/s]"
     ]
    },
    {
     "name": "stdout",
     "output_type": "stream",
     "text": [
      "Epoch 31: 19% , Loss: 13.538188\n"
     ]
    },
    {
     "name": "stderr",
     "output_type": "stream",
     "text": [
      " 28%|██▊       | 301/1065 [02:36<06:12,  2.05it/s]"
     ]
    },
    {
     "name": "stdout",
     "output_type": "stream",
     "text": [
      "Epoch 31: 28% , Loss: 0.913049\n"
     ]
    },
    {
     "name": "stderr",
     "output_type": "stream",
     "text": [
      " 38%|███▊      | 401/1065 [03:27<05:59,  1.84it/s]"
     ]
    },
    {
     "name": "stdout",
     "output_type": "stream",
     "text": [
      "Epoch 31: 38% , Loss: 2.731948\n"
     ]
    },
    {
     "name": "stderr",
     "output_type": "stream",
     "text": [
      " 47%|████▋     | 501/1065 [04:23<04:56,  1.90it/s]"
     ]
    },
    {
     "name": "stdout",
     "output_type": "stream",
     "text": [
      "Epoch 31: 47% , Loss: 1.393898\n"
     ]
    },
    {
     "name": "stderr",
     "output_type": "stream",
     "text": [
      " 56%|█████▋    | 601/1065 [05:13<04:07,  1.87it/s]"
     ]
    },
    {
     "name": "stdout",
     "output_type": "stream",
     "text": [
      "Epoch 31: 56% , Loss: 8.488737\n"
     ]
    },
    {
     "name": "stderr",
     "output_type": "stream",
     "text": [
      " 66%|██████▌   | 701/1065 [06:04<03:06,  1.96it/s]"
     ]
    },
    {
     "name": "stdout",
     "output_type": "stream",
     "text": [
      "Epoch 31: 66% , Loss: 9.216523\n"
     ]
    },
    {
     "name": "stderr",
     "output_type": "stream",
     "text": [
      " 75%|███████▌  | 801/1065 [06:57<02:42,  1.62it/s]"
     ]
    },
    {
     "name": "stdout",
     "output_type": "stream",
     "text": [
      "Epoch 31: 75% , Loss: 18.288786\n"
     ]
    },
    {
     "name": "stderr",
     "output_type": "stream",
     "text": [
      " 85%|████████▍ | 901/1065 [07:56<01:32,  1.77it/s]"
     ]
    },
    {
     "name": "stdout",
     "output_type": "stream",
     "text": [
      "Epoch 31: 85% , Loss: 5.189040\n"
     ]
    },
    {
     "name": "stderr",
     "output_type": "stream",
     "text": [
      " 94%|█████████▍| 1001/1065 [08:56<00:36,  1.75it/s]"
     ]
    },
    {
     "name": "stdout",
     "output_type": "stream",
     "text": [
      "Epoch 31: 94% , Loss: 4.976649\n"
     ]
    },
    {
     "name": "stderr",
     "output_type": "stream",
     "text": [
      "100%|██████████| 1065/1065 [09:34<00:00,  1.86it/s]"
     ]
    },
    {
     "name": "stdout",
     "output_type": "stream",
     "text": [
      "Epoch 31: 100% , Loss: 2.333236\n"
     ]
    },
    {
     "name": "stderr",
     "output_type": "stream",
     "text": [
      "\n"
     ]
    },
    {
     "name": "stdout",
     "output_type": "stream",
     "text": [
      "                      (F1-score: 0.0454)\n",
      "\n",
      "                      (NDCG: 0.0689)\n",
      "\n",
      "                      (MAE: 3.9122)\n",
      "\n",
      "train_loss= tensor(7.9391)\n",
      "--------------------\n"
     ]
    },
    {
     "name": "stderr",
     "output_type": "stream",
     "text": [
      "100%|██████████| 133/133 [00:56<00:00,  2.36it/s]\n"
     ]
    },
    {
     "name": "stdout",
     "output_type": "stream",
     "text": [
      "                      (F1-score: 0.0455)\n",
      "\n",
      "                      (NDCG: 0.0693)\n",
      "\n",
      "                      (MAE: 4.0705)\n",
      "\n",
      "val_loss= tensor(9.8718)\n",
      "--------------------\n"
     ]
    },
    {
     "name": "stderr",
     "output_type": "stream",
     "text": [
      "100%|██████████| 133/133 [00:53<00:00,  2.49it/s]\n"
     ]
    },
    {
     "name": "stdout",
     "output_type": "stream",
     "text": [
      "                      (F1-score: 0.0447)\n",
      "\n",
      "                      (NDCG: 0.0686)\n",
      "\n",
      "                      (MAE: 4.0658)\n",
      "\n",
      "--------------------\n",
      "[[1, {'F1-score': 4.1771094402673345e-05}, {'NDCG': 8.545867062376855e-05}, {'MAE': 4.827067669172933}, 12.228038787841797], [2, {'F1-score': 0.0}, {'NDCG': 0.0}, {'MAE': 4.172932330827067}, 10.406564712524414], [3, {'F1-score': 0.012814380349113991}, {'NDCG': 0.013789705904130648}, {'MAE': 4.044172932330827}, 10.180235862731934], [4, {'F1-score': 0.019728655244801822}, {'NDCG': 0.042426276983539186}, {'MAE': 3.924812030075188}, 10.27104377746582], [5, {'F1-score': 0.027809576345933028}, {'NDCG': 0.0508072271459925}, {'MAE': 3.9981203007518795}, 10.06705093383789], [6, {'F1-score': 0.04313347594182737}, {'NDCG': 0.06686435966871511}, {'MAE': 4.1644736842105265}, 10.020689964294434], [7, {'F1-score': 0.04513285659533101}, {'NDCG': 0.06909855229857105}, {'MAE': 3.9906015037593985}, 9.96373176574707], [8, {'F1-score': 0.045441685393334305}, {'NDCG': 0.06952707130721021}, {'MAE': 3.8843984962406015}, 10.087576866149902], [9, {'F1-score': 0.045130280851725504}, {'NDCG': 0.0688168445875154}, {'MAE': 4.075187969924812}, 9.857915878295898], [10, {'F1-score': 0.04552397942984522}, {'NDCG': 0.06929526838326924}, {'MAE': 3.9163533834586466}, 9.966713905334473], [11, {'F1-score': 0.04527954451481179}, {'NDCG': 0.06923387377852}, {'MAE': 4.2368421052631575}, 9.936558723449707], [12, {'F1-score': 0.04544124764304432}, {'NDCG': 0.06932935343102965}, {'MAE': 4.283834586466165}, 9.93392276763916], [13, {'F1-score': 0.04635016026428295}, {'NDCG': 0.06971331463454473}, {'MAE': 4.052631578947368}, 9.783748626708984], [14, {'F1-score': 0.04598700006743969}, {'NDCG': 0.06980015553316955}, {'MAE': 4.294172932330827}, 10.010079383850098], [15, {'F1-score': 0.04557546047238463}, {'NDCG': 0.06904085727646611}, {'MAE': 3.9351503759398496}, 9.863205909729004], [16, {'F1-score': 0.04600217515605764}, {'NDCG': 0.06953545096960563}, {'MAE': 4.1118421052631575}, 9.791077613830566], [17, {'F1-score': 0.0444614388548676}, {'NDCG': 0.06885833612510137}, {'MAE': 4.43327067669173}, 10.302906036376953], [18, {'F1-score': 0.044953105088883255}, {'NDCG': 0.06880327245689705}, {'MAE': 4.144736842105263}, 9.823137283325195], [19, {'F1-score': 0.0463191580226739}, {'NDCG': 0.07081282137073856}, {'MAE': 3.9078947368421053}, 9.960440635681152], [20, {'F1-score': 0.04484886492765434}, {'NDCG': 0.06864973495161175}, {'MAE': 4.205827067669173}, 9.852874755859375], [21, {'F1-score': 0.0456031228981218}, {'NDCG': 0.06937222206734009}, {'MAE': 3.9906015037593985}, 9.767979621887207], [22, {'F1-score': 0.04583258565951394}, {'NDCG': 0.06950625666956368}, {'MAE': 4.056390977443609}, 9.762333869934082], [23, {'F1-score': 0.04567524986098043}, {'NDCG': 0.06900454290505302}, {'MAE': 4.109022556390977}, 9.772006034851074], [24, {'F1-score': 0.04658097224873822}, {'NDCG': 0.0700591961867211}, {'MAE': 3.922932330827068}, 9.899181365966797], [25, {'F1-score': 0.04544520707333022}, {'NDCG': 0.06904575803765285}, {'MAE': 4.072368421052632}, 9.838201522827148], [26, {'F1-score': 0.04691168098997397}, {'NDCG': 0.06977327419024773}, {'MAE': 3.9859022556390977}, 9.75668716430664], [27, {'F1-score': 0.04441374870575312}, {'NDCG': 0.06837516863256189}, {'MAE': 4.162593984962406}, 9.841572761535645], [28, {'F1-score': 0.04416134919855646}, {'NDCG': 0.06853503274164141}, {'MAE': 4.341165413533835}, 10.041533470153809], [29, {'F1-score': 0.04412241521628289}, {'NDCG': 0.06814411034128327}, {'MAE': 4.217105263157895}, 9.87244987487793], [30, {'F1-score': 0.043802536679448306}, {'NDCG': 0.06823168578907791}, {'MAE': 4.366541353383458}, 10.134610176086426], [31, {'F1-score': 0.04469672757867918}, {'NDCG': 0.0685662344392193}, {'MAE': 4.065789473684211}, 9.871830940246582]]\n",
      "-----------------------------------------------------------------------------------------\n"
     ]
    },
    {
     "name": "stderr",
     "output_type": "stream",
     "text": [
      "  0%|          | 1/1065 [00:00<13:52,  1.28it/s]"
     ]
    },
    {
     "name": "stdout",
     "output_type": "stream",
     "text": [
      "Epoch 32: 0% , Loss: 11.065881\n"
     ]
    },
    {
     "name": "stderr",
     "output_type": "stream",
     "text": [
      "  9%|▉         | 101/1065 [00:51<07:23,  2.17it/s]"
     ]
    },
    {
     "name": "stdout",
     "output_type": "stream",
     "text": [
      "Epoch 32: 9% , Loss: 6.208718\n"
     ]
    },
    {
     "name": "stderr",
     "output_type": "stream",
     "text": [
      " 19%|█▉        | 201/1065 [01:43<07:32,  1.91it/s]"
     ]
    },
    {
     "name": "stdout",
     "output_type": "stream",
     "text": [
      "Epoch 32: 19% , Loss: 0.810758\n"
     ]
    },
    {
     "name": "stderr",
     "output_type": "stream",
     "text": [
      " 28%|██▊       | 301/1065 [02:34<06:42,  1.90it/s]"
     ]
    },
    {
     "name": "stdout",
     "output_type": "stream",
     "text": [
      "Epoch 32: 28% , Loss: 1.488826\n"
     ]
    },
    {
     "name": "stderr",
     "output_type": "stream",
     "text": [
      " 38%|███▊      | 401/1065 [03:27<05:12,  2.13it/s]"
     ]
    },
    {
     "name": "stdout",
     "output_type": "stream",
     "text": [
      "Epoch 32: 38% , Loss: 6.041033\n"
     ]
    },
    {
     "name": "stderr",
     "output_type": "stream",
     "text": [
      " 47%|████▋     | 501/1065 [04:19<04:36,  2.04it/s]"
     ]
    },
    {
     "name": "stdout",
     "output_type": "stream",
     "text": [
      "Epoch 32: 47% , Loss: 3.168832\n"
     ]
    },
    {
     "name": "stderr",
     "output_type": "stream",
     "text": [
      " 56%|█████▋    | 601/1065 [05:11<03:55,  1.97it/s]"
     ]
    },
    {
     "name": "stdout",
     "output_type": "stream",
     "text": [
      "Epoch 32: 56% , Loss: 2.748922\n"
     ]
    },
    {
     "name": "stderr",
     "output_type": "stream",
     "text": [
      " 66%|██████▌   | 701/1065 [06:04<03:48,  1.59it/s]"
     ]
    },
    {
     "name": "stdout",
     "output_type": "stream",
     "text": [
      "Epoch 32: 66% , Loss: 12.010466\n"
     ]
    },
    {
     "name": "stderr",
     "output_type": "stream",
     "text": [
      " 75%|███████▌  | 801/1065 [06:57<02:19,  1.89it/s]"
     ]
    },
    {
     "name": "stdout",
     "output_type": "stream",
     "text": [
      "Epoch 32: 75% , Loss: 5.910484\n"
     ]
    },
    {
     "name": "stderr",
     "output_type": "stream",
     "text": [
      " 85%|████████▍ | 901/1065 [08:00<01:34,  1.74it/s]"
     ]
    },
    {
     "name": "stdout",
     "output_type": "stream",
     "text": [
      "Epoch 32: 85% , Loss: 4.399702\n"
     ]
    },
    {
     "name": "stderr",
     "output_type": "stream",
     "text": [
      " 94%|█████████▍| 1001/1065 [09:01<00:36,  1.73it/s]"
     ]
    },
    {
     "name": "stdout",
     "output_type": "stream",
     "text": [
      "Epoch 32: 94% , Loss: 3.200688\n"
     ]
    },
    {
     "name": "stderr",
     "output_type": "stream",
     "text": [
      "100%|██████████| 1065/1065 [09:38<00:00,  1.84it/s]"
     ]
    },
    {
     "name": "stdout",
     "output_type": "stream",
     "text": [
      "Epoch 32: 100% , Loss: 3.412322\n"
     ]
    },
    {
     "name": "stderr",
     "output_type": "stream",
     "text": [
      "\n"
     ]
    },
    {
     "name": "stdout",
     "output_type": "stream",
     "text": [
      "                      (F1-score: 0.0455)\n",
      "\n",
      "                      (NDCG: 0.0691)\n",
      "\n",
      "                      (MAE: 3.9093)\n",
      "\n",
      "train_loss= tensor(7.9291)\n",
      "--------------------\n"
     ]
    },
    {
     "name": "stderr",
     "output_type": "stream",
     "text": [
      "100%|██████████| 133/133 [00:53<00:00,  2.46it/s]\n"
     ]
    },
    {
     "name": "stdout",
     "output_type": "stream",
     "text": [
      "                      (F1-score: 0.0458)\n",
      "\n",
      "                      (NDCG: 0.0694)\n",
      "\n",
      "                      (MAE: 3.9577)\n",
      "\n",
      "val_loss= tensor(9.7803)\n",
      "--------------------\n"
     ]
    },
    {
     "name": "stderr",
     "output_type": "stream",
     "text": [
      "100%|██████████| 133/133 [00:53<00:00,  2.47it/s]\n"
     ]
    },
    {
     "name": "stdout",
     "output_type": "stream",
     "text": [
      "                      (F1-score: 0.0452)\n",
      "\n",
      "                      (NDCG: 0.0688)\n",
      "\n",
      "                      (MAE: 3.9633)\n",
      "\n",
      "--------------------\n",
      "[[1, {'F1-score': 4.1771094402673345e-05}, {'NDCG': 8.545867062376855e-05}, {'MAE': 4.827067669172933}, 12.228038787841797], [2, {'F1-score': 0.0}, {'NDCG': 0.0}, {'MAE': 4.172932330827067}, 10.406564712524414], [3, {'F1-score': 0.012814380349113991}, {'NDCG': 0.013789705904130648}, {'MAE': 4.044172932330827}, 10.180235862731934], [4, {'F1-score': 0.019728655244801822}, {'NDCG': 0.042426276983539186}, {'MAE': 3.924812030075188}, 10.27104377746582], [5, {'F1-score': 0.027809576345933028}, {'NDCG': 0.0508072271459925}, {'MAE': 3.9981203007518795}, 10.06705093383789], [6, {'F1-score': 0.04313347594182737}, {'NDCG': 0.06686435966871511}, {'MAE': 4.1644736842105265}, 10.020689964294434], [7, {'F1-score': 0.04513285659533101}, {'NDCG': 0.06909855229857105}, {'MAE': 3.9906015037593985}, 9.96373176574707], [8, {'F1-score': 0.045441685393334305}, {'NDCG': 0.06952707130721021}, {'MAE': 3.8843984962406015}, 10.087576866149902], [9, {'F1-score': 0.045130280851725504}, {'NDCG': 0.0688168445875154}, {'MAE': 4.075187969924812}, 9.857915878295898], [10, {'F1-score': 0.04552397942984522}, {'NDCG': 0.06929526838326924}, {'MAE': 3.9163533834586466}, 9.966713905334473], [11, {'F1-score': 0.04527954451481179}, {'NDCG': 0.06923387377852}, {'MAE': 4.2368421052631575}, 9.936558723449707], [12, {'F1-score': 0.04544124764304432}, {'NDCG': 0.06932935343102965}, {'MAE': 4.283834586466165}, 9.93392276763916], [13, {'F1-score': 0.04635016026428295}, {'NDCG': 0.06971331463454473}, {'MAE': 4.052631578947368}, 9.783748626708984], [14, {'F1-score': 0.04598700006743969}, {'NDCG': 0.06980015553316955}, {'MAE': 4.294172932330827}, 10.010079383850098], [15, {'F1-score': 0.04557546047238463}, {'NDCG': 0.06904085727646611}, {'MAE': 3.9351503759398496}, 9.863205909729004], [16, {'F1-score': 0.04600217515605764}, {'NDCG': 0.06953545096960563}, {'MAE': 4.1118421052631575}, 9.791077613830566], [17, {'F1-score': 0.0444614388548676}, {'NDCG': 0.06885833612510137}, {'MAE': 4.43327067669173}, 10.302906036376953], [18, {'F1-score': 0.044953105088883255}, {'NDCG': 0.06880327245689705}, {'MAE': 4.144736842105263}, 9.823137283325195], [19, {'F1-score': 0.0463191580226739}, {'NDCG': 0.07081282137073856}, {'MAE': 3.9078947368421053}, 9.960440635681152], [20, {'F1-score': 0.04484886492765434}, {'NDCG': 0.06864973495161175}, {'MAE': 4.205827067669173}, 9.852874755859375], [21, {'F1-score': 0.0456031228981218}, {'NDCG': 0.06937222206734009}, {'MAE': 3.9906015037593985}, 9.767979621887207], [22, {'F1-score': 0.04583258565951394}, {'NDCG': 0.06950625666956368}, {'MAE': 4.056390977443609}, 9.762333869934082], [23, {'F1-score': 0.04567524986098043}, {'NDCG': 0.06900454290505302}, {'MAE': 4.109022556390977}, 9.772006034851074], [24, {'F1-score': 0.04658097224873822}, {'NDCG': 0.0700591961867211}, {'MAE': 3.922932330827068}, 9.899181365966797], [25, {'F1-score': 0.04544520707333022}, {'NDCG': 0.06904575803765285}, {'MAE': 4.072368421052632}, 9.838201522827148], [26, {'F1-score': 0.04691168098997397}, {'NDCG': 0.06977327419024773}, {'MAE': 3.9859022556390977}, 9.75668716430664], [27, {'F1-score': 0.04441374870575312}, {'NDCG': 0.06837516863256189}, {'MAE': 4.162593984962406}, 9.841572761535645], [28, {'F1-score': 0.04416134919855646}, {'NDCG': 0.06853503274164141}, {'MAE': 4.341165413533835}, 10.041533470153809], [29, {'F1-score': 0.04412241521628289}, {'NDCG': 0.06814411034128327}, {'MAE': 4.217105263157895}, 9.87244987487793], [30, {'F1-score': 0.043802536679448306}, {'NDCG': 0.06823168578907791}, {'MAE': 4.366541353383458}, 10.134610176086426], [31, {'F1-score': 0.04469672757867918}, {'NDCG': 0.0685662344392193}, {'MAE': 4.065789473684211}, 9.871830940246582], [32, {'F1-score': 0.045172910432617314}, {'NDCG': 0.06882746757491302}, {'MAE': 3.963345864661654}, 9.780263900756836]]\n",
      "-----------------------------------------------------------------------------------------\n"
     ]
    },
    {
     "name": "stderr",
     "output_type": "stream",
     "text": [
      "  0%|          | 1/1065 [00:00<11:56,  1.49it/s]"
     ]
    },
    {
     "name": "stdout",
     "output_type": "stream",
     "text": [
      "Epoch 33: 0% , Loss: 35.473724\n"
     ]
    },
    {
     "name": "stderr",
     "output_type": "stream",
     "text": [
      "  9%|▉         | 101/1065 [00:53<09:40,  1.66it/s]"
     ]
    },
    {
     "name": "stdout",
     "output_type": "stream",
     "text": [
      "Epoch 33: 9% , Loss: 9.659976\n"
     ]
    },
    {
     "name": "stderr",
     "output_type": "stream",
     "text": [
      " 19%|█▉        | 201/1065 [01:42<07:37,  1.89it/s]"
     ]
    },
    {
     "name": "stdout",
     "output_type": "stream",
     "text": [
      "Epoch 33: 19% , Loss: 1.795009\n"
     ]
    },
    {
     "name": "stderr",
     "output_type": "stream",
     "text": [
      " 28%|██▊       | 301/1065 [02:33<06:26,  1.98it/s]"
     ]
    },
    {
     "name": "stdout",
     "output_type": "stream",
     "text": [
      "Epoch 33: 28% , Loss: 23.157614\n"
     ]
    },
    {
     "name": "stderr",
     "output_type": "stream",
     "text": [
      " 38%|███▊      | 401/1065 [03:26<05:28,  2.02it/s]"
     ]
    },
    {
     "name": "stdout",
     "output_type": "stream",
     "text": [
      "Epoch 33: 38% , Loss: 6.619821\n"
     ]
    },
    {
     "name": "stderr",
     "output_type": "stream",
     "text": [
      " 47%|████▋     | 501/1065 [04:18<04:51,  1.94it/s]"
     ]
    },
    {
     "name": "stdout",
     "output_type": "stream",
     "text": [
      "Epoch 33: 47% , Loss: 1.397909\n"
     ]
    },
    {
     "name": "stderr",
     "output_type": "stream",
     "text": [
      " 56%|█████▋    | 601/1065 [05:11<04:41,  1.65it/s]"
     ]
    },
    {
     "name": "stdout",
     "output_type": "stream",
     "text": [
      "Epoch 33: 56% , Loss: 2.437821\n"
     ]
    },
    {
     "name": "stderr",
     "output_type": "stream",
     "text": [
      " 66%|██████▌   | 701/1065 [06:02<02:56,  2.06it/s]"
     ]
    },
    {
     "name": "stdout",
     "output_type": "stream",
     "text": [
      "Epoch 33: 66% , Loss: 2.506743\n"
     ]
    },
    {
     "name": "stderr",
     "output_type": "stream",
     "text": [
      " 75%|███████▌  | 801/1065 [06:57<02:31,  1.74it/s]"
     ]
    },
    {
     "name": "stdout",
     "output_type": "stream",
     "text": [
      "Epoch 33: 75% , Loss: 2.771808\n"
     ]
    },
    {
     "name": "stderr",
     "output_type": "stream",
     "text": [
      " 85%|████████▍ | 901/1065 [08:00<01:32,  1.77it/s]"
     ]
    },
    {
     "name": "stdout",
     "output_type": "stream",
     "text": [
      "Epoch 33: 85% , Loss: 3.731682\n"
     ]
    },
    {
     "name": "stderr",
     "output_type": "stream",
     "text": [
      " 94%|█████████▍| 1001/1065 [09:00<00:36,  1.77it/s]"
     ]
    },
    {
     "name": "stdout",
     "output_type": "stream",
     "text": [
      "Epoch 33: 94% , Loss: 3.430107\n"
     ]
    },
    {
     "name": "stderr",
     "output_type": "stream",
     "text": [
      "100%|██████████| 1065/1065 [09:39<00:00,  1.84it/s]"
     ]
    },
    {
     "name": "stdout",
     "output_type": "stream",
     "text": [
      "Epoch 33: 100% , Loss: 1.999953\n"
     ]
    },
    {
     "name": "stderr",
     "output_type": "stream",
     "text": [
      "\n"
     ]
    },
    {
     "name": "stdout",
     "output_type": "stream",
     "text": [
      "                      (F1-score: 0.0458)\n",
      "\n",
      "                      (NDCG: 0.0693)\n",
      "\n",
      "                      (MAE: 3.8951)\n",
      "\n",
      "train_loss= tensor(7.8890)\n",
      "--------------------\n"
     ]
    },
    {
     "name": "stderr",
     "output_type": "stream",
     "text": [
      "100%|██████████| 133/133 [00:54<00:00,  2.45it/s]\n"
     ]
    },
    {
     "name": "stdout",
     "output_type": "stream",
     "text": [
      "                      (F1-score: 0.0451)\n",
      "\n",
      "                      (NDCG: 0.0687)\n",
      "\n",
      "                      (MAE: 4.0263)\n",
      "\n",
      "val_loss= tensor(9.7348)\n",
      "--------------------\n"
     ]
    },
    {
     "name": "stderr",
     "output_type": "stream",
     "text": [
      "100%|██████████| 133/133 [00:52<00:00,  2.52it/s]\n"
     ]
    },
    {
     "name": "stdout",
     "output_type": "stream",
     "text": [
      "                      (F1-score: 0.0458)\n",
      "\n",
      "                      (NDCG: 0.0695)\n",
      "\n",
      "                      (MAE: 4.0273)\n",
      "\n",
      "--------------------\n",
      "[[1, {'F1-score': 4.1771094402673345e-05}, {'NDCG': 8.545867062376855e-05}, {'MAE': 4.827067669172933}, 12.228038787841797], [2, {'F1-score': 0.0}, {'NDCG': 0.0}, {'MAE': 4.172932330827067}, 10.406564712524414], [3, {'F1-score': 0.012814380349113991}, {'NDCG': 0.013789705904130648}, {'MAE': 4.044172932330827}, 10.180235862731934], [4, {'F1-score': 0.019728655244801822}, {'NDCG': 0.042426276983539186}, {'MAE': 3.924812030075188}, 10.27104377746582], [5, {'F1-score': 0.027809576345933028}, {'NDCG': 0.0508072271459925}, {'MAE': 3.9981203007518795}, 10.06705093383789], [6, {'F1-score': 0.04313347594182737}, {'NDCG': 0.06686435966871511}, {'MAE': 4.1644736842105265}, 10.020689964294434], [7, {'F1-score': 0.04513285659533101}, {'NDCG': 0.06909855229857105}, {'MAE': 3.9906015037593985}, 9.96373176574707], [8, {'F1-score': 0.045441685393334305}, {'NDCG': 0.06952707130721021}, {'MAE': 3.8843984962406015}, 10.087576866149902], [9, {'F1-score': 0.045130280851725504}, {'NDCG': 0.0688168445875154}, {'MAE': 4.075187969924812}, 9.857915878295898], [10, {'F1-score': 0.04552397942984522}, {'NDCG': 0.06929526838326924}, {'MAE': 3.9163533834586466}, 9.966713905334473], [11, {'F1-score': 0.04527954451481179}, {'NDCG': 0.06923387377852}, {'MAE': 4.2368421052631575}, 9.936558723449707], [12, {'F1-score': 0.04544124764304432}, {'NDCG': 0.06932935343102965}, {'MAE': 4.283834586466165}, 9.93392276763916], [13, {'F1-score': 0.04635016026428295}, {'NDCG': 0.06971331463454473}, {'MAE': 4.052631578947368}, 9.783748626708984], [14, {'F1-score': 0.04598700006743969}, {'NDCG': 0.06980015553316955}, {'MAE': 4.294172932330827}, 10.010079383850098], [15, {'F1-score': 0.04557546047238463}, {'NDCG': 0.06904085727646611}, {'MAE': 3.9351503759398496}, 9.863205909729004], [16, {'F1-score': 0.04600217515605764}, {'NDCG': 0.06953545096960563}, {'MAE': 4.1118421052631575}, 9.791077613830566], [17, {'F1-score': 0.0444614388548676}, {'NDCG': 0.06885833612510137}, {'MAE': 4.43327067669173}, 10.302906036376953], [18, {'F1-score': 0.044953105088883255}, {'NDCG': 0.06880327245689705}, {'MAE': 4.144736842105263}, 9.823137283325195], [19, {'F1-score': 0.0463191580226739}, {'NDCG': 0.07081282137073856}, {'MAE': 3.9078947368421053}, 9.960440635681152], [20, {'F1-score': 0.04484886492765434}, {'NDCG': 0.06864973495161175}, {'MAE': 4.205827067669173}, 9.852874755859375], [21, {'F1-score': 0.0456031228981218}, {'NDCG': 0.06937222206734009}, {'MAE': 3.9906015037593985}, 9.767979621887207], [22, {'F1-score': 0.04583258565951394}, {'NDCG': 0.06950625666956368}, {'MAE': 4.056390977443609}, 9.762333869934082], [23, {'F1-score': 0.04567524986098043}, {'NDCG': 0.06900454290505302}, {'MAE': 4.109022556390977}, 9.772006034851074], [24, {'F1-score': 0.04658097224873822}, {'NDCG': 0.0700591961867211}, {'MAE': 3.922932330827068}, 9.899181365966797], [25, {'F1-score': 0.04544520707333022}, {'NDCG': 0.06904575803765285}, {'MAE': 4.072368421052632}, 9.838201522827148], [26, {'F1-score': 0.04691168098997397}, {'NDCG': 0.06977327419024773}, {'MAE': 3.9859022556390977}, 9.75668716430664], [27, {'F1-score': 0.04441374870575312}, {'NDCG': 0.06837516863256189}, {'MAE': 4.162593984962406}, 9.841572761535645], [28, {'F1-score': 0.04416134919855646}, {'NDCG': 0.06853503274164141}, {'MAE': 4.341165413533835}, 10.041533470153809], [29, {'F1-score': 0.04412241521628289}, {'NDCG': 0.06814411034128327}, {'MAE': 4.217105263157895}, 9.87244987487793], [30, {'F1-score': 0.043802536679448306}, {'NDCG': 0.06823168578907791}, {'MAE': 4.366541353383458}, 10.134610176086426], [31, {'F1-score': 0.04469672757867918}, {'NDCG': 0.0685662344392193}, {'MAE': 4.065789473684211}, 9.871830940246582], [32, {'F1-score': 0.045172910432617314}, {'NDCG': 0.06882746757491302}, {'MAE': 3.963345864661654}, 9.780263900756836], [33, {'F1-score': 0.04581959462565059}, {'NDCG': 0.06948228535781566}, {'MAE': 4.027255639097745}, 9.734833717346191]]\n",
      "-----------------------------------------------------------------------------------------\n"
     ]
    },
    {
     "name": "stderr",
     "output_type": "stream",
     "text": [
      "  0%|          | 1/1065 [00:00<08:14,  2.15it/s]"
     ]
    },
    {
     "name": "stdout",
     "output_type": "stream",
     "text": [
      "Epoch 34: 0% , Loss: 12.237007\n"
     ]
    },
    {
     "name": "stderr",
     "output_type": "stream",
     "text": [
      "  9%|▉         | 101/1065 [00:51<07:41,  2.09it/s]"
     ]
    },
    {
     "name": "stdout",
     "output_type": "stream",
     "text": [
      "Epoch 34: 9% , Loss: 9.101336\n"
     ]
    },
    {
     "name": "stderr",
     "output_type": "stream",
     "text": [
      " 19%|█▉        | 201/1065 [01:42<07:06,  2.02it/s]"
     ]
    },
    {
     "name": "stdout",
     "output_type": "stream",
     "text": [
      "Epoch 34: 19% , Loss: 8.042078\n"
     ]
    },
    {
     "name": "stderr",
     "output_type": "stream",
     "text": [
      " 28%|██▊       | 301/1065 [02:35<05:40,  2.24it/s]"
     ]
    },
    {
     "name": "stdout",
     "output_type": "stream",
     "text": [
      "Epoch 34: 28% , Loss: 9.242787\n"
     ]
    },
    {
     "name": "stderr",
     "output_type": "stream",
     "text": [
      " 38%|███▊      | 401/1065 [03:26<05:28,  2.02it/s]"
     ]
    },
    {
     "name": "stdout",
     "output_type": "stream",
     "text": [
      "Epoch 34: 38% , Loss: 1.946950\n"
     ]
    },
    {
     "name": "stderr",
     "output_type": "stream",
     "text": [
      " 47%|████▋     | 501/1065 [04:21<04:38,  2.03it/s]"
     ]
    },
    {
     "name": "stdout",
     "output_type": "stream",
     "text": [
      "Epoch 34: 47% , Loss: 9.085459\n"
     ]
    },
    {
     "name": "stderr",
     "output_type": "stream",
     "text": [
      " 56%|█████▋    | 601/1065 [05:14<04:24,  1.75it/s]"
     ]
    },
    {
     "name": "stdout",
     "output_type": "stream",
     "text": [
      "Epoch 34: 56% , Loss: 4.614389\n"
     ]
    },
    {
     "name": "stderr",
     "output_type": "stream",
     "text": [
      " 66%|██████▌   | 701/1065 [06:05<03:08,  1.93it/s]"
     ]
    },
    {
     "name": "stdout",
     "output_type": "stream",
     "text": [
      "Epoch 34: 66% , Loss: 44.178528\n"
     ]
    },
    {
     "name": "stderr",
     "output_type": "stream",
     "text": [
      " 75%|███████▌  | 801/1065 [06:58<02:44,  1.61it/s]"
     ]
    },
    {
     "name": "stdout",
     "output_type": "stream",
     "text": [
      "Epoch 34: 75% , Loss: 0.697104\n"
     ]
    },
    {
     "name": "stderr",
     "output_type": "stream",
     "text": [
      " 85%|████████▍ | 901/1065 [08:01<01:34,  1.73it/s]"
     ]
    },
    {
     "name": "stdout",
     "output_type": "stream",
     "text": [
      "Epoch 34: 85% , Loss: 2.993865\n"
     ]
    },
    {
     "name": "stderr",
     "output_type": "stream",
     "text": [
      " 94%|█████████▍| 1001/1065 [09:01<00:39,  1.61it/s]"
     ]
    },
    {
     "name": "stdout",
     "output_type": "stream",
     "text": [
      "Epoch 34: 94% , Loss: 17.784174\n"
     ]
    },
    {
     "name": "stderr",
     "output_type": "stream",
     "text": [
      "100%|██████████| 1065/1065 [09:38<00:00,  1.84it/s]"
     ]
    },
    {
     "name": "stdout",
     "output_type": "stream",
     "text": [
      "Epoch 34: 100% , Loss: 7.831823\n"
     ]
    },
    {
     "name": "stderr",
     "output_type": "stream",
     "text": [
      "\n"
     ]
    },
    {
     "name": "stdout",
     "output_type": "stream",
     "text": [
      "                      (F1-score: 0.0459)\n",
      "\n",
      "                      (NDCG: 0.0695)\n",
      "\n",
      "                      (MAE: 3.9016)\n",
      "\n",
      "train_loss= tensor(7.8978)\n",
      "--------------------\n"
     ]
    },
    {
     "name": "stderr",
     "output_type": "stream",
     "text": [
      "100%|██████████| 133/133 [00:53<00:00,  2.48it/s]\n"
     ]
    },
    {
     "name": "stdout",
     "output_type": "stream",
     "text": [
      "                      (F1-score: 0.0462)\n",
      "\n",
      "                      (NDCG: 0.0700)\n",
      "\n",
      "                      (MAE: 4.0545)\n",
      "\n",
      "val_loss= tensor(9.8031)\n",
      "--------------------\n"
     ]
    },
    {
     "name": "stderr",
     "output_type": "stream",
     "text": [
      "100%|██████████| 133/133 [00:52<00:00,  2.53it/s]\n"
     ]
    },
    {
     "name": "stdout",
     "output_type": "stream",
     "text": [
      "                      (F1-score: 0.0455)\n",
      "\n",
      "                      (NDCG: 0.0693)\n",
      "\n",
      "                      (MAE: 4.0620)\n",
      "\n",
      "--------------------\n",
      "[[1, {'F1-score': 4.1771094402673345e-05}, {'NDCG': 8.545867062376855e-05}, {'MAE': 4.827067669172933}, 12.228038787841797], [2, {'F1-score': 0.0}, {'NDCG': 0.0}, {'MAE': 4.172932330827067}, 10.406564712524414], [3, {'F1-score': 0.012814380349113991}, {'NDCG': 0.013789705904130648}, {'MAE': 4.044172932330827}, 10.180235862731934], [4, {'F1-score': 0.019728655244801822}, {'NDCG': 0.042426276983539186}, {'MAE': 3.924812030075188}, 10.27104377746582], [5, {'F1-score': 0.027809576345933028}, {'NDCG': 0.0508072271459925}, {'MAE': 3.9981203007518795}, 10.06705093383789], [6, {'F1-score': 0.04313347594182737}, {'NDCG': 0.06686435966871511}, {'MAE': 4.1644736842105265}, 10.020689964294434], [7, {'F1-score': 0.04513285659533101}, {'NDCG': 0.06909855229857105}, {'MAE': 3.9906015037593985}, 9.96373176574707], [8, {'F1-score': 0.045441685393334305}, {'NDCG': 0.06952707130721021}, {'MAE': 3.8843984962406015}, 10.087576866149902], [9, {'F1-score': 0.045130280851725504}, {'NDCG': 0.0688168445875154}, {'MAE': 4.075187969924812}, 9.857915878295898], [10, {'F1-score': 0.04552397942984522}, {'NDCG': 0.06929526838326924}, {'MAE': 3.9163533834586466}, 9.966713905334473], [11, {'F1-score': 0.04527954451481179}, {'NDCG': 0.06923387377852}, {'MAE': 4.2368421052631575}, 9.936558723449707], [12, {'F1-score': 0.04544124764304432}, {'NDCG': 0.06932935343102965}, {'MAE': 4.283834586466165}, 9.93392276763916], [13, {'F1-score': 0.04635016026428295}, {'NDCG': 0.06971331463454473}, {'MAE': 4.052631578947368}, 9.783748626708984], [14, {'F1-score': 0.04598700006743969}, {'NDCG': 0.06980015553316955}, {'MAE': 4.294172932330827}, 10.010079383850098], [15, {'F1-score': 0.04557546047238463}, {'NDCG': 0.06904085727646611}, {'MAE': 3.9351503759398496}, 9.863205909729004], [16, {'F1-score': 0.04600217515605764}, {'NDCG': 0.06953545096960563}, {'MAE': 4.1118421052631575}, 9.791077613830566], [17, {'F1-score': 0.0444614388548676}, {'NDCG': 0.06885833612510137}, {'MAE': 4.43327067669173}, 10.302906036376953], [18, {'F1-score': 0.044953105088883255}, {'NDCG': 0.06880327245689705}, {'MAE': 4.144736842105263}, 9.823137283325195], [19, {'F1-score': 0.0463191580226739}, {'NDCG': 0.07081282137073856}, {'MAE': 3.9078947368421053}, 9.960440635681152], [20, {'F1-score': 0.04484886492765434}, {'NDCG': 0.06864973495161175}, {'MAE': 4.205827067669173}, 9.852874755859375], [21, {'F1-score': 0.0456031228981218}, {'NDCG': 0.06937222206734009}, {'MAE': 3.9906015037593985}, 9.767979621887207], [22, {'F1-score': 0.04583258565951394}, {'NDCG': 0.06950625666956368}, {'MAE': 4.056390977443609}, 9.762333869934082], [23, {'F1-score': 0.04567524986098043}, {'NDCG': 0.06900454290505302}, {'MAE': 4.109022556390977}, 9.772006034851074], [24, {'F1-score': 0.04658097224873822}, {'NDCG': 0.0700591961867211}, {'MAE': 3.922932330827068}, 9.899181365966797], [25, {'F1-score': 0.04544520707333022}, {'NDCG': 0.06904575803765285}, {'MAE': 4.072368421052632}, 9.838201522827148], [26, {'F1-score': 0.04691168098997397}, {'NDCG': 0.06977327419024773}, {'MAE': 3.9859022556390977}, 9.75668716430664], [27, {'F1-score': 0.04441374870575312}, {'NDCG': 0.06837516863256189}, {'MAE': 4.162593984962406}, 9.841572761535645], [28, {'F1-score': 0.04416134919855646}, {'NDCG': 0.06853503274164141}, {'MAE': 4.341165413533835}, 10.041533470153809], [29, {'F1-score': 0.04412241521628289}, {'NDCG': 0.06814411034128327}, {'MAE': 4.217105263157895}, 9.87244987487793], [30, {'F1-score': 0.043802536679448306}, {'NDCG': 0.06823168578907791}, {'MAE': 4.366541353383458}, 10.134610176086426], [31, {'F1-score': 0.04469672757867918}, {'NDCG': 0.0685662344392193}, {'MAE': 4.065789473684211}, 9.871830940246582], [32, {'F1-score': 0.045172910432617314}, {'NDCG': 0.06882746757491302}, {'MAE': 3.963345864661654}, 9.780263900756836], [33, {'F1-score': 0.04581959462565059}, {'NDCG': 0.06948228535781566}, {'MAE': 4.027255639097745}, 9.734833717346191], [34, {'F1-score': 0.045512723891114874}, {'NDCG': 0.06925000982092959}, {'MAE': 4.06203007518797}, 9.803072929382324]]\n",
      "-----------------------------------------------------------------------------------------\n"
     ]
    },
    {
     "name": "stderr",
     "output_type": "stream",
     "text": [
      "  0%|          | 1/1065 [00:00<11:05,  1.60it/s]"
     ]
    },
    {
     "name": "stdout",
     "output_type": "stream",
     "text": [
      "Epoch 35: 0% , Loss: 16.544985\n"
     ]
    },
    {
     "name": "stderr",
     "output_type": "stream",
     "text": [
      "  9%|▉         | 101/1065 [00:51<07:44,  2.08it/s]"
     ]
    },
    {
     "name": "stdout",
     "output_type": "stream",
     "text": [
      "Epoch 35: 9% , Loss: 13.571168\n"
     ]
    },
    {
     "name": "stderr",
     "output_type": "stream",
     "text": [
      " 19%|█▉        | 201/1065 [01:45<07:12,  2.00it/s]"
     ]
    },
    {
     "name": "stdout",
     "output_type": "stream",
     "text": [
      "Epoch 35: 19% , Loss: 30.507978\n"
     ]
    },
    {
     "name": "stderr",
     "output_type": "stream",
     "text": [
      " 20%|██        | 216/1065 [01:52<06:47,  2.08it/s]"
     ]
    }
   ],
   "source": [
    "# 消融實驗 w/o Item2vec and Confidence\n",
    "# MyModel02\n",
    "# 固定參數: epochs35 Transformer_layer=4 batch_size=8 embedding_size=32 hidden_size=128 lr=0.0001 num_layer=4 num_head=4\n",
    "\n",
    "results = []\n",
    "\n",
    "for epoch in range( 1  , EPOCHS + 1 ):\n",
    "    train_loss = train_model()\n",
    "    print(\"train_loss=\",train_loss)\n",
    "    print('-'*20)\n",
    "    val_loss = evaluate_model()\n",
    "    print(\"val_loss=\",val_loss)\n",
    "    print('-' * 20)\n",
    "    test_loss,f1_list,ndcg_list, mae_list = test_model()\n",
    "    print('-' * 20)\n",
    "    result = [epoch] + f1_list + ndcg_list + mae_list + [val_loss.item()]\n",
    "#     result = [epoch] + hr_list + f1_list + ndcg_list + [mrr_score,map_score] + [val_loss.item()]\n",
    "    results.append(result)\n",
    "    print(results)\n",
    "    print('-' * 89)\n",
    "    \n",
    "    collected = gc.collect()\n",
    "    torch.cuda.empty_cache()\n",
    "\n",
    "record_df = pd.DataFrame(results,columns=['Epoch','F1-score','NDCG','val_loss'])\n",
    "# record_df = pd.DataFrame(results,columns=['Epoch','HR@5', 'HR@10', 'HR@20', 'HR@50', 'F1-score@5', 'F1-score@10', 'F1-score@20', 'F1-score@50',\n",
    "#                            'NDCG@5', 'NDCG@10', 'NDCG@20', 'NDCG@50','MRR','MAP','val_loss'])\n",
    "record_df"
   ]
  },
  {
   "cell_type": "code",
   "execution_count": null,
   "id": "4ff67314",
   "metadata": {},
   "outputs": [],
   "source": [
    "a = torch.tensor([[0,0,0],[4,5,0]])\n",
    "mask = a.sum(dim=-1)\n",
    "print(mask)\n",
    "print(mask.ne(0).transpose(0,1))\n",
    "# 目的:相讓用戶的某個購物籃大小相同，再用key padding mask去遮padding的部分\n",
    "# 某位user的shape - (batch_size, cart的數量, item的維度)\n",
    "# 因為你padding所以代表某位用戶的cart裡面的item數量都相同\n",
    "# 代表可能是\n",
    "# [[[0,1,...,30,31],  ->第一個購物籃\n",
    "#   [32,33...,62,63],\n",
    "#   [0,0,...,0,0],],\n",
    "#  [[0,1,...,30,31],  ->第二個購物籃\n",
    "#   [32,33...,62,63],\n",
    "#   [64,65,...,94,95]]]\n",
    "# 所以sum(dim=-1)代表[0,0,0,0]是padding的\n",
    "# .ne為not equal代表不等於0:  0:false  不是0:true\n",
    "# ~代表false->true, true->false"
   ]
  },
  {
   "cell_type": "code",
   "execution_count": null,
   "id": "0da1be2c",
   "metadata": {},
   "outputs": [],
   "source": [
    "test = torch.zeros((2, 4))\n",
    "test"
   ]
  },
  {
   "cell_type": "code",
   "execution_count": null,
   "id": "57304f57",
   "metadata": {},
   "outputs": [],
   "source": [
    "# 創建兩個矩陣\n",
    "tensor1 = torch.tensor([[1, 2, 3],\n",
    "                        [4, 5, 6]])\n",
    "\n",
    "tensor2 = torch.tensor([[7, 8, 9],\n",
    "                        [10, 11, 12]])\n",
    "print(tensor1.size())\n",
    "# 按照行進行交叉穿插\n",
    "\n",
    "# 按照行進行交叉穿插\n",
    "result_column = torch.stack([(tensor1[:, i].tolist(), tensor2[:, i].tolist()) for i in range(tensor1.size(1))]).t().reshape(-1)"
   ]
  },
  {
   "cell_type": "code",
   "execution_count": null,
   "id": "3eb4b116",
   "metadata": {},
   "outputs": [],
   "source": [
    "#a = torch.stack((tensor1, tensor2), dim=1).numpy()\n",
    "#tensor3 = torch.from_numpy(a.reshape(-1,3)) # 3是 EMBEDDING_DIMENSION\n",
    "a = torch.stack((tensor1, tensor2), dim=1)\n",
    "tensor3= torch.reshape(a, (-1, 3))\n",
    "\n",
    "print(tensor3)"
   ]
  },
  {
   "cell_type": "code",
   "execution_count": null,
   "id": "654e609f",
   "metadata": {},
   "outputs": [],
   "source": [
    "def multiply2(x):\n",
    "    print(x)\n",
    "    alist = []\n",
    "    alist.append(x)\n",
    "    #print(alist)\n",
    "    return alist"
   ]
  },
  {
   "cell_type": "code",
   "execution_count": null,
   "id": "a85d0442",
   "metadata": {},
   "outputs": [],
   "source": [
    "a = [1,2]\n",
    "a = torch.tensor([[_] for _ in a])\n",
    "c = multiply2(a)\n",
    "#c = torch.tensor([multiply2(x) for x in a])\n",
    "\n",
    "#a\n",
    "#c\n",
    "\n",
    "#print(np.array(a).shape)"
   ]
  },
  {
   "cell_type": "code",
   "execution_count": null,
   "id": "bbf27932",
   "metadata": {},
   "outputs": [],
   "source": [
    "for batch_idx, (userID, basket_input, basket_label, size_input, size_label, offsets) in enumerate(train_dataloader):\n",
    "    print(basket_input)\n",
    "    #for user in basket_input:\n",
    "        #print(user)"
   ]
  },
  {
   "cell_type": "code",
   "execution_count": null,
   "id": "d8274dd0",
   "metadata": {},
   "outputs": [],
   "source": [
    "a = [\"a\",\"b\",\"c\",\"d\"]\n",
    "a= \", \".join(a)\n",
    "print(a)"
   ]
  },
  {
   "cell_type": "code",
   "execution_count": null,
   "id": "48554d40",
   "metadata": {},
   "outputs": [],
   "source": [
    "x = torch.arange(1., 6.)\n",
    "torch.topk(x, 9)"
   ]
  },
  {
   "cell_type": "code",
   "execution_count": null,
   "id": "ad1adf32",
   "metadata": {},
   "outputs": [],
   "source": [
    "x = torch.arange(1)\n",
    "print(x)"
   ]
  },
  {
   "cell_type": "code",
   "execution_count": null,
   "id": "d5ea8102",
   "metadata": {},
   "outputs": [],
   "source": [
    "x = torch.tensor([2, 4, 5, 8])\n",
    "y = [1,10,3,9]\n",
    "a = calculate_mae(y, x)\n",
    "a"
   ]
  },
  {
   "cell_type": "code",
   "execution_count": null,
   "id": "bd58c986",
   "metadata": {},
   "outputs": [],
   "source": []
  }
 ],
 "metadata": {
  "kernelspec": {
   "display_name": "Python 3 (ipykernel)",
   "language": "python",
   "name": "python3"
  },
  "language_info": {
   "codemirror_mode": {
    "name": "ipython",
    "version": 3
   },
   "file_extension": ".py",
   "mimetype": "text/x-python",
   "name": "python",
   "nbconvert_exporter": "python",
   "pygments_lexer": "ipython3",
   "version": "3.11.5"
  }
 },
 "nbformat": 4,
 "nbformat_minor": 5
}
