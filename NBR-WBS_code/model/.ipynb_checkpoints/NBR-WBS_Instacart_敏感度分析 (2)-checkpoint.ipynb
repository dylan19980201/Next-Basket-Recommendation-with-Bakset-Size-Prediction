{
 "cells": [
  {
   "cell_type": "markdown",
   "id": "a246ddd9",
   "metadata": {},
   "source": [
    "# 下載套件"
   ]
  },
  {
   "cell_type": "code",
   "execution_count": 1,
   "id": "72209793",
   "metadata": {},
   "outputs": [],
   "source": [
    "import torch\n",
    "import torch.nn as nn\n",
    "from torch import nn, matmul, softmax\n",
    "from torch.nn.init import xavier_uniform_\n",
    "import torch.nn.functional as F\n",
    "import torch.nn.utils.rnn as rnn_utils\n",
    "from torch.autograd import Variable\n",
    "\n",
    "import numpy as np\n",
    "import pandas as pd\n",
    "import gensim\n",
    "from gensim.models import KeyedVectors\n",
    "import pickle\n",
    "import gzip \n",
    "import gc\n",
    "import os\n",
    "import random"
   ]
  },
  {
   "cell_type": "code",
   "execution_count": 2,
   "id": "e3db86c1",
   "metadata": {},
   "outputs": [],
   "source": [
    "from torch.utils.data import DataLoader, Dataset\n",
    "from torch.utils.data.dataset import random_split\n",
    "\n",
    "from tqdm import tqdm\n",
    "from collections import Counter\n",
    "\n",
    "import math"
   ]
  },
  {
   "cell_type": "markdown",
   "id": "d32d7025",
   "metadata": {},
   "source": [
    "# 參數設置"
   ]
  },
  {
   "cell_type": "code",
   "execution_count": 3,
   "id": "6da217e0",
   "metadata": {},
   "outputs": [],
   "source": [
    "# 超參數\n",
    "EPOCHS = 15\n",
    "LEARNING_RATE = 0.001                # Learning_rate    TaFeng = 0.0001         Dunnhumby = 0.0001\n",
    "BATCH_SIZE = 8\n",
    "ALPHA = [0.1, 0.001, ]\n",
    "BETA = 0.001                         # TaFeng = 0.95, Dunnhumby = 0.001\n",
    "EMBEDDING_DIMENSION = 32               # 嵌入維度   TaFeng = 32, Dunnhumby = 32\n",
    "MODEL_DIMENSION = EMBEDDING_DIMENSION  # 模型維度\n",
    "HIDDEN_DIMENSION = 128                 # MLP 隱藏層維度\n",
    "HIDDEN_SIZE = 16                       # LSTM 隱藏層維度\n",
    "NUM_HEAD = 4\n",
    "NUM_LAYER = 4\n",
    "\n",
    "isMC = 1\n",
    "isI2V = 1"
   ]
  },
  {
   "cell_type": "markdown",
   "id": "4283cbc8",
   "metadata": {},
   "source": [
    "# 匯入檔案\n",
    "- item2Vec_TaFeng.32d.model\n",
    "- TaFeng_user_cart_itemid_list.gz\n",
    "- Ta_feng_clean.csv"
   ]
  },
  {
   "cell_type": "code",
   "execution_count": 4,
   "id": "3715f2a4",
   "metadata": {},
   "outputs": [],
   "source": [
    "# 資料集\n",
    "DATASET_NAME = \"TaFeng\"     # 讀取TaFeng資料\n",
    "# DATASET_NAME = \"Dunnhumby\"  # 讀取Dunnhumby資料\n",
    "# DATASET_NAME = \"Instacart\"  # 讀取Instacart資料"
   ]
  },
  {
   "cell_type": "code",
   "execution_count": 5,
   "id": "32520298",
   "metadata": {},
   "outputs": [
    {
     "data": {
      "text/plain": [
       "torch.Size([15764, 32])"
      ]
     },
     "execution_count": 5,
     "metadata": {},
     "output_type": "execute_result"
    }
   ],
   "source": [
    "# load word2Vec pre_train model\n",
    "model_filename = f\"../preprocessing-data/item2vec_models/item2vec_{DATASET_NAME}.{EMBEDDING_DIMENSION}d.model\"\n",
    "# {DATASET}\n",
    "with open(model_filename, \"rb\") as fp:\n",
    "    model = pickle.load(fp)\n",
    "weights = torch.FloatTensor(model.wv.vectors)\n",
    "weights.shape"
   ]
  },
  {
   "cell_type": "code",
   "execution_count": 6,
   "id": "bbe80d00",
   "metadata": {
    "scrolled": true
   },
   "outputs": [
    {
     "data": {
      "text/plain": [
       "[(1113,\n",
       "  [[0, 1, 2], [3, 4, 5, 6, 7, 8], [9, 10, 11, 12, 13, 14, 15]],\n",
       "  [3, 6, 7]),\n",
       " (5241,\n",
       "  [[16, 17, 18, 19, 20, 21],\n",
       "   [22, 23, 24, 25, 26, 27, 28, 29, 30, 31],\n",
       "   [32, 33, 34, 35, 36, 37, 38, 39, 40, 41, 42, 43, 44, 45, 46, 47],\n",
       "   [48, 49, 50, 51, 52]],\n",
       "  [6, 10, 16, 5])]"
      ]
     },
     "execution_count": 6,
     "metadata": {},
     "output_type": "execute_result"
    }
   ],
   "source": [
    "# {DATASET} user_cart_itemid_list 用戶id, 購物籃時間差(不會使用到), 此用戶的購物籃串列(每個串列包含多項目)。\n",
    "with gzip.open(f\"../preprocessing-data/{DATASET_NAME}_user_cart_itemid_list.gz\", \"rb\") as fp:\n",
    "    user_cart_itemid_list = pickle.load(fp)\n",
    "user_cart_itemid_list[:2]"
   ]
  },
  {
   "cell_type": "code",
   "execution_count": 7,
   "id": "361c43d7",
   "metadata": {},
   "outputs": [],
   "source": [
    "# Load {DATASET} confidences_Matrix\n",
    "with gzip.open(f\"../preprocessing-data/confidences/{DATASET_NAME}_confidences_array.gz\", \"rb\") as fp:\n",
    "    confidences = pickle.load(fp)"
   ]
  },
  {
   "cell_type": "code",
   "execution_count": 8,
   "id": "b83d2fe8",
   "metadata": {},
   "outputs": [
    {
     "name": "stdout",
     "output_type": "stream",
     "text": [
      "72\n"
     ]
    },
    {
     "data": {
      "text/html": [
       "<div>\n",
       "<style scoped>\n",
       "    .dataframe tbody tr th:only-of-type {\n",
       "        vertical-align: middle;\n",
       "    }\n",
       "\n",
       "    .dataframe tbody tr th {\n",
       "        vertical-align: top;\n",
       "    }\n",
       "\n",
       "    .dataframe thead th {\n",
       "        text-align: right;\n",
       "    }\n",
       "</style>\n",
       "<table border=\"1\" class=\"dataframe\">\n",
       "  <thead>\n",
       "    <tr style=\"text-align: right;\">\n",
       "      <th></th>\n",
       "      <th>CUSTOMER_ID</th>\n",
       "      <th>PRODUCT_ID</th>\n",
       "      <th>TRANSACTION_DT</th>\n",
       "      <th>CART_ID</th>\n",
       "      <th>NEW_ITEM_ID</th>\n",
       "    </tr>\n",
       "  </thead>\n",
       "  <tbody>\n",
       "    <tr>\n",
       "      <th>0</th>\n",
       "      <td>1113</td>\n",
       "      <td>4902105011621</td>\n",
       "      <td>2000-11-26</td>\n",
       "      <td>0</td>\n",
       "      <td>0</td>\n",
       "    </tr>\n",
       "    <tr>\n",
       "      <th>1</th>\n",
       "      <td>1113</td>\n",
       "      <td>7616100830794</td>\n",
       "      <td>2000-11-26</td>\n",
       "      <td>0</td>\n",
       "      <td>1</td>\n",
       "    </tr>\n",
       "    <tr>\n",
       "      <th>2</th>\n",
       "      <td>1113</td>\n",
       "      <td>4710892632017</td>\n",
       "      <td>2000-11-26</td>\n",
       "      <td>0</td>\n",
       "      <td>2</td>\n",
       "    </tr>\n",
       "    <tr>\n",
       "      <th>3</th>\n",
       "      <td>1113</td>\n",
       "      <td>4710905340113</td>\n",
       "      <td>2000-11-27</td>\n",
       "      <td>1</td>\n",
       "      <td>3</td>\n",
       "    </tr>\n",
       "    <tr>\n",
       "      <th>4</th>\n",
       "      <td>1113</td>\n",
       "      <td>4717362901277</td>\n",
       "      <td>2000-11-27</td>\n",
       "      <td>1</td>\n",
       "      <td>4</td>\n",
       "    </tr>\n",
       "    <tr>\n",
       "      <th>...</th>\n",
       "      <td>...</td>\n",
       "      <td>...</td>\n",
       "      <td>...</td>\n",
       "      <td>...</td>\n",
       "      <td>...</td>\n",
       "    </tr>\n",
       "    <tr>\n",
       "      <th>533054</th>\n",
       "      <td>20002000</td>\n",
       "      <td>4710339772139</td>\n",
       "      <td>2001-01-20</td>\n",
       "      <td>62360</td>\n",
       "      <td>4546</td>\n",
       "    </tr>\n",
       "    <tr>\n",
       "      <th>533055</th>\n",
       "      <td>20002000</td>\n",
       "      <td>20513184</td>\n",
       "      <td>2001-01-20</td>\n",
       "      <td>62360</td>\n",
       "      <td>1351</td>\n",
       "    </tr>\n",
       "    <tr>\n",
       "      <th>533056</th>\n",
       "      <td>20002000</td>\n",
       "      <td>4714800731229</td>\n",
       "      <td>2001-01-20</td>\n",
       "      <td>62360</td>\n",
       "      <td>2946</td>\n",
       "    </tr>\n",
       "    <tr>\n",
       "      <th>533057</th>\n",
       "      <td>20002000</td>\n",
       "      <td>4714541091071</td>\n",
       "      <td>2001-01-20</td>\n",
       "      <td>62360</td>\n",
       "      <td>7382</td>\n",
       "    </tr>\n",
       "    <tr>\n",
       "      <th>533058</th>\n",
       "      <td>20002000</td>\n",
       "      <td>4710018008634</td>\n",
       "      <td>2001-01-20</td>\n",
       "      <td>62360</td>\n",
       "      <td>2629</td>\n",
       "    </tr>\n",
       "  </tbody>\n",
       "</table>\n",
       "<p>533059 rows × 5 columns</p>\n",
       "</div>"
      ],
      "text/plain": [
       "        CUSTOMER_ID     PRODUCT_ID TRANSACTION_DT  CART_ID  NEW_ITEM_ID\n",
       "0              1113  4902105011621     2000-11-26        0            0\n",
       "1              1113  7616100830794     2000-11-26        0            1\n",
       "2              1113  4710892632017     2000-11-26        0            2\n",
       "3              1113  4710905340113     2000-11-27        1            3\n",
       "4              1113  4717362901277     2000-11-27        1            4\n",
       "...             ...            ...            ...      ...          ...\n",
       "533054     20002000  4710339772139     2001-01-20    62360         4546\n",
       "533055     20002000       20513184     2001-01-20    62360         1351\n",
       "533056     20002000  4714800731229     2001-01-20    62360         2946\n",
       "533057     20002000  4714541091071     2001-01-20    62360         7382\n",
       "533058     20002000  4710018008634     2001-01-20    62360         2629\n",
       "\n",
       "[533059 rows x 5 columns]"
      ]
     },
     "execution_count": 8,
     "metadata": {},
     "output_type": "execute_result"
    }
   ],
   "source": [
    "dataset = pd.read_csv(f\"../cleaned_dataset/{DATASET_NAME}_clean.csv\")\n",
    "\n",
    "# 最多購物籃\n",
    "max_cart_count = dataset.groupby(\"CUSTOMER_ID\")[\"CART_ID\"].nunique().max()\n",
    "print(max_cart_count)\n",
    "\n",
    "dataset"
   ]
  },
  {
   "cell_type": "markdown",
   "id": "a0877d82",
   "metadata": {},
   "source": [
    "# 切分資料集\n",
    "- 分成輸入資料與標籤資料\n",
    "- 訓練集:驗證集:測試集 = 7:1:2"
   ]
  },
  {
   "cell_type": "code",
   "execution_count": 9,
   "id": "73e9cf41",
   "metadata": {},
   "outputs": [],
   "source": [
    "# 切分資料集\n",
    "# train_set_size = int(len(user_cart_itemid_list) * 0.8)\n",
    "# valid_set_size = int(len(user_cart_itemid_list) * 0.1)\n",
    "# test_set_size = len(user_cart_itemid_list)-train_set_size-valid_set_size\n",
    "# train_set, valid_set, test_set = random_split(user_cart_itemid_list, [train_set_size, valid_set_size, test_set_size])\n",
    "# print(len(train_set))\n",
    "# print(len(valid_set))\n",
    "# print(len(test_set))"
   ]
  },
  {
   "cell_type": "code",
   "execution_count": 10,
   "id": "5edaa93d",
   "metadata": {},
   "outputs": [],
   "source": [
    "# 將切割好的資料集暫存起來\n",
    "\n",
    "# # 訓練集\n",
    "# filepath = \"../preprocessing-data/TaFeng_dataset/train_set.pkl\"\n",
    "# with open(filepath, \"wb\") as f:\n",
    "#     pickle.dump(train_set, f)\n",
    "# # 驗證集\n",
    "# filepath = \"../preprocessing-data/TaFeng_dataset/valid_set.pkl\"\n",
    "# with open(filepath, \"wb\") as f:\n",
    "#     pickle.dump(valid_set, f)\n",
    "# # 測試集\n",
    "# filepath = \"../preprocessing-data/TaFeng_dataset/test_set.pkl\"\n",
    "# with open(filepath, \"wb\") as f:\n",
    "#     pickle.dump(test_set, f)"
   ]
  },
  {
   "cell_type": "code",
   "execution_count": 11,
   "id": "b203d0c9",
   "metadata": {},
   "outputs": [],
   "source": [
    "# 讀取之前暫存的資料集\n",
    "\n",
    "# 載入訓練、驗證、測試集\n",
    "with open(f\"../preprocessing-data/{DATASET_NAME}_dataset/train_set.pkl\", \"rb\") as fp:\n",
    "    train_set = pickle.load(fp)\n",
    "with open(f\"../preprocessing-data/{DATASET_NAME}_dataset/valid_set.pkl\", \"rb\") as fp:\n",
    "    valid_set = pickle.load(fp)\n",
    "with open(f\"../preprocessing-data/{DATASET_NAME}_dataset/test_set.pkl\", \"rb\") as fp:\n",
    "    test_set = pickle.load(fp)"
   ]
  },
  {
   "cell_type": "markdown",
   "id": "c9585447",
   "metadata": {},
   "source": [
    "# Batch"
   ]
  },
  {
   "cell_type": "code",
   "execution_count": 12,
   "id": "a209539b",
   "metadata": {
    "scrolled": true
   },
   "outputs": [
    {
     "data": {
      "text/plain": [
       "device(type='cuda')"
      ]
     },
     "execution_count": 12,
     "metadata": {},
     "output_type": "execute_result"
    }
   ],
   "source": [
    "device = torch.device(\"cuda\" if torch.cuda.is_available() else \"cpu\")\n",
    "device"
   ]
  },
  {
   "cell_type": "code",
   "execution_count": 13,
   "id": "b348e2b5",
   "metadata": {},
   "outputs": [],
   "source": [
    "# 定義資料轉換函數(於collate_batch函式中使用)\n",
    "item_index_pipeline = lambda x : [[model.wv.key_to_index[j] for j in i] for i in x] # 取得購物籃中，項目的索引值(只有使用Item2Vec時會需要)\n",
    "item_label_pipeline = lambda x : [model.wv.key_to_index[j] for j in x]"
   ]
  },
  {
   "cell_type": "code",
   "execution_count": 14,
   "id": "92fb3dee",
   "metadata": {},
   "outputs": [],
   "source": [
    "class TensorDataset(Dataset):\n",
    "    # TensorDataset繼承Dataset, 重載__init__, __getitem__, __len__\n",
    "    # 實現將一組Tensor數據封裝成Tensor數據集\n",
    "    # 能夠通過Index得到數據集的數據，能夠通過len，得到數據集大小\n",
    "    def __init__(self, data_tensor):\n",
    "        self.data_tensor = data_tensor\n",
    "    def __getitem__(self, index):\n",
    "        return self.data_tensor[index]\n",
    "    def __len__(self):\n",
    "        return len(self.data_tensor)\n",
    "\n",
    "# 輸出userID, input_list跟label(最後一個購物籃)\n",
    "def collate_batch(batch):\n",
    "    # 使用ID、時間差、訓練的購物籃項目、預測的購物籃項目\n",
    "    userID, input_item_list, label_item_list, input_size_list, label_size_list = [], [], [], [], []\n",
    "    for _user in batch:\n",
    "        #　userID\n",
    "        userID.append(_user[0])\n",
    "        # 所有購物籃的項目ID串列中的最後一個購物籃項目ID\n",
    "#         label_item_list.append(torch.tensor(_user[1][-1]))\n",
    "        label_size_list.append(torch.tensor(_user[2][-1]))\n",
    "        \n",
    "        # 不使用Item2Vec進行項目嵌入\n",
    "        if isI2V == 0:\n",
    "            train_list = _user[1][0:-1]\n",
    "            label_list = torch.tensor(_user[1][-1])\n",
    "        # 使用Item2Vec進行項目嵌入\n",
    "        else:\n",
    "            train_list = item_index_pipeline(_user[1][0:-1])\n",
    "            label_list = torch.tensor(item_label_pipeline(_user[1][-1]))\n",
    "        input_size_list.append(_user[2][0:-1])\n",
    "        \n",
    "        input_item_list.append(train_list) #　所有購物籃的項目ID串列(除了最後一個購物籃)\n",
    "        label_item_list.append(label_list)\n",
    "    \n",
    "    return userID, input_item_list, label_item_list, input_size_list, label_size_list"
   ]
  },
  {
   "cell_type": "code",
   "execution_count": 15,
   "id": "f442f66a",
   "metadata": {},
   "outputs": [],
   "source": [
    "# 轉成 Dataset\n",
    "split_train_ = TensorDataset(train_set)\n",
    "split_valid_ = TensorDataset(valid_set)\n",
    "split_test_ = TensorDataset(test_set)"
   ]
  },
  {
   "cell_type": "code",
   "execution_count": 16,
   "id": "54fe7bc6",
   "metadata": {},
   "outputs": [],
   "source": [
    "# DataLoader \n",
    "train_dataloader = DataLoader(split_train_, batch_size=BATCH_SIZE, shuffle=True, collate_fn=collate_batch, drop_last=True)\n",
    "valid_dataloader = DataLoader(split_valid_, batch_size=BATCH_SIZE, shuffle=True, collate_fn=collate_batch, drop_last=True)\n",
    "test_dataloader = DataLoader(split_test_, batch_size=BATCH_SIZE, shuffle=True, collate_fn=collate_batch, drop_last=True)"
   ]
  },
  {
   "cell_type": "markdown",
   "id": "637657be",
   "metadata": {},
   "source": [
    "# Self-Attention"
   ]
  },
  {
   "cell_type": "code",
   "execution_count": 17,
   "id": "a96171ad",
   "metadata": {},
   "outputs": [],
   "source": [
    "# 使用nn.MultiheadAttention\n",
    "# 輸入一個用戶的一個購物籃，輸出購物籃嵌入\n",
    "class SelfAttention(nn.Module):\n",
    "    def __init__(self, embed_dim, model_dim): #項目向量維度，輸出模型的維度\n",
    "        super(SelfAttention, self).__init__()\n",
    "        self.embed_dim = embed_dim\n",
    "        self.model_dim = model_dim\n",
    "        \n",
    "        # 初始化Q, K, V 矩陣\n",
    "        self.query_matrix = nn.Linear(embed_dim, model_dim)\n",
    "        xavier_uniform_(self.query_matrix.weight)\n",
    "        self.key_matrix = nn.Linear(embed_dim, model_dim)\n",
    "        xavier_uniform_(self.key_matrix.weight)\n",
    "        self.value_matrix = nn.Linear(embed_dim, model_dim)\n",
    "        xavier_uniform_(self.value_matrix.weight)\n",
    "        self.multihead_attn = nn.MultiheadAttention(embed_dim, num_heads=1)\n",
    "        \n",
    "    def forward(self, inputs, attention_mask):\n",
    "        \n",
    "        # 輸入一個項目向量，透過三個可學習的參數矩陣，得到計算所需要的 q,k,v\n",
    "        q = self.query_matrix(inputs)\n",
    "        k = self.key_matrix(inputs)\n",
    "        v = self.value_matrix(inputs)\n",
    "        \n",
    "        attn_output, attn_output_weight = self.multihead_attn(q, k, v, key_padding_mask=attention_mask.transpose(0,1))\n",
    "        \n",
    "        output_mean = torch.tensor([[0 for _ in range(MODEL_DIMENSION)] for _ in range(len(attention_mask))], dtype=torch.float).to(device)\n",
    "        for i, cart in enumerate(attention_mask):\n",
    "            for j, mask in enumerate(cart):\n",
    "                if mask == False:\n",
    "                    output_mean[i] = attn_output[i][j] # 使用最後一個項目作為輸出\n",
    "        basket_embedding = output_mean\n",
    "        \n",
    "        return basket_embedding"
   ]
  },
  {
   "cell_type": "markdown",
   "id": "a3043def",
   "metadata": {},
   "source": [
    "   # LSTM"
   ]
  },
  {
   "cell_type": "code",
   "execution_count": 18,
   "id": "3b8530b2",
   "metadata": {},
   "outputs": [],
   "source": [
    "class LSTM(nn.Module):\n",
    "    def __init__(self, input_size, output_size):\n",
    "        super(LSTM, self).__init__()\n",
    "        self.lstm = torch.nn.LSTM(input_size, HIDDEN_SIZE, 2)\n",
    "        self.hiddenlayer1 = torch.nn.Linear(max_cart_count * HIDDEN_SIZE, 512)\n",
    "        self.hiddenlayer2 = torch.nn.Linear(512, 512)\n",
    "        self.hiddenlayer3 = torch.nn.Linear(512, 256)\n",
    "        self.hiddenlayer4 = torch.nn.Linear(256, 128)\n",
    "        self.embed = torch.nn.Linear(128, EMBEDDING_DIMENSION)\n",
    "        self.leakyrelu = torch.nn.LeakyReLU()\n",
    "    \n",
    "    def forward(self, inputs):\n",
    "        output, (h,c) = self.lstm(inputs)\n",
    "        hidden1 = self.hiddenlayer1(output.view(max_cart_count * HIDDEN_SIZE))\n",
    "        hidden2 = self.hiddenlayer2(hidden1)\n",
    "        hidden3 = self.hiddenlayer3(hidden2)\n",
    "        hidden4 = self.hiddenlayer4(hidden3)\n",
    "        output = self.embed(hidden4)\n",
    "        return output"
   ]
  },
  {
   "cell_type": "markdown",
   "id": "00cd99b7",
   "metadata": {},
   "source": [
    "# Transformer"
   ]
  },
  {
   "cell_type": "code",
   "execution_count": 19,
   "id": "bc0ed90c",
   "metadata": {},
   "outputs": [],
   "source": [
    "class PositionalEncoding(nn.Module):\n",
    "    def __init__(self, d_model:int, dropout, maxlen:int=500):\n",
    "        super(PositionalEncoding, self).__init__()\n",
    "        # den 是把10000^(2i/d_model)取log_e，前面加負號是求倒數\n",
    "        den = torch.exp(-torch.arange(0, d_model, 2) * math.log(10000) / d_model)\n",
    "        pos = torch.arange(0, maxlen).reshape(maxlen, 1)\n",
    "        pos_embedding = torch.zeros(maxlen, d_model)#.to(device)\n",
    "        pos_embedding[:, 0::2] = torch.sin(pos*den)\n",
    "        pos_embedding[:, 1::2] = torch.cos(pos*den)\n",
    "        \n",
    "        pos_embedding = pos_embedding.unsqueeze(0)\n",
    "        \n",
    "        self.dropout = nn.Dropout(dropout)\n",
    "        self.register_buffer(\"pos_embedding\", pos_embedding)\n",
    "        \n",
    "    def forward(self, token_embedding):\n",
    "        return self.dropout(token_embedding+ self.pos_embedding[:, :token_embedding.size(1), :])\n",
    "    \n",
    "class TransformerEncoder(nn.Module):\n",
    "    def __init__(self, d_model, num_heads=8, num_layers=6):\n",
    "        super(TransformerEncoder, self).__init__()\n",
    "        self.pe = PositionalEncoding(d_model=d_model, dropout=0.5, maxlen=max_cart_count*2)\n",
    "        # 創建 Transformer 模型\n",
    "        self.transformer = nn.TransformerEncoder(\n",
    "            nn.TransformerEncoderLayer(d_model=d_model, nhead=num_heads),\n",
    "            num_layers=num_layers\n",
    "        )\n",
    "    \n",
    "    def forward(self, baskets_embedding):\n",
    "        baskets_embedding_pe = self.pe(baskets_embedding)\n",
    "        \n",
    "        # 購物籃padding的遮罩\n",
    "        padding_mask = ~baskets_embedding.sum(dim=-1).ne(0).transpose(0,1)\n",
    "        \n",
    "        output = self.transformer(baskets_embedding_pe.to(torch.float32), src_key_padding_mask=padding_mask.to(torch.float32))\n",
    "        return output"
   ]
  },
  {
   "cell_type": "markdown",
   "id": "9cdd237c",
   "metadata": {},
   "source": [
    "# MLP層"
   ]
  },
  {
   "cell_type": "code",
   "execution_count": 20,
   "id": "e8fb5303",
   "metadata": {},
   "outputs": [],
   "source": [
    "class MLPforItem(nn.Module):\n",
    "    def __init__(self, embed_dim, hidden_dim, items_dim):\n",
    "        super(MLPforItem, self).__init__()\n",
    "        # hidden layer\n",
    "        self.hidden = nn.Linear(embed_dim, hidden_dim)\n",
    "        xavier_uniform_(self.hidden.weight)\n",
    "        self.norm = nn.BatchNorm1d(hidden_dim, momentum=0.03)\n",
    "        self.relu = nn.ReLU()\n",
    "        # output layer\n",
    "        self.output = nn.Linear(hidden_dim, items_dim)\n",
    "        self.softmax = nn.Softmax(dim=0)\n",
    "    def forward(self, inputs):\n",
    "        y = self.relu(self.norm(self.hidden(inputs)))\n",
    "        return self.output(y)\n",
    "#         return self.softmax(self.output(y))"
   ]
  },
  {
   "cell_type": "code",
   "execution_count": 21,
   "id": "b52aa95b",
   "metadata": {},
   "outputs": [],
   "source": [
    "class MLPforSize(nn.Module):\n",
    "    def __init__(self, embed_dim):\n",
    "        super(MLPforSize, self).__init__()\n",
    "        # predict layer\n",
    "        self.predict = nn.Linear(embed_dim, 1)\n",
    "        self.relu = nn.ReLU()\n",
    "    def forward(self, inputs):\n",
    "        output = self.relu(self.predict(inputs))\n",
    "        return output"
   ]
  },
  {
   "cell_type": "markdown",
   "id": "9afdd949",
   "metadata": {},
   "source": [
    "# 損失函數"
   ]
  },
  {
   "cell_type": "code",
   "execution_count": 22,
   "id": "9b8084b8",
   "metadata": {},
   "outputs": [],
   "source": [
    "# MSE\n",
    "def mean_square_error(prediction, target):\n",
    "    predictions = prediction[0]\n",
    "    targets = torch.tensor([target[0]], dtype=torch.float).to(device)\n",
    "    loss = F.mse_loss(predictions, targets)\n",
    "    for i in range(1, len(prediction)):\n",
    "        predictions = prediction[i]\n",
    "        targets= torch.tensor([target[i]], dtype=torch.float).to(device)\n",
    "        loss += F.mse_loss(predictions, targets)\n",
    "    return loss"
   ]
  },
  {
   "cell_type": "code",
   "execution_count": 23,
   "id": "578a7e8b",
   "metadata": {},
   "outputs": [],
   "source": [
    "# cross_entropy_loss\n",
    "def cross_entropy_loss(predictions, targets):\n",
    "    # 創建稀疏張量的索引和值\n",
    "    indices = []\n",
    "    values = []\n",
    "    for i, t in enumerate(targets):\n",
    "        for v in t:\n",
    "            indices.append([i, v])\n",
    "            values.append(1)\n",
    "            \n",
    "    # 創建稀疏張量\n",
    "    sparse_targets = torch.sparse_coo_tensor(indices=torch.tensor(indices).t(),\n",
    "                                             values=torch.tensor(values, dtype=torch.float32),\n",
    "                                             size=(len(targets), items_count), device=device)\n",
    "    sparse_targets = sparse_targets.to_dense()\n",
    "    \n",
    "    loss = F.binary_cross_entropy_with_logits(predictions, sparse_targets)\n",
    "    return loss"
   ]
  },
  {
   "cell_type": "markdown",
   "id": "08aefe4a",
   "metadata": {},
   "source": [
    "# 評估指標"
   ]
  },
  {
   "cell_type": "code",
   "execution_count": 24,
   "id": "02891cdd",
   "metadata": {},
   "outputs": [],
   "source": [
    "def format_metric(result_dict):\n",
    "    assert type(result_dict) == dict\n",
    "    format_str = []\n",
    "    metrics = np.unique([k for k in result_dict.keys()])\n",
    "    for metric in metrics:\n",
    "        name = '{}'.format(metric)\n",
    "        m = result_dict[name]\n",
    "        if type(m) is float or type(m) is np.float32 or type(m) is np.float64:\n",
    "            format_str.append(\"{}: {:<.4f}\".format(name, m))\n",
    "        elif type(m) is int or type(m) is np.int32 or type(m) is np.int64:\n",
    "            format_str.append(\"{}: {}\".format(name, m))\n",
    "    return \", \".join(format_str)"
   ]
  },
  {
   "cell_type": "markdown",
   "id": "fa92db9d",
   "metadata": {},
   "source": [
    "## F1-score"
   ]
  },
  {
   "cell_type": "code",
   "execution_count": 25,
   "id": "f7cca32b",
   "metadata": {},
   "outputs": [],
   "source": [
    "def calculate_f1_score(predictions, targets, k_list):\n",
    "    \"\"\"\n",
    "    計算 F1-score@K。\n",
    "\n",
    "    Args:\n",
    "        predictions: 二維的預測機率矩陣，大小為 [num_users, num_items]。\n",
    "        targets: 一個包含每個用戶真實標籤的列表，其中每個列表的大小不同。\n",
    "        k_list: 用預測出的K值，計算F1-score@K\n",
    "\n",
    "    Returns:\n",
    "        F1-score@K 分數。\n",
    "    \"\"\"\n",
    "    # 將預測機率矩陣值轉換為 Pytorch 張量\n",
    "    predictions = torch.from_numpy(np.array(predictions, dtype=np.float32))\n",
    "    num_users = len(targets)\n",
    "    f1_score_eval = dict()\n",
    "    \n",
    "    precision_sum = 0.0\n",
    "    recall_sum = 0.0\n",
    "    f1_score_sum = 0.0\n",
    "    for i in range(num_users):\n",
    "        \n",
    "        # 將用戶 i 的真實標籤轉換為 PyTorch 張量。\n",
    "        labels = torch.from_numpy(np.array(targets[i], dtype=np.int64))\n",
    "        # 計算用戶 i 在預測機率矩陣中機率最高的 K 個項目索引\n",
    "        top_k_item_labels = torch.topk(predictions[i], k_list[i])[1]\n",
    "        # 計算用戶 i 的真實標籤和預測標籤的交集 (TP)\n",
    "        true_positives = torch.sum(torch.sum(torch.eq(top_k_item_labels, labels.unsqueeze(1)).to(torch.float32), dim=1)).item()\n",
    "        # 計算用戶 i 的真實標籤和預測標籤的聯集\n",
    "        predicted_positives = k_list[i] # TP+FP\n",
    "        actual_positives = len(labels)  # TP+FN\n",
    "        # 預防 K 預測為0導致 precision 分母為0\n",
    "        if predicted_positives == 0:\n",
    "            precision = 0.0\n",
    "        else:\n",
    "            precision = true_positives / predicted_positives\n",
    "        # 預防實際 K 為0導致 recall 分母為0\n",
    "        if actual_positives == 0:\n",
    "            recall = 0.0\n",
    "        else:\n",
    "            recall = true_positives / actual_positives\n",
    "        # 計算F1-score\n",
    "        if precision + recall == 0:\n",
    "            f1_score = 0.0\n",
    "        else:\n",
    "            f1_score = 2 * precision * recall / (precision + recall)\n",
    "        precision_sum += precision\n",
    "        recall_sum += recall\n",
    "        f1_score_sum += f1_score\n",
    "        \n",
    "    # 計算平均分數\n",
    "    precision = precision_sum / float(num_users)\n",
    "    recall = recall_sum / float(num_users)\n",
    "    f1_score = f1_score_sum / float(num_users)\n",
    "    # 儲存到dict\n",
    "    key = \"{}\".format(\"Recall\")\n",
    "    f1_score_eval[key] = recall\n",
    "    key = \"{}\".format(\"Precision\")\n",
    "    f1_score_eval[key] = precision\n",
    "    key = \"{}\".format(\"F1-score\")\n",
    "    f1_score_eval[key] = f1_score\n",
    "    \n",
    "    return f1_score_eval"
   ]
  },
  {
   "cell_type": "markdown",
   "id": "506ff404",
   "metadata": {},
   "source": [
    "## NDCG"
   ]
  },
  {
   "cell_type": "code",
   "execution_count": 26,
   "id": "4c566188",
   "metadata": {},
   "outputs": [],
   "source": [
    "def calculate_ndcg(basket_predictions, basket_targets, size_predictions, size_targets):\n",
    "    \"\"\"\n",
    "    計算 NDCG@K。\n",
    "\n",
    "    Args:\n",
    "        basket_predictions: 預測購物籃項目\n",
    "        bakset_targets: 實際購物籃項目\n",
    "        size_predictions: 預測購物籃大小\n",
    "        size_targets: 實際購物籃大小  \n",
    "\n",
    "    Returns:\n",
    "        NDCG@K 分數。\n",
    "    \"\"\"\n",
    "    # 將預測機率矩陣轉換為 PyTorch 張量\n",
    "    predictions = torch.from_numpy(np.array(basket_predictions, dtype=np.float32))\n",
    "    num_users = len(basket_targets)\n",
    "    ndcg_eval = dict()\n",
    "    \n",
    "    ndcg_sum = 0.0\n",
    "    for i in range(num_users):\n",
    "        # 將用戶 i 的真實標籤轉換為 PyTorch 張量\n",
    "        labels = torch.from_numpy(np.array(basket_targets[i], dtype=np.int64))\n",
    "        # 計算用戶 i 在預測機率矩陣中機率最高的 K 個項目的索引=標籤\n",
    "        top_k_item_labels = torch.topk(basket_predictions[i], size_predictions[i])[1]\n",
    "        # 計算 DCG@K\n",
    "        dcg_at_k = torch.sum(torch.nan_to_num(torch.div(1.0, torch.log2(torch.arange(size_predictions[i], dtype=torch.float32) +2))) * (torch.eq(top_k_item_labels, labels.unsqueeze(1)).to(torch.float32)))\n",
    "        # 計算 IDCG@K\n",
    "        idcg_at_k = torch.sum(torch.div(1.0, torch.log2(torch.arange(len(labels), dtype=torch.float32) + 2)))\n",
    "        # 計算 NDCG@K * Penalty weight\n",
    "        if torch.eq(idcg_at_k, 0):\n",
    "            ndcg_at_k = idcg_at_k\n",
    "        else:\n",
    "            ndcg_at_k = (dcg_at_k / idcg_at_k) * (size_targets[i] / (size_targets[i] + abs(size_targets[i] - size_predictions[i])))\n",
    "        ndcg_sum += ndcg_at_k.item()\n",
    "    #　計算平均　NDCG@K 分數\n",
    "    ndcg = ndcg_sum / float(num_users)\n",
    "    key = \"{}\".format(\"NDCG\")\n",
    "    ndcg_eval[key] = ndcg\n",
    "\n",
    "    return ndcg_eval"
   ]
  },
  {
   "cell_type": "code",
   "execution_count": 27,
   "id": "4b4fe7dc",
   "metadata": {},
   "outputs": [],
   "source": [
    "def calculate_mae(size_predictions, size_targets):\n",
    "    sum = 0\n",
    "    num_users = len(size_targets)\n",
    "    mae_eval = dict()\n",
    "    for i in range(num_users):\n",
    "        sum += abs(size_predictions[i] - (size_targets[i]).item())\n",
    "    key = \"{}\".format(\"MAE\")\n",
    "    mae_eval[key] = sum / num_users\n",
    "    return mae_eval"
   ]
  },
  {
   "cell_type": "markdown",
   "id": "213301db",
   "metadata": {},
   "source": [
    "# 訓練&測試"
   ]
  },
  {
   "cell_type": "code",
   "execution_count": 28,
   "id": "5d503206",
   "metadata": {},
   "outputs": [],
   "source": [
    "# 訓練模型\n",
    "def train_model():\n",
    "    my_model.train()\n",
    "    loss_list = []\n",
    "    \n",
    "    for batch_idx, (userID, basket_input, basket_label, size_input, size_label) in enumerate(tqdm(train_dataloader)):\n",
    "        optimizer.zero_grad()\n",
    "        basket_output, size_output = my_model(basket_input, size_input)\n",
    "        # 計算損失\n",
    "        loss = ALPHA * mean_square_error(size_output, size_label) + (1 - ALPHA) * cross_entropy_loss(basket_output, basket_label)\n",
    "        loss_list.append(loss.item())\n",
    "        loss.backward()\n",
    "        optimizer.step()\n",
    "        \n",
    "        if (batch_idx%100 == 0) or (batch_idx == len(train_dataloader)-1):\n",
    "            precentage = (100 * batch_idx/len(train_dataloader))\n",
    "            print(f\"Epoch {epoch}: {precentage:.0f}%, loss: {loss.item():.6f}\")\n",
    "            \n",
    "        with torch.no_grad():\n",
    "            basket_output = torch.from_numpy(np.array(basket_output.cpu(), dtype=np.float32))\n",
    "            size_output = np.round(np.squeeze(np.array([_.cpu() for _ in size_output], dtype=np.float32))).astype(int).tolist()\n",
    "            if batch_idx == 0:\n",
    "                basket_outputs = basket_output\n",
    "                basket_labels = basket_label\n",
    "                size_outputs = size_output\n",
    "                size_labels = size_label\n",
    "            else:\n",
    "                basket_outputs = torch.cat( (basket_outputs, basket_output),-2 )\n",
    "                basket_labels = basket_labels + basket_label\n",
    "                size_outputs = size_outputs + size_output\n",
    "                size_labels = size_labels + size_label\n",
    "                \n",
    "    with torch.no_grad():\n",
    "        evaluations = calculate_f1_score(basket_outputs, basket_labels, size_outputs) \n",
    "        res_str = '(' + format_metric(evaluations) + ')'\n",
    "        print(f\"                      {res_str}\\n\")\n",
    "\n",
    "        evaluations = calculate_ndcg(basket_outputs, basket_labels, size_outputs, size_labels) \n",
    "        res_str = '(' + format_metric(evaluations) + ')'\n",
    "        print(f\"                      {res_str}\\n\")\n",
    "\n",
    "        evaluations = calculate_mae(size_outputs, size_labels)\n",
    "        res_str = '(' + format_metric(evaluations) + ')'\n",
    "        print(f\"                      {res_str}\\n\")\n",
    "        \n",
    "    return torch.mean(torch.tensor(loss_list))"
   ]
  },
  {
   "cell_type": "code",
   "execution_count": 29,
   "id": "b0799869",
   "metadata": {},
   "outputs": [],
   "source": [
    "# 驗證模型\n",
    "def evaluate_model():\n",
    "    my_model.eval()\n",
    "    loss_list = []\n",
    "    for batch_idx, (userID, basket_input, basket_label, size_input, size_label) in enumerate(tqdm(valid_dataloader)):\n",
    "        basket_output, size_output= my_model(basket_input, size_input)\n",
    "        # 計算損失\n",
    "        loss = ALPHA * mean_square_error(size_output, size_label) + (1 - ALPHA) * cross_entropy_loss(basket_output, basket_label)\n",
    "        loss_list.append(loss.item())\n",
    "        \n",
    "        with torch.no_grad():\n",
    "            basket_output = torch.from_numpy(np.array(basket_output.cpu(), dtype=np.float32))\n",
    "            size_output = np.round(np.squeeze(np.array([_.cpu() for _ in size_output], dtype=np.float32))).astype(int).tolist()\n",
    "            if batch_idx == 0:\n",
    "                basket_outputs = basket_output\n",
    "                basket_labels = basket_label\n",
    "                size_outputs = size_output\n",
    "                size_labels = size_label\n",
    "            else:\n",
    "                basket_outputs = torch.cat( (basket_outputs, basket_output),-2 )\n",
    "                basket_labels = basket_labels + basket_label\n",
    "                size_outputs = size_outputs + size_output\n",
    "                size_labels = size_labels + size_label\n",
    "        \n",
    "    with torch.no_grad():\n",
    "        evaluations = calculate_f1_score(basket_outputs, basket_labels, size_outputs) \n",
    "        res_str = '(' + format_metric(evaluations) + ')'\n",
    "        print(f\"                      {res_str}\\n\")\n",
    "\n",
    "        evaluations = calculate_ndcg(basket_outputs, basket_labels, size_outputs, size_labels) \n",
    "        res_str = '(' + format_metric(evaluations) + ')'\n",
    "        print(f\"                      {res_str}\\n\")\n",
    "\n",
    "        evaluations = calculate_mae(size_outputs, size_labels)\n",
    "        res_str = '(' + format_metric(evaluations) + ')'\n",
    "        print(f\"                      {res_str}\\n\")\n",
    "        \n",
    "    return torch.mean(torch.tensor(loss_list))"
   ]
  },
  {
   "cell_type": "code",
   "execution_count": 30,
   "id": "5e8d7319",
   "metadata": {},
   "outputs": [],
   "source": [
    "# 測試模型\n",
    "def test_model():\n",
    "    my_model.eval()\n",
    "    loss_list = []\n",
    "    for batch_idx, (userID, basket_input, basket_label, size_input, size_label) in enumerate(tqdm(test_dataloader)):\n",
    "        basket_output, size_output = my_model(basket_input, size_input)\n",
    "        # 計算損失\n",
    "        loss = ALPHA * mean_square_error(size_output, size_label) + (1 - ALPHA) * cross_entropy_loss(basket_output, basket_label)\n",
    "        loss_list.append(loss.item())\n",
    "        \n",
    "        with torch.no_grad():\n",
    "            basket_output = torch.from_numpy(np.array(basket_output.cpu(), dtype=np.float32))\n",
    "            size_output = np.round(np.squeeze(np.array([_.cpu() for _ in size_output], dtype=np.float32))).astype(int).tolist()\n",
    "            if batch_idx == 0:\n",
    "                basket_outputs = basket_output\n",
    "                basket_labels = basket_label\n",
    "                size_outputs = size_output\n",
    "                size_labels = size_label\n",
    "            else:\n",
    "                basket_outputs = torch.cat( (basket_outputs, basket_output),-2 )\n",
    "                basket_labels = basket_labels + basket_label\n",
    "                size_outputs = size_outputs + size_output\n",
    "                size_labels = size_labels + size_label\n",
    "    \n",
    "    with torch.no_grad():\n",
    "        f1_evaluations = calculate_f1_score(basket_outputs, basket_labels, size_outputs)\n",
    "        precision_list = [f1_evaluations[\"Precision\"]]\n",
    "        recall_list =  [f1_evaluations[\"Recall\"]]\n",
    "        f1_list = [f1_evaluations[\"F1-score\"]]\n",
    "        res_str = '(' + format_metric(f1_evaluations) + ')'\n",
    "        print(f\"                      {res_str}\\n\")\n",
    "        \n",
    "        ndcg_evaluations = calculate_ndcg(basket_outputs, basket_labels, size_outputs, size_labels) \n",
    "        ndcg_list = [ndcg_evaluations[\"NDCG\"]]\n",
    "        res_str = '(' + format_metric(ndcg_evaluations) + ')'\n",
    "        print(f\"                      {res_str}\\n\")\n",
    "        \n",
    "        mae_evaluations = calculate_mae(size_outputs, size_labels)\n",
    "        mae_list = [mae_evaluations[\"MAE\"]]\n",
    "        res_str = '(' + format_metric(mae_evaluations) + ')'\n",
    "        print(f\"                      {res_str}\\n\")\n",
    "        \n",
    "    return torch.mean(torch.tensor(loss_list)), recall_list, precision_list, f1_list, ndcg_list, mae_list"
   ]
  },
  {
   "cell_type": "markdown",
   "id": "b1b6c6a9",
   "metadata": {},
   "source": [
    "# MC"
   ]
  },
  {
   "cell_type": "code",
   "execution_count": 31,
   "id": "bd668a14",
   "metadata": {},
   "outputs": [],
   "source": [
    "def create_transition_matrix(baskets, items):\n",
    "    # 統計所有項目在前一個購物籃和下一個購物籃中出現的次數，\n",
    "    # 以及在前一個購物籃中出現的總次數\n",
    "    cooccur_counts = {}\n",
    "    prev_basket_counts = {}\n",
    "    for user_baskets in baskets:\n",
    "        for i in range(1, len(user_baskets)):\n",
    "            prev_basket = user_baskets[i-1]\n",
    "            cur_basket = user_baskets[i]\n",
    "            for item1 in prev_basket:\n",
    "                if item1 not in prev_basket_counts:\n",
    "                    prev_basket_counts[item1] = 0\n",
    "                prev_basket_counts[item1] += 1\n",
    "                for item2 in cur_basket:\n",
    "                    if item2 not in cooccur_counts:\n",
    "                        cooccur_counts[item2] = {}\n",
    "                    if item1 not in cooccur_counts[item2]:\n",
    "                        cooccur_counts[item2][item1] = 0\n",
    "                    cooccur_counts[item2][item1] += 1\n",
    "\n",
    "    # 將統計數據轉換為轉移矩陣\n",
    "    # items = sorted(list(prev_basket_counts.keys()))\n",
    "    num_items = len(items)\n",
    "    transition_matrix = np.zeros((num_items, num_items))\n",
    "    for i, item1 in tqdm(enumerate(items)):\n",
    "        for j, item2 in enumerate(items):\n",
    "            if item2 in cooccur_counts and item1 in cooccur_counts[item2]:\n",
    "                cooccur_count = cooccur_counts[item2][item1]\n",
    "                prev_basket_count = prev_basket_counts[item1]\n",
    "                transition_matrix[i, j] = cooccur_count / prev_basket_count\n",
    "    return transition_matrix"
   ]
  },
  {
   "cell_type": "code",
   "execution_count": 32,
   "id": "41ad02ea",
   "metadata": {},
   "outputs": [],
   "source": [
    "def predict_next_basket(users_baskets, transition_matrix, items, top_n=50):\n",
    "    num_users = len(users_baskets)\n",
    "    num_items = len(items)\n",
    "    predictions = []\n",
    "    pred_label = []\n",
    "    for i in range(num_users):\n",
    "        last_basket = users_baskets[i][-1] # 第i個用戶的最後一個購物籃\n",
    "        cur_prediction = np.zeros(num_items)\n",
    "        prev_item_idx = np.array([prev_item for prev_item in last_basket])\n",
    "        for j in range(num_items):\n",
    "            prob = np.sum(transition_matrix[prev_item_idx, j])\n",
    "            cur_prediction[j] = prob * (1/len(last_basket))\n",
    "        predictions.append(cur_prediction)\n",
    "    return predictions"
   ]
  },
  {
   "cell_type": "code",
   "execution_count": 33,
   "id": "36cd123d",
   "metadata": {},
   "outputs": [],
   "source": [
    "mc_item = dataset[\"NEW_ITEM_ID\"].unique() # 所有項目"
   ]
  },
  {
   "cell_type": "code",
   "execution_count": 34,
   "id": "a7fd9194",
   "metadata": {},
   "outputs": [],
   "source": [
    "train_list = []\n",
    "for batch_idx, (userID, basket_input, basket_label, size_input, size_label) in enumerate(train_dataloader):\n",
    "    for i in basket_input:\n",
    "        train_list.append(i)"
   ]
  },
  {
   "cell_type": "code",
   "execution_count": 35,
   "id": "4073c2c3",
   "metadata": {},
   "outputs": [
    {
     "name": "stderr",
     "output_type": "stream",
     "text": [
      "15764it [01:55, 136.95it/s]\n"
     ]
    },
    {
     "name": "stdout",
     "output_type": "stream",
     "text": [
      "transition_matrix=tensor([[1.1410e-01, 8.7631e-02, 3.3775e-02,  ..., 4.5641e-04, 0.0000e+00,\n",
      "         0.0000e+00],\n",
      "        [4.7421e-02, 6.9828e-02, 2.9182e-02,  ..., 0.0000e+00, 0.0000e+00,\n",
      "         0.0000e+00],\n",
      "        [7.2251e-02, 4.3979e-02, 1.9372e-01,  ..., 0.0000e+00, 0.0000e+00,\n",
      "         0.0000e+00],\n",
      "        ...,\n",
      "        [0.0000e+00, 0.0000e+00, 0.0000e+00,  ..., 0.0000e+00, 0.0000e+00,\n",
      "         0.0000e+00],\n",
      "        [0.0000e+00, 0.0000e+00, 0.0000e+00,  ..., 0.0000e+00, 0.0000e+00,\n",
      "         0.0000e+00],\n",
      "        [0.0000e+00, 1.0000e+00, 0.0000e+00,  ..., 0.0000e+00, 0.0000e+00,\n",
      "         0.0000e+00]], device='cuda:0', dtype=torch.float64)\n"
     ]
    }
   ],
   "source": [
    "# 建立所有用戶共用的轉移矩陣\n",
    "transition_matrix= create_transition_matrix(train_list, mc_item)\n",
    "transition_array = torch.tensor(transition_matrix, dtype=torch.float64).to(device)\n",
    "print(f\"transition_matrix={transition_array}\")"
   ]
  },
  {
   "cell_type": "markdown",
   "id": "1abc8fbc",
   "metadata": {},
   "source": [
    "# 完整模型"
   ]
  },
  {
   "cell_type": "code",
   "execution_count": 36,
   "id": "5ad81bac",
   "metadata": {},
   "outputs": [
    {
     "name": "stdout",
     "output_type": "stream",
     "text": [
      "items_count= 15764\n",
      "tensor([1.7128e-03, 1.1418e-03, 2.4169e-02,  ..., 6.3436e-05, 6.3436e-05,\n",
      "        6.3436e-05], device='cuda:0', dtype=torch.float64)\n"
     ]
    }
   ],
   "source": [
    "# 項目總數\n",
    "items_count = confidences.shape[0]\n",
    "print(\"items_count=\", items_count)\n",
    "# 項目出現次數\n",
    "items_freq = Counter(dataset[\"NEW_ITEM_ID\"])\n",
    "# 計算每個項目出現的比例: items_frq/items_count\n",
    "item_weight = torch.tensor(np.array(list(items_freq.values()))/items_count).to(device)\n",
    "# 按照new_item_id順序排列\n",
    "print(item_weight)"
   ]
  },
  {
   "cell_type": "markdown",
   "id": "975d9e58",
   "metadata": {},
   "source": [
    "## 加上信賴度矩陣"
   ]
  },
  {
   "cell_type": "code",
   "execution_count": 37,
   "id": "5d571c57",
   "metadata": {},
   "outputs": [
    {
     "data": {
      "text/plain": [
       "tensor([[0.0000e+00, 1.0137e-01, 3.7170e-02,  ..., 0.0000e+00, 0.0000e+00,\n",
       "         0.0000e+00],\n",
       "        [1.4002e-01, 0.0000e+00, 2.9755e-02,  ..., 0.0000e+00, 0.0000e+00,\n",
       "         2.9172e-04],\n",
       "        [1.0778e-01, 6.2462e-02, 0.0000e+00,  ..., 0.0000e+00, 0.0000e+00,\n",
       "         0.0000e+00],\n",
       "        ...,\n",
       "        [0.0000e+00, 0.0000e+00, 0.0000e+00,  ..., 0.0000e+00, 0.0000e+00,\n",
       "         0.0000e+00],\n",
       "        [0.0000e+00, 0.0000e+00, 0.0000e+00,  ..., 0.0000e+00, 0.0000e+00,\n",
       "         0.0000e+00],\n",
       "        [0.0000e+00, 1.0000e+00, 0.0000e+00,  ..., 0.0000e+00, 0.0000e+00,\n",
       "         0.0000e+00]], device='cuda:0', dtype=torch.float64)"
      ]
     },
     "execution_count": 37,
     "metadata": {},
     "output_type": "execute_result"
    }
   ],
   "source": [
    "# 信賴度矩陣\n",
    "confidences_array = torch.tensor(confidences, dtype=torch.float64).to(device)\n",
    "confidences_array"
   ]
  },
  {
   "cell_type": "code",
   "execution_count": 38,
   "id": "b00066a0",
   "metadata": {},
   "outputs": [],
   "source": [
    "class MyModel01(nn.Module):\n",
    "    def __init__(self, embed_dim, model_dim, hidden_dim, items_count):\n",
    "        super(MyModel01, self).__init__()\n",
    "        self.model_dim = model_dim\n",
    "        self.embedding = nn.Embedding.from_pretrained(weights, freeze=False)\n",
    "        self.embedding.requires_grad=True\n",
    "        self.basket_embed = SelfAttention(embed_dim=embed_dim, model_dim=model_dim)\n",
    "        self.size_embed = LSTM(1,1)\n",
    "        self.model_encoder = TransformerEncoder(d_model=model_dim, num_heads=NUM_HEAD, num_layers=NUM_LAYER)\n",
    "        # 嵌入維度、隱藏層維度、總項目數量\n",
    "        self.basket_mlp = MLPforItem(model_dim, hidden_dim, items_count)\n",
    "        self.size_mlp = MLPforSize(model_dim)\n",
    "        self.relu = nn.ReLU()\n",
    "        \n",
    "    def forward(self, basket_input, size_input):\n",
    "        \n",
    "        basket_list, size_list, attention_mask, k_list = [], [], [], []\n",
    "        output_list = []\n",
    "        \n",
    "        # 為每個用戶的購物籃加上 padding跟 mask\n",
    "        for user in basket_input:\n",
    "            # 將購物籃項目 ID 轉換為嵌入向量\n",
    "            batch_features = [ self.embedding(torch.tensor(cart).to(device)) for cart in user ]\n",
    "            # 進行 padding\n",
    "            batch_features = rnn_utils.pad_sequence(batch_features, batch_first=True, padding_value=0)\n",
    "            # 購物籃中項目的遮罩\n",
    "            mask = ~batch_features.sum(dim=-1).ne(0)\n",
    "            basket_list.append(batch_features)\n",
    "            attention_mask.append(mask)\n",
    "        \n",
    "        # 預測size_tensor\n",
    "        sizes_input = [torch.tensor(size).to(device) for size in size_input]\n",
    "        tmp_tensor = torch.zeros(max_cart_count)\n",
    "        size_list.append(tmp_tensor)\n",
    "        for size in sizes_input:\n",
    "            size_list.append(size)\n",
    "        size_list = rnn_utils.pad_sequence(size_list, batch_first=True, padding_value=0)[1:]\n",
    "            \n",
    "        # 進入自注意力，輸出形狀(BATCH_SIZE, basket_size, embed_dim)\n",
    "        basket_embedding_list = []\n",
    "        for i,user_inputs in enumerate(basket_list):\n",
    "            basketEmbed = self.basket_embed(user_inputs, attention_mask[i])\n",
    "            sizeEmbed = self.size_embed(torch.tensor([[float(_)] for _ in size_list[i]]).to(device))\n",
    "            \n",
    "            basket_embedding = torch.cat((basketEmbed, sizeEmbed.reshape(1,-1)), 0)\n",
    "            \n",
    "            k_list.append(sizeEmbed)\n",
    "            basket_embedding_list.append(basket_embedding)\n",
    "            \n",
    "        \n",
    "        # 進行購物籃的 padding\n",
    "        input_seq = rnn_utils.pad_sequence(basket_embedding_list, batch_first=True, padding_value=0)\n",
    "        #print(input_seq.size())\n",
    "        \n",
    "        \n",
    "        # 進入Transformer\n",
    "        basket_embed = self.model_encoder(input_seq.to(device))\n",
    "        \n",
    "        B_s_list = []\n",
    "        K_s_list = []\n",
    "        for i, b in enumerate(basket_embed):\n",
    "            basket_size = len(attention_mask[i])\n",
    "            B_s = b[basket_size-1]  # 取得最後一個購物籃向量\n",
    "            B_s_list.append(B_s)\n",
    "            K_s_list.append(B_s+k_list[i])\n",
    "            \n",
    "        # 進入basket MLP層\n",
    "        p = self.basket_mlp(torch.stack(B_s_list, dim=0))\n",
    "        predictions = predict_next_basket(basket_input, transition_matrix, list(mc_item), 10)\n",
    "        mc_predictions = torch.tensor(np.array(predictions), dtype=torch.float64).to(device)\n",
    "        pc = (self.relu(p.to(torch.float64))+1e-8) @ confidences_array\n",
    "        pw = torch.mul( p, item_weight )\n",
    "        \n",
    "        # z-score for mc_predictions\n",
    "        mc_mean = mc_predictions.mean(dim=1, keepdim = True)\n",
    "        mc_std = mc_predictions.std(dim=1, keepdim =True)\n",
    "        mc_z_score = (mc_predictions - mc_mean) / mc_std\n",
    "        \n",
    "        # z-score for mc_predictions\n",
    "        tr_predictions = torch.add(pc, pw) + p.to(torch.float64)\n",
    "        tr_mean = tr_predictions.mean(dim=1, keepdim = True)\n",
    "        tr_std = tr_predictions.std(dim=1, keepdim =True)\n",
    "        tr_z_score = (tr_predictions - tr_mean) / tr_std\n",
    "        \n",
    "        p_ = torch.mul(BETA, tr_predictions) + torch.mul((1-BETA), mc_z_score + tr_z_score)\n",
    "        \n",
    "        # 進入size MLP層\n",
    "        k = self.size_mlp(torch.stack(K_s_list, dim=0))\n",
    "        \n",
    "        return p_, k"
   ]
  },
  {
   "cell_type": "code",
   "execution_count": 39,
   "id": "88bf8d6f",
   "metadata": {
    "scrolled": true
   },
   "outputs": [
    {
     "data": {
      "text/plain": [
       "MyModel01(\n",
       "  (embedding): Embedding(15764, 32)\n",
       "  (basket_embed): SelfAttention(\n",
       "    (query_matrix): Linear(in_features=32, out_features=32, bias=True)\n",
       "    (key_matrix): Linear(in_features=32, out_features=32, bias=True)\n",
       "    (value_matrix): Linear(in_features=32, out_features=32, bias=True)\n",
       "    (multihead_attn): MultiheadAttention(\n",
       "      (out_proj): NonDynamicallyQuantizableLinear(in_features=32, out_features=32, bias=True)\n",
       "    )\n",
       "  )\n",
       "  (size_embed): LSTM(\n",
       "    (lstm): LSTM(1, 16, num_layers=2)\n",
       "    (hiddenlayer1): Linear(in_features=1152, out_features=512, bias=True)\n",
       "    (hiddenlayer2): Linear(in_features=512, out_features=512, bias=True)\n",
       "    (hiddenlayer3): Linear(in_features=512, out_features=256, bias=True)\n",
       "    (hiddenlayer4): Linear(in_features=256, out_features=128, bias=True)\n",
       "    (embed): Linear(in_features=128, out_features=32, bias=True)\n",
       "    (leakyrelu): LeakyReLU(negative_slope=0.01)\n",
       "  )\n",
       "  (model_encoder): TransformerEncoder(\n",
       "    (pe): PositionalEncoding(\n",
       "      (dropout): Dropout(p=0.5, inplace=False)\n",
       "    )\n",
       "    (transformer): TransformerEncoder(\n",
       "      (layers): ModuleList(\n",
       "        (0-3): 4 x TransformerEncoderLayer(\n",
       "          (self_attn): MultiheadAttention(\n",
       "            (out_proj): NonDynamicallyQuantizableLinear(in_features=32, out_features=32, bias=True)\n",
       "          )\n",
       "          (linear1): Linear(in_features=32, out_features=2048, bias=True)\n",
       "          (dropout): Dropout(p=0.1, inplace=False)\n",
       "          (linear2): Linear(in_features=2048, out_features=32, bias=True)\n",
       "          (norm1): LayerNorm((32,), eps=1e-05, elementwise_affine=True)\n",
       "          (norm2): LayerNorm((32,), eps=1e-05, elementwise_affine=True)\n",
       "          (dropout1): Dropout(p=0.1, inplace=False)\n",
       "          (dropout2): Dropout(p=0.1, inplace=False)\n",
       "        )\n",
       "      )\n",
       "    )\n",
       "  )\n",
       "  (basket_mlp): MLPforItem(\n",
       "    (hidden): Linear(in_features=32, out_features=128, bias=True)\n",
       "    (norm): BatchNorm1d(128, eps=1e-05, momentum=0.03, affine=True, track_running_stats=True)\n",
       "    (relu): ReLU()\n",
       "    (output): Linear(in_features=128, out_features=15764, bias=True)\n",
       "    (softmax): Softmax(dim=0)\n",
       "  )\n",
       "  (size_mlp): MLPforSize(\n",
       "    (predict): Linear(in_features=32, out_features=1, bias=True)\n",
       "    (relu): ReLU()\n",
       "  )\n",
       "  (relu): ReLU()\n",
       ")"
      ]
     },
     "execution_count": 39,
     "metadata": {},
     "output_type": "execute_result"
    }
   ],
   "source": [
    "my_model = MyModel01(embed_dim=EMBEDDING_DIMENSION, model_dim=MODEL_DIMENSION, hidden_dim=HIDDEN_DIMENSION, items_count=items_count).to(device)\n",
    "optimizer = torch.optim.Adam(my_model.parameters(), lr=LEARNING_RATE[0])\n",
    "my_model.train()"
   ]
  },
  {
   "cell_type": "code",
   "execution_count": 40,
   "id": "dc547691",
   "metadata": {
    "scrolled": true
   },
   "outputs": [
    {
     "name": "stderr",
     "output_type": "stream",
     "text": [
      "  0%|          | 1/1065 [00:01<33:18,  1.88s/it]"
     ]
    },
    {
     "name": "stdout",
     "output_type": "stream",
     "text": [
      "Epoch 1: 0%, loss: 5.514082\n"
     ]
    },
    {
     "name": "stderr",
     "output_type": "stream",
     "text": [
      "  9%|▉         | 101/1065 [02:53<26:50,  1.67s/it]"
     ]
    },
    {
     "name": "stdout",
     "output_type": "stream",
     "text": [
      "Epoch 1: 9%, loss: 6.233051\n"
     ]
    },
    {
     "name": "stderr",
     "output_type": "stream",
     "text": [
      " 19%|█▉        | 201/1065 [05:39<23:02,  1.60s/it]"
     ]
    },
    {
     "name": "stdout",
     "output_type": "stream",
     "text": [
      "Epoch 1: 19%, loss: 4.265469\n"
     ]
    },
    {
     "name": "stderr",
     "output_type": "stream",
     "text": [
      " 28%|██▊       | 301/1065 [08:29<22:09,  1.74s/it]"
     ]
    },
    {
     "name": "stdout",
     "output_type": "stream",
     "text": [
      "Epoch 1: 28%, loss: 5.666802\n"
     ]
    },
    {
     "name": "stderr",
     "output_type": "stream",
     "text": [
      " 38%|███▊      | 401/1065 [11:22<18:28,  1.67s/it]"
     ]
    },
    {
     "name": "stdout",
     "output_type": "stream",
     "text": [
      "Epoch 1: 38%, loss: 9.344684\n"
     ]
    },
    {
     "name": "stderr",
     "output_type": "stream",
     "text": [
      " 47%|████▋     | 501/1065 [14:16<17:26,  1.86s/it]"
     ]
    },
    {
     "name": "stdout",
     "output_type": "stream",
     "text": [
      "Epoch 1: 47%, loss: 5.956807\n"
     ]
    },
    {
     "name": "stderr",
     "output_type": "stream",
     "text": [
      " 56%|█████▋    | 601/1065 [17:10<13:27,  1.74s/it]"
     ]
    },
    {
     "name": "stdout",
     "output_type": "stream",
     "text": [
      "Epoch 1: 56%, loss: 4.902364\n"
     ]
    },
    {
     "name": "stderr",
     "output_type": "stream",
     "text": [
      " 66%|██████▌   | 701/1065 [20:06<10:40,  1.76s/it]"
     ]
    },
    {
     "name": "stdout",
     "output_type": "stream",
     "text": [
      "Epoch 1: 66%, loss: 3.725996\n"
     ]
    },
    {
     "name": "stderr",
     "output_type": "stream",
     "text": [
      " 75%|███████▌  | 801/1065 [23:00<08:02,  1.83s/it]"
     ]
    },
    {
     "name": "stdout",
     "output_type": "stream",
     "text": [
      "Epoch 1: 75%, loss: 9.890982\n"
     ]
    },
    {
     "name": "stderr",
     "output_type": "stream",
     "text": [
      " 85%|████████▍ | 901/1065 [25:53<05:07,  1.88s/it]"
     ]
    },
    {
     "name": "stdout",
     "output_type": "stream",
     "text": [
      "Epoch 1: 85%, loss: 10.834024\n"
     ]
    },
    {
     "name": "stderr",
     "output_type": "stream",
     "text": [
      " 94%|█████████▍| 1001/1065 [28:46<01:56,  1.82s/it]"
     ]
    },
    {
     "name": "stdout",
     "output_type": "stream",
     "text": [
      "Epoch 1: 94%, loss: 5.377953\n"
     ]
    },
    {
     "name": "stderr",
     "output_type": "stream",
     "text": [
      "100%|██████████| 1065/1065 [30:37<00:00,  1.73s/it]"
     ]
    },
    {
     "name": "stdout",
     "output_type": "stream",
     "text": [
      "Epoch 1: 100%, loss: 5.489199\n"
     ]
    },
    {
     "name": "stderr",
     "output_type": "stream",
     "text": [
      "\n"
     ]
    },
    {
     "name": "stdout",
     "output_type": "stream",
     "text": [
      "                      (F1-score: 0.0372, Precision: 0.0842, Recall: 0.0265)\n",
      "\n",
      "                      (NDCG: 0.0282)\n",
      "\n",
      "                      (MAE: 6.4445)\n",
      "\n",
      "train_loss= tensor(9.1542)\n",
      "--------------------\n"
     ]
    },
    {
     "name": "stderr",
     "output_type": "stream",
     "text": [
      "100%|██████████| 133/133 [03:40<00:00,  1.66s/it]\n"
     ]
    },
    {
     "name": "stdout",
     "output_type": "stream",
     "text": [
      "                      (F1-score: 0.0341, Precision: 0.0534, Recall: 0.0283)\n",
      "\n",
      "                      (NDCG: 0.0325)\n",
      "\n",
      "                      (MAE: 5.2528)\n",
      "\n",
      "val_loss= tensor(7.7108)\n",
      "--------------------\n"
     ]
    },
    {
     "name": "stderr",
     "output_type": "stream",
     "text": [
      "100%|██████████| 133/133 [03:42<00:00,  1.68s/it]\n"
     ]
    },
    {
     "name": "stdout",
     "output_type": "stream",
     "text": [
      "                      (F1-score: 0.0417, Precision: 0.0580, Recall: 0.0368)\n",
      "\n",
      "                      (NDCG: 0.0409)\n",
      "\n",
      "                      (MAE: 4.8900)\n",
      "\n",
      "--------------------\n",
      "[[1, 0.03675763244147688, 0.05795739348370928, 0.041730395569539586, 0.04090449551498532, 4.890037593984962, 7.098834991455078]]\n",
      "-----------------------------------------------------------------------------------------\n"
     ]
    },
    {
     "name": "stderr",
     "output_type": "stream",
     "text": [
      "  0%|          | 1/1065 [00:01<28:30,  1.61s/it]"
     ]
    },
    {
     "name": "stdout",
     "output_type": "stream",
     "text": [
      "Epoch 2: 0%, loss: 11.554874\n"
     ]
    },
    {
     "name": "stderr",
     "output_type": "stream",
     "text": [
      "  9%|▉         | 101/1065 [02:51<28:08,  1.75s/it]"
     ]
    },
    {
     "name": "stdout",
     "output_type": "stream",
     "text": [
      "Epoch 2: 9%, loss: 6.535139\n"
     ]
    },
    {
     "name": "stderr",
     "output_type": "stream",
     "text": [
      " 19%|█▉        | 201/1065 [05:46<26:00,  1.81s/it]"
     ]
    },
    {
     "name": "stdout",
     "output_type": "stream",
     "text": [
      "Epoch 2: 19%, loss: 10.518427\n"
     ]
    },
    {
     "name": "stderr",
     "output_type": "stream",
     "text": [
      " 28%|██▊       | 301/1065 [08:42<20:53,  1.64s/it]"
     ]
    },
    {
     "name": "stdout",
     "output_type": "stream",
     "text": [
      "Epoch 2: 28%, loss: 7.977804\n"
     ]
    },
    {
     "name": "stderr",
     "output_type": "stream",
     "text": [
      " 38%|███▊      | 401/1065 [11:40<20:01,  1.81s/it]"
     ]
    },
    {
     "name": "stdout",
     "output_type": "stream",
     "text": [
      "Epoch 2: 38%, loss: 2.722255\n"
     ]
    },
    {
     "name": "stderr",
     "output_type": "stream",
     "text": [
      " 47%|████▋     | 501/1065 [14:32<15:31,  1.65s/it]"
     ]
    },
    {
     "name": "stdout",
     "output_type": "stream",
     "text": [
      "Epoch 2: 47%, loss: 9.186914\n"
     ]
    },
    {
     "name": "stderr",
     "output_type": "stream",
     "text": [
      " 56%|█████▋    | 601/1065 [17:24<13:05,  1.69s/it]"
     ]
    },
    {
     "name": "stdout",
     "output_type": "stream",
     "text": [
      "Epoch 2: 56%, loss: 2.448108\n"
     ]
    },
    {
     "name": "stderr",
     "output_type": "stream",
     "text": [
      " 66%|██████▌   | 701/1065 [20:19<09:37,  1.59s/it]"
     ]
    },
    {
     "name": "stdout",
     "output_type": "stream",
     "text": [
      "Epoch 2: 66%, loss: 6.209958\n"
     ]
    },
    {
     "name": "stderr",
     "output_type": "stream",
     "text": [
      " 75%|███████▌  | 801/1065 [23:14<07:41,  1.75s/it]"
     ]
    },
    {
     "name": "stdout",
     "output_type": "stream",
     "text": [
      "Epoch 2: 75%, loss: 6.753401\n"
     ]
    },
    {
     "name": "stderr",
     "output_type": "stream",
     "text": [
      " 85%|████████▍ | 901/1065 [26:07<04:30,  1.65s/it]"
     ]
    },
    {
     "name": "stdout",
     "output_type": "stream",
     "text": [
      "Epoch 2: 85%, loss: 2.984225\n"
     ]
    },
    {
     "name": "stderr",
     "output_type": "stream",
     "text": [
      " 94%|█████████▍| 1001/1065 [29:04<01:53,  1.78s/it]"
     ]
    },
    {
     "name": "stdout",
     "output_type": "stream",
     "text": [
      "Epoch 2: 94%, loss: 3.708557\n"
     ]
    },
    {
     "name": "stderr",
     "output_type": "stream",
     "text": [
      "100%|██████████| 1065/1065 [31:00<00:00,  1.75s/it]"
     ]
    },
    {
     "name": "stdout",
     "output_type": "stream",
     "text": [
      "Epoch 2: 100%, loss: 4.638481\n"
     ]
    },
    {
     "name": "stderr",
     "output_type": "stream",
     "text": [
      "\n"
     ]
    },
    {
     "name": "stdout",
     "output_type": "stream",
     "text": [
      "                      (F1-score: 0.0382, Precision: 0.0492, Recall: 0.0370)\n",
      "\n",
      "                      (NDCG: 0.0380)\n",
      "\n",
      "                      (MAE: 4.5636)\n",
      "\n",
      "train_loss= tensor(6.4552)\n",
      "--------------------\n"
     ]
    },
    {
     "name": "stderr",
     "output_type": "stream",
     "text": [
      "100%|██████████| 133/133 [03:49<00:00,  1.72s/it]\n"
     ]
    },
    {
     "name": "stdout",
     "output_type": "stream",
     "text": [
      "                      (F1-score: 0.0320, Precision: 0.0339, Recall: 0.0368)\n",
      "\n",
      "                      (NDCG: 0.0333)\n",
      "\n",
      "                      (MAE: 4.7340)\n",
      "\n",
      "val_loss= tensor(5.4978)\n",
      "--------------------\n"
     ]
    },
    {
     "name": "stderr",
     "output_type": "stream",
     "text": [
      "100%|██████████| 133/133 [03:45<00:00,  1.70s/it]\n"
     ]
    },
    {
     "name": "stdout",
     "output_type": "stream",
     "text": [
      "                      (F1-score: 0.0392, Precision: 0.0398, Recall: 0.0469)\n",
      "\n",
      "                      (NDCG: 0.0389)\n",
      "\n",
      "                      (MAE: 4.5141)\n",
      "\n",
      "--------------------\n",
      "[[1, 0.03675763244147688, 0.05795739348370928, 0.041730395569539586, 0.04090449551498532, 4.890037593984962, 7.098834991455078], [2, 0.04689951032155308, 0.039758995703544575, 0.03923609693777799, 0.03886975105099128, 4.514097744360902, 5.113095283508301]]\n",
      "-----------------------------------------------------------------------------------------\n"
     ]
    },
    {
     "name": "stderr",
     "output_type": "stream",
     "text": [
      "  0%|          | 1/1065 [00:01<24:00,  1.35s/it]"
     ]
    },
    {
     "name": "stdout",
     "output_type": "stream",
     "text": [
      "Epoch 3: 0%, loss: 5.702295\n"
     ]
    },
    {
     "name": "stderr",
     "output_type": "stream",
     "text": [
      "  9%|▉         | 101/1065 [02:57<27:47,  1.73s/it]"
     ]
    },
    {
     "name": "stdout",
     "output_type": "stream",
     "text": [
      "Epoch 3: 9%, loss: 8.019185\n"
     ]
    },
    {
     "name": "stderr",
     "output_type": "stream",
     "text": [
      " 19%|█▉        | 201/1065 [05:54<24:41,  1.71s/it]"
     ]
    },
    {
     "name": "stdout",
     "output_type": "stream",
     "text": [
      "Epoch 3: 19%, loss: 2.337389\n"
     ]
    },
    {
     "name": "stderr",
     "output_type": "stream",
     "text": [
      " 28%|██▊       | 301/1065 [08:49<22:31,  1.77s/it]"
     ]
    },
    {
     "name": "stdout",
     "output_type": "stream",
     "text": [
      "Epoch 3: 28%, loss: 2.520710\n"
     ]
    },
    {
     "name": "stderr",
     "output_type": "stream",
     "text": [
      " 38%|███▊      | 401/1065 [11:40<20:08,  1.82s/it]"
     ]
    },
    {
     "name": "stdout",
     "output_type": "stream",
     "text": [
      "Epoch 3: 38%, loss: 2.544504\n"
     ]
    },
    {
     "name": "stderr",
     "output_type": "stream",
     "text": [
      " 47%|████▋     | 501/1065 [14:38<17:50,  1.90s/it]"
     ]
    },
    {
     "name": "stdout",
     "output_type": "stream",
     "text": [
      "Epoch 3: 47%, loss: 3.173649\n"
     ]
    },
    {
     "name": "stderr",
     "output_type": "stream",
     "text": [
      " 56%|█████▋    | 601/1065 [17:37<12:11,  1.58s/it]"
     ]
    },
    {
     "name": "stdout",
     "output_type": "stream",
     "text": [
      "Epoch 3: 56%, loss: 3.907503\n"
     ]
    },
    {
     "name": "stderr",
     "output_type": "stream",
     "text": [
      " 66%|██████▌   | 701/1065 [20:06<08:50,  1.46s/it]"
     ]
    },
    {
     "name": "stdout",
     "output_type": "stream",
     "text": [
      "Epoch 3: 66%, loss: 2.663621\n"
     ]
    },
    {
     "name": "stderr",
     "output_type": "stream",
     "text": [
      " 75%|███████▌  | 801/1065 [22:32<06:43,  1.53s/it]"
     ]
    },
    {
     "name": "stdout",
     "output_type": "stream",
     "text": [
      "Epoch 3: 75%, loss: 2.725821\n"
     ]
    },
    {
     "name": "stderr",
     "output_type": "stream",
     "text": [
      " 85%|████████▍ | 901/1065 [25:00<04:03,  1.49s/it]"
     ]
    },
    {
     "name": "stdout",
     "output_type": "stream",
     "text": [
      "Epoch 3: 85%, loss: 2.484828\n"
     ]
    },
    {
     "name": "stderr",
     "output_type": "stream",
     "text": [
      " 94%|█████████▍| 1001/1065 [27:30<01:34,  1.47s/it]"
     ]
    },
    {
     "name": "stdout",
     "output_type": "stream",
     "text": [
      "Epoch 3: 94%, loss: 2.899429\n"
     ]
    },
    {
     "name": "stderr",
     "output_type": "stream",
     "text": [
      "100%|██████████| 1065/1065 [29:04<00:00,  1.64s/it]"
     ]
    },
    {
     "name": "stdout",
     "output_type": "stream",
     "text": [
      "Epoch 3: 100%, loss: 3.565697\n"
     ]
    },
    {
     "name": "stderr",
     "output_type": "stream",
     "text": [
      "\n"
     ]
    },
    {
     "name": "stdout",
     "output_type": "stream",
     "text": [
      "                      (F1-score: 0.0363, Precision: 0.0376, Recall: 0.0430)\n",
      "\n",
      "                      (NDCG: 0.0366)\n",
      "\n",
      "                      (MAE: 4.5574)\n",
      "\n",
      "train_loss= tensor(5.2867)\n",
      "--------------------\n"
     ]
    },
    {
     "name": "stderr",
     "output_type": "stream",
     "text": [
      "100%|██████████| 133/133 [02:51<00:00,  1.29s/it]\n"
     ]
    },
    {
     "name": "stdout",
     "output_type": "stream",
     "text": [
      "                      (F1-score: 0.0317, Precision: 0.0318, Recall: 0.0385)\n",
      "\n",
      "                      (NDCG: 0.0325)\n",
      "\n",
      "                      (MAE: 5.0066)\n",
      "\n",
      "val_loss= tensor(5.2102)\n",
      "--------------------\n"
     ]
    },
    {
     "name": "stderr",
     "output_type": "stream",
     "text": [
      "100%|██████████| 133/133 [02:51<00:00,  1.29s/it]\n"
     ]
    },
    {
     "name": "stdout",
     "output_type": "stream",
     "text": [
      "                      (F1-score: 0.0376, Precision: 0.0363, Recall: 0.0478)\n",
      "\n",
      "                      (NDCG: 0.0370)\n",
      "\n",
      "                      (MAE: 4.8412)\n",
      "\n",
      "--------------------\n",
      "[[1, 0.03675763244147688, 0.05795739348370928, 0.041730395569539586, 0.04090449551498532, 4.890037593984962, 7.098834991455078], [2, 0.04689951032155308, 0.039758995703544575, 0.03923609693777799, 0.03886975105099128, 4.514097744360902, 5.113095283508301], [3, 0.047782608443842946, 0.036301691729323335, 0.03759501144478827, 0.03703976002752893, 4.841165413533835, 4.89960241317749]]\n",
      "-----------------------------------------------------------------------------------------\n"
     ]
    },
    {
     "name": "stderr",
     "output_type": "stream",
     "text": [
      "  0%|          | 1/1065 [00:01<23:18,  1.31s/it]"
     ]
    },
    {
     "name": "stdout",
     "output_type": "stream",
     "text": [
      "Epoch 4: 0%, loss: 2.585709\n"
     ]
    },
    {
     "name": "stderr",
     "output_type": "stream",
     "text": [
      "  9%|▉         | 101/1065 [02:19<22:33,  1.40s/it]"
     ]
    },
    {
     "name": "stdout",
     "output_type": "stream",
     "text": [
      "Epoch 4: 9%, loss: 6.076680\n"
     ]
    },
    {
     "name": "stderr",
     "output_type": "stream",
     "text": [
      " 19%|█▉        | 201/1065 [04:39<19:41,  1.37s/it]"
     ]
    },
    {
     "name": "stdout",
     "output_type": "stream",
     "text": [
      "Epoch 4: 19%, loss: 2.267478\n"
     ]
    },
    {
     "name": "stderr",
     "output_type": "stream",
     "text": [
      " 28%|██▊       | 301/1065 [07:22<21:45,  1.71s/it]"
     ]
    },
    {
     "name": "stdout",
     "output_type": "stream",
     "text": [
      "Epoch 4: 28%, loss: 2.973099\n"
     ]
    },
    {
     "name": "stderr",
     "output_type": "stream",
     "text": [
      " 38%|███▊      | 401/1065 [10:14<18:30,  1.67s/it]"
     ]
    },
    {
     "name": "stdout",
     "output_type": "stream",
     "text": [
      "Epoch 4: 38%, loss: 2.833655\n"
     ]
    },
    {
     "name": "stderr",
     "output_type": "stream",
     "text": [
      " 47%|████▋     | 501/1065 [13:05<15:46,  1.68s/it]"
     ]
    },
    {
     "name": "stdout",
     "output_type": "stream",
     "text": [
      "Epoch 4: 47%, loss: 2.150124\n"
     ]
    },
    {
     "name": "stderr",
     "output_type": "stream",
     "text": [
      " 56%|█████▋    | 601/1065 [15:54<12:54,  1.67s/it]"
     ]
    },
    {
     "name": "stdout",
     "output_type": "stream",
     "text": [
      "Epoch 4: 56%, loss: 2.389790\n"
     ]
    },
    {
     "name": "stderr",
     "output_type": "stream",
     "text": [
      " 66%|██████▌   | 701/1065 [18:47<09:50,  1.62s/it]"
     ]
    },
    {
     "name": "stdout",
     "output_type": "stream",
     "text": [
      "Epoch 4: 66%, loss: 6.366624\n"
     ]
    },
    {
     "name": "stderr",
     "output_type": "stream",
     "text": [
      " 75%|███████▌  | 801/1065 [21:36<07:42,  1.75s/it]"
     ]
    },
    {
     "name": "stdout",
     "output_type": "stream",
     "text": [
      "Epoch 4: 75%, loss: 2.397999\n"
     ]
    },
    {
     "name": "stderr",
     "output_type": "stream",
     "text": [
      " 85%|████████▍ | 901/1065 [24:25<04:46,  1.75s/it]"
     ]
    },
    {
     "name": "stdout",
     "output_type": "stream",
     "text": [
      "Epoch 4: 85%, loss: 2.925933\n"
     ]
    },
    {
     "name": "stderr",
     "output_type": "stream",
     "text": [
      " 94%|█████████▍| 1001/1065 [27:17<01:53,  1.78s/it]"
     ]
    },
    {
     "name": "stdout",
     "output_type": "stream",
     "text": [
      "Epoch 4: 94%, loss: 2.327889\n"
     ]
    },
    {
     "name": "stderr",
     "output_type": "stream",
     "text": [
      "100%|██████████| 1065/1065 [29:07<00:00,  1.64s/it]"
     ]
    },
    {
     "name": "stdout",
     "output_type": "stream",
     "text": [
      "Epoch 4: 100%, loss: 2.312068\n"
     ]
    },
    {
     "name": "stderr",
     "output_type": "stream",
     "text": [
      "\n"
     ]
    },
    {
     "name": "stdout",
     "output_type": "stream",
     "text": [
      "                      (F1-score: 0.0361, Precision: 0.0364, Recall: 0.0439)\n",
      "\n",
      "                      (NDCG: 0.0361)\n",
      "\n",
      "                      (MAE: 4.6847)\n",
      "\n",
      "train_loss= tensor(5.0647)\n",
      "--------------------\n"
     ]
    },
    {
     "name": "stderr",
     "output_type": "stream",
     "text": [
      "100%|██████████| 133/133 [03:37<00:00,  1.64s/it]\n"
     ]
    },
    {
     "name": "stdout",
     "output_type": "stream",
     "text": [
      "                      (F1-score: 0.0316, Precision: 0.0317, Recall: 0.0385)\n",
      "\n",
      "                      (NDCG: 0.0325)\n",
      "\n",
      "                      (MAE: 5.0188)\n",
      "\n",
      "val_loss= tensor(5.1381)\n",
      "--------------------\n"
     ]
    },
    {
     "name": "stderr",
     "output_type": "stream",
     "text": [
      "100%|██████████| 133/133 [03:37<00:00,  1.64s/it]\n"
     ]
    },
    {
     "name": "stdout",
     "output_type": "stream",
     "text": [
      "                      (F1-score: 0.0376, Precision: 0.0362, Recall: 0.0478)\n",
      "\n",
      "                      (NDCG: 0.0370)\n",
      "\n",
      "                      (MAE: 4.8581)\n",
      "\n",
      "--------------------\n",
      "[[1, 0.03675763244147688, 0.05795739348370928, 0.041730395569539586, 0.04090449551498532, 4.890037593984962, 7.098834991455078], [2, 0.04689951032155308, 0.039758995703544575, 0.03923609693777799, 0.03886975105099128, 4.514097744360902, 5.113095283508301], [3, 0.047782608443842946, 0.036301691729323335, 0.03759501144478827, 0.03703976002752893, 4.841165413533835, 4.89960241317749], [4, 0.04778260844384295, 0.036236424394319164, 0.037560684733034304, 0.03704010440768408, 4.8580827067669174, 4.8063130378723145]]\n",
      "-----------------------------------------------------------------------------------------\n"
     ]
    },
    {
     "name": "stderr",
     "output_type": "stream",
     "text": [
      "  0%|          | 1/1065 [00:01<23:49,  1.34s/it]"
     ]
    },
    {
     "name": "stdout",
     "output_type": "stream",
     "text": [
      "Epoch 5: 0%, loss: 4.434679\n"
     ]
    },
    {
     "name": "stderr",
     "output_type": "stream",
     "text": [
      "  9%|▉         | 101/1065 [02:51<25:40,  1.60s/it]"
     ]
    },
    {
     "name": "stdout",
     "output_type": "stream",
     "text": [
      "Epoch 5: 9%, loss: 2.610813\n"
     ]
    },
    {
     "name": "stderr",
     "output_type": "stream",
     "text": [
      " 19%|█▉        | 201/1065 [05:47<27:22,  1.90s/it]"
     ]
    },
    {
     "name": "stdout",
     "output_type": "stream",
     "text": [
      "Epoch 5: 19%, loss: 4.086371\n"
     ]
    },
    {
     "name": "stderr",
     "output_type": "stream",
     "text": [
      " 28%|██▊       | 301/1065 [08:37<21:02,  1.65s/it]"
     ]
    },
    {
     "name": "stdout",
     "output_type": "stream",
     "text": [
      "Epoch 5: 28%, loss: 1.964276\n"
     ]
    },
    {
     "name": "stderr",
     "output_type": "stream",
     "text": [
      " 38%|███▊      | 401/1065 [11:32<17:22,  1.57s/it]"
     ]
    },
    {
     "name": "stdout",
     "output_type": "stream",
     "text": [
      "Epoch 5: 38%, loss: 4.393559\n"
     ]
    },
    {
     "name": "stderr",
     "output_type": "stream",
     "text": [
      " 47%|████▋     | 501/1065 [14:23<16:43,  1.78s/it]"
     ]
    },
    {
     "name": "stdout",
     "output_type": "stream",
     "text": [
      "Epoch 5: 47%, loss: 2.616756\n"
     ]
    },
    {
     "name": "stderr",
     "output_type": "stream",
     "text": [
      " 56%|█████▋    | 601/1065 [17:15<14:00,  1.81s/it]"
     ]
    },
    {
     "name": "stdout",
     "output_type": "stream",
     "text": [
      "Epoch 5: 56%, loss: 31.074787\n"
     ]
    },
    {
     "name": "stderr",
     "output_type": "stream",
     "text": [
      " 66%|██████▌   | 701/1065 [20:09<09:44,  1.61s/it]"
     ]
    },
    {
     "name": "stdout",
     "output_type": "stream",
     "text": [
      "Epoch 5: 66%, loss: 2.117840\n"
     ]
    },
    {
     "name": "stderr",
     "output_type": "stream",
     "text": [
      " 75%|███████▌  | 801/1065 [23:01<07:34,  1.72s/it]"
     ]
    },
    {
     "name": "stdout",
     "output_type": "stream",
     "text": [
      "Epoch 5: 75%, loss: 17.968969\n"
     ]
    },
    {
     "name": "stderr",
     "output_type": "stream",
     "text": [
      " 85%|████████▍ | 901/1065 [25:56<04:41,  1.72s/it]"
     ]
    },
    {
     "name": "stdout",
     "output_type": "stream",
     "text": [
      "Epoch 5: 85%, loss: 2.074921\n"
     ]
    },
    {
     "name": "stderr",
     "output_type": "stream",
     "text": [
      " 94%|█████████▍| 1001/1065 [28:53<02:00,  1.88s/it]"
     ]
    },
    {
     "name": "stdout",
     "output_type": "stream",
     "text": [
      "Epoch 5: 94%, loss: 3.619895\n"
     ]
    },
    {
     "name": "stderr",
     "output_type": "stream",
     "text": [
      "100%|██████████| 1065/1065 [30:46<00:00,  1.73s/it]"
     ]
    },
    {
     "name": "stdout",
     "output_type": "stream",
     "text": [
      "Epoch 5: 100%, loss: 4.016732\n"
     ]
    },
    {
     "name": "stderr",
     "output_type": "stream",
     "text": [
      "\n"
     ]
    },
    {
     "name": "stdout",
     "output_type": "stream",
     "text": [
      "                      (F1-score: 0.0361, Precision: 0.0363, Recall: 0.0442)\n",
      "\n",
      "                      (NDCG: 0.0360)\n",
      "\n",
      "                      (MAE: 4.7093)\n",
      "\n",
      "train_loss= tensor(4.8885)\n",
      "--------------------\n"
     ]
    },
    {
     "name": "stderr",
     "output_type": "stream",
     "text": [
      "100%|██████████| 133/133 [03:39<00:00,  1.65s/it]\n"
     ]
    },
    {
     "name": "stdout",
     "output_type": "stream",
     "text": [
      "                      (F1-score: 0.0317, Precision: 0.0319, Recall: 0.0385)\n",
      "\n",
      "                      (NDCG: 0.0326)\n",
      "\n",
      "                      (MAE: 5.0132)\n",
      "\n",
      "val_loss= tensor(5.0536)\n",
      "--------------------\n"
     ]
    },
    {
     "name": "stderr",
     "output_type": "stream",
     "text": [
      "100%|██████████| 133/133 [03:45<00:00,  1.70s/it]\n"
     ]
    },
    {
     "name": "stdout",
     "output_type": "stream",
     "text": [
      "                      (F1-score: 0.0377, Precision: 0.0366, Recall: 0.0478)\n",
      "\n",
      "                      (NDCG: 0.0371)\n",
      "\n",
      "                      (MAE: 4.8365)\n",
      "\n",
      "--------------------\n",
      "[[1, 0.03675763244147688, 0.05795739348370928, 0.041730395569539586, 0.04090449551498532, 4.890037593984962, 7.098834991455078], [2, 0.04689951032155308, 0.039758995703544575, 0.03923609693777799, 0.03886975105099128, 4.514097744360902, 5.113095283508301], [3, 0.047782608443842946, 0.036301691729323335, 0.03759501144478827, 0.03703976002752893, 4.841165413533835, 4.89960241317749], [4, 0.04778260844384295, 0.036236424394319164, 0.037560684733034304, 0.03704010440768408, 4.8580827067669174, 4.8063130378723145], [5, 0.047781289363076594, 0.03664108187134508, 0.037731272253394274, 0.03706005392718668, 4.836466165413534, 4.714582443237305]]\n",
      "-----------------------------------------------------------------------------------------\n"
     ]
    },
    {
     "name": "stderr",
     "output_type": "stream",
     "text": [
      "  0%|          | 1/1065 [00:01<23:32,  1.33s/it]"
     ]
    },
    {
     "name": "stdout",
     "output_type": "stream",
     "text": [
      "Epoch 6: 0%, loss: 2.767889\n"
     ]
    },
    {
     "name": "stderr",
     "output_type": "stream",
     "text": [
      "  9%|▉         | 101/1065 [02:52<27:16,  1.70s/it]"
     ]
    },
    {
     "name": "stdout",
     "output_type": "stream",
     "text": [
      "Epoch 6: 9%, loss: 3.869625\n"
     ]
    },
    {
     "name": "stderr",
     "output_type": "stream",
     "text": [
      " 19%|█▉        | 201/1065 [05:44<23:48,  1.65s/it]"
     ]
    },
    {
     "name": "stdout",
     "output_type": "stream",
     "text": [
      "Epoch 6: 19%, loss: 2.322549\n"
     ]
    },
    {
     "name": "stderr",
     "output_type": "stream",
     "text": [
      " 28%|██▊       | 301/1065 [08:34<23:11,  1.82s/it]"
     ]
    },
    {
     "name": "stdout",
     "output_type": "stream",
     "text": [
      "Epoch 6: 28%, loss: 2.581211\n"
     ]
    },
    {
     "name": "stderr",
     "output_type": "stream",
     "text": [
      " 38%|███▊      | 401/1065 [11:30<20:57,  1.89s/it]"
     ]
    },
    {
     "name": "stdout",
     "output_type": "stream",
     "text": [
      "Epoch 6: 38%, loss: 2.127067\n"
     ]
    },
    {
     "name": "stderr",
     "output_type": "stream",
     "text": [
      " 47%|████▋     | 501/1065 [14:27<17:30,  1.86s/it]"
     ]
    },
    {
     "name": "stdout",
     "output_type": "stream",
     "text": [
      "Epoch 6: 47%, loss: 11.151462\n"
     ]
    },
    {
     "name": "stderr",
     "output_type": "stream",
     "text": [
      " 56%|█████▋    | 601/1065 [17:24<13:49,  1.79s/it]"
     ]
    },
    {
     "name": "stdout",
     "output_type": "stream",
     "text": [
      "Epoch 6: 56%, loss: 3.606936\n"
     ]
    },
    {
     "name": "stderr",
     "output_type": "stream",
     "text": [
      " 66%|██████▌   | 701/1065 [20:25<10:39,  1.76s/it]"
     ]
    },
    {
     "name": "stdout",
     "output_type": "stream",
     "text": [
      "Epoch 6: 66%, loss: 5.109022\n"
     ]
    },
    {
     "name": "stderr",
     "output_type": "stream",
     "text": [
      " 75%|███████▌  | 801/1065 [23:24<07:10,  1.63s/it]"
     ]
    },
    {
     "name": "stdout",
     "output_type": "stream",
     "text": [
      "Epoch 6: 75%, loss: 11.229244\n"
     ]
    },
    {
     "name": "stderr",
     "output_type": "stream",
     "text": [
      " 85%|████████▍ | 901/1065 [26:25<05:05,  1.86s/it]"
     ]
    },
    {
     "name": "stdout",
     "output_type": "stream",
     "text": [
      "Epoch 6: 85%, loss: 3.755457\n"
     ]
    },
    {
     "name": "stderr",
     "output_type": "stream",
     "text": [
      " 94%|█████████▍| 1001/1065 [29:28<01:51,  1.74s/it]"
     ]
    },
    {
     "name": "stdout",
     "output_type": "stream",
     "text": [
      "Epoch 6: 94%, loss: 15.186319\n"
     ]
    },
    {
     "name": "stderr",
     "output_type": "stream",
     "text": [
      "100%|██████████| 1065/1065 [31:19<00:00,  1.77s/it]"
     ]
    },
    {
     "name": "stdout",
     "output_type": "stream",
     "text": [
      "Epoch 6: 100%, loss: 2.915003\n"
     ]
    },
    {
     "name": "stderr",
     "output_type": "stream",
     "text": [
      "\n"
     ]
    },
    {
     "name": "stdout",
     "output_type": "stream",
     "text": [
      "                      (F1-score: 0.0362, Precision: 0.0366, Recall: 0.0440)\n",
      "\n",
      "                      (NDCG: 0.0362)\n",
      "\n",
      "                      (MAE: 4.6676)\n",
      "\n",
      "train_loss= tensor(4.7370)\n",
      "--------------------\n"
     ]
    },
    {
     "name": "stderr",
     "output_type": "stream",
     "text": [
      "100%|██████████| 133/133 [03:44<00:00,  1.69s/it]\n"
     ]
    },
    {
     "name": "stdout",
     "output_type": "stream",
     "text": [
      "                      (F1-score: 0.0318, Precision: 0.0320, Recall: 0.0387)\n",
      "\n",
      "                      (NDCG: 0.0326)\n",
      "\n",
      "                      (MAE: 5.0132)\n",
      "\n",
      "val_loss= tensor(4.9587)\n",
      "--------------------\n"
     ]
    },
    {
     "name": "stderr",
     "output_type": "stream",
     "text": [
      "100%|██████████| 133/133 [03:41<00:00,  1.66s/it]\n"
     ]
    },
    {
     "name": "stdout",
     "output_type": "stream",
     "text": [
      "                      (F1-score: 0.0377, Precision: 0.0366, Recall: 0.0478)\n",
      "\n",
      "                      (NDCG: 0.0372)\n",
      "\n",
      "                      (MAE: 4.8440)\n",
      "\n",
      "--------------------\n",
      "[[1, 0.03675763244147688, 0.05795739348370928, 0.041730395569539586, 0.04090449551498532, 4.890037593984962, 7.098834991455078], [2, 0.04689951032155308, 0.039758995703544575, 0.03923609693777799, 0.03886975105099128, 4.514097744360902, 5.113095283508301], [3, 0.047782608443842946, 0.036301691729323335, 0.03759501144478827, 0.03703976002752893, 4.841165413533835, 4.89960241317749], [4, 0.04778260844384295, 0.036236424394319164, 0.037560684733034304, 0.03704010440768408, 4.8580827067669174, 4.8063130378723145], [5, 0.047781289363076594, 0.03664108187134508, 0.037731272253394274, 0.03706005392718668, 4.836466165413534, 4.714582443237305], [6, 0.04778295071342215, 0.03658886800334171, 0.03774827052565744, 0.03721349101769213, 4.843984962406015, 4.63381814956665]]\n",
      "-----------------------------------------------------------------------------------------\n"
     ]
    },
    {
     "name": "stderr",
     "output_type": "stream",
     "text": [
      "  0%|          | 1/1065 [00:01<24:25,  1.38s/it]"
     ]
    },
    {
     "name": "stdout",
     "output_type": "stream",
     "text": [
      "Epoch 7: 0%, loss: 6.983173\n"
     ]
    },
    {
     "name": "stderr",
     "output_type": "stream",
     "text": [
      "  9%|▉         | 101/1065 [02:54<27:19,  1.70s/it]"
     ]
    },
    {
     "name": "stdout",
     "output_type": "stream",
     "text": [
      "Epoch 7: 9%, loss: 2.649611\n"
     ]
    },
    {
     "name": "stderr",
     "output_type": "stream",
     "text": [
      " 19%|█▉        | 201/1065 [05:46<20:28,  1.42s/it]"
     ]
    },
    {
     "name": "stdout",
     "output_type": "stream",
     "text": [
      "Epoch 7: 19%, loss: 1.766749\n"
     ]
    },
    {
     "name": "stderr",
     "output_type": "stream",
     "text": [
      " 28%|██▊       | 301/1065 [08:06<18:06,  1.42s/it]"
     ]
    },
    {
     "name": "stdout",
     "output_type": "stream",
     "text": [
      "Epoch 7: 28%, loss: 12.052645\n"
     ]
    },
    {
     "name": "stderr",
     "output_type": "stream",
     "text": [
      " 38%|███▊      | 401/1065 [10:29<16:22,  1.48s/it]"
     ]
    },
    {
     "name": "stdout",
     "output_type": "stream",
     "text": [
      "Epoch 7: 38%, loss: 2.520070\n"
     ]
    },
    {
     "name": "stderr",
     "output_type": "stream",
     "text": [
      " 47%|████▋     | 501/1065 [12:54<13:20,  1.42s/it]"
     ]
    },
    {
     "name": "stdout",
     "output_type": "stream",
     "text": [
      "Epoch 7: 47%, loss: 2.111732\n"
     ]
    },
    {
     "name": "stderr",
     "output_type": "stream",
     "text": [
      " 56%|█████▋    | 601/1065 [15:19<11:27,  1.48s/it]"
     ]
    },
    {
     "name": "stdout",
     "output_type": "stream",
     "text": [
      "Epoch 7: 56%, loss: 2.301146\n"
     ]
    },
    {
     "name": "stderr",
     "output_type": "stream",
     "text": [
      " 66%|██████▌   | 701/1065 [17:44<08:27,  1.40s/it]"
     ]
    },
    {
     "name": "stdout",
     "output_type": "stream",
     "text": [
      "Epoch 7: 66%, loss: 5.039549\n"
     ]
    },
    {
     "name": "stderr",
     "output_type": "stream",
     "text": [
      " 75%|███████▌  | 801/1065 [20:06<06:10,  1.40s/it]"
     ]
    },
    {
     "name": "stdout",
     "output_type": "stream",
     "text": [
      "Epoch 7: 75%, loss: 4.419483\n"
     ]
    },
    {
     "name": "stderr",
     "output_type": "stream",
     "text": [
      " 85%|████████▍ | 901/1065 [22:31<03:58,  1.46s/it]"
     ]
    },
    {
     "name": "stdout",
     "output_type": "stream",
     "text": [
      "Epoch 7: 85%, loss: 10.330622\n"
     ]
    },
    {
     "name": "stderr",
     "output_type": "stream",
     "text": [
      " 94%|█████████▍| 1001/1065 [24:57<01:29,  1.41s/it]"
     ]
    },
    {
     "name": "stdout",
     "output_type": "stream",
     "text": [
      "Epoch 7: 94%, loss: 3.899815\n"
     ]
    },
    {
     "name": "stderr",
     "output_type": "stream",
     "text": [
      "100%|██████████| 1065/1065 [26:30<00:00,  1.49s/it]"
     ]
    },
    {
     "name": "stdout",
     "output_type": "stream",
     "text": [
      "Epoch 7: 100%, loss: 11.166728\n"
     ]
    },
    {
     "name": "stderr",
     "output_type": "stream",
     "text": [
      "\n"
     ]
    },
    {
     "name": "stdout",
     "output_type": "stream",
     "text": [
      "                      (F1-score: 0.0360, Precision: 0.0362, Recall: 0.0439)\n",
      "\n",
      "                      (NDCG: 0.0359)\n",
      "\n",
      "                      (MAE: 4.6907)\n",
      "\n",
      "train_loss= tensor(4.6103)\n",
      "--------------------\n"
     ]
    },
    {
     "name": "stderr",
     "output_type": "stream",
     "text": [
      "100%|██████████| 133/133 [03:26<00:00,  1.55s/it]\n"
     ]
    },
    {
     "name": "stdout",
     "output_type": "stream",
     "text": [
      "                      (F1-score: 0.0320, Precision: 0.0324, Recall: 0.0387)\n",
      "\n",
      "                      (NDCG: 0.0327)\n",
      "\n",
      "                      (MAE: 4.9906)\n",
      "\n",
      "val_loss= tensor(4.9026)\n",
      "--------------------\n"
     ]
    },
    {
     "name": "stderr",
     "output_type": "stream",
     "text": [
      "100%|██████████| 133/133 [03:40<00:00,  1.66s/it]\n"
     ]
    },
    {
     "name": "stdout",
     "output_type": "stream",
     "text": [
      "                      (F1-score: 0.0377, Precision: 0.0368, Recall: 0.0473)\n",
      "\n",
      "                      (NDCG: 0.0373)\n",
      "\n",
      "                      (MAE: 4.7885)\n",
      "\n",
      "--------------------\n",
      "[[1, 0.03675763244147688, 0.05795739348370928, 0.041730395569539586, 0.04090449551498532, 4.890037593984962, 7.098834991455078], [2, 0.04689951032155308, 0.039758995703544575, 0.03923609693777799, 0.03886975105099128, 4.514097744360902, 5.113095283508301], [3, 0.047782608443842946, 0.036301691729323335, 0.03759501144478827, 0.03703976002752893, 4.841165413533835, 4.89960241317749], [4, 0.04778260844384295, 0.036236424394319164, 0.037560684733034304, 0.03704010440768408, 4.8580827067669174, 4.8063130378723145], [5, 0.047781289363076594, 0.03664108187134508, 0.037731272253394274, 0.03706005392718668, 4.836466165413534, 4.714582443237305], [6, 0.04778295071342215, 0.03658886800334171, 0.03774827052565744, 0.03721349101769213, 4.843984962406015, 4.63381814956665], [7, 0.04729088064898369, 0.036836883876357605, 0.03772976275201631, 0.03727281740183865, 4.788533834586466, 4.541353225708008]]\n",
      "-----------------------------------------------------------------------------------------\n"
     ]
    },
    {
     "name": "stderr",
     "output_type": "stream",
     "text": [
      "  0%|          | 1/1065 [00:01<24:32,  1.38s/it]"
     ]
    },
    {
     "name": "stdout",
     "output_type": "stream",
     "text": [
      "Epoch 8: 0%, loss: 3.742891\n"
     ]
    },
    {
     "name": "stderr",
     "output_type": "stream",
     "text": [
      "  9%|▉         | 101/1065 [02:51<27:55,  1.74s/it]"
     ]
    },
    {
     "name": "stdout",
     "output_type": "stream",
     "text": [
      "Epoch 8: 9%, loss: 3.014022\n"
     ]
    },
    {
     "name": "stderr",
     "output_type": "stream",
     "text": [
      " 19%|█▉        | 201/1065 [05:42<25:57,  1.80s/it]"
     ]
    },
    {
     "name": "stdout",
     "output_type": "stream",
     "text": [
      "Epoch 8: 19%, loss: 7.577153\n"
     ]
    },
    {
     "name": "stderr",
     "output_type": "stream",
     "text": [
      " 28%|██▊       | 301/1065 [08:33<22:18,  1.75s/it]"
     ]
    },
    {
     "name": "stdout",
     "output_type": "stream",
     "text": [
      "Epoch 8: 28%, loss: 1.992913\n"
     ]
    },
    {
     "name": "stderr",
     "output_type": "stream",
     "text": [
      " 38%|███▊      | 401/1065 [11:20<18:38,  1.68s/it]"
     ]
    },
    {
     "name": "stdout",
     "output_type": "stream",
     "text": [
      "Epoch 8: 38%, loss: 2.000741\n"
     ]
    },
    {
     "name": "stderr",
     "output_type": "stream",
     "text": [
      " 47%|████▋     | 501/1065 [14:10<15:21,  1.63s/it]"
     ]
    },
    {
     "name": "stdout",
     "output_type": "stream",
     "text": [
      "Epoch 8: 47%, loss: 2.249187\n"
     ]
    },
    {
     "name": "stderr",
     "output_type": "stream",
     "text": [
      " 56%|█████▋    | 601/1065 [17:01<13:30,  1.75s/it]"
     ]
    },
    {
     "name": "stdout",
     "output_type": "stream",
     "text": [
      "Epoch 8: 56%, loss: 3.111242\n"
     ]
    },
    {
     "name": "stderr",
     "output_type": "stream",
     "text": [
      " 66%|██████▌   | 701/1065 [19:51<10:01,  1.65s/it]"
     ]
    },
    {
     "name": "stdout",
     "output_type": "stream",
     "text": [
      "Epoch 8: 66%, loss: 2.836910\n"
     ]
    },
    {
     "name": "stderr",
     "output_type": "stream",
     "text": [
      " 75%|███████▌  | 801/1065 [22:44<08:22,  1.90s/it]"
     ]
    },
    {
     "name": "stdout",
     "output_type": "stream",
     "text": [
      "Epoch 8: 75%, loss: 2.489217\n"
     ]
    },
    {
     "name": "stderr",
     "output_type": "stream",
     "text": [
      " 85%|████████▍ | 901/1065 [25:39<04:42,  1.72s/it]"
     ]
    },
    {
     "name": "stdout",
     "output_type": "stream",
     "text": [
      "Epoch 8: 85%, loss: 2.630426\n"
     ]
    },
    {
     "name": "stderr",
     "output_type": "stream",
     "text": [
      " 94%|█████████▍| 1001/1065 [28:32<01:48,  1.70s/it]"
     ]
    },
    {
     "name": "stdout",
     "output_type": "stream",
     "text": [
      "Epoch 8: 94%, loss: 1.531110\n"
     ]
    },
    {
     "name": "stderr",
     "output_type": "stream",
     "text": [
      "100%|██████████| 1065/1065 [30:23<00:00,  1.71s/it]"
     ]
    },
    {
     "name": "stdout",
     "output_type": "stream",
     "text": [
      "Epoch 8: 100%, loss: 1.997251\n"
     ]
    },
    {
     "name": "stderr",
     "output_type": "stream",
     "text": [
      "\n"
     ]
    },
    {
     "name": "stdout",
     "output_type": "stream",
     "text": [
      "                      (F1-score: 0.0360, Precision: 0.0363, Recall: 0.0438)\n",
      "\n",
      "                      (NDCG: 0.0361)\n",
      "\n",
      "                      (MAE: 4.6803)\n",
      "\n",
      "train_loss= tensor(4.5028)\n",
      "--------------------\n"
     ]
    },
    {
     "name": "stderr",
     "output_type": "stream",
     "text": [
      "100%|██████████| 133/133 [03:46<00:00,  1.71s/it]\n"
     ]
    },
    {
     "name": "stdout",
     "output_type": "stream",
     "text": [
      "                      (F1-score: 0.0322, Precision: 0.0326, Recall: 0.0388)\n",
      "\n",
      "                      (NDCG: 0.0329)\n",
      "\n",
      "                      (MAE: 4.9549)\n",
      "\n",
      "val_loss= tensor(4.8364)\n",
      "--------------------\n"
     ]
    },
    {
     "name": "stderr",
     "output_type": "stream",
     "text": [
      "100%|██████████| 133/133 [03:42<00:00,  1.67s/it]\n"
     ]
    },
    {
     "name": "stdout",
     "output_type": "stream",
     "text": [
      "                      (F1-score: 0.0381, Precision: 0.0368, Recall: 0.0477)\n",
      "\n",
      "                      (NDCG: 0.0376)\n",
      "\n",
      "                      (MAE: 4.7820)\n",
      "\n",
      "--------------------\n",
      "[[1, 0.03675763244147688, 0.05795739348370928, 0.041730395569539586, 0.04090449551498532, 4.890037593984962, 7.098834991455078], [2, 0.04689951032155308, 0.039758995703544575, 0.03923609693777799, 0.03886975105099128, 4.514097744360902, 5.113095283508301], [3, 0.047782608443842946, 0.036301691729323335, 0.03759501144478827, 0.03703976002752893, 4.841165413533835, 4.89960241317749], [4, 0.04778260844384295, 0.036236424394319164, 0.037560684733034304, 0.03704010440768408, 4.8580827067669174, 4.8063130378723145], [5, 0.047781289363076594, 0.03664108187134508, 0.037731272253394274, 0.03706005392718668, 4.836466165413534, 4.714582443237305], [6, 0.04778295071342215, 0.03658886800334171, 0.03774827052565744, 0.03721349101769213, 4.843984962406015, 4.63381814956665], [7, 0.04729088064898369, 0.036836883876357605, 0.03772976275201631, 0.03727281740183865, 4.788533834586466, 4.541353225708008], [8, 0.04773210156767817, 0.036849937343358445, 0.03806237322174878, 0.037571937412975875, 4.7819548872180455, 4.473570346832275]]\n",
      "-----------------------------------------------------------------------------------------\n"
     ]
    },
    {
     "name": "stderr",
     "output_type": "stream",
     "text": [
      "  0%|          | 1/1065 [00:02<41:55,  2.36s/it]"
     ]
    },
    {
     "name": "stdout",
     "output_type": "stream",
     "text": [
      "Epoch 9: 0%, loss: 2.136520\n"
     ]
    },
    {
     "name": "stderr",
     "output_type": "stream",
     "text": [
      "  9%|▉         | 101/1065 [02:49<26:43,  1.66s/it]"
     ]
    },
    {
     "name": "stdout",
     "output_type": "stream",
     "text": [
      "Epoch 9: 9%, loss: 4.383440\n"
     ]
    },
    {
     "name": "stderr",
     "output_type": "stream",
     "text": [
      " 19%|█▉        | 201/1065 [05:43<24:27,  1.70s/it]"
     ]
    },
    {
     "name": "stdout",
     "output_type": "stream",
     "text": [
      "Epoch 9: 19%, loss: 4.576902\n"
     ]
    },
    {
     "name": "stderr",
     "output_type": "stream",
     "text": [
      " 28%|██▊       | 301/1065 [08:34<21:28,  1.69s/it]"
     ]
    },
    {
     "name": "stdout",
     "output_type": "stream",
     "text": [
      "Epoch 9: 28%, loss: 2.168087\n"
     ]
    },
    {
     "name": "stderr",
     "output_type": "stream",
     "text": [
      " 38%|███▊      | 401/1065 [11:27<19:01,  1.72s/it]"
     ]
    },
    {
     "name": "stdout",
     "output_type": "stream",
     "text": [
      "Epoch 9: 38%, loss: 5.688303\n"
     ]
    },
    {
     "name": "stderr",
     "output_type": "stream",
     "text": [
      " 47%|████▋     | 501/1065 [14:23<16:30,  1.76s/it]"
     ]
    },
    {
     "name": "stdout",
     "output_type": "stream",
     "text": [
      "Epoch 9: 47%, loss: 2.784167\n"
     ]
    },
    {
     "name": "stderr",
     "output_type": "stream",
     "text": [
      " 56%|█████▋    | 601/1065 [17:18<13:19,  1.72s/it]"
     ]
    },
    {
     "name": "stdout",
     "output_type": "stream",
     "text": [
      "Epoch 9: 56%, loss: 2.487536\n"
     ]
    },
    {
     "name": "stderr",
     "output_type": "stream",
     "text": [
      " 66%|██████▌   | 701/1065 [20:16<10:21,  1.71s/it]"
     ]
    },
    {
     "name": "stdout",
     "output_type": "stream",
     "text": [
      "Epoch 9: 66%, loss: 9.437582\n"
     ]
    },
    {
     "name": "stderr",
     "output_type": "stream",
     "text": [
      " 75%|███████▌  | 801/1065 [23:10<08:01,  1.82s/it]"
     ]
    },
    {
     "name": "stdout",
     "output_type": "stream",
     "text": [
      "Epoch 9: 75%, loss: 2.202087\n"
     ]
    },
    {
     "name": "stderr",
     "output_type": "stream",
     "text": [
      " 85%|████████▍ | 901/1065 [26:12<05:02,  1.85s/it]"
     ]
    },
    {
     "name": "stdout",
     "output_type": "stream",
     "text": [
      "Epoch 9: 85%, loss: 2.765495\n"
     ]
    },
    {
     "name": "stderr",
     "output_type": "stream",
     "text": [
      " 94%|█████████▍| 1001/1065 [29:11<01:43,  1.61s/it]"
     ]
    },
    {
     "name": "stdout",
     "output_type": "stream",
     "text": [
      "Epoch 9: 94%, loss: 1.620466\n"
     ]
    },
    {
     "name": "stderr",
     "output_type": "stream",
     "text": [
      "100%|██████████| 1065/1065 [31:04<00:00,  1.75s/it]"
     ]
    },
    {
     "name": "stdout",
     "output_type": "stream",
     "text": [
      "Epoch 9: 100%, loss: 4.129592\n"
     ]
    },
    {
     "name": "stderr",
     "output_type": "stream",
     "text": [
      "\n"
     ]
    },
    {
     "name": "stdout",
     "output_type": "stream",
     "text": [
      "                      (F1-score: 0.0360, Precision: 0.0363, Recall: 0.0436)\n",
      "\n",
      "                      (NDCG: 0.0361)\n",
      "\n",
      "                      (MAE: 4.6600)\n",
      "\n",
      "train_loss= tensor(4.4153)\n",
      "--------------------\n"
     ]
    },
    {
     "name": "stderr",
     "output_type": "stream",
     "text": [
      "100%|██████████| 133/133 [03:45<00:00,  1.70s/it]\n"
     ]
    },
    {
     "name": "stdout",
     "output_type": "stream",
     "text": [
      "                      (F1-score: 0.0325, Precision: 0.0331, Recall: 0.0390)\n",
      "\n",
      "                      (NDCG: 0.0331)\n",
      "\n",
      "                      (MAE: 4.9417)\n",
      "\n",
      "val_loss= tensor(4.7734)\n",
      "--------------------\n"
     ]
    },
    {
     "name": "stderr",
     "output_type": "stream",
     "text": [
      "100%|██████████| 133/133 [03:46<00:00,  1.70s/it]\n"
     ]
    },
    {
     "name": "stdout",
     "output_type": "stream",
     "text": [
      "                      (F1-score: 0.0380, Precision: 0.0373, Recall: 0.0473)\n",
      "\n",
      "                      (NDCG: 0.0377)\n",
      "\n",
      "                      (MAE: 4.7660)\n",
      "\n",
      "--------------------\n",
      "[[1, 0.03675763244147688, 0.05795739348370928, 0.041730395569539586, 0.04090449551498532, 4.890037593984962, 7.098834991455078], [2, 0.04689951032155308, 0.039758995703544575, 0.03923609693777799, 0.03886975105099128, 4.514097744360902, 5.113095283508301], [3, 0.047782608443842946, 0.036301691729323335, 0.03759501144478827, 0.03703976002752893, 4.841165413533835, 4.89960241317749], [4, 0.04778260844384295, 0.036236424394319164, 0.037560684733034304, 0.03704010440768408, 4.8580827067669174, 4.8063130378723145], [5, 0.047781289363076594, 0.03664108187134508, 0.037731272253394274, 0.03706005392718668, 4.836466165413534, 4.714582443237305], [6, 0.04778295071342215, 0.03658886800334171, 0.03774827052565744, 0.03721349101769213, 4.843984962406015, 4.63381814956665], [7, 0.04729088064898369, 0.036836883876357605, 0.03772976275201631, 0.03727281740183865, 4.788533834586466, 4.541353225708008], [8, 0.04773210156767817, 0.036849937343358445, 0.03806237322174878, 0.037571937412975875, 4.7819548872180455, 4.473570346832275], [9, 0.04729382823896952, 0.03729375522138685, 0.038036838078068964, 0.03771271079050419, 4.765977443609023, 4.42526388168335]]\n",
      "-----------------------------------------------------------------------------------------\n"
     ]
    },
    {
     "name": "stderr",
     "output_type": "stream",
     "text": [
      "  0%|          | 1/1065 [00:01<26:29,  1.49s/it]"
     ]
    },
    {
     "name": "stdout",
     "output_type": "stream",
     "text": [
      "Epoch 10: 0%, loss: 1.890546\n"
     ]
    },
    {
     "name": "stderr",
     "output_type": "stream",
     "text": [
      "  9%|▉         | 101/1065 [02:56<31:12,  1.94s/it]"
     ]
    },
    {
     "name": "stdout",
     "output_type": "stream",
     "text": [
      "Epoch 10: 9%, loss: 1.749997\n"
     ]
    },
    {
     "name": "stderr",
     "output_type": "stream",
     "text": [
      " 19%|█▉        | 201/1065 [05:54<24:47,  1.72s/it]"
     ]
    },
    {
     "name": "stdout",
     "output_type": "stream",
     "text": [
      "Epoch 10: 19%, loss: 4.059904\n"
     ]
    },
    {
     "name": "stderr",
     "output_type": "stream",
     "text": [
      " 28%|██▊       | 301/1065 [08:52<25:36,  2.01s/it]"
     ]
    },
    {
     "name": "stdout",
     "output_type": "stream",
     "text": [
      "Epoch 10: 28%, loss: 5.880301\n"
     ]
    },
    {
     "name": "stderr",
     "output_type": "stream",
     "text": [
      " 38%|███▊      | 401/1065 [11:50<20:15,  1.83s/it]"
     ]
    },
    {
     "name": "stdout",
     "output_type": "stream",
     "text": [
      "Epoch 10: 38%, loss: 3.154178\n"
     ]
    },
    {
     "name": "stderr",
     "output_type": "stream",
     "text": [
      " 47%|████▋     | 501/1065 [14:50<16:29,  1.75s/it]"
     ]
    },
    {
     "name": "stdout",
     "output_type": "stream",
     "text": [
      "Epoch 10: 47%, loss: 1.395983\n"
     ]
    },
    {
     "name": "stderr",
     "output_type": "stream",
     "text": [
      " 56%|█████▋    | 601/1065 [17:52<13:41,  1.77s/it]"
     ]
    },
    {
     "name": "stdout",
     "output_type": "stream",
     "text": [
      "Epoch 10: 56%, loss: 1.988840\n"
     ]
    },
    {
     "name": "stderr",
     "output_type": "stream",
     "text": [
      " 66%|██████▌   | 701/1065 [20:50<10:54,  1.80s/it]"
     ]
    },
    {
     "name": "stdout",
     "output_type": "stream",
     "text": [
      "Epoch 10: 66%, loss: 2.794904\n"
     ]
    },
    {
     "name": "stderr",
     "output_type": "stream",
     "text": [
      " 75%|███████▌  | 801/1065 [23:46<07:17,  1.66s/it]"
     ]
    },
    {
     "name": "stdout",
     "output_type": "stream",
     "text": [
      "Epoch 10: 75%, loss: 1.910097\n"
     ]
    },
    {
     "name": "stderr",
     "output_type": "stream",
     "text": [
      " 85%|████████▍ | 901/1065 [26:48<04:30,  1.65s/it]"
     ]
    },
    {
     "name": "stdout",
     "output_type": "stream",
     "text": [
      "Epoch 10: 85%, loss: 2.121122\n"
     ]
    },
    {
     "name": "stderr",
     "output_type": "stream",
     "text": [
      " 94%|█████████▍| 1001/1065 [29:49<02:02,  1.91s/it]"
     ]
    },
    {
     "name": "stdout",
     "output_type": "stream",
     "text": [
      "Epoch 10: 94%, loss: 1.385702\n"
     ]
    },
    {
     "name": "stderr",
     "output_type": "stream",
     "text": [
      "100%|██████████| 1065/1065 [31:41<00:00,  1.79s/it]"
     ]
    },
    {
     "name": "stdout",
     "output_type": "stream",
     "text": [
      "Epoch 10: 100%, loss: 2.693099\n"
     ]
    },
    {
     "name": "stderr",
     "output_type": "stream",
     "text": [
      "\n"
     ]
    },
    {
     "name": "stdout",
     "output_type": "stream",
     "text": [
      "                      (F1-score: 0.0362, Precision: 0.0366, Recall: 0.0439)\n",
      "\n",
      "                      (NDCG: 0.0362)\n",
      "\n",
      "                      (MAE: 4.6535)\n",
      "\n",
      "train_loss= tensor(4.3406)\n",
      "--------------------\n"
     ]
    },
    {
     "name": "stderr",
     "output_type": "stream",
     "text": [
      "100%|██████████| 133/133 [02:55<00:00,  1.32s/it]\n"
     ]
    },
    {
     "name": "stdout",
     "output_type": "stream",
     "text": [
      "                      (F1-score: 0.0325, Precision: 0.0330, Recall: 0.0393)\n",
      "\n",
      "                      (NDCG: 0.0329)\n",
      "\n",
      "                      (MAE: 4.9803)\n",
      "\n",
      "val_loss= tensor(4.7239)\n",
      "--------------------\n"
     ]
    },
    {
     "name": "stderr",
     "output_type": "stream",
     "text": [
      "100%|██████████| 133/133 [02:55<00:00,  1.32s/it]\n"
     ]
    },
    {
     "name": "stdout",
     "output_type": "stream",
     "text": [
      "                      (F1-score: 0.0380, Precision: 0.0370, Recall: 0.0476)\n",
      "\n",
      "                      (NDCG: 0.0375)\n",
      "\n",
      "                      (MAE: 4.7989)\n",
      "\n",
      "--------------------\n",
      "[[1, 0.03675763244147688, 0.05795739348370928, 0.041730395569539586, 0.04090449551498532, 4.890037593984962, 7.098834991455078], [2, 0.04689951032155308, 0.039758995703544575, 0.03923609693777799, 0.03886975105099128, 4.514097744360902, 5.113095283508301], [3, 0.047782608443842946, 0.036301691729323335, 0.03759501144478827, 0.03703976002752893, 4.841165413533835, 4.89960241317749], [4, 0.04778260844384295, 0.036236424394319164, 0.037560684733034304, 0.03704010440768408, 4.8580827067669174, 4.8063130378723145], [5, 0.047781289363076594, 0.03664108187134508, 0.037731272253394274, 0.03706005392718668, 4.836466165413534, 4.714582443237305], [6, 0.04778295071342215, 0.03658886800334171, 0.03774827052565744, 0.03721349101769213, 4.843984962406015, 4.63381814956665], [7, 0.04729088064898369, 0.036836883876357605, 0.03772976275201631, 0.03727281740183865, 4.788533834586466, 4.541353225708008], [8, 0.04773210156767817, 0.036849937343358445, 0.03806237322174878, 0.037571937412975875, 4.7819548872180455, 4.473570346832275], [9, 0.04729382823896952, 0.03729375522138685, 0.038036838078068964, 0.03771271079050419, 4.765977443609023, 4.42526388168335], [10, 0.04761523084587247, 0.03695436507936512, 0.03798256484571874, 0.03753528086016921, 4.798872180451128, 4.384585857391357]]\n",
      "-----------------------------------------------------------------------------------------\n"
     ]
    },
    {
     "name": "stderr",
     "output_type": "stream",
     "text": [
      "  0%|          | 1/1065 [00:01<30:05,  1.70s/it]"
     ]
    },
    {
     "name": "stdout",
     "output_type": "stream",
     "text": [
      "Epoch 11: 0%, loss: 3.970881\n"
     ]
    },
    {
     "name": "stderr",
     "output_type": "stream",
     "text": [
      "  9%|▉         | 101/1065 [02:25<23:29,  1.46s/it]"
     ]
    },
    {
     "name": "stdout",
     "output_type": "stream",
     "text": [
      "Epoch 11: 9%, loss: 5.543511\n"
     ]
    },
    {
     "name": "stderr",
     "output_type": "stream",
     "text": [
      " 19%|█▉        | 201/1065 [04:49<20:41,  1.44s/it]"
     ]
    },
    {
     "name": "stdout",
     "output_type": "stream",
     "text": [
      "Epoch 11: 19%, loss: 1.746426\n"
     ]
    },
    {
     "name": "stderr",
     "output_type": "stream",
     "text": [
      " 28%|██▊       | 301/1065 [07:10<17:29,  1.37s/it]"
     ]
    },
    {
     "name": "stdout",
     "output_type": "stream",
     "text": [
      "Epoch 11: 28%, loss: 3.029280\n"
     ]
    },
    {
     "name": "stderr",
     "output_type": "stream",
     "text": [
      " 38%|███▊      | 401/1065 [09:30<15:45,  1.42s/it]"
     ]
    },
    {
     "name": "stdout",
     "output_type": "stream",
     "text": [
      "Epoch 11: 38%, loss: 2.244996\n"
     ]
    },
    {
     "name": "stderr",
     "output_type": "stream",
     "text": [
      " 47%|████▋     | 501/1065 [11:51<13:04,  1.39s/it]"
     ]
    },
    {
     "name": "stdout",
     "output_type": "stream",
     "text": [
      "Epoch 11: 47%, loss: 2.258127\n"
     ]
    },
    {
     "name": "stderr",
     "output_type": "stream",
     "text": [
      " 56%|█████▋    | 601/1065 [14:13<11:06,  1.44s/it]"
     ]
    },
    {
     "name": "stdout",
     "output_type": "stream",
     "text": [
      "Epoch 11: 56%, loss: 7.049455\n"
     ]
    },
    {
     "name": "stderr",
     "output_type": "stream",
     "text": [
      " 66%|██████▌   | 701/1065 [16:48<10:04,  1.66s/it]"
     ]
    },
    {
     "name": "stdout",
     "output_type": "stream",
     "text": [
      "Epoch 11: 66%, loss: 1.411625\n"
     ]
    },
    {
     "name": "stderr",
     "output_type": "stream",
     "text": [
      " 75%|███████▌  | 801/1065 [19:36<07:26,  1.69s/it]"
     ]
    },
    {
     "name": "stdout",
     "output_type": "stream",
     "text": [
      "Epoch 11: 75%, loss: 1.612249\n"
     ]
    },
    {
     "name": "stderr",
     "output_type": "stream",
     "text": [
      " 85%|████████▍ | 901/1065 [22:29<04:57,  1.81s/it]"
     ]
    },
    {
     "name": "stdout",
     "output_type": "stream",
     "text": [
      "Epoch 11: 85%, loss: 5.571008\n"
     ]
    },
    {
     "name": "stderr",
     "output_type": "stream",
     "text": [
      " 94%|█████████▍| 1001/1065 [25:22<01:57,  1.83s/it]"
     ]
    },
    {
     "name": "stdout",
     "output_type": "stream",
     "text": [
      "Epoch 11: 94%, loss: 3.353981\n"
     ]
    },
    {
     "name": "stderr",
     "output_type": "stream",
     "text": [
      "100%|██████████| 1065/1065 [27:12<00:00,  1.53s/it]"
     ]
    },
    {
     "name": "stdout",
     "output_type": "stream",
     "text": [
      "Epoch 11: 100%, loss: 2.226603\n"
     ]
    },
    {
     "name": "stderr",
     "output_type": "stream",
     "text": [
      "\n"
     ]
    },
    {
     "name": "stdout",
     "output_type": "stream",
     "text": [
      "                      (F1-score: 0.0360, Precision: 0.0362, Recall: 0.0439)\n",
      "\n",
      "                      (NDCG: 0.0361)\n",
      "\n",
      "                      (MAE: 4.6660)\n",
      "\n",
      "train_loss= tensor(4.2769)\n",
      "--------------------\n"
     ]
    },
    {
     "name": "stderr",
     "output_type": "stream",
     "text": [
      "100%|██████████| 133/133 [03:39<00:00,  1.65s/it]\n"
     ]
    },
    {
     "name": "stdout",
     "output_type": "stream",
     "text": [
      "                      (F1-score: 0.0330, Precision: 0.0335, Recall: 0.0397)\n",
      "\n",
      "                      (NDCG: 0.0335)\n",
      "\n",
      "                      (MAE: 4.9342)\n",
      "\n",
      "val_loss= tensor(4.6781)\n",
      "--------------------\n"
     ]
    },
    {
     "name": "stderr",
     "output_type": "stream",
     "text": [
      "100%|██████████| 133/133 [03:41<00:00,  1.67s/it]\n"
     ]
    },
    {
     "name": "stdout",
     "output_type": "stream",
     "text": [
      "                      (F1-score: 0.0382, Precision: 0.0374, Recall: 0.0473)\n",
      "\n",
      "                      (NDCG: 0.0379)\n",
      "\n",
      "                      (MAE: 4.7679)\n",
      "\n",
      "--------------------\n",
      "[[1, 0.03675763244147688, 0.05795739348370928, 0.041730395569539586, 0.04090449551498532, 4.890037593984962, 7.098834991455078], [2, 0.04689951032155308, 0.039758995703544575, 0.03923609693777799, 0.03886975105099128, 4.514097744360902, 5.113095283508301], [3, 0.047782608443842946, 0.036301691729323335, 0.03759501144478827, 0.03703976002752893, 4.841165413533835, 4.89960241317749], [4, 0.04778260844384295, 0.036236424394319164, 0.037560684733034304, 0.03704010440768408, 4.8580827067669174, 4.8063130378723145], [5, 0.047781289363076594, 0.03664108187134508, 0.037731272253394274, 0.03706005392718668, 4.836466165413534, 4.714582443237305], [6, 0.04778295071342215, 0.03658886800334171, 0.03774827052565744, 0.03721349101769213, 4.843984962406015, 4.63381814956665], [7, 0.04729088064898369, 0.036836883876357605, 0.03772976275201631, 0.03727281740183865, 4.788533834586466, 4.541353225708008], [8, 0.04773210156767817, 0.036849937343358445, 0.03806237322174878, 0.037571937412975875, 4.7819548872180455, 4.473570346832275], [9, 0.04729382823896952, 0.03729375522138685, 0.038036838078068964, 0.03771271079050419, 4.765977443609023, 4.42526388168335], [10, 0.04761523084587247, 0.03695436507936512, 0.03798256484571874, 0.03753528086016921, 4.798872180451128, 4.384585857391357], [11, 0.04729722225418262, 0.03741123642439433, 0.03823785358621425, 0.03785997028007431, 4.767857142857143, 4.336338520050049]]\n",
      "-----------------------------------------------------------------------------------------\n"
     ]
    },
    {
     "name": "stderr",
     "output_type": "stream",
     "text": [
      "  0%|          | 1/1065 [00:01<24:33,  1.38s/it]"
     ]
    },
    {
     "name": "stdout",
     "output_type": "stream",
     "text": [
      "Epoch 12: 0%, loss: 1.723560\n"
     ]
    },
    {
     "name": "stderr",
     "output_type": "stream",
     "text": [
      "  9%|▉         | 101/1065 [02:43<24:29,  1.52s/it]"
     ]
    },
    {
     "name": "stdout",
     "output_type": "stream",
     "text": [
      "Epoch 12: 9%, loss: 1.898180\n"
     ]
    },
    {
     "name": "stderr",
     "output_type": "stream",
     "text": [
      " 19%|█▉        | 201/1065 [05:22<24:38,  1.71s/it]"
     ]
    },
    {
     "name": "stdout",
     "output_type": "stream",
     "text": [
      "Epoch 12: 19%, loss: 5.242014\n"
     ]
    },
    {
     "name": "stderr",
     "output_type": "stream",
     "text": [
      " 28%|██▊       | 301/1065 [08:02<21:21,  1.68s/it]"
     ]
    },
    {
     "name": "stdout",
     "output_type": "stream",
     "text": [
      "Epoch 12: 28%, loss: 3.538216\n"
     ]
    },
    {
     "name": "stderr",
     "output_type": "stream",
     "text": [
      " 38%|███▊      | 401/1065 [10:41<16:59,  1.54s/it]"
     ]
    },
    {
     "name": "stdout",
     "output_type": "stream",
     "text": [
      "Epoch 12: 38%, loss: 2.621245\n"
     ]
    },
    {
     "name": "stderr",
     "output_type": "stream",
     "text": [
      " 47%|████▋     | 501/1065 [13:19<14:41,  1.56s/it]"
     ]
    },
    {
     "name": "stdout",
     "output_type": "stream",
     "text": [
      "Epoch 12: 47%, loss: 7.992208\n"
     ]
    },
    {
     "name": "stderr",
     "output_type": "stream",
     "text": [
      " 56%|█████▋    | 601/1065 [16:02<12:01,  1.56s/it]"
     ]
    },
    {
     "name": "stdout",
     "output_type": "stream",
     "text": [
      "Epoch 12: 56%, loss: 4.187335\n"
     ]
    },
    {
     "name": "stderr",
     "output_type": "stream",
     "text": [
      " 66%|██████▌   | 701/1065 [18:44<09:12,  1.52s/it]"
     ]
    },
    {
     "name": "stdout",
     "output_type": "stream",
     "text": [
      "Epoch 12: 66%, loss: 7.053312\n"
     ]
    },
    {
     "name": "stderr",
     "output_type": "stream",
     "text": [
      " 75%|███████▌  | 801/1065 [21:26<07:04,  1.61s/it]"
     ]
    },
    {
     "name": "stdout",
     "output_type": "stream",
     "text": [
      "Epoch 12: 75%, loss: 1.586363\n"
     ]
    },
    {
     "name": "stderr",
     "output_type": "stream",
     "text": [
      " 85%|████████▍ | 901/1065 [24:08<04:19,  1.58s/it]"
     ]
    },
    {
     "name": "stdout",
     "output_type": "stream",
     "text": [
      "Epoch 12: 85%, loss: 2.681554\n"
     ]
    },
    {
     "name": "stderr",
     "output_type": "stream",
     "text": [
      " 94%|█████████▍| 1001/1065 [26:49<01:40,  1.56s/it]"
     ]
    },
    {
     "name": "stdout",
     "output_type": "stream",
     "text": [
      "Epoch 12: 94%, loss: 3.301276\n"
     ]
    },
    {
     "name": "stderr",
     "output_type": "stream",
     "text": [
      "100%|██████████| 1065/1065 [28:37<00:00,  1.61s/it]"
     ]
    },
    {
     "name": "stdout",
     "output_type": "stream",
     "text": [
      "Epoch 12: 100%, loss: 3.888049\n"
     ]
    },
    {
     "name": "stderr",
     "output_type": "stream",
     "text": [
      "\n"
     ]
    },
    {
     "name": "stdout",
     "output_type": "stream",
     "text": [
      "                      (F1-score: 0.0362, Precision: 0.0365, Recall: 0.0438)\n",
      "\n",
      "                      (NDCG: 0.0363)\n",
      "\n",
      "                      (MAE: 4.6432)\n",
      "\n",
      "train_loss= tensor(4.2193)\n",
      "--------------------\n"
     ]
    },
    {
     "name": "stderr",
     "output_type": "stream",
     "text": [
      "100%|██████████| 133/133 [03:36<00:00,  1.63s/it]\n"
     ]
    },
    {
     "name": "stdout",
     "output_type": "stream",
     "text": [
      "                      (F1-score: 0.0331, Precision: 0.0335, Recall: 0.0399)\n",
      "\n",
      "                      (NDCG: 0.0334)\n",
      "\n",
      "                      (MAE: 4.9380)\n",
      "\n",
      "val_loss= tensor(4.6346)\n",
      "--------------------\n"
     ]
    },
    {
     "name": "stderr",
     "output_type": "stream",
     "text": [
      "100%|██████████| 133/133 [03:40<00:00,  1.66s/it]\n"
     ]
    },
    {
     "name": "stdout",
     "output_type": "stream",
     "text": [
      "                      (F1-score: 0.0375, Precision: 0.0365, Recall: 0.0465)\n",
      "\n",
      "                      (NDCG: 0.0374)\n",
      "\n",
      "                      (MAE: 4.7641)\n",
      "\n",
      "--------------------\n",
      "[[1, 0.03675763244147688, 0.05795739348370928, 0.041730395569539586, 0.04090449551498532, 4.890037593984962, 7.098834991455078], [2, 0.04689951032155308, 0.039758995703544575, 0.03923609693777799, 0.03886975105099128, 4.514097744360902, 5.113095283508301], [3, 0.047782608443842946, 0.036301691729323335, 0.03759501144478827, 0.03703976002752893, 4.841165413533835, 4.89960241317749], [4, 0.04778260844384295, 0.036236424394319164, 0.037560684733034304, 0.03704010440768408, 4.8580827067669174, 4.8063130378723145], [5, 0.047781289363076594, 0.03664108187134508, 0.037731272253394274, 0.03706005392718668, 4.836466165413534, 4.714582443237305], [6, 0.04778295071342215, 0.03658886800334171, 0.03774827052565744, 0.03721349101769213, 4.843984962406015, 4.63381814956665], [7, 0.04729088064898369, 0.036836883876357605, 0.03772976275201631, 0.03727281740183865, 4.788533834586466, 4.541353225708008], [8, 0.04773210156767817, 0.036849937343358445, 0.03806237322174878, 0.037571937412975875, 4.7819548872180455, 4.473570346832275], [9, 0.04729382823896952, 0.03729375522138685, 0.038036838078068964, 0.03771271079050419, 4.765977443609023, 4.42526388168335], [10, 0.04761523084587247, 0.03695436507936512, 0.03798256484571874, 0.03753528086016921, 4.798872180451128, 4.384585857391357], [11, 0.04729722225418262, 0.03741123642439433, 0.03823785358621425, 0.03785997028007431, 4.767857142857143, 4.336338520050049], [12, 0.04647580410279143, 0.03647138680033419, 0.037462556553096854, 0.03742645742350671, 4.764097744360902, 4.2733378410339355]]\n",
      "-----------------------------------------------------------------------------------------\n"
     ]
    },
    {
     "name": "stderr",
     "output_type": "stream",
     "text": [
      "  0%|          | 1/1065 [00:01<22:16,  1.26s/it]"
     ]
    },
    {
     "name": "stdout",
     "output_type": "stream",
     "text": [
      "Epoch 13: 0%, loss: 2.944075\n"
     ]
    },
    {
     "name": "stderr",
     "output_type": "stream",
     "text": [
      "  9%|▉         | 101/1065 [02:40<24:11,  1.51s/it]"
     ]
    },
    {
     "name": "stdout",
     "output_type": "stream",
     "text": [
      "Epoch 13: 9%, loss: 5.548652\n"
     ]
    },
    {
     "name": "stderr",
     "output_type": "stream",
     "text": [
      " 19%|█▉        | 201/1065 [05:22<23:12,  1.61s/it]"
     ]
    },
    {
     "name": "stdout",
     "output_type": "stream",
     "text": [
      "Epoch 13: 19%, loss: 2.948678\n"
     ]
    },
    {
     "name": "stderr",
     "output_type": "stream",
     "text": [
      " 28%|██▊       | 301/1065 [08:07<20:24,  1.60s/it]"
     ]
    },
    {
     "name": "stdout",
     "output_type": "stream",
     "text": [
      "Epoch 13: 28%, loss: 2.571529\n"
     ]
    },
    {
     "name": "stderr",
     "output_type": "stream",
     "text": [
      " 38%|███▊      | 401/1065 [10:49<17:12,  1.55s/it]"
     ]
    },
    {
     "name": "stdout",
     "output_type": "stream",
     "text": [
      "Epoch 13: 38%, loss: 1.563126\n"
     ]
    },
    {
     "name": "stderr",
     "output_type": "stream",
     "text": [
      " 47%|████▋     | 501/1065 [13:33<16:55,  1.80s/it]"
     ]
    },
    {
     "name": "stdout",
     "output_type": "stream",
     "text": [
      "Epoch 13: 47%, loss: 6.581646\n"
     ]
    },
    {
     "name": "stderr",
     "output_type": "stream",
     "text": [
      " 56%|█████▋    | 601/1065 [16:15<13:14,  1.71s/it]"
     ]
    },
    {
     "name": "stdout",
     "output_type": "stream",
     "text": [
      "Epoch 13: 56%, loss: 1.440835\n"
     ]
    },
    {
     "name": "stderr",
     "output_type": "stream",
     "text": [
      " 66%|██████▌   | 701/1065 [19:01<11:01,  1.82s/it]"
     ]
    },
    {
     "name": "stdout",
     "output_type": "stream",
     "text": [
      "Epoch 13: 66%, loss: 3.472607\n"
     ]
    },
    {
     "name": "stderr",
     "output_type": "stream",
     "text": [
      " 75%|███████▌  | 801/1065 [21:46<06:59,  1.59s/it]"
     ]
    },
    {
     "name": "stdout",
     "output_type": "stream",
     "text": [
      "Epoch 13: 75%, loss: 1.706881\n"
     ]
    },
    {
     "name": "stderr",
     "output_type": "stream",
     "text": [
      " 85%|████████▍ | 901/1065 [24:32<04:26,  1.62s/it]"
     ]
    },
    {
     "name": "stdout",
     "output_type": "stream",
     "text": [
      "Epoch 13: 85%, loss: 3.373786\n"
     ]
    },
    {
     "name": "stderr",
     "output_type": "stream",
     "text": [
      " 94%|█████████▍| 1001/1065 [27:18<01:51,  1.74s/it]"
     ]
    },
    {
     "name": "stdout",
     "output_type": "stream",
     "text": [
      "Epoch 13: 94%, loss: 1.648205\n"
     ]
    },
    {
     "name": "stderr",
     "output_type": "stream",
     "text": [
      "100%|██████████| 1065/1065 [29:07<00:00,  1.64s/it]"
     ]
    },
    {
     "name": "stdout",
     "output_type": "stream",
     "text": [
      "Epoch 13: 100%, loss: 14.028725\n"
     ]
    },
    {
     "name": "stderr",
     "output_type": "stream",
     "text": [
      "\n"
     ]
    },
    {
     "name": "stdout",
     "output_type": "stream",
     "text": [
      "                      (F1-score: 0.0363, Precision: 0.0365, Recall: 0.0440)\n",
      "\n",
      "                      (NDCG: 0.0363)\n",
      "\n",
      "                      (MAE: 4.6509)\n",
      "\n",
      "train_loss= tensor(4.1791)\n",
      "--------------------\n"
     ]
    },
    {
     "name": "stderr",
     "output_type": "stream",
     "text": [
      "100%|██████████| 133/133 [03:42<00:00,  1.67s/it]\n"
     ]
    },
    {
     "name": "stdout",
     "output_type": "stream",
     "text": [
      "                      (F1-score: 0.0335, Precision: 0.0341, Recall: 0.0403)\n",
      "\n",
      "                      (NDCG: 0.0336)\n",
      "\n",
      "                      (MAE: 4.9201)\n",
      "\n",
      "val_loss= tensor(4.5949)\n",
      "--------------------\n"
     ]
    },
    {
     "name": "stderr",
     "output_type": "stream",
     "text": [
      "100%|██████████| 133/133 [03:38<00:00,  1.64s/it]\n"
     ]
    },
    {
     "name": "stdout",
     "output_type": "stream",
     "text": [
      "                      (F1-score: 0.0377, Precision: 0.0370, Recall: 0.0465)\n",
      "\n",
      "                      (NDCG: 0.0376)\n",
      "\n",
      "                      (MAE: 4.7462)\n",
      "\n",
      "--------------------\n",
      "[[1, 0.03675763244147688, 0.05795739348370928, 0.041730395569539586, 0.04090449551498532, 4.890037593984962, 7.098834991455078], [2, 0.04689951032155308, 0.039758995703544575, 0.03923609693777799, 0.03886975105099128, 4.514097744360902, 5.113095283508301], [3, 0.047782608443842946, 0.036301691729323335, 0.03759501144478827, 0.03703976002752893, 4.841165413533835, 4.89960241317749], [4, 0.04778260844384295, 0.036236424394319164, 0.037560684733034304, 0.03704010440768408, 4.8580827067669174, 4.8063130378723145], [5, 0.047781289363076594, 0.03664108187134508, 0.037731272253394274, 0.03706005392718668, 4.836466165413534, 4.714582443237305], [6, 0.04778295071342215, 0.03658886800334171, 0.03774827052565744, 0.03721349101769213, 4.843984962406015, 4.63381814956665], [7, 0.04729088064898369, 0.036836883876357605, 0.03772976275201631, 0.03727281740183865, 4.788533834586466, 4.541353225708008], [8, 0.04773210156767817, 0.036849937343358445, 0.03806237322174878, 0.037571937412975875, 4.7819548872180455, 4.473570346832275], [9, 0.04729382823896952, 0.03729375522138685, 0.038036838078068964, 0.03771271079050419, 4.765977443609023, 4.42526388168335], [10, 0.04761523084587247, 0.03695436507936512, 0.03798256484571874, 0.03753528086016921, 4.798872180451128, 4.384585857391357], [11, 0.04729722225418262, 0.03741123642439433, 0.03823785358621425, 0.03785997028007431, 4.767857142857143, 4.336338520050049], [12, 0.04647580410279143, 0.03647138680033419, 0.037462556553096854, 0.03742645742350671, 4.764097744360902, 4.2733378410339355], [13, 0.046522025911280296, 0.036980472013366766, 0.03771788682848699, 0.03757761921593569, 4.746240601503759, 4.252971649169922]]\n",
      "-----------------------------------------------------------------------------------------\n"
     ]
    },
    {
     "name": "stderr",
     "output_type": "stream",
     "text": [
      "  0%|          | 1/1065 [00:02<49:26,  2.79s/it]"
     ]
    },
    {
     "name": "stdout",
     "output_type": "stream",
     "text": [
      "Epoch 14: 0%, loss: 1.785834\n"
     ]
    },
    {
     "name": "stderr",
     "output_type": "stream",
     "text": [
      "  9%|▉         | 101/1065 [02:46<28:36,  1.78s/it]"
     ]
    },
    {
     "name": "stdout",
     "output_type": "stream",
     "text": [
      "Epoch 14: 9%, loss: 2.637743\n"
     ]
    },
    {
     "name": "stderr",
     "output_type": "stream",
     "text": [
      " 19%|█▉        | 201/1065 [05:31<24:31,  1.70s/it]"
     ]
    },
    {
     "name": "stdout",
     "output_type": "stream",
     "text": [
      "Epoch 14: 19%, loss: 1.455612\n"
     ]
    },
    {
     "name": "stderr",
     "output_type": "stream",
     "text": [
      " 28%|██▊       | 301/1065 [08:17<20:51,  1.64s/it]"
     ]
    },
    {
     "name": "stdout",
     "output_type": "stream",
     "text": [
      "Epoch 14: 28%, loss: 1.611623\n"
     ]
    },
    {
     "name": "stderr",
     "output_type": "stream",
     "text": [
      " 38%|███▊      | 401/1065 [11:04<17:54,  1.62s/it]"
     ]
    },
    {
     "name": "stdout",
     "output_type": "stream",
     "text": [
      "Epoch 14: 38%, loss: 7.795619\n"
     ]
    },
    {
     "name": "stderr",
     "output_type": "stream",
     "text": [
      " 47%|████▋     | 501/1065 [13:54<16:38,  1.77s/it]"
     ]
    },
    {
     "name": "stdout",
     "output_type": "stream",
     "text": [
      "Epoch 14: 47%, loss: 2.156983\n"
     ]
    },
    {
     "name": "stderr",
     "output_type": "stream",
     "text": [
      " 56%|█████▋    | 601/1065 [16:34<10:11,  1.32s/it]"
     ]
    },
    {
     "name": "stdout",
     "output_type": "stream",
     "text": [
      "Epoch 14: 56%, loss: 2.004428\n"
     ]
    },
    {
     "name": "stderr",
     "output_type": "stream",
     "text": [
      " 66%|██████▌   | 701/1065 [18:49<08:05,  1.33s/it]"
     ]
    },
    {
     "name": "stdout",
     "output_type": "stream",
     "text": [
      "Epoch 14: 66%, loss: 1.946045\n"
     ]
    },
    {
     "name": "stderr",
     "output_type": "stream",
     "text": [
      " 75%|███████▌  | 801/1065 [21:07<05:49,  1.33s/it]"
     ]
    },
    {
     "name": "stdout",
     "output_type": "stream",
     "text": [
      "Epoch 14: 75%, loss: 12.652102\n"
     ]
    },
    {
     "name": "stderr",
     "output_type": "stream",
     "text": [
      " 85%|████████▍ | 901/1065 [23:25<03:39,  1.34s/it]"
     ]
    },
    {
     "name": "stdout",
     "output_type": "stream",
     "text": [
      "Epoch 14: 85%, loss: 1.452928\n"
     ]
    },
    {
     "name": "stderr",
     "output_type": "stream",
     "text": [
      " 94%|█████████▍| 1001/1065 [25:44<01:31,  1.43s/it]"
     ]
    },
    {
     "name": "stdout",
     "output_type": "stream",
     "text": [
      "Epoch 14: 94%, loss: 2.191144\n"
     ]
    },
    {
     "name": "stderr",
     "output_type": "stream",
     "text": [
      "100%|██████████| 1065/1065 [27:12<00:00,  1.53s/it]"
     ]
    },
    {
     "name": "stdout",
     "output_type": "stream",
     "text": [
      "Epoch 14: 100%, loss: 1.475177\n"
     ]
    },
    {
     "name": "stderr",
     "output_type": "stream",
     "text": [
      "\n"
     ]
    },
    {
     "name": "stdout",
     "output_type": "stream",
     "text": [
      "                      (F1-score: 0.0363, Precision: 0.0365, Recall: 0.0440)\n",
      "\n",
      "                      (NDCG: 0.0363)\n",
      "\n",
      "                      (MAE: 4.6442)\n",
      "\n",
      "train_loss= tensor(4.1409)\n",
      "--------------------\n"
     ]
    },
    {
     "name": "stderr",
     "output_type": "stream",
     "text": [
      "100%|██████████| 133/133 [02:47<00:00,  1.26s/it]\n"
     ]
    },
    {
     "name": "stdout",
     "output_type": "stream",
     "text": [
      "                      (F1-score: 0.0331, Precision: 0.0338, Recall: 0.0397)\n",
      "\n",
      "                      (NDCG: 0.0337)\n",
      "\n",
      "                      (MAE: 4.9211)\n",
      "\n",
      "val_loss= tensor(4.5655)\n",
      "--------------------\n"
     ]
    },
    {
     "name": "stderr",
     "output_type": "stream",
     "text": [
      "100%|██████████| 133/133 [02:43<00:00,  1.23s/it]\n"
     ]
    },
    {
     "name": "stdout",
     "output_type": "stream",
     "text": [
      "                      (F1-score: 0.0381, Precision: 0.0371, Recall: 0.0472)\n",
      "\n",
      "                      (NDCG: 0.0379)\n",
      "\n",
      "                      (MAE: 4.7312)\n",
      "\n",
      "--------------------\n",
      "[[1, 0.03675763244147688, 0.05795739348370928, 0.041730395569539586, 0.04090449551498532, 4.890037593984962, 7.098834991455078], [2, 0.04689951032155308, 0.039758995703544575, 0.03923609693777799, 0.03886975105099128, 4.514097744360902, 5.113095283508301], [3, 0.047782608443842946, 0.036301691729323335, 0.03759501144478827, 0.03703976002752893, 4.841165413533835, 4.89960241317749], [4, 0.04778260844384295, 0.036236424394319164, 0.037560684733034304, 0.03704010440768408, 4.8580827067669174, 4.8063130378723145], [5, 0.047781289363076594, 0.03664108187134508, 0.037731272253394274, 0.03706005392718668, 4.836466165413534, 4.714582443237305], [6, 0.04778295071342215, 0.03658886800334171, 0.03774827052565744, 0.03721349101769213, 4.843984962406015, 4.63381814956665], [7, 0.04729088064898369, 0.036836883876357605, 0.03772976275201631, 0.03727281740183865, 4.788533834586466, 4.541353225708008], [8, 0.04773210156767817, 0.036849937343358445, 0.03806237322174878, 0.037571937412975875, 4.7819548872180455, 4.473570346832275], [9, 0.04729382823896952, 0.03729375522138685, 0.038036838078068964, 0.03771271079050419, 4.765977443609023, 4.42526388168335], [10, 0.04761523084587247, 0.03695436507936512, 0.03798256484571874, 0.03753528086016921, 4.798872180451128, 4.384585857391357], [11, 0.04729722225418262, 0.03741123642439433, 0.03823785358621425, 0.03785997028007431, 4.767857142857143, 4.336338520050049], [12, 0.04647580410279143, 0.03647138680033419, 0.037462556553096854, 0.03742645742350671, 4.764097744360902, 4.2733378410339355], [13, 0.046522025911280296, 0.036980472013366766, 0.03771788682848699, 0.03757761921593569, 4.746240601503759, 4.252971649169922], [14, 0.04724858813414601, 0.03707184628237262, 0.03813568024929451, 0.03787215017535044, 4.731203007518797, 4.198103904724121]]\n",
      "-----------------------------------------------------------------------------------------\n"
     ]
    },
    {
     "name": "stderr",
     "output_type": "stream",
     "text": [
      "  0%|          | 1/1065 [00:01<26:50,  1.51s/it]"
     ]
    },
    {
     "name": "stdout",
     "output_type": "stream",
     "text": [
      "Epoch 15: 0%, loss: 2.632519\n"
     ]
    },
    {
     "name": "stderr",
     "output_type": "stream",
     "text": [
      "  9%|▉         | 101/1065 [02:12<20:33,  1.28s/it]"
     ]
    },
    {
     "name": "stdout",
     "output_type": "stream",
     "text": [
      "Epoch 15: 9%, loss: 3.256156\n"
     ]
    },
    {
     "name": "stderr",
     "output_type": "stream",
     "text": [
      " 19%|█▉        | 201/1065 [04:20<18:45,  1.30s/it]"
     ]
    },
    {
     "name": "stdout",
     "output_type": "stream",
     "text": [
      "Epoch 15: 19%, loss: 6.266873\n"
     ]
    },
    {
     "name": "stderr",
     "output_type": "stream",
     "text": [
      " 28%|██▊       | 301/1065 [06:25<15:43,  1.24s/it]"
     ]
    },
    {
     "name": "stdout",
     "output_type": "stream",
     "text": [
      "Epoch 15: 28%, loss: 3.936950\n"
     ]
    },
    {
     "name": "stderr",
     "output_type": "stream",
     "text": [
      " 38%|███▊      | 401/1065 [08:31<13:54,  1.26s/it]"
     ]
    },
    {
     "name": "stdout",
     "output_type": "stream",
     "text": [
      "Epoch 15: 38%, loss: 2.935157\n"
     ]
    },
    {
     "name": "stderr",
     "output_type": "stream",
     "text": [
      " 47%|████▋     | 501/1065 [10:36<11:50,  1.26s/it]"
     ]
    },
    {
     "name": "stdout",
     "output_type": "stream",
     "text": [
      "Epoch 15: 47%, loss: 10.953196\n"
     ]
    },
    {
     "name": "stderr",
     "output_type": "stream",
     "text": [
      " 56%|█████▋    | 601/1065 [12:43<09:46,  1.26s/it]"
     ]
    },
    {
     "name": "stdout",
     "output_type": "stream",
     "text": [
      "Epoch 15: 56%, loss: 2.432268\n"
     ]
    },
    {
     "name": "stderr",
     "output_type": "stream",
     "text": [
      " 66%|██████▌   | 701/1065 [14:51<07:48,  1.29s/it]"
     ]
    },
    {
     "name": "stdout",
     "output_type": "stream",
     "text": [
      "Epoch 15: 66%, loss: 7.715486\n"
     ]
    },
    {
     "name": "stderr",
     "output_type": "stream",
     "text": [
      " 75%|███████▌  | 801/1065 [17:00<05:43,  1.30s/it]"
     ]
    },
    {
     "name": "stdout",
     "output_type": "stream",
     "text": [
      "Epoch 15: 75%, loss: 2.288561\n"
     ]
    },
    {
     "name": "stderr",
     "output_type": "stream",
     "text": [
      " 85%|████████▍ | 901/1065 [19:10<03:32,  1.29s/it]"
     ]
    },
    {
     "name": "stdout",
     "output_type": "stream",
     "text": [
      "Epoch 15: 85%, loss: 7.480786\n"
     ]
    },
    {
     "name": "stderr",
     "output_type": "stream",
     "text": [
      " 94%|█████████▍| 1001/1065 [21:20<01:23,  1.31s/it]"
     ]
    },
    {
     "name": "stdout",
     "output_type": "stream",
     "text": [
      "Epoch 15: 94%, loss: 25.900560\n"
     ]
    },
    {
     "name": "stderr",
     "output_type": "stream",
     "text": [
      "100%|██████████| 1065/1065 [22:44<00:00,  1.28s/it]"
     ]
    },
    {
     "name": "stdout",
     "output_type": "stream",
     "text": [
      "Epoch 15: 100%, loss: 4.745368\n"
     ]
    },
    {
     "name": "stderr",
     "output_type": "stream",
     "text": [
      "\n"
     ]
    },
    {
     "name": "stdout",
     "output_type": "stream",
     "text": [
      "                      (F1-score: 0.0362, Precision: 0.0364, Recall: 0.0439)\n",
      "\n",
      "                      (NDCG: 0.0362)\n",
      "\n",
      "                      (MAE: 4.6464)\n",
      "\n",
      "train_loss= tensor(4.1107)\n",
      "--------------------\n"
     ]
    },
    {
     "name": "stderr",
     "output_type": "stream",
     "text": [
      "100%|██████████| 133/133 [02:40<00:00,  1.21s/it]\n"
     ]
    },
    {
     "name": "stdout",
     "output_type": "stream",
     "text": [
      "                      (F1-score: 0.0317, Precision: 0.0322, Recall: 0.0380)\n",
      "\n",
      "                      (NDCG: 0.0329)\n",
      "\n",
      "                      (MAE: 4.9164)\n",
      "\n",
      "val_loss= tensor(4.5294)\n",
      "--------------------\n"
     ]
    },
    {
     "name": "stderr",
     "output_type": "stream",
     "text": [
      "100%|██████████| 133/133 [02:39<00:00,  1.20s/it]\n"
     ]
    },
    {
     "name": "stdout",
     "output_type": "stream",
     "text": [
      "                      (F1-score: 0.0363, Precision: 0.0352, Recall: 0.0452)\n",
      "\n",
      "                      (NDCG: 0.0368)\n",
      "\n",
      "                      (MAE: 4.7472)\n",
      "\n",
      "--------------------\n",
      "[[1, 0.03675763244147688, 0.05795739348370928, 0.041730395569539586, 0.04090449551498532, 4.890037593984962, 7.098834991455078], [2, 0.04689951032155308, 0.039758995703544575, 0.03923609693777799, 0.03886975105099128, 4.514097744360902, 5.113095283508301], [3, 0.047782608443842946, 0.036301691729323335, 0.03759501144478827, 0.03703976002752893, 4.841165413533835, 4.89960241317749], [4, 0.04778260844384295, 0.036236424394319164, 0.037560684733034304, 0.03704010440768408, 4.8580827067669174, 4.8063130378723145], [5, 0.047781289363076594, 0.03664108187134508, 0.037731272253394274, 0.03706005392718668, 4.836466165413534, 4.714582443237305], [6, 0.04778295071342215, 0.03658886800334171, 0.03774827052565744, 0.03721349101769213, 4.843984962406015, 4.63381814956665], [7, 0.04729088064898369, 0.036836883876357605, 0.03772976275201631, 0.03727281740183865, 4.788533834586466, 4.541353225708008], [8, 0.04773210156767817, 0.036849937343358445, 0.03806237322174878, 0.037571937412975875, 4.7819548872180455, 4.473570346832275], [9, 0.04729382823896952, 0.03729375522138685, 0.038036838078068964, 0.03771271079050419, 4.765977443609023, 4.42526388168335], [10, 0.04761523084587247, 0.03695436507936512, 0.03798256484571874, 0.03753528086016921, 4.798872180451128, 4.384585857391357], [11, 0.04729722225418262, 0.03741123642439433, 0.03823785358621425, 0.03785997028007431, 4.767857142857143, 4.336338520050049], [12, 0.04647580410279143, 0.03647138680033419, 0.037462556553096854, 0.03742645742350671, 4.764097744360902, 4.2733378410339355], [13, 0.046522025911280296, 0.036980472013366766, 0.03771788682848699, 0.03757761921593569, 4.746240601503759, 4.252971649169922], [14, 0.04724858813414601, 0.03707184628237262, 0.03813568024929451, 0.03787215017535044, 4.731203007518797, 4.198103904724121], [15, 0.04517847524251871, 0.035231307435254836, 0.0362827000265909, 0.03677073562923903, 4.74718045112782, 4.196681499481201]]\n",
      "-----------------------------------------------------------------------------------------\n"
     ]
    },
    {
     "name": "stderr",
     "output_type": "stream",
     "text": [
      "  0%|          | 1/1065 [00:01<25:02,  1.41s/it]"
     ]
    },
    {
     "name": "stdout",
     "output_type": "stream",
     "text": [
      "Epoch 16: 0%, loss: 3.908432\n"
     ]
    },
    {
     "name": "stderr",
     "output_type": "stream",
     "text": [
      "  9%|▉         | 101/1065 [02:04<19:39,  1.22s/it]"
     ]
    },
    {
     "name": "stdout",
     "output_type": "stream",
     "text": [
      "Epoch 16: 9%, loss: 1.533707\n"
     ]
    },
    {
     "name": "stderr",
     "output_type": "stream",
     "text": [
      " 19%|█▉        | 201/1065 [04:08<17:42,  1.23s/it]"
     ]
    },
    {
     "name": "stdout",
     "output_type": "stream",
     "text": [
      "Epoch 16: 19%, loss: 1.730069\n"
     ]
    },
    {
     "name": "stderr",
     "output_type": "stream",
     "text": [
      " 28%|██▊       | 301/1065 [06:13<15:46,  1.24s/it]"
     ]
    },
    {
     "name": "stdout",
     "output_type": "stream",
     "text": [
      "Epoch 16: 28%, loss: 5.138952\n"
     ]
    },
    {
     "name": "stderr",
     "output_type": "stream",
     "text": [
      " 38%|███▊      | 401/1065 [08:19<14:18,  1.29s/it]"
     ]
    },
    {
     "name": "stdout",
     "output_type": "stream",
     "text": [
      "Epoch 16: 38%, loss: 3.265207\n"
     ]
    },
    {
     "name": "stderr",
     "output_type": "stream",
     "text": [
      " 47%|████▋     | 501/1065 [10:26<11:44,  1.25s/it]"
     ]
    },
    {
     "name": "stdout",
     "output_type": "stream",
     "text": [
      "Epoch 16: 47%, loss: 2.202734\n"
     ]
    },
    {
     "name": "stderr",
     "output_type": "stream",
     "text": [
      " 56%|█████▋    | 601/1065 [12:33<10:01,  1.30s/it]"
     ]
    },
    {
     "name": "stdout",
     "output_type": "stream",
     "text": [
      "Epoch 16: 56%, loss: 1.927030\n"
     ]
    },
    {
     "name": "stderr",
     "output_type": "stream",
     "text": [
      " 66%|██████▌   | 701/1065 [14:40<07:42,  1.27s/it]"
     ]
    },
    {
     "name": "stdout",
     "output_type": "stream",
     "text": [
      "Epoch 16: 66%, loss: 1.138293\n"
     ]
    },
    {
     "name": "stderr",
     "output_type": "stream",
     "text": [
      " 75%|███████▌  | 801/1065 [16:49<05:39,  1.29s/it]"
     ]
    },
    {
     "name": "stdout",
     "output_type": "stream",
     "text": [
      "Epoch 16: 75%, loss: 11.078774\n"
     ]
    },
    {
     "name": "stderr",
     "output_type": "stream",
     "text": [
      " 85%|████████▍ | 901/1065 [18:58<03:35,  1.31s/it]"
     ]
    },
    {
     "name": "stdout",
     "output_type": "stream",
     "text": [
      "Epoch 16: 85%, loss: 2.890857\n"
     ]
    },
    {
     "name": "stderr",
     "output_type": "stream",
     "text": [
      " 94%|█████████▍| 1001/1065 [21:11<01:24,  1.33s/it]"
     ]
    },
    {
     "name": "stdout",
     "output_type": "stream",
     "text": [
      "Epoch 16: 94%, loss: 2.193190\n"
     ]
    },
    {
     "name": "stderr",
     "output_type": "stream",
     "text": [
      "100%|██████████| 1065/1065 [22:35<00:00,  1.27s/it]"
     ]
    },
    {
     "name": "stdout",
     "output_type": "stream",
     "text": [
      "Epoch 16: 100%, loss: 5.296584\n"
     ]
    },
    {
     "name": "stderr",
     "output_type": "stream",
     "text": [
      "\n"
     ]
    },
    {
     "name": "stdout",
     "output_type": "stream",
     "text": [
      "                      (F1-score: 0.0356, Precision: 0.0358, Recall: 0.0432)\n",
      "\n",
      "                      (NDCG: 0.0358)\n",
      "\n",
      "                      (MAE: 4.6396)\n",
      "\n",
      "train_loss= tensor(4.0830)\n",
      "--------------------\n"
     ]
    },
    {
     "name": "stderr",
     "output_type": "stream",
     "text": [
      "100%|██████████| 133/133 [02:41<00:00,  1.22s/it]\n"
     ]
    },
    {
     "name": "stdout",
     "output_type": "stream",
     "text": [
      "                      (F1-score: 0.0306, Precision: 0.0316, Recall: 0.0360)\n",
      "\n",
      "                      (NDCG: 0.0326)\n",
      "\n",
      "                      (MAE: 4.9079)\n",
      "\n",
      "val_loss= tensor(4.4901)\n",
      "--------------------\n"
     ]
    },
    {
     "name": "stderr",
     "output_type": "stream",
     "text": [
      "100%|██████████| 133/133 [02:44<00:00,  1.24s/it]\n"
     ]
    },
    {
     "name": "stdout",
     "output_type": "stream",
     "text": [
      "                      (F1-score: 0.0357, Precision: 0.0346, Recall: 0.0444)\n",
      "\n",
      "                      (NDCG: 0.0366)\n",
      "\n",
      "                      (MAE: 4.7425)\n",
      "\n",
      "--------------------\n",
      "[[1, 0.03675763244147688, 0.05795739348370928, 0.041730395569539586, 0.04090449551498532, 4.890037593984962, 7.098834991455078], [2, 0.04689951032155308, 0.039758995703544575, 0.03923609693777799, 0.03886975105099128, 4.514097744360902, 5.113095283508301], [3, 0.047782608443842946, 0.036301691729323335, 0.03759501144478827, 0.03703976002752893, 4.841165413533835, 4.89960241317749], [4, 0.04778260844384295, 0.036236424394319164, 0.037560684733034304, 0.03704010440768408, 4.8580827067669174, 4.8063130378723145], [5, 0.047781289363076594, 0.03664108187134508, 0.037731272253394274, 0.03706005392718668, 4.836466165413534, 4.714582443237305], [6, 0.04778295071342215, 0.03658886800334171, 0.03774827052565744, 0.03721349101769213, 4.843984962406015, 4.63381814956665], [7, 0.04729088064898369, 0.036836883876357605, 0.03772976275201631, 0.03727281740183865, 4.788533834586466, 4.541353225708008], [8, 0.04773210156767817, 0.036849937343358445, 0.03806237322174878, 0.037571937412975875, 4.7819548872180455, 4.473570346832275], [9, 0.04729382823896952, 0.03729375522138685, 0.038036838078068964, 0.03771271079050419, 4.765977443609023, 4.42526388168335], [10, 0.04761523084587247, 0.03695436507936512, 0.03798256484571874, 0.03753528086016921, 4.798872180451128, 4.384585857391357], [11, 0.04729722225418262, 0.03741123642439433, 0.03823785358621425, 0.03785997028007431, 4.767857142857143, 4.336338520050049], [12, 0.04647580410279143, 0.03647138680033419, 0.037462556553096854, 0.03742645742350671, 4.764097744360902, 4.2733378410339355], [13, 0.046522025911280296, 0.036980472013366766, 0.03771788682848699, 0.03757761921593569, 4.746240601503759, 4.252971649169922], [14, 0.04724858813414601, 0.03707184628237262, 0.03813568024929451, 0.03787215017535044, 4.731203007518797, 4.198103904724121], [15, 0.04517847524251871, 0.035231307435254836, 0.0362827000265909, 0.03677073562923903, 4.74718045112782, 4.196681499481201], [16, 0.044434536262016947, 0.03461779448621553, 0.03569373869413421, 0.03655643711090648, 4.742481203007519, 4.163763523101807]]\n",
      "-----------------------------------------------------------------------------------------\n"
     ]
    },
    {
     "name": "stderr",
     "output_type": "stream",
     "text": [
      "  0%|          | 1/1065 [00:01<26:24,  1.49s/it]"
     ]
    },
    {
     "name": "stdout",
     "output_type": "stream",
     "text": [
      "Epoch 17: 0%, loss: 3.504191\n"
     ]
    },
    {
     "name": "stderr",
     "output_type": "stream",
     "text": [
      "  9%|▉         | 101/1065 [02:09<20:47,  1.29s/it]"
     ]
    },
    {
     "name": "stdout",
     "output_type": "stream",
     "text": [
      "Epoch 17: 9%, loss: 4.737351\n"
     ]
    },
    {
     "name": "stderr",
     "output_type": "stream",
     "text": [
      " 19%|█▉        | 201/1065 [04:17<18:14,  1.27s/it]"
     ]
    },
    {
     "name": "stdout",
     "output_type": "stream",
     "text": [
      "Epoch 17: 19%, loss: 1.190327\n"
     ]
    },
    {
     "name": "stderr",
     "output_type": "stream",
     "text": [
      " 28%|██▊       | 301/1065 [06:26<16:31,  1.30s/it]"
     ]
    },
    {
     "name": "stdout",
     "output_type": "stream",
     "text": [
      "Epoch 17: 28%, loss: 16.730665\n"
     ]
    },
    {
     "name": "stderr",
     "output_type": "stream",
     "text": [
      " 38%|███▊      | 401/1065 [08:36<15:03,  1.36s/it]"
     ]
    },
    {
     "name": "stdout",
     "output_type": "stream",
     "text": [
      "Epoch 17: 38%, loss: 7.629362\n"
     ]
    },
    {
     "name": "stderr",
     "output_type": "stream",
     "text": [
      " 47%|████▋     | 501/1065 [10:46<11:59,  1.28s/it]"
     ]
    },
    {
     "name": "stdout",
     "output_type": "stream",
     "text": [
      "Epoch 17: 47%, loss: 3.402938\n"
     ]
    },
    {
     "name": "stderr",
     "output_type": "stream",
     "text": [
      " 56%|█████▋    | 601/1065 [12:57<10:04,  1.30s/it]"
     ]
    },
    {
     "name": "stdout",
     "output_type": "stream",
     "text": [
      "Epoch 17: 56%, loss: 4.947811\n"
     ]
    },
    {
     "name": "stderr",
     "output_type": "stream",
     "text": [
      " 66%|██████▌   | 701/1065 [15:11<08:11,  1.35s/it]"
     ]
    },
    {
     "name": "stdout",
     "output_type": "stream",
     "text": [
      "Epoch 17: 66%, loss: 2.077298\n"
     ]
    },
    {
     "name": "stderr",
     "output_type": "stream",
     "text": [
      " 75%|███████▌  | 801/1065 [17:29<06:05,  1.38s/it]"
     ]
    },
    {
     "name": "stdout",
     "output_type": "stream",
     "text": [
      "Epoch 17: 75%, loss: 6.636716\n"
     ]
    },
    {
     "name": "stderr",
     "output_type": "stream",
     "text": [
      " 85%|████████▍ | 901/1065 [19:49<03:50,  1.40s/it]"
     ]
    },
    {
     "name": "stdout",
     "output_type": "stream",
     "text": [
      "Epoch 17: 85%, loss: 2.854879\n"
     ]
    },
    {
     "name": "stderr",
     "output_type": "stream",
     "text": [
      " 94%|█████████▍| 1001/1065 [22:11<01:30,  1.41s/it]"
     ]
    },
    {
     "name": "stdout",
     "output_type": "stream",
     "text": [
      "Epoch 17: 94%, loss: 1.492761\n"
     ]
    },
    {
     "name": "stderr",
     "output_type": "stream",
     "text": [
      "100%|██████████| 1065/1065 [23:41<00:00,  1.34s/it]"
     ]
    },
    {
     "name": "stdout",
     "output_type": "stream",
     "text": [
      "Epoch 17: 100%, loss: 1.471315\n"
     ]
    },
    {
     "name": "stderr",
     "output_type": "stream",
     "text": [
      "\n"
     ]
    },
    {
     "name": "stdout",
     "output_type": "stream",
     "text": [
      "                      (F1-score: 0.0354, Precision: 0.0353, Recall: 0.0432)\n",
      "\n",
      "                      (NDCG: 0.0355)\n",
      "\n",
      "                      (MAE: 4.6467)\n",
      "\n",
      "train_loss= tensor(4.0557)\n",
      "--------------------\n"
     ]
    },
    {
     "name": "stderr",
     "output_type": "stream",
     "text": [
      "100%|██████████| 133/133 [02:55<00:00,  1.32s/it]\n"
     ]
    },
    {
     "name": "stdout",
     "output_type": "stream",
     "text": [
      "                      (F1-score: 0.0301, Precision: 0.0304, Recall: 0.0360)\n",
      "\n",
      "                      (NDCG: 0.0317)\n",
      "\n",
      "                      (MAE: 4.9192)\n",
      "\n",
      "val_loss= tensor(4.4902)\n",
      "--------------------\n"
     ]
    },
    {
     "name": "stderr",
     "output_type": "stream",
     "text": [
      "100%|██████████| 133/133 [02:56<00:00,  1.33s/it]\n"
     ]
    },
    {
     "name": "stdout",
     "output_type": "stream",
     "text": [
      "                      (F1-score: 0.0349, Precision: 0.0335, Recall: 0.0437)\n",
      "\n",
      "                      (NDCG: 0.0354)\n",
      "\n",
      "                      (MAE: 4.7284)\n",
      "\n",
      "--------------------\n",
      "[[1, 0.03675763244147688, 0.05795739348370928, 0.041730395569539586, 0.04090449551498532, 4.890037593984962, 7.098834991455078], [2, 0.04689951032155308, 0.039758995703544575, 0.03923609693777799, 0.03886975105099128, 4.514097744360902, 5.113095283508301], [3, 0.047782608443842946, 0.036301691729323335, 0.03759501144478827, 0.03703976002752893, 4.841165413533835, 4.89960241317749], [4, 0.04778260844384295, 0.036236424394319164, 0.037560684733034304, 0.03704010440768408, 4.8580827067669174, 4.8063130378723145], [5, 0.047781289363076594, 0.03664108187134508, 0.037731272253394274, 0.03706005392718668, 4.836466165413534, 4.714582443237305], [6, 0.04778295071342215, 0.03658886800334171, 0.03774827052565744, 0.03721349101769213, 4.843984962406015, 4.63381814956665], [7, 0.04729088064898369, 0.036836883876357605, 0.03772976275201631, 0.03727281740183865, 4.788533834586466, 4.541353225708008], [8, 0.04773210156767817, 0.036849937343358445, 0.03806237322174878, 0.037571937412975875, 4.7819548872180455, 4.473570346832275], [9, 0.04729382823896952, 0.03729375522138685, 0.038036838078068964, 0.03771271079050419, 4.765977443609023, 4.42526388168335], [10, 0.04761523084587247, 0.03695436507936512, 0.03798256484571874, 0.03753528086016921, 4.798872180451128, 4.384585857391357], [11, 0.04729722225418262, 0.03741123642439433, 0.03823785358621425, 0.03785997028007431, 4.767857142857143, 4.336338520050049], [12, 0.04647580410279143, 0.03647138680033419, 0.037462556553096854, 0.03742645742350671, 4.764097744360902, 4.2733378410339355], [13, 0.046522025911280296, 0.036980472013366766, 0.03771788682848699, 0.03757761921593569, 4.746240601503759, 4.252971649169922], [14, 0.04724858813414601, 0.03707184628237262, 0.03813568024929451, 0.03787215017535044, 4.731203007518797, 4.198103904724121], [15, 0.04517847524251871, 0.035231307435254836, 0.0362827000265909, 0.03677073562923903, 4.74718045112782, 4.196681499481201], [16, 0.044434536262016947, 0.03461779448621553, 0.03569373869413421, 0.03655643711090648, 4.742481203007519, 4.163763523101807], [17, 0.04369985646591857, 0.03346908939014203, 0.034892050996209255, 0.035388154534384944, 4.728383458646617, 4.112249851226807]]\n",
      "-----------------------------------------------------------------------------------------\n"
     ]
    },
    {
     "name": "stderr",
     "output_type": "stream",
     "text": [
      "  0%|          | 1/1065 [00:01<26:28,  1.49s/it]"
     ]
    },
    {
     "name": "stdout",
     "output_type": "stream",
     "text": [
      "Epoch 18: 0%, loss: 1.382602\n"
     ]
    },
    {
     "name": "stderr",
     "output_type": "stream",
     "text": [
      "  9%|▉         | 101/1065 [02:17<21:03,  1.31s/it]"
     ]
    },
    {
     "name": "stdout",
     "output_type": "stream",
     "text": [
      "Epoch 18: 9%, loss: 1.419259\n"
     ]
    },
    {
     "name": "stderr",
     "output_type": "stream",
     "text": [
      " 19%|█▉        | 201/1065 [04:31<20:10,  1.40s/it]"
     ]
    },
    {
     "name": "stdout",
     "output_type": "stream",
     "text": [
      "Epoch 18: 19%, loss: 4.976284\n"
     ]
    },
    {
     "name": "stderr",
     "output_type": "stream",
     "text": [
      " 28%|██▊       | 301/1065 [06:45<16:55,  1.33s/it]"
     ]
    },
    {
     "name": "stdout",
     "output_type": "stream",
     "text": [
      "Epoch 18: 28%, loss: 6.310409\n"
     ]
    },
    {
     "name": "stderr",
     "output_type": "stream",
     "text": [
      " 38%|███▊      | 401/1065 [08:59<14:47,  1.34s/it]"
     ]
    },
    {
     "name": "stdout",
     "output_type": "stream",
     "text": [
      "Epoch 18: 38%, loss: 4.969794\n"
     ]
    },
    {
     "name": "stderr",
     "output_type": "stream",
     "text": [
      " 47%|████▋     | 501/1065 [11:16<12:47,  1.36s/it]"
     ]
    },
    {
     "name": "stdout",
     "output_type": "stream",
     "text": [
      "Epoch 18: 47%, loss: 1.346037\n"
     ]
    },
    {
     "name": "stderr",
     "output_type": "stream",
     "text": [
      " 56%|█████▋    | 601/1065 [13:35<10:30,  1.36s/it]"
     ]
    },
    {
     "name": "stdout",
     "output_type": "stream",
     "text": [
      "Epoch 18: 56%, loss: 5.559496\n"
     ]
    },
    {
     "name": "stderr",
     "output_type": "stream",
     "text": [
      " 66%|██████▌   | 701/1065 [15:55<08:24,  1.39s/it]"
     ]
    },
    {
     "name": "stdout",
     "output_type": "stream",
     "text": [
      "Epoch 18: 66%, loss: 12.527266\n"
     ]
    },
    {
     "name": "stderr",
     "output_type": "stream",
     "text": [
      " 75%|███████▌  | 801/1065 [18:16<06:16,  1.43s/it]"
     ]
    },
    {
     "name": "stdout",
     "output_type": "stream",
     "text": [
      "Epoch 18: 75%, loss: 3.064549\n"
     ]
    },
    {
     "name": "stderr",
     "output_type": "stream",
     "text": [
      " 85%|████████▍ | 901/1065 [20:39<03:55,  1.44s/it]"
     ]
    },
    {
     "name": "stdout",
     "output_type": "stream",
     "text": [
      "Epoch 18: 85%, loss: 10.551421\n"
     ]
    },
    {
     "name": "stderr",
     "output_type": "stream",
     "text": [
      " 94%|█████████▍| 1001/1065 [23:02<01:29,  1.39s/it]"
     ]
    },
    {
     "name": "stdout",
     "output_type": "stream",
     "text": [
      "Epoch 18: 94%, loss: 2.771999\n"
     ]
    },
    {
     "name": "stderr",
     "output_type": "stream",
     "text": [
      "100%|██████████| 1065/1065 [24:30<00:00,  1.38s/it]"
     ]
    },
    {
     "name": "stdout",
     "output_type": "stream",
     "text": [
      "Epoch 18: 100%, loss: 13.113300\n"
     ]
    },
    {
     "name": "stderr",
     "output_type": "stream",
     "text": [
      "\n"
     ]
    },
    {
     "name": "stdout",
     "output_type": "stream",
     "text": [
      "                      (F1-score: 0.0349, Precision: 0.0345, Recall: 0.0430)\n",
      "\n",
      "                      (NDCG: 0.0351)\n",
      "\n",
      "                      (MAE: 4.6365)\n",
      "\n",
      "train_loss= tensor(4.0273)\n",
      "--------------------\n"
     ]
    },
    {
     "name": "stderr",
     "output_type": "stream",
     "text": [
      "100%|██████████| 133/133 [02:49<00:00,  1.28s/it]\n"
     ]
    },
    {
     "name": "stdout",
     "output_type": "stream",
     "text": [
      "                      (F1-score: 0.0289, Precision: 0.0293, Recall: 0.0348)\n",
      "\n",
      "                      (NDCG: 0.0301)\n",
      "\n",
      "                      (MAE: 4.9088)\n",
      "\n",
      "val_loss= tensor(4.4719)\n",
      "--------------------\n"
     ]
    },
    {
     "name": "stderr",
     "output_type": "stream",
     "text": [
      "100%|██████████| 133/133 [02:50<00:00,  1.28s/it]\n"
     ]
    },
    {
     "name": "stdout",
     "output_type": "stream",
     "text": [
      "                      (F1-score: 0.0333, Precision: 0.0316, Recall: 0.0421)\n",
      "\n",
      "                      (NDCG: 0.0340)\n",
      "\n",
      "                      (MAE: 4.7321)\n",
      "\n",
      "--------------------\n",
      "[[1, 0.03675763244147688, 0.05795739348370928, 0.041730395569539586, 0.04090449551498532, 4.890037593984962, 7.098834991455078], [2, 0.04689951032155308, 0.039758995703544575, 0.03923609693777799, 0.03886975105099128, 4.514097744360902, 5.113095283508301], [3, 0.047782608443842946, 0.036301691729323335, 0.03759501144478827, 0.03703976002752893, 4.841165413533835, 4.89960241317749], [4, 0.04778260844384295, 0.036236424394319164, 0.037560684733034304, 0.03704010440768408, 4.8580827067669174, 4.8063130378723145], [5, 0.047781289363076594, 0.03664108187134508, 0.037731272253394274, 0.03706005392718668, 4.836466165413534, 4.714582443237305], [6, 0.04778295071342215, 0.03658886800334171, 0.03774827052565744, 0.03721349101769213, 4.843984962406015, 4.63381814956665], [7, 0.04729088064898369, 0.036836883876357605, 0.03772976275201631, 0.03727281740183865, 4.788533834586466, 4.541353225708008], [8, 0.04773210156767817, 0.036849937343358445, 0.03806237322174878, 0.037571937412975875, 4.7819548872180455, 4.473570346832275], [9, 0.04729382823896952, 0.03729375522138685, 0.038036838078068964, 0.03771271079050419, 4.765977443609023, 4.42526388168335], [10, 0.04761523084587247, 0.03695436507936512, 0.03798256484571874, 0.03753528086016921, 4.798872180451128, 4.384585857391357], [11, 0.04729722225418262, 0.03741123642439433, 0.03823785358621425, 0.03785997028007431, 4.767857142857143, 4.336338520050049], [12, 0.04647580410279143, 0.03647138680033419, 0.037462556553096854, 0.03742645742350671, 4.764097744360902, 4.2733378410339355], [13, 0.046522025911280296, 0.036980472013366766, 0.03771788682848699, 0.03757761921593569, 4.746240601503759, 4.252971649169922], [14, 0.04724858813414601, 0.03707184628237262, 0.03813568024929451, 0.03787215017535044, 4.731203007518797, 4.198103904724121], [15, 0.04517847524251871, 0.035231307435254836, 0.0362827000265909, 0.03677073562923903, 4.74718045112782, 4.196681499481201], [16, 0.044434536262016947, 0.03461779448621553, 0.03569373869413421, 0.03655643711090648, 4.742481203007519, 4.163763523101807], [17, 0.04369985646591857, 0.03346908939014203, 0.034892050996209255, 0.035388154534384944, 4.728383458646617, 4.112249851226807], [18, 0.0421101380973605, 0.031589390142021695, 0.0332681875856204, 0.033963764103871766, 4.732142857142857, 4.120368957519531]]\n",
      "-----------------------------------------------------------------------------------------\n"
     ]
    },
    {
     "name": "stderr",
     "output_type": "stream",
     "text": [
      "  0%|          | 1/1065 [00:01<24:38,  1.39s/it]"
     ]
    },
    {
     "name": "stdout",
     "output_type": "stream",
     "text": [
      "Epoch 19: 0%, loss: 1.488892\n"
     ]
    },
    {
     "name": "stderr",
     "output_type": "stream",
     "text": [
      "  9%|▉         | 101/1065 [02:15<22:00,  1.37s/it]"
     ]
    },
    {
     "name": "stdout",
     "output_type": "stream",
     "text": [
      "Epoch 19: 9%, loss: 4.982868\n"
     ]
    },
    {
     "name": "stderr",
     "output_type": "stream",
     "text": [
      " 19%|█▉        | 201/1065 [04:31<19:03,  1.32s/it]"
     ]
    },
    {
     "name": "stdout",
     "output_type": "stream",
     "text": [
      "Epoch 19: 19%, loss: 5.857358\n"
     ]
    },
    {
     "name": "stderr",
     "output_type": "stream",
     "text": [
      " 28%|██▊       | 301/1065 [06:48<17:39,  1.39s/it]"
     ]
    },
    {
     "name": "stdout",
     "output_type": "stream",
     "text": [
      "Epoch 19: 28%, loss: 2.431455\n"
     ]
    },
    {
     "name": "stderr",
     "output_type": "stream",
     "text": [
      " 38%|███▊      | 401/1065 [09:06<15:23,  1.39s/it]"
     ]
    },
    {
     "name": "stdout",
     "output_type": "stream",
     "text": [
      "Epoch 19: 38%, loss: 4.477305\n"
     ]
    },
    {
     "name": "stderr",
     "output_type": "stream",
     "text": [
      " 47%|████▋     | 501/1065 [11:27<14:13,  1.51s/it]"
     ]
    },
    {
     "name": "stdout",
     "output_type": "stream",
     "text": [
      "Epoch 19: 47%, loss: 1.149220\n"
     ]
    },
    {
     "name": "stderr",
     "output_type": "stream",
     "text": [
      " 56%|█████▋    | 601/1065 [13:45<10:43,  1.39s/it]"
     ]
    },
    {
     "name": "stdout",
     "output_type": "stream",
     "text": [
      "Epoch 19: 56%, loss: 2.926346\n"
     ]
    },
    {
     "name": "stderr",
     "output_type": "stream",
     "text": [
      " 66%|██████▌   | 701/1065 [16:00<08:06,  1.34s/it]"
     ]
    },
    {
     "name": "stdout",
     "output_type": "stream",
     "text": [
      "Epoch 19: 66%, loss: 2.393189\n"
     ]
    },
    {
     "name": "stderr",
     "output_type": "stream",
     "text": [
      " 75%|███████▌  | 801/1065 [18:17<06:04,  1.38s/it]"
     ]
    },
    {
     "name": "stdout",
     "output_type": "stream",
     "text": [
      "Epoch 19: 75%, loss: 1.198233\n"
     ]
    },
    {
     "name": "stderr",
     "output_type": "stream",
     "text": [
      " 85%|████████▍ | 901/1065 [20:35<03:52,  1.42s/it]"
     ]
    },
    {
     "name": "stdout",
     "output_type": "stream",
     "text": [
      "Epoch 19: 85%, loss: 8.844144\n"
     ]
    },
    {
     "name": "stderr",
     "output_type": "stream",
     "text": [
      " 94%|█████████▍| 1001/1065 [22:55<01:31,  1.42s/it]"
     ]
    },
    {
     "name": "stdout",
     "output_type": "stream",
     "text": [
      "Epoch 19: 94%, loss: 1.822026\n"
     ]
    },
    {
     "name": "stderr",
     "output_type": "stream",
     "text": [
      "100%|██████████| 1065/1065 [24:25<00:00,  1.38s/it]"
     ]
    },
    {
     "name": "stdout",
     "output_type": "stream",
     "text": [
      "Epoch 19: 100%, loss: 2.377494\n"
     ]
    },
    {
     "name": "stderr",
     "output_type": "stream",
     "text": [
      "\n"
     ]
    },
    {
     "name": "stdout",
     "output_type": "stream",
     "text": [
      "                      (F1-score: 0.0334, Precision: 0.0330, Recall: 0.0411)\n",
      "\n",
      "                      (NDCG: 0.0337)\n",
      "\n",
      "                      (MAE: 4.6343)\n",
      "\n",
      "train_loss= tensor(4.0088)\n",
      "--------------------\n"
     ]
    },
    {
     "name": "stderr",
     "output_type": "stream",
     "text": [
      "100%|██████████| 133/133 [02:55<00:00,  1.32s/it]\n"
     ]
    },
    {
     "name": "stdout",
     "output_type": "stream",
     "text": [
      "                      (F1-score: 0.0255, Precision: 0.0260, Recall: 0.0304)\n",
      "\n",
      "                      (NDCG: 0.0274)\n",
      "\n",
      "                      (MAE: 4.9173)\n",
      "\n",
      "val_loss= tensor(4.4469)\n",
      "--------------------\n"
     ]
    },
    {
     "name": "stderr",
     "output_type": "stream",
     "text": [
      "100%|██████████| 133/133 [02:55<00:00,  1.32s/it]\n"
     ]
    },
    {
     "name": "stdout",
     "output_type": "stream",
     "text": [
      "                      (F1-score: 0.0320, Precision: 0.0304, Recall: 0.0408)\n",
      "\n",
      "                      (NDCG: 0.0314)\n",
      "\n",
      "                      (MAE: 4.7321)\n",
      "\n",
      "--------------------\n",
      "[[1, 0.03675763244147688, 0.05795739348370928, 0.041730395569539586, 0.04090449551498532, 4.890037593984962, 7.098834991455078], [2, 0.04689951032155308, 0.039758995703544575, 0.03923609693777799, 0.03886975105099128, 4.514097744360902, 5.113095283508301], [3, 0.047782608443842946, 0.036301691729323335, 0.03759501144478827, 0.03703976002752893, 4.841165413533835, 4.89960241317749], [4, 0.04778260844384295, 0.036236424394319164, 0.037560684733034304, 0.03704010440768408, 4.8580827067669174, 4.8063130378723145], [5, 0.047781289363076594, 0.03664108187134508, 0.037731272253394274, 0.03706005392718668, 4.836466165413534, 4.714582443237305], [6, 0.04778295071342215, 0.03658886800334171, 0.03774827052565744, 0.03721349101769213, 4.843984962406015, 4.63381814956665], [7, 0.04729088064898369, 0.036836883876357605, 0.03772976275201631, 0.03727281740183865, 4.788533834586466, 4.541353225708008], [8, 0.04773210156767817, 0.036849937343358445, 0.03806237322174878, 0.037571937412975875, 4.7819548872180455, 4.473570346832275], [9, 0.04729382823896952, 0.03729375522138685, 0.038036838078068964, 0.03771271079050419, 4.765977443609023, 4.42526388168335], [10, 0.04761523084587247, 0.03695436507936512, 0.03798256484571874, 0.03753528086016921, 4.798872180451128, 4.384585857391357], [11, 0.04729722225418262, 0.03741123642439433, 0.03823785358621425, 0.03785997028007431, 4.767857142857143, 4.336338520050049], [12, 0.04647580410279143, 0.03647138680033419, 0.037462556553096854, 0.03742645742350671, 4.764097744360902, 4.2733378410339355], [13, 0.046522025911280296, 0.036980472013366766, 0.03771788682848699, 0.03757761921593569, 4.746240601503759, 4.252971649169922], [14, 0.04724858813414601, 0.03707184628237262, 0.03813568024929451, 0.03787215017535044, 4.731203007518797, 4.198103904724121], [15, 0.04517847524251871, 0.035231307435254836, 0.0362827000265909, 0.03677073562923903, 4.74718045112782, 4.196681499481201], [16, 0.044434536262016947, 0.03461779448621553, 0.03569373869413421, 0.03655643711090648, 4.742481203007519, 4.163763523101807], [17, 0.04369985646591857, 0.03346908939014203, 0.034892050996209255, 0.035388154534384944, 4.728383458646617, 4.112249851226807], [18, 0.0421101380973605, 0.031589390142021695, 0.0332681875856204, 0.033963764103871766, 4.732142857142857, 4.120368957519531], [19, 0.0407877198333725, 0.03042763157894732, 0.03198771089671447, 0.0314233491732914, 4.732142857142857, 4.1015305519104]]\n",
      "-----------------------------------------------------------------------------------------\n"
     ]
    },
    {
     "name": "stderr",
     "output_type": "stream",
     "text": [
      "  0%|          | 1/1065 [00:01<25:23,  1.43s/it]"
     ]
    },
    {
     "name": "stdout",
     "output_type": "stream",
     "text": [
      "Epoch 20: 0%, loss: 1.554838\n"
     ]
    },
    {
     "name": "stderr",
     "output_type": "stream",
     "text": [
      "  9%|▉         | 101/1065 [02:18<22:35,  1.41s/it]"
     ]
    },
    {
     "name": "stdout",
     "output_type": "stream",
     "text": [
      "Epoch 20: 9%, loss: 1.866599\n"
     ]
    },
    {
     "name": "stderr",
     "output_type": "stream",
     "text": [
      " 19%|█▉        | 201/1065 [04:31<18:35,  1.29s/it]"
     ]
    },
    {
     "name": "stdout",
     "output_type": "stream",
     "text": [
      "Epoch 20: 19%, loss: 1.688900\n"
     ]
    },
    {
     "name": "stderr",
     "output_type": "stream",
     "text": [
      " 28%|██▊       | 301/1065 [06:44<16:56,  1.33s/it]"
     ]
    },
    {
     "name": "stdout",
     "output_type": "stream",
     "text": [
      "Epoch 20: 28%, loss: 7.775208\n"
     ]
    },
    {
     "name": "stderr",
     "output_type": "stream",
     "text": [
      " 38%|███▊      | 401/1065 [08:58<15:08,  1.37s/it]"
     ]
    },
    {
     "name": "stdout",
     "output_type": "stream",
     "text": [
      "Epoch 20: 38%, loss: 1.712579\n"
     ]
    },
    {
     "name": "stderr",
     "output_type": "stream",
     "text": [
      " 47%|████▋     | 501/1065 [11:14<12:43,  1.35s/it]"
     ]
    },
    {
     "name": "stdout",
     "output_type": "stream",
     "text": [
      "Epoch 20: 47%, loss: 11.625306\n"
     ]
    },
    {
     "name": "stderr",
     "output_type": "stream",
     "text": [
      " 56%|█████▋    | 601/1065 [13:33<10:46,  1.39s/it]"
     ]
    },
    {
     "name": "stdout",
     "output_type": "stream",
     "text": [
      "Epoch 20: 56%, loss: 4.177097\n"
     ]
    },
    {
     "name": "stderr",
     "output_type": "stream",
     "text": [
      " 66%|██████▌   | 701/1065 [15:51<08:19,  1.37s/it]"
     ]
    },
    {
     "name": "stdout",
     "output_type": "stream",
     "text": [
      "Epoch 20: 66%, loss: 6.458762\n"
     ]
    },
    {
     "name": "stderr",
     "output_type": "stream",
     "text": [
      " 75%|███████▌  | 801/1065 [18:10<06:05,  1.38s/it]"
     ]
    },
    {
     "name": "stdout",
     "output_type": "stream",
     "text": [
      "Epoch 20: 75%, loss: 13.007134\n"
     ]
    },
    {
     "name": "stderr",
     "output_type": "stream",
     "text": [
      " 85%|████████▍ | 901/1065 [20:32<04:05,  1.50s/it]"
     ]
    },
    {
     "name": "stdout",
     "output_type": "stream",
     "text": [
      "Epoch 20: 85%, loss: 12.704049\n"
     ]
    },
    {
     "name": "stderr",
     "output_type": "stream",
     "text": [
      " 94%|█████████▍| 1001/1065 [22:55<01:31,  1.43s/it]"
     ]
    },
    {
     "name": "stdout",
     "output_type": "stream",
     "text": [
      "Epoch 20: 94%, loss: 1.176738\n"
     ]
    },
    {
     "name": "stderr",
     "output_type": "stream",
     "text": [
      "100%|██████████| 1065/1065 [24:24<00:00,  1.38s/it]"
     ]
    },
    {
     "name": "stdout",
     "output_type": "stream",
     "text": [
      "Epoch 20: 100%, loss: 1.369325\n"
     ]
    },
    {
     "name": "stderr",
     "output_type": "stream",
     "text": [
      "\n"
     ]
    },
    {
     "name": "stdout",
     "output_type": "stream",
     "text": [
      "                      (F1-score: 0.0318, Precision: 0.0314, Recall: 0.0391)\n",
      "\n",
      "                      (NDCG: 0.0322)\n",
      "\n",
      "                      (MAE: 4.6268)\n",
      "\n",
      "train_loss= tensor(3.9854)\n",
      "--------------------\n"
     ]
    },
    {
     "name": "stderr",
     "output_type": "stream",
     "text": [
      "100%|██████████| 133/133 [02:48<00:00,  1.27s/it]\n"
     ]
    },
    {
     "name": "stdout",
     "output_type": "stream",
     "text": [
      "                      (F1-score: 0.0246, Precision: 0.0247, Recall: 0.0296)\n",
      "\n",
      "                      (NDCG: 0.0262)\n",
      "\n",
      "                      (MAE: 4.9192)\n",
      "\n",
      "val_loss= tensor(4.4202)\n",
      "--------------------\n"
     ]
    },
    {
     "name": "stderr",
     "output_type": "stream",
     "text": [
      "100%|██████████| 133/133 [02:48<00:00,  1.27s/it]\n"
     ]
    },
    {
     "name": "stdout",
     "output_type": "stream",
     "text": [
      "                      (F1-score: 0.0281, Precision: 0.0267, Recall: 0.0358)\n",
      "\n",
      "                      (NDCG: 0.0281)\n",
      "\n",
      "                      (MAE: 4.7321)\n",
      "\n",
      "--------------------\n",
      "[[1, 0.03675763244147688, 0.05795739348370928, 0.041730395569539586, 0.04090449551498532, 4.890037593984962, 7.098834991455078], [2, 0.04689951032155308, 0.039758995703544575, 0.03923609693777799, 0.03886975105099128, 4.514097744360902, 5.113095283508301], [3, 0.047782608443842946, 0.036301691729323335, 0.03759501144478827, 0.03703976002752893, 4.841165413533835, 4.89960241317749], [4, 0.04778260844384295, 0.036236424394319164, 0.037560684733034304, 0.03704010440768408, 4.8580827067669174, 4.8063130378723145], [5, 0.047781289363076594, 0.03664108187134508, 0.037731272253394274, 0.03706005392718668, 4.836466165413534, 4.714582443237305], [6, 0.04778295071342215, 0.03658886800334171, 0.03774827052565744, 0.03721349101769213, 4.843984962406015, 4.63381814956665], [7, 0.04729088064898369, 0.036836883876357605, 0.03772976275201631, 0.03727281740183865, 4.788533834586466, 4.541353225708008], [8, 0.04773210156767817, 0.036849937343358445, 0.03806237322174878, 0.037571937412975875, 4.7819548872180455, 4.473570346832275], [9, 0.04729382823896952, 0.03729375522138685, 0.038036838078068964, 0.03771271079050419, 4.765977443609023, 4.42526388168335], [10, 0.04761523084587247, 0.03695436507936512, 0.03798256484571874, 0.03753528086016921, 4.798872180451128, 4.384585857391357], [11, 0.04729722225418262, 0.03741123642439433, 0.03823785358621425, 0.03785997028007431, 4.767857142857143, 4.336338520050049], [12, 0.04647580410279143, 0.03647138680033419, 0.037462556553096854, 0.03742645742350671, 4.764097744360902, 4.2733378410339355], [13, 0.046522025911280296, 0.036980472013366766, 0.03771788682848699, 0.03757761921593569, 4.746240601503759, 4.252971649169922], [14, 0.04724858813414601, 0.03707184628237262, 0.03813568024929451, 0.03787215017535044, 4.731203007518797, 4.198103904724121], [15, 0.04517847524251871, 0.035231307435254836, 0.0362827000265909, 0.03677073562923903, 4.74718045112782, 4.196681499481201], [16, 0.044434536262016947, 0.03461779448621553, 0.03569373869413421, 0.03655643711090648, 4.742481203007519, 4.163763523101807], [17, 0.04369985646591857, 0.03346908939014203, 0.034892050996209255, 0.035388154534384944, 4.728383458646617, 4.112249851226807], [18, 0.0421101380973605, 0.031589390142021695, 0.0332681875856204, 0.033963764103871766, 4.732142857142857, 4.120368957519531], [19, 0.0407877198333725, 0.03042763157894732, 0.03198771089671447, 0.0314233491732914, 4.732142857142857, 4.1015305519104], [20, 0.03583992180019261, 0.02670739348370923, 0.02814145560684145, 0.028077672556028666, 4.732142857142857, 4.069001197814941]]\n",
      "-----------------------------------------------------------------------------------------\n"
     ]
    },
    {
     "name": "stderr",
     "output_type": "stream",
     "text": [
      "  0%|          | 1/1065 [00:01<23:39,  1.33s/it]"
     ]
    },
    {
     "name": "stdout",
     "output_type": "stream",
     "text": [
      "Epoch 21: 0%, loss: 2.620320\n"
     ]
    },
    {
     "name": "stderr",
     "output_type": "stream",
     "text": [
      "  9%|▉         | 101/1065 [02:13<21:15,  1.32s/it]"
     ]
    },
    {
     "name": "stdout",
     "output_type": "stream",
     "text": [
      "Epoch 21: 9%, loss: 1.738169\n"
     ]
    },
    {
     "name": "stderr",
     "output_type": "stream",
     "text": [
      " 19%|█▉        | 201/1065 [04:27<19:16,  1.34s/it]"
     ]
    },
    {
     "name": "stdout",
     "output_type": "stream",
     "text": [
      "Epoch 21: 19%, loss: 6.437474\n"
     ]
    },
    {
     "name": "stderr",
     "output_type": "stream",
     "text": [
      " 28%|██▊       | 301/1065 [06:43<17:47,  1.40s/it]"
     ]
    },
    {
     "name": "stdout",
     "output_type": "stream",
     "text": [
      "Epoch 21: 28%, loss: 2.184317\n"
     ]
    },
    {
     "name": "stderr",
     "output_type": "stream",
     "text": [
      " 38%|███▊      | 401/1065 [08:59<15:22,  1.39s/it]"
     ]
    },
    {
     "name": "stdout",
     "output_type": "stream",
     "text": [
      "Epoch 21: 38%, loss: 1.667493\n"
     ]
    },
    {
     "name": "stderr",
     "output_type": "stream",
     "text": [
      " 47%|████▋     | 501/1065 [11:20<13:24,  1.43s/it]"
     ]
    },
    {
     "name": "stdout",
     "output_type": "stream",
     "text": [
      "Epoch 21: 47%, loss: 20.048548\n"
     ]
    },
    {
     "name": "stderr",
     "output_type": "stream",
     "text": [
      " 56%|█████▋    | 601/1065 [13:39<10:13,  1.32s/it]"
     ]
    },
    {
     "name": "stdout",
     "output_type": "stream",
     "text": [
      "Epoch 21: 56%, loss: 1.346585\n"
     ]
    },
    {
     "name": "stderr",
     "output_type": "stream",
     "text": [
      " 66%|██████▌   | 701/1065 [15:53<08:03,  1.33s/it]"
     ]
    },
    {
     "name": "stdout",
     "output_type": "stream",
     "text": [
      "Epoch 21: 66%, loss: 3.887113\n"
     ]
    },
    {
     "name": "stderr",
     "output_type": "stream",
     "text": [
      " 75%|███████▌  | 801/1065 [18:09<05:54,  1.34s/it]"
     ]
    },
    {
     "name": "stdout",
     "output_type": "stream",
     "text": [
      "Epoch 21: 75%, loss: 3.337157\n"
     ]
    },
    {
     "name": "stderr",
     "output_type": "stream",
     "text": [
      " 85%|████████▍ | 901/1065 [20:26<03:43,  1.36s/it]"
     ]
    },
    {
     "name": "stdout",
     "output_type": "stream",
     "text": [
      "Epoch 21: 85%, loss: 1.939338\n"
     ]
    },
    {
     "name": "stderr",
     "output_type": "stream",
     "text": [
      " 94%|█████████▍| 1001/1065 [22:45<01:29,  1.40s/it]"
     ]
    },
    {
     "name": "stdout",
     "output_type": "stream",
     "text": [
      "Epoch 21: 94%, loss: 1.744420\n"
     ]
    },
    {
     "name": "stderr",
     "output_type": "stream",
     "text": [
      "100%|██████████| 1065/1065 [24:15<00:00,  1.37s/it]"
     ]
    },
    {
     "name": "stdout",
     "output_type": "stream",
     "text": [
      "Epoch 21: 100%, loss: 1.532601\n"
     ]
    },
    {
     "name": "stderr",
     "output_type": "stream",
     "text": [
      "\n"
     ]
    },
    {
     "name": "stdout",
     "output_type": "stream",
     "text": [
      "                      (F1-score: 0.0297, Precision: 0.0290, Recall: 0.0369)\n",
      "\n",
      "                      (NDCG: 0.0296)\n",
      "\n",
      "                      (MAE: 4.6191)\n",
      "\n",
      "train_loss= tensor(3.9583)\n",
      "--------------------\n"
     ]
    },
    {
     "name": "stderr",
     "output_type": "stream",
     "text": [
      "100%|██████████| 133/133 [02:53<00:00,  1.30s/it]\n"
     ]
    },
    {
     "name": "stdout",
     "output_type": "stream",
     "text": [
      "                      (F1-score: 0.0223, Precision: 0.0222, Recall: 0.0273)\n",
      "\n",
      "                      (NDCG: 0.0232)\n",
      "\n",
      "                      (MAE: 4.9173)\n",
      "\n",
      "val_loss= tensor(4.3910)\n",
      "--------------------\n"
     ]
    },
    {
     "name": "stderr",
     "output_type": "stream",
     "text": [
      "100%|██████████| 133/133 [02:53<00:00,  1.30s/it]\n"
     ]
    },
    {
     "name": "stdout",
     "output_type": "stream",
     "text": [
      "                      (F1-score: 0.0241, Precision: 0.0228, Recall: 0.0307)\n",
      "\n",
      "                      (NDCG: 0.0243)\n",
      "\n",
      "                      (MAE: 4.7321)\n",
      "\n",
      "--------------------\n",
      "[[1, 0.03675763244147688, 0.05795739348370928, 0.041730395569539586, 0.04090449551498532, 4.890037593984962, 7.098834991455078], [2, 0.04689951032155308, 0.039758995703544575, 0.03923609693777799, 0.03886975105099128, 4.514097744360902, 5.113095283508301], [3, 0.047782608443842946, 0.036301691729323335, 0.03759501144478827, 0.03703976002752893, 4.841165413533835, 4.89960241317749], [4, 0.04778260844384295, 0.036236424394319164, 0.037560684733034304, 0.03704010440768408, 4.8580827067669174, 4.8063130378723145], [5, 0.047781289363076594, 0.03664108187134508, 0.037731272253394274, 0.03706005392718668, 4.836466165413534, 4.714582443237305], [6, 0.04778295071342215, 0.03658886800334171, 0.03774827052565744, 0.03721349101769213, 4.843984962406015, 4.63381814956665], [7, 0.04729088064898369, 0.036836883876357605, 0.03772976275201631, 0.03727281740183865, 4.788533834586466, 4.541353225708008], [8, 0.04773210156767817, 0.036849937343358445, 0.03806237322174878, 0.037571937412975875, 4.7819548872180455, 4.473570346832275], [9, 0.04729382823896952, 0.03729375522138685, 0.038036838078068964, 0.03771271079050419, 4.765977443609023, 4.42526388168335], [10, 0.04761523084587247, 0.03695436507936512, 0.03798256484571874, 0.03753528086016921, 4.798872180451128, 4.384585857391357], [11, 0.04729722225418262, 0.03741123642439433, 0.03823785358621425, 0.03785997028007431, 4.767857142857143, 4.336338520050049], [12, 0.04647580410279143, 0.03647138680033419, 0.037462556553096854, 0.03742645742350671, 4.764097744360902, 4.2733378410339355], [13, 0.046522025911280296, 0.036980472013366766, 0.03771788682848699, 0.03757761921593569, 4.746240601503759, 4.252971649169922], [14, 0.04724858813414601, 0.03707184628237262, 0.03813568024929451, 0.03787215017535044, 4.731203007518797, 4.198103904724121], [15, 0.04517847524251871, 0.035231307435254836, 0.0362827000265909, 0.03677073562923903, 4.74718045112782, 4.196681499481201], [16, 0.044434536262016947, 0.03461779448621553, 0.03569373869413421, 0.03655643711090648, 4.742481203007519, 4.163763523101807], [17, 0.04369985646591857, 0.03346908939014203, 0.034892050996209255, 0.035388154534384944, 4.728383458646617, 4.112249851226807], [18, 0.0421101380973605, 0.031589390142021695, 0.0332681875856204, 0.033963764103871766, 4.732142857142857, 4.120368957519531], [19, 0.0407877198333725, 0.03042763157894732, 0.03198771089671447, 0.0314233491732914, 4.732142857142857, 4.1015305519104], [20, 0.03583992180019261, 0.02670739348370923, 0.02814145560684145, 0.028077672556028666, 4.732142857142857, 4.069001197814941], [21, 0.030741767959086907, 0.022835735171261452, 0.02413802189737815, 0.02432832430305898, 4.732142857142857, 4.047623634338379]]\n",
      "-----------------------------------------------------------------------------------------\n"
     ]
    },
    {
     "name": "stderr",
     "output_type": "stream",
     "text": [
      "  0%|          | 1/1065 [00:01<26:20,  1.49s/it]"
     ]
    },
    {
     "name": "stdout",
     "output_type": "stream",
     "text": [
      "Epoch 22: 0%, loss: 5.334034\n"
     ]
    },
    {
     "name": "stderr",
     "output_type": "stream",
     "text": [
      "  9%|▉         | 101/1065 [02:18<22:19,  1.39s/it]"
     ]
    },
    {
     "name": "stdout",
     "output_type": "stream",
     "text": [
      "Epoch 22: 9%, loss: 1.395260\n"
     ]
    },
    {
     "name": "stderr",
     "output_type": "stream",
     "text": [
      " 19%|█▉        | 201/1065 [04:34<18:38,  1.30s/it]"
     ]
    },
    {
     "name": "stdout",
     "output_type": "stream",
     "text": [
      "Epoch 22: 19%, loss: 4.231441\n"
     ]
    },
    {
     "name": "stderr",
     "output_type": "stream",
     "text": [
      " 28%|██▊       | 301/1065 [06:45<16:48,  1.32s/it]"
     ]
    },
    {
     "name": "stdout",
     "output_type": "stream",
     "text": [
      "Epoch 22: 28%, loss: 3.302526\n"
     ]
    },
    {
     "name": "stderr",
     "output_type": "stream",
     "text": [
      " 38%|███▊      | 401/1065 [08:57<14:47,  1.34s/it]"
     ]
    },
    {
     "name": "stdout",
     "output_type": "stream",
     "text": [
      "Epoch 22: 38%, loss: 1.275260\n"
     ]
    },
    {
     "name": "stderr",
     "output_type": "stream",
     "text": [
      " 47%|████▋     | 501/1065 [11:12<12:29,  1.33s/it]"
     ]
    },
    {
     "name": "stdout",
     "output_type": "stream",
     "text": [
      "Epoch 22: 47%, loss: 2.279539\n"
     ]
    },
    {
     "name": "stderr",
     "output_type": "stream",
     "text": [
      " 56%|█████▋    | 601/1065 [13:28<10:34,  1.37s/it]"
     ]
    },
    {
     "name": "stdout",
     "output_type": "stream",
     "text": [
      "Epoch 22: 56%, loss: 1.458569\n"
     ]
    },
    {
     "name": "stderr",
     "output_type": "stream",
     "text": [
      " 66%|██████▌   | 701/1065 [15:45<08:06,  1.34s/it]"
     ]
    },
    {
     "name": "stdout",
     "output_type": "stream",
     "text": [
      "Epoch 22: 66%, loss: 1.107807\n"
     ]
    },
    {
     "name": "stderr",
     "output_type": "stream",
     "text": [
      " 75%|███████▌  | 801/1065 [18:04<06:03,  1.38s/it]"
     ]
    },
    {
     "name": "stdout",
     "output_type": "stream",
     "text": [
      "Epoch 22: 75%, loss: 3.109229\n"
     ]
    },
    {
     "name": "stderr",
     "output_type": "stream",
     "text": [
      " 85%|████████▍ | 901/1065 [20:25<03:49,  1.40s/it]"
     ]
    },
    {
     "name": "stdout",
     "output_type": "stream",
     "text": [
      "Epoch 22: 85%, loss: 1.224454\n"
     ]
    },
    {
     "name": "stderr",
     "output_type": "stream",
     "text": [
      " 94%|█████████▍| 1001/1065 [22:48<01:31,  1.43s/it]"
     ]
    },
    {
     "name": "stdout",
     "output_type": "stream",
     "text": [
      "Epoch 22: 94%, loss: 4.612717\n"
     ]
    },
    {
     "name": "stderr",
     "output_type": "stream",
     "text": [
      "100%|██████████| 1065/1065 [24:20<00:00,  1.37s/it]"
     ]
    },
    {
     "name": "stdout",
     "output_type": "stream",
     "text": [
      "Epoch 22: 100%, loss: 1.516368\n"
     ]
    },
    {
     "name": "stderr",
     "output_type": "stream",
     "text": [
      "\n"
     ]
    },
    {
     "name": "stdout",
     "output_type": "stream",
     "text": [
      "                      (F1-score: 0.0262, Precision: 0.0259, Recall: 0.0324)\n",
      "\n",
      "                      (NDCG: 0.0265)\n",
      "\n",
      "                      (MAE: 4.6189)\n",
      "\n",
      "train_loss= tensor(3.9478)\n",
      "--------------------\n"
     ]
    },
    {
     "name": "stderr",
     "output_type": "stream",
     "text": [
      "100%|██████████| 133/133 [02:49<00:00,  1.27s/it]\n"
     ]
    },
    {
     "name": "stdout",
     "output_type": "stream",
     "text": [
      "                      (F1-score: 0.0209, Precision: 0.0206, Recall: 0.0254)\n",
      "\n",
      "                      (NDCG: 0.0222)\n",
      "\n",
      "                      (MAE: 4.9079)\n",
      "\n",
      "val_loss= tensor(4.3735)\n",
      "--------------------\n"
     ]
    },
    {
     "name": "stderr",
     "output_type": "stream",
     "text": [
      "100%|██████████| 133/133 [02:49<00:00,  1.28s/it]\n"
     ]
    },
    {
     "name": "stdout",
     "output_type": "stream",
     "text": [
      "                      (F1-score: 0.0230, Precision: 0.0217, Recall: 0.0294)\n",
      "\n",
      "                      (NDCG: 0.0228)\n",
      "\n",
      "                      (MAE: 4.7453)\n",
      "\n",
      "--------------------\n",
      "[[1, 0.03675763244147688, 0.05795739348370928, 0.041730395569539586, 0.04090449551498532, 4.890037593984962, 7.098834991455078], [2, 0.04689951032155308, 0.039758995703544575, 0.03923609693777799, 0.03886975105099128, 4.514097744360902, 5.113095283508301], [3, 0.047782608443842946, 0.036301691729323335, 0.03759501144478827, 0.03703976002752893, 4.841165413533835, 4.89960241317749], [4, 0.04778260844384295, 0.036236424394319164, 0.037560684733034304, 0.03704010440768408, 4.8580827067669174, 4.8063130378723145], [5, 0.047781289363076594, 0.03664108187134508, 0.037731272253394274, 0.03706005392718668, 4.836466165413534, 4.714582443237305], [6, 0.04778295071342215, 0.03658886800334171, 0.03774827052565744, 0.03721349101769213, 4.843984962406015, 4.63381814956665], [7, 0.04729088064898369, 0.036836883876357605, 0.03772976275201631, 0.03727281740183865, 4.788533834586466, 4.541353225708008], [8, 0.04773210156767817, 0.036849937343358445, 0.03806237322174878, 0.037571937412975875, 4.7819548872180455, 4.473570346832275], [9, 0.04729382823896952, 0.03729375522138685, 0.038036838078068964, 0.03771271079050419, 4.765977443609023, 4.42526388168335], [10, 0.04761523084587247, 0.03695436507936512, 0.03798256484571874, 0.03753528086016921, 4.798872180451128, 4.384585857391357], [11, 0.04729722225418262, 0.03741123642439433, 0.03823785358621425, 0.03785997028007431, 4.767857142857143, 4.336338520050049], [12, 0.04647580410279143, 0.03647138680033419, 0.037462556553096854, 0.03742645742350671, 4.764097744360902, 4.2733378410339355], [13, 0.046522025911280296, 0.036980472013366766, 0.03771788682848699, 0.03757761921593569, 4.746240601503759, 4.252971649169922], [14, 0.04724858813414601, 0.03707184628237262, 0.03813568024929451, 0.03787215017535044, 4.731203007518797, 4.198103904724121], [15, 0.04517847524251871, 0.035231307435254836, 0.0362827000265909, 0.03677073562923903, 4.74718045112782, 4.196681499481201], [16, 0.044434536262016947, 0.03461779448621553, 0.03569373869413421, 0.03655643711090648, 4.742481203007519, 4.163763523101807], [17, 0.04369985646591857, 0.03346908939014203, 0.034892050996209255, 0.035388154534384944, 4.728383458646617, 4.112249851226807], [18, 0.0421101380973605, 0.031589390142021695, 0.0332681875856204, 0.033963764103871766, 4.732142857142857, 4.120368957519531], [19, 0.0407877198333725, 0.03042763157894732, 0.03198771089671447, 0.0314233491732914, 4.732142857142857, 4.1015305519104], [20, 0.03583992180019261, 0.02670739348370923, 0.02814145560684145, 0.028077672556028666, 4.732142857142857, 4.069001197814941], [21, 0.030741767959086907, 0.022835735171261452, 0.02413802189737815, 0.02432832430305898, 4.732142857142857, 4.047623634338379], [22, 0.029409936371373676, 0.021749686716791942, 0.022994085363665904, 0.022779825612678564, 4.745300751879699, 4.041375160217285]]\n",
      "-----------------------------------------------------------------------------------------\n"
     ]
    },
    {
     "name": "stderr",
     "output_type": "stream",
     "text": [
      "  0%|          | 1/1065 [00:01<23:47,  1.34s/it]"
     ]
    },
    {
     "name": "stdout",
     "output_type": "stream",
     "text": [
      "Epoch 23: 0%, loss: 3.232915\n"
     ]
    },
    {
     "name": "stderr",
     "output_type": "stream",
     "text": [
      "  9%|▉         | 101/1065 [02:15<21:32,  1.34s/it]"
     ]
    },
    {
     "name": "stdout",
     "output_type": "stream",
     "text": [
      "Epoch 23: 9%, loss: 1.631698\n"
     ]
    },
    {
     "name": "stderr",
     "output_type": "stream",
     "text": [
      " 19%|█▉        | 201/1065 [04:29<19:33,  1.36s/it]"
     ]
    },
    {
     "name": "stdout",
     "output_type": "stream",
     "text": [
      "Epoch 23: 19%, loss: 1.739553\n"
     ]
    },
    {
     "name": "stderr",
     "output_type": "stream",
     "text": [
      " 28%|██▊       | 301/1065 [06:45<17:03,  1.34s/it]"
     ]
    },
    {
     "name": "stdout",
     "output_type": "stream",
     "text": [
      "Epoch 23: 28%, loss: 3.943378\n"
     ]
    },
    {
     "name": "stderr",
     "output_type": "stream",
     "text": [
      " 38%|███▊      | 401/1065 [09:03<15:28,  1.40s/it]"
     ]
    },
    {
     "name": "stdout",
     "output_type": "stream",
     "text": [
      "Epoch 23: 38%, loss: 2.494577\n"
     ]
    },
    {
     "name": "stderr",
     "output_type": "stream",
     "text": [
      " 47%|████▋     | 501/1065 [11:22<12:45,  1.36s/it]"
     ]
    },
    {
     "name": "stdout",
     "output_type": "stream",
     "text": [
      "Epoch 23: 47%, loss: 1.672661\n"
     ]
    },
    {
     "name": "stderr",
     "output_type": "stream",
     "text": [
      " 56%|█████▋    | 601/1065 [13:43<10:51,  1.40s/it]"
     ]
    },
    {
     "name": "stdout",
     "output_type": "stream",
     "text": [
      "Epoch 23: 56%, loss: 10.304298\n"
     ]
    },
    {
     "name": "stderr",
     "output_type": "stream",
     "text": [
      " 66%|██████▌   | 701/1065 [16:00<08:05,  1.33s/it]"
     ]
    },
    {
     "name": "stdout",
     "output_type": "stream",
     "text": [
      "Epoch 23: 66%, loss: 10.718453\n"
     ]
    },
    {
     "name": "stderr",
     "output_type": "stream",
     "text": [
      " 75%|███████▌  | 801/1065 [18:16<06:00,  1.37s/it]"
     ]
    },
    {
     "name": "stdout",
     "output_type": "stream",
     "text": [
      "Epoch 23: 75%, loss: 1.145028\n"
     ]
    },
    {
     "name": "stderr",
     "output_type": "stream",
     "text": [
      " 85%|████████▍ | 901/1065 [20:33<04:04,  1.49s/it]"
     ]
    },
    {
     "name": "stdout",
     "output_type": "stream",
     "text": [
      "Epoch 23: 85%, loss: 1.365710\n"
     ]
    },
    {
     "name": "stderr",
     "output_type": "stream",
     "text": [
      " 94%|█████████▍| 1001/1065 [22:53<01:30,  1.42s/it]"
     ]
    },
    {
     "name": "stdout",
     "output_type": "stream",
     "text": [
      "Epoch 23: 94%, loss: 6.955997\n"
     ]
    },
    {
     "name": "stderr",
     "output_type": "stream",
     "text": [
      "100%|██████████| 1065/1065 [24:23<00:00,  1.37s/it]"
     ]
    },
    {
     "name": "stdout",
     "output_type": "stream",
     "text": [
      "Epoch 23: 100%, loss: 6.020148\n"
     ]
    },
    {
     "name": "stderr",
     "output_type": "stream",
     "text": [
      "\n"
     ]
    },
    {
     "name": "stdout",
     "output_type": "stream",
     "text": [
      "                      (F1-score: 0.0244, Precision: 0.0238, Recall: 0.0304)\n",
      "\n",
      "                      (NDCG: 0.0246)\n",
      "\n",
      "                      (MAE: 4.6195)\n",
      "\n",
      "train_loss= tensor(3.9067)\n",
      "--------------------\n"
     ]
    },
    {
     "name": "stderr",
     "output_type": "stream",
     "text": [
      "100%|██████████| 133/133 [02:53<00:00,  1.30s/it]\n"
     ]
    },
    {
     "name": "stdout",
     "output_type": "stream",
     "text": [
      "                      (F1-score: 0.0193, Precision: 0.0192, Recall: 0.0232)\n",
      "\n",
      "                      (NDCG: 0.0204)\n",
      "\n",
      "                      (MAE: 4.9060)\n",
      "\n",
      "val_loss= tensor(4.3539)\n",
      "--------------------\n"
     ]
    },
    {
     "name": "stderr",
     "output_type": "stream",
     "text": [
      "100%|██████████| 133/133 [02:53<00:00,  1.31s/it]\n"
     ]
    },
    {
     "name": "stdout",
     "output_type": "stream",
     "text": [
      "                      (F1-score: 0.0217, Precision: 0.0204, Recall: 0.0281)\n",
      "\n",
      "                      (NDCG: 0.0215)\n",
      "\n",
      "                      (MAE: 4.7303)\n",
      "\n",
      "--------------------\n",
      "[[1, 0.03675763244147688, 0.05795739348370928, 0.041730395569539586, 0.04090449551498532, 4.890037593984962, 7.098834991455078], [2, 0.04689951032155308, 0.039758995703544575, 0.03923609693777799, 0.03886975105099128, 4.514097744360902, 5.113095283508301], [3, 0.047782608443842946, 0.036301691729323335, 0.03759501144478827, 0.03703976002752893, 4.841165413533835, 4.89960241317749], [4, 0.04778260844384295, 0.036236424394319164, 0.037560684733034304, 0.03704010440768408, 4.8580827067669174, 4.8063130378723145], [5, 0.047781289363076594, 0.03664108187134508, 0.037731272253394274, 0.03706005392718668, 4.836466165413534, 4.714582443237305], [6, 0.04778295071342215, 0.03658886800334171, 0.03774827052565744, 0.03721349101769213, 4.843984962406015, 4.63381814956665], [7, 0.04729088064898369, 0.036836883876357605, 0.03772976275201631, 0.03727281740183865, 4.788533834586466, 4.541353225708008], [8, 0.04773210156767817, 0.036849937343358445, 0.03806237322174878, 0.037571937412975875, 4.7819548872180455, 4.473570346832275], [9, 0.04729382823896952, 0.03729375522138685, 0.038036838078068964, 0.03771271079050419, 4.765977443609023, 4.42526388168335], [10, 0.04761523084587247, 0.03695436507936512, 0.03798256484571874, 0.03753528086016921, 4.798872180451128, 4.384585857391357], [11, 0.04729722225418262, 0.03741123642439433, 0.03823785358621425, 0.03785997028007431, 4.767857142857143, 4.336338520050049], [12, 0.04647580410279143, 0.03647138680033419, 0.037462556553096854, 0.03742645742350671, 4.764097744360902, 4.2733378410339355], [13, 0.046522025911280296, 0.036980472013366766, 0.03771788682848699, 0.03757761921593569, 4.746240601503759, 4.252971649169922], [14, 0.04724858813414601, 0.03707184628237262, 0.03813568024929451, 0.03787215017535044, 4.731203007518797, 4.198103904724121], [15, 0.04517847524251871, 0.035231307435254836, 0.0362827000265909, 0.03677073562923903, 4.74718045112782, 4.196681499481201], [16, 0.044434536262016947, 0.03461779448621553, 0.03569373869413421, 0.03655643711090648, 4.742481203007519, 4.163763523101807], [17, 0.04369985646591857, 0.03346908939014203, 0.034892050996209255, 0.035388154534384944, 4.728383458646617, 4.112249851226807], [18, 0.0421101380973605, 0.031589390142021695, 0.0332681875856204, 0.033963764103871766, 4.732142857142857, 4.120368957519531], [19, 0.0407877198333725, 0.03042763157894732, 0.03198771089671447, 0.0314233491732914, 4.732142857142857, 4.1015305519104], [20, 0.03583992180019261, 0.02670739348370923, 0.02814145560684145, 0.028077672556028666, 4.732142857142857, 4.069001197814941], [21, 0.030741767959086907, 0.022835735171261452, 0.02413802189737815, 0.02432832430305898, 4.732142857142857, 4.047623634338379], [22, 0.029409936371373676, 0.021749686716791942, 0.022994085363665904, 0.022779825612678564, 4.745300751879699, 4.041375160217285], [23, 0.028068930283346765, 0.02039212614870506, 0.021665762434673053, 0.021458427188917994, 4.730263157894737, 4.018987655639648]]\n",
      "-----------------------------------------------------------------------------------------\n"
     ]
    },
    {
     "name": "stderr",
     "output_type": "stream",
     "text": [
      "  0%|          | 1/1065 [00:01<26:11,  1.48s/it]"
     ]
    },
    {
     "name": "stdout",
     "output_type": "stream",
     "text": [
      "Epoch 24: 0%, loss: 2.969677\n"
     ]
    },
    {
     "name": "stderr",
     "output_type": "stream",
     "text": [
      "  9%|▉         | 101/1065 [02:18<21:58,  1.37s/it]"
     ]
    },
    {
     "name": "stdout",
     "output_type": "stream",
     "text": [
      "Epoch 24: 9%, loss: 1.503317\n"
     ]
    },
    {
     "name": "stderr",
     "output_type": "stream",
     "text": [
      " 19%|█▉        | 201/1065 [04:35<19:31,  1.36s/it]"
     ]
    },
    {
     "name": "stdout",
     "output_type": "stream",
     "text": [
      "Epoch 24: 19%, loss: 1.551315\n"
     ]
    },
    {
     "name": "stderr",
     "output_type": "stream",
     "text": [
      " 28%|██▊       | 301/1065 [06:49<16:44,  1.31s/it]"
     ]
    },
    {
     "name": "stdout",
     "output_type": "stream",
     "text": [
      "Epoch 24: 28%, loss: 6.885766\n"
     ]
    },
    {
     "name": "stderr",
     "output_type": "stream",
     "text": [
      " 38%|███▊      | 401/1065 [09:02<14:57,  1.35s/it]"
     ]
    },
    {
     "name": "stdout",
     "output_type": "stream",
     "text": [
      "Epoch 24: 38%, loss: 3.785533\n"
     ]
    },
    {
     "name": "stderr",
     "output_type": "stream",
     "text": [
      " 47%|████▋     | 501/1065 [11:16<12:31,  1.33s/it]"
     ]
    },
    {
     "name": "stdout",
     "output_type": "stream",
     "text": [
      "Epoch 24: 47%, loss: 3.730210\n"
     ]
    },
    {
     "name": "stderr",
     "output_type": "stream",
     "text": [
      " 56%|█████▋    | 601/1065 [13:33<10:53,  1.41s/it]"
     ]
    },
    {
     "name": "stdout",
     "output_type": "stream",
     "text": [
      "Epoch 24: 56%, loss: 16.196577\n"
     ]
    },
    {
     "name": "stderr",
     "output_type": "stream",
     "text": [
      " 66%|██████▌   | 701/1065 [15:51<08:36,  1.42s/it]"
     ]
    },
    {
     "name": "stdout",
     "output_type": "stream",
     "text": [
      "Epoch 24: 66%, loss: 1.434736\n"
     ]
    },
    {
     "name": "stderr",
     "output_type": "stream",
     "text": [
      " 75%|███████▌  | 801/1065 [18:12<06:15,  1.42s/it]"
     ]
    },
    {
     "name": "stdout",
     "output_type": "stream",
     "text": [
      "Epoch 24: 75%, loss: 3.306279\n"
     ]
    },
    {
     "name": "stderr",
     "output_type": "stream",
     "text": [
      " 85%|████████▍ | 901/1065 [20:34<03:56,  1.44s/it]"
     ]
    },
    {
     "name": "stdout",
     "output_type": "stream",
     "text": [
      "Epoch 24: 85%, loss: 2.308361\n"
     ]
    },
    {
     "name": "stderr",
     "output_type": "stream",
     "text": [
      " 94%|█████████▍| 1001/1065 [22:58<01:31,  1.43s/it]"
     ]
    },
    {
     "name": "stdout",
     "output_type": "stream",
     "text": [
      "Epoch 24: 94%, loss: 2.273197\n"
     ]
    },
    {
     "name": "stderr",
     "output_type": "stream",
     "text": [
      "100%|██████████| 1065/1065 [24:30<00:00,  1.38s/it]"
     ]
    },
    {
     "name": "stdout",
     "output_type": "stream",
     "text": [
      "Epoch 24: 100%, loss: 1.008490\n"
     ]
    },
    {
     "name": "stderr",
     "output_type": "stream",
     "text": [
      "\n"
     ]
    },
    {
     "name": "stdout",
     "output_type": "stream",
     "text": [
      "                      (F1-score: 0.0221, Precision: 0.0214, Recall: 0.0276)\n",
      "\n",
      "                      (NDCG: 0.0221)\n",
      "\n",
      "                      (MAE: 4.6221)\n",
      "\n",
      "train_loss= tensor(3.9017)\n",
      "--------------------\n"
     ]
    },
    {
     "name": "stderr",
     "output_type": "stream",
     "text": [
      "100%|██████████| 133/133 [02:52<00:00,  1.30s/it]\n"
     ]
    },
    {
     "name": "stdout",
     "output_type": "stream",
     "text": [
      "                      (F1-score: 0.0184, Precision: 0.0184, Recall: 0.0221)\n",
      "\n",
      "                      (NDCG: 0.0194)\n",
      "\n",
      "                      (MAE: 4.8976)\n",
      "\n",
      "val_loss= tensor(4.3309)\n",
      "--------------------\n"
     ]
    },
    {
     "name": "stderr",
     "output_type": "stream",
     "text": [
      "100%|██████████| 133/133 [02:48<00:00,  1.27s/it]\n"
     ]
    },
    {
     "name": "stdout",
     "output_type": "stream",
     "text": [
      "                      (F1-score: 0.0212, Precision: 0.0200, Recall: 0.0273)\n",
      "\n",
      "                      (NDCG: 0.0208)\n",
      "\n",
      "                      (MAE: 4.7190)\n",
      "\n",
      "--------------------\n",
      "[[1, 0.03675763244147688, 0.05795739348370928, 0.041730395569539586, 0.04090449551498532, 4.890037593984962, 7.098834991455078], [2, 0.04689951032155308, 0.039758995703544575, 0.03923609693777799, 0.03886975105099128, 4.514097744360902, 5.113095283508301], [3, 0.047782608443842946, 0.036301691729323335, 0.03759501144478827, 0.03703976002752893, 4.841165413533835, 4.89960241317749], [4, 0.04778260844384295, 0.036236424394319164, 0.037560684733034304, 0.03704010440768408, 4.8580827067669174, 4.8063130378723145], [5, 0.047781289363076594, 0.03664108187134508, 0.037731272253394274, 0.03706005392718668, 4.836466165413534, 4.714582443237305], [6, 0.04778295071342215, 0.03658886800334171, 0.03774827052565744, 0.03721349101769213, 4.843984962406015, 4.63381814956665], [7, 0.04729088064898369, 0.036836883876357605, 0.03772976275201631, 0.03727281740183865, 4.788533834586466, 4.541353225708008], [8, 0.04773210156767817, 0.036849937343358445, 0.03806237322174878, 0.037571937412975875, 4.7819548872180455, 4.473570346832275], [9, 0.04729382823896952, 0.03729375522138685, 0.038036838078068964, 0.03771271079050419, 4.765977443609023, 4.42526388168335], [10, 0.04761523084587247, 0.03695436507936512, 0.03798256484571874, 0.03753528086016921, 4.798872180451128, 4.384585857391357], [11, 0.04729722225418262, 0.03741123642439433, 0.03823785358621425, 0.03785997028007431, 4.767857142857143, 4.336338520050049], [12, 0.04647580410279143, 0.03647138680033419, 0.037462556553096854, 0.03742645742350671, 4.764097744360902, 4.2733378410339355], [13, 0.046522025911280296, 0.036980472013366766, 0.03771788682848699, 0.03757761921593569, 4.746240601503759, 4.252971649169922], [14, 0.04724858813414601, 0.03707184628237262, 0.03813568024929451, 0.03787215017535044, 4.731203007518797, 4.198103904724121], [15, 0.04517847524251871, 0.035231307435254836, 0.0362827000265909, 0.03677073562923903, 4.74718045112782, 4.196681499481201], [16, 0.044434536262016947, 0.03461779448621553, 0.03569373869413421, 0.03655643711090648, 4.742481203007519, 4.163763523101807], [17, 0.04369985646591857, 0.03346908939014203, 0.034892050996209255, 0.035388154534384944, 4.728383458646617, 4.112249851226807], [18, 0.0421101380973605, 0.031589390142021695, 0.0332681875856204, 0.033963764103871766, 4.732142857142857, 4.120368957519531], [19, 0.0407877198333725, 0.03042763157894732, 0.03198771089671447, 0.0314233491732914, 4.732142857142857, 4.1015305519104], [20, 0.03583992180019261, 0.02670739348370923, 0.02814145560684145, 0.028077672556028666, 4.732142857142857, 4.069001197814941], [21, 0.030741767959086907, 0.022835735171261452, 0.02413802189737815, 0.02432832430305898, 4.732142857142857, 4.047623634338379], [22, 0.029409936371373676, 0.021749686716791942, 0.022994085363665904, 0.022779825612678564, 4.745300751879699, 4.041375160217285], [23, 0.028068930283346765, 0.02039212614870506, 0.021665762434673053, 0.021458427188917994, 4.730263157894737, 4.018987655639648], [24, 0.027271522623467447, 0.020009100131280554, 0.021159020907541255, 0.020830977765871284, 4.718984962406015, 3.988851308822632]]\n",
      "-----------------------------------------------------------------------------------------\n"
     ]
    },
    {
     "name": "stderr",
     "output_type": "stream",
     "text": [
      "  0%|          | 1/1065 [00:01<24:54,  1.40s/it]"
     ]
    },
    {
     "name": "stdout",
     "output_type": "stream",
     "text": [
      "Epoch 25: 0%, loss: 7.558558\n"
     ]
    },
    {
     "name": "stderr",
     "output_type": "stream",
     "text": [
      "  9%|▉         | 101/1065 [02:14<21:41,  1.35s/it]"
     ]
    },
    {
     "name": "stdout",
     "output_type": "stream",
     "text": [
      "Epoch 25: 9%, loss: 1.323634\n"
     ]
    },
    {
     "name": "stderr",
     "output_type": "stream",
     "text": [
      " 19%|█▉        | 201/1065 [04:27<19:15,  1.34s/it]"
     ]
    },
    {
     "name": "stdout",
     "output_type": "stream",
     "text": [
      "Epoch 25: 19%, loss: 8.309691\n"
     ]
    },
    {
     "name": "stderr",
     "output_type": "stream",
     "text": [
      " 28%|██▊       | 301/1065 [06:43<16:59,  1.33s/it]"
     ]
    },
    {
     "name": "stdout",
     "output_type": "stream",
     "text": [
      "Epoch 25: 28%, loss: 7.058669\n"
     ]
    },
    {
     "name": "stderr",
     "output_type": "stream",
     "text": [
      " 38%|███▊      | 401/1065 [09:00<15:20,  1.39s/it]"
     ]
    },
    {
     "name": "stdout",
     "output_type": "stream",
     "text": [
      "Epoch 25: 38%, loss: 3.088244\n"
     ]
    },
    {
     "name": "stderr",
     "output_type": "stream",
     "text": [
      " 47%|████▋     | 501/1065 [11:20<13:04,  1.39s/it]"
     ]
    },
    {
     "name": "stdout",
     "output_type": "stream",
     "text": [
      "Epoch 25: 47%, loss: 2.697622\n"
     ]
    },
    {
     "name": "stderr",
     "output_type": "stream",
     "text": [
      " 56%|█████▋    | 601/1065 [13:39<10:56,  1.41s/it]"
     ]
    },
    {
     "name": "stdout",
     "output_type": "stream",
     "text": [
      "Epoch 25: 56%, loss: 0.803691\n"
     ]
    },
    {
     "name": "stderr",
     "output_type": "stream",
     "text": [
      " 66%|██████▌   | 701/1065 [16:01<08:14,  1.36s/it]"
     ]
    },
    {
     "name": "stdout",
     "output_type": "stream",
     "text": [
      "Epoch 25: 66%, loss: 1.413749\n"
     ]
    },
    {
     "name": "stderr",
     "output_type": "stream",
     "text": [
      " 75%|███████▌  | 801/1065 [18:16<05:54,  1.34s/it]"
     ]
    },
    {
     "name": "stdout",
     "output_type": "stream",
     "text": [
      "Epoch 25: 75%, loss: 2.891538\n"
     ]
    },
    {
     "name": "stderr",
     "output_type": "stream",
     "text": [
      " 85%|████████▍ | 901/1065 [20:34<03:49,  1.40s/it]"
     ]
    },
    {
     "name": "stdout",
     "output_type": "stream",
     "text": [
      "Epoch 25: 85%, loss: 1.344844\n"
     ]
    },
    {
     "name": "stderr",
     "output_type": "stream",
     "text": [
      " 94%|█████████▍| 1001/1065 [22:54<01:27,  1.37s/it]"
     ]
    },
    {
     "name": "stdout",
     "output_type": "stream",
     "text": [
      "Epoch 25: 94%, loss: 3.439214\n"
     ]
    },
    {
     "name": "stderr",
     "output_type": "stream",
     "text": [
      "100%|██████████| 1065/1065 [24:24<00:00,  1.38s/it]"
     ]
    },
    {
     "name": "stdout",
     "output_type": "stream",
     "text": [
      "Epoch 25: 100%, loss: 2.871006\n"
     ]
    },
    {
     "name": "stderr",
     "output_type": "stream",
     "text": [
      "\n"
     ]
    },
    {
     "name": "stdout",
     "output_type": "stream",
     "text": [
      "                      (F1-score: 0.0196, Precision: 0.0190, Recall: 0.0246)\n",
      "\n",
      "                      (NDCG: 0.0195)\n",
      "\n",
      "                      (MAE: 4.6131)\n",
      "\n",
      "train_loss= tensor(3.8845)\n",
      "--------------------\n"
     ]
    },
    {
     "name": "stderr",
     "output_type": "stream",
     "text": [
      "100%|██████████| 133/133 [02:52<00:00,  1.30s/it]\n"
     ]
    },
    {
     "name": "stdout",
     "output_type": "stream",
     "text": [
      "                      (F1-score: 0.0170, Precision: 0.0168, Recall: 0.0207)\n",
      "\n",
      "                      (NDCG: 0.0186)\n",
      "\n",
      "                      (MAE: 4.8985)\n",
      "\n",
      "val_loss= tensor(4.3024)\n",
      "--------------------\n"
     ]
    },
    {
     "name": "stderr",
     "output_type": "stream",
     "text": [
      "100%|██████████| 133/133 [02:53<00:00,  1.31s/it]\n"
     ]
    },
    {
     "name": "stdout",
     "output_type": "stream",
     "text": [
      "                      (F1-score: 0.0190, Precision: 0.0179, Recall: 0.0247)\n",
      "\n",
      "                      (NDCG: 0.0189)\n",
      "\n",
      "                      (MAE: 4.7133)\n",
      "\n",
      "--------------------\n",
      "[[1, 0.03675763244147688, 0.05795739348370928, 0.041730395569539586, 0.04090449551498532, 4.890037593984962, 7.098834991455078], [2, 0.04689951032155308, 0.039758995703544575, 0.03923609693777799, 0.03886975105099128, 4.514097744360902, 5.113095283508301], [3, 0.047782608443842946, 0.036301691729323335, 0.03759501144478827, 0.03703976002752893, 4.841165413533835, 4.89960241317749], [4, 0.04778260844384295, 0.036236424394319164, 0.037560684733034304, 0.03704010440768408, 4.8580827067669174, 4.8063130378723145], [5, 0.047781289363076594, 0.03664108187134508, 0.037731272253394274, 0.03706005392718668, 4.836466165413534, 4.714582443237305], [6, 0.04778295071342215, 0.03658886800334171, 0.03774827052565744, 0.03721349101769213, 4.843984962406015, 4.63381814956665], [7, 0.04729088064898369, 0.036836883876357605, 0.03772976275201631, 0.03727281740183865, 4.788533834586466, 4.541353225708008], [8, 0.04773210156767817, 0.036849937343358445, 0.03806237322174878, 0.037571937412975875, 4.7819548872180455, 4.473570346832275], [9, 0.04729382823896952, 0.03729375522138685, 0.038036838078068964, 0.03771271079050419, 4.765977443609023, 4.42526388168335], [10, 0.04761523084587247, 0.03695436507936512, 0.03798256484571874, 0.03753528086016921, 4.798872180451128, 4.384585857391357], [11, 0.04729722225418262, 0.03741123642439433, 0.03823785358621425, 0.03785997028007431, 4.767857142857143, 4.336338520050049], [12, 0.04647580410279143, 0.03647138680033419, 0.037462556553096854, 0.03742645742350671, 4.764097744360902, 4.2733378410339355], [13, 0.046522025911280296, 0.036980472013366766, 0.03771788682848699, 0.03757761921593569, 4.746240601503759, 4.252971649169922], [14, 0.04724858813414601, 0.03707184628237262, 0.03813568024929451, 0.03787215017535044, 4.731203007518797, 4.198103904724121], [15, 0.04517847524251871, 0.035231307435254836, 0.0362827000265909, 0.03677073562923903, 4.74718045112782, 4.196681499481201], [16, 0.044434536262016947, 0.03461779448621553, 0.03569373869413421, 0.03655643711090648, 4.742481203007519, 4.163763523101807], [17, 0.04369985646591857, 0.03346908939014203, 0.034892050996209255, 0.035388154534384944, 4.728383458646617, 4.112249851226807], [18, 0.0421101380973605, 0.031589390142021695, 0.0332681875856204, 0.033963764103871766, 4.732142857142857, 4.120368957519531], [19, 0.0407877198333725, 0.03042763157894732, 0.03198771089671447, 0.0314233491732914, 4.732142857142857, 4.1015305519104], [20, 0.03583992180019261, 0.02670739348370923, 0.02814145560684145, 0.028077672556028666, 4.732142857142857, 4.069001197814941], [21, 0.030741767959086907, 0.022835735171261452, 0.02413802189737815, 0.02432832430305898, 4.732142857142857, 4.047623634338379], [22, 0.029409936371373676, 0.021749686716791942, 0.022994085363665904, 0.022779825612678564, 4.745300751879699, 4.041375160217285], [23, 0.028068930283346765, 0.02039212614870506, 0.021665762434673053, 0.021458427188917994, 4.730263157894737, 4.018987655639648], [24, 0.027271522623467447, 0.020009100131280554, 0.021159020907541255, 0.020830977765871284, 4.718984962406015, 3.988851308822632], [25, 0.02474162299250011, 0.017936582527747918, 0.01902286532147179, 0.018855368436657284, 4.713345864661654, 3.963657855987549]]\n",
      "-----------------------------------------------------------------------------------------\n"
     ]
    },
    {
     "data": {
      "text/html": [
       "<div>\n",
       "<style scoped>\n",
       "    .dataframe tbody tr th:only-of-type {\n",
       "        vertical-align: middle;\n",
       "    }\n",
       "\n",
       "    .dataframe tbody tr th {\n",
       "        vertical-align: top;\n",
       "    }\n",
       "\n",
       "    .dataframe thead th {\n",
       "        text-align: right;\n",
       "    }\n",
       "</style>\n",
       "<table border=\"1\" class=\"dataframe\">\n",
       "  <thead>\n",
       "    <tr style=\"text-align: right;\">\n",
       "      <th></th>\n",
       "      <th>Epoch</th>\n",
       "      <th>Recall</th>\n",
       "      <th>Precision</th>\n",
       "      <th>F1-score</th>\n",
       "      <th>NDCG</th>\n",
       "      <th>MAE</th>\n",
       "      <th>Loss</th>\n",
       "    </tr>\n",
       "  </thead>\n",
       "  <tbody>\n",
       "    <tr>\n",
       "      <th>0</th>\n",
       "      <td>1</td>\n",
       "      <td>0.036758</td>\n",
       "      <td>0.057957</td>\n",
       "      <td>0.041730</td>\n",
       "      <td>0.040904</td>\n",
       "      <td>4.890038</td>\n",
       "      <td>7.098835</td>\n",
       "    </tr>\n",
       "    <tr>\n",
       "      <th>1</th>\n",
       "      <td>2</td>\n",
       "      <td>0.046900</td>\n",
       "      <td>0.039759</td>\n",
       "      <td>0.039236</td>\n",
       "      <td>0.038870</td>\n",
       "      <td>4.514098</td>\n",
       "      <td>5.113095</td>\n",
       "    </tr>\n",
       "    <tr>\n",
       "      <th>2</th>\n",
       "      <td>3</td>\n",
       "      <td>0.047783</td>\n",
       "      <td>0.036302</td>\n",
       "      <td>0.037595</td>\n",
       "      <td>0.037040</td>\n",
       "      <td>4.841165</td>\n",
       "      <td>4.899602</td>\n",
       "    </tr>\n",
       "    <tr>\n",
       "      <th>3</th>\n",
       "      <td>4</td>\n",
       "      <td>0.047783</td>\n",
       "      <td>0.036236</td>\n",
       "      <td>0.037561</td>\n",
       "      <td>0.037040</td>\n",
       "      <td>4.858083</td>\n",
       "      <td>4.806313</td>\n",
       "    </tr>\n",
       "    <tr>\n",
       "      <th>4</th>\n",
       "      <td>5</td>\n",
       "      <td>0.047781</td>\n",
       "      <td>0.036641</td>\n",
       "      <td>0.037731</td>\n",
       "      <td>0.037060</td>\n",
       "      <td>4.836466</td>\n",
       "      <td>4.714582</td>\n",
       "    </tr>\n",
       "    <tr>\n",
       "      <th>5</th>\n",
       "      <td>6</td>\n",
       "      <td>0.047783</td>\n",
       "      <td>0.036589</td>\n",
       "      <td>0.037748</td>\n",
       "      <td>0.037213</td>\n",
       "      <td>4.843985</td>\n",
       "      <td>4.633818</td>\n",
       "    </tr>\n",
       "    <tr>\n",
       "      <th>6</th>\n",
       "      <td>7</td>\n",
       "      <td>0.047291</td>\n",
       "      <td>0.036837</td>\n",
       "      <td>0.037730</td>\n",
       "      <td>0.037273</td>\n",
       "      <td>4.788534</td>\n",
       "      <td>4.541353</td>\n",
       "    </tr>\n",
       "    <tr>\n",
       "      <th>7</th>\n",
       "      <td>8</td>\n",
       "      <td>0.047732</td>\n",
       "      <td>0.036850</td>\n",
       "      <td>0.038062</td>\n",
       "      <td>0.037572</td>\n",
       "      <td>4.781955</td>\n",
       "      <td>4.473570</td>\n",
       "    </tr>\n",
       "    <tr>\n",
       "      <th>8</th>\n",
       "      <td>9</td>\n",
       "      <td>0.047294</td>\n",
       "      <td>0.037294</td>\n",
       "      <td>0.038037</td>\n",
       "      <td>0.037713</td>\n",
       "      <td>4.765977</td>\n",
       "      <td>4.425264</td>\n",
       "    </tr>\n",
       "    <tr>\n",
       "      <th>9</th>\n",
       "      <td>10</td>\n",
       "      <td>0.047615</td>\n",
       "      <td>0.036954</td>\n",
       "      <td>0.037983</td>\n",
       "      <td>0.037535</td>\n",
       "      <td>4.798872</td>\n",
       "      <td>4.384586</td>\n",
       "    </tr>\n",
       "    <tr>\n",
       "      <th>10</th>\n",
       "      <td>11</td>\n",
       "      <td>0.047297</td>\n",
       "      <td>0.037411</td>\n",
       "      <td>0.038238</td>\n",
       "      <td>0.037860</td>\n",
       "      <td>4.767857</td>\n",
       "      <td>4.336339</td>\n",
       "    </tr>\n",
       "    <tr>\n",
       "      <th>11</th>\n",
       "      <td>12</td>\n",
       "      <td>0.046476</td>\n",
       "      <td>0.036471</td>\n",
       "      <td>0.037463</td>\n",
       "      <td>0.037426</td>\n",
       "      <td>4.764098</td>\n",
       "      <td>4.273338</td>\n",
       "    </tr>\n",
       "    <tr>\n",
       "      <th>12</th>\n",
       "      <td>13</td>\n",
       "      <td>0.046522</td>\n",
       "      <td>0.036980</td>\n",
       "      <td>0.037718</td>\n",
       "      <td>0.037578</td>\n",
       "      <td>4.746241</td>\n",
       "      <td>4.252972</td>\n",
       "    </tr>\n",
       "    <tr>\n",
       "      <th>13</th>\n",
       "      <td>14</td>\n",
       "      <td>0.047249</td>\n",
       "      <td>0.037072</td>\n",
       "      <td>0.038136</td>\n",
       "      <td>0.037872</td>\n",
       "      <td>4.731203</td>\n",
       "      <td>4.198104</td>\n",
       "    </tr>\n",
       "    <tr>\n",
       "      <th>14</th>\n",
       "      <td>15</td>\n",
       "      <td>0.045178</td>\n",
       "      <td>0.035231</td>\n",
       "      <td>0.036283</td>\n",
       "      <td>0.036771</td>\n",
       "      <td>4.747180</td>\n",
       "      <td>4.196681</td>\n",
       "    </tr>\n",
       "    <tr>\n",
       "      <th>15</th>\n",
       "      <td>16</td>\n",
       "      <td>0.044435</td>\n",
       "      <td>0.034618</td>\n",
       "      <td>0.035694</td>\n",
       "      <td>0.036556</td>\n",
       "      <td>4.742481</td>\n",
       "      <td>4.163764</td>\n",
       "    </tr>\n",
       "    <tr>\n",
       "      <th>16</th>\n",
       "      <td>17</td>\n",
       "      <td>0.043700</td>\n",
       "      <td>0.033469</td>\n",
       "      <td>0.034892</td>\n",
       "      <td>0.035388</td>\n",
       "      <td>4.728383</td>\n",
       "      <td>4.112250</td>\n",
       "    </tr>\n",
       "    <tr>\n",
       "      <th>17</th>\n",
       "      <td>18</td>\n",
       "      <td>0.042110</td>\n",
       "      <td>0.031589</td>\n",
       "      <td>0.033268</td>\n",
       "      <td>0.033964</td>\n",
       "      <td>4.732143</td>\n",
       "      <td>4.120369</td>\n",
       "    </tr>\n",
       "    <tr>\n",
       "      <th>18</th>\n",
       "      <td>19</td>\n",
       "      <td>0.040788</td>\n",
       "      <td>0.030428</td>\n",
       "      <td>0.031988</td>\n",
       "      <td>0.031423</td>\n",
       "      <td>4.732143</td>\n",
       "      <td>4.101531</td>\n",
       "    </tr>\n",
       "    <tr>\n",
       "      <th>19</th>\n",
       "      <td>20</td>\n",
       "      <td>0.035840</td>\n",
       "      <td>0.026707</td>\n",
       "      <td>0.028141</td>\n",
       "      <td>0.028078</td>\n",
       "      <td>4.732143</td>\n",
       "      <td>4.069001</td>\n",
       "    </tr>\n",
       "    <tr>\n",
       "      <th>20</th>\n",
       "      <td>21</td>\n",
       "      <td>0.030742</td>\n",
       "      <td>0.022836</td>\n",
       "      <td>0.024138</td>\n",
       "      <td>0.024328</td>\n",
       "      <td>4.732143</td>\n",
       "      <td>4.047624</td>\n",
       "    </tr>\n",
       "    <tr>\n",
       "      <th>21</th>\n",
       "      <td>22</td>\n",
       "      <td>0.029410</td>\n",
       "      <td>0.021750</td>\n",
       "      <td>0.022994</td>\n",
       "      <td>0.022780</td>\n",
       "      <td>4.745301</td>\n",
       "      <td>4.041375</td>\n",
       "    </tr>\n",
       "    <tr>\n",
       "      <th>22</th>\n",
       "      <td>23</td>\n",
       "      <td>0.028069</td>\n",
       "      <td>0.020392</td>\n",
       "      <td>0.021666</td>\n",
       "      <td>0.021458</td>\n",
       "      <td>4.730263</td>\n",
       "      <td>4.018988</td>\n",
       "    </tr>\n",
       "    <tr>\n",
       "      <th>23</th>\n",
       "      <td>24</td>\n",
       "      <td>0.027272</td>\n",
       "      <td>0.020009</td>\n",
       "      <td>0.021159</td>\n",
       "      <td>0.020831</td>\n",
       "      <td>4.718985</td>\n",
       "      <td>3.988851</td>\n",
       "    </tr>\n",
       "    <tr>\n",
       "      <th>24</th>\n",
       "      <td>25</td>\n",
       "      <td>0.024742</td>\n",
       "      <td>0.017937</td>\n",
       "      <td>0.019023</td>\n",
       "      <td>0.018855</td>\n",
       "      <td>4.713346</td>\n",
       "      <td>3.963658</td>\n",
       "    </tr>\n",
       "  </tbody>\n",
       "</table>\n",
       "</div>"
      ],
      "text/plain": [
       "    Epoch    Recall  Precision  F1-score      NDCG       MAE      Loss\n",
       "0       1  0.036758   0.057957  0.041730  0.040904  4.890038  7.098835\n",
       "1       2  0.046900   0.039759  0.039236  0.038870  4.514098  5.113095\n",
       "2       3  0.047783   0.036302  0.037595  0.037040  4.841165  4.899602\n",
       "3       4  0.047783   0.036236  0.037561  0.037040  4.858083  4.806313\n",
       "4       5  0.047781   0.036641  0.037731  0.037060  4.836466  4.714582\n",
       "5       6  0.047783   0.036589  0.037748  0.037213  4.843985  4.633818\n",
       "6       7  0.047291   0.036837  0.037730  0.037273  4.788534  4.541353\n",
       "7       8  0.047732   0.036850  0.038062  0.037572  4.781955  4.473570\n",
       "8       9  0.047294   0.037294  0.038037  0.037713  4.765977  4.425264\n",
       "9      10  0.047615   0.036954  0.037983  0.037535  4.798872  4.384586\n",
       "10     11  0.047297   0.037411  0.038238  0.037860  4.767857  4.336339\n",
       "11     12  0.046476   0.036471  0.037463  0.037426  4.764098  4.273338\n",
       "12     13  0.046522   0.036980  0.037718  0.037578  4.746241  4.252972\n",
       "13     14  0.047249   0.037072  0.038136  0.037872  4.731203  4.198104\n",
       "14     15  0.045178   0.035231  0.036283  0.036771  4.747180  4.196681\n",
       "15     16  0.044435   0.034618  0.035694  0.036556  4.742481  4.163764\n",
       "16     17  0.043700   0.033469  0.034892  0.035388  4.728383  4.112250\n",
       "17     18  0.042110   0.031589  0.033268  0.033964  4.732143  4.120369\n",
       "18     19  0.040788   0.030428  0.031988  0.031423  4.732143  4.101531\n",
       "19     20  0.035840   0.026707  0.028141  0.028078  4.732143  4.069001\n",
       "20     21  0.030742   0.022836  0.024138  0.024328  4.732143  4.047624\n",
       "21     22  0.029410   0.021750  0.022994  0.022780  4.745301  4.041375\n",
       "22     23  0.028069   0.020392  0.021666  0.021458  4.730263  4.018988\n",
       "23     24  0.027272   0.020009  0.021159  0.020831  4.718985  3.988851\n",
       "24     25  0.024742   0.017937  0.019023  0.018855  4.713346  3.963658"
      ]
     },
     "execution_count": 40,
     "metadata": {},
     "output_type": "execute_result"
    }
   ],
   "source": [
    "results = []\n",
    "\n",
    "for epoch in range(1, EPOCHS + 1):\n",
    "    train_loss = train_model()\n",
    "    print(\"train_loss=\", train_loss)\n",
    "    print(\"-\"*20)\n",
    "    val_loss = evaluate_model()\n",
    "    print(\"val_loss=\", val_loss)\n",
    "    print(\"-\"*20)\n",
    "    test_loss, recall_list, precision_list, f1_list, ndcg_list, mae_list = test_model()\n",
    "    print(\"-\"*20)\n",
    "    result = [epoch] + recall_list + precision_list + f1_list + ndcg_list + mae_list + [test_loss.item()]\n",
    "    results.append(result)\n",
    "    print(results)\n",
    "    print(\"-\"*89)\n",
    "    \n",
    "    collected = gc.collect()\n",
    "    torch.cuda.empty_cache()\n",
    "    \n",
    "record_df = pd.DataFrame(results, columns=[\"Epoch\", \"Recall\", \"Precision\", \"F1-score\", \"NDCG\", \"MAE\", \"Loss\"])\n",
    "\n",
    "result_folder = \"../result\"\n",
    "if not os.path.exists(result_folder):\n",
    "    os.mkdir(result_folder)\n",
    "record_df.to_csv(result_folder+f\"/{DATASET_NAME}_output_lr_{LEARNING_RATE[0]}.csv\", index=False)\n",
    "\n",
    "record_df\n"
   ]
  },
  {
   "cell_type": "code",
   "execution_count": 41,
   "id": "330f9229",
   "metadata": {},
   "outputs": [
    {
     "ename": "IndexError",
     "evalue": "list index out of range",
     "output_type": "error",
     "traceback": [
      "\u001b[1;31m---------------------------------------------------------------------------\u001b[0m",
      "\u001b[1;31mIndexError\u001b[0m                                Traceback (most recent call last)",
      "Cell \u001b[1;32mIn[41], line 2\u001b[0m\n\u001b[0;32m      1\u001b[0m my_model \u001b[38;5;241m=\u001b[39m MyModel01(embed_dim\u001b[38;5;241m=\u001b[39mEMBEDDING_DIMENSION, model_dim\u001b[38;5;241m=\u001b[39mMODEL_DIMENSION, hidden_dim\u001b[38;5;241m=\u001b[39mHIDDEN_DIMENSION, items_count\u001b[38;5;241m=\u001b[39mitems_count)\u001b[38;5;241m.\u001b[39mto(device)\n\u001b[1;32m----> 2\u001b[0m optimizer \u001b[38;5;241m=\u001b[39m torch\u001b[38;5;241m.\u001b[39moptim\u001b[38;5;241m.\u001b[39mAdam(my_model\u001b[38;5;241m.\u001b[39mparameters(), lr\u001b[38;5;241m=\u001b[39mLEARNING_RATE[\u001b[38;5;241m1\u001b[39m])\n\u001b[0;32m      3\u001b[0m my_model\u001b[38;5;241m.\u001b[39mtrain()\n",
      "\u001b[1;31mIndexError\u001b[0m: list index out of range"
     ]
    }
   ],
   "source": [
    "my_model = MyModel01(embed_dim=EMBEDDING_DIMENSION, model_dim=MODEL_DIMENSION, hidden_dim=HIDDEN_DIMENSION, items_count=items_count).to(device)\n",
    "optimizer = torch.optim.Adam(my_model.parameters(), lr=LEARNING_RATE[1])\n",
    "my_model.train()"
   ]
  },
  {
   "cell_type": "code",
   "execution_count": null,
   "id": "49a35110",
   "metadata": {},
   "outputs": [],
   "source": [
    "results = []\n",
    "\n",
    "for epoch in range(1, EPOCHS + 1):\n",
    "    train_loss = train_model()\n",
    "    print(\"train_loss=\", train_loss)\n",
    "    print(\"-\"*20)\n",
    "    val_loss = evaluate_model()\n",
    "    print(\"val_loss=\", val_loss)\n",
    "    print(\"-\"*20)\n",
    "    test_loss, recall_list, precision_list, f1_list, ndcg_list, mae_list = test_model()\n",
    "    print(\"-\"*20)\n",
    "    result = [epoch] + recall_list + precision_list + f1_list + ndcg_list + mae_list + [test_loss.item()]\n",
    "    results.append(result)\n",
    "    print(results)\n",
    "    print(\"-\"*89)\n",
    "    \n",
    "    collected = gc.collect()\n",
    "    torch.cuda.empty_cache()\n",
    "    \n",
    "record_df = pd.DataFrame(results, columns=[\"Epoch\", \"Recall\", \"Precision\", \"F1-score\", \"NDCG\", \"MAE\", \"Loss\"])\n",
    "\n",
    "result_folder = \"../result\"\n",
    "if not os.path.exists(result_folder):\n",
    "    os.mkdir(result_folder)\n",
    "record_df.to_csv(result_folder+f\"/{DATASET_NAME}_output_lr_{LEARNING_RATE[1]}.csv\", index=False)\n",
    "\n",
    "record_df"
   ]
  },
  {
   "cell_type": "code",
   "execution_count": null,
   "id": "56ab2bad",
   "metadata": {},
   "outputs": [],
   "source": [
    "my_model = MyModel01(embed_dim=EMBEDDING_DIMENSION, model_dim=MODEL_DIMENSION, hidden_dim=HIDDEN_DIMENSION, items_count=items_count).to(device)\n",
    "optimizer = torch.optim.Adam(my_model.parameters(), lr=LEARNING_RATE[2])\n",
    "my_model.train()"
   ]
  },
  {
   "cell_type": "code",
   "execution_count": null,
   "id": "cad46581",
   "metadata": {},
   "outputs": [],
   "source": [
    "results = []\n",
    "\n",
    "for epoch in range(1, EPOCHS + 1):\n",
    "    train_loss = train_model()\n",
    "    print(\"train_loss=\", train_loss)\n",
    "    print(\"-\"*20)\n",
    "    val_loss = evaluate_model()\n",
    "    print(\"val_loss=\", val_loss)\n",
    "    print(\"-\"*20)\n",
    "    test_loss, recall_list, precision_list, f1_list, ndcg_list, mae_list = test_model()\n",
    "    print(\"-\"*20)\n",
    "    result = [epoch] + recall_list + precision_list + f1_list + ndcg_list + mae_list + [test_loss.item()]\n",
    "    results.append(result)\n",
    "    print(results)\n",
    "    print(\"-\"*89)\n",
    "    \n",
    "    collected = gc.collect()\n",
    "    torch.cuda.empty_cache()\n",
    "    \n",
    "record_df = pd.DataFrame(results, columns=[\"Epoch\", \"Recall\", \"Precision\", \"F1-score\", \"NDCG\", \"MAE\", \"Loss\"])\n",
    "\n",
    "result_folder = \"../result\"\n",
    "if not os.path.exists(result_folder):\n",
    "    os.mkdir(result_folder)\n",
    "record_df.to_csv(result_folder+f\"/{DATASET_NAME}_output_lr_{LEARNING_RATE[2]}.csv\", index=False)\n",
    "\n",
    "record_df"
   ]
  }
 ],
 "metadata": {
  "kernelspec": {
   "display_name": "Python 3 (ipykernel)",
   "language": "python",
   "name": "python3"
  },
  "language_info": {
   "codemirror_mode": {
    "name": "ipython",
    "version": 3
   },
   "file_extension": ".py",
   "mimetype": "text/x-python",
   "name": "python",
   "nbconvert_exporter": "python",
   "pygments_lexer": "ipython3",
   "version": "3.11.5"
  }
 },
 "nbformat": 4,
 "nbformat_minor": 5
}
