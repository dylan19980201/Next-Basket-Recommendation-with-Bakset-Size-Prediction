{
 "cells": [
  {
   "cell_type": "markdown",
   "id": "a246ddd9",
   "metadata": {},
   "source": [
    "# 下載套件"
   ]
  },
  {
   "cell_type": "code",
   "execution_count": 1,
   "id": "72209793",
   "metadata": {},
   "outputs": [],
   "source": [
    "import torch\n",
    "import torch.nn as nn\n",
    "from torch import nn, matmul, softmax\n",
    "from torch.nn.init import xavier_uniform_\n",
    "import torch.nn.functional as F\n",
    "import torch.nn.utils.rnn as rnn_utils\n",
    "from torch.autograd import Variable\n",
    "\n",
    "import numpy as np\n",
    "import pandas as pd\n",
    "import gensim\n",
    "from gensim.models import KeyedVectors\n",
    "import pickle\n",
    "import gzip \n",
    "import gc\n",
    "import random"
   ]
  },
  {
   "cell_type": "code",
   "execution_count": 2,
   "id": "e3db86c1",
   "metadata": {},
   "outputs": [],
   "source": [
    "from torch.utils.data import DataLoader, Dataset\n",
    "from torch.utils.data.dataset import random_split\n",
    "\n",
    "from tqdm import tqdm\n",
    "from collections import Counter\n",
    "\n",
    "import math"
   ]
  },
  {
   "cell_type": "markdown",
   "id": "d32d7025",
   "metadata": {},
   "source": [
    "# 參數設置"
   ]
  },
  {
   "cell_type": "code",
   "execution_count": 3,
   "id": "6da217e0",
   "metadata": {},
   "outputs": [],
   "source": [
    "# 超參數\n",
    "EPOCHS = 25\n",
    "LEARNING_RATE = 0.0001 \n",
    "BATCH_SIZE = 8\n",
    "BETA = 0.5\n",
    "EMBEDDING_DIMENSION = 32                      # 嵌入維度\n",
    "MODEL_DIMENSION = EMBEDDING_DIMENSION         # 模型維度\n",
    "HIDDEN_DIMENSION = 128                        # NLP 隱藏層維度\n",
    "NUM_HEAD = 4\n",
    "NUM_LAYER = 4\n",
    "\n",
    "isI2V = 1        #1:使用Item2Vec     #0:不使用Item2Vec"
   ]
  },
  {
   "cell_type": "code",
   "execution_count": null,
   "id": "7ab7d55c",
   "metadata": {},
   "outputs": [],
   "source": [
    "# 資料集\n",
    "DATASET_NAME = \"TaFeng\"     # 讀取TaFeng資料\n",
    "# DATASET_NAME = \"Dunnhumby\"  # 讀取Dunnhumby資料\n",
    "# DATASET_NAME = \"Instacart\"  # 讀取Instacart資料"
   ]
  },
  {
   "cell_type": "markdown",
   "id": "4283cbc8",
   "metadata": {},
   "source": [
    "# 匯入檔案\n",
    "- item2Vec_TaFeng.32d.model\n",
    "- TaFeng_user_cart_itemid_list.gz\n",
    "- Ta_feng_clean.csv"
   ]
  },
  {
   "cell_type": "code",
   "execution_count": 4,
   "id": "32520298",
   "metadata": {},
   "outputs": [
    {
     "data": {
      "text/plain": [
       "torch.Size([15764, 32])"
      ]
     },
     "execution_count": 4,
     "metadata": {},
     "output_type": "execute_result"
    }
   ],
   "source": [
    "# load word2Vec pre_train model\n",
    "model_filename = f\"../preprocessing-data/item2vec_models/item2vec_{DATASET_NAME}.{EMBEDDING_DIMENSION}d.model\"\n",
    "# {DATASET}\n",
    "with open(model_filename, \"rb\") as fp:\n",
    "    model = pickle.load(fp)\n",
    "weights = torch.FloatTensor(model.wv.vectors)\n",
    "weights.shape"
   ]
  },
  {
   "cell_type": "code",
   "execution_count": 5,
   "id": "bbe80d00",
   "metadata": {
    "scrolled": true
   },
   "outputs": [
    {
     "data": {
      "text/plain": [
       "[(1113,\n",
       "  [[0, 1, 2], [3, 4, 5, 6, 7, 8], [9, 10, 11, 12, 13, 14, 15]],\n",
       "  [3, 6, 7]),\n",
       " (5241,\n",
       "  [[16, 17, 18, 19, 20, 21],\n",
       "   [22, 23, 24, 25, 26, 27, 28, 29, 30, 31],\n",
       "   [32, 33, 34, 35, 36, 37, 38, 39, 40, 41, 42, 43, 44, 45, 46, 47],\n",
       "   [48, 49, 50, 51, 52]],\n",
       "  [6, 10, 16, 5])]"
      ]
     },
     "execution_count": 5,
     "metadata": {},
     "output_type": "execute_result"
    }
   ],
   "source": [
    "# {DATASET} user_cart_itemid_list 用戶id, 購物籃時間差(不會使用到), 此用戶的購物籃串列(每個串列包含多項目)。\n",
    "with gzip.open(f\"../preprocessing-data/{DATASET_NAME}_user_cart_itemid_list.gz\", \"rb\") as fp:\n",
    "    user_cart_itemid_list = pickle.load(fp)\n",
    "user_cart_itemid_list[:2]"
   ]
  },
  {
   "cell_type": "code",
   "execution_count": 6,
   "id": "361c43d7",
   "metadata": {},
   "outputs": [],
   "source": [
    "# Load {DATASET} confidences_Matrix\n",
    "with gzip.open(f\"../preprocessing-data/confidences/{DATASET_NAME}_confidences_array.gz\", \"rb\") as fp:\n",
    "    confidences_array = pickle.load(fp)"
   ]
  },
  {
   "cell_type": "code",
   "execution_count": 7,
   "id": "b83d2fe8",
   "metadata": {},
   "outputs": [
    {
     "name": "stdout",
     "output_type": "stream",
     "text": [
      "72\n"
     ]
    },
    {
     "data": {
      "text/html": [
       "<div>\n",
       "<style scoped>\n",
       "    .dataframe tbody tr th:only-of-type {\n",
       "        vertical-align: middle;\n",
       "    }\n",
       "\n",
       "    .dataframe tbody tr th {\n",
       "        vertical-align: top;\n",
       "    }\n",
       "\n",
       "    .dataframe thead th {\n",
       "        text-align: right;\n",
       "    }\n",
       "</style>\n",
       "<table border=\"1\" class=\"dataframe\">\n",
       "  <thead>\n",
       "    <tr style=\"text-align: right;\">\n",
       "      <th></th>\n",
       "      <th>CUSTOMER_ID</th>\n",
       "      <th>PRODUCT_ID</th>\n",
       "      <th>TRANSACTION_DT</th>\n",
       "      <th>CART_ID</th>\n",
       "      <th>NEW_ITEM_ID</th>\n",
       "    </tr>\n",
       "  </thead>\n",
       "  <tbody>\n",
       "    <tr>\n",
       "      <th>0</th>\n",
       "      <td>1113</td>\n",
       "      <td>4902105011621</td>\n",
       "      <td>2000-11-26</td>\n",
       "      <td>0</td>\n",
       "      <td>0</td>\n",
       "    </tr>\n",
       "    <tr>\n",
       "      <th>1</th>\n",
       "      <td>1113</td>\n",
       "      <td>7616100830794</td>\n",
       "      <td>2000-11-26</td>\n",
       "      <td>0</td>\n",
       "      <td>1</td>\n",
       "    </tr>\n",
       "    <tr>\n",
       "      <th>2</th>\n",
       "      <td>1113</td>\n",
       "      <td>4710892632017</td>\n",
       "      <td>2000-11-26</td>\n",
       "      <td>0</td>\n",
       "      <td>2</td>\n",
       "    </tr>\n",
       "    <tr>\n",
       "      <th>3</th>\n",
       "      <td>1113</td>\n",
       "      <td>4710905340113</td>\n",
       "      <td>2000-11-27</td>\n",
       "      <td>1</td>\n",
       "      <td>3</td>\n",
       "    </tr>\n",
       "    <tr>\n",
       "      <th>4</th>\n",
       "      <td>1113</td>\n",
       "      <td>4717362901277</td>\n",
       "      <td>2000-11-27</td>\n",
       "      <td>1</td>\n",
       "      <td>4</td>\n",
       "    </tr>\n",
       "    <tr>\n",
       "      <th>...</th>\n",
       "      <td>...</td>\n",
       "      <td>...</td>\n",
       "      <td>...</td>\n",
       "      <td>...</td>\n",
       "      <td>...</td>\n",
       "    </tr>\n",
       "    <tr>\n",
       "      <th>533054</th>\n",
       "      <td>20002000</td>\n",
       "      <td>4710339772139</td>\n",
       "      <td>2001-01-20</td>\n",
       "      <td>62360</td>\n",
       "      <td>4546</td>\n",
       "    </tr>\n",
       "    <tr>\n",
       "      <th>533055</th>\n",
       "      <td>20002000</td>\n",
       "      <td>20513184</td>\n",
       "      <td>2001-01-20</td>\n",
       "      <td>62360</td>\n",
       "      <td>1351</td>\n",
       "    </tr>\n",
       "    <tr>\n",
       "      <th>533056</th>\n",
       "      <td>20002000</td>\n",
       "      <td>4714800731229</td>\n",
       "      <td>2001-01-20</td>\n",
       "      <td>62360</td>\n",
       "      <td>2946</td>\n",
       "    </tr>\n",
       "    <tr>\n",
       "      <th>533057</th>\n",
       "      <td>20002000</td>\n",
       "      <td>4714541091071</td>\n",
       "      <td>2001-01-20</td>\n",
       "      <td>62360</td>\n",
       "      <td>7382</td>\n",
       "    </tr>\n",
       "    <tr>\n",
       "      <th>533058</th>\n",
       "      <td>20002000</td>\n",
       "      <td>4710018008634</td>\n",
       "      <td>2001-01-20</td>\n",
       "      <td>62360</td>\n",
       "      <td>2629</td>\n",
       "    </tr>\n",
       "  </tbody>\n",
       "</table>\n",
       "<p>533059 rows × 5 columns</p>\n",
       "</div>"
      ],
      "text/plain": [
       "        CUSTOMER_ID     PRODUCT_ID TRANSACTION_DT  CART_ID  NEW_ITEM_ID\n",
       "0              1113  4902105011621     2000-11-26        0            0\n",
       "1              1113  7616100830794     2000-11-26        0            1\n",
       "2              1113  4710892632017     2000-11-26        0            2\n",
       "3              1113  4710905340113     2000-11-27        1            3\n",
       "4              1113  4717362901277     2000-11-27        1            4\n",
       "...             ...            ...            ...      ...          ...\n",
       "533054     20002000  4710339772139     2001-01-20    62360         4546\n",
       "533055     20002000       20513184     2001-01-20    62360         1351\n",
       "533056     20002000  4714800731229     2001-01-20    62360         2946\n",
       "533057     20002000  4714541091071     2001-01-20    62360         7382\n",
       "533058     20002000  4710018008634     2001-01-20    62360         2629\n",
       "\n",
       "[533059 rows x 5 columns]"
      ]
     },
     "execution_count": 7,
     "metadata": {},
     "output_type": "execute_result"
    }
   ],
   "source": [
    "# Ta Feng Dataset\n",
    "TaFeng = pd.read_csv(\"../cleaned_dataset/ta_feng_clean.csv\")\n",
    "\n",
    "# 最多購物籃數\n",
    "max_cart_count = TaFeng.groupby('CUSTOMER_ID')['CART_ID'].nunique().max()\n",
    "print(max_cart_count)\n",
    "\n",
    "TaFeng"
   ]
  },
  {
   "cell_type": "markdown",
   "id": "a0877d82",
   "metadata": {},
   "source": [
    "# 切分資料集\n",
    "- 分成輸入資料與標籤資料\n",
    "- 訓練集:驗證集:測試集 = 7:1:2"
   ]
  },
  {
   "cell_type": "code",
   "execution_count": 8,
   "id": "73e9cf41",
   "metadata": {},
   "outputs": [],
   "source": [
    "# 切分資料集\n",
    "# train_set_size = int(len(user_cart_itemid_list) * 0.7)\n",
    "# valid_set_size = int(len(user_cart_itemid_list) * 0.1)\n",
    "# test_set_size = len(user_cart_itemid_list)-train_set_size-valid_set_size\n",
    "# train_set, valid_set, test_set = random_split(user_cart_itemid_list, [train_set_size, valid_set_size, test_set_size])\n",
    "# print(len(train_set))\n",
    "# print(len(valid_set))\n",
    "# print(len(test_set))"
   ]
  },
  {
   "cell_type": "code",
   "execution_count": 9,
   "id": "5edaa93d",
   "metadata": {},
   "outputs": [],
   "source": [
    "# 將切割好的資料集暫存起來\n",
    "\n",
    "# # 訓練集\n",
    "# filepath = \"../preprocessing-data/TaFeng_dataset/train_set.pkl\"\n",
    "# with open(filepath, \"wb\") as f:\n",
    "#     pickle.dump(train_set, f, pickle.HIGHEST_PROTOCOL)\n",
    "# # 驗證集\n",
    "# filepath = \"../preprocessing-data/TaFeng_dataset/valid_set.pkl\"\n",
    "# with open(filepath, \"wb\") as f:\n",
    "#     pickle.dump(valid_set, f, pickle.HIGHEST_PROTOCOL)\n",
    "# # 測試集\n",
    "# filepath = \"../preprocessing-data/TaFeng_dataset/test_set.pkl\"\n",
    "# with open(filepath, \"wb\") as f:\n",
    "#     pickle.dump(test_set, f, pickle.HIGHEST_PROTOCCOL)"
   ]
  },
  {
   "cell_type": "code",
   "execution_count": 10,
   "id": "b203d0c9",
   "metadata": {},
   "outputs": [],
   "source": [
    "# 讀取之前暫存的資料集\n",
    "\n",
    "# 載入訓練、驗證、測試集\n",
    "with open(\"../preprocessing-data/TaFeng_dataset/train_set.pkl\", \"rb\") as fp:\n",
    "    train_set = pickle.load(fp)\n",
    "with open(\"../preprocessing-data/TaFeng_dataset/valid_set.pkl\", \"rb\") as fp:\n",
    "    valid_set = pickle.load(fp)\n",
    "with open(\"../preprocessing-data/TaFeng_dataset/test_set.pkl\", \"rb\") as fp:\n",
    "    test_set = pickle.load(fp)"
   ]
  },
  {
   "cell_type": "markdown",
   "id": "c9585447",
   "metadata": {},
   "source": [
    "# Batch"
   ]
  },
  {
   "cell_type": "code",
   "execution_count": 11,
   "id": "a209539b",
   "metadata": {
    "scrolled": true
   },
   "outputs": [
    {
     "data": {
      "text/plain": [
       "device(type='cuda')"
      ]
     },
     "execution_count": 11,
     "metadata": {},
     "output_type": "execute_result"
    }
   ],
   "source": [
    "device = torch.device(\"cuda\" if torch.cuda.is_available() else \"cpu\")\n",
    "device"
   ]
  },
  {
   "cell_type": "code",
   "execution_count": 12,
   "id": "b348e2b5",
   "metadata": {},
   "outputs": [],
   "source": [
    "# 定義資料轉換函數(於collate_batch函式中使用)\n",
    "item_index_pipeline = lambda x:[[model.wv.key_to_index[j] for j in i]for i in x] # 取得購物籃中，項目的索引值(只有使用Item2Vec時會需要)"
   ]
  },
  {
   "cell_type": "code",
   "execution_count": 13,
   "id": "92fb3dee",
   "metadata": {},
   "outputs": [],
   "source": [
    "class TensorDataset(Dataset):\n",
    "    # TensorDataset繼承Dataset, 重載__init__, __getitem__, __len__\n",
    "    # 實現將一組Tensor數據封裝成Tensor數據集\n",
    "    # 能夠通過index得到數據集的數據，能夠通過len，得到數據集大小\n",
    "    def __init__(self, data_tensor):\n",
    "        self.data_tensor = data_tensor\n",
    "    def __getitem__(self, index):\n",
    "        return self.data_tensor[index]\n",
    "    def __len__(self):\n",
    "        return len(self.data_tensor)\n",
    "\n",
    "def collate_batch(batch): # 輸出userID, input_list跟label(最後一個購物籃)\n",
    "    # 使用ID、時間差、訓練的購物籃項目、預測的購物籃項目\n",
    "    userID, input_list, label_list, input_size_list, label_size_list, offsets = [], [], [], [], [], [0]\n",
    "    for _user in batch:\n",
    "        userID.append(_user[0]) # userID\n",
    "        label_list.append(torch.tensor(_user[1][-1])) # 所有購物籃的項目ID串列中的最後一個購物籃項目ID\n",
    "        label_size_list.append(torch.tensor(_user[2][-1]))\n",
    "        \n",
    "        if isI2V == 0: # 不使用Item2Vec進行項目嵌入\n",
    "            train_list = _user[1][0:-1]\n",
    "        else: #　使用Item2Vec進行項目嵌入\n",
    "            train_list = item_index_pipeline(_user[1][0:-1])\n",
    "        input_size_list.append(_user[2][0:-1])\n",
    "        \n",
    "        input_list.append(train_list) # 所有購物籃的項目ID串列(除了最後一個購物籃)\n",
    "        offsets.append(len(train_list))\n",
    "    \n",
    "    return userID, input_list, label_list, input_size_list, label_size_list, offsets"
   ]
  },
  {
   "cell_type": "code",
   "execution_count": 14,
   "id": "f442f66a",
   "metadata": {},
   "outputs": [],
   "source": [
    "# 轉成 Dataset\n",
    "split_train_ = TensorDataset(train_set)\n",
    "split_valid_ = TensorDataset(valid_set)\n",
    "split_test_ = TensorDataset(test_set)"
   ]
  },
  {
   "cell_type": "code",
   "execution_count": 15,
   "id": "54fe7bc6",
   "metadata": {},
   "outputs": [],
   "source": [
    "# DataLoader \n",
    "train_dataloader = DataLoader(split_train_, batch_size=BATCH_SIZE, shuffle=True, collate_fn=collate_batch, drop_last=True)\n",
    "valid_dataloader = DataLoader(split_valid_, batch_size=BATCH_SIZE, shuffle=True, collate_fn=collate_batch, drop_last=True)\n",
    "test_dataloader = DataLoader(split_test_, batch_size=BATCH_SIZE, shuffle=True, collate_fn=collate_batch, drop_last=True)"
   ]
  },
  {
   "cell_type": "markdown",
   "id": "637657be",
   "metadata": {},
   "source": [
    "# Self-Attention"
   ]
  },
  {
   "cell_type": "code",
   "execution_count": 16,
   "id": "a96171ad",
   "metadata": {},
   "outputs": [],
   "source": [
    "# 使用nn.MultiheadAttention\n",
    "# 輸入一個用戶的一個購物籃，輸出購物籃嵌入\n",
    "class SelfAttention(nn.Module):\n",
    "    def __init__(self, embed_dim, model_dim): #項目向量維度，輸出模型的維度\n",
    "        super(SelfAttention, self).__init__()\n",
    "        self.embed_dim = embed_dim\n",
    "        self.model_dim = model_dim\n",
    "        \n",
    "        # 初始化Q, K, V 矩陣\n",
    "        self.query_matrix = nn.Linear(embed_dim, model_dim)\n",
    "        xavier_uniform_(self.query_matrix.weight)\n",
    "        self.key_matrix = nn.Linear(embed_dim, model_dim)\n",
    "        xavier_uniform_(self.key_matrix.weight)\n",
    "        self.value_matrix = nn.Linear(embed_dim, model_dim)\n",
    "        xavier_uniform_(self.value_matrix.weight)\n",
    "        self.multihead_attn = nn.MultiheadAttention(embed_dim, num_heads=1)\n",
    "        \n",
    "    def forward(self, inputs, attention_mask):\n",
    "        \n",
    "        # 輸入一個項目向量，透過三個可學習的參數矩陣，得到計算所需要的 q,k,v\n",
    "        q = self.query_matrix(inputs)\n",
    "        k = self.key_matrix(inputs)\n",
    "        v = self.value_matrix(inputs)\n",
    "        \n",
    "        attn_output, attn_output_weight = self.multihead_attn(q, k, v, key_padding_mask=attention_mask.transpose(0,1))\n",
    "        \n",
    "        output_mean = torch.tensor([[0 for _ in range(MODEL_DIMENSION)] for _ in range(len(attention_mask))], dtype=torch.float).to(device)\n",
    "        for i, cart in enumerate(attention_mask):\n",
    "            for j, mask in enumerate(cart):\n",
    "                if mask == False:\n",
    "                    output_mean[i] = attn_output[i][j] # 使用最後一個項目作為輸出\n",
    "        basket_embedding = output_mean\n",
    "        \n",
    "        return basket_embedding"
   ]
  },
  {
   "cell_type": "markdown",
   "id": "a3043def",
   "metadata": {},
   "source": [
    "   # Basket Size Encoder"
   ]
  },
  {
   "cell_type": "code",
   "execution_count": 17,
   "id": "3b8530b2",
   "metadata": {},
   "outputs": [],
   "source": [
    "class LinearTransformation(nn.Module):\n",
    "    def __init__(self, input_dim, embed_dim):\n",
    "        super(LinearTransformation, self).__init__()\n",
    "        self.embed = torch.nn.Linear(input_dim, embed_dim)\n",
    "        \n",
    "    def forward(self, basket_size):\n",
    "        return self_embed(basket_size)"
   ]
  },
  {
   "cell_type": "markdown",
   "id": "00cd99b7",
   "metadata": {},
   "source": [
    "# Transformer"
   ]
  },
  {
   "cell_type": "code",
   "execution_count": 18,
   "id": "bc0ed90c",
   "metadata": {},
   "outputs": [],
   "source": [
    "class PositionalEncoding(nn.Module):\n",
    "    def __init__(self, d_model:int, dropout, maxlen:int=500):\n",
    "        super(PositionalEncoding, self).__init__()\n",
    "        # den 是把10000^(2i/d_model)取log_e，前面加負號是求倒數\n",
    "        den = torch.exp(-torch.arange(0, d_model, 2) * math.log(10000) / d_model)\n",
    "        pos = torch.arange(0, maxlen).reshape(maxlen, 1)\n",
    "        pos_embedding = torch.zeros(maxlen, d_model)#.to(device)\n",
    "        pos_embedding[:, 0::2] = torch.sin(pos*den)\n",
    "        pos_embedding[:, 1::2] = torch.cos(pos*den)\n",
    "        \n",
    "        pos_embedding = pos_embedding.unsqueeze(0)\n",
    "        \n",
    "        self.dropout = nn.Dropout(dropout)\n",
    "        self.register_buffer(\"pos_embedding\", pos_embedding)\n",
    "        \n",
    "    def forward(self, token_embedding):\n",
    "        #interleave(token_embedding, 1)\n",
    "        return self.dropout(token_embedding+ self.pos_embedding[:, :token_embedding.size(1), :])\n",
    "    \n",
    "class TransformerEncoder(nn.Module):\n",
    "    def __init__(self, d_model, num_heads=8, num_layers=6):\n",
    "        super(TransformerEncoder, self).__init__()\n",
    "        self.pe = PositionalEncoding(d_model=d_model, dropout=0.5, maxlen=max_cart_count)\n",
    "        # 創建 Transformer 模型\n",
    "        self.transformer = nn.TransformerEncoder(\n",
    "            nn.TransformerEncoderLayer(d_model=d_model, nhead=num_heads),\n",
    "            num_layers=num_layers\n",
    "        )\n",
    "    \n",
    "    def forward(self, baskets_embedding):\n",
    "        baskets_embedding_pe = self.pe(baskets_embedding)\n",
    "        \n",
    "        # 購物籃padding的遮罩\n",
    "        padding_mask = ~baskets_embedding.sum(dim=-1).ne(0).transpose(0,1)\n",
    "        \n",
    "        output = self.transformer(baskets_embedding_pe.to(torch.float32), src_key_padding_mask=padding_mask.to(torch.float32))\n",
    "        return output"
   ]
  },
  {
   "cell_type": "markdown",
   "id": "9cdd237c",
   "metadata": {},
   "source": [
    "# MLP層"
   ]
  },
  {
   "cell_type": "code",
   "execution_count": 19,
   "id": "e8fb5303",
   "metadata": {},
   "outputs": [],
   "source": [
    "class MLPLayer(nn.Module):\n",
    "    def __init__(self, embed_dim, hidden_dim, items_dim):\n",
    "        super(MLPLayer, self).__init__()\n",
    "        self.hidden = nn.Linear(embed_dim, hidden_dim) # 隱藏層\n",
    "        xavier_uniform_(self.hidden.weight)\n",
    "        self.norm = nn.BatchNorm1d(hidden_dim, momentum=0.03)\n",
    "        self.activate = nn.ReLU()\n",
    "        self.output = nn.Linear(hidden_dim, items_dim) # 輸出層\n",
    "        \n",
    "    def forward(self, inputs):\n",
    "        y = self.activate(self.norm(self.hidden(inputs)))\n",
    "        return self.output(y)"
   ]
  },
  {
   "cell_type": "markdown",
   "id": "9afdd949",
   "metadata": {},
   "source": [
    "# 損失函數"
   ]
  },
  {
   "cell_type": "code",
   "execution_count": 20,
   "id": "578a7e8b",
   "metadata": {},
   "outputs": [],
   "source": [
    "# cross_entropy_loss\n",
    "def cross_entropy_loss(predictions, targets):\n",
    "    # 創建稀疏張量的索引和值\n",
    "    indices = []\n",
    "    values = []\n",
    "    for i, t in enumerate(targets):\n",
    "        for v in t:\n",
    "            indices.append([i, v])\n",
    "            values.append(1)\n",
    "\n",
    "    # 創建稀疏張量\n",
    "    sparse_targets = torch.sparse_coo_tensor(indices=torch.tensor(indices).t(),\n",
    "                                             values=torch.tensor(values, dtype=torch.float16),\n",
    "                                             size=(len(targets), items_count), device=device)\n",
    "    sparse_targets = sparse_targets.to_dense()\n",
    "    \n",
    "    loss = F.binary_cross_entropy_with_logits(predictions, sparse_targets)\n",
    "    \n",
    "    return loss"
   ]
  },
  {
   "cell_type": "markdown",
   "id": "08aefe4a",
   "metadata": {},
   "source": [
    "# 評估指標"
   ]
  },
  {
   "cell_type": "code",
   "execution_count": 21,
   "id": "308ff8e9",
   "metadata": {},
   "outputs": [],
   "source": [
    "def format_metric(result_dict):\n",
    "    assert type(result_dict) == dict\n",
    "    format_str = []\n",
    "    metrics = np.unique([k.split('@')[0] for k in result_dict.keys()])\n",
    "    topks = np.unique([int(k.split('@')[1]) for k in result_dict.keys()])\n",
    "    for topk in np.sort(topks):\n",
    "        for metric in np.sort(metrics):\n",
    "            name = '{}@{}'.format(metric, topk)\n",
    "            m = result_dict[name]\n",
    "            if type(m) is float or type(m) is float or type(m) is np.float32 or type(m) is np.float64:\n",
    "                format_str.append('{}: {:<.4f}'.format(name, m))\n",
    "            elif type(m) is int or type(m) is int or type(m) is np.int32 or type(m) is np.int64:\n",
    "                format_str.append('{}: {}'.format(name, m))\n",
    "    return ', '.join(format_str)"
   ]
  },
  {
   "cell_type": "markdown",
   "id": "b96a4cfe",
   "metadata": {},
   "source": [
    "## HR@K"
   ]
  },
  {
   "cell_type": "code",
   "execution_count": 22,
   "id": "ced1b599",
   "metadata": {},
   "outputs": [],
   "source": [
    "def calculate_hr_at_k(predictions, labels_list, k_list):\n",
    "    # 將預測機率矩陣轉換為 PyTorch 張量。\n",
    "    predictions = torch.from_numpy(np.array(predictions, dtype=np.float32)).to(device)\n",
    "    num_users = len(labels_list)\n",
    "    evaluations = dict()\n",
    "    for k in k_list:\n",
    "        HR = []\n",
    "        for i in range(num_users):\n",
    "            # 將用戶 i 的真實標籤轉換為 PyTorch 張量。\n",
    "            labels = torch.from_numpy(np.array(labels_list[i], dtype=np.int64)).to(device)\n",
    "            # 計算用戶 i 在預測機率矩陣中機率最高的 K 個項目的索引。\n",
    "            top_k_item_indices = torch.topk(predictions[i], k)[1]\n",
    "            # 將用戶 i 在預測機率矩陣中機率最高的 K 個項目的索引和其真實標籤向量的交集，即為預測正確的項目數量。\n",
    "            correct_num = torch.sum(torch.sum(torch.eq(top_k_item_indices, labels.unsqueeze(1)), dim=1))\n",
    "            # 計算 HR。\n",
    "            HR.append( correct_num.cpu()/len(labels) )\n",
    "        # 計算 HR@K 分數。\n",
    "        hr_at_k = np.mean(HR)\n",
    "        key = '{}@{}'.format('HR',k)\n",
    "        evaluations[key]=hr_at_k\n",
    "    return evaluations"
   ]
  },
  {
   "cell_type": "markdown",
   "id": "fa92db9d",
   "metadata": {},
   "source": [
    "## F1-score"
   ]
  },
  {
   "cell_type": "code",
   "execution_count": 23,
   "id": "f7cca32b",
   "metadata": {},
   "outputs": [],
   "source": [
    "def calculate_f1_score_at_k(predictions, labels_list, k_list):\n",
    "    \"\"\"\n",
    "    計算 F1-score@K。\n",
    "\n",
    "    Args:\n",
    "        predictions: 二維的預測機率矩陣，大小為 [num_users, num_items]。\n",
    "        labels_list: 一個包含每個用戶真實標籤的列表，其中每個列表的大小不同。\n",
    "        k: 計算 F1-score@K 的 K 值。\n",
    "\n",
    "    Returns:\n",
    "        F1-score@K 分數。\n",
    "    \"\"\"\n",
    "    # 將預測機率矩陣轉換為 PyTorch 張量。\n",
    "    predictions = torch.from_numpy(np.array(predictions, dtype=np.float32))#.to('cuda')\n",
    "    num_users = len(labels_list)\n",
    "    f1_score_at_k_eval = dict()\n",
    "    \n",
    "    for k in k_list:\n",
    "        f1_score_sum = 0.0\n",
    "        for i in range(num_users):\n",
    "                # 將用戶 i 的真實標籤轉換為 PyTorch 張量。\n",
    "                labels = torch.from_numpy(np.array(labels_list[i], dtype=np.int64))#.to('cuda')\n",
    "                # 計算用戶 i 在預測機率矩陣中機率最高的 K 個項目的索引。\n",
    "                top_k_item_labels = torch.topk(predictions[i], k)[1]\n",
    "                # 計算用戶 i 的真實標籤和預測標籤的交集。 # TP\n",
    "                true_positives = torch.sum(torch.sum(torch.eq(top_k_item_labels, labels.unsqueeze(1)).to(torch.float32), dim=1)).item()\n",
    "                # 計算用戶 i 的真實標籤和預測標籤的並集。\n",
    "                predicted_positives = k # TP+FP\n",
    "                actual_positives = len(labels) # TP+FN\n",
    "                if actual_positives == 0:\n",
    "                    precision = 0.0\n",
    "                    recall = 0.0\n",
    "                else:\n",
    "                    precision = true_positives / predicted_positives\n",
    "                    recall = true_positives / actual_positives\n",
    "                # 計算 F1-score。\n",
    "                if precision + recall == 0:\n",
    "                    f1_score = 0.0\n",
    "                else:\n",
    "                    f1_score = 2 * precision * recall / (precision + recall)\n",
    "                f1_score_sum += f1_score\n",
    "        # 計算平均 F1-score@K 分數。\n",
    "        f1_score_at_k = f1_score_sum / float(num_users)\n",
    "        key = '{}@{}'.format('F1-score',k)\n",
    "        f1_score_at_k_eval[key]=f1_score_at_k\n",
    "        \n",
    "    return f1_score_at_k_eval"
   ]
  },
  {
   "cell_type": "markdown",
   "id": "506ff404",
   "metadata": {},
   "source": [
    "## NDCG"
   ]
  },
  {
   "cell_type": "code",
   "execution_count": 24,
   "id": "4c566188",
   "metadata": {},
   "outputs": [],
   "source": [
    "# NDCG@K\n",
    "def calculate_ndcg_at_k(predictions, labels_list, k_list, k_labels_list):\n",
    "    # 將預測機率矩陣轉換為 PyTorch 張量。\n",
    "    predictions = torch.from_numpy(np.array(predictions, dtype=np.float32))\n",
    "    num_users = len(labels_list)\n",
    "    ndcg_at_k_eval = dict()\n",
    "    \n",
    "    for k in k_list:\n",
    "        ndcg_sum = 0.0\n",
    "        for i in range(num_users):\n",
    "            # 將用戶 i 的真實標籤轉換為 PyTorch 張量。\n",
    "            labels = torch.from_numpy(np.array(labels_list[i], dtype=np.int64))\n",
    "            # 計算用戶 i 在預測機率矩陣中機率最高的 K 個項目的索引=標籤。\n",
    "            top_k_item_labels = torch.topk(predictions[i], k)[1]\n",
    "            # 計算 DCG@K。\n",
    "            dcg_at_k = torch.sum(torch.div(1.0, torch.log2(torch.arange(k, dtype=torch.float32) + 2)) * (torch.eq(top_k_item_labels, labels.unsqueeze(1)).to(torch.float32) ))\n",
    "            # 計算 IDCG@K。\n",
    "            idcg_at_k = torch.sum(torch.div(1.0, torch.log2(torch.arange(len(labels), dtype=torch.float32) + 2)))\n",
    "            #idcg_at_k = torch.sum(torch.div(1.0, torch.log2(torch.arange(min(k, len(labels)), dtype=torch.float32) + 2)))\n",
    "            # 計算 NDCG@K。\n",
    "            ndcg_at_k = (dcg_at_k / idcg_at_k) * (k_labels_list[i] / (k_labels_list[i]+abs(k_labels_list[i]-k)))\n",
    "            ndcg_sum += ndcg_at_k.item()\n",
    "        # 計算平均 NDCG@K 分數。\n",
    "        ndcg_at_k = ndcg_sum / float(num_users)\n",
    "        key = '{}@{}'.format('NDCG',k)\n",
    "        ndcg_at_k_eval[key]=ndcg_at_k\n",
    "        \n",
    "\n",
    "    return ndcg_at_k_eval"
   ]
  },
  {
   "cell_type": "markdown",
   "id": "458759fa",
   "metadata": {},
   "source": [
    "## MPR"
   ]
  },
  {
   "cell_type": "code",
   "execution_count": 25,
   "id": "9160a9fa",
   "metadata": {},
   "outputs": [],
   "source": [
    "#MRR\n",
    "def calculate_MRR(predictions, labels_list):\n",
    "    reciprocal_ranks = []\n",
    "    # 將預測機率矩陣轉換為 numpy 數組。\n",
    "    predictions = np.array(predictions, dtype=np.float32)\n",
    "    # 預先排序預測結果（降序）\n",
    "    sorted_predictions = np.argsort(predictions)[:,::-1]\n",
    "    # 遍歷每個查詢的預測結果與目標結果\n",
    "    for pred, targets in zip(sorted_predictions, labels_list):\n",
    "        # 將目標結果轉換為集合\n",
    "        target_set = set(targets.numpy())\n",
    "        # 尋找目標的排名\n",
    "        rank = next((i + 1 for i, p in enumerate(pred) if p in target_set), 0)\n",
    "        # 計算倒數排名\n",
    "        reciprocal_rank = 1 / rank if rank > 0 else 0\n",
    "        reciprocal_ranks.append(reciprocal_rank)\n",
    "    # 計算 MRR\n",
    "    mrr_score = sum(reciprocal_ranks) / len(reciprocal_ranks)\n",
    "    return mrr_score"
   ]
  },
  {
   "cell_type": "markdown",
   "id": "be5f7b84",
   "metadata": {},
   "source": [
    "## MAP"
   ]
  },
  {
   "cell_type": "code",
   "execution_count": 26,
   "id": "074334ff",
   "metadata": {},
   "outputs": [],
   "source": [
    "#MAP\n",
    "def calculate_MAP(predictions, labels_list):\n",
    "    average_precisions = []\n",
    "    # 將預測機率矩陣轉換為 numpy 數組。\n",
    "    predictions = np.array(predictions, dtype=np.float32)\n",
    "    # 預先排序預測結果（降序）\n",
    "    sorted_predictions = np.argsort(predictions)[:,::-1]\n",
    "    # 遍歷每個查詢的預測結果與目標結果\n",
    "    for pred, targets in zip(sorted_predictions, labels_list):\n",
    "        # 將目標結果轉換為集合\n",
    "        target_set = set(targets.numpy())\n",
    "        # 計算查詢的精確度\n",
    "        precision = []\n",
    "        hits = 0\n",
    "        for i, p in enumerate(pred):\n",
    "            if p in target_set:\n",
    "                hits += 1\n",
    "                precision.append(hits / (i + 1))\n",
    "        # 計算平均精確度\n",
    "        if precision:\n",
    "            average_precision = sum(precision) / len(precision)\n",
    "            average_precisions.append(average_precision)\n",
    "    # 計算 MAP\n",
    "    map_score = sum(average_precisions) / len(average_precisions)\n",
    "    return map_score"
   ]
  },
  {
   "cell_type": "markdown",
   "id": "213301db",
   "metadata": {},
   "source": [
    "# 訓練&測試"
   ]
  },
  {
   "cell_type": "code",
   "execution_count": 27,
   "id": "5d503206",
   "metadata": {},
   "outputs": [],
   "source": [
    "# 訓練模型\n",
    "def train_model():\n",
    "    my_model.train()\n",
    "    loss_list = []\n",
    "    \n",
    "    for batch_idx, (userID, basket_input, basket_label, size_input, size_label, offsets) in enumerate(tqdm(train_dataloader)):\n",
    "        optimizer.zero_grad()\n",
    "        output, indices = my_model(basket_input, offsets[1:])\n",
    "        # 計算損失\n",
    "        loss = cross_entropy_loss(output ,basket_label)\n",
    "        loss_list.append(loss.item())\n",
    "        loss.backward()\n",
    "        optimizer.step()\n",
    "\n",
    "        if (batch_idx%100 == 0) or (batch_idx == len(train_dataloader)-1) :\n",
    "            percentage = (100. * batch_idx/len(train_dataloader))\n",
    "            print(f'Epoch {epoch}: {percentage:.0f}% , Loss: {loss.item():.6f}')\n",
    "\n",
    "        with torch.no_grad():\n",
    "            output = torch.from_numpy(np.array(output.cpu(), dtype=np.float32))\n",
    "            if batch_idx==0:\n",
    "                outputs = output\n",
    "                labels_list = basket_label\n",
    "                size_labels_list = size_label\n",
    "            else:\n",
    "                outputs = torch.cat( (outputs, output ),-2 )\n",
    "                labels_list = labels_list + basket_label\n",
    "                size_labels_list = size_labels_list + size_label\n",
    "\n",
    "    with torch.no_grad():\n",
    "        evaluations = calculate_hr_at_k(outputs, labels_list, [5,10,20,50])\n",
    "        res_str = '(' + format_metric(evaluations) + ')'\n",
    "        print(f\"                      {res_str}\\n\")\n",
    "\n",
    "        evaluations = calculate_f1_score_at_k(outputs, labels_list, [5,10,20,50])\n",
    "        res_str = '(' + format_metric(evaluations) + ')'\n",
    "        print(f\"                      {res_str}\\n\")\n",
    "\n",
    "        evaluations = calculate_ndcg_at_k(outputs, labels_list, [5,10,20,50], size_labels_list)\n",
    "        res_str = '(' + format_metric(evaluations) + ')'\n",
    "        print(f\"                      {res_str}\\n\")\n",
    "        \n",
    "        mrr_score = calculate_MRR( outputs, labels_list )\n",
    "        print(f'MRR: {mrr_score}')\n",
    "        map_score = calculate_MAP( outputs, labels_list )\n",
    "        print(f'MAP: {map_score}')\n",
    "\n",
    "    return torch.mean(torch.tensor(loss_list))"
   ]
  },
  {
   "cell_type": "code",
   "execution_count": 28,
   "id": "b0799869",
   "metadata": {},
   "outputs": [],
   "source": [
    "# 驗證模型\n",
    "def evaluate_model():\n",
    "    my_model.eval()\n",
    "    loss_list = []\n",
    "    \n",
    "    for batch_idx, (userID, basket_input, basket_label, size_input, size_label, offsets) in enumerate(tqdm(valid_dataloader)):\n",
    "        output, indices = my_model(basket_input, offsets[1:])\n",
    "        # 計算損失\n",
    "        loss = cross_entropy_loss( output ,basket_label) \n",
    "        loss_list.append(loss.item())\n",
    "        with torch.no_grad():\n",
    "            output = torch.from_numpy(np.array(output.cpu(), dtype=np.float32))\n",
    "            if batch_idx==0:\n",
    "                outputs = output\n",
    "                labels_list = basket_label\n",
    "                size_labels_list = size_label\n",
    "            else:\n",
    "                outputs = torch.cat( (outputs, output ),-2 )\n",
    "                labels_list = labels_list + basket_label\n",
    "                size_labels_list = size_labels_list + size_label\n",
    "\n",
    "    with torch.no_grad():\n",
    "        evaluations = calculate_hr_at_k(outputs, labels_list, [5,10,20,50])\n",
    "        hr_5_rec = evaluations['HR@5']\n",
    "        res_str = '(' + format_metric(evaluations) + ')'\n",
    "        print(f\"                      {res_str}\\n\")\n",
    "\n",
    "        evaluations = calculate_f1_score_at_k(outputs, labels_list, [5,10,20,50])\n",
    "        res_str = '(' + format_metric(evaluations) + ')'\n",
    "        print(f\"                      {res_str}\\n\")\n",
    "\n",
    "        evaluations = calculate_ndcg_at_k(outputs, labels_list, [5,10,20,50], size_labels_list)\n",
    "        res_str = '(' + format_metric(evaluations) + ')'\n",
    "        print(f\"                      {res_str}\\n\")\n",
    "        \n",
    "        mrr_score = calculate_MRR( outputs, labels_list )\n",
    "        print(f'MRR: {mrr_score}')\n",
    "        map_score = calculate_MAP( outputs, labels_list )\n",
    "        print(f'MAP: {map_score}')\n",
    "\n",
    "    return torch.mean(torch.tensor(loss_list)),hr_5_rec"
   ]
  },
  {
   "cell_type": "code",
   "execution_count": 29,
   "id": "5e8d7319",
   "metadata": {},
   "outputs": [],
   "source": [
    "# 測試模型\n",
    "def test_model():\n",
    "    my_model.eval()\n",
    "    loss_list = []\n",
    "    \n",
    "    for batch_idx, (userID, basket_input, basket_label, size_input, size_label, offsets) in enumerate(tqdm(test_dataloader)):\n",
    "        output, indices = my_model(basket_input, offsets[1:])\n",
    "        # 計算損失\n",
    "        loss = cross_entropy_loss( output ,basket_label)\n",
    "        loss_list.append(loss.item())\n",
    "        with torch.no_grad():\n",
    "            output = torch.from_numpy(np.array(output.cpu(), dtype=np.float32))\n",
    "            if batch_idx==0:\n",
    "                outputs = output\n",
    "                labels_list = basket_label\n",
    "                size_labels_list = size_label\n",
    "            else:\n",
    "                outputs = torch.cat( (outputs, output ),-2 )\n",
    "                labels_list = labels_list + basket_label\n",
    "                size_labels_list = size_labels_list + size_label\n",
    "\n",
    "    with torch.no_grad():\n",
    "        hr_evaluations = calculate_hr_at_k(outputs, labels_list, [5,10,20,50])\n",
    "        hr_5_rec = hr_evaluations['HR@5']\n",
    "        hr_10_rec = hr_evaluations['HR@10']\n",
    "        hr_20_rec = hr_evaluations['HR@20']\n",
    "        hr_50_rec = hr_evaluations['HR@50']\n",
    "        hr_list = [hr_5_rec, hr_10_rec, hr_20_rec, hr_50_rec]\n",
    "        res_str = '(' + format_metric(hr_evaluations) + ')'\n",
    "        print(f\"                      {res_str}\\n\")\n",
    "\n",
    "        f1_evaluations = calculate_f1_score_at_k(outputs, labels_list, [5,10,20,50])\n",
    "        f1_5_rec = f1_evaluations['F1-score@5']\n",
    "        f1_10_rec = f1_evaluations['F1-score@10']\n",
    "        f1_20_rec = f1_evaluations['F1-score@20']\n",
    "        f1_50_rec = f1_evaluations['F1-score@50']\n",
    "        f1_list = [f1_5_rec, f1_10_rec, f1_20_rec, f1_50_rec]\n",
    "        res_str = '(' + format_metric(f1_evaluations) + ')'\n",
    "        print(f\"                      {res_str}\\n\")\n",
    "\n",
    "        ndcg_evaluations = calculate_ndcg_at_k(outputs, labels_list, [5,10,20,50], size_labels_list)\n",
    "        ndcg_5_rec = ndcg_evaluations['NDCG@5']\n",
    "        ndcg_10_rec = ndcg_evaluations['NDCG@10']\n",
    "        ndcg_20_rec = ndcg_evaluations['NDCG@20']\n",
    "        ndcg_50_rec = ndcg_evaluations['NDCG@50']\n",
    "        ndcg_list = [ndcg_5_rec, ndcg_10_rec, ndcg_20_rec, ndcg_50_rec]\n",
    "        res_str = '(' + format_metric(ndcg_evaluations) + ')'\n",
    "        print(f\"                      {res_str}\\n\")\n",
    "        \n",
    "        mrr_score = calculate_MRR( outputs, labels_list )\n",
    "        print(f'MRR: {mrr_score}')\n",
    "        map_score = calculate_MAP( outputs, labels_list )\n",
    "        print(f'MAP: {map_score}')\n",
    "\n",
    "    return torch.mean(torch.tensor(loss_list)),hr_5_rec,hr_list,f1_list,ndcg_list, mrr_score, map_score"
   ]
  },
  {
   "cell_type": "markdown",
   "id": "1abc8fbc",
   "metadata": {},
   "source": [
    "# 完整模型"
   ]
  },
  {
   "cell_type": "code",
   "execution_count": 30,
   "id": "5ad81bac",
   "metadata": {},
   "outputs": [
    {
     "name": "stdout",
     "output_type": "stream",
     "text": [
      "items_count= 15764\n",
      "tensor([1.7128e-03, 1.1418e-03, 2.4169e-02,  ..., 6.3436e-05, 6.3436e-05,\n",
      "        6.3436e-05], device='cuda:0', dtype=torch.float64)\n"
     ]
    }
   ],
   "source": [
    "# 項目總數\n",
    "items_count = TaFeng_confidences_array.shape[0]\n",
    "print(\"items_count=\",items_count)\n",
    "# 項目出現次數\n",
    "items_frq = Counter(TaFeng[\"NEW_ITEM_ID\"])\n",
    "# 計算每個項目出現的比例: items_frq/items_count\n",
    "item_weight = torch.tensor( np.array( list(items_frq.values()) )/items_count ).to(device)\n",
    "print(item_weight) # 按照new_item_id順序排列"
   ]
  },
  {
   "cell_type": "markdown",
   "id": "975d9e58",
   "metadata": {},
   "source": [
    "## 加上信賴度矩陣"
   ]
  },
  {
   "cell_type": "code",
   "execution_count": 31,
   "id": "5d571c57",
   "metadata": {},
   "outputs": [
    {
     "data": {
      "text/plain": [
       "tensor([[0.0000, 0.0370, 0.0370,  ..., 0.0000, 0.0000, 0.0000],\n",
       "        [0.0556, 0.0000, 0.0556,  ..., 0.0000, 0.0000, 0.0000],\n",
       "        [0.0026, 0.0026, 0.0000,  ..., 0.0000, 0.0000, 0.0000],\n",
       "        ...,\n",
       "        [0.0000, 0.0000, 0.0000,  ..., 0.0000, 0.0000, 0.0000],\n",
       "        [0.0000, 0.0000, 0.0000,  ..., 0.0000, 0.0000, 0.0000],\n",
       "        [0.0000, 0.0000, 0.0000,  ..., 0.0000, 0.0000, 0.0000]],\n",
       "       device='cuda:0', dtype=torch.float64)"
      ]
     },
     "execution_count": 31,
     "metadata": {},
     "output_type": "execute_result"
    }
   ],
   "source": [
    "# 信賴度矩陣\n",
    "confidences_array = torch.tensor(TaFeng_confidences_array,dtype=torch.float64).to(device)\n",
    "confidences_array"
   ]
  },
  {
   "cell_type": "code",
   "execution_count": 32,
   "id": "b00066a0",
   "metadata": {},
   "outputs": [],
   "source": [
    "class MyModel01(nn.Module):\n",
    "    def __init__(self, embed_dim, model_dim, hidden_dim, items_count):\n",
    "        super(MyModel01, self).__init__()\n",
    "        self.model_dim = model_dim\n",
    "        self.embedding = nn.Embedding.from_pretrained(weights, freeze=False)\n",
    "        self.embedding.requires_grad = True\n",
    "        self.attn = SelfAttention(embed_dim=embed_dim ,model_dim=model_dim)\n",
    "        #self.linear_transformation = LinearTransformation(embed_dim=embed_dim)\n",
    "        self.model_encoder = TransformerEncoder(d_model=model_dim , num_heads=NUM_HEAD, num_layers=NUM_LAYER)\n",
    "        self.mlp = MLPLayer(model_dim, hidden_dim, items_count ) # 嵌入維度、隱藏層維度、總項目數量\n",
    "        self.relu = nn.ReLU()\n",
    "\n",
    "        \n",
    "    def forward(self, train_input, lengths):\n",
    "        \n",
    "        inputs, attention_mask = [], []\n",
    "\n",
    "        # 為每個用戶的購物籃加上 padding跟 mask\n",
    "        for user in train_input:\n",
    "            # 將購物籃項目 ID 轉換為嵌入向量\n",
    "            batch_features = [ self.embedding(torch.tensor(cart).to(device)) for cart in user ]\n",
    "            # 進行 padding\n",
    "            batch_features = rnn_utils.pad_sequence(batch_features, batch_first=True, padding_value=0)\n",
    "            # 購物籃中項目的遮罩\n",
    "            mask = ~batch_features.sum(dim=-1).ne(0)\n",
    "            inputs.append(batch_features)\n",
    "            attention_mask.append(mask)\n",
    "\n",
    "            \n",
    "        # 進入自注意力，輸出形狀為 (N, basket_size, embed_dim)\n",
    "        basket_embedding_list = []\n",
    "        for i,user_inputs in enumerate(inputs):\n",
    "            basket_embedding_list.append( self.attn(user_inputs,attention_mask[i]) )\n",
    "        \n",
    "        # 進行購物籃的 padding\n",
    "        input_seq = rnn_utils.pad_sequence(basket_embedding_list, batch_first=True, padding_value=0)\n",
    "        \n",
    "        # 進入Transformer\n",
    "        basket_embed = self.model_encoder(input_seq.to(device))\n",
    "        \n",
    "        B_s_list = []\n",
    "        for i, b in enumerate(basket_embed):\n",
    "            basket_size = len(attention_mask[i])\n",
    "            B_s = b[basket_size-1]  # 取得最後一個購物籃向量\n",
    "            B_s_list.append(B_s)\n",
    "\n",
    "        # 進入MLP層\n",
    "        p = self.mlp(torch.stack(B_s_list, dim=0))\n",
    "        pc = (self.relu(p.to(torch.float64))+1e-8) @ confidences_array\n",
    "        pw = torch.mul( p, item_weight )\n",
    "        p_ = torch.mul(BETA, torch.add(pc,pw)) + torch.mul(1-BETA, p.to(torch.float64))\n",
    "        y = p_\n",
    "        Y,indices = torch.topk(y, k=10)\n",
    "        return y,indices"
   ]
  },
  {
   "cell_type": "code",
   "execution_count": 33,
   "id": "88bf8d6f",
   "metadata": {},
   "outputs": [
    {
     "data": {
      "text/plain": [
       "MyModel01(\n",
       "  (embedding): Embedding(15764, 32)\n",
       "  (attn): SelfAttention(\n",
       "    (query_matrix): Linear(in_features=32, out_features=32, bias=True)\n",
       "    (key_matrix): Linear(in_features=32, out_features=32, bias=True)\n",
       "    (value_matrix): Linear(in_features=32, out_features=32, bias=True)\n",
       "    (multihead_attn): MultiheadAttention(\n",
       "      (out_proj): NonDynamicallyQuantizableLinear(in_features=32, out_features=32, bias=True)\n",
       "    )\n",
       "  )\n",
       "  (model_encoder): TransformerEncoder(\n",
       "    (pe): PositionalEncoding(\n",
       "      (dropout): Dropout(p=0.5, inplace=False)\n",
       "    )\n",
       "    (transformer): TransformerEncoder(\n",
       "      (layers): ModuleList(\n",
       "        (0-3): 4 x TransformerEncoderLayer(\n",
       "          (self_attn): MultiheadAttention(\n",
       "            (out_proj): NonDynamicallyQuantizableLinear(in_features=32, out_features=32, bias=True)\n",
       "          )\n",
       "          (linear1): Linear(in_features=32, out_features=2048, bias=True)\n",
       "          (dropout): Dropout(p=0.1, inplace=False)\n",
       "          (linear2): Linear(in_features=2048, out_features=32, bias=True)\n",
       "          (norm1): LayerNorm((32,), eps=1e-05, elementwise_affine=True)\n",
       "          (norm2): LayerNorm((32,), eps=1e-05, elementwise_affine=True)\n",
       "          (dropout1): Dropout(p=0.1, inplace=False)\n",
       "          (dropout2): Dropout(p=0.1, inplace=False)\n",
       "        )\n",
       "      )\n",
       "    )\n",
       "  )\n",
       "  (mlp): MLPLayer(\n",
       "    (hidden): Linear(in_features=32, out_features=128, bias=True)\n",
       "    (norm): BatchNorm1d(128, eps=1e-05, momentum=0.03, affine=True, track_running_stats=True)\n",
       "    (activate): ReLU()\n",
       "    (output): Linear(in_features=128, out_features=15764, bias=True)\n",
       "  )\n",
       "  (relu): ReLU()\n",
       ")"
      ]
     },
     "execution_count": 33,
     "metadata": {},
     "output_type": "execute_result"
    }
   ],
   "source": [
    "my_model = MyModel01(embed_dim=EMBEDDING_DIMENSION, model_dim=MODEL_DIMENSION,  hidden_dim=HIDDEN_DIMENSION,  items_count=items_count ).to(device)\n",
    "optimizer = torch.optim.Adam(my_model.parameters(),lr=LEARNING_RATE)\n",
    "my_model.train()"
   ]
  },
  {
   "cell_type": "code",
   "execution_count": 34,
   "id": "dc547691",
   "metadata": {},
   "outputs": [
    {
     "name": "stderr",
     "output_type": "stream",
     "text": [
      "  0%|          | 2/1065 [00:01<09:55,  1.79it/s]"
     ]
    },
    {
     "name": "stdout",
     "output_type": "stream",
     "text": [
      "Epoch 1: 0% , Loss: 1.476562\n"
     ]
    },
    {
     "name": "stderr",
     "output_type": "stream",
     "text": [
      "  9%|▉         | 101/1065 [00:27<04:28,  3.59it/s]"
     ]
    },
    {
     "name": "stdout",
     "output_type": "stream",
     "text": [
      "Epoch 1: 9% , Loss: 0.714844\n"
     ]
    },
    {
     "name": "stderr",
     "output_type": "stream",
     "text": [
      " 19%|█▉        | 201/1065 [00:55<04:24,  3.27it/s]"
     ]
    },
    {
     "name": "stdout",
     "output_type": "stream",
     "text": [
      "Epoch 1: 19% , Loss: 0.584961\n"
     ]
    },
    {
     "name": "stderr",
     "output_type": "stream",
     "text": [
      " 28%|██▊       | 301/1065 [01:24<03:49,  3.33it/s]"
     ]
    },
    {
     "name": "stdout",
     "output_type": "stream",
     "text": [
      "Epoch 1: 28% , Loss: 0.535156\n"
     ]
    },
    {
     "name": "stderr",
     "output_type": "stream",
     "text": [
      " 38%|███▊      | 401/1065 [01:53<03:15,  3.40it/s]"
     ]
    },
    {
     "name": "stdout",
     "output_type": "stream",
     "text": [
      "Epoch 1: 38% , Loss: 0.562988\n"
     ]
    },
    {
     "name": "stderr",
     "output_type": "stream",
     "text": [
      " 47%|████▋     | 501/1065 [02:25<03:07,  3.00it/s]"
     ]
    },
    {
     "name": "stdout",
     "output_type": "stream",
     "text": [
      "Epoch 1: 47% , Loss: 0.463379\n"
     ]
    },
    {
     "name": "stderr",
     "output_type": "stream",
     "text": [
      " 56%|█████▋    | 601/1065 [02:57<02:25,  3.19it/s]"
     ]
    },
    {
     "name": "stdout",
     "output_type": "stream",
     "text": [
      "Epoch 1: 56% , Loss: 0.512207\n"
     ]
    },
    {
     "name": "stderr",
     "output_type": "stream",
     "text": [
      " 66%|██████▌   | 701/1065 [03:30<02:08,  2.83it/s]"
     ]
    },
    {
     "name": "stdout",
     "output_type": "stream",
     "text": [
      "Epoch 1: 66% , Loss: 0.394531\n"
     ]
    },
    {
     "name": "stderr",
     "output_type": "stream",
     "text": [
      " 75%|███████▌  | 801/1065 [04:05<01:49,  2.42it/s]"
     ]
    },
    {
     "name": "stdout",
     "output_type": "stream",
     "text": [
      "Epoch 1: 75% , Loss: 0.347900\n"
     ]
    },
    {
     "name": "stderr",
     "output_type": "stream",
     "text": [
      " 85%|████████▍ | 901/1065 [04:41<00:58,  2.82it/s]"
     ]
    },
    {
     "name": "stdout",
     "output_type": "stream",
     "text": [
      "Epoch 1: 85% , Loss: 0.338379\n"
     ]
    },
    {
     "name": "stderr",
     "output_type": "stream",
     "text": [
      " 94%|█████████▍| 1001/1065 [05:18<00:23,  2.74it/s]"
     ]
    },
    {
     "name": "stdout",
     "output_type": "stream",
     "text": [
      "Epoch 1: 94% , Loss: 0.331543\n"
     ]
    },
    {
     "name": "stderr",
     "output_type": "stream",
     "text": [
      "100%|██████████| 1065/1065 [05:42<00:00,  3.11it/s]"
     ]
    },
    {
     "name": "stdout",
     "output_type": "stream",
     "text": [
      "Epoch 1: 100% , Loss: 0.322998\n"
     ]
    },
    {
     "name": "stderr",
     "output_type": "stream",
     "text": [
      "\n"
     ]
    },
    {
     "name": "stdout",
     "output_type": "stream",
     "text": [
      "                      (HR@5: 0.0088, HR@10: 0.0109, HR@20: 0.0142, HR@50: 0.0247)\n",
      "\n",
      "                      (F1-score@5: 0.0092, F1-score@10: 0.0081, F1-score@20: 0.0070, F1-score@50: 0.0061)\n",
      "\n",
      "                      (NDCG@5: 0.0093, NDCG@10: 0.0079, NDCG@20: 0.0055, NDCG@50: 0.0031)\n",
      "\n",
      "MRR: 0.04197017635789685\n",
      "MAP: 0.009425942126802655\n",
      "train_loss= tensor(0.4985)\n",
      "--------------------\n"
     ]
    },
    {
     "name": "stderr",
     "output_type": "stream",
     "text": [
      "100%|██████████| 133/133 [00:21<00:00,  6.25it/s]\n"
     ]
    },
    {
     "name": "stdout",
     "output_type": "stream",
     "text": [
      "                      (HR@5: 0.0000, HR@10: 0.0000, HR@20: 0.0000, HR@50: 0.0005)\n",
      "\n",
      "                      (F1-score@5: 0.0000, F1-score@10: 0.0000, F1-score@20: 0.0000, F1-score@50: 0.0002)\n",
      "\n",
      "                      (NDCG@5: 0.0000, NDCG@10: 0.0000, NDCG@20: 0.0000, NDCG@50: 0.0001)\n",
      "\n",
      "MRR: 0.0016292831087443527\n",
      "MAP: 0.000828157704087187\n",
      "val_loss= tensor(0.2639)\n",
      "--------------------\n"
     ]
    },
    {
     "name": "stderr",
     "output_type": "stream",
     "text": [
      "100%|██████████| 133/133 [00:21<00:00,  6.23it/s]\n"
     ]
    },
    {
     "name": "stdout",
     "output_type": "stream",
     "text": [
      "                      (HR@5: 0.0001, HR@10: 0.0001, HR@20: 0.0001, HR@50: 0.0009)\n",
      "\n",
      "                      (F1-score@5: 0.0001, F1-score@10: 0.0001, F1-score@20: 0.0001, F1-score@50: 0.0004)\n",
      "\n",
      "                      (NDCG@5: 0.0001, NDCG@10: 0.0001, NDCG@20: 0.0001, NDCG@50: 0.0002)\n",
      "\n",
      "MRR: 0.0020697745302244\n",
      "MAP: 0.000889444836566718\n",
      "--------------------\n",
      "[[1, 8.4016865e-05, 8.4016865e-05, 0.000114334594, 0.000891291, 0.00013234617155132733, 0.00010999721526037315, 0.0001199328415576757, 0.000390551794612985, 5.351662061604342e-05, 6.386598123979748e-05, 8.58788984246496e-05, 0.00018388043198020276, 0.0020697745302244, 0.000889444836566718, 0.2638903260231018]]\n",
      "-----------------------------------------------------------------------------------------\n"
     ]
    },
    {
     "name": "stderr",
     "output_type": "stream",
     "text": [
      "  0%|          | 1/1065 [00:00<08:54,  1.99it/s]"
     ]
    },
    {
     "name": "stdout",
     "output_type": "stream",
     "text": [
      "Epoch 2: 0% , Loss: 0.266113\n"
     ]
    },
    {
     "name": "stderr",
     "output_type": "stream",
     "text": [
      "  9%|▉         | 101/1065 [00:27<04:20,  3.71it/s]"
     ]
    },
    {
     "name": "stdout",
     "output_type": "stream",
     "text": [
      "Epoch 2: 9% , Loss: 0.249390\n"
     ]
    },
    {
     "name": "stderr",
     "output_type": "stream",
     "text": [
      " 19%|█▉        | 201/1065 [00:55<04:09,  3.46it/s]"
     ]
    },
    {
     "name": "stdout",
     "output_type": "stream",
     "text": [
      "Epoch 2: 19% , Loss: 0.280029\n"
     ]
    },
    {
     "name": "stderr",
     "output_type": "stream",
     "text": [
      " 28%|██▊       | 301/1065 [01:23<03:55,  3.24it/s]"
     ]
    },
    {
     "name": "stdout",
     "output_type": "stream",
     "text": [
      "Epoch 2: 28% , Loss: 0.190186\n"
     ]
    },
    {
     "name": "stderr",
     "output_type": "stream",
     "text": [
      " 38%|███▊      | 401/1065 [01:53<03:19,  3.34it/s]"
     ]
    },
    {
     "name": "stdout",
     "output_type": "stream",
     "text": [
      "Epoch 2: 38% , Loss: 0.179199\n"
     ]
    },
    {
     "name": "stderr",
     "output_type": "stream",
     "text": [
      " 47%|████▋     | 501/1065 [02:25<03:09,  2.98it/s]"
     ]
    },
    {
     "name": "stdout",
     "output_type": "stream",
     "text": [
      "Epoch 2: 47% , Loss: 0.175903\n"
     ]
    },
    {
     "name": "stderr",
     "output_type": "stream",
     "text": [
      " 56%|█████▋    | 601/1065 [02:58<02:32,  3.05it/s]"
     ]
    },
    {
     "name": "stdout",
     "output_type": "stream",
     "text": [
      "Epoch 2: 56% , Loss: 0.203247\n"
     ]
    },
    {
     "name": "stderr",
     "output_type": "stream",
     "text": [
      " 66%|██████▌   | 701/1065 [03:32<02:08,  2.83it/s]"
     ]
    },
    {
     "name": "stdout",
     "output_type": "stream",
     "text": [
      "Epoch 2: 66% , Loss: 0.120178\n"
     ]
    },
    {
     "name": "stderr",
     "output_type": "stream",
     "text": [
      " 75%|███████▌  | 801/1065 [04:07<01:32,  2.86it/s]"
     ]
    },
    {
     "name": "stdout",
     "output_type": "stream",
     "text": [
      "Epoch 2: 75% , Loss: 0.115662\n"
     ]
    },
    {
     "name": "stderr",
     "output_type": "stream",
     "text": [
      " 85%|████████▍ | 901/1065 [04:43<00:59,  2.78it/s]"
     ]
    },
    {
     "name": "stdout",
     "output_type": "stream",
     "text": [
      "Epoch 2: 85% , Loss: 0.097839\n"
     ]
    },
    {
     "name": "stderr",
     "output_type": "stream",
     "text": [
      " 94%|█████████▍| 1001/1065 [05:20<00:30,  2.08it/s]"
     ]
    },
    {
     "name": "stdout",
     "output_type": "stream",
     "text": [
      "Epoch 2: 94% , Loss: 0.099121\n"
     ]
    },
    {
     "name": "stderr",
     "output_type": "stream",
     "text": [
      "100%|██████████| 1065/1065 [05:44<00:00,  3.09it/s]"
     ]
    },
    {
     "name": "stdout",
     "output_type": "stream",
     "text": [
      "Epoch 2: 100% , Loss: 0.091614\n"
     ]
    },
    {
     "name": "stderr",
     "output_type": "stream",
     "text": [
      "\n"
     ]
    },
    {
     "name": "stdout",
     "output_type": "stream",
     "text": [
      "                      (HR@5: 0.0000, HR@10: 0.0000, HR@20: 0.0001, HR@50: 0.0005)\n",
      "\n",
      "                      (F1-score@5: 0.0000, F1-score@10: 0.0000, F1-score@20: 0.0001, F1-score@50: 0.0002)\n",
      "\n",
      "                      (NDCG@5: 0.0000, NDCG@10: 0.0000, NDCG@20: 0.0000, NDCG@50: 0.0001)\n",
      "\n",
      "MRR: 0.0016935472302339078\n",
      "MAP: 0.0008238302066027334\n",
      "train_loss= tensor(0.1796)\n",
      "--------------------\n"
     ]
    },
    {
     "name": "stderr",
     "output_type": "stream",
     "text": [
      "100%|██████████| 133/133 [00:21<00:00,  6.20it/s]\n"
     ]
    },
    {
     "name": "stdout",
     "output_type": "stream",
     "text": [
      "                      (HR@5: 0.0000, HR@10: 0.0000, HR@20: 0.0000, HR@50: 0.0001)\n",
      "\n",
      "                      (F1-score@5: 0.0000, F1-score@10: 0.0000, F1-score@20: 0.0000, F1-score@50: 0.0001)\n",
      "\n",
      "                      (NDCG@5: 0.0000, NDCG@10: 0.0000, NDCG@20: 0.0000, NDCG@50: 0.0000)\n",
      "\n",
      "MRR: 0.0013665375337515227\n",
      "MAP: 0.0008340281110513732\n",
      "val_loss= tensor(0.0875)\n",
      "--------------------\n"
     ]
    },
    {
     "name": "stderr",
     "output_type": "stream",
     "text": [
      "100%|██████████| 133/133 [00:21<00:00,  6.22it/s]\n"
     ]
    },
    {
     "name": "stdout",
     "output_type": "stream",
     "text": [
      "                      (HR@5: 0.0001, HR@10: 0.0001, HR@20: 0.0001, HR@50: 0.0005)\n",
      "\n",
      "                      (F1-score@5: 0.0001, F1-score@10: 0.0002, F1-score@20: 0.0001, F1-score@50: 0.0002)\n",
      "\n",
      "                      (NDCG@5: 0.0000, NDCG@10: 0.0001, NDCG@20: 0.0001, NDCG@50: 0.0001)\n",
      "\n",
      "MRR: 0.001951413725286344\n",
      "MAP: 0.0009037805069785636\n",
      "--------------------\n",
      "[[1, 8.4016865e-05, 8.4016865e-05, 0.000114334594, 0.000891291, 0.00013234617155132733, 0.00010999721526037315, 0.0001199328415576757, 0.000390551794612985, 5.351662061604342e-05, 6.386598123979748e-05, 8.58788984246496e-05, 0.00018388043198020276, 0.0020697745302244, 0.000889444836566718, 0.2638903260231018], [2, 6.265665e-05, 0.000114334594, 0.000114334594, 0.0005418272, 9.398496240601504e-05, 0.00015584353838525854, 0.00011993284155767572, 0.00023222520913294107, 4.143462187253443e-05, 8.577915587763589e-05, 9.241726081398196e-05, 0.00012349487016243593, 0.001951413725286344, 0.0009037805069785636, 0.0875459834933281]]\n",
      "-----------------------------------------------------------------------------------------\n"
     ]
    },
    {
     "name": "stderr",
     "output_type": "stream",
     "text": [
      "  0%|          | 1/1065 [00:00<08:41,  2.04it/s]"
     ]
    },
    {
     "name": "stdout",
     "output_type": "stream",
     "text": [
      "Epoch 3: 0% , Loss: 0.080200\n"
     ]
    },
    {
     "name": "stderr",
     "output_type": "stream",
     "text": [
      "  9%|▉         | 101/1065 [00:27<04:32,  3.54it/s]"
     ]
    },
    {
     "name": "stdout",
     "output_type": "stream",
     "text": [
      "Epoch 3: 9% , Loss: 0.083008\n"
     ]
    },
    {
     "name": "stderr",
     "output_type": "stream",
     "text": [
      " 19%|█▉        | 201/1065 [00:54<03:52,  3.72it/s]"
     ]
    },
    {
     "name": "stdout",
     "output_type": "stream",
     "text": [
      "Epoch 3: 19% , Loss: 0.081848\n"
     ]
    },
    {
     "name": "stderr",
     "output_type": "stream",
     "text": [
      " 28%|██▊       | 301/1065 [01:23<03:47,  3.36it/s]"
     ]
    },
    {
     "name": "stdout",
     "output_type": "stream",
     "text": [
      "Epoch 3: 28% , Loss: 0.068665\n"
     ]
    },
    {
     "name": "stderr",
     "output_type": "stream",
     "text": [
      " 38%|███▊      | 401/1065 [01:53<03:49,  2.89it/s]"
     ]
    },
    {
     "name": "stdout",
     "output_type": "stream",
     "text": [
      "Epoch 3: 38% , Loss: 0.058044\n"
     ]
    },
    {
     "name": "stderr",
     "output_type": "stream",
     "text": [
      " 47%|████▋     | 501/1065 [02:24<02:59,  3.13it/s]"
     ]
    },
    {
     "name": "stdout",
     "output_type": "stream",
     "text": [
      "Epoch 3: 47% , Loss: 0.049377\n"
     ]
    },
    {
     "name": "stderr",
     "output_type": "stream",
     "text": [
      " 56%|█████▋    | 601/1065 [02:58<02:33,  3.02it/s]"
     ]
    },
    {
     "name": "stdout",
     "output_type": "stream",
     "text": [
      "Epoch 3: 56% , Loss: 0.059326\n"
     ]
    },
    {
     "name": "stderr",
     "output_type": "stream",
     "text": [
      " 66%|██████▌   | 701/1065 [03:31<01:57,  3.09it/s]"
     ]
    },
    {
     "name": "stdout",
     "output_type": "stream",
     "text": [
      "Epoch 3: 66% , Loss: 0.046814\n"
     ]
    },
    {
     "name": "stderr",
     "output_type": "stream",
     "text": [
      " 75%|███████▌  | 801/1065 [04:06<01:33,  2.84it/s]"
     ]
    },
    {
     "name": "stdout",
     "output_type": "stream",
     "text": [
      "Epoch 3: 75% , Loss: 0.049622\n"
     ]
    },
    {
     "name": "stderr",
     "output_type": "stream",
     "text": [
      " 85%|████████▍ | 901/1065 [04:43<01:01,  2.68it/s]"
     ]
    },
    {
     "name": "stdout",
     "output_type": "stream",
     "text": [
      "Epoch 3: 85% , Loss: 0.034454\n"
     ]
    },
    {
     "name": "stderr",
     "output_type": "stream",
     "text": [
      " 94%|█████████▍| 1001/1065 [05:19<00:23,  2.74it/s]"
     ]
    },
    {
     "name": "stdout",
     "output_type": "stream",
     "text": [
      "Epoch 3: 94% , Loss: 0.033112\n"
     ]
    },
    {
     "name": "stderr",
     "output_type": "stream",
     "text": [
      "100%|██████████| 1065/1065 [05:43<00:00,  3.10it/s]"
     ]
    },
    {
     "name": "stdout",
     "output_type": "stream",
     "text": [
      "Epoch 3: 100% , Loss: 0.031769\n"
     ]
    },
    {
     "name": "stderr",
     "output_type": "stream",
     "text": [
      "\n"
     ]
    },
    {
     "name": "stdout",
     "output_type": "stream",
     "text": [
      "                      (HR@5: 0.0037, HR@10: 0.0044, HR@20: 0.0052, HR@50: 0.0074)\n",
      "\n",
      "                      (F1-score@5: 0.0037, F1-score@10: 0.0031, F1-score@20: 0.0022, F1-score@50: 0.0016)\n",
      "\n",
      "                      (NDCG@5: 0.0031, NDCG@10: 0.0026, NDCG@20: 0.0015, NDCG@50: 0.0008)\n",
      "\n",
      "MRR: 0.014131025923454847\n",
      "MAP: 0.003008835702596132\n",
      "train_loss= tensor(0.0626)\n",
      "--------------------\n"
     ]
    },
    {
     "name": "stderr",
     "output_type": "stream",
     "text": [
      "100%|██████████| 133/133 [00:21<00:00,  6.21it/s]\n"
     ]
    },
    {
     "name": "stdout",
     "output_type": "stream",
     "text": [
      "                      (HR@5: 0.0101, HR@10: 0.0101, HR@20: 0.0101, HR@50: 0.0106)\n",
      "\n",
      "                      (F1-score@5: 0.0102, F1-score@10: 0.0070, F1-score@20: 0.0044, F1-score@50: 0.0022)\n",
      "\n",
      "                      (NDCG@5: 0.0127, NDCG@10: 0.0096, NDCG@20: 0.0058, NDCG@50: 0.0024)\n",
      "\n",
      "MRR: 0.06088621565232229\n",
      "MAP: 0.010949433801796898\n",
      "val_loss= tensor(0.0343)\n",
      "--------------------\n"
     ]
    },
    {
     "name": "stderr",
     "output_type": "stream",
     "text": [
      "100%|██████████| 133/133 [00:21<00:00,  6.18it/s]\n"
     ]
    },
    {
     "name": "stdout",
     "output_type": "stream",
     "text": [
      "                      (HR@5: 0.0122, HR@10: 0.0122, HR@20: 0.0122, HR@50: 0.0132)\n",
      "\n",
      "                      (F1-score@5: 0.0124, F1-score@10: 0.0086, F1-score@20: 0.0054, F1-score@50: 0.0029)\n",
      "\n",
      "                      (NDCG@5: 0.0154, NDCG@10: 0.0113, NDCG@20: 0.0069, NDCG@50: 0.0030)\n",
      "\n",
      "MRR: 0.07192748725123682\n",
      "MAP: 0.012509211212179922\n",
      "--------------------\n",
      "[[1, 8.4016865e-05, 8.4016865e-05, 0.000114334594, 0.000891291, 0.00013234617155132733, 0.00010999721526037315, 0.0001199328415576757, 0.000390551794612985, 5.351662061604342e-05, 6.386598123979748e-05, 8.58788984246496e-05, 0.00018388043198020276, 0.0020697745302244, 0.000889444836566718, 0.2638903260231018], [2, 6.265665e-05, 0.000114334594, 0.000114334594, 0.0005418272, 9.398496240601504e-05, 0.00015584353838525854, 0.00011993284155767572, 0.00023222520913294107, 4.143462187253443e-05, 8.577915587763589e-05, 9.241726081398196e-05, 0.00012349487016243593, 0.001951413725286344, 0.0009037805069785636, 0.0875459834933281], [3, 0.012192441, 0.01224412, 0.01224412, 0.013166627, 0.012363796487988582, 0.008586424211866363, 0.005380356117645946, 0.002860482861341153, 0.015392269039372528, 0.011347708514632475, 0.00687883532767121, 0.00298491509760821, 0.07192748725123682, 0.012509211212179922, 0.03425334393978119]]\n",
      "-----------------------------------------------------------------------------------------\n"
     ]
    },
    {
     "name": "stderr",
     "output_type": "stream",
     "text": [
      "  0%|          | 1/1065 [00:00<10:40,  1.66it/s]"
     ]
    },
    {
     "name": "stdout",
     "output_type": "stream",
     "text": [
      "Epoch 4: 0% , Loss: 0.054535\n"
     ]
    },
    {
     "name": "stderr",
     "output_type": "stream",
     "text": [
      "  9%|▉         | 101/1065 [00:27<04:18,  3.73it/s]"
     ]
    },
    {
     "name": "stdout",
     "output_type": "stream",
     "text": [
      "Epoch 4: 9% , Loss: 0.026718\n"
     ]
    },
    {
     "name": "stderr",
     "output_type": "stream",
     "text": [
      " 19%|█▉        | 201/1065 [00:54<04:03,  3.55it/s]"
     ]
    },
    {
     "name": "stdout",
     "output_type": "stream",
     "text": [
      "Epoch 4: 19% , Loss: 0.028198\n"
     ]
    },
    {
     "name": "stderr",
     "output_type": "stream",
     "text": [
      " 28%|██▊       | 301/1065 [01:23<03:53,  3.28it/s]"
     ]
    },
    {
     "name": "stdout",
     "output_type": "stream",
     "text": [
      "Epoch 4: 28% , Loss: 0.027802\n"
     ]
    },
    {
     "name": "stderr",
     "output_type": "stream",
     "text": [
      " 38%|███▊      | 401/1065 [01:53<03:20,  3.30it/s]"
     ]
    },
    {
     "name": "stdout",
     "output_type": "stream",
     "text": [
      "Epoch 4: 38% , Loss: 0.022736\n"
     ]
    },
    {
     "name": "stderr",
     "output_type": "stream",
     "text": [
      " 47%|████▋     | 501/1065 [02:25<02:52,  3.28it/s]"
     ]
    },
    {
     "name": "stdout",
     "output_type": "stream",
     "text": [
      "Epoch 4: 47% , Loss: 0.026611\n"
     ]
    },
    {
     "name": "stderr",
     "output_type": "stream",
     "text": [
      " 56%|█████▋    | 601/1065 [02:58<02:43,  2.83it/s]"
     ]
    },
    {
     "name": "stdout",
     "output_type": "stream",
     "text": [
      "Epoch 4: 56% , Loss: 0.017853\n"
     ]
    },
    {
     "name": "stderr",
     "output_type": "stream",
     "text": [
      " 66%|██████▌   | 701/1065 [03:32<02:02,  2.98it/s]"
     ]
    },
    {
     "name": "stdout",
     "output_type": "stream",
     "text": [
      "Epoch 4: 66% , Loss: 0.021820\n"
     ]
    },
    {
     "name": "stderr",
     "output_type": "stream",
     "text": [
      " 75%|███████▌  | 801/1065 [04:06<01:32,  2.84it/s]"
     ]
    },
    {
     "name": "stdout",
     "output_type": "stream",
     "text": [
      "Epoch 4: 75% , Loss: 0.015945\n"
     ]
    },
    {
     "name": "stderr",
     "output_type": "stream",
     "text": [
      " 85%|████████▍ | 901/1065 [04:43<01:05,  2.49it/s]"
     ]
    },
    {
     "name": "stdout",
     "output_type": "stream",
     "text": [
      "Epoch 4: 85% , Loss: 0.018845\n"
     ]
    },
    {
     "name": "stderr",
     "output_type": "stream",
     "text": [
      " 94%|█████████▍| 1001/1065 [05:19<00:23,  2.68it/s]"
     ]
    },
    {
     "name": "stdout",
     "output_type": "stream",
     "text": [
      "Epoch 4: 94% , Loss: 0.015137\n"
     ]
    },
    {
     "name": "stderr",
     "output_type": "stream",
     "text": [
      "100%|██████████| 1065/1065 [05:43<00:00,  3.10it/s]"
     ]
    },
    {
     "name": "stdout",
     "output_type": "stream",
     "text": [
      "Epoch 4: 100% , Loss: 0.017838\n"
     ]
    },
    {
     "name": "stderr",
     "output_type": "stream",
     "text": [
      "\n"
     ]
    },
    {
     "name": "stdout",
     "output_type": "stream",
     "text": [
      "                      (HR@5: 0.0157, HR@10: 0.0169, HR@20: 0.0180, HR@50: 0.0205)\n",
      "\n",
      "                      (F1-score@5: 0.0159, F1-score@10: 0.0118, F1-score@20: 0.0079, F1-score@50: 0.0043)\n",
      "\n",
      "                      (NDCG@5: 0.0196, NDCG@10: 0.0151, NDCG@20: 0.0090, NDCG@50: 0.0039)\n",
      "\n",
      "MRR: 0.0911222998856377\n",
      "MAP: 0.015970802797690857\n",
      "train_loss= tensor(0.0249)\n",
      "--------------------\n"
     ]
    },
    {
     "name": "stderr",
     "output_type": "stream",
     "text": [
      "100%|██████████| 133/133 [00:21<00:00,  6.20it/s]\n"
     ]
    },
    {
     "name": "stdout",
     "output_type": "stream",
     "text": [
      "                      (HR@5: 0.0189, HR@10: 0.0191, HR@20: 0.0209, HR@50: 0.0256)\n",
      "\n",
      "                      (F1-score@5: 0.0193, F1-score@10: 0.0135, F1-score@20: 0.0095, F1-score@50: 0.0057)\n",
      "\n",
      "                      (NDCG@5: 0.0242, NDCG@10: 0.0191, NDCG@20: 0.0123, NDCG@50: 0.0053)\n",
      "\n",
      "MRR: 0.12174584948073111\n",
      "MAP: 0.020362317389668393\n",
      "val_loss= tensor(0.0161)\n",
      "--------------------\n"
     ]
    },
    {
     "name": "stderr",
     "output_type": "stream",
     "text": [
      "100%|██████████| 133/133 [00:21<00:00,  6.06it/s]\n"
     ]
    },
    {
     "name": "stdout",
     "output_type": "stream",
     "text": [
      "                      (HR@5: 0.0219, HR@10: 0.0222, HR@20: 0.0239, HR@50: 0.0306)\n",
      "\n",
      "                      (F1-score@5: 0.0225, F1-score@10: 0.0158, F1-score@20: 0.0109, F1-score@50: 0.0068)\n",
      "\n",
      "                      (NDCG@5: 0.0289, NDCG@10: 0.0222, NDCG@20: 0.0139, NDCG@50: 0.0062)\n",
      "\n",
      "MRR: 0.14048288342581153\n",
      "MAP: 0.0233908867031529\n",
      "--------------------\n",
      "[[1, 8.4016865e-05, 8.4016865e-05, 0.000114334594, 0.000891291, 0.00013234617155132733, 0.00010999721526037315, 0.0001199328415576757, 0.000390551794612985, 5.351662061604342e-05, 6.386598123979748e-05, 8.58788984246496e-05, 0.00018388043198020276, 0.0020697745302244, 0.000889444836566718, 0.2638903260231018], [2, 6.265665e-05, 0.000114334594, 0.000114334594, 0.0005418272, 9.398496240601504e-05, 0.00015584353838525854, 0.00011993284155767572, 0.00023222520913294107, 4.143462187253443e-05, 8.577915587763589e-05, 9.241726081398196e-05, 0.00012349487016243593, 0.001951413725286344, 0.0009037805069785636, 0.0875459834933281], [3, 0.012192441, 0.01224412, 0.01224412, 0.013166627, 0.012363796487988582, 0.008586424211866363, 0.005380356117645946, 0.002860482861341153, 0.015392269039372528, 0.011347708514632475, 0.00687883532767121, 0.00298491509760821, 0.07192748725123682, 0.012509211212179922, 0.03425334393978119], [4, 0.021884039, 0.022155017, 0.023888309, 0.030598862, 0.022485064082938593, 0.015825804034119893, 0.010946368344677734, 0.006791629176013321, 0.02888112029592906, 0.022189799330330322, 0.013938353141363626, 0.006181598099603325, 0.14048288342581153, 0.0233908867031529, 0.016079092398285866]]\n",
      "-----------------------------------------------------------------------------------------\n"
     ]
    },
    {
     "name": "stderr",
     "output_type": "stream",
     "text": [
      "  0%|          | 1/1065 [00:00<08:11,  2.16it/s]"
     ]
    },
    {
     "name": "stdout",
     "output_type": "stream",
     "text": [
      "Epoch 5: 0% , Loss: 0.018661\n"
     ]
    },
    {
     "name": "stderr",
     "output_type": "stream",
     "text": [
      "  9%|▉         | 101/1065 [00:27<04:19,  3.71it/s]"
     ]
    },
    {
     "name": "stdout",
     "output_type": "stream",
     "text": [
      "Epoch 5: 9% , Loss: 0.014847\n"
     ]
    },
    {
     "name": "stderr",
     "output_type": "stream",
     "text": [
      " 19%|█▉        | 201/1065 [00:55<03:52,  3.72it/s]"
     ]
    },
    {
     "name": "stdout",
     "output_type": "stream",
     "text": [
      "Epoch 5: 19% , Loss: 0.014626\n"
     ]
    },
    {
     "name": "stderr",
     "output_type": "stream",
     "text": [
      " 28%|██▊       | 301/1065 [01:23<03:37,  3.51it/s]"
     ]
    },
    {
     "name": "stdout",
     "output_type": "stream",
     "text": [
      "Epoch 5: 28% , Loss: 0.011505\n"
     ]
    },
    {
     "name": "stderr",
     "output_type": "stream",
     "text": [
      " 38%|███▊      | 401/1065 [01:53<04:00,  2.76it/s]"
     ]
    },
    {
     "name": "stdout",
     "output_type": "stream",
     "text": [
      "Epoch 5: 38% , Loss: 0.012436\n"
     ]
    },
    {
     "name": "stderr",
     "output_type": "stream",
     "text": [
      " 47%|████▋     | 501/1065 [02:23<02:46,  3.40it/s]"
     ]
    },
    {
     "name": "stdout",
     "output_type": "stream",
     "text": [
      "Epoch 5: 47% , Loss: 0.016556\n"
     ]
    },
    {
     "name": "stderr",
     "output_type": "stream",
     "text": [
      " 56%|█████▋    | 601/1065 [02:55<02:28,  3.13it/s]"
     ]
    },
    {
     "name": "stdout",
     "output_type": "stream",
     "text": [
      "Epoch 5: 56% , Loss: 0.009819\n"
     ]
    },
    {
     "name": "stderr",
     "output_type": "stream",
     "text": [
      " 66%|██████▌   | 701/1065 [03:28<02:01,  2.99it/s]"
     ]
    },
    {
     "name": "stdout",
     "output_type": "stream",
     "text": [
      "Epoch 5: 66% , Loss: 0.011604\n"
     ]
    },
    {
     "name": "stderr",
     "output_type": "stream",
     "text": [
      " 75%|███████▌  | 801/1065 [04:02<01:33,  2.84it/s]"
     ]
    },
    {
     "name": "stdout",
     "output_type": "stream",
     "text": [
      "Epoch 5: 75% , Loss: 0.012169\n"
     ]
    },
    {
     "name": "stderr",
     "output_type": "stream",
     "text": [
      " 85%|████████▍ | 901/1065 [04:37<00:58,  2.80it/s]"
     ]
    },
    {
     "name": "stdout",
     "output_type": "stream",
     "text": [
      "Epoch 5: 85% , Loss: 0.009430\n"
     ]
    },
    {
     "name": "stderr",
     "output_type": "stream",
     "text": [
      " 94%|█████████▍| 1001/1065 [05:14<00:21,  2.93it/s]"
     ]
    },
    {
     "name": "stdout",
     "output_type": "stream",
     "text": [
      "Epoch 5: 94% , Loss: 0.010735\n"
     ]
    },
    {
     "name": "stderr",
     "output_type": "stream",
     "text": [
      "100%|██████████| 1065/1065 [05:38<00:00,  3.15it/s]"
     ]
    },
    {
     "name": "stdout",
     "output_type": "stream",
     "text": [
      "Epoch 5: 100% , Loss: 0.007812\n"
     ]
    },
    {
     "name": "stderr",
     "output_type": "stream",
     "text": [
      "\n"
     ]
    },
    {
     "name": "stdout",
     "output_type": "stream",
     "text": [
      "                      (HR@5: 0.0259, HR@10: 0.0275, HR@20: 0.0297, HR@50: 0.0361)\n",
      "\n",
      "                      (F1-score@5: 0.0266, F1-score@10: 0.0196, F1-score@20: 0.0134, F1-score@50: 0.0078)\n",
      "\n",
      "                      (NDCG@5: 0.0312, NDCG@10: 0.0243, NDCG@20: 0.0147, NDCG@50: 0.0065)\n",
      "\n",
      "MRR: 0.13944166436013145\n",
      "MAP: 0.025820264161241682\n",
      "train_loss= tensor(0.0128)\n",
      "--------------------\n"
     ]
    },
    {
     "name": "stderr",
     "output_type": "stream",
     "text": [
      "100%|██████████| 133/133 [00:21<00:00,  6.27it/s]\n"
     ]
    },
    {
     "name": "stdout",
     "output_type": "stream",
     "text": [
      "                      (HR@5: 0.0309, HR@10: 0.0330, HR@20: 0.0404, HR@50: 0.0563)\n",
      "\n",
      "                      (F1-score@5: 0.0321, F1-score@10: 0.0239, F1-score@20: 0.0182, F1-score@50: 0.0128)\n",
      "\n",
      "                      (NDCG@5: 0.0322, NDCG@10: 0.0264, NDCG@20: 0.0176, NDCG@50: 0.0083)\n",
      "\n",
      "MRR: 0.14355971236183174\n",
      "MAP: 0.02720484375844578\n",
      "val_loss= tensor(0.0090)\n",
      "--------------------\n"
     ]
    },
    {
     "name": "stderr",
     "output_type": "stream",
     "text": [
      "100%|██████████| 133/133 [00:21<00:00,  6.26it/s]\n"
     ]
    },
    {
     "name": "stdout",
     "output_type": "stream",
     "text": [
      "                      (HR@5: 0.0353, HR@10: 0.0369, HR@20: 0.0446, HR@50: 0.0599)\n",
      "\n",
      "                      (F1-score@5: 0.0365, F1-score@10: 0.0266, F1-score@20: 0.0205, F1-score@50: 0.0137)\n",
      "\n",
      "                      (NDCG@5: 0.0379, NDCG@10: 0.0300, NDCG@20: 0.0196, NDCG@50: 0.0093)\n",
      "\n",
      "MRR: 0.16690325571606437\n",
      "MAP: 0.031002429439172696\n",
      "--------------------\n",
      "[[1, 8.4016865e-05, 8.4016865e-05, 0.000114334594, 0.000891291, 0.00013234617155132733, 0.00010999721526037315, 0.0001199328415576757, 0.000390551794612985, 5.351662061604342e-05, 6.386598123979748e-05, 8.58788984246496e-05, 0.00018388043198020276, 0.0020697745302244, 0.000889444836566718, 0.2638903260231018], [2, 6.265665e-05, 0.000114334594, 0.000114334594, 0.0005418272, 9.398496240601504e-05, 0.00015584353838525854, 0.00011993284155767572, 0.00023222520913294107, 4.143462187253443e-05, 8.577915587763589e-05, 9.241726081398196e-05, 0.00012349487016243593, 0.001951413725286344, 0.0009037805069785636, 0.0875459834933281], [3, 0.012192441, 0.01224412, 0.01224412, 0.013166627, 0.012363796487988582, 0.008586424211866363, 0.005380356117645946, 0.002860482861341153, 0.015392269039372528, 0.011347708514632475, 0.00687883532767121, 0.00298491509760821, 0.07192748725123682, 0.012509211212179922, 0.03425334393978119], [4, 0.021884039, 0.022155017, 0.023888309, 0.030598862, 0.022485064082938593, 0.015825804034119893, 0.010946368344677734, 0.006791629176013321, 0.02888112029592906, 0.022189799330330322, 0.013938353141363626, 0.006181598099603325, 0.14048288342581153, 0.0233908867031529, 0.016079092398285866], [5, 0.035313595, 0.03689594, 0.04460393, 0.05987708, 0.03648430374477475, 0.026565143429333925, 0.020454688363116647, 0.013674394527261772, 0.03790084144653738, 0.029984532090436136, 0.019640556776447965, 0.009293996302246404, 0.16690325571606437, 0.031002429439172696, 0.00896468199789524]]\n",
      "-----------------------------------------------------------------------------------------\n"
     ]
    },
    {
     "name": "stderr",
     "output_type": "stream",
     "text": [
      "  0%|          | 1/1065 [00:00<09:10,  1.93it/s]"
     ]
    },
    {
     "name": "stdout",
     "output_type": "stream",
     "text": [
      "Epoch 6: 0% , Loss: 0.010094\n"
     ]
    },
    {
     "name": "stderr",
     "output_type": "stream",
     "text": [
      "  9%|▉         | 101/1065 [00:26<04:05,  3.92it/s]"
     ]
    },
    {
     "name": "stdout",
     "output_type": "stream",
     "text": [
      "Epoch 6: 9% , Loss: 0.007145\n"
     ]
    },
    {
     "name": "stderr",
     "output_type": "stream",
     "text": [
      " 19%|█▉        | 201/1065 [00:53<03:53,  3.71it/s]"
     ]
    },
    {
     "name": "stdout",
     "output_type": "stream",
     "text": [
      "Epoch 6: 19% , Loss: 0.008560\n"
     ]
    },
    {
     "name": "stderr",
     "output_type": "stream",
     "text": [
      " 28%|██▊       | 301/1065 [01:20<03:28,  3.67it/s]"
     ]
    },
    {
     "name": "stdout",
     "output_type": "stream",
     "text": [
      "Epoch 6: 28% , Loss: 0.009644\n"
     ]
    },
    {
     "name": "stderr",
     "output_type": "stream",
     "text": [
      " 38%|███▊      | 401/1065 [01:51<03:40,  3.01it/s]"
     ]
    },
    {
     "name": "stdout",
     "output_type": "stream",
     "text": [
      "Epoch 6: 38% , Loss: 0.010681\n"
     ]
    },
    {
     "name": "stderr",
     "output_type": "stream",
     "text": [
      " 47%|████▋     | 501/1065 [02:21<02:45,  3.40it/s]"
     ]
    },
    {
     "name": "stdout",
     "output_type": "stream",
     "text": [
      "Epoch 6: 47% , Loss: 0.010094\n"
     ]
    },
    {
     "name": "stderr",
     "output_type": "stream",
     "text": [
      " 56%|█████▋    | 601/1065 [02:54<02:26,  3.17it/s]"
     ]
    },
    {
     "name": "stdout",
     "output_type": "stream",
     "text": [
      "Epoch 6: 56% , Loss: 0.008034\n"
     ]
    },
    {
     "name": "stderr",
     "output_type": "stream",
     "text": [
      " 66%|██████▌   | 701/1065 [03:27<02:02,  2.96it/s]"
     ]
    },
    {
     "name": "stdout",
     "output_type": "stream",
     "text": [
      "Epoch 6: 66% , Loss: 0.007298\n"
     ]
    },
    {
     "name": "stderr",
     "output_type": "stream",
     "text": [
      " 75%|███████▌  | 801/1065 [04:01<01:24,  3.12it/s]"
     ]
    },
    {
     "name": "stdout",
     "output_type": "stream",
     "text": [
      "Epoch 6: 75% , Loss: 0.006943\n"
     ]
    },
    {
     "name": "stderr",
     "output_type": "stream",
     "text": [
      " 85%|████████▍ | 901/1065 [04:36<01:06,  2.48it/s]"
     ]
    },
    {
     "name": "stdout",
     "output_type": "stream",
     "text": [
      "Epoch 6: 85% , Loss: 0.006317\n"
     ]
    },
    {
     "name": "stderr",
     "output_type": "stream",
     "text": [
      " 94%|█████████▍| 1001/1065 [05:12<00:24,  2.61it/s]"
     ]
    },
    {
     "name": "stdout",
     "output_type": "stream",
     "text": [
      "Epoch 6: 94% , Loss: 0.009102\n"
     ]
    },
    {
     "name": "stderr",
     "output_type": "stream",
     "text": [
      "100%|██████████| 1065/1065 [05:36<00:00,  3.16it/s]"
     ]
    },
    {
     "name": "stdout",
     "output_type": "stream",
     "text": [
      "Epoch 6: 100% , Loss: 0.006809\n"
     ]
    },
    {
     "name": "stderr",
     "output_type": "stream",
     "text": [
      "\n"
     ]
    },
    {
     "name": "stdout",
     "output_type": "stream",
     "text": [
      "                      (HR@5: 0.0386, HR@10: 0.0494, HR@20: 0.0604, HR@50: 0.0778)\n",
      "\n",
      "                      (F1-score@5: 0.0399, F1-score@10: 0.0356, F1-score@20: 0.0279, F1-score@50: 0.0178)\n",
      "\n",
      "                      (NDCG@5: 0.0397, NDCG@10: 0.0341, NDCG@20: 0.0226, NDCG@50: 0.0107)\n",
      "\n",
      "MRR: 0.16964323833548145\n",
      "MAP: 0.03525342815332054\n",
      "train_loss= tensor(0.0079)\n",
      "--------------------\n"
     ]
    },
    {
     "name": "stderr",
     "output_type": "stream",
     "text": [
      "100%|██████████| 133/133 [00:21<00:00,  6.21it/s]\n"
     ]
    },
    {
     "name": "stdout",
     "output_type": "stream",
     "text": [
      "                      (HR@5: 0.0392, HR@10: 0.0572, HR@20: 0.0732, HR@50: 0.0976)\n",
      "\n",
      "                      (F1-score@5: 0.0407, F1-score@10: 0.0418, F1-score@20: 0.0347, F1-score@50: 0.0236)\n",
      "\n",
      "                      (NDCG@5: 0.0377, NDCG@10: 0.0368, NDCG@20: 0.0263, NDCG@50: 0.0128)\n",
      "\n",
      "MRR: 0.17264041168508268\n",
      "MAP: 0.03674119170932703\n",
      "val_loss= tensor(0.0064)\n",
      "--------------------\n"
     ]
    },
    {
     "name": "stderr",
     "output_type": "stream",
     "text": [
      "100%|██████████| 133/133 [00:21<00:00,  6.25it/s]\n"
     ]
    },
    {
     "name": "stdout",
     "output_type": "stream",
     "text": [
      "                      (HR@5: 0.0455, HR@10: 0.0602, HR@20: 0.0759, HR@50: 0.1038)\n",
      "\n",
      "                      (F1-score@5: 0.0474, F1-score@10: 0.0444, F1-score@20: 0.0365, F1-score@50: 0.0251)\n",
      "\n",
      "                      (NDCG@5: 0.0444, NDCG@10: 0.0404, NDCG@20: 0.0284, NDCG@50: 0.0141)\n",
      "\n",
      "MRR: 0.19610433961008\n",
      "MAP: 0.040596246854685\n",
      "--------------------\n",
      "[[1, 8.4016865e-05, 8.4016865e-05, 0.000114334594, 0.000891291, 0.00013234617155132733, 0.00010999721526037315, 0.0001199328415576757, 0.000390551794612985, 5.351662061604342e-05, 6.386598123979748e-05, 8.58788984246496e-05, 0.00018388043198020276, 0.0020697745302244, 0.000889444836566718, 0.2638903260231018], [2, 6.265665e-05, 0.000114334594, 0.000114334594, 0.0005418272, 9.398496240601504e-05, 0.00015584353838525854, 0.00011993284155767572, 0.00023222520913294107, 4.143462187253443e-05, 8.577915587763589e-05, 9.241726081398196e-05, 0.00012349487016243593, 0.001951413725286344, 0.0009037805069785636, 0.0875459834933281], [3, 0.012192441, 0.01224412, 0.01224412, 0.013166627, 0.012363796487988582, 0.008586424211866363, 0.005380356117645946, 0.002860482861341153, 0.015392269039372528, 0.011347708514632475, 0.00687883532767121, 0.00298491509760821, 0.07192748725123682, 0.012509211212179922, 0.03425334393978119], [4, 0.021884039, 0.022155017, 0.023888309, 0.030598862, 0.022485064082938593, 0.015825804034119893, 0.010946368344677734, 0.006791629176013321, 0.02888112029592906, 0.022189799330330322, 0.013938353141363626, 0.006181598099603325, 0.14048288342581153, 0.0233908867031529, 0.016079092398285866], [5, 0.035313595, 0.03689594, 0.04460393, 0.05987708, 0.03648430374477475, 0.026565143429333925, 0.020454688363116647, 0.013674394527261772, 0.03790084144653738, 0.029984532090436136, 0.019640556776447965, 0.009293996302246404, 0.16690325571606437, 0.031002429439172696, 0.00896468199789524], [6, 0.04552606, 0.060163807, 0.0759388, 0.10377261, 0.04742959476789486, 0.04435664557546601, 0.036499449037326145, 0.025068013379631365, 0.04435161786342978, 0.040414372592100074, 0.02835035588263177, 0.014099337304137032, 0.19610433961008, 0.040596246854685, 0.006402811501175165]]\n",
      "-----------------------------------------------------------------------------------------\n"
     ]
    },
    {
     "name": "stderr",
     "output_type": "stream",
     "text": [
      "  0%|          | 1/1065 [00:00<07:00,  2.53it/s]"
     ]
    },
    {
     "name": "stdout",
     "output_type": "stream",
     "text": [
      "Epoch 7: 0% , Loss: 0.006088\n"
     ]
    },
    {
     "name": "stderr",
     "output_type": "stream",
     "text": [
      "  9%|▉         | 101/1065 [00:26<04:15,  3.77it/s]"
     ]
    },
    {
     "name": "stdout",
     "output_type": "stream",
     "text": [
      "Epoch 7: 9% , Loss: 0.005970\n"
     ]
    },
    {
     "name": "stderr",
     "output_type": "stream",
     "text": [
      " 19%|█▉        | 201/1065 [00:52<03:51,  3.74it/s]"
     ]
    },
    {
     "name": "stdout",
     "output_type": "stream",
     "text": [
      "Epoch 7: 19% , Loss: 0.004669\n"
     ]
    },
    {
     "name": "stderr",
     "output_type": "stream",
     "text": [
      " 28%|██▊       | 301/1065 [01:21<03:36,  3.54it/s]"
     ]
    },
    {
     "name": "stdout",
     "output_type": "stream",
     "text": [
      "Epoch 7: 28% , Loss: 0.006008\n"
     ]
    },
    {
     "name": "stderr",
     "output_type": "stream",
     "text": [
      " 38%|███▊      | 401/1065 [01:51<03:53,  2.85it/s]"
     ]
    },
    {
     "name": "stdout",
     "output_type": "stream",
     "text": [
      "Epoch 7: 38% , Loss: 0.007374\n"
     ]
    },
    {
     "name": "stderr",
     "output_type": "stream",
     "text": [
      " 47%|████▋     | 501/1065 [02:22<02:58,  3.16it/s]"
     ]
    },
    {
     "name": "stdout",
     "output_type": "stream",
     "text": [
      "Epoch 7: 47% , Loss: 0.007641\n"
     ]
    },
    {
     "name": "stderr",
     "output_type": "stream",
     "text": [
      " 56%|█████▋    | 601/1065 [02:53<02:32,  3.04it/s]"
     ]
    },
    {
     "name": "stdout",
     "output_type": "stream",
     "text": [
      "Epoch 7: 56% , Loss: 0.004360\n"
     ]
    },
    {
     "name": "stderr",
     "output_type": "stream",
     "text": [
      " 66%|██████▌   | 701/1065 [03:26<02:06,  2.87it/s]"
     ]
    },
    {
     "name": "stdout",
     "output_type": "stream",
     "text": [
      "Epoch 7: 66% , Loss: 0.005383\n"
     ]
    },
    {
     "name": "stderr",
     "output_type": "stream",
     "text": [
      " 75%|███████▌  | 801/1065 [04:00<01:32,  2.85it/s]"
     ]
    },
    {
     "name": "stdout",
     "output_type": "stream",
     "text": [
      "Epoch 7: 75% , Loss: 0.005669\n"
     ]
    },
    {
     "name": "stderr",
     "output_type": "stream",
     "text": [
      " 85%|████████▍ | 901/1065 [04:35<00:56,  2.90it/s]"
     ]
    },
    {
     "name": "stdout",
     "output_type": "stream",
     "text": [
      "Epoch 7: 85% , Loss: 0.004070\n"
     ]
    },
    {
     "name": "stderr",
     "output_type": "stream",
     "text": [
      " 94%|█████████▍| 1001/1065 [05:12<00:23,  2.71it/s]"
     ]
    },
    {
     "name": "stdout",
     "output_type": "stream",
     "text": [
      "Epoch 7: 94% , Loss: 0.005157\n"
     ]
    },
    {
     "name": "stderr",
     "output_type": "stream",
     "text": [
      "100%|██████████| 1065/1065 [05:35<00:00,  3.17it/s]"
     ]
    },
    {
     "name": "stdout",
     "output_type": "stream",
     "text": [
      "Epoch 7: 100% , Loss: 0.005203\n"
     ]
    },
    {
     "name": "stderr",
     "output_type": "stream",
     "text": [
      "\n"
     ]
    },
    {
     "name": "stdout",
     "output_type": "stream",
     "text": [
      "                      (HR@5: 0.0425, HR@10: 0.0604, HR@20: 0.0823, HR@50: 0.1229)\n",
      "\n",
      "                      (F1-score@5: 0.0441, F1-score@10: 0.0439, F1-score@20: 0.0390, F1-score@50: 0.0294)\n",
      "\n",
      "                      (NDCG@5: 0.0421, NDCG@10: 0.0387, NDCG@20: 0.0277, NDCG@50: 0.0146)\n",
      "\n",
      "MRR: 0.18491841289709918\n",
      "MAP: 0.042234297719299554\n",
      "train_loss= tensor(0.0059)\n",
      "--------------------\n"
     ]
    },
    {
     "name": "stderr",
     "output_type": "stream",
     "text": [
      "100%|██████████| 133/133 [00:21<00:00,  6.24it/s]\n"
     ]
    },
    {
     "name": "stdout",
     "output_type": "stream",
     "text": [
      "                      (HR@5: 0.0404, HR@10: 0.0601, HR@20: 0.0810, HR@50: 0.1310)\n",
      "\n",
      "                      (F1-score@5: 0.0419, F1-score@10: 0.0438, F1-score@20: 0.0389, F1-score@50: 0.0318)\n",
      "\n",
      "                      (NDCG@5: 0.0383, NDCG@10: 0.0376, NDCG@20: 0.0281, NDCG@50: 0.0152)\n",
      "\n",
      "MRR: 0.1772013289179424\n",
      "MAP: 0.04087376138513619\n",
      "val_loss= tensor(0.0050)\n",
      "--------------------\n"
     ]
    },
    {
     "name": "stderr",
     "output_type": "stream",
     "text": [
      "100%|██████████| 133/133 [00:21<00:00,  6.23it/s]\n"
     ]
    },
    {
     "name": "stdout",
     "output_type": "stream",
     "text": [
      "                      (HR@5: 0.0451, HR@10: 0.0619, HR@20: 0.0854, HR@50: 0.1330)\n",
      "\n",
      "                      (F1-score@5: 0.0469, F1-score@10: 0.0455, F1-score@20: 0.0410, F1-score@50: 0.0321)\n",
      "\n",
      "                      (NDCG@5: 0.0441, NDCG@10: 0.0406, NDCG@20: 0.0298, NDCG@50: 0.0160)\n",
      "\n",
      "MRR: 0.19878249817468585\n",
      "MAP: 0.04433198613540528\n",
      "--------------------\n",
      "[[1, 8.4016865e-05, 8.4016865e-05, 0.000114334594, 0.000891291, 0.00013234617155132733, 0.00010999721526037315, 0.0001199328415576757, 0.000390551794612985, 5.351662061604342e-05, 6.386598123979748e-05, 8.58788984246496e-05, 0.00018388043198020276, 0.0020697745302244, 0.000889444836566718, 0.2638903260231018], [2, 6.265665e-05, 0.000114334594, 0.000114334594, 0.0005418272, 9.398496240601504e-05, 0.00015584353838525854, 0.00011993284155767572, 0.00023222520913294107, 4.143462187253443e-05, 8.577915587763589e-05, 9.241726081398196e-05, 0.00012349487016243593, 0.001951413725286344, 0.0009037805069785636, 0.0875459834933281], [3, 0.012192441, 0.01224412, 0.01224412, 0.013166627, 0.012363796487988582, 0.008586424211866363, 0.005380356117645946, 0.002860482861341153, 0.015392269039372528, 0.011347708514632475, 0.00687883532767121, 0.00298491509760821, 0.07192748725123682, 0.012509211212179922, 0.03425334393978119], [4, 0.021884039, 0.022155017, 0.023888309, 0.030598862, 0.022485064082938593, 0.015825804034119893, 0.010946368344677734, 0.006791629176013321, 0.02888112029592906, 0.022189799330330322, 0.013938353141363626, 0.006181598099603325, 0.14048288342581153, 0.0233908867031529, 0.016079092398285866], [5, 0.035313595, 0.03689594, 0.04460393, 0.05987708, 0.03648430374477475, 0.026565143429333925, 0.020454688363116647, 0.013674394527261772, 0.03790084144653738, 0.029984532090436136, 0.019640556776447965, 0.009293996302246404, 0.16690325571606437, 0.031002429439172696, 0.00896468199789524], [6, 0.04552606, 0.060163807, 0.0759388, 0.10377261, 0.04742959476789486, 0.04435664557546601, 0.036499449037326145, 0.025068013379631365, 0.04435161786342978, 0.040414372592100074, 0.02835035588263177, 0.014099337304137032, 0.19610433961008, 0.040596246854685, 0.006402811501175165], [7, 0.04505384, 0.061919995, 0.08535158, 0.13296558, 0.04685116940588034, 0.045459853853643435, 0.040955721563986296, 0.03206007849413344, 0.044097254143789746, 0.040629268884728835, 0.029831262100557972, 0.01600950769905029, 0.19878249817468585, 0.04433198613540528, 0.005035687237977982]]\n",
      "-----------------------------------------------------------------------------------------\n"
     ]
    },
    {
     "name": "stderr",
     "output_type": "stream",
     "text": [
      "  0%|          | 1/1065 [00:00<06:38,  2.67it/s]"
     ]
    },
    {
     "name": "stdout",
     "output_type": "stream",
     "text": [
      "Epoch 8: 0% , Loss: 0.003405\n"
     ]
    },
    {
     "name": "stderr",
     "output_type": "stream",
     "text": [
      "  9%|▉         | 101/1065 [00:26<04:07,  3.90it/s]"
     ]
    },
    {
     "name": "stdout",
     "output_type": "stream",
     "text": [
      "Epoch 8: 9% , Loss: 0.005692\n"
     ]
    },
    {
     "name": "stderr",
     "output_type": "stream",
     "text": [
      " 19%|█▉        | 201/1065 [00:53<03:56,  3.65it/s]"
     ]
    },
    {
     "name": "stdout",
     "output_type": "stream",
     "text": [
      "Epoch 8: 19% , Loss: 0.005810\n"
     ]
    },
    {
     "name": "stderr",
     "output_type": "stream",
     "text": [
      " 28%|██▊       | 301/1065 [01:22<04:02,  3.15it/s]"
     ]
    },
    {
     "name": "stdout",
     "output_type": "stream",
     "text": [
      "Epoch 8: 28% , Loss: 0.005672\n"
     ]
    },
    {
     "name": "stderr",
     "output_type": "stream",
     "text": [
      " 38%|███▊      | 401/1065 [01:51<03:08,  3.52it/s]"
     ]
    },
    {
     "name": "stdout",
     "output_type": "stream",
     "text": [
      "Epoch 8: 38% , Loss: 0.003088\n"
     ]
    },
    {
     "name": "stderr",
     "output_type": "stream",
     "text": [
      " 47%|████▋     | 501/1065 [02:22<02:45,  3.40it/s]"
     ]
    },
    {
     "name": "stdout",
     "output_type": "stream",
     "text": [
      "Epoch 8: 47% , Loss: 0.004120\n"
     ]
    },
    {
     "name": "stderr",
     "output_type": "stream",
     "text": [
      " 56%|█████▋    | 601/1065 [02:54<02:38,  2.93it/s]"
     ]
    },
    {
     "name": "stdout",
     "output_type": "stream",
     "text": [
      "Epoch 8: 56% , Loss: 0.003534\n"
     ]
    },
    {
     "name": "stderr",
     "output_type": "stream",
     "text": [
      " 66%|██████▌   | 701/1065 [03:28<02:02,  2.96it/s]"
     ]
    },
    {
     "name": "stdout",
     "output_type": "stream",
     "text": [
      "Epoch 8: 66% , Loss: 0.004368\n"
     ]
    },
    {
     "name": "stderr",
     "output_type": "stream",
     "text": [
      " 75%|███████▌  | 801/1065 [04:02<01:39,  2.64it/s]"
     ]
    },
    {
     "name": "stdout",
     "output_type": "stream",
     "text": [
      "Epoch 8: 75% , Loss: 0.003435\n"
     ]
    },
    {
     "name": "stderr",
     "output_type": "stream",
     "text": [
      " 85%|████████▍ | 901/1065 [04:36<00:57,  2.85it/s]"
     ]
    },
    {
     "name": "stdout",
     "output_type": "stream",
     "text": [
      "Epoch 8: 85% , Loss: 0.004471\n"
     ]
    },
    {
     "name": "stderr",
     "output_type": "stream",
     "text": [
      " 94%|█████████▍| 1001/1065 [05:12<00:24,  2.63it/s]"
     ]
    },
    {
     "name": "stdout",
     "output_type": "stream",
     "text": [
      "Epoch 8: 94% , Loss: 0.003466\n"
     ]
    },
    {
     "name": "stderr",
     "output_type": "stream",
     "text": [
      "100%|██████████| 1065/1065 [05:36<00:00,  3.16it/s]"
     ]
    },
    {
     "name": "stdout",
     "output_type": "stream",
     "text": [
      "Epoch 8: 100% , Loss: 0.004551\n"
     ]
    },
    {
     "name": "stderr",
     "output_type": "stream",
     "text": [
      "\n"
     ]
    },
    {
     "name": "stdout",
     "output_type": "stream",
     "text": [
      "                      (HR@5: 0.0417, HR@10: 0.0606, HR@20: 0.0843, HR@50: 0.1364)\n",
      "\n",
      "                      (F1-score@5: 0.0432, F1-score@10: 0.0440, F1-score@20: 0.0399, F1-score@50: 0.0328)\n",
      "\n",
      "                      (NDCG@5: 0.0417, NDCG@10: 0.0386, NDCG@20: 0.0280, NDCG@50: 0.0155)\n",
      "\n",
      "MRR: 0.18592984349777633\n",
      "MAP: 0.04466779978717763\n",
      "train_loss= tensor(0.0049)\n",
      "--------------------\n"
     ]
    },
    {
     "name": "stderr",
     "output_type": "stream",
     "text": [
      "100%|██████████| 133/133 [00:21<00:00,  6.21it/s]\n"
     ]
    },
    {
     "name": "stdout",
     "output_type": "stream",
     "text": [
      "                      (HR@5: 0.0407, HR@10: 0.0577, HR@20: 0.0803, HR@50: 0.1308)\n",
      "\n",
      "                      (F1-score@5: 0.0422, F1-score@10: 0.0425, F1-score@20: 0.0386, F1-score@50: 0.0319)\n",
      "\n",
      "                      (NDCG@5: 0.0384, NDCG@10: 0.0372, NDCG@20: 0.0280, NDCG@50: 0.0152)\n",
      "\n",
      "MRR: 0.17713847871743763\n",
      "MAP: 0.04203685076923094\n",
      "val_loss= tensor(0.0045)\n",
      "--------------------\n"
     ]
    },
    {
     "name": "stderr",
     "output_type": "stream",
     "text": [
      "100%|██████████| 133/133 [00:21<00:00,  6.27it/s]\n"
     ]
    },
    {
     "name": "stdout",
     "output_type": "stream",
     "text": [
      "                      (HR@5: 0.0430, HR@10: 0.0601, HR@20: 0.0861, HR@50: 0.1345)\n",
      "\n",
      "                      (F1-score@5: 0.0449, F1-score@10: 0.0444, F1-score@20: 0.0415, F1-score@50: 0.0325)\n",
      "\n",
      "                      (NDCG@5: 0.0432, NDCG@10: 0.0402, NDCG@20: 0.0300, NDCG@50: 0.0161)\n",
      "\n",
      "MRR: 0.19880403722470383\n",
      "MAP: 0.04537726715299089\n",
      "--------------------\n",
      "[[1, 8.4016865e-05, 8.4016865e-05, 0.000114334594, 0.000891291, 0.00013234617155132733, 0.00010999721526037315, 0.0001199328415576757, 0.000390551794612985, 5.351662061604342e-05, 6.386598123979748e-05, 8.58788984246496e-05, 0.00018388043198020276, 0.0020697745302244, 0.000889444836566718, 0.2638903260231018], [2, 6.265665e-05, 0.000114334594, 0.000114334594, 0.0005418272, 9.398496240601504e-05, 0.00015584353838525854, 0.00011993284155767572, 0.00023222520913294107, 4.143462187253443e-05, 8.577915587763589e-05, 9.241726081398196e-05, 0.00012349487016243593, 0.001951413725286344, 0.0009037805069785636, 0.0875459834933281], [3, 0.012192441, 0.01224412, 0.01224412, 0.013166627, 0.012363796487988582, 0.008586424211866363, 0.005380356117645946, 0.002860482861341153, 0.015392269039372528, 0.011347708514632475, 0.00687883532767121, 0.00298491509760821, 0.07192748725123682, 0.012509211212179922, 0.03425334393978119], [4, 0.021884039, 0.022155017, 0.023888309, 0.030598862, 0.022485064082938593, 0.015825804034119893, 0.010946368344677734, 0.006791629176013321, 0.02888112029592906, 0.022189799330330322, 0.013938353141363626, 0.006181598099603325, 0.14048288342581153, 0.0233908867031529, 0.016079092398285866], [5, 0.035313595, 0.03689594, 0.04460393, 0.05987708, 0.03648430374477475, 0.026565143429333925, 0.020454688363116647, 0.013674394527261772, 0.03790084144653738, 0.029984532090436136, 0.019640556776447965, 0.009293996302246404, 0.16690325571606437, 0.031002429439172696, 0.00896468199789524], [6, 0.04552606, 0.060163807, 0.0759388, 0.10377261, 0.04742959476789486, 0.04435664557546601, 0.036499449037326145, 0.025068013379631365, 0.04435161786342978, 0.040414372592100074, 0.02835035588263177, 0.014099337304137032, 0.19610433961008, 0.040596246854685, 0.006402811501175165], [7, 0.04505384, 0.061919995, 0.08535158, 0.13296558, 0.04685116940588034, 0.045459853853643435, 0.040955721563986296, 0.03206007849413344, 0.044097254143789746, 0.040629268884728835, 0.029831262100557972, 0.01600950769905029, 0.19878249817468585, 0.04433198613540528, 0.005035687237977982], [8, 0.04302973, 0.06006305, 0.0861205, 0.13450408, 0.044897222652263445, 0.0444229229232266, 0.04149130796157705, 0.032486319755374714, 0.04316306434732799, 0.040223642770565095, 0.030037039407718003, 0.01614683551741834, 0.19880403722470383, 0.04537726715299089, 0.004491719882935286]]\n",
      "-----------------------------------------------------------------------------------------\n"
     ]
    },
    {
     "name": "stderr",
     "output_type": "stream",
     "text": [
      "  0%|          | 1/1065 [00:00<06:24,  2.77it/s]"
     ]
    },
    {
     "name": "stdout",
     "output_type": "stream",
     "text": [
      "Epoch 9: 0% , Loss: 0.004593\n"
     ]
    },
    {
     "name": "stderr",
     "output_type": "stream",
     "text": [
      "  9%|▉         | 101/1065 [00:26<04:22,  3.67it/s]"
     ]
    },
    {
     "name": "stdout",
     "output_type": "stream",
     "text": [
      "Epoch 9: 9% , Loss: 0.007057\n"
     ]
    },
    {
     "name": "stderr",
     "output_type": "stream",
     "text": [
      " 19%|█▉        | 201/1065 [00:53<04:00,  3.60it/s]"
     ]
    },
    {
     "name": "stdout",
     "output_type": "stream",
     "text": [
      "Epoch 9: 19% , Loss: 0.003220\n"
     ]
    },
    {
     "name": "stderr",
     "output_type": "stream",
     "text": [
      " 28%|██▊       | 301/1065 [01:22<03:44,  3.40it/s]"
     ]
    },
    {
     "name": "stdout",
     "output_type": "stream",
     "text": [
      "Epoch 9: 28% , Loss: 0.002989\n"
     ]
    },
    {
     "name": "stderr",
     "output_type": "stream",
     "text": [
      " 38%|███▊      | 401/1065 [01:52<03:31,  3.13it/s]"
     ]
    },
    {
     "name": "stdout",
     "output_type": "stream",
     "text": [
      "Epoch 9: 38% , Loss: 0.004215\n"
     ]
    },
    {
     "name": "stderr",
     "output_type": "stream",
     "text": [
      " 47%|████▋     | 501/1065 [02:23<02:58,  3.16it/s]"
     ]
    },
    {
     "name": "stdout",
     "output_type": "stream",
     "text": [
      "Epoch 9: 47% , Loss: 0.003994\n"
     ]
    },
    {
     "name": "stderr",
     "output_type": "stream",
     "text": [
      " 56%|█████▋    | 601/1065 [02:55<02:43,  2.83it/s]"
     ]
    },
    {
     "name": "stdout",
     "output_type": "stream",
     "text": [
      "Epoch 9: 56% , Loss: 0.003948\n"
     ]
    },
    {
     "name": "stderr",
     "output_type": "stream",
     "text": [
      " 66%|██████▌   | 701/1065 [03:27<02:01,  2.99it/s]"
     ]
    },
    {
     "name": "stdout",
     "output_type": "stream",
     "text": [
      "Epoch 9: 66% , Loss: 0.006866\n"
     ]
    },
    {
     "name": "stderr",
     "output_type": "stream",
     "text": [
      " 75%|███████▌  | 801/1065 [04:02<01:27,  3.01it/s]"
     ]
    },
    {
     "name": "stdout",
     "output_type": "stream",
     "text": [
      "Epoch 9: 75% , Loss: 0.003748\n"
     ]
    },
    {
     "name": "stderr",
     "output_type": "stream",
     "text": [
      " 85%|████████▍ | 901/1065 [04:37<01:00,  2.69it/s]"
     ]
    },
    {
     "name": "stdout",
     "output_type": "stream",
     "text": [
      "Epoch 9: 85% , Loss: 0.007240\n"
     ]
    },
    {
     "name": "stderr",
     "output_type": "stream",
     "text": [
      " 94%|█████████▍| 1001/1065 [05:13<00:22,  2.79it/s]"
     ]
    },
    {
     "name": "stdout",
     "output_type": "stream",
     "text": [
      "Epoch 9: 94% , Loss: 0.005299\n"
     ]
    },
    {
     "name": "stderr",
     "output_type": "stream",
     "text": [
      "100%|██████████| 1065/1065 [05:36<00:00,  3.17it/s]"
     ]
    },
    {
     "name": "stdout",
     "output_type": "stream",
     "text": [
      "Epoch 9: 100% , Loss: 0.004574\n"
     ]
    },
    {
     "name": "stderr",
     "output_type": "stream",
     "text": [
      "\n"
     ]
    },
    {
     "name": "stdout",
     "output_type": "stream",
     "text": [
      "                      (HR@5: 0.0418, HR@10: 0.0605, HR@20: 0.0843, HR@50: 0.1373)\n",
      "\n",
      "                      (F1-score@5: 0.0433, F1-score@10: 0.0438, F1-score@20: 0.0400, F1-score@50: 0.0330)\n",
      "\n",
      "                      (NDCG@5: 0.0417, NDCG@10: 0.0384, NDCG@20: 0.0281, NDCG@50: 0.0155)\n",
      "\n",
      "MRR: 0.18614105900743116\n",
      "MAP: 0.04553568409773056\n",
      "train_loss= tensor(0.0045)\n",
      "--------------------\n"
     ]
    },
    {
     "name": "stderr",
     "output_type": "stream",
     "text": [
      "100%|██████████| 133/133 [00:21<00:00,  6.23it/s]\n"
     ]
    },
    {
     "name": "stdout",
     "output_type": "stream",
     "text": [
      "                      (HR@5: 0.0407, HR@10: 0.0594, HR@20: 0.0787, HR@50: 0.1291)\n",
      "\n",
      "                      (F1-score@5: 0.0423, F1-score@10: 0.0435, F1-score@20: 0.0380, F1-score@50: 0.0315)\n",
      "\n",
      "                      (NDCG@5: 0.0383, NDCG@10: 0.0376, NDCG@20: 0.0278, NDCG@50: 0.0151)\n",
      "\n",
      "MRR: 0.17736320824208981\n",
      "MAP: 0.04234879789079473\n",
      "val_loss= tensor(0.0042)\n",
      "--------------------\n"
     ]
    },
    {
     "name": "stderr",
     "output_type": "stream",
     "text": [
      "100%|██████████| 133/133 [00:21<00:00,  6.24it/s]\n"
     ]
    },
    {
     "name": "stdout",
     "output_type": "stream",
     "text": [
      "                      (HR@5: 0.0430, HR@10: 0.0604, HR@20: 0.0865, HR@50: 0.1338)\n",
      "\n",
      "                      (F1-score@5: 0.0450, F1-score@10: 0.0447, F1-score@20: 0.0414, F1-score@50: 0.0323)\n",
      "\n",
      "                      (NDCG@5: 0.0430, NDCG@10: 0.0400, NDCG@20: 0.0298, NDCG@50: 0.0160)\n",
      "\n",
      "MRR: 0.19746552954865476\n",
      "MAP: 0.04551373985467269\n",
      "--------------------\n",
      "[[1, 8.4016865e-05, 8.4016865e-05, 0.000114334594, 0.000891291, 0.00013234617155132733, 0.00010999721526037315, 0.0001199328415576757, 0.000390551794612985, 5.351662061604342e-05, 6.386598123979748e-05, 8.58788984246496e-05, 0.00018388043198020276, 0.0020697745302244, 0.000889444836566718, 0.2638903260231018], [2, 6.265665e-05, 0.000114334594, 0.000114334594, 0.0005418272, 9.398496240601504e-05, 0.00015584353838525854, 0.00011993284155767572, 0.00023222520913294107, 4.143462187253443e-05, 8.577915587763589e-05, 9.241726081398196e-05, 0.00012349487016243593, 0.001951413725286344, 0.0009037805069785636, 0.0875459834933281], [3, 0.012192441, 0.01224412, 0.01224412, 0.013166627, 0.012363796487988582, 0.008586424211866363, 0.005380356117645946, 0.002860482861341153, 0.015392269039372528, 0.011347708514632475, 0.00687883532767121, 0.00298491509760821, 0.07192748725123682, 0.012509211212179922, 0.03425334393978119], [4, 0.021884039, 0.022155017, 0.023888309, 0.030598862, 0.022485064082938593, 0.015825804034119893, 0.010946368344677734, 0.006791629176013321, 0.02888112029592906, 0.022189799330330322, 0.013938353141363626, 0.006181598099603325, 0.14048288342581153, 0.0233908867031529, 0.016079092398285866], [5, 0.035313595, 0.03689594, 0.04460393, 0.05987708, 0.03648430374477475, 0.026565143429333925, 0.020454688363116647, 0.013674394527261772, 0.03790084144653738, 0.029984532090436136, 0.019640556776447965, 0.009293996302246404, 0.16690325571606437, 0.031002429439172696, 0.00896468199789524], [6, 0.04552606, 0.060163807, 0.0759388, 0.10377261, 0.04742959476789486, 0.04435664557546601, 0.036499449037326145, 0.025068013379631365, 0.04435161786342978, 0.040414372592100074, 0.02835035588263177, 0.014099337304137032, 0.19610433961008, 0.040596246854685, 0.006402811501175165], [7, 0.04505384, 0.061919995, 0.08535158, 0.13296558, 0.04685116940588034, 0.045459853853643435, 0.040955721563986296, 0.03206007849413344, 0.044097254143789746, 0.040629268884728835, 0.029831262100557972, 0.01600950769905029, 0.19878249817468585, 0.04433198613540528, 0.005035687237977982], [8, 0.04302973, 0.06006305, 0.0861205, 0.13450408, 0.044897222652263445, 0.0444229229232266, 0.04149130796157705, 0.032486319755374714, 0.04316306434732799, 0.040223642770565095, 0.030037039407718003, 0.01614683551741834, 0.19880403722470383, 0.04537726715299089, 0.004491719882935286], [9, 0.043005683, 0.060361024, 0.0864748, 0.13380076, 0.045015886669618775, 0.04470404438117823, 0.04135591344730587, 0.032307265459489136, 0.04303652583271321, 0.040023145981875244, 0.029789363420078235, 0.016023503093458572, 0.19746552954865476, 0.04551373985467269, 0.004231818486005068]]\n",
      "-----------------------------------------------------------------------------------------\n"
     ]
    },
    {
     "name": "stderr",
     "output_type": "stream",
     "text": [
      "  0%|          | 1/1065 [00:00<07:13,  2.45it/s]"
     ]
    },
    {
     "name": "stdout",
     "output_type": "stream",
     "text": [
      "Epoch 10: 0% , Loss: 0.003109\n"
     ]
    },
    {
     "name": "stderr",
     "output_type": "stream",
     "text": [
      "  9%|▉         | 101/1065 [00:26<03:58,  4.04it/s]"
     ]
    },
    {
     "name": "stdout",
     "output_type": "stream",
     "text": [
      "Epoch 10: 9% , Loss: 0.003359\n"
     ]
    },
    {
     "name": "stderr",
     "output_type": "stream",
     "text": [
      " 19%|█▉        | 201/1065 [00:53<03:51,  3.73it/s]"
     ]
    },
    {
     "name": "stdout",
     "output_type": "stream",
     "text": [
      "Epoch 10: 19% , Loss: 0.004337\n"
     ]
    },
    {
     "name": "stderr",
     "output_type": "stream",
     "text": [
      " 28%|██▊       | 301/1065 [01:22<04:15,  2.99it/s]"
     ]
    },
    {
     "name": "stdout",
     "output_type": "stream",
     "text": [
      "Epoch 10: 28% , Loss: 0.004116\n"
     ]
    },
    {
     "name": "stderr",
     "output_type": "stream",
     "text": [
      " 38%|███▊      | 401/1065 [01:51<03:32,  3.12it/s]"
     ]
    },
    {
     "name": "stdout",
     "output_type": "stream",
     "text": [
      "Epoch 10: 38% , Loss: 0.004528\n"
     ]
    },
    {
     "name": "stderr",
     "output_type": "stream",
     "text": [
      " 47%|████▋     | 501/1065 [02:22<03:05,  3.05it/s]"
     ]
    },
    {
     "name": "stdout",
     "output_type": "stream",
     "text": [
      "Epoch 10: 47% , Loss: 0.003262\n"
     ]
    },
    {
     "name": "stderr",
     "output_type": "stream",
     "text": [
      " 56%|█████▋    | 601/1065 [02:55<02:33,  3.01it/s]"
     ]
    },
    {
     "name": "stdout",
     "output_type": "stream",
     "text": [
      "Epoch 10: 56% , Loss: 0.005226\n"
     ]
    },
    {
     "name": "stderr",
     "output_type": "stream",
     "text": [
      " 66%|██████▌   | 701/1065 [03:29<02:18,  2.63it/s]"
     ]
    },
    {
     "name": "stdout",
     "output_type": "stream",
     "text": [
      "Epoch 10: 66% , Loss: 0.002907\n"
     ]
    },
    {
     "name": "stderr",
     "output_type": "stream",
     "text": [
      " 75%|███████▌  | 801/1065 [04:03<01:26,  3.06it/s]"
     ]
    },
    {
     "name": "stdout",
     "output_type": "stream",
     "text": [
      "Epoch 10: 75% , Loss: 0.003538\n"
     ]
    },
    {
     "name": "stderr",
     "output_type": "stream",
     "text": [
      " 85%|████████▍ | 901/1065 [04:38<00:58,  2.83it/s]"
     ]
    },
    {
     "name": "stdout",
     "output_type": "stream",
     "text": [
      "Epoch 10: 85% , Loss: 0.005409\n"
     ]
    },
    {
     "name": "stderr",
     "output_type": "stream",
     "text": [
      " 94%|█████████▍| 1001/1065 [05:13<00:22,  2.80it/s]"
     ]
    },
    {
     "name": "stdout",
     "output_type": "stream",
     "text": [
      "Epoch 10: 94% , Loss: 0.004444\n"
     ]
    },
    {
     "name": "stderr",
     "output_type": "stream",
     "text": [
      "100%|██████████| 1065/1065 [05:37<00:00,  3.16it/s]"
     ]
    },
    {
     "name": "stdout",
     "output_type": "stream",
     "text": [
      "Epoch 10: 100% , Loss: 0.006084\n"
     ]
    },
    {
     "name": "stderr",
     "output_type": "stream",
     "text": [
      "\n"
     ]
    },
    {
     "name": "stdout",
     "output_type": "stream",
     "text": [
      "                      (HR@5: 0.0421, HR@10: 0.0601, HR@20: 0.0838, HR@50: 0.1370)\n",
      "\n",
      "                      (F1-score@5: 0.0436, F1-score@10: 0.0437, F1-score@20: 0.0397, F1-score@50: 0.0328)\n",
      "\n",
      "                      (NDCG@5: 0.0418, NDCG@10: 0.0385, NDCG@20: 0.0280, NDCG@50: 0.0155)\n",
      "\n",
      "MRR: 0.18625841356653472\n",
      "MAP: 0.045798717766978435\n",
      "train_loss= tensor(0.0043)\n",
      "--------------------\n"
     ]
    },
    {
     "name": "stderr",
     "output_type": "stream",
     "text": [
      "100%|██████████| 133/133 [00:21<00:00,  6.27it/s]\n"
     ]
    },
    {
     "name": "stdout",
     "output_type": "stream",
     "text": [
      "                      (HR@5: 0.0407, HR@10: 0.0581, HR@20: 0.0806, HR@50: 0.1275)\n",
      "\n",
      "                      (F1-score@5: 0.0424, F1-score@10: 0.0424, F1-score@20: 0.0385, F1-score@50: 0.0311)\n",
      "\n",
      "                      (NDCG@5: 0.0384, NDCG@10: 0.0371, NDCG@20: 0.0278, NDCG@50: 0.0150)\n",
      "\n",
      "MRR: 0.17680335784545437\n",
      "MAP: 0.042655775389115795\n",
      "val_loss= tensor(0.0041)\n",
      "--------------------\n"
     ]
    },
    {
     "name": "stderr",
     "output_type": "stream",
     "text": [
      "100%|██████████| 133/133 [00:21<00:00,  6.27it/s]\n"
     ]
    },
    {
     "name": "stdout",
     "output_type": "stream",
     "text": [
      "                      (HR@5: 0.0445, HR@10: 0.0617, HR@20: 0.0873, HR@50: 0.1336)\n",
      "\n",
      "                      (F1-score@5: 0.0465, F1-score@10: 0.0455, F1-score@20: 0.0416, F1-score@50: 0.0321)\n",
      "\n",
      "                      (NDCG@5: 0.0439, NDCG@10: 0.0408, NDCG@20: 0.0300, NDCG@50: 0.0160)\n",
      "\n",
      "MRR: 0.20030646363268975\n",
      "MAP: 0.04601126590931668\n",
      "--------------------\n",
      "[[1, 8.4016865e-05, 8.4016865e-05, 0.000114334594, 0.000891291, 0.00013234617155132733, 0.00010999721526037315, 0.0001199328415576757, 0.000390551794612985, 5.351662061604342e-05, 6.386598123979748e-05, 8.58788984246496e-05, 0.00018388043198020276, 0.0020697745302244, 0.000889444836566718, 0.2638903260231018], [2, 6.265665e-05, 0.000114334594, 0.000114334594, 0.0005418272, 9.398496240601504e-05, 0.00015584353838525854, 0.00011993284155767572, 0.00023222520913294107, 4.143462187253443e-05, 8.577915587763589e-05, 9.241726081398196e-05, 0.00012349487016243593, 0.001951413725286344, 0.0009037805069785636, 0.0875459834933281], [3, 0.012192441, 0.01224412, 0.01224412, 0.013166627, 0.012363796487988582, 0.008586424211866363, 0.005380356117645946, 0.002860482861341153, 0.015392269039372528, 0.011347708514632475, 0.00687883532767121, 0.00298491509760821, 0.07192748725123682, 0.012509211212179922, 0.03425334393978119], [4, 0.021884039, 0.022155017, 0.023888309, 0.030598862, 0.022485064082938593, 0.015825804034119893, 0.010946368344677734, 0.006791629176013321, 0.02888112029592906, 0.022189799330330322, 0.013938353141363626, 0.006181598099603325, 0.14048288342581153, 0.0233908867031529, 0.016079092398285866], [5, 0.035313595, 0.03689594, 0.04460393, 0.05987708, 0.03648430374477475, 0.026565143429333925, 0.020454688363116647, 0.013674394527261772, 0.03790084144653738, 0.029984532090436136, 0.019640556776447965, 0.009293996302246404, 0.16690325571606437, 0.031002429439172696, 0.00896468199789524], [6, 0.04552606, 0.060163807, 0.0759388, 0.10377261, 0.04742959476789486, 0.04435664557546601, 0.036499449037326145, 0.025068013379631365, 0.04435161786342978, 0.040414372592100074, 0.02835035588263177, 0.014099337304137032, 0.19610433961008, 0.040596246854685, 0.006402811501175165], [7, 0.04505384, 0.061919995, 0.08535158, 0.13296558, 0.04685116940588034, 0.045459853853643435, 0.040955721563986296, 0.03206007849413344, 0.044097254143789746, 0.040629268884728835, 0.029831262100557972, 0.01600950769905029, 0.19878249817468585, 0.04433198613540528, 0.005035687237977982], [8, 0.04302973, 0.06006305, 0.0861205, 0.13450408, 0.044897222652263445, 0.0444229229232266, 0.04149130796157705, 0.032486319755374714, 0.04316306434732799, 0.040223642770565095, 0.030037039407718003, 0.01614683551741834, 0.19880403722470383, 0.04537726715299089, 0.004491719882935286], [9, 0.043005683, 0.060361024, 0.0864748, 0.13380076, 0.045015886669618775, 0.04470404438117823, 0.04135591344730587, 0.032307265459489136, 0.04303652583271321, 0.040023145981875244, 0.029789363420078235, 0.016023503093458572, 0.19746552954865476, 0.04551373985467269, 0.004231818486005068], [10, 0.04446454, 0.061703257, 0.087271154, 0.13363504, 0.04645720071631844, 0.045478566911558965, 0.041588355130944894, 0.032089332132607895, 0.043859996446023196, 0.04076432597760419, 0.03000943780845185, 0.016028693600564747, 0.20030646363268975, 0.04601126590931668, 0.004136193078011274]]\n",
      "-----------------------------------------------------------------------------------------\n"
     ]
    },
    {
     "name": "stderr",
     "output_type": "stream",
     "text": [
      "  0%|          | 1/1065 [00:00<08:45,  2.02it/s]"
     ]
    },
    {
     "name": "stdout",
     "output_type": "stream",
     "text": [
      "Epoch 11: 0% , Loss: 0.005386\n"
     ]
    },
    {
     "name": "stderr",
     "output_type": "stream",
     "text": [
      "  9%|▉         | 101/1065 [00:26<04:03,  3.96it/s]"
     ]
    },
    {
     "name": "stdout",
     "output_type": "stream",
     "text": [
      "Epoch 11: 9% , Loss: 0.004066\n"
     ]
    },
    {
     "name": "stderr",
     "output_type": "stream",
     "text": [
      " 19%|█▉        | 201/1065 [00:53<04:23,  3.28it/s]"
     ]
    },
    {
     "name": "stdout",
     "output_type": "stream",
     "text": [
      "Epoch 11: 19% , Loss: 0.004757\n"
     ]
    },
    {
     "name": "stderr",
     "output_type": "stream",
     "text": [
      " 28%|██▊       | 301/1065 [01:21<04:05,  3.11it/s]"
     ]
    },
    {
     "name": "stdout",
     "output_type": "stream",
     "text": [
      "Epoch 11: 28% , Loss: 0.003683\n"
     ]
    },
    {
     "name": "stderr",
     "output_type": "stream",
     "text": [
      " 38%|███▊      | 401/1065 [01:51<03:37,  3.05it/s]"
     ]
    },
    {
     "name": "stdout",
     "output_type": "stream",
     "text": [
      "Epoch 11: 38% , Loss: 0.004234\n"
     ]
    },
    {
     "name": "stderr",
     "output_type": "stream",
     "text": [
      " 47%|████▋     | 501/1065 [02:21<02:56,  3.19it/s]"
     ]
    },
    {
     "name": "stdout",
     "output_type": "stream",
     "text": [
      "Epoch 11: 47% , Loss: 0.002995\n"
     ]
    },
    {
     "name": "stderr",
     "output_type": "stream",
     "text": [
      " 56%|█████▋    | 601/1065 [02:53<02:29,  3.11it/s]"
     ]
    },
    {
     "name": "stdout",
     "output_type": "stream",
     "text": [
      "Epoch 11: 56% , Loss: 0.004879\n"
     ]
    },
    {
     "name": "stderr",
     "output_type": "stream",
     "text": [
      " 66%|██████▌   | 701/1065 [03:26<01:55,  3.15it/s]"
     ]
    },
    {
     "name": "stdout",
     "output_type": "stream",
     "text": [
      "Epoch 11: 66% , Loss: 0.004280\n"
     ]
    },
    {
     "name": "stderr",
     "output_type": "stream",
     "text": [
      " 75%|███████▌  | 801/1065 [04:01<01:33,  2.81it/s]"
     ]
    },
    {
     "name": "stdout",
     "output_type": "stream",
     "text": [
      "Epoch 11: 75% , Loss: 0.003771\n"
     ]
    },
    {
     "name": "stderr",
     "output_type": "stream",
     "text": [
      " 85%|████████▍ | 901/1065 [04:36<00:57,  2.86it/s]"
     ]
    },
    {
     "name": "stdout",
     "output_type": "stream",
     "text": [
      "Epoch 11: 85% , Loss: 0.002840\n"
     ]
    },
    {
     "name": "stderr",
     "output_type": "stream",
     "text": [
      " 94%|█████████▍| 1001/1065 [05:12<00:24,  2.60it/s]"
     ]
    },
    {
     "name": "stdout",
     "output_type": "stream",
     "text": [
      "Epoch 11: 94% , Loss: 0.003990\n"
     ]
    },
    {
     "name": "stderr",
     "output_type": "stream",
     "text": [
      "100%|██████████| 1065/1065 [05:35<00:00,  3.18it/s]"
     ]
    },
    {
     "name": "stdout",
     "output_type": "stream",
     "text": [
      "Epoch 11: 100% , Loss: 0.003206\n"
     ]
    },
    {
     "name": "stderr",
     "output_type": "stream",
     "text": [
      "\n"
     ]
    },
    {
     "name": "stdout",
     "output_type": "stream",
     "text": [
      "                      (HR@5: 0.0420, HR@10: 0.0597, HR@20: 0.0845, HR@50: 0.1364)\n",
      "\n",
      "                      (F1-score@5: 0.0436, F1-score@10: 0.0435, F1-score@20: 0.0400, F1-score@50: 0.0327)\n",
      "\n",
      "                      (NDCG@5: 0.0418, NDCG@10: 0.0384, NDCG@20: 0.0280, NDCG@50: 0.0155)\n",
      "\n",
      "MRR: 0.18611332209128853\n",
      "MAP: 0.045894654154324595\n",
      "train_loss= tensor(0.0041)\n",
      "--------------------\n"
     ]
    },
    {
     "name": "stderr",
     "output_type": "stream",
     "text": [
      "100%|██████████| 133/133 [00:21<00:00,  6.28it/s]\n"
     ]
    },
    {
     "name": "stdout",
     "output_type": "stream",
     "text": [
      "                      (HR@5: 0.0410, HR@10: 0.0578, HR@20: 0.0802, HR@50: 0.1289)\n",
      "\n",
      "                      (F1-score@5: 0.0426, F1-score@10: 0.0423, F1-score@20: 0.0388, F1-score@50: 0.0317)\n",
      "\n",
      "                      (NDCG@5: 0.0385, NDCG@10: 0.0372, NDCG@20: 0.0280, NDCG@50: 0.0152)\n",
      "\n",
      "MRR: 0.17688245162036562\n",
      "MAP: 0.04267762257671313\n",
      "val_loss= tensor(0.0041)\n",
      "--------------------\n"
     ]
    },
    {
     "name": "stderr",
     "output_type": "stream",
     "text": [
      "100%|██████████| 133/133 [00:21<00:00,  6.26it/s]\n"
     ]
    },
    {
     "name": "stdout",
     "output_type": "stream",
     "text": [
      "                      (HR@5: 0.0442, HR@10: 0.0613, HR@20: 0.0881, HR@50: 0.1338)\n",
      "\n",
      "                      (F1-score@5: 0.0459, F1-score@10: 0.0454, F1-score@20: 0.0420, F1-score@50: 0.0325)\n",
      "\n",
      "                      (NDCG@5: 0.0435, NDCG@10: 0.0407, NDCG@20: 0.0302, NDCG@50: 0.0162)\n",
      "\n",
      "MRR: 0.19952806424428635\n",
      "MAP: 0.046185973052227866\n",
      "--------------------\n",
      "[[1, 8.4016865e-05, 8.4016865e-05, 0.000114334594, 0.000891291, 0.00013234617155132733, 0.00010999721526037315, 0.0001199328415576757, 0.000390551794612985, 5.351662061604342e-05, 6.386598123979748e-05, 8.58788984246496e-05, 0.00018388043198020276, 0.0020697745302244, 0.000889444836566718, 0.2638903260231018], [2, 6.265665e-05, 0.000114334594, 0.000114334594, 0.0005418272, 9.398496240601504e-05, 0.00015584353838525854, 0.00011993284155767572, 0.00023222520913294107, 4.143462187253443e-05, 8.577915587763589e-05, 9.241726081398196e-05, 0.00012349487016243593, 0.001951413725286344, 0.0009037805069785636, 0.0875459834933281], [3, 0.012192441, 0.01224412, 0.01224412, 0.013166627, 0.012363796487988582, 0.008586424211866363, 0.005380356117645946, 0.002860482861341153, 0.015392269039372528, 0.011347708514632475, 0.00687883532767121, 0.00298491509760821, 0.07192748725123682, 0.012509211212179922, 0.03425334393978119], [4, 0.021884039, 0.022155017, 0.023888309, 0.030598862, 0.022485064082938593, 0.015825804034119893, 0.010946368344677734, 0.006791629176013321, 0.02888112029592906, 0.022189799330330322, 0.013938353141363626, 0.006181598099603325, 0.14048288342581153, 0.0233908867031529, 0.016079092398285866], [5, 0.035313595, 0.03689594, 0.04460393, 0.05987708, 0.03648430374477475, 0.026565143429333925, 0.020454688363116647, 0.013674394527261772, 0.03790084144653738, 0.029984532090436136, 0.019640556776447965, 0.009293996302246404, 0.16690325571606437, 0.031002429439172696, 0.00896468199789524], [6, 0.04552606, 0.060163807, 0.0759388, 0.10377261, 0.04742959476789486, 0.04435664557546601, 0.036499449037326145, 0.025068013379631365, 0.04435161786342978, 0.040414372592100074, 0.02835035588263177, 0.014099337304137032, 0.19610433961008, 0.040596246854685, 0.006402811501175165], [7, 0.04505384, 0.061919995, 0.08535158, 0.13296558, 0.04685116940588034, 0.045459853853643435, 0.040955721563986296, 0.03206007849413344, 0.044097254143789746, 0.040629268884728835, 0.029831262100557972, 0.01600950769905029, 0.19878249817468585, 0.04433198613540528, 0.005035687237977982], [8, 0.04302973, 0.06006305, 0.0861205, 0.13450408, 0.044897222652263445, 0.0444229229232266, 0.04149130796157705, 0.032486319755374714, 0.04316306434732799, 0.040223642770565095, 0.030037039407718003, 0.01614683551741834, 0.19880403722470383, 0.04537726715299089, 0.004491719882935286], [9, 0.043005683, 0.060361024, 0.0864748, 0.13380076, 0.045015886669618775, 0.04470404438117823, 0.04135591344730587, 0.032307265459489136, 0.04303652583271321, 0.040023145981875244, 0.029789363420078235, 0.016023503093458572, 0.19746552954865476, 0.04551373985467269, 0.004231818486005068], [10, 0.04446454, 0.061703257, 0.087271154, 0.13363504, 0.04645720071631844, 0.045478566911558965, 0.041588355130944894, 0.032089332132607895, 0.043859996446023196, 0.04076432597760419, 0.03000943780845185, 0.016028693600564747, 0.20030646363268975, 0.04601126590931668, 0.004136193078011274], [11, 0.044246998, 0.061287165, 0.08812255, 0.13375618, 0.04591637554154486, 0.045369692088547305, 0.042015781667382304, 0.032538173542228176, 0.04348411867079934, 0.040651673612997104, 0.03016692014495121, 0.01621486284398943, 0.19952806424428635, 0.046185973052227866, 0.004109547473490238]]\n",
      "-----------------------------------------------------------------------------------------\n"
     ]
    },
    {
     "name": "stderr",
     "output_type": "stream",
     "text": [
      "  0%|          | 1/1065 [00:00<08:45,  2.02it/s]"
     ]
    },
    {
     "name": "stdout",
     "output_type": "stream",
     "text": [
      "Epoch 12: 0% , Loss: 0.005222\n"
     ]
    },
    {
     "name": "stderr",
     "output_type": "stream",
     "text": [
      "  9%|▉         | 101/1065 [00:26<03:58,  4.05it/s]"
     ]
    },
    {
     "name": "stdout",
     "output_type": "stream",
     "text": [
      "Epoch 12: 9% , Loss: 0.003588\n"
     ]
    },
    {
     "name": "stderr",
     "output_type": "stream",
     "text": [
      " 19%|█▉        | 201/1065 [00:53<03:45,  3.83it/s]"
     ]
    },
    {
     "name": "stdout",
     "output_type": "stream",
     "text": [
      "Epoch 12: 19% , Loss: 0.004463\n"
     ]
    },
    {
     "name": "stderr",
     "output_type": "stream",
     "text": [
      " 28%|██▊       | 301/1065 [01:21<03:25,  3.71it/s]"
     ]
    },
    {
     "name": "stdout",
     "output_type": "stream",
     "text": [
      "Epoch 12: 28% , Loss: 0.002741\n"
     ]
    },
    {
     "name": "stderr",
     "output_type": "stream",
     "text": [
      " 38%|███▊      | 401/1065 [01:51<03:36,  3.07it/s]"
     ]
    },
    {
     "name": "stdout",
     "output_type": "stream",
     "text": [
      "Epoch 12: 38% , Loss: 0.004383\n"
     ]
    },
    {
     "name": "stderr",
     "output_type": "stream",
     "text": [
      " 47%|████▋     | 501/1065 [02:23<03:03,  3.07it/s]"
     ]
    },
    {
     "name": "stdout",
     "output_type": "stream",
     "text": [
      "Epoch 12: 47% , Loss: 0.003767\n"
     ]
    },
    {
     "name": "stderr",
     "output_type": "stream",
     "text": [
      " 56%|█████▋    | 601/1065 [02:55<02:36,  2.97it/s]"
     ]
    },
    {
     "name": "stdout",
     "output_type": "stream",
     "text": [
      "Epoch 12: 56% , Loss: 0.004498\n"
     ]
    },
    {
     "name": "stderr",
     "output_type": "stream",
     "text": [
      " 66%|██████▌   | 701/1065 [03:28<01:57,  3.09it/s]"
     ]
    },
    {
     "name": "stdout",
     "output_type": "stream",
     "text": [
      "Epoch 12: 66% , Loss: 0.004372\n"
     ]
    },
    {
     "name": "stderr",
     "output_type": "stream",
     "text": [
      " 75%|███████▌  | 801/1065 [04:02<01:47,  2.47it/s]"
     ]
    },
    {
     "name": "stdout",
     "output_type": "stream",
     "text": [
      "Epoch 12: 75% , Loss: 0.004410\n"
     ]
    },
    {
     "name": "stderr",
     "output_type": "stream",
     "text": [
      " 85%|████████▍ | 901/1065 [04:37<00:55,  2.96it/s]"
     ]
    },
    {
     "name": "stdout",
     "output_type": "stream",
     "text": [
      "Epoch 12: 85% , Loss: 0.004314\n"
     ]
    },
    {
     "name": "stderr",
     "output_type": "stream",
     "text": [
      " 94%|█████████▍| 1001/1065 [05:13<00:22,  2.82it/s]"
     ]
    },
    {
     "name": "stdout",
     "output_type": "stream",
     "text": [
      "Epoch 12: 94% , Loss: 0.006786\n"
     ]
    },
    {
     "name": "stderr",
     "output_type": "stream",
     "text": [
      "100%|██████████| 1065/1065 [05:37<00:00,  3.15it/s]"
     ]
    },
    {
     "name": "stdout",
     "output_type": "stream",
     "text": [
      "Epoch 12: 100% , Loss: 0.003019\n"
     ]
    },
    {
     "name": "stderr",
     "output_type": "stream",
     "text": [
      "\n"
     ]
    },
    {
     "name": "stdout",
     "output_type": "stream",
     "text": [
      "                      (HR@5: 0.0418, HR@10: 0.0603, HR@20: 0.0849, HR@50: 0.1366)\n",
      "\n",
      "                      (F1-score@5: 0.0433, F1-score@10: 0.0437, F1-score@20: 0.0402, F1-score@50: 0.0327)\n",
      "\n",
      "                      (NDCG@5: 0.0416, NDCG@10: 0.0384, NDCG@20: 0.0281, NDCG@50: 0.0155)\n",
      "\n",
      "MRR: 0.1858603424847164\n",
      "MAP: 0.045952194817825455\n",
      "train_loss= tensor(0.0041)\n",
      "--------------------\n"
     ]
    },
    {
     "name": "stderr",
     "output_type": "stream",
     "text": [
      "100%|██████████| 133/133 [00:21<00:00,  6.25it/s]\n"
     ]
    },
    {
     "name": "stdout",
     "output_type": "stream",
     "text": [
      "                      (HR@5: 0.0388, HR@10: 0.0581, HR@20: 0.0808, HR@50: 0.1291)\n",
      "\n",
      "                      (F1-score@5: 0.0403, F1-score@10: 0.0426, F1-score@20: 0.0388, F1-score@50: 0.0315)\n",
      "\n",
      "                      (NDCG@5: 0.0373, NDCG@10: 0.0370, NDCG@20: 0.0279, NDCG@50: 0.0151)\n",
      "\n",
      "MRR: 0.17645677327097883\n",
      "MAP: 0.042378818445107595\n",
      "val_loss= tensor(0.0041)\n",
      "--------------------\n"
     ]
    },
    {
     "name": "stderr",
     "output_type": "stream",
     "text": [
      "100%|██████████| 133/133 [00:39<00:00,  3.39it/s]\n"
     ]
    },
    {
     "name": "stdout",
     "output_type": "stream",
     "text": [
      "                      (HR@5: 0.0447, HR@10: 0.0622, HR@20: 0.0861, HR@50: 0.1342)\n",
      "\n",
      "                      (F1-score@5: 0.0468, F1-score@10: 0.0458, F1-score@20: 0.0410, F1-score@50: 0.0324)\n",
      "\n",
      "                      (NDCG@5: 0.0439, NDCG@10: 0.0407, NDCG@20: 0.0298, NDCG@50: 0.0161)\n",
      "\n",
      "MRR: 0.19981977624356465\n",
      "MAP: 0.04604468133199999\n",
      "--------------------\n",
      "[[1, 8.4016865e-05, 8.4016865e-05, 0.000114334594, 0.000891291, 0.00013234617155132733, 0.00010999721526037315, 0.0001199328415576757, 0.000390551794612985, 5.351662061604342e-05, 6.386598123979748e-05, 8.58788984246496e-05, 0.00018388043198020276, 0.0020697745302244, 0.000889444836566718, 0.2638903260231018], [2, 6.265665e-05, 0.000114334594, 0.000114334594, 0.0005418272, 9.398496240601504e-05, 0.00015584353838525854, 0.00011993284155767572, 0.00023222520913294107, 4.143462187253443e-05, 8.577915587763589e-05, 9.241726081398196e-05, 0.00012349487016243593, 0.001951413725286344, 0.0009037805069785636, 0.0875459834933281], [3, 0.012192441, 0.01224412, 0.01224412, 0.013166627, 0.012363796487988582, 0.008586424211866363, 0.005380356117645946, 0.002860482861341153, 0.015392269039372528, 0.011347708514632475, 0.00687883532767121, 0.00298491509760821, 0.07192748725123682, 0.012509211212179922, 0.03425334393978119], [4, 0.021884039, 0.022155017, 0.023888309, 0.030598862, 0.022485064082938593, 0.015825804034119893, 0.010946368344677734, 0.006791629176013321, 0.02888112029592906, 0.022189799330330322, 0.013938353141363626, 0.006181598099603325, 0.14048288342581153, 0.0233908867031529, 0.016079092398285866], [5, 0.035313595, 0.03689594, 0.04460393, 0.05987708, 0.03648430374477475, 0.026565143429333925, 0.020454688363116647, 0.013674394527261772, 0.03790084144653738, 0.029984532090436136, 0.019640556776447965, 0.009293996302246404, 0.16690325571606437, 0.031002429439172696, 0.00896468199789524], [6, 0.04552606, 0.060163807, 0.0759388, 0.10377261, 0.04742959476789486, 0.04435664557546601, 0.036499449037326145, 0.025068013379631365, 0.04435161786342978, 0.040414372592100074, 0.02835035588263177, 0.014099337304137032, 0.19610433961008, 0.040596246854685, 0.006402811501175165], [7, 0.04505384, 0.061919995, 0.08535158, 0.13296558, 0.04685116940588034, 0.045459853853643435, 0.040955721563986296, 0.03206007849413344, 0.044097254143789746, 0.040629268884728835, 0.029831262100557972, 0.01600950769905029, 0.19878249817468585, 0.04433198613540528, 0.005035687237977982], [8, 0.04302973, 0.06006305, 0.0861205, 0.13450408, 0.044897222652263445, 0.0444229229232266, 0.04149130796157705, 0.032486319755374714, 0.04316306434732799, 0.040223642770565095, 0.030037039407718003, 0.01614683551741834, 0.19880403722470383, 0.04537726715299089, 0.004491719882935286], [9, 0.043005683, 0.060361024, 0.0864748, 0.13380076, 0.045015886669618775, 0.04470404438117823, 0.04135591344730587, 0.032307265459489136, 0.04303652583271321, 0.040023145981875244, 0.029789363420078235, 0.016023503093458572, 0.19746552954865476, 0.04551373985467269, 0.004231818486005068], [10, 0.04446454, 0.061703257, 0.087271154, 0.13363504, 0.04645720071631844, 0.045478566911558965, 0.041588355130944894, 0.032089332132607895, 0.043859996446023196, 0.04076432597760419, 0.03000943780845185, 0.016028693600564747, 0.20030646363268975, 0.04601126590931668, 0.004136193078011274], [11, 0.044246998, 0.061287165, 0.08812255, 0.13375618, 0.04591637554154486, 0.045369692088547305, 0.042015781667382304, 0.032538173542228176, 0.04348411867079934, 0.040651673612997104, 0.03016692014495121, 0.01621486284398943, 0.19952806424428635, 0.046185973052227866, 0.004109547473490238], [12, 0.04470387, 0.062247556, 0.08605318, 0.13421819, 0.046780068648080805, 0.04576285756889251, 0.041004133668906255, 0.032360522945468595, 0.043868832391707746, 0.040721011332313255, 0.029804810652285255, 0.01609208341775448, 0.19981977624356465, 0.04604468133199999, 0.004096497315913439]]\n",
      "-----------------------------------------------------------------------------------------\n"
     ]
    },
    {
     "name": "stderr",
     "output_type": "stream",
     "text": [
      "  0%|          | 1/1065 [00:00<12:21,  1.44it/s]"
     ]
    },
    {
     "name": "stdout",
     "output_type": "stream",
     "text": [
      "Epoch 13: 0% , Loss: 0.004944\n"
     ]
    },
    {
     "name": "stderr",
     "output_type": "stream",
     "text": [
      "  9%|▉         | 101/1065 [01:00<12:54,  1.24it/s]"
     ]
    },
    {
     "name": "stdout",
     "output_type": "stream",
     "text": [
      "Epoch 13: 9% , Loss: 0.003544\n"
     ]
    },
    {
     "name": "stderr",
     "output_type": "stream",
     "text": [
      " 19%|█▉        | 201/1065 [02:00<09:04,  1.59it/s]"
     ]
    },
    {
     "name": "stdout",
     "output_type": "stream",
     "text": [
      "Epoch 13: 19% , Loss: 0.002941\n"
     ]
    },
    {
     "name": "stderr",
     "output_type": "stream",
     "text": [
      " 28%|██▊       | 301/1065 [03:01<06:23,  1.99it/s]"
     ]
    },
    {
     "name": "stdout",
     "output_type": "stream",
     "text": [
      "Epoch 13: 28% , Loss: 0.004421\n"
     ]
    },
    {
     "name": "stderr",
     "output_type": "stream",
     "text": [
      " 38%|███▊      | 401/1065 [03:57<06:00,  1.84it/s]"
     ]
    },
    {
     "name": "stdout",
     "output_type": "stream",
     "text": [
      "Epoch 13: 38% , Loss: 0.003689\n"
     ]
    },
    {
     "name": "stderr",
     "output_type": "stream",
     "text": [
      " 47%|████▋     | 501/1065 [04:56<05:17,  1.77it/s]"
     ]
    },
    {
     "name": "stdout",
     "output_type": "stream",
     "text": [
      "Epoch 13: 47% , Loss: 0.004658\n"
     ]
    },
    {
     "name": "stderr",
     "output_type": "stream",
     "text": [
      " 56%|█████▋    | 601/1065 [05:58<04:51,  1.59it/s]"
     ]
    },
    {
     "name": "stdout",
     "output_type": "stream",
     "text": [
      "Epoch 13: 56% , Loss: 0.005047\n"
     ]
    },
    {
     "name": "stderr",
     "output_type": "stream",
     "text": [
      " 66%|██████▌   | 701/1065 [07:00<03:38,  1.66it/s]"
     ]
    },
    {
     "name": "stdout",
     "output_type": "stream",
     "text": [
      "Epoch 13: 66% , Loss: 0.005398\n"
     ]
    },
    {
     "name": "stderr",
     "output_type": "stream",
     "text": [
      " 75%|███████▌  | 801/1065 [08:03<02:46,  1.58it/s]"
     ]
    },
    {
     "name": "stdout",
     "output_type": "stream",
     "text": [
      "Epoch 13: 75% , Loss: 0.008110\n"
     ]
    },
    {
     "name": "stderr",
     "output_type": "stream",
     "text": [
      " 85%|████████▍ | 901/1065 [09:07<01:34,  1.74it/s]"
     ]
    },
    {
     "name": "stdout",
     "output_type": "stream",
     "text": [
      "Epoch 13: 85% , Loss: 0.003460\n"
     ]
    },
    {
     "name": "stderr",
     "output_type": "stream",
     "text": [
      " 94%|█████████▍| 1001/1065 [10:11<00:37,  1.72it/s]"
     ]
    },
    {
     "name": "stdout",
     "output_type": "stream",
     "text": [
      "Epoch 13: 94% , Loss: 0.003048\n"
     ]
    },
    {
     "name": "stderr",
     "output_type": "stream",
     "text": [
      "100%|██████████| 1065/1065 [10:53<00:00,  1.63it/s]"
     ]
    },
    {
     "name": "stdout",
     "output_type": "stream",
     "text": [
      "Epoch 13: 100% , Loss: 0.003483\n"
     ]
    },
    {
     "name": "stderr",
     "output_type": "stream",
     "text": [
      "\n"
     ]
    },
    {
     "name": "stdout",
     "output_type": "stream",
     "text": [
      "                      (HR@5: 0.0423, HR@10: 0.0600, HR@20: 0.0847, HR@50: 0.1374)\n",
      "\n",
      "                      (F1-score@5: 0.0437, F1-score@10: 0.0436, F1-score@20: 0.0400, F1-score@50: 0.0329)\n",
      "\n",
      "                      (NDCG@5: 0.0419, NDCG@10: 0.0384, NDCG@20: 0.0280, NDCG@50: 0.0155)\n",
      "\n",
      "MRR: 0.1861558101855501\n",
      "MAP: 0.046109098064279146\n",
      "train_loss= tensor(0.0041)\n",
      "--------------------\n"
     ]
    },
    {
     "name": "stderr",
     "output_type": "stream",
     "text": [
      "100%|██████████| 133/133 [00:57<00:00,  2.30it/s]\n"
     ]
    },
    {
     "name": "stdout",
     "output_type": "stream",
     "text": [
      "                      (HR@5: 0.0409, HR@10: 0.0582, HR@20: 0.0785, HR@50: 0.1272)\n",
      "\n",
      "                      (F1-score@5: 0.0424, F1-score@10: 0.0426, F1-score@20: 0.0380, F1-score@50: 0.0312)\n",
      "\n",
      "                      (NDCG@5: 0.0384, NDCG@10: 0.0372, NDCG@20: 0.0277, NDCG@50: 0.0150)\n",
      "\n",
      "MRR: 0.17739286387610165\n",
      "MAP: 0.042511995582839635\n",
      "val_loss= tensor(0.0041)\n",
      "--------------------\n"
     ]
    },
    {
     "name": "stderr",
     "output_type": "stream",
     "text": [
      "100%|██████████| 133/133 [00:57<00:00,  2.31it/s]\n"
     ]
    },
    {
     "name": "stdout",
     "output_type": "stream",
     "text": [
      "                      (HR@5: 0.0440, HR@10: 0.0623, HR@20: 0.0866, HR@50: 0.1343)\n",
      "\n",
      "                      (F1-score@5: 0.0457, F1-score@10: 0.0458, F1-score@20: 0.0421, F1-score@50: 0.0324)\n",
      "\n",
      "                      (NDCG@5: 0.0435, NDCG@10: 0.0407, NDCG@20: 0.0303, NDCG@50: 0.0161)\n",
      "\n",
      "MRR: 0.19935288613114946\n",
      "MAP: 0.04617857383367633\n",
      "--------------------\n",
      "[[1, 8.4016865e-05, 8.4016865e-05, 0.000114334594, 0.000891291, 0.00013234617155132733, 0.00010999721526037315, 0.0001199328415576757, 0.000390551794612985, 5.351662061604342e-05, 6.386598123979748e-05, 8.58788984246496e-05, 0.00018388043198020276, 0.0020697745302244, 0.000889444836566718, 0.2638903260231018], [2, 6.265665e-05, 0.000114334594, 0.000114334594, 0.0005418272, 9.398496240601504e-05, 0.00015584353838525854, 0.00011993284155767572, 0.00023222520913294107, 4.143462187253443e-05, 8.577915587763589e-05, 9.241726081398196e-05, 0.00012349487016243593, 0.001951413725286344, 0.0009037805069785636, 0.0875459834933281], [3, 0.012192441, 0.01224412, 0.01224412, 0.013166627, 0.012363796487988582, 0.008586424211866363, 0.005380356117645946, 0.002860482861341153, 0.015392269039372528, 0.011347708514632475, 0.00687883532767121, 0.00298491509760821, 0.07192748725123682, 0.012509211212179922, 0.03425334393978119], [4, 0.021884039, 0.022155017, 0.023888309, 0.030598862, 0.022485064082938593, 0.015825804034119893, 0.010946368344677734, 0.006791629176013321, 0.02888112029592906, 0.022189799330330322, 0.013938353141363626, 0.006181598099603325, 0.14048288342581153, 0.0233908867031529, 0.016079092398285866], [5, 0.035313595, 0.03689594, 0.04460393, 0.05987708, 0.03648430374477475, 0.026565143429333925, 0.020454688363116647, 0.013674394527261772, 0.03790084144653738, 0.029984532090436136, 0.019640556776447965, 0.009293996302246404, 0.16690325571606437, 0.031002429439172696, 0.00896468199789524], [6, 0.04552606, 0.060163807, 0.0759388, 0.10377261, 0.04742959476789486, 0.04435664557546601, 0.036499449037326145, 0.025068013379631365, 0.04435161786342978, 0.040414372592100074, 0.02835035588263177, 0.014099337304137032, 0.19610433961008, 0.040596246854685, 0.006402811501175165], [7, 0.04505384, 0.061919995, 0.08535158, 0.13296558, 0.04685116940588034, 0.045459853853643435, 0.040955721563986296, 0.03206007849413344, 0.044097254143789746, 0.040629268884728835, 0.029831262100557972, 0.01600950769905029, 0.19878249817468585, 0.04433198613540528, 0.005035687237977982], [8, 0.04302973, 0.06006305, 0.0861205, 0.13450408, 0.044897222652263445, 0.0444229229232266, 0.04149130796157705, 0.032486319755374714, 0.04316306434732799, 0.040223642770565095, 0.030037039407718003, 0.01614683551741834, 0.19880403722470383, 0.04537726715299089, 0.004491719882935286], [9, 0.043005683, 0.060361024, 0.0864748, 0.13380076, 0.045015886669618775, 0.04470404438117823, 0.04135591344730587, 0.032307265459489136, 0.04303652583271321, 0.040023145981875244, 0.029789363420078235, 0.016023503093458572, 0.19746552954865476, 0.04551373985467269, 0.004231818486005068], [10, 0.04446454, 0.061703257, 0.087271154, 0.13363504, 0.04645720071631844, 0.045478566911558965, 0.041588355130944894, 0.032089332132607895, 0.043859996446023196, 0.04076432597760419, 0.03000943780845185, 0.016028693600564747, 0.20030646363268975, 0.04601126590931668, 0.004136193078011274], [11, 0.044246998, 0.061287165, 0.08812255, 0.13375618, 0.04591637554154486, 0.045369692088547305, 0.042015781667382304, 0.032538173542228176, 0.04348411867079934, 0.040651673612997104, 0.03016692014495121, 0.01621486284398943, 0.19952806424428635, 0.046185973052227866, 0.004109547473490238], [12, 0.04470387, 0.062247556, 0.08605318, 0.13421819, 0.046780068648080805, 0.04576285756889251, 0.041004133668906255, 0.032360522945468595, 0.043868832391707746, 0.040721011332313255, 0.029804810652285255, 0.01609208341775448, 0.19981977624356465, 0.04604468133199999, 0.004096497315913439], [13, 0.043977078, 0.06233449, 0.08661084, 0.13429928, 0.045692403453946276, 0.045799288322928164, 0.042076689445000696, 0.03241410434906193, 0.04354451812236549, 0.040724832167204725, 0.030276835140688133, 0.01608432128787377, 0.19935288613114946, 0.04617857383367633, 0.004082830157130957]]\n",
      "-----------------------------------------------------------------------------------------\n"
     ]
    },
    {
     "name": "stderr",
     "output_type": "stream",
     "text": [
      "  0%|          | 1/1065 [00:00<11:10,  1.59it/s]"
     ]
    },
    {
     "name": "stdout",
     "output_type": "stream",
     "text": [
      "Epoch 14: 0% , Loss: 0.003567\n"
     ]
    },
    {
     "name": "stderr",
     "output_type": "stream",
     "text": [
      "  9%|▉         | 101/1065 [00:56<08:03,  1.99it/s]"
     ]
    },
    {
     "name": "stdout",
     "output_type": "stream",
     "text": [
      "Epoch 14: 9% , Loss: 0.002968\n"
     ]
    },
    {
     "name": "stderr",
     "output_type": "stream",
     "text": [
      " 19%|█▉        | 201/1065 [01:54<09:35,  1.50it/s]"
     ]
    },
    {
     "name": "stdout",
     "output_type": "stream",
     "text": [
      "Epoch 14: 19% , Loss: 0.003374\n"
     ]
    },
    {
     "name": "stderr",
     "output_type": "stream",
     "text": [
      " 28%|██▊       | 301/1065 [02:52<08:42,  1.46it/s]"
     ]
    },
    {
     "name": "stdout",
     "output_type": "stream",
     "text": [
      "Epoch 14: 28% , Loss: 0.005188\n"
     ]
    },
    {
     "name": "stderr",
     "output_type": "stream",
     "text": [
      " 38%|███▊      | 401/1065 [03:50<06:26,  1.72it/s]"
     ]
    },
    {
     "name": "stdout",
     "output_type": "stream",
     "text": [
      "Epoch 14: 38% , Loss: 0.005211\n"
     ]
    },
    {
     "name": "stderr",
     "output_type": "stream",
     "text": [
      " 47%|████▋     | 501/1065 [04:49<06:14,  1.50it/s]"
     ]
    },
    {
     "name": "stdout",
     "output_type": "stream",
     "text": [
      "Epoch 14: 47% , Loss: 0.003222\n"
     ]
    },
    {
     "name": "stderr",
     "output_type": "stream",
     "text": [
      " 56%|█████▋    | 601/1065 [05:49<04:21,  1.77it/s]"
     ]
    },
    {
     "name": "stdout",
     "output_type": "stream",
     "text": [
      "Epoch 14: 56% , Loss: 0.003696\n"
     ]
    },
    {
     "name": "stderr",
     "output_type": "stream",
     "text": [
      " 66%|██████▌   | 701/1065 [06:50<03:25,  1.77it/s]"
     ]
    },
    {
     "name": "stdout",
     "output_type": "stream",
     "text": [
      "Epoch 14: 66% , Loss: 0.003773\n"
     ]
    },
    {
     "name": "stderr",
     "output_type": "stream",
     "text": [
      " 75%|███████▌  | 801/1065 [07:55<02:54,  1.52it/s]"
     ]
    },
    {
     "name": "stdout",
     "output_type": "stream",
     "text": [
      "Epoch 14: 75% , Loss: 0.004345\n"
     ]
    },
    {
     "name": "stderr",
     "output_type": "stream",
     "text": [
      " 85%|████████▍ | 901/1065 [08:53<01:21,  2.01it/s]"
     ]
    },
    {
     "name": "stdout",
     "output_type": "stream",
     "text": [
      "Epoch 14: 85% , Loss: 0.003525\n"
     ]
    },
    {
     "name": "stderr",
     "output_type": "stream",
     "text": [
      " 94%|█████████▍| 1001/1065 [09:51<00:34,  1.84it/s]"
     ]
    },
    {
     "name": "stdout",
     "output_type": "stream",
     "text": [
      "Epoch 14: 94% , Loss: 0.002995\n"
     ]
    },
    {
     "name": "stderr",
     "output_type": "stream",
     "text": [
      "100%|██████████| 1065/1065 [10:27<00:00,  1.70it/s]"
     ]
    },
    {
     "name": "stdout",
     "output_type": "stream",
     "text": [
      "Epoch 14: 100% , Loss: 0.005436\n"
     ]
    },
    {
     "name": "stderr",
     "output_type": "stream",
     "text": [
      "\n"
     ]
    },
    {
     "name": "stdout",
     "output_type": "stream",
     "text": [
      "                      (HR@5: 0.0421, HR@10: 0.0597, HR@20: 0.0835, HR@50: 0.1365)\n",
      "\n",
      "                      (F1-score@5: 0.0437, F1-score@10: 0.0435, F1-score@20: 0.0396, F1-score@50: 0.0328)\n",
      "\n",
      "                      (NDCG@5: 0.0419, NDCG@10: 0.0384, NDCG@20: 0.0280, NDCG@50: 0.0155)\n",
      "\n",
      "MRR: 0.1861842995568836\n",
      "MAP: 0.0460384700853476\n",
      "train_loss= tensor(0.0040)\n",
      "--------------------\n"
     ]
    },
    {
     "name": "stderr",
     "output_type": "stream",
     "text": [
      "100%|██████████| 133/133 [00:58<00:00,  2.26it/s]\n"
     ]
    },
    {
     "name": "stdout",
     "output_type": "stream",
     "text": [
      "                      (HR@5: 0.0414, HR@10: 0.0597, HR@20: 0.0793, HR@50: 0.1305)\n",
      "\n",
      "                      (F1-score@5: 0.0428, F1-score@10: 0.0436, F1-score@20: 0.0381, F1-score@50: 0.0315)\n",
      "\n",
      "                      (NDCG@5: 0.0386, NDCG@10: 0.0377, NDCG@20: 0.0279, NDCG@50: 0.0151)\n",
      "\n",
      "MRR: 0.17810366736898545\n",
      "MAP: 0.04282702805159323\n",
      "val_loss= tensor(0.0041)\n",
      "--------------------\n"
     ]
    },
    {
     "name": "stderr",
     "output_type": "stream",
     "text": [
      "100%|██████████| 133/133 [00:57<00:00,  2.30it/s]\n"
     ]
    },
    {
     "name": "stdout",
     "output_type": "stream",
     "text": [
      "                      (HR@5: 0.0447, HR@10: 0.0613, HR@20: 0.0875, HR@50: 0.1361)\n",
      "\n",
      "                      (F1-score@5: 0.0466, F1-score@10: 0.0451, F1-score@20: 0.0419, F1-score@50: 0.0330)\n",
      "\n",
      "                      (NDCG@5: 0.0439, NDCG@10: 0.0404, NDCG@20: 0.0301, NDCG@50: 0.0162)\n",
      "\n",
      "MRR: 0.19980050766749513\n",
      "MAP: 0.046126670681988176\n",
      "--------------------\n",
      "[[1, 8.4016865e-05, 8.4016865e-05, 0.000114334594, 0.000891291, 0.00013234617155132733, 0.00010999721526037315, 0.0001199328415576757, 0.000390551794612985, 5.351662061604342e-05, 6.386598123979748e-05, 8.58788984246496e-05, 0.00018388043198020276, 0.0020697745302244, 0.000889444836566718, 0.2638903260231018], [2, 6.265665e-05, 0.000114334594, 0.000114334594, 0.0005418272, 9.398496240601504e-05, 0.00015584353838525854, 0.00011993284155767572, 0.00023222520913294107, 4.143462187253443e-05, 8.577915587763589e-05, 9.241726081398196e-05, 0.00012349487016243593, 0.001951413725286344, 0.0009037805069785636, 0.0875459834933281], [3, 0.012192441, 0.01224412, 0.01224412, 0.013166627, 0.012363796487988582, 0.008586424211866363, 0.005380356117645946, 0.002860482861341153, 0.015392269039372528, 0.011347708514632475, 0.00687883532767121, 0.00298491509760821, 0.07192748725123682, 0.012509211212179922, 0.03425334393978119], [4, 0.021884039, 0.022155017, 0.023888309, 0.030598862, 0.022485064082938593, 0.015825804034119893, 0.010946368344677734, 0.006791629176013321, 0.02888112029592906, 0.022189799330330322, 0.013938353141363626, 0.006181598099603325, 0.14048288342581153, 0.0233908867031529, 0.016079092398285866], [5, 0.035313595, 0.03689594, 0.04460393, 0.05987708, 0.03648430374477475, 0.026565143429333925, 0.020454688363116647, 0.013674394527261772, 0.03790084144653738, 0.029984532090436136, 0.019640556776447965, 0.009293996302246404, 0.16690325571606437, 0.031002429439172696, 0.00896468199789524], [6, 0.04552606, 0.060163807, 0.0759388, 0.10377261, 0.04742959476789486, 0.04435664557546601, 0.036499449037326145, 0.025068013379631365, 0.04435161786342978, 0.040414372592100074, 0.02835035588263177, 0.014099337304137032, 0.19610433961008, 0.040596246854685, 0.006402811501175165], [7, 0.04505384, 0.061919995, 0.08535158, 0.13296558, 0.04685116940588034, 0.045459853853643435, 0.040955721563986296, 0.03206007849413344, 0.044097254143789746, 0.040629268884728835, 0.029831262100557972, 0.01600950769905029, 0.19878249817468585, 0.04433198613540528, 0.005035687237977982], [8, 0.04302973, 0.06006305, 0.0861205, 0.13450408, 0.044897222652263445, 0.0444229229232266, 0.04149130796157705, 0.032486319755374714, 0.04316306434732799, 0.040223642770565095, 0.030037039407718003, 0.01614683551741834, 0.19880403722470383, 0.04537726715299089, 0.004491719882935286], [9, 0.043005683, 0.060361024, 0.0864748, 0.13380076, 0.045015886669618775, 0.04470404438117823, 0.04135591344730587, 0.032307265459489136, 0.04303652583271321, 0.040023145981875244, 0.029789363420078235, 0.016023503093458572, 0.19746552954865476, 0.04551373985467269, 0.004231818486005068], [10, 0.04446454, 0.061703257, 0.087271154, 0.13363504, 0.04645720071631844, 0.045478566911558965, 0.041588355130944894, 0.032089332132607895, 0.043859996446023196, 0.04076432597760419, 0.03000943780845185, 0.016028693600564747, 0.20030646363268975, 0.04601126590931668, 0.004136193078011274], [11, 0.044246998, 0.061287165, 0.08812255, 0.13375618, 0.04591637554154486, 0.045369692088547305, 0.042015781667382304, 0.032538173542228176, 0.04348411867079934, 0.040651673612997104, 0.03016692014495121, 0.01621486284398943, 0.19952806424428635, 0.046185973052227866, 0.004109547473490238], [12, 0.04470387, 0.062247556, 0.08605318, 0.13421819, 0.046780068648080805, 0.04576285756889251, 0.041004133668906255, 0.032360522945468595, 0.043868832391707746, 0.040721011332313255, 0.029804810652285255, 0.01609208341775448, 0.19981977624356465, 0.04604468133199999, 0.004096497315913439], [13, 0.043977078, 0.06233449, 0.08661084, 0.13429928, 0.045692403453946276, 0.045799288322928164, 0.042076689445000696, 0.03241410434906193, 0.04354451812236549, 0.040724832167204725, 0.030276835140688133, 0.01608432128787377, 0.19935288613114946, 0.04617857383367633, 0.004082830157130957], [14, 0.04468153, 0.06129364, 0.08752878, 0.13613872, 0.04660332204312588, 0.045127255700448475, 0.041920397701127946, 0.03298730434823908, 0.04386855932337729, 0.040429790924422275, 0.030139432620446206, 0.016242313294590947, 0.19980050766749513, 0.046126670681988176, 0.0040789153426885605]]\n",
      "-----------------------------------------------------------------------------------------\n"
     ]
    },
    {
     "name": "stderr",
     "output_type": "stream",
     "text": [
      "  0%|          | 1/1065 [00:00<07:05,  2.50it/s]"
     ]
    },
    {
     "name": "stdout",
     "output_type": "stream",
     "text": [
      "Epoch 15: 0% , Loss: 0.003435\n"
     ]
    },
    {
     "name": "stderr",
     "output_type": "stream",
     "text": [
      "  9%|▉         | 101/1065 [00:54<09:08,  1.76it/s]"
     ]
    },
    {
     "name": "stdout",
     "output_type": "stream",
     "text": [
      "Epoch 15: 9% , Loss: 0.005253\n"
     ]
    },
    {
     "name": "stderr",
     "output_type": "stream",
     "text": [
      " 19%|█▉        | 201/1065 [01:47<06:29,  2.22it/s]"
     ]
    },
    {
     "name": "stdout",
     "output_type": "stream",
     "text": [
      "Epoch 15: 19% , Loss: 0.004452\n"
     ]
    },
    {
     "name": "stderr",
     "output_type": "stream",
     "text": [
      " 28%|██▊       | 301/1065 [02:45<09:32,  1.33it/s]"
     ]
    },
    {
     "name": "stdout",
     "output_type": "stream",
     "text": [
      "Epoch 15: 28% , Loss: 0.002777\n"
     ]
    },
    {
     "name": "stderr",
     "output_type": "stream",
     "text": [
      " 38%|███▊      | 401/1065 [03:46<08:42,  1.27it/s]"
     ]
    },
    {
     "name": "stdout",
     "output_type": "stream",
     "text": [
      "Epoch 15: 38% , Loss: 0.004528\n"
     ]
    },
    {
     "name": "stderr",
     "output_type": "stream",
     "text": [
      " 47%|████▋     | 501/1065 [04:45<04:58,  1.89it/s]"
     ]
    },
    {
     "name": "stdout",
     "output_type": "stream",
     "text": [
      "Epoch 15: 47% , Loss: 0.003788\n"
     ]
    },
    {
     "name": "stderr",
     "output_type": "stream",
     "text": [
      " 56%|█████▋    | 601/1065 [05:47<04:15,  1.82it/s]"
     ]
    },
    {
     "name": "stdout",
     "output_type": "stream",
     "text": [
      "Epoch 15: 56% , Loss: 0.002041\n"
     ]
    },
    {
     "name": "stderr",
     "output_type": "stream",
     "text": [
      " 66%|██████▌   | 701/1065 [06:47<02:07,  2.85it/s]"
     ]
    },
    {
     "name": "stdout",
     "output_type": "stream",
     "text": [
      "Epoch 15: 66% , Loss: 0.006111\n"
     ]
    },
    {
     "name": "stderr",
     "output_type": "stream",
     "text": [
      " 75%|███████▌  | 801/1065 [07:42<02:38,  1.66it/s]"
     ]
    },
    {
     "name": "stdout",
     "output_type": "stream",
     "text": [
      "Epoch 15: 75% , Loss: 0.004009\n"
     ]
    },
    {
     "name": "stderr",
     "output_type": "stream",
     "text": [
      " 85%|████████▍ | 901/1065 [08:37<01:30,  1.80it/s]"
     ]
    },
    {
     "name": "stdout",
     "output_type": "stream",
     "text": [
      "Epoch 15: 85% , Loss: 0.005932\n"
     ]
    },
    {
     "name": "stderr",
     "output_type": "stream",
     "text": [
      " 94%|█████████▍| 1001/1065 [09:38<00:44,  1.44it/s]"
     ]
    },
    {
     "name": "stdout",
     "output_type": "stream",
     "text": [
      "Epoch 15: 94% , Loss: 0.003515\n"
     ]
    },
    {
     "name": "stderr",
     "output_type": "stream",
     "text": [
      "100%|██████████| 1065/1065 [10:22<00:00,  1.71it/s]"
     ]
    },
    {
     "name": "stdout",
     "output_type": "stream",
     "text": [
      "Epoch 15: 100% , Loss: 0.004883\n"
     ]
    },
    {
     "name": "stderr",
     "output_type": "stream",
     "text": [
      "\n"
     ]
    },
    {
     "name": "stdout",
     "output_type": "stream",
     "text": [
      "                      (HR@5: 0.0421, HR@10: 0.0600, HR@20: 0.0846, HR@50: 0.1362)\n",
      "\n",
      "                      (F1-score@5: 0.0436, F1-score@10: 0.0436, F1-score@20: 0.0401, F1-score@50: 0.0326)\n",
      "\n",
      "                      (NDCG@5: 0.0419, NDCG@10: 0.0384, NDCG@20: 0.0280, NDCG@50: 0.0155)\n",
      "\n",
      "MRR: 0.18593604384593906\n",
      "MAP: 0.046039050285635506\n",
      "train_loss= tensor(0.0040)\n",
      "--------------------\n"
     ]
    },
    {
     "name": "stderr",
     "output_type": "stream",
     "text": [
      "100%|██████████| 133/133 [00:56<00:00,  2.36it/s]\n"
     ]
    },
    {
     "name": "stdout",
     "output_type": "stream",
     "text": [
      "                      (HR@5: 0.0416, HR@10: 0.0593, HR@20: 0.0781, HR@50: 0.1296)\n",
      "\n",
      "                      (F1-score@5: 0.0426, F1-score@10: 0.0433, F1-score@20: 0.0377, F1-score@50: 0.0316)\n",
      "\n",
      "                      (NDCG@5: 0.0387, NDCG@10: 0.0376, NDCG@20: 0.0278, NDCG@50: 0.0151)\n",
      "\n",
      "MRR: 0.17786958426314878\n",
      "MAP: 0.04297020575949131\n",
      "val_loss= tensor(0.0041)\n",
      "--------------------\n"
     ]
    },
    {
     "name": "stderr",
     "output_type": "stream",
     "text": [
      "100%|██████████| 133/133 [00:56<00:00,  2.36it/s]\n"
     ]
    },
    {
     "name": "stdout",
     "output_type": "stream",
     "text": [
      "                      (HR@5: 0.0454, HR@10: 0.0603, HR@20: 0.0851, HR@50: 0.1335)\n",
      "\n",
      "                      (F1-score@5: 0.0473, F1-score@10: 0.0448, F1-score@20: 0.0411, F1-score@50: 0.0321)\n",
      "\n",
      "                      (NDCG@5: 0.0444, NDCG@10: 0.0407, NDCG@20: 0.0301, NDCG@50: 0.0160)\n",
      "\n",
      "MRR: 0.2006804503291688\n",
      "MAP: 0.046264794497076774\n",
      "--------------------\n",
      "[[1, 8.4016865e-05, 8.4016865e-05, 0.000114334594, 0.000891291, 0.00013234617155132733, 0.00010999721526037315, 0.0001199328415576757, 0.000390551794612985, 5.351662061604342e-05, 6.386598123979748e-05, 8.58788984246496e-05, 0.00018388043198020276, 0.0020697745302244, 0.000889444836566718, 0.2638903260231018], [2, 6.265665e-05, 0.000114334594, 0.000114334594, 0.0005418272, 9.398496240601504e-05, 0.00015584353838525854, 0.00011993284155767572, 0.00023222520913294107, 4.143462187253443e-05, 8.577915587763589e-05, 9.241726081398196e-05, 0.00012349487016243593, 0.001951413725286344, 0.0009037805069785636, 0.0875459834933281], [3, 0.012192441, 0.01224412, 0.01224412, 0.013166627, 0.012363796487988582, 0.008586424211866363, 0.005380356117645946, 0.002860482861341153, 0.015392269039372528, 0.011347708514632475, 0.00687883532767121, 0.00298491509760821, 0.07192748725123682, 0.012509211212179922, 0.03425334393978119], [4, 0.021884039, 0.022155017, 0.023888309, 0.030598862, 0.022485064082938593, 0.015825804034119893, 0.010946368344677734, 0.006791629176013321, 0.02888112029592906, 0.022189799330330322, 0.013938353141363626, 0.006181598099603325, 0.14048288342581153, 0.0233908867031529, 0.016079092398285866], [5, 0.035313595, 0.03689594, 0.04460393, 0.05987708, 0.03648430374477475, 0.026565143429333925, 0.020454688363116647, 0.013674394527261772, 0.03790084144653738, 0.029984532090436136, 0.019640556776447965, 0.009293996302246404, 0.16690325571606437, 0.031002429439172696, 0.00896468199789524], [6, 0.04552606, 0.060163807, 0.0759388, 0.10377261, 0.04742959476789486, 0.04435664557546601, 0.036499449037326145, 0.025068013379631365, 0.04435161786342978, 0.040414372592100074, 0.02835035588263177, 0.014099337304137032, 0.19610433961008, 0.040596246854685, 0.006402811501175165], [7, 0.04505384, 0.061919995, 0.08535158, 0.13296558, 0.04685116940588034, 0.045459853853643435, 0.040955721563986296, 0.03206007849413344, 0.044097254143789746, 0.040629268884728835, 0.029831262100557972, 0.01600950769905029, 0.19878249817468585, 0.04433198613540528, 0.005035687237977982], [8, 0.04302973, 0.06006305, 0.0861205, 0.13450408, 0.044897222652263445, 0.0444229229232266, 0.04149130796157705, 0.032486319755374714, 0.04316306434732799, 0.040223642770565095, 0.030037039407718003, 0.01614683551741834, 0.19880403722470383, 0.04537726715299089, 0.004491719882935286], [9, 0.043005683, 0.060361024, 0.0864748, 0.13380076, 0.045015886669618775, 0.04470404438117823, 0.04135591344730587, 0.032307265459489136, 0.04303652583271321, 0.040023145981875244, 0.029789363420078235, 0.016023503093458572, 0.19746552954865476, 0.04551373985467269, 0.004231818486005068], [10, 0.04446454, 0.061703257, 0.087271154, 0.13363504, 0.04645720071631844, 0.045478566911558965, 0.041588355130944894, 0.032089332132607895, 0.043859996446023196, 0.04076432597760419, 0.03000943780845185, 0.016028693600564747, 0.20030646363268975, 0.04601126590931668, 0.004136193078011274], [11, 0.044246998, 0.061287165, 0.08812255, 0.13375618, 0.04591637554154486, 0.045369692088547305, 0.042015781667382304, 0.032538173542228176, 0.04348411867079934, 0.040651673612997104, 0.03016692014495121, 0.01621486284398943, 0.19952806424428635, 0.046185973052227866, 0.004109547473490238], [12, 0.04470387, 0.062247556, 0.08605318, 0.13421819, 0.046780068648080805, 0.04576285756889251, 0.041004133668906255, 0.032360522945468595, 0.043868832391707746, 0.040721011332313255, 0.029804810652285255, 0.01609208341775448, 0.19981977624356465, 0.04604468133199999, 0.004096497315913439], [13, 0.043977078, 0.06233449, 0.08661084, 0.13429928, 0.045692403453946276, 0.045799288322928164, 0.042076689445000696, 0.03241410434906193, 0.04354451812236549, 0.040724832167204725, 0.030276835140688133, 0.01608432128787377, 0.19935288613114946, 0.04617857383367633, 0.004082830157130957], [14, 0.04468153, 0.06129364, 0.08752878, 0.13613872, 0.04660332204312588, 0.045127255700448475, 0.041920397701127946, 0.03298730434823908, 0.04386855932337729, 0.040429790924422275, 0.030139432620446206, 0.016242313294590947, 0.19980050766749513, 0.046126670681988176, 0.0040789153426885605], [15, 0.045376636, 0.060326427, 0.08512365, 0.13348871, 0.047294272219954005, 0.044827450261729455, 0.04111953997852622, 0.03207467964775207, 0.04444969604597112, 0.04071241514792288, 0.030103040617519526, 0.016038473455245866, 0.2006804503291688, 0.046264794497076774, 0.004082686733454466]]\n",
      "-----------------------------------------------------------------------------------------\n"
     ]
    },
    {
     "name": "stderr",
     "output_type": "stream",
     "text": [
      "  0%|          | 1/1065 [00:00<05:39,  3.13it/s]"
     ]
    },
    {
     "name": "stdout",
     "output_type": "stream",
     "text": [
      "Epoch 16: 0% , Loss: 0.004192\n"
     ]
    },
    {
     "name": "stderr",
     "output_type": "stream",
     "text": [
      "  9%|▉         | 101/1065 [00:54<08:07,  1.98it/s]"
     ]
    },
    {
     "name": "stdout",
     "output_type": "stream",
     "text": [
      "Epoch 16: 9% , Loss: 0.004665\n"
     ]
    },
    {
     "name": "stderr",
     "output_type": "stream",
     "text": [
      " 19%|█▉        | 201/1065 [01:52<08:11,  1.76it/s]"
     ]
    },
    {
     "name": "stdout",
     "output_type": "stream",
     "text": [
      "Epoch 16: 19% , Loss: 0.003853\n"
     ]
    },
    {
     "name": "stderr",
     "output_type": "stream",
     "text": [
      " 28%|██▊       | 301/1065 [02:50<08:53,  1.43it/s]"
     ]
    },
    {
     "name": "stdout",
     "output_type": "stream",
     "text": [
      "Epoch 16: 28% , Loss: 0.003098\n"
     ]
    },
    {
     "name": "stderr",
     "output_type": "stream",
     "text": [
      " 38%|███▊      | 401/1065 [03:48<06:13,  1.78it/s]"
     ]
    },
    {
     "name": "stdout",
     "output_type": "stream",
     "text": [
      "Epoch 16: 38% , Loss: 0.003248\n"
     ]
    },
    {
     "name": "stderr",
     "output_type": "stream",
     "text": [
      " 47%|████▋     | 501/1065 [04:46<06:37,  1.42it/s]"
     ]
    },
    {
     "name": "stdout",
     "output_type": "stream",
     "text": [
      "Epoch 16: 47% , Loss: 0.004505\n"
     ]
    },
    {
     "name": "stderr",
     "output_type": "stream",
     "text": [
      " 56%|█████▋    | 601/1065 [05:36<03:37,  2.13it/s]"
     ]
    },
    {
     "name": "stdout",
     "output_type": "stream",
     "text": [
      "Epoch 16: 56% , Loss: 0.006912\n"
     ]
    },
    {
     "name": "stderr",
     "output_type": "stream",
     "text": [
      " 66%|██████▌   | 701/1065 [06:30<03:18,  1.84it/s]"
     ]
    },
    {
     "name": "stdout",
     "output_type": "stream",
     "text": [
      "Epoch 16: 66% , Loss: 0.002880\n"
     ]
    },
    {
     "name": "stderr",
     "output_type": "stream",
     "text": [
      " 75%|███████▌  | 801/1065 [07:23<02:38,  1.67it/s]"
     ]
    },
    {
     "name": "stdout",
     "output_type": "stream",
     "text": [
      "Epoch 16: 75% , Loss: 0.003677\n"
     ]
    },
    {
     "name": "stderr",
     "output_type": "stream",
     "text": [
      " 85%|████████▍ | 901/1065 [08:30<01:41,  1.62it/s]"
     ]
    },
    {
     "name": "stdout",
     "output_type": "stream",
     "text": [
      "Epoch 16: 85% , Loss: 0.003496\n"
     ]
    },
    {
     "name": "stderr",
     "output_type": "stream",
     "text": [
      " 94%|█████████▍| 1001/1065 [09:38<00:38,  1.65it/s]"
     ]
    },
    {
     "name": "stdout",
     "output_type": "stream",
     "text": [
      "Epoch 16: 94% , Loss: 0.003242\n"
     ]
    },
    {
     "name": "stderr",
     "output_type": "stream",
     "text": [
      "100%|██████████| 1065/1065 [10:21<00:00,  1.71it/s]"
     ]
    },
    {
     "name": "stdout",
     "output_type": "stream",
     "text": [
      "Epoch 16: 100% , Loss: 0.003265\n"
     ]
    },
    {
     "name": "stderr",
     "output_type": "stream",
     "text": [
      "\n"
     ]
    },
    {
     "name": "stdout",
     "output_type": "stream",
     "text": [
      "                      (HR@5: 0.0418, HR@10: 0.0595, HR@20: 0.0848, HR@50: 0.1358)\n",
      "\n",
      "                      (F1-score@5: 0.0433, F1-score@10: 0.0433, F1-score@20: 0.0401, F1-score@50: 0.0326)\n",
      "\n",
      "                      (NDCG@5: 0.0416, NDCG@10: 0.0383, NDCG@20: 0.0279, NDCG@50: 0.0154)\n",
      "\n",
      "MRR: 0.18608876615903316\n",
      "MAP: 0.045902492012507345\n",
      "train_loss= tensor(0.0040)\n",
      "--------------------\n"
     ]
    },
    {
     "name": "stderr",
     "output_type": "stream",
     "text": [
      "100%|██████████| 133/133 [00:55<00:00,  2.38it/s]\n"
     ]
    },
    {
     "name": "stdout",
     "output_type": "stream",
     "text": [
      "                      (HR@5: 0.0403, HR@10: 0.0590, HR@20: 0.0816, HR@50: 0.1299)\n",
      "\n",
      "                      (F1-score@5: 0.0417, F1-score@10: 0.0432, F1-score@20: 0.0393, F1-score@50: 0.0318)\n",
      "\n",
      "                      (NDCG@5: 0.0379, NDCG@10: 0.0374, NDCG@20: 0.0282, NDCG@50: 0.0152)\n",
      "\n",
      "MRR: 0.1775603793389562\n",
      "MAP: 0.04254166750271587\n",
      "val_loss= tensor(0.0041)\n",
      "--------------------\n"
     ]
    },
    {
     "name": "stderr",
     "output_type": "stream",
     "text": [
      "100%|██████████| 133/133 [00:54<00:00,  2.42it/s]\n"
     ]
    },
    {
     "name": "stdout",
     "output_type": "stream",
     "text": [
      "                      (HR@5: 0.0454, HR@10: 0.0629, HR@20: 0.0844, HR@50: 0.1359)\n",
      "\n",
      "                      (F1-score@5: 0.0472, F1-score@10: 0.0465, F1-score@20: 0.0410, F1-score@50: 0.0328)\n",
      "\n",
      "                      (NDCG@5: 0.0442, NDCG@10: 0.0412, NDCG@20: 0.0301, NDCG@50: 0.0162)\n",
      "\n",
      "MRR: 0.2003354458832491\n",
      "MAP: 0.04609650321711322\n",
      "--------------------\n",
      "[[1, 8.4016865e-05, 8.4016865e-05, 0.000114334594, 0.000891291, 0.00013234617155132733, 0.00010999721526037315, 0.0001199328415576757, 0.000390551794612985, 5.351662061604342e-05, 6.386598123979748e-05, 8.58788984246496e-05, 0.00018388043198020276, 0.0020697745302244, 0.000889444836566718, 0.2638903260231018], [2, 6.265665e-05, 0.000114334594, 0.000114334594, 0.0005418272, 9.398496240601504e-05, 0.00015584353838525854, 0.00011993284155767572, 0.00023222520913294107, 4.143462187253443e-05, 8.577915587763589e-05, 9.241726081398196e-05, 0.00012349487016243593, 0.001951413725286344, 0.0009037805069785636, 0.0875459834933281], [3, 0.012192441, 0.01224412, 0.01224412, 0.013166627, 0.012363796487988582, 0.008586424211866363, 0.005380356117645946, 0.002860482861341153, 0.015392269039372528, 0.011347708514632475, 0.00687883532767121, 0.00298491509760821, 0.07192748725123682, 0.012509211212179922, 0.03425334393978119], [4, 0.021884039, 0.022155017, 0.023888309, 0.030598862, 0.022485064082938593, 0.015825804034119893, 0.010946368344677734, 0.006791629176013321, 0.02888112029592906, 0.022189799330330322, 0.013938353141363626, 0.006181598099603325, 0.14048288342581153, 0.0233908867031529, 0.016079092398285866], [5, 0.035313595, 0.03689594, 0.04460393, 0.05987708, 0.03648430374477475, 0.026565143429333925, 0.020454688363116647, 0.013674394527261772, 0.03790084144653738, 0.029984532090436136, 0.019640556776447965, 0.009293996302246404, 0.16690325571606437, 0.031002429439172696, 0.00896468199789524], [6, 0.04552606, 0.060163807, 0.0759388, 0.10377261, 0.04742959476789486, 0.04435664557546601, 0.036499449037326145, 0.025068013379631365, 0.04435161786342978, 0.040414372592100074, 0.02835035588263177, 0.014099337304137032, 0.19610433961008, 0.040596246854685, 0.006402811501175165], [7, 0.04505384, 0.061919995, 0.08535158, 0.13296558, 0.04685116940588034, 0.045459853853643435, 0.040955721563986296, 0.03206007849413344, 0.044097254143789746, 0.040629268884728835, 0.029831262100557972, 0.01600950769905029, 0.19878249817468585, 0.04433198613540528, 0.005035687237977982], [8, 0.04302973, 0.06006305, 0.0861205, 0.13450408, 0.044897222652263445, 0.0444229229232266, 0.04149130796157705, 0.032486319755374714, 0.04316306434732799, 0.040223642770565095, 0.030037039407718003, 0.01614683551741834, 0.19880403722470383, 0.04537726715299089, 0.004491719882935286], [9, 0.043005683, 0.060361024, 0.0864748, 0.13380076, 0.045015886669618775, 0.04470404438117823, 0.04135591344730587, 0.032307265459489136, 0.04303652583271321, 0.040023145981875244, 0.029789363420078235, 0.016023503093458572, 0.19746552954865476, 0.04551373985467269, 0.004231818486005068], [10, 0.04446454, 0.061703257, 0.087271154, 0.13363504, 0.04645720071631844, 0.045478566911558965, 0.041588355130944894, 0.032089332132607895, 0.043859996446023196, 0.04076432597760419, 0.03000943780845185, 0.016028693600564747, 0.20030646363268975, 0.04601126590931668, 0.004136193078011274], [11, 0.044246998, 0.061287165, 0.08812255, 0.13375618, 0.04591637554154486, 0.045369692088547305, 0.042015781667382304, 0.032538173542228176, 0.04348411867079934, 0.040651673612997104, 0.03016692014495121, 0.01621486284398943, 0.19952806424428635, 0.046185973052227866, 0.004109547473490238], [12, 0.04470387, 0.062247556, 0.08605318, 0.13421819, 0.046780068648080805, 0.04576285756889251, 0.041004133668906255, 0.032360522945468595, 0.043868832391707746, 0.040721011332313255, 0.029804810652285255, 0.01609208341775448, 0.19981977624356465, 0.04604468133199999, 0.004096497315913439], [13, 0.043977078, 0.06233449, 0.08661084, 0.13429928, 0.045692403453946276, 0.045799288322928164, 0.042076689445000696, 0.03241410434906193, 0.04354451812236549, 0.040724832167204725, 0.030276835140688133, 0.01608432128787377, 0.19935288613114946, 0.04617857383367633, 0.004082830157130957], [14, 0.04468153, 0.06129364, 0.08752878, 0.13613872, 0.04660332204312588, 0.045127255700448475, 0.041920397701127946, 0.03298730434823908, 0.04386855932337729, 0.040429790924422275, 0.030139432620446206, 0.016242313294590947, 0.19980050766749513, 0.046126670681988176, 0.0040789153426885605], [15, 0.045376636, 0.060326427, 0.08512365, 0.13348871, 0.047294272219954005, 0.044827450261729455, 0.04111953997852622, 0.03207467964775207, 0.04444969604597112, 0.04071241514792288, 0.030103040617519526, 0.016038473455245866, 0.2006804503291688, 0.046264794497076774, 0.004082686733454466], [16, 0.045372806, 0.06294444, 0.08444398, 0.13592853, 0.04724812788907503, 0.04648576273005884, 0.041038122828081905, 0.03278632581608193, 0.044238787578572907, 0.04123012807318255, 0.0301277713247932, 0.01624791783235155, 0.2003354458832491, 0.04609650321711322, 0.004079689737409353]]\n",
      "-----------------------------------------------------------------------------------------\n"
     ]
    },
    {
     "name": "stderr",
     "output_type": "stream",
     "text": [
      "  0%|          | 1/1065 [00:00<08:55,  1.99it/s]"
     ]
    },
    {
     "name": "stdout",
     "output_type": "stream",
     "text": [
      "Epoch 17: 0% , Loss: 0.006397\n"
     ]
    },
    {
     "name": "stderr",
     "output_type": "stream",
     "text": [
      "  9%|▉         | 101/1065 [00:54<07:51,  2.04it/s]"
     ]
    },
    {
     "name": "stdout",
     "output_type": "stream",
     "text": [
      "Epoch 17: 9% , Loss: 0.006290\n"
     ]
    },
    {
     "name": "stderr",
     "output_type": "stream",
     "text": [
      " 19%|█▉        | 201/1065 [01:48<06:55,  2.08it/s]"
     ]
    },
    {
     "name": "stdout",
     "output_type": "stream",
     "text": [
      "Epoch 17: 19% , Loss: 0.004974\n"
     ]
    },
    {
     "name": "stderr",
     "output_type": "stream",
     "text": [
      " 28%|██▊       | 301/1065 [02:46<07:07,  1.79it/s]"
     ]
    },
    {
     "name": "stdout",
     "output_type": "stream",
     "text": [
      "Epoch 17: 28% , Loss: 0.004128\n"
     ]
    },
    {
     "name": "stderr",
     "output_type": "stream",
     "text": [
      " 38%|███▊      | 401/1065 [03:37<05:26,  2.04it/s]"
     ]
    },
    {
     "name": "stdout",
     "output_type": "stream",
     "text": [
      "Epoch 17: 38% , Loss: 0.004375\n"
     ]
    },
    {
     "name": "stderr",
     "output_type": "stream",
     "text": [
      " 47%|████▋     | 501/1065 [04:27<04:52,  1.93it/s]"
     ]
    },
    {
     "name": "stdout",
     "output_type": "stream",
     "text": [
      "Epoch 17: 47% , Loss: 0.003605\n"
     ]
    },
    {
     "name": "stderr",
     "output_type": "stream",
     "text": [
      " 56%|█████▋    | 601/1065 [05:19<03:43,  2.08it/s]"
     ]
    },
    {
     "name": "stdout",
     "output_type": "stream",
     "text": [
      "Epoch 17: 56% , Loss: 0.003025\n"
     ]
    },
    {
     "name": "stderr",
     "output_type": "stream",
     "text": [
      " 66%|██████▌   | 701/1065 [06:19<03:36,  1.68it/s]"
     ]
    },
    {
     "name": "stdout",
     "output_type": "stream",
     "text": [
      "Epoch 17: 66% , Loss: 0.003990\n"
     ]
    },
    {
     "name": "stderr",
     "output_type": "stream",
     "text": [
      " 75%|███████▌  | 801/1065 [07:24<02:51,  1.54it/s]"
     ]
    },
    {
     "name": "stdout",
     "output_type": "stream",
     "text": [
      "Epoch 17: 75% , Loss: 0.003126\n"
     ]
    },
    {
     "name": "stderr",
     "output_type": "stream",
     "text": [
      " 85%|████████▍ | 901/1065 [08:32<02:01,  1.35it/s]"
     ]
    },
    {
     "name": "stdout",
     "output_type": "stream",
     "text": [
      "Epoch 17: 85% , Loss: 0.003971\n"
     ]
    },
    {
     "name": "stderr",
     "output_type": "stream",
     "text": [
      " 94%|█████████▍| 1001/1065 [09:42<00:49,  1.30it/s]"
     ]
    },
    {
     "name": "stdout",
     "output_type": "stream",
     "text": [
      "Epoch 17: 94% , Loss: 0.005501\n"
     ]
    },
    {
     "name": "stderr",
     "output_type": "stream",
     "text": [
      "100%|██████████| 1065/1065 [10:25<00:00,  1.70it/s]"
     ]
    },
    {
     "name": "stdout",
     "output_type": "stream",
     "text": [
      "Epoch 17: 100% , Loss: 0.005077\n"
     ]
    },
    {
     "name": "stderr",
     "output_type": "stream",
     "text": [
      "\n"
     ]
    },
    {
     "name": "stdout",
     "output_type": "stream",
     "text": [
      "                      (HR@5: 0.0417, HR@10: 0.0597, HR@20: 0.0839, HR@50: 0.1361)\n",
      "\n",
      "                      (F1-score@5: 0.0433, F1-score@10: 0.0435, F1-score@20: 0.0399, F1-score@50: 0.0327)\n",
      "\n",
      "                      (NDCG@5: 0.0416, NDCG@10: 0.0384, NDCG@20: 0.0280, NDCG@50: 0.0155)\n",
      "\n",
      "MRR: 0.1865546941708573\n",
      "MAP: 0.04600215942353174\n",
      "train_loss= tensor(0.0040)\n",
      "--------------------\n"
     ]
    },
    {
     "name": "stderr",
     "output_type": "stream",
     "text": [
      "100%|██████████| 133/133 [00:55<00:00,  2.38it/s]\n"
     ]
    },
    {
     "name": "stdout",
     "output_type": "stream",
     "text": [
      "                      (HR@5: 0.0410, HR@10: 0.0587, HR@20: 0.0786, HR@50: 0.1293)\n",
      "\n",
      "                      (F1-score@5: 0.0423, F1-score@10: 0.0433, F1-score@20: 0.0381, F1-score@50: 0.0317)\n",
      "\n",
      "                      (NDCG@5: 0.0383, NDCG@10: 0.0377, NDCG@20: 0.0280, NDCG@50: 0.0152)\n",
      "\n",
      "MRR: 0.1773590219100729\n",
      "MAP: 0.04290794256878857\n",
      "val_loss= tensor(0.0041)\n",
      "--------------------\n"
     ]
    },
    {
     "name": "stderr",
     "output_type": "stream",
     "text": [
      "100%|██████████| 133/133 [00:56<00:00,  2.35it/s]\n"
     ]
    },
    {
     "name": "stdout",
     "output_type": "stream",
     "text": [
      "                      (HR@5: 0.0454, HR@10: 0.0600, HR@20: 0.0831, HR@50: 0.1336)\n",
      "\n",
      "                      (F1-score@5: 0.0477, F1-score@10: 0.0446, F1-score@20: 0.0401, F1-score@50: 0.0322)\n",
      "\n",
      "                      (NDCG@5: 0.0443, NDCG@10: 0.0406, NDCG@20: 0.0296, NDCG@50: 0.0160)\n",
      "\n",
      "MRR: 0.19932684294861805\n",
      "MAP: 0.04587433141288787\n",
      "--------------------\n",
      "[[1, 8.4016865e-05, 8.4016865e-05, 0.000114334594, 0.000891291, 0.00013234617155132733, 0.00010999721526037315, 0.0001199328415576757, 0.000390551794612985, 5.351662061604342e-05, 6.386598123979748e-05, 8.58788984246496e-05, 0.00018388043198020276, 0.0020697745302244, 0.000889444836566718, 0.2638903260231018], [2, 6.265665e-05, 0.000114334594, 0.000114334594, 0.0005418272, 9.398496240601504e-05, 0.00015584353838525854, 0.00011993284155767572, 0.00023222520913294107, 4.143462187253443e-05, 8.577915587763589e-05, 9.241726081398196e-05, 0.00012349487016243593, 0.001951413725286344, 0.0009037805069785636, 0.0875459834933281], [3, 0.012192441, 0.01224412, 0.01224412, 0.013166627, 0.012363796487988582, 0.008586424211866363, 0.005380356117645946, 0.002860482861341153, 0.015392269039372528, 0.011347708514632475, 0.00687883532767121, 0.00298491509760821, 0.07192748725123682, 0.012509211212179922, 0.03425334393978119], [4, 0.021884039, 0.022155017, 0.023888309, 0.030598862, 0.022485064082938593, 0.015825804034119893, 0.010946368344677734, 0.006791629176013321, 0.02888112029592906, 0.022189799330330322, 0.013938353141363626, 0.006181598099603325, 0.14048288342581153, 0.0233908867031529, 0.016079092398285866], [5, 0.035313595, 0.03689594, 0.04460393, 0.05987708, 0.03648430374477475, 0.026565143429333925, 0.020454688363116647, 0.013674394527261772, 0.03790084144653738, 0.029984532090436136, 0.019640556776447965, 0.009293996302246404, 0.16690325571606437, 0.031002429439172696, 0.00896468199789524], [6, 0.04552606, 0.060163807, 0.0759388, 0.10377261, 0.04742959476789486, 0.04435664557546601, 0.036499449037326145, 0.025068013379631365, 0.04435161786342978, 0.040414372592100074, 0.02835035588263177, 0.014099337304137032, 0.19610433961008, 0.040596246854685, 0.006402811501175165], [7, 0.04505384, 0.061919995, 0.08535158, 0.13296558, 0.04685116940588034, 0.045459853853643435, 0.040955721563986296, 0.03206007849413344, 0.044097254143789746, 0.040629268884728835, 0.029831262100557972, 0.01600950769905029, 0.19878249817468585, 0.04433198613540528, 0.005035687237977982], [8, 0.04302973, 0.06006305, 0.0861205, 0.13450408, 0.044897222652263445, 0.0444229229232266, 0.04149130796157705, 0.032486319755374714, 0.04316306434732799, 0.040223642770565095, 0.030037039407718003, 0.01614683551741834, 0.19880403722470383, 0.04537726715299089, 0.004491719882935286], [9, 0.043005683, 0.060361024, 0.0864748, 0.13380076, 0.045015886669618775, 0.04470404438117823, 0.04135591344730587, 0.032307265459489136, 0.04303652583271321, 0.040023145981875244, 0.029789363420078235, 0.016023503093458572, 0.19746552954865476, 0.04551373985467269, 0.004231818486005068], [10, 0.04446454, 0.061703257, 0.087271154, 0.13363504, 0.04645720071631844, 0.045478566911558965, 0.041588355130944894, 0.032089332132607895, 0.043859996446023196, 0.04076432597760419, 0.03000943780845185, 0.016028693600564747, 0.20030646363268975, 0.04601126590931668, 0.004136193078011274], [11, 0.044246998, 0.061287165, 0.08812255, 0.13375618, 0.04591637554154486, 0.045369692088547305, 0.042015781667382304, 0.032538173542228176, 0.04348411867079934, 0.040651673612997104, 0.03016692014495121, 0.01621486284398943, 0.19952806424428635, 0.046185973052227866, 0.004109547473490238], [12, 0.04470387, 0.062247556, 0.08605318, 0.13421819, 0.046780068648080805, 0.04576285756889251, 0.041004133668906255, 0.032360522945468595, 0.043868832391707746, 0.040721011332313255, 0.029804810652285255, 0.01609208341775448, 0.19981977624356465, 0.04604468133199999, 0.004096497315913439], [13, 0.043977078, 0.06233449, 0.08661084, 0.13429928, 0.045692403453946276, 0.045799288322928164, 0.042076689445000696, 0.03241410434906193, 0.04354451812236549, 0.040724832167204725, 0.030276835140688133, 0.01608432128787377, 0.19935288613114946, 0.04617857383367633, 0.004082830157130957], [14, 0.04468153, 0.06129364, 0.08752878, 0.13613872, 0.04660332204312588, 0.045127255700448475, 0.041920397701127946, 0.03298730434823908, 0.04386855932337729, 0.040429790924422275, 0.030139432620446206, 0.016242313294590947, 0.19980050766749513, 0.046126670681988176, 0.0040789153426885605], [15, 0.045376636, 0.060326427, 0.08512365, 0.13348871, 0.047294272219954005, 0.044827450261729455, 0.04111953997852622, 0.03207467964775207, 0.04444969604597112, 0.04071241514792288, 0.030103040617519526, 0.016038473455245866, 0.2006804503291688, 0.046264794497076774, 0.004082686733454466], [16, 0.045372806, 0.06294444, 0.08444398, 0.13592853, 0.04724812788907503, 0.04648576273005884, 0.041038122828081905, 0.03278632581608193, 0.044238787578572907, 0.04123012807318255, 0.0301277713247932, 0.01624791783235155, 0.2003354458832491, 0.04609650321711322, 0.004079689737409353], [17, 0.04543305, 0.06002204, 0.08314672, 0.13363312, 0.047670544688371536, 0.044625374789359906, 0.04011145262601982, 0.03224437769575246, 0.04430435115604529, 0.04058583273860465, 0.029635472790359108, 0.01603890729226046, 0.19932684294861805, 0.04587433141288787, 0.0040979026816785336]]\n",
      "-----------------------------------------------------------------------------------------\n"
     ]
    },
    {
     "name": "stderr",
     "output_type": "stream",
     "text": [
      "  0%|          | 1/1065 [00:00<08:51,  2.00it/s]"
     ]
    },
    {
     "name": "stdout",
     "output_type": "stream",
     "text": [
      "Epoch 18: 0% , Loss: 0.004475\n"
     ]
    },
    {
     "name": "stderr",
     "output_type": "stream",
     "text": [
      "  9%|▉         | 101/1065 [00:51<07:52,  2.04it/s]"
     ]
    },
    {
     "name": "stdout",
     "output_type": "stream",
     "text": [
      "Epoch 18: 9% , Loss: 0.002983\n"
     ]
    },
    {
     "name": "stderr",
     "output_type": "stream",
     "text": [
      " 19%|█▉        | 201/1065 [01:41<06:25,  2.24it/s]"
     ]
    },
    {
     "name": "stdout",
     "output_type": "stream",
     "text": [
      "Epoch 18: 19% , Loss: 0.005074\n"
     ]
    },
    {
     "name": "stderr",
     "output_type": "stream",
     "text": [
      " 28%|██▊       | 301/1065 [02:32<05:22,  2.37it/s]"
     ]
    },
    {
     "name": "stdout",
     "output_type": "stream",
     "text": [
      "Epoch 18: 28% , Loss: 0.003334\n"
     ]
    },
    {
     "name": "stderr",
     "output_type": "stream",
     "text": [
      " 38%|███▊      | 401/1065 [03:21<05:17,  2.09it/s]"
     ]
    },
    {
     "name": "stdout",
     "output_type": "stream",
     "text": [
      "Epoch 18: 38% , Loss: 0.004135\n"
     ]
    },
    {
     "name": "stderr",
     "output_type": "stream",
     "text": [
      " 47%|████▋     | 501/1065 [04:15<05:21,  1.75it/s]"
     ]
    },
    {
     "name": "stdout",
     "output_type": "stream",
     "text": [
      "Epoch 18: 47% , Loss: 0.004646\n"
     ]
    },
    {
     "name": "stderr",
     "output_type": "stream",
     "text": [
      " 56%|█████▋    | 601/1065 [05:18<04:28,  1.73it/s]"
     ]
    },
    {
     "name": "stdout",
     "output_type": "stream",
     "text": [
      "Epoch 18: 56% , Loss: 0.004490\n"
     ]
    },
    {
     "name": "stderr",
     "output_type": "stream",
     "text": [
      " 66%|██████▌   | 701/1065 [06:19<03:28,  1.74it/s]"
     ]
    },
    {
     "name": "stdout",
     "output_type": "stream",
     "text": [
      "Epoch 18: 66% , Loss: 0.003099\n"
     ]
    },
    {
     "name": "stderr",
     "output_type": "stream",
     "text": [
      " 75%|███████▌  | 801/1065 [07:24<03:10,  1.38it/s]"
     ]
    },
    {
     "name": "stdout",
     "output_type": "stream",
     "text": [
      "Epoch 18: 75% , Loss: 0.004208\n"
     ]
    },
    {
     "name": "stderr",
     "output_type": "stream",
     "text": [
      " 85%|████████▍ | 901/1065 [08:34<01:50,  1.49it/s]"
     ]
    },
    {
     "name": "stdout",
     "output_type": "stream",
     "text": [
      "Epoch 18: 85% , Loss: 0.003508\n"
     ]
    },
    {
     "name": "stderr",
     "output_type": "stream",
     "text": [
      " 94%|█████████▍| 1001/1065 [09:43<00:40,  1.58it/s]"
     ]
    },
    {
     "name": "stdout",
     "output_type": "stream",
     "text": [
      "Epoch 18: 94% , Loss: 0.003832\n"
     ]
    },
    {
     "name": "stderr",
     "output_type": "stream",
     "text": [
      "100%|██████████| 1065/1065 [10:25<00:00,  1.70it/s]"
     ]
    },
    {
     "name": "stdout",
     "output_type": "stream",
     "text": [
      "Epoch 18: 100% , Loss: 0.003721\n"
     ]
    },
    {
     "name": "stderr",
     "output_type": "stream",
     "text": [
      "\n"
     ]
    },
    {
     "name": "stdout",
     "output_type": "stream",
     "text": [
      "                      (HR@5: 0.0423, HR@10: 0.0592, HR@20: 0.0845, HR@50: 0.1369)\n",
      "\n",
      "                      (F1-score@5: 0.0437, F1-score@10: 0.0430, F1-score@20: 0.0400, F1-score@50: 0.0328)\n",
      "\n",
      "                      (NDCG@5: 0.0419, NDCG@10: 0.0381, NDCG@20: 0.0280, NDCG@50: 0.0155)\n",
      "\n",
      "MRR: 0.18586260599167906\n",
      "MAP: 0.04607470900800018\n",
      "train_loss= tensor(0.0040)\n",
      "--------------------\n"
     ]
    },
    {
     "name": "stderr",
     "output_type": "stream",
     "text": [
      "100%|██████████| 133/133 [00:54<00:00,  2.43it/s]\n"
     ]
    },
    {
     "name": "stdout",
     "output_type": "stream",
     "text": [
      "                      (HR@5: 0.0409, HR@10: 0.0581, HR@20: 0.0809, HR@50: 0.1314)\n",
      "\n",
      "                      (F1-score@5: 0.0423, F1-score@10: 0.0427, F1-score@20: 0.0390, F1-score@50: 0.0319)\n",
      "\n",
      "                      (NDCG@5: 0.0384, NDCG@10: 0.0374, NDCG@20: 0.0282, NDCG@50: 0.0152)\n",
      "\n",
      "MRR: 0.17758568907856717\n",
      "MAP: 0.0429326537167981\n",
      "val_loss= tensor(0.0041)\n",
      "--------------------\n"
     ]
    },
    {
     "name": "stderr",
     "output_type": "stream",
     "text": [
      "100%|██████████| 133/133 [00:55<00:00,  2.39it/s]\n"
     ]
    },
    {
     "name": "stdout",
     "output_type": "stream",
     "text": [
      "                      (HR@5: 0.0451, HR@10: 0.0612, HR@20: 0.0854, HR@50: 0.1324)\n",
      "\n",
      "                      (F1-score@5: 0.0469, F1-score@10: 0.0453, F1-score@20: 0.0410, F1-score@50: 0.0323)\n",
      "\n",
      "                      (NDCG@5: 0.0442, NDCG@10: 0.0409, NDCG@20: 0.0299, NDCG@50: 0.0161)\n",
      "\n",
      "MRR: 0.2006007862319213\n",
      "MAP: 0.0463034645964193\n",
      "--------------------\n",
      "[[1, 8.4016865e-05, 8.4016865e-05, 0.000114334594, 0.000891291, 0.00013234617155132733, 0.00010999721526037315, 0.0001199328415576757, 0.000390551794612985, 5.351662061604342e-05, 6.386598123979748e-05, 8.58788984246496e-05, 0.00018388043198020276, 0.0020697745302244, 0.000889444836566718, 0.2638903260231018], [2, 6.265665e-05, 0.000114334594, 0.000114334594, 0.0005418272, 9.398496240601504e-05, 0.00015584353838525854, 0.00011993284155767572, 0.00023222520913294107, 4.143462187253443e-05, 8.577915587763589e-05, 9.241726081398196e-05, 0.00012349487016243593, 0.001951413725286344, 0.0009037805069785636, 0.0875459834933281], [3, 0.012192441, 0.01224412, 0.01224412, 0.013166627, 0.012363796487988582, 0.008586424211866363, 0.005380356117645946, 0.002860482861341153, 0.015392269039372528, 0.011347708514632475, 0.00687883532767121, 0.00298491509760821, 0.07192748725123682, 0.012509211212179922, 0.03425334393978119], [4, 0.021884039, 0.022155017, 0.023888309, 0.030598862, 0.022485064082938593, 0.015825804034119893, 0.010946368344677734, 0.006791629176013321, 0.02888112029592906, 0.022189799330330322, 0.013938353141363626, 0.006181598099603325, 0.14048288342581153, 0.0233908867031529, 0.016079092398285866], [5, 0.035313595, 0.03689594, 0.04460393, 0.05987708, 0.03648430374477475, 0.026565143429333925, 0.020454688363116647, 0.013674394527261772, 0.03790084144653738, 0.029984532090436136, 0.019640556776447965, 0.009293996302246404, 0.16690325571606437, 0.031002429439172696, 0.00896468199789524], [6, 0.04552606, 0.060163807, 0.0759388, 0.10377261, 0.04742959476789486, 0.04435664557546601, 0.036499449037326145, 0.025068013379631365, 0.04435161786342978, 0.040414372592100074, 0.02835035588263177, 0.014099337304137032, 0.19610433961008, 0.040596246854685, 0.006402811501175165], [7, 0.04505384, 0.061919995, 0.08535158, 0.13296558, 0.04685116940588034, 0.045459853853643435, 0.040955721563986296, 0.03206007849413344, 0.044097254143789746, 0.040629268884728835, 0.029831262100557972, 0.01600950769905029, 0.19878249817468585, 0.04433198613540528, 0.005035687237977982], [8, 0.04302973, 0.06006305, 0.0861205, 0.13450408, 0.044897222652263445, 0.0444229229232266, 0.04149130796157705, 0.032486319755374714, 0.04316306434732799, 0.040223642770565095, 0.030037039407718003, 0.01614683551741834, 0.19880403722470383, 0.04537726715299089, 0.004491719882935286], [9, 0.043005683, 0.060361024, 0.0864748, 0.13380076, 0.045015886669618775, 0.04470404438117823, 0.04135591344730587, 0.032307265459489136, 0.04303652583271321, 0.040023145981875244, 0.029789363420078235, 0.016023503093458572, 0.19746552954865476, 0.04551373985467269, 0.004231818486005068], [10, 0.04446454, 0.061703257, 0.087271154, 0.13363504, 0.04645720071631844, 0.045478566911558965, 0.041588355130944894, 0.032089332132607895, 0.043859996446023196, 0.04076432597760419, 0.03000943780845185, 0.016028693600564747, 0.20030646363268975, 0.04601126590931668, 0.004136193078011274], [11, 0.044246998, 0.061287165, 0.08812255, 0.13375618, 0.04591637554154486, 0.045369692088547305, 0.042015781667382304, 0.032538173542228176, 0.04348411867079934, 0.040651673612997104, 0.03016692014495121, 0.01621486284398943, 0.19952806424428635, 0.046185973052227866, 0.004109547473490238], [12, 0.04470387, 0.062247556, 0.08605318, 0.13421819, 0.046780068648080805, 0.04576285756889251, 0.041004133668906255, 0.032360522945468595, 0.043868832391707746, 0.040721011332313255, 0.029804810652285255, 0.01609208341775448, 0.19981977624356465, 0.04604468133199999, 0.004096497315913439], [13, 0.043977078, 0.06233449, 0.08661084, 0.13429928, 0.045692403453946276, 0.045799288322928164, 0.042076689445000696, 0.03241410434906193, 0.04354451812236549, 0.040724832167204725, 0.030276835140688133, 0.01608432128787377, 0.19935288613114946, 0.04617857383367633, 0.004082830157130957], [14, 0.04468153, 0.06129364, 0.08752878, 0.13613872, 0.04660332204312588, 0.045127255700448475, 0.041920397701127946, 0.03298730434823908, 0.04386855932337729, 0.040429790924422275, 0.030139432620446206, 0.016242313294590947, 0.19980050766749513, 0.046126670681988176, 0.0040789153426885605], [15, 0.045376636, 0.060326427, 0.08512365, 0.13348871, 0.047294272219954005, 0.044827450261729455, 0.04111953997852622, 0.03207467964775207, 0.04444969604597112, 0.04071241514792288, 0.030103040617519526, 0.016038473455245866, 0.2006804503291688, 0.046264794497076774, 0.004082686733454466], [16, 0.045372806, 0.06294444, 0.08444398, 0.13592853, 0.04724812788907503, 0.04648576273005884, 0.041038122828081905, 0.03278632581608193, 0.044238787578572907, 0.04123012807318255, 0.0301277713247932, 0.01624791783235155, 0.2003354458832491, 0.04609650321711322, 0.004079689737409353], [17, 0.04543305, 0.06002204, 0.08314672, 0.13363312, 0.047670544688371536, 0.044625374789359906, 0.04011145262601982, 0.03224437769575246, 0.04430435115604529, 0.04058583273860465, 0.029635472790359108, 0.01603890729226046, 0.19932684294861805, 0.04587433141288787, 0.0040979026816785336], [18, 0.045146808, 0.06117123, 0.08538845, 0.13243732, 0.046859841665272586, 0.04533028433017395, 0.040951037762931665, 0.03233338405525932, 0.04418275300133273, 0.04085807624462068, 0.029929443448957028, 0.01614235988529259, 0.2006007862319213, 0.0463034645964193, 0.004099781159311533]]\n",
      "-----------------------------------------------------------------------------------------\n"
     ]
    },
    {
     "name": "stderr",
     "output_type": "stream",
     "text": [
      "  0%|          | 1/1065 [00:00<07:20,  2.42it/s]"
     ]
    },
    {
     "name": "stdout",
     "output_type": "stream",
     "text": [
      "Epoch 19: 0% , Loss: 0.003883\n"
     ]
    },
    {
     "name": "stderr",
     "output_type": "stream",
     "text": [
      "  9%|▉         | 101/1065 [00:49<07:51,  2.04it/s]"
     ]
    },
    {
     "name": "stdout",
     "output_type": "stream",
     "text": [
      "Epoch 19: 9% , Loss: 0.003693\n"
     ]
    },
    {
     "name": "stderr",
     "output_type": "stream",
     "text": [
      " 19%|█▉        | 201/1065 [01:37<07:10,  2.01it/s]"
     ]
    },
    {
     "name": "stdout",
     "output_type": "stream",
     "text": [
      "Epoch 19: 19% , Loss: 0.004768\n"
     ]
    },
    {
     "name": "stderr",
     "output_type": "stream",
     "text": [
      " 28%|██▊       | 301/1065 [02:32<07:29,  1.70it/s]"
     ]
    },
    {
     "name": "stdout",
     "output_type": "stream",
     "text": [
      "Epoch 19: 28% , Loss: 0.003529\n"
     ]
    },
    {
     "name": "stderr",
     "output_type": "stream",
     "text": [
      " 38%|███▊      | 401/1065 [03:34<09:41,  1.14it/s]"
     ]
    },
    {
     "name": "stdout",
     "output_type": "stream",
     "text": [
      "Epoch 19: 38% , Loss: 0.004559\n"
     ]
    },
    {
     "name": "stderr",
     "output_type": "stream",
     "text": [
      " 47%|████▋     | 501/1065 [04:34<05:29,  1.71it/s]"
     ]
    },
    {
     "name": "stdout",
     "output_type": "stream",
     "text": [
      "Epoch 19: 47% , Loss: 0.004570\n"
     ]
    },
    {
     "name": "stderr",
     "output_type": "stream",
     "text": [
      " 56%|█████▋    | 601/1065 [05:36<07:35,  1.02it/s]"
     ]
    },
    {
     "name": "stdout",
     "output_type": "stream",
     "text": [
      "Epoch 19: 56% , Loss: 0.003620\n"
     ]
    },
    {
     "name": "stderr",
     "output_type": "stream",
     "text": [
      " 66%|██████▌   | 701/1065 [06:37<03:41,  1.65it/s]"
     ]
    },
    {
     "name": "stdout",
     "output_type": "stream",
     "text": [
      "Epoch 19: 66% , Loss: 0.005165\n"
     ]
    },
    {
     "name": "stderr",
     "output_type": "stream",
     "text": [
      " 75%|███████▌  | 801/1065 [07:39<02:50,  1.55it/s]"
     ]
    },
    {
     "name": "stdout",
     "output_type": "stream",
     "text": [
      "Epoch 19: 75% , Loss: 0.003565\n"
     ]
    },
    {
     "name": "stderr",
     "output_type": "stream",
     "text": [
      " 85%|████████▍ | 901/1065 [08:42<01:53,  1.44it/s]"
     ]
    },
    {
     "name": "stdout",
     "output_type": "stream",
     "text": [
      "Epoch 19: 85% , Loss: 0.003895\n"
     ]
    },
    {
     "name": "stderr",
     "output_type": "stream",
     "text": [
      " 94%|█████████▍| 1001/1065 [09:49<00:39,  1.63it/s]"
     ]
    },
    {
     "name": "stdout",
     "output_type": "stream",
     "text": [
      "Epoch 19: 94% , Loss: 0.004528\n"
     ]
    },
    {
     "name": "stderr",
     "output_type": "stream",
     "text": [
      "100%|██████████| 1065/1065 [10:33<00:00,  1.68it/s]"
     ]
    },
    {
     "name": "stdout",
     "output_type": "stream",
     "text": [
      "Epoch 19: 100% , Loss: 0.002897\n"
     ]
    },
    {
     "name": "stderr",
     "output_type": "stream",
     "text": [
      "\n"
     ]
    },
    {
     "name": "stdout",
     "output_type": "stream",
     "text": [
      "                      (HR@5: 0.0420, HR@10: 0.0592, HR@20: 0.0850, HR@50: 0.1369)\n",
      "\n",
      "                      (F1-score@5: 0.0435, F1-score@10: 0.0430, F1-score@20: 0.0402, F1-score@50: 0.0329)\n",
      "\n",
      "                      (NDCG@5: 0.0417, NDCG@10: 0.0381, NDCG@20: 0.0280, NDCG@50: 0.0155)\n",
      "\n",
      "MRR: 0.18637400779018992\n",
      "MAP: 0.045973046385496555\n",
      "train_loss= tensor(0.0040)\n",
      "--------------------\n"
     ]
    },
    {
     "name": "stderr",
     "output_type": "stream",
     "text": [
      "100%|██████████| 133/133 [00:45<00:00,  2.95it/s]\n"
     ]
    },
    {
     "name": "stdout",
     "output_type": "stream",
     "text": [
      "                      (HR@5: 0.0404, HR@10: 0.0579, HR@20: 0.0798, HR@50: 0.1286)\n",
      "\n",
      "                      (F1-score@5: 0.0423, F1-score@10: 0.0425, F1-score@20: 0.0384, F1-score@50: 0.0314)\n",
      "\n",
      "                      (NDCG@5: 0.0383, NDCG@10: 0.0373, NDCG@20: 0.0280, NDCG@50: 0.0151)\n",
      "\n",
      "MRR: 0.17744493929934804\n",
      "MAP: 0.04270575480350037\n",
      "val_loss= tensor(0.0041)\n",
      "--------------------\n"
     ]
    },
    {
     "name": "stderr",
     "output_type": "stream",
     "text": [
      "100%|██████████| 133/133 [00:46<00:00,  2.85it/s]\n"
     ]
    },
    {
     "name": "stdout",
     "output_type": "stream",
     "text": [
      "                      (HR@5: 0.0448, HR@10: 0.0609, HR@20: 0.0866, HR@50: 0.1351)\n",
      "\n",
      "                      (F1-score@5: 0.0467, F1-score@10: 0.0451, F1-score@20: 0.0417, F1-score@50: 0.0327)\n",
      "\n",
      "                      (NDCG@5: 0.0438, NDCG@10: 0.0405, NDCG@20: 0.0302, NDCG@50: 0.0162)\n",
      "\n",
      "MRR: 0.20064868969171337\n",
      "MAP: 0.046220907621626346\n",
      "--------------------\n",
      "[[1, 8.4016865e-05, 8.4016865e-05, 0.000114334594, 0.000891291, 0.00013234617155132733, 0.00010999721526037315, 0.0001199328415576757, 0.000390551794612985, 5.351662061604342e-05, 6.386598123979748e-05, 8.58788984246496e-05, 0.00018388043198020276, 0.0020697745302244, 0.000889444836566718, 0.2638903260231018], [2, 6.265665e-05, 0.000114334594, 0.000114334594, 0.0005418272, 9.398496240601504e-05, 0.00015584353838525854, 0.00011993284155767572, 0.00023222520913294107, 4.143462187253443e-05, 8.577915587763589e-05, 9.241726081398196e-05, 0.00012349487016243593, 0.001951413725286344, 0.0009037805069785636, 0.0875459834933281], [3, 0.012192441, 0.01224412, 0.01224412, 0.013166627, 0.012363796487988582, 0.008586424211866363, 0.005380356117645946, 0.002860482861341153, 0.015392269039372528, 0.011347708514632475, 0.00687883532767121, 0.00298491509760821, 0.07192748725123682, 0.012509211212179922, 0.03425334393978119], [4, 0.021884039, 0.022155017, 0.023888309, 0.030598862, 0.022485064082938593, 0.015825804034119893, 0.010946368344677734, 0.006791629176013321, 0.02888112029592906, 0.022189799330330322, 0.013938353141363626, 0.006181598099603325, 0.14048288342581153, 0.0233908867031529, 0.016079092398285866], [5, 0.035313595, 0.03689594, 0.04460393, 0.05987708, 0.03648430374477475, 0.026565143429333925, 0.020454688363116647, 0.013674394527261772, 0.03790084144653738, 0.029984532090436136, 0.019640556776447965, 0.009293996302246404, 0.16690325571606437, 0.031002429439172696, 0.00896468199789524], [6, 0.04552606, 0.060163807, 0.0759388, 0.10377261, 0.04742959476789486, 0.04435664557546601, 0.036499449037326145, 0.025068013379631365, 0.04435161786342978, 0.040414372592100074, 0.02835035588263177, 0.014099337304137032, 0.19610433961008, 0.040596246854685, 0.006402811501175165], [7, 0.04505384, 0.061919995, 0.08535158, 0.13296558, 0.04685116940588034, 0.045459853853643435, 0.040955721563986296, 0.03206007849413344, 0.044097254143789746, 0.040629268884728835, 0.029831262100557972, 0.01600950769905029, 0.19878249817468585, 0.04433198613540528, 0.005035687237977982], [8, 0.04302973, 0.06006305, 0.0861205, 0.13450408, 0.044897222652263445, 0.0444229229232266, 0.04149130796157705, 0.032486319755374714, 0.04316306434732799, 0.040223642770565095, 0.030037039407718003, 0.01614683551741834, 0.19880403722470383, 0.04537726715299089, 0.004491719882935286], [9, 0.043005683, 0.060361024, 0.0864748, 0.13380076, 0.045015886669618775, 0.04470404438117823, 0.04135591344730587, 0.032307265459489136, 0.04303652583271321, 0.040023145981875244, 0.029789363420078235, 0.016023503093458572, 0.19746552954865476, 0.04551373985467269, 0.004231818486005068], [10, 0.04446454, 0.061703257, 0.087271154, 0.13363504, 0.04645720071631844, 0.045478566911558965, 0.041588355130944894, 0.032089332132607895, 0.043859996446023196, 0.04076432597760419, 0.03000943780845185, 0.016028693600564747, 0.20030646363268975, 0.04601126590931668, 0.004136193078011274], [11, 0.044246998, 0.061287165, 0.08812255, 0.13375618, 0.04591637554154486, 0.045369692088547305, 0.042015781667382304, 0.032538173542228176, 0.04348411867079934, 0.040651673612997104, 0.03016692014495121, 0.01621486284398943, 0.19952806424428635, 0.046185973052227866, 0.004109547473490238], [12, 0.04470387, 0.062247556, 0.08605318, 0.13421819, 0.046780068648080805, 0.04576285756889251, 0.041004133668906255, 0.032360522945468595, 0.043868832391707746, 0.040721011332313255, 0.029804810652285255, 0.01609208341775448, 0.19981977624356465, 0.04604468133199999, 0.004096497315913439], [13, 0.043977078, 0.06233449, 0.08661084, 0.13429928, 0.045692403453946276, 0.045799288322928164, 0.042076689445000696, 0.03241410434906193, 0.04354451812236549, 0.040724832167204725, 0.030276835140688133, 0.01608432128787377, 0.19935288613114946, 0.04617857383367633, 0.004082830157130957], [14, 0.04468153, 0.06129364, 0.08752878, 0.13613872, 0.04660332204312588, 0.045127255700448475, 0.041920397701127946, 0.03298730434823908, 0.04386855932337729, 0.040429790924422275, 0.030139432620446206, 0.016242313294590947, 0.19980050766749513, 0.046126670681988176, 0.0040789153426885605], [15, 0.045376636, 0.060326427, 0.08512365, 0.13348871, 0.047294272219954005, 0.044827450261729455, 0.04111953997852622, 0.03207467964775207, 0.04444969604597112, 0.04071241514792288, 0.030103040617519526, 0.016038473455245866, 0.2006804503291688, 0.046264794497076774, 0.004082686733454466], [16, 0.045372806, 0.06294444, 0.08444398, 0.13592853, 0.04724812788907503, 0.04648576273005884, 0.041038122828081905, 0.03278632581608193, 0.044238787578572907, 0.04123012807318255, 0.0301277713247932, 0.01624791783235155, 0.2003354458832491, 0.04609650321711322, 0.004079689737409353], [17, 0.04543305, 0.06002204, 0.08314672, 0.13363312, 0.047670544688371536, 0.044625374789359906, 0.04011145262601982, 0.03224437769575246, 0.04430435115604529, 0.04058583273860465, 0.029635472790359108, 0.01603890729226046, 0.19932684294861805, 0.04587433141288787, 0.0040979026816785336], [18, 0.045146808, 0.06117123, 0.08538845, 0.13243732, 0.046859841665272586, 0.04533028433017395, 0.040951037762931665, 0.03233338405525932, 0.04418275300133273, 0.04085807624462068, 0.029929443448957028, 0.01614235988529259, 0.2006007862319213, 0.0463034645964193, 0.004099781159311533], [19, 0.04477998, 0.06093765, 0.086638644, 0.13508077, 0.04666681735883429, 0.04506933082964279, 0.04170243312323806, 0.03269009362923614, 0.04383900966425251, 0.0405393009208829, 0.030190504388008407, 0.016237533699434, 0.20064868969171337, 0.046220907621626346, 0.004109891597181559]]\n",
      "-----------------------------------------------------------------------------------------\n"
     ]
    },
    {
     "name": "stderr",
     "output_type": "stream",
     "text": [
      "  0%|          | 1/1065 [00:00<09:48,  1.81it/s]"
     ]
    },
    {
     "name": "stdout",
     "output_type": "stream",
     "text": [
      "Epoch 20: 0% , Loss: 0.004280\n"
     ]
    },
    {
     "name": "stderr",
     "output_type": "stream",
     "text": [
      "  9%|▉         | 101/1065 [00:49<08:39,  1.85it/s]"
     ]
    },
    {
     "name": "stdout",
     "output_type": "stream",
     "text": [
      "Epoch 20: 9% , Loss: 0.005352\n"
     ]
    },
    {
     "name": "stderr",
     "output_type": "stream",
     "text": [
      " 19%|█▉        | 201/1065 [01:44<09:45,  1.48it/s]"
     ]
    },
    {
     "name": "stdout",
     "output_type": "stream",
     "text": [
      "Epoch 20: 19% , Loss: 0.003960\n"
     ]
    },
    {
     "name": "stderr",
     "output_type": "stream",
     "text": [
      " 28%|██▊       | 301/1065 [02:44<06:50,  1.86it/s]"
     ]
    },
    {
     "name": "stdout",
     "output_type": "stream",
     "text": [
      "Epoch 20: 28% , Loss: 0.003525\n"
     ]
    },
    {
     "name": "stderr",
     "output_type": "stream",
     "text": [
      " 38%|███▊      | 401/1065 [03:38<06:53,  1.61it/s]"
     ]
    },
    {
     "name": "stdout",
     "output_type": "stream",
     "text": [
      "Epoch 20: 38% , Loss: 0.006100\n"
     ]
    },
    {
     "name": "stderr",
     "output_type": "stream",
     "text": [
      " 47%|████▋     | 501/1065 [04:37<05:02,  1.86it/s]"
     ]
    },
    {
     "name": "stdout",
     "output_type": "stream",
     "text": [
      "Epoch 20: 47% , Loss: 0.004894\n"
     ]
    },
    {
     "name": "stderr",
     "output_type": "stream",
     "text": [
      " 56%|█████▋    | 601/1065 [05:37<04:17,  1.80it/s]"
     ]
    },
    {
     "name": "stdout",
     "output_type": "stream",
     "text": [
      "Epoch 20: 56% , Loss: 0.003414\n"
     ]
    },
    {
     "name": "stderr",
     "output_type": "stream",
     "text": [
      " 66%|██████▌   | 701/1065 [06:42<03:29,  1.74it/s]"
     ]
    },
    {
     "name": "stdout",
     "output_type": "stream",
     "text": [
      "Epoch 20: 66% , Loss: 0.004662\n"
     ]
    },
    {
     "name": "stderr",
     "output_type": "stream",
     "text": [
      " 75%|███████▌  | 801/1065 [07:45<02:49,  1.56it/s]"
     ]
    },
    {
     "name": "stdout",
     "output_type": "stream",
     "text": [
      "Epoch 20: 75% , Loss: 0.002611\n"
     ]
    },
    {
     "name": "stderr",
     "output_type": "stream",
     "text": [
      " 85%|████████▍ | 901/1065 [08:54<02:04,  1.32it/s]"
     ]
    },
    {
     "name": "stdout",
     "output_type": "stream",
     "text": [
      "Epoch 20: 85% , Loss: 0.003424\n"
     ]
    },
    {
     "name": "stderr",
     "output_type": "stream",
     "text": [
      " 94%|█████████▍| 1001/1065 [10:00<00:41,  1.56it/s]"
     ]
    },
    {
     "name": "stdout",
     "output_type": "stream",
     "text": [
      "Epoch 20: 94% , Loss: 0.004314\n"
     ]
    },
    {
     "name": "stderr",
     "output_type": "stream",
     "text": [
      "100%|██████████| 1065/1065 [10:43<00:00,  1.65it/s]"
     ]
    },
    {
     "name": "stdout",
     "output_type": "stream",
     "text": [
      "Epoch 20: 100% , Loss: 0.005035\n"
     ]
    },
    {
     "name": "stderr",
     "output_type": "stream",
     "text": [
      "\n"
     ]
    },
    {
     "name": "stdout",
     "output_type": "stream",
     "text": [
      "                      (HR@5: 0.0415, HR@10: 0.0594, HR@20: 0.0846, HR@50: 0.1371)\n",
      "\n",
      "                      (F1-score@5: 0.0429, F1-score@10: 0.0432, F1-score@20: 0.0399, F1-score@50: 0.0329)\n",
      "\n",
      "                      (NDCG@5: 0.0414, NDCG@10: 0.0382, NDCG@20: 0.0278, NDCG@50: 0.0155)\n",
      "\n",
      "MRR: 0.18525517170272648\n",
      "MAP: 0.04584701062417345\n",
      "train_loss= tensor(0.0040)\n",
      "--------------------\n"
     ]
    },
    {
     "name": "stderr",
     "output_type": "stream",
     "text": [
      "100%|██████████| 133/133 [00:47<00:00,  2.82it/s]\n"
     ]
    },
    {
     "name": "stdout",
     "output_type": "stream",
     "text": [
      "                      (HR@5: 0.0415, HR@10: 0.0573, HR@20: 0.0799, HR@50: 0.1312)\n",
      "\n",
      "                      (F1-score@5: 0.0429, F1-score@10: 0.0423, F1-score@20: 0.0387, F1-score@50: 0.0321)\n",
      "\n",
      "                      (NDCG@5: 0.0385, NDCG@10: 0.0372, NDCG@20: 0.0279, NDCG@50: 0.0152)\n",
      "\n",
      "MRR: 0.17643880308193108\n",
      "MAP: 0.04288268913907088\n",
      "val_loss= tensor(0.0041)\n",
      "--------------------\n"
     ]
    },
    {
     "name": "stderr",
     "output_type": "stream",
     "text": [
      "100%|██████████| 133/133 [00:58<00:00,  2.28it/s]\n"
     ]
    },
    {
     "name": "stdout",
     "output_type": "stream",
     "text": [
      "                      (HR@5: 0.0447, HR@10: 0.0608, HR@20: 0.0864, HR@50: 0.1317)\n",
      "\n",
      "                      (F1-score@5: 0.0467, F1-score@10: 0.0450, F1-score@20: 0.0416, F1-score@50: 0.0320)\n",
      "\n",
      "                      (NDCG@5: 0.0440, NDCG@10: 0.0407, NDCG@20: 0.0301, NDCG@50: 0.0161)\n",
      "\n",
      "MRR: 0.20055398872796903\n",
      "MAP: 0.04614841692104868\n",
      "--------------------\n",
      "[[1, 8.4016865e-05, 8.4016865e-05, 0.000114334594, 0.000891291, 0.00013234617155132733, 0.00010999721526037315, 0.0001199328415576757, 0.000390551794612985, 5.351662061604342e-05, 6.386598123979748e-05, 8.58788984246496e-05, 0.00018388043198020276, 0.0020697745302244, 0.000889444836566718, 0.2638903260231018], [2, 6.265665e-05, 0.000114334594, 0.000114334594, 0.0005418272, 9.398496240601504e-05, 0.00015584353838525854, 0.00011993284155767572, 0.00023222520913294107, 4.143462187253443e-05, 8.577915587763589e-05, 9.241726081398196e-05, 0.00012349487016243593, 0.001951413725286344, 0.0009037805069785636, 0.0875459834933281], [3, 0.012192441, 0.01224412, 0.01224412, 0.013166627, 0.012363796487988582, 0.008586424211866363, 0.005380356117645946, 0.002860482861341153, 0.015392269039372528, 0.011347708514632475, 0.00687883532767121, 0.00298491509760821, 0.07192748725123682, 0.012509211212179922, 0.03425334393978119], [4, 0.021884039, 0.022155017, 0.023888309, 0.030598862, 0.022485064082938593, 0.015825804034119893, 0.010946368344677734, 0.006791629176013321, 0.02888112029592906, 0.022189799330330322, 0.013938353141363626, 0.006181598099603325, 0.14048288342581153, 0.0233908867031529, 0.016079092398285866], [5, 0.035313595, 0.03689594, 0.04460393, 0.05987708, 0.03648430374477475, 0.026565143429333925, 0.020454688363116647, 0.013674394527261772, 0.03790084144653738, 0.029984532090436136, 0.019640556776447965, 0.009293996302246404, 0.16690325571606437, 0.031002429439172696, 0.00896468199789524], [6, 0.04552606, 0.060163807, 0.0759388, 0.10377261, 0.04742959476789486, 0.04435664557546601, 0.036499449037326145, 0.025068013379631365, 0.04435161786342978, 0.040414372592100074, 0.02835035588263177, 0.014099337304137032, 0.19610433961008, 0.040596246854685, 0.006402811501175165], [7, 0.04505384, 0.061919995, 0.08535158, 0.13296558, 0.04685116940588034, 0.045459853853643435, 0.040955721563986296, 0.03206007849413344, 0.044097254143789746, 0.040629268884728835, 0.029831262100557972, 0.01600950769905029, 0.19878249817468585, 0.04433198613540528, 0.005035687237977982], [8, 0.04302973, 0.06006305, 0.0861205, 0.13450408, 0.044897222652263445, 0.0444229229232266, 0.04149130796157705, 0.032486319755374714, 0.04316306434732799, 0.040223642770565095, 0.030037039407718003, 0.01614683551741834, 0.19880403722470383, 0.04537726715299089, 0.004491719882935286], [9, 0.043005683, 0.060361024, 0.0864748, 0.13380076, 0.045015886669618775, 0.04470404438117823, 0.04135591344730587, 0.032307265459489136, 0.04303652583271321, 0.040023145981875244, 0.029789363420078235, 0.016023503093458572, 0.19746552954865476, 0.04551373985467269, 0.004231818486005068], [10, 0.04446454, 0.061703257, 0.087271154, 0.13363504, 0.04645720071631844, 0.045478566911558965, 0.041588355130944894, 0.032089332132607895, 0.043859996446023196, 0.04076432597760419, 0.03000943780845185, 0.016028693600564747, 0.20030646363268975, 0.04601126590931668, 0.004136193078011274], [11, 0.044246998, 0.061287165, 0.08812255, 0.13375618, 0.04591637554154486, 0.045369692088547305, 0.042015781667382304, 0.032538173542228176, 0.04348411867079934, 0.040651673612997104, 0.03016692014495121, 0.01621486284398943, 0.19952806424428635, 0.046185973052227866, 0.004109547473490238], [12, 0.04470387, 0.062247556, 0.08605318, 0.13421819, 0.046780068648080805, 0.04576285756889251, 0.041004133668906255, 0.032360522945468595, 0.043868832391707746, 0.040721011332313255, 0.029804810652285255, 0.01609208341775448, 0.19981977624356465, 0.04604468133199999, 0.004096497315913439], [13, 0.043977078, 0.06233449, 0.08661084, 0.13429928, 0.045692403453946276, 0.045799288322928164, 0.042076689445000696, 0.03241410434906193, 0.04354451812236549, 0.040724832167204725, 0.030276835140688133, 0.01608432128787377, 0.19935288613114946, 0.04617857383367633, 0.004082830157130957], [14, 0.04468153, 0.06129364, 0.08752878, 0.13613872, 0.04660332204312588, 0.045127255700448475, 0.041920397701127946, 0.03298730434823908, 0.04386855932337729, 0.040429790924422275, 0.030139432620446206, 0.016242313294590947, 0.19980050766749513, 0.046126670681988176, 0.0040789153426885605], [15, 0.045376636, 0.060326427, 0.08512365, 0.13348871, 0.047294272219954005, 0.044827450261729455, 0.04111953997852622, 0.03207467964775207, 0.04444969604597112, 0.04071241514792288, 0.030103040617519526, 0.016038473455245866, 0.2006804503291688, 0.046264794497076774, 0.004082686733454466], [16, 0.045372806, 0.06294444, 0.08444398, 0.13592853, 0.04724812788907503, 0.04648576273005884, 0.041038122828081905, 0.03278632581608193, 0.044238787578572907, 0.04123012807318255, 0.0301277713247932, 0.01624791783235155, 0.2003354458832491, 0.04609650321711322, 0.004079689737409353], [17, 0.04543305, 0.06002204, 0.08314672, 0.13363312, 0.047670544688371536, 0.044625374789359906, 0.04011145262601982, 0.03224437769575246, 0.04430435115604529, 0.04058583273860465, 0.029635472790359108, 0.01603890729226046, 0.19932684294861805, 0.04587433141288787, 0.0040979026816785336], [18, 0.045146808, 0.06117123, 0.08538845, 0.13243732, 0.046859841665272586, 0.04533028433017395, 0.040951037762931665, 0.03233338405525932, 0.04418275300133273, 0.04085807624462068, 0.029929443448957028, 0.01614235988529259, 0.2006007862319213, 0.0463034645964193, 0.004099781159311533], [19, 0.04477998, 0.06093765, 0.086638644, 0.13508077, 0.04666681735883429, 0.04506933082964279, 0.04170243312323806, 0.03269009362923614, 0.04383900966425251, 0.0405393009208829, 0.030190504388008407, 0.016237533699434, 0.20064868969171337, 0.046220907621626346, 0.004109891597181559], [20, 0.044719797, 0.060777944, 0.08641677, 0.13172172, 0.046748013369804886, 0.0449514155138775, 0.041551163359449195, 0.032022555250208314, 0.044042419920556415, 0.040654348837967993, 0.030142297183996754, 0.016093235078208232, 0.20055398872796903, 0.04614841692104868, 0.004116187337785959]]\n",
      "-----------------------------------------------------------------------------------------\n"
     ]
    },
    {
     "name": "stderr",
     "output_type": "stream",
     "text": [
      "  0%|          | 1/1065 [00:00<08:04,  2.19it/s]"
     ]
    },
    {
     "name": "stdout",
     "output_type": "stream",
     "text": [
      "Epoch 21: 0% , Loss: 0.005753\n"
     ]
    },
    {
     "name": "stderr",
     "output_type": "stream",
     "text": [
      "  9%|▉         | 101/1065 [00:56<10:29,  1.53it/s]"
     ]
    },
    {
     "name": "stdout",
     "output_type": "stream",
     "text": [
      "Epoch 21: 9% , Loss: 0.004089\n"
     ]
    },
    {
     "name": "stderr",
     "output_type": "stream",
     "text": [
      " 19%|█▉        | 201/1065 [01:52<07:05,  2.03it/s]"
     ]
    },
    {
     "name": "stdout",
     "output_type": "stream",
     "text": [
      "Epoch 21: 19% , Loss: 0.003267\n"
     ]
    },
    {
     "name": "stderr",
     "output_type": "stream",
     "text": [
      " 28%|██▊       | 301/1065 [02:50<06:18,  2.02it/s]"
     ]
    },
    {
     "name": "stdout",
     "output_type": "stream",
     "text": [
      "Epoch 21: 28% , Loss: 0.003677\n"
     ]
    },
    {
     "name": "stderr",
     "output_type": "stream",
     "text": [
      " 38%|███▊      | 401/1065 [03:48<06:59,  1.58it/s]"
     ]
    },
    {
     "name": "stdout",
     "output_type": "stream",
     "text": [
      "Epoch 21: 38% , Loss: 0.003689\n"
     ]
    },
    {
     "name": "stderr",
     "output_type": "stream",
     "text": [
      " 47%|████▋     | 501/1065 [04:45<05:03,  1.86it/s]"
     ]
    },
    {
     "name": "stdout",
     "output_type": "stream",
     "text": [
      "Epoch 21: 47% , Loss: 0.002630\n"
     ]
    },
    {
     "name": "stderr",
     "output_type": "stream",
     "text": [
      " 56%|█████▋    | 601/1065 [05:46<05:42,  1.35it/s]"
     ]
    },
    {
     "name": "stdout",
     "output_type": "stream",
     "text": [
      "Epoch 21: 56% , Loss: 0.003910\n"
     ]
    },
    {
     "name": "stderr",
     "output_type": "stream",
     "text": [
      " 66%|██████▌   | 701/1065 [06:51<03:45,  1.61it/s]"
     ]
    },
    {
     "name": "stdout",
     "output_type": "stream",
     "text": [
      "Epoch 21: 66% , Loss: 0.003508\n"
     ]
    },
    {
     "name": "stderr",
     "output_type": "stream",
     "text": [
      " 75%|███████▌  | 801/1065 [07:56<02:52,  1.53it/s]"
     ]
    },
    {
     "name": "stdout",
     "output_type": "stream",
     "text": [
      "Epoch 21: 75% , Loss: 0.003696\n"
     ]
    },
    {
     "name": "stderr",
     "output_type": "stream",
     "text": [
      " 85%|████████▍ | 901/1065 [08:59<01:40,  1.63it/s]"
     ]
    },
    {
     "name": "stdout",
     "output_type": "stream",
     "text": [
      "Epoch 21: 85% , Loss: 0.004333\n"
     ]
    },
    {
     "name": "stderr",
     "output_type": "stream",
     "text": [
      " 94%|█████████▍| 1001/1065 [10:04<00:41,  1.53it/s]"
     ]
    },
    {
     "name": "stdout",
     "output_type": "stream",
     "text": [
      "Epoch 21: 94% , Loss: 0.003122\n"
     ]
    },
    {
     "name": "stderr",
     "output_type": "stream",
     "text": [
      "100%|██████████| 1065/1065 [10:41<00:00,  1.66it/s]"
     ]
    },
    {
     "name": "stdout",
     "output_type": "stream",
     "text": [
      "Epoch 21: 100% , Loss: 0.003487\n"
     ]
    },
    {
     "name": "stderr",
     "output_type": "stream",
     "text": [
      "\n"
     ]
    },
    {
     "name": "stdout",
     "output_type": "stream",
     "text": [
      "                      (HR@5: 0.0423, HR@10: 0.0602, HR@20: 0.0835, HR@50: 0.1372)\n",
      "\n",
      "                      (F1-score@5: 0.0437, F1-score@10: 0.0438, F1-score@20: 0.0395, F1-score@50: 0.0328)\n",
      "\n",
      "                      (NDCG@5: 0.0419, NDCG@10: 0.0385, NDCG@20: 0.0278, NDCG@50: 0.0155)\n",
      "\n",
      "MRR: 0.18636820864185885\n",
      "MAP: 0.04613988834992974\n",
      "train_loss= tensor(0.0040)\n",
      "--------------------\n"
     ]
    },
    {
     "name": "stderr",
     "output_type": "stream",
     "text": [
      "100%|██████████| 133/133 [00:57<00:00,  2.32it/s]\n"
     ]
    },
    {
     "name": "stdout",
     "output_type": "stream",
     "text": [
      "                      (HR@5: 0.0413, HR@10: 0.0569, HR@20: 0.0807, HR@50: 0.1309)\n",
      "\n",
      "                      (F1-score@5: 0.0430, F1-score@10: 0.0420, F1-score@20: 0.0388, F1-score@50: 0.0320)\n",
      "\n",
      "                      (NDCG@5: 0.0386, NDCG@10: 0.0371, NDCG@20: 0.0281, NDCG@50: 0.0152)\n",
      "\n",
      "MRR: 0.17738023841296952\n",
      "MAP: 0.04272460899221417\n",
      "val_loss= tensor(0.0041)\n",
      "--------------------\n"
     ]
    },
    {
     "name": "stderr",
     "output_type": "stream",
     "text": [
      "100%|██████████| 133/133 [00:58<00:00,  2.28it/s]\n"
     ]
    },
    {
     "name": "stdout",
     "output_type": "stream",
     "text": [
      "                      (HR@5: 0.0442, HR@10: 0.0598, HR@20: 0.0869, HR@50: 0.1348)\n",
      "\n",
      "                      (F1-score@5: 0.0460, F1-score@10: 0.0446, F1-score@20: 0.0416, F1-score@50: 0.0327)\n",
      "\n",
      "                      (NDCG@5: 0.0437, NDCG@10: 0.0405, NDCG@20: 0.0302, NDCG@50: 0.0162)\n",
      "\n",
      "MRR: 0.2000309675274805\n",
      "MAP: 0.04612960313127055\n",
      "--------------------\n",
      "[[1, 8.4016865e-05, 8.4016865e-05, 0.000114334594, 0.000891291, 0.00013234617155132733, 0.00010999721526037315, 0.0001199328415576757, 0.000390551794612985, 5.351662061604342e-05, 6.386598123979748e-05, 8.58788984246496e-05, 0.00018388043198020276, 0.0020697745302244, 0.000889444836566718, 0.2638903260231018], [2, 6.265665e-05, 0.000114334594, 0.000114334594, 0.0005418272, 9.398496240601504e-05, 0.00015584353838525854, 0.00011993284155767572, 0.00023222520913294107, 4.143462187253443e-05, 8.577915587763589e-05, 9.241726081398196e-05, 0.00012349487016243593, 0.001951413725286344, 0.0009037805069785636, 0.0875459834933281], [3, 0.012192441, 0.01224412, 0.01224412, 0.013166627, 0.012363796487988582, 0.008586424211866363, 0.005380356117645946, 0.002860482861341153, 0.015392269039372528, 0.011347708514632475, 0.00687883532767121, 0.00298491509760821, 0.07192748725123682, 0.012509211212179922, 0.03425334393978119], [4, 0.021884039, 0.022155017, 0.023888309, 0.030598862, 0.022485064082938593, 0.015825804034119893, 0.010946368344677734, 0.006791629176013321, 0.02888112029592906, 0.022189799330330322, 0.013938353141363626, 0.006181598099603325, 0.14048288342581153, 0.0233908867031529, 0.016079092398285866], [5, 0.035313595, 0.03689594, 0.04460393, 0.05987708, 0.03648430374477475, 0.026565143429333925, 0.020454688363116647, 0.013674394527261772, 0.03790084144653738, 0.029984532090436136, 0.019640556776447965, 0.009293996302246404, 0.16690325571606437, 0.031002429439172696, 0.00896468199789524], [6, 0.04552606, 0.060163807, 0.0759388, 0.10377261, 0.04742959476789486, 0.04435664557546601, 0.036499449037326145, 0.025068013379631365, 0.04435161786342978, 0.040414372592100074, 0.02835035588263177, 0.014099337304137032, 0.19610433961008, 0.040596246854685, 0.006402811501175165], [7, 0.04505384, 0.061919995, 0.08535158, 0.13296558, 0.04685116940588034, 0.045459853853643435, 0.040955721563986296, 0.03206007849413344, 0.044097254143789746, 0.040629268884728835, 0.029831262100557972, 0.01600950769905029, 0.19878249817468585, 0.04433198613540528, 0.005035687237977982], [8, 0.04302973, 0.06006305, 0.0861205, 0.13450408, 0.044897222652263445, 0.0444229229232266, 0.04149130796157705, 0.032486319755374714, 0.04316306434732799, 0.040223642770565095, 0.030037039407718003, 0.01614683551741834, 0.19880403722470383, 0.04537726715299089, 0.004491719882935286], [9, 0.043005683, 0.060361024, 0.0864748, 0.13380076, 0.045015886669618775, 0.04470404438117823, 0.04135591344730587, 0.032307265459489136, 0.04303652583271321, 0.040023145981875244, 0.029789363420078235, 0.016023503093458572, 0.19746552954865476, 0.04551373985467269, 0.004231818486005068], [10, 0.04446454, 0.061703257, 0.087271154, 0.13363504, 0.04645720071631844, 0.045478566911558965, 0.041588355130944894, 0.032089332132607895, 0.043859996446023196, 0.04076432597760419, 0.03000943780845185, 0.016028693600564747, 0.20030646363268975, 0.04601126590931668, 0.004136193078011274], [11, 0.044246998, 0.061287165, 0.08812255, 0.13375618, 0.04591637554154486, 0.045369692088547305, 0.042015781667382304, 0.032538173542228176, 0.04348411867079934, 0.040651673612997104, 0.03016692014495121, 0.01621486284398943, 0.19952806424428635, 0.046185973052227866, 0.004109547473490238], [12, 0.04470387, 0.062247556, 0.08605318, 0.13421819, 0.046780068648080805, 0.04576285756889251, 0.041004133668906255, 0.032360522945468595, 0.043868832391707746, 0.040721011332313255, 0.029804810652285255, 0.01609208341775448, 0.19981977624356465, 0.04604468133199999, 0.004096497315913439], [13, 0.043977078, 0.06233449, 0.08661084, 0.13429928, 0.045692403453946276, 0.045799288322928164, 0.042076689445000696, 0.03241410434906193, 0.04354451812236549, 0.040724832167204725, 0.030276835140688133, 0.01608432128787377, 0.19935288613114946, 0.04617857383367633, 0.004082830157130957], [14, 0.04468153, 0.06129364, 0.08752878, 0.13613872, 0.04660332204312588, 0.045127255700448475, 0.041920397701127946, 0.03298730434823908, 0.04386855932337729, 0.040429790924422275, 0.030139432620446206, 0.016242313294590947, 0.19980050766749513, 0.046126670681988176, 0.0040789153426885605], [15, 0.045376636, 0.060326427, 0.08512365, 0.13348871, 0.047294272219954005, 0.044827450261729455, 0.04111953997852622, 0.03207467964775207, 0.04444969604597112, 0.04071241514792288, 0.030103040617519526, 0.016038473455245866, 0.2006804503291688, 0.046264794497076774, 0.004082686733454466], [16, 0.045372806, 0.06294444, 0.08444398, 0.13592853, 0.04724812788907503, 0.04648576273005884, 0.041038122828081905, 0.03278632581608193, 0.044238787578572907, 0.04123012807318255, 0.0301277713247932, 0.01624791783235155, 0.2003354458832491, 0.04609650321711322, 0.004079689737409353], [17, 0.04543305, 0.06002204, 0.08314672, 0.13363312, 0.047670544688371536, 0.044625374789359906, 0.04011145262601982, 0.03224437769575246, 0.04430435115604529, 0.04058583273860465, 0.029635472790359108, 0.01603890729226046, 0.19932684294861805, 0.04587433141288787, 0.0040979026816785336], [18, 0.045146808, 0.06117123, 0.08538845, 0.13243732, 0.046859841665272586, 0.04533028433017395, 0.040951037762931665, 0.03233338405525932, 0.04418275300133273, 0.04085807624462068, 0.029929443448957028, 0.01614235988529259, 0.2006007862319213, 0.0463034645964193, 0.004099781159311533], [19, 0.04477998, 0.06093765, 0.086638644, 0.13508077, 0.04666681735883429, 0.04506933082964279, 0.04170243312323806, 0.03269009362923614, 0.04383900966425251, 0.0405393009208829, 0.030190504388008407, 0.016237533699434, 0.20064868969171337, 0.046220907621626346, 0.004109891597181559], [20, 0.044719797, 0.060777944, 0.08641677, 0.13172172, 0.046748013369804886, 0.0449514155138775, 0.041551163359449195, 0.032022555250208314, 0.044042419920556415, 0.040654348837967993, 0.030142297183996754, 0.016093235078208232, 0.20055398872796903, 0.04614841692104868, 0.004116187337785959], [21, 0.04415115, 0.05980905, 0.08691868, 0.13483198, 0.046006500819646086, 0.04464911933222113, 0.041644091270955405, 0.03271262572918474, 0.043676501407841205, 0.04051445299213318, 0.03019569517652455, 0.016249681650958536, 0.2000309675274805, 0.04612960313127055, 0.004117392003536224]]\n",
      "-----------------------------------------------------------------------------------------\n"
     ]
    },
    {
     "name": "stderr",
     "output_type": "stream",
     "text": [
      "  0%|          | 1/1065 [00:00<07:24,  2.39it/s]"
     ]
    },
    {
     "name": "stdout",
     "output_type": "stream",
     "text": [
      "Epoch 22: 0% , Loss: 0.003889\n"
     ]
    },
    {
     "name": "stderr",
     "output_type": "stream",
     "text": [
      "  9%|▉         | 101/1065 [00:54<09:25,  1.71it/s]"
     ]
    },
    {
     "name": "stdout",
     "output_type": "stream",
     "text": [
      "Epoch 22: 9% , Loss: 0.004784\n"
     ]
    },
    {
     "name": "stderr",
     "output_type": "stream",
     "text": [
      " 19%|█▉        | 201/1065 [01:51<07:11,  2.00it/s]"
     ]
    },
    {
     "name": "stdout",
     "output_type": "stream",
     "text": [
      "Epoch 22: 19% , Loss: 0.003035\n"
     ]
    },
    {
     "name": "stderr",
     "output_type": "stream",
     "text": [
      " 28%|██▊       | 301/1065 [02:51<07:04,  1.80it/s]"
     ]
    },
    {
     "name": "stdout",
     "output_type": "stream",
     "text": [
      "Epoch 22: 28% , Loss: 0.003099\n"
     ]
    },
    {
     "name": "stderr",
     "output_type": "stream",
     "text": [
      " 38%|███▊      | 401/1065 [03:49<06:42,  1.65it/s]"
     ]
    },
    {
     "name": "stdout",
     "output_type": "stream",
     "text": [
      "Epoch 22: 38% , Loss: 0.003273\n"
     ]
    },
    {
     "name": "stderr",
     "output_type": "stream",
     "text": [
      " 47%|████▋     | 501/1065 [04:50<05:53,  1.60it/s]"
     ]
    },
    {
     "name": "stdout",
     "output_type": "stream",
     "text": [
      "Epoch 22: 47% , Loss: 0.003922\n"
     ]
    },
    {
     "name": "stderr",
     "output_type": "stream",
     "text": [
      " 56%|█████▋    | 601/1065 [05:52<04:48,  1.61it/s]"
     ]
    },
    {
     "name": "stdout",
     "output_type": "stream",
     "text": [
      "Epoch 22: 56% , Loss: 0.003078\n"
     ]
    },
    {
     "name": "stderr",
     "output_type": "stream",
     "text": [
      " 66%|██████▌   | 701/1065 [06:53<03:41,  1.64it/s]"
     ]
    },
    {
     "name": "stdout",
     "output_type": "stream",
     "text": [
      "Epoch 22: 66% , Loss: 0.003941\n"
     ]
    },
    {
     "name": "stderr",
     "output_type": "stream",
     "text": [
      " 75%|███████▌  | 801/1065 [07:55<03:05,  1.42it/s]"
     ]
    },
    {
     "name": "stdout",
     "output_type": "stream",
     "text": [
      "Epoch 22: 75% , Loss: 0.005577\n"
     ]
    },
    {
     "name": "stderr",
     "output_type": "stream",
     "text": [
      " 85%|████████▍ | 901/1065 [08:48<01:32,  1.77it/s]"
     ]
    },
    {
     "name": "stdout",
     "output_type": "stream",
     "text": [
      "Epoch 22: 85% , Loss: 0.003700\n"
     ]
    },
    {
     "name": "stderr",
     "output_type": "stream",
     "text": [
      " 94%|█████████▍| 1001/1065 [09:43<00:35,  1.81it/s]"
     ]
    },
    {
     "name": "stdout",
     "output_type": "stream",
     "text": [
      "Epoch 22: 94% , Loss: 0.004395\n"
     ]
    },
    {
     "name": "stderr",
     "output_type": "stream",
     "text": [
      "100%|██████████| 1065/1065 [10:20<00:00,  1.72it/s]"
     ]
    },
    {
     "name": "stdout",
     "output_type": "stream",
     "text": [
      "Epoch 22: 100% , Loss: 0.004013\n"
     ]
    },
    {
     "name": "stderr",
     "output_type": "stream",
     "text": [
      "\n"
     ]
    },
    {
     "name": "stdout",
     "output_type": "stream",
     "text": [
      "                      (HR@5: 0.0417, HR@10: 0.0600, HR@20: 0.0855, HR@50: 0.1365)\n",
      "\n",
      "                      (F1-score@5: 0.0431, F1-score@10: 0.0436, F1-score@20: 0.0403, F1-score@50: 0.0328)\n",
      "\n",
      "                      (NDCG@5: 0.0416, NDCG@10: 0.0384, NDCG@20: 0.0281, NDCG@50: 0.0155)\n",
      "\n",
      "MRR: 0.18631073018691482\n",
      "MAP: 0.046166746609881834\n",
      "train_loss= tensor(0.0040)\n",
      "--------------------\n"
     ]
    },
    {
     "name": "stderr",
     "output_type": "stream",
     "text": [
      "100%|██████████| 133/133 [00:57<00:00,  2.33it/s]\n"
     ]
    },
    {
     "name": "stdout",
     "output_type": "stream",
     "text": [
      "                      (HR@5: 0.0407, HR@10: 0.0578, HR@20: 0.0788, HR@50: 0.1294)\n",
      "\n",
      "                      (F1-score@5: 0.0423, F1-score@10: 0.0425, F1-score@20: 0.0379, F1-score@50: 0.0317)\n",
      "\n",
      "                      (NDCG@5: 0.0382, NDCG@10: 0.0370, NDCG@20: 0.0276, NDCG@50: 0.0151)\n",
      "\n",
      "MRR: 0.17599494170898963\n",
      "MAP: 0.04245876266539547\n",
      "val_loss= tensor(0.0041)\n",
      "--------------------\n"
     ]
    },
    {
     "name": "stderr",
     "output_type": "stream",
     "text": [
      "100%|██████████| 133/133 [00:57<00:00,  2.31it/s]\n"
     ]
    },
    {
     "name": "stdout",
     "output_type": "stream",
     "text": [
      "                      (HR@5: 0.0441, HR@10: 0.0601, HR@20: 0.0861, HR@50: 0.1340)\n",
      "\n",
      "                      (F1-score@5: 0.0458, F1-score@10: 0.0445, F1-score@20: 0.0416, F1-score@50: 0.0323)\n",
      "\n",
      "                      (NDCG@5: 0.0432, NDCG@10: 0.0401, NDCG@20: 0.0301, NDCG@50: 0.0161)\n",
      "\n",
      "MRR: 0.19889170651401494\n",
      "MAP: 0.04574925081339144\n",
      "--------------------\n",
      "[[1, 8.4016865e-05, 8.4016865e-05, 0.000114334594, 0.000891291, 0.00013234617155132733, 0.00010999721526037315, 0.0001199328415576757, 0.000390551794612985, 5.351662061604342e-05, 6.386598123979748e-05, 8.58788984246496e-05, 0.00018388043198020276, 0.0020697745302244, 0.000889444836566718, 0.2638903260231018], [2, 6.265665e-05, 0.000114334594, 0.000114334594, 0.0005418272, 9.398496240601504e-05, 0.00015584353838525854, 0.00011993284155767572, 0.00023222520913294107, 4.143462187253443e-05, 8.577915587763589e-05, 9.241726081398196e-05, 0.00012349487016243593, 0.001951413725286344, 0.0009037805069785636, 0.0875459834933281], [3, 0.012192441, 0.01224412, 0.01224412, 0.013166627, 0.012363796487988582, 0.008586424211866363, 0.005380356117645946, 0.002860482861341153, 0.015392269039372528, 0.011347708514632475, 0.00687883532767121, 0.00298491509760821, 0.07192748725123682, 0.012509211212179922, 0.03425334393978119], [4, 0.021884039, 0.022155017, 0.023888309, 0.030598862, 0.022485064082938593, 0.015825804034119893, 0.010946368344677734, 0.006791629176013321, 0.02888112029592906, 0.022189799330330322, 0.013938353141363626, 0.006181598099603325, 0.14048288342581153, 0.0233908867031529, 0.016079092398285866], [5, 0.035313595, 0.03689594, 0.04460393, 0.05987708, 0.03648430374477475, 0.026565143429333925, 0.020454688363116647, 0.013674394527261772, 0.03790084144653738, 0.029984532090436136, 0.019640556776447965, 0.009293996302246404, 0.16690325571606437, 0.031002429439172696, 0.00896468199789524], [6, 0.04552606, 0.060163807, 0.0759388, 0.10377261, 0.04742959476789486, 0.04435664557546601, 0.036499449037326145, 0.025068013379631365, 0.04435161786342978, 0.040414372592100074, 0.02835035588263177, 0.014099337304137032, 0.19610433961008, 0.040596246854685, 0.006402811501175165], [7, 0.04505384, 0.061919995, 0.08535158, 0.13296558, 0.04685116940588034, 0.045459853853643435, 0.040955721563986296, 0.03206007849413344, 0.044097254143789746, 0.040629268884728835, 0.029831262100557972, 0.01600950769905029, 0.19878249817468585, 0.04433198613540528, 0.005035687237977982], [8, 0.04302973, 0.06006305, 0.0861205, 0.13450408, 0.044897222652263445, 0.0444229229232266, 0.04149130796157705, 0.032486319755374714, 0.04316306434732799, 0.040223642770565095, 0.030037039407718003, 0.01614683551741834, 0.19880403722470383, 0.04537726715299089, 0.004491719882935286], [9, 0.043005683, 0.060361024, 0.0864748, 0.13380076, 0.045015886669618775, 0.04470404438117823, 0.04135591344730587, 0.032307265459489136, 0.04303652583271321, 0.040023145981875244, 0.029789363420078235, 0.016023503093458572, 0.19746552954865476, 0.04551373985467269, 0.004231818486005068], [10, 0.04446454, 0.061703257, 0.087271154, 0.13363504, 0.04645720071631844, 0.045478566911558965, 0.041588355130944894, 0.032089332132607895, 0.043859996446023196, 0.04076432597760419, 0.03000943780845185, 0.016028693600564747, 0.20030646363268975, 0.04601126590931668, 0.004136193078011274], [11, 0.044246998, 0.061287165, 0.08812255, 0.13375618, 0.04591637554154486, 0.045369692088547305, 0.042015781667382304, 0.032538173542228176, 0.04348411867079934, 0.040651673612997104, 0.03016692014495121, 0.01621486284398943, 0.19952806424428635, 0.046185973052227866, 0.004109547473490238], [12, 0.04470387, 0.062247556, 0.08605318, 0.13421819, 0.046780068648080805, 0.04576285756889251, 0.041004133668906255, 0.032360522945468595, 0.043868832391707746, 0.040721011332313255, 0.029804810652285255, 0.01609208341775448, 0.19981977624356465, 0.04604468133199999, 0.004096497315913439], [13, 0.043977078, 0.06233449, 0.08661084, 0.13429928, 0.045692403453946276, 0.045799288322928164, 0.042076689445000696, 0.03241410434906193, 0.04354451812236549, 0.040724832167204725, 0.030276835140688133, 0.01608432128787377, 0.19935288613114946, 0.04617857383367633, 0.004082830157130957], [14, 0.04468153, 0.06129364, 0.08752878, 0.13613872, 0.04660332204312588, 0.045127255700448475, 0.041920397701127946, 0.03298730434823908, 0.04386855932337729, 0.040429790924422275, 0.030139432620446206, 0.016242313294590947, 0.19980050766749513, 0.046126670681988176, 0.0040789153426885605], [15, 0.045376636, 0.060326427, 0.08512365, 0.13348871, 0.047294272219954005, 0.044827450261729455, 0.04111953997852622, 0.03207467964775207, 0.04444969604597112, 0.04071241514792288, 0.030103040617519526, 0.016038473455245866, 0.2006804503291688, 0.046264794497076774, 0.004082686733454466], [16, 0.045372806, 0.06294444, 0.08444398, 0.13592853, 0.04724812788907503, 0.04648576273005884, 0.041038122828081905, 0.03278632581608193, 0.044238787578572907, 0.04123012807318255, 0.0301277713247932, 0.01624791783235155, 0.2003354458832491, 0.04609650321711322, 0.004079689737409353], [17, 0.04543305, 0.06002204, 0.08314672, 0.13363312, 0.047670544688371536, 0.044625374789359906, 0.04011145262601982, 0.03224437769575246, 0.04430435115604529, 0.04058583273860465, 0.029635472790359108, 0.01603890729226046, 0.19932684294861805, 0.04587433141288787, 0.0040979026816785336], [18, 0.045146808, 0.06117123, 0.08538845, 0.13243732, 0.046859841665272586, 0.04533028433017395, 0.040951037762931665, 0.03233338405525932, 0.04418275300133273, 0.04085807624462068, 0.029929443448957028, 0.01614235988529259, 0.2006007862319213, 0.0463034645964193, 0.004099781159311533], [19, 0.04477998, 0.06093765, 0.086638644, 0.13508077, 0.04666681735883429, 0.04506933082964279, 0.04170243312323806, 0.03269009362923614, 0.04383900966425251, 0.0405393009208829, 0.030190504388008407, 0.016237533699434, 0.20064868969171337, 0.046220907621626346, 0.004109891597181559], [20, 0.044719797, 0.060777944, 0.08641677, 0.13172172, 0.046748013369804886, 0.0449514155138775, 0.041551163359449195, 0.032022555250208314, 0.044042419920556415, 0.040654348837967993, 0.030142297183996754, 0.016093235078208232, 0.20055398872796903, 0.04614841692104868, 0.004116187337785959], [21, 0.04415115, 0.05980905, 0.08691868, 0.13483198, 0.046006500819646086, 0.04464911933222113, 0.041644091270955405, 0.03271262572918474, 0.043676501407841205, 0.04051445299213318, 0.03019569517652455, 0.016249681650958536, 0.2000309675274805, 0.04612960313127055, 0.004117392003536224], [22, 0.044070784, 0.060050353, 0.08613165, 0.13397406, 0.045770902963889436, 0.0445454432346535, 0.04156060993036812, 0.0323476906105162, 0.04324224896911055, 0.04013905478676403, 0.030084129232962272, 0.01610000256520759, 0.19889170651401494, 0.04574925081339144, 0.004126297775655985]]\n",
      "-----------------------------------------------------------------------------------------\n"
     ]
    },
    {
     "name": "stderr",
     "output_type": "stream",
     "text": [
      "  0%|          | 1/1065 [00:00<08:59,  1.97it/s]"
     ]
    },
    {
     "name": "stdout",
     "output_type": "stream",
     "text": [
      "Epoch 23: 0% , Loss: 0.004570\n"
     ]
    },
    {
     "name": "stderr",
     "output_type": "stream",
     "text": [
      "  9%|▉         | 101/1065 [00:55<08:10,  1.97it/s]"
     ]
    },
    {
     "name": "stdout",
     "output_type": "stream",
     "text": [
      "Epoch 23: 9% , Loss: 0.004684\n"
     ]
    },
    {
     "name": "stderr",
     "output_type": "stream",
     "text": [
      " 19%|█▉        | 201/1065 [01:52<07:44,  1.86it/s]"
     ]
    },
    {
     "name": "stdout",
     "output_type": "stream",
     "text": [
      "Epoch 23: 19% , Loss: 0.004375\n"
     ]
    },
    {
     "name": "stderr",
     "output_type": "stream",
     "text": [
      " 28%|██▊       | 301/1065 [02:48<07:05,  1.80it/s]"
     ]
    },
    {
     "name": "stdout",
     "output_type": "stream",
     "text": [
      "Epoch 23: 28% , Loss: 0.004280\n"
     ]
    },
    {
     "name": "stderr",
     "output_type": "stream",
     "text": [
      " 38%|███▊      | 401/1065 [03:49<06:53,  1.60it/s]"
     ]
    },
    {
     "name": "stdout",
     "output_type": "stream",
     "text": [
      "Epoch 23: 38% , Loss: 0.004196\n"
     ]
    },
    {
     "name": "stderr",
     "output_type": "stream",
     "text": [
      " 47%|████▋     | 501/1065 [04:46<05:06,  1.84it/s]"
     ]
    },
    {
     "name": "stdout",
     "output_type": "stream",
     "text": [
      "Epoch 23: 47% , Loss: 0.004032\n"
     ]
    },
    {
     "name": "stderr",
     "output_type": "stream",
     "text": [
      " 56%|█████▋    | 601/1065 [05:49<05:35,  1.38it/s]"
     ]
    },
    {
     "name": "stdout",
     "output_type": "stream",
     "text": [
      "Epoch 23: 56% , Loss: 0.003263\n"
     ]
    },
    {
     "name": "stderr",
     "output_type": "stream",
     "text": [
      " 66%|██████▌   | 701/1065 [06:41<03:06,  1.95it/s]"
     ]
    },
    {
     "name": "stdout",
     "output_type": "stream",
     "text": [
      "Epoch 23: 66% , Loss: 0.004375\n"
     ]
    },
    {
     "name": "stderr",
     "output_type": "stream",
     "text": [
      " 75%|███████▌  | 801/1065 [07:35<02:32,  1.74it/s]"
     ]
    },
    {
     "name": "stdout",
     "output_type": "stream",
     "text": [
      "Epoch 23: 75% , Loss: 0.003597\n"
     ]
    },
    {
     "name": "stderr",
     "output_type": "stream",
     "text": [
      " 85%|████████▍ | 901/1065 [08:32<01:10,  2.32it/s]"
     ]
    },
    {
     "name": "stdout",
     "output_type": "stream",
     "text": [
      "Epoch 23: 85% , Loss: 0.004456\n"
     ]
    },
    {
     "name": "stderr",
     "output_type": "stream",
     "text": [
      " 94%|█████████▍| 1001/1065 [09:40<00:38,  1.67it/s]"
     ]
    },
    {
     "name": "stdout",
     "output_type": "stream",
     "text": [
      "Epoch 23: 94% , Loss: 0.003498\n"
     ]
    },
    {
     "name": "stderr",
     "output_type": "stream",
     "text": [
      "100%|██████████| 1065/1065 [10:22<00:00,  1.71it/s]"
     ]
    },
    {
     "name": "stdout",
     "output_type": "stream",
     "text": [
      "Epoch 23: 100% , Loss: 0.003723\n"
     ]
    },
    {
     "name": "stderr",
     "output_type": "stream",
     "text": [
      "\n"
     ]
    },
    {
     "name": "stdout",
     "output_type": "stream",
     "text": [
      "                      (HR@5: 0.0428, HR@10: 0.0599, HR@20: 0.0844, HR@50: 0.1363)\n",
      "\n",
      "                      (F1-score@5: 0.0442, F1-score@10: 0.0437, F1-score@20: 0.0401, F1-score@50: 0.0329)\n",
      "\n",
      "                      (NDCG@5: 0.0421, NDCG@10: 0.0385, NDCG@20: 0.0281, NDCG@50: 0.0155)\n",
      "\n",
      "MRR: 0.18673540782418035\n",
      "MAP: 0.04612214694381374\n",
      "train_loss= tensor(0.0040)\n",
      "--------------------\n"
     ]
    },
    {
     "name": "stderr",
     "output_type": "stream",
     "text": [
      "100%|██████████| 133/133 [00:55<00:00,  2.38it/s]\n"
     ]
    },
    {
     "name": "stdout",
     "output_type": "stream",
     "text": [
      "                      (HR@5: 0.0413, HR@10: 0.0581, HR@20: 0.0791, HR@50: 0.1298)\n",
      "\n",
      "                      (F1-score@5: 0.0431, F1-score@10: 0.0429, F1-score@20: 0.0382, F1-score@50: 0.0319)\n",
      "\n",
      "                      (NDCG@5: 0.0388, NDCG@10: 0.0375, NDCG@20: 0.0280, NDCG@50: 0.0153)\n",
      "\n",
      "MRR: 0.17788633784587154\n",
      "MAP: 0.04291524401802424\n",
      "val_loss= tensor(0.0041)\n",
      "--------------------\n"
     ]
    },
    {
     "name": "stderr",
     "output_type": "stream",
     "text": [
      "100%|██████████| 133/133 [00:56<00:00,  2.36it/s]\n"
     ]
    },
    {
     "name": "stdout",
     "output_type": "stream",
     "text": [
      "                      (HR@5: 0.0438, HR@10: 0.0615, HR@20: 0.0842, HR@50: 0.1359)\n",
      "\n",
      "                      (F1-score@5: 0.0456, F1-score@10: 0.0455, F1-score@20: 0.0410, F1-score@50: 0.0331)\n",
      "\n",
      "                      (NDCG@5: 0.0434, NDCG@10: 0.0407, NDCG@20: 0.0299, NDCG@50: 0.0163)\n",
      "\n",
      "MRR: 0.19954462376235205\n",
      "MAP: 0.04614030225849117\n",
      "--------------------\n",
      "[[1, 8.4016865e-05, 8.4016865e-05, 0.000114334594, 0.000891291, 0.00013234617155132733, 0.00010999721526037315, 0.0001199328415576757, 0.000390551794612985, 5.351662061604342e-05, 6.386598123979748e-05, 8.58788984246496e-05, 0.00018388043198020276, 0.0020697745302244, 0.000889444836566718, 0.2638903260231018], [2, 6.265665e-05, 0.000114334594, 0.000114334594, 0.0005418272, 9.398496240601504e-05, 0.00015584353838525854, 0.00011993284155767572, 0.00023222520913294107, 4.143462187253443e-05, 8.577915587763589e-05, 9.241726081398196e-05, 0.00012349487016243593, 0.001951413725286344, 0.0009037805069785636, 0.0875459834933281], [3, 0.012192441, 0.01224412, 0.01224412, 0.013166627, 0.012363796487988582, 0.008586424211866363, 0.005380356117645946, 0.002860482861341153, 0.015392269039372528, 0.011347708514632475, 0.00687883532767121, 0.00298491509760821, 0.07192748725123682, 0.012509211212179922, 0.03425334393978119], [4, 0.021884039, 0.022155017, 0.023888309, 0.030598862, 0.022485064082938593, 0.015825804034119893, 0.010946368344677734, 0.006791629176013321, 0.02888112029592906, 0.022189799330330322, 0.013938353141363626, 0.006181598099603325, 0.14048288342581153, 0.0233908867031529, 0.016079092398285866], [5, 0.035313595, 0.03689594, 0.04460393, 0.05987708, 0.03648430374477475, 0.026565143429333925, 0.020454688363116647, 0.013674394527261772, 0.03790084144653738, 0.029984532090436136, 0.019640556776447965, 0.009293996302246404, 0.16690325571606437, 0.031002429439172696, 0.00896468199789524], [6, 0.04552606, 0.060163807, 0.0759388, 0.10377261, 0.04742959476789486, 0.04435664557546601, 0.036499449037326145, 0.025068013379631365, 0.04435161786342978, 0.040414372592100074, 0.02835035588263177, 0.014099337304137032, 0.19610433961008, 0.040596246854685, 0.006402811501175165], [7, 0.04505384, 0.061919995, 0.08535158, 0.13296558, 0.04685116940588034, 0.045459853853643435, 0.040955721563986296, 0.03206007849413344, 0.044097254143789746, 0.040629268884728835, 0.029831262100557972, 0.01600950769905029, 0.19878249817468585, 0.04433198613540528, 0.005035687237977982], [8, 0.04302973, 0.06006305, 0.0861205, 0.13450408, 0.044897222652263445, 0.0444229229232266, 0.04149130796157705, 0.032486319755374714, 0.04316306434732799, 0.040223642770565095, 0.030037039407718003, 0.01614683551741834, 0.19880403722470383, 0.04537726715299089, 0.004491719882935286], [9, 0.043005683, 0.060361024, 0.0864748, 0.13380076, 0.045015886669618775, 0.04470404438117823, 0.04135591344730587, 0.032307265459489136, 0.04303652583271321, 0.040023145981875244, 0.029789363420078235, 0.016023503093458572, 0.19746552954865476, 0.04551373985467269, 0.004231818486005068], [10, 0.04446454, 0.061703257, 0.087271154, 0.13363504, 0.04645720071631844, 0.045478566911558965, 0.041588355130944894, 0.032089332132607895, 0.043859996446023196, 0.04076432597760419, 0.03000943780845185, 0.016028693600564747, 0.20030646363268975, 0.04601126590931668, 0.004136193078011274], [11, 0.044246998, 0.061287165, 0.08812255, 0.13375618, 0.04591637554154486, 0.045369692088547305, 0.042015781667382304, 0.032538173542228176, 0.04348411867079934, 0.040651673612997104, 0.03016692014495121, 0.01621486284398943, 0.19952806424428635, 0.046185973052227866, 0.004109547473490238], [12, 0.04470387, 0.062247556, 0.08605318, 0.13421819, 0.046780068648080805, 0.04576285756889251, 0.041004133668906255, 0.032360522945468595, 0.043868832391707746, 0.040721011332313255, 0.029804810652285255, 0.01609208341775448, 0.19981977624356465, 0.04604468133199999, 0.004096497315913439], [13, 0.043977078, 0.06233449, 0.08661084, 0.13429928, 0.045692403453946276, 0.045799288322928164, 0.042076689445000696, 0.03241410434906193, 0.04354451812236549, 0.040724832167204725, 0.030276835140688133, 0.01608432128787377, 0.19935288613114946, 0.04617857383367633, 0.004082830157130957], [14, 0.04468153, 0.06129364, 0.08752878, 0.13613872, 0.04660332204312588, 0.045127255700448475, 0.041920397701127946, 0.03298730434823908, 0.04386855932337729, 0.040429790924422275, 0.030139432620446206, 0.016242313294590947, 0.19980050766749513, 0.046126670681988176, 0.0040789153426885605], [15, 0.045376636, 0.060326427, 0.08512365, 0.13348871, 0.047294272219954005, 0.044827450261729455, 0.04111953997852622, 0.03207467964775207, 0.04444969604597112, 0.04071241514792288, 0.030103040617519526, 0.016038473455245866, 0.2006804503291688, 0.046264794497076774, 0.004082686733454466], [16, 0.045372806, 0.06294444, 0.08444398, 0.13592853, 0.04724812788907503, 0.04648576273005884, 0.041038122828081905, 0.03278632581608193, 0.044238787578572907, 0.04123012807318255, 0.0301277713247932, 0.01624791783235155, 0.2003354458832491, 0.04609650321711322, 0.004079689737409353], [17, 0.04543305, 0.06002204, 0.08314672, 0.13363312, 0.047670544688371536, 0.044625374789359906, 0.04011145262601982, 0.03224437769575246, 0.04430435115604529, 0.04058583273860465, 0.029635472790359108, 0.01603890729226046, 0.19932684294861805, 0.04587433141288787, 0.0040979026816785336], [18, 0.045146808, 0.06117123, 0.08538845, 0.13243732, 0.046859841665272586, 0.04533028433017395, 0.040951037762931665, 0.03233338405525932, 0.04418275300133273, 0.04085807624462068, 0.029929443448957028, 0.01614235988529259, 0.2006007862319213, 0.0463034645964193, 0.004099781159311533], [19, 0.04477998, 0.06093765, 0.086638644, 0.13508077, 0.04666681735883429, 0.04506933082964279, 0.04170243312323806, 0.03269009362923614, 0.04383900966425251, 0.0405393009208829, 0.030190504388008407, 0.016237533699434, 0.20064868969171337, 0.046220907621626346, 0.004109891597181559], [20, 0.044719797, 0.060777944, 0.08641677, 0.13172172, 0.046748013369804886, 0.0449514155138775, 0.041551163359449195, 0.032022555250208314, 0.044042419920556415, 0.040654348837967993, 0.030142297183996754, 0.016093235078208232, 0.20055398872796903, 0.04614841692104868, 0.004116187337785959], [21, 0.04415115, 0.05980905, 0.08691868, 0.13483198, 0.046006500819646086, 0.04464911933222113, 0.041644091270955405, 0.03271262572918474, 0.043676501407841205, 0.04051445299213318, 0.03019569517652455, 0.016249681650958536, 0.2000309675274805, 0.04612960313127055, 0.004117392003536224], [22, 0.044070784, 0.060050353, 0.08613165, 0.13397406, 0.045770902963889436, 0.0445454432346535, 0.04156060993036812, 0.0323476906105162, 0.04324224896911055, 0.04013905478676403, 0.030084129232962272, 0.01610000256520759, 0.19889170651401494, 0.04574925081339144, 0.004126297775655985], [23, 0.04380137, 0.061513096, 0.08422375, 0.1359371, 0.04562964264966576, 0.045506125918748835, 0.04101149293641056, 0.03305865797134017, 0.043420272658726104, 0.04065819412707947, 0.02994974000078339, 0.016285812948336753, 0.19954462376235205, 0.04614030225849117, 0.004138201009482145]]\n",
      "-----------------------------------------------------------------------------------------\n"
     ]
    },
    {
     "name": "stderr",
     "output_type": "stream",
     "text": [
      "  0%|          | 1/1065 [00:00<07:43,  2.29it/s]"
     ]
    },
    {
     "name": "stdout",
     "output_type": "stream",
     "text": [
      "Epoch 24: 0% , Loss: 0.003986\n"
     ]
    },
    {
     "name": "stderr",
     "output_type": "stream",
     "text": [
      "  9%|▉         | 101/1065 [00:55<08:35,  1.87it/s]"
     ]
    },
    {
     "name": "stdout",
     "output_type": "stream",
     "text": [
      "Epoch 24: 9% , Loss: 0.004169\n"
     ]
    },
    {
     "name": "stderr",
     "output_type": "stream",
     "text": [
      " 19%|█▉        | 201/1065 [01:51<06:59,  2.06it/s]"
     ]
    },
    {
     "name": "stdout",
     "output_type": "stream",
     "text": [
      "Epoch 24: 19% , Loss: 0.004677\n"
     ]
    },
    {
     "name": "stderr",
     "output_type": "stream",
     "text": [
      " 28%|██▊       | 301/1065 [02:47<06:29,  1.96it/s]"
     ]
    },
    {
     "name": "stdout",
     "output_type": "stream",
     "text": [
      "Epoch 24: 28% , Loss: 0.004726\n"
     ]
    },
    {
     "name": "stderr",
     "output_type": "stream",
     "text": [
      " 38%|███▊      | 401/1065 [03:44<05:57,  1.86it/s]"
     ]
    },
    {
     "name": "stdout",
     "output_type": "stream",
     "text": [
      "Epoch 24: 38% , Loss: 0.003454\n"
     ]
    },
    {
     "name": "stderr",
     "output_type": "stream",
     "text": [
      " 47%|████▋     | 501/1065 [04:37<03:00,  3.12it/s]"
     ]
    },
    {
     "name": "stdout",
     "output_type": "stream",
     "text": [
      "Epoch 24: 47% , Loss: 0.004807\n"
     ]
    },
    {
     "name": "stderr",
     "output_type": "stream",
     "text": [
      " 56%|█████▋    | 601/1065 [05:29<03:54,  1.98it/s]"
     ]
    },
    {
     "name": "stdout",
     "output_type": "stream",
     "text": [
      "Epoch 24: 56% , Loss: 0.005199\n"
     ]
    },
    {
     "name": "stderr",
     "output_type": "stream",
     "text": [
      " 66%|██████▌   | 701/1065 [06:20<03:26,  1.76it/s]"
     ]
    },
    {
     "name": "stdout",
     "output_type": "stream",
     "text": [
      "Epoch 24: 66% , Loss: 0.003128\n"
     ]
    },
    {
     "name": "stderr",
     "output_type": "stream",
     "text": [
      " 75%|███████▌  | 801/1065 [07:21<02:55,  1.51it/s]"
     ]
    },
    {
     "name": "stdout",
     "output_type": "stream",
     "text": [
      "Epoch 24: 75% , Loss: 0.003683\n"
     ]
    },
    {
     "name": "stderr",
     "output_type": "stream",
     "text": [
      " 85%|████████▍ | 901/1065 [08:29<01:44,  1.57it/s]"
     ]
    },
    {
     "name": "stdout",
     "output_type": "stream",
     "text": [
      "Epoch 24: 85% , Loss: 0.004524\n"
     ]
    },
    {
     "name": "stderr",
     "output_type": "stream",
     "text": [
      " 94%|█████████▍| 1001/1065 [09:38<00:44,  1.43it/s]"
     ]
    },
    {
     "name": "stdout",
     "output_type": "stream",
     "text": [
      "Epoch 24: 94% , Loss: 0.003618\n"
     ]
    },
    {
     "name": "stderr",
     "output_type": "stream",
     "text": [
      "100%|██████████| 1065/1065 [10:22<00:00,  1.71it/s]"
     ]
    },
    {
     "name": "stdout",
     "output_type": "stream",
     "text": [
      "Epoch 24: 100% , Loss: 0.004097\n"
     ]
    },
    {
     "name": "stderr",
     "output_type": "stream",
     "text": [
      "\n"
     ]
    },
    {
     "name": "stdout",
     "output_type": "stream",
     "text": [
      "                      (HR@5: 0.0419, HR@10: 0.0597, HR@20: 0.0841, HR@50: 0.1371)\n",
      "\n",
      "                      (F1-score@5: 0.0434, F1-score@10: 0.0435, F1-score@20: 0.0399, F1-score@50: 0.0329)\n",
      "\n",
      "                      (NDCG@5: 0.0417, NDCG@10: 0.0383, NDCG@20: 0.0280, NDCG@50: 0.0155)\n",
      "\n",
      "MRR: 0.18581340431045837\n",
      "MAP: 0.04606888767018168\n",
      "train_loss= tensor(0.0040)\n",
      "--------------------\n"
     ]
    },
    {
     "name": "stderr",
     "output_type": "stream",
     "text": [
      "100%|██████████| 133/133 [00:55<00:00,  2.41it/s]\n"
     ]
    },
    {
     "name": "stdout",
     "output_type": "stream",
     "text": [
      "                      (HR@5: 0.0414, HR@10: 0.0575, HR@20: 0.0803, HR@50: 0.1270)\n",
      "\n",
      "                      (F1-score@5: 0.0429, F1-score@10: 0.0425, F1-score@20: 0.0388, F1-score@50: 0.0312)\n",
      "\n",
      "                      (NDCG@5: 0.0386, NDCG@10: 0.0373, NDCG@20: 0.0280, NDCG@50: 0.0151)\n",
      "\n",
      "MRR: 0.17690155233090976\n",
      "MAP: 0.04269979600373274\n",
      "val_loss= tensor(0.0041)\n",
      "--------------------\n"
     ]
    },
    {
     "name": "stderr",
     "output_type": "stream",
     "text": [
      "100%|██████████| 133/133 [00:55<00:00,  2.38it/s]\n"
     ]
    },
    {
     "name": "stdout",
     "output_type": "stream",
     "text": [
      "                      (HR@5: 0.0441, HR@10: 0.0602, HR@20: 0.0867, HR@50: 0.1355)\n",
      "\n",
      "                      (F1-score@5: 0.0461, F1-score@10: 0.0449, F1-score@20: 0.0416, F1-score@50: 0.0329)\n",
      "\n",
      "                      (NDCG@5: 0.0437, NDCG@10: 0.0406, NDCG@20: 0.0301, NDCG@50: 0.0162)\n",
      "\n",
      "MRR: 0.19983863055868664\n",
      "MAP: 0.04614343895557704\n",
      "--------------------\n",
      "[[1, 8.4016865e-05, 8.4016865e-05, 0.000114334594, 0.000891291, 0.00013234617155132733, 0.00010999721526037315, 0.0001199328415576757, 0.000390551794612985, 5.351662061604342e-05, 6.386598123979748e-05, 8.58788984246496e-05, 0.00018388043198020276, 0.0020697745302244, 0.000889444836566718, 0.2638903260231018], [2, 6.265665e-05, 0.000114334594, 0.000114334594, 0.0005418272, 9.398496240601504e-05, 0.00015584353838525854, 0.00011993284155767572, 0.00023222520913294107, 4.143462187253443e-05, 8.577915587763589e-05, 9.241726081398196e-05, 0.00012349487016243593, 0.001951413725286344, 0.0009037805069785636, 0.0875459834933281], [3, 0.012192441, 0.01224412, 0.01224412, 0.013166627, 0.012363796487988582, 0.008586424211866363, 0.005380356117645946, 0.002860482861341153, 0.015392269039372528, 0.011347708514632475, 0.00687883532767121, 0.00298491509760821, 0.07192748725123682, 0.012509211212179922, 0.03425334393978119], [4, 0.021884039, 0.022155017, 0.023888309, 0.030598862, 0.022485064082938593, 0.015825804034119893, 0.010946368344677734, 0.006791629176013321, 0.02888112029592906, 0.022189799330330322, 0.013938353141363626, 0.006181598099603325, 0.14048288342581153, 0.0233908867031529, 0.016079092398285866], [5, 0.035313595, 0.03689594, 0.04460393, 0.05987708, 0.03648430374477475, 0.026565143429333925, 0.020454688363116647, 0.013674394527261772, 0.03790084144653738, 0.029984532090436136, 0.019640556776447965, 0.009293996302246404, 0.16690325571606437, 0.031002429439172696, 0.00896468199789524], [6, 0.04552606, 0.060163807, 0.0759388, 0.10377261, 0.04742959476789486, 0.04435664557546601, 0.036499449037326145, 0.025068013379631365, 0.04435161786342978, 0.040414372592100074, 0.02835035588263177, 0.014099337304137032, 0.19610433961008, 0.040596246854685, 0.006402811501175165], [7, 0.04505384, 0.061919995, 0.08535158, 0.13296558, 0.04685116940588034, 0.045459853853643435, 0.040955721563986296, 0.03206007849413344, 0.044097254143789746, 0.040629268884728835, 0.029831262100557972, 0.01600950769905029, 0.19878249817468585, 0.04433198613540528, 0.005035687237977982], [8, 0.04302973, 0.06006305, 0.0861205, 0.13450408, 0.044897222652263445, 0.0444229229232266, 0.04149130796157705, 0.032486319755374714, 0.04316306434732799, 0.040223642770565095, 0.030037039407718003, 0.01614683551741834, 0.19880403722470383, 0.04537726715299089, 0.004491719882935286], [9, 0.043005683, 0.060361024, 0.0864748, 0.13380076, 0.045015886669618775, 0.04470404438117823, 0.04135591344730587, 0.032307265459489136, 0.04303652583271321, 0.040023145981875244, 0.029789363420078235, 0.016023503093458572, 0.19746552954865476, 0.04551373985467269, 0.004231818486005068], [10, 0.04446454, 0.061703257, 0.087271154, 0.13363504, 0.04645720071631844, 0.045478566911558965, 0.041588355130944894, 0.032089332132607895, 0.043859996446023196, 0.04076432597760419, 0.03000943780845185, 0.016028693600564747, 0.20030646363268975, 0.04601126590931668, 0.004136193078011274], [11, 0.044246998, 0.061287165, 0.08812255, 0.13375618, 0.04591637554154486, 0.045369692088547305, 0.042015781667382304, 0.032538173542228176, 0.04348411867079934, 0.040651673612997104, 0.03016692014495121, 0.01621486284398943, 0.19952806424428635, 0.046185973052227866, 0.004109547473490238], [12, 0.04470387, 0.062247556, 0.08605318, 0.13421819, 0.046780068648080805, 0.04576285756889251, 0.041004133668906255, 0.032360522945468595, 0.043868832391707746, 0.040721011332313255, 0.029804810652285255, 0.01609208341775448, 0.19981977624356465, 0.04604468133199999, 0.004096497315913439], [13, 0.043977078, 0.06233449, 0.08661084, 0.13429928, 0.045692403453946276, 0.045799288322928164, 0.042076689445000696, 0.03241410434906193, 0.04354451812236549, 0.040724832167204725, 0.030276835140688133, 0.01608432128787377, 0.19935288613114946, 0.04617857383367633, 0.004082830157130957], [14, 0.04468153, 0.06129364, 0.08752878, 0.13613872, 0.04660332204312588, 0.045127255700448475, 0.041920397701127946, 0.03298730434823908, 0.04386855932337729, 0.040429790924422275, 0.030139432620446206, 0.016242313294590947, 0.19980050766749513, 0.046126670681988176, 0.0040789153426885605], [15, 0.045376636, 0.060326427, 0.08512365, 0.13348871, 0.047294272219954005, 0.044827450261729455, 0.04111953997852622, 0.03207467964775207, 0.04444969604597112, 0.04071241514792288, 0.030103040617519526, 0.016038473455245866, 0.2006804503291688, 0.046264794497076774, 0.004082686733454466], [16, 0.045372806, 0.06294444, 0.08444398, 0.13592853, 0.04724812788907503, 0.04648576273005884, 0.041038122828081905, 0.03278632581608193, 0.044238787578572907, 0.04123012807318255, 0.0301277713247932, 0.01624791783235155, 0.2003354458832491, 0.04609650321711322, 0.004079689737409353], [17, 0.04543305, 0.06002204, 0.08314672, 0.13363312, 0.047670544688371536, 0.044625374789359906, 0.04011145262601982, 0.03224437769575246, 0.04430435115604529, 0.04058583273860465, 0.029635472790359108, 0.01603890729226046, 0.19932684294861805, 0.04587433141288787, 0.0040979026816785336], [18, 0.045146808, 0.06117123, 0.08538845, 0.13243732, 0.046859841665272586, 0.04533028433017395, 0.040951037762931665, 0.03233338405525932, 0.04418275300133273, 0.04085807624462068, 0.029929443448957028, 0.01614235988529259, 0.2006007862319213, 0.0463034645964193, 0.004099781159311533], [19, 0.04477998, 0.06093765, 0.086638644, 0.13508077, 0.04666681735883429, 0.04506933082964279, 0.04170243312323806, 0.03269009362923614, 0.04383900966425251, 0.0405393009208829, 0.030190504388008407, 0.016237533699434, 0.20064868969171337, 0.046220907621626346, 0.004109891597181559], [20, 0.044719797, 0.060777944, 0.08641677, 0.13172172, 0.046748013369804886, 0.0449514155138775, 0.041551163359449195, 0.032022555250208314, 0.044042419920556415, 0.040654348837967993, 0.030142297183996754, 0.016093235078208232, 0.20055398872796903, 0.04614841692104868, 0.004116187337785959], [21, 0.04415115, 0.05980905, 0.08691868, 0.13483198, 0.046006500819646086, 0.04464911933222113, 0.041644091270955405, 0.03271262572918474, 0.043676501407841205, 0.04051445299213318, 0.03019569517652455, 0.016249681650958536, 0.2000309675274805, 0.04612960313127055, 0.004117392003536224], [22, 0.044070784, 0.060050353, 0.08613165, 0.13397406, 0.045770902963889436, 0.0445454432346535, 0.04156060993036812, 0.0323476906105162, 0.04324224896911055, 0.04013905478676403, 0.030084129232962272, 0.01610000256520759, 0.19889170651401494, 0.04574925081339144, 0.004126297775655985], [23, 0.04380137, 0.061513096, 0.08422375, 0.1359371, 0.04562964264966576, 0.045506125918748835, 0.04101149293641056, 0.03305865797134017, 0.043420272658726104, 0.04065819412707947, 0.02994974000078339, 0.016285812948336753, 0.19954462376235205, 0.04614030225849117, 0.004138201009482145], [24, 0.04411612, 0.060220703, 0.0866562, 0.13549659, 0.046113077170504155, 0.044893896216987896, 0.04160655704299785, 0.03289344767098668, 0.04369154392174424, 0.04061376923324078, 0.030072942350752987, 0.016249399406824933, 0.19983863055868664, 0.04614343895557704, 0.0041405814699828625]]\n",
      "-----------------------------------------------------------------------------------------\n"
     ]
    },
    {
     "name": "stderr",
     "output_type": "stream",
     "text": [
      "  0%|          | 1/1065 [00:00<15:25,  1.15it/s]"
     ]
    },
    {
     "name": "stdout",
     "output_type": "stream",
     "text": [
      "Epoch 25: 0% , Loss: 0.003130\n"
     ]
    },
    {
     "name": "stderr",
     "output_type": "stream",
     "text": [
      "  9%|▉         | 101/1065 [00:58<08:45,  1.83it/s]"
     ]
    },
    {
     "name": "stdout",
     "output_type": "stream",
     "text": [
      "Epoch 25: 9% , Loss: 0.003870\n"
     ]
    },
    {
     "name": "stderr",
     "output_type": "stream",
     "text": [
      " 19%|█▉        | 201/1065 [01:50<07:27,  1.93it/s]"
     ]
    },
    {
     "name": "stdout",
     "output_type": "stream",
     "text": [
      "Epoch 25: 19% , Loss: 0.002861\n"
     ]
    },
    {
     "name": "stderr",
     "output_type": "stream",
     "text": [
      " 28%|██▊       | 301/1065 [02:46<06:02,  2.11it/s]"
     ]
    },
    {
     "name": "stdout",
     "output_type": "stream",
     "text": [
      "Epoch 25: 28% , Loss: 0.003393\n"
     ]
    },
    {
     "name": "stderr",
     "output_type": "stream",
     "text": [
      " 38%|███▊      | 401/1065 [03:34<06:04,  1.82it/s]"
     ]
    },
    {
     "name": "stdout",
     "output_type": "stream",
     "text": [
      "Epoch 25: 38% , Loss: 0.003307\n"
     ]
    },
    {
     "name": "stderr",
     "output_type": "stream",
     "text": [
      " 47%|████▋     | 501/1065 [04:24<04:41,  2.00it/s]"
     ]
    },
    {
     "name": "stdout",
     "output_type": "stream",
     "text": [
      "Epoch 25: 47% , Loss: 0.004513\n"
     ]
    },
    {
     "name": "stderr",
     "output_type": "stream",
     "text": [
      " 56%|█████▋    | 601/1065 [05:16<05:13,  1.48it/s]"
     ]
    },
    {
     "name": "stdout",
     "output_type": "stream",
     "text": [
      "Epoch 25: 56% , Loss: 0.003189\n"
     ]
    },
    {
     "name": "stderr",
     "output_type": "stream",
     "text": [
      " 66%|██████▌   | 701/1065 [06:22<03:49,  1.58it/s]"
     ]
    },
    {
     "name": "stdout",
     "output_type": "stream",
     "text": [
      "Epoch 25: 66% , Loss: 0.004570\n"
     ]
    },
    {
     "name": "stderr",
     "output_type": "stream",
     "text": [
      " 75%|███████▌  | 801/1065 [07:27<02:22,  1.85it/s]"
     ]
    },
    {
     "name": "stdout",
     "output_type": "stream",
     "text": [
      "Epoch 25: 75% , Loss: 0.003361\n"
     ]
    },
    {
     "name": "stderr",
     "output_type": "stream",
     "text": [
      " 85%|████████▍ | 901/1065 [08:32<01:37,  1.68it/s]"
     ]
    },
    {
     "name": "stdout",
     "output_type": "stream",
     "text": [
      "Epoch 25: 85% , Loss: 0.002701\n"
     ]
    },
    {
     "name": "stderr",
     "output_type": "stream",
     "text": [
      " 94%|█████████▍| 1001/1065 [09:38<00:40,  1.59it/s]"
     ]
    },
    {
     "name": "stdout",
     "output_type": "stream",
     "text": [
      "Epoch 25: 94% , Loss: 0.004009\n"
     ]
    },
    {
     "name": "stderr",
     "output_type": "stream",
     "text": [
      "100%|██████████| 1065/1065 [10:22<00:00,  1.71it/s]"
     ]
    },
    {
     "name": "stdout",
     "output_type": "stream",
     "text": [
      "Epoch 25: 100% , Loss: 0.003347\n"
     ]
    },
    {
     "name": "stderr",
     "output_type": "stream",
     "text": [
      "\n"
     ]
    },
    {
     "name": "stdout",
     "output_type": "stream",
     "text": [
      "                      (HR@5: 0.0426, HR@10: 0.0599, HR@20: 0.0847, HR@50: 0.1365)\n",
      "\n",
      "                      (F1-score@5: 0.0439, F1-score@10: 0.0437, F1-score@20: 0.0400, F1-score@50: 0.0329)\n",
      "\n",
      "                      (NDCG@5: 0.0420, NDCG@10: 0.0384, NDCG@20: 0.0280, NDCG@50: 0.0156)\n",
      "\n",
      "MRR: 0.18643497245271914\n",
      "MAP: 0.04621370716213526\n",
      "train_loss= tensor(0.0040)\n",
      "--------------------\n"
     ]
    },
    {
     "name": "stderr",
     "output_type": "stream",
     "text": [
      "100%|██████████| 133/133 [00:55<00:00,  2.39it/s]\n"
     ]
    },
    {
     "name": "stdout",
     "output_type": "stream",
     "text": [
      "                      (HR@5: 0.0408, HR@10: 0.0593, HR@20: 0.0809, HR@50: 0.1290)\n",
      "\n",
      "                      (F1-score@5: 0.0425, F1-score@10: 0.0437, F1-score@20: 0.0389, F1-score@50: 0.0315)\n",
      "\n",
      "                      (NDCG@5: 0.0384, NDCG@10: 0.0377, NDCG@20: 0.0281, NDCG@50: 0.0152)\n",
      "\n",
      "MRR: 0.1773105772626898\n",
      "MAP: 0.04246556267074717\n",
      "val_loss= tensor(0.0041)\n",
      "--------------------\n"
     ]
    },
    {
     "name": "stderr",
     "output_type": "stream",
     "text": [
      "100%|██████████| 133/133 [00:56<00:00,  2.35it/s]\n"
     ]
    },
    {
     "name": "stdout",
     "output_type": "stream",
     "text": [
      "                      (HR@5: 0.0442, HR@10: 0.0613, HR@20: 0.0863, HR@50: 0.1347)\n",
      "\n",
      "                      (F1-score@5: 0.0461, F1-score@10: 0.0454, F1-score@20: 0.0415, F1-score@50: 0.0324)\n",
      "\n",
      "                      (NDCG@5: 0.0437, NDCG@10: 0.0406, NDCG@20: 0.0301, NDCG@50: 0.0161)\n",
      "\n",
      "MRR: 0.19978956151030416\n",
      "MAP: 0.04613381260991176\n",
      "--------------------\n",
      "[[1, 8.4016865e-05, 8.4016865e-05, 0.000114334594, 0.000891291, 0.00013234617155132733, 0.00010999721526037315, 0.0001199328415576757, 0.000390551794612985, 5.351662061604342e-05, 6.386598123979748e-05, 8.58788984246496e-05, 0.00018388043198020276, 0.0020697745302244, 0.000889444836566718, 0.2638903260231018], [2, 6.265665e-05, 0.000114334594, 0.000114334594, 0.0005418272, 9.398496240601504e-05, 0.00015584353838525854, 0.00011993284155767572, 0.00023222520913294107, 4.143462187253443e-05, 8.577915587763589e-05, 9.241726081398196e-05, 0.00012349487016243593, 0.001951413725286344, 0.0009037805069785636, 0.0875459834933281], [3, 0.012192441, 0.01224412, 0.01224412, 0.013166627, 0.012363796487988582, 0.008586424211866363, 0.005380356117645946, 0.002860482861341153, 0.015392269039372528, 0.011347708514632475, 0.00687883532767121, 0.00298491509760821, 0.07192748725123682, 0.012509211212179922, 0.03425334393978119], [4, 0.021884039, 0.022155017, 0.023888309, 0.030598862, 0.022485064082938593, 0.015825804034119893, 0.010946368344677734, 0.006791629176013321, 0.02888112029592906, 0.022189799330330322, 0.013938353141363626, 0.006181598099603325, 0.14048288342581153, 0.0233908867031529, 0.016079092398285866], [5, 0.035313595, 0.03689594, 0.04460393, 0.05987708, 0.03648430374477475, 0.026565143429333925, 0.020454688363116647, 0.013674394527261772, 0.03790084144653738, 0.029984532090436136, 0.019640556776447965, 0.009293996302246404, 0.16690325571606437, 0.031002429439172696, 0.00896468199789524], [6, 0.04552606, 0.060163807, 0.0759388, 0.10377261, 0.04742959476789486, 0.04435664557546601, 0.036499449037326145, 0.025068013379631365, 0.04435161786342978, 0.040414372592100074, 0.02835035588263177, 0.014099337304137032, 0.19610433961008, 0.040596246854685, 0.006402811501175165], [7, 0.04505384, 0.061919995, 0.08535158, 0.13296558, 0.04685116940588034, 0.045459853853643435, 0.040955721563986296, 0.03206007849413344, 0.044097254143789746, 0.040629268884728835, 0.029831262100557972, 0.01600950769905029, 0.19878249817468585, 0.04433198613540528, 0.005035687237977982], [8, 0.04302973, 0.06006305, 0.0861205, 0.13450408, 0.044897222652263445, 0.0444229229232266, 0.04149130796157705, 0.032486319755374714, 0.04316306434732799, 0.040223642770565095, 0.030037039407718003, 0.01614683551741834, 0.19880403722470383, 0.04537726715299089, 0.004491719882935286], [9, 0.043005683, 0.060361024, 0.0864748, 0.13380076, 0.045015886669618775, 0.04470404438117823, 0.04135591344730587, 0.032307265459489136, 0.04303652583271321, 0.040023145981875244, 0.029789363420078235, 0.016023503093458572, 0.19746552954865476, 0.04551373985467269, 0.004231818486005068], [10, 0.04446454, 0.061703257, 0.087271154, 0.13363504, 0.04645720071631844, 0.045478566911558965, 0.041588355130944894, 0.032089332132607895, 0.043859996446023196, 0.04076432597760419, 0.03000943780845185, 0.016028693600564747, 0.20030646363268975, 0.04601126590931668, 0.004136193078011274], [11, 0.044246998, 0.061287165, 0.08812255, 0.13375618, 0.04591637554154486, 0.045369692088547305, 0.042015781667382304, 0.032538173542228176, 0.04348411867079934, 0.040651673612997104, 0.03016692014495121, 0.01621486284398943, 0.19952806424428635, 0.046185973052227866, 0.004109547473490238], [12, 0.04470387, 0.062247556, 0.08605318, 0.13421819, 0.046780068648080805, 0.04576285756889251, 0.041004133668906255, 0.032360522945468595, 0.043868832391707746, 0.040721011332313255, 0.029804810652285255, 0.01609208341775448, 0.19981977624356465, 0.04604468133199999, 0.004096497315913439], [13, 0.043977078, 0.06233449, 0.08661084, 0.13429928, 0.045692403453946276, 0.045799288322928164, 0.042076689445000696, 0.03241410434906193, 0.04354451812236549, 0.040724832167204725, 0.030276835140688133, 0.01608432128787377, 0.19935288613114946, 0.04617857383367633, 0.004082830157130957], [14, 0.04468153, 0.06129364, 0.08752878, 0.13613872, 0.04660332204312588, 0.045127255700448475, 0.041920397701127946, 0.03298730434823908, 0.04386855932337729, 0.040429790924422275, 0.030139432620446206, 0.016242313294590947, 0.19980050766749513, 0.046126670681988176, 0.0040789153426885605], [15, 0.045376636, 0.060326427, 0.08512365, 0.13348871, 0.047294272219954005, 0.044827450261729455, 0.04111953997852622, 0.03207467964775207, 0.04444969604597112, 0.04071241514792288, 0.030103040617519526, 0.016038473455245866, 0.2006804503291688, 0.046264794497076774, 0.004082686733454466], [16, 0.045372806, 0.06294444, 0.08444398, 0.13592853, 0.04724812788907503, 0.04648576273005884, 0.041038122828081905, 0.03278632581608193, 0.044238787578572907, 0.04123012807318255, 0.0301277713247932, 0.01624791783235155, 0.2003354458832491, 0.04609650321711322, 0.004079689737409353], [17, 0.04543305, 0.06002204, 0.08314672, 0.13363312, 0.047670544688371536, 0.044625374789359906, 0.04011145262601982, 0.03224437769575246, 0.04430435115604529, 0.04058583273860465, 0.029635472790359108, 0.01603890729226046, 0.19932684294861805, 0.04587433141288787, 0.0040979026816785336], [18, 0.045146808, 0.06117123, 0.08538845, 0.13243732, 0.046859841665272586, 0.04533028433017395, 0.040951037762931665, 0.03233338405525932, 0.04418275300133273, 0.04085807624462068, 0.029929443448957028, 0.01614235988529259, 0.2006007862319213, 0.0463034645964193, 0.004099781159311533], [19, 0.04477998, 0.06093765, 0.086638644, 0.13508077, 0.04666681735883429, 0.04506933082964279, 0.04170243312323806, 0.03269009362923614, 0.04383900966425251, 0.0405393009208829, 0.030190504388008407, 0.016237533699434, 0.20064868969171337, 0.046220907621626346, 0.004109891597181559], [20, 0.044719797, 0.060777944, 0.08641677, 0.13172172, 0.046748013369804886, 0.0449514155138775, 0.041551163359449195, 0.032022555250208314, 0.044042419920556415, 0.040654348837967993, 0.030142297183996754, 0.016093235078208232, 0.20055398872796903, 0.04614841692104868, 0.004116187337785959], [21, 0.04415115, 0.05980905, 0.08691868, 0.13483198, 0.046006500819646086, 0.04464911933222113, 0.041644091270955405, 0.03271262572918474, 0.043676501407841205, 0.04051445299213318, 0.03019569517652455, 0.016249681650958536, 0.2000309675274805, 0.04612960313127055, 0.004117392003536224], [22, 0.044070784, 0.060050353, 0.08613165, 0.13397406, 0.045770902963889436, 0.0445454432346535, 0.04156060993036812, 0.0323476906105162, 0.04324224896911055, 0.04013905478676403, 0.030084129232962272, 0.01610000256520759, 0.19889170651401494, 0.04574925081339144, 0.004126297775655985], [23, 0.04380137, 0.061513096, 0.08422375, 0.1359371, 0.04562964264966576, 0.045506125918748835, 0.04101149293641056, 0.03305865797134017, 0.043420272658726104, 0.04065819412707947, 0.02994974000078339, 0.016285812948336753, 0.19954462376235205, 0.04614030225849117, 0.004138201009482145], [24, 0.04411612, 0.060220703, 0.0866562, 0.13549659, 0.046113077170504155, 0.044893896216987896, 0.04160655704299785, 0.03289344767098668, 0.04369154392174424, 0.04061376923324078, 0.030072942350752987, 0.016249399406824933, 0.19983863055868664, 0.04614343895557704, 0.0041405814699828625], [25, 0.044164207, 0.06134064, 0.086302176, 0.13472232, 0.04612816406953981, 0.04535413679477608, 0.0415145662938833, 0.03243819430132255, 0.043655426153927146, 0.040619081819317955, 0.03008893931711695, 0.016127007536387027, 0.19978956151030416, 0.04613381260991176, 0.004139921627938747]]\n",
      "-----------------------------------------------------------------------------------------\n"
     ]
    },
    {
     "data": {
      "text/html": [
       "<div>\n",
       "<style scoped>\n",
       "    .dataframe tbody tr th:only-of-type {\n",
       "        vertical-align: middle;\n",
       "    }\n",
       "\n",
       "    .dataframe tbody tr th {\n",
       "        vertical-align: top;\n",
       "    }\n",
       "\n",
       "    .dataframe thead th {\n",
       "        text-align: right;\n",
       "    }\n",
       "</style>\n",
       "<table border=\"1\" class=\"dataframe\">\n",
       "  <thead>\n",
       "    <tr style=\"text-align: right;\">\n",
       "      <th></th>\n",
       "      <th>Epoch</th>\n",
       "      <th>HR@5</th>\n",
       "      <th>HR@10</th>\n",
       "      <th>HR@20</th>\n",
       "      <th>HR@50</th>\n",
       "      <th>F1-score@5</th>\n",
       "      <th>F1-score@10</th>\n",
       "      <th>F1-score@20</th>\n",
       "      <th>F1-score@50</th>\n",
       "      <th>NDCG@5</th>\n",
       "      <th>NDCG@10</th>\n",
       "      <th>NDCG@20</th>\n",
       "      <th>NDCG@50</th>\n",
       "      <th>MRR</th>\n",
       "      <th>MAP</th>\n",
       "      <th>val_loss</th>\n",
       "    </tr>\n",
       "  </thead>\n",
       "  <tbody>\n",
       "    <tr>\n",
       "      <th>0</th>\n",
       "      <td>1</td>\n",
       "      <td>0.000084</td>\n",
       "      <td>0.000084</td>\n",
       "      <td>0.000114</td>\n",
       "      <td>0.000891</td>\n",
       "      <td>0.000132</td>\n",
       "      <td>0.000110</td>\n",
       "      <td>0.000120</td>\n",
       "      <td>0.000391</td>\n",
       "      <td>0.000054</td>\n",
       "      <td>0.000064</td>\n",
       "      <td>0.000086</td>\n",
       "      <td>0.000184</td>\n",
       "      <td>0.002070</td>\n",
       "      <td>0.000889</td>\n",
       "      <td>0.263890</td>\n",
       "    </tr>\n",
       "    <tr>\n",
       "      <th>1</th>\n",
       "      <td>2</td>\n",
       "      <td>0.000063</td>\n",
       "      <td>0.000114</td>\n",
       "      <td>0.000114</td>\n",
       "      <td>0.000542</td>\n",
       "      <td>0.000094</td>\n",
       "      <td>0.000156</td>\n",
       "      <td>0.000120</td>\n",
       "      <td>0.000232</td>\n",
       "      <td>0.000041</td>\n",
       "      <td>0.000086</td>\n",
       "      <td>0.000092</td>\n",
       "      <td>0.000123</td>\n",
       "      <td>0.001951</td>\n",
       "      <td>0.000904</td>\n",
       "      <td>0.087546</td>\n",
       "    </tr>\n",
       "    <tr>\n",
       "      <th>2</th>\n",
       "      <td>3</td>\n",
       "      <td>0.012192</td>\n",
       "      <td>0.012244</td>\n",
       "      <td>0.012244</td>\n",
       "      <td>0.013167</td>\n",
       "      <td>0.012364</td>\n",
       "      <td>0.008586</td>\n",
       "      <td>0.005380</td>\n",
       "      <td>0.002860</td>\n",
       "      <td>0.015392</td>\n",
       "      <td>0.011348</td>\n",
       "      <td>0.006879</td>\n",
       "      <td>0.002985</td>\n",
       "      <td>0.071927</td>\n",
       "      <td>0.012509</td>\n",
       "      <td>0.034253</td>\n",
       "    </tr>\n",
       "    <tr>\n",
       "      <th>3</th>\n",
       "      <td>4</td>\n",
       "      <td>0.021884</td>\n",
       "      <td>0.022155</td>\n",
       "      <td>0.023888</td>\n",
       "      <td>0.030599</td>\n",
       "      <td>0.022485</td>\n",
       "      <td>0.015826</td>\n",
       "      <td>0.010946</td>\n",
       "      <td>0.006792</td>\n",
       "      <td>0.028881</td>\n",
       "      <td>0.022190</td>\n",
       "      <td>0.013938</td>\n",
       "      <td>0.006182</td>\n",
       "      <td>0.140483</td>\n",
       "      <td>0.023391</td>\n",
       "      <td>0.016079</td>\n",
       "    </tr>\n",
       "    <tr>\n",
       "      <th>4</th>\n",
       "      <td>5</td>\n",
       "      <td>0.035314</td>\n",
       "      <td>0.036896</td>\n",
       "      <td>0.044604</td>\n",
       "      <td>0.059877</td>\n",
       "      <td>0.036484</td>\n",
       "      <td>0.026565</td>\n",
       "      <td>0.020455</td>\n",
       "      <td>0.013674</td>\n",
       "      <td>0.037901</td>\n",
       "      <td>0.029985</td>\n",
       "      <td>0.019641</td>\n",
       "      <td>0.009294</td>\n",
       "      <td>0.166903</td>\n",
       "      <td>0.031002</td>\n",
       "      <td>0.008965</td>\n",
       "    </tr>\n",
       "    <tr>\n",
       "      <th>5</th>\n",
       "      <td>6</td>\n",
       "      <td>0.045526</td>\n",
       "      <td>0.060164</td>\n",
       "      <td>0.075939</td>\n",
       "      <td>0.103773</td>\n",
       "      <td>0.047430</td>\n",
       "      <td>0.044357</td>\n",
       "      <td>0.036499</td>\n",
       "      <td>0.025068</td>\n",
       "      <td>0.044352</td>\n",
       "      <td>0.040414</td>\n",
       "      <td>0.028350</td>\n",
       "      <td>0.014099</td>\n",
       "      <td>0.196104</td>\n",
       "      <td>0.040596</td>\n",
       "      <td>0.006403</td>\n",
       "    </tr>\n",
       "    <tr>\n",
       "      <th>6</th>\n",
       "      <td>7</td>\n",
       "      <td>0.045054</td>\n",
       "      <td>0.061920</td>\n",
       "      <td>0.085352</td>\n",
       "      <td>0.132966</td>\n",
       "      <td>0.046851</td>\n",
       "      <td>0.045460</td>\n",
       "      <td>0.040956</td>\n",
       "      <td>0.032060</td>\n",
       "      <td>0.044097</td>\n",
       "      <td>0.040629</td>\n",
       "      <td>0.029831</td>\n",
       "      <td>0.016010</td>\n",
       "      <td>0.198782</td>\n",
       "      <td>0.044332</td>\n",
       "      <td>0.005036</td>\n",
       "    </tr>\n",
       "    <tr>\n",
       "      <th>7</th>\n",
       "      <td>8</td>\n",
       "      <td>0.043030</td>\n",
       "      <td>0.060063</td>\n",
       "      <td>0.086121</td>\n",
       "      <td>0.134504</td>\n",
       "      <td>0.044897</td>\n",
       "      <td>0.044423</td>\n",
       "      <td>0.041491</td>\n",
       "      <td>0.032486</td>\n",
       "      <td>0.043163</td>\n",
       "      <td>0.040224</td>\n",
       "      <td>0.030037</td>\n",
       "      <td>0.016147</td>\n",
       "      <td>0.198804</td>\n",
       "      <td>0.045377</td>\n",
       "      <td>0.004492</td>\n",
       "    </tr>\n",
       "    <tr>\n",
       "      <th>8</th>\n",
       "      <td>9</td>\n",
       "      <td>0.043006</td>\n",
       "      <td>0.060361</td>\n",
       "      <td>0.086475</td>\n",
       "      <td>0.133801</td>\n",
       "      <td>0.045016</td>\n",
       "      <td>0.044704</td>\n",
       "      <td>0.041356</td>\n",
       "      <td>0.032307</td>\n",
       "      <td>0.043037</td>\n",
       "      <td>0.040023</td>\n",
       "      <td>0.029789</td>\n",
       "      <td>0.016024</td>\n",
       "      <td>0.197466</td>\n",
       "      <td>0.045514</td>\n",
       "      <td>0.004232</td>\n",
       "    </tr>\n",
       "    <tr>\n",
       "      <th>9</th>\n",
       "      <td>10</td>\n",
       "      <td>0.044465</td>\n",
       "      <td>0.061703</td>\n",
       "      <td>0.087271</td>\n",
       "      <td>0.133635</td>\n",
       "      <td>0.046457</td>\n",
       "      <td>0.045479</td>\n",
       "      <td>0.041588</td>\n",
       "      <td>0.032089</td>\n",
       "      <td>0.043860</td>\n",
       "      <td>0.040764</td>\n",
       "      <td>0.030009</td>\n",
       "      <td>0.016029</td>\n",
       "      <td>0.200306</td>\n",
       "      <td>0.046011</td>\n",
       "      <td>0.004136</td>\n",
       "    </tr>\n",
       "    <tr>\n",
       "      <th>10</th>\n",
       "      <td>11</td>\n",
       "      <td>0.044247</td>\n",
       "      <td>0.061287</td>\n",
       "      <td>0.088123</td>\n",
       "      <td>0.133756</td>\n",
       "      <td>0.045916</td>\n",
       "      <td>0.045370</td>\n",
       "      <td>0.042016</td>\n",
       "      <td>0.032538</td>\n",
       "      <td>0.043484</td>\n",
       "      <td>0.040652</td>\n",
       "      <td>0.030167</td>\n",
       "      <td>0.016215</td>\n",
       "      <td>0.199528</td>\n",
       "      <td>0.046186</td>\n",
       "      <td>0.004110</td>\n",
       "    </tr>\n",
       "    <tr>\n",
       "      <th>11</th>\n",
       "      <td>12</td>\n",
       "      <td>0.044704</td>\n",
       "      <td>0.062248</td>\n",
       "      <td>0.086053</td>\n",
       "      <td>0.134218</td>\n",
       "      <td>0.046780</td>\n",
       "      <td>0.045763</td>\n",
       "      <td>0.041004</td>\n",
       "      <td>0.032361</td>\n",
       "      <td>0.043869</td>\n",
       "      <td>0.040721</td>\n",
       "      <td>0.029805</td>\n",
       "      <td>0.016092</td>\n",
       "      <td>0.199820</td>\n",
       "      <td>0.046045</td>\n",
       "      <td>0.004096</td>\n",
       "    </tr>\n",
       "    <tr>\n",
       "      <th>12</th>\n",
       "      <td>13</td>\n",
       "      <td>0.043977</td>\n",
       "      <td>0.062334</td>\n",
       "      <td>0.086611</td>\n",
       "      <td>0.134299</td>\n",
       "      <td>0.045692</td>\n",
       "      <td>0.045799</td>\n",
       "      <td>0.042077</td>\n",
       "      <td>0.032414</td>\n",
       "      <td>0.043545</td>\n",
       "      <td>0.040725</td>\n",
       "      <td>0.030277</td>\n",
       "      <td>0.016084</td>\n",
       "      <td>0.199353</td>\n",
       "      <td>0.046179</td>\n",
       "      <td>0.004083</td>\n",
       "    </tr>\n",
       "    <tr>\n",
       "      <th>13</th>\n",
       "      <td>14</td>\n",
       "      <td>0.044682</td>\n",
       "      <td>0.061294</td>\n",
       "      <td>0.087529</td>\n",
       "      <td>0.136139</td>\n",
       "      <td>0.046603</td>\n",
       "      <td>0.045127</td>\n",
       "      <td>0.041920</td>\n",
       "      <td>0.032987</td>\n",
       "      <td>0.043869</td>\n",
       "      <td>0.040430</td>\n",
       "      <td>0.030139</td>\n",
       "      <td>0.016242</td>\n",
       "      <td>0.199801</td>\n",
       "      <td>0.046127</td>\n",
       "      <td>0.004079</td>\n",
       "    </tr>\n",
       "    <tr>\n",
       "      <th>14</th>\n",
       "      <td>15</td>\n",
       "      <td>0.045377</td>\n",
       "      <td>0.060326</td>\n",
       "      <td>0.085124</td>\n",
       "      <td>0.133489</td>\n",
       "      <td>0.047294</td>\n",
       "      <td>0.044827</td>\n",
       "      <td>0.041120</td>\n",
       "      <td>0.032075</td>\n",
       "      <td>0.044450</td>\n",
       "      <td>0.040712</td>\n",
       "      <td>0.030103</td>\n",
       "      <td>0.016038</td>\n",
       "      <td>0.200680</td>\n",
       "      <td>0.046265</td>\n",
       "      <td>0.004083</td>\n",
       "    </tr>\n",
       "    <tr>\n",
       "      <th>15</th>\n",
       "      <td>16</td>\n",
       "      <td>0.045373</td>\n",
       "      <td>0.062944</td>\n",
       "      <td>0.084444</td>\n",
       "      <td>0.135929</td>\n",
       "      <td>0.047248</td>\n",
       "      <td>0.046486</td>\n",
       "      <td>0.041038</td>\n",
       "      <td>0.032786</td>\n",
       "      <td>0.044239</td>\n",
       "      <td>0.041230</td>\n",
       "      <td>0.030128</td>\n",
       "      <td>0.016248</td>\n",
       "      <td>0.200335</td>\n",
       "      <td>0.046097</td>\n",
       "      <td>0.004080</td>\n",
       "    </tr>\n",
       "    <tr>\n",
       "      <th>16</th>\n",
       "      <td>17</td>\n",
       "      <td>0.045433</td>\n",
       "      <td>0.060022</td>\n",
       "      <td>0.083147</td>\n",
       "      <td>0.133633</td>\n",
       "      <td>0.047671</td>\n",
       "      <td>0.044625</td>\n",
       "      <td>0.040111</td>\n",
       "      <td>0.032244</td>\n",
       "      <td>0.044304</td>\n",
       "      <td>0.040586</td>\n",
       "      <td>0.029635</td>\n",
       "      <td>0.016039</td>\n",
       "      <td>0.199327</td>\n",
       "      <td>0.045874</td>\n",
       "      <td>0.004098</td>\n",
       "    </tr>\n",
       "    <tr>\n",
       "      <th>17</th>\n",
       "      <td>18</td>\n",
       "      <td>0.045147</td>\n",
       "      <td>0.061171</td>\n",
       "      <td>0.085388</td>\n",
       "      <td>0.132437</td>\n",
       "      <td>0.046860</td>\n",
       "      <td>0.045330</td>\n",
       "      <td>0.040951</td>\n",
       "      <td>0.032333</td>\n",
       "      <td>0.044183</td>\n",
       "      <td>0.040858</td>\n",
       "      <td>0.029929</td>\n",
       "      <td>0.016142</td>\n",
       "      <td>0.200601</td>\n",
       "      <td>0.046303</td>\n",
       "      <td>0.004100</td>\n",
       "    </tr>\n",
       "    <tr>\n",
       "      <th>18</th>\n",
       "      <td>19</td>\n",
       "      <td>0.044780</td>\n",
       "      <td>0.060938</td>\n",
       "      <td>0.086639</td>\n",
       "      <td>0.135081</td>\n",
       "      <td>0.046667</td>\n",
       "      <td>0.045069</td>\n",
       "      <td>0.041702</td>\n",
       "      <td>0.032690</td>\n",
       "      <td>0.043839</td>\n",
       "      <td>0.040539</td>\n",
       "      <td>0.030191</td>\n",
       "      <td>0.016238</td>\n",
       "      <td>0.200649</td>\n",
       "      <td>0.046221</td>\n",
       "      <td>0.004110</td>\n",
       "    </tr>\n",
       "    <tr>\n",
       "      <th>19</th>\n",
       "      <td>20</td>\n",
       "      <td>0.044720</td>\n",
       "      <td>0.060778</td>\n",
       "      <td>0.086417</td>\n",
       "      <td>0.131722</td>\n",
       "      <td>0.046748</td>\n",
       "      <td>0.044951</td>\n",
       "      <td>0.041551</td>\n",
       "      <td>0.032023</td>\n",
       "      <td>0.044042</td>\n",
       "      <td>0.040654</td>\n",
       "      <td>0.030142</td>\n",
       "      <td>0.016093</td>\n",
       "      <td>0.200554</td>\n",
       "      <td>0.046148</td>\n",
       "      <td>0.004116</td>\n",
       "    </tr>\n",
       "    <tr>\n",
       "      <th>20</th>\n",
       "      <td>21</td>\n",
       "      <td>0.044151</td>\n",
       "      <td>0.059809</td>\n",
       "      <td>0.086919</td>\n",
       "      <td>0.134832</td>\n",
       "      <td>0.046007</td>\n",
       "      <td>0.044649</td>\n",
       "      <td>0.041644</td>\n",
       "      <td>0.032713</td>\n",
       "      <td>0.043677</td>\n",
       "      <td>0.040514</td>\n",
       "      <td>0.030196</td>\n",
       "      <td>0.016250</td>\n",
       "      <td>0.200031</td>\n",
       "      <td>0.046130</td>\n",
       "      <td>0.004117</td>\n",
       "    </tr>\n",
       "    <tr>\n",
       "      <th>21</th>\n",
       "      <td>22</td>\n",
       "      <td>0.044071</td>\n",
       "      <td>0.060050</td>\n",
       "      <td>0.086132</td>\n",
       "      <td>0.133974</td>\n",
       "      <td>0.045771</td>\n",
       "      <td>0.044545</td>\n",
       "      <td>0.041561</td>\n",
       "      <td>0.032348</td>\n",
       "      <td>0.043242</td>\n",
       "      <td>0.040139</td>\n",
       "      <td>0.030084</td>\n",
       "      <td>0.016100</td>\n",
       "      <td>0.198892</td>\n",
       "      <td>0.045749</td>\n",
       "      <td>0.004126</td>\n",
       "    </tr>\n",
       "    <tr>\n",
       "      <th>22</th>\n",
       "      <td>23</td>\n",
       "      <td>0.043801</td>\n",
       "      <td>0.061513</td>\n",
       "      <td>0.084224</td>\n",
       "      <td>0.135937</td>\n",
       "      <td>0.045630</td>\n",
       "      <td>0.045506</td>\n",
       "      <td>0.041011</td>\n",
       "      <td>0.033059</td>\n",
       "      <td>0.043420</td>\n",
       "      <td>0.040658</td>\n",
       "      <td>0.029950</td>\n",
       "      <td>0.016286</td>\n",
       "      <td>0.199545</td>\n",
       "      <td>0.046140</td>\n",
       "      <td>0.004138</td>\n",
       "    </tr>\n",
       "    <tr>\n",
       "      <th>23</th>\n",
       "      <td>24</td>\n",
       "      <td>0.044116</td>\n",
       "      <td>0.060221</td>\n",
       "      <td>0.086656</td>\n",
       "      <td>0.135497</td>\n",
       "      <td>0.046113</td>\n",
       "      <td>0.044894</td>\n",
       "      <td>0.041607</td>\n",
       "      <td>0.032893</td>\n",
       "      <td>0.043692</td>\n",
       "      <td>0.040614</td>\n",
       "      <td>0.030073</td>\n",
       "      <td>0.016249</td>\n",
       "      <td>0.199839</td>\n",
       "      <td>0.046143</td>\n",
       "      <td>0.004141</td>\n",
       "    </tr>\n",
       "    <tr>\n",
       "      <th>24</th>\n",
       "      <td>25</td>\n",
       "      <td>0.044164</td>\n",
       "      <td>0.061341</td>\n",
       "      <td>0.086302</td>\n",
       "      <td>0.134722</td>\n",
       "      <td>0.046128</td>\n",
       "      <td>0.045354</td>\n",
       "      <td>0.041515</td>\n",
       "      <td>0.032438</td>\n",
       "      <td>0.043655</td>\n",
       "      <td>0.040619</td>\n",
       "      <td>0.030089</td>\n",
       "      <td>0.016127</td>\n",
       "      <td>0.199790</td>\n",
       "      <td>0.046134</td>\n",
       "      <td>0.004140</td>\n",
       "    </tr>\n",
       "  </tbody>\n",
       "</table>\n",
       "</div>"
      ],
      "text/plain": [
       "    Epoch      HR@5     HR@10     HR@20     HR@50  F1-score@5  F1-score@10  \\\n",
       "0       1  0.000084  0.000084  0.000114  0.000891    0.000132     0.000110   \n",
       "1       2  0.000063  0.000114  0.000114  0.000542    0.000094     0.000156   \n",
       "2       3  0.012192  0.012244  0.012244  0.013167    0.012364     0.008586   \n",
       "3       4  0.021884  0.022155  0.023888  0.030599    0.022485     0.015826   \n",
       "4       5  0.035314  0.036896  0.044604  0.059877    0.036484     0.026565   \n",
       "5       6  0.045526  0.060164  0.075939  0.103773    0.047430     0.044357   \n",
       "6       7  0.045054  0.061920  0.085352  0.132966    0.046851     0.045460   \n",
       "7       8  0.043030  0.060063  0.086121  0.134504    0.044897     0.044423   \n",
       "8       9  0.043006  0.060361  0.086475  0.133801    0.045016     0.044704   \n",
       "9      10  0.044465  0.061703  0.087271  0.133635    0.046457     0.045479   \n",
       "10     11  0.044247  0.061287  0.088123  0.133756    0.045916     0.045370   \n",
       "11     12  0.044704  0.062248  0.086053  0.134218    0.046780     0.045763   \n",
       "12     13  0.043977  0.062334  0.086611  0.134299    0.045692     0.045799   \n",
       "13     14  0.044682  0.061294  0.087529  0.136139    0.046603     0.045127   \n",
       "14     15  0.045377  0.060326  0.085124  0.133489    0.047294     0.044827   \n",
       "15     16  0.045373  0.062944  0.084444  0.135929    0.047248     0.046486   \n",
       "16     17  0.045433  0.060022  0.083147  0.133633    0.047671     0.044625   \n",
       "17     18  0.045147  0.061171  0.085388  0.132437    0.046860     0.045330   \n",
       "18     19  0.044780  0.060938  0.086639  0.135081    0.046667     0.045069   \n",
       "19     20  0.044720  0.060778  0.086417  0.131722    0.046748     0.044951   \n",
       "20     21  0.044151  0.059809  0.086919  0.134832    0.046007     0.044649   \n",
       "21     22  0.044071  0.060050  0.086132  0.133974    0.045771     0.044545   \n",
       "22     23  0.043801  0.061513  0.084224  0.135937    0.045630     0.045506   \n",
       "23     24  0.044116  0.060221  0.086656  0.135497    0.046113     0.044894   \n",
       "24     25  0.044164  0.061341  0.086302  0.134722    0.046128     0.045354   \n",
       "\n",
       "    F1-score@20  F1-score@50    NDCG@5   NDCG@10   NDCG@20   NDCG@50  \\\n",
       "0      0.000120     0.000391  0.000054  0.000064  0.000086  0.000184   \n",
       "1      0.000120     0.000232  0.000041  0.000086  0.000092  0.000123   \n",
       "2      0.005380     0.002860  0.015392  0.011348  0.006879  0.002985   \n",
       "3      0.010946     0.006792  0.028881  0.022190  0.013938  0.006182   \n",
       "4      0.020455     0.013674  0.037901  0.029985  0.019641  0.009294   \n",
       "5      0.036499     0.025068  0.044352  0.040414  0.028350  0.014099   \n",
       "6      0.040956     0.032060  0.044097  0.040629  0.029831  0.016010   \n",
       "7      0.041491     0.032486  0.043163  0.040224  0.030037  0.016147   \n",
       "8      0.041356     0.032307  0.043037  0.040023  0.029789  0.016024   \n",
       "9      0.041588     0.032089  0.043860  0.040764  0.030009  0.016029   \n",
       "10     0.042016     0.032538  0.043484  0.040652  0.030167  0.016215   \n",
       "11     0.041004     0.032361  0.043869  0.040721  0.029805  0.016092   \n",
       "12     0.042077     0.032414  0.043545  0.040725  0.030277  0.016084   \n",
       "13     0.041920     0.032987  0.043869  0.040430  0.030139  0.016242   \n",
       "14     0.041120     0.032075  0.044450  0.040712  0.030103  0.016038   \n",
       "15     0.041038     0.032786  0.044239  0.041230  0.030128  0.016248   \n",
       "16     0.040111     0.032244  0.044304  0.040586  0.029635  0.016039   \n",
       "17     0.040951     0.032333  0.044183  0.040858  0.029929  0.016142   \n",
       "18     0.041702     0.032690  0.043839  0.040539  0.030191  0.016238   \n",
       "19     0.041551     0.032023  0.044042  0.040654  0.030142  0.016093   \n",
       "20     0.041644     0.032713  0.043677  0.040514  0.030196  0.016250   \n",
       "21     0.041561     0.032348  0.043242  0.040139  0.030084  0.016100   \n",
       "22     0.041011     0.033059  0.043420  0.040658  0.029950  0.016286   \n",
       "23     0.041607     0.032893  0.043692  0.040614  0.030073  0.016249   \n",
       "24     0.041515     0.032438  0.043655  0.040619  0.030089  0.016127   \n",
       "\n",
       "         MRR       MAP  val_loss  \n",
       "0   0.002070  0.000889  0.263890  \n",
       "1   0.001951  0.000904  0.087546  \n",
       "2   0.071927  0.012509  0.034253  \n",
       "3   0.140483  0.023391  0.016079  \n",
       "4   0.166903  0.031002  0.008965  \n",
       "5   0.196104  0.040596  0.006403  \n",
       "6   0.198782  0.044332  0.005036  \n",
       "7   0.198804  0.045377  0.004492  \n",
       "8   0.197466  0.045514  0.004232  \n",
       "9   0.200306  0.046011  0.004136  \n",
       "10  0.199528  0.046186  0.004110  \n",
       "11  0.199820  0.046045  0.004096  \n",
       "12  0.199353  0.046179  0.004083  \n",
       "13  0.199801  0.046127  0.004079  \n",
       "14  0.200680  0.046265  0.004083  \n",
       "15  0.200335  0.046097  0.004080  \n",
       "16  0.199327  0.045874  0.004098  \n",
       "17  0.200601  0.046303  0.004100  \n",
       "18  0.200649  0.046221  0.004110  \n",
       "19  0.200554  0.046148  0.004116  \n",
       "20  0.200031  0.046130  0.004117  \n",
       "21  0.198892  0.045749  0.004126  \n",
       "22  0.199545  0.046140  0.004138  \n",
       "23  0.199839  0.046143  0.004141  \n",
       "24  0.199790  0.046134  0.004140  "
      ]
     },
     "execution_count": 34,
     "metadata": {},
     "output_type": "execute_result"
    }
   ],
   "source": [
    "# 消融實驗 w/o Item2vec and Confidence\n",
    "# MyModel02\n",
    "# 固定參數: epochs35 Transformer_layer=4 batch_size=8 embedding_size=32 hidden_size=128 lr=0.0001 num_layer=4 num_head=4\n",
    "\n",
    "results = []\n",
    "\n",
    "for epoch in range( 1  , EPOCHS + 1 ):\n",
    "    train_loss = train_model()\n",
    "    print(\"train_loss=\",train_loss)\n",
    "    print('-'*20)\n",
    "    val_loss,hr_5_rec = evaluate_model()\n",
    "    print(\"val_loss=\",val_loss)\n",
    "    print('-' * 20)\n",
    "    test_loss,test_hr_5_rec,hr_list,f1_list,ndcg_list, mrr_score, map_score = test_model()\n",
    "    print('-' * 20)\n",
    "    result = [epoch] + hr_list + f1_list + ndcg_list + [mrr_score,map_score] + [val_loss.item()]\n",
    "    results.append(result)\n",
    "    print(results)\n",
    "    print('-' * 89)\n",
    "    \n",
    "    collected = gc.collect()\n",
    "    torch.cuda.empty_cache()\n",
    "\n",
    "\n",
    "record_df = pd.DataFrame(results,columns=['Epoch','HR@5', 'HR@10', 'HR@20', 'HR@50', 'F1-score@5', 'F1-score@10', 'F1-score@20', 'F1-score@50',\n",
    "                           'NDCG@5', 'NDCG@10', 'NDCG@20', 'NDCG@50','MRR','MAP','val_loss'])\n",
    "record_df"
   ]
  },
  {
   "cell_type": "code",
   "execution_count": 35,
   "id": "4ff67314",
   "metadata": {},
   "outputs": [
    {
     "name": "stdout",
     "output_type": "stream",
     "text": [
      "tensor([0, 9])\n"
     ]
    },
    {
     "ename": "IndexError",
     "evalue": "Dimension out of range (expected to be in range of [-1, 0], but got 1)",
     "output_type": "error",
     "traceback": [
      "\u001b[1;31m---------------------------------------------------------------------------\u001b[0m",
      "\u001b[1;31mIndexError\u001b[0m                                Traceback (most recent call last)",
      "Cell \u001b[1;32mIn[35], line 4\u001b[0m\n\u001b[0;32m      2\u001b[0m mask \u001b[38;5;241m=\u001b[39m a\u001b[38;5;241m.\u001b[39msum(dim\u001b[38;5;241m=\u001b[39m\u001b[38;5;241m-\u001b[39m\u001b[38;5;241m1\u001b[39m)\n\u001b[0;32m      3\u001b[0m \u001b[38;5;28mprint\u001b[39m(mask)\n\u001b[1;32m----> 4\u001b[0m \u001b[38;5;28mprint\u001b[39m(mask\u001b[38;5;241m.\u001b[39mne(\u001b[38;5;241m0\u001b[39m)\u001b[38;5;241m.\u001b[39mtranspose(\u001b[38;5;241m0\u001b[39m,\u001b[38;5;241m1\u001b[39m))\n",
      "\u001b[1;31mIndexError\u001b[0m: Dimension out of range (expected to be in range of [-1, 0], but got 1)"
     ]
    }
   ],
   "source": [
    "a = torch.tensor([[0,0,0],[4,5,0]])\n",
    "mask = a.sum(dim=-1)\n",
    "print(mask)\n",
    "print(mask.ne(0).transpose(0,1))\n",
    "# 目的:相讓用戶的某個購物籃大小相同，再用key padding mask去遮padding的部分\n",
    "# 某位user的shape - (batch_size, cart的數量, item的維度)\n",
    "# 因為你padding所以代表某位用戶的cart裡面的item數量都相同\n",
    "# 代表可能是\n",
    "# [[[0,1,...,30,31],  ->第一個購物籃\n",
    "#   [32,33...,62,63],\n",
    "#   [0,0,...,0,0],],\n",
    "#  [[0,1,...,30,31],  ->第二個購物籃\n",
    "#   [32,33...,62,63],\n",
    "#   [64,65,...,94,95]]]\n",
    "# 所以sum(dim=-1)代表[0,0,0,0]是padding的\n",
    "# .ne為not equal代表不等於0:  0:false  不是0:true\n",
    "# ~代表false->true, true->false"
   ]
  },
  {
   "cell_type": "code",
   "execution_count": null,
   "id": "0da1be2c",
   "metadata": {},
   "outputs": [],
   "source": [
    "test = torch.zeros((2, 4))\n",
    "test"
   ]
  },
  {
   "cell_type": "code",
   "execution_count": null,
   "id": "57304f57",
   "metadata": {},
   "outputs": [],
   "source": [
    "# 創建兩個矩陣\n",
    "tensor1 = torch.tensor([[1, 2, 3],\n",
    "                        [4, 5, 6]])\n",
    "\n",
    "tensor2 = torch.tensor([[7, 8, 9],\n",
    "                        [10, 11, 12]])\n",
    "# 按照行進行交叉穿插\n",
    "\n",
    "# 按照行進行交叉穿插\n",
    "result_column = torch.stack([(tensor1[:, i].tolist(), tensor2[:, i].tolist()) for i in range(tensor1.size(1))]).t().reshape(-1)"
   ]
  },
  {
   "cell_type": "code",
   "execution_count": null,
   "id": "3eb4b116",
   "metadata": {},
   "outputs": [],
   "source": [
    "a = torch.stack((tensor1, tensor2), dim=1).numpy()\n",
    "tensor3 = torch.from_numpy(a.reshape(-1,3)) # 3是 EMBEDDING_DIMENSION\n",
    "\n",
    "print(tensor3)"
   ]
  },
  {
   "cell_type": "code",
   "execution_count": null,
   "id": "a85d0442",
   "metadata": {},
   "outputs": [],
   "source": []
  }
 ],
 "metadata": {
  "kernelspec": {
   "display_name": "Python 3 (ipykernel)",
   "language": "python",
   "name": "python3"
  },
  "language_info": {
   "codemirror_mode": {
    "name": "ipython",
    "version": 3
   },
   "file_extension": ".py",
   "mimetype": "text/x-python",
   "name": "python",
   "nbconvert_exporter": "python",
   "pygments_lexer": "ipython3",
   "version": "3.11.5"
  }
 },
 "nbformat": 4,
 "nbformat_minor": 5
}
