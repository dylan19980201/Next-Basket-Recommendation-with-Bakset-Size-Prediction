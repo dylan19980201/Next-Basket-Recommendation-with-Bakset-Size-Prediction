{
 "cells": [
  {
   "cell_type": "markdown",
   "id": "e3b676ff",
   "metadata": {},
   "source": [
    "# 1. 載入套件"
   ]
  },
  {
   "cell_type": "code",
   "execution_count": null,
   "id": "a8d32e9f",
   "metadata": {},
   "outputs": [],
   "source": [
    "import numpy as np\n",
    "import pandas as pd\n",
    "from tqdm.notebook import tqdm # 進度條\n",
    "import os\n",
    "\n",
    "from gensim.models import Word2Vec\n",
    "import multiprocessing as mp\n",
    "print(\"Number of CPU cores:\", mp.cpu_count())"
   ]
  },
  {
   "cell_type": "markdown",
   "id": "164ca6eb",
   "metadata": {},
   "source": [
    "# 2.讀取資料"
   ]
  },
  {
   "cell_type": "markdown",
   "id": "ee9cfc16",
   "metadata": {},
   "source": [
    "- TaFeng Dataset\n",
    "- Dunnhumby Dataset\n",
    "- Instacart Dataset"
   ]
  },
  {
   "cell_type": "code",
   "execution_count": null,
   "id": "62eee72a",
   "metadata": {},
   "outputs": [],
   "source": [
    "dataset_name = \"TaFeng\"\n",
    "# dataset_name = \"Dunnhumby\"\n",
    "# dataset_name = \"Instacart\"\n",
    "df = pd.read_csv(\"../cleaned_dataset/\" + dataset_name + \"_clean.csv\")\n",
    "df"
   ]
  },
  {
   "cell_type": "markdown",
   "id": "ac1b6e38",
   "metadata": {},
   "source": [
    "# 3. Item2Vec方法\n",
    "\n",
    "## 使用gensim 的 Word2Vec (將window sizes設為很大)\n",
    "\n",
    "https://github.com/ikatsov/tensor-house/blob/master/recommendations/item2vec.ipynb"
   ]
  },
  {
   "cell_type": "code",
   "execution_count": null,
   "id": "fb9fc5d2",
   "metadata": {},
   "outputs": [],
   "source": [
    "# 建立一個cart_list(相當於句子)，其中每個 cart 還包含此購物車中所有item ID(相當於單詞) list。\n",
    "def make_item_corpus(df_list):\n",
    "    print(\"建立項目語料庫中...\")\n",
    "    item_list = []\n",
    "    cart_list = []\n",
    "    new_cart_id = df_list[0][0]\n",
    "    for (CART_ID, ITEM_ID) in tqdm(df_list):\n",
    "        if new_cart_id != CART_ID:\n",
    "            cart_list.append(item_list)\n",
    "            item_list = []\n",
    "            new_cart_id = CART_ID\n",
    "        item_list.append(item_list)\n",
    "    print(cart_list[:10])\n",
    "    return cart_list"
   ]
  },
  {
   "cell_type": "code",
   "execution_count": null,
   "id": "e63ba791",
   "metadata": {},
   "outputs": [],
   "source": [
    "def word2vec(cart_list, DATASET_NAME, TRAIN_ITEM_MODEL):\n",
    "    # TRAIN_ITEM_MODEL: True - create a new model, False - Load a previously created model\n",
    "    LOGGING_ENABLED = True\n",
    "    MODEL_DIR = \"../preprocessing-data/item2vec_models\"\n",
    "    \n",
    "    if not os.path.exists(MODEL_DIR):\n",
    "        os.makedirs(MODEL_DIR)\n",
    "        \n",
    "    if LOGGING_ENABLED:\n",
    "        import logging\n",
    "        logging.basicConfig(format=\"%(levelname)s - %(asctime)s : %(message)s\", datefmt=\"%H:%M:%S\", level=logging.INFO)\n",
    "    \n",
    "    # 設定嵌入維度\n",
    "    WORD_DIM = 32\n",
    "    model_filename = f\"../preprocessing-data/item2vec_models/{DATASET_NAME}/item2vec_{DATASET_NAME}.{WORD_DIM}d.model\"\n",
    "    if TRAIN_ITEM_MODEL:\n",
    "        model = Word2Vec(sentences = cart_list, \n",
    "                         vector_size = WORD_DIM,\n",
    "                         window = 500, \n",
    "                         sg = 1,\n",
    "                         hs = 0, \n",
    "                         negative = 5,\n",
    "                         ns_exponent = 0.75,\n",
    "                         workers = 4,\n",
    "                         min_count = 1)\n",
    "        model.save(model_filename)\n",
    "        print(f\"Model saved to [{model_filename}]\")\n",
    "        \n",
    "    else:\n",
    "        model = Word2Vec.load(model_filename)\n",
    "        print(f\"Model loaded from[{model_filename}]\")\n",
    "    return model"
   ]
  },
  {
   "cell_type": "markdown",
   "id": "b2e101f0",
   "metadata": {},
   "source": [
    "**1.TaFeng Dataset\\\n",
    "2.Dunnhumby Dataset\\\n",
    "3.Instacart Dataset**"
   ]
  },
  {
   "cell_type": "code",
   "execution_count": null,
   "id": "16559316",
   "metadata": {},
   "outputs": [],
   "source": [
    "# 購物車, 新項目id, 串列\n",
    "df_list = df[[\"CART_ID\", \"NEW_ITEM_ID\"]].values.tolist()\n",
    "df_list[:10]"
   ]
  },
  {
   "cell_type": "code",
   "execution_count": null,
   "id": "6f61d610",
   "metadata": {},
   "outputs": [],
   "source": [
    "cart_list = make_item_corpus(df_list)\n",
    "model = word2vec(cart_list, dataset_name, True) "
   ]
  },
  {
   "cell_type": "code",
   "execution_count": null,
   "id": "a4b301e0",
   "metadata": {},
   "outputs": [],
   "source": [
    "# Prepare the embeddings\n",
    "word_vectors = model.wv\n",
    "vocab = list(model.wv.key_to_index.keys())\n",
    "item2vector_dict = {arg:model.wv[arg] for arg in vocab}\n",
    "X = pd.DataFrame(item2vector_dict).T.values\n",
    "X.shape, len(vocab), vocab[0]"
   ]
  },
  {
   "cell_type": "markdown",
   "id": "31b2c5d5",
   "metadata": {},
   "source": [
    "## 檢查"
   ]
  },
  {
   "cell_type": "code",
   "execution_count": 2,
   "id": "02136ca9",
   "metadata": {},
   "outputs": [
    {
     "ename": "NameError",
     "evalue": "name 'model' is not defined",
     "output_type": "error",
     "traceback": [
      "\u001b[1;31m---------------------------------------------------------------------------\u001b[0m",
      "\u001b[1;31mNameError\u001b[0m                                 Traceback (most recent call last)",
      "Cell \u001b[1;32mIn[2], line 1\u001b[0m\n\u001b[1;32m----> 1\u001b[0m model\u001b[38;5;241m.\u001b[39mwv\u001b[38;5;241m.\u001b[39mkey_to_index\n",
      "\u001b[1;31mNameError\u001b[0m: name 'model' is not defined"
     ]
    }
   ],
   "source": [
    "model.wv.key_to_index"
   ]
  }
 ],
 "metadata": {
  "kernelspec": {
   "display_name": "Python 3 (ipykernel)",
   "language": "python",
   "name": "python3"
  },
  "language_info": {
   "codemirror_mode": {
    "name": "ipython",
    "version": 3
   },
   "file_extension": ".py",
   "mimetype": "text/x-python",
   "name": "python",
   "nbconvert_exporter": "python",
   "pygments_lexer": "ipython3",
   "version": "3.11.5"
  }
 },
 "nbformat": 4,
 "nbformat_minor": 5
}
